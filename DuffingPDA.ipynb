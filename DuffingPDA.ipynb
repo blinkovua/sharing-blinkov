{
 "cells": [
  {
   "cell_type": "code",
   "execution_count": 1,
   "id": "6e12bf93",
   "metadata": {},
   "outputs": [],
   "source": [
    "from IPython.display import display\n",
    "\n",
    "from sympy import *\n",
    "\n",
    "from monom import *"
   ]
  },
  {
   "cell_type": "code",
   "execution_count": 2,
   "id": "ba29e3a9",
   "metadata": {},
   "outputs": [],
   "source": [
    "eps, t, h, a, phi, h = symbols(r'\\varepsilon, t, h, a, \\varphi, h', real=True)\n",
    "u, u1 = (f(t) for f in symbols('u, u1', cls=Function))"
   ]
  },
  {
   "cell_type": "code",
   "execution_count": 3,
   "id": "0e4badc8",
   "metadata": {},
   "outputs": [
    {
     "data": {
      "text/latex": [
       "$\\displaystyle \\varepsilon u^{3}{\\left(t \\right)} + u{\\left(t \\right)} + \\frac{d^{2}}{d t^{2}} u{\\left(t \\right)}$"
      ],
      "text/plain": [
       "\\varepsilon*u(t)**3 + u(t) + Derivative(u(t), (t, 2))"
      ]
     },
     "execution_count": 3,
     "metadata": {},
     "output_type": "execute_result"
    }
   ],
   "source": [
    "eq = u.diff(t, 2)  + u + eps*u**3\n",
    "eq"
   ]
  },
  {
   "cell_type": "markdown",
   "id": "3bdd78ac",
   "metadata": {},
   "source": [
    "Первый интеграл 123\n",
    "\n",
    "https://disk.yandex.ru/i/ng5ws4p2rYTcQA"
   ]
  },
  {
   "cell_type": "code",
   "execution_count": 4,
   "id": "61def96d",
   "metadata": {},
   "outputs": [],
   "source": [
    "eq1 = (u.diff(t)**2/2 + u**2/2 + eps*u**4/4) - h"
   ]
  },
  {
   "cell_type": "code",
   "execution_count": 5,
   "id": "fa3202c6",
   "metadata": {},
   "outputs": [
    {
     "data": {
      "text/latex": [
       "$\\displaystyle 0$"
      ],
      "text/plain": [
       "0"
      ]
     },
     "execution_count": 5,
     "metadata": {},
     "output_type": "execute_result"
    }
   ],
   "source": [
    "expand(eq1.diff(t) - eq*u.diff(t))"
   ]
  },
  {
   "cell_type": "markdown",
   "id": "f86a6578",
   "metadata": {},
   "source": [
    "Методика Линдштедта—Пуанкаре 129\n",
    "Метод многих масштабов 137"
   ]
  },
  {
   "cell_type": "code",
   "execution_count": 6,
   "id": "730ced43",
   "metadata": {},
   "outputs": [],
   "source": [
    "s = t*(1 + 3*a**2*eps/8)\n",
    "us = a*cos(s + phi) + eps/32*a**3*cos(3*(s + phi))"
   ]
  },
  {
   "cell_type": "code",
   "execution_count": 7,
   "id": "e077d289",
   "metadata": {},
   "outputs": [
    {
     "data": {
      "text/latex": [
       "$\\displaystyle a \\cos{\\left(\\varphi + t \\right)}$"
      ],
      "text/plain": [
       "a*cos(\\varphi + t)"
      ]
     },
     "execution_count": 7,
     "metadata": {},
     "output_type": "execute_result"
    }
   ],
   "source": [
    "us.diff(eps, 0).subs(eps, 0).trigsimp()"
   ]
  },
  {
   "cell_type": "code",
   "execution_count": 8,
   "id": "f880f383",
   "metadata": {},
   "outputs": [
    {
     "data": {
      "text/latex": [
       "$\\displaystyle \\frac{a^{3} \\left(- 12 t \\sin{\\left(\\varphi + t \\right)} + \\cos{\\left(3 \\left(\\varphi + t\\right) \\right)}\\right)}{32}$"
      ],
      "text/plain": [
       "a**3*(-12*t*sin(\\varphi + t) + cos(3*(\\varphi + t)))/32"
      ]
     },
     "execution_count": 8,
     "metadata": {},
     "output_type": "execute_result"
    }
   ],
   "source": [
    "us.diff(eps, 1).subs(eps, 0).trigsimp()"
   ]
  },
  {
   "cell_type": "code",
   "execution_count": 9,
   "id": "f7770bd2",
   "metadata": {},
   "outputs": [
    {
     "data": {
      "text/latex": [
       "$\\displaystyle - \\frac{9 a^{5} t \\left(2 t \\cos{\\left(\\varphi + t \\right)} + \\sin{\\left(3 \\left(\\varphi + t\\right) \\right)}\\right)}{128}$"
      ],
      "text/plain": [
       "-9*a**5*t*(2*t*cos(\\varphi + t) + sin(3*(\\varphi + t)))/128"
      ]
     },
     "execution_count": 9,
     "metadata": {},
     "output_type": "execute_result"
    }
   ],
   "source": [
    "us.diff(eps, 2).subs(eps, 0).trigsimp()"
   ]
  },
  {
   "cell_type": "code",
   "execution_count": 10,
   "id": "330c9c9e",
   "metadata": {},
   "outputs": [
    {
     "data": {
      "text/latex": [
       "$\\displaystyle \\frac{\\varepsilon a^{3} \\cos{\\left(3 \\varphi + 3 t \\left(\\frac{3 \\varepsilon a^{2}}{8} + 1\\right) \\right)}}{32} + \\varepsilon \\left(\\frac{\\varepsilon a^{3} \\cos{\\left(3 \\varphi + 3 t \\left(\\frac{3 \\varepsilon a^{2}}{8} + 1\\right) \\right)}}{32} + a \\cos{\\left(\\varphi + t \\left(\\frac{3 \\varepsilon a^{2}}{8} + 1\\right) \\right)}\\right)^{3} - \\frac{a \\left(3 \\varepsilon a^{2} + 8\\right)^{2} \\left(9 \\varepsilon a^{2} \\cos{\\left(3 \\left(\\varphi + \\frac{t \\left(3 \\varepsilon a^{2} + 8\\right)}{8}\\right) \\right)} + 32 \\cos{\\left(\\varphi + \\frac{t \\left(3 \\varepsilon a^{2} + 8\\right)}{8} \\right)}\\right)}{2048} + a \\cos{\\left(\\varphi + t \\left(\\frac{3 \\varepsilon a^{2}}{8} + 1\\right) \\right)}$"
      ],
      "text/plain": [
       "\\varepsilon*a**3*cos(3*\\varphi + 3*t*(3*\\varepsilon*a**2/8 + 1))/32 + \\varepsilon*(\\varepsilon*a**3*cos(3*\\varphi + 3*t*(3*\\varepsilon*a**2/8 + 1))/32 + a*cos(\\varphi + t*(3*\\varepsilon*a**2/8 + 1)))**3 - a*(3*\\varepsilon*a**2 + 8)**2*(9*\\varepsilon*a**2*cos(3*(\\varphi + t*(3*\\varepsilon*a**2 + 8)/8)) + 32*cos(\\varphi + t*(3*\\varepsilon*a**2 + 8)/8))/2048 + a*cos(\\varphi + t*(3*\\varepsilon*a**2/8 + 1))"
      ]
     },
     "execution_count": 10,
     "metadata": {},
     "output_type": "execute_result"
    }
   ],
   "source": [
    "eq1 = eq.subs(u, us).doit()\n",
    "eq1"
   ]
  },
  {
   "cell_type": "code",
   "execution_count": 11,
   "id": "756974d8",
   "metadata": {},
   "outputs": [
    {
     "data": {
      "text/latex": [
       "$\\displaystyle 0$"
      ],
      "text/plain": [
       "0"
      ]
     },
     "execution_count": 11,
     "metadata": {},
     "output_type": "execute_result"
    }
   ],
   "source": [
    "eq1.diff(eps, 0).subs(eps, 0).trigsimp()"
   ]
  },
  {
   "cell_type": "code",
   "execution_count": 12,
   "id": "7ad50557",
   "metadata": {},
   "outputs": [
    {
     "data": {
      "text/latex": [
       "$\\displaystyle 0$"
      ],
      "text/plain": [
       "0"
      ]
     },
     "execution_count": 12,
     "metadata": {},
     "output_type": "execute_result"
    }
   ],
   "source": [
    "eq1.diff(eps, 1).subs(eps, 0).trigsimp()"
   ]
  },
  {
   "cell_type": "code",
   "execution_count": 13,
   "id": "65439d9b",
   "metadata": {},
   "outputs": [
    {
     "data": {
      "text/latex": [
       "$\\displaystyle \\frac{3 a^{5} \\left(- 5 \\cos{\\left(\\varphi + t \\right)} - 7 \\cos{\\left(3 \\left(\\varphi + t\\right) \\right)} + \\cos{\\left(5 \\left(\\varphi + t\\right) \\right)}\\right)}{64}$"
      ],
      "text/plain": [
       "3*a**5*(-5*cos(\\varphi + t) - 7*cos(3*(\\varphi + t)) + cos(5*(\\varphi + t)))/64"
      ]
     },
     "execution_count": 13,
     "metadata": {},
     "output_type": "execute_result"
    }
   ],
   "source": [
    "eq1.diff(eps, 2).subs(eps, 0).trigsimp()"
   ]
  },
  {
   "cell_type": "code",
   "execution_count": 14,
   "id": "b9496bd0",
   "metadata": {},
   "outputs": [],
   "source": [
    "pda_f, pda_v = (u, u1), (t,)\n",
    "pda_n, pda_clp = 9, 7\n",
    "pda_p = Rational(0, 1),"
   ]
  },
  {
   "cell_type": "code",
   "execution_count": 15,
   "id": "519dc5e1",
   "metadata": {},
   "outputs": [],
   "source": [
    "Monom.variables = 1 + len(pda_v)\n",
    "Monom.cmp = Monom.TOPdeglex\n",
    "Monom.zero = Monom(0 for v in range(Monom.variables))\n",
    "pda_fun = dict(zip(pda_f,\\\n",
    "             (Monom(0 if v else i for v in range(Monom.variables))\\\n",
    "              for i in range(1, 1 + len(pda_f)))))\n",
    "pda_var = dict(zip(pda_v,\\\n",
    "             (Monom(0 if v != i else 1 for v in range(Monom.variables))\\\n",
    "              for i in range(1, Monom.variables))))"
   ]
  },
  {
   "cell_type": "code",
   "execution_count": 16,
   "id": "ce1c9dcc",
   "metadata": {},
   "outputs": [],
   "source": [
    "def T(f, j1):\n",
    "    return sum(\\\n",
    "        diff(f, t, j)*(h*(j1-pda_p[0]))**j/\\\n",
    "                 (factorial(j))\\\n",
    "        for j in range(pda_n))"
   ]
  },
  {
   "cell_type": "code",
   "execution_count": 17,
   "id": "76112fb8",
   "metadata": {},
   "outputs": [
    {
     "data": {
      "text/latex": [
       "$\\displaystyle \\frac{h^{6} \\frac{d^{7}}{d t^{7}} u{\\left(t \\right)}}{5040} + \\frac{h^{4} \\frac{d^{5}}{d t^{5}} u{\\left(t \\right)}}{120} + \\frac{h^{2} \\frac{d^{3}}{d t^{3}} u{\\left(t \\right)}}{6} + \\frac{d}{d t} u{\\left(t \\right)}$"
      ],
      "text/plain": [
       "h**6*Derivative(u(t), (t, 7))/5040 + h**4*Derivative(u(t), (t, 5))/120 + h**2*Derivative(u(t), (t, 3))/6 + Derivative(u(t), t)"
      ]
     },
     "execution_count": 17,
     "metadata": {},
     "output_type": "execute_result"
    }
   ],
   "source": [
    "expand((T(u, 1)-T(u, -1))/(2*h))"
   ]
  },
  {
   "cell_type": "code",
   "execution_count": 18,
   "id": "8f7c7f0e",
   "metadata": {},
   "outputs": [],
   "source": [
    "def clip(f):\n",
    "    f = f.expand()\n",
    "    return [f.coeff(h, i) for i in range(pda_clp)]\n",
    "\n",
    "def df2m(a):\n",
    "    assert a.func == Derivative\n",
    "    m = pda_fun[a.args[0]]\n",
    "    for xi in a.args[1:]:\n",
    "        if isinstance(xi, Symbol):\n",
    "            m = m*pda_var[xi]\n",
    "        else:\n",
    "            m = m*pda_var[xi[0]]**xi[1]\n",
    "    return m\n",
    "\n",
    "def m2df(m):\n",
    "    r = pda_f[m[0]-1]\n",
    "    for i in range(1, len(m)):\n",
    "        r = r.diff(pda_v[i-1], m[i])\n",
    "    return r\n",
    "\n",
    "def findDiv(a, d):\n",
    "    r = None\n",
    "    def find(a, r):\n",
    "        if a.args:\n",
    "            if a.func == Derivative and a.args[0] in pda_fun:\n",
    "                m = df2m(a)\n",
    "                if m.divisible(d) and (not r or m.cmp(r) > 0):\n",
    "                    r = m\n",
    "            else:\n",
    "                for s in a.args:\n",
    "                    r = find(s, r)\n",
    "        return r\n",
    "    return find(a, r)\n",
    "\n",
    "def reduction(f1, f2, m, c, shift):\n",
    "    assert shift < pda_clp\n",
    "    r = [f1[i] for i in range(shift)]\n",
    "    if not m:\n",
    "        for i in range(shift, pda_clp):\n",
    "            r.append(expand(f1[i] - f2[i-shift]*c))\n",
    "    else:\n",
    "        for i in range(shift, pda_clp):\n",
    "            r.append(expand(f1[i] - f2[i-shift].diff(*m)*c))\n",
    "    return r\n",
    "\n",
    "def NF(f, df, G, head=False, trace=False):\n",
    "    assert len(df) == len(G)\n",
    "#     print(df2m(df[0]))\n",
    "    ms = [df2m(d) for d in df]\n",
    "    for i in range(0 if head else 1, pda_clp):\n",
    "        t = 0\n",
    "        if f[i]:\n",
    "            while True:\n",
    "                r = None\n",
    "                for l in range(len(ms)):\n",
    "                    r = findDiv(f[i], ms[l])\n",
    "                    if r:\n",
    "                        break\n",
    "                if not r: \n",
    "                    break\n",
    "                c, deg, m = 0, 7, m2df(r)\n",
    "                while c == 0:\n",
    "                    c = f[i].coeff(m, deg)\n",
    "                    deg -= 1\n",
    "                    assert deg >= 0\n",
    "#                 print(c, m, deg+1)\n",
    "                if deg:\n",
    "                    c *= m**deg\n",
    "                m = r/ms[l]\n",
    "                d = []\n",
    "                for k in range(len(pda_v)):\n",
    "                    if m[k+1] > 0:\n",
    "                        d.append(pda_v[k])\n",
    "                        if m[k+1] > 1:\n",
    "                            d.append(m[k+1])\n",
    "                if trace:\n",
    "                    print(\">\"*12)\n",
    "                    eq = Symbol(\"eq%d\" % (l+1), real=True)\n",
    "                    if d:\n",
    "                        display(Derivative(*tuple([eq] + d))*c*h**i)\n",
    "                    else:\n",
    "                        display(eq*c*h**i)\n",
    "                f = reduction(f, G[l], tuple(d), c/G[l][0].coeff(df[l]), i)\n",
    "                if trace:\n",
    "                    print(\"res =\")\n",
    "                    display(f)\n",
    "                    print(\"<\"*12)\n",
    "                t += 1\n",
    "#                 if t > 6: break\n",
    "    return f\n",
    "\n",
    "def compact(f):\n",
    "    def cmpct(a):\n",
    "        if not a.args:\n",
    "            return a\n",
    "        else:\n",
    "            if a in pda_fun:\n",
    "                return Symbol(\"%s\" % a.func, real=True)\n",
    "            elif a.func == Derivative and a.args[0] in pda_fun:\n",
    "                m = []\n",
    "                for xi in a.args[1:]:\n",
    "                    if isinstance(xi, Symbol):\n",
    "                        m.append(str(xi))\n",
    "                    else:\n",
    "                        m.append(str(xi[0])*xi[1])\n",
    "                return Symbol(\"%s_{%s}\" % (a.args[0].func, \"\".join(m)), real=True)\n",
    "            else:\n",
    "                return a.func(*tuple(cmpct(s) for s in a.args))\n",
    "    return cmpct(f)\n",
    "\n",
    "def prn(a):\n",
    "    for i in range(pda_clp):\n",
    "        print(\"h^%d =>\" % i)\n",
    "        display(compact(a[i]).collect(eps, factor))\n",
    "    \n",
    "def prnlatex(a):\n",
    "    print(latex(compact(a[0]).collect(eps, factor)))\n",
    "    print(r\"+h\\big(\")\n",
    "    print(latex(compact(a[1]).collect(eps, factor))) \n",
    "    print(r\"\\big)\")\n",
    "    for i in range(2, pda_clp):\n",
    "        print(r\"+h^%d\\big(\" % i)\n",
    "        print(latex(compact(a[i]).collect(eps, factor))) \n",
    "        print(r\"\\big)\") "
   ]
  },
  {
   "cell_type": "code",
   "execution_count": 19,
   "id": "77ab3f87",
   "metadata": {},
   "outputs": [],
   "source": [
    "def Dtt(a):\n",
    "    return (T(a, 1) - 2*T(a, 0) + T(a, -1))/h**2\n",
    "def Dt(a):\n",
    "    return (T(a, 1) - T(a, -1))/h"
   ]
  },
  {
   "cell_type": "code",
   "execution_count": 20,
   "id": "8a73198b",
   "metadata": {},
   "outputs": [
    {
     "data": {
      "text/latex": [
       "$\\displaystyle \\varepsilon u^{3}{\\left(t \\right)} + \\frac{h^{6} \\frac{d^{8}}{d t^{8}} u{\\left(t \\right)}}{20160} + \\frac{h^{4} \\frac{d^{6}}{d t^{6}} u{\\left(t \\right)}}{360} + \\frac{h^{2} \\frac{d^{4}}{d t^{4}} u{\\left(t \\right)}}{12} + u{\\left(t \\right)} + \\frac{d^{2}}{d t^{2}} u{\\left(t \\right)}$"
      ],
      "text/plain": [
       "\\varepsilon*u(t)**3 + h**6*Derivative(u(t), (t, 8))/20160 + h**4*Derivative(u(t), (t, 6))/360 + h**2*Derivative(u(t), (t, 4))/12 + u(t) + Derivative(u(t), (t, 2))"
      ]
     },
     "execution_count": 20,
     "metadata": {},
     "output_type": "execute_result"
    }
   ],
   "source": [
    "s1 = expand(Dtt(u) + u + eps*T(u**3, 0))\n",
    "s1"
   ]
  },
  {
   "cell_type": "code",
   "execution_count": 21,
   "id": "22544301",
   "metadata": {},
   "outputs": [
    {
     "name": "stdout",
     "output_type": "stream",
     "text": [
      "h^0 =>\n"
     ]
    },
    {
     "data": {
      "text/latex": [
       "$\\displaystyle \\varepsilon u^{3} + u + u_{tt}$"
      ],
      "text/plain": [
       "\\varepsilon*u**3 + u + u_{tt}"
      ]
     },
     "metadata": {},
     "output_type": "display_data"
    },
    {
     "name": "stdout",
     "output_type": "stream",
     "text": [
      "h^1 =>\n"
     ]
    },
    {
     "data": {
      "text/latex": [
       "$\\displaystyle 0$"
      ],
      "text/plain": [
       "0"
      ]
     },
     "metadata": {},
     "output_type": "display_data"
    },
    {
     "name": "stdout",
     "output_type": "stream",
     "text": [
      "h^2 =>\n"
     ]
    },
    {
     "data": {
      "text/latex": [
       "$\\displaystyle \\frac{u_{tttt}}{12}$"
      ],
      "text/plain": [
       "u_{tttt}/12"
      ]
     },
     "metadata": {},
     "output_type": "display_data"
    },
    {
     "name": "stdout",
     "output_type": "stream",
     "text": [
      "h^3 =>\n"
     ]
    },
    {
     "data": {
      "text/latex": [
       "$\\displaystyle 0$"
      ],
      "text/plain": [
       "0"
      ]
     },
     "metadata": {},
     "output_type": "display_data"
    },
    {
     "name": "stdout",
     "output_type": "stream",
     "text": [
      "h^4 =>\n"
     ]
    },
    {
     "data": {
      "text/latex": [
       "$\\displaystyle \\frac{u_{tttttt}}{360}$"
      ],
      "text/plain": [
       "u_{tttttt}/360"
      ]
     },
     "metadata": {},
     "output_type": "display_data"
    },
    {
     "name": "stdout",
     "output_type": "stream",
     "text": [
      "h^5 =>\n"
     ]
    },
    {
     "data": {
      "text/latex": [
       "$\\displaystyle 0$"
      ],
      "text/plain": [
       "0"
      ]
     },
     "metadata": {},
     "output_type": "display_data"
    },
    {
     "name": "stdout",
     "output_type": "stream",
     "text": [
      "h^6 =>\n"
     ]
    },
    {
     "data": {
      "text/latex": [
       "$\\displaystyle \\frac{u_{tttttttt}}{20160}$"
      ],
      "text/plain": [
       "u_{tttttttt}/20160"
      ]
     },
     "metadata": {},
     "output_type": "display_data"
    }
   ],
   "source": [
    "F1 = clip(s1)\n",
    "prn(F1)"
   ]
  },
  {
   "cell_type": "code",
   "execution_count": 22,
   "id": "bb36e7ac",
   "metadata": {},
   "outputs": [
    {
     "name": "stdout",
     "output_type": "stream",
     "text": [
      "h^0 =>\n"
     ]
    },
    {
     "data": {
      "text/latex": [
       "$\\displaystyle \\varepsilon u^{3} + u + u_{tt}$"
      ],
      "text/plain": [
       "\\varepsilon*u**3 + u + u_{tt}"
      ]
     },
     "metadata": {},
     "output_type": "display_data"
    },
    {
     "name": "stdout",
     "output_type": "stream",
     "text": [
      "h^1 =>\n"
     ]
    },
    {
     "data": {
      "text/latex": [
       "$\\displaystyle 0$"
      ],
      "text/plain": [
       "0"
      ]
     },
     "metadata": {},
     "output_type": "display_data"
    },
    {
     "name": "stdout",
     "output_type": "stream",
     "text": [
      "h^2 =>\n"
     ]
    },
    {
     "data": {
      "text/latex": [
       "$\\displaystyle \\frac{\\varepsilon^{2} u^{5}}{4} + \\frac{\\varepsilon u \\left(2 u^{2} - 3 u_{t}^{2}\\right)}{6} + \\frac{u}{12}$"
      ],
      "text/plain": [
       "\\varepsilon**2*u**5/4 + \\varepsilon*u*(2*u**2 - 3*u_{t}**2)/6 + u/12"
      ]
     },
     "metadata": {},
     "output_type": "display_data"
    },
    {
     "name": "stdout",
     "output_type": "stream",
     "text": [
      "h^3 =>\n"
     ]
    },
    {
     "data": {
      "text/latex": [
       "$\\displaystyle 0$"
      ],
      "text/plain": [
       "0"
      ]
     },
     "metadata": {},
     "output_type": "display_data"
    },
    {
     "name": "stdout",
     "output_type": "stream",
     "text": [
      "h^4 =>\n"
     ]
    },
    {
     "data": {
      "text/latex": [
       "$\\displaystyle \\frac{7 \\varepsilon^{3} u^{7}}{40} + \\frac{\\varepsilon^{2} u^{3} \\left(19 u^{2} - 39 u_{t}^{2}\\right)}{60} + \\frac{\\varepsilon u \\left(55 u^{2} - 114 u_{t}^{2}\\right)}{360} + \\frac{u}{90}$"
      ],
      "text/plain": [
       "7*\\varepsilon**3*u**7/40 + \\varepsilon**2*u**3*(19*u**2 - 39*u_{t}**2)/60 + \\varepsilon*u*(55*u**2 - 114*u_{t}**2)/360 + u/90"
      ]
     },
     "metadata": {},
     "output_type": "display_data"
    },
    {
     "name": "stdout",
     "output_type": "stream",
     "text": [
      "h^5 =>\n"
     ]
    },
    {
     "data": {
      "text/latex": [
       "$\\displaystyle 0$"
      ],
      "text/plain": [
       "0"
      ]
     },
     "metadata": {},
     "output_type": "display_data"
    },
    {
     "name": "stdout",
     "output_type": "stream",
     "text": [
      "h^6 =>\n"
     ]
    },
    {
     "data": {
      "text/latex": [
       "$\\displaystyle \\frac{23 \\varepsilon^{4} u^{9}}{120} + \\frac{\\varepsilon^{3} u^{5} \\left(247 u^{2} - 714 u_{t}^{2}\\right)}{560} + \\frac{\\varepsilon^{2} u \\left(543 u^{4} - 2060 u^{2} u_{t}^{2} + 420 u_{t}^{4}\\right)}{1680} + \\frac{\\varepsilon u \\left(381 u^{2} - 874 u_{t}^{2}\\right)}{5040} + \\frac{u}{560}$"
      ],
      "text/plain": [
       "23*\\varepsilon**4*u**9/120 + \\varepsilon**3*u**5*(247*u**2 - 714*u_{t}**2)/560 + \\varepsilon**2*u*(543*u**4 - 2060*u**2*u_{t}**2 + 420*u_{t}**4)/1680 + \\varepsilon*u*(381*u**2 - 874*u_{t}**2)/5040 + u/560"
      ]
     },
     "metadata": {},
     "output_type": "display_data"
    },
    {
     "name": "stdout",
     "output_type": "stream",
     "text": [
      "\\varepsilon u^{3} + u + u_{tt}\n",
      "+h\\big(\n",
      "0\n",
      "\\big)\n",
      "+h^2\\big(\n",
      "\\frac{\\varepsilon^{2} u^{5}}{4} + \\frac{\\varepsilon u \\left(2 u^{2} - 3 u_{t}^{2}\\right)}{6} + \\frac{u}{12}\n",
      "\\big)\n",
      "+h^3\\big(\n",
      "0\n",
      "\\big)\n",
      "+h^4\\big(\n",
      "\\frac{7 \\varepsilon^{3} u^{7}}{40} + \\frac{\\varepsilon^{2} u^{3} \\left(19 u^{2} - 39 u_{t}^{2}\\right)}{60} + \\frac{\\varepsilon u \\left(55 u^{2} - 114 u_{t}^{2}\\right)}{360} + \\frac{u}{90}\n",
      "\\big)\n",
      "+h^5\\big(\n",
      "0\n",
      "\\big)\n",
      "+h^6\\big(\n",
      "\\frac{23 \\varepsilon^{4} u^{9}}{120} + \\frac{\\varepsilon^{3} u^{5} \\left(247 u^{2} - 714 u_{t}^{2}\\right)}{560} + \\frac{\\varepsilon^{2} u \\left(543 u^{4} - 2060 u^{2} u_{t}^{2} + 420 u_{t}^{4}\\right)}{1680} + \\frac{\\varepsilon u \\left(381 u^{2} - 874 u_{t}^{2}\\right)}{5040} + \\frac{u}{560}\n",
      "\\big)\n"
     ]
    }
   ],
   "source": [
    "f1 = NF(F1, [u.diff(t, 2)], [F1], head=False)\n",
    "prn(f1)\n",
    "prnlatex(f1)"
   ]
  },
  {
   "cell_type": "code",
   "execution_count": 23,
   "id": "a5195d6b",
   "metadata": {},
   "outputs": [],
   "source": [
    "pda2 = f1[2].subs(u, us).doit()"
   ]
  },
  {
   "cell_type": "code",
   "execution_count": 24,
   "id": "ba86a794",
   "metadata": {},
   "outputs": [
    {
     "data": {
      "text/latex": [
       "$\\displaystyle \\frac{a \\cos{\\left(\\varphi + t \\right)}}{12}$"
      ],
      "text/plain": [
       "a*cos(\\varphi + t)/12"
      ]
     },
     "execution_count": 24,
     "metadata": {},
     "output_type": "execute_result"
    }
   ],
   "source": [
    "pda2.diff(eps, 0).subs(eps, 0).trigsimp()"
   ]
  },
  {
   "cell_type": "code",
   "execution_count": 25,
   "id": "96efe412",
   "metadata": {},
   "outputs": [
    {
     "data": {
      "text/latex": [
       "$\\displaystyle \\frac{a^{3} \\left(- 4 t \\sin{\\left(\\varphi + t \\right)} + 16 \\cos{\\left(\\varphi + t \\right)} + 27 \\cos{\\left(3 \\left(\\varphi + t\\right) \\right)}\\right)}{128}$"
      ],
      "text/plain": [
       "a**3*(-4*t*sin(\\varphi + t) + 16*cos(\\varphi + t) + 27*cos(3*(\\varphi + t)))/128"
      ]
     },
     "execution_count": 25,
     "metadata": {},
     "output_type": "execute_result"
    }
   ],
   "source": [
    "pda2.diff(eps, 1).subs(eps, 0).trigsimp()"
   ]
  },
  {
   "cell_type": "code",
   "execution_count": 26,
   "id": "c5c93264",
   "metadata": {},
   "outputs": [
    {
     "data": {
      "text/latex": [
       "$\\displaystyle \\frac{a^{5} \\left(- 768 t^{2} \\cos{\\left(\\varphi + t \\right)} - 384 t \\sin{\\left(3 \\left(\\varphi + t\\right) \\right)} + 256 \\left(96 t \\sin{\\left(\\varphi + t \\right)} - 8 \\cos{\\left(3 \\left(\\varphi + t\\right) \\right)}\\right) \\sin^{2}{\\left(\\varphi + t \\right)} - 512 \\left(96 t \\sin{\\left(\\varphi + t \\right)} - 8 \\cos{\\left(3 \\left(\\varphi + t\\right) \\right)}\\right) \\cos^{2}{\\left(\\varphi + t \\right)} - 12288 \\left(4 t \\cos{\\left(\\varphi + t \\right)} + 4 \\sin{\\left(\\varphi + t \\right)} + \\sin{\\left(3 \\left(\\varphi + t\\right) \\right)}\\right) \\sin{\\left(\\varphi + t \\right)} \\cos{\\left(\\varphi + t \\right)} + 32768 \\cos^{5}{\\left(\\varphi + t \\right)}\\right)}{65536}$"
      ],
      "text/plain": [
       "a**5*(-768*t**2*cos(\\varphi + t) - 384*t*sin(3*(\\varphi + t)) + 256*(96*t*sin(\\varphi + t) - 8*cos(3*(\\varphi + t)))*sin(\\varphi + t)**2 - 512*(96*t*sin(\\varphi + t) - 8*cos(3*(\\varphi + t)))*cos(\\varphi + t)**2 - 12288*(4*t*cos(\\varphi + t) + 4*sin(\\varphi + t) + sin(3*(\\varphi + t)))*sin(\\varphi + t)*cos(\\varphi + t) + 32768*cos(\\varphi + t)**5)/65536"
      ]
     },
     "execution_count": 26,
     "metadata": {},
     "output_type": "execute_result"
    }
   ],
   "source": [
    "pda2.diff(eps, 2).subs(eps, 0).trigsimp()"
   ]
  },
  {
   "cell_type": "code",
   "execution_count": null,
   "id": "68f63875",
   "metadata": {},
   "outputs": [],
   "source": []
  },
  {
   "cell_type": "code",
   "execution_count": 27,
   "id": "529c533e",
   "metadata": {},
   "outputs": [],
   "source": [
    "def RK4(f, y):\n",
    "    k1 = f(y)\n",
    "    k2 = f(y + h/2*k1)\n",
    "    k3 = f(y + h/2*k2)\n",
    "    k4 = f(y + h*k3)\n",
    "    return expand((k1 + 2*k2 + 2*k3 + k4)/6)"
   ]
  },
  {
   "cell_type": "code",
   "execution_count": 28,
   "id": "4b42c34b",
   "metadata": {},
   "outputs": [
    {
     "data": {
      "text/latex": [
       "$\\displaystyle \\left[\\begin{matrix}\\frac{\\varepsilon^{4} h^{7} u^{9}{\\left(t \\right)}}{384} + \\frac{\\varepsilon^{3} h^{7} u^{7}{\\left(t \\right)}}{128} - \\frac{\\varepsilon^{3} h^{6} u^{6}{\\left(t \\right)} \\operatorname{u_{1}}{\\left(t \\right)}}{64} - \\frac{\\varepsilon^{3} h^{5} u^{7}{\\left(t \\right)}}{32} + \\frac{\\varepsilon^{2} h^{7} u^{5}{\\left(t \\right)}}{128} - \\frac{\\varepsilon^{2} h^{6} u^{4}{\\left(t \\right)} \\operatorname{u_{1}}{\\left(t \\right)}}{32} - \\frac{\\varepsilon^{2} h^{5} u^{5}{\\left(t \\right)}}{16} + \\frac{\\varepsilon^{2} h^{5} u^{3}{\\left(t \\right)} \\operatorname{u_{1}}^{2}{\\left(t \\right)}}{32} + \\frac{\\varepsilon^{2} h^{4} u^{4}{\\left(t \\right)} \\operatorname{u_{1}}{\\left(t \\right)}}{8} + \\frac{\\varepsilon^{2} h^{3} u^{5}{\\left(t \\right)}}{8} + \\frac{\\varepsilon h^{7} u^{3}{\\left(t \\right)}}{384} - \\frac{\\varepsilon h^{6} u^{2}{\\left(t \\right)} \\operatorname{u_{1}}{\\left(t \\right)}}{64} - \\frac{\\varepsilon h^{5} u^{3}{\\left(t \\right)}}{32} + \\frac{\\varepsilon h^{5} u{\\left(t \\right)} \\operatorname{u_{1}}^{2}{\\left(t \\right)}}{32} + \\frac{\\varepsilon h^{4} u^{2}{\\left(t \\right)} \\operatorname{u_{1}}{\\left(t \\right)}}{8} - \\frac{\\varepsilon h^{4} \\operatorname{u_{1}}^{3}{\\left(t \\right)}}{24} + \\frac{\\varepsilon h^{3} u^{3}{\\left(t \\right)}}{6} - \\frac{\\varepsilon h^{3} u{\\left(t \\right)} \\operatorname{u_{1}}^{2}{\\left(t \\right)}}{4} - \\frac{\\varepsilon h^{2} u^{2}{\\left(t \\right)} \\operatorname{u_{1}}{\\left(t \\right)}}{2} - \\frac{\\varepsilon h u^{3}{\\left(t \\right)}}{2} + \\frac{h^{3} u{\\left(t \\right)}}{24} - \\frac{h^{2} \\operatorname{u_{1}}{\\left(t \\right)}}{6} - \\frac{h u{\\left(t \\right)}}{2} + \\operatorname{u_{1}}{\\left(t \\right)}\\\\\\frac{\\varepsilon^{4} h^{15} \\operatorname{u_{1}}^{9}{\\left(t \\right)}}{24576} + \\frac{3 \\varepsilon^{4} h^{14} u{\\left(t \\right)} \\operatorname{u_{1}}^{8}{\\left(t \\right)}}{4096} + \\frac{3 \\varepsilon^{4} h^{13} u^{2}{\\left(t \\right)} \\operatorname{u_{1}}^{7}{\\left(t \\right)}}{512} + \\frac{7 \\varepsilon^{4} h^{12} u^{3}{\\left(t \\right)} \\operatorname{u_{1}}^{6}{\\left(t \\right)}}{256} + \\frac{21 \\varepsilon^{4} h^{11} u^{4}{\\left(t \\right)} \\operatorname{u_{1}}^{5}{\\left(t \\right)}}{256} + \\frac{21 \\varepsilon^{4} h^{10} u^{5}{\\left(t \\right)} \\operatorname{u_{1}}^{4}{\\left(t \\right)}}{128} + \\frac{7 \\varepsilon^{4} h^{9} u^{6}{\\left(t \\right)} \\operatorname{u_{1}}^{3}{\\left(t \\right)}}{32} + \\frac{3 \\varepsilon^{4} h^{8} u^{7}{\\left(t \\right)} \\operatorname{u_{1}}^{2}{\\left(t \\right)}}{16} + \\frac{3 \\varepsilon^{4} h^{7} u^{8}{\\left(t \\right)} \\operatorname{u_{1}}{\\left(t \\right)}}{32} + \\frac{5 \\varepsilon^{4} h^{6} u^{9}{\\left(t \\right)}}{192} + \\frac{\\varepsilon^{3} h^{13} \\operatorname{u_{1}}^{7}{\\left(t \\right)}}{2048} + \\frac{7 \\varepsilon^{3} h^{12} u{\\left(t \\right)} \\operatorname{u_{1}}^{6}{\\left(t \\right)}}{1024} + \\frac{21 \\varepsilon^{3} h^{11} u^{2}{\\left(t \\right)} \\operatorname{u_{1}}^{5}{\\left(t \\right)}}{512} - \\frac{\\varepsilon^{3} h^{11} \\operatorname{u_{1}}^{7}{\\left(t \\right)}}{512} + \\frac{35 \\varepsilon^{3} h^{10} u^{3}{\\left(t \\right)} \\operatorname{u_{1}}^{4}{\\left(t \\right)}}{256} - \\frac{13 \\varepsilon^{3} h^{10} u{\\left(t \\right)} \\operatorname{u_{1}}^{6}{\\left(t \\right)}}{512} + \\frac{35 \\varepsilon^{3} h^{9} u^{4}{\\left(t \\right)} \\operatorname{u_{1}}^{3}{\\left(t \\right)}}{128} - \\frac{9 \\varepsilon^{3} h^{9} u^{2}{\\left(t \\right)} \\operatorname{u_{1}}^{5}{\\left(t \\right)}}{64} + \\frac{21 \\varepsilon^{3} h^{8} u^{5}{\\left(t \\right)} \\operatorname{u_{1}}^{2}{\\left(t \\right)}}{64} - \\frac{55 \\varepsilon^{3} h^{8} u^{3}{\\left(t \\right)} \\operatorname{u_{1}}^{4}{\\left(t \\right)}}{128} + \\frac{7 \\varepsilon^{3} h^{7} u^{6}{\\left(t \\right)} \\operatorname{u_{1}}{\\left(t \\right)}}{32} - \\frac{25 \\varepsilon^{3} h^{7} u^{4}{\\left(t \\right)} \\operatorname{u_{1}}^{3}{\\left(t \\right)}}{32} + \\frac{5 \\varepsilon^{3} h^{6} u^{7}{\\left(t \\right)}}{64} - \\frac{27 \\varepsilon^{3} h^{6} u^{5}{\\left(t \\right)} \\operatorname{u_{1}}^{2}{\\left(t \\right)}}{32} - \\frac{17 \\varepsilon^{3} h^{5} u^{6}{\\left(t \\right)} \\operatorname{u_{1}}{\\left(t \\right)}}{32} - \\frac{3 \\varepsilon^{3} h^{4} u^{7}{\\left(t \\right)}}{16} + \\frac{\\varepsilon^{2} h^{11} \\operatorname{u_{1}}^{5}{\\left(t \\right)}}{512} + \\frac{5 \\varepsilon^{2} h^{10} u{\\left(t \\right)} \\operatorname{u_{1}}^{4}{\\left(t \\right)}}{256} + \\frac{5 \\varepsilon^{2} h^{9} u^{2}{\\left(t \\right)} \\operatorname{u_{1}}^{3}{\\left(t \\right)}}{64} - \\frac{\\varepsilon^{2} h^{9} \\operatorname{u_{1}}^{5}{\\left(t \\right)}}{64} + \\frac{5 \\varepsilon^{2} h^{8} u^{3}{\\left(t \\right)} \\operatorname{u_{1}}^{2}{\\left(t \\right)}}{32} - \\frac{9 \\varepsilon^{2} h^{8} u{\\left(t \\right)} \\operatorname{u_{1}}^{4}{\\left(t \\right)}}{64} + \\frac{5 \\varepsilon^{2} h^{7} u^{4}{\\left(t \\right)} \\operatorname{u_{1}}{\\left(t \\right)}}{32} - \\frac{\\varepsilon^{2} h^{7} u^{2}{\\left(t \\right)} \\operatorname{u_{1}}^{3}{\\left(t \\right)}}{2} + \\frac{\\varepsilon^{2} h^{7} \\operatorname{u_{1}}^{5}{\\left(t \\right)}}{32} + \\frac{5 \\varepsilon^{2} h^{6} u^{5}{\\left(t \\right)}}{64} - \\frac{7 \\varepsilon^{2} h^{6} u^{3}{\\left(t \\right)} \\operatorname{u_{1}}^{2}{\\left(t \\right)}}{8} + \\frac{\\varepsilon^{2} h^{6} u{\\left(t \\right)} \\operatorname{u_{1}}^{4}{\\left(t \\right)}}{4} - \\frac{13 \\varepsilon^{2} h^{5} u^{4}{\\left(t \\right)} \\operatorname{u_{1}}{\\left(t \\right)}}{16} + \\frac{25 \\varepsilon^{2} h^{5} u^{2}{\\left(t \\right)} \\operatorname{u_{1}}^{3}{\\left(t \\right)}}{32} - \\frac{3 \\varepsilon^{2} h^{4} u^{5}{\\left(t \\right)}}{8} + \\frac{5 \\varepsilon^{2} h^{4} u^{3}{\\left(t \\right)} \\operatorname{u_{1}}^{2}{\\left(t \\right)}}{4} + \\frac{9 \\varepsilon^{2} h^{3} u^{4}{\\left(t \\right)} \\operatorname{u_{1}}{\\left(t \\right)}}{8} + \\frac{\\varepsilon^{2} h^{2} u^{5}{\\left(t \\right)}}{2} + \\frac{\\varepsilon h^{9} \\operatorname{u_{1}}^{3}{\\left(t \\right)}}{384} + \\frac{\\varepsilon h^{8} u{\\left(t \\right)} \\operatorname{u_{1}}^{2}{\\left(t \\right)}}{64} + \\frac{\\varepsilon h^{7} u^{2}{\\left(t \\right)} \\operatorname{u_{1}}{\\left(t \\right)}}{32} - \\frac{\\varepsilon h^{7} \\operatorname{u_{1}}^{3}{\\left(t \\right)}}{32} + \\frac{5 \\varepsilon h^{6} u^{3}{\\left(t \\right)}}{192} - \\frac{5 \\varepsilon h^{6} u{\\left(t \\right)} \\operatorname{u_{1}}^{2}{\\left(t \\right)}}{32} - \\frac{9 \\varepsilon h^{5} u^{2}{\\left(t \\right)} \\operatorname{u_{1}}{\\left(t \\right)}}{32} + \\frac{13 \\varepsilon h^{5} \\operatorname{u_{1}}^{3}{\\left(t \\right)}}{96} - \\frac{3 \\varepsilon h^{4} u^{3}{\\left(t \\right)}}{16} + \\frac{5 \\varepsilon h^{4} u{\\left(t \\right)} \\operatorname{u_{1}}^{2}{\\left(t \\right)}}{8} + \\varepsilon h^{3} u^{2}{\\left(t \\right)} \\operatorname{u_{1}}{\\left(t \\right)} - \\frac{\\varepsilon h^{3} \\operatorname{u_{1}}^{3}{\\left(t \\right)}}{4} + \\frac{2 \\varepsilon h^{2} u^{3}{\\left(t \\right)}}{3} - \\varepsilon h^{2} u{\\left(t \\right)} \\operatorname{u_{1}}^{2}{\\left(t \\right)} - \\frac{3 \\varepsilon h u^{2}{\\left(t \\right)} \\operatorname{u_{1}}{\\left(t \\right)}}{2} - \\varepsilon u^{3}{\\left(t \\right)} + \\frac{h^{3} \\operatorname{u_{1}}{\\left(t \\right)}}{24} + \\frac{h^{2} u{\\left(t \\right)}}{6} - \\frac{h \\operatorname{u_{1}}{\\left(t \\right)}}{2} - u{\\left(t \\right)}\\end{matrix}\\right]$"
      ],
      "text/plain": [
       "Matrix([\n",
       "[                                                                                                                                                                                                                                                                                                                                                                                                                                                                                                                                                                                                                                                                                                                                                                                                                                                                                                                                                                                                                                                                                                                                                                                                                                                                                                                                                                                                                                                                                                                                                                                                                                                                                                                                      \\varepsilon**4*h**7*u(t)**9/384 + \\varepsilon**3*h**7*u(t)**7/128 - \\varepsilon**3*h**6*u(t)**6*u1(t)/64 - \\varepsilon**3*h**5*u(t)**7/32 + \\varepsilon**2*h**7*u(t)**5/128 - \\varepsilon**2*h**6*u(t)**4*u1(t)/32 - \\varepsilon**2*h**5*u(t)**5/16 + \\varepsilon**2*h**5*u(t)**3*u1(t)**2/32 + \\varepsilon**2*h**4*u(t)**4*u1(t)/8 + \\varepsilon**2*h**3*u(t)**5/8 + \\varepsilon*h**7*u(t)**3/384 - \\varepsilon*h**6*u(t)**2*u1(t)/64 - \\varepsilon*h**5*u(t)**3/32 + \\varepsilon*h**5*u(t)*u1(t)**2/32 + \\varepsilon*h**4*u(t)**2*u1(t)/8 - \\varepsilon*h**4*u1(t)**3/24 + \\varepsilon*h**3*u(t)**3/6 - \\varepsilon*h**3*u(t)*u1(t)**2/4 - \\varepsilon*h**2*u(t)**2*u1(t)/2 - \\varepsilon*h*u(t)**3/2 + h**3*u(t)/24 - h**2*u1(t)/6 - h*u(t)/2 + u1(t)],\n",
       "[\\varepsilon**4*h**15*u1(t)**9/24576 + 3*\\varepsilon**4*h**14*u(t)*u1(t)**8/4096 + 3*\\varepsilon**4*h**13*u(t)**2*u1(t)**7/512 + 7*\\varepsilon**4*h**12*u(t)**3*u1(t)**6/256 + 21*\\varepsilon**4*h**11*u(t)**4*u1(t)**5/256 + 21*\\varepsilon**4*h**10*u(t)**5*u1(t)**4/128 + 7*\\varepsilon**4*h**9*u(t)**6*u1(t)**3/32 + 3*\\varepsilon**4*h**8*u(t)**7*u1(t)**2/16 + 3*\\varepsilon**4*h**7*u(t)**8*u1(t)/32 + 5*\\varepsilon**4*h**6*u(t)**9/192 + \\varepsilon**3*h**13*u1(t)**7/2048 + 7*\\varepsilon**3*h**12*u(t)*u1(t)**6/1024 + 21*\\varepsilon**3*h**11*u(t)**2*u1(t)**5/512 - \\varepsilon**3*h**11*u1(t)**7/512 + 35*\\varepsilon**3*h**10*u(t)**3*u1(t)**4/256 - 13*\\varepsilon**3*h**10*u(t)*u1(t)**6/512 + 35*\\varepsilon**3*h**9*u(t)**4*u1(t)**3/128 - 9*\\varepsilon**3*h**9*u(t)**2*u1(t)**5/64 + 21*\\varepsilon**3*h**8*u(t)**5*u1(t)**2/64 - 55*\\varepsilon**3*h**8*u(t)**3*u1(t)**4/128 + 7*\\varepsilon**3*h**7*u(t)**6*u1(t)/32 - 25*\\varepsilon**3*h**7*u(t)**4*u1(t)**3/32 + 5*\\varepsilon**3*h**6*u(t)**7/64 - 27*\\varepsilon**3*h**6*u(t)**5*u1(t)**2/32 - 17*\\varepsilon**3*h**5*u(t)**6*u1(t)/32 - 3*\\varepsilon**3*h**4*u(t)**7/16 + \\varepsilon**2*h**11*u1(t)**5/512 + 5*\\varepsilon**2*h**10*u(t)*u1(t)**4/256 + 5*\\varepsilon**2*h**9*u(t)**2*u1(t)**3/64 - \\varepsilon**2*h**9*u1(t)**5/64 + 5*\\varepsilon**2*h**8*u(t)**3*u1(t)**2/32 - 9*\\varepsilon**2*h**8*u(t)*u1(t)**4/64 + 5*\\varepsilon**2*h**7*u(t)**4*u1(t)/32 - \\varepsilon**2*h**7*u(t)**2*u1(t)**3/2 + \\varepsilon**2*h**7*u1(t)**5/32 + 5*\\varepsilon**2*h**6*u(t)**5/64 - 7*\\varepsilon**2*h**6*u(t)**3*u1(t)**2/8 + \\varepsilon**2*h**6*u(t)*u1(t)**4/4 - 13*\\varepsilon**2*h**5*u(t)**4*u1(t)/16 + 25*\\varepsilon**2*h**5*u(t)**2*u1(t)**3/32 - 3*\\varepsilon**2*h**4*u(t)**5/8 + 5*\\varepsilon**2*h**4*u(t)**3*u1(t)**2/4 + 9*\\varepsilon**2*h**3*u(t)**4*u1(t)/8 + \\varepsilon**2*h**2*u(t)**5/2 + \\varepsilon*h**9*u1(t)**3/384 + \\varepsilon*h**8*u(t)*u1(t)**2/64 + \\varepsilon*h**7*u(t)**2*u1(t)/32 - \\varepsilon*h**7*u1(t)**3/32 + 5*\\varepsilon*h**6*u(t)**3/192 - 5*\\varepsilon*h**6*u(t)*u1(t)**2/32 - 9*\\varepsilon*h**5*u(t)**2*u1(t)/32 + 13*\\varepsilon*h**5*u1(t)**3/96 - 3*\\varepsilon*h**4*u(t)**3/16 + 5*\\varepsilon*h**4*u(t)*u1(t)**2/8 + \\varepsilon*h**3*u(t)**2*u1(t) - \\varepsilon*h**3*u1(t)**3/4 + 2*\\varepsilon*h**2*u(t)**3/3 - \\varepsilon*h**2*u(t)*u1(t)**2 - 3*\\varepsilon*h*u(t)**2*u1(t)/2 - \\varepsilon*u(t)**3 + h**3*u1(t)/24 + h**2*u(t)/6 - h*u1(t)/2 - u(t)]])"
      ]
     },
     "execution_count": 28,
     "metadata": {},
     "output_type": "execute_result"
    }
   ],
   "source": [
    "def f(y):\n",
    "    return Matrix([\\\n",
    "        y[1],\\\n",
    "        -y[0] - eps*y[0]**3,\\\n",
    "    ])\n",
    "r = RK4(f, Matrix([T(u, 0), T(u1, 0)]))\n",
    "r"
   ]
  },
  {
   "cell_type": "code",
   "execution_count": 29,
   "id": "c62d9e61",
   "metadata": {},
   "outputs": [
    {
     "name": "stdout",
     "output_type": "stream",
     "text": [
      "h^0 =>\n"
     ]
    },
    {
     "data": {
      "text/latex": [
       "$\\displaystyle - u_{1} + u_{t}$"
      ],
      "text/plain": [
       "-u1 + u_{t}"
      ]
     },
     "metadata": {},
     "output_type": "display_data"
    },
    {
     "name": "stdout",
     "output_type": "stream",
     "text": [
      "h^1 =>\n"
     ]
    },
    {
     "data": {
      "text/latex": [
       "$\\displaystyle \\frac{\\varepsilon u^{3}}{2} + \\frac{u + u_{tt}}{2}$"
      ],
      "text/plain": [
       "\\varepsilon*u**3/2 + (u + u_{tt})/2"
      ]
     },
     "metadata": {},
     "output_type": "display_data"
    },
    {
     "name": "stdout",
     "output_type": "stream",
     "text": [
      "h^2 =>\n"
     ]
    },
    {
     "data": {
      "text/latex": [
       "$\\displaystyle \\frac{\\varepsilon u^{2} u_{1}}{2} + \\frac{u_{1} + u_{ttt}}{6}$"
      ],
      "text/plain": [
       "\\varepsilon*u**2*u1/2 + (u1 + u_{ttt})/6"
      ]
     },
     "metadata": {},
     "output_type": "display_data"
    },
    {
     "name": "stdout",
     "output_type": "stream",
     "text": [
      "h^3 =>\n"
     ]
    },
    {
     "data": {
      "text/latex": [
       "$\\displaystyle - \\frac{\\varepsilon^{2} u^{5}}{8} - \\frac{\\varepsilon u \\left(2 u^{2} - 3 u_{1}^{2}\\right)}{12} - \\frac{u - u_{tttt}}{24}$"
      ],
      "text/plain": [
       "-\\varepsilon**2*u**5/8 - \\varepsilon*u*(2*u**2 - 3*u1**2)/12 - (u - u_{tttt})/24"
      ]
     },
     "metadata": {},
     "output_type": "display_data"
    },
    {
     "name": "stdout",
     "output_type": "stream",
     "text": [
      "h^4 =>\n"
     ]
    },
    {
     "data": {
      "text/latex": [
       "$\\displaystyle - \\frac{\\varepsilon^{2} u^{4} u_{1}}{8} - \\frac{\\varepsilon u_{1} \\left(3 u^{2} - u_{1}^{2}\\right)}{24} + \\frac{u_{ttttt}}{120}$"
      ],
      "text/plain": [
       "-\\varepsilon**2*u**4*u1/8 - \\varepsilon*u1*(3*u**2 - u1**2)/24 + u_{ttttt}/120"
      ]
     },
     "metadata": {},
     "output_type": "display_data"
    },
    {
     "name": "stdout",
     "output_type": "stream",
     "text": [
      "h^5 =>\n"
     ]
    },
    {
     "data": {
      "text/latex": [
       "$\\displaystyle \\frac{\\varepsilon^{3} u^{7}}{32} + \\frac{\\varepsilon^{2} u^{3} \\left(2 u^{2} - u_{1}^{2}\\right)}{32} + \\frac{\\varepsilon u \\left(u - u_{1}\\right) \\left(u + u_{1}\\right)}{32} + \\frac{u_{tttttt}}{720}$"
      ],
      "text/plain": [
       "\\varepsilon**3*u**7/32 + \\varepsilon**2*u**3*(2*u**2 - u1**2)/32 + \\varepsilon*u*(u - u1)*(u + u1)/32 + u_{tttttt}/720"
      ]
     },
     "metadata": {},
     "output_type": "display_data"
    },
    {
     "name": "stdout",
     "output_type": "stream",
     "text": [
      "h^6 =>\n"
     ]
    },
    {
     "data": {
      "text/latex": [
       "$\\displaystyle \\frac{\\varepsilon^{3} u^{6} u_{1}}{64} + \\frac{\\varepsilon^{2} u^{4} u_{1}}{32} + \\frac{\\varepsilon u^{2} u_{1}}{64} + \\frac{u_{ttttttt}}{5040}$"
      ],
      "text/plain": [
       "\\varepsilon**3*u**6*u1/64 + \\varepsilon**2*u**4*u1/32 + \\varepsilon*u**2*u1/64 + u_{ttttttt}/5040"
      ]
     },
     "metadata": {},
     "output_type": "display_data"
    }
   ],
   "source": [
    "F1 = clip((T(u, 1)-T(u, 0))/h - T(r[0], 0))\n",
    "prn(F1)"
   ]
  },
  {
   "cell_type": "code",
   "execution_count": 30,
   "id": "f40bd121",
   "metadata": {},
   "outputs": [
    {
     "name": "stdout",
     "output_type": "stream",
     "text": [
      "h^0 =>\n"
     ]
    },
    {
     "data": {
      "text/latex": [
       "$\\displaystyle \\varepsilon u^{3} + u + u1_{t}$"
      ],
      "text/plain": [
       "\\varepsilon*u**3 + u + u1_{t}"
      ]
     },
     "metadata": {},
     "output_type": "display_data"
    },
    {
     "name": "stdout",
     "output_type": "stream",
     "text": [
      "h^1 =>\n"
     ]
    },
    {
     "data": {
      "text/latex": [
       "$\\displaystyle \\frac{3 \\varepsilon u^{2} u_{1}}{2} + \\frac{u_{1} + u1_{tt}}{2}$"
      ],
      "text/plain": [
       "3*\\varepsilon*u**2*u1/2 + (u1 + u1_{tt})/2"
      ]
     },
     "metadata": {},
     "output_type": "display_data"
    },
    {
     "name": "stdout",
     "output_type": "stream",
     "text": [
      "h^2 =>\n"
     ]
    },
    {
     "data": {
      "text/latex": [
       "$\\displaystyle - \\frac{\\varepsilon^{2} u^{5}}{2} - \\frac{\\varepsilon u \\left(2 u^{2} - 3 u_{1}^{2}\\right)}{3} - \\frac{u - u1_{ttt}}{6}$"
      ],
      "text/plain": [
       "-\\varepsilon**2*u**5/2 - \\varepsilon*u*(2*u**2 - 3*u1**2)/3 - (u - u1_{ttt})/6"
      ]
     },
     "metadata": {},
     "output_type": "display_data"
    },
    {
     "name": "stdout",
     "output_type": "stream",
     "text": [
      "h^3 =>\n"
     ]
    },
    {
     "data": {
      "text/latex": [
       "$\\displaystyle - \\frac{9 \\varepsilon^{2} u^{4} u_{1}}{8} - \\frac{\\varepsilon u_{1} \\left(2 u - u_{1}\\right) \\left(2 u + u_{1}\\right)}{4} - \\frac{u_{1} - u1_{tttt}}{24}$"
      ],
      "text/plain": [
       "-9*\\varepsilon**2*u**4*u1/8 - \\varepsilon*u1*(2*u - u1)*(2*u + u1)/4 - (u1 - u1_{tttt})/24"
      ]
     },
     "metadata": {},
     "output_type": "display_data"
    },
    {
     "name": "stdout",
     "output_type": "stream",
     "text": [
      "h^4 =>\n"
     ]
    },
    {
     "data": {
      "text/latex": [
       "$\\displaystyle \\frac{3 \\varepsilon^{3} u^{7}}{16} + \\frac{\\varepsilon^{2} u^{3} \\left(3 u^{2} - 10 u_{1}^{2}\\right)}{8} + \\frac{\\varepsilon u \\left(3 u^{2} - 10 u_{1}^{2}\\right)}{16} + \\frac{u1_{ttttt}}{120}$"
      ],
      "text/plain": [
       "3*\\varepsilon**3*u**7/16 + \\varepsilon**2*u**3*(3*u**2 - 10*u1**2)/8 + \\varepsilon*u*(3*u**2 - 10*u1**2)/16 + u1_{ttttt}/120"
      ]
     },
     "metadata": {},
     "output_type": "display_data"
    },
    {
     "name": "stdout",
     "output_type": "stream",
     "text": [
      "h^5 =>\n"
     ]
    },
    {
     "data": {
      "text/latex": [
       "$\\displaystyle \\frac{17 \\varepsilon^{3} u^{6} u_{1}}{32} + \\frac{\\varepsilon^{2} u^{2} u_{1} \\left(26 u^{2} - 25 u_{1}^{2}\\right)}{32} + \\frac{\\varepsilon u_{1} \\left(27 u^{2} - 13 u_{1}^{2}\\right)}{96} + \\frac{u1_{tttttt}}{720}$"
      ],
      "text/plain": [
       "17*\\varepsilon**3*u**6*u1/32 + \\varepsilon**2*u**2*u1*(26*u**2 - 25*u1**2)/32 + \\varepsilon*u1*(27*u**2 - 13*u1**2)/96 + u1_{tttttt}/720"
      ]
     },
     "metadata": {},
     "output_type": "display_data"
    },
    {
     "name": "stdout",
     "output_type": "stream",
     "text": [
      "h^6 =>\n"
     ]
    },
    {
     "data": {
      "text/latex": [
       "$\\displaystyle - \\frac{5 \\varepsilon^{4} u^{9}}{192} - \\frac{\\varepsilon^{3} u^{5} \\left(5 u^{2} - 54 u_{1}^{2}\\right)}{64} - \\frac{\\varepsilon^{2} u \\left(5 u^{4} - 56 u^{2} u_{1}^{2} + 16 u_{1}^{4}\\right)}{64} - \\frac{5 \\varepsilon u \\left(u^{2} - 6 u_{1}^{2}\\right)}{192} + \\frac{u1_{ttttttt}}{5040}$"
      ],
      "text/plain": [
       "-5*\\varepsilon**4*u**9/192 - \\varepsilon**3*u**5*(5*u**2 - 54*u1**2)/64 - \\varepsilon**2*u*(5*u**4 - 56*u**2*u1**2 + 16*u1**4)/64 - 5*\\varepsilon*u*(u**2 - 6*u1**2)/192 + u1_{ttttttt}/5040"
      ]
     },
     "metadata": {},
     "output_type": "display_data"
    }
   ],
   "source": [
    "F2 = clip((T(u1, 1)-T(u1, 0))/h - T(r[1], 0))\n",
    "prn(F2)"
   ]
  },
  {
   "cell_type": "code",
   "execution_count": 31,
   "id": "8883ae8e",
   "metadata": {},
   "outputs": [
    {
     "name": "stdout",
     "output_type": "stream",
     "text": [
      "h^0 =>\n"
     ]
    },
    {
     "data": {
      "text/latex": [
       "$\\displaystyle - u_{1} + u_{t}$"
      ],
      "text/plain": [
       "-u1 + u_{t}"
      ]
     },
     "metadata": {},
     "output_type": "display_data"
    },
    {
     "name": "stdout",
     "output_type": "stream",
     "text": [
      "h^1 =>\n"
     ]
    },
    {
     "data": {
      "text/latex": [
       "$\\displaystyle 0$"
      ],
      "text/plain": [
       "0"
      ]
     },
     "metadata": {},
     "output_type": "display_data"
    },
    {
     "name": "stdout",
     "output_type": "stream",
     "text": [
      "h^2 =>\n"
     ]
    },
    {
     "data": {
      "text/latex": [
       "$\\displaystyle 0$"
      ],
      "text/plain": [
       "0"
      ]
     },
     "metadata": {},
     "output_type": "display_data"
    },
    {
     "name": "stdout",
     "output_type": "stream",
     "text": [
      "h^3 =>\n"
     ]
    },
    {
     "data": {
      "text/latex": [
       "$\\displaystyle 0$"
      ],
      "text/plain": [
       "0"
      ]
     },
     "metadata": {},
     "output_type": "display_data"
    },
    {
     "name": "stdout",
     "output_type": "stream",
     "text": [
      "h^4 =>\n"
     ]
    },
    {
     "data": {
      "text/latex": [
       "$\\displaystyle \\frac{\\varepsilon^{2} u^{4} u_{1}}{10} + \\frac{\\varepsilon u_{1} \\left(3 u - u_{1}\\right) \\left(3 u + u_{1}\\right)}{120} + \\frac{u_{1}}{120}$"
      ],
      "text/plain": [
       "\\varepsilon**2*u**4*u1/10 + \\varepsilon*u1*(3*u - u1)*(3*u + u1)/120 + u1/120"
      ]
     },
     "metadata": {},
     "output_type": "display_data"
    },
    {
     "name": "stdout",
     "output_type": "stream",
     "text": [
      "h^5 =>\n"
     ]
    },
    {
     "data": {
      "text/latex": [
       "$\\displaystyle \\frac{\\varepsilon^{3} u^{7}}{16} + \\frac{\\varepsilon^{2} u^{3} \\left(10 u^{2} + 3 u_{1}^{2}\\right)}{96} + \\frac{\\varepsilon u \\left(14 u^{2} + 3 u_{1}^{2}\\right)}{288} + \\frac{u}{144}$"
      ],
      "text/plain": [
       "\\varepsilon**3*u**7/16 + \\varepsilon**2*u**3*(10*u**2 + 3*u1**2)/96 + \\varepsilon*u*(14*u**2 + 3*u1**2)/288 + u/144"
      ]
     },
     "metadata": {},
     "output_type": "display_data"
    },
    {
     "name": "stdout",
     "output_type": "stream",
     "text": [
      "h^6 =>\n"
     ]
    },
    {
     "data": {
      "text/latex": [
       "$\\displaystyle \\frac{5 \\varepsilon^{3} u^{6} u_{1}}{192} + \\frac{5 \\varepsilon^{2} u^{2} u_{1} \\left(9 u^{2} - 14 u_{1}^{2}\\right)}{672} + \\frac{\\varepsilon u_{1} \\left(57 u^{2} - 20 u_{1}^{2}\\right)}{4032} - \\frac{u_{1}}{336}$"
      ],
      "text/plain": [
       "5*\\varepsilon**3*u**6*u1/192 + 5*\\varepsilon**2*u**2*u1*(9*u**2 - 14*u1**2)/672 + \\varepsilon*u1*(57*u**2 - 20*u1**2)/4032 - u1/336"
      ]
     },
     "metadata": {},
     "output_type": "display_data"
    },
    {
     "name": "stdout",
     "output_type": "stream",
     "text": [
      "- u_{1} + u_{t}\n",
      "+h\\big(\n",
      "0\n",
      "\\big)\n",
      "+h^2\\big(\n",
      "0\n",
      "\\big)\n",
      "+h^3\\big(\n",
      "0\n",
      "\\big)\n",
      "+h^4\\big(\n",
      "\\frac{\\varepsilon^{2} u^{4} u_{1}}{10} + \\frac{\\varepsilon u_{1} \\left(3 u - u_{1}\\right) \\left(3 u + u_{1}\\right)}{120} + \\frac{u_{1}}{120}\n",
      "\\big)\n",
      "+h^5\\big(\n",
      "\\frac{\\varepsilon^{3} u^{7}}{16} + \\frac{\\varepsilon^{2} u^{3} \\left(10 u^{2} + 3 u_{1}^{2}\\right)}{96} + \\frac{\\varepsilon u \\left(14 u^{2} + 3 u_{1}^{2}\\right)}{288} + \\frac{u}{144}\n",
      "\\big)\n",
      "+h^6\\big(\n",
      "\\frac{5 \\varepsilon^{3} u^{6} u_{1}}{192} + \\frac{5 \\varepsilon^{2} u^{2} u_{1} \\left(9 u^{2} - 14 u_{1}^{2}\\right)}{672} + \\frac{\\varepsilon u_{1} \\left(57 u^{2} - 20 u_{1}^{2}\\right)}{4032} - \\frac{u_{1}}{336}\n",
      "\\big)\n"
     ]
    }
   ],
   "source": [
    "f1 = NF(F1, [u.diff(t), u1.diff(t)], [F1, F2], head=False)\n",
    "prn(f1)\n",
    "prnlatex(f1)"
   ]
  },
  {
   "cell_type": "code",
   "execution_count": 32,
   "id": "1b538ed2",
   "metadata": {},
   "outputs": [
    {
     "name": "stdout",
     "output_type": "stream",
     "text": [
      "h^0 =>\n"
     ]
    },
    {
     "data": {
      "text/latex": [
       "$\\displaystyle \\varepsilon u^{3} + u + u1_{t}$"
      ],
      "text/plain": [
       "\\varepsilon*u**3 + u + u1_{t}"
      ]
     },
     "metadata": {},
     "output_type": "display_data"
    },
    {
     "name": "stdout",
     "output_type": "stream",
     "text": [
      "h^1 =>\n"
     ]
    },
    {
     "data": {
      "text/latex": [
       "$\\displaystyle 0$"
      ],
      "text/plain": [
       "0"
      ]
     },
     "metadata": {},
     "output_type": "display_data"
    },
    {
     "name": "stdout",
     "output_type": "stream",
     "text": [
      "h^2 =>\n"
     ]
    },
    {
     "data": {
      "text/latex": [
       "$\\displaystyle 0$"
      ],
      "text/plain": [
       "0"
      ]
     },
     "metadata": {},
     "output_type": "display_data"
    },
    {
     "name": "stdout",
     "output_type": "stream",
     "text": [
      "h^3 =>\n"
     ]
    },
    {
     "data": {
      "text/latex": [
       "$\\displaystyle 0$"
      ],
      "text/plain": [
       "0"
      ]
     },
     "metadata": {},
     "output_type": "display_data"
    },
    {
     "name": "stdout",
     "output_type": "stream",
     "text": [
      "h^4 =>\n"
     ]
    },
    {
     "data": {
      "text/latex": [
       "$\\displaystyle - \\frac{3 \\varepsilon^{3} u^{7}}{80} - \\frac{\\varepsilon^{2} u^{3} \\left(u^{2} + 4 u_{1}^{2}\\right)}{20} - \\frac{\\varepsilon u \\left(5 u^{2} + 18 u_{1}^{2}\\right)}{240} - \\frac{u}{120}$"
      ],
      "text/plain": [
       "-3*\\varepsilon**3*u**7/80 - \\varepsilon**2*u**3*(u**2 + 4*u1**2)/20 - \\varepsilon*u*(5*u**2 + 18*u1**2)/240 - u/120"
      ]
     },
     "metadata": {},
     "output_type": "display_data"
    },
    {
     "name": "stdout",
     "output_type": "stream",
     "text": [
      "h^5 =>\n"
     ]
    },
    {
     "data": {
      "text/latex": [
       "$\\displaystyle - \\frac{\\varepsilon^{2} u^{2} u_{1} \\left(2 u^{2} - u_{1}^{2}\\right)}{32} - \\frac{\\varepsilon u_{1}^{3}}{96} + \\frac{u_{1}}{144}$"
      ],
      "text/plain": [
       "-\\varepsilon**2*u**2*u1*(2*u**2 - u1**2)/32 - \\varepsilon*u1**3/96 + u1/144"
      ]
     },
     "metadata": {},
     "output_type": "display_data"
    },
    {
     "name": "stdout",
     "output_type": "stream",
     "text": [
      "h^6 =>\n"
     ]
    },
    {
     "data": {
      "text/latex": [
       "$\\displaystyle \\frac{7 \\varepsilon^{4} u^{9}}{64} + \\frac{\\varepsilon^{3} u^{5} \\left(103 u^{2} + 28 u_{1}^{2}\\right)}{448} + \\frac{\\varepsilon^{2} u \\left(213 u^{4} - 12 u^{2} u_{1}^{2} + 70 u_{1}^{4}\\right)}{1344} + \\frac{\\varepsilon u \\left(55 u^{2} - 12 u_{1}^{2}\\right)}{1344} + \\frac{u}{336}$"
      ],
      "text/plain": [
       "7*\\varepsilon**4*u**9/64 + \\varepsilon**3*u**5*(103*u**2 + 28*u1**2)/448 + \\varepsilon**2*u*(213*u**4 - 12*u**2*u1**2 + 70*u1**4)/1344 + \\varepsilon*u*(55*u**2 - 12*u1**2)/1344 + u/336"
      ]
     },
     "metadata": {},
     "output_type": "display_data"
    },
    {
     "name": "stdout",
     "output_type": "stream",
     "text": [
      "\\varepsilon u^{3} + u + u1_{t}\n",
      "+h\\big(\n",
      "0\n",
      "\\big)\n",
      "+h^2\\big(\n",
      "0\n",
      "\\big)\n",
      "+h^3\\big(\n",
      "0\n",
      "\\big)\n",
      "+h^4\\big(\n",
      "- \\frac{3 \\varepsilon^{3} u^{7}}{80} - \\frac{\\varepsilon^{2} u^{3} \\left(u^{2} + 4 u_{1}^{2}\\right)}{20} - \\frac{\\varepsilon u \\left(5 u^{2} + 18 u_{1}^{2}\\right)}{240} - \\frac{u}{120}\n",
      "\\big)\n",
      "+h^5\\big(\n",
      "- \\frac{\\varepsilon^{2} u^{2} u_{1} \\left(2 u^{2} - u_{1}^{2}\\right)}{32} - \\frac{\\varepsilon u_{1}^{3}}{96} + \\frac{u_{1}}{144}\n",
      "\\big)\n",
      "+h^6\\big(\n",
      "\\frac{7 \\varepsilon^{4} u^{9}}{64} + \\frac{\\varepsilon^{3} u^{5} \\left(103 u^{2} + 28 u_{1}^{2}\\right)}{448} + \\frac{\\varepsilon^{2} u \\left(213 u^{4} - 12 u^{2} u_{1}^{2} + 70 u_{1}^{4}\\right)}{1344} + \\frac{\\varepsilon u \\left(55 u^{2} - 12 u_{1}^{2}\\right)}{1344} + \\frac{u}{336}\n",
      "\\big)\n"
     ]
    }
   ],
   "source": [
    "f2 = NF(F2, [u.diff(t), u1.diff(t)], [F1, F2], head=False)\n",
    "prn(f2)\n",
    "prnlatex(f2)"
   ]
  },
  {
   "cell_type": "code",
   "execution_count": 33,
   "id": "318b5994",
   "metadata": {},
   "outputs": [
    {
     "name": "stdout",
     "output_type": "stream",
     "text": [
      "h^0 =>\n"
     ]
    },
    {
     "data": {
      "text/latex": [
       "$\\displaystyle 0$"
      ],
      "text/plain": [
       "0"
      ]
     },
     "metadata": {},
     "output_type": "display_data"
    },
    {
     "name": "stdout",
     "output_type": "stream",
     "text": [
      "h^1 =>\n"
     ]
    },
    {
     "data": {
      "text/latex": [
       "$\\displaystyle \\varepsilon u^{3} u_{t} + u u_{t} + u_{1} u1_{t}$"
      ],
      "text/plain": [
       "\\varepsilon*u**3*u_{t} + u*u_{t} + u1*u1_{t}"
      ]
     },
     "metadata": {},
     "output_type": "display_data"
    },
    {
     "name": "stdout",
     "output_type": "stream",
     "text": [
      "h^2 =>\n"
     ]
    },
    {
     "data": {
      "text/latex": [
       "$\\displaystyle \\frac{\\varepsilon u^{2} \\left(u u_{tt} + 3 u_{t}^{2}\\right)}{2} + \\frac{u u_{tt} + u_{1} u1_{tt} + u1_{t}^{2} + u_{t}^{2}}{2}$"
      ],
      "text/plain": [
       "\\varepsilon*u**2*(u*u_{tt} + 3*u_{t}**2)/2 + (u*u_{tt} + u1*u1_{tt} + u1_{t}**2 + u_{t}**2)/2"
      ]
     },
     "metadata": {},
     "output_type": "display_data"
    },
    {
     "name": "stdout",
     "output_type": "stream",
     "text": [
      "h^3 =>\n"
     ]
    },
    {
     "data": {
      "text/latex": [
       "$\\displaystyle \\frac{\\varepsilon u \\left(u^{2} u_{ttt} + 9 u u_{tt} u_{t} + 6 u_{t}^{3}\\right)}{6} + \\frac{u u_{ttt} + u_{1} u1_{ttt} + 3 u1_{tt} u1_{t} + 3 u_{tt} u_{t}}{6}$"
      ],
      "text/plain": [
       "\\varepsilon*u*(u**2*u_{ttt} + 9*u*u_{tt}*u_{t} + 6*u_{t}**3)/6 + (u*u_{ttt} + u1*u1_{ttt} + 3*u1_{tt}*u1_{t} + 3*u_{tt}*u_{t})/6"
      ]
     },
     "metadata": {},
     "output_type": "display_data"
    },
    {
     "name": "stdout",
     "output_type": "stream",
     "text": [
      "h^4 =>\n"
     ]
    },
    {
     "data": {
      "text/latex": [
       "$\\displaystyle \\frac{\\varepsilon \\left(u^{3} u_{tttt} + 12 u^{2} u_{ttt} u_{t} + 9 u^{2} u_{tt}^{2} + 36 u u_{tt} u_{t}^{2} + 6 u_{t}^{4}\\right)}{24} + \\frac{u u_{tttt} + u_{1} u1_{tttt} + 4 u1_{ttt} u1_{t} + 3 u1_{tt}^{2} + 4 u_{ttt} u_{t} + 3 u_{tt}^{2}}{24}$"
      ],
      "text/plain": [
       "\\varepsilon*(u**3*u_{tttt} + 12*u**2*u_{ttt}*u_{t} + 9*u**2*u_{tt}**2 + 36*u*u_{tt}*u_{t}**2 + 6*u_{t}**4)/24 + (u*u_{tttt} + u1*u1_{tttt} + 4*u1_{ttt}*u1_{t} + 3*u1_{tt}**2 + 4*u_{ttt}*u_{t} + 3*u_{tt}**2)/24"
      ]
     },
     "metadata": {},
     "output_type": "display_data"
    },
    {
     "name": "stdout",
     "output_type": "stream",
     "text": [
      "h^5 =>\n"
     ]
    },
    {
     "data": {
      "text/latex": [
       "$\\displaystyle \\frac{\\varepsilon \\left(u^{3} u_{ttttt} + 15 u^{2} u_{tttt} u_{t} + 30 u^{2} u_{ttt} u_{tt} + 60 u u_{ttt} u_{t}^{2} + 90 u u_{tt}^{2} u_{t} + 60 u_{tt} u_{t}^{3}\\right)}{120} + \\frac{u u_{ttttt} + u_{1} u1_{ttttt} + 5 u1_{tttt} u1_{t} + 10 u1_{ttt} u1_{tt} + 5 u_{tttt} u_{t} + 10 u_{ttt} u_{tt}}{120}$"
      ],
      "text/plain": [
       "\\varepsilon*(u**3*u_{ttttt} + 15*u**2*u_{tttt}*u_{t} + 30*u**2*u_{ttt}*u_{tt} + 60*u*u_{ttt}*u_{t}**2 + 90*u*u_{tt}**2*u_{t} + 60*u_{tt}*u_{t}**3)/120 + (u*u_{ttttt} + u1*u1_{ttttt} + 5*u1_{tttt}*u1_{t} + 10*u1_{ttt}*u1_{tt} + 5*u_{tttt}*u_{t} + 10*u_{ttt}*u_{tt})/120"
      ]
     },
     "metadata": {},
     "output_type": "display_data"
    },
    {
     "name": "stdout",
     "output_type": "stream",
     "text": [
      "h^6 =>\n"
     ]
    },
    {
     "data": {
      "text/latex": [
       "$\\displaystyle \\frac{\\varepsilon \\left(u^{3} u_{tttttt} + 18 u^{2} u_{ttttt} u_{t} + 45 u^{2} u_{tttt} u_{tt} + 30 u^{2} u_{ttt}^{2} + 90 u u_{tttt} u_{t}^{2} + 360 u u_{ttt} u_{tt} u_{t} + 90 u u_{tt}^{3} + 120 u_{ttt} u_{t}^{3} + 270 u_{tt}^{2} u_{t}^{2}\\right)}{720} + \\frac{u u_{tttttt} + u_{1} u1_{tttttt} + 6 u1_{ttttt} u1_{t} + 15 u1_{tttt} u1_{tt} + 10 u1_{ttt}^{2} + 6 u_{ttttt} u_{t} + 15 u_{tttt} u_{tt} + 10 u_{ttt}^{2}}{720}$"
      ],
      "text/plain": [
       "\\varepsilon*(u**3*u_{tttttt} + 18*u**2*u_{ttttt}*u_{t} + 45*u**2*u_{tttt}*u_{tt} + 30*u**2*u_{ttt}**2 + 90*u*u_{tttt}*u_{t}**2 + 360*u*u_{ttt}*u_{tt}*u_{t} + 90*u*u_{tt}**3 + 120*u_{ttt}*u_{t}**3 + 270*u_{tt}**2*u_{t}**2)/720 + (u*u_{tttttt} + u1*u1_{tttttt} + 6*u1_{ttttt}*u1_{t} + 15*u1_{tttt}*u1_{tt} + 10*u1_{ttt}**2 + 6*u_{ttttt}*u_{t} + 15*u_{tttt}*u_{tt} + 10*u_{ttt}**2)/720"
      ]
     },
     "metadata": {},
     "output_type": "display_data"
    }
   ],
   "source": [
    "F3 = clip((T(u1, 1)**2/2 + T(u, 1)**2/2 + eps*T(u, 1)**4/4) -\\\n",
    "          (T(u1, 0)**2/2 + T(u, 0)**2/2 + eps*T(u, 0)**4/4))\n",
    "prn(F3)"
   ]
  },
  {
   "cell_type": "code",
   "execution_count": 34,
   "id": "f0df071d",
   "metadata": {},
   "outputs": [
    {
     "name": "stdout",
     "output_type": "stream",
     "text": [
      "h^0 =>\n"
     ]
    },
    {
     "data": {
      "text/latex": [
       "$\\displaystyle 0$"
      ],
      "text/plain": [
       "0"
      ]
     },
     "metadata": {},
     "output_type": "display_data"
    },
    {
     "name": "stdout",
     "output_type": "stream",
     "text": [
      "h^1 =>\n"
     ]
    },
    {
     "data": {
      "text/latex": [
       "$\\displaystyle 0$"
      ],
      "text/plain": [
       "0"
      ]
     },
     "metadata": {},
     "output_type": "display_data"
    },
    {
     "name": "stdout",
     "output_type": "stream",
     "text": [
      "h^2 =>\n"
     ]
    },
    {
     "data": {
      "text/latex": [
       "$\\displaystyle 0$"
      ],
      "text/plain": [
       "0"
      ]
     },
     "metadata": {},
     "output_type": "display_data"
    },
    {
     "name": "stdout",
     "output_type": "stream",
     "text": [
      "h^3 =>\n"
     ]
    },
    {
     "data": {
      "text/latex": [
       "$\\displaystyle 0$"
      ],
      "text/plain": [
       "0"
      ]
     },
     "metadata": {},
     "output_type": "display_data"
    },
    {
     "name": "stdout",
     "output_type": "stream",
     "text": [
      "h^4 =>\n"
     ]
    },
    {
     "data": {
      "text/latex": [
       "$\\displaystyle 0$"
      ],
      "text/plain": [
       "0"
      ]
     },
     "metadata": {},
     "output_type": "display_data"
    },
    {
     "name": "stdout",
     "output_type": "stream",
     "text": [
      "h^5 =>\n"
     ]
    },
    {
     "data": {
      "text/latex": [
       "$\\displaystyle - \\frac{\\varepsilon^{3} u^{7} u_{1}}{16} - \\frac{\\varepsilon^{2} u^{3} u_{1} \\left(3 u^{2} - 5 u_{1}^{2}\\right)}{24} - \\frac{\\varepsilon u u_{1} \\left(3 u^{2} - 4 u_{1}^{2}\\right)}{48}$"
      ],
      "text/plain": [
       "-\\varepsilon**3*u**7*u1/16 - \\varepsilon**2*u**3*u1*(3*u**2 - 5*u1**2)/24 - \\varepsilon*u*u1*(3*u**2 - 4*u1**2)/48"
      ]
     },
     "metadata": {},
     "output_type": "display_data"
    },
    {
     "name": "stdout",
     "output_type": "stream",
     "text": [
      "h^6 =>\n"
     ]
    },
    {
     "data": {
      "text/latex": [
       "$\\displaystyle - \\frac{\\varepsilon^{4} u^{10}}{32} - \\frac{\\varepsilon^{3} u^{6} \\left(7 u^{2} + 54 u_{1}^{2}\\right)}{96} - \\frac{\\varepsilon^{2} u^{2} \\left(17 u^{4} + 210 u^{2} u_{1}^{2} - 81 u_{1}^{4}\\right)}{288} - \\frac{\\varepsilon \\left(7 u^{4} + 66 u^{2} u_{1}^{2} - 15 u_{1}^{4}\\right)}{288} - \\frac{u^{2} + u_{1}^{2}}{144}$"
      ],
      "text/plain": [
       "-\\varepsilon**4*u**10/32 - \\varepsilon**3*u**6*(7*u**2 + 54*u1**2)/96 - \\varepsilon**2*u**2*(17*u**4 + 210*u**2*u1**2 - 81*u1**4)/288 - \\varepsilon*(7*u**4 + 66*u**2*u1**2 - 15*u1**4)/288 - (u**2 + u1**2)/144"
      ]
     },
     "metadata": {},
     "output_type": "display_data"
    },
    {
     "name": "stdout",
     "output_type": "stream",
     "text": [
      "0\n",
      "+h\\big(\n",
      "0\n",
      "\\big)\n",
      "+h^2\\big(\n",
      "0\n",
      "\\big)\n",
      "+h^3\\big(\n",
      "0\n",
      "\\big)\n",
      "+h^4\\big(\n",
      "0\n",
      "\\big)\n",
      "+h^5\\big(\n",
      "- \\frac{\\varepsilon^{3} u^{7} u_{1}}{16} - \\frac{\\varepsilon^{2} u^{3} u_{1} \\left(3 u^{2} - 5 u_{1}^{2}\\right)}{24} - \\frac{\\varepsilon u u_{1} \\left(3 u^{2} - 4 u_{1}^{2}\\right)}{48}\n",
      "\\big)\n",
      "+h^6\\big(\n",
      "- \\frac{\\varepsilon^{4} u^{10}}{32} - \\frac{\\varepsilon^{3} u^{6} \\left(7 u^{2} + 54 u_{1}^{2}\\right)}{96} - \\frac{\\varepsilon^{2} u^{2} \\left(17 u^{4} + 210 u^{2} u_{1}^{2} - 81 u_{1}^{4}\\right)}{288} - \\frac{\\varepsilon \\left(7 u^{4} + 66 u^{2} u_{1}^{2} - 15 u_{1}^{4}\\right)}{288} - \\frac{u^{2} + u_{1}^{2}}{144}\n",
      "\\big)\n"
     ]
    }
   ],
   "source": [
    "f3 = NF(F3, [u.diff(t), u1.diff(t)], [F1, F2], head=False)\n",
    "prn(f3)\n",
    "prnlatex(f3)"
   ]
  },
  {
   "cell_type": "code",
   "execution_count": null,
   "id": "592c16fd",
   "metadata": {},
   "outputs": [],
   "source": []
  }
 ],
 "metadata": {
  "kernelspec": {
   "display_name": "Python 3 (ipykernel)",
   "language": "python",
   "name": "python3"
  },
  "language_info": {
   "codemirror_mode": {
    "name": "ipython",
    "version": 3
   },
   "file_extension": ".py",
   "mimetype": "text/x-python",
   "name": "python",
   "nbconvert_exporter": "python",
   "pygments_lexer": "ipython3",
   "version": "3.10.6"
  }
 },
 "nbformat": 4,
 "nbformat_minor": 5
}
