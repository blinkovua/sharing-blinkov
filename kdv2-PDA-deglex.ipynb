{
 "cells": [
  {
   "cell_type": "code",
   "execution_count": 1,
   "metadata": {},
   "outputs": [],
   "source": [
    "from IPython.display import display\n",
    "\n",
    "from sympy import *\n",
    "init_printing()\n",
    "\n",
    "from monom import *"
   ]
  },
  {
   "cell_type": "code",
   "execution_count": 2,
   "metadata": {},
   "outputs": [],
   "source": [
    "t, x, tau, h, s0, s1, s = symbols(r't, x, tau, h, sigma_0, sigma_1, sigma', real=True)\n",
    "f1, f2 = (f(t, x) for f in symbols('\\phi_1, \\phi_2', cls=Function))"
   ]
  },
  {
   "cell_type": "code",
   "execution_count": 3,
   "metadata": {},
   "outputs": [],
   "source": [
    "pda_f, pda_v = (f1, f2), (t, x)\n",
    "pda_n, pda_clp = 5, 3\n",
    "pda_p = Rational(0, 1), Rational(0, 1), Rational(0, 1)"
   ]
  },
  {
   "cell_type": "code",
   "execution_count": 4,
   "metadata": {},
   "outputs": [],
   "source": [
    "Monom.variables = 1 + len(pda_v)\n",
    "Monom.cmp = Monom.TOPdeglex\n",
    "# Monom.cmp = Monom.TOPlex\n",
    "Monom.zero = Monom(0 for v in range(Monom.variables))\n",
    "pda_fun = dict(zip(pda_f,\\\n",
    "             (Monom(0 if v else i for v in range(Monom.variables))\\\n",
    "              for i in range(1, Monom.variables))))\n",
    "pda_var = dict(zip(pda_v,\\\n",
    "             (Monom(0 if v != i else 1 for v in range(Monom.variables))\\\n",
    "              for i in range(1, Monom.variables))))"
   ]
  },
  {
   "cell_type": "code",
   "execution_count": 5,
   "metadata": {},
   "outputs": [],
   "source": [
    "def T(f, i1, j1):\n",
    "    return sum(sum(\\\n",
    "        diff(f, t, i, x, j)*(tau*(i1+pda_p[0]))**i \\\n",
    "                             *(h*(j1+pda_p[1]))**j/\\\n",
    "                 (factorial(i)*factorial(j))\\\n",
    "        for i in range(pda_n-j))\\\n",
    "        for j in range(pda_n))"
   ]
  },
  {
   "cell_type": "code",
   "execution_count": 6,
   "metadata": {},
   "outputs": [
    {
     "data": {
      "image/png": "[encoded data removed]",
      "text/latex": [
       "$$- \\frac{5 h^{3} \\frac{\\partial^{4}}{\\partial x^{4}} \\phi_{1}{\\left (t,x \\right )}}{16} + \\frac{3 h^{2} \\frac{\\partial^{3}}{\\partial x^{3}} \\phi_{1}{\\left (t,x \\right )}}{4} - \\frac{3 h \\frac{\\partial^{2}}{\\partial x^{2}} \\phi_{1}{\\left (t,x \\right )}}{4} + \\frac{3 \\frac{\\partial}{\\partial x} \\phi_{1}{\\left (t,x \\right )}}{2}$$"
      ],
      "text/plain": [
       "         4                       3                      2                     \n",
       "     3  ∂                    2  ∂                      ∂                      \n",
       "  5⋅h ⋅───(\\phi₁(t, x))   3⋅h ⋅───(\\phi₁(t, x))   3⋅h⋅───(\\phi₁(t, x))     ∂  \n",
       "         4                       3                      2                3⋅──(\n",
       "       ∂x                      ∂x                     ∂x                   ∂x \n",
       "- ───────────────────── + ───────────────────── - ──────────────────── + ─────\n",
       "            16                      4                      4                  \n",
       "\n",
       "            \n",
       "            \n",
       "            \n",
       "\\phi₁(t, x))\n",
       "            \n",
       "────────────\n",
       "   2        "
      ]
     },
     "execution_count": 6,
     "metadata": {},
     "output_type": "execute_result"
    }
   ],
   "source": [
    "expand((T(f1, 0, 1)-T(f1, 0, -2))/(2*h))"
   ]
  },
  {
   "cell_type": "code",
   "execution_count": 7,
   "metadata": {},
   "outputs": [],
   "source": [
    "def clip(f):\n",
    "    f = f.expand()\n",
    "    return [f.coeff(tau, 0).coeff(h, 0),\\\n",
    "            f.coeff(h, 0).coeff(tau, 2),\\\n",
    "            f.coeff(tau, 0).coeff(h, 2)]\n",
    "\n",
    "def df2m(a):\n",
    "    assert a.func == Derivative\n",
    "    m = pda_fun[a.args[0]]\n",
    "    for xi in a.args[1:]:\n",
    "        if isinstance(xi, Symbol):\n",
    "            m = m*pda_var[xi]\n",
    "        else:\n",
    "            m = m*pda_var[xi[0]]**xi[1]\n",
    "    return m\n",
    "\n",
    "def m2df(m):\n",
    "    r = pda_f[m[0]-1]\n",
    "    for i in range(1, len(m)):\n",
    "        r = r.diff(pda_v[i-1], m[i])\n",
    "    return r\n",
    "\n",
    "def findDiv(a, d):\n",
    "    r = None\n",
    "    def find(a, r):\n",
    "        if a.args:\n",
    "            if a.func == Derivative and a.args[0] in pda_fun:\n",
    "                m = df2m(a)\n",
    "                if m.divisible(d) and (not r or m.cmp(r) > 0):\n",
    "                    r = m\n",
    "            else:\n",
    "                for s in a.args:\n",
    "                    r = find(s, r)\n",
    "        return r\n",
    "    return find(a, r)\n",
    "\n",
    "def reduction(f1, f2, m, c, shift):\n",
    "    assert shift < pda_clp\n",
    "    r = [f1[i] for i in range(shift)]\n",
    "    if not m:\n",
    "        for i in range(shift, pda_clp):\n",
    "            r.append(expand(f1[i] - f2[i-shift]*c))\n",
    "    else:\n",
    "        for i in range(shift, pda_clp):\n",
    "            r.append(expand(f1[i] - f2[i-shift].diff(*m)*c))\n",
    "    return r\n",
    "\n",
    "def NF(f, df, G, head=False, trace=False):\n",
    "    assert len(df) == len(G)\n",
    "#     print(df2m(df[0]))\n",
    "    ms = [df2m(d) for d in df]\n",
    "    for i in range(0 if head else 1, pda_clp):\n",
    "        t = 0\n",
    "        if f[i]:\n",
    "            while True:\n",
    "                r = None\n",
    "                for l in range(len(ms)):\n",
    "                    r = findDiv(f[i], ms[l])\n",
    "                    if r:\n",
    "                        break\n",
    "                if not r: \n",
    "                    break\n",
    "                c, deg, m = 0, 7, m2df(r)\n",
    "                while c == 0:\n",
    "                    c = f[i].coeff(m, deg)\n",
    "                    deg -= 1\n",
    "                    assert deg >= 0\n",
    "#                 print(c, m, deg+1)\n",
    "                if deg:\n",
    "                    c *= m**deg\n",
    "                m = r/ms[l]\n",
    "                d = []\n",
    "                for k in range(len(pda_v)):\n",
    "                    if m[k+1] > 0:\n",
    "                        d.append(pda_v[k])\n",
    "                        if m[k+1] > 1:\n",
    "                            d.append(m[k+1])\n",
    "                if trace:\n",
    "                    print(\">\"*12)\n",
    "                    eq = Symbol(\"eq%d\" % (l+1), real=True)\n",
    "                    if d:\n",
    "                        display(Derivative(*tuple([eq] + d))*c*h**i)\n",
    "                    else:\n",
    "                        display(eq*c*h**i)\n",
    "                f = reduction(f, G[l], tuple(d), c/G[l][0].coeff(df[l]), i)\n",
    "                if trace:\n",
    "                    print(\"res =\")\n",
    "                    display(f)\n",
    "                    print(\"<\"*12)\n",
    "                t += 1\n",
    "#                 if t > 6: break\n",
    "    return f\n",
    "\n",
    "def p2Latex(p):\n",
    "    def m2L(m):\n",
    "        f = F2p[m[0] - 1]\n",
    "        r = []\n",
    "        for v in range(1, Monom.variables):\n",
    "            for i in range(m[v]):\n",
    "                r.append(V2p[v-1])\n",
    "        if not r:\n",
    "            return Symbol(f, real=True)\n",
    "        else:\n",
    "            return Symbol(f + \"_{%s}\" % \"\".join(r), real=True)\n",
    "    return sum(tau**Rang[i][0]*h**Rang[i][1]*sum(m2L(m)*c for m, c in p[i]) for i in range(len(p)) if p[i])\n",
    "\n",
    "def p2Latex(a):\n",
    "    r = None\n",
    "    def find(a):\n",
    "        if not a.args:\n",
    "            return a\n",
    "        elif a in pda_fun:\n",
    "            return Symbol(str(a.func), real=True)\n",
    "        else:\n",
    "            if a.func == Derivative and a.args[0] in pda_fun:\n",
    "                m, r = df2m(a), [str(a.args[0].func)[-1]]\n",
    "                for v in range(1, Monom.variables):\n",
    "                    for i in range(m[v]):\n",
    "                        r.append(str(pda_v[v-1]))\n",
    "                return Symbol(str(a.args[0].func)[:-2] + \"_{%s}\" % \"\".join(r), real=True)\n",
    "            else:\n",
    "                return a.func(*(find(s) for s in a.args))\n",
    "    return find(a)\n",
    "\n",
    "def prn(a):\n",
    "    display(p2Latex(a[0]))\n",
    "    print(\"tau^2 =>\")\n",
    "    display(p2Latex(a[1]))\n",
    "    print(\"h^2 =>\")\n",
    "    display(p2Latex(a[2]))"
   ]
  },
  {
   "cell_type": "code",
   "execution_count": 9,
   "metadata": {},
   "outputs": [],
   "source": [
    "def Dt(a):\n",
    "    return (T(a, 1, 0) - T(a, 0, 0))/(tau)\n",
    "def Dx(a):\n",
    "    return (T(a, 0, 1) - T(a, 0, -1))/(2*h)\n",
    "def Dxxx(a):\n",
    "    return (T(a, 0, 2) - 2*T(a, 0, 1) + 2*T(a, 0, -1) - T(a, 0, -2))/(2*h**3)\n",
    "def It(a):\n",
    "    return (T(a, 1, 0) + T(a, 0, 0))/2\n"
   ]
  },
  {
   "cell_type": "code",
   "execution_count": 18,
   "metadata": {},
   "outputs": [
    {
     "data": {
      "image/png": "[encoded data removed]",
      "text/latex": [
       "$$6 \\phi_1^{2} \\phi_{1x} \\sigma_{1} + 6 \\phi_1 \\phi_{1x} \\sigma_{0} + \\phi_1 - \\phi_2 + \\phi_{1t} + \\phi_{1xxx}$$"
      ],
      "text/plain": [
       "       2                                                                      \n",
       "6⋅\\phi₁ ⋅\\phi_{1x}⋅σ₁ + 6⋅\\phi₁⋅\\phi_{1x}⋅σ₀ + \\phi₁ - \\phi₂ + \\phi_{1t} + \\ph\n",
       "\n",
       "        \n",
       "i_{1xxx}"
      ]
     },
     "metadata": {},
     "output_type": "display_data"
    },
    {
     "name": "stdout",
     "output_type": "stream",
     "text": [
      "tau^2 =>\n"
     ]
    },
    {
     "data": {
      "image/png": "[encoded data removed]",
      "text/latex": [
       "$$\\frac{3 \\phi_1^{2} \\phi_{1ttx} \\sigma_{1}}{2} + \\frac{3 \\phi_1 \\phi_{1ttx} \\sigma_{0}}{2} + 3 \\phi_1 \\phi_{1tt} \\phi_{1x} \\sigma_{1} + 6 \\phi_1 \\phi_{1tx} \\phi_{1t} \\sigma_{1} + \\frac{\\phi_{1ttt}}{6} + \\frac{\\phi_{1ttxxx}}{4} + \\frac{3 \\phi_{1tt} \\phi_{1x} \\sigma_{0}}{2} + \\frac{\\phi_{1tt}}{4} + 3 \\phi_{1tx} \\phi_{1t} \\sigma_{0} + 3 \\phi_{1t}^{2} \\phi_{1x} \\sigma_{1} - \\frac{\\phi_{2tt}}{4}$$"
      ],
      "text/plain": [
       "       2                                                                      \n",
       "3⋅\\phi₁ ⋅\\phi_{1ttx}⋅σ₁   3⋅\\phi₁⋅\\phi_{1ttx}⋅σ₀                              \n",
       "─────────────────────── + ────────────────────── + 3⋅\\phi₁⋅\\phi_{1tt}⋅\\phi_{1x\n",
       "           2                        2                                         \n",
       "\n",
       "                                                                              \n",
       "                                         \\phi_{1ttt}   \\phi_{1ttxxx}   3⋅\\phi_\n",
       "}⋅σ₁ + 6⋅\\phi₁⋅\\phi_{1tx}⋅\\phi_{1t}⋅σ₁ + ─────────── + ───────────── + ───────\n",
       "                                              6              4                \n",
       "\n",
       "                                                                              \n",
       "{1tt}⋅\\phi_{1x}⋅σ₀   \\phi_{1tt}                                          2    \n",
       "────────────────── + ────────── + 3⋅\\phi_{1tx}⋅\\phi_{1t}⋅σ₀ + 3⋅\\phi_{1t} ⋅\\ph\n",
       "     2                   4                                                    \n",
       "\n",
       "                      \n",
       "            \\phi_{2tt}\n",
       "i_{1x}⋅σ₁ - ──────────\n",
       "                4     "
      ]
     },
     "metadata": {},
     "output_type": "display_data"
    },
    {
     "name": "stdout",
     "output_type": "stream",
     "text": [
      "h^2 =>\n"
     ]
    },
    {
     "data": {
      "image/png": "[encoded data removed]",
      "text/latex": [
       "$$\\phi_1^{2} \\phi_{1xxx} \\sigma_{1} + \\phi_1 \\phi_{1xxx} \\sigma_{0} + 6 \\phi_1 \\phi_{1xx} \\phi_{1x} \\sigma_{1} + 3 \\phi_{1xx} \\phi_{1x} \\sigma_{0} + 2 \\phi_{1x}^{3} \\sigma_{1}$$"
      ],
      "text/plain": [
       "     2                                                                        \n",
       "\\phi₁ ⋅\\phi_{1xxx}⋅σ₁ + \\phi₁⋅\\phi_{1xxx}⋅σ₀ + 6⋅\\phi₁⋅\\phi_{1xx}⋅\\phi_{1x}⋅σ₁\n",
       "\n",
       "                                          3   \n",
       " + 3⋅\\phi_{1xx}⋅\\phi_{1x}⋅σ₀ + 2⋅\\phi_{1x} ⋅σ₁"
      ]
     },
     "metadata": {},
     "output_type": "display_data"
    }
   ],
   "source": [
    "F1 = clip(Dt(f1) + It(3*s0*Dx(f1**2) + 2*s1*Dx(f1**3) + Dxxx(f1) + f1 - f2))\n",
    "prn(F1)"
   ]
  },
  {
   "cell_type": "code",
   "execution_count": 19,
   "metadata": {},
   "outputs": [
    {
     "data": {
      "image/png": "[encoded data removed]",
      "text/latex": [
       "$$- \\phi_1 + 6 \\phi_2^{2} \\phi_{2x} \\sigma_{1} + 6 \\phi_2 \\phi_{2x} \\sigma_{0} + \\phi_2 \\sigma + \\phi_2 + \\phi_{2t} + \\phi_{2xxx}$$"
      ],
      "text/plain": [
       "                2                                                             \n",
       "-\\phi₁ + 6⋅\\phi₂ ⋅\\phi_{2x}⋅σ₁ + 6⋅\\phi₂⋅\\phi_{2x}⋅σ₀ + \\phi₂⋅σ + \\phi₂ + \\phi\n",
       "\n",
       "                   \n",
       "_{2t} + \\phi_{2xxx}"
      ]
     },
     "metadata": {},
     "output_type": "display_data"
    },
    {
     "name": "stdout",
     "output_type": "stream",
     "text": [
      "tau^2 =>\n"
     ]
    },
    {
     "data": {
      "image/png": "[encoded data removed]",
      "text/latex": [
       "$$\\frac{3 \\phi_2^{2} \\phi_{2ttx} \\sigma_{1}}{2} + \\frac{3 \\phi_2 \\phi_{2ttx} \\sigma_{0}}{2} + 3 \\phi_2 \\phi_{2tt} \\phi_{2x} \\sigma_{1} + 6 \\phi_2 \\phi_{2tx} \\phi_{2t} \\sigma_{1} - \\frac{\\phi_{1tt}}{4} + \\frac{\\phi_{2ttt}}{6} + \\frac{\\phi_{2ttxxx}}{4} + \\frac{3 \\phi_{2tt} \\phi_{2x} \\sigma_{0}}{2} + \\frac{\\phi_{2tt} \\sigma}{4} + \\frac{\\phi_{2tt}}{4} + 3 \\phi_{2tx} \\phi_{2t} \\sigma_{0} + 3 \\phi_{2t}^{2} \\phi_{2x} \\sigma_{1}$$"
      ],
      "text/plain": [
       "       2                                                                      \n",
       "3⋅\\phi₂ ⋅\\phi_{2ttx}⋅σ₁   3⋅\\phi₂⋅\\phi_{2ttx}⋅σ₀                              \n",
       "─────────────────────── + ────────────────────── + 3⋅\\phi₂⋅\\phi_{2tt}⋅\\phi_{2x\n",
       "           2                        2                                         \n",
       "\n",
       "                                                                              \n",
       "                                         \\phi_{1tt}   \\phi_{2ttt}   \\phi_{2ttx\n",
       "}⋅σ₁ + 6⋅\\phi₂⋅\\phi_{2tx}⋅\\phi_{2t}⋅σ₁ - ────────── + ─────────── + ──────────\n",
       "                                             4             6              4   \n",
       "\n",
       "                                                                              \n",
       "xx}   3⋅\\phi_{2tt}⋅\\phi_{2x}⋅σ₀   \\phi_{2tt}⋅σ   \\phi_{2tt}                   \n",
       "─── + ───────────────────────── + ──────────── + ────────── + 3⋅\\phi_{2tx}⋅\\ph\n",
       "                  2                    4             4                        \n",
       "\n",
       "                                     \n",
       "                       2             \n",
       "i_{2t}⋅σ₀ + 3⋅\\phi_{2t} ⋅\\phi_{2x}⋅σ₁\n",
       "                                     "
      ]
     },
     "metadata": {},
     "output_type": "display_data"
    },
    {
     "name": "stdout",
     "output_type": "stream",
     "text": [
      "h^2 =>\n"
     ]
    },
    {
     "data": {
      "image/png": "[encoded data removed]",
      "text/latex": [
       "$$\\phi_2^{2} \\phi_{2xxx} \\sigma_{1} + \\phi_2 \\phi_{2xxx} \\sigma_{0} + 6 \\phi_2 \\phi_{2xx} \\phi_{2x} \\sigma_{1} + 3 \\phi_{2xx} \\phi_{2x} \\sigma_{0} + 2 \\phi_{2x}^{3} \\sigma_{1}$$"
      ],
      "text/plain": [
       "     2                                                                        \n",
       "\\phi₂ ⋅\\phi_{2xxx}⋅σ₁ + \\phi₂⋅\\phi_{2xxx}⋅σ₀ + 6⋅\\phi₂⋅\\phi_{2xx}⋅\\phi_{2x}⋅σ₁\n",
       "\n",
       "                                          3   \n",
       " + 3⋅\\phi_{2xx}⋅\\phi_{2x}⋅σ₀ + 2⋅\\phi_{2x} ⋅σ₁"
      ]
     },
     "metadata": {},
     "output_type": "display_data"
    }
   ],
   "source": [
    "F2 = clip(Dt(f2) + It(3*s0*Dx(f2**2) + 2*s1*Dx(f2**3) + Dxxx(f2) + f2 - f1 + s*f2))\n",
    "prn(F2)"
   ]
  },
  {
   "cell_type": "code",
   "execution_count": 20,
   "metadata": {
    "scrolled": true
   },
   "outputs": [
    {
     "data": {
      "image/png": "[encoded data removed]",
      "text/latex": [
       "$$6 \\phi_1^{2} \\phi_{1x} \\sigma_{1} + 6 \\phi_1 \\phi_{1x} \\sigma_{0} + \\phi_1 - \\phi_2 + \\phi_{1t} + \\phi_{1xxx}$$"
      ],
      "text/plain": [
       "       2                                                                      \n",
       "6⋅\\phi₁ ⋅\\phi_{1x}⋅σ₁ + 6⋅\\phi₁⋅\\phi_{1x}⋅σ₀ + \\phi₁ - \\phi₂ + \\phi_{1t} + \\ph\n",
       "\n",
       "        \n",
       "i_{1xxx}"
      ]
     },
     "metadata": {},
     "output_type": "display_data"
    },
    {
     "name": "stdout",
     "output_type": "stream",
     "text": [
      "tau^2 =>\n"
     ]
    },
    {
     "data": {
      "image/png": "[encoded data removed]",
      "text/latex": [
       "$$- \\frac{\\phi_{1ttt}}{12}$$"
      ],
      "text/plain": [
       "-\\phi_{1ttt} \n",
       "─────────────\n",
       "      12     "
      ]
     },
     "metadata": {},
     "output_type": "display_data"
    },
    {
     "name": "stdout",
     "output_type": "stream",
     "text": [
      "h^2 =>\n"
     ]
    },
    {
     "data": {
      "image/png": "[encoded data removed]",
      "text/latex": [
       "$$- 6 \\phi_1^{4} \\phi_{1x} \\sigma_{1}^{2} - 12 \\phi_1^{3} \\phi_{1x} \\sigma_{0} \\sigma_{1} - \\phi_1^{3} \\sigma_{1} + \\phi_1^{2} \\phi_2 \\sigma_{1} - \\phi_1^{2} \\phi_{1t} \\sigma_{1} - 6 \\phi_1^{2} \\phi_{1x} \\sigma_{0}^{2} - \\phi_1^{2} \\sigma_{0} + \\phi_1 \\phi_2 \\sigma_{0} - \\phi_1 \\phi_{1t} \\sigma_{0} + 6 \\phi_1 \\phi_{1xx} \\phi_{1x} \\sigma_{1} + \\frac{\\phi_{1ttttt}}{48} + 3 \\phi_{1xx} \\phi_{1x} \\sigma_{0} + 2 \\phi_{1x}^{3} \\sigma_{1}$$"
      ],
      "text/plain": [
       "         4             2           3                        3           2     \n",
       "- 6⋅\\phi₁ ⋅\\phi_{1x}⋅σ₁  - 12⋅\\phi₁ ⋅\\phi_{1x}⋅σ₀⋅σ₁ - \\phi₁ ⋅σ₁ + \\phi₁ ⋅\\phi\n",
       "                                                                              \n",
       "\n",
       "            2                       2             2        2                  \n",
       "₂⋅σ₁ - \\phi₁ ⋅\\phi_{1t}⋅σ₁ - 6⋅\\phi₁ ⋅\\phi_{1x}⋅σ₀  - \\phi₁ ⋅σ₀ + \\phi₁⋅\\phi₂⋅\n",
       "                                                                              \n",
       "\n",
       "                                                            \\phi_{1ttttt}     \n",
       "σ₀ - \\phi₁⋅\\phi_{1t}⋅σ₀ + 6⋅\\phi₁⋅\\phi_{1xx}⋅\\phi_{1x}⋅σ₁ + ───────────── + 3⋅\n",
       "                                                                  48          \n",
       "\n",
       "                                     3   \n",
       "\\phi_{1xx}⋅\\phi_{1x}⋅σ₀ + 2⋅\\phi_{1x} ⋅σ₁\n",
       "                                         "
      ]
     },
     "metadata": {},
     "output_type": "display_data"
    },
    {
     "name": "stdout",
     "output_type": "stream",
     "text": [
      "-6*\\phi_1**4*\\phi_{1x}*sigma_1**2 - 12*\\phi_1**3*\\phi_{1x}*sigma_0*sigma_1 - \\phi_1**3*sigma_1 + \\phi_1**2*\\phi_2*sigma_1 - \\phi_1**2*\\phi_{1t}*sigma_1 - 6*\\phi_1**2*\\phi_{1x}*sigma_0**2 - \\phi_1**2*sigma_0 + \\phi_1*\\phi_2*sigma_0 - \\phi_1*\\phi_{1t}*sigma_0 + 6*\\phi_1*\\phi_{1xx}*\\phi_{1x}*sigma_1 + \\phi_{1ttttt}/48 + 3*\\phi_{1xx}*\\phi_{1x}*sigma_0 + 2*\\phi_{1x}**3*sigma_1\n"
     ]
    }
   ],
   "source": [
    "F1pda = NF(F1, [f1.diff(x, 3), f2.diff(x, 3)], [F1, F2], head=False)\n",
    "prn(F1pda)\n",
    "print(p2Latex(F1pda[2]))"
   ]
  },
  {
   "cell_type": "code",
   "execution_count": 21,
   "metadata": {},
   "outputs": [
    {
     "data": {
      "image/png": "[encoded data removed]",
      "text/latex": [
       "$$- \\phi_1 + 6 \\phi_2^{2} \\phi_{2x} \\sigma_{1} + 6 \\phi_2 \\phi_{2x} \\sigma_{0} + \\phi_2 \\sigma + \\phi_2 + \\phi_{2t} + \\phi_{2xxx}$$"
      ],
      "text/plain": [
       "                2                                                             \n",
       "-\\phi₁ + 6⋅\\phi₂ ⋅\\phi_{2x}⋅σ₁ + 6⋅\\phi₂⋅\\phi_{2x}⋅σ₀ + \\phi₂⋅σ + \\phi₂ + \\phi\n",
       "\n",
       "                   \n",
       "_{2t} + \\phi_{2xxx}"
      ]
     },
     "metadata": {},
     "output_type": "display_data"
    },
    {
     "name": "stdout",
     "output_type": "stream",
     "text": [
      "tau^2 =>\n"
     ]
    },
    {
     "data": {
      "image/png": "[encoded data removed]",
      "text/latex": [
       "$$- \\frac{\\phi_{2ttt}}{12}$$"
      ],
      "text/plain": [
       "-\\phi_{2ttt} \n",
       "─────────────\n",
       "      12     "
      ]
     },
     "metadata": {},
     "output_type": "display_data"
    },
    {
     "name": "stdout",
     "output_type": "stream",
     "text": [
      "h^2 =>\n"
     ]
    },
    {
     "data": {
      "image/png": "[encoded data removed]",
      "text/latex": [
       "$$\\phi_1 \\phi_2^{2} \\sigma_{1} + \\phi_1 \\phi_2 \\sigma_{0} - 6 \\phi_2^{4} \\phi_{2x} \\sigma_{1}^{2} - 12 \\phi_2^{3} \\phi_{2x} \\sigma_{0} \\sigma_{1} - \\phi_2^{3} \\sigma \\sigma_{1} - \\phi_2^{3} \\sigma_{1} - \\phi_2^{2} \\phi_{2t} \\sigma_{1} - 6 \\phi_2^{2} \\phi_{2x} \\sigma_{0}^{2} - \\phi_2^{2} \\sigma \\sigma_{0} - \\phi_2^{2} \\sigma_{0} - \\phi_2 \\phi_{2t} \\sigma_{0} + 6 \\phi_2 \\phi_{2xx} \\phi_{2x} \\sigma_{1} + \\frac{\\phi_{2ttttt}}{48} + 3 \\phi_{2xx} \\phi_{2x} \\sigma_{0} + 2 \\phi_{2x}^{3} \\sigma_{1}$$"
      ],
      "text/plain": [
       "           2                              4             2           3         \n",
       "\\phi₁⋅\\phi₂ ⋅σ₁ + \\phi₁⋅\\phi₂⋅σ₀ - 6⋅\\phi₂ ⋅\\phi_{2x}⋅σ₁  - 12⋅\\phi₂ ⋅\\phi_{2x\n",
       "                                                                              \n",
       "\n",
       "               3             3           2                       2            \n",
       "}⋅σ₀⋅σ₁ - \\phi₂ ⋅σ⋅σ₁ - \\phi₂ ⋅σ₁ - \\phi₂ ⋅\\phi_{2t}⋅σ₁ - 6⋅\\phi₂ ⋅\\phi_{2x}⋅σ\n",
       "                                                                              \n",
       "\n",
       " 2        2             2                                                     \n",
       "₀  - \\phi₂ ⋅σ⋅σ₀ - \\phi₂ ⋅σ₀ - \\phi₂⋅\\phi_{2t}⋅σ₀ + 6⋅\\phi₂⋅\\phi_{2xx}⋅\\phi_{2\n",
       "                                                                              \n",
       "\n",
       "        \\phi_{2ttttt}                                          3   \n",
       "x}⋅σ₁ + ───────────── + 3⋅\\phi_{2xx}⋅\\phi_{2x}⋅σ₀ + 2⋅\\phi_{2x} ⋅σ₁\n",
       "              48                                                   "
      ]
     },
     "metadata": {},
     "output_type": "display_data"
    },
    {
     "name": "stdout",
     "output_type": "stream",
     "text": [
      "\\phi_1*\\phi_2**2*sigma_1 + \\phi_1*\\phi_2*sigma_0 - 6*\\phi_2**4*\\phi_{2x}*sigma_1**2 - 12*\\phi_2**3*\\phi_{2x}*sigma_0*sigma_1 - \\phi_2**3*sigma*sigma_1 - \\phi_2**3*sigma_1 - \\phi_2**2*\\phi_{2t}*sigma_1 - 6*\\phi_2**2*\\phi_{2x}*sigma_0**2 - \\phi_2**2*sigma*sigma_0 - \\phi_2**2*sigma_0 - \\phi_2*\\phi_{2t}*sigma_0 + 6*\\phi_2*\\phi_{2xx}*\\phi_{2x}*sigma_1 + \\phi_{2ttttt}/48 + 3*\\phi_{2xx}*\\phi_{2x}*sigma_0 + 2*\\phi_{2x}**3*sigma_1\n"
     ]
    }
   ],
   "source": [
    "F2pda = NF(F2, [f1.diff(x, 3), f2.diff(x, 3)], [F1, F2], head=False)\n",
    "prn(F2pda)\n",
    "print(p2Latex(F2pda[2]))"
   ]
  },
  {
   "cell_type": "code",
   "execution_count": 13,
   "metadata": {},
   "outputs": [],
   "source": [
    "D, k = symbols('D, k', real=True)"
   ]
  },
  {
   "cell_type": "code",
   "execution_count": 14,
   "metadata": {},
   "outputs": [
    {
     "data": {
      "image/png": "[encoded data removed]",
      "text/latex": [
       "$$\\frac{2 k^{2}}{\\cosh^{2}{\\left (- 4 k^{3} t + k x \\right )}}$$"
      ],
      "text/plain": [
       "            2        \n",
       "         2⋅k         \n",
       "─────────────────────\n",
       "    2⎛     3        ⎞\n",
       "cosh ⎝- 4⋅k ⋅t + k⋅x⎠"
      ]
     },
     "metadata": {},
     "output_type": "display_data"
    },
    {
     "data": {
      "image/png": "[encoded data removed]",
      "text/latex": [
       "$$\\frac{2 k^{2} \\left(24 k^{3} \\sinh^{3}{\\left (k \\left(4 k^{2} t - x\\right) \\right )} - 24 k^{3} \\sinh{\\left (k \\left(4 k^{2} t - x\\right) \\right )} \\cosh^{2}{\\left (k \\left(4 k^{2} t - x\\right) \\right )} + 24 k^{3} \\sinh{\\left (k \\left(4 k^{2} t - x\\right) \\right )} + \\sigma \\cosh^{3}{\\left (k \\left(4 k^{2} t - x\\right) \\right )}\\right)}{\\cosh^{5}{\\left (k \\left(4 k^{2} t - x\\right) \\right )}}$$"
      ],
      "text/plain": [
       "   2 ⎛    3     3⎛  ⎛   2      ⎞⎞       3     ⎛  ⎛   2      ⎞⎞     2⎛  ⎛   2  \n",
       "2⋅k ⋅⎝24⋅k ⋅sinh ⎝k⋅⎝4⋅k ⋅t - x⎠⎠ - 24⋅k ⋅sinh⎝k⋅⎝4⋅k ⋅t - x⎠⎠⋅cosh ⎝k⋅⎝4⋅k ⋅t\n",
       "──────────────────────────────────────────────────────────────────────────────\n",
       "                                                               5⎛  ⎛   2      \n",
       "                                                           cosh ⎝k⋅⎝4⋅k ⋅t - x\n",
       "\n",
       "    ⎞⎞       3     ⎛  ⎛   2      ⎞⎞         3⎛  ⎛   2      ⎞⎞⎞\n",
       " - x⎠⎠ + 24⋅k ⋅sinh⎝k⋅⎝4⋅k ⋅t - x⎠⎠ + σ⋅cosh ⎝k⋅⎝4⋅k ⋅t - x⎠⎠⎠\n",
       "──────────────────────────────────────────────────────────────\n",
       "⎞⎞                                                            \n",
       "⎠⎠                                                            "
      ]
     },
     "metadata": {},
     "output_type": "display_data"
    }
   ],
   "source": [
    "ex3 = 2*k**2/cosh(k*x - 4*k**3*t)**2\n",
    "display(ex3)\n",
    "display(F2pda[0].subs({s0: 1, s1: 0})\\\n",
    "  .subs({f1: ex3, f2: ex3}).doit().simplify())"
   ]
  },
  {
   "cell_type": "code",
   "execution_count": 15,
   "metadata": {},
   "outputs": [
    {
     "data": {
      "image/png": "[encoded data removed]",
      "text/latex": [
       "$$- \\frac{256 k^{11} \\left(1 - \\frac{3}{\\cosh^{2}{\\left (k x \\right )}}\\right) \\sinh{\\left (k x \\right )}}{3 \\cosh^{3}{\\left (k x \\right )}}$$"
      ],
      "text/plain": [
       "      11 ⎛        3     ⎞           \n",
       "-256⋅k  ⋅⎜1 - ──────────⎟⋅sinh(k⋅x) \n",
       "         ⎜        2     ⎟           \n",
       "         ⎝    cosh (k⋅x)⎠           \n",
       "────────────────────────────────────\n",
       "                  3                 \n",
       "            3⋅cosh (k⋅x)            "
      ]
     },
     "metadata": {},
     "output_type": "display_data"
    },
    {
     "name": "stdout",
     "output_type": "stream",
     "text": [
      "-256*k**11*(1 - 3/cosh(k*x)**2)*sinh(k*x)/(3*cosh(k*x)**3)\n"
     ]
    }
   ],
   "source": [
    "display(F2pda[1].subs({s0: 1, s1: 0})\\\n",
    "  .subs({f1: ex3, f2: ex3}).subs({t: 0}).doit().simplify())\n",
    "print(F2pda[1].subs({s0: 1, s1: 0})\\\n",
    "  .subs({f1: ex3, f2: ex3}).subs({t: 0}).doit().simplify())"
   ]
  },
  {
   "cell_type": "code",
   "execution_count": 16,
   "metadata": {},
   "outputs": [
    {
     "data": {
      "image/png": "[encoded data removed]",
      "text/latex": [
       "$$\\frac{4096 k^{17} \\sinh^{5}{\\left (k x \\right )} - 53248 k^{17} \\sinh^{3}{\\left (k x \\right )} + 34816 k^{17} \\sinh{\\left (k x \\right )} - 384 k^{7} \\sinh^{3}{\\left (k x \\right )} + 336 k^{7} \\sinh{\\left (k x \\right )} - 12 k^{4} \\sigma \\cosh^{3}{\\left (k x \\right )}}{3 \\cosh^{7}{\\left (k x \\right )}}$$"
      ],
      "text/plain": [
       "      17     5               17     3               17                  7     \n",
       "4096⋅k  ⋅sinh (k⋅x) - 53248⋅k  ⋅sinh (k⋅x) + 34816⋅k  ⋅sinh(k⋅x) - 384⋅k ⋅sinh\n",
       "──────────────────────────────────────────────────────────────────────────────\n",
       "                                                              7               \n",
       "                                                        3⋅cosh (k⋅x)          \n",
       "\n",
       "3             7                 4       3     \n",
       " (k⋅x) + 336⋅k ⋅sinh(k⋅x) - 12⋅k ⋅σ⋅cosh (k⋅x)\n",
       "──────────────────────────────────────────────\n",
       "                                              \n",
       "                                              "
      ]
     },
     "metadata": {},
     "output_type": "display_data"
    },
    {
     "name": "stdout",
     "output_type": "stream",
     "text": [
      "(4096*k**17*sinh(k*x)**5 - 53248*k**17*sinh(k*x)**3 + 34816*k**17*sinh(k*x) - 384*k**7*sinh(k*x)**3 + 336*k**7*sinh(k*x) - 12*k**4*sigma*cosh(k*x)**3)/(3*cosh(k*x)**7)\n"
     ]
    }
   ],
   "source": [
    "display(F2pda[2].subs({s0: 1, s1: 0})\\\n",
    "  .subs({f1: ex3, f2: ex3}).subs({t: 0}).doit().simplify())\n",
    "print(F2pda[2].subs({s0: 1, s1: 0})\\\n",
    "  .subs({f1: ex3, f2: ex3}).subs({t: 0}).doit().simplify())"
   ]
  },
  {
   "cell_type": "code",
   "execution_count": 17,
   "metadata": {},
   "outputs": [
    {
     "data": {
      "image/png": "[encoded data removed]",
      "text/latex": [
       "$$\\frac{k \\tanh{\\left (- k t \\left(- 2 k^{2} + \\frac{3 \\sigma_{0}^{2}}{2 \\sigma_{1}}\\right) + k x \\right )}}{\\sqrt{\\sigma_{1}}} + \\frac{\\sigma_{0}}{2 \\sigma_{1}}$$"
      ],
      "text/plain": [
       "      ⎛      ⎛             2⎞      ⎞       \n",
       "      ⎜      ⎜     2   3⋅σ₀ ⎟      ⎟       \n",
       "k⋅tanh⎜- k⋅t⋅⎜- 2⋅k  + ─────⎟ + k⋅x⎟       \n",
       "      ⎝      ⎝          2⋅σ₁⎠      ⎠    σ₀ \n",
       "──────────────────────────────────── + ────\n",
       "                 ____                  2⋅σ₁\n",
       "               ╲╱ σ₁                       "
      ]
     },
     "metadata": {},
     "output_type": "display_data"
    },
    {
     "data": {
      "image/png": "[encoded data removed]",
      "text/latex": [
       "$$\\frac{k \\sigma \\tanh{\\left (2 k^{3} t - \\frac{3 k \\sigma_{0}^{2} t}{2 \\sigma_{1}} + k x \\right )}}{\\sqrt{\\sigma_{1}}} + \\frac{\\sigma \\sigma_{0}}{2 \\sigma_{1}}$$"
      ],
      "text/plain": [
       "        ⎛               2        ⎞       \n",
       "        ⎜   3     3⋅k⋅σ₀ ⋅t      ⎟       \n",
       "k⋅σ⋅tanh⎜2⋅k ⋅t - ───────── + k⋅x⎟       \n",
       "        ⎝            2⋅σ₁        ⎠   σ⋅σ₀\n",
       "────────────────────────────────── + ────\n",
       "                ____                 2⋅σ₁\n",
       "              ╲╱ σ₁                      "
      ]
     },
     "metadata": {},
     "output_type": "display_data"
    }
   ],
   "source": [
    "ex1 = s0/(2*s1) + k/sqrt(s1)*tanh(k*x - k*(-2*k**2+3*s0**2/(2*s1))*t)\n",
    "display(ex1)\n",
    "display(F2pda[0].subs({s1: -s1})\\\n",
    "  .subs({f1: ex1, f2: ex1}).doit().simplify())"
   ]
  },
  {
   "cell_type": "code",
   "execution_count": 18,
   "metadata": {},
   "outputs": [
    {
     "data": {
      "image/png": "[encoded data removed]",
      "text/latex": [
       "$$\\frac{k^{4} \\left(4 k^{2} \\sigma_{1} - 3 \\sigma_{0}^{2}\\right)^{3} \\left(3 \\tanh^{4}{\\left (k x \\right )} - 4 \\tanh^{2}{\\left (k x \\right )} + 1\\right)}{48 \\sigma_{1}^{\\frac{7}{2}}}$$"
      ],
      "text/plain": [
       "                    3                                  \n",
       " 4 ⎛   2          2⎞  ⎛      4              2         ⎞\n",
       "k ⋅⎝4⋅k ⋅σ₁ - 3⋅σ₀ ⎠ ⋅⎝3⋅tanh (k⋅x) - 4⋅tanh (k⋅x) + 1⎠\n",
       "───────────────────────────────────────────────────────\n",
       "                             7/2                       \n",
       "                        48⋅σ₁                          "
      ]
     },
     "metadata": {},
     "output_type": "display_data"
    },
    {
     "name": "stdout",
     "output_type": "stream",
     "text": [
      "k**4*(4*k**2*sigma_1 - 3*sigma_0**2)**3*(3*tanh(k*x)**4 - 4*tanh(k*x)**2 + 1)/(48*sigma_1**(7/2))\n"
     ]
    }
   ],
   "source": [
    "display(F2pda[1].subs({s1: -s1})\\\n",
    "  .subs({f1: ex1, f2: ex1}).subs({t: 0}).doit().simplify())\n",
    "print(F2pda[1].subs({s1: -s1})\\\n",
    "  .subs({f1: ex1, f2: ex1}).subs({t: 0}).doit().simplify())"
   ]
  },
  {
   "cell_type": "code",
   "execution_count": 19,
   "metadata": {},
   "outputs": [
    {
     "data": {
      "image/png": "[encoded data removed]",
      "text/latex": [
       "$$\\frac{k^{2} \\left(\\tanh^{2}{\\left (k x \\right )} - 1\\right) \\left(384 k^{4} \\sigma_{1}^{23} \\left(\\tanh^{2}{\\left (k x \\right )} - 1\\right)^{2} - k^{4} \\sigma_{1}^{18} \\left(4 k^{2} \\sigma_{1} - 3 \\sigma_{0}^{2}\\right)^{5} \\left(2 \\left(\\tanh^{2}{\\left (k x \\right )} - 1\\right)^{2} + \\left(11 \\tanh^{2}{\\left (k x \\right )} - 11\\right) \\tanh^{2}{\\left (k x \\right )} + 2 \\tanh^{4}{\\left (k x \\right )}\\right) - 1152 k^{3} \\sigma_{0} \\sigma_{1}^{\\frac{45}{2}} \\left(\\tanh^{2}{\\left (k x \\right )} - 1\\right) \\tanh{\\left (k x \\right )} + 1152 k^{3} \\sigma_{1}^{22} \\left(2 k \\sigma_{1} \\tanh{\\left (k x \\right )} + \\sigma_{0} \\sqrt{\\sigma_{1}}\\right) \\left(\\tanh^{2}{\\left (k x \\right )} - 1\\right) \\tanh{\\left (k x \\right )} + 48 \\sigma_{0} \\sigma_{1}^{\\frac{41}{2}} \\left(4 k^{2} \\sigma_{1} - 3 \\sigma_{0}^{2}\\right) \\left(2 k \\sigma_{1} \\tanh{\\left (k x \\right )} + \\sigma_{0} \\sqrt{\\sigma_{1}}\\right) - 288 \\sigma_{0} \\sigma_{1}^{\\frac{39}{2}} \\left(2 k \\sigma_{1} \\tanh{\\left (k x \\right )} + \\sigma_{0} \\sqrt{\\sigma_{1}}\\right)^{3} - \\sigma_{1}^{20} \\left(96 k^{2} \\sigma_{1} - 360 \\sigma_{0}^{2}\\right) \\left(2 k \\sigma_{1} \\tanh{\\left (k x \\right )} + \\sigma_{0} \\sqrt{\\sigma_{1}}\\right)^{2} + 72 \\sigma_{1}^{19} \\left(2 k \\sigma_{1} \\tanh{\\left (k x \\right )} + \\sigma_{0} \\sqrt{\\sigma_{1}}\\right)^{4}\\right)}{192 \\sigma_{1}^{\\frac{47}{2}}}$$"
      ],
      "text/plain": [
       "                    ⎛                            2                            \n",
       " 2 ⎛    2         ⎞ ⎜     4   23 ⎛    2         ⎞     4   18 ⎛   2          2⎞\n",
       "k ⋅⎝tanh (k⋅x) - 1⎠⋅⎝384⋅k ⋅σ₁  ⋅⎝tanh (k⋅x) - 1⎠  - k ⋅σ₁  ⋅⎝4⋅k ⋅σ₁ - 3⋅σ₀ ⎠\n",
       "──────────────────────────────────────────────────────────────────────────────\n",
       "                                                                              \n",
       "                                                                              \n",
       "\n",
       "5 ⎛                  2                                                 ⎞      \n",
       "  ⎜  ⎛    2         ⎞    ⎛       2          ⎞     2              4     ⎟      \n",
       " ⋅⎝2⋅⎝tanh (k⋅x) - 1⎠  + ⎝11⋅tanh (k⋅x) - 11⎠⋅tanh (k⋅x) + 2⋅tanh (k⋅x)⎠ - 115\n",
       "──────────────────────────────────────────────────────────────────────────────\n",
       "                                                                              \n",
       "                                                                              \n",
       "\n",
       "                                                                              \n",
       "   3      45/2 ⎛    2         ⎞                   3   22 ⎛                    \n",
       "2⋅k ⋅σ₀⋅σ₁    ⋅⎝tanh (k⋅x) - 1⎠⋅tanh(k⋅x) + 1152⋅k ⋅σ₁  ⋅⎝2⋅k⋅σ₁⋅tanh(k⋅x) + σ\n",
       "──────────────────────────────────────────────────────────────────────────────\n",
       "                                                                              \n",
       "                                                                              \n",
       "\n",
       "                                                                              \n",
       "    ____⎞ ⎛    2         ⎞                     41/2 ⎛   2          2⎞ ⎛       \n",
       "₀⋅╲╱ σ₁ ⎠⋅⎝tanh (k⋅x) - 1⎠⋅tanh(k⋅x) + 48⋅σ₀⋅σ₁    ⋅⎝4⋅k ⋅σ₁ - 3⋅σ₀ ⎠⋅⎝2⋅k⋅σ₁⋅\n",
       "──────────────────────────────────────────────────────────────────────────────\n",
       "          47/2                                                                \n",
       "    192⋅σ₁                                                                    \n",
       "\n",
       "                                                                     3        \n",
       "                 ____⎞            39/2 ⎛                        ____⎞      20 \n",
       "tanh(k⋅x) + σ₀⋅╲╱ σ₁ ⎠ - 288⋅σ₀⋅σ₁    ⋅⎝2⋅k⋅σ₁⋅tanh(k⋅x) + σ₀⋅╲╱ σ₁ ⎠  - σ₁  ⋅\n",
       "──────────────────────────────────────────────────────────────────────────────\n",
       "                                                                              \n",
       "                                                                              \n",
       "\n",
       "                                                   2                          \n",
       "⎛    2            2⎞ ⎛                        ____⎞         19 ⎛              \n",
       "⎝96⋅k ⋅σ₁ - 360⋅σ₀ ⎠⋅⎝2⋅k⋅σ₁⋅tanh(k⋅x) + σ₀⋅╲╱ σ₁ ⎠  + 72⋅σ₁  ⋅⎝2⋅k⋅σ₁⋅tanh(k⋅\n",
       "──────────────────────────────────────────────────────────────────────────────\n",
       "                                                                              \n",
       "                                                                              \n",
       "\n",
       "               4⎞\n",
       "          ____⎞ ⎟\n",
       "x) + σ₀⋅╲╱ σ₁ ⎠ ⎠\n",
       "─────────────────\n",
       "                 \n",
       "                 "
      ]
     },
     "metadata": {},
     "output_type": "display_data"
    },
    {
     "name": "stdout",
     "output_type": "stream",
     "text": [
      "k**2*(tanh(k*x)**2 - 1)*(384*k**4*sigma_1**23*(tanh(k*x)**2 - 1)**2 - k**4*sigma_1**18*(4*k**2*sigma_1 - 3*sigma_0**2)**5*(2*(tanh(k*x)**2 - 1)**2 + (11*tanh(k*x)**2 - 11)*tanh(k*x)**2 + 2*tanh(k*x)**4) - 1152*k**3*sigma_0*sigma_1**(45/2)*(tanh(k*x)**2 - 1)*tanh(k*x) + 1152*k**3*sigma_1**22*(2*k*sigma_1*tanh(k*x) + sigma_0*sqrt(sigma_1))*(tanh(k*x)**2 - 1)*tanh(k*x) + 48*sigma_0*sigma_1**(41/2)*(4*k**2*sigma_1 - 3*sigma_0**2)*(2*k*sigma_1*tanh(k*x) + sigma_0*sqrt(sigma_1)) - 288*sigma_0*sigma_1**(39/2)*(2*k*sigma_1*tanh(k*x) + sigma_0*sqrt(sigma_1))**3 - sigma_1**20*(96*k**2*sigma_1 - 360*sigma_0**2)*(2*k*sigma_1*tanh(k*x) + sigma_0*sqrt(sigma_1))**2 + 72*sigma_1**19*(2*k*sigma_1*tanh(k*x) + sigma_0*sqrt(sigma_1))**4)/(192*sigma_1**(47/2))\n"
     ]
    }
   ],
   "source": [
    "display(F1pda[2].subs({s1: -s1})\\\n",
    "  .subs({f1: ex1, f2: ex1}).subs({t: 0}).doit().simplify())\n",
    "print(F1pda[2].subs({s1: -s1})\\\n",
    "  .subs({f1: ex1, f2: ex1}).subs({t: 0}).doit().simplify())"
   ]
  },
  {
   "cell_type": "code",
   "execution_count": 20,
   "metadata": {},
   "outputs": [
    {
     "data": {
      "image/png": "[encoded data removed]",
      "text/latex": [
       "$$\\frac{k \\tanh{\\left (- k t \\left(- 2 k^{2} + \\frac{3 \\sigma_{0}^{2}}{2 \\sigma_{1}}\\right) + k x \\right )}}{\\sqrt{\\sigma_{1}}} + \\frac{\\sigma_{0}}{2 \\sigma_{1}}$$"
      ],
      "text/plain": [
       "      ⎛      ⎛             2⎞      ⎞       \n",
       "      ⎜      ⎜     2   3⋅σ₀ ⎟      ⎟       \n",
       "k⋅tanh⎜- k⋅t⋅⎜- 2⋅k  + ─────⎟ + k⋅x⎟       \n",
       "      ⎝      ⎝          2⋅σ₁⎠      ⎠    σ₀ \n",
       "──────────────────────────────────── + ────\n",
       "                 ____                  2⋅σ₁\n",
       "               ╲╱ σ₁                       "
      ]
     },
     "metadata": {},
     "output_type": "display_data"
    },
    {
     "data": {
      "image/png": "[encoded data removed]",
      "text/latex": [
       "$$0$$"
      ],
      "text/plain": [
       "0"
      ]
     },
     "metadata": {},
     "output_type": "display_data"
    }
   ],
   "source": [
    "F = (-2*D*s1 + s0)\n",
    "ex2 = D + k**2/(F + sqrt(F**2 - k**2*s1)*cosh(k*(x - (6*D*(-D*s1 + s0) +  k**2)*t)))\n",
    "display(ex1)\n",
    "display(F1pda[0].subs({s1: -s1})\\\n",
    "  .subs({f1: ex2, f2: ex2}).doit().simplify())"
   ]
  },
  {
   "cell_type": "code",
   "execution_count": 21,
   "metadata": {},
   "outputs": [
    {
     "data": {
      "image/png": "[encoded data removed]",
      "text/latex": [
       "$$\\frac{k^{5} \\left(6 D \\left(D \\sigma_{1} - \\sigma_{0}\\right) - k^{2}\\right)^{3} \\left(6 \\left(- k^{2} \\sigma_{1} + \\left(- 2 D \\sigma_{1} + \\sigma_{0}\\right)^{2}\\right)^{\\frac{3}{2}} \\sinh^{2}{\\left (k x \\right )} + \\sqrt{- k^{2} \\sigma_{1} + \\left(- 2 D \\sigma_{1} + \\sigma_{0}\\right)^{2}} \\left(- 2 D \\sigma_{1} + \\sigma_{0} + \\sqrt{- k^{2} \\sigma_{1} + \\left(- 2 D \\sigma_{1} + \\sigma_{0}\\right)^{2}} \\cosh{\\left (k x \\right )}\\right)^{2} + 6 \\left(k^{2} \\sigma_{1} - \\left(2 D \\sigma_{1} - \\sigma_{0}\\right)^{2}\\right) \\left(- 2 D \\sigma_{1} + \\sigma_{0} + \\sqrt{- k^{2} \\sigma_{1} + \\left(- 2 D \\sigma_{1} + \\sigma_{0}\\right)^{2}} \\cosh{\\left (k x \\right )}\\right) \\cosh{\\left (k x \\right )}\\right) \\sinh{\\left (k x \\right )}}{12 \\left(- 2 D \\sigma_{1} + \\sigma_{0} + \\sqrt{- k^{2} \\sigma_{1} + \\left(- 2 D \\sigma_{1} + \\sigma_{0}\\right)^{2}} \\cosh{\\left (k x \\right )}\\right)^{4}}$$"
      ],
      "text/plain": [
       "                           ⎛                                                  \n",
       "                         3 ⎜                             3/2                 _\n",
       " 5 ⎛                   2⎞  ⎜  ⎛   2                    2⎞        2          ╱ \n",
       "k ⋅⎝6⋅D⋅(D⋅σ₁ - σ₀) - k ⎠ ⋅⎝6⋅⎝- k ⋅σ₁ + (-2⋅D⋅σ₁ + σ₀) ⎠   ⋅sinh (k⋅x) + ╲╱  \n",
       "──────────────────────────────────────────────────────────────────────────────\n",
       "                                                                              \n",
       "                                                                              \n",
       "                                                                              \n",
       "                                                                              \n",
       "\n",
       "                                                                              \n",
       "__________________________ ⎛                  ___________________________     \n",
       "   2                    2  ⎜                 ╱    2                    2      \n",
       "- k ⋅σ₁ + (-2⋅D⋅σ₁ + σ₀)  ⋅⎝-2⋅D⋅σ₁ + σ₀ + ╲╱  - k ⋅σ₁ + (-2⋅D⋅σ₁ + σ₀)  ⋅cosh\n",
       "──────────────────────────────────────────────────────────────────────────────\n",
       "                                                                              \n",
       "                              ⎛                  ___________________________  \n",
       "                              ⎜                 ╱    2                    2   \n",
       "                           12⋅⎝-2⋅D⋅σ₁ + σ₀ + ╲╱  - k ⋅σ₁ + (-2⋅D⋅σ₁ + σ₀)  ⋅c\n",
       "\n",
       "      2                                                                       \n",
       "     ⎞                               ⎛                  ______________________\n",
       "     ⎟      ⎛ 2                   2⎞ ⎜                 ╱    2                 \n",
       "(k⋅x)⎠  + 6⋅⎝k ⋅σ₁ - (2⋅D⋅σ₁ - σ₀) ⎠⋅⎝-2⋅D⋅σ₁ + σ₀ + ╲╱  - k ⋅σ₁ + (-2⋅D⋅σ₁ + \n",
       "──────────────────────────────────────────────────────────────────────────────\n",
       "         4                                                                    \n",
       "        ⎞                                                                     \n",
       "        ⎟                                                                     \n",
       "osh(k⋅x)⎠                                                                     \n",
       "\n",
       "                          ⎞          \n",
       "_____          ⎞          ⎟          \n",
       "   2           ⎟          ⎟          \n",
       "σ₀)  ⋅cosh(k⋅x)⎠⋅cosh(k⋅x)⎠⋅sinh(k⋅x)\n",
       "─────────────────────────────────────\n",
       "                                     \n",
       "                                     \n",
       "                                     \n",
       "                                     "
      ]
     },
     "metadata": {},
     "output_type": "display_data"
    },
    {
     "name": "stdout",
     "output_type": "stream",
     "text": [
      "k**5*(6*D*(D*sigma_1 - sigma_0) - k**2)**3*(6*(-k**2*sigma_1 + (-2*D*sigma_1 + sigma_0)**2)**(3/2)*sinh(k*x)**2 + sqrt(-k**2*sigma_1 + (-2*D*sigma_1 + sigma_0)**2)*(-2*D*sigma_1 + sigma_0 + sqrt(-k**2*sigma_1 + (-2*D*sigma_1 + sigma_0)**2)*cosh(k*x))**2 + 6*(k**2*sigma_1 - (2*D*sigma_1 - sigma_0)**2)*(-2*D*sigma_1 + sigma_0 + sqrt(-k**2*sigma_1 + (-2*D*sigma_1 + sigma_0)**2)*cosh(k*x))*cosh(k*x))*sinh(k*x)/(12*(-2*D*sigma_1 + sigma_0 + sqrt(-k**2*sigma_1 + (-2*D*sigma_1 + sigma_0)**2)*cosh(k*x))**4)\n"
     ]
    }
   ],
   "source": [
    "display(F1pda[1].subs({s1: -s1})\\\n",
    "  .subs({f1: ex2, f2: ex2}).subs({t: 0}).doit().simplify())\n",
    "print(F1pda[1].subs({s1: -s1})\\\n",
    "  .subs({f1: ex2, f2: ex2}).subs({t: 0}).doit().simplify())"
   ]
  },
  {
   "cell_type": "code",
   "execution_count": 22,
   "metadata": {
    "scrolled": false
   },
   "outputs": [
    {
     "data": {
      "image/png": "[encoded data removed]",
      "text/latex": [
       "$$\\frac{k^{3} \\left(- k^{4} \\left(6 D \\left(D \\sigma_{1} - \\sigma_{0}\\right) - k^{2}\\right)^{5} \\left(120 \\left(- k^{2} \\sigma_{1} + \\left(- 2 D \\sigma_{1} + \\sigma_{0}\\right)^{2}\\right)^{\\frac{5}{2}} \\sinh^{4}{\\left (k x \\right )} + 30 \\left(- k^{2} \\sigma_{1} + \\left(- 2 D \\sigma_{1} + \\sigma_{0}\\right)^{2}\\right)^{\\frac{3}{2}} \\left(2 \\sinh^{2}{\\left (k x \\right )} + 3 \\cosh^{2}{\\left (k x \\right )}\\right) \\left(- 2 D \\sigma_{1} + \\sigma_{0} + \\sqrt{- k^{2} \\sigma_{1} + \\left(- 2 D \\sigma_{1} + \\sigma_{0}\\right)^{2}} \\cosh{\\left (k x \\right )}\\right)^{2} + \\sqrt{- k^{2} \\sigma_{1} + \\left(- 2 D \\sigma_{1} + \\sigma_{0}\\right)^{2}} \\left(- 2 D \\sigma_{1} + \\sigma_{0} + \\sqrt{- k^{2} \\sigma_{1} + \\left(- 2 D \\sigma_{1} + \\sigma_{0}\\right)^{2}} \\cosh{\\left (k x \\right )}\\right)^{4} - 240 \\left(k^{2} \\sigma_{1} - \\left(2 D \\sigma_{1} - \\sigma_{0}\\right)^{2}\\right)^{2} \\left(- 2 D \\sigma_{1} + \\sigma_{0} + \\sqrt{- k^{2} \\sigma_{1} + \\left(- 2 D \\sigma_{1} + \\sigma_{0}\\right)^{2}} \\cosh{\\left (k x \\right )}\\right) \\sinh^{2}{\\left (k x \\right )} \\cosh{\\left (k x \\right )} + 30 \\left(k^{2} \\sigma_{1} - \\left(2 D \\sigma_{1} - \\sigma_{0}\\right)^{2}\\right) \\left(- 2 D \\sigma_{1} + \\sigma_{0} + \\sqrt{- k^{2} \\sigma_{1} + \\left(- 2 D \\sigma_{1} + \\sigma_{0}\\right)^{2}} \\cosh{\\left (k x \\right )}\\right)^{3} \\cosh{\\left (k x \\right )}\\right) + 48 \\sigma_{0} \\left(6 D \\left(D \\sigma_{1} - \\sigma_{0}\\right) - k^{2}\\right) \\left(D \\left(- 2 D \\sigma_{1} + \\sigma_{0} + \\sqrt{- k^{2} \\sigma_{1} + \\left(- 2 D \\sigma_{1} + \\sigma_{0}\\right)^{2}} \\cosh{\\left (k x \\right )}\\right) + k^{2}\\right) \\sqrt{- k^{2} \\sigma_{1} + \\left(- 2 D \\sigma_{1} + \\sigma_{0}\\right)^{2}} \\left(- 2 D \\sigma_{1} + \\sigma_{0} + \\sqrt{- k^{2} \\sigma_{1} + \\left(- 2 D \\sigma_{1} + \\sigma_{0}\\right)^{2}} \\cosh{\\left (k x \\right )}\\right)^{3} + 144 \\sigma_{0} \\sqrt{- k^{2} \\sigma_{1} + \\left(- 2 D \\sigma_{1} + \\sigma_{0}\\right)^{2}} \\left(k^{4} \\left(\\sqrt{- k^{2} \\sigma_{1} + \\left(- 2 D \\sigma_{1} + \\sigma_{0}\\right)^{2}} \\left(- 2 D \\sigma_{1} + \\sigma_{0} + \\sqrt{- k^{2} \\sigma_{1} + \\left(- 2 D \\sigma_{1} + \\sigma_{0}\\right)^{2}} \\cosh{\\left (k x \\right )}\\right) \\cosh{\\left (k x \\right )} + 2 \\left(k^{2} \\sigma_{1} - \\left(2 D \\sigma_{1} - \\sigma_{0}\\right)^{2}\\right) \\sinh^{2}{\\left (k x \\right )}\\right) - 4 \\sigma_{1} \\left(D \\left(- 2 D \\sigma_{1} + \\sigma_{0} + \\sqrt{- k^{2} \\sigma_{1} + \\left(- 2 D \\sigma_{1} + \\sigma_{0}\\right)^{2}} \\cosh{\\left (k x \\right )}\\right) + k^{2}\\right)^{3}\\right) \\left(- 2 D \\sigma_{1} + \\sigma_{0} + \\sqrt{- k^{2} \\sigma_{1} + \\left(- 2 D \\sigma_{1} + \\sigma_{0}\\right)^{2}} \\cosh{\\left (k x \\right )}\\right) - 96 \\sigma_{1} \\sqrt{- k^{2} \\sigma_{1} + \\left(- 2 D \\sigma_{1} + \\sigma_{0}\\right)^{2}} \\left(k^{6} \\left(k^{2} \\sigma_{1} - \\left(2 D \\sigma_{1} - \\sigma_{0}\\right)^{2}\\right) \\sinh^{2}{\\left (k x \\right )} + 3 k^{4} \\left(D \\left(- 2 D \\sigma_{1} + \\sigma_{0} + \\sqrt{- k^{2} \\sigma_{1} + \\left(- 2 D \\sigma_{1} + \\sigma_{0}\\right)^{2}} \\cosh{\\left (k x \\right )}\\right) + k^{2}\\right) \\left(\\sqrt{- k^{2} \\sigma_{1} + \\left(- 2 D \\sigma_{1} + \\sigma_{0}\\right)^{2}} \\left(- 2 D \\sigma_{1} + \\sigma_{0} + \\sqrt{- k^{2} \\sigma_{1} + \\left(- 2 D \\sigma_{1} + \\sigma_{0}\\right)^{2}} \\cosh{\\left (k x \\right )}\\right) \\cosh{\\left (k x \\right )} + 2 \\left(k^{2} \\sigma_{1} - \\left(2 D \\sigma_{1} - \\sigma_{0}\\right)^{2}\\right) \\sinh^{2}{\\left (k x \\right )}\\right) - 3 \\sigma_{1} \\left(D \\left(- 2 D \\sigma_{1} + \\sigma_{0} + \\sqrt{- k^{2} \\sigma_{1} + \\left(- 2 D \\sigma_{1} + \\sigma_{0}\\right)^{2}} \\cosh{\\left (k x \\right )}\\right) + k^{2}\\right)^{4}\\right) + 48 \\left(6 \\sigma_{0}^{2} - \\sigma_{1} \\left(6 D \\left(D \\sigma_{1} - \\sigma_{0}\\right) - k^{2}\\right)\\right) \\left(D \\left(- 2 D \\sigma_{1} + \\sigma_{0} + \\sqrt{- k^{2} \\sigma_{1} + \\left(- 2 D \\sigma_{1} + \\sigma_{0}\\right)^{2}} \\cosh{\\left (k x \\right )}\\right) + k^{2}\\right)^{2} \\sqrt{- k^{2} \\sigma_{1} + \\left(- 2 D \\sigma_{1} + \\sigma_{0}\\right)^{2}} \\left(- 2 D \\sigma_{1} + \\sigma_{0} + \\sqrt{- k^{2} \\sigma_{1} + \\left(- 2 D \\sigma_{1} + \\sigma_{0}\\right)^{2}} \\cosh{\\left (k x \\right )}\\right)^{2}\\right) \\sinh{\\left (k x \\right )}}{48 \\left(- 2 D \\sigma_{1} + \\sigma_{0} + \\sqrt{- k^{2} \\sigma_{1} + \\left(- 2 D \\sigma_{1} + \\sigma_{0}\\right)^{2}} \\cosh{\\left (k x \\right )}\\right)^{6}}$$"
      ],
      "text/plain": [
       "   ⎛                             ⎛                                            \n",
       "   ⎜                           5 ⎜                               5/2          \n",
       " 3 ⎜   4 ⎛                   2⎞  ⎜    ⎛   2                    2⎞        4    \n",
       "k ⋅⎝- k ⋅⎝6⋅D⋅(D⋅σ₁ - σ₀) - k ⎠ ⋅⎝120⋅⎝- k ⋅σ₁ + (-2⋅D⋅σ₁ + σ₀) ⎠   ⋅sinh (k⋅x\n",
       "──────────────────────────────────────────────────────────────────────────────\n",
       "                                                                              \n",
       "                                                                              \n",
       "                                                                              \n",
       "                                                                              \n",
       "\n",
       "                                                                              \n",
       "                                  3/2                               ⎛         \n",
       "       ⎛   2                    2⎞    ⎛      2              2     ⎞ ⎜         \n",
       ") + 30⋅⎝- k ⋅σ₁ + (-2⋅D⋅σ₁ + σ₀) ⎠   ⋅⎝2⋅sinh (k⋅x) + 3⋅cosh (k⋅x)⎠⋅⎝-2⋅D⋅σ₁ +\n",
       "──────────────────────────────────────────────────────────────────────────────\n",
       "                                                                              \n",
       "                                                                              \n",
       "                                                                              \n",
       "                                                                              \n",
       "\n",
       "                                               2                              \n",
       "         ___________________________          ⎞       ________________________\n",
       "        ╱    2                    2           ⎟      ╱    2                   \n",
       " σ₀ + ╲╱  - k ⋅σ₁ + (-2⋅D⋅σ₁ + σ₀)  ⋅cosh(k⋅x)⎠  + ╲╱  - k ⋅σ₁ + (-2⋅D⋅σ₁ + σ₀\n",
       "──────────────────────────────────────────────────────────────────────────────\n",
       "                                                                              \n",
       "                                                                              \n",
       "                                                                              \n",
       "                                                                              \n",
       "\n",
       "                                                             4                \n",
       "___ ⎛                  ___________________________          ⎞                 \n",
       " 2  ⎜                 ╱    2                    2           ⎟        ⎛ 2      \n",
       ")  ⋅⎝-2⋅D⋅σ₁ + σ₀ + ╲╱  - k ⋅σ₁ + (-2⋅D⋅σ₁ + σ₀)  ⋅cosh(k⋅x)⎠  - 240⋅⎝k ⋅σ₁ - \n",
       "──────────────────────────────────────────────────────────────────────────────\n",
       "                                                                              \n",
       "                                                                              \n",
       "                                                                              \n",
       "                                                                              \n",
       "\n",
       "                                                                              \n",
       "               2 ⎛                  ___________________________          ⎞    \n",
       "             2⎞  ⎜                 ╱    2                    2           ⎟    \n",
       "(2⋅D⋅σ₁ - σ₀) ⎠ ⋅⎝-2⋅D⋅σ₁ + σ₀ + ╲╱  - k ⋅σ₁ + (-2⋅D⋅σ₁ + σ₀)  ⋅cosh(k⋅x)⎠⋅sin\n",
       "──────────────────────────────────────────────────────────────────────────────\n",
       "                                                                              \n",
       "                                                                              \n",
       "                                                                              \n",
       "                                                                              \n",
       "\n",
       "                                                                              \n",
       "                                                ⎛                  ___________\n",
       " 2                     ⎛ 2                   2⎞ ⎜                 ╱    2      \n",
       "h (k⋅x)⋅cosh(k⋅x) + 30⋅⎝k ⋅σ₁ - (2⋅D⋅σ₁ - σ₀) ⎠⋅⎝-2⋅D⋅σ₁ + σ₀ + ╲╱  - k ⋅σ₁ + \n",
       "──────────────────────────────────────────────────────────────────────────────\n",
       "                                                                              \n",
       "                                                                              \n",
       "                                                                              \n",
       "                                                                              \n",
       "\n",
       "                           3          ⎞                                       \n",
       "________________          ⎞           ⎟                                ⎛  ⎛   \n",
       "              2           ⎟           ⎟         ⎛                   2⎞ ⎜  ⎜   \n",
       "(-2⋅D⋅σ₁ + σ₀)  ⋅cosh(k⋅x)⎠ ⋅cosh(k⋅x)⎠ + 48⋅σ₀⋅⎝6⋅D⋅(D⋅σ₁ - σ₀) - k ⎠⋅⎝D⋅⎝-2⋅\n",
       "──────────────────────────────────────────────────────────────────────────────\n",
       "                                                                              \n",
       "                                                                              \n",
       "                                                                              \n",
       "                                                                              \n",
       "\n",
       "                                                                              \n",
       "               ___________________________          ⎞     ⎞    _______________\n",
       "              ╱    2                    2           ⎟    2⎟   ╱    2          \n",
       "D⋅σ₁ + σ₀ + ╲╱  - k ⋅σ₁ + (-2⋅D⋅σ₁ + σ₀)  ⋅cosh(k⋅x)⎠ + k ⎠⋅╲╱  - k ⋅σ₁ + (-2⋅\n",
       "──────────────────────────────────────────────────────────────────────────────\n",
       "                                                                              \n",
       "                                                                              \n",
       "                                                                              \n",
       "                                                                              \n",
       "\n",
       "                                                                      3       \n",
       "____________ ⎛                  ___________________________          ⎞        \n",
       "          2  ⎜                 ╱    2                    2           ⎟        \n",
       "D⋅σ₁ + σ₀)  ⋅⎝-2⋅D⋅σ₁ + σ₀ + ╲╱  - k ⋅σ₁ + (-2⋅D⋅σ₁ + σ₀)  ⋅cosh(k⋅x)⎠  + 144⋅\n",
       "──────────────────────────────────────────────────────────────────────────────\n",
       "                                                                              \n",
       "                                                                              \n",
       "                                                                              \n",
       "                                                                              \n",
       "\n",
       "                                  ⎛                                           \n",
       "      ___________________________ ⎜   ⎛   ___________________________ ⎛       \n",
       "     ╱    2                    2  ⎜ 4 ⎜  ╱    2                    2  ⎜       \n",
       "σ₀⋅╲╱  - k ⋅σ₁ + (-2⋅D⋅σ₁ + σ₀)  ⋅⎝k ⋅⎝╲╱  - k ⋅σ₁ + (-2⋅D⋅σ₁ + σ₀)  ⋅⎝-2⋅D⋅σ₁\n",
       "──────────────────────────────────────────────────────────────────────────────\n",
       "                                                                              \n",
       "                                                                   ⎛          \n",
       "                                                                   ⎜          \n",
       "                                                                48⋅⎝-2⋅D⋅σ₁ + \n",
       "\n",
       "                                                                              \n",
       "           ___________________________          ⎞                             \n",
       "          ╱    2                    2           ⎟               ⎛ 2           \n",
       " + σ₀ + ╲╱  - k ⋅σ₁ + (-2⋅D⋅σ₁ + σ₀)  ⋅cosh(k⋅x)⎠⋅cosh(k⋅x) + 2⋅⎝k ⋅σ₁ - (2⋅D⋅\n",
       "──────────────────────────────────────────────────────────────────────────────\n",
       "                                              6                               \n",
       "        ___________________________          ⎞                                \n",
       "       ╱    2                    2           ⎟                                \n",
       "σ₀ + ╲╱  - k ⋅σ₁ + (-2⋅D⋅σ₁ + σ₀)  ⋅cosh(k⋅x)⎠                                \n",
       "\n",
       "                                                                              \n",
       "                     ⎞        ⎛  ⎛                  __________________________\n",
       "        2⎞     2     ⎟        ⎜  ⎜                 ╱    2                    2\n",
       "σ₁ - σ₀) ⎠⋅sinh (k⋅x)⎠ - 4⋅σ₁⋅⎝D⋅⎝-2⋅D⋅σ₁ + σ₀ + ╲╱  - k ⋅σ₁ + (-2⋅D⋅σ₁ + σ₀) \n",
       "──────────────────────────────────────────────────────────────────────────────\n",
       "                                                                              \n",
       "                                                                              \n",
       "                                                                              \n",
       "                                                                              \n",
       "\n",
       "                  3⎞                                                          \n",
       "_          ⎞     ⎞ ⎟ ⎛                  ___________________________          ⎞\n",
       "           ⎟    2⎟ ⎟ ⎜                 ╱    2                    2           ⎟\n",
       " ⋅cosh(k⋅x)⎠ + k ⎠ ⎠⋅⎝-2⋅D⋅σ₁ + σ₀ + ╲╱  - k ⋅σ₁ + (-2⋅D⋅σ₁ + σ₀)  ⋅cosh(k⋅x)⎠\n",
       "──────────────────────────────────────────────────────────────────────────────\n",
       "                                                                              \n",
       "                                                                              \n",
       "                                                                              \n",
       "                                                                              \n",
       "\n",
       "                                        ⎛                                     \n",
       "            ___________________________ ⎜                                     \n",
       "           ╱    2                    2  ⎜ 6 ⎛ 2                   2⎞     2    \n",
       " - 96⋅σ₁⋅╲╱  - k ⋅σ₁ + (-2⋅D⋅σ₁ + σ₀)  ⋅⎝k ⋅⎝k ⋅σ₁ - (2⋅D⋅σ₁ - σ₀) ⎠⋅sinh (k⋅x\n",
       "──────────────────────────────────────────────────────────────────────────────\n",
       "                                                                              \n",
       "                                                                              \n",
       "                                                                              \n",
       "                                                                              \n",
       "\n",
       "                                                                              \n",
       "         ⎛  ⎛                  ___________________________          ⎞     ⎞ ⎛ \n",
       "       4 ⎜  ⎜                 ╱    2                    2           ⎟    2⎟ ⎜ \n",
       ") + 3⋅k ⋅⎝D⋅⎝-2⋅D⋅σ₁ + σ₀ + ╲╱  - k ⋅σ₁ + (-2⋅D⋅σ₁ + σ₀)  ⋅cosh(k⋅x)⎠ + k ⎠⋅⎝╲\n",
       "──────────────────────────────────────────────────────────────────────────────\n",
       "                                                                              \n",
       "                                                                              \n",
       "                                                                              \n",
       "                                                                              \n",
       "\n",
       "                                                                              \n",
       "  ___________________________ ⎛                  ___________________________  \n",
       " ╱    2                    2  ⎜                 ╱    2                    2   \n",
       "╱  - k ⋅σ₁ + (-2⋅D⋅σ₁ + σ₀)  ⋅⎝-2⋅D⋅σ₁ + σ₀ + ╲╱  - k ⋅σ₁ + (-2⋅D⋅σ₁ + σ₀)  ⋅c\n",
       "──────────────────────────────────────────────────────────────────────────────\n",
       "                                                                              \n",
       "                                                                              \n",
       "                                                                              \n",
       "                                                                              \n",
       "\n",
       "                                                                              \n",
       "        ⎞                                                  ⎞        ⎛  ⎛      \n",
       "        ⎟               ⎛ 2                   2⎞     2     ⎟        ⎜  ⎜      \n",
       "osh(k⋅x)⎠⋅cosh(k⋅x) + 2⋅⎝k ⋅σ₁ - (2⋅D⋅σ₁ - σ₀) ⎠⋅sinh (k⋅x)⎠ - 3⋅σ₁⋅⎝D⋅⎝-2⋅D⋅σ\n",
       "──────────────────────────────────────────────────────────────────────────────\n",
       "                                                                              \n",
       "                                                                              \n",
       "                                                                              \n",
       "                                                                              \n",
       "\n",
       "                                                        4⎞                    \n",
       "            ___________________________          ⎞     ⎞ ⎟                    \n",
       "           ╱    2                    2           ⎟    2⎟ ⎟      ⎛    2      ⎛ \n",
       "₁ + σ₀ + ╲╱  - k ⋅σ₁ + (-2⋅D⋅σ₁ + σ₀)  ⋅cosh(k⋅x)⎠ + k ⎠ ⎠ + 48⋅⎝6⋅σ₀  - σ₁⋅⎝6\n",
       "──────────────────────────────────────────────────────────────────────────────\n",
       "                                                                              \n",
       "                                                                              \n",
       "                                                                              \n",
       "                                                                              \n",
       "\n",
       "                                                                              \n",
       "                      ⎛  ⎛                  ___________________________       \n",
       "                  2⎞⎞ ⎜  ⎜                 ╱    2                    2        \n",
       "⋅D⋅(D⋅σ₁ - σ₀) - k ⎠⎠⋅⎝D⋅⎝-2⋅D⋅σ₁ + σ₀ + ╲╱  - k ⋅σ₁ + (-2⋅D⋅σ₁ + σ₀)  ⋅cosh(k\n",
       "──────────────────────────────────────────────────────────────────────────────\n",
       "                                                                              \n",
       "                                                                              \n",
       "                                                                              \n",
       "                                                                              \n",
       "\n",
       "          2                                                                   \n",
       "   ⎞     ⎞     ___________________________ ⎛                  ________________\n",
       "   ⎟    2⎟    ╱    2                    2  ⎜                 ╱    2           \n",
       "⋅x)⎠ + k ⎠ ⋅╲╱  - k ⋅σ₁ + (-2⋅D⋅σ₁ + σ₀)  ⋅⎝-2⋅D⋅σ₁ + σ₀ + ╲╱  - k ⋅σ₁ + (-2⋅D\n",
       "──────────────────────────────────────────────────────────────────────────────\n",
       "                                                                              \n",
       "                                                                              \n",
       "                                                                              \n",
       "                                                                              \n",
       "\n",
       "                      2⎞          \n",
       "___________          ⎞ ⎟          \n",
       "         2           ⎟ ⎟          \n",
       "⋅σ₁ + σ₀)  ⋅cosh(k⋅x)⎠ ⎠⋅sinh(k⋅x)\n",
       "──────────────────────────────────\n",
       "                                  \n",
       "                                  \n",
       "                                  \n",
       "                                  "
      ]
     },
     "metadata": {},
     "output_type": "display_data"
    },
    {
     "name": "stdout",
     "output_type": "stream",
     "text": [
      "k**3*(-k**4*(6*D*(D*sigma_1 - sigma_0) - k**2)**5*(120*(-k**2*sigma_1 + (-2*D*sigma_1 + sigma_0)**2)**(5/2)*sinh(k*x)**4 + 30*(-k**2*sigma_1 + (-2*D*sigma_1 + sigma_0)**2)**(3/2)*(2*sinh(k*x)**2 + 3*cosh(k*x)**2)*(-2*D*sigma_1 + sigma_0 + sqrt(-k**2*sigma_1 + (-2*D*sigma_1 + sigma_0)**2)*cosh(k*x))**2 + sqrt(-k**2*sigma_1 + (-2*D*sigma_1 + sigma_0)**2)*(-2*D*sigma_1 + sigma_0 + sqrt(-k**2*sigma_1 + (-2*D*sigma_1 + sigma_0)**2)*cosh(k*x))**4 - 240*(k**2*sigma_1 - (2*D*sigma_1 - sigma_0)**2)**2*(-2*D*sigma_1 + sigma_0 + sqrt(-k**2*sigma_1 + (-2*D*sigma_1 + sigma_0)**2)*cosh(k*x))*sinh(k*x)**2*cosh(k*x) + 30*(k**2*sigma_1 - (2*D*sigma_1 - sigma_0)**2)*(-2*D*sigma_1 + sigma_0 + sqrt(-k**2*sigma_1 + (-2*D*sigma_1 + sigma_0)**2)*cosh(k*x))**3*cosh(k*x)) + 48*sigma_0*(6*D*(D*sigma_1 - sigma_0) - k**2)*(D*(-2*D*sigma_1 + sigma_0 + sqrt(-k**2*sigma_1 + (-2*D*sigma_1 + sigma_0)**2)*cosh(k*x)) + k**2)*sqrt(-k**2*sigma_1 + (-2*D*sigma_1 + sigma_0)**2)*(-2*D*sigma_1 + sigma_0 + sqrt(-k**2*sigma_1 + (-2*D*sigma_1 + sigma_0)**2)*cosh(k*x))**3 + 144*sigma_0*sqrt(-k**2*sigma_1 + (-2*D*sigma_1 + sigma_0)**2)*(k**4*(sqrt(-k**2*sigma_1 + (-2*D*sigma_1 + sigma_0)**2)*(-2*D*sigma_1 + sigma_0 + sqrt(-k**2*sigma_1 + (-2*D*sigma_1 + sigma_0)**2)*cosh(k*x))*cosh(k*x) + 2*(k**2*sigma_1 - (2*D*sigma_1 - sigma_0)**2)*sinh(k*x)**2) - 4*sigma_1*(D*(-2*D*sigma_1 + sigma_0 + sqrt(-k**2*sigma_1 + (-2*D*sigma_1 + sigma_0)**2)*cosh(k*x)) + k**2)**3)*(-2*D*sigma_1 + sigma_0 + sqrt(-k**2*sigma_1 + (-2*D*sigma_1 + sigma_0)**2)*cosh(k*x)) - 96*sigma_1*sqrt(-k**2*sigma_1 + (-2*D*sigma_1 + sigma_0)**2)*(k**6*(k**2*sigma_1 - (2*D*sigma_1 - sigma_0)**2)*sinh(k*x)**2 + 3*k**4*(D*(-2*D*sigma_1 + sigma_0 + sqrt(-k**2*sigma_1 + (-2*D*sigma_1 + sigma_0)**2)*cosh(k*x)) + k**2)*(sqrt(-k**2*sigma_1 + (-2*D*sigma_1 + sigma_0)**2)*(-2*D*sigma_1 + sigma_0 + sqrt(-k**2*sigma_1 + (-2*D*sigma_1 + sigma_0)**2)*cosh(k*x))*cosh(k*x) + 2*(k**2*sigma_1 - (2*D*sigma_1 - sigma_0)**2)*sinh(k*x)**2) - 3*sigma_1*(D*(-2*D*sigma_1 + sigma_0 + sqrt(-k**2*sigma_1 + (-2*D*sigma_1 + sigma_0)**2)*cosh(k*x)) + k**2)**4) + 48*(6*sigma_0**2 - sigma_1*(6*D*(D*sigma_1 - sigma_0) - k**2))*(D*(-2*D*sigma_1 + sigma_0 + sqrt(-k**2*sigma_1 + (-2*D*sigma_1 + sigma_0)**2)*cosh(k*x)) + k**2)**2*sqrt(-k**2*sigma_1 + (-2*D*sigma_1 + sigma_0)**2)*(-2*D*sigma_1 + sigma_0 + sqrt(-k**2*sigma_1 + (-2*D*sigma_1 + sigma_0)**2)*cosh(k*x))**2)*sinh(k*x)/(48*(-2*D*sigma_1 + sigma_0 + sqrt(-k**2*sigma_1 + (-2*D*sigma_1 + sigma_0)**2)*cosh(k*x))**6)\n"
     ]
    }
   ],
   "source": [
    "display(F1pda[2].subs({s1: -s1})\\\n",
    "  .subs({f1: ex2, f2: ex2}).subs({t: 0}).doit().simplify())\n",
    "print(F1pda[2].subs({s1: -s1})\\\n",
    "  .subs({f1: ex2, f2: ex2}).subs({t: 0}).doit().simplify())"
   ]
  },
  {
   "cell_type": "code",
   "execution_count": 23,
   "metadata": {},
   "outputs": [],
   "source": [
    "from pylab import *"
   ]
  },
  {
   "cell_type": "code",
   "execution_count": 24,
   "metadata": {},
   "outputs": [],
   "source": [
    "# размер расчетной области 0 <= x <= L и число точек на ней\n",
    "L, N = 30., 100\n",
    "x = array(linspace(-L*.5, L*.5, N), dtype=float64)"
   ]
  },
  {
   "cell_type": "code",
   "execution_count": 25,
   "metadata": {},
   "outputs": [],
   "source": [
    "def err1tau(x, k):\n",
    "    return -256*k**11*(1 - 3/cosh(k*x)**2)*sinh(k*x)/(3*cosh(k*x)**3)\n",
    "def err1h(x, k):\n",
    "    return 16*k**7*(256*k**10*sinh(k*x)**4 - 3328*k**10*sinh(k*x)**2 \\\n",
    "                    + 2176*k**10 - 24*sinh(k*x)**2 + 21)*sinh(k*x)/(3*cosh(k*x)**7)"
   ]
  },
  {
   "cell_type": "code",
   "execution_count": 26,
   "metadata": {},
   "outputs": [
    {
     "data": {
      "image/png": "[encoded data removed]",
      "text/plain": [
       "<Figure size 432x288 with 1 Axes>"
      ]
     },
     "metadata": {
      "needs_background": "light"
     },
     "output_type": "display_data"
    }
   ],
   "source": [
    "plot(x, err1tau(x, 0.2), label=\"k=0.2\")\n",
    "grid()"
   ]
  },
  {
   "cell_type": "code",
   "execution_count": 27,
   "metadata": {},
   "outputs": [
    {
     "data": {
      "image/png": "[encoded data removed]",
      "text/plain": [
       "<Figure size 432x288 with 1 Axes>"
      ]
     },
     "metadata": {
      "needs_background": "light"
     },
     "output_type": "display_data"
    }
   ],
   "source": [
    "plot(x, err1tau(x, 0.4), label=\"k=0.4\")\n",
    "grid()"
   ]
  },
  {
   "cell_type": "code",
   "execution_count": 28,
   "metadata": {},
   "outputs": [
    {
     "data": {
      "image/png": "[encoded data removed]",
      "text/plain": [
       "<Figure size 432x288 with 1 Axes>"
      ]
     },
     "metadata": {
      "needs_background": "light"
     },
     "output_type": "display_data"
    }
   ],
   "source": [
    "plot(x, err1h(x, 0.2), label=\"k=0.2\")\n",
    "grid()"
   ]
  },
  {
   "cell_type": "code",
   "execution_count": 29,
   "metadata": {},
   "outputs": [
    {
     "data": {
      "image/png": "[encoded data removed]",
      "text/plain": [
       "<Figure size 432x288 with 1 Axes>"
      ]
     },
     "metadata": {
      "needs_background": "light"
     },
     "output_type": "display_data"
    }
   ],
   "source": [
    "plot(x, err1h(x, 0.4), label=\"k=0.4\")\n",
    "grid()"
   ]
  }
 ],
 "metadata": {
  "kernelspec": {
   "display_name": "Python 3",
   "language": "python",
   "name": "python3"
  },
  "language_info": {
   "codemirror_mode": {
    "name": "ipython",
    "version": 3
   },
   "file_extension": ".py",
   "mimetype": "text/x-python",
   "name": "python",
   "nbconvert_exporter": "python",
   "pygments_lexer": "ipython3",
   "version": "3.7.3"
  }
 },
 "nbformat": 4,
 "nbformat_minor": 4
}
