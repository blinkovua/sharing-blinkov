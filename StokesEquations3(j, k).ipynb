{
 "cells": [
  {
   "cell_type": "code",
   "execution_count": 1,
   "metadata": {},
   "outputs": [],
   "source": [
    "from IPython.display import display\n",
    "\n",
    "from sympy import *\n",
    "init_printing()\n",
    "\n",
    "import functools\n",
    "from monom import *"
   ]
  },
  {
   "cell_type": "markdown",
   "metadata": {},
   "source": [
    "$n$ -- порядок разложения в ряд Тейлора для аппроксимации схемы"
   ]
  },
  {
   "cell_type": "code",
   "execution_count": 2,
   "metadata": {},
   "outputs": [],
   "source": [
    "n, n1 = 8, 6\n",
    "x, y, h, re = symbols('x y h Re', real=True)\n",
    "u, v, p, f1, f2 = (f(x, y) for f in symbols('u v p f1 f2', cls=Function))"
   ]
  },
  {
   "cell_type": "markdown",
   "metadata": {},
   "source": [
    "функция T раскладывает выражения $f$ в точке $(x_{i1}, y_{k1})$ в ряд Тейлора"
   ]
  },
  {
   "cell_type": "code",
   "execution_count": 3,
   "metadata": {},
   "outputs": [],
   "source": [
    "def T(f, i1, k1):\n",
    "    return sum(sum(\\\n",
    "        diff(f, x, i, y, k)*(h*(i1+0))**i*(h*k1)**k/(factorial(i)*factorial(k))\\\n",
    "            for i in range(n-k)) for k in range(n))"
   ]
  },
  {
   "cell_type": "code",
   "execution_count": 4,
   "metadata": {},
   "outputs": [
    {
     "data": {
      "image/png": "[encoded data removed]",
      "text/latex": [
       "$\\displaystyle \\frac{43 h^{6} \\frac{\\partial^{7}}{\\partial y^{7}} u{\\left(x,y \\right)}}{430080} - \\frac{7 h^{5} \\frac{\\partial^{6}}{\\partial y^{6}} u{\\left(x,y \\right)}}{10240} + \\frac{11 h^{4} \\frac{\\partial^{5}}{\\partial y^{5}} u{\\left(x,y \\right)}}{2560} - \\frac{5 h^{3} \\frac{\\partial^{4}}{\\partial y^{4}} u{\\left(x,y \\right)}}{256} + \\frac{3 h^{2} \\frac{\\partial^{3}}{\\partial y^{3}} u{\\left(x,y \\right)}}{32} - \\frac{3 h \\frac{\\partial^{2}}{\\partial y^{2}} u{\\left(x,y \\right)}}{16} + \\frac{3 \\frac{\\partial}{\\partial y} u{\\left(x,y \\right)}}{4}$"
      ],
      "text/plain": [
       "        7                   6                    5                   4        \n",
       "    6  ∂                5  ∂                 4  ∂                3  ∂         \n",
       "43⋅h ⋅───(u(x, y))   7⋅h ⋅───(u(x, y))   11⋅h ⋅───(u(x, y))   5⋅h ⋅───(u(x, y)\n",
       "        7                   6                    5                   4        \n",
       "      ∂y                  ∂y                   ∂y                  ∂y         \n",
       "────────────────── - ───────────────── + ────────────────── - ────────────────\n",
       "      430080               10240                2560                 256      \n",
       "\n",
       "           3                  2                         \n",
       "       2  ∂                  ∂                          \n",
       ")   3⋅h ⋅───(u(x, y))   3⋅h⋅───(u(x, y))     ∂          \n",
       "           3                  2            3⋅──(u(x, y))\n",
       "         ∂y                 ∂y               ∂y         \n",
       "─ + ───────────────── - ──────────────── + ─────────────\n",
       "            32                 16                4      "
      ]
     },
     "execution_count": 4,
     "metadata": {},
     "output_type": "execute_result"
    }
   ],
   "source": [
    "ratsimp((T(u, 0, Rational(1, 2))-T(u, 0, -1))/(2*h))"
   ]
  },
  {
   "cell_type": "code",
   "execution_count": 5,
   "metadata": {},
   "outputs": [],
   "source": [
    "Monom.variables = 2 + 1\n",
    "Monom.cmp = Monom.TOPdeglex\n",
    "Monom.zero = Monom(0 for v in range(Monom.variables))\n",
    "F = dict(zip((u, v, p, f1, f2),\\\n",
    "             (Monom(0 if v else i for v in range(Monom.variables)) for i in range(1, 6))))\n",
    "V = dict(zip((x, y),\\\n",
    "             (Monom(0 if v != i else 1 for v in range(Monom.variables)) for i in range(1, 3))))"
   ]
  },
  {
   "cell_type": "code",
   "execution_count": 9,
   "metadata": {},
   "outputs": [],
   "source": [
    "def d2P(eq):\n",
    "    r = []\n",
    "    for f in F.keys():\n",
    "        k = eq.coeff(f)\n",
    "        if k:\n",
    "            r.append((F[f], eq.coeff(f)))\n",
    "    def d2U(expr):\n",
    "        if expr.args:\n",
    "            if expr.func == Derivative:\n",
    "                m = F[expr.args[0]]\n",
    "                for x in expr.args[1:]:\n",
    "                    m = m*V[x[0]]**x[1]\n",
    "                r.append((m, eq.coeff(expr)))\n",
    "            else:\n",
    "                for a in expr.args: d2U(a)\n",
    "    d2U(eq)\n",
    "    return sorted(r, key=functools.cmp_to_key(lambda a, b: Monom.cmp(b[0], a[0])))\n",
    "\n",
    "def clip(f, l):\n",
    "    f = expand(f)\n",
    "    return [d2P(f.coeff(h, i)) for i in range(l)]\n",
    "\n",
    "F2p, V2p = [\"u\", \"v\", \"p\", \"f1\", \"f2\"], [\"x\", \"y\"]\n",
    "def p2L(p):\n",
    "    def m2L(m):\n",
    "        f = F2p[m[0] - 1]\n",
    "        r = []\n",
    "        for v in range(1, Monom.variables):\n",
    "            for i in range(m[v]):\n",
    "                r.append(V2p[v-1])\n",
    "        if not r:\n",
    "            return Symbol(f, real=True)\n",
    "        else:\n",
    "            return Symbol(f + \"_{%s}\" % \"\".join(r), real=True)\n",
    "    return sum(h**i*sum(m2L(m)*c for m, c in p[i]) for i in range(len(p)) if p[i])\n",
    "\n",
    "def add_mc(self, other, m, c):\n",
    "    assert c\n",
    "    p = []\n",
    "    i, j, iend, jend = 0, 0, len(self), len(other)\n",
    "    while i < iend and j < jend:\n",
    "        m1, c1 = other[j][0]*m, other[j][1]*c\n",
    "        cmp = Monom.cmp(self[i][0], m1)\n",
    "        if cmp > 0:\n",
    "            p.append((self[i][0], self[i][1]))\n",
    "            i += 1\n",
    "        elif cmp < 0:\n",
    "            p.append((m1, c1))\n",
    "            j += 1\n",
    "        else:\n",
    "            k = self[i][1] + c1\n",
    "            if k:\n",
    "                p.append((self[i][0], k))\n",
    "            i += 1\n",
    "            j += 1\n",
    "    while i < iend:\n",
    "        p.append((self[i][0], self[i][1]))\n",
    "        i += 1\n",
    "    while j < jend:\n",
    "        p.append((other[j][0]*m, other[j][1]*c))\n",
    "        j += 1\n",
    "    return p\n",
    "\n",
    "def autoReduce(G):\n",
    "    l = len(G[0])\n",
    "    assert all(l == len(g) for g in G)\n",
    "    for j in range(1, l):\n",
    "        for k in range(len(G)):\n",
    "            i = 0\n",
    "            while i < len(G[k][j]):\n",
    "                m, c = G[k][j][i]\n",
    "                for g in G:\n",
    "                    if m.divisible(g[0][0][0]):\n",
    "                        m1, c1 = m/g[0][0][0], ratsimp(-c/g[0][0][1])\n",
    "                        for r in range(j, l):\n",
    "                            G[k][r] = add_mc(G[k][r], g[r-j], m1, c1)\n",
    "                        break\n",
    "                else:\n",
    "                    i += 1\n",
    "def NF(f, G):\n",
    "    l = len(f)\n",
    "    assert all(l == len(g) for g in G)\n",
    "    for j in range(l):\n",
    "        i = 0\n",
    "        while i < len(f[j]):\n",
    "            m, c = f[j][i]\n",
    "            for g in G:\n",
    "                if m.divisible(g[0][0][0]):\n",
    "                    m1, c1 = m/g[0][0][0], ratsimp(-c/g[0][0][1])\n",
    "                    for r in range(j, l):\n",
    "                        f[r] = add_mc(f[r], g[r-j], m1, c1)\n",
    "                    break\n",
    "            else:\n",
    "                i += 1\n",
    "    return f\n",
    "\n",
    "def Spoly(f, g):\n",
    "    assert len(f) == len(g)\n",
    "    m = f[0][0][0].lcm(g[0][0][0])\n",
    "    mf, mg = m/f[0][0][0], m/g[0][0][0]\n",
    "    cf, cg = -g[0][0][1], f[0][0][1]\n",
    "    r = []\n",
    "    for i in range(len(f)):\n",
    "        r.append(add_mc([], f[i], mf, cf))\n",
    "    for i in range(len(g)):\n",
    "        r[i] = add_mc(r[i], g[i], mg, cg)\n",
    "    return r"
   ]
  },
  {
   "cell_type": "markdown",
   "metadata": {},
   "source": [
    "Входные данные для алгоритма.\n",
    "\n",
    "Система уравнений\n",
    "\\begin{equation*}\n",
    "\\begin{split}\n",
    " &u_x + u_y = 0, \\\\\n",
    " &-\\frac{1}{Re}(u_{xx} + u_{yy}) + p_x = f_1, \\\\\n",
    " &-\\frac{1}{Re}(v_{xx} + v_{yy}) + p_y = f_2.\n",
    "\\end{split}\n",
    "\\end{equation*}\n",
    "\n",
    "Разностная схема:\n",
    "\\begin{equation*}\n",
    "\\begin{split}\n",
    " &\\frac{u_{j+1, k+1/2} - 2 u_{j, k+1/2} + u_{j-1, k+1/2}}{h^2} + \\frac{u_{j, k+3/2} - 2 u_{j, k+1/2} + u_{j, k-1/2}}{h^2}\n",
    " +\\frac{p_{j+1/2, k+1/2} - p_{j-1/2, k+1/2}}{2h} = f_{1_{j, k+1/2}}, \\\\\n",
    "&\\frac{1}{Re}\\frac{v_{j+3/2, k} - 2 u_{j+1/2, k} + v_{j-1/2, k}}{h^2} + \n",
    "\\frac{1}{Re}\\frac{v_{j+1/2, k+1} - 2 u_{j+1/2, k} + v_{j+1/2, k-1}}{h^2}\n",
    " +\\frac{p_{j+1/2, k+1/2} - p_{j+1/2, k-1/2}}{2h} = f_{2_{j+1/2, k}}, \\\\ \n",
    " &\\frac{1}{Re}\\frac{u_{j+1/2, k} - u_{j-1/2, k}}{h} + \\frac{1}{Re}\\frac{v_{j, k+1/2} - v_{j, k-1/2}}{h} = 0\n",
    "\\end{split}\n",
    "\\end{equation*}\n"
   ]
  },
  {
   "cell_type": "markdown",
   "metadata": {},
   "source": [
    "## 1 шаг. Строим базис Грёбнера для упорядочения TOP $u \\succ v \\succ p$ и degrevlex $x \\succ y$\n",
    "\\begin{equation*}\n",
    "\\begin{split}\n",
    " &u_x + v_y = 0, \\\\\n",
    " &\\frac{1}{Re}v_{xy} - \\frac{1}{Re}u_{yy} + p_x - f_1, \\\\\n",
    " &-\\frac{1}{Re}v_{xx} - \\frac{1}{Re}v_{yy} + p_y - f_2, \\\\\n",
    " &p_{xx} + p_{yy} - {f_1}_y - {f_2}_y. \\\\\n",
    "\\end{split}\n",
    "\\end{equation*}"
   ]
  },
  {
   "cell_type": "markdown",
   "metadata": {},
   "source": [
    "## 2 шаг. Зная базис Грёбнера \n",
    "\\begin{equation*}\n",
    "\\begin{split}\n",
    " eq_1 &=u_x + u_y, \\\\\n",
    " eq_2 &=-\\frac{1}{Re}(u_{xx} + u_{yy}) + p_x - f_1, \\\\\n",
    " eq_3 &=-\\frac{1}{Re}(v_{xx} + v_{yy}) + p_y - f_2, \\\\ \n",
    " eq_4 &= p_{xx} + p_{yy} - {f_1}_y - {f_2}_y. \\\\\n",
    "\\end{split}\n",
    "\\end{equation*}\n",
    "## получаем условие интегрируемости для первоначальной системы\n",
    "\\begin{equation*}\n",
    "{eq_2}_x + {eq_3}_y + \\frac{1}{Re}{eq_1}_{xx} + \\frac{1}{Re}{eq_1}_{yy} - eq4 = 0\n",
    "\\end{equation*}"
   ]
  },
  {
   "cell_type": "code",
   "execution_count": 7,
   "metadata": {},
   "outputs": [],
   "source": [
    "# вспомогательные функции\n",
    "def Dx(f): return (T(f, Rational(1, 2), 0) - T(f, -Rational(1, 2), 0))/h\n",
    "def Dy(f): return (T(f, 0, Rational(1, 2)) - T(f, 0, -Rational(1, 2)))/h\n",
    "def Dxx(f): return (T(f, 1, 0) - 2*T(f, 0, 0) + T(f, -1, 0))/h**2\n",
    "def Dyy(f): return (T(f, 0, 1) - 2*T(f, 0, 0) + T(f, 0, -1))/h**2"
   ]
  },
  {
   "cell_type": "markdown",
   "metadata": {},
   "source": [
    "## 3 шаг. Строим разложения разностных уравнения до заданного порядка.\n",
    "В данном случае до $O(h^4)$"
   ]
  },
  {
   "cell_type": "code",
   "execution_count": 10,
   "metadata": {},
   "outputs": [
    {
     "data": {
      "image/png": "[encoded data removed]",
      "text/latex": [
       "$\\displaystyle h^{4} \\left(\\frac{u_{xxxxx}}{1920} + \\frac{v_{yyyyy}}{1920}\\right) + h^{2} \\left(\\frac{u_{xxx}}{24} + \\frac{v_{yyy}}{24}\\right) + u_{x} + v_{y}$"
      ],
      "text/plain": [
       " 4 ⎛u_{xxxxx}   v_{yyyyy}⎞    2 ⎛u_{xxx}   v_{yyy}⎞                \n",
       "h ⋅⎜───────── + ─────────⎟ + h ⋅⎜─────── + ───────⎟ + u_{x} + v_{y}\n",
       "   ⎝   1920        1920  ⎠      ⎝   24        24  ⎠                "
      ]
     },
     "execution_count": 10,
     "metadata": {},
     "output_type": "execute_result"
    }
   ],
   "source": [
    "eq1 = ratsimp(Dx(u)+Dy(v))\n",
    "eq1 = clip(eq1, n1)\n",
    "p2L(eq1)"
   ]
  },
  {
   "cell_type": "code",
   "execution_count": 11,
   "metadata": {},
   "outputs": [
    {
     "data": {
      "image/png": "[encoded data removed]",
      "text/latex": [
       "$\\displaystyle - f_{1} + h^{4} \\left(\\frac{p_{xxxxx}}{1920} - \\frac{u_{xxxxxx}}{360} - \\frac{u_{yyyyyy}}{360}\\right) + h^{2} \\left(\\frac{p_{xxx}}{24} - \\frac{u_{xxxx}}{12} - \\frac{u_{yyyy}}{12}\\right) + p_{x} - u_{xx} - u_{yy}$"
      ],
      "text/plain": [
       "       4 ⎛p_{xxxxx}   u_{xxxxxx}   u_{yyyyyy}⎞    2 ⎛p_{xxx}   u_{xxxx}   u_{y\n",
       "-f₁ + h ⋅⎜───────── - ────────── - ──────────⎟ + h ⋅⎜─────── - ──────── - ────\n",
       "         ⎝   1920        360          360    ⎠      ⎝   24        12         1\n",
       "\n",
       "yyy}⎞                          \n",
       "────⎟ + p_{x} - u_{xx} - u_{yy}\n",
       "2   ⎠                          "
      ]
     },
     "execution_count": 11,
     "metadata": {},
     "output_type": "execute_result"
    }
   ],
   "source": [
    "eq2 = ratsimp(-(Dxx(u) + Dyy(u)) + Dx(p) - f1)\n",
    "eq2 = clip(eq2, n1)\n",
    "p2L(eq2)"
   ]
  },
  {
   "cell_type": "code",
   "execution_count": 12,
   "metadata": {},
   "outputs": [
    {
     "data": {
      "image/png": "[encoded data removed]",
      "text/latex": [
       "$\\displaystyle - f_{2} + h^{4} \\left(\\frac{p_{yyyyy}}{1920} - \\frac{v_{xxxxxx}}{360} - \\frac{v_{yyyyyy}}{360}\\right) + h^{2} \\left(\\frac{p_{yyy}}{24} - \\frac{v_{xxxx}}{12} - \\frac{v_{yyyy}}{12}\\right) + p_{y} - v_{xx} - v_{yy}$"
      ],
      "text/plain": [
       "       4 ⎛p_{yyyyy}   v_{xxxxxx}   v_{yyyyyy}⎞    2 ⎛p_{yyy}   v_{xxxx}   v_{y\n",
       "-f₂ + h ⋅⎜───────── - ────────── - ──────────⎟ + h ⋅⎜─────── - ──────── - ────\n",
       "         ⎝   1920        360          360    ⎠      ⎝   24        12         1\n",
       "\n",
       "yyy}⎞                          \n",
       "────⎟ + p_{y} - v_{xx} - v_{yy}\n",
       "2   ⎠                          "
      ]
     },
     "execution_count": 12,
     "metadata": {},
     "output_type": "execute_result"
    }
   ],
   "source": [
    "eq3 = ratsimp(-(Dxx(v) + Dyy(v)) + Dy(p) - f2)\n",
    "eq3 = clip(eq3, n1)\n",
    "p2L(eq3)"
   ]
  },
  {
   "cell_type": "code",
   "execution_count": 13,
   "metadata": {},
   "outputs": [
    {
     "data": {
      "image/png": "[encoded data removed]",
      "text/latex": [
       "$\\displaystyle f_{1} + h^{4} \\left(- \\frac{p_{xxxxx}}{1920} + \\frac{13 u_{xxxxxx}}{5760} + \\frac{u_{yyyyyy}}{360} - \\frac{v_{xyyyyy}}{1920}\\right) + h^{2} \\left(- \\frac{p_{xxx}}{24} + \\frac{u_{xxxx}}{24} + \\frac{u_{yyyy}}{12} - \\frac{v_{xyyy}}{24}\\right) - p_{x} + u_{yy} - v_{xy}$"
      ],
      "text/plain": [
       "      4 ⎛  p_{xxxxx}   13⋅u_{xxxxxx}   u_{yyyyyy}   v_{xyyyyy}⎞    2 ⎛  p_{xxx\n",
       "f₁ + h ⋅⎜- ───────── + ───────────── + ────────── - ──────────⎟ + h ⋅⎜- ──────\n",
       "        ⎝     1920          5760          360          1920   ⎠      ⎝     24 \n",
       "\n",
       "}   u_{xxxx}   u_{yyyy}   v_{xyyy}⎞                          \n",
       "─ + ──────── + ──────── - ────────⎟ - p_{x} + u_{yy} - v_{xy}\n",
       "       24         12         24   ⎠                          "
      ]
     },
     "execution_count": 13,
     "metadata": {},
     "output_type": "execute_result"
    }
   ],
   "source": [
    "eq2a = Spoly(eq2, eq1)\n",
    "p2L(eq2a)"
   ]
  },
  {
   "cell_type": "code",
   "execution_count": 14,
   "metadata": {},
   "outputs": [
    {
     "data": {
      "image/png": "[encoded data removed]",
      "text/latex": [
       "$\\displaystyle - f1_{x} - f2_{y} + h^{4} \\left(\\frac{p_{xxxxxx}}{1920} + \\frac{p_{yyyyyy}}{1920} - \\frac{13 u_{xxxxxxx}}{5760} + \\frac{u_{xxxxxyy}}{1920} - \\frac{u_{xyyyyyy}}{360} - \\frac{v_{xxxxxxy}}{360} + \\frac{v_{xxyyyyy}}{1920} - \\frac{13 v_{yyyyyyy}}{5760}\\right) + h^{2} \\left(\\frac{p_{xxxx}}{24} + \\frac{p_{yyyy}}{24} - \\frac{u_{xxxxx}}{24} + \\frac{u_{xxxyy}}{24} - \\frac{u_{xyyyy}}{12} - \\frac{v_{xxxxy}}{12} + \\frac{v_{xxyyy}}{24} - \\frac{v_{yyyyy}}{24}\\right) + p_{xx} + p_{yy}$"
      ],
      "text/plain": [
       "                      4 ⎛p_{xxxxxx}   p_{yyyyyy}   13⋅u_{xxxxxxx}   u_{xxxxxyy\n",
       "-f_1_{x} - f_2_{y} + h ⋅⎜────────── + ────────── - ────────────── + ──────────\n",
       "                        ⎝   1920         1920           5760            1920  \n",
       "\n",
       "}   u_{xyyyyyy}   v_{xxxxxxy}   v_{xxyyyyy}   13⋅v_{yyyyyyy}⎞    2 ⎛p_{xxxx}  \n",
       "─ - ─────────── - ─────────── + ─────────── - ──────────────⎟ + h ⋅⎜──────── +\n",
       "        360           360           1920           5760     ⎠      ⎝   24     \n",
       "\n",
       " p_{yyyy}   u_{xxxxx}   u_{xxxyy}   u_{xyyyy}   v_{xxxxy}   v_{xxyyy}   v_{yyy\n",
       " ──────── - ───────── + ───────── - ───────── - ───────── + ───────── - ──────\n",
       "    24          24          24          12          12          24          24\n",
       "\n",
       "yy}⎞                  \n",
       "───⎟ + p_{xx} + p_{yy}\n",
       "   ⎠                  "
      ]
     },
     "execution_count": 14,
     "metadata": {},
     "output_type": "execute_result"
    }
   ],
   "source": [
    "eq4 = Spoly(eq2a, eq3)\n",
    "eq4a = Spoly(eq4, eq1)\n",
    "p2L(eq4a)"
   ]
  },
  {
   "cell_type": "markdown",
   "metadata": {},
   "source": [
    "## 5 шаг. Выполняем autoReduce для полученной системы"
   ]
  },
  {
   "cell_type": "code",
   "execution_count": 15,
   "metadata": {},
   "outputs": [
    {
     "data": {
      "image/png": "[encoded data removed]",
      "text/latex": [
       "$\\displaystyle h^{4} \\left(\\frac{3 f1_{xyy}}{640} - \\frac{3 f2_{xxy}}{640} + \\frac{f2_{yyy}}{90} - \\frac{37 p_{yyyy}}{2880} + \\frac{v_{yyyyy}}{96}\\right) + h^{2} \\left(\\frac{f2_{y}}{24} - \\frac{p_{yy}}{24} + \\frac{v_{yyy}}{12}\\right) + u_{x} + v_{y}$"
      ],
      "text/plain": [
       " 4 ⎛3⋅f_1_{xyy}   3⋅f_2_{xxy}   f_2_{yyy}   37⋅p_{yyyy}   v_{yyyyy}⎞    2 ⎛f_2\n",
       "h ⋅⎜─────────── - ─────────── + ───────── - ─────────── + ─────────⎟ + h ⋅⎜───\n",
       "   ⎝    640           640           90          2880          96   ⎠      ⎝   \n",
       "\n",
       "_{y}   p_{yy}   v_{yyy}⎞                \n",
       "──── - ────── + ───────⎟ + u_{x} + v_{y}\n",
       "24       24        12  ⎠                "
      ]
     },
     "metadata": {},
     "output_type": "display_data"
    },
    {
     "data": {
      "image/png": "[encoded data removed]",
      "text/latex": [
       "$\\displaystyle f_{1} + h^{4} \\left(\\frac{7 f1_{xxxx}}{5760} + \\frac{11 f1_{yyyy}}{1440} + \\frac{17 f2_{xyyy}}{5760} - \\frac{61 p_{xyyyy}}{5760} + \\frac{u_{yyyyyy}}{96}\\right) + h^{2} \\left(- \\frac{f1_{xx}}{24} + \\frac{u_{yyyy}}{12}\\right) - p_{x} + u_{yy} - v_{xy}$"
      ],
      "text/plain": [
       "      4 ⎛7⋅f_1_{xxxx}   11⋅f_1_{yyyy}   17⋅f_2_{xyyy}   61⋅p_{xyyyy}   u_{yyyy\n",
       "f₁ + h ⋅⎜──────────── + ───────────── + ───────────── - ──────────── + ───────\n",
       "        ⎝    5760            1440            5760           5760           96 \n",
       "\n",
       "yy}⎞    2 ⎛  f_1_{xx}   u_{yyyy}⎞                          \n",
       "───⎟ + h ⋅⎜- ──────── + ────────⎟ - p_{x} + u_{yy} - v_{xy}\n",
       "   ⎠      ⎝     24         12   ⎠                          "
      ]
     },
     "metadata": {},
     "output_type": "display_data"
    },
    {
     "data": {
      "image/png": "[encoded data removed]",
      "text/latex": [
       "$\\displaystyle - f_{2} + h^{4} \\left(\\frac{11 f1_{xxxy}}{1440} - \\frac{37 f1_{xyyy}}{1440} - \\frac{f2_{xxxx}}{240} + \\frac{f2_{xxyy}}{45} - \\frac{17 f2_{yyyy}}{360} + \\frac{7 p_{yyyyy}}{128} - \\frac{v_{yyyyyy}}{36}\\right) + h^{2} \\left(- \\frac{f1_{xy}}{12} + \\frac{f2_{xx}}{12} - \\frac{f2_{yy}}{6} + \\frac{5 p_{yyy}}{24} - \\frac{v_{yyyy}}{6}\\right) + p_{y} - v_{xx} - v_{yy}$"
      ],
      "text/plain": [
       "       4 ⎛11⋅f_1_{xxxy}   37⋅f_1_{xyyy}   f_2_{xxxx}   f_2_{xxyy}   17⋅f_2_{yy\n",
       "-f₂ + h ⋅⎜───────────── - ───────────── - ────────── + ────────── - ──────────\n",
       "         ⎝     1440            1440          240           45            360  \n",
       "\n",
       "yy}   7⋅p_{yyyyy}   v_{yyyyyy}⎞    2 ⎛  f_1_{xy}   f_2_{xx}   f_2_{yy}   5⋅p_{\n",
       "─── + ─────────── - ──────────⎟ + h ⋅⎜- ──────── + ──────── - ──────── + ─────\n",
       "          128           36    ⎠      ⎝     12         12         6           2\n",
       "\n",
       "yyy}   v_{yyyy}⎞                          \n",
       "──── - ────────⎟ + p_{y} - v_{xx} - v_{yy}\n",
       "4         6    ⎠                          "
      ]
     },
     "metadata": {},
     "output_type": "display_data"
    },
    {
     "data": {
      "image/png": "[encoded data removed]",
      "text/latex": [
       "$\\displaystyle - f1_{x} - f2_{y} + h^{4} \\left(- \\frac{7 f1_{xxxxx}}{5760} + \\frac{11 f1_{xxxyy}}{1440} - \\frac{13 f1_{xyyyy}}{720} - \\frac{f2_{xxxxy}}{240} + \\frac{7 f2_{xxyyy}}{480} - \\frac{127 f2_{yyyyy}}{5760} + \\frac{p_{yyyyyy}}{36}\\right) + h^{2} \\left(\\frac{f1_{xxx}}{24} - \\frac{f1_{xyy}}{12} + \\frac{f2_{xxy}}{12} - \\frac{f2_{yyy}}{8} + \\frac{p_{yyyy}}{6}\\right) + p_{xx} + p_{yy}$"
      ],
      "text/plain": [
       "                      4 ⎛  7⋅f_1_{xxxxx}   11⋅f_1_{xxxyy}   13⋅f_1_{xyyyy}   f\n",
       "-f_1_{x} - f_2_{y} + h ⋅⎜- ───────────── + ────────────── - ────────────── - ─\n",
       "                        ⎝       5760            1440             720          \n",
       "\n",
       "_2_{xxxxy}   7⋅f_2_{xxyyy}   127⋅f_2_{yyyyy}   p_{yyyyyy}⎞    2 ⎛f_1_{xxx}   f\n",
       "────────── + ───────────── - ─────────────── + ──────────⎟ + h ⋅⎜───────── - ─\n",
       "   240            480              5760            36    ⎠      ⎝    24       \n",
       "\n",
       "_1_{xyy}   f_2_{xxy}   f_2_{yyy}   p_{yyyy}⎞                  \n",
       "──────── + ───────── - ───────── + ────────⎟ + p_{xx} + p_{yy}\n",
       "   12          12          8          6    ⎠                  "
      ]
     },
     "metadata": {},
     "output_type": "display_data"
    }
   ],
   "source": [
    "G = [eq1, eq2a, eq3, eq4a]\n",
    "autoReduce(G)\n",
    "for g in G:\n",
    "    display(p2L(g))"
   ]
  },
  {
   "cell_type": "markdown",
   "metadata": {},
   "source": [
    "## 5 шаг. Проверяем условие интегрируемости с шага 2. \n",
    "## Порядок по $h$ должен быть выше чем порядок аппроксимации\n",
    "## разностных схем. В данном случае $O(h^4)$"
   ]
  },
  {
   "cell_type": "code",
   "execution_count": 16,
   "metadata": {},
   "outputs": [
    {
     "data": {
      "image/png": "[encoded data removed]",
      "text/latex": [
       "$\\displaystyle f1_{x} + f2_{y} + h^{4} \\left(\\frac{7 f1_{xxxxx}}{5760} - \\frac{11 f1_{xxxyy}}{1440} + \\frac{f1_{xyyyy}}{30} + \\frac{f2_{xxxxy}}{240} - \\frac{37 f2_{xxyyy}}{1920} + \\frac{17 f2_{yyyyy}}{360} - \\frac{61 p_{xxyyyy}}{5760} - \\frac{7 p_{yyyyyy}}{128} + \\frac{u_{xyyyyyy}}{96} + \\frac{v_{yyyyyyy}}{36}\\right) + h^{2} \\left(- \\frac{f1_{xxx}}{24} + \\frac{f1_{xyy}}{12} - \\frac{f2_{xxy}}{12} + \\frac{f2_{yyy}}{6} - \\frac{5 p_{yyyy}}{24} + \\frac{u_{xyyyy}}{12} + \\frac{v_{yyyyy}}{6}\\right) - p_{xx} - p_{yy} + u_{xyy} + v_{yyy}$"
      ],
      "text/plain": [
       "                     4 ⎛7⋅f_1_{xxxxx}   11⋅f_1_{xxxyy}   f_1_{xyyyy}   f_2_{xx\n",
       "f_1_{x} + f_2_{y} + h ⋅⎜───────────── - ────────────── + ─────────── + ───────\n",
       "                       ⎝     5760            1440             30           240\n",
       "\n",
       "xxy}   37⋅f_2_{xxyyy}   17⋅f_2_{yyyyy}   61⋅p_{xxyyyy}   7⋅p_{yyyyyy}   u_{xyy\n",
       "──── - ────────────── + ────────────── - ───────────── - ──────────── + ──────\n",
       "            1920             360              5760           128             9\n",
       "\n",
       "yyyy}   v_{yyyyyyy}⎞    2 ⎛  f_1_{xxx}   f_1_{xyy}   f_2_{xxy}   f_2_{yyy}   5\n",
       "───── + ───────────⎟ + h ⋅⎜- ───────── + ───────── - ───────── + ───────── - ─\n",
       "6            36    ⎠      ⎝      24          12          12          6        \n",
       "\n",
       "⋅p_{yyyy}   u_{xyyyy}   v_{yyyyy}⎞                                      \n",
       "───────── + ───────── + ─────────⎟ - p_{xx} - p_{yy} + u_{xyy} + v_{yyy}\n",
       "   24           12          6    ⎠                                      "
      ]
     },
     "execution_count": 16,
     "metadata": {},
     "output_type": "execute_result"
    }
   ],
   "source": [
    "p2L(Spoly(eq2a, eq3))"
   ]
  },
  {
   "cell_type": "code",
   "execution_count": 17,
   "metadata": {},
   "outputs": [
    {
     "data": {
      "image/png": "[encoded data removed]",
      "text/latex": [
       "$\\displaystyle 0$"
      ],
      "text/plain": [
       "0"
      ]
     },
     "execution_count": 17,
     "metadata": {},
     "output_type": "execute_result"
    }
   ],
   "source": [
    "p2L(NF(Spoly(eq2a, eq3), [eq1, eq2a, eq3, eq4a]))"
   ]
  },
  {
   "cell_type": "code",
   "execution_count": null,
   "metadata": {
    "collapsed": true
   },
   "outputs": [],
   "source": []
  }
 ],
 "metadata": {
  "kernelspec": {
   "display_name": "Python 3",
   "language": "python",
   "name": "python3"
  },
  "language_info": {
   "codemirror_mode": {
    "name": "ipython",
    "version": 3
   },
   "file_extension": ".py",
   "mimetype": "text/x-python",
   "name": "python",
   "nbconvert_exporter": "python",
   "pygments_lexer": "ipython3",
   "version": "3.8.5"
  }
 },
 "nbformat": 4,
 "nbformat_minor": 1
}
