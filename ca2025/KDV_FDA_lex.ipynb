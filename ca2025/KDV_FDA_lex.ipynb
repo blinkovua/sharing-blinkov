{
 "cells": [
  {
   "cell_type": "code",
   "execution_count": 1,
   "metadata": {},
   "outputs": [],
   "source": [
    "from IPython.display import display\n",
    "\n",
    "from sympy import *\n",
    "init_printing()\n",
    "\n",
    "from monom import *"
   ]
  },
  {
   "cell_type": "code",
   "execution_count": 2,
   "metadata": {},
   "outputs": [],
   "source": [
    "t, x, tau, h = symbols(r't, x, tau, h', real=True)\n",
    "u = Function('u')(t, x)"
   ]
  },
  {
   "cell_type": "code",
   "execution_count": 3,
   "metadata": {},
   "outputs": [],
   "source": [
    "pda_f, pda_v = (u,), (t, x)\n",
    "pda_n, pda_clp = (6, 6), (3, 3)\n",
    "pda_p = Rational(1, 2), Rational(0, 1)"
   ]
  },
  {
   "cell_type": "code",
   "execution_count": 4,
   "metadata": {},
   "outputs": [],
   "source": [
    "Monom.init([str(v) for v in pda_v], [str(f) for f in pda_f])\n",
    "pda_var = dict(zip(pda_v, (Monom(i) for i in range(len(pda_v)))))\n",
    "pda_fun = dict(zip(pda_f, (Monom(pos=i) for i in range(len(pda_f)))))"
   ]
  },
  {
   "cell_type": "code",
   "execution_count": 5,
   "metadata": {},
   "outputs": [],
   "source": [
    "def T(f, i1, j1):\n",
    "    return sum(sum(\\\n",
    "        diff(f, t, i, x, j)*(tau*(i1 - pda_p[0]))**i \\\n",
    "                             *(h*(j1 - pda_p[1]))**j/\\\n",
    "                 (factorial(i)*factorial(j))\\\n",
    "        for i in range(pda_n[0]))\\\n",
    "        for j in range(pda_n[1]))"
   ]
  },
  {
   "cell_type": "code",
   "execution_count": 6,
   "metadata": {},
   "outputs": [
    {
     "data": {
      "image/png": "[encoded data removed]",
      "text/latex": [
       "$\\displaystyle \\frac{\\tau^{4} \\frac{\\partial^{5}}{\\partial t^{5}} u{\\left(t,x \\right)}}{1920} + \\frac{\\tau^{2} \\frac{\\partial^{3}}{\\partial t^{3}} u{\\left(t,x \\right)}}{24} + \\frac{\\partial}{\\partial t} u{\\left(t,x \\right)}$"
      ],
      "text/plain": [
       "     5                 3                       \n",
       " 4  ∂              2  ∂                        \n",
       "τ ⋅───(u(t, x))   τ ⋅───(u(t, x))              \n",
       "     5                 3                       \n",
       "   ∂t                ∂t             ∂          \n",
       "─────────────── + ─────────────── + ──(u(t, x))\n",
       "      1920               24         ∂t         "
      ]
     },
     "execution_count": 6,
     "metadata": {},
     "output_type": "execute_result"
    }
   ],
   "source": [
    "expand((T(u, 1, 0) - T(u, 0, 0))/(tau))"
   ]
  },
  {
   "cell_type": "code",
   "execution_count": 7,
   "metadata": {},
   "outputs": [],
   "source": [
    "def clip(f):\n",
    "    f = f.expand()\n",
    "    r = []\n",
    "    for i in range(pda_clp[0]):\n",
    "        for j in range(pda_clp[1]):\n",
    "            c = f.coeff(tau, i).coeff(h, j)\n",
    "            if c and (\\\n",
    "            (pda_clp[0]-1 != i or j == 0) and \\\n",
    "            (pda_clp[1]-1 != j or i == 0)):\n",
    "                r.append(((i, j), c))\n",
    "    return r\n",
    "\n",
    "def df2m(a):\n",
    "    assert a.func == Derivative\n",
    "    m = pda_fun[a.args[0]]\n",
    "    for xi in a.args[1:]:\n",
    "        if isinstance(xi, Symbol):\n",
    "            m = m*pda_var[xi]\n",
    "        else:\n",
    "            m = m*pda_var[xi[0]]**xi[1]\n",
    "    return m\n",
    "\n",
    "def m2df(m):\n",
    "    r = pda_f[m.position()]\n",
    "    for i in range(len(m)):\n",
    "        r = r.diff(pda_v[i], m[i])\n",
    "    return r\n",
    "\n",
    "def findDiv(a, d):\n",
    "    r = None\n",
    "    def find(a, r):\n",
    "        if a.args:\n",
    "            if a.func == Derivative and a.args[0] in pda_fun:\n",
    "                m = df2m(a)\n",
    "                if m.divisible(d) and (not r or m.cmp(r) > 0):\n",
    "                    r = m\n",
    "            else:\n",
    "                for s in a.args:\n",
    "                    r = find(s, r)\n",
    "        return r\n",
    "    return find(a, r)\n",
    "\n",
    "def mult(a, s):\n",
    "    r = []\n",
    "    for mc in a:\n",
    "        m = mc[0][0] + s[0], mc[0][1] + s[1]\n",
    "        if m[0] < pda_clp[0] and m[1] < pda_clp[1] and\\\n",
    "           (pda_clp[0]-1 != m[0] or m[1] == 0) and \\\n",
    "           (pda_clp[1]-1 != m[1] or m[0] == 0):\n",
    "            r.append((m, mc[1]))\n",
    "    return r\n",
    "\n",
    "def add(a, b):\n",
    "    r, ia, ib = [], 0, 0\n",
    "    iaend, ibend = len(a), len(b)\n",
    "    while ia < iaend and ib < ibend:\n",
    "        ma, mb = a[ia][0], b[ib][0]\n",
    "        if ma[0] > mb[0]:\n",
    "            c = 1\n",
    "        elif ma[0] < mb[0]:\n",
    "            c = -1\n",
    "        elif ma[1] > mb[1]:\n",
    "            c = 1\n",
    "        elif ma[1] < mb[1]:\n",
    "            c = -1\n",
    "        else:\n",
    "            c = 0\n",
    "        \n",
    "        if c == -1:\n",
    "            r.append(a[ia])\n",
    "            ia += 1\n",
    "        elif c == 1:\n",
    "            r.append(b[ib])\n",
    "            ib += 1\n",
    "        else:\n",
    "            d = expand(a[ia][1] + b[ib][1])\n",
    "            if d:\n",
    "                r.append((ma, d))\n",
    "            ia += 1\n",
    "            ib += 1\n",
    "    while ia < iaend:\n",
    "        r.append(a[ia])\n",
    "        ia += 1\n",
    "    while ib < ibend:\n",
    "        r.append(b[ib])\n",
    "        ib += 1\n",
    "    return r\n",
    "\n",
    "def reduction(f1, f2, m, c, shift):\n",
    "#     print(m, c, shift)\n",
    "    f = mult(f2, shift)\n",
    "    if not m:\n",
    "        f = [(s, c*p) for s, p in f]\n",
    "    else:\n",
    "        f = [(s, c*p.diff(*m)) for s, p in f]\n",
    "    return add(f1, f)\n",
    "\n",
    "def NF(f, df, G, head=False):\n",
    "    assert len(df) == len(G)\n",
    "    ms = [df2m(d) for d in df]\n",
    "    i = 0 if head else 1\n",
    "    while i < len(f):\n",
    "        shift, p = f[i]\n",
    "        while True:\n",
    "            r = None\n",
    "            for l in range(len(ms)):\n",
    "                r = findDiv(p, ms[l])\n",
    "                if r:\n",
    "                    break\n",
    "            if not r: \n",
    "                break\n",
    "            m = m2df(r)\n",
    "            deg = p.as_poly(m).degree()\n",
    "            c = p.coeff(m, deg)\n",
    "            if deg > 1:\n",
    "                c = p.coeff(m, deg)*m**(deg - 1)\n",
    "            m = r/ms[l]\n",
    "            d = []\n",
    "            for k in range(len(pda_v)):\n",
    "                if m[k] > 0:\n",
    "                    d.append(pda_v[k])\n",
    "                    if m[k] > 1:\n",
    "                        d.append(m[k])\n",
    "            f = reduction(f, G[l], tuple(d), -c/G[l][0][1].coeff(df[l]), shift)\n",
    "            if i == len(f):\n",
    "                break\n",
    "            shift, p = f[i]\n",
    "        i += 1\n",
    "    return f\n",
    "\n",
    "def compact(f):\n",
    "    def cmpct(a):\n",
    "        if not a.args:\n",
    "            return a\n",
    "        else:\n",
    "            if a in pda_f:\n",
    "                return Symbol(\"%s\" % a.func, real=True)\n",
    "            elif a.func == Derivative:\n",
    "                m = []\n",
    "                for xi in a.args[1:]:\n",
    "                    if isinstance(xi, Symbol):\n",
    "                        m.append(str(xi))\n",
    "                    else:\n",
    "                        m.append(str(xi[0])*xi[1])\n",
    "                return Symbol(\"%s_{%s}\" % (a.args[0].func, \"\".join(m)), real=True)\n",
    "            else:\n",
    "                return a.func(*tuple(cmpct(s) for s in a.args))\n",
    "    return cmpct(f)\n",
    "\n",
    "def prn(a, p=None):\n",
    "    for m, c in a:\n",
    "        s = \"\"\n",
    "        if m[0]:\n",
    "            if m[0] == 1:\n",
    "                s += \"tau\"\n",
    "            else:\n",
    "                s += \"tau^%d\" % m[0]\n",
    "        if m[1]:\n",
    "            if m[0]:\n",
    "                s += \" \"\n",
    "            if m[1] == 1:\n",
    "                s += \"h\"\n",
    "            else:\n",
    "                s += \"h^%d\" % m[1]\n",
    "        if s:\n",
    "            print(\"%s =>\" % s)\n",
    "        if p:\n",
    "            display(compact(c).collect(p, factor))\n",
    "        else:\n",
    "            display(compact(c))\n",
    "\n",
    "rlen = []\n",
    "def prnlatex(a, p=None):\n",
    "    first = True\n",
    "    for m, c in a:\n",
    "        s = \"\"\n",
    "        if m[0]:\n",
    "            if m[0] == 1:\n",
    "                s += r\"\\tau\"\n",
    "            else:\n",
    "                s += r\"\\tau^%d\" % m[0]\n",
    "        if m[1]:\n",
    "            if m[0]:\n",
    "                s += \" \"\n",
    "            if m[1] == 1:\n",
    "                s += \"h\"\n",
    "            else:\n",
    "                s += r\"h^%d\" % m[1]\n",
    "        if s:\n",
    "            if first:\n",
    "                first = False\n",
    "                print(r\"%s\\Big(\" % s)\n",
    "            else:\n",
    "                print(r\" + %s\\Big(\" % s)\n",
    "        if p:\n",
    "            print(latex(compact(c).collect(p, factor)))\n",
    "        else:\n",
    "            print(latex(compact(c)))\n",
    "        if first:\n",
    "            first = False\n",
    "        else:\n",
    "            print(r\"\\Big)\")\n",
    "    rlen.append((len(a[1][1].args), len(a[2][1].args)))\n",
    "    print(rlen[-1])"
   ]
  },
  {
   "cell_type": "code",
   "execution_count": 8,
   "metadata": {},
   "outputs": [],
   "source": [
    "def Dt(a):\n",
    "    return (T(a, 1, 0) - T(a, -1, 0))/(2*tau)\n",
    "def D2x(a, i):\n",
    "    return (T(a, i, 1) - T(a, i, -1))/(2*h)\n",
    "def D2xxx(a, i):\n",
    "    return (T(a, i, 2) - 2*T(a, i, 1) + 2*T(a, i, -1) - T(a, i, -2))/(2*h**3)"
   ]
  },
  {
   "cell_type": "markdown",
   "metadata": {},
   "source": [
    "N.J. Zabusky and M.D. Kruskal: Interaction of “solitons” in a collisionless plasma and the recurrence of initial states, Phys. Rev. Lett. 15, 240 (1965)\n",
    "\n",
    "we explicit scheme with $O(\\tau^2, h^2)$ approximation:\n",
    "\\begin{align}\n",
    " u^{n+1}_{i} =& u^{n-1}_{i} -\\dfrac{2 \\tau}{h}\\left(u^{n}_{i+1} + u^{n}_{i} + u^{n}_{i-1}\\right) \\left(u^{n}_{i+1} - u^{n}_{i-1}\\right)\\\\\n",
    " & - \\dfrac{\\tau}{h^3}\\left(u^{n}_{i+2} - 2u^{n}_{i+1} + 2u^{n}_{i-1} - u^{n}_{i-2}\\right)\n",
    "\\end{align}"
   ]
  },
  {
   "cell_type": "code",
   "execution_count": 9,
   "metadata": {},
   "outputs": [],
   "source": [
    "Monom.cmp = Monom.TOPlex\n",
    "pda_n, pda_clp = (6, 6), (3, 3)\n",
    "pda_p = Rational(0, 2), Rational(0, 1)"
   ]
  },
  {
   "cell_type": "code",
   "execution_count": 10,
   "metadata": {},
   "outputs": [
    {
     "data": {
      "image/png": "[encoded data removed]",
      "text/latex": [
       "$\\displaystyle 6 u u_{x} + u_{t} + u_{xxx}$"
      ],
      "text/plain": [
       "6⋅u⋅u_{x} + u_{t} + u_{xxx}"
      ]
     },
     "metadata": {},
     "output_type": "display_data"
    },
    {
     "name": "stdout",
     "output_type": "stream",
     "text": [
      "h^2 =>\n"
     ]
    },
    {
     "data": {
      "image/png": "[encoded data removed]",
      "text/latex": [
       "$\\displaystyle u u_{xxx} + \\frac{u_{xxxxx}}{4} + 2 u_{xx} u_{x}$"
      ],
      "text/plain": [
       "            u_{xxxxx}                 \n",
       "u⋅u_{xxx} + ───────── + 2⋅u_{xx}⋅u_{x}\n",
       "                4                     "
      ]
     },
     "metadata": {},
     "output_type": "display_data"
    },
    {
     "name": "stdout",
     "output_type": "stream",
     "text": [
      "tau^2 =>\n"
     ]
    },
    {
     "data": {
      "image/png": "[encoded data removed]",
      "text/latex": [
       "$\\displaystyle \\frac{u_{ttt}}{6}$"
      ],
      "text/plain": [
       "u_{ttt}\n",
       "───────\n",
       "   6   "
      ]
     },
     "metadata": {},
     "output_type": "display_data"
    },
    {
     "name": "stdout",
     "output_type": "stream",
     "text": [
      "6 u u_{x} + u_{t} + u_{xxx}\n",
      " + h^2\\Big(\n",
      "u u_{xxx} + \\frac{u_{xxxxx}}{4} + 2 u_{xx} u_{x}\n",
      "\\Big)\n",
      " + \\tau^2\\Big(\n",
      "\\frac{u_{ttt}}{6}\n",
      "\\Big)\n",
      "(3, 2)\n"
     ]
    }
   ],
   "source": [
    "F = clip(Dt(u) + 2*(T(u, 0, 1) + T(u, 0, 0) + T(u, 0, -1))*D2x(u, 0) + D2xxx(u, 0))\n",
    "prn(F)\n",
    "prnlatex(F)"
   ]
  },
  {
   "cell_type": "code",
   "execution_count": 11,
   "metadata": {
    "scrolled": false
   },
   "outputs": [
    {
     "data": {
      "image/png": "[encoded data removed]",
      "text/latex": [
       "$\\displaystyle 6 u u_{x} + u_{t} + u_{xxx}$"
      ],
      "text/plain": [
       "6⋅u⋅u_{x} + u_{t} + u_{xxx}"
      ]
     },
     "metadata": {},
     "output_type": "display_data"
    },
    {
     "name": "stdout",
     "output_type": "stream",
     "text": [
      "h^2 =>\n"
     ]
    },
    {
     "data": {
      "image/png": "[encoded data removed]",
      "text/latex": [
       "$\\displaystyle u u_{xxx} + \\frac{u_{xxxxx}}{4} + 2 u_{xx} u_{x}$"
      ],
      "text/plain": [
       "            u_{xxxxx}                 \n",
       "u⋅u_{xxx} + ───────── + 2⋅u_{xx}⋅u_{x}\n",
       "                4                     "
      ]
     },
     "metadata": {},
     "output_type": "display_data"
    },
    {
     "name": "stdout",
     "output_type": "stream",
     "text": [
      "tau^2 =>\n"
     ]
    },
    {
     "data": {
      "image/png": "[encoded data removed]",
      "text/latex": [
       "$\\displaystyle - 36 u^{3} u_{xxx} - 18 u^{2} u_{xxxxx} - 324 u^{2} u_{xx} u_{x} - 3 u u_{xxxxxxx} - 126 u u_{xxxx} u_{x} - 198 u u_{xxx} u_{xx} - 216 u u_{x}^{3} - \\frac{u_{xxxxxxxxx}}{6} - 12 u_{xxxxxx} u_{x} - 27 u_{xxxxx} u_{xx} - 42 u_{xxxx} u_{xxx} - 162 u_{xxx} u_{x}^{2} - 198 u_{xx}^{2} u_{x}$"
      ],
      "text/plain": [
       "      3               2                  2                                                           \n",
       "- 36⋅u ⋅u_{xxx} - 18⋅u ⋅u_{xxxxx} - 324⋅u ⋅u_{xx}⋅u_{x} - 3⋅u⋅u_{xxxxxxx} - 126⋅u⋅u_{xxxx}⋅u_{x} - 19\n",
       "                                                                                                     \n",
       "\n",
       "                                3   u_{xxxxxxxxx}                                                    \n",
       "8⋅u⋅u_{xxx}⋅u_{xx} - 216⋅u⋅u_{x}  - ───────────── - 12⋅u_{xxxxxx}⋅u_{x} - 27⋅u_{xxxxx}⋅u_{xx} - 42⋅u_\n",
       "                                          6                                                          \n",
       "\n",
       "                                  2             2      \n",
       "{xxxx}⋅u_{xxx} - 162⋅u_{xxx}⋅u_{x}  - 198⋅u_{xx} ⋅u_{x}\n",
       "                                                       "
      ]
     },
     "metadata": {},
     "output_type": "display_data"
    },
    {
     "name": "stdout",
     "output_type": "stream",
     "text": [
      "6 u u_{x} + u_{t} + u_{xxx}\n",
      " + h^2\\Big(\n",
      "u u_{xxx} + \\frac{u_{xxxxx}}{4} + 2 u_{xx} u_{x}\n",
      "\\Big)\n",
      " + \\tau^2\\Big(\n",
      "- 36 u^{3} u_{xxx} - 18 u^{2} u_{xxxxx} - 324 u^{2} u_{xx} u_{x} - 3 u u_{xxxxxxx} - 126 u u_{xxxx} u_{x} - 198 u u_{xxx} u_{xx} - 216 u u_{x}^{3} - \\frac{u_{xxxxxxxxx}}{6} - 12 u_{xxxxxx} u_{x} - 27 u_{xxxxx} u_{xx} - 42 u_{xxxx} u_{xxx} - 162 u_{xxx} u_{x}^{2} - 198 u_{xx}^{2} u_{x}\n",
      "\\Big)\n",
      "(3, 13)\n"
     ]
    }
   ],
   "source": [
    "Ffda = NF(F, [u.diff(t)], [F], head=False)\n",
    "prn(Ffda)\n",
    "prnlatex(Ffda)"
   ]
  },
  {
   "cell_type": "markdown",
   "metadata": {},
   "source": [
    "we explicit scheme with $O(\\tau^2, h^2)$ approximation:\n",
    "\\begin{align}\n",
    " u^{n+1}_{i} =& u^{n-1}_{i} -\\dfrac{\\alpha \\tau}{h}u^{n}_{i}\\left(u^{n}_{i+1} - u^{n}_{i-1}\\right)\\\\\n",
    " & - \\dfrac{\\beta \\tau}{h^3}\\left(u^{n}_{i+2} - 2u^{n}_{i+1} + 2u^{n}_{i-1} - u^{n}_{i-2}\\right) \\tag{1.80}\n",
    "\\end{align}\n",
    "\n",
    "for sufficiently small steps\n",
    "\\begin{equation}\n",
    "\\tau  \\leq \\dfrac{2h^3}{3\\sqrt{3}\\beta} \\cong 0.384\\dfrac{h^3}{\\beta} \\tag{1.81}\n",
    "\\end{equation}"
   ]
  },
  {
   "cell_type": "code",
   "execution_count": 12,
   "metadata": {},
   "outputs": [],
   "source": [
    "Monom.cmp = Monom.TOPlex\n",
    "pda_n, pda_clp = (6, 6), (3, 3)\n",
    "pda_p = Rational(0, 2), Rational(0, 1)"
   ]
  },
  {
   "cell_type": "code",
   "execution_count": 13,
   "metadata": {},
   "outputs": [
    {
     "data": {
      "image/png": "[encoded data removed]",
      "text/latex": [
       "$\\displaystyle 6 u u_{x} + u_{t} + u_{xxx}$"
      ],
      "text/plain": [
       "6⋅u⋅u_{x} + u_{t} + u_{xxx}"
      ]
     },
     "metadata": {},
     "output_type": "display_data"
    },
    {
     "name": "stdout",
     "output_type": "stream",
     "text": [
      "h^2 =>\n"
     ]
    },
    {
     "data": {
      "image/png": "[encoded data removed]",
      "text/latex": [
       "$\\displaystyle u u_{xxx} + \\frac{u_{xxxxx}}{4}$"
      ],
      "text/plain": [
       "            u_{xxxxx}\n",
       "u⋅u_{xxx} + ─────────\n",
       "                4    "
      ]
     },
     "metadata": {},
     "output_type": "display_data"
    },
    {
     "name": "stdout",
     "output_type": "stream",
     "text": [
      "tau^2 =>\n"
     ]
    },
    {
     "data": {
      "image/png": "[encoded data removed]",
      "text/latex": [
       "$\\displaystyle \\frac{u_{ttt}}{6}$"
      ],
      "text/plain": [
       "u_{ttt}\n",
       "───────\n",
       "   6   "
      ]
     },
     "metadata": {},
     "output_type": "display_data"
    },
    {
     "name": "stdout",
     "output_type": "stream",
     "text": [
      "6 u u_{x} + u_{t} + u_{xxx}\n",
      " + h^2\\Big(\n",
      "u u_{xxx} + \\frac{u_{xxxxx}}{4}\n",
      "\\Big)\n",
      " + \\tau^2\\Big(\n",
      "\\frac{u_{ttt}}{6}\n",
      "\\Big)\n",
      "(2, 2)\n"
     ]
    }
   ],
   "source": [
    "F = clip(Dt(u) + 6*T(u, 0, 0)*D2x(u, 0) + D2xxx(u, 0))\n",
    "prn(F)\n",
    "prnlatex(F)"
   ]
  },
  {
   "cell_type": "code",
   "execution_count": 14,
   "metadata": {
    "scrolled": false
   },
   "outputs": [
    {
     "data": {
      "image/png": "[encoded data removed]",
      "text/latex": [
       "$\\displaystyle 6 u u_{x} + u_{t} + u_{xxx}$"
      ],
      "text/plain": [
       "6⋅u⋅u_{x} + u_{t} + u_{xxx}"
      ]
     },
     "metadata": {},
     "output_type": "display_data"
    },
    {
     "name": "stdout",
     "output_type": "stream",
     "text": [
      "h^2 =>\n"
     ]
    },
    {
     "data": {
      "image/png": "[encoded data removed]",
      "text/latex": [
       "$\\displaystyle u u_{xxx} + \\frac{u_{xxxxx}}{4}$"
      ],
      "text/plain": [
       "            u_{xxxxx}\n",
       "u⋅u_{xxx} + ─────────\n",
       "                4    "
      ]
     },
     "metadata": {},
     "output_type": "display_data"
    },
    {
     "name": "stdout",
     "output_type": "stream",
     "text": [
      "tau^2 =>\n"
     ]
    },
    {
     "data": {
      "image/png": "[encoded data removed]",
      "text/latex": [
       "$\\displaystyle - 36 u^{3} u_{xxx} - 18 u^{2} u_{xxxxx} - 324 u^{2} u_{xx} u_{x} - 3 u u_{xxxxxxx} - 126 u u_{xxxx} u_{x} - 198 u u_{xxx} u_{xx} - 216 u u_{x}^{3} - \\frac{u_{xxxxxxxxx}}{6} - 12 u_{xxxxxx} u_{x} - 27 u_{xxxxx} u_{xx} - 42 u_{xxxx} u_{xxx} - 162 u_{xxx} u_{x}^{2} - 198 u_{xx}^{2} u_{x}$"
      ],
      "text/plain": [
       "      3               2                  2                                                           \n",
       "- 36⋅u ⋅u_{xxx} - 18⋅u ⋅u_{xxxxx} - 324⋅u ⋅u_{xx}⋅u_{x} - 3⋅u⋅u_{xxxxxxx} - 126⋅u⋅u_{xxxx}⋅u_{x} - 19\n",
       "                                                                                                     \n",
       "\n",
       "                                3   u_{xxxxxxxxx}                                                    \n",
       "8⋅u⋅u_{xxx}⋅u_{xx} - 216⋅u⋅u_{x}  - ───────────── - 12⋅u_{xxxxxx}⋅u_{x} - 27⋅u_{xxxxx}⋅u_{xx} - 42⋅u_\n",
       "                                          6                                                          \n",
       "\n",
       "                                  2             2      \n",
       "{xxxx}⋅u_{xxx} - 162⋅u_{xxx}⋅u_{x}  - 198⋅u_{xx} ⋅u_{x}\n",
       "                                                       "
      ]
     },
     "metadata": {},
     "output_type": "display_data"
    },
    {
     "name": "stdout",
     "output_type": "stream",
     "text": [
      "6 u u_{x} + u_{t} + u_{xxx}\n",
      " + h^2\\Big(\n",
      "u u_{xxx} + \\frac{u_{xxxxx}}{4}\n",
      "\\Big)\n",
      " + \\tau^2\\Big(\n",
      "- 36 u^{3} u_{xxx} - 18 u^{2} u_{xxxxx} - 324 u^{2} u_{xx} u_{x} - 3 u u_{xxxxxxx} - 126 u u_{xxxx} u_{x} - 198 u u_{xxx} u_{xx} - 216 u u_{x}^{3} - \\frac{u_{xxxxxxxxx}}{6} - 12 u_{xxxxxx} u_{x} - 27 u_{xxxxx} u_{xx} - 42 u_{xxxx} u_{xxx} - 162 u_{xxx} u_{x}^{2} - 198 u_{xx}^{2} u_{x}\n",
      "\\Big)\n",
      "(2, 13)\n"
     ]
    }
   ],
   "source": [
    "Ffda = NF(F, [u.diff(t)], [F], head=False)\n",
    "prn(Ffda)\n",
    "prnlatex(Ffda)"
   ]
  },
  {
   "cell_type": "markdown",
   "metadata": {},
   "source": [
    "we explicit scheme with $O(\\tau^2, h^4)$ approximation:\n",
    "\\begin{align}\n",
    " u^{n+1}_{i} =& u^{n-1}_{i} \n",
    "    +\\dfrac{\\alpha \\tau}{6h}u^{n}_{i}\\left(u^{n}_{i+2} - 8u^{n}_{i+1} + 8u^{n}_{i-1} - u^{n}_{i-2}\\right)\\\\\n",
    " & + \\dfrac{\\beta \\tau}{4h^3}\\left(u^{n}_{i+3} - 8u^{n}_{i+2} + 13u^{n}_{i+1} - \n",
    "                                   13u^{n}_{i-1} + 8u^{n}_{i-2} - u^{n}_{i-3}\\right) \\tag{1.82}\n",
    "\\end{align}\n",
    "\n",
    "for sufficiently small steps\n",
    "\\begin{equation}\n",
    "\\tau  \\leq \\dfrac{108h^3}{(43 + 7\\sqrt{73})\\sqrt{10\\sqrt{73} - 62}\\beta} \\cong 0.216\\dfrac{h^3}{\\beta} \\tag{1.83}\n",
    "\\end{equation}"
   ]
  },
  {
   "cell_type": "code",
   "execution_count": 15,
   "metadata": {},
   "outputs": [],
   "source": [
    "def D4x(a, i):\n",
    "    return -(T(a, i, 2) - 8*T(a, i, 1) + 8*T(a, i, -1) - T(a, i, -2))/(12*h)\n",
    "def D4xxx(a, i):\n",
    "    return -(T(a, i, 3) - 8*T(a, i, 2) + 13*T(a, i, 1) -\\\n",
    "             13*T(a, i, -1) + 8*T(a, i, -2) - T(a, i, -3))/(8*h**3)"
   ]
  },
  {
   "cell_type": "code",
   "execution_count": 16,
   "metadata": {},
   "outputs": [],
   "source": [
    "Monom.cmp = Monom.TOPlex\n",
    "pda_n, pda_clp = (6, 8), (3, 5)\n",
    "pda_p = Rational(0, 2), Rational(0, 1)"
   ]
  },
  {
   "cell_type": "code",
   "execution_count": 17,
   "metadata": {},
   "outputs": [
    {
     "data": {
      "image/png": "[encoded data removed]",
      "text/latex": [
       "$\\displaystyle 6 u u_{x} + u_{t} + u_{xxx}$"
      ],
      "text/plain": [
       "6⋅u⋅u_{x} + u_{t} + u_{xxx}"
      ]
     },
     "metadata": {},
     "output_type": "display_data"
    },
    {
     "name": "stdout",
     "output_type": "stream",
     "text": [
      "h^4 =>\n"
     ]
    },
    {
     "data": {
      "image/png": "[encoded data removed]",
      "text/latex": [
       "$\\displaystyle - \\frac{u u_{xxxxx}}{5} - \\frac{7 u_{xxxxxxx}}{120}$"
      ],
      "text/plain": [
       "  u⋅u_{xxxxx}   7⋅u_{xxxxxxx}\n",
       "- ─────────── - ─────────────\n",
       "       5             120     "
      ]
     },
     "metadata": {},
     "output_type": "display_data"
    },
    {
     "name": "stdout",
     "output_type": "stream",
     "text": [
      "tau^2 =>\n"
     ]
    },
    {
     "data": {
      "image/png": "[encoded data removed]",
      "text/latex": [
       "$\\displaystyle \\frac{u_{ttt}}{6}$"
      ],
      "text/plain": [
       "u_{ttt}\n",
       "───────\n",
       "   6   "
      ]
     },
     "metadata": {},
     "output_type": "display_data"
    },
    {
     "name": "stdout",
     "output_type": "stream",
     "text": [
      "6 u u_{x} + u_{t} + u_{xxx}\n",
      " + h^4\\Big(\n",
      "- \\frac{u u_{xxxxx}}{5} - \\frac{7 u_{xxxxxxx}}{120}\n",
      "\\Big)\n",
      " + \\tau^2\\Big(\n",
      "\\frac{u_{ttt}}{6}\n",
      "\\Big)\n",
      "(2, 2)\n"
     ]
    }
   ],
   "source": [
    "F = clip(Dt(u) + 6*T(u, 0, 0)*D4x(u, 0) + D4xxx(u, 0))\n",
    "prn(F)\n",
    "prnlatex(F)"
   ]
  },
  {
   "cell_type": "code",
   "execution_count": 18,
   "metadata": {
    "scrolled": true
   },
   "outputs": [
    {
     "data": {
      "image/png": "[encoded data removed]",
      "text/latex": [
       "$\\displaystyle 6 u u_{x} + u_{t} + u_{xxx}$"
      ],
      "text/plain": [
       "6⋅u⋅u_{x} + u_{t} + u_{xxx}"
      ]
     },
     "metadata": {},
     "output_type": "display_data"
    },
    {
     "name": "stdout",
     "output_type": "stream",
     "text": [
      "h^4 =>\n"
     ]
    },
    {
     "data": {
      "image/png": "[encoded data removed]",
      "text/latex": [
       "$\\displaystyle - \\frac{u u_{xxxxx}}{5} - \\frac{7 u_{xxxxxxx}}{120}$"
      ],
      "text/plain": [
       "  u⋅u_{xxxxx}   7⋅u_{xxxxxxx}\n",
       "- ─────────── - ─────────────\n",
       "       5             120     "
      ]
     },
     "metadata": {},
     "output_type": "display_data"
    },
    {
     "name": "stdout",
     "output_type": "stream",
     "text": [
      "tau^2 =>\n"
     ]
    },
    {
     "data": {
      "image/png": "[encoded data removed]",
      "text/latex": [
       "$\\displaystyle - 36 u^{3} u_{xxx} - 18 u^{2} u_{xxxxx} - 324 u^{2} u_{xx} u_{x} - 3 u u_{xxxxxxx} - 126 u u_{xxxx} u_{x} - 198 u u_{xxx} u_{xx} - 216 u u_{x}^{3} - \\frac{u_{xxxxxxxxx}}{6} - 12 u_{xxxxxx} u_{x} - 27 u_{xxxxx} u_{xx} - 42 u_{xxxx} u_{xxx} - 162 u_{xxx} u_{x}^{2} - 198 u_{xx}^{2} u_{x}$"
      ],
      "text/plain": [
       "      3               2                  2                                                           \n",
       "- 36⋅u ⋅u_{xxx} - 18⋅u ⋅u_{xxxxx} - 324⋅u ⋅u_{xx}⋅u_{x} - 3⋅u⋅u_{xxxxxxx} - 126⋅u⋅u_{xxxx}⋅u_{x} - 19\n",
       "                                                                                                     \n",
       "\n",
       "                                3   u_{xxxxxxxxx}                                                    \n",
       "8⋅u⋅u_{xxx}⋅u_{xx} - 216⋅u⋅u_{x}  - ───────────── - 12⋅u_{xxxxxx}⋅u_{x} - 27⋅u_{xxxxx}⋅u_{xx} - 42⋅u_\n",
       "                                          6                                                          \n",
       "\n",
       "                                  2             2      \n",
       "{xxxx}⋅u_{xxx} - 162⋅u_{xxx}⋅u_{x}  - 198⋅u_{xx} ⋅u_{x}\n",
       "                                                       "
      ]
     },
     "metadata": {},
     "output_type": "display_data"
    },
    {
     "name": "stdout",
     "output_type": "stream",
     "text": [
      "6 u u_{x} + u_{t} + u_{xxx}\n",
      " + h^4\\Big(\n",
      "- \\frac{u u_{xxxxx}}{5} - \\frac{7 u_{xxxxxxx}}{120}\n",
      "\\Big)\n",
      " + \\tau^2\\Big(\n",
      "- 36 u^{3} u_{xxx} - 18 u^{2} u_{xxxxx} - 324 u^{2} u_{xx} u_{x} - 3 u u_{xxxxxxx} - 126 u u_{xxxx} u_{x} - 198 u u_{xxx} u_{xx} - 216 u u_{x}^{3} - \\frac{u_{xxxxxxxxx}}{6} - 12 u_{xxxxxx} u_{x} - 27 u_{xxxxx} u_{xx} - 42 u_{xxxx} u_{xxx} - 162 u_{xxx} u_{x}^{2} - 198 u_{xx}^{2} u_{x}\n",
      "\\Big)\n",
      "(2, 13)\n"
     ]
    }
   ],
   "source": [
    "Ffda = NF(F, [u.diff(t)], [F], head=False)\n",
    "prn(Ffda)\n",
    "prnlatex(Ffda)"
   ]
  },
  {
   "cell_type": "markdown",
   "metadata": {},
   "source": [
    "we Implicit   scheme with $O(\\tau^2, h^2)$ approximation:\n",
    "\\begin{multline*}\n",
    "\\frac{{u}_{j}^{n+1} -{u}_{j}^{n} }{\\tau }\n",
    " +\\frac{\\alpha}{4h}\\left[{u}_{j}^{n}\\left({u}_{j+1}^{n+1} - {u}_{j-1}^{n+1}\\right) +\n",
    "              {u}_{j}^{n+1}\\left({u}_{j+1}^{n} - {u}_{j-1}^{n}\\right)\\right] + \\\\\n",
    " +\\frac{\\beta}{4h^{3}}\\left(\\left({u}_{j+2}^{n+1} -2{u}_{j+1}^{n+1} +2{u}_{j-1}^{n+1} -{u}_{j-2}^{n+1}\\right) +\n",
    "             \\left({u}_{j+2}^{n} -2{u}_{j}^{n} +2{u}_{j-1}^{n} -{u}_{j-2}^{n}\\right)\\right)=0.  \\tag{1.96}\n",
    "\\end{multline*}"
   ]
  },
  {
   "cell_type": "code",
   "execution_count": 19,
   "metadata": {},
   "outputs": [],
   "source": [
    "def Dt(a):\n",
    "    return (T(a, 1, 0) - T(a, 0, 0))/(tau)"
   ]
  },
  {
   "cell_type": "code",
   "execution_count": 20,
   "metadata": {},
   "outputs": [],
   "source": [
    "Monom.cmp = Monom.TOPlex\n",
    "pda_n, pda_clp = (6, 6), (3, 3)\n",
    "pda_p = Rational(1, 2), Rational(0, 1)"
   ]
  },
  {
   "cell_type": "code",
   "execution_count": 21,
   "metadata": {},
   "outputs": [
    {
     "data": {
      "image/png": "[encoded data removed]",
      "text/latex": [
       "$\\displaystyle 6 u u_{x} + u_{t} + u_{xxx}$"
      ],
      "text/plain": [
       "6⋅u⋅u_{x} + u_{t} + u_{xxx}"
      ]
     },
     "metadata": {},
     "output_type": "display_data"
    },
    {
     "name": "stdout",
     "output_type": "stream",
     "text": [
      "h^2 =>\n"
     ]
    },
    {
     "data": {
      "image/png": "[encoded data removed]",
      "text/latex": [
       "$\\displaystyle u u_{xxx} + \\frac{u_{xxxxx}}{4}$"
      ],
      "text/plain": [
       "            u_{xxxxx}\n",
       "u⋅u_{xxx} + ─────────\n",
       "                4    "
      ]
     },
     "metadata": {},
     "output_type": "display_data"
    },
    {
     "name": "stdout",
     "output_type": "stream",
     "text": [
      "tau^2 =>\n"
     ]
    },
    {
     "data": {
      "image/png": "[encoded data removed]",
      "text/latex": [
       "$\\displaystyle \\frac{3 u u_{ttx}}{4} + \\frac{u_{ttt}}{24} + \\frac{u_{ttxxx}}{8} + \\frac{3 u_{tt} u_{x}}{4} - \\frac{3 u_{tx} u_{t}}{2}$"
      ],
      "text/plain": [
       "3⋅u⋅u_{ttx}   u_{ttt}   u_{ttxxx}   3⋅u_{tt}⋅u_{x}   3⋅u_{tx}⋅u_{t}\n",
       "─────────── + ─────── + ───────── + ────────────── - ──────────────\n",
       "     4           24         8             4                2       "
      ]
     },
     "metadata": {},
     "output_type": "display_data"
    },
    {
     "name": "stdout",
     "output_type": "stream",
     "text": [
      "6 u u_{x} + u_{t} + u_{xxx}\n",
      " + h^2\\Big(\n",
      "u u_{xxx} + \\frac{u_{xxxxx}}{4}\n",
      "\\Big)\n",
      " + \\tau^2\\Big(\n",
      "\\frac{3 u u_{ttx}}{4} + \\frac{u_{ttt}}{24} + \\frac{u_{ttxxx}}{8} + \\frac{3 u_{tt} u_{x}}{4} - \\frac{3 u_{tx} u_{t}}{2}\n",
      "\\Big)\n",
      "(2, 5)\n"
     ]
    }
   ],
   "source": [
    "F = clip(Dt(u) + 6*(T(u, 0, 0)*D2x(u, 1) + T(u, 1, 0)*D2x(u, 0))/2 + (D2xxx(u, 1) + D2xxx(u, 0))/2)\n",
    "prn(F)\n",
    "prnlatex(F)"
   ]
  },
  {
   "cell_type": "code",
   "execution_count": 22,
   "metadata": {},
   "outputs": [
    {
     "data": {
      "image/png": "[encoded data removed]",
      "text/latex": [
       "$\\displaystyle 6 u u_{x} + u_{t} + u_{xxx}$"
      ],
      "text/plain": [
       "6⋅u⋅u_{x} + u_{t} + u_{xxx}"
      ]
     },
     "metadata": {},
     "output_type": "display_data"
    },
    {
     "name": "stdout",
     "output_type": "stream",
     "text": [
      "h^2 =>\n"
     ]
    },
    {
     "data": {
      "image/png": "[encoded data removed]",
      "text/latex": [
       "$\\displaystyle u u_{xxx} + \\frac{u_{xxxxx}}{4}$"
      ],
      "text/plain": [
       "            u_{xxxxx}\n",
       "u⋅u_{xxx} + ─────────\n",
       "                4    "
      ]
     },
     "metadata": {},
     "output_type": "display_data"
    },
    {
     "name": "stdout",
     "output_type": "stream",
     "text": [
      "tau^2 =>\n"
     ]
    },
    {
     "data": {
      "image/png": "[encoded data removed]",
      "text/latex": [
       "$\\displaystyle 18 u^{3} u_{xxx} + 9 u^{2} u_{xxxxx} + 54 u^{2} u_{xx} u_{x} + \\frac{3 u u_{xxxxxxx}}{2} + 45 u u_{xxxx} u_{x} + 81 u u_{xxx} u_{xx} + \\frac{u_{xxxxxxxxx}}{12} + 6 u_{xxxxxx} u_{x} + \\frac{27 u_{xxxxx} u_{xx}}{2} + 18 u_{xxxx} u_{xxx} + 63 u_{xxx} u_{x}^{2} + 99 u_{xx}^{2} u_{x}$"
      ],
      "text/plain": [
       "    3              2                 2                3⋅u⋅u_{xxxxxxx}                                \n",
       "18⋅u ⋅u_{xxx} + 9⋅u ⋅u_{xxxxx} + 54⋅u ⋅u_{xx}⋅u_{x} + ─────────────── + 45⋅u⋅u_{xxxx}⋅u_{x} + 81⋅u⋅u_\n",
       "                                                             2                                       \n",
       "\n",
       "               u_{xxxxxxxxx}                        27⋅u_{xxxxx}⋅u_{xx}                              \n",
       "{xxx}⋅u_{xx} + ───────────── + 6⋅u_{xxxxxx}⋅u_{x} + ─────────────────── + 18⋅u_{xxxx}⋅u_{xxx} + 63⋅u_\n",
       "                     12                                      2                                       \n",
       "\n",
       "           2            2      \n",
       "{xxx}⋅u_{x}  + 99⋅u_{xx} ⋅u_{x}\n",
       "                               "
      ]
     },
     "metadata": {},
     "output_type": "display_data"
    },
    {
     "name": "stdout",
     "output_type": "stream",
     "text": [
      "6 u u_{x} + u_{t} + u_{xxx}\n",
      " + h^2\\Big(\n",
      "u u_{xxx} + \\frac{u_{xxxxx}}{4}\n",
      "\\Big)\n",
      " + \\tau^2\\Big(\n",
      "18 u^{3} u_{xxx} + 9 u^{2} u_{xxxxx} + 54 u^{2} u_{xx} u_{x} + \\frac{3 u u_{xxxxxxx}}{2} + 45 u u_{xxxx} u_{x} + 81 u u_{xxx} u_{xx} + \\frac{u_{xxxxxxxxx}}{12} + 6 u_{xxxxxx} u_{x} + \\frac{27 u_{xxxxx} u_{xx}}{2} + 18 u_{xxxx} u_{xxx} + 63 u_{xxx} u_{x}^{2} + 99 u_{xx}^{2} u_{x}\n",
      "\\Big)\n",
      "(2, 12)\n"
     ]
    }
   ],
   "source": [
    "Ffda = NF(F, [u.diff(t)], [F], head=False)\n",
    "prn(Ffda)\n",
    "prnlatex(Ffda)"
   ]
  },
  {
   "cell_type": "markdown",
   "metadata": {},
   "source": [
    "we Implicit scheme with $O(\\tau^2, h^4)$ approximation:\n",
    "\\begin{multline*}\n",
    "\\frac{{u}_{j}^{n+1} -{u}_{j}^{n} }{\\tau }\n",
    " =\\frac{\\alpha}{4h}\\left[{u}_{j}^{n}\\left({u}_{j+2}^{n+1} - 8{u}_{j+1}^{n+1} + 8{u}_{j-1}^{n+1} - {u}_{j-2}^{n+1}\\right) \n",
    "              + {u}_{j}^{n+1}\\left({u}_{j+2}^{n} - 8{u}_{j+1}^{n} + 8{u}_{j-1}^{n} - {u}_{j-2}^{n}\\right)\\right] + \\\\\n",
    " +\\frac{\\beta}{4h^{3}}\\left(\\left({u}_{j+3}^{n+1} - 8{u}_{j+2}^{n+1} + 13{u}_{j+1}^{n+1} \n",
    "                                  - 13{u}_{j-1}^{n+1} + 8{u}_{j-2}^{n+1} - {u}_{j-3}^{n+1}\\right) +\n",
    "             \\left({u}_{j+3}^{n} - 8{u}_{j+2}^{n} + 13{u}_{j+1}^{n} \n",
    "                                  - 13{u}_{j-1}^{n} + 8{u}_{j-2}^{n} - {u}_{j-3}^{n}\\right)\\right).  \\tag{1.84}\n",
    "\\end{multline*}"
   ]
  },
  {
   "cell_type": "code",
   "execution_count": 23,
   "metadata": {},
   "outputs": [],
   "source": [
    "Monom.cmp = Monom.TOPlex\n",
    "pda_n, pda_clp = (6, 8), (3, 5)\n",
    "pda_p = Rational(1, 2), Rational(0, 1)"
   ]
  },
  {
   "cell_type": "code",
   "execution_count": 24,
   "metadata": {},
   "outputs": [
    {
     "data": {
      "image/png": "[encoded data removed]",
      "text/latex": [
       "$\\displaystyle 6 u u_{x} + u_{t} + u_{xxx}$"
      ],
      "text/plain": [
       "6⋅u⋅u_{x} + u_{t} + u_{xxx}"
      ]
     },
     "metadata": {},
     "output_type": "display_data"
    },
    {
     "name": "stdout",
     "output_type": "stream",
     "text": [
      "h^4 =>\n"
     ]
    },
    {
     "data": {
      "image/png": "[encoded data removed]",
      "text/latex": [
       "$\\displaystyle - \\frac{u u_{xxxxx}}{5} - \\frac{7 u_{xxxxxxx}}{120}$"
      ],
      "text/plain": [
       "  u⋅u_{xxxxx}   7⋅u_{xxxxxxx}\n",
       "- ─────────── - ─────────────\n",
       "       5             120     "
      ]
     },
     "metadata": {},
     "output_type": "display_data"
    },
    {
     "name": "stdout",
     "output_type": "stream",
     "text": [
      "tau^2 =>\n"
     ]
    },
    {
     "data": {
      "image/png": "[encoded data removed]",
      "text/latex": [
       "$\\displaystyle \\frac{3 u u_{ttx}}{4} + \\frac{u_{ttt}}{24} + \\frac{u_{ttxxx}}{8} + \\frac{3 u_{tt} u_{x}}{4} - \\frac{3 u_{tx} u_{t}}{2}$"
      ],
      "text/plain": [
       "3⋅u⋅u_{ttx}   u_{ttt}   u_{ttxxx}   3⋅u_{tt}⋅u_{x}   3⋅u_{tx}⋅u_{t}\n",
       "─────────── + ─────── + ───────── + ────────────── - ──────────────\n",
       "     4           24         8             4                2       "
      ]
     },
     "metadata": {},
     "output_type": "display_data"
    },
    {
     "name": "stdout",
     "output_type": "stream",
     "text": [
      "6 u u_{x} + u_{t} + u_{xxx}\n",
      " + h^4\\Big(\n",
      "- \\frac{u u_{xxxxx}}{5} - \\frac{7 u_{xxxxxxx}}{120}\n",
      "\\Big)\n",
      " + \\tau^2\\Big(\n",
      "\\frac{3 u u_{ttx}}{4} + \\frac{u_{ttt}}{24} + \\frac{u_{ttxxx}}{8} + \\frac{3 u_{tt} u_{x}}{4} - \\frac{3 u_{tx} u_{t}}{2}\n",
      "\\Big)\n",
      "(2, 5)\n"
     ]
    }
   ],
   "source": [
    "F = clip(Dt(u) + 6*(T(u, 0, 0)*D4x(u, 1) + T(u, 1, 0)*D4x(u, 0))/2 + (D4xxx(u, 1) + D4xxx(u, 0))/2)\n",
    "prn(F)\n",
    "prnlatex(F)"
   ]
  },
  {
   "cell_type": "code",
   "execution_count": 25,
   "metadata": {},
   "outputs": [
    {
     "data": {
      "image/png": "[encoded data removed]",
      "text/latex": [
       "$\\displaystyle 6 u u_{x} + u_{t} + u_{xxx}$"
      ],
      "text/plain": [
       "6⋅u⋅u_{x} + u_{t} + u_{xxx}"
      ]
     },
     "metadata": {},
     "output_type": "display_data"
    },
    {
     "name": "stdout",
     "output_type": "stream",
     "text": [
      "h^4 =>\n"
     ]
    },
    {
     "data": {
      "image/png": "[encoded data removed]",
      "text/latex": [
       "$\\displaystyle - \\frac{u u_{xxxxx}}{5} - \\frac{7 u_{xxxxxxx}}{120}$"
      ],
      "text/plain": [
       "  u⋅u_{xxxxx}   7⋅u_{xxxxxxx}\n",
       "- ─────────── - ─────────────\n",
       "       5             120     "
      ]
     },
     "metadata": {},
     "output_type": "display_data"
    },
    {
     "name": "stdout",
     "output_type": "stream",
     "text": [
      "tau^2 =>\n"
     ]
    },
    {
     "data": {
      "image/png": "[encoded data removed]",
      "text/latex": [
       "$\\displaystyle 18 u^{3} u_{xxx} + 9 u^{2} u_{xxxxx} + 54 u^{2} u_{xx} u_{x} + \\frac{3 u u_{xxxxxxx}}{2} + 45 u u_{xxxx} u_{x} + 81 u u_{xxx} u_{xx} + \\frac{u_{xxxxxxxxx}}{12} + 6 u_{xxxxxx} u_{x} + \\frac{27 u_{xxxxx} u_{xx}}{2} + 18 u_{xxxx} u_{xxx} + 63 u_{xxx} u_{x}^{2} + 99 u_{xx}^{2} u_{x}$"
      ],
      "text/plain": [
       "    3              2                 2                3⋅u⋅u_{xxxxxxx}                                \n",
       "18⋅u ⋅u_{xxx} + 9⋅u ⋅u_{xxxxx} + 54⋅u ⋅u_{xx}⋅u_{x} + ─────────────── + 45⋅u⋅u_{xxxx}⋅u_{x} + 81⋅u⋅u_\n",
       "                                                             2                                       \n",
       "\n",
       "               u_{xxxxxxxxx}                        27⋅u_{xxxxx}⋅u_{xx}                              \n",
       "{xxx}⋅u_{xx} + ───────────── + 6⋅u_{xxxxxx}⋅u_{x} + ─────────────────── + 18⋅u_{xxxx}⋅u_{xxx} + 63⋅u_\n",
       "                     12                                      2                                       \n",
       "\n",
       "           2            2      \n",
       "{xxx}⋅u_{x}  + 99⋅u_{xx} ⋅u_{x}\n",
       "                               "
      ]
     },
     "metadata": {},
     "output_type": "display_data"
    },
    {
     "name": "stdout",
     "output_type": "stream",
     "text": [
      "6 u u_{x} + u_{t} + u_{xxx}\n",
      " + h^4\\Big(\n",
      "- \\frac{u u_{xxxxx}}{5} - \\frac{7 u_{xxxxxxx}}{120}\n",
      "\\Big)\n",
      " + \\tau^2\\Big(\n",
      "18 u^{3} u_{xxx} + 9 u^{2} u_{xxxxx} + 54 u^{2} u_{xx} u_{x} + \\frac{3 u u_{xxxxxxx}}{2} + 45 u u_{xxxx} u_{x} + 81 u u_{xxx} u_{xx} + \\frac{u_{xxxxxxxxx}}{12} + 6 u_{xxxxxx} u_{x} + \\frac{27 u_{xxxxx} u_{xx}}{2} + 18 u_{xxxx} u_{xxx} + 63 u_{xxx} u_{x}^{2} + 99 u_{xx}^{2} u_{x}\n",
      "\\Big)\n",
      "(2, 12)\n"
     ]
    }
   ],
   "source": [
    "Ffda = NF(F, [u.diff(t)], [F], head=False)\n",
    "prn(Ffda)\n",
    "prnlatex(Ffda)"
   ]
  },
  {
   "cell_type": "markdown",
   "metadata": {},
   "source": [
    "В результате получим следующую разностную схему для уравнения~(1.18), \n",
    "аналогичную схеме Кранка--Николсона для уравнения теплопроводности\n",
    "\\begin{multline*}\n",
    "\\frac{{u}_{j}^{n+1} -{u}_{j}^{n} }{\\tau }\n",
    " +\\alpha\\frac{\\left({u^2}_{j+1}^{n+1} - {u^2}_{j-1}^{n+1}\\right) +\n",
    "              \\left({u^2}_{j+1}^{n} - {u^2}_{j-1}^{n}\\right)}{8h} + \\\\\n",
    " +\\beta\\frac{\\left({u}_{j+2}^{n+1} -2{u}_{j+1}^{n+1} +2{u}_{j-1}^{n+1} -{u}_{j-2}^{n+1}\\right) +\n",
    "             \\left({u}_{j+2}^{n} -2{u}_{j}^{n+1} +2{u}_{j-1}^{n} -{u}_{j-2}^{n}\\right)}{4h^{3}}=0.\n",
    "\\end{multline*}"
   ]
  },
  {
   "cell_type": "code",
   "execution_count": 26,
   "metadata": {},
   "outputs": [],
   "source": [
    "Monom.cmp = Monom.TOPlex\n",
    "pda_n, pda_clp = (6, 6), (3, 3)\n",
    "pda_p = Rational(0, 2), Rational(0, 1)"
   ]
  },
  {
   "cell_type": "code",
   "execution_count": 27,
   "metadata": {},
   "outputs": [
    {
     "data": {
      "image/png": "[encoded data removed]",
      "text/latex": [
       "$\\displaystyle 6 u u_{x} + u_{t} + u_{xxx}$"
      ],
      "text/plain": [
       "6⋅u⋅u_{x} + u_{t} + u_{xxx}"
      ]
     },
     "metadata": {},
     "output_type": "display_data"
    },
    {
     "name": "stdout",
     "output_type": "stream",
     "text": [
      "h^2 =>\n"
     ]
    },
    {
     "data": {
      "image/png": "[encoded data removed]",
      "text/latex": [
       "$\\displaystyle u u_{xxx} + \\frac{u_{xxxxx}}{4} + 3 u_{xx} u_{x}$"
      ],
      "text/plain": [
       "            u_{xxxxx}                 \n",
       "u⋅u_{xxx} + ───────── + 3⋅u_{xx}⋅u_{x}\n",
       "                4                     "
      ]
     },
     "metadata": {},
     "output_type": "display_data"
    },
    {
     "name": "stdout",
     "output_type": "stream",
     "text": [
      "tau =>\n"
     ]
    },
    {
     "data": {
      "image/png": "[encoded data removed]",
      "text/latex": [
       "$\\displaystyle 3 u u_{tx} + \\frac{u_{tt}}{2} + \\frac{u_{txxx}}{2} + 3 u_{t} u_{x}$"
      ],
      "text/plain": [
       "             u_{tt}   u_{txxx}                \n",
       "3⋅u⋅u_{tx} + ────── + ──────── + 3⋅u_{t}⋅u_{x}\n",
       "               2         2                    "
      ]
     },
     "metadata": {},
     "output_type": "display_data"
    },
    {
     "name": "stdout",
     "output_type": "stream",
     "text": [
      "tau^2 =>\n"
     ]
    },
    {
     "data": {
      "image/png": "[encoded data removed]",
      "text/latex": [
       "$\\displaystyle \\frac{3 u u_{ttx}}{2} + \\frac{u_{ttt}}{6} + \\frac{u_{ttxxx}}{4} + \\frac{3 u_{tt} u_{x}}{2} + 3 u_{tx} u_{t}$"
      ],
      "text/plain": [
       "3⋅u⋅u_{ttx}   u_{ttt}   u_{ttxxx}   3⋅u_{tt}⋅u_{x}                 \n",
       "─────────── + ─────── + ───────── + ────────────── + 3⋅u_{tx}⋅u_{t}\n",
       "     2           6          4             2                        "
      ]
     },
     "metadata": {},
     "output_type": "display_data"
    },
    {
     "name": "stdout",
     "output_type": "stream",
     "text": [
      "6 u u_{x} + u_{t} + u_{xxx}\n",
      " + h^2\\Big(\n",
      "u u_{xxx} + \\frac{u_{xxxxx}}{4} + 3 u_{xx} u_{x}\n",
      "\\Big)\n",
      " + \\tau\\Big(\n",
      "3 u u_{tx} + \\frac{u_{tt}}{2} + \\frac{u_{txxx}}{2} + 3 u_{t} u_{x}\n",
      "\\Big)\n",
      " + \\tau^2\\Big(\n",
      "\\frac{3 u u_{ttx}}{2} + \\frac{u_{ttt}}{6} + \\frac{u_{ttxxx}}{4} + \\frac{3 u_{tt} u_{x}}{2} + 3 u_{tx} u_{t}\n",
      "\\Big)\n",
      "(3, 4)\n"
     ]
    }
   ],
   "source": [
    "F = clip(Dt(u) + 3*(D2x(u**2, 1) + D2x(u**2, 0))/2 + (D2xxx(u, 1) + D2xxx(u, 0))/2)\n",
    "prn(F)\n",
    "prnlatex(F)"
   ]
  },
  {
   "cell_type": "code",
   "execution_count": 28,
   "metadata": {},
   "outputs": [
    {
     "data": {
      "image/png": "[encoded data removed]",
      "text/latex": [
       "$\\displaystyle 6 u u_{x} + u_{t} + u_{xxx}$"
      ],
      "text/plain": [
       "6⋅u⋅u_{x} + u_{t} + u_{xxx}"
      ]
     },
     "metadata": {},
     "output_type": "display_data"
    },
    {
     "name": "stdout",
     "output_type": "stream",
     "text": [
      "h^2 =>\n"
     ]
    },
    {
     "data": {
      "image/png": "[encoded data removed]",
      "text/latex": [
       "$\\displaystyle u u_{xxx} + \\frac{u_{xxxxx}}{4} + 3 u_{xx} u_{x}$"
      ],
      "text/plain": [
       "            u_{xxxxx}                 \n",
       "u⋅u_{xxx} + ───────── + 3⋅u_{xx}⋅u_{x}\n",
       "                4                     "
      ]
     },
     "metadata": {},
     "output_type": "display_data"
    },
    {
     "name": "stdout",
     "output_type": "stream",
     "text": [
      "tau^2 =>\n"
     ]
    },
    {
     "data": {
      "image/png": "[encoded data removed]",
      "text/latex": [
       "$\\displaystyle 18 u^{3} u_{xxx} + 9 u^{2} u_{xxxxx} + 162 u^{2} u_{xx} u_{x} + \\frac{3 u u_{xxxxxxx}}{2} + 63 u u_{xxxx} u_{x} + 99 u u_{xxx} u_{xx} + 108 u u_{x}^{3} + \\frac{u_{xxxxxxxxx}}{12} + 6 u_{xxxxxx} u_{x} + \\frac{27 u_{xxxxx} u_{xx}}{2} + 21 u_{xxxx} u_{xxx} + 81 u_{xxx} u_{x}^{2} + 99 u_{xx}^{2} u_{x}$"
      ],
      "text/plain": [
       "    3              2                  2                3⋅u⋅u_{xxxxxxx}                               \n",
       "18⋅u ⋅u_{xxx} + 9⋅u ⋅u_{xxxxx} + 162⋅u ⋅u_{xx}⋅u_{x} + ─────────────── + 63⋅u⋅u_{xxxx}⋅u_{x} + 99⋅u⋅u\n",
       "                                                              2                                      \n",
       "\n",
       "                           3   u_{xxxxxxxxx}                        27⋅u_{xxxxx}⋅u_{xx}              \n",
       "_{xxx}⋅u_{xx} + 108⋅u⋅u_{x}  + ───────────── + 6⋅u_{xxxxxx}⋅u_{x} + ─────────────────── + 21⋅u_{xxxx}\n",
       "                                     12                                      2                       \n",
       "\n",
       "                           2            2      \n",
       "⋅u_{xxx} + 81⋅u_{xxx}⋅u_{x}  + 99⋅u_{xx} ⋅u_{x}\n",
       "                                               "
      ]
     },
     "metadata": {},
     "output_type": "display_data"
    },
    {
     "name": "stdout",
     "output_type": "stream",
     "text": [
      "6 u u_{x} + u_{t} + u_{xxx}\n",
      " + h^2\\Big(\n",
      "u u_{xxx} + \\frac{u_{xxxxx}}{4} + 3 u_{xx} u_{x}\n",
      "\\Big)\n",
      " + \\tau^2\\Big(\n",
      "18 u^{3} u_{xxx} + 9 u^{2} u_{xxxxx} + 162 u^{2} u_{xx} u_{x} + \\frac{3 u u_{xxxxxxx}}{2} + 63 u u_{xxxx} u_{x} + 99 u u_{xxx} u_{xx} + 108 u u_{x}^{3} + \\frac{u_{xxxxxxxxx}}{12} + 6 u_{xxxxxx} u_{x} + \\frac{27 u_{xxxxx} u_{xx}}{2} + 21 u_{xxxx} u_{xxx} + 81 u_{xxx} u_{x}^{2} + 99 u_{xx}^{2} u_{x}\n",
      "\\Big)\n",
      "(3, 13)\n"
     ]
    }
   ],
   "source": [
    "Ffda = NF(F, [u.diff(t)], [F], head=False)\n",
    "prn(Ffda)\n",
    "prnlatex(Ffda)"
   ]
  },
  {
   "cell_type": "markdown",
   "metadata": {},
   "source": [
    "Наша $O(\\tau^2, h^4)$:\n",
    "\\begin{multline*}\n",
    "\\frac{{u}_{j}^{n+1} -{u}_{j}^{n} }{\\tau }\n",
    " - \\frac{3}{24h}\\left(\\left({u^2}_{j+2}^{n+1} - 8{u^2}_{j+1}^{n+1} + 8{u^2}_{j-1}^{n+1} - {u^2}_{j-2}^{n+1}\\right) \n",
    "              + \\left({u^2}_{j+2}^{n} - 8{u^2}_{j+1}^{n} + 8{u^2}_{j-1}^{n} - {u^2}_{j-2}^{n}\\right)\\right) + \\\\\n",
    " - \\frac{1}{16h^{3}}\\left(\\left({u}_{j+3}^{n+1} - 8{u}_{j+2}^{n+1} + 13{u}_{j+1}^{n+1} \n",
    "                                  - 13{u}_{j-1}^{n+1} + 8{u}_{j-2}^{n+1} - {u}_{j-3}^{n+1}\\right) + \\right. \\\\ \\left.\n",
    "             \\left({u}_{j+3}^{n} - 8{u}_{j+2}^{n} + 13{u}_{j+1}^{n} \n",
    "                                  - 13{u}_{j-1}^{n} + 8{u}_{j-2}^{n} - {u}_{j-3}^{n}\\right)\\right)=0\n",
    "\\end{multline*}"
   ]
  },
  {
   "cell_type": "code",
   "execution_count": 29,
   "metadata": {},
   "outputs": [],
   "source": [
    "Monom.cmp = Monom.TOPlex\n",
    "pda_n, pda_clp = (6, 8), (3, 5)\n",
    "pda_p = Rational(1, 2), Rational(0, 1)"
   ]
  },
  {
   "cell_type": "code",
   "execution_count": 30,
   "metadata": {},
   "outputs": [
    {
     "data": {
      "image/png": "[encoded data removed]",
      "text/latex": [
       "$\\displaystyle 6 u u_{x} + u_{t} + u_{xxx}$"
      ],
      "text/plain": [
       "6⋅u⋅u_{x} + u_{t} + u_{xxx}"
      ]
     },
     "metadata": {},
     "output_type": "display_data"
    },
    {
     "name": "stdout",
     "output_type": "stream",
     "text": [
      "h^4 =>\n"
     ]
    },
    {
     "data": {
      "image/png": "[encoded data removed]",
      "text/latex": [
       "$\\displaystyle - \\frac{u u_{xxxxx}}{5} - \\frac{7 u_{xxxxxxx}}{120} - u_{xxxx} u_{x} - 2 u_{xxx} u_{xx}$"
      ],
      "text/plain": [
       "  u⋅u_{xxxxx}   7⋅u_{xxxxxxx}                                    \n",
       "- ─────────── - ───────────── - u_{xxxx}⋅u_{x} - 2⋅u_{xxx}⋅u_{xx}\n",
       "       5             120                                         "
      ]
     },
     "metadata": {},
     "output_type": "display_data"
    },
    {
     "name": "stdout",
     "output_type": "stream",
     "text": [
      "tau^2 =>\n"
     ]
    },
    {
     "data": {
      "image/png": "[encoded data removed]",
      "text/latex": [
       "$\\displaystyle \\frac{3 u u_{ttx}}{4} + \\frac{u_{ttt}}{24} + \\frac{u_{ttxxx}}{8} + \\frac{3 u_{tt} u_{x}}{4} + \\frac{3 u_{tx} u_{t}}{2}$"
      ],
      "text/plain": [
       "3⋅u⋅u_{ttx}   u_{ttt}   u_{ttxxx}   3⋅u_{tt}⋅u_{x}   3⋅u_{tx}⋅u_{t}\n",
       "─────────── + ─────── + ───────── + ────────────── + ──────────────\n",
       "     4           24         8             4                2       "
      ]
     },
     "metadata": {},
     "output_type": "display_data"
    },
    {
     "name": "stdout",
     "output_type": "stream",
     "text": [
      "6 u u_{x} + u_{t} + u_{xxx}\n",
      " + h^4\\Big(\n",
      "- \\frac{u u_{xxxxx}}{5} - \\frac{7 u_{xxxxxxx}}{120} - u_{xxxx} u_{x} - 2 u_{xxx} u_{xx}\n",
      "\\Big)\n",
      " + \\tau^2\\Big(\n",
      "\\frac{3 u u_{ttx}}{4} + \\frac{u_{ttt}}{24} + \\frac{u_{ttxxx}}{8} + \\frac{3 u_{tt} u_{x}}{4} + \\frac{3 u_{tx} u_{t}}{2}\n",
      "\\Big)\n",
      "(4, 5)\n"
     ]
    }
   ],
   "source": [
    "F = clip(Dt(u) + 3*(D4x(u**2, 1) + D4x(u**2, 0))/2 + (D4xxx(u, 1) + D4xxx(u, 0))/2)\n",
    "prn(F)\n",
    "prnlatex(F)"
   ]
  },
  {
   "cell_type": "code",
   "execution_count": 31,
   "metadata": {},
   "outputs": [
    {
     "data": {
      "image/png": "[encoded data removed]",
      "text/latex": [
       "$\\displaystyle 6 u u_{x} + u_{t} + u_{xxx}$"
      ],
      "text/plain": [
       "6⋅u⋅u_{x} + u_{t} + u_{xxx}"
      ]
     },
     "metadata": {},
     "output_type": "display_data"
    },
    {
     "name": "stdout",
     "output_type": "stream",
     "text": [
      "h^4 =>\n"
     ]
    },
    {
     "data": {
      "image/png": "[encoded data removed]",
      "text/latex": [
       "$\\displaystyle - \\frac{u u_{xxxxx}}{5} - \\frac{7 u_{xxxxxxx}}{120} - u_{xxxx} u_{x} - 2 u_{xxx} u_{xx}$"
      ],
      "text/plain": [
       "  u⋅u_{xxxxx}   7⋅u_{xxxxxxx}                                    \n",
       "- ─────────── - ───────────── - u_{xxxx}⋅u_{x} - 2⋅u_{xxx}⋅u_{xx}\n",
       "       5             120                                         "
      ]
     },
     "metadata": {},
     "output_type": "display_data"
    },
    {
     "name": "stdout",
     "output_type": "stream",
     "text": [
      "tau^2 =>\n"
     ]
    },
    {
     "data": {
      "image/png": "[encoded data removed]",
      "text/latex": [
       "$\\displaystyle 18 u^{3} u_{xxx} + 9 u^{2} u_{xxxxx} + 162 u^{2} u_{xx} u_{x} + \\frac{3 u u_{xxxxxxx}}{2} + 63 u u_{xxxx} u_{x} + 99 u u_{xxx} u_{xx} + 108 u u_{x}^{3} + \\frac{u_{xxxxxxxxx}}{12} + 6 u_{xxxxxx} u_{x} + \\frac{27 u_{xxxxx} u_{xx}}{2} + 21 u_{xxxx} u_{xxx} + 81 u_{xxx} u_{x}^{2} + 99 u_{xx}^{2} u_{x}$"
      ],
      "text/plain": [
       "    3              2                  2                3⋅u⋅u_{xxxxxxx}                               \n",
       "18⋅u ⋅u_{xxx} + 9⋅u ⋅u_{xxxxx} + 162⋅u ⋅u_{xx}⋅u_{x} + ─────────────── + 63⋅u⋅u_{xxxx}⋅u_{x} + 99⋅u⋅u\n",
       "                                                              2                                      \n",
       "\n",
       "                           3   u_{xxxxxxxxx}                        27⋅u_{xxxxx}⋅u_{xx}              \n",
       "_{xxx}⋅u_{xx} + 108⋅u⋅u_{x}  + ───────────── + 6⋅u_{xxxxxx}⋅u_{x} + ─────────────────── + 21⋅u_{xxxx}\n",
       "                                     12                                      2                       \n",
       "\n",
       "                           2            2      \n",
       "⋅u_{xxx} + 81⋅u_{xxx}⋅u_{x}  + 99⋅u_{xx} ⋅u_{x}\n",
       "                                               "
      ]
     },
     "metadata": {},
     "output_type": "display_data"
    },
    {
     "name": "stdout",
     "output_type": "stream",
     "text": [
      "6 u u_{x} + u_{t} + u_{xxx}\n",
      " + h^4\\Big(\n",
      "- \\frac{u u_{xxxxx}}{5} - \\frac{7 u_{xxxxxxx}}{120} - u_{xxxx} u_{x} - 2 u_{xxx} u_{xx}\n",
      "\\Big)\n",
      " + \\tau^2\\Big(\n",
      "18 u^{3} u_{xxx} + 9 u^{2} u_{xxxxx} + 162 u^{2} u_{xx} u_{x} + \\frac{3 u u_{xxxxxxx}}{2} + 63 u u_{xxxx} u_{x} + 99 u u_{xxx} u_{xx} + 108 u u_{x}^{3} + \\frac{u_{xxxxxxxxx}}{12} + 6 u_{xxxxxx} u_{x} + \\frac{27 u_{xxxxx} u_{xx}}{2} + 21 u_{xxxx} u_{xxx} + 81 u_{xxx} u_{x}^{2} + 99 u_{xx}^{2} u_{x}\n",
      "\\Big)\n",
      "(4, 13)\n"
     ]
    }
   ],
   "source": [
    "Ffda = NF(F, [u.diff(t)], [F], head=False)\n",
    "prn(Ffda)\n",
    "prnlatex(Ffda)"
   ]
  },
  {
   "cell_type": "code",
   "execution_count": 32,
   "metadata": {},
   "outputs": [
    {
     "name": "stdout",
     "output_type": "stream",
     "text": [
      "(3, 2)\n",
      "(2, 2)\n",
      "(2, 2)\n",
      "(2, 5)\n",
      "(2, 5)\n",
      "(3, 4)\n",
      "(4, 5)\n"
     ]
    }
   ],
   "source": [
    "for l in rlen[0::2]:\n",
    "    print(l)"
   ]
  },
  {
   "cell_type": "code",
   "execution_count": 33,
   "metadata": {},
   "outputs": [
    {
     "name": "stdout",
     "output_type": "stream",
     "text": [
      "(3, 13)\n",
      "(2, 13)\n",
      "(2, 13)\n",
      "(2, 12)\n",
      "(2, 12)\n",
      "(3, 13)\n",
      "(4, 13)\n"
     ]
    }
   ],
   "source": [
    "for l in rlen[1::2]:\n",
    "    print(l)"
   ]
  },
  {
   "cell_type": "code",
   "execution_count": null,
   "metadata": {},
   "outputs": [],
   "source": []
  }
 ],
 "metadata": {
  "kernelspec": {
   "display_name": "Python 3 (ipykernel)",
   "language": "python",
   "name": "python3"
  },
  "language_info": {
   "codemirror_mode": {
    "name": "ipython",
    "version": 3
   },
   "file_extension": ".py",
   "mimetype": "text/x-python",
   "name": "python",
   "nbconvert_exporter": "python",
   "pygments_lexer": "ipython3",
   "version": "3.11.2"
  }
 },
 "nbformat": 4,
 "nbformat_minor": 2
}
