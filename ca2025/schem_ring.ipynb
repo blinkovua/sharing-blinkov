{
 "cells": [
  {
   "cell_type": "code",
   "execution_count": 1,
   "id": "be02d2c7",
   "metadata": {},
   "outputs": [],
   "source": [
    "from IPython.display import display, Image\n",
    "from pprint import pprint\n",
    "from itertools import chain\n",
    "\n",
    "from sympy import Function, Symbol, symbols, ratsimp\n",
    "import pyx\n",
    "\n",
    "from ginv import *\n",
    "sympy.init_printing()"
   ]
  },
  {
   "cell_type": "code",
   "execution_count": 2,
   "id": "46658a7e",
   "metadata": {},
   "outputs": [],
   "source": [
    "Monom.cmp = Monom.POTlex"
   ]
  },
  {
   "cell_type": "code",
   "execution_count": 3,
   "id": "13711fdc",
   "metadata": {},
   "outputs": [],
   "source": [
    "h, tau, nu = sympy.symbols('h, tau, nu', real=True)"
   ]
  },
  {
   "cell_type": "code",
   "execution_count": 4,
   "id": "20a9b2a3",
   "metadata": {},
   "outputs": [],
   "source": [
    "var = 'j, k'.split(', ')\n",
    "fun = 'ux, uy, u'.split(', ')\n",
    "Monom.init(var, fun)\n",
    "T = PolySchem.T\n",
    "var, fun = PolySchem.init()\n",
    "j, k = var\n",
    "ux, uy, u = fun"
   ]
  },
  {
   "cell_type": "code",
   "execution_count": 5,
   "id": "af0e0e90",
   "metadata": {},
   "outputs": [
    {
     "data": {
      "text/plain": [
       "[[[0;2 2], -1/(2*h)], [[2;2 1], 1/(2*h)]]"
      ]
     },
     "execution_count": 5,
     "metadata": {},
     "output_type": "execute_result"
    }
   ],
   "source": [
    "(T(u, j, 2, k) - T(ux, k, k, j, 2))/(2*h)"
   ]
  },
  {
   "cell_type": "markdown",
   "id": "796c70bb",
   "metadata": {},
   "source": [
    "Here's the translation into English:\n",
    "\n",
    "Let us write the Laplace equation $ u_{xx} + u_{yy} = 0 $ in a divergence form, where  \n",
    "\\begin{eqnarray*}  \n",
    " \\oint \\limits_{\\Gamma} \\!- u_y \\, dx + u_x \\, dy = 0  \n",
    "  \\label{ch4.1:yyy1}  \n",
    "\\end{eqnarray*}  \n",
    "holds for any closed contour $ \\Gamma $.  \n",
    "\n",
    "To transition to a discrete formulation, we associate $ u(x, y) = u(x_j, y_k) $ and choose as the basic volume the contour shown in the figure.  "
   ]
  },
  {
   "cell_type": "code",
   "execution_count": 6,
   "id": "df4bd98e",
   "metadata": {},
   "outputs": [
    {
     "data": {
      "image/png": "[encoded data removed]",
      "text/plain": [
       "<IPython.core.display.Image object>"
      ]
     },
     "execution_count": 6,
     "metadata": {
      "image/png": {
       "width": 250
      }
     },
     "output_type": "execute_result"
    }
   ],
   "source": [
    "Image(\"./stencil2D3x3y.png\", width=250)"
   ]
  },
  {
   "cell_type": "code",
   "execution_count": 7,
   "id": "58c28267",
   "metadata": {},
   "outputs": [
    {
     "name": "stdout",
     "output_type": "stream",
     "text": [
      "prolong uy*k\n",
      "T(uy, k)\n",
      "prolong ux*j\n",
      "T(ux, j)\n",
      "prolong ux*j**2*k\n",
      "T(ux, k)\n",
      "prolongAll\n",
      "T(uy, j, 2)\n",
      "prolongAll\n",
      "T(uy, j, k)\n",
      "prolongAll\n",
      "T(u, j, 4, k, 2)\n",
      "prolongAll\n",
      "crit1: 0\n",
      "crit2: 0\n",
      " time: 0.02 sec\n",
      "    count: 6\n",
      "reduction: 7\n",
      "       HP: 6s - 6\n"
     ]
    }
   ],
   "source": [
    "laplace = Forest(Janet)\n",
    "res = ginvMin((\n",
    "T(ux, j)*2*h - (T(u, j, 2) - T(u)),\\\n",
    "T(uy, k)*2*h - (T(u, k, 2) - T(u)),\\\n",
    "-(T(uy, j) - T(uy, j, k, 2))*2*h +\\\n",
    " (T(ux, j, 2, k) - T(ux, k))*2*h), \\\n",
    "laplace, level=1)\n",
    "print(f\"crit1: {res[1]}\")\n",
    "print(f\"crit2: {res[2]}\")\n",
    "print(f\" time: {res[0]:.2f} sec\")\n",
    "print(f\"    count: {laplace.count()}\")\n",
    "print(f\"reduction: {laplace.reduction()}\")\n",
    "print(f\"       HP: {laplace.HP()}\")"
   ]
  },
  {
   "cell_type": "code",
   "execution_count": 8,
   "id": "79166d51",
   "metadata": {},
   "outputs": [
    {
     "name": "stdout",
     "output_type": "stream",
     "text": [
      "T(ux, k)*(-2*h) + T(uy, j)*(-2*h) + T(u, j, 3, k) + T(u, j, k, 3) + T(u, j, k)*(-2)\n",
      "T(ux, j)*2*h + T(u, j, 2)*(-1) + T(u)\n",
      "T(uy, k)*2*h + T(u, k, 2)*(-1) + T(u)\n",
      "T(uy, j, 2)*(-2*h) + T(u, j, 4, k) + T(u, j, 2, k, 3) + T(u, j, 2, k)*(-3) + T(u, k)\n",
      "T(u, j, 4, k, 2)*(-1) + T(u, j, 2, k, 4)*(-1) + T(u, j, 2, k, 2)*4 + T(u, j, 2)*(-1) + T(u, k, 2)*(-1)\n"
     ]
    }
   ],
   "source": [
    "for w in laplace.GB():\n",
    "    print(w.poly)"
   ]
  },
  {
   "cell_type": "code",
   "execution_count": 9,
   "id": "10508650",
   "metadata": {},
   "outputs": [
    {
     "name": "stdout",
     "output_type": "stream",
     "text": [
      "T(u, j, 4, k, 2)*(-1) + T(u, j, 2, k, 4)*(-1) + T(u, j, 2, k, 2)*4 + T(u, j, 2)*(-1) + T(u, k, 2)*(-1)\n"
     ]
    }
   ],
   "source": [
    "for w in laplace[-1].GB():\n",
    "    print(w.poly)"
   ]
  },
  {
   "cell_type": "code",
   "execution_count": 10,
   "id": "ac359129",
   "metadata": {},
   "outputs": [
    {
     "data": {
      "image/png": "[encoded data removed]",
      "text/latex": [
       "$\\displaystyle 4 {u}_{{j} + 2\\, {k} + 2} - {u}_{{j} + 2\\, {k} + 4} - {u}_{{j} + 2\\, {k}} - {u}_{{j} + 4\\, {k} + 2} - {u}_{{j}\\, {k} + 2}$"
      ],
      "text/plain": [
       "4⋅{u}_{{j} + 2\\, {k} + 2} - {u}_{{j} + 2\\, {k} + 4} - {u}_{{j} + 2\\, {k}} - {u}_{{j} + 4\\, \n",
       "{k} + 2} - {u}_{{j}\\, {k} + 2}"
      ]
     },
     "metadata": {},
     "output_type": "display_data"
    },
    {
     "data": {
      "image/png": "[encoded data removed]",
      "image/svg+xml": [
       "<?xml version=\"1.0\" encoding=\"utf-8\"?>\n",
       "<svg xmlns=\"http://www.w3.org/2000/svg\" fill=\"none\" version=\"1.1\" viewBox=\"-10.0909 -119.606 133.568 125.827\" x=\"-10.0909pt\" y=\"-119.606pt\" width=\"133.568pt\" height=\"125.827pt\" stroke-width=\"0.566929\" stroke-miterlimit=\"10.000000\">\n",
       " <path d=\"M2.3622 -0L2.3622 -0.00412282A2.3622 2.3622 0 0 0 -2.3622 -1.33832e-15A2.3622 2.3622 0 0 0 2.3622 0.00412282Z\" fill=\"#3f19ff\"/>\n",
       " <path d=\"M2.3622 -28.3465L2.3622 -28.3506A2.3622 2.3622 0 0 0 -2.3622 -28.3465A2.3622 2.3622 0 0 0 2.3622 -28.3423Z\" fill=\"#3f19ff\"/>\n",
       " <g transform=\"matrix(1.000000,0.000000,0.000000,1.000000,0.000000,-56.692913)\">\n",
       "  <path d=\"M-7.90014 4.0249M0.363264 0.725275C0.60715 0.725275 0.865381 0.725275 0.865381 0.438351C0.865381 0.151427 0.60715 0.151427 0.363264 0.151427L-7.39803 0.151427C-7.64191 0.151427 -7.90014 0.151427 -7.90014 0.438351C-7.90014 0.725275 -7.64191 0.725275 -7.39803 0.725275ZM-7.39803 0.725275\" fill=\"black\"/>\n",
       "  <path d=\"M3.37281 4.0249M6.19901 -5.17101C6.19901 -5.50097 6.19901 -5.51532 5.91209 -5.51532C5.56778 -5.12797 4.85047 -4.59716 3.37281 -4.59716L3.37281 -4.18112C3.70277 -4.18112 4.42008 -4.18112 5.20912 -4.55413L5.20912 2.92024C5.20912 3.43671 5.16608 3.60886 3.90362 3.60886L3.45889 3.60886L3.45889 4.0249C3.84623 3.99621 5.23781 3.99621 5.71124 3.99621C6.18466 3.99621 7.5619 3.99621 7.94925 4.0249L7.94925 3.60886L7.50451 3.60886C6.24205 3.60886 6.19901 3.43671 6.19901 2.92024ZM6.19901 2.92024\" fill=\"black\"/>\n",
       " </g>\n",
       " <path d=\"M2.3622 -85.0394L2.3622 -85.0435A2.3622 2.3622 0 0 0 -2.3622 -85.0394A2.3622 2.3622 0 0 0 2.3622 -85.0352Z\" fill=\"#3f19ff\"/>\n",
       " <path d=\"M2.3622 -113.386L2.3622 -113.39A2.3622 2.3622 0 0 0 -2.3622 -113.386A2.3622 2.3622 0 0 0 2.3622 -113.382Z\" fill=\"#3f19ff\"/>\n",
       " <path d=\"M30.7087 -0L30.7087 -0.00412282A2.3622 2.3622 0 0 0 25.9843 -1.33832e-15A2.3622 2.3622 0 0 0 30.7087 0.00412282Z\" fill=\"#3f19ff\"/>\n",
       " <path d=\"M30.7087 -28.3465L30.7087 -28.3506A2.3622 2.3622 0 0 0 25.9843 -28.3465A2.3622 2.3622 0 0 0 30.7087 -28.3423Z\" fill=\"#3f19ff\"/>\n",
       " <path d=\"M30.7087 -56.6929L30.7087 -56.697A2.3622 2.3622 0 0 0 25.9843 -56.6929A2.3622 2.3622 0 0 0 30.7087 -56.6888Z\" fill=\"#3f19ff\"/>\n",
       " <path d=\"M30.7087 -85.0394L30.7087 -85.0435A2.3622 2.3622 0 0 0 25.9843 -85.0394A2.3622 2.3622 0 0 0 30.7087 -85.0352Z\" fill=\"#3f19ff\"/>\n",
       " <path d=\"M30.7087 -113.386L30.7087 -113.39A2.3622 2.3622 0 0 0 25.9843 -113.386A2.3622 2.3622 0 0 0 30.7087 -113.382Z\" fill=\"#3f19ff\"/>\n",
       " <g transform=\"matrix(1.000000,0.000000,0.000000,1.000000,56.692913,-0.000000)\">\n",
       "  <path d=\"M-7.90014 4.0249M0.363264 0.725275C0.60715 0.725275 0.865381 0.725275 0.865381 0.438351C0.865381 0.151427 0.60715 0.151427 0.363264 0.151427L-7.39803 0.151427C-7.64191 0.151427 -7.90014 0.151427 -7.90014 0.438351C-7.90014 0.725275 -7.64191 0.725275 -7.39803 0.725275ZM-7.39803 0.725275\" fill=\"black\"/>\n",
       "  <path d=\"M3.37281 4.0249M6.19901 -5.17101C6.19901 -5.50097 6.19901 -5.51532 5.91209 -5.51532C5.56778 -5.12797 4.85047 -4.59716 3.37281 -4.59716L3.37281 -4.18112C3.70277 -4.18112 4.42008 -4.18112 5.20912 -4.55413L5.20912 2.92024C5.20912 3.43671 5.16608 3.60886 3.90362 3.60886L3.45889 3.60886L3.45889 4.0249C3.84623 3.99621 5.23781 3.99621 5.71124 3.99621C6.18466 3.99621 7.5619 3.99621 7.94925 4.0249L7.94925 3.60886L7.50451 3.60886C6.24205 3.60886 6.19901 3.43671 6.19901 2.92024ZM6.19901 2.92024\" fill=\"black\"/>\n",
       " </g>\n",
       " <path d=\"M59.0551 -28.3465L59.0551 -28.3506A2.3622 2.3622 0 0 0 54.3307 -28.3465A2.3622 2.3622 0 0 0 59.0551 -28.3423Z\" fill=\"#3f19ff\"/>\n",
       " <g transform=\"matrix(1.000000,0.000000,0.000000,1.000000,56.692913,-56.692913)\">\n",
       "  <path d=\"M-3.12443 4.62265M1.6672 -4.71672C1.6672 -4.9893 1.6672 -5.06103 1.46635 -5.06103C1.35158 -5.06103 1.30854 -5.06103 1.19377 -4.88888L-3.12443 1.81079L-3.12443 2.22683L0.648618 2.22683L0.648618 3.53234C0.648618 4.06315 0.619925 4.20661 -0.427347 4.20661L-0.714271 4.20661L-0.714271 4.62265C-0.384308 4.59396 0.749041 4.59396 1.15073 4.59396C1.55243 4.59396 2.70012 4.59396 3.03009 4.62265L3.03009 4.20661L2.74316 4.20661C1.71024 4.20661 1.6672 4.06315 1.6672 3.53234L1.6672 2.22683L3.11616 2.22683L3.11616 1.81079L1.6672 1.81079ZM1.6672 1.81079M0.720349 -3.59772L0.720349 1.81079L-2.76578 1.81079ZM-2.76578 1.81079\" fill=\"black\"/>\n",
       " </g>\n",
       " <path d=\"M59.0551 -85.0394L59.0551 -85.0435A2.3622 2.3622 0 0 0 54.3307 -85.0394A2.3622 2.3622 0 0 0 59.0551 -85.0352Z\" fill=\"#3f19ff\"/>\n",
       " <g transform=\"matrix(1.000000,0.000000,0.000000,1.000000,56.692913,-113.385827)\">\n",
       "  <path d=\"M-7.90014 4.0249M0.363264 0.725275C0.60715 0.725275 0.865381 0.725275 0.865381 0.438351C0.865381 0.151427 0.60715 0.151427 0.363264 0.151427L-7.39803 0.151427C-7.64191 0.151427 -7.90014 0.151427 -7.90014 0.438351C-7.90014 0.725275 -7.64191 0.725275 -7.39803 0.725275ZM-7.39803 0.725275\" fill=\"black\"/>\n",
       "  <path d=\"M3.37281 4.0249M6.19901 -5.17101C6.19901 -5.50097 6.19901 -5.51532 5.91209 -5.51532C5.56778 -5.12797 4.85047 -4.59716 3.37281 -4.59716L3.37281 -4.18112C3.70277 -4.18112 4.42008 -4.18112 5.20912 -4.55413L5.20912 2.92024C5.20912 3.43671 5.16608 3.60886 3.90362 3.60886L3.45889 3.60886L3.45889 4.0249C3.84623 3.99621 5.23781 3.99621 5.71124 3.99621C6.18466 3.99621 7.5619 3.99621 7.94925 4.0249L7.94925 3.60886L7.50451 3.60886C6.24205 3.60886 6.19901 3.43671 6.19901 2.92024ZM6.19901 2.92024\" fill=\"black\"/>\n",
       " </g>\n",
       " <path d=\"M87.4016 -0L87.4016 -0.00412282A2.3622 2.3622 0 0 0 82.6772 -1.33832e-15A2.3622 2.3622 0 0 0 87.4016 0.00412282Z\" fill=\"#3f19ff\"/>\n",
       " <path d=\"M87.4016 -28.3465L87.4016 -28.3506A2.3622 2.3622 0 0 0 82.6772 -28.3465A2.3622 2.3622 0 0 0 87.4016 -28.3423Z\" fill=\"#3f19ff\"/>\n",
       " <path d=\"M87.4016 -56.6929L87.4016 -56.697A2.3622 2.3622 0 0 0 82.6772 -56.6929A2.3622 2.3622 0 0 0 87.4016 -56.6888Z\" fill=\"#3f19ff\"/>\n",
       " <path d=\"M87.4016 -85.0394L87.4016 -85.0435A2.3622 2.3622 0 0 0 82.6772 -85.0394A2.3622 2.3622 0 0 0 87.4016 -85.0352Z\" fill=\"#3f19ff\"/>\n",
       " <path d=\"M87.4016 -113.386L87.4016 -113.39A2.3622 2.3622 0 0 0 82.6772 -113.386A2.3622 2.3622 0 0 0 87.4016 -113.382Z\" fill=\"#3f19ff\"/>\n",
       " <path d=\"M115.748 -0L115.748 -0.00412282A2.3622 2.3622 0 0 0 111.024 -1.33832e-15A2.3622 2.3622 0 0 0 115.748 0.00412282Z\" fill=\"#3f19ff\"/>\n",
       " <path d=\"M115.748 -28.3465L115.748 -28.3506A2.3622 2.3622 0 0 0 111.024 -28.3465A2.3622 2.3622 0 0 0 115.748 -28.3423Z\" fill=\"#3f19ff\"/>\n",
       " <g transform=\"matrix(1.000000,0.000000,0.000000,1.000000,113.385827,-56.692913)\">\n",
       "  <path d=\"M-7.90014 4.0249M0.363264 0.725275C0.60715 0.725275 0.865381 0.725275 0.865381 0.438351C0.865381 0.151427 0.60715 0.151427 0.363264 0.151427L-7.39803 0.151427C-7.64191 0.151427 -7.90014 0.151427 -7.90014 0.438351C-7.90014 0.725275 -7.64191 0.725275 -7.39803 0.725275ZM-7.39803 0.725275\" fill=\"black\"/>\n",
       "  <path d=\"M3.37281 4.0249M6.19901 -5.17101C6.19901 -5.50097 6.19901 -5.51532 5.91209 -5.51532C5.56778 -5.12797 4.85047 -4.59716 3.37281 -4.59716L3.37281 -4.18112C3.70277 -4.18112 4.42008 -4.18112 5.20912 -4.55413L5.20912 2.92024C5.20912 3.43671 5.16608 3.60886 3.90362 3.60886L3.45889 3.60886L3.45889 4.0249C3.84623 3.99621 5.23781 3.99621 5.71124 3.99621C6.18466 3.99621 7.5619 3.99621 7.94925 4.0249L7.94925 3.60886L7.50451 3.60886C6.24205 3.60886 6.19901 3.43671 6.19901 2.92024ZM6.19901 2.92024\" fill=\"black\"/>\n",
       " </g>\n",
       " <path d=\"M115.748 -85.0394L115.748 -85.0435A2.3622 2.3622 0 0 0 111.024 -85.0394A2.3622 2.3622 0 0 0 115.748 -85.0352Z\" fill=\"#3f19ff\"/>\n",
       " <path d=\"M115.748 -113.386L115.748 -113.39A2.3622 2.3622 0 0 0 111.024 -113.386A2.3622 2.3622 0 0 0 115.748 -113.382Z\" fill=\"#3f19ff\"/>\n",
       "</svg>\n"
      ],
      "text/plain": [
       "<pyx.canvas.canvas at 0x7f052affe750>"
      ]
     },
     "metadata": {},
     "output_type": "display_data"
    }
   ],
   "source": [
    "for w in laplace[-1].GB():\n",
    "    display(sum(Symbol(m.T_latex())*c for m, c in w.poly))\n",
    "    \n",
    "    frm, l = [pyx.text.halign.boxcenter, pyx.text.valign.middle], 1.\n",
    "    pyx.unit.set(wscale=1)\n",
    "    canvas = pyx.canvas.canvas()\n",
    "    res = dict(((m[0], m[1]), c) for m, c in w.poly)\n",
    "    X, Y = max(x for x, y in res), max(x for x, y in res)\n",
    "    for x in range(X+1):\n",
    "        for y in range(Y+1):\n",
    "            if (x, y) in res:\n",
    "                canvas.text(x*l, y*l, fr\"\\Large${res[x, y]}$\", frm)\n",
    "            else:\n",
    "                canvas.fill(pyx.path.circle(x, y, l/12), [pyx.color.cmyk.RoyalPurple]) \n",
    "    display(canvas)"
   ]
  },
  {
   "cell_type": "code",
   "execution_count": 11,
   "id": "ac52b881",
   "metadata": {
    "scrolled": false
   },
   "outputs": [
    {
     "name": "stdout",
     "output_type": "stream",
     "text": [
      "prolong uy*k\n",
      "T(uy, k)\n",
      "prolong ux*j\n",
      "T(ux, j)\n",
      "prolong ux*j**2*k\n",
      "T(u, j, 2, k)\n",
      "prolongAll\n",
      "crit1: 0\n",
      "crit2: 0\n",
      " time: 0.01 sec\n",
      "    count: 3\n",
      "reduction: 5\n",
      "       HP: 5s + 2\n"
     ]
    }
   ],
   "source": [
    "laplace = Forest(Janet)\n",
    "res = ginvMin((\n",
    "(T(ux, j) + T(ux))/2*h - (T(u, j) - T(u)),\\\n",
    "(T(uy, k) + T(uy))/2*h - (T(u, k) - T(u)),\\\n",
    "-(T(uy, j) - T(uy, j, k, 2))*2*h +\\\n",
    " (T(ux, j, 2, k) - T(ux, k))*2*h), \\\n",
    "laplace, level=1)\n",
    "print(f\"crit1: {res[1]}\")\n",
    "print(f\"crit2: {res[2]}\")\n",
    "print(f\" time: {res[0]:.2f} sec\")\n",
    "print(f\"    count: {laplace.count()}\")\n",
    "print(f\"reduction: {laplace.reduction()}\")\n",
    "print(f\"       HP: {laplace.HP()}\")"
   ]
  },
  {
   "cell_type": "code",
   "execution_count": 12,
   "id": "82d62911",
   "metadata": {
    "scrolled": true
   },
   "outputs": [
    {
     "data": {
      "image/png": "[encoded data removed]",
      "text/latex": [
       "$\\displaystyle - 4 {u}_{{j} + 1\\, {k} + 1} + {u}_{{j} + 1\\, {k} + 2} + {u}_{{j} + 1\\, {k}} + {u}_{{j} + 2\\, {k} + 1} + {u}_{{j}\\, {k} + 1}$"
      ],
      "text/plain": [
       "-4⋅{u}_{{j} + 1\\, {k} + 1} + {u}_{{j} + 1\\, {k} + 2} + {u}_{{j} + 1\\, {k}} + {u}_{{j} + 2\\,\n",
       " {k} + 1} + {u}_{{j}\\, {k} + 1}"
      ]
     },
     "metadata": {},
     "output_type": "display_data"
    },
    {
     "data": {
      "image/png": "[encoded data removed]",
      "image/svg+xml": [
       "<?xml version=\"1.0\" encoding=\"utf-8\"?>\n",
       "<svg xmlns=\"http://www.w3.org/2000/svg\" fill=\"none\" version=\"1.1\" viewBox=\"-4.51178 -62.3156 65.7165 67.9382\" x=\"-4.51178pt\" y=\"-62.3156pt\" width=\"65.7165pt\" height=\"67.9382pt\" stroke-width=\"0.566929\" stroke-miterlimit=\"10.000000\">\n",
       " <path d=\"M2.3622 -0L2.3622 -0.00412282A2.3622 2.3622 0 0 0 -2.3622 -1.33832e-15A2.3622 2.3622 0 0 0 2.3622 0.00412282Z\" fill=\"#3f19ff\"/>\n",
       " <g transform=\"matrix(1.000000,0.000000,0.000000,1.000000,0.000000,-28.346457)\">\n",
       "  <path d=\"M-2.20628 4.62265M0.619925 -4.57326C0.619925 -4.90322 0.619925 -4.91757 0.333001 -4.91757C-0.0113072 -4.53022 -0.728617 -3.99941 -2.20628 -3.99941L-2.20628 -3.58337C-1.87631 -3.58337 -1.159 -3.58337 -0.369962 -3.95638L-0.369962 3.51799C-0.369962 4.03446 -0.413001 4.20661 -1.67547 4.20661L-2.1202 4.20661L-2.1202 4.62265C-1.73285 4.59396 -0.34127 4.59396 0.132155 4.59396C0.605579 4.59396 1.98281 4.59396 2.37016 4.62265L2.37016 4.20661L1.92543 4.20661C0.662964 4.20661 0.619925 4.03446 0.619925 3.51799ZM0.619925 3.51799\" fill=\"black\"/>\n",
       " </g>\n",
       " <path d=\"M2.3622 -56.6929L2.3622 -56.697A2.3622 2.3622 0 0 0 -2.3622 -56.6929A2.3622 2.3622 0 0 0 2.3622 -56.6888Z\" fill=\"#3f19ff\"/>\n",
       " <g transform=\"matrix(1.000000,0.000000,0.000000,1.000000,28.346457,-0.000000)\">\n",
       "  <path d=\"M-2.20628 4.62265M0.619925 -4.57326C0.619925 -4.90322 0.619925 -4.91757 0.333001 -4.91757C-0.0113072 -4.53022 -0.728617 -3.99941 -2.20628 -3.99941L-2.20628 -3.58337C-1.87631 -3.58337 -1.159 -3.58337 -0.369962 -3.95638L-0.369962 3.51799C-0.369962 4.03446 -0.413001 4.20661 -1.67547 4.20661L-2.1202 4.20661L-2.1202 4.62265C-1.73285 4.59396 -0.34127 4.59396 0.132155 4.59396C0.605579 4.59396 1.98281 4.59396 2.37016 4.62265L2.37016 4.20661L1.92543 4.20661C0.662964 4.20661 0.619925 4.03446 0.619925 3.51799ZM0.619925 3.51799\" fill=\"black\"/>\n",
       " </g>\n",
       " <g transform=\"matrix(1.000000,0.000000,0.000000,1.000000,28.346457,-28.346457)\">\n",
       "  <path d=\"M-7.90014 4.0249M0.363264 0.725275C0.60715 0.725275 0.865381 0.725275 0.865381 0.438351C0.865381 0.151427 0.60715 0.151427 0.363264 0.151427L-7.39803 0.151427C-7.64191 0.151427 -7.90014 0.151427 -7.90014 0.438351C-7.90014 0.725275 -7.64191 0.725275 -7.39803 0.725275ZM-7.39803 0.725275\" fill=\"black\"/>\n",
       "  <path d=\"M2.45465 4.0249M7.24628 -5.31447C7.24628 -5.58705 7.24628 -5.65878 7.04544 -5.65878C6.93067 -5.65878 6.88763 -5.65878 6.77286 -5.48663L2.45465 1.21305L2.45465 1.62909L6.2277 1.62909L6.2277 2.93459C6.2277 3.4654 6.19901 3.60886 5.15174 3.60886L4.86481 3.60886L4.86481 4.0249C5.19478 3.99621 6.32813 3.99621 6.72982 3.99621C7.13151 3.99621 8.27921 3.99621 8.60917 4.0249L8.60917 3.60886L8.32225 3.60886C7.28932 3.60886 7.24628 3.4654 7.24628 2.93459L7.24628 1.62909L8.69525 1.62909L8.69525 1.21305L7.24628 1.21305ZM7.24628 1.21305M6.29943 -4.19547L6.29943 1.21305L2.81331 1.21305ZM2.81331 1.21305\" fill=\"black\"/>\n",
       " </g>\n",
       " <g transform=\"matrix(1.000000,0.000000,0.000000,1.000000,28.346457,-56.692913)\">\n",
       "  <path d=\"M-2.20628 4.62265M0.619925 -4.57326C0.619925 -4.90322 0.619925 -4.91757 0.333001 -4.91757C-0.0113072 -4.53022 -0.728617 -3.99941 -2.20628 -3.99941L-2.20628 -3.58337C-1.87631 -3.58337 -1.159 -3.58337 -0.369962 -3.95638L-0.369962 3.51799C-0.369962 4.03446 -0.413001 4.20661 -1.67547 4.20661L-2.1202 4.20661L-2.1202 4.62265C-1.73285 4.59396 -0.34127 4.59396 0.132155 4.59396C0.605579 4.59396 1.98281 4.59396 2.37016 4.62265L2.37016 4.20661L1.92543 4.20661C0.662964 4.20661 0.619925 4.03446 0.619925 3.51799ZM0.619925 3.51799\" fill=\"black\"/>\n",
       " </g>\n",
       " <path d=\"M59.0551 -0L59.0551 -0.00412282A2.3622 2.3622 0 0 0 54.3307 -1.33832e-15A2.3622 2.3622 0 0 0 59.0551 0.00412282Z\" fill=\"#3f19ff\"/>\n",
       " <g transform=\"matrix(1.000000,0.000000,0.000000,1.000000,56.692913,-28.346457)\">\n",
       "  <path d=\"M-2.20628 4.62265M0.619925 -4.57326C0.619925 -4.90322 0.619925 -4.91757 0.333001 -4.91757C-0.0113072 -4.53022 -0.728617 -3.99941 -2.20628 -3.99941L-2.20628 -3.58337C-1.87631 -3.58337 -1.159 -3.58337 -0.369962 -3.95638L-0.369962 3.51799C-0.369962 4.03446 -0.413001 4.20661 -1.67547 4.20661L-2.1202 4.20661L-2.1202 4.62265C-1.73285 4.59396 -0.34127 4.59396 0.132155 4.59396C0.605579 4.59396 1.98281 4.59396 2.37016 4.62265L2.37016 4.20661L1.92543 4.20661C0.662964 4.20661 0.619925 4.03446 0.619925 3.51799ZM0.619925 3.51799\" fill=\"black\"/>\n",
       " </g>\n",
       " <path d=\"M59.0551 -56.6929L59.0551 -56.697A2.3622 2.3622 0 0 0 54.3307 -56.6929A2.3622 2.3622 0 0 0 59.0551 -56.6888Z\" fill=\"#3f19ff\"/>\n",
       "</svg>\n"
      ],
      "text/plain": [
       "<pyx.canvas.canvas at 0x7f052b2cbfd0>"
      ]
     },
     "metadata": {},
     "output_type": "display_data"
    }
   ],
   "source": [
    "for w in laplace[-1].GB():\n",
    "    display(sum(Symbol(m.T_latex())*c for m, c in w.poly))\n",
    "    \n",
    "    frm, l = [pyx.text.halign.boxcenter, pyx.text.valign.middle], 1.\n",
    "    pyx.unit.set(wscale=1)\n",
    "    canvas = pyx.canvas.canvas()\n",
    "    res = dict(((m[0], m[1]), c) for m, c in w.poly)\n",
    "    X, Y = max(x for x, y in res), max(x for x, y in res)\n",
    "    for x in range(X+1):\n",
    "        for y in range(Y+1):\n",
    "            if (x, y) in res:\n",
    "                canvas.text(x*l, y*l, fr\"\\Large${res[x, y]}$\", frm)\n",
    "            else:\n",
    "                canvas.fill(pyx.path.circle(x, y, l/12), [pyx.color.cmyk.RoyalPurple]) \n",
    "    display(canvas)"
   ]
  },
  {
   "cell_type": "markdown",
   "id": "b5110bf7",
   "metadata": {},
   "source": [
    "As a result, the last equation is the desired **finite-difference scheme** written at **single nodes**:  \n",
    "\n",
    "\\begin{eqnarray*}  \n",
    " \\frac{u_{j+1 \\, k} - 2 u_{j \\, k} + u_{j - 1 \\, k}}{4 h^2}  \n",
    " + \\frac{u_{j \\, k+1} - 2 u_{j \\, k} + u_{j \\, k-1}}{4 h^2} = 0.  \n",
    " \\end{eqnarray*}  \n"
   ]
  },
  {
   "cell_type": "code",
   "execution_count": 13,
   "id": "eb16bb83",
   "metadata": {},
   "outputs": [
    {
     "data": {
      "image/png": "[encoded data removed]",
      "text/plain": [
       "<IPython.core.display.Image object>"
      ]
     },
     "execution_count": 13,
     "metadata": {
      "image/png": {
       "width": 200
      }
     },
     "output_type": "execute_result"
    }
   ],
   "source": [
    "Image(\"./stencil2D2x2y.png\", width=200)"
   ]
  },
  {
   "cell_type": "code",
   "execution_count": 14,
   "id": "280598a1",
   "metadata": {},
   "outputs": [
    {
     "name": "stdout",
     "output_type": "stream",
     "text": [
      "prolong uy*k\n",
      "T(uy, k)\n",
      "prolong ux*j\n",
      "T(ux, j)\n",
      "prolong ux*j*k\n",
      "T(ux, k)\n",
      "prolongAll\n",
      "T(uy, j, 2)\n",
      "prolongAll\n",
      "T(uy, j, k)\n",
      "prolongAll\n",
      "T(u, j, 3, k, 2)\n",
      "prolongAll\n",
      "crit1: 0\n",
      "crit2: 0\n",
      " time: 0.03 sec\n",
      "    count: 6\n",
      "reduction: 11\n",
      "       HP: 5s - 2\n"
     ]
    }
   ],
   "source": [
    "laplace = Forest(Janet)\n",
    "res = ginvMin((\n",
    "T(ux, j)*2*h - (T(u, j, 2) - T(u)),\\\n",
    "T(uy, k)*2*h - (T(u, k, 2) - T(u)),\\\n",
    "-((T(uy) + T(uy, j))/2 - (T(uy, j, k) + T(uy, k))/2)*h +\\\n",
    " ((T(ux, j) + T(ux, j, k))/2 - (T(ux, k) + T(ux))/2)*h), \\\n",
    "laplace, level=1)\n",
    "print(f\"crit1: {res[1]}\")\n",
    "print(f\"crit2: {res[2]}\")\n",
    "print(f\" time: {res[0]:.2f} sec\")\n",
    "print(f\"    count: {laplace.count()}\")\n",
    "print(f\"reduction: {laplace.reduction()}\")\n",
    "print(f\"       HP: {laplace.HP()}\")"
   ]
  },
  {
   "cell_type": "code",
   "execution_count": 15,
   "id": "51db6078",
   "metadata": {},
   "outputs": [
    {
     "data": {
      "image/png": "[encoded data removed]",
      "text/latex": [
       "$\\displaystyle 2 {u}_{{j} + 1\\, {k} + 1} + 2 {u}_{{j} + 1\\, {k} + 2} - {u}_{{j} + 1\\, {k} + 3} - {u}_{{j} + 1\\, {k}} + 2 {u}_{{j} + 2\\, {k} + 1} + 2 {u}_{{j} + 2\\, {k} + 2} - {u}_{{j} + 2\\, {k} + 3} - {u}_{{j} + 2\\, {k}} - {u}_{{j} + 3\\, {k} + 1} - {u}_{{j} + 3\\, {k} + 2} - {u}_{{j}\\, {k} + 1} - {u}_{{j}\\, {k} + 2}$"
      ],
      "text/plain": [
       "2⋅{u}_{{j} + 1\\, {k} + 1} + 2⋅{u}_{{j} + 1\\, {k} + 2} - {u}_{{j} + 1\\, {k} + 3} - {u}_{{j} \n",
       "+ 1\\, {k}} + 2⋅{u}_{{j} + 2\\, {k} + 1} + 2⋅{u}_{{j} + 2\\, {k} + 2} - {u}_{{j} + 2\\, {k} + 3\n",
       "} - {u}_{{j} + 2\\, {k}} - {u}_{{j} + 3\\, {k} + 1} - {u}_{{j} + 3\\, {k} + 2} - {u}_{{j}\\, {k\n",
       "} + 1} - {u}_{{j}\\, {k} + 2}"
      ]
     },
     "metadata": {},
     "output_type": "display_data"
    },
    {
     "data": {
      "image/png": "[encoded data removed]",
      "image/svg+xml": [
       "<?xml version=\"1.0\" encoding=\"utf-8\"?>\n",
       "<svg xmlns=\"http://www.w3.org/2000/svg\" fill=\"none\" version=\"1.1\" viewBox=\"-10.0909 -91.2598 105.221 97.4802\" x=\"-10.0909pt\" y=\"-91.2598pt\" width=\"105.221pt\" height=\"97.4802pt\" stroke-width=\"0.566929\" stroke-miterlimit=\"10.000000\">\n",
       " <path d=\"M2.3622 -0L2.3622 -0.00412282A2.3622 2.3622 0 0 0 -2.3622 -1.33832e-15A2.3622 2.3622 0 0 0 2.3622 0.00412282Z\" fill=\"#3f19ff\"/>\n",
       " <g transform=\"matrix(1.000000,0.000000,0.000000,1.000000,0.000000,-28.346457)\">\n",
       "  <path d=\"M-7.90014 4.0249M0.363264 0.725275C0.60715 0.725275 0.865381 0.725275 0.865381 0.438351C0.865381 0.151427 0.60715 0.151427 0.363264 0.151427L-7.39803 0.151427C-7.64191 0.151427 -7.90014 0.151427 -7.90014 0.438351C-7.90014 0.725275 -7.64191 0.725275 -7.39803 0.725275ZM-7.39803 0.725275\" fill=\"black\"/>\n",
       "  <path d=\"M3.37281 4.0249M6.19901 -5.17101C6.19901 -5.50097 6.19901 -5.51532 5.91209 -5.51532C5.56778 -5.12797 4.85047 -4.59716 3.37281 -4.59716L3.37281 -4.18112C3.70277 -4.18112 4.42008 -4.18112 5.20912 -4.55413L5.20912 2.92024C5.20912 3.43671 5.16608 3.60886 3.90362 3.60886L3.45889 3.60886L3.45889 4.0249C3.84623 3.99621 5.23781 3.99621 5.71124 3.99621C6.18466 3.99621 7.5619 3.99621 7.94925 4.0249L7.94925 3.60886L7.50451 3.60886C6.24205 3.60886 6.19901 3.43671 6.19901 2.92024ZM6.19901 2.92024\" fill=\"black\"/>\n",
       " </g>\n",
       " <g transform=\"matrix(1.000000,0.000000,0.000000,1.000000,0.000000,-56.692913)\">\n",
       "  <path d=\"M-7.90014 4.0249M0.363264 0.725275C0.60715 0.725275 0.865381 0.725275 0.865381 0.438351C0.865381 0.151427 0.60715 0.151427 0.363264 0.151427L-7.39803 0.151427C-7.64191 0.151427 -7.90014 0.151427 -7.90014 0.438351C-7.90014 0.725275 -7.64191 0.725275 -7.39803 0.725275ZM-7.39803 0.725275\" fill=\"black\"/>\n",
       "  <path d=\"M3.37281 4.0249M6.19901 -5.17101C6.19901 -5.50097 6.19901 -5.51532 5.91209 -5.51532C5.56778 -5.12797 4.85047 -4.59716 3.37281 -4.59716L3.37281 -4.18112C3.70277 -4.18112 4.42008 -4.18112 5.20912 -4.55413L5.20912 2.92024C5.20912 3.43671 5.16608 3.60886 3.90362 3.60886L3.45889 3.60886L3.45889 4.0249C3.84623 3.99621 5.23781 3.99621 5.71124 3.99621C6.18466 3.99621 7.5619 3.99621 7.94925 4.0249L7.94925 3.60886L7.50451 3.60886C6.24205 3.60886 6.19901 3.43671 6.19901 2.92024ZM6.19901 2.92024\" fill=\"black\"/>\n",
       " </g>\n",
       " <path d=\"M2.3622 -85.0394L2.3622 -85.0435A2.3622 2.3622 0 0 0 -2.3622 -85.0394A2.3622 2.3622 0 0 0 2.3622 -85.0352Z\" fill=\"#3f19ff\"/>\n",
       " <g transform=\"matrix(1.000000,0.000000,0.000000,1.000000,28.346457,-0.000000)\">\n",
       "  <path d=\"M-7.90014 4.0249M0.363264 0.725275C0.60715 0.725275 0.865381 0.725275 0.865381 0.438351C0.865381 0.151427 0.60715 0.151427 0.363264 0.151427L-7.39803 0.151427C-7.64191 0.151427 -7.90014 0.151427 -7.90014 0.438351C-7.90014 0.725275 -7.64191 0.725275 -7.39803 0.725275ZM-7.39803 0.725275\" fill=\"black\"/>\n",
       "  <path d=\"M3.37281 4.0249M6.19901 -5.17101C6.19901 -5.50097 6.19901 -5.51532 5.91209 -5.51532C5.56778 -5.12797 4.85047 -4.59716 3.37281 -4.59716L3.37281 -4.18112C3.70277 -4.18112 4.42008 -4.18112 5.20912 -4.55413L5.20912 2.92024C5.20912 3.43671 5.16608 3.60886 3.90362 3.60886L3.45889 3.60886L3.45889 4.0249C3.84623 3.99621 5.23781 3.99621 5.71124 3.99621C6.18466 3.99621 7.5619 3.99621 7.94925 4.0249L7.94925 3.60886L7.50451 3.60886C6.24205 3.60886 6.19901 3.43671 6.19901 2.92024ZM6.19901 2.92024\" fill=\"black\"/>\n",
       " </g>\n",
       " <g transform=\"matrix(1.000000,0.000000,0.000000,1.000000,28.346457,-28.346457)\">\n",
       "  <path d=\"M-2.80882 4.62265M2.80055 2.21249L2.48493 2.21249C2.44189 2.45637 2.32712 3.24541 2.18366 3.47495C2.08324 3.60407 1.2655 3.60407 0.835118 3.60407L-1.81893 3.60407C-1.43158 3.27411 -0.556463 2.35595 -0.183462 2.01164C1.99716 0.00317419 2.80055 -0.742828 2.80055 -2.1631C2.80055 -3.81291 1.49504 -4.91757 -0.169115 -4.91757C-1.83327 -4.91757 -2.80882 -3.4973 -2.80882 -2.26352C-2.80882 -1.53187 -2.17758 -1.53187 -2.13454 -1.53187C-1.83327 -1.53187 -1.46027 -1.74706 -1.46027 -2.20614C-1.46027 -2.60783 -1.73285 -2.88041 -2.13454 -2.88041C-2.26366 -2.88041 -2.29235 -2.88041 -2.33539 -2.86606C-2.06281 -3.84161 -1.28812 -4.50153 -0.355616 -4.50153C0.863811 -4.50153 1.60981 -3.48295 1.60981 -2.1631C1.60981 -0.943675 0.906849 0.117944 0.0891162 1.0361L-2.80882 4.27834L-2.80882 4.62265L2.42755 4.62265ZM2.42755 4.62265\" fill=\"black\"/>\n",
       " </g>\n",
       " <g transform=\"matrix(1.000000,0.000000,0.000000,1.000000,28.346457,-56.692913)\">\n",
       "  <path d=\"M-2.80882 4.62265M2.80055 2.21249L2.48493 2.21249C2.44189 2.45637 2.32712 3.24541 2.18366 3.47495C2.08324 3.60407 1.2655 3.60407 0.835118 3.60407L-1.81893 3.60407C-1.43158 3.27411 -0.556463 2.35595 -0.183462 2.01164C1.99716 0.00317419 2.80055 -0.742828 2.80055 -2.1631C2.80055 -3.81291 1.49504 -4.91757 -0.169115 -4.91757C-1.83327 -4.91757 -2.80882 -3.4973 -2.80882 -2.26352C-2.80882 -1.53187 -2.17758 -1.53187 -2.13454 -1.53187C-1.83327 -1.53187 -1.46027 -1.74706 -1.46027 -2.20614C-1.46027 -2.60783 -1.73285 -2.88041 -2.13454 -2.88041C-2.26366 -2.88041 -2.29235 -2.88041 -2.33539 -2.86606C-2.06281 -3.84161 -1.28812 -4.50153 -0.355616 -4.50153C0.863811 -4.50153 1.60981 -3.48295 1.60981 -2.1631C1.60981 -0.943675 0.906849 0.117944 0.0891162 1.0361L-2.80882 4.27834L-2.80882 4.62265L2.42755 4.62265ZM2.42755 4.62265\" fill=\"black\"/>\n",
       " </g>\n",
       " <g transform=\"matrix(1.000000,0.000000,0.000000,1.000000,28.346457,-85.039370)\">\n",
       "  <path d=\"M-7.90014 4.0249M0.363264 0.725275C0.60715 0.725275 0.865381 0.725275 0.865381 0.438351C0.865381 0.151427 0.60715 0.151427 0.363264 0.151427L-7.39803 0.151427C-7.64191 0.151427 -7.90014 0.151427 -7.90014 0.438351C-7.90014 0.725275 -7.64191 0.725275 -7.39803 0.725275ZM-7.39803 0.725275\" fill=\"black\"/>\n",
       "  <path d=\"M3.37281 4.0249M6.19901 -5.17101C6.19901 -5.50097 6.19901 -5.51532 5.91209 -5.51532C5.56778 -5.12797 4.85047 -4.59716 3.37281 -4.59716L3.37281 -4.18112C3.70277 -4.18112 4.42008 -4.18112 5.20912 -4.55413L5.20912 2.92024C5.20912 3.43671 5.16608 3.60886 3.90362 3.60886L3.45889 3.60886L3.45889 4.0249C3.84623 3.99621 5.23781 3.99621 5.71124 3.99621C6.18466 3.99621 7.5619 3.99621 7.94925 4.0249L7.94925 3.60886L7.50451 3.60886C6.24205 3.60886 6.19901 3.43671 6.19901 2.92024ZM6.19901 2.92024\" fill=\"black\"/>\n",
       " </g>\n",
       " <g transform=\"matrix(1.000000,0.000000,0.000000,1.000000,56.692913,-0.000000)\">\n",
       "  <path d=\"M-7.90014 4.0249M0.363264 0.725275C0.60715 0.725275 0.865381 0.725275 0.865381 0.438351C0.865381 0.151427 0.60715 0.151427 0.363264 0.151427L-7.39803 0.151427C-7.64191 0.151427 -7.90014 0.151427 -7.90014 0.438351C-7.90014 0.725275 -7.64191 0.725275 -7.39803 0.725275ZM-7.39803 0.725275\" fill=\"black\"/>\n",
       "  <path d=\"M3.37281 4.0249M6.19901 -5.17101C6.19901 -5.50097 6.19901 -5.51532 5.91209 -5.51532C5.56778 -5.12797 4.85047 -4.59716 3.37281 -4.59716L3.37281 -4.18112C3.70277 -4.18112 4.42008 -4.18112 5.20912 -4.55413L5.20912 2.92024C5.20912 3.43671 5.16608 3.60886 3.90362 3.60886L3.45889 3.60886L3.45889 4.0249C3.84623 3.99621 5.23781 3.99621 5.71124 3.99621C6.18466 3.99621 7.5619 3.99621 7.94925 4.0249L7.94925 3.60886L7.50451 3.60886C6.24205 3.60886 6.19901 3.43671 6.19901 2.92024ZM6.19901 2.92024\" fill=\"black\"/>\n",
       " </g>\n",
       " <g transform=\"matrix(1.000000,0.000000,0.000000,1.000000,56.692913,-28.346457)\">\n",
       "  <path d=\"M-2.80882 4.62265M2.80055 2.21249L2.48493 2.21249C2.44189 2.45637 2.32712 3.24541 2.18366 3.47495C2.08324 3.60407 1.2655 3.60407 0.835118 3.60407L-1.81893 3.60407C-1.43158 3.27411 -0.556463 2.35595 -0.183462 2.01164C1.99716 0.00317419 2.80055 -0.742828 2.80055 -2.1631C2.80055 -3.81291 1.49504 -4.91757 -0.169115 -4.91757C-1.83327 -4.91757 -2.80882 -3.4973 -2.80882 -2.26352C-2.80882 -1.53187 -2.17758 -1.53187 -2.13454 -1.53187C-1.83327 -1.53187 -1.46027 -1.74706 -1.46027 -2.20614C-1.46027 -2.60783 -1.73285 -2.88041 -2.13454 -2.88041C-2.26366 -2.88041 -2.29235 -2.88041 -2.33539 -2.86606C-2.06281 -3.84161 -1.28812 -4.50153 -0.355616 -4.50153C0.863811 -4.50153 1.60981 -3.48295 1.60981 -2.1631C1.60981 -0.943675 0.906849 0.117944 0.0891162 1.0361L-2.80882 4.27834L-2.80882 4.62265L2.42755 4.62265ZM2.42755 4.62265\" fill=\"black\"/>\n",
       " </g>\n",
       " <g transform=\"matrix(1.000000,0.000000,0.000000,1.000000,56.692913,-56.692913)\">\n",
       "  <path d=\"M-2.80882 4.62265M2.80055 2.21249L2.48493 2.21249C2.44189 2.45637 2.32712 3.24541 2.18366 3.47495C2.08324 3.60407 1.2655 3.60407 0.835118 3.60407L-1.81893 3.60407C-1.43158 3.27411 -0.556463 2.35595 -0.183462 2.01164C1.99716 0.00317419 2.80055 -0.742828 2.80055 -2.1631C2.80055 -3.81291 1.49504 -4.91757 -0.169115 -4.91757C-1.83327 -4.91757 -2.80882 -3.4973 -2.80882 -2.26352C-2.80882 -1.53187 -2.17758 -1.53187 -2.13454 -1.53187C-1.83327 -1.53187 -1.46027 -1.74706 -1.46027 -2.20614C-1.46027 -2.60783 -1.73285 -2.88041 -2.13454 -2.88041C-2.26366 -2.88041 -2.29235 -2.88041 -2.33539 -2.86606C-2.06281 -3.84161 -1.28812 -4.50153 -0.355616 -4.50153C0.863811 -4.50153 1.60981 -3.48295 1.60981 -2.1631C1.60981 -0.943675 0.906849 0.117944 0.0891162 1.0361L-2.80882 4.27834L-2.80882 4.62265L2.42755 4.62265ZM2.42755 4.62265\" fill=\"black\"/>\n",
       " </g>\n",
       " <g transform=\"matrix(1.000000,0.000000,0.000000,1.000000,56.692913,-85.039370)\">\n",
       "  <path d=\"M-7.90014 4.0249M0.363264 0.725275C0.60715 0.725275 0.865381 0.725275 0.865381 0.438351C0.865381 0.151427 0.60715 0.151427 0.363264 0.151427L-7.39803 0.151427C-7.64191 0.151427 -7.90014 0.151427 -7.90014 0.438351C-7.90014 0.725275 -7.64191 0.725275 -7.39803 0.725275ZM-7.39803 0.725275\" fill=\"black\"/>\n",
       "  <path d=\"M3.37281 4.0249M6.19901 -5.17101C6.19901 -5.50097 6.19901 -5.51532 5.91209 -5.51532C5.56778 -5.12797 4.85047 -4.59716 3.37281 -4.59716L3.37281 -4.18112C3.70277 -4.18112 4.42008 -4.18112 5.20912 -4.55413L5.20912 2.92024C5.20912 3.43671 5.16608 3.60886 3.90362 3.60886L3.45889 3.60886L3.45889 4.0249C3.84623 3.99621 5.23781 3.99621 5.71124 3.99621C6.18466 3.99621 7.5619 3.99621 7.94925 4.0249L7.94925 3.60886L7.50451 3.60886C6.24205 3.60886 6.19901 3.43671 6.19901 2.92024ZM6.19901 2.92024\" fill=\"black\"/>\n",
       " </g>\n",
       " <path d=\"M87.4016 -0L87.4016 -0.00412282A2.3622 2.3622 0 0 0 82.6772 -1.33832e-15A2.3622 2.3622 0 0 0 87.4016 0.00412282Z\" fill=\"#3f19ff\"/>\n",
       " <g transform=\"matrix(1.000000,0.000000,0.000000,1.000000,85.039370,-28.346457)\">\n",
       "  <path d=\"M-7.90014 4.0249M0.363264 0.725275C0.60715 0.725275 0.865381 0.725275 0.865381 0.438351C0.865381 0.151427 0.60715 0.151427 0.363264 0.151427L-7.39803 0.151427C-7.64191 0.151427 -7.90014 0.151427 -7.90014 0.438351C-7.90014 0.725275 -7.64191 0.725275 -7.39803 0.725275ZM-7.39803 0.725275\" fill=\"black\"/>\n",
       "  <path d=\"M3.37281 4.0249M6.19901 -5.17101C6.19901 -5.50097 6.19901 -5.51532 5.91209 -5.51532C5.56778 -5.12797 4.85047 -4.59716 3.37281 -4.59716L3.37281 -4.18112C3.70277 -4.18112 4.42008 -4.18112 5.20912 -4.55413L5.20912 2.92024C5.20912 3.43671 5.16608 3.60886 3.90362 3.60886L3.45889 3.60886L3.45889 4.0249C3.84623 3.99621 5.23781 3.99621 5.71124 3.99621C6.18466 3.99621 7.5619 3.99621 7.94925 4.0249L7.94925 3.60886L7.50451 3.60886C6.24205 3.60886 6.19901 3.43671 6.19901 2.92024ZM6.19901 2.92024\" fill=\"black\"/>\n",
       " </g>\n",
       " <g transform=\"matrix(1.000000,0.000000,0.000000,1.000000,85.039370,-56.692913)\">\n",
       "  <path d=\"M-7.90014 4.0249M0.363264 0.725275C0.60715 0.725275 0.865381 0.725275 0.865381 0.438351C0.865381 0.151427 0.60715 0.151427 0.363264 0.151427L-7.39803 0.151427C-7.64191 0.151427 -7.90014 0.151427 -7.90014 0.438351C-7.90014 0.725275 -7.64191 0.725275 -7.39803 0.725275ZM-7.39803 0.725275\" fill=\"black\"/>\n",
       "  <path d=\"M3.37281 4.0249M6.19901 -5.17101C6.19901 -5.50097 6.19901 -5.51532 5.91209 -5.51532C5.56778 -5.12797 4.85047 -4.59716 3.37281 -4.59716L3.37281 -4.18112C3.70277 -4.18112 4.42008 -4.18112 5.20912 -4.55413L5.20912 2.92024C5.20912 3.43671 5.16608 3.60886 3.90362 3.60886L3.45889 3.60886L3.45889 4.0249C3.84623 3.99621 5.23781 3.99621 5.71124 3.99621C6.18466 3.99621 7.5619 3.99621 7.94925 4.0249L7.94925 3.60886L7.50451 3.60886C6.24205 3.60886 6.19901 3.43671 6.19901 2.92024ZM6.19901 2.92024\" fill=\"black\"/>\n",
       " </g>\n",
       " <path d=\"M87.4016 -85.0394L87.4016 -85.0435A2.3622 2.3622 0 0 0 82.6772 -85.0394A2.3622 2.3622 0 0 0 87.4016 -85.0352Z\" fill=\"#3f19ff\"/>\n",
       "</svg>\n"
      ],
      "text/plain": [
       "<pyx.canvas.canvas at 0x7f0520e2ffd0>"
      ]
     },
     "metadata": {},
     "output_type": "display_data"
    }
   ],
   "source": [
    "for w in laplace[-1].GB():\n",
    "    display(sum(Symbol(m.T_latex())*c for m, c in w.poly))\n",
    "    \n",
    "    frm, l = [pyx.text.halign.boxcenter, pyx.text.valign.middle], 1.\n",
    "    pyx.unit.set(wscale=1)\n",
    "    canvas = pyx.canvas.canvas()\n",
    "    res = dict(((m[0], m[1]), c) for m, c in w.poly)\n",
    "    X, Y = max(x for x, y in res), max(x for x, y in res)\n",
    "    for x in range(X+1):\n",
    "        for y in range(Y+1):\n",
    "            if (x, y) in res:\n",
    "                canvas.text(x*l, y*l, fr\"\\Large${res[x, y]}$\", frm)\n",
    "            else:\n",
    "                canvas.fill(pyx.path.circle(x, y, l/12), [pyx.color.cmyk.RoyalPurple]) \n",
    "    display(canvas)"
   ]
  },
  {
   "cell_type": "code",
   "execution_count": 16,
   "id": "4b591614",
   "metadata": {},
   "outputs": [
    {
     "name": "stdout",
     "output_type": "stream",
     "text": [
      "prolong uy*k\n",
      "T(uy, k)\n",
      "prolong ux*j\n",
      "T(ux, j)\n",
      "prolong ux*j*k\n",
      "T(ux, k)\n",
      "prolongAll\n",
      "T(uy, j, 2)\n",
      "prolongAll\n",
      "T(uy, j, k)\n",
      "prolongAll\n",
      "T(u, j, 2, k, 2)\n",
      "prolongAll\n",
      "crit1: 0\n",
      "crit2: 0\n",
      " time: 0.03 sec\n",
      "    count: 6\n",
      "reduction: 14\n",
      "       HP: 4s + 1\n"
     ]
    }
   ],
   "source": [
    "laplace = Forest(Janet)\n",
    "res = ginvMin((\n",
    "(T(ux, j) + T(ux))/2*h - (T(u, j) - T(u)),\\\n",
    "(T(uy, k) + T(uy))/2*h - (T(u, k) - T(u)),\\\n",
    "-((T(uy) + T(uy, j))/2 - (T(uy, j, k) + T(uy, k))/2)*h +\\\n",
    " ((T(ux, j) + T(ux, j, k))/2 - (T(ux, k) + T(ux))/2)*h), \\\n",
    "laplace, level=1)\n",
    "print(f\"crit1: {res[1]}\")\n",
    "print(f\"crit2: {res[2]}\")\n",
    "print(f\" time: {res[0]:.2f} sec\")\n",
    "print(f\"    count: {laplace.count()}\")\n",
    "print(f\"reduction: {laplace.reduction()}\")\n",
    "print(f\"       HP: {laplace.HP()}\")"
   ]
  },
  {
   "cell_type": "code",
   "execution_count": 17,
   "id": "51c962fa",
   "metadata": {},
   "outputs": [
    {
     "data": {
      "image/png": "[encoded data removed]",
      "text/latex": [
       "$\\displaystyle - 4 {u}_{{j} + 1\\, {k} + 1} + {u}_{{j} + 2\\, {k} + 2} + {u}_{{j} + 2\\, {k}} + {u}_{{j}\\, {k} + 2} + {u}_{{j}\\, {k}}$"
      ],
      "text/plain": [
       "-4⋅{u}_{{j} + 1\\, {k} + 1} + {u}_{{j} + 2\\, {k} + 2} + {u}_{{j} + 2\\, {k}} + {u}_{{j}\\, {k}\n",
       " + 2} + {u}_{{j}\\, {k}}"
      ]
     },
     "metadata": {},
     "output_type": "display_data"
    },
    {
     "data": {
      "image/png": "[encoded data removed]",
      "image/svg+xml": [
       "<?xml version=\"1.0\" encoding=\"utf-8\"?>\n",
       "<svg xmlns=\"http://www.w3.org/2000/svg\" fill=\"none\" version=\"1.1\" viewBox=\"-4.51178 -62.3156 65.7165 67.9382\" x=\"-4.51178pt\" y=\"-62.3156pt\" width=\"65.7165pt\" height=\"67.9382pt\" stroke-width=\"0.566929\" stroke-miterlimit=\"10.000000\">\n",
       " <g transform=\"matrix(1.000000,0.000000,0.000000,1.000000,0.000000,-0.000000)\">\n",
       "  <path d=\"M-2.20628 4.62265M0.619925 -4.57326C0.619925 -4.90322 0.619925 -4.91757 0.333001 -4.91757C-0.0113072 -4.53022 -0.728617 -3.99941 -2.20628 -3.99941L-2.20628 -3.58337C-1.87631 -3.58337 -1.159 -3.58337 -0.369962 -3.95638L-0.369962 3.51799C-0.369962 4.03446 -0.413001 4.20661 -1.67547 4.20661L-2.1202 4.20661L-2.1202 4.62265C-1.73285 4.59396 -0.34127 4.59396 0.132155 4.59396C0.605579 4.59396 1.98281 4.59396 2.37016 4.62265L2.37016 4.20661L1.92543 4.20661C0.662964 4.20661 0.619925 4.03446 0.619925 3.51799ZM0.619925 3.51799\" fill=\"black\"/>\n",
       " </g>\n",
       " <path d=\"M2.3622 -28.3465L2.3622 -28.3506A2.3622 2.3622 0 0 0 -2.3622 -28.3465A2.3622 2.3622 0 0 0 2.3622 -28.3423Z\" fill=\"#3f19ff\"/>\n",
       " <g transform=\"matrix(1.000000,0.000000,0.000000,1.000000,0.000000,-56.692913)\">\n",
       "  <path d=\"M-2.20628 4.62265M0.619925 -4.57326C0.619925 -4.90322 0.619925 -4.91757 0.333001 -4.91757C-0.0113072 -4.53022 -0.728617 -3.99941 -2.20628 -3.99941L-2.20628 -3.58337C-1.87631 -3.58337 -1.159 -3.58337 -0.369962 -3.95638L-0.369962 3.51799C-0.369962 4.03446 -0.413001 4.20661 -1.67547 4.20661L-2.1202 4.20661L-2.1202 4.62265C-1.73285 4.59396 -0.34127 4.59396 0.132155 4.59396C0.605579 4.59396 1.98281 4.59396 2.37016 4.62265L2.37016 4.20661L1.92543 4.20661C0.662964 4.20661 0.619925 4.03446 0.619925 3.51799ZM0.619925 3.51799\" fill=\"black\"/>\n",
       " </g>\n",
       " <path d=\"M30.7087 -0L30.7087 -0.00412282A2.3622 2.3622 0 0 0 25.9843 -1.33832e-15A2.3622 2.3622 0 0 0 30.7087 0.00412282Z\" fill=\"#3f19ff\"/>\n",
       " <g transform=\"matrix(1.000000,0.000000,0.000000,1.000000,28.346457,-28.346457)\">\n",
       "  <path d=\"M-7.90014 4.0249M0.363264 0.725275C0.60715 0.725275 0.865381 0.725275 0.865381 0.438351C0.865381 0.151427 0.60715 0.151427 0.363264 0.151427L-7.39803 0.151427C-7.64191 0.151427 -7.90014 0.151427 -7.90014 0.438351C-7.90014 0.725275 -7.64191 0.725275 -7.39803 0.725275ZM-7.39803 0.725275\" fill=\"black\"/>\n",
       "  <path d=\"M2.45465 4.0249M7.24628 -5.31447C7.24628 -5.58705 7.24628 -5.65878 7.04544 -5.65878C6.93067 -5.65878 6.88763 -5.65878 6.77286 -5.48663L2.45465 1.21305L2.45465 1.62909L6.2277 1.62909L6.2277 2.93459C6.2277 3.4654 6.19901 3.60886 5.15174 3.60886L4.86481 3.60886L4.86481 4.0249C5.19478 3.99621 6.32813 3.99621 6.72982 3.99621C7.13151 3.99621 8.27921 3.99621 8.60917 4.0249L8.60917 3.60886L8.32225 3.60886C7.28932 3.60886 7.24628 3.4654 7.24628 2.93459L7.24628 1.62909L8.69525 1.62909L8.69525 1.21305L7.24628 1.21305ZM7.24628 1.21305M6.29943 -4.19547L6.29943 1.21305L2.81331 1.21305ZM2.81331 1.21305\" fill=\"black\"/>\n",
       " </g>\n",
       " <path d=\"M30.7087 -56.6929L30.7087 -56.697A2.3622 2.3622 0 0 0 25.9843 -56.6929A2.3622 2.3622 0 0 0 30.7087 -56.6888Z\" fill=\"#3f19ff\"/>\n",
       " <g transform=\"matrix(1.000000,0.000000,0.000000,1.000000,56.692913,-0.000000)\">\n",
       "  <path d=\"M-2.20628 4.62265M0.619925 -4.57326C0.619925 -4.90322 0.619925 -4.91757 0.333001 -4.91757C-0.0113072 -4.53022 -0.728617 -3.99941 -2.20628 -3.99941L-2.20628 -3.58337C-1.87631 -3.58337 -1.159 -3.58337 -0.369962 -3.95638L-0.369962 3.51799C-0.369962 4.03446 -0.413001 4.20661 -1.67547 4.20661L-2.1202 4.20661L-2.1202 4.62265C-1.73285 4.59396 -0.34127 4.59396 0.132155 4.59396C0.605579 4.59396 1.98281 4.59396 2.37016 4.62265L2.37016 4.20661L1.92543 4.20661C0.662964 4.20661 0.619925 4.03446 0.619925 3.51799ZM0.619925 3.51799\" fill=\"black\"/>\n",
       " </g>\n",
       " <path d=\"M59.0551 -28.3465L59.0551 -28.3506A2.3622 2.3622 0 0 0 54.3307 -28.3465A2.3622 2.3622 0 0 0 59.0551 -28.3423Z\" fill=\"#3f19ff\"/>\n",
       " <g transform=\"matrix(1.000000,0.000000,0.000000,1.000000,56.692913,-56.692913)\">\n",
       "  <path d=\"M-2.20628 4.62265M0.619925 -4.57326C0.619925 -4.90322 0.619925 -4.91757 0.333001 -4.91757C-0.0113072 -4.53022 -0.728617 -3.99941 -2.20628 -3.99941L-2.20628 -3.58337C-1.87631 -3.58337 -1.159 -3.58337 -0.369962 -3.95638L-0.369962 3.51799C-0.369962 4.03446 -0.413001 4.20661 -1.67547 4.20661L-2.1202 4.20661L-2.1202 4.62265C-1.73285 4.59396 -0.34127 4.59396 0.132155 4.59396C0.605579 4.59396 1.98281 4.59396 2.37016 4.62265L2.37016 4.20661L1.92543 4.20661C0.662964 4.20661 0.619925 4.03446 0.619925 3.51799ZM0.619925 3.51799\" fill=\"black\"/>\n",
       " </g>\n",
       "</svg>\n"
      ],
      "text/plain": [
       "<pyx.canvas.canvas at 0x7f052ba647d0>"
      ]
     },
     "metadata": {},
     "output_type": "display_data"
    }
   ],
   "source": [
    "for w in laplace[-1].GB():\n",
    "    display(sum(Symbol(m.T_latex())*c for m, c in w.poly))\n",
    "    \n",
    "    frm, l = [pyx.text.halign.boxcenter, pyx.text.valign.middle], 1.\n",
    "    pyx.unit.set(wscale=1)\n",
    "    canvas = pyx.canvas.canvas()\n",
    "    res = dict(((m[0], m[1]), c) for m, c in w.poly)\n",
    "    X, Y = max(x for x, y in res), max(x for x, y in res)\n",
    "    for x in range(X+1):\n",
    "        for y in range(Y+1):\n",
    "            if (x, y) in res:\n",
    "                canvas.text(x*l, y*l, fr\"\\Large${res[x, y]}$\", frm)\n",
    "            else:\n",
    "                canvas.fill(pyx.path.circle(x, y, l/12), [pyx.color.cmyk.RoyalPurple]) \n",
    "    display(canvas)"
   ]
  },
  {
   "cell_type": "markdown",
   "id": "91bc5339",
   "metadata": {},
   "source": [
    "<https://en.wikipedia.org/wiki/Compact_finite_difference>\n",
    "\n",
    "### Fourth-order central scheme:\n",
    "$$\\frac{1}{12}f''_{i-1} + \\frac{5}{6}f''_{i} + \\frac{1}{12}f''_{i+1} = \\frac{f_{i+1} - 2f_{i} + f_{i-1}}{h^2}.$$\n",
    "\n",
    "### Integral form:\n",
    "$$- \\int\\limits_{0}^{1}\\int f{\\left(x \\right)}\\, dx\\, dx + \\int\\limits_{1}^{2}\\int f{\\left(x \\right)}\\, dx\\, dx = - \\frac{f^{(4)} h^{6}}{240} + h^{2} \\left(\\frac{f{\\left(x_{i} \\right)}}{12} + \\frac{5 f{\\left(x_{i+1} \\right)}}{6} + \\frac{f{\\left(x_{i+2} \\right)}}{12}\\right).$$\n"
   ]
  },
  {
   "cell_type": "code",
   "execution_count": 18,
   "id": "292393aa",
   "metadata": {},
   "outputs": [],
   "source": [
    "var = 'j, k'.split(', ')\n",
    "fun = 'uxx, uyy, u'.split(', ')\n",
    "Monom.init(var, fun)\n",
    "T = PolySchem.T\n",
    "var, fun = PolySchem.init()\n",
    "j, k = var\n",
    "uxx, uyy, u = fun"
   ]
  },
  {
   "cell_type": "code",
   "execution_count": 19,
   "id": "aa70a160",
   "metadata": {},
   "outputs": [
    {
     "name": "stdout",
     "output_type": "stream",
     "text": [
      "prolong uyy*k**2\n",
      "T(uyy, k, 2)\n",
      "prolong uxx\n",
      "T(uxx)\n",
      "prolong uxx*j**2\n",
      "T(uyy, j, 2)\n",
      "prolongAll\n",
      "T(uyy, j, k, 2)\n",
      "prolongAll\n",
      "T(u, j, 2, k, 2)\n",
      "prolongAll\n",
      "crit1: 0\n",
      "crit2: 0\n",
      " time: 0.03 sec\n",
      "    count: 5\n",
      "reduction: 10\n",
      "       HP: 4s + 2\n"
     ]
    }
   ],
   "source": [
    "laplace = Forest(Janet)\n",
    "res = ginvMin((\n",
    "(T(uxx, j, 2)/12 + 5*T(uxx, j)/6  + T(uxx)/12)*h**2\\\n",
    "    - (T(u, j, 2) - 2* T(u, j) + T(u)),\\\n",
    "(T(uyy, k, 2)/12 + 5*T(uyy, k)/6  + T(uyy)/12)*h**2\\\n",
    "    - (T(u, k, 2) - 2* T(u, k) + T(u)),\\\n",
    "T(uxx) + T(uyy)), \\\n",
    "laplace, level=1)\n",
    "print(f\"crit1: {res[1]}\")\n",
    "print(f\"crit2: {res[2]}\")\n",
    "print(f\" time: {res[0]:.2f} sec\")\n",
    "print(f\"    count: {laplace.count()}\")\n",
    "print(f\"reduction: {laplace.reduction()}\")\n",
    "print(f\"       HP: {laplace.HP()}\")"
   ]
  },
  {
   "cell_type": "code",
   "execution_count": 20,
   "id": "69a92da8",
   "metadata": {},
   "outputs": [
    {
     "name": "stdout",
     "output_type": "stream",
     "text": [
      "T(uxx) + T(uyy)\n",
      "T(uyy, k, 2)*h**2 + T(uyy, k)*10*h**2 + T(uyy)*h**2 + T(u, k, 2)*(-12) + T(u, k)*24 + T(u)*(-12)\n",
      "T(uyy, j, 2)*(-h**2) + T(uyy, j)*(-10*h**2) + T(uyy)*(-h**2) + T(u, j, 2)*(-12) + T(u, j)*24 + T(u)*(-12)\n",
      "T(u, j, 2, k, 2) + T(u, j, 2, k)*4 + T(u, j, 2) + T(u, j, k, 2)*4 + T(u, j, k)*(-20) + T(u, j)*4 + T(u, k, 2) + T(u, k)*4 + T(u)\n"
     ]
    }
   ],
   "source": [
    "for w in laplace.GB():\n",
    "    print(w.poly)"
   ]
  },
  {
   "cell_type": "code",
   "execution_count": 21,
   "id": "73477cd2",
   "metadata": {},
   "outputs": [
    {
     "data": {
      "image/png": "[encoded data removed]",
      "text/latex": [
       "$\\displaystyle - 20 {u}_{{j} + 1\\, {k} + 1} + 4 {u}_{{j} + 1\\, {k} + 2} + 4 {u}_{{j} + 1\\, {k}} + 4 {u}_{{j} + 2\\, {k} + 1} + {u}_{{j} + 2\\, {k} + 2} + {u}_{{j} + 2\\, {k}} + 4 {u}_{{j}\\, {k} + 1} + {u}_{{j}\\, {k} + 2} + {u}_{{j}\\, {k}}$"
      ],
      "text/plain": [
       "-20⋅{u}_{{j} + 1\\, {k} + 1} + 4⋅{u}_{{j} + 1\\, {k} + 2} + 4⋅{u}_{{j} + 1\\, {k}} + 4⋅{u}_{{j\n",
       "} + 2\\, {k} + 1} + {u}_{{j} + 2\\, {k} + 2} + {u}_{{j} + 2\\, {k}} + 4⋅{u}_{{j}\\, {k} + 1} + \n",
       "{u}_{{j}\\, {k} + 2} + {u}_{{j}\\, {k}}"
      ]
     },
     "metadata": {},
     "output_type": "display_data"
    },
    {
     "data": {
      "image/png": "[encoded data removed]",
      "image/svg+xml": [
       "<?xml version=\"1.0\" encoding=\"utf-8\"?>\n",
       "<svg xmlns=\"http://www.w3.org/2000/svg\" fill=\"none\" version=\"1.1\" viewBox=\"-4.51178 -62.3156 65.7165 67.9382\" x=\"-4.51178pt\" y=\"-62.3156pt\" width=\"65.7165pt\" height=\"67.9382pt\" stroke-width=\"0.566929\" stroke-miterlimit=\"10.000000\">\n",
       " <g transform=\"matrix(1.000000,0.000000,0.000000,1.000000,0.000000,-0.000000)\">\n",
       "  <path d=\"M-2.20628 4.62265M0.619925 -4.57326C0.619925 -4.90322 0.619925 -4.91757 0.333001 -4.91757C-0.0113072 -4.53022 -0.728617 -3.99941 -2.20628 -3.99941L-2.20628 -3.58337C-1.87631 -3.58337 -1.159 -3.58337 -0.369962 -3.95638L-0.369962 3.51799C-0.369962 4.03446 -0.413001 4.20661 -1.67547 4.20661L-2.1202 4.20661L-2.1202 4.62265C-1.73285 4.59396 -0.34127 4.59396 0.132155 4.59396C0.605579 4.59396 1.98281 4.59396 2.37016 4.62265L2.37016 4.20661L1.92543 4.20661C0.662964 4.20661 0.619925 4.03446 0.619925 3.51799ZM0.619925 3.51799\" fill=\"black\"/>\n",
       " </g>\n",
       " <g transform=\"matrix(1.000000,0.000000,0.000000,1.000000,0.000000,-28.346457)\">\n",
       "  <path d=\"M-3.12443 4.62265M1.6672 -4.71672C1.6672 -4.9893 1.6672 -5.06103 1.46635 -5.06103C1.35158 -5.06103 1.30854 -5.06103 1.19377 -4.88888L-3.12443 1.81079L-3.12443 2.22683L0.648618 2.22683L0.648618 3.53234C0.648618 4.06315 0.619925 4.20661 -0.427347 4.20661L-0.714271 4.20661L-0.714271 4.62265C-0.384308 4.59396 0.749041 4.59396 1.15073 4.59396C1.55243 4.59396 2.70012 4.59396 3.03009 4.62265L3.03009 4.20661L2.74316 4.20661C1.71024 4.20661 1.6672 4.06315 1.6672 3.53234L1.6672 2.22683L3.11616 2.22683L3.11616 1.81079L1.6672 1.81079ZM1.6672 1.81079M0.720349 -3.59772L0.720349 1.81079L-2.76578 1.81079ZM-2.76578 1.81079\" fill=\"black\"/>\n",
       " </g>\n",
       " <g transform=\"matrix(1.000000,0.000000,0.000000,1.000000,0.000000,-56.692913)\">\n",
       "  <path d=\"M-2.20628 4.62265M0.619925 -4.57326C0.619925 -4.90322 0.619925 -4.91757 0.333001 -4.91757C-0.0113072 -4.53022 -0.728617 -3.99941 -2.20628 -3.99941L-2.20628 -3.58337C-1.87631 -3.58337 -1.159 -3.58337 -0.369962 -3.95638L-0.369962 3.51799C-0.369962 4.03446 -0.413001 4.20661 -1.67547 4.20661L-2.1202 4.20661L-2.1202 4.62265C-1.73285 4.59396 -0.34127 4.59396 0.132155 4.59396C0.605579 4.59396 1.98281 4.59396 2.37016 4.62265L2.37016 4.20661L1.92543 4.20661C0.662964 4.20661 0.619925 4.03446 0.619925 3.51799ZM0.619925 3.51799\" fill=\"black\"/>\n",
       " </g>\n",
       " <g transform=\"matrix(1.000000,0.000000,0.000000,1.000000,28.346457,-0.000000)\">\n",
       "  <path d=\"M-3.12443 4.62265M1.6672 -4.71672C1.6672 -4.9893 1.6672 -5.06103 1.46635 -5.06103C1.35158 -5.06103 1.30854 -5.06103 1.19377 -4.88888L-3.12443 1.81079L-3.12443 2.22683L0.648618 2.22683L0.648618 3.53234C0.648618 4.06315 0.619925 4.20661 -0.427347 4.20661L-0.714271 4.20661L-0.714271 4.62265C-0.384308 4.59396 0.749041 4.59396 1.15073 4.59396C1.55243 4.59396 2.70012 4.59396 3.03009 4.62265L3.03009 4.20661L2.74316 4.20661C1.71024 4.20661 1.6672 4.06315 1.6672 3.53234L1.6672 2.22683L3.11616 2.22683L3.11616 1.81079L1.6672 1.81079ZM1.6672 1.81079M0.720349 -3.59772L0.720349 1.81079L-2.76578 1.81079ZM-2.76578 1.81079\" fill=\"black\"/>\n",
       " </g>\n",
       " <g transform=\"matrix(1.000000,0.000000,0.000000,1.000000,28.346457,-28.346457)\">\n",
       "  <path d=\"M-11.4119 4.0249M-3.14851 0.725275C-2.90463 0.725275 -2.6464 0.725275 -2.6464 0.438351C-2.6464 0.151427 -2.90463 0.151427 -3.14851 0.151427L-10.9098 0.151427C-11.1537 0.151427 -11.4119 0.151427 -11.4119 0.438351C-11.4119 0.725275 -11.1537 0.725275 -10.9098 0.725275ZM-10.9098 0.725275\" fill=\"black\"/>\n",
       "  <path d=\"M-0.74151 4.0249M4.86785 1.61474L4.55224 1.61474C4.5092 1.85862 4.39443 2.64767 4.25097 2.8772C4.15054 3.00632 3.33281 3.00632 2.90242 3.00632L0.248378 3.00632C0.635725 2.67636 1.51084 1.7582 1.88384 1.41389C4.06447 -0.594575 4.86785 -1.34058 4.86785 -2.76085C4.86785 -4.41066 3.56235 -5.51532 1.89819 -5.51532C0.234032 -5.51532 -0.74151 -4.09505 -0.74151 -2.86127C-0.74151 -2.12962 -0.110277 -2.12962 -0.0672386 -2.12962C0.234032 -2.12962 0.607033 -2.34481 0.607033 -2.80389C0.607033 -3.20558 0.334455 -3.47816 -0.0672386 -3.47816C-0.196354 -3.47816 -0.225047 -3.47816 -0.268085 -3.46381C0.0044924 -4.43936 0.779187 -5.09928 1.71169 -5.09928C2.93112 -5.09928 3.67712 -4.0807 3.67712 -2.76085C3.67712 -1.54142 2.97415 -0.479806 2.15642 0.438351L-0.74151 3.68059L-0.74151 4.0249L4.49485 4.0249ZM4.49485 4.0249M6.15901 4.0249M11.9979 -0.565883C11.9979 -1.75662 11.9262 -2.91866 11.4097 -4.00897C10.8215 -5.1997 9.7886 -5.51532 9.08563 -5.51532C8.25355 -5.51532 7.23498 -5.09928 6.70417 -3.90855C6.30247 -3.00474 6.15901 -2.11527 6.15901 -0.565883C6.15901 0.825698 6.25943 1.87297 6.7759 2.89155C7.3354 3.98186 8.32529 4.32617 9.07129 4.32617C10.3194 4.32617 11.0367 3.58017 11.4528 2.74809C11.9692 1.67212 11.9979 0.266197 11.9979 -0.565883ZM11.9979 -0.565883M9.07129 4.03925C8.61221 4.03925 7.67971 3.78101 7.40713 2.21728C7.24932 1.35651 7.24932 0.266197 7.24932 -0.738037C7.24932 -1.91443 7.24932 -2.97604 7.47886 -3.82247C7.72275 -4.78366 8.4544 -5.2284 9.07129 -5.2284C9.61644 -5.2284 10.4485 -4.89843 10.7211 -3.66466C10.9076 -2.84693 10.9076 -1.71358 10.9076 -0.738037C10.9076 0.223158 10.9076 1.31347 10.7498 2.18859C10.4772 3.76667 9.5734 4.03925 9.07129 4.03925ZM9.07129 4.03925\" fill=\"black\"/>\n",
       " </g>\n",
       " <g transform=\"matrix(1.000000,0.000000,0.000000,1.000000,28.346457,-56.692913)\">\n",
       "  <path d=\"M-3.12443 4.62265M1.6672 -4.71672C1.6672 -4.9893 1.6672 -5.06103 1.46635 -5.06103C1.35158 -5.06103 1.30854 -5.06103 1.19377 -4.88888L-3.12443 1.81079L-3.12443 2.22683L0.648618 2.22683L0.648618 3.53234C0.648618 4.06315 0.619925 4.20661 -0.427347 4.20661L-0.714271 4.20661L-0.714271 4.62265C-0.384308 4.59396 0.749041 4.59396 1.15073 4.59396C1.55243 4.59396 2.70012 4.59396 3.03009 4.62265L3.03009 4.20661L2.74316 4.20661C1.71024 4.20661 1.6672 4.06315 1.6672 3.53234L1.6672 2.22683L3.11616 2.22683L3.11616 1.81079L1.6672 1.81079ZM1.6672 1.81079M0.720349 -3.59772L0.720349 1.81079L-2.76578 1.81079ZM-2.76578 1.81079\" fill=\"black\"/>\n",
       " </g>\n",
       " <g transform=\"matrix(1.000000,0.000000,0.000000,1.000000,56.692913,-0.000000)\">\n",
       "  <path d=\"M-2.20628 4.62265M0.619925 -4.57326C0.619925 -4.90322 0.619925 -4.91757 0.333001 -4.91757C-0.0113072 -4.53022 -0.728617 -3.99941 -2.20628 -3.99941L-2.20628 -3.58337C-1.87631 -3.58337 -1.159 -3.58337 -0.369962 -3.95638L-0.369962 3.51799C-0.369962 4.03446 -0.413001 4.20661 -1.67547 4.20661L-2.1202 4.20661L-2.1202 4.62265C-1.73285 4.59396 -0.34127 4.59396 0.132155 4.59396C0.605579 4.59396 1.98281 4.59396 2.37016 4.62265L2.37016 4.20661L1.92543 4.20661C0.662964 4.20661 0.619925 4.03446 0.619925 3.51799ZM0.619925 3.51799\" fill=\"black\"/>\n",
       " </g>\n",
       " <g transform=\"matrix(1.000000,0.000000,0.000000,1.000000,56.692913,-28.346457)\">\n",
       "  <path d=\"M-3.12443 4.62265M1.6672 -4.71672C1.6672 -4.9893 1.6672 -5.06103 1.46635 -5.06103C1.35158 -5.06103 1.30854 -5.06103 1.19377 -4.88888L-3.12443 1.81079L-3.12443 2.22683L0.648618 2.22683L0.648618 3.53234C0.648618 4.06315 0.619925 4.20661 -0.427347 4.20661L-0.714271 4.20661L-0.714271 4.62265C-0.384308 4.59396 0.749041 4.59396 1.15073 4.59396C1.55243 4.59396 2.70012 4.59396 3.03009 4.62265L3.03009 4.20661L2.74316 4.20661C1.71024 4.20661 1.6672 4.06315 1.6672 3.53234L1.6672 2.22683L3.11616 2.22683L3.11616 1.81079L1.6672 1.81079ZM1.6672 1.81079M0.720349 -3.59772L0.720349 1.81079L-2.76578 1.81079ZM-2.76578 1.81079\" fill=\"black\"/>\n",
       " </g>\n",
       " <g transform=\"matrix(1.000000,0.000000,0.000000,1.000000,56.692913,-56.692913)\">\n",
       "  <path d=\"M-2.20628 4.62265M0.619925 -4.57326C0.619925 -4.90322 0.619925 -4.91757 0.333001 -4.91757C-0.0113072 -4.53022 -0.728617 -3.99941 -2.20628 -3.99941L-2.20628 -3.58337C-1.87631 -3.58337 -1.159 -3.58337 -0.369962 -3.95638L-0.369962 3.51799C-0.369962 4.03446 -0.413001 4.20661 -1.67547 4.20661L-2.1202 4.20661L-2.1202 4.62265C-1.73285 4.59396 -0.34127 4.59396 0.132155 4.59396C0.605579 4.59396 1.98281 4.59396 2.37016 4.62265L2.37016 4.20661L1.92543 4.20661C0.662964 4.20661 0.619925 4.03446 0.619925 3.51799ZM0.619925 3.51799\" fill=\"black\"/>\n",
       " </g>\n",
       "</svg>\n"
      ],
      "text/plain": [
       "<pyx.canvas.canvas at 0x7f05210f1490>"
      ]
     },
     "metadata": {},
     "output_type": "display_data"
    }
   ],
   "source": [
    "for w in laplace[-1].GB():\n",
    "    p = sum(Symbol(m.T_latex())*c for m, c in w.poly).expand()\n",
    "    display(ratsimp(p.coeff(h, 0)))\n",
    "    \n",
    "    frm, l = [pyx.text.halign.boxcenter, pyx.text.valign.middle], 1.\n",
    "    pyx.unit.set(wscale=1)\n",
    "    canvas = pyx.canvas.canvas()\n",
    "    res = dict(((m[0], m[1]), c) for m, c in w.poly)\n",
    "    X, Y = max(x for x, y in res), max(x for x, y in res)\n",
    "    for x in range(X+1):\n",
    "        for y in range(Y+1):\n",
    "            if (x, y) in res:\n",
    "                canvas.text(x*l, y*l, fr\"\\Large${res[x, y]}$\", frm)\n",
    "            else:\n",
    "                canvas.fill(pyx.path.circle(x, y, l/12), [pyx.color.cmyk.RoyalPurple]) \n",
    "    display(canvas)"
   ]
  },
  {
   "cell_type": "code",
   "execution_count": 22,
   "id": "7abe94cb",
   "metadata": {},
   "outputs": [],
   "source": [
    "var = 'j, k'.split(', ')\n",
    "fun = 'uxx, uyy, u, f'.split(', ')\n",
    "Monom.init(var, fun)\n",
    "T = PolySchem.T\n",
    "var, fun = PolySchem.init()\n",
    "j, k = var\n",
    "uxx, uyy, u, f = fun"
   ]
  },
  {
   "cell_type": "code",
   "execution_count": 23,
   "id": "84f665f2",
   "metadata": {},
   "outputs": [
    {
     "name": "stdout",
     "output_type": "stream",
     "text": [
      "prolong uyy*k**2\n",
      "T(uyy, k, 2)\n",
      "prolong uxx\n",
      "T(uxx)\n",
      "prolong uxx*j**2\n",
      "T(uyy, j, 2)\n",
      "prolongAll\n",
      "T(uyy, j, k, 2)\n",
      "prolongAll\n",
      "T(u, j, 2, k, 2)\n",
      "prolongAll\n",
      "crit1: 0\n",
      "crit2: 0\n",
      " time: 0.02 sec\n",
      "    count: 5\n",
      "reduction: 10\n",
      "       HP: s^2/2 + 11s/2 + 3\n"
     ]
    }
   ],
   "source": [
    "laplace = Forest(Janet)\n",
    "res = ginvMin((\n",
    "(T(uxx, j, 2)/12 + 5*T(uxx, j)/6  + T(uxx)/12)*h**2\\\n",
    "    - (T(u, j, 2) - 2* T(u, j) + T(u)),\\\n",
    "(T(uyy, k, 2)/12 + 5*T(uyy, k)/6  + T(uyy)/12)*h**2\\\n",
    "    - (T(u, k, 2) - 2* T(u, k) + T(u)),\\\n",
    "T(uxx) + T(uyy) - T(f)), \\\n",
    "laplace, level=1)\n",
    "print(f\"crit1: {res[1]}\")\n",
    "print(f\"crit2: {res[2]}\")\n",
    "print(f\" time: {res[0]:.2f} sec\")\n",
    "print(f\"    count: {laplace.count()}\")\n",
    "print(f\"reduction: {laplace.reduction()}\")\n",
    "print(f\"       HP: {laplace.HP()}\")"
   ]
  },
  {
   "cell_type": "code",
   "execution_count": 24,
   "id": "81740f44",
   "metadata": {},
   "outputs": [
    {
     "name": "stdout",
     "output_type": "stream",
     "text": [
      "T(uxx) + T(uyy) + T(f)*(-1)\n",
      "T(uyy, k, 2)*h**2 + T(uyy, k)*10*h**2 + T(uyy)*h**2 + T(u, k, 2)*(-12) + T(u, k)*24 + T(u)*(-12)\n",
      "T(uyy, j, 2)*(-h**2) + T(uyy, j)*(-10*h**2) + T(uyy)*(-h**2) + T(u, j, 2)*(-12) + T(u, j)*24 + T(u)*(-12) + T(f, j, 2)*h**2 + T(f, j)*10*h**2 + T(f)*h**2\n",
      "T(u, j, 2, k, 2)*24 + T(u, j, 2, k)*96 + T(u, j, 2)*24 + T(u, j, k, 2)*96 + T(u, j, k)*(-480) + T(u, j)*96 + T(u, k, 2)*24 + T(u, k)*96 + T(u)*24 + T(f, j, 2, k, 2)*(-h**2) + T(f, j, 2, k)*(-10*h**2) + T(f, j, 2)*(-h**2) + T(f, j, k, 2)*(-10*h**2) + T(f, j, k)*(-100*h**2) + T(f, j)*(-10*h**2) + T(f, k, 2)*(-h**2) + T(f, k)*(-10*h**2) + T(f)*(-h**2)\n"
     ]
    }
   ],
   "source": [
    "for w in laplace.GB():\n",
    "    print(w.poly)"
   ]
  },
  {
   "cell_type": "code",
   "execution_count": 25,
   "id": "eb352f49",
   "metadata": {
    "scrolled": true
   },
   "outputs": [
    {
     "data": {
      "image/png": "[encoded data removed]",
      "text/latex": [
       "$\\displaystyle - \\frac{100 {f}_{{j} + 1\\, {k} + 1} + 10 {f}_{{j} + 1\\, {k} + 2} + 10 {f}_{{j} + 1\\, {k}} + 10 {f}_{{j} + 2\\, {k} + 1} + {f}_{{j} + 2\\, {k} + 2} + {f}_{{j} + 2\\, {k}} + 10 {f}_{{j}\\, {k} + 1} + {f}_{{j}\\, {k} + 2} + {f}_{{j}\\, {k}}}{24} + \\frac{- 20 {u}_{{j} + 1\\, {k} + 1} + 4 {u}_{{j} + 1\\, {k} + 2} + 4 {u}_{{j} + 1\\, {k}} + 4 {u}_{{j} + 2\\, {k} + 1} + {u}_{{j} + 2\\, {k} + 2} + {u}_{{j} + 2\\, {k}} + 4 {u}_{{j}\\, {k} + 1} + {u}_{{j}\\, {k} + 2} + {u}_{{j}\\, {k}}}{h^{2}}$"
      ],
      "text/plain": [
       "  100⋅{f}_{{j} + 1\\, {k} + 1} + 10⋅{f}_{{j} + 1\\, {k} + 2} + 10⋅{f}_{{j} + 1\\, {k}} + 10⋅{f\n",
       "- ─────────────────────────────────────────────────────────────────────────────────────────\n",
       "                                                                                           \n",
       "                                                                                           \n",
       "\n",
       "}_{{j} + 2\\, {k} + 1} + {f}_{{j} + 2\\, {k} + 2} + {f}_{{j} + 2\\, {k}} + 10⋅{f}_{{j}\\, {k} +\n",
       "───────────────────────────────────────────────────────────────────────────────────────────\n",
       "                      24                                                                   \n",
       "                                                                                           \n",
       "\n",
       " 1} + {f}_{{j}\\, {k} + 2} + {f}_{{j}\\, {k}}   -20⋅{u}_{{j} + 1\\, {k} + 1} + 4⋅{u}_{{j} + 1\\\n",
       "─────────────────────────────────────────── + ─────────────────────────────────────────────\n",
       "                                                                                           \n",
       "                                                                                           \n",
       "\n",
       ", {k} + 2} + 4⋅{u}_{{j} + 1\\, {k}} + 4⋅{u}_{{j} + 2\\, {k} + 1} + {u}_{{j} + 2\\, {k} + 2} + \n",
       "───────────────────────────────────────────────────────────────────────────────────────────\n",
       "                                                                 2                         \n",
       "                                                                h                          \n",
       "\n",
       "{u}_{{j} + 2\\, {k}} + 4⋅{u}_{{j}\\, {k} + 1} + {u}_{{j}\\, {k} + 2} + {u}_{{j}\\, {k}}\n",
       "───────────────────────────────────────────────────────────────────────────────────\n",
       "                                                                                   \n",
       "                                                                                   "
      ]
     },
     "metadata": {},
     "output_type": "display_data"
    }
   ],
   "source": [
    "for w in laplace[-2].GB():\n",
    "    p = sum(Symbol(m.T_latex())*c for m, c in w.poly).expand()/24\n",
    "    display(ratsimp(p.coeff(h, 2)).factor() +\n",
    "            ratsimp(p.coeff(h, 0)/h**2))"
   ]
  },
  {
   "cell_type": "code",
   "execution_count": 26,
   "id": "d749a262",
   "metadata": {},
   "outputs": [
    {
     "data": {
      "image/png": "[encoded data removed]",
      "image/svg+xml": [
       "<?xml version=\"1.0\" encoding=\"utf-8\"?>\n",
       "<svg xmlns=\"http://www.w3.org/2000/svg\" fill=\"none\" version=\"1.1\" viewBox=\"-4.51178 -73.6542 77.0551 79.2768\" x=\"-4.51178pt\" y=\"-73.6542pt\" width=\"77.0551pt\" height=\"79.2768pt\" stroke-width=\"0.566929\" stroke-miterlimit=\"10.000000\">\n",
       " <g transform=\"matrix(1.000000,0.000000,0.000000,1.000000,0.000000,-0.000000)\">\n",
       "  <path d=\"M-2.20628 4.62265M0.619925 -4.57326C0.619925 -4.90322 0.619925 -4.91757 0.333001 -4.91757C-0.0113072 -4.53022 -0.728617 -3.99941 -2.20628 -3.99941L-2.20628 -3.58337C-1.87631 -3.58337 -1.159 -3.58337 -0.369962 -3.95638L-0.369962 3.51799C-0.369962 4.03446 -0.413001 4.20661 -1.67547 4.20661L-2.1202 4.20661L-2.1202 4.62265C-1.73285 4.59396 -0.34127 4.59396 0.132155 4.59396C0.605579 4.59396 1.98281 4.59396 2.37016 4.62265L2.37016 4.20661L1.92543 4.20661C0.662964 4.20661 0.619925 4.03446 0.619925 3.51799ZM0.619925 3.51799\" fill=\"black\"/>\n",
       " </g>\n",
       " <g transform=\"matrix(1.000000,0.000000,0.000000,1.000000,0.000000,-34.015748)\">\n",
       "  <path d=\"M-3.12443 4.62265M1.6672 -4.71672C1.6672 -4.9893 1.6672 -5.06103 1.46635 -5.06103C1.35158 -5.06103 1.30854 -5.06103 1.19377 -4.88888L-3.12443 1.81079L-3.12443 2.22683L0.648618 2.22683L0.648618 3.53234C0.648618 4.06315 0.619925 4.20661 -0.427347 4.20661L-0.714271 4.20661L-0.714271 4.62265C-0.384308 4.59396 0.749041 4.59396 1.15073 4.59396C1.55243 4.59396 2.70012 4.59396 3.03009 4.62265L3.03009 4.20661L2.74316 4.20661C1.71024 4.20661 1.6672 4.06315 1.6672 3.53234L1.6672 2.22683L3.11616 2.22683L3.11616 1.81079L1.6672 1.81079ZM1.6672 1.81079M0.720349 -3.59772L0.720349 1.81079L-2.76578 1.81079ZM-2.76578 1.81079\" fill=\"black\"/>\n",
       " </g>\n",
       " <g transform=\"matrix(1.000000,0.000000,0.000000,1.000000,0.000000,-68.031496)\">\n",
       "  <path d=\"M-2.20628 4.62265M0.619925 -4.57326C0.619925 -4.90322 0.619925 -4.91757 0.333001 -4.91757C-0.0113072 -4.53022 -0.728617 -3.99941 -2.20628 -3.99941L-2.20628 -3.58337C-1.87631 -3.58337 -1.159 -3.58337 -0.369962 -3.95638L-0.369962 3.51799C-0.369962 4.03446 -0.413001 4.20661 -1.67547 4.20661L-2.1202 4.20661L-2.1202 4.62265C-1.73285 4.59396 -0.34127 4.59396 0.132155 4.59396C0.605579 4.59396 1.98281 4.59396 2.37016 4.62265L2.37016 4.20661L1.92543 4.20661C0.662964 4.20661 0.619925 4.03446 0.619925 3.51799ZM0.619925 3.51799\" fill=\"black\"/>\n",
       " </g>\n",
       " <g transform=\"matrix(1.000000,0.000000,0.000000,1.000000,34.015748,-0.000000)\">\n",
       "  <path d=\"M-3.12443 4.62265M1.6672 -4.71672C1.6672 -4.9893 1.6672 -5.06103 1.46635 -5.06103C1.35158 -5.06103 1.30854 -5.06103 1.19377 -4.88888L-3.12443 1.81079L-3.12443 2.22683L0.648618 2.22683L0.648618 3.53234C0.648618 4.06315 0.619925 4.20661 -0.427347 4.20661L-0.714271 4.20661L-0.714271 4.62265C-0.384308 4.59396 0.749041 4.59396 1.15073 4.59396C1.55243 4.59396 2.70012 4.59396 3.03009 4.62265L3.03009 4.20661L2.74316 4.20661C1.71024 4.20661 1.6672 4.06315 1.6672 3.53234L1.6672 2.22683L3.11616 2.22683L3.11616 1.81079L1.6672 1.81079ZM1.6672 1.81079M0.720349 -3.59772L0.720349 1.81079L-2.76578 1.81079ZM-2.76578 1.81079\" fill=\"black\"/>\n",
       " </g>\n",
       " <g transform=\"matrix(1.000000,0.000000,0.000000,1.000000,34.015748,-34.015748)\">\n",
       "  <path d=\"M-11.4119 4.0249M-3.14851 0.725275C-2.90463 0.725275 -2.6464 0.725275 -2.6464 0.438351C-2.6464 0.151427 -2.90463 0.151427 -3.14851 0.151427L-10.9098 0.151427C-11.1537 0.151427 -11.4119 0.151427 -11.4119 0.438351C-11.4119 0.725275 -11.1537 0.725275 -10.9098 0.725275ZM-10.9098 0.725275\" fill=\"black\"/>\n",
       "  <path d=\"M-0.74151 4.0249M4.86785 1.61474L4.55224 1.61474C4.5092 1.85862 4.39443 2.64767 4.25097 2.8772C4.15054 3.00632 3.33281 3.00632 2.90242 3.00632L0.248378 3.00632C0.635725 2.67636 1.51084 1.7582 1.88384 1.41389C4.06447 -0.594575 4.86785 -1.34058 4.86785 -2.76085C4.86785 -4.41066 3.56235 -5.51532 1.89819 -5.51532C0.234032 -5.51532 -0.74151 -4.09505 -0.74151 -2.86127C-0.74151 -2.12962 -0.110277 -2.12962 -0.0672386 -2.12962C0.234032 -2.12962 0.607033 -2.34481 0.607033 -2.80389C0.607033 -3.20558 0.334455 -3.47816 -0.0672386 -3.47816C-0.196354 -3.47816 -0.225047 -3.47816 -0.268085 -3.46381C0.0044924 -4.43936 0.779187 -5.09928 1.71169 -5.09928C2.93112 -5.09928 3.67712 -4.0807 3.67712 -2.76085C3.67712 -1.54142 2.97415 -0.479806 2.15642 0.438351L-0.74151 3.68059L-0.74151 4.0249L4.49485 4.0249ZM4.49485 4.0249M6.15901 4.0249M11.9979 -0.565883C11.9979 -1.75662 11.9262 -2.91866 11.4097 -4.00897C10.8215 -5.1997 9.7886 -5.51532 9.08563 -5.51532C8.25355 -5.51532 7.23498 -5.09928 6.70417 -3.90855C6.30247 -3.00474 6.15901 -2.11527 6.15901 -0.565883C6.15901 0.825698 6.25943 1.87297 6.7759 2.89155C7.3354 3.98186 8.32529 4.32617 9.07129 4.32617C10.3194 4.32617 11.0367 3.58017 11.4528 2.74809C11.9692 1.67212 11.9979 0.266197 11.9979 -0.565883ZM11.9979 -0.565883M9.07129 4.03925C8.61221 4.03925 7.67971 3.78101 7.40713 2.21728C7.24932 1.35651 7.24932 0.266197 7.24932 -0.738037C7.24932 -1.91443 7.24932 -2.97604 7.47886 -3.82247C7.72275 -4.78366 8.4544 -5.2284 9.07129 -5.2284C9.61644 -5.2284 10.4485 -4.89843 10.7211 -3.66466C10.9076 -2.84693 10.9076 -1.71358 10.9076 -0.738037C10.9076 0.223158 10.9076 1.31347 10.7498 2.18859C10.4772 3.76667 9.5734 4.03925 9.07129 4.03925ZM9.07129 4.03925\" fill=\"black\"/>\n",
       " </g>\n",
       " <g transform=\"matrix(1.000000,0.000000,0.000000,1.000000,34.015748,-68.031496)\">\n",
       "  <path d=\"M-3.12443 4.62265M1.6672 -4.71672C1.6672 -4.9893 1.6672 -5.06103 1.46635 -5.06103C1.35158 -5.06103 1.30854 -5.06103 1.19377 -4.88888L-3.12443 1.81079L-3.12443 2.22683L0.648618 2.22683L0.648618 3.53234C0.648618 4.06315 0.619925 4.20661 -0.427347 4.20661L-0.714271 4.20661L-0.714271 4.62265C-0.384308 4.59396 0.749041 4.59396 1.15073 4.59396C1.55243 4.59396 2.70012 4.59396 3.03009 4.62265L3.03009 4.20661L2.74316 4.20661C1.71024 4.20661 1.6672 4.06315 1.6672 3.53234L1.6672 2.22683L3.11616 2.22683L3.11616 1.81079L1.6672 1.81079ZM1.6672 1.81079M0.720349 -3.59772L0.720349 1.81079L-2.76578 1.81079ZM-2.76578 1.81079\" fill=\"black\"/>\n",
       " </g>\n",
       " <g transform=\"matrix(1.000000,0.000000,0.000000,1.000000,68.031496,-0.000000)\">\n",
       "  <path d=\"M-2.20628 4.62265M0.619925 -4.57326C0.619925 -4.90322 0.619925 -4.91757 0.333001 -4.91757C-0.0113072 -4.53022 -0.728617 -3.99941 -2.20628 -3.99941L-2.20628 -3.58337C-1.87631 -3.58337 -1.159 -3.58337 -0.369962 -3.95638L-0.369962 3.51799C-0.369962 4.03446 -0.413001 4.20661 -1.67547 4.20661L-2.1202 4.20661L-2.1202 4.62265C-1.73285 4.59396 -0.34127 4.59396 0.132155 4.59396C0.605579 4.59396 1.98281 4.59396 2.37016 4.62265L2.37016 4.20661L1.92543 4.20661C0.662964 4.20661 0.619925 4.03446 0.619925 3.51799ZM0.619925 3.51799\" fill=\"black\"/>\n",
       " </g>\n",
       " <g transform=\"matrix(1.000000,0.000000,0.000000,1.000000,68.031496,-34.015748)\">\n",
       "  <path d=\"M-3.12443 4.62265M1.6672 -4.71672C1.6672 -4.9893 1.6672 -5.06103 1.46635 -5.06103C1.35158 -5.06103 1.30854 -5.06103 1.19377 -4.88888L-3.12443 1.81079L-3.12443 2.22683L0.648618 2.22683L0.648618 3.53234C0.648618 4.06315 0.619925 4.20661 -0.427347 4.20661L-0.714271 4.20661L-0.714271 4.62265C-0.384308 4.59396 0.749041 4.59396 1.15073 4.59396C1.55243 4.59396 2.70012 4.59396 3.03009 4.62265L3.03009 4.20661L2.74316 4.20661C1.71024 4.20661 1.6672 4.06315 1.6672 3.53234L1.6672 2.22683L3.11616 2.22683L3.11616 1.81079L1.6672 1.81079ZM1.6672 1.81079M0.720349 -3.59772L0.720349 1.81079L-2.76578 1.81079ZM-2.76578 1.81079\" fill=\"black\"/>\n",
       " </g>\n",
       " <g transform=\"matrix(1.000000,0.000000,0.000000,1.000000,68.031496,-68.031496)\">\n",
       "  <path d=\"M-2.20628 4.62265M0.619925 -4.57326C0.619925 -4.90322 0.619925 -4.91757 0.333001 -4.91757C-0.0113072 -4.53022 -0.728617 -3.99941 -2.20628 -3.99941L-2.20628 -3.58337C-1.87631 -3.58337 -1.159 -3.58337 -0.369962 -3.95638L-0.369962 3.51799C-0.369962 4.03446 -0.413001 4.20661 -1.67547 4.20661L-2.1202 4.20661L-2.1202 4.62265C-1.73285 4.59396 -0.34127 4.59396 0.132155 4.59396C0.605579 4.59396 1.98281 4.59396 2.37016 4.62265L2.37016 4.20661L1.92543 4.20661C0.662964 4.20661 0.619925 4.03446 0.619925 3.51799ZM0.619925 3.51799\" fill=\"black\"/>\n",
       " </g>\n",
       "</svg>\n"
      ],
      "text/plain": [
       "<pyx.canvas.canvas at 0x7f0551d1a410>"
      ]
     },
     "metadata": {},
     "output_type": "display_data"
    }
   ],
   "source": [
    "for w in laplace[-2].GB():\n",
    "    frm, l = [pyx.text.halign.boxcenter, pyx.text.valign.middle], 1.2\n",
    "    pyx.unit.set(wscale=1)\n",
    "    canvas = pyx.canvas.canvas()\n",
    "    res = dict(((m[0], m[1]), c/24) for m, c in w.poly if m.position() == 2)\n",
    "    X, Y = max(x for x, y in res), max(x for x, y in res)\n",
    "    for x in range(X+1):\n",
    "        for y in range(Y+1):\n",
    "            if (x, y) in res:\n",
    "                canvas.text(x*l, y*l, fr\"\\Large${res[x, y]}$\", frm)\n",
    "            else:\n",
    "                canvas.fill(pyx.path.circle(x, y, l/12), [pyx.color.cmyk.RoyalPurple]) \n",
    "    display(canvas)"
   ]
  },
  {
   "cell_type": "code",
   "execution_count": 27,
   "id": "68e66ca4",
   "metadata": {},
   "outputs": [
    {
     "data": {
      "image/png": "[encoded data removed]",
      "image/svg+xml": [
       "<?xml version=\"1.0\" encoding=\"utf-8\"?>\n",
       "<svg xmlns=\"http://www.w3.org/2000/svg\" fill=\"none\" version=\"1.1\" viewBox=\"-17.3552 -92.017 119.75 98.9945\" x=\"-17.3552pt\" y=\"-92.017pt\" width=\"119.75pt\" height=\"98.9945pt\" stroke-width=\"0.566929\" stroke-miterlimit=\"10.000000\">\n",
       " <g transform=\"matrix(1.000000,0.000000,0.000000,1.000000,0.000000,-0.000000)\">\n",
       "  <path d=\"M-15.3629 2.98879M-8.47676 0.239103C-8.27352 0.239103 -8.05833 0.239103 -8.05833 -4.44089e-16C-8.05833 -0.239103 -8.27352 -0.239103 -8.47676 -0.239103L-14.9445 -0.239103C-15.1477 -0.239103 -15.3629 -0.239103 -15.3629 -4.44089e-16C-15.3629 0.239103 -15.1477 0.239103 -14.9445 0.239103ZM-14.9445 0.239103\" fill=\"black\"/>\n",
       "  <path d=\"M-5.96881 2.98879M-3.61364 -4.67447C-3.61364 -4.94944 -3.61364 -4.96139 -3.85274 -4.96139C-4.13967 -4.63861 -4.73743 -4.19626 -5.96881 -4.19626L-5.96881 -3.84956C-5.69384 -3.84956 -5.09608 -3.84956 -4.43855 -4.1604L-4.43855 2.06824C-4.43855 2.49863 -4.47441 2.64209 -5.52647 2.64209L-5.89708 2.64209L-5.89708 2.98879C-5.57429 2.96488 -4.41464 2.96488 -4.02012 2.96488C-3.62559 2.96488 -2.4779 2.96488 -2.15511 2.98879L-2.15511 2.64209L-2.52572 2.64209C-3.57777 2.64209 -3.61364 2.49863 -3.61364 2.06824ZM-3.61364 2.06824\" fill=\"black\"/>\n",
       "  <path d=\"M-0.558159 2.98879M3.92503 -5.53524C3.92503 -5.5472 3.99676 -5.72653 3.99676 -5.75044C3.99676 -5.8939 3.87721 -5.97758 3.78157 -5.97758C3.72179 -5.97758 3.61419 -5.97758 3.51855 -5.71457L-0.486428 5.53524C-0.486428 5.5472 -0.558159 5.72653 -0.558159 5.75044C-0.558159 5.8939 -0.438607 5.97758 -0.342966 5.97758C-0.271235 5.97758 -0.163638 5.96563 -0.0799521 5.71457ZM-0.0799521 5.71457\" fill=\"black\"/>\n",
       "  <path d=\"M5.23506 2.98879M9.90953 0.980324L9.64651 0.980324C9.61065 1.18356 9.51501 1.8411 9.39545 2.03238C9.31177 2.13998 8.63032 2.13998 8.27167 2.13998L6.05996 2.13998C6.38275 1.86501 7.11202 1.09988 7.42285 0.812951C9.24004 -0.860772 9.90953 -1.48244 9.90953 -2.666C9.90953 -4.04085 8.82161 -4.96139 7.43481 -4.96139C6.04801 -4.96139 5.23506 -3.77783 5.23506 -2.74969C5.23506 -2.13998 5.76108 -2.13998 5.79695 -2.13998C6.04801 -2.13998 6.35884 -2.3193 6.35884 -2.70187C6.35884 -3.03661 6.13169 -3.26376 5.79695 -3.26376C5.68935 -3.26376 5.66544 -3.26376 5.62958 -3.25181C5.85672 -4.06476 6.5023 -4.61469 7.27939 -4.61469C8.29558 -4.61469 8.91725 -3.76588 8.91725 -2.666C8.91725 -1.64981 8.33144 -0.765131 7.65 -4.44089e-16L5.23506 2.70187L5.23506 2.98879L9.59869 2.98879ZM9.59869 2.98879M10.8181 2.98879M14.8111 -4.79402C14.8111 -5.02117 14.8111 -5.08095 14.6438 -5.08095C14.5481 -5.08095 14.5123 -5.08095 14.4166 -4.93748L10.8181 0.645579L10.8181 0.992279L13.9623 0.992279L13.9623 2.0802C13.9623 2.52254 13.9384 2.64209 13.0657 2.64209L12.8266 2.64209L12.8266 2.98879C13.1016 2.96488 14.046 2.96488 14.3808 2.96488C14.7155 2.96488 15.6719 2.96488 15.9469 2.98879L15.9469 2.64209L15.7078 2.64209C14.847 2.64209 14.8111 2.52254 14.8111 2.0802L14.8111 0.992279L16.0186 0.992279L16.0186 0.645579L14.8111 0.645579ZM14.8111 0.645579M14.0221 -3.86152L14.0221 0.645579L11.117 0.645579ZM11.117 0.645579\" fill=\"black\"/>\n",
       " </g>\n",
       " <g transform=\"matrix(1.000000,0.000000,0.000000,1.000000,0.000000,-42.519685)\">\n",
       "  <path d=\"M-15.3629 2.98879M-8.47676 0.239103C-8.27352 0.239103 -8.05833 0.239103 -8.05833 -4.44089e-16C-8.05833 -0.239103 -8.27352 -0.239103 -8.47676 -0.239103L-14.9445 -0.239103C-15.1477 -0.239103 -15.3629 -0.239103 -15.3629 -4.44089e-16C-15.3629 0.239103 -15.1477 0.239103 -14.9445 0.239103ZM-14.9445 0.239103\" fill=\"black\"/>\n",
       "  <path d=\"M-6.47092 2.98879M-5.52647 -3.86152C-5.01239 -3.69415 -4.59396 -3.68219 -4.46246 -3.68219C-3.11152 -3.68219 -2.25075 -4.67447 -2.25075 -4.84184C-2.25075 -4.88966 -2.27466 -4.94944 -2.34639 -4.94944C-2.3703 -4.94944 -2.39421 -4.94944 -2.50181 -4.90162C-3.1713 -4.61469 -3.74515 -4.57883 -4.05598 -4.57883C-4.84502 -4.57883 -5.40691 -4.81793 -5.63406 -4.91357C-5.71775 -4.94944 -5.74166 -4.94944 -5.75361 -4.94944C-5.84926 -4.94944 -5.84926 -4.87771 -5.84926 -4.68643L-5.84926 -1.13574C-5.84926 -0.920548 -5.84926 -0.848817 -5.70579 -0.848817C-5.64602 -0.848817 -5.63406 -0.860772 -5.51451 -1.00423C-5.17977 -1.4944 -4.61787 -1.78132 -4.02012 -1.78132C-3.38649 -1.78132 -3.07566 -1.19552 -2.98002 -0.992279C-2.77678 -0.526027 -2.76482 0.0597758 -2.76482 0.514072C-2.76482 0.968369 -2.76482 1.64981 -3.09957 2.1878C-3.36258 2.61818 -3.82883 2.91706 -4.35486 2.91706C-5.1439 2.91706 -5.92099 2.37908 -6.13618 1.50635C-6.0764 1.53026 -6.00467 1.54222 -5.9449 1.54222C-5.74166 1.54222 -5.41887 1.42267 -5.41887 1.01619C-5.41887 0.681445 -5.64602 0.490162 -5.9449 0.490162C-6.16009 0.490162 -6.47092 0.597758 -6.47092 1.06401C-6.47092 2.0802 -5.65797 3.23985 -4.33095 3.23985C-2.98002 3.23985 -1.79645 2.10411 -1.79645 0.585803C-1.79645 -0.836862 -2.75287 -2.02042 -4.00816 -2.02042C-4.6896 -2.02042 -5.21563 -1.72154 -5.52647 -1.3868ZM-5.52647 -1.3868\" fill=\"black\"/>\n",
       "  <path d=\"M-0.558159 2.98879M3.92503 -5.53524C3.92503 -5.5472 3.99676 -5.72653 3.99676 -5.75044C3.99676 -5.8939 3.87721 -5.97758 3.78157 -5.97758C3.72179 -5.97758 3.61419 -5.97758 3.51855 -5.71457L-0.486428 5.53524C-0.486428 5.5472 -0.558159 5.72653 -0.558159 5.75044C-0.558159 5.8939 -0.438607 5.97758 -0.342966 5.97758C-0.271235 5.97758 -0.163638 5.96563 -0.0799521 5.71457ZM-0.0799521 5.71457\" fill=\"black\"/>\n",
       "  <path d=\"M5.73717 2.98879M8.09234 -4.67447C8.09234 -4.94944 8.09234 -4.96139 7.85324 -4.96139C7.56631 -4.63861 6.96855 -4.19626 5.73717 -4.19626L5.73717 -3.84956C6.01214 -3.84956 6.6099 -3.84956 7.26743 -4.1604L7.26743 2.06824C7.26743 2.49863 7.23157 2.64209 6.17951 2.64209L5.8089 2.64209L5.8089 2.98879C6.13169 2.96488 7.29134 2.96488 7.68587 2.96488C8.08039 2.96488 9.22808 2.96488 9.55087 2.98879L9.55087 2.64209L9.18026 2.64209C8.12821 2.64209 8.09234 2.49863 8.09234 2.06824ZM8.09234 2.06824M11.0811 2.98879M15.7556 0.980324L15.4926 0.980324C15.4567 1.18356 15.3611 1.8411 15.2415 2.03238C15.1578 2.13998 14.4764 2.13998 14.1177 2.13998L11.906 2.13998C12.2288 1.86501 12.9581 1.09988 13.2689 0.812951C15.0861 -0.860772 15.7556 -1.48244 15.7556 -2.666C15.7556 -4.04085 14.6677 -4.96139 13.2809 -4.96139C11.8941 -4.96139 11.0811 -3.77783 11.0811 -2.74969C11.0811 -2.13998 11.6072 -2.13998 11.643 -2.13998C11.8941 -2.13998 12.2049 -2.3193 12.2049 -2.70187C12.2049 -3.03661 11.9778 -3.26376 11.643 -3.26376C11.5354 -3.26376 11.5115 -3.26376 11.4757 -3.25181C11.7028 -4.06476 12.3484 -4.61469 13.1255 -4.61469C14.1417 -4.61469 14.7633 -3.76588 14.7633 -2.666C14.7633 -1.64981 14.1775 -0.765131 13.4961 -4.44089e-16L11.0811 2.70187L11.0811 2.98879L15.4448 2.98879ZM15.4448 2.98879\" fill=\"black\"/>\n",
       " </g>\n",
       " <g transform=\"matrix(1.000000,0.000000,0.000000,1.000000,0.000000,-85.039370)\">\n",
       "  <path d=\"M-15.3629 2.98879M-8.47676 0.239103C-8.27352 0.239103 -8.05833 0.239103 -8.05833 -4.44089e-16C-8.05833 -0.239103 -8.27352 -0.239103 -8.47676 -0.239103L-14.9445 -0.239103C-15.1477 -0.239103 -15.3629 -0.239103 -15.3629 -4.44089e-16C-15.3629 0.239103 -15.1477 0.239103 -14.9445 0.239103ZM-14.9445 0.239103\" fill=\"black\"/>\n",
       "  <path d=\"M-5.96881 2.98879M-3.61364 -4.67447C-3.61364 -4.94944 -3.61364 -4.96139 -3.85274 -4.96139C-4.13967 -4.63861 -4.73743 -4.19626 -5.96881 -4.19626L-5.96881 -3.84956C-5.69384 -3.84956 -5.09608 -3.84956 -4.43855 -4.1604L-4.43855 2.06824C-4.43855 2.49863 -4.47441 2.64209 -5.52647 2.64209L-5.89708 2.64209L-5.89708 2.98879C-5.57429 2.96488 -4.41464 2.96488 -4.02012 2.96488C-3.62559 2.96488 -2.4779 2.96488 -2.15511 2.98879L-2.15511 2.64209L-2.52572 2.64209C-3.57777 2.64209 -3.61364 2.49863 -3.61364 2.06824ZM-3.61364 2.06824\" fill=\"black\"/>\n",
       "  <path d=\"M-0.558159 2.98879M3.92503 -5.53524C3.92503 -5.5472 3.99676 -5.72653 3.99676 -5.75044C3.99676 -5.8939 3.87721 -5.97758 3.78157 -5.97758C3.72179 -5.97758 3.61419 -5.97758 3.51855 -5.71457L-0.486428 5.53524C-0.486428 5.5472 -0.558159 5.72653 -0.558159 5.75044C-0.558159 5.8939 -0.438607 5.97758 -0.342966 5.97758C-0.271235 5.97758 -0.163638 5.96563 -0.0799521 5.71457ZM-0.0799521 5.71457\" fill=\"black\"/>\n",
       "  <path d=\"M5.23506 2.98879M9.90953 0.980324L9.64651 0.980324C9.61065 1.18356 9.51501 1.8411 9.39545 2.03238C9.31177 2.13998 8.63032 2.13998 8.27167 2.13998L6.05996 2.13998C6.38275 1.86501 7.11202 1.09988 7.42285 0.812951C9.24004 -0.860772 9.90953 -1.48244 9.90953 -2.666C9.90953 -4.04085 8.82161 -4.96139 7.43481 -4.96139C6.04801 -4.96139 5.23506 -3.77783 5.23506 -2.74969C5.23506 -2.13998 5.76108 -2.13998 5.79695 -2.13998C6.04801 -2.13998 6.35884 -2.3193 6.35884 -2.70187C6.35884 -3.03661 6.13169 -3.26376 5.79695 -3.26376C5.68935 -3.26376 5.66544 -3.26376 5.62958 -3.25181C5.85672 -4.06476 6.5023 -4.61469 7.27939 -4.61469C8.29558 -4.61469 8.91725 -3.76588 8.91725 -2.666C8.91725 -1.64981 8.33144 -0.765131 7.65 -4.44089e-16L5.23506 2.70187L5.23506 2.98879L9.59869 2.98879ZM9.59869 2.98879M10.8181 2.98879M14.8111 -4.79402C14.8111 -5.02117 14.8111 -5.08095 14.6438 -5.08095C14.5481 -5.08095 14.5123 -5.08095 14.4166 -4.93748L10.8181 0.645579L10.8181 0.992279L13.9623 0.992279L13.9623 2.0802C13.9623 2.52254 13.9384 2.64209 13.0657 2.64209L12.8266 2.64209L12.8266 2.98879C13.1016 2.96488 14.046 2.96488 14.3808 2.96488C14.7155 2.96488 15.6719 2.96488 15.9469 2.98879L15.9469 2.64209L15.7078 2.64209C14.847 2.64209 14.8111 2.52254 14.8111 2.0802L14.8111 0.992279L16.0186 0.992279L16.0186 0.645579L14.8111 0.645579ZM14.8111 0.645579M14.0221 -3.86152L14.0221 0.645579L11.117 0.645579ZM11.117 0.645579\" fill=\"black\"/>\n",
       " </g>\n",
       " <g transform=\"matrix(1.000000,0.000000,0.000000,1.000000,42.519685,-0.000000)\">\n",
       "  <path d=\"M-15.3629 2.98879M-8.47676 0.239103C-8.27352 0.239103 -8.05833 0.239103 -8.05833 -4.44089e-16C-8.05833 -0.239103 -8.27352 -0.239103 -8.47676 -0.239103L-14.9445 -0.239103C-15.1477 -0.239103 -15.3629 -0.239103 -15.3629 -4.44089e-16C-15.3629 0.239103 -15.1477 0.239103 -14.9445 0.239103ZM-14.9445 0.239103\" fill=\"black\"/>\n",
       "  <path d=\"M-6.47092 2.98879M-5.52647 -3.86152C-5.01239 -3.69415 -4.59396 -3.68219 -4.46246 -3.68219C-3.11152 -3.68219 -2.25075 -4.67447 -2.25075 -4.84184C-2.25075 -4.88966 -2.27466 -4.94944 -2.34639 -4.94944C-2.3703 -4.94944 -2.39421 -4.94944 -2.50181 -4.90162C-3.1713 -4.61469 -3.74515 -4.57883 -4.05598 -4.57883C-4.84502 -4.57883 -5.40691 -4.81793 -5.63406 -4.91357C-5.71775 -4.94944 -5.74166 -4.94944 -5.75361 -4.94944C-5.84926 -4.94944 -5.84926 -4.87771 -5.84926 -4.68643L-5.84926 -1.13574C-5.84926 -0.920548 -5.84926 -0.848817 -5.70579 -0.848817C-5.64602 -0.848817 -5.63406 -0.860772 -5.51451 -1.00423C-5.17977 -1.4944 -4.61787 -1.78132 -4.02012 -1.78132C-3.38649 -1.78132 -3.07566 -1.19552 -2.98002 -0.992279C-2.77678 -0.526027 -2.76482 0.0597758 -2.76482 0.514072C-2.76482 0.968369 -2.76482 1.64981 -3.09957 2.1878C-3.36258 2.61818 -3.82883 2.91706 -4.35486 2.91706C-5.1439 2.91706 -5.92099 2.37908 -6.13618 1.50635C-6.0764 1.53026 -6.00467 1.54222 -5.9449 1.54222C-5.74166 1.54222 -5.41887 1.42267 -5.41887 1.01619C-5.41887 0.681445 -5.64602 0.490162 -5.9449 0.490162C-6.16009 0.490162 -6.47092 0.597758 -6.47092 1.06401C-6.47092 2.0802 -5.65797 3.23985 -4.33095 3.23985C-2.98002 3.23985 -1.79645 2.10411 -1.79645 0.585803C-1.79645 -0.836862 -2.75287 -2.02042 -4.00816 -2.02042C-4.6896 -2.02042 -5.21563 -1.72154 -5.52647 -1.3868ZM-5.52647 -1.3868\" fill=\"black\"/>\n",
       "  <path d=\"M-0.558159 2.98879M3.92503 -5.53524C3.92503 -5.5472 3.99676 -5.72653 3.99676 -5.75044C3.99676 -5.8939 3.87721 -5.97758 3.78157 -5.97758C3.72179 -5.97758 3.61419 -5.97758 3.51855 -5.71457L-0.486428 5.53524C-0.486428 5.5472 -0.558159 5.72653 -0.558159 5.75044C-0.558159 5.8939 -0.438607 5.97758 -0.342966 5.97758C-0.271235 5.97758 -0.163638 5.96563 -0.0799521 5.71457ZM-0.0799521 5.71457\" fill=\"black\"/>\n",
       "  <path d=\"M5.73717 2.98879M8.09234 -4.67447C8.09234 -4.94944 8.09234 -4.96139 7.85324 -4.96139C7.56631 -4.63861 6.96855 -4.19626 5.73717 -4.19626L5.73717 -3.84956C6.01214 -3.84956 6.6099 -3.84956 7.26743 -4.1604L7.26743 2.06824C7.26743 2.49863 7.23157 2.64209 6.17951 2.64209L5.8089 2.64209L5.8089 2.98879C6.13169 2.96488 7.29134 2.96488 7.68587 2.96488C8.08039 2.96488 9.22808 2.96488 9.55087 2.98879L9.55087 2.64209L9.18026 2.64209C8.12821 2.64209 8.09234 2.49863 8.09234 2.06824ZM8.09234 2.06824M11.0811 2.98879M15.7556 0.980324L15.4926 0.980324C15.4567 1.18356 15.3611 1.8411 15.2415 2.03238C15.1578 2.13998 14.4764 2.13998 14.1177 2.13998L11.906 2.13998C12.2288 1.86501 12.9581 1.09988 13.2689 0.812951C15.0861 -0.860772 15.7556 -1.48244 15.7556 -2.666C15.7556 -4.04085 14.6677 -4.96139 13.2809 -4.96139C11.8941 -4.96139 11.0811 -3.77783 11.0811 -2.74969C11.0811 -2.13998 11.6072 -2.13998 11.643 -2.13998C11.8941 -2.13998 12.2049 -2.3193 12.2049 -2.70187C12.2049 -3.03661 11.9778 -3.26376 11.643 -3.26376C11.5354 -3.26376 11.5115 -3.26376 11.4757 -3.25181C11.7028 -4.06476 12.3484 -4.61469 13.1255 -4.61469C14.1417 -4.61469 14.7633 -3.76588 14.7633 -2.666C14.7633 -1.64981 14.1775 -0.765131 13.4961 -4.44089e-16L11.0811 2.70187L11.0811 2.98879L15.4448 2.98879ZM15.4448 2.98879\" fill=\"black\"/>\n",
       " </g>\n",
       " <g transform=\"matrix(1.000000,0.000000,0.000000,1.000000,42.519685,-42.519685)\">\n",
       "  <path d=\"M-15.3629 2.98879M-8.47676 0.239103C-8.27352 0.239103 -8.05833 0.239103 -8.05833 -4.44089e-16C-8.05833 -0.239103 -8.27352 -0.239103 -8.47676 -0.239103L-14.9445 -0.239103C-15.1477 -0.239103 -15.3629 -0.239103 -15.3629 -4.44089e-16C-15.3629 0.239103 -15.1477 0.239103 -14.9445 0.239103ZM-14.9445 0.239103\" fill=\"black\"/>\n",
       "  <path d=\"M-6.47092 2.98879M-1.79645 0.980324L-2.05947 0.980324C-2.09533 1.18356 -2.19097 1.8411 -2.31053 2.03238C-2.39421 2.13998 -3.07566 2.13998 -3.43431 2.13998L-5.64602 2.13998C-5.32323 1.86501 -4.59396 1.09988 -4.28313 0.812951C-2.46594 -0.860772 -1.79645 -1.48244 -1.79645 -2.666C-1.79645 -4.04085 -2.88437 -4.96139 -4.27117 -4.96139C-5.65797 -4.96139 -6.47092 -3.77783 -6.47092 -2.74969C-6.47092 -2.13998 -5.9449 -2.13998 -5.90903 -2.13998C-5.65797 -2.13998 -5.34714 -2.3193 -5.34714 -2.70187C-5.34714 -3.03661 -5.57429 -3.26376 -5.90903 -3.26376C-6.01663 -3.26376 -6.04054 -3.26376 -6.0764 -3.25181C-5.84926 -4.06476 -5.20368 -4.61469 -4.42659 -4.61469C-3.4104 -4.61469 -2.78873 -3.76588 -2.78873 -2.666C-2.78873 -1.64981 -3.37454 -0.765131 -4.05598 -4.44089e-16L-6.47092 2.70187L-6.47092 2.98879L-2.10729 2.98879ZM-2.10729 2.98879M-0.624848 2.98879M0.319611 -3.86152C0.833683 -3.69415 1.25211 -3.68219 1.38362 -3.68219C2.73455 -3.68219 3.59533 -4.67447 3.59533 -4.84184C3.59533 -4.88966 3.57142 -4.94944 3.49969 -4.94944C3.47577 -4.94944 3.45186 -4.94944 3.34427 -4.90162C2.67478 -4.61469 2.10093 -4.57883 1.7901 -4.57883C1.00106 -4.57883 0.439162 -4.81793 0.212014 -4.91357C0.128328 -4.94944 0.104418 -4.94944 0.0924623 -4.94944C-0.003179 -4.94944 -0.003179 -4.87771 -0.003179 -4.68643L-0.003179 -1.13574C-0.003179 -0.920548 -0.003179 -0.848817 0.140283 -0.848817C0.200059 -0.848817 0.212014 -0.860772 0.331566 -1.00423C0.66631 -1.4944 1.2282 -1.78132 1.82596 -1.78132C2.45959 -1.78132 2.77042 -1.19552 2.86606 -0.992279C3.0693 -0.526027 3.08125 0.0597758 3.08125 0.514072C3.08125 0.968369 3.08125 1.64981 2.74651 2.1878C2.4835 2.61818 2.01724 2.91706 1.49122 2.91706C0.702176 2.91706 -0.07491 2.37908 -0.290103 1.50635C-0.230327 1.53026 -0.158596 1.54222 -0.0988203 1.54222C0.104418 1.54222 0.427207 1.42267 0.427207 1.01619C0.427207 0.681445 0.200059 0.490162 -0.0988203 0.490162C-0.314013 0.490162 -0.624848 0.597758 -0.624848 1.06401C-0.624848 2.0802 0.188104 3.23985 1.51513 3.23985C2.86606 3.23985 4.04962 2.10411 4.04962 0.585803C4.04962 -0.836862 3.09321 -2.02042 1.83792 -2.02042C1.15647 -2.02042 0.630445 -1.72154 0.319611 -1.3868ZM0.319611 -1.3868\" fill=\"black\"/>\n",
       "  <path d=\"M5.29483 2.98879M9.77802 -5.53524C9.77802 -5.5472 9.84975 -5.72653 9.84975 -5.75044C9.84975 -5.8939 9.7302 -5.97758 9.63456 -5.97758C9.57478 -5.97758 9.46719 -5.97758 9.37154 -5.71457L5.36656 5.53524C5.36656 5.5472 5.29483 5.72653 5.29483 5.75044C5.29483 5.8939 5.41438 5.97758 5.51002 5.97758C5.58176 5.97758 5.68935 5.96563 5.77304 5.71457ZM5.77304 5.71457\" fill=\"black\"/>\n",
       "  <path d=\"M10.9924 2.98879M11.9727 -1.17161C11.9727 -4.19626 13.4432 -4.67447 14.0888 -4.67447C14.5192 -4.67447 14.9496 -4.54296 15.1767 -4.18431C15.0333 -4.18431 14.579 -4.18431 14.579 -3.69415C14.579 -3.43113 14.7583 -3.20399 15.0691 -3.20399C15.368 -3.20399 15.5712 -3.38331 15.5712 -3.73001C15.5712 -4.35168 15.1169 -4.96139 14.0768 -4.96139C12.5705 -4.96139 10.9924 -3.41918 10.9924 -0.789041C10.9924 2.49863 12.427 3.23985 13.4432 3.23985C14.7463 3.23985 15.8582 2.10411 15.8582 0.549938C15.8582 -1.0401 14.7463 -2.10411 13.5508 -2.10411C12.4868 -2.10411 12.0923 -1.18356 11.9727 -0.848817ZM11.9727 -0.848817M13.4432 2.91706C12.69 2.91706 12.3314 2.24757 12.2238 1.99651C12.1162 1.68568 11.9966 1.09988 11.9966 0.263014C11.9966 -0.681445 12.427 -1.86501 13.503 -1.86501C14.1605 -1.86501 14.5072 -1.42267 14.6866 -1.01619C14.8778 -0.573848 14.8778 0.0239103 14.8778 0.537983C14.8778 1.1477 14.8778 1.68568 14.6507 2.13998C14.3518 2.71382 13.9214 2.91706 13.4432 2.91706ZM13.4432 2.91706\" fill=\"black\"/>\n",
       " </g>\n",
       " <g transform=\"matrix(1.000000,0.000000,0.000000,1.000000,42.519685,-85.039370)\">\n",
       "  <path d=\"M-15.3629 2.98879M-8.47676 0.239103C-8.27352 0.239103 -8.05833 0.239103 -8.05833 -4.44089e-16C-8.05833 -0.239103 -8.27352 -0.239103 -8.47676 -0.239103L-14.9445 -0.239103C-15.1477 -0.239103 -15.3629 -0.239103 -15.3629 -4.44089e-16C-15.3629 0.239103 -15.1477 0.239103 -14.9445 0.239103ZM-14.9445 0.239103\" fill=\"black\"/>\n",
       "  <path d=\"M-6.47092 2.98879M-5.52647 -3.86152C-5.01239 -3.69415 -4.59396 -3.68219 -4.46246 -3.68219C-3.11152 -3.68219 -2.25075 -4.67447 -2.25075 -4.84184C-2.25075 -4.88966 -2.27466 -4.94944 -2.34639 -4.94944C-2.3703 -4.94944 -2.39421 -4.94944 -2.50181 -4.90162C-3.1713 -4.61469 -3.74515 -4.57883 -4.05598 -4.57883C-4.84502 -4.57883 -5.40691 -4.81793 -5.63406 -4.91357C-5.71775 -4.94944 -5.74166 -4.94944 -5.75361 -4.94944C-5.84926 -4.94944 -5.84926 -4.87771 -5.84926 -4.68643L-5.84926 -1.13574C-5.84926 -0.920548 -5.84926 -0.848817 -5.70579 -0.848817C-5.64602 -0.848817 -5.63406 -0.860772 -5.51451 -1.00423C-5.17977 -1.4944 -4.61787 -1.78132 -4.02012 -1.78132C-3.38649 -1.78132 -3.07566 -1.19552 -2.98002 -0.992279C-2.77678 -0.526027 -2.76482 0.0597758 -2.76482 0.514072C-2.76482 0.968369 -2.76482 1.64981 -3.09957 2.1878C-3.36258 2.61818 -3.82883 2.91706 -4.35486 2.91706C-5.1439 2.91706 -5.92099 2.37908 -6.13618 1.50635C-6.0764 1.53026 -6.00467 1.54222 -5.9449 1.54222C-5.74166 1.54222 -5.41887 1.42267 -5.41887 1.01619C-5.41887 0.681445 -5.64602 0.490162 -5.9449 0.490162C-6.16009 0.490162 -6.47092 0.597758 -6.47092 1.06401C-6.47092 2.0802 -5.65797 3.23985 -4.33095 3.23985C-2.98002 3.23985 -1.79645 2.10411 -1.79645 0.585803C-1.79645 -0.836862 -2.75287 -2.02042 -4.00816 -2.02042C-4.6896 -2.02042 -5.21563 -1.72154 -5.52647 -1.3868ZM-5.52647 -1.3868\" fill=\"black\"/>\n",
       "  <path d=\"M-0.558159 2.98879M3.92503 -5.53524C3.92503 -5.5472 3.99676 -5.72653 3.99676 -5.75044C3.99676 -5.8939 3.87721 -5.97758 3.78157 -5.97758C3.72179 -5.97758 3.61419 -5.97758 3.51855 -5.71457L-0.486428 5.53524C-0.486428 5.5472 -0.558159 5.72653 -0.558159 5.75044C-0.558159 5.8939 -0.438607 5.97758 -0.342966 5.97758C-0.271235 5.97758 -0.163638 5.96563 -0.0799521 5.71457ZM-0.0799521 5.71457\" fill=\"black\"/>\n",
       "  <path d=\"M5.73717 2.98879M8.09234 -4.67447C8.09234 -4.94944 8.09234 -4.96139 7.85324 -4.96139C7.56631 -4.63861 6.96855 -4.19626 5.73717 -4.19626L5.73717 -3.84956C6.01214 -3.84956 6.6099 -3.84956 7.26743 -4.1604L7.26743 2.06824C7.26743 2.49863 7.23157 2.64209 6.17951 2.64209L5.8089 2.64209L5.8089 2.98879C6.13169 2.96488 7.29134 2.96488 7.68587 2.96488C8.08039 2.96488 9.22808 2.96488 9.55087 2.98879L9.55087 2.64209L9.18026 2.64209C8.12821 2.64209 8.09234 2.49863 8.09234 2.06824ZM8.09234 2.06824M11.0811 2.98879M15.7556 0.980324L15.4926 0.980324C15.4567 1.18356 15.3611 1.8411 15.2415 2.03238C15.1578 2.13998 14.4764 2.13998 14.1177 2.13998L11.906 2.13998C12.2288 1.86501 12.9581 1.09988 13.2689 0.812951C15.0861 -0.860772 15.7556 -1.48244 15.7556 -2.666C15.7556 -4.04085 14.6677 -4.96139 13.2809 -4.96139C11.8941 -4.96139 11.0811 -3.77783 11.0811 -2.74969C11.0811 -2.13998 11.6072 -2.13998 11.643 -2.13998C11.8941 -2.13998 12.2049 -2.3193 12.2049 -2.70187C12.2049 -3.03661 11.9778 -3.26376 11.643 -3.26376C11.5354 -3.26376 11.5115 -3.26376 11.4757 -3.25181C11.7028 -4.06476 12.3484 -4.61469 13.1255 -4.61469C14.1417 -4.61469 14.7633 -3.76588 14.7633 -2.666C14.7633 -1.64981 14.1775 -0.765131 13.4961 -4.44089e-16L11.0811 2.70187L11.0811 2.98879L15.4448 2.98879ZM15.4448 2.98879\" fill=\"black\"/>\n",
       " </g>\n",
       " <g transform=\"matrix(1.000000,0.000000,0.000000,1.000000,85.039370,-0.000000)\">\n",
       "  <path d=\"M-15.3629 2.98879M-8.47676 0.239103C-8.27352 0.239103 -8.05833 0.239103 -8.05833 -4.44089e-16C-8.05833 -0.239103 -8.27352 -0.239103 -8.47676 -0.239103L-14.9445 -0.239103C-15.1477 -0.239103 -15.3629 -0.239103 -15.3629 -4.44089e-16C-15.3629 0.239103 -15.1477 0.239103 -14.9445 0.239103ZM-14.9445 0.239103\" fill=\"black\"/>\n",
       "  <path d=\"M-5.96881 2.98879M-3.61364 -4.67447C-3.61364 -4.94944 -3.61364 -4.96139 -3.85274 -4.96139C-4.13967 -4.63861 -4.73743 -4.19626 -5.96881 -4.19626L-5.96881 -3.84956C-5.69384 -3.84956 -5.09608 -3.84956 -4.43855 -4.1604L-4.43855 2.06824C-4.43855 2.49863 -4.47441 2.64209 -5.52647 2.64209L-5.89708 2.64209L-5.89708 2.98879C-5.57429 2.96488 -4.41464 2.96488 -4.02012 2.96488C-3.62559 2.96488 -2.4779 2.96488 -2.15511 2.98879L-2.15511 2.64209L-2.52572 2.64209C-3.57777 2.64209 -3.61364 2.49863 -3.61364 2.06824ZM-3.61364 2.06824\" fill=\"black\"/>\n",
       "  <path d=\"M-0.558159 2.98879M3.92503 -5.53524C3.92503 -5.5472 3.99676 -5.72653 3.99676 -5.75044C3.99676 -5.8939 3.87721 -5.97758 3.78157 -5.97758C3.72179 -5.97758 3.61419 -5.97758 3.51855 -5.71457L-0.486428 5.53524C-0.486428 5.5472 -0.558159 5.72653 -0.558159 5.75044C-0.558159 5.8939 -0.438607 5.97758 -0.342966 5.97758C-0.271235 5.97758 -0.163638 5.96563 -0.0799521 5.71457ZM-0.0799521 5.71457\" fill=\"black\"/>\n",
       "  <path d=\"M5.23506 2.98879M9.90953 0.980324L9.64651 0.980324C9.61065 1.18356 9.51501 1.8411 9.39545 2.03238C9.31177 2.13998 8.63032 2.13998 8.27167 2.13998L6.05996 2.13998C6.38275 1.86501 7.11202 1.09988 7.42285 0.812951C9.24004 -0.860772 9.90953 -1.48244 9.90953 -2.666C9.90953 -4.04085 8.82161 -4.96139 7.43481 -4.96139C6.04801 -4.96139 5.23506 -3.77783 5.23506 -2.74969C5.23506 -2.13998 5.76108 -2.13998 5.79695 -2.13998C6.04801 -2.13998 6.35884 -2.3193 6.35884 -2.70187C6.35884 -3.03661 6.13169 -3.26376 5.79695 -3.26376C5.68935 -3.26376 5.66544 -3.26376 5.62958 -3.25181C5.85672 -4.06476 6.5023 -4.61469 7.27939 -4.61469C8.29558 -4.61469 8.91725 -3.76588 8.91725 -2.666C8.91725 -1.64981 8.33144 -0.765131 7.65 -4.44089e-16L5.23506 2.70187L5.23506 2.98879L9.59869 2.98879ZM9.59869 2.98879M10.8181 2.98879M14.8111 -4.79402C14.8111 -5.02117 14.8111 -5.08095 14.6438 -5.08095C14.5481 -5.08095 14.5123 -5.08095 14.4166 -4.93748L10.8181 0.645579L10.8181 0.992279L13.9623 0.992279L13.9623 2.0802C13.9623 2.52254 13.9384 2.64209 13.0657 2.64209L12.8266 2.64209L12.8266 2.98879C13.1016 2.96488 14.046 2.96488 14.3808 2.96488C14.7155 2.96488 15.6719 2.96488 15.9469 2.98879L15.9469 2.64209L15.7078 2.64209C14.847 2.64209 14.8111 2.52254 14.8111 2.0802L14.8111 0.992279L16.0186 0.992279L16.0186 0.645579L14.8111 0.645579ZM14.8111 0.645579M14.0221 -3.86152L14.0221 0.645579L11.117 0.645579ZM11.117 0.645579\" fill=\"black\"/>\n",
       " </g>\n",
       " <g transform=\"matrix(1.000000,0.000000,0.000000,1.000000,85.039370,-42.519685)\">\n",
       "  <path d=\"M-15.3629 2.98879M-8.47676 0.239103C-8.27352 0.239103 -8.05833 0.239103 -8.05833 -4.44089e-16C-8.05833 -0.239103 -8.27352 -0.239103 -8.47676 -0.239103L-14.9445 -0.239103C-15.1477 -0.239103 -15.3629 -0.239103 -15.3629 -4.44089e-16C-15.3629 0.239103 -15.1477 0.239103 -14.9445 0.239103ZM-14.9445 0.239103\" fill=\"black\"/>\n",
       "  <path d=\"M-6.47092 2.98879M-5.52647 -3.86152C-5.01239 -3.69415 -4.59396 -3.68219 -4.46246 -3.68219C-3.11152 -3.68219 -2.25075 -4.67447 -2.25075 -4.84184C-2.25075 -4.88966 -2.27466 -4.94944 -2.34639 -4.94944C-2.3703 -4.94944 -2.39421 -4.94944 -2.50181 -4.90162C-3.1713 -4.61469 -3.74515 -4.57883 -4.05598 -4.57883C-4.84502 -4.57883 -5.40691 -4.81793 -5.63406 -4.91357C-5.71775 -4.94944 -5.74166 -4.94944 -5.75361 -4.94944C-5.84926 -4.94944 -5.84926 -4.87771 -5.84926 -4.68643L-5.84926 -1.13574C-5.84926 -0.920548 -5.84926 -0.848817 -5.70579 -0.848817C-5.64602 -0.848817 -5.63406 -0.860772 -5.51451 -1.00423C-5.17977 -1.4944 -4.61787 -1.78132 -4.02012 -1.78132C-3.38649 -1.78132 -3.07566 -1.19552 -2.98002 -0.992279C-2.77678 -0.526027 -2.76482 0.0597758 -2.76482 0.514072C-2.76482 0.968369 -2.76482 1.64981 -3.09957 2.1878C-3.36258 2.61818 -3.82883 2.91706 -4.35486 2.91706C-5.1439 2.91706 -5.92099 2.37908 -6.13618 1.50635C-6.0764 1.53026 -6.00467 1.54222 -5.9449 1.54222C-5.74166 1.54222 -5.41887 1.42267 -5.41887 1.01619C-5.41887 0.681445 -5.64602 0.490162 -5.9449 0.490162C-6.16009 0.490162 -6.47092 0.597758 -6.47092 1.06401C-6.47092 2.0802 -5.65797 3.23985 -4.33095 3.23985C-2.98002 3.23985 -1.79645 2.10411 -1.79645 0.585803C-1.79645 -0.836862 -2.75287 -2.02042 -4.00816 -2.02042C-4.6896 -2.02042 -5.21563 -1.72154 -5.52647 -1.3868ZM-5.52647 -1.3868\" fill=\"black\"/>\n",
       "  <path d=\"M-0.558159 2.98879M3.92503 -5.53524C3.92503 -5.5472 3.99676 -5.72653 3.99676 -5.75044C3.99676 -5.8939 3.87721 -5.97758 3.78157 -5.97758C3.72179 -5.97758 3.61419 -5.97758 3.51855 -5.71457L-0.486428 5.53524C-0.486428 5.5472 -0.558159 5.72653 -0.558159 5.75044C-0.558159 5.8939 -0.438607 5.97758 -0.342966 5.97758C-0.271235 5.97758 -0.163638 5.96563 -0.0799521 5.71457ZM-0.0799521 5.71457\" fill=\"black\"/>\n",
       "  <path d=\"M5.73717 2.98879M8.09234 -4.67447C8.09234 -4.94944 8.09234 -4.96139 7.85324 -4.96139C7.56631 -4.63861 6.96855 -4.19626 5.73717 -4.19626L5.73717 -3.84956C6.01214 -3.84956 6.6099 -3.84956 7.26743 -4.1604L7.26743 2.06824C7.26743 2.49863 7.23157 2.64209 6.17951 2.64209L5.8089 2.64209L5.8089 2.98879C6.13169 2.96488 7.29134 2.96488 7.68587 2.96488C8.08039 2.96488 9.22808 2.96488 9.55087 2.98879L9.55087 2.64209L9.18026 2.64209C8.12821 2.64209 8.09234 2.49863 8.09234 2.06824ZM8.09234 2.06824M11.0811 2.98879M15.7556 0.980324L15.4926 0.980324C15.4567 1.18356 15.3611 1.8411 15.2415 2.03238C15.1578 2.13998 14.4764 2.13998 14.1177 2.13998L11.906 2.13998C12.2288 1.86501 12.9581 1.09988 13.2689 0.812951C15.0861 -0.860772 15.7556 -1.48244 15.7556 -2.666C15.7556 -4.04085 14.6677 -4.96139 13.2809 -4.96139C11.8941 -4.96139 11.0811 -3.77783 11.0811 -2.74969C11.0811 -2.13998 11.6072 -2.13998 11.643 -2.13998C11.8941 -2.13998 12.2049 -2.3193 12.2049 -2.70187C12.2049 -3.03661 11.9778 -3.26376 11.643 -3.26376C11.5354 -3.26376 11.5115 -3.26376 11.4757 -3.25181C11.7028 -4.06476 12.3484 -4.61469 13.1255 -4.61469C14.1417 -4.61469 14.7633 -3.76588 14.7633 -2.666C14.7633 -1.64981 14.1775 -0.765131 13.4961 -4.44089e-16L11.0811 2.70187L11.0811 2.98879L15.4448 2.98879ZM15.4448 2.98879\" fill=\"black\"/>\n",
       " </g>\n",
       " <g transform=\"matrix(1.000000,0.000000,0.000000,1.000000,85.039370,-85.039370)\">\n",
       "  <path d=\"M-15.3629 2.98879M-8.47676 0.239103C-8.27352 0.239103 -8.05833 0.239103 -8.05833 -4.44089e-16C-8.05833 -0.239103 -8.27352 -0.239103 -8.47676 -0.239103L-14.9445 -0.239103C-15.1477 -0.239103 -15.3629 -0.239103 -15.3629 -4.44089e-16C-15.3629 0.239103 -15.1477 0.239103 -14.9445 0.239103ZM-14.9445 0.239103\" fill=\"black\"/>\n",
       "  <path d=\"M-5.96881 2.98879M-3.61364 -4.67447C-3.61364 -4.94944 -3.61364 -4.96139 -3.85274 -4.96139C-4.13967 -4.63861 -4.73743 -4.19626 -5.96881 -4.19626L-5.96881 -3.84956C-5.69384 -3.84956 -5.09608 -3.84956 -4.43855 -4.1604L-4.43855 2.06824C-4.43855 2.49863 -4.47441 2.64209 -5.52647 2.64209L-5.89708 2.64209L-5.89708 2.98879C-5.57429 2.96488 -4.41464 2.96488 -4.02012 2.96488C-3.62559 2.96488 -2.4779 2.96488 -2.15511 2.98879L-2.15511 2.64209L-2.52572 2.64209C-3.57777 2.64209 -3.61364 2.49863 -3.61364 2.06824ZM-3.61364 2.06824\" fill=\"black\"/>\n",
       "  <path d=\"M-0.558159 2.98879M3.92503 -5.53524C3.92503 -5.5472 3.99676 -5.72653 3.99676 -5.75044C3.99676 -5.8939 3.87721 -5.97758 3.78157 -5.97758C3.72179 -5.97758 3.61419 -5.97758 3.51855 -5.71457L-0.486428 5.53524C-0.486428 5.5472 -0.558159 5.72653 -0.558159 5.75044C-0.558159 5.8939 -0.438607 5.97758 -0.342966 5.97758C-0.271235 5.97758 -0.163638 5.96563 -0.0799521 5.71457ZM-0.0799521 5.71457\" fill=\"black\"/>\n",
       "  <path d=\"M5.23506 2.98879M9.90953 0.980324L9.64651 0.980324C9.61065 1.18356 9.51501 1.8411 9.39545 2.03238C9.31177 2.13998 8.63032 2.13998 8.27167 2.13998L6.05996 2.13998C6.38275 1.86501 7.11202 1.09988 7.42285 0.812951C9.24004 -0.860772 9.90953 -1.48244 9.90953 -2.666C9.90953 -4.04085 8.82161 -4.96139 7.43481 -4.96139C6.04801 -4.96139 5.23506 -3.77783 5.23506 -2.74969C5.23506 -2.13998 5.76108 -2.13998 5.79695 -2.13998C6.04801 -2.13998 6.35884 -2.3193 6.35884 -2.70187C6.35884 -3.03661 6.13169 -3.26376 5.79695 -3.26376C5.68935 -3.26376 5.66544 -3.26376 5.62958 -3.25181C5.85672 -4.06476 6.5023 -4.61469 7.27939 -4.61469C8.29558 -4.61469 8.91725 -3.76588 8.91725 -2.666C8.91725 -1.64981 8.33144 -0.765131 7.65 -4.44089e-16L5.23506 2.70187L5.23506 2.98879L9.59869 2.98879ZM9.59869 2.98879M10.8181 2.98879M14.8111 -4.79402C14.8111 -5.02117 14.8111 -5.08095 14.6438 -5.08095C14.5481 -5.08095 14.5123 -5.08095 14.4166 -4.93748L10.8181 0.645579L10.8181 0.992279L13.9623 0.992279L13.9623 2.0802C13.9623 2.52254 13.9384 2.64209 13.0657 2.64209L12.8266 2.64209L12.8266 2.98879C13.1016 2.96488 14.046 2.96488 14.3808 2.96488C14.7155 2.96488 15.6719 2.96488 15.9469 2.98879L15.9469 2.64209L15.7078 2.64209C14.847 2.64209 14.8111 2.52254 14.8111 2.0802L14.8111 0.992279L16.0186 0.992279L16.0186 0.645579L14.8111 0.645579ZM14.8111 0.645579M14.0221 -3.86152L14.0221 0.645579L11.117 0.645579ZM11.117 0.645579\" fill=\"black\"/>\n",
       " </g>\n",
       "</svg>\n"
      ],
      "text/plain": [
       "<pyx.canvas.canvas at 0x7f0520d86690>"
      ]
     },
     "metadata": {},
     "output_type": "display_data"
    }
   ],
   "source": [
    "for w in laplace[-2].GB():\n",
    "    frm, l = [pyx.text.halign.boxcenter, pyx.text.valign.middle], 1.5\n",
    "    pyx.unit.set(wscale=1)\n",
    "    canvas = pyx.canvas.canvas()\n",
    "    res = dict(((m[0], m[1]), ratsimp(c.coeff(h, 2)/24)) for m, c in w.poly if m.position() == 3)\n",
    "    X, Y = max(x for x, y in res), max(x for x, y in res)\n",
    "    for x in range(X+1):\n",
    "        for y in range(Y+1):\n",
    "            if (x, y) in res:\n",
    "                canvas.text(x*l, y*l, fr\"\\large${res[x, y]}$\", frm)\n",
    "            else:\n",
    "                canvas.fill(pyx.path.circle(x, y, l/12), [pyx.color.cmyk.RoyalPurple]) \n",
    "    display(canvas)"
   ]
  },
  {
   "cell_type": "code",
   "execution_count": 28,
   "id": "f442e223",
   "metadata": {},
   "outputs": [],
   "source": [
    "var = 'n, j'.split(', ')\n",
    "fun = 'uxx, ux, ut, u, P'.split(', ')\n",
    "Monom.init(var, fun)\n",
    "T = PolySchem.T\n",
    "var, fun = PolySchem.init()\n",
    "n, j = var\n",
    "uxx, ux, ut, u, P = fun"
   ]
  },
  {
   "cell_type": "markdown",
   "id": "8236f45a",
   "metadata": {},
   "source": [
    "$$\n",
    "\\oint _{\\Gamma} (P + u_{xx})\\, dt + u \\, dx=0\\,\n",
    "$$\n",
    "\\begin{equation}\\label{discrete}\n",
    "\\begin{gathered}\n",
    "((P^n_{j+2}+P^{n+1}_{j+2})/2 - (P^n_j+P^{n+1}_j)/2)\\,\\tau + {}\\\\\n",
    "(({u_{xx}}^n_{j+2}+{u_{xx}}^{n+1}_{j+2})/2 - ({u_{xx}}^n_j+{u_{xx}}^{n+1}_j)/2)\\,\\tau + {}\\\\\n",
    "(2u^n_{j+1} - 2u^{n+1}_{j+1})\\,h=0.\n",
    "\\end{gathered}\n",
    "\\end{equation}\n",
    "<img src=\"./stencil2D3t2x.png\" width=\"250\">"
   ]
  },
  {
   "cell_type": "code",
   "execution_count": 29,
   "id": "18e36737",
   "metadata": {},
   "outputs": [
    {
     "name": "stdout",
     "output_type": "stream",
     "text": [
      "prolong ux*j\n",
      "T(ux, j)\n",
      "prolong uxx*j\n",
      "T(uxx, j)\n",
      "prolong uxx*n*j**2\n",
      "T(uxx, n)\n",
      "prolongAll\n",
      "T(u, n, j, 4)\n",
      "prolongAll\n",
      "crit1: 0\n",
      "crit2: 0\n",
      " time: 0.04 sec\n",
      "    count: 4\n",
      "reduction: 8\n",
      "       HP: s^2 + 9s - 1\n"
     ]
    }
   ],
   "source": [
    "KDV = Forest(Janet)\n",
    "res = ginvMin((\\\n",
    "((T(P, j, 2) + T(P, n, j, 2))/2 - (T(P) + T(P, n))/2)*tau +\\\n",
    "((T(uxx, j, 2) + T(uxx, n, j, 2))/2 - (T(uxx) + T(uxx, n))/2)*tau +\\\n",
    "(2*T(u, j) - 2*T(u, n, j))*h,\\\n",
    "(T(ux, j) + T(ux))/2*h - (T(u, j) - T(u)),\\\n",
    "T(uxx, j)*2*h - (T(ux, j, 2) - T(ux)),\\\n",
    "), KDV, level=1)\n",
    "print(f\"crit1: {res[1]}\")\n",
    "print(f\"crit2: {res[2]}\")\n",
    "print(f\" time: {res[0]:.2f} sec\")\n",
    "print(f\"    count: {KDV.count()}\")\n",
    "print(f\"reduction: {KDV.reduction()}\")\n",
    "print(f\"       HP: {KDV.HP()}\")"
   ]
  },
  {
   "cell_type": "code",
   "execution_count": 30,
   "id": "c925d5e5",
   "metadata": {},
   "outputs": [
    {
     "name": "stdout",
     "output_type": "stream",
     "text": [
      "T(u, n, j, 4)*(-tau) + T(u, n, j, 3)*2*tau + T(u, n, j, 2)*4*h**3 + T(u, n, j)*(-2*tau) + T(u, n)*tau + T(u, j, 4)*(-tau) + T(u, j, 3)*2*tau + T(u, j, 2)*(-4*h**3) + T(u, j)*(-2*tau) + T(u)*tau + T(P, n, j, 3)*(-h**2*tau) + T(P, n, j)*h**2*tau + T(P, j, 3)*(-h**2*tau) + T(P, j)*h**2*tau\n"
     ]
    }
   ],
   "source": [
    "for w in KDV[-2].GB():\n",
    "    print(w.poly)"
   ]
  },
  {
   "cell_type": "code",
   "execution_count": 31,
   "id": "ec6a7ecb",
   "metadata": {},
   "outputs": [
    {
     "data": {
      "image/png": "[encoded data removed]",
      "text/latex": [
       "$\\displaystyle \\frac{{u}_{{n} + 1\\, {j} + 2} - {u}_{{n}\\, {j} + 2}}{2 \\tau} + \\frac{{P}_{{n} + 1\\, {j} + 1} - {P}_{{n} + 1\\, {j} + 3} + {P}_{{n}\\, {j} + 1} - {P}_{{n}\\, {j} + 3}}{8 h} + \\frac{- 2 {u}_{{n} + 1\\, {j} + 1} + 2 {u}_{{n} + 1\\, {j} + 3} - {u}_{{n} + 1\\, {j} + 4} + {u}_{{n} + 1\\, {j}} - 2 {u}_{{n}\\, {j} + 1} + 2 {u}_{{n}\\, {j} + 3} - {u}_{{n}\\, {j} + 4} + {u}_{{n}\\, {j}}}{8 h^{3}}$"
      ],
      "text/plain": [
       "{u}_{{n} + 1\\, {j} + 2} - {u}_{{n}\\, {j} + 2}   {P}_{{n} + 1\\, {j} + 1} - {P}_{{n} + 1\\, {j\n",
       "───────────────────────────────────────────── + ───────────────────────────────────────────\n",
       "                     2⋅τ                                                                   \n",
       "                                                                                           \n",
       "\n",
       "} + 3} + {P}_{{n}\\, {j} + 1} - {P}_{{n}\\, {j} + 3}   -2⋅{u}_{{n} + 1\\, {j} + 1} + 2⋅{u}_{{n\n",
       "────────────────────────────────────────────────── + ──────────────────────────────────────\n",
       "  8⋅h                                                                                      \n",
       "                                                                                           \n",
       "\n",
       "} + 1\\, {j} + 3} - {u}_{{n} + 1\\, {j} + 4} + {u}_{{n} + 1\\, {j}} - 2⋅{u}_{{n}\\, {j} + 1} + \n",
       "───────────────────────────────────────────────────────────────────────────────────────────\n",
       "                                                          3                                \n",
       "                                                       8⋅h                                 \n",
       "\n",
       "2⋅{u}_{{n}\\, {j} + 3} - {u}_{{n}\\, {j} + 4} + {u}_{{n}\\, {j}}\n",
       "─────────────────────────────────────────────────────────────\n",
       "                                                             \n",
       "                                                             "
      ]
     },
     "metadata": {},
     "output_type": "display_data"
    }
   ],
   "source": [
    "for w in KDV[-2].GB():\n",
    "    p = sum(Symbol(m.T_latex())*c for m, c in w.poly).expand()\n",
    "    display(ratsimp(p.coeff(tau, 0).coeff(h, 3)/(8*tau)) +\n",
    "            ratsimp(p.coeff(tau, 1).coeff(h, 2)/(8*h)) +\n",
    "            ratsimp(p.coeff(tau, 1).coeff(h, 0)/(8*h**3)))"
   ]
  },
  {
   "cell_type": "markdown",
   "id": "ac82f98d",
   "metadata": {},
   "source": [
    "**First-derivative approximation (4th-order compact scheme):**  \n",
    "$$\n",
    "\\frac{1}{6}f'_{i+1} + \\frac{2}{3}f'_{i} + \\frac{1}{6}f'_{i-1} = \\frac{f_{i+1} - f_{i-1}}{2h}  \n",
    "$$  \n",
    "\n",
    "**Second-derivative approximation (4th-order compact scheme):**  \n",
    "$$\n",
    "\\frac{1}{12}f''_{i+1} + \\frac{5}{6}f''_{i} + \\frac{1}{12}f''_{i-1} = \\frac{f_{i+1} - 2f_{i} + f_{i-1}}{h^2}  \n",
    "$$  \n",
    "\n",
    "Nayfeh A. H. Introduction to Perturbation Techniques, Wiley-VCH, 1st edition, 1993. 536 p.\n",
    "\n",
    "**Given the governing equation:**  \n",
    "$$\n",
    "\\varepsilon f''_{i} + \\left(1 + \\varepsilon^{2}\\right)f'_{i} + \\left(1 - \\varepsilon^{2}\\right)f_{i} = 0  \n",
    "$$  \n"
   ]
  },
  {
   "cell_type": "code",
   "execution_count": 32,
   "id": "896e5cba",
   "metadata": {},
   "outputs": [
    {
     "data": {
      "image/png": "[encoded data removed]",
      "text/latex": [
       "$\\displaystyle \\left( \\varepsilon, \\  (1 + {\\varepsilon^2}), \\  (1 - {\\varepsilon^2}), \\  h\\right)$"
      ],
      "text/plain": [
       "(\\varepsilon, (1 + {\\varepsilon__2}), (1 - {\\varepsilon__2}), h)"
      ]
     },
     "execution_count": 32,
     "metadata": {},
     "output_type": "execute_result"
    }
   ],
   "source": [
    "eps, h = symbols(r'\\varepsilon,  h', real=True)\n",
    "eps0 = sympy.Symbol(r'(1 + {\\varepsilon^2})', real=True)\n",
    "eps1 = sympy.Symbol(r'(1 - {\\varepsilon^2})', real=True)\n",
    "# eps0, eps1 = 1 + eps**2, 1 - eps**2 \n",
    "eps, eps0, eps1, h"
   ]
  },
  {
   "cell_type": "code",
   "execution_count": 33,
   "id": "bd71e6dc",
   "metadata": {},
   "outputs": [],
   "source": [
    "var = 'j'.split(', ')\n",
    "fun = 'uxx, ux, u'.split(', ')\n",
    "Monom.init(var, fun)\n",
    "T = PolySchem.T\n",
    "var, fun = PolySchem.init()\n",
    "j = var[0]\n",
    "uxx, ux, u = fun"
   ]
  },
  {
   "cell_type": "code",
   "execution_count": 34,
   "id": "51eb0916",
   "metadata": {
    "scrolled": false
   },
   "outputs": [
    {
     "name": "stdout",
     "output_type": "stream",
     "text": [
      "prolong ux*j**2\n",
      "T(ux, j, 2)\n",
      "prolong uxx\n",
      "T(uxx)\n",
      "prolong uxx*j**2\n",
      "T(ux, j)\n",
      "prolong ux*j**2\n",
      "T(ux)\n",
      "prolong ux*j\n",
      "T(u, j, 4)\n",
      "prolongAll\n",
      "crit1: 0\n",
      "crit2: 0\n",
      " time: 0.08 sec\n",
      "    count: 3\n",
      "reduction: 11\n",
      "       HP: 4\n"
     ]
    }
   ],
   "source": [
    "# Monom.cmp = Monom.TOPdeglex\n",
    "Monom.cmp = Monom.POTdeglex\n",
    "BL = Forest(Janet)\n",
    "# res = ginvBlockLow((\\\n",
    "res = ginvMin((\\\n",
    "(T(ux, j, 2)/6 + 2*T(ux, j)/3 + T(ux)/6) - (T(u, j, 2) - T(u))/(2*h),\\\n",
    "(T(uxx, j, 2)/12 + 5*T(uxx, j)/6 + T(uxx)/12) - (T(u, j, 2) - 2*T(u, j) + T(u))/h**2,\\\n",
    "eps*T(uxx) + eps0*T(ux) + eps1*T(u),\\\n",
    "), BL, level=2)\n",
    "print(f\"crit1: {res[1]}\")\n",
    "print(f\"crit2: {res[2]}\")\n",
    "print(f\" time: {res[0]:.2f} sec\")\n",
    "print(f\"    count: {BL.count()}\")\n",
    "print(f\"reduction: {BL.reduction()}\")\n",
    "print(f\"       HP: {BL.HP()}\")"
   ]
  },
  {
   "cell_type": "code",
   "execution_count": 35,
   "id": "1868ee98",
   "metadata": {},
   "outputs": [
    {
     "data": {
      "image/png": "[encoded data removed]",
      "text/latex": [
       "$\\displaystyle \\frac{(1 + {\\varepsilon^2}) \\left(- 3 {u}_{{j} + 1} + 30 {u}_{{j} + 2} + 3 {u}_{{j} + 3} - 30 {u}_{{j}}\\right)}{h} + (1 - {\\varepsilon^2}) \\left(41 {u}_{{j} + 1} + 14 {u}_{{j} + 2} + {u}_{{j} + 3} + 10 {u}_{{j}}\\right) + 6 \\varepsilon {uxx}_{{j}} + \\frac{\\varepsilon \\left(- 84 {u}_{{j} + 1} + 24 {u}_{{j} + 2} + 12 {u}_{{j} + 3} + 48 {u}_{{j}}\\right)}{h^{2}}$"
      ],
      "text/plain": [
       "(1 + {\\varepsilon__2})⋅(-3⋅{u}_{{j} + 1} + 30⋅{u}_{{j} + 2} + 3⋅{u}_{{j} + 3} - 30⋅{u}_{{j}\n",
       "───────────────────────────────────────────────────────────────────────────────────────────\n",
       "                                              h                                            \n",
       "                                                                                           \n",
       "\n",
       "})                                                                                         \n",
       "── + (1 - {\\varepsilon__2})⋅(41⋅{u}_{{j} + 1} + 14⋅{u}_{{j} + 2} + {u}_{{j} + 3} + 10⋅{u}_{\n",
       "                                                                                           \n",
       "                                                                                           \n",
       "\n",
       "                                    \\varepsilon⋅(-84⋅{u}_{{j} + 1} + 24⋅{u}_{{j} + 2} + 12⋅\n",
       "{j}}) + 6⋅\\varepsilon⋅{uxx}_{{j}} + ───────────────────────────────────────────────────────\n",
       "                                                                              2            \n",
       "                                                                             h             \n",
       "\n",
       "{u}_{{j} + 3} + 48⋅{u}_{{j}})\n",
       "─────────────────────────────\n",
       "                             \n",
       "                             "
      ]
     },
     "metadata": {},
     "output_type": "display_data"
    },
    {
     "data": {
      "image/png": "[encoded data removed]",
      "text/latex": [
       "$\\displaystyle 6 (1 + {\\varepsilon^2}) {ux}_{{j}} + \\frac{(1 + {\\varepsilon^2}) \\left(3 {u}_{{j} + 1} - 30 {u}_{{j} + 2} - 3 {u}_{{j} + 3} + 30 {u}_{{j}}\\right)}{h} + (1 - {\\varepsilon^2}) \\left(- 41 {u}_{{j} + 1} - 14 {u}_{{j} + 2} - {u}_{{j} + 3} - 4 {u}_{{j}}\\right) + \\frac{\\varepsilon \\left(84 {u}_{{j} + 1} - 24 {u}_{{j} + 2} - 12 {u}_{{j} + 3} - 48 {u}_{{j}}\\right)}{h^{2}}$"
      ],
      "text/plain": [
       "                                      (1 + {\\varepsilon__2})⋅(3⋅{u}_{{j} + 1} - 30⋅{u}_{{j}\n",
       "6⋅(1 + {\\varepsilon__2})⋅{ux}_{{j}} + ─────────────────────────────────────────────────────\n",
       "                                                                                   h       \n",
       "                                                                                           \n",
       "\n",
       " + 2} - 3⋅{u}_{{j} + 3} + 30⋅{u}_{{j}})                                                    \n",
       "─────────────────────────────────────── + (1 - {\\varepsilon__2})⋅(-41⋅{u}_{{j} + 1} - 14⋅{u\n",
       "                                                                                           \n",
       "                                                                                           \n",
       "\n",
       "                                             \\varepsilon⋅(84⋅{u}_{{j} + 1} - 24⋅{u}_{{j} + \n",
       "}_{{j} + 2} - {u}_{{j} + 3} - 4⋅{u}_{{j}}) + ──────────────────────────────────────────────\n",
       "                                                                                       2   \n",
       "                                                                                      h    \n",
       "\n",
       "2} - 12⋅{u}_{{j} + 3} - 48⋅{u}_{{j}})\n",
       "─────────────────────────────────────\n",
       "                                     \n",
       "                                     "
      ]
     },
     "metadata": {},
     "output_type": "display_data"
    },
    {
     "data": {
      "image/png": "[encoded data removed]",
      "text/latex": [
       "$\\displaystyle \\frac{(1 + {\\varepsilon^2}) \\left(30 {u}_{{j} + 1} - 30 {u}_{{j} + 3} - 3 {u}_{{j} + 4} + 3 {u}_{{j}}\\right)}{h} + (1 - {\\varepsilon^2}) \\left(- 14 {u}_{{j} + 1} - 42 {u}_{{j} + 2} - 14 {u}_{{j} + 3} - {u}_{{j} + 4} - {u}_{{j}}\\right) + \\frac{\\varepsilon \\left(- 24 {u}_{{j} + 1} + 72 {u}_{{j} + 2} - 24 {u}_{{j} + 3} - 12 {u}_{{j} + 4} - 12 {u}_{{j}}\\right)}{h^{2}}$"
      ],
      "text/plain": [
       "(1 + {\\varepsilon__2})⋅(30⋅{u}_{{j} + 1} - 30⋅{u}_{{j} + 3} - 3⋅{u}_{{j} + 4} + 3⋅{u}_{{j}}\n",
       "───────────────────────────────────────────────────────────────────────────────────────────\n",
       "                                             h                                             \n",
       "                                                                                           \n",
       "\n",
       ")                                                                                          \n",
       "─ + (1 - {\\varepsilon__2})⋅(-14⋅{u}_{{j} + 1} - 42⋅{u}_{{j} + 2} - 14⋅{u}_{{j} + 3} - {u}_{\n",
       "                                                                                           \n",
       "                                                                                           \n",
       "\n",
       "                        \\varepsilon⋅(-24⋅{u}_{{j} + 1} + 72⋅{u}_{{j} + 2} - 24⋅{u}_{{j} + 3\n",
       "{j} + 4} - {u}_{{j}}) + ───────────────────────────────────────────────────────────────────\n",
       "                                                                            2              \n",
       "                                                                           h               \n",
       "\n",
       "} - 12⋅{u}_{{j} + 4} - 12⋅{u}_{{j}})\n",
       "────────────────────────────────────\n",
       "                                    \n",
       "                                    "
      ]
     },
     "metadata": {},
     "output_type": "display_data"
    }
   ],
   "source": [
    "for w in BL.GB():\n",
    "    p = sum(Symbol(m.T_latex())*c for m, c in w.poly).expand()\n",
    "#     print(sympy.latex(sum(ratsimp(p.coeff(h, i)/(h**(2-i))).collect([eps, eps0, eps1]) for i in range(3))))\n",
    "    display(sum(ratsimp(p.coeff(h, i)/(h**(2-i))).collect([eps, eps0, eps1]) for i in range(3)))"
   ]
  },
  {
   "cell_type": "code",
   "execution_count": 38,
   "id": "7968d7a3",
   "metadata": {},
   "outputs": [
    {
     "data": {
      "image/png": "[encoded data removed]",
      "text/latex": [
       "$\\displaystyle 6 (1 + {\\varepsilon^2}) {ux}_{{j} + 1} + \\frac{(1 + {\\varepsilon^2}) \\left(3 {u}_{{j} + 2} - 3 {u}_{{j}}\\right)}{h} + (1 - {\\varepsilon^2}) \\left(10 {u}_{{j} + 1} + {u}_{{j} + 2} + {u}_{{j}}\\right) + \\frac{\\varepsilon \\left(- 24 {u}_{{j} + 1} + 12 {u}_{{j} + 2} + 12 {u}_{{j}}\\right)}{h^{2}}$"
      ],
      "text/plain": [
       "                                          (1 + {\\varepsilon__2})⋅(3⋅{u}_{{j} + 2} - 3⋅{u}_{\n",
       "6⋅(1 + {\\varepsilon__2})⋅{ux}_{{j} + 1} + ─────────────────────────────────────────────────\n",
       "                                                                    h                      \n",
       "                                                                                           \n",
       "\n",
       "{j}})                                                                           \\varepsilon\n",
       "───── + (1 - {\\varepsilon__2})⋅(10⋅{u}_{{j} + 1} + {u}_{{j} + 2} + {u}_{{j}}) + ───────────\n",
       "                                                                                           \n",
       "                                                                                           \n",
       "\n",
       "⋅(-24⋅{u}_{{j} + 1} + 12⋅{u}_{{j} + 2} + 12⋅{u}_{{j}})\n",
       "──────────────────────────────────────────────────────\n",
       "                      2                               \n",
       "                     h                                "
      ]
     },
     "metadata": {},
     "output_type": "display_data"
    }
   ],
   "source": [
    "for w in BL[1].GB():\n",
    "    p = -w.poly.prolong(0)\n",
    "    p.NFtail(BL)\n",
    "    p.pp()\n",
    "    p = sum(Symbol(m.T_latex())*c for m, c in p).expand()\n",
    "    display(sum(ratsimp(p.coeff(h, i)/(h**(2-i))).collect([eps, eps0, eps1]) for i in range(3)))"
   ]
  },
  {
   "cell_type": "code",
   "execution_count": 39,
   "id": "221a254e",
   "metadata": {},
   "outputs": [
    {
     "data": {
      "image/png": "[encoded data removed]",
      "text/latex": [
       "$\\displaystyle 6 (1 + {\\varepsilon^2}) {ux}_{{j} + 3} + \\frac{(1 + {\\varepsilon^2}) \\left(30 {u}_{{j} + 1} - 3 {u}_{{j} + 2} - 30 {u}_{{j} + 3} + 3 {u}_{{j}}\\right)}{h} + (1 - {\\varepsilon^2}) \\left(- 14 {u}_{{j} + 1} - 41 {u}_{{j} + 2} - 4 {u}_{{j} + 3} - {u}_{{j}}\\right) + \\frac{\\varepsilon \\left(- 24 {u}_{{j} + 1} + 84 {u}_{{j} + 2} - 48 {u}_{{j} + 3} - 12 {u}_{{j}}\\right)}{h^{2}}$"
      ],
      "text/plain": [
       "                                          (1 + {\\varepsilon__2})⋅(30⋅{u}_{{j} + 1} - 3⋅{u}_\n",
       "6⋅(1 + {\\varepsilon__2})⋅{ux}_{{j} + 3} + ─────────────────────────────────────────────────\n",
       "                                                                                       h   \n",
       "                                                                                           \n",
       "\n",
       "{{j} + 2} - 30⋅{u}_{{j} + 3} + 3⋅{u}_{{j}})                                                \n",
       "─────────────────────────────────────────── + (1 - {\\varepsilon__2})⋅(-14⋅{u}_{{j} + 1} - 4\n",
       "                                                                                           \n",
       "                                                                                           \n",
       "\n",
       "                                                 \\varepsilon⋅(-24⋅{u}_{{j} + 1} + 84⋅{u}_{{\n",
       "1⋅{u}_{{j} + 2} - 4⋅{u}_{{j} + 3} - {u}_{{j}}) + ──────────────────────────────────────────\n",
       "                                                                                           \n",
       "                                                                                          h\n",
       "\n",
       "j} + 2} - 48⋅{u}_{{j} + 3} - 12⋅{u}_{{j}})\n",
       "──────────────────────────────────────────\n",
       "2                                         \n",
       "                                          "
      ]
     },
     "metadata": {},
     "output_type": "display_data"
    }
   ],
   "source": [
    "for w in BL[1].GB():\n",
    "    p = w.poly.prolong(0).prolong(0).prolong(0)\n",
    "    p.NFtail(BL)\n",
    "    p.pp()\n",
    "    p = sum(Symbol(m.T_latex())*c for m, c in p).expand()\n",
    "    display(sum(ratsimp(p.coeff(h, i)/(h**(2-i))).collect([eps, eps0, eps1]) for i in range(3)))"
   ]
  },
  {
   "cell_type": "code",
   "execution_count": null,
   "id": "07982f01",
   "metadata": {},
   "outputs": [],
   "source": []
  }
 ],
 "metadata": {
  "kernelspec": {
   "display_name": "Python 3 (ipykernel)",
   "language": "python",
   "name": "python3"
  },
  "language_info": {
   "codemirror_mode": {
    "name": "ipython",
    "version": 3
   },
   "file_extension": ".py",
   "mimetype": "text/x-python",
   "name": "python",
   "nbconvert_exporter": "python",
   "pygments_lexer": "ipython3",
   "version": "3.11.2"
  }
 },
 "nbformat": 4,
 "nbformat_minor": 5
}
