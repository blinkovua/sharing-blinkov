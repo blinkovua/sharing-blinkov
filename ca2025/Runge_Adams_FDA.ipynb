{
 "cells": [
  {
   "cell_type": "code",
   "execution_count": 1,
   "id": "456c055b",
   "metadata": {},
   "outputs": [],
   "source": [
    "import time\n",
    "from pprint import pprint\n",
    "from IPython.display import display\n",
    "\n",
    "from fda_ode import *"
   ]
  },
  {
   "cell_type": "code",
   "execution_count": 2,
   "id": "65e92a72",
   "metadata": {},
   "outputs": [],
   "source": [
    "def GaussLegendre2(f, y):\n",
    "    y1 = Matrix(y.copy())\n",
    "    k1 = f(y1/2 + y/2)\n",
    "    return expand(k1)"
   ]
  },
  {
   "cell_type": "code",
   "execution_count": 3,
   "id": "dd98b920",
   "metadata": {},
   "outputs": [],
   "source": [
    "def CrankNicolson2(f, y):\n",
    "    y1 = Matrix(y.copy())\n",
    "    k1 = f(y)\n",
    "    k2 = f(y1)\n",
    "    return expand((k1 + k2)/2)"
   ]
  },
  {
   "cell_type": "code",
   "execution_count": 4,
   "id": "29542899",
   "metadata": {},
   "outputs": [],
   "source": [
    "def RungeKutta4(f, y):\n",
    "    k1 = f(y)\n",
    "    k2 = f(y + h*k1/2)\n",
    "    k3 = f(y + h*k2/2)\n",
    "    k4 = f(y + h*k3)\n",
    "    return expand((k1 + 2*k2 + 2*k3 + k4)/6)"
   ]
  },
  {
   "cell_type": "code",
   "execution_count": 5,
   "id": "45c1c531",
   "metadata": {},
   "outputs": [],
   "source": [
    "def DormandPrince5(f, y):\n",
    "    k1 = f(y)\n",
    "    k2 = f(y + h*k1/5)\n",
    "    k3 = f(y + h*(k1*3/40 + k2*9/40))\n",
    "    k4 = f(y + h*(k1*44/45 - k2*56/15 + k3*32/9))\n",
    "    k5 = f(y + h*(k1*19372/6561 - k2*25360/2187 + k3*64448/6561 - k4*212/729))\n",
    "    k6 = f(y + h*(k1*9017/3168 - k2*355/33 + k3*46732/5247 + k4*49/176 - k5*5103/18656))\n",
    "    return expand(k1*35/384 + k3*500/1113 + k4*125/192 - k5*2187/6784 + k6*11/84)\n",
    "\n",
    "def DormandPrince4(f, y):\n",
    "    k1 = f(y)\n",
    "    k2 = f(y + h*k1/5)\n",
    "    k3 = f(y + h*(k1*3/40 + k2*9/40))\n",
    "    k4 = f(y + h*(k1*44/45 - k2*56/15 + k3*32/9))\n",
    "    k5 = f(y + h*(k1*19372/6561 - k2*25360/2187 + k3*64448/6561 - k4*212/729))\n",
    "    k6 = f(y + h*(k1*9017/3168 - k2*355/33 + k3*46732/5247 + k4*49/176 - k5*5103/18656))\n",
    "    k7 = f(y + h*(k1*35/384 + k3*500/1113 + k4*125/192 - k5*2187/6784 + k6*11/84))\n",
    "    return expand(k1*5179/57600 + k3*7571/16695 + k4*393/640 - k5*92097/339200 + k6*187/2100 + k7/40)"
   ]
  },
  {
   "cell_type": "code",
   "execution_count": 6,
   "id": "1257718b",
   "metadata": {},
   "outputs": [],
   "source": [
    "def AdamsBashforth4(g, y):\n",
    "    return expand(-3*g(y)/8 + 37*g(y.subs(t, t+h))/24 - 59*g(y.subs(t, t+2*h))/24 + 55*g(y.subs(t, t+3*h))/24)\n",
    "def AdamsBashforth5(g, y):\n",
    "    return expand(251*g(y)/720 - 637*g(y.subs(t, t+h))/360 + 109*g(y.subs(t, t+2*h))/30\\\n",
    "       - 1387*g(y.subs(t, t+3*h))/360 + 1901*g(y.subs(t, t+4*h))/720)\n",
    "\n",
    "def AdamsMoulton4(g, y):\n",
    "    return expand(g(y)/24 - 5*g(y.subs(t, t+h))/24 + 19*g(y.subs(t, t+2*h))/24 + 3*g(y.subs(t, t+3*h))/8)\n",
    "def AdamsMoulton5(g, y):\n",
    "    return expand(-19*g(y)/720 + 53*g(y.subs(t, t+h))/360 - 11*g(y.subs(t, t+2*h))/30\\\n",
    "   + 323*g(y.subs(t, t+3*h))/360 + 251*g(y.subs(t, t+4*h))/720)"
   ]
  },
  {
   "cell_type": "code",
   "execution_count": null,
   "id": "5707cb1c",
   "metadata": {},
   "outputs": [],
   "source": []
  }
 ],
 "metadata": {
  "kernelspec": {
   "display_name": "Python 3 (ipykernel)",
   "language": "python",
   "name": "python3"
  },
  "language_info": {
   "codemirror_mode": {
    "name": "ipython",
    "version": 3
   },
   "file_extension": ".py",
   "mimetype": "text/x-python",
   "name": "python",
   "nbconvert_exporter": "python",
   "pygments_lexer": "ipython3",
   "version": "3.11.2"
  }
 },
 "nbformat": 4,
 "nbformat_minor": 5
}
