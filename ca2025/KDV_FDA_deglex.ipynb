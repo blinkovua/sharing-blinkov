{
 "cells": [
  {
   "cell_type": "code",
   "execution_count": 5,
   "metadata": {},
   "outputs": [],
   "source": [
    "from IPython.display import display\n",
    "\n",
    "from sympy import *\n",
    "init_printing()\n",
    "\n",
    "from monom import *"
   ]
  },
  {
   "cell_type": "code",
   "execution_count": 6,
   "metadata": {},
   "outputs": [],
   "source": [
    "t, x, tau, h = symbols(r't, x, tau, h', real=True)\n",
    "u = Function('u')(t, x)"
   ]
  },
  {
   "cell_type": "code",
   "execution_count": 7,
   "metadata": {},
   "outputs": [],
   "source": [
    "pda_f, pda_v = (u,), (t, x)\n",
    "pda_n, pda_clp = (6, 6), (3, 3)\n",
    "pda_p = Rational(1, 2), Rational(0, 1)"
   ]
  },
  {
   "cell_type": "code",
   "execution_count": 8,
   "metadata": {},
   "outputs": [],
   "source": [
    "Monom.init([str(v) for v in pda_v], [str(f) for f in pda_f])\n",
    "pda_var = dict(zip(pda_v, (Monom(i) for i in range(len(pda_v)))))\n",
    "pda_fun = dict(zip(pda_f, (Monom(pos=i) for i in range(len(pda_f)))))"
   ]
  },
  {
   "cell_type": "code",
   "execution_count": 9,
   "metadata": {},
   "outputs": [],
   "source": [
    "def T(f, i1, j1):\n",
    "    return sum(sum(\\\n",
    "        diff(f, t, i, x, j)*(tau*(i1 - pda_p[0]))**i \\\n",
    "                             *(h*(j1 - pda_p[1]))**j/\\\n",
    "                 (factorial(i)*factorial(j))\\\n",
    "        for i in range(pda_n[0]))\\\n",
    "        for j in range(pda_n[1]))"
   ]
  },
  {
   "cell_type": "code",
   "execution_count": 10,
   "metadata": {},
   "outputs": [
    {
     "data": {
      "image/png": "[encoded data removed]",
      "text/latex": [
       "$\\displaystyle \\frac{\\tau^{4} \\frac{\\partial^{5}}{\\partial t^{5}} u{\\left(t,x \\right)}}{1920} + \\frac{\\tau^{2} \\frac{\\partial^{3}}{\\partial t^{3}} u{\\left(t,x \\right)}}{24} + \\frac{\\partial}{\\partial t} u{\\left(t,x \\right)}$"
      ],
      "text/plain": [
       "     5                 3                       \n",
       " 4  ∂              2  ∂                        \n",
       "τ ⋅───(u(t, x))   τ ⋅───(u(t, x))              \n",
       "     5                 3                       \n",
       "   ∂t                ∂t             ∂          \n",
       "─────────────── + ─────────────── + ──(u(t, x))\n",
       "      1920               24         ∂t         "
      ]
     },
     "execution_count": 10,
     "metadata": {},
     "output_type": "execute_result"
    }
   ],
   "source": [
    "expand((T(u, 1, 0) - T(u, 0, 0))/(tau))"
   ]
  },
  {
   "cell_type": "code",
   "execution_count": 11,
   "metadata": {},
   "outputs": [],
   "source": [
    "def clip(f):\n",
    "    f = f.expand()\n",
    "    r = []\n",
    "    for i in range(pda_clp[0]):\n",
    "        for j in range(pda_clp[1]):\n",
    "            c = f.coeff(tau, i).coeff(h, j)\n",
    "            if c and (\\\n",
    "            (pda_clp[0]-1 != i or j == 0) and \\\n",
    "            (pda_clp[1]-1 != j or i == 0)):\n",
    "                r.append(((i, j), c))\n",
    "    return r\n",
    "\n",
    "def df2m(a):\n",
    "    assert a.func == Derivative\n",
    "    m = pda_fun[a.args[0]]\n",
    "    for xi in a.args[1:]:\n",
    "        if isinstance(xi, Symbol):\n",
    "            m = m*pda_var[xi]\n",
    "        else:\n",
    "            m = m*pda_var[xi[0]]**xi[1]\n",
    "    return m\n",
    "\n",
    "def m2df(m):\n",
    "    r = pda_f[m.position()]\n",
    "    for i in range(len(m)):\n",
    "        r = r.diff(pda_v[i], m[i])\n",
    "    return r\n",
    "\n",
    "def findDiv(a, d):\n",
    "    r = None\n",
    "    def find(a, r):\n",
    "        if a.args:\n",
    "            if a.func == Derivative and a.args[0] in pda_fun:\n",
    "                m = df2m(a)\n",
    "                if m.divisible(d) and (not r or m.cmp(r) > 0):\n",
    "                    r = m\n",
    "            else:\n",
    "                for s in a.args:\n",
    "                    r = find(s, r)\n",
    "        return r\n",
    "    return find(a, r)\n",
    "\n",
    "def mult(a, s):\n",
    "    r = []\n",
    "    for mc in a:\n",
    "        m = mc[0][0] + s[0], mc[0][1] + s[1]\n",
    "        if m[0] < pda_clp[0] and m[1] < pda_clp[1] and\\\n",
    "           (pda_clp[0]-1 != m[0] or m[1] == 0) and \\\n",
    "           (pda_clp[1]-1 != m[1] or m[0] == 0):\n",
    "            r.append((m, mc[1]))\n",
    "    return r\n",
    "\n",
    "def add(a, b):\n",
    "    r, ia, ib = [], 0, 0\n",
    "    iaend, ibend = len(a), len(b)\n",
    "    while ia < iaend and ib < ibend:\n",
    "        ma, mb = a[ia][0], b[ib][0]\n",
    "        if ma[0] > mb[0]:\n",
    "            c = 1\n",
    "        elif ma[0] < mb[0]:\n",
    "            c = -1\n",
    "        elif ma[1] > mb[1]:\n",
    "            c = 1\n",
    "        elif ma[1] < mb[1]:\n",
    "            c = -1\n",
    "        else:\n",
    "            c = 0\n",
    "        \n",
    "        if c == -1:\n",
    "            r.append(a[ia])\n",
    "            ia += 1\n",
    "        elif c == 1:\n",
    "            r.append(b[ib])\n",
    "            ib += 1\n",
    "        else:\n",
    "            d = expand(a[ia][1] + b[ib][1])\n",
    "            if d:\n",
    "                r.append((ma, d))\n",
    "            ia += 1\n",
    "            ib += 1\n",
    "    while ia < iaend:\n",
    "        r.append(a[ia])\n",
    "        ia += 1\n",
    "    while ib < ibend:\n",
    "        r.append(b[ib])\n",
    "        ib += 1\n",
    "    return r\n",
    "\n",
    "def reduction(f1, f2, m, c, shift):\n",
    "#     print(m, c, shift)\n",
    "    f = mult(f2, shift)\n",
    "    if not m:\n",
    "        f = [(s, c*p) for s, p in f]\n",
    "    else:\n",
    "        f = [(s, c*p.diff(*m)) for s, p in f]\n",
    "    return add(f1, f)\n",
    "\n",
    "def NF(f, df, G, head=False):\n",
    "    assert len(df) == len(G)\n",
    "    ms = [df2m(d) for d in df]\n",
    "    i = 0 if head else 1\n",
    "    while i < len(f):\n",
    "        shift, p = f[i]\n",
    "        while True:\n",
    "            r = None\n",
    "            for l in range(len(ms)):\n",
    "                r = findDiv(p, ms[l])\n",
    "                if r:\n",
    "                    break\n",
    "            if not r: \n",
    "                break\n",
    "            m = m2df(r)\n",
    "            deg = p.as_poly(m).degree()\n",
    "            c = p.coeff(m, deg)\n",
    "            if deg > 1:\n",
    "                c = p.coeff(m, deg)*m**(deg - 1)\n",
    "            m = r/ms[l]\n",
    "            d = []\n",
    "            for k in range(len(pda_v)):\n",
    "                if m[k] > 0:\n",
    "                    d.append(pda_v[k])\n",
    "                    if m[k] > 1:\n",
    "                        d.append(m[k])\n",
    "            f = reduction(f, G[l], tuple(d), -c/G[l][0][1].coeff(df[l]), shift)\n",
    "            if i == len(f):\n",
    "                break\n",
    "            shift, p = f[i]\n",
    "        i += 1\n",
    "    return f\n",
    "\n",
    "def compact(f):\n",
    "    def cmpct(a):\n",
    "        if not a.args:\n",
    "            return a\n",
    "        else:\n",
    "            if a in pda_f:\n",
    "                return Symbol(\"%s\" % a.func, real=True)\n",
    "            elif a.func == Derivative:\n",
    "                m = []\n",
    "                for xi in a.args[1:]:\n",
    "                    if isinstance(xi, Symbol):\n",
    "                        m.append(str(xi))\n",
    "                    else:\n",
    "                        m.append(str(xi[0])*xi[1])\n",
    "                return Symbol(\"%s_{%s}\" % (a.args[0].func, \"\".join(m)), real=True)\n",
    "            else:\n",
    "                return a.func(*tuple(cmpct(s) for s in a.args))\n",
    "    return cmpct(f)\n",
    "\n",
    "def prn(a, p=None):\n",
    "    for m, c in a:\n",
    "        s = \"\"\n",
    "        if m[0]:\n",
    "            if m[0] == 1:\n",
    "                s += \"tau\"\n",
    "            else:\n",
    "                s += \"tau^%d\" % m[0]\n",
    "        if m[1]:\n",
    "            if m[0]:\n",
    "                s += \" \"\n",
    "            if m[1] == 1:\n",
    "                s += \"h\"\n",
    "            else:\n",
    "                s += \"h^%d\" % m[1]\n",
    "        if s:\n",
    "            print(\"%s =>\" % s)\n",
    "        if p:\n",
    "            display(compact(c).collect(p, factor))\n",
    "        else:\n",
    "            display(compact(c))\n",
    "\n",
    "rlen = []\n",
    "def prnlatex(a, p=None):\n",
    "    first = True\n",
    "    for m, c in a:\n",
    "        s = \"\"\n",
    "        if m[0]:\n",
    "            if m[0] == 1:\n",
    "                s += r\"\\tau\"\n",
    "            else:\n",
    "                s += r\"\\tau^%d\" % m[0]\n",
    "        if m[1]:\n",
    "            if m[0]:\n",
    "                s += \" \"\n",
    "            if m[1] == 1:\n",
    "                s += \"h\"\n",
    "            else:\n",
    "                s += r\"h^%d\" % m[1]\n",
    "        if s:\n",
    "            if first:\n",
    "                first = False\n",
    "                print(r\"%s\\Big(\" % s)\n",
    "            else:\n",
    "                print(r\" + %s\\Big(\" % s)\n",
    "        if p:\n",
    "            print(latex(compact(c).collect(p, factor)))\n",
    "        else:\n",
    "            print(latex(compact(c)))\n",
    "        if first:\n",
    "            first = False\n",
    "        else:\n",
    "            print(r\"\\Big)\")\n",
    "    rlen.append((len(a[1][1].args), len(a[2][1].args)))\n",
    "    print(rlen[-1])\n",
    "\n",
    "rep = (\\\n",
    "(\"u_{x}\", \"fi_x\"),\\\n",
    "(\"u_{xx}\", \"fi_xx\"),\\\n",
    "(\"u_{t}\", \"fi_t\"),\\\n",
    "(\"u_{tx}\", \"fi_tx\"),\\\n",
    "(\"u_{txx}\", \"fi_txx\"),\\\n",
    "(\"u_{ttx}\", \"fi_ttx\"),\\\n",
    "(\"u_{ttt}\", \"fi_ttt\"),\\\n",
    "(\"u\", \"fi[2]\"),\\\n",
    ")\n",
    "\n",
    "def prnP(a):\n",
    "    for m, c in a:\n",
    "        s = \"\"\n",
    "        if m[0]:\n",
    "            if m[0] == 1:\n",
    "                s += \"tau\"\n",
    "            else:\n",
    "                s += \"tau^%d\" % m[0]\n",
    "        if m[1]:\n",
    "            if m[0]:\n",
    "                s += \" \"\n",
    "            if m[1] == 1:\n",
    "                s += \"h\"\n",
    "            else:\n",
    "                s += \"h^%d\" % m[1]\n",
    "        if s:\n",
    "            print(\"%s =>\" % s)\n",
    "            s = str(compact(c))\n",
    "            for a, b in rep:\n",
    "                s = s.replace(a, b)\n",
    "            print(s)"
   ]
  },
  {
   "cell_type": "code",
   "execution_count": 12,
   "metadata": {},
   "outputs": [],
   "source": [
    "D, k, xi = symbols('D, k, xi', real=True)"
   ]
  },
  {
   "cell_type": "markdown",
   "metadata": {},
   "source": [
    "# решение в виде солитона с пьедесталом, которое \n",
    "обобщает решение Слюняева--Пелиновскогопри $D=0$ \n",
    "\\begin{equation}\\label{Blin_eq72a}\n",
    " u(t, x) = D + \\frac{{k}^{2}}{1 + \n",
    "\\mathrm{cosh}\\left(k x - k(6 D + k^2) t\\right)} .\n",
    "\\end{equation} "
   ]
  },
  {
   "cell_type": "code",
   "execution_count": 13,
   "metadata": {},
   "outputs": [
    {
     "data": {
      "image/png": "[encoded data removed]",
      "text/latex": [
       "$\\displaystyle D + \\frac{k^{2}}{\\cosh{\\left(k t \\left(6 D + k^{2}\\right) - k x \\right)} + 1}$"
      ],
      "text/plain": [
       "                   2              \n",
       "                  k               \n",
       "D + ──────────────────────────────\n",
       "        ⎛    ⎛       2⎞      ⎞    \n",
       "    cosh⎝k⋅t⋅⎝6⋅D + k ⎠ - k⋅x⎠ + 1"
      ]
     },
     "execution_count": 13,
     "metadata": {},
     "output_type": "execute_result"
    }
   ],
   "source": [
    "ex1 = D + k**2/(1 + cosh(k*x - k*(6*D +  k**2)*t))\n",
    "ex1"
   ]
  },
  {
   "cell_type": "markdown",
   "metadata": {},
   "source": [
    "Одно-солитонное решение представляет собой бегущую волну \n",
    "$\\xi = k (x - 4 k^{2} t)$, зависящую от параметра $k$, которая распространяется без изменения формы и амплитуды~\\cite[стр. 294]{Polyanin:2023}:\n",
    "\\begin{equation}\\label{eq2}\n",
    "u = \\frac{2 k^{2}}{\\cosh^{2}{\\xi} }\n",
    "\\end{equation}"
   ]
  },
  {
   "cell_type": "code",
   "execution_count": 14,
   "metadata": {},
   "outputs": [
    {
     "data": {
      "image/png": "[encoded data removed]",
      "text/latex": [
       "$\\displaystyle 2 k^{2} \\cdot \\left(1 - \\tanh^{2}{\\left(4 k^{3} t - k x \\right)}\\right)$"
      ],
      "text/plain": [
       "   2 ⎛        2⎛   3        ⎞⎞\n",
       "2⋅k ⋅⎝1 - tanh ⎝4⋅k ⋅t - k⋅x⎠⎠"
      ]
     },
     "execution_count": 14,
     "metadata": {},
     "output_type": "execute_result"
    }
   ],
   "source": [
    "ex2 = 2*k**2*(1 - tanh(k*x - 4*k**3*t)**2)\n",
    "ex2"
   ]
  },
  {
   "cell_type": "code",
   "execution_count": 15,
   "metadata": {},
   "outputs": [],
   "source": [
    "def Dt(a):\n",
    "    return (T(a, 1, 0) - T(a, -1, 0))/(2*tau)\n",
    "def D2x(a, i):\n",
    "    return (T(a, i, 1) - T(a, i, -1))/(2*h)\n",
    "def D2xxx(a, i):\n",
    "    return (T(a, i, 2) - 2*T(a, i, 1) + 2*T(a, i, -1) - T(a, i, -2))/(2*h**3)"
   ]
  },
  {
   "cell_type": "markdown",
   "metadata": {},
   "source": [
    "N.J. Zabusky and M.D. Kruskal: Interaction of “solitons” in a collisionless plasma and the recurrence of initial states, Phys. Rev. Lett. 15, 240 (1965)\n",
    "\n",
    "we explicit scheme with $O(\\tau^2, h^2)$ approximation:\n",
    "\\begin{align}\n",
    " u^{n+1}_{i} =& u^{n-1}_{i} -\\dfrac{2 \\tau}{h}\\left(u^{n}_{i+1} + u^{n}_{i} + u^{n}_{i-1}\\right) \\left(u^{n}_{i+1} - u^{n}_{i-1}\\right)\\\\\n",
    " & - \\dfrac{\\tau}{h^3}\\left(u^{n}_{i+2} - 2u^{n}_{i+1} + 2u^{n}_{i-1} - u^{n}_{i-2}\\right)\n",
    "\\end{align}"
   ]
  },
  {
   "cell_type": "code",
   "execution_count": 16,
   "metadata": {},
   "outputs": [],
   "source": [
    "Monom.cmp = Monom.TOPdeglex\n",
    "pda_n, pda_clp = (6, 6), (3, 3)\n",
    "pda_p = Rational(0, 2), Rational(0, 1)"
   ]
  },
  {
   "cell_type": "code",
   "execution_count": 17,
   "metadata": {},
   "outputs": [
    {
     "data": {
      "image/png": "[encoded data removed]",
      "text/latex": [
       "$\\displaystyle 6 u u_{x} + u_{t} + u_{xxx}$"
      ],
      "text/plain": [
       "6⋅u⋅u_{x} + u_{t} + u_{xxx}"
      ]
     },
     "metadata": {},
     "output_type": "display_data"
    },
    {
     "name": "stdout",
     "output_type": "stream",
     "text": [
      "h^2 =>\n"
     ]
    },
    {
     "data": {
      "image/png": "[encoded data removed]",
      "text/latex": [
       "$\\displaystyle u u_{xxx} + \\frac{u_{xxxxx}}{4} + 2 u_{xx} u_{x}$"
      ],
      "text/plain": [
       "            u_{xxxxx}                 \n",
       "u⋅u_{xxx} + ───────── + 2⋅u_{xx}⋅u_{x}\n",
       "                4                     "
      ]
     },
     "metadata": {},
     "output_type": "display_data"
    },
    {
     "name": "stdout",
     "output_type": "stream",
     "text": [
      "tau^2 =>\n"
     ]
    },
    {
     "data": {
      "image/png": "[encoded data removed]",
      "text/latex": [
       "$\\displaystyle \\frac{u_{ttt}}{6}$"
      ],
      "text/plain": [
       "u_{ttt}\n",
       "───────\n",
       "   6   "
      ]
     },
     "metadata": {},
     "output_type": "display_data"
    },
    {
     "name": "stdout",
     "output_type": "stream",
     "text": [
      "6 u u_{x} + u_{t} + u_{xxx}\n",
      " + h^2\\Big(\n",
      "u u_{xxx} + \\frac{u_{xxxxx}}{4} + 2 u_{xx} u_{x}\n",
      "\\Big)\n",
      " + \\tau^2\\Big(\n",
      "\\frac{u_{ttt}}{6}\n",
      "\\Big)\n",
      "(3, 2)\n"
     ]
    }
   ],
   "source": [
    "F = clip(Dt(u) + 2*(T(u, 0, 1) + T(u, 0, 0) + T(u, 0, -1))*D2x(u, 0) + D2xxx(u, 0))\n",
    "prn(F)\n",
    "prnlatex(F)"
   ]
  },
  {
   "cell_type": "code",
   "execution_count": 18,
   "metadata": {},
   "outputs": [
    {
     "data": {
      "image/png": "[encoded data removed]",
      "text/latex": [
       "$\\displaystyle 6 u u_{x} + u_{t} + u_{xxx}$"
      ],
      "text/plain": [
       "6⋅u⋅u_{x} + u_{t} + u_{xxx}"
      ]
     },
     "metadata": {},
     "output_type": "display_data"
    },
    {
     "name": "stdout",
     "output_type": "stream",
     "text": [
      "h^2 =>\n"
     ]
    },
    {
     "data": {
      "image/png": "[encoded data removed]",
      "text/latex": [
       "$\\displaystyle 3 u^{2} u_{x} + \\frac{u u_{t}}{2} - \\frac{u_{txx}}{4} - \\frac{5 u_{xx} u_{x}}{2}$"
      ],
      "text/plain": [
       "   2         u⋅u_{t}   u_{txx}   5⋅u_{xx}⋅u_{x}\n",
       "3⋅u ⋅u_{x} + ─────── - ─────── - ──────────────\n",
       "                2         4            2       "
      ]
     },
     "metadata": {},
     "output_type": "display_data"
    },
    {
     "name": "stdout",
     "output_type": "stream",
     "text": [
      "tau^2 =>\n"
     ]
    },
    {
     "data": {
      "image/png": "[encoded data removed]",
      "text/latex": [
       "$\\displaystyle \\frac{u_{ttt}}{6}$"
      ],
      "text/plain": [
       "u_{ttt}\n",
       "───────\n",
       "   6   "
      ]
     },
     "metadata": {},
     "output_type": "display_data"
    },
    {
     "name": "stdout",
     "output_type": "stream",
     "text": [
      "6 u u_{x} + u_{t} + u_{xxx}\n",
      " + h^2\\Big(\n",
      "3 u^{2} u_{x} + \\frac{u u_{t}}{2} - \\frac{u_{txx}}{4} - \\frac{5 u_{xx} u_{x}}{2}\n",
      "\\Big)\n",
      " + \\tau^2\\Big(\n",
      "\\frac{u_{ttt}}{6}\n",
      "\\Big)\n",
      "(4, 2)\n",
      "h^2 =>\n",
      "3*fi[2]**2*fi_x + fi[2]*fi_t/2 - fi_txx/4 - 5*fi_xx*fi_x/2\n",
      "tau^2 =>\n",
      "fi_ttt/6\n"
     ]
    }
   ],
   "source": [
    "Ffda = NF(F, [u.diff(x, 3)], [F], head=False)\n",
    "prn(Ffda)\n",
    "prnlatex(Ffda)\n",
    "prnP(Ffda)"
   ]
  },
  {
   "cell_type": "code",
   "execution_count": 19,
   "metadata": {},
   "outputs": [
    {
     "data": {
      "image/png": "[encoded data removed]",
      "text/latex": [
       "$\\displaystyle 0$"
      ],
      "text/plain": [
       "0"
      ]
     },
     "metadata": {},
     "output_type": "display_data"
    }
   ],
   "source": [
    "display(Ffda[0][1].subs({u: ex1}).doit().simplify())"
   ]
  },
  {
   "cell_type": "code",
   "execution_count": 20,
   "metadata": {},
   "outputs": [
    {
     "data": {
      "image/png": "[encoded data removed]",
      "text/latex": [
       "$\\displaystyle - \\frac{k^{5} \\left(D \\sinh^{2}{\\left(\\xi \\right)} - 4 D \\cosh{\\left(\\xi \\right)} - 4 D + \\frac{k^{2} \\sinh^{2}{\\left(\\xi \\right)}}{4} - 4 k^{2} \\cosh{\\left(\\xi \\right)} + \\frac{13 k^{2}}{2}\\right) \\sinh{\\left(\\xi \\right)}}{\\left(\\cosh{\\left(\\xi \\right)} + 1\\right)^{4}}$"
      ],
      "text/plain": [
       "    ⎛                                  2     2                         2⎞         \n",
       "  5 ⎜      2                          k ⋅sinh (ξ)      2           13⋅k ⎟         \n",
       "-k ⋅⎜D⋅sinh (ξ) - 4⋅D⋅cosh(ξ) - 4⋅D + ─────────── - 4⋅k ⋅cosh(ξ) + ─────⎟⋅sinh(ξ) \n",
       "    ⎝                                      4                         2  ⎠         \n",
       "──────────────────────────────────────────────────────────────────────────────────\n",
       "                                               4                                  \n",
       "                                  (cosh(ξ) + 1)                                   "
      ]
     },
     "metadata": {},
     "output_type": "display_data"
    },
    {
     "name": "stdout",
     "output_type": "stream",
     "text": [
      "- \\frac{k^{5} \\left(D \\sinh^{2}{\\left(\\xi \\right)} - 4 D \\cosh{\\left(\\xi \\right)} - 4 D + \\frac{k^{2} \\sinh^{2}{\\left(\\xi \\right)}}{4} - 4 k^{2} \\cosh{\\left(\\xi \\right)} + \\frac{13 k^{2}}{2}\\right) \\sinh{\\left(\\xi \\right)}}{\\left(\\cosh{\\left(\\xi \\right)} + 1\\right)^{4}}\n",
      "-k**5*(D*sinh(xi)**2 - 4*D*cosh(xi) - 4*D + k**2*sinh(xi)**2/4 - 4*k**2*cosh(xi) + 13*k**2/2)*sinh(xi)/(cosh(xi) + 1)**4\n"
     ]
    }
   ],
   "source": [
    "res = Ffda[1][1].subs({u: ex1}).doit().subs({x: xi/k + (6*D + k**2)*t}).trigsimp()\n",
    "display(res)\n",
    "print(latex(res))\n",
    "print(res)"
   ]
  },
  {
   "cell_type": "code",
   "execution_count": 21,
   "metadata": {},
   "outputs": [
    {
     "data": {
      "image/png": "[encoded data removed]",
      "text/latex": [
       "$\\displaystyle \\frac{k^{5} \\left(6 D + k^{2}\\right)^{3} \\left(\\cosh{\\left(\\xi \\right)} - 5\\right) \\sinh{\\left(\\xi \\right)}}{6 \\left(\\cosh{\\left(\\xi \\right)} + 1\\right)^{3}}$"
      ],
      "text/plain": [
       "             3                      \n",
       " 5 ⎛       2⎞                       \n",
       "k ⋅⎝6⋅D + k ⎠ ⋅(cosh(ξ) - 5)⋅sinh(ξ)\n",
       "────────────────────────────────────\n",
       "                         3          \n",
       "          6⋅(cosh(ξ) + 1)           "
      ]
     },
     "metadata": {},
     "output_type": "display_data"
    },
    {
     "name": "stdout",
     "output_type": "stream",
     "text": [
      "\\frac{k^{5} \\left(6 D + k^{2}\\right)^{3} \\left(\\cosh{\\left(\\xi \\right)} - 5\\right) \\sinh{\\left(\\xi \\right)}}{6 \\left(\\cosh{\\left(\\xi \\right)} + 1\\right)^{3}}\n",
      "k**5*(6*D + k**2)**3*(cosh(xi) - 5)*sinh(xi)/(6*(cosh(xi) + 1)**3)\n"
     ]
    }
   ],
   "source": [
    "res = Ffda[2][1].subs({u: ex1}).doit().subs({x: xi/k + (6*D + k**2)*t}).simplify()\n",
    "display(res)\n",
    "print(latex(res))\n",
    "print(res)"
   ]
  },
  {
   "cell_type": "code",
   "execution_count": 22,
   "metadata": {},
   "outputs": [
    {
     "data": {
      "image/png": "[encoded data removed]",
      "text/latex": [
       "$\\displaystyle 0$"
      ],
      "text/plain": [
       "0"
      ]
     },
     "metadata": {},
     "output_type": "display_data"
    }
   ],
   "source": [
    "display(Ffda[0][1].subs({u: ex2}).doit().simplify())"
   ]
  },
  {
   "cell_type": "code",
   "execution_count": 23,
   "metadata": {},
   "outputs": [
    {
     "data": {
      "image/png": "[encoded data removed]",
      "text/latex": [
       "$\\displaystyle 8 k^{7} \\left(\\tanh{\\left(\\xi \\right)} - 1\\right) \\left(\\tanh{\\left(\\xi \\right)} + 1\\right) \\left(21 \\tanh^{4}{\\left(\\xi \\right)} - 24 \\tanh^{2}{\\left(\\xi \\right)} + 5\\right) \\tanh{\\left(\\xi \\right)}$"
      ],
      "text/plain": [
       "   7                             ⎛       4             2       ⎞        \n",
       "8⋅k ⋅(tanh(ξ) - 1)⋅(tanh(ξ) + 1)⋅⎝21⋅tanh (ξ) - 24⋅tanh (ξ) + 5⎠⋅tanh(ξ)"
      ]
     },
     "metadata": {},
     "output_type": "display_data"
    },
    {
     "name": "stdout",
     "output_type": "stream",
     "text": [
      "8 k^{7} \\left(\\tanh{\\left(\\xi \\right)} - 1\\right) \\left(\\tanh{\\left(\\xi \\right)} + 1\\right) \\left(21 \\tanh^{4}{\\left(\\xi \\right)} - 24 \\tanh^{2}{\\left(\\xi \\right)} + 5\\right) \\tanh{\\left(\\xi \\right)}\n",
      "8*k**7*(tanh(xi) - 1)*(tanh(xi) + 1)*(21*tanh(xi)**4 - 24*tanh(xi)**2 + 5)*tanh(xi)\n"
     ]
    }
   ],
   "source": [
    "res = Ffda[1][1].subs({u: ex2}).doit().subs({x: xi/k + 4*k**2*t}).combsimp()\n",
    "display(res)\n",
    "print(latex(res))\n",
    "print(res)"
   ]
  },
  {
   "cell_type": "code",
   "execution_count": 24,
   "metadata": {
    "scrolled": true
   },
   "outputs": [
    {
     "data": {
      "image/png": "[encoded data removed]",
      "text/latex": [
       "$\\displaystyle - \\frac{512 k^{11} \\left(\\tanh{\\left(\\xi \\right)} - 1\\right) \\left(\\tanh{\\left(\\xi \\right)} + 1\\right) \\left(3 \\tanh^{2}{\\left(\\xi \\right)} - 2\\right) \\tanh{\\left(\\xi \\right)}}{3}$"
      ],
      "text/plain": [
       "      11                             ⎛      2       ⎞         \n",
       "-512⋅k  ⋅(tanh(ξ) - 1)⋅(tanh(ξ) + 1)⋅⎝3⋅tanh (ξ) - 2⎠⋅tanh(ξ) \n",
       "──────────────────────────────────────────────────────────────\n",
       "                              3                               "
      ]
     },
     "metadata": {},
     "output_type": "display_data"
    },
    {
     "name": "stdout",
     "output_type": "stream",
     "text": [
      "- \\frac{512 k^{11} \\left(\\tanh{\\left(\\xi \\right)} - 1\\right) \\left(\\tanh{\\left(\\xi \\right)} + 1\\right) \\left(3 \\tanh^{2}{\\left(\\xi \\right)} - 2\\right) \\tanh{\\left(\\xi \\right)}}{3}\n",
      "-512*k**11*(tanh(xi) - 1)*(tanh(xi) + 1)*(3*tanh(xi)**2 - 2)*tanh(xi)/3\n"
     ]
    }
   ],
   "source": [
    "res = Ffda[2][1].subs({u: ex2}).doit().subs({x: xi/k + 4*k**2*t}).combsimp()\n",
    "display(res)\n",
    "print(latex(res))\n",
    "print(res)"
   ]
  },
  {
   "cell_type": "markdown",
   "metadata": {},
   "source": [
    "we explicit scheme with $O(\\tau^2, h^2)$ approximation:\n",
    "\\begin{align}\n",
    " u^{n+1}_{i} =& u^{n-1}_{i} -\\dfrac{\\alpha \\tau}{h}u^{n}_{i}\\left(u^{n}_{i+1} - u^{n}_{i-1}\\right)\\\\\n",
    " & - \\dfrac{\\beta \\tau}{h^3}\\left(u^{n}_{i+2} - 2u^{n}_{i+1} + 2u^{n}_{i-1} - u^{n}_{i-2}\\right) \\tag{1.80}\n",
    "\\end{align}\n",
    "\n",
    "for sufficiently small steps\n",
    "\\begin{equation}\n",
    "\\tau  \\leq \\dfrac{2h^3}{3\\sqrt{3}} \\cong 0.384 h^3 \\tag{1.81}\n",
    "\\end{equation}"
   ]
  },
  {
   "cell_type": "code",
   "execution_count": 25,
   "metadata": {},
   "outputs": [],
   "source": [
    "Monom.cmp = Monom.TOPdeglex\n",
    "pda_n, pda_clp = (6, 6), (3, 3)\n",
    "pda_p = Rational(0, 2), Rational(0, 1)"
   ]
  },
  {
   "cell_type": "code",
   "execution_count": 26,
   "metadata": {},
   "outputs": [
    {
     "data": {
      "image/png": "[encoded data removed]",
      "text/latex": [
       "$\\displaystyle 6 u u_{x} + u_{t} + u_{xxx}$"
      ],
      "text/plain": [
       "6⋅u⋅u_{x} + u_{t} + u_{xxx}"
      ]
     },
     "metadata": {},
     "output_type": "display_data"
    },
    {
     "name": "stdout",
     "output_type": "stream",
     "text": [
      "h^2 =>\n"
     ]
    },
    {
     "data": {
      "image/png": "[encoded data removed]",
      "text/latex": [
       "$\\displaystyle u u_{xxx} + \\frac{u_{xxxxx}}{4}$"
      ],
      "text/plain": [
       "            u_{xxxxx}\n",
       "u⋅u_{xxx} + ─────────\n",
       "                4    "
      ]
     },
     "metadata": {},
     "output_type": "display_data"
    },
    {
     "name": "stdout",
     "output_type": "stream",
     "text": [
      "tau^2 =>\n"
     ]
    },
    {
     "data": {
      "image/png": "[encoded data removed]",
      "text/latex": [
       "$\\displaystyle \\frac{u_{ttt}}{6}$"
      ],
      "text/plain": [
       "u_{ttt}\n",
       "───────\n",
       "   6   "
      ]
     },
     "metadata": {},
     "output_type": "display_data"
    },
    {
     "name": "stdout",
     "output_type": "stream",
     "text": [
      "6 u u_{x} + u_{t} + u_{xxx}\n",
      " + h^2\\Big(\n",
      "u u_{xxx} + \\frac{u_{xxxxx}}{4}\n",
      "\\Big)\n",
      " + \\tau^2\\Big(\n",
      "\\frac{u_{ttt}}{6}\n",
      "\\Big)\n",
      "(2, 2)\n"
     ]
    }
   ],
   "source": [
    "F = clip(Dt(u) + 6*T(u, 0, 0)*D2x(u, 0) + D2xxx(u, 0))\n",
    "prn(F)\n",
    "prnlatex(F)"
   ]
  },
  {
   "cell_type": "code",
   "execution_count": 27,
   "metadata": {},
   "outputs": [
    {
     "data": {
      "image/png": "[encoded data removed]",
      "text/latex": [
       "$\\displaystyle 6 u u_{x} + u_{t} + u_{xxx}$"
      ],
      "text/plain": [
       "6⋅u⋅u_{x} + u_{t} + u_{xxx}"
      ]
     },
     "metadata": {},
     "output_type": "display_data"
    },
    {
     "name": "stdout",
     "output_type": "stream",
     "text": [
      "h^2 =>\n"
     ]
    },
    {
     "data": {
      "image/png": "[encoded data removed]",
      "text/latex": [
       "$\\displaystyle 3 u^{2} u_{x} + \\frac{u u_{t}}{2} - \\frac{u_{txx}}{4} - \\frac{9 u_{xx} u_{x}}{2}$"
      ],
      "text/plain": [
       "   2         u⋅u_{t}   u_{txx}   9⋅u_{xx}⋅u_{x}\n",
       "3⋅u ⋅u_{x} + ─────── - ─────── - ──────────────\n",
       "                2         4            2       "
      ]
     },
     "metadata": {},
     "output_type": "display_data"
    },
    {
     "name": "stdout",
     "output_type": "stream",
     "text": [
      "tau^2 =>\n"
     ]
    },
    {
     "data": {
      "image/png": "[encoded data removed]",
      "text/latex": [
       "$\\displaystyle \\frac{u_{ttt}}{6}$"
      ],
      "text/plain": [
       "u_{ttt}\n",
       "───────\n",
       "   6   "
      ]
     },
     "metadata": {},
     "output_type": "display_data"
    },
    {
     "name": "stdout",
     "output_type": "stream",
     "text": [
      "6 u u_{x} + u_{t} + u_{xxx}\n",
      " + h^2\\Big(\n",
      "3 u^{2} u_{x} + \\frac{u u_{t}}{2} - \\frac{u_{txx}}{4} - \\frac{9 u_{xx} u_{x}}{2}\n",
      "\\Big)\n",
      " + \\tau^2\\Big(\n",
      "\\frac{u_{ttt}}{6}\n",
      "\\Big)\n",
      "(4, 2)\n",
      "h^2 =>\n",
      "3*fi[2]**2*fi_x + fi[2]*fi_t/2 - fi_txx/4 - 9*fi_xx*fi_x/2\n",
      "tau^2 =>\n",
      "fi_ttt/6\n"
     ]
    }
   ],
   "source": [
    "Ffda = NF(F, [u.diff(x, 3)], [F], head=False)\n",
    "prn(Ffda)\n",
    "prnlatex(Ffda)\n",
    "prnP(Ffda)"
   ]
  },
  {
   "cell_type": "code",
   "execution_count": 28,
   "metadata": {},
   "outputs": [
    {
     "data": {
      "image/png": "[encoded data removed]",
      "text/latex": [
       "$\\displaystyle 0$"
      ],
      "text/plain": [
       "0"
      ]
     },
     "metadata": {},
     "output_type": "display_data"
    }
   ],
   "source": [
    "display(Ffda[0][1].subs({u: ex1}).doit().simplify())"
   ]
  },
  {
   "cell_type": "code",
   "execution_count": 29,
   "metadata": {},
   "outputs": [
    {
     "data": {
      "image/png": "[encoded data removed]",
      "text/latex": [
       "$\\displaystyle - \\frac{k^{5} \\left(D \\sinh^{2}{\\left(\\xi \\right)} - 4 D \\cosh{\\left(\\xi \\right)} - 4 D + \\frac{k^{2} \\sinh^{2}{\\left(\\xi \\right)}}{4} - 6 k^{2} \\cosh{\\left(\\xi \\right)} + \\frac{21 k^{2}}{2}\\right) \\sinh{\\left(\\xi \\right)}}{\\left(\\cosh{\\left(\\xi \\right)} + 1\\right)^{4}}$"
      ],
      "text/plain": [
       "    ⎛                                  2     2                         2⎞         \n",
       "  5 ⎜      2                          k ⋅sinh (ξ)      2           21⋅k ⎟         \n",
       "-k ⋅⎜D⋅sinh (ξ) - 4⋅D⋅cosh(ξ) - 4⋅D + ─────────── - 6⋅k ⋅cosh(ξ) + ─────⎟⋅sinh(ξ) \n",
       "    ⎝                                      4                         2  ⎠         \n",
       "──────────────────────────────────────────────────────────────────────────────────\n",
       "                                               4                                  \n",
       "                                  (cosh(ξ) + 1)                                   "
      ]
     },
     "metadata": {},
     "output_type": "display_data"
    },
    {
     "name": "stdout",
     "output_type": "stream",
     "text": [
      "- \\frac{k^{5} \\left(D \\sinh^{2}{\\left(\\xi \\right)} - 4 D \\cosh{\\left(\\xi \\right)} - 4 D + \\frac{k^{2} \\sinh^{2}{\\left(\\xi \\right)}}{4} - 6 k^{2} \\cosh{\\left(\\xi \\right)} + \\frac{21 k^{2}}{2}\\right) \\sinh{\\left(\\xi \\right)}}{\\left(\\cosh{\\left(\\xi \\right)} + 1\\right)^{4}}\n",
      "-k**5*(D*sinh(xi)**2 - 4*D*cosh(xi) - 4*D + k**2*sinh(xi)**2/4 - 6*k**2*cosh(xi) + 21*k**2/2)*sinh(xi)/(cosh(xi) + 1)**4\n"
     ]
    }
   ],
   "source": [
    "res = Ffda[1][1].subs({u: ex1}).doit().subs({x: xi/k + (6*D + k**2)*t}).trigsimp()\n",
    "display(res)\n",
    "print(latex(res))\n",
    "print(res)"
   ]
  },
  {
   "cell_type": "code",
   "execution_count": 30,
   "metadata": {},
   "outputs": [
    {
     "data": {
      "image/png": "[encoded data removed]",
      "text/latex": [
       "$\\displaystyle \\frac{k^{5} \\left(6 D + k^{2}\\right)^{3} \\left(\\cosh{\\left(\\xi \\right)} - 5\\right) \\sinh{\\left(\\xi \\right)}}{6 \\left(\\cosh{\\left(\\xi \\right)} + 1\\right)^{3}}$"
      ],
      "text/plain": [
       "             3                      \n",
       " 5 ⎛       2⎞                       \n",
       "k ⋅⎝6⋅D + k ⎠ ⋅(cosh(ξ) - 5)⋅sinh(ξ)\n",
       "────────────────────────────────────\n",
       "                         3          \n",
       "          6⋅(cosh(ξ) + 1)           "
      ]
     },
     "metadata": {},
     "output_type": "display_data"
    },
    {
     "name": "stdout",
     "output_type": "stream",
     "text": [
      "\\frac{k^{5} \\left(6 D + k^{2}\\right)^{3} \\left(\\cosh{\\left(\\xi \\right)} - 5\\right) \\sinh{\\left(\\xi \\right)}}{6 \\left(\\cosh{\\left(\\xi \\right)} + 1\\right)^{3}}\n",
      "k**5*(6*D + k**2)**3*(cosh(xi) - 5)*sinh(xi)/(6*(cosh(xi) + 1)**3)\n"
     ]
    }
   ],
   "source": [
    "res = Ffda[2][1].subs({u: ex1}).doit().subs({x: xi/k + (6*D + k**2)*t}).simplify()\n",
    "display(res)\n",
    "print(latex(res))\n",
    "print(res)"
   ]
  },
  {
   "cell_type": "code",
   "execution_count": 31,
   "metadata": {},
   "outputs": [
    {
     "data": {
      "image/png": "[encoded data removed]",
      "text/latex": [
       "$\\displaystyle 0$"
      ],
      "text/plain": [
       "0"
      ]
     },
     "metadata": {},
     "output_type": "display_data"
    }
   ],
   "source": [
    "display(Ffda[0][1].subs({u: ex2}).doit().simplify())"
   ]
  },
  {
   "cell_type": "code",
   "execution_count": 32,
   "metadata": {},
   "outputs": [
    {
     "data": {
      "image/png": "[encoded data removed]",
      "text/latex": [
       "$\\displaystyle 8 k^{7} \\left(\\tanh{\\left(\\xi \\right)} - 1\\right) \\left(\\tanh{\\left(\\xi \\right)} + 1\\right) \\left(33 \\tanh^{4}{\\left(\\xi \\right)} - 40 \\tanh^{2}{\\left(\\xi \\right)} + 9\\right) \\tanh{\\left(\\xi \\right)}$"
      ],
      "text/plain": [
       "   7                             ⎛       4             2       ⎞        \n",
       "8⋅k ⋅(tanh(ξ) - 1)⋅(tanh(ξ) + 1)⋅⎝33⋅tanh (ξ) - 40⋅tanh (ξ) + 9⎠⋅tanh(ξ)"
      ]
     },
     "metadata": {},
     "output_type": "display_data"
    },
    {
     "name": "stdout",
     "output_type": "stream",
     "text": [
      "8 k^{7} \\left(\\tanh{\\left(\\xi \\right)} - 1\\right) \\left(\\tanh{\\left(\\xi \\right)} + 1\\right) \\left(33 \\tanh^{4}{\\left(\\xi \\right)} - 40 \\tanh^{2}{\\left(\\xi \\right)} + 9\\right) \\tanh{\\left(\\xi \\right)}\n",
      "8*k**7*(tanh(xi) - 1)*(tanh(xi) + 1)*(33*tanh(xi)**4 - 40*tanh(xi)**2 + 9)*tanh(xi)\n"
     ]
    }
   ],
   "source": [
    "res = Ffda[1][1].subs({u: ex2}).doit().subs({x: xi/k + 4*k**2*t}).combsimp()\n",
    "display(res)\n",
    "print(latex(res))\n",
    "print(res)"
   ]
  },
  {
   "cell_type": "code",
   "execution_count": 33,
   "metadata": {
    "scrolled": true
   },
   "outputs": [
    {
     "data": {
      "image/png": "[encoded data removed]",
      "text/latex": [
       "$\\displaystyle - \\frac{512 k^{11} \\left(\\tanh{\\left(\\xi \\right)} - 1\\right) \\left(\\tanh{\\left(\\xi \\right)} + 1\\right) \\left(3 \\tanh^{2}{\\left(\\xi \\right)} - 2\\right) \\tanh{\\left(\\xi \\right)}}{3}$"
      ],
      "text/plain": [
       "      11                             ⎛      2       ⎞         \n",
       "-512⋅k  ⋅(tanh(ξ) - 1)⋅(tanh(ξ) + 1)⋅⎝3⋅tanh (ξ) - 2⎠⋅tanh(ξ) \n",
       "──────────────────────────────────────────────────────────────\n",
       "                              3                               "
      ]
     },
     "metadata": {},
     "output_type": "display_data"
    },
    {
     "name": "stdout",
     "output_type": "stream",
     "text": [
      "- \\frac{512 k^{11} \\left(\\tanh{\\left(\\xi \\right)} - 1\\right) \\left(\\tanh{\\left(\\xi \\right)} + 1\\right) \\left(3 \\tanh^{2}{\\left(\\xi \\right)} - 2\\right) \\tanh{\\left(\\xi \\right)}}{3}\n",
      "-512*k**11*(tanh(xi) - 1)*(tanh(xi) + 1)*(3*tanh(xi)**2 - 2)*tanh(xi)/3\n"
     ]
    }
   ],
   "source": [
    "res = Ffda[2][1].subs({u: ex2}).doit().subs({x: xi/k + 4*k**2*t}).combsimp()\n",
    "display(res)\n",
    "print(latex(res))\n",
    "print(res)"
   ]
  },
  {
   "cell_type": "markdown",
   "metadata": {},
   "source": [
    "we explicit scheme with $O(\\tau^2, h^4)$ approximation:\n",
    "\\begin{align}\n",
    " u^{n+1}_{i} =& u^{n-1}_{i} \n",
    "    +\\dfrac{\\tau}{h}u^{n}_{i}\\left(u^{n}_{i+2} - 8u^{n}_{i+1} + 8u^{n}_{i-1} - u^{n}_{i-2}\\right)\\\\\n",
    " & + \\dfrac{\\tau}{4h^3}\\left(u^{n}_{i+3} - 8u^{n}_{i+2} + 13u^{n}_{i+1} - \n",
    "                                   13u^{n}_{i-1} + 8u^{n}_{i-2} - u^{n}_{i-3}\\right) \\tag{1.82}\n",
    "\\end{align}\n",
    "\n",
    "for sufficiently small steps\n",
    "\\begin{equation}\n",
    "\\tau  \\leq \\dfrac{108h^3}{(43 + 7\\sqrt{73})\\sqrt{10\\sqrt{73} - 62}} \\cong 0.216 h^3 \\tag{1.83}\n",
    "\\end{equation}"
   ]
  },
  {
   "cell_type": "code",
   "execution_count": 34,
   "metadata": {},
   "outputs": [],
   "source": [
    "def D4x(a, i):\n",
    "    return -(T(a, i, 2) - 8*T(a, i, 1) + 8*T(a, i, -1) - T(a, i, -2))/(12*h)\n",
    "def D4xxx(a, i):\n",
    "    return -(T(a, i, 3) - 8*T(a, i, 2) + 13*T(a, i, 1) -\\\n",
    "             13*T(a, i, -1) + 8*T(a, i, -2) - T(a, i, -3))/(8*h**3)"
   ]
  },
  {
   "cell_type": "code",
   "execution_count": 35,
   "metadata": {},
   "outputs": [],
   "source": [
    "Monom.cmp = Monom.TOPdeglex\n",
    "pda_n, pda_clp = (6, 8), (3, 5)\n",
    "pda_p = Rational(0, 2), Rational(0, 1)"
   ]
  },
  {
   "cell_type": "code",
   "execution_count": 36,
   "metadata": {},
   "outputs": [
    {
     "data": {
      "image/png": "[encoded data removed]",
      "text/latex": [
       "$\\displaystyle 6 u u_{x} + u_{t} + u_{xxx}$"
      ],
      "text/plain": [
       "6⋅u⋅u_{x} + u_{t} + u_{xxx}"
      ]
     },
     "metadata": {},
     "output_type": "display_data"
    },
    {
     "name": "stdout",
     "output_type": "stream",
     "text": [
      "h^4 =>\n"
     ]
    },
    {
     "data": {
      "image/png": "[encoded data removed]",
      "text/latex": [
       "$\\displaystyle - \\frac{u u_{xxxxx}}{5} - \\frac{7 u_{xxxxxxx}}{120}$"
      ],
      "text/plain": [
       "  u⋅u_{xxxxx}   7⋅u_{xxxxxxx}\n",
       "- ─────────── - ─────────────\n",
       "       5             120     "
      ]
     },
     "metadata": {},
     "output_type": "display_data"
    },
    {
     "name": "stdout",
     "output_type": "stream",
     "text": [
      "tau^2 =>\n"
     ]
    },
    {
     "data": {
      "image/png": "[encoded data removed]",
      "text/latex": [
       "$\\displaystyle \\frac{u_{ttt}}{6}$"
      ],
      "text/plain": [
       "u_{ttt}\n",
       "───────\n",
       "   6   "
      ]
     },
     "metadata": {},
     "output_type": "display_data"
    },
    {
     "name": "stdout",
     "output_type": "stream",
     "text": [
      "6 u u_{x} + u_{t} + u_{xxx}\n",
      " + h^4\\Big(\n",
      "- \\frac{u u_{xxxxx}}{5} - \\frac{7 u_{xxxxxxx}}{120}\n",
      "\\Big)\n",
      " + \\tau^2\\Big(\n",
      "\\frac{u_{ttt}}{6}\n",
      "\\Big)\n",
      "(2, 2)\n"
     ]
    }
   ],
   "source": [
    "F = clip(Dt(u) + 6*T(u, 0, 0)*D4x(u, 0) + D4xxx(u, 0))\n",
    "prn(F)\n",
    "prnlatex(F)"
   ]
  },
  {
   "cell_type": "code",
   "execution_count": 37,
   "metadata": {},
   "outputs": [
    {
     "data": {
      "image/png": "[encoded data removed]",
      "text/latex": [
       "$\\displaystyle 6 u u_{x} + u_{t} + u_{xxx}$"
      ],
      "text/plain": [
       "6⋅u⋅u_{x} + u_{t} + u_{xxx}"
      ]
     },
     "metadata": {},
     "output_type": "display_data"
    },
    {
     "name": "stdout",
     "output_type": "stream",
     "text": [
      "h^4 =>\n"
     ]
    },
    {
     "data": {
      "image/png": "[encoded data removed]",
      "text/latex": [
       "$\\displaystyle \\frac{27 u^{3} u_{x}}{5} + \\frac{9 u^{2} u_{t}}{10} - \\frac{u u_{txx}}{2} - \\frac{171 u u_{xx} u_{x}}{5} - \\frac{7 u_{ttx}}{120} - \\frac{49 u_{tx} u_{x}}{20} - \\frac{77 u_{t} u_{xx}}{20} - \\frac{21 u_{x}^{3}}{2}$"
      ],
      "text/plain": [
       "    3            2                                                                                   \n",
       "27⋅u ⋅u_{x}   9⋅u ⋅u_{t}   u⋅u_{txx}   171⋅u⋅u_{xx}⋅u_{x}   7⋅u_{ttx}   49⋅u_{tx}⋅u_{x}   77⋅u_{t}⋅u_\n",
       "─────────── + ────────── - ───────── - ────────────────── - ───────── - ─────────────── - ───────────\n",
       "     5            10           2               5               120             20                20  \n",
       "\n",
       "               3\n",
       "{xx}   21⋅u_{x} \n",
       "──── - ─────────\n",
       "           2    "
      ]
     },
     "metadata": {},
     "output_type": "display_data"
    },
    {
     "name": "stdout",
     "output_type": "stream",
     "text": [
      "tau^2 =>\n"
     ]
    },
    {
     "data": {
      "image/png": "[encoded data removed]",
      "text/latex": [
       "$\\displaystyle \\frac{u_{ttt}}{6}$"
      ],
      "text/plain": [
       "u_{ttt}\n",
       "───────\n",
       "   6   "
      ]
     },
     "metadata": {},
     "output_type": "display_data"
    },
    {
     "name": "stdout",
     "output_type": "stream",
     "text": [
      "6 u u_{x} + u_{t} + u_{xxx}\n",
      " + h^4\\Big(\n",
      "\\frac{27 u^{3} u_{x}}{5} + \\frac{9 u^{2} u_{t}}{10} - \\frac{u u_{txx}}{2} - \\frac{171 u u_{xx} u_{x}}{5} - \\frac{7 u_{ttx}}{120} - \\frac{49 u_{tx} u_{x}}{20} - \\frac{77 u_{t} u_{xx}}{20} - \\frac{21 u_{x}^{3}}{2}\n",
      "\\Big)\n",
      " + \\tau^2\\Big(\n",
      "\\frac{u_{ttt}}{6}\n",
      "\\Big)\n",
      "(8, 2)\n",
      "h^4 =>\n",
      "27*fi[2]**3*fi_x/5 + 9*fi[2]**2*fi_t/10 - fi[2]*fi_txx/2 - 171*fi[2]*fi_xx*fi_x/5 - 7*fi_ttx/120 - 49*fi_tx*fi_x/20 - 77*fi_t*fi_xx/20 - 21*fi_x**3/2\n",
      "tau^2 =>\n",
      "fi_ttt/6\n"
     ]
    }
   ],
   "source": [
    "Ffda = NF(F, [u.diff(x, 3)], [F], head=False)\n",
    "prn(Ffda)\n",
    "prnlatex(Ffda)\n",
    "prnP(Ffda)"
   ]
  },
  {
   "cell_type": "code",
   "execution_count": 38,
   "metadata": {},
   "outputs": [
    {
     "data": {
      "image/png": "[encoded data removed]",
      "text/latex": [
       "$\\displaystyle 0$"
      ],
      "text/plain": [
       "0"
      ]
     },
     "metadata": {},
     "output_type": "display_data"
    }
   ],
   "source": [
    "display(Ffda[0][1].subs({u: ex1}).doit().simplify())"
   ]
  },
  {
   "cell_type": "code",
   "execution_count": 39,
   "metadata": {},
   "outputs": [
    {
     "data": {
      "image/png": "[encoded data removed]",
      "text/latex": [
       "$\\displaystyle \\frac{k^{7} \\cdot \\left(1302 D \\sinh{\\left(\\xi \\right)} + 402 D \\sinh{\\left(2 \\xi \\right)} - 162 D \\sinh{\\left(3 \\xi \\right)} + 3 D \\sinh{\\left(4 \\xi \\right)} - \\frac{33761 k^{2} \\sinh{\\left(\\xi \\right)}}{4} + \\frac{12817 k^{2} \\sinh{\\left(2 \\xi \\right)}}{4} - \\frac{837 k^{2} \\sinh{\\left(3 \\xi \\right)}}{4} + \\frac{7 k^{2} \\sinh{\\left(4 \\xi \\right)}}{8}\\right)}{120 \\left(\\cosh{\\left(\\xi \\right)} + 1\\right)^{5}}$"
      ],
      "text/plain": [
       "   ⎛                                                                            2                  2 \n",
       " 7 ⎜                                                                     33761⋅k ⋅sinh(ξ)   12817⋅k ⋅\n",
       "k ⋅⎜1302⋅D⋅sinh(ξ) + 402⋅D⋅sinh(2⋅ξ) - 162⋅D⋅sinh(3⋅ξ) + 3⋅D⋅sinh(4⋅ξ) - ──────────────── + ─────────\n",
       "   ⎝                                                                            4                   4\n",
       "─────────────────────────────────────────────────────────────────────────────────────────────────────\n",
       "                                                                                  5                  \n",
       "                                                                 120⋅(cosh(ξ) + 1)                   \n",
       "\n",
       "                 2                2          ⎞\n",
       "sinh(2⋅ξ)   837⋅k ⋅sinh(3⋅ξ)   7⋅k ⋅sinh(4⋅ξ)⎟\n",
       "───────── - ──────────────── + ──────────────⎟\n",
       "                   4                 8       ⎠\n",
       "──────────────────────────────────────────────\n",
       "                                              \n",
       "                                              "
      ]
     },
     "metadata": {},
     "output_type": "display_data"
    },
    {
     "name": "stdout",
     "output_type": "stream",
     "text": [
      "k**7*(1302*D*sinh(xi) + 402*D*sinh(2*xi) - 162*D*sinh(3*xi) + 3*D*sinh(4*xi) - 33761*k**2*sinh(xi)/4 + 12817*k**2*sinh(2*xi)/4 - 837*k**2*sinh(3*xi)/4 + 7*k**2*sinh(4*xi)/8)/(120*(cosh(xi) + 1)**5)\n"
     ]
    }
   ],
   "source": [
    "res = Ffda[1][1].subs({u: ex1}).doit().subs({x: xi/k + (6*D + k**2)*t}).simplify()\n",
    "display(res)\n",
    "print(res)"
   ]
  },
  {
   "cell_type": "code",
   "execution_count": 40,
   "metadata": {},
   "outputs": [
    {
     "data": {
      "image/png": "[encoded data removed]",
      "text/latex": [
       "$\\displaystyle \\frac{k^{5} \\left(6 D + k^{2}\\right)^{3} \\left(\\cosh{\\left(\\xi \\right)} - 5\\right) \\sinh{\\left(\\xi \\right)}}{6 \\left(\\cosh{\\left(\\xi \\right)} + 1\\right)^{3}}$"
      ],
      "text/plain": [
       "             3                      \n",
       " 5 ⎛       2⎞                       \n",
       "k ⋅⎝6⋅D + k ⎠ ⋅(cosh(ξ) - 5)⋅sinh(ξ)\n",
       "────────────────────────────────────\n",
       "                         3          \n",
       "          6⋅(cosh(ξ) + 1)           "
      ]
     },
     "metadata": {},
     "output_type": "display_data"
    },
    {
     "name": "stdout",
     "output_type": "stream",
     "text": [
      "\\frac{k^{5} \\left(6 D + k^{2}\\right)^{3} \\left(\\cosh{\\left(\\xi \\right)} - 5\\right) \\sinh{\\left(\\xi \\right)}}{6 \\left(\\cosh{\\left(\\xi \\right)} + 1\\right)^{3}}\n",
      "k**5*(6*D + k**2)**3*(cosh(xi) - 5)*sinh(xi)/(6*(cosh(xi) + 1)**3)\n"
     ]
    }
   ],
   "source": [
    "res = Ffda[2][1].subs({u: ex1}).doit().subs({x: xi/k + (6*D + k**2)*t}).simplify()\n",
    "display(res)\n",
    "print(latex(res))\n",
    "print(res)"
   ]
  },
  {
   "cell_type": "code",
   "execution_count": 41,
   "metadata": {},
   "outputs": [
    {
     "data": {
      "image/png": "[encoded data removed]",
      "text/latex": [
       "$\\displaystyle 0$"
      ],
      "text/plain": [
       "0"
      ]
     },
     "metadata": {},
     "output_type": "display_data"
    }
   ],
   "source": [
    "display(Ffda[0][1].subs({u: ex2}).doit().simplify())"
   ]
  },
  {
   "cell_type": "code",
   "execution_count": 42,
   "metadata": {},
   "outputs": [
    {
     "data": {
      "image/png": "[encoded data removed]",
      "text/latex": [
       "$\\displaystyle - \\frac{32 k^{9} \\left(\\tanh{\\left(\\xi \\right)} - 1\\right) \\left(\\tanh{\\left(\\xi \\right)} + 1\\right) \\left(1935 \\tanh^{6}{\\left(\\xi \\right)} - 3780 \\tanh^{4}{\\left(\\xi \\right)} + 2184 \\tanh^{2}{\\left(\\xi \\right)} - 332\\right) \\tanh{\\left(\\xi \\right)}}{15}$"
      ],
      "text/plain": [
       "     9                             ⎛         6               4               2         ⎞         \n",
       "-32⋅k ⋅(tanh(ξ) - 1)⋅(tanh(ξ) + 1)⋅⎝1935⋅tanh (ξ) - 3780⋅tanh (ξ) + 2184⋅tanh (ξ) - 332⎠⋅tanh(ξ) \n",
       "─────────────────────────────────────────────────────────────────────────────────────────────────\n",
       "                                                15                                               "
      ]
     },
     "metadata": {},
     "output_type": "display_data"
    },
    {
     "name": "stdout",
     "output_type": "stream",
     "text": [
      "- \\frac{32 k^{9} \\left(\\tanh{\\left(\\xi \\right)} - 1\\right) \\left(\\tanh{\\left(\\xi \\right)} + 1\\right) \\left(1935 \\tanh^{6}{\\left(\\xi \\right)} - 3780 \\tanh^{4}{\\left(\\xi \\right)} + 2184 \\tanh^{2}{\\left(\\xi \\right)} - 332\\right) \\tanh{\\left(\\xi \\right)}}{15}\n",
      "-32*k**9*(tanh(xi) - 1)*(tanh(xi) + 1)*(1935*tanh(xi)**6 - 3780*tanh(xi)**4 + 2184*tanh(xi)**2 - 332)*tanh(xi)/15\n"
     ]
    }
   ],
   "source": [
    "res = Ffda[1][1].subs({u: ex2}).doit().subs({x: xi/k + 4*k**2*t}).combsimp()\n",
    "display(res)\n",
    "print(latex(res))\n",
    "print(res)"
   ]
  },
  {
   "cell_type": "code",
   "execution_count": 43,
   "metadata": {},
   "outputs": [
    {
     "data": {
      "image/png": "[encoded data removed]",
      "text/latex": [
       "$\\displaystyle - \\frac{512 k^{11} \\left(\\tanh{\\left(\\xi \\right)} - 1\\right) \\left(\\tanh{\\left(\\xi \\right)} + 1\\right) \\left(3 \\tanh^{2}{\\left(\\xi \\right)} - 2\\right) \\tanh{\\left(\\xi \\right)}}{3}$"
      ],
      "text/plain": [
       "      11                             ⎛      2       ⎞         \n",
       "-512⋅k  ⋅(tanh(ξ) - 1)⋅(tanh(ξ) + 1)⋅⎝3⋅tanh (ξ) - 2⎠⋅tanh(ξ) \n",
       "──────────────────────────────────────────────────────────────\n",
       "                              3                               "
      ]
     },
     "metadata": {},
     "output_type": "display_data"
    },
    {
     "name": "stdout",
     "output_type": "stream",
     "text": [
      "- \\frac{512 k^{11} \\left(\\tanh{\\left(\\xi \\right)} - 1\\right) \\left(\\tanh{\\left(\\xi \\right)} + 1\\right) \\left(3 \\tanh^{2}{\\left(\\xi \\right)} - 2\\right) \\tanh{\\left(\\xi \\right)}}{3}\n",
      "-512*k**11*(tanh(xi) - 1)*(tanh(xi) + 1)*(3*tanh(xi)**2 - 2)*tanh(xi)/3\n"
     ]
    }
   ],
   "source": [
    "res = Ffda[2][1].subs({u: ex2}).doit().subs({x: xi/k + 4*k**2*t}).combsimp()\n",
    "display(res)\n",
    "print(latex(res))\n",
    "print(res)"
   ]
  },
  {
   "cell_type": "markdown",
   "metadata": {},
   "source": [
    "we Implicit   scheme with $O(\\tau^2, h^2)$ approximation:\n",
    "\\begin{multline*}\n",
    "\\frac{{u}_{j}^{n+1} -{u}_{j}^{n} }{\\tau }\n",
    " +\\frac{3}{2h}\\left[{u}_{j}^{n}\\left({u}_{j+1}^{n+1} - {u}_{j-1}^{n+1}\\right) +\n",
    "              {u}_{j}^{n+1}\\left({u}_{j+1}^{n} - {u}_{j-1}^{n}\\right)\\right] + \\\\\n",
    " +\\frac{1}{4h^{3}}\\left(\\left({u}_{j+2}^{n+1} -2{u}_{j+1}^{n+1} +2{u}_{j-1}^{n+1} -{u}_{j-2}^{n+1}\\right) +\n",
    "             \\left({u}_{j+2}^{n} -2{u}_{j}^{n} +2{u}_{j-1}^{n} -{u}_{j-2}^{n}\\right)\\right)=0.  \\tag{1.96}\n",
    "\\end{multline*}"
   ]
  },
  {
   "cell_type": "code",
   "execution_count": 44,
   "metadata": {},
   "outputs": [],
   "source": [
    "def Dt(a):\n",
    "    return (T(a, 1, 0) - T(a, 0, 0))/(tau)"
   ]
  },
  {
   "cell_type": "code",
   "execution_count": 45,
   "metadata": {},
   "outputs": [],
   "source": [
    "Monom.cmp = Monom.TOPdeglex\n",
    "pda_n, pda_clp = (6, 8), (3, 3)\n",
    "pda_p = Rational(1, 2), Rational(0, 1)"
   ]
  },
  {
   "cell_type": "code",
   "execution_count": 46,
   "metadata": {},
   "outputs": [
    {
     "data": {
      "image/png": "[encoded data removed]",
      "text/latex": [
       "$\\displaystyle 6 u u_{x} + u_{t} + u_{xxx}$"
      ],
      "text/plain": [
       "6⋅u⋅u_{x} + u_{t} + u_{xxx}"
      ]
     },
     "metadata": {},
     "output_type": "display_data"
    },
    {
     "name": "stdout",
     "output_type": "stream",
     "text": [
      "h^2 =>\n"
     ]
    },
    {
     "data": {
      "image/png": "[encoded data removed]",
      "text/latex": [
       "$\\displaystyle u u_{xxx} + \\frac{u_{xxxxx}}{4}$"
      ],
      "text/plain": [
       "            u_{xxxxx}\n",
       "u⋅u_{xxx} + ─────────\n",
       "                4    "
      ]
     },
     "metadata": {},
     "output_type": "display_data"
    },
    {
     "name": "stdout",
     "output_type": "stream",
     "text": [
      "tau^2 =>\n"
     ]
    },
    {
     "data": {
      "image/png": "[encoded data removed]",
      "text/latex": [
       "$\\displaystyle \\frac{3 u u_{ttx}}{4} + \\frac{u_{ttt}}{24} + \\frac{u_{ttxxx}}{8} + \\frac{3 u_{tt} u_{x}}{4} - \\frac{3 u_{tx} u_{t}}{2}$"
      ],
      "text/plain": [
       "3⋅u⋅u_{ttx}   u_{ttt}   u_{ttxxx}   3⋅u_{tt}⋅u_{x}   3⋅u_{tx}⋅u_{t}\n",
       "─────────── + ─────── + ───────── + ────────────── - ──────────────\n",
       "     4           24         8             4                2       "
      ]
     },
     "metadata": {},
     "output_type": "display_data"
    },
    {
     "name": "stdout",
     "output_type": "stream",
     "text": [
      "6 u u_{x} + u_{t} + u_{xxx}\n",
      " + h^2\\Big(\n",
      "u u_{xxx} + \\frac{u_{xxxxx}}{4}\n",
      "\\Big)\n",
      " + \\tau^2\\Big(\n",
      "\\frac{3 u u_{ttx}}{4} + \\frac{u_{ttt}}{24} + \\frac{u_{ttxxx}}{8} + \\frac{3 u_{tt} u_{x}}{4} - \\frac{3 u_{tx} u_{t}}{2}\n",
      "\\Big)\n",
      "(2, 5)\n"
     ]
    }
   ],
   "source": [
    "F = clip(Dt(u) + 6*(T(u, 0, 0)*D2x(u, 1) + T(u, 1, 0)*D2x(u, 0))/2 + (D2xxx(u, 1) + D2xxx(u, 0))/2)\n",
    "prn(F)\n",
    "prnlatex(F)"
   ]
  },
  {
   "cell_type": "code",
   "execution_count": 47,
   "metadata": {},
   "outputs": [
    {
     "data": {
      "image/png": "[encoded data removed]",
      "text/latex": [
       "$\\displaystyle 6 u u_{x} + u_{t} + u_{xxx}$"
      ],
      "text/plain": [
       "6⋅u⋅u_{x} + u_{t} + u_{xxx}"
      ]
     },
     "metadata": {},
     "output_type": "display_data"
    },
    {
     "name": "stdout",
     "output_type": "stream",
     "text": [
      "h^2 =>\n"
     ]
    },
    {
     "data": {
      "image/png": "[encoded data removed]",
      "text/latex": [
       "$\\displaystyle 3 u^{2} u_{x} + \\frac{u u_{t}}{2} - \\frac{u_{txx}}{4} - \\frac{9 u_{xx} u_{x}}{2}$"
      ],
      "text/plain": [
       "   2         u⋅u_{t}   u_{txx}   9⋅u_{xx}⋅u_{x}\n",
       "3⋅u ⋅u_{x} + ─────── - ─────── - ──────────────\n",
       "                2         4            2       "
      ]
     },
     "metadata": {},
     "output_type": "display_data"
    },
    {
     "name": "stdout",
     "output_type": "stream",
     "text": [
      "tau^2 =>\n"
     ]
    },
    {
     "data": {
      "image/png": "[encoded data removed]",
      "text/latex": [
       "$\\displaystyle - \\frac{u_{ttt}}{12} - 3 u_{tx} u_{t}$"
      ],
      "text/plain": [
       "  u_{ttt}                 \n",
       "- ─────── - 3⋅u_{tx}⋅u_{t}\n",
       "     12                   "
      ]
     },
     "metadata": {},
     "output_type": "display_data"
    },
    {
     "name": "stdout",
     "output_type": "stream",
     "text": [
      "6 u u_{x} + u_{t} + u_{xxx}\n",
      " + h^2\\Big(\n",
      "3 u^{2} u_{x} + \\frac{u u_{t}}{2} - \\frac{u_{txx}}{4} - \\frac{9 u_{xx} u_{x}}{2}\n",
      "\\Big)\n",
      " + \\tau^2\\Big(\n",
      "- \\frac{u_{ttt}}{12} - 3 u_{tx} u_{t}\n",
      "\\Big)\n",
      "(4, 2)\n",
      "h^2 =>\n",
      "3*fi[2]**2*fi_x + fi[2]*fi_t/2 - fi_txx/4 - 9*fi_xx*fi_x/2\n",
      "tau^2 =>\n",
      "-fi_ttt/12 - 3*fi_tx*fi_t\n"
     ]
    }
   ],
   "source": [
    "Ffda = NF(F, [u.diff(x, 3)], [F], head=False)\n",
    "prn(Ffda)\n",
    "prnlatex(Ffda)\n",
    "prnP(Ffda)"
   ]
  },
  {
   "cell_type": "code",
   "execution_count": 48,
   "metadata": {},
   "outputs": [
    {
     "data": {
      "image/png": "[encoded data removed]",
      "text/latex": [
       "$\\displaystyle 0$"
      ],
      "text/plain": [
       "0"
      ]
     },
     "metadata": {},
     "output_type": "display_data"
    }
   ],
   "source": [
    "display(Ffda[0][1].subs({u: ex1}).doit().simplify())"
   ]
  },
  {
   "cell_type": "code",
   "execution_count": 49,
   "metadata": {},
   "outputs": [
    {
     "data": {
      "image/png": "[encoded data removed]",
      "text/latex": [
       "$\\displaystyle - \\frac{k^{5} \\cdot \\left(4 D \\sinh^{2}{\\left(\\xi \\right)} - 16 D \\cosh{\\left(\\xi \\right)} - 16 D + k^{2} \\sinh^{2}{\\left(\\xi \\right)} - 24 k^{2} \\cosh{\\left(\\xi \\right)} + 42 k^{2}\\right) \\sinh{\\left(\\xi \\right)}}{4 \\left(\\cosh{\\left(\\xi \\right)} + 1\\right)^{4}}$"
      ],
      "text/plain": [
       "  5 ⎛        2                             2     2          2               2⎞         \n",
       "-k ⋅⎝4⋅D⋅sinh (ξ) - 16⋅D⋅cosh(ξ) - 16⋅D + k ⋅sinh (ξ) - 24⋅k ⋅cosh(ξ) + 42⋅k ⎠⋅sinh(ξ) \n",
       "───────────────────────────────────────────────────────────────────────────────────────\n",
       "                                                   4                                   \n",
       "                                    4⋅(cosh(ξ) + 1)                                    "
      ]
     },
     "metadata": {},
     "output_type": "display_data"
    },
    {
     "name": "stdout",
     "output_type": "stream",
     "text": [
      "- \\frac{k^{5} \\cdot \\left(4 D \\sinh^{2}{\\left(\\xi \\right)} - 16 D \\cosh{\\left(\\xi \\right)} - 16 D + k^{2} \\sinh^{2}{\\left(\\xi \\right)} - 24 k^{2} \\cosh{\\left(\\xi \\right)} + 42 k^{2}\\right) \\sinh{\\left(\\xi \\right)}}{4 \\left(\\cosh{\\left(\\xi \\right)} + 1\\right)^{4}}\n",
      "-k**5*(4*D*sinh(xi)**2 - 16*D*cosh(xi) - 16*D + k**2*sinh(xi)**2 - 24*k**2*cosh(xi) + 42*k**2)*sinh(xi)/(4*(cosh(xi) + 1)**4)\n"
     ]
    }
   ],
   "source": [
    "res = Ffda[1][1].subs({u: ex1}).doit().subs({x: xi/k + (6*D + k**2)*t}).simplify()\n",
    "display(res)\n",
    "print(latex(res))\n",
    "print(res)"
   ]
  },
  {
   "cell_type": "code",
   "execution_count": 50,
   "metadata": {},
   "outputs": [
    {
     "data": {
      "image/png": "[encoded data removed]",
      "text/latex": [
       "$\\displaystyle - \\frac{k^{5} \\left(6 D + k^{2}\\right)^{2} \\cdot \\left(36 k^{2} \\left(- \\sinh^{2}{\\left(\\xi \\right)} + \\cosh{\\left(\\xi \\right)} + 1\\right) + \\left(6 D + k^{2}\\right) \\left(\\cosh{\\left(\\xi \\right)} - 5\\right) \\left(\\cosh{\\left(\\xi \\right)} + 1\\right)^{2}\\right) \\sinh{\\left(\\xi \\right)}}{12 \\left(\\cosh{\\left(\\xi \\right)} + 1\\right)^{5}}$"
      ],
      "text/plain": [
       "              2                                                                                      \n",
       "  5 ⎛       2⎞  ⎛    2 ⎛      2                 ⎞   ⎛       2⎞                            2⎞         \n",
       "-k ⋅⎝6⋅D + k ⎠ ⋅⎝36⋅k ⋅⎝- sinh (ξ) + cosh(ξ) + 1⎠ + ⎝6⋅D + k ⎠⋅(cosh(ξ) - 5)⋅(cosh(ξ) + 1) ⎠⋅sinh(ξ) \n",
       "─────────────────────────────────────────────────────────────────────────────────────────────────────\n",
       "                                                          5                                          \n",
       "                                          12⋅(cosh(ξ) + 1)                                           "
      ]
     },
     "metadata": {},
     "output_type": "display_data"
    },
    {
     "name": "stdout",
     "output_type": "stream",
     "text": [
      "- \\frac{k^{5} \\left(6 D + k^{2}\\right)^{2} \\cdot \\left(36 k^{2} \\left(- \\sinh^{2}{\\left(\\xi \\right)} + \\cosh{\\left(\\xi \\right)} + 1\\right) + \\left(6 D + k^{2}\\right) \\left(\\cosh{\\left(\\xi \\right)} - 5\\right) \\left(\\cosh{\\left(\\xi \\right)} + 1\\right)^{2}\\right) \\sinh{\\left(\\xi \\right)}}{12 \\left(\\cosh{\\left(\\xi \\right)} + 1\\right)^{5}}\n",
      "-k**5*(6*D + k**2)**2*(36*k**2*(-sinh(xi)**2 + cosh(xi) + 1) + (6*D + k**2)*(cosh(xi) - 5)*(cosh(xi) + 1)**2)*sinh(xi)/(12*(cosh(xi) + 1)**5)\n"
     ]
    }
   ],
   "source": [
    "res = Ffda[2][1].subs({u: ex1}).doit().subs({x: xi/k + (6*D + k**2)*t}).simplify()\n",
    "display(res)\n",
    "print(latex(res))\n",
    "print(res)"
   ]
  },
  {
   "cell_type": "code",
   "execution_count": 51,
   "metadata": {},
   "outputs": [
    {
     "data": {
      "image/png": "[encoded data removed]",
      "text/latex": [
       "$\\displaystyle 0$"
      ],
      "text/plain": [
       "0"
      ]
     },
     "metadata": {},
     "output_type": "display_data"
    }
   ],
   "source": [
    "display(Ffda[0][1].subs({u: ex2}).doit().simplify())"
   ]
  },
  {
   "cell_type": "code",
   "execution_count": 52,
   "metadata": {},
   "outputs": [
    {
     "data": {
      "image/png": "[encoded data removed]",
      "text/latex": [
       "$\\displaystyle 8 k^{7} \\left(\\tanh{\\left(\\xi \\right)} - 1\\right) \\left(\\tanh{\\left(\\xi \\right)} + 1\\right) \\left(33 \\tanh^{4}{\\left(\\xi \\right)} - 40 \\tanh^{2}{\\left(\\xi \\right)} + 9\\right) \\tanh{\\left(\\xi \\right)}$"
      ],
      "text/plain": [
       "   7                             ⎛       4             2       ⎞        \n",
       "8⋅k ⋅(tanh(ξ) - 1)⋅(tanh(ξ) + 1)⋅⎝33⋅tanh (ξ) - 40⋅tanh (ξ) + 9⎠⋅tanh(ξ)"
      ]
     },
     "metadata": {},
     "output_type": "display_data"
    },
    {
     "name": "stdout",
     "output_type": "stream",
     "text": [
      "8 k^{7} \\left(\\tanh{\\left(\\xi \\right)} - 1\\right) \\left(\\tanh{\\left(\\xi \\right)} + 1\\right) \\left(33 \\tanh^{4}{\\left(\\xi \\right)} - 40 \\tanh^{2}{\\left(\\xi \\right)} + 9\\right) \\tanh{\\left(\\xi \\right)}\n",
      "8*k**7*(tanh(xi) - 1)*(tanh(xi) + 1)*(33*tanh(xi)**4 - 40*tanh(xi)**2 + 9)*tanh(xi)\n"
     ]
    }
   ],
   "source": [
    "res = Ffda[1][1].subs({u: ex2}).doit().subs({x: xi/k + 4*k**2*t}).combsimp()\n",
    "display(res)\n",
    "print(latex(res))\n",
    "print(res)"
   ]
  },
  {
   "cell_type": "code",
   "execution_count": 53,
   "metadata": {},
   "outputs": [
    {
     "data": {
      "image/png": "[encoded data removed]",
      "text/latex": [
       "$\\displaystyle \\frac{256 k^{11} \\left(\\tanh{\\left(\\xi \\right)} - 1\\right) \\left(\\tanh{\\left(\\xi \\right)} + 1\\right) \\left(27 \\tanh^{4}{\\left(\\xi \\right)} - 33 \\tanh^{2}{\\left(\\xi \\right)} + 7\\right) \\tanh{\\left(\\xi \\right)}}{3}$"
      ],
      "text/plain": [
       "     11                             ⎛       4             2       ⎞        \n",
       "256⋅k  ⋅(tanh(ξ) - 1)⋅(tanh(ξ) + 1)⋅⎝27⋅tanh (ξ) - 33⋅tanh (ξ) + 7⎠⋅tanh(ξ)\n",
       "───────────────────────────────────────────────────────────────────────────\n",
       "                                     3                                     "
      ]
     },
     "metadata": {},
     "output_type": "display_data"
    },
    {
     "name": "stdout",
     "output_type": "stream",
     "text": [
      "\\frac{256 k^{11} \\left(\\tanh{\\left(\\xi \\right)} - 1\\right) \\left(\\tanh{\\left(\\xi \\right)} + 1\\right) \\left(27 \\tanh^{4}{\\left(\\xi \\right)} - 33 \\tanh^{2}{\\left(\\xi \\right)} + 7\\right) \\tanh{\\left(\\xi \\right)}}{3}\n",
      "256*k**11*(tanh(xi) - 1)*(tanh(xi) + 1)*(27*tanh(xi)**4 - 33*tanh(xi)**2 + 7)*tanh(xi)/3\n"
     ]
    }
   ],
   "source": [
    "res = Ffda[2][1].subs({u: ex2}).doit().subs({x: xi/k + 4*k**2*t}).combsimp()\n",
    "display(res)\n",
    "print(latex(res))\n",
    "print(res)"
   ]
  },
  {
   "cell_type": "markdown",
   "metadata": {},
   "source": [
    "we Implicit scheme with $O(\\tau^2, h^4)$ approximation:\n",
    "\\begin{multline*}\n",
    "\\frac{{u}_{j}^{n+1} -{u}_{j}^{n} }{\\tau }\n",
    " =\\frac{3}{2h}\\left[{u}_{j}^{n}\\left({u}_{j+2}^{n+1} - 8{u}_{j+1}^{n+1} + 8{u}_{j-1}^{n+1} - {u}_{j-2}^{n+1}\\right) \n",
    "              + {u}_{j}^{n+1}\\left({u}_{j+2}^{n} - 8{u}_{j+1}^{n} + 8{u}_{j-1}^{n} - {u}_{j-2}^{n}\\right)\\right] + \\\\\n",
    " +\\frac{1}{4h^{3}}\\left(\\left({u}_{j+3}^{n+1} - 8{u}_{j+2}^{n+1} + 13{u}_{j+1}^{n+1} \n",
    "                                  - 13{u}_{j-1}^{n+1} + 8{u}_{j-2}^{n+1} - {u}_{j-3}^{n+1}\\right) +\n",
    "             \\left({u}_{j+3}^{n} - 8{u}_{j+2}^{n} + 13{u}_{j+1}^{n} \n",
    "                                  - 13{u}_{j-1}^{n} + 8{u}_{j-2}^{n} - {u}_{j-3}^{n}\\right)\\right).  \\tag{1.84}\n",
    "\\end{multline*}"
   ]
  },
  {
   "cell_type": "code",
   "execution_count": 54,
   "metadata": {},
   "outputs": [],
   "source": [
    "Monom.cmp = Monom.TOPdeglex\n",
    "pda_n, pda_clp = (6, 8), (3, 5)\n",
    "pda_p = Rational(1, 2), Rational(0, 1)"
   ]
  },
  {
   "cell_type": "code",
   "execution_count": 55,
   "metadata": {},
   "outputs": [
    {
     "data": {
      "image/png": "[encoded data removed]",
      "text/latex": [
       "$\\displaystyle 6 u u_{x} + u_{t} + u_{xxx}$"
      ],
      "text/plain": [
       "6⋅u⋅u_{x} + u_{t} + u_{xxx}"
      ]
     },
     "metadata": {},
     "output_type": "display_data"
    },
    {
     "name": "stdout",
     "output_type": "stream",
     "text": [
      "h^4 =>\n"
     ]
    },
    {
     "data": {
      "image/png": "[encoded data removed]",
      "text/latex": [
       "$\\displaystyle - \\frac{u u_{xxxxx}}{5} - \\frac{7 u_{xxxxxxx}}{120}$"
      ],
      "text/plain": [
       "  u⋅u_{xxxxx}   7⋅u_{xxxxxxx}\n",
       "- ─────────── - ─────────────\n",
       "       5             120     "
      ]
     },
     "metadata": {},
     "output_type": "display_data"
    },
    {
     "name": "stdout",
     "output_type": "stream",
     "text": [
      "tau^2 =>\n"
     ]
    },
    {
     "data": {
      "image/png": "[encoded data removed]",
      "text/latex": [
       "$\\displaystyle \\frac{3 u u_{ttx}}{4} + \\frac{u_{ttt}}{24} + \\frac{u_{ttxxx}}{8} + \\frac{3 u_{tt} u_{x}}{4} - \\frac{3 u_{tx} u_{t}}{2}$"
      ],
      "text/plain": [
       "3⋅u⋅u_{ttx}   u_{ttt}   u_{ttxxx}   3⋅u_{tt}⋅u_{x}   3⋅u_{tx}⋅u_{t}\n",
       "─────────── + ─────── + ───────── + ────────────── - ──────────────\n",
       "     4           24         8             4                2       "
      ]
     },
     "metadata": {},
     "output_type": "display_data"
    },
    {
     "name": "stdout",
     "output_type": "stream",
     "text": [
      "6 u u_{x} + u_{t} + u_{xxx}\n",
      " + h^4\\Big(\n",
      "- \\frac{u u_{xxxxx}}{5} - \\frac{7 u_{xxxxxxx}}{120}\n",
      "\\Big)\n",
      " + \\tau^2\\Big(\n",
      "\\frac{3 u u_{ttx}}{4} + \\frac{u_{ttt}}{24} + \\frac{u_{ttxxx}}{8} + \\frac{3 u_{tt} u_{x}}{4} - \\frac{3 u_{tx} u_{t}}{2}\n",
      "\\Big)\n",
      "(2, 5)\n"
     ]
    }
   ],
   "source": [
    "F = clip(Dt(u) + 6*(T(u, 0, 0)*D4x(u, 1) + T(u, 1, 0)*D4x(u, 0))/2 + (D4xxx(u, 1) + D4xxx(u, 0))/2)\n",
    "prn(F)\n",
    "prnlatex(F)"
   ]
  },
  {
   "cell_type": "code",
   "execution_count": 56,
   "metadata": {},
   "outputs": [
    {
     "data": {
      "image/png": "[encoded data removed]",
      "text/latex": [
       "$\\displaystyle 6 u u_{x} + u_{t} + u_{xxx}$"
      ],
      "text/plain": [
       "6⋅u⋅u_{x} + u_{t} + u_{xxx}"
      ]
     },
     "metadata": {},
     "output_type": "display_data"
    },
    {
     "name": "stdout",
     "output_type": "stream",
     "text": [
      "h^4 =>\n"
     ]
    },
    {
     "data": {
      "image/png": "[encoded data removed]",
      "text/latex": [
       "$\\displaystyle \\frac{27 u^{3} u_{x}}{5} + \\frac{9 u^{2} u_{t}}{10} - \\frac{u u_{txx}}{2} - \\frac{171 u u_{xx} u_{x}}{5} - \\frac{7 u_{ttx}}{120} - \\frac{49 u_{tx} u_{x}}{20} - \\frac{77 u_{t} u_{xx}}{20} - \\frac{21 u_{x}^{3}}{2}$"
      ],
      "text/plain": [
       "    3            2                                                                                   \n",
       "27⋅u ⋅u_{x}   9⋅u ⋅u_{t}   u⋅u_{txx}   171⋅u⋅u_{xx}⋅u_{x}   7⋅u_{ttx}   49⋅u_{tx}⋅u_{x}   77⋅u_{t}⋅u_\n",
       "─────────── + ────────── - ───────── - ────────────────── - ───────── - ─────────────── - ───────────\n",
       "     5            10           2               5               120             20                20  \n",
       "\n",
       "               3\n",
       "{xx}   21⋅u_{x} \n",
       "──── - ─────────\n",
       "           2    "
      ]
     },
     "metadata": {},
     "output_type": "display_data"
    },
    {
     "name": "stdout",
     "output_type": "stream",
     "text": [
      "tau^2 =>\n"
     ]
    },
    {
     "data": {
      "image/png": "[encoded data removed]",
      "text/latex": [
       "$\\displaystyle - \\frac{u_{ttt}}{12} - 3 u_{tx} u_{t}$"
      ],
      "text/plain": [
       "  u_{ttt}                 \n",
       "- ─────── - 3⋅u_{tx}⋅u_{t}\n",
       "     12                   "
      ]
     },
     "metadata": {},
     "output_type": "display_data"
    },
    {
     "name": "stdout",
     "output_type": "stream",
     "text": [
      "6 u u_{x} + u_{t} + u_{xxx}\n",
      " + h^4\\Big(\n",
      "\\frac{27 u^{3} u_{x}}{5} + \\frac{9 u^{2} u_{t}}{10} - \\frac{u u_{txx}}{2} - \\frac{171 u u_{xx} u_{x}}{5} - \\frac{7 u_{ttx}}{120} - \\frac{49 u_{tx} u_{x}}{20} - \\frac{77 u_{t} u_{xx}}{20} - \\frac{21 u_{x}^{3}}{2}\n",
      "\\Big)\n",
      " + \\tau^2\\Big(\n",
      "- \\frac{u_{ttt}}{12} - 3 u_{tx} u_{t}\n",
      "\\Big)\n",
      "(8, 2)\n",
      "h^4 =>\n",
      "27*fi[2]**3*fi_x/5 + 9*fi[2]**2*fi_t/10 - fi[2]*fi_txx/2 - 171*fi[2]*fi_xx*fi_x/5 - 7*fi_ttx/120 - 49*fi_tx*fi_x/20 - 77*fi_t*fi_xx/20 - 21*fi_x**3/2\n",
      "tau^2 =>\n",
      "-fi_ttt/12 - 3*fi_tx*fi_t\n"
     ]
    }
   ],
   "source": [
    "Ffda = NF(F, [u.diff(x, 3)], [F], head=False)\n",
    "prn(Ffda)\n",
    "prnlatex(Ffda)\n",
    "prnP(Ffda)"
   ]
  },
  {
   "cell_type": "code",
   "execution_count": 57,
   "metadata": {},
   "outputs": [
    {
     "data": {
      "image/png": "[encoded data removed]",
      "text/latex": [
       "$\\displaystyle 0$"
      ],
      "text/plain": [
       "0"
      ]
     },
     "metadata": {},
     "output_type": "display_data"
    }
   ],
   "source": [
    "display(Ffda[0][1].subs({u: ex1}).doit().simplify())"
   ]
  },
  {
   "cell_type": "code",
   "execution_count": 58,
   "metadata": {},
   "outputs": [
    {
     "data": {
      "image/png": "[encoded data removed]",
      "text/latex": [
       "$\\displaystyle \\frac{k^{7} \\cdot \\left(1302 D \\sinh{\\left(\\xi \\right)} + 402 D \\sinh{\\left(2 \\xi \\right)} - 162 D \\sinh{\\left(3 \\xi \\right)} + 3 D \\sinh{\\left(4 \\xi \\right)} - \\frac{33761 k^{2} \\sinh{\\left(\\xi \\right)}}{4} + \\frac{12817 k^{2} \\sinh{\\left(2 \\xi \\right)}}{4} - \\frac{837 k^{2} \\sinh{\\left(3 \\xi \\right)}}{4} + \\frac{7 k^{2} \\sinh{\\left(4 \\xi \\right)}}{8}\\right)}{120 \\left(\\cosh{\\left(\\xi \\right)} + 1\\right)^{5}}$"
      ],
      "text/plain": [
       "   ⎛                                                                            2                  2 \n",
       " 7 ⎜                                                                     33761⋅k ⋅sinh(ξ)   12817⋅k ⋅\n",
       "k ⋅⎜1302⋅D⋅sinh(ξ) + 402⋅D⋅sinh(2⋅ξ) - 162⋅D⋅sinh(3⋅ξ) + 3⋅D⋅sinh(4⋅ξ) - ──────────────── + ─────────\n",
       "   ⎝                                                                            4                   4\n",
       "─────────────────────────────────────────────────────────────────────────────────────────────────────\n",
       "                                                                                  5                  \n",
       "                                                                 120⋅(cosh(ξ) + 1)                   \n",
       "\n",
       "                 2                2          ⎞\n",
       "sinh(2⋅ξ)   837⋅k ⋅sinh(3⋅ξ)   7⋅k ⋅sinh(4⋅ξ)⎟\n",
       "───────── - ──────────────── + ──────────────⎟\n",
       "                   4                 8       ⎠\n",
       "──────────────────────────────────────────────\n",
       "                                              \n",
       "                                              "
      ]
     },
     "metadata": {},
     "output_type": "display_data"
    },
    {
     "name": "stdout",
     "output_type": "stream",
     "text": [
      "\\frac{k^{7} \\cdot \\left(1302 D \\sinh{\\left(\\xi \\right)} + 402 D \\sinh{\\left(2 \\xi \\right)} - 162 D \\sinh{\\left(3 \\xi \\right)} + 3 D \\sinh{\\left(4 \\xi \\right)} - \\frac{33761 k^{2} \\sinh{\\left(\\xi \\right)}}{4} + \\frac{12817 k^{2} \\sinh{\\left(2 \\xi \\right)}}{4} - \\frac{837 k^{2} \\sinh{\\left(3 \\xi \\right)}}{4} + \\frac{7 k^{2} \\sinh{\\left(4 \\xi \\right)}}{8}\\right)}{120 \\left(\\cosh{\\left(\\xi \\right)} + 1\\right)^{5}}\n",
      "k**7*(1302*D*sinh(xi) + 402*D*sinh(2*xi) - 162*D*sinh(3*xi) + 3*D*sinh(4*xi) - 33761*k**2*sinh(xi)/4 + 12817*k**2*sinh(2*xi)/4 - 837*k**2*sinh(3*xi)/4 + 7*k**2*sinh(4*xi)/8)/(120*(cosh(xi) + 1)**5)\n"
     ]
    }
   ],
   "source": [
    "res = Ffda[1][1].subs({u: ex1}).doit().subs({x: xi/k + (6*D + k**2)*t}).simplify()\n",
    "display(res)\n",
    "print(latex(res))\n",
    "print(res)"
   ]
  },
  {
   "cell_type": "code",
   "execution_count": 59,
   "metadata": {},
   "outputs": [
    {
     "data": {
      "image/png": "[encoded data removed]",
      "text/latex": [
       "$\\displaystyle - \\frac{k^{5} \\left(6 D + k^{2}\\right)^{2} \\cdot \\left(36 k^{2} \\left(- \\sinh^{2}{\\left(\\xi \\right)} + \\cosh{\\left(\\xi \\right)} + 1\\right) + \\left(6 D + k^{2}\\right) \\left(\\cosh{\\left(\\xi \\right)} - 5\\right) \\left(\\cosh{\\left(\\xi \\right)} + 1\\right)^{2}\\right) \\sinh{\\left(\\xi \\right)}}{12 \\left(\\cosh{\\left(\\xi \\right)} + 1\\right)^{5}}$"
      ],
      "text/plain": [
       "              2                                                                                      \n",
       "  5 ⎛       2⎞  ⎛    2 ⎛      2                 ⎞   ⎛       2⎞                            2⎞         \n",
       "-k ⋅⎝6⋅D + k ⎠ ⋅⎝36⋅k ⋅⎝- sinh (ξ) + cosh(ξ) + 1⎠ + ⎝6⋅D + k ⎠⋅(cosh(ξ) - 5)⋅(cosh(ξ) + 1) ⎠⋅sinh(ξ) \n",
       "─────────────────────────────────────────────────────────────────────────────────────────────────────\n",
       "                                                          5                                          \n",
       "                                          12⋅(cosh(ξ) + 1)                                           "
      ]
     },
     "metadata": {},
     "output_type": "display_data"
    },
    {
     "name": "stdout",
     "output_type": "stream",
     "text": [
      "- \\frac{k^{5} \\left(6 D + k^{2}\\right)^{2} \\cdot \\left(36 k^{2} \\left(- \\sinh^{2}{\\left(\\xi \\right)} + \\cosh{\\left(\\xi \\right)} + 1\\right) + \\left(6 D + k^{2}\\right) \\left(\\cosh{\\left(\\xi \\right)} - 5\\right) \\left(\\cosh{\\left(\\xi \\right)} + 1\\right)^{2}\\right) \\sinh{\\left(\\xi \\right)}}{12 \\left(\\cosh{\\left(\\xi \\right)} + 1\\right)^{5}}\n",
      "-k**5*(6*D + k**2)**2*(36*k**2*(-sinh(xi)**2 + cosh(xi) + 1) + (6*D + k**2)*(cosh(xi) - 5)*(cosh(xi) + 1)**2)*sinh(xi)/(12*(cosh(xi) + 1)**5)\n"
     ]
    }
   ],
   "source": [
    "res = Ffda[2][1].subs({u: ex1}).doit().subs({x: xi/k + (6*D + k**2)*t}).simplify()\n",
    "display(res)\n",
    "print(latex(res))\n",
    "print(res)"
   ]
  },
  {
   "cell_type": "code",
   "execution_count": 60,
   "metadata": {},
   "outputs": [
    {
     "data": {
      "image/png": "[encoded data removed]",
      "text/latex": [
       "$\\displaystyle 0$"
      ],
      "text/plain": [
       "0"
      ]
     },
     "metadata": {},
     "output_type": "display_data"
    }
   ],
   "source": [
    "display(Ffda[0][1].subs({u: ex2}).doit().simplify())"
   ]
  },
  {
   "cell_type": "code",
   "execution_count": 61,
   "metadata": {},
   "outputs": [
    {
     "data": {
      "image/png": "[encoded data removed]",
      "text/latex": [
       "$\\displaystyle - \\frac{32 k^{9} \\left(\\tanh{\\left(\\xi \\right)} - 1\\right) \\left(\\tanh{\\left(\\xi \\right)} + 1\\right) \\left(1935 \\tanh^{6}{\\left(\\xi \\right)} - 3780 \\tanh^{4}{\\left(\\xi \\right)} + 2184 \\tanh^{2}{\\left(\\xi \\right)} - 332\\right) \\tanh{\\left(\\xi \\right)}}{15}$"
      ],
      "text/plain": [
       "     9                             ⎛         6               4               2         ⎞         \n",
       "-32⋅k ⋅(tanh(ξ) - 1)⋅(tanh(ξ) + 1)⋅⎝1935⋅tanh (ξ) - 3780⋅tanh (ξ) + 2184⋅tanh (ξ) - 332⎠⋅tanh(ξ) \n",
       "─────────────────────────────────────────────────────────────────────────────────────────────────\n",
       "                                                15                                               "
      ]
     },
     "metadata": {},
     "output_type": "display_data"
    },
    {
     "name": "stdout",
     "output_type": "stream",
     "text": [
      "- \\frac{32 k^{9} \\left(\\tanh{\\left(\\xi \\right)} - 1\\right) \\left(\\tanh{\\left(\\xi \\right)} + 1\\right) \\left(1935 \\tanh^{6}{\\left(\\xi \\right)} - 3780 \\tanh^{4}{\\left(\\xi \\right)} + 2184 \\tanh^{2}{\\left(\\xi \\right)} - 332\\right) \\tanh{\\left(\\xi \\right)}}{15}\n",
      "-32*k**9*(tanh(xi) - 1)*(tanh(xi) + 1)*(1935*tanh(xi)**6 - 3780*tanh(xi)**4 + 2184*tanh(xi)**2 - 332)*tanh(xi)/15\n"
     ]
    }
   ],
   "source": [
    "res = Ffda[1][1].subs({u: ex2}).doit().subs({x: xi/k + 4*k**2*t}).combsimp()\n",
    "display(res)\n",
    "print(latex(res))\n",
    "print(res)"
   ]
  },
  {
   "cell_type": "code",
   "execution_count": 62,
   "metadata": {},
   "outputs": [
    {
     "data": {
      "image/png": "[encoded data removed]",
      "text/latex": [
       "$\\displaystyle \\frac{256 k^{11} \\left(\\tanh{\\left(\\xi \\right)} - 1\\right) \\left(\\tanh{\\left(\\xi \\right)} + 1\\right) \\left(27 \\tanh^{4}{\\left(\\xi \\right)} - 33 \\tanh^{2}{\\left(\\xi \\right)} + 7\\right) \\tanh{\\left(\\xi \\right)}}{3}$"
      ],
      "text/plain": [
       "     11                             ⎛       4             2       ⎞        \n",
       "256⋅k  ⋅(tanh(ξ) - 1)⋅(tanh(ξ) + 1)⋅⎝27⋅tanh (ξ) - 33⋅tanh (ξ) + 7⎠⋅tanh(ξ)\n",
       "───────────────────────────────────────────────────────────────────────────\n",
       "                                     3                                     "
      ]
     },
     "metadata": {},
     "output_type": "display_data"
    },
    {
     "name": "stdout",
     "output_type": "stream",
     "text": [
      "\\frac{256 k^{11} \\left(\\tanh{\\left(\\xi \\right)} - 1\\right) \\left(\\tanh{\\left(\\xi \\right)} + 1\\right) \\left(27 \\tanh^{4}{\\left(\\xi \\right)} - 33 \\tanh^{2}{\\left(\\xi \\right)} + 7\\right) \\tanh{\\left(\\xi \\right)}}{3}\n",
      "256*k**11*(tanh(xi) - 1)*(tanh(xi) + 1)*(27*tanh(xi)**4 - 33*tanh(xi)**2 + 7)*tanh(xi)/3\n"
     ]
    }
   ],
   "source": [
    "res = Ffda[2][1].subs({u: ex2}).doit().subs({x: xi/k + 4*k**2*t}).combsimp()\n",
    "display(res)\n",
    "print(latex(res))\n",
    "print(res)"
   ]
  },
  {
   "cell_type": "markdown",
   "metadata": {},
   "source": [
    "В результате получим следующую разностную схему для уравнения~(1.18), \n",
    "аналогичную схеме Кранка--Николсона для уравнения теплопроводности\n",
    "\\begin{multline*}\n",
    "\\frac{{u}_{j}^{n+1} -{u}_{j}^{n} }{\\tau }\n",
    " +3\\frac{\\left({u^2}_{j+1}^{n+1} - {u^2}_{j-1}^{n+1}\\right) +\n",
    "              \\left({u^2}_{j+1}^{n} - {u^2}_{j-1}^{n}\\right)}{4h} + \\\\\n",
    " + \\frac{\\left({u}_{j+2}^{n+1} -2{u}_{j+1}^{n+1} +2{u}_{j-1}^{n+1} -{u}_{j-2}^{n+1}\\right) +\n",
    "             \\left({u}_{j+2}^{n} -2{u}_{j}^{n+1} +2{u}_{j-1}^{n} -{u}_{j-2}^{n}\\right)}{4h^{3}}=0.\n",
    "\\end{multline*}"
   ]
  },
  {
   "cell_type": "code",
   "execution_count": 63,
   "metadata": {},
   "outputs": [],
   "source": [
    "def Dt(a):\n",
    "    return (T(a, 1, 0) - T(a, 0, 0))/(tau)"
   ]
  },
  {
   "cell_type": "code",
   "execution_count": 64,
   "metadata": {},
   "outputs": [],
   "source": [
    "Monom.cmp = Monom.TOPlex\n",
    "pda_n, pda_clp = (6, 6), (3, 3)\n",
    "pda_p = Rational(0, 2), Rational(0, 1)"
   ]
  },
  {
   "cell_type": "code",
   "execution_count": 65,
   "metadata": {},
   "outputs": [
    {
     "data": {
      "image/png": "[encoded data removed]",
      "text/latex": [
       "$\\displaystyle 6 u u_{x} + u_{t} + u_{xxx}$"
      ],
      "text/plain": [
       "6⋅u⋅u_{x} + u_{t} + u_{xxx}"
      ]
     },
     "metadata": {},
     "output_type": "display_data"
    },
    {
     "name": "stdout",
     "output_type": "stream",
     "text": [
      "h^2 =>\n"
     ]
    },
    {
     "data": {
      "image/png": "[encoded data removed]",
      "text/latex": [
       "$\\displaystyle u u_{xxx} + \\frac{u_{xxxxx}}{4} + 3 u_{xx} u_{x}$"
      ],
      "text/plain": [
       "            u_{xxxxx}                 \n",
       "u⋅u_{xxx} + ───────── + 3⋅u_{xx}⋅u_{x}\n",
       "                4                     "
      ]
     },
     "metadata": {},
     "output_type": "display_data"
    },
    {
     "name": "stdout",
     "output_type": "stream",
     "text": [
      "tau =>\n"
     ]
    },
    {
     "data": {
      "image/png": "[encoded data removed]",
      "text/latex": [
       "$\\displaystyle 3 u u_{tx} + \\frac{u_{tt}}{2} + \\frac{u_{txxx}}{2} + 3 u_{t} u_{x}$"
      ],
      "text/plain": [
       "             u_{tt}   u_{txxx}                \n",
       "3⋅u⋅u_{tx} + ────── + ──────── + 3⋅u_{t}⋅u_{x}\n",
       "               2         2                    "
      ]
     },
     "metadata": {},
     "output_type": "display_data"
    },
    {
     "name": "stdout",
     "output_type": "stream",
     "text": [
      "tau^2 =>\n"
     ]
    },
    {
     "data": {
      "image/png": "[encoded data removed]",
      "text/latex": [
       "$\\displaystyle \\frac{3 u u_{ttx}}{2} + \\frac{u_{ttt}}{6} + \\frac{u_{ttxxx}}{4} + \\frac{3 u_{tt} u_{x}}{2} + 3 u_{tx} u_{t}$"
      ],
      "text/plain": [
       "3⋅u⋅u_{ttx}   u_{ttt}   u_{ttxxx}   3⋅u_{tt}⋅u_{x}                 \n",
       "─────────── + ─────── + ───────── + ────────────── + 3⋅u_{tx}⋅u_{t}\n",
       "     2           6          4             2                        "
      ]
     },
     "metadata": {},
     "output_type": "display_data"
    },
    {
     "name": "stdout",
     "output_type": "stream",
     "text": [
      "6 u u_{x} + u_{t} + u_{xxx}\n",
      " + h^2\\Big(\n",
      "u u_{xxx} + \\frac{u_{xxxxx}}{4} + 3 u_{xx} u_{x}\n",
      "\\Big)\n",
      " + \\tau\\Big(\n",
      "3 u u_{tx} + \\frac{u_{tt}}{2} + \\frac{u_{txxx}}{2} + 3 u_{t} u_{x}\n",
      "\\Big)\n",
      " + \\tau^2\\Big(\n",
      "\\frac{3 u u_{ttx}}{2} + \\frac{u_{ttt}}{6} + \\frac{u_{ttxxx}}{4} + \\frac{3 u_{tt} u_{x}}{2} + 3 u_{tx} u_{t}\n",
      "\\Big)\n",
      "(3, 4)\n"
     ]
    }
   ],
   "source": [
    "F = clip(Dt(u) + 3*(D2x(u**2, 1) + D2x(u**2, 0))/2 + (D2xxx(u, 1) + D2xxx(u, 0))/2)\n",
    "prn(F)\n",
    "prnlatex(F)"
   ]
  },
  {
   "cell_type": "code",
   "execution_count": 66,
   "metadata": {},
   "outputs": [
    {
     "data": {
      "image/png": "[encoded data removed]",
      "text/latex": [
       "$\\displaystyle 6 u u_{x} + u_{t} + u_{xxx}$"
      ],
      "text/plain": [
       "6⋅u⋅u_{x} + u_{t} + u_{xxx}"
      ]
     },
     "metadata": {},
     "output_type": "display_data"
    },
    {
     "name": "stdout",
     "output_type": "stream",
     "text": [
      "h^2 =>\n"
     ]
    },
    {
     "data": {
      "image/png": "[encoded data removed]",
      "text/latex": [
       "$\\displaystyle 3 u^{2} u_{x} + \\frac{u u_{t}}{2} - \\frac{u_{txx}}{4} - \\frac{3 u_{xx} u_{x}}{2}$"
      ],
      "text/plain": [
       "   2         u⋅u_{t}   u_{txx}   3⋅u_{xx}⋅u_{x}\n",
       "3⋅u ⋅u_{x} + ─────── - ─────── - ──────────────\n",
       "                2         4            2       "
      ]
     },
     "metadata": {},
     "output_type": "display_data"
    },
    {
     "name": "stdout",
     "output_type": "stream",
     "text": [
      "tau^2 =>\n"
     ]
    },
    {
     "data": {
      "image/png": "[encoded data removed]",
      "text/latex": [
       "$\\displaystyle - \\frac{u_{ttt}}{12}$"
      ],
      "text/plain": [
       "-u_{ttt} \n",
       "─────────\n",
       "    12   "
      ]
     },
     "metadata": {},
     "output_type": "display_data"
    },
    {
     "name": "stdout",
     "output_type": "stream",
     "text": [
      "6 u u_{x} + u_{t} + u_{xxx}\n",
      " + h^2\\Big(\n",
      "3 u^{2} u_{x} + \\frac{u u_{t}}{2} - \\frac{u_{txx}}{4} - \\frac{3 u_{xx} u_{x}}{2}\n",
      "\\Big)\n",
      " + \\tau^2\\Big(\n",
      "- \\frac{u_{ttt}}{12}\n",
      "\\Big)\n",
      "(4, 2)\n",
      "h^2 =>\n",
      "3*fi[2]**2*fi_x + fi[2]*fi_t/2 - fi_txx/4 - 3*fi_xx*fi_x/2\n",
      "tau^2 =>\n",
      "-fi_ttt/12\n"
     ]
    }
   ],
   "source": [
    "Ffda = NF(F, [u.diff(x, 3)], [F], head=False)\n",
    "prn(Ffda)\n",
    "prnlatex(Ffda)\n",
    "prnP(Ffda)"
   ]
  },
  {
   "cell_type": "code",
   "execution_count": 67,
   "metadata": {},
   "outputs": [
    {
     "data": {
      "image/png": "[encoded data removed]",
      "text/latex": [
       "$\\displaystyle 0$"
      ],
      "text/plain": [
       "0"
      ]
     },
     "metadata": {},
     "output_type": "display_data"
    }
   ],
   "source": [
    "display(Ffda[0][1].subs({u: ex1}).doit().simplify())"
   ]
  },
  {
   "cell_type": "code",
   "execution_count": 68,
   "metadata": {},
   "outputs": [
    {
     "data": {
      "image/png": "[encoded data removed]",
      "text/latex": [
       "$\\displaystyle - \\frac{k^{5} \\left(D \\sinh^{2}{\\left(\\xi \\right)} - 4 D \\cosh{\\left(\\xi \\right)} - 4 D + \\frac{k^{2} \\sinh^{2}{\\left(\\xi \\right)}}{4} - 3 k^{2} \\cosh{\\left(\\xi \\right)} + \\frac{9 k^{2}}{2}\\right) \\sinh{\\left(\\xi \\right)}}{\\left(\\cosh{\\left(\\xi \\right)} + 1\\right)^{4}}$"
      ],
      "text/plain": [
       "    ⎛                                  2     2                        2⎞         \n",
       "  5 ⎜      2                          k ⋅sinh (ξ)      2           9⋅k ⎟         \n",
       "-k ⋅⎜D⋅sinh (ξ) - 4⋅D⋅cosh(ξ) - 4⋅D + ─────────── - 3⋅k ⋅cosh(ξ) + ────⎟⋅sinh(ξ) \n",
       "    ⎝                                      4                        2  ⎠         \n",
       "─────────────────────────────────────────────────────────────────────────────────\n",
       "                                               4                                 \n",
       "                                  (cosh(ξ) + 1)                                  "
      ]
     },
     "metadata": {},
     "output_type": "display_data"
    },
    {
     "name": "stdout",
     "output_type": "stream",
     "text": [
      "- \\frac{k^{5} \\left(D \\sinh^{2}{\\left(\\xi \\right)} - 4 D \\cosh{\\left(\\xi \\right)} - 4 D + \\frac{k^{2} \\sinh^{2}{\\left(\\xi \\right)}}{4} - 3 k^{2} \\cosh{\\left(\\xi \\right)} + \\frac{9 k^{2}}{2}\\right) \\sinh{\\left(\\xi \\right)}}{\\left(\\cosh{\\left(\\xi \\right)} + 1\\right)^{4}}\n",
      "-k**5*(D*sinh(xi)**2 - 4*D*cosh(xi) - 4*D + k**2*sinh(xi)**2/4 - 3*k**2*cosh(xi) + 9*k**2/2)*sinh(xi)/(cosh(xi) + 1)**4\n"
     ]
    }
   ],
   "source": [
    "res = Ffda[1][1].subs({u: ex1}).doit().subs({x: xi/k + (6*D + k**2)*t}).trigsimp()\n",
    "display(res)\n",
    "print(latex(res))\n",
    "print(res)"
   ]
  },
  {
   "cell_type": "code",
   "execution_count": 69,
   "metadata": {},
   "outputs": [
    {
     "data": {
      "image/png": "[encoded data removed]",
      "text/latex": [
       "$\\displaystyle \\frac{k^{5} \\left(6 D + k^{2}\\right)^{3} \\left(- 6 \\sinh^{2}{\\left(\\xi \\right)} + 5 \\cosh^{2}{\\left(\\xi \\right)} + 4 \\cosh{\\left(\\xi \\right)} - 1\\right) \\sinh{\\left(\\xi \\right)}}{12 \\left(\\cosh{\\left(\\xi \\right)} + 1\\right)^{4}}$"
      ],
      "text/plain": [
       "             3                                                    \n",
       " 5 ⎛       2⎞  ⎛        2            2                   ⎞        \n",
       "k ⋅⎝6⋅D + k ⎠ ⋅⎝- 6⋅sinh (ξ) + 5⋅cosh (ξ) + 4⋅cosh(ξ) - 1⎠⋅sinh(ξ)\n",
       "──────────────────────────────────────────────────────────────────\n",
       "                                        4                         \n",
       "                        12⋅(cosh(ξ) + 1)                          "
      ]
     },
     "metadata": {},
     "output_type": "display_data"
    },
    {
     "name": "stdout",
     "output_type": "stream",
     "text": [
      "\\frac{k^{5} \\left(6 D + k^{2}\\right)^{3} \\left(- 6 \\sinh^{2}{\\left(\\xi \\right)} + 5 \\cosh^{2}{\\left(\\xi \\right)} + 4 \\cosh{\\left(\\xi \\right)} - 1\\right) \\sinh{\\left(\\xi \\right)}}{12 \\left(\\cosh{\\left(\\xi \\right)} + 1\\right)^{4}}\n",
      "k**5*(6*D + k**2)**3*(-6*sinh(xi)**2 + 5*cosh(xi)**2 + 4*cosh(xi) - 1)*sinh(xi)/(12*(cosh(xi) + 1)**4)\n"
     ]
    }
   ],
   "source": [
    "res = Ffda[2][1].subs({u: ex1}).doit().subs({x: xi/k + (6*D + k**2)*t}).combsimp()\n",
    "display(res)\n",
    "print(latex(res))\n",
    "print(res)"
   ]
  },
  {
   "cell_type": "code",
   "execution_count": 70,
   "metadata": {},
   "outputs": [
    {
     "data": {
      "image/png": "[encoded data removed]",
      "text/latex": [
       "$\\displaystyle 0$"
      ],
      "text/plain": [
       "0"
      ]
     },
     "metadata": {},
     "output_type": "display_data"
    }
   ],
   "source": [
    "display(Ffda[0][1].subs({u: ex2}).doit().simplify())"
   ]
  },
  {
   "cell_type": "code",
   "execution_count": 71,
   "metadata": {},
   "outputs": [
    {
     "data": {
      "image/png": "[encoded data removed]",
      "text/latex": [
       "$\\displaystyle 8 k^{7} \\left(\\tanh{\\left(\\xi \\right)} - 1\\right) \\left(\\tanh{\\left(\\xi \\right)} + 1\\right) \\left(15 \\tanh^{4}{\\left(\\xi \\right)} - 16 \\tanh^{2}{\\left(\\xi \\right)} + 3\\right) \\tanh{\\left(\\xi \\right)}$"
      ],
      "text/plain": [
       "   7                             ⎛       4             2       ⎞        \n",
       "8⋅k ⋅(tanh(ξ) - 1)⋅(tanh(ξ) + 1)⋅⎝15⋅tanh (ξ) - 16⋅tanh (ξ) + 3⎠⋅tanh(ξ)"
      ]
     },
     "metadata": {},
     "output_type": "display_data"
    },
    {
     "name": "stdout",
     "output_type": "stream",
     "text": [
      "8 k^{7} \\left(\\tanh{\\left(\\xi \\right)} - 1\\right) \\left(\\tanh{\\left(\\xi \\right)} + 1\\right) \\left(15 \\tanh^{4}{\\left(\\xi \\right)} - 16 \\tanh^{2}{\\left(\\xi \\right)} + 3\\right) \\tanh{\\left(\\xi \\right)}\n",
      "8*k**7*(tanh(xi) - 1)*(tanh(xi) + 1)*(15*tanh(xi)**4 - 16*tanh(xi)**2 + 3)*tanh(xi)\n"
     ]
    }
   ],
   "source": [
    "res = Ffda[1][1].subs({u: ex2}).doit().subs({x: xi/k + 4*k**2*t}).combsimp()\n",
    "display(res)\n",
    "print(latex(res))\n",
    "print(res)"
   ]
  },
  {
   "cell_type": "code",
   "execution_count": 72,
   "metadata": {},
   "outputs": [
    {
     "data": {
      "image/png": "[encoded data removed]",
      "text/latex": [
       "$\\displaystyle \\frac{256 k^{11} \\left(\\tanh{\\left(\\xi \\right)} - 1\\right) \\left(\\tanh{\\left(\\xi \\right)} + 1\\right) \\left(3 \\tanh^{2}{\\left(\\xi \\right)} - 2\\right) \\tanh{\\left(\\xi \\right)}}{3}$"
      ],
      "text/plain": [
       "     11                             ⎛      2       ⎞        \n",
       "256⋅k  ⋅(tanh(ξ) - 1)⋅(tanh(ξ) + 1)⋅⎝3⋅tanh (ξ) - 2⎠⋅tanh(ξ)\n",
       "────────────────────────────────────────────────────────────\n",
       "                             3                              "
      ]
     },
     "metadata": {},
     "output_type": "display_data"
    },
    {
     "name": "stdout",
     "output_type": "stream",
     "text": [
      "\\frac{256 k^{11} \\left(\\tanh{\\left(\\xi \\right)} - 1\\right) \\left(\\tanh{\\left(\\xi \\right)} + 1\\right) \\left(3 \\tanh^{2}{\\left(\\xi \\right)} - 2\\right) \\tanh{\\left(\\xi \\right)}}{3}\n",
      "256*k**11*(tanh(xi) - 1)*(tanh(xi) + 1)*(3*tanh(xi)**2 - 2)*tanh(xi)/3\n"
     ]
    }
   ],
   "source": [
    "res = Ffda[2][1].subs({u: ex2}).doit().subs({x: xi/k + 4*k**2*t}).combsimp()\n",
    "display(res)\n",
    "print(latex(res))\n",
    "print(res)"
   ]
  },
  {
   "cell_type": "markdown",
   "metadata": {},
   "source": [
    "Наша $O(\\tau^2, h^4)$:\n",
    "\\begin{multline*}\n",
    "\\frac{{u}_{j}^{n+1} -{u}_{j}^{n} }{\\tau }\n",
    " - \\frac{3}{24h}\\left(\\left({u^2}_{j+2}^{n+1} - 8{u^2}_{j+1}^{n+1} + 8{u^2}_{j-1}^{n+1} - {u^2}_{j-2}^{n+1}\\right) \n",
    "              + \\left({u^2}_{j+2}^{n} - 8{u^2}_{j+1}^{n} + 8{u^2}_{j-1}^{n} - {u^2}_{j-2}^{n}\\right)\\right) + \\\\\n",
    " - \\frac{1}{16h^{3}}\\left(\\left({u}_{j+3}^{n+1} - 8{u}_{j+2}^{n+1} + 13{u}_{j+1}^{n+1} \n",
    "                                  - 13{u}_{j-1}^{n+1} + 8{u}_{j-2}^{n+1} - {u}_{j-3}^{n+1}\\right) + \\right. \\\\ \\left.\n",
    "             \\left({u}_{j+3}^{n} - 8{u}_{j+2}^{n} + 13{u}_{j+1}^{n} \n",
    "                                  - 13{u}_{j-1}^{n} + 8{u}_{j-2}^{n} - {u}_{j-3}^{n}\\right)\\right)=0\n",
    "\\end{multline*}"
   ]
  },
  {
   "cell_type": "code",
   "execution_count": 73,
   "metadata": {},
   "outputs": [],
   "source": [
    "def Dt(a):\n",
    "    return (T(a, 1, 0) - T(a, 0, 0))/(tau)"
   ]
  },
  {
   "cell_type": "code",
   "execution_count": 74,
   "metadata": {},
   "outputs": [],
   "source": [
    "Monom.cmp = Monom.TOPdeglex\n",
    "pda_n, pda_clp = (6, 8), (3, 5)\n",
    "pda_p = Rational(1, 2), Rational(0, 1)"
   ]
  },
  {
   "cell_type": "code",
   "execution_count": 75,
   "metadata": {},
   "outputs": [
    {
     "data": {
      "image/png": "[encoded data removed]",
      "text/latex": [
       "$\\displaystyle 6 u u_{x} + u_{t} + u_{xxx}$"
      ],
      "text/plain": [
       "6⋅u⋅u_{x} + u_{t} + u_{xxx}"
      ]
     },
     "metadata": {},
     "output_type": "display_data"
    },
    {
     "name": "stdout",
     "output_type": "stream",
     "text": [
      "h^4 =>\n"
     ]
    },
    {
     "data": {
      "image/png": "[encoded data removed]",
      "text/latex": [
       "$\\displaystyle - \\frac{u u_{xxxxx}}{5} - \\frac{7 u_{xxxxxxx}}{120} - u_{xxxx} u_{x} - 2 u_{xxx} u_{xx}$"
      ],
      "text/plain": [
       "  u⋅u_{xxxxx}   7⋅u_{xxxxxxx}                                    \n",
       "- ─────────── - ───────────── - u_{xxxx}⋅u_{x} - 2⋅u_{xxx}⋅u_{xx}\n",
       "       5             120                                         "
      ]
     },
     "metadata": {},
     "output_type": "display_data"
    },
    {
     "name": "stdout",
     "output_type": "stream",
     "text": [
      "tau^2 =>\n"
     ]
    },
    {
     "data": {
      "image/png": "[encoded data removed]",
      "text/latex": [
       "$\\displaystyle \\frac{3 u u_{ttx}}{4} + \\frac{u_{ttt}}{24} + \\frac{u_{ttxxx}}{8} + \\frac{3 u_{tt} u_{x}}{4} + \\frac{3 u_{tx} u_{t}}{2}$"
      ],
      "text/plain": [
       "3⋅u⋅u_{ttx}   u_{ttt}   u_{ttxxx}   3⋅u_{tt}⋅u_{x}   3⋅u_{tx}⋅u_{t}\n",
       "─────────── + ─────── + ───────── + ────────────── + ──────────────\n",
       "     4           24         8             4                2       "
      ]
     },
     "metadata": {},
     "output_type": "display_data"
    },
    {
     "name": "stdout",
     "output_type": "stream",
     "text": [
      "6 u u_{x} + u_{t} + u_{xxx}\n",
      " + h^4\\Big(\n",
      "- \\frac{u u_{xxxxx}}{5} - \\frac{7 u_{xxxxxxx}}{120} - u_{xxxx} u_{x} - 2 u_{xxx} u_{xx}\n",
      "\\Big)\n",
      " + \\tau^2\\Big(\n",
      "\\frac{3 u u_{ttx}}{4} + \\frac{u_{ttt}}{24} + \\frac{u_{ttxxx}}{8} + \\frac{3 u_{tt} u_{x}}{4} + \\frac{3 u_{tx} u_{t}}{2}\n",
      "\\Big)\n",
      "(4, 5)\n"
     ]
    }
   ],
   "source": [
    "F = clip(Dt(u) + 3*(D4x(u**2, 1) + D4x(u**2, 0))/2 + (D4xxx(u, 1) + D4xxx(u, 0))/2)\n",
    "prn(F)\n",
    "prnlatex(F)"
   ]
  },
  {
   "cell_type": "code",
   "execution_count": 76,
   "metadata": {},
   "outputs": [
    {
     "data": {
      "image/png": "[encoded data removed]",
      "text/latex": [
       "$\\displaystyle 6 u u_{x} + u_{t} + u_{xxx}$"
      ],
      "text/plain": [
       "6⋅u⋅u_{x} + u_{t} + u_{xxx}"
      ]
     },
     "metadata": {},
     "output_type": "display_data"
    },
    {
     "name": "stdout",
     "output_type": "stream",
     "text": [
      "h^4 =>\n"
     ]
    },
    {
     "data": {
      "image/png": "[encoded data removed]",
      "text/latex": [
       "$\\displaystyle \\frac{27 u^{3} u_{x}}{5} + \\frac{9 u^{2} u_{t}}{10} - \\frac{u u_{txx}}{2} - \\frac{81 u u_{xx} u_{x}}{5} - \\frac{7 u_{ttx}}{120} - \\frac{29 u_{tx} u_{x}}{20} - \\frac{37 u_{t} u_{xx}}{20} - \\frac{9 u_{x}^{3}}{2}$"
      ],
      "text/plain": [
       "    3            2                                                                                   \n",
       "27⋅u ⋅u_{x}   9⋅u ⋅u_{t}   u⋅u_{txx}   81⋅u⋅u_{xx}⋅u_{x}   7⋅u_{ttx}   29⋅u_{tx}⋅u_{x}   37⋅u_{t}⋅u_{\n",
       "─────────── + ────────── - ───────── - ───────────────── - ───────── - ─────────────── - ────────────\n",
       "     5            10           2               5              120             20                20   \n",
       "\n",
       "             3\n",
       "xx}   9⋅u_{x} \n",
       "─── - ────────\n",
       "         2    "
      ]
     },
     "metadata": {},
     "output_type": "display_data"
    },
    {
     "name": "stdout",
     "output_type": "stream",
     "text": [
      "tau^2 =>\n"
     ]
    },
    {
     "data": {
      "image/png": "[encoded data removed]",
      "text/latex": [
       "$\\displaystyle - \\frac{u_{ttt}}{12}$"
      ],
      "text/plain": [
       "-u_{ttt} \n",
       "─────────\n",
       "    12   "
      ]
     },
     "metadata": {},
     "output_type": "display_data"
    },
    {
     "name": "stdout",
     "output_type": "stream",
     "text": [
      "6 u u_{x} + u_{t} + u_{xxx}\n",
      " + h^4\\Big(\n",
      "\\frac{27 u^{3} u_{x}}{5} + \\frac{9 u^{2} u_{t}}{10} - \\frac{u u_{txx}}{2} - \\frac{81 u u_{xx} u_{x}}{5} - \\frac{7 u_{ttx}}{120} - \\frac{29 u_{tx} u_{x}}{20} - \\frac{37 u_{t} u_{xx}}{20} - \\frac{9 u_{x}^{3}}{2}\n",
      "\\Big)\n",
      " + \\tau^2\\Big(\n",
      "- \\frac{u_{ttt}}{12}\n",
      "\\Big)\n",
      "(8, 2)\n",
      "h^4 =>\n",
      "27*fi[2]**3*fi_x/5 + 9*fi[2]**2*fi_t/10 - fi[2]*fi_txx/2 - 81*fi[2]*fi_xx*fi_x/5 - 7*fi_ttx/120 - 29*fi_tx*fi_x/20 - 37*fi_t*fi_xx/20 - 9*fi_x**3/2\n",
      "tau^2 =>\n",
      "-fi_ttt/12\n"
     ]
    }
   ],
   "source": [
    "Ffda = NF(F, [u.diff(x, 3)], [F], head=False)\n",
    "prn(Ffda)\n",
    "prnlatex(Ffda)\n",
    "prnP(Ffda)"
   ]
  },
  {
   "cell_type": "markdown",
   "metadata": {},
   "source": [
    "\\frac{90 u u_{xx} u_{x}}{5} + \\frac{20 u_{tx} u_{x}}{20} + \\frac{40 u_{t} u_{xx}}{20} + \\frac{3 u_{x}^{3}}{2}"
   ]
  },
  {
   "cell_type": "code",
   "execution_count": 86,
   "metadata": {},
   "outputs": [
    {
     "data": {
      "image/png": "[encoded data removed]",
      "text/latex": [
       "$\\displaystyle 3$"
      ],
      "text/plain": [
       "3"
      ]
     },
     "execution_count": 86,
     "metadata": {},
     "output_type": "execute_result"
    }
   ],
   "source": [
    "21 - 18"
   ]
  },
  {
   "cell_type": "code",
   "execution_count": 77,
   "metadata": {},
   "outputs": [
    {
     "data": {
      "image/png": "[encoded data removed]",
      "text/latex": [
       "$\\displaystyle 0$"
      ],
      "text/plain": [
       "0"
      ]
     },
     "metadata": {},
     "output_type": "display_data"
    }
   ],
   "source": [
    "display(Ffda[0][1].subs({u: ex1}).doit().simplify())"
   ]
  },
  {
   "cell_type": "code",
   "execution_count": 78,
   "metadata": {},
   "outputs": [
    {
     "data": {
      "image/png": "[encoded data removed]",
      "text/latex": [
       "$\\displaystyle \\frac{k^{7} \\cdot \\left(1302 D \\sinh{\\left(\\xi \\right)} + 402 D \\sinh{\\left(2 \\xi \\right)} - 162 D \\sinh{\\left(3 \\xi \\right)} + 3 D \\sinh{\\left(4 \\xi \\right)} - \\frac{16121 k^{2} \\sinh{\\left(\\xi \\right)}}{4} + \\frac{6337 k^{2} \\sinh{\\left(2 \\xi \\right)}}{4} - \\frac{477 k^{2} \\sinh{\\left(3 \\xi \\right)}}{4} + \\frac{7 k^{2} \\sinh{\\left(4 \\xi \\right)}}{8}\\right)}{120 \\left(\\cosh{\\left(\\xi \\right)} + 1\\right)^{5}}$"
      ],
      "text/plain": [
       "   ⎛                                                                            2                 2  \n",
       " 7 ⎜                                                                     16121⋅k ⋅sinh(ξ)   6337⋅k ⋅s\n",
       "k ⋅⎜1302⋅D⋅sinh(ξ) + 402⋅D⋅sinh(2⋅ξ) - 162⋅D⋅sinh(3⋅ξ) + 3⋅D⋅sinh(4⋅ξ) - ──────────────── + ─────────\n",
       "   ⎝                                                                            4                   4\n",
       "─────────────────────────────────────────────────────────────────────────────────────────────────────\n",
       "                                                                                 5                   \n",
       "                                                                120⋅(cosh(ξ) + 1)                    \n",
       "\n",
       "                2                2          ⎞\n",
       "inh(2⋅ξ)   477⋅k ⋅sinh(3⋅ξ)   7⋅k ⋅sinh(4⋅ξ)⎟\n",
       "──────── - ──────────────── + ──────────────⎟\n",
       "                  4                 8       ⎠\n",
       "─────────────────────────────────────────────\n",
       "                                             \n",
       "                                             "
      ]
     },
     "metadata": {},
     "output_type": "display_data"
    },
    {
     "name": "stdout",
     "output_type": "stream",
     "text": [
      "\\frac{k^{7} \\cdot \\left(1302 D \\sinh{\\left(\\xi \\right)} + 402 D \\sinh{\\left(2 \\xi \\right)} - 162 D \\sinh{\\left(3 \\xi \\right)} + 3 D \\sinh{\\left(4 \\xi \\right)} - \\frac{16121 k^{2} \\sinh{\\left(\\xi \\right)}}{4} + \\frac{6337 k^{2} \\sinh{\\left(2 \\xi \\right)}}{4} - \\frac{477 k^{2} \\sinh{\\left(3 \\xi \\right)}}{4} + \\frac{7 k^{2} \\sinh{\\left(4 \\xi \\right)}}{8}\\right)}{120 \\left(\\cosh{\\left(\\xi \\right)} + 1\\right)^{5}}\n",
      "k**7*(1302*D*sinh(xi) + 402*D*sinh(2*xi) - 162*D*sinh(3*xi) + 3*D*sinh(4*xi) - 16121*k**2*sinh(xi)/4 + 6337*k**2*sinh(2*xi)/4 - 477*k**2*sinh(3*xi)/4 + 7*k**2*sinh(4*xi)/8)/(120*(cosh(xi) + 1)**5)\n"
     ]
    }
   ],
   "source": [
    "res = Ffda[1][1].subs({u: ex1}).doit().subs({x: xi/k + (6*D + k**2)*t}).simplify()\n",
    "display(res)\n",
    "print(latex(res))\n",
    "print(res)"
   ]
  },
  {
   "cell_type": "code",
   "execution_count": 79,
   "metadata": {},
   "outputs": [
    {
     "data": {
      "image/png": "[encoded data removed]",
      "text/latex": [
       "$\\displaystyle - \\frac{k^{5} \\left(6 D + k^{2}\\right)^{3} \\left(\\cosh{\\left(\\xi \\right)} - 5\\right) \\sinh{\\left(\\xi \\right)}}{12 \\left(\\cosh{\\left(\\xi \\right)} + 1\\right)^{3}}$"
      ],
      "text/plain": [
       "              3                       \n",
       "  5 ⎛       2⎞                        \n",
       "-k ⋅⎝6⋅D + k ⎠ ⋅(cosh(ξ) - 5)⋅sinh(ξ) \n",
       "──────────────────────────────────────\n",
       "                          3           \n",
       "          12⋅(cosh(ξ) + 1)            "
      ]
     },
     "metadata": {},
     "output_type": "display_data"
    },
    {
     "name": "stdout",
     "output_type": "stream",
     "text": [
      "- \\frac{k^{5} \\left(6 D + k^{2}\\right)^{3} \\left(\\cosh{\\left(\\xi \\right)} - 5\\right) \\sinh{\\left(\\xi \\right)}}{12 \\left(\\cosh{\\left(\\xi \\right)} + 1\\right)^{3}}\n",
      "-k**5*(6*D + k**2)**3*(cosh(xi) - 5)*sinh(xi)/(12*(cosh(xi) + 1)**3)\n"
     ]
    }
   ],
   "source": [
    "res = Ffda[2][1].subs({u: ex1}).doit().subs({x: xi/k + (6*D + k**2)*t}).simplify()\n",
    "display(res)\n",
    "print(latex(res))\n",
    "print(res)"
   ]
  },
  {
   "cell_type": "code",
   "execution_count": 80,
   "metadata": {},
   "outputs": [
    {
     "data": {
      "image/png": "[encoded data removed]",
      "text/latex": [
       "$\\displaystyle 0$"
      ],
      "text/plain": [
       "0"
      ]
     },
     "metadata": {},
     "output_type": "display_data"
    }
   ],
   "source": [
    "display(Ffda[0][1].subs({u: ex2}).doit().simplify())"
   ]
  },
  {
   "cell_type": "code",
   "execution_count": 81,
   "metadata": {},
   "outputs": [
    {
     "data": {
      "image/png": "[encoded data removed]",
      "text/latex": [
       "$\\displaystyle - \\frac{32 k^{9} \\left(\\tanh{\\left(\\xi \\right)} - 1\\right) \\left(\\tanh{\\left(\\xi \\right)} + 1\\right) \\left(945 \\tanh^{6}{\\left(\\xi \\right)} - 1800 \\tanh^{4}{\\left(\\xi \\right)} + 1014 \\tanh^{2}{\\left(\\xi \\right)} - 152\\right) \\tanh{\\left(\\xi \\right)}}{15}$"
      ],
      "text/plain": [
       "     9                             ⎛        6               4               2         ⎞         \n",
       "-32⋅k ⋅(tanh(ξ) - 1)⋅(tanh(ξ) + 1)⋅⎝945⋅tanh (ξ) - 1800⋅tanh (ξ) + 1014⋅tanh (ξ) - 152⎠⋅tanh(ξ) \n",
       "────────────────────────────────────────────────────────────────────────────────────────────────\n",
       "                                               15                                               "
      ]
     },
     "metadata": {},
     "output_type": "display_data"
    },
    {
     "name": "stdout",
     "output_type": "stream",
     "text": [
      "- \\frac{32 k^{9} \\left(\\tanh{\\left(\\xi \\right)} - 1\\right) \\left(\\tanh{\\left(\\xi \\right)} + 1\\right) \\left(945 \\tanh^{6}{\\left(\\xi \\right)} - 1800 \\tanh^{4}{\\left(\\xi \\right)} + 1014 \\tanh^{2}{\\left(\\xi \\right)} - 152\\right) \\tanh{\\left(\\xi \\right)}}{15}\n",
      "-32*k**9*(tanh(xi) - 1)*(tanh(xi) + 1)*(945*tanh(xi)**6 - 1800*tanh(xi)**4 + 1014*tanh(xi)**2 - 152)*tanh(xi)/15\n"
     ]
    }
   ],
   "source": [
    "res = Ffda[1][1].subs({u: ex2}).doit().subs({x: xi/k + 4*k**2*t}).combsimp()\n",
    "display(res)\n",
    "print(latex(res))\n",
    "print(res)"
   ]
  },
  {
   "cell_type": "code",
   "execution_count": 82,
   "metadata": {},
   "outputs": [
    {
     "data": {
      "image/png": "[encoded data removed]",
      "text/latex": [
       "$\\displaystyle \\frac{256 k^{11} \\left(\\tanh{\\left(\\xi \\right)} - 1\\right) \\left(\\tanh{\\left(\\xi \\right)} + 1\\right) \\left(3 \\tanh^{2}{\\left(\\xi \\right)} - 2\\right) \\tanh{\\left(\\xi \\right)}}{3}$"
      ],
      "text/plain": [
       "     11                             ⎛      2       ⎞        \n",
       "256⋅k  ⋅(tanh(ξ) - 1)⋅(tanh(ξ) + 1)⋅⎝3⋅tanh (ξ) - 2⎠⋅tanh(ξ)\n",
       "────────────────────────────────────────────────────────────\n",
       "                             3                              "
      ]
     },
     "metadata": {},
     "output_type": "display_data"
    },
    {
     "name": "stdout",
     "output_type": "stream",
     "text": [
      "\\frac{256 k^{11} \\left(\\tanh{\\left(\\xi \\right)} - 1\\right) \\left(\\tanh{\\left(\\xi \\right)} + 1\\right) \\left(3 \\tanh^{2}{\\left(\\xi \\right)} - 2\\right) \\tanh{\\left(\\xi \\right)}}{3}\n",
      "256*k**11*(tanh(xi) - 1)*(tanh(xi) + 1)*(3*tanh(xi)**2 - 2)*tanh(xi)/3\n"
     ]
    }
   ],
   "source": [
    "res = Ffda[2][1].subs({u: ex2}).doit().subs({x: xi/k + 4*k**2*t}).combsimp()\n",
    "display(res)\n",
    "print(latex(res))\n",
    "print(res)"
   ]
  },
  {
   "cell_type": "code",
   "execution_count": 83,
   "metadata": {},
   "outputs": [
    {
     "name": "stdout",
     "output_type": "stream",
     "text": [
      "(3, 2)\n",
      "(2, 2)\n",
      "(2, 2)\n",
      "(2, 5)\n",
      "(2, 5)\n",
      "(3, 4)\n",
      "(4, 5)\n"
     ]
    }
   ],
   "source": [
    "for l in rlen[0::2]:\n",
    "    print(l)"
   ]
  },
  {
   "cell_type": "code",
   "execution_count": 84,
   "metadata": {},
   "outputs": [
    {
     "name": "stdout",
     "output_type": "stream",
     "text": [
      "(4, 2)\n",
      "(4, 2)\n",
      "(8, 2)\n",
      "(4, 2)\n",
      "(8, 2)\n",
      "(4, 2)\n",
      "(8, 2)\n"
     ]
    }
   ],
   "source": [
    "for l in rlen[1::2]:\n",
    "    print(l)"
   ]
  },
  {
   "cell_type": "code",
   "execution_count": null,
   "metadata": {},
   "outputs": [],
   "source": []
  }
 ],
 "metadata": {
  "kernelspec": {
   "display_name": "Python 3 (ipykernel)",
   "language": "python",
   "name": "python3"
  },
  "language_info": {
   "codemirror_mode": {
    "name": "ipython",
    "version": 3
   },
   "file_extension": ".py",
   "mimetype": "text/x-python",
   "name": "python",
   "nbconvert_exporter": "python",
   "pygments_lexer": "ipython3",
   "version": "3.11.2"
  }
 },
 "nbformat": 4,
 "nbformat_minor": 2
}
