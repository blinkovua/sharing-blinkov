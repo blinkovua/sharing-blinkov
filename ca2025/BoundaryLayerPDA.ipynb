{
 "cells": [
  {
   "cell_type": "code",
   "execution_count": 1,
   "id": "8c54cd9a",
   "metadata": {},
   "outputs": [],
   "source": [
    "import time\n",
    "from pprint import pprint\n",
    "from IPython.display import display\n",
    "\n",
    "from sympy import *\n",
    "init_printing()\n",
    "\n",
    "from fda_ode import *"
   ]
  },
  {
   "cell_type": "code",
   "execution_count": 2,
   "id": "96af006f",
   "metadata": {},
   "outputs": [],
   "source": [
    "eps, t, h, a, b = symbols(r'\\varepsilon, t, h, alpha, beta', real=True)\n",
    "u, u1 = (f(t) for f in symbols('u, u1', cls=Function))"
   ]
  },
  {
   "cell_type": "code",
   "execution_count": 3,
   "id": "8bdd1c15",
   "metadata": {},
   "outputs": [
    {
     "data": {
      "image/png": "[encoded data removed]",
      "text/latex": [
       "$\\displaystyle \\varepsilon \\frac{d^{2}}{d t^{2}} u{\\left(t \\right)} + \\left(1 - \\varepsilon^{2}\\right) u{\\left(t \\right)} + \\left(\\varepsilon^{2} + 1\\right) \\frac{d}{d t} u{\\left(t \\right)}$"
      ],
      "text/plain": [
       "              2                                                              \n",
       "             d          ⎛               2⎞        ⎛           2    ⎞ d       \n",
       "\\varepsilon⋅───(u(t)) + ⎝1 - \\varepsilon ⎠⋅u(t) + ⎝\\varepsilon  + 1⎠⋅──(u(t))\n",
       "              2                                                      dt      \n",
       "            dt                                                               "
      ]
     },
     "metadata": {},
     "output_type": "display_data"
    }
   ],
   "source": [
    "eq = eps*u.diff(t, 2) + (1 + eps**2)*u.diff(t) + (1 - eps**2)*u\n",
    "display(eq)"
   ]
  },
  {
   "cell_type": "markdown",
   "id": "adf6159b",
   "metadata": {},
   "source": [
    "## Nayfeh A. H. Introduction to Perturbation Techniques, Wiley-VCH, 1st edition, 1993. 536 p."
   ]
  },
  {
   "cell_type": "code",
   "execution_count": 4,
   "id": "d5eb6dcc",
   "metadata": {},
   "outputs": [
    {
     "data": {
      "image/png": "[encoded data removed]",
      "text/latex": [
       "$\\displaystyle \\frac{\\left(- e^{\\frac{t}{\\varepsilon}} + e^{t \\left(\\varepsilon + 2\\right)}\\right) e^{- \\varepsilon t + \\varepsilon - t + 1 - \\frac{t}{\\varepsilon} + \\frac{1}{\\varepsilon}}}{- e^{\\frac{1}{\\varepsilon}} + e^{\\varepsilon + 2}}$"
      ],
      "text/plain": [
       "⎛        t                            ⎞                                              t     \n",
       "⎜   ───────────                       ⎟  -\\varepsilon⋅t + \\varepsilon - t + 1 - ───────────\n",
       "⎜   \\varepsilon    t⋅(\\varepsilon + 2)⎟                                         \\varepsilon\n",
       "⎝- ℯ            + ℯ                   ⎠⋅ℯ                                                  \n",
       "───────────────────────────────────────────────────────────────────────────────────────────\n",
       "                                            1                                              \n",
       "                                       ───────────                                         \n",
       "                                       \\varepsilon    \\varepsilon + 2                      \n",
       "                                    - ℯ            + ℯ                                     \n",
       "\n",
       "        1     \n",
       " + ───────────\n",
       "   \\varepsilon\n",
       "              \n",
       "──────────────\n",
       "              \n",
       "              \n",
       "              \n",
       "              "
      ]
     },
     "metadata": {},
     "output_type": "display_data"
    }
   ],
   "source": [
    "s = dsolve(eq, u, ics={u.subs(t, 0): 0, u.subs(t, 1): 1})\n",
    "display(s.args[1].expand().simplify())"
   ]
  },
  {
   "cell_type": "code",
   "execution_count": 5,
   "id": "dbeb7135",
   "metadata": {},
   "outputs": [],
   "source": [
    "sol = {u: s.args[1], u1: s.args[1].diff(t)}"
   ]
  },
  {
   "cell_type": "code",
   "execution_count": 6,
   "id": "2119f3ef",
   "metadata": {
    "scrolled": true
   },
   "outputs": [],
   "source": [
    "init((u, u1), t, h)"
   ]
  },
  {
   "cell_type": "code",
   "execution_count": 7,
   "id": "3c0d2dd6",
   "metadata": {},
   "outputs": [],
   "source": [
    "set_clip(8, 7, Rational(0, 1))"
   ]
  },
  {
   "cell_type": "code",
   "execution_count": 8,
   "id": "97ec119d",
   "metadata": {},
   "outputs": [
    {
     "data": {
      "image/png": "[encoded data removed]",
      "text/latex": [
       "$\\displaystyle \\frac{h^{6} u{\\left(t \\right)} \\frac{d^{7}}{d t^{7}} u{\\left(t \\right)}}{5040} + \\frac{h^{6} \\frac{d}{d t} u{\\left(t \\right)} \\frac{d^{6}}{d t^{6}} u{\\left(t \\right)}}{720} + \\frac{h^{6} \\frac{d^{2}}{d t^{2}} u{\\left(t \\right)} \\frac{d^{5}}{d t^{5}} u{\\left(t \\right)}}{240} + \\frac{h^{6} \\frac{d^{3}}{d t^{3}} u{\\left(t \\right)} \\frac{d^{4}}{d t^{4}} u{\\left(t \\right)}}{144} + \\frac{h^{4} u{\\left(t \\right)} \\frac{d^{5}}{d t^{5}} u{\\left(t \\right)}}{120} + \\frac{h^{4} \\frac{d}{d t} u{\\left(t \\right)} \\frac{d^{4}}{d t^{4}} u{\\left(t \\right)}}{24} + \\frac{h^{4} \\frac{d^{2}}{d t^{2}} u{\\left(t \\right)} \\frac{d^{3}}{d t^{3}} u{\\left(t \\right)}}{12} + \\frac{h^{2} u{\\left(t \\right)} \\frac{d^{3}}{d t^{3}} u{\\left(t \\right)}}{6} + \\frac{h^{2} \\frac{d}{d t} u{\\left(t \\right)} \\frac{d^{2}}{d t^{2}} u{\\left(t \\right)}}{2} + u{\\left(t \\right)} \\frac{d}{d t} u{\\left(t \\right)}$"
      ],
      "text/plain": [
       "          7                       6              2         5              3         4      \n",
       " 6       d           6 d         d           6  d         d           6  d         d       \n",
       "h ⋅u(t)⋅───(u(t))   h ⋅──(u(t))⋅───(u(t))   h ⋅───(u(t))⋅───(u(t))   h ⋅───(u(t))⋅───(u(t))\n",
       "          7            dt         6              2         5              3         4      \n",
       "        dt                      dt             dt        dt             dt        dt       \n",
       "───────────────── + ───────────────────── + ────────────────────── + ──────────────────────\n",
       "       5040                  720                     240                      144          \n",
       "\n",
       "             5                       4              2         3                   3        \n",
       "    4       d           4 d         d           4  d         d           2       d         \n",
       "   h ⋅u(t)⋅───(u(t))   h ⋅──(u(t))⋅───(u(t))   h ⋅───(u(t))⋅───(u(t))   h ⋅u(t)⋅───(u(t))  \n",
       "             5            dt         4              2         3                   3        \n",
       "           dt                      dt             dt        dt                  dt         \n",
       " + ───────────────── + ───────────────────── + ────────────────────── + ───────────────── +\n",
       "          120                    24                      12                     6          \n",
       "\n",
       "               2                      \n",
       "  2 d         d                       \n",
       " h ⋅──(u(t))⋅───(u(t))                \n",
       "    dt         2                      \n",
       "             dt               d       \n",
       " ───────────────────── + u(t)⋅──(u(t))\n",
       "           2                  dt      "
      ]
     },
     "execution_count": 8,
     "metadata": {},
     "output_type": "execute_result"
    }
   ],
   "source": [
    "expand((T(u.subs(t, t+h)**2)-T(u.subs(t, t-h)**2))/(4*h))"
   ]
  },
  {
   "cell_type": "markdown",
   "id": "8c8986a2",
   "metadata": {},
   "source": [
    "$$\\frac{1}{6}ux_{i+1} + \\frac{2}{3}ux_{i} + \\frac{1}{6}ux_{i-1} = \\frac{u_{i+1}-u_{i-1}}{2h}$$"
   ]
  },
  {
   "cell_type": "code",
   "execution_count": 9,
   "id": "59d9e24b",
   "metadata": {
    "scrolled": false
   },
   "outputs": [
    {
     "name": "stdout",
     "output_type": "stream",
     "text": [
      "h^0 =>\n"
     ]
    },
    {
     "data": {
      "image/png": "[encoded data removed]",
      "text/latex": [
       "$\\displaystyle u_{1} - u_{t}$"
      ],
      "text/plain": [
       "u₁ - u_{t}"
      ]
     },
     "metadata": {},
     "output_type": "display_data"
    },
    {
     "name": "stdout",
     "output_type": "stream",
     "text": [
      "h^1 =>\n"
     ]
    },
    {
     "data": {
      "image/png": "[encoded data removed]",
      "text/latex": [
       "$\\displaystyle 0$"
      ],
      "text/plain": [
       "0"
      ]
     },
     "metadata": {},
     "output_type": "display_data"
    },
    {
     "name": "stdout",
     "output_type": "stream",
     "text": [
      "h^2 =>\n"
     ]
    },
    {
     "data": {
      "image/png": "[encoded data removed]",
      "text/latex": [
       "$\\displaystyle \\frac{u1_{tt} - u_{ttt}}{6}$"
      ],
      "text/plain": [
       "u_1_{tt} - u_{ttt}\n",
       "──────────────────\n",
       "        6         "
      ]
     },
     "metadata": {},
     "output_type": "display_data"
    },
    {
     "name": "stdout",
     "output_type": "stream",
     "text": [
      "h^3 =>\n"
     ]
    },
    {
     "data": {
      "image/png": "[encoded data removed]",
      "text/latex": [
       "$\\displaystyle 0$"
      ],
      "text/plain": [
       "0"
      ]
     },
     "metadata": {},
     "output_type": "display_data"
    },
    {
     "name": "stdout",
     "output_type": "stream",
     "text": [
      "h^4 =>\n"
     ]
    },
    {
     "data": {
      "image/png": "[encoded data removed]",
      "text/latex": [
       "$\\displaystyle \\frac{5 u1_{tttt} - 3 u_{ttttt}}{360}$"
      ],
      "text/plain": [
       "5⋅u_1_{tttt} - 3⋅u_{ttttt}\n",
       "──────────────────────────\n",
       "           360            "
      ]
     },
     "metadata": {},
     "output_type": "display_data"
    },
    {
     "name": "stdout",
     "output_type": "stream",
     "text": [
      "h^5 =>\n"
     ]
    },
    {
     "data": {
      "image/png": "[encoded data removed]",
      "text/latex": [
       "$\\displaystyle 0$"
      ],
      "text/plain": [
       "0"
      ]
     },
     "metadata": {},
     "output_type": "display_data"
    },
    {
     "name": "stdout",
     "output_type": "stream",
     "text": [
      "h^6 =>\n"
     ]
    },
    {
     "data": {
      "image/png": "[encoded data removed]",
      "text/latex": [
       "$\\displaystyle \\frac{7 u1_{tttttt} - 3 u_{ttttttt}}{15120}$"
      ],
      "text/plain": [
       "7⋅u_1_{tttttt} - 3⋅u_{ttttttt}\n",
       "──────────────────────────────\n",
       "            15120             "
      ]
     },
     "metadata": {},
     "output_type": "display_data"
    }
   ],
   "source": [
    "F1 = clip((T(u1.subs(t, t+h))/6 + 2*T(u1)/3 + T(u1.subs(t, t-h))/6) -\\\n",
    "           (T(u.subs(t, t+h)) - T(u.subs(t, t-h)))/(2*h))\n",
    "prn(F1, eps)"
   ]
  },
  {
   "cell_type": "markdown",
   "id": "0a5b9506",
   "metadata": {},
   "source": [
    "$$6 (1 + {\\varepsilon^2}) {ux}_{{j} + 1} + 3\\frac{(1 + {\\varepsilon^2}) \\left({u}_{{j} + 2} - {u}_{{j}}\\right)}{h} + (1 - {\\varepsilon^2}) \\left({u}_{{j} + 2} + 10 {u}_{{j} + 1} + {u}_{{j}}\\right) + 12\\frac{\\varepsilon \\left({u}_{{j} + 2} - 2{u}_{{j} + 1}  + {u}_{{j}}\\right)}{h^{2}}=0$$"
   ]
  },
  {
   "cell_type": "code",
   "execution_count": 10,
   "id": "841602b7",
   "metadata": {},
   "outputs": [
    {
     "name": "stdout",
     "output_type": "stream",
     "text": [
      "h^0 =>\n"
     ]
    },
    {
     "data": {
      "image/png": "[encoded data removed]",
      "text/latex": [
       "$\\displaystyle - \\frac{\\varepsilon^{2} \\cdot \\left(2 u - u_{1} - u_{t}\\right)}{2} + \\varepsilon u_{tt} + \\frac{2 u + u_{1} + u_{t}}{2}$"
      ],
      "text/plain": [
       "             2                                                           \n",
       "  \\varepsilon ⋅(2⋅u - u₁ - u_{t})                        2⋅u + u₁ + u_{t}\n",
       "- ─────────────────────────────── + \\varepsilon⋅u_{tt} + ────────────────\n",
       "                 2                                              2        "
      ]
     },
     "metadata": {},
     "output_type": "display_data"
    },
    {
     "name": "stdout",
     "output_type": "stream",
     "text": [
      "h^1 =>\n"
     ]
    },
    {
     "data": {
      "image/png": "[encoded data removed]",
      "text/latex": [
       "$\\displaystyle 0$"
      ],
      "text/plain": [
       "0"
      ]
     },
     "metadata": {},
     "output_type": "display_data"
    },
    {
     "name": "stdout",
     "output_type": "stream",
     "text": [
      "h^2 =>\n"
     ]
    },
    {
     "data": {
      "image/png": "[encoded data removed]",
      "text/latex": [
       "$\\displaystyle \\frac{\\varepsilon^{2} \\left(u_{ttt} - u_{tt}\\right)}{12} + \\frac{\\varepsilon u_{tttt}}{12} + \\frac{u_{ttt} + u_{tt}}{12}$"
      ],
      "text/plain": [
       "           2                                                             \n",
       "\\varepsilon ⋅(u_{ttt} - u_{tt})   \\varepsilon⋅u_{tttt}   u_{ttt} + u_{tt}\n",
       "─────────────────────────────── + ──────────────────── + ────────────────\n",
       "               12                          12                   12       "
      ]
     },
     "metadata": {},
     "output_type": "display_data"
    },
    {
     "name": "stdout",
     "output_type": "stream",
     "text": [
      "h^3 =>\n"
     ]
    },
    {
     "data": {
      "image/png": "[encoded data removed]",
      "text/latex": [
       "$\\displaystyle 0$"
      ],
      "text/plain": [
       "0"
      ]
     },
     "metadata": {},
     "output_type": "display_data"
    },
    {
     "name": "stdout",
     "output_type": "stream",
     "text": [
      "h^4 =>\n"
     ]
    },
    {
     "data": {
      "image/png": "[encoded data removed]",
      "text/latex": [
       "$\\displaystyle \\frac{\\varepsilon^{2} \\cdot \\left(3 u_{ttttt} - 5 u_{tttt}\\right)}{720} + \\frac{\\varepsilon u_{tttttt}}{360} + \\frac{3 u_{ttttt} + 5 u_{tttt}}{720}$"
      ],
      "text/plain": [
       "           2                                                                               \n",
       "\\varepsilon ⋅(3⋅u_{ttttt} - 5⋅u_{tttt})   \\varepsilon⋅u_{tttttt}   3⋅u_{ttttt} + 5⋅u_{tttt}\n",
       "─────────────────────────────────────── + ────────────────────── + ────────────────────────\n",
       "                  720                              360                       720           "
      ]
     },
     "metadata": {},
     "output_type": "display_data"
    },
    {
     "name": "stdout",
     "output_type": "stream",
     "text": [
      "h^5 =>\n"
     ]
    },
    {
     "data": {
      "image/png": "[encoded data removed]",
      "text/latex": [
       "$\\displaystyle 0$"
      ],
      "text/plain": [
       "0"
      ]
     },
     "metadata": {},
     "output_type": "display_data"
    },
    {
     "name": "stdout",
     "output_type": "stream",
     "text": [
      "h^6 =>\n"
     ]
    },
    {
     "data": {
      "image/png": "[encoded data removed]",
      "text/latex": [
       "$\\displaystyle \\frac{\\varepsilon^{2} \\cdot \\left(3 u_{ttttttt} - 7 u_{tttttt}\\right)}{30240} + \\frac{3 u_{ttttttt} + 7 u_{tttttt}}{30240}$"
      ],
      "text/plain": [
       "           2                                                              \n",
       "\\varepsilon ⋅(3⋅u_{ttttttt} - 7⋅u_{tttttt})   3⋅u_{ttttttt} + 7⋅u_{tttttt}\n",
       "─────────────────────────────────────────── + ────────────────────────────\n",
       "                   30240                                 30240            "
      ]
     },
     "metadata": {},
     "output_type": "display_data"
    }
   ],
   "source": [
    "F2 = clip((1 + eps**2)*T(u1)/2 + (1 + eps**2)*(T(u.subs(t, t+h)) - T(u.subs(t, t-h)))/(4*h) +\n",
    "          (1 - eps**2)*(T(u.subs(t, t+h)) + 10*T(u) + T(u.subs(t, t-h)))/12 +\n",
    "          eps*(T(u.subs(t, t+h)) - 2*T(u) + T(u.subs(t, t-h)))/(h**2))\n",
    "prn(F2, eps)"
   ]
  },
  {
   "cell_type": "code",
   "execution_count": 11,
   "id": "008c45da",
   "metadata": {},
   "outputs": [
    {
     "name": "stdout",
     "output_type": "stream",
     "text": [
      "h^0 =>\n"
     ]
    },
    {
     "data": {
      "image/png": "[encoded data removed]",
      "text/latex": [
       "$\\displaystyle u_{1} - u_{t}$"
      ],
      "text/plain": [
       "u₁ - u_{t}"
      ]
     },
     "metadata": {},
     "output_type": "display_data"
    },
    {
     "name": "stdout",
     "output_type": "stream",
     "text": [
      "h^1 =>\n"
     ]
    },
    {
     "data": {
      "image/png": "[encoded data removed]",
      "text/latex": [
       "$\\displaystyle 0$"
      ],
      "text/plain": [
       "0"
      ]
     },
     "metadata": {},
     "output_type": "display_data"
    },
    {
     "name": "stdout",
     "output_type": "stream",
     "text": [
      "h^2 =>\n"
     ]
    },
    {
     "data": {
      "image/png": "[encoded data removed]",
      "text/latex": [
       "$\\displaystyle 0$"
      ],
      "text/plain": [
       "0"
      ]
     },
     "metadata": {},
     "output_type": "display_data"
    },
    {
     "name": "stdout",
     "output_type": "stream",
     "text": [
      "h^3 =>\n"
     ]
    },
    {
     "data": {
      "image/png": "[encoded data removed]",
      "text/latex": [
       "$\\displaystyle 0$"
      ],
      "text/plain": [
       "0"
      ]
     },
     "metadata": {},
     "output_type": "display_data"
    },
    {
     "name": "stdout",
     "output_type": "stream",
     "text": [
      "h^4 =>\n"
     ]
    },
    {
     "data": {
      "image/png": "[encoded data removed]",
      "text/latex": [
       "$\\displaystyle - \\frac{\\varepsilon^{4} \\left(u - u_{t}\\right)}{180} - \\frac{\\varepsilon^{3} \\cdot \\left(2 u - 3 u_{t}\\right)}{180} - \\frac{\\varepsilon^{2} \\cdot \\left(2 u - 5 u_{t}\\right)}{180} + \\frac{\\varepsilon \\left(2 u + 3 u_{t}\\right)}{180} + \\frac{u_{t}}{45} + \\frac{2 u - 3 u_{t}}{180 \\varepsilon} + \\frac{2 u + 5 u_{t}}{180 \\varepsilon^{2}} - \\frac{2 u + 3 u_{t}}{180 \\varepsilon^{3}} + \\frac{u + u_{t}}{180 \\varepsilon^{4}}$"
      ],
      "text/plain": [
       "             4                          3                              2                   \n",
       "  \\varepsilon ⋅(u - u_{t})   \\varepsilon ⋅(2⋅u - 3⋅u_{t})   \\varepsilon ⋅(2⋅u - 5⋅u_{t})   \n",
       "- ──────────────────────── - ──────────────────────────── - ──────────────────────────── + \n",
       "            180                          180                            180                \n",
       "                                                                                           \n",
       "\n",
       "                                                                                           \n",
       "\\varepsilon⋅(2⋅u + 3⋅u_{t})   u_{t}    2⋅u - 3⋅u_{t}     2⋅u + 5⋅u_{t}      2⋅u + 3⋅u_{t}  \n",
       "─────────────────────────── + ───── + ─────────────── + ──────────────── - ────────────────\n",
       "            180                 45    180⋅\\varepsilon                  2                  3\n",
       "                                                        180⋅\\varepsilon    180⋅\\varepsilon \n",
       "\n",
       "                   \n",
       "      u + u_{t}    \n",
       " + ────────────────\n",
       "                  4\n",
       "   180⋅\\varepsilon "
      ]
     },
     "metadata": {},
     "output_type": "display_data"
    },
    {
     "name": "stdout",
     "output_type": "stream",
     "text": [
      "h^5 =>\n"
     ]
    },
    {
     "data": {
      "image/png": "[encoded data removed]",
      "text/latex": [
       "$\\displaystyle 0$"
      ],
      "text/plain": [
       "0"
      ]
     },
     "metadata": {},
     "output_type": "display_data"
    },
    {
     "name": "stdout",
     "output_type": "stream",
     "text": [
      "h^6 =>\n"
     ]
    },
    {
     "data": {
      "image/png": "[encoded data removed]",
      "text/latex": [
       "$\\displaystyle \\frac{\\varepsilon^{6} \\left(u - u_{t}\\right)}{1512} + \\frac{\\varepsilon^{5} \\cdot \\left(4 u - 5 u_{t}\\right)}{1512} + \\frac{\\varepsilon^{4} \\cdot \\left(7 u - 12 u_{t}\\right)}{1512} + \\frac{\\varepsilon^{3} \\left(u - 4 u_{t}\\right)}{378} - \\frac{\\varepsilon^{2} \\left(u + 15 u_{t}\\right)}{1512} - \\frac{\\varepsilon \\left(8 u + 7 u_{t}\\right)}{1512} - \\frac{u_{t}}{189} - \\frac{8 u - 7 u_{t}}{1512 \\varepsilon} + \\frac{u - 15 u_{t}}{1512 \\varepsilon^{2}} + \\frac{u + 4 u_{t}}{378 \\varepsilon^{3}} - \\frac{7 u + 12 u_{t}}{1512 \\varepsilon^{4}} + \\frac{4 u + 5 u_{t}}{1512 \\varepsilon^{5}} - \\frac{u + u_{t}}{1512 \\varepsilon^{6}}$"
      ],
      "text/plain": [
       "           6                          5                              4                     \n",
       "\\varepsilon ⋅(u - u_{t})   \\varepsilon ⋅(4⋅u - 5⋅u_{t})   \\varepsilon ⋅(7⋅u - 12⋅u_{t})   \\\n",
       "──────────────────────── + ──────────────────────────── + ───────────────────────────── + ─\n",
       "          1512                         1512                            1512                \n",
       "                                                                                           \n",
       "\n",
       "          3                            2                                                   \n",
       "varepsilon ⋅(u - 4⋅u_{t})   \\varepsilon ⋅(u + 15⋅u_{t})   \\varepsilon⋅(8⋅u + 7⋅u_{t})   u_{\n",
       "───────────────────────── - ─────────────────────────── - ─────────────────────────── - ───\n",
       "          378                           1512                          1512               18\n",
       "                                                                                           \n",
       "\n",
       "                                                                                           \n",
       "t}    8⋅u - 7⋅u_{t}        u - 15⋅u_{t}       u + 4⋅u_{t}        7⋅u + 12⋅u_{t}      4⋅u + \n",
       "── - ──────────────── + ───────────────── + ──────────────── - ───────────────── + ────────\n",
       "9    1512⋅\\varepsilon                   2                  3                   4           \n",
       "                        1512⋅\\varepsilon    378⋅\\varepsilon    1512⋅\\varepsilon    1512⋅\\va\n",
       "\n",
       "                             \n",
       "5⋅u_{t}         u + u_{t}    \n",
       "───────── - ─────────────────\n",
       "        5                   6\n",
       "repsilon    1512⋅\\varepsilon "
      ]
     },
     "metadata": {},
     "output_type": "display_data"
    }
   ],
   "source": [
    "f1 = NF(F1, [u1, u.diff(t, 2)], [F1, F2], head=False)\n",
    "prn(f1, eps)"
   ]
  },
  {
   "cell_type": "code",
   "execution_count": 12,
   "id": "844d1e32",
   "metadata": {
    "scrolled": false
   },
   "outputs": [
    {
     "name": "stdout",
     "output_type": "stream",
     "text": [
      "h^0 =>\n"
     ]
    },
    {
     "data": {
      "image/png": "[encoded data removed]",
      "text/latex": [
       "$\\displaystyle - \\frac{\\varepsilon^{2} \\cdot \\left(2 u - u_{1} - u_{t}\\right)}{2} + \\varepsilon u_{tt} + \\frac{2 u + u_{1} + u_{t}}{2}$"
      ],
      "text/plain": [
       "             2                                                           \n",
       "  \\varepsilon ⋅(2⋅u - u₁ - u_{t})                        2⋅u + u₁ + u_{t}\n",
       "- ─────────────────────────────── + \\varepsilon⋅u_{tt} + ────────────────\n",
       "                 2                                              2        "
      ]
     },
     "metadata": {},
     "output_type": "display_data"
    },
    {
     "name": "stdout",
     "output_type": "stream",
     "text": [
      "h^1 =>\n"
     ]
    },
    {
     "data": {
      "image/png": "[encoded data removed]",
      "text/latex": [
       "$\\displaystyle 0$"
      ],
      "text/plain": [
       "0"
      ]
     },
     "metadata": {},
     "output_type": "display_data"
    },
    {
     "name": "stdout",
     "output_type": "stream",
     "text": [
      "h^2 =>\n"
     ]
    },
    {
     "data": {
      "image/png": "[encoded data removed]",
      "text/latex": [
       "$\\displaystyle 0$"
      ],
      "text/plain": [
       "0"
      ]
     },
     "metadata": {},
     "output_type": "display_data"
    },
    {
     "name": "stdout",
     "output_type": "stream",
     "text": [
      "h^3 =>\n"
     ]
    },
    {
     "data": {
      "image/png": "[encoded data removed]",
      "text/latex": [
       "$\\displaystyle 0$"
      ],
      "text/plain": [
       "0"
      ]
     },
     "metadata": {},
     "output_type": "display_data"
    },
    {
     "name": "stdout",
     "output_type": "stream",
     "text": [
      "h^4 =>\n"
     ]
    },
    {
     "data": {
      "image/png": "[encoded data removed]",
      "text/latex": [
       "$\\displaystyle - \\frac{\\varepsilon^{6} \\left(u - u_{t}\\right)}{720} - \\frac{\\varepsilon^{5} \\cdot \\left(5 u - 6 u_{t}\\right)}{720} - \\frac{\\varepsilon^{4} \\left(u - 2 u_{t}\\right)}{120} + \\frac{\\varepsilon^{3} u_{t}}{60} + \\frac{\\varepsilon^{2} \\cdot \\left(7 u + 3 u_{t}\\right)}{720} + \\frac{\\varepsilon u}{72} - \\frac{7 u - 3 u_{t}}{720} - \\frac{u_{t}}{60 \\varepsilon} + \\frac{u + 2 u_{t}}{120 \\varepsilon^{2}} - \\frac{5 u + 6 u_{t}}{720 \\varepsilon^{3}} + \\frac{u + u_{t}}{720 \\varepsilon^{4}}$"
      ],
      "text/plain": [
       "             6                          5                              4                   \n",
       "  \\varepsilon ⋅(u - u_{t})   \\varepsilon ⋅(5⋅u - 6⋅u_{t})   \\varepsilon ⋅(u - 2⋅u_{t})   \\v\n",
       "- ──────────────────────── - ──────────────────────────── - ────────────────────────── + ──\n",
       "            720                          720                           120                 \n",
       "                                                                                           \n",
       "\n",
       "         3                    2                                                            \n",
       "arepsilon ⋅u_{t}   \\varepsilon ⋅(7⋅u + 3⋅u_{t})   \\varepsilon⋅u   7⋅u - 3⋅u_{t}       u_{t}\n",
       "──────────────── + ──────────────────────────── + ───────────── - ───────────── - ─────────\n",
       "      60                       720                      72             720        60⋅\\varep\n",
       "                                                                                           \n",
       "\n",
       "                                                              \n",
       "          u + 2⋅u_{t}       5⋅u + 6⋅u_{t}        u + u_{t}    \n",
       "───── + ──────────────── - ──────────────── + ────────────────\n",
       "silon                  2                  3                  4\n",
       "        120⋅\\varepsilon    720⋅\\varepsilon    720⋅\\varepsilon "
      ]
     },
     "metadata": {},
     "output_type": "display_data"
    },
    {
     "name": "stdout",
     "output_type": "stream",
     "text": [
      "h^5 =>\n"
     ]
    },
    {
     "data": {
      "image/png": "[encoded data removed]",
      "text/latex": [
       "$\\displaystyle 0$"
      ],
      "text/plain": [
       "0"
      ]
     },
     "metadata": {},
     "output_type": "display_data"
    },
    {
     "name": "stdout",
     "output_type": "stream",
     "text": [
      "h^6 =>\n"
     ]
    },
    {
     "data": {
      "image/png": "[encoded data removed]",
      "text/latex": [
       "$\\displaystyle - \\frac{13 \\varepsilon^{8} \\left(u - u_{t}\\right)}{60480} - \\frac{\\varepsilon^{7} \\cdot \\left(45 u - 58 u_{t}\\right)}{60480} - \\frac{\\varepsilon^{6} \\cdot \\left(83 u - 141 u_{t}\\right)}{60480} - \\frac{\\varepsilon^{5} \\cdot \\left(83 u - 224 u_{t}\\right)}{60480} - \\frac{\\varepsilon^{4} \\cdot \\left(99 u - 323 u_{t}\\right)}{60480} + \\frac{17 \\varepsilon^{3} \\left(u + 18 u_{t}\\right)}{60480} - \\frac{\\varepsilon^{2} \\cdot \\left(29 u - 355 u_{t}\\right)}{60480} + \\frac{37 \\varepsilon u}{10080} + \\frac{29 u + 355 u_{t}}{60480} + \\frac{17 \\left(u - 18 u_{t}\\right)}{60480 \\varepsilon} + \\frac{99 u + 323 u_{t}}{60480 \\varepsilon^{2}} - \\frac{83 u + 224 u_{t}}{60480 \\varepsilon^{3}} + \\frac{83 u + 141 u_{t}}{60480 \\varepsilon^{4}} - \\frac{45 u + 58 u_{t}}{60480 \\varepsilon^{5}} + \\frac{13 \\left(u + u_{t}\\right)}{60480 \\varepsilon^{6}}$"
      ],
      "text/plain": [
       "                8                          7                                6              \n",
       "  13⋅\\varepsilon ⋅(u - u_{t})   \\varepsilon ⋅(45⋅u - 58⋅u_{t})   \\varepsilon ⋅(83⋅u - 141⋅u\n",
       "- ─────────────────────────── - ────────────────────────────── - ──────────────────────────\n",
       "             60480                          60480                             60480        \n",
       "                                                                                           \n",
       "\n",
       "                   5                                 4                                    3\n",
       "_{t})   \\varepsilon ⋅(83⋅u - 224⋅u_{t})   \\varepsilon ⋅(99⋅u - 323⋅u_{t})   17⋅\\varepsilon \n",
       "───── - ─────────────────────────────── - ─────────────────────────────── + ───────────────\n",
       "                     60480                             60480                            604\n",
       "                                                                                           \n",
       "\n",
       "                             2                                                             \n",
       "⋅(u + 18⋅u_{t})   \\varepsilon ⋅(29⋅u - 355⋅u_{t})   37⋅\\varepsilon⋅u   29⋅u + 355⋅u_{t}   1\n",
       "─────────────── - ─────────────────────────────── + ──────────────── + ──────────────── + ─\n",
       "80                             60480                     10080              60480         6\n",
       "                                                                                           \n",
       "\n",
       "                                                                                           \n",
       "7⋅(u - 18⋅u_{t})    99⋅u + 323⋅u_{t}     83⋅u + 224⋅u_{t}     83⋅u + 141⋅u_{t}     45⋅u + 5\n",
       "──────────────── + ────────────────── - ────────────────── + ────────────────── - ─────────\n",
       "0480⋅\\varepsilon                    2                    3                    4            \n",
       "                   60480⋅\\varepsilon    60480⋅\\varepsilon    60480⋅\\varepsilon    60480⋅\\va\n",
       "\n",
       "                              \n",
       "8⋅u_{t}       13⋅(u + u_{t})  \n",
       "───────── + ──────────────────\n",
       "        5                    6\n",
       "repsilon    60480⋅\\varepsilon "
      ]
     },
     "metadata": {},
     "output_type": "display_data"
    }
   ],
   "source": [
    "f2 = NF(F2, [u1, u.diff(t, 2)], [F1, F2], head=False)\n",
    "prn(f2, eps)"
   ]
  },
  {
   "cell_type": "markdown",
   "id": "228669e9",
   "metadata": {},
   "source": [
    "$$6 (1 + {\\varepsilon^2}) {ux}_{{j}} + \\frac{(1 + {\\varepsilon^2}) \\left(3 {u}_{{j} + 1} - 30 {u}_{{j} + 2} - 3 {u}_{{j} + 3} + 30 {u}_{{j}}\\right)}{h} + (1 - {\\varepsilon^2}) \\left(- 41 {u}_{{j} + 1} - 14 {u}_{{j} + 2} - {u}_{{j} + 3} - 4 {u}_{{j}}\\right) + \\frac{\\varepsilon \\left(84 {u}_{{j} + 1} - 24 {u}_{{j} + 2} - 12 {u}_{{j} + 3} - 48 {u}_{{j}}\\right)}{h^{2}}=0$$"
   ]
  },
  {
   "cell_type": "code",
   "execution_count": 13,
   "id": "2ec8a53e",
   "metadata": {},
   "outputs": [
    {
     "name": "stdout",
     "output_type": "stream",
     "text": [
      "h^0 =>\n"
     ]
    },
    {
     "data": {
      "image/png": "[encoded data removed]",
      "text/latex": [
       "$\\displaystyle - 6 \\varepsilon^{2} \\cdot \\left(10 u - u_{1} + 11 u_{t}\\right) - 60 \\varepsilon u_{tt} + 6 \\cdot \\left(10 u + u_{1} - 11 u_{t}\\right)$"
      ],
      "text/plain": [
       "               2                                                                          \n",
       "- 6⋅\\varepsilon ⋅(10⋅u - u₁ + 11⋅u_{t}) - 60⋅\\varepsilon⋅u_{tt} + 6⋅(10⋅u + u₁ - 11⋅u_{t})"
      ]
     },
     "metadata": {},
     "output_type": "display_data"
    },
    {
     "name": "stdout",
     "output_type": "stream",
     "text": [
      "h^1 =>\n"
     ]
    },
    {
     "data": {
      "image/png": "[encoded data removed]",
      "text/latex": [
       "$\\displaystyle - 72 \\varepsilon^{2} \\left(u_{tt} + u_{t}\\right) - 72 \\varepsilon u_{ttt} - 72 \\left(u_{tt} - u_{t}\\right)$"
      ],
      "text/plain": [
       "                2                                                                \n",
       "- 72⋅\\varepsilon ⋅(u_{tt} + u_{t}) - 72⋅\\varepsilon⋅u_{ttt} - 72⋅(u_{tt} - u_{t})"
      ]
     },
     "metadata": {},
     "output_type": "display_data"
    },
    {
     "name": "stdout",
     "output_type": "stream",
     "text": [
      "h^2 =>\n"
     ]
    },
    {
     "data": {
      "image/png": "[encoded data removed]",
      "text/latex": [
       "$\\displaystyle - 53 \\varepsilon^{2} \\left(u_{ttt} + u_{tt}\\right) - 53 \\varepsilon u_{tttt} - 53 \\left(u_{ttt} - u_{tt}\\right)$"
      ],
      "text/plain": [
       "                2                                                                     \n",
       "- 53⋅\\varepsilon ⋅(u_{ttt} + u_{tt}) - 53⋅\\varepsilon⋅u_{tttt} - 53⋅(u_{ttt} - u_{tt})"
      ]
     },
     "metadata": {},
     "output_type": "display_data"
    },
    {
     "name": "stdout",
     "output_type": "stream",
     "text": [
      "h^3 =>\n"
     ]
    },
    {
     "data": {
      "image/png": "[encoded data removed]",
      "text/latex": [
       "$\\displaystyle - 30 \\varepsilon^{2} \\left(u_{tttt} + u_{ttt}\\right) - 30 \\varepsilon u_{ttttt} - 30 \\left(u_{tttt} - u_{ttt}\\right)$"
      ],
      "text/plain": [
       "                2                                                                          \n",
       "- 30⋅\\varepsilon ⋅(u_{tttt} + u_{ttt}) - 30⋅\\varepsilon⋅u_{ttttt} - 30⋅(u_{tttt} - u_{ttt})"
      ]
     },
     "metadata": {},
     "output_type": "display_data"
    },
    {
     "name": "stdout",
     "output_type": "stream",
     "text": [
      "h^4 =>\n"
     ]
    },
    {
     "data": {
      "image/png": "[encoded data removed]",
      "text/latex": [
       "$\\displaystyle - \\frac{\\varepsilon^{2} \\cdot \\left(843 u_{ttttt} + 865 u_{tttt}\\right)}{60} - \\frac{85 \\varepsilon u_{tttttt}}{6} - \\frac{843 u_{ttttt} - 865 u_{tttt}}{60}$"
      ],
      "text/plain": [
       "             2                                                                             \n",
       "  \\varepsilon ⋅(843⋅u_{ttttt} + 865⋅u_{tttt})   85⋅\\varepsilon⋅u_{tttttt}   843⋅u_{ttttt} -\n",
       "- ─────────────────────────────────────────── - ───────────────────────── - ───────────────\n",
       "                       60                                   6                            60\n",
       "\n",
       "             \n",
       " 865⋅u_{tttt}\n",
       "─────────────\n",
       "             "
      ]
     },
     "metadata": {},
     "output_type": "display_data"
    },
    {
     "name": "stdout",
     "output_type": "stream",
     "text": [
      "h^5 =>\n"
     ]
    },
    {
     "data": {
      "image/png": "[encoded data removed]",
      "text/latex": [
       "$\\displaystyle - \\frac{\\varepsilon^{2} \\cdot \\left(57 u_{tttttt} + 61 u_{ttttt}\\right)}{10} - \\frac{29 \\varepsilon u_{ttttttt}}{5} - \\frac{57 u_{tttttt} - 61 u_{ttttt}}{10}$"
      ],
      "text/plain": [
       "             2                                                                             \n",
       "  \\varepsilon ⋅(57⋅u_{tttttt} + 61⋅u_{ttttt})   29⋅\\varepsilon⋅u_{ttttttt}   57⋅u_{tttttt} \n",
       "- ─────────────────────────────────────────── - ────────────────────────── - ──────────────\n",
       "                       10                                   5                             1\n",
       "\n",
       "              \n",
       "- 61⋅u_{ttttt}\n",
       "──────────────\n",
       "0             "
      ]
     },
     "metadata": {},
     "output_type": "display_data"
    },
    {
     "name": "stdout",
     "output_type": "stream",
     "text": [
      "h^6 =>\n"
     ]
    },
    {
     "data": {
      "image/png": "[encoded data removed]",
      "text/latex": [
       "$\\displaystyle - \\frac{\\varepsilon^{2} \\cdot \\left(5199 u_{ttttttt} + 5831 u_{tttttt}\\right)}{2520} - \\frac{5199 u_{ttttttt} - 5831 u_{tttttt}}{2520}$"
      ],
      "text/plain": [
       "             2                                                                          \n",
       "  \\varepsilon ⋅(5199⋅u_{ttttttt} + 5831⋅u_{tttttt})   5199⋅u_{ttttttt} - 5831⋅u_{tttttt}\n",
       "- ───────────────────────────────────────────────── - ──────────────────────────────────\n",
       "                         2520                                        2520               "
      ]
     },
     "metadata": {},
     "output_type": "display_data"
    }
   ],
   "source": [
    "F4 = clip(6*(1+eps**2)*T(u1) +\n",
    "    (1+eps**2)*(3*T(u.subs(t, t+h)) - 30*T(u.subs(t, t+2*h))- 3*(T(u.subs(t, t+3*h)) + 30*T(u)))/h -\n",
    "    (1-eps**2)*(-41*T(u.subs(t, t+h)) - 14*T(u.subs(t, t+2*h)) - T(u.subs(t, t+3*h)) - 4*T(u)) + \n",
    "    eps*(84*T(u.subs(t, t+h)) - 24*T(u.subs(t, t+2*h)) - 12*T(u.subs(t, t+3*h)) - 48*T(u))/h**2)\n",
    "prn(F4, eps)"
   ]
  },
  {
   "cell_type": "code",
   "execution_count": 14,
   "id": "8eabc37d",
   "metadata": {},
   "outputs": [
    {
     "name": "stdout",
     "output_type": "stream",
     "text": [
      "h^0 =>\n"
     ]
    },
    {
     "data": {
      "image/png": "[encoded data removed]",
      "text/latex": [
       "$\\displaystyle - 6 \\varepsilon^{2} \\cdot \\left(10 u - u_{1} + 11 u_{t}\\right) - 60 \\varepsilon u_{tt} + 6 \\cdot \\left(10 u + u_{1} - 11 u_{t}\\right)$"
      ],
      "text/plain": [
       "               2                                                                          \n",
       "- 6⋅\\varepsilon ⋅(10⋅u - u₁ + 11⋅u_{t}) - 60⋅\\varepsilon⋅u_{tt} + 6⋅(10⋅u + u₁ - 11⋅u_{t})"
      ]
     },
     "metadata": {},
     "output_type": "display_data"
    },
    {
     "name": "stdout",
     "output_type": "stream",
     "text": [
      "h^1 =>\n"
     ]
    },
    {
     "data": {
      "image/png": "[encoded data removed]",
      "text/latex": [
       "$\\displaystyle 0$"
      ],
      "text/plain": [
       "0"
      ]
     },
     "metadata": {},
     "output_type": "display_data"
    },
    {
     "name": "stdout",
     "output_type": "stream",
     "text": [
      "h^2 =>\n"
     ]
    },
    {
     "data": {
      "image/png": "[encoded data removed]",
      "text/latex": [
       "$\\displaystyle 0$"
      ],
      "text/plain": [
       "0"
      ]
     },
     "metadata": {},
     "output_type": "display_data"
    },
    {
     "name": "stdout",
     "output_type": "stream",
     "text": [
      "h^3 =>\n"
     ]
    },
    {
     "data": {
      "image/png": "[encoded data removed]",
      "text/latex": [
       "$\\displaystyle 0$"
      ],
      "text/plain": [
       "0"
      ]
     },
     "metadata": {},
     "output_type": "display_data"
    },
    {
     "name": "stdout",
     "output_type": "stream",
     "text": [
      "h^4 =>\n"
     ]
    },
    {
     "data": {
      "image/png": "[encoded data removed]",
      "text/latex": [
       "$\\displaystyle \\frac{7 \\varepsilon^{6} \\left(u + u_{t}\\right)}{60} + \\frac{\\varepsilon^{5} \\left(u - 6 u_{t}\\right)}{60} + \\frac{\\varepsilon^{4} \\left(u + 2 u_{t}\\right)}{10} - \\frac{\\varepsilon^{3} u_{t}}{5} + \\frac{\\varepsilon^{2} \\cdot \\left(59 u + 93 u_{t}\\right)}{60} - \\frac{\\varepsilon u}{30} - \\frac{59 u - 93 u_{t}}{60} + \\frac{u_{t}}{5 \\varepsilon} - \\frac{u - 2 u_{t}}{10 \\varepsilon^{2}} + \\frac{u + 6 u_{t}}{60 \\varepsilon^{3}} - \\frac{7 \\left(u - u_{t}\\right)}{60 \\varepsilon^{4}}$"
      ],
      "text/plain": [
       "             6                          5                            4                     \n",
       "7⋅\\varepsilon ⋅(u + u_{t})   \\varepsilon ⋅(u - 6⋅u_{t})   \\varepsilon ⋅(u + 2⋅u_{t})   \\var\n",
       "────────────────────────── + ────────────────────────── + ────────────────────────── - ────\n",
       "            60                           60                           10                   \n",
       "                                                                                           \n",
       "\n",
       "       3                    2                                                              \n",
       "epsilon ⋅u_{t}   \\varepsilon ⋅(59⋅u + 93⋅u_{t})   \\varepsilon⋅u   59⋅u - 93⋅u_{t}       u_{\n",
       "────────────── + ────────────────────────────── - ───────────── - ─────────────── + ───────\n",
       "    5                          60                       30               60         5⋅\\vare\n",
       "                                                                                           \n",
       "\n",
       "                                                            \n",
       "t}         u - 2⋅u_{t}       u + 6⋅u_{t}      7⋅(u - u_{t}) \n",
       "────── - ─────────────── + ─────────────── - ───────────────\n",
       "psilon                 2                 3                 4\n",
       "         10⋅\\varepsilon    60⋅\\varepsilon    60⋅\\varepsilon "
      ]
     },
     "metadata": {},
     "output_type": "display_data"
    },
    {
     "name": "stdout",
     "output_type": "stream",
     "text": [
      "h^5 =>\n"
     ]
    },
    {
     "data": {
      "image/png": "[encoded data removed]",
      "text/latex": [
       "$\\displaystyle - \\frac{2 \\varepsilon^{6} \\cdot \\left(3 u + 4 u_{t}\\right)}{25} - \\frac{6 \\varepsilon^{4} \\left(u + 4 u_{t}\\right)}{25} + \\frac{4 \\varepsilon^{2} \\cdot \\left(3 u - 4 u_{t}\\right)}{25} + \\frac{4 \\cdot \\left(3 u + 4 u_{t}\\right)}{25} - \\frac{6 \\left(u - 4 u_{t}\\right)}{25 \\varepsilon^{2}} - \\frac{2 \\cdot \\left(3 u - 4 u_{t}\\right)}{25 \\varepsilon^{4}}$"
      ],
      "text/plain": [
       "               6                                4                              2           \n",
       "  2⋅\\varepsilon ⋅(3⋅u + 4⋅u_{t})   6⋅\\varepsilon ⋅(u + 4⋅u_{t})   4⋅\\varepsilon ⋅(3⋅u - 4⋅u\n",
       "- ────────────────────────────── - ──────────────────────────── + ─────────────────────────\n",
       "                25                              25                              25         \n",
       "                                                                                           \n",
       "\n",
       "                                                               \n",
       "_{t})   4⋅(3⋅u + 4⋅u_{t})   6⋅(u - 4⋅u_{t})   2⋅(3⋅u - 4⋅u_{t})\n",
       "───── + ───────────────── - ─────────────── - ─────────────────\n",
       "                25                        2                  4 \n",
       "                            25⋅\\varepsilon     25⋅\\varepsilon  "
      ]
     },
     "metadata": {},
     "output_type": "display_data"
    },
    {
     "name": "stdout",
     "output_type": "stream",
     "text": [
      "h^6 =>\n"
     ]
    },
    {
     "data": {
      "image/png": "[encoded data removed]",
      "text/latex": [
       "$\\displaystyle - \\frac{10769 \\varepsilon^{8} \\left(u + u_{t}\\right)}{5040} + \\frac{\\varepsilon^{7} \\cdot \\left(1321921 u + 1591146 u_{t}\\right)}{126000} - \\frac{\\varepsilon^{6} \\cdot \\left(2944975 u + 4540797 u_{t}\\right)}{126000} + \\frac{\\varepsilon^{5} \\cdot \\left(2907567 u + 7424984 u_{t}\\right)}{126000} - \\frac{\\varepsilon^{4} \\cdot \\left(824175 u + 8309947 u_{t}\\right)}{126000} - \\frac{\\varepsilon^{3} \\cdot \\left(2376821 u - 5834930 u_{t}\\right)}{126000} + \\frac{\\varepsilon^{2} \\cdot \\left(1851575 u - 4110431 u_{t}\\right)}{126000} - \\frac{1852667 \\varepsilon u}{63000} - \\frac{1851575 u + 4110431 u_{t}}{126000} - \\frac{2376821 u + 5834930 u_{t}}{126000 \\varepsilon} + \\frac{824175 u - 8309947 u_{t}}{126000 \\varepsilon^{2}} + \\frac{2907567 u - 7424984 u_{t}}{126000 \\varepsilon^{3}} + \\frac{2944975 u - 4540797 u_{t}}{126000 \\varepsilon^{4}} + \\frac{1321921 u - 1591146 u_{t}}{126000 \\varepsilon^{5}} + \\frac{10769 \\left(u - u_{t}\\right)}{5040 \\varepsilon^{6}}$"
      ],
      "text/plain": [
       "                   8                          7                                          6 \n",
       "  10769⋅\\varepsilon ⋅(u + u_{t})   \\varepsilon ⋅(1321921⋅u + 1591146⋅u_{t})   \\varepsilon ⋅\n",
       "- ────────────────────────────── + ──────────────────────────────────────── - ─────────────\n",
       "               5040                                 126000                                 \n",
       "                                                                                           \n",
       "\n",
       "                                         5                                          4      \n",
       "(2944975⋅u + 4540797⋅u_{t})   \\varepsilon ⋅(2907567⋅u + 7424984⋅u_{t})   \\varepsilon ⋅(8241\n",
       "─────────────────────────── + ──────────────────────────────────────── - ──────────────────\n",
       "    126000                                     126000                                     1\n",
       "                                                                                           \n",
       "\n",
       "                                   3                                          2            \n",
       "75⋅u + 8309947⋅u_{t})   \\varepsilon ⋅(2376821⋅u - 5834930⋅u_{t})   \\varepsilon ⋅(1851575⋅u \n",
       "───────────────────── - ──────────────────────────────────────── + ────────────────────────\n",
       "26000                                    126000                                     126000 \n",
       "                                                                                           \n",
       "\n",
       "                                                                                           \n",
       "- 4110431⋅u_{t})   1852667⋅\\varepsilon⋅u   1851575⋅u + 4110431⋅u_{t}   2376821⋅u + 5834930⋅\n",
       "──────────────── - ───────────────────── - ───────────────────────── - ────────────────────\n",
       "                           63000                     126000                126000⋅\\varepsil\n",
       "                                                                                           \n",
       "\n",
       "                                                                                           \n",
       "u_{t}   824175⋅u - 8309947⋅u_{t}   2907567⋅u - 7424984⋅u_{t}   2944975⋅u - 4540797⋅u_{t}   \n",
       "───── + ──────────────────────── + ───────────────────────── + ───────────────────────── + \n",
       "on                          2                           3                           4      \n",
       "          126000⋅\\varepsilon          126000⋅\\varepsilon          126000⋅\\varepsilon       \n",
       "\n",
       "                                             \n",
       "1321921⋅u - 1591146⋅u_{t}   10769⋅(u - u_{t})\n",
       "───────────────────────── + ─────────────────\n",
       "                     5                      6\n",
       "   126000⋅\\varepsilon       5040⋅\\varepsilon "
      ]
     },
     "metadata": {},
     "output_type": "display_data"
    }
   ],
   "source": [
    "f4 = NF(F4, [u1, u.diff(t, 2)], [f1, F4], head=False)\n",
    "prn(f4, eps)"
   ]
  },
  {
   "cell_type": "markdown",
   "id": "3dbe9ecc",
   "metadata": {},
   "source": [
    "$$6 (1 + {\\varepsilon^2}) {ux}_{{j} + 3} + \\frac{(1 + {\\varepsilon^2}) \\left(30 {u}_{{j} + 1} - 3 {u}_{{j} + 2} - 30 {u}_{{j} + 3} + 3 {u}_{{j}}\\right)}{h} + (1 - {\\varepsilon^2}) \\left(- 14 {u}_{{j} + 1} - 41 {u}_{{j} + 2} - 4 {u}_{{j} + 3} - {u}_{{j}}\\right) + \\frac{\\varepsilon \\left(- 24 {u}_{{j} + 1} + 84 {u}_{{j} + 2} - 48 {u}_{{j} + 3} - 12 {u}_{{j}}\\right)}{h^{2}}=0$$"
   ]
  },
  {
   "cell_type": "code",
   "execution_count": 15,
   "id": "353d579a",
   "metadata": {},
   "outputs": [
    {
     "name": "stdout",
     "output_type": "stream",
     "text": [
      "h^0 =>\n"
     ]
    },
    {
     "data": {
      "image/png": "[encoded data removed]",
      "text/latex": [
       "$\\displaystyle - 60 \\varepsilon^{2} \\left(u + u_{t}\\right) - 60 \\varepsilon u_{tt} + 60 \\left(u - u_{t}\\right)$"
      ],
      "text/plain": [
       "                2                                                     \n",
       "- 60⋅\\varepsilon ⋅(u + u_{t}) - 60⋅\\varepsilon⋅u_{tt} + 60⋅(u - u_{t})"
      ]
     },
     "metadata": {},
     "output_type": "display_data"
    },
    {
     "name": "stdout",
     "output_type": "stream",
     "text": [
      "h^1 =>\n"
     ]
    },
    {
     "data": {
      "image/png": "[encoded data removed]",
      "text/latex": [
       "$\\displaystyle - 108 \\varepsilon^{2} \\left(u_{tt} + u_{t}\\right) - 108 \\varepsilon u_{ttt} - 108 \\left(u_{tt} - u_{t}\\right)$"
      ],
      "text/plain": [
       "                 2                                                                  \n",
       "- 108⋅\\varepsilon ⋅(u_{tt} + u_{t}) - 108⋅\\varepsilon⋅u_{ttt} - 108⋅(u_{tt} - u_{t})"
      ]
     },
     "metadata": {},
     "output_type": "display_data"
    },
    {
     "name": "stdout",
     "output_type": "stream",
     "text": [
      "h^2 =>\n"
     ]
    },
    {
     "data": {
      "image/png": "[encoded data removed]",
      "text/latex": [
       "$\\displaystyle - 107 \\varepsilon^{2} \\left(u_{ttt} + u_{tt}\\right) - 107 \\varepsilon u_{tttt} - 107 \\left(u_{ttt} - u_{tt}\\right)$"
      ],
      "text/plain": [
       "                 2                                                                       \n",
       "- 107⋅\\varepsilon ⋅(u_{ttt} + u_{tt}) - 107⋅\\varepsilon⋅u_{tttt} - 107⋅(u_{ttt} - u_{tt})"
      ]
     },
     "metadata": {},
     "output_type": "display_data"
    },
    {
     "name": "stdout",
     "output_type": "stream",
     "text": [
      "h^3 =>\n"
     ]
    },
    {
     "data": {
      "image/png": "[encoded data removed]",
      "text/latex": [
       "$\\displaystyle - 75 \\varepsilon^{2} \\left(u_{tttt} + u_{ttt}\\right) - 75 \\varepsilon u_{ttttt} - 75 \\left(u_{tttt} - u_{ttt}\\right)$"
      ],
      "text/plain": [
       "                2                                                                          \n",
       "- 75⋅\\varepsilon ⋅(u_{tttt} + u_{ttt}) - 75⋅\\varepsilon⋅u_{ttttt} - 75⋅(u_{tttt} - u_{ttt})"
      ]
     },
     "metadata": {},
     "output_type": "display_data"
    },
    {
     "name": "stdout",
     "output_type": "stream",
     "text": [
      "h^4 =>\n"
     ]
    },
    {
     "data": {
      "image/png": "[encoded data removed]",
      "text/latex": [
       "$\\displaystyle - \\frac{\\varepsilon^{2} \\cdot \\left(2463 u_{ttttt} + 2485 u_{tttt}\\right)}{60} - \\frac{247 \\varepsilon u_{tttttt}}{6} - \\frac{2463 u_{ttttt} - 2485 u_{tttt}}{60}$"
      ],
      "text/plain": [
       "             2                                                                             \n",
       "  \\varepsilon ⋅(2463⋅u_{ttttt} + 2485⋅u_{tttt})   247⋅\\varepsilon⋅u_{tttttt}   2463⋅u_{tttt\n",
       "- ───────────────────────────────────────────── - ────────────────────────── - ────────────\n",
       "                        60                                    6                            \n",
       "\n",
       "                  \n",
       "t} - 2485⋅u_{tttt}\n",
       "──────────────────\n",
       "  60              "
      ]
     },
     "metadata": {},
     "output_type": "display_data"
    },
    {
     "name": "stdout",
     "output_type": "stream",
     "text": [
      "h^5 =>\n"
     ]
    },
    {
     "data": {
      "image/png": "[encoded data removed]",
      "text/latex": [
       "$\\displaystyle - \\frac{\\varepsilon^{2} \\cdot \\left(369 u_{tttttt} + 383 u_{ttttt}\\right)}{20} - \\frac{187 \\varepsilon u_{ttttttt}}{10} - \\frac{369 u_{tttttt} - 383 u_{ttttt}}{20}$"
      ],
      "text/plain": [
       "             2                                                                             \n",
       "  \\varepsilon ⋅(369⋅u_{tttttt} + 383⋅u_{ttttt})   187⋅\\varepsilon⋅u_{ttttttt}   369⋅u_{tttt\n",
       "- ───────────────────────────────────────────── - ─────────────────────────── - ───────────\n",
       "                        20                                     10                          \n",
       "\n",
       "                   \n",
       "tt} - 383⋅u_{ttttt}\n",
       "───────────────────\n",
       "   20              "
      ]
     },
     "metadata": {},
     "output_type": "display_data"
    },
    {
     "name": "stdout",
     "output_type": "stream",
     "text": [
      "h^6 =>\n"
     ]
    },
    {
     "data": {
      "image/png": "[encoded data removed]",
      "text/latex": [
       "$\\displaystyle - \\frac{\\varepsilon^{2} \\cdot \\left(17673 u_{ttttttt} + 19439 u_{tttttt}\\right)}{2520} - \\frac{17673 u_{ttttttt} - 19439 u_{tttttt}}{2520}$"
      ],
      "text/plain": [
       "             2                                                                             \n",
       "  \\varepsilon ⋅(17673⋅u_{ttttttt} + 19439⋅u_{tttttt})   17673⋅u_{ttttttt} - 19439⋅u_{tttttt\n",
       "- ─────────────────────────────────────────────────── - ───────────────────────────────────\n",
       "                          2520                                          2520               \n",
       "\n",
       " \n",
       "}\n",
       "─\n",
       " "
      ]
     },
     "metadata": {},
     "output_type": "display_data"
    },
    {
     "name": "stdout",
     "output_type": "stream",
     "text": [
      "- 60 \\varepsilon^{2} \\left(u + u_{t}\\right) - 60 \\varepsilon u_{tt} + 60 \\left(u - u_{t}\\right)\n",
      "+h\\left(\n",
      "- 108 \\varepsilon^{2} \\left(u_{tt} + u_{t}\\right) - 108 \\varepsilon u_{ttt} - 108 \\left(u_{tt} - u_{t}\\right)\n",
      "\\right)\n",
      "+h^2\\left(\n",
      "- 107 \\varepsilon^{2} \\left(u_{ttt} + u_{tt}\\right) - 107 \\varepsilon u_{tttt} - 107 \\left(u_{ttt} - u_{tt}\\right)\n",
      "\\right)\n",
      "+h^3\\left(\n",
      "- 75 \\varepsilon^{2} \\left(u_{tttt} + u_{ttt}\\right) - 75 \\varepsilon u_{ttttt} - 75 \\left(u_{tttt} - u_{ttt}\\right)\n",
      "\\right)\n",
      "+h^4\\left(\n",
      "- \\frac{\\varepsilon^{2} \\cdot \\left(2463 u_{ttttt} + 2485 u_{tttt}\\right)}{60} - \\frac{247 \\varepsilon u_{tttttt}}{6} - \\frac{2463 u_{ttttt} - 2485 u_{tttt}}{60}\n",
      "\\right)\n",
      "+h^5\\left(\n",
      "- \\frac{\\varepsilon^{2} \\cdot \\left(369 u_{tttttt} + 383 u_{ttttt}\\right)}{20} - \\frac{187 \\varepsilon u_{ttttttt}}{10} - \\frac{369 u_{tttttt} - 383 u_{ttttt}}{20}\n",
      "\\right)\n",
      "+h^6\\left(\n",
      "- \\frac{\\varepsilon^{2} \\cdot \\left(17673 u_{ttttttt} + 19439 u_{tttttt}\\right)}{2520} - \\frac{17673 u_{ttttttt} - 19439 u_{tttttt}}{2520}\n",
      "\\right)\n"
     ]
    }
   ],
   "source": [
    "F5 = clip(6*(1+eps**2)*T(u.subs(t, t+3*h).diff(t)) +\n",
    "    (1+eps**2)*(30*T(u.subs(t, t+h)) - 3*T(u.subs(t, t+2*h))- 30*(T(u.subs(t, t+3*h)) + 30*T(u)))/h -\n",
    "    (1-eps**2)*(-14*T(u.subs(t, t+h)) - 41*T(u.subs(t, t+2*h)) - 4*T(u.subs(t, t+3*h)) - T(u)) + \n",
    "    eps*(-24*T(u.subs(t, t+h)) + 84*T(u.subs(t, t+2*h)) - 48*T(u.subs(t, t+3*h)) - 12*T(u))/h**2)\n",
    "prn(F5, eps)\n",
    "prnlatex(F5, eps)"
   ]
  },
  {
   "cell_type": "code",
   "execution_count": 16,
   "id": "db745408",
   "metadata": {},
   "outputs": [
    {
     "name": "stdout",
     "output_type": "stream",
     "text": [
      "h^0 =>\n"
     ]
    },
    {
     "data": {
      "image/png": "[encoded data removed]",
      "text/latex": [
       "$\\displaystyle - 60 \\varepsilon^{2} \\left(u + u_{t}\\right) - 60 \\varepsilon u_{tt} + 60 \\left(u - u_{t}\\right)$"
      ],
      "text/plain": [
       "                2                                                     \n",
       "- 60⋅\\varepsilon ⋅(u + u_{t}) - 60⋅\\varepsilon⋅u_{tt} + 60⋅(u - u_{t})"
      ]
     },
     "metadata": {},
     "output_type": "display_data"
    },
    {
     "name": "stdout",
     "output_type": "stream",
     "text": [
      "h^1 =>\n"
     ]
    },
    {
     "data": {
      "image/png": "[encoded data removed]",
      "text/latex": [
       "$\\displaystyle 0$"
      ],
      "text/plain": [
       "0"
      ]
     },
     "metadata": {},
     "output_type": "display_data"
    },
    {
     "name": "stdout",
     "output_type": "stream",
     "text": [
      "h^2 =>\n"
     ]
    },
    {
     "data": {
      "image/png": "[encoded data removed]",
      "text/latex": [
       "$\\displaystyle 0$"
      ],
      "text/plain": [
       "0"
      ]
     },
     "metadata": {},
     "output_type": "display_data"
    },
    {
     "name": "stdout",
     "output_type": "stream",
     "text": [
      "h^3 =>\n"
     ]
    },
    {
     "data": {
      "image/png": "[encoded data removed]",
      "text/latex": [
       "$\\displaystyle 0$"
      ],
      "text/plain": [
       "0"
      ]
     },
     "metadata": {},
     "output_type": "display_data"
    },
    {
     "name": "stdout",
     "output_type": "stream",
     "text": [
      "h^4 =>\n"
     ]
    },
    {
     "data": {
      "image/png": "[encoded data removed]",
      "text/latex": [
       "$\\displaystyle \\frac{7 \\varepsilon^{6} \\left(u + u_{t}\\right)}{60} + \\frac{\\varepsilon^{5} \\left(u - 6 u_{t}\\right)}{60} + \\frac{\\varepsilon^{4} \\left(u + 2 u_{t}\\right)}{10} - \\frac{\\varepsilon^{3} u_{t}}{5} + \\frac{\\varepsilon^{2} \\cdot \\left(59 u + 93 u_{t}\\right)}{60} - \\frac{\\varepsilon u}{30} - \\frac{59 u - 93 u_{t}}{60} + \\frac{u_{t}}{5 \\varepsilon} - \\frac{u - 2 u_{t}}{10 \\varepsilon^{2}} + \\frac{u + 6 u_{t}}{60 \\varepsilon^{3}} - \\frac{7 \\left(u - u_{t}\\right)}{60 \\varepsilon^{4}}$"
      ],
      "text/plain": [
       "             6                          5                            4                     \n",
       "7⋅\\varepsilon ⋅(u + u_{t})   \\varepsilon ⋅(u - 6⋅u_{t})   \\varepsilon ⋅(u + 2⋅u_{t})   \\var\n",
       "────────────────────────── + ────────────────────────── + ────────────────────────── - ────\n",
       "            60                           60                           10                   \n",
       "                                                                                           \n",
       "\n",
       "       3                    2                                                              \n",
       "epsilon ⋅u_{t}   \\varepsilon ⋅(59⋅u + 93⋅u_{t})   \\varepsilon⋅u   59⋅u - 93⋅u_{t}       u_{\n",
       "────────────── + ────────────────────────────── - ───────────── - ─────────────── + ───────\n",
       "    5                          60                       30               60         5⋅\\vare\n",
       "                                                                                           \n",
       "\n",
       "                                                            \n",
       "t}         u - 2⋅u_{t}       u + 6⋅u_{t}      7⋅(u - u_{t}) \n",
       "────── - ─────────────── + ─────────────── - ───────────────\n",
       "psilon                 2                 3                 4\n",
       "         10⋅\\varepsilon    60⋅\\varepsilon    60⋅\\varepsilon "
      ]
     },
     "metadata": {},
     "output_type": "display_data"
    },
    {
     "name": "stdout",
     "output_type": "stream",
     "text": [
      "h^5 =>\n"
     ]
    },
    {
     "data": {
      "image/png": "[encoded data removed]",
      "text/latex": [
       "$\\displaystyle - \\frac{\\varepsilon^{7} \\left(u + u_{t}\\right)}{25} + \\frac{\\varepsilon^{6} \\cdot \\left(3 u + 4 u_{t}\\right)}{25} - \\frac{\\varepsilon^{5} \\cdot \\left(5 u + 9 u_{t}\\right)}{25} + \\frac{3 \\varepsilon^{4} \\left(u + 4 u_{t}\\right)}{25} - \\frac{3 \\varepsilon^{3} \\left(u + 5 u_{t}\\right)}{25} - \\frac{2 \\varepsilon^{2} \\cdot \\left(3 u - 4 u_{t}\\right)}{25} - \\frac{14 \\varepsilon u_{t}}{25} - \\frac{2 \\cdot \\left(3 u + 4 u_{t}\\right)}{25} + \\frac{3 \\left(u - 5 u_{t}\\right)}{25 \\varepsilon} + \\frac{3 \\left(u - 4 u_{t}\\right)}{25 \\varepsilon^{2}} + \\frac{5 u - 9 u_{t}}{25 \\varepsilon^{3}} + \\frac{3 u - 4 u_{t}}{25 \\varepsilon^{4}} + \\frac{u - u_{t}}{25 \\varepsilon^{5}}$"
      ],
      "text/plain": [
       "             7                          6                              5                   \n",
       "  \\varepsilon ⋅(u + u_{t})   \\varepsilon ⋅(3⋅u + 4⋅u_{t})   \\varepsilon ⋅(5⋅u + 9⋅u_{t})   \n",
       "- ──────────────────────── + ──────────────────────────── - ──────────────────────────── + \n",
       "             25                           25                             25                \n",
       "                                                                                           \n",
       "\n",
       "             4                              3                              2               \n",
       "3⋅\\varepsilon ⋅(u + 4⋅u_{t})   3⋅\\varepsilon ⋅(u + 5⋅u_{t})   2⋅\\varepsilon ⋅(3⋅u - 4⋅u_{t}\n",
       "──────────────────────────── - ──────────────────────────── - ─────────────────────────────\n",
       "             25                             25                              25             \n",
       "                                                                                           \n",
       "\n",
       "                                                                                           \n",
       ")   14⋅\\varepsilon⋅u_{t}   2⋅(3⋅u + 4⋅u_{t})   3⋅(u - 5⋅u_{t})   3⋅(u - 4⋅u_{t})    5⋅u - 9\n",
       "─ - ──────────────────── - ───────────────── + ─────────────── + ─────────────── + ────────\n",
       "             25                    25           25⋅\\varepsilon                 2           \n",
       "                                                                 25⋅\\varepsilon    25⋅\\vare\n",
       "\n",
       "                                           \n",
       "⋅u_{t}     3⋅u - 4⋅u_{t}       u - u_{t}   \n",
       "─────── + ─────────────── + ───────────────\n",
       "      3                 4                 5\n",
       "psilon    25⋅\\varepsilon    25⋅\\varepsilon "
      ]
     },
     "metadata": {},
     "output_type": "display_data"
    },
    {
     "name": "stdout",
     "output_type": "stream",
     "text": [
      "h^6 =>\n"
     ]
    },
    {
     "data": {
      "image/png": "[encoded data removed]",
      "text/latex": [
       "$\\displaystyle - \\frac{918937 \\varepsilon^{8} \\left(u + u_{t}\\right)}{126000} + \\frac{\\varepsilon^{7} \\cdot \\left(4591523 u + 5510460 u_{t}\\right)}{126000} - \\frac{\\varepsilon^{6} \\cdot \\left(10098821 u + 15609281 u_{t}\\right)}{126000} + \\frac{\\varepsilon^{5} \\cdot \\left(10098821 u + 25708102 u_{t}\\right)}{126000} - \\frac{\\varepsilon^{4} \\cdot \\left(2766297 u + 28474399 u_{t}\\right)}{126000} - \\frac{\\varepsilon^{3} \\cdot \\left(8254623 u - 20219776 u_{t}\\right)}{126000} + \\frac{\\varepsilon^{2} \\cdot \\left(6413587 u - 13809351 u_{t}\\right)}{126000} - \\frac{6435721 \\varepsilon u}{63000} - \\frac{6413587 u + 13809351 u_{t}}{126000} - \\frac{8254623 u + 20219776 u_{t}}{126000 \\varepsilon} + \\frac{2766297 u - 28474399 u_{t}}{126000 \\varepsilon^{2}} + \\frac{10098821 u - 25708102 u_{t}}{126000 \\varepsilon^{3}} + \\frac{10098821 u - 15609281 u_{t}}{126000 \\varepsilon^{4}} + \\frac{4591523 u - 5510460 u_{t}}{126000 \\varepsilon^{5}} + \\frac{918937 \\left(u - u_{t}\\right)}{126000 \\varepsilon^{6}}$"
      ],
      "text/plain": [
       "                    8                          7                                          6\n",
       "  918937⋅\\varepsilon ⋅(u + u_{t})   \\varepsilon ⋅(4591523⋅u + 5510460⋅u_{t})   \\varepsilon \n",
       "- ─────────────────────────────── + ──────────────────────────────────────── - ────────────\n",
       "               126000                                126000                                \n",
       "                                                                                           \n",
       "\n",
       "                                            5                                            4 \n",
       "⋅(10098821⋅u + 15609281⋅u_{t})   \\varepsilon ⋅(10098821⋅u + 25708102⋅u_{t})   \\varepsilon ⋅\n",
       "────────────────────────────── + ────────────────────────────────────────── - ─────────────\n",
       "      126000                                       126000                                  \n",
       "                                                                                           \n",
       "\n",
       "                                          3                                           2    \n",
       "(2766297⋅u + 28474399⋅u_{t})   \\varepsilon ⋅(8254623⋅u - 20219776⋅u_{t})   \\varepsilon ⋅(64\n",
       "──────────────────────────── - ───────────────────────────────────────── + ────────────────\n",
       "     126000                                      126000                                    \n",
       "                                                                                           \n",
       "\n",
       "                                                                                           \n",
       "13587⋅u - 13809351⋅u_{t})   6435721⋅\\varepsilon⋅u   6413587⋅u + 13809351⋅u_{t}   8254623⋅u \n",
       "───────────────────────── - ───────────────────── - ────────────────────────── - ──────────\n",
       "  126000                            63000                     126000                 126000\n",
       "                                                                                           \n",
       "\n",
       "                                                                                           \n",
       "+ 20219776⋅u_{t}   2766297⋅u - 28474399⋅u_{t}   10098821⋅u - 25708102⋅u_{t}   10098821⋅u - \n",
       "──────────────── + ────────────────────────── + ─────────────────────────── + ─────────────\n",
       "⋅\\varepsilon                            2                             3                    \n",
       "                      126000⋅\\varepsilon            126000⋅\\varepsilon            126000⋅\\v\n",
       "\n",
       "                                                                \n",
       "15609281⋅u_{t}   4591523⋅u - 5510460⋅u_{t}    918937⋅(u - u_{t})\n",
       "────────────── + ───────────────────────── + ───────────────────\n",
       "         4                            5                        6\n",
       "arepsilon           126000⋅\\varepsilon       126000⋅\\varepsilon "
      ]
     },
     "metadata": {},
     "output_type": "display_data"
    }
   ],
   "source": [
    "f5 = NF(F5, [u1, u.diff(t, 2)], [f1, F5], head=False)\n",
    "prn(f5, eps)"
   ]
  },
  {
   "cell_type": "code",
   "execution_count": null,
   "id": "de77ab65",
   "metadata": {},
   "outputs": [],
   "source": []
  }
 ],
 "metadata": {
  "kernelspec": {
   "display_name": "Python 3 (ipykernel)",
   "language": "python",
   "name": "python3"
  },
  "language_info": {
   "codemirror_mode": {
    "name": "ipython",
    "version": 3
   },
   "file_extension": ".py",
   "mimetype": "text/x-python",
   "name": "python",
   "nbconvert_exporter": "python",
   "pygments_lexer": "ipython3",
   "version": "3.11.2"
  }
 },
 "nbformat": 4,
 "nbformat_minor": 5
}
