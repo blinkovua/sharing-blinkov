{
 "cells": [
  {
   "cell_type": "code",
   "execution_count": 1,
   "metadata": {},
   "outputs": [],
   "source": [
    "from IPython.display import display\n",
    "\n",
    "from sympy import *\n",
    "\n",
    "from monom import *"
   ]
  },
  {
   "cell_type": "code",
   "execution_count": 2,
   "metadata": {},
   "outputs": [],
   "source": [
    "t, x, y, tau, h, Re, p0 = symbols(r't, x, y, tau, h, Re, p_0', real=True)\n",
    "u, v, p = (f(t, x, y) for f in symbols('u, v, p', cls=Function))"
   ]
  },
  {
   "cell_type": "code",
   "execution_count": 3,
   "metadata": {},
   "outputs": [],
   "source": [
    "pda_f, pda_v = (u, v, p), (t, x, y)\n",
    "pda_n, pda_clp = 5, 3\n",
    "pda_p = Rational(0, 1), Rational(0, 1), Rational(0, 1)"
   ]
  },
  {
   "cell_type": "code",
   "execution_count": 4,
   "metadata": {},
   "outputs": [],
   "source": [
    "Monom.variables = 1 + len(pda_v)\n",
    "Monom.cmp = Monom.TOPdeglex\n",
    "Monom.zero = Monom(0 for v in range(Monom.variables))\n",
    "pda_fun = dict(zip(pda_f,\\\n",
    "             (Monom(0 if v else i for v in range(Monom.variables))\\\n",
    "              for i in range(1, Monom.variables))))\n",
    "pda_var = dict(zip(pda_v,\\\n",
    "             (Monom(0 if v != i else 1 for v in range(Monom.variables))\\\n",
    "              for i in range(1, Monom.variables))))"
   ]
  },
  {
   "cell_type": "code",
   "execution_count": 5,
   "metadata": {},
   "outputs": [],
   "source": [
    "def T(f, i1, j1, k1):\n",
    "    return sum(sum(sum(\\\n",
    "        diff(f, t, i, x, j, y, k)*(tau*(i1+pda_p[0]))**i \\\n",
    "                                   *(h*(j1+pda_p[1]))**j \\\n",
    "                                   *(h*(k1+pda_p[2]))**k/\\\n",
    "                 (factorial(i)*factorial(j)*factorial(k))\\\n",
    "        for i in range(pda_n-j-k))\\\n",
    "        for k in range(pda_n-j))  \\\n",
    "        for j in range(pda_n))"
   ]
  },
  {
   "cell_type": "code",
   "execution_count": 6,
   "metadata": {},
   "outputs": [
    {
     "data": {
      "text/latex": [
       "$\\displaystyle \\frac{h^{2} \\frac{\\partial^{3}}{\\partial y^{3}} u{\\left(t,x,y \\right)}}{6} + \\frac{\\partial}{\\partial y} u{\\left(t,x,y \\right)}$"
      ],
      "text/plain": [
       "h**2*Derivative(u(t, x, y), (y, 3))/6 + Derivative(u(t, x, y), y)"
      ]
     },
     "execution_count": 6,
     "metadata": {},
     "output_type": "execute_result"
    }
   ],
   "source": [
    "expand((T(u, 0, 0, 1)-T(u, 0, 0, -1))/(2*h))"
   ]
  },
  {
   "cell_type": "code",
   "execution_count": 7,
   "metadata": {},
   "outputs": [],
   "source": [
    "def clip(f):\n",
    "    f = f.expand()\n",
    "    return [f.coeff(tau, 0).coeff(h, 0),\\\n",
    "            f.coeff(h, 0).coeff(tau, 1),\\\n",
    "            f.coeff(tau, 0).coeff(h, 2)]\n",
    "\n",
    "def df2m(a):\n",
    "    assert a.func == Derivative\n",
    "    m = pda_fun[a.args[0]]\n",
    "    for xi in a.args[1:]:\n",
    "        if isinstance(xi, Symbol):\n",
    "            m = m*pda_var[xi]\n",
    "        else:\n",
    "            m = m*pda_var[xi[0]]**xi[1]\n",
    "    return m\n",
    "\n",
    "def m2df(m):\n",
    "    r = pda_f[m[0]-1]\n",
    "    for i in range(1, len(m)):\n",
    "        r = r.diff(pda_v[i-1], m[i])\n",
    "    return r\n",
    "\n",
    "def findDiv(a, d):\n",
    "    r = None\n",
    "    def find(a, r):\n",
    "        if a.args:\n",
    "            if a.func == Derivative and a.args[0] in pda_fun:\n",
    "                m = df2m(a)\n",
    "                if m.divisible(d) and (not r or m.cmp(r) > 0):\n",
    "                    r = m\n",
    "            else:\n",
    "                for s in a.args:\n",
    "                    r = find(s, r)\n",
    "        return r\n",
    "    return find(a, r)\n",
    "\n",
    "def reduction(f1, f2, m, c, shift):\n",
    "    assert shift < pda_clp\n",
    "    r = [f1[i] for i in range(shift)]\n",
    "    if not m:\n",
    "        for i in range(shift, pda_clp):\n",
    "            r.append(expand(f1[i] - f2[i-shift]*c))\n",
    "    else:\n",
    "        for i in range(shift, pda_clp):\n",
    "            r.append(expand(f1[i] - f2[i-shift].diff(*m)*c))\n",
    "    return r\n",
    "\n",
    "def NF(f, df, G, head=False, trace=False):\n",
    "    assert len(df) == len(G)\n",
    "#     print(df2m(df[0]))\n",
    "    ms = [df2m(d) for d in df]\n",
    "    for i in range(0 if head else 1, pda_clp):\n",
    "        t = 0\n",
    "        if f[i]:\n",
    "            while True:\n",
    "                r = None\n",
    "                for l in range(len(ms)):\n",
    "                    r = findDiv(f[i], ms[l])\n",
    "                    if r:\n",
    "                        break\n",
    "                if not r: \n",
    "                    break\n",
    "                c, deg, m = 0, 7, m2df(r)\n",
    "                while c == 0:\n",
    "                    c = f[i].coeff(m, deg)\n",
    "                    deg -= 1\n",
    "                    assert deg >= 0\n",
    "#                 print(c, m, deg+1)\n",
    "                if deg:\n",
    "                    c *= m**deg\n",
    "                m = r/ms[l]\n",
    "                d = []\n",
    "                for k in range(len(pda_v)):\n",
    "                    if m[k+1] > 0:\n",
    "                        d.append(pda_v[k])\n",
    "                        if m[k+1] > 1:\n",
    "                            d.append(m[k+1])\n",
    "                if trace:\n",
    "                    print(\">\"*12)\n",
    "                    eq = Symbol(\"eq%d\" % (l+1), real=True)\n",
    "                    if d:\n",
    "                        display(Derivative(*tuple([eq] + d))*c*h**i)\n",
    "                    else:\n",
    "                        display(eq*c*h**i)\n",
    "                f = reduction(f, G[l], tuple(d), c/G[l][0].coeff(df[l]), i)\n",
    "                if trace:\n",
    "                    print(\"res =\")\n",
    "                    display(f)\n",
    "                    print(\"<\"*12)\n",
    "                t += 1\n",
    "#                 if t > 6: break\n",
    "    return f\n",
    "\n",
    "def compact(f):\n",
    "    def cmpct(a):\n",
    "        if not a.args:\n",
    "            return a\n",
    "        else:\n",
    "            if a in pda_fun:\n",
    "                return Symbol(\"%s\" % a.func, real=True)\n",
    "            elif a.func == Derivative and a.args[0] in pda_fun:\n",
    "                m = []\n",
    "                for xi in a.args[1:]:\n",
    "                    if isinstance(xi, Symbol):\n",
    "                        m.append(str(xi))\n",
    "                    else:\n",
    "                        m.append(str(xi[0])*xi[1])\n",
    "                return Symbol(\"%s_{%s}\" % (a.args[0].func, \"\".join(m)), real=True)\n",
    "            else:\n",
    "                return a.func(*tuple(cmpct(s) for s in a.args))\n",
    "    return cmpct(f)\n",
    "\n",
    "def prn(a):\n",
    "    display(compact(a[0]))\n",
    "    print(\"tau =>\")\n",
    "    display(compact(a[1]))\n",
    "    print(\"h^2 =>\")\n",
    "    display(compact(a[2]))\n",
    "    \n",
    "def prnlatex(a):\n",
    "    print(latex(compact(a[0])))\n",
    "    print(r\"+\\tau\\big(\")\n",
    "    print(latex(compact(a[1]))) \n",
    "    print(r\"\\big)\")\n",
    "    print(r\"+h^2\\big(\")\n",
    "    print(latex(compact(a[2]))) \n",
    "    print(r\"\\big)\")    "
   ]
  },
  {
   "cell_type": "code",
   "execution_count": 8,
   "metadata": {},
   "outputs": [],
   "source": [
    "def Dt(a):\n",
    "    return (T(a, 1, 0, 0) - T(a, 0, 0, 0))/(tau)\n",
    "def Dx(a):\n",
    "    return (T(a, 0, 1, 0) - T(a, 0, -1, 0))/(2*h)\n",
    "def Dy(a):\n",
    "    return (T(a, 0, 0, 1) - T(a, 0, 0, -1))/(2*h)\n",
    "\n",
    "def DD(a):\n",
    "    return (T(a, 0, 1, 0) + T(a, 0, 0, 1) +\\\n",
    "                -4*T(a, 0, 0, 0) +\\\n",
    "           T(a, 0, -1, 0) + T(a, 0, 0, -1))/h**2\n",
    "\n",
    "def DD2(a):\n",
    "    return (T(a, 0, 2, 0) + T(a, 0, 0, 2) +\\\n",
    "                -4*T(a, 0, 0, 0) +\\\n",
    "           T(a, 0, -2, 0) + T(a, 0, 0, -2))/(4*h**2)"
   ]
  },
  {
   "cell_type": "markdown",
   "metadata": {},
   "source": [
    "**Taylor decaying**\n",
    "\n",
    "This is a classical Navier-Stokes problem, in general used to state the con-\n",
    "vergence order of the considered formulae. Exact solution is\n",
    "\\begin{equation} \\label{eq1}\n",
    "\\left\\lbrace \n",
    "\\begin{array}{l}\n",
    " u = -e^{-2t/\\mathrm{Re}} \\cos(x) \\sin(y) ,\\\\\n",
    " v =  e^{-2t/\\mathrm{Re}} \\sin(x) \\cos(y) ,\\\\\n",
    " p = -e^{-4t/\\mathrm{Re}} (\\cos(2x) + \\cos(2y))/4 ,\n",
    "\\end{array}\n",
    "\\right. \n",
    "\\end{equation} "
   ]
  },
  {
   "cell_type": "code",
   "execution_count": 9,
   "metadata": {},
   "outputs": [],
   "source": [
    "TD = {u: -exp(-2*t/Re)*cos(x)*sin(y),\\\n",
    "      v:  exp(-2*t/Re)*sin(x)*cos(y),\\\n",
    "      p: -exp(-4*t/Re)*(cos(2*x)+cos(2*y))/4}"
   ]
  },
  {
   "cell_type": "markdown",
   "metadata": {},
   "source": [
    "**Kovasznay flow**\n",
    "\n",
    "This is a classical Navier-Stokes problem, in general used to state the con-\n",
    "vergence order of the considered formulae. Exact solution is\n",
    "\\begin{equation} \\label{eq2}\n",
    "\\left\\lbrace \n",
    "\\begin{array}{l}\n",
    " u = 1-e^{\\lambda x} \\cos(2 \\pi y) ,\\\\\n",
    " v = \\lambda/{2\\pi} e^{\\lambda x} \\sin(2 \\pi y) ,\\\\\n",
    " p = p_0-\\frac{1}{2}e^{2\\lambda x} ,\n",
    "\\end{array}\n",
    "\\right. \n",
    "\\end{equation}\n",
    "where $\\lambda = \\mathrm{Re}/2-\\sqrt{\\mathrm{Re}^2/4+4\\pi^2}$."
   ]
  },
  {
   "cell_type": "code",
   "execution_count": 10,
   "metadata": {},
   "outputs": [],
   "source": [
    "Lambda = Re/2 - sqrt(Re**2/4 + 4*pi**2)\n",
    "KF = {u: 1 - exp(Lambda*x)*cos(2*pi*y),\\\n",
    "      v: Lambda/(2*pi)*exp(Lambda*x)*sin(2*pi*y),\\\n",
    "      p: p0 - exp(2*Lambda*x)/2}"
   ]
  },
  {
   "cell_type": "markdown",
   "metadata": {},
   "source": [
    "# FDA2"
   ]
  },
  {
   "cell_type": "markdown",
   "metadata": {},
   "source": [
    "Hans Johnston and Jian-Guo Liu, Finite Difference Schemes for Incompressible Flow Based on Local Pressure Boundary Conditions. Journal of Computational Physics 180, 120–154 (2002) doi:10.1006/jcph.2002.7079\n",
    "\n",
    "page 126\n",
    "\n",
    "\\begin{equation}\n",
    "\\left\\lbrace \n",
    "\\begin{array}{rl}\n",
    "F^1:& \\operatorname{D_1}(u) + \\operatorname{D_2}(v)=0 ,\\\\[4pt]\n",
    "F^2:& \\operatorname{D_t}(u) + u\\operatorname{D_1}(u)+\n",
    "v\\operatorname{D_2}(u) + \n",
    "\\operatorname{D_1}(p) - \\frac{1}{\\mathrm{Re}} \\tilde{\\Delta} (u)\n",
    "=0 ,\\\\[4pt]\n",
    "F^3:& \\operatorname{D_t}(v) + u\\operatorname{D_1}(v)+\n",
    "v\\operatorname{D_2}(v) +\n",
    "\\operatorname{D_2}(p) - \\frac{1}{\\mathrm{Re}} \\tilde{\\Delta} (v)\n",
    "=0 ,\\\\[4pt]\n",
    "F^4:& \\tilde{\\Delta}(p) \n",
    "- 2\\operatorname{D_1}(u)\\operatorname{D_2}(v)\n",
    "+ 2\\operatorname{D_1}(v)\\operatorname{D_2}(u)\n",
    "=0 .\n",
    "\\end{array}\n",
    "\\right. \n",
    "\\end{equation}"
   ]
  },
  {
   "cell_type": "code",
   "execution_count": 11,
   "metadata": {},
   "outputs": [],
   "source": [
    "F1 = clip(Dx(u) + Dy(v))\n",
    "F2 = clip(Dt(u) + u*Dx(u) + v*Dy(u) + Dx(p) - DD(u)/Re)\n",
    "F3 = clip(Dt(v) + u*Dx(v) + v*Dy(v) + Dy(p) - DD(v)/Re)\n",
    "F4 = clip(DD(p) - 2*Dx(u)*Dy(v) + 2*Dx(v)*Dy(u))"
   ]
  },
  {
   "cell_type": "code",
   "execution_count": 12,
   "metadata": {},
   "outputs": [
    {
     "data": {
      "text/latex": [
       "$\\displaystyle u_{x} + v_{y}$"
      ],
      "text/plain": [
       "u_{x} + v_{y}"
      ]
     },
     "metadata": {},
     "output_type": "display_data"
    },
    {
     "name": "stdout",
     "output_type": "stream",
     "text": [
      "tau =>\n"
     ]
    },
    {
     "data": {
      "text/latex": [
       "$\\displaystyle 0$"
      ],
      "text/plain": [
       "0"
      ]
     },
     "metadata": {},
     "output_type": "display_data"
    },
    {
     "name": "stdout",
     "output_type": "stream",
     "text": [
      "h^2 =>\n"
     ]
    },
    {
     "data": {
      "text/latex": [
       "$\\displaystyle \\frac{u_{xxx}}{6} + \\frac{v_{yyy}}{6}$"
      ],
      "text/plain": [
       "u_{xxx}/6 + v_{yyy}/6"
      ]
     },
     "metadata": {},
     "output_type": "display_data"
    },
    {
     "name": "stdout",
     "output_type": "stream",
     "text": [
      "-------------------------\n"
     ]
    },
    {
     "data": {
      "text/latex": [
       "$\\displaystyle u_{x} + v_{y}$"
      ],
      "text/plain": [
       "u_{x} + v_{y}"
      ]
     },
     "metadata": {},
     "output_type": "display_data"
    },
    {
     "name": "stdout",
     "output_type": "stream",
     "text": [
      "tau =>\n"
     ]
    },
    {
     "data": {
      "text/latex": [
       "$\\displaystyle 0$"
      ],
      "text/plain": [
       "0"
      ]
     },
     "metadata": {},
     "output_type": "display_data"
    },
    {
     "name": "stdout",
     "output_type": "stream",
     "text": [
      "h^2 =>\n"
     ]
    },
    {
     "data": {
      "text/latex": [
       "$\\displaystyle - \\frac{Re p_{yy}}{6} - \\frac{Re u v_{xy}}{6} - \\frac{Re u_{y} v_{x}}{6} - \\frac{Re v v_{yy}}{6} - \\frac{Re v_{ty}}{6} - \\frac{Re v_{y}^{2}}{6} + \\frac{v_{yyy}}{3}$"
      ],
      "text/plain": [
       "-Re*p_{yy}/6 - Re*u*v_{xy}/6 - Re*u_{y}*v_{x}/6 - Re*v*v_{yy}/6 - Re*v_{ty}/6 - Re*v_{y}**2/6 + v_{yyy}/3"
      ]
     },
     "metadata": {},
     "output_type": "display_data"
    },
    {
     "name": "stdout",
     "output_type": "stream",
     "text": [
      "u_{x} + v_{y}\n",
      "+\\tau\\big(\n",
      "0\n",
      "\\big)\n",
      "+h^2\\big(\n",
      "- \\frac{Re p_{yy}}{6} - \\frac{Re u v_{xy}}{6} - \\frac{Re u_{y} v_{x}}{6} - \\frac{Re v v_{yy}}{6} - \\frac{Re v_{ty}}{6} - \\frac{Re v_{y}^{2}}{6} + \\frac{v_{yyy}}{3}\n",
      "\\big)\n"
     ]
    }
   ],
   "source": [
    "prn(F1);print(\"-\"*25)\n",
    "f1 = NF(F1, [u.diff(x), u.diff(y, 2), v.diff(x, 2), p.diff(x, 2)], [F1, F2, F3, F4], head=False)\n",
    "prn(f1)\n",
    "prnlatex(f1)"
   ]
  },
  {
   "cell_type": "code",
   "execution_count": 13,
   "metadata": {},
   "outputs": [
    {
     "data": {
      "text/latex": [
       "$\\displaystyle 0$"
      ],
      "text/plain": [
       "0"
      ]
     },
     "metadata": {},
     "output_type": "display_data"
    },
    {
     "name": "stdout",
     "output_type": "stream",
     "text": [
      "tau =>\n"
     ]
    },
    {
     "data": {
      "text/latex": [
       "$\\displaystyle 0$"
      ],
      "text/plain": [
       "0"
      ]
     },
     "metadata": {},
     "output_type": "display_data"
    },
    {
     "name": "stdout",
     "output_type": "stream",
     "text": [
      "h^2 =>\n"
     ]
    },
    {
     "data": {
      "text/latex": [
       "$\\displaystyle 0$"
      ],
      "text/plain": [
       "0"
      ]
     },
     "metadata": {},
     "output_type": "display_data"
    }
   ],
   "source": [
    "prn([f.subs(TD).doit().simplify() for f in f1])"
   ]
  },
  {
   "cell_type": "code",
   "execution_count": 14,
   "metadata": {},
   "outputs": [
    {
     "data": {
      "text/latex": [
       "$\\displaystyle 0$"
      ],
      "text/plain": [
       "0"
      ]
     },
     "metadata": {},
     "output_type": "display_data"
    },
    {
     "name": "stdout",
     "output_type": "stream",
     "text": [
      "tau =>\n"
     ]
    },
    {
     "data": {
      "text/latex": [
       "$\\displaystyle 0$"
      ],
      "text/plain": [
       "0"
      ]
     },
     "metadata": {},
     "output_type": "display_data"
    },
    {
     "name": "stdout",
     "output_type": "stream",
     "text": [
      "h^2 =>\n"
     ]
    },
    {
     "data": {
      "text/latex": [
       "$\\displaystyle - \\frac{\\left(Re^{3} - Re^{2} \\sqrt{Re^{2} + 16 \\pi^{2}} + 16 \\pi^{2} Re - 8 \\pi^{2} \\sqrt{Re^{2} + 16 \\pi^{2}}\\right) e^{\\frac{x \\left(Re - \\sqrt{Re^{2} + 16 \\pi^{2}}\\right)}{2}} \\cos{\\left(2 \\pi y \\right)}}{12}$"
      ],
      "text/plain": [
       "-(Re**3 - Re**2*sqrt(Re**2 + 16*pi**2) + 16*pi**2*Re - 8*pi**2*sqrt(Re**2 + 16*pi**2))*exp(x*(Re - sqrt(Re**2 + 16*pi**2))/2)*cos(2*pi*y)/12"
      ]
     },
     "metadata": {},
     "output_type": "display_data"
    }
   ],
   "source": [
    "prn([f.subs(KF).doit().simplify() for f in f1])"
   ]
  },
  {
   "cell_type": "code",
   "execution_count": 15,
   "metadata": {},
   "outputs": [
    {
     "data": {
      "text/latex": [
       "$\\displaystyle p_{x} + u u_{x} + u_{t} + u_{y} v - \\frac{u_{xx}}{Re} - \\frac{u_{yy}}{Re}$"
      ],
      "text/plain": [
       "p_{x} + u*u_{x} + u_{t} + u_{y}*v - u_{xx}/Re - u_{yy}/Re"
      ]
     },
     "metadata": {},
     "output_type": "display_data"
    },
    {
     "name": "stdout",
     "output_type": "stream",
     "text": [
      "tau =>\n"
     ]
    },
    {
     "data": {
      "text/latex": [
       "$\\displaystyle \\frac{u_{tt}}{2}$"
      ],
      "text/plain": [
       "u_{tt}/2"
      ]
     },
     "metadata": {},
     "output_type": "display_data"
    },
    {
     "name": "stdout",
     "output_type": "stream",
     "text": [
      "h^2 =>\n"
     ]
    },
    {
     "data": {
      "text/latex": [
       "$\\displaystyle \\frac{p_{xxx}}{6} + \\frac{u u_{xxx}}{6} + \\frac{u_{yyy} v}{6} - \\frac{u_{xxxx}}{12 Re} - \\frac{u_{yyyy}}{12 Re}$"
      ],
      "text/plain": [
       "p_{xxx}/6 + u*u_{xxx}/6 + u_{yyy}*v/6 - u_{xxxx}/(12*Re) - u_{yyyy}/(12*Re)"
      ]
     },
     "metadata": {},
     "output_type": "display_data"
    },
    {
     "name": "stdout",
     "output_type": "stream",
     "text": [
      "-------------------------\n"
     ]
    },
    {
     "data": {
      "text/latex": [
       "$\\displaystyle p_{x} + u u_{x} + u_{t} + u_{y} v - \\frac{u_{xx}}{Re} - \\frac{u_{yy}}{Re}$"
      ],
      "text/plain": [
       "p_{x} + u*u_{x} + u_{t} + u_{y}*v - u_{xx}/Re - u_{yy}/Re"
      ]
     },
     "metadata": {},
     "output_type": "display_data"
    },
    {
     "name": "stdout",
     "output_type": "stream",
     "text": [
      "tau =>\n"
     ]
    },
    {
     "data": {
      "text/latex": [
       "$\\displaystyle \\frac{u_{tt}}{2}$"
      ],
      "text/plain": [
       "u_{tt}/2"
      ]
     },
     "metadata": {},
     "output_type": "display_data"
    },
    {
     "name": "stdout",
     "output_type": "stream",
     "text": [
      "h^2 =>\n"
     ]
    },
    {
     "data": {
      "text/latex": [
       "$\\displaystyle \\frac{Re^{2} p_{x} v^{2}}{12} - \\frac{Re^{2} u v^{2} v_{y}}{12} + \\frac{Re^{2} u_{t} v^{2}}{12} + \\frac{Re^{2} u_{y} v^{3}}{12} - \\frac{Re p_{tx}}{12} + \\frac{Re p_{xy} v}{12} - \\frac{Re p_{x} v_{y}}{12} - \\frac{Re p_{yy} u}{12} - \\frac{Re p_{y} u_{y}}{4} - \\frac{Re u^{2} v_{xy}}{12} - \\frac{Re u u_{y} v_{x}}{3} - \\frac{Re u v v_{yy}}{6} - \\frac{Re u_{tt}}{12} - \\frac{Re u_{y} v v_{y}}{3} - \\frac{Re u_{y} v_{t}}{3} + \\frac{Re v^{2} v_{xy}}{12} - \\frac{p_{xyy}}{6} + \\frac{u v_{yyy}}{6} + \\frac{u_{y} v_{yy}}{3} + \\frac{v v_{xyy}}{6} - \\frac{2 v_{xy} v_{y}}{3} + \\frac{v_{x} v_{yy}}{3} - \\frac{v_{xyyy}}{6 Re}$"
      ],
      "text/plain": [
       "Re**2*p_{x}*v**2/12 - Re**2*u*v**2*v_{y}/12 + Re**2*u_{t}*v**2/12 + Re**2*u_{y}*v**3/12 - Re*p_{tx}/12 + Re*p_{xy}*v/12 - Re*p_{x}*v_{y}/12 - Re*p_{yy}*u/12 - Re*p_{y}*u_{y}/4 - Re*u**2*v_{xy}/12 - Re*u*u_{y}*v_{x}/3 - Re*u*v*v_{yy}/6 - Re*u_{tt}/12 - Re*u_{y}*v*v_{y}/3 - Re*u_{y}*v_{t}/3 + Re*v**2*v_{xy}/12 - p_{xyy}/6 + u*v_{yyy}/6 + u_{y}*v_{yy}/3 + v*v_{xyy}/6 - 2*v_{xy}*v_{y}/3 + v_{x}*v_{yy}/3 - v_{xyyy}/(6*Re)"
      ]
     },
     "metadata": {},
     "output_type": "display_data"
    },
    {
     "name": "stdout",
     "output_type": "stream",
     "text": [
      "p_{x} + u u_{x} + u_{t} + u_{y} v - \\frac{u_{xx}}{Re} - \\frac{u_{yy}}{Re}\n",
      "+\\tau\\big(\n",
      "\\frac{u_{tt}}{2}\n",
      "\\big)\n",
      "+h^2\\big(\n",
      "\\frac{Re^{2} p_{x} v^{2}}{12} - \\frac{Re^{2} u v^{2} v_{y}}{12} + \\frac{Re^{2} u_{t} v^{2}}{12} + \\frac{Re^{2} u_{y} v^{3}}{12} - \\frac{Re p_{tx}}{12} + \\frac{Re p_{xy} v}{12} - \\frac{Re p_{x} v_{y}}{12} - \\frac{Re p_{yy} u}{12} - \\frac{Re p_{y} u_{y}}{4} - \\frac{Re u^{2} v_{xy}}{12} - \\frac{Re u u_{y} v_{x}}{3} - \\frac{Re u v v_{yy}}{6} - \\frac{Re u_{tt}}{12} - \\frac{Re u_{y} v v_{y}}{3} - \\frac{Re u_{y} v_{t}}{3} + \\frac{Re v^{2} v_{xy}}{12} - \\frac{p_{xyy}}{6} + \\frac{u v_{yyy}}{6} + \\frac{u_{y} v_{yy}}{3} + \\frac{v v_{xyy}}{6} - \\frac{2 v_{xy} v_{y}}{3} + \\frac{v_{x} v_{yy}}{3} - \\frac{v_{xyyy}}{6 Re}\n",
      "\\big)\n"
     ]
    }
   ],
   "source": [
    "prn(F2);print(\"-\"*25)\n",
    "f2 = NF(F2, [u.diff(x), u.diff(y, 2), v.diff(x, 2), p.diff(x, 2)], [F1, F2, F3, F4], head=False)\n",
    "prn(f2)\n",
    "prnlatex(f2)"
   ]
  },
  {
   "cell_type": "code",
   "execution_count": 16,
   "metadata": {},
   "outputs": [
    {
     "data": {
      "text/latex": [
       "$\\displaystyle 0$"
      ],
      "text/plain": [
       "0"
      ]
     },
     "metadata": {},
     "output_type": "display_data"
    },
    {
     "name": "stdout",
     "output_type": "stream",
     "text": [
      "tau =>\n"
     ]
    },
    {
     "data": {
      "text/latex": [
       "$\\displaystyle - \\frac{2 e^{- \\frac{2 t}{Re}} \\sin{\\left(y \\right)} \\cos{\\left(x \\right)}}{Re^{2}}$"
      ],
      "text/plain": [
       "-2*exp(-2*t/Re)*sin(y)*cos(x)/Re**2"
      ]
     },
     "metadata": {},
     "output_type": "display_data"
    },
    {
     "name": "stdout",
     "output_type": "stream",
     "text": [
      "h^2 =>\n"
     ]
    },
    {
     "data": {
      "text/latex": [
       "$\\displaystyle \\frac{\\left(- 3 Re \\sin{\\left(x \\right)} + e^{\\frac{2 t}{Re}} \\sin{\\left(y \\right)}\\right) e^{- \\frac{4 t}{Re}} \\cos{\\left(x \\right)}}{6 Re}$"
      ],
      "text/plain": [
       "(-3*Re*sin(x) + exp(2*t/Re)*sin(y))*exp(-4*t/Re)*cos(x)/(6*Re)"
      ]
     },
     "metadata": {},
     "output_type": "display_data"
    }
   ],
   "source": [
    "prn([f.subs(TD).doit().simplify() for f in f2])"
   ]
  },
  {
   "cell_type": "code",
   "execution_count": 17,
   "metadata": {},
   "outputs": [
    {
     "data": {
      "text/latex": [
       "$\\displaystyle 0$"
      ],
      "text/plain": [
       "0"
      ]
     },
     "metadata": {},
     "output_type": "display_data"
    },
    {
     "name": "stdout",
     "output_type": "stream",
     "text": [
      "tau =>\n"
     ]
    },
    {
     "data": {
      "text/latex": [
       "$\\displaystyle 0$"
      ],
      "text/plain": [
       "0"
      ]
     },
     "metadata": {},
     "output_type": "display_data"
    },
    {
     "name": "stdout",
     "output_type": "stream",
     "text": [
      "h^2 =>\n"
     ]
    },
    {
     "data": {
      "text/latex": [
       "$\\displaystyle \\frac{2 Re^{4} e^{\\frac{x \\left(Re - \\sqrt{Re^{2} + 16 \\pi^{2}}\\right)}{2}} \\sin^{2}{\\left(\\pi y \\right)} - Re^{4} e^{\\frac{x \\left(Re - \\sqrt{Re^{2} + 16 \\pi^{2}}\\right)}{2}} + 8 Re^{4} e^{x \\left(Re - \\sqrt{Re^{2} + 16 \\pi^{2}}\\right)} \\sin^{4}{\\left(\\pi y \\right)} - 8 Re^{4} e^{x \\left(Re - \\sqrt{Re^{2} + 16 \\pi^{2}}\\right)} \\sin^{2}{\\left(\\pi y \\right)} - 6 Re^{4} e^{x \\left(Re - \\sqrt{Re^{2} + 16 \\pi^{2}}\\right)} - 2 Re^{3} \\sqrt{Re^{2} + 16 \\pi^{2}} e^{\\frac{x \\left(Re - \\sqrt{Re^{2} + 16 \\pi^{2}}\\right)}{2}} \\sin^{2}{\\left(\\pi y \\right)} + Re^{3} \\sqrt{Re^{2} + 16 \\pi^{2}} e^{\\frac{x \\left(Re - \\sqrt{Re^{2} + 16 \\pi^{2}}\\right)}{2}} - 8 Re^{3} \\sqrt{Re^{2} + 16 \\pi^{2}} e^{x \\left(Re - \\sqrt{Re^{2} + 16 \\pi^{2}}\\right)} \\sin^{4}{\\left(\\pi y \\right)} + 8 Re^{3} \\sqrt{Re^{2} + 16 \\pi^{2}} e^{x \\left(Re - \\sqrt{Re^{2} + 16 \\pi^{2}}\\right)} \\sin^{2}{\\left(\\pi y \\right)} + 6 Re^{3} \\sqrt{Re^{2} + 16 \\pi^{2}} e^{x \\left(Re - \\sqrt{Re^{2} + 16 \\pi^{2}}\\right)} + 16 \\pi^{2} Re^{2} e^{\\frac{x \\left(Re - \\sqrt{Re^{2} + 16 \\pi^{2}}\\right)}{2}} \\sin^{2}{\\left(\\pi y \\right)} - 8 \\pi^{2} Re^{2} e^{\\frac{x \\left(Re - \\sqrt{Re^{2} + 16 \\pi^{2}}\\right)}{2}} + 128 \\pi^{2} Re^{2} e^{x \\left(Re - \\sqrt{Re^{2} + 16 \\pi^{2}}\\right)} \\sin^{4}{\\left(\\pi y \\right)} - 128 \\pi^{2} Re^{2} e^{x \\left(Re - \\sqrt{Re^{2} + 16 \\pi^{2}}\\right)} \\sin^{2}{\\left(\\pi y \\right)} - 72 \\pi^{2} Re^{2} e^{x \\left(Re - \\sqrt{Re^{2} + 16 \\pi^{2}}\\right)} - 64 \\pi^{2} Re \\sqrt{Re^{2} + 16 \\pi^{2}} e^{x \\left(Re - \\sqrt{Re^{2} + 16 \\pi^{2}}\\right)} \\sin^{4}{\\left(\\pi y \\right)} + 64 \\pi^{2} Re \\sqrt{Re^{2} + 16 \\pi^{2}} e^{x \\left(Re - \\sqrt{Re^{2} + 16 \\pi^{2}}\\right)} \\sin^{2}{\\left(\\pi y \\right)} + 24 \\pi^{2} Re \\sqrt{Re^{2} + 16 \\pi^{2}} e^{x \\left(Re - \\sqrt{Re^{2} + 16 \\pi^{2}}\\right)} - 128 \\pi^{4} e^{\\frac{x \\left(Re - \\sqrt{Re^{2} + 16 \\pi^{2}}\\right)}{2}} \\sin^{2}{\\left(\\pi y \\right)} + 64 \\pi^{4} e^{\\frac{x \\left(Re - \\sqrt{Re^{2} + 16 \\pi^{2}}\\right)}{2}}}{24 Re}$"
      ],
      "text/plain": [
       "(2*Re**4*exp(x*(Re - sqrt(Re**2 + 16*pi**2))/2)*sin(pi*y)**2 - Re**4*exp(x*(Re - sqrt(Re**2 + 16*pi**2))/2) + 8*Re**4*exp(x*(Re - sqrt(Re**2 + 16*pi**2)))*sin(pi*y)**4 - 8*Re**4*exp(x*(Re - sqrt(Re**2 + 16*pi**2)))*sin(pi*y)**2 - 6*Re**4*exp(x*(Re - sqrt(Re**2 + 16*pi**2))) - 2*Re**3*sqrt(Re**2 + 16*pi**2)*exp(x*(Re - sqrt(Re**2 + 16*pi**2))/2)*sin(pi*y)**2 + Re**3*sqrt(Re**2 + 16*pi**2)*exp(x*(Re - sqrt(Re**2 + 16*pi**2))/2) - 8*Re**3*sqrt(Re**2 + 16*pi**2)*exp(x*(Re - sqrt(Re**2 + 16*pi**2)))*sin(pi*y)**4 + 8*Re**3*sqrt(Re**2 + 16*pi**2)*exp(x*(Re - sqrt(Re**2 + 16*pi**2)))*sin(pi*y)**2 + 6*Re**3*sqrt(Re**2 + 16*pi**2)*exp(x*(Re - sqrt(Re**2 + 16*pi**2))) + 16*pi**2*Re**2*exp(x*(Re - sqrt(Re**2 + 16*pi**2))/2)*sin(pi*y)**2 - 8*pi**2*Re**2*exp(x*(Re - sqrt(Re**2 + 16*pi**2))/2) + 128*pi**2*Re**2*exp(x*(Re - sqrt(Re**2 + 16*pi**2)))*sin(pi*y)**4 - 128*pi**2*Re**2*exp(x*(Re - sqrt(Re**2 + 16*pi**2)))*sin(pi*y)**2 - 72*pi**2*Re**2*exp(x*(Re - sqrt(Re**2 + 16*pi**2))) - 64*pi**2*Re*sqrt(Re**2 + 16*pi**2)*exp(x*(Re - sqrt(Re**2 + 16*pi**2)))*sin(pi*y)**4 + 64*pi**2*Re*sqrt(Re**2 + 16*pi**2)*exp(x*(Re - sqrt(Re**2 + 16*pi**2)))*sin(pi*y)**2 + 24*pi**2*Re*sqrt(Re**2 + 16*pi**2)*exp(x*(Re - sqrt(Re**2 + 16*pi**2))) - 128*pi**4*exp(x*(Re - sqrt(Re**2 + 16*pi**2))/2)*sin(pi*y)**2 + 64*pi**4*exp(x*(Re - sqrt(Re**2 + 16*pi**2))/2))/(24*Re)"
      ]
     },
     "metadata": {},
     "output_type": "display_data"
    }
   ],
   "source": [
    "prn([f.subs(KF).doit().simplify() for f in f2])"
   ]
  },
  {
   "cell_type": "code",
   "execution_count": 18,
   "metadata": {},
   "outputs": [
    {
     "data": {
      "text/latex": [
       "$\\displaystyle p_{y} + u v_{x} + v v_{y} + v_{t} - \\frac{v_{xx}}{Re} - \\frac{v_{yy}}{Re}$"
      ],
      "text/plain": [
       "p_{y} + u*v_{x} + v*v_{y} + v_{t} - v_{xx}/Re - v_{yy}/Re"
      ]
     },
     "metadata": {},
     "output_type": "display_data"
    },
    {
     "name": "stdout",
     "output_type": "stream",
     "text": [
      "tau =>\n"
     ]
    },
    {
     "data": {
      "text/latex": [
       "$\\displaystyle \\frac{v_{tt}}{2}$"
      ],
      "text/plain": [
       "v_{tt}/2"
      ]
     },
     "metadata": {},
     "output_type": "display_data"
    },
    {
     "name": "stdout",
     "output_type": "stream",
     "text": [
      "h^2 =>\n"
     ]
    },
    {
     "data": {
      "text/latex": [
       "$\\displaystyle \\frac{p_{yyy}}{6} + \\frac{u v_{xxx}}{6} + \\frac{v v_{yyy}}{6} - \\frac{v_{xxxx}}{12 Re} - \\frac{v_{yyyy}}{12 Re}$"
      ],
      "text/plain": [
       "p_{yyy}/6 + u*v_{xxx}/6 + v*v_{yyy}/6 - v_{xxxx}/(12*Re) - v_{yyyy}/(12*Re)"
      ]
     },
     "metadata": {},
     "output_type": "display_data"
    },
    {
     "name": "stdout",
     "output_type": "stream",
     "text": [
      "-------------------------\n"
     ]
    },
    {
     "data": {
      "text/latex": [
       "$\\displaystyle p_{y} + u v_{x} + v v_{y} + v_{t} - \\frac{v_{xx}}{Re} - \\frac{v_{yy}}{Re}$"
      ],
      "text/plain": [
       "p_{y} + u*v_{x} + v*v_{y} + v_{t} - v_{xx}/Re - v_{yy}/Re"
      ]
     },
     "metadata": {},
     "output_type": "display_data"
    },
    {
     "name": "stdout",
     "output_type": "stream",
     "text": [
      "tau =>\n"
     ]
    },
    {
     "data": {
      "text/latex": [
       "$\\displaystyle \\frac{v_{tt}}{2}$"
      ],
      "text/plain": [
       "v_{tt}/2"
      ]
     },
     "metadata": {},
     "output_type": "display_data"
    },
    {
     "name": "stdout",
     "output_type": "stream",
     "text": [
      "h^2 =>\n"
     ]
    },
    {
     "data": {
      "text/latex": [
       "$\\displaystyle \\frac{Re^{2} p_{y} u^{2}}{12} + \\frac{Re^{2} u^{3} v_{x}}{12} + \\frac{Re^{2} u^{2} v v_{y}}{12} + \\frac{Re^{2} u^{2} v_{t}}{12} - \\frac{Re p_{ty}}{12} + \\frac{Re p_{xy} u}{12} + \\frac{Re p_{x} v_{x}}{4} - \\frac{Re p_{yy} v}{12} + \\frac{Re p_{y} v_{y}}{12} - \\frac{Re u^{2} v_{yy}}{12} - \\frac{Re u v_{x} v_{y}}{6} + \\frac{Re u_{t} v_{x}}{6} + \\frac{Re u_{y} v v_{x}}{6} - \\frac{Re v^{2} v_{yy}}{12} - \\frac{Re v v_{ty}}{6} - \\frac{Re v_{tt}}{12} + \\frac{p_{yyy}}{3} + \\frac{u_{y} v_{xy}}{3} + \\frac{v v_{yyy}}{3} + \\frac{v_{tyy}}{6} + \\frac{v_{xy} v_{x}}{6} + \\frac{v_{yy} v_{y}}{2} - \\frac{v_{yyyy}}{6 Re}$"
      ],
      "text/plain": [
       "Re**2*p_{y}*u**2/12 + Re**2*u**3*v_{x}/12 + Re**2*u**2*v*v_{y}/12 + Re**2*u**2*v_{t}/12 - Re*p_{ty}/12 + Re*p_{xy}*u/12 + Re*p_{x}*v_{x}/4 - Re*p_{yy}*v/12 + Re*p_{y}*v_{y}/12 - Re*u**2*v_{yy}/12 - Re*u*v_{x}*v_{y}/6 + Re*u_{t}*v_{x}/6 + Re*u_{y}*v*v_{x}/6 - Re*v**2*v_{yy}/12 - Re*v*v_{ty}/6 - Re*v_{tt}/12 + p_{yyy}/3 + u_{y}*v_{xy}/3 + v*v_{yyy}/3 + v_{tyy}/6 + v_{xy}*v_{x}/6 + v_{yy}*v_{y}/2 - v_{yyyy}/(6*Re)"
      ]
     },
     "metadata": {},
     "output_type": "display_data"
    },
    {
     "name": "stdout",
     "output_type": "stream",
     "text": [
      "p_{y} + u v_{x} + v v_{y} + v_{t} - \\frac{v_{xx}}{Re} - \\frac{v_{yy}}{Re}\n",
      "+\\tau\\big(\n",
      "\\frac{v_{tt}}{2}\n",
      "\\big)\n",
      "+h^2\\big(\n",
      "\\frac{Re^{2} p_{y} u^{2}}{12} + \\frac{Re^{2} u^{3} v_{x}}{12} + \\frac{Re^{2} u^{2} v v_{y}}{12} + \\frac{Re^{2} u^{2} v_{t}}{12} - \\frac{Re p_{ty}}{12} + \\frac{Re p_{xy} u}{12} + \\frac{Re p_{x} v_{x}}{4} - \\frac{Re p_{yy} v}{12} + \\frac{Re p_{y} v_{y}}{12} - \\frac{Re u^{2} v_{yy}}{12} - \\frac{Re u v_{x} v_{y}}{6} + \\frac{Re u_{t} v_{x}}{6} + \\frac{Re u_{y} v v_{x}}{6} - \\frac{Re v^{2} v_{yy}}{12} - \\frac{Re v v_{ty}}{6} - \\frac{Re v_{tt}}{12} + \\frac{p_{yyy}}{3} + \\frac{u_{y} v_{xy}}{3} + \\frac{v v_{yyy}}{3} + \\frac{v_{tyy}}{6} + \\frac{v_{xy} v_{x}}{6} + \\frac{v_{yy} v_{y}}{2} - \\frac{v_{yyyy}}{6 Re}\n",
      "\\big)\n"
     ]
    }
   ],
   "source": [
    "prn(F3);print(\"-\"*25)\n",
    "f3 = NF(F3, [u.diff(x), u.diff(y, 2), v.diff(x, 2), p.diff(x, 2)], [F1, F2, F3, F4], head=False)\n",
    "prn(f3)\n",
    "prnlatex(f3)"
   ]
  },
  {
   "cell_type": "code",
   "execution_count": 19,
   "metadata": {},
   "outputs": [
    {
     "data": {
      "text/latex": [
       "$\\displaystyle 0$"
      ],
      "text/plain": [
       "0"
      ]
     },
     "metadata": {},
     "output_type": "display_data"
    },
    {
     "name": "stdout",
     "output_type": "stream",
     "text": [
      "tau =>\n"
     ]
    },
    {
     "data": {
      "text/latex": [
       "$\\displaystyle \\frac{2 e^{- \\frac{2 t}{Re}} \\sin{\\left(x \\right)} \\cos{\\left(y \\right)}}{Re^{2}}$"
      ],
      "text/plain": [
       "2*exp(-2*t/Re)*sin(x)*cos(y)/Re**2"
      ]
     },
     "metadata": {},
     "output_type": "display_data"
    },
    {
     "name": "stdout",
     "output_type": "stream",
     "text": [
      "h^2 =>\n"
     ]
    },
    {
     "data": {
      "text/latex": [
       "$\\displaystyle - \\frac{\\left(3 Re \\sin{\\left(y \\right)} + e^{\\frac{2 t}{Re}} \\sin{\\left(x \\right)}\\right) e^{- \\frac{4 t}{Re}} \\cos{\\left(y \\right)}}{6 Re}$"
      ],
      "text/plain": [
       "-(3*Re*sin(y) + exp(2*t/Re)*sin(x))*exp(-4*t/Re)*cos(y)/(6*Re)"
      ]
     },
     "metadata": {},
     "output_type": "display_data"
    }
   ],
   "source": [
    "prn([f.subs(TD).doit().simplify() for f in f3])"
   ]
  },
  {
   "cell_type": "code",
   "execution_count": 20,
   "metadata": {},
   "outputs": [
    {
     "data": {
      "text/latex": [
       "$\\displaystyle 0$"
      ],
      "text/plain": [
       "0"
      ]
     },
     "metadata": {},
     "output_type": "display_data"
    },
    {
     "name": "stdout",
     "output_type": "stream",
     "text": [
      "tau =>\n"
     ]
    },
    {
     "data": {
      "text/latex": [
       "$\\displaystyle 0$"
      ],
      "text/plain": [
       "0"
      ]
     },
     "metadata": {},
     "output_type": "display_data"
    },
    {
     "name": "stdout",
     "output_type": "stream",
     "text": [
      "h^2 =>\n"
     ]
    },
    {
     "data": {
      "text/latex": [
       "$\\displaystyle \\frac{\\left(Re - \\sqrt{Re^{2} + 16 \\pi^{2}}\\right) \\left(Re^{4} e^{\\frac{x \\left(Re - \\sqrt{Re^{2} + 16 \\pi^{2}}\\right)}{2}} + 4 Re^{4} e^{x \\left(Re - \\sqrt{Re^{2} + 16 \\pi^{2}}\\right)} \\sin^{2}{\\left(\\pi y \\right)} - 2 Re^{4} e^{x \\left(Re - \\sqrt{Re^{2} + 16 \\pi^{2}}\\right)} - Re^{3} \\sqrt{Re^{2} + 16 \\pi^{2}} e^{\\frac{x \\left(Re - \\sqrt{Re^{2} + 16 \\pi^{2}}\\right)}{2}} - 4 Re^{3} \\sqrt{Re^{2} + 16 \\pi^{2}} e^{x \\left(Re - \\sqrt{Re^{2} + 16 \\pi^{2}}\\right)} \\sin^{2}{\\left(\\pi y \\right)} + 2 Re^{3} \\sqrt{Re^{2} + 16 \\pi^{2}} e^{x \\left(Re - \\sqrt{Re^{2} + 16 \\pi^{2}}\\right)} + 8 \\pi^{2} Re^{2} e^{\\frac{x \\left(Re - \\sqrt{Re^{2} + 16 \\pi^{2}}\\right)}{2}} + 64 \\pi^{2} Re^{2} e^{x \\left(Re - \\sqrt{Re^{2} + 16 \\pi^{2}}\\right)} \\sin^{2}{\\left(\\pi y \\right)} - 32 \\pi^{2} Re^{2} e^{x \\left(Re - \\sqrt{Re^{2} + 16 \\pi^{2}}\\right)} - 32 \\pi^{2} Re \\sqrt{Re^{2} + 16 \\pi^{2}} e^{x \\left(Re - \\sqrt{Re^{2} + 16 \\pi^{2}}\\right)} \\sin^{2}{\\left(\\pi y \\right)} + 16 \\pi^{2} Re \\sqrt{Re^{2} + 16 \\pi^{2}} e^{x \\left(Re - \\sqrt{Re^{2} + 16 \\pi^{2}}\\right)} - 64 \\pi^{4} e^{\\frac{x \\left(Re - \\sqrt{Re^{2} + 16 \\pi^{2}}\\right)}{2}}\\right) \\sin{\\left(2 \\pi y \\right)}}{96 \\pi Re}$"
      ],
      "text/plain": [
       "(Re - sqrt(Re**2 + 16*pi**2))*(Re**4*exp(x*(Re - sqrt(Re**2 + 16*pi**2))/2) + 4*Re**4*exp(x*(Re - sqrt(Re**2 + 16*pi**2)))*sin(pi*y)**2 - 2*Re**4*exp(x*(Re - sqrt(Re**2 + 16*pi**2))) - Re**3*sqrt(Re**2 + 16*pi**2)*exp(x*(Re - sqrt(Re**2 + 16*pi**2))/2) - 4*Re**3*sqrt(Re**2 + 16*pi**2)*exp(x*(Re - sqrt(Re**2 + 16*pi**2)))*sin(pi*y)**2 + 2*Re**3*sqrt(Re**2 + 16*pi**2)*exp(x*(Re - sqrt(Re**2 + 16*pi**2))) + 8*pi**2*Re**2*exp(x*(Re - sqrt(Re**2 + 16*pi**2))/2) + 64*pi**2*Re**2*exp(x*(Re - sqrt(Re**2 + 16*pi**2)))*sin(pi*y)**2 - 32*pi**2*Re**2*exp(x*(Re - sqrt(Re**2 + 16*pi**2))) - 32*pi**2*Re*sqrt(Re**2 + 16*pi**2)*exp(x*(Re - sqrt(Re**2 + 16*pi**2)))*sin(pi*y)**2 + 16*pi**2*Re*sqrt(Re**2 + 16*pi**2)*exp(x*(Re - sqrt(Re**2 + 16*pi**2))) - 64*pi**4*exp(x*(Re - sqrt(Re**2 + 16*pi**2))/2))*sin(2*pi*y)/(96*pi*Re)"
      ]
     },
     "metadata": {},
     "output_type": "display_data"
    }
   ],
   "source": [
    "prn([f.subs(KF).doit().simplify() for f in f3])"
   ]
  },
  {
   "cell_type": "code",
   "execution_count": 21,
   "metadata": {},
   "outputs": [
    {
     "data": {
      "text/latex": [
       "$\\displaystyle p_{xx} + p_{yy} - 2 u_{x} v_{y} + 2 u_{y} v_{x}$"
      ],
      "text/plain": [
       "p_{xx} + p_{yy} - 2*u_{x}*v_{y} + 2*u_{y}*v_{x}"
      ]
     },
     "metadata": {},
     "output_type": "display_data"
    },
    {
     "name": "stdout",
     "output_type": "stream",
     "text": [
      "tau =>\n"
     ]
    },
    {
     "data": {
      "text/latex": [
       "$\\displaystyle 0$"
      ],
      "text/plain": [
       "0"
      ]
     },
     "metadata": {},
     "output_type": "display_data"
    },
    {
     "name": "stdout",
     "output_type": "stream",
     "text": [
      "h^2 =>\n"
     ]
    },
    {
     "data": {
      "text/latex": [
       "$\\displaystyle \\frac{p_{xxxx}}{12} + \\frac{p_{yyyy}}{12} - \\frac{u_{xxx} v_{y}}{3} - \\frac{u_{x} v_{yyy}}{3} + \\frac{u_{yyy} v_{x}}{3} + \\frac{u_{y} v_{xxx}}{3}$"
      ],
      "text/plain": [
       "p_{xxxx}/12 + p_{yyyy}/12 - u_{xxx}*v_{y}/3 - u_{x}*v_{yyy}/3 + u_{yyy}*v_{x}/3 + u_{y}*v_{xxx}/3"
      ]
     },
     "metadata": {},
     "output_type": "display_data"
    },
    {
     "name": "stdout",
     "output_type": "stream",
     "text": [
      "-------------------------\n"
     ]
    },
    {
     "data": {
      "text/latex": [
       "$\\displaystyle p_{xx} + p_{yy} - 2 u_{x} v_{y} + 2 u_{y} v_{x}$"
      ],
      "text/plain": [
       "p_{xx} + p_{yy} - 2*u_{x}*v_{y} + 2*u_{y}*v_{x}"
      ]
     },
     "metadata": {},
     "output_type": "display_data"
    },
    {
     "name": "stdout",
     "output_type": "stream",
     "text": [
      "tau =>\n"
     ]
    },
    {
     "data": {
      "text/latex": [
       "$\\displaystyle 0$"
      ],
      "text/plain": [
       "0"
      ]
     },
     "metadata": {},
     "output_type": "display_data"
    },
    {
     "name": "stdout",
     "output_type": "stream",
     "text": [
      "h^2 =>\n"
     ]
    },
    {
     "data": {
      "text/latex": [
       "$\\displaystyle \\frac{Re^{2} p_{x} v v_{x}}{2} + \\frac{Re^{2} p_{y} u u_{y}}{6} + \\frac{Re^{2} u^{2} u_{y} v_{x}}{6} + \\frac{Re^{2} u u_{y} v v_{y}}{6} + \\frac{Re^{2} u u_{y} v_{t}}{6} - \\frac{Re^{2} u v v_{x} v_{y}}{2} + \\frac{Re^{2} u_{t} v v_{x}}{2} + \\frac{Re^{2} u_{y} v^{2} v_{x}}{2} + \\frac{Re p_{xy} u_{y}}{6} + \\frac{Re p_{xy} v_{x}}{2} + \\frac{Re p_{x} v_{xy}}{3} + \\frac{Re p_{y} v_{yy}}{3} - \\frac{Re u u_{y} v_{yy}}{6} - \\frac{Re u v_{xy} v_{y}}{3} - \\frac{Re u v_{x} v_{yy}}{6} + \\frac{Re u_{ty} v_{x}}{2} + \\frac{Re u_{t} v_{xy}}{3} + \\frac{Re u_{y} v v_{xy}}{2} + \\frac{Re u_{y} v_{tx}}{6} + \\frac{Re v v_{xy} v_{x}}{2} + \\frac{Re v v_{yy} v_{y}}{3} + \\frac{Re v_{t} v_{yy}}{3} + \\frac{p_{yyyy}}{6} + \\frac{2 v_{xyy} v_{x}}{3} + \\frac{2 v_{yyy} v_{y}}{3}$"
      ],
      "text/plain": [
       "Re**2*p_{x}*v*v_{x}/2 + Re**2*p_{y}*u*u_{y}/6 + Re**2*u**2*u_{y}*v_{x}/6 + Re**2*u*u_{y}*v*v_{y}/6 + Re**2*u*u_{y}*v_{t}/6 - Re**2*u*v*v_{x}*v_{y}/2 + Re**2*u_{t}*v*v_{x}/2 + Re**2*u_{y}*v**2*v_{x}/2 + Re*p_{xy}*u_{y}/6 + Re*p_{xy}*v_{x}/2 + Re*p_{x}*v_{xy}/3 + Re*p_{y}*v_{yy}/3 - Re*u*u_{y}*v_{yy}/6 - Re*u*v_{xy}*v_{y}/3 - Re*u*v_{x}*v_{yy}/6 + Re*u_{ty}*v_{x}/2 + Re*u_{t}*v_{xy}/3 + Re*u_{y}*v*v_{xy}/2 + Re*u_{y}*v_{tx}/6 + Re*v*v_{xy}*v_{x}/2 + Re*v*v_{yy}*v_{y}/3 + Re*v_{t}*v_{yy}/3 + p_{yyyy}/6 + 2*v_{xyy}*v_{x}/3 + 2*v_{yyy}*v_{y}/3"
      ]
     },
     "metadata": {},
     "output_type": "display_data"
    },
    {
     "name": "stdout",
     "output_type": "stream",
     "text": [
      "p_{xx} + p_{yy} - 2 u_{x} v_{y} + 2 u_{y} v_{x}\n",
      "+\\tau\\big(\n",
      "0\n",
      "\\big)\n",
      "+h^2\\big(\n",
      "\\frac{Re^{2} p_{x} v v_{x}}{2} + \\frac{Re^{2} p_{y} u u_{y}}{6} + \\frac{Re^{2} u^{2} u_{y} v_{x}}{6} + \\frac{Re^{2} u u_{y} v v_{y}}{6} + \\frac{Re^{2} u u_{y} v_{t}}{6} - \\frac{Re^{2} u v v_{x} v_{y}}{2} + \\frac{Re^{2} u_{t} v v_{x}}{2} + \\frac{Re^{2} u_{y} v^{2} v_{x}}{2} + \\frac{Re p_{xy} u_{y}}{6} + \\frac{Re p_{xy} v_{x}}{2} + \\frac{Re p_{x} v_{xy}}{3} + \\frac{Re p_{y} v_{yy}}{3} - \\frac{Re u u_{y} v_{yy}}{6} - \\frac{Re u v_{xy} v_{y}}{3} - \\frac{Re u v_{x} v_{yy}}{6} + \\frac{Re u_{ty} v_{x}}{2} + \\frac{Re u_{t} v_{xy}}{3} + \\frac{Re u_{y} v v_{xy}}{2} + \\frac{Re u_{y} v_{tx}}{6} + \\frac{Re v v_{xy} v_{x}}{2} + \\frac{Re v v_{yy} v_{y}}{3} + \\frac{Re v_{t} v_{yy}}{3} + \\frac{p_{yyyy}}{6} + \\frac{2 v_{xyy} v_{x}}{3} + \\frac{2 v_{yyy} v_{y}}{3}\n",
      "\\big)\n"
     ]
    }
   ],
   "source": [
    "prn(F4);print(\"-\"*25)\n",
    "f4 = NF(F4, [u.diff(x), u.diff(y, 2), v.diff(x, 2), p.diff(x, 2)], [F1, F2, F3, F4], head=False)\n",
    "prn(f4)\n",
    "prnlatex(f4)"
   ]
  },
  {
   "cell_type": "code",
   "execution_count": 22,
   "metadata": {},
   "outputs": [
    {
     "data": {
      "text/latex": [
       "$\\displaystyle 0$"
      ],
      "text/plain": [
       "0"
      ]
     },
     "metadata": {},
     "output_type": "display_data"
    },
    {
     "name": "stdout",
     "output_type": "stream",
     "text": [
      "tau =>\n"
     ]
    },
    {
     "data": {
      "text/latex": [
       "$\\displaystyle 0$"
      ],
      "text/plain": [
       "0"
      ]
     },
     "metadata": {},
     "output_type": "display_data"
    },
    {
     "name": "stdout",
     "output_type": "stream",
     "text": [
      "h^2 =>\n"
     ]
    },
    {
     "data": {
      "text/latex": [
       "$\\displaystyle 0$"
      ],
      "text/plain": [
       "0"
      ]
     },
     "metadata": {},
     "output_type": "display_data"
    }
   ],
   "source": [
    "prn([f.subs(TD).doit().simplify() for f in f4])"
   ]
  },
  {
   "cell_type": "code",
   "execution_count": 23,
   "metadata": {},
   "outputs": [
    {
     "data": {
      "text/latex": [
       "$\\displaystyle 0$"
      ],
      "text/plain": [
       "0"
      ]
     },
     "metadata": {},
     "output_type": "display_data"
    },
    {
     "name": "stdout",
     "output_type": "stream",
     "text": [
      "tau =>\n"
     ]
    },
    {
     "data": {
      "text/latex": [
       "$\\displaystyle 0$"
      ],
      "text/plain": [
       "0"
      ]
     },
     "metadata": {},
     "output_type": "display_data"
    },
    {
     "name": "stdout",
     "output_type": "stream",
     "text": [
      "h^2 =>\n"
     ]
    },
    {
     "data": {
      "text/latex": [
       "$\\displaystyle \\frac{\\left(Re - \\sqrt{Re^{2} + 16 \\pi^{2}}\\right) \\left(- Re^{3} + Re^{2} \\sqrt{Re^{2} + 16 \\pi^{2}} - 16 \\pi^{2} Re + 8 \\pi^{2} \\sqrt{Re^{2} + 16 \\pi^{2}}\\right) e^{x \\left(Re - \\sqrt{Re^{2} + 16 \\pi^{2}}\\right)}}{12}$"
      ],
      "text/plain": [
       "(Re - sqrt(Re**2 + 16*pi**2))*(-Re**3 + Re**2*sqrt(Re**2 + 16*pi**2) - 16*pi**2*Re + 8*pi**2*sqrt(Re**2 + 16*pi**2))*exp(x*(Re - sqrt(Re**2 + 16*pi**2)))/12"
      ]
     },
     "metadata": {},
     "output_type": "display_data"
    }
   ],
   "source": [
    "prn([f.subs(KF).doit().simplify() for f in f4])"
   ]
  },
  {
   "cell_type": "code",
   "execution_count": 24,
   "metadata": {},
   "outputs": [
    {
     "data": {
      "text/latex": [
       "$\\displaystyle 0$"
      ],
      "text/plain": [
       "0"
      ]
     },
     "metadata": {},
     "output_type": "display_data"
    },
    {
     "name": "stdout",
     "output_type": "stream",
     "text": [
      "tau =>\n"
     ]
    },
    {
     "data": {
      "text/latex": [
       "$\\displaystyle 0$"
      ],
      "text/plain": [
       "0"
      ]
     },
     "metadata": {},
     "output_type": "display_data"
    },
    {
     "name": "stdout",
     "output_type": "stream",
     "text": [
      "h^2 =>\n"
     ]
    },
    {
     "data": {
      "text/latex": [
       "$\\displaystyle \\frac{Re^{2} p_{x} v v_{x}}{2} - \\frac{Re^{2} p_{y} u u_{y}}{2} - \\frac{Re^{2} u^{2} u_{y} v_{x}}{2} - \\frac{Re^{2} u u_{y} v v_{y}}{2} - \\frac{Re^{2} u u_{y} v_{t}}{2} - \\frac{Re^{2} u v v_{x} v_{y}}{2} + \\frac{Re^{2} u_{t} v v_{x}}{2} + \\frac{Re^{2} u_{y} v^{2} v_{x}}{2} - \\frac{Re p_{xy} u_{y}}{2} + \\frac{Re p_{xy} v_{x}}{2} + \\frac{3 Re p_{x} v_{xy}}{2} - \\frac{Re p_{yy} v_{y}}{2} + \\frac{Re p_{y} v_{yy}}{2} + \\frac{Re u u_{y} v_{yy}}{2} - 2 Re u v_{xy} v_{y} + \\frac{Re u_{ty} v_{x}}{2} + \\frac{3 Re u_{t} v_{xy}}{2} + Re u_{y} v v_{xy} - \\frac{Re u_{y} v_{tx}}{2} - \\frac{Re u_{y} v_{x} v_{y}}{2} + \\frac{Re v v_{xy} v_{x}}{2} - \\frac{Re v_{ty} v_{y}}{2} + \\frac{Re v_{t} v_{yy}}{2} - \\frac{Re v_{y}^{3}}{2} + \\frac{p_{yyyy}}{2} + \\frac{3 u_{y} v_{xyy}}{2} + \\frac{v_{xyy} v_{x}}{2} + v_{xy}^{2} + 2 v_{yyy} v_{y} + v_{yy}^{2}$"
      ],
      "text/plain": [
       "Re**2*p_{x}*v*v_{x}/2 - Re**2*p_{y}*u*u_{y}/2 - Re**2*u**2*u_{y}*v_{x}/2 - Re**2*u*u_{y}*v*v_{y}/2 - Re**2*u*u_{y}*v_{t}/2 - Re**2*u*v*v_{x}*v_{y}/2 + Re**2*u_{t}*v*v_{x}/2 + Re**2*u_{y}*v**2*v_{x}/2 - Re*p_{xy}*u_{y}/2 + Re*p_{xy}*v_{x}/2 + 3*Re*p_{x}*v_{xy}/2 - Re*p_{yy}*v_{y}/2 + Re*p_{y}*v_{yy}/2 + Re*u*u_{y}*v_{yy}/2 - 2*Re*u*v_{xy}*v_{y} + Re*u_{ty}*v_{x}/2 + 3*Re*u_{t}*v_{xy}/2 + Re*u_{y}*v*v_{xy} - Re*u_{y}*v_{tx}/2 - Re*u_{y}*v_{x}*v_{y}/2 + Re*v*v_{xy}*v_{x}/2 - Re*v_{ty}*v_{y}/2 + Re*v_{t}*v_{yy}/2 - Re*v_{y}**3/2 + p_{yyyy}/2 + 3*u_{y}*v_{xyy}/2 + v_{xyy}*v_{x}/2 + v_{xy}**2 + 2*v_{yyy}*v_{y} + v_{yy}**2"
      ]
     },
     "metadata": {},
     "output_type": "display_data"
    },
    {
     "name": "stdout",
     "output_type": "stream",
     "text": [
      "0\n",
      "+\\tau\\big(\n",
      "0\n",
      "\\big)\n",
      "+h^2\\big(\n",
      "\\frac{Re^{2} p_{x} v v_{x}}{2} - \\frac{Re^{2} p_{y} u u_{y}}{2} - \\frac{Re^{2} u^{2} u_{y} v_{x}}{2} - \\frac{Re^{2} u u_{y} v v_{y}}{2} - \\frac{Re^{2} u u_{y} v_{t}}{2} - \\frac{Re^{2} u v v_{x} v_{y}}{2} + \\frac{Re^{2} u_{t} v v_{x}}{2} + \\frac{Re^{2} u_{y} v^{2} v_{x}}{2} - \\frac{Re p_{xy} u_{y}}{2} + \\frac{Re p_{xy} v_{x}}{2} + \\frac{3 Re p_{x} v_{xy}}{2} - \\frac{Re p_{yy} v_{y}}{2} + \\frac{Re p_{y} v_{yy}}{2} + \\frac{Re u u_{y} v_{yy}}{2} - 2 Re u v_{xy} v_{y} + \\frac{Re u_{ty} v_{x}}{2} + \\frac{3 Re u_{t} v_{xy}}{2} + Re u_{y} v v_{xy} - \\frac{Re u_{y} v_{tx}}{2} - \\frac{Re u_{y} v_{x} v_{y}}{2} + \\frac{Re v v_{xy} v_{x}}{2} - \\frac{Re v_{ty} v_{y}}{2} + \\frac{Re v_{t} v_{yy}}{2} - \\frac{Re v_{y}^{3}}{2} + \\frac{p_{yyyy}}{2} + \\frac{3 u_{y} v_{xyy}}{2} + \\frac{v_{xyy} v_{x}}{2} + v_{xy}^{2} + 2 v_{yyy} v_{y} + v_{yy}^{2}\n",
      "\\big)\n"
     ]
    }
   ],
   "source": [
    "spoly = [a.diff(x) + b.diff(y) for a, b in zip(F2, F3)]\n",
    "spoly = NF(spoly, [u.diff(x), u.diff(y, 2), v.diff(x, 2), p.diff(x, 2)], [F1, F2, F3, F4], head=True)\n",
    "prn(spoly)\n",
    "prnlatex(spoly)"
   ]
  },
  {
   "cell_type": "code",
   "execution_count": 25,
   "metadata": {},
   "outputs": [
    {
     "data": {
      "text/latex": [
       "$\\displaystyle 0$"
      ],
      "text/plain": [
       "0"
      ]
     },
     "metadata": {},
     "output_type": "display_data"
    },
    {
     "name": "stdout",
     "output_type": "stream",
     "text": [
      "tau =>\n"
     ]
    },
    {
     "data": {
      "text/latex": [
       "$\\displaystyle 0$"
      ],
      "text/plain": [
       "0"
      ]
     },
     "metadata": {},
     "output_type": "display_data"
    },
    {
     "name": "stdout",
     "output_type": "stream",
     "text": [
      "h^2 =>\n"
     ]
    },
    {
     "data": {
      "text/latex": [
       "$\\displaystyle \\left(\\sin^{2}{\\left(x \\right)} + \\sin^{2}{\\left(y \\right)} - 1\\right) e^{- \\frac{4 t}{Re}}$"
      ],
      "text/plain": [
       "(sin(x)**2 + sin(y)**2 - 1)*exp(-4*t/Re)"
      ]
     },
     "metadata": {},
     "output_type": "display_data"
    }
   ],
   "source": [
    "prn([f.subs(TD).doit().simplify() for f in spoly])"
   ]
  },
  {
   "cell_type": "code",
   "execution_count": 26,
   "metadata": {},
   "outputs": [
    {
     "data": {
      "text/latex": [
       "$\\displaystyle 0$"
      ],
      "text/plain": [
       "0"
      ]
     },
     "metadata": {},
     "output_type": "display_data"
    },
    {
     "name": "stdout",
     "output_type": "stream",
     "text": [
      "tau =>\n"
     ]
    },
    {
     "data": {
      "text/latex": [
       "$\\displaystyle 0$"
      ],
      "text/plain": [
       "0"
      ]
     },
     "metadata": {},
     "output_type": "display_data"
    },
    {
     "name": "stdout",
     "output_type": "stream",
     "text": [
      "h^2 =>\n"
     ]
    },
    {
     "data": {
      "text/latex": [
       "$\\displaystyle \\frac{\\left(Re - \\sqrt{Re^{2} + 16 \\pi^{2}}\\right) \\left(- Re^{3} + Re^{2} \\sqrt{Re^{2} + 16 \\pi^{2}} - 12 \\pi^{2} Re + 4 \\pi^{2} \\sqrt{Re^{2} + 16 \\pi^{2}}\\right) e^{x \\left(Re - \\sqrt{Re^{2} + 16 \\pi^{2}}\\right)}}{4}$"
      ],
      "text/plain": [
       "(Re - sqrt(Re**2 + 16*pi**2))*(-Re**3 + Re**2*sqrt(Re**2 + 16*pi**2) - 12*pi**2*Re + 4*pi**2*sqrt(Re**2 + 16*pi**2))*exp(x*(Re - sqrt(Re**2 + 16*pi**2)))/4"
      ]
     },
     "metadata": {},
     "output_type": "display_data"
    }
   ],
   "source": [
    "prn([f.subs(KF).doit().simplify() for f in spoly])"
   ]
  },
  {
   "cell_type": "code",
   "execution_count": 27,
   "metadata": {},
   "outputs": [
    {
     "data": {
      "text/latex": [
       "$\\displaystyle 0$"
      ],
      "text/plain": [
       "0"
      ]
     },
     "metadata": {},
     "output_type": "display_data"
    },
    {
     "name": "stdout",
     "output_type": "stream",
     "text": [
      "tau =>\n"
     ]
    },
    {
     "data": {
      "text/latex": [
       "$\\displaystyle 0$"
      ],
      "text/plain": [
       "0"
      ]
     },
     "metadata": {},
     "output_type": "display_data"
    },
    {
     "name": "stdout",
     "output_type": "stream",
     "text": [
      "h^2 =>\n"
     ]
    },
    {
     "data": {
      "text/latex": [
       "$\\displaystyle \\frac{Re^{2} p_{x} v v_{x}}{2} - \\frac{Re^{2} p_{y} u u_{y}}{2} - \\frac{Re^{2} u^{2} u_{y} v_{x}}{2} - \\frac{Re^{2} u u_{y} v v_{y}}{2} - \\frac{Re^{2} u u_{y} v_{t}}{2} - \\frac{Re^{2} u v v_{x} v_{y}}{2} + \\frac{Re^{2} u_{t} v v_{x}}{2} + \\frac{Re^{2} u_{y} v^{2} v_{x}}{2} - \\frac{Re p_{xy} u_{y}}{2} + \\frac{Re p_{xy} v_{x}}{2} + \\frac{3 Re p_{x} v_{xy}}{2} - \\frac{Re p_{yy} v_{y}}{2} + \\frac{Re p_{y} v_{yy}}{2} + \\frac{Re u u_{y} v_{yy}}{2} - 2 Re u v_{xy} v_{y} + \\frac{Re u_{ty} v_{x}}{2} + \\frac{3 Re u_{t} v_{xy}}{2} + Re u_{y} v v_{xy} - \\frac{Re u_{y} v_{tx}}{2} - \\frac{Re u_{y} v_{x} v_{y}}{2} + \\frac{Re v v_{xy} v_{x}}{2} - \\frac{Re v_{ty} v_{y}}{2} + \\frac{Re v_{t} v_{yy}}{2} - \\frac{Re v_{y}^{3}}{2} + \\frac{p_{yyyy}}{2} + \\frac{3 u_{y} v_{xyy}}{2} + \\frac{v_{xyy} v_{x}}{2} + v_{xy}^{2} + 2 v_{yyy} v_{y} + v_{yy}^{2}$"
      ],
      "text/plain": [
       "Re**2*p_{x}*v*v_{x}/2 - Re**2*p_{y}*u*u_{y}/2 - Re**2*u**2*u_{y}*v_{x}/2 - Re**2*u*u_{y}*v*v_{y}/2 - Re**2*u*u_{y}*v_{t}/2 - Re**2*u*v*v_{x}*v_{y}/2 + Re**2*u_{t}*v*v_{x}/2 + Re**2*u_{y}*v**2*v_{x}/2 - Re*p_{xy}*u_{y}/2 + Re*p_{xy}*v_{x}/2 + 3*Re*p_{x}*v_{xy}/2 - Re*p_{yy}*v_{y}/2 + Re*p_{y}*v_{yy}/2 + Re*u*u_{y}*v_{yy}/2 - 2*Re*u*v_{xy}*v_{y} + Re*u_{ty}*v_{x}/2 + 3*Re*u_{t}*v_{xy}/2 + Re*u_{y}*v*v_{xy} - Re*u_{y}*v_{tx}/2 - Re*u_{y}*v_{x}*v_{y}/2 + Re*v*v_{xy}*v_{x}/2 - Re*v_{ty}*v_{y}/2 + Re*v_{t}*v_{yy}/2 - Re*v_{y}**3/2 + p_{yyyy}/2 + 3*u_{y}*v_{xyy}/2 + v_{xyy}*v_{x}/2 + v_{xy}**2 + 2*v_{yyy}*v_{y} + v_{yy}**2"
      ]
     },
     "metadata": {},
     "output_type": "display_data"
    },
    {
     "name": "stdout",
     "output_type": "stream",
     "text": [
      "0\n",
      "+\\tau\\big(\n",
      "0\n",
      "\\big)\n",
      "+h^2\\big(\n",
      "\\frac{Re^{2} p_{x} v v_{x}}{2} - \\frac{Re^{2} p_{y} u u_{y}}{2} - \\frac{Re^{2} u^{2} u_{y} v_{x}}{2} - \\frac{Re^{2} u u_{y} v v_{y}}{2} - \\frac{Re^{2} u u_{y} v_{t}}{2} - \\frac{Re^{2} u v v_{x} v_{y}}{2} + \\frac{Re^{2} u_{t} v v_{x}}{2} + \\frac{Re^{2} u_{y} v^{2} v_{x}}{2} - \\frac{Re p_{xy} u_{y}}{2} + \\frac{Re p_{xy} v_{x}}{2} + \\frac{3 Re p_{x} v_{xy}}{2} - \\frac{Re p_{yy} v_{y}}{2} + \\frac{Re p_{y} v_{yy}}{2} + \\frac{Re u u_{y} v_{yy}}{2} - 2 Re u v_{xy} v_{y} + \\frac{Re u_{ty} v_{x}}{2} + \\frac{3 Re u_{t} v_{xy}}{2} + Re u_{y} v v_{xy} - \\frac{Re u_{y} v_{tx}}{2} - \\frac{Re u_{y} v_{x} v_{y}}{2} + \\frac{Re v v_{xy} v_{x}}{2} - \\frac{Re v_{ty} v_{y}}{2} + \\frac{Re v_{t} v_{yy}}{2} - \\frac{Re v_{y}^{3}}{2} + \\frac{p_{yyyy}}{2} + \\frac{3 u_{y} v_{xyy}}{2} + \\frac{v_{xyy} v_{x}}{2} + v_{xy}^{2} + 2 v_{yyy} v_{y} + v_{yy}^{2}\n",
      "\\big)\n"
     ]
    }
   ],
   "source": [
    "spoly = [a.diff(x) + b.diff(y) for a, b in zip(f2, f3)]\n",
    "spoly = NF(spoly, [u.diff(x), u.diff(y, 2), v.diff(x, 2), p.diff(x, 2)], [f1, f2, f3, f4], head=True)\n",
    "prn(spoly)\n",
    "prnlatex(spoly)"
   ]
  },
  {
   "cell_type": "code",
   "execution_count": 28,
   "metadata": {},
   "outputs": [
    {
     "data": {
      "text/latex": [
       "$\\displaystyle 0$"
      ],
      "text/plain": [
       "0"
      ]
     },
     "metadata": {},
     "output_type": "display_data"
    },
    {
     "name": "stdout",
     "output_type": "stream",
     "text": [
      "tau =>\n"
     ]
    },
    {
     "data": {
      "text/latex": [
       "$\\displaystyle - \\frac{u_{ttx}}{2} - \\frac{v_{tty}}{2}$"
      ],
      "text/plain": [
       "-u_{ttx}/2 - v_{tty}/2"
      ]
     },
     "metadata": {},
     "output_type": "display_data"
    },
    {
     "name": "stdout",
     "output_type": "stream",
     "text": [
      "h^2 =>\n"
     ]
    },
    {
     "data": {
      "text/latex": [
       "$\\displaystyle - \\frac{p_{xxxx}}{12} - \\frac{p_{yyyy}}{12} - \\frac{u v_{xxxy}}{6} + \\frac{u v_{xyyy}}{6} + \\frac{u_{txxx}}{6} + \\frac{u_{xxxy} v}{6} - \\frac{u_{xxx} v_{y}}{6} - \\frac{u_{xyyy} v}{6} - \\frac{u_{x} v_{yyy}}{6} + \\frac{u_{yyy} v_{x}}{6} + \\frac{u_{y} v_{xxx}}{6} + \\frac{v_{tyyy}}{6} - \\frac{u_{xxxxx}}{6 Re} - \\frac{u_{xxxyy}}{6 Re} - \\frac{v_{xxyyy}}{6 Re} - \\frac{v_{yyyyy}}{6 Re}$"
      ],
      "text/plain": [
       "-p_{xxxx}/12 - p_{yyyy}/12 - u*v_{xxxy}/6 + u*v_{xyyy}/6 + u_{txxx}/6 + u_{xxxy}*v/6 - u_{xxx}*v_{y}/6 - u_{xyyy}*v/6 - u_{x}*v_{yyy}/6 + u_{yyy}*v_{x}/6 + u_{y}*v_{xxx}/6 + v_{tyyy}/6 - u_{xxxxx}/(6*Re) - u_{xxxyy}/(6*Re) - v_{xxyyy}/(6*Re) - v_{yyyyy}/(6*Re)"
      ]
     },
     "metadata": {},
     "output_type": "display_data"
    }
   ],
   "source": [
    "F1 = Dx(u) + Dy(v)\n",
    "F2 = Dt(u) + u*Dx(u) + v*Dy(u) + Dx(p) - DD(u)/Re\n",
    "F3 = Dt(v) + u*Dx(v) + v*Dy(v) + Dy(p) - DD(v)/Re\n",
    "F4 = DD(p) - 2*Dx(u)*Dy(v) + 2*Dx(v)*Dy(u)\n",
    "\n",
    "s = clip(F1.diff(t) - F2.diff(x) - F3.diff(y) +\\\n",
    "         F4 + (u*F1).diff(x) + (v*F1).diff(y) - DD(F1)/Re)\n",
    "prn(s)\n"
   ]
  },
  {
   "cell_type": "code",
   "execution_count": 29,
   "metadata": {},
   "outputs": [
    {
     "data": {
      "text/latex": [
       "$\\displaystyle 0$"
      ],
      "text/plain": [
       "0"
      ]
     },
     "metadata": {},
     "output_type": "display_data"
    },
    {
     "name": "stdout",
     "output_type": "stream",
     "text": [
      "tau =>\n"
     ]
    },
    {
     "data": {
      "text/latex": [
       "$\\displaystyle 0$"
      ],
      "text/plain": [
       "0"
      ]
     },
     "metadata": {},
     "output_type": "display_data"
    },
    {
     "name": "stdout",
     "output_type": "stream",
     "text": [
      "h^2 =>\n"
     ]
    },
    {
     "data": {
      "text/latex": [
       "$\\displaystyle - \\frac{Re^{2} p_{x} v v_{x}}{2} + \\frac{Re^{2} p_{y} u u_{y}}{2} + \\frac{Re^{2} u^{2} u_{y} v_{x}}{2} + \\frac{Re^{2} u u_{y} v v_{y}}{2} + \\frac{Re^{2} u u_{y} v_{t}}{2} + \\frac{Re^{2} u v v_{x} v_{y}}{2} - \\frac{Re^{2} u_{t} v v_{x}}{2} - \\frac{Re^{2} u_{y} v^{2} v_{x}}{2} + \\frac{Re p_{xy} u_{y}}{2} - \\frac{Re p_{xy} v_{x}}{2} - \\frac{3 Re p_{x} v_{xy}}{2} + \\frac{Re p_{yy} v_{y}}{2} - \\frac{Re p_{y} v_{yy}}{2} - \\frac{Re u u_{y} v_{yy}}{2} + 2 Re u v_{xy} v_{y} - \\frac{Re u_{ty} v_{x}}{2} - \\frac{3 Re u_{t} v_{xy}}{2} - Re u_{y} v v_{xy} + \\frac{Re u_{y} v_{tx}}{2} + \\frac{Re u_{y} v_{x} v_{y}}{2} - \\frac{Re v v_{xy} v_{x}}{2} + \\frac{Re v_{ty} v_{y}}{2} - \\frac{Re v_{t} v_{yy}}{2} + \\frac{Re v_{y}^{3}}{2} - \\frac{p_{yyyy}}{2} - \\frac{3 u_{y} v_{xyy}}{2} - \\frac{v_{xyy} v_{x}}{2} - v_{xy}^{2} - 2 v_{yyy} v_{y} - v_{yy}^{2}$"
      ],
      "text/plain": [
       "-Re**2*p_{x}*v*v_{x}/2 + Re**2*p_{y}*u*u_{y}/2 + Re**2*u**2*u_{y}*v_{x}/2 + Re**2*u*u_{y}*v*v_{y}/2 + Re**2*u*u_{y}*v_{t}/2 + Re**2*u*v*v_{x}*v_{y}/2 - Re**2*u_{t}*v*v_{x}/2 - Re**2*u_{y}*v**2*v_{x}/2 + Re*p_{xy}*u_{y}/2 - Re*p_{xy}*v_{x}/2 - 3*Re*p_{x}*v_{xy}/2 + Re*p_{yy}*v_{y}/2 - Re*p_{y}*v_{yy}/2 - Re*u*u_{y}*v_{yy}/2 + 2*Re*u*v_{xy}*v_{y} - Re*u_{ty}*v_{x}/2 - 3*Re*u_{t}*v_{xy}/2 - Re*u_{y}*v*v_{xy} + Re*u_{y}*v_{tx}/2 + Re*u_{y}*v_{x}*v_{y}/2 - Re*v*v_{xy}*v_{x}/2 + Re*v_{ty}*v_{y}/2 - Re*v_{t}*v_{yy}/2 + Re*v_{y}**3/2 - p_{yyyy}/2 - 3*u_{y}*v_{xyy}/2 - v_{xyy}*v_{x}/2 - v_{xy}**2 - 2*v_{yyy}*v_{y} - v_{yy}**2"
      ]
     },
     "metadata": {},
     "output_type": "display_data"
    },
    {
     "name": "stdout",
     "output_type": "stream",
     "text": [
      "0\n",
      "+\\tau\\big(\n",
      "0\n",
      "\\big)\n",
      "+h^2\\big(\n",
      "- \\frac{Re^{2} p_{x} v v_{x}}{2} + \\frac{Re^{2} p_{y} u u_{y}}{2} + \\frac{Re^{2} u^{2} u_{y} v_{x}}{2} + \\frac{Re^{2} u u_{y} v v_{y}}{2} + \\frac{Re^{2} u u_{y} v_{t}}{2} + \\frac{Re^{2} u v v_{x} v_{y}}{2} - \\frac{Re^{2} u_{t} v v_{x}}{2} - \\frac{Re^{2} u_{y} v^{2} v_{x}}{2} + \\frac{Re p_{xy} u_{y}}{2} - \\frac{Re p_{xy} v_{x}}{2} - \\frac{3 Re p_{x} v_{xy}}{2} + \\frac{Re p_{yy} v_{y}}{2} - \\frac{Re p_{y} v_{yy}}{2} - \\frac{Re u u_{y} v_{yy}}{2} + 2 Re u v_{xy} v_{y} - \\frac{Re u_{ty} v_{x}}{2} - \\frac{3 Re u_{t} v_{xy}}{2} - Re u_{y} v v_{xy} + \\frac{Re u_{y} v_{tx}}{2} + \\frac{Re u_{y} v_{x} v_{y}}{2} - \\frac{Re v v_{xy} v_{x}}{2} + \\frac{Re v_{ty} v_{y}}{2} - \\frac{Re v_{t} v_{yy}}{2} + \\frac{Re v_{y}^{3}}{2} - \\frac{p_{yyyy}}{2} - \\frac{3 u_{y} v_{xyy}}{2} - \\frac{v_{xyy} v_{x}}{2} - v_{xy}^{2} - 2 v_{yyy} v_{y} - v_{yy}^{2}\n",
      "\\big)\n"
     ]
    }
   ],
   "source": [
    "s = NF(s, [u.diff(x), u.diff(y, 2), v.diff(x, 2), p.diff(x, 2)], [f1, f2, f3, f4], head=True)\n",
    "prn(s)\n",
    "prnlatex(s)"
   ]
  },
  {
   "cell_type": "code",
   "execution_count": 30,
   "metadata": {},
   "outputs": [],
   "source": [
    "n, j, k = symbols(r'n, j, k', real=True)\n",
    "U, V, P = (f(n, j, k) for f in symbols('u, v, p', cls=Function))"
   ]
  },
  {
   "cell_type": "code",
   "execution_count": 31,
   "metadata": {},
   "outputs": [],
   "source": [
    "def St(a):\n",
    "    return (a.subs({n:n+1}) - a)/(tau)\n",
    "def Sx(a):\n",
    "    return (a.subs({j:j+1}) - a.subs({j:j-1}))/(2*h)\n",
    "def Sy(a):\n",
    "    return (a.subs({k:k+1}) - a.subs({k:k-1}))/(2*h)\n",
    "\n",
    "def SS(a):\n",
    "    return (a.subs({j:j+1}) + a.subs({j:j-1}) +\\\n",
    "                -4*a +\\\n",
    "           a.subs({k:k+1}) - a.subs({k:k-1}))/h**2"
   ]
  },
  {
   "cell_type": "code",
   "execution_count": 32,
   "metadata": {},
   "outputs": [],
   "source": [
    "S1 = Sx(U) + Sy(V)\n",
    "S2 = St(U) + U*Sx(U) + V*Sy(U) + Sx(P) - SS(U)/Re\n",
    "S3 = St(V) + U*Sx(V) + V*Sy(V) + Sy(P) - SS(V)/Re\n",
    "S4 = SS(P) - 2*Sx(U)*Sy(V) + 2*Sx(V)*Sy(V)\n",
    "\n",
    "s = St(S1) - Sx(S2) - Sy(S3)  - SS(S1)/Re"
   ]
  },
  {
   "cell_type": "code",
   "execution_count": 33,
   "metadata": {},
   "outputs": [
    {
     "data": {
      "text/latex": [
       "$\\displaystyle 0$"
      ],
      "text/plain": [
       "0"
      ]
     },
     "execution_count": 33,
     "metadata": {},
     "output_type": "execute_result"
    }
   ],
   "source": [
    "simplify(s + Sx(Sx(P)) + Sy(Sy(P)) + Sx(V*Sy(U)) + Sy(U*Sx(V))\\\n",
    "                                   + Sx(U*Sx(U)) + Sy(V*Sy(V)))"
   ]
  },
  {
   "cell_type": "code",
   "execution_count": 34,
   "metadata": {},
   "outputs": [
    {
     "data": {
      "text/latex": [
       "$\\displaystyle \\frac{- \\left(u{\\left(n,j,k \\right)} - u{\\left(n,j - 2,k \\right)}\\right) u{\\left(n,j - 1,k \\right)} - \\left(u{\\left(n,j,k \\right)} - u{\\left(n,j + 2,k \\right)}\\right) u{\\left(n,j + 1,k \\right)} - 2 \\left(u{\\left(n,j - 1,k \\right)} - u{\\left(n,j + 1,k \\right)}\\right) \\left(v{\\left(n,j,k - 1 \\right)} - v{\\left(n,j,k + 1 \\right)}\\right) + \\left(u{\\left(n,j - 1,k - 1 \\right)} - u{\\left(n,j - 1,k + 1 \\right)}\\right) v{\\left(n,j - 1,k \\right)} - \\left(u{\\left(n,j + 1,k - 1 \\right)} - u{\\left(n,j + 1,k + 1 \\right)}\\right) v{\\left(n,j + 1,k \\right)} - \\left(v{\\left(n,j,k \\right)} - v{\\left(n,j,k - 2 \\right)}\\right) v{\\left(n,j,k - 1 \\right)} - \\left(v{\\left(n,j,k \\right)} - v{\\left(n,j,k + 2 \\right)}\\right) v{\\left(n,j,k + 1 \\right)} + 2 \\left(v{\\left(n,j,k - 1 \\right)} - v{\\left(n,j,k + 1 \\right)}\\right) \\left(v{\\left(n,j - 1,k \\right)} - v{\\left(n,j + 1,k \\right)}\\right) + \\left(v{\\left(n,j - 1,k - 1 \\right)} - v{\\left(n,j + 1,k - 1 \\right)}\\right) u{\\left(n,j,k - 1 \\right)} - \\left(v{\\left(n,j - 1,k + 1 \\right)} - v{\\left(n,j + 1,k + 1 \\right)}\\right) u{\\left(n,j,k + 1 \\right)} - 16 p{\\left(n,j,k \\right)} + p{\\left(n,j,k - 2 \\right)} - 4 p{\\left(n,j,k - 1 \\right)} + 4 p{\\left(n,j,k + 1 \\right)} + p{\\left(n,j,k + 2 \\right)} - p{\\left(n,j - 2,k \\right)} + 4 p{\\left(n,j - 1,k \\right)} + 4 p{\\left(n,j + 1,k \\right)} - p{\\left(n,j + 2,k \\right)}}{4 h^{2}}$"
      ],
      "text/plain": [
       "(-(u(n, j, k) - u(n, j - 2, k))*u(n, j - 1, k) - (u(n, j, k) - u(n, j + 2, k))*u(n, j + 1, k) - 2*(u(n, j - 1, k) - u(n, j + 1, k))*(v(n, j, k - 1) - v(n, j, k + 1)) + (u(n, j - 1, k - 1) - u(n, j - 1, k + 1))*v(n, j - 1, k) - (u(n, j + 1, k - 1) - u(n, j + 1, k + 1))*v(n, j + 1, k) - (v(n, j, k) - v(n, j, k - 2))*v(n, j, k - 1) - (v(n, j, k) - v(n, j, k + 2))*v(n, j, k + 1) + 2*(v(n, j, k - 1) - v(n, j, k + 1))*(v(n, j - 1, k) - v(n, j + 1, k)) + (v(n, j - 1, k - 1) - v(n, j + 1, k - 1))*u(n, j, k - 1) - (v(n, j - 1, k + 1) - v(n, j + 1, k + 1))*u(n, j, k + 1) - 16*p(n, j, k) + p(n, j, k - 2) - 4*p(n, j, k - 1) + 4*p(n, j, k + 1) + p(n, j, k + 2) - p(n, j - 2, k) + 4*p(n, j - 1, k) + 4*p(n, j + 1, k) - p(n, j + 2, k))/(4*h**2)"
      ]
     },
     "execution_count": 34,
     "metadata": {},
     "output_type": "execute_result"
    }
   ],
   "source": [
    "simplify(S4 - Sx(Sx(P)) + Sy(Sy(P)) + Sx(V*Sy(U)) + Sy(U*Sx(V))\\\n",
    "                                   + Sx(U*Sx(U)) + Sy(V*Sy(V)))"
   ]
  },
  {
   "cell_type": "code",
   "execution_count": null,
   "metadata": {},
   "outputs": [],
   "source": []
  }
 ],
 "metadata": {
  "kernelspec": {
   "display_name": "Python 3",
   "language": "python",
   "name": "python3"
  },
  "language_info": {
   "codemirror_mode": {
    "name": "ipython",
    "version": 3
   },
   "file_extension": ".py",
   "mimetype": "text/x-python",
   "name": "python",
   "nbconvert_exporter": "python",
   "pygments_lexer": "ipython3",
   "version": "3.8.5"
  }
 },
 "nbformat": 4,
 "nbformat_minor": 4
}
