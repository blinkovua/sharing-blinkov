{
 "cells": [
  {
   "cell_type": "code",
   "execution_count": 1,
   "id": "9f78c78b",
   "metadata": {},
   "outputs": [],
   "source": [
    "%run Runge_Adams_FDA.ipynb"
   ]
  },
  {
   "cell_type": "code",
   "execution_count": 2,
   "id": "40084236",
   "metadata": {},
   "outputs": [],
   "source": [
    "eps, t, h = symbols(r'\\varepsilon, t, h', real=True)\n",
    "u, u1 = symbols('u, u1', cls=Function)"
   ]
  },
  {
   "cell_type": "code",
   "execution_count": 3,
   "id": "a8743483",
   "metadata": {},
   "outputs": [
    {
     "data": {
      "text/latex": [
       "$\\displaystyle \\varepsilon u^{3}{\\left(t \\right)} + u{\\left(t \\right)} + \\frac{d^{2}}{d t^{2}} u{\\left(t \\right)}$"
      ],
      "text/plain": [
       "\\varepsilon*u(t)**3 + u(t) + Derivative(u(t), (t, 2))"
      ]
     },
     "execution_count": 3,
     "metadata": {},
     "output_type": "execute_result"
    }
   ],
   "source": [
    "eq = u(t).diff(t, 2)  + u(t) + eps*u(t)**3\n",
    "eq"
   ]
  },
  {
   "cell_type": "markdown",
   "id": "15d41139",
   "metadata": {},
   "source": [
    "## Nayfeh A. H. Introduction to Perturbation Techniques, Wiley-VCH, 1st edition, 1993. 536 p."
   ]
  },
  {
   "cell_type": "code",
   "execution_count": 4,
   "id": "db509128",
   "metadata": {},
   "outputs": [],
   "source": [
    "eq1 = (u(t).diff(t)**2/2 + u(t)**2/2 + eps*u(t)**4/4) - h"
   ]
  },
  {
   "cell_type": "code",
   "execution_count": 5,
   "id": "f9544a40",
   "metadata": {},
   "outputs": [
    {
     "data": {
      "text/latex": [
       "$\\displaystyle \\varepsilon u^{3}{\\left(t \\right)} \\frac{d}{d t} u{\\left(t \\right)} - \\varepsilon u^{3}{\\left(t \\right)} + u{\\left(t \\right)} \\frac{d}{d t} u{\\left(t \\right)} - u{\\left(t \\right)} + \\frac{d}{d t} u{\\left(t \\right)} \\frac{d^{2}}{d t^{2}} u{\\left(t \\right)} - \\frac{d^{2}}{d t^{2}} u{\\left(t \\right)}$"
      ],
      "text/plain": [
       "\\varepsilon*u(t)**3*Derivative(u(t), t) - \\varepsilon*u(t)**3 + u(t)*Derivative(u(t), t) - u(t) + Derivative(u(t), t)*Derivative(u(t), (t, 2)) - Derivative(u(t), (t, 2))"
      ]
     },
     "execution_count": 5,
     "metadata": {},
     "output_type": "execute_result"
    }
   ],
   "source": [
    "expand(eq1.diff(t) - eq*u.diff(t))"
   ]
  },
  {
   "cell_type": "code",
   "execution_count": 6,
   "id": "1041cabe",
   "metadata": {},
   "outputs": [],
   "source": [
    "init((u(t), u1(t)), t, h)\n",
    "set_clip(8, 7, Rational(0, 1))"
   ]
  },
  {
   "cell_type": "code",
   "execution_count": 7,
   "id": "41dd0268",
   "metadata": {},
   "outputs": [
    {
     "data": {
      "text/latex": [
       "$\\displaystyle \\frac{h^{6} \\frac{d^{7}}{d t^{7}} u{\\left(t \\right)}}{5040} + \\frac{h^{4} \\frac{d^{5}}{d t^{5}} u{\\left(t \\right)}}{120} + \\frac{h^{2} \\frac{d^{3}}{d t^{3}} u{\\left(t \\right)}}{6} + \\frac{d}{d t} u{\\left(t \\right)}$"
      ],
      "text/plain": [
       "h**6*Derivative(u(t), (t, 7))/5040 + h**4*Derivative(u(t), (t, 5))/120 + h**2*Derivative(u(t), (t, 3))/6 + Derivative(u(t), t)"
      ]
     },
     "execution_count": 7,
     "metadata": {},
     "output_type": "execute_result"
    }
   ],
   "source": [
    "expand((T(u(t+h))-T(u(t-h)))/(2*h))"
   ]
  },
  {
   "cell_type": "code",
   "execution_count": 8,
   "id": "7ba99bb0",
   "metadata": {},
   "outputs": [],
   "source": [
    "def g(y):\n",
    "    return Matrix([\\\n",
    "        y[1],\\\n",
    "        -y[0] - eps*y[0]**3,\\\n",
    "    ])\n",
    "\n",
    "def f(y):\n",
    "    return Matrix([\\\n",
    "        clip_n(y[1]),\\\n",
    "        clip_n(-y[0] - eps*y[0]**3),\\\n",
    "    ])\n",
    "    \n",
    "s = (('u(t)', 'y[0]'), ('u1(t)', 'y[1]'), (r'\\varepsilon', 'eps'))\n",
    "def replace(r):\n",
    "    for a, b in s:\n",
    "        r = r.replace(a, b)\n",
    "    return r"
   ]
  },
  {
   "cell_type": "code",
   "execution_count": 9,
   "id": "f7eaf441",
   "metadata": {},
   "outputs": [],
   "source": [
    "start = time.time()"
   ]
  },
  {
   "cell_type": "markdown",
   "id": "3493ee4b",
   "metadata": {},
   "source": [
    "## Gauss–Legendre method"
   ]
  },
  {
   "cell_type": "code",
   "execution_count": 10,
   "id": "b901bdc4",
   "metadata": {},
   "outputs": [],
   "source": [
    "set_clip(5, 4, Rational(0, 1))\n",
    "r = GaussLegendre2(f, Matrix([u(t), u1(t)]))"
   ]
  },
  {
   "cell_type": "code",
   "execution_count": 11,
   "id": "a3d52e59",
   "metadata": {},
   "outputs": [
    {
     "name": "stdout",
     "output_type": "stream",
     "text": [
      "h^0 =>\n"
     ]
    },
    {
     "data": {
      "text/latex": [
       "$\\displaystyle - u_{1} + u_{t}$"
      ],
      "text/plain": [
       "-u1 + u_{t}"
      ]
     },
     "metadata": {},
     "output_type": "display_data"
    },
    {
     "name": "stdout",
     "output_type": "stream",
     "text": [
      "h^1 =>\n"
     ]
    },
    {
     "data": {
      "text/latex": [
       "$\\displaystyle \\frac{u_{tt}}{2}$"
      ],
      "text/plain": [
       "u_{tt}/2"
      ]
     },
     "metadata": {},
     "output_type": "display_data"
    },
    {
     "name": "stdout",
     "output_type": "stream",
     "text": [
      "h^2 =>\n"
     ]
    },
    {
     "data": {
      "text/latex": [
       "$\\displaystyle \\frac{u_{ttt}}{6}$"
      ],
      "text/plain": [
       "u_{ttt}/6"
      ]
     },
     "metadata": {},
     "output_type": "display_data"
    },
    {
     "name": "stdout",
     "output_type": "stream",
     "text": [
      "h^3 =>\n"
     ]
    },
    {
     "data": {
      "text/latex": [
       "$\\displaystyle \\frac{u_{tttt}}{24}$"
      ],
      "text/plain": [
       "u_{tttt}/24"
      ]
     },
     "metadata": {},
     "output_type": "display_data"
    },
    {
     "name": "stdout",
     "output_type": "stream",
     "text": [
      "- u_{1} + u_{t}\n",
      "+h\\left(\n",
      "\\frac{u_{tt}}{2}\n",
      "\\right)\n",
      "+h^2\\left(\n",
      "\\frac{u_{ttt}}{6}\n",
      "\\right)\n",
      "+h^3\\left(\n",
      "\\frac{u_{tttt}}{24}\n",
      "\\right)\n"
     ]
    }
   ],
   "source": [
    "F1 = clip((T(u(t+h))-T(u(t)))/h - T(r[0]))\n",
    "prn(F1, eps)\n",
    "prnlatex(F1, eps)"
   ]
  },
  {
   "cell_type": "code",
   "execution_count": 12,
   "id": "2270f553",
   "metadata": {},
   "outputs": [
    {
     "name": "stdout",
     "output_type": "stream",
     "text": [
      "h^0 =>\n"
     ]
    },
    {
     "data": {
      "text/latex": [
       "$\\displaystyle \\varepsilon u^{3} + u + u1_{t}$"
      ],
      "text/plain": [
       "\\varepsilon*u**3 + u + u1_{t}"
      ]
     },
     "metadata": {},
     "output_type": "display_data"
    },
    {
     "name": "stdout",
     "output_type": "stream",
     "text": [
      "h^1 =>\n"
     ]
    },
    {
     "data": {
      "text/latex": [
       "$\\displaystyle \\frac{u1_{tt}}{2}$"
      ],
      "text/plain": [
       "u1_{tt}/2"
      ]
     },
     "metadata": {},
     "output_type": "display_data"
    },
    {
     "name": "stdout",
     "output_type": "stream",
     "text": [
      "h^2 =>\n"
     ]
    },
    {
     "data": {
      "text/latex": [
       "$\\displaystyle \\frac{u1_{ttt}}{6}$"
      ],
      "text/plain": [
       "u1_{ttt}/6"
      ]
     },
     "metadata": {},
     "output_type": "display_data"
    },
    {
     "name": "stdout",
     "output_type": "stream",
     "text": [
      "h^3 =>\n"
     ]
    },
    {
     "data": {
      "text/latex": [
       "$\\displaystyle \\frac{u1_{tttt}}{24}$"
      ],
      "text/plain": [
       "u1_{tttt}/24"
      ]
     },
     "metadata": {},
     "output_type": "display_data"
    },
    {
     "name": "stdout",
     "output_type": "stream",
     "text": [
      "\\varepsilon u^{3} + u + u1_{t}\n",
      "+h\\left(\n",
      "\\frac{u1_{tt}}{2}\n",
      "\\right)\n",
      "+h^2\\left(\n",
      "\\frac{u1_{ttt}}{6}\n",
      "\\right)\n",
      "+h^3\\left(\n",
      "\\frac{u1_{tttt}}{24}\n",
      "\\right)\n"
     ]
    }
   ],
   "source": [
    "F2 = clip((T(u1(t+h))-T(u1(t)))/h - T(r[1]))\n",
    "prn(F2, eps)\n",
    "prnlatex(F2, eps)"
   ]
  },
  {
   "cell_type": "code",
   "execution_count": 13,
   "id": "4494d1aa",
   "metadata": {},
   "outputs": [
    {
     "name": "stdout",
     "output_type": "stream",
     "text": [
      "h^0 =>\n"
     ]
    },
    {
     "data": {
      "text/latex": [
       "$\\displaystyle - u_{1} + u_{t}$"
      ],
      "text/plain": [
       "-u1 + u_{t}"
      ]
     },
     "metadata": {},
     "output_type": "display_data"
    },
    {
     "name": "stdout",
     "output_type": "stream",
     "text": [
      "h^1 =>\n"
     ]
    },
    {
     "data": {
      "text/latex": [
       "$\\displaystyle - \\frac{\\varepsilon u^{3}}{2} - \\frac{u}{2}$"
      ],
      "text/plain": [
       "-\\varepsilon*u**3/2 - u/2"
      ]
     },
     "metadata": {},
     "output_type": "display_data"
    },
    {
     "name": "stdout",
     "output_type": "stream",
     "text": [
      "h^2 =>\n"
     ]
    },
    {
     "data": {
      "text/latex": [
       "$\\displaystyle \\varepsilon u^{2} u_{1} + \\frac{u_{1}}{3}$"
      ],
      "text/plain": [
       "\\varepsilon*u**2*u1 + u1/3"
      ]
     },
     "metadata": {},
     "output_type": "display_data"
    },
    {
     "name": "stdout",
     "output_type": "stream",
     "text": [
      "h^3 =>\n"
     ]
    },
    {
     "data": {
      "text/latex": [
       "$\\displaystyle \\frac{3 \\varepsilon^{2} u^{5}}{4} + \\frac{\\varepsilon u \\left(2 u^{2} - u_{1}^{2}\\right)}{2} + \\frac{u}{4}$"
      ],
      "text/plain": [
       "3*\\varepsilon**2*u**5/4 + \\varepsilon*u*(2*u**2 - u1**2)/2 + u/4"
      ]
     },
     "metadata": {},
     "output_type": "display_data"
    },
    {
     "name": "stdout",
     "output_type": "stream",
     "text": [
      "- u_{1} + u_{t}\n",
      "+h\\left(\n",
      "- \\frac{\\varepsilon u^{3}}{2} - \\frac{u}{2}\n",
      "\\right)\n",
      "+h^2\\left(\n",
      "\\varepsilon u^{2} u_{1} + \\frac{u_{1}}{3}\n",
      "\\right)\n",
      "+h^3\\left(\n",
      "\\frac{3 \\varepsilon^{2} u^{5}}{4} + \\frac{\\varepsilon u \\left(2 u^{2} - u_{1}^{2}\\right)}{2} + \\frac{u}{4}\n",
      "\\right)\n"
     ]
    }
   ],
   "source": [
    "f1 = NF(F1, [u(t).diff(t), u1(t).diff(t)], [F1, F2], head=False)\n",
    "prn(f1, eps)\n",
    "prnlatex(f1, eps)"
   ]
  },
  {
   "cell_type": "code",
   "execution_count": 14,
   "id": "c476d4d5",
   "metadata": {},
   "outputs": [
    {
     "name": "stdout",
     "output_type": "stream",
     "text": [
      "h^0 =>\n"
     ]
    },
    {
     "data": {
      "text/latex": [
       "$\\displaystyle \\varepsilon u^{3} + u + u1_{t}$"
      ],
      "text/plain": [
       "\\varepsilon*u**3 + u + u1_{t}"
      ]
     },
     "metadata": {},
     "output_type": "display_data"
    },
    {
     "name": "stdout",
     "output_type": "stream",
     "text": [
      "h^1 =>\n"
     ]
    },
    {
     "data": {
      "text/latex": [
       "$\\displaystyle - \\frac{3 \\varepsilon u^{2} u_{1}}{2} - \\frac{u_{1}}{2}$"
      ],
      "text/plain": [
       "-3*\\varepsilon*u**2*u1/2 - u1/2"
      ]
     },
     "metadata": {},
     "output_type": "display_data"
    },
    {
     "name": "stdout",
     "output_type": "stream",
     "text": [
      "h^2 =>\n"
     ]
    },
    {
     "data": {
      "text/latex": [
       "$\\displaystyle - \\varepsilon^{2} u^{5} - \\frac{\\varepsilon u \\left(8 u^{2} - 3 u_{1}^{2}\\right)}{6} - \\frac{u}{3}$"
      ],
      "text/plain": [
       "-\\varepsilon**2*u**5 - \\varepsilon*u*(8*u**2 - 3*u1**2)/6 - u/3"
      ]
     },
     "metadata": {},
     "output_type": "display_data"
    },
    {
     "name": "stdout",
     "output_type": "stream",
     "text": [
      "h^3 =>\n"
     ]
    },
    {
     "data": {
      "text/latex": [
       "$\\displaystyle \\frac{11 \\varepsilon^{2} u^{4} u_{1}}{4} + 2 \\varepsilon u^{2} u_{1} + \\frac{u_{1}}{4}$"
      ],
      "text/plain": [
       "11*\\varepsilon**2*u**4*u1/4 + 2*\\varepsilon*u**2*u1 + u1/4"
      ]
     },
     "metadata": {},
     "output_type": "display_data"
    },
    {
     "name": "stdout",
     "output_type": "stream",
     "text": [
      "\\varepsilon u^{3} + u + u1_{t}\n",
      "+h\\left(\n",
      "- \\frac{3 \\varepsilon u^{2} u_{1}}{2} - \\frac{u_{1}}{2}\n",
      "\\right)\n",
      "+h^2\\left(\n",
      "- \\varepsilon^{2} u^{5} - \\frac{\\varepsilon u \\left(8 u^{2} - 3 u_{1}^{2}\\right)}{6} - \\frac{u}{3}\n",
      "\\right)\n",
      "+h^3\\left(\n",
      "\\frac{11 \\varepsilon^{2} u^{4} u_{1}}{4} + 2 \\varepsilon u^{2} u_{1} + \\frac{u_{1}}{4}\n",
      "\\right)\n"
     ]
    }
   ],
   "source": [
    "f2 = NF(F2, [u(t).diff(t), u1(t).diff(t)], [F1, F2], head=False)\n",
    "prn(f2, eps)\n",
    "prnlatex(f2, eps)"
   ]
  },
  {
   "cell_type": "code",
   "execution_count": 15,
   "id": "33be60f8",
   "metadata": {},
   "outputs": [
    {
     "name": "stdout",
     "output_type": "stream",
     "text": [
      "h^0 =>\n"
     ]
    },
    {
     "data": {
      "text/latex": [
       "$\\displaystyle \\varepsilon u^{3} u_{t} + u u_{t} + u_{1} u1_{t}$"
      ],
      "text/plain": [
       "\\varepsilon*u**3*u_{t} + u*u_{t} + u1*u1_{t}"
      ]
     },
     "metadata": {},
     "output_type": "display_data"
    },
    {
     "name": "stdout",
     "output_type": "stream",
     "text": [
      "h^1 =>\n"
     ]
    },
    {
     "data": {
      "text/latex": [
       "$\\displaystyle \\frac{\\varepsilon u^{2} \\left(u u_{tt} + 3 u_{t}^{2}\\right)}{2} + \\frac{u u_{tt} + u_{1} u1_{tt} + u1_{t}^{2} + u_{t}^{2}}{2}$"
      ],
      "text/plain": [
       "\\varepsilon*u**2*(u*u_{tt} + 3*u_{t}**2)/2 + (u*u_{tt} + u1*u1_{tt} + u1_{t}**2 + u_{t}**2)/2"
      ]
     },
     "metadata": {},
     "output_type": "display_data"
    },
    {
     "name": "stdout",
     "output_type": "stream",
     "text": [
      "h^2 =>\n"
     ]
    },
    {
     "data": {
      "text/latex": [
       "$\\displaystyle \\frac{\\varepsilon u \\left(u^{2} u_{ttt} + 9 u u_{tt} u_{t} + 6 u_{t}^{3}\\right)}{6} + \\frac{u u_{ttt} + u_{1} u1_{ttt} + 3 u1_{tt} u1_{t} + 3 u_{tt} u_{t}}{6}$"
      ],
      "text/plain": [
       "\\varepsilon*u*(u**2*u_{ttt} + 9*u*u_{tt}*u_{t} + 6*u_{t}**3)/6 + (u*u_{ttt} + u1*u1_{ttt} + 3*u1_{tt}*u1_{t} + 3*u_{tt}*u_{t})/6"
      ]
     },
     "metadata": {},
     "output_type": "display_data"
    },
    {
     "name": "stdout",
     "output_type": "stream",
     "text": [
      "h^3 =>\n"
     ]
    },
    {
     "data": {
      "text/latex": [
       "$\\displaystyle \\frac{\\varepsilon \\left(u^{3} u_{tttt} + 12 u^{2} u_{ttt} u_{t} + 9 u^{2} u_{tt}^{2} + 36 u u_{tt} u_{t}^{2} + 6 u_{t}^{4}\\right)}{24} + \\frac{u u_{tttt} + u_{1} u1_{tttt} + 4 u1_{ttt} u1_{t} + 3 u1_{tt}^{2} + 4 u_{ttt} u_{t} + 3 u_{tt}^{2}}{24}$"
      ],
      "text/plain": [
       "\\varepsilon*(u**3*u_{tttt} + 12*u**2*u_{ttt}*u_{t} + 9*u**2*u_{tt}**2 + 36*u*u_{tt}*u_{t}**2 + 6*u_{t}**4)/24 + (u*u_{tttt} + u1*u1_{tttt} + 4*u1_{ttt}*u1_{t} + 3*u1_{tt}**2 + 4*u_{ttt}*u_{t} + 3*u_{tt}**2)/24"
      ]
     },
     "metadata": {},
     "output_type": "display_data"
    },
    {
     "name": "stdout",
     "output_type": "stream",
     "text": [
      "\\varepsilon u^{3} u_{t} + u u_{t} + u_{1} u1_{t}\n",
      "+h\\left(\n",
      "\\frac{\\varepsilon u^{2} \\left(u u_{tt} + 3 u_{t}^{2}\\right)}{2} + \\frac{u u_{tt} + u_{1} u1_{tt} + u1_{t}^{2} + u_{t}^{2}}{2}\n",
      "\\right)\n",
      "+h^2\\left(\n",
      "\\frac{\\varepsilon u \\left(u^{2} u_{ttt} + 9 u u_{tt} u_{t} + 6 u_{t}^{3}\\right)}{6} + \\frac{u u_{ttt} + u_{1} u1_{ttt} + 3 u1_{tt} u1_{t} + 3 u_{tt} u_{t}}{6}\n",
      "\\right)\n",
      "+h^3\\left(\n",
      "\\frac{\\varepsilon \\left(u^{3} u_{tttt} + 12 u^{2} u_{ttt} u_{t} + 9 u^{2} u_{tt}^{2} + 36 u u_{tt} u_{t}^{2} + 6 u_{t}^{4}\\right)}{24} + \\frac{u u_{tttt} + u_{1} u1_{tttt} + 4 u1_{ttt} u1_{t} + 3 u1_{tt}^{2} + 4 u_{ttt} u_{t} + 3 u_{tt}^{2}}{24}\n",
      "\\right)\n"
     ]
    }
   ],
   "source": [
    "F3 = clip(((T(u1(t+h))**2/2 + T(u(t+h))**2/2 + eps*T(u(t+h))**4/4) -\\\n",
    "           (T(u1(t))**2/2 + T(u(t))**2/2 + eps*T(u(t))**4/4))/h)\n",
    "prn(F3, eps)\n",
    "prnlatex(F3, eps)"
   ]
  },
  {
   "cell_type": "code",
   "execution_count": 16,
   "id": "70af526a",
   "metadata": {},
   "outputs": [
    {
     "name": "stdout",
     "output_type": "stream",
     "text": [
      "h^0 =>\n"
     ]
    },
    {
     "data": {
      "text/latex": [
       "$\\displaystyle 0$"
      ],
      "text/plain": [
       "0"
      ]
     },
     "metadata": {},
     "output_type": "display_data"
    },
    {
     "name": "stdout",
     "output_type": "stream",
     "text": [
      "h^1 =>\n"
     ]
    },
    {
     "data": {
      "text/latex": [
       "$\\displaystyle \\frac{\\varepsilon^{2} u^{6}}{2} + \\frac{\\varepsilon u^{2} \\left(2 u^{2} + 3 u_{1}^{2}\\right)}{2} + \\frac{u^{2} + u_{1}^{2}}{2}$"
      ],
      "text/plain": [
       "\\varepsilon**2*u**6/2 + \\varepsilon*u**2*(2*u**2 + 3*u1**2)/2 + (u**2 + u1**2)/2"
      ]
     },
     "metadata": {},
     "output_type": "display_data"
    },
    {
     "name": "stdout",
     "output_type": "stream",
     "text": [
      "h^2 =>\n"
     ]
    },
    {
     "data": {
      "text/latex": [
       "$\\displaystyle \\varepsilon u u_{1}^{3}$"
      ],
      "text/plain": [
       "\\varepsilon*u*u1**3"
      ]
     },
     "metadata": {},
     "output_type": "display_data"
    },
    {
     "name": "stdout",
     "output_type": "stream",
     "text": [
      "h^3 =>\n"
     ]
    },
    {
     "data": {
      "text/latex": [
       "$\\displaystyle \\frac{\\varepsilon u_{1}^{4}}{4}$"
      ],
      "text/plain": [
       "\\varepsilon*u1**4/4"
      ]
     },
     "metadata": {},
     "output_type": "display_data"
    },
    {
     "name": "stdout",
     "output_type": "stream",
     "text": [
      "0\n",
      "+h\\left(\n",
      "\\frac{\\varepsilon^{2} u^{6}}{2} + \\frac{\\varepsilon u^{2} \\left(2 u^{2} + 3 u_{1}^{2}\\right)}{2} + \\frac{u^{2} + u_{1}^{2}}{2}\n",
      "\\right)\n",
      "+h^2\\left(\n",
      "\\varepsilon u u_{1}^{3}\n",
      "\\right)\n",
      "+h^3\\left(\n",
      "\\frac{\\varepsilon u_{1}^{4}}{4}\n",
      "\\right)\n"
     ]
    }
   ],
   "source": [
    "f3 = NF(F3, [u(t).diff(t), u1(t).diff(t)], [f1, f2], head=True)\n",
    "prn(f3, eps)\n",
    "prnlatex(f3, eps)"
   ]
  },
  {
   "cell_type": "code",
   "execution_count": 17,
   "id": "2915d149",
   "metadata": {},
   "outputs": [
    {
     "name": "stdout",
     "output_type": "stream",
     "text": [
      "eps*y[0]*y[1]**3\n"
     ]
    }
   ],
   "source": [
    "print(replace(str(f3[2].collect(eps))))"
   ]
  },
  {
   "cell_type": "markdown",
   "id": "b10450db",
   "metadata": {},
   "source": [
    "## Crank–Nicolson method"
   ]
  },
  {
   "cell_type": "code",
   "execution_count": 18,
   "id": "5c7faaab",
   "metadata": {},
   "outputs": [],
   "source": [
    "set_clip(5, 4, Rational(0, 1))\n",
    "r = CrankNicolson2(f, Matrix([u(t), u1(t)]))"
   ]
  },
  {
   "cell_type": "code",
   "execution_count": 19,
   "id": "1ec03dbc",
   "metadata": {},
   "outputs": [
    {
     "name": "stdout",
     "output_type": "stream",
     "text": [
      "h^0 =>\n"
     ]
    },
    {
     "data": {
      "text/latex": [
       "$\\displaystyle - u_{1} + u_{t}$"
      ],
      "text/plain": [
       "-u1 + u_{t}"
      ]
     },
     "metadata": {},
     "output_type": "display_data"
    },
    {
     "name": "stdout",
     "output_type": "stream",
     "text": [
      "h^1 =>\n"
     ]
    },
    {
     "data": {
      "text/latex": [
       "$\\displaystyle \\frac{u_{tt}}{2}$"
      ],
      "text/plain": [
       "u_{tt}/2"
      ]
     },
     "metadata": {},
     "output_type": "display_data"
    },
    {
     "name": "stdout",
     "output_type": "stream",
     "text": [
      "h^2 =>\n"
     ]
    },
    {
     "data": {
      "text/latex": [
       "$\\displaystyle \\frac{u_{ttt}}{6}$"
      ],
      "text/plain": [
       "u_{ttt}/6"
      ]
     },
     "metadata": {},
     "output_type": "display_data"
    },
    {
     "name": "stdout",
     "output_type": "stream",
     "text": [
      "h^3 =>\n"
     ]
    },
    {
     "data": {
      "text/latex": [
       "$\\displaystyle \\frac{u_{tttt}}{24}$"
      ],
      "text/plain": [
       "u_{tttt}/24"
      ]
     },
     "metadata": {},
     "output_type": "display_data"
    },
    {
     "name": "stdout",
     "output_type": "stream",
     "text": [
      "- u_{1} + u_{t}\n",
      "+h\\left(\n",
      "\\frac{u_{tt}}{2}\n",
      "\\right)\n",
      "+h^2\\left(\n",
      "\\frac{u_{ttt}}{6}\n",
      "\\right)\n",
      "+h^3\\left(\n",
      "\\frac{u_{tttt}}{24}\n",
      "\\right)\n"
     ]
    }
   ],
   "source": [
    "F1 = clip((T(u(t+h))-T(u(t)))/h - T(r[0]))\n",
    "prn(F1, eps)\n",
    "prnlatex(F1, eps)"
   ]
  },
  {
   "cell_type": "code",
   "execution_count": 20,
   "id": "19fd83f1",
   "metadata": {},
   "outputs": [
    {
     "name": "stdout",
     "output_type": "stream",
     "text": [
      "h^0 =>\n"
     ]
    },
    {
     "data": {
      "text/latex": [
       "$\\displaystyle \\varepsilon u^{3} + u + u1_{t}$"
      ],
      "text/plain": [
       "\\varepsilon*u**3 + u + u1_{t}"
      ]
     },
     "metadata": {},
     "output_type": "display_data"
    },
    {
     "name": "stdout",
     "output_type": "stream",
     "text": [
      "h^1 =>\n"
     ]
    },
    {
     "data": {
      "text/latex": [
       "$\\displaystyle \\frac{u1_{tt}}{2}$"
      ],
      "text/plain": [
       "u1_{tt}/2"
      ]
     },
     "metadata": {},
     "output_type": "display_data"
    },
    {
     "name": "stdout",
     "output_type": "stream",
     "text": [
      "h^2 =>\n"
     ]
    },
    {
     "data": {
      "text/latex": [
       "$\\displaystyle \\frac{u1_{ttt}}{6}$"
      ],
      "text/plain": [
       "u1_{ttt}/6"
      ]
     },
     "metadata": {},
     "output_type": "display_data"
    },
    {
     "name": "stdout",
     "output_type": "stream",
     "text": [
      "h^3 =>\n"
     ]
    },
    {
     "data": {
      "text/latex": [
       "$\\displaystyle \\frac{u1_{tttt}}{24}$"
      ],
      "text/plain": [
       "u1_{tttt}/24"
      ]
     },
     "metadata": {},
     "output_type": "display_data"
    },
    {
     "name": "stdout",
     "output_type": "stream",
     "text": [
      "\\varepsilon u^{3} + u + u1_{t}\n",
      "+h\\left(\n",
      "\\frac{u1_{tt}}{2}\n",
      "\\right)\n",
      "+h^2\\left(\n",
      "\\frac{u1_{ttt}}{6}\n",
      "\\right)\n",
      "+h^3\\left(\n",
      "\\frac{u1_{tttt}}{24}\n",
      "\\right)\n"
     ]
    }
   ],
   "source": [
    "F2 = clip((T(u1(t+h))-T(u1(t)))/h - T(r[1]))\n",
    "prn(F2, eps)\n",
    "prnlatex(F2, eps)"
   ]
  },
  {
   "cell_type": "code",
   "execution_count": 21,
   "id": "7d5c1b4c",
   "metadata": {},
   "outputs": [
    {
     "name": "stdout",
     "output_type": "stream",
     "text": [
      "h^0 =>\n"
     ]
    },
    {
     "data": {
      "text/latex": [
       "$\\displaystyle - u_{1} + u_{t}$"
      ],
      "text/plain": [
       "-u1 + u_{t}"
      ]
     },
     "metadata": {},
     "output_type": "display_data"
    },
    {
     "name": "stdout",
     "output_type": "stream",
     "text": [
      "h^1 =>\n"
     ]
    },
    {
     "data": {
      "text/latex": [
       "$\\displaystyle - \\frac{\\varepsilon u^{3}}{2} - \\frac{u}{2}$"
      ],
      "text/plain": [
       "-\\varepsilon*u**3/2 - u/2"
      ]
     },
     "metadata": {},
     "output_type": "display_data"
    },
    {
     "name": "stdout",
     "output_type": "stream",
     "text": [
      "h^2 =>\n"
     ]
    },
    {
     "data": {
      "text/latex": [
       "$\\displaystyle \\varepsilon u^{2} u_{1} + \\frac{u_{1}}{3}$"
      ],
      "text/plain": [
       "\\varepsilon*u**2*u1 + u1/3"
      ]
     },
     "metadata": {},
     "output_type": "display_data"
    },
    {
     "name": "stdout",
     "output_type": "stream",
     "text": [
      "h^3 =>\n"
     ]
    },
    {
     "data": {
      "text/latex": [
       "$\\displaystyle \\frac{3 \\varepsilon^{2} u^{5}}{4} + \\frac{\\varepsilon u \\left(2 u^{2} - u_{1}^{2}\\right)}{2} + \\frac{u}{4}$"
      ],
      "text/plain": [
       "3*\\varepsilon**2*u**5/4 + \\varepsilon*u*(2*u**2 - u1**2)/2 + u/4"
      ]
     },
     "metadata": {},
     "output_type": "display_data"
    },
    {
     "name": "stdout",
     "output_type": "stream",
     "text": [
      "- u_{1} + u_{t}\n",
      "+h\\left(\n",
      "- \\frac{\\varepsilon u^{3}}{2} - \\frac{u}{2}\n",
      "\\right)\n",
      "+h^2\\left(\n",
      "\\varepsilon u^{2} u_{1} + \\frac{u_{1}}{3}\n",
      "\\right)\n",
      "+h^3\\left(\n",
      "\\frac{3 \\varepsilon^{2} u^{5}}{4} + \\frac{\\varepsilon u \\left(2 u^{2} - u_{1}^{2}\\right)}{2} + \\frac{u}{4}\n",
      "\\right)\n"
     ]
    }
   ],
   "source": [
    "f1 = NF(F1, [u(t).diff(t), u1(t).diff(t)], [F1, F2], head=False)\n",
    "prn(f1, eps)\n",
    "prnlatex(f1, eps)"
   ]
  },
  {
   "cell_type": "code",
   "execution_count": 22,
   "id": "74d925c4",
   "metadata": {},
   "outputs": [
    {
     "name": "stdout",
     "output_type": "stream",
     "text": [
      "h^0 =>\n"
     ]
    },
    {
     "data": {
      "text/latex": [
       "$\\displaystyle \\varepsilon u^{3} + u + u1_{t}$"
      ],
      "text/plain": [
       "\\varepsilon*u**3 + u + u1_{t}"
      ]
     },
     "metadata": {},
     "output_type": "display_data"
    },
    {
     "name": "stdout",
     "output_type": "stream",
     "text": [
      "h^1 =>\n"
     ]
    },
    {
     "data": {
      "text/latex": [
       "$\\displaystyle - \\frac{3 \\varepsilon u^{2} u_{1}}{2} - \\frac{u_{1}}{2}$"
      ],
      "text/plain": [
       "-3*\\varepsilon*u**2*u1/2 - u1/2"
      ]
     },
     "metadata": {},
     "output_type": "display_data"
    },
    {
     "name": "stdout",
     "output_type": "stream",
     "text": [
      "h^2 =>\n"
     ]
    },
    {
     "data": {
      "text/latex": [
       "$\\displaystyle - \\varepsilon^{2} u^{5} - \\frac{\\varepsilon u \\left(8 u^{2} - 3 u_{1}^{2}\\right)}{6} - \\frac{u}{3}$"
      ],
      "text/plain": [
       "-\\varepsilon**2*u**5 - \\varepsilon*u*(8*u**2 - 3*u1**2)/6 - u/3"
      ]
     },
     "metadata": {},
     "output_type": "display_data"
    },
    {
     "name": "stdout",
     "output_type": "stream",
     "text": [
      "h^3 =>\n"
     ]
    },
    {
     "data": {
      "text/latex": [
       "$\\displaystyle \\frac{11 \\varepsilon^{2} u^{4} u_{1}}{4} + 2 \\varepsilon u^{2} u_{1} + \\frac{u_{1}}{4}$"
      ],
      "text/plain": [
       "11*\\varepsilon**2*u**4*u1/4 + 2*\\varepsilon*u**2*u1 + u1/4"
      ]
     },
     "metadata": {},
     "output_type": "display_data"
    },
    {
     "name": "stdout",
     "output_type": "stream",
     "text": [
      "\\varepsilon u^{3} + u + u1_{t}\n",
      "+h\\left(\n",
      "- \\frac{3 \\varepsilon u^{2} u_{1}}{2} - \\frac{u_{1}}{2}\n",
      "\\right)\n",
      "+h^2\\left(\n",
      "- \\varepsilon^{2} u^{5} - \\frac{\\varepsilon u \\left(8 u^{2} - 3 u_{1}^{2}\\right)}{6} - \\frac{u}{3}\n",
      "\\right)\n",
      "+h^3\\left(\n",
      "\\frac{11 \\varepsilon^{2} u^{4} u_{1}}{4} + 2 \\varepsilon u^{2} u_{1} + \\frac{u_{1}}{4}\n",
      "\\right)\n"
     ]
    }
   ],
   "source": [
    "f2 = NF(F2, [u(t).diff(t), u1(t).diff(t)], [F1, F2], head=False)\n",
    "prn(f2, eps)\n",
    "prnlatex(f2, eps)"
   ]
  },
  {
   "cell_type": "code",
   "execution_count": 23,
   "id": "f04a253f",
   "metadata": {},
   "outputs": [
    {
     "name": "stdout",
     "output_type": "stream",
     "text": [
      "h^0 =>\n"
     ]
    },
    {
     "data": {
      "text/latex": [
       "$\\displaystyle \\varepsilon u^{3} u_{t} + u u_{t} + u_{1} u1_{t}$"
      ],
      "text/plain": [
       "\\varepsilon*u**3*u_{t} + u*u_{t} + u1*u1_{t}"
      ]
     },
     "metadata": {},
     "output_type": "display_data"
    },
    {
     "name": "stdout",
     "output_type": "stream",
     "text": [
      "h^1 =>\n"
     ]
    },
    {
     "data": {
      "text/latex": [
       "$\\displaystyle \\frac{\\varepsilon u^{2} \\left(u u_{tt} + 3 u_{t}^{2}\\right)}{2} + \\frac{u u_{tt} + u_{1} u1_{tt} + u1_{t}^{2} + u_{t}^{2}}{2}$"
      ],
      "text/plain": [
       "\\varepsilon*u**2*(u*u_{tt} + 3*u_{t}**2)/2 + (u*u_{tt} + u1*u1_{tt} + u1_{t}**2 + u_{t}**2)/2"
      ]
     },
     "metadata": {},
     "output_type": "display_data"
    },
    {
     "name": "stdout",
     "output_type": "stream",
     "text": [
      "h^2 =>\n"
     ]
    },
    {
     "data": {
      "text/latex": [
       "$\\displaystyle \\frac{\\varepsilon u \\left(u^{2} u_{ttt} + 9 u u_{tt} u_{t} + 6 u_{t}^{3}\\right)}{6} + \\frac{u u_{ttt} + u_{1} u1_{ttt} + 3 u1_{tt} u1_{t} + 3 u_{tt} u_{t}}{6}$"
      ],
      "text/plain": [
       "\\varepsilon*u*(u**2*u_{ttt} + 9*u*u_{tt}*u_{t} + 6*u_{t}**3)/6 + (u*u_{ttt} + u1*u1_{ttt} + 3*u1_{tt}*u1_{t} + 3*u_{tt}*u_{t})/6"
      ]
     },
     "metadata": {},
     "output_type": "display_data"
    },
    {
     "name": "stdout",
     "output_type": "stream",
     "text": [
      "h^3 =>\n"
     ]
    },
    {
     "data": {
      "text/latex": [
       "$\\displaystyle \\frac{\\varepsilon \\left(u^{3} u_{tttt} + 12 u^{2} u_{ttt} u_{t} + 9 u^{2} u_{tt}^{2} + 36 u u_{tt} u_{t}^{2} + 6 u_{t}^{4}\\right)}{24} + \\frac{u u_{tttt} + u_{1} u1_{tttt} + 4 u1_{ttt} u1_{t} + 3 u1_{tt}^{2} + 4 u_{ttt} u_{t} + 3 u_{tt}^{2}}{24}$"
      ],
      "text/plain": [
       "\\varepsilon*(u**3*u_{tttt} + 12*u**2*u_{ttt}*u_{t} + 9*u**2*u_{tt}**2 + 36*u*u_{tt}*u_{t}**2 + 6*u_{t}**4)/24 + (u*u_{tttt} + u1*u1_{tttt} + 4*u1_{ttt}*u1_{t} + 3*u1_{tt}**2 + 4*u_{ttt}*u_{t} + 3*u_{tt}**2)/24"
      ]
     },
     "metadata": {},
     "output_type": "display_data"
    },
    {
     "name": "stdout",
     "output_type": "stream",
     "text": [
      "\\varepsilon u^{3} u_{t} + u u_{t} + u_{1} u1_{t}\n",
      "+h\\left(\n",
      "\\frac{\\varepsilon u^{2} \\left(u u_{tt} + 3 u_{t}^{2}\\right)}{2} + \\frac{u u_{tt} + u_{1} u1_{tt} + u1_{t}^{2} + u_{t}^{2}}{2}\n",
      "\\right)\n",
      "+h^2\\left(\n",
      "\\frac{\\varepsilon u \\left(u^{2} u_{ttt} + 9 u u_{tt} u_{t} + 6 u_{t}^{3}\\right)}{6} + \\frac{u u_{ttt} + u_{1} u1_{ttt} + 3 u1_{tt} u1_{t} + 3 u_{tt} u_{t}}{6}\n",
      "\\right)\n",
      "+h^3\\left(\n",
      "\\frac{\\varepsilon \\left(u^{3} u_{tttt} + 12 u^{2} u_{ttt} u_{t} + 9 u^{2} u_{tt}^{2} + 36 u u_{tt} u_{t}^{2} + 6 u_{t}^{4}\\right)}{24} + \\frac{u u_{tttt} + u_{1} u1_{tttt} + 4 u1_{ttt} u1_{t} + 3 u1_{tt}^{2} + 4 u_{ttt} u_{t} + 3 u_{tt}^{2}}{24}\n",
      "\\right)\n"
     ]
    }
   ],
   "source": [
    "F3 = clip(((T(u1(t+h))**2/2 + T(u(t+h))**2/2 + eps*T(u(t+h))**4/4) -\\\n",
    "           (T(u1(t))**2/2 + T(u(t))**2/2 + eps*T(u(t))**4/4))/h)\n",
    "prn(F3, eps)\n",
    "prnlatex(F3, eps)"
   ]
  },
  {
   "cell_type": "code",
   "execution_count": 24,
   "id": "449f7e74",
   "metadata": {},
   "outputs": [
    {
     "name": "stdout",
     "output_type": "stream",
     "text": [
      "h^0 =>\n"
     ]
    },
    {
     "data": {
      "text/latex": [
       "$\\displaystyle 0$"
      ],
      "text/plain": [
       "0"
      ]
     },
     "metadata": {},
     "output_type": "display_data"
    },
    {
     "name": "stdout",
     "output_type": "stream",
     "text": [
      "h^1 =>\n"
     ]
    },
    {
     "data": {
      "text/latex": [
       "$\\displaystyle \\frac{\\varepsilon^{2} u^{6}}{2} + \\frac{\\varepsilon u^{2} \\left(2 u^{2} + 3 u_{1}^{2}\\right)}{2} + \\frac{u^{2} + u_{1}^{2}}{2}$"
      ],
      "text/plain": [
       "\\varepsilon**2*u**6/2 + \\varepsilon*u**2*(2*u**2 + 3*u1**2)/2 + (u**2 + u1**2)/2"
      ]
     },
     "metadata": {},
     "output_type": "display_data"
    },
    {
     "name": "stdout",
     "output_type": "stream",
     "text": [
      "h^2 =>\n"
     ]
    },
    {
     "data": {
      "text/latex": [
       "$\\displaystyle \\varepsilon u u_{1}^{3}$"
      ],
      "text/plain": [
       "\\varepsilon*u*u1**3"
      ]
     },
     "metadata": {},
     "output_type": "display_data"
    },
    {
     "name": "stdout",
     "output_type": "stream",
     "text": [
      "h^3 =>\n"
     ]
    },
    {
     "data": {
      "text/latex": [
       "$\\displaystyle \\frac{\\varepsilon u_{1}^{4}}{4}$"
      ],
      "text/plain": [
       "\\varepsilon*u1**4/4"
      ]
     },
     "metadata": {},
     "output_type": "display_data"
    },
    {
     "name": "stdout",
     "output_type": "stream",
     "text": [
      "0\n",
      "+h\\left(\n",
      "\\frac{\\varepsilon^{2} u^{6}}{2} + \\frac{\\varepsilon u^{2} \\left(2 u^{2} + 3 u_{1}^{2}\\right)}{2} + \\frac{u^{2} + u_{1}^{2}}{2}\n",
      "\\right)\n",
      "+h^2\\left(\n",
      "\\varepsilon u u_{1}^{3}\n",
      "\\right)\n",
      "+h^3\\left(\n",
      "\\frac{\\varepsilon u_{1}^{4}}{4}\n",
      "\\right)\n"
     ]
    }
   ],
   "source": [
    "f3 = NF(F3, [u(t).diff(t), u1(t).diff(t)], [f1, f2], head=True)\n",
    "prn(f3, eps)\n",
    "prnlatex(f3, eps)"
   ]
  },
  {
   "cell_type": "code",
   "execution_count": 25,
   "id": "ca422f1a",
   "metadata": {},
   "outputs": [
    {
     "name": "stdout",
     "output_type": "stream",
     "text": [
      "eps*y[0]*y[1]**3\n"
     ]
    }
   ],
   "source": [
    "print(replace(str(f3[2].collect(eps))))"
   ]
  },
  {
   "cell_type": "markdown",
   "id": "52ccdde8",
   "metadata": {},
   "source": [
    "## \"original\" Runge–Kutta method"
   ]
  },
  {
   "cell_type": "code",
   "execution_count": 26,
   "id": "9d78b19e",
   "metadata": {},
   "outputs": [],
   "source": [
    "set_clip(7, 6, Rational(0, 1))\n",
    "r = RungeKutta4(f, Matrix([u(t), u1(t)]))"
   ]
  },
  {
   "cell_type": "code",
   "execution_count": 27,
   "id": "df3555be",
   "metadata": {},
   "outputs": [
    {
     "name": "stdout",
     "output_type": "stream",
     "text": [
      "h^0 =>\n"
     ]
    },
    {
     "data": {
      "text/latex": [
       "$\\displaystyle - u_{1} + u_{t}$"
      ],
      "text/plain": [
       "-u1 + u_{t}"
      ]
     },
     "metadata": {},
     "output_type": "display_data"
    },
    {
     "name": "stdout",
     "output_type": "stream",
     "text": [
      "h^1 =>\n"
     ]
    },
    {
     "data": {
      "text/latex": [
       "$\\displaystyle \\frac{\\varepsilon u^{3}}{2} + \\frac{u + u_{tt}}{2}$"
      ],
      "text/plain": [
       "\\varepsilon*u**3/2 + (u + u_{tt})/2"
      ]
     },
     "metadata": {},
     "output_type": "display_data"
    },
    {
     "name": "stdout",
     "output_type": "stream",
     "text": [
      "h^2 =>\n"
     ]
    },
    {
     "data": {
      "text/latex": [
       "$\\displaystyle \\frac{\\varepsilon u^{2} u_{1}}{2} + \\frac{u_{1} + u_{ttt}}{6}$"
      ],
      "text/plain": [
       "\\varepsilon*u**2*u1/2 + (u1 + u_{ttt})/6"
      ]
     },
     "metadata": {},
     "output_type": "display_data"
    },
    {
     "name": "stdout",
     "output_type": "stream",
     "text": [
      "h^3 =>\n"
     ]
    },
    {
     "data": {
      "text/latex": [
       "$\\displaystyle - \\frac{\\varepsilon^{2} u^{5}}{8} - \\frac{\\varepsilon u \\left(2 u^{2} - 3 u_{1}^{2}\\right)}{12} - \\frac{u - u_{tttt}}{24}$"
      ],
      "text/plain": [
       "-\\varepsilon**2*u**5/8 - \\varepsilon*u*(2*u**2 - 3*u1**2)/12 - (u - u_{tttt})/24"
      ]
     },
     "metadata": {},
     "output_type": "display_data"
    },
    {
     "name": "stdout",
     "output_type": "stream",
     "text": [
      "h^4 =>\n"
     ]
    },
    {
     "data": {
      "text/latex": [
       "$\\displaystyle - \\frac{\\varepsilon^{2} u^{4} u_{1}}{8} - \\frac{\\varepsilon u_{1} \\left(3 u^{2} - u_{1}^{2}\\right)}{24} + \\frac{u_{ttttt}}{120}$"
      ],
      "text/plain": [
       "-\\varepsilon**2*u**4*u1/8 - \\varepsilon*u1*(3*u**2 - u1**2)/24 + u_{ttttt}/120"
      ]
     },
     "metadata": {},
     "output_type": "display_data"
    },
    {
     "name": "stdout",
     "output_type": "stream",
     "text": [
      "h^5 =>\n"
     ]
    },
    {
     "data": {
      "text/latex": [
       "$\\displaystyle \\frac{\\varepsilon^{3} u^{7}}{32} + \\frac{\\varepsilon^{2} u^{3} \\left(2 u^{2} - u_{1}^{2}\\right)}{32} + \\frac{\\varepsilon u \\left(u - u_{1}\\right) \\left(u + u_{1}\\right)}{32} + \\frac{u_{tttttt}}{720}$"
      ],
      "text/plain": [
       "\\varepsilon**3*u**7/32 + \\varepsilon**2*u**3*(2*u**2 - u1**2)/32 + \\varepsilon*u*(u - u1)*(u + u1)/32 + u_{tttttt}/720"
      ]
     },
     "metadata": {},
     "output_type": "display_data"
    },
    {
     "name": "stdout",
     "output_type": "stream",
     "text": [
      "- u_{1} + u_{t}\n",
      "+h\\left(\n",
      "\\frac{\\varepsilon u^{3}}{2} + \\frac{u + u_{tt}}{2}\n",
      "\\right)\n",
      "+h^2\\left(\n",
      "\\frac{\\varepsilon u^{2} u_{1}}{2} + \\frac{u_{1} + u_{ttt}}{6}\n",
      "\\right)\n",
      "+h^3\\left(\n",
      "- \\frac{\\varepsilon^{2} u^{5}}{8} - \\frac{\\varepsilon u \\left(2 u^{2} - 3 u_{1}^{2}\\right)}{12} - \\frac{u - u_{tttt}}{24}\n",
      "\\right)\n",
      "+h^4\\left(\n",
      "- \\frac{\\varepsilon^{2} u^{4} u_{1}}{8} - \\frac{\\varepsilon u_{1} \\left(3 u^{2} - u_{1}^{2}\\right)}{24} + \\frac{u_{ttttt}}{120}\n",
      "\\right)\n",
      "+h^5\\left(\n",
      "\\frac{\\varepsilon^{3} u^{7}}{32} + \\frac{\\varepsilon^{2} u^{3} \\left(2 u^{2} - u_{1}^{2}\\right)}{32} + \\frac{\\varepsilon u \\left(u - u_{1}\\right) \\left(u + u_{1}\\right)}{32} + \\frac{u_{tttttt}}{720}\n",
      "\\right)\n"
     ]
    }
   ],
   "source": [
    "F1 = clip((T(u(t+h))-T(u(t)))/h - T(r[0]))\n",
    "prn(F1, eps)\n",
    "prnlatex(F1, eps)"
   ]
  },
  {
   "cell_type": "code",
   "execution_count": 28,
   "id": "12811352",
   "metadata": {},
   "outputs": [
    {
     "name": "stdout",
     "output_type": "stream",
     "text": [
      "h^0 =>\n"
     ]
    },
    {
     "data": {
      "text/latex": [
       "$\\displaystyle \\varepsilon u^{3} + u + u1_{t}$"
      ],
      "text/plain": [
       "\\varepsilon*u**3 + u + u1_{t}"
      ]
     },
     "metadata": {},
     "output_type": "display_data"
    },
    {
     "name": "stdout",
     "output_type": "stream",
     "text": [
      "h^1 =>\n"
     ]
    },
    {
     "data": {
      "text/latex": [
       "$\\displaystyle \\frac{3 \\varepsilon u^{2} u_{1}}{2} + \\frac{u_{1} + u1_{tt}}{2}$"
      ],
      "text/plain": [
       "3*\\varepsilon*u**2*u1/2 + (u1 + u1_{tt})/2"
      ]
     },
     "metadata": {},
     "output_type": "display_data"
    },
    {
     "name": "stdout",
     "output_type": "stream",
     "text": [
      "h^2 =>\n"
     ]
    },
    {
     "data": {
      "text/latex": [
       "$\\displaystyle - \\frac{\\varepsilon^{2} u^{5}}{2} - \\frac{\\varepsilon u \\left(2 u^{2} - 3 u_{1}^{2}\\right)}{3} - \\frac{u - u1_{ttt}}{6}$"
      ],
      "text/plain": [
       "-\\varepsilon**2*u**5/2 - \\varepsilon*u*(2*u**2 - 3*u1**2)/3 - (u - u1_{ttt})/6"
      ]
     },
     "metadata": {},
     "output_type": "display_data"
    },
    {
     "name": "stdout",
     "output_type": "stream",
     "text": [
      "h^3 =>\n"
     ]
    },
    {
     "data": {
      "text/latex": [
       "$\\displaystyle - \\frac{9 \\varepsilon^{2} u^{4} u_{1}}{8} - \\frac{\\varepsilon u_{1} \\left(2 u - u_{1}\\right) \\left(2 u + u_{1}\\right)}{4} - \\frac{u_{1} - u1_{tttt}}{24}$"
      ],
      "text/plain": [
       "-9*\\varepsilon**2*u**4*u1/8 - \\varepsilon*u1*(2*u - u1)*(2*u + u1)/4 - (u1 - u1_{tttt})/24"
      ]
     },
     "metadata": {},
     "output_type": "display_data"
    },
    {
     "name": "stdout",
     "output_type": "stream",
     "text": [
      "h^4 =>\n"
     ]
    },
    {
     "data": {
      "text/latex": [
       "$\\displaystyle \\frac{3 \\varepsilon^{3} u^{7}}{16} + \\frac{\\varepsilon^{2} u^{3} \\left(3 u^{2} - 10 u_{1}^{2}\\right)}{8} + \\frac{\\varepsilon u \\left(3 u^{2} - 10 u_{1}^{2}\\right)}{16} + \\frac{u1_{ttttt}}{120}$"
      ],
      "text/plain": [
       "3*\\varepsilon**3*u**7/16 + \\varepsilon**2*u**3*(3*u**2 - 10*u1**2)/8 + \\varepsilon*u*(3*u**2 - 10*u1**2)/16 + u1_{ttttt}/120"
      ]
     },
     "metadata": {},
     "output_type": "display_data"
    },
    {
     "name": "stdout",
     "output_type": "stream",
     "text": [
      "h^5 =>\n"
     ]
    },
    {
     "data": {
      "text/latex": [
       "$\\displaystyle \\frac{17 \\varepsilon^{3} u^{6} u_{1}}{32} + \\frac{\\varepsilon^{2} u^{2} u_{1} \\left(26 u^{2} - 25 u_{1}^{2}\\right)}{32} + \\frac{\\varepsilon u_{1} \\left(27 u^{2} - 13 u_{1}^{2}\\right)}{96} + \\frac{u1_{tttttt}}{720}$"
      ],
      "text/plain": [
       "17*\\varepsilon**3*u**6*u1/32 + \\varepsilon**2*u**2*u1*(26*u**2 - 25*u1**2)/32 + \\varepsilon*u1*(27*u**2 - 13*u1**2)/96 + u1_{tttttt}/720"
      ]
     },
     "metadata": {},
     "output_type": "display_data"
    },
    {
     "name": "stdout",
     "output_type": "stream",
     "text": [
      "\\varepsilon u^{3} + u + u1_{t}\n",
      "+h\\left(\n",
      "\\frac{3 \\varepsilon u^{2} u_{1}}{2} + \\frac{u_{1} + u1_{tt}}{2}\n",
      "\\right)\n",
      "+h^2\\left(\n",
      "- \\frac{\\varepsilon^{2} u^{5}}{2} - \\frac{\\varepsilon u \\left(2 u^{2} - 3 u_{1}^{2}\\right)}{3} - \\frac{u - u1_{ttt}}{6}\n",
      "\\right)\n",
      "+h^3\\left(\n",
      "- \\frac{9 \\varepsilon^{2} u^{4} u_{1}}{8} - \\frac{\\varepsilon u_{1} \\left(2 u - u_{1}\\right) \\left(2 u + u_{1}\\right)}{4} - \\frac{u_{1} - u1_{tttt}}{24}\n",
      "\\right)\n",
      "+h^4\\left(\n",
      "\\frac{3 \\varepsilon^{3} u^{7}}{16} + \\frac{\\varepsilon^{2} u^{3} \\left(3 u^{2} - 10 u_{1}^{2}\\right)}{8} + \\frac{\\varepsilon u \\left(3 u^{2} - 10 u_{1}^{2}\\right)}{16} + \\frac{u1_{ttttt}}{120}\n",
      "\\right)\n",
      "+h^5\\left(\n",
      "\\frac{17 \\varepsilon^{3} u^{6} u_{1}}{32} + \\frac{\\varepsilon^{2} u^{2} u_{1} \\left(26 u^{2} - 25 u_{1}^{2}\\right)}{32} + \\frac{\\varepsilon u_{1} \\left(27 u^{2} - 13 u_{1}^{2}\\right)}{96} + \\frac{u1_{tttttt}}{720}\n",
      "\\right)\n"
     ]
    }
   ],
   "source": [
    "F2 = clip((T(u1(t+h))-T(u1(t)))/h - T(r[1]))\n",
    "prn(F2, eps)\n",
    "prnlatex(F2, eps)"
   ]
  },
  {
   "cell_type": "code",
   "execution_count": 29,
   "id": "fc14d37f",
   "metadata": {},
   "outputs": [
    {
     "name": "stdout",
     "output_type": "stream",
     "text": [
      "h^0 =>\n"
     ]
    },
    {
     "data": {
      "text/latex": [
       "$\\displaystyle - u_{1} + u_{t}$"
      ],
      "text/plain": [
       "-u1 + u_{t}"
      ]
     },
     "metadata": {},
     "output_type": "display_data"
    },
    {
     "name": "stdout",
     "output_type": "stream",
     "text": [
      "h^1 =>\n"
     ]
    },
    {
     "data": {
      "text/latex": [
       "$\\displaystyle 0$"
      ],
      "text/plain": [
       "0"
      ]
     },
     "metadata": {},
     "output_type": "display_data"
    },
    {
     "name": "stdout",
     "output_type": "stream",
     "text": [
      "h^2 =>\n"
     ]
    },
    {
     "data": {
      "text/latex": [
       "$\\displaystyle 0$"
      ],
      "text/plain": [
       "0"
      ]
     },
     "metadata": {},
     "output_type": "display_data"
    },
    {
     "name": "stdout",
     "output_type": "stream",
     "text": [
      "h^3 =>\n"
     ]
    },
    {
     "data": {
      "text/latex": [
       "$\\displaystyle 0$"
      ],
      "text/plain": [
       "0"
      ]
     },
     "metadata": {},
     "output_type": "display_data"
    },
    {
     "name": "stdout",
     "output_type": "stream",
     "text": [
      "h^4 =>\n"
     ]
    },
    {
     "data": {
      "text/latex": [
       "$\\displaystyle \\frac{\\varepsilon^{2} u^{4} u_{1}}{10} + \\frac{\\varepsilon u_{1} \\left(3 u - u_{1}\\right) \\left(3 u + u_{1}\\right)}{120} + \\frac{u_{1}}{120}$"
      ],
      "text/plain": [
       "\\varepsilon**2*u**4*u1/10 + \\varepsilon*u1*(3*u - u1)*(3*u + u1)/120 + u1/120"
      ]
     },
     "metadata": {},
     "output_type": "display_data"
    },
    {
     "name": "stdout",
     "output_type": "stream",
     "text": [
      "h^5 =>\n"
     ]
    },
    {
     "data": {
      "text/latex": [
       "$\\displaystyle \\frac{\\varepsilon^{3} u^{7}}{16} + \\frac{\\varepsilon^{2} u^{3} \\left(10 u^{2} + 3 u_{1}^{2}\\right)}{96} + \\frac{\\varepsilon u \\left(14 u^{2} + 3 u_{1}^{2}\\right)}{288} + \\frac{u}{144}$"
      ],
      "text/plain": [
       "\\varepsilon**3*u**7/16 + \\varepsilon**2*u**3*(10*u**2 + 3*u1**2)/96 + \\varepsilon*u*(14*u**2 + 3*u1**2)/288 + u/144"
      ]
     },
     "metadata": {},
     "output_type": "display_data"
    },
    {
     "name": "stdout",
     "output_type": "stream",
     "text": [
      "- u_{1} + u_{t}\n",
      "+h\\left(\n",
      "0\n",
      "\\right)\n",
      "+h^2\\left(\n",
      "0\n",
      "\\right)\n",
      "+h^3\\left(\n",
      "0\n",
      "\\right)\n",
      "+h^4\\left(\n",
      "\\frac{\\varepsilon^{2} u^{4} u_{1}}{10} + \\frac{\\varepsilon u_{1} \\left(3 u - u_{1}\\right) \\left(3 u + u_{1}\\right)}{120} + \\frac{u_{1}}{120}\n",
      "\\right)\n",
      "+h^5\\left(\n",
      "\\frac{\\varepsilon^{3} u^{7}}{16} + \\frac{\\varepsilon^{2} u^{3} \\left(10 u^{2} + 3 u_{1}^{2}\\right)}{96} + \\frac{\\varepsilon u \\left(14 u^{2} + 3 u_{1}^{2}\\right)}{288} + \\frac{u}{144}\n",
      "\\right)\n"
     ]
    }
   ],
   "source": [
    "f1 = NF(F1, [u(t).diff(t), u1(t).diff(t)], [F1, F2], head=False)\n",
    "prn(f1, eps)\n",
    "prnlatex(f1, eps)"
   ]
  },
  {
   "cell_type": "code",
   "execution_count": 30,
   "id": "2fb131eb",
   "metadata": {},
   "outputs": [
    {
     "name": "stdout",
     "output_type": "stream",
     "text": [
      "h^0 =>\n"
     ]
    },
    {
     "data": {
      "text/latex": [
       "$\\displaystyle \\varepsilon u^{3} + u + u1_{t}$"
      ],
      "text/plain": [
       "\\varepsilon*u**3 + u + u1_{t}"
      ]
     },
     "metadata": {},
     "output_type": "display_data"
    },
    {
     "name": "stdout",
     "output_type": "stream",
     "text": [
      "h^1 =>\n"
     ]
    },
    {
     "data": {
      "text/latex": [
       "$\\displaystyle 0$"
      ],
      "text/plain": [
       "0"
      ]
     },
     "metadata": {},
     "output_type": "display_data"
    },
    {
     "name": "stdout",
     "output_type": "stream",
     "text": [
      "h^2 =>\n"
     ]
    },
    {
     "data": {
      "text/latex": [
       "$\\displaystyle 0$"
      ],
      "text/plain": [
       "0"
      ]
     },
     "metadata": {},
     "output_type": "display_data"
    },
    {
     "name": "stdout",
     "output_type": "stream",
     "text": [
      "h^3 =>\n"
     ]
    },
    {
     "data": {
      "text/latex": [
       "$\\displaystyle 0$"
      ],
      "text/plain": [
       "0"
      ]
     },
     "metadata": {},
     "output_type": "display_data"
    },
    {
     "name": "stdout",
     "output_type": "stream",
     "text": [
      "h^4 =>\n"
     ]
    },
    {
     "data": {
      "text/latex": [
       "$\\displaystyle - \\frac{3 \\varepsilon^{3} u^{7}}{80} - \\frac{\\varepsilon^{2} u^{3} \\left(u^{2} + 4 u_{1}^{2}\\right)}{20} - \\frac{\\varepsilon u \\left(5 u^{2} + 18 u_{1}^{2}\\right)}{240} - \\frac{u}{120}$"
      ],
      "text/plain": [
       "-3*\\varepsilon**3*u**7/80 - \\varepsilon**2*u**3*(u**2 + 4*u1**2)/20 - \\varepsilon*u*(5*u**2 + 18*u1**2)/240 - u/120"
      ]
     },
     "metadata": {},
     "output_type": "display_data"
    },
    {
     "name": "stdout",
     "output_type": "stream",
     "text": [
      "h^5 =>\n"
     ]
    },
    {
     "data": {
      "text/latex": [
       "$\\displaystyle - \\frac{\\varepsilon^{2} u^{2} u_{1} \\left(2 u^{2} - u_{1}^{2}\\right)}{32} - \\frac{\\varepsilon u_{1}^{3}}{96} + \\frac{u_{1}}{144}$"
      ],
      "text/plain": [
       "-\\varepsilon**2*u**2*u1*(2*u**2 - u1**2)/32 - \\varepsilon*u1**3/96 + u1/144"
      ]
     },
     "metadata": {},
     "output_type": "display_data"
    },
    {
     "name": "stdout",
     "output_type": "stream",
     "text": [
      "\\varepsilon u^{3} + u + u1_{t}\n",
      "+h\\left(\n",
      "0\n",
      "\\right)\n",
      "+h^2\\left(\n",
      "0\n",
      "\\right)\n",
      "+h^3\\left(\n",
      "0\n",
      "\\right)\n",
      "+h^4\\left(\n",
      "- \\frac{3 \\varepsilon^{3} u^{7}}{80} - \\frac{\\varepsilon^{2} u^{3} \\left(u^{2} + 4 u_{1}^{2}\\right)}{20} - \\frac{\\varepsilon u \\left(5 u^{2} + 18 u_{1}^{2}\\right)}{240} - \\frac{u}{120}\n",
      "\\right)\n",
      "+h^5\\left(\n",
      "- \\frac{\\varepsilon^{2} u^{2} u_{1} \\left(2 u^{2} - u_{1}^{2}\\right)}{32} - \\frac{\\varepsilon u_{1}^{3}}{96} + \\frac{u_{1}}{144}\n",
      "\\right)\n"
     ]
    }
   ],
   "source": [
    "f2 = NF(F2, [u(t).diff(t), u1(t).diff(t)], [F1, F2], head=False)\n",
    "prn(f2, eps)\n",
    "prnlatex(f2, eps)"
   ]
  },
  {
   "cell_type": "code",
   "execution_count": 31,
   "id": "21253187",
   "metadata": {},
   "outputs": [
    {
     "name": "stdout",
     "output_type": "stream",
     "text": [
      "h^0 =>\n"
     ]
    },
    {
     "data": {
      "text/latex": [
       "$\\displaystyle \\varepsilon u^{3} u_{t} + u u_{t} + u_{1} u1_{t}$"
      ],
      "text/plain": [
       "\\varepsilon*u**3*u_{t} + u*u_{t} + u1*u1_{t}"
      ]
     },
     "metadata": {},
     "output_type": "display_data"
    },
    {
     "name": "stdout",
     "output_type": "stream",
     "text": [
      "h^1 =>\n"
     ]
    },
    {
     "data": {
      "text/latex": [
       "$\\displaystyle \\frac{\\varepsilon u^{2} \\left(u u_{tt} + 3 u_{t}^{2}\\right)}{2} + \\frac{u u_{tt} + u_{1} u1_{tt} + u1_{t}^{2} + u_{t}^{2}}{2}$"
      ],
      "text/plain": [
       "\\varepsilon*u**2*(u*u_{tt} + 3*u_{t}**2)/2 + (u*u_{tt} + u1*u1_{tt} + u1_{t}**2 + u_{t}**2)/2"
      ]
     },
     "metadata": {},
     "output_type": "display_data"
    },
    {
     "name": "stdout",
     "output_type": "stream",
     "text": [
      "h^2 =>\n"
     ]
    },
    {
     "data": {
      "text/latex": [
       "$\\displaystyle \\frac{\\varepsilon u \\left(u^{2} u_{ttt} + 9 u u_{tt} u_{t} + 6 u_{t}^{3}\\right)}{6} + \\frac{u u_{ttt} + u_{1} u1_{ttt} + 3 u1_{tt} u1_{t} + 3 u_{tt} u_{t}}{6}$"
      ],
      "text/plain": [
       "\\varepsilon*u*(u**2*u_{ttt} + 9*u*u_{tt}*u_{t} + 6*u_{t}**3)/6 + (u*u_{ttt} + u1*u1_{ttt} + 3*u1_{tt}*u1_{t} + 3*u_{tt}*u_{t})/6"
      ]
     },
     "metadata": {},
     "output_type": "display_data"
    },
    {
     "name": "stdout",
     "output_type": "stream",
     "text": [
      "h^3 =>\n"
     ]
    },
    {
     "data": {
      "text/latex": [
       "$\\displaystyle \\frac{\\varepsilon \\left(u^{3} u_{tttt} + 12 u^{2} u_{ttt} u_{t} + 9 u^{2} u_{tt}^{2} + 36 u u_{tt} u_{t}^{2} + 6 u_{t}^{4}\\right)}{24} + \\frac{u u_{tttt} + u_{1} u1_{tttt} + 4 u1_{ttt} u1_{t} + 3 u1_{tt}^{2} + 4 u_{ttt} u_{t} + 3 u_{tt}^{2}}{24}$"
      ],
      "text/plain": [
       "\\varepsilon*(u**3*u_{tttt} + 12*u**2*u_{ttt}*u_{t} + 9*u**2*u_{tt}**2 + 36*u*u_{tt}*u_{t}**2 + 6*u_{t}**4)/24 + (u*u_{tttt} + u1*u1_{tttt} + 4*u1_{ttt}*u1_{t} + 3*u1_{tt}**2 + 4*u_{ttt}*u_{t} + 3*u_{tt}**2)/24"
      ]
     },
     "metadata": {},
     "output_type": "display_data"
    },
    {
     "name": "stdout",
     "output_type": "stream",
     "text": [
      "h^4 =>\n"
     ]
    },
    {
     "data": {
      "text/latex": [
       "$\\displaystyle \\frac{\\varepsilon \\left(u^{3} u_{ttttt} + 15 u^{2} u_{tttt} u_{t} + 30 u^{2} u_{ttt} u_{tt} + 60 u u_{ttt} u_{t}^{2} + 90 u u_{tt}^{2} u_{t} + 60 u_{tt} u_{t}^{3}\\right)}{120} + \\frac{u u_{ttttt} + u_{1} u1_{ttttt} + 5 u1_{tttt} u1_{t} + 10 u1_{ttt} u1_{tt} + 5 u_{tttt} u_{t} + 10 u_{ttt} u_{tt}}{120}$"
      ],
      "text/plain": [
       "\\varepsilon*(u**3*u_{ttttt} + 15*u**2*u_{tttt}*u_{t} + 30*u**2*u_{ttt}*u_{tt} + 60*u*u_{ttt}*u_{t}**2 + 90*u*u_{tt}**2*u_{t} + 60*u_{tt}*u_{t}**3)/120 + (u*u_{ttttt} + u1*u1_{ttttt} + 5*u1_{tttt}*u1_{t} + 10*u1_{ttt}*u1_{tt} + 5*u_{tttt}*u_{t} + 10*u_{ttt}*u_{tt})/120"
      ]
     },
     "metadata": {},
     "output_type": "display_data"
    },
    {
     "name": "stdout",
     "output_type": "stream",
     "text": [
      "h^5 =>\n"
     ]
    },
    {
     "data": {
      "text/latex": [
       "$\\displaystyle \\frac{\\varepsilon \\left(u^{3} u_{tttttt} + 18 u^{2} u_{ttttt} u_{t} + 45 u^{2} u_{tttt} u_{tt} + 30 u^{2} u_{ttt}^{2} + 90 u u_{tttt} u_{t}^{2} + 360 u u_{ttt} u_{tt} u_{t} + 90 u u_{tt}^{3} + 120 u_{ttt} u_{t}^{3} + 270 u_{tt}^{2} u_{t}^{2}\\right)}{720} + \\frac{u u_{tttttt} + u_{1} u1_{tttttt} + 6 u1_{ttttt} u1_{t} + 15 u1_{tttt} u1_{tt} + 10 u1_{ttt}^{2} + 6 u_{ttttt} u_{t} + 15 u_{tttt} u_{tt} + 10 u_{ttt}^{2}}{720}$"
      ],
      "text/plain": [
       "\\varepsilon*(u**3*u_{tttttt} + 18*u**2*u_{ttttt}*u_{t} + 45*u**2*u_{tttt}*u_{tt} + 30*u**2*u_{ttt}**2 + 90*u*u_{tttt}*u_{t}**2 + 360*u*u_{ttt}*u_{tt}*u_{t} + 90*u*u_{tt}**3 + 120*u_{ttt}*u_{t}**3 + 270*u_{tt}**2*u_{t}**2)/720 + (u*u_{tttttt} + u1*u1_{tttttt} + 6*u1_{ttttt}*u1_{t} + 15*u1_{tttt}*u1_{tt} + 10*u1_{ttt}**2 + 6*u_{ttttt}*u_{t} + 15*u_{tttt}*u_{tt} + 10*u_{ttt}**2)/720"
      ]
     },
     "metadata": {},
     "output_type": "display_data"
    },
    {
     "name": "stdout",
     "output_type": "stream",
     "text": [
      "\\varepsilon u^{3} u_{t} + u u_{t} + u_{1} u1_{t}\n",
      "+h\\left(\n",
      "\\frac{\\varepsilon u^{2} \\left(u u_{tt} + 3 u_{t}^{2}\\right)}{2} + \\frac{u u_{tt} + u_{1} u1_{tt} + u1_{t}^{2} + u_{t}^{2}}{2}\n",
      "\\right)\n",
      "+h^2\\left(\n",
      "\\frac{\\varepsilon u \\left(u^{2} u_{ttt} + 9 u u_{tt} u_{t} + 6 u_{t}^{3}\\right)}{6} + \\frac{u u_{ttt} + u_{1} u1_{ttt} + 3 u1_{tt} u1_{t} + 3 u_{tt} u_{t}}{6}\n",
      "\\right)\n",
      "+h^3\\left(\n",
      "\\frac{\\varepsilon \\left(u^{3} u_{tttt} + 12 u^{2} u_{ttt} u_{t} + 9 u^{2} u_{tt}^{2} + 36 u u_{tt} u_{t}^{2} + 6 u_{t}^{4}\\right)}{24} + \\frac{u u_{tttt} + u_{1} u1_{tttt} + 4 u1_{ttt} u1_{t} + 3 u1_{tt}^{2} + 4 u_{ttt} u_{t} + 3 u_{tt}^{2}}{24}\n",
      "\\right)\n",
      "+h^4\\left(\n",
      "\\frac{\\varepsilon \\left(u^{3} u_{ttttt} + 15 u^{2} u_{tttt} u_{t} + 30 u^{2} u_{ttt} u_{tt} + 60 u u_{ttt} u_{t}^{2} + 90 u u_{tt}^{2} u_{t} + 60 u_{tt} u_{t}^{3}\\right)}{120} + \\frac{u u_{ttttt} + u_{1} u1_{ttttt} + 5 u1_{tttt} u1_{t} + 10 u1_{ttt} u1_{tt} + 5 u_{tttt} u_{t} + 10 u_{ttt} u_{tt}}{120}\n",
      "\\right)\n",
      "+h^5\\left(\n",
      "\\frac{\\varepsilon \\left(u^{3} u_{tttttt} + 18 u^{2} u_{ttttt} u_{t} + 45 u^{2} u_{tttt} u_{tt} + 30 u^{2} u_{ttt}^{2} + 90 u u_{tttt} u_{t}^{2} + 360 u u_{ttt} u_{tt} u_{t} + 90 u u_{tt}^{3} + 120 u_{ttt} u_{t}^{3} + 270 u_{tt}^{2} u_{t}^{2}\\right)}{720} + \\frac{u u_{tttttt} + u_{1} u1_{tttttt} + 6 u1_{ttttt} u1_{t} + 15 u1_{tttt} u1_{tt} + 10 u1_{ttt}^{2} + 6 u_{ttttt} u_{t} + 15 u_{tttt} u_{tt} + 10 u_{ttt}^{2}}{720}\n",
      "\\right)\n"
     ]
    }
   ],
   "source": [
    "F3 = clip(((T(u1(t+h))**2/2 + T(u(t+h))**2/2 + eps*T(u(t+h))**4/4) -\\\n",
    "           (T(u1(t))**2/2 + T(u(t))**2/2 + eps*T(u(t))**4/4))/h)\n",
    "prn(F3, eps)\n",
    "prnlatex(F3, eps)"
   ]
  },
  {
   "cell_type": "code",
   "execution_count": 32,
   "id": "fa3df427",
   "metadata": {},
   "outputs": [
    {
     "name": "stdout",
     "output_type": "stream",
     "text": [
      "h^0 =>\n"
     ]
    },
    {
     "data": {
      "text/latex": [
       "$\\displaystyle 0$"
      ],
      "text/plain": [
       "0"
      ]
     },
     "metadata": {},
     "output_type": "display_data"
    },
    {
     "name": "stdout",
     "output_type": "stream",
     "text": [
      "h^1 =>\n"
     ]
    },
    {
     "data": {
      "text/latex": [
       "$\\displaystyle 0$"
      ],
      "text/plain": [
       "0"
      ]
     },
     "metadata": {},
     "output_type": "display_data"
    },
    {
     "name": "stdout",
     "output_type": "stream",
     "text": [
      "h^2 =>\n"
     ]
    },
    {
     "data": {
      "text/latex": [
       "$\\displaystyle 0$"
      ],
      "text/plain": [
       "0"
      ]
     },
     "metadata": {},
     "output_type": "display_data"
    },
    {
     "name": "stdout",
     "output_type": "stream",
     "text": [
      "h^3 =>\n"
     ]
    },
    {
     "data": {
      "text/latex": [
       "$\\displaystyle 0$"
      ],
      "text/plain": [
       "0"
      ]
     },
     "metadata": {},
     "output_type": "display_data"
    },
    {
     "name": "stdout",
     "output_type": "stream",
     "text": [
      "h^4 =>\n"
     ]
    },
    {
     "data": {
      "text/latex": [
       "$\\displaystyle - \\frac{\\varepsilon^{3} u^{7} u_{1}}{16} - \\frac{\\varepsilon^{2} u^{3} u_{1} \\left(3 u^{2} - 5 u_{1}^{2}\\right)}{24} - \\frac{\\varepsilon u u_{1} \\left(3 u^{2} - 4 u_{1}^{2}\\right)}{48}$"
      ],
      "text/plain": [
       "-\\varepsilon**3*u**7*u1/16 - \\varepsilon**2*u**3*u1*(3*u**2 - 5*u1**2)/24 - \\varepsilon*u*u1*(3*u**2 - 4*u1**2)/48"
      ]
     },
     "metadata": {},
     "output_type": "display_data"
    },
    {
     "name": "stdout",
     "output_type": "stream",
     "text": [
      "h^5 =>\n"
     ]
    },
    {
     "data": {
      "text/latex": [
       "$\\displaystyle - \\frac{\\varepsilon^{4} u^{10}}{32} - \\frac{\\varepsilon^{3} u^{6} \\left(7 u^{2} + 54 u_{1}^{2}\\right)}{96} - \\frac{\\varepsilon^{2} u^{2} \\left(17 u^{4} + 210 u^{2} u_{1}^{2} - 81 u_{1}^{4}\\right)}{288} - \\frac{\\varepsilon \\left(7 u^{4} + 66 u^{2} u_{1}^{2} - 15 u_{1}^{4}\\right)}{288} - \\frac{u^{2} + u_{1}^{2}}{144}$"
      ],
      "text/plain": [
       "-\\varepsilon**4*u**10/32 - \\varepsilon**3*u**6*(7*u**2 + 54*u1**2)/96 - \\varepsilon**2*u**2*(17*u**4 + 210*u**2*u1**2 - 81*u1**4)/288 - \\varepsilon*(7*u**4 + 66*u**2*u1**2 - 15*u1**4)/288 - (u**2 + u1**2)/144"
      ]
     },
     "metadata": {},
     "output_type": "display_data"
    },
    {
     "name": "stdout",
     "output_type": "stream",
     "text": [
      "0\n",
      "+h\\left(\n",
      "0\n",
      "\\right)\n",
      "+h^2\\left(\n",
      "0\n",
      "\\right)\n",
      "+h^3\\left(\n",
      "0\n",
      "\\right)\n",
      "+h^4\\left(\n",
      "- \\frac{\\varepsilon^{3} u^{7} u_{1}}{16} - \\frac{\\varepsilon^{2} u^{3} u_{1} \\left(3 u^{2} - 5 u_{1}^{2}\\right)}{24} - \\frac{\\varepsilon u u_{1} \\left(3 u^{2} - 4 u_{1}^{2}\\right)}{48}\n",
      "\\right)\n",
      "+h^5\\left(\n",
      "- \\frac{\\varepsilon^{4} u^{10}}{32} - \\frac{\\varepsilon^{3} u^{6} \\left(7 u^{2} + 54 u_{1}^{2}\\right)}{96} - \\frac{\\varepsilon^{2} u^{2} \\left(17 u^{4} + 210 u^{2} u_{1}^{2} - 81 u_{1}^{4}\\right)}{288} - \\frac{\\varepsilon \\left(7 u^{4} + 66 u^{2} u_{1}^{2} - 15 u_{1}^{4}\\right)}{288} - \\frac{u^{2} + u_{1}^{2}}{144}\n",
      "\\right)\n"
     ]
    }
   ],
   "source": [
    "f3 = NF(F3, [u(t).diff(t), u1(t).diff(t)], [f1, f2], head=True)\n",
    "prn(f3, eps)\n",
    "prnlatex(f3, eps)"
   ]
  },
  {
   "cell_type": "code",
   "execution_count": 33,
   "id": "cd8da1a8",
   "metadata": {},
   "outputs": [
    {
     "name": "stdout",
     "output_type": "stream",
     "text": [
      "-eps**3*y[0]**7*y[1]/16 + eps**2*(-y[0]**5*y[1]/8 + 5*y[0]**3*y[1]**3/24) + eps*(-y[0]**3*y[1]/16 + y[0]*y[1]**3/12)\n"
     ]
    }
   ],
   "source": [
    "print(replace(str(f3[4].collect(eps))))"
   ]
  },
  {
   "cell_type": "markdown",
   "id": "ebb63d8d",
   "metadata": {},
   "source": [
    "## Dormand–Prince method 5 order"
   ]
  },
  {
   "cell_type": "code",
   "execution_count": 34,
   "id": "c9008e28",
   "metadata": {},
   "outputs": [],
   "source": [
    "set_clip(8, 7, Rational(0, 1))\n",
    "r = DormandPrince5(f, Matrix([u(t), u1(t)]))"
   ]
  },
  {
   "cell_type": "code",
   "execution_count": 35,
   "id": "05bfe739",
   "metadata": {},
   "outputs": [
    {
     "name": "stdout",
     "output_type": "stream",
     "text": [
      "h^0 =>\n"
     ]
    },
    {
     "data": {
      "text/latex": [
       "$\\displaystyle - u_{1} + u_{t}$"
      ],
      "text/plain": [
       "-u1 + u_{t}"
      ]
     },
     "metadata": {},
     "output_type": "display_data"
    },
    {
     "name": "stdout",
     "output_type": "stream",
     "text": [
      "h^1 =>\n"
     ]
    },
    {
     "data": {
      "text/latex": [
       "$\\displaystyle \\frac{\\varepsilon u^{3}}{2} + \\frac{u + u_{tt}}{2}$"
      ],
      "text/plain": [
       "\\varepsilon*u**3/2 + (u + u_{tt})/2"
      ]
     },
     "metadata": {},
     "output_type": "display_data"
    },
    {
     "name": "stdout",
     "output_type": "stream",
     "text": [
      "h^2 =>\n"
     ]
    },
    {
     "data": {
      "text/latex": [
       "$\\displaystyle \\frac{\\varepsilon u^{2} u_{1}}{2} + \\frac{u_{1} + u_{ttt}}{6}$"
      ],
      "text/plain": [
       "\\varepsilon*u**2*u1/2 + (u1 + u_{ttt})/6"
      ]
     },
     "metadata": {},
     "output_type": "display_data"
    },
    {
     "name": "stdout",
     "output_type": "stream",
     "text": [
      "h^3 =>\n"
     ]
    },
    {
     "data": {
      "text/latex": [
       "$\\displaystyle - \\frac{\\varepsilon^{2} u^{5}}{8} - \\frac{\\varepsilon u \\left(2 u^{2} - 3 u_{1}^{2}\\right)}{12} - \\frac{u - u_{tttt}}{24}$"
      ],
      "text/plain": [
       "-\\varepsilon**2*u**5/8 - \\varepsilon*u*(2*u**2 - 3*u1**2)/12 - (u - u_{tttt})/24"
      ]
     },
     "metadata": {},
     "output_type": "display_data"
    },
    {
     "name": "stdout",
     "output_type": "stream",
     "text": [
      "h^4 =>\n"
     ]
    },
    {
     "data": {
      "text/latex": [
       "$\\displaystyle - \\frac{9 \\varepsilon^{2} u^{4} u_{1}}{40} - \\frac{\\varepsilon u_{1} \\left(2 u - u_{1}\\right) \\left(2 u + u_{1}\\right)}{20} - \\frac{u_{1} - u_{ttttt}}{120}$"
      ],
      "text/plain": [
       "-9*\\varepsilon**2*u**4*u1/40 - \\varepsilon*u1*(2*u - u1)*(2*u + u1)/20 - (u1 - u_{ttttt})/120"
      ]
     },
     "metadata": {},
     "output_type": "display_data"
    },
    {
     "name": "stdout",
     "output_type": "stream",
     "text": [
      "h^5 =>\n"
     ]
    },
    {
     "data": {
      "text/latex": [
       "$\\displaystyle \\frac{289 \\varepsilon^{3} u^{7}}{7200} + \\frac{\\varepsilon^{2} u^{3} \\left(271 u^{2} - 631 u_{1}^{2}\\right)}{3600} + \\frac{\\varepsilon u \\left(265 u^{2} - 662 u_{1}^{2}\\right)}{7200} + \\frac{6 u + 5 u_{tttttt}}{3600}$"
      ],
      "text/plain": [
       "289*\\varepsilon**3*u**7/7200 + \\varepsilon**2*u**3*(271*u**2 - 631*u1**2)/3600 + \\varepsilon*u*(265*u**2 - 662*u1**2)/7200 + (6*u + 5*u_{tttttt})/3600"
      ]
     },
     "metadata": {},
     "output_type": "display_data"
    },
    {
     "name": "stdout",
     "output_type": "stream",
     "text": [
      "h^6 =>\n"
     ]
    },
    {
     "data": {
      "text/latex": [
       "$\\displaystyle \\frac{54719 \\varepsilon^{3} u^{6} u_{1}}{648000} + \\frac{\\varepsilon^{2} u^{2} u_{1} \\left(40295 u^{2} - 23184 u_{1}^{2}\\right)}{324000} + \\frac{\\varepsilon u_{1} \\left(25871 u^{2} - 7296 u_{1}^{2}\\right)}{648000} + \\frac{u_{ttttttt}}{5040}$"
      ],
      "text/plain": [
       "54719*\\varepsilon**3*u**6*u1/648000 + \\varepsilon**2*u**2*u1*(40295*u**2 - 23184*u1**2)/324000 + \\varepsilon*u1*(25871*u**2 - 7296*u1**2)/648000 + u_{ttttttt}/5040"
      ]
     },
     "metadata": {},
     "output_type": "display_data"
    },
    {
     "name": "stdout",
     "output_type": "stream",
     "text": [
      "- u_{1} + u_{t}\n",
      "+h\\left(\n",
      "\\frac{\\varepsilon u^{3}}{2} + \\frac{u + u_{tt}}{2}\n",
      "\\right)\n",
      "+h^2\\left(\n",
      "\\frac{\\varepsilon u^{2} u_{1}}{2} + \\frac{u_{1} + u_{ttt}}{6}\n",
      "\\right)\n",
      "+h^3\\left(\n",
      "- \\frac{\\varepsilon^{2} u^{5}}{8} - \\frac{\\varepsilon u \\left(2 u^{2} - 3 u_{1}^{2}\\right)}{12} - \\frac{u - u_{tttt}}{24}\n",
      "\\right)\n",
      "+h^4\\left(\n",
      "- \\frac{9 \\varepsilon^{2} u^{4} u_{1}}{40} - \\frac{\\varepsilon u_{1} \\left(2 u - u_{1}\\right) \\left(2 u + u_{1}\\right)}{20} - \\frac{u_{1} - u_{ttttt}}{120}\n",
      "\\right)\n",
      "+h^5\\left(\n",
      "\\frac{289 \\varepsilon^{3} u^{7}}{7200} + \\frac{\\varepsilon^{2} u^{3} \\left(271 u^{2} - 631 u_{1}^{2}\\right)}{3600} + \\frac{\\varepsilon u \\left(265 u^{2} - 662 u_{1}^{2}\\right)}{7200} + \\frac{6 u + 5 u_{tttttt}}{3600}\n",
      "\\right)\n",
      "+h^6\\left(\n",
      "\\frac{54719 \\varepsilon^{3} u^{6} u_{1}}{648000} + \\frac{\\varepsilon^{2} u^{2} u_{1} \\left(40295 u^{2} - 23184 u_{1}^{2}\\right)}{324000} + \\frac{\\varepsilon u_{1} \\left(25871 u^{2} - 7296 u_{1}^{2}\\right)}{648000} + \\frac{u_{ttttttt}}{5040}\n",
      "\\right)\n"
     ]
    }
   ],
   "source": [
    "F1 = clip((T(u(t+h))-T(u(t)))/h - T(r[0]))\n",
    "prn(F1, eps)\n",
    "prnlatex(F1, eps)"
   ]
  },
  {
   "cell_type": "code",
   "execution_count": 36,
   "id": "1d4cf787",
   "metadata": {},
   "outputs": [
    {
     "name": "stdout",
     "output_type": "stream",
     "text": [
      "h^0 =>\n"
     ]
    },
    {
     "data": {
      "text/latex": [
       "$\\displaystyle \\varepsilon u^{3} + u + u1_{t}$"
      ],
      "text/plain": [
       "\\varepsilon*u**3 + u + u1_{t}"
      ]
     },
     "metadata": {},
     "output_type": "display_data"
    },
    {
     "name": "stdout",
     "output_type": "stream",
     "text": [
      "h^1 =>\n"
     ]
    },
    {
     "data": {
      "text/latex": [
       "$\\displaystyle \\frac{3 \\varepsilon u^{2} u_{1}}{2} + \\frac{u_{1} + u1_{tt}}{2}$"
      ],
      "text/plain": [
       "3*\\varepsilon*u**2*u1/2 + (u1 + u1_{tt})/2"
      ]
     },
     "metadata": {},
     "output_type": "display_data"
    },
    {
     "name": "stdout",
     "output_type": "stream",
     "text": [
      "h^2 =>\n"
     ]
    },
    {
     "data": {
      "text/latex": [
       "$\\displaystyle - \\frac{\\varepsilon^{2} u^{5}}{2} - \\frac{\\varepsilon u \\left(2 u^{2} - 3 u_{1}^{2}\\right)}{3} - \\frac{u - u1_{ttt}}{6}$"
      ],
      "text/plain": [
       "-\\varepsilon**2*u**5/2 - \\varepsilon*u*(2*u**2 - 3*u1**2)/3 - (u - u1_{ttt})/6"
      ]
     },
     "metadata": {},
     "output_type": "display_data"
    },
    {
     "name": "stdout",
     "output_type": "stream",
     "text": [
      "h^3 =>\n"
     ]
    },
    {
     "data": {
      "text/latex": [
       "$\\displaystyle - \\frac{9 \\varepsilon^{2} u^{4} u_{1}}{8} - \\frac{\\varepsilon u_{1} \\left(2 u - u_{1}\\right) \\left(2 u + u_{1}\\right)}{4} - \\frac{u_{1} - u1_{tttt}}{24}$"
      ],
      "text/plain": [
       "-9*\\varepsilon**2*u**4*u1/8 - \\varepsilon*u1*(2*u - u1)*(2*u + u1)/4 - (u1 - u1_{tttt})/24"
      ]
     },
     "metadata": {},
     "output_type": "display_data"
    },
    {
     "name": "stdout",
     "output_type": "stream",
     "text": [
      "h^4 =>\n"
     ]
    },
    {
     "data": {
      "text/latex": [
       "$\\displaystyle \\frac{9 \\varepsilon^{3} u^{7}}{40} + \\frac{\\varepsilon^{2} u^{3} \\left(17 u^{2} - 42 u_{1}^{2}\\right)}{40} + \\frac{\\varepsilon u \\left(25 u^{2} - 66 u_{1}^{2}\\right)}{120} + \\frac{u + u1_{ttttt}}{120}$"
      ],
      "text/plain": [
       "9*\\varepsilon**3*u**7/40 + \\varepsilon**2*u**3*(17*u**2 - 42*u1**2)/40 + \\varepsilon*u*(25*u**2 - 66*u1**2)/120 + (u + u1_{ttttt})/120"
      ]
     },
     "metadata": {},
     "output_type": "display_data"
    },
    {
     "name": "stdout",
     "output_type": "stream",
     "text": [
      "h^5 =>\n"
     ]
    },
    {
     "data": {
      "text/latex": [
       "$\\displaystyle \\frac{4427 \\varepsilon^{3} u^{6} u_{1}}{7200} + \\frac{\\varepsilon^{2} u^{2} u_{1} \\left(3197 u^{2} - 1890 u_{1}^{2}\\right)}{3600} + \\frac{\\varepsilon u_{1} \\left(415 u^{2} - 132 u_{1}^{2}\\right)}{1440} + \\frac{6 u_{1} + 5 u1_{tttttt}}{3600}$"
      ],
      "text/plain": [
       "4427*\\varepsilon**3*u**6*u1/7200 + \\varepsilon**2*u**2*u1*(3197*u**2 - 1890*u1**2)/3600 + \\varepsilon*u1*(415*u**2 - 132*u1**2)/1440 + (6*u1 + 5*u1_{tttttt})/3600"
      ]
     },
     "metadata": {},
     "output_type": "display_data"
    },
    {
     "name": "stdout",
     "output_type": "stream",
     "text": [
      "h^6 =>\n"
     ]
    },
    {
     "data": {
      "text/latex": [
       "$\\displaystyle - \\frac{296101 \\varepsilon^{4} u^{9}}{3888000} - \\frac{\\varepsilon^{3} u^{5} \\left(2703107 u^{2} - 8601660 u_{1}^{2}\\right)}{14256000} - \\frac{\\varepsilon^{2} u \\left(2149103 u^{4} - 9610752 u^{2} u_{1}^{2} + 2149488 u_{1}^{4}\\right)}{14256000} - \\frac{\\varepsilon u \\left(1595099 u^{2} - 4480524 u_{1}^{2}\\right)}{42768000} + \\frac{u1_{ttttttt}}{5040}$"
      ],
      "text/plain": [
       "-296101*\\varepsilon**4*u**9/3888000 - \\varepsilon**3*u**5*(2703107*u**2 - 8601660*u1**2)/14256000 - \\varepsilon**2*u*(2149103*u**4 - 9610752*u**2*u1**2 + 2149488*u1**4)/14256000 - \\varepsilon*u*(1595099*u**2 - 4480524*u1**2)/42768000 + u1_{ttttttt}/5040"
      ]
     },
     "metadata": {},
     "output_type": "display_data"
    },
    {
     "name": "stdout",
     "output_type": "stream",
     "text": [
      "\\varepsilon u^{3} + u + u1_{t}\n",
      "+h\\left(\n",
      "\\frac{3 \\varepsilon u^{2} u_{1}}{2} + \\frac{u_{1} + u1_{tt}}{2}\n",
      "\\right)\n",
      "+h^2\\left(\n",
      "- \\frac{\\varepsilon^{2} u^{5}}{2} - \\frac{\\varepsilon u \\left(2 u^{2} - 3 u_{1}^{2}\\right)}{3} - \\frac{u - u1_{ttt}}{6}\n",
      "\\right)\n",
      "+h^3\\left(\n",
      "- \\frac{9 \\varepsilon^{2} u^{4} u_{1}}{8} - \\frac{\\varepsilon u_{1} \\left(2 u - u_{1}\\right) \\left(2 u + u_{1}\\right)}{4} - \\frac{u_{1} - u1_{tttt}}{24}\n",
      "\\right)\n",
      "+h^4\\left(\n",
      "\\frac{9 \\varepsilon^{3} u^{7}}{40} + \\frac{\\varepsilon^{2} u^{3} \\left(17 u^{2} - 42 u_{1}^{2}\\right)}{40} + \\frac{\\varepsilon u \\left(25 u^{2} - 66 u_{1}^{2}\\right)}{120} + \\frac{u + u1_{ttttt}}{120}\n",
      "\\right)\n",
      "+h^5\\left(\n",
      "\\frac{4427 \\varepsilon^{3} u^{6} u_{1}}{7200} + \\frac{\\varepsilon^{2} u^{2} u_{1} \\left(3197 u^{2} - 1890 u_{1}^{2}\\right)}{3600} + \\frac{\\varepsilon u_{1} \\left(415 u^{2} - 132 u_{1}^{2}\\right)}{1440} + \\frac{6 u_{1} + 5 u1_{tttttt}}{3600}\n",
      "\\right)\n",
      "+h^6\\left(\n",
      "- \\frac{296101 \\varepsilon^{4} u^{9}}{3888000} - \\frac{\\varepsilon^{3} u^{5} \\left(2703107 u^{2} - 8601660 u_{1}^{2}\\right)}{14256000} - \\frac{\\varepsilon^{2} u \\left(2149103 u^{4} - 9610752 u^{2} u_{1}^{2} + 2149488 u_{1}^{4}\\right)}{14256000} - \\frac{\\varepsilon u \\left(1595099 u^{2} - 4480524 u_{1}^{2}\\right)}{42768000} + \\frac{u1_{ttttttt}}{5040}\n",
      "\\right)\n"
     ]
    }
   ],
   "source": [
    "F2 = clip((T(u1(t+h))-T(u1(t)))/h - T(r[1]))\n",
    "prn(F2, eps)\n",
    "prnlatex(F2, eps)"
   ]
  },
  {
   "cell_type": "code",
   "execution_count": 37,
   "id": "d8a664f6",
   "metadata": {},
   "outputs": [
    {
     "name": "stdout",
     "output_type": "stream",
     "text": [
      "h^0 =>\n"
     ]
    },
    {
     "data": {
      "text/latex": [
       "$\\displaystyle - u_{1} + u_{t}$"
      ],
      "text/plain": [
       "-u1 + u_{t}"
      ]
     },
     "metadata": {},
     "output_type": "display_data"
    },
    {
     "name": "stdout",
     "output_type": "stream",
     "text": [
      "h^1 =>\n"
     ]
    },
    {
     "data": {
      "text/latex": [
       "$\\displaystyle 0$"
      ],
      "text/plain": [
       "0"
      ]
     },
     "metadata": {},
     "output_type": "display_data"
    },
    {
     "name": "stdout",
     "output_type": "stream",
     "text": [
      "h^2 =>\n"
     ]
    },
    {
     "data": {
      "text/latex": [
       "$\\displaystyle 0$"
      ],
      "text/plain": [
       "0"
      ]
     },
     "metadata": {},
     "output_type": "display_data"
    },
    {
     "name": "stdout",
     "output_type": "stream",
     "text": [
      "h^3 =>\n"
     ]
    },
    {
     "data": {
      "text/latex": [
       "$\\displaystyle 0$"
      ],
      "text/plain": [
       "0"
      ]
     },
     "metadata": {},
     "output_type": "display_data"
    },
    {
     "name": "stdout",
     "output_type": "stream",
     "text": [
      "h^4 =>\n"
     ]
    },
    {
     "data": {
      "text/latex": [
       "$\\displaystyle 0$"
      ],
      "text/plain": [
       "0"
      ]
     },
     "metadata": {},
     "output_type": "display_data"
    },
    {
     "name": "stdout",
     "output_type": "stream",
     "text": [
      "h^5 =>\n"
     ]
    },
    {
     "data": {
      "text/latex": [
       "$\\displaystyle \\frac{19 \\varepsilon^{3} u^{7}}{7200} + \\frac{\\varepsilon^{2} u^{3} \\left(4 u - u_{1}\\right) \\left(4 u + u_{1}\\right)}{3600} + \\frac{\\varepsilon u \\left(15 u^{2} - 2 u_{1}^{2}\\right)}{7200} + \\frac{u}{3600}$"
      ],
      "text/plain": [
       "19*\\varepsilon**3*u**7/7200 + \\varepsilon**2*u**3*(4*u - u1)*(4*u + u1)/3600 + \\varepsilon*u*(15*u**2 - 2*u1**2)/7200 + u/3600"
      ]
     },
     "metadata": {},
     "output_type": "display_data"
    },
    {
     "name": "stdout",
     "output_type": "stream",
     "text": [
      "h^6 =>\n"
     ]
    },
    {
     "data": {
      "text/latex": [
       "$\\displaystyle - \\frac{8911 \\varepsilon^{3} u^{6} u_{1}}{648000} - \\frac{\\varepsilon^{2} u^{2} u_{1} \\left(32575 u^{2} - 8757 u_{1}^{2}\\right)}{2268000} - \\frac{\\varepsilon u_{1} \\left(22213 u^{2} - 8958 u_{1}^{2}\\right)}{4536000} - \\frac{u_{1}}{2100}$"
      ],
      "text/plain": [
       "-8911*\\varepsilon**3*u**6*u1/648000 - \\varepsilon**2*u**2*u1*(32575*u**2 - 8757*u1**2)/2268000 - \\varepsilon*u1*(22213*u**2 - 8958*u1**2)/4536000 - u1/2100"
      ]
     },
     "metadata": {},
     "output_type": "display_data"
    },
    {
     "name": "stdout",
     "output_type": "stream",
     "text": [
      "- u_{1} + u_{t}\n",
      "+h\\left(\n",
      "0\n",
      "\\right)\n",
      "+h^2\\left(\n",
      "0\n",
      "\\right)\n",
      "+h^3\\left(\n",
      "0\n",
      "\\right)\n",
      "+h^4\\left(\n",
      "0\n",
      "\\right)\n",
      "+h^5\\left(\n",
      "\\frac{19 \\varepsilon^{3} u^{7}}{7200} + \\frac{\\varepsilon^{2} u^{3} \\left(4 u - u_{1}\\right) \\left(4 u + u_{1}\\right)}{3600} + \\frac{\\varepsilon u \\left(15 u^{2} - 2 u_{1}^{2}\\right)}{7200} + \\frac{u}{3600}\n",
      "\\right)\n",
      "+h^6\\left(\n",
      "- \\frac{8911 \\varepsilon^{3} u^{6} u_{1}}{648000} - \\frac{\\varepsilon^{2} u^{2} u_{1} \\left(32575 u^{2} - 8757 u_{1}^{2}\\right)}{2268000} - \\frac{\\varepsilon u_{1} \\left(22213 u^{2} - 8958 u_{1}^{2}\\right)}{4536000} - \\frac{u_{1}}{2100}\n",
      "\\right)\n"
     ]
    }
   ],
   "source": [
    "f1 = NF(F1, [u(t).diff(t), u1(t).diff(t)], [F1, F2], head=False)\n",
    "prn(f1, eps)\n",
    "prnlatex(f1, eps)"
   ]
  },
  {
   "cell_type": "code",
   "execution_count": 38,
   "id": "a760d3cf",
   "metadata": {},
   "outputs": [
    {
     "name": "stdout",
     "output_type": "stream",
     "text": [
      "h^0 =>\n"
     ]
    },
    {
     "data": {
      "text/latex": [
       "$\\displaystyle \\varepsilon u^{3} + u + u1_{t}$"
      ],
      "text/plain": [
       "\\varepsilon*u**3 + u + u1_{t}"
      ]
     },
     "metadata": {},
     "output_type": "display_data"
    },
    {
     "name": "stdout",
     "output_type": "stream",
     "text": [
      "h^1 =>\n"
     ]
    },
    {
     "data": {
      "text/latex": [
       "$\\displaystyle 0$"
      ],
      "text/plain": [
       "0"
      ]
     },
     "metadata": {},
     "output_type": "display_data"
    },
    {
     "name": "stdout",
     "output_type": "stream",
     "text": [
      "h^2 =>\n"
     ]
    },
    {
     "data": {
      "text/latex": [
       "$\\displaystyle 0$"
      ],
      "text/plain": [
       "0"
      ]
     },
     "metadata": {},
     "output_type": "display_data"
    },
    {
     "name": "stdout",
     "output_type": "stream",
     "text": [
      "h^3 =>\n"
     ]
    },
    {
     "data": {
      "text/latex": [
       "$\\displaystyle 0$"
      ],
      "text/plain": [
       "0"
      ]
     },
     "metadata": {},
     "output_type": "display_data"
    },
    {
     "name": "stdout",
     "output_type": "stream",
     "text": [
      "h^4 =>\n"
     ]
    },
    {
     "data": {
      "text/latex": [
       "$\\displaystyle 0$"
      ],
      "text/plain": [
       "0"
      ]
     },
     "metadata": {},
     "output_type": "display_data"
    },
    {
     "name": "stdout",
     "output_type": "stream",
     "text": [
      "h^5 =>\n"
     ]
    },
    {
     "data": {
      "text/latex": [
       "$\\displaystyle \\frac{17 \\varepsilon^{3} u^{6} u_{1}}{7200} + \\frac{\\varepsilon^{2} u^{4} u_{1}}{1800} + \\frac{\\varepsilon u^{2} u_{1}}{1440} + \\frac{u_{1}}{3600}$"
      ],
      "text/plain": [
       "17*\\varepsilon**3*u**6*u1/7200 + \\varepsilon**2*u**4*u1/1800 + \\varepsilon*u**2*u1/1440 + u1/3600"
      ]
     },
     "metadata": {},
     "output_type": "display_data"
    },
    {
     "name": "stdout",
     "output_type": "stream",
     "text": [
      "h^6 =>\n"
     ]
    },
    {
     "data": {
      "text/latex": [
       "$\\displaystyle \\frac{64079 \\varepsilon^{4} u^{9}}{3888000} + \\frac{\\varepsilon^{3} u^{5} \\left(3404731 u^{2} - 15380820 u_{1}^{2}\\right)}{99792000} + \\frac{\\varepsilon^{2} u \\left(2303059 u^{4} - 9873456 u^{2} u_{1}^{2} - 77616 u_{1}^{4}\\right)}{99792000} + \\frac{\\varepsilon u \\left(1771627 u^{2} - 5238612 u_{1}^{2}\\right)}{299376000} + \\frac{u}{2100}$"
      ],
      "text/plain": [
       "64079*\\varepsilon**4*u**9/3888000 + \\varepsilon**3*u**5*(3404731*u**2 - 15380820*u1**2)/99792000 + \\varepsilon**2*u*(2303059*u**4 - 9873456*u**2*u1**2 - 77616*u1**4)/99792000 + \\varepsilon*u*(1771627*u**2 - 5238612*u1**2)/299376000 + u/2100"
      ]
     },
     "metadata": {},
     "output_type": "display_data"
    },
    {
     "name": "stdout",
     "output_type": "stream",
     "text": [
      "\\varepsilon u^{3} + u + u1_{t}\n",
      "+h\\left(\n",
      "0\n",
      "\\right)\n",
      "+h^2\\left(\n",
      "0\n",
      "\\right)\n",
      "+h^3\\left(\n",
      "0\n",
      "\\right)\n",
      "+h^4\\left(\n",
      "0\n",
      "\\right)\n",
      "+h^5\\left(\n",
      "\\frac{17 \\varepsilon^{3} u^{6} u_{1}}{7200} + \\frac{\\varepsilon^{2} u^{4} u_{1}}{1800} + \\frac{\\varepsilon u^{2} u_{1}}{1440} + \\frac{u_{1}}{3600}\n",
      "\\right)\n",
      "+h^6\\left(\n",
      "\\frac{64079 \\varepsilon^{4} u^{9}}{3888000} + \\frac{\\varepsilon^{3} u^{5} \\left(3404731 u^{2} - 15380820 u_{1}^{2}\\right)}{99792000} + \\frac{\\varepsilon^{2} u \\left(2303059 u^{4} - 9873456 u^{2} u_{1}^{2} - 77616 u_{1}^{4}\\right)}{99792000} + \\frac{\\varepsilon u \\left(1771627 u^{2} - 5238612 u_{1}^{2}\\right)}{299376000} + \\frac{u}{2100}\n",
      "\\right)\n"
     ]
    }
   ],
   "source": [
    "f2 = NF(F2, [u(t).diff(t), u1(t).diff(t)], [F1, F2], head=False)\n",
    "prn(f2, eps)\n",
    "prnlatex(f2, eps)"
   ]
  },
  {
   "cell_type": "code",
   "execution_count": 39,
   "id": "ad89bf02",
   "metadata": {},
   "outputs": [
    {
     "name": "stdout",
     "output_type": "stream",
     "text": [
      "h^0 =>\n"
     ]
    },
    {
     "data": {
      "text/latex": [
       "$\\displaystyle \\varepsilon u^{3} u_{t} + u u_{t} + u_{1} u1_{t}$"
      ],
      "text/plain": [
       "\\varepsilon*u**3*u_{t} + u*u_{t} + u1*u1_{t}"
      ]
     },
     "metadata": {},
     "output_type": "display_data"
    },
    {
     "name": "stdout",
     "output_type": "stream",
     "text": [
      "h^1 =>\n"
     ]
    },
    {
     "data": {
      "text/latex": [
       "$\\displaystyle \\frac{\\varepsilon u^{2} \\left(u u_{tt} + 3 u_{t}^{2}\\right)}{2} + \\frac{u u_{tt} + u_{1} u1_{tt} + u1_{t}^{2} + u_{t}^{2}}{2}$"
      ],
      "text/plain": [
       "\\varepsilon*u**2*(u*u_{tt} + 3*u_{t}**2)/2 + (u*u_{tt} + u1*u1_{tt} + u1_{t}**2 + u_{t}**2)/2"
      ]
     },
     "metadata": {},
     "output_type": "display_data"
    },
    {
     "name": "stdout",
     "output_type": "stream",
     "text": [
      "h^2 =>\n"
     ]
    },
    {
     "data": {
      "text/latex": [
       "$\\displaystyle \\frac{\\varepsilon u \\left(u^{2} u_{ttt} + 9 u u_{tt} u_{t} + 6 u_{t}^{3}\\right)}{6} + \\frac{u u_{ttt} + u_{1} u1_{ttt} + 3 u1_{tt} u1_{t} + 3 u_{tt} u_{t}}{6}$"
      ],
      "text/plain": [
       "\\varepsilon*u*(u**2*u_{ttt} + 9*u*u_{tt}*u_{t} + 6*u_{t}**3)/6 + (u*u_{ttt} + u1*u1_{ttt} + 3*u1_{tt}*u1_{t} + 3*u_{tt}*u_{t})/6"
      ]
     },
     "metadata": {},
     "output_type": "display_data"
    },
    {
     "name": "stdout",
     "output_type": "stream",
     "text": [
      "h^3 =>\n"
     ]
    },
    {
     "data": {
      "text/latex": [
       "$\\displaystyle \\frac{\\varepsilon \\left(u^{3} u_{tttt} + 12 u^{2} u_{ttt} u_{t} + 9 u^{2} u_{tt}^{2} + 36 u u_{tt} u_{t}^{2} + 6 u_{t}^{4}\\right)}{24} + \\frac{u u_{tttt} + u_{1} u1_{tttt} + 4 u1_{ttt} u1_{t} + 3 u1_{tt}^{2} + 4 u_{ttt} u_{t} + 3 u_{tt}^{2}}{24}$"
      ],
      "text/plain": [
       "\\varepsilon*(u**3*u_{tttt} + 12*u**2*u_{ttt}*u_{t} + 9*u**2*u_{tt}**2 + 36*u*u_{tt}*u_{t}**2 + 6*u_{t}**4)/24 + (u*u_{tttt} + u1*u1_{tttt} + 4*u1_{ttt}*u1_{t} + 3*u1_{tt}**2 + 4*u_{ttt}*u_{t} + 3*u_{tt}**2)/24"
      ]
     },
     "metadata": {},
     "output_type": "display_data"
    },
    {
     "name": "stdout",
     "output_type": "stream",
     "text": [
      "h^4 =>\n"
     ]
    },
    {
     "data": {
      "text/latex": [
       "$\\displaystyle \\frac{\\varepsilon \\left(u^{3} u_{ttttt} + 15 u^{2} u_{tttt} u_{t} + 30 u^{2} u_{ttt} u_{tt} + 60 u u_{ttt} u_{t}^{2} + 90 u u_{tt}^{2} u_{t} + 60 u_{tt} u_{t}^{3}\\right)}{120} + \\frac{u u_{ttttt} + u_{1} u1_{ttttt} + 5 u1_{tttt} u1_{t} + 10 u1_{ttt} u1_{tt} + 5 u_{tttt} u_{t} + 10 u_{ttt} u_{tt}}{120}$"
      ],
      "text/plain": [
       "\\varepsilon*(u**3*u_{ttttt} + 15*u**2*u_{tttt}*u_{t} + 30*u**2*u_{ttt}*u_{tt} + 60*u*u_{ttt}*u_{t}**2 + 90*u*u_{tt}**2*u_{t} + 60*u_{tt}*u_{t}**3)/120 + (u*u_{ttttt} + u1*u1_{ttttt} + 5*u1_{tttt}*u1_{t} + 10*u1_{ttt}*u1_{tt} + 5*u_{tttt}*u_{t} + 10*u_{ttt}*u_{tt})/120"
      ]
     },
     "metadata": {},
     "output_type": "display_data"
    },
    {
     "name": "stdout",
     "output_type": "stream",
     "text": [
      "h^5 =>\n"
     ]
    },
    {
     "data": {
      "text/latex": [
       "$\\displaystyle \\frac{\\varepsilon \\left(u^{3} u_{tttttt} + 18 u^{2} u_{ttttt} u_{t} + 45 u^{2} u_{tttt} u_{tt} + 30 u^{2} u_{ttt}^{2} + 90 u u_{tttt} u_{t}^{2} + 360 u u_{ttt} u_{tt} u_{t} + 90 u u_{tt}^{3} + 120 u_{ttt} u_{t}^{3} + 270 u_{tt}^{2} u_{t}^{2}\\right)}{720} + \\frac{u u_{tttttt} + u_{1} u1_{tttttt} + 6 u1_{ttttt} u1_{t} + 15 u1_{tttt} u1_{tt} + 10 u1_{ttt}^{2} + 6 u_{ttttt} u_{t} + 15 u_{tttt} u_{tt} + 10 u_{ttt}^{2}}{720}$"
      ],
      "text/plain": [
       "\\varepsilon*(u**3*u_{tttttt} + 18*u**2*u_{ttttt}*u_{t} + 45*u**2*u_{tttt}*u_{tt} + 30*u**2*u_{ttt}**2 + 90*u*u_{tttt}*u_{t}**2 + 360*u*u_{ttt}*u_{tt}*u_{t} + 90*u*u_{tt}**3 + 120*u_{ttt}*u_{t}**3 + 270*u_{tt}**2*u_{t}**2)/720 + (u*u_{tttttt} + u1*u1_{tttttt} + 6*u1_{ttttt}*u1_{t} + 15*u1_{tttt}*u1_{tt} + 10*u1_{ttt}**2 + 6*u_{ttttt}*u_{t} + 15*u_{tttt}*u_{tt} + 10*u_{ttt}**2)/720"
      ]
     },
     "metadata": {},
     "output_type": "display_data"
    },
    {
     "name": "stdout",
     "output_type": "stream",
     "text": [
      "h^6 =>\n"
     ]
    },
    {
     "data": {
      "text/latex": [
       "$\\displaystyle \\frac{\\varepsilon \\left(u^{3} u_{ttttttt} + 21 u^{2} u_{tttttt} u_{t} + 63 u^{2} u_{ttttt} u_{tt} + 105 u^{2} u_{tttt} u_{ttt} + 126 u u_{ttttt} u_{t}^{2} + 630 u u_{tttt} u_{tt} u_{t} + 420 u u_{ttt}^{2} u_{t} + 630 u u_{ttt} u_{tt}^{2} + 210 u_{tttt} u_{t}^{3} + 1260 u_{ttt} u_{tt} u_{t}^{2} + 630 u_{tt}^{3} u_{t}\\right)}{5040} + \\frac{u u_{ttttttt} + u_{1} u1_{ttttttt} + 7 u1_{tttttt} u1_{t} + 21 u1_{ttttt} u1_{tt} + 35 u1_{tttt} u1_{ttt} + 7 u_{tttttt} u_{t} + 21 u_{ttttt} u_{tt} + 35 u_{tttt} u_{ttt}}{5040}$"
      ],
      "text/plain": [
       "\\varepsilon*(u**3*u_{ttttttt} + 21*u**2*u_{tttttt}*u_{t} + 63*u**2*u_{ttttt}*u_{tt} + 105*u**2*u_{tttt}*u_{ttt} + 126*u*u_{ttttt}*u_{t}**2 + 630*u*u_{tttt}*u_{tt}*u_{t} + 420*u*u_{ttt}**2*u_{t} + 630*u*u_{ttt}*u_{tt}**2 + 210*u_{tttt}*u_{t}**3 + 1260*u_{ttt}*u_{tt}*u_{t}**2 + 630*u_{tt}**3*u_{t})/5040 + (u*u_{ttttttt} + u1*u1_{ttttttt} + 7*u1_{tttttt}*u1_{t} + 21*u1_{ttttt}*u1_{tt} + 35*u1_{tttt}*u1_{ttt} + 7*u_{tttttt}*u_{t} + 21*u_{ttttt}*u_{tt} + 35*u_{tttt}*u_{ttt})/5040"
      ]
     },
     "metadata": {},
     "output_type": "display_data"
    },
    {
     "name": "stdout",
     "output_type": "stream",
     "text": [
      "\\varepsilon u^{3} u_{t} + u u_{t} + u_{1} u1_{t}\n",
      "+h\\left(\n",
      "\\frac{\\varepsilon u^{2} \\left(u u_{tt} + 3 u_{t}^{2}\\right)}{2} + \\frac{u u_{tt} + u_{1} u1_{tt} + u1_{t}^{2} + u_{t}^{2}}{2}\n",
      "\\right)\n",
      "+h^2\\left(\n",
      "\\frac{\\varepsilon u \\left(u^{2} u_{ttt} + 9 u u_{tt} u_{t} + 6 u_{t}^{3}\\right)}{6} + \\frac{u u_{ttt} + u_{1} u1_{ttt} + 3 u1_{tt} u1_{t} + 3 u_{tt} u_{t}}{6}\n",
      "\\right)\n",
      "+h^3\\left(\n",
      "\\frac{\\varepsilon \\left(u^{3} u_{tttt} + 12 u^{2} u_{ttt} u_{t} + 9 u^{2} u_{tt}^{2} + 36 u u_{tt} u_{t}^{2} + 6 u_{t}^{4}\\right)}{24} + \\frac{u u_{tttt} + u_{1} u1_{tttt} + 4 u1_{ttt} u1_{t} + 3 u1_{tt}^{2} + 4 u_{ttt} u_{t} + 3 u_{tt}^{2}}{24}\n",
      "\\right)\n",
      "+h^4\\left(\n",
      "\\frac{\\varepsilon \\left(u^{3} u_{ttttt} + 15 u^{2} u_{tttt} u_{t} + 30 u^{2} u_{ttt} u_{tt} + 60 u u_{ttt} u_{t}^{2} + 90 u u_{tt}^{2} u_{t} + 60 u_{tt} u_{t}^{3}\\right)}{120} + \\frac{u u_{ttttt} + u_{1} u1_{ttttt} + 5 u1_{tttt} u1_{t} + 10 u1_{ttt} u1_{tt} + 5 u_{tttt} u_{t} + 10 u_{ttt} u_{tt}}{120}\n",
      "\\right)\n",
      "+h^5\\left(\n",
      "\\frac{\\varepsilon \\left(u^{3} u_{tttttt} + 18 u^{2} u_{ttttt} u_{t} + 45 u^{2} u_{tttt} u_{tt} + 30 u^{2} u_{ttt}^{2} + 90 u u_{tttt} u_{t}^{2} + 360 u u_{ttt} u_{tt} u_{t} + 90 u u_{tt}^{3} + 120 u_{ttt} u_{t}^{3} + 270 u_{tt}^{2} u_{t}^{2}\\right)}{720} + \\frac{u u_{tttttt} + u_{1} u1_{tttttt} + 6 u1_{ttttt} u1_{t} + 15 u1_{tttt} u1_{tt} + 10 u1_{ttt}^{2} + 6 u_{ttttt} u_{t} + 15 u_{tttt} u_{tt} + 10 u_{ttt}^{2}}{720}\n",
      "\\right)\n",
      "+h^6\\left(\n",
      "\\frac{\\varepsilon \\left(u^{3} u_{ttttttt} + 21 u^{2} u_{tttttt} u_{t} + 63 u^{2} u_{ttttt} u_{tt} + 105 u^{2} u_{tttt} u_{ttt} + 126 u u_{ttttt} u_{t}^{2} + 630 u u_{tttt} u_{tt} u_{t} + 420 u u_{ttt}^{2} u_{t} + 630 u u_{ttt} u_{tt}^{2} + 210 u_{tttt} u_{t}^{3} + 1260 u_{ttt} u_{tt} u_{t}^{2} + 630 u_{tt}^{3} u_{t}\\right)}{5040} + \\frac{u u_{ttttttt} + u_{1} u1_{ttttttt} + 7 u1_{tttttt} u1_{t} + 21 u1_{ttttt} u1_{tt} + 35 u1_{tttt} u1_{ttt} + 7 u_{tttttt} u_{t} + 21 u_{ttttt} u_{tt} + 35 u_{tttt} u_{ttt}}{5040}\n",
      "\\right)\n"
     ]
    }
   ],
   "source": [
    "F3 = clip(((T(u1(t+h))**2/2 + T(u(t+h))**2/2 + eps*T(u(t+h))**4/4) -\\\n",
    "           (T(u1(t))**2/2 + T(u(t))**2/2 + eps*T(u(t))**4/4))/h)\n",
    "prn(F3, eps)\n",
    "prnlatex(F3, eps)"
   ]
  },
  {
   "cell_type": "code",
   "execution_count": 40,
   "id": "c0af03d6",
   "metadata": {},
   "outputs": [
    {
     "name": "stdout",
     "output_type": "stream",
     "text": [
      "h^0 =>\n"
     ]
    },
    {
     "data": {
      "text/latex": [
       "$\\displaystyle 0$"
      ],
      "text/plain": [
       "0"
      ]
     },
     "metadata": {},
     "output_type": "display_data"
    },
    {
     "name": "stdout",
     "output_type": "stream",
     "text": [
      "h^1 =>\n"
     ]
    },
    {
     "data": {
      "text/latex": [
       "$\\displaystyle 0$"
      ],
      "text/plain": [
       "0"
      ]
     },
     "metadata": {},
     "output_type": "display_data"
    },
    {
     "name": "stdout",
     "output_type": "stream",
     "text": [
      "h^2 =>\n"
     ]
    },
    {
     "data": {
      "text/latex": [
       "$\\displaystyle 0$"
      ],
      "text/plain": [
       "0"
      ]
     },
     "metadata": {},
     "output_type": "display_data"
    },
    {
     "name": "stdout",
     "output_type": "stream",
     "text": [
      "h^3 =>\n"
     ]
    },
    {
     "data": {
      "text/latex": [
       "$\\displaystyle 0$"
      ],
      "text/plain": [
       "0"
      ]
     },
     "metadata": {},
     "output_type": "display_data"
    },
    {
     "name": "stdout",
     "output_type": "stream",
     "text": [
      "h^4 =>\n"
     ]
    },
    {
     "data": {
      "text/latex": [
       "$\\displaystyle 0$"
      ],
      "text/plain": [
       "0"
      ]
     },
     "metadata": {},
     "output_type": "display_data"
    },
    {
     "name": "stdout",
     "output_type": "stream",
     "text": [
      "h^5 =>\n"
     ]
    },
    {
     "data": {
      "text/latex": [
       "$\\displaystyle - \\frac{19 \\varepsilon^{4} u^{10}}{7200} - \\frac{\\varepsilon^{3} u^{6} \\left(17 u^{2} + 5 u_{1}^{2}\\right)}{2400} - \\frac{47 \\varepsilon^{2} u^{6}}{7200} - \\frac{\\varepsilon u^{2} \\left(17 u^{2} + 3 u_{1}^{2}\\right)}{7200} - \\frac{u^{2} + u_{1}^{2}}{3600}$"
      ],
      "text/plain": [
       "-19*\\varepsilon**4*u**10/7200 - \\varepsilon**3*u**6*(17*u**2 + 5*u1**2)/2400 - 47*\\varepsilon**2*u**6/7200 - \\varepsilon*u**2*(17*u**2 + 3*u1**2)/7200 - (u**2 + u1**2)/3600"
      ]
     },
     "metadata": {},
     "output_type": "display_data"
    },
    {
     "name": "stdout",
     "output_type": "stream",
     "text": [
      "h^6 =>\n"
     ]
    },
    {
     "data": {
      "text/latex": [
       "$\\displaystyle - \\frac{53813 \\varepsilon^{4} u^{9} u_{1}}{3888000} - \\frac{\\varepsilon^{3} u^{5} u_{1} \\left(459811 u^{2} - 2053116 u_{1}^{2}\\right)}{14256000} - \\frac{\\varepsilon^{2} u u_{1} \\left(327679 u^{4} - 1327296 u^{2} u_{1}^{2} - 11088 u_{1}^{4}\\right)}{14256000} - \\frac{\\varepsilon u u_{1} \\left(195547 u^{2} - 646092 u_{1}^{2}\\right)}{42768000}$"
      ],
      "text/plain": [
       "-53813*\\varepsilon**4*u**9*u1/3888000 - \\varepsilon**3*u**5*u1*(459811*u**2 - 2053116*u1**2)/14256000 - \\varepsilon**2*u*u1*(327679*u**4 - 1327296*u**2*u1**2 - 11088*u1**4)/14256000 - \\varepsilon*u*u1*(195547*u**2 - 646092*u1**2)/42768000"
      ]
     },
     "metadata": {},
     "output_type": "display_data"
    },
    {
     "name": "stdout",
     "output_type": "stream",
     "text": [
      "0\n",
      "+h\\left(\n",
      "0\n",
      "\\right)\n",
      "+h^2\\left(\n",
      "0\n",
      "\\right)\n",
      "+h^3\\left(\n",
      "0\n",
      "\\right)\n",
      "+h^4\\left(\n",
      "0\n",
      "\\right)\n",
      "+h^5\\left(\n",
      "- \\frac{19 \\varepsilon^{4} u^{10}}{7200} - \\frac{\\varepsilon^{3} u^{6} \\left(17 u^{2} + 5 u_{1}^{2}\\right)}{2400} - \\frac{47 \\varepsilon^{2} u^{6}}{7200} - \\frac{\\varepsilon u^{2} \\left(17 u^{2} + 3 u_{1}^{2}\\right)}{7200} - \\frac{u^{2} + u_{1}^{2}}{3600}\n",
      "\\right)\n",
      "+h^6\\left(\n",
      "- \\frac{53813 \\varepsilon^{4} u^{9} u_{1}}{3888000} - \\frac{\\varepsilon^{3} u^{5} u_{1} \\left(459811 u^{2} - 2053116 u_{1}^{2}\\right)}{14256000} - \\frac{\\varepsilon^{2} u u_{1} \\left(327679 u^{4} - 1327296 u^{2} u_{1}^{2} - 11088 u_{1}^{4}\\right)}{14256000} - \\frac{\\varepsilon u u_{1} \\left(195547 u^{2} - 646092 u_{1}^{2}\\right)}{42768000}\n",
      "\\right)\n"
     ]
    }
   ],
   "source": [
    "f3 = NF(F3, [u(t).diff(t), u1(t).diff(t)], [f1, f2], head=True)\n",
    "prn(f3, eps)\n",
    "prnlatex(f3, eps)"
   ]
  },
  {
   "cell_type": "code",
   "execution_count": 41,
   "id": "cb9e859f",
   "metadata": {},
   "outputs": [
    {
     "name": "stdout",
     "output_type": "stream",
     "text": [
      "-19*eps**4*y[0]**10/7200 + eps**3*(-17*y[0]**8/2400 - y[0]**6*y[1]**2/480) - 47*eps**2*y[0]**6/7200 + eps*(-17*y[0]**4/7200 - y[0]**2*y[1]**2/2400) - y[0]**2/3600 - y[1]**2/3600\n"
     ]
    }
   ],
   "source": [
    "print(replace(str(f3[5].collect(eps))))"
   ]
  },
  {
   "cell_type": "markdown",
   "id": "7f36461d",
   "metadata": {},
   "source": [
    "## Dormand–Prince method 4 order"
   ]
  },
  {
   "cell_type": "code",
   "execution_count": 42,
   "id": "c2a5ce76",
   "metadata": {},
   "outputs": [],
   "source": [
    "set_clip(7, 6, Rational(0, 1))\n",
    "r = DormandPrince4(f, Matrix([u(t), u1(t)]))"
   ]
  },
  {
   "cell_type": "code",
   "execution_count": 43,
   "id": "0b230bf4",
   "metadata": {},
   "outputs": [
    {
     "name": "stdout",
     "output_type": "stream",
     "text": [
      "h^0 =>\n"
     ]
    },
    {
     "data": {
      "text/latex": [
       "$\\displaystyle - u_{1} + u_{t}$"
      ],
      "text/plain": [
       "-u1 + u_{t}"
      ]
     },
     "metadata": {},
     "output_type": "display_data"
    },
    {
     "name": "stdout",
     "output_type": "stream",
     "text": [
      "h^1 =>\n"
     ]
    },
    {
     "data": {
      "text/latex": [
       "$\\displaystyle \\frac{\\varepsilon u^{3}}{2} + \\frac{u + u_{tt}}{2}$"
      ],
      "text/plain": [
       "\\varepsilon*u**3/2 + (u + u_{tt})/2"
      ]
     },
     "metadata": {},
     "output_type": "display_data"
    },
    {
     "name": "stdout",
     "output_type": "stream",
     "text": [
      "h^2 =>\n"
     ]
    },
    {
     "data": {
      "text/latex": [
       "$\\displaystyle \\frac{\\varepsilon u^{2} u_{1}}{2} + \\frac{u_{1} + u_{ttt}}{6}$"
      ],
      "text/plain": [
       "\\varepsilon*u**2*u1/2 + (u1 + u_{ttt})/6"
      ]
     },
     "metadata": {},
     "output_type": "display_data"
    },
    {
     "name": "stdout",
     "output_type": "stream",
     "text": [
      "h^3 =>\n"
     ]
    },
    {
     "data": {
      "text/latex": [
       "$\\displaystyle - \\frac{\\varepsilon^{2} u^{5}}{8} - \\frac{\\varepsilon u \\left(2 u^{2} - 3 u_{1}^{2}\\right)}{12} - \\frac{u - u_{tttt}}{24}$"
      ],
      "text/plain": [
       "-\\varepsilon**2*u**5/8 - \\varepsilon*u*(2*u**2 - 3*u1**2)/12 - (u - u_{tttt})/24"
      ]
     },
     "metadata": {},
     "output_type": "display_data"
    },
    {
     "name": "stdout",
     "output_type": "stream",
     "text": [
      "h^4 =>\n"
     ]
    },
    {
     "data": {
      "text/latex": [
       "$\\displaystyle - \\frac{1873 \\varepsilon^{2} u^{4} u_{1}}{8000} - \\frac{\\varepsilon u_{1} \\left(12402 u^{2} - 3037 u_{1}^{2}\\right)}{60000} - \\frac{1097 u_{1} - 1000 u_{ttttt}}{120000}$"
      ],
      "text/plain": [
       "-1873*\\varepsilon**2*u**4*u1/8000 - \\varepsilon*u1*(12402*u**2 - 3037*u1**2)/60000 - (1097*u1 - 1000*u_{ttttt})/120000"
      ]
     },
     "metadata": {},
     "output_type": "display_data"
    },
    {
     "name": "stdout",
     "output_type": "stream",
     "text": [
      "h^5 =>\n"
     ]
    },
    {
     "data": {
      "text/latex": [
       "$\\displaystyle \\frac{137419 \\varepsilon^{3} u^{7}}{3600000} + \\frac{\\varepsilon^{2} u^{3} \\left(130174 u^{2} - 351655 u_{1}^{2}\\right)}{1800000} + \\frac{\\varepsilon u \\left(127759 u^{2} - 359702 u_{1}^{2}\\right)}{3600000} + \\frac{483 u + 500 u_{tttttt}}{360000}$"
      ],
      "text/plain": [
       "137419*\\varepsilon**3*u**7/3600000 + \\varepsilon**2*u**3*(130174*u**2 - 351655*u1**2)/1800000 + \\varepsilon*u*(127759*u**2 - 359702*u1**2)/3600000 + (483*u + 500*u_{tttttt})/360000"
      ]
     },
     "metadata": {},
     "output_type": "display_data"
    },
    {
     "name": "stdout",
     "output_type": "stream",
     "text": [
      "- u_{1} + u_{t}\n",
      "+h\\left(\n",
      "\\frac{\\varepsilon u^{3}}{2} + \\frac{u + u_{tt}}{2}\n",
      "\\right)\n",
      "+h^2\\left(\n",
      "\\frac{\\varepsilon u^{2} u_{1}}{2} + \\frac{u_{1} + u_{ttt}}{6}\n",
      "\\right)\n",
      "+h^3\\left(\n",
      "- \\frac{\\varepsilon^{2} u^{5}}{8} - \\frac{\\varepsilon u \\left(2 u^{2} - 3 u_{1}^{2}\\right)}{12} - \\frac{u - u_{tttt}}{24}\n",
      "\\right)\n",
      "+h^4\\left(\n",
      "- \\frac{1873 \\varepsilon^{2} u^{4} u_{1}}{8000} - \\frac{\\varepsilon u_{1} \\left(12402 u^{2} - 3037 u_{1}^{2}\\right)}{60000} - \\frac{1097 u_{1} - 1000 u_{ttttt}}{120000}\n",
      "\\right)\n",
      "+h^5\\left(\n",
      "\\frac{137419 \\varepsilon^{3} u^{7}}{3600000} + \\frac{\\varepsilon^{2} u^{3} \\left(130174 u^{2} - 351655 u_{1}^{2}\\right)}{1800000} + \\frac{\\varepsilon u \\left(127759 u^{2} - 359702 u_{1}^{2}\\right)}{3600000} + \\frac{483 u + 500 u_{tttttt}}{360000}\n",
      "\\right)\n"
     ]
    }
   ],
   "source": [
    "F1 = clip((T(u(t+h))-T(u(t)))/h - T(r[0]))\n",
    "prn(F1, eps)\n",
    "prnlatex(F1, eps)"
   ]
  },
  {
   "cell_type": "code",
   "execution_count": 44,
   "id": "491c6bc2",
   "metadata": {},
   "outputs": [
    {
     "name": "stdout",
     "output_type": "stream",
     "text": [
      "h^0 =>\n"
     ]
    },
    {
     "data": {
      "text/latex": [
       "$\\displaystyle \\varepsilon u^{3} + u + u1_{t}$"
      ],
      "text/plain": [
       "\\varepsilon*u**3 + u + u1_{t}"
      ]
     },
     "metadata": {},
     "output_type": "display_data"
    },
    {
     "name": "stdout",
     "output_type": "stream",
     "text": [
      "h^1 =>\n"
     ]
    },
    {
     "data": {
      "text/latex": [
       "$\\displaystyle \\frac{3 \\varepsilon u^{2} u_{1}}{2} + \\frac{u_{1} + u1_{tt}}{2}$"
      ],
      "text/plain": [
       "3*\\varepsilon*u**2*u1/2 + (u1 + u1_{tt})/2"
      ]
     },
     "metadata": {},
     "output_type": "display_data"
    },
    {
     "name": "stdout",
     "output_type": "stream",
     "text": [
      "h^2 =>\n"
     ]
    },
    {
     "data": {
      "text/latex": [
       "$\\displaystyle - \\frac{\\varepsilon^{2} u^{5}}{2} - \\frac{\\varepsilon u \\left(2 u^{2} - 3 u_{1}^{2}\\right)}{3} - \\frac{u - u1_{ttt}}{6}$"
      ],
      "text/plain": [
       "-\\varepsilon**2*u**5/2 - \\varepsilon*u*(2*u**2 - 3*u1**2)/3 - (u - u1_{ttt})/6"
      ]
     },
     "metadata": {},
     "output_type": "display_data"
    },
    {
     "name": "stdout",
     "output_type": "stream",
     "text": [
      "h^3 =>\n"
     ]
    },
    {
     "data": {
      "text/latex": [
       "$\\displaystyle - \\frac{9 \\varepsilon^{2} u^{4} u_{1}}{8} - \\frac{\\varepsilon u_{1} \\left(2 u - u_{1}\\right) \\left(2 u + u_{1}\\right)}{4} - \\frac{u_{1} - u1_{tttt}}{24}$"
      ],
      "text/plain": [
       "-9*\\varepsilon**2*u**4*u1/8 - \\varepsilon*u1*(2*u - u1)*(2*u + u1)/4 - (u1 - u1_{tttt})/24"
      ]
     },
     "metadata": {},
     "output_type": "display_data"
    },
    {
     "name": "stdout",
     "output_type": "stream",
     "text": [
      "h^4 =>\n"
     ]
    },
    {
     "data": {
      "text/latex": [
       "$\\displaystyle \\frac{20887 \\varepsilon^{3} u^{7}}{90000} + \\frac{\\varepsilon^{2} u^{3} \\left(157223 u^{2} - 373412 u_{1}^{2}\\right)}{360000} + \\frac{\\varepsilon u \\left(38483 u^{2} - 98188 u_{1}^{2}\\right)}{180000} + \\frac{1097 u + 1000 u1_{ttttt}}{120000}$"
      ],
      "text/plain": [
       "20887*\\varepsilon**3*u**7/90000 + \\varepsilon**2*u**3*(157223*u**2 - 373412*u1**2)/360000 + \\varepsilon*u*(38483*u**2 - 98188*u1**2)/180000 + (1097*u + 1000*u1_{ttttt})/120000"
      ]
     },
     "metadata": {},
     "output_type": "display_data"
    },
    {
     "name": "stdout",
     "output_type": "stream",
     "text": [
      "h^5 =>\n"
     ]
    },
    {
     "data": {
      "text/latex": [
       "$\\displaystyle \\frac{3958063 \\varepsilon^{3} u^{6} u_{1}}{6480000} + \\frac{\\varepsilon^{2} u^{2} u_{1} \\left(7170031 u^{2} - 4162923 u_{1}^{2}\\right)}{8100000} + \\frac{\\varepsilon u_{1} \\left(9281039 u^{2} - 2807196 u_{1}^{2}\\right)}{32400000} + \\frac{483 u_{1} + 500 u1_{tttttt}}{360000}$"
      ],
      "text/plain": [
       "3958063*\\varepsilon**3*u**6*u1/6480000 + \\varepsilon**2*u**2*u1*(7170031*u**2 - 4162923*u1**2)/8100000 + \\varepsilon*u1*(9281039*u**2 - 2807196*u1**2)/32400000 + (483*u1 + 500*u1_{tttttt})/360000"
      ]
     },
     "metadata": {},
     "output_type": "display_data"
    },
    {
     "name": "stdout",
     "output_type": "stream",
     "text": [
      "\\varepsilon u^{3} + u + u1_{t}\n",
      "+h\\left(\n",
      "\\frac{3 \\varepsilon u^{2} u_{1}}{2} + \\frac{u_{1} + u1_{tt}}{2}\n",
      "\\right)\n",
      "+h^2\\left(\n",
      "- \\frac{\\varepsilon^{2} u^{5}}{2} - \\frac{\\varepsilon u \\left(2 u^{2} - 3 u_{1}^{2}\\right)}{3} - \\frac{u - u1_{ttt}}{6}\n",
      "\\right)\n",
      "+h^3\\left(\n",
      "- \\frac{9 \\varepsilon^{2} u^{4} u_{1}}{8} - \\frac{\\varepsilon u_{1} \\left(2 u - u_{1}\\right) \\left(2 u + u_{1}\\right)}{4} - \\frac{u_{1} - u1_{tttt}}{24}\n",
      "\\right)\n",
      "+h^4\\left(\n",
      "\\frac{20887 \\varepsilon^{3} u^{7}}{90000} + \\frac{\\varepsilon^{2} u^{3} \\left(157223 u^{2} - 373412 u_{1}^{2}\\right)}{360000} + \\frac{\\varepsilon u \\left(38483 u^{2} - 98188 u_{1}^{2}\\right)}{180000} + \\frac{1097 u + 1000 u1_{ttttt}}{120000}\n",
      "\\right)\n",
      "+h^5\\left(\n",
      "\\frac{3958063 \\varepsilon^{3} u^{6} u_{1}}{6480000} + \\frac{\\varepsilon^{2} u^{2} u_{1} \\left(7170031 u^{2} - 4162923 u_{1}^{2}\\right)}{8100000} + \\frac{\\varepsilon u_{1} \\left(9281039 u^{2} - 2807196 u_{1}^{2}\\right)}{32400000} + \\frac{483 u_{1} + 500 u1_{tttttt}}{360000}\n",
      "\\right)\n"
     ]
    }
   ],
   "source": [
    "F2 = clip((T(u1(t+h))-T(u1(t)))/h - T(r[1]))\n",
    "prn(F2, eps)\n",
    "prnlatex(F2, eps)"
   ]
  },
  {
   "cell_type": "code",
   "execution_count": 45,
   "id": "c9c9ca5f",
   "metadata": {},
   "outputs": [
    {
     "name": "stdout",
     "output_type": "stream",
     "text": [
      "h^0 =>\n"
     ]
    },
    {
     "data": {
      "text/latex": [
       "$\\displaystyle - u_{1} + u_{t}$"
      ],
      "text/plain": [
       "-u1 + u_{t}"
      ]
     },
     "metadata": {},
     "output_type": "display_data"
    },
    {
     "name": "stdout",
     "output_type": "stream",
     "text": [
      "h^1 =>\n"
     ]
    },
    {
     "data": {
      "text/latex": [
       "$\\displaystyle 0$"
      ],
      "text/plain": [
       "0"
      ]
     },
     "metadata": {},
     "output_type": "display_data"
    },
    {
     "name": "stdout",
     "output_type": "stream",
     "text": [
      "h^2 =>\n"
     ]
    },
    {
     "data": {
      "text/latex": [
       "$\\displaystyle 0$"
      ],
      "text/plain": [
       "0"
      ]
     },
     "metadata": {},
     "output_type": "display_data"
    },
    {
     "name": "stdout",
     "output_type": "stream",
     "text": [
      "h^3 =>\n"
     ]
    },
    {
     "data": {
      "text/latex": [
       "$\\displaystyle 0$"
      ],
      "text/plain": [
       "0"
      ]
     },
     "metadata": {},
     "output_type": "display_data"
    },
    {
     "name": "stdout",
     "output_type": "stream",
     "text": [
      "h^4 =>\n"
     ]
    },
    {
     "data": {
      "text/latex": [
       "$\\displaystyle - \\frac{73 \\varepsilon^{2} u^{4} u_{1}}{8000} - \\frac{\\varepsilon u_{1} \\left(402 u^{2} - 37 u_{1}^{2}\\right)}{60000} - \\frac{97 u_{1}}{120000}$"
      ],
      "text/plain": [
       "-73*\\varepsilon**2*u**4*u1/8000 - \\varepsilon*u1*(402*u**2 - 37*u1**2)/60000 - 97*u1/120000"
      ]
     },
     "metadata": {},
     "output_type": "display_data"
    },
    {
     "name": "stdout",
     "output_type": "stream",
     "text": [
      "h^5 =>\n"
     ]
    },
    {
     "data": {
      "text/latex": [
       "$\\displaystyle - \\frac{13373 \\varepsilon^{3} u^{7}}{1800000} - \\frac{\\varepsilon^{2} u^{3} \\left(11063 u^{2} + 6805 u_{1}^{2}\\right)}{900000} - \\frac{\\varepsilon u \\left(10293 u^{2} + 5186 u_{1}^{2}\\right)}{1800000} - \\frac{77 u}{90000}$"
      ],
      "text/plain": [
       "-13373*\\varepsilon**3*u**7/1800000 - \\varepsilon**2*u**3*(11063*u**2 + 6805*u1**2)/900000 - \\varepsilon*u*(10293*u**2 + 5186*u1**2)/1800000 - 77*u/90000"
      ]
     },
     "metadata": {},
     "output_type": "display_data"
    },
    {
     "name": "stdout",
     "output_type": "stream",
     "text": [
      "- u_{1} + u_{t}\n",
      "+h\\left(\n",
      "0\n",
      "\\right)\n",
      "+h^2\\left(\n",
      "0\n",
      "\\right)\n",
      "+h^3\\left(\n",
      "0\n",
      "\\right)\n",
      "+h^4\\left(\n",
      "- \\frac{73 \\varepsilon^{2} u^{4} u_{1}}{8000} - \\frac{\\varepsilon u_{1} \\left(402 u^{2} - 37 u_{1}^{2}\\right)}{60000} - \\frac{97 u_{1}}{120000}\n",
      "\\right)\n",
      "+h^5\\left(\n",
      "- \\frac{13373 \\varepsilon^{3} u^{7}}{1800000} - \\frac{\\varepsilon^{2} u^{3} \\left(11063 u^{2} + 6805 u_{1}^{2}\\right)}{900000} - \\frac{\\varepsilon u \\left(10293 u^{2} + 5186 u_{1}^{2}\\right)}{1800000} - \\frac{77 u}{90000}\n",
      "\\right)\n"
     ]
    }
   ],
   "source": [
    "f1 = NF(F1, [u(t).diff(t), u1(t).diff(t)], [F1, F2], head=False)\n",
    "prn(f1, eps)\n",
    "prnlatex(f1, eps)"
   ]
  },
  {
   "cell_type": "code",
   "execution_count": 46,
   "id": "d25b867f",
   "metadata": {},
   "outputs": [
    {
     "name": "stdout",
     "output_type": "stream",
     "text": [
      "h^0 =>\n"
     ]
    },
    {
     "data": {
      "text/latex": [
       "$\\displaystyle \\varepsilon u^{3} + u + u1_{t}$"
      ],
      "text/plain": [
       "\\varepsilon*u**3 + u + u1_{t}"
      ]
     },
     "metadata": {},
     "output_type": "display_data"
    },
    {
     "name": "stdout",
     "output_type": "stream",
     "text": [
      "h^1 =>\n"
     ]
    },
    {
     "data": {
      "text/latex": [
       "$\\displaystyle 0$"
      ],
      "text/plain": [
       "0"
      ]
     },
     "metadata": {},
     "output_type": "display_data"
    },
    {
     "name": "stdout",
     "output_type": "stream",
     "text": [
      "h^2 =>\n"
     ]
    },
    {
     "data": {
      "text/latex": [
       "$\\displaystyle 0$"
      ],
      "text/plain": [
       "0"
      ]
     },
     "metadata": {},
     "output_type": "display_data"
    },
    {
     "name": "stdout",
     "output_type": "stream",
     "text": [
      "h^3 =>\n"
     ]
    },
    {
     "data": {
      "text/latex": [
       "$\\displaystyle 0$"
      ],
      "text/plain": [
       "0"
      ]
     },
     "metadata": {},
     "output_type": "display_data"
    },
    {
     "name": "stdout",
     "output_type": "stream",
     "text": [
      "h^4 =>\n"
     ]
    },
    {
     "data": {
      "text/latex": [
       "$\\displaystyle \\frac{637 \\varepsilon^{3} u^{7}}{90000} + \\frac{\\varepsilon^{2} u^{3} \\left(4223 u^{2} + 4588 u_{1}^{2}\\right)}{360000} + \\frac{\\varepsilon u \\left(983 u^{2} + 812 u_{1}^{2}\\right)}{180000} + \\frac{97 u}{120000}$"
      ],
      "text/plain": [
       "637*\\varepsilon**3*u**7/90000 + \\varepsilon**2*u**3*(4223*u**2 + 4588*u1**2)/360000 + \\varepsilon*u*(983*u**2 + 812*u1**2)/180000 + 97*u/120000"
      ]
     },
     "metadata": {},
     "output_type": "display_data"
    },
    {
     "name": "stdout",
     "output_type": "stream",
     "text": [
      "h^5 =>\n"
     ]
    },
    {
     "data": {
      "text/latex": [
       "$\\displaystyle - \\frac{44393 \\varepsilon^{3} u^{6} u_{1}}{1620000} - \\frac{\\varepsilon^{2} u^{2} u_{1} \\left(469708 u^{2} + 115551 u_{1}^{2}\\right)}{16200000} - \\frac{\\varepsilon u_{1} \\left(150518 u^{2} - 49857 u_{1}^{2}\\right)}{16200000} - \\frac{77 u_{1}}{90000}$"
      ],
      "text/plain": [
       "-44393*\\varepsilon**3*u**6*u1/1620000 - \\varepsilon**2*u**2*u1*(469708*u**2 + 115551*u1**2)/16200000 - \\varepsilon*u1*(150518*u**2 - 49857*u1**2)/16200000 - 77*u1/90000"
      ]
     },
     "metadata": {},
     "output_type": "display_data"
    },
    {
     "name": "stdout",
     "output_type": "stream",
     "text": [
      "\\varepsilon u^{3} + u + u1_{t}\n",
      "+h\\left(\n",
      "0\n",
      "\\right)\n",
      "+h^2\\left(\n",
      "0\n",
      "\\right)\n",
      "+h^3\\left(\n",
      "0\n",
      "\\right)\n",
      "+h^4\\left(\n",
      "\\frac{637 \\varepsilon^{3} u^{7}}{90000} + \\frac{\\varepsilon^{2} u^{3} \\left(4223 u^{2} + 4588 u_{1}^{2}\\right)}{360000} + \\frac{\\varepsilon u \\left(983 u^{2} + 812 u_{1}^{2}\\right)}{180000} + \\frac{97 u}{120000}\n",
      "\\right)\n",
      "+h^5\\left(\n",
      "- \\frac{44393 \\varepsilon^{3} u^{6} u_{1}}{1620000} - \\frac{\\varepsilon^{2} u^{2} u_{1} \\left(469708 u^{2} + 115551 u_{1}^{2}\\right)}{16200000} - \\frac{\\varepsilon u_{1} \\left(150518 u^{2} - 49857 u_{1}^{2}\\right)}{16200000} - \\frac{77 u_{1}}{90000}\n",
      "\\right)\n"
     ]
    }
   ],
   "source": [
    "f2 = NF(F2, [u(t).diff(t), u1(t).diff(t)], [F1, F2], head=False)\n",
    "prn(f2, eps)\n",
    "prnlatex(f2, eps)"
   ]
  },
  {
   "cell_type": "code",
   "execution_count": 47,
   "id": "b46bee0f",
   "metadata": {},
   "outputs": [
    {
     "name": "stdout",
     "output_type": "stream",
     "text": [
      "h^0 =>\n"
     ]
    },
    {
     "data": {
      "text/latex": [
       "$\\displaystyle \\varepsilon u^{3} u_{t} + u u_{t} + u_{1} u1_{t}$"
      ],
      "text/plain": [
       "\\varepsilon*u**3*u_{t} + u*u_{t} + u1*u1_{t}"
      ]
     },
     "metadata": {},
     "output_type": "display_data"
    },
    {
     "name": "stdout",
     "output_type": "stream",
     "text": [
      "h^1 =>\n"
     ]
    },
    {
     "data": {
      "text/latex": [
       "$\\displaystyle \\frac{\\varepsilon u^{2} \\left(u u_{tt} + 3 u_{t}^{2}\\right)}{2} + \\frac{u u_{tt} + u_{1} u1_{tt} + u1_{t}^{2} + u_{t}^{2}}{2}$"
      ],
      "text/plain": [
       "\\varepsilon*u**2*(u*u_{tt} + 3*u_{t}**2)/2 + (u*u_{tt} + u1*u1_{tt} + u1_{t}**2 + u_{t}**2)/2"
      ]
     },
     "metadata": {},
     "output_type": "display_data"
    },
    {
     "name": "stdout",
     "output_type": "stream",
     "text": [
      "h^2 =>\n"
     ]
    },
    {
     "data": {
      "text/latex": [
       "$\\displaystyle \\frac{\\varepsilon u \\left(u^{2} u_{ttt} + 9 u u_{tt} u_{t} + 6 u_{t}^{3}\\right)}{6} + \\frac{u u_{ttt} + u_{1} u1_{ttt} + 3 u1_{tt} u1_{t} + 3 u_{tt} u_{t}}{6}$"
      ],
      "text/plain": [
       "\\varepsilon*u*(u**2*u_{ttt} + 9*u*u_{tt}*u_{t} + 6*u_{t}**3)/6 + (u*u_{ttt} + u1*u1_{ttt} + 3*u1_{tt}*u1_{t} + 3*u_{tt}*u_{t})/6"
      ]
     },
     "metadata": {},
     "output_type": "display_data"
    },
    {
     "name": "stdout",
     "output_type": "stream",
     "text": [
      "h^3 =>\n"
     ]
    },
    {
     "data": {
      "text/latex": [
       "$\\displaystyle \\frac{\\varepsilon \\left(u^{3} u_{tttt} + 12 u^{2} u_{ttt} u_{t} + 9 u^{2} u_{tt}^{2} + 36 u u_{tt} u_{t}^{2} + 6 u_{t}^{4}\\right)}{24} + \\frac{u u_{tttt} + u_{1} u1_{tttt} + 4 u1_{ttt} u1_{t} + 3 u1_{tt}^{2} + 4 u_{ttt} u_{t} + 3 u_{tt}^{2}}{24}$"
      ],
      "text/plain": [
       "\\varepsilon*(u**3*u_{tttt} + 12*u**2*u_{ttt}*u_{t} + 9*u**2*u_{tt}**2 + 36*u*u_{tt}*u_{t}**2 + 6*u_{t}**4)/24 + (u*u_{tttt} + u1*u1_{tttt} + 4*u1_{ttt}*u1_{t} + 3*u1_{tt}**2 + 4*u_{ttt}*u_{t} + 3*u_{tt}**2)/24"
      ]
     },
     "metadata": {},
     "output_type": "display_data"
    },
    {
     "name": "stdout",
     "output_type": "stream",
     "text": [
      "h^4 =>\n"
     ]
    },
    {
     "data": {
      "text/latex": [
       "$\\displaystyle \\frac{\\varepsilon \\left(u^{3} u_{ttttt} + 15 u^{2} u_{tttt} u_{t} + 30 u^{2} u_{ttt} u_{tt} + 60 u u_{ttt} u_{t}^{2} + 90 u u_{tt}^{2} u_{t} + 60 u_{tt} u_{t}^{3}\\right)}{120} + \\frac{u u_{ttttt} + u_{1} u1_{ttttt} + 5 u1_{tttt} u1_{t} + 10 u1_{ttt} u1_{tt} + 5 u_{tttt} u_{t} + 10 u_{ttt} u_{tt}}{120}$"
      ],
      "text/plain": [
       "\\varepsilon*(u**3*u_{ttttt} + 15*u**2*u_{tttt}*u_{t} + 30*u**2*u_{ttt}*u_{tt} + 60*u*u_{ttt}*u_{t}**2 + 90*u*u_{tt}**2*u_{t} + 60*u_{tt}*u_{t}**3)/120 + (u*u_{ttttt} + u1*u1_{ttttt} + 5*u1_{tttt}*u1_{t} + 10*u1_{ttt}*u1_{tt} + 5*u_{tttt}*u_{t} + 10*u_{ttt}*u_{tt})/120"
      ]
     },
     "metadata": {},
     "output_type": "display_data"
    },
    {
     "name": "stdout",
     "output_type": "stream",
     "text": [
      "h^5 =>\n"
     ]
    },
    {
     "data": {
      "text/latex": [
       "$\\displaystyle \\frac{\\varepsilon \\left(u^{3} u_{tttttt} + 18 u^{2} u_{ttttt} u_{t} + 45 u^{2} u_{tttt} u_{tt} + 30 u^{2} u_{ttt}^{2} + 90 u u_{tttt} u_{t}^{2} + 360 u u_{ttt} u_{tt} u_{t} + 90 u u_{tt}^{3} + 120 u_{ttt} u_{t}^{3} + 270 u_{tt}^{2} u_{t}^{2}\\right)}{720} + \\frac{u u_{tttttt} + u_{1} u1_{tttttt} + 6 u1_{ttttt} u1_{t} + 15 u1_{tttt} u1_{tt} + 10 u1_{ttt}^{2} + 6 u_{ttttt} u_{t} + 15 u_{tttt} u_{tt} + 10 u_{ttt}^{2}}{720}$"
      ],
      "text/plain": [
       "\\varepsilon*(u**3*u_{tttttt} + 18*u**2*u_{ttttt}*u_{t} + 45*u**2*u_{tttt}*u_{tt} + 30*u**2*u_{ttt}**2 + 90*u*u_{tttt}*u_{t}**2 + 360*u*u_{ttt}*u_{tt}*u_{t} + 90*u*u_{tt}**3 + 120*u_{ttt}*u_{t}**3 + 270*u_{tt}**2*u_{t}**2)/720 + (u*u_{tttttt} + u1*u1_{tttttt} + 6*u1_{ttttt}*u1_{t} + 15*u1_{tttt}*u1_{tt} + 10*u1_{ttt}**2 + 6*u_{ttttt}*u_{t} + 15*u_{tttt}*u_{tt} + 10*u_{ttt}**2)/720"
      ]
     },
     "metadata": {},
     "output_type": "display_data"
    },
    {
     "name": "stdout",
     "output_type": "stream",
     "text": [
      "\\varepsilon u^{3} u_{t} + u u_{t} + u_{1} u1_{t}\n",
      "+h\\left(\n",
      "\\frac{\\varepsilon u^{2} \\left(u u_{tt} + 3 u_{t}^{2}\\right)}{2} + \\frac{u u_{tt} + u_{1} u1_{tt} + u1_{t}^{2} + u_{t}^{2}}{2}\n",
      "\\right)\n",
      "+h^2\\left(\n",
      "\\frac{\\varepsilon u \\left(u^{2} u_{ttt} + 9 u u_{tt} u_{t} + 6 u_{t}^{3}\\right)}{6} + \\frac{u u_{ttt} + u_{1} u1_{ttt} + 3 u1_{tt} u1_{t} + 3 u_{tt} u_{t}}{6}\n",
      "\\right)\n",
      "+h^3\\left(\n",
      "\\frac{\\varepsilon \\left(u^{3} u_{tttt} + 12 u^{2} u_{ttt} u_{t} + 9 u^{2} u_{tt}^{2} + 36 u u_{tt} u_{t}^{2} + 6 u_{t}^{4}\\right)}{24} + \\frac{u u_{tttt} + u_{1} u1_{tttt} + 4 u1_{ttt} u1_{t} + 3 u1_{tt}^{2} + 4 u_{ttt} u_{t} + 3 u_{tt}^{2}}{24}\n",
      "\\right)\n",
      "+h^4\\left(\n",
      "\\frac{\\varepsilon \\left(u^{3} u_{ttttt} + 15 u^{2} u_{tttt} u_{t} + 30 u^{2} u_{ttt} u_{tt} + 60 u u_{ttt} u_{t}^{2} + 90 u u_{tt}^{2} u_{t} + 60 u_{tt} u_{t}^{3}\\right)}{120} + \\frac{u u_{ttttt} + u_{1} u1_{ttttt} + 5 u1_{tttt} u1_{t} + 10 u1_{ttt} u1_{tt} + 5 u_{tttt} u_{t} + 10 u_{ttt} u_{tt}}{120}\n",
      "\\right)\n",
      "+h^5\\left(\n",
      "\\frac{\\varepsilon \\left(u^{3} u_{tttttt} + 18 u^{2} u_{ttttt} u_{t} + 45 u^{2} u_{tttt} u_{tt} + 30 u^{2} u_{ttt}^{2} + 90 u u_{tttt} u_{t}^{2} + 360 u u_{ttt} u_{tt} u_{t} + 90 u u_{tt}^{3} + 120 u_{ttt} u_{t}^{3} + 270 u_{tt}^{2} u_{t}^{2}\\right)}{720} + \\frac{u u_{tttttt} + u_{1} u1_{tttttt} + 6 u1_{ttttt} u1_{t} + 15 u1_{tttt} u1_{tt} + 10 u1_{ttt}^{2} + 6 u_{ttttt} u_{t} + 15 u_{tttt} u_{tt} + 10 u_{ttt}^{2}}{720}\n",
      "\\right)\n"
     ]
    }
   ],
   "source": [
    "F3 = clip(((T(u1(t+h))**2/2 + T(u(t+h))**2/2 + eps*T(u(t+h))**4/4) -\\\n",
    "           (T(u1(t))**2/2 + T(u(t))**2/2 + eps*T(u(t))**4/4))/h)\n",
    "prn(F3, eps)\n",
    "prnlatex(F3, eps)"
   ]
  },
  {
   "cell_type": "code",
   "execution_count": 48,
   "id": "d6429b22",
   "metadata": {},
   "outputs": [
    {
     "name": "stdout",
     "output_type": "stream",
     "text": [
      "h^0 =>\n"
     ]
    },
    {
     "data": {
      "text/latex": [
       "$\\displaystyle 0$"
      ],
      "text/plain": [
       "0"
      ]
     },
     "metadata": {},
     "output_type": "display_data"
    },
    {
     "name": "stdout",
     "output_type": "stream",
     "text": [
      "h^1 =>\n"
     ]
    },
    {
     "data": {
      "text/latex": [
       "$\\displaystyle 0$"
      ],
      "text/plain": [
       "0"
      ]
     },
     "metadata": {},
     "output_type": "display_data"
    },
    {
     "name": "stdout",
     "output_type": "stream",
     "text": [
      "h^2 =>\n"
     ]
    },
    {
     "data": {
      "text/latex": [
       "$\\displaystyle 0$"
      ],
      "text/plain": [
       "0"
      ]
     },
     "metadata": {},
     "output_type": "display_data"
    },
    {
     "name": "stdout",
     "output_type": "stream",
     "text": [
      "h^3 =>\n"
     ]
    },
    {
     "data": {
      "text/latex": [
       "$\\displaystyle 0$"
      ],
      "text/plain": [
       "0"
      ]
     },
     "metadata": {},
     "output_type": "display_data"
    },
    {
     "name": "stdout",
     "output_type": "stream",
     "text": [
      "h^4 =>\n"
     ]
    },
    {
     "data": {
      "text/latex": [
       "$\\displaystyle \\frac{737 \\varepsilon^{3} u^{7} u_{1}}{360000} + \\frac{\\varepsilon^{2} u^{3} u_{1} \\left(737 u^{2} - 2405 u_{1}^{2}\\right)}{180000} + \\frac{\\varepsilon u u_{1} \\left(737 u^{2} - 1846 u_{1}^{2}\\right)}{360000}$"
      ],
      "text/plain": [
       "737*\\varepsilon**3*u**7*u1/360000 + \\varepsilon**2*u**3*u1*(737*u**2 - 2405*u1**2)/180000 + \\varepsilon*u*u1*(737*u**2 - 1846*u1**2)/360000"
      ]
     },
     "metadata": {},
     "output_type": "display_data"
    },
    {
     "name": "stdout",
     "output_type": "stream",
     "text": [
      "h^5 =>\n"
     ]
    },
    {
     "data": {
      "text/latex": [
       "$\\displaystyle \\frac{7687 \\varepsilon^{4} u^{10}}{1200000} + \\frac{\\varepsilon^{3} u^{6} \\left(539487 u^{2} + 2014345 u_{1}^{2}\\right)}{32400000} + \\frac{\\varepsilon^{2} u^{2} \\left(484047 u^{4} + 2507954 u^{2} u_{1}^{2} - 418248 u_{1}^{4}\\right)}{32400000} + \\frac{\\varepsilon \\left(179829 u^{4} + 743089 u^{2} u_{1}^{2} - 182784 u_{1}^{4}\\right)}{32400000} + \\frac{77 \\left(u^{2} + u_{1}^{2}\\right)}{90000}$"
      ],
      "text/plain": [
       "7687*\\varepsilon**4*u**10/1200000 + \\varepsilon**3*u**6*(539487*u**2 + 2014345*u1**2)/32400000 + \\varepsilon**2*u**2*(484047*u**4 + 2507954*u**2*u1**2 - 418248*u1**4)/32400000 + \\varepsilon*(179829*u**4 + 743089*u**2*u1**2 - 182784*u1**4)/32400000 + 77*(u**2 + u1**2)/90000"
      ]
     },
     "metadata": {},
     "output_type": "display_data"
    },
    {
     "name": "stdout",
     "output_type": "stream",
     "text": [
      "0\n",
      "+h\\left(\n",
      "0\n",
      "\\right)\n",
      "+h^2\\left(\n",
      "0\n",
      "\\right)\n",
      "+h^3\\left(\n",
      "0\n",
      "\\right)\n",
      "+h^4\\left(\n",
      "\\frac{737 \\varepsilon^{3} u^{7} u_{1}}{360000} + \\frac{\\varepsilon^{2} u^{3} u_{1} \\left(737 u^{2} - 2405 u_{1}^{2}\\right)}{180000} + \\frac{\\varepsilon u u_{1} \\left(737 u^{2} - 1846 u_{1}^{2}\\right)}{360000}\n",
      "\\right)\n",
      "+h^5\\left(\n",
      "\\frac{7687 \\varepsilon^{4} u^{10}}{1200000} + \\frac{\\varepsilon^{3} u^{6} \\left(539487 u^{2} + 2014345 u_{1}^{2}\\right)}{32400000} + \\frac{\\varepsilon^{2} u^{2} \\left(484047 u^{4} + 2507954 u^{2} u_{1}^{2} - 418248 u_{1}^{4}\\right)}{32400000} + \\frac{\\varepsilon \\left(179829 u^{4} + 743089 u^{2} u_{1}^{2} - 182784 u_{1}^{4}\\right)}{32400000} + \\frac{77 \\left(u^{2} + u_{1}^{2}\\right)}{90000}\n",
      "\\right)\n"
     ]
    }
   ],
   "source": [
    "f3 = NF(F3, [u(t).diff(t), u1(t).diff(t)], [f1, f2], head=True)\n",
    "prn(f3, eps)\n",
    "prnlatex(f3, eps)"
   ]
  },
  {
   "cell_type": "code",
   "execution_count": 49,
   "id": "579698f7",
   "metadata": {},
   "outputs": [
    {
     "name": "stdout",
     "output_type": "stream",
     "text": [
      "737*eps**3*y[0]**7*y[1]/360000 + eps**2*(737*y[0]**5*y[1]/180000 - 481*y[0]**3*y[1]**3/36000) + eps*(737*y[0]**3*y[1]/360000 - 923*y[0]*y[1]**3/180000)\n"
     ]
    }
   ],
   "source": [
    "print(replace(str(f3[4].collect(eps))))"
   ]
  },
  {
   "cell_type": "markdown",
   "id": "1aa8cbbf",
   "metadata": {},
   "source": [
    "### Adams–Bashforth method 4 order"
   ]
  },
  {
   "cell_type": "code",
   "execution_count": 50,
   "id": "21a34fbf",
   "metadata": {},
   "outputs": [],
   "source": [
    "set_clip(7, 6, Rational(0, 1))\n",
    "m = AdamsBashforth4(g, Matrix([u(t), u1(t)]))"
   ]
  },
  {
   "cell_type": "code",
   "execution_count": 51,
   "id": "03cd1074",
   "metadata": {},
   "outputs": [
    {
     "name": "stdout",
     "output_type": "stream",
     "text": [
      "h^0 =>\n"
     ]
    },
    {
     "data": {
      "text/latex": [
       "$\\displaystyle - u_{1} + u_{t}$"
      ],
      "text/plain": [
       "-u1 + u_{t}"
      ]
     },
     "metadata": {},
     "output_type": "display_data"
    },
    {
     "name": "stdout",
     "output_type": "stream",
     "text": [
      "h^1 =>\n"
     ]
    },
    {
     "data": {
      "text/latex": [
       "$\\displaystyle - \\frac{7 \\left(u1_{t} - u_{tt}\\right)}{2}$"
      ],
      "text/plain": [
       "-7*(u1_{t} - u_{tt})/2"
      ]
     },
     "metadata": {},
     "output_type": "display_data"
    },
    {
     "name": "stdout",
     "output_type": "stream",
     "text": [
      "h^2 =>\n"
     ]
    },
    {
     "data": {
      "text/latex": [
       "$\\displaystyle - \\frac{37 \\left(u1_{tt} - u_{ttt}\\right)}{6}$"
      ],
      "text/plain": [
       "-37*(u1_{tt} - u_{ttt})/6"
      ]
     },
     "metadata": {},
     "output_type": "display_data"
    },
    {
     "name": "stdout",
     "output_type": "stream",
     "text": [
      "h^3 =>\n"
     ]
    },
    {
     "data": {
      "text/latex": [
       "$\\displaystyle - \\frac{175 \\left(u1_{ttt} - u_{tttt}\\right)}{24}$"
      ],
      "text/plain": [
       "-175*(u1_{ttt} - u_{tttt})/24"
      ]
     },
     "metadata": {},
     "output_type": "display_data"
    },
    {
     "name": "stdout",
     "output_type": "stream",
     "text": [
      "h^4 =>\n"
     ]
    },
    {
     "data": {
      "text/latex": [
       "$\\displaystyle - \\frac{4435 u1_{tttt} - 4686 u_{ttttt}}{720}$"
      ],
      "text/plain": [
       "-(4435*u1_{tttt} - 4686*u_{ttttt})/720"
      ]
     },
     "metadata": {},
     "output_type": "display_data"
    },
    {
     "name": "stdout",
     "output_type": "stream",
     "text": [
      "h^5 =>\n"
     ]
    },
    {
     "data": {
      "text/latex": [
       "$\\displaystyle - \\frac{5757 u1_{ttttt} - 6734 u_{tttttt}}{1440}$"
      ],
      "text/plain": [
       "-(5757*u1_{ttttt} - 6734*u_{tttttt})/1440"
      ]
     },
     "metadata": {},
     "output_type": "display_data"
    },
    {
     "name": "stdout",
     "output_type": "stream",
     "text": [
      "- u_{1} + u_{t}\n",
      "+h\\left(\n",
      "- \\frac{7 \\left(u1_{t} - u_{tt}\\right)}{2}\n",
      "\\right)\n",
      "+h^2\\left(\n",
      "- \\frac{37 \\left(u1_{tt} - u_{ttt}\\right)}{6}\n",
      "\\right)\n",
      "+h^3\\left(\n",
      "- \\frac{175 \\left(u1_{ttt} - u_{tttt}\\right)}{24}\n",
      "\\right)\n",
      "+h^4\\left(\n",
      "- \\frac{4435 u1_{tttt} - 4686 u_{ttttt}}{720}\n",
      "\\right)\n",
      "+h^5\\left(\n",
      "- \\frac{5757 u1_{ttttt} - 6734 u_{tttttt}}{1440}\n",
      "\\right)\n"
     ]
    }
   ],
   "source": [
    "F1 = clip((T(u(t+4*h))-T(u(t+3*h)))/h - T(m[0]))\n",
    "prn(F1, eps)\n",
    "prnlatex(F1, eps)"
   ]
  },
  {
   "cell_type": "code",
   "execution_count": 52,
   "id": "cc70d7cf",
   "metadata": {},
   "outputs": [
    {
     "name": "stdout",
     "output_type": "stream",
     "text": [
      "h^0 =>\n"
     ]
    },
    {
     "data": {
      "text/latex": [
       "$\\displaystyle \\varepsilon u^{3} + u + u1_{t}$"
      ],
      "text/plain": [
       "\\varepsilon*u**3 + u + u1_{t}"
      ]
     },
     "metadata": {},
     "output_type": "display_data"
    },
    {
     "name": "stdout",
     "output_type": "stream",
     "text": [
      "h^1 =>\n"
     ]
    },
    {
     "data": {
      "text/latex": [
       "$\\displaystyle \\frac{21 \\varepsilon u^{2} u_{t}}{2} + \\frac{7 \\left(u1_{tt} + u_{t}\\right)}{2}$"
      ],
      "text/plain": [
       "21*\\varepsilon*u**2*u_{t}/2 + 7*(u1_{tt} + u_{t})/2"
      ]
     },
     "metadata": {},
     "output_type": "display_data"
    },
    {
     "name": "stdout",
     "output_type": "stream",
     "text": [
      "h^2 =>\n"
     ]
    },
    {
     "data": {
      "text/latex": [
       "$\\displaystyle \\frac{37 \\varepsilon u \\left(u u_{tt} + 2 u_{t}^{2}\\right)}{2} + \\frac{37 \\left(u1_{ttt} + u_{tt}\\right)}{6}$"
      ],
      "text/plain": [
       "37*\\varepsilon*u*(u*u_{tt} + 2*u_{t}**2)/2 + 37*(u1_{ttt} + u_{tt})/6"
      ]
     },
     "metadata": {},
     "output_type": "display_data"
    },
    {
     "name": "stdout",
     "output_type": "stream",
     "text": [
      "h^3 =>\n"
     ]
    },
    {
     "data": {
      "text/latex": [
       "$\\displaystyle \\frac{175 \\varepsilon \\left(u^{2} u_{ttt} + 6 u u_{tt} u_{t} + 2 u_{t}^{3}\\right)}{8} + \\frac{175 \\left(u1_{tttt} + u_{ttt}\\right)}{24}$"
      ],
      "text/plain": [
       "175*\\varepsilon*(u**2*u_{ttt} + 6*u*u_{tt}*u_{t} + 2*u_{t}**3)/8 + 175*(u1_{tttt} + u_{ttt})/24"
      ]
     },
     "metadata": {},
     "output_type": "display_data"
    },
    {
     "name": "stdout",
     "output_type": "stream",
     "text": [
      "h^4 =>\n"
     ]
    },
    {
     "data": {
      "text/latex": [
       "$\\displaystyle \\frac{887 \\varepsilon \\left(u^{2} u_{tttt} + 8 u u_{ttt} u_{t} + 6 u u_{tt}^{2} + 12 u_{tt} u_{t}^{2}\\right)}{48} + \\frac{4686 u1_{ttttt} + 4435 u_{tttt}}{720}$"
      ],
      "text/plain": [
       "887*\\varepsilon*(u**2*u_{tttt} + 8*u*u_{ttt}*u_{t} + 6*u*u_{tt}**2 + 12*u_{tt}*u_{t}**2)/48 + (4686*u1_{ttttt} + 4435*u_{tttt})/720"
      ]
     },
     "metadata": {},
     "output_type": "display_data"
    },
    {
     "name": "stdout",
     "output_type": "stream",
     "text": [
      "h^5 =>\n"
     ]
    },
    {
     "data": {
      "text/latex": [
       "$\\displaystyle \\frac{1919 \\varepsilon \\left(u^{2} u_{ttttt} + 10 u u_{tttt} u_{t} + 20 u u_{ttt} u_{tt} + 20 u_{ttt} u_{t}^{2} + 30 u_{tt}^{2} u_{t}\\right)}{160} + \\frac{6734 u1_{tttttt} + 5757 u_{ttttt}}{1440}$"
      ],
      "text/plain": [
       "1919*\\varepsilon*(u**2*u_{ttttt} + 10*u*u_{tttt}*u_{t} + 20*u*u_{ttt}*u_{tt} + 20*u_{ttt}*u_{t}**2 + 30*u_{tt}**2*u_{t})/160 + (6734*u1_{tttttt} + 5757*u_{ttttt})/1440"
      ]
     },
     "metadata": {},
     "output_type": "display_data"
    },
    {
     "name": "stdout",
     "output_type": "stream",
     "text": [
      "\\varepsilon u^{3} + u + u1_{t}\n",
      "+h\\left(\n",
      "\\frac{21 \\varepsilon u^{2} u_{t}}{2} + \\frac{7 \\left(u1_{tt} + u_{t}\\right)}{2}\n",
      "\\right)\n",
      "+h^2\\left(\n",
      "\\frac{37 \\varepsilon u \\left(u u_{tt} + 2 u_{t}^{2}\\right)}{2} + \\frac{37 \\left(u1_{ttt} + u_{tt}\\right)}{6}\n",
      "\\right)\n",
      "+h^3\\left(\n",
      "\\frac{175 \\varepsilon \\left(u^{2} u_{ttt} + 6 u u_{tt} u_{t} + 2 u_{t}^{3}\\right)}{8} + \\frac{175 \\left(u1_{tttt} + u_{ttt}\\right)}{24}\n",
      "\\right)\n",
      "+h^4\\left(\n",
      "\\frac{887 \\varepsilon \\left(u^{2} u_{tttt} + 8 u u_{ttt} u_{t} + 6 u u_{tt}^{2} + 12 u_{tt} u_{t}^{2}\\right)}{48} + \\frac{4686 u1_{ttttt} + 4435 u_{tttt}}{720}\n",
      "\\right)\n",
      "+h^5\\left(\n",
      "\\frac{1919 \\varepsilon \\left(u^{2} u_{ttttt} + 10 u u_{tttt} u_{t} + 20 u u_{ttt} u_{tt} + 20 u_{ttt} u_{t}^{2} + 30 u_{tt}^{2} u_{t}\\right)}{160} + \\frac{6734 u1_{tttttt} + 5757 u_{ttttt}}{1440}\n",
      "\\right)\n"
     ]
    }
   ],
   "source": [
    "F2 = clip((T(u1(t+4*h))-T(u1(t+3*h)))/h - T(m[1]))\n",
    "prn(F2, eps)\n",
    "prnlatex(F2, eps)"
   ]
  },
  {
   "cell_type": "code",
   "execution_count": 53,
   "id": "bc948146",
   "metadata": {},
   "outputs": [
    {
     "name": "stdout",
     "output_type": "stream",
     "text": [
      "h^0 =>\n"
     ]
    },
    {
     "data": {
      "text/latex": [
       "$\\displaystyle - u_{1} + u_{t}$"
      ],
      "text/plain": [
       "-u1 + u_{t}"
      ]
     },
     "metadata": {},
     "output_type": "display_data"
    },
    {
     "name": "stdout",
     "output_type": "stream",
     "text": [
      "h^1 =>\n"
     ]
    },
    {
     "data": {
      "text/latex": [
       "$\\displaystyle 0$"
      ],
      "text/plain": [
       "0"
      ]
     },
     "metadata": {},
     "output_type": "display_data"
    },
    {
     "name": "stdout",
     "output_type": "stream",
     "text": [
      "h^2 =>\n"
     ]
    },
    {
     "data": {
      "text/latex": [
       "$\\displaystyle 0$"
      ],
      "text/plain": [
       "0"
      ]
     },
     "metadata": {},
     "output_type": "display_data"
    },
    {
     "name": "stdout",
     "output_type": "stream",
     "text": [
      "h^3 =>\n"
     ]
    },
    {
     "data": {
      "text/latex": [
       "$\\displaystyle 0$"
      ],
      "text/plain": [
       "0"
      ]
     },
     "metadata": {},
     "output_type": "display_data"
    },
    {
     "name": "stdout",
     "output_type": "stream",
     "text": [
      "h^4 =>\n"
     ]
    },
    {
     "data": {
      "text/latex": [
       "$\\displaystyle \\frac{753 \\varepsilon^{2} u^{4} u_{1}}{80} + \\frac{251 \\varepsilon u_{1} \\left(2 u - u_{1}\\right) \\left(2 u + u_{1}\\right)}{120} + \\frac{251 u_{1}}{720}$"
      ],
      "text/plain": [
       "753*\\varepsilon**2*u**4*u1/80 + 251*\\varepsilon*u1*(2*u - u1)*(2*u + u1)/120 + 251*u1/720"
      ]
     },
     "metadata": {},
     "output_type": "display_data"
    },
    {
     "name": "stdout",
     "output_type": "stream",
     "text": [
      "h^5 =>\n"
     ]
    },
    {
     "data": {
      "text/latex": [
       "$\\displaystyle \\frac{117 \\varepsilon^{3} u^{7}}{8} + \\frac{13 \\varepsilon^{2} u^{3} \\left(17 u^{2} - 42 u_{1}^{2}\\right)}{8} + \\frac{13 \\varepsilon u \\left(25 u^{2} - 66 u_{1}^{2}\\right)}{24} + \\frac{13 u}{24}$"
      ],
      "text/plain": [
       "117*\\varepsilon**3*u**7/8 + 13*\\varepsilon**2*u**3*(17*u**2 - 42*u1**2)/8 + 13*\\varepsilon*u*(25*u**2 - 66*u1**2)/24 + 13*u/24"
      ]
     },
     "metadata": {},
     "output_type": "display_data"
    },
    {
     "name": "stdout",
     "output_type": "stream",
     "text": [
      "- u_{1} + u_{t}\n",
      "+h\\left(\n",
      "0\n",
      "\\right)\n",
      "+h^2\\left(\n",
      "0\n",
      "\\right)\n",
      "+h^3\\left(\n",
      "0\n",
      "\\right)\n",
      "+h^4\\left(\n",
      "\\frac{753 \\varepsilon^{2} u^{4} u_{1}}{80} + \\frac{251 \\varepsilon u_{1} \\left(2 u - u_{1}\\right) \\left(2 u + u_{1}\\right)}{120} + \\frac{251 u_{1}}{720}\n",
      "\\right)\n",
      "+h^5\\left(\n",
      "\\frac{117 \\varepsilon^{3} u^{7}}{8} + \\frac{13 \\varepsilon^{2} u^{3} \\left(17 u^{2} - 42 u_{1}^{2}\\right)}{8} + \\frac{13 \\varepsilon u \\left(25 u^{2} - 66 u_{1}^{2}\\right)}{24} + \\frac{13 u}{24}\n",
      "\\right)\n"
     ]
    }
   ],
   "source": [
    "f1 = NF(F1, [u(t).diff(t), u1(t).diff(t)], [F1, F2], head=False)\n",
    "prn(f1, eps)\n",
    "prnlatex(f1, eps)"
   ]
  },
  {
   "cell_type": "code",
   "execution_count": 54,
   "id": "95da8f23",
   "metadata": {},
   "outputs": [
    {
     "name": "stdout",
     "output_type": "stream",
     "text": [
      "h^0 =>\n"
     ]
    },
    {
     "data": {
      "text/latex": [
       "$\\displaystyle \\varepsilon u^{3} + u + u1_{t}$"
      ],
      "text/plain": [
       "\\varepsilon*u**3 + u + u1_{t}"
      ]
     },
     "metadata": {},
     "output_type": "display_data"
    },
    {
     "name": "stdout",
     "output_type": "stream",
     "text": [
      "h^1 =>\n"
     ]
    },
    {
     "data": {
      "text/latex": [
       "$\\displaystyle 0$"
      ],
      "text/plain": [
       "0"
      ]
     },
     "metadata": {},
     "output_type": "display_data"
    },
    {
     "name": "stdout",
     "output_type": "stream",
     "text": [
      "h^2 =>\n"
     ]
    },
    {
     "data": {
      "text/latex": [
       "$\\displaystyle 0$"
      ],
      "text/plain": [
       "0"
      ]
     },
     "metadata": {},
     "output_type": "display_data"
    },
    {
     "name": "stdout",
     "output_type": "stream",
     "text": [
      "h^3 =>\n"
     ]
    },
    {
     "data": {
      "text/latex": [
       "$\\displaystyle 0$"
      ],
      "text/plain": [
       "0"
      ]
     },
     "metadata": {},
     "output_type": "display_data"
    },
    {
     "name": "stdout",
     "output_type": "stream",
     "text": [
      "h^4 =>\n"
     ]
    },
    {
     "data": {
      "text/latex": [
       "$\\displaystyle - \\frac{753 \\varepsilon^{3} u^{7}}{80} - \\frac{251 \\varepsilon^{2} u^{3} \\left(17 u^{2} - 42 u_{1}^{2}\\right)}{240} - \\frac{251 \\varepsilon u \\left(25 u^{2} - 66 u_{1}^{2}\\right)}{720} - \\frac{251 u}{720}$"
      ],
      "text/plain": [
       "-753*\\varepsilon**3*u**7/80 - 251*\\varepsilon**2*u**3*(17*u**2 - 42*u1**2)/240 - 251*\\varepsilon*u*(25*u**2 - 66*u1**2)/720 - 251*u/720"
      ]
     },
     "metadata": {},
     "output_type": "display_data"
    },
    {
     "name": "stdout",
     "output_type": "stream",
     "text": [
      "h^5 =>\n"
     ]
    },
    {
     "data": {
      "text/latex": [
       "$\\displaystyle \\frac{1911 \\varepsilon^{3} u^{6} u_{1}}{8} + \\frac{39 \\varepsilon^{2} u^{2} u_{1} \\left(71 u^{2} - 42 u_{1}^{2}\\right)}{8} + \\frac{13 \\varepsilon u_{1} \\left(69 u^{2} - 22 u_{1}^{2}\\right)}{8} + \\frac{13 u_{1}}{24}$"
      ],
      "text/plain": [
       "1911*\\varepsilon**3*u**6*u1/8 + 39*\\varepsilon**2*u**2*u1*(71*u**2 - 42*u1**2)/8 + 13*\\varepsilon*u1*(69*u**2 - 22*u1**2)/8 + 13*u1/24"
      ]
     },
     "metadata": {},
     "output_type": "display_data"
    },
    {
     "name": "stdout",
     "output_type": "stream",
     "text": [
      "\\varepsilon u^{3} + u + u1_{t}\n",
      "+h\\left(\n",
      "0\n",
      "\\right)\n",
      "+h^2\\left(\n",
      "0\n",
      "\\right)\n",
      "+h^3\\left(\n",
      "0\n",
      "\\right)\n",
      "+h^4\\left(\n",
      "- \\frac{753 \\varepsilon^{3} u^{7}}{80} - \\frac{251 \\varepsilon^{2} u^{3} \\left(17 u^{2} - 42 u_{1}^{2}\\right)}{240} - \\frac{251 \\varepsilon u \\left(25 u^{2} - 66 u_{1}^{2}\\right)}{720} - \\frac{251 u}{720}\n",
      "\\right)\n",
      "+h^5\\left(\n",
      "\\frac{1911 \\varepsilon^{3} u^{6} u_{1}}{8} + \\frac{39 \\varepsilon^{2} u^{2} u_{1} \\left(71 u^{2} - 42 u_{1}^{2}\\right)}{8} + \\frac{13 \\varepsilon u_{1} \\left(69 u^{2} - 22 u_{1}^{2}\\right)}{8} + \\frac{13 u_{1}}{24}\n",
      "\\right)\n"
     ]
    }
   ],
   "source": [
    "f2 = NF(F2, [u(t).diff(t), u1(t).diff(t)], [F1, F2], head=False)\n",
    "prn(f2, eps)\n",
    "prnlatex(f2, eps)"
   ]
  },
  {
   "cell_type": "code",
   "execution_count": 55,
   "id": "3f8b125b",
   "metadata": {},
   "outputs": [
    {
     "name": "stdout",
     "output_type": "stream",
     "text": [
      "h^0 =>\n"
     ]
    },
    {
     "data": {
      "text/latex": [
       "$\\displaystyle \\varepsilon u^{3} u_{t} + u u_{t} + u_{1} u1_{t}$"
      ],
      "text/plain": [
       "\\varepsilon*u**3*u_{t} + u*u_{t} + u1*u1_{t}"
      ]
     },
     "metadata": {},
     "output_type": "display_data"
    },
    {
     "name": "stdout",
     "output_type": "stream",
     "text": [
      "h^1 =>\n"
     ]
    },
    {
     "data": {
      "text/latex": [
       "$\\displaystyle \\frac{\\varepsilon u^{2} \\left(u u_{tt} + 3 u_{t}^{2}\\right)}{2} + \\frac{u u_{tt} + u_{1} u1_{tt} + u1_{t}^{2} + u_{t}^{2}}{2}$"
      ],
      "text/plain": [
       "\\varepsilon*u**2*(u*u_{tt} + 3*u_{t}**2)/2 + (u*u_{tt} + u1*u1_{tt} + u1_{t}**2 + u_{t}**2)/2"
      ]
     },
     "metadata": {},
     "output_type": "display_data"
    },
    {
     "name": "stdout",
     "output_type": "stream",
     "text": [
      "h^2 =>\n"
     ]
    },
    {
     "data": {
      "text/latex": [
       "$\\displaystyle \\frac{\\varepsilon u \\left(u^{2} u_{ttt} + 9 u u_{tt} u_{t} + 6 u_{t}^{3}\\right)}{6} + \\frac{u u_{ttt} + u_{1} u1_{ttt} + 3 u1_{tt} u1_{t} + 3 u_{tt} u_{t}}{6}$"
      ],
      "text/plain": [
       "\\varepsilon*u*(u**2*u_{ttt} + 9*u*u_{tt}*u_{t} + 6*u_{t}**3)/6 + (u*u_{ttt} + u1*u1_{ttt} + 3*u1_{tt}*u1_{t} + 3*u_{tt}*u_{t})/6"
      ]
     },
     "metadata": {},
     "output_type": "display_data"
    },
    {
     "name": "stdout",
     "output_type": "stream",
     "text": [
      "h^3 =>\n"
     ]
    },
    {
     "data": {
      "text/latex": [
       "$\\displaystyle \\frac{\\varepsilon \\left(u^{3} u_{tttt} + 12 u^{2} u_{ttt} u_{t} + 9 u^{2} u_{tt}^{2} + 36 u u_{tt} u_{t}^{2} + 6 u_{t}^{4}\\right)}{24} + \\frac{u u_{tttt} + u_{1} u1_{tttt} + 4 u1_{ttt} u1_{t} + 3 u1_{tt}^{2} + 4 u_{ttt} u_{t} + 3 u_{tt}^{2}}{24}$"
      ],
      "text/plain": [
       "\\varepsilon*(u**3*u_{tttt} + 12*u**2*u_{ttt}*u_{t} + 9*u**2*u_{tt}**2 + 36*u*u_{tt}*u_{t}**2 + 6*u_{t}**4)/24 + (u*u_{tttt} + u1*u1_{tttt} + 4*u1_{ttt}*u1_{t} + 3*u1_{tt}**2 + 4*u_{ttt}*u_{t} + 3*u_{tt}**2)/24"
      ]
     },
     "metadata": {},
     "output_type": "display_data"
    },
    {
     "name": "stdout",
     "output_type": "stream",
     "text": [
      "h^4 =>\n"
     ]
    },
    {
     "data": {
      "text/latex": [
       "$\\displaystyle \\frac{\\varepsilon \\left(u^{3} u_{ttttt} + 15 u^{2} u_{tttt} u_{t} + 30 u^{2} u_{ttt} u_{tt} + 60 u u_{ttt} u_{t}^{2} + 90 u u_{tt}^{2} u_{t} + 60 u_{tt} u_{t}^{3}\\right)}{120} + \\frac{u u_{ttttt} + u_{1} u1_{ttttt} + 5 u1_{tttt} u1_{t} + 10 u1_{ttt} u1_{tt} + 5 u_{tttt} u_{t} + 10 u_{ttt} u_{tt}}{120}$"
      ],
      "text/plain": [
       "\\varepsilon*(u**3*u_{ttttt} + 15*u**2*u_{tttt}*u_{t} + 30*u**2*u_{ttt}*u_{tt} + 60*u*u_{ttt}*u_{t}**2 + 90*u*u_{tt}**2*u_{t} + 60*u_{tt}*u_{t}**3)/120 + (u*u_{ttttt} + u1*u1_{ttttt} + 5*u1_{tttt}*u1_{t} + 10*u1_{ttt}*u1_{tt} + 5*u_{tttt}*u_{t} + 10*u_{ttt}*u_{tt})/120"
      ]
     },
     "metadata": {},
     "output_type": "display_data"
    },
    {
     "name": "stdout",
     "output_type": "stream",
     "text": [
      "h^5 =>\n"
     ]
    },
    {
     "data": {
      "text/latex": [
       "$\\displaystyle \\frac{\\varepsilon \\left(u^{3} u_{tttttt} + 18 u^{2} u_{ttttt} u_{t} + 45 u^{2} u_{tttt} u_{tt} + 30 u^{2} u_{ttt}^{2} + 90 u u_{tttt} u_{t}^{2} + 360 u u_{ttt} u_{tt} u_{t} + 90 u u_{tt}^{3} + 120 u_{ttt} u_{t}^{3} + 270 u_{tt}^{2} u_{t}^{2}\\right)}{720} + \\frac{u u_{tttttt} + u_{1} u1_{tttttt} + 6 u1_{ttttt} u1_{t} + 15 u1_{tttt} u1_{tt} + 10 u1_{ttt}^{2} + 6 u_{ttttt} u_{t} + 15 u_{tttt} u_{tt} + 10 u_{ttt}^{2}}{720}$"
      ],
      "text/plain": [
       "\\varepsilon*(u**3*u_{tttttt} + 18*u**2*u_{ttttt}*u_{t} + 45*u**2*u_{tttt}*u_{tt} + 30*u**2*u_{ttt}**2 + 90*u*u_{tttt}*u_{t}**2 + 360*u*u_{ttt}*u_{tt}*u_{t} + 90*u*u_{tt}**3 + 120*u_{ttt}*u_{t}**3 + 270*u_{tt}**2*u_{t}**2)/720 + (u*u_{tttttt} + u1*u1_{tttttt} + 6*u1_{ttttt}*u1_{t} + 15*u1_{tttt}*u1_{tt} + 10*u1_{ttt}**2 + 6*u_{ttttt}*u_{t} + 15*u_{tttt}*u_{tt} + 10*u_{ttt}**2)/720"
      ]
     },
     "metadata": {},
     "output_type": "display_data"
    },
    {
     "name": "stdout",
     "output_type": "stream",
     "text": [
      "\\varepsilon u^{3} u_{t} + u u_{t} + u_{1} u1_{t}\n",
      "+h\\left(\n",
      "\\frac{\\varepsilon u^{2} \\left(u u_{tt} + 3 u_{t}^{2}\\right)}{2} + \\frac{u u_{tt} + u_{1} u1_{tt} + u1_{t}^{2} + u_{t}^{2}}{2}\n",
      "\\right)\n",
      "+h^2\\left(\n",
      "\\frac{\\varepsilon u \\left(u^{2} u_{ttt} + 9 u u_{tt} u_{t} + 6 u_{t}^{3}\\right)}{6} + \\frac{u u_{ttt} + u_{1} u1_{ttt} + 3 u1_{tt} u1_{t} + 3 u_{tt} u_{t}}{6}\n",
      "\\right)\n",
      "+h^3\\left(\n",
      "\\frac{\\varepsilon \\left(u^{3} u_{tttt} + 12 u^{2} u_{ttt} u_{t} + 9 u^{2} u_{tt}^{2} + 36 u u_{tt} u_{t}^{2} + 6 u_{t}^{4}\\right)}{24} + \\frac{u u_{tttt} + u_{1} u1_{tttt} + 4 u1_{ttt} u1_{t} + 3 u1_{tt}^{2} + 4 u_{ttt} u_{t} + 3 u_{tt}^{2}}{24}\n",
      "\\right)\n",
      "+h^4\\left(\n",
      "\\frac{\\varepsilon \\left(u^{3} u_{ttttt} + 15 u^{2} u_{tttt} u_{t} + 30 u^{2} u_{ttt} u_{tt} + 60 u u_{ttt} u_{t}^{2} + 90 u u_{tt}^{2} u_{t} + 60 u_{tt} u_{t}^{3}\\right)}{120} + \\frac{u u_{ttttt} + u_{1} u1_{ttttt} + 5 u1_{tttt} u1_{t} + 10 u1_{ttt} u1_{tt} + 5 u_{tttt} u_{t} + 10 u_{ttt} u_{tt}}{120}\n",
      "\\right)\n",
      "+h^5\\left(\n",
      "\\frac{\\varepsilon \\left(u^{3} u_{tttttt} + 18 u^{2} u_{ttttt} u_{t} + 45 u^{2} u_{tttt} u_{tt} + 30 u^{2} u_{ttt}^{2} + 90 u u_{tttt} u_{t}^{2} + 360 u u_{ttt} u_{tt} u_{t} + 90 u u_{tt}^{3} + 120 u_{ttt} u_{t}^{3} + 270 u_{tt}^{2} u_{t}^{2}\\right)}{720} + \\frac{u u_{tttttt} + u_{1} u1_{tttttt} + 6 u1_{ttttt} u1_{t} + 15 u1_{tttt} u1_{tt} + 10 u1_{ttt}^{2} + 6 u_{ttttt} u_{t} + 15 u_{tttt} u_{tt} + 10 u_{ttt}^{2}}{720}\n",
      "\\right)\n"
     ]
    }
   ],
   "source": [
    "F3 = clip(((T(u1(t+h))**2/2 + T(u(t+h))**2/2 + eps*T(u(t+h))**4/4) -\\\n",
    "           (T(u1(t))**2/2 + T(u(t))**2/2 + eps*T(u(t))**4/4))/h)\n",
    "prn(F3, eps)\n",
    "prnlatex(F3, eps)"
   ]
  },
  {
   "cell_type": "code",
   "execution_count": 56,
   "id": "08739ea1",
   "metadata": {},
   "outputs": [
    {
     "name": "stdout",
     "output_type": "stream",
     "text": [
      "h^0 =>\n"
     ]
    },
    {
     "data": {
      "text/latex": [
       "$\\displaystyle 0$"
      ],
      "text/plain": [
       "0"
      ]
     },
     "metadata": {},
     "output_type": "display_data"
    },
    {
     "name": "stdout",
     "output_type": "stream",
     "text": [
      "h^1 =>\n"
     ]
    },
    {
     "data": {
      "text/latex": [
       "$\\displaystyle 0$"
      ],
      "text/plain": [
       "0"
      ]
     },
     "metadata": {},
     "output_type": "display_data"
    },
    {
     "name": "stdout",
     "output_type": "stream",
     "text": [
      "h^2 =>\n"
     ]
    },
    {
     "data": {
      "text/latex": [
       "$\\displaystyle 0$"
      ],
      "text/plain": [
       "0"
      ]
     },
     "metadata": {},
     "output_type": "display_data"
    },
    {
     "name": "stdout",
     "output_type": "stream",
     "text": [
      "h^3 =>\n"
     ]
    },
    {
     "data": {
      "text/latex": [
       "$\\displaystyle 0$"
      ],
      "text/plain": [
       "0"
      ]
     },
     "metadata": {},
     "output_type": "display_data"
    },
    {
     "name": "stdout",
     "output_type": "stream",
     "text": [
      "h^4 =>\n"
     ]
    },
    {
     "data": {
      "text/latex": [
       "$\\displaystyle - \\frac{251 \\varepsilon^{2} u^{3} u_{1}^{3}}{6} - \\frac{251 \\varepsilon u u_{1}^{3}}{12}$"
      ],
      "text/plain": [
       "-251*\\varepsilon**2*u**3*u1**3/6 - 251*\\varepsilon*u*u1**3/12"
      ]
     },
     "metadata": {},
     "output_type": "display_data"
    },
    {
     "name": "stdout",
     "output_type": "stream",
     "text": [
      "h^5 =>\n"
     ]
    },
    {
     "data": {
      "text/latex": [
       "$\\displaystyle - \\frac{117 \\varepsilon^{4} u^{10}}{8} - \\frac{\\varepsilon^{3} u^{6} \\left(338 u^{2} + 863 u_{1}^{2}\\right)}{8} - \\frac{\\varepsilon^{2} u^{2} \\left(247 u^{4} + 888 u^{2} u_{1}^{2} - 852 u_{1}^{4}\\right)}{6} - \\frac{\\varepsilon \\left(338 u^{4} + 1080 u^{2} u_{1}^{2} - 607 u_{1}^{4}\\right)}{24} - \\frac{13 \\left(u^{2} + u_{1}^{2}\\right)}{24}$"
      ],
      "text/plain": [
       "-117*\\varepsilon**4*u**10/8 - \\varepsilon**3*u**6*(338*u**2 + 863*u1**2)/8 - \\varepsilon**2*u**2*(247*u**4 + 888*u**2*u1**2 - 852*u1**4)/6 - \\varepsilon*(338*u**4 + 1080*u**2*u1**2 - 607*u1**4)/24 - 13*(u**2 + u1**2)/24"
      ]
     },
     "metadata": {},
     "output_type": "display_data"
    },
    {
     "name": "stdout",
     "output_type": "stream",
     "text": [
      "0\n",
      "+h\\left(\n",
      "0\n",
      "\\right)\n",
      "+h^2\\left(\n",
      "0\n",
      "\\right)\n",
      "+h^3\\left(\n",
      "0\n",
      "\\right)\n",
      "+h^4\\left(\n",
      "- \\frac{251 \\varepsilon^{2} u^{3} u_{1}^{3}}{6} - \\frac{251 \\varepsilon u u_{1}^{3}}{12}\n",
      "\\right)\n",
      "+h^5\\left(\n",
      "- \\frac{117 \\varepsilon^{4} u^{10}}{8} - \\frac{\\varepsilon^{3} u^{6} \\left(338 u^{2} + 863 u_{1}^{2}\\right)}{8} - \\frac{\\varepsilon^{2} u^{2} \\left(247 u^{4} + 888 u^{2} u_{1}^{2} - 852 u_{1}^{4}\\right)}{6} - \\frac{\\varepsilon \\left(338 u^{4} + 1080 u^{2} u_{1}^{2} - 607 u_{1}^{4}\\right)}{24} - \\frac{13 \\left(u^{2} + u_{1}^{2}\\right)}{24}\n",
      "\\right)\n"
     ]
    }
   ],
   "source": [
    "f3 = NF(F3, [u(t).diff(t), u1(t).diff(t)], [f1, f2], head=True)\n",
    "prn(f3, eps)\n",
    "prnlatex(f3, eps)"
   ]
  },
  {
   "cell_type": "code",
   "execution_count": 57,
   "id": "8cdb03b4",
   "metadata": {},
   "outputs": [
    {
     "name": "stdout",
     "output_type": "stream",
     "text": [
      "-251*eps**2*y[0]**3*y[1]**3/6 - 251*eps*y[0]*y[1]**3/12\n"
     ]
    }
   ],
   "source": [
    "print(replace(str(f3[4].collect(eps))))"
   ]
  },
  {
   "cell_type": "markdown",
   "id": "2291c11f",
   "metadata": {
    "collapsed": true
   },
   "source": [
    "### Adams–Moulton method 4 order"
   ]
  },
  {
   "cell_type": "code",
   "execution_count": 58,
   "id": "eb26b411",
   "metadata": {},
   "outputs": [],
   "source": [
    "set_clip(7, 6, Rational(0, 1))\n",
    "m = AdamsMoulton4(g, Matrix([u(t), u1(t)]))"
   ]
  },
  {
   "cell_type": "code",
   "execution_count": 59,
   "id": "30273c61",
   "metadata": {},
   "outputs": [
    {
     "name": "stdout",
     "output_type": "stream",
     "text": [
      "h^0 =>\n"
     ]
    },
    {
     "data": {
      "text/latex": [
       "$\\displaystyle - u_{1} + u_{t}$"
      ],
      "text/plain": [
       "-u1 + u_{t}"
      ]
     },
     "metadata": {},
     "output_type": "display_data"
    },
    {
     "name": "stdout",
     "output_type": "stream",
     "text": [
      "h^1 =>\n"
     ]
    },
    {
     "data": {
      "text/latex": [
       "$\\displaystyle - \\frac{5 \\left(u1_{t} - u_{tt}\\right)}{2}$"
      ],
      "text/plain": [
       "-5*(u1_{t} - u_{tt})/2"
      ]
     },
     "metadata": {},
     "output_type": "display_data"
    },
    {
     "name": "stdout",
     "output_type": "stream",
     "text": [
      "h^2 =>\n"
     ]
    },
    {
     "data": {
      "text/latex": [
       "$\\displaystyle - \\frac{19 \\left(u1_{tt} - u_{ttt}\\right)}{6}$"
      ],
      "text/plain": [
       "-19*(u1_{tt} - u_{ttt})/6"
      ]
     },
     "metadata": {},
     "output_type": "display_data"
    },
    {
     "name": "stdout",
     "output_type": "stream",
     "text": [
      "h^3 =>\n"
     ]
    },
    {
     "data": {
      "text/latex": [
       "$\\displaystyle - \\frac{65 \\left(u1_{ttt} - u_{tttt}\\right)}{24}$"
      ],
      "text/plain": [
       "-65*(u1_{ttt} - u_{tttt})/24"
      ]
     },
     "metadata": {},
     "output_type": "display_data"
    },
    {
     "name": "stdout",
     "output_type": "stream",
     "text": [
      "h^4 =>\n"
     ]
    },
    {
     "data": {
      "text/latex": [
       "$\\displaystyle - \\frac{1285 u1_{tttt} - 1266 u_{ttttt}}{720}$"
      ],
      "text/plain": [
       "-(1285*u1_{tttt} - 1266*u_{ttttt})/720"
      ]
     },
     "metadata": {},
     "output_type": "display_data"
    },
    {
     "name": "stdout",
     "output_type": "stream",
     "text": [
      "h^5 =>\n"
     ]
    },
    {
     "data": {
      "text/latex": [
       "$\\displaystyle - \\frac{279 u1_{ttttt} - 266 u_{tttttt}}{288}$"
      ],
      "text/plain": [
       "-(279*u1_{ttttt} - 266*u_{tttttt})/288"
      ]
     },
     "metadata": {},
     "output_type": "display_data"
    },
    {
     "name": "stdout",
     "output_type": "stream",
     "text": [
      "- u_{1} + u_{t}\n",
      "+h\\left(\n",
      "- \\frac{5 \\left(u1_{t} - u_{tt}\\right)}{2}\n",
      "\\right)\n",
      "+h^2\\left(\n",
      "- \\frac{19 \\left(u1_{tt} - u_{ttt}\\right)}{6}\n",
      "\\right)\n",
      "+h^3\\left(\n",
      "- \\frac{65 \\left(u1_{ttt} - u_{tttt}\\right)}{24}\n",
      "\\right)\n",
      "+h^4\\left(\n",
      "- \\frac{1285 u1_{tttt} - 1266 u_{ttttt}}{720}\n",
      "\\right)\n",
      "+h^5\\left(\n",
      "- \\frac{279 u1_{ttttt} - 266 u_{tttttt}}{288}\n",
      "\\right)\n"
     ]
    }
   ],
   "source": [
    "F1 = clip((T(u(t+3*h))-T(u(t+2*h)))/h - T(m[0]))\n",
    "prn(F1, eps)\n",
    "prnlatex(F1, eps)"
   ]
  },
  {
   "cell_type": "code",
   "execution_count": 60,
   "id": "1349dbe2",
   "metadata": {},
   "outputs": [
    {
     "name": "stdout",
     "output_type": "stream",
     "text": [
      "h^0 =>\n"
     ]
    },
    {
     "data": {
      "text/latex": [
       "$\\displaystyle \\varepsilon u^{3} + u + u1_{t}$"
      ],
      "text/plain": [
       "\\varepsilon*u**3 + u + u1_{t}"
      ]
     },
     "metadata": {},
     "output_type": "display_data"
    },
    {
     "name": "stdout",
     "output_type": "stream",
     "text": [
      "h^1 =>\n"
     ]
    },
    {
     "data": {
      "text/latex": [
       "$\\displaystyle \\frac{15 \\varepsilon u^{2} u_{t}}{2} + \\frac{5 \\left(u1_{tt} + u_{t}\\right)}{2}$"
      ],
      "text/plain": [
       "15*\\varepsilon*u**2*u_{t}/2 + 5*(u1_{tt} + u_{t})/2"
      ]
     },
     "metadata": {},
     "output_type": "display_data"
    },
    {
     "name": "stdout",
     "output_type": "stream",
     "text": [
      "h^2 =>\n"
     ]
    },
    {
     "data": {
      "text/latex": [
       "$\\displaystyle \\frac{19 \\varepsilon u \\left(u u_{tt} + 2 u_{t}^{2}\\right)}{2} + \\frac{19 \\left(u1_{ttt} + u_{tt}\\right)}{6}$"
      ],
      "text/plain": [
       "19*\\varepsilon*u*(u*u_{tt} + 2*u_{t}**2)/2 + 19*(u1_{ttt} + u_{tt})/6"
      ]
     },
     "metadata": {},
     "output_type": "display_data"
    },
    {
     "name": "stdout",
     "output_type": "stream",
     "text": [
      "h^3 =>\n"
     ]
    },
    {
     "data": {
      "text/latex": [
       "$\\displaystyle \\frac{65 \\varepsilon \\left(u^{2} u_{ttt} + 6 u u_{tt} u_{t} + 2 u_{t}^{3}\\right)}{8} + \\frac{65 \\left(u1_{tttt} + u_{ttt}\\right)}{24}$"
      ],
      "text/plain": [
       "65*\\varepsilon*(u**2*u_{ttt} + 6*u*u_{tt}*u_{t} + 2*u_{t}**3)/8 + 65*(u1_{tttt} + u_{ttt})/24"
      ]
     },
     "metadata": {},
     "output_type": "display_data"
    },
    {
     "name": "stdout",
     "output_type": "stream",
     "text": [
      "h^4 =>\n"
     ]
    },
    {
     "data": {
      "text/latex": [
       "$\\displaystyle \\frac{257 \\varepsilon \\left(u^{2} u_{tttt} + 8 u u_{ttt} u_{t} + 6 u u_{tt}^{2} + 12 u_{tt} u_{t}^{2}\\right)}{48} + \\frac{1266 u1_{ttttt} + 1285 u_{tttt}}{720}$"
      ],
      "text/plain": [
       "257*\\varepsilon*(u**2*u_{tttt} + 8*u*u_{ttt}*u_{t} + 6*u*u_{tt}**2 + 12*u_{tt}*u_{t}**2)/48 + (1266*u1_{ttttt} + 1285*u_{tttt})/720"
      ]
     },
     "metadata": {},
     "output_type": "display_data"
    },
    {
     "name": "stdout",
     "output_type": "stream",
     "text": [
      "h^5 =>\n"
     ]
    },
    {
     "data": {
      "text/latex": [
       "$\\displaystyle \\frac{93 \\varepsilon \\left(u^{2} u_{ttttt} + 10 u u_{tttt} u_{t} + 20 u u_{ttt} u_{tt} + 20 u_{ttt} u_{t}^{2} + 30 u_{tt}^{2} u_{t}\\right)}{32} + \\frac{266 u1_{tttttt} + 279 u_{ttttt}}{288}$"
      ],
      "text/plain": [
       "93*\\varepsilon*(u**2*u_{ttttt} + 10*u*u_{tttt}*u_{t} + 20*u*u_{ttt}*u_{tt} + 20*u_{ttt}*u_{t}**2 + 30*u_{tt}**2*u_{t})/32 + (266*u1_{tttttt} + 279*u_{ttttt})/288"
      ]
     },
     "metadata": {},
     "output_type": "display_data"
    },
    {
     "name": "stdout",
     "output_type": "stream",
     "text": [
      "\\varepsilon u^{3} + u + u1_{t}\n",
      "+h\\left(\n",
      "\\frac{15 \\varepsilon u^{2} u_{t}}{2} + \\frac{5 \\left(u1_{tt} + u_{t}\\right)}{2}\n",
      "\\right)\n",
      "+h^2\\left(\n",
      "\\frac{19 \\varepsilon u \\left(u u_{tt} + 2 u_{t}^{2}\\right)}{2} + \\frac{19 \\left(u1_{ttt} + u_{tt}\\right)}{6}\n",
      "\\right)\n",
      "+h^3\\left(\n",
      "\\frac{65 \\varepsilon \\left(u^{2} u_{ttt} + 6 u u_{tt} u_{t} + 2 u_{t}^{3}\\right)}{8} + \\frac{65 \\left(u1_{tttt} + u_{ttt}\\right)}{24}\n",
      "\\right)\n",
      "+h^4\\left(\n",
      "\\frac{257 \\varepsilon \\left(u^{2} u_{tttt} + 8 u u_{ttt} u_{t} + 6 u u_{tt}^{2} + 12 u_{tt} u_{t}^{2}\\right)}{48} + \\frac{1266 u1_{ttttt} + 1285 u_{tttt}}{720}\n",
      "\\right)\n",
      "+h^5\\left(\n",
      "\\frac{93 \\varepsilon \\left(u^{2} u_{ttttt} + 10 u u_{tttt} u_{t} + 20 u u_{ttt} u_{tt} + 20 u_{ttt} u_{t}^{2} + 30 u_{tt}^{2} u_{t}\\right)}{32} + \\frac{266 u1_{tttttt} + 279 u_{ttttt}}{288}\n",
      "\\right)\n"
     ]
    }
   ],
   "source": [
    "F2 = clip((T(u1(t+3*h))-T(u1(t+2*h)))/h - T(m[1]))\n",
    "prn(F2, eps)\n",
    "prnlatex(F2, eps)"
   ]
  },
  {
   "cell_type": "code",
   "execution_count": 61,
   "id": "e99d1c74",
   "metadata": {},
   "outputs": [
    {
     "name": "stdout",
     "output_type": "stream",
     "text": [
      "h^0 =>\n"
     ]
    },
    {
     "data": {
      "text/latex": [
       "$\\displaystyle - u_{1} + u_{t}$"
      ],
      "text/plain": [
       "-u1 + u_{t}"
      ]
     },
     "metadata": {},
     "output_type": "display_data"
    },
    {
     "name": "stdout",
     "output_type": "stream",
     "text": [
      "h^1 =>\n"
     ]
    },
    {
     "data": {
      "text/latex": [
       "$\\displaystyle 0$"
      ],
      "text/plain": [
       "0"
      ]
     },
     "metadata": {},
     "output_type": "display_data"
    },
    {
     "name": "stdout",
     "output_type": "stream",
     "text": [
      "h^2 =>\n"
     ]
    },
    {
     "data": {
      "text/latex": [
       "$\\displaystyle 0$"
      ],
      "text/plain": [
       "0"
      ]
     },
     "metadata": {},
     "output_type": "display_data"
    },
    {
     "name": "stdout",
     "output_type": "stream",
     "text": [
      "h^3 =>\n"
     ]
    },
    {
     "data": {
      "text/latex": [
       "$\\displaystyle 0$"
      ],
      "text/plain": [
       "0"
      ]
     },
     "metadata": {},
     "output_type": "display_data"
    },
    {
     "name": "stdout",
     "output_type": "stream",
     "text": [
      "h^4 =>\n"
     ]
    },
    {
     "data": {
      "text/latex": [
       "$\\displaystyle - \\frac{57 \\varepsilon^{2} u^{4} u_{1}}{80} - \\frac{19 \\varepsilon u_{1} \\left(2 u - u_{1}\\right) \\left(2 u + u_{1}\\right)}{120} - \\frac{19 u_{1}}{720}$"
      ],
      "text/plain": [
       "-57*\\varepsilon**2*u**4*u1/80 - 19*\\varepsilon*u1*(2*u - u1)*(2*u + u1)/120 - 19*u1/720"
      ]
     },
     "metadata": {},
     "output_type": "display_data"
    },
    {
     "name": "stdout",
     "output_type": "stream",
     "text": [
      "h^5 =>\n"
     ]
    },
    {
     "data": {
      "text/latex": [
       "$\\displaystyle - \\frac{9 \\varepsilon^{3} u^{7}}{16} - \\frac{\\varepsilon^{2} u^{3} \\left(17 u^{2} - 42 u_{1}^{2}\\right)}{16} - \\frac{\\varepsilon u \\left(25 u^{2} - 66 u_{1}^{2}\\right)}{48} - \\frac{u}{48}$"
      ],
      "text/plain": [
       "-9*\\varepsilon**3*u**7/16 - \\varepsilon**2*u**3*(17*u**2 - 42*u1**2)/16 - \\varepsilon*u*(25*u**2 - 66*u1**2)/48 - u/48"
      ]
     },
     "metadata": {},
     "output_type": "display_data"
    },
    {
     "name": "stdout",
     "output_type": "stream",
     "text": [
      "- u_{1} + u_{t}\n",
      "+h\\left(\n",
      "0\n",
      "\\right)\n",
      "+h^2\\left(\n",
      "0\n",
      "\\right)\n",
      "+h^3\\left(\n",
      "0\n",
      "\\right)\n",
      "+h^4\\left(\n",
      "- \\frac{57 \\varepsilon^{2} u^{4} u_{1}}{80} - \\frac{19 \\varepsilon u_{1} \\left(2 u - u_{1}\\right) \\left(2 u + u_{1}\\right)}{120} - \\frac{19 u_{1}}{720}\n",
      "\\right)\n",
      "+h^5\\left(\n",
      "- \\frac{9 \\varepsilon^{3} u^{7}}{16} - \\frac{\\varepsilon^{2} u^{3} \\left(17 u^{2} - 42 u_{1}^{2}\\right)}{16} - \\frac{\\varepsilon u \\left(25 u^{2} - 66 u_{1}^{2}\\right)}{48} - \\frac{u}{48}\n",
      "\\right)\n"
     ]
    }
   ],
   "source": [
    "f1 = NF(F1, [u(t).diff(t), u1(t).diff(t)], [F1, F2], head=False)\n",
    "prn(f1, eps)\n",
    "prnlatex(f1, eps)"
   ]
  },
  {
   "cell_type": "code",
   "execution_count": 62,
   "id": "1a395e2c",
   "metadata": {},
   "outputs": [
    {
     "name": "stdout",
     "output_type": "stream",
     "text": [
      "h^0 =>\n"
     ]
    },
    {
     "data": {
      "text/latex": [
       "$\\displaystyle \\varepsilon u^{3} + u + u1_{t}$"
      ],
      "text/plain": [
       "\\varepsilon*u**3 + u + u1_{t}"
      ]
     },
     "metadata": {},
     "output_type": "display_data"
    },
    {
     "name": "stdout",
     "output_type": "stream",
     "text": [
      "h^1 =>\n"
     ]
    },
    {
     "data": {
      "text/latex": [
       "$\\displaystyle 0$"
      ],
      "text/plain": [
       "0"
      ]
     },
     "metadata": {},
     "output_type": "display_data"
    },
    {
     "name": "stdout",
     "output_type": "stream",
     "text": [
      "h^2 =>\n"
     ]
    },
    {
     "data": {
      "text/latex": [
       "$\\displaystyle 0$"
      ],
      "text/plain": [
       "0"
      ]
     },
     "metadata": {},
     "output_type": "display_data"
    },
    {
     "name": "stdout",
     "output_type": "stream",
     "text": [
      "h^3 =>\n"
     ]
    },
    {
     "data": {
      "text/latex": [
       "$\\displaystyle 0$"
      ],
      "text/plain": [
       "0"
      ]
     },
     "metadata": {},
     "output_type": "display_data"
    },
    {
     "name": "stdout",
     "output_type": "stream",
     "text": [
      "h^4 =>\n"
     ]
    },
    {
     "data": {
      "text/latex": [
       "$\\displaystyle \\frac{57 \\varepsilon^{3} u^{7}}{80} + \\frac{19 \\varepsilon^{2} u^{3} \\left(17 u^{2} - 42 u_{1}^{2}\\right)}{240} + \\frac{19 \\varepsilon u \\left(25 u^{2} - 66 u_{1}^{2}\\right)}{720} + \\frac{19 u}{720}$"
      ],
      "text/plain": [
       "57*\\varepsilon**3*u**7/80 + 19*\\varepsilon**2*u**3*(17*u**2 - 42*u1**2)/240 + 19*\\varepsilon*u*(25*u**2 - 66*u1**2)/720 + 19*u/720"
      ]
     },
     "metadata": {},
     "output_type": "display_data"
    },
    {
     "name": "stdout",
     "output_type": "stream",
     "text": [
      "h^5 =>\n"
     ]
    },
    {
     "data": {
      "text/latex": [
       "$\\displaystyle - \\frac{147 \\varepsilon^{3} u^{6} u_{1}}{16} - \\frac{3 \\varepsilon^{2} u^{2} u_{1} \\left(71 u^{2} - 42 u_{1}^{2}\\right)}{16} - \\frac{\\varepsilon u_{1} \\left(69 u^{2} - 22 u_{1}^{2}\\right)}{16} - \\frac{u_{1}}{48}$"
      ],
      "text/plain": [
       "-147*\\varepsilon**3*u**6*u1/16 - 3*\\varepsilon**2*u**2*u1*(71*u**2 - 42*u1**2)/16 - \\varepsilon*u1*(69*u**2 - 22*u1**2)/16 - u1/48"
      ]
     },
     "metadata": {},
     "output_type": "display_data"
    },
    {
     "name": "stdout",
     "output_type": "stream",
     "text": [
      "\\varepsilon u^{3} + u + u1_{t}\n",
      "+h\\left(\n",
      "0\n",
      "\\right)\n",
      "+h^2\\left(\n",
      "0\n",
      "\\right)\n",
      "+h^3\\left(\n",
      "0\n",
      "\\right)\n",
      "+h^4\\left(\n",
      "\\frac{57 \\varepsilon^{3} u^{7}}{80} + \\frac{19 \\varepsilon^{2} u^{3} \\left(17 u^{2} - 42 u_{1}^{2}\\right)}{240} + \\frac{19 \\varepsilon u \\left(25 u^{2} - 66 u_{1}^{2}\\right)}{720} + \\frac{19 u}{720}\n",
      "\\right)\n",
      "+h^5\\left(\n",
      "- \\frac{147 \\varepsilon^{3} u^{6} u_{1}}{16} - \\frac{3 \\varepsilon^{2} u^{2} u_{1} \\left(71 u^{2} - 42 u_{1}^{2}\\right)}{16} - \\frac{\\varepsilon u_{1} \\left(69 u^{2} - 22 u_{1}^{2}\\right)}{16} - \\frac{u_{1}}{48}\n",
      "\\right)\n"
     ]
    }
   ],
   "source": [
    "f2 = NF(F2, [u(t).diff(t), u1(t).diff(t)], [F1, F2], head=False)\n",
    "prn(f2, eps)\n",
    "prnlatex(f2, eps)"
   ]
  },
  {
   "cell_type": "code",
   "execution_count": 63,
   "id": "397ea688",
   "metadata": {},
   "outputs": [
    {
     "name": "stdout",
     "output_type": "stream",
     "text": [
      "h^0 =>\n"
     ]
    },
    {
     "data": {
      "text/latex": [
       "$\\displaystyle \\varepsilon u^{3} u_{t} + u u_{t} + u_{1} u1_{t}$"
      ],
      "text/plain": [
       "\\varepsilon*u**3*u_{t} + u*u_{t} + u1*u1_{t}"
      ]
     },
     "metadata": {},
     "output_type": "display_data"
    },
    {
     "name": "stdout",
     "output_type": "stream",
     "text": [
      "h^1 =>\n"
     ]
    },
    {
     "data": {
      "text/latex": [
       "$\\displaystyle \\frac{\\varepsilon u^{2} \\left(u u_{tt} + 3 u_{t}^{2}\\right)}{2} + \\frac{u u_{tt} + u_{1} u1_{tt} + u1_{t}^{2} + u_{t}^{2}}{2}$"
      ],
      "text/plain": [
       "\\varepsilon*u**2*(u*u_{tt} + 3*u_{t}**2)/2 + (u*u_{tt} + u1*u1_{tt} + u1_{t}**2 + u_{t}**2)/2"
      ]
     },
     "metadata": {},
     "output_type": "display_data"
    },
    {
     "name": "stdout",
     "output_type": "stream",
     "text": [
      "h^2 =>\n"
     ]
    },
    {
     "data": {
      "text/latex": [
       "$\\displaystyle \\frac{\\varepsilon u \\left(u^{2} u_{ttt} + 9 u u_{tt} u_{t} + 6 u_{t}^{3}\\right)}{6} + \\frac{u u_{ttt} + u_{1} u1_{ttt} + 3 u1_{tt} u1_{t} + 3 u_{tt} u_{t}}{6}$"
      ],
      "text/plain": [
       "\\varepsilon*u*(u**2*u_{ttt} + 9*u*u_{tt}*u_{t} + 6*u_{t}**3)/6 + (u*u_{ttt} + u1*u1_{ttt} + 3*u1_{tt}*u1_{t} + 3*u_{tt}*u_{t})/6"
      ]
     },
     "metadata": {},
     "output_type": "display_data"
    },
    {
     "name": "stdout",
     "output_type": "stream",
     "text": [
      "h^3 =>\n"
     ]
    },
    {
     "data": {
      "text/latex": [
       "$\\displaystyle \\frac{\\varepsilon \\left(u^{3} u_{tttt} + 12 u^{2} u_{ttt} u_{t} + 9 u^{2} u_{tt}^{2} + 36 u u_{tt} u_{t}^{2} + 6 u_{t}^{4}\\right)}{24} + \\frac{u u_{tttt} + u_{1} u1_{tttt} + 4 u1_{ttt} u1_{t} + 3 u1_{tt}^{2} + 4 u_{ttt} u_{t} + 3 u_{tt}^{2}}{24}$"
      ],
      "text/plain": [
       "\\varepsilon*(u**3*u_{tttt} + 12*u**2*u_{ttt}*u_{t} + 9*u**2*u_{tt}**2 + 36*u*u_{tt}*u_{t}**2 + 6*u_{t}**4)/24 + (u*u_{tttt} + u1*u1_{tttt} + 4*u1_{ttt}*u1_{t} + 3*u1_{tt}**2 + 4*u_{ttt}*u_{t} + 3*u_{tt}**2)/24"
      ]
     },
     "metadata": {},
     "output_type": "display_data"
    },
    {
     "name": "stdout",
     "output_type": "stream",
     "text": [
      "h^4 =>\n"
     ]
    },
    {
     "data": {
      "text/latex": [
       "$\\displaystyle \\frac{\\varepsilon \\left(u^{3} u_{ttttt} + 15 u^{2} u_{tttt} u_{t} + 30 u^{2} u_{ttt} u_{tt} + 60 u u_{ttt} u_{t}^{2} + 90 u u_{tt}^{2} u_{t} + 60 u_{tt} u_{t}^{3}\\right)}{120} + \\frac{u u_{ttttt} + u_{1} u1_{ttttt} + 5 u1_{tttt} u1_{t} + 10 u1_{ttt} u1_{tt} + 5 u_{tttt} u_{t} + 10 u_{ttt} u_{tt}}{120}$"
      ],
      "text/plain": [
       "\\varepsilon*(u**3*u_{ttttt} + 15*u**2*u_{tttt}*u_{t} + 30*u**2*u_{ttt}*u_{tt} + 60*u*u_{ttt}*u_{t}**2 + 90*u*u_{tt}**2*u_{t} + 60*u_{tt}*u_{t}**3)/120 + (u*u_{ttttt} + u1*u1_{ttttt} + 5*u1_{tttt}*u1_{t} + 10*u1_{ttt}*u1_{tt} + 5*u_{tttt}*u_{t} + 10*u_{ttt}*u_{tt})/120"
      ]
     },
     "metadata": {},
     "output_type": "display_data"
    },
    {
     "name": "stdout",
     "output_type": "stream",
     "text": [
      "h^5 =>\n"
     ]
    },
    {
     "data": {
      "text/latex": [
       "$\\displaystyle \\frac{\\varepsilon \\left(u^{3} u_{tttttt} + 18 u^{2} u_{ttttt} u_{t} + 45 u^{2} u_{tttt} u_{tt} + 30 u^{2} u_{ttt}^{2} + 90 u u_{tttt} u_{t}^{2} + 360 u u_{ttt} u_{tt} u_{t} + 90 u u_{tt}^{3} + 120 u_{ttt} u_{t}^{3} + 270 u_{tt}^{2} u_{t}^{2}\\right)}{720} + \\frac{u u_{tttttt} + u_{1} u1_{tttttt} + 6 u1_{ttttt} u1_{t} + 15 u1_{tttt} u1_{tt} + 10 u1_{ttt}^{2} + 6 u_{ttttt} u_{t} + 15 u_{tttt} u_{tt} + 10 u_{ttt}^{2}}{720}$"
      ],
      "text/plain": [
       "\\varepsilon*(u**3*u_{tttttt} + 18*u**2*u_{ttttt}*u_{t} + 45*u**2*u_{tttt}*u_{tt} + 30*u**2*u_{ttt}**2 + 90*u*u_{tttt}*u_{t}**2 + 360*u*u_{ttt}*u_{tt}*u_{t} + 90*u*u_{tt}**3 + 120*u_{ttt}*u_{t}**3 + 270*u_{tt}**2*u_{t}**2)/720 + (u*u_{tttttt} + u1*u1_{tttttt} + 6*u1_{ttttt}*u1_{t} + 15*u1_{tttt}*u1_{tt} + 10*u1_{ttt}**2 + 6*u_{ttttt}*u_{t} + 15*u_{tttt}*u_{tt} + 10*u_{ttt}**2)/720"
      ]
     },
     "metadata": {},
     "output_type": "display_data"
    },
    {
     "name": "stdout",
     "output_type": "stream",
     "text": [
      "\\varepsilon u^{3} u_{t} + u u_{t} + u_{1} u1_{t}\n",
      "+h\\left(\n",
      "\\frac{\\varepsilon u^{2} \\left(u u_{tt} + 3 u_{t}^{2}\\right)}{2} + \\frac{u u_{tt} + u_{1} u1_{tt} + u1_{t}^{2} + u_{t}^{2}}{2}\n",
      "\\right)\n",
      "+h^2\\left(\n",
      "\\frac{\\varepsilon u \\left(u^{2} u_{ttt} + 9 u u_{tt} u_{t} + 6 u_{t}^{3}\\right)}{6} + \\frac{u u_{ttt} + u_{1} u1_{ttt} + 3 u1_{tt} u1_{t} + 3 u_{tt} u_{t}}{6}\n",
      "\\right)\n",
      "+h^3\\left(\n",
      "\\frac{\\varepsilon \\left(u^{3} u_{tttt} + 12 u^{2} u_{ttt} u_{t} + 9 u^{2} u_{tt}^{2} + 36 u u_{tt} u_{t}^{2} + 6 u_{t}^{4}\\right)}{24} + \\frac{u u_{tttt} + u_{1} u1_{tttt} + 4 u1_{ttt} u1_{t} + 3 u1_{tt}^{2} + 4 u_{ttt} u_{t} + 3 u_{tt}^{2}}{24}\n",
      "\\right)\n",
      "+h^4\\left(\n",
      "\\frac{\\varepsilon \\left(u^{3} u_{ttttt} + 15 u^{2} u_{tttt} u_{t} + 30 u^{2} u_{ttt} u_{tt} + 60 u u_{ttt} u_{t}^{2} + 90 u u_{tt}^{2} u_{t} + 60 u_{tt} u_{t}^{3}\\right)}{120} + \\frac{u u_{ttttt} + u_{1} u1_{ttttt} + 5 u1_{tttt} u1_{t} + 10 u1_{ttt} u1_{tt} + 5 u_{tttt} u_{t} + 10 u_{ttt} u_{tt}}{120}\n",
      "\\right)\n",
      "+h^5\\left(\n",
      "\\frac{\\varepsilon \\left(u^{3} u_{tttttt} + 18 u^{2} u_{ttttt} u_{t} + 45 u^{2} u_{tttt} u_{tt} + 30 u^{2} u_{ttt}^{2} + 90 u u_{tttt} u_{t}^{2} + 360 u u_{ttt} u_{tt} u_{t} + 90 u u_{tt}^{3} + 120 u_{ttt} u_{t}^{3} + 270 u_{tt}^{2} u_{t}^{2}\\right)}{720} + \\frac{u u_{tttttt} + u_{1} u1_{tttttt} + 6 u1_{ttttt} u1_{t} + 15 u1_{tttt} u1_{tt} + 10 u1_{ttt}^{2} + 6 u_{ttttt} u_{t} + 15 u_{tttt} u_{tt} + 10 u_{ttt}^{2}}{720}\n",
      "\\right)\n"
     ]
    }
   ],
   "source": [
    "F3 = clip(((T(u1(t+h))**2/2 + T(u(t+h))**2/2 + eps*T(u(t+h))**4/4) -\\\n",
    "           (T(u1(t))**2/2 + T(u(t))**2/2 + eps*T(u(t))**4/4))/h)\n",
    "prn(F3, eps)\n",
    "prnlatex(F3, eps)"
   ]
  },
  {
   "cell_type": "code",
   "execution_count": 64,
   "id": "c97ca0b4",
   "metadata": {},
   "outputs": [
    {
     "name": "stdout",
     "output_type": "stream",
     "text": [
      "h^0 =>\n"
     ]
    },
    {
     "data": {
      "text/latex": [
       "$\\displaystyle 0$"
      ],
      "text/plain": [
       "0"
      ]
     },
     "metadata": {},
     "output_type": "display_data"
    },
    {
     "name": "stdout",
     "output_type": "stream",
     "text": [
      "h^1 =>\n"
     ]
    },
    {
     "data": {
      "text/latex": [
       "$\\displaystyle 0$"
      ],
      "text/plain": [
       "0"
      ]
     },
     "metadata": {},
     "output_type": "display_data"
    },
    {
     "name": "stdout",
     "output_type": "stream",
     "text": [
      "h^2 =>\n"
     ]
    },
    {
     "data": {
      "text/latex": [
       "$\\displaystyle 0$"
      ],
      "text/plain": [
       "0"
      ]
     },
     "metadata": {},
     "output_type": "display_data"
    },
    {
     "name": "stdout",
     "output_type": "stream",
     "text": [
      "h^3 =>\n"
     ]
    },
    {
     "data": {
      "text/latex": [
       "$\\displaystyle 0$"
      ],
      "text/plain": [
       "0"
      ]
     },
     "metadata": {},
     "output_type": "display_data"
    },
    {
     "name": "stdout",
     "output_type": "stream",
     "text": [
      "h^4 =>\n"
     ]
    },
    {
     "data": {
      "text/latex": [
       "$\\displaystyle \\frac{19 \\varepsilon^{2} u^{3} u_{1}^{3}}{6} + \\frac{19 \\varepsilon u u_{1}^{3}}{12}$"
      ],
      "text/plain": [
       "19*\\varepsilon**2*u**3*u1**3/6 + 19*\\varepsilon*u*u1**3/12"
      ]
     },
     "metadata": {},
     "output_type": "display_data"
    },
    {
     "name": "stdout",
     "output_type": "stream",
     "text": [
      "h^5 =>\n"
     ]
    },
    {
     "data": {
      "text/latex": [
       "$\\displaystyle \\frac{9 \\varepsilon^{4} u^{10}}{16} + \\frac{\\varepsilon^{3} u^{6} \\left(26 u^{2} + 29 u_{1}^{2}\\right)}{16} + \\frac{\\varepsilon^{2} u^{2} \\left(76 u^{4} + 105 u^{2} u_{1}^{2} - 150 u_{1}^{4}\\right)}{48} + \\frac{\\varepsilon \\left(26 u^{4} + 27 u^{2} u_{1}^{2} - 28 u_{1}^{4}\\right)}{48} + \\frac{u^{2} + u_{1}^{2}}{48}$"
      ],
      "text/plain": [
       "9*\\varepsilon**4*u**10/16 + \\varepsilon**3*u**6*(26*u**2 + 29*u1**2)/16 + \\varepsilon**2*u**2*(76*u**4 + 105*u**2*u1**2 - 150*u1**4)/48 + \\varepsilon*(26*u**4 + 27*u**2*u1**2 - 28*u1**4)/48 + (u**2 + u1**2)/48"
      ]
     },
     "metadata": {},
     "output_type": "display_data"
    },
    {
     "name": "stdout",
     "output_type": "stream",
     "text": [
      "0\n",
      "+h\\left(\n",
      "0\n",
      "\\right)\n",
      "+h^2\\left(\n",
      "0\n",
      "\\right)\n",
      "+h^3\\left(\n",
      "0\n",
      "\\right)\n",
      "+h^4\\left(\n",
      "\\frac{19 \\varepsilon^{2} u^{3} u_{1}^{3}}{6} + \\frac{19 \\varepsilon u u_{1}^{3}}{12}\n",
      "\\right)\n",
      "+h^5\\left(\n",
      "\\frac{9 \\varepsilon^{4} u^{10}}{16} + \\frac{\\varepsilon^{3} u^{6} \\left(26 u^{2} + 29 u_{1}^{2}\\right)}{16} + \\frac{\\varepsilon^{2} u^{2} \\left(76 u^{4} + 105 u^{2} u_{1}^{2} - 150 u_{1}^{4}\\right)}{48} + \\frac{\\varepsilon \\left(26 u^{4} + 27 u^{2} u_{1}^{2} - 28 u_{1}^{4}\\right)}{48} + \\frac{u^{2} + u_{1}^{2}}{48}\n",
      "\\right)\n"
     ]
    }
   ],
   "source": [
    "f3 = NF(F3, [u(t).diff(t), u1(t).diff(t)], [f1, f2], head=True)\n",
    "prn(f3, eps)\n",
    "prnlatex(f3, eps)"
   ]
  },
  {
   "cell_type": "code",
   "execution_count": 65,
   "id": "a3d6ea1a",
   "metadata": {},
   "outputs": [
    {
     "name": "stdout",
     "output_type": "stream",
     "text": [
      "19*eps**2*y[0]**3*y[1]**3/6 + 19*eps*y[0]*y[1]**3/12\n"
     ]
    }
   ],
   "source": [
    "print(replace(str(f3[4].collect(eps))))"
   ]
  },
  {
   "cell_type": "markdown",
   "id": "7be88fa3",
   "metadata": {
    "collapsed": true
   },
   "source": [
    "### Adams–Bashforth method 5 order"
   ]
  },
  {
   "cell_type": "code",
   "execution_count": 66,
   "id": "fe52650a",
   "metadata": {},
   "outputs": [],
   "source": [
    "set_clip(7, 6, Rational(0, 1))\n",
    "m = AdamsBashforth5(g, Matrix([u(t), u1(t)]))"
   ]
  },
  {
   "cell_type": "code",
   "execution_count": 67,
   "id": "e3aae75a",
   "metadata": {},
   "outputs": [
    {
     "name": "stdout",
     "output_type": "stream",
     "text": [
      "h^0 =>\n"
     ]
    },
    {
     "data": {
      "text/latex": [
       "$\\displaystyle - u_{1} + u_{t}$"
      ],
      "text/plain": [
       "-u1 + u_{t}"
      ]
     },
     "metadata": {},
     "output_type": "display_data"
    },
    {
     "name": "stdout",
     "output_type": "stream",
     "text": [
      "h^1 =>\n"
     ]
    },
    {
     "data": {
      "text/latex": [
       "$\\displaystyle - \\frac{9 \\left(u1_{t} - u_{tt}\\right)}{2}$"
      ],
      "text/plain": [
       "-9*(u1_{t} - u_{tt})/2"
      ]
     },
     "metadata": {},
     "output_type": "display_data"
    },
    {
     "name": "stdout",
     "output_type": "stream",
     "text": [
      "h^2 =>\n"
     ]
    },
    {
     "data": {
      "text/latex": [
       "$\\displaystyle - \\frac{61 \\left(u1_{tt} - u_{ttt}\\right)}{6}$"
      ],
      "text/plain": [
       "-61*(u1_{tt} - u_{ttt})/6"
      ]
     },
     "metadata": {},
     "output_type": "display_data"
    },
    {
     "name": "stdout",
     "output_type": "stream",
     "text": [
      "h^3 =>\n"
     ]
    },
    {
     "data": {
      "text/latex": [
       "$\\displaystyle - \\frac{123 \\left(u1_{ttt} - u_{tttt}\\right)}{8}$"
      ],
      "text/plain": [
       "-123*(u1_{ttt} - u_{tttt})/8"
      ]
     },
     "metadata": {},
     "output_type": "display_data"
    },
    {
     "name": "stdout",
     "output_type": "stream",
     "text": [
      "h^4 =>\n"
     ]
    },
    {
     "data": {
      "text/latex": [
       "$\\displaystyle - \\frac{2101 \\left(u1_{tttt} - u_{ttttt}\\right)}{120}$"
      ],
      "text/plain": [
       "-2101*(u1_{tttt} - u_{ttttt})/120"
      ]
     },
     "metadata": {},
     "output_type": "display_data"
    },
    {
     "name": "stdout",
     "output_type": "stream",
     "text": [
      "h^5 =>\n"
     ]
    },
    {
     "data": {
      "text/latex": [
       "$\\displaystyle - \\frac{22583 u1_{ttttt} - 23058 u_{tttttt}}{1440}$"
      ],
      "text/plain": [
       "-(22583*u1_{ttttt} - 23058*u_{tttttt})/1440"
      ]
     },
     "metadata": {},
     "output_type": "display_data"
    },
    {
     "name": "stdout",
     "output_type": "stream",
     "text": [
      "- u_{1} + u_{t}\n",
      "+h\\left(\n",
      "- \\frac{9 \\left(u1_{t} - u_{tt}\\right)}{2}\n",
      "\\right)\n",
      "+h^2\\left(\n",
      "- \\frac{61 \\left(u1_{tt} - u_{ttt}\\right)}{6}\n",
      "\\right)\n",
      "+h^3\\left(\n",
      "- \\frac{123 \\left(u1_{ttt} - u_{tttt}\\right)}{8}\n",
      "\\right)\n",
      "+h^4\\left(\n",
      "- \\frac{2101 \\left(u1_{tttt} - u_{ttttt}\\right)}{120}\n",
      "\\right)\n",
      "+h^5\\left(\n",
      "- \\frac{22583 u1_{ttttt} - 23058 u_{tttttt}}{1440}\n",
      "\\right)\n"
     ]
    }
   ],
   "source": [
    "F1 = clip((T(u(t+5*h))-T(u(t+4*h)))/h - T(m[0]))\n",
    "prn(F1, eps)\n",
    "prnlatex(F1, eps)"
   ]
  },
  {
   "cell_type": "code",
   "execution_count": 68,
   "id": "20112c8f",
   "metadata": {},
   "outputs": [
    {
     "name": "stdout",
     "output_type": "stream",
     "text": [
      "h^0 =>\n"
     ]
    },
    {
     "data": {
      "text/latex": [
       "$\\displaystyle \\varepsilon u^{3} + u + u1_{t}$"
      ],
      "text/plain": [
       "\\varepsilon*u**3 + u + u1_{t}"
      ]
     },
     "metadata": {},
     "output_type": "display_data"
    },
    {
     "name": "stdout",
     "output_type": "stream",
     "text": [
      "h^1 =>\n"
     ]
    },
    {
     "data": {
      "text/latex": [
       "$\\displaystyle \\frac{27 \\varepsilon u^{2} u_{t}}{2} + \\frac{9 \\left(u1_{tt} + u_{t}\\right)}{2}$"
      ],
      "text/plain": [
       "27*\\varepsilon*u**2*u_{t}/2 + 9*(u1_{tt} + u_{t})/2"
      ]
     },
     "metadata": {},
     "output_type": "display_data"
    },
    {
     "name": "stdout",
     "output_type": "stream",
     "text": [
      "h^2 =>\n"
     ]
    },
    {
     "data": {
      "text/latex": [
       "$\\displaystyle \\frac{61 \\varepsilon u \\left(u u_{tt} + 2 u_{t}^{2}\\right)}{2} + \\frac{61 \\left(u1_{ttt} + u_{tt}\\right)}{6}$"
      ],
      "text/plain": [
       "61*\\varepsilon*u*(u*u_{tt} + 2*u_{t}**2)/2 + 61*(u1_{ttt} + u_{tt})/6"
      ]
     },
     "metadata": {},
     "output_type": "display_data"
    },
    {
     "name": "stdout",
     "output_type": "stream",
     "text": [
      "h^3 =>\n"
     ]
    },
    {
     "data": {
      "text/latex": [
       "$\\displaystyle \\frac{369 \\varepsilon \\left(u^{2} u_{ttt} + 6 u u_{tt} u_{t} + 2 u_{t}^{3}\\right)}{8} + \\frac{123 \\left(u1_{tttt} + u_{ttt}\\right)}{8}$"
      ],
      "text/plain": [
       "369*\\varepsilon*(u**2*u_{ttt} + 6*u*u_{tt}*u_{t} + 2*u_{t}**3)/8 + 123*(u1_{tttt} + u_{ttt})/8"
      ]
     },
     "metadata": {},
     "output_type": "display_data"
    },
    {
     "name": "stdout",
     "output_type": "stream",
     "text": [
      "h^4 =>\n"
     ]
    },
    {
     "data": {
      "text/latex": [
       "$\\displaystyle \\frac{2101 \\varepsilon \\left(u^{2} u_{tttt} + 8 u u_{ttt} u_{t} + 6 u u_{tt}^{2} + 12 u_{tt} u_{t}^{2}\\right)}{40} + \\frac{2101 \\left(u1_{ttttt} + u_{tttt}\\right)}{120}$"
      ],
      "text/plain": [
       "2101*\\varepsilon*(u**2*u_{tttt} + 8*u*u_{ttt}*u_{t} + 6*u*u_{tt}**2 + 12*u_{tt}*u_{t}**2)/40 + 2101*(u1_{ttttt} + u_{tttt})/120"
      ]
     },
     "metadata": {},
     "output_type": "display_data"
    },
    {
     "name": "stdout",
     "output_type": "stream",
     "text": [
      "h^5 =>\n"
     ]
    },
    {
     "data": {
      "text/latex": [
       "$\\displaystyle \\frac{22583 \\varepsilon \\left(u^{2} u_{ttttt} + 10 u u_{tttt} u_{t} + 20 u u_{ttt} u_{tt} + 20 u_{ttt} u_{t}^{2} + 30 u_{tt}^{2} u_{t}\\right)}{480} + \\frac{23058 u1_{tttttt} + 22583 u_{ttttt}}{1440}$"
      ],
      "text/plain": [
       "22583*\\varepsilon*(u**2*u_{ttttt} + 10*u*u_{tttt}*u_{t} + 20*u*u_{ttt}*u_{tt} + 20*u_{ttt}*u_{t}**2 + 30*u_{tt}**2*u_{t})/480 + (23058*u1_{tttttt} + 22583*u_{ttttt})/1440"
      ]
     },
     "metadata": {},
     "output_type": "display_data"
    },
    {
     "name": "stdout",
     "output_type": "stream",
     "text": [
      "\\varepsilon u^{3} + u + u1_{t}\n",
      "+h\\left(\n",
      "\\frac{27 \\varepsilon u^{2} u_{t}}{2} + \\frac{9 \\left(u1_{tt} + u_{t}\\right)}{2}\n",
      "\\right)\n",
      "+h^2\\left(\n",
      "\\frac{61 \\varepsilon u \\left(u u_{tt} + 2 u_{t}^{2}\\right)}{2} + \\frac{61 \\left(u1_{ttt} + u_{tt}\\right)}{6}\n",
      "\\right)\n",
      "+h^3\\left(\n",
      "\\frac{369 \\varepsilon \\left(u^{2} u_{ttt} + 6 u u_{tt} u_{t} + 2 u_{t}^{3}\\right)}{8} + \\frac{123 \\left(u1_{tttt} + u_{ttt}\\right)}{8}\n",
      "\\right)\n",
      "+h^4\\left(\n",
      "\\frac{2101 \\varepsilon \\left(u^{2} u_{tttt} + 8 u u_{ttt} u_{t} + 6 u u_{tt}^{2} + 12 u_{tt} u_{t}^{2}\\right)}{40} + \\frac{2101 \\left(u1_{ttttt} + u_{tttt}\\right)}{120}\n",
      "\\right)\n",
      "+h^5\\left(\n",
      "\\frac{22583 \\varepsilon \\left(u^{2} u_{ttttt} + 10 u u_{tttt} u_{t} + 20 u u_{ttt} u_{tt} + 20 u_{ttt} u_{t}^{2} + 30 u_{tt}^{2} u_{t}\\right)}{480} + \\frac{23058 u1_{tttttt} + 22583 u_{ttttt}}{1440}\n",
      "\\right)\n"
     ]
    }
   ],
   "source": [
    "F2 = clip((T(u1(t+5*h))-T(u1(t+4*h)))/h - T(m[1]))\n",
    "prn(F2, eps)\n",
    "prnlatex(F2, eps)"
   ]
  },
  {
   "cell_type": "code",
   "execution_count": 69,
   "id": "055e02be",
   "metadata": {},
   "outputs": [
    {
     "name": "stdout",
     "output_type": "stream",
     "text": [
      "h^0 =>\n"
     ]
    },
    {
     "data": {
      "text/latex": [
       "$\\displaystyle - u_{1} + u_{t}$"
      ],
      "text/plain": [
       "-u1 + u_{t}"
      ]
     },
     "metadata": {},
     "output_type": "display_data"
    },
    {
     "name": "stdout",
     "output_type": "stream",
     "text": [
      "h^1 =>\n"
     ]
    },
    {
     "data": {
      "text/latex": [
       "$\\displaystyle 0$"
      ],
      "text/plain": [
       "0"
      ]
     },
     "metadata": {},
     "output_type": "display_data"
    },
    {
     "name": "stdout",
     "output_type": "stream",
     "text": [
      "h^2 =>\n"
     ]
    },
    {
     "data": {
      "text/latex": [
       "$\\displaystyle 0$"
      ],
      "text/plain": [
       "0"
      ]
     },
     "metadata": {},
     "output_type": "display_data"
    },
    {
     "name": "stdout",
     "output_type": "stream",
     "text": [
      "h^3 =>\n"
     ]
    },
    {
     "data": {
      "text/latex": [
       "$\\displaystyle 0$"
      ],
      "text/plain": [
       "0"
      ]
     },
     "metadata": {},
     "output_type": "display_data"
    },
    {
     "name": "stdout",
     "output_type": "stream",
     "text": [
      "h^4 =>\n"
     ]
    },
    {
     "data": {
      "text/latex": [
       "$\\displaystyle 0$"
      ],
      "text/plain": [
       "0"
      ]
     },
     "metadata": {},
     "output_type": "display_data"
    },
    {
     "name": "stdout",
     "output_type": "stream",
     "text": [
      "h^5 =>\n"
     ]
    },
    {
     "data": {
      "text/latex": [
       "$\\displaystyle - \\frac{285 \\varepsilon^{3} u^{7}}{32} - \\frac{95 \\varepsilon^{2} u^{3} \\left(17 u^{2} - 42 u_{1}^{2}\\right)}{96} - \\frac{95 \\varepsilon u \\left(25 u^{2} - 66 u_{1}^{2}\\right)}{288} - \\frac{95 u}{288}$"
      ],
      "text/plain": [
       "-285*\\varepsilon**3*u**7/32 - 95*\\varepsilon**2*u**3*(17*u**2 - 42*u1**2)/96 - 95*\\varepsilon*u*(25*u**2 - 66*u1**2)/288 - 95*u/288"
      ]
     },
     "metadata": {},
     "output_type": "display_data"
    },
    {
     "name": "stdout",
     "output_type": "stream",
     "text": [
      "- u_{1} + u_{t}\n",
      "+h\\left(\n",
      "0\n",
      "\\right)\n",
      "+h^2\\left(\n",
      "0\n",
      "\\right)\n",
      "+h^3\\left(\n",
      "0\n",
      "\\right)\n",
      "+h^4\\left(\n",
      "0\n",
      "\\right)\n",
      "+h^5\\left(\n",
      "- \\frac{285 \\varepsilon^{3} u^{7}}{32} - \\frac{95 \\varepsilon^{2} u^{3} \\left(17 u^{2} - 42 u_{1}^{2}\\right)}{96} - \\frac{95 \\varepsilon u \\left(25 u^{2} - 66 u_{1}^{2}\\right)}{288} - \\frac{95 u}{288}\n",
      "\\right)\n"
     ]
    }
   ],
   "source": [
    "f1 = NF(F1, [u(t).diff(t), u1(t).diff(t)], [F1, F2], head=False)\n",
    "prn(f1, eps)\n",
    "prnlatex(f1, eps)"
   ]
  },
  {
   "cell_type": "code",
   "execution_count": 70,
   "id": "322a87ce",
   "metadata": {},
   "outputs": [
    {
     "name": "stdout",
     "output_type": "stream",
     "text": [
      "h^0 =>\n"
     ]
    },
    {
     "data": {
      "text/latex": [
       "$\\displaystyle \\varepsilon u^{3} + u + u1_{t}$"
      ],
      "text/plain": [
       "\\varepsilon*u**3 + u + u1_{t}"
      ]
     },
     "metadata": {},
     "output_type": "display_data"
    },
    {
     "name": "stdout",
     "output_type": "stream",
     "text": [
      "h^1 =>\n"
     ]
    },
    {
     "data": {
      "text/latex": [
       "$\\displaystyle 0$"
      ],
      "text/plain": [
       "0"
      ]
     },
     "metadata": {},
     "output_type": "display_data"
    },
    {
     "name": "stdout",
     "output_type": "stream",
     "text": [
      "h^2 =>\n"
     ]
    },
    {
     "data": {
      "text/latex": [
       "$\\displaystyle 0$"
      ],
      "text/plain": [
       "0"
      ]
     },
     "metadata": {},
     "output_type": "display_data"
    },
    {
     "name": "stdout",
     "output_type": "stream",
     "text": [
      "h^3 =>\n"
     ]
    },
    {
     "data": {
      "text/latex": [
       "$\\displaystyle 0$"
      ],
      "text/plain": [
       "0"
      ]
     },
     "metadata": {},
     "output_type": "display_data"
    },
    {
     "name": "stdout",
     "output_type": "stream",
     "text": [
      "h^4 =>\n"
     ]
    },
    {
     "data": {
      "text/latex": [
       "$\\displaystyle 0$"
      ],
      "text/plain": [
       "0"
      ]
     },
     "metadata": {},
     "output_type": "display_data"
    },
    {
     "name": "stdout",
     "output_type": "stream",
     "text": [
      "h^5 =>\n"
     ]
    },
    {
     "data": {
      "text/latex": [
       "$\\displaystyle - \\frac{4655 \\varepsilon^{3} u^{6} u_{1}}{32} - \\frac{95 \\varepsilon^{2} u^{2} u_{1} \\left(71 u^{2} - 42 u_{1}^{2}\\right)}{32} - \\frac{95 \\varepsilon u_{1} \\left(69 u^{2} - 22 u_{1}^{2}\\right)}{96} - \\frac{95 u_{1}}{288}$"
      ],
      "text/plain": [
       "-4655*\\varepsilon**3*u**6*u1/32 - 95*\\varepsilon**2*u**2*u1*(71*u**2 - 42*u1**2)/32 - 95*\\varepsilon*u1*(69*u**2 - 22*u1**2)/96 - 95*u1/288"
      ]
     },
     "metadata": {},
     "output_type": "display_data"
    },
    {
     "name": "stdout",
     "output_type": "stream",
     "text": [
      "\\varepsilon u^{3} + u + u1_{t}\n",
      "+h\\left(\n",
      "0\n",
      "\\right)\n",
      "+h^2\\left(\n",
      "0\n",
      "\\right)\n",
      "+h^3\\left(\n",
      "0\n",
      "\\right)\n",
      "+h^4\\left(\n",
      "0\n",
      "\\right)\n",
      "+h^5\\left(\n",
      "- \\frac{4655 \\varepsilon^{3} u^{6} u_{1}}{32} - \\frac{95 \\varepsilon^{2} u^{2} u_{1} \\left(71 u^{2} - 42 u_{1}^{2}\\right)}{32} - \\frac{95 \\varepsilon u_{1} \\left(69 u^{2} - 22 u_{1}^{2}\\right)}{96} - \\frac{95 u_{1}}{288}\n",
      "\\right)\n"
     ]
    }
   ],
   "source": [
    "f2 = NF(F2, [u(t).diff(t), u1(t).diff(t)], [F1, F2], head=False)\n",
    "prn(f2, eps)\n",
    "prnlatex(f2, eps)"
   ]
  },
  {
   "cell_type": "code",
   "execution_count": 71,
   "id": "f4b41f45",
   "metadata": {},
   "outputs": [
    {
     "name": "stdout",
     "output_type": "stream",
     "text": [
      "h^0 =>\n"
     ]
    },
    {
     "data": {
      "text/latex": [
       "$\\displaystyle \\varepsilon u^{3} u_{t} + u u_{t} + u_{1} u1_{t}$"
      ],
      "text/plain": [
       "\\varepsilon*u**3*u_{t} + u*u_{t} + u1*u1_{t}"
      ]
     },
     "metadata": {},
     "output_type": "display_data"
    },
    {
     "name": "stdout",
     "output_type": "stream",
     "text": [
      "h^1 =>\n"
     ]
    },
    {
     "data": {
      "text/latex": [
       "$\\displaystyle \\frac{\\varepsilon u^{2} \\left(u u_{tt} + 3 u_{t}^{2}\\right)}{2} + \\frac{u u_{tt} + u_{1} u1_{tt} + u1_{t}^{2} + u_{t}^{2}}{2}$"
      ],
      "text/plain": [
       "\\varepsilon*u**2*(u*u_{tt} + 3*u_{t}**2)/2 + (u*u_{tt} + u1*u1_{tt} + u1_{t}**2 + u_{t}**2)/2"
      ]
     },
     "metadata": {},
     "output_type": "display_data"
    },
    {
     "name": "stdout",
     "output_type": "stream",
     "text": [
      "h^2 =>\n"
     ]
    },
    {
     "data": {
      "text/latex": [
       "$\\displaystyle \\frac{\\varepsilon u \\left(u^{2} u_{ttt} + 9 u u_{tt} u_{t} + 6 u_{t}^{3}\\right)}{6} + \\frac{u u_{ttt} + u_{1} u1_{ttt} + 3 u1_{tt} u1_{t} + 3 u_{tt} u_{t}}{6}$"
      ],
      "text/plain": [
       "\\varepsilon*u*(u**2*u_{ttt} + 9*u*u_{tt}*u_{t} + 6*u_{t}**3)/6 + (u*u_{ttt} + u1*u1_{ttt} + 3*u1_{tt}*u1_{t} + 3*u_{tt}*u_{t})/6"
      ]
     },
     "metadata": {},
     "output_type": "display_data"
    },
    {
     "name": "stdout",
     "output_type": "stream",
     "text": [
      "h^3 =>\n"
     ]
    },
    {
     "data": {
      "text/latex": [
       "$\\displaystyle \\frac{\\varepsilon \\left(u^{3} u_{tttt} + 12 u^{2} u_{ttt} u_{t} + 9 u^{2} u_{tt}^{2} + 36 u u_{tt} u_{t}^{2} + 6 u_{t}^{4}\\right)}{24} + \\frac{u u_{tttt} + u_{1} u1_{tttt} + 4 u1_{ttt} u1_{t} + 3 u1_{tt}^{2} + 4 u_{ttt} u_{t} + 3 u_{tt}^{2}}{24}$"
      ],
      "text/plain": [
       "\\varepsilon*(u**3*u_{tttt} + 12*u**2*u_{ttt}*u_{t} + 9*u**2*u_{tt}**2 + 36*u*u_{tt}*u_{t}**2 + 6*u_{t}**4)/24 + (u*u_{tttt} + u1*u1_{tttt} + 4*u1_{ttt}*u1_{t} + 3*u1_{tt}**2 + 4*u_{ttt}*u_{t} + 3*u_{tt}**2)/24"
      ]
     },
     "metadata": {},
     "output_type": "display_data"
    },
    {
     "name": "stdout",
     "output_type": "stream",
     "text": [
      "h^4 =>\n"
     ]
    },
    {
     "data": {
      "text/latex": [
       "$\\displaystyle \\frac{\\varepsilon \\left(u^{3} u_{ttttt} + 15 u^{2} u_{tttt} u_{t} + 30 u^{2} u_{ttt} u_{tt} + 60 u u_{ttt} u_{t}^{2} + 90 u u_{tt}^{2} u_{t} + 60 u_{tt} u_{t}^{3}\\right)}{120} + \\frac{u u_{ttttt} + u_{1} u1_{ttttt} + 5 u1_{tttt} u1_{t} + 10 u1_{ttt} u1_{tt} + 5 u_{tttt} u_{t} + 10 u_{ttt} u_{tt}}{120}$"
      ],
      "text/plain": [
       "\\varepsilon*(u**3*u_{ttttt} + 15*u**2*u_{tttt}*u_{t} + 30*u**2*u_{ttt}*u_{tt} + 60*u*u_{ttt}*u_{t}**2 + 90*u*u_{tt}**2*u_{t} + 60*u_{tt}*u_{t}**3)/120 + (u*u_{ttttt} + u1*u1_{ttttt} + 5*u1_{tttt}*u1_{t} + 10*u1_{ttt}*u1_{tt} + 5*u_{tttt}*u_{t} + 10*u_{ttt}*u_{tt})/120"
      ]
     },
     "metadata": {},
     "output_type": "display_data"
    },
    {
     "name": "stdout",
     "output_type": "stream",
     "text": [
      "h^5 =>\n"
     ]
    },
    {
     "data": {
      "text/latex": [
       "$\\displaystyle \\frac{\\varepsilon \\left(u^{3} u_{tttttt} + 18 u^{2} u_{ttttt} u_{t} + 45 u^{2} u_{tttt} u_{tt} + 30 u^{2} u_{ttt}^{2} + 90 u u_{tttt} u_{t}^{2} + 360 u u_{ttt} u_{tt} u_{t} + 90 u u_{tt}^{3} + 120 u_{ttt} u_{t}^{3} + 270 u_{tt}^{2} u_{t}^{2}\\right)}{720} + \\frac{u u_{tttttt} + u_{1} u1_{tttttt} + 6 u1_{ttttt} u1_{t} + 15 u1_{tttt} u1_{tt} + 10 u1_{ttt}^{2} + 6 u_{ttttt} u_{t} + 15 u_{tttt} u_{tt} + 10 u_{ttt}^{2}}{720}$"
      ],
      "text/plain": [
       "\\varepsilon*(u**3*u_{tttttt} + 18*u**2*u_{ttttt}*u_{t} + 45*u**2*u_{tttt}*u_{tt} + 30*u**2*u_{ttt}**2 + 90*u*u_{tttt}*u_{t}**2 + 360*u*u_{ttt}*u_{tt}*u_{t} + 90*u*u_{tt}**3 + 120*u_{ttt}*u_{t}**3 + 270*u_{tt}**2*u_{t}**2)/720 + (u*u_{tttttt} + u1*u1_{tttttt} + 6*u1_{ttttt}*u1_{t} + 15*u1_{tttt}*u1_{tt} + 10*u1_{ttt}**2 + 6*u_{ttttt}*u_{t} + 15*u_{tttt}*u_{tt} + 10*u_{ttt}**2)/720"
      ]
     },
     "metadata": {},
     "output_type": "display_data"
    },
    {
     "name": "stdout",
     "output_type": "stream",
     "text": [
      "\\varepsilon u^{3} u_{t} + u u_{t} + u_{1} u1_{t}\n",
      "+h\\left(\n",
      "\\frac{\\varepsilon u^{2} \\left(u u_{tt} + 3 u_{t}^{2}\\right)}{2} + \\frac{u u_{tt} + u_{1} u1_{tt} + u1_{t}^{2} + u_{t}^{2}}{2}\n",
      "\\right)\n",
      "+h^2\\left(\n",
      "\\frac{\\varepsilon u \\left(u^{2} u_{ttt} + 9 u u_{tt} u_{t} + 6 u_{t}^{3}\\right)}{6} + \\frac{u u_{ttt} + u_{1} u1_{ttt} + 3 u1_{tt} u1_{t} + 3 u_{tt} u_{t}}{6}\n",
      "\\right)\n",
      "+h^3\\left(\n",
      "\\frac{\\varepsilon \\left(u^{3} u_{tttt} + 12 u^{2} u_{ttt} u_{t} + 9 u^{2} u_{tt}^{2} + 36 u u_{tt} u_{t}^{2} + 6 u_{t}^{4}\\right)}{24} + \\frac{u u_{tttt} + u_{1} u1_{tttt} + 4 u1_{ttt} u1_{t} + 3 u1_{tt}^{2} + 4 u_{ttt} u_{t} + 3 u_{tt}^{2}}{24}\n",
      "\\right)\n",
      "+h^4\\left(\n",
      "\\frac{\\varepsilon \\left(u^{3} u_{ttttt} + 15 u^{2} u_{tttt} u_{t} + 30 u^{2} u_{ttt} u_{tt} + 60 u u_{ttt} u_{t}^{2} + 90 u u_{tt}^{2} u_{t} + 60 u_{tt} u_{t}^{3}\\right)}{120} + \\frac{u u_{ttttt} + u_{1} u1_{ttttt} + 5 u1_{tttt} u1_{t} + 10 u1_{ttt} u1_{tt} + 5 u_{tttt} u_{t} + 10 u_{ttt} u_{tt}}{120}\n",
      "\\right)\n",
      "+h^5\\left(\n",
      "\\frac{\\varepsilon \\left(u^{3} u_{tttttt} + 18 u^{2} u_{ttttt} u_{t} + 45 u^{2} u_{tttt} u_{tt} + 30 u^{2} u_{ttt}^{2} + 90 u u_{tttt} u_{t}^{2} + 360 u u_{ttt} u_{tt} u_{t} + 90 u u_{tt}^{3} + 120 u_{ttt} u_{t}^{3} + 270 u_{tt}^{2} u_{t}^{2}\\right)}{720} + \\frac{u u_{tttttt} + u_{1} u1_{tttttt} + 6 u1_{ttttt} u1_{t} + 15 u1_{tttt} u1_{tt} + 10 u1_{ttt}^{2} + 6 u_{ttttt} u_{t} + 15 u_{tttt} u_{tt} + 10 u_{ttt}^{2}}{720}\n",
      "\\right)\n"
     ]
    }
   ],
   "source": [
    "F3 = clip(((T(u1(t+h))**2/2 + T(u(t+h))**2/2 + eps*T(u(t+h))**4/4) -\\\n",
    "           (T(u1(t))**2/2 + T(u(t))**2/2 + eps*T(u(t))**4/4))/h)\n",
    "prn(F3, eps)\n",
    "prnlatex(F3, eps)"
   ]
  },
  {
   "cell_type": "code",
   "execution_count": 72,
   "id": "87099a7f",
   "metadata": {},
   "outputs": [
    {
     "name": "stdout",
     "output_type": "stream",
     "text": [
      "h^0 =>\n"
     ]
    },
    {
     "data": {
      "text/latex": [
       "$\\displaystyle 0$"
      ],
      "text/plain": [
       "0"
      ]
     },
     "metadata": {},
     "output_type": "display_data"
    },
    {
     "name": "stdout",
     "output_type": "stream",
     "text": [
      "h^1 =>\n"
     ]
    },
    {
     "data": {
      "text/latex": [
       "$\\displaystyle 0$"
      ],
      "text/plain": [
       "0"
      ]
     },
     "metadata": {},
     "output_type": "display_data"
    },
    {
     "name": "stdout",
     "output_type": "stream",
     "text": [
      "h^2 =>\n"
     ]
    },
    {
     "data": {
      "text/latex": [
       "$\\displaystyle 0$"
      ],
      "text/plain": [
       "0"
      ]
     },
     "metadata": {},
     "output_type": "display_data"
    },
    {
     "name": "stdout",
     "output_type": "stream",
     "text": [
      "h^3 =>\n"
     ]
    },
    {
     "data": {
      "text/latex": [
       "$\\displaystyle 0$"
      ],
      "text/plain": [
       "0"
      ]
     },
     "metadata": {},
     "output_type": "display_data"
    },
    {
     "name": "stdout",
     "output_type": "stream",
     "text": [
      "h^4 =>\n"
     ]
    },
    {
     "data": {
      "text/latex": [
       "$\\displaystyle 0$"
      ],
      "text/plain": [
       "0"
      ]
     },
     "metadata": {},
     "output_type": "display_data"
    },
    {
     "name": "stdout",
     "output_type": "stream",
     "text": [
      "h^5 =>\n"
     ]
    },
    {
     "data": {
      "text/latex": [
       "$\\displaystyle \\frac{285 \\varepsilon^{4} u^{10}}{32} + \\frac{95 \\varepsilon^{3} u^{6} \\left(26 u^{2} + 105 u_{1}^{2}\\right)}{96} + \\frac{95 \\varepsilon^{2} u^{2} \\left(4 u^{2} - 3 u_{1}^{2}\\right) \\left(19 u^{2} + 126 u_{1}^{2}\\right)}{288} + \\frac{95 \\varepsilon \\left(26 u^{4} + 141 u^{2} u_{1}^{2} - 66 u_{1}^{4}\\right)}{288} + \\frac{95 \\left(u^{2} + u_{1}^{2}\\right)}{288}$"
      ],
      "text/plain": [
       "285*\\varepsilon**4*u**10/32 + 95*\\varepsilon**3*u**6*(26*u**2 + 105*u1**2)/96 + 95*\\varepsilon**2*u**2*(4*u**2 - 3*u1**2)*(19*u**2 + 126*u1**2)/288 + 95*\\varepsilon*(26*u**4 + 141*u**2*u1**2 - 66*u1**4)/288 + 95*(u**2 + u1**2)/288"
      ]
     },
     "metadata": {},
     "output_type": "display_data"
    },
    {
     "name": "stdout",
     "output_type": "stream",
     "text": [
      "0\n",
      "+h\\left(\n",
      "0\n",
      "\\right)\n",
      "+h^2\\left(\n",
      "0\n",
      "\\right)\n",
      "+h^3\\left(\n",
      "0\n",
      "\\right)\n",
      "+h^4\\left(\n",
      "0\n",
      "\\right)\n",
      "+h^5\\left(\n",
      "\\frac{285 \\varepsilon^{4} u^{10}}{32} + \\frac{95 \\varepsilon^{3} u^{6} \\left(26 u^{2} + 105 u_{1}^{2}\\right)}{96} + \\frac{95 \\varepsilon^{2} u^{2} \\left(4 u^{2} - 3 u_{1}^{2}\\right) \\left(19 u^{2} + 126 u_{1}^{2}\\right)}{288} + \\frac{95 \\varepsilon \\left(26 u^{4} + 141 u^{2} u_{1}^{2} - 66 u_{1}^{4}\\right)}{288} + \\frac{95 \\left(u^{2} + u_{1}^{2}\\right)}{288}\n",
      "\\right)\n"
     ]
    }
   ],
   "source": [
    "f3 = NF(F3, [u(t).diff(t), u1(t).diff(t)], [f1, f2], head=True)\n",
    "prn(f3, eps)\n",
    "prnlatex(f3, eps)"
   ]
  },
  {
   "cell_type": "code",
   "execution_count": 73,
   "id": "f98ec892",
   "metadata": {},
   "outputs": [
    {
     "name": "stdout",
     "output_type": "stream",
     "text": [
      "285*eps**4*y[0]**10/32 + eps**3*(1235*y[0]**8/48 + 3325*y[0]**6*y[1]**2/32) + eps**2*(1805*y[0]**6/72 + 14155*y[0]**4*y[1]**2/96 - 1995*y[0]**2*y[1]**4/16) + eps*(1235*y[0]**4/144 + 4465*y[0]**2*y[1]**2/96 - 1045*y[1]**4/48) + 95*y[0]**2/288 + 95*y[1]**2/288\n"
     ]
    }
   ],
   "source": [
    "print(replace(str(f3[5].collect(eps))))"
   ]
  },
  {
   "cell_type": "markdown",
   "id": "ee2c8448",
   "metadata": {
    "collapsed": true
   },
   "source": [
    "### Adams–Moulton method 5 order"
   ]
  },
  {
   "cell_type": "code",
   "execution_count": 74,
   "id": "d7b76c19",
   "metadata": {},
   "outputs": [],
   "source": [
    "set_clip(7, 6, Rational(0, 1))\n",
    "m = AdamsMoulton5(g, Matrix([u(t), u1(t)]))"
   ]
  },
  {
   "cell_type": "code",
   "execution_count": 75,
   "id": "b820f0ca",
   "metadata": {},
   "outputs": [
    {
     "name": "stdout",
     "output_type": "stream",
     "text": [
      "h^0 =>\n"
     ]
    },
    {
     "data": {
      "text/latex": [
       "$\\displaystyle - u_{1} + u_{t}$"
      ],
      "text/plain": [
       "-u1 + u_{t}"
      ]
     },
     "metadata": {},
     "output_type": "display_data"
    },
    {
     "name": "stdout",
     "output_type": "stream",
     "text": [
      "h^1 =>\n"
     ]
    },
    {
     "data": {
      "text/latex": [
       "$\\displaystyle - \\frac{7 \\left(u1_{t} - u_{tt}\\right)}{2}$"
      ],
      "text/plain": [
       "-7*(u1_{t} - u_{tt})/2"
      ]
     },
     "metadata": {},
     "output_type": "display_data"
    },
    {
     "name": "stdout",
     "output_type": "stream",
     "text": [
      "h^2 =>\n"
     ]
    },
    {
     "data": {
      "text/latex": [
       "$\\displaystyle - \\frac{37 \\left(u1_{tt} - u_{ttt}\\right)}{6}$"
      ],
      "text/plain": [
       "-37*(u1_{tt} - u_{ttt})/6"
      ]
     },
     "metadata": {},
     "output_type": "display_data"
    },
    {
     "name": "stdout",
     "output_type": "stream",
     "text": [
      "h^3 =>\n"
     ]
    },
    {
     "data": {
      "text/latex": [
       "$\\displaystyle - \\frac{175 \\left(u1_{ttt} - u_{tttt}\\right)}{24}$"
      ],
      "text/plain": [
       "-175*(u1_{ttt} - u_{tttt})/24"
      ]
     },
     "metadata": {},
     "output_type": "display_data"
    },
    {
     "name": "stdout",
     "output_type": "stream",
     "text": [
      "h^4 =>\n"
     ]
    },
    {
     "data": {
      "text/latex": [
       "$\\displaystyle - \\frac{781 \\left(u1_{tttt} - u_{ttttt}\\right)}{120}$"
      ],
      "text/plain": [
       "-781*(u1_{tttt} - u_{ttttt})/120"
      ]
     },
     "metadata": {},
     "output_type": "display_data"
    },
    {
     "name": "stdout",
     "output_type": "stream",
     "text": [
      "h^5 =>\n"
     ]
    },
    {
     "data": {
      "text/latex": [
       "$\\displaystyle - \\frac{6761 u1_{ttttt} - 6734 u_{tttttt}}{1440}$"
      ],
      "text/plain": [
       "-(6761*u1_{ttttt} - 6734*u_{tttttt})/1440"
      ]
     },
     "metadata": {},
     "output_type": "display_data"
    },
    {
     "name": "stdout",
     "output_type": "stream",
     "text": [
      "- u_{1} + u_{t}\n",
      "+h\\left(\n",
      "- \\frac{7 \\left(u1_{t} - u_{tt}\\right)}{2}\n",
      "\\right)\n",
      "+h^2\\left(\n",
      "- \\frac{37 \\left(u1_{tt} - u_{ttt}\\right)}{6}\n",
      "\\right)\n",
      "+h^3\\left(\n",
      "- \\frac{175 \\left(u1_{ttt} - u_{tttt}\\right)}{24}\n",
      "\\right)\n",
      "+h^4\\left(\n",
      "- \\frac{781 \\left(u1_{tttt} - u_{ttttt}\\right)}{120}\n",
      "\\right)\n",
      "+h^5\\left(\n",
      "- \\frac{6761 u1_{ttttt} - 6734 u_{tttttt}}{1440}\n",
      "\\right)\n"
     ]
    }
   ],
   "source": [
    "F1 = clip((T(u(t+4*h))-T(u(t+3*h)))/h - T(m[0]))\n",
    "prn(F1, eps)\n",
    "prnlatex(F1, eps)"
   ]
  },
  {
   "cell_type": "code",
   "execution_count": 76,
   "id": "e37e1160",
   "metadata": {},
   "outputs": [
    {
     "name": "stdout",
     "output_type": "stream",
     "text": [
      "h^0 =>\n"
     ]
    },
    {
     "data": {
      "text/latex": [
       "$\\displaystyle \\varepsilon u^{3} + u + u1_{t}$"
      ],
      "text/plain": [
       "\\varepsilon*u**3 + u + u1_{t}"
      ]
     },
     "metadata": {},
     "output_type": "display_data"
    },
    {
     "name": "stdout",
     "output_type": "stream",
     "text": [
      "h^1 =>\n"
     ]
    },
    {
     "data": {
      "text/latex": [
       "$\\displaystyle \\frac{21 \\varepsilon u^{2} u_{t}}{2} + \\frac{7 \\left(u1_{tt} + u_{t}\\right)}{2}$"
      ],
      "text/plain": [
       "21*\\varepsilon*u**2*u_{t}/2 + 7*(u1_{tt} + u_{t})/2"
      ]
     },
     "metadata": {},
     "output_type": "display_data"
    },
    {
     "name": "stdout",
     "output_type": "stream",
     "text": [
      "h^2 =>\n"
     ]
    },
    {
     "data": {
      "text/latex": [
       "$\\displaystyle \\frac{37 \\varepsilon u \\left(u u_{tt} + 2 u_{t}^{2}\\right)}{2} + \\frac{37 \\left(u1_{ttt} + u_{tt}\\right)}{6}$"
      ],
      "text/plain": [
       "37*\\varepsilon*u*(u*u_{tt} + 2*u_{t}**2)/2 + 37*(u1_{ttt} + u_{tt})/6"
      ]
     },
     "metadata": {},
     "output_type": "display_data"
    },
    {
     "name": "stdout",
     "output_type": "stream",
     "text": [
      "h^3 =>\n"
     ]
    },
    {
     "data": {
      "text/latex": [
       "$\\displaystyle \\frac{175 \\varepsilon \\left(u^{2} u_{ttt} + 6 u u_{tt} u_{t} + 2 u_{t}^{3}\\right)}{8} + \\frac{175 \\left(u1_{tttt} + u_{ttt}\\right)}{24}$"
      ],
      "text/plain": [
       "175*\\varepsilon*(u**2*u_{ttt} + 6*u*u_{tt}*u_{t} + 2*u_{t}**3)/8 + 175*(u1_{tttt} + u_{ttt})/24"
      ]
     },
     "metadata": {},
     "output_type": "display_data"
    },
    {
     "name": "stdout",
     "output_type": "stream",
     "text": [
      "h^4 =>\n"
     ]
    },
    {
     "data": {
      "text/latex": [
       "$\\displaystyle \\frac{781 \\varepsilon \\left(u^{2} u_{tttt} + 8 u u_{ttt} u_{t} + 6 u u_{tt}^{2} + 12 u_{tt} u_{t}^{2}\\right)}{40} + \\frac{781 \\left(u1_{ttttt} + u_{tttt}\\right)}{120}$"
      ],
      "text/plain": [
       "781*\\varepsilon*(u**2*u_{tttt} + 8*u*u_{ttt}*u_{t} + 6*u*u_{tt}**2 + 12*u_{tt}*u_{t}**2)/40 + 781*(u1_{ttttt} + u_{tttt})/120"
      ]
     },
     "metadata": {},
     "output_type": "display_data"
    },
    {
     "name": "stdout",
     "output_type": "stream",
     "text": [
      "h^5 =>\n"
     ]
    },
    {
     "data": {
      "text/latex": [
       "$\\displaystyle \\frac{6761 \\varepsilon \\left(u^{2} u_{ttttt} + 10 u u_{tttt} u_{t} + 20 u u_{ttt} u_{tt} + 20 u_{ttt} u_{t}^{2} + 30 u_{tt}^{2} u_{t}\\right)}{480} + \\frac{6734 u1_{tttttt} + 6761 u_{ttttt}}{1440}$"
      ],
      "text/plain": [
       "6761*\\varepsilon*(u**2*u_{ttttt} + 10*u*u_{tttt}*u_{t} + 20*u*u_{ttt}*u_{tt} + 20*u_{ttt}*u_{t}**2 + 30*u_{tt}**2*u_{t})/480 + (6734*u1_{tttttt} + 6761*u_{ttttt})/1440"
      ]
     },
     "metadata": {},
     "output_type": "display_data"
    },
    {
     "name": "stdout",
     "output_type": "stream",
     "text": [
      "\\varepsilon u^{3} + u + u1_{t}\n",
      "+h\\left(\n",
      "\\frac{21 \\varepsilon u^{2} u_{t}}{2} + \\frac{7 \\left(u1_{tt} + u_{t}\\right)}{2}\n",
      "\\right)\n",
      "+h^2\\left(\n",
      "\\frac{37 \\varepsilon u \\left(u u_{tt} + 2 u_{t}^{2}\\right)}{2} + \\frac{37 \\left(u1_{ttt} + u_{tt}\\right)}{6}\n",
      "\\right)\n",
      "+h^3\\left(\n",
      "\\frac{175 \\varepsilon \\left(u^{2} u_{ttt} + 6 u u_{tt} u_{t} + 2 u_{t}^{3}\\right)}{8} + \\frac{175 \\left(u1_{tttt} + u_{ttt}\\right)}{24}\n",
      "\\right)\n",
      "+h^4\\left(\n",
      "\\frac{781 \\varepsilon \\left(u^{2} u_{tttt} + 8 u u_{ttt} u_{t} + 6 u u_{tt}^{2} + 12 u_{tt} u_{t}^{2}\\right)}{40} + \\frac{781 \\left(u1_{ttttt} + u_{tttt}\\right)}{120}\n",
      "\\right)\n",
      "+h^5\\left(\n",
      "\\frac{6761 \\varepsilon \\left(u^{2} u_{ttttt} + 10 u u_{tttt} u_{t} + 20 u u_{ttt} u_{tt} + 20 u_{ttt} u_{t}^{2} + 30 u_{tt}^{2} u_{t}\\right)}{480} + \\frac{6734 u1_{tttttt} + 6761 u_{ttttt}}{1440}\n",
      "\\right)\n"
     ]
    }
   ],
   "source": [
    "F2 = clip((T(u1(t+4*h))-T(u1(t+3*h)))/h - T(m[1]))\n",
    "prn(F2, eps)\n",
    "prnlatex(F2, eps)"
   ]
  },
  {
   "cell_type": "code",
   "execution_count": 77,
   "id": "10acbad5",
   "metadata": {},
   "outputs": [
    {
     "name": "stdout",
     "output_type": "stream",
     "text": [
      "h^0 =>\n"
     ]
    },
    {
     "data": {
      "text/latex": [
       "$\\displaystyle - u_{1} + u_{t}$"
      ],
      "text/plain": [
       "-u1 + u_{t}"
      ]
     },
     "metadata": {},
     "output_type": "display_data"
    },
    {
     "name": "stdout",
     "output_type": "stream",
     "text": [
      "h^1 =>\n"
     ]
    },
    {
     "data": {
      "text/latex": [
       "$\\displaystyle 0$"
      ],
      "text/plain": [
       "0"
      ]
     },
     "metadata": {},
     "output_type": "display_data"
    },
    {
     "name": "stdout",
     "output_type": "stream",
     "text": [
      "h^2 =>\n"
     ]
    },
    {
     "data": {
      "text/latex": [
       "$\\displaystyle 0$"
      ],
      "text/plain": [
       "0"
      ]
     },
     "metadata": {},
     "output_type": "display_data"
    },
    {
     "name": "stdout",
     "output_type": "stream",
     "text": [
      "h^3 =>\n"
     ]
    },
    {
     "data": {
      "text/latex": [
       "$\\displaystyle 0$"
      ],
      "text/plain": [
       "0"
      ]
     },
     "metadata": {},
     "output_type": "display_data"
    },
    {
     "name": "stdout",
     "output_type": "stream",
     "text": [
      "h^4 =>\n"
     ]
    },
    {
     "data": {
      "text/latex": [
       "$\\displaystyle 0$"
      ],
      "text/plain": [
       "0"
      ]
     },
     "metadata": {},
     "output_type": "display_data"
    },
    {
     "name": "stdout",
     "output_type": "stream",
     "text": [
      "h^5 =>\n"
     ]
    },
    {
     "data": {
      "text/latex": [
       "$\\displaystyle \\frac{81 \\varepsilon^{3} u^{7}}{160} + \\frac{9 \\varepsilon^{2} u^{3} \\left(17 u^{2} - 42 u_{1}^{2}\\right)}{160} + \\frac{3 \\varepsilon u \\left(25 u^{2} - 66 u_{1}^{2}\\right)}{160} + \\frac{3 u}{160}$"
      ],
      "text/plain": [
       "81*\\varepsilon**3*u**7/160 + 9*\\varepsilon**2*u**3*(17*u**2 - 42*u1**2)/160 + 3*\\varepsilon*u*(25*u**2 - 66*u1**2)/160 + 3*u/160"
      ]
     },
     "metadata": {},
     "output_type": "display_data"
    },
    {
     "name": "stdout",
     "output_type": "stream",
     "text": [
      "- u_{1} + u_{t}\n",
      "+h\\left(\n",
      "0\n",
      "\\right)\n",
      "+h^2\\left(\n",
      "0\n",
      "\\right)\n",
      "+h^3\\left(\n",
      "0\n",
      "\\right)\n",
      "+h^4\\left(\n",
      "0\n",
      "\\right)\n",
      "+h^5\\left(\n",
      "\\frac{81 \\varepsilon^{3} u^{7}}{160} + \\frac{9 \\varepsilon^{2} u^{3} \\left(17 u^{2} - 42 u_{1}^{2}\\right)}{160} + \\frac{3 \\varepsilon u \\left(25 u^{2} - 66 u_{1}^{2}\\right)}{160} + \\frac{3 u}{160}\n",
      "\\right)\n"
     ]
    }
   ],
   "source": [
    "f1 = NF(F1, [u(t).diff(t), u1(t).diff(t)], [F1, F2], head=False)\n",
    "prn(f1, eps)\n",
    "prnlatex(f1, eps)"
   ]
  },
  {
   "cell_type": "code",
   "execution_count": 78,
   "id": "5483b5c7",
   "metadata": {},
   "outputs": [
    {
     "name": "stdout",
     "output_type": "stream",
     "text": [
      "h^0 =>\n"
     ]
    },
    {
     "data": {
      "text/latex": [
       "$\\displaystyle \\varepsilon u^{3} + u + u1_{t}$"
      ],
      "text/plain": [
       "\\varepsilon*u**3 + u + u1_{t}"
      ]
     },
     "metadata": {},
     "output_type": "display_data"
    },
    {
     "name": "stdout",
     "output_type": "stream",
     "text": [
      "h^1 =>\n"
     ]
    },
    {
     "data": {
      "text/latex": [
       "$\\displaystyle 0$"
      ],
      "text/plain": [
       "0"
      ]
     },
     "metadata": {},
     "output_type": "display_data"
    },
    {
     "name": "stdout",
     "output_type": "stream",
     "text": [
      "h^2 =>\n"
     ]
    },
    {
     "data": {
      "text/latex": [
       "$\\displaystyle 0$"
      ],
      "text/plain": [
       "0"
      ]
     },
     "metadata": {},
     "output_type": "display_data"
    },
    {
     "name": "stdout",
     "output_type": "stream",
     "text": [
      "h^3 =>\n"
     ]
    },
    {
     "data": {
      "text/latex": [
       "$\\displaystyle 0$"
      ],
      "text/plain": [
       "0"
      ]
     },
     "metadata": {},
     "output_type": "display_data"
    },
    {
     "name": "stdout",
     "output_type": "stream",
     "text": [
      "h^4 =>\n"
     ]
    },
    {
     "data": {
      "text/latex": [
       "$\\displaystyle 0$"
      ],
      "text/plain": [
       "0"
      ]
     },
     "metadata": {},
     "output_type": "display_data"
    },
    {
     "name": "stdout",
     "output_type": "stream",
     "text": [
      "h^5 =>\n"
     ]
    },
    {
     "data": {
      "text/latex": [
       "$\\displaystyle \\frac{1323 \\varepsilon^{3} u^{6} u_{1}}{160} + \\frac{27 \\varepsilon^{2} u^{2} u_{1} \\left(71 u^{2} - 42 u_{1}^{2}\\right)}{160} + \\frac{9 \\varepsilon u_{1} \\left(69 u^{2} - 22 u_{1}^{2}\\right)}{160} + \\frac{3 u_{1}}{160}$"
      ],
      "text/plain": [
       "1323*\\varepsilon**3*u**6*u1/160 + 27*\\varepsilon**2*u**2*u1*(71*u**2 - 42*u1**2)/160 + 9*\\varepsilon*u1*(69*u**2 - 22*u1**2)/160 + 3*u1/160"
      ]
     },
     "metadata": {},
     "output_type": "display_data"
    },
    {
     "name": "stdout",
     "output_type": "stream",
     "text": [
      "\\varepsilon u^{3} + u + u1_{t}\n",
      "+h\\left(\n",
      "0\n",
      "\\right)\n",
      "+h^2\\left(\n",
      "0\n",
      "\\right)\n",
      "+h^3\\left(\n",
      "0\n",
      "\\right)\n",
      "+h^4\\left(\n",
      "0\n",
      "\\right)\n",
      "+h^5\\left(\n",
      "\\frac{1323 \\varepsilon^{3} u^{6} u_{1}}{160} + \\frac{27 \\varepsilon^{2} u^{2} u_{1} \\left(71 u^{2} - 42 u_{1}^{2}\\right)}{160} + \\frac{9 \\varepsilon u_{1} \\left(69 u^{2} - 22 u_{1}^{2}\\right)}{160} + \\frac{3 u_{1}}{160}\n",
      "\\right)\n"
     ]
    }
   ],
   "source": [
    "f2 = NF(F2, [u(t).diff(t), u1(t).diff(t)], [F1, F2], head=False)\n",
    "prn(f2, eps)\n",
    "prnlatex(f2, eps)"
   ]
  },
  {
   "cell_type": "code",
   "execution_count": 79,
   "id": "a6a365a6",
   "metadata": {},
   "outputs": [
    {
     "name": "stdout",
     "output_type": "stream",
     "text": [
      "h^0 =>\n"
     ]
    },
    {
     "data": {
      "text/latex": [
       "$\\displaystyle \\varepsilon u^{3} u_{t} + u u_{t} + u_{1} u1_{t}$"
      ],
      "text/plain": [
       "\\varepsilon*u**3*u_{t} + u*u_{t} + u1*u1_{t}"
      ]
     },
     "metadata": {},
     "output_type": "display_data"
    },
    {
     "name": "stdout",
     "output_type": "stream",
     "text": [
      "h^1 =>\n"
     ]
    },
    {
     "data": {
      "text/latex": [
       "$\\displaystyle \\frac{\\varepsilon u^{2} \\left(u u_{tt} + 3 u_{t}^{2}\\right)}{2} + \\frac{u u_{tt} + u_{1} u1_{tt} + u1_{t}^{2} + u_{t}^{2}}{2}$"
      ],
      "text/plain": [
       "\\varepsilon*u**2*(u*u_{tt} + 3*u_{t}**2)/2 + (u*u_{tt} + u1*u1_{tt} + u1_{t}**2 + u_{t}**2)/2"
      ]
     },
     "metadata": {},
     "output_type": "display_data"
    },
    {
     "name": "stdout",
     "output_type": "stream",
     "text": [
      "h^2 =>\n"
     ]
    },
    {
     "data": {
      "text/latex": [
       "$\\displaystyle \\frac{\\varepsilon u \\left(u^{2} u_{ttt} + 9 u u_{tt} u_{t} + 6 u_{t}^{3}\\right)}{6} + \\frac{u u_{ttt} + u_{1} u1_{ttt} + 3 u1_{tt} u1_{t} + 3 u_{tt} u_{t}}{6}$"
      ],
      "text/plain": [
       "\\varepsilon*u*(u**2*u_{ttt} + 9*u*u_{tt}*u_{t} + 6*u_{t}**3)/6 + (u*u_{ttt} + u1*u1_{ttt} + 3*u1_{tt}*u1_{t} + 3*u_{tt}*u_{t})/6"
      ]
     },
     "metadata": {},
     "output_type": "display_data"
    },
    {
     "name": "stdout",
     "output_type": "stream",
     "text": [
      "h^3 =>\n"
     ]
    },
    {
     "data": {
      "text/latex": [
       "$\\displaystyle \\frac{\\varepsilon \\left(u^{3} u_{tttt} + 12 u^{2} u_{ttt} u_{t} + 9 u^{2} u_{tt}^{2} + 36 u u_{tt} u_{t}^{2} + 6 u_{t}^{4}\\right)}{24} + \\frac{u u_{tttt} + u_{1} u1_{tttt} + 4 u1_{ttt} u1_{t} + 3 u1_{tt}^{2} + 4 u_{ttt} u_{t} + 3 u_{tt}^{2}}{24}$"
      ],
      "text/plain": [
       "\\varepsilon*(u**3*u_{tttt} + 12*u**2*u_{ttt}*u_{t} + 9*u**2*u_{tt}**2 + 36*u*u_{tt}*u_{t}**2 + 6*u_{t}**4)/24 + (u*u_{tttt} + u1*u1_{tttt} + 4*u1_{ttt}*u1_{t} + 3*u1_{tt}**2 + 4*u_{ttt}*u_{t} + 3*u_{tt}**2)/24"
      ]
     },
     "metadata": {},
     "output_type": "display_data"
    },
    {
     "name": "stdout",
     "output_type": "stream",
     "text": [
      "h^4 =>\n"
     ]
    },
    {
     "data": {
      "text/latex": [
       "$\\displaystyle \\frac{\\varepsilon \\left(u^{3} u_{ttttt} + 15 u^{2} u_{tttt} u_{t} + 30 u^{2} u_{ttt} u_{tt} + 60 u u_{ttt} u_{t}^{2} + 90 u u_{tt}^{2} u_{t} + 60 u_{tt} u_{t}^{3}\\right)}{120} + \\frac{u u_{ttttt} + u_{1} u1_{ttttt} + 5 u1_{tttt} u1_{t} + 10 u1_{ttt} u1_{tt} + 5 u_{tttt} u_{t} + 10 u_{ttt} u_{tt}}{120}$"
      ],
      "text/plain": [
       "\\varepsilon*(u**3*u_{ttttt} + 15*u**2*u_{tttt}*u_{t} + 30*u**2*u_{ttt}*u_{tt} + 60*u*u_{ttt}*u_{t}**2 + 90*u*u_{tt}**2*u_{t} + 60*u_{tt}*u_{t}**3)/120 + (u*u_{ttttt} + u1*u1_{ttttt} + 5*u1_{tttt}*u1_{t} + 10*u1_{ttt}*u1_{tt} + 5*u_{tttt}*u_{t} + 10*u_{ttt}*u_{tt})/120"
      ]
     },
     "metadata": {},
     "output_type": "display_data"
    },
    {
     "name": "stdout",
     "output_type": "stream",
     "text": [
      "h^5 =>\n"
     ]
    },
    {
     "data": {
      "text/latex": [
       "$\\displaystyle \\frac{\\varepsilon \\left(u^{3} u_{tttttt} + 18 u^{2} u_{ttttt} u_{t} + 45 u^{2} u_{tttt} u_{tt} + 30 u^{2} u_{ttt}^{2} + 90 u u_{tttt} u_{t}^{2} + 360 u u_{ttt} u_{tt} u_{t} + 90 u u_{tt}^{3} + 120 u_{ttt} u_{t}^{3} + 270 u_{tt}^{2} u_{t}^{2}\\right)}{720} + \\frac{u u_{tttttt} + u_{1} u1_{tttttt} + 6 u1_{ttttt} u1_{t} + 15 u1_{tttt} u1_{tt} + 10 u1_{ttt}^{2} + 6 u_{ttttt} u_{t} + 15 u_{tttt} u_{tt} + 10 u_{ttt}^{2}}{720}$"
      ],
      "text/plain": [
       "\\varepsilon*(u**3*u_{tttttt} + 18*u**2*u_{ttttt}*u_{t} + 45*u**2*u_{tttt}*u_{tt} + 30*u**2*u_{ttt}**2 + 90*u*u_{tttt}*u_{t}**2 + 360*u*u_{ttt}*u_{tt}*u_{t} + 90*u*u_{tt}**3 + 120*u_{ttt}*u_{t}**3 + 270*u_{tt}**2*u_{t}**2)/720 + (u*u_{tttttt} + u1*u1_{tttttt} + 6*u1_{ttttt}*u1_{t} + 15*u1_{tttt}*u1_{tt} + 10*u1_{ttt}**2 + 6*u_{ttttt}*u_{t} + 15*u_{tttt}*u_{tt} + 10*u_{ttt}**2)/720"
      ]
     },
     "metadata": {},
     "output_type": "display_data"
    },
    {
     "name": "stdout",
     "output_type": "stream",
     "text": [
      "\\varepsilon u^{3} u_{t} + u u_{t} + u_{1} u1_{t}\n",
      "+h\\left(\n",
      "\\frac{\\varepsilon u^{2} \\left(u u_{tt} + 3 u_{t}^{2}\\right)}{2} + \\frac{u u_{tt} + u_{1} u1_{tt} + u1_{t}^{2} + u_{t}^{2}}{2}\n",
      "\\right)\n",
      "+h^2\\left(\n",
      "\\frac{\\varepsilon u \\left(u^{2} u_{ttt} + 9 u u_{tt} u_{t} + 6 u_{t}^{3}\\right)}{6} + \\frac{u u_{ttt} + u_{1} u1_{ttt} + 3 u1_{tt} u1_{t} + 3 u_{tt} u_{t}}{6}\n",
      "\\right)\n",
      "+h^3\\left(\n",
      "\\frac{\\varepsilon \\left(u^{3} u_{tttt} + 12 u^{2} u_{ttt} u_{t} + 9 u^{2} u_{tt}^{2} + 36 u u_{tt} u_{t}^{2} + 6 u_{t}^{4}\\right)}{24} + \\frac{u u_{tttt} + u_{1} u1_{tttt} + 4 u1_{ttt} u1_{t} + 3 u1_{tt}^{2} + 4 u_{ttt} u_{t} + 3 u_{tt}^{2}}{24}\n",
      "\\right)\n",
      "+h^4\\left(\n",
      "\\frac{\\varepsilon \\left(u^{3} u_{ttttt} + 15 u^{2} u_{tttt} u_{t} + 30 u^{2} u_{ttt} u_{tt} + 60 u u_{ttt} u_{t}^{2} + 90 u u_{tt}^{2} u_{t} + 60 u_{tt} u_{t}^{3}\\right)}{120} + \\frac{u u_{ttttt} + u_{1} u1_{ttttt} + 5 u1_{tttt} u1_{t} + 10 u1_{ttt} u1_{tt} + 5 u_{tttt} u_{t} + 10 u_{ttt} u_{tt}}{120}\n",
      "\\right)\n",
      "+h^5\\left(\n",
      "\\frac{\\varepsilon \\left(u^{3} u_{tttttt} + 18 u^{2} u_{ttttt} u_{t} + 45 u^{2} u_{tttt} u_{tt} + 30 u^{2} u_{ttt}^{2} + 90 u u_{tttt} u_{t}^{2} + 360 u u_{ttt} u_{tt} u_{t} + 90 u u_{tt}^{3} + 120 u_{ttt} u_{t}^{3} + 270 u_{tt}^{2} u_{t}^{2}\\right)}{720} + \\frac{u u_{tttttt} + u_{1} u1_{tttttt} + 6 u1_{ttttt} u1_{t} + 15 u1_{tttt} u1_{tt} + 10 u1_{ttt}^{2} + 6 u_{ttttt} u_{t} + 15 u_{tttt} u_{tt} + 10 u_{ttt}^{2}}{720}\n",
      "\\right)\n"
     ]
    }
   ],
   "source": [
    "F3 = clip(((T(u1(t+h))**2/2 + T(u(t+h))**2/2 + eps*T(u(t+h))**4/4) -\\\n",
    "           (T(u1(t))**2/2 + T(u(t))**2/2 + eps*T(u(t))**4/4))/h)\n",
    "prn(F3, eps)\n",
    "prnlatex(F3, eps)"
   ]
  },
  {
   "cell_type": "code",
   "execution_count": 80,
   "id": "5e88e812",
   "metadata": {},
   "outputs": [
    {
     "name": "stdout",
     "output_type": "stream",
     "text": [
      "h^0 =>\n"
     ]
    },
    {
     "data": {
      "text/latex": [
       "$\\displaystyle 0$"
      ],
      "text/plain": [
       "0"
      ]
     },
     "metadata": {},
     "output_type": "display_data"
    },
    {
     "name": "stdout",
     "output_type": "stream",
     "text": [
      "h^1 =>\n"
     ]
    },
    {
     "data": {
      "text/latex": [
       "$\\displaystyle 0$"
      ],
      "text/plain": [
       "0"
      ]
     },
     "metadata": {},
     "output_type": "display_data"
    },
    {
     "name": "stdout",
     "output_type": "stream",
     "text": [
      "h^2 =>\n"
     ]
    },
    {
     "data": {
      "text/latex": [
       "$\\displaystyle 0$"
      ],
      "text/plain": [
       "0"
      ]
     },
     "metadata": {},
     "output_type": "display_data"
    },
    {
     "name": "stdout",
     "output_type": "stream",
     "text": [
      "h^3 =>\n"
     ]
    },
    {
     "data": {
      "text/latex": [
       "$\\displaystyle 0$"
      ],
      "text/plain": [
       "0"
      ]
     },
     "metadata": {},
     "output_type": "display_data"
    },
    {
     "name": "stdout",
     "output_type": "stream",
     "text": [
      "h^4 =>\n"
     ]
    },
    {
     "data": {
      "text/latex": [
       "$\\displaystyle 0$"
      ],
      "text/plain": [
       "0"
      ]
     },
     "metadata": {},
     "output_type": "display_data"
    },
    {
     "name": "stdout",
     "output_type": "stream",
     "text": [
      "h^5 =>\n"
     ]
    },
    {
     "data": {
      "text/latex": [
       "$\\displaystyle - \\frac{81 \\varepsilon^{4} u^{10}}{160} - \\frac{9 \\varepsilon^{3} u^{6} \\left(26 u^{2} + 105 u_{1}^{2}\\right)}{160} - \\frac{3 \\varepsilon^{2} u^{2} \\left(4 u^{2} - 3 u_{1}^{2}\\right) \\left(19 u^{2} + 126 u_{1}^{2}\\right)}{160} - \\frac{3 \\varepsilon \\left(26 u^{4} + 141 u^{2} u_{1}^{2} - 66 u_{1}^{4}\\right)}{160} - \\frac{3 \\left(u^{2} + u_{1}^{2}\\right)}{160}$"
      ],
      "text/plain": [
       "-81*\\varepsilon**4*u**10/160 - 9*\\varepsilon**3*u**6*(26*u**2 + 105*u1**2)/160 - 3*\\varepsilon**2*u**2*(4*u**2 - 3*u1**2)*(19*u**2 + 126*u1**2)/160 - 3*\\varepsilon*(26*u**4 + 141*u**2*u1**2 - 66*u1**4)/160 - 3*(u**2 + u1**2)/160"
      ]
     },
     "metadata": {},
     "output_type": "display_data"
    },
    {
     "name": "stdout",
     "output_type": "stream",
     "text": [
      "0\n",
      "+h\\left(\n",
      "0\n",
      "\\right)\n",
      "+h^2\\left(\n",
      "0\n",
      "\\right)\n",
      "+h^3\\left(\n",
      "0\n",
      "\\right)\n",
      "+h^4\\left(\n",
      "0\n",
      "\\right)\n",
      "+h^5\\left(\n",
      "- \\frac{81 \\varepsilon^{4} u^{10}}{160} - \\frac{9 \\varepsilon^{3} u^{6} \\left(26 u^{2} + 105 u_{1}^{2}\\right)}{160} - \\frac{3 \\varepsilon^{2} u^{2} \\left(4 u^{2} - 3 u_{1}^{2}\\right) \\left(19 u^{2} + 126 u_{1}^{2}\\right)}{160} - \\frac{3 \\varepsilon \\left(26 u^{4} + 141 u^{2} u_{1}^{2} - 66 u_{1}^{4}\\right)}{160} - \\frac{3 \\left(u^{2} + u_{1}^{2}\\right)}{160}\n",
      "\\right)\n"
     ]
    }
   ],
   "source": [
    "f3 = NF(F3, [u(t).diff(t), u1(t).diff(t)], [f1, f2], head=True)\n",
    "prn(f3, eps)\n",
    "prnlatex(f3, eps)"
   ]
  },
  {
   "cell_type": "code",
   "execution_count": 81,
   "id": "61a7928c",
   "metadata": {},
   "outputs": [
    {
     "name": "stdout",
     "output_type": "stream",
     "text": [
      "-81*eps**4*y[0]**10/160 + eps**3*(-117*y[0]**8/80 - 189*y[0]**6*y[1]**2/32) + eps**2*(-57*y[0]**6/40 - 1341*y[0]**4*y[1]**2/160 + 567*y[0]**2*y[1]**4/80) + eps*(-39*y[0]**4/80 - 423*y[0]**2*y[1]**2/160 + 99*y[1]**4/80) - 3*y[0]**2/160 - 3*y[1]**2/160\n"
     ]
    }
   ],
   "source": [
    "print(replace(str(f3[5].collect(eps))))"
   ]
  },
  {
   "cell_type": "code",
   "execution_count": 82,
   "id": "1ddc1186",
   "metadata": {
    "scrolled": true
   },
   "outputs": [
    {
     "name": "stdout",
     "output_type": "stream",
     "text": [
      "78.55285406112671\n"
     ]
    }
   ],
   "source": [
    "end = time.time()\n",
    "print(end - start)"
   ]
  }
 ],
 "metadata": {
  "kernelspec": {
   "display_name": "Python 3 (ipykernel)",
   "language": "python",
   "name": "python3"
  },
  "language_info": {
   "codemirror_mode": {
    "name": "ipython",
    "version": 3
   },
   "file_extension": ".py",
   "mimetype": "text/x-python",
   "name": "python",
   "nbconvert_exporter": "python",
   "pygments_lexer": "ipython3",
   "version": "3.10.6"
  }
 },
 "nbformat": 4,
 "nbformat_minor": 5
}
