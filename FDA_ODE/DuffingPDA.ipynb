{
 "cells": [
  {
   "cell_type": "code",
   "execution_count": 1,
   "id": "9f78c78b",
   "metadata": {
    "scrolled": true
   },
   "outputs": [],
   "source": [
    "from pprint import pprint\n",
    "from IPython.display import display\n",
    "\n",
    "from fda_ode import *"
   ]
  },
  {
   "cell_type": "code",
   "execution_count": 2,
   "id": "40084236",
   "metadata": {
    "scrolled": true
   },
   "outputs": [],
   "source": [
    "eps, t, h = symbols(r'\\varepsilon, t, h', real=True)\n",
    "u, u1 = (f(t) for f in symbols('u, u1', cls=Function))"
   ]
  },
  {
   "cell_type": "code",
   "execution_count": 3,
   "id": "a8743483",
   "metadata": {
    "scrolled": true
   },
   "outputs": [
    {
     "data": {
      "text/latex": [
       "$\\displaystyle \\varepsilon u^{3}{\\left(t \\right)} + u{\\left(t \\right)} + \\frac{d^{2}}{d t^{2}} u{\\left(t \\right)}$"
      ],
      "text/plain": [
       "\\varepsilon*u(t)**3 + u(t) + Derivative(u(t), (t, 2))"
      ]
     },
     "execution_count": 3,
     "metadata": {},
     "output_type": "execute_result"
    }
   ],
   "source": [
    "eq = u.diff(t, 2)  + u + eps*u**3\n",
    "eq"
   ]
  },
  {
   "cell_type": "markdown",
   "id": "15d41139",
   "metadata": {},
   "source": [
    "Первый интеграл страница 123\n",
    "\n",
    "https://disk.yandex.ru/i/ng5ws4p2rYTcQA"
   ]
  },
  {
   "cell_type": "code",
   "execution_count": 4,
   "id": "db509128",
   "metadata": {
    "scrolled": true
   },
   "outputs": [],
   "source": [
    "eq1 = (u.diff(t)**2/2 + u**2/2 + eps*u**4/4) - h"
   ]
  },
  {
   "cell_type": "code",
   "execution_count": 5,
   "id": "f9544a40",
   "metadata": {
    "scrolled": true
   },
   "outputs": [
    {
     "data": {
      "text/latex": [
       "$\\displaystyle 0$"
      ],
      "text/plain": [
       "0"
      ]
     },
     "execution_count": 5,
     "metadata": {},
     "output_type": "execute_result"
    }
   ],
   "source": [
    "expand(eq1.diff(t) - eq*u.diff(t))"
   ]
  },
  {
   "cell_type": "code",
   "execution_count": 6,
   "id": "1041cabe",
   "metadata": {
    "scrolled": true
   },
   "outputs": [],
   "source": [
    "init((u, u1), t, h)\n",
    "set_clip(8, 7, Rational(0, 1))"
   ]
  },
  {
   "cell_type": "code",
   "execution_count": 7,
   "id": "41dd0268",
   "metadata": {
    "scrolled": true
   },
   "outputs": [
    {
     "data": {
      "text/latex": [
       "$\\displaystyle \\frac{h^{6} \\frac{d^{7}}{d t^{7}} u{\\left(t \\right)}}{5040} + \\frac{h^{4} \\frac{d^{5}}{d t^{5}} u{\\left(t \\right)}}{120} + \\frac{h^{2} \\frac{d^{3}}{d t^{3}} u{\\left(t \\right)}}{6} + \\frac{d}{d t} u{\\left(t \\right)}$"
      ],
      "text/plain": [
       "h**6*Derivative(u(t), (t, 7))/5040 + h**4*Derivative(u(t), (t, 5))/120 + h**2*Derivative(u(t), (t, 3))/6 + Derivative(u(t), t)"
      ]
     },
     "execution_count": 7,
     "metadata": {},
     "output_type": "execute_result"
    }
   ],
   "source": [
    "expand((T(u, 1)-T(u, -1))/(2*h))"
   ]
  },
  {
   "cell_type": "code",
   "execution_count": 8,
   "id": "3747f5ff",
   "metadata": {
    "scrolled": true
   },
   "outputs": [],
   "source": [
    "def GaussLegendre2(f, y):\n",
    "    y1 = Matrix([T(m, 1) for m in y])\n",
    "    k1 = f(y1/2 + y/2)\n",
    "    return expand(k1)"
   ]
  },
  {
   "cell_type": "code",
   "execution_count": 9,
   "id": "0f5f980c",
   "metadata": {},
   "outputs": [],
   "source": [
    "def CrankNicolson2(f, y):\n",
    "    y1 = Matrix([T(m, 1) for m in y])\n",
    "    k1 = f(y)\n",
    "    k2 = f(y1)\n",
    "    return expand((k1 + k2)/2)"
   ]
  },
  {
   "cell_type": "code",
   "execution_count": 10,
   "id": "042571f5",
   "metadata": {
    "scrolled": true
   },
   "outputs": [],
   "source": [
    "def RungeKutta4(f, y):\n",
    "    k1 = f(y)\n",
    "    k2 = f(y + h*k1/2)\n",
    "    k3 = f(y + h*k2/2)\n",
    "    k4 = f(y + h*k3)\n",
    "    return expand((k1 + 2*k2 + 2*k3 + k4)/6)"
   ]
  },
  {
   "cell_type": "code",
   "execution_count": 11,
   "id": "0cfb5314",
   "metadata": {
    "scrolled": true
   },
   "outputs": [],
   "source": [
    "def DormandPrince5(f, y):\n",
    "    k1 = f(y)\n",
    "    k2 = f(y + h*k1/5)\n",
    "    k3 = f(y + h*(k1*3/40 + k2*9/40))\n",
    "    k4 = f(y + h*(k1*44/45 - k2*56/15 + k3*32/9))\n",
    "    k5 = f(y + h*(k1*19372/6561 - k2*25360/2187 + k3*64448/6561 - k4*212/729))\n",
    "    k6 = f(y + h*(k1*9017/3168 - k2*355/33 + k3*46732/5247 + k4*49/176 - k5*5103/18656))\n",
    "    return expand(k1*35/384 + k3*500/1113 + k4*125/192 - k5*2187/6784 + k6*11/84)\n",
    "\n",
    "def DormandPrince51(f, y):\n",
    "    k1 = f(y)\n",
    "    k2 = f(y + h*k1/5)\n",
    "    k3 = f(y + h*(k1*3/40 + k2*9/40))\n",
    "    k4 = f(y + h*(k1*44/45 - k2*56/15 + k3*32/9))\n",
    "    k5 = f(y + h*(k1*19372/6561 - k2*25360/2187 + k3*64448/6561 - k4*212/729))\n",
    "    k6 = f(y + h*(k1*9017/3168 - k2*355/33 + k3*46732/5247 + k4*49/176 - k5*5103/18656))\n",
    "    k7 = f(y + h*(k1*35/384 + k3*500/1113 + k4*125/192 - k5*2187/6784 + k6*11/84))\n",
    "    return expand(k1*5179/57600 + k3*7571/16695 + k4*393/640 - k5*92097/339200 + k6*187/2100 + k7/40)"
   ]
  },
  {
   "cell_type": "code",
   "execution_count": 12,
   "id": "7ba99bb0",
   "metadata": {
    "scrolled": true
   },
   "outputs": [],
   "source": [
    "def f(y):\n",
    "    return Matrix([\\\n",
    "        clip_n(y[1]),\\\n",
    "        clip_n(-y[0] - eps*y[0]**3),\\\n",
    "    ])"
   ]
  },
  {
   "cell_type": "markdown",
   "id": "3493ee4b",
   "metadata": {},
   "source": [
    "## Gauss–Legendre method"
   ]
  },
  {
   "cell_type": "code",
   "execution_count": 13,
   "id": "b901bdc4",
   "metadata": {
    "scrolled": true
   },
   "outputs": [],
   "source": [
    "set_clip(5, 4, Rational(0, 1))\n",
    "r = GaussLegendre2(f, Matrix([u, u1]))"
   ]
  },
  {
   "cell_type": "code",
   "execution_count": 14,
   "id": "a3d52e59",
   "metadata": {
    "scrolled": true
   },
   "outputs": [
    {
     "name": "stdout",
     "output_type": "stream",
     "text": [
      "h^0 =>\n"
     ]
    },
    {
     "data": {
      "text/latex": [
       "$\\displaystyle - u_{1} + u_{t}$"
      ],
      "text/plain": [
       "-u1 + u_{t}"
      ]
     },
     "metadata": {},
     "output_type": "display_data"
    },
    {
     "name": "stdout",
     "output_type": "stream",
     "text": [
      "h^1 =>\n"
     ]
    },
    {
     "data": {
      "text/latex": [
       "$\\displaystyle - \\frac{u1_{t} - u_{tt}}{2}$"
      ],
      "text/plain": [
       "-(u1_{t} - u_{tt})/2"
      ]
     },
     "metadata": {},
     "output_type": "display_data"
    },
    {
     "name": "stdout",
     "output_type": "stream",
     "text": [
      "h^2 =>\n"
     ]
    },
    {
     "data": {
      "text/latex": [
       "$\\displaystyle - \\frac{3 u1_{tt} - 2 u_{ttt}}{12}$"
      ],
      "text/plain": [
       "-(3*u1_{tt} - 2*u_{ttt})/12"
      ]
     },
     "metadata": {},
     "output_type": "display_data"
    },
    {
     "name": "stdout",
     "output_type": "stream",
     "text": [
      "h^3 =>\n"
     ]
    },
    {
     "data": {
      "text/latex": [
       "$\\displaystyle - \\frac{2 u1_{ttt} - u_{tttt}}{24}$"
      ],
      "text/plain": [
       "-(2*u1_{ttt} - u_{tttt})/24"
      ]
     },
     "metadata": {},
     "output_type": "display_data"
    },
    {
     "name": "stdout",
     "output_type": "stream",
     "text": [
      "- u_{1} + u_{t}\n",
      "+h\\big(\n",
      "- \\frac{u1_{t} - u_{tt}}{2}\n",
      "\\big)\n",
      "+h^2\\big(\n",
      "- \\frac{3 u1_{tt} - 2 u_{ttt}}{12}\n",
      "\\big)\n",
      "+h^3\\big(\n",
      "- \\frac{2 u1_{ttt} - u_{tttt}}{24}\n",
      "\\big)\n"
     ]
    }
   ],
   "source": [
    "F1 = clip((T(u, 1)-T(u, 0))/h - T(r[0], 0))\n",
    "prn(F1, eps)\n",
    "prnlatex(F1, eps)"
   ]
  },
  {
   "cell_type": "code",
   "execution_count": 15,
   "id": "2270f553",
   "metadata": {
    "scrolled": true
   },
   "outputs": [
    {
     "name": "stdout",
     "output_type": "stream",
     "text": [
      "h^0 =>\n"
     ]
    },
    {
     "data": {
      "text/latex": [
       "$\\displaystyle \\varepsilon u^{3} + u + u1_{t}$"
      ],
      "text/plain": [
       "\\varepsilon*u**3 + u + u1_{t}"
      ]
     },
     "metadata": {},
     "output_type": "display_data"
    },
    {
     "name": "stdout",
     "output_type": "stream",
     "text": [
      "h^1 =>\n"
     ]
    },
    {
     "data": {
      "text/latex": [
       "$\\displaystyle \\frac{3 \\varepsilon u^{2} u_{t}}{2} + \\frac{u1_{tt} + u_{t}}{2}$"
      ],
      "text/plain": [
       "3*\\varepsilon*u**2*u_{t}/2 + (u1_{tt} + u_{t})/2"
      ]
     },
     "metadata": {},
     "output_type": "display_data"
    },
    {
     "name": "stdout",
     "output_type": "stream",
     "text": [
      "h^2 =>\n"
     ]
    },
    {
     "data": {
      "text/latex": [
       "$\\displaystyle \\frac{3 \\varepsilon u \\left(u u_{tt} + u_{t}^{2}\\right)}{4} + \\frac{2 u1_{ttt} + 3 u_{tt}}{12}$"
      ],
      "text/plain": [
       "3*\\varepsilon*u*(u*u_{tt} + u_{t}**2)/4 + (2*u1_{ttt} + 3*u_{tt})/12"
      ]
     },
     "metadata": {},
     "output_type": "display_data"
    },
    {
     "name": "stdout",
     "output_type": "stream",
     "text": [
      "h^3 =>\n"
     ]
    },
    {
     "data": {
      "text/latex": [
       "$\\displaystyle \\frac{\\varepsilon \\left(2 u^{2} u_{ttt} + 6 u u_{tt} u_{t} + u_{t}^{3}\\right)}{8} + \\frac{u1_{tttt} + 2 u_{ttt}}{24}$"
      ],
      "text/plain": [
       "\\varepsilon*(2*u**2*u_{ttt} + 6*u*u_{tt}*u_{t} + u_{t}**3)/8 + (u1_{tttt} + 2*u_{ttt})/24"
      ]
     },
     "metadata": {},
     "output_type": "display_data"
    },
    {
     "name": "stdout",
     "output_type": "stream",
     "text": [
      "\\varepsilon u^{3} + u + u1_{t}\n",
      "+h\\big(\n",
      "\\frac{3 \\varepsilon u^{2} u_{t}}{2} + \\frac{u1_{tt} + u_{t}}{2}\n",
      "\\big)\n",
      "+h^2\\big(\n",
      "\\frac{3 \\varepsilon u \\left(u u_{tt} + u_{t}^{2}\\right)}{4} + \\frac{2 u1_{ttt} + 3 u_{tt}}{12}\n",
      "\\big)\n",
      "+h^3\\big(\n",
      "\\frac{\\varepsilon \\left(2 u^{2} u_{ttt} + 6 u u_{tt} u_{t} + u_{t}^{3}\\right)}{8} + \\frac{u1_{tttt} + 2 u_{ttt}}{24}\n",
      "\\big)\n"
     ]
    }
   ],
   "source": [
    "F2 = clip((T(u1, 1)-T(u1, 0))/h - T(r[1], 0))\n",
    "prn(F2, eps)\n",
    "prnlatex(F2, eps)"
   ]
  },
  {
   "cell_type": "code",
   "execution_count": 16,
   "id": "4494d1aa",
   "metadata": {
    "scrolled": true
   },
   "outputs": [
    {
     "name": "stdout",
     "output_type": "stream",
     "text": [
      "h^0 =>\n"
     ]
    },
    {
     "data": {
      "text/latex": [
       "$\\displaystyle - u_{1} + u_{t}$"
      ],
      "text/plain": [
       "-u1 + u_{t}"
      ]
     },
     "metadata": {},
     "output_type": "display_data"
    },
    {
     "name": "stdout",
     "output_type": "stream",
     "text": [
      "h^1 =>\n"
     ]
    },
    {
     "data": {
      "text/latex": [
       "$\\displaystyle 0$"
      ],
      "text/plain": [
       "0"
      ]
     },
     "metadata": {},
     "output_type": "display_data"
    },
    {
     "name": "stdout",
     "output_type": "stream",
     "text": [
      "h^2 =>\n"
     ]
    },
    {
     "data": {
      "text/latex": [
       "$\\displaystyle \\frac{\\varepsilon u^{2} u_{1}}{4} + \\frac{u_{1}}{12}$"
      ],
      "text/plain": [
       "\\varepsilon*u**2*u1/4 + u1/12"
      ]
     },
     "metadata": {},
     "output_type": "display_data"
    },
    {
     "name": "stdout",
     "output_type": "stream",
     "text": [
      "h^3 =>\n"
     ]
    },
    {
     "data": {
      "text/latex": [
       "$\\displaystyle 0$"
      ],
      "text/plain": [
       "0"
      ]
     },
     "metadata": {},
     "output_type": "display_data"
    },
    {
     "name": "stdout",
     "output_type": "stream",
     "text": [
      "- u_{1} + u_{t}\n",
      "+h\\big(\n",
      "0\n",
      "\\big)\n",
      "+h^2\\big(\n",
      "\\frac{\\varepsilon u^{2} u_{1}}{4} + \\frac{u_{1}}{12}\n",
      "\\big)\n",
      "+h^3\\big(\n",
      "0\n",
      "\\big)\n"
     ]
    }
   ],
   "source": [
    "f1 = NF(F1, [u.diff(t), u1.diff(t)], [F1, F2], head=False)\n",
    "prn(f1, eps)\n",
    "prnlatex(f1, eps)"
   ]
  },
  {
   "cell_type": "code",
   "execution_count": 17,
   "id": "c476d4d5",
   "metadata": {
    "scrolled": true
   },
   "outputs": [
    {
     "name": "stdout",
     "output_type": "stream",
     "text": [
      "h^0 =>\n"
     ]
    },
    {
     "data": {
      "text/latex": [
       "$\\displaystyle \\varepsilon u^{3} + u + u1_{t}$"
      ],
      "text/plain": [
       "\\varepsilon*u**3 + u + u1_{t}"
      ]
     },
     "metadata": {},
     "output_type": "display_data"
    },
    {
     "name": "stdout",
     "output_type": "stream",
     "text": [
      "h^1 =>\n"
     ]
    },
    {
     "data": {
      "text/latex": [
       "$\\displaystyle 0$"
      ],
      "text/plain": [
       "0"
      ]
     },
     "metadata": {},
     "output_type": "display_data"
    },
    {
     "name": "stdout",
     "output_type": "stream",
     "text": [
      "h^2 =>\n"
     ]
    },
    {
     "data": {
      "text/latex": [
       "$\\displaystyle - \\frac{\\varepsilon^{2} u^{5}}{4} - \\frac{\\varepsilon u \\left(4 u^{2} + 3 u_{1}^{2}\\right)}{12} - \\frac{u}{12}$"
      ],
      "text/plain": [
       "-\\varepsilon**2*u**5/4 - \\varepsilon*u*(4*u**2 + 3*u1**2)/12 - u/12"
      ]
     },
     "metadata": {},
     "output_type": "display_data"
    },
    {
     "name": "stdout",
     "output_type": "stream",
     "text": [
      "h^3 =>\n"
     ]
    },
    {
     "data": {
      "text/latex": [
       "$\\displaystyle 0$"
      ],
      "text/plain": [
       "0"
      ]
     },
     "metadata": {},
     "output_type": "display_data"
    },
    {
     "name": "stdout",
     "output_type": "stream",
     "text": [
      "\\varepsilon u^{3} + u + u1_{t}\n",
      "+h\\big(\n",
      "0\n",
      "\\big)\n",
      "+h^2\\big(\n",
      "- \\frac{\\varepsilon^{2} u^{5}}{4} - \\frac{\\varepsilon u \\left(4 u^{2} + 3 u_{1}^{2}\\right)}{12} - \\frac{u}{12}\n",
      "\\big)\n",
      "+h^3\\big(\n",
      "0\n",
      "\\big)\n"
     ]
    }
   ],
   "source": [
    "f2 = NF(F2, [u.diff(t), u1.diff(t)], [F1, F2], head=False)\n",
    "prn(f2, eps)\n",
    "prnlatex(f2, eps)"
   ]
  },
  {
   "cell_type": "code",
   "execution_count": 18,
   "id": "33be60f8",
   "metadata": {
    "scrolled": true
   },
   "outputs": [
    {
     "name": "stdout",
     "output_type": "stream",
     "text": [
      "h^0 =>\n"
     ]
    },
    {
     "data": {
      "text/latex": [
       "$\\displaystyle 0$"
      ],
      "text/plain": [
       "0"
      ]
     },
     "metadata": {},
     "output_type": "display_data"
    },
    {
     "name": "stdout",
     "output_type": "stream",
     "text": [
      "h^1 =>\n"
     ]
    },
    {
     "data": {
      "text/latex": [
       "$\\displaystyle \\varepsilon u^{3} u_{t} + u u_{t} + u_{1} u1_{t}$"
      ],
      "text/plain": [
       "\\varepsilon*u**3*u_{t} + u*u_{t} + u1*u1_{t}"
      ]
     },
     "metadata": {},
     "output_type": "display_data"
    },
    {
     "name": "stdout",
     "output_type": "stream",
     "text": [
      "h^2 =>\n"
     ]
    },
    {
     "data": {
      "text/latex": [
       "$\\displaystyle \\frac{\\varepsilon u^{2} \\left(u u_{tt} + 3 u_{t}^{2}\\right)}{2} + \\frac{u u_{tt} + u_{1} u1_{tt} + u1_{t}^{2} + u_{t}^{2}}{2}$"
      ],
      "text/plain": [
       "\\varepsilon*u**2*(u*u_{tt} + 3*u_{t}**2)/2 + (u*u_{tt} + u1*u1_{tt} + u1_{t}**2 + u_{t}**2)/2"
      ]
     },
     "metadata": {},
     "output_type": "display_data"
    },
    {
     "name": "stdout",
     "output_type": "stream",
     "text": [
      "h^3 =>\n"
     ]
    },
    {
     "data": {
      "text/latex": [
       "$\\displaystyle \\frac{\\varepsilon u \\left(u^{2} u_{ttt} + 9 u u_{tt} u_{t} + 6 u_{t}^{3}\\right)}{6} + \\frac{u u_{ttt} + u_{1} u1_{ttt} + 3 u1_{tt} u1_{t} + 3 u_{tt} u_{t}}{6}$"
      ],
      "text/plain": [
       "\\varepsilon*u*(u**2*u_{ttt} + 9*u*u_{tt}*u_{t} + 6*u_{t}**3)/6 + (u*u_{ttt} + u1*u1_{ttt} + 3*u1_{tt}*u1_{t} + 3*u_{tt}*u_{t})/6"
      ]
     },
     "metadata": {},
     "output_type": "display_data"
    },
    {
     "name": "stdout",
     "output_type": "stream",
     "text": [
      "0\n",
      "+h\\big(\n",
      "\\varepsilon u^{3} u_{t} + u u_{t} + u_{1} u1_{t}\n",
      "\\big)\n",
      "+h^2\\big(\n",
      "\\frac{\\varepsilon u^{2} \\left(u u_{tt} + 3 u_{t}^{2}\\right)}{2} + \\frac{u u_{tt} + u_{1} u1_{tt} + u1_{t}^{2} + u_{t}^{2}}{2}\n",
      "\\big)\n",
      "+h^3\\big(\n",
      "\\frac{\\varepsilon u \\left(u^{2} u_{ttt} + 9 u u_{tt} u_{t} + 6 u_{t}^{3}\\right)}{6} + \\frac{u u_{ttt} + u_{1} u1_{ttt} + 3 u1_{tt} u1_{t} + 3 u_{tt} u_{t}}{6}\n",
      "\\big)\n"
     ]
    }
   ],
   "source": [
    "F3 = clip((T(u1, 1)**2/2 + T(u, 1)**2/2 + eps*T(u, 1)**4/4) -\\\n",
    "          (T(u1, 0)**2/2 + T(u, 0)**2/2 + eps*T(u, 0)**4/4))\n",
    "prn(F3, eps)\n",
    "prnlatex(F3, eps)"
   ]
  },
  {
   "cell_type": "code",
   "execution_count": 19,
   "id": "70af526a",
   "metadata": {
    "scrolled": true
   },
   "outputs": [
    {
     "name": "stdout",
     "output_type": "stream",
     "text": [
      "h^0 =>\n"
     ]
    },
    {
     "data": {
      "text/latex": [
       "$\\displaystyle 0$"
      ],
      "text/plain": [
       "0"
      ]
     },
     "metadata": {},
     "output_type": "display_data"
    },
    {
     "name": "stdout",
     "output_type": "stream",
     "text": [
      "h^1 =>\n"
     ]
    },
    {
     "data": {
      "text/latex": [
       "$\\displaystyle 0$"
      ],
      "text/plain": [
       "0"
      ]
     },
     "metadata": {},
     "output_type": "display_data"
    },
    {
     "name": "stdout",
     "output_type": "stream",
     "text": [
      "h^2 =>\n"
     ]
    },
    {
     "data": {
      "text/latex": [
       "$\\displaystyle 0$"
      ],
      "text/plain": [
       "0"
      ]
     },
     "metadata": {},
     "output_type": "display_data"
    },
    {
     "name": "stdout",
     "output_type": "stream",
     "text": [
      "h^3 =>\n"
     ]
    },
    {
     "data": {
      "text/latex": [
       "$\\displaystyle \\frac{\\varepsilon u u_{1}^{3}}{4}$"
      ],
      "text/plain": [
       "\\varepsilon*u*u1**3/4"
      ]
     },
     "metadata": {},
     "output_type": "display_data"
    },
    {
     "name": "stdout",
     "output_type": "stream",
     "text": [
      "0\n",
      "+h\\big(\n",
      "0\n",
      "\\big)\n",
      "+h^2\\big(\n",
      "0\n",
      "\\big)\n",
      "+h^3\\big(\n",
      "\\frac{\\varepsilon u u_{1}^{3}}{4}\n",
      "\\big)\n"
     ]
    }
   ],
   "source": [
    "f3 = NF(F3, [u.diff(t), u1.diff(t)], [f1, f2], head=False)\n",
    "prn(f3, eps)\n",
    "prnlatex(f3, eps)"
   ]
  },
  {
   "cell_type": "markdown",
   "id": "b10450db",
   "metadata": {},
   "source": [
    "## Crank–Nicolson method"
   ]
  },
  {
   "cell_type": "code",
   "execution_count": 20,
   "id": "5c7faaab",
   "metadata": {
    "scrolled": true
   },
   "outputs": [],
   "source": [
    "set_clip(5, 4, Rational(0, 1))\n",
    "r = CrankNicolson2(f, Matrix([u, u1]))"
   ]
  },
  {
   "cell_type": "code",
   "execution_count": 21,
   "id": "6b16971f",
   "metadata": {
    "scrolled": true
   },
   "outputs": [
    {
     "name": "stdout",
     "output_type": "stream",
     "text": [
      "h^0 =>\n"
     ]
    },
    {
     "data": {
      "text/latex": [
       "$\\displaystyle - u_{1} + u_{t}$"
      ],
      "text/plain": [
       "-u1 + u_{t}"
      ]
     },
     "metadata": {},
     "output_type": "display_data"
    },
    {
     "name": "stdout",
     "output_type": "stream",
     "text": [
      "h^1 =>\n"
     ]
    },
    {
     "data": {
      "text/latex": [
       "$\\displaystyle - \\frac{u1_{t} - u_{tt}}{2}$"
      ],
      "text/plain": [
       "-(u1_{t} - u_{tt})/2"
      ]
     },
     "metadata": {},
     "output_type": "display_data"
    },
    {
     "name": "stdout",
     "output_type": "stream",
     "text": [
      "h^2 =>\n"
     ]
    },
    {
     "data": {
      "text/latex": [
       "$\\displaystyle - \\frac{3 u1_{tt} - 2 u_{ttt}}{12}$"
      ],
      "text/plain": [
       "-(3*u1_{tt} - 2*u_{ttt})/12"
      ]
     },
     "metadata": {},
     "output_type": "display_data"
    },
    {
     "name": "stdout",
     "output_type": "stream",
     "text": [
      "h^3 =>\n"
     ]
    },
    {
     "data": {
      "text/latex": [
       "$\\displaystyle - \\frac{2 u1_{ttt} - u_{tttt}}{24}$"
      ],
      "text/plain": [
       "-(2*u1_{ttt} - u_{tttt})/24"
      ]
     },
     "metadata": {},
     "output_type": "display_data"
    },
    {
     "name": "stdout",
     "output_type": "stream",
     "text": [
      "- u_{1} + u_{t}\n",
      "+h\\big(\n",
      "- \\frac{u1_{t} - u_{tt}}{2}\n",
      "\\big)\n",
      "+h^2\\big(\n",
      "- \\frac{3 u1_{tt} - 2 u_{ttt}}{12}\n",
      "\\big)\n",
      "+h^3\\big(\n",
      "- \\frac{2 u1_{ttt} - u_{tttt}}{24}\n",
      "\\big)\n"
     ]
    }
   ],
   "source": [
    "F1 = clip((T(u, 1)-T(u, 0))/h - T(r[0], 0))\n",
    "prn(F1, eps)\n",
    "prnlatex(F1, eps)"
   ]
  },
  {
   "cell_type": "code",
   "execution_count": 22,
   "id": "af743b33",
   "metadata": {
    "scrolled": true
   },
   "outputs": [
    {
     "name": "stdout",
     "output_type": "stream",
     "text": [
      "h^0 =>\n"
     ]
    },
    {
     "data": {
      "text/latex": [
       "$\\displaystyle \\varepsilon u^{3} + u + u1_{t}$"
      ],
      "text/plain": [
       "\\varepsilon*u**3 + u + u1_{t}"
      ]
     },
     "metadata": {},
     "output_type": "display_data"
    },
    {
     "name": "stdout",
     "output_type": "stream",
     "text": [
      "h^1 =>\n"
     ]
    },
    {
     "data": {
      "text/latex": [
       "$\\displaystyle \\frac{3 \\varepsilon u^{2} u_{t}}{2} + \\frac{u1_{tt} + u_{t}}{2}$"
      ],
      "text/plain": [
       "3*\\varepsilon*u**2*u_{t}/2 + (u1_{tt} + u_{t})/2"
      ]
     },
     "metadata": {},
     "output_type": "display_data"
    },
    {
     "name": "stdout",
     "output_type": "stream",
     "text": [
      "h^2 =>\n"
     ]
    },
    {
     "data": {
      "text/latex": [
       "$\\displaystyle \\frac{3 \\varepsilon u \\left(u u_{tt} + 2 u_{t}^{2}\\right)}{4} + \\frac{2 u1_{ttt} + 3 u_{tt}}{12}$"
      ],
      "text/plain": [
       "3*\\varepsilon*u*(u*u_{tt} + 2*u_{t}**2)/4 + (2*u1_{ttt} + 3*u_{tt})/12"
      ]
     },
     "metadata": {},
     "output_type": "display_data"
    },
    {
     "name": "stdout",
     "output_type": "stream",
     "text": [
      "h^3 =>\n"
     ]
    },
    {
     "data": {
      "text/latex": [
       "$\\displaystyle \\frac{\\varepsilon \\left(u^{2} u_{ttt} + 6 u u_{tt} u_{t} + 2 u_{t}^{3}\\right)}{4} + \\frac{u1_{tttt} + 2 u_{ttt}}{24}$"
      ],
      "text/plain": [
       "\\varepsilon*(u**2*u_{ttt} + 6*u*u_{tt}*u_{t} + 2*u_{t}**3)/4 + (u1_{tttt} + 2*u_{ttt})/24"
      ]
     },
     "metadata": {},
     "output_type": "display_data"
    },
    {
     "name": "stdout",
     "output_type": "stream",
     "text": [
      "\\varepsilon u^{3} + u + u1_{t}\n",
      "+h\\big(\n",
      "\\frac{3 \\varepsilon u^{2} u_{t}}{2} + \\frac{u1_{tt} + u_{t}}{2}\n",
      "\\big)\n",
      "+h^2\\big(\n",
      "\\frac{3 \\varepsilon u \\left(u u_{tt} + 2 u_{t}^{2}\\right)}{4} + \\frac{2 u1_{ttt} + 3 u_{tt}}{12}\n",
      "\\big)\n",
      "+h^3\\big(\n",
      "\\frac{\\varepsilon \\left(u^{2} u_{ttt} + 6 u u_{tt} u_{t} + 2 u_{t}^{3}\\right)}{4} + \\frac{u1_{tttt} + 2 u_{ttt}}{24}\n",
      "\\big)\n"
     ]
    }
   ],
   "source": [
    "F2 = clip((T(u1, 1)-T(u1, 0))/h - T(r[1], 0))\n",
    "prn(F2, eps)\n",
    "prnlatex(F2, eps)"
   ]
  },
  {
   "cell_type": "code",
   "execution_count": 23,
   "id": "8d67de51",
   "metadata": {
    "scrolled": true
   },
   "outputs": [
    {
     "name": "stdout",
     "output_type": "stream",
     "text": [
      "h^0 =>\n"
     ]
    },
    {
     "data": {
      "text/latex": [
       "$\\displaystyle - u_{1} + u_{t}$"
      ],
      "text/plain": [
       "-u1 + u_{t}"
      ]
     },
     "metadata": {},
     "output_type": "display_data"
    },
    {
     "name": "stdout",
     "output_type": "stream",
     "text": [
      "h^1 =>\n"
     ]
    },
    {
     "data": {
      "text/latex": [
       "$\\displaystyle 0$"
      ],
      "text/plain": [
       "0"
      ]
     },
     "metadata": {},
     "output_type": "display_data"
    },
    {
     "name": "stdout",
     "output_type": "stream",
     "text": [
      "h^2 =>\n"
     ]
    },
    {
     "data": {
      "text/latex": [
       "$\\displaystyle \\frac{\\varepsilon u^{2} u_{1}}{4} + \\frac{u_{1}}{12}$"
      ],
      "text/plain": [
       "\\varepsilon*u**2*u1/4 + u1/12"
      ]
     },
     "metadata": {},
     "output_type": "display_data"
    },
    {
     "name": "stdout",
     "output_type": "stream",
     "text": [
      "h^3 =>\n"
     ]
    },
    {
     "data": {
      "text/latex": [
       "$\\displaystyle 0$"
      ],
      "text/plain": [
       "0"
      ]
     },
     "metadata": {},
     "output_type": "display_data"
    },
    {
     "name": "stdout",
     "output_type": "stream",
     "text": [
      "- u_{1} + u_{t}\n",
      "+h\\big(\n",
      "0\n",
      "\\big)\n",
      "+h^2\\big(\n",
      "\\frac{\\varepsilon u^{2} u_{1}}{4} + \\frac{u_{1}}{12}\n",
      "\\big)\n",
      "+h^3\\big(\n",
      "0\n",
      "\\big)\n"
     ]
    }
   ],
   "source": [
    "f1 = NF(F1, [u.diff(t), u1.diff(t)], [F1, F2], head=False)\n",
    "prn(f1, eps)\n",
    "prnlatex(f1, eps)"
   ]
  },
  {
   "cell_type": "code",
   "execution_count": 24,
   "id": "efc50e2b",
   "metadata": {
    "scrolled": true
   },
   "outputs": [
    {
     "name": "stdout",
     "output_type": "stream",
     "text": [
      "h^0 =>\n"
     ]
    },
    {
     "data": {
      "text/latex": [
       "$\\displaystyle \\varepsilon u^{3} + u + u1_{t}$"
      ],
      "text/plain": [
       "\\varepsilon*u**3 + u + u1_{t}"
      ]
     },
     "metadata": {},
     "output_type": "display_data"
    },
    {
     "name": "stdout",
     "output_type": "stream",
     "text": [
      "h^1 =>\n"
     ]
    },
    {
     "data": {
      "text/latex": [
       "$\\displaystyle 0$"
      ],
      "text/plain": [
       "0"
      ]
     },
     "metadata": {},
     "output_type": "display_data"
    },
    {
     "name": "stdout",
     "output_type": "stream",
     "text": [
      "h^2 =>\n"
     ]
    },
    {
     "data": {
      "text/latex": [
       "$\\displaystyle - \\frac{\\varepsilon^{2} u^{5}}{4} - \\frac{\\varepsilon u \\left(2 u^{2} - 3 u_{1}^{2}\\right)}{6} - \\frac{u}{12}$"
      ],
      "text/plain": [
       "-\\varepsilon**2*u**5/4 - \\varepsilon*u*(2*u**2 - 3*u1**2)/6 - u/12"
      ]
     },
     "metadata": {},
     "output_type": "display_data"
    },
    {
     "name": "stdout",
     "output_type": "stream",
     "text": [
      "h^3 =>\n"
     ]
    },
    {
     "data": {
      "text/latex": [
       "$\\displaystyle 0$"
      ],
      "text/plain": [
       "0"
      ]
     },
     "metadata": {},
     "output_type": "display_data"
    },
    {
     "name": "stdout",
     "output_type": "stream",
     "text": [
      "\\varepsilon u^{3} + u + u1_{t}\n",
      "+h\\big(\n",
      "0\n",
      "\\big)\n",
      "+h^2\\big(\n",
      "- \\frac{\\varepsilon^{2} u^{5}}{4} - \\frac{\\varepsilon u \\left(2 u^{2} - 3 u_{1}^{2}\\right)}{6} - \\frac{u}{12}\n",
      "\\big)\n",
      "+h^3\\big(\n",
      "0\n",
      "\\big)\n"
     ]
    }
   ],
   "source": [
    "f2 = NF(F2, [u.diff(t), u1.diff(t)], [F1, F2], head=False)\n",
    "prn(f2, eps)\n",
    "prnlatex(f2, eps)"
   ]
  },
  {
   "cell_type": "code",
   "execution_count": 25,
   "id": "00caa3e0",
   "metadata": {
    "scrolled": true
   },
   "outputs": [
    {
     "name": "stdout",
     "output_type": "stream",
     "text": [
      "h^0 =>\n"
     ]
    },
    {
     "data": {
      "text/latex": [
       "$\\displaystyle 0$"
      ],
      "text/plain": [
       "0"
      ]
     },
     "metadata": {},
     "output_type": "display_data"
    },
    {
     "name": "stdout",
     "output_type": "stream",
     "text": [
      "h^1 =>\n"
     ]
    },
    {
     "data": {
      "text/latex": [
       "$\\displaystyle \\varepsilon u^{3} u_{t} + u u_{t} + u_{1} u1_{t}$"
      ],
      "text/plain": [
       "\\varepsilon*u**3*u_{t} + u*u_{t} + u1*u1_{t}"
      ]
     },
     "metadata": {},
     "output_type": "display_data"
    },
    {
     "name": "stdout",
     "output_type": "stream",
     "text": [
      "h^2 =>\n"
     ]
    },
    {
     "data": {
      "text/latex": [
       "$\\displaystyle \\frac{\\varepsilon u^{2} \\left(u u_{tt} + 3 u_{t}^{2}\\right)}{2} + \\frac{u u_{tt} + u_{1} u1_{tt} + u1_{t}^{2} + u_{t}^{2}}{2}$"
      ],
      "text/plain": [
       "\\varepsilon*u**2*(u*u_{tt} + 3*u_{t}**2)/2 + (u*u_{tt} + u1*u1_{tt} + u1_{t}**2 + u_{t}**2)/2"
      ]
     },
     "metadata": {},
     "output_type": "display_data"
    },
    {
     "name": "stdout",
     "output_type": "stream",
     "text": [
      "h^3 =>\n"
     ]
    },
    {
     "data": {
      "text/latex": [
       "$\\displaystyle \\frac{\\varepsilon u \\left(u^{2} u_{ttt} + 9 u u_{tt} u_{t} + 6 u_{t}^{3}\\right)}{6} + \\frac{u u_{ttt} + u_{1} u1_{ttt} + 3 u1_{tt} u1_{t} + 3 u_{tt} u_{t}}{6}$"
      ],
      "text/plain": [
       "\\varepsilon*u*(u**2*u_{ttt} + 9*u*u_{tt}*u_{t} + 6*u_{t}**3)/6 + (u*u_{ttt} + u1*u1_{ttt} + 3*u1_{tt}*u1_{t} + 3*u_{tt}*u_{t})/6"
      ]
     },
     "metadata": {},
     "output_type": "display_data"
    },
    {
     "name": "stdout",
     "output_type": "stream",
     "text": [
      "0\n",
      "+h\\big(\n",
      "\\varepsilon u^{3} u_{t} + u u_{t} + u_{1} u1_{t}\n",
      "\\big)\n",
      "+h^2\\big(\n",
      "\\frac{\\varepsilon u^{2} \\left(u u_{tt} + 3 u_{t}^{2}\\right)}{2} + \\frac{u u_{tt} + u_{1} u1_{tt} + u1_{t}^{2} + u_{t}^{2}}{2}\n",
      "\\big)\n",
      "+h^3\\big(\n",
      "\\frac{\\varepsilon u \\left(u^{2} u_{ttt} + 9 u u_{tt} u_{t} + 6 u_{t}^{3}\\right)}{6} + \\frac{u u_{ttt} + u_{1} u1_{ttt} + 3 u1_{tt} u1_{t} + 3 u_{tt} u_{t}}{6}\n",
      "\\big)\n"
     ]
    }
   ],
   "source": [
    "F3 = clip((T(u1, 1)**2/2 + T(u, 1)**2/2 + eps*T(u, 1)**4/4) -\\\n",
    "          (T(u1, 0)**2/2 + T(u, 0)**2/2 + eps*T(u, 0)**4/4))\n",
    "prn(F3, eps)\n",
    "prnlatex(F3, eps)"
   ]
  },
  {
   "cell_type": "code",
   "execution_count": 26,
   "id": "08eee778",
   "metadata": {
    "scrolled": true
   },
   "outputs": [
    {
     "name": "stdout",
     "output_type": "stream",
     "text": [
      "h^0 =>\n"
     ]
    },
    {
     "data": {
      "text/latex": [
       "$\\displaystyle 0$"
      ],
      "text/plain": [
       "0"
      ]
     },
     "metadata": {},
     "output_type": "display_data"
    },
    {
     "name": "stdout",
     "output_type": "stream",
     "text": [
      "h^1 =>\n"
     ]
    },
    {
     "data": {
      "text/latex": [
       "$\\displaystyle 0$"
      ],
      "text/plain": [
       "0"
      ]
     },
     "metadata": {},
     "output_type": "display_data"
    },
    {
     "name": "stdout",
     "output_type": "stream",
     "text": [
      "h^2 =>\n"
     ]
    },
    {
     "data": {
      "text/latex": [
       "$\\displaystyle 0$"
      ],
      "text/plain": [
       "0"
      ]
     },
     "metadata": {},
     "output_type": "display_data"
    },
    {
     "name": "stdout",
     "output_type": "stream",
     "text": [
      "h^3 =>\n"
     ]
    },
    {
     "data": {
      "text/latex": [
       "$\\displaystyle - \\frac{\\varepsilon u u_{1}^{3}}{2}$"
      ],
      "text/plain": [
       "-\\varepsilon*u*u1**3/2"
      ]
     },
     "metadata": {},
     "output_type": "display_data"
    },
    {
     "name": "stdout",
     "output_type": "stream",
     "text": [
      "0\n",
      "+h\\big(\n",
      "0\n",
      "\\big)\n",
      "+h^2\\big(\n",
      "0\n",
      "\\big)\n",
      "+h^3\\big(\n",
      "- \\frac{\\varepsilon u u_{1}^{3}}{2}\n",
      "\\big)\n"
     ]
    }
   ],
   "source": [
    "f3 = NF(F3, [u.diff(t), u1.diff(t)], [f1, f2], head=False)\n",
    "prn(f3, eps)\n",
    "prnlatex(f3, eps)"
   ]
  },
  {
   "cell_type": "markdown",
   "id": "52ccdde8",
   "metadata": {},
   "source": [
    "## \"original\" Runge–Kutta method"
   ]
  },
  {
   "cell_type": "code",
   "execution_count": 27,
   "id": "9d78b19e",
   "metadata": {
    "scrolled": true
   },
   "outputs": [],
   "source": [
    "set_clip(7, 6, Rational(0, 1))\n",
    "r = RungeKutta4(f, Matrix([u, u1]))"
   ]
  },
  {
   "cell_type": "code",
   "execution_count": 28,
   "id": "c7ea7af0",
   "metadata": {
    "scrolled": true
   },
   "outputs": [
    {
     "name": "stdout",
     "output_type": "stream",
     "text": [
      "h^0 =>\n"
     ]
    },
    {
     "data": {
      "text/latex": [
       "$\\displaystyle - u_{1} + u_{t}$"
      ],
      "text/plain": [
       "-u1 + u_{t}"
      ]
     },
     "metadata": {},
     "output_type": "display_data"
    },
    {
     "name": "stdout",
     "output_type": "stream",
     "text": [
      "h^1 =>\n"
     ]
    },
    {
     "data": {
      "text/latex": [
       "$\\displaystyle \\frac{\\varepsilon u^{3}}{2} + \\frac{u + u_{tt}}{2}$"
      ],
      "text/plain": [
       "\\varepsilon*u**3/2 + (u + u_{tt})/2"
      ]
     },
     "metadata": {},
     "output_type": "display_data"
    },
    {
     "name": "stdout",
     "output_type": "stream",
     "text": [
      "h^2 =>\n"
     ]
    },
    {
     "data": {
      "text/latex": [
       "$\\displaystyle \\frac{\\varepsilon u^{2} u_{1}}{2} + \\frac{u_{1} + u_{ttt}}{6}$"
      ],
      "text/plain": [
       "\\varepsilon*u**2*u1/2 + (u1 + u_{ttt})/6"
      ]
     },
     "metadata": {},
     "output_type": "display_data"
    },
    {
     "name": "stdout",
     "output_type": "stream",
     "text": [
      "h^3 =>\n"
     ]
    },
    {
     "data": {
      "text/latex": [
       "$\\displaystyle - \\frac{\\varepsilon^{2} u^{5}}{8} - \\frac{\\varepsilon u \\left(2 u^{2} - 3 u_{1}^{2}\\right)}{12} - \\frac{u - u_{tttt}}{24}$"
      ],
      "text/plain": [
       "-\\varepsilon**2*u**5/8 - \\varepsilon*u*(2*u**2 - 3*u1**2)/12 - (u - u_{tttt})/24"
      ]
     },
     "metadata": {},
     "output_type": "display_data"
    },
    {
     "name": "stdout",
     "output_type": "stream",
     "text": [
      "h^4 =>\n"
     ]
    },
    {
     "data": {
      "text/latex": [
       "$\\displaystyle - \\frac{\\varepsilon^{2} u^{4} u_{1}}{8} - \\frac{\\varepsilon u_{1} \\cdot \\left(3 u^{2} - u_{1}^{2}\\right)}{24} + \\frac{u_{ttttt}}{120}$"
      ],
      "text/plain": [
       "-\\varepsilon**2*u**4*u1/8 - \\varepsilon*u1*(3*u**2 - u1**2)/24 + u_{ttttt}/120"
      ]
     },
     "metadata": {},
     "output_type": "display_data"
    },
    {
     "name": "stdout",
     "output_type": "stream",
     "text": [
      "h^5 =>\n"
     ]
    },
    {
     "data": {
      "text/latex": [
       "$\\displaystyle \\frac{\\varepsilon^{3} u^{7}}{32} + \\frac{\\varepsilon^{2} u^{3} \\cdot \\left(2 u^{2} - u_{1}^{2}\\right)}{32} + \\frac{\\varepsilon u \\left(u - u_{1}\\right) \\left(u + u_{1}\\right)}{32} + \\frac{u_{tttttt}}{720}$"
      ],
      "text/plain": [
       "\\varepsilon**3*u**7/32 + \\varepsilon**2*u**3*(2*u**2 - u1**2)/32 + \\varepsilon*u*(u - u1)*(u + u1)/32 + u_{tttttt}/720"
      ]
     },
     "metadata": {},
     "output_type": "display_data"
    },
    {
     "name": "stdout",
     "output_type": "stream",
     "text": [
      "- u_{1} + u_{t}\n",
      "+h\\big(\n",
      "\\frac{\\varepsilon u^{3}}{2} + \\frac{u + u_{tt}}{2}\n",
      "\\big)\n",
      "+h^2\\big(\n",
      "\\frac{\\varepsilon u^{2} u_{1}}{2} + \\frac{u_{1} + u_{ttt}}{6}\n",
      "\\big)\n",
      "+h^3\\big(\n",
      "- \\frac{\\varepsilon^{2} u^{5}}{8} - \\frac{\\varepsilon u \\left(2 u^{2} - 3 u_{1}^{2}\\right)}{12} - \\frac{u - u_{tttt}}{24}\n",
      "\\big)\n",
      "+h^4\\big(\n",
      "- \\frac{\\varepsilon^{2} u^{4} u_{1}}{8} - \\frac{\\varepsilon u_{1} \\cdot \\left(3 u^{2} - u_{1}^{2}\\right)}{24} + \\frac{u_{ttttt}}{120}\n",
      "\\big)\n",
      "+h^5\\big(\n",
      "\\frac{\\varepsilon^{3} u^{7}}{32} + \\frac{\\varepsilon^{2} u^{3} \\cdot \\left(2 u^{2} - u_{1}^{2}\\right)}{32} + \\frac{\\varepsilon u \\left(u - u_{1}\\right) \\left(u + u_{1}\\right)}{32} + \\frac{u_{tttttt}}{720}\n",
      "\\big)\n"
     ]
    }
   ],
   "source": [
    "F1 = clip((T(u, 1)-T(u, 0))/h - T(r[0], 0))\n",
    "prn(F1, eps)\n",
    "prnlatex(F1, eps)"
   ]
  },
  {
   "cell_type": "code",
   "execution_count": 29,
   "id": "351e8633",
   "metadata": {
    "scrolled": true
   },
   "outputs": [
    {
     "name": "stdout",
     "output_type": "stream",
     "text": [
      "h^0 =>\n"
     ]
    },
    {
     "data": {
      "text/latex": [
       "$\\displaystyle \\varepsilon u^{3} + u + u1_{t}$"
      ],
      "text/plain": [
       "\\varepsilon*u**3 + u + u1_{t}"
      ]
     },
     "metadata": {},
     "output_type": "display_data"
    },
    {
     "name": "stdout",
     "output_type": "stream",
     "text": [
      "h^1 =>\n"
     ]
    },
    {
     "data": {
      "text/latex": [
       "$\\displaystyle \\frac{3 \\varepsilon u^{2} u_{1}}{2} + \\frac{u_{1} + u1_{tt}}{2}$"
      ],
      "text/plain": [
       "3*\\varepsilon*u**2*u1/2 + (u1 + u1_{tt})/2"
      ]
     },
     "metadata": {},
     "output_type": "display_data"
    },
    {
     "name": "stdout",
     "output_type": "stream",
     "text": [
      "h^2 =>\n"
     ]
    },
    {
     "data": {
      "text/latex": [
       "$\\displaystyle - \\frac{\\varepsilon^{2} u^{5}}{2} - \\frac{\\varepsilon u \\left(2 u^{2} - 3 u_{1}^{2}\\right)}{3} - \\frac{u - u1_{ttt}}{6}$"
      ],
      "text/plain": [
       "-\\varepsilon**2*u**5/2 - \\varepsilon*u*(2*u**2 - 3*u1**2)/3 - (u - u1_{ttt})/6"
      ]
     },
     "metadata": {},
     "output_type": "display_data"
    },
    {
     "name": "stdout",
     "output_type": "stream",
     "text": [
      "h^3 =>\n"
     ]
    },
    {
     "data": {
      "text/latex": [
       "$\\displaystyle - \\frac{9 \\varepsilon^{2} u^{4} u_{1}}{8} - \\frac{\\varepsilon u_{1} \\cdot \\left(2 u - u_{1}\\right) \\left(2 u + u_{1}\\right)}{4} - \\frac{u_{1} - u1_{tttt}}{24}$"
      ],
      "text/plain": [
       "-9*\\varepsilon**2*u**4*u1/8 - \\varepsilon*u1*(2*u - u1)*(2*u + u1)/4 - (u1 - u1_{tttt})/24"
      ]
     },
     "metadata": {},
     "output_type": "display_data"
    },
    {
     "name": "stdout",
     "output_type": "stream",
     "text": [
      "h^4 =>\n"
     ]
    },
    {
     "data": {
      "text/latex": [
       "$\\displaystyle \\frac{3 \\varepsilon^{3} u^{7}}{16} + \\frac{\\varepsilon^{2} u^{3} \\cdot \\left(3 u^{2} - 10 u_{1}^{2}\\right)}{8} + \\frac{\\varepsilon u \\left(3 u^{2} - 10 u_{1}^{2}\\right)}{16} + \\frac{u1_{ttttt}}{120}$"
      ],
      "text/plain": [
       "3*\\varepsilon**3*u**7/16 + \\varepsilon**2*u**3*(3*u**2 - 10*u1**2)/8 + \\varepsilon*u*(3*u**2 - 10*u1**2)/16 + u1_{ttttt}/120"
      ]
     },
     "metadata": {},
     "output_type": "display_data"
    },
    {
     "name": "stdout",
     "output_type": "stream",
     "text": [
      "h^5 =>\n"
     ]
    },
    {
     "data": {
      "text/latex": [
       "$\\displaystyle \\frac{17 \\varepsilon^{3} u^{6} u_{1}}{32} + \\frac{\\varepsilon^{2} u^{2} u_{1} \\cdot \\left(26 u^{2} - 25 u_{1}^{2}\\right)}{32} + \\frac{\\varepsilon u_{1} \\cdot \\left(27 u^{2} - 13 u_{1}^{2}\\right)}{96} + \\frac{u1_{tttttt}}{720}$"
      ],
      "text/plain": [
       "17*\\varepsilon**3*u**6*u1/32 + \\varepsilon**2*u**2*u1*(26*u**2 - 25*u1**2)/32 + \\varepsilon*u1*(27*u**2 - 13*u1**2)/96 + u1_{tttttt}/720"
      ]
     },
     "metadata": {},
     "output_type": "display_data"
    },
    {
     "name": "stdout",
     "output_type": "stream",
     "text": [
      "\\varepsilon u^{3} + u + u1_{t}\n",
      "+h\\big(\n",
      "\\frac{3 \\varepsilon u^{2} u_{1}}{2} + \\frac{u_{1} + u1_{tt}}{2}\n",
      "\\big)\n",
      "+h^2\\big(\n",
      "- \\frac{\\varepsilon^{2} u^{5}}{2} - \\frac{\\varepsilon u \\left(2 u^{2} - 3 u_{1}^{2}\\right)}{3} - \\frac{u - u1_{ttt}}{6}\n",
      "\\big)\n",
      "+h^3\\big(\n",
      "- \\frac{9 \\varepsilon^{2} u^{4} u_{1}}{8} - \\frac{\\varepsilon u_{1} \\cdot \\left(2 u - u_{1}\\right) \\left(2 u + u_{1}\\right)}{4} - \\frac{u_{1} - u1_{tttt}}{24}\n",
      "\\big)\n",
      "+h^4\\big(\n",
      "\\frac{3 \\varepsilon^{3} u^{7}}{16} + \\frac{\\varepsilon^{2} u^{3} \\cdot \\left(3 u^{2} - 10 u_{1}^{2}\\right)}{8} + \\frac{\\varepsilon u \\left(3 u^{2} - 10 u_{1}^{2}\\right)}{16} + \\frac{u1_{ttttt}}{120}\n",
      "\\big)\n",
      "+h^5\\big(\n",
      "\\frac{17 \\varepsilon^{3} u^{6} u_{1}}{32} + \\frac{\\varepsilon^{2} u^{2} u_{1} \\cdot \\left(26 u^{2} - 25 u_{1}^{2}\\right)}{32} + \\frac{\\varepsilon u_{1} \\cdot \\left(27 u^{2} - 13 u_{1}^{2}\\right)}{96} + \\frac{u1_{tttttt}}{720}\n",
      "\\big)\n"
     ]
    }
   ],
   "source": [
    "F2 = clip((T(u1, 1)-T(u1, 0))/h - T(r[1], 0))\n",
    "prn(F2, eps)\n",
    "prnlatex(F2, eps)"
   ]
  },
  {
   "cell_type": "code",
   "execution_count": 30,
   "id": "43dd861e",
   "metadata": {
    "scrolled": true
   },
   "outputs": [
    {
     "name": "stdout",
     "output_type": "stream",
     "text": [
      "h^0 =>\n"
     ]
    },
    {
     "data": {
      "text/latex": [
       "$\\displaystyle - u_{1} + u_{t}$"
      ],
      "text/plain": [
       "-u1 + u_{t}"
      ]
     },
     "metadata": {},
     "output_type": "display_data"
    },
    {
     "name": "stdout",
     "output_type": "stream",
     "text": [
      "h^1 =>\n"
     ]
    },
    {
     "data": {
      "text/latex": [
       "$\\displaystyle 0$"
      ],
      "text/plain": [
       "0"
      ]
     },
     "metadata": {},
     "output_type": "display_data"
    },
    {
     "name": "stdout",
     "output_type": "stream",
     "text": [
      "h^2 =>\n"
     ]
    },
    {
     "data": {
      "text/latex": [
       "$\\displaystyle 0$"
      ],
      "text/plain": [
       "0"
      ]
     },
     "metadata": {},
     "output_type": "display_data"
    },
    {
     "name": "stdout",
     "output_type": "stream",
     "text": [
      "h^3 =>\n"
     ]
    },
    {
     "data": {
      "text/latex": [
       "$\\displaystyle 0$"
      ],
      "text/plain": [
       "0"
      ]
     },
     "metadata": {},
     "output_type": "display_data"
    },
    {
     "name": "stdout",
     "output_type": "stream",
     "text": [
      "h^4 =>\n"
     ]
    },
    {
     "data": {
      "text/latex": [
       "$\\displaystyle \\frac{\\varepsilon^{2} u^{4} u_{1}}{10} + \\frac{\\varepsilon u_{1} \\cdot \\left(3 u - u_{1}\\right) \\left(3 u + u_{1}\\right)}{120} + \\frac{u_{1}}{120}$"
      ],
      "text/plain": [
       "\\varepsilon**2*u**4*u1/10 + \\varepsilon*u1*(3*u - u1)*(3*u + u1)/120 + u1/120"
      ]
     },
     "metadata": {},
     "output_type": "display_data"
    },
    {
     "name": "stdout",
     "output_type": "stream",
     "text": [
      "h^5 =>\n"
     ]
    },
    {
     "data": {
      "text/latex": [
       "$\\displaystyle \\frac{\\varepsilon^{3} u^{7}}{16} + \\frac{\\varepsilon^{2} u^{3} \\cdot \\left(10 u^{2} + 3 u_{1}^{2}\\right)}{96} + \\frac{\\varepsilon u \\left(14 u^{2} + 3 u_{1}^{2}\\right)}{288} + \\frac{u}{144}$"
      ],
      "text/plain": [
       "\\varepsilon**3*u**7/16 + \\varepsilon**2*u**3*(10*u**2 + 3*u1**2)/96 + \\varepsilon*u*(14*u**2 + 3*u1**2)/288 + u/144"
      ]
     },
     "metadata": {},
     "output_type": "display_data"
    },
    {
     "name": "stdout",
     "output_type": "stream",
     "text": [
      "- u_{1} + u_{t}\n",
      "+h\\big(\n",
      "0\n",
      "\\big)\n",
      "+h^2\\big(\n",
      "0\n",
      "\\big)\n",
      "+h^3\\big(\n",
      "0\n",
      "\\big)\n",
      "+h^4\\big(\n",
      "\\frac{\\varepsilon^{2} u^{4} u_{1}}{10} + \\frac{\\varepsilon u_{1} \\cdot \\left(3 u - u_{1}\\right) \\left(3 u + u_{1}\\right)}{120} + \\frac{u_{1}}{120}\n",
      "\\big)\n",
      "+h^5\\big(\n",
      "\\frac{\\varepsilon^{3} u^{7}}{16} + \\frac{\\varepsilon^{2} u^{3} \\cdot \\left(10 u^{2} + 3 u_{1}^{2}\\right)}{96} + \\frac{\\varepsilon u \\left(14 u^{2} + 3 u_{1}^{2}\\right)}{288} + \\frac{u}{144}\n",
      "\\big)\n"
     ]
    }
   ],
   "source": [
    "f1 = NF(F1, [u.diff(t), u1.diff(t)], [F1, F2], head=False)\n",
    "prn(f1, eps)\n",
    "prnlatex(f1, eps)"
   ]
  },
  {
   "cell_type": "code",
   "execution_count": 31,
   "id": "14feb0f5",
   "metadata": {
    "scrolled": true
   },
   "outputs": [
    {
     "name": "stdout",
     "output_type": "stream",
     "text": [
      "h^0 =>\n"
     ]
    },
    {
     "data": {
      "text/latex": [
       "$\\displaystyle \\varepsilon u^{3} + u + u1_{t}$"
      ],
      "text/plain": [
       "\\varepsilon*u**3 + u + u1_{t}"
      ]
     },
     "metadata": {},
     "output_type": "display_data"
    },
    {
     "name": "stdout",
     "output_type": "stream",
     "text": [
      "h^1 =>\n"
     ]
    },
    {
     "data": {
      "text/latex": [
       "$\\displaystyle 0$"
      ],
      "text/plain": [
       "0"
      ]
     },
     "metadata": {},
     "output_type": "display_data"
    },
    {
     "name": "stdout",
     "output_type": "stream",
     "text": [
      "h^2 =>\n"
     ]
    },
    {
     "data": {
      "text/latex": [
       "$\\displaystyle 0$"
      ],
      "text/plain": [
       "0"
      ]
     },
     "metadata": {},
     "output_type": "display_data"
    },
    {
     "name": "stdout",
     "output_type": "stream",
     "text": [
      "h^3 =>\n"
     ]
    },
    {
     "data": {
      "text/latex": [
       "$\\displaystyle 0$"
      ],
      "text/plain": [
       "0"
      ]
     },
     "metadata": {},
     "output_type": "display_data"
    },
    {
     "name": "stdout",
     "output_type": "stream",
     "text": [
      "h^4 =>\n"
     ]
    },
    {
     "data": {
      "text/latex": [
       "$\\displaystyle - \\frac{3 \\varepsilon^{3} u^{7}}{80} - \\frac{\\varepsilon^{2} u^{3} \\left(u^{2} + 4 u_{1}^{2}\\right)}{20} - \\frac{\\varepsilon u \\left(5 u^{2} + 18 u_{1}^{2}\\right)}{240} - \\frac{u}{120}$"
      ],
      "text/plain": [
       "-3*\\varepsilon**3*u**7/80 - \\varepsilon**2*u**3*(u**2 + 4*u1**2)/20 - \\varepsilon*u*(5*u**2 + 18*u1**2)/240 - u/120"
      ]
     },
     "metadata": {},
     "output_type": "display_data"
    },
    {
     "name": "stdout",
     "output_type": "stream",
     "text": [
      "h^5 =>\n"
     ]
    },
    {
     "data": {
      "text/latex": [
       "$\\displaystyle - \\frac{\\varepsilon^{2} u^{2} u_{1} \\cdot \\left(2 u^{2} - u_{1}^{2}\\right)}{32} - \\frac{\\varepsilon u_{1}^{3}}{96} + \\frac{u_{1}}{144}$"
      ],
      "text/plain": [
       "-\\varepsilon**2*u**2*u1*(2*u**2 - u1**2)/32 - \\varepsilon*u1**3/96 + u1/144"
      ]
     },
     "metadata": {},
     "output_type": "display_data"
    },
    {
     "name": "stdout",
     "output_type": "stream",
     "text": [
      "\\varepsilon u^{3} + u + u1_{t}\n",
      "+h\\big(\n",
      "0\n",
      "\\big)\n",
      "+h^2\\big(\n",
      "0\n",
      "\\big)\n",
      "+h^3\\big(\n",
      "0\n",
      "\\big)\n",
      "+h^4\\big(\n",
      "- \\frac{3 \\varepsilon^{3} u^{7}}{80} - \\frac{\\varepsilon^{2} u^{3} \\left(u^{2} + 4 u_{1}^{2}\\right)}{20} - \\frac{\\varepsilon u \\left(5 u^{2} + 18 u_{1}^{2}\\right)}{240} - \\frac{u}{120}\n",
      "\\big)\n",
      "+h^5\\big(\n",
      "- \\frac{\\varepsilon^{2} u^{2} u_{1} \\cdot \\left(2 u^{2} - u_{1}^{2}\\right)}{32} - \\frac{\\varepsilon u_{1}^{3}}{96} + \\frac{u_{1}}{144}\n",
      "\\big)\n"
     ]
    }
   ],
   "source": [
    "f2 = NF(F2, [u.diff(t), u1.diff(t)], [F1, F2], head=False)\n",
    "prn(f2, eps)\n",
    "prnlatex(f2, eps)"
   ]
  },
  {
   "cell_type": "code",
   "execution_count": 32,
   "id": "f7f62b97",
   "metadata": {
    "scrolled": true
   },
   "outputs": [
    {
     "name": "stdout",
     "output_type": "stream",
     "text": [
      "h^0 =>\n"
     ]
    },
    {
     "data": {
      "text/latex": [
       "$\\displaystyle 0$"
      ],
      "text/plain": [
       "0"
      ]
     },
     "metadata": {},
     "output_type": "display_data"
    },
    {
     "name": "stdout",
     "output_type": "stream",
     "text": [
      "h^1 =>\n"
     ]
    },
    {
     "data": {
      "text/latex": [
       "$\\displaystyle \\varepsilon u^{3} u_{t} + u u_{t} + u_{1} u1_{t}$"
      ],
      "text/plain": [
       "\\varepsilon*u**3*u_{t} + u*u_{t} + u1*u1_{t}"
      ]
     },
     "metadata": {},
     "output_type": "display_data"
    },
    {
     "name": "stdout",
     "output_type": "stream",
     "text": [
      "h^2 =>\n"
     ]
    },
    {
     "data": {
      "text/latex": [
       "$\\displaystyle \\frac{\\varepsilon u^{2} \\left(u u_{tt} + 3 u_{t}^{2}\\right)}{2} + \\frac{u u_{tt} + u_{1} u1_{tt} + u1_{t}^{2} + u_{t}^{2}}{2}$"
      ],
      "text/plain": [
       "\\varepsilon*u**2*(u*u_{tt} + 3*u_{t}**2)/2 + (u*u_{tt} + u1*u1_{tt} + u1_{t}**2 + u_{t}**2)/2"
      ]
     },
     "metadata": {},
     "output_type": "display_data"
    },
    {
     "name": "stdout",
     "output_type": "stream",
     "text": [
      "h^3 =>\n"
     ]
    },
    {
     "data": {
      "text/latex": [
       "$\\displaystyle \\frac{\\varepsilon u \\left(u^{2} u_{ttt} + 9 u u_{tt} u_{t} + 6 u_{t}^{3}\\right)}{6} + \\frac{u u_{ttt} + u_{1} u1_{ttt} + 3 u1_{tt} u1_{t} + 3 u_{tt} u_{t}}{6}$"
      ],
      "text/plain": [
       "\\varepsilon*u*(u**2*u_{ttt} + 9*u*u_{tt}*u_{t} + 6*u_{t}**3)/6 + (u*u_{ttt} + u1*u1_{ttt} + 3*u1_{tt}*u1_{t} + 3*u_{tt}*u_{t})/6"
      ]
     },
     "metadata": {},
     "output_type": "display_data"
    },
    {
     "name": "stdout",
     "output_type": "stream",
     "text": [
      "h^4 =>\n"
     ]
    },
    {
     "data": {
      "text/latex": [
       "$\\displaystyle \\frac{\\varepsilon \\left(u^{3} u_{tttt} + 12 u^{2} u_{ttt} u_{t} + 9 u^{2} u_{tt}^{2} + 36 u u_{tt} u_{t}^{2} + 6 u_{t}^{4}\\right)}{24} + \\frac{u u_{tttt} + u_{1} u1_{tttt} + 4 u1_{ttt} u1_{t} + 3 u1_{tt}^{2} + 4 u_{ttt} u_{t} + 3 u_{tt}^{2}}{24}$"
      ],
      "text/plain": [
       "\\varepsilon*(u**3*u_{tttt} + 12*u**2*u_{ttt}*u_{t} + 9*u**2*u_{tt}**2 + 36*u*u_{tt}*u_{t}**2 + 6*u_{t}**4)/24 + (u*u_{tttt} + u1*u1_{tttt} + 4*u1_{ttt}*u1_{t} + 3*u1_{tt}**2 + 4*u_{ttt}*u_{t} + 3*u_{tt}**2)/24"
      ]
     },
     "metadata": {},
     "output_type": "display_data"
    },
    {
     "name": "stdout",
     "output_type": "stream",
     "text": [
      "h^5 =>\n"
     ]
    },
    {
     "data": {
      "text/latex": [
       "$\\displaystyle \\frac{\\varepsilon \\left(u^{3} u_{ttttt} + 15 u^{2} u_{tttt} u_{t} + 30 u^{2} u_{ttt} u_{tt} + 60 u u_{ttt} u_{t}^{2} + 90 u u_{tt}^{2} u_{t} + 60 u_{tt} u_{t}^{3}\\right)}{120} + \\frac{u u_{ttttt} + u_{1} u1_{ttttt} + 5 u1_{tttt} u1_{t} + 10 u1_{ttt} u1_{tt} + 5 u_{tttt} u_{t} + 10 u_{ttt} u_{tt}}{120}$"
      ],
      "text/plain": [
       "\\varepsilon*(u**3*u_{ttttt} + 15*u**2*u_{tttt}*u_{t} + 30*u**2*u_{ttt}*u_{tt} + 60*u*u_{ttt}*u_{t}**2 + 90*u*u_{tt}**2*u_{t} + 60*u_{tt}*u_{t}**3)/120 + (u*u_{ttttt} + u1*u1_{ttttt} + 5*u1_{tttt}*u1_{t} + 10*u1_{ttt}*u1_{tt} + 5*u_{tttt}*u_{t} + 10*u_{ttt}*u_{tt})/120"
      ]
     },
     "metadata": {},
     "output_type": "display_data"
    },
    {
     "name": "stdout",
     "output_type": "stream",
     "text": [
      "0\n",
      "+h\\big(\n",
      "\\varepsilon u^{3} u_{t} + u u_{t} + u_{1} u1_{t}\n",
      "\\big)\n",
      "+h^2\\big(\n",
      "\\frac{\\varepsilon u^{2} \\left(u u_{tt} + 3 u_{t}^{2}\\right)}{2} + \\frac{u u_{tt} + u_{1} u1_{tt} + u1_{t}^{2} + u_{t}^{2}}{2}\n",
      "\\big)\n",
      "+h^3\\big(\n",
      "\\frac{\\varepsilon u \\left(u^{2} u_{ttt} + 9 u u_{tt} u_{t} + 6 u_{t}^{3}\\right)}{6} + \\frac{u u_{ttt} + u_{1} u1_{ttt} + 3 u1_{tt} u1_{t} + 3 u_{tt} u_{t}}{6}\n",
      "\\big)\n",
      "+h^4\\big(\n",
      "\\frac{\\varepsilon \\left(u^{3} u_{tttt} + 12 u^{2} u_{ttt} u_{t} + 9 u^{2} u_{tt}^{2} + 36 u u_{tt} u_{t}^{2} + 6 u_{t}^{4}\\right)}{24} + \\frac{u u_{tttt} + u_{1} u1_{tttt} + 4 u1_{ttt} u1_{t} + 3 u1_{tt}^{2} + 4 u_{ttt} u_{t} + 3 u_{tt}^{2}}{24}\n",
      "\\big)\n",
      "+h^5\\big(\n",
      "\\frac{\\varepsilon \\left(u^{3} u_{ttttt} + 15 u^{2} u_{tttt} u_{t} + 30 u^{2} u_{ttt} u_{tt} + 60 u u_{ttt} u_{t}^{2} + 90 u u_{tt}^{2} u_{t} + 60 u_{tt} u_{t}^{3}\\right)}{120} + \\frac{u u_{ttttt} + u_{1} u1_{ttttt} + 5 u1_{tttt} u1_{t} + 10 u1_{ttt} u1_{tt} + 5 u_{tttt} u_{t} + 10 u_{ttt} u_{tt}}{120}\n",
      "\\big)\n"
     ]
    }
   ],
   "source": [
    "F3 = clip((T(u1, 1)**2/2 + T(u, 1)**2/2 + eps*T(u, 1)**4/4) -\\\n",
    "          (T(u1, 0)**2/2 + T(u, 0)**2/2 + eps*T(u, 0)**4/4))\n",
    "prn(F3, eps)\n",
    "prnlatex(F3, eps)"
   ]
  },
  {
   "cell_type": "code",
   "execution_count": 33,
   "id": "ef501bab",
   "metadata": {
    "scrolled": true
   },
   "outputs": [
    {
     "name": "stdout",
     "output_type": "stream",
     "text": [
      "h^0 =>\n"
     ]
    },
    {
     "data": {
      "text/latex": [
       "$\\displaystyle 0$"
      ],
      "text/plain": [
       "0"
      ]
     },
     "metadata": {},
     "output_type": "display_data"
    },
    {
     "name": "stdout",
     "output_type": "stream",
     "text": [
      "h^1 =>\n"
     ]
    },
    {
     "data": {
      "text/latex": [
       "$\\displaystyle 0$"
      ],
      "text/plain": [
       "0"
      ]
     },
     "metadata": {},
     "output_type": "display_data"
    },
    {
     "name": "stdout",
     "output_type": "stream",
     "text": [
      "h^2 =>\n"
     ]
    },
    {
     "data": {
      "text/latex": [
       "$\\displaystyle 0$"
      ],
      "text/plain": [
       "0"
      ]
     },
     "metadata": {},
     "output_type": "display_data"
    },
    {
     "name": "stdout",
     "output_type": "stream",
     "text": [
      "h^3 =>\n"
     ]
    },
    {
     "data": {
      "text/latex": [
       "$\\displaystyle 0$"
      ],
      "text/plain": [
       "0"
      ]
     },
     "metadata": {},
     "output_type": "display_data"
    },
    {
     "name": "stdout",
     "output_type": "stream",
     "text": [
      "h^4 =>\n"
     ]
    },
    {
     "data": {
      "text/latex": [
       "$\\displaystyle 0$"
      ],
      "text/plain": [
       "0"
      ]
     },
     "metadata": {},
     "output_type": "display_data"
    },
    {
     "name": "stdout",
     "output_type": "stream",
     "text": [
      "h^5 =>\n"
     ]
    },
    {
     "data": {
      "text/latex": [
       "$\\displaystyle - \\frac{\\varepsilon^{3} u^{7} u_{1}}{16} - \\frac{\\varepsilon^{2} u^{3} u_{1} \\cdot \\left(3 u^{2} - 5 u_{1}^{2}\\right)}{24} - \\frac{\\varepsilon u u_{1} \\cdot \\left(3 u^{2} - 4 u_{1}^{2}\\right)}{48}$"
      ],
      "text/plain": [
       "-\\varepsilon**3*u**7*u1/16 - \\varepsilon**2*u**3*u1*(3*u**2 - 5*u1**2)/24 - \\varepsilon*u*u1*(3*u**2 - 4*u1**2)/48"
      ]
     },
     "metadata": {},
     "output_type": "display_data"
    },
    {
     "name": "stdout",
     "output_type": "stream",
     "text": [
      "0\n",
      "+h\\big(\n",
      "0\n",
      "\\big)\n",
      "+h^2\\big(\n",
      "0\n",
      "\\big)\n",
      "+h^3\\big(\n",
      "0\n",
      "\\big)\n",
      "+h^4\\big(\n",
      "0\n",
      "\\big)\n",
      "+h^5\\big(\n",
      "- \\frac{\\varepsilon^{3} u^{7} u_{1}}{16} - \\frac{\\varepsilon^{2} u^{3} u_{1} \\cdot \\left(3 u^{2} - 5 u_{1}^{2}\\right)}{24} - \\frac{\\varepsilon u u_{1} \\cdot \\left(3 u^{2} - 4 u_{1}^{2}\\right)}{48}\n",
      "\\big)\n"
     ]
    }
   ],
   "source": [
    "f3 = NF(F3, [u.diff(t), u1.diff(t)], [f1, f2], head=False)\n",
    "prn(f3, eps)\n",
    "prnlatex(f3, eps)"
   ]
  },
  {
   "cell_type": "markdown",
   "id": "ebb63d8d",
   "metadata": {},
   "source": [
    "## Dormand–Prince method 5 order"
   ]
  },
  {
   "cell_type": "code",
   "execution_count": 34,
   "id": "c9008e28",
   "metadata": {
    "scrolled": true
   },
   "outputs": [],
   "source": [
    "set_clip(8, 7, Rational(0, 1))\n",
    "r = DormandPrince5(f, Matrix([u, u1]))"
   ]
  },
  {
   "cell_type": "code",
   "execution_count": 35,
   "id": "f3a0f3fa",
   "metadata": {
    "scrolled": true
   },
   "outputs": [
    {
     "name": "stdout",
     "output_type": "stream",
     "text": [
      "h^0 =>\n"
     ]
    },
    {
     "data": {
      "text/latex": [
       "$\\displaystyle - u_{1} + u_{t}$"
      ],
      "text/plain": [
       "-u1 + u_{t}"
      ]
     },
     "metadata": {},
     "output_type": "display_data"
    },
    {
     "name": "stdout",
     "output_type": "stream",
     "text": [
      "h^1 =>\n"
     ]
    },
    {
     "data": {
      "text/latex": [
       "$\\displaystyle \\frac{\\varepsilon u^{3}}{2} + \\frac{u + u_{tt}}{2}$"
      ],
      "text/plain": [
       "\\varepsilon*u**3/2 + (u + u_{tt})/2"
      ]
     },
     "metadata": {},
     "output_type": "display_data"
    },
    {
     "name": "stdout",
     "output_type": "stream",
     "text": [
      "h^2 =>\n"
     ]
    },
    {
     "data": {
      "text/latex": [
       "$\\displaystyle \\frac{\\varepsilon u^{2} u_{1}}{2} + \\frac{u_{1} + u_{ttt}}{6}$"
      ],
      "text/plain": [
       "\\varepsilon*u**2*u1/2 + (u1 + u_{ttt})/6"
      ]
     },
     "metadata": {},
     "output_type": "display_data"
    },
    {
     "name": "stdout",
     "output_type": "stream",
     "text": [
      "h^3 =>\n"
     ]
    },
    {
     "data": {
      "text/latex": [
       "$\\displaystyle - \\frac{\\varepsilon^{2} u^{5}}{8} - \\frac{\\varepsilon u \\left(2 u^{2} - 3 u_{1}^{2}\\right)}{12} - \\frac{u - u_{tttt}}{24}$"
      ],
      "text/plain": [
       "-\\varepsilon**2*u**5/8 - \\varepsilon*u*(2*u**2 - 3*u1**2)/12 - (u - u_{tttt})/24"
      ]
     },
     "metadata": {},
     "output_type": "display_data"
    },
    {
     "name": "stdout",
     "output_type": "stream",
     "text": [
      "h^4 =>\n"
     ]
    },
    {
     "data": {
      "text/latex": [
       "$\\displaystyle - \\frac{9 \\varepsilon^{2} u^{4} u_{1}}{40} - \\frac{\\varepsilon u_{1} \\cdot \\left(2 u - u_{1}\\right) \\left(2 u + u_{1}\\right)}{20} - \\frac{u_{1} - u_{ttttt}}{120}$"
      ],
      "text/plain": [
       "-9*\\varepsilon**2*u**4*u1/40 - \\varepsilon*u1*(2*u - u1)*(2*u + u1)/20 - (u1 - u_{ttttt})/120"
      ]
     },
     "metadata": {},
     "output_type": "display_data"
    },
    {
     "name": "stdout",
     "output_type": "stream",
     "text": [
      "h^5 =>\n"
     ]
    },
    {
     "data": {
      "text/latex": [
       "$\\displaystyle \\frac{289 \\varepsilon^{3} u^{7}}{7200} + \\frac{\\varepsilon^{2} u^{3} \\cdot \\left(271 u^{2} - 631 u_{1}^{2}\\right)}{3600} + \\frac{\\varepsilon u \\left(265 u^{2} - 662 u_{1}^{2}\\right)}{7200} + \\frac{6 u + 5 u_{tttttt}}{3600}$"
      ],
      "text/plain": [
       "289*\\varepsilon**3*u**7/7200 + \\varepsilon**2*u**3*(271*u**2 - 631*u1**2)/3600 + \\varepsilon*u*(265*u**2 - 662*u1**2)/7200 + (6*u + 5*u_{tttttt})/3600"
      ]
     },
     "metadata": {},
     "output_type": "display_data"
    },
    {
     "name": "stdout",
     "output_type": "stream",
     "text": [
      "h^6 =>\n"
     ]
    },
    {
     "data": {
      "text/latex": [
       "$\\displaystyle \\frac{54719 \\varepsilon^{3} u^{6} u_{1}}{648000} + \\frac{\\varepsilon^{2} u^{2} u_{1} \\cdot \\left(40295 u^{2} - 23184 u_{1}^{2}\\right)}{324000} + \\frac{\\varepsilon u_{1} \\cdot \\left(25871 u^{2} - 7296 u_{1}^{2}\\right)}{648000} + \\frac{u_{ttttttt}}{5040}$"
      ],
      "text/plain": [
       "54719*\\varepsilon**3*u**6*u1/648000 + \\varepsilon**2*u**2*u1*(40295*u**2 - 23184*u1**2)/324000 + \\varepsilon*u1*(25871*u**2 - 7296*u1**2)/648000 + u_{ttttttt}/5040"
      ]
     },
     "metadata": {},
     "output_type": "display_data"
    },
    {
     "name": "stdout",
     "output_type": "stream",
     "text": [
      "- u_{1} + u_{t}\n",
      "+h\\big(\n",
      "\\frac{\\varepsilon u^{3}}{2} + \\frac{u + u_{tt}}{2}\n",
      "\\big)\n",
      "+h^2\\big(\n",
      "\\frac{\\varepsilon u^{2} u_{1}}{2} + \\frac{u_{1} + u_{ttt}}{6}\n",
      "\\big)\n",
      "+h^3\\big(\n",
      "- \\frac{\\varepsilon^{2} u^{5}}{8} - \\frac{\\varepsilon u \\left(2 u^{2} - 3 u_{1}^{2}\\right)}{12} - \\frac{u - u_{tttt}}{24}\n",
      "\\big)\n",
      "+h^4\\big(\n",
      "- \\frac{9 \\varepsilon^{2} u^{4} u_{1}}{40} - \\frac{\\varepsilon u_{1} \\cdot \\left(2 u - u_{1}\\right) \\left(2 u + u_{1}\\right)}{20} - \\frac{u_{1} - u_{ttttt}}{120}\n",
      "\\big)\n",
      "+h^5\\big(\n",
      "\\frac{289 \\varepsilon^{3} u^{7}}{7200} + \\frac{\\varepsilon^{2} u^{3} \\cdot \\left(271 u^{2} - 631 u_{1}^{2}\\right)}{3600} + \\frac{\\varepsilon u \\left(265 u^{2} - 662 u_{1}^{2}\\right)}{7200} + \\frac{6 u + 5 u_{tttttt}}{3600}\n",
      "\\big)\n",
      "+h^6\\big(\n",
      "\\frac{54719 \\varepsilon^{3} u^{6} u_{1}}{648000} + \\frac{\\varepsilon^{2} u^{2} u_{1} \\cdot \\left(40295 u^{2} - 23184 u_{1}^{2}\\right)}{324000} + \\frac{\\varepsilon u_{1} \\cdot \\left(25871 u^{2} - 7296 u_{1}^{2}\\right)}{648000} + \\frac{u_{ttttttt}}{5040}\n",
      "\\big)\n"
     ]
    }
   ],
   "source": [
    "F1 = clip((T(u, 1)-T(u, 0))/h - T(r[0], 0))\n",
    "prn(F1, eps)\n",
    "prnlatex(F1, eps)"
   ]
  },
  {
   "cell_type": "code",
   "execution_count": 36,
   "id": "21def6d5",
   "metadata": {
    "scrolled": true
   },
   "outputs": [
    {
     "name": "stdout",
     "output_type": "stream",
     "text": [
      "h^0 =>\n"
     ]
    },
    {
     "data": {
      "text/latex": [
       "$\\displaystyle \\varepsilon u^{3} + u + u1_{t}$"
      ],
      "text/plain": [
       "\\varepsilon*u**3 + u + u1_{t}"
      ]
     },
     "metadata": {},
     "output_type": "display_data"
    },
    {
     "name": "stdout",
     "output_type": "stream",
     "text": [
      "h^1 =>\n"
     ]
    },
    {
     "data": {
      "text/latex": [
       "$\\displaystyle \\frac{3 \\varepsilon u^{2} u_{1}}{2} + \\frac{u_{1} + u1_{tt}}{2}$"
      ],
      "text/plain": [
       "3*\\varepsilon*u**2*u1/2 + (u1 + u1_{tt})/2"
      ]
     },
     "metadata": {},
     "output_type": "display_data"
    },
    {
     "name": "stdout",
     "output_type": "stream",
     "text": [
      "h^2 =>\n"
     ]
    },
    {
     "data": {
      "text/latex": [
       "$\\displaystyle - \\frac{\\varepsilon^{2} u^{5}}{2} - \\frac{\\varepsilon u \\left(2 u^{2} - 3 u_{1}^{2}\\right)}{3} - \\frac{u - u1_{ttt}}{6}$"
      ],
      "text/plain": [
       "-\\varepsilon**2*u**5/2 - \\varepsilon*u*(2*u**2 - 3*u1**2)/3 - (u - u1_{ttt})/6"
      ]
     },
     "metadata": {},
     "output_type": "display_data"
    },
    {
     "name": "stdout",
     "output_type": "stream",
     "text": [
      "h^3 =>\n"
     ]
    },
    {
     "data": {
      "text/latex": [
       "$\\displaystyle - \\frac{9 \\varepsilon^{2} u^{4} u_{1}}{8} - \\frac{\\varepsilon u_{1} \\cdot \\left(2 u - u_{1}\\right) \\left(2 u + u_{1}\\right)}{4} - \\frac{u_{1} - u1_{tttt}}{24}$"
      ],
      "text/plain": [
       "-9*\\varepsilon**2*u**4*u1/8 - \\varepsilon*u1*(2*u - u1)*(2*u + u1)/4 - (u1 - u1_{tttt})/24"
      ]
     },
     "metadata": {},
     "output_type": "display_data"
    },
    {
     "name": "stdout",
     "output_type": "stream",
     "text": [
      "h^4 =>\n"
     ]
    },
    {
     "data": {
      "text/latex": [
       "$\\displaystyle \\frac{9 \\varepsilon^{3} u^{7}}{40} + \\frac{\\varepsilon^{2} u^{3} \\cdot \\left(17 u^{2} - 42 u_{1}^{2}\\right)}{40} + \\frac{\\varepsilon u \\left(25 u^{2} - 66 u_{1}^{2}\\right)}{120} + \\frac{u + u1_{ttttt}}{120}$"
      ],
      "text/plain": [
       "9*\\varepsilon**3*u**7/40 + \\varepsilon**2*u**3*(17*u**2 - 42*u1**2)/40 + \\varepsilon*u*(25*u**2 - 66*u1**2)/120 + (u + u1_{ttttt})/120"
      ]
     },
     "metadata": {},
     "output_type": "display_data"
    },
    {
     "name": "stdout",
     "output_type": "stream",
     "text": [
      "h^5 =>\n"
     ]
    },
    {
     "data": {
      "text/latex": [
       "$\\displaystyle \\frac{4427 \\varepsilon^{3} u^{6} u_{1}}{7200} + \\frac{\\varepsilon^{2} u^{2} u_{1} \\cdot \\left(3197 u^{2} - 1890 u_{1}^{2}\\right)}{3600} + \\frac{\\varepsilon u_{1} \\cdot \\left(415 u^{2} - 132 u_{1}^{2}\\right)}{1440} + \\frac{6 u_{1} + 5 u1_{tttttt}}{3600}$"
      ],
      "text/plain": [
       "4427*\\varepsilon**3*u**6*u1/7200 + \\varepsilon**2*u**2*u1*(3197*u**2 - 1890*u1**2)/3600 + \\varepsilon*u1*(415*u**2 - 132*u1**2)/1440 + (6*u1 + 5*u1_{tttttt})/3600"
      ]
     },
     "metadata": {},
     "output_type": "display_data"
    },
    {
     "name": "stdout",
     "output_type": "stream",
     "text": [
      "h^6 =>\n"
     ]
    },
    {
     "data": {
      "text/latex": [
       "$\\displaystyle - \\frac{296101 \\varepsilon^{4} u^{9}}{3888000} - \\frac{\\varepsilon^{3} u^{5} \\cdot \\left(2703107 u^{2} - 8601660 u_{1}^{2}\\right)}{14256000} - \\frac{\\varepsilon^{2} u \\left(2149103 u^{4} - 9610752 u^{2} u_{1}^{2} + 2149488 u_{1}^{4}\\right)}{14256000} - \\frac{\\varepsilon u \\left(1595099 u^{2} - 4480524 u_{1}^{2}\\right)}{42768000} + \\frac{u1_{ttttttt}}{5040}$"
      ],
      "text/plain": [
       "-296101*\\varepsilon**4*u**9/3888000 - \\varepsilon**3*u**5*(2703107*u**2 - 8601660*u1**2)/14256000 - \\varepsilon**2*u*(2149103*u**4 - 9610752*u**2*u1**2 + 2149488*u1**4)/14256000 - \\varepsilon*u*(1595099*u**2 - 4480524*u1**2)/42768000 + u1_{ttttttt}/5040"
      ]
     },
     "metadata": {},
     "output_type": "display_data"
    },
    {
     "name": "stdout",
     "output_type": "stream",
     "text": [
      "\\varepsilon u^{3} + u + u1_{t}\n",
      "+h\\big(\n",
      "\\frac{3 \\varepsilon u^{2} u_{1}}{2} + \\frac{u_{1} + u1_{tt}}{2}\n",
      "\\big)\n",
      "+h^2\\big(\n",
      "- \\frac{\\varepsilon^{2} u^{5}}{2} - \\frac{\\varepsilon u \\left(2 u^{2} - 3 u_{1}^{2}\\right)}{3} - \\frac{u - u1_{ttt}}{6}\n",
      "\\big)\n",
      "+h^3\\big(\n",
      "- \\frac{9 \\varepsilon^{2} u^{4} u_{1}}{8} - \\frac{\\varepsilon u_{1} \\cdot \\left(2 u - u_{1}\\right) \\left(2 u + u_{1}\\right)}{4} - \\frac{u_{1} - u1_{tttt}}{24}\n",
      "\\big)\n",
      "+h^4\\big(\n",
      "\\frac{9 \\varepsilon^{3} u^{7}}{40} + \\frac{\\varepsilon^{2} u^{3} \\cdot \\left(17 u^{2} - 42 u_{1}^{2}\\right)}{40} + \\frac{\\varepsilon u \\left(25 u^{2} - 66 u_{1}^{2}\\right)}{120} + \\frac{u + u1_{ttttt}}{120}\n",
      "\\big)\n",
      "+h^5\\big(\n",
      "\\frac{4427 \\varepsilon^{3} u^{6} u_{1}}{7200} + \\frac{\\varepsilon^{2} u^{2} u_{1} \\cdot \\left(3197 u^{2} - 1890 u_{1}^{2}\\right)}{3600} + \\frac{\\varepsilon u_{1} \\cdot \\left(415 u^{2} - 132 u_{1}^{2}\\right)}{1440} + \\frac{6 u_{1} + 5 u1_{tttttt}}{3600}\n",
      "\\big)\n",
      "+h^6\\big(\n",
      "- \\frac{296101 \\varepsilon^{4} u^{9}}{3888000} - \\frac{\\varepsilon^{3} u^{5} \\cdot \\left(2703107 u^{2} - 8601660 u_{1}^{2}\\right)}{14256000} - \\frac{\\varepsilon^{2} u \\left(2149103 u^{4} - 9610752 u^{2} u_{1}^{2} + 2149488 u_{1}^{4}\\right)}{14256000} - \\frac{\\varepsilon u \\left(1595099 u^{2} - 4480524 u_{1}^{2}\\right)}{42768000} + \\frac{u1_{ttttttt}}{5040}\n",
      "\\big)\n"
     ]
    }
   ],
   "source": [
    "F2 = clip((T(u1, 1)-T(u1, 0))/h - T(r[1], 0))\n",
    "prn(F2, eps)\n",
    "prnlatex(F2, eps)"
   ]
  },
  {
   "cell_type": "code",
   "execution_count": 37,
   "id": "262120d7",
   "metadata": {
    "scrolled": true
   },
   "outputs": [
    {
     "name": "stdout",
     "output_type": "stream",
     "text": [
      "h^0 =>\n"
     ]
    },
    {
     "data": {
      "text/latex": [
       "$\\displaystyle - u_{1} + u_{t}$"
      ],
      "text/plain": [
       "-u1 + u_{t}"
      ]
     },
     "metadata": {},
     "output_type": "display_data"
    },
    {
     "name": "stdout",
     "output_type": "stream",
     "text": [
      "h^1 =>\n"
     ]
    },
    {
     "data": {
      "text/latex": [
       "$\\displaystyle 0$"
      ],
      "text/plain": [
       "0"
      ]
     },
     "metadata": {},
     "output_type": "display_data"
    },
    {
     "name": "stdout",
     "output_type": "stream",
     "text": [
      "h^2 =>\n"
     ]
    },
    {
     "data": {
      "text/latex": [
       "$\\displaystyle 0$"
      ],
      "text/plain": [
       "0"
      ]
     },
     "metadata": {},
     "output_type": "display_data"
    },
    {
     "name": "stdout",
     "output_type": "stream",
     "text": [
      "h^3 =>\n"
     ]
    },
    {
     "data": {
      "text/latex": [
       "$\\displaystyle 0$"
      ],
      "text/plain": [
       "0"
      ]
     },
     "metadata": {},
     "output_type": "display_data"
    },
    {
     "name": "stdout",
     "output_type": "stream",
     "text": [
      "h^4 =>\n"
     ]
    },
    {
     "data": {
      "text/latex": [
       "$\\displaystyle 0$"
      ],
      "text/plain": [
       "0"
      ]
     },
     "metadata": {},
     "output_type": "display_data"
    },
    {
     "name": "stdout",
     "output_type": "stream",
     "text": [
      "h^5 =>\n"
     ]
    },
    {
     "data": {
      "text/latex": [
       "$\\displaystyle \\frac{19 \\varepsilon^{3} u^{7}}{7200} + \\frac{\\varepsilon^{2} u^{3} \\cdot \\left(4 u - u_{1}\\right) \\left(4 u + u_{1}\\right)}{3600} + \\frac{\\varepsilon u \\left(15 u^{2} - 2 u_{1}^{2}\\right)}{7200} + \\frac{u}{3600}$"
      ],
      "text/plain": [
       "19*\\varepsilon**3*u**7/7200 + \\varepsilon**2*u**3*(4*u - u1)*(4*u + u1)/3600 + \\varepsilon*u*(15*u**2 - 2*u1**2)/7200 + u/3600"
      ]
     },
     "metadata": {},
     "output_type": "display_data"
    },
    {
     "name": "stdout",
     "output_type": "stream",
     "text": [
      "h^6 =>\n"
     ]
    },
    {
     "data": {
      "text/latex": [
       "$\\displaystyle - \\frac{8911 \\varepsilon^{3} u^{6} u_{1}}{648000} - \\frac{\\varepsilon^{2} u^{2} u_{1} \\cdot \\left(32575 u^{2} - 8757 u_{1}^{2}\\right)}{2268000} - \\frac{\\varepsilon u_{1} \\cdot \\left(22213 u^{2} - 8958 u_{1}^{2}\\right)}{4536000} - \\frac{u_{1}}{2100}$"
      ],
      "text/plain": [
       "-8911*\\varepsilon**3*u**6*u1/648000 - \\varepsilon**2*u**2*u1*(32575*u**2 - 8757*u1**2)/2268000 - \\varepsilon*u1*(22213*u**2 - 8958*u1**2)/4536000 - u1/2100"
      ]
     },
     "metadata": {},
     "output_type": "display_data"
    },
    {
     "name": "stdout",
     "output_type": "stream",
     "text": [
      "- u_{1} + u_{t}\n",
      "+h\\big(\n",
      "0\n",
      "\\big)\n",
      "+h^2\\big(\n",
      "0\n",
      "\\big)\n",
      "+h^3\\big(\n",
      "0\n",
      "\\big)\n",
      "+h^4\\big(\n",
      "0\n",
      "\\big)\n",
      "+h^5\\big(\n",
      "\\frac{19 \\varepsilon^{3} u^{7}}{7200} + \\frac{\\varepsilon^{2} u^{3} \\cdot \\left(4 u - u_{1}\\right) \\left(4 u + u_{1}\\right)}{3600} + \\frac{\\varepsilon u \\left(15 u^{2} - 2 u_{1}^{2}\\right)}{7200} + \\frac{u}{3600}\n",
      "\\big)\n",
      "+h^6\\big(\n",
      "- \\frac{8911 \\varepsilon^{3} u^{6} u_{1}}{648000} - \\frac{\\varepsilon^{2} u^{2} u_{1} \\cdot \\left(32575 u^{2} - 8757 u_{1}^{2}\\right)}{2268000} - \\frac{\\varepsilon u_{1} \\cdot \\left(22213 u^{2} - 8958 u_{1}^{2}\\right)}{4536000} - \\frac{u_{1}}{2100}\n",
      "\\big)\n"
     ]
    }
   ],
   "source": [
    "f1 = NF(F1, [u.diff(t), u1.diff(t)], [F1, F2], head=False)\n",
    "prn(f1, eps)\n",
    "prnlatex(f1, eps)"
   ]
  },
  {
   "cell_type": "code",
   "execution_count": 38,
   "id": "741035c3",
   "metadata": {
    "scrolled": true
   },
   "outputs": [
    {
     "name": "stdout",
     "output_type": "stream",
     "text": [
      "h^0 =>\n"
     ]
    },
    {
     "data": {
      "text/latex": [
       "$\\displaystyle \\varepsilon u^{3} + u + u1_{t}$"
      ],
      "text/plain": [
       "\\varepsilon*u**3 + u + u1_{t}"
      ]
     },
     "metadata": {},
     "output_type": "display_data"
    },
    {
     "name": "stdout",
     "output_type": "stream",
     "text": [
      "h^1 =>\n"
     ]
    },
    {
     "data": {
      "text/latex": [
       "$\\displaystyle 0$"
      ],
      "text/plain": [
       "0"
      ]
     },
     "metadata": {},
     "output_type": "display_data"
    },
    {
     "name": "stdout",
     "output_type": "stream",
     "text": [
      "h^2 =>\n"
     ]
    },
    {
     "data": {
      "text/latex": [
       "$\\displaystyle 0$"
      ],
      "text/plain": [
       "0"
      ]
     },
     "metadata": {},
     "output_type": "display_data"
    },
    {
     "name": "stdout",
     "output_type": "stream",
     "text": [
      "h^3 =>\n"
     ]
    },
    {
     "data": {
      "text/latex": [
       "$\\displaystyle 0$"
      ],
      "text/plain": [
       "0"
      ]
     },
     "metadata": {},
     "output_type": "display_data"
    },
    {
     "name": "stdout",
     "output_type": "stream",
     "text": [
      "h^4 =>\n"
     ]
    },
    {
     "data": {
      "text/latex": [
       "$\\displaystyle 0$"
      ],
      "text/plain": [
       "0"
      ]
     },
     "metadata": {},
     "output_type": "display_data"
    },
    {
     "name": "stdout",
     "output_type": "stream",
     "text": [
      "h^5 =>\n"
     ]
    },
    {
     "data": {
      "text/latex": [
       "$\\displaystyle \\frac{17 \\varepsilon^{3} u^{6} u_{1}}{7200} + \\frac{\\varepsilon^{2} u^{4} u_{1}}{1800} + \\frac{\\varepsilon u^{2} u_{1}}{1440} + \\frac{u_{1}}{3600}$"
      ],
      "text/plain": [
       "17*\\varepsilon**3*u**6*u1/7200 + \\varepsilon**2*u**4*u1/1800 + \\varepsilon*u**2*u1/1440 + u1/3600"
      ]
     },
     "metadata": {},
     "output_type": "display_data"
    },
    {
     "name": "stdout",
     "output_type": "stream",
     "text": [
      "h^6 =>\n"
     ]
    },
    {
     "data": {
      "text/latex": [
       "$\\displaystyle \\frac{64079 \\varepsilon^{4} u^{9}}{3888000} + \\frac{\\varepsilon^{3} u^{5} \\cdot \\left(3404731 u^{2} - 15380820 u_{1}^{2}\\right)}{99792000} + \\frac{\\varepsilon^{2} u \\left(2303059 u^{4} - 9873456 u^{2} u_{1}^{2} - 77616 u_{1}^{4}\\right)}{99792000} + \\frac{\\varepsilon u \\left(1771627 u^{2} - 5238612 u_{1}^{2}\\right)}{299376000} + \\frac{u}{2100}$"
      ],
      "text/plain": [
       "64079*\\varepsilon**4*u**9/3888000 + \\varepsilon**3*u**5*(3404731*u**2 - 15380820*u1**2)/99792000 + \\varepsilon**2*u*(2303059*u**4 - 9873456*u**2*u1**2 - 77616*u1**4)/99792000 + \\varepsilon*u*(1771627*u**2 - 5238612*u1**2)/299376000 + u/2100"
      ]
     },
     "metadata": {},
     "output_type": "display_data"
    },
    {
     "name": "stdout",
     "output_type": "stream",
     "text": [
      "\\varepsilon u^{3} + u + u1_{t}\n",
      "+h\\big(\n",
      "0\n",
      "\\big)\n",
      "+h^2\\big(\n",
      "0\n",
      "\\big)\n",
      "+h^3\\big(\n",
      "0\n",
      "\\big)\n",
      "+h^4\\big(\n",
      "0\n",
      "\\big)\n",
      "+h^5\\big(\n",
      "\\frac{17 \\varepsilon^{3} u^{6} u_{1}}{7200} + \\frac{\\varepsilon^{2} u^{4} u_{1}}{1800} + \\frac{\\varepsilon u^{2} u_{1}}{1440} + \\frac{u_{1}}{3600}\n",
      "\\big)\n",
      "+h^6\\big(\n",
      "\\frac{64079 \\varepsilon^{4} u^{9}}{3888000} + \\frac{\\varepsilon^{3} u^{5} \\cdot \\left(3404731 u^{2} - 15380820 u_{1}^{2}\\right)}{99792000} + \\frac{\\varepsilon^{2} u \\left(2303059 u^{4} - 9873456 u^{2} u_{1}^{2} - 77616 u_{1}^{4}\\right)}{99792000} + \\frac{\\varepsilon u \\left(1771627 u^{2} - 5238612 u_{1}^{2}\\right)}{299376000} + \\frac{u}{2100}\n",
      "\\big)\n"
     ]
    }
   ],
   "source": [
    "f2 = NF(F2, [u.diff(t), u1.diff(t)], [F1, F2], head=False)\n",
    "prn(f2, eps)\n",
    "prnlatex(f2, eps)"
   ]
  },
  {
   "cell_type": "code",
   "execution_count": 39,
   "id": "11afa679",
   "metadata": {
    "scrolled": true
   },
   "outputs": [
    {
     "name": "stdout",
     "output_type": "stream",
     "text": [
      "h^0 =>\n"
     ]
    },
    {
     "data": {
      "text/latex": [
       "$\\displaystyle 0$"
      ],
      "text/plain": [
       "0"
      ]
     },
     "metadata": {},
     "output_type": "display_data"
    },
    {
     "name": "stdout",
     "output_type": "stream",
     "text": [
      "h^1 =>\n"
     ]
    },
    {
     "data": {
      "text/latex": [
       "$\\displaystyle \\varepsilon u^{3} u_{t} + u u_{t} + u_{1} u1_{t}$"
      ],
      "text/plain": [
       "\\varepsilon*u**3*u_{t} + u*u_{t} + u1*u1_{t}"
      ]
     },
     "metadata": {},
     "output_type": "display_data"
    },
    {
     "name": "stdout",
     "output_type": "stream",
     "text": [
      "h^2 =>\n"
     ]
    },
    {
     "data": {
      "text/latex": [
       "$\\displaystyle \\frac{\\varepsilon u^{2} \\left(u u_{tt} + 3 u_{t}^{2}\\right)}{2} + \\frac{u u_{tt} + u_{1} u1_{tt} + u1_{t}^{2} + u_{t}^{2}}{2}$"
      ],
      "text/plain": [
       "\\varepsilon*u**2*(u*u_{tt} + 3*u_{t}**2)/2 + (u*u_{tt} + u1*u1_{tt} + u1_{t}**2 + u_{t}**2)/2"
      ]
     },
     "metadata": {},
     "output_type": "display_data"
    },
    {
     "name": "stdout",
     "output_type": "stream",
     "text": [
      "h^3 =>\n"
     ]
    },
    {
     "data": {
      "text/latex": [
       "$\\displaystyle \\frac{\\varepsilon u \\left(u^{2} u_{ttt} + 9 u u_{tt} u_{t} + 6 u_{t}^{3}\\right)}{6} + \\frac{u u_{ttt} + u_{1} u1_{ttt} + 3 u1_{tt} u1_{t} + 3 u_{tt} u_{t}}{6}$"
      ],
      "text/plain": [
       "\\varepsilon*u*(u**2*u_{ttt} + 9*u*u_{tt}*u_{t} + 6*u_{t}**3)/6 + (u*u_{ttt} + u1*u1_{ttt} + 3*u1_{tt}*u1_{t} + 3*u_{tt}*u_{t})/6"
      ]
     },
     "metadata": {},
     "output_type": "display_data"
    },
    {
     "name": "stdout",
     "output_type": "stream",
     "text": [
      "h^4 =>\n"
     ]
    },
    {
     "data": {
      "text/latex": [
       "$\\displaystyle \\frac{\\varepsilon \\left(u^{3} u_{tttt} + 12 u^{2} u_{ttt} u_{t} + 9 u^{2} u_{tt}^{2} + 36 u u_{tt} u_{t}^{2} + 6 u_{t}^{4}\\right)}{24} + \\frac{u u_{tttt} + u_{1} u1_{tttt} + 4 u1_{ttt} u1_{t} + 3 u1_{tt}^{2} + 4 u_{ttt} u_{t} + 3 u_{tt}^{2}}{24}$"
      ],
      "text/plain": [
       "\\varepsilon*(u**3*u_{tttt} + 12*u**2*u_{ttt}*u_{t} + 9*u**2*u_{tt}**2 + 36*u*u_{tt}*u_{t}**2 + 6*u_{t}**4)/24 + (u*u_{tttt} + u1*u1_{tttt} + 4*u1_{ttt}*u1_{t} + 3*u1_{tt}**2 + 4*u_{ttt}*u_{t} + 3*u_{tt}**2)/24"
      ]
     },
     "metadata": {},
     "output_type": "display_data"
    },
    {
     "name": "stdout",
     "output_type": "stream",
     "text": [
      "h^5 =>\n"
     ]
    },
    {
     "data": {
      "text/latex": [
       "$\\displaystyle \\frac{\\varepsilon \\left(u^{3} u_{ttttt} + 15 u^{2} u_{tttt} u_{t} + 30 u^{2} u_{ttt} u_{tt} + 60 u u_{ttt} u_{t}^{2} + 90 u u_{tt}^{2} u_{t} + 60 u_{tt} u_{t}^{3}\\right)}{120} + \\frac{u u_{ttttt} + u_{1} u1_{ttttt} + 5 u1_{tttt} u1_{t} + 10 u1_{ttt} u1_{tt} + 5 u_{tttt} u_{t} + 10 u_{ttt} u_{tt}}{120}$"
      ],
      "text/plain": [
       "\\varepsilon*(u**3*u_{ttttt} + 15*u**2*u_{tttt}*u_{t} + 30*u**2*u_{ttt}*u_{tt} + 60*u*u_{ttt}*u_{t}**2 + 90*u*u_{tt}**2*u_{t} + 60*u_{tt}*u_{t}**3)/120 + (u*u_{ttttt} + u1*u1_{ttttt} + 5*u1_{tttt}*u1_{t} + 10*u1_{ttt}*u1_{tt} + 5*u_{tttt}*u_{t} + 10*u_{ttt}*u_{tt})/120"
      ]
     },
     "metadata": {},
     "output_type": "display_data"
    },
    {
     "name": "stdout",
     "output_type": "stream",
     "text": [
      "h^6 =>\n"
     ]
    },
    {
     "data": {
      "text/latex": [
       "$\\displaystyle \\frac{\\varepsilon \\left(u^{3} u_{tttttt} + 18 u^{2} u_{ttttt} u_{t} + 45 u^{2} u_{tttt} u_{tt} + 30 u^{2} u_{ttt}^{2} + 90 u u_{tttt} u_{t}^{2} + 360 u u_{ttt} u_{tt} u_{t} + 90 u u_{tt}^{3} + 120 u_{ttt} u_{t}^{3} + 270 u_{tt}^{2} u_{t}^{2}\\right)}{720} + \\frac{u u_{tttttt} + u_{1} u1_{tttttt} + 6 u1_{ttttt} u1_{t} + 15 u1_{tttt} u1_{tt} + 10 u1_{ttt}^{2} + 6 u_{ttttt} u_{t} + 15 u_{tttt} u_{tt} + 10 u_{ttt}^{2}}{720}$"
      ],
      "text/plain": [
       "\\varepsilon*(u**3*u_{tttttt} + 18*u**2*u_{ttttt}*u_{t} + 45*u**2*u_{tttt}*u_{tt} + 30*u**2*u_{ttt}**2 + 90*u*u_{tttt}*u_{t}**2 + 360*u*u_{ttt}*u_{tt}*u_{t} + 90*u*u_{tt}**3 + 120*u_{ttt}*u_{t}**3 + 270*u_{tt}**2*u_{t}**2)/720 + (u*u_{tttttt} + u1*u1_{tttttt} + 6*u1_{ttttt}*u1_{t} + 15*u1_{tttt}*u1_{tt} + 10*u1_{ttt}**2 + 6*u_{ttttt}*u_{t} + 15*u_{tttt}*u_{tt} + 10*u_{ttt}**2)/720"
      ]
     },
     "metadata": {},
     "output_type": "display_data"
    },
    {
     "name": "stdout",
     "output_type": "stream",
     "text": [
      "0\n",
      "+h\\big(\n",
      "\\varepsilon u^{3} u_{t} + u u_{t} + u_{1} u1_{t}\n",
      "\\big)\n",
      "+h^2\\big(\n",
      "\\frac{\\varepsilon u^{2} \\left(u u_{tt} + 3 u_{t}^{2}\\right)}{2} + \\frac{u u_{tt} + u_{1} u1_{tt} + u1_{t}^{2} + u_{t}^{2}}{2}\n",
      "\\big)\n",
      "+h^3\\big(\n",
      "\\frac{\\varepsilon u \\left(u^{2} u_{ttt} + 9 u u_{tt} u_{t} + 6 u_{t}^{3}\\right)}{6} + \\frac{u u_{ttt} + u_{1} u1_{ttt} + 3 u1_{tt} u1_{t} + 3 u_{tt} u_{t}}{6}\n",
      "\\big)\n",
      "+h^4\\big(\n",
      "\\frac{\\varepsilon \\left(u^{3} u_{tttt} + 12 u^{2} u_{ttt} u_{t} + 9 u^{2} u_{tt}^{2} + 36 u u_{tt} u_{t}^{2} + 6 u_{t}^{4}\\right)}{24} + \\frac{u u_{tttt} + u_{1} u1_{tttt} + 4 u1_{ttt} u1_{t} + 3 u1_{tt}^{2} + 4 u_{ttt} u_{t} + 3 u_{tt}^{2}}{24}\n",
      "\\big)\n",
      "+h^5\\big(\n",
      "\\frac{\\varepsilon \\left(u^{3} u_{ttttt} + 15 u^{2} u_{tttt} u_{t} + 30 u^{2} u_{ttt} u_{tt} + 60 u u_{ttt} u_{t}^{2} + 90 u u_{tt}^{2} u_{t} + 60 u_{tt} u_{t}^{3}\\right)}{120} + \\frac{u u_{ttttt} + u_{1} u1_{ttttt} + 5 u1_{tttt} u1_{t} + 10 u1_{ttt} u1_{tt} + 5 u_{tttt} u_{t} + 10 u_{ttt} u_{tt}}{120}\n",
      "\\big)\n",
      "+h^6\\big(\n",
      "\\frac{\\varepsilon \\left(u^{3} u_{tttttt} + 18 u^{2} u_{ttttt} u_{t} + 45 u^{2} u_{tttt} u_{tt} + 30 u^{2} u_{ttt}^{2} + 90 u u_{tttt} u_{t}^{2} + 360 u u_{ttt} u_{tt} u_{t} + 90 u u_{tt}^{3} + 120 u_{ttt} u_{t}^{3} + 270 u_{tt}^{2} u_{t}^{2}\\right)}{720} + \\frac{u u_{tttttt} + u_{1} u1_{tttttt} + 6 u1_{ttttt} u1_{t} + 15 u1_{tttt} u1_{tt} + 10 u1_{ttt}^{2} + 6 u_{ttttt} u_{t} + 15 u_{tttt} u_{tt} + 10 u_{ttt}^{2}}{720}\n",
      "\\big)\n"
     ]
    }
   ],
   "source": [
    "F3 = clip((T(u1, 1)**2/2 + T(u, 1)**2/2 + eps*T(u, 1)**4/4) -\\\n",
    "          (T(u1, 0)**2/2 + T(u, 0)**2/2 + eps*T(u, 0)**4/4))\n",
    "prn(F3, eps)\n",
    "prnlatex(F3, eps)"
   ]
  },
  {
   "cell_type": "code",
   "execution_count": 40,
   "id": "465185e2",
   "metadata": {
    "scrolled": true
   },
   "outputs": [
    {
     "name": "stdout",
     "output_type": "stream",
     "text": [
      "h^0 =>\n"
     ]
    },
    {
     "data": {
      "text/latex": [
       "$\\displaystyle 0$"
      ],
      "text/plain": [
       "0"
      ]
     },
     "metadata": {},
     "output_type": "display_data"
    },
    {
     "name": "stdout",
     "output_type": "stream",
     "text": [
      "h^1 =>\n"
     ]
    },
    {
     "data": {
      "text/latex": [
       "$\\displaystyle 0$"
      ],
      "text/plain": [
       "0"
      ]
     },
     "metadata": {},
     "output_type": "display_data"
    },
    {
     "name": "stdout",
     "output_type": "stream",
     "text": [
      "h^2 =>\n"
     ]
    },
    {
     "data": {
      "text/latex": [
       "$\\displaystyle 0$"
      ],
      "text/plain": [
       "0"
      ]
     },
     "metadata": {},
     "output_type": "display_data"
    },
    {
     "name": "stdout",
     "output_type": "stream",
     "text": [
      "h^3 =>\n"
     ]
    },
    {
     "data": {
      "text/latex": [
       "$\\displaystyle 0$"
      ],
      "text/plain": [
       "0"
      ]
     },
     "metadata": {},
     "output_type": "display_data"
    },
    {
     "name": "stdout",
     "output_type": "stream",
     "text": [
      "h^4 =>\n"
     ]
    },
    {
     "data": {
      "text/latex": [
       "$\\displaystyle 0$"
      ],
      "text/plain": [
       "0"
      ]
     },
     "metadata": {},
     "output_type": "display_data"
    },
    {
     "name": "stdout",
     "output_type": "stream",
     "text": [
      "h^5 =>\n"
     ]
    },
    {
     "data": {
      "text/latex": [
       "$\\displaystyle 0$"
      ],
      "text/plain": [
       "0"
      ]
     },
     "metadata": {},
     "output_type": "display_data"
    },
    {
     "name": "stdout",
     "output_type": "stream",
     "text": [
      "h^6 =>\n"
     ]
    },
    {
     "data": {
      "text/latex": [
       "$\\displaystyle - \\frac{19 \\varepsilon^{4} u^{10}}{7200} - \\frac{\\varepsilon^{3} u^{6} \\cdot \\left(17 u^{2} + 5 u_{1}^{2}\\right)}{2400} - \\frac{47 \\varepsilon^{2} u^{6}}{7200} - \\frac{\\varepsilon u^{2} \\cdot \\left(17 u^{2} + 3 u_{1}^{2}\\right)}{7200} - \\frac{u^{2} + u_{1}^{2}}{3600}$"
      ],
      "text/plain": [
       "-19*\\varepsilon**4*u**10/7200 - \\varepsilon**3*u**6*(17*u**2 + 5*u1**2)/2400 - 47*\\varepsilon**2*u**6/7200 - \\varepsilon*u**2*(17*u**2 + 3*u1**2)/7200 - (u**2 + u1**2)/3600"
      ]
     },
     "metadata": {},
     "output_type": "display_data"
    },
    {
     "name": "stdout",
     "output_type": "stream",
     "text": [
      "0\n",
      "+h\\big(\n",
      "0\n",
      "\\big)\n",
      "+h^2\\big(\n",
      "0\n",
      "\\big)\n",
      "+h^3\\big(\n",
      "0\n",
      "\\big)\n",
      "+h^4\\big(\n",
      "0\n",
      "\\big)\n",
      "+h^5\\big(\n",
      "0\n",
      "\\big)\n",
      "+h^6\\big(\n",
      "- \\frac{19 \\varepsilon^{4} u^{10}}{7200} - \\frac{\\varepsilon^{3} u^{6} \\cdot \\left(17 u^{2} + 5 u_{1}^{2}\\right)}{2400} - \\frac{47 \\varepsilon^{2} u^{6}}{7200} - \\frac{\\varepsilon u^{2} \\cdot \\left(17 u^{2} + 3 u_{1}^{2}\\right)}{7200} - \\frac{u^{2} + u_{1}^{2}}{3600}\n",
      "\\big)\n"
     ]
    }
   ],
   "source": [
    "f3 = NF(F3, [u.diff(t), u1.diff(t)], [f1, f2], head=False)\n",
    "prn(f3, eps)\n",
    "prnlatex(f3, eps)"
   ]
  },
  {
   "cell_type": "markdown",
   "id": "7f36461d",
   "metadata": {},
   "source": [
    "## Dormand–Prince method 4 order"
   ]
  },
  {
   "cell_type": "code",
   "execution_count": 41,
   "id": "c2a5ce76",
   "metadata": {},
   "outputs": [],
   "source": [
    "set_clip(7, 6, Rational(0, 1))\n",
    "r = DormandPrince51(f, Matrix([u, u1]))"
   ]
  },
  {
   "cell_type": "code",
   "execution_count": 42,
   "id": "a0043630",
   "metadata": {
    "scrolled": true
   },
   "outputs": [
    {
     "name": "stdout",
     "output_type": "stream",
     "text": [
      "h^0 =>\n"
     ]
    },
    {
     "data": {
      "text/latex": [
       "$\\displaystyle - u_{1} + u_{t}$"
      ],
      "text/plain": [
       "-u1 + u_{t}"
      ]
     },
     "metadata": {},
     "output_type": "display_data"
    },
    {
     "name": "stdout",
     "output_type": "stream",
     "text": [
      "h^1 =>\n"
     ]
    },
    {
     "data": {
      "text/latex": [
       "$\\displaystyle \\frac{\\varepsilon u^{3}}{2} + \\frac{u + u_{tt}}{2}$"
      ],
      "text/plain": [
       "\\varepsilon*u**3/2 + (u + u_{tt})/2"
      ]
     },
     "metadata": {},
     "output_type": "display_data"
    },
    {
     "name": "stdout",
     "output_type": "stream",
     "text": [
      "h^2 =>\n"
     ]
    },
    {
     "data": {
      "text/latex": [
       "$\\displaystyle \\frac{\\varepsilon u^{2} u_{1}}{2} + \\frac{u_{1} + u_{ttt}}{6}$"
      ],
      "text/plain": [
       "\\varepsilon*u**2*u1/2 + (u1 + u_{ttt})/6"
      ]
     },
     "metadata": {},
     "output_type": "display_data"
    },
    {
     "name": "stdout",
     "output_type": "stream",
     "text": [
      "h^3 =>\n"
     ]
    },
    {
     "data": {
      "text/latex": [
       "$\\displaystyle - \\frac{\\varepsilon^{2} u^{5}}{8} - \\frac{\\varepsilon u \\left(2 u^{2} - 3 u_{1}^{2}\\right)}{12} - \\frac{u - u_{tttt}}{24}$"
      ],
      "text/plain": [
       "-\\varepsilon**2*u**5/8 - \\varepsilon*u*(2*u**2 - 3*u1**2)/12 - (u - u_{tttt})/24"
      ]
     },
     "metadata": {},
     "output_type": "display_data"
    },
    {
     "name": "stdout",
     "output_type": "stream",
     "text": [
      "h^4 =>\n"
     ]
    },
    {
     "data": {
      "text/latex": [
       "$\\displaystyle - \\frac{1873 \\varepsilon^{2} u^{4} u_{1}}{8000} - \\frac{\\varepsilon u_{1} \\cdot \\left(12402 u^{2} - 3037 u_{1}^{2}\\right)}{60000} - \\frac{1097 u_{1} - 1000 u_{ttttt}}{120000}$"
      ],
      "text/plain": [
       "-1873*\\varepsilon**2*u**4*u1/8000 - \\varepsilon*u1*(12402*u**2 - 3037*u1**2)/60000 - (1097*u1 - 1000*u_{ttttt})/120000"
      ]
     },
     "metadata": {},
     "output_type": "display_data"
    },
    {
     "name": "stdout",
     "output_type": "stream",
     "text": [
      "h^5 =>\n"
     ]
    },
    {
     "data": {
      "text/latex": [
       "$\\displaystyle \\frac{137419 \\varepsilon^{3} u^{7}}{3600000} + \\frac{\\varepsilon^{2} u^{3} \\cdot \\left(130174 u^{2} - 351655 u_{1}^{2}\\right)}{1800000} + \\frac{\\varepsilon u \\left(127759 u^{2} - 359702 u_{1}^{2}\\right)}{3600000} + \\frac{483 u + 500 u_{tttttt}}{360000}$"
      ],
      "text/plain": [
       "137419*\\varepsilon**3*u**7/3600000 + \\varepsilon**2*u**3*(130174*u**2 - 351655*u1**2)/1800000 + \\varepsilon*u*(127759*u**2 - 359702*u1**2)/3600000 + (483*u + 500*u_{tttttt})/360000"
      ]
     },
     "metadata": {},
     "output_type": "display_data"
    },
    {
     "name": "stdout",
     "output_type": "stream",
     "text": [
      "- u_{1} + u_{t}\n",
      "+h\\big(\n",
      "\\frac{\\varepsilon u^{3}}{2} + \\frac{u + u_{tt}}{2}\n",
      "\\big)\n",
      "+h^2\\big(\n",
      "\\frac{\\varepsilon u^{2} u_{1}}{2} + \\frac{u_{1} + u_{ttt}}{6}\n",
      "\\big)\n",
      "+h^3\\big(\n",
      "- \\frac{\\varepsilon^{2} u^{5}}{8} - \\frac{\\varepsilon u \\left(2 u^{2} - 3 u_{1}^{2}\\right)}{12} - \\frac{u - u_{tttt}}{24}\n",
      "\\big)\n",
      "+h^4\\big(\n",
      "- \\frac{1873 \\varepsilon^{2} u^{4} u_{1}}{8000} - \\frac{\\varepsilon u_{1} \\cdot \\left(12402 u^{2} - 3037 u_{1}^{2}\\right)}{60000} - \\frac{1097 u_{1} - 1000 u_{ttttt}}{120000}\n",
      "\\big)\n",
      "+h^5\\big(\n",
      "\\frac{137419 \\varepsilon^{3} u^{7}}{3600000} + \\frac{\\varepsilon^{2} u^{3} \\cdot \\left(130174 u^{2} - 351655 u_{1}^{2}\\right)}{1800000} + \\frac{\\varepsilon u \\left(127759 u^{2} - 359702 u_{1}^{2}\\right)}{3600000} + \\frac{483 u + 500 u_{tttttt}}{360000}\n",
      "\\big)\n"
     ]
    }
   ],
   "source": [
    "F1 = clip((T(u, 1)-T(u, 0))/h - T(r[0], 0))\n",
    "prn(F1, eps)\n",
    "prnlatex(F1, eps)"
   ]
  },
  {
   "cell_type": "code",
   "execution_count": 43,
   "id": "046d4957",
   "metadata": {
    "scrolled": true
   },
   "outputs": [
    {
     "name": "stdout",
     "output_type": "stream",
     "text": [
      "h^0 =>\n"
     ]
    },
    {
     "data": {
      "text/latex": [
       "$\\displaystyle \\varepsilon u^{3} + u + u1_{t}$"
      ],
      "text/plain": [
       "\\varepsilon*u**3 + u + u1_{t}"
      ]
     },
     "metadata": {},
     "output_type": "display_data"
    },
    {
     "name": "stdout",
     "output_type": "stream",
     "text": [
      "h^1 =>\n"
     ]
    },
    {
     "data": {
      "text/latex": [
       "$\\displaystyle \\frac{3 \\varepsilon u^{2} u_{1}}{2} + \\frac{u_{1} + u1_{tt}}{2}$"
      ],
      "text/plain": [
       "3*\\varepsilon*u**2*u1/2 + (u1 + u1_{tt})/2"
      ]
     },
     "metadata": {},
     "output_type": "display_data"
    },
    {
     "name": "stdout",
     "output_type": "stream",
     "text": [
      "h^2 =>\n"
     ]
    },
    {
     "data": {
      "text/latex": [
       "$\\displaystyle - \\frac{\\varepsilon^{2} u^{5}}{2} - \\frac{\\varepsilon u \\left(2 u^{2} - 3 u_{1}^{2}\\right)}{3} - \\frac{u - u1_{ttt}}{6}$"
      ],
      "text/plain": [
       "-\\varepsilon**2*u**5/2 - \\varepsilon*u*(2*u**2 - 3*u1**2)/3 - (u - u1_{ttt})/6"
      ]
     },
     "metadata": {},
     "output_type": "display_data"
    },
    {
     "name": "stdout",
     "output_type": "stream",
     "text": [
      "h^3 =>\n"
     ]
    },
    {
     "data": {
      "text/latex": [
       "$\\displaystyle - \\frac{9 \\varepsilon^{2} u^{4} u_{1}}{8} - \\frac{\\varepsilon u_{1} \\cdot \\left(2 u - u_{1}\\right) \\left(2 u + u_{1}\\right)}{4} - \\frac{u_{1} - u1_{tttt}}{24}$"
      ],
      "text/plain": [
       "-9*\\varepsilon**2*u**4*u1/8 - \\varepsilon*u1*(2*u - u1)*(2*u + u1)/4 - (u1 - u1_{tttt})/24"
      ]
     },
     "metadata": {},
     "output_type": "display_data"
    },
    {
     "name": "stdout",
     "output_type": "stream",
     "text": [
      "h^4 =>\n"
     ]
    },
    {
     "data": {
      "text/latex": [
       "$\\displaystyle \\frac{20887 \\varepsilon^{3} u^{7}}{90000} + \\frac{\\varepsilon^{2} u^{3} \\cdot \\left(157223 u^{2} - 373412 u_{1}^{2}\\right)}{360000} + \\frac{\\varepsilon u \\left(38483 u^{2} - 98188 u_{1}^{2}\\right)}{180000} + \\frac{1097 u + 1000 u1_{ttttt}}{120000}$"
      ],
      "text/plain": [
       "20887*\\varepsilon**3*u**7/90000 + \\varepsilon**2*u**3*(157223*u**2 - 373412*u1**2)/360000 + \\varepsilon*u*(38483*u**2 - 98188*u1**2)/180000 + (1097*u + 1000*u1_{ttttt})/120000"
      ]
     },
     "metadata": {},
     "output_type": "display_data"
    },
    {
     "name": "stdout",
     "output_type": "stream",
     "text": [
      "h^5 =>\n"
     ]
    },
    {
     "data": {
      "text/latex": [
       "$\\displaystyle \\frac{3958063 \\varepsilon^{3} u^{6} u_{1}}{6480000} + \\frac{\\varepsilon^{2} u^{2} u_{1} \\cdot \\left(7170031 u^{2} - 4162923 u_{1}^{2}\\right)}{8100000} + \\frac{\\varepsilon u_{1} \\cdot \\left(9281039 u^{2} - 2807196 u_{1}^{2}\\right)}{32400000} + \\frac{483 u_{1} + 500 u1_{tttttt}}{360000}$"
      ],
      "text/plain": [
       "3958063*\\varepsilon**3*u**6*u1/6480000 + \\varepsilon**2*u**2*u1*(7170031*u**2 - 4162923*u1**2)/8100000 + \\varepsilon*u1*(9281039*u**2 - 2807196*u1**2)/32400000 + (483*u1 + 500*u1_{tttttt})/360000"
      ]
     },
     "metadata": {},
     "output_type": "display_data"
    },
    {
     "name": "stdout",
     "output_type": "stream",
     "text": [
      "\\varepsilon u^{3} + u + u1_{t}\n",
      "+h\\big(\n",
      "\\frac{3 \\varepsilon u^{2} u_{1}}{2} + \\frac{u_{1} + u1_{tt}}{2}\n",
      "\\big)\n",
      "+h^2\\big(\n",
      "- \\frac{\\varepsilon^{2} u^{5}}{2} - \\frac{\\varepsilon u \\left(2 u^{2} - 3 u_{1}^{2}\\right)}{3} - \\frac{u - u1_{ttt}}{6}\n",
      "\\big)\n",
      "+h^3\\big(\n",
      "- \\frac{9 \\varepsilon^{2} u^{4} u_{1}}{8} - \\frac{\\varepsilon u_{1} \\cdot \\left(2 u - u_{1}\\right) \\left(2 u + u_{1}\\right)}{4} - \\frac{u_{1} - u1_{tttt}}{24}\n",
      "\\big)\n",
      "+h^4\\big(\n",
      "\\frac{20887 \\varepsilon^{3} u^{7}}{90000} + \\frac{\\varepsilon^{2} u^{3} \\cdot \\left(157223 u^{2} - 373412 u_{1}^{2}\\right)}{360000} + \\frac{\\varepsilon u \\left(38483 u^{2} - 98188 u_{1}^{2}\\right)}{180000} + \\frac{1097 u + 1000 u1_{ttttt}}{120000}\n",
      "\\big)\n",
      "+h^5\\big(\n",
      "\\frac{3958063 \\varepsilon^{3} u^{6} u_{1}}{6480000} + \\frac{\\varepsilon^{2} u^{2} u_{1} \\cdot \\left(7170031 u^{2} - 4162923 u_{1}^{2}\\right)}{8100000} + \\frac{\\varepsilon u_{1} \\cdot \\left(9281039 u^{2} - 2807196 u_{1}^{2}\\right)}{32400000} + \\frac{483 u_{1} + 500 u1_{tttttt}}{360000}\n",
      "\\big)\n"
     ]
    }
   ],
   "source": [
    "F2 = clip((T(u1, 1)-T(u1, 0))/h - T(r[1], 0))\n",
    "prn(F2, eps)\n",
    "prnlatex(F2, eps)"
   ]
  },
  {
   "cell_type": "code",
   "execution_count": 44,
   "id": "6ccb98a7",
   "metadata": {
    "scrolled": true
   },
   "outputs": [
    {
     "name": "stdout",
     "output_type": "stream",
     "text": [
      "h^0 =>\n"
     ]
    },
    {
     "data": {
      "text/latex": [
       "$\\displaystyle - u_{1} + u_{t}$"
      ],
      "text/plain": [
       "-u1 + u_{t}"
      ]
     },
     "metadata": {},
     "output_type": "display_data"
    },
    {
     "name": "stdout",
     "output_type": "stream",
     "text": [
      "h^1 =>\n"
     ]
    },
    {
     "data": {
      "text/latex": [
       "$\\displaystyle 0$"
      ],
      "text/plain": [
       "0"
      ]
     },
     "metadata": {},
     "output_type": "display_data"
    },
    {
     "name": "stdout",
     "output_type": "stream",
     "text": [
      "h^2 =>\n"
     ]
    },
    {
     "data": {
      "text/latex": [
       "$\\displaystyle 0$"
      ],
      "text/plain": [
       "0"
      ]
     },
     "metadata": {},
     "output_type": "display_data"
    },
    {
     "name": "stdout",
     "output_type": "stream",
     "text": [
      "h^3 =>\n"
     ]
    },
    {
     "data": {
      "text/latex": [
       "$\\displaystyle 0$"
      ],
      "text/plain": [
       "0"
      ]
     },
     "metadata": {},
     "output_type": "display_data"
    },
    {
     "name": "stdout",
     "output_type": "stream",
     "text": [
      "h^4 =>\n"
     ]
    },
    {
     "data": {
      "text/latex": [
       "$\\displaystyle - \\frac{73 \\varepsilon^{2} u^{4} u_{1}}{8000} - \\frac{\\varepsilon u_{1} \\cdot \\left(402 u^{2} - 37 u_{1}^{2}\\right)}{60000} - \\frac{97 u_{1}}{120000}$"
      ],
      "text/plain": [
       "-73*\\varepsilon**2*u**4*u1/8000 - \\varepsilon*u1*(402*u**2 - 37*u1**2)/60000 - 97*u1/120000"
      ]
     },
     "metadata": {},
     "output_type": "display_data"
    },
    {
     "name": "stdout",
     "output_type": "stream",
     "text": [
      "h^5 =>\n"
     ]
    },
    {
     "data": {
      "text/latex": [
       "$\\displaystyle - \\frac{13373 \\varepsilon^{3} u^{7}}{1800000} - \\frac{\\varepsilon^{2} u^{3} \\cdot \\left(11063 u^{2} + 6805 u_{1}^{2}\\right)}{900000} - \\frac{\\varepsilon u \\left(10293 u^{2} + 5186 u_{1}^{2}\\right)}{1800000} - \\frac{77 u}{90000}$"
      ],
      "text/plain": [
       "-13373*\\varepsilon**3*u**7/1800000 - \\varepsilon**2*u**3*(11063*u**2 + 6805*u1**2)/900000 - \\varepsilon*u*(10293*u**2 + 5186*u1**2)/1800000 - 77*u/90000"
      ]
     },
     "metadata": {},
     "output_type": "display_data"
    },
    {
     "name": "stdout",
     "output_type": "stream",
     "text": [
      "- u_{1} + u_{t}\n",
      "+h\\big(\n",
      "0\n",
      "\\big)\n",
      "+h^2\\big(\n",
      "0\n",
      "\\big)\n",
      "+h^3\\big(\n",
      "0\n",
      "\\big)\n",
      "+h^4\\big(\n",
      "- \\frac{73 \\varepsilon^{2} u^{4} u_{1}}{8000} - \\frac{\\varepsilon u_{1} \\cdot \\left(402 u^{2} - 37 u_{1}^{2}\\right)}{60000} - \\frac{97 u_{1}}{120000}\n",
      "\\big)\n",
      "+h^5\\big(\n",
      "- \\frac{13373 \\varepsilon^{3} u^{7}}{1800000} - \\frac{\\varepsilon^{2} u^{3} \\cdot \\left(11063 u^{2} + 6805 u_{1}^{2}\\right)}{900000} - \\frac{\\varepsilon u \\left(10293 u^{2} + 5186 u_{1}^{2}\\right)}{1800000} - \\frac{77 u}{90000}\n",
      "\\big)\n"
     ]
    }
   ],
   "source": [
    "f1 = NF(F1, [u.diff(t), u1.diff(t)], [F1, F2], head=False)\n",
    "prn(f1, eps)\n",
    "prnlatex(f1, eps)"
   ]
  },
  {
   "cell_type": "code",
   "execution_count": 45,
   "id": "dff9374c",
   "metadata": {
    "scrolled": true
   },
   "outputs": [
    {
     "name": "stdout",
     "output_type": "stream",
     "text": [
      "h^0 =>\n"
     ]
    },
    {
     "data": {
      "text/latex": [
       "$\\displaystyle \\varepsilon u^{3} + u + u1_{t}$"
      ],
      "text/plain": [
       "\\varepsilon*u**3 + u + u1_{t}"
      ]
     },
     "metadata": {},
     "output_type": "display_data"
    },
    {
     "name": "stdout",
     "output_type": "stream",
     "text": [
      "h^1 =>\n"
     ]
    },
    {
     "data": {
      "text/latex": [
       "$\\displaystyle 0$"
      ],
      "text/plain": [
       "0"
      ]
     },
     "metadata": {},
     "output_type": "display_data"
    },
    {
     "name": "stdout",
     "output_type": "stream",
     "text": [
      "h^2 =>\n"
     ]
    },
    {
     "data": {
      "text/latex": [
       "$\\displaystyle 0$"
      ],
      "text/plain": [
       "0"
      ]
     },
     "metadata": {},
     "output_type": "display_data"
    },
    {
     "name": "stdout",
     "output_type": "stream",
     "text": [
      "h^3 =>\n"
     ]
    },
    {
     "data": {
      "text/latex": [
       "$\\displaystyle 0$"
      ],
      "text/plain": [
       "0"
      ]
     },
     "metadata": {},
     "output_type": "display_data"
    },
    {
     "name": "stdout",
     "output_type": "stream",
     "text": [
      "h^4 =>\n"
     ]
    },
    {
     "data": {
      "text/latex": [
       "$\\displaystyle \\frac{637 \\varepsilon^{3} u^{7}}{90000} + \\frac{\\varepsilon^{2} u^{3} \\cdot \\left(4223 u^{2} + 4588 u_{1}^{2}\\right)}{360000} + \\frac{\\varepsilon u \\left(983 u^{2} + 812 u_{1}^{2}\\right)}{180000} + \\frac{97 u}{120000}$"
      ],
      "text/plain": [
       "637*\\varepsilon**3*u**7/90000 + \\varepsilon**2*u**3*(4223*u**2 + 4588*u1**2)/360000 + \\varepsilon*u*(983*u**2 + 812*u1**2)/180000 + 97*u/120000"
      ]
     },
     "metadata": {},
     "output_type": "display_data"
    },
    {
     "name": "stdout",
     "output_type": "stream",
     "text": [
      "h^5 =>\n"
     ]
    },
    {
     "data": {
      "text/latex": [
       "$\\displaystyle - \\frac{44393 \\varepsilon^{3} u^{6} u_{1}}{1620000} - \\frac{\\varepsilon^{2} u^{2} u_{1} \\cdot \\left(469708 u^{2} + 115551 u_{1}^{2}\\right)}{16200000} - \\frac{\\varepsilon u_{1} \\cdot \\left(150518 u^{2} - 49857 u_{1}^{2}\\right)}{16200000} - \\frac{77 u_{1}}{90000}$"
      ],
      "text/plain": [
       "-44393*\\varepsilon**3*u**6*u1/1620000 - \\varepsilon**2*u**2*u1*(469708*u**2 + 115551*u1**2)/16200000 - \\varepsilon*u1*(150518*u**2 - 49857*u1**2)/16200000 - 77*u1/90000"
      ]
     },
     "metadata": {},
     "output_type": "display_data"
    },
    {
     "name": "stdout",
     "output_type": "stream",
     "text": [
      "\\varepsilon u^{3} + u + u1_{t}\n",
      "+h\\big(\n",
      "0\n",
      "\\big)\n",
      "+h^2\\big(\n",
      "0\n",
      "\\big)\n",
      "+h^3\\big(\n",
      "0\n",
      "\\big)\n",
      "+h^4\\big(\n",
      "\\frac{637 \\varepsilon^{3} u^{7}}{90000} + \\frac{\\varepsilon^{2} u^{3} \\cdot \\left(4223 u^{2} + 4588 u_{1}^{2}\\right)}{360000} + \\frac{\\varepsilon u \\left(983 u^{2} + 812 u_{1}^{2}\\right)}{180000} + \\frac{97 u}{120000}\n",
      "\\big)\n",
      "+h^5\\big(\n",
      "- \\frac{44393 \\varepsilon^{3} u^{6} u_{1}}{1620000} - \\frac{\\varepsilon^{2} u^{2} u_{1} \\cdot \\left(469708 u^{2} + 115551 u_{1}^{2}\\right)}{16200000} - \\frac{\\varepsilon u_{1} \\cdot \\left(150518 u^{2} - 49857 u_{1}^{2}\\right)}{16200000} - \\frac{77 u_{1}}{90000}\n",
      "\\big)\n"
     ]
    }
   ],
   "source": [
    "f2 = NF(F2, [u.diff(t), u1.diff(t)], [F1, F2], head=False)\n",
    "prn(f2, eps)\n",
    "prnlatex(f2, eps)"
   ]
  },
  {
   "cell_type": "code",
   "execution_count": 46,
   "id": "d3400d06",
   "metadata": {
    "scrolled": true
   },
   "outputs": [
    {
     "name": "stdout",
     "output_type": "stream",
     "text": [
      "h^0 =>\n"
     ]
    },
    {
     "data": {
      "text/latex": [
       "$\\displaystyle 0$"
      ],
      "text/plain": [
       "0"
      ]
     },
     "metadata": {},
     "output_type": "display_data"
    },
    {
     "name": "stdout",
     "output_type": "stream",
     "text": [
      "h^1 =>\n"
     ]
    },
    {
     "data": {
      "text/latex": [
       "$\\displaystyle \\varepsilon u^{3} u_{t} + u u_{t} + u_{1} u1_{t}$"
      ],
      "text/plain": [
       "\\varepsilon*u**3*u_{t} + u*u_{t} + u1*u1_{t}"
      ]
     },
     "metadata": {},
     "output_type": "display_data"
    },
    {
     "name": "stdout",
     "output_type": "stream",
     "text": [
      "h^2 =>\n"
     ]
    },
    {
     "data": {
      "text/latex": [
       "$\\displaystyle \\frac{\\varepsilon u^{2} \\left(u u_{tt} + 3 u_{t}^{2}\\right)}{2} + \\frac{u u_{tt} + u_{1} u1_{tt} + u1_{t}^{2} + u_{t}^{2}}{2}$"
      ],
      "text/plain": [
       "\\varepsilon*u**2*(u*u_{tt} + 3*u_{t}**2)/2 + (u*u_{tt} + u1*u1_{tt} + u1_{t}**2 + u_{t}**2)/2"
      ]
     },
     "metadata": {},
     "output_type": "display_data"
    },
    {
     "name": "stdout",
     "output_type": "stream",
     "text": [
      "h^3 =>\n"
     ]
    },
    {
     "data": {
      "text/latex": [
       "$\\displaystyle \\frac{\\varepsilon u \\left(u^{2} u_{ttt} + 9 u u_{tt} u_{t} + 6 u_{t}^{3}\\right)}{6} + \\frac{u u_{ttt} + u_{1} u1_{ttt} + 3 u1_{tt} u1_{t} + 3 u_{tt} u_{t}}{6}$"
      ],
      "text/plain": [
       "\\varepsilon*u*(u**2*u_{ttt} + 9*u*u_{tt}*u_{t} + 6*u_{t}**3)/6 + (u*u_{ttt} + u1*u1_{ttt} + 3*u1_{tt}*u1_{t} + 3*u_{tt}*u_{t})/6"
      ]
     },
     "metadata": {},
     "output_type": "display_data"
    },
    {
     "name": "stdout",
     "output_type": "stream",
     "text": [
      "h^4 =>\n"
     ]
    },
    {
     "data": {
      "text/latex": [
       "$\\displaystyle \\frac{\\varepsilon \\left(u^{3} u_{tttt} + 12 u^{2} u_{ttt} u_{t} + 9 u^{2} u_{tt}^{2} + 36 u u_{tt} u_{t}^{2} + 6 u_{t}^{4}\\right)}{24} + \\frac{u u_{tttt} + u_{1} u1_{tttt} + 4 u1_{ttt} u1_{t} + 3 u1_{tt}^{2} + 4 u_{ttt} u_{t} + 3 u_{tt}^{2}}{24}$"
      ],
      "text/plain": [
       "\\varepsilon*(u**3*u_{tttt} + 12*u**2*u_{ttt}*u_{t} + 9*u**2*u_{tt}**2 + 36*u*u_{tt}*u_{t}**2 + 6*u_{t}**4)/24 + (u*u_{tttt} + u1*u1_{tttt} + 4*u1_{ttt}*u1_{t} + 3*u1_{tt}**2 + 4*u_{ttt}*u_{t} + 3*u_{tt}**2)/24"
      ]
     },
     "metadata": {},
     "output_type": "display_data"
    },
    {
     "name": "stdout",
     "output_type": "stream",
     "text": [
      "h^5 =>\n"
     ]
    },
    {
     "data": {
      "text/latex": [
       "$\\displaystyle \\frac{\\varepsilon \\left(u^{3} u_{ttttt} + 15 u^{2} u_{tttt} u_{t} + 30 u^{2} u_{ttt} u_{tt} + 60 u u_{ttt} u_{t}^{2} + 90 u u_{tt}^{2} u_{t} + 60 u_{tt} u_{t}^{3}\\right)}{120} + \\frac{u u_{ttttt} + u_{1} u1_{ttttt} + 5 u1_{tttt} u1_{t} + 10 u1_{ttt} u1_{tt} + 5 u_{tttt} u_{t} + 10 u_{ttt} u_{tt}}{120}$"
      ],
      "text/plain": [
       "\\varepsilon*(u**3*u_{ttttt} + 15*u**2*u_{tttt}*u_{t} + 30*u**2*u_{ttt}*u_{tt} + 60*u*u_{ttt}*u_{t}**2 + 90*u*u_{tt}**2*u_{t} + 60*u_{tt}*u_{t}**3)/120 + (u*u_{ttttt} + u1*u1_{ttttt} + 5*u1_{tttt}*u1_{t} + 10*u1_{ttt}*u1_{tt} + 5*u_{tttt}*u_{t} + 10*u_{ttt}*u_{tt})/120"
      ]
     },
     "metadata": {},
     "output_type": "display_data"
    },
    {
     "name": "stdout",
     "output_type": "stream",
     "text": [
      "0\n",
      "+h\\big(\n",
      "\\varepsilon u^{3} u_{t} + u u_{t} + u_{1} u1_{t}\n",
      "\\big)\n",
      "+h^2\\big(\n",
      "\\frac{\\varepsilon u^{2} \\left(u u_{tt} + 3 u_{t}^{2}\\right)}{2} + \\frac{u u_{tt} + u_{1} u1_{tt} + u1_{t}^{2} + u_{t}^{2}}{2}\n",
      "\\big)\n",
      "+h^3\\big(\n",
      "\\frac{\\varepsilon u \\left(u^{2} u_{ttt} + 9 u u_{tt} u_{t} + 6 u_{t}^{3}\\right)}{6} + \\frac{u u_{ttt} + u_{1} u1_{ttt} + 3 u1_{tt} u1_{t} + 3 u_{tt} u_{t}}{6}\n",
      "\\big)\n",
      "+h^4\\big(\n",
      "\\frac{\\varepsilon \\left(u^{3} u_{tttt} + 12 u^{2} u_{ttt} u_{t} + 9 u^{2} u_{tt}^{2} + 36 u u_{tt} u_{t}^{2} + 6 u_{t}^{4}\\right)}{24} + \\frac{u u_{tttt} + u_{1} u1_{tttt} + 4 u1_{ttt} u1_{t} + 3 u1_{tt}^{2} + 4 u_{ttt} u_{t} + 3 u_{tt}^{2}}{24}\n",
      "\\big)\n",
      "+h^5\\big(\n",
      "\\frac{\\varepsilon \\left(u^{3} u_{ttttt} + 15 u^{2} u_{tttt} u_{t} + 30 u^{2} u_{ttt} u_{tt} + 60 u u_{ttt} u_{t}^{2} + 90 u u_{tt}^{2} u_{t} + 60 u_{tt} u_{t}^{3}\\right)}{120} + \\frac{u u_{ttttt} + u_{1} u1_{ttttt} + 5 u1_{tttt} u1_{t} + 10 u1_{ttt} u1_{tt} + 5 u_{tttt} u_{t} + 10 u_{ttt} u_{tt}}{120}\n",
      "\\big)\n"
     ]
    }
   ],
   "source": [
    "F3 = clip((T(u1, 1)**2/2 + T(u, 1)**2/2 + eps*T(u, 1)**4/4) -\\\n",
    "          (T(u1, 0)**2/2 + T(u, 0)**2/2 + eps*T(u, 0)**4/4))\n",
    "prn(F3, eps)\n",
    "prnlatex(F3, eps)"
   ]
  },
  {
   "cell_type": "code",
   "execution_count": 47,
   "id": "ba806f98",
   "metadata": {
    "scrolled": true
   },
   "outputs": [
    {
     "name": "stdout",
     "output_type": "stream",
     "text": [
      "h^0 =>\n"
     ]
    },
    {
     "data": {
      "text/latex": [
       "$\\displaystyle 0$"
      ],
      "text/plain": [
       "0"
      ]
     },
     "metadata": {},
     "output_type": "display_data"
    },
    {
     "name": "stdout",
     "output_type": "stream",
     "text": [
      "h^1 =>\n"
     ]
    },
    {
     "data": {
      "text/latex": [
       "$\\displaystyle 0$"
      ],
      "text/plain": [
       "0"
      ]
     },
     "metadata": {},
     "output_type": "display_data"
    },
    {
     "name": "stdout",
     "output_type": "stream",
     "text": [
      "h^2 =>\n"
     ]
    },
    {
     "data": {
      "text/latex": [
       "$\\displaystyle 0$"
      ],
      "text/plain": [
       "0"
      ]
     },
     "metadata": {},
     "output_type": "display_data"
    },
    {
     "name": "stdout",
     "output_type": "stream",
     "text": [
      "h^3 =>\n"
     ]
    },
    {
     "data": {
      "text/latex": [
       "$\\displaystyle 0$"
      ],
      "text/plain": [
       "0"
      ]
     },
     "metadata": {},
     "output_type": "display_data"
    },
    {
     "name": "stdout",
     "output_type": "stream",
     "text": [
      "h^4 =>\n"
     ]
    },
    {
     "data": {
      "text/latex": [
       "$\\displaystyle 0$"
      ],
      "text/plain": [
       "0"
      ]
     },
     "metadata": {},
     "output_type": "display_data"
    },
    {
     "name": "stdout",
     "output_type": "stream",
     "text": [
      "h^5 =>\n"
     ]
    },
    {
     "data": {
      "text/latex": [
       "$\\displaystyle \\frac{737 \\varepsilon^{3} u^{7} u_{1}}{360000} + \\frac{\\varepsilon^{2} u^{3} u_{1} \\cdot \\left(737 u^{2} - 2405 u_{1}^{2}\\right)}{180000} + \\frac{\\varepsilon u u_{1} \\cdot \\left(737 u^{2} - 1846 u_{1}^{2}\\right)}{360000}$"
      ],
      "text/plain": [
       "737*\\varepsilon**3*u**7*u1/360000 + \\varepsilon**2*u**3*u1*(737*u**2 - 2405*u1**2)/180000 + \\varepsilon*u*u1*(737*u**2 - 1846*u1**2)/360000"
      ]
     },
     "metadata": {},
     "output_type": "display_data"
    },
    {
     "name": "stdout",
     "output_type": "stream",
     "text": [
      "0\n",
      "+h\\big(\n",
      "0\n",
      "\\big)\n",
      "+h^2\\big(\n",
      "0\n",
      "\\big)\n",
      "+h^3\\big(\n",
      "0\n",
      "\\big)\n",
      "+h^4\\big(\n",
      "0\n",
      "\\big)\n",
      "+h^5\\big(\n",
      "\\frac{737 \\varepsilon^{3} u^{7} u_{1}}{360000} + \\frac{\\varepsilon^{2} u^{3} u_{1} \\cdot \\left(737 u^{2} - 2405 u_{1}^{2}\\right)}{180000} + \\frac{\\varepsilon u u_{1} \\cdot \\left(737 u^{2} - 1846 u_{1}^{2}\\right)}{360000}\n",
      "\\big)\n"
     ]
    }
   ],
   "source": [
    "f3 = NF(F3, [u.diff(t), u1.diff(t)], [f1, f2], head=False)\n",
    "prn(f3, eps)\n",
    "prnlatex(f3, eps)"
   ]
  }
 ],
 "metadata": {
  "kernelspec": {
   "display_name": "Python 3 (ipykernel)",
   "language": "python",
   "name": "python3"
  },
  "language_info": {
   "codemirror_mode": {
    "name": "ipython",
    "version": 3
   },
   "file_extension": ".py",
   "mimetype": "text/x-python",
   "name": "python",
   "nbconvert_exporter": "python",
   "pygments_lexer": "ipython3",
   "version": "3.10.7"
  }
 },
 "nbformat": 4,
 "nbformat_minor": 5
}
