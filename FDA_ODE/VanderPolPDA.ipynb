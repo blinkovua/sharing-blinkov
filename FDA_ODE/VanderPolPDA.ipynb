{
 "cells": [
  {
   "cell_type": "code",
   "execution_count": 1,
   "id": "9f78c78b",
   "metadata": {},
   "outputs": [],
   "source": [
    "%run Runge_Adams_FDA.ipynb"
   ]
  },
  {
   "cell_type": "code",
   "execution_count": 2,
   "id": "40084236",
   "metadata": {},
   "outputs": [],
   "source": [
    "mu, t, h, l = symbols(r'\\mu, t, h, \\lambda', real=True)\n",
    "u, u1 = symbols('u, u1', cls=Function)"
   ]
  },
  {
   "cell_type": "code",
   "execution_count": 3,
   "id": "a8743483",
   "metadata": {},
   "outputs": [
    {
     "data": {
      "text/latex": [
       "$\\displaystyle \\mu \\left(u^{2}{\\left(t \\right)} - 1\\right) \\frac{d}{d t} u{\\left(t \\right)} + u{\\left(t \\right)} + \\frac{d^{2}}{d t^{2}} u{\\left(t \\right)}$"
      ],
      "text/plain": [
       "\\mu*(u(t)**2 - 1)*Derivative(u(t), t) + u(t) + Derivative(u(t), (t, 2))"
      ]
     },
     "execution_count": 3,
     "metadata": {},
     "output_type": "execute_result"
    }
   ],
   "source": [
    "eq = u(t).diff(t, 2) + mu*(u(t)**2 - 1)*u(t).diff(t) + u(t)\n",
    "eq"
   ]
  },
  {
   "cell_type": "code",
   "execution_count": 4,
   "id": "1041cabe",
   "metadata": {},
   "outputs": [],
   "source": [
    "init((u(t), u1(t)), t, h)\n",
    "set_clip(8, 7, Rational(0, 1))"
   ]
  },
  {
   "cell_type": "code",
   "execution_count": 5,
   "id": "41dd0268",
   "metadata": {},
   "outputs": [
    {
     "data": {
      "text/latex": [
       "$\\displaystyle \\frac{h^{6} \\frac{d^{7}}{d t^{7}} u{\\left(t \\right)}}{5040} + \\frac{h^{4} \\frac{d^{5}}{d t^{5}} u{\\left(t \\right)}}{120} + \\frac{h^{2} \\frac{d^{3}}{d t^{3}} u{\\left(t \\right)}}{6} + \\frac{d}{d t} u{\\left(t \\right)}$"
      ],
      "text/plain": [
       "h**6*Derivative(u(t), (t, 7))/5040 + h**4*Derivative(u(t), (t, 5))/120 + h**2*Derivative(u(t), (t, 3))/6 + Derivative(u(t), t)"
      ]
     },
     "execution_count": 5,
     "metadata": {},
     "output_type": "execute_result"
    }
   ],
   "source": [
    "expand((T(u(t+h) - u(t-h)))/(2*h))"
   ]
  },
  {
   "cell_type": "code",
   "execution_count": 6,
   "id": "a6a7407d",
   "metadata": {},
   "outputs": [],
   "source": [
    "def CompactAdamsBashforth5(g, y):\n",
    "#     return expand(-10*g(y)/3 - 22*g(y.subs(t, t+h))/3 + 8*g(y.subs(t, t+2*h))/3)\n",
    "    return expand(-10*g(y)/3 - 22*g(y.subs(t, t+h))/3 + 8*g(y.subs(t, t+2*h))/3  + (-9*y + 9*y.subs(t, t+h))/h)\n",
    "\n",
    "def CompactAdamsBashforth7(g, y):\n",
    "    return expand(-87*g(y)/11 - 651*g(y.subs(t, t+h))/11 - 387*g(y.subs(t, t+2*h))/11\\\n",
    "        + 45*g(y.subs(t, t+3*h))/11) + (-28*y - 475*y.subs(t, t+h)/11 + 783*y.subs(t, t+2*h)/11)/h"
   ]
  },
  {
   "cell_type": "code",
   "execution_count": 7,
   "id": "infrared-drink",
   "metadata": {},
   "outputs": [],
   "source": [
    "rs2, rs3 = symbols(r'rs_2, rs_3', real=True)\n",
    "def AdamsBashforthP4(g, y):\n",
    "    return expand((Rational(23,12) - rs3)*g(y) + (3*rs3 - Rational(16,3))*g(y.subs(t, t+h))\\\n",
    "                  + (Rational(53,12) - 3*rs3)*g(y.subs(t, t+2*h))  + rs3*g(y.subs(t, t+3*h)))\n",
    "\n",
    "def AdamsBashforthPP4(g, y):\n",
    "    return expand((rs2 + 2*rs3 - Rational(5, 2))*g(y) + (-2*rs2 - 3*rs3 + Rational(7,2))*g(y.subs(t, t+h))\\\n",
    "                  + rs2*g(y.subs(t, t+2*h))  + rs3*g(y.subs(t, t+3*h)))"
   ]
  },
  {
   "cell_type": "code",
   "execution_count": 8,
   "id": "7ba99bb0",
   "metadata": {},
   "outputs": [],
   "source": [
    "def g(y):\n",
    "    return Matrix([\\\n",
    "        y[1],\\\n",
    "        -mu*(y[0]**2 - 1)*y[1] - y[0],\\\n",
    "    ])\n",
    "\n",
    "def f(y):\n",
    "    return Matrix([\\\n",
    "        T(y[1]),\\\n",
    "        T(-mu*(y[0]**2 - 1)*y[1] - y[0]),\\\n",
    "    ])\n",
    "    \n",
    "s = (('u(t)', 'y[0]'), ('u1(t)', 'y[1]'), (r'\\mu', 'mu'))\n",
    "def replace(r):\n",
    "    for a, b in s:\n",
    "        r = r.replace(a, b)\n",
    "    return r"
   ]
  },
  {
   "cell_type": "code",
   "execution_count": 9,
   "id": "c1690ee1",
   "metadata": {},
   "outputs": [],
   "source": [
    "start = time.time()"
   ]
  },
  {
   "cell_type": "markdown",
   "id": "3493ee4b",
   "metadata": {},
   "source": [
    "## Gauss–Legendre method"
   ]
  },
  {
   "cell_type": "code",
   "execution_count": 10,
   "id": "b901bdc4",
   "metadata": {},
   "outputs": [],
   "source": [
    "set_clip(4, 3, Rational(0, 1))\n",
    "r = GaussLegendre2(g, Matrix([u(t), u1(t)]))"
   ]
  },
  {
   "cell_type": "code",
   "execution_count": 11,
   "id": "a3d52e59",
   "metadata": {},
   "outputs": [
    {
     "name": "stdout",
     "output_type": "stream",
     "text": [
      "h^0 =>\n"
     ]
    },
    {
     "data": {
      "text/latex": [
       "$\\displaystyle - u_{1} + u_{t}$"
      ],
      "text/plain": [
       "-u1 + u_{t}"
      ]
     },
     "metadata": {},
     "output_type": "display_data"
    },
    {
     "name": "stdout",
     "output_type": "stream",
     "text": [
      "h^1 =>\n"
     ]
    },
    {
     "data": {
      "text/latex": [
       "$\\displaystyle - \\frac{u1_{t} - u_{tt}}{2}$"
      ],
      "text/plain": [
       "-(u1_{t} - u_{tt})/2"
      ]
     },
     "metadata": {},
     "output_type": "display_data"
    },
    {
     "name": "stdout",
     "output_type": "stream",
     "text": [
      "h^2 =>\n"
     ]
    },
    {
     "data": {
      "text/latex": [
       "$\\displaystyle - \\frac{3 u1_{tt} - 2 u_{ttt}}{12}$"
      ],
      "text/plain": [
       "-(3*u1_{tt} - 2*u_{ttt})/12"
      ]
     },
     "metadata": {},
     "output_type": "display_data"
    },
    {
     "name": "stdout",
     "output_type": "stream",
     "text": [
      "- u_{1} + u_{t}\n",
      "+h\\left(\n",
      "- \\frac{u1_{t} - u_{tt}}{2}\n",
      "\\right)\n",
      "+h^2\\left(\n",
      "- \\frac{3 u1_{tt} - 2 u_{ttt}}{12}\n",
      "\\right)\n"
     ]
    }
   ],
   "source": [
    "F1 = clip((T(u(t+h))-T(u(t)))/h  - T(r[0]))\n",
    "prn(F1, mu)\n",
    "prnlatex(F1, mu)"
   ]
  },
  {
   "cell_type": "code",
   "execution_count": 12,
   "id": "2270f553",
   "metadata": {},
   "outputs": [
    {
     "name": "stdout",
     "output_type": "stream",
     "text": [
      "h^0 =>\n"
     ]
    },
    {
     "data": {
      "text/latex": [
       "$\\displaystyle \\mu u_{1} \\left(u - 1\\right) \\left(u + 1\\right) + u + u1_{t}$"
      ],
      "text/plain": [
       "\\mu*u1*(u - 1)*(u + 1) + u + u1_{t}"
      ]
     },
     "metadata": {},
     "output_type": "display_data"
    },
    {
     "name": "stdout",
     "output_type": "stream",
     "text": [
      "h^1 =>\n"
     ]
    },
    {
     "data": {
      "text/latex": [
       "$\\displaystyle \\frac{\\mu \\left(u^{2} u1_{t} + 2 u u_{1} u_{t} - u1_{t}\\right)}{2} + \\frac{u1_{tt} + u_{t}}{2}$"
      ],
      "text/plain": [
       "\\mu*(u**2*u1_{t} + 2*u*u1*u_{t} - u1_{t})/2 + (u1_{tt} + u_{t})/2"
      ]
     },
     "metadata": {},
     "output_type": "display_data"
    },
    {
     "name": "stdout",
     "output_type": "stream",
     "text": [
      "h^2 =>\n"
     ]
    },
    {
     "data": {
      "text/latex": [
       "$\\displaystyle \\frac{\\mu \\left(u^{2} u1_{tt} + 2 u u_{1} u_{tt} + 2 u u1_{t} u_{t} + u_{1} u_{t}^{2} - u1_{tt}\\right)}{4} + \\frac{2 u1_{ttt} + 3 u_{tt}}{12}$"
      ],
      "text/plain": [
       "\\mu*(u**2*u1_{tt} + 2*u*u1*u_{tt} + 2*u*u1_{t}*u_{t} + u1*u_{t}**2 - u1_{tt})/4 + (2*u1_{ttt} + 3*u_{tt})/12"
      ]
     },
     "metadata": {},
     "output_type": "display_data"
    },
    {
     "name": "stdout",
     "output_type": "stream",
     "text": [
      "\\mu u_{1} \\left(u - 1\\right) \\left(u + 1\\right) + u + u1_{t}\n",
      "+h\\left(\n",
      "\\frac{\\mu \\left(u^{2} u1_{t} + 2 u u_{1} u_{t} - u1_{t}\\right)}{2} + \\frac{u1_{tt} + u_{t}}{2}\n",
      "\\right)\n",
      "+h^2\\left(\n",
      "\\frac{\\mu \\left(u^{2} u1_{tt} + 2 u u_{1} u_{tt} + 2 u u1_{t} u_{t} + u_{1} u_{t}^{2} - u1_{tt}\\right)}{4} + \\frac{2 u1_{ttt} + 3 u_{tt}}{12}\n",
      "\\right)\n"
     ]
    }
   ],
   "source": [
    "F2 = clip((T(u1(t+h))-T(u1(t)))/h  - T(r[1]))\n",
    "prn(F2, mu)\n",
    "prnlatex(F2, mu)"
   ]
  },
  {
   "cell_type": "code",
   "execution_count": 13,
   "id": "4494d1aa",
   "metadata": {},
   "outputs": [
    {
     "name": "stdout",
     "output_type": "stream",
     "text": [
      "h^0 =>\n"
     ]
    },
    {
     "data": {
      "text/latex": [
       "$\\displaystyle - u_{1} + u_{t}$"
      ],
      "text/plain": [
       "-u1 + u_{t}"
      ]
     },
     "metadata": {},
     "output_type": "display_data"
    },
    {
     "name": "stdout",
     "output_type": "stream",
     "text": [
      "h^1 =>\n"
     ]
    },
    {
     "data": {
      "text/latex": [
       "$\\displaystyle 0$"
      ],
      "text/plain": [
       "0"
      ]
     },
     "metadata": {},
     "output_type": "display_data"
    },
    {
     "name": "stdout",
     "output_type": "stream",
     "text": [
      "h^2 =>\n"
     ]
    },
    {
     "data": {
      "text/latex": [
       "$\\displaystyle - \\frac{\\mu^{2} u_{1} \\left(u - 1\\right)^{2} \\left(u + 1\\right)^{2}}{12} - \\frac{\\mu u \\left(u^{2} - 2 u_{1}^{2} - 1\\right)}{12} + \\frac{u_{1}}{12}$"
      ],
      "text/plain": [
       "-\\mu**2*u1*(u - 1)**2*(u + 1)**2/12 - \\mu*u*(u**2 - 2*u1**2 - 1)/12 + u1/12"
      ]
     },
     "metadata": {},
     "output_type": "display_data"
    },
    {
     "name": "stdout",
     "output_type": "stream",
     "text": [
      "- u_{1} + u_{t}\n",
      "+h\\left(\n",
      "0\n",
      "\\right)\n",
      "+h^2\\left(\n",
      "- \\frac{\\mu^{2} u_{1} \\left(u - 1\\right)^{2} \\left(u + 1\\right)^{2}}{12} - \\frac{\\mu u \\left(u^{2} - 2 u_{1}^{2} - 1\\right)}{12} + \\frac{u_{1}}{12}\n",
      "\\right)\n"
     ]
    }
   ],
   "source": [
    "f1 = NF(F1, [u(t).diff(t), u1(t).diff(t)], [F1, F2], head=False)\n",
    "prn(f1, mu)\n",
    "prnlatex(f1, mu)"
   ]
  },
  {
   "cell_type": "code",
   "execution_count": 14,
   "id": "c476d4d5",
   "metadata": {
    "scrolled": true
   },
   "outputs": [
    {
     "name": "stdout",
     "output_type": "stream",
     "text": [
      "h^0 =>\n"
     ]
    },
    {
     "data": {
      "text/latex": [
       "$\\displaystyle \\mu u_{1} \\left(u - 1\\right) \\left(u + 1\\right) + u + u1_{t}$"
      ],
      "text/plain": [
       "\\mu*u1*(u - 1)*(u + 1) + u + u1_{t}"
      ]
     },
     "metadata": {},
     "output_type": "display_data"
    },
    {
     "name": "stdout",
     "output_type": "stream",
     "text": [
      "h^1 =>\n"
     ]
    },
    {
     "data": {
      "text/latex": [
       "$\\displaystyle 0$"
      ],
      "text/plain": [
       "0"
      ]
     },
     "metadata": {},
     "output_type": "display_data"
    },
    {
     "name": "stdout",
     "output_type": "stream",
     "text": [
      "h^2 =>\n"
     ]
    },
    {
     "data": {
      "text/latex": [
       "$\\displaystyle \\frac{\\mu^{3} u_{1} \\left(u - 1\\right)^{3} \\left(u + 1\\right)^{3}}{12} + \\frac{\\mu^{2} u \\left(u - 1\\right) \\left(u + 1\\right) \\left(u^{2} - 2 u_{1}^{2} - 1\\right)}{12} - \\frac{\\mu u_{1} \\left(2 u^{2} + u_{1}^{2} - 2\\right)}{12} - \\frac{u}{12}$"
      ],
      "text/plain": [
       "\\mu**3*u1*(u - 1)**3*(u + 1)**3/12 + \\mu**2*u*(u - 1)*(u + 1)*(u**2 - 2*u1**2 - 1)/12 - \\mu*u1*(2*u**2 + u1**2 - 2)/12 - u/12"
      ]
     },
     "metadata": {},
     "output_type": "display_data"
    },
    {
     "name": "stdout",
     "output_type": "stream",
     "text": [
      "\\mu u_{1} \\left(u - 1\\right) \\left(u + 1\\right) + u + u1_{t}\n",
      "+h\\left(\n",
      "0\n",
      "\\right)\n",
      "+h^2\\left(\n",
      "\\frac{\\mu^{3} u_{1} \\left(u - 1\\right)^{3} \\left(u + 1\\right)^{3}}{12} + \\frac{\\mu^{2} u \\left(u - 1\\right) \\left(u + 1\\right) \\left(u^{2} - 2 u_{1}^{2} - 1\\right)}{12} - \\frac{\\mu u_{1} \\left(2 u^{2} + u_{1}^{2} - 2\\right)}{12} - \\frac{u}{12}\n",
      "\\right)\n"
     ]
    }
   ],
   "source": [
    "f2 = NF(F2, [u(t).diff(t), u1(t).diff(t)], [F1, F2], head=False)\n",
    "prn(f2, mu)\n",
    "prnlatex(f2, mu)"
   ]
  },
  {
   "cell_type": "code",
   "execution_count": 15,
   "id": "1fd53a81",
   "metadata": {},
   "outputs": [
    {
     "data": {
      "text/plain": [
       "'mu**3*(y[0]**6*y[1]/12 - y[0]**4*y[1]/4 + y[0]**2*y[1]/4 - y[1]/12) + mu**2*(y[0]**5/12 - y[0]**3*y[1]**2/6 - y[0]**3/6 + y[0]*y[1]**2/6 + y[0]/12) + mu*(-y[0]**2*y[1]/6 - y[1]**3/12 + y[1]/6) - y[0]/12'"
      ]
     },
     "execution_count": 15,
     "metadata": {},
     "output_type": "execute_result"
    }
   ],
   "source": [
    "replace(str(f2[2].collect(mu)))"
   ]
  },
  {
   "cell_type": "markdown",
   "id": "b10450db",
   "metadata": {},
   "source": [
    "## Crank–Nicolson method"
   ]
  },
  {
   "cell_type": "code",
   "execution_count": 16,
   "id": "5c7faaab",
   "metadata": {},
   "outputs": [],
   "source": [
    "set_clip(4, 3, Rational(0, 1))\n",
    "r = CrankNicolson2(g, Matrix([u(t), u1(t)]))"
   ]
  },
  {
   "cell_type": "code",
   "execution_count": 17,
   "id": "ac187167",
   "metadata": {},
   "outputs": [
    {
     "name": "stdout",
     "output_type": "stream",
     "text": [
      "h^0 =>\n"
     ]
    },
    {
     "data": {
      "text/latex": [
       "$\\displaystyle - u_{1} + u_{t}$"
      ],
      "text/plain": [
       "-u1 + u_{t}"
      ]
     },
     "metadata": {},
     "output_type": "display_data"
    },
    {
     "name": "stdout",
     "output_type": "stream",
     "text": [
      "h^1 =>\n"
     ]
    },
    {
     "data": {
      "text/latex": [
       "$\\displaystyle - \\frac{u1_{t} - u_{tt}}{2}$"
      ],
      "text/plain": [
       "-(u1_{t} - u_{tt})/2"
      ]
     },
     "metadata": {},
     "output_type": "display_data"
    },
    {
     "name": "stdout",
     "output_type": "stream",
     "text": [
      "h^2 =>\n"
     ]
    },
    {
     "data": {
      "text/latex": [
       "$\\displaystyle - \\frac{3 u1_{tt} - 2 u_{ttt}}{12}$"
      ],
      "text/plain": [
       "-(3*u1_{tt} - 2*u_{ttt})/12"
      ]
     },
     "metadata": {},
     "output_type": "display_data"
    },
    {
     "name": "stdout",
     "output_type": "stream",
     "text": [
      "- u_{1} + u_{t}\n",
      "+h\\left(\n",
      "- \\frac{u1_{t} - u_{tt}}{2}\n",
      "\\right)\n",
      "+h^2\\left(\n",
      "- \\frac{3 u1_{tt} - 2 u_{ttt}}{12}\n",
      "\\right)\n"
     ]
    }
   ],
   "source": [
    "F1 = clip((T(u(t+h))-T(u(t)))/h  - T(r[0]))\n",
    "prn(F1, mu)\n",
    "prnlatex(F1, mu)"
   ]
  },
  {
   "cell_type": "code",
   "execution_count": 18,
   "id": "a517738d",
   "metadata": {},
   "outputs": [
    {
     "name": "stdout",
     "output_type": "stream",
     "text": [
      "h^0 =>\n"
     ]
    },
    {
     "data": {
      "text/latex": [
       "$\\displaystyle \\mu u_{1} \\left(u - 1\\right) \\left(u + 1\\right) + u + u1_{t}$"
      ],
      "text/plain": [
       "\\mu*u1*(u - 1)*(u + 1) + u + u1_{t}"
      ]
     },
     "metadata": {},
     "output_type": "display_data"
    },
    {
     "name": "stdout",
     "output_type": "stream",
     "text": [
      "h^1 =>\n"
     ]
    },
    {
     "data": {
      "text/latex": [
       "$\\displaystyle \\frac{\\mu \\left(u^{2} u1_{t} + 2 u u_{1} u_{t} - u1_{t}\\right)}{2} + \\frac{u1_{tt} + u_{t}}{2}$"
      ],
      "text/plain": [
       "\\mu*(u**2*u1_{t} + 2*u*u1*u_{t} - u1_{t})/2 + (u1_{tt} + u_{t})/2"
      ]
     },
     "metadata": {},
     "output_type": "display_data"
    },
    {
     "name": "stdout",
     "output_type": "stream",
     "text": [
      "h^2 =>\n"
     ]
    },
    {
     "data": {
      "text/latex": [
       "$\\displaystyle \\frac{\\mu \\left(u^{2} u1_{tt} + 2 u u_{1} u_{tt} + 4 u u1_{t} u_{t} + 2 u_{1} u_{t}^{2} - u1_{tt}\\right)}{4} + \\frac{2 u1_{ttt} + 3 u_{tt}}{12}$"
      ],
      "text/plain": [
       "\\mu*(u**2*u1_{tt} + 2*u*u1*u_{tt} + 4*u*u1_{t}*u_{t} + 2*u1*u_{t}**2 - u1_{tt})/4 + (2*u1_{ttt} + 3*u_{tt})/12"
      ]
     },
     "metadata": {},
     "output_type": "display_data"
    },
    {
     "name": "stdout",
     "output_type": "stream",
     "text": [
      "\\mu u_{1} \\left(u - 1\\right) \\left(u + 1\\right) + u + u1_{t}\n",
      "+h\\left(\n",
      "\\frac{\\mu \\left(u^{2} u1_{t} + 2 u u_{1} u_{t} - u1_{t}\\right)}{2} + \\frac{u1_{tt} + u_{t}}{2}\n",
      "\\right)\n",
      "+h^2\\left(\n",
      "\\frac{\\mu \\left(u^{2} u1_{tt} + 2 u u_{1} u_{tt} + 4 u u1_{t} u_{t} + 2 u_{1} u_{t}^{2} - u1_{tt}\\right)}{4} + \\frac{2 u1_{ttt} + 3 u_{tt}}{12}\n",
      "\\right)\n"
     ]
    }
   ],
   "source": [
    "F2 = clip((T(u1(t+h))-T(u1(t)))/h  - T(r[1]))\n",
    "prn(F2, mu)\n",
    "prnlatex(F2, mu)"
   ]
  },
  {
   "cell_type": "code",
   "execution_count": 19,
   "id": "4dfa1e97",
   "metadata": {},
   "outputs": [
    {
     "name": "stdout",
     "output_type": "stream",
     "text": [
      "h^0 =>\n"
     ]
    },
    {
     "data": {
      "text/latex": [
       "$\\displaystyle - u_{1} + u_{t}$"
      ],
      "text/plain": [
       "-u1 + u_{t}"
      ]
     },
     "metadata": {},
     "output_type": "display_data"
    },
    {
     "name": "stdout",
     "output_type": "stream",
     "text": [
      "h^1 =>\n"
     ]
    },
    {
     "data": {
      "text/latex": [
       "$\\displaystyle 0$"
      ],
      "text/plain": [
       "0"
      ]
     },
     "metadata": {},
     "output_type": "display_data"
    },
    {
     "name": "stdout",
     "output_type": "stream",
     "text": [
      "h^2 =>\n"
     ]
    },
    {
     "data": {
      "text/latex": [
       "$\\displaystyle - \\frac{\\mu^{2} u_{1} \\left(u - 1\\right)^{2} \\left(u + 1\\right)^{2}}{12} - \\frac{\\mu u \\left(u^{2} - 2 u_{1}^{2} - 1\\right)}{12} + \\frac{u_{1}}{12}$"
      ],
      "text/plain": [
       "-\\mu**2*u1*(u - 1)**2*(u + 1)**2/12 - \\mu*u*(u**2 - 2*u1**2 - 1)/12 + u1/12"
      ]
     },
     "metadata": {},
     "output_type": "display_data"
    },
    {
     "name": "stdout",
     "output_type": "stream",
     "text": [
      "- u_{1} + u_{t}\n",
      "+h\\left(\n",
      "0\n",
      "\\right)\n",
      "+h^2\\left(\n",
      "- \\frac{\\mu^{2} u_{1} \\left(u - 1\\right)^{2} \\left(u + 1\\right)^{2}}{12} - \\frac{\\mu u \\left(u^{2} - 2 u_{1}^{2} - 1\\right)}{12} + \\frac{u_{1}}{12}\n",
      "\\right)\n"
     ]
    }
   ],
   "source": [
    "f1 = NF(F1, [u(t).diff(t), u1(t).diff(t)], [F1, F2], head=False)\n",
    "prn(f1, mu)\n",
    "prnlatex(f1, mu)"
   ]
  },
  {
   "cell_type": "code",
   "execution_count": 20,
   "id": "21165b6e",
   "metadata": {
    "scrolled": true
   },
   "outputs": [
    {
     "name": "stdout",
     "output_type": "stream",
     "text": [
      "h^0 =>\n"
     ]
    },
    {
     "data": {
      "text/latex": [
       "$\\displaystyle \\mu u_{1} \\left(u - 1\\right) \\left(u + 1\\right) + u + u1_{t}$"
      ],
      "text/plain": [
       "\\mu*u1*(u - 1)*(u + 1) + u + u1_{t}"
      ]
     },
     "metadata": {},
     "output_type": "display_data"
    },
    {
     "name": "stdout",
     "output_type": "stream",
     "text": [
      "h^1 =>\n"
     ]
    },
    {
     "data": {
      "text/latex": [
       "$\\displaystyle 0$"
      ],
      "text/plain": [
       "0"
      ]
     },
     "metadata": {},
     "output_type": "display_data"
    },
    {
     "name": "stdout",
     "output_type": "stream",
     "text": [
      "h^2 =>\n"
     ]
    },
    {
     "data": {
      "text/latex": [
       "$\\displaystyle \\frac{\\mu^{3} u_{1} \\left(u - 1\\right)^{3} \\left(u + 1\\right)^{3}}{12} + \\frac{\\mu^{2} u \\left(u - 1\\right) \\left(u + 1\\right) \\left(u^{2} - 8 u_{1}^{2} - 1\\right)}{12} - \\frac{\\mu u_{1} \\left(4 u^{2} - u_{1}^{2} - 1\\right)}{6} - \\frac{u}{12}$"
      ],
      "text/plain": [
       "\\mu**3*u1*(u - 1)**3*(u + 1)**3/12 + \\mu**2*u*(u - 1)*(u + 1)*(u**2 - 8*u1**2 - 1)/12 - \\mu*u1*(4*u**2 - u1**2 - 1)/6 - u/12"
      ]
     },
     "metadata": {},
     "output_type": "display_data"
    },
    {
     "name": "stdout",
     "output_type": "stream",
     "text": [
      "\\mu u_{1} \\left(u - 1\\right) \\left(u + 1\\right) + u + u1_{t}\n",
      "+h\\left(\n",
      "0\n",
      "\\right)\n",
      "+h^2\\left(\n",
      "\\frac{\\mu^{3} u_{1} \\left(u - 1\\right)^{3} \\left(u + 1\\right)^{3}}{12} + \\frac{\\mu^{2} u \\left(u - 1\\right) \\left(u + 1\\right) \\left(u^{2} - 8 u_{1}^{2} - 1\\right)}{12} - \\frac{\\mu u_{1} \\left(4 u^{2} - u_{1}^{2} - 1\\right)}{6} - \\frac{u}{12}\n",
      "\\right)\n"
     ]
    }
   ],
   "source": [
    "f2 = NF(F2, [u(t).diff(t), u1(t).diff(t)], [F1, F2], head=False)\n",
    "prn(f2, mu)\n",
    "prnlatex(f2, mu)"
   ]
  },
  {
   "cell_type": "code",
   "execution_count": 21,
   "id": "e13de92d",
   "metadata": {},
   "outputs": [
    {
     "data": {
      "text/plain": [
       "'mu**3*(y[0]**6*y[1]/12 - y[0]**4*y[1]/4 + y[0]**2*y[1]/4 - y[1]/12) + mu**2*(y[0]**5/12 - 2*y[0]**3*y[1]**2/3 - y[0]**3/6 + 2*y[0]*y[1]**2/3 + y[0]/12) + mu*(-2*y[0]**2*y[1]/3 + y[1]**3/6 + y[1]/6) - y[0]/12'"
      ]
     },
     "execution_count": 21,
     "metadata": {},
     "output_type": "execute_result"
    }
   ],
   "source": [
    "replace(str(f2[2].collect(mu)))"
   ]
  },
  {
   "cell_type": "markdown",
   "id": "52ccdde8",
   "metadata": {},
   "source": [
    "## \"original\" Runge–Kutta method"
   ]
  },
  {
   "cell_type": "code",
   "execution_count": 23,
   "id": "9d78b19e",
   "metadata": {},
   "outputs": [],
   "source": [
    "set_clip(6, 5, Rational(0, 1))\n",
    "r = RungeKutta4(g, Matrix([u(t), u1(t)]))"
   ]
  },
  {
   "cell_type": "code",
   "execution_count": 33,
   "id": "650ecaf0",
   "metadata": {},
   "outputs": [
    {
     "name": "stdout",
     "output_type": "stream",
     "text": [
      "h^0 =>\n"
     ]
    },
    {
     "data": {
      "text/latex": [
       "$\\displaystyle u_{1}$"
      ],
      "text/plain": [
       "u1"
      ]
     },
     "metadata": {},
     "output_type": "display_data"
    },
    {
     "name": "stdout",
     "output_type": "stream",
     "text": [
      "h^1 =>\n"
     ]
    },
    {
     "data": {
      "text/latex": [
       "$\\displaystyle - \\frac{\\mu u_{1} \\left(u - 1\\right) \\left(u + 1\\right)}{2} - \\frac{u}{2}$"
      ],
      "text/plain": [
       "-\\mu*u1*(u - 1)*(u + 1)/2 - u/2"
      ]
     },
     "metadata": {},
     "output_type": "display_data"
    },
    {
     "name": "stdout",
     "output_type": "stream",
     "text": [
      "h^2 =>\n"
     ]
    },
    {
     "data": {
      "text/latex": [
       "$\\displaystyle \\frac{\\mu^{2} u_{1} \\left(u - 1\\right)^{2} \\left(u + 1\\right)^{2}}{6} + \\frac{\\mu u \\left(u^{2} - 2 u_{1}^{2} - 1\\right)}{6} - \\frac{u_{1}}{6}$"
      ],
      "text/plain": [
       "\\mu**2*u1*(u - 1)**2*(u + 1)**2/6 + \\mu*u*(u**2 - 2*u1**2 - 1)/6 - u1/6"
      ]
     },
     "metadata": {},
     "output_type": "display_data"
    },
    {
     "name": "stdout",
     "output_type": "stream",
     "text": [
      "h^3 =>\n"
     ]
    },
    {
     "data": {
      "text/latex": [
       "$\\displaystyle - \\frac{\\mu^{3} u_{1} \\left(u - 1\\right)^{3} \\left(u + 1\\right)^{3}}{24} - \\frac{\\mu^{2} u \\left(u - 1\\right) \\left(u + 1\\right) \\left(u^{2} - 8 u_{1}^{2} - 1\\right)}{24} + \\frac{\\mu u_{1} \\left(4 u^{2} - u_{1}^{2} - 1\\right)}{12} + \\frac{u}{24}$"
      ],
      "text/plain": [
       "-\\mu**3*u1*(u - 1)**3*(u + 1)**3/24 - \\mu**2*u*(u - 1)*(u + 1)*(u**2 - 8*u1**2 - 1)/24 + \\mu*u1*(4*u**2 - u1**2 - 1)/12 + u/24"
      ]
     },
     "metadata": {},
     "output_type": "display_data"
    },
    {
     "name": "stdout",
     "output_type": "stream",
     "text": [
      "h^4 =>\n"
     ]
    },
    {
     "data": {
      "text/latex": [
       "$\\displaystyle - \\frac{\\mu^{3} u u_{1}^{2} \\left(u - 1\\right)^{2} \\left(u + 1\\right)^{2}}{8} - \\frac{\\mu^{2} u_{1} \\left(8 u^{4} - 9 u^{2} u_{1}^{2} - 8 u^{2} + 5 u_{1}^{2}\\right)}{48} - \\frac{\\mu u \\left(u^{2} - 3 u_{1}^{2}\\right)}{24}$"
      ],
      "text/plain": [
       "-\\mu**3*u*u1**2*(u - 1)**2*(u + 1)**2/8 - \\mu**2*u1*(8*u**4 - 9*u**2*u1**2 - 8*u**2 + 5*u1**2)/48 - \\mu*u*(u**2 - 3*u1**2)/24"
      ]
     },
     "metadata": {},
     "output_type": "display_data"
    },
    {
     "name": "stdout",
     "output_type": "stream",
     "text": [
      "u_{1}\n",
      "+h\\left(\n",
      "- \\frac{\\mu u_{1} \\left(u - 1\\right) \\left(u + 1\\right)}{2} - \\frac{u}{2}\n",
      "\\right)\n",
      "+h^2\\left(\n",
      "\\frac{\\mu^{2} u_{1} \\left(u - 1\\right)^{2} \\left(u + 1\\right)^{2}}{6} + \\frac{\\mu u \\left(u^{2} - 2 u_{1}^{2} - 1\\right)}{6} - \\frac{u_{1}}{6}\n",
      "\\right)\n",
      "+h^3\\left(\n",
      "- \\frac{\\mu^{3} u_{1} \\left(u - 1\\right)^{3} \\left(u + 1\\right)^{3}}{24} - \\frac{\\mu^{2} u \\left(u - 1\\right) \\left(u + 1\\right) \\left(u^{2} - 8 u_{1}^{2} - 1\\right)}{24} + \\frac{\\mu u_{1} \\left(4 u^{2} - u_{1}^{2} - 1\\right)}{12} + \\frac{u}{24}\n",
      "\\right)\n",
      "+h^4\\left(\n",
      "- \\frac{\\mu^{3} u u_{1}^{2} \\left(u - 1\\right)^{2} \\left(u + 1\\right)^{2}}{8} - \\frac{\\mu^{2} u_{1} \\left(8 u^{4} - 9 u^{2} u_{1}^{2} - 8 u^{2} + 5 u_{1}^{2}\\right)}{48} - \\frac{\\mu u \\left(u^{2} - 3 u_{1}^{2}\\right)}{24}\n",
      "\\right)\n"
     ]
    }
   ],
   "source": [
    "prn(clip(r[0]), mu)\n",
    "prnlatex(clip(r[0]), mu)"
   ]
  },
  {
   "cell_type": "code",
   "execution_count": 32,
   "id": "b1cc9277",
   "metadata": {},
   "outputs": [
    {
     "name": "stdout",
     "output_type": "stream",
     "text": [
      "h^0 =>\n"
     ]
    },
    {
     "data": {
      "text/latex": [
       "$\\displaystyle - \\mu u_{1} \\left(u - 1\\right) \\left(u + 1\\right) - u$"
      ],
      "text/plain": [
       "-\\mu*u1*(u - 1)*(u + 1) - u"
      ]
     },
     "metadata": {},
     "output_type": "display_data"
    },
    {
     "name": "stdout",
     "output_type": "stream",
     "text": [
      "h^1 =>\n"
     ]
    },
    {
     "data": {
      "text/latex": [
       "$\\displaystyle \\frac{\\mu^{2} u_{1} \\left(u - 1\\right)^{2} \\left(u + 1\\right)^{2}}{2} + \\frac{\\mu u \\left(u^{2} - 2 u_{1}^{2} - 1\\right)}{2} - \\frac{u_{1}}{2}$"
      ],
      "text/plain": [
       "\\mu**2*u1*(u - 1)**2*(u + 1)**2/2 + \\mu*u*(u**2 - 2*u1**2 - 1)/2 - u1/2"
      ]
     },
     "metadata": {},
     "output_type": "display_data"
    },
    {
     "name": "stdout",
     "output_type": "stream",
     "text": [
      "h^2 =>\n"
     ]
    },
    {
     "data": {
      "text/latex": [
       "$\\displaystyle - \\frac{\\mu^{3} u_{1} \\left(u - 1\\right)^{3} \\left(u + 1\\right)^{3}}{6} - \\frac{\\mu^{2} u \\left(u - 1\\right) \\left(u + 1\\right) \\left(u^{2} - 8 u_{1}^{2} - 1\\right)}{6} + \\frac{\\mu u_{1} \\left(4 u^{2} - u_{1}^{2} - 1\\right)}{3} + \\frac{u}{6}$"
      ],
      "text/plain": [
       "-\\mu**3*u1*(u - 1)**3*(u + 1)**3/6 - \\mu**2*u*(u - 1)*(u + 1)*(u**2 - 8*u1**2 - 1)/6 + \\mu*u1*(4*u**2 - u1**2 - 1)/3 + u/6"
      ]
     },
     "metadata": {},
     "output_type": "display_data"
    },
    {
     "name": "stdout",
     "output_type": "stream",
     "text": [
      "h^3 =>\n"
     ]
    },
    {
     "data": {
      "text/latex": [
       "$\\displaystyle \\frac{\\mu^{4} u_{1} \\left(u - 1\\right)^{4} \\left(u + 1\\right)^{4}}{24} + \\frac{\\mu^{3} u \\left(u - 1\\right)^{2} \\left(u + 1\\right)^{2} \\left(u^{2} - 22 u_{1}^{2} - 1\\right)}{24} - \\frac{\\mu^{2} u_{1} \\left(29 u^{4} - 30 u^{2} u_{1}^{2} - 32 u^{2} + 14 u_{1}^{2} + 3\\right)}{24} - \\frac{\\mu u \\left(4 u^{2} - 11 u_{1}^{2} - 1\\right)}{12} + \\frac{u_{1}}{24}$"
      ],
      "text/plain": [
       "\\mu**4*u1*(u - 1)**4*(u + 1)**4/24 + \\mu**3*u*(u - 1)**2*(u + 1)**2*(u**2 - 22*u1**2 - 1)/24 - \\mu**2*u1*(29*u**4 - 30*u**2*u1**2 - 32*u**2 + 14*u1**2 + 3)/24 - \\mu*u*(4*u**2 - 11*u1**2 - 1)/12 + u1/24"
      ]
     },
     "metadata": {},
     "output_type": "display_data"
    },
    {
     "name": "stdout",
     "output_type": "stream",
     "text": [
      "h^4 =>\n"
     ]
    },
    {
     "data": {
      "text/latex": [
       "$\\displaystyle \\frac{5 \\mu^{4} u u_{1}^{2} \\left(u - 1\\right)^{3} \\left(u + 1\\right)^{3}}{12} + \\frac{\\mu^{3} u_{1} \\left(u - 1\\right) \\left(u + 1\\right) \\left(32 u^{4} - 83 u^{2} u_{1}^{2} - 32 u^{2} + 27 u_{1}^{2}\\right)}{48} + \\frac{\\mu^{2} u \\left(12 u^{4} - 105 u^{2} u_{1}^{2} - 12 u^{2} + 26 u_{1}^{4} + 61 u_{1}^{2}\\right)}{48} - \\frac{\\mu u_{1} \\left(29 u^{2} - 10 u_{1}^{2}\\right)}{48}$"
      ],
      "text/plain": [
       "5*\\mu**4*u*u1**2*(u - 1)**3*(u + 1)**3/12 + \\mu**3*u1*(u - 1)*(u + 1)*(32*u**4 - 83*u**2*u1**2 - 32*u**2 + 27*u1**2)/48 + \\mu**2*u*(12*u**4 - 105*u**2*u1**2 - 12*u**2 + 26*u1**4 + 61*u1**2)/48 - \\mu*u1*(29*u**2 - 10*u1**2)/48"
      ]
     },
     "metadata": {},
     "output_type": "display_data"
    },
    {
     "name": "stdout",
     "output_type": "stream",
     "text": [
      "- \\mu u_{1} \\left(u - 1\\right) \\left(u + 1\\right) - u\n",
      "+h\\left(\n",
      "\\frac{\\mu^{2} u_{1} \\left(u - 1\\right)^{2} \\left(u + 1\\right)^{2}}{2} + \\frac{\\mu u \\left(u^{2} - 2 u_{1}^{2} - 1\\right)}{2} - \\frac{u_{1}}{2}\n",
      "\\right)\n",
      "+h^2\\left(\n",
      "- \\frac{\\mu^{3} u_{1} \\left(u - 1\\right)^{3} \\left(u + 1\\right)^{3}}{6} - \\frac{\\mu^{2} u \\left(u - 1\\right) \\left(u + 1\\right) \\left(u^{2} - 8 u_{1}^{2} - 1\\right)}{6} + \\frac{\\mu u_{1} \\left(4 u^{2} - u_{1}^{2} - 1\\right)}{3} + \\frac{u}{6}\n",
      "\\right)\n",
      "+h^3\\left(\n",
      "\\frac{\\mu^{4} u_{1} \\left(u - 1\\right)^{4} \\left(u + 1\\right)^{4}}{24} + \\frac{\\mu^{3} u \\left(u - 1\\right)^{2} \\left(u + 1\\right)^{2} \\left(u^{2} - 22 u_{1}^{2} - 1\\right)}{24} - \\frac{\\mu^{2} u_{1} \\left(29 u^{4} - 30 u^{2} u_{1}^{2} - 32 u^{2} + 14 u_{1}^{2} + 3\\right)}{24} - \\frac{\\mu u \\left(4 u^{2} - 11 u_{1}^{2} - 1\\right)}{12} + \\frac{u_{1}}{24}\n",
      "\\right)\n",
      "+h^4\\left(\n",
      "\\frac{5 \\mu^{4} u u_{1}^{2} \\left(u - 1\\right)^{3} \\left(u + 1\\right)^{3}}{12} + \\frac{\\mu^{3} u_{1} \\left(u - 1\\right) \\left(u + 1\\right) \\left(32 u^{4} - 83 u^{2} u_{1}^{2} - 32 u^{2} + 27 u_{1}^{2}\\right)}{48} + \\frac{\\mu^{2} u \\left(12 u^{4} - 105 u^{2} u_{1}^{2} - 12 u^{2} + 26 u_{1}^{4} + 61 u_{1}^{2}\\right)}{48} - \\frac{\\mu u_{1} \\left(29 u^{2} - 10 u_{1}^{2}\\right)}{48}\n",
      "\\right)\n"
     ]
    }
   ],
   "source": [
    "prn(clip(r[1]), mu)\n",
    "prnlatex(clip(r[1]), mu)"
   ]
  },
  {
   "cell_type": "code",
   "execution_count": 24,
   "id": "b0cd6eeb",
   "metadata": {},
   "outputs": [
    {
     "name": "stdout",
     "output_type": "stream",
     "text": [
      "h^0 =>\n"
     ]
    },
    {
     "data": {
      "text/latex": [
       "$\\displaystyle - u_{1} + u_{t}$"
      ],
      "text/plain": [
       "-u1 + u_{t}"
      ]
     },
     "metadata": {},
     "output_type": "display_data"
    },
    {
     "name": "stdout",
     "output_type": "stream",
     "text": [
      "h^1 =>\n"
     ]
    },
    {
     "data": {
      "text/latex": [
       "$\\displaystyle \\frac{\\mu u_{1} \\left(u - 1\\right) \\left(u + 1\\right)}{2} + \\frac{u + u_{tt}}{2}$"
      ],
      "text/plain": [
       "\\mu*u1*(u - 1)*(u + 1)/2 + (u + u_{tt})/2"
      ]
     },
     "metadata": {},
     "output_type": "display_data"
    },
    {
     "name": "stdout",
     "output_type": "stream",
     "text": [
      "h^2 =>\n"
     ]
    },
    {
     "data": {
      "text/latex": [
       "$\\displaystyle - \\frac{\\mu^{2} u_{1} \\left(u - 1\\right)^{2} \\left(u + 1\\right)^{2}}{6} - \\frac{\\mu u \\left(u^{2} - 2 u_{1}^{2} - 1\\right)}{6} + \\frac{u_{1} + u_{ttt}}{6}$"
      ],
      "text/plain": [
       "-\\mu**2*u1*(u - 1)**2*(u + 1)**2/6 - \\mu*u*(u**2 - 2*u1**2 - 1)/6 + (u1 + u_{ttt})/6"
      ]
     },
     "metadata": {},
     "output_type": "display_data"
    },
    {
     "name": "stdout",
     "output_type": "stream",
     "text": [
      "h^3 =>\n"
     ]
    },
    {
     "data": {
      "text/latex": [
       "$\\displaystyle \\frac{\\mu^{3} u_{1} \\left(u - 1\\right)^{3} \\left(u + 1\\right)^{3}}{24} + \\frac{\\mu^{2} u \\left(u - 1\\right) \\left(u + 1\\right) \\left(u^{2} - 8 u_{1}^{2} - 1\\right)}{24} - \\frac{\\mu u_{1} \\left(4 u^{2} - u_{1}^{2} - 1\\right)}{12} - \\frac{u - u_{tttt}}{24}$"
      ],
      "text/plain": [
       "\\mu**3*u1*(u - 1)**3*(u + 1)**3/24 + \\mu**2*u*(u - 1)*(u + 1)*(u**2 - 8*u1**2 - 1)/24 - \\mu*u1*(4*u**2 - u1**2 - 1)/12 - (u - u_{tttt})/24"
      ]
     },
     "metadata": {},
     "output_type": "display_data"
    },
    {
     "name": "stdout",
     "output_type": "stream",
     "text": [
      "h^4 =>\n"
     ]
    },
    {
     "data": {
      "text/latex": [
       "$\\displaystyle \\frac{\\mu^{3} u u_{1}^{2} \\left(u - 1\\right)^{2} \\left(u + 1\\right)^{2}}{8} + \\frac{\\mu^{2} u_{1} \\left(8 u^{4} - 9 u^{2} u_{1}^{2} - 8 u^{2} + 5 u_{1}^{2}\\right)}{48} + \\frac{\\mu u \\left(u^{2} - 3 u_{1}^{2}\\right)}{24} + \\frac{u_{ttttt}}{120}$"
      ],
      "text/plain": [
       "\\mu**3*u*u1**2*(u - 1)**2*(u + 1)**2/8 + \\mu**2*u1*(8*u**4 - 9*u**2*u1**2 - 8*u**2 + 5*u1**2)/48 + \\mu*u*(u**2 - 3*u1**2)/24 + u_{ttttt}/120"
      ]
     },
     "metadata": {},
     "output_type": "display_data"
    },
    {
     "name": "stdout",
     "output_type": "stream",
     "text": [
      "- u_{1} + u_{t}\n",
      "+h\\left(\n",
      "\\frac{\\mu u_{1} \\left(u - 1\\right) \\left(u + 1\\right)}{2} + \\frac{u + u_{tt}}{2}\n",
      "\\right)\n",
      "+h^2\\left(\n",
      "- \\frac{\\mu^{2} u_{1} \\left(u - 1\\right)^{2} \\left(u + 1\\right)^{2}}{6} - \\frac{\\mu u \\left(u^{2} - 2 u_{1}^{2} - 1\\right)}{6} + \\frac{u_{1} + u_{ttt}}{6}\n",
      "\\right)\n",
      "+h^3\\left(\n",
      "\\frac{\\mu^{3} u_{1} \\left(u - 1\\right)^{3} \\left(u + 1\\right)^{3}}{24} + \\frac{\\mu^{2} u \\left(u - 1\\right) \\left(u + 1\\right) \\left(u^{2} - 8 u_{1}^{2} - 1\\right)}{24} - \\frac{\\mu u_{1} \\left(4 u^{2} - u_{1}^{2} - 1\\right)}{12} - \\frac{u - u_{tttt}}{24}\n",
      "\\right)\n",
      "+h^4\\left(\n",
      "\\frac{\\mu^{3} u u_{1}^{2} \\left(u - 1\\right)^{2} \\left(u + 1\\right)^{2}}{8} + \\frac{\\mu^{2} u_{1} \\left(8 u^{4} - 9 u^{2} u_{1}^{2} - 8 u^{2} + 5 u_{1}^{2}\\right)}{48} + \\frac{\\mu u \\left(u^{2} - 3 u_{1}^{2}\\right)}{24} + \\frac{u_{ttttt}}{120}\n",
      "\\right)\n"
     ]
    }
   ],
   "source": [
    "F1 = clip((T(u(t+h))-T(u(t)))/h  - T(r[0]))\n",
    "prn(F1, mu)\n",
    "prnlatex(F1, mu)"
   ]
  },
  {
   "cell_type": "code",
   "execution_count": 25,
   "id": "e2d97436",
   "metadata": {},
   "outputs": [
    {
     "name": "stdout",
     "output_type": "stream",
     "text": [
      "h^0 =>\n"
     ]
    },
    {
     "data": {
      "text/latex": [
       "$\\displaystyle \\mu u_{1} \\left(u - 1\\right) \\left(u + 1\\right) + u + u1_{t}$"
      ],
      "text/plain": [
       "\\mu*u1*(u - 1)*(u + 1) + u + u1_{t}"
      ]
     },
     "metadata": {},
     "output_type": "display_data"
    },
    {
     "name": "stdout",
     "output_type": "stream",
     "text": [
      "h^1 =>\n"
     ]
    },
    {
     "data": {
      "text/latex": [
       "$\\displaystyle - \\frac{\\mu^{2} u_{1} \\left(u - 1\\right)^{2} \\left(u + 1\\right)^{2}}{2} - \\frac{\\mu u \\left(u^{2} - 2 u_{1}^{2} - 1\\right)}{2} + \\frac{u_{1} + u1_{tt}}{2}$"
      ],
      "text/plain": [
       "-\\mu**2*u1*(u - 1)**2*(u + 1)**2/2 - \\mu*u*(u**2 - 2*u1**2 - 1)/2 + (u1 + u1_{tt})/2"
      ]
     },
     "metadata": {},
     "output_type": "display_data"
    },
    {
     "name": "stdout",
     "output_type": "stream",
     "text": [
      "h^2 =>\n"
     ]
    },
    {
     "data": {
      "text/latex": [
       "$\\displaystyle \\frac{\\mu^{3} u_{1} \\left(u - 1\\right)^{3} \\left(u + 1\\right)^{3}}{6} + \\frac{\\mu^{2} u \\left(u - 1\\right) \\left(u + 1\\right) \\left(u^{2} - 8 u_{1}^{2} - 1\\right)}{6} - \\frac{\\mu u_{1} \\left(4 u^{2} - u_{1}^{2} - 1\\right)}{3} - \\frac{u - u1_{ttt}}{6}$"
      ],
      "text/plain": [
       "\\mu**3*u1*(u - 1)**3*(u + 1)**3/6 + \\mu**2*u*(u - 1)*(u + 1)*(u**2 - 8*u1**2 - 1)/6 - \\mu*u1*(4*u**2 - u1**2 - 1)/3 - (u - u1_{ttt})/6"
      ]
     },
     "metadata": {},
     "output_type": "display_data"
    },
    {
     "name": "stdout",
     "output_type": "stream",
     "text": [
      "h^3 =>\n"
     ]
    },
    {
     "data": {
      "text/latex": [
       "$\\displaystyle - \\frac{\\mu^{4} u_{1} \\left(u - 1\\right)^{4} \\left(u + 1\\right)^{4}}{24} - \\frac{\\mu^{3} u \\left(u - 1\\right)^{2} \\left(u + 1\\right)^{2} \\left(u^{2} - 22 u_{1}^{2} - 1\\right)}{24} + \\frac{\\mu^{2} u_{1} \\left(29 u^{4} - 30 u^{2} u_{1}^{2} - 32 u^{2} + 14 u_{1}^{2} + 3\\right)}{24} + \\frac{\\mu u \\left(4 u^{2} - 11 u_{1}^{2} - 1\\right)}{12} - \\frac{u_{1} - u1_{tttt}}{24}$"
      ],
      "text/plain": [
       "-\\mu**4*u1*(u - 1)**4*(u + 1)**4/24 - \\mu**3*u*(u - 1)**2*(u + 1)**2*(u**2 - 22*u1**2 - 1)/24 + \\mu**2*u1*(29*u**4 - 30*u**2*u1**2 - 32*u**2 + 14*u1**2 + 3)/24 + \\mu*u*(4*u**2 - 11*u1**2 - 1)/12 - (u1 - u1_{tttt})/24"
      ]
     },
     "metadata": {},
     "output_type": "display_data"
    },
    {
     "name": "stdout",
     "output_type": "stream",
     "text": [
      "h^4 =>\n"
     ]
    },
    {
     "data": {
      "text/latex": [
       "$\\displaystyle - \\frac{5 \\mu^{4} u u_{1}^{2} \\left(u - 1\\right)^{3} \\left(u + 1\\right)^{3}}{12} - \\frac{\\mu^{3} u_{1} \\left(u - 1\\right) \\left(u + 1\\right) \\left(32 u^{4} - 83 u^{2} u_{1}^{2} - 32 u^{2} + 27 u_{1}^{2}\\right)}{48} - \\frac{\\mu^{2} u \\left(12 u^{4} - 105 u^{2} u_{1}^{2} - 12 u^{2} + 26 u_{1}^{4} + 61 u_{1}^{2}\\right)}{48} + \\frac{\\mu u_{1} \\left(29 u^{2} - 10 u_{1}^{2}\\right)}{48} + \\frac{u1_{ttttt}}{120}$"
      ],
      "text/plain": [
       "-5*\\mu**4*u*u1**2*(u - 1)**3*(u + 1)**3/12 - \\mu**3*u1*(u - 1)*(u + 1)*(32*u**4 - 83*u**2*u1**2 - 32*u**2 + 27*u1**2)/48 - \\mu**2*u*(12*u**4 - 105*u**2*u1**2 - 12*u**2 + 26*u1**4 + 61*u1**2)/48 + \\mu*u1*(29*u**2 - 10*u1**2)/48 + u1_{ttttt}/120"
      ]
     },
     "metadata": {},
     "output_type": "display_data"
    },
    {
     "name": "stdout",
     "output_type": "stream",
     "text": [
      "\\mu u_{1} \\left(u - 1\\right) \\left(u + 1\\right) + u + u1_{t}\n",
      "+h\\left(\n",
      "- \\frac{\\mu^{2} u_{1} \\left(u - 1\\right)^{2} \\left(u + 1\\right)^{2}}{2} - \\frac{\\mu u \\left(u^{2} - 2 u_{1}^{2} - 1\\right)}{2} + \\frac{u_{1} + u1_{tt}}{2}\n",
      "\\right)\n",
      "+h^2\\left(\n",
      "\\frac{\\mu^{3} u_{1} \\left(u - 1\\right)^{3} \\left(u + 1\\right)^{3}}{6} + \\frac{\\mu^{2} u \\left(u - 1\\right) \\left(u + 1\\right) \\left(u^{2} - 8 u_{1}^{2} - 1\\right)}{6} - \\frac{\\mu u_{1} \\left(4 u^{2} - u_{1}^{2} - 1\\right)}{3} - \\frac{u - u1_{ttt}}{6}\n",
      "\\right)\n",
      "+h^3\\left(\n",
      "- \\frac{\\mu^{4} u_{1} \\left(u - 1\\right)^{4} \\left(u + 1\\right)^{4}}{24} - \\frac{\\mu^{3} u \\left(u - 1\\right)^{2} \\left(u + 1\\right)^{2} \\left(u^{2} - 22 u_{1}^{2} - 1\\right)}{24} + \\frac{\\mu^{2} u_{1} \\left(29 u^{4} - 30 u^{2} u_{1}^{2} - 32 u^{2} + 14 u_{1}^{2} + 3\\right)}{24} + \\frac{\\mu u \\left(4 u^{2} - 11 u_{1}^{2} - 1\\right)}{12} - \\frac{u_{1} - u1_{tttt}}{24}\n",
      "\\right)\n",
      "+h^4\\left(\n",
      "- \\frac{5 \\mu^{4} u u_{1}^{2} \\left(u - 1\\right)^{3} \\left(u + 1\\right)^{3}}{12} - \\frac{\\mu^{3} u_{1} \\left(u - 1\\right) \\left(u + 1\\right) \\left(32 u^{4} - 83 u^{2} u_{1}^{2} - 32 u^{2} + 27 u_{1}^{2}\\right)}{48} - \\frac{\\mu^{2} u \\left(12 u^{4} - 105 u^{2} u_{1}^{2} - 12 u^{2} + 26 u_{1}^{4} + 61 u_{1}^{2}\\right)}{48} + \\frac{\\mu u_{1} \\left(29 u^{2} - 10 u_{1}^{2}\\right)}{48} + \\frac{u1_{ttttt}}{120}\n",
      "\\right)\n"
     ]
    }
   ],
   "source": [
    "F2 = clip((T(u1(t+h))-T(u1(t)))/h  - T(r[1]))\n",
    "prn(F2, mu)\n",
    "prnlatex(F2, mu)"
   ]
  },
  {
   "cell_type": "code",
   "execution_count": 26,
   "id": "479952fe",
   "metadata": {},
   "outputs": [
    {
     "name": "stdout",
     "output_type": "stream",
     "text": [
      "h^0 =>\n"
     ]
    },
    {
     "data": {
      "text/latex": [
       "$\\displaystyle - u_{1} + u_{t}$"
      ],
      "text/plain": [
       "-u1 + u_{t}"
      ]
     },
     "metadata": {},
     "output_type": "display_data"
    },
    {
     "name": "stdout",
     "output_type": "stream",
     "text": [
      "h^1 =>\n"
     ]
    },
    {
     "data": {
      "text/latex": [
       "$\\displaystyle 0$"
      ],
      "text/plain": [
       "0"
      ]
     },
     "metadata": {},
     "output_type": "display_data"
    },
    {
     "name": "stdout",
     "output_type": "stream",
     "text": [
      "h^2 =>\n"
     ]
    },
    {
     "data": {
      "text/latex": [
       "$\\displaystyle 0$"
      ],
      "text/plain": [
       "0"
      ]
     },
     "metadata": {},
     "output_type": "display_data"
    },
    {
     "name": "stdout",
     "output_type": "stream",
     "text": [
      "h^3 =>\n"
     ]
    },
    {
     "data": {
      "text/latex": [
       "$\\displaystyle 0$"
      ],
      "text/plain": [
       "0"
      ]
     },
     "metadata": {},
     "output_type": "display_data"
    },
    {
     "name": "stdout",
     "output_type": "stream",
     "text": [
      "h^4 =>\n"
     ]
    },
    {
     "data": {
      "text/latex": [
       "$\\displaystyle \\frac{\\mu^{4} u_{1} \\left(u - 1\\right)^{4} \\left(u + 1\\right)^{4}}{120} + \\frac{\\mu^{3} u \\left(u - 1\\right)^{2} \\left(u + 1\\right)^{2} \\left(u^{2} - 7 u_{1}^{2} - 1\\right)}{120} - \\frac{\\mu^{2} u_{1} \\left(6 u^{4} - 5 u^{2} u_{1}^{2} - 8 u^{2} + u_{1}^{2} + 2\\right)}{80} - \\frac{\\mu u \\left(3 u^{2} - 7 u_{1}^{2} - 2\\right)}{120} + \\frac{u_{1}}{120}$"
      ],
      "text/plain": [
       "\\mu**4*u1*(u - 1)**4*(u + 1)**4/120 + \\mu**3*u*(u - 1)**2*(u + 1)**2*(u**2 - 7*u1**2 - 1)/120 - \\mu**2*u1*(6*u**4 - 5*u**2*u1**2 - 8*u**2 + u1**2 + 2)/80 - \\mu*u*(3*u**2 - 7*u1**2 - 2)/120 + u1/120"
      ]
     },
     "metadata": {},
     "output_type": "display_data"
    },
    {
     "name": "stdout",
     "output_type": "stream",
     "text": [
      "- u_{1} + u_{t}\n",
      "+h\\left(\n",
      "0\n",
      "\\right)\n",
      "+h^2\\left(\n",
      "0\n",
      "\\right)\n",
      "+h^3\\left(\n",
      "0\n",
      "\\right)\n",
      "+h^4\\left(\n",
      "\\frac{\\mu^{4} u_{1} \\left(u - 1\\right)^{4} \\left(u + 1\\right)^{4}}{120} + \\frac{\\mu^{3} u \\left(u - 1\\right)^{2} \\left(u + 1\\right)^{2} \\left(u^{2} - 7 u_{1}^{2} - 1\\right)}{120} - \\frac{\\mu^{2} u_{1} \\left(6 u^{4} - 5 u^{2} u_{1}^{2} - 8 u^{2} + u_{1}^{2} + 2\\right)}{80} - \\frac{\\mu u \\left(3 u^{2} - 7 u_{1}^{2} - 2\\right)}{120} + \\frac{u_{1}}{120}\n",
      "\\right)\n"
     ]
    }
   ],
   "source": [
    "f1 = NF(F1, [u(t).diff(t), u1(t).diff(t)], [F1, F2], head=False)\n",
    "prn(f1, mu)\n",
    "prnlatex(f1, mu)"
   ]
  },
  {
   "cell_type": "code",
   "execution_count": 27,
   "id": "6fe82a79",
   "metadata": {},
   "outputs": [
    {
     "name": "stdout",
     "output_type": "stream",
     "text": [
      "h^0 =>\n"
     ]
    },
    {
     "data": {
      "text/latex": [
       "$\\displaystyle \\mu u_{1} \\left(u - 1\\right) \\left(u + 1\\right) + u + u1_{t}$"
      ],
      "text/plain": [
       "\\mu*u1*(u - 1)*(u + 1) + u + u1_{t}"
      ]
     },
     "metadata": {},
     "output_type": "display_data"
    },
    {
     "name": "stdout",
     "output_type": "stream",
     "text": [
      "h^1 =>\n"
     ]
    },
    {
     "data": {
      "text/latex": [
       "$\\displaystyle 0$"
      ],
      "text/plain": [
       "0"
      ]
     },
     "metadata": {},
     "output_type": "display_data"
    },
    {
     "name": "stdout",
     "output_type": "stream",
     "text": [
      "h^2 =>\n"
     ]
    },
    {
     "data": {
      "text/latex": [
       "$\\displaystyle 0$"
      ],
      "text/plain": [
       "0"
      ]
     },
     "metadata": {},
     "output_type": "display_data"
    },
    {
     "name": "stdout",
     "output_type": "stream",
     "text": [
      "h^3 =>\n"
     ]
    },
    {
     "data": {
      "text/latex": [
       "$\\displaystyle 0$"
      ],
      "text/plain": [
       "0"
      ]
     },
     "metadata": {},
     "output_type": "display_data"
    },
    {
     "name": "stdout",
     "output_type": "stream",
     "text": [
      "h^4 =>\n"
     ]
    },
    {
     "data": {
      "text/latex": [
       "$\\displaystyle - \\frac{\\mu^{5} u_{1} \\left(u - 1\\right)^{5} \\left(u + 1\\right)^{5}}{120} - \\frac{\\mu^{4} u \\left(u - 1\\right)^{3} \\left(u + 1\\right)^{3} \\left(u^{2} - 2 u_{1}^{2} - 1\\right)}{120} + \\frac{\\mu^{3} u_{1} \\left(u - 1\\right) \\left(u + 1\\right) \\left(15 u^{2} u_{1}^{2} - 8 u^{2} - 7 u_{1}^{2} + 8\\right)}{240} - \\frac{\\mu^{2} u \\left(2 u^{4} - 25 u^{2} u_{1}^{2} + 4 u^{2} + 10 u_{1}^{4} + 5 u_{1}^{2} - 6\\right)}{240} + \\frac{\\mu u_{1} \\left(7 u^{2} - 6 u_{1}^{2} + 6\\right)}{240} - \\frac{u}{120}$"
      ],
      "text/plain": [
       "-\\mu**5*u1*(u - 1)**5*(u + 1)**5/120 - \\mu**4*u*(u - 1)**3*(u + 1)**3*(u**2 - 2*u1**2 - 1)/120 + \\mu**3*u1*(u - 1)*(u + 1)*(15*u**2*u1**2 - 8*u**2 - 7*u1**2 + 8)/240 - \\mu**2*u*(2*u**4 - 25*u**2*u1**2 + 4*u**2 + 10*u1**4 + 5*u1**2 - 6)/240 + \\mu*u1*(7*u**2 - 6*u1**2 + 6)/240 - u/120"
      ]
     },
     "metadata": {},
     "output_type": "display_data"
    },
    {
     "name": "stdout",
     "output_type": "stream",
     "text": [
      "\\mu u_{1} \\left(u - 1\\right) \\left(u + 1\\right) + u + u1_{t}\n",
      "+h\\left(\n",
      "0\n",
      "\\right)\n",
      "+h^2\\left(\n",
      "0\n",
      "\\right)\n",
      "+h^3\\left(\n",
      "0\n",
      "\\right)\n",
      "+h^4\\left(\n",
      "- \\frac{\\mu^{5} u_{1} \\left(u - 1\\right)^{5} \\left(u + 1\\right)^{5}}{120} - \\frac{\\mu^{4} u \\left(u - 1\\right)^{3} \\left(u + 1\\right)^{3} \\left(u^{2} - 2 u_{1}^{2} - 1\\right)}{120} + \\frac{\\mu^{3} u_{1} \\left(u - 1\\right) \\left(u + 1\\right) \\left(15 u^{2} u_{1}^{2} - 8 u^{2} - 7 u_{1}^{2} + 8\\right)}{240} - \\frac{\\mu^{2} u \\left(2 u^{4} - 25 u^{2} u_{1}^{2} + 4 u^{2} + 10 u_{1}^{4} + 5 u_{1}^{2} - 6\\right)}{240} + \\frac{\\mu u_{1} \\left(7 u^{2} - 6 u_{1}^{2} + 6\\right)}{240} - \\frac{u}{120}\n",
      "\\right)\n"
     ]
    }
   ],
   "source": [
    "f2 = NF(F2, [u(t).diff(t), u1(t).diff(t)], [F1, F2], head=False)\n",
    "prn(f2, mu)\n",
    "prnlatex(f2, mu)"
   ]
  },
  {
   "cell_type": "code",
   "execution_count": 28,
   "id": "a1c6535a",
   "metadata": {},
   "outputs": [
    {
     "data": {
      "text/plain": [
       "'mu**5*(-y[0]**10*y[1]/120 + y[0]**8*y[1]/24 - y[0]**6*y[1]/12 + y[0]**4*y[1]/12 - y[0]**2*y[1]/24 + y[1]/120) + mu**4*(-y[0]**9/120 + y[0]**7*y[1]**2/60 + y[0]**7/30 - y[0]**5*y[1]**2/20 - y[0]**5/20 + y[0]**3*y[1]**2/20 + y[0]**3/30 - y[0]*y[1]**2/60 - y[0]/120) + mu**3*(y[0]**4*y[1]**3/16 - y[0]**4*y[1]/30 - 11*y[0]**2*y[1]**3/120 + y[0]**2*y[1]/15 + 7*y[1]**3/240 - y[1]/30) + mu**2*(-y[0]**5/120 + 5*y[0]**3*y[1]**2/48 - y[0]**3/60 - y[0]*y[1]**4/24 - y[0]*y[1]**2/48 + y[0]/40) + mu*(7*y[0]**2*y[1]/240 - y[1]**3/40 + y[1]/40) - y[0]/120'"
      ]
     },
     "execution_count": 28,
     "metadata": {},
     "output_type": "execute_result"
    }
   ],
   "source": [
    "replace(str(f2[4].collect(mu)))"
   ]
  },
  {
   "cell_type": "markdown",
   "id": "ebb63d8d",
   "metadata": {},
   "source": [
    "## Dormand–Prince method 5 order"
   ]
  },
  {
   "cell_type": "code",
   "execution_count": 29,
   "id": "c9008e28",
   "metadata": {},
   "outputs": [],
   "source": [
    "set_clip(7, 6, Rational(0, 1))\n",
    "r = DormandPrince5(f, Matrix([u(t), u1(t)]))"
   ]
  },
  {
   "cell_type": "code",
   "execution_count": 30,
   "id": "83afef0a",
   "metadata": {},
   "outputs": [
    {
     "name": "stdout",
     "output_type": "stream",
     "text": [
      "h^0 =>\n"
     ]
    },
    {
     "data": {
      "text/latex": [
       "$\\displaystyle - u_{1} + u_{t}$"
      ],
      "text/plain": [
       "-u1 + u_{t}"
      ]
     },
     "metadata": {},
     "output_type": "display_data"
    },
    {
     "name": "stdout",
     "output_type": "stream",
     "text": [
      "h^1 =>\n"
     ]
    },
    {
     "data": {
      "text/latex": [
       "$\\displaystyle \\frac{\\mu u_{1} \\left(u - 1\\right) \\left(u + 1\\right)}{2} + \\frac{u + u_{tt}}{2}$"
      ],
      "text/plain": [
       "\\mu*u1*(u - 1)*(u + 1)/2 + (u + u_{tt})/2"
      ]
     },
     "metadata": {},
     "output_type": "display_data"
    },
    {
     "name": "stdout",
     "output_type": "stream",
     "text": [
      "h^2 =>\n"
     ]
    },
    {
     "data": {
      "text/latex": [
       "$\\displaystyle - \\frac{\\mu^{2} u_{1} \\left(u - 1\\right)^{2} \\left(u + 1\\right)^{2}}{6} - \\frac{\\mu u \\left(u^{2} - 2 u_{1}^{2} - 1\\right)}{6} + \\frac{u_{1} + u_{ttt}}{6}$"
      ],
      "text/plain": [
       "-\\mu**2*u1*(u - 1)**2*(u + 1)**2/6 - \\mu*u*(u**2 - 2*u1**2 - 1)/6 + (u1 + u_{ttt})/6"
      ]
     },
     "metadata": {},
     "output_type": "display_data"
    },
    {
     "name": "stdout",
     "output_type": "stream",
     "text": [
      "h^3 =>\n"
     ]
    },
    {
     "data": {
      "text/latex": [
       "$\\displaystyle \\frac{\\mu^{3} u_{1} \\left(u - 1\\right)^{3} \\left(u + 1\\right)^{3}}{24} + \\frac{\\mu^{2} u \\left(u - 1\\right) \\left(u + 1\\right) \\left(u^{2} - 8 u_{1}^{2} - 1\\right)}{24} - \\frac{\\mu u_{1} \\left(4 u^{2} - u_{1}^{2} - 1\\right)}{12} - \\frac{u - u_{tttt}}{24}$"
      ],
      "text/plain": [
       "\\mu**3*u1*(u - 1)**3*(u + 1)**3/24 + \\mu**2*u*(u - 1)*(u + 1)*(u**2 - 8*u1**2 - 1)/24 - \\mu*u1*(4*u**2 - u1**2 - 1)/12 - (u - u_{tttt})/24"
      ]
     },
     "metadata": {},
     "output_type": "display_data"
    },
    {
     "name": "stdout",
     "output_type": "stream",
     "text": [
      "h^4 =>\n"
     ]
    },
    {
     "data": {
      "text/latex": [
       "$\\displaystyle - \\frac{\\mu^{4} u_{1} \\left(u - 1\\right)^{4} \\left(u + 1\\right)^{4}}{120} - \\frac{\\mu^{3} u \\left(u - 1\\right)^{2} \\left(u + 1\\right)^{2} \\left(u^{2} - 22 u_{1}^{2} - 1\\right)}{120} + \\frac{\\mu^{2} u_{1} \\left(29 u^{4} - 30 u^{2} u_{1}^{2} - 32 u^{2} + 14 u_{1}^{2} + 3\\right)}{120} + \\frac{\\mu u \\left(4 u^{2} - 11 u_{1}^{2} - 1\\right)}{60} - \\frac{u_{1} - u_{ttttt}}{120}$"
      ],
      "text/plain": [
       "-\\mu**4*u1*(u - 1)**4*(u + 1)**4/120 - \\mu**3*u*(u - 1)**2*(u + 1)**2*(u**2 - 22*u1**2 - 1)/120 + \\mu**2*u1*(29*u**4 - 30*u**2*u1**2 - 32*u**2 + 14*u1**2 + 3)/120 + \\mu*u*(4*u**2 - 11*u1**2 - 1)/60 - (u1 - u_{ttttt})/120"
      ]
     },
     "metadata": {},
     "output_type": "display_data"
    },
    {
     "name": "stdout",
     "output_type": "stream",
     "text": [
      "h^5 =>\n"
     ]
    },
    {
     "data": {
      "text/latex": [
       "$\\displaystyle \\frac{\\mu^{5} u_{1} \\left(u - 1\\right)^{5} \\left(u + 1\\right)^{5}}{600} + \\frac{\\mu^{4} u \\left(u - 1\\right)^{3} \\left(u + 1\\right)^{3} \\left(18 u^{2} - 805 u_{1}^{2} - 18\\right)}{10800} - \\frac{\\mu^{3} u_{1} \\left(u - 1\\right) \\left(u + 1\\right) \\left(7392 u^{4} - 18265 u^{2} u_{1}^{2} - 7824 u^{2} + 5781 u_{1}^{2} + 432\\right)}{64800} - \\frac{\\mu^{2} u \\left(1335 u^{4} - 11429 u^{2} u_{1}^{2} - 1497 u^{2} + 2710 u_{1}^{4} + 6879 u_{1}^{2} + 162\\right)}{32400} + \\frac{\\mu u_{1} \\left(2119 u^{2} - 662 u_{1}^{2} - 108\\right)}{21600} + \\frac{6 u + 5 u_{tttttt}}{3600}$"
      ],
      "text/plain": [
       "\\mu**5*u1*(u - 1)**5*(u + 1)**5/600 + \\mu**4*u*(u - 1)**3*(u + 1)**3*(18*u**2 - 805*u1**2 - 18)/10800 - \\mu**3*u1*(u - 1)*(u + 1)*(7392*u**4 - 18265*u**2*u1**2 - 7824*u**2 + 5781*u1**2 + 432)/64800 - \\mu**2*u*(1335*u**4 - 11429*u**2*u1**2 - 1497*u**2 + 2710*u1**4 + 6879*u1**2 + 162)/32400 + \\mu*u1*(2119*u**2 - 662*u1**2 - 108)/21600 + (6*u + 5*u_{tttttt})/3600"
      ]
     },
     "metadata": {},
     "output_type": "display_data"
    },
    {
     "name": "stdout",
     "output_type": "stream",
     "text": [
      "- u_{1} + u_{t}\n",
      "+h\\left(\n",
      "\\frac{\\mu u_{1} \\left(u - 1\\right) \\left(u + 1\\right)}{2} + \\frac{u + u_{tt}}{2}\n",
      "\\right)\n",
      "+h^2\\left(\n",
      "- \\frac{\\mu^{2} u_{1} \\left(u - 1\\right)^{2} \\left(u + 1\\right)^{2}}{6} - \\frac{\\mu u \\left(u^{2} - 2 u_{1}^{2} - 1\\right)}{6} + \\frac{u_{1} + u_{ttt}}{6}\n",
      "\\right)\n",
      "+h^3\\left(\n",
      "\\frac{\\mu^{3} u_{1} \\left(u - 1\\right)^{3} \\left(u + 1\\right)^{3}}{24} + \\frac{\\mu^{2} u \\left(u - 1\\right) \\left(u + 1\\right) \\left(u^{2} - 8 u_{1}^{2} - 1\\right)}{24} - \\frac{\\mu u_{1} \\left(4 u^{2} - u_{1}^{2} - 1\\right)}{12} - \\frac{u - u_{tttt}}{24}\n",
      "\\right)\n",
      "+h^4\\left(\n",
      "- \\frac{\\mu^{4} u_{1} \\left(u - 1\\right)^{4} \\left(u + 1\\right)^{4}}{120} - \\frac{\\mu^{3} u \\left(u - 1\\right)^{2} \\left(u + 1\\right)^{2} \\left(u^{2} - 22 u_{1}^{2} - 1\\right)}{120} + \\frac{\\mu^{2} u_{1} \\left(29 u^{4} - 30 u^{2} u_{1}^{2} - 32 u^{2} + 14 u_{1}^{2} + 3\\right)}{120} + \\frac{\\mu u \\left(4 u^{2} - 11 u_{1}^{2} - 1\\right)}{60} - \\frac{u_{1} - u_{ttttt}}{120}\n",
      "\\right)\n",
      "+h^5\\left(\n",
      "\\frac{\\mu^{5} u_{1} \\left(u - 1\\right)^{5} \\left(u + 1\\right)^{5}}{600} + \\frac{\\mu^{4} u \\left(u - 1\\right)^{3} \\left(u + 1\\right)^{3} \\left(18 u^{2} - 805 u_{1}^{2} - 18\\right)}{10800} - \\frac{\\mu^{3} u_{1} \\left(u - 1\\right) \\left(u + 1\\right) \\left(7392 u^{4} - 18265 u^{2} u_{1}^{2} - 7824 u^{2} + 5781 u_{1}^{2} + 432\\right)}{64800} - \\frac{\\mu^{2} u \\left(1335 u^{4} - 11429 u^{2} u_{1}^{2} - 1497 u^{2} + 2710 u_{1}^{4} + 6879 u_{1}^{2} + 162\\right)}{32400} + \\frac{\\mu u_{1} \\left(2119 u^{2} - 662 u_{1}^{2} - 108\\right)}{21600} + \\frac{6 u + 5 u_{tttttt}}{3600}\n",
      "\\right)\n"
     ]
    }
   ],
   "source": [
    "F1 = clip((T(u(t+h))-T(u(t)))/h  - T(r[0]))\n",
    "prn(F1, mu)\n",
    "prnlatex(F1, mu)"
   ]
  },
  {
   "cell_type": "code",
   "execution_count": 31,
   "id": "95a386f7",
   "metadata": {},
   "outputs": [
    {
     "name": "stdout",
     "output_type": "stream",
     "text": [
      "h^0 =>\n"
     ]
    },
    {
     "data": {
      "text/latex": [
       "$\\displaystyle \\mu u_{1} \\left(u - 1\\right) \\left(u + 1\\right) + u + u1_{t}$"
      ],
      "text/plain": [
       "\\mu*u1*(u - 1)*(u + 1) + u + u1_{t}"
      ]
     },
     "metadata": {},
     "output_type": "display_data"
    },
    {
     "name": "stdout",
     "output_type": "stream",
     "text": [
      "h^1 =>\n"
     ]
    },
    {
     "data": {
      "text/latex": [
       "$\\displaystyle - \\frac{\\mu^{2} u_{1} \\left(u - 1\\right)^{2} \\left(u + 1\\right)^{2}}{2} - \\frac{\\mu u \\left(u^{2} - 2 u_{1}^{2} - 1\\right)}{2} + \\frac{u_{1} + u1_{tt}}{2}$"
      ],
      "text/plain": [
       "-\\mu**2*u1*(u - 1)**2*(u + 1)**2/2 - \\mu*u*(u**2 - 2*u1**2 - 1)/2 + (u1 + u1_{tt})/2"
      ]
     },
     "metadata": {},
     "output_type": "display_data"
    },
    {
     "name": "stdout",
     "output_type": "stream",
     "text": [
      "h^2 =>\n"
     ]
    },
    {
     "data": {
      "text/latex": [
       "$\\displaystyle \\frac{\\mu^{3} u_{1} \\left(u - 1\\right)^{3} \\left(u + 1\\right)^{3}}{6} + \\frac{\\mu^{2} u \\left(u - 1\\right) \\left(u + 1\\right) \\left(u^{2} - 8 u_{1}^{2} - 1\\right)}{6} - \\frac{\\mu u_{1} \\left(4 u^{2} - u_{1}^{2} - 1\\right)}{3} - \\frac{u - u1_{ttt}}{6}$"
      ],
      "text/plain": [
       "\\mu**3*u1*(u - 1)**3*(u + 1)**3/6 + \\mu**2*u*(u - 1)*(u + 1)*(u**2 - 8*u1**2 - 1)/6 - \\mu*u1*(4*u**2 - u1**2 - 1)/3 - (u - u1_{ttt})/6"
      ]
     },
     "metadata": {},
     "output_type": "display_data"
    },
    {
     "name": "stdout",
     "output_type": "stream",
     "text": [
      "h^3 =>\n"
     ]
    },
    {
     "data": {
      "text/latex": [
       "$\\displaystyle - \\frac{\\mu^{4} u_{1} \\left(u - 1\\right)^{4} \\left(u + 1\\right)^{4}}{24} - \\frac{\\mu^{3} u \\left(u - 1\\right)^{2} \\left(u + 1\\right)^{2} \\left(u^{2} - 22 u_{1}^{2} - 1\\right)}{24} + \\frac{\\mu^{2} u_{1} \\left(29 u^{4} - 30 u^{2} u_{1}^{2} - 32 u^{2} + 14 u_{1}^{2} + 3\\right)}{24} + \\frac{\\mu u \\left(4 u^{2} - 11 u_{1}^{2} - 1\\right)}{12} - \\frac{u_{1} - u1_{tttt}}{24}$"
      ],
      "text/plain": [
       "-\\mu**4*u1*(u - 1)**4*(u + 1)**4/24 - \\mu**3*u*(u - 1)**2*(u + 1)**2*(u**2 - 22*u1**2 - 1)/24 + \\mu**2*u1*(29*u**4 - 30*u**2*u1**2 - 32*u**2 + 14*u1**2 + 3)/24 + \\mu*u*(4*u**2 - 11*u1**2 - 1)/12 - (u1 - u1_{tttt})/24"
      ]
     },
     "metadata": {},
     "output_type": "display_data"
    },
    {
     "name": "stdout",
     "output_type": "stream",
     "text": [
      "h^4 =>\n"
     ]
    },
    {
     "data": {
      "text/latex": [
       "$\\displaystyle \\frac{\\mu^{5} u_{1} \\left(u - 1\\right)^{5} \\left(u + 1\\right)^{5}}{120} + \\frac{\\mu^{4} u \\left(u - 1\\right)^{3} \\left(u + 1\\right)^{3} \\left(u^{2} - 52 u_{1}^{2} - 1\\right)}{120} - \\frac{\\mu^{3} u_{1} \\left(u - 1\\right) \\left(u + 1\\right) \\left(20 u^{4} - 50 u^{2} u_{1}^{2} - 21 u^{2} + 16 u_{1}^{2} + 1\\right)}{30} - \\frac{\\mu^{2} u \\left(29 u^{4} - 250 u^{2} u_{1}^{2} - 32 u^{2} + 60 u_{1}^{4} + 150 u_{1}^{2} + 3\\right)}{120} + \\frac{\\mu u_{1} \\left(69 u^{2} - 22 u_{1}^{2} - 3\\right)}{120} + \\frac{u + u1_{ttttt}}{120}$"
      ],
      "text/plain": [
       "\\mu**5*u1*(u - 1)**5*(u + 1)**5/120 + \\mu**4*u*(u - 1)**3*(u + 1)**3*(u**2 - 52*u1**2 - 1)/120 - \\mu**3*u1*(u - 1)*(u + 1)*(20*u**4 - 50*u**2*u1**2 - 21*u**2 + 16*u1**2 + 1)/30 - \\mu**2*u*(29*u**4 - 250*u**2*u1**2 - 32*u**2 + 60*u1**4 + 150*u1**2 + 3)/120 + \\mu*u1*(69*u**2 - 22*u1**2 - 3)/120 + (u + u1_{ttttt})/120"
      ]
     },
     "metadata": {},
     "output_type": "display_data"
    },
    {
     "name": "stdout",
     "output_type": "stream",
     "text": [
      "h^5 =>\n"
     ]
    },
    {
     "data": {
      "text/latex": [
       "$\\displaystyle - \\frac{\\mu^{6} u_{1} \\left(u - 1\\right)^{6} \\left(u + 1\\right)^{6}}{600} - \\frac{\\mu^{5} u \\left(u - 1\\right)^{4} \\left(u + 1\\right)^{4} \\left(18 u^{2} - 1729 u_{1}^{2} - 18\\right)}{10800} + \\frac{\\mu^{4} u_{1} \\left(u - 1\\right)^{2} \\left(u + 1\\right)^{2} \\left(4377 u^{4} - 21707 u^{2} u_{1}^{2} - 4512 u^{2} + 5484 u_{1}^{2} + 135\\right)}{16200} + \\frac{\\mu^{3} u \\left(7242 u^{6} - 142305 u^{4} u_{1}^{2} - 14916 u^{4} + 93452 u^{2} u_{1}^{4} + 202662 u^{2} u_{1}^{2} + 8106 u^{2} - 68972 u_{1}^{4} - 60357 u_{1}^{2} - 432\\right)}{64800} - \\frac{\\mu^{2} u_{1} \\left(32165 u^{4} - 47472 u^{2} u_{1}^{2} - 21189 u^{2} + 2698 u_{1}^{4} + 9684 u_{1}^{2} + 324\\right)}{32400} - \\frac{\\mu u \\left(2075 u^{2} - 6130 u_{1}^{2} - 108\\right)}{21600} + \\frac{6 u_{1} + 5 u1_{tttttt}}{3600}$"
      ],
      "text/plain": [
       "-\\mu**6*u1*(u - 1)**6*(u + 1)**6/600 - \\mu**5*u*(u - 1)**4*(u + 1)**4*(18*u**2 - 1729*u1**2 - 18)/10800 + \\mu**4*u1*(u - 1)**2*(u + 1)**2*(4377*u**4 - 21707*u**2*u1**2 - 4512*u**2 + 5484*u1**2 + 135)/16200 + \\mu**3*u*(7242*u**6 - 142305*u**4*u1**2 - 14916*u**4 + 93452*u**2*u1**4 + 202662*u**2*u1**2 + 8106*u**2 - 68972*u1**4 - 60357*u1**2 - 432)/64800 - \\mu**2*u1*(32165*u**4 - 47472*u**2*u1**2 - 21189*u**2 + 2698*u1**4 + 9684*u1**2 + 324)/32400 - \\mu*u*(2075*u**2 - 6130*u1**2 - 108)/21600 + (6*u1 + 5*u1_{tttttt})/3600"
      ]
     },
     "metadata": {},
     "output_type": "display_data"
    },
    {
     "name": "stdout",
     "output_type": "stream",
     "text": [
      "\\mu u_{1} \\left(u - 1\\right) \\left(u + 1\\right) + u + u1_{t}\n",
      "+h\\left(\n",
      "- \\frac{\\mu^{2} u_{1} \\left(u - 1\\right)^{2} \\left(u + 1\\right)^{2}}{2} - \\frac{\\mu u \\left(u^{2} - 2 u_{1}^{2} - 1\\right)}{2} + \\frac{u_{1} + u1_{tt}}{2}\n",
      "\\right)\n",
      "+h^2\\left(\n",
      "\\frac{\\mu^{3} u_{1} \\left(u - 1\\right)^{3} \\left(u + 1\\right)^{3}}{6} + \\frac{\\mu^{2} u \\left(u - 1\\right) \\left(u + 1\\right) \\left(u^{2} - 8 u_{1}^{2} - 1\\right)}{6} - \\frac{\\mu u_{1} \\left(4 u^{2} - u_{1}^{2} - 1\\right)}{3} - \\frac{u - u1_{ttt}}{6}\n",
      "\\right)\n",
      "+h^3\\left(\n",
      "- \\frac{\\mu^{4} u_{1} \\left(u - 1\\right)^{4} \\left(u + 1\\right)^{4}}{24} - \\frac{\\mu^{3} u \\left(u - 1\\right)^{2} \\left(u + 1\\right)^{2} \\left(u^{2} - 22 u_{1}^{2} - 1\\right)}{24} + \\frac{\\mu^{2} u_{1} \\left(29 u^{4} - 30 u^{2} u_{1}^{2} - 32 u^{2} + 14 u_{1}^{2} + 3\\right)}{24} + \\frac{\\mu u \\left(4 u^{2} - 11 u_{1}^{2} - 1\\right)}{12} - \\frac{u_{1} - u1_{tttt}}{24}\n",
      "\\right)\n",
      "+h^4\\left(\n",
      "\\frac{\\mu^{5} u_{1} \\left(u - 1\\right)^{5} \\left(u + 1\\right)^{5}}{120} + \\frac{\\mu^{4} u \\left(u - 1\\right)^{3} \\left(u + 1\\right)^{3} \\left(u^{2} - 52 u_{1}^{2} - 1\\right)}{120} - \\frac{\\mu^{3} u_{1} \\left(u - 1\\right) \\left(u + 1\\right) \\left(20 u^{4} - 50 u^{2} u_{1}^{2} - 21 u^{2} + 16 u_{1}^{2} + 1\\right)}{30} - \\frac{\\mu^{2} u \\left(29 u^{4} - 250 u^{2} u_{1}^{2} - 32 u^{2} + 60 u_{1}^{4} + 150 u_{1}^{2} + 3\\right)}{120} + \\frac{\\mu u_{1} \\left(69 u^{2} - 22 u_{1}^{2} - 3\\right)}{120} + \\frac{u + u1_{ttttt}}{120}\n",
      "\\right)\n",
      "+h^5\\left(\n",
      "- \\frac{\\mu^{6} u_{1} \\left(u - 1\\right)^{6} \\left(u + 1\\right)^{6}}{600} - \\frac{\\mu^{5} u \\left(u - 1\\right)^{4} \\left(u + 1\\right)^{4} \\left(18 u^{2} - 1729 u_{1}^{2} - 18\\right)}{10800} + \\frac{\\mu^{4} u_{1} \\left(u - 1\\right)^{2} \\left(u + 1\\right)^{2} \\left(4377 u^{4} - 21707 u^{2} u_{1}^{2} - 4512 u^{2} + 5484 u_{1}^{2} + 135\\right)}{16200} + \\frac{\\mu^{3} u \\left(7242 u^{6} - 142305 u^{4} u_{1}^{2} - 14916 u^{4} + 93452 u^{2} u_{1}^{4} + 202662 u^{2} u_{1}^{2} + 8106 u^{2} - 68972 u_{1}^{4} - 60357 u_{1}^{2} - 432\\right)}{64800} - \\frac{\\mu^{2} u_{1} \\left(32165 u^{4} - 47472 u^{2} u_{1}^{2} - 21189 u^{2} + 2698 u_{1}^{4} + 9684 u_{1}^{2} + 324\\right)}{32400} - \\frac{\\mu u \\left(2075 u^{2} - 6130 u_{1}^{2} - 108\\right)}{21600} + \\frac{6 u_{1} + 5 u1_{tttttt}}{3600}\n",
      "\\right)\n"
     ]
    }
   ],
   "source": [
    "F2 = clip((T(u1(t+h))-T(u1(t)))/h  - T(r[1]))\n",
    "prn(F2, mu)\n",
    "prnlatex(F2, mu)"
   ]
  },
  {
   "cell_type": "code",
   "execution_count": 32,
   "id": "70c27342",
   "metadata": {},
   "outputs": [
    {
     "name": "stdout",
     "output_type": "stream",
     "text": [
      "h^0 =>\n"
     ]
    },
    {
     "data": {
      "text/latex": [
       "$\\displaystyle - u_{1} + u_{t}$"
      ],
      "text/plain": [
       "-u1 + u_{t}"
      ]
     },
     "metadata": {},
     "output_type": "display_data"
    },
    {
     "name": "stdout",
     "output_type": "stream",
     "text": [
      "h^1 =>\n"
     ]
    },
    {
     "data": {
      "text/latex": [
       "$\\displaystyle 0$"
      ],
      "text/plain": [
       "0"
      ]
     },
     "metadata": {},
     "output_type": "display_data"
    },
    {
     "name": "stdout",
     "output_type": "stream",
     "text": [
      "h^2 =>\n"
     ]
    },
    {
     "data": {
      "text/latex": [
       "$\\displaystyle 0$"
      ],
      "text/plain": [
       "0"
      ]
     },
     "metadata": {},
     "output_type": "display_data"
    },
    {
     "name": "stdout",
     "output_type": "stream",
     "text": [
      "h^3 =>\n"
     ]
    },
    {
     "data": {
      "text/latex": [
       "$\\displaystyle 0$"
      ],
      "text/plain": [
       "0"
      ]
     },
     "metadata": {},
     "output_type": "display_data"
    },
    {
     "name": "stdout",
     "output_type": "stream",
     "text": [
      "h^4 =>\n"
     ]
    },
    {
     "data": {
      "text/latex": [
       "$\\displaystyle 0$"
      ],
      "text/plain": [
       "0"
      ]
     },
     "metadata": {},
     "output_type": "display_data"
    },
    {
     "name": "stdout",
     "output_type": "stream",
     "text": [
      "h^5 =>\n"
     ]
    },
    {
     "data": {
      "text/latex": [
       "$\\displaystyle \\frac{\\mu^{5} u_{1} \\left(u - 1\\right)^{5} \\left(u + 1\\right)^{5}}{3600} + \\frac{\\mu^{4} u \\left(u - 1\\right)^{3} \\left(u + 1\\right)^{3} \\left(3 u^{2} - 25 u_{1}^{2} - 3\\right)}{10800} - \\frac{\\mu^{3} u_{1} \\left(u - 1\\right) \\left(u + 1\\right) \\left(192 u^{4} - 265 u^{2} u_{1}^{2} - 264 u^{2} + 21 u_{1}^{2} + 72\\right)}{64800} - \\frac{\\mu^{2} u \\left(30 u^{4} - 179 u^{2} u_{1}^{2} - 57 u^{2} + 10 u_{1}^{4} + 129 u_{1}^{2} + 27\\right)}{32400} + \\frac{\\mu u_{1} \\left(49 u^{2} - 2 u_{1}^{2} - 18\\right)}{21600} + \\frac{u}{3600}$"
      ],
      "text/plain": [
       "\\mu**5*u1*(u - 1)**5*(u + 1)**5/3600 + \\mu**4*u*(u - 1)**3*(u + 1)**3*(3*u**2 - 25*u1**2 - 3)/10800 - \\mu**3*u1*(u - 1)*(u + 1)*(192*u**4 - 265*u**2*u1**2 - 264*u**2 + 21*u1**2 + 72)/64800 - \\mu**2*u*(30*u**4 - 179*u**2*u1**2 - 57*u**2 + 10*u1**4 + 129*u1**2 + 27)/32400 + \\mu*u1*(49*u**2 - 2*u1**2 - 18)/21600 + u/3600"
      ]
     },
     "metadata": {},
     "output_type": "display_data"
    },
    {
     "name": "stdout",
     "output_type": "stream",
     "text": [
      "- u_{1} + u_{t}\n",
      "+h\\left(\n",
      "0\n",
      "\\right)\n",
      "+h^2\\left(\n",
      "0\n",
      "\\right)\n",
      "+h^3\\left(\n",
      "0\n",
      "\\right)\n",
      "+h^4\\left(\n",
      "0\n",
      "\\right)\n",
      "+h^5\\left(\n",
      "\\frac{\\mu^{5} u_{1} \\left(u - 1\\right)^{5} \\left(u + 1\\right)^{5}}{3600} + \\frac{\\mu^{4} u \\left(u - 1\\right)^{3} \\left(u + 1\\right)^{3} \\left(3 u^{2} - 25 u_{1}^{2} - 3\\right)}{10800} - \\frac{\\mu^{3} u_{1} \\left(u - 1\\right) \\left(u + 1\\right) \\left(192 u^{4} - 265 u^{2} u_{1}^{2} - 264 u^{2} + 21 u_{1}^{2} + 72\\right)}{64800} - \\frac{\\mu^{2} u \\left(30 u^{4} - 179 u^{2} u_{1}^{2} - 57 u^{2} + 10 u_{1}^{4} + 129 u_{1}^{2} + 27\\right)}{32400} + \\frac{\\mu u_{1} \\left(49 u^{2} - 2 u_{1}^{2} - 18\\right)}{21600} + \\frac{u}{3600}\n",
      "\\right)\n"
     ]
    }
   ],
   "source": [
    "f1 = NF(F1, [u(t).diff(t), u1(t).diff(t)], [F1, F2], head=False)\n",
    "prn(f1, mu)\n",
    "prnlatex(f1, mu)"
   ]
  },
  {
   "cell_type": "code",
   "execution_count": 33,
   "id": "757951ef",
   "metadata": {
    "scrolled": true
   },
   "outputs": [
    {
     "name": "stdout",
     "output_type": "stream",
     "text": [
      "h^0 =>\n"
     ]
    },
    {
     "data": {
      "text/latex": [
       "$\\displaystyle \\mu u_{1} \\left(u - 1\\right) \\left(u + 1\\right) + u + u1_{t}$"
      ],
      "text/plain": [
       "\\mu*u1*(u - 1)*(u + 1) + u + u1_{t}"
      ]
     },
     "metadata": {},
     "output_type": "display_data"
    },
    {
     "name": "stdout",
     "output_type": "stream",
     "text": [
      "h^1 =>\n"
     ]
    },
    {
     "data": {
      "text/latex": [
       "$\\displaystyle 0$"
      ],
      "text/plain": [
       "0"
      ]
     },
     "metadata": {},
     "output_type": "display_data"
    },
    {
     "name": "stdout",
     "output_type": "stream",
     "text": [
      "h^2 =>\n"
     ]
    },
    {
     "data": {
      "text/latex": [
       "$\\displaystyle 0$"
      ],
      "text/plain": [
       "0"
      ]
     },
     "metadata": {},
     "output_type": "display_data"
    },
    {
     "name": "stdout",
     "output_type": "stream",
     "text": [
      "h^3 =>\n"
     ]
    },
    {
     "data": {
      "text/latex": [
       "$\\displaystyle 0$"
      ],
      "text/plain": [
       "0"
      ]
     },
     "metadata": {},
     "output_type": "display_data"
    },
    {
     "name": "stdout",
     "output_type": "stream",
     "text": [
      "h^4 =>\n"
     ]
    },
    {
     "data": {
      "text/latex": [
       "$\\displaystyle 0$"
      ],
      "text/plain": [
       "0"
      ]
     },
     "metadata": {},
     "output_type": "display_data"
    },
    {
     "name": "stdout",
     "output_type": "stream",
     "text": [
      "h^5 =>\n"
     ]
    },
    {
     "data": {
      "text/latex": [
       "$\\displaystyle - \\frac{\\mu^{6} u_{1} \\left(u - 1\\right)^{6} \\left(u + 1\\right)^{6}}{3600} - \\frac{\\mu^{5} u \\left(u - 1\\right)^{4} \\left(u + 1\\right)^{4} \\left(3 u^{2} - 19 u_{1}^{2} - 3\\right)}{10800} + \\frac{\\mu^{4} u_{1} \\left(u - 1\\right)^{2} \\left(u + 1\\right)^{2} \\left(69 u^{4} - 34 u^{2} u_{1}^{2} - 114 u^{2} - 12 u_{1}^{2} + 45\\right)}{32400} + \\frac{\\mu^{3} u \\left(u - 1\\right) \\left(u + 1\\right) \\left(42 u^{4} - 105 u^{2} u_{1}^{2} - 114 u^{2} - 148 u_{1}^{4} + 237 u_{1}^{2} + 72\\right)}{64800} - \\frac{\\mu^{2} u_{1} \\left(35 u^{4} + 48 u^{2} u_{1}^{2} - 129 u^{2} - 2 u_{1}^{4} - 36 u_{1}^{2} + 54\\right)}{32400} - \\frac{\\mu u \\left(5 u^{2} - 10 u_{1}^{2} - 18\\right)}{21600} + \\frac{u_{1}}{3600}$"
      ],
      "text/plain": [
       "-\\mu**6*u1*(u - 1)**6*(u + 1)**6/3600 - \\mu**5*u*(u - 1)**4*(u + 1)**4*(3*u**2 - 19*u1**2 - 3)/10800 + \\mu**4*u1*(u - 1)**2*(u + 1)**2*(69*u**4 - 34*u**2*u1**2 - 114*u**2 - 12*u1**2 + 45)/32400 + \\mu**3*u*(u - 1)*(u + 1)*(42*u**4 - 105*u**2*u1**2 - 114*u**2 - 148*u1**4 + 237*u1**2 + 72)/64800 - \\mu**2*u1*(35*u**4 + 48*u**2*u1**2 - 129*u**2 - 2*u1**4 - 36*u1**2 + 54)/32400 - \\mu*u*(5*u**2 - 10*u1**2 - 18)/21600 + u1/3600"
      ]
     },
     "metadata": {},
     "output_type": "display_data"
    },
    {
     "name": "stdout",
     "output_type": "stream",
     "text": [
      "\\mu u_{1} \\left(u - 1\\right) \\left(u + 1\\right) + u + u1_{t}\n",
      "+h\\left(\n",
      "0\n",
      "\\right)\n",
      "+h^2\\left(\n",
      "0\n",
      "\\right)\n",
      "+h^3\\left(\n",
      "0\n",
      "\\right)\n",
      "+h^4\\left(\n",
      "0\n",
      "\\right)\n",
      "+h^5\\left(\n",
      "- \\frac{\\mu^{6} u_{1} \\left(u - 1\\right)^{6} \\left(u + 1\\right)^{6}}{3600} - \\frac{\\mu^{5} u \\left(u - 1\\right)^{4} \\left(u + 1\\right)^{4} \\left(3 u^{2} - 19 u_{1}^{2} - 3\\right)}{10800} + \\frac{\\mu^{4} u_{1} \\left(u - 1\\right)^{2} \\left(u + 1\\right)^{2} \\left(69 u^{4} - 34 u^{2} u_{1}^{2} - 114 u^{2} - 12 u_{1}^{2} + 45\\right)}{32400} + \\frac{\\mu^{3} u \\left(u - 1\\right) \\left(u + 1\\right) \\left(42 u^{4} - 105 u^{2} u_{1}^{2} - 114 u^{2} - 148 u_{1}^{4} + 237 u_{1}^{2} + 72\\right)}{64800} - \\frac{\\mu^{2} u_{1} \\left(35 u^{4} + 48 u^{2} u_{1}^{2} - 129 u^{2} - 2 u_{1}^{4} - 36 u_{1}^{2} + 54\\right)}{32400} - \\frac{\\mu u \\left(5 u^{2} - 10 u_{1}^{2} - 18\\right)}{21600} + \\frac{u_{1}}{3600}\n",
      "\\right)\n"
     ]
    }
   ],
   "source": [
    "f2 = NF(F2, [u(t).diff(t), u1(t).diff(t)], [F1, F2], head=False)\n",
    "prn(f2, mu)\n",
    "prnlatex(f2, mu)"
   ]
  },
  {
   "cell_type": "code",
   "execution_count": 34,
   "id": "875af085",
   "metadata": {},
   "outputs": [
    {
     "data": {
      "text/plain": [
       "'mu**6*(-y[0]**12*y[1]/3600 + y[0]**10*y[1]/600 - y[0]**8*y[1]/240 + y[0]**6*y[1]/180 - y[0]**4*y[1]/240 + y[0]**2*y[1]/600 - y[1]/3600) + mu**5*(-y[0]**11/3600 + 19*y[0]**9*y[1]**2/10800 + y[0]**9/720 - 19*y[0]**7*y[1]**2/2700 - y[0]**7/360 + 19*y[0]**5*y[1]**2/1800 + y[0]**5/360 - 19*y[0]**3*y[1]**2/2700 - y[0]**3/720 + 19*y[0]*y[1]**2/10800 + y[0]/3600) + mu**4*(23*y[0]**8*y[1]/10800 - 17*y[0]**6*y[1]**3/16200 - 7*y[0]**6*y[1]/900 + 7*y[0]**4*y[1]**3/4050 + 19*y[0]**4*y[1]/1800 - y[0]**2*y[1]**3/3240 - 17*y[0]**2*y[1]/2700 - y[1]**3/2700 + y[1]/720) + mu**3*(7*y[0]**7/10800 - 7*y[0]**5*y[1]**2/4320 - 13*y[0]**5/5400 - 37*y[0]**3*y[1]**4/16200 + 19*y[0]**3*y[1]**2/3600 + 31*y[0]**3/10800 + 37*y[0]*y[1]**4/16200 - 79*y[0]*y[1]**2/21600 - y[0]/900) + mu**2*(-7*y[0]**4*y[1]/6480 - y[0]**2*y[1]**3/675 + 43*y[0]**2*y[1]/10800 + y[1]**5/16200 + y[1]**3/900 - y[1]/600) + mu*(-y[0]**3/4320 + y[0]*y[1]**2/2160 + y[0]/1200) + y[1]/3600'"
      ]
     },
     "execution_count": 34,
     "metadata": {},
     "output_type": "execute_result"
    }
   ],
   "source": [
    "replace(str(f2[5].collect(mu)))"
   ]
  },
  {
   "cell_type": "markdown",
   "id": "7f36461d",
   "metadata": {},
   "source": [
    "## Dormand–Prince method 4 order"
   ]
  },
  {
   "cell_type": "code",
   "execution_count": 35,
   "id": "c2a5ce76",
   "metadata": {},
   "outputs": [],
   "source": [
    "set_clip(6, 5, Rational(0, 1))\n",
    "r = DormandPrince4(f, Matrix([u(t), u1(t)]))"
   ]
  },
  {
   "cell_type": "code",
   "execution_count": 36,
   "id": "cbb8bb7e",
   "metadata": {},
   "outputs": [
    {
     "name": "stdout",
     "output_type": "stream",
     "text": [
      "h^0 =>\n"
     ]
    },
    {
     "data": {
      "text/latex": [
       "$\\displaystyle - u_{1} + u_{t}$"
      ],
      "text/plain": [
       "-u1 + u_{t}"
      ]
     },
     "metadata": {},
     "output_type": "display_data"
    },
    {
     "name": "stdout",
     "output_type": "stream",
     "text": [
      "h^1 =>\n"
     ]
    },
    {
     "data": {
      "text/latex": [
       "$\\displaystyle \\frac{\\mu u_{1} \\left(u - 1\\right) \\left(u + 1\\right)}{2} + \\frac{u + u_{tt}}{2}$"
      ],
      "text/plain": [
       "\\mu*u1*(u - 1)*(u + 1)/2 + (u + u_{tt})/2"
      ]
     },
     "metadata": {},
     "output_type": "display_data"
    },
    {
     "name": "stdout",
     "output_type": "stream",
     "text": [
      "h^2 =>\n"
     ]
    },
    {
     "data": {
      "text/latex": [
       "$\\displaystyle - \\frac{\\mu^{2} u_{1} \\left(u - 1\\right)^{2} \\left(u + 1\\right)^{2}}{6} - \\frac{\\mu u \\left(u^{2} - 2 u_{1}^{2} - 1\\right)}{6} + \\frac{u_{1} + u_{ttt}}{6}$"
      ],
      "text/plain": [
       "-\\mu**2*u1*(u - 1)**2*(u + 1)**2/6 - \\mu*u*(u**2 - 2*u1**2 - 1)/6 + (u1 + u_{ttt})/6"
      ]
     },
     "metadata": {},
     "output_type": "display_data"
    },
    {
     "name": "stdout",
     "output_type": "stream",
     "text": [
      "h^3 =>\n"
     ]
    },
    {
     "data": {
      "text/latex": [
       "$\\displaystyle \\frac{\\mu^{3} u_{1} \\left(u - 1\\right)^{3} \\left(u + 1\\right)^{3}}{24} + \\frac{\\mu^{2} u \\left(u - 1\\right) \\left(u + 1\\right) \\left(u^{2} - 8 u_{1}^{2} - 1\\right)}{24} - \\frac{\\mu u_{1} \\left(4 u^{2} - u_{1}^{2} - 1\\right)}{12} - \\frac{u - u_{tttt}}{24}$"
      ],
      "text/plain": [
       "\\mu**3*u1*(u - 1)**3*(u + 1)**3/24 + \\mu**2*u*(u - 1)*(u + 1)*(u**2 - 8*u1**2 - 1)/24 - \\mu*u1*(4*u**2 - u1**2 - 1)/12 - (u - u_{tttt})/24"
      ]
     },
     "metadata": {},
     "output_type": "display_data"
    },
    {
     "name": "stdout",
     "output_type": "stream",
     "text": [
      "h^4 =>\n"
     ]
    },
    {
     "data": {
      "text/latex": [
       "$\\displaystyle - \\frac{1097 \\mu^{4} u_{1} \\left(u - 1\\right)^{4} \\left(u + 1\\right)^{4}}{120000} - \\frac{\\mu^{3} u \\left(u - 1\\right)^{2} \\left(u + 1\\right)^{2} \\left(3291 u^{2} - 68338 u_{1}^{2} - 3291\\right)}{360000} + \\frac{\\mu^{2} u_{1} \\left(89851 u^{4} - 92126 u^{2} u_{1}^{2} - 99724 u^{2} + 42518 u_{1}^{2} + 9873\\right)}{360000} + \\frac{\\mu u \\left(4134 u^{2} - 11305 u_{1}^{2} - 1097\\right)}{60000} - \\frac{1097 u_{1} - 1000 u_{ttttt}}{120000}$"
      ],
      "text/plain": [
       "-1097*\\mu**4*u1*(u - 1)**4*(u + 1)**4/120000 - \\mu**3*u*(u - 1)**2*(u + 1)**2*(3291*u**2 - 68338*u1**2 - 3291)/360000 + \\mu**2*u1*(89851*u**4 - 92126*u**2*u1**2 - 99724*u**2 + 42518*u1**2 + 9873)/360000 + \\mu*u*(4134*u**2 - 11305*u1**2 - 1097)/60000 - (1097*u1 - 1000*u_{ttttt})/120000"
      ]
     },
     "metadata": {},
     "output_type": "display_data"
    },
    {
     "name": "stdout",
     "output_type": "stream",
     "text": [
      "- u_{1} + u_{t}\n",
      "+h\\left(\n",
      "\\frac{\\mu u_{1} \\left(u - 1\\right) \\left(u + 1\\right)}{2} + \\frac{u + u_{tt}}{2}\n",
      "\\right)\n",
      "+h^2\\left(\n",
      "- \\frac{\\mu^{2} u_{1} \\left(u - 1\\right)^{2} \\left(u + 1\\right)^{2}}{6} - \\frac{\\mu u \\left(u^{2} - 2 u_{1}^{2} - 1\\right)}{6} + \\frac{u_{1} + u_{ttt}}{6}\n",
      "\\right)\n",
      "+h^3\\left(\n",
      "\\frac{\\mu^{3} u_{1} \\left(u - 1\\right)^{3} \\left(u + 1\\right)^{3}}{24} + \\frac{\\mu^{2} u \\left(u - 1\\right) \\left(u + 1\\right) \\left(u^{2} - 8 u_{1}^{2} - 1\\right)}{24} - \\frac{\\mu u_{1} \\left(4 u^{2} - u_{1}^{2} - 1\\right)}{12} - \\frac{u - u_{tttt}}{24}\n",
      "\\right)\n",
      "+h^4\\left(\n",
      "- \\frac{1097 \\mu^{4} u_{1} \\left(u - 1\\right)^{4} \\left(u + 1\\right)^{4}}{120000} - \\frac{\\mu^{3} u \\left(u - 1\\right)^{2} \\left(u + 1\\right)^{2} \\left(3291 u^{2} - 68338 u_{1}^{2} - 3291\\right)}{360000} + \\frac{\\mu^{2} u_{1} \\left(89851 u^{4} - 92126 u^{2} u_{1}^{2} - 99724 u^{2} + 42518 u_{1}^{2} + 9873\\right)}{360000} + \\frac{\\mu u \\left(4134 u^{2} - 11305 u_{1}^{2} - 1097\\right)}{60000} - \\frac{1097 u_{1} - 1000 u_{ttttt}}{120000}\n",
      "\\right)\n"
     ]
    }
   ],
   "source": [
    "F1 = clip((T(u(t+h))-T(u(t)))/h  - T(r[0]))\n",
    "prn(F1, mu)\n",
    "prnlatex(F1, mu)"
   ]
  },
  {
   "cell_type": "code",
   "execution_count": 37,
   "id": "40f094ba",
   "metadata": {},
   "outputs": [
    {
     "name": "stdout",
     "output_type": "stream",
     "text": [
      "h^0 =>\n"
     ]
    },
    {
     "data": {
      "text/latex": [
       "$\\displaystyle \\mu u_{1} \\left(u - 1\\right) \\left(u + 1\\right) + u + u1_{t}$"
      ],
      "text/plain": [
       "\\mu*u1*(u - 1)*(u + 1) + u + u1_{t}"
      ]
     },
     "metadata": {},
     "output_type": "display_data"
    },
    {
     "name": "stdout",
     "output_type": "stream",
     "text": [
      "h^1 =>\n"
     ]
    },
    {
     "data": {
      "text/latex": [
       "$\\displaystyle - \\frac{\\mu^{2} u_{1} \\left(u - 1\\right)^{2} \\left(u + 1\\right)^{2}}{2} - \\frac{\\mu u \\left(u^{2} - 2 u_{1}^{2} - 1\\right)}{2} + \\frac{u_{1} + u1_{tt}}{2}$"
      ],
      "text/plain": [
       "-\\mu**2*u1*(u - 1)**2*(u + 1)**2/2 - \\mu*u*(u**2 - 2*u1**2 - 1)/2 + (u1 + u1_{tt})/2"
      ]
     },
     "metadata": {},
     "output_type": "display_data"
    },
    {
     "name": "stdout",
     "output_type": "stream",
     "text": [
      "h^2 =>\n"
     ]
    },
    {
     "data": {
      "text/latex": [
       "$\\displaystyle \\frac{\\mu^{3} u_{1} \\left(u - 1\\right)^{3} \\left(u + 1\\right)^{3}}{6} + \\frac{\\mu^{2} u \\left(u - 1\\right) \\left(u + 1\\right) \\left(u^{2} - 8 u_{1}^{2} - 1\\right)}{6} - \\frac{\\mu u_{1} \\left(4 u^{2} - u_{1}^{2} - 1\\right)}{3} - \\frac{u - u1_{ttt}}{6}$"
      ],
      "text/plain": [
       "\\mu**3*u1*(u - 1)**3*(u + 1)**3/6 + \\mu**2*u*(u - 1)*(u + 1)*(u**2 - 8*u1**2 - 1)/6 - \\mu*u1*(4*u**2 - u1**2 - 1)/3 - (u - u1_{ttt})/6"
      ]
     },
     "metadata": {},
     "output_type": "display_data"
    },
    {
     "name": "stdout",
     "output_type": "stream",
     "text": [
      "h^3 =>\n"
     ]
    },
    {
     "data": {
      "text/latex": [
       "$\\displaystyle - \\frac{\\mu^{4} u_{1} \\left(u - 1\\right)^{4} \\left(u + 1\\right)^{4}}{24} - \\frac{\\mu^{3} u \\left(u - 1\\right)^{2} \\left(u + 1\\right)^{2} \\left(u^{2} - 22 u_{1}^{2} - 1\\right)}{24} + \\frac{\\mu^{2} u_{1} \\left(29 u^{4} - 30 u^{2} u_{1}^{2} - 32 u^{2} + 14 u_{1}^{2} + 3\\right)}{24} + \\frac{\\mu u \\left(4 u^{2} - 11 u_{1}^{2} - 1\\right)}{12} - \\frac{u_{1} - u1_{tttt}}{24}$"
      ],
      "text/plain": [
       "-\\mu**4*u1*(u - 1)**4*(u + 1)**4/24 - \\mu**3*u*(u - 1)**2*(u + 1)**2*(u**2 - 22*u1**2 - 1)/24 + \\mu**2*u1*(29*u**4 - 30*u**2*u1**2 - 32*u**2 + 14*u1**2 + 3)/24 + \\mu*u*(4*u**2 - 11*u1**2 - 1)/12 - (u1 - u1_{tttt})/24"
      ]
     },
     "metadata": {},
     "output_type": "display_data"
    },
    {
     "name": "stdout",
     "output_type": "stream",
     "text": [
      "h^4 =>\n"
     ]
    },
    {
     "data": {
      "text/latex": [
       "$\\displaystyle \\frac{1097 \\mu^{5} u_{1} \\left(u - 1\\right)^{5} \\left(u + 1\\right)^{5}}{120000} + \\frac{\\mu^{4} u \\left(u - 1\\right)^{3} \\left(u + 1\\right)^{3} \\left(9873 u^{2} - 473210 u_{1}^{2} - 9873\\right)}{1080000} - \\frac{\\mu^{3} u_{1} \\left(u - 1\\right) \\left(u + 1\\right) \\left(2177328 u^{4} - 5403487 u^{2} u_{1}^{2} - 2295804 u^{2} + 1726059 u_{1}^{2} + 118476\\right)}{3240000} - \\frac{\\mu^{2} u \\left(787317 u^{4} - 6756028 u^{2} u_{1}^{2} - 876174 u^{2} + 1609688 u_{1}^{4} + 4065324 u_{1}^{2} + 88857\\right)}{3240000} + \\frac{\\mu u_{1} \\left(623650 u^{2} - 196376 u_{1}^{2} - 29619\\right)}{1080000} + \\frac{1097 u + 1000 u1_{ttttt}}{120000}$"
      ],
      "text/plain": [
       "1097*\\mu**5*u1*(u - 1)**5*(u + 1)**5/120000 + \\mu**4*u*(u - 1)**3*(u + 1)**3*(9873*u**2 - 473210*u1**2 - 9873)/1080000 - \\mu**3*u1*(u - 1)*(u + 1)*(2177328*u**4 - 5403487*u**2*u1**2 - 2295804*u**2 + 1726059*u1**2 + 118476)/3240000 - \\mu**2*u*(787317*u**4 - 6756028*u**2*u1**2 - 876174*u**2 + 1609688*u1**4 + 4065324*u1**2 + 88857)/3240000 + \\mu*u1*(623650*u**2 - 196376*u1**2 - 29619)/1080000 + (1097*u + 1000*u1_{ttttt})/120000"
      ]
     },
     "metadata": {},
     "output_type": "display_data"
    },
    {
     "name": "stdout",
     "output_type": "stream",
     "text": [
      "\\mu u_{1} \\left(u - 1\\right) \\left(u + 1\\right) + u + u1_{t}\n",
      "+h\\left(\n",
      "- \\frac{\\mu^{2} u_{1} \\left(u - 1\\right)^{2} \\left(u + 1\\right)^{2}}{2} - \\frac{\\mu u \\left(u^{2} - 2 u_{1}^{2} - 1\\right)}{2} + \\frac{u_{1} + u1_{tt}}{2}\n",
      "\\right)\n",
      "+h^2\\left(\n",
      "\\frac{\\mu^{3} u_{1} \\left(u - 1\\right)^{3} \\left(u + 1\\right)^{3}}{6} + \\frac{\\mu^{2} u \\left(u - 1\\right) \\left(u + 1\\right) \\left(u^{2} - 8 u_{1}^{2} - 1\\right)}{6} - \\frac{\\mu u_{1} \\left(4 u^{2} - u_{1}^{2} - 1\\right)}{3} - \\frac{u - u1_{ttt}}{6}\n",
      "\\right)\n",
      "+h^3\\left(\n",
      "- \\frac{\\mu^{4} u_{1} \\left(u - 1\\right)^{4} \\left(u + 1\\right)^{4}}{24} - \\frac{\\mu^{3} u \\left(u - 1\\right)^{2} \\left(u + 1\\right)^{2} \\left(u^{2} - 22 u_{1}^{2} - 1\\right)}{24} + \\frac{\\mu^{2} u_{1} \\left(29 u^{4} - 30 u^{2} u_{1}^{2} - 32 u^{2} + 14 u_{1}^{2} + 3\\right)}{24} + \\frac{\\mu u \\left(4 u^{2} - 11 u_{1}^{2} - 1\\right)}{12} - \\frac{u_{1} - u1_{tttt}}{24}\n",
      "\\right)\n",
      "+h^4\\left(\n",
      "\\frac{1097 \\mu^{5} u_{1} \\left(u - 1\\right)^{5} \\left(u + 1\\right)^{5}}{120000} + \\frac{\\mu^{4} u \\left(u - 1\\right)^{3} \\left(u + 1\\right)^{3} \\left(9873 u^{2} - 473210 u_{1}^{2} - 9873\\right)}{1080000} - \\frac{\\mu^{3} u_{1} \\left(u - 1\\right) \\left(u + 1\\right) \\left(2177328 u^{4} - 5403487 u^{2} u_{1}^{2} - 2295804 u^{2} + 1726059 u_{1}^{2} + 118476\\right)}{3240000} - \\frac{\\mu^{2} u \\left(787317 u^{4} - 6756028 u^{2} u_{1}^{2} - 876174 u^{2} + 1609688 u_{1}^{4} + 4065324 u_{1}^{2} + 88857\\right)}{3240000} + \\frac{\\mu u_{1} \\left(623650 u^{2} - 196376 u_{1}^{2} - 29619\\right)}{1080000} + \\frac{1097 u + 1000 u1_{ttttt}}{120000}\n",
      "\\right)\n"
     ]
    }
   ],
   "source": [
    "F2 = clip((T(u1(t+h))-T(u1(t)))/h  - T(r[1]))\n",
    "prn(F2, mu)\n",
    "prnlatex(F2, mu)"
   ]
  },
  {
   "cell_type": "code",
   "execution_count": 38,
   "id": "fcaaee2f",
   "metadata": {},
   "outputs": [
    {
     "name": "stdout",
     "output_type": "stream",
     "text": [
      "h^0 =>\n"
     ]
    },
    {
     "data": {
      "text/latex": [
       "$\\displaystyle - u_{1} + u_{t}$"
      ],
      "text/plain": [
       "-u1 + u_{t}"
      ]
     },
     "metadata": {},
     "output_type": "display_data"
    },
    {
     "name": "stdout",
     "output_type": "stream",
     "text": [
      "h^1 =>\n"
     ]
    },
    {
     "data": {
      "text/latex": [
       "$\\displaystyle 0$"
      ],
      "text/plain": [
       "0"
      ]
     },
     "metadata": {},
     "output_type": "display_data"
    },
    {
     "name": "stdout",
     "output_type": "stream",
     "text": [
      "h^2 =>\n"
     ]
    },
    {
     "data": {
      "text/latex": [
       "$\\displaystyle 0$"
      ],
      "text/plain": [
       "0"
      ]
     },
     "metadata": {},
     "output_type": "display_data"
    },
    {
     "name": "stdout",
     "output_type": "stream",
     "text": [
      "h^3 =>\n"
     ]
    },
    {
     "data": {
      "text/latex": [
       "$\\displaystyle 0$"
      ],
      "text/plain": [
       "0"
      ]
     },
     "metadata": {},
     "output_type": "display_data"
    },
    {
     "name": "stdout",
     "output_type": "stream",
     "text": [
      "h^4 =>\n"
     ]
    },
    {
     "data": {
      "text/latex": [
       "$\\displaystyle - \\frac{97 \\mu^{4} u_{1} \\left(u - 1\\right)^{4} \\left(u + 1\\right)^{4}}{120000} - \\frac{\\mu^{3} u \\left(u - 1\\right)^{2} \\left(u + 1\\right)^{2} \\left(291 u^{2} - 2338 u_{1}^{2} - 291\\right)}{360000} + \\frac{\\mu^{2} u_{1} \\left(2851 u^{4} - 2126 u^{2} u_{1}^{2} - 3724 u^{2} + 518 u_{1}^{2} + 873\\right)}{360000} + \\frac{\\mu u \\left(134 u^{2} - 305 u_{1}^{2} - 97\\right)}{60000} - \\frac{97 u_{1}}{120000}$"
      ],
      "text/plain": [
       "-97*\\mu**4*u1*(u - 1)**4*(u + 1)**4/120000 - \\mu**3*u*(u - 1)**2*(u + 1)**2*(291*u**2 - 2338*u1**2 - 291)/360000 + \\mu**2*u1*(2851*u**4 - 2126*u**2*u1**2 - 3724*u**2 + 518*u1**2 + 873)/360000 + \\mu*u*(134*u**2 - 305*u1**2 - 97)/60000 - 97*u1/120000"
      ]
     },
     "metadata": {},
     "output_type": "display_data"
    },
    {
     "name": "stdout",
     "output_type": "stream",
     "text": [
      "- u_{1} + u_{t}\n",
      "+h\\left(\n",
      "0\n",
      "\\right)\n",
      "+h^2\\left(\n",
      "0\n",
      "\\right)\n",
      "+h^3\\left(\n",
      "0\n",
      "\\right)\n",
      "+h^4\\left(\n",
      "- \\frac{97 \\mu^{4} u_{1} \\left(u - 1\\right)^{4} \\left(u + 1\\right)^{4}}{120000} - \\frac{\\mu^{3} u \\left(u - 1\\right)^{2} \\left(u + 1\\right)^{2} \\left(291 u^{2} - 2338 u_{1}^{2} - 291\\right)}{360000} + \\frac{\\mu^{2} u_{1} \\left(2851 u^{4} - 2126 u^{2} u_{1}^{2} - 3724 u^{2} + 518 u_{1}^{2} + 873\\right)}{360000} + \\frac{\\mu u \\left(134 u^{2} - 305 u_{1}^{2} - 97\\right)}{60000} - \\frac{97 u_{1}}{120000}\n",
      "\\right)\n"
     ]
    }
   ],
   "source": [
    "f1 = NF(F1, [u(t).diff(t), u1(t).diff(t)], [F1, F2], head=False)\n",
    "prn(f1, mu)\n",
    "prnlatex(f1, mu)"
   ]
  },
  {
   "cell_type": "code",
   "execution_count": 39,
   "id": "d98d89e7",
   "metadata": {},
   "outputs": [
    {
     "name": "stdout",
     "output_type": "stream",
     "text": [
      "h^0 =>\n"
     ]
    },
    {
     "data": {
      "text/latex": [
       "$\\displaystyle \\mu u_{1} \\left(u - 1\\right) \\left(u + 1\\right) + u + u1_{t}$"
      ],
      "text/plain": [
       "\\mu*u1*(u - 1)*(u + 1) + u + u1_{t}"
      ]
     },
     "metadata": {},
     "output_type": "display_data"
    },
    {
     "name": "stdout",
     "output_type": "stream",
     "text": [
      "h^1 =>\n"
     ]
    },
    {
     "data": {
      "text/latex": [
       "$\\displaystyle 0$"
      ],
      "text/plain": [
       "0"
      ]
     },
     "metadata": {},
     "output_type": "display_data"
    },
    {
     "name": "stdout",
     "output_type": "stream",
     "text": [
      "h^2 =>\n"
     ]
    },
    {
     "data": {
      "text/latex": [
       "$\\displaystyle 0$"
      ],
      "text/plain": [
       "0"
      ]
     },
     "metadata": {},
     "output_type": "display_data"
    },
    {
     "name": "stdout",
     "output_type": "stream",
     "text": [
      "h^3 =>\n"
     ]
    },
    {
     "data": {
      "text/latex": [
       "$\\displaystyle 0$"
      ],
      "text/plain": [
       "0"
      ]
     },
     "metadata": {},
     "output_type": "display_data"
    },
    {
     "name": "stdout",
     "output_type": "stream",
     "text": [
      "h^4 =>\n"
     ]
    },
    {
     "data": {
      "text/latex": [
       "$\\displaystyle \\frac{97 \\mu^{5} u_{1} \\left(u - 1\\right)^{5} \\left(u + 1\\right)^{5}}{120000} + \\frac{\\mu^{4} u \\left(u - 1\\right)^{3} \\left(u + 1\\right)^{3} \\left(873 u^{2} - 5210 u_{1}^{2} - 873\\right)}{1080000} - \\frac{\\mu^{3} u_{1} \\left(u - 1\\right) \\left(u + 1\\right) \\left(17328 u^{4} - 3487 u^{2} u_{1}^{2} - 27804 u^{2} - 1941 u_{1}^{2} + 10476\\right)}{3240000} - \\frac{\\mu^{2} u \\left(4317 u^{4} - 6028 u^{2} u_{1}^{2} - 12174 u^{2} - 10312 u_{1}^{4} + 15324 u_{1}^{2} + 7857\\right)}{3240000} + \\frac{\\mu u_{1} \\left(2650 u^{2} + 1624 u_{1}^{2} - 2619\\right)}{1080000} + \\frac{97 u}{120000}$"
      ],
      "text/plain": [
       "97*\\mu**5*u1*(u - 1)**5*(u + 1)**5/120000 + \\mu**4*u*(u - 1)**3*(u + 1)**3*(873*u**2 - 5210*u1**2 - 873)/1080000 - \\mu**3*u1*(u - 1)*(u + 1)*(17328*u**4 - 3487*u**2*u1**2 - 27804*u**2 - 1941*u1**2 + 10476)/3240000 - \\mu**2*u*(4317*u**4 - 6028*u**2*u1**2 - 12174*u**2 - 10312*u1**4 + 15324*u1**2 + 7857)/3240000 + \\mu*u1*(2650*u**2 + 1624*u1**2 - 2619)/1080000 + 97*u/120000"
      ]
     },
     "metadata": {},
     "output_type": "display_data"
    },
    {
     "name": "stdout",
     "output_type": "stream",
     "text": [
      "\\mu u_{1} \\left(u - 1\\right) \\left(u + 1\\right) + u + u1_{t}\n",
      "+h\\left(\n",
      "0\n",
      "\\right)\n",
      "+h^2\\left(\n",
      "0\n",
      "\\right)\n",
      "+h^3\\left(\n",
      "0\n",
      "\\right)\n",
      "+h^4\\left(\n",
      "\\frac{97 \\mu^{5} u_{1} \\left(u - 1\\right)^{5} \\left(u + 1\\right)^{5}}{120000} + \\frac{\\mu^{4} u \\left(u - 1\\right)^{3} \\left(u + 1\\right)^{3} \\left(873 u^{2} - 5210 u_{1}^{2} - 873\\right)}{1080000} - \\frac{\\mu^{3} u_{1} \\left(u - 1\\right) \\left(u + 1\\right) \\left(17328 u^{4} - 3487 u^{2} u_{1}^{2} - 27804 u^{2} - 1941 u_{1}^{2} + 10476\\right)}{3240000} - \\frac{\\mu^{2} u \\left(4317 u^{4} - 6028 u^{2} u_{1}^{2} - 12174 u^{2} - 10312 u_{1}^{4} + 15324 u_{1}^{2} + 7857\\right)}{3240000} + \\frac{\\mu u_{1} \\left(2650 u^{2} + 1624 u_{1}^{2} - 2619\\right)}{1080000} + \\frac{97 u}{120000}\n",
      "\\right)\n"
     ]
    }
   ],
   "source": [
    "f2 = NF(F2, [u(t).diff(t), u1(t).diff(t)], [F1, F2], head=False)\n",
    "prn(f2, mu)\n",
    "prnlatex(f2, mu)"
   ]
  },
  {
   "cell_type": "code",
   "execution_count": 40,
   "id": "51b80653",
   "metadata": {},
   "outputs": [
    {
     "data": {
      "text/plain": [
       "'mu**5*(97*y[0]**10*y[1]/120000 - 97*y[0]**8*y[1]/24000 + 97*y[0]**6*y[1]/12000 - 97*y[0]**4*y[1]/12000 + 97*y[0]**2*y[1]/24000 - 97*y[1]/120000) + mu**4*(97*y[0]**9/120000 - 521*y[0]**7*y[1]**2/108000 - 97*y[0]**7/30000 + 521*y[0]**5*y[1]**2/36000 + 97*y[0]**5/20000 - 521*y[0]**3*y[1]**2/36000 - 97*y[0]**3/30000 + 521*y[0]*y[1]**2/108000 + 97*y[0]/120000) + mu**3*(-361*y[0]**6*y[1]/67500 + 3487*y[0]**4*y[1]**3/3240000 + 3761*y[0]**4*y[1]/270000 - 773*y[0]**2*y[1]**3/1620000 - 319*y[0]**2*y[1]/27000 - 647*y[1]**3/1080000 + 97*y[1]/30000) + mu**2*(-1439*y[0]**5/1080000 + 1507*y[0]**3*y[1]**2/810000 + 2029*y[0]**3/540000 + 1289*y[0]*y[1]**4/405000 - 1277*y[0]*y[1]**2/270000 - 97*y[0]/40000) + mu*(53*y[0]**2*y[1]/21600 + 203*y[1]**3/135000 - 97*y[1]/40000) + 97*y[0]/120000'"
      ]
     },
     "execution_count": 40,
     "metadata": {},
     "output_type": "execute_result"
    }
   ],
   "source": [
    "replace(str(f2[4].collect(mu)))"
   ]
  },
  {
   "cell_type": "markdown",
   "id": "290b97e3",
   "metadata": {},
   "source": [
    "### Adams–Bashforth method 4 order"
   ]
  },
  {
   "cell_type": "code",
   "execution_count": 41,
   "id": "cb8773ab",
   "metadata": {},
   "outputs": [],
   "source": [
    "set_clip(7, 6, Rational(0, 1))\n",
    "r = AdamsBashforth4(g, Matrix([u(t), u1(t)]))"
   ]
  },
  {
   "cell_type": "code",
   "execution_count": 42,
   "id": "69303d70",
   "metadata": {},
   "outputs": [
    {
     "name": "stdout",
     "output_type": "stream",
     "text": [
      "h^0 =>\n"
     ]
    },
    {
     "data": {
      "text/latex": [
       "$\\displaystyle - u_{1} + u_{t}$"
      ],
      "text/plain": [
       "-u1 + u_{t}"
      ]
     },
     "metadata": {},
     "output_type": "display_data"
    },
    {
     "name": "stdout",
     "output_type": "stream",
     "text": [
      "h^1 =>\n"
     ]
    },
    {
     "data": {
      "text/latex": [
       "$\\displaystyle - \\frac{7 \\left(u1_{t} - u_{tt}\\right)}{2}$"
      ],
      "text/plain": [
       "-7*(u1_{t} - u_{tt})/2"
      ]
     },
     "metadata": {},
     "output_type": "display_data"
    },
    {
     "name": "stdout",
     "output_type": "stream",
     "text": [
      "h^2 =>\n"
     ]
    },
    {
     "data": {
      "text/latex": [
       "$\\displaystyle - \\frac{37 \\left(u1_{tt} - u_{ttt}\\right)}{6}$"
      ],
      "text/plain": [
       "-37*(u1_{tt} - u_{ttt})/6"
      ]
     },
     "metadata": {},
     "output_type": "display_data"
    },
    {
     "name": "stdout",
     "output_type": "stream",
     "text": [
      "h^3 =>\n"
     ]
    },
    {
     "data": {
      "text/latex": [
       "$\\displaystyle - \\frac{175 \\left(u1_{ttt} - u_{tttt}\\right)}{24}$"
      ],
      "text/plain": [
       "-175*(u1_{ttt} - u_{tttt})/24"
      ]
     },
     "metadata": {},
     "output_type": "display_data"
    },
    {
     "name": "stdout",
     "output_type": "stream",
     "text": [
      "h^4 =>\n"
     ]
    },
    {
     "data": {
      "text/latex": [
       "$\\displaystyle - \\frac{4435 u1_{tttt} - 4686 u_{ttttt}}{720}$"
      ],
      "text/plain": [
       "-(4435*u1_{tttt} - 4686*u_{ttttt})/720"
      ]
     },
     "metadata": {},
     "output_type": "display_data"
    },
    {
     "name": "stdout",
     "output_type": "stream",
     "text": [
      "h^5 =>\n"
     ]
    },
    {
     "data": {
      "text/latex": [
       "$\\displaystyle - \\frac{5757 u1_{ttttt} - 6734 u_{tttttt}}{1440}$"
      ],
      "text/plain": [
       "-(5757*u1_{ttttt} - 6734*u_{tttttt})/1440"
      ]
     },
     "metadata": {},
     "output_type": "display_data"
    },
    {
     "name": "stdout",
     "output_type": "stream",
     "text": [
      "- u_{1} + u_{t}\n",
      "+h\\left(\n",
      "- \\frac{7 \\left(u1_{t} - u_{tt}\\right)}{2}\n",
      "\\right)\n",
      "+h^2\\left(\n",
      "- \\frac{37 \\left(u1_{tt} - u_{ttt}\\right)}{6}\n",
      "\\right)\n",
      "+h^3\\left(\n",
      "- \\frac{175 \\left(u1_{ttt} - u_{tttt}\\right)}{24}\n",
      "\\right)\n",
      "+h^4\\left(\n",
      "- \\frac{4435 u1_{tttt} - 4686 u_{ttttt}}{720}\n",
      "\\right)\n",
      "+h^5\\left(\n",
      "- \\frac{5757 u1_{ttttt} - 6734 u_{tttttt}}{1440}\n",
      "\\right)\n"
     ]
    }
   ],
   "source": [
    "F1 = clip((T(u(t+4*h))-T(u(t+3*h)))/h - T(r[0]))\n",
    "prn(F1, mu)\n",
    "prnlatex(F1, mu)"
   ]
  },
  {
   "cell_type": "code",
   "execution_count": 43,
   "id": "0124fa3c",
   "metadata": {},
   "outputs": [
    {
     "name": "stdout",
     "output_type": "stream",
     "text": [
      "h^0 =>\n"
     ]
    },
    {
     "data": {
      "text/latex": [
       "$\\displaystyle \\mu u_{1} \\left(u - 1\\right) \\left(u + 1\\right) + u + u1_{t}$"
      ],
      "text/plain": [
       "\\mu*u1*(u - 1)*(u + 1) + u + u1_{t}"
      ]
     },
     "metadata": {},
     "output_type": "display_data"
    },
    {
     "name": "stdout",
     "output_type": "stream",
     "text": [
      "h^1 =>\n"
     ]
    },
    {
     "data": {
      "text/latex": [
       "$\\displaystyle \\frac{7 \\mu \\left(u^{2} u1_{t} + 2 u u_{1} u_{t} - u1_{t}\\right)}{2} + \\frac{7 \\left(u1_{tt} + u_{t}\\right)}{2}$"
      ],
      "text/plain": [
       "7*\\mu*(u**2*u1_{t} + 2*u*u1*u_{t} - u1_{t})/2 + 7*(u1_{tt} + u_{t})/2"
      ]
     },
     "metadata": {},
     "output_type": "display_data"
    },
    {
     "name": "stdout",
     "output_type": "stream",
     "text": [
      "h^2 =>\n"
     ]
    },
    {
     "data": {
      "text/latex": [
       "$\\displaystyle \\frac{37 \\mu \\left(u^{2} u1_{tt} + 2 u u_{1} u_{tt} + 4 u u1_{t} u_{t} + 2 u_{1} u_{t}^{2} - u1_{tt}\\right)}{6} + \\frac{37 \\left(u1_{ttt} + u_{tt}\\right)}{6}$"
      ],
      "text/plain": [
       "37*\\mu*(u**2*u1_{tt} + 2*u*u1*u_{tt} + 4*u*u1_{t}*u_{t} + 2*u1*u_{t}**2 - u1_{tt})/6 + 37*(u1_{ttt} + u_{tt})/6"
      ]
     },
     "metadata": {},
     "output_type": "display_data"
    },
    {
     "name": "stdout",
     "output_type": "stream",
     "text": [
      "h^3 =>\n"
     ]
    },
    {
     "data": {
      "text/latex": [
       "$\\displaystyle \\frac{175 \\mu \\left(u^{2} u1_{ttt} + 2 u u_{1} u_{ttt} + 6 u u1_{tt} u_{t} + 6 u u1_{t} u_{tt} + 6 u_{1} u_{tt} u_{t} - u1_{ttt} + 6 u1_{t} u_{t}^{2}\\right)}{24} + \\frac{175 \\left(u1_{tttt} + u_{ttt}\\right)}{24}$"
      ],
      "text/plain": [
       "175*\\mu*(u**2*u1_{ttt} + 2*u*u1*u_{ttt} + 6*u*u1_{tt}*u_{t} + 6*u*u1_{t}*u_{tt} + 6*u1*u_{tt}*u_{t} - u1_{ttt} + 6*u1_{t}*u_{t}**2)/24 + 175*(u1_{tttt} + u_{ttt})/24"
      ]
     },
     "metadata": {},
     "output_type": "display_data"
    },
    {
     "name": "stdout",
     "output_type": "stream",
     "text": [
      "h^4 =>\n"
     ]
    },
    {
     "data": {
      "text/latex": [
       "$\\displaystyle \\frac{887 \\mu \\left(u^{2} u1_{tttt} + 2 u u_{1} u_{tttt} + 8 u u1_{ttt} u_{t} + 12 u u1_{tt} u_{tt} + 8 u u1_{t} u_{ttt} + 8 u_{1} u_{ttt} u_{t} + 6 u_{1} u_{tt}^{2} - u1_{tttt} + 12 u1_{tt} u_{t}^{2} + 24 u1_{t} u_{tt} u_{t}\\right)}{144} + \\frac{4686 u1_{ttttt} + 4435 u_{tttt}}{720}$"
      ],
      "text/plain": [
       "887*\\mu*(u**2*u1_{tttt} + 2*u*u1*u_{tttt} + 8*u*u1_{ttt}*u_{t} + 12*u*u1_{tt}*u_{tt} + 8*u*u1_{t}*u_{ttt} + 8*u1*u_{ttt}*u_{t} + 6*u1*u_{tt}**2 - u1_{tttt} + 12*u1_{tt}*u_{t}**2 + 24*u1_{t}*u_{tt}*u_{t})/144 + (4686*u1_{ttttt} + 4435*u_{tttt})/720"
      ]
     },
     "metadata": {},
     "output_type": "display_data"
    },
    {
     "name": "stdout",
     "output_type": "stream",
     "text": [
      "h^5 =>\n"
     ]
    },
    {
     "data": {
      "text/latex": [
       "$\\displaystyle \\frac{1919 \\mu \\left(u^{2} u1_{ttttt} + 2 u u_{1} u_{ttttt} + 10 u u1_{tttt} u_{t} + 20 u u1_{ttt} u_{tt} + 20 u u1_{tt} u_{ttt} + 10 u u1_{t} u_{tttt} + 10 u_{1} u_{tttt} u_{t} + 20 u_{1} u_{ttt} u_{tt} - u1_{ttttt} + 20 u1_{ttt} u_{t}^{2} + 60 u1_{tt} u_{tt} u_{t} + 40 u1_{t} u_{ttt} u_{t} + 30 u1_{t} u_{tt}^{2}\\right)}{480} + \\frac{6734 u1_{tttttt} + 5757 u_{ttttt}}{1440}$"
      ],
      "text/plain": [
       "1919*\\mu*(u**2*u1_{ttttt} + 2*u*u1*u_{ttttt} + 10*u*u1_{tttt}*u_{t} + 20*u*u1_{ttt}*u_{tt} + 20*u*u1_{tt}*u_{ttt} + 10*u*u1_{t}*u_{tttt} + 10*u1*u_{tttt}*u_{t} + 20*u1*u_{ttt}*u_{tt} - u1_{ttttt} + 20*u1_{ttt}*u_{t}**2 + 60*u1_{tt}*u_{tt}*u_{t} + 40*u1_{t}*u_{ttt}*u_{t} + 30*u1_{t}*u_{tt}**2)/480 + (6734*u1_{tttttt} + 5757*u_{ttttt})/1440"
      ]
     },
     "metadata": {},
     "output_type": "display_data"
    },
    {
     "name": "stdout",
     "output_type": "stream",
     "text": [
      "\\mu u_{1} \\left(u - 1\\right) \\left(u + 1\\right) + u + u1_{t}\n",
      "+h\\left(\n",
      "\\frac{7 \\mu \\left(u^{2} u1_{t} + 2 u u_{1} u_{t} - u1_{t}\\right)}{2} + \\frac{7 \\left(u1_{tt} + u_{t}\\right)}{2}\n",
      "\\right)\n",
      "+h^2\\left(\n",
      "\\frac{37 \\mu \\left(u^{2} u1_{tt} + 2 u u_{1} u_{tt} + 4 u u1_{t} u_{t} + 2 u_{1} u_{t}^{2} - u1_{tt}\\right)}{6} + \\frac{37 \\left(u1_{ttt} + u_{tt}\\right)}{6}\n",
      "\\right)\n",
      "+h^3\\left(\n",
      "\\frac{175 \\mu \\left(u^{2} u1_{ttt} + 2 u u_{1} u_{ttt} + 6 u u1_{tt} u_{t} + 6 u u1_{t} u_{tt} + 6 u_{1} u_{tt} u_{t} - u1_{ttt} + 6 u1_{t} u_{t}^{2}\\right)}{24} + \\frac{175 \\left(u1_{tttt} + u_{ttt}\\right)}{24}\n",
      "\\right)\n",
      "+h^4\\left(\n",
      "\\frac{887 \\mu \\left(u^{2} u1_{tttt} + 2 u u_{1} u_{tttt} + 8 u u1_{ttt} u_{t} + 12 u u1_{tt} u_{tt} + 8 u u1_{t} u_{ttt} + 8 u_{1} u_{ttt} u_{t} + 6 u_{1} u_{tt}^{2} - u1_{tttt} + 12 u1_{tt} u_{t}^{2} + 24 u1_{t} u_{tt} u_{t}\\right)}{144} + \\frac{4686 u1_{ttttt} + 4435 u_{tttt}}{720}\n",
      "\\right)\n",
      "+h^5\\left(\n",
      "\\frac{1919 \\mu \\left(u^{2} u1_{ttttt} + 2 u u_{1} u_{ttttt} + 10 u u1_{tttt} u_{t} + 20 u u1_{ttt} u_{tt} + 20 u u1_{tt} u_{ttt} + 10 u u1_{t} u_{tttt} + 10 u_{1} u_{tttt} u_{t} + 20 u_{1} u_{ttt} u_{tt} - u1_{ttttt} + 20 u1_{ttt} u_{t}^{2} + 60 u1_{tt} u_{tt} u_{t} + 40 u1_{t} u_{ttt} u_{t} + 30 u1_{t} u_{tt}^{2}\\right)}{480} + \\frac{6734 u1_{tttttt} + 5757 u_{ttttt}}{1440}\n",
      "\\right)\n"
     ]
    }
   ],
   "source": [
    "F2 = clip((T(u1(t+4*h))-T(u1(t+3*h)))/h - T(r[1]))\n",
    "prn(F2, mu)\n",
    "prnlatex(F2, mu)"
   ]
  },
  {
   "cell_type": "code",
   "execution_count": 44,
   "id": "9429c002",
   "metadata": {},
   "outputs": [
    {
     "name": "stdout",
     "output_type": "stream",
     "text": [
      "h^0 =>\n"
     ]
    },
    {
     "data": {
      "text/latex": [
       "$\\displaystyle - u_{1} + u_{t}$"
      ],
      "text/plain": [
       "-u1 + u_{t}"
      ]
     },
     "metadata": {},
     "output_type": "display_data"
    },
    {
     "name": "stdout",
     "output_type": "stream",
     "text": [
      "h^1 =>\n"
     ]
    },
    {
     "data": {
      "text/latex": [
       "$\\displaystyle 0$"
      ],
      "text/plain": [
       "0"
      ]
     },
     "metadata": {},
     "output_type": "display_data"
    },
    {
     "name": "stdout",
     "output_type": "stream",
     "text": [
      "h^2 =>\n"
     ]
    },
    {
     "data": {
      "text/latex": [
       "$\\displaystyle 0$"
      ],
      "text/plain": [
       "0"
      ]
     },
     "metadata": {},
     "output_type": "display_data"
    },
    {
     "name": "stdout",
     "output_type": "stream",
     "text": [
      "h^3 =>\n"
     ]
    },
    {
     "data": {
      "text/latex": [
       "$\\displaystyle 0$"
      ],
      "text/plain": [
       "0"
      ]
     },
     "metadata": {},
     "output_type": "display_data"
    },
    {
     "name": "stdout",
     "output_type": "stream",
     "text": [
      "h^4 =>\n"
     ]
    },
    {
     "data": {
      "text/latex": [
       "$\\displaystyle \\frac{251 \\mu^{4} u_{1} \\left(u - 1\\right)^{4} \\left(u + 1\\right)^{4}}{720} + \\frac{251 \\mu^{3} u \\left(u - 1\\right)^{2} \\left(u + 1\\right)^{2} \\left(u^{2} - 22 u_{1}^{2} - 1\\right)}{720} - \\frac{251 \\mu^{2} u_{1} \\left(29 u^{4} - 30 u^{2} u_{1}^{2} - 32 u^{2} + 14 u_{1}^{2} + 3\\right)}{720} - \\frac{251 \\mu u \\left(4 u^{2} - 11 u_{1}^{2} - 1\\right)}{360} + \\frac{251 u_{1}}{720}$"
      ],
      "text/plain": [
       "251*\\mu**4*u1*(u - 1)**4*(u + 1)**4/720 + 251*\\mu**3*u*(u - 1)**2*(u + 1)**2*(u**2 - 22*u1**2 - 1)/720 - 251*\\mu**2*u1*(29*u**4 - 30*u**2*u1**2 - 32*u**2 + 14*u1**2 + 3)/720 - 251*\\mu*u*(4*u**2 - 11*u1**2 - 1)/360 + 251*u1/720"
      ]
     },
     "metadata": {},
     "output_type": "display_data"
    },
    {
     "name": "stdout",
     "output_type": "stream",
     "text": [
      "h^5 =>\n"
     ]
    },
    {
     "data": {
      "text/latex": [
       "$\\displaystyle \\frac{13 \\mu^{5} u_{1} \\left(u - 1\\right)^{5} \\left(u + 1\\right)^{5}}{24} + \\frac{13 \\mu^{4} u \\left(u - 1\\right)^{3} \\left(u + 1\\right)^{3} \\left(u^{2} - 52 u_{1}^{2} - 1\\right)}{24} - \\frac{13 \\mu^{3} u_{1} \\left(u - 1\\right) \\left(u + 1\\right) \\left(20 u^{4} - 50 u^{2} u_{1}^{2} - 21 u^{2} + 16 u_{1}^{2} + 1\\right)}{6} - \\frac{13 \\mu^{2} u \\left(29 u^{4} - 250 u^{2} u_{1}^{2} - 32 u^{2} + 60 u_{1}^{4} + 150 u_{1}^{2} + 3\\right)}{24} + \\frac{13 \\mu u_{1} \\left(69 u^{2} - 22 u_{1}^{2} - 3\\right)}{24} + \\frac{13 u}{24}$"
      ],
      "text/plain": [
       "13*\\mu**5*u1*(u - 1)**5*(u + 1)**5/24 + 13*\\mu**4*u*(u - 1)**3*(u + 1)**3*(u**2 - 52*u1**2 - 1)/24 - 13*\\mu**3*u1*(u - 1)*(u + 1)*(20*u**4 - 50*u**2*u1**2 - 21*u**2 + 16*u1**2 + 1)/6 - 13*\\mu**2*u*(29*u**4 - 250*u**2*u1**2 - 32*u**2 + 60*u1**4 + 150*u1**2 + 3)/24 + 13*\\mu*u1*(69*u**2 - 22*u1**2 - 3)/24 + 13*u/24"
      ]
     },
     "metadata": {},
     "output_type": "display_data"
    },
    {
     "name": "stdout",
     "output_type": "stream",
     "text": [
      "- u_{1} + u_{t}\n",
      "+h\\left(\n",
      "0\n",
      "\\right)\n",
      "+h^2\\left(\n",
      "0\n",
      "\\right)\n",
      "+h^3\\left(\n",
      "0\n",
      "\\right)\n",
      "+h^4\\left(\n",
      "\\frac{251 \\mu^{4} u_{1} \\left(u - 1\\right)^{4} \\left(u + 1\\right)^{4}}{720} + \\frac{251 \\mu^{3} u \\left(u - 1\\right)^{2} \\left(u + 1\\right)^{2} \\left(u^{2} - 22 u_{1}^{2} - 1\\right)}{720} - \\frac{251 \\mu^{2} u_{1} \\left(29 u^{4} - 30 u^{2} u_{1}^{2} - 32 u^{2} + 14 u_{1}^{2} + 3\\right)}{720} - \\frac{251 \\mu u \\left(4 u^{2} - 11 u_{1}^{2} - 1\\right)}{360} + \\frac{251 u_{1}}{720}\n",
      "\\right)\n",
      "+h^5\\left(\n",
      "\\frac{13 \\mu^{5} u_{1} \\left(u - 1\\right)^{5} \\left(u + 1\\right)^{5}}{24} + \\frac{13 \\mu^{4} u \\left(u - 1\\right)^{3} \\left(u + 1\\right)^{3} \\left(u^{2} - 52 u_{1}^{2} - 1\\right)}{24} - \\frac{13 \\mu^{3} u_{1} \\left(u - 1\\right) \\left(u + 1\\right) \\left(20 u^{4} - 50 u^{2} u_{1}^{2} - 21 u^{2} + 16 u_{1}^{2} + 1\\right)}{6} - \\frac{13 \\mu^{2} u \\left(29 u^{4} - 250 u^{2} u_{1}^{2} - 32 u^{2} + 60 u_{1}^{4} + 150 u_{1}^{2} + 3\\right)}{24} + \\frac{13 \\mu u_{1} \\left(69 u^{2} - 22 u_{1}^{2} - 3\\right)}{24} + \\frac{13 u}{24}\n",
      "\\right)\n"
     ]
    }
   ],
   "source": [
    "f1 = NF(F1, [u(t).diff(t), u1(t).diff(t)], [F1, F2], head=False)\n",
    "prn(f1, mu)\n",
    "prnlatex(f1, mu)"
   ]
  },
  {
   "cell_type": "code",
   "execution_count": 45,
   "id": "1740ee36",
   "metadata": {},
   "outputs": [
    {
     "name": "stdout",
     "output_type": "stream",
     "text": [
      "h^0 =>\n"
     ]
    },
    {
     "data": {
      "text/latex": [
       "$\\displaystyle \\mu u_{1} \\left(u - 1\\right) \\left(u + 1\\right) + u + u1_{t}$"
      ],
      "text/plain": [
       "\\mu*u1*(u - 1)*(u + 1) + u + u1_{t}"
      ]
     },
     "metadata": {},
     "output_type": "display_data"
    },
    {
     "name": "stdout",
     "output_type": "stream",
     "text": [
      "h^1 =>\n"
     ]
    },
    {
     "data": {
      "text/latex": [
       "$\\displaystyle 0$"
      ],
      "text/plain": [
       "0"
      ]
     },
     "metadata": {},
     "output_type": "display_data"
    },
    {
     "name": "stdout",
     "output_type": "stream",
     "text": [
      "h^2 =>\n"
     ]
    },
    {
     "data": {
      "text/latex": [
       "$\\displaystyle 0$"
      ],
      "text/plain": [
       "0"
      ]
     },
     "metadata": {},
     "output_type": "display_data"
    },
    {
     "name": "stdout",
     "output_type": "stream",
     "text": [
      "h^3 =>\n"
     ]
    },
    {
     "data": {
      "text/latex": [
       "$\\displaystyle 0$"
      ],
      "text/plain": [
       "0"
      ]
     },
     "metadata": {},
     "output_type": "display_data"
    },
    {
     "name": "stdout",
     "output_type": "stream",
     "text": [
      "h^4 =>\n"
     ]
    },
    {
     "data": {
      "text/latex": [
       "$\\displaystyle - \\frac{251 \\mu^{5} u_{1} \\left(u - 1\\right)^{5} \\left(u + 1\\right)^{5}}{720} - \\frac{251 \\mu^{4} u \\left(u - 1\\right)^{3} \\left(u + 1\\right)^{3} \\left(u^{2} - 52 u_{1}^{2} - 1\\right)}{720} + \\frac{251 \\mu^{3} u_{1} \\left(u - 1\\right) \\left(u + 1\\right) \\left(20 u^{4} - 50 u^{2} u_{1}^{2} - 21 u^{2} + 16 u_{1}^{2} + 1\\right)}{180} + \\frac{251 \\mu^{2} u \\left(29 u^{4} - 250 u^{2} u_{1}^{2} - 32 u^{2} + 60 u_{1}^{4} + 150 u_{1}^{2} + 3\\right)}{720} - \\frac{251 \\mu u_{1} \\left(69 u^{2} - 22 u_{1}^{2} - 3\\right)}{720} - \\frac{251 u}{720}$"
      ],
      "text/plain": [
       "-251*\\mu**5*u1*(u - 1)**5*(u + 1)**5/720 - 251*\\mu**4*u*(u - 1)**3*(u + 1)**3*(u**2 - 52*u1**2 - 1)/720 + 251*\\mu**3*u1*(u - 1)*(u + 1)*(20*u**4 - 50*u**2*u1**2 - 21*u**2 + 16*u1**2 + 1)/180 + 251*\\mu**2*u*(29*u**4 - 250*u**2*u1**2 - 32*u**2 + 60*u1**4 + 150*u1**2 + 3)/720 - 251*\\mu*u1*(69*u**2 - 22*u1**2 - 3)/720 - 251*u/720"
      ]
     },
     "metadata": {},
     "output_type": "display_data"
    },
    {
     "name": "stdout",
     "output_type": "stream",
     "text": [
      "h^5 =>\n"
     ]
    },
    {
     "data": {
      "text/latex": [
       "$\\displaystyle - \\frac{13 \\mu^{6} u_{1} \\left(u - 1\\right)^{6} \\left(u + 1\\right)^{6}}{24} - \\frac{13 \\mu^{5} u \\left(u - 1\\right)^{4} \\left(u + 1\\right)^{4} \\left(u^{2} - 114 u_{1}^{2} - 1\\right)}{24} + \\frac{13 \\mu^{4} u_{1} \\left(u - 1\\right)^{2} \\left(u + 1\\right)^{2} \\left(193 u^{4} - 964 u^{2} u_{1}^{2} - 198 u^{2} + 244 u_{1}^{2} + 5\\right)}{24} + \\frac{13 \\mu^{3} u \\left(20 u^{6} - 395 u^{4} u_{1}^{2} - 41 u^{4} + 260 u^{2} u_{1}^{4} + 562 u^{2} u_{1}^{2} + 22 u^{2} - 192 u_{1}^{4} - 167 u_{1}^{2} - 1\\right)}{6} - \\frac{13 \\mu^{2} u_{1} \\left(119 u^{4} - 176 u^{2} u_{1}^{2} - 78 u^{2} + 10 u_{1}^{4} + 36 u_{1}^{2} + 1\\right)}{4} - \\frac{13 \\mu u \\left(23 u^{2} - 68 u_{1}^{2} - 1\\right)}{8} + \\frac{13 u_{1}}{24}$"
      ],
      "text/plain": [
       "-13*\\mu**6*u1*(u - 1)**6*(u + 1)**6/24 - 13*\\mu**5*u*(u - 1)**4*(u + 1)**4*(u**2 - 114*u1**2 - 1)/24 + 13*\\mu**4*u1*(u - 1)**2*(u + 1)**2*(193*u**4 - 964*u**2*u1**2 - 198*u**2 + 244*u1**2 + 5)/24 + 13*\\mu**3*u*(20*u**6 - 395*u**4*u1**2 - 41*u**4 + 260*u**2*u1**4 + 562*u**2*u1**2 + 22*u**2 - 192*u1**4 - 167*u1**2 - 1)/6 - 13*\\mu**2*u1*(119*u**4 - 176*u**2*u1**2 - 78*u**2 + 10*u1**4 + 36*u1**2 + 1)/4 - 13*\\mu*u*(23*u**2 - 68*u1**2 - 1)/8 + 13*u1/24"
      ]
     },
     "metadata": {},
     "output_type": "display_data"
    },
    {
     "name": "stdout",
     "output_type": "stream",
     "text": [
      "\\mu u_{1} \\left(u - 1\\right) \\left(u + 1\\right) + u + u1_{t}\n",
      "+h\\left(\n",
      "0\n",
      "\\right)\n",
      "+h^2\\left(\n",
      "0\n",
      "\\right)\n",
      "+h^3\\left(\n",
      "0\n",
      "\\right)\n",
      "+h^4\\left(\n",
      "- \\frac{251 \\mu^{5} u_{1} \\left(u - 1\\right)^{5} \\left(u + 1\\right)^{5}}{720} - \\frac{251 \\mu^{4} u \\left(u - 1\\right)^{3} \\left(u + 1\\right)^{3} \\left(u^{2} - 52 u_{1}^{2} - 1\\right)}{720} + \\frac{251 \\mu^{3} u_{1} \\left(u - 1\\right) \\left(u + 1\\right) \\left(20 u^{4} - 50 u^{2} u_{1}^{2} - 21 u^{2} + 16 u_{1}^{2} + 1\\right)}{180} + \\frac{251 \\mu^{2} u \\left(29 u^{4} - 250 u^{2} u_{1}^{2} - 32 u^{2} + 60 u_{1}^{4} + 150 u_{1}^{2} + 3\\right)}{720} - \\frac{251 \\mu u_{1} \\left(69 u^{2} - 22 u_{1}^{2} - 3\\right)}{720} - \\frac{251 u}{720}\n",
      "\\right)\n",
      "+h^5\\left(\n",
      "- \\frac{13 \\mu^{6} u_{1} \\left(u - 1\\right)^{6} \\left(u + 1\\right)^{6}}{24} - \\frac{13 \\mu^{5} u \\left(u - 1\\right)^{4} \\left(u + 1\\right)^{4} \\left(u^{2} - 114 u_{1}^{2} - 1\\right)}{24} + \\frac{13 \\mu^{4} u_{1} \\left(u - 1\\right)^{2} \\left(u + 1\\right)^{2} \\left(193 u^{4} - 964 u^{2} u_{1}^{2} - 198 u^{2} + 244 u_{1}^{2} + 5\\right)}{24} + \\frac{13 \\mu^{3} u \\left(20 u^{6} - 395 u^{4} u_{1}^{2} - 41 u^{4} + 260 u^{2} u_{1}^{4} + 562 u^{2} u_{1}^{2} + 22 u^{2} - 192 u_{1}^{4} - 167 u_{1}^{2} - 1\\right)}{6} - \\frac{13 \\mu^{2} u_{1} \\left(119 u^{4} - 176 u^{2} u_{1}^{2} - 78 u^{2} + 10 u_{1}^{4} + 36 u_{1}^{2} + 1\\right)}{4} - \\frac{13 \\mu u \\left(23 u^{2} - 68 u_{1}^{2} - 1\\right)}{8} + \\frac{13 u_{1}}{24}\n",
      "\\right)\n"
     ]
    }
   ],
   "source": [
    "f2 = NF(F2, [u(t).diff(t), u1(t).diff(t)], [F1, F2], head=False)\n",
    "prn(f2, mu)\n",
    "prnlatex(f2, mu)"
   ]
  },
  {
   "cell_type": "code",
   "execution_count": 46,
   "id": "2e890390",
   "metadata": {},
   "outputs": [
    {
     "data": {
      "text/plain": [
       "'mu**5*(-251*y[0]**10*y[1]/720 + 251*y[0]**8*y[1]/144 - 251*y[0]**6*y[1]/72 + 251*y[0]**4*y[1]/72 - 251*y[0]**2*y[1]/144 + 251*y[1]/720) + mu**4*(-251*y[0]**9/720 + 3263*y[0]**7*y[1]**2/180 + 251*y[0]**7/180 - 3263*y[0]**5*y[1]**2/60 - 251*y[0]**5/120 + 3263*y[0]**3*y[1]**2/60 + 251*y[0]**3/180 - 3263*y[0]*y[1]**2/180 - 251*y[0]/720) + mu**3*(251*y[0]**6*y[1]/9 - 1255*y[0]**4*y[1]**3/18 - 10291*y[0]**4*y[1]/180 + 2761*y[0]**2*y[1]**3/30 + 2761*y[0]**2*y[1]/90 - 1004*y[1]**3/45 - 251*y[1]/180) + mu**2*(7279*y[0]**5/720 - 6275*y[0]**3*y[1]**2/72 - 502*y[0]**3/45 + 251*y[0]*y[1]**4/12 + 1255*y[0]*y[1]**2/24 + 251*y[0]/240) + mu*(-5773*y[0]**2*y[1]/240 + 2761*y[1]**3/360 + 251*y[1]/240) - 251*y[0]/720'"
      ]
     },
     "execution_count": 46,
     "metadata": {},
     "output_type": "execute_result"
    }
   ],
   "source": [
    "replace(str(f2[4].collect(mu)))"
   ]
  },
  {
   "cell_type": "markdown",
   "id": "0bb1a1ac",
   "metadata": {},
   "source": [
    "### Adams–Moulton method 4 order"
   ]
  },
  {
   "cell_type": "code",
   "execution_count": 47,
   "id": "2c25f92b",
   "metadata": {},
   "outputs": [],
   "source": [
    "set_clip(7, 6, Rational(0, 1))\n",
    "r = AdamsMoulton4(g, Matrix([u(t), u1(t)]))"
   ]
  },
  {
   "cell_type": "code",
   "execution_count": 48,
   "id": "75d0f0e8",
   "metadata": {},
   "outputs": [
    {
     "name": "stdout",
     "output_type": "stream",
     "text": [
      "h^0 =>\n"
     ]
    },
    {
     "data": {
      "text/latex": [
       "$\\displaystyle - u_{1} + u_{t}$"
      ],
      "text/plain": [
       "-u1 + u_{t}"
      ]
     },
     "metadata": {},
     "output_type": "display_data"
    },
    {
     "name": "stdout",
     "output_type": "stream",
     "text": [
      "h^1 =>\n"
     ]
    },
    {
     "data": {
      "text/latex": [
       "$\\displaystyle - \\frac{5 \\left(u1_{t} - u_{tt}\\right)}{2}$"
      ],
      "text/plain": [
       "-5*(u1_{t} - u_{tt})/2"
      ]
     },
     "metadata": {},
     "output_type": "display_data"
    },
    {
     "name": "stdout",
     "output_type": "stream",
     "text": [
      "h^2 =>\n"
     ]
    },
    {
     "data": {
      "text/latex": [
       "$\\displaystyle - \\frac{19 \\left(u1_{tt} - u_{ttt}\\right)}{6}$"
      ],
      "text/plain": [
       "-19*(u1_{tt} - u_{ttt})/6"
      ]
     },
     "metadata": {},
     "output_type": "display_data"
    },
    {
     "name": "stdout",
     "output_type": "stream",
     "text": [
      "h^3 =>\n"
     ]
    },
    {
     "data": {
      "text/latex": [
       "$\\displaystyle - \\frac{65 \\left(u1_{ttt} - u_{tttt}\\right)}{24}$"
      ],
      "text/plain": [
       "-65*(u1_{ttt} - u_{tttt})/24"
      ]
     },
     "metadata": {},
     "output_type": "display_data"
    },
    {
     "name": "stdout",
     "output_type": "stream",
     "text": [
      "h^4 =>\n"
     ]
    },
    {
     "data": {
      "text/latex": [
       "$\\displaystyle - \\frac{1285 u1_{tttt} - 1266 u_{ttttt}}{720}$"
      ],
      "text/plain": [
       "-(1285*u1_{tttt} - 1266*u_{ttttt})/720"
      ]
     },
     "metadata": {},
     "output_type": "display_data"
    },
    {
     "name": "stdout",
     "output_type": "stream",
     "text": [
      "h^5 =>\n"
     ]
    },
    {
     "data": {
      "text/latex": [
       "$\\displaystyle - \\frac{279 u1_{ttttt} - 266 u_{tttttt}}{288}$"
      ],
      "text/plain": [
       "-(279*u1_{ttttt} - 266*u_{tttttt})/288"
      ]
     },
     "metadata": {},
     "output_type": "display_data"
    },
    {
     "name": "stdout",
     "output_type": "stream",
     "text": [
      "- u_{1} + u_{t}\n",
      "+h\\left(\n",
      "- \\frac{5 \\left(u1_{t} - u_{tt}\\right)}{2}\n",
      "\\right)\n",
      "+h^2\\left(\n",
      "- \\frac{19 \\left(u1_{tt} - u_{ttt}\\right)}{6}\n",
      "\\right)\n",
      "+h^3\\left(\n",
      "- \\frac{65 \\left(u1_{ttt} - u_{tttt}\\right)}{24}\n",
      "\\right)\n",
      "+h^4\\left(\n",
      "- \\frac{1285 u1_{tttt} - 1266 u_{ttttt}}{720}\n",
      "\\right)\n",
      "+h^5\\left(\n",
      "- \\frac{279 u1_{ttttt} - 266 u_{tttttt}}{288}\n",
      "\\right)\n"
     ]
    }
   ],
   "source": [
    "F1 = clip((T(u(t+3*h))-T(u(t+2*h)))/h - T(r[0]))\n",
    "prn(F1, mu)\n",
    "prnlatex(F1, mu)"
   ]
  },
  {
   "cell_type": "code",
   "execution_count": 49,
   "id": "fe18e7fc",
   "metadata": {},
   "outputs": [
    {
     "name": "stdout",
     "output_type": "stream",
     "text": [
      "h^0 =>\n"
     ]
    },
    {
     "data": {
      "text/latex": [
       "$\\displaystyle \\mu u_{1} \\left(u - 1\\right) \\left(u + 1\\right) + u + u1_{t}$"
      ],
      "text/plain": [
       "\\mu*u1*(u - 1)*(u + 1) + u + u1_{t}"
      ]
     },
     "metadata": {},
     "output_type": "display_data"
    },
    {
     "name": "stdout",
     "output_type": "stream",
     "text": [
      "h^1 =>\n"
     ]
    },
    {
     "data": {
      "text/latex": [
       "$\\displaystyle \\frac{5 \\mu \\left(u^{2} u1_{t} + 2 u u_{1} u_{t} - u1_{t}\\right)}{2} + \\frac{5 \\left(u1_{tt} + u_{t}\\right)}{2}$"
      ],
      "text/plain": [
       "5*\\mu*(u**2*u1_{t} + 2*u*u1*u_{t} - u1_{t})/2 + 5*(u1_{tt} + u_{t})/2"
      ]
     },
     "metadata": {},
     "output_type": "display_data"
    },
    {
     "name": "stdout",
     "output_type": "stream",
     "text": [
      "h^2 =>\n"
     ]
    },
    {
     "data": {
      "text/latex": [
       "$\\displaystyle \\frac{19 \\mu \\left(u^{2} u1_{tt} + 2 u u_{1} u_{tt} + 4 u u1_{t} u_{t} + 2 u_{1} u_{t}^{2} - u1_{tt}\\right)}{6} + \\frac{19 \\left(u1_{ttt} + u_{tt}\\right)}{6}$"
      ],
      "text/plain": [
       "19*\\mu*(u**2*u1_{tt} + 2*u*u1*u_{tt} + 4*u*u1_{t}*u_{t} + 2*u1*u_{t}**2 - u1_{tt})/6 + 19*(u1_{ttt} + u_{tt})/6"
      ]
     },
     "metadata": {},
     "output_type": "display_data"
    },
    {
     "name": "stdout",
     "output_type": "stream",
     "text": [
      "h^3 =>\n"
     ]
    },
    {
     "data": {
      "text/latex": [
       "$\\displaystyle \\frac{65 \\mu \\left(u^{2} u1_{ttt} + 2 u u_{1} u_{ttt} + 6 u u1_{tt} u_{t} + 6 u u1_{t} u_{tt} + 6 u_{1} u_{tt} u_{t} - u1_{ttt} + 6 u1_{t} u_{t}^{2}\\right)}{24} + \\frac{65 \\left(u1_{tttt} + u_{ttt}\\right)}{24}$"
      ],
      "text/plain": [
       "65*\\mu*(u**2*u1_{ttt} + 2*u*u1*u_{ttt} + 6*u*u1_{tt}*u_{t} + 6*u*u1_{t}*u_{tt} + 6*u1*u_{tt}*u_{t} - u1_{ttt} + 6*u1_{t}*u_{t}**2)/24 + 65*(u1_{tttt} + u_{ttt})/24"
      ]
     },
     "metadata": {},
     "output_type": "display_data"
    },
    {
     "name": "stdout",
     "output_type": "stream",
     "text": [
      "h^4 =>\n"
     ]
    },
    {
     "data": {
      "text/latex": [
       "$\\displaystyle \\frac{257 \\mu \\left(u^{2} u1_{tttt} + 2 u u_{1} u_{tttt} + 8 u u1_{ttt} u_{t} + 12 u u1_{tt} u_{tt} + 8 u u1_{t} u_{ttt} + 8 u_{1} u_{ttt} u_{t} + 6 u_{1} u_{tt}^{2} - u1_{tttt} + 12 u1_{tt} u_{t}^{2} + 24 u1_{t} u_{tt} u_{t}\\right)}{144} + \\frac{1266 u1_{ttttt} + 1285 u_{tttt}}{720}$"
      ],
      "text/plain": [
       "257*\\mu*(u**2*u1_{tttt} + 2*u*u1*u_{tttt} + 8*u*u1_{ttt}*u_{t} + 12*u*u1_{tt}*u_{tt} + 8*u*u1_{t}*u_{ttt} + 8*u1*u_{ttt}*u_{t} + 6*u1*u_{tt}**2 - u1_{tttt} + 12*u1_{tt}*u_{t}**2 + 24*u1_{t}*u_{tt}*u_{t})/144 + (1266*u1_{ttttt} + 1285*u_{tttt})/720"
      ]
     },
     "metadata": {},
     "output_type": "display_data"
    },
    {
     "name": "stdout",
     "output_type": "stream",
     "text": [
      "h^5 =>\n"
     ]
    },
    {
     "data": {
      "text/latex": [
       "$\\displaystyle \\frac{31 \\mu \\left(u^{2} u1_{ttttt} + 2 u u_{1} u_{ttttt} + 10 u u1_{tttt} u_{t} + 20 u u1_{ttt} u_{tt} + 20 u u1_{tt} u_{ttt} + 10 u u1_{t} u_{tttt} + 10 u_{1} u_{tttt} u_{t} + 20 u_{1} u_{ttt} u_{tt} - u1_{ttttt} + 20 u1_{ttt} u_{t}^{2} + 60 u1_{tt} u_{tt} u_{t} + 40 u1_{t} u_{ttt} u_{t} + 30 u1_{t} u_{tt}^{2}\\right)}{32} + \\frac{266 u1_{tttttt} + 279 u_{ttttt}}{288}$"
      ],
      "text/plain": [
       "31*\\mu*(u**2*u1_{ttttt} + 2*u*u1*u_{ttttt} + 10*u*u1_{tttt}*u_{t} + 20*u*u1_{ttt}*u_{tt} + 20*u*u1_{tt}*u_{ttt} + 10*u*u1_{t}*u_{tttt} + 10*u1*u_{tttt}*u_{t} + 20*u1*u_{ttt}*u_{tt} - u1_{ttttt} + 20*u1_{ttt}*u_{t}**2 + 60*u1_{tt}*u_{tt}*u_{t} + 40*u1_{t}*u_{ttt}*u_{t} + 30*u1_{t}*u_{tt}**2)/32 + (266*u1_{tttttt} + 279*u_{ttttt})/288"
      ]
     },
     "metadata": {},
     "output_type": "display_data"
    },
    {
     "name": "stdout",
     "output_type": "stream",
     "text": [
      "\\mu u_{1} \\left(u - 1\\right) \\left(u + 1\\right) + u + u1_{t}\n",
      "+h\\left(\n",
      "\\frac{5 \\mu \\left(u^{2} u1_{t} + 2 u u_{1} u_{t} - u1_{t}\\right)}{2} + \\frac{5 \\left(u1_{tt} + u_{t}\\right)}{2}\n",
      "\\right)\n",
      "+h^2\\left(\n",
      "\\frac{19 \\mu \\left(u^{2} u1_{tt} + 2 u u_{1} u_{tt} + 4 u u1_{t} u_{t} + 2 u_{1} u_{t}^{2} - u1_{tt}\\right)}{6} + \\frac{19 \\left(u1_{ttt} + u_{tt}\\right)}{6}\n",
      "\\right)\n",
      "+h^3\\left(\n",
      "\\frac{65 \\mu \\left(u^{2} u1_{ttt} + 2 u u_{1} u_{ttt} + 6 u u1_{tt} u_{t} + 6 u u1_{t} u_{tt} + 6 u_{1} u_{tt} u_{t} - u1_{ttt} + 6 u1_{t} u_{t}^{2}\\right)}{24} + \\frac{65 \\left(u1_{tttt} + u_{ttt}\\right)}{24}\n",
      "\\right)\n",
      "+h^4\\left(\n",
      "\\frac{257 \\mu \\left(u^{2} u1_{tttt} + 2 u u_{1} u_{tttt} + 8 u u1_{ttt} u_{t} + 12 u u1_{tt} u_{tt} + 8 u u1_{t} u_{ttt} + 8 u_{1} u_{ttt} u_{t} + 6 u_{1} u_{tt}^{2} - u1_{tttt} + 12 u1_{tt} u_{t}^{2} + 24 u1_{t} u_{tt} u_{t}\\right)}{144} + \\frac{1266 u1_{ttttt} + 1285 u_{tttt}}{720}\n",
      "\\right)\n",
      "+h^5\\left(\n",
      "\\frac{31 \\mu \\left(u^{2} u1_{ttttt} + 2 u u_{1} u_{ttttt} + 10 u u1_{tttt} u_{t} + 20 u u1_{ttt} u_{tt} + 20 u u1_{tt} u_{ttt} + 10 u u1_{t} u_{tttt} + 10 u_{1} u_{tttt} u_{t} + 20 u_{1} u_{ttt} u_{tt} - u1_{ttttt} + 20 u1_{ttt} u_{t}^{2} + 60 u1_{tt} u_{tt} u_{t} + 40 u1_{t} u_{ttt} u_{t} + 30 u1_{t} u_{tt}^{2}\\right)}{32} + \\frac{266 u1_{tttttt} + 279 u_{ttttt}}{288}\n",
      "\\right)\n"
     ]
    }
   ],
   "source": [
    "F2 = clip((T(u1(t+3*h))-T(u1(t+2*h)))/h - T(r[1]))\n",
    "prn(F2, mu)\n",
    "prnlatex(F2, mu)"
   ]
  },
  {
   "cell_type": "code",
   "execution_count": 50,
   "id": "c6190775",
   "metadata": {},
   "outputs": [
    {
     "name": "stdout",
     "output_type": "stream",
     "text": [
      "h^0 =>\n"
     ]
    },
    {
     "data": {
      "text/latex": [
       "$\\displaystyle - u_{1} + u_{t}$"
      ],
      "text/plain": [
       "-u1 + u_{t}"
      ]
     },
     "metadata": {},
     "output_type": "display_data"
    },
    {
     "name": "stdout",
     "output_type": "stream",
     "text": [
      "h^1 =>\n"
     ]
    },
    {
     "data": {
      "text/latex": [
       "$\\displaystyle 0$"
      ],
      "text/plain": [
       "0"
      ]
     },
     "metadata": {},
     "output_type": "display_data"
    },
    {
     "name": "stdout",
     "output_type": "stream",
     "text": [
      "h^2 =>\n"
     ]
    },
    {
     "data": {
      "text/latex": [
       "$\\displaystyle 0$"
      ],
      "text/plain": [
       "0"
      ]
     },
     "metadata": {},
     "output_type": "display_data"
    },
    {
     "name": "stdout",
     "output_type": "stream",
     "text": [
      "h^3 =>\n"
     ]
    },
    {
     "data": {
      "text/latex": [
       "$\\displaystyle 0$"
      ],
      "text/plain": [
       "0"
      ]
     },
     "metadata": {},
     "output_type": "display_data"
    },
    {
     "name": "stdout",
     "output_type": "stream",
     "text": [
      "h^4 =>\n"
     ]
    },
    {
     "data": {
      "text/latex": [
       "$\\displaystyle - \\frac{19 \\mu^{4} u_{1} \\left(u - 1\\right)^{4} \\left(u + 1\\right)^{4}}{720} - \\frac{19 \\mu^{3} u \\left(u - 1\\right)^{2} \\left(u + 1\\right)^{2} \\left(u^{2} - 22 u_{1}^{2} - 1\\right)}{720} + \\frac{19 \\mu^{2} u_{1} \\left(29 u^{4} - 30 u^{2} u_{1}^{2} - 32 u^{2} + 14 u_{1}^{2} + 3\\right)}{720} + \\frac{19 \\mu u \\left(4 u^{2} - 11 u_{1}^{2} - 1\\right)}{360} - \\frac{19 u_{1}}{720}$"
      ],
      "text/plain": [
       "-19*\\mu**4*u1*(u - 1)**4*(u + 1)**4/720 - 19*\\mu**3*u*(u - 1)**2*(u + 1)**2*(u**2 - 22*u1**2 - 1)/720 + 19*\\mu**2*u1*(29*u**4 - 30*u**2*u1**2 - 32*u**2 + 14*u1**2 + 3)/720 + 19*\\mu*u*(4*u**2 - 11*u1**2 - 1)/360 - 19*u1/720"
      ]
     },
     "metadata": {},
     "output_type": "display_data"
    },
    {
     "name": "stdout",
     "output_type": "stream",
     "text": [
      "h^5 =>\n"
     ]
    },
    {
     "data": {
      "text/latex": [
       "$\\displaystyle - \\frac{\\mu^{5} u_{1} \\left(u - 1\\right)^{5} \\left(u + 1\\right)^{5}}{48} - \\frac{\\mu^{4} u \\left(u - 1\\right)^{3} \\left(u + 1\\right)^{3} \\left(u^{2} - 52 u_{1}^{2} - 1\\right)}{48} + \\frac{\\mu^{3} u_{1} \\left(u - 1\\right) \\left(u + 1\\right) \\left(20 u^{4} - 50 u^{2} u_{1}^{2} - 21 u^{2} + 16 u_{1}^{2} + 1\\right)}{12} + \\frac{\\mu^{2} u \\left(29 u^{4} - 250 u^{2} u_{1}^{2} - 32 u^{2} + 60 u_{1}^{4} + 150 u_{1}^{2} + 3\\right)}{48} - \\frac{\\mu u_{1} \\left(69 u^{2} - 22 u_{1}^{2} - 3\\right)}{48} - \\frac{u}{48}$"
      ],
      "text/plain": [
       "-\\mu**5*u1*(u - 1)**5*(u + 1)**5/48 - \\mu**4*u*(u - 1)**3*(u + 1)**3*(u**2 - 52*u1**2 - 1)/48 + \\mu**3*u1*(u - 1)*(u + 1)*(20*u**4 - 50*u**2*u1**2 - 21*u**2 + 16*u1**2 + 1)/12 + \\mu**2*u*(29*u**4 - 250*u**2*u1**2 - 32*u**2 + 60*u1**4 + 150*u1**2 + 3)/48 - \\mu*u1*(69*u**2 - 22*u1**2 - 3)/48 - u/48"
      ]
     },
     "metadata": {},
     "output_type": "display_data"
    },
    {
     "name": "stdout",
     "output_type": "stream",
     "text": [
      "- u_{1} + u_{t}\n",
      "+h\\left(\n",
      "0\n",
      "\\right)\n",
      "+h^2\\left(\n",
      "0\n",
      "\\right)\n",
      "+h^3\\left(\n",
      "0\n",
      "\\right)\n",
      "+h^4\\left(\n",
      "- \\frac{19 \\mu^{4} u_{1} \\left(u - 1\\right)^{4} \\left(u + 1\\right)^{4}}{720} - \\frac{19 \\mu^{3} u \\left(u - 1\\right)^{2} \\left(u + 1\\right)^{2} \\left(u^{2} - 22 u_{1}^{2} - 1\\right)}{720} + \\frac{19 \\mu^{2} u_{1} \\left(29 u^{4} - 30 u^{2} u_{1}^{2} - 32 u^{2} + 14 u_{1}^{2} + 3\\right)}{720} + \\frac{19 \\mu u \\left(4 u^{2} - 11 u_{1}^{2} - 1\\right)}{360} - \\frac{19 u_{1}}{720}\n",
      "\\right)\n",
      "+h^5\\left(\n",
      "- \\frac{\\mu^{5} u_{1} \\left(u - 1\\right)^{5} \\left(u + 1\\right)^{5}}{48} - \\frac{\\mu^{4} u \\left(u - 1\\right)^{3} \\left(u + 1\\right)^{3} \\left(u^{2} - 52 u_{1}^{2} - 1\\right)}{48} + \\frac{\\mu^{3} u_{1} \\left(u - 1\\right) \\left(u + 1\\right) \\left(20 u^{4} - 50 u^{2} u_{1}^{2} - 21 u^{2} + 16 u_{1}^{2} + 1\\right)}{12} + \\frac{\\mu^{2} u \\left(29 u^{4} - 250 u^{2} u_{1}^{2} - 32 u^{2} + 60 u_{1}^{4} + 150 u_{1}^{2} + 3\\right)}{48} - \\frac{\\mu u_{1} \\left(69 u^{2} - 22 u_{1}^{2} - 3\\right)}{48} - \\frac{u}{48}\n",
      "\\right)\n"
     ]
    }
   ],
   "source": [
    "f1 = NF(F1, [u(t).diff(t), u1(t).diff(t)], [F1, F2], head=False)\n",
    "prn(f1, mu)\n",
    "prnlatex(f1, mu)"
   ]
  },
  {
   "cell_type": "code",
   "execution_count": 51,
   "id": "55684fd9",
   "metadata": {},
   "outputs": [
    {
     "name": "stdout",
     "output_type": "stream",
     "text": [
      "h^0 =>\n"
     ]
    },
    {
     "data": {
      "text/latex": [
       "$\\displaystyle \\mu u_{1} \\left(u - 1\\right) \\left(u + 1\\right) + u + u1_{t}$"
      ],
      "text/plain": [
       "\\mu*u1*(u - 1)*(u + 1) + u + u1_{t}"
      ]
     },
     "metadata": {},
     "output_type": "display_data"
    },
    {
     "name": "stdout",
     "output_type": "stream",
     "text": [
      "h^1 =>\n"
     ]
    },
    {
     "data": {
      "text/latex": [
       "$\\displaystyle 0$"
      ],
      "text/plain": [
       "0"
      ]
     },
     "metadata": {},
     "output_type": "display_data"
    },
    {
     "name": "stdout",
     "output_type": "stream",
     "text": [
      "h^2 =>\n"
     ]
    },
    {
     "data": {
      "text/latex": [
       "$\\displaystyle 0$"
      ],
      "text/plain": [
       "0"
      ]
     },
     "metadata": {},
     "output_type": "display_data"
    },
    {
     "name": "stdout",
     "output_type": "stream",
     "text": [
      "h^3 =>\n"
     ]
    },
    {
     "data": {
      "text/latex": [
       "$\\displaystyle 0$"
      ],
      "text/plain": [
       "0"
      ]
     },
     "metadata": {},
     "output_type": "display_data"
    },
    {
     "name": "stdout",
     "output_type": "stream",
     "text": [
      "h^4 =>\n"
     ]
    },
    {
     "data": {
      "text/latex": [
       "$\\displaystyle \\frac{19 \\mu^{5} u_{1} \\left(u - 1\\right)^{5} \\left(u + 1\\right)^{5}}{720} + \\frac{19 \\mu^{4} u \\left(u - 1\\right)^{3} \\left(u + 1\\right)^{3} \\left(u^{2} - 52 u_{1}^{2} - 1\\right)}{720} - \\frac{19 \\mu^{3} u_{1} \\left(u - 1\\right) \\left(u + 1\\right) \\left(20 u^{4} - 50 u^{2} u_{1}^{2} - 21 u^{2} + 16 u_{1}^{2} + 1\\right)}{180} - \\frac{19 \\mu^{2} u \\left(29 u^{4} - 250 u^{2} u_{1}^{2} - 32 u^{2} + 60 u_{1}^{4} + 150 u_{1}^{2} + 3\\right)}{720} + \\frac{19 \\mu u_{1} \\left(69 u^{2} - 22 u_{1}^{2} - 3\\right)}{720} + \\frac{19 u}{720}$"
      ],
      "text/plain": [
       "19*\\mu**5*u1*(u - 1)**5*(u + 1)**5/720 + 19*\\mu**4*u*(u - 1)**3*(u + 1)**3*(u**2 - 52*u1**2 - 1)/720 - 19*\\mu**3*u1*(u - 1)*(u + 1)*(20*u**4 - 50*u**2*u1**2 - 21*u**2 + 16*u1**2 + 1)/180 - 19*\\mu**2*u*(29*u**4 - 250*u**2*u1**2 - 32*u**2 + 60*u1**4 + 150*u1**2 + 3)/720 + 19*\\mu*u1*(69*u**2 - 22*u1**2 - 3)/720 + 19*u/720"
      ]
     },
     "metadata": {},
     "output_type": "display_data"
    },
    {
     "name": "stdout",
     "output_type": "stream",
     "text": [
      "h^5 =>\n"
     ]
    },
    {
     "data": {
      "text/latex": [
       "$\\displaystyle \\frac{\\mu^{6} u_{1} \\left(u - 1\\right)^{6} \\left(u + 1\\right)^{6}}{48} + \\frac{\\mu^{5} u \\left(u - 1\\right)^{4} \\left(u + 1\\right)^{4} \\left(u^{2} - 114 u_{1}^{2} - 1\\right)}{48} - \\frac{\\mu^{4} u_{1} \\left(u - 1\\right)^{2} \\left(u + 1\\right)^{2} \\left(193 u^{4} - 964 u^{2} u_{1}^{2} - 198 u^{2} + 244 u_{1}^{2} + 5\\right)}{48} - \\frac{\\mu^{3} u \\left(20 u^{6} - 395 u^{4} u_{1}^{2} - 41 u^{4} + 260 u^{2} u_{1}^{4} + 562 u^{2} u_{1}^{2} + 22 u^{2} - 192 u_{1}^{4} - 167 u_{1}^{2} - 1\\right)}{12} + \\frac{\\mu^{2} u_{1} \\left(119 u^{4} - 176 u^{2} u_{1}^{2} - 78 u^{2} + 10 u_{1}^{4} + 36 u_{1}^{2} + 1\\right)}{8} + \\frac{\\mu u \\left(23 u^{2} - 68 u_{1}^{2} - 1\\right)}{16} - \\frac{u_{1}}{48}$"
      ],
      "text/plain": [
       "\\mu**6*u1*(u - 1)**6*(u + 1)**6/48 + \\mu**5*u*(u - 1)**4*(u + 1)**4*(u**2 - 114*u1**2 - 1)/48 - \\mu**4*u1*(u - 1)**2*(u + 1)**2*(193*u**4 - 964*u**2*u1**2 - 198*u**2 + 244*u1**2 + 5)/48 - \\mu**3*u*(20*u**6 - 395*u**4*u1**2 - 41*u**4 + 260*u**2*u1**4 + 562*u**2*u1**2 + 22*u**2 - 192*u1**4 - 167*u1**2 - 1)/12 + \\mu**2*u1*(119*u**4 - 176*u**2*u1**2 - 78*u**2 + 10*u1**4 + 36*u1**2 + 1)/8 + \\mu*u*(23*u**2 - 68*u1**2 - 1)/16 - u1/48"
      ]
     },
     "metadata": {},
     "output_type": "display_data"
    },
    {
     "name": "stdout",
     "output_type": "stream",
     "text": [
      "\\mu u_{1} \\left(u - 1\\right) \\left(u + 1\\right) + u + u1_{t}\n",
      "+h\\left(\n",
      "0\n",
      "\\right)\n",
      "+h^2\\left(\n",
      "0\n",
      "\\right)\n",
      "+h^3\\left(\n",
      "0\n",
      "\\right)\n",
      "+h^4\\left(\n",
      "\\frac{19 \\mu^{5} u_{1} \\left(u - 1\\right)^{5} \\left(u + 1\\right)^{5}}{720} + \\frac{19 \\mu^{4} u \\left(u - 1\\right)^{3} \\left(u + 1\\right)^{3} \\left(u^{2} - 52 u_{1}^{2} - 1\\right)}{720} - \\frac{19 \\mu^{3} u_{1} \\left(u - 1\\right) \\left(u + 1\\right) \\left(20 u^{4} - 50 u^{2} u_{1}^{2} - 21 u^{2} + 16 u_{1}^{2} + 1\\right)}{180} - \\frac{19 \\mu^{2} u \\left(29 u^{4} - 250 u^{2} u_{1}^{2} - 32 u^{2} + 60 u_{1}^{4} + 150 u_{1}^{2} + 3\\right)}{720} + \\frac{19 \\mu u_{1} \\left(69 u^{2} - 22 u_{1}^{2} - 3\\right)}{720} + \\frac{19 u}{720}\n",
      "\\right)\n",
      "+h^5\\left(\n",
      "\\frac{\\mu^{6} u_{1} \\left(u - 1\\right)^{6} \\left(u + 1\\right)^{6}}{48} + \\frac{\\mu^{5} u \\left(u - 1\\right)^{4} \\left(u + 1\\right)^{4} \\left(u^{2} - 114 u_{1}^{2} - 1\\right)}{48} - \\frac{\\mu^{4} u_{1} \\left(u - 1\\right)^{2} \\left(u + 1\\right)^{2} \\left(193 u^{4} - 964 u^{2} u_{1}^{2} - 198 u^{2} + 244 u_{1}^{2} + 5\\right)}{48} - \\frac{\\mu^{3} u \\left(20 u^{6} - 395 u^{4} u_{1}^{2} - 41 u^{4} + 260 u^{2} u_{1}^{4} + 562 u^{2} u_{1}^{2} + 22 u^{2} - 192 u_{1}^{4} - 167 u_{1}^{2} - 1\\right)}{12} + \\frac{\\mu^{2} u_{1} \\left(119 u^{4} - 176 u^{2} u_{1}^{2} - 78 u^{2} + 10 u_{1}^{4} + 36 u_{1}^{2} + 1\\right)}{8} + \\frac{\\mu u \\left(23 u^{2} - 68 u_{1}^{2} - 1\\right)}{16} - \\frac{u_{1}}{48}\n",
      "\\right)\n"
     ]
    }
   ],
   "source": [
    "f2 = NF(F2, [u(t).diff(t), u1(t).diff(t)], [F1, F2], head=False)\n",
    "prn(f2, mu)\n",
    "prnlatex(f2, mu)"
   ]
  },
  {
   "cell_type": "code",
   "execution_count": 52,
   "id": "fb86a101",
   "metadata": {},
   "outputs": [
    {
     "data": {
      "text/plain": [
       "'mu**5*(19*y[0]**10*y[1]/720 - 19*y[0]**8*y[1]/144 + 19*y[0]**6*y[1]/72 - 19*y[0]**4*y[1]/72 + 19*y[0]**2*y[1]/144 - 19*y[1]/720) + mu**4*(19*y[0]**9/720 - 247*y[0]**7*y[1]**2/180 - 19*y[0]**7/180 + 247*y[0]**5*y[1]**2/60 + 19*y[0]**5/120 - 247*y[0]**3*y[1]**2/60 - 19*y[0]**3/180 + 247*y[0]*y[1]**2/180 + 19*y[0]/720) + mu**3*(-19*y[0]**6*y[1]/9 + 95*y[0]**4*y[1]**3/18 + 779*y[0]**4*y[1]/180 - 209*y[0]**2*y[1]**3/30 - 209*y[0]**2*y[1]/90 + 76*y[1]**3/45 + 19*y[1]/180) + mu**2*(-551*y[0]**5/720 + 475*y[0]**3*y[1]**2/72 + 38*y[0]**3/45 - 19*y[0]*y[1]**4/12 - 95*y[0]*y[1]**2/24 - 19*y[0]/240) + mu*(437*y[0]**2*y[1]/240 - 209*y[1]**3/360 - 19*y[1]/240) + 19*y[0]/720'"
      ]
     },
     "execution_count": 52,
     "metadata": {},
     "output_type": "execute_result"
    }
   ],
   "source": [
    "replace(str(f2[4].collect(mu)))"
   ]
  },
  {
   "cell_type": "markdown",
   "id": "5e8770eb",
   "metadata": {},
   "source": [
    "### Adams–Bashforth method 5 order"
   ]
  },
  {
   "cell_type": "code",
   "execution_count": 53,
   "id": "864d9c69",
   "metadata": {},
   "outputs": [],
   "source": [
    "set_clip(7, 6, Rational(0, 1))\n",
    "r = AdamsBashforth5(g, Matrix([u(t), u1(t)]))"
   ]
  },
  {
   "cell_type": "code",
   "execution_count": 54,
   "id": "c0316370",
   "metadata": {},
   "outputs": [
    {
     "name": "stdout",
     "output_type": "stream",
     "text": [
      "h^0 =>\n"
     ]
    },
    {
     "data": {
      "text/latex": [
       "$\\displaystyle - u_{1} + u_{t}$"
      ],
      "text/plain": [
       "-u1 + u_{t}"
      ]
     },
     "metadata": {},
     "output_type": "display_data"
    },
    {
     "name": "stdout",
     "output_type": "stream",
     "text": [
      "h^1 =>\n"
     ]
    },
    {
     "data": {
      "text/latex": [
       "$\\displaystyle - \\frac{9 \\left(u1_{t} - u_{tt}\\right)}{2}$"
      ],
      "text/plain": [
       "-9*(u1_{t} - u_{tt})/2"
      ]
     },
     "metadata": {},
     "output_type": "display_data"
    },
    {
     "name": "stdout",
     "output_type": "stream",
     "text": [
      "h^2 =>\n"
     ]
    },
    {
     "data": {
      "text/latex": [
       "$\\displaystyle - \\frac{61 \\left(u1_{tt} - u_{ttt}\\right)}{6}$"
      ],
      "text/plain": [
       "-61*(u1_{tt} - u_{ttt})/6"
      ]
     },
     "metadata": {},
     "output_type": "display_data"
    },
    {
     "name": "stdout",
     "output_type": "stream",
     "text": [
      "h^3 =>\n"
     ]
    },
    {
     "data": {
      "text/latex": [
       "$\\displaystyle - \\frac{123 \\left(u1_{ttt} - u_{tttt}\\right)}{8}$"
      ],
      "text/plain": [
       "-123*(u1_{ttt} - u_{tttt})/8"
      ]
     },
     "metadata": {},
     "output_type": "display_data"
    },
    {
     "name": "stdout",
     "output_type": "stream",
     "text": [
      "h^4 =>\n"
     ]
    },
    {
     "data": {
      "text/latex": [
       "$\\displaystyle - \\frac{2101 \\left(u1_{tttt} - u_{ttttt}\\right)}{120}$"
      ],
      "text/plain": [
       "-2101*(u1_{tttt} - u_{ttttt})/120"
      ]
     },
     "metadata": {},
     "output_type": "display_data"
    },
    {
     "name": "stdout",
     "output_type": "stream",
     "text": [
      "h^5 =>\n"
     ]
    },
    {
     "data": {
      "text/latex": [
       "$\\displaystyle - \\frac{22583 u1_{ttttt} - 23058 u_{tttttt}}{1440}$"
      ],
      "text/plain": [
       "-(22583*u1_{ttttt} - 23058*u_{tttttt})/1440"
      ]
     },
     "metadata": {},
     "output_type": "display_data"
    },
    {
     "name": "stdout",
     "output_type": "stream",
     "text": [
      "- u_{1} + u_{t}\n",
      "+h\\left(\n",
      "- \\frac{9 \\left(u1_{t} - u_{tt}\\right)}{2}\n",
      "\\right)\n",
      "+h^2\\left(\n",
      "- \\frac{61 \\left(u1_{tt} - u_{ttt}\\right)}{6}\n",
      "\\right)\n",
      "+h^3\\left(\n",
      "- \\frac{123 \\left(u1_{ttt} - u_{tttt}\\right)}{8}\n",
      "\\right)\n",
      "+h^4\\left(\n",
      "- \\frac{2101 \\left(u1_{tttt} - u_{ttttt}\\right)}{120}\n",
      "\\right)\n",
      "+h^5\\left(\n",
      "- \\frac{22583 u1_{ttttt} - 23058 u_{tttttt}}{1440}\n",
      "\\right)\n"
     ]
    }
   ],
   "source": [
    "F1 = clip((T(u(t+5*h))-T(u(t+4*h)))/h - T(r[0]))\n",
    "prn(F1, mu)\n",
    "prnlatex(F1, mu)"
   ]
  },
  {
   "cell_type": "code",
   "execution_count": 55,
   "id": "5a6bd8b1",
   "metadata": {},
   "outputs": [
    {
     "name": "stdout",
     "output_type": "stream",
     "text": [
      "h^0 =>\n"
     ]
    },
    {
     "data": {
      "text/latex": [
       "$\\displaystyle \\mu u_{1} \\left(u - 1\\right) \\left(u + 1\\right) + u + u1_{t}$"
      ],
      "text/plain": [
       "\\mu*u1*(u - 1)*(u + 1) + u + u1_{t}"
      ]
     },
     "metadata": {},
     "output_type": "display_data"
    },
    {
     "name": "stdout",
     "output_type": "stream",
     "text": [
      "h^1 =>\n"
     ]
    },
    {
     "data": {
      "text/latex": [
       "$\\displaystyle \\frac{9 \\mu \\left(u^{2} u1_{t} + 2 u u_{1} u_{t} - u1_{t}\\right)}{2} + \\frac{9 \\left(u1_{tt} + u_{t}\\right)}{2}$"
      ],
      "text/plain": [
       "9*\\mu*(u**2*u1_{t} + 2*u*u1*u_{t} - u1_{t})/2 + 9*(u1_{tt} + u_{t})/2"
      ]
     },
     "metadata": {},
     "output_type": "display_data"
    },
    {
     "name": "stdout",
     "output_type": "stream",
     "text": [
      "h^2 =>\n"
     ]
    },
    {
     "data": {
      "text/latex": [
       "$\\displaystyle \\frac{61 \\mu \\left(u^{2} u1_{tt} + 2 u u_{1} u_{tt} + 4 u u1_{t} u_{t} + 2 u_{1} u_{t}^{2} - u1_{tt}\\right)}{6} + \\frac{61 \\left(u1_{ttt} + u_{tt}\\right)}{6}$"
      ],
      "text/plain": [
       "61*\\mu*(u**2*u1_{tt} + 2*u*u1*u_{tt} + 4*u*u1_{t}*u_{t} + 2*u1*u_{t}**2 - u1_{tt})/6 + 61*(u1_{ttt} + u_{tt})/6"
      ]
     },
     "metadata": {},
     "output_type": "display_data"
    },
    {
     "name": "stdout",
     "output_type": "stream",
     "text": [
      "h^3 =>\n"
     ]
    },
    {
     "data": {
      "text/latex": [
       "$\\displaystyle \\frac{123 \\mu \\left(u^{2} u1_{ttt} + 2 u u_{1} u_{ttt} + 6 u u1_{tt} u_{t} + 6 u u1_{t} u_{tt} + 6 u_{1} u_{tt} u_{t} - u1_{ttt} + 6 u1_{t} u_{t}^{2}\\right)}{8} + \\frac{123 \\left(u1_{tttt} + u_{ttt}\\right)}{8}$"
      ],
      "text/plain": [
       "123*\\mu*(u**2*u1_{ttt} + 2*u*u1*u_{ttt} + 6*u*u1_{tt}*u_{t} + 6*u*u1_{t}*u_{tt} + 6*u1*u_{tt}*u_{t} - u1_{ttt} + 6*u1_{t}*u_{t}**2)/8 + 123*(u1_{tttt} + u_{ttt})/8"
      ]
     },
     "metadata": {},
     "output_type": "display_data"
    },
    {
     "name": "stdout",
     "output_type": "stream",
     "text": [
      "h^4 =>\n"
     ]
    },
    {
     "data": {
      "text/latex": [
       "$\\displaystyle \\frac{2101 \\mu \\left(u^{2} u1_{tttt} + 2 u u_{1} u_{tttt} + 8 u u1_{ttt} u_{t} + 12 u u1_{tt} u_{tt} + 8 u u1_{t} u_{ttt} + 8 u_{1} u_{ttt} u_{t} + 6 u_{1} u_{tt}^{2} - u1_{tttt} + 12 u1_{tt} u_{t}^{2} + 24 u1_{t} u_{tt} u_{t}\\right)}{120} + \\frac{2101 \\left(u1_{ttttt} + u_{tttt}\\right)}{120}$"
      ],
      "text/plain": [
       "2101*\\mu*(u**2*u1_{tttt} + 2*u*u1*u_{tttt} + 8*u*u1_{ttt}*u_{t} + 12*u*u1_{tt}*u_{tt} + 8*u*u1_{t}*u_{ttt} + 8*u1*u_{ttt}*u_{t} + 6*u1*u_{tt}**2 - u1_{tttt} + 12*u1_{tt}*u_{t}**2 + 24*u1_{t}*u_{tt}*u_{t})/120 + 2101*(u1_{ttttt} + u_{tttt})/120"
      ]
     },
     "metadata": {},
     "output_type": "display_data"
    },
    {
     "name": "stdout",
     "output_type": "stream",
     "text": [
      "h^5 =>\n"
     ]
    },
    {
     "data": {
      "text/latex": [
       "$\\displaystyle \\frac{22583 \\mu \\left(u^{2} u1_{ttttt} + 2 u u_{1} u_{ttttt} + 10 u u1_{tttt} u_{t} + 20 u u1_{ttt} u_{tt} + 20 u u1_{tt} u_{ttt} + 10 u u1_{t} u_{tttt} + 10 u_{1} u_{tttt} u_{t} + 20 u_{1} u_{ttt} u_{tt} - u1_{ttttt} + 20 u1_{ttt} u_{t}^{2} + 60 u1_{tt} u_{tt} u_{t} + 40 u1_{t} u_{ttt} u_{t} + 30 u1_{t} u_{tt}^{2}\\right)}{1440} + \\frac{23058 u1_{tttttt} + 22583 u_{ttttt}}{1440}$"
      ],
      "text/plain": [
       "22583*\\mu*(u**2*u1_{ttttt} + 2*u*u1*u_{ttttt} + 10*u*u1_{tttt}*u_{t} + 20*u*u1_{ttt}*u_{tt} + 20*u*u1_{tt}*u_{ttt} + 10*u*u1_{t}*u_{tttt} + 10*u1*u_{tttt}*u_{t} + 20*u1*u_{ttt}*u_{tt} - u1_{ttttt} + 20*u1_{ttt}*u_{t}**2 + 60*u1_{tt}*u_{tt}*u_{t} + 40*u1_{t}*u_{ttt}*u_{t} + 30*u1_{t}*u_{tt}**2)/1440 + (23058*u1_{tttttt} + 22583*u_{ttttt})/1440"
      ]
     },
     "metadata": {},
     "output_type": "display_data"
    },
    {
     "name": "stdout",
     "output_type": "stream",
     "text": [
      "\\mu u_{1} \\left(u - 1\\right) \\left(u + 1\\right) + u + u1_{t}\n",
      "+h\\left(\n",
      "\\frac{9 \\mu \\left(u^{2} u1_{t} + 2 u u_{1} u_{t} - u1_{t}\\right)}{2} + \\frac{9 \\left(u1_{tt} + u_{t}\\right)}{2}\n",
      "\\right)\n",
      "+h^2\\left(\n",
      "\\frac{61 \\mu \\left(u^{2} u1_{tt} + 2 u u_{1} u_{tt} + 4 u u1_{t} u_{t} + 2 u_{1} u_{t}^{2} - u1_{tt}\\right)}{6} + \\frac{61 \\left(u1_{ttt} + u_{tt}\\right)}{6}\n",
      "\\right)\n",
      "+h^3\\left(\n",
      "\\frac{123 \\mu \\left(u^{2} u1_{ttt} + 2 u u_{1} u_{ttt} + 6 u u1_{tt} u_{t} + 6 u u1_{t} u_{tt} + 6 u_{1} u_{tt} u_{t} - u1_{ttt} + 6 u1_{t} u_{t}^{2}\\right)}{8} + \\frac{123 \\left(u1_{tttt} + u_{ttt}\\right)}{8}\n",
      "\\right)\n",
      "+h^4\\left(\n",
      "\\frac{2101 \\mu \\left(u^{2} u1_{tttt} + 2 u u_{1} u_{tttt} + 8 u u1_{ttt} u_{t} + 12 u u1_{tt} u_{tt} + 8 u u1_{t} u_{ttt} + 8 u_{1} u_{ttt} u_{t} + 6 u_{1} u_{tt}^{2} - u1_{tttt} + 12 u1_{tt} u_{t}^{2} + 24 u1_{t} u_{tt} u_{t}\\right)}{120} + \\frac{2101 \\left(u1_{ttttt} + u_{tttt}\\right)}{120}\n",
      "\\right)\n",
      "+h^5\\left(\n",
      "\\frac{22583 \\mu \\left(u^{2} u1_{ttttt} + 2 u u_{1} u_{ttttt} + 10 u u1_{tttt} u_{t} + 20 u u1_{ttt} u_{tt} + 20 u u1_{tt} u_{ttt} + 10 u u1_{t} u_{tttt} + 10 u_{1} u_{tttt} u_{t} + 20 u_{1} u_{ttt} u_{tt} - u1_{ttttt} + 20 u1_{ttt} u_{t}^{2} + 60 u1_{tt} u_{tt} u_{t} + 40 u1_{t} u_{ttt} u_{t} + 30 u1_{t} u_{tt}^{2}\\right)}{1440} + \\frac{23058 u1_{tttttt} + 22583 u_{ttttt}}{1440}\n",
      "\\right)\n"
     ]
    }
   ],
   "source": [
    "F2 = clip((T(u1(t+5*h))-T(u1(t+4*h)))/h - T(r[1]))\n",
    "prn(F2, mu)\n",
    "prnlatex(F2, mu)"
   ]
  },
  {
   "cell_type": "code",
   "execution_count": 56,
   "id": "9fa455e7",
   "metadata": {},
   "outputs": [
    {
     "name": "stdout",
     "output_type": "stream",
     "text": [
      "h^0 =>\n"
     ]
    },
    {
     "data": {
      "text/latex": [
       "$\\displaystyle - u_{1} + u_{t}$"
      ],
      "text/plain": [
       "-u1 + u_{t}"
      ]
     },
     "metadata": {},
     "output_type": "display_data"
    },
    {
     "name": "stdout",
     "output_type": "stream",
     "text": [
      "h^1 =>\n"
     ]
    },
    {
     "data": {
      "text/latex": [
       "$\\displaystyle 0$"
      ],
      "text/plain": [
       "0"
      ]
     },
     "metadata": {},
     "output_type": "display_data"
    },
    {
     "name": "stdout",
     "output_type": "stream",
     "text": [
      "h^2 =>\n"
     ]
    },
    {
     "data": {
      "text/latex": [
       "$\\displaystyle 0$"
      ],
      "text/plain": [
       "0"
      ]
     },
     "metadata": {},
     "output_type": "display_data"
    },
    {
     "name": "stdout",
     "output_type": "stream",
     "text": [
      "h^3 =>\n"
     ]
    },
    {
     "data": {
      "text/latex": [
       "$\\displaystyle 0$"
      ],
      "text/plain": [
       "0"
      ]
     },
     "metadata": {},
     "output_type": "display_data"
    },
    {
     "name": "stdout",
     "output_type": "stream",
     "text": [
      "h^4 =>\n"
     ]
    },
    {
     "data": {
      "text/latex": [
       "$\\displaystyle 0$"
      ],
      "text/plain": [
       "0"
      ]
     },
     "metadata": {},
     "output_type": "display_data"
    },
    {
     "name": "stdout",
     "output_type": "stream",
     "text": [
      "h^5 =>\n"
     ]
    },
    {
     "data": {
      "text/latex": [
       "$\\displaystyle - \\frac{95 \\mu^{5} u_{1} \\left(u - 1\\right)^{5} \\left(u + 1\\right)^{5}}{288} - \\frac{95 \\mu^{4} u \\left(u - 1\\right)^{3} \\left(u + 1\\right)^{3} \\left(u^{2} - 52 u_{1}^{2} - 1\\right)}{288} + \\frac{95 \\mu^{3} u_{1} \\left(u - 1\\right) \\left(u + 1\\right) \\left(20 u^{4} - 50 u^{2} u_{1}^{2} - 21 u^{2} + 16 u_{1}^{2} + 1\\right)}{72} + \\frac{95 \\mu^{2} u \\left(29 u^{4} - 250 u^{2} u_{1}^{2} - 32 u^{2} + 60 u_{1}^{4} + 150 u_{1}^{2} + 3\\right)}{288} - \\frac{95 \\mu u_{1} \\left(69 u^{2} - 22 u_{1}^{2} - 3\\right)}{288} - \\frac{95 u}{288}$"
      ],
      "text/plain": [
       "-95*\\mu**5*u1*(u - 1)**5*(u + 1)**5/288 - 95*\\mu**4*u*(u - 1)**3*(u + 1)**3*(u**2 - 52*u1**2 - 1)/288 + 95*\\mu**3*u1*(u - 1)*(u + 1)*(20*u**4 - 50*u**2*u1**2 - 21*u**2 + 16*u1**2 + 1)/72 + 95*\\mu**2*u*(29*u**4 - 250*u**2*u1**2 - 32*u**2 + 60*u1**4 + 150*u1**2 + 3)/288 - 95*\\mu*u1*(69*u**2 - 22*u1**2 - 3)/288 - 95*u/288"
      ]
     },
     "metadata": {},
     "output_type": "display_data"
    },
    {
     "name": "stdout",
     "output_type": "stream",
     "text": [
      "- u_{1} + u_{t}\n",
      "+h\\left(\n",
      "0\n",
      "\\right)\n",
      "+h^2\\left(\n",
      "0\n",
      "\\right)\n",
      "+h^3\\left(\n",
      "0\n",
      "\\right)\n",
      "+h^4\\left(\n",
      "0\n",
      "\\right)\n",
      "+h^5\\left(\n",
      "- \\frac{95 \\mu^{5} u_{1} \\left(u - 1\\right)^{5} \\left(u + 1\\right)^{5}}{288} - \\frac{95 \\mu^{4} u \\left(u - 1\\right)^{3} \\left(u + 1\\right)^{3} \\left(u^{2} - 52 u_{1}^{2} - 1\\right)}{288} + \\frac{95 \\mu^{3} u_{1} \\left(u - 1\\right) \\left(u + 1\\right) \\left(20 u^{4} - 50 u^{2} u_{1}^{2} - 21 u^{2} + 16 u_{1}^{2} + 1\\right)}{72} + \\frac{95 \\mu^{2} u \\left(29 u^{4} - 250 u^{2} u_{1}^{2} - 32 u^{2} + 60 u_{1}^{4} + 150 u_{1}^{2} + 3\\right)}{288} - \\frac{95 \\mu u_{1} \\left(69 u^{2} - 22 u_{1}^{2} - 3\\right)}{288} - \\frac{95 u}{288}\n",
      "\\right)\n"
     ]
    }
   ],
   "source": [
    "f1 = NF(F1, [u(t).diff(t), u1(t).diff(t)], [F1, F2], head=False)\n",
    "prn(f1, mu)\n",
    "prnlatex(f1, mu)"
   ]
  },
  {
   "cell_type": "code",
   "execution_count": 57,
   "id": "23c51ebf",
   "metadata": {},
   "outputs": [
    {
     "name": "stdout",
     "output_type": "stream",
     "text": [
      "h^0 =>\n"
     ]
    },
    {
     "data": {
      "text/latex": [
       "$\\displaystyle \\mu u_{1} \\left(u - 1\\right) \\left(u + 1\\right) + u + u1_{t}$"
      ],
      "text/plain": [
       "\\mu*u1*(u - 1)*(u + 1) + u + u1_{t}"
      ]
     },
     "metadata": {},
     "output_type": "display_data"
    },
    {
     "name": "stdout",
     "output_type": "stream",
     "text": [
      "h^1 =>\n"
     ]
    },
    {
     "data": {
      "text/latex": [
       "$\\displaystyle 0$"
      ],
      "text/plain": [
       "0"
      ]
     },
     "metadata": {},
     "output_type": "display_data"
    },
    {
     "name": "stdout",
     "output_type": "stream",
     "text": [
      "h^2 =>\n"
     ]
    },
    {
     "data": {
      "text/latex": [
       "$\\displaystyle 0$"
      ],
      "text/plain": [
       "0"
      ]
     },
     "metadata": {},
     "output_type": "display_data"
    },
    {
     "name": "stdout",
     "output_type": "stream",
     "text": [
      "h^3 =>\n"
     ]
    },
    {
     "data": {
      "text/latex": [
       "$\\displaystyle 0$"
      ],
      "text/plain": [
       "0"
      ]
     },
     "metadata": {},
     "output_type": "display_data"
    },
    {
     "name": "stdout",
     "output_type": "stream",
     "text": [
      "h^4 =>\n"
     ]
    },
    {
     "data": {
      "text/latex": [
       "$\\displaystyle 0$"
      ],
      "text/plain": [
       "0"
      ]
     },
     "metadata": {},
     "output_type": "display_data"
    },
    {
     "name": "stdout",
     "output_type": "stream",
     "text": [
      "h^5 =>\n"
     ]
    },
    {
     "data": {
      "text/latex": [
       "$\\displaystyle \\frac{95 \\mu^{6} u_{1} \\left(u - 1\\right)^{6} \\left(u + 1\\right)^{6}}{288} + \\frac{95 \\mu^{5} u \\left(u - 1\\right)^{4} \\left(u + 1\\right)^{4} \\left(u^{2} - 114 u_{1}^{2} - 1\\right)}{288} - \\frac{95 \\mu^{4} u_{1} \\left(u - 1\\right)^{2} \\left(u + 1\\right)^{2} \\left(193 u^{4} - 964 u^{2} u_{1}^{2} - 198 u^{2} + 244 u_{1}^{2} + 5\\right)}{288} - \\frac{95 \\mu^{3} u \\left(20 u^{6} - 395 u^{4} u_{1}^{2} - 41 u^{4} + 260 u^{2} u_{1}^{4} + 562 u^{2} u_{1}^{2} + 22 u^{2} - 192 u_{1}^{4} - 167 u_{1}^{2} - 1\\right)}{72} + \\frac{95 \\mu^{2} u_{1} \\left(119 u^{4} - 176 u^{2} u_{1}^{2} - 78 u^{2} + 10 u_{1}^{4} + 36 u_{1}^{2} + 1\\right)}{48} + \\frac{95 \\mu u \\left(23 u^{2} - 68 u_{1}^{2} - 1\\right)}{96} - \\frac{95 u_{1}}{288}$"
      ],
      "text/plain": [
       "95*\\mu**6*u1*(u - 1)**6*(u + 1)**6/288 + 95*\\mu**5*u*(u - 1)**4*(u + 1)**4*(u**2 - 114*u1**2 - 1)/288 - 95*\\mu**4*u1*(u - 1)**2*(u + 1)**2*(193*u**4 - 964*u**2*u1**2 - 198*u**2 + 244*u1**2 + 5)/288 - 95*\\mu**3*u*(20*u**6 - 395*u**4*u1**2 - 41*u**4 + 260*u**2*u1**4 + 562*u**2*u1**2 + 22*u**2 - 192*u1**4 - 167*u1**2 - 1)/72 + 95*\\mu**2*u1*(119*u**4 - 176*u**2*u1**2 - 78*u**2 + 10*u1**4 + 36*u1**2 + 1)/48 + 95*\\mu*u*(23*u**2 - 68*u1**2 - 1)/96 - 95*u1/288"
      ]
     },
     "metadata": {},
     "output_type": "display_data"
    },
    {
     "name": "stdout",
     "output_type": "stream",
     "text": [
      "\\mu u_{1} \\left(u - 1\\right) \\left(u + 1\\right) + u + u1_{t}\n",
      "+h\\left(\n",
      "0\n",
      "\\right)\n",
      "+h^2\\left(\n",
      "0\n",
      "\\right)\n",
      "+h^3\\left(\n",
      "0\n",
      "\\right)\n",
      "+h^4\\left(\n",
      "0\n",
      "\\right)\n",
      "+h^5\\left(\n",
      "\\frac{95 \\mu^{6} u_{1} \\left(u - 1\\right)^{6} \\left(u + 1\\right)^{6}}{288} + \\frac{95 \\mu^{5} u \\left(u - 1\\right)^{4} \\left(u + 1\\right)^{4} \\left(u^{2} - 114 u_{1}^{2} - 1\\right)}{288} - \\frac{95 \\mu^{4} u_{1} \\left(u - 1\\right)^{2} \\left(u + 1\\right)^{2} \\left(193 u^{4} - 964 u^{2} u_{1}^{2} - 198 u^{2} + 244 u_{1}^{2} + 5\\right)}{288} - \\frac{95 \\mu^{3} u \\left(20 u^{6} - 395 u^{4} u_{1}^{2} - 41 u^{4} + 260 u^{2} u_{1}^{4} + 562 u^{2} u_{1}^{2} + 22 u^{2} - 192 u_{1}^{4} - 167 u_{1}^{2} - 1\\right)}{72} + \\frac{95 \\mu^{2} u_{1} \\left(119 u^{4} - 176 u^{2} u_{1}^{2} - 78 u^{2} + 10 u_{1}^{4} + 36 u_{1}^{2} + 1\\right)}{48} + \\frac{95 \\mu u \\left(23 u^{2} - 68 u_{1}^{2} - 1\\right)}{96} - \\frac{95 u_{1}}{288}\n",
      "\\right)\n"
     ]
    }
   ],
   "source": [
    "f2 = NF(F2, [u(t).diff(t), u1(t).diff(t)], [F1, F2], head=False)\n",
    "prn(f2, mu)\n",
    "prnlatex(f2, mu)"
   ]
  },
  {
   "cell_type": "code",
   "execution_count": 58,
   "id": "9fb7bc55",
   "metadata": {},
   "outputs": [
    {
     "data": {
      "text/plain": [
       "'mu**6*(95*y[0]**12*y[1]/288 - 95*y[0]**10*y[1]/48 + 475*y[0]**8*y[1]/96 - 475*y[0]**6*y[1]/72 + 475*y[0]**4*y[1]/96 - 95*y[0]**2*y[1]/48 + 95*y[1]/288) + mu**5*(95*y[0]**11/288 - 1805*y[0]**9*y[1]**2/48 - 475*y[0]**9/288 + 1805*y[0]**7*y[1]**2/12 + 475*y[0]**7/144 - 1805*y[0]**5*y[1]**2/8 - 475*y[0]**5/144 + 1805*y[0]**3*y[1]**2/12 + 475*y[0]**3/288 - 1805*y[0]*y[1]**2/48 - 95*y[0]/288) + mu**4*(-18335*y[0]**8*y[1]/288 + 22895*y[0]**6*y[1]**3/72 + 6935*y[0]**6*y[1]/36 - 17195*y[0]**4*y[1]**3/24 - 3135*y[0]**4*y[1]/16 + 11495*y[0]**2*y[1]**3/24 + 1235*y[0]**2*y[1]/18 - 5795*y[1]**3/72 - 475*y[1]/288) + mu**3*(-475*y[0]**7/18 + 37525*y[0]**5*y[1]**2/72 + 3895*y[0]**5/72 - 6175*y[0]**3*y[1]**4/18 - 26695*y[0]**3*y[1]**2/36 - 1045*y[0]**3/36 + 760*y[0]*y[1]**4/3 + 15865*y[0]*y[1]**2/72 + 95*y[0]/72) + mu**2*(11305*y[0]**4*y[1]/48 - 1045*y[0]**2*y[1]**3/3 - 1235*y[0]**2*y[1]/8 + 475*y[1]**5/24 + 285*y[1]**3/4 + 95*y[1]/48) + mu*(2185*y[0]**3/96 - 1615*y[0]*y[1]**2/24 - 95*y[0]/96) - 95*y[1]/288'"
      ]
     },
     "execution_count": 58,
     "metadata": {},
     "output_type": "execute_result"
    }
   ],
   "source": [
    "replace(str(f2[5].collect(mu)))"
   ]
  },
  {
   "cell_type": "markdown",
   "id": "81b56612",
   "metadata": {},
   "source": [
    "#### Adams–Bashforth method P4 order"
   ]
  },
  {
   "cell_type": "code",
   "execution_count": 59,
   "id": "6edfe59c",
   "metadata": {},
   "outputs": [],
   "source": [
    "set_clip(7, 6, Rational(0, 1))\n",
    "r = AdamsBashforthP4(g, Matrix([u(t), u1(t)]))"
   ]
  },
  {
   "cell_type": "code",
   "execution_count": 60,
   "id": "0eddc769",
   "metadata": {},
   "outputs": [
    {
     "name": "stdout",
     "output_type": "stream",
     "text": [
      "h^0 =>\n"
     ]
    },
    {
     "data": {
      "text/latex": [
       "$\\displaystyle - u_{1} + u_{t}$"
      ],
      "text/plain": [
       "-u1 + u_{t}"
      ]
     },
     "metadata": {},
     "output_type": "display_data"
    },
    {
     "name": "stdout",
     "output_type": "stream",
     "text": [
      "h^1 =>\n"
     ]
    },
    {
     "data": {
      "text/latex": [
       "$\\displaystyle - \\frac{7 \\left(u1_{t} - u_{tt}\\right)}{2}$"
      ],
      "text/plain": [
       "-7*(u1_{t} - u_{tt})/2"
      ]
     },
     "metadata": {},
     "output_type": "display_data"
    },
    {
     "name": "stdout",
     "output_type": "stream",
     "text": [
      "h^2 =>\n"
     ]
    },
    {
     "data": {
      "text/latex": [
       "$\\displaystyle - \\frac{37 \\left(u1_{tt} - u_{ttt}\\right)}{6}$"
      ],
      "text/plain": [
       "-37*(u1_{tt} - u_{ttt})/6"
      ]
     },
     "metadata": {},
     "output_type": "display_data"
    },
    {
     "name": "stdout",
     "output_type": "stream",
     "text": [
      "h^3 =>\n"
     ]
    },
    {
     "data": {
      "text/latex": [
       "$\\displaystyle - \\frac{24 rs_{3} u1_{ttt} + 120 u1_{ttt} - 175 u_{tttt}}{24}$"
      ],
      "text/plain": [
       "-(24*rs_3*u1_{ttt} + 120*u1_{ttt} - 175*u_{tttt})/24"
      ]
     },
     "metadata": {},
     "output_type": "display_data"
    },
    {
     "name": "stdout",
     "output_type": "stream",
     "text": [
      "h^4 =>\n"
     ]
    },
    {
     "data": {
      "text/latex": [
       "$\\displaystyle - \\frac{540 rs_{3} u1_{tttt} + 980 u1_{tttt} - 2343 u_{ttttt}}{360}$"
      ],
      "text/plain": [
       "-(540*rs_3*u1_{tttt} + 980*u1_{tttt} - 2343*u_{ttttt})/360"
      ]
     },
     "metadata": {},
     "output_type": "display_data"
    },
    {
     "name": "stdout",
     "output_type": "stream",
     "text": [
      "h^5 =>\n"
     ]
    },
    {
     "data": {
      "text/latex": [
       "$\\displaystyle - \\frac{900 rs_{3} u1_{ttttt} + 816 u1_{ttttt} - 3367 u_{tttttt}}{720}$"
      ],
      "text/plain": [
       "-(900*rs_3*u1_{ttttt} + 816*u1_{ttttt} - 3367*u_{tttttt})/720"
      ]
     },
     "metadata": {},
     "output_type": "display_data"
    },
    {
     "name": "stdout",
     "output_type": "stream",
     "text": [
      "- u_{1} + u_{t}\n",
      "+h\\left(\n",
      "- \\frac{7 \\left(u1_{t} - u_{tt}\\right)}{2}\n",
      "\\right)\n",
      "+h^2\\left(\n",
      "- \\frac{37 \\left(u1_{tt} - u_{ttt}\\right)}{6}\n",
      "\\right)\n",
      "+h^3\\left(\n",
      "- \\frac{24 rs_{3} u1_{ttt} + 120 u1_{ttt} - 175 u_{tttt}}{24}\n",
      "\\right)\n",
      "+h^4\\left(\n",
      "- \\frac{540 rs_{3} u1_{tttt} + 980 u1_{tttt} - 2343 u_{ttttt}}{360}\n",
      "\\right)\n",
      "+h^5\\left(\n",
      "- \\frac{900 rs_{3} u1_{ttttt} + 816 u1_{ttttt} - 3367 u_{tttttt}}{720}\n",
      "\\right)\n"
     ]
    }
   ],
   "source": [
    "F1 = clip((T(u(t+4*h))-T(u(t+3*h)))/h - T(r[0]))\n",
    "prn(F1, mu)\n",
    "prnlatex(F1, mu)"
   ]
  },
  {
   "cell_type": "code",
   "execution_count": 61,
   "id": "20453e98",
   "metadata": {},
   "outputs": [
    {
     "name": "stdout",
     "output_type": "stream",
     "text": [
      "h^0 =>\n"
     ]
    },
    {
     "data": {
      "text/latex": [
       "$\\displaystyle \\mu u_{1} \\left(u - 1\\right) \\left(u + 1\\right) + u + u1_{t}$"
      ],
      "text/plain": [
       "\\mu*u1*(u - 1)*(u + 1) + u + u1_{t}"
      ]
     },
     "metadata": {},
     "output_type": "display_data"
    },
    {
     "name": "stdout",
     "output_type": "stream",
     "text": [
      "h^1 =>\n"
     ]
    },
    {
     "data": {
      "text/latex": [
       "$\\displaystyle \\frac{7 \\mu \\left(u^{2} u1_{t} + 2 u u_{1} u_{t} - u1_{t}\\right)}{2} + \\frac{7 \\left(u1_{tt} + u_{t}\\right)}{2}$"
      ],
      "text/plain": [
       "7*\\mu*(u**2*u1_{t} + 2*u*u1*u_{t} - u1_{t})/2 + 7*(u1_{tt} + u_{t})/2"
      ]
     },
     "metadata": {},
     "output_type": "display_data"
    },
    {
     "name": "stdout",
     "output_type": "stream",
     "text": [
      "h^2 =>\n"
     ]
    },
    {
     "data": {
      "text/latex": [
       "$\\displaystyle \\frac{37 \\mu \\left(u^{2} u1_{tt} + 2 u u_{1} u_{tt} + 4 u u1_{t} u_{t} + 2 u_{1} u_{t}^{2} - u1_{tt}\\right)}{6} + \\frac{37 \\left(u1_{ttt} + u_{tt}\\right)}{6}$"
      ],
      "text/plain": [
       "37*\\mu*(u**2*u1_{tt} + 2*u*u1*u_{tt} + 4*u*u1_{t}*u_{t} + 2*u1*u_{t}**2 - u1_{tt})/6 + 37*(u1_{ttt} + u_{tt})/6"
      ]
     },
     "metadata": {},
     "output_type": "display_data"
    },
    {
     "name": "stdout",
     "output_type": "stream",
     "text": [
      "h^3 =>\n"
     ]
    },
    {
     "data": {
      "text/latex": [
       "$\\displaystyle \\mu \\left(rs_{3} + 5\\right) \\left(u^{2} u1_{ttt} + 2 u u_{1} u_{ttt} + 6 u u1_{tt} u_{t} + 6 u u1_{t} u_{tt} + 6 u_{1} u_{tt} u_{t} - u1_{ttt} + 6 u1_{t} u_{t}^{2}\\right) + \\frac{24 rs_{3} u_{ttt} + 175 u1_{tttt} + 120 u_{ttt}}{24}$"
      ],
      "text/plain": [
       "\\mu*(rs_3 + 5)*(u**2*u1_{ttt} + 2*u*u1*u_{ttt} + 6*u*u1_{tt}*u_{t} + 6*u*u1_{t}*u_{tt} + 6*u1*u_{tt}*u_{t} - u1_{ttt} + 6*u1_{t}*u_{t}**2) + (24*rs_3*u_{ttt} + 175*u1_{tttt} + 120*u_{ttt})/24"
      ]
     },
     "metadata": {},
     "output_type": "display_data"
    },
    {
     "name": "stdout",
     "output_type": "stream",
     "text": [
      "h^4 =>\n"
     ]
    },
    {
     "data": {
      "text/latex": [
       "$\\displaystyle \\frac{\\mu \\left(27 rs_{3} + 49\\right) \\left(u^{2} u1_{tttt} + 2 u u_{1} u_{tttt} + 8 u u1_{ttt} u_{t} + 12 u u1_{tt} u_{tt} + 8 u u1_{t} u_{ttt} + 8 u_{1} u_{ttt} u_{t} + 6 u_{1} u_{tt}^{2} - u1_{tttt} + 12 u1_{tt} u_{t}^{2} + 24 u1_{t} u_{tt} u_{t}\\right)}{18} + \\frac{540 rs_{3} u_{tttt} + 2343 u1_{ttttt} + 980 u_{tttt}}{360}$"
      ],
      "text/plain": [
       "\\mu*(27*rs_3 + 49)*(u**2*u1_{tttt} + 2*u*u1*u_{tttt} + 8*u*u1_{ttt}*u_{t} + 12*u*u1_{tt}*u_{tt} + 8*u*u1_{t}*u_{ttt} + 8*u1*u_{ttt}*u_{t} + 6*u1*u_{tt}**2 - u1_{tttt} + 12*u1_{tt}*u_{t}**2 + 24*u1_{t}*u_{tt}*u_{t})/18 + (540*rs_3*u_{tttt} + 2343*u1_{ttttt} + 980*u_{tttt})/360"
      ]
     },
     "metadata": {},
     "output_type": "display_data"
    },
    {
     "name": "stdout",
     "output_type": "stream",
     "text": [
      "h^5 =>\n"
     ]
    },
    {
     "data": {
      "text/latex": [
       "$\\displaystyle \\frac{\\mu \\left(75 rs_{3} + 68\\right) \\left(u^{2} u1_{ttttt} + 2 u u_{1} u_{ttttt} + 10 u u1_{tttt} u_{t} + 20 u u1_{ttt} u_{tt} + 20 u u1_{tt} u_{ttt} + 10 u u1_{t} u_{tttt} + 10 u_{1} u_{tttt} u_{t} + 20 u_{1} u_{ttt} u_{tt} - u1_{ttttt} + 20 u1_{ttt} u_{t}^{2} + 60 u1_{tt} u_{tt} u_{t} + 40 u1_{t} u_{ttt} u_{t} + 30 u1_{t} u_{tt}^{2}\\right)}{60} + \\frac{900 rs_{3} u_{ttttt} + 3367 u1_{tttttt} + 816 u_{ttttt}}{720}$"
      ],
      "text/plain": [
       "\\mu*(75*rs_3 + 68)*(u**2*u1_{ttttt} + 2*u*u1*u_{ttttt} + 10*u*u1_{tttt}*u_{t} + 20*u*u1_{ttt}*u_{tt} + 20*u*u1_{tt}*u_{ttt} + 10*u*u1_{t}*u_{tttt} + 10*u1*u_{tttt}*u_{t} + 20*u1*u_{ttt}*u_{tt} - u1_{ttttt} + 20*u1_{ttt}*u_{t}**2 + 60*u1_{tt}*u_{tt}*u_{t} + 40*u1_{t}*u_{ttt}*u_{t} + 30*u1_{t}*u_{tt}**2)/60 + (900*rs_3*u_{ttttt} + 3367*u1_{tttttt} + 816*u_{ttttt})/720"
      ]
     },
     "metadata": {},
     "output_type": "display_data"
    },
    {
     "name": "stdout",
     "output_type": "stream",
     "text": [
      "\\mu u_{1} \\left(u - 1\\right) \\left(u + 1\\right) + u + u1_{t}\n",
      "+h\\left(\n",
      "\\frac{7 \\mu \\left(u^{2} u1_{t} + 2 u u_{1} u_{t} - u1_{t}\\right)}{2} + \\frac{7 \\left(u1_{tt} + u_{t}\\right)}{2}\n",
      "\\right)\n",
      "+h^2\\left(\n",
      "\\frac{37 \\mu \\left(u^{2} u1_{tt} + 2 u u_{1} u_{tt} + 4 u u1_{t} u_{t} + 2 u_{1} u_{t}^{2} - u1_{tt}\\right)}{6} + \\frac{37 \\left(u1_{ttt} + u_{tt}\\right)}{6}\n",
      "\\right)\n",
      "+h^3\\left(\n",
      "\\mu \\left(rs_{3} + 5\\right) \\left(u^{2} u1_{ttt} + 2 u u_{1} u_{ttt} + 6 u u1_{tt} u_{t} + 6 u u1_{t} u_{tt} + 6 u_{1} u_{tt} u_{t} - u1_{ttt} + 6 u1_{t} u_{t}^{2}\\right) + \\frac{24 rs_{3} u_{ttt} + 175 u1_{tttt} + 120 u_{ttt}}{24}\n",
      "\\right)\n",
      "+h^4\\left(\n",
      "\\frac{\\mu \\left(27 rs_{3} + 49\\right) \\left(u^{2} u1_{tttt} + 2 u u_{1} u_{tttt} + 8 u u1_{ttt} u_{t} + 12 u u1_{tt} u_{tt} + 8 u u1_{t} u_{ttt} + 8 u_{1} u_{ttt} u_{t} + 6 u_{1} u_{tt}^{2} - u1_{tttt} + 12 u1_{tt} u_{t}^{2} + 24 u1_{t} u_{tt} u_{t}\\right)}{18} + \\frac{540 rs_{3} u_{tttt} + 2343 u1_{ttttt} + 980 u_{tttt}}{360}\n",
      "\\right)\n",
      "+h^5\\left(\n",
      "\\frac{\\mu \\left(75 rs_{3} + 68\\right) \\left(u^{2} u1_{ttttt} + 2 u u_{1} u_{ttttt} + 10 u u1_{tttt} u_{t} + 20 u u1_{ttt} u_{tt} + 20 u u1_{tt} u_{ttt} + 10 u u1_{t} u_{tttt} + 10 u_{1} u_{tttt} u_{t} + 20 u_{1} u_{ttt} u_{tt} - u1_{ttttt} + 20 u1_{ttt} u_{t}^{2} + 60 u1_{tt} u_{tt} u_{t} + 40 u1_{t} u_{ttt} u_{t} + 30 u1_{t} u_{tt}^{2}\\right)}{60} + \\frac{900 rs_{3} u_{ttttt} + 3367 u1_{tttttt} + 816 u_{ttttt}}{720}\n",
      "\\right)\n"
     ]
    }
   ],
   "source": [
    "F2 = clip((T(u1(t+4*h))-T(u1(t+3*h)))/h - T(r[1]))\n",
    "prn(F2, mu)\n",
    "prnlatex(F2, mu)"
   ]
  },
  {
   "cell_type": "code",
   "execution_count": 62,
   "id": "090e6ba1",
   "metadata": {},
   "outputs": [
    {
     "name": "stdout",
     "output_type": "stream",
     "text": [
      "h^0 =>\n"
     ]
    },
    {
     "data": {
      "text/latex": [
       "$\\displaystyle - u_{1} + u_{t}$"
      ],
      "text/plain": [
       "-u1 + u_{t}"
      ]
     },
     "metadata": {},
     "output_type": "display_data"
    },
    {
     "name": "stdout",
     "output_type": "stream",
     "text": [
      "h^1 =>\n"
     ]
    },
    {
     "data": {
      "text/latex": [
       "$\\displaystyle 0$"
      ],
      "text/plain": [
       "0"
      ]
     },
     "metadata": {},
     "output_type": "display_data"
    },
    {
     "name": "stdout",
     "output_type": "stream",
     "text": [
      "h^2 =>\n"
     ]
    },
    {
     "data": {
      "text/latex": [
       "$\\displaystyle 0$"
      ],
      "text/plain": [
       "0"
      ]
     },
     "metadata": {},
     "output_type": "display_data"
    },
    {
     "name": "stdout",
     "output_type": "stream",
     "text": [
      "h^3 =>\n"
     ]
    },
    {
     "data": {
      "text/latex": [
       "$\\displaystyle \\frac{\\mu^{3} u_{1} \\left(24 rs_{3} - 55\\right) \\left(u - 1\\right)^{3} \\left(u + 1\\right)^{3}}{24} + \\frac{\\mu^{2} u \\left(24 rs_{3} - 55\\right) \\left(u - 1\\right) \\left(u + 1\\right) \\left(u^{2} - 8 u_{1}^{2} - 1\\right)}{24} - \\frac{\\mu u_{1} \\left(24 rs_{3} - 55\\right) \\left(4 u^{2} - u_{1}^{2} - 1\\right)}{12} - \\frac{u \\left(24 rs_{3} - 55\\right)}{24}$"
      ],
      "text/plain": [
       "\\mu**3*u1*(24*rs_3 - 55)*(u - 1)**3*(u + 1)**3/24 + \\mu**2*u*(24*rs_3 - 55)*(u - 1)*(u + 1)*(u**2 - 8*u1**2 - 1)/24 - \\mu*u1*(24*rs_3 - 55)*(4*u**2 - u1**2 - 1)/12 - u*(24*rs_3 - 55)/24"
      ]
     },
     "metadata": {},
     "output_type": "display_data"
    },
    {
     "name": "stdout",
     "output_type": "stream",
     "text": [
      "h^4 =>\n"
     ]
    },
    {
     "data": {
      "text/latex": [
       "$\\displaystyle \\frac{\\mu^{4} u_{1} \\left(1440 rs_{3} - 3049\\right) \\left(u - 1\\right)^{4} \\left(u + 1\\right)^{4}}{720} + \\frac{\\mu^{3} u \\left(1440 rs_{3} - 3049\\right) \\left(u - 1\\right)^{2} \\left(u + 1\\right)^{2} \\left(u^{2} - 22 u_{1}^{2} - 1\\right)}{720} - \\frac{\\mu^{2} u_{1} \\left(1440 rs_{3} - 3049\\right) \\left(29 u^{4} - 30 u^{2} u_{1}^{2} - 32 u^{2} + 14 u_{1}^{2} + 3\\right)}{720} - \\frac{\\mu u \\left(1440 rs_{3} - 3049\\right) \\left(4 u^{2} - 11 u_{1}^{2} - 1\\right)}{360} + \\frac{u_{1} \\left(1440 rs_{3} - 3049\\right)}{720}$"
      ],
      "text/plain": [
       "\\mu**4*u1*(1440*rs_3 - 3049)*(u - 1)**4*(u + 1)**4/720 + \\mu**3*u*(1440*rs_3 - 3049)*(u - 1)**2*(u + 1)**2*(u**2 - 22*u1**2 - 1)/720 - \\mu**2*u1*(1440*rs_3 - 3049)*(29*u**4 - 30*u**2*u1**2 - 32*u**2 + 14*u1**2 + 3)/720 - \\mu*u*(1440*rs_3 - 3049)*(4*u**2 - 11*u1**2 - 1)/360 + u1*(1440*rs_3 - 3049)/720"
      ]
     },
     "metadata": {},
     "output_type": "display_data"
    },
    {
     "name": "stdout",
     "output_type": "stream",
     "text": [
      "h^5 =>\n"
     ]
    },
    {
     "data": {
      "text/latex": [
       "$\\displaystyle \\frac{\\mu^{5} u_{1} \\left(600 rs_{3} - 1219\\right) \\left(u - 1\\right)^{5} \\left(u + 1\\right)^{5}}{288} + \\frac{\\mu^{4} u \\left(600 rs_{3} - 1219\\right) \\left(u - 1\\right)^{3} \\left(u + 1\\right)^{3} \\left(u^{2} - 52 u_{1}^{2} - 1\\right)}{288} - \\frac{\\mu^{3} u_{1} \\left(600 rs_{3} - 1219\\right) \\left(u - 1\\right) \\left(u + 1\\right) \\left(20 u^{4} - 50 u^{2} u_{1}^{2} - 21 u^{2} + 16 u_{1}^{2} + 1\\right)}{72} - \\frac{\\mu^{2} u \\left(600 rs_{3} - 1219\\right) \\left(29 u^{4} - 250 u^{2} u_{1}^{2} - 32 u^{2} + 60 u_{1}^{4} + 150 u_{1}^{2} + 3\\right)}{288} + \\frac{\\mu u_{1} \\left(600 rs_{3} - 1219\\right) \\left(69 u^{2} - 22 u_{1}^{2} - 3\\right)}{288} + \\frac{u \\left(600 rs_{3} - 1219\\right)}{288}$"
      ],
      "text/plain": [
       "\\mu**5*u1*(600*rs_3 - 1219)*(u - 1)**5*(u + 1)**5/288 + \\mu**4*u*(600*rs_3 - 1219)*(u - 1)**3*(u + 1)**3*(u**2 - 52*u1**2 - 1)/288 - \\mu**3*u1*(600*rs_3 - 1219)*(u - 1)*(u + 1)*(20*u**4 - 50*u**2*u1**2 - 21*u**2 + 16*u1**2 + 1)/72 - \\mu**2*u*(600*rs_3 - 1219)*(29*u**4 - 250*u**2*u1**2 - 32*u**2 + 60*u1**4 + 150*u1**2 + 3)/288 + \\mu*u1*(600*rs_3 - 1219)*(69*u**2 - 22*u1**2 - 3)/288 + u*(600*rs_3 - 1219)/288"
      ]
     },
     "metadata": {},
     "output_type": "display_data"
    },
    {
     "name": "stdout",
     "output_type": "stream",
     "text": [
      "- u_{1} + u_{t}\n",
      "+h\\left(\n",
      "0\n",
      "\\right)\n",
      "+h^2\\left(\n",
      "0\n",
      "\\right)\n",
      "+h^3\\left(\n",
      "\\frac{\\mu^{3} u_{1} \\left(24 rs_{3} - 55\\right) \\left(u - 1\\right)^{3} \\left(u + 1\\right)^{3}}{24} + \\frac{\\mu^{2} u \\left(24 rs_{3} - 55\\right) \\left(u - 1\\right) \\left(u + 1\\right) \\left(u^{2} - 8 u_{1}^{2} - 1\\right)}{24} - \\frac{\\mu u_{1} \\left(24 rs_{3} - 55\\right) \\left(4 u^{2} - u_{1}^{2} - 1\\right)}{12} - \\frac{u \\left(24 rs_{3} - 55\\right)}{24}\n",
      "\\right)\n",
      "+h^4\\left(\n",
      "\\frac{\\mu^{4} u_{1} \\left(1440 rs_{3} - 3049\\right) \\left(u - 1\\right)^{4} \\left(u + 1\\right)^{4}}{720} + \\frac{\\mu^{3} u \\left(1440 rs_{3} - 3049\\right) \\left(u - 1\\right)^{2} \\left(u + 1\\right)^{2} \\left(u^{2} - 22 u_{1}^{2} - 1\\right)}{720} - \\frac{\\mu^{2} u_{1} \\left(1440 rs_{3} - 3049\\right) \\left(29 u^{4} - 30 u^{2} u_{1}^{2} - 32 u^{2} + 14 u_{1}^{2} + 3\\right)}{720} - \\frac{\\mu u \\left(1440 rs_{3} - 3049\\right) \\left(4 u^{2} - 11 u_{1}^{2} - 1\\right)}{360} + \\frac{u_{1} \\left(1440 rs_{3} - 3049\\right)}{720}\n",
      "\\right)\n",
      "+h^5\\left(\n",
      "\\frac{\\mu^{5} u_{1} \\left(600 rs_{3} - 1219\\right) \\left(u - 1\\right)^{5} \\left(u + 1\\right)^{5}}{288} + \\frac{\\mu^{4} u \\left(600 rs_{3} - 1219\\right) \\left(u - 1\\right)^{3} \\left(u + 1\\right)^{3} \\left(u^{2} - 52 u_{1}^{2} - 1\\right)}{288} - \\frac{\\mu^{3} u_{1} \\left(600 rs_{3} - 1219\\right) \\left(u - 1\\right) \\left(u + 1\\right) \\left(20 u^{4} - 50 u^{2} u_{1}^{2} - 21 u^{2} + 16 u_{1}^{2} + 1\\right)}{72} - \\frac{\\mu^{2} u \\left(600 rs_{3} - 1219\\right) \\left(29 u^{4} - 250 u^{2} u_{1}^{2} - 32 u^{2} + 60 u_{1}^{4} + 150 u_{1}^{2} + 3\\right)}{288} + \\frac{\\mu u_{1} \\left(600 rs_{3} - 1219\\right) \\left(69 u^{2} - 22 u_{1}^{2} - 3\\right)}{288} + \\frac{u \\left(600 rs_{3} - 1219\\right)}{288}\n",
      "\\right)\n"
     ]
    }
   ],
   "source": [
    "f1 = NF(F1, [u(t).diff(t), u1(t).diff(t)], [F1, F2], head=False)\n",
    "prn(f1, mu)\n",
    "prnlatex(f1, mu)"
   ]
  },
  {
   "cell_type": "code",
   "execution_count": 63,
   "id": "a0ac907b",
   "metadata": {
    "scrolled": false
   },
   "outputs": [
    {
     "name": "stdout",
     "output_type": "stream",
     "text": [
      "h^0 =>\n"
     ]
    },
    {
     "data": {
      "text/latex": [
       "$\\displaystyle \\mu u_{1} \\left(u - 1\\right) \\left(u + 1\\right) + u + u1_{t}$"
      ],
      "text/plain": [
       "\\mu*u1*(u - 1)*(u + 1) + u + u1_{t}"
      ]
     },
     "metadata": {},
     "output_type": "display_data"
    },
    {
     "name": "stdout",
     "output_type": "stream",
     "text": [
      "h^1 =>\n"
     ]
    },
    {
     "data": {
      "text/latex": [
       "$\\displaystyle 0$"
      ],
      "text/plain": [
       "0"
      ]
     },
     "metadata": {},
     "output_type": "display_data"
    },
    {
     "name": "stdout",
     "output_type": "stream",
     "text": [
      "h^2 =>\n"
     ]
    },
    {
     "data": {
      "text/latex": [
       "$\\displaystyle 0$"
      ],
      "text/plain": [
       "0"
      ]
     },
     "metadata": {},
     "output_type": "display_data"
    },
    {
     "name": "stdout",
     "output_type": "stream",
     "text": [
      "h^3 =>\n"
     ]
    },
    {
     "data": {
      "text/latex": [
       "$\\displaystyle - \\frac{\\mu^{4} u_{1} \\left(24 rs_{3} - 55\\right) \\left(u - 1\\right)^{4} \\left(u + 1\\right)^{4}}{24} - \\frac{\\mu^{3} u \\left(24 rs_{3} - 55\\right) \\left(u - 1\\right)^{2} \\left(u + 1\\right)^{2} \\left(u^{2} - 22 u_{1}^{2} - 1\\right)}{24} + \\frac{\\mu^{2} u_{1} \\left(24 rs_{3} - 55\\right) \\left(29 u^{4} - 30 u^{2} u_{1}^{2} - 32 u^{2} + 14 u_{1}^{2} + 3\\right)}{24} + \\frac{\\mu u \\left(24 rs_{3} - 55\\right) \\left(4 u^{2} - 11 u_{1}^{2} - 1\\right)}{12} - \\frac{u_{1} \\left(24 rs_{3} - 55\\right)}{24}$"
      ],
      "text/plain": [
       "-\\mu**4*u1*(24*rs_3 - 55)*(u - 1)**4*(u + 1)**4/24 - \\mu**3*u*(24*rs_3 - 55)*(u - 1)**2*(u + 1)**2*(u**2 - 22*u1**2 - 1)/24 + \\mu**2*u1*(24*rs_3 - 55)*(29*u**4 - 30*u**2*u1**2 - 32*u**2 + 14*u1**2 + 3)/24 + \\mu*u*(24*rs_3 - 55)*(4*u**2 - 11*u1**2 - 1)/12 - u1*(24*rs_3 - 55)/24"
      ]
     },
     "metadata": {},
     "output_type": "display_data"
    },
    {
     "name": "stdout",
     "output_type": "stream",
     "text": [
      "h^4 =>\n"
     ]
    },
    {
     "data": {
      "text/latex": [
       "$\\displaystyle - \\frac{\\mu^{5} u_{1} \\left(1440 rs_{3} - 3049\\right) \\left(u - 1\\right)^{5} \\left(u + 1\\right)^{5}}{720} - \\frac{\\mu^{4} u \\left(1440 rs_{3} - 3049\\right) \\left(u - 1\\right)^{3} \\left(u + 1\\right)^{3} \\left(u^{2} - 52 u_{1}^{2} - 1\\right)}{720} + \\frac{\\mu^{3} u_{1} \\left(1440 rs_{3} - 3049\\right) \\left(u - 1\\right) \\left(u + 1\\right) \\left(20 u^{4} - 50 u^{2} u_{1}^{2} - 21 u^{2} + 16 u_{1}^{2} + 1\\right)}{180} + \\frac{\\mu^{2} u \\left(1440 rs_{3} - 3049\\right) \\left(29 u^{4} - 250 u^{2} u_{1}^{2} - 32 u^{2} + 60 u_{1}^{4} + 150 u_{1}^{2} + 3\\right)}{720} - \\frac{\\mu u_{1} \\left(1440 rs_{3} - 3049\\right) \\left(69 u^{2} - 22 u_{1}^{2} - 3\\right)}{720} - \\frac{u \\left(1440 rs_{3} - 3049\\right)}{720}$"
      ],
      "text/plain": [
       "-\\mu**5*u1*(1440*rs_3 - 3049)*(u - 1)**5*(u + 1)**5/720 - \\mu**4*u*(1440*rs_3 - 3049)*(u - 1)**3*(u + 1)**3*(u**2 - 52*u1**2 - 1)/720 + \\mu**3*u1*(1440*rs_3 - 3049)*(u - 1)*(u + 1)*(20*u**4 - 50*u**2*u1**2 - 21*u**2 + 16*u1**2 + 1)/180 + \\mu**2*u*(1440*rs_3 - 3049)*(29*u**4 - 250*u**2*u1**2 - 32*u**2 + 60*u1**4 + 150*u1**2 + 3)/720 - \\mu*u1*(1440*rs_3 - 3049)*(69*u**2 - 22*u1**2 - 3)/720 - u*(1440*rs_3 - 3049)/720"
      ]
     },
     "metadata": {},
     "output_type": "display_data"
    },
    {
     "name": "stdout",
     "output_type": "stream",
     "text": [
      "h^5 =>\n"
     ]
    },
    {
     "data": {
      "text/latex": [
       "$\\displaystyle - \\frac{\\mu^{6} u_{1} \\left(600 rs_{3} - 1219\\right) \\left(u - 1\\right)^{6} \\left(u + 1\\right)^{6}}{288} - \\frac{\\mu^{5} u \\left(600 rs_{3} - 1219\\right) \\left(u - 1\\right)^{4} \\left(u + 1\\right)^{4} \\left(u^{2} - 114 u_{1}^{2} - 1\\right)}{288} + \\frac{\\mu^{4} u_{1} \\left(600 rs_{3} - 1219\\right) \\left(u - 1\\right)^{2} \\left(u + 1\\right)^{2} \\left(193 u^{4} - 964 u^{2} u_{1}^{2} - 198 u^{2} + 244 u_{1}^{2} + 5\\right)}{288} + \\frac{\\mu^{3} u \\left(600 rs_{3} - 1219\\right) \\left(20 u^{6} - 395 u^{4} u_{1}^{2} - 41 u^{4} + 260 u^{2} u_{1}^{4} + 562 u^{2} u_{1}^{2} + 22 u^{2} - 192 u_{1}^{4} - 167 u_{1}^{2} - 1\\right)}{72} - \\frac{\\mu^{2} u_{1} \\left(600 rs_{3} - 1219\\right) \\left(119 u^{4} - 176 u^{2} u_{1}^{2} - 78 u^{2} + 10 u_{1}^{4} + 36 u_{1}^{2} + 1\\right)}{48} - \\frac{\\mu u \\left(600 rs_{3} - 1219\\right) \\left(23 u^{2} - 68 u_{1}^{2} - 1\\right)}{96} + \\frac{u_{1} \\left(600 rs_{3} - 1219\\right)}{288}$"
      ],
      "text/plain": [
       "-\\mu**6*u1*(600*rs_3 - 1219)*(u - 1)**6*(u + 1)**6/288 - \\mu**5*u*(600*rs_3 - 1219)*(u - 1)**4*(u + 1)**4*(u**2 - 114*u1**2 - 1)/288 + \\mu**4*u1*(600*rs_3 - 1219)*(u - 1)**2*(u + 1)**2*(193*u**4 - 964*u**2*u1**2 - 198*u**2 + 244*u1**2 + 5)/288 + \\mu**3*u*(600*rs_3 - 1219)*(20*u**6 - 395*u**4*u1**2 - 41*u**4 + 260*u**2*u1**4 + 562*u**2*u1**2 + 22*u**2 - 192*u1**4 - 167*u1**2 - 1)/72 - \\mu**2*u1*(600*rs_3 - 1219)*(119*u**4 - 176*u**2*u1**2 - 78*u**2 + 10*u1**4 + 36*u1**2 + 1)/48 - \\mu*u*(600*rs_3 - 1219)*(23*u**2 - 68*u1**2 - 1)/96 + u1*(600*rs_3 - 1219)/288"
      ]
     },
     "metadata": {},
     "output_type": "display_data"
    },
    {
     "name": "stdout",
     "output_type": "stream",
     "text": [
      "\\mu u_{1} \\left(u - 1\\right) \\left(u + 1\\right) + u + u1_{t}\n",
      "+h\\left(\n",
      "0\n",
      "\\right)\n",
      "+h^2\\left(\n",
      "0\n",
      "\\right)\n",
      "+h^3\\left(\n",
      "- \\frac{\\mu^{4} u_{1} \\left(24 rs_{3} - 55\\right) \\left(u - 1\\right)^{4} \\left(u + 1\\right)^{4}}{24} - \\frac{\\mu^{3} u \\left(24 rs_{3} - 55\\right) \\left(u - 1\\right)^{2} \\left(u + 1\\right)^{2} \\left(u^{2} - 22 u_{1}^{2} - 1\\right)}{24} + \\frac{\\mu^{2} u_{1} \\left(24 rs_{3} - 55\\right) \\left(29 u^{4} - 30 u^{2} u_{1}^{2} - 32 u^{2} + 14 u_{1}^{2} + 3\\right)}{24} + \\frac{\\mu u \\left(24 rs_{3} - 55\\right) \\left(4 u^{2} - 11 u_{1}^{2} - 1\\right)}{12} - \\frac{u_{1} \\left(24 rs_{3} - 55\\right)}{24}\n",
      "\\right)\n",
      "+h^4\\left(\n",
      "- \\frac{\\mu^{5} u_{1} \\left(1440 rs_{3} - 3049\\right) \\left(u - 1\\right)^{5} \\left(u + 1\\right)^{5}}{720} - \\frac{\\mu^{4} u \\left(1440 rs_{3} - 3049\\right) \\left(u - 1\\right)^{3} \\left(u + 1\\right)^{3} \\left(u^{2} - 52 u_{1}^{2} - 1\\right)}{720} + \\frac{\\mu^{3} u_{1} \\left(1440 rs_{3} - 3049\\right) \\left(u - 1\\right) \\left(u + 1\\right) \\left(20 u^{4} - 50 u^{2} u_{1}^{2} - 21 u^{2} + 16 u_{1}^{2} + 1\\right)}{180} + \\frac{\\mu^{2} u \\left(1440 rs_{3} - 3049\\right) \\left(29 u^{4} - 250 u^{2} u_{1}^{2} - 32 u^{2} + 60 u_{1}^{4} + 150 u_{1}^{2} + 3\\right)}{720} - \\frac{\\mu u_{1} \\left(1440 rs_{3} - 3049\\right) \\left(69 u^{2} - 22 u_{1}^{2} - 3\\right)}{720} - \\frac{u \\left(1440 rs_{3} - 3049\\right)}{720}\n",
      "\\right)\n",
      "+h^5\\left(\n",
      "- \\frac{\\mu^{6} u_{1} \\left(600 rs_{3} - 1219\\right) \\left(u - 1\\right)^{6} \\left(u + 1\\right)^{6}}{288} - \\frac{\\mu^{5} u \\left(600 rs_{3} - 1219\\right) \\left(u - 1\\right)^{4} \\left(u + 1\\right)^{4} \\left(u^{2} - 114 u_{1}^{2} - 1\\right)}{288} + \\frac{\\mu^{4} u_{1} \\left(600 rs_{3} - 1219\\right) \\left(u - 1\\right)^{2} \\left(u + 1\\right)^{2} \\left(193 u^{4} - 964 u^{2} u_{1}^{2} - 198 u^{2} + 244 u_{1}^{2} + 5\\right)}{288} + \\frac{\\mu^{3} u \\left(600 rs_{3} - 1219\\right) \\left(20 u^{6} - 395 u^{4} u_{1}^{2} - 41 u^{4} + 260 u^{2} u_{1}^{4} + 562 u^{2} u_{1}^{2} + 22 u^{2} - 192 u_{1}^{4} - 167 u_{1}^{2} - 1\\right)}{72} - \\frac{\\mu^{2} u_{1} \\left(600 rs_{3} - 1219\\right) \\left(119 u^{4} - 176 u^{2} u_{1}^{2} - 78 u^{2} + 10 u_{1}^{4} + 36 u_{1}^{2} + 1\\right)}{48} - \\frac{\\mu u \\left(600 rs_{3} - 1219\\right) \\left(23 u^{2} - 68 u_{1}^{2} - 1\\right)}{96} + \\frac{u_{1} \\left(600 rs_{3} - 1219\\right)}{288}\n",
      "\\right)\n"
     ]
    }
   ],
   "source": [
    "f2 = NF(F2, [u(t).diff(t), u1(t).diff(t)], [F1, F2], head=False)\n",
    "prn(f2, mu)\n",
    "prnlatex(f2, mu)"
   ]
  },
  {
   "cell_type": "code",
   "execution_count": 64,
   "id": "attached-detective",
   "metadata": {},
   "outputs": [
    {
     "data": {
      "text/latex": [
       "$\\displaystyle \\frac{55}{24} + \\frac{1}{24 \\mu^{4}}$"
      ],
      "text/plain": [
       "55/24 + 1/(24*\\mu**4)"
      ]
     },
     "execution_count": 64,
     "metadata": {},
     "output_type": "execute_result"
    }
   ],
   "source": [
    "solve(mu**4*(24*rs3 - 55) - 1, rs3)[0]"
   ]
  },
  {
   "cell_type": "code",
   "execution_count": 65,
   "id": "clear-senate",
   "metadata": {},
   "outputs": [
    {
     "data": {
      "text/plain": [
       "2.1173611111111112"
      ]
     },
     "execution_count": 65,
     "metadata": {},
     "output_type": "execute_result"
    }
   ],
   "source": [
    "3049/1440"
   ]
  },
  {
   "cell_type": "code",
   "execution_count": 66,
   "id": "played-aquatic",
   "metadata": {},
   "outputs": [
    {
     "data": {
      "text/plain": [
       "2.0316666666666667"
      ]
     },
     "execution_count": 66,
     "metadata": {},
     "output_type": "execute_result"
    }
   ],
   "source": [
    "1219/600"
   ]
  },
  {
   "cell_type": "code",
   "execution_count": 67,
   "id": "5c483e86",
   "metadata": {},
   "outputs": [
    {
     "data": {
      "text/plain": [
       "'mu**6*(-25*rs_3*y[0]**12*y[1]/12 + 25*rs_3*y[0]**10*y[1]/2 - 125*rs_3*y[0]**8*y[1]/4 + 125*rs_3*y[0]**6*y[1]/3 - 125*rs_3*y[0]**4*y[1]/4 + 25*rs_3*y[0]**2*y[1]/2 - 25*rs_3*y[1]/12 + 1219*y[0]**12*y[1]/288 - 1219*y[0]**10*y[1]/48 + 6095*y[0]**8*y[1]/96 - 6095*y[0]**6*y[1]/72 + 6095*y[0]**4*y[1]/96 - 1219*y[0]**2*y[1]/48 + 1219*y[1]/288) + mu**5*(-25*rs_3*y[0]**11/12 + 475*rs_3*y[0]**9*y[1]**2/2 + 125*rs_3*y[0]**9/12 - 950*rs_3*y[0]**7*y[1]**2 - 125*rs_3*y[0]**7/6 + 1425*rs_3*y[0]**5*y[1]**2 + 125*rs_3*y[0]**5/6 - 950*rs_3*y[0]**3*y[1]**2 - 125*rs_3*y[0]**3/12 + 475*rs_3*y[0]*y[1]**2/2 + 25*rs_3*y[0]/12 + 1219*y[0]**11/288 - 23161*y[0]**9*y[1]**2/48 - 6095*y[0]**9/288 + 23161*y[0]**7*y[1]**2/12 + 6095*y[0]**7/144 - 23161*y[0]**5*y[1]**2/8 - 6095*y[0]**5/144 + 23161*y[0]**3*y[1]**2/12 + 6095*y[0]**3/288 - 23161*y[0]*y[1]**2/48 - 1219*y[0]/288) + mu**4*(4825*rs_3*y[0]**8*y[1]/12 - 6025*rs_3*y[0]**6*y[1]**3/3 - 3650*rs_3*y[0]**6*y[1]/3 + 4525*rs_3*y[0]**4*y[1]**3 + 2475*rs_3*y[0]**4*y[1]/2 - 3025*rs_3*y[0]**2*y[1]**3 - 1300*rs_3*y[0]**2*y[1]/3 + 1525*rs_3*y[1]**3/3 + 125*rs_3*y[1]/12 - 235267*y[0]**8*y[1]/288 + 293779*y[0]**6*y[1]**3/72 + 88987*y[0]**6*y[1]/36 - 220639*y[0]**4*y[1]**3/24 - 40227*y[0]**4*y[1]/16 + 147499*y[0]**2*y[1]**3/24 + 15847*y[0]**2*y[1]/18 - 74359*y[1]**3/72 - 6095*y[1]/288) + mu**3*(500*rs_3*y[0]**7/3 - 9875*rs_3*y[0]**5*y[1]**2/3 - 1025*rs_3*y[0]**5/3 + 6500*rs_3*y[0]**3*y[1]**4/3 + 14050*rs_3*y[0]**3*y[1]**2/3 + 550*rs_3*y[0]**3/3 - 1600*rs_3*y[0]*y[1]**4 - 4175*rs_3*y[0]*y[1]**2/3 - 25*rs_3*y[0]/3 - 6095*y[0]**7/18 + 481505*y[0]**5*y[1]**2/72 + 49979*y[0]**5/72 - 79235*y[0]**3*y[1]**4/18 - 342539*y[0]**3*y[1]**2/36 - 13409*y[0]**3/36 + 9752*y[0]*y[1]**4/3 + 203573*y[0]*y[1]**2/72 + 1219*y[0]/72) + mu**2*(-2975*rs_3*y[0]**4*y[1]/2 + 2200*rs_3*y[0]**2*y[1]**3 + 975*rs_3*y[0]**2*y[1] - 125*rs_3*y[1]**5 - 450*rs_3*y[1]**3 - 25*rs_3*y[1]/2 + 145061*y[0]**4*y[1]/48 - 13409*y[0]**2*y[1]**3/3 - 15847*y[0]**2*y[1]/8 + 6095*y[1]**5/24 + 3657*y[1]**3/4 + 1219*y[1]/48) + mu*(-575*rs_3*y[0]**3/4 + 425*rs_3*y[0]*y[1]**2 + 25*rs_3*y[0]/4 + 28037*y[0]**3/96 - 20723*y[0]*y[1]**2/24 - 1219*y[0]/96) + 25*rs_3*y[1]/12 - 1219*y[1]/288'"
      ]
     },
     "execution_count": 67,
     "metadata": {},
     "output_type": "execute_result"
    }
   ],
   "source": [
    "replace(str(f2[5].collect(mu)))"
   ]
  },
  {
   "cell_type": "code",
   "execution_count": 68,
   "id": "f2e76696",
   "metadata": {},
   "outputs": [
    {
     "name": "stdout",
     "output_type": "stream",
     "text": [
      "665.7695469856262\n"
     ]
    }
   ],
   "source": [
    "end = time.time()\n",
    "print(end - start)"
   ]
  },
  {
   "cell_type": "raw",
   "id": "10b1143a",
   "metadata": {},
   "source": []
  },
  {
   "cell_type": "markdown",
   "id": "exciting-colony",
   "metadata": {},
   "source": [
    "### Adams–Bashforth method 4 order"
   ]
  },
  {
   "cell_type": "code",
   "execution_count": 69,
   "id": "enormous-reach",
   "metadata": {},
   "outputs": [],
   "source": [
    "set_clip(7, 6, Rational(0, 1))\n",
    "r = AdamsBashforth4(g, Matrix([u(t), u1(t)]))"
   ]
  },
  {
   "cell_type": "code",
   "execution_count": 70,
   "id": "refined-panama",
   "metadata": {},
   "outputs": [
    {
     "name": "stdout",
     "output_type": "stream",
     "text": [
      "h^0 =>\n"
     ]
    },
    {
     "data": {
      "text/latex": [
       "$\\displaystyle - u_{1} + u_{t}$"
      ],
      "text/plain": [
       "-u1 + u_{t}"
      ]
     },
     "metadata": {},
     "output_type": "display_data"
    },
    {
     "name": "stdout",
     "output_type": "stream",
     "text": [
      "h^1 =>\n"
     ]
    },
    {
     "data": {
      "text/latex": [
       "$\\displaystyle - \\frac{7 \\left(u1_{t} - u_{tt}\\right)}{2}$"
      ],
      "text/plain": [
       "-7*(u1_{t} - u_{tt})/2"
      ]
     },
     "metadata": {},
     "output_type": "display_data"
    },
    {
     "name": "stdout",
     "output_type": "stream",
     "text": [
      "h^2 =>\n"
     ]
    },
    {
     "data": {
      "text/latex": [
       "$\\displaystyle - \\frac{37 \\left(u1_{tt} - u_{ttt}\\right)}{6}$"
      ],
      "text/plain": [
       "-37*(u1_{tt} - u_{ttt})/6"
      ]
     },
     "metadata": {},
     "output_type": "display_data"
    },
    {
     "name": "stdout",
     "output_type": "stream",
     "text": [
      "h^3 =>\n"
     ]
    },
    {
     "data": {
      "text/latex": [
       "$\\displaystyle - \\frac{175 \\left(u1_{ttt} - u_{tttt}\\right)}{24}$"
      ],
      "text/plain": [
       "-175*(u1_{ttt} - u_{tttt})/24"
      ]
     },
     "metadata": {},
     "output_type": "display_data"
    },
    {
     "name": "stdout",
     "output_type": "stream",
     "text": [
      "h^4 =>\n"
     ]
    },
    {
     "data": {
      "text/latex": [
       "$\\displaystyle - \\frac{4435 u1_{tttt} - 4686 u_{ttttt}}{720}$"
      ],
      "text/plain": [
       "-(4435*u1_{tttt} - 4686*u_{ttttt})/720"
      ]
     },
     "metadata": {},
     "output_type": "display_data"
    },
    {
     "name": "stdout",
     "output_type": "stream",
     "text": [
      "h^5 =>\n"
     ]
    },
    {
     "data": {
      "text/latex": [
       "$\\displaystyle - \\frac{5757 u1_{ttttt} - 6734 u_{tttttt}}{1440}$"
      ],
      "text/plain": [
       "-(5757*u1_{ttttt} - 6734*u_{tttttt})/1440"
      ]
     },
     "metadata": {},
     "output_type": "display_data"
    },
    {
     "name": "stdout",
     "output_type": "stream",
     "text": [
      "- u_{1} + u_{t}\n",
      "+h\\left(\n",
      "- \\frac{7 \\left(u1_{t} - u_{tt}\\right)}{2}\n",
      "\\right)\n",
      "+h^2\\left(\n",
      "- \\frac{37 \\left(u1_{tt} - u_{ttt}\\right)}{6}\n",
      "\\right)\n",
      "+h^3\\left(\n",
      "- \\frac{175 \\left(u1_{ttt} - u_{tttt}\\right)}{24}\n",
      "\\right)\n",
      "+h^4\\left(\n",
      "- \\frac{4435 u1_{tttt} - 4686 u_{ttttt}}{720}\n",
      "\\right)\n",
      "+h^5\\left(\n",
      "- \\frac{5757 u1_{ttttt} - 6734 u_{tttttt}}{1440}\n",
      "\\right)\n"
     ]
    }
   ],
   "source": [
    "F1 = clip((T(u(t+4*h))-T(u(t+3*h)))/h - T(r[0]))\n",
    "prn(F1, mu)\n",
    "prnlatex(F1, mu)"
   ]
  },
  {
   "cell_type": "code",
   "execution_count": 71,
   "id": "israeli-motion",
   "metadata": {},
   "outputs": [
    {
     "name": "stdout",
     "output_type": "stream",
     "text": [
      "h^0 =>\n"
     ]
    },
    {
     "data": {
      "text/latex": [
       "$\\displaystyle \\mu u_{1} \\left(u - 1\\right) \\left(u + 1\\right) + u + u1_{t}$"
      ],
      "text/plain": [
       "\\mu*u1*(u - 1)*(u + 1) + u + u1_{t}"
      ]
     },
     "metadata": {},
     "output_type": "display_data"
    },
    {
     "name": "stdout",
     "output_type": "stream",
     "text": [
      "h^1 =>\n"
     ]
    },
    {
     "data": {
      "text/latex": [
       "$\\displaystyle \\frac{7 \\mu \\left(u^{2} u1_{t} + 2 u u_{1} u_{t} - u1_{t}\\right)}{2} + \\frac{7 \\left(u1_{tt} + u_{t}\\right)}{2}$"
      ],
      "text/plain": [
       "7*\\mu*(u**2*u1_{t} + 2*u*u1*u_{t} - u1_{t})/2 + 7*(u1_{tt} + u_{t})/2"
      ]
     },
     "metadata": {},
     "output_type": "display_data"
    },
    {
     "name": "stdout",
     "output_type": "stream",
     "text": [
      "h^2 =>\n"
     ]
    },
    {
     "data": {
      "text/latex": [
       "$\\displaystyle \\frac{37 \\mu \\left(u^{2} u1_{tt} + 2 u u_{1} u_{tt} + 4 u u1_{t} u_{t} + 2 u_{1} u_{t}^{2} - u1_{tt}\\right)}{6} + \\frac{37 \\left(u1_{ttt} + u_{tt}\\right)}{6}$"
      ],
      "text/plain": [
       "37*\\mu*(u**2*u1_{tt} + 2*u*u1*u_{tt} + 4*u*u1_{t}*u_{t} + 2*u1*u_{t}**2 - u1_{tt})/6 + 37*(u1_{ttt} + u_{tt})/6"
      ]
     },
     "metadata": {},
     "output_type": "display_data"
    },
    {
     "name": "stdout",
     "output_type": "stream",
     "text": [
      "h^3 =>\n"
     ]
    },
    {
     "data": {
      "text/latex": [
       "$\\displaystyle \\frac{175 \\mu \\left(u^{2} u1_{ttt} + 2 u u_{1} u_{ttt} + 6 u u1_{tt} u_{t} + 6 u u1_{t} u_{tt} + 6 u_{1} u_{tt} u_{t} - u1_{ttt} + 6 u1_{t} u_{t}^{2}\\right)}{24} + \\frac{175 \\left(u1_{tttt} + u_{ttt}\\right)}{24}$"
      ],
      "text/plain": [
       "175*\\mu*(u**2*u1_{ttt} + 2*u*u1*u_{ttt} + 6*u*u1_{tt}*u_{t} + 6*u*u1_{t}*u_{tt} + 6*u1*u_{tt}*u_{t} - u1_{ttt} + 6*u1_{t}*u_{t}**2)/24 + 175*(u1_{tttt} + u_{ttt})/24"
      ]
     },
     "metadata": {},
     "output_type": "display_data"
    },
    {
     "name": "stdout",
     "output_type": "stream",
     "text": [
      "h^4 =>\n"
     ]
    },
    {
     "data": {
      "text/latex": [
       "$\\displaystyle \\frac{887 \\mu \\left(u^{2} u1_{tttt} + 2 u u_{1} u_{tttt} + 8 u u1_{ttt} u_{t} + 12 u u1_{tt} u_{tt} + 8 u u1_{t} u_{ttt} + 8 u_{1} u_{ttt} u_{t} + 6 u_{1} u_{tt}^{2} - u1_{tttt} + 12 u1_{tt} u_{t}^{2} + 24 u1_{t} u_{tt} u_{t}\\right)}{144} + \\frac{4686 u1_{ttttt} + 4435 u_{tttt}}{720}$"
      ],
      "text/plain": [
       "887*\\mu*(u**2*u1_{tttt} + 2*u*u1*u_{tttt} + 8*u*u1_{ttt}*u_{t} + 12*u*u1_{tt}*u_{tt} + 8*u*u1_{t}*u_{ttt} + 8*u1*u_{ttt}*u_{t} + 6*u1*u_{tt}**2 - u1_{tttt} + 12*u1_{tt}*u_{t}**2 + 24*u1_{t}*u_{tt}*u_{t})/144 + (4686*u1_{ttttt} + 4435*u_{tttt})/720"
      ]
     },
     "metadata": {},
     "output_type": "display_data"
    },
    {
     "name": "stdout",
     "output_type": "stream",
     "text": [
      "h^5 =>\n"
     ]
    },
    {
     "data": {
      "text/latex": [
       "$\\displaystyle \\frac{1919 \\mu \\left(u^{2} u1_{ttttt} + 2 u u_{1} u_{ttttt} + 10 u u1_{tttt} u_{t} + 20 u u1_{ttt} u_{tt} + 20 u u1_{tt} u_{ttt} + 10 u u1_{t} u_{tttt} + 10 u_{1} u_{tttt} u_{t} + 20 u_{1} u_{ttt} u_{tt} - u1_{ttttt} + 20 u1_{ttt} u_{t}^{2} + 60 u1_{tt} u_{tt} u_{t} + 40 u1_{t} u_{ttt} u_{t} + 30 u1_{t} u_{tt}^{2}\\right)}{480} + \\frac{6734 u1_{tttttt} + 5757 u_{ttttt}}{1440}$"
      ],
      "text/plain": [
       "1919*\\mu*(u**2*u1_{ttttt} + 2*u*u1*u_{ttttt} + 10*u*u1_{tttt}*u_{t} + 20*u*u1_{ttt}*u_{tt} + 20*u*u1_{tt}*u_{ttt} + 10*u*u1_{t}*u_{tttt} + 10*u1*u_{tttt}*u_{t} + 20*u1*u_{ttt}*u_{tt} - u1_{ttttt} + 20*u1_{ttt}*u_{t}**2 + 60*u1_{tt}*u_{tt}*u_{t} + 40*u1_{t}*u_{ttt}*u_{t} + 30*u1_{t}*u_{tt}**2)/480 + (6734*u1_{tttttt} + 5757*u_{ttttt})/1440"
      ]
     },
     "metadata": {},
     "output_type": "display_data"
    },
    {
     "name": "stdout",
     "output_type": "stream",
     "text": [
      "\\mu u_{1} \\left(u - 1\\right) \\left(u + 1\\right) + u + u1_{t}\n",
      "+h\\left(\n",
      "\\frac{7 \\mu \\left(u^{2} u1_{t} + 2 u u_{1} u_{t} - u1_{t}\\right)}{2} + \\frac{7 \\left(u1_{tt} + u_{t}\\right)}{2}\n",
      "\\right)\n",
      "+h^2\\left(\n",
      "\\frac{37 \\mu \\left(u^{2} u1_{tt} + 2 u u_{1} u_{tt} + 4 u u1_{t} u_{t} + 2 u_{1} u_{t}^{2} - u1_{tt}\\right)}{6} + \\frac{37 \\left(u1_{ttt} + u_{tt}\\right)}{6}\n",
      "\\right)\n",
      "+h^3\\left(\n",
      "\\frac{175 \\mu \\left(u^{2} u1_{ttt} + 2 u u_{1} u_{ttt} + 6 u u1_{tt} u_{t} + 6 u u1_{t} u_{tt} + 6 u_{1} u_{tt} u_{t} - u1_{ttt} + 6 u1_{t} u_{t}^{2}\\right)}{24} + \\frac{175 \\left(u1_{tttt} + u_{ttt}\\right)}{24}\n",
      "\\right)\n",
      "+h^4\\left(\n",
      "\\frac{887 \\mu \\left(u^{2} u1_{tttt} + 2 u u_{1} u_{tttt} + 8 u u1_{ttt} u_{t} + 12 u u1_{tt} u_{tt} + 8 u u1_{t} u_{ttt} + 8 u_{1} u_{ttt} u_{t} + 6 u_{1} u_{tt}^{2} - u1_{tttt} + 12 u1_{tt} u_{t}^{2} + 24 u1_{t} u_{tt} u_{t}\\right)}{144} + \\frac{4686 u1_{ttttt} + 4435 u_{tttt}}{720}\n",
      "\\right)\n",
      "+h^5\\left(\n",
      "\\frac{1919 \\mu \\left(u^{2} u1_{ttttt} + 2 u u_{1} u_{ttttt} + 10 u u1_{tttt} u_{t} + 20 u u1_{ttt} u_{tt} + 20 u u1_{tt} u_{ttt} + 10 u u1_{t} u_{tttt} + 10 u_{1} u_{tttt} u_{t} + 20 u_{1} u_{ttt} u_{tt} - u1_{ttttt} + 20 u1_{ttt} u_{t}^{2} + 60 u1_{tt} u_{tt} u_{t} + 40 u1_{t} u_{ttt} u_{t} + 30 u1_{t} u_{tt}^{2}\\right)}{480} + \\frac{6734 u1_{tttttt} + 5757 u_{ttttt}}{1440}\n",
      "\\right)\n"
     ]
    }
   ],
   "source": [
    "F2 = clip((T(u1(t+4*h))-T(u1(t+3*h)))/h - T(r[1]))\n",
    "prn(F2, mu)\n",
    "prnlatex(F2, mu)"
   ]
  },
  {
   "cell_type": "code",
   "execution_count": 72,
   "id": "greek-collar",
   "metadata": {},
   "outputs": [
    {
     "name": "stdout",
     "output_type": "stream",
     "text": [
      "h^0 =>\n"
     ]
    },
    {
     "data": {
      "text/latex": [
       "$\\displaystyle - u_{1} + u_{t}$"
      ],
      "text/plain": [
       "-u1 + u_{t}"
      ]
     },
     "metadata": {},
     "output_type": "display_data"
    },
    {
     "name": "stdout",
     "output_type": "stream",
     "text": [
      "h^1 =>\n"
     ]
    },
    {
     "data": {
      "text/latex": [
       "$\\displaystyle 0$"
      ],
      "text/plain": [
       "0"
      ]
     },
     "metadata": {},
     "output_type": "display_data"
    },
    {
     "name": "stdout",
     "output_type": "stream",
     "text": [
      "h^2 =>\n"
     ]
    },
    {
     "data": {
      "text/latex": [
       "$\\displaystyle 0$"
      ],
      "text/plain": [
       "0"
      ]
     },
     "metadata": {},
     "output_type": "display_data"
    },
    {
     "name": "stdout",
     "output_type": "stream",
     "text": [
      "h^3 =>\n"
     ]
    },
    {
     "data": {
      "text/latex": [
       "$\\displaystyle 0$"
      ],
      "text/plain": [
       "0"
      ]
     },
     "metadata": {},
     "output_type": "display_data"
    },
    {
     "name": "stdout",
     "output_type": "stream",
     "text": [
      "h^4 =>\n"
     ]
    },
    {
     "data": {
      "text/latex": [
       "$\\displaystyle \\frac{251 \\mu^{4} u_{1} \\left(u - 1\\right)^{4} \\left(u + 1\\right)^{4}}{720} + \\frac{251 \\mu^{3} u \\left(u - 1\\right)^{2} \\left(u + 1\\right)^{2} \\left(u^{2} - 22 u_{1}^{2} - 1\\right)}{720} - \\frac{251 \\mu^{2} u_{1} \\left(29 u^{4} - 30 u^{2} u_{1}^{2} - 32 u^{2} + 14 u_{1}^{2} + 3\\right)}{720} - \\frac{251 \\mu u \\left(4 u^{2} - 11 u_{1}^{2} - 1\\right)}{360} + \\frac{251 u_{1}}{720}$"
      ],
      "text/plain": [
       "251*\\mu**4*u1*(u - 1)**4*(u + 1)**4/720 + 251*\\mu**3*u*(u - 1)**2*(u + 1)**2*(u**2 - 22*u1**2 - 1)/720 - 251*\\mu**2*u1*(29*u**4 - 30*u**2*u1**2 - 32*u**2 + 14*u1**2 + 3)/720 - 251*\\mu*u*(4*u**2 - 11*u1**2 - 1)/360 + 251*u1/720"
      ]
     },
     "metadata": {},
     "output_type": "display_data"
    },
    {
     "name": "stdout",
     "output_type": "stream",
     "text": [
      "h^5 =>\n"
     ]
    },
    {
     "data": {
      "text/latex": [
       "$\\displaystyle \\frac{13 \\mu^{5} u_{1} \\left(u - 1\\right)^{5} \\left(u + 1\\right)^{5}}{24} + \\frac{13 \\mu^{4} u \\left(u - 1\\right)^{3} \\left(u + 1\\right)^{3} \\left(u^{2} - 52 u_{1}^{2} - 1\\right)}{24} - \\frac{13 \\mu^{3} u_{1} \\left(u - 1\\right) \\left(u + 1\\right) \\left(20 u^{4} - 50 u^{2} u_{1}^{2} - 21 u^{2} + 16 u_{1}^{2} + 1\\right)}{6} - \\frac{13 \\mu^{2} u \\left(29 u^{4} - 250 u^{2} u_{1}^{2} - 32 u^{2} + 60 u_{1}^{4} + 150 u_{1}^{2} + 3\\right)}{24} + \\frac{13 \\mu u_{1} \\left(69 u^{2} - 22 u_{1}^{2} - 3\\right)}{24} + \\frac{13 u}{24}$"
      ],
      "text/plain": [
       "13*\\mu**5*u1*(u - 1)**5*(u + 1)**5/24 + 13*\\mu**4*u*(u - 1)**3*(u + 1)**3*(u**2 - 52*u1**2 - 1)/24 - 13*\\mu**3*u1*(u - 1)*(u + 1)*(20*u**4 - 50*u**2*u1**2 - 21*u**2 + 16*u1**2 + 1)/6 - 13*\\mu**2*u*(29*u**4 - 250*u**2*u1**2 - 32*u**2 + 60*u1**4 + 150*u1**2 + 3)/24 + 13*\\mu*u1*(69*u**2 - 22*u1**2 - 3)/24 + 13*u/24"
      ]
     },
     "metadata": {},
     "output_type": "display_data"
    },
    {
     "name": "stdout",
     "output_type": "stream",
     "text": [
      "- u_{1} + u_{t}\n",
      "+h\\left(\n",
      "0\n",
      "\\right)\n",
      "+h^2\\left(\n",
      "0\n",
      "\\right)\n",
      "+h^3\\left(\n",
      "0\n",
      "\\right)\n",
      "+h^4\\left(\n",
      "\\frac{251 \\mu^{4} u_{1} \\left(u - 1\\right)^{4} \\left(u + 1\\right)^{4}}{720} + \\frac{251 \\mu^{3} u \\left(u - 1\\right)^{2} \\left(u + 1\\right)^{2} \\left(u^{2} - 22 u_{1}^{2} - 1\\right)}{720} - \\frac{251 \\mu^{2} u_{1} \\left(29 u^{4} - 30 u^{2} u_{1}^{2} - 32 u^{2} + 14 u_{1}^{2} + 3\\right)}{720} - \\frac{251 \\mu u \\left(4 u^{2} - 11 u_{1}^{2} - 1\\right)}{360} + \\frac{251 u_{1}}{720}\n",
      "\\right)\n",
      "+h^5\\left(\n",
      "\\frac{13 \\mu^{5} u_{1} \\left(u - 1\\right)^{5} \\left(u + 1\\right)^{5}}{24} + \\frac{13 \\mu^{4} u \\left(u - 1\\right)^{3} \\left(u + 1\\right)^{3} \\left(u^{2} - 52 u_{1}^{2} - 1\\right)}{24} - \\frac{13 \\mu^{3} u_{1} \\left(u - 1\\right) \\left(u + 1\\right) \\left(20 u^{4} - 50 u^{2} u_{1}^{2} - 21 u^{2} + 16 u_{1}^{2} + 1\\right)}{6} - \\frac{13 \\mu^{2} u \\left(29 u^{4} - 250 u^{2} u_{1}^{2} - 32 u^{2} + 60 u_{1}^{4} + 150 u_{1}^{2} + 3\\right)}{24} + \\frac{13 \\mu u_{1} \\left(69 u^{2} - 22 u_{1}^{2} - 3\\right)}{24} + \\frac{13 u}{24}\n",
      "\\right)\n"
     ]
    }
   ],
   "source": [
    "f1 = NF(F1, [u(t).diff(t), u1(t).diff(t)], [F1, F2], head=False)\n",
    "prn(f1, mu)\n",
    "prnlatex(f1, mu)"
   ]
  },
  {
   "cell_type": "code",
   "execution_count": 73,
   "id": "contrary-share",
   "metadata": {},
   "outputs": [
    {
     "name": "stdout",
     "output_type": "stream",
     "text": [
      "h^0 =>\n"
     ]
    },
    {
     "data": {
      "text/latex": [
       "$\\displaystyle \\mu u_{1} \\left(u - 1\\right) \\left(u + 1\\right) + u + u1_{t}$"
      ],
      "text/plain": [
       "\\mu*u1*(u - 1)*(u + 1) + u + u1_{t}"
      ]
     },
     "metadata": {},
     "output_type": "display_data"
    },
    {
     "name": "stdout",
     "output_type": "stream",
     "text": [
      "h^1 =>\n"
     ]
    },
    {
     "data": {
      "text/latex": [
       "$\\displaystyle 0$"
      ],
      "text/plain": [
       "0"
      ]
     },
     "metadata": {},
     "output_type": "display_data"
    },
    {
     "name": "stdout",
     "output_type": "stream",
     "text": [
      "h^2 =>\n"
     ]
    },
    {
     "data": {
      "text/latex": [
       "$\\displaystyle 0$"
      ],
      "text/plain": [
       "0"
      ]
     },
     "metadata": {},
     "output_type": "display_data"
    },
    {
     "name": "stdout",
     "output_type": "stream",
     "text": [
      "h^3 =>\n"
     ]
    },
    {
     "data": {
      "text/latex": [
       "$\\displaystyle 0$"
      ],
      "text/plain": [
       "0"
      ]
     },
     "metadata": {},
     "output_type": "display_data"
    },
    {
     "name": "stdout",
     "output_type": "stream",
     "text": [
      "h^4 =>\n"
     ]
    },
    {
     "data": {
      "text/latex": [
       "$\\displaystyle - \\frac{251 \\mu^{5} u_{1} \\left(u - 1\\right)^{5} \\left(u + 1\\right)^{5}}{720} - \\frac{251 \\mu^{4} u \\left(u - 1\\right)^{3} \\left(u + 1\\right)^{3} \\left(u^{2} - 52 u_{1}^{2} - 1\\right)}{720} + \\frac{251 \\mu^{3} u_{1} \\left(u - 1\\right) \\left(u + 1\\right) \\left(20 u^{4} - 50 u^{2} u_{1}^{2} - 21 u^{2} + 16 u_{1}^{2} + 1\\right)}{180} + \\frac{251 \\mu^{2} u \\left(29 u^{4} - 250 u^{2} u_{1}^{2} - 32 u^{2} + 60 u_{1}^{4} + 150 u_{1}^{2} + 3\\right)}{720} - \\frac{251 \\mu u_{1} \\left(69 u^{2} - 22 u_{1}^{2} - 3\\right)}{720} - \\frac{251 u}{720}$"
      ],
      "text/plain": [
       "-251*\\mu**5*u1*(u - 1)**5*(u + 1)**5/720 - 251*\\mu**4*u*(u - 1)**3*(u + 1)**3*(u**2 - 52*u1**2 - 1)/720 + 251*\\mu**3*u1*(u - 1)*(u + 1)*(20*u**4 - 50*u**2*u1**2 - 21*u**2 + 16*u1**2 + 1)/180 + 251*\\mu**2*u*(29*u**4 - 250*u**2*u1**2 - 32*u**2 + 60*u1**4 + 150*u1**2 + 3)/720 - 251*\\mu*u1*(69*u**2 - 22*u1**2 - 3)/720 - 251*u/720"
      ]
     },
     "metadata": {},
     "output_type": "display_data"
    },
    {
     "name": "stdout",
     "output_type": "stream",
     "text": [
      "h^5 =>\n"
     ]
    },
    {
     "data": {
      "text/latex": [
       "$\\displaystyle - \\frac{13 \\mu^{6} u_{1} \\left(u - 1\\right)^{6} \\left(u + 1\\right)^{6}}{24} - \\frac{13 \\mu^{5} u \\left(u - 1\\right)^{4} \\left(u + 1\\right)^{4} \\left(u^{2} - 114 u_{1}^{2} - 1\\right)}{24} + \\frac{13 \\mu^{4} u_{1} \\left(u - 1\\right)^{2} \\left(u + 1\\right)^{2} \\left(193 u^{4} - 964 u^{2} u_{1}^{2} - 198 u^{2} + 244 u_{1}^{2} + 5\\right)}{24} + \\frac{13 \\mu^{3} u \\left(20 u^{6} - 395 u^{4} u_{1}^{2} - 41 u^{4} + 260 u^{2} u_{1}^{4} + 562 u^{2} u_{1}^{2} + 22 u^{2} - 192 u_{1}^{4} - 167 u_{1}^{2} - 1\\right)}{6} - \\frac{13 \\mu^{2} u_{1} \\left(119 u^{4} - 176 u^{2} u_{1}^{2} - 78 u^{2} + 10 u_{1}^{4} + 36 u_{1}^{2} + 1\\right)}{4} - \\frac{13 \\mu u \\left(23 u^{2} - 68 u_{1}^{2} - 1\\right)}{8} + \\frac{13 u_{1}}{24}$"
      ],
      "text/plain": [
       "-13*\\mu**6*u1*(u - 1)**6*(u + 1)**6/24 - 13*\\mu**5*u*(u - 1)**4*(u + 1)**4*(u**2 - 114*u1**2 - 1)/24 + 13*\\mu**4*u1*(u - 1)**2*(u + 1)**2*(193*u**4 - 964*u**2*u1**2 - 198*u**2 + 244*u1**2 + 5)/24 + 13*\\mu**3*u*(20*u**6 - 395*u**4*u1**2 - 41*u**4 + 260*u**2*u1**4 + 562*u**2*u1**2 + 22*u**2 - 192*u1**4 - 167*u1**2 - 1)/6 - 13*\\mu**2*u1*(119*u**4 - 176*u**2*u1**2 - 78*u**2 + 10*u1**4 + 36*u1**2 + 1)/4 - 13*\\mu*u*(23*u**2 - 68*u1**2 - 1)/8 + 13*u1/24"
      ]
     },
     "metadata": {},
     "output_type": "display_data"
    },
    {
     "name": "stdout",
     "output_type": "stream",
     "text": [
      "\\mu u_{1} \\left(u - 1\\right) \\left(u + 1\\right) + u + u1_{t}\n",
      "+h\\left(\n",
      "0\n",
      "\\right)\n",
      "+h^2\\left(\n",
      "0\n",
      "\\right)\n",
      "+h^3\\left(\n",
      "0\n",
      "\\right)\n",
      "+h^4\\left(\n",
      "- \\frac{251 \\mu^{5} u_{1} \\left(u - 1\\right)^{5} \\left(u + 1\\right)^{5}}{720} - \\frac{251 \\mu^{4} u \\left(u - 1\\right)^{3} \\left(u + 1\\right)^{3} \\left(u^{2} - 52 u_{1}^{2} - 1\\right)}{720} + \\frac{251 \\mu^{3} u_{1} \\left(u - 1\\right) \\left(u + 1\\right) \\left(20 u^{4} - 50 u^{2} u_{1}^{2} - 21 u^{2} + 16 u_{1}^{2} + 1\\right)}{180} + \\frac{251 \\mu^{2} u \\left(29 u^{4} - 250 u^{2} u_{1}^{2} - 32 u^{2} + 60 u_{1}^{4} + 150 u_{1}^{2} + 3\\right)}{720} - \\frac{251 \\mu u_{1} \\left(69 u^{2} - 22 u_{1}^{2} - 3\\right)}{720} - \\frac{251 u}{720}\n",
      "\\right)\n",
      "+h^5\\left(\n",
      "- \\frac{13 \\mu^{6} u_{1} \\left(u - 1\\right)^{6} \\left(u + 1\\right)^{6}}{24} - \\frac{13 \\mu^{5} u \\left(u - 1\\right)^{4} \\left(u + 1\\right)^{4} \\left(u^{2} - 114 u_{1}^{2} - 1\\right)}{24} + \\frac{13 \\mu^{4} u_{1} \\left(u - 1\\right)^{2} \\left(u + 1\\right)^{2} \\left(193 u^{4} - 964 u^{2} u_{1}^{2} - 198 u^{2} + 244 u_{1}^{2} + 5\\right)}{24} + \\frac{13 \\mu^{3} u \\left(20 u^{6} - 395 u^{4} u_{1}^{2} - 41 u^{4} + 260 u^{2} u_{1}^{4} + 562 u^{2} u_{1}^{2} + 22 u^{2} - 192 u_{1}^{4} - 167 u_{1}^{2} - 1\\right)}{6} - \\frac{13 \\mu^{2} u_{1} \\left(119 u^{4} - 176 u^{2} u_{1}^{2} - 78 u^{2} + 10 u_{1}^{4} + 36 u_{1}^{2} + 1\\right)}{4} - \\frac{13 \\mu u \\left(23 u^{2} - 68 u_{1}^{2} - 1\\right)}{8} + \\frac{13 u_{1}}{24}\n",
      "\\right)\n"
     ]
    }
   ],
   "source": [
    "f2 = NF(F2, [u(t).diff(t), u1(t).diff(t)], [F1, F2], head=False)\n",
    "prn(f2, mu)\n",
    "prnlatex(f2, mu)"
   ]
  },
  {
   "cell_type": "code",
   "execution_count": 74,
   "id": "moral-police",
   "metadata": {},
   "outputs": [
    {
     "data": {
      "text/plain": [
       "'mu**5*(-251*y[0]**10*y[1]/720 + 251*y[0]**8*y[1]/144 - 251*y[0]**6*y[1]/72 + 251*y[0]**4*y[1]/72 - 251*y[0]**2*y[1]/144 + 251*y[1]/720) + mu**4*(-251*y[0]**9/720 + 3263*y[0]**7*y[1]**2/180 + 251*y[0]**7/180 - 3263*y[0]**5*y[1]**2/60 - 251*y[0]**5/120 + 3263*y[0]**3*y[1]**2/60 + 251*y[0]**3/180 - 3263*y[0]*y[1]**2/180 - 251*y[0]/720) + mu**3*(251*y[0]**6*y[1]/9 - 1255*y[0]**4*y[1]**3/18 - 10291*y[0]**4*y[1]/180 + 2761*y[0]**2*y[1]**3/30 + 2761*y[0]**2*y[1]/90 - 1004*y[1]**3/45 - 251*y[1]/180) + mu**2*(7279*y[0]**5/720 - 6275*y[0]**3*y[1]**2/72 - 502*y[0]**3/45 + 251*y[0]*y[1]**4/12 + 1255*y[0]*y[1]**2/24 + 251*y[0]/240) + mu*(-5773*y[0]**2*y[1]/240 + 2761*y[1]**3/360 + 251*y[1]/240) - 251*y[0]/720'"
      ]
     },
     "execution_count": 74,
     "metadata": {},
     "output_type": "execute_result"
    }
   ],
   "source": [
    "replace(str(f2[4].collect(mu)))"
   ]
  },
  {
   "cell_type": "raw",
   "id": "ceb9da5f",
   "metadata": {},
   "source": [
    "### Compact Adams–Bashforth method 5 order"
   ]
  },
  {
   "cell_type": "raw",
   "id": "8aa8bf0c",
   "metadata": {},
   "source": [
    "set_clip(7, 6, Rational(0, 1))\n",
    "r = CompactAdamsBashforth5(g, Matrix([u(t), u1(t)]))"
   ]
  },
  {
   "cell_type": "raw",
   "id": "c75bcd16",
   "metadata": {},
   "source": [
    "r[0]"
   ]
  },
  {
   "cell_type": "raw",
   "id": "4f9b7337",
   "metadata": {},
   "source": [
    "expand(T(expand(r[0]*h))/h)"
   ]
  },
  {
   "cell_type": "raw",
   "id": "b22ad5f8",
   "metadata": {},
   "source": [
    "F1 = clip(((T(u(t+3*h))-T(u(t+2*h)))/h - T(expand(r[0]*h))/h)/8)\n",
    "prn(F1, mu)\n",
    "prnlatex(F1, mu)"
   ]
  },
  {
   "cell_type": "raw",
   "id": "abed73b5",
   "metadata": {},
   "source": [
    "F2 = clip(((T(u1(t+3*h))-T(u1(t+2*h)))/h - T(expand(r[1]*h))/h)/8)\n",
    "prn(F2, mu)\n",
    "prnlatex(F2, mu)"
   ]
  },
  {
   "cell_type": "raw",
   "id": "00e3e950",
   "metadata": {},
   "source": [
    "f1 = NF(F1, [u(t).diff(t), u1(t).diff(t)], [F1, F2], head=False)\n",
    "prn(f1, mu)\n",
    "prnlatex(f1, mu)"
   ]
  },
  {
   "cell_type": "raw",
   "id": "d59d4fc1",
   "metadata": {},
   "source": [
    "f2 = NF(F2, [u(t).diff(t), u1(t).diff(t)], [F1, F2], head=False)\n",
    "prn(f2, mu)\n",
    "prnlatex(f2, mu)"
   ]
  },
  {
   "cell_type": "raw",
   "id": "a87ec12b",
   "metadata": {},
   "source": [
    "replace(str(f2[5].collect(mu)))"
   ]
  },
  {
   "cell_type": "raw",
   "id": "df558bbe",
   "metadata": {},
   "source": [
    "expand(T(u(t+3*h)) - T(u(t+2*h)) -\\\n",
    "h*(-10*T(u(t).diff(t))/3 - 22*T(u(t+h).diff(t))/3 + 8*T(u(t+2*h).diff(t))/3) +\\\n",
    "9*T(u(t)) - 9*T(u(t+h)))"
   ]
  }
 ],
 "metadata": {
  "kernelspec": {
   "display_name": "Python 3 (ipykernel)",
   "language": "python",
   "name": "python3"
  },
  "language_info": {
   "codemirror_mode": {
    "name": "ipython",
    "version": 3
   },
   "file_extension": ".py",
   "mimetype": "text/x-python",
   "name": "python",
   "nbconvert_exporter": "python",
   "pygments_lexer": "ipython3",
   "version": "3.10.6"
  }
 },
 "nbformat": 4,
 "nbformat_minor": 5
}
