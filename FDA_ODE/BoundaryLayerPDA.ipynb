{
 "cells": [
  {
   "cell_type": "code",
   "execution_count": 1,
   "id": "8c54cd9a",
   "metadata": {
    "collapsed": true
   },
   "outputs": [],
   "source": [
    "from pprint import pprint\n",
    "from IPython.display import display\n",
    "\n",
    "from fda_ode import *"
   ]
  },
  {
   "cell_type": "code",
   "execution_count": 2,
   "id": "96af006f",
   "metadata": {
    "collapsed": true
   },
   "outputs": [],
   "source": [
    "eps, t, h, a, b = symbols(r'\\varepsilon, t, h, alpha beta', real=True)\n",
    "u, u1 = (f(t) for f in symbols('u, u1', cls=Function))"
   ]
  },
  {
   "cell_type": "code",
   "execution_count": 3,
   "id": "8bdd1c15",
   "metadata": {
    "collapsed": true
   },
   "outputs": [
    {
     "name": "stdout",
     "output_type": "stream",
     "text": [
      "\\varepsilon \\frac{d^{2}}{d t^{2}} u{\\left(t \\right)} + \\left(1 - \\varepsilon^{2}\\right) u{\\left(t \\right)} + \\left(\\varepsilon^{2} + 1\\right) \\frac{d}{d t} u{\\left(t \\right)}\n"
     ]
    }
   ],
   "source": [
    "eq = eps*u.diff(t, 2) + (1 + eps**2)*u.diff(t) + (1 - eps**2)*u\n",
    "print(latex(eq))"
   ]
  },
  {
   "cell_type": "markdown",
   "id": "adf6159b",
   "metadata": {},
   "source": [
    "Задача с пограничным слоем, страница 277\n",
    "\n",
    "https://disk.yandex.ru/i/ng5ws4p2rYTcQA"
   ]
  },
  {
   "cell_type": "code",
   "execution_count": 4,
   "id": "d5eb6dcc",
   "metadata": {
    "collapsed": true
   },
   "outputs": [
    {
     "name": "stdout",
     "output_type": "stream",
     "text": [
      "(-exp(t/\\varepsilon) + exp(t*(\\varepsilon + 2)))*exp(-\\varepsilon*t + \\varepsilon - t + 1 - t/\\varepsilon + 1/\\varepsilon)/(-exp(1/\\varepsilon) + exp(\\varepsilon + 2))\n"
     ]
    }
   ],
   "source": [
    "s = dsolve(eq, u, ics={u.subs(t, 0): 0, u.subs(t, 1): 1})\n",
    "print(s.args[1].expand().simplify())"
   ]
  },
  {
   "cell_type": "code",
   "execution_count": 5,
   "id": "3aed2bf9",
   "metadata": {
    "collapsed": true
   },
   "outputs": [
    {
     "name": "stdout",
     "output_type": "stream",
     "text": [
      "E*(exp(2*t)*exp(\\varepsilon*t) - exp(t/\\varepsilon))*exp(1/\\varepsilon)*exp(\\varepsilon)*exp(-t)*exp(-t/\\varepsilon)*exp(-\\varepsilon*t)/(-exp(1/\\varepsilon) + exp(2)*exp(\\varepsilon))\n"
     ]
    }
   ],
   "source": [
    "print(s.args[1].expand().factor())"
   ]
  },
  {
   "cell_type": "code",
   "execution_count": 6,
   "id": "a98d8afe",
   "metadata": {
    "collapsed": true
   },
   "outputs": [
    {
     "data": {
      "text/latex": [
       "$\\displaystyle \\frac{e \\left(\\varepsilon^{2} + 2 \\varepsilon - 1\\right) e^{\\frac{1}{\\varepsilon}} e^{\\varepsilon}}{\\varepsilon \\left(- e^{\\frac{1}{\\varepsilon}} + e^{2} e^{\\varepsilon}\\right)}$"
      ],
      "text/plain": [
       "E*(\\varepsilon**2 + 2*\\varepsilon - 1)*exp(1/\\varepsilon)*exp(\\varepsilon)/(\\varepsilon*(-exp(1/\\varepsilon) + exp(2)*exp(\\varepsilon)))"
      ]
     },
     "execution_count": 6,
     "metadata": {},
     "output_type": "execute_result"
    }
   ],
   "source": [
    "s.args[1].diff(t).subs(t, 0).expand().factor()"
   ]
  },
  {
   "cell_type": "code",
   "execution_count": 7,
   "id": "9e9f7549",
   "metadata": {
    "collapsed": true
   },
   "outputs": [
    {
     "name": "stdout",
     "output_type": "stream",
     "text": [
      "\\frac{e \\left(\\varepsilon^{2} + 2 \\varepsilon - 1\\right) e^{\\frac{1}{\\varepsilon}} e^{\\varepsilon}}{\\varepsilon \\left(- e^{\\frac{1}{\\varepsilon}} + e^{2} e^{\\varepsilon}\\right)}\n"
     ]
    }
   ],
   "source": [
    "print(latex(s.args[1].diff(t).subs(t, 0).expand().factor()))"
   ]
  },
  {
   "cell_type": "code",
   "execution_count": 8,
   "id": "157dea20",
   "metadata": {
    "collapsed": true
   },
   "outputs": [
    {
     "name": "stdout",
     "output_type": "stream",
     "text": [
      "M_E*(pow(\\varepsilon, 2) + 2*\\varepsilon - 1)*exp(1.0/\\varepsilon)*exp(\\varepsilon)/(\\varepsilon*(-exp(1.0/\\varepsilon) + exp(2)*exp(\\varepsilon)))\n"
     ]
    }
   ],
   "source": [
    "print(ccode(s.args[1].diff(t).subs(t, 0).expand().factor()))"
   ]
  },
  {
   "cell_type": "code",
   "execution_count": 9,
   "id": "2119f3ef",
   "metadata": {
    "collapsed": true
   },
   "outputs": [],
   "source": [
    "init((u, u1), t, h)"
   ]
  },
  {
   "cell_type": "code",
   "execution_count": 10,
   "id": "3c0d2dd6",
   "metadata": {
    "collapsed": true
   },
   "outputs": [],
   "source": [
    "set_clip(8, 7, Rational(0, 1))"
   ]
  },
  {
   "cell_type": "code",
   "execution_count": 11,
   "id": "97ec119d",
   "metadata": {
    "collapsed": true
   },
   "outputs": [
    {
     "data": {
      "text/latex": [
       "$\\displaystyle \\frac{h^{6} \\frac{d^{7}}{d t^{7}} u{\\left(t \\right)}}{5040} + \\frac{h^{4} \\frac{d^{5}}{d t^{5}} u{\\left(t \\right)}}{120} + \\frac{h^{2} \\frac{d^{3}}{d t^{3}} u{\\left(t \\right)}}{6} + \\frac{d}{d t} u{\\left(t \\right)}$"
      ],
      "text/plain": [
       "h**6*Derivative(u(t), (t, 7))/5040 + h**4*Derivative(u(t), (t, 5))/120 + h**2*Derivative(u(t), (t, 3))/6 + Derivative(u(t), t)"
      ]
     },
     "execution_count": 11,
     "metadata": {},
     "output_type": "execute_result"
    }
   ],
   "source": [
    "expand((T(u, 1)-T(u, -1))/(2*h))"
   ]
  },
  {
   "cell_type": "code",
   "execution_count": 12,
   "id": "afbdb421",
   "metadata": {
    "collapsed": true
   },
   "outputs": [],
   "source": [
    "def GaussLegendre2(f, y):\n",
    "    y1 = Matrix([T(m, 1) for m in y])\n",
    "    k1 = f(y1/2 + y/2)\n",
    "    return expand(k1)"
   ]
  },
  {
   "cell_type": "code",
   "execution_count": 13,
   "id": "8a38eb2c",
   "metadata": {
    "collapsed": true
   },
   "outputs": [],
   "source": [
    "def CrankNicolson2(f, y):\n",
    "    y1 = Matrix([T(m, 1) for m in y])\n",
    "    k1 = f(y)\n",
    "    k2 = f(y1)\n",
    "    return expand((k1 + k2)/2)"
   ]
  },
  {
   "cell_type": "code",
   "execution_count": 14,
   "id": "2ab270ae",
   "metadata": {
    "collapsed": true
   },
   "outputs": [],
   "source": [
    "def RungeKutta4(f, y):\n",
    "    k1 = f(y)\n",
    "    k2 = f(y + h*k1/2)\n",
    "    k3 = f(y + h*k2/2)\n",
    "    k4 = f(y + h*k3)\n",
    "    return expand((k1 + 2*k2 + 2*k3 + k4)/6)"
   ]
  },
  {
   "cell_type": "code",
   "execution_count": 15,
   "id": "d59c77f7",
   "metadata": {
    "collapsed": true
   },
   "outputs": [],
   "source": [
    "def DormandPrince5(f, y):\n",
    "    k1 = f(y)\n",
    "    k2 = f(y + h*k1/5)\n",
    "    k3 = f(y + h*(k1*3/40 + k2*9/40))\n",
    "    k4 = f(y + h*(k1*44/45 - k2*56/15 + k3*32/9))\n",
    "    k5 = f(y + h*(k1*19372/6561 - k2*25360/2187 + k3*64448/6561 - k4*212/729))\n",
    "    k6 = f(y + h*(k1*9017/3168 - k2*355/33 + k3*46732/5247 + k4*49/176 - k5*5103/18656))\n",
    "    return expand(k1*35/384 + k3*500/1113 + k4*125/192 - k5*2187/6784 + k6*11/84)\n",
    "\n",
    "def DormandPrince51(f, y):\n",
    "    k1 = f(y)\n",
    "    k2 = f(y + h*k1/5)\n",
    "    k3 = f(y + h*(k1*3/40 + k2*9/40))\n",
    "    k4 = f(y + h*(k1*44/45 - k2*56/15 + k3*32/9))\n",
    "    k5 = f(y + h*(k1*19372/6561 - k2*25360/2187 + k3*64448/6561 - k4*212/729))\n",
    "    k6 = f(y + h*(k1*9017/3168 - k2*355/33 + k3*46732/5247 + k4*49/176 - k5*5103/18656))\n",
    "    k7 = f(y + h*(k1*35/384 + k3*500/1113 + k4*125/192 - k5*2187/6784 + k6*11/84))\n",
    "    return expand(k1*5179/57600 + k3*7571/16695 + k4*393/640 - k5*92097/339200 + k6*187/2100 + k7/40)"
   ]
  },
  {
   "cell_type": "code",
   "execution_count": 16,
   "id": "3b62c86a",
   "metadata": {
    "collapsed": true
   },
   "outputs": [],
   "source": [
    "def f(y):\n",
    "    return Matrix([\\\n",
    "        clip_n(y[1]),\\\n",
    "        clip_n(-((1 + eps**2)*y[1] + (1 - eps**2)*y[0])/eps),\\\n",
    "    ])"
   ]
  },
  {
   "cell_type": "markdown",
   "id": "6103b020",
   "metadata": {},
   "source": [
    "## Gauss–Legendre method"
   ]
  },
  {
   "cell_type": "code",
   "execution_count": 17,
   "id": "cb9b077c",
   "metadata": {
    "collapsed": true
   },
   "outputs": [],
   "source": [
    "set_clip(5, 4, Rational(0, 1))\n",
    "r = GaussLegendre2(f, Matrix([u, u1]))"
   ]
  },
  {
   "cell_type": "code",
   "execution_count": 18,
   "id": "59d9e24b",
   "metadata": {
    "collapsed": true
   },
   "outputs": [
    {
     "name": "stdout",
     "output_type": "stream",
     "text": [
      "h^0 =>\n"
     ]
    },
    {
     "data": {
      "text/latex": [
       "$\\displaystyle - u_{1} + u_{t}$"
      ],
      "text/plain": [
       "-u1 + u_{t}"
      ]
     },
     "metadata": {},
     "output_type": "display_data"
    },
    {
     "name": "stdout",
     "output_type": "stream",
     "text": [
      "h^1 =>\n"
     ]
    },
    {
     "data": {
      "text/latex": [
       "$\\displaystyle - \\frac{u1_{t} - u_{tt}}{2}$"
      ],
      "text/plain": [
       "-(u1_{t} - u_{tt})/2"
      ]
     },
     "metadata": {},
     "output_type": "display_data"
    },
    {
     "name": "stdout",
     "output_type": "stream",
     "text": [
      "h^2 =>\n"
     ]
    },
    {
     "data": {
      "text/latex": [
       "$\\displaystyle - \\frac{3 u1_{tt} - 2 u_{ttt}}{12}$"
      ],
      "text/plain": [
       "-(3*u1_{tt} - 2*u_{ttt})/12"
      ]
     },
     "metadata": {},
     "output_type": "display_data"
    },
    {
     "name": "stdout",
     "output_type": "stream",
     "text": [
      "h^3 =>\n"
     ]
    },
    {
     "data": {
      "text/latex": [
       "$\\displaystyle - \\frac{2 u1_{ttt} - u_{tttt}}{24}$"
      ],
      "text/plain": [
       "-(2*u1_{ttt} - u_{tttt})/24"
      ]
     },
     "metadata": {},
     "output_type": "display_data"
    },
    {
     "name": "stdout",
     "output_type": "stream",
     "text": [
      "- u_{1} + u_{t}\n",
      "+h\\big(\n",
      "- \\frac{u1_{t} - u_{tt}}{2}\n",
      "\\big)\n",
      "+h^2\\big(\n",
      "- \\frac{3 u1_{tt} - 2 u_{ttt}}{12}\n",
      "\\big)\n",
      "+h^3\\big(\n",
      "- \\frac{2 u1_{ttt} - u_{tttt}}{24}\n",
      "\\big)\n"
     ]
    }
   ],
   "source": [
    "F1 = clip((T(u, 1)-T(u, 0))/h - T(r[0], 0))\n",
    "prn(F1, eps)\n",
    "prnlatex(F1, eps)"
   ]
  },
  {
   "cell_type": "code",
   "execution_count": 19,
   "id": "841602b7",
   "metadata": {
    "collapsed": true
   },
   "outputs": [
    {
     "name": "stdout",
     "output_type": "stream",
     "text": [
      "h^0 =>\n"
     ]
    },
    {
     "data": {
      "text/latex": [
       "$\\displaystyle \\varepsilon \\left(- u + u_{1}\\right) + u1_{t} + \\frac{u + u_{1}}{\\varepsilon}$"
      ],
      "text/plain": [
       "\\varepsilon*(-u + u1) + u1_{t} + (u + u1)/\\varepsilon"
      ]
     },
     "metadata": {},
     "output_type": "display_data"
    },
    {
     "name": "stdout",
     "output_type": "stream",
     "text": [
      "h^1 =>\n"
     ]
    },
    {
     "data": {
      "text/latex": [
       "$\\displaystyle \\frac{\\varepsilon \\left(u1_{t} - u_{t}\\right)}{2} + \\frac{u1_{tt}}{2} + \\frac{u1_{t} + u_{t}}{2 \\varepsilon}$"
      ],
      "text/plain": [
       "\\varepsilon*(u1_{t} - u_{t})/2 + u1_{tt}/2 + (u1_{t} + u_{t})/(2*\\varepsilon)"
      ]
     },
     "metadata": {},
     "output_type": "display_data"
    },
    {
     "name": "stdout",
     "output_type": "stream",
     "text": [
      "h^2 =>\n"
     ]
    },
    {
     "data": {
      "text/latex": [
       "$\\displaystyle \\frac{\\varepsilon \\left(u1_{tt} - u_{tt}\\right)}{4} + \\frac{u1_{ttt}}{6} + \\frac{u1_{tt} + u_{tt}}{4 \\varepsilon}$"
      ],
      "text/plain": [
       "\\varepsilon*(u1_{tt} - u_{tt})/4 + u1_{ttt}/6 + (u1_{tt} + u_{tt})/(4*\\varepsilon)"
      ]
     },
     "metadata": {},
     "output_type": "display_data"
    },
    {
     "name": "stdout",
     "output_type": "stream",
     "text": [
      "h^3 =>\n"
     ]
    },
    {
     "data": {
      "text/latex": [
       "$\\displaystyle \\frac{\\varepsilon \\left(u1_{ttt} - u_{ttt}\\right)}{12} + \\frac{u1_{tttt}}{24} + \\frac{u1_{ttt} + u_{ttt}}{12 \\varepsilon}$"
      ],
      "text/plain": [
       "\\varepsilon*(u1_{ttt} - u_{ttt})/12 + u1_{tttt}/24 + (u1_{ttt} + u_{ttt})/(12*\\varepsilon)"
      ]
     },
     "metadata": {},
     "output_type": "display_data"
    },
    {
     "name": "stdout",
     "output_type": "stream",
     "text": [
      "\\varepsilon \\left(- u + u_{1}\\right) + u1_{t} + \\frac{u + u_{1}}{\\varepsilon}\n",
      "+h\\big(\n",
      "\\frac{\\varepsilon \\left(u1_{t} - u_{t}\\right)}{2} + \\frac{u1_{tt}}{2} + \\frac{u1_{t} + u_{t}}{2 \\varepsilon}\n",
      "\\big)\n",
      "+h^2\\big(\n",
      "\\frac{\\varepsilon \\left(u1_{tt} - u_{tt}\\right)}{4} + \\frac{u1_{ttt}}{6} + \\frac{u1_{tt} + u_{tt}}{4 \\varepsilon}\n",
      "\\big)\n",
      "+h^3\\big(\n",
      "\\frac{\\varepsilon \\left(u1_{ttt} - u_{ttt}\\right)}{12} + \\frac{u1_{tttt}}{24} + \\frac{u1_{ttt} + u_{ttt}}{12 \\varepsilon}\n",
      "\\big)\n"
     ]
    }
   ],
   "source": [
    "F2 = clip((T(u1, 1)-T(u1, 0))/h - T(r[1], 0))\n",
    "prn(F2, eps)\n",
    "prnlatex(F2, eps)"
   ]
  },
  {
   "cell_type": "code",
   "execution_count": 20,
   "id": "008c45da",
   "metadata": {
    "collapsed": true
   },
   "outputs": [
    {
     "name": "stdout",
     "output_type": "stream",
     "text": [
      "h^0 =>\n"
     ]
    },
    {
     "data": {
      "text/latex": [
       "$\\displaystyle - u_{1} + u_{t}$"
      ],
      "text/plain": [
       "-u1 + u_{t}"
      ]
     },
     "metadata": {},
     "output_type": "display_data"
    },
    {
     "name": "stdout",
     "output_type": "stream",
     "text": [
      "h^1 =>\n"
     ]
    },
    {
     "data": {
      "text/latex": [
       "$\\displaystyle 0$"
      ],
      "text/plain": [
       "0"
      ]
     },
     "metadata": {},
     "output_type": "display_data"
    },
    {
     "name": "stdout",
     "output_type": "stream",
     "text": [
      "h^2 =>\n"
     ]
    },
    {
     "data": {
      "text/latex": [
       "$\\displaystyle \\frac{\\varepsilon^{2} \\left(u - u_{1}\\right)}{12} - \\frac{\\varepsilon u_{1}}{12} - \\frac{u_{1}}{6} + \\frac{u_{1}}{12 \\varepsilon} - \\frac{u + u_{1}}{12 \\varepsilon^{2}}$"
      ],
      "text/plain": [
       "\\varepsilon**2*(u - u1)/12 - \\varepsilon*u1/12 - u1/6 + u1/(12*\\varepsilon) - (u + u1)/(12*\\varepsilon**2)"
      ]
     },
     "metadata": {},
     "output_type": "display_data"
    },
    {
     "name": "stdout",
     "output_type": "stream",
     "text": [
      "h^3 =>\n"
     ]
    },
    {
     "data": {
      "text/latex": [
       "$\\displaystyle 0$"
      ],
      "text/plain": [
       "0"
      ]
     },
     "metadata": {},
     "output_type": "display_data"
    },
    {
     "name": "stdout",
     "output_type": "stream",
     "text": [
      "- u_{1} + u_{t}\n",
      "+h\\big(\n",
      "0\n",
      "\\big)\n",
      "+h^2\\big(\n",
      "\\frac{\\varepsilon^{2} \\left(u - u_{1}\\right)}{12} - \\frac{\\varepsilon u_{1}}{12} - \\frac{u_{1}}{6} + \\frac{u_{1}}{12 \\varepsilon} - \\frac{u + u_{1}}{12 \\varepsilon^{2}}\n",
      "\\big)\n",
      "+h^3\\big(\n",
      "0\n",
      "\\big)\n"
     ]
    }
   ],
   "source": [
    "f1 = NF(F1, [u.diff(t), u1.diff(t)], [F1, F2], head=False)\n",
    "prn(f1, eps)\n",
    "prnlatex(f1, eps)"
   ]
  },
  {
   "cell_type": "code",
   "execution_count": 21,
   "id": "844d1e32",
   "metadata": {
    "collapsed": true
   },
   "outputs": [
    {
     "name": "stdout",
     "output_type": "stream",
     "text": [
      "h^0 =>\n"
     ]
    },
    {
     "data": {
      "text/latex": [
       "$\\displaystyle \\varepsilon \\left(- u + u_{1}\\right) + u1_{t} + \\frac{u + u_{1}}{\\varepsilon}$"
      ],
      "text/plain": [
       "\\varepsilon*(-u + u1) + u1_{t} + (u + u1)/\\varepsilon"
      ]
     },
     "metadata": {},
     "output_type": "display_data"
    },
    {
     "name": "stdout",
     "output_type": "stream",
     "text": [
      "h^1 =>\n"
     ]
    },
    {
     "data": {
      "text/latex": [
       "$\\displaystyle 0$"
      ],
      "text/plain": [
       "0"
      ]
     },
     "metadata": {},
     "output_type": "display_data"
    },
    {
     "name": "stdout",
     "output_type": "stream",
     "text": [
      "h^2 =>\n"
     ]
    },
    {
     "data": {
      "text/latex": [
       "$\\displaystyle - \\frac{\\varepsilon^{3} \\left(u - u_{1}\\right)}{12} - \\frac{\\varepsilon^{2} \\left(u - 2 u_{1}\\right)}{12} - \\frac{\\varepsilon \\left(u - 3 u_{1}\\right)}{12} + \\frac{u}{6} + \\frac{u + 3 u_{1}}{12 \\varepsilon} - \\frac{u + 2 u_{1}}{12 \\varepsilon^{2}} + \\frac{u + u_{1}}{12 \\varepsilon^{3}}$"
      ],
      "text/plain": [
       "-\\varepsilon**3*(u - u1)/12 - \\varepsilon**2*(u - 2*u1)/12 - \\varepsilon*(u - 3*u1)/12 + u/6 + (u + 3*u1)/(12*\\varepsilon) - (u + 2*u1)/(12*\\varepsilon**2) + (u + u1)/(12*\\varepsilon**3)"
      ]
     },
     "metadata": {},
     "output_type": "display_data"
    },
    {
     "name": "stdout",
     "output_type": "stream",
     "text": [
      "h^3 =>\n"
     ]
    },
    {
     "data": {
      "text/latex": [
       "$\\displaystyle 0$"
      ],
      "text/plain": [
       "0"
      ]
     },
     "metadata": {},
     "output_type": "display_data"
    },
    {
     "name": "stdout",
     "output_type": "stream",
     "text": [
      "\\varepsilon \\left(- u + u_{1}\\right) + u1_{t} + \\frac{u + u_{1}}{\\varepsilon}\n",
      "+h\\big(\n",
      "0\n",
      "\\big)\n",
      "+h^2\\big(\n",
      "- \\frac{\\varepsilon^{3} \\left(u - u_{1}\\right)}{12} - \\frac{\\varepsilon^{2} \\left(u - 2 u_{1}\\right)}{12} - \\frac{\\varepsilon \\left(u - 3 u_{1}\\right)}{12} + \\frac{u}{6} + \\frac{u + 3 u_{1}}{12 \\varepsilon} - \\frac{u + 2 u_{1}}{12 \\varepsilon^{2}} + \\frac{u + u_{1}}{12 \\varepsilon^{3}}\n",
      "\\big)\n",
      "+h^3\\big(\n",
      "0\n",
      "\\big)\n"
     ]
    }
   ],
   "source": [
    "f2 = NF(F2, [u.diff(t), u1.diff(t)], [F1, F2], head=False)\n",
    "prn(f2, eps)\n",
    "prnlatex(f2, eps)"
   ]
  },
  {
   "cell_type": "markdown",
   "id": "da7be11e",
   "metadata": {},
   "source": [
    "## Crank–Nicolson method"
   ]
  },
  {
   "cell_type": "code",
   "execution_count": 22,
   "id": "8b56492b",
   "metadata": {
    "collapsed": true
   },
   "outputs": [],
   "source": [
    "set_clip(5, 4, Rational(0, 1))\n",
    "r = CrankNicolson2(f, Matrix([u, u1]))"
   ]
  },
  {
   "cell_type": "code",
   "execution_count": 23,
   "id": "c5bfd221",
   "metadata": {
    "collapsed": true
   },
   "outputs": [
    {
     "name": "stdout",
     "output_type": "stream",
     "text": [
      "h^0 =>\n"
     ]
    },
    {
     "data": {
      "text/latex": [
       "$\\displaystyle - u_{1} + u_{t}$"
      ],
      "text/plain": [
       "-u1 + u_{t}"
      ]
     },
     "metadata": {},
     "output_type": "display_data"
    },
    {
     "name": "stdout",
     "output_type": "stream",
     "text": [
      "h^1 =>\n"
     ]
    },
    {
     "data": {
      "text/latex": [
       "$\\displaystyle - \\frac{u1_{t} - u_{tt}}{2}$"
      ],
      "text/plain": [
       "-(u1_{t} - u_{tt})/2"
      ]
     },
     "metadata": {},
     "output_type": "display_data"
    },
    {
     "name": "stdout",
     "output_type": "stream",
     "text": [
      "h^2 =>\n"
     ]
    },
    {
     "data": {
      "text/latex": [
       "$\\displaystyle - \\frac{3 u1_{tt} - 2 u_{ttt}}{12}$"
      ],
      "text/plain": [
       "-(3*u1_{tt} - 2*u_{ttt})/12"
      ]
     },
     "metadata": {},
     "output_type": "display_data"
    },
    {
     "name": "stdout",
     "output_type": "stream",
     "text": [
      "h^3 =>\n"
     ]
    },
    {
     "data": {
      "text/latex": [
       "$\\displaystyle - \\frac{2 u1_{ttt} - u_{tttt}}{24}$"
      ],
      "text/plain": [
       "-(2*u1_{ttt} - u_{tttt})/24"
      ]
     },
     "metadata": {},
     "output_type": "display_data"
    },
    {
     "name": "stdout",
     "output_type": "stream",
     "text": [
      "- u_{1} + u_{t}\n",
      "+h\\big(\n",
      "- \\frac{u1_{t} - u_{tt}}{2}\n",
      "\\big)\n",
      "+h^2\\big(\n",
      "- \\frac{3 u1_{tt} - 2 u_{ttt}}{12}\n",
      "\\big)\n",
      "+h^3\\big(\n",
      "- \\frac{2 u1_{ttt} - u_{tttt}}{24}\n",
      "\\big)\n"
     ]
    }
   ],
   "source": [
    "F1 = clip((T(u, 1)-T(u, 0))/h - T(r[0], 0))\n",
    "prn(F1, eps)\n",
    "prnlatex(F1, eps)"
   ]
  },
  {
   "cell_type": "code",
   "execution_count": 24,
   "id": "57772720",
   "metadata": {
    "collapsed": true
   },
   "outputs": [
    {
     "name": "stdout",
     "output_type": "stream",
     "text": [
      "h^0 =>\n"
     ]
    },
    {
     "data": {
      "text/latex": [
       "$\\displaystyle \\varepsilon \\left(- u + u_{1}\\right) + u1_{t} + \\frac{u + u_{1}}{\\varepsilon}$"
      ],
      "text/plain": [
       "\\varepsilon*(-u + u1) + u1_{t} + (u + u1)/\\varepsilon"
      ]
     },
     "metadata": {},
     "output_type": "display_data"
    },
    {
     "name": "stdout",
     "output_type": "stream",
     "text": [
      "h^1 =>\n"
     ]
    },
    {
     "data": {
      "text/latex": [
       "$\\displaystyle \\frac{\\varepsilon \\left(u1_{t} - u_{t}\\right)}{2} + \\frac{u1_{tt}}{2} + \\frac{u1_{t} + u_{t}}{2 \\varepsilon}$"
      ],
      "text/plain": [
       "\\varepsilon*(u1_{t} - u_{t})/2 + u1_{tt}/2 + (u1_{t} + u_{t})/(2*\\varepsilon)"
      ]
     },
     "metadata": {},
     "output_type": "display_data"
    },
    {
     "name": "stdout",
     "output_type": "stream",
     "text": [
      "h^2 =>\n"
     ]
    },
    {
     "data": {
      "text/latex": [
       "$\\displaystyle \\frac{\\varepsilon \\left(u1_{tt} - u_{tt}\\right)}{4} + \\frac{u1_{ttt}}{6} + \\frac{u1_{tt} + u_{tt}}{4 \\varepsilon}$"
      ],
      "text/plain": [
       "\\varepsilon*(u1_{tt} - u_{tt})/4 + u1_{ttt}/6 + (u1_{tt} + u_{tt})/(4*\\varepsilon)"
      ]
     },
     "metadata": {},
     "output_type": "display_data"
    },
    {
     "name": "stdout",
     "output_type": "stream",
     "text": [
      "h^3 =>\n"
     ]
    },
    {
     "data": {
      "text/latex": [
       "$\\displaystyle \\frac{\\varepsilon \\left(u1_{ttt} - u_{ttt}\\right)}{12} + \\frac{u1_{tttt}}{24} + \\frac{u1_{ttt} + u_{ttt}}{12 \\varepsilon}$"
      ],
      "text/plain": [
       "\\varepsilon*(u1_{ttt} - u_{ttt})/12 + u1_{tttt}/24 + (u1_{ttt} + u_{ttt})/(12*\\varepsilon)"
      ]
     },
     "metadata": {},
     "output_type": "display_data"
    },
    {
     "name": "stdout",
     "output_type": "stream",
     "text": [
      "\\varepsilon \\left(- u + u_{1}\\right) + u1_{t} + \\frac{u + u_{1}}{\\varepsilon}\n",
      "+h\\big(\n",
      "\\frac{\\varepsilon \\left(u1_{t} - u_{t}\\right)}{2} + \\frac{u1_{tt}}{2} + \\frac{u1_{t} + u_{t}}{2 \\varepsilon}\n",
      "\\big)\n",
      "+h^2\\big(\n",
      "\\frac{\\varepsilon \\left(u1_{tt} - u_{tt}\\right)}{4} + \\frac{u1_{ttt}}{6} + \\frac{u1_{tt} + u_{tt}}{4 \\varepsilon}\n",
      "\\big)\n",
      "+h^3\\big(\n",
      "\\frac{\\varepsilon \\left(u1_{ttt} - u_{ttt}\\right)}{12} + \\frac{u1_{tttt}}{24} + \\frac{u1_{ttt} + u_{ttt}}{12 \\varepsilon}\n",
      "\\big)\n"
     ]
    }
   ],
   "source": [
    "F2 = clip((T(u1, 1)-T(u1, 0))/h - T(r[1], 0))\n",
    "prn(F2, eps)\n",
    "prnlatex(F2, eps)"
   ]
  },
  {
   "cell_type": "code",
   "execution_count": 25,
   "id": "d80a1e5e",
   "metadata": {
    "collapsed": true
   },
   "outputs": [
    {
     "name": "stdout",
     "output_type": "stream",
     "text": [
      "h^0 =>\n"
     ]
    },
    {
     "data": {
      "text/latex": [
       "$\\displaystyle - u_{1} + u_{t}$"
      ],
      "text/plain": [
       "-u1 + u_{t}"
      ]
     },
     "metadata": {},
     "output_type": "display_data"
    },
    {
     "name": "stdout",
     "output_type": "stream",
     "text": [
      "h^1 =>\n"
     ]
    },
    {
     "data": {
      "text/latex": [
       "$\\displaystyle 0$"
      ],
      "text/plain": [
       "0"
      ]
     },
     "metadata": {},
     "output_type": "display_data"
    },
    {
     "name": "stdout",
     "output_type": "stream",
     "text": [
      "h^2 =>\n"
     ]
    },
    {
     "data": {
      "text/latex": [
       "$\\displaystyle \\frac{\\varepsilon^{2} \\left(u - u_{1}\\right)}{12} - \\frac{\\varepsilon u_{1}}{12} - \\frac{u_{1}}{6} + \\frac{u_{1}}{12 \\varepsilon} - \\frac{u + u_{1}}{12 \\varepsilon^{2}}$"
      ],
      "text/plain": [
       "\\varepsilon**2*(u - u1)/12 - \\varepsilon*u1/12 - u1/6 + u1/(12*\\varepsilon) - (u + u1)/(12*\\varepsilon**2)"
      ]
     },
     "metadata": {},
     "output_type": "display_data"
    },
    {
     "name": "stdout",
     "output_type": "stream",
     "text": [
      "h^3 =>\n"
     ]
    },
    {
     "data": {
      "text/latex": [
       "$\\displaystyle 0$"
      ],
      "text/plain": [
       "0"
      ]
     },
     "metadata": {},
     "output_type": "display_data"
    },
    {
     "name": "stdout",
     "output_type": "stream",
     "text": [
      "- u_{1} + u_{t}\n",
      "+h\\big(\n",
      "0\n",
      "\\big)\n",
      "+h^2\\big(\n",
      "\\frac{\\varepsilon^{2} \\left(u - u_{1}\\right)}{12} - \\frac{\\varepsilon u_{1}}{12} - \\frac{u_{1}}{6} + \\frac{u_{1}}{12 \\varepsilon} - \\frac{u + u_{1}}{12 \\varepsilon^{2}}\n",
      "\\big)\n",
      "+h^3\\big(\n",
      "0\n",
      "\\big)\n"
     ]
    }
   ],
   "source": [
    "f1 = NF(F1, [u.diff(t), u1.diff(t)], [F1, F2], head=False)\n",
    "prn(f1, eps)\n",
    "prnlatex(f1, eps)"
   ]
  },
  {
   "cell_type": "code",
   "execution_count": 26,
   "id": "0fdacb32",
   "metadata": {
    "collapsed": true
   },
   "outputs": [
    {
     "name": "stdout",
     "output_type": "stream",
     "text": [
      "h^0 =>\n"
     ]
    },
    {
     "data": {
      "text/latex": [
       "$\\displaystyle \\varepsilon \\left(- u + u_{1}\\right) + u1_{t} + \\frac{u + u_{1}}{\\varepsilon}$"
      ],
      "text/plain": [
       "\\varepsilon*(-u + u1) + u1_{t} + (u + u1)/\\varepsilon"
      ]
     },
     "metadata": {},
     "output_type": "display_data"
    },
    {
     "name": "stdout",
     "output_type": "stream",
     "text": [
      "h^1 =>\n"
     ]
    },
    {
     "data": {
      "text/latex": [
       "$\\displaystyle 0$"
      ],
      "text/plain": [
       "0"
      ]
     },
     "metadata": {},
     "output_type": "display_data"
    },
    {
     "name": "stdout",
     "output_type": "stream",
     "text": [
      "h^2 =>\n"
     ]
    },
    {
     "data": {
      "text/latex": [
       "$\\displaystyle - \\frac{\\varepsilon^{3} \\left(u - u_{1}\\right)}{12} - \\frac{\\varepsilon^{2} \\left(u - 2 u_{1}\\right)}{12} - \\frac{\\varepsilon \\left(u - 3 u_{1}\\right)}{12} + \\frac{u}{6} + \\frac{u + 3 u_{1}}{12 \\varepsilon} - \\frac{u + 2 u_{1}}{12 \\varepsilon^{2}} + \\frac{u + u_{1}}{12 \\varepsilon^{3}}$"
      ],
      "text/plain": [
       "-\\varepsilon**3*(u - u1)/12 - \\varepsilon**2*(u - 2*u1)/12 - \\varepsilon*(u - 3*u1)/12 + u/6 + (u + 3*u1)/(12*\\varepsilon) - (u + 2*u1)/(12*\\varepsilon**2) + (u + u1)/(12*\\varepsilon**3)"
      ]
     },
     "metadata": {},
     "output_type": "display_data"
    },
    {
     "name": "stdout",
     "output_type": "stream",
     "text": [
      "h^3 =>\n"
     ]
    },
    {
     "data": {
      "text/latex": [
       "$\\displaystyle 0$"
      ],
      "text/plain": [
       "0"
      ]
     },
     "metadata": {},
     "output_type": "display_data"
    },
    {
     "name": "stdout",
     "output_type": "stream",
     "text": [
      "\\varepsilon \\left(- u + u_{1}\\right) + u1_{t} + \\frac{u + u_{1}}{\\varepsilon}\n",
      "+h\\big(\n",
      "0\n",
      "\\big)\n",
      "+h^2\\big(\n",
      "- \\frac{\\varepsilon^{3} \\left(u - u_{1}\\right)}{12} - \\frac{\\varepsilon^{2} \\left(u - 2 u_{1}\\right)}{12} - \\frac{\\varepsilon \\left(u - 3 u_{1}\\right)}{12} + \\frac{u}{6} + \\frac{u + 3 u_{1}}{12 \\varepsilon} - \\frac{u + 2 u_{1}}{12 \\varepsilon^{2}} + \\frac{u + u_{1}}{12 \\varepsilon^{3}}\n",
      "\\big)\n",
      "+h^3\\big(\n",
      "0\n",
      "\\big)\n"
     ]
    }
   ],
   "source": [
    "f2 = NF(F2, [u.diff(t), u1.diff(t)], [F1, F2], head=False)\n",
    "prn(f2, eps)\n",
    "prnlatex(f2, eps)"
   ]
  },
  {
   "cell_type": "markdown",
   "id": "82ae1004",
   "metadata": {},
   "source": [
    "## \"original\" Runge–Kutta method"
   ]
  },
  {
   "cell_type": "code",
   "execution_count": 27,
   "id": "5c9e39e9",
   "metadata": {
    "collapsed": true
   },
   "outputs": [],
   "source": [
    "set_clip(7, 6, Rational(0, 1))\n",
    "r = RungeKutta4(f, Matrix([u, u1]))"
   ]
  },
  {
   "cell_type": "code",
   "execution_count": 28,
   "id": "bafc4296",
   "metadata": {
    "collapsed": true
   },
   "outputs": [
    {
     "name": "stdout",
     "output_type": "stream",
     "text": [
      "h^0 =>\n"
     ]
    },
    {
     "data": {
      "text/latex": [
       "$\\displaystyle - u_{1} + u_{t}$"
      ],
      "text/plain": [
       "-u1 + u_{t}"
      ]
     },
     "metadata": {},
     "output_type": "display_data"
    },
    {
     "name": "stdout",
     "output_type": "stream",
     "text": [
      "h^1 =>\n"
     ]
    },
    {
     "data": {
      "text/latex": [
       "$\\displaystyle - \\frac{\\varepsilon \\left(u - u_{1}\\right)}{2} + \\frac{u_{tt}}{2} + \\frac{u + u_{1}}{2 \\varepsilon}$"
      ],
      "text/plain": [
       "-\\varepsilon*(u - u1)/2 + u_{tt}/2 + (u + u1)/(2*\\varepsilon)"
      ]
     },
     "metadata": {},
     "output_type": "display_data"
    },
    {
     "name": "stdout",
     "output_type": "stream",
     "text": [
      "h^2 =>\n"
     ]
    },
    {
     "data": {
      "text/latex": [
       "$\\displaystyle \\frac{\\varepsilon^{2} \\left(u - u_{1}\\right)}{6} - \\frac{\\varepsilon u_{1}}{6} - \\frac{2 u_{1} - u_{ttt}}{6} + \\frac{u_{1}}{6 \\varepsilon} - \\frac{u + u_{1}}{6 \\varepsilon^{2}}$"
      ],
      "text/plain": [
       "\\varepsilon**2*(u - u1)/6 - \\varepsilon*u1/6 - (2*u1 - u_{ttt})/6 + u1/(6*\\varepsilon) - (u + u1)/(6*\\varepsilon**2)"
      ]
     },
     "metadata": {},
     "output_type": "display_data"
    },
    {
     "name": "stdout",
     "output_type": "stream",
     "text": [
      "h^3 =>\n"
     ]
    },
    {
     "data": {
      "text/latex": [
       "$\\displaystyle - \\frac{\\varepsilon^{3} \\left(u - u_{1}\\right)}{24} - \\frac{\\varepsilon^{2} \\left(u - 2 u_{1}\\right)}{24} - \\frac{\\varepsilon \\left(u - 3 u_{1}\\right)}{24} + \\frac{2 u + u_{tttt}}{24} + \\frac{u + 3 u_{1}}{24 \\varepsilon} - \\frac{u + 2 u_{1}}{24 \\varepsilon^{2}} + \\frac{u + u_{1}}{24 \\varepsilon^{3}}$"
      ],
      "text/plain": [
       "-\\varepsilon**3*(u - u1)/24 - \\varepsilon**2*(u - 2*u1)/24 - \\varepsilon*(u - 3*u1)/24 + (2*u + u_{tttt})/24 + (u + 3*u1)/(24*\\varepsilon) - (u + 2*u1)/(24*\\varepsilon**2) + (u + u1)/(24*\\varepsilon**3)"
      ]
     },
     "metadata": {},
     "output_type": "display_data"
    },
    {
     "name": "stdout",
     "output_type": "stream",
     "text": [
      "h^4 =>\n"
     ]
    },
    {
     "data": {
      "text/latex": [
       "$\\displaystyle \\frac{u_{ttttt}}{120}$"
      ],
      "text/plain": [
       "u_{ttttt}/120"
      ]
     },
     "metadata": {},
     "output_type": "display_data"
    },
    {
     "name": "stdout",
     "output_type": "stream",
     "text": [
      "h^5 =>\n"
     ]
    },
    {
     "data": {
      "text/latex": [
       "$\\displaystyle \\frac{u_{tttttt}}{720}$"
      ],
      "text/plain": [
       "u_{tttttt}/720"
      ]
     },
     "metadata": {},
     "output_type": "display_data"
    },
    {
     "name": "stdout",
     "output_type": "stream",
     "text": [
      "- u_{1} + u_{t}\n",
      "+h\\big(\n",
      "- \\frac{\\varepsilon \\left(u - u_{1}\\right)}{2} + \\frac{u_{tt}}{2} + \\frac{u + u_{1}}{2 \\varepsilon}\n",
      "\\big)\n",
      "+h^2\\big(\n",
      "\\frac{\\varepsilon^{2} \\left(u - u_{1}\\right)}{6} - \\frac{\\varepsilon u_{1}}{6} - \\frac{2 u_{1} - u_{ttt}}{6} + \\frac{u_{1}}{6 \\varepsilon} - \\frac{u + u_{1}}{6 \\varepsilon^{2}}\n",
      "\\big)\n",
      "+h^3\\big(\n",
      "- \\frac{\\varepsilon^{3} \\left(u - u_{1}\\right)}{24} - \\frac{\\varepsilon^{2} \\left(u - 2 u_{1}\\right)}{24} - \\frac{\\varepsilon \\left(u - 3 u_{1}\\right)}{24} + \\frac{2 u + u_{tttt}}{24} + \\frac{u + 3 u_{1}}{24 \\varepsilon} - \\frac{u + 2 u_{1}}{24 \\varepsilon^{2}} + \\frac{u + u_{1}}{24 \\varepsilon^{3}}\n",
      "\\big)\n",
      "+h^4\\big(\n",
      "\\frac{u_{ttttt}}{120}\n",
      "\\big)\n",
      "+h^5\\big(\n",
      "\\frac{u_{tttttt}}{720}\n",
      "\\big)\n"
     ]
    }
   ],
   "source": [
    "F1 = clip((T(u, 1)-T(u, 0))/h - T(r[0], 0))\n",
    "prn(F1, eps)\n",
    "prnlatex(F1, eps)"
   ]
  },
  {
   "cell_type": "code",
   "execution_count": 29,
   "id": "9ca26f3d",
   "metadata": {
    "collapsed": true
   },
   "outputs": [
    {
     "name": "stdout",
     "output_type": "stream",
     "text": [
      "h^0 =>\n"
     ]
    },
    {
     "data": {
      "text/latex": [
       "$\\displaystyle \\varepsilon \\left(- u + u_{1}\\right) + u1_{t} + \\frac{u + u_{1}}{\\varepsilon}$"
      ],
      "text/plain": [
       "\\varepsilon*(-u + u1) + u1_{t} + (u + u1)/\\varepsilon"
      ]
     },
     "metadata": {},
     "output_type": "display_data"
    },
    {
     "name": "stdout",
     "output_type": "stream",
     "text": [
      "h^1 =>\n"
     ]
    },
    {
     "data": {
      "text/latex": [
       "$\\displaystyle \\frac{\\varepsilon^{2} \\left(u - u_{1}\\right)}{2} - \\frac{\\varepsilon u_{1}}{2} - \\frac{2 u_{1} - u1_{tt}}{2} + \\frac{u_{1}}{2 \\varepsilon} - \\frac{u + u_{1}}{2 \\varepsilon^{2}}$"
      ],
      "text/plain": [
       "\\varepsilon**2*(u - u1)/2 - \\varepsilon*u1/2 - (2*u1 - u1_{tt})/2 + u1/(2*\\varepsilon) - (u + u1)/(2*\\varepsilon**2)"
      ]
     },
     "metadata": {},
     "output_type": "display_data"
    },
    {
     "name": "stdout",
     "output_type": "stream",
     "text": [
      "h^2 =>\n"
     ]
    },
    {
     "data": {
      "text/latex": [
       "$\\displaystyle - \\frac{\\varepsilon^{3} \\left(u - u_{1}\\right)}{6} - \\frac{\\varepsilon^{2} \\left(u - 2 u_{1}\\right)}{6} - \\frac{\\varepsilon \\left(u - 3 u_{1}\\right)}{6} + \\frac{2 u + u1_{ttt}}{6} + \\frac{u + 3 u_{1}}{6 \\varepsilon} - \\frac{u + 2 u_{1}}{6 \\varepsilon^{2}} + \\frac{u + u_{1}}{6 \\varepsilon^{3}}$"
      ],
      "text/plain": [
       "-\\varepsilon**3*(u - u1)/6 - \\varepsilon**2*(u - 2*u1)/6 - \\varepsilon*(u - 3*u1)/6 + (2*u + u1_{ttt})/6 + (u + 3*u1)/(6*\\varepsilon) - (u + 2*u1)/(6*\\varepsilon**2) + (u + u1)/(6*\\varepsilon**3)"
      ]
     },
     "metadata": {},
     "output_type": "display_data"
    },
    {
     "name": "stdout",
     "output_type": "stream",
     "text": [
      "h^3 =>\n"
     ]
    },
    {
     "data": {
      "text/latex": [
       "$\\displaystyle \\frac{\\varepsilon^{4} \\left(u - u_{1}\\right)}{24} + \\frac{\\varepsilon^{3} \\cdot \\left(2 u - 3 u_{1}\\right)}{24} + \\frac{\\varepsilon^{2} \\cdot \\left(2 u - 5 u_{1}\\right)}{24} - \\frac{\\varepsilon \\left(2 u + 3 u_{1}\\right)}{24} - \\frac{4 u_{1} - u1_{tttt}}{24} - \\frac{2 u - 3 u_{1}}{24 \\varepsilon} - \\frac{2 u + 5 u_{1}}{24 \\varepsilon^{2}} + \\frac{2 u + 3 u_{1}}{24 \\varepsilon^{3}} - \\frac{u + u_{1}}{24 \\varepsilon^{4}}$"
      ],
      "text/plain": [
       "\\varepsilon**4*(u - u1)/24 + \\varepsilon**3*(2*u - 3*u1)/24 + \\varepsilon**2*(2*u - 5*u1)/24 - \\varepsilon*(2*u + 3*u1)/24 - (4*u1 - u1_{tttt})/24 - (2*u - 3*u1)/(24*\\varepsilon) - (2*u + 5*u1)/(24*\\varepsilon**2) + (2*u + 3*u1)/(24*\\varepsilon**3) - (u + u1)/(24*\\varepsilon**4)"
      ]
     },
     "metadata": {},
     "output_type": "display_data"
    },
    {
     "name": "stdout",
     "output_type": "stream",
     "text": [
      "h^4 =>\n"
     ]
    },
    {
     "data": {
      "text/latex": [
       "$\\displaystyle \\frac{u1_{ttttt}}{120}$"
      ],
      "text/plain": [
       "u1_{ttttt}/120"
      ]
     },
     "metadata": {},
     "output_type": "display_data"
    },
    {
     "name": "stdout",
     "output_type": "stream",
     "text": [
      "h^5 =>\n"
     ]
    },
    {
     "data": {
      "text/latex": [
       "$\\displaystyle \\frac{u1_{tttttt}}{720}$"
      ],
      "text/plain": [
       "u1_{tttttt}/720"
      ]
     },
     "metadata": {},
     "output_type": "display_data"
    },
    {
     "name": "stdout",
     "output_type": "stream",
     "text": [
      "\\varepsilon \\left(- u + u_{1}\\right) + u1_{t} + \\frac{u + u_{1}}{\\varepsilon}\n",
      "+h\\big(\n",
      "\\frac{\\varepsilon^{2} \\left(u - u_{1}\\right)}{2} - \\frac{\\varepsilon u_{1}}{2} - \\frac{2 u_{1} - u1_{tt}}{2} + \\frac{u_{1}}{2 \\varepsilon} - \\frac{u + u_{1}}{2 \\varepsilon^{2}}\n",
      "\\big)\n",
      "+h^2\\big(\n",
      "- \\frac{\\varepsilon^{3} \\left(u - u_{1}\\right)}{6} - \\frac{\\varepsilon^{2} \\left(u - 2 u_{1}\\right)}{6} - \\frac{\\varepsilon \\left(u - 3 u_{1}\\right)}{6} + \\frac{2 u + u1_{ttt}}{6} + \\frac{u + 3 u_{1}}{6 \\varepsilon} - \\frac{u + 2 u_{1}}{6 \\varepsilon^{2}} + \\frac{u + u_{1}}{6 \\varepsilon^{3}}\n",
      "\\big)\n",
      "+h^3\\big(\n",
      "\\frac{\\varepsilon^{4} \\left(u - u_{1}\\right)}{24} + \\frac{\\varepsilon^{3} \\cdot \\left(2 u - 3 u_{1}\\right)}{24} + \\frac{\\varepsilon^{2} \\cdot \\left(2 u - 5 u_{1}\\right)}{24} - \\frac{\\varepsilon \\left(2 u + 3 u_{1}\\right)}{24} - \\frac{4 u_{1} - u1_{tttt}}{24} - \\frac{2 u - 3 u_{1}}{24 \\varepsilon} - \\frac{2 u + 5 u_{1}}{24 \\varepsilon^{2}} + \\frac{2 u + 3 u_{1}}{24 \\varepsilon^{3}} - \\frac{u + u_{1}}{24 \\varepsilon^{4}}\n",
      "\\big)\n",
      "+h^4\\big(\n",
      "\\frac{u1_{ttttt}}{120}\n",
      "\\big)\n",
      "+h^5\\big(\n",
      "\\frac{u1_{tttttt}}{720}\n",
      "\\big)\n"
     ]
    }
   ],
   "source": [
    "F2 = clip((T(u1, 1)-T(u1, 0))/h - T(r[1], 0))\n",
    "prn(F2, eps)\n",
    "prnlatex(F2, eps)"
   ]
  },
  {
   "cell_type": "code",
   "execution_count": 30,
   "id": "4a6785a8",
   "metadata": {
    "collapsed": true
   },
   "outputs": [
    {
     "name": "stdout",
     "output_type": "stream",
     "text": [
      "h^0 =>\n"
     ]
    },
    {
     "data": {
      "text/latex": [
       "$\\displaystyle - u_{1} + u_{t}$"
      ],
      "text/plain": [
       "-u1 + u_{t}"
      ]
     },
     "metadata": {},
     "output_type": "display_data"
    },
    {
     "name": "stdout",
     "output_type": "stream",
     "text": [
      "h^1 =>\n"
     ]
    },
    {
     "data": {
      "text/latex": [
       "$\\displaystyle 0$"
      ],
      "text/plain": [
       "0"
      ]
     },
     "metadata": {},
     "output_type": "display_data"
    },
    {
     "name": "stdout",
     "output_type": "stream",
     "text": [
      "h^2 =>\n"
     ]
    },
    {
     "data": {
      "text/latex": [
       "$\\displaystyle 0$"
      ],
      "text/plain": [
       "0"
      ]
     },
     "metadata": {},
     "output_type": "display_data"
    },
    {
     "name": "stdout",
     "output_type": "stream",
     "text": [
      "h^3 =>\n"
     ]
    },
    {
     "data": {
      "text/latex": [
       "$\\displaystyle 0$"
      ],
      "text/plain": [
       "0"
      ]
     },
     "metadata": {},
     "output_type": "display_data"
    },
    {
     "name": "stdout",
     "output_type": "stream",
     "text": [
      "h^4 =>\n"
     ]
    },
    {
     "data": {
      "text/latex": [
       "$\\displaystyle - \\frac{\\varepsilon^{4} \\left(u - u_{1}\\right)}{120} - \\frac{\\varepsilon^{3} \\cdot \\left(2 u - 3 u_{1}\\right)}{120} - \\frac{\\varepsilon^{2} \\cdot \\left(2 u - 5 u_{1}\\right)}{120} + \\frac{\\varepsilon \\left(2 u + 3 u_{1}\\right)}{120} + \\frac{u_{1}}{30} + \\frac{2 u - 3 u_{1}}{120 \\varepsilon} + \\frac{2 u + 5 u_{1}}{120 \\varepsilon^{2}} - \\frac{2 u + 3 u_{1}}{120 \\varepsilon^{3}} + \\frac{u + u_{1}}{120 \\varepsilon^{4}}$"
      ],
      "text/plain": [
       "-\\varepsilon**4*(u - u1)/120 - \\varepsilon**3*(2*u - 3*u1)/120 - \\varepsilon**2*(2*u - 5*u1)/120 + \\varepsilon*(2*u + 3*u1)/120 + u1/30 + (2*u - 3*u1)/(120*\\varepsilon) + (2*u + 5*u1)/(120*\\varepsilon**2) - (2*u + 3*u1)/(120*\\varepsilon**3) + (u + u1)/(120*\\varepsilon**4)"
      ]
     },
     "metadata": {},
     "output_type": "display_data"
    },
    {
     "name": "stdout",
     "output_type": "stream",
     "text": [
      "h^5 =>\n"
     ]
    },
    {
     "data": {
      "text/latex": [
       "$\\displaystyle - \\frac{\\varepsilon^{5} \\left(u - u_{1}\\right)}{144} - \\frac{\\varepsilon^{4} \\cdot \\left(3 u - 4 u_{1}\\right)}{144} - \\frac{\\varepsilon^{3} \\left(u - 2 u_{1}\\right)}{36} + \\frac{\\varepsilon^{2} u_{1}}{18} + \\frac{\\varepsilon \\left(u + 7 u_{1}\\right)}{144} + \\frac{u}{24} - \\frac{u - 7 u_{1}}{144 \\varepsilon} - \\frac{u_{1}}{18 \\varepsilon^{2}} + \\frac{u + 2 u_{1}}{36 \\varepsilon^{3}} - \\frac{3 u + 4 u_{1}}{144 \\varepsilon^{4}} + \\frac{u + u_{1}}{144 \\varepsilon^{5}}$"
      ],
      "text/plain": [
       "-\\varepsilon**5*(u - u1)/144 - \\varepsilon**4*(3*u - 4*u1)/144 - \\varepsilon**3*(u - 2*u1)/36 + \\varepsilon**2*u1/18 + \\varepsilon*(u + 7*u1)/144 + u/24 - (u - 7*u1)/(144*\\varepsilon) - u1/(18*\\varepsilon**2) + (u + 2*u1)/(36*\\varepsilon**3) - (3*u + 4*u1)/(144*\\varepsilon**4) + (u + u1)/(144*\\varepsilon**5)"
      ]
     },
     "metadata": {},
     "output_type": "display_data"
    },
    {
     "name": "stdout",
     "output_type": "stream",
     "text": [
      "- u_{1} + u_{t}\n",
      "+h\\big(\n",
      "0\n",
      "\\big)\n",
      "+h^2\\big(\n",
      "0\n",
      "\\big)\n",
      "+h^3\\big(\n",
      "0\n",
      "\\big)\n",
      "+h^4\\big(\n",
      "- \\frac{\\varepsilon^{4} \\left(u - u_{1}\\right)}{120} - \\frac{\\varepsilon^{3} \\cdot \\left(2 u - 3 u_{1}\\right)}{120} - \\frac{\\varepsilon^{2} \\cdot \\left(2 u - 5 u_{1}\\right)}{120} + \\frac{\\varepsilon \\left(2 u + 3 u_{1}\\right)}{120} + \\frac{u_{1}}{30} + \\frac{2 u - 3 u_{1}}{120 \\varepsilon} + \\frac{2 u + 5 u_{1}}{120 \\varepsilon^{2}} - \\frac{2 u + 3 u_{1}}{120 \\varepsilon^{3}} + \\frac{u + u_{1}}{120 \\varepsilon^{4}}\n",
      "\\big)\n",
      "+h^5\\big(\n",
      "- \\frac{\\varepsilon^{5} \\left(u - u_{1}\\right)}{144} - \\frac{\\varepsilon^{4} \\cdot \\left(3 u - 4 u_{1}\\right)}{144} - \\frac{\\varepsilon^{3} \\left(u - 2 u_{1}\\right)}{36} + \\frac{\\varepsilon^{2} u_{1}}{18} + \\frac{\\varepsilon \\left(u + 7 u_{1}\\right)}{144} + \\frac{u}{24} - \\frac{u - 7 u_{1}}{144 \\varepsilon} - \\frac{u_{1}}{18 \\varepsilon^{2}} + \\frac{u + 2 u_{1}}{36 \\varepsilon^{3}} - \\frac{3 u + 4 u_{1}}{144 \\varepsilon^{4}} + \\frac{u + u_{1}}{144 \\varepsilon^{5}}\n",
      "\\big)\n"
     ]
    }
   ],
   "source": [
    "f1 = NF(F1, [u.diff(t), u1.diff(t)], [F1, F2], head=False)\n",
    "prn(f1, eps)\n",
    "prnlatex(f1, eps)"
   ]
  },
  {
   "cell_type": "code",
   "execution_count": 31,
   "id": "298e63bb",
   "metadata": {
    "collapsed": true
   },
   "outputs": [
    {
     "name": "stdout",
     "output_type": "stream",
     "text": [
      "h^0 =>\n"
     ]
    },
    {
     "data": {
      "text/latex": [
       "$\\displaystyle \\varepsilon \\left(- u + u_{1}\\right) + u1_{t} + \\frac{u + u_{1}}{\\varepsilon}$"
      ],
      "text/plain": [
       "\\varepsilon*(-u + u1) + u1_{t} + (u + u1)/\\varepsilon"
      ]
     },
     "metadata": {},
     "output_type": "display_data"
    },
    {
     "name": "stdout",
     "output_type": "stream",
     "text": [
      "h^1 =>\n"
     ]
    },
    {
     "data": {
      "text/latex": [
       "$\\displaystyle 0$"
      ],
      "text/plain": [
       "0"
      ]
     },
     "metadata": {},
     "output_type": "display_data"
    },
    {
     "name": "stdout",
     "output_type": "stream",
     "text": [
      "h^2 =>\n"
     ]
    },
    {
     "data": {
      "text/latex": [
       "$\\displaystyle 0$"
      ],
      "text/plain": [
       "0"
      ]
     },
     "metadata": {},
     "output_type": "display_data"
    },
    {
     "name": "stdout",
     "output_type": "stream",
     "text": [
      "h^3 =>\n"
     ]
    },
    {
     "data": {
      "text/latex": [
       "$\\displaystyle 0$"
      ],
      "text/plain": [
       "0"
      ]
     },
     "metadata": {},
     "output_type": "display_data"
    },
    {
     "name": "stdout",
     "output_type": "stream",
     "text": [
      "h^4 =>\n"
     ]
    },
    {
     "data": {
      "text/latex": [
       "$\\displaystyle \\frac{\\varepsilon^{5} \\left(u - u_{1}\\right)}{120} + \\frac{\\varepsilon^{4} \\cdot \\left(3 u - 4 u_{1}\\right)}{120} + \\frac{\\varepsilon^{3} \\left(u - 2 u_{1}\\right)}{30} - \\frac{\\varepsilon^{2} u_{1}}{15} - \\frac{\\varepsilon \\left(u + 7 u_{1}\\right)}{120} - \\frac{u}{20} + \\frac{u - 7 u_{1}}{120 \\varepsilon} + \\frac{u_{1}}{15 \\varepsilon^{2}} - \\frac{u + 2 u_{1}}{30 \\varepsilon^{3}} + \\frac{3 u + 4 u_{1}}{120 \\varepsilon^{4}} - \\frac{u + u_{1}}{120 \\varepsilon^{5}}$"
      ],
      "text/plain": [
       "\\varepsilon**5*(u - u1)/120 + \\varepsilon**4*(3*u - 4*u1)/120 + \\varepsilon**3*(u - 2*u1)/30 - \\varepsilon**2*u1/15 - \\varepsilon*(u + 7*u1)/120 - u/20 + (u - 7*u1)/(120*\\varepsilon) + u1/(15*\\varepsilon**2) - (u + 2*u1)/(30*\\varepsilon**3) + (3*u + 4*u1)/(120*\\varepsilon**4) - (u + u1)/(120*\\varepsilon**5)"
      ]
     },
     "metadata": {},
     "output_type": "display_data"
    },
    {
     "name": "stdout",
     "output_type": "stream",
     "text": [
      "h^5 =>\n"
     ]
    },
    {
     "data": {
      "text/latex": [
       "$\\displaystyle \\frac{\\varepsilon^{6} \\left(u - u_{1}\\right)}{144} + \\frac{\\varepsilon^{5} \\cdot \\left(4 u - 5 u_{1}\\right)}{144} + \\frac{\\varepsilon^{4} \\cdot \\left(7 u - 12 u_{1}\\right)}{144} + \\frac{\\varepsilon^{3} \\left(u - 4 u_{1}\\right)}{36} - \\frac{\\varepsilon^{2} \\left(u + 15 u_{1}\\right)}{144} - \\frac{\\varepsilon \\left(8 u + 7 u_{1}\\right)}{144} - \\frac{u_{1}}{18} - \\frac{8 u - 7 u_{1}}{144 \\varepsilon} + \\frac{u - 15 u_{1}}{144 \\varepsilon^{2}} + \\frac{u + 4 u_{1}}{36 \\varepsilon^{3}} - \\frac{7 u + 12 u_{1}}{144 \\varepsilon^{4}} + \\frac{4 u + 5 u_{1}}{144 \\varepsilon^{5}} - \\frac{u + u_{1}}{144 \\varepsilon^{6}}$"
      ],
      "text/plain": [
       "\\varepsilon**6*(u - u1)/144 + \\varepsilon**5*(4*u - 5*u1)/144 + \\varepsilon**4*(7*u - 12*u1)/144 + \\varepsilon**3*(u - 4*u1)/36 - \\varepsilon**2*(u + 15*u1)/144 - \\varepsilon*(8*u + 7*u1)/144 - u1/18 - (8*u - 7*u1)/(144*\\varepsilon) + (u - 15*u1)/(144*\\varepsilon**2) + (u + 4*u1)/(36*\\varepsilon**3) - (7*u + 12*u1)/(144*\\varepsilon**4) + (4*u + 5*u1)/(144*\\varepsilon**5) - (u + u1)/(144*\\varepsilon**6)"
      ]
     },
     "metadata": {},
     "output_type": "display_data"
    },
    {
     "name": "stdout",
     "output_type": "stream",
     "text": [
      "\\varepsilon \\left(- u + u_{1}\\right) + u1_{t} + \\frac{u + u_{1}}{\\varepsilon}\n",
      "+h\\big(\n",
      "0\n",
      "\\big)\n",
      "+h^2\\big(\n",
      "0\n",
      "\\big)\n",
      "+h^3\\big(\n",
      "0\n",
      "\\big)\n",
      "+h^4\\big(\n",
      "\\frac{\\varepsilon^{5} \\left(u - u_{1}\\right)}{120} + \\frac{\\varepsilon^{4} \\cdot \\left(3 u - 4 u_{1}\\right)}{120} + \\frac{\\varepsilon^{3} \\left(u - 2 u_{1}\\right)}{30} - \\frac{\\varepsilon^{2} u_{1}}{15} - \\frac{\\varepsilon \\left(u + 7 u_{1}\\right)}{120} - \\frac{u}{20} + \\frac{u - 7 u_{1}}{120 \\varepsilon} + \\frac{u_{1}}{15 \\varepsilon^{2}} - \\frac{u + 2 u_{1}}{30 \\varepsilon^{3}} + \\frac{3 u + 4 u_{1}}{120 \\varepsilon^{4}} - \\frac{u + u_{1}}{120 \\varepsilon^{5}}\n",
      "\\big)\n",
      "+h^5\\big(\n",
      "\\frac{\\varepsilon^{6} \\left(u - u_{1}\\right)}{144} + \\frac{\\varepsilon^{5} \\cdot \\left(4 u - 5 u_{1}\\right)}{144} + \\frac{\\varepsilon^{4} \\cdot \\left(7 u - 12 u_{1}\\right)}{144} + \\frac{\\varepsilon^{3} \\left(u - 4 u_{1}\\right)}{36} - \\frac{\\varepsilon^{2} \\left(u + 15 u_{1}\\right)}{144} - \\frac{\\varepsilon \\left(8 u + 7 u_{1}\\right)}{144} - \\frac{u_{1}}{18} - \\frac{8 u - 7 u_{1}}{144 \\varepsilon} + \\frac{u - 15 u_{1}}{144 \\varepsilon^{2}} + \\frac{u + 4 u_{1}}{36 \\varepsilon^{3}} - \\frac{7 u + 12 u_{1}}{144 \\varepsilon^{4}} + \\frac{4 u + 5 u_{1}}{144 \\varepsilon^{5}} - \\frac{u + u_{1}}{144 \\varepsilon^{6}}\n",
      "\\big)\n"
     ]
    }
   ],
   "source": [
    "f2 = NF(F2, [u.diff(t), u1.diff(t)], [F1, F2], head=False)\n",
    "prn(f2, eps)\n",
    "prnlatex(f2, eps)"
   ]
  },
  {
   "cell_type": "markdown",
   "id": "4f142c49",
   "metadata": {},
   "source": [
    "## Dormand–Prince method 5 order"
   ]
  },
  {
   "cell_type": "code",
   "execution_count": 32,
   "id": "fa558185",
   "metadata": {
    "collapsed": true
   },
   "outputs": [],
   "source": [
    "set_clip(8, 7, Rational(0, 1))\n",
    "r = DormandPrince5(f, Matrix([u, u1]))"
   ]
  },
  {
   "cell_type": "code",
   "execution_count": 33,
   "id": "a40800de",
   "metadata": {
    "collapsed": true
   },
   "outputs": [
    {
     "name": "stdout",
     "output_type": "stream",
     "text": [
      "h^0 =>\n"
     ]
    },
    {
     "data": {
      "text/latex": [
       "$\\displaystyle - u_{1} + u_{t}$"
      ],
      "text/plain": [
       "-u1 + u_{t}"
      ]
     },
     "metadata": {},
     "output_type": "display_data"
    },
    {
     "name": "stdout",
     "output_type": "stream",
     "text": [
      "h^1 =>\n"
     ]
    },
    {
     "data": {
      "text/latex": [
       "$\\displaystyle - \\frac{\\varepsilon \\left(u - u_{1}\\right)}{2} + \\frac{u_{tt}}{2} + \\frac{u + u_{1}}{2 \\varepsilon}$"
      ],
      "text/plain": [
       "-\\varepsilon*(u - u1)/2 + u_{tt}/2 + (u + u1)/(2*\\varepsilon)"
      ]
     },
     "metadata": {},
     "output_type": "display_data"
    },
    {
     "name": "stdout",
     "output_type": "stream",
     "text": [
      "h^2 =>\n"
     ]
    },
    {
     "data": {
      "text/latex": [
       "$\\displaystyle \\frac{\\varepsilon^{2} \\left(u - u_{1}\\right)}{6} - \\frac{\\varepsilon u_{1}}{6} - \\frac{2 u_{1} - u_{ttt}}{6} + \\frac{u_{1}}{6 \\varepsilon} - \\frac{u + u_{1}}{6 \\varepsilon^{2}}$"
      ],
      "text/plain": [
       "\\varepsilon**2*(u - u1)/6 - \\varepsilon*u1/6 - (2*u1 - u_{ttt})/6 + u1/(6*\\varepsilon) - (u + u1)/(6*\\varepsilon**2)"
      ]
     },
     "metadata": {},
     "output_type": "display_data"
    },
    {
     "name": "stdout",
     "output_type": "stream",
     "text": [
      "h^3 =>\n"
     ]
    },
    {
     "data": {
      "text/latex": [
       "$\\displaystyle - \\frac{\\varepsilon^{3} \\left(u - u_{1}\\right)}{24} - \\frac{\\varepsilon^{2} \\left(u - 2 u_{1}\\right)}{24} - \\frac{\\varepsilon \\left(u - 3 u_{1}\\right)}{24} + \\frac{2 u + u_{tttt}}{24} + \\frac{u + 3 u_{1}}{24 \\varepsilon} - \\frac{u + 2 u_{1}}{24 \\varepsilon^{2}} + \\frac{u + u_{1}}{24 \\varepsilon^{3}}$"
      ],
      "text/plain": [
       "-\\varepsilon**3*(u - u1)/24 - \\varepsilon**2*(u - 2*u1)/24 - \\varepsilon*(u - 3*u1)/24 + (2*u + u_{tttt})/24 + (u + 3*u1)/(24*\\varepsilon) - (u + 2*u1)/(24*\\varepsilon**2) + (u + u1)/(24*\\varepsilon**3)"
      ]
     },
     "metadata": {},
     "output_type": "display_data"
    },
    {
     "name": "stdout",
     "output_type": "stream",
     "text": [
      "h^4 =>\n"
     ]
    },
    {
     "data": {
      "text/latex": [
       "$\\displaystyle \\frac{\\varepsilon^{4} \\left(u - u_{1}\\right)}{120} + \\frac{\\varepsilon^{3} \\cdot \\left(2 u - 3 u_{1}\\right)}{120} + \\frac{\\varepsilon^{2} \\cdot \\left(2 u - 5 u_{1}\\right)}{120} - \\frac{\\varepsilon \\left(2 u + 3 u_{1}\\right)}{120} - \\frac{4 u_{1} - u_{ttttt}}{120} - \\frac{2 u - 3 u_{1}}{120 \\varepsilon} - \\frac{2 u + 5 u_{1}}{120 \\varepsilon^{2}} + \\frac{2 u + 3 u_{1}}{120 \\varepsilon^{3}} - \\frac{u + u_{1}}{120 \\varepsilon^{4}}$"
      ],
      "text/plain": [
       "\\varepsilon**4*(u - u1)/120 + \\varepsilon**3*(2*u - 3*u1)/120 + \\varepsilon**2*(2*u - 5*u1)/120 - \\varepsilon*(2*u + 3*u1)/120 - (4*u1 - u_{ttttt})/120 - (2*u - 3*u1)/(120*\\varepsilon) - (2*u + 5*u1)/(120*\\varepsilon**2) + (2*u + 3*u1)/(120*\\varepsilon**3) - (u + u1)/(120*\\varepsilon**4)"
      ]
     },
     "metadata": {},
     "output_type": "display_data"
    },
    {
     "name": "stdout",
     "output_type": "stream",
     "text": [
      "h^5 =>\n"
     ]
    },
    {
     "data": {
      "text/latex": [
       "$\\displaystyle - \\frac{\\varepsilon^{5} \\left(u - u_{1}\\right)}{600} - \\frac{\\varepsilon^{4} \\cdot \\left(3 u - 4 u_{1}\\right)}{600} - \\frac{\\varepsilon^{3} \\left(u - 2 u_{1}\\right)}{150} + \\frac{\\varepsilon^{2} u_{1}}{75} + \\frac{\\varepsilon \\left(u + 7 u_{1}\\right)}{600} + \\frac{36 u + 5 u_{tttttt}}{3600} - \\frac{u - 7 u_{1}}{600 \\varepsilon} - \\frac{u_{1}}{75 \\varepsilon^{2}} + \\frac{u + 2 u_{1}}{150 \\varepsilon^{3}} - \\frac{3 u + 4 u_{1}}{600 \\varepsilon^{4}} + \\frac{u + u_{1}}{600 \\varepsilon^{5}}$"
      ],
      "text/plain": [
       "-\\varepsilon**5*(u - u1)/600 - \\varepsilon**4*(3*u - 4*u1)/600 - \\varepsilon**3*(u - 2*u1)/150 + \\varepsilon**2*u1/75 + \\varepsilon*(u + 7*u1)/600 + (36*u + 5*u_{tttttt})/3600 - (u - 7*u1)/(600*\\varepsilon) - u1/(75*\\varepsilon**2) + (u + 2*u1)/(150*\\varepsilon**3) - (3*u + 4*u1)/(600*\\varepsilon**4) + (u + u1)/(600*\\varepsilon**5)"
      ]
     },
     "metadata": {},
     "output_type": "display_data"
    },
    {
     "name": "stdout",
     "output_type": "stream",
     "text": [
      "h^6 =>\n"
     ]
    },
    {
     "data": {
      "text/latex": [
       "$\\displaystyle \\frac{u_{ttttttt}}{5040}$"
      ],
      "text/plain": [
       "u_{ttttttt}/5040"
      ]
     },
     "metadata": {},
     "output_type": "display_data"
    },
    {
     "name": "stdout",
     "output_type": "stream",
     "text": [
      "- u_{1} + u_{t}\n",
      "+h\\big(\n",
      "- \\frac{\\varepsilon \\left(u - u_{1}\\right)}{2} + \\frac{u_{tt}}{2} + \\frac{u + u_{1}}{2 \\varepsilon}\n",
      "\\big)\n",
      "+h^2\\big(\n",
      "\\frac{\\varepsilon^{2} \\left(u - u_{1}\\right)}{6} - \\frac{\\varepsilon u_{1}}{6} - \\frac{2 u_{1} - u_{ttt}}{6} + \\frac{u_{1}}{6 \\varepsilon} - \\frac{u + u_{1}}{6 \\varepsilon^{2}}\n",
      "\\big)\n",
      "+h^3\\big(\n",
      "- \\frac{\\varepsilon^{3} \\left(u - u_{1}\\right)}{24} - \\frac{\\varepsilon^{2} \\left(u - 2 u_{1}\\right)}{24} - \\frac{\\varepsilon \\left(u - 3 u_{1}\\right)}{24} + \\frac{2 u + u_{tttt}}{24} + \\frac{u + 3 u_{1}}{24 \\varepsilon} - \\frac{u + 2 u_{1}}{24 \\varepsilon^{2}} + \\frac{u + u_{1}}{24 \\varepsilon^{3}}\n",
      "\\big)\n",
      "+h^4\\big(\n",
      "\\frac{\\varepsilon^{4} \\left(u - u_{1}\\right)}{120} + \\frac{\\varepsilon^{3} \\cdot \\left(2 u - 3 u_{1}\\right)}{120} + \\frac{\\varepsilon^{2} \\cdot \\left(2 u - 5 u_{1}\\right)}{120} - \\frac{\\varepsilon \\left(2 u + 3 u_{1}\\right)}{120} - \\frac{4 u_{1} - u_{ttttt}}{120} - \\frac{2 u - 3 u_{1}}{120 \\varepsilon} - \\frac{2 u + 5 u_{1}}{120 \\varepsilon^{2}} + \\frac{2 u + 3 u_{1}}{120 \\varepsilon^{3}} - \\frac{u + u_{1}}{120 \\varepsilon^{4}}\n",
      "\\big)\n",
      "+h^5\\big(\n",
      "- \\frac{\\varepsilon^{5} \\left(u - u_{1}\\right)}{600} - \\frac{\\varepsilon^{4} \\cdot \\left(3 u - 4 u_{1}\\right)}{600} - \\frac{\\varepsilon^{3} \\left(u - 2 u_{1}\\right)}{150} + \\frac{\\varepsilon^{2} u_{1}}{75} + \\frac{\\varepsilon \\left(u + 7 u_{1}\\right)}{600} + \\frac{36 u + 5 u_{tttttt}}{3600} - \\frac{u - 7 u_{1}}{600 \\varepsilon} - \\frac{u_{1}}{75 \\varepsilon^{2}} + \\frac{u + 2 u_{1}}{150 \\varepsilon^{3}} - \\frac{3 u + 4 u_{1}}{600 \\varepsilon^{4}} + \\frac{u + u_{1}}{600 \\varepsilon^{5}}\n",
      "\\big)\n",
      "+h^6\\big(\n",
      "\\frac{u_{ttttttt}}{5040}\n",
      "\\big)\n"
     ]
    }
   ],
   "source": [
    "F1 = clip((T(u, 1)-T(u, 0))/h - T(r[0], 0))\n",
    "prn(F1, eps)\n",
    "prnlatex(F1, eps)"
   ]
  },
  {
   "cell_type": "code",
   "execution_count": 34,
   "id": "f59b264b",
   "metadata": {
    "collapsed": true
   },
   "outputs": [
    {
     "name": "stdout",
     "output_type": "stream",
     "text": [
      "h^0 =>\n"
     ]
    },
    {
     "data": {
      "text/latex": [
       "$\\displaystyle \\varepsilon \\left(- u + u_{1}\\right) + u1_{t} + \\frac{u + u_{1}}{\\varepsilon}$"
      ],
      "text/plain": [
       "\\varepsilon*(-u + u1) + u1_{t} + (u + u1)/\\varepsilon"
      ]
     },
     "metadata": {},
     "output_type": "display_data"
    },
    {
     "name": "stdout",
     "output_type": "stream",
     "text": [
      "h^1 =>\n"
     ]
    },
    {
     "data": {
      "text/latex": [
       "$\\displaystyle \\frac{\\varepsilon^{2} \\left(u - u_{1}\\right)}{2} - \\frac{\\varepsilon u_{1}}{2} - \\frac{2 u_{1} - u1_{tt}}{2} + \\frac{u_{1}}{2 \\varepsilon} - \\frac{u + u_{1}}{2 \\varepsilon^{2}}$"
      ],
      "text/plain": [
       "\\varepsilon**2*(u - u1)/2 - \\varepsilon*u1/2 - (2*u1 - u1_{tt})/2 + u1/(2*\\varepsilon) - (u + u1)/(2*\\varepsilon**2)"
      ]
     },
     "metadata": {},
     "output_type": "display_data"
    },
    {
     "name": "stdout",
     "output_type": "stream",
     "text": [
      "h^2 =>\n"
     ]
    },
    {
     "data": {
      "text/latex": [
       "$\\displaystyle - \\frac{\\varepsilon^{3} \\left(u - u_{1}\\right)}{6} - \\frac{\\varepsilon^{2} \\left(u - 2 u_{1}\\right)}{6} - \\frac{\\varepsilon \\left(u - 3 u_{1}\\right)}{6} + \\frac{2 u + u1_{ttt}}{6} + \\frac{u + 3 u_{1}}{6 \\varepsilon} - \\frac{u + 2 u_{1}}{6 \\varepsilon^{2}} + \\frac{u + u_{1}}{6 \\varepsilon^{3}}$"
      ],
      "text/plain": [
       "-\\varepsilon**3*(u - u1)/6 - \\varepsilon**2*(u - 2*u1)/6 - \\varepsilon*(u - 3*u1)/6 + (2*u + u1_{ttt})/6 + (u + 3*u1)/(6*\\varepsilon) - (u + 2*u1)/(6*\\varepsilon**2) + (u + u1)/(6*\\varepsilon**3)"
      ]
     },
     "metadata": {},
     "output_type": "display_data"
    },
    {
     "name": "stdout",
     "output_type": "stream",
     "text": [
      "h^3 =>\n"
     ]
    },
    {
     "data": {
      "text/latex": [
       "$\\displaystyle \\frac{\\varepsilon^{4} \\left(u - u_{1}\\right)}{24} + \\frac{\\varepsilon^{3} \\cdot \\left(2 u - 3 u_{1}\\right)}{24} + \\frac{\\varepsilon^{2} \\cdot \\left(2 u - 5 u_{1}\\right)}{24} - \\frac{\\varepsilon \\left(2 u + 3 u_{1}\\right)}{24} - \\frac{4 u_{1} - u1_{tttt}}{24} - \\frac{2 u - 3 u_{1}}{24 \\varepsilon} - \\frac{2 u + 5 u_{1}}{24 \\varepsilon^{2}} + \\frac{2 u + 3 u_{1}}{24 \\varepsilon^{3}} - \\frac{u + u_{1}}{24 \\varepsilon^{4}}$"
      ],
      "text/plain": [
       "\\varepsilon**4*(u - u1)/24 + \\varepsilon**3*(2*u - 3*u1)/24 + \\varepsilon**2*(2*u - 5*u1)/24 - \\varepsilon*(2*u + 3*u1)/24 - (4*u1 - u1_{tttt})/24 - (2*u - 3*u1)/(24*\\varepsilon) - (2*u + 5*u1)/(24*\\varepsilon**2) + (2*u + 3*u1)/(24*\\varepsilon**3) - (u + u1)/(24*\\varepsilon**4)"
      ]
     },
     "metadata": {},
     "output_type": "display_data"
    },
    {
     "name": "stdout",
     "output_type": "stream",
     "text": [
      "h^4 =>\n"
     ]
    },
    {
     "data": {
      "text/latex": [
       "$\\displaystyle - \\frac{\\varepsilon^{5} \\left(u - u_{1}\\right)}{120} - \\frac{\\varepsilon^{4} \\cdot \\left(3 u - 4 u_{1}\\right)}{120} - \\frac{\\varepsilon^{3} \\left(u - 2 u_{1}\\right)}{30} + \\frac{\\varepsilon^{2} u_{1}}{15} + \\frac{\\varepsilon \\left(u + 7 u_{1}\\right)}{120} + \\frac{6 u + u1_{ttttt}}{120} - \\frac{u - 7 u_{1}}{120 \\varepsilon} - \\frac{u_{1}}{15 \\varepsilon^{2}} + \\frac{u + 2 u_{1}}{30 \\varepsilon^{3}} - \\frac{3 u + 4 u_{1}}{120 \\varepsilon^{4}} + \\frac{u + u_{1}}{120 \\varepsilon^{5}}$"
      ],
      "text/plain": [
       "-\\varepsilon**5*(u - u1)/120 - \\varepsilon**4*(3*u - 4*u1)/120 - \\varepsilon**3*(u - 2*u1)/30 + \\varepsilon**2*u1/15 + \\varepsilon*(u + 7*u1)/120 + (6*u + u1_{ttttt})/120 - (u - 7*u1)/(120*\\varepsilon) - u1/(15*\\varepsilon**2) + (u + 2*u1)/(30*\\varepsilon**3) - (3*u + 4*u1)/(120*\\varepsilon**4) + (u + u1)/(120*\\varepsilon**5)"
      ]
     },
     "metadata": {},
     "output_type": "display_data"
    },
    {
     "name": "stdout",
     "output_type": "stream",
     "text": [
      "h^5 =>\n"
     ]
    },
    {
     "data": {
      "text/latex": [
       "$\\displaystyle \\frac{\\varepsilon^{6} \\left(u - u_{1}\\right)}{600} + \\frac{\\varepsilon^{5} \\cdot \\left(4 u - 5 u_{1}\\right)}{600} + \\frac{\\varepsilon^{4} \\cdot \\left(7 u - 12 u_{1}\\right)}{600} + \\frac{\\varepsilon^{3} \\left(u - 4 u_{1}\\right)}{150} - \\frac{\\varepsilon^{2} \\left(u + 15 u_{1}\\right)}{600} - \\frac{\\varepsilon \\left(8 u + 7 u_{1}\\right)}{600} - \\frac{48 u_{1} - 5 u1_{tttttt}}{3600} - \\frac{8 u - 7 u_{1}}{600 \\varepsilon} + \\frac{u - 15 u_{1}}{600 \\varepsilon^{2}} + \\frac{u + 4 u_{1}}{150 \\varepsilon^{3}} - \\frac{7 u + 12 u_{1}}{600 \\varepsilon^{4}} + \\frac{4 u + 5 u_{1}}{600 \\varepsilon^{5}} - \\frac{u + u_{1}}{600 \\varepsilon^{6}}$"
      ],
      "text/plain": [
       "\\varepsilon**6*(u - u1)/600 + \\varepsilon**5*(4*u - 5*u1)/600 + \\varepsilon**4*(7*u - 12*u1)/600 + \\varepsilon**3*(u - 4*u1)/150 - \\varepsilon**2*(u + 15*u1)/600 - \\varepsilon*(8*u + 7*u1)/600 - (48*u1 - 5*u1_{tttttt})/3600 - (8*u - 7*u1)/(600*\\varepsilon) + (u - 15*u1)/(600*\\varepsilon**2) + (u + 4*u1)/(150*\\varepsilon**3) - (7*u + 12*u1)/(600*\\varepsilon**4) + (4*u + 5*u1)/(600*\\varepsilon**5) - (u + u1)/(600*\\varepsilon**6)"
      ]
     },
     "metadata": {},
     "output_type": "display_data"
    },
    {
     "name": "stdout",
     "output_type": "stream",
     "text": [
      "h^6 =>\n"
     ]
    },
    {
     "data": {
      "text/latex": [
       "$\\displaystyle \\frac{u1_{ttttttt}}{5040}$"
      ],
      "text/plain": [
       "u1_{ttttttt}/5040"
      ]
     },
     "metadata": {},
     "output_type": "display_data"
    },
    {
     "name": "stdout",
     "output_type": "stream",
     "text": [
      "\\varepsilon \\left(- u + u_{1}\\right) + u1_{t} + \\frac{u + u_{1}}{\\varepsilon}\n",
      "+h\\big(\n",
      "\\frac{\\varepsilon^{2} \\left(u - u_{1}\\right)}{2} - \\frac{\\varepsilon u_{1}}{2} - \\frac{2 u_{1} - u1_{tt}}{2} + \\frac{u_{1}}{2 \\varepsilon} - \\frac{u + u_{1}}{2 \\varepsilon^{2}}\n",
      "\\big)\n",
      "+h^2\\big(\n",
      "- \\frac{\\varepsilon^{3} \\left(u - u_{1}\\right)}{6} - \\frac{\\varepsilon^{2} \\left(u - 2 u_{1}\\right)}{6} - \\frac{\\varepsilon \\left(u - 3 u_{1}\\right)}{6} + \\frac{2 u + u1_{ttt}}{6} + \\frac{u + 3 u_{1}}{6 \\varepsilon} - \\frac{u + 2 u_{1}}{6 \\varepsilon^{2}} + \\frac{u + u_{1}}{6 \\varepsilon^{3}}\n",
      "\\big)\n",
      "+h^3\\big(\n",
      "\\frac{\\varepsilon^{4} \\left(u - u_{1}\\right)}{24} + \\frac{\\varepsilon^{3} \\cdot \\left(2 u - 3 u_{1}\\right)}{24} + \\frac{\\varepsilon^{2} \\cdot \\left(2 u - 5 u_{1}\\right)}{24} - \\frac{\\varepsilon \\left(2 u + 3 u_{1}\\right)}{24} - \\frac{4 u_{1} - u1_{tttt}}{24} - \\frac{2 u - 3 u_{1}}{24 \\varepsilon} - \\frac{2 u + 5 u_{1}}{24 \\varepsilon^{2}} + \\frac{2 u + 3 u_{1}}{24 \\varepsilon^{3}} - \\frac{u + u_{1}}{24 \\varepsilon^{4}}\n",
      "\\big)\n",
      "+h^4\\big(\n",
      "- \\frac{\\varepsilon^{5} \\left(u - u_{1}\\right)}{120} - \\frac{\\varepsilon^{4} \\cdot \\left(3 u - 4 u_{1}\\right)}{120} - \\frac{\\varepsilon^{3} \\left(u - 2 u_{1}\\right)}{30} + \\frac{\\varepsilon^{2} u_{1}}{15} + \\frac{\\varepsilon \\left(u + 7 u_{1}\\right)}{120} + \\frac{6 u + u1_{ttttt}}{120} - \\frac{u - 7 u_{1}}{120 \\varepsilon} - \\frac{u_{1}}{15 \\varepsilon^{2}} + \\frac{u + 2 u_{1}}{30 \\varepsilon^{3}} - \\frac{3 u + 4 u_{1}}{120 \\varepsilon^{4}} + \\frac{u + u_{1}}{120 \\varepsilon^{5}}\n",
      "\\big)\n",
      "+h^5\\big(\n",
      "\\frac{\\varepsilon^{6} \\left(u - u_{1}\\right)}{600} + \\frac{\\varepsilon^{5} \\cdot \\left(4 u - 5 u_{1}\\right)}{600} + \\frac{\\varepsilon^{4} \\cdot \\left(7 u - 12 u_{1}\\right)}{600} + \\frac{\\varepsilon^{3} \\left(u - 4 u_{1}\\right)}{150} - \\frac{\\varepsilon^{2} \\left(u + 15 u_{1}\\right)}{600} - \\frac{\\varepsilon \\left(8 u + 7 u_{1}\\right)}{600} - \\frac{48 u_{1} - 5 u1_{tttttt}}{3600} - \\frac{8 u - 7 u_{1}}{600 \\varepsilon} + \\frac{u - 15 u_{1}}{600 \\varepsilon^{2}} + \\frac{u + 4 u_{1}}{150 \\varepsilon^{3}} - \\frac{7 u + 12 u_{1}}{600 \\varepsilon^{4}} + \\frac{4 u + 5 u_{1}}{600 \\varepsilon^{5}} - \\frac{u + u_{1}}{600 \\varepsilon^{6}}\n",
      "\\big)\n",
      "+h^6\\big(\n",
      "\\frac{u1_{ttttttt}}{5040}\n",
      "\\big)\n"
     ]
    }
   ],
   "source": [
    "F2 = clip((T(u1, 1)-T(u1, 0))/h - T(r[1], 0))\n",
    "prn(F2, eps)\n",
    "prnlatex(F2, eps)"
   ]
  },
  {
   "cell_type": "code",
   "execution_count": 35,
   "id": "6d4fb050",
   "metadata": {
    "collapsed": true
   },
   "outputs": [
    {
     "name": "stdout",
     "output_type": "stream",
     "text": [
      "h^0 =>\n"
     ]
    },
    {
     "data": {
      "text/latex": [
       "$\\displaystyle - u_{1} + u_{t}$"
      ],
      "text/plain": [
       "-u1 + u_{t}"
      ]
     },
     "metadata": {},
     "output_type": "display_data"
    },
    {
     "name": "stdout",
     "output_type": "stream",
     "text": [
      "h^1 =>\n"
     ]
    },
    {
     "data": {
      "text/latex": [
       "$\\displaystyle 0$"
      ],
      "text/plain": [
       "0"
      ]
     },
     "metadata": {},
     "output_type": "display_data"
    },
    {
     "name": "stdout",
     "output_type": "stream",
     "text": [
      "h^2 =>\n"
     ]
    },
    {
     "data": {
      "text/latex": [
       "$\\displaystyle 0$"
      ],
      "text/plain": [
       "0"
      ]
     },
     "metadata": {},
     "output_type": "display_data"
    },
    {
     "name": "stdout",
     "output_type": "stream",
     "text": [
      "h^3 =>\n"
     ]
    },
    {
     "data": {
      "text/latex": [
       "$\\displaystyle 0$"
      ],
      "text/plain": [
       "0"
      ]
     },
     "metadata": {},
     "output_type": "display_data"
    },
    {
     "name": "stdout",
     "output_type": "stream",
     "text": [
      "h^4 =>\n"
     ]
    },
    {
     "data": {
      "text/latex": [
       "$\\displaystyle 0$"
      ],
      "text/plain": [
       "0"
      ]
     },
     "metadata": {},
     "output_type": "display_data"
    },
    {
     "name": "stdout",
     "output_type": "stream",
     "text": [
      "h^5 =>\n"
     ]
    },
    {
     "data": {
      "text/latex": [
       "$\\displaystyle - \\frac{\\varepsilon^{5} \\left(u - u_{1}\\right)}{3600} - \\frac{\\varepsilon^{4} \\cdot \\left(3 u - 4 u_{1}\\right)}{3600} - \\frac{\\varepsilon^{3} \\left(u - 2 u_{1}\\right)}{900} + \\frac{\\varepsilon^{2} u_{1}}{450} + \\frac{\\varepsilon \\left(u + 7 u_{1}\\right)}{3600} + \\frac{u}{600} - \\frac{u - 7 u_{1}}{3600 \\varepsilon} - \\frac{u_{1}}{450 \\varepsilon^{2}} + \\frac{u + 2 u_{1}}{900 \\varepsilon^{3}} - \\frac{3 u + 4 u_{1}}{3600 \\varepsilon^{4}} + \\frac{u + u_{1}}{3600 \\varepsilon^{5}}$"
      ],
      "text/plain": [
       "-\\varepsilon**5*(u - u1)/3600 - \\varepsilon**4*(3*u - 4*u1)/3600 - \\varepsilon**3*(u - 2*u1)/900 + \\varepsilon**2*u1/450 + \\varepsilon*(u + 7*u1)/3600 + u/600 - (u - 7*u1)/(3600*\\varepsilon) - u1/(450*\\varepsilon**2) + (u + 2*u1)/(900*\\varepsilon**3) - (3*u + 4*u1)/(3600*\\varepsilon**4) + (u + u1)/(3600*\\varepsilon**5)"
      ]
     },
     "metadata": {},
     "output_type": "display_data"
    },
    {
     "name": "stdout",
     "output_type": "stream",
     "text": [
      "h^6 =>\n"
     ]
    },
    {
     "data": {
      "text/latex": [
       "$\\displaystyle - \\frac{\\varepsilon^{6} \\left(u - u_{1}\\right)}{2100} - \\frac{\\varepsilon^{5} \\cdot \\left(4 u - 5 u_{1}\\right)}{2100} - \\frac{\\varepsilon^{4} \\cdot \\left(7 u - 12 u_{1}\\right)}{2100} - \\frac{\\varepsilon^{3} \\left(u - 4 u_{1}\\right)}{525} + \\frac{\\varepsilon^{2} \\left(u + 15 u_{1}\\right)}{2100} + \\frac{\\varepsilon \\left(8 u + 7 u_{1}\\right)}{2100} + \\frac{2 u_{1}}{525} + \\frac{8 u - 7 u_{1}}{2100 \\varepsilon} - \\frac{u - 15 u_{1}}{2100 \\varepsilon^{2}} - \\frac{u + 4 u_{1}}{525 \\varepsilon^{3}} + \\frac{7 u + 12 u_{1}}{2100 \\varepsilon^{4}} - \\frac{4 u + 5 u_{1}}{2100 \\varepsilon^{5}} + \\frac{u + u_{1}}{2100 \\varepsilon^{6}}$"
      ],
      "text/plain": [
       "-\\varepsilon**6*(u - u1)/2100 - \\varepsilon**5*(4*u - 5*u1)/2100 - \\varepsilon**4*(7*u - 12*u1)/2100 - \\varepsilon**3*(u - 4*u1)/525 + \\varepsilon**2*(u + 15*u1)/2100 + \\varepsilon*(8*u + 7*u1)/2100 + 2*u1/525 + (8*u - 7*u1)/(2100*\\varepsilon) - (u - 15*u1)/(2100*\\varepsilon**2) - (u + 4*u1)/(525*\\varepsilon**3) + (7*u + 12*u1)/(2100*\\varepsilon**4) - (4*u + 5*u1)/(2100*\\varepsilon**5) + (u + u1)/(2100*\\varepsilon**6)"
      ]
     },
     "metadata": {},
     "output_type": "display_data"
    },
    {
     "name": "stdout",
     "output_type": "stream",
     "text": [
      "- u_{1} + u_{t}\n",
      "+h\\big(\n",
      "0\n",
      "\\big)\n",
      "+h^2\\big(\n",
      "0\n",
      "\\big)\n",
      "+h^3\\big(\n",
      "0\n",
      "\\big)\n",
      "+h^4\\big(\n",
      "0\n",
      "\\big)\n",
      "+h^5\\big(\n",
      "- \\frac{\\varepsilon^{5} \\left(u - u_{1}\\right)}{3600} - \\frac{\\varepsilon^{4} \\cdot \\left(3 u - 4 u_{1}\\right)}{3600} - \\frac{\\varepsilon^{3} \\left(u - 2 u_{1}\\right)}{900} + \\frac{\\varepsilon^{2} u_{1}}{450} + \\frac{\\varepsilon \\left(u + 7 u_{1}\\right)}{3600} + \\frac{u}{600} - \\frac{u - 7 u_{1}}{3600 \\varepsilon} - \\frac{u_{1}}{450 \\varepsilon^{2}} + \\frac{u + 2 u_{1}}{900 \\varepsilon^{3}} - \\frac{3 u + 4 u_{1}}{3600 \\varepsilon^{4}} + \\frac{u + u_{1}}{3600 \\varepsilon^{5}}\n",
      "\\big)\n",
      "+h^6\\big(\n",
      "- \\frac{\\varepsilon^{6} \\left(u - u_{1}\\right)}{2100} - \\frac{\\varepsilon^{5} \\cdot \\left(4 u - 5 u_{1}\\right)}{2100} - \\frac{\\varepsilon^{4} \\cdot \\left(7 u - 12 u_{1}\\right)}{2100} - \\frac{\\varepsilon^{3} \\left(u - 4 u_{1}\\right)}{525} + \\frac{\\varepsilon^{2} \\left(u + 15 u_{1}\\right)}{2100} + \\frac{\\varepsilon \\left(8 u + 7 u_{1}\\right)}{2100} + \\frac{2 u_{1}}{525} + \\frac{8 u - 7 u_{1}}{2100 \\varepsilon} - \\frac{u - 15 u_{1}}{2100 \\varepsilon^{2}} - \\frac{u + 4 u_{1}}{525 \\varepsilon^{3}} + \\frac{7 u + 12 u_{1}}{2100 \\varepsilon^{4}} - \\frac{4 u + 5 u_{1}}{2100 \\varepsilon^{5}} + \\frac{u + u_{1}}{2100 \\varepsilon^{6}}\n",
      "\\big)\n"
     ]
    }
   ],
   "source": [
    "f1 = NF(F1, [u.diff(t), u1.diff(t)], [F1, F2], head=False)\n",
    "prn(f1, eps)\n",
    "prnlatex(f1, eps)"
   ]
  },
  {
   "cell_type": "code",
   "execution_count": 36,
   "id": "4203a788",
   "metadata": {
    "collapsed": true
   },
   "outputs": [
    {
     "name": "stdout",
     "output_type": "stream",
     "text": [
      "h^0 =>\n"
     ]
    },
    {
     "data": {
      "text/latex": [
       "$\\displaystyle \\varepsilon \\left(- u + u_{1}\\right) + u1_{t} + \\frac{u + u_{1}}{\\varepsilon}$"
      ],
      "text/plain": [
       "\\varepsilon*(-u + u1) + u1_{t} + (u + u1)/\\varepsilon"
      ]
     },
     "metadata": {},
     "output_type": "display_data"
    },
    {
     "name": "stdout",
     "output_type": "stream",
     "text": [
      "h^1 =>\n"
     ]
    },
    {
     "data": {
      "text/latex": [
       "$\\displaystyle 0$"
      ],
      "text/plain": [
       "0"
      ]
     },
     "metadata": {},
     "output_type": "display_data"
    },
    {
     "name": "stdout",
     "output_type": "stream",
     "text": [
      "h^2 =>\n"
     ]
    },
    {
     "data": {
      "text/latex": [
       "$\\displaystyle 0$"
      ],
      "text/plain": [
       "0"
      ]
     },
     "metadata": {},
     "output_type": "display_data"
    },
    {
     "name": "stdout",
     "output_type": "stream",
     "text": [
      "h^3 =>\n"
     ]
    },
    {
     "data": {
      "text/latex": [
       "$\\displaystyle 0$"
      ],
      "text/plain": [
       "0"
      ]
     },
     "metadata": {},
     "output_type": "display_data"
    },
    {
     "name": "stdout",
     "output_type": "stream",
     "text": [
      "h^4 =>\n"
     ]
    },
    {
     "data": {
      "text/latex": [
       "$\\displaystyle 0$"
      ],
      "text/plain": [
       "0"
      ]
     },
     "metadata": {},
     "output_type": "display_data"
    },
    {
     "name": "stdout",
     "output_type": "stream",
     "text": [
      "h^5 =>\n"
     ]
    },
    {
     "data": {
      "text/latex": [
       "$\\displaystyle \\frac{\\varepsilon^{6} \\left(u - u_{1}\\right)}{3600} + \\frac{\\varepsilon^{5} \\cdot \\left(4 u - 5 u_{1}\\right)}{3600} + \\frac{\\varepsilon^{4} \\cdot \\left(7 u - 12 u_{1}\\right)}{3600} + \\frac{\\varepsilon^{3} \\left(u - 4 u_{1}\\right)}{900} - \\frac{\\varepsilon^{2} \\left(u + 15 u_{1}\\right)}{3600} - \\frac{\\varepsilon \\left(8 u + 7 u_{1}\\right)}{3600} - \\frac{u_{1}}{450} - \\frac{8 u - 7 u_{1}}{3600 \\varepsilon} + \\frac{u - 15 u_{1}}{3600 \\varepsilon^{2}} + \\frac{u + 4 u_{1}}{900 \\varepsilon^{3}} - \\frac{7 u + 12 u_{1}}{3600 \\varepsilon^{4}} + \\frac{4 u + 5 u_{1}}{3600 \\varepsilon^{5}} - \\frac{u + u_{1}}{3600 \\varepsilon^{6}}$"
      ],
      "text/plain": [
       "\\varepsilon**6*(u - u1)/3600 + \\varepsilon**5*(4*u - 5*u1)/3600 + \\varepsilon**4*(7*u - 12*u1)/3600 + \\varepsilon**3*(u - 4*u1)/900 - \\varepsilon**2*(u + 15*u1)/3600 - \\varepsilon*(8*u + 7*u1)/3600 - u1/450 - (8*u - 7*u1)/(3600*\\varepsilon) + (u - 15*u1)/(3600*\\varepsilon**2) + (u + 4*u1)/(900*\\varepsilon**3) - (7*u + 12*u1)/(3600*\\varepsilon**4) + (4*u + 5*u1)/(3600*\\varepsilon**5) - (u + u1)/(3600*\\varepsilon**6)"
      ]
     },
     "metadata": {},
     "output_type": "display_data"
    },
    {
     "name": "stdout",
     "output_type": "stream",
     "text": [
      "h^6 =>\n"
     ]
    },
    {
     "data": {
      "text/latex": [
       "$\\displaystyle \\frac{\\varepsilon^{7} \\left(u - u_{1}\\right)}{2100} + \\frac{\\varepsilon^{6} \\cdot \\left(5 u - 6 u_{1}\\right)}{2100} + \\frac{\\varepsilon^{5} \\cdot \\left(11 u - 17 u_{1}\\right)}{2100} + \\frac{\\varepsilon^{4} \\cdot \\left(11 u - 28 u_{1}\\right)}{2100} + \\frac{\\varepsilon^{3} \\cdot \\left(3 u - 31 u_{1}\\right)}{2100} - \\frac{\\varepsilon^{2} \\cdot \\left(9 u + 22 u_{1}\\right)}{2100} - \\frac{\\varepsilon \\left(7 u + 15 u_{1}\\right)}{2100} - \\frac{u}{150} + \\frac{7 u - 15 u_{1}}{2100 \\varepsilon} - \\frac{9 u - 22 u_{1}}{2100 \\varepsilon^{2}} - \\frac{3 u + 31 u_{1}}{2100 \\varepsilon^{3}} + \\frac{11 u + 28 u_{1}}{2100 \\varepsilon^{4}} - \\frac{11 u + 17 u_{1}}{2100 \\varepsilon^{5}} + \\frac{5 u + 6 u_{1}}{2100 \\varepsilon^{6}} - \\frac{u + u_{1}}{2100 \\varepsilon^{7}}$"
      ],
      "text/plain": [
       "\\varepsilon**7*(u - u1)/2100 + \\varepsilon**6*(5*u - 6*u1)/2100 + \\varepsilon**5*(11*u - 17*u1)/2100 + \\varepsilon**4*(11*u - 28*u1)/2100 + \\varepsilon**3*(3*u - 31*u1)/2100 - \\varepsilon**2*(9*u + 22*u1)/2100 - \\varepsilon*(7*u + 15*u1)/2100 - u/150 + (7*u - 15*u1)/(2100*\\varepsilon) - (9*u - 22*u1)/(2100*\\varepsilon**2) - (3*u + 31*u1)/(2100*\\varepsilon**3) + (11*u + 28*u1)/(2100*\\varepsilon**4) - (11*u + 17*u1)/(2100*\\varepsilon**5) + (5*u + 6*u1)/(2100*\\varepsilon**6) - (u + u1)/(2100*\\varepsilon**7)"
      ]
     },
     "metadata": {},
     "output_type": "display_data"
    },
    {
     "name": "stdout",
     "output_type": "stream",
     "text": [
      "\\varepsilon \\left(- u + u_{1}\\right) + u1_{t} + \\frac{u + u_{1}}{\\varepsilon}\n",
      "+h\\big(\n",
      "0\n",
      "\\big)\n",
      "+h^2\\big(\n",
      "0\n",
      "\\big)\n",
      "+h^3\\big(\n",
      "0\n",
      "\\big)\n",
      "+h^4\\big(\n",
      "0\n",
      "\\big)\n",
      "+h^5\\big(\n",
      "\\frac{\\varepsilon^{6} \\left(u - u_{1}\\right)}{3600} + \\frac{\\varepsilon^{5} \\cdot \\left(4 u - 5 u_{1}\\right)}{3600} + \\frac{\\varepsilon^{4} \\cdot \\left(7 u - 12 u_{1}\\right)}{3600} + \\frac{\\varepsilon^{3} \\left(u - 4 u_{1}\\right)}{900} - \\frac{\\varepsilon^{2} \\left(u + 15 u_{1}\\right)}{3600} - \\frac{\\varepsilon \\left(8 u + 7 u_{1}\\right)}{3600} - \\frac{u_{1}}{450} - \\frac{8 u - 7 u_{1}}{3600 \\varepsilon} + \\frac{u - 15 u_{1}}{3600 \\varepsilon^{2}} + \\frac{u + 4 u_{1}}{900 \\varepsilon^{3}} - \\frac{7 u + 12 u_{1}}{3600 \\varepsilon^{4}} + \\frac{4 u + 5 u_{1}}{3600 \\varepsilon^{5}} - \\frac{u + u_{1}}{3600 \\varepsilon^{6}}\n",
      "\\big)\n",
      "+h^6\\big(\n",
      "\\frac{\\varepsilon^{7} \\left(u - u_{1}\\right)}{2100} + \\frac{\\varepsilon^{6} \\cdot \\left(5 u - 6 u_{1}\\right)}{2100} + \\frac{\\varepsilon^{5} \\cdot \\left(11 u - 17 u_{1}\\right)}{2100} + \\frac{\\varepsilon^{4} \\cdot \\left(11 u - 28 u_{1}\\right)}{2100} + \\frac{\\varepsilon^{3} \\cdot \\left(3 u - 31 u_{1}\\right)}{2100} - \\frac{\\varepsilon^{2} \\cdot \\left(9 u + 22 u_{1}\\right)}{2100} - \\frac{\\varepsilon \\left(7 u + 15 u_{1}\\right)}{2100} - \\frac{u}{150} + \\frac{7 u - 15 u_{1}}{2100 \\varepsilon} - \\frac{9 u - 22 u_{1}}{2100 \\varepsilon^{2}} - \\frac{3 u + 31 u_{1}}{2100 \\varepsilon^{3}} + \\frac{11 u + 28 u_{1}}{2100 \\varepsilon^{4}} - \\frac{11 u + 17 u_{1}}{2100 \\varepsilon^{5}} + \\frac{5 u + 6 u_{1}}{2100 \\varepsilon^{6}} - \\frac{u + u_{1}}{2100 \\varepsilon^{7}}\n",
      "\\big)\n"
     ]
    }
   ],
   "source": [
    "f2 = NF(F2, [u.diff(t), u1.diff(t)], [F1, F2], head=False)\n",
    "prn(f2, eps)\n",
    "prnlatex(f2, eps)"
   ]
  },
  {
   "cell_type": "markdown",
   "id": "ae5e26f0",
   "metadata": {},
   "source": [
    "## Dormand–Prince method 4 order"
   ]
  },
  {
   "cell_type": "code",
   "execution_count": 37,
   "id": "9f2dd2ff",
   "metadata": {
    "collapsed": true
   },
   "outputs": [],
   "source": [
    "set_clip(7, 6, Rational(0, 1))\n",
    "r = DormandPrince51(f, Matrix([u, u1]))"
   ]
  },
  {
   "cell_type": "code",
   "execution_count": 38,
   "id": "0a41e564",
   "metadata": {
    "collapsed": true
   },
   "outputs": [
    {
     "name": "stdout",
     "output_type": "stream",
     "text": [
      "h^0 =>\n"
     ]
    },
    {
     "data": {
      "text/latex": [
       "$\\displaystyle - u_{1} + u_{t}$"
      ],
      "text/plain": [
       "-u1 + u_{t}"
      ]
     },
     "metadata": {},
     "output_type": "display_data"
    },
    {
     "name": "stdout",
     "output_type": "stream",
     "text": [
      "h^1 =>\n"
     ]
    },
    {
     "data": {
      "text/latex": [
       "$\\displaystyle - \\frac{\\varepsilon \\left(u - u_{1}\\right)}{2} + \\frac{u_{tt}}{2} + \\frac{u + u_{1}}{2 \\varepsilon}$"
      ],
      "text/plain": [
       "-\\varepsilon*(u - u1)/2 + u_{tt}/2 + (u + u1)/(2*\\varepsilon)"
      ]
     },
     "metadata": {},
     "output_type": "display_data"
    },
    {
     "name": "stdout",
     "output_type": "stream",
     "text": [
      "h^2 =>\n"
     ]
    },
    {
     "data": {
      "text/latex": [
       "$\\displaystyle \\frac{\\varepsilon^{2} \\left(u - u_{1}\\right)}{6} - \\frac{\\varepsilon u_{1}}{6} - \\frac{2 u_{1} - u_{ttt}}{6} + \\frac{u_{1}}{6 \\varepsilon} - \\frac{u + u_{1}}{6 \\varepsilon^{2}}$"
      ],
      "text/plain": [
       "\\varepsilon**2*(u - u1)/6 - \\varepsilon*u1/6 - (2*u1 - u_{ttt})/6 + u1/(6*\\varepsilon) - (u + u1)/(6*\\varepsilon**2)"
      ]
     },
     "metadata": {},
     "output_type": "display_data"
    },
    {
     "name": "stdout",
     "output_type": "stream",
     "text": [
      "h^3 =>\n"
     ]
    },
    {
     "data": {
      "text/latex": [
       "$\\displaystyle - \\frac{\\varepsilon^{3} \\left(u - u_{1}\\right)}{24} - \\frac{\\varepsilon^{2} \\left(u - 2 u_{1}\\right)}{24} - \\frac{\\varepsilon \\left(u - 3 u_{1}\\right)}{24} + \\frac{2 u + u_{tttt}}{24} + \\frac{u + 3 u_{1}}{24 \\varepsilon} - \\frac{u + 2 u_{1}}{24 \\varepsilon^{2}} + \\frac{u + u_{1}}{24 \\varepsilon^{3}}$"
      ],
      "text/plain": [
       "-\\varepsilon**3*(u - u1)/24 - \\varepsilon**2*(u - 2*u1)/24 - \\varepsilon*(u - 3*u1)/24 + (2*u + u_{tttt})/24 + (u + 3*u1)/(24*\\varepsilon) - (u + 2*u1)/(24*\\varepsilon**2) + (u + u1)/(24*\\varepsilon**3)"
      ]
     },
     "metadata": {},
     "output_type": "display_data"
    },
    {
     "name": "stdout",
     "output_type": "stream",
     "text": [
      "h^4 =>\n"
     ]
    },
    {
     "data": {
      "text/latex": [
       "$\\displaystyle \\frac{1097 \\varepsilon^{4} \\left(u - u_{1}\\right)}{120000} + \\frac{1097 \\varepsilon^{3} \\cdot \\left(2 u - 3 u_{1}\\right)}{120000} + \\frac{1097 \\varepsilon^{2} \\cdot \\left(2 u - 5 u_{1}\\right)}{120000} - \\frac{1097 \\varepsilon \\left(2 u + 3 u_{1}\\right)}{120000} - \\frac{1097 u_{1} - 250 u_{ttttt}}{30000} - \\frac{1097 \\cdot \\left(2 u - 3 u_{1}\\right)}{120000 \\varepsilon} - \\frac{1097 \\cdot \\left(2 u + 5 u_{1}\\right)}{120000 \\varepsilon^{2}} + \\frac{1097 \\cdot \\left(2 u + 3 u_{1}\\right)}{120000 \\varepsilon^{3}} - \\frac{1097 \\left(u + u_{1}\\right)}{120000 \\varepsilon^{4}}$"
      ],
      "text/plain": [
       "1097*\\varepsilon**4*(u - u1)/120000 + 1097*\\varepsilon**3*(2*u - 3*u1)/120000 + 1097*\\varepsilon**2*(2*u - 5*u1)/120000 - 1097*\\varepsilon*(2*u + 3*u1)/120000 - (1097*u1 - 250*u_{ttttt})/30000 - 1097*(2*u - 3*u1)/(120000*\\varepsilon) - 1097*(2*u + 5*u1)/(120000*\\varepsilon**2) + 1097*(2*u + 3*u1)/(120000*\\varepsilon**3) - 1097*(u + u1)/(120000*\\varepsilon**4)"
      ]
     },
     "metadata": {},
     "output_type": "display_data"
    },
    {
     "name": "stdout",
     "output_type": "stream",
     "text": [
      "h^5 =>\n"
     ]
    },
    {
     "data": {
      "text/latex": [
       "$\\displaystyle - \\frac{161 \\varepsilon^{5} \\left(u - u_{1}\\right)}{120000} - \\frac{161 \\varepsilon^{4} \\cdot \\left(3 u - 4 u_{1}\\right)}{120000} - \\frac{161 \\varepsilon^{3} \\left(u - 2 u_{1}\\right)}{30000} + \\frac{161 \\varepsilon^{2} u_{1}}{15000} + \\frac{161 \\varepsilon \\left(u + 7 u_{1}\\right)}{120000} + \\frac{1449 u + 250 u_{tttttt}}{180000} - \\frac{161 \\left(u - 7 u_{1}\\right)}{120000 \\varepsilon} - \\frac{161 u_{1}}{15000 \\varepsilon^{2}} + \\frac{161 \\left(u + 2 u_{1}\\right)}{30000 \\varepsilon^{3}} - \\frac{161 \\cdot \\left(3 u + 4 u_{1}\\right)}{120000 \\varepsilon^{4}} + \\frac{161 \\left(u + u_{1}\\right)}{120000 \\varepsilon^{5}}$"
      ],
      "text/plain": [
       "-161*\\varepsilon**5*(u - u1)/120000 - 161*\\varepsilon**4*(3*u - 4*u1)/120000 - 161*\\varepsilon**3*(u - 2*u1)/30000 + 161*\\varepsilon**2*u1/15000 + 161*\\varepsilon*(u + 7*u1)/120000 + (1449*u + 250*u_{tttttt})/180000 - 161*(u - 7*u1)/(120000*\\varepsilon) - 161*u1/(15000*\\varepsilon**2) + 161*(u + 2*u1)/(30000*\\varepsilon**3) - 161*(3*u + 4*u1)/(120000*\\varepsilon**4) + 161*(u + u1)/(120000*\\varepsilon**5)"
      ]
     },
     "metadata": {},
     "output_type": "display_data"
    },
    {
     "name": "stdout",
     "output_type": "stream",
     "text": [
      "- u_{1} + u_{t}\n",
      "+h\\big(\n",
      "- \\frac{\\varepsilon \\left(u - u_{1}\\right)}{2} + \\frac{u_{tt}}{2} + \\frac{u + u_{1}}{2 \\varepsilon}\n",
      "\\big)\n",
      "+h^2\\big(\n",
      "\\frac{\\varepsilon^{2} \\left(u - u_{1}\\right)}{6} - \\frac{\\varepsilon u_{1}}{6} - \\frac{2 u_{1} - u_{ttt}}{6} + \\frac{u_{1}}{6 \\varepsilon} - \\frac{u + u_{1}}{6 \\varepsilon^{2}}\n",
      "\\big)\n",
      "+h^3\\big(\n",
      "- \\frac{\\varepsilon^{3} \\left(u - u_{1}\\right)}{24} - \\frac{\\varepsilon^{2} \\left(u - 2 u_{1}\\right)}{24} - \\frac{\\varepsilon \\left(u - 3 u_{1}\\right)}{24} + \\frac{2 u + u_{tttt}}{24} + \\frac{u + 3 u_{1}}{24 \\varepsilon} - \\frac{u + 2 u_{1}}{24 \\varepsilon^{2}} + \\frac{u + u_{1}}{24 \\varepsilon^{3}}\n",
      "\\big)\n",
      "+h^4\\big(\n",
      "\\frac{1097 \\varepsilon^{4} \\left(u - u_{1}\\right)}{120000} + \\frac{1097 \\varepsilon^{3} \\cdot \\left(2 u - 3 u_{1}\\right)}{120000} + \\frac{1097 \\varepsilon^{2} \\cdot \\left(2 u - 5 u_{1}\\right)}{120000} - \\frac{1097 \\varepsilon \\left(2 u + 3 u_{1}\\right)}{120000} - \\frac{1097 u_{1} - 250 u_{ttttt}}{30000} - \\frac{1097 \\cdot \\left(2 u - 3 u_{1}\\right)}{120000 \\varepsilon} - \\frac{1097 \\cdot \\left(2 u + 5 u_{1}\\right)}{120000 \\varepsilon^{2}} + \\frac{1097 \\cdot \\left(2 u + 3 u_{1}\\right)}{120000 \\varepsilon^{3}} - \\frac{1097 \\left(u + u_{1}\\right)}{120000 \\varepsilon^{4}}\n",
      "\\big)\n",
      "+h^5\\big(\n",
      "- \\frac{161 \\varepsilon^{5} \\left(u - u_{1}\\right)}{120000} - \\frac{161 \\varepsilon^{4} \\cdot \\left(3 u - 4 u_{1}\\right)}{120000} - \\frac{161 \\varepsilon^{3} \\left(u - 2 u_{1}\\right)}{30000} + \\frac{161 \\varepsilon^{2} u_{1}}{15000} + \\frac{161 \\varepsilon \\left(u + 7 u_{1}\\right)}{120000} + \\frac{1449 u + 250 u_{tttttt}}{180000} - \\frac{161 \\left(u - 7 u_{1}\\right)}{120000 \\varepsilon} - \\frac{161 u_{1}}{15000 \\varepsilon^{2}} + \\frac{161 \\left(u + 2 u_{1}\\right)}{30000 \\varepsilon^{3}} - \\frac{161 \\cdot \\left(3 u + 4 u_{1}\\right)}{120000 \\varepsilon^{4}} + \\frac{161 \\left(u + u_{1}\\right)}{120000 \\varepsilon^{5}}\n",
      "\\big)\n"
     ]
    }
   ],
   "source": [
    "F1 = clip((T(u, 1)-T(u, 0))/h - T(r[0], 0))\n",
    "prn(F1, eps)\n",
    "prnlatex(F1, eps)"
   ]
  },
  {
   "cell_type": "code",
   "execution_count": 39,
   "id": "eb3b872c",
   "metadata": {
    "collapsed": true
   },
   "outputs": [
    {
     "name": "stdout",
     "output_type": "stream",
     "text": [
      "h^0 =>\n"
     ]
    },
    {
     "data": {
      "text/latex": [
       "$\\displaystyle \\varepsilon \\left(- u + u_{1}\\right) + u1_{t} + \\frac{u + u_{1}}{\\varepsilon}$"
      ],
      "text/plain": [
       "\\varepsilon*(-u + u1) + u1_{t} + (u + u1)/\\varepsilon"
      ]
     },
     "metadata": {},
     "output_type": "display_data"
    },
    {
     "name": "stdout",
     "output_type": "stream",
     "text": [
      "h^1 =>\n"
     ]
    },
    {
     "data": {
      "text/latex": [
       "$\\displaystyle \\frac{\\varepsilon^{2} \\left(u - u_{1}\\right)}{2} - \\frac{\\varepsilon u_{1}}{2} - \\frac{2 u_{1} - u1_{tt}}{2} + \\frac{u_{1}}{2 \\varepsilon} - \\frac{u + u_{1}}{2 \\varepsilon^{2}}$"
      ],
      "text/plain": [
       "\\varepsilon**2*(u - u1)/2 - \\varepsilon*u1/2 - (2*u1 - u1_{tt})/2 + u1/(2*\\varepsilon) - (u + u1)/(2*\\varepsilon**2)"
      ]
     },
     "metadata": {},
     "output_type": "display_data"
    },
    {
     "name": "stdout",
     "output_type": "stream",
     "text": [
      "h^2 =>\n"
     ]
    },
    {
     "data": {
      "text/latex": [
       "$\\displaystyle - \\frac{\\varepsilon^{3} \\left(u - u_{1}\\right)}{6} - \\frac{\\varepsilon^{2} \\left(u - 2 u_{1}\\right)}{6} - \\frac{\\varepsilon \\left(u - 3 u_{1}\\right)}{6} + \\frac{2 u + u1_{ttt}}{6} + \\frac{u + 3 u_{1}}{6 \\varepsilon} - \\frac{u + 2 u_{1}}{6 \\varepsilon^{2}} + \\frac{u + u_{1}}{6 \\varepsilon^{3}}$"
      ],
      "text/plain": [
       "-\\varepsilon**3*(u - u1)/6 - \\varepsilon**2*(u - 2*u1)/6 - \\varepsilon*(u - 3*u1)/6 + (2*u + u1_{ttt})/6 + (u + 3*u1)/(6*\\varepsilon) - (u + 2*u1)/(6*\\varepsilon**2) + (u + u1)/(6*\\varepsilon**3)"
      ]
     },
     "metadata": {},
     "output_type": "display_data"
    },
    {
     "name": "stdout",
     "output_type": "stream",
     "text": [
      "h^3 =>\n"
     ]
    },
    {
     "data": {
      "text/latex": [
       "$\\displaystyle \\frac{\\varepsilon^{4} \\left(u - u_{1}\\right)}{24} + \\frac{\\varepsilon^{3} \\cdot \\left(2 u - 3 u_{1}\\right)}{24} + \\frac{\\varepsilon^{2} \\cdot \\left(2 u - 5 u_{1}\\right)}{24} - \\frac{\\varepsilon \\left(2 u + 3 u_{1}\\right)}{24} - \\frac{4 u_{1} - u1_{tttt}}{24} - \\frac{2 u - 3 u_{1}}{24 \\varepsilon} - \\frac{2 u + 5 u_{1}}{24 \\varepsilon^{2}} + \\frac{2 u + 3 u_{1}}{24 \\varepsilon^{3}} - \\frac{u + u_{1}}{24 \\varepsilon^{4}}$"
      ],
      "text/plain": [
       "\\varepsilon**4*(u - u1)/24 + \\varepsilon**3*(2*u - 3*u1)/24 + \\varepsilon**2*(2*u - 5*u1)/24 - \\varepsilon*(2*u + 3*u1)/24 - (4*u1 - u1_{tttt})/24 - (2*u - 3*u1)/(24*\\varepsilon) - (2*u + 5*u1)/(24*\\varepsilon**2) + (2*u + 3*u1)/(24*\\varepsilon**3) - (u + u1)/(24*\\varepsilon**4)"
      ]
     },
     "metadata": {},
     "output_type": "display_data"
    },
    {
     "name": "stdout",
     "output_type": "stream",
     "text": [
      "h^4 =>\n"
     ]
    },
    {
     "data": {
      "text/latex": [
       "$\\displaystyle - \\frac{1097 \\varepsilon^{5} \\left(u - u_{1}\\right)}{120000} - \\frac{1097 \\varepsilon^{4} \\cdot \\left(3 u - 4 u_{1}\\right)}{120000} - \\frac{1097 \\varepsilon^{3} \\left(u - 2 u_{1}\\right)}{30000} + \\frac{1097 \\varepsilon^{2} u_{1}}{15000} + \\frac{1097 \\varepsilon \\left(u + 7 u_{1}\\right)}{120000} + \\frac{3291 u + 500 u1_{ttttt}}{60000} - \\frac{1097 \\left(u - 7 u_{1}\\right)}{120000 \\varepsilon} - \\frac{1097 u_{1}}{15000 \\varepsilon^{2}} + \\frac{1097 \\left(u + 2 u_{1}\\right)}{30000 \\varepsilon^{3}} - \\frac{1097 \\cdot \\left(3 u + 4 u_{1}\\right)}{120000 \\varepsilon^{4}} + \\frac{1097 \\left(u + u_{1}\\right)}{120000 \\varepsilon^{5}}$"
      ],
      "text/plain": [
       "-1097*\\varepsilon**5*(u - u1)/120000 - 1097*\\varepsilon**4*(3*u - 4*u1)/120000 - 1097*\\varepsilon**3*(u - 2*u1)/30000 + 1097*\\varepsilon**2*u1/15000 + 1097*\\varepsilon*(u + 7*u1)/120000 + (3291*u + 500*u1_{ttttt})/60000 - 1097*(u - 7*u1)/(120000*\\varepsilon) - 1097*u1/(15000*\\varepsilon**2) + 1097*(u + 2*u1)/(30000*\\varepsilon**3) - 1097*(3*u + 4*u1)/(120000*\\varepsilon**4) + 1097*(u + u1)/(120000*\\varepsilon**5)"
      ]
     },
     "metadata": {},
     "output_type": "display_data"
    },
    {
     "name": "stdout",
     "output_type": "stream",
     "text": [
      "h^5 =>\n"
     ]
    },
    {
     "data": {
      "text/latex": [
       "$\\displaystyle \\frac{161 \\varepsilon^{6} \\left(u - u_{1}\\right)}{120000} + \\frac{161 \\varepsilon^{5} \\cdot \\left(4 u - 5 u_{1}\\right)}{120000} + \\frac{161 \\varepsilon^{4} \\cdot \\left(7 u - 12 u_{1}\\right)}{120000} + \\frac{161 \\varepsilon^{3} \\left(u - 4 u_{1}\\right)}{30000} - \\frac{161 \\varepsilon^{2} \\left(u + 15 u_{1}\\right)}{120000} - \\frac{161 \\varepsilon \\left(8 u + 7 u_{1}\\right)}{120000} - \\frac{966 u_{1} - 125 u1_{tttttt}}{90000} - \\frac{161 \\cdot \\left(8 u - 7 u_{1}\\right)}{120000 \\varepsilon} + \\frac{161 \\left(u - 15 u_{1}\\right)}{120000 \\varepsilon^{2}} + \\frac{161 \\left(u + 4 u_{1}\\right)}{30000 \\varepsilon^{3}} - \\frac{161 \\cdot \\left(7 u + 12 u_{1}\\right)}{120000 \\varepsilon^{4}} + \\frac{161 \\cdot \\left(4 u + 5 u_{1}\\right)}{120000 \\varepsilon^{5}} - \\frac{161 \\left(u + u_{1}\\right)}{120000 \\varepsilon^{6}}$"
      ],
      "text/plain": [
       "161*\\varepsilon**6*(u - u1)/120000 + 161*\\varepsilon**5*(4*u - 5*u1)/120000 + 161*\\varepsilon**4*(7*u - 12*u1)/120000 + 161*\\varepsilon**3*(u - 4*u1)/30000 - 161*\\varepsilon**2*(u + 15*u1)/120000 - 161*\\varepsilon*(8*u + 7*u1)/120000 - (966*u1 - 125*u1_{tttttt})/90000 - 161*(8*u - 7*u1)/(120000*\\varepsilon) + 161*(u - 15*u1)/(120000*\\varepsilon**2) + 161*(u + 4*u1)/(30000*\\varepsilon**3) - 161*(7*u + 12*u1)/(120000*\\varepsilon**4) + 161*(4*u + 5*u1)/(120000*\\varepsilon**5) - 161*(u + u1)/(120000*\\varepsilon**6)"
      ]
     },
     "metadata": {},
     "output_type": "display_data"
    },
    {
     "name": "stdout",
     "output_type": "stream",
     "text": [
      "\\varepsilon \\left(- u + u_{1}\\right) + u1_{t} + \\frac{u + u_{1}}{\\varepsilon}\n",
      "+h\\big(\n",
      "\\frac{\\varepsilon^{2} \\left(u - u_{1}\\right)}{2} - \\frac{\\varepsilon u_{1}}{2} - \\frac{2 u_{1} - u1_{tt}}{2} + \\frac{u_{1}}{2 \\varepsilon} - \\frac{u + u_{1}}{2 \\varepsilon^{2}}\n",
      "\\big)\n",
      "+h^2\\big(\n",
      "- \\frac{\\varepsilon^{3} \\left(u - u_{1}\\right)}{6} - \\frac{\\varepsilon^{2} \\left(u - 2 u_{1}\\right)}{6} - \\frac{\\varepsilon \\left(u - 3 u_{1}\\right)}{6} + \\frac{2 u + u1_{ttt}}{6} + \\frac{u + 3 u_{1}}{6 \\varepsilon} - \\frac{u + 2 u_{1}}{6 \\varepsilon^{2}} + \\frac{u + u_{1}}{6 \\varepsilon^{3}}\n",
      "\\big)\n",
      "+h^3\\big(\n",
      "\\frac{\\varepsilon^{4} \\left(u - u_{1}\\right)}{24} + \\frac{\\varepsilon^{3} \\cdot \\left(2 u - 3 u_{1}\\right)}{24} + \\frac{\\varepsilon^{2} \\cdot \\left(2 u - 5 u_{1}\\right)}{24} - \\frac{\\varepsilon \\left(2 u + 3 u_{1}\\right)}{24} - \\frac{4 u_{1} - u1_{tttt}}{24} - \\frac{2 u - 3 u_{1}}{24 \\varepsilon} - \\frac{2 u + 5 u_{1}}{24 \\varepsilon^{2}} + \\frac{2 u + 3 u_{1}}{24 \\varepsilon^{3}} - \\frac{u + u_{1}}{24 \\varepsilon^{4}}\n",
      "\\big)\n",
      "+h^4\\big(\n",
      "- \\frac{1097 \\varepsilon^{5} \\left(u - u_{1}\\right)}{120000} - \\frac{1097 \\varepsilon^{4} \\cdot \\left(3 u - 4 u_{1}\\right)}{120000} - \\frac{1097 \\varepsilon^{3} \\left(u - 2 u_{1}\\right)}{30000} + \\frac{1097 \\varepsilon^{2} u_{1}}{15000} + \\frac{1097 \\varepsilon \\left(u + 7 u_{1}\\right)}{120000} + \\frac{3291 u + 500 u1_{ttttt}}{60000} - \\frac{1097 \\left(u - 7 u_{1}\\right)}{120000 \\varepsilon} - \\frac{1097 u_{1}}{15000 \\varepsilon^{2}} + \\frac{1097 \\left(u + 2 u_{1}\\right)}{30000 \\varepsilon^{3}} - \\frac{1097 \\cdot \\left(3 u + 4 u_{1}\\right)}{120000 \\varepsilon^{4}} + \\frac{1097 \\left(u + u_{1}\\right)}{120000 \\varepsilon^{5}}\n",
      "\\big)\n",
      "+h^5\\big(\n",
      "\\frac{161 \\varepsilon^{6} \\left(u - u_{1}\\right)}{120000} + \\frac{161 \\varepsilon^{5} \\cdot \\left(4 u - 5 u_{1}\\right)}{120000} + \\frac{161 \\varepsilon^{4} \\cdot \\left(7 u - 12 u_{1}\\right)}{120000} + \\frac{161 \\varepsilon^{3} \\left(u - 4 u_{1}\\right)}{30000} - \\frac{161 \\varepsilon^{2} \\left(u + 15 u_{1}\\right)}{120000} - \\frac{161 \\varepsilon \\left(8 u + 7 u_{1}\\right)}{120000} - \\frac{966 u_{1} - 125 u1_{tttttt}}{90000} - \\frac{161 \\cdot \\left(8 u - 7 u_{1}\\right)}{120000 \\varepsilon} + \\frac{161 \\left(u - 15 u_{1}\\right)}{120000 \\varepsilon^{2}} + \\frac{161 \\left(u + 4 u_{1}\\right)}{30000 \\varepsilon^{3}} - \\frac{161 \\cdot \\left(7 u + 12 u_{1}\\right)}{120000 \\varepsilon^{4}} + \\frac{161 \\cdot \\left(4 u + 5 u_{1}\\right)}{120000 \\varepsilon^{5}} - \\frac{161 \\left(u + u_{1}\\right)}{120000 \\varepsilon^{6}}\n",
      "\\big)\n"
     ]
    }
   ],
   "source": [
    "F2 = clip((T(u1, 1)-T(u1, 0))/h - T(r[1], 0))\n",
    "prn(F2, eps)\n",
    "prnlatex(F2, eps)"
   ]
  },
  {
   "cell_type": "code",
   "execution_count": 40,
   "id": "429bd8ca",
   "metadata": {
    "collapsed": true
   },
   "outputs": [
    {
     "name": "stdout",
     "output_type": "stream",
     "text": [
      "h^0 =>\n"
     ]
    },
    {
     "data": {
      "text/latex": [
       "$\\displaystyle - u_{1} + u_{t}$"
      ],
      "text/plain": [
       "-u1 + u_{t}"
      ]
     },
     "metadata": {},
     "output_type": "display_data"
    },
    {
     "name": "stdout",
     "output_type": "stream",
     "text": [
      "h^1 =>\n"
     ]
    },
    {
     "data": {
      "text/latex": [
       "$\\displaystyle 0$"
      ],
      "text/plain": [
       "0"
      ]
     },
     "metadata": {},
     "output_type": "display_data"
    },
    {
     "name": "stdout",
     "output_type": "stream",
     "text": [
      "h^2 =>\n"
     ]
    },
    {
     "data": {
      "text/latex": [
       "$\\displaystyle 0$"
      ],
      "text/plain": [
       "0"
      ]
     },
     "metadata": {},
     "output_type": "display_data"
    },
    {
     "name": "stdout",
     "output_type": "stream",
     "text": [
      "h^3 =>\n"
     ]
    },
    {
     "data": {
      "text/latex": [
       "$\\displaystyle 0$"
      ],
      "text/plain": [
       "0"
      ]
     },
     "metadata": {},
     "output_type": "display_data"
    },
    {
     "name": "stdout",
     "output_type": "stream",
     "text": [
      "h^4 =>\n"
     ]
    },
    {
     "data": {
      "text/latex": [
       "$\\displaystyle \\frac{97 \\varepsilon^{4} \\left(u - u_{1}\\right)}{120000} + \\frac{97 \\varepsilon^{3} \\cdot \\left(2 u - 3 u_{1}\\right)}{120000} + \\frac{97 \\varepsilon^{2} \\cdot \\left(2 u - 5 u_{1}\\right)}{120000} - \\frac{97 \\varepsilon \\left(2 u + 3 u_{1}\\right)}{120000} - \\frac{97 u_{1}}{30000} - \\frac{97 \\cdot \\left(2 u - 3 u_{1}\\right)}{120000 \\varepsilon} - \\frac{97 \\cdot \\left(2 u + 5 u_{1}\\right)}{120000 \\varepsilon^{2}} + \\frac{97 \\cdot \\left(2 u + 3 u_{1}\\right)}{120000 \\varepsilon^{3}} - \\frac{97 \\left(u + u_{1}\\right)}{120000 \\varepsilon^{4}}$"
      ],
      "text/plain": [
       "97*\\varepsilon**4*(u - u1)/120000 + 97*\\varepsilon**3*(2*u - 3*u1)/120000 + 97*\\varepsilon**2*(2*u - 5*u1)/120000 - 97*\\varepsilon*(2*u + 3*u1)/120000 - 97*u1/30000 - 97*(2*u - 3*u1)/(120000*\\varepsilon) - 97*(2*u + 5*u1)/(120000*\\varepsilon**2) + 97*(2*u + 3*u1)/(120000*\\varepsilon**3) - 97*(u + u1)/(120000*\\varepsilon**4)"
      ]
     },
     "metadata": {},
     "output_type": "display_data"
    },
    {
     "name": "stdout",
     "output_type": "stream",
     "text": [
      "h^5 =>\n"
     ]
    },
    {
     "data": {
      "text/latex": [
       "$\\displaystyle \\frac{77 \\varepsilon^{5} \\left(u - u_{1}\\right)}{90000} + \\frac{77 \\varepsilon^{4} \\cdot \\left(3 u - 4 u_{1}\\right)}{90000} + \\frac{77 \\varepsilon^{3} \\left(u - 2 u_{1}\\right)}{22500} - \\frac{77 \\varepsilon^{2} u_{1}}{11250} - \\frac{77 \\varepsilon \\left(u + 7 u_{1}\\right)}{90000} - \\frac{77 u}{15000} + \\frac{77 \\left(u - 7 u_{1}\\right)}{90000 \\varepsilon} + \\frac{77 u_{1}}{11250 \\varepsilon^{2}} - \\frac{77 \\left(u + 2 u_{1}\\right)}{22500 \\varepsilon^{3}} + \\frac{77 \\cdot \\left(3 u + 4 u_{1}\\right)}{90000 \\varepsilon^{4}} - \\frac{77 \\left(u + u_{1}\\right)}{90000 \\varepsilon^{5}}$"
      ],
      "text/plain": [
       "77*\\varepsilon**5*(u - u1)/90000 + 77*\\varepsilon**4*(3*u - 4*u1)/90000 + 77*\\varepsilon**3*(u - 2*u1)/22500 - 77*\\varepsilon**2*u1/11250 - 77*\\varepsilon*(u + 7*u1)/90000 - 77*u/15000 + 77*(u - 7*u1)/(90000*\\varepsilon) + 77*u1/(11250*\\varepsilon**2) - 77*(u + 2*u1)/(22500*\\varepsilon**3) + 77*(3*u + 4*u1)/(90000*\\varepsilon**4) - 77*(u + u1)/(90000*\\varepsilon**5)"
      ]
     },
     "metadata": {},
     "output_type": "display_data"
    },
    {
     "name": "stdout",
     "output_type": "stream",
     "text": [
      "- u_{1} + u_{t}\n",
      "+h\\big(\n",
      "0\n",
      "\\big)\n",
      "+h^2\\big(\n",
      "0\n",
      "\\big)\n",
      "+h^3\\big(\n",
      "0\n",
      "\\big)\n",
      "+h^4\\big(\n",
      "\\frac{97 \\varepsilon^{4} \\left(u - u_{1}\\right)}{120000} + \\frac{97 \\varepsilon^{3} \\cdot \\left(2 u - 3 u_{1}\\right)}{120000} + \\frac{97 \\varepsilon^{2} \\cdot \\left(2 u - 5 u_{1}\\right)}{120000} - \\frac{97 \\varepsilon \\left(2 u + 3 u_{1}\\right)}{120000} - \\frac{97 u_{1}}{30000} - \\frac{97 \\cdot \\left(2 u - 3 u_{1}\\right)}{120000 \\varepsilon} - \\frac{97 \\cdot \\left(2 u + 5 u_{1}\\right)}{120000 \\varepsilon^{2}} + \\frac{97 \\cdot \\left(2 u + 3 u_{1}\\right)}{120000 \\varepsilon^{3}} - \\frac{97 \\left(u + u_{1}\\right)}{120000 \\varepsilon^{4}}\n",
      "\\big)\n",
      "+h^5\\big(\n",
      "\\frac{77 \\varepsilon^{5} \\left(u - u_{1}\\right)}{90000} + \\frac{77 \\varepsilon^{4} \\cdot \\left(3 u - 4 u_{1}\\right)}{90000} + \\frac{77 \\varepsilon^{3} \\left(u - 2 u_{1}\\right)}{22500} - \\frac{77 \\varepsilon^{2} u_{1}}{11250} - \\frac{77 \\varepsilon \\left(u + 7 u_{1}\\right)}{90000} - \\frac{77 u}{15000} + \\frac{77 \\left(u - 7 u_{1}\\right)}{90000 \\varepsilon} + \\frac{77 u_{1}}{11250 \\varepsilon^{2}} - \\frac{77 \\left(u + 2 u_{1}\\right)}{22500 \\varepsilon^{3}} + \\frac{77 \\cdot \\left(3 u + 4 u_{1}\\right)}{90000 \\varepsilon^{4}} - \\frac{77 \\left(u + u_{1}\\right)}{90000 \\varepsilon^{5}}\n",
      "\\big)\n"
     ]
    }
   ],
   "source": [
    "f1 = NF(F1, [u.diff(t), u1.diff(t)], [F1, F2], head=False)\n",
    "prn(f1, eps)\n",
    "prnlatex(f1, eps)"
   ]
  },
  {
   "cell_type": "code",
   "execution_count": 41,
   "id": "29805c08",
   "metadata": {
    "collapsed": true
   },
   "outputs": [
    {
     "name": "stdout",
     "output_type": "stream",
     "text": [
      "h^0 =>\n"
     ]
    },
    {
     "data": {
      "text/latex": [
       "$\\displaystyle \\varepsilon \\left(- u + u_{1}\\right) + u1_{t} + \\frac{u + u_{1}}{\\varepsilon}$"
      ],
      "text/plain": [
       "\\varepsilon*(-u + u1) + u1_{t} + (u + u1)/\\varepsilon"
      ]
     },
     "metadata": {},
     "output_type": "display_data"
    },
    {
     "name": "stdout",
     "output_type": "stream",
     "text": [
      "h^1 =>\n"
     ]
    },
    {
     "data": {
      "text/latex": [
       "$\\displaystyle 0$"
      ],
      "text/plain": [
       "0"
      ]
     },
     "metadata": {},
     "output_type": "display_data"
    },
    {
     "name": "stdout",
     "output_type": "stream",
     "text": [
      "h^2 =>\n"
     ]
    },
    {
     "data": {
      "text/latex": [
       "$\\displaystyle 0$"
      ],
      "text/plain": [
       "0"
      ]
     },
     "metadata": {},
     "output_type": "display_data"
    },
    {
     "name": "stdout",
     "output_type": "stream",
     "text": [
      "h^3 =>\n"
     ]
    },
    {
     "data": {
      "text/latex": [
       "$\\displaystyle 0$"
      ],
      "text/plain": [
       "0"
      ]
     },
     "metadata": {},
     "output_type": "display_data"
    },
    {
     "name": "stdout",
     "output_type": "stream",
     "text": [
      "h^4 =>\n"
     ]
    },
    {
     "data": {
      "text/latex": [
       "$\\displaystyle - \\frac{97 \\varepsilon^{5} \\left(u - u_{1}\\right)}{120000} - \\frac{97 \\varepsilon^{4} \\cdot \\left(3 u - 4 u_{1}\\right)}{120000} - \\frac{97 \\varepsilon^{3} \\left(u - 2 u_{1}\\right)}{30000} + \\frac{97 \\varepsilon^{2} u_{1}}{15000} + \\frac{97 \\varepsilon \\left(u + 7 u_{1}\\right)}{120000} + \\frac{97 u}{20000} - \\frac{97 \\left(u - 7 u_{1}\\right)}{120000 \\varepsilon} - \\frac{97 u_{1}}{15000 \\varepsilon^{2}} + \\frac{97 \\left(u + 2 u_{1}\\right)}{30000 \\varepsilon^{3}} - \\frac{97 \\cdot \\left(3 u + 4 u_{1}\\right)}{120000 \\varepsilon^{4}} + \\frac{97 \\left(u + u_{1}\\right)}{120000 \\varepsilon^{5}}$"
      ],
      "text/plain": [
       "-97*\\varepsilon**5*(u - u1)/120000 - 97*\\varepsilon**4*(3*u - 4*u1)/120000 - 97*\\varepsilon**3*(u - 2*u1)/30000 + 97*\\varepsilon**2*u1/15000 + 97*\\varepsilon*(u + 7*u1)/120000 + 97*u/20000 - 97*(u - 7*u1)/(120000*\\varepsilon) - 97*u1/(15000*\\varepsilon**2) + 97*(u + 2*u1)/(30000*\\varepsilon**3) - 97*(3*u + 4*u1)/(120000*\\varepsilon**4) + 97*(u + u1)/(120000*\\varepsilon**5)"
      ]
     },
     "metadata": {},
     "output_type": "display_data"
    },
    {
     "name": "stdout",
     "output_type": "stream",
     "text": [
      "h^5 =>\n"
     ]
    },
    {
     "data": {
      "text/latex": [
       "$\\displaystyle - \\frac{77 \\varepsilon^{6} \\left(u - u_{1}\\right)}{90000} - \\frac{77 \\varepsilon^{5} \\cdot \\left(4 u - 5 u_{1}\\right)}{90000} - \\frac{77 \\varepsilon^{4} \\cdot \\left(7 u - 12 u_{1}\\right)}{90000} - \\frac{77 \\varepsilon^{3} \\left(u - 4 u_{1}\\right)}{22500} + \\frac{77 \\varepsilon^{2} \\left(u + 15 u_{1}\\right)}{90000} + \\frac{77 \\varepsilon \\left(8 u + 7 u_{1}\\right)}{90000} + \\frac{77 u_{1}}{11250} + \\frac{77 \\cdot \\left(8 u - 7 u_{1}\\right)}{90000 \\varepsilon} - \\frac{77 \\left(u - 15 u_{1}\\right)}{90000 \\varepsilon^{2}} - \\frac{77 \\left(u + 4 u_{1}\\right)}{22500 \\varepsilon^{3}} + \\frac{77 \\cdot \\left(7 u + 12 u_{1}\\right)}{90000 \\varepsilon^{4}} - \\frac{77 \\cdot \\left(4 u + 5 u_{1}\\right)}{90000 \\varepsilon^{5}} + \\frac{77 \\left(u + u_{1}\\right)}{90000 \\varepsilon^{6}}$"
      ],
      "text/plain": [
       "-77*\\varepsilon**6*(u - u1)/90000 - 77*\\varepsilon**5*(4*u - 5*u1)/90000 - 77*\\varepsilon**4*(7*u - 12*u1)/90000 - 77*\\varepsilon**3*(u - 4*u1)/22500 + 77*\\varepsilon**2*(u + 15*u1)/90000 + 77*\\varepsilon*(8*u + 7*u1)/90000 + 77*u1/11250 + 77*(8*u - 7*u1)/(90000*\\varepsilon) - 77*(u - 15*u1)/(90000*\\varepsilon**2) - 77*(u + 4*u1)/(22500*\\varepsilon**3) + 77*(7*u + 12*u1)/(90000*\\varepsilon**4) - 77*(4*u + 5*u1)/(90000*\\varepsilon**5) + 77*(u + u1)/(90000*\\varepsilon**6)"
      ]
     },
     "metadata": {},
     "output_type": "display_data"
    },
    {
     "name": "stdout",
     "output_type": "stream",
     "text": [
      "\\varepsilon \\left(- u + u_{1}\\right) + u1_{t} + \\frac{u + u_{1}}{\\varepsilon}\n",
      "+h\\big(\n",
      "0\n",
      "\\big)\n",
      "+h^2\\big(\n",
      "0\n",
      "\\big)\n",
      "+h^3\\big(\n",
      "0\n",
      "\\big)\n",
      "+h^4\\big(\n",
      "- \\frac{97 \\varepsilon^{5} \\left(u - u_{1}\\right)}{120000} - \\frac{97 \\varepsilon^{4} \\cdot \\left(3 u - 4 u_{1}\\right)}{120000} - \\frac{97 \\varepsilon^{3} \\left(u - 2 u_{1}\\right)}{30000} + \\frac{97 \\varepsilon^{2} u_{1}}{15000} + \\frac{97 \\varepsilon \\left(u + 7 u_{1}\\right)}{120000} + \\frac{97 u}{20000} - \\frac{97 \\left(u - 7 u_{1}\\right)}{120000 \\varepsilon} - \\frac{97 u_{1}}{15000 \\varepsilon^{2}} + \\frac{97 \\left(u + 2 u_{1}\\right)}{30000 \\varepsilon^{3}} - \\frac{97 \\cdot \\left(3 u + 4 u_{1}\\right)}{120000 \\varepsilon^{4}} + \\frac{97 \\left(u + u_{1}\\right)}{120000 \\varepsilon^{5}}\n",
      "\\big)\n",
      "+h^5\\big(\n",
      "- \\frac{77 \\varepsilon^{6} \\left(u - u_{1}\\right)}{90000} - \\frac{77 \\varepsilon^{5} \\cdot \\left(4 u - 5 u_{1}\\right)}{90000} - \\frac{77 \\varepsilon^{4} \\cdot \\left(7 u - 12 u_{1}\\right)}{90000} - \\frac{77 \\varepsilon^{3} \\left(u - 4 u_{1}\\right)}{22500} + \\frac{77 \\varepsilon^{2} \\left(u + 15 u_{1}\\right)}{90000} + \\frac{77 \\varepsilon \\left(8 u + 7 u_{1}\\right)}{90000} + \\frac{77 u_{1}}{11250} + \\frac{77 \\cdot \\left(8 u - 7 u_{1}\\right)}{90000 \\varepsilon} - \\frac{77 \\left(u - 15 u_{1}\\right)}{90000 \\varepsilon^{2}} - \\frac{77 \\left(u + 4 u_{1}\\right)}{22500 \\varepsilon^{3}} + \\frac{77 \\cdot \\left(7 u + 12 u_{1}\\right)}{90000 \\varepsilon^{4}} - \\frac{77 \\cdot \\left(4 u + 5 u_{1}\\right)}{90000 \\varepsilon^{5}} + \\frac{77 \\left(u + u_{1}\\right)}{90000 \\varepsilon^{6}}\n",
      "\\big)\n"
     ]
    }
   ],
   "source": [
    "f2 = NF(F2, [u.diff(t), u1.diff(t)], [F1, F2], head=False)\n",
    "prn(f2, eps)\n",
    "prnlatex(f2, eps)"
   ]
  }
 ],
 "metadata": {
  "kernelspec": {
   "display_name": "Python 3 (ipykernel)",
   "language": "python",
   "name": "python3"
  },
  "language_info": {
   "codemirror_mode": {
    "name": "ipython",
    "version": 3
   },
   "file_extension": ".py",
   "mimetype": "text/x-python",
   "name": "python",
   "nbconvert_exporter": "python",
   "pygments_lexer": "ipython3",
   "version": "3.10.7"
  }
 },
 "nbformat": 4,
 "nbformat_minor": 5
}
