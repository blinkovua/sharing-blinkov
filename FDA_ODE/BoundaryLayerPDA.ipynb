{
 "cells": [
  {
   "cell_type": "code",
   "execution_count": 1,
   "id": "8c54cd9a",
   "metadata": {},
   "outputs": [],
   "source": [
    "%run Runge_Adams_FDA.ipynb"
   ]
  },
  {
   "cell_type": "code",
   "execution_count": 2,
   "id": "96af006f",
   "metadata": {},
   "outputs": [],
   "source": [
    "eps, t, h, a, b = symbols(r'\\varepsilon, t, h, alpha beta', real=True)\n",
    "u, u1 = symbols('u, u1', cls=Function)"
   ]
  },
  {
   "cell_type": "code",
   "execution_count": 3,
   "id": "8bdd1c15",
   "metadata": {},
   "outputs": [
    {
     "name": "stdout",
     "output_type": "stream",
     "text": [
      "\\varepsilon \\frac{d^{2}}{d t^{2}} u{\\left(t \\right)} + \\left(1 - \\varepsilon^{2}\\right) u{\\left(t \\right)} + \\left(\\varepsilon^{2} + 1\\right) \\frac{d}{d t} u{\\left(t \\right)}\n"
     ]
    }
   ],
   "source": [
    "eq = eps*u(t).diff(t, 2) + (1 + eps**2)*u(t).diff(t) + (1 - eps**2)*u(t)\n",
    "print(latex(eq))"
   ]
  },
  {
   "cell_type": "markdown",
   "id": "adf6159b",
   "metadata": {},
   "source": [
    "## Nayfeh A. H. Introduction to Perturbation Techniques, Wiley-VCH, 1st edition, 1993. 536 p."
   ]
  },
  {
   "cell_type": "code",
   "execution_count": 4,
   "id": "d5eb6dcc",
   "metadata": {},
   "outputs": [
    {
     "name": "stdout",
     "output_type": "stream",
     "text": [
      "(-exp(t/\\varepsilon) + exp(t*(\\varepsilon + 2)))*exp(-\\varepsilon*t + \\varepsilon - t + 1 - t/\\varepsilon + 1/\\varepsilon)/(-exp(1/\\varepsilon) + exp(\\varepsilon + 2))\n"
     ]
    }
   ],
   "source": [
    "s = dsolve(eq, u(t), ics={u(t).subs(t, 0): 0, u(t).subs(t, 1): 1})\n",
    "print(s.args[1].expand().simplify())"
   ]
  },
  {
   "cell_type": "code",
   "execution_count": 5,
   "id": "dbeb7135",
   "metadata": {},
   "outputs": [],
   "source": [
    "sol = {u(t): s.args[1], u1(t): s.args[1].diff(t)}"
   ]
  },
  {
   "cell_type": "code",
   "execution_count": 6,
   "id": "3aed2bf9",
   "metadata": {},
   "outputs": [
    {
     "name": "stdout",
     "output_type": "stream",
     "text": [
      "E*(exp(2*t)*exp(\\varepsilon*t) - exp(t/\\varepsilon))*exp(1/\\varepsilon)*exp(\\varepsilon)*exp(-t)*exp(-t/\\varepsilon)*exp(-\\varepsilon*t)/(-exp(1/\\varepsilon) + exp(2)*exp(\\varepsilon))\n"
     ]
    }
   ],
   "source": [
    "print(s.args[1].expand().factor())"
   ]
  },
  {
   "cell_type": "code",
   "execution_count": 7,
   "id": "a98d8afe",
   "metadata": {},
   "outputs": [
    {
     "data": {
      "text/latex": [
       "$\\displaystyle \\frac{e \\left(\\varepsilon^{2} + 2 \\varepsilon - 1\\right) e^{\\frac{1}{\\varepsilon}} e^{\\varepsilon}}{\\varepsilon \\left(- e^{\\frac{1}{\\varepsilon}} + e^{2} e^{\\varepsilon}\\right)}$"
      ],
      "text/plain": [
       "E*(\\varepsilon**2 + 2*\\varepsilon - 1)*exp(1/\\varepsilon)*exp(\\varepsilon)/(\\varepsilon*(-exp(1/\\varepsilon) + exp(2)*exp(\\varepsilon)))"
      ]
     },
     "execution_count": 7,
     "metadata": {},
     "output_type": "execute_result"
    }
   ],
   "source": [
    "s.args[1].diff(t).subs(t, 0).expand().factor()"
   ]
  },
  {
   "cell_type": "code",
   "execution_count": 8,
   "id": "9e9f7549",
   "metadata": {},
   "outputs": [
    {
     "name": "stdout",
     "output_type": "stream",
     "text": [
      "\\frac{e \\left(\\varepsilon^{2} + 2 \\varepsilon - 1\\right) e^{\\frac{1}{\\varepsilon}} e^{\\varepsilon}}{\\varepsilon \\left(- e^{\\frac{1}{\\varepsilon}} + e^{2} e^{\\varepsilon}\\right)}\n"
     ]
    }
   ],
   "source": [
    "print(latex(s.args[1].diff(t).subs(t, 0).expand().factor()))"
   ]
  },
  {
   "cell_type": "code",
   "execution_count": 9,
   "id": "157dea20",
   "metadata": {},
   "outputs": [
    {
     "name": "stdout",
     "output_type": "stream",
     "text": [
      "M_E*(pow(\\varepsilon, 2) + 2*\\varepsilon - 1)*exp(1.0/\\varepsilon)*exp(\\varepsilon)/(\\varepsilon*(-exp(1.0/\\varepsilon) + exp(2)*exp(\\varepsilon)))\n"
     ]
    }
   ],
   "source": [
    "print(ccode(s.args[1].diff(t).subs(t, 0).expand().factor()))"
   ]
  },
  {
   "cell_type": "code",
   "execution_count": 10,
   "id": "2119f3ef",
   "metadata": {},
   "outputs": [],
   "source": [
    "init((u(t), u1(t)), t, h)"
   ]
  },
  {
   "cell_type": "code",
   "execution_count": 11,
   "id": "3c0d2dd6",
   "metadata": {},
   "outputs": [],
   "source": [
    "set_clip(8, 7, Rational(0, 1))"
   ]
  },
  {
   "cell_type": "code",
   "execution_count": 12,
   "id": "97ec119d",
   "metadata": {},
   "outputs": [
    {
     "data": {
      "text/latex": [
       "$\\displaystyle \\frac{h^{6} \\frac{d^{7}}{d t^{7}} u{\\left(t \\right)}}{5040} + \\frac{h^{4} \\frac{d^{5}}{d t^{5}} u{\\left(t \\right)}}{120} + \\frac{h^{2} \\frac{d^{3}}{d t^{3}} u{\\left(t \\right)}}{6} + \\frac{d}{d t} u{\\left(t \\right)}$"
      ],
      "text/plain": [
       "h**6*Derivative(u(t), (t, 7))/5040 + h**4*Derivative(u(t), (t, 5))/120 + h**2*Derivative(u(t), (t, 3))/6 + Derivative(u(t), t)"
      ]
     },
     "execution_count": 12,
     "metadata": {},
     "output_type": "execute_result"
    }
   ],
   "source": [
    "expand((T(u(t+h))-T(u(t-h)))/(2*h))"
   ]
  },
  {
   "cell_type": "code",
   "execution_count": 13,
   "id": "3b62c86a",
   "metadata": {},
   "outputs": [],
   "source": [
    "def g(y):\n",
    "    return Matrix([\\\n",
    "        y[1],\\\n",
    "        -((1 + eps**2)*y[1] + (1 - eps**2)*y[0])/eps,\\\n",
    "    ])\n",
    "    \n",
    "def f(y):\n",
    "    return Matrix([\\\n",
    "        clip_n(y[1]),\\\n",
    "        clip_n(-((1 + eps**2)*y[1] + (1 - eps**2)*y[0])/eps),\\\n",
    "    ])\n",
    "\n",
    "s = (('u(t)', 'y[0]'), ('u1(t)', 'y[1]'), (r'\\varepsilon', 'eps'))\n",
    "def replace(r):\n",
    "    for a, b in s:\n",
    "        r = r.replace(a, b)\n",
    "    return r"
   ]
  },
  {
   "cell_type": "code",
   "execution_count": 14,
   "id": "9a9d2a45",
   "metadata": {},
   "outputs": [],
   "source": [
    "start = time.time()"
   ]
  },
  {
   "cell_type": "markdown",
   "id": "6103b020",
   "metadata": {},
   "source": [
    "## Gauss–Legendre method"
   ]
  },
  {
   "cell_type": "code",
   "execution_count": 15,
   "id": "cb9b077c",
   "metadata": {},
   "outputs": [],
   "source": [
    "set_clip(5, 4, Rational(0, 1))\n",
    "r = GaussLegendre2(f, Matrix([u(t), u1(t)]))"
   ]
  },
  {
   "cell_type": "code",
   "execution_count": 16,
   "id": "59d9e24b",
   "metadata": {},
   "outputs": [
    {
     "name": "stdout",
     "output_type": "stream",
     "text": [
      "h^0 =>\n"
     ]
    },
    {
     "data": {
      "text/latex": [
       "$\\displaystyle - u_{1} + u_{t}$"
      ],
      "text/plain": [
       "-u1 + u_{t}"
      ]
     },
     "metadata": {},
     "output_type": "display_data"
    },
    {
     "name": "stdout",
     "output_type": "stream",
     "text": [
      "h^1 =>\n"
     ]
    },
    {
     "data": {
      "text/latex": [
       "$\\displaystyle \\frac{u_{tt}}{2}$"
      ],
      "text/plain": [
       "u_{tt}/2"
      ]
     },
     "metadata": {},
     "output_type": "display_data"
    },
    {
     "name": "stdout",
     "output_type": "stream",
     "text": [
      "h^2 =>\n"
     ]
    },
    {
     "data": {
      "text/latex": [
       "$\\displaystyle \\frac{u_{ttt}}{6}$"
      ],
      "text/plain": [
       "u_{ttt}/6"
      ]
     },
     "metadata": {},
     "output_type": "display_data"
    },
    {
     "name": "stdout",
     "output_type": "stream",
     "text": [
      "h^3 =>\n"
     ]
    },
    {
     "data": {
      "text/latex": [
       "$\\displaystyle \\frac{u_{tttt}}{24}$"
      ],
      "text/plain": [
       "u_{tttt}/24"
      ]
     },
     "metadata": {},
     "output_type": "display_data"
    },
    {
     "name": "stdout",
     "output_type": "stream",
     "text": [
      "- u_{1} + u_{t}\n",
      "+h\\left(\n",
      "\\frac{u_{tt}}{2}\n",
      "\\right)\n",
      "+h^2\\left(\n",
      "\\frac{u_{ttt}}{6}\n",
      "\\right)\n",
      "+h^3\\left(\n",
      "\\frac{u_{tttt}}{24}\n",
      "\\right)\n"
     ]
    }
   ],
   "source": [
    "F1 = clip((T(u(t+h))-T(u(t)))/h - T(r[0]))\n",
    "prn(F1, eps)\n",
    "prnlatex(F1, eps)"
   ]
  },
  {
   "cell_type": "code",
   "execution_count": 17,
   "id": "841602b7",
   "metadata": {},
   "outputs": [
    {
     "name": "stdout",
     "output_type": "stream",
     "text": [
      "h^0 =>\n"
     ]
    },
    {
     "data": {
      "text/latex": [
       "$\\displaystyle \\varepsilon \\left(- u + u_{1}\\right) + u1_{t} + \\frac{u + u_{1}}{\\varepsilon}$"
      ],
      "text/plain": [
       "\\varepsilon*(-u + u1) + u1_{t} + (u + u1)/\\varepsilon"
      ]
     },
     "metadata": {},
     "output_type": "display_data"
    },
    {
     "name": "stdout",
     "output_type": "stream",
     "text": [
      "h^1 =>\n"
     ]
    },
    {
     "data": {
      "text/latex": [
       "$\\displaystyle \\frac{u1_{tt}}{2}$"
      ],
      "text/plain": [
       "u1_{tt}/2"
      ]
     },
     "metadata": {},
     "output_type": "display_data"
    },
    {
     "name": "stdout",
     "output_type": "stream",
     "text": [
      "h^2 =>\n"
     ]
    },
    {
     "data": {
      "text/latex": [
       "$\\displaystyle \\frac{u1_{ttt}}{6}$"
      ],
      "text/plain": [
       "u1_{ttt}/6"
      ]
     },
     "metadata": {},
     "output_type": "display_data"
    },
    {
     "name": "stdout",
     "output_type": "stream",
     "text": [
      "h^3 =>\n"
     ]
    },
    {
     "data": {
      "text/latex": [
       "$\\displaystyle \\frac{u1_{tttt}}{24}$"
      ],
      "text/plain": [
       "u1_{tttt}/24"
      ]
     },
     "metadata": {},
     "output_type": "display_data"
    },
    {
     "name": "stdout",
     "output_type": "stream",
     "text": [
      "\\varepsilon \\left(- u + u_{1}\\right) + u1_{t} + \\frac{u + u_{1}}{\\varepsilon}\n",
      "+h\\left(\n",
      "\\frac{u1_{tt}}{2}\n",
      "\\right)\n",
      "+h^2\\left(\n",
      "\\frac{u1_{ttt}}{6}\n",
      "\\right)\n",
      "+h^3\\left(\n",
      "\\frac{u1_{tttt}}{24}\n",
      "\\right)\n"
     ]
    }
   ],
   "source": [
    "F2 = clip((T(u1(t+h))-T(u1(t)))/h - T(r[1]))\n",
    "prn(F2, eps)\n",
    "prnlatex(F2, eps)"
   ]
  },
  {
   "cell_type": "code",
   "execution_count": 18,
   "id": "008c45da",
   "metadata": {},
   "outputs": [
    {
     "name": "stdout",
     "output_type": "stream",
     "text": [
      "h^0 =>\n"
     ]
    },
    {
     "data": {
      "text/latex": [
       "$\\displaystyle - u_{1} + u_{t}$"
      ],
      "text/plain": [
       "-u1 + u_{t}"
      ]
     },
     "metadata": {},
     "output_type": "display_data"
    },
    {
     "name": "stdout",
     "output_type": "stream",
     "text": [
      "h^1 =>\n"
     ]
    },
    {
     "data": {
      "text/latex": [
       "$\\displaystyle \\frac{\\varepsilon \\left(u - u_{1}\\right)}{2} - \\frac{u + u_{1}}{2 \\varepsilon}$"
      ],
      "text/plain": [
       "\\varepsilon*(u - u1)/2 - (u + u1)/(2*\\varepsilon)"
      ]
     },
     "metadata": {},
     "output_type": "display_data"
    },
    {
     "name": "stdout",
     "output_type": "stream",
     "text": [
      "h^2 =>\n"
     ]
    },
    {
     "data": {
      "text/latex": [
       "$\\displaystyle \\frac{\\varepsilon^{2} \\left(u - u_{1}\\right)}{3} - \\frac{\\varepsilon u_{1}}{3} - \\frac{2 u_{1}}{3} + \\frac{u_{1}}{3 \\varepsilon} - \\frac{u + u_{1}}{3 \\varepsilon^{2}}$"
      ],
      "text/plain": [
       "\\varepsilon**2*(u - u1)/3 - \\varepsilon*u1/3 - 2*u1/3 + u1/(3*\\varepsilon) - (u + u1)/(3*\\varepsilon**2)"
      ]
     },
     "metadata": {},
     "output_type": "display_data"
    },
    {
     "name": "stdout",
     "output_type": "stream",
     "text": [
      "h^3 =>\n"
     ]
    },
    {
     "data": {
      "text/latex": [
       "$\\displaystyle \\frac{\\varepsilon^{3} \\left(u - u_{1}\\right)}{4} + \\frac{\\varepsilon^{2} \\left(u - 2 u_{1}\\right)}{4} + \\frac{\\varepsilon \\left(u - 3 u_{1}\\right)}{4} - \\frac{u}{2} - \\frac{u + 3 u_{1}}{4 \\varepsilon} + \\frac{u + 2 u_{1}}{4 \\varepsilon^{2}} - \\frac{u + u_{1}}{4 \\varepsilon^{3}}$"
      ],
      "text/plain": [
       "\\varepsilon**3*(u - u1)/4 + \\varepsilon**2*(u - 2*u1)/4 + \\varepsilon*(u - 3*u1)/4 - u/2 - (u + 3*u1)/(4*\\varepsilon) + (u + 2*u1)/(4*\\varepsilon**2) - (u + u1)/(4*\\varepsilon**3)"
      ]
     },
     "metadata": {},
     "output_type": "display_data"
    },
    {
     "name": "stdout",
     "output_type": "stream",
     "text": [
      "- u_{1} + u_{t}\n",
      "+h\\left(\n",
      "\\frac{\\varepsilon \\left(u - u_{1}\\right)}{2} - \\frac{u + u_{1}}{2 \\varepsilon}\n",
      "\\right)\n",
      "+h^2\\left(\n",
      "\\frac{\\varepsilon^{2} \\left(u - u_{1}\\right)}{3} - \\frac{\\varepsilon u_{1}}{3} - \\frac{2 u_{1}}{3} + \\frac{u_{1}}{3 \\varepsilon} - \\frac{u + u_{1}}{3 \\varepsilon^{2}}\n",
      "\\right)\n",
      "+h^3\\left(\n",
      "\\frac{\\varepsilon^{3} \\left(u - u_{1}\\right)}{4} + \\frac{\\varepsilon^{2} \\left(u - 2 u_{1}\\right)}{4} + \\frac{\\varepsilon \\left(u - 3 u_{1}\\right)}{4} - \\frac{u}{2} - \\frac{u + 3 u_{1}}{4 \\varepsilon} + \\frac{u + 2 u_{1}}{4 \\varepsilon^{2}} - \\frac{u + u_{1}}{4 \\varepsilon^{3}}\n",
      "\\right)\n"
     ]
    }
   ],
   "source": [
    "f1 = NF(F1, [u(t).diff(t), u1(t).diff(t)], [F1, F2], head=False)\n",
    "prn(f1, eps)\n",
    "prnlatex(f1, eps)"
   ]
  },
  {
   "cell_type": "code",
   "execution_count": 19,
   "id": "844d1e32",
   "metadata": {},
   "outputs": [
    {
     "name": "stdout",
     "output_type": "stream",
     "text": [
      "h^0 =>\n"
     ]
    },
    {
     "data": {
      "text/latex": [
       "$\\displaystyle \\varepsilon \\left(- u + u_{1}\\right) + u1_{t} + \\frac{u + u_{1}}{\\varepsilon}$"
      ],
      "text/plain": [
       "\\varepsilon*(-u + u1) + u1_{t} + (u + u1)/\\varepsilon"
      ]
     },
     "metadata": {},
     "output_type": "display_data"
    },
    {
     "name": "stdout",
     "output_type": "stream",
     "text": [
      "h^1 =>\n"
     ]
    },
    {
     "data": {
      "text/latex": [
       "$\\displaystyle - \\frac{\\varepsilon^{2} \\left(u - u_{1}\\right)}{2} + \\frac{\\varepsilon u_{1}}{2} + u_{1} - \\frac{u_{1}}{2 \\varepsilon} + \\frac{u + u_{1}}{2 \\varepsilon^{2}}$"
      ],
      "text/plain": [
       "-\\varepsilon**2*(u - u1)/2 + \\varepsilon*u1/2 + u1 - u1/(2*\\varepsilon) + (u + u1)/(2*\\varepsilon**2)"
      ]
     },
     "metadata": {},
     "output_type": "display_data"
    },
    {
     "name": "stdout",
     "output_type": "stream",
     "text": [
      "h^2 =>\n"
     ]
    },
    {
     "data": {
      "text/latex": [
       "$\\displaystyle - \\frac{\\varepsilon^{3} \\left(u - u_{1}\\right)}{3} - \\frac{\\varepsilon^{2} \\left(u - 2 u_{1}\\right)}{3} - \\frac{\\varepsilon \\left(u - 3 u_{1}\\right)}{3} + \\frac{2 u}{3} + \\frac{u + 3 u_{1}}{3 \\varepsilon} - \\frac{u + 2 u_{1}}{3 \\varepsilon^{2}} + \\frac{u + u_{1}}{3 \\varepsilon^{3}}$"
      ],
      "text/plain": [
       "-\\varepsilon**3*(u - u1)/3 - \\varepsilon**2*(u - 2*u1)/3 - \\varepsilon*(u - 3*u1)/3 + 2*u/3 + (u + 3*u1)/(3*\\varepsilon) - (u + 2*u1)/(3*\\varepsilon**2) + (u + u1)/(3*\\varepsilon**3)"
      ]
     },
     "metadata": {},
     "output_type": "display_data"
    },
    {
     "name": "stdout",
     "output_type": "stream",
     "text": [
      "h^3 =>\n"
     ]
    },
    {
     "data": {
      "text/latex": [
       "$\\displaystyle - \\frac{\\varepsilon^{4} \\left(u - u_{1}\\right)}{4} - \\frac{\\varepsilon^{3} \\left(2 u - 3 u_{1}\\right)}{4} - \\frac{\\varepsilon^{2} \\left(2 u - 5 u_{1}\\right)}{4} + \\frac{\\varepsilon \\left(2 u + 3 u_{1}\\right)}{4} + u_{1} + \\frac{2 u - 3 u_{1}}{4 \\varepsilon} + \\frac{2 u + 5 u_{1}}{4 \\varepsilon^{2}} - \\frac{2 u + 3 u_{1}}{4 \\varepsilon^{3}} + \\frac{u + u_{1}}{4 \\varepsilon^{4}}$"
      ],
      "text/plain": [
       "-\\varepsilon**4*(u - u1)/4 - \\varepsilon**3*(2*u - 3*u1)/4 - \\varepsilon**2*(2*u - 5*u1)/4 + \\varepsilon*(2*u + 3*u1)/4 + u1 + (2*u - 3*u1)/(4*\\varepsilon) + (2*u + 5*u1)/(4*\\varepsilon**2) - (2*u + 3*u1)/(4*\\varepsilon**3) + (u + u1)/(4*\\varepsilon**4)"
      ]
     },
     "metadata": {},
     "output_type": "display_data"
    },
    {
     "name": "stdout",
     "output_type": "stream",
     "text": [
      "\\varepsilon \\left(- u + u_{1}\\right) + u1_{t} + \\frac{u + u_{1}}{\\varepsilon}\n",
      "+h\\left(\n",
      "- \\frac{\\varepsilon^{2} \\left(u - u_{1}\\right)}{2} + \\frac{\\varepsilon u_{1}}{2} + u_{1} - \\frac{u_{1}}{2 \\varepsilon} + \\frac{u + u_{1}}{2 \\varepsilon^{2}}\n",
      "\\right)\n",
      "+h^2\\left(\n",
      "- \\frac{\\varepsilon^{3} \\left(u - u_{1}\\right)}{3} - \\frac{\\varepsilon^{2} \\left(u - 2 u_{1}\\right)}{3} - \\frac{\\varepsilon \\left(u - 3 u_{1}\\right)}{3} + \\frac{2 u}{3} + \\frac{u + 3 u_{1}}{3 \\varepsilon} - \\frac{u + 2 u_{1}}{3 \\varepsilon^{2}} + \\frac{u + u_{1}}{3 \\varepsilon^{3}}\n",
      "\\right)\n",
      "+h^3\\left(\n",
      "- \\frac{\\varepsilon^{4} \\left(u - u_{1}\\right)}{4} - \\frac{\\varepsilon^{3} \\left(2 u - 3 u_{1}\\right)}{4} - \\frac{\\varepsilon^{2} \\left(2 u - 5 u_{1}\\right)}{4} + \\frac{\\varepsilon \\left(2 u + 3 u_{1}\\right)}{4} + u_{1} + \\frac{2 u - 3 u_{1}}{4 \\varepsilon} + \\frac{2 u + 5 u_{1}}{4 \\varepsilon^{2}} - \\frac{2 u + 3 u_{1}}{4 \\varepsilon^{3}} + \\frac{u + u_{1}}{4 \\varepsilon^{4}}\n",
      "\\right)\n"
     ]
    }
   ],
   "source": [
    "f2 = NF(F2, [u(t).diff(t), u1(t).diff(t)], [F1, F2], head=False)\n",
    "prn(f2, eps)\n",
    "prnlatex(f2, eps)"
   ]
  },
  {
   "cell_type": "code",
   "execution_count": 20,
   "id": "61685597",
   "metadata": {},
   "outputs": [
    {
     "data": {
      "text/latex": [
       "$\\displaystyle \\frac{\\left(- \\varepsilon^{6} e^{\\frac{t}{\\varepsilon}} - 3 \\varepsilon^{5} e^{\\frac{t}{\\varepsilon}} - 3 \\varepsilon^{4} e^{\\frac{t}{\\varepsilon}} - \\varepsilon^{3} e^{\\frac{t}{\\varepsilon}} - \\varepsilon^{3} e^{t \\left(\\varepsilon + 2\\right)} + 3 \\varepsilon^{2} e^{t \\left(\\varepsilon + 2\\right)} - 3 \\varepsilon e^{t \\left(\\varepsilon + 2\\right)} + e^{t \\left(\\varepsilon + 2\\right)}\\right) e^{- \\varepsilon t + \\varepsilon - t + 1 - \\frac{t}{\\varepsilon} + \\frac{1}{\\varepsilon}}}{3 \\varepsilon^{3} \\left(- e^{\\frac{1}{\\varepsilon}} + e^{\\varepsilon + 2}\\right)}$"
      ],
      "text/plain": [
       "(-\\varepsilon**6*exp(t/\\varepsilon) - 3*\\varepsilon**5*exp(t/\\varepsilon) - 3*\\varepsilon**4*exp(t/\\varepsilon) - \\varepsilon**3*exp(t/\\varepsilon) - \\varepsilon**3*exp(t*(\\varepsilon + 2)) + 3*\\varepsilon**2*exp(t*(\\varepsilon + 2)) - 3*\\varepsilon*exp(t*(\\varepsilon + 2)) + exp(t*(\\varepsilon + 2)))*exp(-\\varepsilon*t + \\varepsilon - t + 1 - t/\\varepsilon + 1/\\varepsilon)/(3*\\varepsilon**3*(-exp(1/\\varepsilon) + exp(\\varepsilon + 2)))"
      ]
     },
     "execution_count": 20,
     "metadata": {},
     "output_type": "execute_result"
    }
   ],
   "source": [
    "f1[2].subs(sol).expand().simplify()"
   ]
  },
  {
   "cell_type": "code",
   "execution_count": 21,
   "id": "9a5c214e",
   "metadata": {},
   "outputs": [
    {
     "data": {
      "text/latex": [
       "$\\displaystyle \\frac{\\left(\\varepsilon^{3} \\left(- e^{\\frac{2 \\varepsilon^{2} + \\varepsilon \\left(\\varepsilon^{2} + 2 \\varepsilon - 1\\right) + \\varepsilon \\log{\\left(\\frac{\\varepsilon^{4} - 4 \\varepsilon^{3} + 6 \\varepsilon^{2} - 4 \\varepsilon + 1}{\\varepsilon^{4} \\left(\\varepsilon^{4} + 4 \\varepsilon^{3} + 6 \\varepsilon^{2} + 4 \\varepsilon + 1\\right)} \\right)} + 4 \\varepsilon - 2}{\\varepsilon^{2} + 2 \\varepsilon - 1}} + e^{\\frac{\\varepsilon^{2} \\log{\\left(\\frac{\\varepsilon^{4} - 4 \\varepsilon^{3} + 6 \\varepsilon^{2} - 4 \\varepsilon + 1}{\\varepsilon^{4} \\left(\\varepsilon^{4} + 4 \\varepsilon^{3} + 6 \\varepsilon^{2} + 4 \\varepsilon + 1\\right)} \\right)} + \\varepsilon^{2} + 2 \\varepsilon - 1}{\\varepsilon \\left(\\varepsilon^{2} + 2 \\varepsilon - 1\\right)}}\\right) \\left(\\varepsilon^{3} + 3 \\varepsilon^{2} + 3 \\varepsilon + 1\\right) e^{\\frac{\\varepsilon^{3} \\log{\\left(\\frac{\\varepsilon^{4} - 4 \\varepsilon^{3} + 6 \\varepsilon^{2} - 4 \\varepsilon + 1}{\\varepsilon^{4} \\left(\\varepsilon^{4} + 4 \\varepsilon^{3} + 6 \\varepsilon^{2} + 4 \\varepsilon + 1\\right)} \\right)} + \\varepsilon^{2} \\left(\\varepsilon^{2} + 2 \\varepsilon - 1\\right) + \\varepsilon^{2} \\log{\\left(\\frac{\\varepsilon^{4} - 4 \\varepsilon^{3} + 6 \\varepsilon^{2} - 4 \\varepsilon + 1}{\\varepsilon^{4} \\left(\\varepsilon^{4} + 4 \\varepsilon^{3} + 6 \\varepsilon^{2} + 4 \\varepsilon + 1\\right)} \\right)} + \\varepsilon^{2} + \\varepsilon \\left(\\varepsilon^{2} + 2 \\varepsilon - 1\\right) + 2 \\varepsilon - 1}{\\varepsilon \\left(\\varepsilon^{2} + 2 \\varepsilon - 1\\right)}} + \\left(e^{\\frac{1}{\\varepsilon}} - e^{\\varepsilon + 2}\\right) \\left(\\varepsilon^{3} - 3 \\varepsilon^{2} + 3 \\varepsilon - 1\\right) e^{\\frac{\\varepsilon^{2} \\left(\\varepsilon^{2} + 2 \\varepsilon - 1\\right) + \\varepsilon^{2} + \\varepsilon \\left(\\varepsilon^{2} + 2 \\varepsilon - 1\\right) + \\varepsilon \\log{\\left(\\frac{\\varepsilon^{4} - 4 \\varepsilon^{3} + 6 \\varepsilon^{2} - 4 \\varepsilon + 1}{\\varepsilon^{4} \\left(\\varepsilon^{4} + 4 \\varepsilon^{3} + 6 \\varepsilon^{2} + 4 \\varepsilon + 1\\right)} \\right)} + 2 \\varepsilon - 1}{\\varepsilon \\left(\\varepsilon^{2} + 2 \\varepsilon - 1\\right)}}\\right) e^{- \\frac{\\varepsilon \\log{\\left(\\frac{\\varepsilon^{4} - 4 \\varepsilon^{3} + 6 \\varepsilon^{2} - 4 \\varepsilon + 1}{\\varepsilon^{4} \\left(\\varepsilon^{4} + 4 \\varepsilon^{3} + 6 \\varepsilon^{2} + 4 \\varepsilon + 1\\right)} \\right)}}{\\varepsilon^{2} + 2 \\varepsilon - 1}}}{3 \\varepsilon^{3} \\left(e^{\\frac{1}{\\varepsilon}} - e^{\\varepsilon + 2}\\right)^{2}}$"
      ],
      "text/plain": [
       "(\\varepsilon**3*(-exp((2*\\varepsilon**2 + \\varepsilon*(\\varepsilon**2 + 2*\\varepsilon - 1) + \\varepsilon*log((\\varepsilon**4 - 4*\\varepsilon**3 + 6*\\varepsilon**2 - 4*\\varepsilon + 1)/(\\varepsilon**4*(\\varepsilon**4 + 4*\\varepsilon**3 + 6*\\varepsilon**2 + 4*\\varepsilon + 1))) + 4*\\varepsilon - 2)/(\\varepsilon**2 + 2*\\varepsilon - 1)) + exp((\\varepsilon**2*log((\\varepsilon**4 - 4*\\varepsilon**3 + 6*\\varepsilon**2 - 4*\\varepsilon + 1)/(\\varepsilon**4*(\\varepsilon**4 + 4*\\varepsilon**3 + 6*\\varepsilon**2 + 4*\\varepsilon + 1))) + \\varepsilon**2 + 2*\\varepsilon - 1)/(\\varepsilon*(\\varepsilon**2 + 2*\\varepsilon - 1))))*(\\varepsilon**3 + 3*\\varepsilon**2 + 3*\\varepsilon + 1)*exp((\\varepsilon**3*log((\\varepsilon**4 - 4*\\varepsilon**3 + 6*\\varepsilon**2 - 4*\\varepsilon + 1)/(\\varepsilon**4*(\\varepsilon**4 + 4*\\varepsilon**3 + 6*\\varepsilon**2 + 4*\\varepsilon + 1))) + \\varepsilon**2*(\\varepsilon**2 + 2*\\varepsilon - 1) + \\varepsilon**2*log((\\varepsilon**4 - 4*\\varepsilon**3 + 6*\\varepsilon**2 - 4*\\varepsilon + 1)/(\\varepsilon**4*(\\varepsilon**4 + 4*\\varepsilon**3 + 6*\\varepsilon**2 + 4*\\varepsilon + 1))) + \\varepsilon**2 + \\varepsilon*(\\varepsilon**2 + 2*\\varepsilon - 1) + 2*\\varepsilon - 1)/(\\varepsilon*(\\varepsilon**2 + 2*\\varepsilon - 1))) + (exp(1/\\varepsilon) - exp(\\varepsilon + 2))*(\\varepsilon**3 - 3*\\varepsilon**2 + 3*\\varepsilon - 1)*exp((\\varepsilon**2*(\\varepsilon**2 + 2*\\varepsilon - 1) + \\varepsilon**2 + \\varepsilon*(\\varepsilon**2 + 2*\\varepsilon - 1) + \\varepsilon*log((\\varepsilon**4 - 4*\\varepsilon**3 + 6*\\varepsilon**2 - 4*\\varepsilon + 1)/(\\varepsilon**4*(\\varepsilon**4 + 4*\\varepsilon**3 + 6*\\varepsilon**2 + 4*\\varepsilon + 1))) + 2*\\varepsilon - 1)/(\\varepsilon*(\\varepsilon**2 + 2*\\varepsilon - 1))))*exp(-\\varepsilon*log((\\varepsilon**4 - 4*\\varepsilon**3 + 6*\\varepsilon**2 - 4*\\varepsilon + 1)/(\\varepsilon**4*(\\varepsilon**4 + 4*\\varepsilon**3 + 6*\\varepsilon**2 + 4*\\varepsilon + 1)))/(\\varepsilon**2 + 2*\\varepsilon - 1))/(3*\\varepsilon**3*(exp(1/\\varepsilon) - exp(\\varepsilon + 2))**2)"
      ]
     },
     "execution_count": 21,
     "metadata": {},
     "output_type": "execute_result"
    }
   ],
   "source": [
    "r = f1[2].subs(sol).expand().simplify()\n",
    "r.subs(t, solve(r.diff(t), t)[0]).expand().simplify()"
   ]
  },
  {
   "cell_type": "code",
   "execution_count": 22,
   "id": "04625db4",
   "metadata": {},
   "outputs": [
    {
     "data": {
      "text/latex": [
       "$\\displaystyle \\frac{\\left(\\varepsilon^{8} e^{\\frac{t}{\\varepsilon}} + 4 \\varepsilon^{7} e^{\\frac{t}{\\varepsilon}} + 6 \\varepsilon^{6} e^{\\frac{t}{\\varepsilon}} + 4 \\varepsilon^{5} e^{\\frac{t}{\\varepsilon}} + \\varepsilon^{4} e^{\\frac{t}{\\varepsilon}} - \\varepsilon^{4} e^{t \\left(\\varepsilon + 2\\right)} + 4 \\varepsilon^{3} e^{t \\left(\\varepsilon + 2\\right)} - 6 \\varepsilon^{2} e^{t \\left(\\varepsilon + 2\\right)} + 4 \\varepsilon e^{t \\left(\\varepsilon + 2\\right)} - e^{t \\left(\\varepsilon + 2\\right)}\\right) e^{- \\varepsilon t + \\varepsilon - t + 1 - \\frac{t}{\\varepsilon} + \\frac{1}{\\varepsilon}}}{3 \\varepsilon^{4} \\left(- e^{\\frac{1}{\\varepsilon}} + e^{\\varepsilon + 2}\\right)}$"
      ],
      "text/plain": [
       "(\\varepsilon**8*exp(t/\\varepsilon) + 4*\\varepsilon**7*exp(t/\\varepsilon) + 6*\\varepsilon**6*exp(t/\\varepsilon) + 4*\\varepsilon**5*exp(t/\\varepsilon) + \\varepsilon**4*exp(t/\\varepsilon) - \\varepsilon**4*exp(t*(\\varepsilon + 2)) + 4*\\varepsilon**3*exp(t*(\\varepsilon + 2)) - 6*\\varepsilon**2*exp(t*(\\varepsilon + 2)) + 4*\\varepsilon*exp(t*(\\varepsilon + 2)) - exp(t*(\\varepsilon + 2)))*exp(-\\varepsilon*t + \\varepsilon - t + 1 - t/\\varepsilon + 1/\\varepsilon)/(3*\\varepsilon**4*(-exp(1/\\varepsilon) + exp(\\varepsilon + 2)))"
      ]
     },
     "execution_count": 22,
     "metadata": {},
     "output_type": "execute_result"
    }
   ],
   "source": [
    "f2[2].subs(sol).expand().simplify()"
   ]
  },
  {
   "cell_type": "code",
   "execution_count": 23,
   "id": "8f3ef0c6",
   "metadata": {},
   "outputs": [
    {
     "name": "stdout",
     "output_type": "stream",
     "text": [
      "\\frac{\\left(\\varepsilon^{8} e^{\\frac{t}{\\varepsilon}} + 4 \\varepsilon^{7} e^{\\frac{t}{\\varepsilon}} + 6 \\varepsilon^{6} e^{\\frac{t}{\\varepsilon}} + 4 \\varepsilon^{5} e^{\\frac{t}{\\varepsilon}} + \\varepsilon^{4} e^{\\frac{t}{\\varepsilon}} - \\varepsilon^{4} e^{t \\left(\\varepsilon + 2\\right)} + 4 \\varepsilon^{3} e^{t \\left(\\varepsilon + 2\\right)} - 6 \\varepsilon^{2} e^{t \\left(\\varepsilon + 2\\right)} + 4 \\varepsilon e^{t \\left(\\varepsilon + 2\\right)} - e^{t \\left(\\varepsilon + 2\\right)}\\right) e^{- \\varepsilon t + \\varepsilon - t + 1 - \\frac{t}{\\varepsilon} + \\frac{1}{\\varepsilon}}}{3 \\varepsilon^{4} \\left(- e^{\\frac{1}{\\varepsilon}} + e^{\\varepsilon + 2}\\right)}\n"
     ]
    }
   ],
   "source": [
    "print(latex(f2[2].subs(sol).expand().simplify()))"
   ]
  },
  {
   "cell_type": "markdown",
   "id": "da7be11e",
   "metadata": {},
   "source": [
    "## Crank–Nicolson method"
   ]
  },
  {
   "cell_type": "code",
   "execution_count": 24,
   "id": "8b56492b",
   "metadata": {},
   "outputs": [],
   "source": [
    "set_clip(5, 4, Rational(0, 1))\n",
    "r = CrankNicolson2(f, Matrix([u(t), u1(t)]))"
   ]
  },
  {
   "cell_type": "code",
   "execution_count": 25,
   "id": "62ccf783",
   "metadata": {},
   "outputs": [
    {
     "name": "stdout",
     "output_type": "stream",
     "text": [
      "h^0 =>\n"
     ]
    },
    {
     "data": {
      "text/latex": [
       "$\\displaystyle - u_{1} + u_{t}$"
      ],
      "text/plain": [
       "-u1 + u_{t}"
      ]
     },
     "metadata": {},
     "output_type": "display_data"
    },
    {
     "name": "stdout",
     "output_type": "stream",
     "text": [
      "h^1 =>\n"
     ]
    },
    {
     "data": {
      "text/latex": [
       "$\\displaystyle \\frac{u_{tt}}{2}$"
      ],
      "text/plain": [
       "u_{tt}/2"
      ]
     },
     "metadata": {},
     "output_type": "display_data"
    },
    {
     "name": "stdout",
     "output_type": "stream",
     "text": [
      "h^2 =>\n"
     ]
    },
    {
     "data": {
      "text/latex": [
       "$\\displaystyle \\frac{u_{ttt}}{6}$"
      ],
      "text/plain": [
       "u_{ttt}/6"
      ]
     },
     "metadata": {},
     "output_type": "display_data"
    },
    {
     "name": "stdout",
     "output_type": "stream",
     "text": [
      "h^3 =>\n"
     ]
    },
    {
     "data": {
      "text/latex": [
       "$\\displaystyle \\frac{u_{tttt}}{24}$"
      ],
      "text/plain": [
       "u_{tttt}/24"
      ]
     },
     "metadata": {},
     "output_type": "display_data"
    },
    {
     "name": "stdout",
     "output_type": "stream",
     "text": [
      "- u_{1} + u_{t}\n",
      "+h\\left(\n",
      "\\frac{u_{tt}}{2}\n",
      "\\right)\n",
      "+h^2\\left(\n",
      "\\frac{u_{ttt}}{6}\n",
      "\\right)\n",
      "+h^3\\left(\n",
      "\\frac{u_{tttt}}{24}\n",
      "\\right)\n"
     ]
    }
   ],
   "source": [
    "F1 = clip((T(u(t+h))-T(u(t)))/h - T(r[0]))\n",
    "prn(F1, eps)\n",
    "prnlatex(F1, eps)"
   ]
  },
  {
   "cell_type": "code",
   "execution_count": 26,
   "id": "65bd658c",
   "metadata": {},
   "outputs": [
    {
     "name": "stdout",
     "output_type": "stream",
     "text": [
      "h^0 =>\n"
     ]
    },
    {
     "data": {
      "text/latex": [
       "$\\displaystyle \\varepsilon \\left(- u + u_{1}\\right) + u1_{t} + \\frac{u + u_{1}}{\\varepsilon}$"
      ],
      "text/plain": [
       "\\varepsilon*(-u + u1) + u1_{t} + (u + u1)/\\varepsilon"
      ]
     },
     "metadata": {},
     "output_type": "display_data"
    },
    {
     "name": "stdout",
     "output_type": "stream",
     "text": [
      "h^1 =>\n"
     ]
    },
    {
     "data": {
      "text/latex": [
       "$\\displaystyle \\frac{u1_{tt}}{2}$"
      ],
      "text/plain": [
       "u1_{tt}/2"
      ]
     },
     "metadata": {},
     "output_type": "display_data"
    },
    {
     "name": "stdout",
     "output_type": "stream",
     "text": [
      "h^2 =>\n"
     ]
    },
    {
     "data": {
      "text/latex": [
       "$\\displaystyle \\frac{u1_{ttt}}{6}$"
      ],
      "text/plain": [
       "u1_{ttt}/6"
      ]
     },
     "metadata": {},
     "output_type": "display_data"
    },
    {
     "name": "stdout",
     "output_type": "stream",
     "text": [
      "h^3 =>\n"
     ]
    },
    {
     "data": {
      "text/latex": [
       "$\\displaystyle \\frac{u1_{tttt}}{24}$"
      ],
      "text/plain": [
       "u1_{tttt}/24"
      ]
     },
     "metadata": {},
     "output_type": "display_data"
    },
    {
     "name": "stdout",
     "output_type": "stream",
     "text": [
      "\\varepsilon \\left(- u + u_{1}\\right) + u1_{t} + \\frac{u + u_{1}}{\\varepsilon}\n",
      "+h\\left(\n",
      "\\frac{u1_{tt}}{2}\n",
      "\\right)\n",
      "+h^2\\left(\n",
      "\\frac{u1_{ttt}}{6}\n",
      "\\right)\n",
      "+h^3\\left(\n",
      "\\frac{u1_{tttt}}{24}\n",
      "\\right)\n"
     ]
    }
   ],
   "source": [
    "F2 = clip((T(u1(t+h))-T(u1(t)))/h - T(r[1]))\n",
    "prn(F2, eps)\n",
    "prnlatex(F2, eps)"
   ]
  },
  {
   "cell_type": "code",
   "execution_count": 27,
   "id": "98d4a58e",
   "metadata": {},
   "outputs": [
    {
     "name": "stdout",
     "output_type": "stream",
     "text": [
      "h^0 =>\n"
     ]
    },
    {
     "data": {
      "text/latex": [
       "$\\displaystyle - u_{1} + u_{t}$"
      ],
      "text/plain": [
       "-u1 + u_{t}"
      ]
     },
     "metadata": {},
     "output_type": "display_data"
    },
    {
     "name": "stdout",
     "output_type": "stream",
     "text": [
      "h^1 =>\n"
     ]
    },
    {
     "data": {
      "text/latex": [
       "$\\displaystyle \\frac{\\varepsilon \\left(u - u_{1}\\right)}{2} - \\frac{u + u_{1}}{2 \\varepsilon}$"
      ],
      "text/plain": [
       "\\varepsilon*(u - u1)/2 - (u + u1)/(2*\\varepsilon)"
      ]
     },
     "metadata": {},
     "output_type": "display_data"
    },
    {
     "name": "stdout",
     "output_type": "stream",
     "text": [
      "h^2 =>\n"
     ]
    },
    {
     "data": {
      "text/latex": [
       "$\\displaystyle \\frac{\\varepsilon^{2} \\left(u - u_{1}\\right)}{3} - \\frac{\\varepsilon u_{1}}{3} - \\frac{2 u_{1}}{3} + \\frac{u_{1}}{3 \\varepsilon} - \\frac{u + u_{1}}{3 \\varepsilon^{2}}$"
      ],
      "text/plain": [
       "\\varepsilon**2*(u - u1)/3 - \\varepsilon*u1/3 - 2*u1/3 + u1/(3*\\varepsilon) - (u + u1)/(3*\\varepsilon**2)"
      ]
     },
     "metadata": {},
     "output_type": "display_data"
    },
    {
     "name": "stdout",
     "output_type": "stream",
     "text": [
      "h^3 =>\n"
     ]
    },
    {
     "data": {
      "text/latex": [
       "$\\displaystyle \\frac{\\varepsilon^{3} \\left(u - u_{1}\\right)}{4} + \\frac{\\varepsilon^{2} \\left(u - 2 u_{1}\\right)}{4} + \\frac{\\varepsilon \\left(u - 3 u_{1}\\right)}{4} - \\frac{u}{2} - \\frac{u + 3 u_{1}}{4 \\varepsilon} + \\frac{u + 2 u_{1}}{4 \\varepsilon^{2}} - \\frac{u + u_{1}}{4 \\varepsilon^{3}}$"
      ],
      "text/plain": [
       "\\varepsilon**3*(u - u1)/4 + \\varepsilon**2*(u - 2*u1)/4 + \\varepsilon*(u - 3*u1)/4 - u/2 - (u + 3*u1)/(4*\\varepsilon) + (u + 2*u1)/(4*\\varepsilon**2) - (u + u1)/(4*\\varepsilon**3)"
      ]
     },
     "metadata": {},
     "output_type": "display_data"
    },
    {
     "name": "stdout",
     "output_type": "stream",
     "text": [
      "- u_{1} + u_{t}\n",
      "+h\\left(\n",
      "\\frac{\\varepsilon \\left(u - u_{1}\\right)}{2} - \\frac{u + u_{1}}{2 \\varepsilon}\n",
      "\\right)\n",
      "+h^2\\left(\n",
      "\\frac{\\varepsilon^{2} \\left(u - u_{1}\\right)}{3} - \\frac{\\varepsilon u_{1}}{3} - \\frac{2 u_{1}}{3} + \\frac{u_{1}}{3 \\varepsilon} - \\frac{u + u_{1}}{3 \\varepsilon^{2}}\n",
      "\\right)\n",
      "+h^3\\left(\n",
      "\\frac{\\varepsilon^{3} \\left(u - u_{1}\\right)}{4} + \\frac{\\varepsilon^{2} \\left(u - 2 u_{1}\\right)}{4} + \\frac{\\varepsilon \\left(u - 3 u_{1}\\right)}{4} - \\frac{u}{2} - \\frac{u + 3 u_{1}}{4 \\varepsilon} + \\frac{u + 2 u_{1}}{4 \\varepsilon^{2}} - \\frac{u + u_{1}}{4 \\varepsilon^{3}}\n",
      "\\right)\n"
     ]
    }
   ],
   "source": [
    "f1 = NF(F1, [u(t).diff(t), u1(t).diff(t)], [F1, F2], head=False)\n",
    "prn(f1, eps)\n",
    "prnlatex(f1, eps)"
   ]
  },
  {
   "cell_type": "code",
   "execution_count": 28,
   "id": "1c74001f",
   "metadata": {},
   "outputs": [
    {
     "name": "stdout",
     "output_type": "stream",
     "text": [
      "h^0 =>\n"
     ]
    },
    {
     "data": {
      "text/latex": [
       "$\\displaystyle \\varepsilon \\left(- u + u_{1}\\right) + u1_{t} + \\frac{u + u_{1}}{\\varepsilon}$"
      ],
      "text/plain": [
       "\\varepsilon*(-u + u1) + u1_{t} + (u + u1)/\\varepsilon"
      ]
     },
     "metadata": {},
     "output_type": "display_data"
    },
    {
     "name": "stdout",
     "output_type": "stream",
     "text": [
      "h^1 =>\n"
     ]
    },
    {
     "data": {
      "text/latex": [
       "$\\displaystyle - \\frac{\\varepsilon^{2} \\left(u - u_{1}\\right)}{2} + \\frac{\\varepsilon u_{1}}{2} + u_{1} - \\frac{u_{1}}{2 \\varepsilon} + \\frac{u + u_{1}}{2 \\varepsilon^{2}}$"
      ],
      "text/plain": [
       "-\\varepsilon**2*(u - u1)/2 + \\varepsilon*u1/2 + u1 - u1/(2*\\varepsilon) + (u + u1)/(2*\\varepsilon**2)"
      ]
     },
     "metadata": {},
     "output_type": "display_data"
    },
    {
     "name": "stdout",
     "output_type": "stream",
     "text": [
      "h^2 =>\n"
     ]
    },
    {
     "data": {
      "text/latex": [
       "$\\displaystyle - \\frac{\\varepsilon^{3} \\left(u - u_{1}\\right)}{3} - \\frac{\\varepsilon^{2} \\left(u - 2 u_{1}\\right)}{3} - \\frac{\\varepsilon \\left(u - 3 u_{1}\\right)}{3} + \\frac{2 u}{3} + \\frac{u + 3 u_{1}}{3 \\varepsilon} - \\frac{u + 2 u_{1}}{3 \\varepsilon^{2}} + \\frac{u + u_{1}}{3 \\varepsilon^{3}}$"
      ],
      "text/plain": [
       "-\\varepsilon**3*(u - u1)/3 - \\varepsilon**2*(u - 2*u1)/3 - \\varepsilon*(u - 3*u1)/3 + 2*u/3 + (u + 3*u1)/(3*\\varepsilon) - (u + 2*u1)/(3*\\varepsilon**2) + (u + u1)/(3*\\varepsilon**3)"
      ]
     },
     "metadata": {},
     "output_type": "display_data"
    },
    {
     "name": "stdout",
     "output_type": "stream",
     "text": [
      "h^3 =>\n"
     ]
    },
    {
     "data": {
      "text/latex": [
       "$\\displaystyle - \\frac{\\varepsilon^{4} \\left(u - u_{1}\\right)}{4} - \\frac{\\varepsilon^{3} \\left(2 u - 3 u_{1}\\right)}{4} - \\frac{\\varepsilon^{2} \\left(2 u - 5 u_{1}\\right)}{4} + \\frac{\\varepsilon \\left(2 u + 3 u_{1}\\right)}{4} + u_{1} + \\frac{2 u - 3 u_{1}}{4 \\varepsilon} + \\frac{2 u + 5 u_{1}}{4 \\varepsilon^{2}} - \\frac{2 u + 3 u_{1}}{4 \\varepsilon^{3}} + \\frac{u + u_{1}}{4 \\varepsilon^{4}}$"
      ],
      "text/plain": [
       "-\\varepsilon**4*(u - u1)/4 - \\varepsilon**3*(2*u - 3*u1)/4 - \\varepsilon**2*(2*u - 5*u1)/4 + \\varepsilon*(2*u + 3*u1)/4 + u1 + (2*u - 3*u1)/(4*\\varepsilon) + (2*u + 5*u1)/(4*\\varepsilon**2) - (2*u + 3*u1)/(4*\\varepsilon**3) + (u + u1)/(4*\\varepsilon**4)"
      ]
     },
     "metadata": {},
     "output_type": "display_data"
    },
    {
     "name": "stdout",
     "output_type": "stream",
     "text": [
      "\\varepsilon \\left(- u + u_{1}\\right) + u1_{t} + \\frac{u + u_{1}}{\\varepsilon}\n",
      "+h\\left(\n",
      "- \\frac{\\varepsilon^{2} \\left(u - u_{1}\\right)}{2} + \\frac{\\varepsilon u_{1}}{2} + u_{1} - \\frac{u_{1}}{2 \\varepsilon} + \\frac{u + u_{1}}{2 \\varepsilon^{2}}\n",
      "\\right)\n",
      "+h^2\\left(\n",
      "- \\frac{\\varepsilon^{3} \\left(u - u_{1}\\right)}{3} - \\frac{\\varepsilon^{2} \\left(u - 2 u_{1}\\right)}{3} - \\frac{\\varepsilon \\left(u - 3 u_{1}\\right)}{3} + \\frac{2 u}{3} + \\frac{u + 3 u_{1}}{3 \\varepsilon} - \\frac{u + 2 u_{1}}{3 \\varepsilon^{2}} + \\frac{u + u_{1}}{3 \\varepsilon^{3}}\n",
      "\\right)\n",
      "+h^3\\left(\n",
      "- \\frac{\\varepsilon^{4} \\left(u - u_{1}\\right)}{4} - \\frac{\\varepsilon^{3} \\left(2 u - 3 u_{1}\\right)}{4} - \\frac{\\varepsilon^{2} \\left(2 u - 5 u_{1}\\right)}{4} + \\frac{\\varepsilon \\left(2 u + 3 u_{1}\\right)}{4} + u_{1} + \\frac{2 u - 3 u_{1}}{4 \\varepsilon} + \\frac{2 u + 5 u_{1}}{4 \\varepsilon^{2}} - \\frac{2 u + 3 u_{1}}{4 \\varepsilon^{3}} + \\frac{u + u_{1}}{4 \\varepsilon^{4}}\n",
      "\\right)\n"
     ]
    }
   ],
   "source": [
    "f2 = NF(F2, [u(t).diff(t), u1(t).diff(t)], [F1, F2], head=False)\n",
    "prn(f2, eps)\n",
    "prnlatex(f2, eps)"
   ]
  },
  {
   "cell_type": "code",
   "execution_count": 29,
   "id": "b6a149eb",
   "metadata": {},
   "outputs": [
    {
     "data": {
      "text/latex": [
       "$\\displaystyle \\frac{\\left(- \\varepsilon^{6} e^{\\frac{t}{\\varepsilon}} - 3 \\varepsilon^{5} e^{\\frac{t}{\\varepsilon}} - 3 \\varepsilon^{4} e^{\\frac{t}{\\varepsilon}} - \\varepsilon^{3} e^{\\frac{t}{\\varepsilon}} - \\varepsilon^{3} e^{t \\left(\\varepsilon + 2\\right)} + 3 \\varepsilon^{2} e^{t \\left(\\varepsilon + 2\\right)} - 3 \\varepsilon e^{t \\left(\\varepsilon + 2\\right)} + e^{t \\left(\\varepsilon + 2\\right)}\\right) e^{- \\varepsilon t + \\varepsilon - t + 1 - \\frac{t}{\\varepsilon} + \\frac{1}{\\varepsilon}}}{3 \\varepsilon^{3} \\left(- e^{\\frac{1}{\\varepsilon}} + e^{\\varepsilon + 2}\\right)}$"
      ],
      "text/plain": [
       "(-\\varepsilon**6*exp(t/\\varepsilon) - 3*\\varepsilon**5*exp(t/\\varepsilon) - 3*\\varepsilon**4*exp(t/\\varepsilon) - \\varepsilon**3*exp(t/\\varepsilon) - \\varepsilon**3*exp(t*(\\varepsilon + 2)) + 3*\\varepsilon**2*exp(t*(\\varepsilon + 2)) - 3*\\varepsilon*exp(t*(\\varepsilon + 2)) + exp(t*(\\varepsilon + 2)))*exp(-\\varepsilon*t + \\varepsilon - t + 1 - t/\\varepsilon + 1/\\varepsilon)/(3*\\varepsilon**3*(-exp(1/\\varepsilon) + exp(\\varepsilon + 2)))"
      ]
     },
     "execution_count": 29,
     "metadata": {},
     "output_type": "execute_result"
    }
   ],
   "source": [
    "f1[2].subs(sol).expand().simplify()"
   ]
  },
  {
   "cell_type": "code",
   "execution_count": 30,
   "id": "39a20fc0",
   "metadata": {},
   "outputs": [
    {
     "data": {
      "text/latex": [
       "$\\displaystyle \\frac{\\left(\\varepsilon^{8} e^{\\frac{t}{\\varepsilon}} + 4 \\varepsilon^{7} e^{\\frac{t}{\\varepsilon}} + 6 \\varepsilon^{6} e^{\\frac{t}{\\varepsilon}} + 4 \\varepsilon^{5} e^{\\frac{t}{\\varepsilon}} + \\varepsilon^{4} e^{\\frac{t}{\\varepsilon}} - \\varepsilon^{4} e^{t \\left(\\varepsilon + 2\\right)} + 4 \\varepsilon^{3} e^{t \\left(\\varepsilon + 2\\right)} - 6 \\varepsilon^{2} e^{t \\left(\\varepsilon + 2\\right)} + 4 \\varepsilon e^{t \\left(\\varepsilon + 2\\right)} - e^{t \\left(\\varepsilon + 2\\right)}\\right) e^{- \\varepsilon t + \\varepsilon - t + 1 - \\frac{t}{\\varepsilon} + \\frac{1}{\\varepsilon}}}{3 \\varepsilon^{4} \\left(- e^{\\frac{1}{\\varepsilon}} + e^{\\varepsilon + 2}\\right)}$"
      ],
      "text/plain": [
       "(\\varepsilon**8*exp(t/\\varepsilon) + 4*\\varepsilon**7*exp(t/\\varepsilon) + 6*\\varepsilon**6*exp(t/\\varepsilon) + 4*\\varepsilon**5*exp(t/\\varepsilon) + \\varepsilon**4*exp(t/\\varepsilon) - \\varepsilon**4*exp(t*(\\varepsilon + 2)) + 4*\\varepsilon**3*exp(t*(\\varepsilon + 2)) - 6*\\varepsilon**2*exp(t*(\\varepsilon + 2)) + 4*\\varepsilon*exp(t*(\\varepsilon + 2)) - exp(t*(\\varepsilon + 2)))*exp(-\\varepsilon*t + \\varepsilon - t + 1 - t/\\varepsilon + 1/\\varepsilon)/(3*\\varepsilon**4*(-exp(1/\\varepsilon) + exp(\\varepsilon + 2)))"
      ]
     },
     "execution_count": 30,
     "metadata": {},
     "output_type": "execute_result"
    }
   ],
   "source": [
    "f2[2].subs(sol).expand().simplify()"
   ]
  },
  {
   "cell_type": "code",
   "execution_count": 31,
   "id": "ec9c01d4",
   "metadata": {},
   "outputs": [
    {
     "name": "stdout",
     "output_type": "stream",
     "text": [
      "\\frac{\\left(\\varepsilon^{8} e^{\\frac{t}{\\varepsilon}} + 4 \\varepsilon^{7} e^{\\frac{t}{\\varepsilon}} + 6 \\varepsilon^{6} e^{\\frac{t}{\\varepsilon}} + 4 \\varepsilon^{5} e^{\\frac{t}{\\varepsilon}} + \\varepsilon^{4} e^{\\frac{t}{\\varepsilon}} - \\varepsilon^{4} e^{t \\left(\\varepsilon + 2\\right)} + 4 \\varepsilon^{3} e^{t \\left(\\varepsilon + 2\\right)} - 6 \\varepsilon^{2} e^{t \\left(\\varepsilon + 2\\right)} + 4 \\varepsilon e^{t \\left(\\varepsilon + 2\\right)} - e^{t \\left(\\varepsilon + 2\\right)}\\right) e^{- \\varepsilon t + \\varepsilon - t + 1 - \\frac{t}{\\varepsilon} + \\frac{1}{\\varepsilon}}}{3 \\varepsilon^{4} \\left(- e^{\\frac{1}{\\varepsilon}} + e^{\\varepsilon + 2}\\right)}\n"
     ]
    }
   ],
   "source": [
    "print(latex(f2[2].subs(sol).expand().simplify()))"
   ]
  },
  {
   "cell_type": "markdown",
   "id": "82ae1004",
   "metadata": {},
   "source": [
    "## \"original\" Runge–Kutta method"
   ]
  },
  {
   "cell_type": "code",
   "execution_count": 32,
   "id": "5c9e39e9",
   "metadata": {},
   "outputs": [],
   "source": [
    "set_clip(7, 6, Rational(0, 1))\n",
    "r = RungeKutta4(f, Matrix([u(t), u1(t)]))"
   ]
  },
  {
   "cell_type": "code",
   "execution_count": 33,
   "id": "9a88a6fd",
   "metadata": {},
   "outputs": [
    {
     "name": "stdout",
     "output_type": "stream",
     "text": [
      "h^0 =>\n"
     ]
    },
    {
     "data": {
      "text/latex": [
       "$\\displaystyle - u_{1} + u_{t}$"
      ],
      "text/plain": [
       "-u1 + u_{t}"
      ]
     },
     "metadata": {},
     "output_type": "display_data"
    },
    {
     "name": "stdout",
     "output_type": "stream",
     "text": [
      "h^1 =>\n"
     ]
    },
    {
     "data": {
      "text/latex": [
       "$\\displaystyle - \\frac{\\varepsilon \\left(u - u_{1}\\right)}{2} + \\frac{u_{tt}}{2} + \\frac{u + u_{1}}{2 \\varepsilon}$"
      ],
      "text/plain": [
       "-\\varepsilon*(u - u1)/2 + u_{tt}/2 + (u + u1)/(2*\\varepsilon)"
      ]
     },
     "metadata": {},
     "output_type": "display_data"
    },
    {
     "name": "stdout",
     "output_type": "stream",
     "text": [
      "h^2 =>\n"
     ]
    },
    {
     "data": {
      "text/latex": [
       "$\\displaystyle \\frac{\\varepsilon^{2} \\left(u - u_{1}\\right)}{6} - \\frac{\\varepsilon u_{1}}{6} - \\frac{2 u_{1} - u_{ttt}}{6} + \\frac{u_{1}}{6 \\varepsilon} - \\frac{u + u_{1}}{6 \\varepsilon^{2}}$"
      ],
      "text/plain": [
       "\\varepsilon**2*(u - u1)/6 - \\varepsilon*u1/6 - (2*u1 - u_{ttt})/6 + u1/(6*\\varepsilon) - (u + u1)/(6*\\varepsilon**2)"
      ]
     },
     "metadata": {},
     "output_type": "display_data"
    },
    {
     "name": "stdout",
     "output_type": "stream",
     "text": [
      "h^3 =>\n"
     ]
    },
    {
     "data": {
      "text/latex": [
       "$\\displaystyle - \\frac{\\varepsilon^{3} \\left(u - u_{1}\\right)}{24} - \\frac{\\varepsilon^{2} \\left(u - 2 u_{1}\\right)}{24} - \\frac{\\varepsilon \\left(u - 3 u_{1}\\right)}{24} + \\frac{2 u + u_{tttt}}{24} + \\frac{u + 3 u_{1}}{24 \\varepsilon} - \\frac{u + 2 u_{1}}{24 \\varepsilon^{2}} + \\frac{u + u_{1}}{24 \\varepsilon^{3}}$"
      ],
      "text/plain": [
       "-\\varepsilon**3*(u - u1)/24 - \\varepsilon**2*(u - 2*u1)/24 - \\varepsilon*(u - 3*u1)/24 + (2*u + u_{tttt})/24 + (u + 3*u1)/(24*\\varepsilon) - (u + 2*u1)/(24*\\varepsilon**2) + (u + u1)/(24*\\varepsilon**3)"
      ]
     },
     "metadata": {},
     "output_type": "display_data"
    },
    {
     "name": "stdout",
     "output_type": "stream",
     "text": [
      "h^4 =>\n"
     ]
    },
    {
     "data": {
      "text/latex": [
       "$\\displaystyle \\frac{u_{ttttt}}{120}$"
      ],
      "text/plain": [
       "u_{ttttt}/120"
      ]
     },
     "metadata": {},
     "output_type": "display_data"
    },
    {
     "name": "stdout",
     "output_type": "stream",
     "text": [
      "h^5 =>\n"
     ]
    },
    {
     "data": {
      "text/latex": [
       "$\\displaystyle \\frac{u_{tttttt}}{720}$"
      ],
      "text/plain": [
       "u_{tttttt}/720"
      ]
     },
     "metadata": {},
     "output_type": "display_data"
    },
    {
     "name": "stdout",
     "output_type": "stream",
     "text": [
      "- u_{1} + u_{t}\n",
      "+h\\left(\n",
      "- \\frac{\\varepsilon \\left(u - u_{1}\\right)}{2} + \\frac{u_{tt}}{2} + \\frac{u + u_{1}}{2 \\varepsilon}\n",
      "\\right)\n",
      "+h^2\\left(\n",
      "\\frac{\\varepsilon^{2} \\left(u - u_{1}\\right)}{6} - \\frac{\\varepsilon u_{1}}{6} - \\frac{2 u_{1} - u_{ttt}}{6} + \\frac{u_{1}}{6 \\varepsilon} - \\frac{u + u_{1}}{6 \\varepsilon^{2}}\n",
      "\\right)\n",
      "+h^3\\left(\n",
      "- \\frac{\\varepsilon^{3} \\left(u - u_{1}\\right)}{24} - \\frac{\\varepsilon^{2} \\left(u - 2 u_{1}\\right)}{24} - \\frac{\\varepsilon \\left(u - 3 u_{1}\\right)}{24} + \\frac{2 u + u_{tttt}}{24} + \\frac{u + 3 u_{1}}{24 \\varepsilon} - \\frac{u + 2 u_{1}}{24 \\varepsilon^{2}} + \\frac{u + u_{1}}{24 \\varepsilon^{3}}\n",
      "\\right)\n",
      "+h^4\\left(\n",
      "\\frac{u_{ttttt}}{120}\n",
      "\\right)\n",
      "+h^5\\left(\n",
      "\\frac{u_{tttttt}}{720}\n",
      "\\right)\n"
     ]
    }
   ],
   "source": [
    "F1 = clip((T(u(t+h))-T(u(t)))/h - T(r[0]))\n",
    "prn(F1, eps)\n",
    "prnlatex(F1, eps)"
   ]
  },
  {
   "cell_type": "code",
   "execution_count": 34,
   "id": "7cae922c",
   "metadata": {},
   "outputs": [
    {
     "name": "stdout",
     "output_type": "stream",
     "text": [
      "h^0 =>\n"
     ]
    },
    {
     "data": {
      "text/latex": [
       "$\\displaystyle \\varepsilon \\left(- u + u_{1}\\right) + u1_{t} + \\frac{u + u_{1}}{\\varepsilon}$"
      ],
      "text/plain": [
       "\\varepsilon*(-u + u1) + u1_{t} + (u + u1)/\\varepsilon"
      ]
     },
     "metadata": {},
     "output_type": "display_data"
    },
    {
     "name": "stdout",
     "output_type": "stream",
     "text": [
      "h^1 =>\n"
     ]
    },
    {
     "data": {
      "text/latex": [
       "$\\displaystyle \\frac{\\varepsilon^{2} \\left(u - u_{1}\\right)}{2} - \\frac{\\varepsilon u_{1}}{2} - \\frac{2 u_{1} - u1_{tt}}{2} + \\frac{u_{1}}{2 \\varepsilon} - \\frac{u + u_{1}}{2 \\varepsilon^{2}}$"
      ],
      "text/plain": [
       "\\varepsilon**2*(u - u1)/2 - \\varepsilon*u1/2 - (2*u1 - u1_{tt})/2 + u1/(2*\\varepsilon) - (u + u1)/(2*\\varepsilon**2)"
      ]
     },
     "metadata": {},
     "output_type": "display_data"
    },
    {
     "name": "stdout",
     "output_type": "stream",
     "text": [
      "h^2 =>\n"
     ]
    },
    {
     "data": {
      "text/latex": [
       "$\\displaystyle - \\frac{\\varepsilon^{3} \\left(u - u_{1}\\right)}{6} - \\frac{\\varepsilon^{2} \\left(u - 2 u_{1}\\right)}{6} - \\frac{\\varepsilon \\left(u - 3 u_{1}\\right)}{6} + \\frac{2 u + u1_{ttt}}{6} + \\frac{u + 3 u_{1}}{6 \\varepsilon} - \\frac{u + 2 u_{1}}{6 \\varepsilon^{2}} + \\frac{u + u_{1}}{6 \\varepsilon^{3}}$"
      ],
      "text/plain": [
       "-\\varepsilon**3*(u - u1)/6 - \\varepsilon**2*(u - 2*u1)/6 - \\varepsilon*(u - 3*u1)/6 + (2*u + u1_{ttt})/6 + (u + 3*u1)/(6*\\varepsilon) - (u + 2*u1)/(6*\\varepsilon**2) + (u + u1)/(6*\\varepsilon**3)"
      ]
     },
     "metadata": {},
     "output_type": "display_data"
    },
    {
     "name": "stdout",
     "output_type": "stream",
     "text": [
      "h^3 =>\n"
     ]
    },
    {
     "data": {
      "text/latex": [
       "$\\displaystyle \\frac{\\varepsilon^{4} \\left(u - u_{1}\\right)}{24} + \\frac{\\varepsilon^{3} \\left(2 u - 3 u_{1}\\right)}{24} + \\frac{\\varepsilon^{2} \\left(2 u - 5 u_{1}\\right)}{24} - \\frac{\\varepsilon \\left(2 u + 3 u_{1}\\right)}{24} - \\frac{4 u_{1} - u1_{tttt}}{24} - \\frac{2 u - 3 u_{1}}{24 \\varepsilon} - \\frac{2 u + 5 u_{1}}{24 \\varepsilon^{2}} + \\frac{2 u + 3 u_{1}}{24 \\varepsilon^{3}} - \\frac{u + u_{1}}{24 \\varepsilon^{4}}$"
      ],
      "text/plain": [
       "\\varepsilon**4*(u - u1)/24 + \\varepsilon**3*(2*u - 3*u1)/24 + \\varepsilon**2*(2*u - 5*u1)/24 - \\varepsilon*(2*u + 3*u1)/24 - (4*u1 - u1_{tttt})/24 - (2*u - 3*u1)/(24*\\varepsilon) - (2*u + 5*u1)/(24*\\varepsilon**2) + (2*u + 3*u1)/(24*\\varepsilon**3) - (u + u1)/(24*\\varepsilon**4)"
      ]
     },
     "metadata": {},
     "output_type": "display_data"
    },
    {
     "name": "stdout",
     "output_type": "stream",
     "text": [
      "h^4 =>\n"
     ]
    },
    {
     "data": {
      "text/latex": [
       "$\\displaystyle \\frac{u1_{ttttt}}{120}$"
      ],
      "text/plain": [
       "u1_{ttttt}/120"
      ]
     },
     "metadata": {},
     "output_type": "display_data"
    },
    {
     "name": "stdout",
     "output_type": "stream",
     "text": [
      "h^5 =>\n"
     ]
    },
    {
     "data": {
      "text/latex": [
       "$\\displaystyle \\frac{u1_{tttttt}}{720}$"
      ],
      "text/plain": [
       "u1_{tttttt}/720"
      ]
     },
     "metadata": {},
     "output_type": "display_data"
    },
    {
     "name": "stdout",
     "output_type": "stream",
     "text": [
      "\\varepsilon \\left(- u + u_{1}\\right) + u1_{t} + \\frac{u + u_{1}}{\\varepsilon}\n",
      "+h\\left(\n",
      "\\frac{\\varepsilon^{2} \\left(u - u_{1}\\right)}{2} - \\frac{\\varepsilon u_{1}}{2} - \\frac{2 u_{1} - u1_{tt}}{2} + \\frac{u_{1}}{2 \\varepsilon} - \\frac{u + u_{1}}{2 \\varepsilon^{2}}\n",
      "\\right)\n",
      "+h^2\\left(\n",
      "- \\frac{\\varepsilon^{3} \\left(u - u_{1}\\right)}{6} - \\frac{\\varepsilon^{2} \\left(u - 2 u_{1}\\right)}{6} - \\frac{\\varepsilon \\left(u - 3 u_{1}\\right)}{6} + \\frac{2 u + u1_{ttt}}{6} + \\frac{u + 3 u_{1}}{6 \\varepsilon} - \\frac{u + 2 u_{1}}{6 \\varepsilon^{2}} + \\frac{u + u_{1}}{6 \\varepsilon^{3}}\n",
      "\\right)\n",
      "+h^3\\left(\n",
      "\\frac{\\varepsilon^{4} \\left(u - u_{1}\\right)}{24} + \\frac{\\varepsilon^{3} \\left(2 u - 3 u_{1}\\right)}{24} + \\frac{\\varepsilon^{2} \\left(2 u - 5 u_{1}\\right)}{24} - \\frac{\\varepsilon \\left(2 u + 3 u_{1}\\right)}{24} - \\frac{4 u_{1} - u1_{tttt}}{24} - \\frac{2 u - 3 u_{1}}{24 \\varepsilon} - \\frac{2 u + 5 u_{1}}{24 \\varepsilon^{2}} + \\frac{2 u + 3 u_{1}}{24 \\varepsilon^{3}} - \\frac{u + u_{1}}{24 \\varepsilon^{4}}\n",
      "\\right)\n",
      "+h^4\\left(\n",
      "\\frac{u1_{ttttt}}{120}\n",
      "\\right)\n",
      "+h^5\\left(\n",
      "\\frac{u1_{tttttt}}{720}\n",
      "\\right)\n"
     ]
    }
   ],
   "source": [
    "F2 = clip((T(u1(t+h))-T(u1(t)))/h - T(r[1]))\n",
    "prn(F2, eps)\n",
    "prnlatex(F2, eps)"
   ]
  },
  {
   "cell_type": "code",
   "execution_count": 35,
   "id": "b6411af9",
   "metadata": {},
   "outputs": [
    {
     "name": "stdout",
     "output_type": "stream",
     "text": [
      "h^0 =>\n"
     ]
    },
    {
     "data": {
      "text/latex": [
       "$\\displaystyle - u_{1} + u_{t}$"
      ],
      "text/plain": [
       "-u1 + u_{t}"
      ]
     },
     "metadata": {},
     "output_type": "display_data"
    },
    {
     "name": "stdout",
     "output_type": "stream",
     "text": [
      "h^1 =>\n"
     ]
    },
    {
     "data": {
      "text/latex": [
       "$\\displaystyle 0$"
      ],
      "text/plain": [
       "0"
      ]
     },
     "metadata": {},
     "output_type": "display_data"
    },
    {
     "name": "stdout",
     "output_type": "stream",
     "text": [
      "h^2 =>\n"
     ]
    },
    {
     "data": {
      "text/latex": [
       "$\\displaystyle 0$"
      ],
      "text/plain": [
       "0"
      ]
     },
     "metadata": {},
     "output_type": "display_data"
    },
    {
     "name": "stdout",
     "output_type": "stream",
     "text": [
      "h^3 =>\n"
     ]
    },
    {
     "data": {
      "text/latex": [
       "$\\displaystyle 0$"
      ],
      "text/plain": [
       "0"
      ]
     },
     "metadata": {},
     "output_type": "display_data"
    },
    {
     "name": "stdout",
     "output_type": "stream",
     "text": [
      "h^4 =>\n"
     ]
    },
    {
     "data": {
      "text/latex": [
       "$\\displaystyle - \\frac{\\varepsilon^{4} \\left(u - u_{1}\\right)}{120} - \\frac{\\varepsilon^{3} \\left(2 u - 3 u_{1}\\right)}{120} - \\frac{\\varepsilon^{2} \\left(2 u - 5 u_{1}\\right)}{120} + \\frac{\\varepsilon \\left(2 u + 3 u_{1}\\right)}{120} + \\frac{u_{1}}{30} + \\frac{2 u - 3 u_{1}}{120 \\varepsilon} + \\frac{2 u + 5 u_{1}}{120 \\varepsilon^{2}} - \\frac{2 u + 3 u_{1}}{120 \\varepsilon^{3}} + \\frac{u + u_{1}}{120 \\varepsilon^{4}}$"
      ],
      "text/plain": [
       "-\\varepsilon**4*(u - u1)/120 - \\varepsilon**3*(2*u - 3*u1)/120 - \\varepsilon**2*(2*u - 5*u1)/120 + \\varepsilon*(2*u + 3*u1)/120 + u1/30 + (2*u - 3*u1)/(120*\\varepsilon) + (2*u + 5*u1)/(120*\\varepsilon**2) - (2*u + 3*u1)/(120*\\varepsilon**3) + (u + u1)/(120*\\varepsilon**4)"
      ]
     },
     "metadata": {},
     "output_type": "display_data"
    },
    {
     "name": "stdout",
     "output_type": "stream",
     "text": [
      "h^5 =>\n"
     ]
    },
    {
     "data": {
      "text/latex": [
       "$\\displaystyle - \\frac{\\varepsilon^{5} \\left(u - u_{1}\\right)}{144} - \\frac{\\varepsilon^{4} \\left(3 u - 4 u_{1}\\right)}{144} - \\frac{\\varepsilon^{3} \\left(u - 2 u_{1}\\right)}{36} + \\frac{\\varepsilon^{2} u_{1}}{18} + \\frac{\\varepsilon \\left(u + 7 u_{1}\\right)}{144} + \\frac{u}{24} - \\frac{u - 7 u_{1}}{144 \\varepsilon} - \\frac{u_{1}}{18 \\varepsilon^{2}} + \\frac{u + 2 u_{1}}{36 \\varepsilon^{3}} - \\frac{3 u + 4 u_{1}}{144 \\varepsilon^{4}} + \\frac{u + u_{1}}{144 \\varepsilon^{5}}$"
      ],
      "text/plain": [
       "-\\varepsilon**5*(u - u1)/144 - \\varepsilon**4*(3*u - 4*u1)/144 - \\varepsilon**3*(u - 2*u1)/36 + \\varepsilon**2*u1/18 + \\varepsilon*(u + 7*u1)/144 + u/24 - (u - 7*u1)/(144*\\varepsilon) - u1/(18*\\varepsilon**2) + (u + 2*u1)/(36*\\varepsilon**3) - (3*u + 4*u1)/(144*\\varepsilon**4) + (u + u1)/(144*\\varepsilon**5)"
      ]
     },
     "metadata": {},
     "output_type": "display_data"
    },
    {
     "name": "stdout",
     "output_type": "stream",
     "text": [
      "- u_{1} + u_{t}\n",
      "+h\\left(\n",
      "0\n",
      "\\right)\n",
      "+h^2\\left(\n",
      "0\n",
      "\\right)\n",
      "+h^3\\left(\n",
      "0\n",
      "\\right)\n",
      "+h^4\\left(\n",
      "- \\frac{\\varepsilon^{4} \\left(u - u_{1}\\right)}{120} - \\frac{\\varepsilon^{3} \\left(2 u - 3 u_{1}\\right)}{120} - \\frac{\\varepsilon^{2} \\left(2 u - 5 u_{1}\\right)}{120} + \\frac{\\varepsilon \\left(2 u + 3 u_{1}\\right)}{120} + \\frac{u_{1}}{30} + \\frac{2 u - 3 u_{1}}{120 \\varepsilon} + \\frac{2 u + 5 u_{1}}{120 \\varepsilon^{2}} - \\frac{2 u + 3 u_{1}}{120 \\varepsilon^{3}} + \\frac{u + u_{1}}{120 \\varepsilon^{4}}\n",
      "\\right)\n",
      "+h^5\\left(\n",
      "- \\frac{\\varepsilon^{5} \\left(u - u_{1}\\right)}{144} - \\frac{\\varepsilon^{4} \\left(3 u - 4 u_{1}\\right)}{144} - \\frac{\\varepsilon^{3} \\left(u - 2 u_{1}\\right)}{36} + \\frac{\\varepsilon^{2} u_{1}}{18} + \\frac{\\varepsilon \\left(u + 7 u_{1}\\right)}{144} + \\frac{u}{24} - \\frac{u - 7 u_{1}}{144 \\varepsilon} - \\frac{u_{1}}{18 \\varepsilon^{2}} + \\frac{u + 2 u_{1}}{36 \\varepsilon^{3}} - \\frac{3 u + 4 u_{1}}{144 \\varepsilon^{4}} + \\frac{u + u_{1}}{144 \\varepsilon^{5}}\n",
      "\\right)\n"
     ]
    }
   ],
   "source": [
    "f1 = NF(F1, [u(t).diff(t), u1(t).diff(t)], [F1, F2], head=False)\n",
    "prn(f1, eps)\n",
    "prnlatex(f1, eps)"
   ]
  },
  {
   "cell_type": "code",
   "execution_count": 36,
   "id": "952687ea",
   "metadata": {},
   "outputs": [
    {
     "name": "stdout",
     "output_type": "stream",
     "text": [
      "h^0 =>\n"
     ]
    },
    {
     "data": {
      "text/latex": [
       "$\\displaystyle \\varepsilon \\left(- u + u_{1}\\right) + u1_{t} + \\frac{u + u_{1}}{\\varepsilon}$"
      ],
      "text/plain": [
       "\\varepsilon*(-u + u1) + u1_{t} + (u + u1)/\\varepsilon"
      ]
     },
     "metadata": {},
     "output_type": "display_data"
    },
    {
     "name": "stdout",
     "output_type": "stream",
     "text": [
      "h^1 =>\n"
     ]
    },
    {
     "data": {
      "text/latex": [
       "$\\displaystyle 0$"
      ],
      "text/plain": [
       "0"
      ]
     },
     "metadata": {},
     "output_type": "display_data"
    },
    {
     "name": "stdout",
     "output_type": "stream",
     "text": [
      "h^2 =>\n"
     ]
    },
    {
     "data": {
      "text/latex": [
       "$\\displaystyle 0$"
      ],
      "text/plain": [
       "0"
      ]
     },
     "metadata": {},
     "output_type": "display_data"
    },
    {
     "name": "stdout",
     "output_type": "stream",
     "text": [
      "h^3 =>\n"
     ]
    },
    {
     "data": {
      "text/latex": [
       "$\\displaystyle 0$"
      ],
      "text/plain": [
       "0"
      ]
     },
     "metadata": {},
     "output_type": "display_data"
    },
    {
     "name": "stdout",
     "output_type": "stream",
     "text": [
      "h^4 =>\n"
     ]
    },
    {
     "data": {
      "text/latex": [
       "$\\displaystyle \\frac{\\varepsilon^{5} \\left(u - u_{1}\\right)}{120} + \\frac{\\varepsilon^{4} \\left(3 u - 4 u_{1}\\right)}{120} + \\frac{\\varepsilon^{3} \\left(u - 2 u_{1}\\right)}{30} - \\frac{\\varepsilon^{2} u_{1}}{15} - \\frac{\\varepsilon \\left(u + 7 u_{1}\\right)}{120} - \\frac{u}{20} + \\frac{u - 7 u_{1}}{120 \\varepsilon} + \\frac{u_{1}}{15 \\varepsilon^{2}} - \\frac{u + 2 u_{1}}{30 \\varepsilon^{3}} + \\frac{3 u + 4 u_{1}}{120 \\varepsilon^{4}} - \\frac{u + u_{1}}{120 \\varepsilon^{5}}$"
      ],
      "text/plain": [
       "\\varepsilon**5*(u - u1)/120 + \\varepsilon**4*(3*u - 4*u1)/120 + \\varepsilon**3*(u - 2*u1)/30 - \\varepsilon**2*u1/15 - \\varepsilon*(u + 7*u1)/120 - u/20 + (u - 7*u1)/(120*\\varepsilon) + u1/(15*\\varepsilon**2) - (u + 2*u1)/(30*\\varepsilon**3) + (3*u + 4*u1)/(120*\\varepsilon**4) - (u + u1)/(120*\\varepsilon**5)"
      ]
     },
     "metadata": {},
     "output_type": "display_data"
    },
    {
     "name": "stdout",
     "output_type": "stream",
     "text": [
      "h^5 =>\n"
     ]
    },
    {
     "data": {
      "text/latex": [
       "$\\displaystyle \\frac{\\varepsilon^{6} \\left(u - u_{1}\\right)}{144} + \\frac{\\varepsilon^{5} \\left(4 u - 5 u_{1}\\right)}{144} + \\frac{\\varepsilon^{4} \\left(7 u - 12 u_{1}\\right)}{144} + \\frac{\\varepsilon^{3} \\left(u - 4 u_{1}\\right)}{36} - \\frac{\\varepsilon^{2} \\left(u + 15 u_{1}\\right)}{144} - \\frac{\\varepsilon \\left(8 u + 7 u_{1}\\right)}{144} - \\frac{u_{1}}{18} - \\frac{8 u - 7 u_{1}}{144 \\varepsilon} + \\frac{u - 15 u_{1}}{144 \\varepsilon^{2}} + \\frac{u + 4 u_{1}}{36 \\varepsilon^{3}} - \\frac{7 u + 12 u_{1}}{144 \\varepsilon^{4}} + \\frac{4 u + 5 u_{1}}{144 \\varepsilon^{5}} - \\frac{u + u_{1}}{144 \\varepsilon^{6}}$"
      ],
      "text/plain": [
       "\\varepsilon**6*(u - u1)/144 + \\varepsilon**5*(4*u - 5*u1)/144 + \\varepsilon**4*(7*u - 12*u1)/144 + \\varepsilon**3*(u - 4*u1)/36 - \\varepsilon**2*(u + 15*u1)/144 - \\varepsilon*(8*u + 7*u1)/144 - u1/18 - (8*u - 7*u1)/(144*\\varepsilon) + (u - 15*u1)/(144*\\varepsilon**2) + (u + 4*u1)/(36*\\varepsilon**3) - (7*u + 12*u1)/(144*\\varepsilon**4) + (4*u + 5*u1)/(144*\\varepsilon**5) - (u + u1)/(144*\\varepsilon**6)"
      ]
     },
     "metadata": {},
     "output_type": "display_data"
    },
    {
     "name": "stdout",
     "output_type": "stream",
     "text": [
      "\\varepsilon \\left(- u + u_{1}\\right) + u1_{t} + \\frac{u + u_{1}}{\\varepsilon}\n",
      "+h\\left(\n",
      "0\n",
      "\\right)\n",
      "+h^2\\left(\n",
      "0\n",
      "\\right)\n",
      "+h^3\\left(\n",
      "0\n",
      "\\right)\n",
      "+h^4\\left(\n",
      "\\frac{\\varepsilon^{5} \\left(u - u_{1}\\right)}{120} + \\frac{\\varepsilon^{4} \\left(3 u - 4 u_{1}\\right)}{120} + \\frac{\\varepsilon^{3} \\left(u - 2 u_{1}\\right)}{30} - \\frac{\\varepsilon^{2} u_{1}}{15} - \\frac{\\varepsilon \\left(u + 7 u_{1}\\right)}{120} - \\frac{u}{20} + \\frac{u - 7 u_{1}}{120 \\varepsilon} + \\frac{u_{1}}{15 \\varepsilon^{2}} - \\frac{u + 2 u_{1}}{30 \\varepsilon^{3}} + \\frac{3 u + 4 u_{1}}{120 \\varepsilon^{4}} - \\frac{u + u_{1}}{120 \\varepsilon^{5}}\n",
      "\\right)\n",
      "+h^5\\left(\n",
      "\\frac{\\varepsilon^{6} \\left(u - u_{1}\\right)}{144} + \\frac{\\varepsilon^{5} \\left(4 u - 5 u_{1}\\right)}{144} + \\frac{\\varepsilon^{4} \\left(7 u - 12 u_{1}\\right)}{144} + \\frac{\\varepsilon^{3} \\left(u - 4 u_{1}\\right)}{36} - \\frac{\\varepsilon^{2} \\left(u + 15 u_{1}\\right)}{144} - \\frac{\\varepsilon \\left(8 u + 7 u_{1}\\right)}{144} - \\frac{u_{1}}{18} - \\frac{8 u - 7 u_{1}}{144 \\varepsilon} + \\frac{u - 15 u_{1}}{144 \\varepsilon^{2}} + \\frac{u + 4 u_{1}}{36 \\varepsilon^{3}} - \\frac{7 u + 12 u_{1}}{144 \\varepsilon^{4}} + \\frac{4 u + 5 u_{1}}{144 \\varepsilon^{5}} - \\frac{u + u_{1}}{144 \\varepsilon^{6}}\n",
      "\\right)\n"
     ]
    }
   ],
   "source": [
    "f2 = NF(F2, [u(t).diff(t), u1(t).diff(t)], [F1, F2], head=False)\n",
    "prn(f2, eps)\n",
    "prnlatex(f2, eps)"
   ]
  },
  {
   "cell_type": "code",
   "execution_count": 37,
   "id": "ddd49c5c",
   "metadata": {},
   "outputs": [
    {
     "data": {
      "text/latex": [
       "$\\displaystyle \\frac{\\left(\\varepsilon^{10} e^{\\frac{t}{\\varepsilon}} + 5 \\varepsilon^{9} e^{\\frac{t}{\\varepsilon}} + 10 \\varepsilon^{8} e^{\\frac{t}{\\varepsilon}} + 10 \\varepsilon^{7} e^{\\frac{t}{\\varepsilon}} + 5 \\varepsilon^{6} e^{\\frac{t}{\\varepsilon}} + \\varepsilon^{5} e^{\\frac{t}{\\varepsilon}} + \\varepsilon^{5} e^{t \\left(\\varepsilon + 2\\right)} - 5 \\varepsilon^{4} e^{t \\left(\\varepsilon + 2\\right)} + 10 \\varepsilon^{3} e^{t \\left(\\varepsilon + 2\\right)} - 10 \\varepsilon^{2} e^{t \\left(\\varepsilon + 2\\right)} + 5 \\varepsilon e^{t \\left(\\varepsilon + 2\\right)} - e^{t \\left(\\varepsilon + 2\\right)}\\right) e^{- \\varepsilon t + \\varepsilon - t + 1 - \\frac{t}{\\varepsilon} + \\frac{1}{\\varepsilon}}}{120 \\varepsilon^{5} \\left(- e^{\\frac{1}{\\varepsilon}} + e^{\\varepsilon + 2}\\right)}$"
      ],
      "text/plain": [
       "(\\varepsilon**10*exp(t/\\varepsilon) + 5*\\varepsilon**9*exp(t/\\varepsilon) + 10*\\varepsilon**8*exp(t/\\varepsilon) + 10*\\varepsilon**7*exp(t/\\varepsilon) + 5*\\varepsilon**6*exp(t/\\varepsilon) + \\varepsilon**5*exp(t/\\varepsilon) + \\varepsilon**5*exp(t*(\\varepsilon + 2)) - 5*\\varepsilon**4*exp(t*(\\varepsilon + 2)) + 10*\\varepsilon**3*exp(t*(\\varepsilon + 2)) - 10*\\varepsilon**2*exp(t*(\\varepsilon + 2)) + 5*\\varepsilon*exp(t*(\\varepsilon + 2)) - exp(t*(\\varepsilon + 2)))*exp(-\\varepsilon*t + \\varepsilon - t + 1 - t/\\varepsilon + 1/\\varepsilon)/(120*\\varepsilon**5*(-exp(1/\\varepsilon) + exp(\\varepsilon + 2)))"
      ]
     },
     "execution_count": 37,
     "metadata": {},
     "output_type": "execute_result"
    }
   ],
   "source": [
    "f1[4].subs(sol).expand().simplify()"
   ]
  },
  {
   "cell_type": "code",
   "execution_count": 38,
   "id": "cf84b5e6",
   "metadata": {},
   "outputs": [
    {
     "data": {
      "text/latex": [
       "$\\displaystyle \\frac{\\left(- \\varepsilon^{12} e^{\\frac{t}{\\varepsilon}} - 6 \\varepsilon^{11} e^{\\frac{t}{\\varepsilon}} - 15 \\varepsilon^{10} e^{\\frac{t}{\\varepsilon}} - 20 \\varepsilon^{9} e^{\\frac{t}{\\varepsilon}} - 15 \\varepsilon^{8} e^{\\frac{t}{\\varepsilon}} - 6 \\varepsilon^{7} e^{\\frac{t}{\\varepsilon}} - \\varepsilon^{6} e^{\\frac{t}{\\varepsilon}} + \\varepsilon^{6} e^{t \\left(\\varepsilon + 2\\right)} - 6 \\varepsilon^{5} e^{t \\left(\\varepsilon + 2\\right)} + 15 \\varepsilon^{4} e^{t \\left(\\varepsilon + 2\\right)} - 20 \\varepsilon^{3} e^{t \\left(\\varepsilon + 2\\right)} + 15 \\varepsilon^{2} e^{t \\left(\\varepsilon + 2\\right)} - 6 \\varepsilon e^{t \\left(\\varepsilon + 2\\right)} + e^{t \\left(\\varepsilon + 2\\right)}\\right) e^{- \\varepsilon t + \\varepsilon - t + 1 - \\frac{t}{\\varepsilon} + \\frac{1}{\\varepsilon}}}{120 \\varepsilon^{6} \\left(- e^{\\frac{1}{\\varepsilon}} + e^{\\varepsilon + 2}\\right)}$"
      ],
      "text/plain": [
       "(-\\varepsilon**12*exp(t/\\varepsilon) - 6*\\varepsilon**11*exp(t/\\varepsilon) - 15*\\varepsilon**10*exp(t/\\varepsilon) - 20*\\varepsilon**9*exp(t/\\varepsilon) - 15*\\varepsilon**8*exp(t/\\varepsilon) - 6*\\varepsilon**7*exp(t/\\varepsilon) - \\varepsilon**6*exp(t/\\varepsilon) + \\varepsilon**6*exp(t*(\\varepsilon + 2)) - 6*\\varepsilon**5*exp(t*(\\varepsilon + 2)) + 15*\\varepsilon**4*exp(t*(\\varepsilon + 2)) - 20*\\varepsilon**3*exp(t*(\\varepsilon + 2)) + 15*\\varepsilon**2*exp(t*(\\varepsilon + 2)) - 6*\\varepsilon*exp(t*(\\varepsilon + 2)) + exp(t*(\\varepsilon + 2)))*exp(-\\varepsilon*t + \\varepsilon - t + 1 - t/\\varepsilon + 1/\\varepsilon)/(120*\\varepsilon**6*(-exp(1/\\varepsilon) + exp(\\varepsilon + 2)))"
      ]
     },
     "execution_count": 38,
     "metadata": {},
     "output_type": "execute_result"
    }
   ],
   "source": [
    "f2[4].subs(sol).expand().simplify()"
   ]
  },
  {
   "cell_type": "code",
   "execution_count": 39,
   "id": "f71d8128",
   "metadata": {},
   "outputs": [
    {
     "name": "stdout",
     "output_type": "stream",
     "text": [
      "\\frac{\\left(- \\varepsilon^{12} e^{\\frac{t}{\\varepsilon}} - 6 \\varepsilon^{11} e^{\\frac{t}{\\varepsilon}} - 15 \\varepsilon^{10} e^{\\frac{t}{\\varepsilon}} - 20 \\varepsilon^{9} e^{\\frac{t}{\\varepsilon}} - 15 \\varepsilon^{8} e^{\\frac{t}{\\varepsilon}} - 6 \\varepsilon^{7} e^{\\frac{t}{\\varepsilon}} - \\varepsilon^{6} e^{\\frac{t}{\\varepsilon}} + \\varepsilon^{6} e^{t \\left(\\varepsilon + 2\\right)} - 6 \\varepsilon^{5} e^{t \\left(\\varepsilon + 2\\right)} + 15 \\varepsilon^{4} e^{t \\left(\\varepsilon + 2\\right)} - 20 \\varepsilon^{3} e^{t \\left(\\varepsilon + 2\\right)} + 15 \\varepsilon^{2} e^{t \\left(\\varepsilon + 2\\right)} - 6 \\varepsilon e^{t \\left(\\varepsilon + 2\\right)} + e^{t \\left(\\varepsilon + 2\\right)}\\right) e^{- \\varepsilon t + \\varepsilon - t + 1 - \\frac{t}{\\varepsilon} + \\frac{1}{\\varepsilon}}}{120 \\varepsilon^{6} \\left(- e^{\\frac{1}{\\varepsilon}} + e^{\\varepsilon + 2}\\right)}\n"
     ]
    }
   ],
   "source": [
    "print(latex(f2[4].subs(sol).expand().simplify()))"
   ]
  },
  {
   "cell_type": "markdown",
   "id": "4f142c49",
   "metadata": {},
   "source": [
    "## Dormand–Prince method 5 order"
   ]
  },
  {
   "cell_type": "code",
   "execution_count": 40,
   "id": "fa558185",
   "metadata": {},
   "outputs": [],
   "source": [
    "set_clip(8, 7, Rational(0, 1))\n",
    "r = DormandPrince5(f, Matrix([u(t), u1(t)]))"
   ]
  },
  {
   "cell_type": "code",
   "execution_count": 41,
   "id": "aeb70248",
   "metadata": {},
   "outputs": [
    {
     "name": "stdout",
     "output_type": "stream",
     "text": [
      "h^0 =>\n"
     ]
    },
    {
     "data": {
      "text/latex": [
       "$\\displaystyle - u_{1} + u_{t}$"
      ],
      "text/plain": [
       "-u1 + u_{t}"
      ]
     },
     "metadata": {},
     "output_type": "display_data"
    },
    {
     "name": "stdout",
     "output_type": "stream",
     "text": [
      "h^1 =>\n"
     ]
    },
    {
     "data": {
      "text/latex": [
       "$\\displaystyle - \\frac{\\varepsilon \\left(u - u_{1}\\right)}{2} + \\frac{u_{tt}}{2} + \\frac{u + u_{1}}{2 \\varepsilon}$"
      ],
      "text/plain": [
       "-\\varepsilon*(u - u1)/2 + u_{tt}/2 + (u + u1)/(2*\\varepsilon)"
      ]
     },
     "metadata": {},
     "output_type": "display_data"
    },
    {
     "name": "stdout",
     "output_type": "stream",
     "text": [
      "h^2 =>\n"
     ]
    },
    {
     "data": {
      "text/latex": [
       "$\\displaystyle \\frac{\\varepsilon^{2} \\left(u - u_{1}\\right)}{6} - \\frac{\\varepsilon u_{1}}{6} - \\frac{2 u_{1} - u_{ttt}}{6} + \\frac{u_{1}}{6 \\varepsilon} - \\frac{u + u_{1}}{6 \\varepsilon^{2}}$"
      ],
      "text/plain": [
       "\\varepsilon**2*(u - u1)/6 - \\varepsilon*u1/6 - (2*u1 - u_{ttt})/6 + u1/(6*\\varepsilon) - (u + u1)/(6*\\varepsilon**2)"
      ]
     },
     "metadata": {},
     "output_type": "display_data"
    },
    {
     "name": "stdout",
     "output_type": "stream",
     "text": [
      "h^3 =>\n"
     ]
    },
    {
     "data": {
      "text/latex": [
       "$\\displaystyle - \\frac{\\varepsilon^{3} \\left(u - u_{1}\\right)}{24} - \\frac{\\varepsilon^{2} \\left(u - 2 u_{1}\\right)}{24} - \\frac{\\varepsilon \\left(u - 3 u_{1}\\right)}{24} + \\frac{2 u + u_{tttt}}{24} + \\frac{u + 3 u_{1}}{24 \\varepsilon} - \\frac{u + 2 u_{1}}{24 \\varepsilon^{2}} + \\frac{u + u_{1}}{24 \\varepsilon^{3}}$"
      ],
      "text/plain": [
       "-\\varepsilon**3*(u - u1)/24 - \\varepsilon**2*(u - 2*u1)/24 - \\varepsilon*(u - 3*u1)/24 + (2*u + u_{tttt})/24 + (u + 3*u1)/(24*\\varepsilon) - (u + 2*u1)/(24*\\varepsilon**2) + (u + u1)/(24*\\varepsilon**3)"
      ]
     },
     "metadata": {},
     "output_type": "display_data"
    },
    {
     "name": "stdout",
     "output_type": "stream",
     "text": [
      "h^4 =>\n"
     ]
    },
    {
     "data": {
      "text/latex": [
       "$\\displaystyle \\frac{\\varepsilon^{4} \\left(u - u_{1}\\right)}{120} + \\frac{\\varepsilon^{3} \\left(2 u - 3 u_{1}\\right)}{120} + \\frac{\\varepsilon^{2} \\left(2 u - 5 u_{1}\\right)}{120} - \\frac{\\varepsilon \\left(2 u + 3 u_{1}\\right)}{120} - \\frac{4 u_{1} - u_{ttttt}}{120} - \\frac{2 u - 3 u_{1}}{120 \\varepsilon} - \\frac{2 u + 5 u_{1}}{120 \\varepsilon^{2}} + \\frac{2 u + 3 u_{1}}{120 \\varepsilon^{3}} - \\frac{u + u_{1}}{120 \\varepsilon^{4}}$"
      ],
      "text/plain": [
       "\\varepsilon**4*(u - u1)/120 + \\varepsilon**3*(2*u - 3*u1)/120 + \\varepsilon**2*(2*u - 5*u1)/120 - \\varepsilon*(2*u + 3*u1)/120 - (4*u1 - u_{ttttt})/120 - (2*u - 3*u1)/(120*\\varepsilon) - (2*u + 5*u1)/(120*\\varepsilon**2) + (2*u + 3*u1)/(120*\\varepsilon**3) - (u + u1)/(120*\\varepsilon**4)"
      ]
     },
     "metadata": {},
     "output_type": "display_data"
    },
    {
     "name": "stdout",
     "output_type": "stream",
     "text": [
      "h^5 =>\n"
     ]
    },
    {
     "data": {
      "text/latex": [
       "$\\displaystyle - \\frac{\\varepsilon^{5} \\left(u - u_{1}\\right)}{600} - \\frac{\\varepsilon^{4} \\left(3 u - 4 u_{1}\\right)}{600} - \\frac{\\varepsilon^{3} \\left(u - 2 u_{1}\\right)}{150} + \\frac{\\varepsilon^{2} u_{1}}{75} + \\frac{\\varepsilon \\left(u + 7 u_{1}\\right)}{600} + \\frac{36 u + 5 u_{tttttt}}{3600} - \\frac{u - 7 u_{1}}{600 \\varepsilon} - \\frac{u_{1}}{75 \\varepsilon^{2}} + \\frac{u + 2 u_{1}}{150 \\varepsilon^{3}} - \\frac{3 u + 4 u_{1}}{600 \\varepsilon^{4}} + \\frac{u + u_{1}}{600 \\varepsilon^{5}}$"
      ],
      "text/plain": [
       "-\\varepsilon**5*(u - u1)/600 - \\varepsilon**4*(3*u - 4*u1)/600 - \\varepsilon**3*(u - 2*u1)/150 + \\varepsilon**2*u1/75 + \\varepsilon*(u + 7*u1)/600 + (36*u + 5*u_{tttttt})/3600 - (u - 7*u1)/(600*\\varepsilon) - u1/(75*\\varepsilon**2) + (u + 2*u1)/(150*\\varepsilon**3) - (3*u + 4*u1)/(600*\\varepsilon**4) + (u + u1)/(600*\\varepsilon**5)"
      ]
     },
     "metadata": {},
     "output_type": "display_data"
    },
    {
     "name": "stdout",
     "output_type": "stream",
     "text": [
      "h^6 =>\n"
     ]
    },
    {
     "data": {
      "text/latex": [
       "$\\displaystyle \\frac{u_{ttttttt}}{5040}$"
      ],
      "text/plain": [
       "u_{ttttttt}/5040"
      ]
     },
     "metadata": {},
     "output_type": "display_data"
    },
    {
     "name": "stdout",
     "output_type": "stream",
     "text": [
      "- u_{1} + u_{t}\n",
      "+h\\left(\n",
      "- \\frac{\\varepsilon \\left(u - u_{1}\\right)}{2} + \\frac{u_{tt}}{2} + \\frac{u + u_{1}}{2 \\varepsilon}\n",
      "\\right)\n",
      "+h^2\\left(\n",
      "\\frac{\\varepsilon^{2} \\left(u - u_{1}\\right)}{6} - \\frac{\\varepsilon u_{1}}{6} - \\frac{2 u_{1} - u_{ttt}}{6} + \\frac{u_{1}}{6 \\varepsilon} - \\frac{u + u_{1}}{6 \\varepsilon^{2}}\n",
      "\\right)\n",
      "+h^3\\left(\n",
      "- \\frac{\\varepsilon^{3} \\left(u - u_{1}\\right)}{24} - \\frac{\\varepsilon^{2} \\left(u - 2 u_{1}\\right)}{24} - \\frac{\\varepsilon \\left(u - 3 u_{1}\\right)}{24} + \\frac{2 u + u_{tttt}}{24} + \\frac{u + 3 u_{1}}{24 \\varepsilon} - \\frac{u + 2 u_{1}}{24 \\varepsilon^{2}} + \\frac{u + u_{1}}{24 \\varepsilon^{3}}\n",
      "\\right)\n",
      "+h^4\\left(\n",
      "\\frac{\\varepsilon^{4} \\left(u - u_{1}\\right)}{120} + \\frac{\\varepsilon^{3} \\left(2 u - 3 u_{1}\\right)}{120} + \\frac{\\varepsilon^{2} \\left(2 u - 5 u_{1}\\right)}{120} - \\frac{\\varepsilon \\left(2 u + 3 u_{1}\\right)}{120} - \\frac{4 u_{1} - u_{ttttt}}{120} - \\frac{2 u - 3 u_{1}}{120 \\varepsilon} - \\frac{2 u + 5 u_{1}}{120 \\varepsilon^{2}} + \\frac{2 u + 3 u_{1}}{120 \\varepsilon^{3}} - \\frac{u + u_{1}}{120 \\varepsilon^{4}}\n",
      "\\right)\n",
      "+h^5\\left(\n",
      "- \\frac{\\varepsilon^{5} \\left(u - u_{1}\\right)}{600} - \\frac{\\varepsilon^{4} \\left(3 u - 4 u_{1}\\right)}{600} - \\frac{\\varepsilon^{3} \\left(u - 2 u_{1}\\right)}{150} + \\frac{\\varepsilon^{2} u_{1}}{75} + \\frac{\\varepsilon \\left(u + 7 u_{1}\\right)}{600} + \\frac{36 u + 5 u_{tttttt}}{3600} - \\frac{u - 7 u_{1}}{600 \\varepsilon} - \\frac{u_{1}}{75 \\varepsilon^{2}} + \\frac{u + 2 u_{1}}{150 \\varepsilon^{3}} - \\frac{3 u + 4 u_{1}}{600 \\varepsilon^{4}} + \\frac{u + u_{1}}{600 \\varepsilon^{5}}\n",
      "\\right)\n",
      "+h^6\\left(\n",
      "\\frac{u_{ttttttt}}{5040}\n",
      "\\right)\n"
     ]
    }
   ],
   "source": [
    "F1 = clip((T(u(t+h))-T(u(t)))/h - T(r[0]))\n",
    "prn(F1, eps)\n",
    "prnlatex(F1, eps)"
   ]
  },
  {
   "cell_type": "code",
   "execution_count": 42,
   "id": "9a3837a3",
   "metadata": {},
   "outputs": [
    {
     "name": "stdout",
     "output_type": "stream",
     "text": [
      "h^0 =>\n"
     ]
    },
    {
     "data": {
      "text/latex": [
       "$\\displaystyle \\varepsilon \\left(- u + u_{1}\\right) + u1_{t} + \\frac{u + u_{1}}{\\varepsilon}$"
      ],
      "text/plain": [
       "\\varepsilon*(-u + u1) + u1_{t} + (u + u1)/\\varepsilon"
      ]
     },
     "metadata": {},
     "output_type": "display_data"
    },
    {
     "name": "stdout",
     "output_type": "stream",
     "text": [
      "h^1 =>\n"
     ]
    },
    {
     "data": {
      "text/latex": [
       "$\\displaystyle \\frac{\\varepsilon^{2} \\left(u - u_{1}\\right)}{2} - \\frac{\\varepsilon u_{1}}{2} - \\frac{2 u_{1} - u1_{tt}}{2} + \\frac{u_{1}}{2 \\varepsilon} - \\frac{u + u_{1}}{2 \\varepsilon^{2}}$"
      ],
      "text/plain": [
       "\\varepsilon**2*(u - u1)/2 - \\varepsilon*u1/2 - (2*u1 - u1_{tt})/2 + u1/(2*\\varepsilon) - (u + u1)/(2*\\varepsilon**2)"
      ]
     },
     "metadata": {},
     "output_type": "display_data"
    },
    {
     "name": "stdout",
     "output_type": "stream",
     "text": [
      "h^2 =>\n"
     ]
    },
    {
     "data": {
      "text/latex": [
       "$\\displaystyle - \\frac{\\varepsilon^{3} \\left(u - u_{1}\\right)}{6} - \\frac{\\varepsilon^{2} \\left(u - 2 u_{1}\\right)}{6} - \\frac{\\varepsilon \\left(u - 3 u_{1}\\right)}{6} + \\frac{2 u + u1_{ttt}}{6} + \\frac{u + 3 u_{1}}{6 \\varepsilon} - \\frac{u + 2 u_{1}}{6 \\varepsilon^{2}} + \\frac{u + u_{1}}{6 \\varepsilon^{3}}$"
      ],
      "text/plain": [
       "-\\varepsilon**3*(u - u1)/6 - \\varepsilon**2*(u - 2*u1)/6 - \\varepsilon*(u - 3*u1)/6 + (2*u + u1_{ttt})/6 + (u + 3*u1)/(6*\\varepsilon) - (u + 2*u1)/(6*\\varepsilon**2) + (u + u1)/(6*\\varepsilon**3)"
      ]
     },
     "metadata": {},
     "output_type": "display_data"
    },
    {
     "name": "stdout",
     "output_type": "stream",
     "text": [
      "h^3 =>\n"
     ]
    },
    {
     "data": {
      "text/latex": [
       "$\\displaystyle \\frac{\\varepsilon^{4} \\left(u - u_{1}\\right)}{24} + \\frac{\\varepsilon^{3} \\left(2 u - 3 u_{1}\\right)}{24} + \\frac{\\varepsilon^{2} \\left(2 u - 5 u_{1}\\right)}{24} - \\frac{\\varepsilon \\left(2 u + 3 u_{1}\\right)}{24} - \\frac{4 u_{1} - u1_{tttt}}{24} - \\frac{2 u - 3 u_{1}}{24 \\varepsilon} - \\frac{2 u + 5 u_{1}}{24 \\varepsilon^{2}} + \\frac{2 u + 3 u_{1}}{24 \\varepsilon^{3}} - \\frac{u + u_{1}}{24 \\varepsilon^{4}}$"
      ],
      "text/plain": [
       "\\varepsilon**4*(u - u1)/24 + \\varepsilon**3*(2*u - 3*u1)/24 + \\varepsilon**2*(2*u - 5*u1)/24 - \\varepsilon*(2*u + 3*u1)/24 - (4*u1 - u1_{tttt})/24 - (2*u - 3*u1)/(24*\\varepsilon) - (2*u + 5*u1)/(24*\\varepsilon**2) + (2*u + 3*u1)/(24*\\varepsilon**3) - (u + u1)/(24*\\varepsilon**4)"
      ]
     },
     "metadata": {},
     "output_type": "display_data"
    },
    {
     "name": "stdout",
     "output_type": "stream",
     "text": [
      "h^4 =>\n"
     ]
    },
    {
     "data": {
      "text/latex": [
       "$\\displaystyle - \\frac{\\varepsilon^{5} \\left(u - u_{1}\\right)}{120} - \\frac{\\varepsilon^{4} \\left(3 u - 4 u_{1}\\right)}{120} - \\frac{\\varepsilon^{3} \\left(u - 2 u_{1}\\right)}{30} + \\frac{\\varepsilon^{2} u_{1}}{15} + \\frac{\\varepsilon \\left(u + 7 u_{1}\\right)}{120} + \\frac{6 u + u1_{ttttt}}{120} - \\frac{u - 7 u_{1}}{120 \\varepsilon} - \\frac{u_{1}}{15 \\varepsilon^{2}} + \\frac{u + 2 u_{1}}{30 \\varepsilon^{3}} - \\frac{3 u + 4 u_{1}}{120 \\varepsilon^{4}} + \\frac{u + u_{1}}{120 \\varepsilon^{5}}$"
      ],
      "text/plain": [
       "-\\varepsilon**5*(u - u1)/120 - \\varepsilon**4*(3*u - 4*u1)/120 - \\varepsilon**3*(u - 2*u1)/30 + \\varepsilon**2*u1/15 + \\varepsilon*(u + 7*u1)/120 + (6*u + u1_{ttttt})/120 - (u - 7*u1)/(120*\\varepsilon) - u1/(15*\\varepsilon**2) + (u + 2*u1)/(30*\\varepsilon**3) - (3*u + 4*u1)/(120*\\varepsilon**4) + (u + u1)/(120*\\varepsilon**5)"
      ]
     },
     "metadata": {},
     "output_type": "display_data"
    },
    {
     "name": "stdout",
     "output_type": "stream",
     "text": [
      "h^5 =>\n"
     ]
    },
    {
     "data": {
      "text/latex": [
       "$\\displaystyle \\frac{\\varepsilon^{6} \\left(u - u_{1}\\right)}{600} + \\frac{\\varepsilon^{5} \\left(4 u - 5 u_{1}\\right)}{600} + \\frac{\\varepsilon^{4} \\left(7 u - 12 u_{1}\\right)}{600} + \\frac{\\varepsilon^{3} \\left(u - 4 u_{1}\\right)}{150} - \\frac{\\varepsilon^{2} \\left(u + 15 u_{1}\\right)}{600} - \\frac{\\varepsilon \\left(8 u + 7 u_{1}\\right)}{600} - \\frac{48 u_{1} - 5 u1_{tttttt}}{3600} - \\frac{8 u - 7 u_{1}}{600 \\varepsilon} + \\frac{u - 15 u_{1}}{600 \\varepsilon^{2}} + \\frac{u + 4 u_{1}}{150 \\varepsilon^{3}} - \\frac{7 u + 12 u_{1}}{600 \\varepsilon^{4}} + \\frac{4 u + 5 u_{1}}{600 \\varepsilon^{5}} - \\frac{u + u_{1}}{600 \\varepsilon^{6}}$"
      ],
      "text/plain": [
       "\\varepsilon**6*(u - u1)/600 + \\varepsilon**5*(4*u - 5*u1)/600 + \\varepsilon**4*(7*u - 12*u1)/600 + \\varepsilon**3*(u - 4*u1)/150 - \\varepsilon**2*(u + 15*u1)/600 - \\varepsilon*(8*u + 7*u1)/600 - (48*u1 - 5*u1_{tttttt})/3600 - (8*u - 7*u1)/(600*\\varepsilon) + (u - 15*u1)/(600*\\varepsilon**2) + (u + 4*u1)/(150*\\varepsilon**3) - (7*u + 12*u1)/(600*\\varepsilon**4) + (4*u + 5*u1)/(600*\\varepsilon**5) - (u + u1)/(600*\\varepsilon**6)"
      ]
     },
     "metadata": {},
     "output_type": "display_data"
    },
    {
     "name": "stdout",
     "output_type": "stream",
     "text": [
      "h^6 =>\n"
     ]
    },
    {
     "data": {
      "text/latex": [
       "$\\displaystyle \\frac{u1_{ttttttt}}{5040}$"
      ],
      "text/plain": [
       "u1_{ttttttt}/5040"
      ]
     },
     "metadata": {},
     "output_type": "display_data"
    },
    {
     "name": "stdout",
     "output_type": "stream",
     "text": [
      "\\varepsilon \\left(- u + u_{1}\\right) + u1_{t} + \\frac{u + u_{1}}{\\varepsilon}\n",
      "+h\\left(\n",
      "\\frac{\\varepsilon^{2} \\left(u - u_{1}\\right)}{2} - \\frac{\\varepsilon u_{1}}{2} - \\frac{2 u_{1} - u1_{tt}}{2} + \\frac{u_{1}}{2 \\varepsilon} - \\frac{u + u_{1}}{2 \\varepsilon^{2}}\n",
      "\\right)\n",
      "+h^2\\left(\n",
      "- \\frac{\\varepsilon^{3} \\left(u - u_{1}\\right)}{6} - \\frac{\\varepsilon^{2} \\left(u - 2 u_{1}\\right)}{6} - \\frac{\\varepsilon \\left(u - 3 u_{1}\\right)}{6} + \\frac{2 u + u1_{ttt}}{6} + \\frac{u + 3 u_{1}}{6 \\varepsilon} - \\frac{u + 2 u_{1}}{6 \\varepsilon^{2}} + \\frac{u + u_{1}}{6 \\varepsilon^{3}}\n",
      "\\right)\n",
      "+h^3\\left(\n",
      "\\frac{\\varepsilon^{4} \\left(u - u_{1}\\right)}{24} + \\frac{\\varepsilon^{3} \\left(2 u - 3 u_{1}\\right)}{24} + \\frac{\\varepsilon^{2} \\left(2 u - 5 u_{1}\\right)}{24} - \\frac{\\varepsilon \\left(2 u + 3 u_{1}\\right)}{24} - \\frac{4 u_{1} - u1_{tttt}}{24} - \\frac{2 u - 3 u_{1}}{24 \\varepsilon} - \\frac{2 u + 5 u_{1}}{24 \\varepsilon^{2}} + \\frac{2 u + 3 u_{1}}{24 \\varepsilon^{3}} - \\frac{u + u_{1}}{24 \\varepsilon^{4}}\n",
      "\\right)\n",
      "+h^4\\left(\n",
      "- \\frac{\\varepsilon^{5} \\left(u - u_{1}\\right)}{120} - \\frac{\\varepsilon^{4} \\left(3 u - 4 u_{1}\\right)}{120} - \\frac{\\varepsilon^{3} \\left(u - 2 u_{1}\\right)}{30} + \\frac{\\varepsilon^{2} u_{1}}{15} + \\frac{\\varepsilon \\left(u + 7 u_{1}\\right)}{120} + \\frac{6 u + u1_{ttttt}}{120} - \\frac{u - 7 u_{1}}{120 \\varepsilon} - \\frac{u_{1}}{15 \\varepsilon^{2}} + \\frac{u + 2 u_{1}}{30 \\varepsilon^{3}} - \\frac{3 u + 4 u_{1}}{120 \\varepsilon^{4}} + \\frac{u + u_{1}}{120 \\varepsilon^{5}}\n",
      "\\right)\n",
      "+h^5\\left(\n",
      "\\frac{\\varepsilon^{6} \\left(u - u_{1}\\right)}{600} + \\frac{\\varepsilon^{5} \\left(4 u - 5 u_{1}\\right)}{600} + \\frac{\\varepsilon^{4} \\left(7 u - 12 u_{1}\\right)}{600} + \\frac{\\varepsilon^{3} \\left(u - 4 u_{1}\\right)}{150} - \\frac{\\varepsilon^{2} \\left(u + 15 u_{1}\\right)}{600} - \\frac{\\varepsilon \\left(8 u + 7 u_{1}\\right)}{600} - \\frac{48 u_{1} - 5 u1_{tttttt}}{3600} - \\frac{8 u - 7 u_{1}}{600 \\varepsilon} + \\frac{u - 15 u_{1}}{600 \\varepsilon^{2}} + \\frac{u + 4 u_{1}}{150 \\varepsilon^{3}} - \\frac{7 u + 12 u_{1}}{600 \\varepsilon^{4}} + \\frac{4 u + 5 u_{1}}{600 \\varepsilon^{5}} - \\frac{u + u_{1}}{600 \\varepsilon^{6}}\n",
      "\\right)\n",
      "+h^6\\left(\n",
      "\\frac{u1_{ttttttt}}{5040}\n",
      "\\right)\n"
     ]
    }
   ],
   "source": [
    "F2 = clip((T(u1(t+h))-T(u1(t)))/h - T(r[1]))\n",
    "prn(F2, eps)\n",
    "prnlatex(F2, eps)"
   ]
  },
  {
   "cell_type": "code",
   "execution_count": 43,
   "id": "8dd431e9",
   "metadata": {},
   "outputs": [
    {
     "name": "stdout",
     "output_type": "stream",
     "text": [
      "h^0 =>\n"
     ]
    },
    {
     "data": {
      "text/latex": [
       "$\\displaystyle - u_{1} + u_{t}$"
      ],
      "text/plain": [
       "-u1 + u_{t}"
      ]
     },
     "metadata": {},
     "output_type": "display_data"
    },
    {
     "name": "stdout",
     "output_type": "stream",
     "text": [
      "h^1 =>\n"
     ]
    },
    {
     "data": {
      "text/latex": [
       "$\\displaystyle 0$"
      ],
      "text/plain": [
       "0"
      ]
     },
     "metadata": {},
     "output_type": "display_data"
    },
    {
     "name": "stdout",
     "output_type": "stream",
     "text": [
      "h^2 =>\n"
     ]
    },
    {
     "data": {
      "text/latex": [
       "$\\displaystyle 0$"
      ],
      "text/plain": [
       "0"
      ]
     },
     "metadata": {},
     "output_type": "display_data"
    },
    {
     "name": "stdout",
     "output_type": "stream",
     "text": [
      "h^3 =>\n"
     ]
    },
    {
     "data": {
      "text/latex": [
       "$\\displaystyle 0$"
      ],
      "text/plain": [
       "0"
      ]
     },
     "metadata": {},
     "output_type": "display_data"
    },
    {
     "name": "stdout",
     "output_type": "stream",
     "text": [
      "h^4 =>\n"
     ]
    },
    {
     "data": {
      "text/latex": [
       "$\\displaystyle 0$"
      ],
      "text/plain": [
       "0"
      ]
     },
     "metadata": {},
     "output_type": "display_data"
    },
    {
     "name": "stdout",
     "output_type": "stream",
     "text": [
      "h^5 =>\n"
     ]
    },
    {
     "data": {
      "text/latex": [
       "$\\displaystyle - \\frac{\\varepsilon^{5} \\left(u - u_{1}\\right)}{3600} - \\frac{\\varepsilon^{4} \\left(3 u - 4 u_{1}\\right)}{3600} - \\frac{\\varepsilon^{3} \\left(u - 2 u_{1}\\right)}{900} + \\frac{\\varepsilon^{2} u_{1}}{450} + \\frac{\\varepsilon \\left(u + 7 u_{1}\\right)}{3600} + \\frac{u}{600} - \\frac{u - 7 u_{1}}{3600 \\varepsilon} - \\frac{u_{1}}{450 \\varepsilon^{2}} + \\frac{u + 2 u_{1}}{900 \\varepsilon^{3}} - \\frac{3 u + 4 u_{1}}{3600 \\varepsilon^{4}} + \\frac{u + u_{1}}{3600 \\varepsilon^{5}}$"
      ],
      "text/plain": [
       "-\\varepsilon**5*(u - u1)/3600 - \\varepsilon**4*(3*u - 4*u1)/3600 - \\varepsilon**3*(u - 2*u1)/900 + \\varepsilon**2*u1/450 + \\varepsilon*(u + 7*u1)/3600 + u/600 - (u - 7*u1)/(3600*\\varepsilon) - u1/(450*\\varepsilon**2) + (u + 2*u1)/(900*\\varepsilon**3) - (3*u + 4*u1)/(3600*\\varepsilon**4) + (u + u1)/(3600*\\varepsilon**5)"
      ]
     },
     "metadata": {},
     "output_type": "display_data"
    },
    {
     "name": "stdout",
     "output_type": "stream",
     "text": [
      "h^6 =>\n"
     ]
    },
    {
     "data": {
      "text/latex": [
       "$\\displaystyle - \\frac{\\varepsilon^{6} \\left(u - u_{1}\\right)}{2100} - \\frac{\\varepsilon^{5} \\left(4 u - 5 u_{1}\\right)}{2100} - \\frac{\\varepsilon^{4} \\left(7 u - 12 u_{1}\\right)}{2100} - \\frac{\\varepsilon^{3} \\left(u - 4 u_{1}\\right)}{525} + \\frac{\\varepsilon^{2} \\left(u + 15 u_{1}\\right)}{2100} + \\frac{\\varepsilon \\left(8 u + 7 u_{1}\\right)}{2100} + \\frac{2 u_{1}}{525} + \\frac{8 u - 7 u_{1}}{2100 \\varepsilon} - \\frac{u - 15 u_{1}}{2100 \\varepsilon^{2}} - \\frac{u + 4 u_{1}}{525 \\varepsilon^{3}} + \\frac{7 u + 12 u_{1}}{2100 \\varepsilon^{4}} - \\frac{4 u + 5 u_{1}}{2100 \\varepsilon^{5}} + \\frac{u + u_{1}}{2100 \\varepsilon^{6}}$"
      ],
      "text/plain": [
       "-\\varepsilon**6*(u - u1)/2100 - \\varepsilon**5*(4*u - 5*u1)/2100 - \\varepsilon**4*(7*u - 12*u1)/2100 - \\varepsilon**3*(u - 4*u1)/525 + \\varepsilon**2*(u + 15*u1)/2100 + \\varepsilon*(8*u + 7*u1)/2100 + 2*u1/525 + (8*u - 7*u1)/(2100*\\varepsilon) - (u - 15*u1)/(2100*\\varepsilon**2) - (u + 4*u1)/(525*\\varepsilon**3) + (7*u + 12*u1)/(2100*\\varepsilon**4) - (4*u + 5*u1)/(2100*\\varepsilon**5) + (u + u1)/(2100*\\varepsilon**6)"
      ]
     },
     "metadata": {},
     "output_type": "display_data"
    },
    {
     "name": "stdout",
     "output_type": "stream",
     "text": [
      "- u_{1} + u_{t}\n",
      "+h\\left(\n",
      "0\n",
      "\\right)\n",
      "+h^2\\left(\n",
      "0\n",
      "\\right)\n",
      "+h^3\\left(\n",
      "0\n",
      "\\right)\n",
      "+h^4\\left(\n",
      "0\n",
      "\\right)\n",
      "+h^5\\left(\n",
      "- \\frac{\\varepsilon^{5} \\left(u - u_{1}\\right)}{3600} - \\frac{\\varepsilon^{4} \\left(3 u - 4 u_{1}\\right)}{3600} - \\frac{\\varepsilon^{3} \\left(u - 2 u_{1}\\right)}{900} + \\frac{\\varepsilon^{2} u_{1}}{450} + \\frac{\\varepsilon \\left(u + 7 u_{1}\\right)}{3600} + \\frac{u}{600} - \\frac{u - 7 u_{1}}{3600 \\varepsilon} - \\frac{u_{1}}{450 \\varepsilon^{2}} + \\frac{u + 2 u_{1}}{900 \\varepsilon^{3}} - \\frac{3 u + 4 u_{1}}{3600 \\varepsilon^{4}} + \\frac{u + u_{1}}{3600 \\varepsilon^{5}}\n",
      "\\right)\n",
      "+h^6\\left(\n",
      "- \\frac{\\varepsilon^{6} \\left(u - u_{1}\\right)}{2100} - \\frac{\\varepsilon^{5} \\left(4 u - 5 u_{1}\\right)}{2100} - \\frac{\\varepsilon^{4} \\left(7 u - 12 u_{1}\\right)}{2100} - \\frac{\\varepsilon^{3} \\left(u - 4 u_{1}\\right)}{525} + \\frac{\\varepsilon^{2} \\left(u + 15 u_{1}\\right)}{2100} + \\frac{\\varepsilon \\left(8 u + 7 u_{1}\\right)}{2100} + \\frac{2 u_{1}}{525} + \\frac{8 u - 7 u_{1}}{2100 \\varepsilon} - \\frac{u - 15 u_{1}}{2100 \\varepsilon^{2}} - \\frac{u + 4 u_{1}}{525 \\varepsilon^{3}} + \\frac{7 u + 12 u_{1}}{2100 \\varepsilon^{4}} - \\frac{4 u + 5 u_{1}}{2100 \\varepsilon^{5}} + \\frac{u + u_{1}}{2100 \\varepsilon^{6}}\n",
      "\\right)\n"
     ]
    }
   ],
   "source": [
    "f1 = NF(F1, [u(t).diff(t), u1(t).diff(t)], [F1, F2], head=False)\n",
    "prn(f1, eps)\n",
    "prnlatex(f1, eps)"
   ]
  },
  {
   "cell_type": "code",
   "execution_count": 44,
   "id": "2662e988",
   "metadata": {},
   "outputs": [
    {
     "name": "stdout",
     "output_type": "stream",
     "text": [
      "h^0 =>\n"
     ]
    },
    {
     "data": {
      "text/latex": [
       "$\\displaystyle \\varepsilon \\left(- u + u_{1}\\right) + u1_{t} + \\frac{u + u_{1}}{\\varepsilon}$"
      ],
      "text/plain": [
       "\\varepsilon*(-u + u1) + u1_{t} + (u + u1)/\\varepsilon"
      ]
     },
     "metadata": {},
     "output_type": "display_data"
    },
    {
     "name": "stdout",
     "output_type": "stream",
     "text": [
      "h^1 =>\n"
     ]
    },
    {
     "data": {
      "text/latex": [
       "$\\displaystyle 0$"
      ],
      "text/plain": [
       "0"
      ]
     },
     "metadata": {},
     "output_type": "display_data"
    },
    {
     "name": "stdout",
     "output_type": "stream",
     "text": [
      "h^2 =>\n"
     ]
    },
    {
     "data": {
      "text/latex": [
       "$\\displaystyle 0$"
      ],
      "text/plain": [
       "0"
      ]
     },
     "metadata": {},
     "output_type": "display_data"
    },
    {
     "name": "stdout",
     "output_type": "stream",
     "text": [
      "h^3 =>\n"
     ]
    },
    {
     "data": {
      "text/latex": [
       "$\\displaystyle 0$"
      ],
      "text/plain": [
       "0"
      ]
     },
     "metadata": {},
     "output_type": "display_data"
    },
    {
     "name": "stdout",
     "output_type": "stream",
     "text": [
      "h^4 =>\n"
     ]
    },
    {
     "data": {
      "text/latex": [
       "$\\displaystyle 0$"
      ],
      "text/plain": [
       "0"
      ]
     },
     "metadata": {},
     "output_type": "display_data"
    },
    {
     "name": "stdout",
     "output_type": "stream",
     "text": [
      "h^5 =>\n"
     ]
    },
    {
     "data": {
      "text/latex": [
       "$\\displaystyle \\frac{\\varepsilon^{6} \\left(u - u_{1}\\right)}{3600} + \\frac{\\varepsilon^{5} \\left(4 u - 5 u_{1}\\right)}{3600} + \\frac{\\varepsilon^{4} \\left(7 u - 12 u_{1}\\right)}{3600} + \\frac{\\varepsilon^{3} \\left(u - 4 u_{1}\\right)}{900} - \\frac{\\varepsilon^{2} \\left(u + 15 u_{1}\\right)}{3600} - \\frac{\\varepsilon \\left(8 u + 7 u_{1}\\right)}{3600} - \\frac{u_{1}}{450} - \\frac{8 u - 7 u_{1}}{3600 \\varepsilon} + \\frac{u - 15 u_{1}}{3600 \\varepsilon^{2}} + \\frac{u + 4 u_{1}}{900 \\varepsilon^{3}} - \\frac{7 u + 12 u_{1}}{3600 \\varepsilon^{4}} + \\frac{4 u + 5 u_{1}}{3600 \\varepsilon^{5}} - \\frac{u + u_{1}}{3600 \\varepsilon^{6}}$"
      ],
      "text/plain": [
       "\\varepsilon**6*(u - u1)/3600 + \\varepsilon**5*(4*u - 5*u1)/3600 + \\varepsilon**4*(7*u - 12*u1)/3600 + \\varepsilon**3*(u - 4*u1)/900 - \\varepsilon**2*(u + 15*u1)/3600 - \\varepsilon*(8*u + 7*u1)/3600 - u1/450 - (8*u - 7*u1)/(3600*\\varepsilon) + (u - 15*u1)/(3600*\\varepsilon**2) + (u + 4*u1)/(900*\\varepsilon**3) - (7*u + 12*u1)/(3600*\\varepsilon**4) + (4*u + 5*u1)/(3600*\\varepsilon**5) - (u + u1)/(3600*\\varepsilon**6)"
      ]
     },
     "metadata": {},
     "output_type": "display_data"
    },
    {
     "name": "stdout",
     "output_type": "stream",
     "text": [
      "h^6 =>\n"
     ]
    },
    {
     "data": {
      "text/latex": [
       "$\\displaystyle \\frac{\\varepsilon^{7} \\left(u - u_{1}\\right)}{2100} + \\frac{\\varepsilon^{6} \\left(5 u - 6 u_{1}\\right)}{2100} + \\frac{\\varepsilon^{5} \\left(11 u - 17 u_{1}\\right)}{2100} + \\frac{\\varepsilon^{4} \\left(11 u - 28 u_{1}\\right)}{2100} + \\frac{\\varepsilon^{3} \\left(3 u - 31 u_{1}\\right)}{2100} - \\frac{\\varepsilon^{2} \\left(9 u + 22 u_{1}\\right)}{2100} - \\frac{\\varepsilon \\left(7 u + 15 u_{1}\\right)}{2100} - \\frac{u}{150} + \\frac{7 u - 15 u_{1}}{2100 \\varepsilon} - \\frac{9 u - 22 u_{1}}{2100 \\varepsilon^{2}} - \\frac{3 u + 31 u_{1}}{2100 \\varepsilon^{3}} + \\frac{11 u + 28 u_{1}}{2100 \\varepsilon^{4}} - \\frac{11 u + 17 u_{1}}{2100 \\varepsilon^{5}} + \\frac{5 u + 6 u_{1}}{2100 \\varepsilon^{6}} - \\frac{u + u_{1}}{2100 \\varepsilon^{7}}$"
      ],
      "text/plain": [
       "\\varepsilon**7*(u - u1)/2100 + \\varepsilon**6*(5*u - 6*u1)/2100 + \\varepsilon**5*(11*u - 17*u1)/2100 + \\varepsilon**4*(11*u - 28*u1)/2100 + \\varepsilon**3*(3*u - 31*u1)/2100 - \\varepsilon**2*(9*u + 22*u1)/2100 - \\varepsilon*(7*u + 15*u1)/2100 - u/150 + (7*u - 15*u1)/(2100*\\varepsilon) - (9*u - 22*u1)/(2100*\\varepsilon**2) - (3*u + 31*u1)/(2100*\\varepsilon**3) + (11*u + 28*u1)/(2100*\\varepsilon**4) - (11*u + 17*u1)/(2100*\\varepsilon**5) + (5*u + 6*u1)/(2100*\\varepsilon**6) - (u + u1)/(2100*\\varepsilon**7)"
      ]
     },
     "metadata": {},
     "output_type": "display_data"
    },
    {
     "name": "stdout",
     "output_type": "stream",
     "text": [
      "\\varepsilon \\left(- u + u_{1}\\right) + u1_{t} + \\frac{u + u_{1}}{\\varepsilon}\n",
      "+h\\left(\n",
      "0\n",
      "\\right)\n",
      "+h^2\\left(\n",
      "0\n",
      "\\right)\n",
      "+h^3\\left(\n",
      "0\n",
      "\\right)\n",
      "+h^4\\left(\n",
      "0\n",
      "\\right)\n",
      "+h^5\\left(\n",
      "\\frac{\\varepsilon^{6} \\left(u - u_{1}\\right)}{3600} + \\frac{\\varepsilon^{5} \\left(4 u - 5 u_{1}\\right)}{3600} + \\frac{\\varepsilon^{4} \\left(7 u - 12 u_{1}\\right)}{3600} + \\frac{\\varepsilon^{3} \\left(u - 4 u_{1}\\right)}{900} - \\frac{\\varepsilon^{2} \\left(u + 15 u_{1}\\right)}{3600} - \\frac{\\varepsilon \\left(8 u + 7 u_{1}\\right)}{3600} - \\frac{u_{1}}{450} - \\frac{8 u - 7 u_{1}}{3600 \\varepsilon} + \\frac{u - 15 u_{1}}{3600 \\varepsilon^{2}} + \\frac{u + 4 u_{1}}{900 \\varepsilon^{3}} - \\frac{7 u + 12 u_{1}}{3600 \\varepsilon^{4}} + \\frac{4 u + 5 u_{1}}{3600 \\varepsilon^{5}} - \\frac{u + u_{1}}{3600 \\varepsilon^{6}}\n",
      "\\right)\n",
      "+h^6\\left(\n",
      "\\frac{\\varepsilon^{7} \\left(u - u_{1}\\right)}{2100} + \\frac{\\varepsilon^{6} \\left(5 u - 6 u_{1}\\right)}{2100} + \\frac{\\varepsilon^{5} \\left(11 u - 17 u_{1}\\right)}{2100} + \\frac{\\varepsilon^{4} \\left(11 u - 28 u_{1}\\right)}{2100} + \\frac{\\varepsilon^{3} \\left(3 u - 31 u_{1}\\right)}{2100} - \\frac{\\varepsilon^{2} \\left(9 u + 22 u_{1}\\right)}{2100} - \\frac{\\varepsilon \\left(7 u + 15 u_{1}\\right)}{2100} - \\frac{u}{150} + \\frac{7 u - 15 u_{1}}{2100 \\varepsilon} - \\frac{9 u - 22 u_{1}}{2100 \\varepsilon^{2}} - \\frac{3 u + 31 u_{1}}{2100 \\varepsilon^{3}} + \\frac{11 u + 28 u_{1}}{2100 \\varepsilon^{4}} - \\frac{11 u + 17 u_{1}}{2100 \\varepsilon^{5}} + \\frac{5 u + 6 u_{1}}{2100 \\varepsilon^{6}} - \\frac{u + u_{1}}{2100 \\varepsilon^{7}}\n",
      "\\right)\n"
     ]
    }
   ],
   "source": [
    "f2 = NF(F2, [u(t).diff(t), u1(t).diff(t)], [F1, F2], head=False)\n",
    "prn(f2, eps)\n",
    "prnlatex(f2, eps)"
   ]
  },
  {
   "cell_type": "code",
   "execution_count": 45,
   "id": "2afa1b44",
   "metadata": {},
   "outputs": [
    {
     "data": {
      "text/latex": [
       "$\\displaystyle \\frac{\\left(\\varepsilon^{12} e^{\\frac{t}{\\varepsilon}} + 6 \\varepsilon^{11} e^{\\frac{t}{\\varepsilon}} + 15 \\varepsilon^{10} e^{\\frac{t}{\\varepsilon}} + 20 \\varepsilon^{9} e^{\\frac{t}{\\varepsilon}} + 15 \\varepsilon^{8} e^{\\frac{t}{\\varepsilon}} + 6 \\varepsilon^{7} e^{\\frac{t}{\\varepsilon}} + \\varepsilon^{6} e^{\\frac{t}{\\varepsilon}} - \\varepsilon^{6} e^{t \\left(\\varepsilon + 2\\right)} + 6 \\varepsilon^{5} e^{t \\left(\\varepsilon + 2\\right)} - 15 \\varepsilon^{4} e^{t \\left(\\varepsilon + 2\\right)} + 20 \\varepsilon^{3} e^{t \\left(\\varepsilon + 2\\right)} - 15 \\varepsilon^{2} e^{t \\left(\\varepsilon + 2\\right)} + 6 \\varepsilon e^{t \\left(\\varepsilon + 2\\right)} - e^{t \\left(\\varepsilon + 2\\right)}\\right) e^{- \\varepsilon t + \\varepsilon - t + 1 - \\frac{t}{\\varepsilon} + \\frac{1}{\\varepsilon}}}{3600 \\varepsilon^{6} \\left(- e^{\\frac{1}{\\varepsilon}} + e^{\\varepsilon + 2}\\right)}$"
      ],
      "text/plain": [
       "(\\varepsilon**12*exp(t/\\varepsilon) + 6*\\varepsilon**11*exp(t/\\varepsilon) + 15*\\varepsilon**10*exp(t/\\varepsilon) + 20*\\varepsilon**9*exp(t/\\varepsilon) + 15*\\varepsilon**8*exp(t/\\varepsilon) + 6*\\varepsilon**7*exp(t/\\varepsilon) + \\varepsilon**6*exp(t/\\varepsilon) - \\varepsilon**6*exp(t*(\\varepsilon + 2)) + 6*\\varepsilon**5*exp(t*(\\varepsilon + 2)) - 15*\\varepsilon**4*exp(t*(\\varepsilon + 2)) + 20*\\varepsilon**3*exp(t*(\\varepsilon + 2)) - 15*\\varepsilon**2*exp(t*(\\varepsilon + 2)) + 6*\\varepsilon*exp(t*(\\varepsilon + 2)) - exp(t*(\\varepsilon + 2)))*exp(-\\varepsilon*t + \\varepsilon - t + 1 - t/\\varepsilon + 1/\\varepsilon)/(3600*\\varepsilon**6*(-exp(1/\\varepsilon) + exp(\\varepsilon + 2)))"
      ]
     },
     "execution_count": 45,
     "metadata": {},
     "output_type": "execute_result"
    }
   ],
   "source": [
    "f1[5].subs(sol).expand().simplify()"
   ]
  },
  {
   "cell_type": "code",
   "execution_count": 46,
   "id": "a7f88b4c",
   "metadata": {},
   "outputs": [
    {
     "data": {
      "text/latex": [
       "$\\displaystyle \\frac{\\left(- \\varepsilon^{14} e^{\\frac{t}{\\varepsilon}} - 7 \\varepsilon^{13} e^{\\frac{t}{\\varepsilon}} - 21 \\varepsilon^{12} e^{\\frac{t}{\\varepsilon}} - 35 \\varepsilon^{11} e^{\\frac{t}{\\varepsilon}} - 35 \\varepsilon^{10} e^{\\frac{t}{\\varepsilon}} - 21 \\varepsilon^{9} e^{\\frac{t}{\\varepsilon}} - 7 \\varepsilon^{8} e^{\\frac{t}{\\varepsilon}} - \\varepsilon^{7} e^{\\frac{t}{\\varepsilon}} - \\varepsilon^{7} e^{t \\left(\\varepsilon + 2\\right)} + 7 \\varepsilon^{6} e^{t \\left(\\varepsilon + 2\\right)} - 21 \\varepsilon^{5} e^{t \\left(\\varepsilon + 2\\right)} + 35 \\varepsilon^{4} e^{t \\left(\\varepsilon + 2\\right)} - 35 \\varepsilon^{3} e^{t \\left(\\varepsilon + 2\\right)} + 21 \\varepsilon^{2} e^{t \\left(\\varepsilon + 2\\right)} - 7 \\varepsilon e^{t \\left(\\varepsilon + 2\\right)} + e^{t \\left(\\varepsilon + 2\\right)}\\right) e^{- \\varepsilon t + \\varepsilon - t + 1 - \\frac{t}{\\varepsilon} + \\frac{1}{\\varepsilon}}}{3600 \\varepsilon^{7} \\left(- e^{\\frac{1}{\\varepsilon}} + e^{\\varepsilon + 2}\\right)}$"
      ],
      "text/plain": [
       "(-\\varepsilon**14*exp(t/\\varepsilon) - 7*\\varepsilon**13*exp(t/\\varepsilon) - 21*\\varepsilon**12*exp(t/\\varepsilon) - 35*\\varepsilon**11*exp(t/\\varepsilon) - 35*\\varepsilon**10*exp(t/\\varepsilon) - 21*\\varepsilon**9*exp(t/\\varepsilon) - 7*\\varepsilon**8*exp(t/\\varepsilon) - \\varepsilon**7*exp(t/\\varepsilon) - \\varepsilon**7*exp(t*(\\varepsilon + 2)) + 7*\\varepsilon**6*exp(t*(\\varepsilon + 2)) - 21*\\varepsilon**5*exp(t*(\\varepsilon + 2)) + 35*\\varepsilon**4*exp(t*(\\varepsilon + 2)) - 35*\\varepsilon**3*exp(t*(\\varepsilon + 2)) + 21*\\varepsilon**2*exp(t*(\\varepsilon + 2)) - 7*\\varepsilon*exp(t*(\\varepsilon + 2)) + exp(t*(\\varepsilon + 2)))*exp(-\\varepsilon*t + \\varepsilon - t + 1 - t/\\varepsilon + 1/\\varepsilon)/(3600*\\varepsilon**7*(-exp(1/\\varepsilon) + exp(\\varepsilon + 2)))"
      ]
     },
     "execution_count": 46,
     "metadata": {},
     "output_type": "execute_result"
    }
   ],
   "source": [
    "f2[5].subs(sol).expand().simplify()"
   ]
  },
  {
   "cell_type": "code",
   "execution_count": 47,
   "id": "6934bedf",
   "metadata": {},
   "outputs": [
    {
     "name": "stdout",
     "output_type": "stream",
     "text": [
      "\\frac{\\left(- \\varepsilon^{14} e^{\\frac{t}{\\varepsilon}} - 7 \\varepsilon^{13} e^{\\frac{t}{\\varepsilon}} - 21 \\varepsilon^{12} e^{\\frac{t}{\\varepsilon}} - 35 \\varepsilon^{11} e^{\\frac{t}{\\varepsilon}} - 35 \\varepsilon^{10} e^{\\frac{t}{\\varepsilon}} - 21 \\varepsilon^{9} e^{\\frac{t}{\\varepsilon}} - 7 \\varepsilon^{8} e^{\\frac{t}{\\varepsilon}} - \\varepsilon^{7} e^{\\frac{t}{\\varepsilon}} - \\varepsilon^{7} e^{t \\left(\\varepsilon + 2\\right)} + 7 \\varepsilon^{6} e^{t \\left(\\varepsilon + 2\\right)} - 21 \\varepsilon^{5} e^{t \\left(\\varepsilon + 2\\right)} + 35 \\varepsilon^{4} e^{t \\left(\\varepsilon + 2\\right)} - 35 \\varepsilon^{3} e^{t \\left(\\varepsilon + 2\\right)} + 21 \\varepsilon^{2} e^{t \\left(\\varepsilon + 2\\right)} - 7 \\varepsilon e^{t \\left(\\varepsilon + 2\\right)} + e^{t \\left(\\varepsilon + 2\\right)}\\right) e^{- \\varepsilon t + \\varepsilon - t + 1 - \\frac{t}{\\varepsilon} + \\frac{1}{\\varepsilon}}}{3600 \\varepsilon^{7} \\left(- e^{\\frac{1}{\\varepsilon}} + e^{\\varepsilon + 2}\\right)}\n"
     ]
    }
   ],
   "source": [
    "print(latex(f2[5].subs(sol).expand().simplify()))"
   ]
  },
  {
   "cell_type": "markdown",
   "id": "ae5e26f0",
   "metadata": {},
   "source": [
    "## Dormand–Prince method 4 order"
   ]
  },
  {
   "cell_type": "code",
   "execution_count": 48,
   "id": "9f2dd2ff",
   "metadata": {},
   "outputs": [],
   "source": [
    "set_clip(7, 6, Rational(0, 1))\n",
    "r = DormandPrince4(f, Matrix([u(t), u1(t)]))"
   ]
  },
  {
   "cell_type": "code",
   "execution_count": 49,
   "id": "90482666",
   "metadata": {},
   "outputs": [
    {
     "name": "stdout",
     "output_type": "stream",
     "text": [
      "h^0 =>\n"
     ]
    },
    {
     "data": {
      "text/latex": [
       "$\\displaystyle - u_{1} + u_{t}$"
      ],
      "text/plain": [
       "-u1 + u_{t}"
      ]
     },
     "metadata": {},
     "output_type": "display_data"
    },
    {
     "name": "stdout",
     "output_type": "stream",
     "text": [
      "h^1 =>\n"
     ]
    },
    {
     "data": {
      "text/latex": [
       "$\\displaystyle - \\frac{\\varepsilon \\left(u - u_{1}\\right)}{2} + \\frac{u_{tt}}{2} + \\frac{u + u_{1}}{2 \\varepsilon}$"
      ],
      "text/plain": [
       "-\\varepsilon*(u - u1)/2 + u_{tt}/2 + (u + u1)/(2*\\varepsilon)"
      ]
     },
     "metadata": {},
     "output_type": "display_data"
    },
    {
     "name": "stdout",
     "output_type": "stream",
     "text": [
      "h^2 =>\n"
     ]
    },
    {
     "data": {
      "text/latex": [
       "$\\displaystyle \\frac{\\varepsilon^{2} \\left(u - u_{1}\\right)}{6} - \\frac{\\varepsilon u_{1}}{6} - \\frac{2 u_{1} - u_{ttt}}{6} + \\frac{u_{1}}{6 \\varepsilon} - \\frac{u + u_{1}}{6 \\varepsilon^{2}}$"
      ],
      "text/plain": [
       "\\varepsilon**2*(u - u1)/6 - \\varepsilon*u1/6 - (2*u1 - u_{ttt})/6 + u1/(6*\\varepsilon) - (u + u1)/(6*\\varepsilon**2)"
      ]
     },
     "metadata": {},
     "output_type": "display_data"
    },
    {
     "name": "stdout",
     "output_type": "stream",
     "text": [
      "h^3 =>\n"
     ]
    },
    {
     "data": {
      "text/latex": [
       "$\\displaystyle - \\frac{\\varepsilon^{3} \\left(u - u_{1}\\right)}{24} - \\frac{\\varepsilon^{2} \\left(u - 2 u_{1}\\right)}{24} - \\frac{\\varepsilon \\left(u - 3 u_{1}\\right)}{24} + \\frac{2 u + u_{tttt}}{24} + \\frac{u + 3 u_{1}}{24 \\varepsilon} - \\frac{u + 2 u_{1}}{24 \\varepsilon^{2}} + \\frac{u + u_{1}}{24 \\varepsilon^{3}}$"
      ],
      "text/plain": [
       "-\\varepsilon**3*(u - u1)/24 - \\varepsilon**2*(u - 2*u1)/24 - \\varepsilon*(u - 3*u1)/24 + (2*u + u_{tttt})/24 + (u + 3*u1)/(24*\\varepsilon) - (u + 2*u1)/(24*\\varepsilon**2) + (u + u1)/(24*\\varepsilon**3)"
      ]
     },
     "metadata": {},
     "output_type": "display_data"
    },
    {
     "name": "stdout",
     "output_type": "stream",
     "text": [
      "h^4 =>\n"
     ]
    },
    {
     "data": {
      "text/latex": [
       "$\\displaystyle \\frac{1097 \\varepsilon^{4} \\left(u - u_{1}\\right)}{120000} + \\frac{1097 \\varepsilon^{3} \\left(2 u - 3 u_{1}\\right)}{120000} + \\frac{1097 \\varepsilon^{2} \\left(2 u - 5 u_{1}\\right)}{120000} - \\frac{1097 \\varepsilon \\left(2 u + 3 u_{1}\\right)}{120000} - \\frac{1097 u_{1} - 250 u_{ttttt}}{30000} - \\frac{1097 \\left(2 u - 3 u_{1}\\right)}{120000 \\varepsilon} - \\frac{1097 \\left(2 u + 5 u_{1}\\right)}{120000 \\varepsilon^{2}} + \\frac{1097 \\left(2 u + 3 u_{1}\\right)}{120000 \\varepsilon^{3}} - \\frac{1097 \\left(u + u_{1}\\right)}{120000 \\varepsilon^{4}}$"
      ],
      "text/plain": [
       "1097*\\varepsilon**4*(u - u1)/120000 + 1097*\\varepsilon**3*(2*u - 3*u1)/120000 + 1097*\\varepsilon**2*(2*u - 5*u1)/120000 - 1097*\\varepsilon*(2*u + 3*u1)/120000 - (1097*u1 - 250*u_{ttttt})/30000 - 1097*(2*u - 3*u1)/(120000*\\varepsilon) - 1097*(2*u + 5*u1)/(120000*\\varepsilon**2) + 1097*(2*u + 3*u1)/(120000*\\varepsilon**3) - 1097*(u + u1)/(120000*\\varepsilon**4)"
      ]
     },
     "metadata": {},
     "output_type": "display_data"
    },
    {
     "name": "stdout",
     "output_type": "stream",
     "text": [
      "h^5 =>\n"
     ]
    },
    {
     "data": {
      "text/latex": [
       "$\\displaystyle - \\frac{161 \\varepsilon^{5} \\left(u - u_{1}\\right)}{120000} - \\frac{161 \\varepsilon^{4} \\left(3 u - 4 u_{1}\\right)}{120000} - \\frac{161 \\varepsilon^{3} \\left(u - 2 u_{1}\\right)}{30000} + \\frac{161 \\varepsilon^{2} u_{1}}{15000} + \\frac{161 \\varepsilon \\left(u + 7 u_{1}\\right)}{120000} + \\frac{1449 u + 250 u_{tttttt}}{180000} - \\frac{161 \\left(u - 7 u_{1}\\right)}{120000 \\varepsilon} - \\frac{161 u_{1}}{15000 \\varepsilon^{2}} + \\frac{161 \\left(u + 2 u_{1}\\right)}{30000 \\varepsilon^{3}} - \\frac{161 \\left(3 u + 4 u_{1}\\right)}{120000 \\varepsilon^{4}} + \\frac{161 \\left(u + u_{1}\\right)}{120000 \\varepsilon^{5}}$"
      ],
      "text/plain": [
       "-161*\\varepsilon**5*(u - u1)/120000 - 161*\\varepsilon**4*(3*u - 4*u1)/120000 - 161*\\varepsilon**3*(u - 2*u1)/30000 + 161*\\varepsilon**2*u1/15000 + 161*\\varepsilon*(u + 7*u1)/120000 + (1449*u + 250*u_{tttttt})/180000 - 161*(u - 7*u1)/(120000*\\varepsilon) - 161*u1/(15000*\\varepsilon**2) + 161*(u + 2*u1)/(30000*\\varepsilon**3) - 161*(3*u + 4*u1)/(120000*\\varepsilon**4) + 161*(u + u1)/(120000*\\varepsilon**5)"
      ]
     },
     "metadata": {},
     "output_type": "display_data"
    },
    {
     "name": "stdout",
     "output_type": "stream",
     "text": [
      "- u_{1} + u_{t}\n",
      "+h\\left(\n",
      "- \\frac{\\varepsilon \\left(u - u_{1}\\right)}{2} + \\frac{u_{tt}}{2} + \\frac{u + u_{1}}{2 \\varepsilon}\n",
      "\\right)\n",
      "+h^2\\left(\n",
      "\\frac{\\varepsilon^{2} \\left(u - u_{1}\\right)}{6} - \\frac{\\varepsilon u_{1}}{6} - \\frac{2 u_{1} - u_{ttt}}{6} + \\frac{u_{1}}{6 \\varepsilon} - \\frac{u + u_{1}}{6 \\varepsilon^{2}}\n",
      "\\right)\n",
      "+h^3\\left(\n",
      "- \\frac{\\varepsilon^{3} \\left(u - u_{1}\\right)}{24} - \\frac{\\varepsilon^{2} \\left(u - 2 u_{1}\\right)}{24} - \\frac{\\varepsilon \\left(u - 3 u_{1}\\right)}{24} + \\frac{2 u + u_{tttt}}{24} + \\frac{u + 3 u_{1}}{24 \\varepsilon} - \\frac{u + 2 u_{1}}{24 \\varepsilon^{2}} + \\frac{u + u_{1}}{24 \\varepsilon^{3}}\n",
      "\\right)\n",
      "+h^4\\left(\n",
      "\\frac{1097 \\varepsilon^{4} \\left(u - u_{1}\\right)}{120000} + \\frac{1097 \\varepsilon^{3} \\left(2 u - 3 u_{1}\\right)}{120000} + \\frac{1097 \\varepsilon^{2} \\left(2 u - 5 u_{1}\\right)}{120000} - \\frac{1097 \\varepsilon \\left(2 u + 3 u_{1}\\right)}{120000} - \\frac{1097 u_{1} - 250 u_{ttttt}}{30000} - \\frac{1097 \\left(2 u - 3 u_{1}\\right)}{120000 \\varepsilon} - \\frac{1097 \\left(2 u + 5 u_{1}\\right)}{120000 \\varepsilon^{2}} + \\frac{1097 \\left(2 u + 3 u_{1}\\right)}{120000 \\varepsilon^{3}} - \\frac{1097 \\left(u + u_{1}\\right)}{120000 \\varepsilon^{4}}\n",
      "\\right)\n",
      "+h^5\\left(\n",
      "- \\frac{161 \\varepsilon^{5} \\left(u - u_{1}\\right)}{120000} - \\frac{161 \\varepsilon^{4} \\left(3 u - 4 u_{1}\\right)}{120000} - \\frac{161 \\varepsilon^{3} \\left(u - 2 u_{1}\\right)}{30000} + \\frac{161 \\varepsilon^{2} u_{1}}{15000} + \\frac{161 \\varepsilon \\left(u + 7 u_{1}\\right)}{120000} + \\frac{1449 u + 250 u_{tttttt}}{180000} - \\frac{161 \\left(u - 7 u_{1}\\right)}{120000 \\varepsilon} - \\frac{161 u_{1}}{15000 \\varepsilon^{2}} + \\frac{161 \\left(u + 2 u_{1}\\right)}{30000 \\varepsilon^{3}} - \\frac{161 \\left(3 u + 4 u_{1}\\right)}{120000 \\varepsilon^{4}} + \\frac{161 \\left(u + u_{1}\\right)}{120000 \\varepsilon^{5}}\n",
      "\\right)\n"
     ]
    }
   ],
   "source": [
    "F1 = clip((T(u(t+h))-T(u(t)))/h - T(r[0]))\n",
    "prn(F1, eps)\n",
    "prnlatex(F1, eps)"
   ]
  },
  {
   "cell_type": "code",
   "execution_count": 50,
   "id": "0680334e",
   "metadata": {},
   "outputs": [
    {
     "name": "stdout",
     "output_type": "stream",
     "text": [
      "h^0 =>\n"
     ]
    },
    {
     "data": {
      "text/latex": [
       "$\\displaystyle \\varepsilon \\left(- u + u_{1}\\right) + u1_{t} + \\frac{u + u_{1}}{\\varepsilon}$"
      ],
      "text/plain": [
       "\\varepsilon*(-u + u1) + u1_{t} + (u + u1)/\\varepsilon"
      ]
     },
     "metadata": {},
     "output_type": "display_data"
    },
    {
     "name": "stdout",
     "output_type": "stream",
     "text": [
      "h^1 =>\n"
     ]
    },
    {
     "data": {
      "text/latex": [
       "$\\displaystyle \\frac{\\varepsilon^{2} \\left(u - u_{1}\\right)}{2} - \\frac{\\varepsilon u_{1}}{2} - \\frac{2 u_{1} - u1_{tt}}{2} + \\frac{u_{1}}{2 \\varepsilon} - \\frac{u + u_{1}}{2 \\varepsilon^{2}}$"
      ],
      "text/plain": [
       "\\varepsilon**2*(u - u1)/2 - \\varepsilon*u1/2 - (2*u1 - u1_{tt})/2 + u1/(2*\\varepsilon) - (u + u1)/(2*\\varepsilon**2)"
      ]
     },
     "metadata": {},
     "output_type": "display_data"
    },
    {
     "name": "stdout",
     "output_type": "stream",
     "text": [
      "h^2 =>\n"
     ]
    },
    {
     "data": {
      "text/latex": [
       "$\\displaystyle - \\frac{\\varepsilon^{3} \\left(u - u_{1}\\right)}{6} - \\frac{\\varepsilon^{2} \\left(u - 2 u_{1}\\right)}{6} - \\frac{\\varepsilon \\left(u - 3 u_{1}\\right)}{6} + \\frac{2 u + u1_{ttt}}{6} + \\frac{u + 3 u_{1}}{6 \\varepsilon} - \\frac{u + 2 u_{1}}{6 \\varepsilon^{2}} + \\frac{u + u_{1}}{6 \\varepsilon^{3}}$"
      ],
      "text/plain": [
       "-\\varepsilon**3*(u - u1)/6 - \\varepsilon**2*(u - 2*u1)/6 - \\varepsilon*(u - 3*u1)/6 + (2*u + u1_{ttt})/6 + (u + 3*u1)/(6*\\varepsilon) - (u + 2*u1)/(6*\\varepsilon**2) + (u + u1)/(6*\\varepsilon**3)"
      ]
     },
     "metadata": {},
     "output_type": "display_data"
    },
    {
     "name": "stdout",
     "output_type": "stream",
     "text": [
      "h^3 =>\n"
     ]
    },
    {
     "data": {
      "text/latex": [
       "$\\displaystyle \\frac{\\varepsilon^{4} \\left(u - u_{1}\\right)}{24} + \\frac{\\varepsilon^{3} \\left(2 u - 3 u_{1}\\right)}{24} + \\frac{\\varepsilon^{2} \\left(2 u - 5 u_{1}\\right)}{24} - \\frac{\\varepsilon \\left(2 u + 3 u_{1}\\right)}{24} - \\frac{4 u_{1} - u1_{tttt}}{24} - \\frac{2 u - 3 u_{1}}{24 \\varepsilon} - \\frac{2 u + 5 u_{1}}{24 \\varepsilon^{2}} + \\frac{2 u + 3 u_{1}}{24 \\varepsilon^{3}} - \\frac{u + u_{1}}{24 \\varepsilon^{4}}$"
      ],
      "text/plain": [
       "\\varepsilon**4*(u - u1)/24 + \\varepsilon**3*(2*u - 3*u1)/24 + \\varepsilon**2*(2*u - 5*u1)/24 - \\varepsilon*(2*u + 3*u1)/24 - (4*u1 - u1_{tttt})/24 - (2*u - 3*u1)/(24*\\varepsilon) - (2*u + 5*u1)/(24*\\varepsilon**2) + (2*u + 3*u1)/(24*\\varepsilon**3) - (u + u1)/(24*\\varepsilon**4)"
      ]
     },
     "metadata": {},
     "output_type": "display_data"
    },
    {
     "name": "stdout",
     "output_type": "stream",
     "text": [
      "h^4 =>\n"
     ]
    },
    {
     "data": {
      "text/latex": [
       "$\\displaystyle - \\frac{1097 \\varepsilon^{5} \\left(u - u_{1}\\right)}{120000} - \\frac{1097 \\varepsilon^{4} \\left(3 u - 4 u_{1}\\right)}{120000} - \\frac{1097 \\varepsilon^{3} \\left(u - 2 u_{1}\\right)}{30000} + \\frac{1097 \\varepsilon^{2} u_{1}}{15000} + \\frac{1097 \\varepsilon \\left(u + 7 u_{1}\\right)}{120000} + \\frac{3291 u + 500 u1_{ttttt}}{60000} - \\frac{1097 \\left(u - 7 u_{1}\\right)}{120000 \\varepsilon} - \\frac{1097 u_{1}}{15000 \\varepsilon^{2}} + \\frac{1097 \\left(u + 2 u_{1}\\right)}{30000 \\varepsilon^{3}} - \\frac{1097 \\left(3 u + 4 u_{1}\\right)}{120000 \\varepsilon^{4}} + \\frac{1097 \\left(u + u_{1}\\right)}{120000 \\varepsilon^{5}}$"
      ],
      "text/plain": [
       "-1097*\\varepsilon**5*(u - u1)/120000 - 1097*\\varepsilon**4*(3*u - 4*u1)/120000 - 1097*\\varepsilon**3*(u - 2*u1)/30000 + 1097*\\varepsilon**2*u1/15000 + 1097*\\varepsilon*(u + 7*u1)/120000 + (3291*u + 500*u1_{ttttt})/60000 - 1097*(u - 7*u1)/(120000*\\varepsilon) - 1097*u1/(15000*\\varepsilon**2) + 1097*(u + 2*u1)/(30000*\\varepsilon**3) - 1097*(3*u + 4*u1)/(120000*\\varepsilon**4) + 1097*(u + u1)/(120000*\\varepsilon**5)"
      ]
     },
     "metadata": {},
     "output_type": "display_data"
    },
    {
     "name": "stdout",
     "output_type": "stream",
     "text": [
      "h^5 =>\n"
     ]
    },
    {
     "data": {
      "text/latex": [
       "$\\displaystyle \\frac{161 \\varepsilon^{6} \\left(u - u_{1}\\right)}{120000} + \\frac{161 \\varepsilon^{5} \\left(4 u - 5 u_{1}\\right)}{120000} + \\frac{161 \\varepsilon^{4} \\left(7 u - 12 u_{1}\\right)}{120000} + \\frac{161 \\varepsilon^{3} \\left(u - 4 u_{1}\\right)}{30000} - \\frac{161 \\varepsilon^{2} \\left(u + 15 u_{1}\\right)}{120000} - \\frac{161 \\varepsilon \\left(8 u + 7 u_{1}\\right)}{120000} - \\frac{966 u_{1} - 125 u1_{tttttt}}{90000} - \\frac{161 \\left(8 u - 7 u_{1}\\right)}{120000 \\varepsilon} + \\frac{161 \\left(u - 15 u_{1}\\right)}{120000 \\varepsilon^{2}} + \\frac{161 \\left(u + 4 u_{1}\\right)}{30000 \\varepsilon^{3}} - \\frac{161 \\left(7 u + 12 u_{1}\\right)}{120000 \\varepsilon^{4}} + \\frac{161 \\left(4 u + 5 u_{1}\\right)}{120000 \\varepsilon^{5}} - \\frac{161 \\left(u + u_{1}\\right)}{120000 \\varepsilon^{6}}$"
      ],
      "text/plain": [
       "161*\\varepsilon**6*(u - u1)/120000 + 161*\\varepsilon**5*(4*u - 5*u1)/120000 + 161*\\varepsilon**4*(7*u - 12*u1)/120000 + 161*\\varepsilon**3*(u - 4*u1)/30000 - 161*\\varepsilon**2*(u + 15*u1)/120000 - 161*\\varepsilon*(8*u + 7*u1)/120000 - (966*u1 - 125*u1_{tttttt})/90000 - 161*(8*u - 7*u1)/(120000*\\varepsilon) + 161*(u - 15*u1)/(120000*\\varepsilon**2) + 161*(u + 4*u1)/(30000*\\varepsilon**3) - 161*(7*u + 12*u1)/(120000*\\varepsilon**4) + 161*(4*u + 5*u1)/(120000*\\varepsilon**5) - 161*(u + u1)/(120000*\\varepsilon**6)"
      ]
     },
     "metadata": {},
     "output_type": "display_data"
    },
    {
     "name": "stdout",
     "output_type": "stream",
     "text": [
      "\\varepsilon \\left(- u + u_{1}\\right) + u1_{t} + \\frac{u + u_{1}}{\\varepsilon}\n",
      "+h\\left(\n",
      "\\frac{\\varepsilon^{2} \\left(u - u_{1}\\right)}{2} - \\frac{\\varepsilon u_{1}}{2} - \\frac{2 u_{1} - u1_{tt}}{2} + \\frac{u_{1}}{2 \\varepsilon} - \\frac{u + u_{1}}{2 \\varepsilon^{2}}\n",
      "\\right)\n",
      "+h^2\\left(\n",
      "- \\frac{\\varepsilon^{3} \\left(u - u_{1}\\right)}{6} - \\frac{\\varepsilon^{2} \\left(u - 2 u_{1}\\right)}{6} - \\frac{\\varepsilon \\left(u - 3 u_{1}\\right)}{6} + \\frac{2 u + u1_{ttt}}{6} + \\frac{u + 3 u_{1}}{6 \\varepsilon} - \\frac{u + 2 u_{1}}{6 \\varepsilon^{2}} + \\frac{u + u_{1}}{6 \\varepsilon^{3}}\n",
      "\\right)\n",
      "+h^3\\left(\n",
      "\\frac{\\varepsilon^{4} \\left(u - u_{1}\\right)}{24} + \\frac{\\varepsilon^{3} \\left(2 u - 3 u_{1}\\right)}{24} + \\frac{\\varepsilon^{2} \\left(2 u - 5 u_{1}\\right)}{24} - \\frac{\\varepsilon \\left(2 u + 3 u_{1}\\right)}{24} - \\frac{4 u_{1} - u1_{tttt}}{24} - \\frac{2 u - 3 u_{1}}{24 \\varepsilon} - \\frac{2 u + 5 u_{1}}{24 \\varepsilon^{2}} + \\frac{2 u + 3 u_{1}}{24 \\varepsilon^{3}} - \\frac{u + u_{1}}{24 \\varepsilon^{4}}\n",
      "\\right)\n",
      "+h^4\\left(\n",
      "- \\frac{1097 \\varepsilon^{5} \\left(u - u_{1}\\right)}{120000} - \\frac{1097 \\varepsilon^{4} \\left(3 u - 4 u_{1}\\right)}{120000} - \\frac{1097 \\varepsilon^{3} \\left(u - 2 u_{1}\\right)}{30000} + \\frac{1097 \\varepsilon^{2} u_{1}}{15000} + \\frac{1097 \\varepsilon \\left(u + 7 u_{1}\\right)}{120000} + \\frac{3291 u + 500 u1_{ttttt}}{60000} - \\frac{1097 \\left(u - 7 u_{1}\\right)}{120000 \\varepsilon} - \\frac{1097 u_{1}}{15000 \\varepsilon^{2}} + \\frac{1097 \\left(u + 2 u_{1}\\right)}{30000 \\varepsilon^{3}} - \\frac{1097 \\left(3 u + 4 u_{1}\\right)}{120000 \\varepsilon^{4}} + \\frac{1097 \\left(u + u_{1}\\right)}{120000 \\varepsilon^{5}}\n",
      "\\right)\n",
      "+h^5\\left(\n",
      "\\frac{161 \\varepsilon^{6} \\left(u - u_{1}\\right)}{120000} + \\frac{161 \\varepsilon^{5} \\left(4 u - 5 u_{1}\\right)}{120000} + \\frac{161 \\varepsilon^{4} \\left(7 u - 12 u_{1}\\right)}{120000} + \\frac{161 \\varepsilon^{3} \\left(u - 4 u_{1}\\right)}{30000} - \\frac{161 \\varepsilon^{2} \\left(u + 15 u_{1}\\right)}{120000} - \\frac{161 \\varepsilon \\left(8 u + 7 u_{1}\\right)}{120000} - \\frac{966 u_{1} - 125 u1_{tttttt}}{90000} - \\frac{161 \\left(8 u - 7 u_{1}\\right)}{120000 \\varepsilon} + \\frac{161 \\left(u - 15 u_{1}\\right)}{120000 \\varepsilon^{2}} + \\frac{161 \\left(u + 4 u_{1}\\right)}{30000 \\varepsilon^{3}} - \\frac{161 \\left(7 u + 12 u_{1}\\right)}{120000 \\varepsilon^{4}} + \\frac{161 \\left(4 u + 5 u_{1}\\right)}{120000 \\varepsilon^{5}} - \\frac{161 \\left(u + u_{1}\\right)}{120000 \\varepsilon^{6}}\n",
      "\\right)\n"
     ]
    }
   ],
   "source": [
    "F2 = clip((T(u1(t+h))-T(u1(t)))/h - T(r[1]))\n",
    "prn(F2, eps)\n",
    "prnlatex(F2, eps)"
   ]
  },
  {
   "cell_type": "code",
   "execution_count": 51,
   "id": "3b0f0d66",
   "metadata": {},
   "outputs": [
    {
     "name": "stdout",
     "output_type": "stream",
     "text": [
      "h^0 =>\n"
     ]
    },
    {
     "data": {
      "text/latex": [
       "$\\displaystyle - u_{1} + u_{t}$"
      ],
      "text/plain": [
       "-u1 + u_{t}"
      ]
     },
     "metadata": {},
     "output_type": "display_data"
    },
    {
     "name": "stdout",
     "output_type": "stream",
     "text": [
      "h^1 =>\n"
     ]
    },
    {
     "data": {
      "text/latex": [
       "$\\displaystyle 0$"
      ],
      "text/plain": [
       "0"
      ]
     },
     "metadata": {},
     "output_type": "display_data"
    },
    {
     "name": "stdout",
     "output_type": "stream",
     "text": [
      "h^2 =>\n"
     ]
    },
    {
     "data": {
      "text/latex": [
       "$\\displaystyle 0$"
      ],
      "text/plain": [
       "0"
      ]
     },
     "metadata": {},
     "output_type": "display_data"
    },
    {
     "name": "stdout",
     "output_type": "stream",
     "text": [
      "h^3 =>\n"
     ]
    },
    {
     "data": {
      "text/latex": [
       "$\\displaystyle 0$"
      ],
      "text/plain": [
       "0"
      ]
     },
     "metadata": {},
     "output_type": "display_data"
    },
    {
     "name": "stdout",
     "output_type": "stream",
     "text": [
      "h^4 =>\n"
     ]
    },
    {
     "data": {
      "text/latex": [
       "$\\displaystyle \\frac{97 \\varepsilon^{4} \\left(u - u_{1}\\right)}{120000} + \\frac{97 \\varepsilon^{3} \\left(2 u - 3 u_{1}\\right)}{120000} + \\frac{97 \\varepsilon^{2} \\left(2 u - 5 u_{1}\\right)}{120000} - \\frac{97 \\varepsilon \\left(2 u + 3 u_{1}\\right)}{120000} - \\frac{97 u_{1}}{30000} - \\frac{97 \\left(2 u - 3 u_{1}\\right)}{120000 \\varepsilon} - \\frac{97 \\left(2 u + 5 u_{1}\\right)}{120000 \\varepsilon^{2}} + \\frac{97 \\left(2 u + 3 u_{1}\\right)}{120000 \\varepsilon^{3}} - \\frac{97 \\left(u + u_{1}\\right)}{120000 \\varepsilon^{4}}$"
      ],
      "text/plain": [
       "97*\\varepsilon**4*(u - u1)/120000 + 97*\\varepsilon**3*(2*u - 3*u1)/120000 + 97*\\varepsilon**2*(2*u - 5*u1)/120000 - 97*\\varepsilon*(2*u + 3*u1)/120000 - 97*u1/30000 - 97*(2*u - 3*u1)/(120000*\\varepsilon) - 97*(2*u + 5*u1)/(120000*\\varepsilon**2) + 97*(2*u + 3*u1)/(120000*\\varepsilon**3) - 97*(u + u1)/(120000*\\varepsilon**4)"
      ]
     },
     "metadata": {},
     "output_type": "display_data"
    },
    {
     "name": "stdout",
     "output_type": "stream",
     "text": [
      "h^5 =>\n"
     ]
    },
    {
     "data": {
      "text/latex": [
       "$\\displaystyle \\frac{77 \\varepsilon^{5} \\left(u - u_{1}\\right)}{90000} + \\frac{77 \\varepsilon^{4} \\left(3 u - 4 u_{1}\\right)}{90000} + \\frac{77 \\varepsilon^{3} \\left(u - 2 u_{1}\\right)}{22500} - \\frac{77 \\varepsilon^{2} u_{1}}{11250} - \\frac{77 \\varepsilon \\left(u + 7 u_{1}\\right)}{90000} - \\frac{77 u}{15000} + \\frac{77 \\left(u - 7 u_{1}\\right)}{90000 \\varepsilon} + \\frac{77 u_{1}}{11250 \\varepsilon^{2}} - \\frac{77 \\left(u + 2 u_{1}\\right)}{22500 \\varepsilon^{3}} + \\frac{77 \\left(3 u + 4 u_{1}\\right)}{90000 \\varepsilon^{4}} - \\frac{77 \\left(u + u_{1}\\right)}{90000 \\varepsilon^{5}}$"
      ],
      "text/plain": [
       "77*\\varepsilon**5*(u - u1)/90000 + 77*\\varepsilon**4*(3*u - 4*u1)/90000 + 77*\\varepsilon**3*(u - 2*u1)/22500 - 77*\\varepsilon**2*u1/11250 - 77*\\varepsilon*(u + 7*u1)/90000 - 77*u/15000 + 77*(u - 7*u1)/(90000*\\varepsilon) + 77*u1/(11250*\\varepsilon**2) - 77*(u + 2*u1)/(22500*\\varepsilon**3) + 77*(3*u + 4*u1)/(90000*\\varepsilon**4) - 77*(u + u1)/(90000*\\varepsilon**5)"
      ]
     },
     "metadata": {},
     "output_type": "display_data"
    },
    {
     "name": "stdout",
     "output_type": "stream",
     "text": [
      "- u_{1} + u_{t}\n",
      "+h\\left(\n",
      "0\n",
      "\\right)\n",
      "+h^2\\left(\n",
      "0\n",
      "\\right)\n",
      "+h^3\\left(\n",
      "0\n",
      "\\right)\n",
      "+h^4\\left(\n",
      "\\frac{97 \\varepsilon^{4} \\left(u - u_{1}\\right)}{120000} + \\frac{97 \\varepsilon^{3} \\left(2 u - 3 u_{1}\\right)}{120000} + \\frac{97 \\varepsilon^{2} \\left(2 u - 5 u_{1}\\right)}{120000} - \\frac{97 \\varepsilon \\left(2 u + 3 u_{1}\\right)}{120000} - \\frac{97 u_{1}}{30000} - \\frac{97 \\left(2 u - 3 u_{1}\\right)}{120000 \\varepsilon} - \\frac{97 \\left(2 u + 5 u_{1}\\right)}{120000 \\varepsilon^{2}} + \\frac{97 \\left(2 u + 3 u_{1}\\right)}{120000 \\varepsilon^{3}} - \\frac{97 \\left(u + u_{1}\\right)}{120000 \\varepsilon^{4}}\n",
      "\\right)\n",
      "+h^5\\left(\n",
      "\\frac{77 \\varepsilon^{5} \\left(u - u_{1}\\right)}{90000} + \\frac{77 \\varepsilon^{4} \\left(3 u - 4 u_{1}\\right)}{90000} + \\frac{77 \\varepsilon^{3} \\left(u - 2 u_{1}\\right)}{22500} - \\frac{77 \\varepsilon^{2} u_{1}}{11250} - \\frac{77 \\varepsilon \\left(u + 7 u_{1}\\right)}{90000} - \\frac{77 u}{15000} + \\frac{77 \\left(u - 7 u_{1}\\right)}{90000 \\varepsilon} + \\frac{77 u_{1}}{11250 \\varepsilon^{2}} - \\frac{77 \\left(u + 2 u_{1}\\right)}{22500 \\varepsilon^{3}} + \\frac{77 \\left(3 u + 4 u_{1}\\right)}{90000 \\varepsilon^{4}} - \\frac{77 \\left(u + u_{1}\\right)}{90000 \\varepsilon^{5}}\n",
      "\\right)\n"
     ]
    }
   ],
   "source": [
    "f1 = NF(F1, [u(t).diff(t), u1(t).diff(t)], [F1, F2], head=False)\n",
    "prn(f1, eps)\n",
    "prnlatex(f1, eps)"
   ]
  },
  {
   "cell_type": "code",
   "execution_count": 52,
   "id": "6c76447d",
   "metadata": {},
   "outputs": [
    {
     "name": "stdout",
     "output_type": "stream",
     "text": [
      "h^0 =>\n"
     ]
    },
    {
     "data": {
      "text/latex": [
       "$\\displaystyle \\varepsilon \\left(- u + u_{1}\\right) + u1_{t} + \\frac{u + u_{1}}{\\varepsilon}$"
      ],
      "text/plain": [
       "\\varepsilon*(-u + u1) + u1_{t} + (u + u1)/\\varepsilon"
      ]
     },
     "metadata": {},
     "output_type": "display_data"
    },
    {
     "name": "stdout",
     "output_type": "stream",
     "text": [
      "h^1 =>\n"
     ]
    },
    {
     "data": {
      "text/latex": [
       "$\\displaystyle 0$"
      ],
      "text/plain": [
       "0"
      ]
     },
     "metadata": {},
     "output_type": "display_data"
    },
    {
     "name": "stdout",
     "output_type": "stream",
     "text": [
      "h^2 =>\n"
     ]
    },
    {
     "data": {
      "text/latex": [
       "$\\displaystyle 0$"
      ],
      "text/plain": [
       "0"
      ]
     },
     "metadata": {},
     "output_type": "display_data"
    },
    {
     "name": "stdout",
     "output_type": "stream",
     "text": [
      "h^3 =>\n"
     ]
    },
    {
     "data": {
      "text/latex": [
       "$\\displaystyle 0$"
      ],
      "text/plain": [
       "0"
      ]
     },
     "metadata": {},
     "output_type": "display_data"
    },
    {
     "name": "stdout",
     "output_type": "stream",
     "text": [
      "h^4 =>\n"
     ]
    },
    {
     "data": {
      "text/latex": [
       "$\\displaystyle - \\frac{97 \\varepsilon^{5} \\left(u - u_{1}\\right)}{120000} - \\frac{97 \\varepsilon^{4} \\left(3 u - 4 u_{1}\\right)}{120000} - \\frac{97 \\varepsilon^{3} \\left(u - 2 u_{1}\\right)}{30000} + \\frac{97 \\varepsilon^{2} u_{1}}{15000} + \\frac{97 \\varepsilon \\left(u + 7 u_{1}\\right)}{120000} + \\frac{97 u}{20000} - \\frac{97 \\left(u - 7 u_{1}\\right)}{120000 \\varepsilon} - \\frac{97 u_{1}}{15000 \\varepsilon^{2}} + \\frac{97 \\left(u + 2 u_{1}\\right)}{30000 \\varepsilon^{3}} - \\frac{97 \\left(3 u + 4 u_{1}\\right)}{120000 \\varepsilon^{4}} + \\frac{97 \\left(u + u_{1}\\right)}{120000 \\varepsilon^{5}}$"
      ],
      "text/plain": [
       "-97*\\varepsilon**5*(u - u1)/120000 - 97*\\varepsilon**4*(3*u - 4*u1)/120000 - 97*\\varepsilon**3*(u - 2*u1)/30000 + 97*\\varepsilon**2*u1/15000 + 97*\\varepsilon*(u + 7*u1)/120000 + 97*u/20000 - 97*(u - 7*u1)/(120000*\\varepsilon) - 97*u1/(15000*\\varepsilon**2) + 97*(u + 2*u1)/(30000*\\varepsilon**3) - 97*(3*u + 4*u1)/(120000*\\varepsilon**4) + 97*(u + u1)/(120000*\\varepsilon**5)"
      ]
     },
     "metadata": {},
     "output_type": "display_data"
    },
    {
     "name": "stdout",
     "output_type": "stream",
     "text": [
      "h^5 =>\n"
     ]
    },
    {
     "data": {
      "text/latex": [
       "$\\displaystyle - \\frac{77 \\varepsilon^{6} \\left(u - u_{1}\\right)}{90000} - \\frac{77 \\varepsilon^{5} \\left(4 u - 5 u_{1}\\right)}{90000} - \\frac{77 \\varepsilon^{4} \\left(7 u - 12 u_{1}\\right)}{90000} - \\frac{77 \\varepsilon^{3} \\left(u - 4 u_{1}\\right)}{22500} + \\frac{77 \\varepsilon^{2} \\left(u + 15 u_{1}\\right)}{90000} + \\frac{77 \\varepsilon \\left(8 u + 7 u_{1}\\right)}{90000} + \\frac{77 u_{1}}{11250} + \\frac{77 \\left(8 u - 7 u_{1}\\right)}{90000 \\varepsilon} - \\frac{77 \\left(u - 15 u_{1}\\right)}{90000 \\varepsilon^{2}} - \\frac{77 \\left(u + 4 u_{1}\\right)}{22500 \\varepsilon^{3}} + \\frac{77 \\left(7 u + 12 u_{1}\\right)}{90000 \\varepsilon^{4}} - \\frac{77 \\left(4 u + 5 u_{1}\\right)}{90000 \\varepsilon^{5}} + \\frac{77 \\left(u + u_{1}\\right)}{90000 \\varepsilon^{6}}$"
      ],
      "text/plain": [
       "-77*\\varepsilon**6*(u - u1)/90000 - 77*\\varepsilon**5*(4*u - 5*u1)/90000 - 77*\\varepsilon**4*(7*u - 12*u1)/90000 - 77*\\varepsilon**3*(u - 4*u1)/22500 + 77*\\varepsilon**2*(u + 15*u1)/90000 + 77*\\varepsilon*(8*u + 7*u1)/90000 + 77*u1/11250 + 77*(8*u - 7*u1)/(90000*\\varepsilon) - 77*(u - 15*u1)/(90000*\\varepsilon**2) - 77*(u + 4*u1)/(22500*\\varepsilon**3) + 77*(7*u + 12*u1)/(90000*\\varepsilon**4) - 77*(4*u + 5*u1)/(90000*\\varepsilon**5) + 77*(u + u1)/(90000*\\varepsilon**6)"
      ]
     },
     "metadata": {},
     "output_type": "display_data"
    },
    {
     "name": "stdout",
     "output_type": "stream",
     "text": [
      "\\varepsilon \\left(- u + u_{1}\\right) + u1_{t} + \\frac{u + u_{1}}{\\varepsilon}\n",
      "+h\\left(\n",
      "0\n",
      "\\right)\n",
      "+h^2\\left(\n",
      "0\n",
      "\\right)\n",
      "+h^3\\left(\n",
      "0\n",
      "\\right)\n",
      "+h^4\\left(\n",
      "- \\frac{97 \\varepsilon^{5} \\left(u - u_{1}\\right)}{120000} - \\frac{97 \\varepsilon^{4} \\left(3 u - 4 u_{1}\\right)}{120000} - \\frac{97 \\varepsilon^{3} \\left(u - 2 u_{1}\\right)}{30000} + \\frac{97 \\varepsilon^{2} u_{1}}{15000} + \\frac{97 \\varepsilon \\left(u + 7 u_{1}\\right)}{120000} + \\frac{97 u}{20000} - \\frac{97 \\left(u - 7 u_{1}\\right)}{120000 \\varepsilon} - \\frac{97 u_{1}}{15000 \\varepsilon^{2}} + \\frac{97 \\left(u + 2 u_{1}\\right)}{30000 \\varepsilon^{3}} - \\frac{97 \\left(3 u + 4 u_{1}\\right)}{120000 \\varepsilon^{4}} + \\frac{97 \\left(u + u_{1}\\right)}{120000 \\varepsilon^{5}}\n",
      "\\right)\n",
      "+h^5\\left(\n",
      "- \\frac{77 \\varepsilon^{6} \\left(u - u_{1}\\right)}{90000} - \\frac{77 \\varepsilon^{5} \\left(4 u - 5 u_{1}\\right)}{90000} - \\frac{77 \\varepsilon^{4} \\left(7 u - 12 u_{1}\\right)}{90000} - \\frac{77 \\varepsilon^{3} \\left(u - 4 u_{1}\\right)}{22500} + \\frac{77 \\varepsilon^{2} \\left(u + 15 u_{1}\\right)}{90000} + \\frac{77 \\varepsilon \\left(8 u + 7 u_{1}\\right)}{90000} + \\frac{77 u_{1}}{11250} + \\frac{77 \\left(8 u - 7 u_{1}\\right)}{90000 \\varepsilon} - \\frac{77 \\left(u - 15 u_{1}\\right)}{90000 \\varepsilon^{2}} - \\frac{77 \\left(u + 4 u_{1}\\right)}{22500 \\varepsilon^{3}} + \\frac{77 \\left(7 u + 12 u_{1}\\right)}{90000 \\varepsilon^{4}} - \\frac{77 \\left(4 u + 5 u_{1}\\right)}{90000 \\varepsilon^{5}} + \\frac{77 \\left(u + u_{1}\\right)}{90000 \\varepsilon^{6}}\n",
      "\\right)\n"
     ]
    }
   ],
   "source": [
    "f2 = NF(F2, [u(t).diff(t), u1(t).diff(t)], [F1, F2], head=False)\n",
    "prn(f2, eps)\n",
    "prnlatex(f2, eps)"
   ]
  },
  {
   "cell_type": "code",
   "execution_count": 53,
   "id": "c7b8e9ff",
   "metadata": {},
   "outputs": [
    {
     "data": {
      "text/latex": [
       "$\\displaystyle \\frac{97 \\left(- \\varepsilon^{10} e^{\\frac{t}{\\varepsilon}} - 5 \\varepsilon^{9} e^{\\frac{t}{\\varepsilon}} - 10 \\varepsilon^{8} e^{\\frac{t}{\\varepsilon}} - 10 \\varepsilon^{7} e^{\\frac{t}{\\varepsilon}} - 5 \\varepsilon^{6} e^{\\frac{t}{\\varepsilon}} - \\varepsilon^{5} e^{\\frac{t}{\\varepsilon}} - \\varepsilon^{5} e^{t \\left(\\varepsilon + 2\\right)} + 5 \\varepsilon^{4} e^{t \\left(\\varepsilon + 2\\right)} - 10 \\varepsilon^{3} e^{t \\left(\\varepsilon + 2\\right)} + 10 \\varepsilon^{2} e^{t \\left(\\varepsilon + 2\\right)} - 5 \\varepsilon e^{t \\left(\\varepsilon + 2\\right)} + e^{t \\left(\\varepsilon + 2\\right)}\\right) e^{- \\varepsilon t + \\varepsilon - t + 1 - \\frac{t}{\\varepsilon} + \\frac{1}{\\varepsilon}}}{120000 \\varepsilon^{5} \\left(- e^{\\frac{1}{\\varepsilon}} + e^{\\varepsilon + 2}\\right)}$"
      ],
      "text/plain": [
       "97*(-\\varepsilon**10*exp(t/\\varepsilon) - 5*\\varepsilon**9*exp(t/\\varepsilon) - 10*\\varepsilon**8*exp(t/\\varepsilon) - 10*\\varepsilon**7*exp(t/\\varepsilon) - 5*\\varepsilon**6*exp(t/\\varepsilon) - \\varepsilon**5*exp(t/\\varepsilon) - \\varepsilon**5*exp(t*(\\varepsilon + 2)) + 5*\\varepsilon**4*exp(t*(\\varepsilon + 2)) - 10*\\varepsilon**3*exp(t*(\\varepsilon + 2)) + 10*\\varepsilon**2*exp(t*(\\varepsilon + 2)) - 5*\\varepsilon*exp(t*(\\varepsilon + 2)) + exp(t*(\\varepsilon + 2)))*exp(-\\varepsilon*t + \\varepsilon - t + 1 - t/\\varepsilon + 1/\\varepsilon)/(120000*\\varepsilon**5*(-exp(1/\\varepsilon) + exp(\\varepsilon + 2)))"
      ]
     },
     "execution_count": 53,
     "metadata": {},
     "output_type": "execute_result"
    }
   ],
   "source": [
    "f1[4].subs(sol).expand().simplify()"
   ]
  },
  {
   "cell_type": "code",
   "execution_count": 54,
   "id": "72340cc3",
   "metadata": {},
   "outputs": [
    {
     "data": {
      "text/latex": [
       "$\\displaystyle \\frac{97 \\left(\\varepsilon^{12} e^{\\frac{t}{\\varepsilon}} + 6 \\varepsilon^{11} e^{\\frac{t}{\\varepsilon}} + 15 \\varepsilon^{10} e^{\\frac{t}{\\varepsilon}} + 20 \\varepsilon^{9} e^{\\frac{t}{\\varepsilon}} + 15 \\varepsilon^{8} e^{\\frac{t}{\\varepsilon}} + 6 \\varepsilon^{7} e^{\\frac{t}{\\varepsilon}} + \\varepsilon^{6} e^{\\frac{t}{\\varepsilon}} - \\varepsilon^{6} e^{t \\left(\\varepsilon + 2\\right)} + 6 \\varepsilon^{5} e^{t \\left(\\varepsilon + 2\\right)} - 15 \\varepsilon^{4} e^{t \\left(\\varepsilon + 2\\right)} + 20 \\varepsilon^{3} e^{t \\left(\\varepsilon + 2\\right)} - 15 \\varepsilon^{2} e^{t \\left(\\varepsilon + 2\\right)} + 6 \\varepsilon e^{t \\left(\\varepsilon + 2\\right)} - e^{t \\left(\\varepsilon + 2\\right)}\\right) e^{- \\varepsilon t + \\varepsilon - t + 1 - \\frac{t}{\\varepsilon} + \\frac{1}{\\varepsilon}}}{120000 \\varepsilon^{6} \\left(- e^{\\frac{1}{\\varepsilon}} + e^{\\varepsilon + 2}\\right)}$"
      ],
      "text/plain": [
       "97*(\\varepsilon**12*exp(t/\\varepsilon) + 6*\\varepsilon**11*exp(t/\\varepsilon) + 15*\\varepsilon**10*exp(t/\\varepsilon) + 20*\\varepsilon**9*exp(t/\\varepsilon) + 15*\\varepsilon**8*exp(t/\\varepsilon) + 6*\\varepsilon**7*exp(t/\\varepsilon) + \\varepsilon**6*exp(t/\\varepsilon) - \\varepsilon**6*exp(t*(\\varepsilon + 2)) + 6*\\varepsilon**5*exp(t*(\\varepsilon + 2)) - 15*\\varepsilon**4*exp(t*(\\varepsilon + 2)) + 20*\\varepsilon**3*exp(t*(\\varepsilon + 2)) - 15*\\varepsilon**2*exp(t*(\\varepsilon + 2)) + 6*\\varepsilon*exp(t*(\\varepsilon + 2)) - exp(t*(\\varepsilon + 2)))*exp(-\\varepsilon*t + \\varepsilon - t + 1 - t/\\varepsilon + 1/\\varepsilon)/(120000*\\varepsilon**6*(-exp(1/\\varepsilon) + exp(\\varepsilon + 2)))"
      ]
     },
     "execution_count": 54,
     "metadata": {},
     "output_type": "execute_result"
    }
   ],
   "source": [
    "f2[4].subs(sol).expand().simplify()"
   ]
  },
  {
   "cell_type": "code",
   "execution_count": 55,
   "id": "002efc79",
   "metadata": {},
   "outputs": [
    {
     "name": "stdout",
     "output_type": "stream",
     "text": [
      "\\frac{97 \\left(\\varepsilon^{12} e^{\\frac{t}{\\varepsilon}} + 6 \\varepsilon^{11} e^{\\frac{t}{\\varepsilon}} + 15 \\varepsilon^{10} e^{\\frac{t}{\\varepsilon}} + 20 \\varepsilon^{9} e^{\\frac{t}{\\varepsilon}} + 15 \\varepsilon^{8} e^{\\frac{t}{\\varepsilon}} + 6 \\varepsilon^{7} e^{\\frac{t}{\\varepsilon}} + \\varepsilon^{6} e^{\\frac{t}{\\varepsilon}} - \\varepsilon^{6} e^{t \\left(\\varepsilon + 2\\right)} + 6 \\varepsilon^{5} e^{t \\left(\\varepsilon + 2\\right)} - 15 \\varepsilon^{4} e^{t \\left(\\varepsilon + 2\\right)} + 20 \\varepsilon^{3} e^{t \\left(\\varepsilon + 2\\right)} - 15 \\varepsilon^{2} e^{t \\left(\\varepsilon + 2\\right)} + 6 \\varepsilon e^{t \\left(\\varepsilon + 2\\right)} - e^{t \\left(\\varepsilon + 2\\right)}\\right) e^{- \\varepsilon t + \\varepsilon - t + 1 - \\frac{t}{\\varepsilon} + \\frac{1}{\\varepsilon}}}{120000 \\varepsilon^{6} \\left(- e^{\\frac{1}{\\varepsilon}} + e^{\\varepsilon + 2}\\right)}\n"
     ]
    }
   ],
   "source": [
    "print(latex(f2[4].subs(sol).expand().simplify()))"
   ]
  },
  {
   "cell_type": "markdown",
   "id": "1eadab89",
   "metadata": {
    "collapsed": true
   },
   "source": [
    "### Adams–Bashforth method 4 order"
   ]
  },
  {
   "cell_type": "code",
   "execution_count": 56,
   "id": "79605db3",
   "metadata": {},
   "outputs": [],
   "source": [
    "set_clip(7, 6, Rational(0, 1))\n",
    "m = AdamsBashforth4(g, Matrix([u(t), u1(t)]))"
   ]
  },
  {
   "cell_type": "code",
   "execution_count": 57,
   "id": "13f8417e",
   "metadata": {},
   "outputs": [
    {
     "name": "stdout",
     "output_type": "stream",
     "text": [
      "h^0 =>\n"
     ]
    },
    {
     "data": {
      "text/latex": [
       "$\\displaystyle - u_{1} + u_{t}$"
      ],
      "text/plain": [
       "-u1 + u_{t}"
      ]
     },
     "metadata": {},
     "output_type": "display_data"
    },
    {
     "name": "stdout",
     "output_type": "stream",
     "text": [
      "h^1 =>\n"
     ]
    },
    {
     "data": {
      "text/latex": [
       "$\\displaystyle - \\frac{7 \\left(u1_{t} - u_{tt}\\right)}{2}$"
      ],
      "text/plain": [
       "-7*(u1_{t} - u_{tt})/2"
      ]
     },
     "metadata": {},
     "output_type": "display_data"
    },
    {
     "name": "stdout",
     "output_type": "stream",
     "text": [
      "h^2 =>\n"
     ]
    },
    {
     "data": {
      "text/latex": [
       "$\\displaystyle - \\frac{37 \\left(u1_{tt} - u_{ttt}\\right)}{6}$"
      ],
      "text/plain": [
       "-37*(u1_{tt} - u_{ttt})/6"
      ]
     },
     "metadata": {},
     "output_type": "display_data"
    },
    {
     "name": "stdout",
     "output_type": "stream",
     "text": [
      "h^3 =>\n"
     ]
    },
    {
     "data": {
      "text/latex": [
       "$\\displaystyle - \\frac{175 \\left(u1_{ttt} - u_{tttt}\\right)}{24}$"
      ],
      "text/plain": [
       "-175*(u1_{ttt} - u_{tttt})/24"
      ]
     },
     "metadata": {},
     "output_type": "display_data"
    },
    {
     "name": "stdout",
     "output_type": "stream",
     "text": [
      "h^4 =>\n"
     ]
    },
    {
     "data": {
      "text/latex": [
       "$\\displaystyle - \\frac{4435 u1_{tttt} - 4686 u_{ttttt}}{720}$"
      ],
      "text/plain": [
       "-(4435*u1_{tttt} - 4686*u_{ttttt})/720"
      ]
     },
     "metadata": {},
     "output_type": "display_data"
    },
    {
     "name": "stdout",
     "output_type": "stream",
     "text": [
      "h^5 =>\n"
     ]
    },
    {
     "data": {
      "text/latex": [
       "$\\displaystyle - \\frac{5757 u1_{ttttt} - 6734 u_{tttttt}}{1440}$"
      ],
      "text/plain": [
       "-(5757*u1_{ttttt} - 6734*u_{tttttt})/1440"
      ]
     },
     "metadata": {},
     "output_type": "display_data"
    },
    {
     "name": "stdout",
     "output_type": "stream",
     "text": [
      "- u_{1} + u_{t}\n",
      "+h\\left(\n",
      "- \\frac{7 \\left(u1_{t} - u_{tt}\\right)}{2}\n",
      "\\right)\n",
      "+h^2\\left(\n",
      "- \\frac{37 \\left(u1_{tt} - u_{ttt}\\right)}{6}\n",
      "\\right)\n",
      "+h^3\\left(\n",
      "- \\frac{175 \\left(u1_{ttt} - u_{tttt}\\right)}{24}\n",
      "\\right)\n",
      "+h^4\\left(\n",
      "- \\frac{4435 u1_{tttt} - 4686 u_{ttttt}}{720}\n",
      "\\right)\n",
      "+h^5\\left(\n",
      "- \\frac{5757 u1_{ttttt} - 6734 u_{tttttt}}{1440}\n",
      "\\right)\n"
     ]
    }
   ],
   "source": [
    "F1 = clip((T(u(t+4*h))-T(u(t+3*h)))/h - T(m[0]))\n",
    "prn(F1, eps)\n",
    "prnlatex(F1, eps)"
   ]
  },
  {
   "cell_type": "code",
   "execution_count": 58,
   "id": "b976fdf7",
   "metadata": {},
   "outputs": [
    {
     "name": "stdout",
     "output_type": "stream",
     "text": [
      "h^0 =>\n"
     ]
    },
    {
     "data": {
      "text/latex": [
       "$\\displaystyle \\varepsilon \\left(- u + u_{1}\\right) + u1_{t} + \\frac{u + u_{1}}{\\varepsilon}$"
      ],
      "text/plain": [
       "\\varepsilon*(-u + u1) + u1_{t} + (u + u1)/\\varepsilon"
      ]
     },
     "metadata": {},
     "output_type": "display_data"
    },
    {
     "name": "stdout",
     "output_type": "stream",
     "text": [
      "h^1 =>\n"
     ]
    },
    {
     "data": {
      "text/latex": [
       "$\\displaystyle \\frac{7 \\varepsilon \\left(u1_{t} - u_{t}\\right)}{2} + \\frac{7 u1_{tt}}{2} + \\frac{7 \\left(u1_{t} + u_{t}\\right)}{2 \\varepsilon}$"
      ],
      "text/plain": [
       "7*\\varepsilon*(u1_{t} - u_{t})/2 + 7*u1_{tt}/2 + 7*(u1_{t} + u_{t})/(2*\\varepsilon)"
      ]
     },
     "metadata": {},
     "output_type": "display_data"
    },
    {
     "name": "stdout",
     "output_type": "stream",
     "text": [
      "h^2 =>\n"
     ]
    },
    {
     "data": {
      "text/latex": [
       "$\\displaystyle \\frac{37 \\varepsilon \\left(u1_{tt} - u_{tt}\\right)}{6} + \\frac{37 u1_{ttt}}{6} + \\frac{37 \\left(u1_{tt} + u_{tt}\\right)}{6 \\varepsilon}$"
      ],
      "text/plain": [
       "37*\\varepsilon*(u1_{tt} - u_{tt})/6 + 37*u1_{ttt}/6 + 37*(u1_{tt} + u_{tt})/(6*\\varepsilon)"
      ]
     },
     "metadata": {},
     "output_type": "display_data"
    },
    {
     "name": "stdout",
     "output_type": "stream",
     "text": [
      "h^3 =>\n"
     ]
    },
    {
     "data": {
      "text/latex": [
       "$\\displaystyle \\frac{175 \\varepsilon \\left(u1_{ttt} - u_{ttt}\\right)}{24} + \\frac{175 u1_{tttt}}{24} + \\frac{175 \\left(u1_{ttt} + u_{ttt}\\right)}{24 \\varepsilon}$"
      ],
      "text/plain": [
       "175*\\varepsilon*(u1_{ttt} - u_{ttt})/24 + 175*u1_{tttt}/24 + 175*(u1_{ttt} + u_{ttt})/(24*\\varepsilon)"
      ]
     },
     "metadata": {},
     "output_type": "display_data"
    },
    {
     "name": "stdout",
     "output_type": "stream",
     "text": [
      "h^4 =>\n"
     ]
    },
    {
     "data": {
      "text/latex": [
       "$\\displaystyle \\frac{887 \\varepsilon \\left(u1_{tttt} - u_{tttt}\\right)}{144} + \\frac{781 u1_{ttttt}}{120} + \\frac{887 \\left(u1_{tttt} + u_{tttt}\\right)}{144 \\varepsilon}$"
      ],
      "text/plain": [
       "887*\\varepsilon*(u1_{tttt} - u_{tttt})/144 + 781*u1_{ttttt}/120 + 887*(u1_{tttt} + u_{tttt})/(144*\\varepsilon)"
      ]
     },
     "metadata": {},
     "output_type": "display_data"
    },
    {
     "name": "stdout",
     "output_type": "stream",
     "text": [
      "h^5 =>\n"
     ]
    },
    {
     "data": {
      "text/latex": [
       "$\\displaystyle \\frac{1919 \\varepsilon \\left(u1_{ttttt} - u_{ttttt}\\right)}{480} + \\frac{3367 u1_{tttttt}}{720} + \\frac{1919 \\left(u1_{ttttt} + u_{ttttt}\\right)}{480 \\varepsilon}$"
      ],
      "text/plain": [
       "1919*\\varepsilon*(u1_{ttttt} - u_{ttttt})/480 + 3367*u1_{tttttt}/720 + 1919*(u1_{ttttt} + u_{ttttt})/(480*\\varepsilon)"
      ]
     },
     "metadata": {},
     "output_type": "display_data"
    },
    {
     "name": "stdout",
     "output_type": "stream",
     "text": [
      "\\varepsilon \\left(- u + u_{1}\\right) + u1_{t} + \\frac{u + u_{1}}{\\varepsilon}\n",
      "+h\\left(\n",
      "\\frac{7 \\varepsilon \\left(u1_{t} - u_{t}\\right)}{2} + \\frac{7 u1_{tt}}{2} + \\frac{7 \\left(u1_{t} + u_{t}\\right)}{2 \\varepsilon}\n",
      "\\right)\n",
      "+h^2\\left(\n",
      "\\frac{37 \\varepsilon \\left(u1_{tt} - u_{tt}\\right)}{6} + \\frac{37 u1_{ttt}}{6} + \\frac{37 \\left(u1_{tt} + u_{tt}\\right)}{6 \\varepsilon}\n",
      "\\right)\n",
      "+h^3\\left(\n",
      "\\frac{175 \\varepsilon \\left(u1_{ttt} - u_{ttt}\\right)}{24} + \\frac{175 u1_{tttt}}{24} + \\frac{175 \\left(u1_{ttt} + u_{ttt}\\right)}{24 \\varepsilon}\n",
      "\\right)\n",
      "+h^4\\left(\n",
      "\\frac{887 \\varepsilon \\left(u1_{tttt} - u_{tttt}\\right)}{144} + \\frac{781 u1_{ttttt}}{120} + \\frac{887 \\left(u1_{tttt} + u_{tttt}\\right)}{144 \\varepsilon}\n",
      "\\right)\n",
      "+h^5\\left(\n",
      "\\frac{1919 \\varepsilon \\left(u1_{ttttt} - u_{ttttt}\\right)}{480} + \\frac{3367 u1_{tttttt}}{720} + \\frac{1919 \\left(u1_{ttttt} + u_{ttttt}\\right)}{480 \\varepsilon}\n",
      "\\right)\n"
     ]
    }
   ],
   "source": [
    "F2 = clip((T(u1(t+4*h))-T(u1(t+3*h)))/h - T(m[1]))\n",
    "prn(F2, eps)\n",
    "prnlatex(F2, eps)"
   ]
  },
  {
   "cell_type": "code",
   "execution_count": 59,
   "id": "44193df4",
   "metadata": {},
   "outputs": [
    {
     "name": "stdout",
     "output_type": "stream",
     "text": [
      "h^0 =>\n"
     ]
    },
    {
     "data": {
      "text/latex": [
       "$\\displaystyle - u_{1} + u_{t}$"
      ],
      "text/plain": [
       "-u1 + u_{t}"
      ]
     },
     "metadata": {},
     "output_type": "display_data"
    },
    {
     "name": "stdout",
     "output_type": "stream",
     "text": [
      "h^1 =>\n"
     ]
    },
    {
     "data": {
      "text/latex": [
       "$\\displaystyle 0$"
      ],
      "text/plain": [
       "0"
      ]
     },
     "metadata": {},
     "output_type": "display_data"
    },
    {
     "name": "stdout",
     "output_type": "stream",
     "text": [
      "h^2 =>\n"
     ]
    },
    {
     "data": {
      "text/latex": [
       "$\\displaystyle 0$"
      ],
      "text/plain": [
       "0"
      ]
     },
     "metadata": {},
     "output_type": "display_data"
    },
    {
     "name": "stdout",
     "output_type": "stream",
     "text": [
      "h^3 =>\n"
     ]
    },
    {
     "data": {
      "text/latex": [
       "$\\displaystyle 0$"
      ],
      "text/plain": [
       "0"
      ]
     },
     "metadata": {},
     "output_type": "display_data"
    },
    {
     "name": "stdout",
     "output_type": "stream",
     "text": [
      "h^4 =>\n"
     ]
    },
    {
     "data": {
      "text/latex": [
       "$\\displaystyle - \\frac{251 \\varepsilon^{4} \\left(u - u_{1}\\right)}{720} - \\frac{251 \\varepsilon^{3} \\left(2 u - 3 u_{1}\\right)}{720} - \\frac{251 \\varepsilon^{2} \\left(2 u - 5 u_{1}\\right)}{720} + \\frac{251 \\varepsilon \\left(2 u + 3 u_{1}\\right)}{720} + \\frac{251 u_{1}}{180} + \\frac{251 \\left(2 u - 3 u_{1}\\right)}{720 \\varepsilon} + \\frac{251 \\left(2 u + 5 u_{1}\\right)}{720 \\varepsilon^{2}} - \\frac{251 \\left(2 u + 3 u_{1}\\right)}{720 \\varepsilon^{3}} + \\frac{251 \\left(u + u_{1}\\right)}{720 \\varepsilon^{4}}$"
      ],
      "text/plain": [
       "-251*\\varepsilon**4*(u - u1)/720 - 251*\\varepsilon**3*(2*u - 3*u1)/720 - 251*\\varepsilon**2*(2*u - 5*u1)/720 + 251*\\varepsilon*(2*u + 3*u1)/720 + 251*u1/180 + 251*(2*u - 3*u1)/(720*\\varepsilon) + 251*(2*u + 5*u1)/(720*\\varepsilon**2) - 251*(2*u + 3*u1)/(720*\\varepsilon**3) + 251*(u + u1)/(720*\\varepsilon**4)"
      ]
     },
     "metadata": {},
     "output_type": "display_data"
    },
    {
     "name": "stdout",
     "output_type": "stream",
     "text": [
      "h^5 =>\n"
     ]
    },
    {
     "data": {
      "text/latex": [
       "$\\displaystyle - \\frac{13 \\varepsilon^{5} \\left(u - u_{1}\\right)}{24} - \\frac{13 \\varepsilon^{4} \\left(3 u - 4 u_{1}\\right)}{24} - \\frac{13 \\varepsilon^{3} \\left(u - 2 u_{1}\\right)}{6} + \\frac{13 \\varepsilon^{2} u_{1}}{3} + \\frac{13 \\varepsilon \\left(u + 7 u_{1}\\right)}{24} + \\frac{13 u}{4} - \\frac{13 \\left(u - 7 u_{1}\\right)}{24 \\varepsilon} - \\frac{13 u_{1}}{3 \\varepsilon^{2}} + \\frac{13 \\left(u + 2 u_{1}\\right)}{6 \\varepsilon^{3}} - \\frac{13 \\left(3 u + 4 u_{1}\\right)}{24 \\varepsilon^{4}} + \\frac{13 \\left(u + u_{1}\\right)}{24 \\varepsilon^{5}}$"
      ],
      "text/plain": [
       "-13*\\varepsilon**5*(u - u1)/24 - 13*\\varepsilon**4*(3*u - 4*u1)/24 - 13*\\varepsilon**3*(u - 2*u1)/6 + 13*\\varepsilon**2*u1/3 + 13*\\varepsilon*(u + 7*u1)/24 + 13*u/4 - 13*(u - 7*u1)/(24*\\varepsilon) - 13*u1/(3*\\varepsilon**2) + 13*(u + 2*u1)/(6*\\varepsilon**3) - 13*(3*u + 4*u1)/(24*\\varepsilon**4) + 13*(u + u1)/(24*\\varepsilon**5)"
      ]
     },
     "metadata": {},
     "output_type": "display_data"
    },
    {
     "name": "stdout",
     "output_type": "stream",
     "text": [
      "- u_{1} + u_{t}\n",
      "+h\\left(\n",
      "0\n",
      "\\right)\n",
      "+h^2\\left(\n",
      "0\n",
      "\\right)\n",
      "+h^3\\left(\n",
      "0\n",
      "\\right)\n",
      "+h^4\\left(\n",
      "- \\frac{251 \\varepsilon^{4} \\left(u - u_{1}\\right)}{720} - \\frac{251 \\varepsilon^{3} \\left(2 u - 3 u_{1}\\right)}{720} - \\frac{251 \\varepsilon^{2} \\left(2 u - 5 u_{1}\\right)}{720} + \\frac{251 \\varepsilon \\left(2 u + 3 u_{1}\\right)}{720} + \\frac{251 u_{1}}{180} + \\frac{251 \\left(2 u - 3 u_{1}\\right)}{720 \\varepsilon} + \\frac{251 \\left(2 u + 5 u_{1}\\right)}{720 \\varepsilon^{2}} - \\frac{251 \\left(2 u + 3 u_{1}\\right)}{720 \\varepsilon^{3}} + \\frac{251 \\left(u + u_{1}\\right)}{720 \\varepsilon^{4}}\n",
      "\\right)\n",
      "+h^5\\left(\n",
      "- \\frac{13 \\varepsilon^{5} \\left(u - u_{1}\\right)}{24} - \\frac{13 \\varepsilon^{4} \\left(3 u - 4 u_{1}\\right)}{24} - \\frac{13 \\varepsilon^{3} \\left(u - 2 u_{1}\\right)}{6} + \\frac{13 \\varepsilon^{2} u_{1}}{3} + \\frac{13 \\varepsilon \\left(u + 7 u_{1}\\right)}{24} + \\frac{13 u}{4} - \\frac{13 \\left(u - 7 u_{1}\\right)}{24 \\varepsilon} - \\frac{13 u_{1}}{3 \\varepsilon^{2}} + \\frac{13 \\left(u + 2 u_{1}\\right)}{6 \\varepsilon^{3}} - \\frac{13 \\left(3 u + 4 u_{1}\\right)}{24 \\varepsilon^{4}} + \\frac{13 \\left(u + u_{1}\\right)}{24 \\varepsilon^{5}}\n",
      "\\right)\n"
     ]
    }
   ],
   "source": [
    "f1 = NF(F1, [u(t).diff(t), u1(t).diff(t)], [F1, F2], head=False)\n",
    "prn(f1, eps)\n",
    "prnlatex(f1, eps)"
   ]
  },
  {
   "cell_type": "code",
   "execution_count": 60,
   "id": "90a2a819",
   "metadata": {},
   "outputs": [
    {
     "name": "stdout",
     "output_type": "stream",
     "text": [
      "h^0 =>\n"
     ]
    },
    {
     "data": {
      "text/latex": [
       "$\\displaystyle \\varepsilon \\left(- u + u_{1}\\right) + u1_{t} + \\frac{u + u_{1}}{\\varepsilon}$"
      ],
      "text/plain": [
       "\\varepsilon*(-u + u1) + u1_{t} + (u + u1)/\\varepsilon"
      ]
     },
     "metadata": {},
     "output_type": "display_data"
    },
    {
     "name": "stdout",
     "output_type": "stream",
     "text": [
      "h^1 =>\n"
     ]
    },
    {
     "data": {
      "text/latex": [
       "$\\displaystyle 0$"
      ],
      "text/plain": [
       "0"
      ]
     },
     "metadata": {},
     "output_type": "display_data"
    },
    {
     "name": "stdout",
     "output_type": "stream",
     "text": [
      "h^2 =>\n"
     ]
    },
    {
     "data": {
      "text/latex": [
       "$\\displaystyle 0$"
      ],
      "text/plain": [
       "0"
      ]
     },
     "metadata": {},
     "output_type": "display_data"
    },
    {
     "name": "stdout",
     "output_type": "stream",
     "text": [
      "h^3 =>\n"
     ]
    },
    {
     "data": {
      "text/latex": [
       "$\\displaystyle 0$"
      ],
      "text/plain": [
       "0"
      ]
     },
     "metadata": {},
     "output_type": "display_data"
    },
    {
     "name": "stdout",
     "output_type": "stream",
     "text": [
      "h^4 =>\n"
     ]
    },
    {
     "data": {
      "text/latex": [
       "$\\displaystyle \\frac{251 \\varepsilon^{5} \\left(u - u_{1}\\right)}{720} + \\frac{251 \\varepsilon^{4} \\left(3 u - 4 u_{1}\\right)}{720} + \\frac{251 \\varepsilon^{3} \\left(u - 2 u_{1}\\right)}{180} - \\frac{251 \\varepsilon^{2} u_{1}}{90} - \\frac{251 \\varepsilon \\left(u + 7 u_{1}\\right)}{720} - \\frac{251 u}{120} + \\frac{251 \\left(u - 7 u_{1}\\right)}{720 \\varepsilon} + \\frac{251 u_{1}}{90 \\varepsilon^{2}} - \\frac{251 \\left(u + 2 u_{1}\\right)}{180 \\varepsilon^{3}} + \\frac{251 \\left(3 u + 4 u_{1}\\right)}{720 \\varepsilon^{4}} - \\frac{251 \\left(u + u_{1}\\right)}{720 \\varepsilon^{5}}$"
      ],
      "text/plain": [
       "251*\\varepsilon**5*(u - u1)/720 + 251*\\varepsilon**4*(3*u - 4*u1)/720 + 251*\\varepsilon**3*(u - 2*u1)/180 - 251*\\varepsilon**2*u1/90 - 251*\\varepsilon*(u + 7*u1)/720 - 251*u/120 + 251*(u - 7*u1)/(720*\\varepsilon) + 251*u1/(90*\\varepsilon**2) - 251*(u + 2*u1)/(180*\\varepsilon**3) + 251*(3*u + 4*u1)/(720*\\varepsilon**4) - 251*(u + u1)/(720*\\varepsilon**5)"
      ]
     },
     "metadata": {},
     "output_type": "display_data"
    },
    {
     "name": "stdout",
     "output_type": "stream",
     "text": [
      "h^5 =>\n"
     ]
    },
    {
     "data": {
      "text/latex": [
       "$\\displaystyle \\frac{13 \\varepsilon^{6} \\left(u - u_{1}\\right)}{24} + \\frac{13 \\varepsilon^{5} \\left(4 u - 5 u_{1}\\right)}{24} + \\frac{13 \\varepsilon^{4} \\left(7 u - 12 u_{1}\\right)}{24} + \\frac{13 \\varepsilon^{3} \\left(u - 4 u_{1}\\right)}{6} - \\frac{13 \\varepsilon^{2} \\left(u + 15 u_{1}\\right)}{24} - \\frac{13 \\varepsilon \\left(8 u + 7 u_{1}\\right)}{24} - \\frac{13 u_{1}}{3} - \\frac{13 \\left(8 u - 7 u_{1}\\right)}{24 \\varepsilon} + \\frac{13 \\left(u - 15 u_{1}\\right)}{24 \\varepsilon^{2}} + \\frac{13 \\left(u + 4 u_{1}\\right)}{6 \\varepsilon^{3}} - \\frac{13 \\left(7 u + 12 u_{1}\\right)}{24 \\varepsilon^{4}} + \\frac{13 \\left(4 u + 5 u_{1}\\right)}{24 \\varepsilon^{5}} - \\frac{13 \\left(u + u_{1}\\right)}{24 \\varepsilon^{6}}$"
      ],
      "text/plain": [
       "13*\\varepsilon**6*(u - u1)/24 + 13*\\varepsilon**5*(4*u - 5*u1)/24 + 13*\\varepsilon**4*(7*u - 12*u1)/24 + 13*\\varepsilon**3*(u - 4*u1)/6 - 13*\\varepsilon**2*(u + 15*u1)/24 - 13*\\varepsilon*(8*u + 7*u1)/24 - 13*u1/3 - 13*(8*u - 7*u1)/(24*\\varepsilon) + 13*(u - 15*u1)/(24*\\varepsilon**2) + 13*(u + 4*u1)/(6*\\varepsilon**3) - 13*(7*u + 12*u1)/(24*\\varepsilon**4) + 13*(4*u + 5*u1)/(24*\\varepsilon**5) - 13*(u + u1)/(24*\\varepsilon**6)"
      ]
     },
     "metadata": {},
     "output_type": "display_data"
    },
    {
     "name": "stdout",
     "output_type": "stream",
     "text": [
      "\\varepsilon \\left(- u + u_{1}\\right) + u1_{t} + \\frac{u + u_{1}}{\\varepsilon}\n",
      "+h\\left(\n",
      "0\n",
      "\\right)\n",
      "+h^2\\left(\n",
      "0\n",
      "\\right)\n",
      "+h^3\\left(\n",
      "0\n",
      "\\right)\n",
      "+h^4\\left(\n",
      "\\frac{251 \\varepsilon^{5} \\left(u - u_{1}\\right)}{720} + \\frac{251 \\varepsilon^{4} \\left(3 u - 4 u_{1}\\right)}{720} + \\frac{251 \\varepsilon^{3} \\left(u - 2 u_{1}\\right)}{180} - \\frac{251 \\varepsilon^{2} u_{1}}{90} - \\frac{251 \\varepsilon \\left(u + 7 u_{1}\\right)}{720} - \\frac{251 u}{120} + \\frac{251 \\left(u - 7 u_{1}\\right)}{720 \\varepsilon} + \\frac{251 u_{1}}{90 \\varepsilon^{2}} - \\frac{251 \\left(u + 2 u_{1}\\right)}{180 \\varepsilon^{3}} + \\frac{251 \\left(3 u + 4 u_{1}\\right)}{720 \\varepsilon^{4}} - \\frac{251 \\left(u + u_{1}\\right)}{720 \\varepsilon^{5}}\n",
      "\\right)\n",
      "+h^5\\left(\n",
      "\\frac{13 \\varepsilon^{6} \\left(u - u_{1}\\right)}{24} + \\frac{13 \\varepsilon^{5} \\left(4 u - 5 u_{1}\\right)}{24} + \\frac{13 \\varepsilon^{4} \\left(7 u - 12 u_{1}\\right)}{24} + \\frac{13 \\varepsilon^{3} \\left(u - 4 u_{1}\\right)}{6} - \\frac{13 \\varepsilon^{2} \\left(u + 15 u_{1}\\right)}{24} - \\frac{13 \\varepsilon \\left(8 u + 7 u_{1}\\right)}{24} - \\frac{13 u_{1}}{3} - \\frac{13 \\left(8 u - 7 u_{1}\\right)}{24 \\varepsilon} + \\frac{13 \\left(u - 15 u_{1}\\right)}{24 \\varepsilon^{2}} + \\frac{13 \\left(u + 4 u_{1}\\right)}{6 \\varepsilon^{3}} - \\frac{13 \\left(7 u + 12 u_{1}\\right)}{24 \\varepsilon^{4}} + \\frac{13 \\left(4 u + 5 u_{1}\\right)}{24 \\varepsilon^{5}} - \\frac{13 \\left(u + u_{1}\\right)}{24 \\varepsilon^{6}}\n",
      "\\right)\n"
     ]
    }
   ],
   "source": [
    "f2 = NF(F2, [u(t).diff(t), u1(t).diff(t)], [F1, F2], head=False)\n",
    "prn(f2, eps)\n",
    "prnlatex(f2, eps)"
   ]
  },
  {
   "cell_type": "code",
   "execution_count": 61,
   "id": "682a4a52",
   "metadata": {},
   "outputs": [
    {
     "data": {
      "text/latex": [
       "$\\displaystyle \\frac{251 \\left(\\varepsilon^{10} e^{\\frac{t}{\\varepsilon}} + 5 \\varepsilon^{9} e^{\\frac{t}{\\varepsilon}} + 10 \\varepsilon^{8} e^{\\frac{t}{\\varepsilon}} + 10 \\varepsilon^{7} e^{\\frac{t}{\\varepsilon}} + 5 \\varepsilon^{6} e^{\\frac{t}{\\varepsilon}} + \\varepsilon^{5} e^{\\frac{t}{\\varepsilon}} + \\varepsilon^{5} e^{t \\left(\\varepsilon + 2\\right)} - 5 \\varepsilon^{4} e^{t \\left(\\varepsilon + 2\\right)} + 10 \\varepsilon^{3} e^{t \\left(\\varepsilon + 2\\right)} - 10 \\varepsilon^{2} e^{t \\left(\\varepsilon + 2\\right)} + 5 \\varepsilon e^{t \\left(\\varepsilon + 2\\right)} - e^{t \\left(\\varepsilon + 2\\right)}\\right) e^{- \\varepsilon t + \\varepsilon - t + 1 - \\frac{t}{\\varepsilon} + \\frac{1}{\\varepsilon}}}{720 \\varepsilon^{5} \\left(- e^{\\frac{1}{\\varepsilon}} + e^{\\varepsilon + 2}\\right)}$"
      ],
      "text/plain": [
       "251*(\\varepsilon**10*exp(t/\\varepsilon) + 5*\\varepsilon**9*exp(t/\\varepsilon) + 10*\\varepsilon**8*exp(t/\\varepsilon) + 10*\\varepsilon**7*exp(t/\\varepsilon) + 5*\\varepsilon**6*exp(t/\\varepsilon) + \\varepsilon**5*exp(t/\\varepsilon) + \\varepsilon**5*exp(t*(\\varepsilon + 2)) - 5*\\varepsilon**4*exp(t*(\\varepsilon + 2)) + 10*\\varepsilon**3*exp(t*(\\varepsilon + 2)) - 10*\\varepsilon**2*exp(t*(\\varepsilon + 2)) + 5*\\varepsilon*exp(t*(\\varepsilon + 2)) - exp(t*(\\varepsilon + 2)))*exp(-\\varepsilon*t + \\varepsilon - t + 1 - t/\\varepsilon + 1/\\varepsilon)/(720*\\varepsilon**5*(-exp(1/\\varepsilon) + exp(\\varepsilon + 2)))"
      ]
     },
     "execution_count": 61,
     "metadata": {},
     "output_type": "execute_result"
    }
   ],
   "source": [
    "f1[4].subs(sol).expand().simplify()"
   ]
  },
  {
   "cell_type": "code",
   "execution_count": 62,
   "id": "452d29ca",
   "metadata": {},
   "outputs": [
    {
     "data": {
      "text/latex": [
       "$\\displaystyle \\frac{251 \\left(- \\varepsilon^{12} e^{\\frac{t}{\\varepsilon}} - 6 \\varepsilon^{11} e^{\\frac{t}{\\varepsilon}} - 15 \\varepsilon^{10} e^{\\frac{t}{\\varepsilon}} - 20 \\varepsilon^{9} e^{\\frac{t}{\\varepsilon}} - 15 \\varepsilon^{8} e^{\\frac{t}{\\varepsilon}} - 6 \\varepsilon^{7} e^{\\frac{t}{\\varepsilon}} - \\varepsilon^{6} e^{\\frac{t}{\\varepsilon}} + \\varepsilon^{6} e^{t \\left(\\varepsilon + 2\\right)} - 6 \\varepsilon^{5} e^{t \\left(\\varepsilon + 2\\right)} + 15 \\varepsilon^{4} e^{t \\left(\\varepsilon + 2\\right)} - 20 \\varepsilon^{3} e^{t \\left(\\varepsilon + 2\\right)} + 15 \\varepsilon^{2} e^{t \\left(\\varepsilon + 2\\right)} - 6 \\varepsilon e^{t \\left(\\varepsilon + 2\\right)} + e^{t \\left(\\varepsilon + 2\\right)}\\right) e^{- \\varepsilon t + \\varepsilon - t + 1 - \\frac{t}{\\varepsilon} + \\frac{1}{\\varepsilon}}}{720 \\varepsilon^{6} \\left(- e^{\\frac{1}{\\varepsilon}} + e^{\\varepsilon + 2}\\right)}$"
      ],
      "text/plain": [
       "251*(-\\varepsilon**12*exp(t/\\varepsilon) - 6*\\varepsilon**11*exp(t/\\varepsilon) - 15*\\varepsilon**10*exp(t/\\varepsilon) - 20*\\varepsilon**9*exp(t/\\varepsilon) - 15*\\varepsilon**8*exp(t/\\varepsilon) - 6*\\varepsilon**7*exp(t/\\varepsilon) - \\varepsilon**6*exp(t/\\varepsilon) + \\varepsilon**6*exp(t*(\\varepsilon + 2)) - 6*\\varepsilon**5*exp(t*(\\varepsilon + 2)) + 15*\\varepsilon**4*exp(t*(\\varepsilon + 2)) - 20*\\varepsilon**3*exp(t*(\\varepsilon + 2)) + 15*\\varepsilon**2*exp(t*(\\varepsilon + 2)) - 6*\\varepsilon*exp(t*(\\varepsilon + 2)) + exp(t*(\\varepsilon + 2)))*exp(-\\varepsilon*t + \\varepsilon - t + 1 - t/\\varepsilon + 1/\\varepsilon)/(720*\\varepsilon**6*(-exp(1/\\varepsilon) + exp(\\varepsilon + 2)))"
      ]
     },
     "execution_count": 62,
     "metadata": {},
     "output_type": "execute_result"
    }
   ],
   "source": [
    "f2[4].subs(sol).expand().simplify()"
   ]
  },
  {
   "cell_type": "code",
   "execution_count": 63,
   "id": "edd7ef7a",
   "metadata": {},
   "outputs": [
    {
     "name": "stdout",
     "output_type": "stream",
     "text": [
      "\\frac{251 \\left(- \\varepsilon^{12} e^{\\frac{t}{\\varepsilon}} - 6 \\varepsilon^{11} e^{\\frac{t}{\\varepsilon}} - 15 \\varepsilon^{10} e^{\\frac{t}{\\varepsilon}} - 20 \\varepsilon^{9} e^{\\frac{t}{\\varepsilon}} - 15 \\varepsilon^{8} e^{\\frac{t}{\\varepsilon}} - 6 \\varepsilon^{7} e^{\\frac{t}{\\varepsilon}} - \\varepsilon^{6} e^{\\frac{t}{\\varepsilon}} + \\varepsilon^{6} e^{t \\left(\\varepsilon + 2\\right)} - 6 \\varepsilon^{5} e^{t \\left(\\varepsilon + 2\\right)} + 15 \\varepsilon^{4} e^{t \\left(\\varepsilon + 2\\right)} - 20 \\varepsilon^{3} e^{t \\left(\\varepsilon + 2\\right)} + 15 \\varepsilon^{2} e^{t \\left(\\varepsilon + 2\\right)} - 6 \\varepsilon e^{t \\left(\\varepsilon + 2\\right)} + e^{t \\left(\\varepsilon + 2\\right)}\\right) e^{- \\varepsilon t + \\varepsilon - t + 1 - \\frac{t}{\\varepsilon} + \\frac{1}{\\varepsilon}}}{720 \\varepsilon^{6} \\left(- e^{\\frac{1}{\\varepsilon}} + e^{\\varepsilon + 2}\\right)}\n"
     ]
    }
   ],
   "source": [
    "print(latex(f2[4].subs(sol).expand().simplify()))"
   ]
  },
  {
   "cell_type": "markdown",
   "id": "1665ad9e",
   "metadata": {},
   "source": [
    "### Adams–Moulton method 4 order"
   ]
  },
  {
   "cell_type": "code",
   "execution_count": 64,
   "id": "e3285b1e",
   "metadata": {},
   "outputs": [],
   "source": [
    "set_clip(7, 6, Rational(0, 1))\n",
    "m = AdamsMoulton4(g, Matrix([u(t), u1(t)]))"
   ]
  },
  {
   "cell_type": "code",
   "execution_count": 65,
   "id": "873420a3",
   "metadata": {},
   "outputs": [
    {
     "name": "stdout",
     "output_type": "stream",
     "text": [
      "h^0 =>\n"
     ]
    },
    {
     "data": {
      "text/latex": [
       "$\\displaystyle - u_{1} + u_{t}$"
      ],
      "text/plain": [
       "-u1 + u_{t}"
      ]
     },
     "metadata": {},
     "output_type": "display_data"
    },
    {
     "name": "stdout",
     "output_type": "stream",
     "text": [
      "h^1 =>\n"
     ]
    },
    {
     "data": {
      "text/latex": [
       "$\\displaystyle - \\frac{5 \\left(u1_{t} - u_{tt}\\right)}{2}$"
      ],
      "text/plain": [
       "-5*(u1_{t} - u_{tt})/2"
      ]
     },
     "metadata": {},
     "output_type": "display_data"
    },
    {
     "name": "stdout",
     "output_type": "stream",
     "text": [
      "h^2 =>\n"
     ]
    },
    {
     "data": {
      "text/latex": [
       "$\\displaystyle - \\frac{19 \\left(u1_{tt} - u_{ttt}\\right)}{6}$"
      ],
      "text/plain": [
       "-19*(u1_{tt} - u_{ttt})/6"
      ]
     },
     "metadata": {},
     "output_type": "display_data"
    },
    {
     "name": "stdout",
     "output_type": "stream",
     "text": [
      "h^3 =>\n"
     ]
    },
    {
     "data": {
      "text/latex": [
       "$\\displaystyle - \\frac{65 \\left(u1_{ttt} - u_{tttt}\\right)}{24}$"
      ],
      "text/plain": [
       "-65*(u1_{ttt} - u_{tttt})/24"
      ]
     },
     "metadata": {},
     "output_type": "display_data"
    },
    {
     "name": "stdout",
     "output_type": "stream",
     "text": [
      "h^4 =>\n"
     ]
    },
    {
     "data": {
      "text/latex": [
       "$\\displaystyle - \\frac{1285 u1_{tttt} - 1266 u_{ttttt}}{720}$"
      ],
      "text/plain": [
       "-(1285*u1_{tttt} - 1266*u_{ttttt})/720"
      ]
     },
     "metadata": {},
     "output_type": "display_data"
    },
    {
     "name": "stdout",
     "output_type": "stream",
     "text": [
      "h^5 =>\n"
     ]
    },
    {
     "data": {
      "text/latex": [
       "$\\displaystyle - \\frac{279 u1_{ttttt} - 266 u_{tttttt}}{288}$"
      ],
      "text/plain": [
       "-(279*u1_{ttttt} - 266*u_{tttttt})/288"
      ]
     },
     "metadata": {},
     "output_type": "display_data"
    },
    {
     "name": "stdout",
     "output_type": "stream",
     "text": [
      "- u_{1} + u_{t}\n",
      "+h\\left(\n",
      "- \\frac{5 \\left(u1_{t} - u_{tt}\\right)}{2}\n",
      "\\right)\n",
      "+h^2\\left(\n",
      "- \\frac{19 \\left(u1_{tt} - u_{ttt}\\right)}{6}\n",
      "\\right)\n",
      "+h^3\\left(\n",
      "- \\frac{65 \\left(u1_{ttt} - u_{tttt}\\right)}{24}\n",
      "\\right)\n",
      "+h^4\\left(\n",
      "- \\frac{1285 u1_{tttt} - 1266 u_{ttttt}}{720}\n",
      "\\right)\n",
      "+h^5\\left(\n",
      "- \\frac{279 u1_{ttttt} - 266 u_{tttttt}}{288}\n",
      "\\right)\n"
     ]
    }
   ],
   "source": [
    "F1 = clip((T(u(t+3*h))-T(u(t+2*h)))/h - T(m[0]))\n",
    "prn(F1, eps)\n",
    "prnlatex(F1, eps)"
   ]
  },
  {
   "cell_type": "code",
   "execution_count": 66,
   "id": "7959597d",
   "metadata": {},
   "outputs": [
    {
     "name": "stdout",
     "output_type": "stream",
     "text": [
      "h^0 =>\n"
     ]
    },
    {
     "data": {
      "text/latex": [
       "$\\displaystyle \\varepsilon \\left(- u + u_{1}\\right) + u1_{t} + \\frac{u + u_{1}}{\\varepsilon}$"
      ],
      "text/plain": [
       "\\varepsilon*(-u + u1) + u1_{t} + (u + u1)/\\varepsilon"
      ]
     },
     "metadata": {},
     "output_type": "display_data"
    },
    {
     "name": "stdout",
     "output_type": "stream",
     "text": [
      "h^1 =>\n"
     ]
    },
    {
     "data": {
      "text/latex": [
       "$\\displaystyle \\frac{5 \\varepsilon \\left(u1_{t} - u_{t}\\right)}{2} + \\frac{5 u1_{tt}}{2} + \\frac{5 \\left(u1_{t} + u_{t}\\right)}{2 \\varepsilon}$"
      ],
      "text/plain": [
       "5*\\varepsilon*(u1_{t} - u_{t})/2 + 5*u1_{tt}/2 + 5*(u1_{t} + u_{t})/(2*\\varepsilon)"
      ]
     },
     "metadata": {},
     "output_type": "display_data"
    },
    {
     "name": "stdout",
     "output_type": "stream",
     "text": [
      "h^2 =>\n"
     ]
    },
    {
     "data": {
      "text/latex": [
       "$\\displaystyle \\frac{19 \\varepsilon \\left(u1_{tt} - u_{tt}\\right)}{6} + \\frac{19 u1_{ttt}}{6} + \\frac{19 \\left(u1_{tt} + u_{tt}\\right)}{6 \\varepsilon}$"
      ],
      "text/plain": [
       "19*\\varepsilon*(u1_{tt} - u_{tt})/6 + 19*u1_{ttt}/6 + 19*(u1_{tt} + u_{tt})/(6*\\varepsilon)"
      ]
     },
     "metadata": {},
     "output_type": "display_data"
    },
    {
     "name": "stdout",
     "output_type": "stream",
     "text": [
      "h^3 =>\n"
     ]
    },
    {
     "data": {
      "text/latex": [
       "$\\displaystyle \\frac{65 \\varepsilon \\left(u1_{ttt} - u_{ttt}\\right)}{24} + \\frac{65 u1_{tttt}}{24} + \\frac{65 \\left(u1_{ttt} + u_{ttt}\\right)}{24 \\varepsilon}$"
      ],
      "text/plain": [
       "65*\\varepsilon*(u1_{ttt} - u_{ttt})/24 + 65*u1_{tttt}/24 + 65*(u1_{ttt} + u_{ttt})/(24*\\varepsilon)"
      ]
     },
     "metadata": {},
     "output_type": "display_data"
    },
    {
     "name": "stdout",
     "output_type": "stream",
     "text": [
      "h^4 =>\n"
     ]
    },
    {
     "data": {
      "text/latex": [
       "$\\displaystyle \\frac{257 \\varepsilon \\left(u1_{tttt} - u_{tttt}\\right)}{144} + \\frac{211 u1_{ttttt}}{120} + \\frac{257 \\left(u1_{tttt} + u_{tttt}\\right)}{144 \\varepsilon}$"
      ],
      "text/plain": [
       "257*\\varepsilon*(u1_{tttt} - u_{tttt})/144 + 211*u1_{ttttt}/120 + 257*(u1_{tttt} + u_{tttt})/(144*\\varepsilon)"
      ]
     },
     "metadata": {},
     "output_type": "display_data"
    },
    {
     "name": "stdout",
     "output_type": "stream",
     "text": [
      "h^5 =>\n"
     ]
    },
    {
     "data": {
      "text/latex": [
       "$\\displaystyle \\frac{31 \\varepsilon \\left(u1_{ttttt} - u_{ttttt}\\right)}{32} + \\frac{133 u1_{tttttt}}{144} + \\frac{31 \\left(u1_{ttttt} + u_{ttttt}\\right)}{32 \\varepsilon}$"
      ],
      "text/plain": [
       "31*\\varepsilon*(u1_{ttttt} - u_{ttttt})/32 + 133*u1_{tttttt}/144 + 31*(u1_{ttttt} + u_{ttttt})/(32*\\varepsilon)"
      ]
     },
     "metadata": {},
     "output_type": "display_data"
    },
    {
     "name": "stdout",
     "output_type": "stream",
     "text": [
      "\\varepsilon \\left(- u + u_{1}\\right) + u1_{t} + \\frac{u + u_{1}}{\\varepsilon}\n",
      "+h\\left(\n",
      "\\frac{5 \\varepsilon \\left(u1_{t} - u_{t}\\right)}{2} + \\frac{5 u1_{tt}}{2} + \\frac{5 \\left(u1_{t} + u_{t}\\right)}{2 \\varepsilon}\n",
      "\\right)\n",
      "+h^2\\left(\n",
      "\\frac{19 \\varepsilon \\left(u1_{tt} - u_{tt}\\right)}{6} + \\frac{19 u1_{ttt}}{6} + \\frac{19 \\left(u1_{tt} + u_{tt}\\right)}{6 \\varepsilon}\n",
      "\\right)\n",
      "+h^3\\left(\n",
      "\\frac{65 \\varepsilon \\left(u1_{ttt} - u_{ttt}\\right)}{24} + \\frac{65 u1_{tttt}}{24} + \\frac{65 \\left(u1_{ttt} + u_{ttt}\\right)}{24 \\varepsilon}\n",
      "\\right)\n",
      "+h^4\\left(\n",
      "\\frac{257 \\varepsilon \\left(u1_{tttt} - u_{tttt}\\right)}{144} + \\frac{211 u1_{ttttt}}{120} + \\frac{257 \\left(u1_{tttt} + u_{tttt}\\right)}{144 \\varepsilon}\n",
      "\\right)\n",
      "+h^5\\left(\n",
      "\\frac{31 \\varepsilon \\left(u1_{ttttt} - u_{ttttt}\\right)}{32} + \\frac{133 u1_{tttttt}}{144} + \\frac{31 \\left(u1_{ttttt} + u_{ttttt}\\right)}{32 \\varepsilon}\n",
      "\\right)\n"
     ]
    }
   ],
   "source": [
    "F2 = clip((T(u1(t+3*h))-T(u1(t+2*h)))/h - T(m[1]))\n",
    "prn(F2, eps)\n",
    "prnlatex(F2, eps)"
   ]
  },
  {
   "cell_type": "code",
   "execution_count": 67,
   "id": "d13a6444",
   "metadata": {},
   "outputs": [
    {
     "name": "stdout",
     "output_type": "stream",
     "text": [
      "h^0 =>\n"
     ]
    },
    {
     "data": {
      "text/latex": [
       "$\\displaystyle - u_{1} + u_{t}$"
      ],
      "text/plain": [
       "-u1 + u_{t}"
      ]
     },
     "metadata": {},
     "output_type": "display_data"
    },
    {
     "name": "stdout",
     "output_type": "stream",
     "text": [
      "h^1 =>\n"
     ]
    },
    {
     "data": {
      "text/latex": [
       "$\\displaystyle 0$"
      ],
      "text/plain": [
       "0"
      ]
     },
     "metadata": {},
     "output_type": "display_data"
    },
    {
     "name": "stdout",
     "output_type": "stream",
     "text": [
      "h^2 =>\n"
     ]
    },
    {
     "data": {
      "text/latex": [
       "$\\displaystyle 0$"
      ],
      "text/plain": [
       "0"
      ]
     },
     "metadata": {},
     "output_type": "display_data"
    },
    {
     "name": "stdout",
     "output_type": "stream",
     "text": [
      "h^3 =>\n"
     ]
    },
    {
     "data": {
      "text/latex": [
       "$\\displaystyle 0$"
      ],
      "text/plain": [
       "0"
      ]
     },
     "metadata": {},
     "output_type": "display_data"
    },
    {
     "name": "stdout",
     "output_type": "stream",
     "text": [
      "h^4 =>\n"
     ]
    },
    {
     "data": {
      "text/latex": [
       "$\\displaystyle \\frac{19 \\varepsilon^{4} \\left(u - u_{1}\\right)}{720} + \\frac{19 \\varepsilon^{3} \\left(2 u - 3 u_{1}\\right)}{720} + \\frac{19 \\varepsilon^{2} \\left(2 u - 5 u_{1}\\right)}{720} - \\frac{19 \\varepsilon \\left(2 u + 3 u_{1}\\right)}{720} - \\frac{19 u_{1}}{180} - \\frac{19 \\left(2 u - 3 u_{1}\\right)}{720 \\varepsilon} - \\frac{19 \\left(2 u + 5 u_{1}\\right)}{720 \\varepsilon^{2}} + \\frac{19 \\left(2 u + 3 u_{1}\\right)}{720 \\varepsilon^{3}} - \\frac{19 \\left(u + u_{1}\\right)}{720 \\varepsilon^{4}}$"
      ],
      "text/plain": [
       "19*\\varepsilon**4*(u - u1)/720 + 19*\\varepsilon**3*(2*u - 3*u1)/720 + 19*\\varepsilon**2*(2*u - 5*u1)/720 - 19*\\varepsilon*(2*u + 3*u1)/720 - 19*u1/180 - 19*(2*u - 3*u1)/(720*\\varepsilon) - 19*(2*u + 5*u1)/(720*\\varepsilon**2) + 19*(2*u + 3*u1)/(720*\\varepsilon**3) - 19*(u + u1)/(720*\\varepsilon**4)"
      ]
     },
     "metadata": {},
     "output_type": "display_data"
    },
    {
     "name": "stdout",
     "output_type": "stream",
     "text": [
      "h^5 =>\n"
     ]
    },
    {
     "data": {
      "text/latex": [
       "$\\displaystyle \\frac{\\varepsilon^{5} \\left(u - u_{1}\\right)}{48} + \\frac{\\varepsilon^{4} \\left(3 u - 4 u_{1}\\right)}{48} + \\frac{\\varepsilon^{3} \\left(u - 2 u_{1}\\right)}{12} - \\frac{\\varepsilon^{2} u_{1}}{6} - \\frac{\\varepsilon \\left(u + 7 u_{1}\\right)}{48} - \\frac{u}{8} + \\frac{u - 7 u_{1}}{48 \\varepsilon} + \\frac{u_{1}}{6 \\varepsilon^{2}} - \\frac{u + 2 u_{1}}{12 \\varepsilon^{3}} + \\frac{3 u + 4 u_{1}}{48 \\varepsilon^{4}} - \\frac{u + u_{1}}{48 \\varepsilon^{5}}$"
      ],
      "text/plain": [
       "\\varepsilon**5*(u - u1)/48 + \\varepsilon**4*(3*u - 4*u1)/48 + \\varepsilon**3*(u - 2*u1)/12 - \\varepsilon**2*u1/6 - \\varepsilon*(u + 7*u1)/48 - u/8 + (u - 7*u1)/(48*\\varepsilon) + u1/(6*\\varepsilon**2) - (u + 2*u1)/(12*\\varepsilon**3) + (3*u + 4*u1)/(48*\\varepsilon**4) - (u + u1)/(48*\\varepsilon**5)"
      ]
     },
     "metadata": {},
     "output_type": "display_data"
    },
    {
     "name": "stdout",
     "output_type": "stream",
     "text": [
      "- u_{1} + u_{t}\n",
      "+h\\left(\n",
      "0\n",
      "\\right)\n",
      "+h^2\\left(\n",
      "0\n",
      "\\right)\n",
      "+h^3\\left(\n",
      "0\n",
      "\\right)\n",
      "+h^4\\left(\n",
      "\\frac{19 \\varepsilon^{4} \\left(u - u_{1}\\right)}{720} + \\frac{19 \\varepsilon^{3} \\left(2 u - 3 u_{1}\\right)}{720} + \\frac{19 \\varepsilon^{2} \\left(2 u - 5 u_{1}\\right)}{720} - \\frac{19 \\varepsilon \\left(2 u + 3 u_{1}\\right)}{720} - \\frac{19 u_{1}}{180} - \\frac{19 \\left(2 u - 3 u_{1}\\right)}{720 \\varepsilon} - \\frac{19 \\left(2 u + 5 u_{1}\\right)}{720 \\varepsilon^{2}} + \\frac{19 \\left(2 u + 3 u_{1}\\right)}{720 \\varepsilon^{3}} - \\frac{19 \\left(u + u_{1}\\right)}{720 \\varepsilon^{4}}\n",
      "\\right)\n",
      "+h^5\\left(\n",
      "\\frac{\\varepsilon^{5} \\left(u - u_{1}\\right)}{48} + \\frac{\\varepsilon^{4} \\left(3 u - 4 u_{1}\\right)}{48} + \\frac{\\varepsilon^{3} \\left(u - 2 u_{1}\\right)}{12} - \\frac{\\varepsilon^{2} u_{1}}{6} - \\frac{\\varepsilon \\left(u + 7 u_{1}\\right)}{48} - \\frac{u}{8} + \\frac{u - 7 u_{1}}{48 \\varepsilon} + \\frac{u_{1}}{6 \\varepsilon^{2}} - \\frac{u + 2 u_{1}}{12 \\varepsilon^{3}} + \\frac{3 u + 4 u_{1}}{48 \\varepsilon^{4}} - \\frac{u + u_{1}}{48 \\varepsilon^{5}}\n",
      "\\right)\n"
     ]
    }
   ],
   "source": [
    "f1 = NF(F1, [u(t).diff(t), u1(t).diff(t)], [F1, F2], head=False)\n",
    "prn(f1, eps)\n",
    "prnlatex(f1, eps)"
   ]
  },
  {
   "cell_type": "code",
   "execution_count": 68,
   "id": "fbcfcbf2",
   "metadata": {},
   "outputs": [
    {
     "name": "stdout",
     "output_type": "stream",
     "text": [
      "h^0 =>\n"
     ]
    },
    {
     "data": {
      "text/latex": [
       "$\\displaystyle \\varepsilon \\left(- u + u_{1}\\right) + u1_{t} + \\frac{u + u_{1}}{\\varepsilon}$"
      ],
      "text/plain": [
       "\\varepsilon*(-u + u1) + u1_{t} + (u + u1)/\\varepsilon"
      ]
     },
     "metadata": {},
     "output_type": "display_data"
    },
    {
     "name": "stdout",
     "output_type": "stream",
     "text": [
      "h^1 =>\n"
     ]
    },
    {
     "data": {
      "text/latex": [
       "$\\displaystyle 0$"
      ],
      "text/plain": [
       "0"
      ]
     },
     "metadata": {},
     "output_type": "display_data"
    },
    {
     "name": "stdout",
     "output_type": "stream",
     "text": [
      "h^2 =>\n"
     ]
    },
    {
     "data": {
      "text/latex": [
       "$\\displaystyle 0$"
      ],
      "text/plain": [
       "0"
      ]
     },
     "metadata": {},
     "output_type": "display_data"
    },
    {
     "name": "stdout",
     "output_type": "stream",
     "text": [
      "h^3 =>\n"
     ]
    },
    {
     "data": {
      "text/latex": [
       "$\\displaystyle 0$"
      ],
      "text/plain": [
       "0"
      ]
     },
     "metadata": {},
     "output_type": "display_data"
    },
    {
     "name": "stdout",
     "output_type": "stream",
     "text": [
      "h^4 =>\n"
     ]
    },
    {
     "data": {
      "text/latex": [
       "$\\displaystyle - \\frac{19 \\varepsilon^{5} \\left(u - u_{1}\\right)}{720} - \\frac{19 \\varepsilon^{4} \\left(3 u - 4 u_{1}\\right)}{720} - \\frac{19 \\varepsilon^{3} \\left(u - 2 u_{1}\\right)}{180} + \\frac{19 \\varepsilon^{2} u_{1}}{90} + \\frac{19 \\varepsilon \\left(u + 7 u_{1}\\right)}{720} + \\frac{19 u}{120} - \\frac{19 \\left(u - 7 u_{1}\\right)}{720 \\varepsilon} - \\frac{19 u_{1}}{90 \\varepsilon^{2}} + \\frac{19 \\left(u + 2 u_{1}\\right)}{180 \\varepsilon^{3}} - \\frac{19 \\left(3 u + 4 u_{1}\\right)}{720 \\varepsilon^{4}} + \\frac{19 \\left(u + u_{1}\\right)}{720 \\varepsilon^{5}}$"
      ],
      "text/plain": [
       "-19*\\varepsilon**5*(u - u1)/720 - 19*\\varepsilon**4*(3*u - 4*u1)/720 - 19*\\varepsilon**3*(u - 2*u1)/180 + 19*\\varepsilon**2*u1/90 + 19*\\varepsilon*(u + 7*u1)/720 + 19*u/120 - 19*(u - 7*u1)/(720*\\varepsilon) - 19*u1/(90*\\varepsilon**2) + 19*(u + 2*u1)/(180*\\varepsilon**3) - 19*(3*u + 4*u1)/(720*\\varepsilon**4) + 19*(u + u1)/(720*\\varepsilon**5)"
      ]
     },
     "metadata": {},
     "output_type": "display_data"
    },
    {
     "name": "stdout",
     "output_type": "stream",
     "text": [
      "h^5 =>\n"
     ]
    },
    {
     "data": {
      "text/latex": [
       "$\\displaystyle - \\frac{\\varepsilon^{6} \\left(u - u_{1}\\right)}{48} - \\frac{\\varepsilon^{5} \\left(4 u - 5 u_{1}\\right)}{48} - \\frac{\\varepsilon^{4} \\left(7 u - 12 u_{1}\\right)}{48} - \\frac{\\varepsilon^{3} \\left(u - 4 u_{1}\\right)}{12} + \\frac{\\varepsilon^{2} \\left(u + 15 u_{1}\\right)}{48} + \\frac{\\varepsilon \\left(8 u + 7 u_{1}\\right)}{48} + \\frac{u_{1}}{6} + \\frac{8 u - 7 u_{1}}{48 \\varepsilon} - \\frac{u - 15 u_{1}}{48 \\varepsilon^{2}} - \\frac{u + 4 u_{1}}{12 \\varepsilon^{3}} + \\frac{7 u + 12 u_{1}}{48 \\varepsilon^{4}} - \\frac{4 u + 5 u_{1}}{48 \\varepsilon^{5}} + \\frac{u + u_{1}}{48 \\varepsilon^{6}}$"
      ],
      "text/plain": [
       "-\\varepsilon**6*(u - u1)/48 - \\varepsilon**5*(4*u - 5*u1)/48 - \\varepsilon**4*(7*u - 12*u1)/48 - \\varepsilon**3*(u - 4*u1)/12 + \\varepsilon**2*(u + 15*u1)/48 + \\varepsilon*(8*u + 7*u1)/48 + u1/6 + (8*u - 7*u1)/(48*\\varepsilon) - (u - 15*u1)/(48*\\varepsilon**2) - (u + 4*u1)/(12*\\varepsilon**3) + (7*u + 12*u1)/(48*\\varepsilon**4) - (4*u + 5*u1)/(48*\\varepsilon**5) + (u + u1)/(48*\\varepsilon**6)"
      ]
     },
     "metadata": {},
     "output_type": "display_data"
    },
    {
     "name": "stdout",
     "output_type": "stream",
     "text": [
      "\\varepsilon \\left(- u + u_{1}\\right) + u1_{t} + \\frac{u + u_{1}}{\\varepsilon}\n",
      "+h\\left(\n",
      "0\n",
      "\\right)\n",
      "+h^2\\left(\n",
      "0\n",
      "\\right)\n",
      "+h^3\\left(\n",
      "0\n",
      "\\right)\n",
      "+h^4\\left(\n",
      "- \\frac{19 \\varepsilon^{5} \\left(u - u_{1}\\right)}{720} - \\frac{19 \\varepsilon^{4} \\left(3 u - 4 u_{1}\\right)}{720} - \\frac{19 \\varepsilon^{3} \\left(u - 2 u_{1}\\right)}{180} + \\frac{19 \\varepsilon^{2} u_{1}}{90} + \\frac{19 \\varepsilon \\left(u + 7 u_{1}\\right)}{720} + \\frac{19 u}{120} - \\frac{19 \\left(u - 7 u_{1}\\right)}{720 \\varepsilon} - \\frac{19 u_{1}}{90 \\varepsilon^{2}} + \\frac{19 \\left(u + 2 u_{1}\\right)}{180 \\varepsilon^{3}} - \\frac{19 \\left(3 u + 4 u_{1}\\right)}{720 \\varepsilon^{4}} + \\frac{19 \\left(u + u_{1}\\right)}{720 \\varepsilon^{5}}\n",
      "\\right)\n",
      "+h^5\\left(\n",
      "- \\frac{\\varepsilon^{6} \\left(u - u_{1}\\right)}{48} - \\frac{\\varepsilon^{5} \\left(4 u - 5 u_{1}\\right)}{48} - \\frac{\\varepsilon^{4} \\left(7 u - 12 u_{1}\\right)}{48} - \\frac{\\varepsilon^{3} \\left(u - 4 u_{1}\\right)}{12} + \\frac{\\varepsilon^{2} \\left(u + 15 u_{1}\\right)}{48} + \\frac{\\varepsilon \\left(8 u + 7 u_{1}\\right)}{48} + \\frac{u_{1}}{6} + \\frac{8 u - 7 u_{1}}{48 \\varepsilon} - \\frac{u - 15 u_{1}}{48 \\varepsilon^{2}} - \\frac{u + 4 u_{1}}{12 \\varepsilon^{3}} + \\frac{7 u + 12 u_{1}}{48 \\varepsilon^{4}} - \\frac{4 u + 5 u_{1}}{48 \\varepsilon^{5}} + \\frac{u + u_{1}}{48 \\varepsilon^{6}}\n",
      "\\right)\n"
     ]
    }
   ],
   "source": [
    "f2 = NF(F2, [u(t).diff(t), u1(t).diff(t)], [F1, F2], head=False)\n",
    "prn(f2, eps)\n",
    "prnlatex(f2, eps)"
   ]
  },
  {
   "cell_type": "code",
   "execution_count": 69,
   "id": "2268c729",
   "metadata": {},
   "outputs": [
    {
     "data": {
      "text/latex": [
       "$\\displaystyle \\frac{19 \\left(- \\varepsilon^{10} e^{\\frac{t}{\\varepsilon}} - 5 \\varepsilon^{9} e^{\\frac{t}{\\varepsilon}} - 10 \\varepsilon^{8} e^{\\frac{t}{\\varepsilon}} - 10 \\varepsilon^{7} e^{\\frac{t}{\\varepsilon}} - 5 \\varepsilon^{6} e^{\\frac{t}{\\varepsilon}} - \\varepsilon^{5} e^{\\frac{t}{\\varepsilon}} - \\varepsilon^{5} e^{t \\left(\\varepsilon + 2\\right)} + 5 \\varepsilon^{4} e^{t \\left(\\varepsilon + 2\\right)} - 10 \\varepsilon^{3} e^{t \\left(\\varepsilon + 2\\right)} + 10 \\varepsilon^{2} e^{t \\left(\\varepsilon + 2\\right)} - 5 \\varepsilon e^{t \\left(\\varepsilon + 2\\right)} + e^{t \\left(\\varepsilon + 2\\right)}\\right) e^{- \\varepsilon t + \\varepsilon - t + 1 - \\frac{t}{\\varepsilon} + \\frac{1}{\\varepsilon}}}{720 \\varepsilon^{5} \\left(- e^{\\frac{1}{\\varepsilon}} + e^{\\varepsilon + 2}\\right)}$"
      ],
      "text/plain": [
       "19*(-\\varepsilon**10*exp(t/\\varepsilon) - 5*\\varepsilon**9*exp(t/\\varepsilon) - 10*\\varepsilon**8*exp(t/\\varepsilon) - 10*\\varepsilon**7*exp(t/\\varepsilon) - 5*\\varepsilon**6*exp(t/\\varepsilon) - \\varepsilon**5*exp(t/\\varepsilon) - \\varepsilon**5*exp(t*(\\varepsilon + 2)) + 5*\\varepsilon**4*exp(t*(\\varepsilon + 2)) - 10*\\varepsilon**3*exp(t*(\\varepsilon + 2)) + 10*\\varepsilon**2*exp(t*(\\varepsilon + 2)) - 5*\\varepsilon*exp(t*(\\varepsilon + 2)) + exp(t*(\\varepsilon + 2)))*exp(-\\varepsilon*t + \\varepsilon - t + 1 - t/\\varepsilon + 1/\\varepsilon)/(720*\\varepsilon**5*(-exp(1/\\varepsilon) + exp(\\varepsilon + 2)))"
      ]
     },
     "execution_count": 69,
     "metadata": {},
     "output_type": "execute_result"
    }
   ],
   "source": [
    "f1[4].subs(sol).expand().simplify()"
   ]
  },
  {
   "cell_type": "code",
   "execution_count": 70,
   "id": "f95d22ee",
   "metadata": {},
   "outputs": [
    {
     "data": {
      "text/latex": [
       "$\\displaystyle \\frac{19 \\left(\\varepsilon^{12} e^{\\frac{t}{\\varepsilon}} + 6 \\varepsilon^{11} e^{\\frac{t}{\\varepsilon}} + 15 \\varepsilon^{10} e^{\\frac{t}{\\varepsilon}} + 20 \\varepsilon^{9} e^{\\frac{t}{\\varepsilon}} + 15 \\varepsilon^{8} e^{\\frac{t}{\\varepsilon}} + 6 \\varepsilon^{7} e^{\\frac{t}{\\varepsilon}} + \\varepsilon^{6} e^{\\frac{t}{\\varepsilon}} - \\varepsilon^{6} e^{t \\left(\\varepsilon + 2\\right)} + 6 \\varepsilon^{5} e^{t \\left(\\varepsilon + 2\\right)} - 15 \\varepsilon^{4} e^{t \\left(\\varepsilon + 2\\right)} + 20 \\varepsilon^{3} e^{t \\left(\\varepsilon + 2\\right)} - 15 \\varepsilon^{2} e^{t \\left(\\varepsilon + 2\\right)} + 6 \\varepsilon e^{t \\left(\\varepsilon + 2\\right)} - e^{t \\left(\\varepsilon + 2\\right)}\\right) e^{- \\varepsilon t + \\varepsilon - t + 1 - \\frac{t}{\\varepsilon} + \\frac{1}{\\varepsilon}}}{720 \\varepsilon^{6} \\left(- e^{\\frac{1}{\\varepsilon}} + e^{\\varepsilon + 2}\\right)}$"
      ],
      "text/plain": [
       "19*(\\varepsilon**12*exp(t/\\varepsilon) + 6*\\varepsilon**11*exp(t/\\varepsilon) + 15*\\varepsilon**10*exp(t/\\varepsilon) + 20*\\varepsilon**9*exp(t/\\varepsilon) + 15*\\varepsilon**8*exp(t/\\varepsilon) + 6*\\varepsilon**7*exp(t/\\varepsilon) + \\varepsilon**6*exp(t/\\varepsilon) - \\varepsilon**6*exp(t*(\\varepsilon + 2)) + 6*\\varepsilon**5*exp(t*(\\varepsilon + 2)) - 15*\\varepsilon**4*exp(t*(\\varepsilon + 2)) + 20*\\varepsilon**3*exp(t*(\\varepsilon + 2)) - 15*\\varepsilon**2*exp(t*(\\varepsilon + 2)) + 6*\\varepsilon*exp(t*(\\varepsilon + 2)) - exp(t*(\\varepsilon + 2)))*exp(-\\varepsilon*t + \\varepsilon - t + 1 - t/\\varepsilon + 1/\\varepsilon)/(720*\\varepsilon**6*(-exp(1/\\varepsilon) + exp(\\varepsilon + 2)))"
      ]
     },
     "execution_count": 70,
     "metadata": {},
     "output_type": "execute_result"
    }
   ],
   "source": [
    "f2[4].subs(sol).expand().simplify()"
   ]
  },
  {
   "cell_type": "code",
   "execution_count": 71,
   "id": "9d083c9e",
   "metadata": {},
   "outputs": [
    {
     "name": "stdout",
     "output_type": "stream",
     "text": [
      "\\frac{19 \\left(\\varepsilon^{12} e^{\\frac{t}{\\varepsilon}} + 6 \\varepsilon^{11} e^{\\frac{t}{\\varepsilon}} + 15 \\varepsilon^{10} e^{\\frac{t}{\\varepsilon}} + 20 \\varepsilon^{9} e^{\\frac{t}{\\varepsilon}} + 15 \\varepsilon^{8} e^{\\frac{t}{\\varepsilon}} + 6 \\varepsilon^{7} e^{\\frac{t}{\\varepsilon}} + \\varepsilon^{6} e^{\\frac{t}{\\varepsilon}} - \\varepsilon^{6} e^{t \\left(\\varepsilon + 2\\right)} + 6 \\varepsilon^{5} e^{t \\left(\\varepsilon + 2\\right)} - 15 \\varepsilon^{4} e^{t \\left(\\varepsilon + 2\\right)} + 20 \\varepsilon^{3} e^{t \\left(\\varepsilon + 2\\right)} - 15 \\varepsilon^{2} e^{t \\left(\\varepsilon + 2\\right)} + 6 \\varepsilon e^{t \\left(\\varepsilon + 2\\right)} - e^{t \\left(\\varepsilon + 2\\right)}\\right) e^{- \\varepsilon t + \\varepsilon - t + 1 - \\frac{t}{\\varepsilon} + \\frac{1}{\\varepsilon}}}{720 \\varepsilon^{6} \\left(- e^{\\frac{1}{\\varepsilon}} + e^{\\varepsilon + 2}\\right)}\n"
     ]
    }
   ],
   "source": [
    "print(latex(f2[4].subs(sol).expand().simplify()))"
   ]
  },
  {
   "cell_type": "markdown",
   "id": "b49c0712",
   "metadata": {
    "collapsed": true
   },
   "source": [
    "### Adams–Bashforth method 5 order"
   ]
  },
  {
   "cell_type": "code",
   "execution_count": 72,
   "id": "d2d13555",
   "metadata": {},
   "outputs": [],
   "source": [
    "set_clip(8, 7, Rational(0, 1))\n",
    "m = AdamsBashforth5(g, Matrix([u(t), u1(t)]))"
   ]
  },
  {
   "cell_type": "code",
   "execution_count": 73,
   "id": "1a96de0f",
   "metadata": {},
   "outputs": [
    {
     "name": "stdout",
     "output_type": "stream",
     "text": [
      "h^0 =>\n"
     ]
    },
    {
     "data": {
      "text/latex": [
       "$\\displaystyle - u_{1} + u_{t}$"
      ],
      "text/plain": [
       "-u1 + u_{t}"
      ]
     },
     "metadata": {},
     "output_type": "display_data"
    },
    {
     "name": "stdout",
     "output_type": "stream",
     "text": [
      "h^1 =>\n"
     ]
    },
    {
     "data": {
      "text/latex": [
       "$\\displaystyle - \\frac{9 \\left(u1_{t} - u_{tt}\\right)}{2}$"
      ],
      "text/plain": [
       "-9*(u1_{t} - u_{tt})/2"
      ]
     },
     "metadata": {},
     "output_type": "display_data"
    },
    {
     "name": "stdout",
     "output_type": "stream",
     "text": [
      "h^2 =>\n"
     ]
    },
    {
     "data": {
      "text/latex": [
       "$\\displaystyle - \\frac{61 \\left(u1_{tt} - u_{ttt}\\right)}{6}$"
      ],
      "text/plain": [
       "-61*(u1_{tt} - u_{ttt})/6"
      ]
     },
     "metadata": {},
     "output_type": "display_data"
    },
    {
     "name": "stdout",
     "output_type": "stream",
     "text": [
      "h^3 =>\n"
     ]
    },
    {
     "data": {
      "text/latex": [
       "$\\displaystyle - \\frac{123 \\left(u1_{ttt} - u_{tttt}\\right)}{8}$"
      ],
      "text/plain": [
       "-123*(u1_{ttt} - u_{tttt})/8"
      ]
     },
     "metadata": {},
     "output_type": "display_data"
    },
    {
     "name": "stdout",
     "output_type": "stream",
     "text": [
      "h^4 =>\n"
     ]
    },
    {
     "data": {
      "text/latex": [
       "$\\displaystyle - \\frac{2101 \\left(u1_{tttt} - u_{ttttt}\\right)}{120}$"
      ],
      "text/plain": [
       "-2101*(u1_{tttt} - u_{ttttt})/120"
      ]
     },
     "metadata": {},
     "output_type": "display_data"
    },
    {
     "name": "stdout",
     "output_type": "stream",
     "text": [
      "h^5 =>\n"
     ]
    },
    {
     "data": {
      "text/latex": [
       "$\\displaystyle - \\frac{22583 u1_{ttttt} - 23058 u_{tttttt}}{1440}$"
      ],
      "text/plain": [
       "-(22583*u1_{ttttt} - 23058*u_{tttttt})/1440"
      ]
     },
     "metadata": {},
     "output_type": "display_data"
    },
    {
     "name": "stdout",
     "output_type": "stream",
     "text": [
      "h^6 =>\n"
     ]
    },
    {
     "data": {
      "text/latex": [
       "$\\displaystyle - \\frac{172970 u1_{tttttt} - 185223 u_{ttttttt}}{15120}$"
      ],
      "text/plain": [
       "-(172970*u1_{tttttt} - 185223*u_{ttttttt})/15120"
      ]
     },
     "metadata": {},
     "output_type": "display_data"
    },
    {
     "name": "stdout",
     "output_type": "stream",
     "text": [
      "- u_{1} + u_{t}\n",
      "+h\\left(\n",
      "- \\frac{9 \\left(u1_{t} - u_{tt}\\right)}{2}\n",
      "\\right)\n",
      "+h^2\\left(\n",
      "- \\frac{61 \\left(u1_{tt} - u_{ttt}\\right)}{6}\n",
      "\\right)\n",
      "+h^3\\left(\n",
      "- \\frac{123 \\left(u1_{ttt} - u_{tttt}\\right)}{8}\n",
      "\\right)\n",
      "+h^4\\left(\n",
      "- \\frac{2101 \\left(u1_{tttt} - u_{ttttt}\\right)}{120}\n",
      "\\right)\n",
      "+h^5\\left(\n",
      "- \\frac{22583 u1_{ttttt} - 23058 u_{tttttt}}{1440}\n",
      "\\right)\n",
      "+h^6\\left(\n",
      "- \\frac{172970 u1_{tttttt} - 185223 u_{ttttttt}}{15120}\n",
      "\\right)\n"
     ]
    }
   ],
   "source": [
    "F1 = clip((T(u(t+5*h))-T(u(t+4*h)))/h - T(m[0]))\n",
    "prn(F1, eps)\n",
    "prnlatex(F1, eps)"
   ]
  },
  {
   "cell_type": "code",
   "execution_count": 74,
   "id": "facb2330",
   "metadata": {},
   "outputs": [
    {
     "name": "stdout",
     "output_type": "stream",
     "text": [
      "h^0 =>\n"
     ]
    },
    {
     "data": {
      "text/latex": [
       "$\\displaystyle \\varepsilon \\left(- u + u_{1}\\right) + u1_{t} + \\frac{u + u_{1}}{\\varepsilon}$"
      ],
      "text/plain": [
       "\\varepsilon*(-u + u1) + u1_{t} + (u + u1)/\\varepsilon"
      ]
     },
     "metadata": {},
     "output_type": "display_data"
    },
    {
     "name": "stdout",
     "output_type": "stream",
     "text": [
      "h^1 =>\n"
     ]
    },
    {
     "data": {
      "text/latex": [
       "$\\displaystyle \\frac{9 \\varepsilon \\left(u1_{t} - u_{t}\\right)}{2} + \\frac{9 u1_{tt}}{2} + \\frac{9 \\left(u1_{t} + u_{t}\\right)}{2 \\varepsilon}$"
      ],
      "text/plain": [
       "9*\\varepsilon*(u1_{t} - u_{t})/2 + 9*u1_{tt}/2 + 9*(u1_{t} + u_{t})/(2*\\varepsilon)"
      ]
     },
     "metadata": {},
     "output_type": "display_data"
    },
    {
     "name": "stdout",
     "output_type": "stream",
     "text": [
      "h^2 =>\n"
     ]
    },
    {
     "data": {
      "text/latex": [
       "$\\displaystyle \\frac{61 \\varepsilon \\left(u1_{tt} - u_{tt}\\right)}{6} + \\frac{61 u1_{ttt}}{6} + \\frac{61 \\left(u1_{tt} + u_{tt}\\right)}{6 \\varepsilon}$"
      ],
      "text/plain": [
       "61*\\varepsilon*(u1_{tt} - u_{tt})/6 + 61*u1_{ttt}/6 + 61*(u1_{tt} + u_{tt})/(6*\\varepsilon)"
      ]
     },
     "metadata": {},
     "output_type": "display_data"
    },
    {
     "name": "stdout",
     "output_type": "stream",
     "text": [
      "h^3 =>\n"
     ]
    },
    {
     "data": {
      "text/latex": [
       "$\\displaystyle \\frac{123 \\varepsilon \\left(u1_{ttt} - u_{ttt}\\right)}{8} + \\frac{123 u1_{tttt}}{8} + \\frac{123 \\left(u1_{ttt} + u_{ttt}\\right)}{8 \\varepsilon}$"
      ],
      "text/plain": [
       "123*\\varepsilon*(u1_{ttt} - u_{ttt})/8 + 123*u1_{tttt}/8 + 123*(u1_{ttt} + u_{ttt})/(8*\\varepsilon)"
      ]
     },
     "metadata": {},
     "output_type": "display_data"
    },
    {
     "name": "stdout",
     "output_type": "stream",
     "text": [
      "h^4 =>\n"
     ]
    },
    {
     "data": {
      "text/latex": [
       "$\\displaystyle \\frac{2101 \\varepsilon \\left(u1_{tttt} - u_{tttt}\\right)}{120} + \\frac{2101 u1_{ttttt}}{120} + \\frac{2101 \\left(u1_{tttt} + u_{tttt}\\right)}{120 \\varepsilon}$"
      ],
      "text/plain": [
       "2101*\\varepsilon*(u1_{tttt} - u_{tttt})/120 + 2101*u1_{ttttt}/120 + 2101*(u1_{tttt} + u_{tttt})/(120*\\varepsilon)"
      ]
     },
     "metadata": {},
     "output_type": "display_data"
    },
    {
     "name": "stdout",
     "output_type": "stream",
     "text": [
      "h^5 =>\n"
     ]
    },
    {
     "data": {
      "text/latex": [
       "$\\displaystyle \\frac{22583 \\varepsilon \\left(u1_{ttttt} - u_{ttttt}\\right)}{1440} + \\frac{1281 u1_{tttttt}}{80} + \\frac{22583 \\left(u1_{ttttt} + u_{ttttt}\\right)}{1440 \\varepsilon}$"
      ],
      "text/plain": [
       "22583*\\varepsilon*(u1_{ttttt} - u_{ttttt})/1440 + 1281*u1_{tttttt}/80 + 22583*(u1_{ttttt} + u_{ttttt})/(1440*\\varepsilon)"
      ]
     },
     "metadata": {},
     "output_type": "display_data"
    },
    {
     "name": "stdout",
     "output_type": "stream",
     "text": [
      "h^6 =>\n"
     ]
    },
    {
     "data": {
      "text/latex": [
       "$\\displaystyle \\frac{2471 \\varepsilon \\left(u1_{tttttt} - u_{tttttt}\\right)}{216} + \\frac{61741 u1_{ttttttt}}{5040} + \\frac{2471 \\left(u1_{tttttt} + u_{tttttt}\\right)}{216 \\varepsilon}$"
      ],
      "text/plain": [
       "2471*\\varepsilon*(u1_{tttttt} - u_{tttttt})/216 + 61741*u1_{ttttttt}/5040 + 2471*(u1_{tttttt} + u_{tttttt})/(216*\\varepsilon)"
      ]
     },
     "metadata": {},
     "output_type": "display_data"
    },
    {
     "name": "stdout",
     "output_type": "stream",
     "text": [
      "\\varepsilon \\left(- u + u_{1}\\right) + u1_{t} + \\frac{u + u_{1}}{\\varepsilon}\n",
      "+h\\left(\n",
      "\\frac{9 \\varepsilon \\left(u1_{t} - u_{t}\\right)}{2} + \\frac{9 u1_{tt}}{2} + \\frac{9 \\left(u1_{t} + u_{t}\\right)}{2 \\varepsilon}\n",
      "\\right)\n",
      "+h^2\\left(\n",
      "\\frac{61 \\varepsilon \\left(u1_{tt} - u_{tt}\\right)}{6} + \\frac{61 u1_{ttt}}{6} + \\frac{61 \\left(u1_{tt} + u_{tt}\\right)}{6 \\varepsilon}\n",
      "\\right)\n",
      "+h^3\\left(\n",
      "\\frac{123 \\varepsilon \\left(u1_{ttt} - u_{ttt}\\right)}{8} + \\frac{123 u1_{tttt}}{8} + \\frac{123 \\left(u1_{ttt} + u_{ttt}\\right)}{8 \\varepsilon}\n",
      "\\right)\n",
      "+h^4\\left(\n",
      "\\frac{2101 \\varepsilon \\left(u1_{tttt} - u_{tttt}\\right)}{120} + \\frac{2101 u1_{ttttt}}{120} + \\frac{2101 \\left(u1_{tttt} + u_{tttt}\\right)}{120 \\varepsilon}\n",
      "\\right)\n",
      "+h^5\\left(\n",
      "\\frac{22583 \\varepsilon \\left(u1_{ttttt} - u_{ttttt}\\right)}{1440} + \\frac{1281 u1_{tttttt}}{80} + \\frac{22583 \\left(u1_{ttttt} + u_{ttttt}\\right)}{1440 \\varepsilon}\n",
      "\\right)\n",
      "+h^6\\left(\n",
      "\\frac{2471 \\varepsilon \\left(u1_{tttttt} - u_{tttttt}\\right)}{216} + \\frac{61741 u1_{ttttttt}}{5040} + \\frac{2471 \\left(u1_{tttttt} + u_{tttttt}\\right)}{216 \\varepsilon}\n",
      "\\right)\n"
     ]
    }
   ],
   "source": [
    "F2 = clip((T(u1(t+5*h))-T(u1(t+4*h)))/h - T(m[1]))\n",
    "prn(F2, eps)\n",
    "prnlatex(F2, eps)"
   ]
  },
  {
   "cell_type": "code",
   "execution_count": 75,
   "id": "722330d1",
   "metadata": {},
   "outputs": [
    {
     "name": "stdout",
     "output_type": "stream",
     "text": [
      "h^0 =>\n"
     ]
    },
    {
     "data": {
      "text/latex": [
       "$\\displaystyle - u_{1} + u_{t}$"
      ],
      "text/plain": [
       "-u1 + u_{t}"
      ]
     },
     "metadata": {},
     "output_type": "display_data"
    },
    {
     "name": "stdout",
     "output_type": "stream",
     "text": [
      "h^1 =>\n"
     ]
    },
    {
     "data": {
      "text/latex": [
       "$\\displaystyle 0$"
      ],
      "text/plain": [
       "0"
      ]
     },
     "metadata": {},
     "output_type": "display_data"
    },
    {
     "name": "stdout",
     "output_type": "stream",
     "text": [
      "h^2 =>\n"
     ]
    },
    {
     "data": {
      "text/latex": [
       "$\\displaystyle 0$"
      ],
      "text/plain": [
       "0"
      ]
     },
     "metadata": {},
     "output_type": "display_data"
    },
    {
     "name": "stdout",
     "output_type": "stream",
     "text": [
      "h^3 =>\n"
     ]
    },
    {
     "data": {
      "text/latex": [
       "$\\displaystyle 0$"
      ],
      "text/plain": [
       "0"
      ]
     },
     "metadata": {},
     "output_type": "display_data"
    },
    {
     "name": "stdout",
     "output_type": "stream",
     "text": [
      "h^4 =>\n"
     ]
    },
    {
     "data": {
      "text/latex": [
       "$\\displaystyle 0$"
      ],
      "text/plain": [
       "0"
      ]
     },
     "metadata": {},
     "output_type": "display_data"
    },
    {
     "name": "stdout",
     "output_type": "stream",
     "text": [
      "h^5 =>\n"
     ]
    },
    {
     "data": {
      "text/latex": [
       "$\\displaystyle \\frac{95 \\varepsilon^{5} \\left(u - u_{1}\\right)}{288} + \\frac{95 \\varepsilon^{4} \\left(3 u - 4 u_{1}\\right)}{288} + \\frac{95 \\varepsilon^{3} \\left(u - 2 u_{1}\\right)}{72} - \\frac{95 \\varepsilon^{2} u_{1}}{36} - \\frac{95 \\varepsilon \\left(u + 7 u_{1}\\right)}{288} - \\frac{95 u}{48} + \\frac{95 \\left(u - 7 u_{1}\\right)}{288 \\varepsilon} + \\frac{95 u_{1}}{36 \\varepsilon^{2}} - \\frac{95 \\left(u + 2 u_{1}\\right)}{72 \\varepsilon^{3}} + \\frac{95 \\left(3 u + 4 u_{1}\\right)}{288 \\varepsilon^{4}} - \\frac{95 \\left(u + u_{1}\\right)}{288 \\varepsilon^{5}}$"
      ],
      "text/plain": [
       "95*\\varepsilon**5*(u - u1)/288 + 95*\\varepsilon**4*(3*u - 4*u1)/288 + 95*\\varepsilon**3*(u - 2*u1)/72 - 95*\\varepsilon**2*u1/36 - 95*\\varepsilon*(u + 7*u1)/288 - 95*u/48 + 95*(u - 7*u1)/(288*\\varepsilon) + 95*u1/(36*\\varepsilon**2) - 95*(u + 2*u1)/(72*\\varepsilon**3) + 95*(3*u + 4*u1)/(288*\\varepsilon**4) - 95*(u + u1)/(288*\\varepsilon**5)"
      ]
     },
     "metadata": {},
     "output_type": "display_data"
    },
    {
     "name": "stdout",
     "output_type": "stream",
     "text": [
      "h^6 =>\n"
     ]
    },
    {
     "data": {
      "text/latex": [
       "$\\displaystyle \\frac{40763 \\varepsilon^{6} \\left(u - u_{1}\\right)}{60480} + \\frac{40763 \\varepsilon^{5} \\left(4 u - 5 u_{1}\\right)}{60480} + \\frac{40763 \\varepsilon^{4} \\left(7 u - 12 u_{1}\\right)}{60480} + \\frac{40763 \\varepsilon^{3} \\left(u - 4 u_{1}\\right)}{15120} - \\frac{40763 \\varepsilon^{2} \\left(u + 15 u_{1}\\right)}{60480} - \\frac{40763 \\varepsilon \\left(8 u + 7 u_{1}\\right)}{60480} - \\frac{40763 u_{1}}{7560} - \\frac{40763 \\left(8 u - 7 u_{1}\\right)}{60480 \\varepsilon} + \\frac{40763 \\left(u - 15 u_{1}\\right)}{60480 \\varepsilon^{2}} + \\frac{40763 \\left(u + 4 u_{1}\\right)}{15120 \\varepsilon^{3}} - \\frac{40763 \\left(7 u + 12 u_{1}\\right)}{60480 \\varepsilon^{4}} + \\frac{40763 \\left(4 u + 5 u_{1}\\right)}{60480 \\varepsilon^{5}} - \\frac{40763 \\left(u + u_{1}\\right)}{60480 \\varepsilon^{6}}$"
      ],
      "text/plain": [
       "40763*\\varepsilon**6*(u - u1)/60480 + 40763*\\varepsilon**5*(4*u - 5*u1)/60480 + 40763*\\varepsilon**4*(7*u - 12*u1)/60480 + 40763*\\varepsilon**3*(u - 4*u1)/15120 - 40763*\\varepsilon**2*(u + 15*u1)/60480 - 40763*\\varepsilon*(8*u + 7*u1)/60480 - 40763*u1/7560 - 40763*(8*u - 7*u1)/(60480*\\varepsilon) + 40763*(u - 15*u1)/(60480*\\varepsilon**2) + 40763*(u + 4*u1)/(15120*\\varepsilon**3) - 40763*(7*u + 12*u1)/(60480*\\varepsilon**4) + 40763*(4*u + 5*u1)/(60480*\\varepsilon**5) - 40763*(u + u1)/(60480*\\varepsilon**6)"
      ]
     },
     "metadata": {},
     "output_type": "display_data"
    },
    {
     "name": "stdout",
     "output_type": "stream",
     "text": [
      "- u_{1} + u_{t}\n",
      "+h\\left(\n",
      "0\n",
      "\\right)\n",
      "+h^2\\left(\n",
      "0\n",
      "\\right)\n",
      "+h^3\\left(\n",
      "0\n",
      "\\right)\n",
      "+h^4\\left(\n",
      "0\n",
      "\\right)\n",
      "+h^5\\left(\n",
      "\\frac{95 \\varepsilon^{5} \\left(u - u_{1}\\right)}{288} + \\frac{95 \\varepsilon^{4} \\left(3 u - 4 u_{1}\\right)}{288} + \\frac{95 \\varepsilon^{3} \\left(u - 2 u_{1}\\right)}{72} - \\frac{95 \\varepsilon^{2} u_{1}}{36} - \\frac{95 \\varepsilon \\left(u + 7 u_{1}\\right)}{288} - \\frac{95 u}{48} + \\frac{95 \\left(u - 7 u_{1}\\right)}{288 \\varepsilon} + \\frac{95 u_{1}}{36 \\varepsilon^{2}} - \\frac{95 \\left(u + 2 u_{1}\\right)}{72 \\varepsilon^{3}} + \\frac{95 \\left(3 u + 4 u_{1}\\right)}{288 \\varepsilon^{4}} - \\frac{95 \\left(u + u_{1}\\right)}{288 \\varepsilon^{5}}\n",
      "\\right)\n",
      "+h^6\\left(\n",
      "\\frac{40763 \\varepsilon^{6} \\left(u - u_{1}\\right)}{60480} + \\frac{40763 \\varepsilon^{5} \\left(4 u - 5 u_{1}\\right)}{60480} + \\frac{40763 \\varepsilon^{4} \\left(7 u - 12 u_{1}\\right)}{60480} + \\frac{40763 \\varepsilon^{3} \\left(u - 4 u_{1}\\right)}{15120} - \\frac{40763 \\varepsilon^{2} \\left(u + 15 u_{1}\\right)}{60480} - \\frac{40763 \\varepsilon \\left(8 u + 7 u_{1}\\right)}{60480} - \\frac{40763 u_{1}}{7560} - \\frac{40763 \\left(8 u - 7 u_{1}\\right)}{60480 \\varepsilon} + \\frac{40763 \\left(u - 15 u_{1}\\right)}{60480 \\varepsilon^{2}} + \\frac{40763 \\left(u + 4 u_{1}\\right)}{15120 \\varepsilon^{3}} - \\frac{40763 \\left(7 u + 12 u_{1}\\right)}{60480 \\varepsilon^{4}} + \\frac{40763 \\left(4 u + 5 u_{1}\\right)}{60480 \\varepsilon^{5}} - \\frac{40763 \\left(u + u_{1}\\right)}{60480 \\varepsilon^{6}}\n",
      "\\right)\n"
     ]
    }
   ],
   "source": [
    "f1 = NF(F1, [u(t).diff(t), u1(t).diff(t)], [F1, F2], head=False)\n",
    "prn(f1, eps)\n",
    "prnlatex(f1, eps)"
   ]
  },
  {
   "cell_type": "code",
   "execution_count": 76,
   "id": "5dbedd41",
   "metadata": {},
   "outputs": [
    {
     "name": "stdout",
     "output_type": "stream",
     "text": [
      "h^0 =>\n"
     ]
    },
    {
     "data": {
      "text/latex": [
       "$\\displaystyle \\varepsilon \\left(- u + u_{1}\\right) + u1_{t} + \\frac{u + u_{1}}{\\varepsilon}$"
      ],
      "text/plain": [
       "\\varepsilon*(-u + u1) + u1_{t} + (u + u1)/\\varepsilon"
      ]
     },
     "metadata": {},
     "output_type": "display_data"
    },
    {
     "name": "stdout",
     "output_type": "stream",
     "text": [
      "h^1 =>\n"
     ]
    },
    {
     "data": {
      "text/latex": [
       "$\\displaystyle 0$"
      ],
      "text/plain": [
       "0"
      ]
     },
     "metadata": {},
     "output_type": "display_data"
    },
    {
     "name": "stdout",
     "output_type": "stream",
     "text": [
      "h^2 =>\n"
     ]
    },
    {
     "data": {
      "text/latex": [
       "$\\displaystyle 0$"
      ],
      "text/plain": [
       "0"
      ]
     },
     "metadata": {},
     "output_type": "display_data"
    },
    {
     "name": "stdout",
     "output_type": "stream",
     "text": [
      "h^3 =>\n"
     ]
    },
    {
     "data": {
      "text/latex": [
       "$\\displaystyle 0$"
      ],
      "text/plain": [
       "0"
      ]
     },
     "metadata": {},
     "output_type": "display_data"
    },
    {
     "name": "stdout",
     "output_type": "stream",
     "text": [
      "h^4 =>\n"
     ]
    },
    {
     "data": {
      "text/latex": [
       "$\\displaystyle 0$"
      ],
      "text/plain": [
       "0"
      ]
     },
     "metadata": {},
     "output_type": "display_data"
    },
    {
     "name": "stdout",
     "output_type": "stream",
     "text": [
      "h^5 =>\n"
     ]
    },
    {
     "data": {
      "text/latex": [
       "$\\displaystyle - \\frac{95 \\varepsilon^{6} \\left(u - u_{1}\\right)}{288} - \\frac{95 \\varepsilon^{5} \\left(4 u - 5 u_{1}\\right)}{288} - \\frac{95 \\varepsilon^{4} \\left(7 u - 12 u_{1}\\right)}{288} - \\frac{95 \\varepsilon^{3} \\left(u - 4 u_{1}\\right)}{72} + \\frac{95 \\varepsilon^{2} \\left(u + 15 u_{1}\\right)}{288} + \\frac{95 \\varepsilon \\left(8 u + 7 u_{1}\\right)}{288} + \\frac{95 u_{1}}{36} + \\frac{95 \\left(8 u - 7 u_{1}\\right)}{288 \\varepsilon} - \\frac{95 \\left(u - 15 u_{1}\\right)}{288 \\varepsilon^{2}} - \\frac{95 \\left(u + 4 u_{1}\\right)}{72 \\varepsilon^{3}} + \\frac{95 \\left(7 u + 12 u_{1}\\right)}{288 \\varepsilon^{4}} - \\frac{95 \\left(4 u + 5 u_{1}\\right)}{288 \\varepsilon^{5}} + \\frac{95 \\left(u + u_{1}\\right)}{288 \\varepsilon^{6}}$"
      ],
      "text/plain": [
       "-95*\\varepsilon**6*(u - u1)/288 - 95*\\varepsilon**5*(4*u - 5*u1)/288 - 95*\\varepsilon**4*(7*u - 12*u1)/288 - 95*\\varepsilon**3*(u - 4*u1)/72 + 95*\\varepsilon**2*(u + 15*u1)/288 + 95*\\varepsilon*(8*u + 7*u1)/288 + 95*u1/36 + 95*(8*u - 7*u1)/(288*\\varepsilon) - 95*(u - 15*u1)/(288*\\varepsilon**2) - 95*(u + 4*u1)/(72*\\varepsilon**3) + 95*(7*u + 12*u1)/(288*\\varepsilon**4) - 95*(4*u + 5*u1)/(288*\\varepsilon**5) + 95*(u + u1)/(288*\\varepsilon**6)"
      ]
     },
     "metadata": {},
     "output_type": "display_data"
    },
    {
     "name": "stdout",
     "output_type": "stream",
     "text": [
      "h^6 =>\n"
     ]
    },
    {
     "data": {
      "text/latex": [
       "$\\displaystyle - \\frac{40763 \\varepsilon^{7} \\left(u - u_{1}\\right)}{60480} - \\frac{40763 \\varepsilon^{6} \\left(5 u - 6 u_{1}\\right)}{60480} - \\frac{40763 \\varepsilon^{5} \\left(11 u - 17 u_{1}\\right)}{60480} - \\frac{40763 \\varepsilon^{4} \\left(11 u - 28 u_{1}\\right)}{60480} - \\frac{40763 \\varepsilon^{3} \\left(3 u - 31 u_{1}\\right)}{60480} + \\frac{40763 \\varepsilon^{2} \\left(9 u + 22 u_{1}\\right)}{60480} + \\frac{40763 \\varepsilon \\left(7 u + 15 u_{1}\\right)}{60480} + \\frac{40763 u}{4320} - \\frac{40763 \\left(7 u - 15 u_{1}\\right)}{60480 \\varepsilon} + \\frac{40763 \\left(9 u - 22 u_{1}\\right)}{60480 \\varepsilon^{2}} + \\frac{40763 \\left(3 u + 31 u_{1}\\right)}{60480 \\varepsilon^{3}} - \\frac{40763 \\left(11 u + 28 u_{1}\\right)}{60480 \\varepsilon^{4}} + \\frac{40763 \\left(11 u + 17 u_{1}\\right)}{60480 \\varepsilon^{5}} - \\frac{40763 \\left(5 u + 6 u_{1}\\right)}{60480 \\varepsilon^{6}} + \\frac{40763 \\left(u + u_{1}\\right)}{60480 \\varepsilon^{7}}$"
      ],
      "text/plain": [
       "-40763*\\varepsilon**7*(u - u1)/60480 - 40763*\\varepsilon**6*(5*u - 6*u1)/60480 - 40763*\\varepsilon**5*(11*u - 17*u1)/60480 - 40763*\\varepsilon**4*(11*u - 28*u1)/60480 - 40763*\\varepsilon**3*(3*u - 31*u1)/60480 + 40763*\\varepsilon**2*(9*u + 22*u1)/60480 + 40763*\\varepsilon*(7*u + 15*u1)/60480 + 40763*u/4320 - 40763*(7*u - 15*u1)/(60480*\\varepsilon) + 40763*(9*u - 22*u1)/(60480*\\varepsilon**2) + 40763*(3*u + 31*u1)/(60480*\\varepsilon**3) - 40763*(11*u + 28*u1)/(60480*\\varepsilon**4) + 40763*(11*u + 17*u1)/(60480*\\varepsilon**5) - 40763*(5*u + 6*u1)/(60480*\\varepsilon**6) + 40763*(u + u1)/(60480*\\varepsilon**7)"
      ]
     },
     "metadata": {},
     "output_type": "display_data"
    },
    {
     "name": "stdout",
     "output_type": "stream",
     "text": [
      "\\varepsilon \\left(- u + u_{1}\\right) + u1_{t} + \\frac{u + u_{1}}{\\varepsilon}\n",
      "+h\\left(\n",
      "0\n",
      "\\right)\n",
      "+h^2\\left(\n",
      "0\n",
      "\\right)\n",
      "+h^3\\left(\n",
      "0\n",
      "\\right)\n",
      "+h^4\\left(\n",
      "0\n",
      "\\right)\n",
      "+h^5\\left(\n",
      "- \\frac{95 \\varepsilon^{6} \\left(u - u_{1}\\right)}{288} - \\frac{95 \\varepsilon^{5} \\left(4 u - 5 u_{1}\\right)}{288} - \\frac{95 \\varepsilon^{4} \\left(7 u - 12 u_{1}\\right)}{288} - \\frac{95 \\varepsilon^{3} \\left(u - 4 u_{1}\\right)}{72} + \\frac{95 \\varepsilon^{2} \\left(u + 15 u_{1}\\right)}{288} + \\frac{95 \\varepsilon \\left(8 u + 7 u_{1}\\right)}{288} + \\frac{95 u_{1}}{36} + \\frac{95 \\left(8 u - 7 u_{1}\\right)}{288 \\varepsilon} - \\frac{95 \\left(u - 15 u_{1}\\right)}{288 \\varepsilon^{2}} - \\frac{95 \\left(u + 4 u_{1}\\right)}{72 \\varepsilon^{3}} + \\frac{95 \\left(7 u + 12 u_{1}\\right)}{288 \\varepsilon^{4}} - \\frac{95 \\left(4 u + 5 u_{1}\\right)}{288 \\varepsilon^{5}} + \\frac{95 \\left(u + u_{1}\\right)}{288 \\varepsilon^{6}}\n",
      "\\right)\n",
      "+h^6\\left(\n",
      "- \\frac{40763 \\varepsilon^{7} \\left(u - u_{1}\\right)}{60480} - \\frac{40763 \\varepsilon^{6} \\left(5 u - 6 u_{1}\\right)}{60480} - \\frac{40763 \\varepsilon^{5} \\left(11 u - 17 u_{1}\\right)}{60480} - \\frac{40763 \\varepsilon^{4} \\left(11 u - 28 u_{1}\\right)}{60480} - \\frac{40763 \\varepsilon^{3} \\left(3 u - 31 u_{1}\\right)}{60480} + \\frac{40763 \\varepsilon^{2} \\left(9 u + 22 u_{1}\\right)}{60480} + \\frac{40763 \\varepsilon \\left(7 u + 15 u_{1}\\right)}{60480} + \\frac{40763 u}{4320} - \\frac{40763 \\left(7 u - 15 u_{1}\\right)}{60480 \\varepsilon} + \\frac{40763 \\left(9 u - 22 u_{1}\\right)}{60480 \\varepsilon^{2}} + \\frac{40763 \\left(3 u + 31 u_{1}\\right)}{60480 \\varepsilon^{3}} - \\frac{40763 \\left(11 u + 28 u_{1}\\right)}{60480 \\varepsilon^{4}} + \\frac{40763 \\left(11 u + 17 u_{1}\\right)}{60480 \\varepsilon^{5}} - \\frac{40763 \\left(5 u + 6 u_{1}\\right)}{60480 \\varepsilon^{6}} + \\frac{40763 \\left(u + u_{1}\\right)}{60480 \\varepsilon^{7}}\n",
      "\\right)\n"
     ]
    }
   ],
   "source": [
    "f2 = NF(F2, [u(t).diff(t), u1(t).diff(t)], [F1, F2], head=False)\n",
    "prn(f2, eps)\n",
    "prnlatex(f2, eps)"
   ]
  },
  {
   "cell_type": "code",
   "execution_count": 77,
   "id": "dfbe9d98",
   "metadata": {},
   "outputs": [
    {
     "data": {
      "text/latex": [
       "$\\displaystyle \\frac{95 \\left(- \\varepsilon^{12} e^{\\frac{t}{\\varepsilon}} - 6 \\varepsilon^{11} e^{\\frac{t}{\\varepsilon}} - 15 \\varepsilon^{10} e^{\\frac{t}{\\varepsilon}} - 20 \\varepsilon^{9} e^{\\frac{t}{\\varepsilon}} - 15 \\varepsilon^{8} e^{\\frac{t}{\\varepsilon}} - 6 \\varepsilon^{7} e^{\\frac{t}{\\varepsilon}} - \\varepsilon^{6} e^{\\frac{t}{\\varepsilon}} + \\varepsilon^{6} e^{t \\left(\\varepsilon + 2\\right)} - 6 \\varepsilon^{5} e^{t \\left(\\varepsilon + 2\\right)} + 15 \\varepsilon^{4} e^{t \\left(\\varepsilon + 2\\right)} - 20 \\varepsilon^{3} e^{t \\left(\\varepsilon + 2\\right)} + 15 \\varepsilon^{2} e^{t \\left(\\varepsilon + 2\\right)} - 6 \\varepsilon e^{t \\left(\\varepsilon + 2\\right)} + e^{t \\left(\\varepsilon + 2\\right)}\\right) e^{- \\varepsilon t + \\varepsilon - t + 1 - \\frac{t}{\\varepsilon} + \\frac{1}{\\varepsilon}}}{288 \\varepsilon^{6} \\left(- e^{\\frac{1}{\\varepsilon}} + e^{\\varepsilon + 2}\\right)}$"
      ],
      "text/plain": [
       "95*(-\\varepsilon**12*exp(t/\\varepsilon) - 6*\\varepsilon**11*exp(t/\\varepsilon) - 15*\\varepsilon**10*exp(t/\\varepsilon) - 20*\\varepsilon**9*exp(t/\\varepsilon) - 15*\\varepsilon**8*exp(t/\\varepsilon) - 6*\\varepsilon**7*exp(t/\\varepsilon) - \\varepsilon**6*exp(t/\\varepsilon) + \\varepsilon**6*exp(t*(\\varepsilon + 2)) - 6*\\varepsilon**5*exp(t*(\\varepsilon + 2)) + 15*\\varepsilon**4*exp(t*(\\varepsilon + 2)) - 20*\\varepsilon**3*exp(t*(\\varepsilon + 2)) + 15*\\varepsilon**2*exp(t*(\\varepsilon + 2)) - 6*\\varepsilon*exp(t*(\\varepsilon + 2)) + exp(t*(\\varepsilon + 2)))*exp(-\\varepsilon*t + \\varepsilon - t + 1 - t/\\varepsilon + 1/\\varepsilon)/(288*\\varepsilon**6*(-exp(1/\\varepsilon) + exp(\\varepsilon + 2)))"
      ]
     },
     "execution_count": 77,
     "metadata": {},
     "output_type": "execute_result"
    }
   ],
   "source": [
    "f1[5].subs(sol).expand().simplify()"
   ]
  },
  {
   "cell_type": "code",
   "execution_count": 78,
   "id": "70819985",
   "metadata": {},
   "outputs": [
    {
     "data": {
      "text/latex": [
       "$\\displaystyle \\frac{95 \\left(\\varepsilon^{14} e^{\\frac{t}{\\varepsilon}} + 7 \\varepsilon^{13} e^{\\frac{t}{\\varepsilon}} + 21 \\varepsilon^{12} e^{\\frac{t}{\\varepsilon}} + 35 \\varepsilon^{11} e^{\\frac{t}{\\varepsilon}} + 35 \\varepsilon^{10} e^{\\frac{t}{\\varepsilon}} + 21 \\varepsilon^{9} e^{\\frac{t}{\\varepsilon}} + 7 \\varepsilon^{8} e^{\\frac{t}{\\varepsilon}} + \\varepsilon^{7} e^{\\frac{t}{\\varepsilon}} + \\varepsilon^{7} e^{t \\left(\\varepsilon + 2\\right)} - 7 \\varepsilon^{6} e^{t \\left(\\varepsilon + 2\\right)} + 21 \\varepsilon^{5} e^{t \\left(\\varepsilon + 2\\right)} - 35 \\varepsilon^{4} e^{t \\left(\\varepsilon + 2\\right)} + 35 \\varepsilon^{3} e^{t \\left(\\varepsilon + 2\\right)} - 21 \\varepsilon^{2} e^{t \\left(\\varepsilon + 2\\right)} + 7 \\varepsilon e^{t \\left(\\varepsilon + 2\\right)} - e^{t \\left(\\varepsilon + 2\\right)}\\right) e^{- \\varepsilon t + \\varepsilon - t + 1 - \\frac{t}{\\varepsilon} + \\frac{1}{\\varepsilon}}}{288 \\varepsilon^{7} \\left(- e^{\\frac{1}{\\varepsilon}} + e^{\\varepsilon + 2}\\right)}$"
      ],
      "text/plain": [
       "95*(\\varepsilon**14*exp(t/\\varepsilon) + 7*\\varepsilon**13*exp(t/\\varepsilon) + 21*\\varepsilon**12*exp(t/\\varepsilon) + 35*\\varepsilon**11*exp(t/\\varepsilon) + 35*\\varepsilon**10*exp(t/\\varepsilon) + 21*\\varepsilon**9*exp(t/\\varepsilon) + 7*\\varepsilon**8*exp(t/\\varepsilon) + \\varepsilon**7*exp(t/\\varepsilon) + \\varepsilon**7*exp(t*(\\varepsilon + 2)) - 7*\\varepsilon**6*exp(t*(\\varepsilon + 2)) + 21*\\varepsilon**5*exp(t*(\\varepsilon + 2)) - 35*\\varepsilon**4*exp(t*(\\varepsilon + 2)) + 35*\\varepsilon**3*exp(t*(\\varepsilon + 2)) - 21*\\varepsilon**2*exp(t*(\\varepsilon + 2)) + 7*\\varepsilon*exp(t*(\\varepsilon + 2)) - exp(t*(\\varepsilon + 2)))*exp(-\\varepsilon*t + \\varepsilon - t + 1 - t/\\varepsilon + 1/\\varepsilon)/(288*\\varepsilon**7*(-exp(1/\\varepsilon) + exp(\\varepsilon + 2)))"
      ]
     },
     "execution_count": 78,
     "metadata": {},
     "output_type": "execute_result"
    }
   ],
   "source": [
    "f2[5].subs(sol).expand().simplify()"
   ]
  },
  {
   "cell_type": "code",
   "execution_count": 79,
   "id": "c0bc4a57",
   "metadata": {},
   "outputs": [
    {
     "name": "stdout",
     "output_type": "stream",
     "text": [
      "\\frac{95 \\left(\\varepsilon^{14} e^{\\frac{t}{\\varepsilon}} + 7 \\varepsilon^{13} e^{\\frac{t}{\\varepsilon}} + 21 \\varepsilon^{12} e^{\\frac{t}{\\varepsilon}} + 35 \\varepsilon^{11} e^{\\frac{t}{\\varepsilon}} + 35 \\varepsilon^{10} e^{\\frac{t}{\\varepsilon}} + 21 \\varepsilon^{9} e^{\\frac{t}{\\varepsilon}} + 7 \\varepsilon^{8} e^{\\frac{t}{\\varepsilon}} + \\varepsilon^{7} e^{\\frac{t}{\\varepsilon}} + \\varepsilon^{7} e^{t \\left(\\varepsilon + 2\\right)} - 7 \\varepsilon^{6} e^{t \\left(\\varepsilon + 2\\right)} + 21 \\varepsilon^{5} e^{t \\left(\\varepsilon + 2\\right)} - 35 \\varepsilon^{4} e^{t \\left(\\varepsilon + 2\\right)} + 35 \\varepsilon^{3} e^{t \\left(\\varepsilon + 2\\right)} - 21 \\varepsilon^{2} e^{t \\left(\\varepsilon + 2\\right)} + 7 \\varepsilon e^{t \\left(\\varepsilon + 2\\right)} - e^{t \\left(\\varepsilon + 2\\right)}\\right) e^{- \\varepsilon t + \\varepsilon - t + 1 - \\frac{t}{\\varepsilon} + \\frac{1}{\\varepsilon}}}{288 \\varepsilon^{7} \\left(- e^{\\frac{1}{\\varepsilon}} + e^{\\varepsilon + 2}\\right)}\n"
     ]
    }
   ],
   "source": [
    "print(latex(f2[5].subs(sol).expand().simplify()))"
   ]
  },
  {
   "cell_type": "markdown",
   "id": "cb114dfc",
   "metadata": {},
   "source": [
    "### Adams–Moulton method 5 order"
   ]
  },
  {
   "cell_type": "code",
   "execution_count": 80,
   "id": "4f3e40f7",
   "metadata": {},
   "outputs": [],
   "source": [
    "set_clip(8, 7, Rational(0, 1))\n",
    "m = AdamsMoulton5(g, Matrix([u(t), u1(t)]))"
   ]
  },
  {
   "cell_type": "code",
   "execution_count": 81,
   "id": "9300a9c1",
   "metadata": {},
   "outputs": [
    {
     "name": "stdout",
     "output_type": "stream",
     "text": [
      "h^0 =>\n"
     ]
    },
    {
     "data": {
      "text/latex": [
       "$\\displaystyle - u_{1} + u_{t}$"
      ],
      "text/plain": [
       "-u1 + u_{t}"
      ]
     },
     "metadata": {},
     "output_type": "display_data"
    },
    {
     "name": "stdout",
     "output_type": "stream",
     "text": [
      "h^1 =>\n"
     ]
    },
    {
     "data": {
      "text/latex": [
       "$\\displaystyle - \\frac{7 \\left(u1_{t} - u_{tt}\\right)}{2}$"
      ],
      "text/plain": [
       "-7*(u1_{t} - u_{tt})/2"
      ]
     },
     "metadata": {},
     "output_type": "display_data"
    },
    {
     "name": "stdout",
     "output_type": "stream",
     "text": [
      "h^2 =>\n"
     ]
    },
    {
     "data": {
      "text/latex": [
       "$\\displaystyle - \\frac{37 \\left(u1_{tt} - u_{ttt}\\right)}{6}$"
      ],
      "text/plain": [
       "-37*(u1_{tt} - u_{ttt})/6"
      ]
     },
     "metadata": {},
     "output_type": "display_data"
    },
    {
     "name": "stdout",
     "output_type": "stream",
     "text": [
      "h^3 =>\n"
     ]
    },
    {
     "data": {
      "text/latex": [
       "$\\displaystyle - \\frac{175 \\left(u1_{ttt} - u_{tttt}\\right)}{24}$"
      ],
      "text/plain": [
       "-175*(u1_{ttt} - u_{tttt})/24"
      ]
     },
     "metadata": {},
     "output_type": "display_data"
    },
    {
     "name": "stdout",
     "output_type": "stream",
     "text": [
      "h^4 =>\n"
     ]
    },
    {
     "data": {
      "text/latex": [
       "$\\displaystyle - \\frac{781 \\left(u1_{tttt} - u_{ttttt}\\right)}{120}$"
      ],
      "text/plain": [
       "-781*(u1_{tttt} - u_{ttttt})/120"
      ]
     },
     "metadata": {},
     "output_type": "display_data"
    },
    {
     "name": "stdout",
     "output_type": "stream",
     "text": [
      "h^5 =>\n"
     ]
    },
    {
     "data": {
      "text/latex": [
       "$\\displaystyle - \\frac{6761 u1_{ttttt} - 6734 u_{tttttt}}{1440}$"
      ],
      "text/plain": [
       "-(6761*u1_{ttttt} - 6734*u_{tttttt})/1440"
      ]
     },
     "metadata": {},
     "output_type": "display_data"
    },
    {
     "name": "stdout",
     "output_type": "stream",
     "text": [
      "h^6 =>\n"
     ]
    },
    {
     "data": {
      "text/latex": [
       "$\\displaystyle - \\frac{43232 u1_{tttttt} - 42591 u_{ttttttt}}{15120}$"
      ],
      "text/plain": [
       "-(43232*u1_{tttttt} - 42591*u_{ttttttt})/15120"
      ]
     },
     "metadata": {},
     "output_type": "display_data"
    },
    {
     "name": "stdout",
     "output_type": "stream",
     "text": [
      "- u_{1} + u_{t}\n",
      "+h\\left(\n",
      "- \\frac{7 \\left(u1_{t} - u_{tt}\\right)}{2}\n",
      "\\right)\n",
      "+h^2\\left(\n",
      "- \\frac{37 \\left(u1_{tt} - u_{ttt}\\right)}{6}\n",
      "\\right)\n",
      "+h^3\\left(\n",
      "- \\frac{175 \\left(u1_{ttt} - u_{tttt}\\right)}{24}\n",
      "\\right)\n",
      "+h^4\\left(\n",
      "- \\frac{781 \\left(u1_{tttt} - u_{ttttt}\\right)}{120}\n",
      "\\right)\n",
      "+h^5\\left(\n",
      "- \\frac{6761 u1_{ttttt} - 6734 u_{tttttt}}{1440}\n",
      "\\right)\n",
      "+h^6\\left(\n",
      "- \\frac{43232 u1_{tttttt} - 42591 u_{ttttttt}}{15120}\n",
      "\\right)\n"
     ]
    }
   ],
   "source": [
    "F1 = clip((T(u(t+4*h))-T(u(t+3*h)))/h - T(m[0]))\n",
    "prn(F1, eps)\n",
    "prnlatex(F1, eps)"
   ]
  },
  {
   "cell_type": "code",
   "execution_count": 82,
   "id": "6ada2ae4",
   "metadata": {},
   "outputs": [
    {
     "name": "stdout",
     "output_type": "stream",
     "text": [
      "h^0 =>\n"
     ]
    },
    {
     "data": {
      "text/latex": [
       "$\\displaystyle \\varepsilon \\left(- u + u_{1}\\right) + u1_{t} + \\frac{u + u_{1}}{\\varepsilon}$"
      ],
      "text/plain": [
       "\\varepsilon*(-u + u1) + u1_{t} + (u + u1)/\\varepsilon"
      ]
     },
     "metadata": {},
     "output_type": "display_data"
    },
    {
     "name": "stdout",
     "output_type": "stream",
     "text": [
      "h^1 =>\n"
     ]
    },
    {
     "data": {
      "text/latex": [
       "$\\displaystyle \\frac{7 \\varepsilon \\left(u1_{t} - u_{t}\\right)}{2} + \\frac{7 u1_{tt}}{2} + \\frac{7 \\left(u1_{t} + u_{t}\\right)}{2 \\varepsilon}$"
      ],
      "text/plain": [
       "7*\\varepsilon*(u1_{t} - u_{t})/2 + 7*u1_{tt}/2 + 7*(u1_{t} + u_{t})/(2*\\varepsilon)"
      ]
     },
     "metadata": {},
     "output_type": "display_data"
    },
    {
     "name": "stdout",
     "output_type": "stream",
     "text": [
      "h^2 =>\n"
     ]
    },
    {
     "data": {
      "text/latex": [
       "$\\displaystyle \\frac{37 \\varepsilon \\left(u1_{tt} - u_{tt}\\right)}{6} + \\frac{37 u1_{ttt}}{6} + \\frac{37 \\left(u1_{tt} + u_{tt}\\right)}{6 \\varepsilon}$"
      ],
      "text/plain": [
       "37*\\varepsilon*(u1_{tt} - u_{tt})/6 + 37*u1_{ttt}/6 + 37*(u1_{tt} + u_{tt})/(6*\\varepsilon)"
      ]
     },
     "metadata": {},
     "output_type": "display_data"
    },
    {
     "name": "stdout",
     "output_type": "stream",
     "text": [
      "h^3 =>\n"
     ]
    },
    {
     "data": {
      "text/latex": [
       "$\\displaystyle \\frac{175 \\varepsilon \\left(u1_{ttt} - u_{ttt}\\right)}{24} + \\frac{175 u1_{tttt}}{24} + \\frac{175 \\left(u1_{ttt} + u_{ttt}\\right)}{24 \\varepsilon}$"
      ],
      "text/plain": [
       "175*\\varepsilon*(u1_{ttt} - u_{ttt})/24 + 175*u1_{tttt}/24 + 175*(u1_{ttt} + u_{ttt})/(24*\\varepsilon)"
      ]
     },
     "metadata": {},
     "output_type": "display_data"
    },
    {
     "name": "stdout",
     "output_type": "stream",
     "text": [
      "h^4 =>\n"
     ]
    },
    {
     "data": {
      "text/latex": [
       "$\\displaystyle \\frac{781 \\varepsilon \\left(u1_{tttt} - u_{tttt}\\right)}{120} + \\frac{781 u1_{ttttt}}{120} + \\frac{781 \\left(u1_{tttt} + u_{tttt}\\right)}{120 \\varepsilon}$"
      ],
      "text/plain": [
       "781*\\varepsilon*(u1_{tttt} - u_{tttt})/120 + 781*u1_{ttttt}/120 + 781*(u1_{tttt} + u_{tttt})/(120*\\varepsilon)"
      ]
     },
     "metadata": {},
     "output_type": "display_data"
    },
    {
     "name": "stdout",
     "output_type": "stream",
     "text": [
      "h^5 =>\n"
     ]
    },
    {
     "data": {
      "text/latex": [
       "$\\displaystyle \\frac{6761 \\varepsilon \\left(u1_{ttttt} - u_{ttttt}\\right)}{1440} + \\frac{3367 u1_{tttttt}}{720} + \\frac{6761 \\left(u1_{ttttt} + u_{ttttt}\\right)}{1440 \\varepsilon}$"
      ],
      "text/plain": [
       "6761*\\varepsilon*(u1_{ttttt} - u_{ttttt})/1440 + 3367*u1_{tttttt}/720 + 6761*(u1_{ttttt} + u_{ttttt})/(1440*\\varepsilon)"
      ]
     },
     "metadata": {},
     "output_type": "display_data"
    },
    {
     "name": "stdout",
     "output_type": "stream",
     "text": [
      "h^6 =>\n"
     ]
    },
    {
     "data": {
      "text/latex": [
       "$\\displaystyle \\frac{386 \\varepsilon \\left(u1_{tttttt} - u_{tttttt}\\right)}{135} + \\frac{14197 u1_{ttttttt}}{5040} + \\frac{386 \\left(u1_{tttttt} + u_{tttttt}\\right)}{135 \\varepsilon}$"
      ],
      "text/plain": [
       "386*\\varepsilon*(u1_{tttttt} - u_{tttttt})/135 + 14197*u1_{ttttttt}/5040 + 386*(u1_{tttttt} + u_{tttttt})/(135*\\varepsilon)"
      ]
     },
     "metadata": {},
     "output_type": "display_data"
    },
    {
     "name": "stdout",
     "output_type": "stream",
     "text": [
      "\\varepsilon \\left(- u + u_{1}\\right) + u1_{t} + \\frac{u + u_{1}}{\\varepsilon}\n",
      "+h\\left(\n",
      "\\frac{7 \\varepsilon \\left(u1_{t} - u_{t}\\right)}{2} + \\frac{7 u1_{tt}}{2} + \\frac{7 \\left(u1_{t} + u_{t}\\right)}{2 \\varepsilon}\n",
      "\\right)\n",
      "+h^2\\left(\n",
      "\\frac{37 \\varepsilon \\left(u1_{tt} - u_{tt}\\right)}{6} + \\frac{37 u1_{ttt}}{6} + \\frac{37 \\left(u1_{tt} + u_{tt}\\right)}{6 \\varepsilon}\n",
      "\\right)\n",
      "+h^3\\left(\n",
      "\\frac{175 \\varepsilon \\left(u1_{ttt} - u_{ttt}\\right)}{24} + \\frac{175 u1_{tttt}}{24} + \\frac{175 \\left(u1_{ttt} + u_{ttt}\\right)}{24 \\varepsilon}\n",
      "\\right)\n",
      "+h^4\\left(\n",
      "\\frac{781 \\varepsilon \\left(u1_{tttt} - u_{tttt}\\right)}{120} + \\frac{781 u1_{ttttt}}{120} + \\frac{781 \\left(u1_{tttt} + u_{tttt}\\right)}{120 \\varepsilon}\n",
      "\\right)\n",
      "+h^5\\left(\n",
      "\\frac{6761 \\varepsilon \\left(u1_{ttttt} - u_{ttttt}\\right)}{1440} + \\frac{3367 u1_{tttttt}}{720} + \\frac{6761 \\left(u1_{ttttt} + u_{ttttt}\\right)}{1440 \\varepsilon}\n",
      "\\right)\n",
      "+h^6\\left(\n",
      "\\frac{386 \\varepsilon \\left(u1_{tttttt} - u_{tttttt}\\right)}{135} + \\frac{14197 u1_{ttttttt}}{5040} + \\frac{386 \\left(u1_{tttttt} + u_{tttttt}\\right)}{135 \\varepsilon}\n",
      "\\right)\n"
     ]
    }
   ],
   "source": [
    "F2 = clip((T(u1(t+4*h))-T(u1(t+3*h)))/h - T(m[1]))\n",
    "prn(F2, eps)\n",
    "prnlatex(F2, eps)"
   ]
  },
  {
   "cell_type": "code",
   "execution_count": 83,
   "id": "bf1aca55",
   "metadata": {},
   "outputs": [
    {
     "name": "stdout",
     "output_type": "stream",
     "text": [
      "h^0 =>\n"
     ]
    },
    {
     "data": {
      "text/latex": [
       "$\\displaystyle - u_{1} + u_{t}$"
      ],
      "text/plain": [
       "-u1 + u_{t}"
      ]
     },
     "metadata": {},
     "output_type": "display_data"
    },
    {
     "name": "stdout",
     "output_type": "stream",
     "text": [
      "h^1 =>\n"
     ]
    },
    {
     "data": {
      "text/latex": [
       "$\\displaystyle 0$"
      ],
      "text/plain": [
       "0"
      ]
     },
     "metadata": {},
     "output_type": "display_data"
    },
    {
     "name": "stdout",
     "output_type": "stream",
     "text": [
      "h^2 =>\n"
     ]
    },
    {
     "data": {
      "text/latex": [
       "$\\displaystyle 0$"
      ],
      "text/plain": [
       "0"
      ]
     },
     "metadata": {},
     "output_type": "display_data"
    },
    {
     "name": "stdout",
     "output_type": "stream",
     "text": [
      "h^3 =>\n"
     ]
    },
    {
     "data": {
      "text/latex": [
       "$\\displaystyle 0$"
      ],
      "text/plain": [
       "0"
      ]
     },
     "metadata": {},
     "output_type": "display_data"
    },
    {
     "name": "stdout",
     "output_type": "stream",
     "text": [
      "h^4 =>\n"
     ]
    },
    {
     "data": {
      "text/latex": [
       "$\\displaystyle 0$"
      ],
      "text/plain": [
       "0"
      ]
     },
     "metadata": {},
     "output_type": "display_data"
    },
    {
     "name": "stdout",
     "output_type": "stream",
     "text": [
      "h^5 =>\n"
     ]
    },
    {
     "data": {
      "text/latex": [
       "$\\displaystyle - \\frac{3 \\varepsilon^{5} \\left(u - u_{1}\\right)}{160} - \\frac{3 \\varepsilon^{4} \\left(3 u - 4 u_{1}\\right)}{160} - \\frac{3 \\varepsilon^{3} \\left(u - 2 u_{1}\\right)}{40} + \\frac{3 \\varepsilon^{2} u_{1}}{20} + \\frac{3 \\varepsilon \\left(u + 7 u_{1}\\right)}{160} + \\frac{9 u}{80} - \\frac{3 \\left(u - 7 u_{1}\\right)}{160 \\varepsilon} - \\frac{3 u_{1}}{20 \\varepsilon^{2}} + \\frac{3 \\left(u + 2 u_{1}\\right)}{40 \\varepsilon^{3}} - \\frac{3 \\left(3 u + 4 u_{1}\\right)}{160 \\varepsilon^{4}} + \\frac{3 \\left(u + u_{1}\\right)}{160 \\varepsilon^{5}}$"
      ],
      "text/plain": [
       "-3*\\varepsilon**5*(u - u1)/160 - 3*\\varepsilon**4*(3*u - 4*u1)/160 - 3*\\varepsilon**3*(u - 2*u1)/40 + 3*\\varepsilon**2*u1/20 + 3*\\varepsilon*(u + 7*u1)/160 + 9*u/80 - 3*(u - 7*u1)/(160*\\varepsilon) - 3*u1/(20*\\varepsilon**2) + 3*(u + 2*u1)/(40*\\varepsilon**3) - 3*(3*u + 4*u1)/(160*\\varepsilon**4) + 3*(u + u1)/(160*\\varepsilon**5)"
      ]
     },
     "metadata": {},
     "output_type": "display_data"
    },
    {
     "name": "stdout",
     "output_type": "stream",
     "text": [
      "h^6 =>\n"
     ]
    },
    {
     "data": {
      "text/latex": [
       "$\\displaystyle - \\frac{281 \\varepsilon^{6} \\left(u - u_{1}\\right)}{12096} - \\frac{281 \\varepsilon^{5} \\left(4 u - 5 u_{1}\\right)}{12096} - \\frac{281 \\varepsilon^{4} \\left(7 u - 12 u_{1}\\right)}{12096} - \\frac{281 \\varepsilon^{3} \\left(u - 4 u_{1}\\right)}{3024} + \\frac{281 \\varepsilon^{2} \\left(u + 15 u_{1}\\right)}{12096} + \\frac{281 \\varepsilon \\left(8 u + 7 u_{1}\\right)}{12096} + \\frac{281 u_{1}}{1512} + \\frac{281 \\left(8 u - 7 u_{1}\\right)}{12096 \\varepsilon} - \\frac{281 \\left(u - 15 u_{1}\\right)}{12096 \\varepsilon^{2}} - \\frac{281 \\left(u + 4 u_{1}\\right)}{3024 \\varepsilon^{3}} + \\frac{281 \\left(7 u + 12 u_{1}\\right)}{12096 \\varepsilon^{4}} - \\frac{281 \\left(4 u + 5 u_{1}\\right)}{12096 \\varepsilon^{5}} + \\frac{281 \\left(u + u_{1}\\right)}{12096 \\varepsilon^{6}}$"
      ],
      "text/plain": [
       "-281*\\varepsilon**6*(u - u1)/12096 - 281*\\varepsilon**5*(4*u - 5*u1)/12096 - 281*\\varepsilon**4*(7*u - 12*u1)/12096 - 281*\\varepsilon**3*(u - 4*u1)/3024 + 281*\\varepsilon**2*(u + 15*u1)/12096 + 281*\\varepsilon*(8*u + 7*u1)/12096 + 281*u1/1512 + 281*(8*u - 7*u1)/(12096*\\varepsilon) - 281*(u - 15*u1)/(12096*\\varepsilon**2) - 281*(u + 4*u1)/(3024*\\varepsilon**3) + 281*(7*u + 12*u1)/(12096*\\varepsilon**4) - 281*(4*u + 5*u1)/(12096*\\varepsilon**5) + 281*(u + u1)/(12096*\\varepsilon**6)"
      ]
     },
     "metadata": {},
     "output_type": "display_data"
    },
    {
     "name": "stdout",
     "output_type": "stream",
     "text": [
      "- u_{1} + u_{t}\n",
      "+h\\left(\n",
      "0\n",
      "\\right)\n",
      "+h^2\\left(\n",
      "0\n",
      "\\right)\n",
      "+h^3\\left(\n",
      "0\n",
      "\\right)\n",
      "+h^4\\left(\n",
      "0\n",
      "\\right)\n",
      "+h^5\\left(\n",
      "- \\frac{3 \\varepsilon^{5} \\left(u - u_{1}\\right)}{160} - \\frac{3 \\varepsilon^{4} \\left(3 u - 4 u_{1}\\right)}{160} - \\frac{3 \\varepsilon^{3} \\left(u - 2 u_{1}\\right)}{40} + \\frac{3 \\varepsilon^{2} u_{1}}{20} + \\frac{3 \\varepsilon \\left(u + 7 u_{1}\\right)}{160} + \\frac{9 u}{80} - \\frac{3 \\left(u - 7 u_{1}\\right)}{160 \\varepsilon} - \\frac{3 u_{1}}{20 \\varepsilon^{2}} + \\frac{3 \\left(u + 2 u_{1}\\right)}{40 \\varepsilon^{3}} - \\frac{3 \\left(3 u + 4 u_{1}\\right)}{160 \\varepsilon^{4}} + \\frac{3 \\left(u + u_{1}\\right)}{160 \\varepsilon^{5}}\n",
      "\\right)\n",
      "+h^6\\left(\n",
      "- \\frac{281 \\varepsilon^{6} \\left(u - u_{1}\\right)}{12096} - \\frac{281 \\varepsilon^{5} \\left(4 u - 5 u_{1}\\right)}{12096} - \\frac{281 \\varepsilon^{4} \\left(7 u - 12 u_{1}\\right)}{12096} - \\frac{281 \\varepsilon^{3} \\left(u - 4 u_{1}\\right)}{3024} + \\frac{281 \\varepsilon^{2} \\left(u + 15 u_{1}\\right)}{12096} + \\frac{281 \\varepsilon \\left(8 u + 7 u_{1}\\right)}{12096} + \\frac{281 u_{1}}{1512} + \\frac{281 \\left(8 u - 7 u_{1}\\right)}{12096 \\varepsilon} - \\frac{281 \\left(u - 15 u_{1}\\right)}{12096 \\varepsilon^{2}} - \\frac{281 \\left(u + 4 u_{1}\\right)}{3024 \\varepsilon^{3}} + \\frac{281 \\left(7 u + 12 u_{1}\\right)}{12096 \\varepsilon^{4}} - \\frac{281 \\left(4 u + 5 u_{1}\\right)}{12096 \\varepsilon^{5}} + \\frac{281 \\left(u + u_{1}\\right)}{12096 \\varepsilon^{6}}\n",
      "\\right)\n"
     ]
    }
   ],
   "source": [
    "f1 = NF(F1, [u(t).diff(t), u1(t).diff(t)], [F1, F2], head=False)\n",
    "prn(f1, eps)\n",
    "prnlatex(f1, eps)"
   ]
  },
  {
   "cell_type": "code",
   "execution_count": 84,
   "id": "0e7ae450",
   "metadata": {},
   "outputs": [
    {
     "name": "stdout",
     "output_type": "stream",
     "text": [
      "h^0 =>\n"
     ]
    },
    {
     "data": {
      "text/latex": [
       "$\\displaystyle \\varepsilon \\left(- u + u_{1}\\right) + u1_{t} + \\frac{u + u_{1}}{\\varepsilon}$"
      ],
      "text/plain": [
       "\\varepsilon*(-u + u1) + u1_{t} + (u + u1)/\\varepsilon"
      ]
     },
     "metadata": {},
     "output_type": "display_data"
    },
    {
     "name": "stdout",
     "output_type": "stream",
     "text": [
      "h^1 =>\n"
     ]
    },
    {
     "data": {
      "text/latex": [
       "$\\displaystyle 0$"
      ],
      "text/plain": [
       "0"
      ]
     },
     "metadata": {},
     "output_type": "display_data"
    },
    {
     "name": "stdout",
     "output_type": "stream",
     "text": [
      "h^2 =>\n"
     ]
    },
    {
     "data": {
      "text/latex": [
       "$\\displaystyle 0$"
      ],
      "text/plain": [
       "0"
      ]
     },
     "metadata": {},
     "output_type": "display_data"
    },
    {
     "name": "stdout",
     "output_type": "stream",
     "text": [
      "h^3 =>\n"
     ]
    },
    {
     "data": {
      "text/latex": [
       "$\\displaystyle 0$"
      ],
      "text/plain": [
       "0"
      ]
     },
     "metadata": {},
     "output_type": "display_data"
    },
    {
     "name": "stdout",
     "output_type": "stream",
     "text": [
      "h^4 =>\n"
     ]
    },
    {
     "data": {
      "text/latex": [
       "$\\displaystyle 0$"
      ],
      "text/plain": [
       "0"
      ]
     },
     "metadata": {},
     "output_type": "display_data"
    },
    {
     "name": "stdout",
     "output_type": "stream",
     "text": [
      "h^5 =>\n"
     ]
    },
    {
     "data": {
      "text/latex": [
       "$\\displaystyle \\frac{3 \\varepsilon^{6} \\left(u - u_{1}\\right)}{160} + \\frac{3 \\varepsilon^{5} \\left(4 u - 5 u_{1}\\right)}{160} + \\frac{3 \\varepsilon^{4} \\left(7 u - 12 u_{1}\\right)}{160} + \\frac{3 \\varepsilon^{3} \\left(u - 4 u_{1}\\right)}{40} - \\frac{3 \\varepsilon^{2} \\left(u + 15 u_{1}\\right)}{160} - \\frac{3 \\varepsilon \\left(8 u + 7 u_{1}\\right)}{160} - \\frac{3 u_{1}}{20} - \\frac{3 \\left(8 u - 7 u_{1}\\right)}{160 \\varepsilon} + \\frac{3 \\left(u - 15 u_{1}\\right)}{160 \\varepsilon^{2}} + \\frac{3 \\left(u + 4 u_{1}\\right)}{40 \\varepsilon^{3}} - \\frac{3 \\left(7 u + 12 u_{1}\\right)}{160 \\varepsilon^{4}} + \\frac{3 \\left(4 u + 5 u_{1}\\right)}{160 \\varepsilon^{5}} - \\frac{3 \\left(u + u_{1}\\right)}{160 \\varepsilon^{6}}$"
      ],
      "text/plain": [
       "3*\\varepsilon**6*(u - u1)/160 + 3*\\varepsilon**5*(4*u - 5*u1)/160 + 3*\\varepsilon**4*(7*u - 12*u1)/160 + 3*\\varepsilon**3*(u - 4*u1)/40 - 3*\\varepsilon**2*(u + 15*u1)/160 - 3*\\varepsilon*(8*u + 7*u1)/160 - 3*u1/20 - 3*(8*u - 7*u1)/(160*\\varepsilon) + 3*(u - 15*u1)/(160*\\varepsilon**2) + 3*(u + 4*u1)/(40*\\varepsilon**3) - 3*(7*u + 12*u1)/(160*\\varepsilon**4) + 3*(4*u + 5*u1)/(160*\\varepsilon**5) - 3*(u + u1)/(160*\\varepsilon**6)"
      ]
     },
     "metadata": {},
     "output_type": "display_data"
    },
    {
     "name": "stdout",
     "output_type": "stream",
     "text": [
      "h^6 =>\n"
     ]
    },
    {
     "data": {
      "text/latex": [
       "$\\displaystyle \\frac{281 \\varepsilon^{7} \\left(u - u_{1}\\right)}{12096} + \\frac{281 \\varepsilon^{6} \\left(5 u - 6 u_{1}\\right)}{12096} + \\frac{281 \\varepsilon^{5} \\left(11 u - 17 u_{1}\\right)}{12096} + \\frac{281 \\varepsilon^{4} \\left(11 u - 28 u_{1}\\right)}{12096} + \\frac{281 \\varepsilon^{3} \\left(3 u - 31 u_{1}\\right)}{12096} - \\frac{281 \\varepsilon^{2} \\left(9 u + 22 u_{1}\\right)}{12096} - \\frac{281 \\varepsilon \\left(7 u + 15 u_{1}\\right)}{12096} - \\frac{281 u}{864} + \\frac{281 \\left(7 u - 15 u_{1}\\right)}{12096 \\varepsilon} - \\frac{281 \\left(9 u - 22 u_{1}\\right)}{12096 \\varepsilon^{2}} - \\frac{281 \\left(3 u + 31 u_{1}\\right)}{12096 \\varepsilon^{3}} + \\frac{281 \\left(11 u + 28 u_{1}\\right)}{12096 \\varepsilon^{4}} - \\frac{281 \\left(11 u + 17 u_{1}\\right)}{12096 \\varepsilon^{5}} + \\frac{281 \\left(5 u + 6 u_{1}\\right)}{12096 \\varepsilon^{6}} - \\frac{281 \\left(u + u_{1}\\right)}{12096 \\varepsilon^{7}}$"
      ],
      "text/plain": [
       "281*\\varepsilon**7*(u - u1)/12096 + 281*\\varepsilon**6*(5*u - 6*u1)/12096 + 281*\\varepsilon**5*(11*u - 17*u1)/12096 + 281*\\varepsilon**4*(11*u - 28*u1)/12096 + 281*\\varepsilon**3*(3*u - 31*u1)/12096 - 281*\\varepsilon**2*(9*u + 22*u1)/12096 - 281*\\varepsilon*(7*u + 15*u1)/12096 - 281*u/864 + 281*(7*u - 15*u1)/(12096*\\varepsilon) - 281*(9*u - 22*u1)/(12096*\\varepsilon**2) - 281*(3*u + 31*u1)/(12096*\\varepsilon**3) + 281*(11*u + 28*u1)/(12096*\\varepsilon**4) - 281*(11*u + 17*u1)/(12096*\\varepsilon**5) + 281*(5*u + 6*u1)/(12096*\\varepsilon**6) - 281*(u + u1)/(12096*\\varepsilon**7)"
      ]
     },
     "metadata": {},
     "output_type": "display_data"
    },
    {
     "name": "stdout",
     "output_type": "stream",
     "text": [
      "\\varepsilon \\left(- u + u_{1}\\right) + u1_{t} + \\frac{u + u_{1}}{\\varepsilon}\n",
      "+h\\left(\n",
      "0\n",
      "\\right)\n",
      "+h^2\\left(\n",
      "0\n",
      "\\right)\n",
      "+h^3\\left(\n",
      "0\n",
      "\\right)\n",
      "+h^4\\left(\n",
      "0\n",
      "\\right)\n",
      "+h^5\\left(\n",
      "\\frac{3 \\varepsilon^{6} \\left(u - u_{1}\\right)}{160} + \\frac{3 \\varepsilon^{5} \\left(4 u - 5 u_{1}\\right)}{160} + \\frac{3 \\varepsilon^{4} \\left(7 u - 12 u_{1}\\right)}{160} + \\frac{3 \\varepsilon^{3} \\left(u - 4 u_{1}\\right)}{40} - \\frac{3 \\varepsilon^{2} \\left(u + 15 u_{1}\\right)}{160} - \\frac{3 \\varepsilon \\left(8 u + 7 u_{1}\\right)}{160} - \\frac{3 u_{1}}{20} - \\frac{3 \\left(8 u - 7 u_{1}\\right)}{160 \\varepsilon} + \\frac{3 \\left(u - 15 u_{1}\\right)}{160 \\varepsilon^{2}} + \\frac{3 \\left(u + 4 u_{1}\\right)}{40 \\varepsilon^{3}} - \\frac{3 \\left(7 u + 12 u_{1}\\right)}{160 \\varepsilon^{4}} + \\frac{3 \\left(4 u + 5 u_{1}\\right)}{160 \\varepsilon^{5}} - \\frac{3 \\left(u + u_{1}\\right)}{160 \\varepsilon^{6}}\n",
      "\\right)\n",
      "+h^6\\left(\n",
      "\\frac{281 \\varepsilon^{7} \\left(u - u_{1}\\right)}{12096} + \\frac{281 \\varepsilon^{6} \\left(5 u - 6 u_{1}\\right)}{12096} + \\frac{281 \\varepsilon^{5} \\left(11 u - 17 u_{1}\\right)}{12096} + \\frac{281 \\varepsilon^{4} \\left(11 u - 28 u_{1}\\right)}{12096} + \\frac{281 \\varepsilon^{3} \\left(3 u - 31 u_{1}\\right)}{12096} - \\frac{281 \\varepsilon^{2} \\left(9 u + 22 u_{1}\\right)}{12096} - \\frac{281 \\varepsilon \\left(7 u + 15 u_{1}\\right)}{12096} - \\frac{281 u}{864} + \\frac{281 \\left(7 u - 15 u_{1}\\right)}{12096 \\varepsilon} - \\frac{281 \\left(9 u - 22 u_{1}\\right)}{12096 \\varepsilon^{2}} - \\frac{281 \\left(3 u + 31 u_{1}\\right)}{12096 \\varepsilon^{3}} + \\frac{281 \\left(11 u + 28 u_{1}\\right)}{12096 \\varepsilon^{4}} - \\frac{281 \\left(11 u + 17 u_{1}\\right)}{12096 \\varepsilon^{5}} + \\frac{281 \\left(5 u + 6 u_{1}\\right)}{12096 \\varepsilon^{6}} - \\frac{281 \\left(u + u_{1}\\right)}{12096 \\varepsilon^{7}}\n",
      "\\right)\n"
     ]
    }
   ],
   "source": [
    "f2 = NF(F2, [u(t).diff(t), u1(t).diff(t)], [F1, F2], head=False)\n",
    "prn(f2, eps)\n",
    "prnlatex(f2, eps)"
   ]
  },
  {
   "cell_type": "code",
   "execution_count": 85,
   "id": "a485a107",
   "metadata": {},
   "outputs": [
    {
     "data": {
      "text/latex": [
       "$\\displaystyle \\frac{3 \\left(\\varepsilon^{12} e^{\\frac{t}{\\varepsilon}} + 6 \\varepsilon^{11} e^{\\frac{t}{\\varepsilon}} + 15 \\varepsilon^{10} e^{\\frac{t}{\\varepsilon}} + 20 \\varepsilon^{9} e^{\\frac{t}{\\varepsilon}} + 15 \\varepsilon^{8} e^{\\frac{t}{\\varepsilon}} + 6 \\varepsilon^{7} e^{\\frac{t}{\\varepsilon}} + \\varepsilon^{6} e^{\\frac{t}{\\varepsilon}} - \\varepsilon^{6} e^{t \\left(\\varepsilon + 2\\right)} + 6 \\varepsilon^{5} e^{t \\left(\\varepsilon + 2\\right)} - 15 \\varepsilon^{4} e^{t \\left(\\varepsilon + 2\\right)} + 20 \\varepsilon^{3} e^{t \\left(\\varepsilon + 2\\right)} - 15 \\varepsilon^{2} e^{t \\left(\\varepsilon + 2\\right)} + 6 \\varepsilon e^{t \\left(\\varepsilon + 2\\right)} - e^{t \\left(\\varepsilon + 2\\right)}\\right) e^{- \\varepsilon t + \\varepsilon - t + 1 - \\frac{t}{\\varepsilon} + \\frac{1}{\\varepsilon}}}{160 \\varepsilon^{6} \\left(- e^{\\frac{1}{\\varepsilon}} + e^{\\varepsilon + 2}\\right)}$"
      ],
      "text/plain": [
       "3*(\\varepsilon**12*exp(t/\\varepsilon) + 6*\\varepsilon**11*exp(t/\\varepsilon) + 15*\\varepsilon**10*exp(t/\\varepsilon) + 20*\\varepsilon**9*exp(t/\\varepsilon) + 15*\\varepsilon**8*exp(t/\\varepsilon) + 6*\\varepsilon**7*exp(t/\\varepsilon) + \\varepsilon**6*exp(t/\\varepsilon) - \\varepsilon**6*exp(t*(\\varepsilon + 2)) + 6*\\varepsilon**5*exp(t*(\\varepsilon + 2)) - 15*\\varepsilon**4*exp(t*(\\varepsilon + 2)) + 20*\\varepsilon**3*exp(t*(\\varepsilon + 2)) - 15*\\varepsilon**2*exp(t*(\\varepsilon + 2)) + 6*\\varepsilon*exp(t*(\\varepsilon + 2)) - exp(t*(\\varepsilon + 2)))*exp(-\\varepsilon*t + \\varepsilon - t + 1 - t/\\varepsilon + 1/\\varepsilon)/(160*\\varepsilon**6*(-exp(1/\\varepsilon) + exp(\\varepsilon + 2)))"
      ]
     },
     "execution_count": 85,
     "metadata": {},
     "output_type": "execute_result"
    }
   ],
   "source": [
    "f1[5].subs(sol).expand().simplify()"
   ]
  },
  {
   "cell_type": "code",
   "execution_count": 86,
   "id": "3c32b29c",
   "metadata": {},
   "outputs": [
    {
     "data": {
      "text/latex": [
       "$\\displaystyle \\frac{3 \\left(- \\varepsilon^{14} e^{\\frac{t}{\\varepsilon}} - 7 \\varepsilon^{13} e^{\\frac{t}{\\varepsilon}} - 21 \\varepsilon^{12} e^{\\frac{t}{\\varepsilon}} - 35 \\varepsilon^{11} e^{\\frac{t}{\\varepsilon}} - 35 \\varepsilon^{10} e^{\\frac{t}{\\varepsilon}} - 21 \\varepsilon^{9} e^{\\frac{t}{\\varepsilon}} - 7 \\varepsilon^{8} e^{\\frac{t}{\\varepsilon}} - \\varepsilon^{7} e^{\\frac{t}{\\varepsilon}} - \\varepsilon^{7} e^{t \\left(\\varepsilon + 2\\right)} + 7 \\varepsilon^{6} e^{t \\left(\\varepsilon + 2\\right)} - 21 \\varepsilon^{5} e^{t \\left(\\varepsilon + 2\\right)} + 35 \\varepsilon^{4} e^{t \\left(\\varepsilon + 2\\right)} - 35 \\varepsilon^{3} e^{t \\left(\\varepsilon + 2\\right)} + 21 \\varepsilon^{2} e^{t \\left(\\varepsilon + 2\\right)} - 7 \\varepsilon e^{t \\left(\\varepsilon + 2\\right)} + e^{t \\left(\\varepsilon + 2\\right)}\\right) e^{- \\varepsilon t + \\varepsilon - t + 1 - \\frac{t}{\\varepsilon} + \\frac{1}{\\varepsilon}}}{160 \\varepsilon^{7} \\left(- e^{\\frac{1}{\\varepsilon}} + e^{\\varepsilon + 2}\\right)}$"
      ],
      "text/plain": [
       "3*(-\\varepsilon**14*exp(t/\\varepsilon) - 7*\\varepsilon**13*exp(t/\\varepsilon) - 21*\\varepsilon**12*exp(t/\\varepsilon) - 35*\\varepsilon**11*exp(t/\\varepsilon) - 35*\\varepsilon**10*exp(t/\\varepsilon) - 21*\\varepsilon**9*exp(t/\\varepsilon) - 7*\\varepsilon**8*exp(t/\\varepsilon) - \\varepsilon**7*exp(t/\\varepsilon) - \\varepsilon**7*exp(t*(\\varepsilon + 2)) + 7*\\varepsilon**6*exp(t*(\\varepsilon + 2)) - 21*\\varepsilon**5*exp(t*(\\varepsilon + 2)) + 35*\\varepsilon**4*exp(t*(\\varepsilon + 2)) - 35*\\varepsilon**3*exp(t*(\\varepsilon + 2)) + 21*\\varepsilon**2*exp(t*(\\varepsilon + 2)) - 7*\\varepsilon*exp(t*(\\varepsilon + 2)) + exp(t*(\\varepsilon + 2)))*exp(-\\varepsilon*t + \\varepsilon - t + 1 - t/\\varepsilon + 1/\\varepsilon)/(160*\\varepsilon**7*(-exp(1/\\varepsilon) + exp(\\varepsilon + 2)))"
      ]
     },
     "execution_count": 86,
     "metadata": {},
     "output_type": "execute_result"
    }
   ],
   "source": [
    "f2[5].subs(sol).expand().simplify()"
   ]
  },
  {
   "cell_type": "code",
   "execution_count": 87,
   "id": "1773bb4f",
   "metadata": {},
   "outputs": [
    {
     "name": "stdout",
     "output_type": "stream",
     "text": [
      "\\frac{3 \\left(- \\varepsilon^{14} e^{\\frac{t}{\\varepsilon}} - 7 \\varepsilon^{13} e^{\\frac{t}{\\varepsilon}} - 21 \\varepsilon^{12} e^{\\frac{t}{\\varepsilon}} - 35 \\varepsilon^{11} e^{\\frac{t}{\\varepsilon}} - 35 \\varepsilon^{10} e^{\\frac{t}{\\varepsilon}} - 21 \\varepsilon^{9} e^{\\frac{t}{\\varepsilon}} - 7 \\varepsilon^{8} e^{\\frac{t}{\\varepsilon}} - \\varepsilon^{7} e^{\\frac{t}{\\varepsilon}} - \\varepsilon^{7} e^{t \\left(\\varepsilon + 2\\right)} + 7 \\varepsilon^{6} e^{t \\left(\\varepsilon + 2\\right)} - 21 \\varepsilon^{5} e^{t \\left(\\varepsilon + 2\\right)} + 35 \\varepsilon^{4} e^{t \\left(\\varepsilon + 2\\right)} - 35 \\varepsilon^{3} e^{t \\left(\\varepsilon + 2\\right)} + 21 \\varepsilon^{2} e^{t \\left(\\varepsilon + 2\\right)} - 7 \\varepsilon e^{t \\left(\\varepsilon + 2\\right)} + e^{t \\left(\\varepsilon + 2\\right)}\\right) e^{- \\varepsilon t + \\varepsilon - t + 1 - \\frac{t}{\\varepsilon} + \\frac{1}{\\varepsilon}}}{160 \\varepsilon^{7} \\left(- e^{\\frac{1}{\\varepsilon}} + e^{\\varepsilon + 2}\\right)}\n"
     ]
    }
   ],
   "source": [
    "print(latex(f2[5].subs(sol).expand().simplify()))"
   ]
  },
  {
   "cell_type": "code",
   "execution_count": 88,
   "id": "dccf40cf",
   "metadata": {},
   "outputs": [
    {
     "name": "stdout",
     "output_type": "stream",
     "text": [
      "112.93402791023254\n"
     ]
    }
   ],
   "source": [
    "end = time.time()\n",
    "print(end - start)"
   ]
  },
  {
   "cell_type": "code",
   "execution_count": null,
   "id": "6117fde3",
   "metadata": {},
   "outputs": [],
   "source": []
  }
 ],
 "metadata": {
  "kernelspec": {
   "display_name": "Python 3 (ipykernel)",
   "language": "python",
   "name": "python3"
  },
  "language_info": {
   "codemirror_mode": {
    "name": "ipython",
    "version": 3
   },
   "file_extension": ".py",
   "mimetype": "text/x-python",
   "name": "python",
   "nbconvert_exporter": "python",
   "pygments_lexer": "ipython3",
   "version": "3.10.6"
  }
 },
 "nbformat": 4,
 "nbformat_minor": 5
}
