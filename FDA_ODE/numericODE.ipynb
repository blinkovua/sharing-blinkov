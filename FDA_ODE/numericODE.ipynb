{
 "cells": [
  {
   "cell_type": "code",
   "execution_count": 1,
   "id": "bcfece05",
   "metadata": {},
   "outputs": [],
   "source": [
    "import time\n",
    "from pprint import pprint\n",
    "# from math import round\n",
    "from multiprocessing import Pool\n",
    "\n",
    "from IPython.display import display\n",
    "\n",
    "from pylab import *"
   ]
  },
  {
   "cell_type": "code",
   "execution_count": 2,
   "id": "aa275b93",
   "metadata": {},
   "outputs": [],
   "source": [
    "def GaussLegendre2(f, args, y, h):\n",
    "    y1 = y.copy()\n",
    "    for i in range(10):\n",
    "        k1 = f(y1/2 + y/2, args)\n",
    "        y1 = y + h*k1\n",
    "    return y1\n",
    "\n",
    "def CrankNicolson2(f, args, y, h):\n",
    "    y1 = y.copy()\n",
    "    for i in range(10):\n",
    "        k1 = f(y, args)\n",
    "        k2 = f(y1, args)\n",
    "        y1 = y + h*(k1 + k2)/2\n",
    "    return y1\n",
    "\n",
    "def RK4(f, args, y, h):\n",
    "    k1 = f(y, args)\n",
    "    k2 = f(y + h/2*k1, args)\n",
    "    k3 = f(y + h/2*k2, args)\n",
    "    k4 = f(y + h*k3, args)\n",
    "    return y + h*(k1 + 2*k2 + 2*k3 + k4)/6\n",
    "\n",
    "def DormandPrince5(f, args, y, h):\n",
    "    k1 = f(y, args)\n",
    "    k2 = f(y + h*k1/5, args)\n",
    "    k3 = f(y + h*(k1*3/40 + k2*9/40), args)\n",
    "    k4 = f(y + h*(k1*44/45 - k2*56/15 + k3*32/9), args)\n",
    "    k5 = f(y + h*(k1*19372/6561 - k2*25360/2187 + k3*64448/6561 - k4*212/729), args)\n",
    "    k6 = f(y + h*(k1*9017/3168 - k2*355/33 + k3*46732/5247 + k4*49/176 - k5*5103/18656), args)\n",
    "    return y + h*(k1*35/384 + k3*500/1113 + k4*125/192 - k5*2187/6784 + k6*11/84)"
   ]
  },
  {
   "cell_type": "code",
   "execution_count": 3,
   "id": "c74fafef",
   "metadata": {},
   "outputs": [],
   "source": [
    "def AdamsBashforth4(g, args, y, h, i):\n",
    "    return y[i] + h*(-3*g(y[i-3], args)/8 + 37*g(y[i-2], args)/24 -\\\n",
    "            59*g(y[i-1], args)/24 + 55*g(y[i], args)/24)\n",
    "    \n",
    "def AdamsBashforth5(g, args, y, h, i):\n",
    "    return y[i] + h*(251*g(y[i-4], args)/720 - 637*g(y[i-3], args)/360 + 109*g(y[i-2], args)/30\\\n",
    "            - 1387*g(y[i-1], args)/360 + 1901*g(y[i], args)/720)\n",
    "    \n",
    "def AdamsMoulton4(g, args, y, h, i):\n",
    "    y1 = AdamsBashforth4(g, args, y, h, i-1)\n",
    "    for k in range(10):\n",
    "        y1 = y[i-1] + h*(g(y[i-3], args)/24 - 5*g(y[i-2], args)/24 +\\\n",
    "            19*g(y[i-1], args)/24 + 3*g(y1, args)/8)\n",
    "    return y1\n",
    "    \n",
    "def AdamsMoulton5(g, args, y, h, i):\n",
    "    y1 = AdamsBashforth5(g, args, y, h, i-1)\n",
    "    for k in range(10):\n",
    "        y1 = y[i-1] + h*(-19*g(y[i-4], args)/720 + 53*g(y[i-3], args)/360 - 11*g(y[i-2], args)/30\\\n",
    "            + 323*g(y[i-1], args)/360 + 251*g(y1, args)/720)\n",
    "    return y1"
   ]
  },
  {
   "cell_type": "code",
   "execution_count": null,
   "id": "b4187e6d",
   "metadata": {},
   "outputs": [],
   "source": []
  }
 ],
 "metadata": {
  "kernelspec": {
   "display_name": "Python 3 (ipykernel)",
   "language": "python",
   "name": "python3"
  },
  "language_info": {
   "codemirror_mode": {
    "name": "ipython",
    "version": 3
   },
   "file_extension": ".py",
   "mimetype": "text/x-python",
   "name": "python",
   "nbconvert_exporter": "python",
   "pygments_lexer": "ipython3",
   "version": "3.10.6"
  }
 },
 "nbformat": 4,
 "nbformat_minor": 5
}
