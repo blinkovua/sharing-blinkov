{
 "cells": [
  {
   "cell_type": "code",
   "execution_count": 1,
   "metadata": {},
   "outputs": [],
   "source": [
    "from IPython.display import display\n",
    "\n",
    "from sympy import *\n",
    "\n",
    "from monom import *"
   ]
  },
  {
   "cell_type": "code",
   "execution_count": 2,
   "metadata": {},
   "outputs": [],
   "source": [
    "t, x, y, tau, h, Re, p0 = symbols(r't, x, y, tau, h, Re, p_0', real=True)\n",
    "u, v, p = (f(t, x, y) for f in symbols('u, v, p', cls=Function))"
   ]
  },
  {
   "cell_type": "code",
   "execution_count": 15,
   "metadata": {},
   "outputs": [],
   "source": [
    "pda_f, pda_v = (u, v, p), (t, x, y)\n",
    "pda_n, pda_clp = 5, 3\n",
    "pda_p = Rational(0, 1), Rational(0, 1), Rational(0, 1)"
   ]
  },
  {
   "cell_type": "code",
   "execution_count": 16,
   "metadata": {},
   "outputs": [],
   "source": [
    "Monom.variables = 1 + len(pda_v)\n",
    "Monom.cmp = Monom.TOPdeglex\n",
    "Monom.zero = Monom(0 for v in range(Monom.variables))\n",
    "pda_fun = dict(zip(pda_f,\\\n",
    "             (Monom(0 if v else i for v in range(Monom.variables))\\\n",
    "              for i in range(1, 1 + len(pda_f)))))\n",
    "pda_var = dict(zip(pda_v,\\\n",
    "             (Monom(0 if v != i else 1 for v in range(Monom.variables))\\\n",
    "              for i in range(1, Monom.variables))))"
   ]
  },
  {
   "cell_type": "code",
   "execution_count": 18,
   "metadata": {},
   "outputs": [
    {
     "data": {
      "text/plain": [
       "{u(t, x, y): (1, 0, 0, 0), v(t, x, y): (2, 0, 0, 0), p(t, x, y): (3, 0, 0, 0)}"
      ]
     },
     "execution_count": 18,
     "metadata": {},
     "output_type": "execute_result"
    }
   ],
   "source": [
    "pda_fun"
   ]
  },
  {
   "cell_type": "code",
   "execution_count": 5,
   "metadata": {},
   "outputs": [],
   "source": [
    "def T(f, i1, j1, k1):\n",
    "    return sum(sum(sum(\\\n",
    "        diff(f, t, i, x, j, y, k)*(tau*(i1+pda_p[0]))**i \\\n",
    "                                   *(h*(j1+pda_p[1]))**j \\\n",
    "                                   *(h*(k1+pda_p[2]))**k/\\\n",
    "                 (factorial(i)*factorial(j)*factorial(k))\\\n",
    "        for i in range(pda_n-j-k))\\\n",
    "        for k in range(pda_n-j))  \\\n",
    "        for j in range(pda_n))"
   ]
  },
  {
   "cell_type": "code",
   "execution_count": 1,
   "metadata": {},
   "outputs": [
    {
     "ename": "NameError",
     "evalue": "name 'expand' is not defined",
     "output_type": "error",
     "traceback": [
      "\u001b[0;31m---------------------------------------------------------------------------\u001b[0m",
      "\u001b[0;31mNameError\u001b[0m                                 Traceback (most recent call last)",
      "\u001b[0;32m<ipython-input-1-79eeb1db7dc4>\u001b[0m in \u001b[0;36m<module>\u001b[0;34m\u001b[0m\n\u001b[0;32m----> 1\u001b[0;31m \u001b[0mexpand\u001b[0m\u001b[0;34m(\u001b[0m\u001b[0;34m(\u001b[0m\u001b[0mT\u001b[0m\u001b[0;34m(\u001b[0m\u001b[0mu\u001b[0m\u001b[0;34m,\u001b[0m \u001b[0;36m0\u001b[0m\u001b[0;34m,\u001b[0m \u001b[0;36m0\u001b[0m\u001b[0;34m,\u001b[0m \u001b[0;36m1\u001b[0m\u001b[0;34m)\u001b[0m\u001b[0;34m-\u001b[0m\u001b[0mT\u001b[0m\u001b[0;34m(\u001b[0m\u001b[0mu\u001b[0m\u001b[0;34m,\u001b[0m \u001b[0;36m0\u001b[0m\u001b[0;34m,\u001b[0m \u001b[0;36m0\u001b[0m\u001b[0;34m,\u001b[0m \u001b[0;34m-\u001b[0m\u001b[0;36m1\u001b[0m\u001b[0;34m)\u001b[0m\u001b[0;34m)\u001b[0m\u001b[0;34m/\u001b[0m\u001b[0;34m(\u001b[0m\u001b[0;36m2\u001b[0m\u001b[0;34m*\u001b[0m\u001b[0mh\u001b[0m\u001b[0;34m)\u001b[0m\u001b[0;34m)\u001b[0m\u001b[0;34m\u001b[0m\u001b[0;34m\u001b[0m\u001b[0m\n\u001b[0m",
      "\u001b[0;31mNameError\u001b[0m: name 'expand' is not defined"
     ]
    }
   ],
   "source": [
    "expand((T(u, 0, 0, 1)-T(u, 0, 0, -1))/(2*h))"
   ]
  },
  {
   "cell_type": "code",
   "execution_count": 7,
   "metadata": {},
   "outputs": [],
   "source": [
    "def clip(f):\n",
    "    f = f.expand()\n",
    "    return [f.coeff(tau, 0).coeff(h, 0),\\\n",
    "            f.coeff(h, 0).coeff(tau, 1),\\\n",
    "            f.coeff(tau, 0).coeff(h, 2)]\n",
    "\n",
    "def df2m(a):\n",
    "    assert a.func == Derivative\n",
    "    m = pda_fun[a.args[0]]\n",
    "    for xi in a.args[1:]:\n",
    "        if isinstance(xi, Symbol):\n",
    "            m = m*pda_var[xi]\n",
    "        else:\n",
    "            m = m*pda_var[xi[0]]**xi[1]\n",
    "    return m\n",
    "\n",
    "def m2df(m):\n",
    "    r = pda_f[m[0]-1]\n",
    "    for i in range(1, len(m)):\n",
    "        r = r.diff(pda_v[i-1], m[i])\n",
    "    return r\n",
    "\n",
    "def findDiv(a, d):\n",
    "    r = None\n",
    "    def find(a, r):\n",
    "        if a.args:\n",
    "            if a.func == Derivative and a.args[0] in pda_fun:\n",
    "                m = df2m(a)\n",
    "                if m.divisible(d) and (not r or m.cmp(r) > 0):\n",
    "                    r = m\n",
    "            else:\n",
    "                for s in a.args:\n",
    "                    r = find(s, r)\n",
    "        return r\n",
    "    return find(a, r)\n",
    "\n",
    "def reduction(f1, f2, m, c, shift):\n",
    "    assert shift < pda_clp\n",
    "    r = [f1[i] for i in range(shift)]\n",
    "    if not m:\n",
    "        for i in range(shift, pda_clp):\n",
    "            r.append(expand(f1[i] - f2[i-shift]*c))\n",
    "    else:\n",
    "        for i in range(shift, pda_clp):\n",
    "            r.append(expand(f1[i] - f2[i-shift].diff(*m)*c))\n",
    "    return r\n",
    "\n",
    "def NF(f, df, G, head=False, trace=False):\n",
    "    assert len(df) == len(G)\n",
    "#     print(df2m(df[0]))\n",
    "    ms = [df2m(d) for d in df]\n",
    "    for i in range(0 if head else 1, pda_clp):\n",
    "        t = 0\n",
    "        if f[i]:\n",
    "            while True:\n",
    "                r = None\n",
    "                for l in range(len(ms)):\n",
    "                    r = findDiv(f[i], ms[l])\n",
    "                    if r:\n",
    "                        break\n",
    "                if not r: \n",
    "                    break\n",
    "                c, deg, m = 0, 7, m2df(r)\n",
    "                while c == 0:\n",
    "                    c = f[i].coeff(m, deg)\n",
    "                    deg -= 1\n",
    "                    assert deg >= 0\n",
    "#                 print(c, m, deg+1)\n",
    "                if deg:\n",
    "                    c *= m**deg\n",
    "                m = r/ms[l]\n",
    "                d = []\n",
    "                for k in range(len(pda_v)):\n",
    "                    if m[k+1] > 0:\n",
    "                        d.append(pda_v[k])\n",
    "                        if m[k+1] > 1:\n",
    "                            d.append(m[k+1])\n",
    "                if trace:\n",
    "                    print(\">\"*12)\n",
    "                    eq = Symbol(\"eq%d\" % (l+1), real=True)\n",
    "                    if d:\n",
    "                        display(Derivative(*tuple([eq] + d))*c*h**i)\n",
    "                    else:\n",
    "                        display(eq*c*h**i)\n",
    "                f = reduction(f, G[l], tuple(d), c/G[l][0].coeff(df[l]), i)\n",
    "                if trace:\n",
    "                    print(\"res =\")\n",
    "                    display(f)\n",
    "                    print(\"<\"*12)\n",
    "                t += 1\n",
    "#                 if t > 6: break\n",
    "    return f\n",
    "\n",
    "def compact(f):\n",
    "    def cmpct(a):\n",
    "        if not a.args:\n",
    "            return a\n",
    "        else:\n",
    "            if a in pda_fun:\n",
    "                return Symbol(\"%s\" % a.func, real=True)\n",
    "            elif a.func == Derivative and a.args[0] in pda_fun:\n",
    "                m = []\n",
    "                for xi in a.args[1:]:\n",
    "                    if isinstance(xi, Symbol):\n",
    "                        m.append(str(xi))\n",
    "                    else:\n",
    "                        m.append(str(xi[0])*xi[1])\n",
    "                return Symbol(\"%s_{%s}\" % (a.args[0].func, \"\".join(m)), real=True)\n",
    "            else:\n",
    "                return a.func(*tuple(cmpct(s) for s in a.args))\n",
    "    return cmpct(f)\n",
    "\n",
    "def prn(a):\n",
    "    display(compact(a[0]))\n",
    "    print(\"tau =>\")\n",
    "    display(compact(a[1]))\n",
    "    print(\"h^2 =>\")\n",
    "    display(compact(a[2]))"
   ]
  },
  {
   "cell_type": "code",
   "execution_count": 8,
   "metadata": {},
   "outputs": [],
   "source": [
    "def Dt(a):\n",
    "    return (T(a, 1, 0, 0) - T(a, 0, 0, 0))/(tau)\n",
    "def Dx(a):\n",
    "    return (T(a, 0, 1, 0) - T(a, 0, -1, 0))/(2*h)\n",
    "def Dy(a):\n",
    "    return (T(a, 0, 0, 1) - T(a, 0, 0, -1))/(2*h)\n",
    "\n",
    "def DD(a):\n",
    "    return (T(a, 0, 1, 0) + T(a, 0, 0, 1) +\\\n",
    "                -4*T(a, 0, 0, 0) +\\\n",
    "           T(a, 0, -1, 0) + T(a, 0, 0, -1))/h**2\n",
    "\n",
    "def DD2(a):\n",
    "    return (T(a, 0, 2, 0) + T(a, 0, 0, 2) +\\\n",
    "                -4*T(a, 0, 0, 0) +\\\n",
    "           T(a, 0, -2, 0) + T(a, 0, 0, -2))/(4*h**2)\n",
    "\n",
    "def Dxx(a):\n",
    "    return (T(a, 0, 2, 0) - 2*T(a, 0, 0, 0) + T(a, 0, -2, 0))/(4*h**2)\n",
    "def Dxy(a):\n",
    "    return (T(a, 0, 1, 1) - T(a, 0, 1, -1) -\\\n",
    "            T(a, 0, -1, 1) + T(a, 0, -1, -1))/(4*h**2)\n",
    "def Dyy(a):\n",
    "    return (T(a, 0, 0, 2) - 2*T(a, 0, 0, 0) + T(a, 0, 0, -2))/(4*h**2)\n",
    "\n",
    "def DDx(a):\n",
    "    return ((T(a, 0, 2, 0) + T(a, 0, 1, 1) -\\\n",
    "             4*T(a, 0, 1, 0) + T(a, 0, 1, -1)) -\\\n",
    "            (T(a, 0, -1, 1) - 4*T(a, 0, -1, 0) +\\\n",
    "             T(a, 0, -2, 0) + T(a, 0, -1, -1)))/(2*h**3)\n",
    "def DDy(a):\n",
    "    return ((T(a, 0, 1, 1) + T(a, 0, 0, 2) -\\\n",
    "             4*T(a, 0, 0, 1) + T(a, 0, -1, 1)) -\\\n",
    "            (T(a, 0, 1, -1) - 4*T(a, 0, 0, -1) +\\\n",
    "             T(a, 0, -1, -1) + T(a, 0, 0, -2)))/(2*h**3)"
   ]
  },
  {
   "cell_type": "markdown",
   "metadata": {},
   "source": [
    "**Taylor decaying**\n",
    "\n",
    "This is a classical Navier-Stokes problem, in general used to state the con-\n",
    "vergence order of the considered formulae. Exact solution is\n",
    "\\begin{equation} \\label{eq1}\n",
    "\\left\\lbrace \n",
    "\\begin{array}{l}\n",
    " u = -e^{-2t/\\mathrm{Re}} \\cos(x) \\sin(y) ,\\\\\n",
    " v =  e^{-2t/\\mathrm{Re}} \\sin(x) \\cos(y) ,\\\\\n",
    " p = -e^{-4t/\\mathrm{Re}} (\\cos(2x) + \\cos(2y))/4 ,\n",
    "\\end{array}\n",
    "\\right. \n",
    "\\end{equation} "
   ]
  },
  {
   "cell_type": "code",
   "execution_count": 9,
   "metadata": {},
   "outputs": [],
   "source": [
    "TD = {u: -exp(-2*t/Re)*cos(x)*sin(y),\\\n",
    "      v:  exp(-2*t/Re)*sin(x)*cos(y),\\\n",
    "      p: -exp(-4*t/Re)*(cos(2*x)+cos(2*y))/4}"
   ]
  },
  {
   "cell_type": "markdown",
   "metadata": {},
   "source": [
    "**Kovasznay flow**\n",
    "\n",
    "This is a classical Navier-Stokes problem, in general used to state the con-\n",
    "vergence order of the considered formulae. Exact solution is\n",
    "\\begin{equation} \\label{eq2}\n",
    "\\left\\lbrace \n",
    "\\begin{array}{l}\n",
    " u = 1-e^{\\lambda x} \\cos(2 \\pi y) ,\\\\\n",
    " v = \\lambda/{2\\pi} e^{\\lambda x} \\sin(2 \\pi y) ,\\\\\n",
    " p = p_0-\\frac{1}{2}e^{2\\lambda x} ,\n",
    "\\end{array}\n",
    "\\right. \n",
    "\\end{equation}\n",
    "where $\\lambda = \\mathrm{Re}/2-\\sqrt{\\mathrm{Re}^2/4+4\\pi^2}$."
   ]
  },
  {
   "cell_type": "code",
   "execution_count": 10,
   "metadata": {},
   "outputs": [],
   "source": [
    "Lambda = Re/2 - sqrt(Re**2/4 + 4*pi**2)\n",
    "KF = {u: 1 - exp(Lambda*x)*cos(2*pi*y),\\\n",
    "      v: Lambda/(2*pi)*exp(Lambda*x)*sin(2*pi*y),\\\n",
    "      p: p0 - exp(2*Lambda*x)/2}"
   ]
  },
  {
   "cell_type": "markdown",
   "metadata": {},
   "source": [
    "# FDA1"
   ]
  },
  {
   "cell_type": "markdown",
   "metadata": {},
   "source": [
    "Amodio Pierluigi, Blinkov Yuri, Gerdt Vladimir, La Scala Roberto Algebraic construction and numerical behavior of a new s-consistent difference scheme for the 2D Navier–Stokes equations. Applied Mathematics and Computation, 2017, vol. 314, pp. 408-421. DOI: 10.1016/j.amc.2017.06.037 Available at: http://www.sciencedirect.com/science/article/pii/S0096300317304502\n",
    "\n",
    "page 415\n",
    "\n",
    "\\begin{equation}\n",
    "\\left\\lbrace \n",
    "\\begin{array}{rl}\n",
    "F^1:& \\operatorname{D_1}(u) + \\operatorname{D_2}(v)=0 ,\\\\[4pt]\n",
    "F^2:& \\operatorname{D_t}(u) + \\operatorname{D_1}(u^2)+\n",
    "\\operatorname{D_2}(vu) + \n",
    "\\operatorname{D_1}(p) - \\frac{1}{\\mathrm{Re}} \\tilde{\\Delta} (u)\n",
    "=0 ,\\\\[4pt]\n",
    "F^3:& \\operatorname{D_t}(v) + \\operatorname{D_1}(uv)+\n",
    "\\operatorname{D_2}(v^2) +\n",
    "\\operatorname{D_2}(p) - \\frac{1}{\\mathrm{Re}} \\tilde{\\Delta} (v)\n",
    "=0 ,\\\\[4pt]\n",
    "F^4:& \\left(\\operatorname{D_1}^2 + \\operatorname{D_2}^2\\right)(p) + \\operatorname{D_1}^2(u^2) + \\operatorname{D_2}^2(v^2) + {} \\\\\n",
    "&{} + 2\\operatorname{D_1}\\operatorname{D_2}(uv)\n",
    "- \\frac{1}{\\mathrm{Re}}\\tilde{\\Delta}(F^1)\n",
    "=0 .\n",
    "\\end{array}\n",
    "\\right. \n",
    "\\end{equation}"
   ]
  },
  {
   "cell_type": "code",
   "execution_count": 11,
   "metadata": {},
   "outputs": [],
   "source": [
    "F1 = clip(Dx(u) + Dy(v))\n",
    "F2 = clip(Dt(u) + Dx(u**2) + Dy(v*u) +  Dx(p) - DD(u)/Re)\n",
    "F3 = clip(Dt(v) + Dx(u*v) +  Dy(v**2) + Dy(p) - DD(v)/Re)\n",
    "F4 = clip(DD2(p) + Dxx(u**2) + Dyy(v**2) + 2*Dxy(u*v) - (DDx(u) + DDy(v))/Re)"
   ]
  },
  {
   "cell_type": "code",
   "execution_count": 12,
   "metadata": {},
   "outputs": [
    {
     "data": {
      "text/plain": [
       "[Derivative(u(t, x, y), x) + Derivative(v(t, x, y), y),\n",
       " 0,\n",
       " Derivative(u(t, x, y), (x, 3))/6 + Derivative(v(t, x, y), (y, 3))/6]"
      ]
     },
     "execution_count": 12,
     "metadata": {},
     "output_type": "execute_result"
    }
   ],
   "source": [
    "F1"
   ]
  },
  {
   "cell_type": "code",
   "execution_count": 13,
   "metadata": {},
   "outputs": [
    {
     "data": {
      "text/plain": [
       "[2*u(t, x, y)*Derivative(u(t, x, y), x) + u(t, x, y)*Derivative(v(t, x, y), y) + v(t, x, y)*Derivative(u(t, x, y), y) + Derivative(p(t, x, y), x) + Derivative(u(t, x, y), t) - Derivative(u(t, x, y), (x, 2))/Re - Derivative(u(t, x, y), (y, 2))/Re,\n",
       " Derivative(u(t, x, y), (t, 2))/2,\n",
       " u(t, x, y)*Derivative(u(t, x, y), (x, 3))/3 + u(t, x, y)*Derivative(v(t, x, y), (y, 3))/6 + v(t, x, y)*Derivative(u(t, x, y), (y, 3))/6 + Derivative(p(t, x, y), (x, 3))/6 + Derivative(u(t, x, y), x)*Derivative(u(t, x, y), (x, 2)) + Derivative(u(t, x, y), y)*Derivative(v(t, x, y), (y, 2))/2 + Derivative(u(t, x, y), (y, 2))*Derivative(v(t, x, y), y)/2 - Derivative(u(t, x, y), (x, 4))/(12*Re) - Derivative(u(t, x, y), (y, 4))/(12*Re)]"
      ]
     },
     "execution_count": 13,
     "metadata": {},
     "output_type": "execute_result"
    }
   ],
   "source": [
    "F2"
   ]
  },
  {
   "cell_type": "code",
   "execution_count": 14,
   "metadata": {},
   "outputs": [
    {
     "data": {
      "text/plain": [
       "[u(t, x, y)*Derivative(v(t, x, y), x) + v(t, x, y)*Derivative(u(t, x, y), x) + 2*v(t, x, y)*Derivative(v(t, x, y), y) + Derivative(p(t, x, y), y) + Derivative(v(t, x, y), t) - Derivative(v(t, x, y), (x, 2))/Re - Derivative(v(t, x, y), (y, 2))/Re,\n",
       " Derivative(v(t, x, y), (t, 2))/2,\n",
       " u(t, x, y)*Derivative(v(t, x, y), (x, 3))/6 + v(t, x, y)*Derivative(u(t, x, y), (x, 3))/6 + v(t, x, y)*Derivative(v(t, x, y), (y, 3))/3 + Derivative(p(t, x, y), (y, 3))/6 + Derivative(u(t, x, y), x)*Derivative(v(t, x, y), (x, 2))/2 + Derivative(u(t, x, y), (x, 2))*Derivative(v(t, x, y), x)/2 + Derivative(v(t, x, y), y)*Derivative(v(t, x, y), (y, 2)) - Derivative(v(t, x, y), (x, 4))/(12*Re) - Derivative(v(t, x, y), (y, 4))/(12*Re)]"
      ]
     },
     "execution_count": 14,
     "metadata": {},
     "output_type": "execute_result"
    }
   ],
   "source": [
    "F3"
   ]
  },
  {
   "cell_type": "code",
   "execution_count": 15,
   "metadata": {},
   "outputs": [
    {
     "data": {
      "text/plain": [
       "[2*u(t, x, y)*Derivative(u(t, x, y), (x, 2)) + 2*u(t, x, y)*Derivative(v(t, x, y), x, y) + 2*v(t, x, y)*Derivative(v(t, x, y), (y, 2)) + 2*v(t, x, y)*Derivative(u(t, x, y), x, y) + Derivative(p(t, x, y), (x, 2)) + Derivative(p(t, x, y), (y, 2)) + 2*Derivative(u(t, x, y), x)**2 + 2*Derivative(u(t, x, y), x)*Derivative(v(t, x, y), y) + 2*Derivative(u(t, x, y), y)*Derivative(v(t, x, y), x) + 2*Derivative(v(t, x, y), y)**2 - Derivative(u(t, x, y), (x, 3))/Re - Derivative(v(t, x, y), (y, 3))/Re - Derivative(u(t, x, y), x, (y, 2))/Re - Derivative(v(t, x, y), (x, 2), y)/Re,\n",
       " 0,\n",
       " 2*u(t, x, y)*Derivative(u(t, x, y), (x, 4))/3 + u(t, x, y)*Derivative(v(t, x, y), x, (y, 3))/3 + u(t, x, y)*Derivative(v(t, x, y), (x, 3), y)/3 + 2*v(t, x, y)*Derivative(v(t, x, y), (y, 4))/3 + v(t, x, y)*Derivative(u(t, x, y), x, (y, 3))/3 + v(t, x, y)*Derivative(u(t, x, y), (x, 3), y)/3 + Derivative(p(t, x, y), (x, 4))/3 + Derivative(p(t, x, y), (y, 4))/3 + 8*Derivative(u(t, x, y), x)*Derivative(u(t, x, y), (x, 3))/3 + Derivative(u(t, x, y), x)*Derivative(v(t, x, y), (y, 3))/3 + Derivative(u(t, x, y), x)*Derivative(v(t, x, y), (x, 2), y) + 2*Derivative(u(t, x, y), (x, 2))**2 + Derivative(u(t, x, y), (x, 2))*Derivative(v(t, x, y), x, y) + Derivative(u(t, x, y), (x, 3))*Derivative(v(t, x, y), y)/3 + Derivative(u(t, x, y), y)*Derivative(v(t, x, y), (x, 3))/3 + Derivative(u(t, x, y), y)*Derivative(v(t, x, y), x, (y, 2)) + Derivative(u(t, x, y), (y, 2))*Derivative(v(t, x, y), x, y) + Derivative(u(t, x, y), (y, 3))*Derivative(v(t, x, y), x)/3 + Derivative(v(t, x, y), x)*Derivative(u(t, x, y), (x, 2), y) + Derivative(v(t, x, y), (x, 2))*Derivative(u(t, x, y), x, y) + 8*Derivative(v(t, x, y), y)*Derivative(v(t, x, y), (y, 3))/3 + Derivative(v(t, x, y), y)*Derivative(u(t, x, y), x, (y, 2)) + 2*Derivative(v(t, x, y), (y, 2))**2 + Derivative(v(t, x, y), (y, 2))*Derivative(u(t, x, y), x, y)]"
      ]
     },
     "execution_count": 15,
     "metadata": {},
     "output_type": "execute_result"
    }
   ],
   "source": [
    "F4"
   ]
  },
  {
   "cell_type": "code",
   "execution_count": 16,
   "metadata": {},
   "outputs": [
    {
     "data": {
      "text/latex": [
       "$\\displaystyle p_{xx} + p_{yy} + 2 u_{y} v_{x} + 2 v_{y}^{2}$"
      ],
      "text/plain": [
       "p_{xx} + p_{yy} + 2*u_{y}*v_{x} + 2*v_{y}**2"
      ]
     },
     "metadata": {},
     "output_type": "display_data"
    },
    {
     "name": "stdout",
     "output_type": "stream",
     "text": [
      "tau =>\n"
     ]
    },
    {
     "data": {
      "text/latex": [
       "$\\displaystyle 0$"
      ],
      "text/plain": [
       "0"
      ]
     },
     "metadata": {},
     "output_type": "display_data"
    },
    {
     "name": "stdout",
     "output_type": "stream",
     "text": [
      "h^2 =>\n"
     ]
    },
    {
     "data": {
      "text/latex": [
       "$\\displaystyle \\frac{4 Re^{2} p_{x} v v_{x}}{3} - \\frac{Re^{2} p_{yy} u^{2}}{6} - \\frac{2 Re^{2} p_{y} u u_{y}}{3} - \\frac{Re^{2} u^{3} v_{xy}}{6} - \\frac{5 Re^{2} u^{2} u_{y} v_{x}}{6} - \\frac{Re^{2} u^{2} v v_{yy}}{6} - \\frac{Re^{2} u^{2} v_{ty}}{6} - \\frac{Re^{2} u^{2} v_{y}^{2}}{6} - \\frac{2 Re^{2} u u_{y} v v_{y}}{3} - \\frac{2 Re^{2} u u_{y} v_{t}}{3} - \\frac{4 Re^{2} u v v_{x} v_{y}}{3} + \\frac{4 Re^{2} u_{t} v v_{x}}{3} + \\frac{4 Re^{2} u_{y} v^{2} v_{x}}{3} - \\frac{Re p_{tyy}}{6} - \\frac{Re p_{xyy} u}{6} - \\frac{Re p_{xy} u_{y}}{2} + \\frac{3 Re p_{xy} v_{x}}{2} + \\frac{7 Re p_{x} v_{xy}}{2} - \\frac{Re p_{yyy} v}{6} - \\frac{Re p_{yy} v_{y}}{3} + \\frac{Re p_{y} v_{yy}}{2} + \\frac{Re u^{2} v_{yyy}}{6} + \\frac{2 Re u u_{y} v_{yy}}{3} - \\frac{Re u v v_{xyy}}{3} - \\frac{Re u v_{txy}}{3} - 4 Re u v_{xy} v_{y} - Re u v_{x} v_{yy} + \\frac{4 Re u_{ty} v_{x}}{3} + \\frac{10 Re u_{t} v_{xy}}{3} + \\frac{8 Re u_{y} v v_{xy}}{3} - \\frac{2 Re u_{y} v_{tx}}{3} - \\frac{Re u_{y} v_{x} v_{y}}{3} - \\frac{Re v^{2} v_{yyy}}{6} - \\frac{Re v v_{tyy}}{3} + \\frac{4 Re v v_{xy} v_{x}}{3} - \\frac{Re v v_{yy} v_{y}}{3} - \\frac{Re v_{tty}}{6} - \\frac{2 Re v_{ty} v_{y}}{3} + \\frac{Re v_{t} v_{yy}}{3} - \\frac{Re v_{y}^{3}}{3} + p_{yyyy} + \\frac{u v_{xyyy}}{3} + 3 u_{y} v_{xyy} + \\frac{v v_{yyyy}}{3} + \\frac{v_{tyyy}}{3} + v_{xyy} v_{x} + 3 v_{xy}^{2} + \\frac{14 v_{yyy} v_{y}}{3} + 3 v_{yy}^{2}$"
      ],
      "text/plain": [
       "4*Re**2*p_{x}*v*v_{x}/3 - Re**2*p_{yy}*u**2/6 - 2*Re**2*p_{y}*u*u_{y}/3 - Re**2*u**3*v_{xy}/6 - 5*Re**2*u**2*u_{y}*v_{x}/6 - Re**2*u**2*v*v_{yy}/6 - Re**2*u**2*v_{ty}/6 - Re**2*u**2*v_{y}**2/6 - 2*Re**2*u*u_{y}*v*v_{y}/3 - 2*Re**2*u*u_{y}*v_{t}/3 - 4*Re**2*u*v*v_{x}*v_{y}/3 + 4*Re**2*u_{t}*v*v_{x}/3 + 4*Re**2*u_{y}*v**2*v_{x}/3 - Re*p_{tyy}/6 - Re*p_{xyy}*u/6 - Re*p_{xy}*u_{y}/2 + 3*Re*p_{xy}*v_{x}/2 + 7*Re*p_{x}*v_{xy}/2 - Re*p_{yyy}*v/6 - Re*p_{yy}*v_{y}/3 + Re*p_{y}*v_{yy}/2 + Re*u**2*v_{yyy}/6 + 2*Re*u*u_{y}*v_{yy}/3 - Re*u*v*v_{xyy}/3 - Re*u*v_{txy}/3 - 4*Re*u*v_{xy}*v_{y} - Re*u*v_{x}*v_{yy} + 4*Re*u_{ty}*v_{x}/3 + 10*Re*u_{t}*v_{xy}/3 + 8*Re*u_{y}*v*v_{xy}/3 - 2*Re*u_{y}*v_{tx}/3 - Re*u_{y}*v_{x}*v_{y}/3 - Re*v**2*v_{yyy}/6 - Re*v*v_{tyy}/3 + 4*Re*v*v_{xy}*v_{x}/3 - Re*v*v_{yy}*v_{y}/3 - Re*v_{tty}/6 - 2*Re*v_{ty}*v_{y}/3 + Re*v_{t}*v_{yy}/3 - Re*v_{y}**3/3 + p_{yyyy} + u*v_{xyyy}/3 + 3*u_{y}*v_{xyy} + v*v_{yyyy}/3 + v_{tyyy}/3 + v_{xyy}*v_{x} + 3*v_{xy}**2 + 14*v_{yyy}*v_{y}/3 + 3*v_{yy}**2"
      ]
     },
     "metadata": {},
     "output_type": "display_data"
    }
   ],
   "source": [
    "f4 = NF(F4, [u.diff(x), u.diff(y, 2), v.diff(x, 2)], [F1, F2, F3], head=True)\n",
    "f4 = NF(f4, [u.diff(x), u.diff(y, 2), v.diff(x, 2), p.diff(x, 2)], [F1, F2, F3, f4])\n",
    "prn(f4)"
   ]
  },
  {
   "cell_type": "code",
   "execution_count": 17,
   "metadata": {},
   "outputs": [
    {
     "data": {
      "text/latex": [
       "$\\displaystyle 0$"
      ],
      "text/plain": [
       "0"
      ]
     },
     "metadata": {},
     "output_type": "display_data"
    },
    {
     "name": "stdout",
     "output_type": "stream",
     "text": [
      "tau =>\n"
     ]
    },
    {
     "data": {
      "text/latex": [
       "$\\displaystyle 0$"
      ],
      "text/plain": [
       "0"
      ]
     },
     "metadata": {},
     "output_type": "display_data"
    },
    {
     "name": "stdout",
     "output_type": "stream",
     "text": [
      "h^2 =>\n"
     ]
    },
    {
     "data": {
      "text/latex": [
       "$\\displaystyle 0$"
      ],
      "text/plain": [
       "0"
      ]
     },
     "metadata": {},
     "output_type": "display_data"
    }
   ],
   "source": [
    "prn([f.subs(TD).doit().simplify() for f in f4])"
   ]
  },
  {
   "cell_type": "code",
   "execution_count": 18,
   "metadata": {},
   "outputs": [
    {
     "data": {
      "text/latex": [
       "$\\displaystyle u_{x} + v_{y}$"
      ],
      "text/plain": [
       "u_{x} + v_{y}"
      ]
     },
     "metadata": {},
     "output_type": "display_data"
    },
    {
     "name": "stdout",
     "output_type": "stream",
     "text": [
      "tau =>\n"
     ]
    },
    {
     "data": {
      "text/latex": [
       "$\\displaystyle 0$"
      ],
      "text/plain": [
       "0"
      ]
     },
     "metadata": {},
     "output_type": "display_data"
    },
    {
     "name": "stdout",
     "output_type": "stream",
     "text": [
      "h^2 =>\n"
     ]
    },
    {
     "data": {
      "text/latex": [
       "$\\displaystyle - \\frac{Re p_{yy}}{6} - \\frac{Re u v_{xy}}{6} - \\frac{Re u_{y} v_{x}}{6} - \\frac{Re v v_{yy}}{6} - \\frac{Re v_{ty}}{6} - \\frac{Re v_{y}^{2}}{6} + \\frac{v_{yyy}}{3}$"
      ],
      "text/plain": [
       "-Re*p_{yy}/6 - Re*u*v_{xy}/6 - Re*u_{y}*v_{x}/6 - Re*v*v_{yy}/6 - Re*v_{ty}/6 - Re*v_{y}**2/6 + v_{yyy}/3"
      ]
     },
     "metadata": {},
     "output_type": "display_data"
    }
   ],
   "source": [
    "f1 = NF(F1, [u.diff(y, 2), v.diff(x, 2), p.diff(x, 2)], [F2, F3, f4], head=True)\n",
    "f1 = NF(f1, [u.diff(x), u.diff(y, 2), v.diff(x, 2), p.diff(x, 2)], [f1, F2, F3, f4])\n",
    "prn(f1)"
   ]
  },
  {
   "cell_type": "code",
   "execution_count": 19,
   "metadata": {},
   "outputs": [
    {
     "data": {
      "text/latex": [
       "$\\displaystyle 0$"
      ],
      "text/plain": [
       "0"
      ]
     },
     "metadata": {},
     "output_type": "display_data"
    },
    {
     "name": "stdout",
     "output_type": "stream",
     "text": [
      "tau =>\n"
     ]
    },
    {
     "data": {
      "text/latex": [
       "$\\displaystyle 0$"
      ],
      "text/plain": [
       "0"
      ]
     },
     "metadata": {},
     "output_type": "display_data"
    },
    {
     "name": "stdout",
     "output_type": "stream",
     "text": [
      "h^2 =>\n"
     ]
    },
    {
     "data": {
      "text/latex": [
       "$\\displaystyle 0$"
      ],
      "text/plain": [
       "0"
      ]
     },
     "metadata": {},
     "output_type": "display_data"
    }
   ],
   "source": [
    "prn([f.subs(TD).doit().simplify() for f in f1])"
   ]
  },
  {
   "cell_type": "code",
   "execution_count": 20,
   "metadata": {},
   "outputs": [
    {
     "data": {
      "text/latex": [
       "$\\displaystyle p_{x} - u v_{y} + u_{t} + u_{y} v - \\frac{u_{yy}}{Re} + \\frac{v_{xy}}{Re}$"
      ],
      "text/plain": [
       "p_{x} - u*v_{y} + u_{t} + u_{y}*v - u_{yy}/Re + v_{xy}/Re"
      ]
     },
     "metadata": {},
     "output_type": "display_data"
    },
    {
     "name": "stdout",
     "output_type": "stream",
     "text": [
      "tau =>\n"
     ]
    },
    {
     "data": {
      "text/latex": [
       "$\\displaystyle \\frac{u_{tt}}{2}$"
      ],
      "text/plain": [
       "u_{tt}/2"
      ]
     },
     "metadata": {},
     "output_type": "display_data"
    },
    {
     "name": "stdout",
     "output_type": "stream",
     "text": [
      "h^2 =>\n"
     ]
    },
    {
     "data": {
      "text/latex": [
       "$\\displaystyle \\frac{Re^{2} p_{x} v^{2}}{12} - \\frac{Re^{2} u v^{2} v_{y}}{12} + \\frac{Re^{2} u_{t} v^{2}}{12} + \\frac{Re^{2} u_{y} v^{3}}{12} - \\frac{Re p_{tx}}{12} + \\frac{Re p_{xy} v}{12} + \\frac{5 Re p_{x} v_{y}}{12} - \\frac{Re p_{yy} u}{12} - \\frac{5 Re p_{y} u_{y}}{12} - \\frac{Re u^{2} v_{xy}}{12} - \\frac{Re u u_{y} v_{x}}{2} - \\frac{Re u v v_{yy}}{6} - \\frac{Re u v_{y}^{2}}{2} - \\frac{Re u_{tt}}{12} + \\frac{Re u_{t} v_{y}}{2} - \\frac{Re u_{y} v_{t}}{2} + \\frac{Re v^{2} v_{xy}}{12} - \\frac{p_{xyy}}{3} + u_{y} v_{yy} - \\frac{v_{txy}}{6} + \\frac{2 v_{xy} v_{y}}{3} + \\frac{v_{x} v_{yy}}{3} + \\frac{v_{xyyy}}{6 Re}$"
      ],
      "text/plain": [
       "Re**2*p_{x}*v**2/12 - Re**2*u*v**2*v_{y}/12 + Re**2*u_{t}*v**2/12 + Re**2*u_{y}*v**3/12 - Re*p_{tx}/12 + Re*p_{xy}*v/12 + 5*Re*p_{x}*v_{y}/12 - Re*p_{yy}*u/12 - 5*Re*p_{y}*u_{y}/12 - Re*u**2*v_{xy}/12 - Re*u*u_{y}*v_{x}/2 - Re*u*v*v_{yy}/6 - Re*u*v_{y}**2/2 - Re*u_{tt}/12 + Re*u_{t}*v_{y}/2 - Re*u_{y}*v_{t}/2 + Re*v**2*v_{xy}/12 - p_{xyy}/3 + u_{y}*v_{yy} - v_{txy}/6 + 2*v_{xy}*v_{y}/3 + v_{x}*v_{yy}/3 + v_{xyyy}/(6*Re)"
      ]
     },
     "metadata": {},
     "output_type": "display_data"
    }
   ],
   "source": [
    "f2 = NF(F2, [u.diff(x), v.diff(x, 2), p.diff(x, 2)], [f1, F3, f4], head=True)\n",
    "f2 = NF(f2, [u.diff(x), u.diff(y, 2), v.diff(x, 2), p.diff(x, 2)], [f1, f2, F3, f4])\n",
    "prn(f2)"
   ]
  },
  {
   "cell_type": "code",
   "execution_count": 21,
   "metadata": {},
   "outputs": [
    {
     "data": {
      "text/latex": [
       "$\\displaystyle 0$"
      ],
      "text/plain": [
       "0"
      ]
     },
     "metadata": {},
     "output_type": "display_data"
    },
    {
     "name": "stdout",
     "output_type": "stream",
     "text": [
      "tau =>\n"
     ]
    },
    {
     "data": {
      "text/latex": [
       "$\\displaystyle - \\frac{2 e^{- \\frac{2 t}{Re}} \\sin{\\left(y \\right)} \\cos{\\left(x \\right)}}{Re^{2}}$"
      ],
      "text/plain": [
       "-2*exp(-2*t/Re)*sin(y)*cos(x)/Re**2"
      ]
     },
     "metadata": {},
     "output_type": "display_data"
    },
    {
     "name": "stdout",
     "output_type": "stream",
     "text": [
      "h^2 =>\n"
     ]
    },
    {
     "data": {
      "text/latex": [
       "$\\displaystyle \\frac{e^{- \\frac{2 t}{Re}} \\sin{\\left(y \\right)} \\cos{\\left(x \\right)}}{6 Re}$"
      ],
      "text/plain": [
       "exp(-2*t/Re)*sin(y)*cos(x)/(6*Re)"
      ]
     },
     "metadata": {},
     "output_type": "display_data"
    }
   ],
   "source": [
    "prn([f.subs(TD).doit().simplify() for f in f2])"
   ]
  },
  {
   "cell_type": "code",
   "execution_count": 22,
   "metadata": {
    "scrolled": false
   },
   "outputs": [
    {
     "data": {
      "text/latex": [
       "$\\displaystyle p_{y} + u v_{x} + v v_{y} + v_{t} - \\frac{v_{xx}}{Re} - \\frac{v_{yy}}{Re}$"
      ],
      "text/plain": [
       "p_{y} + u*v_{x} + v*v_{y} + v_{t} - v_{xx}/Re - v_{yy}/Re"
      ]
     },
     "metadata": {},
     "output_type": "display_data"
    },
    {
     "name": "stdout",
     "output_type": "stream",
     "text": [
      "tau =>\n"
     ]
    },
    {
     "data": {
      "text/latex": [
       "$\\displaystyle \\frac{v_{tt}}{2}$"
      ],
      "text/plain": [
       "v_{tt}/2"
      ]
     },
     "metadata": {},
     "output_type": "display_data"
    },
    {
     "name": "stdout",
     "output_type": "stream",
     "text": [
      "h^2 =>\n"
     ]
    },
    {
     "data": {
      "text/latex": [
       "$\\displaystyle \\frac{Re^{2} p_{y} u^{2}}{12} + \\frac{Re^{2} u^{3} v_{x}}{12} + \\frac{Re^{2} u^{2} v v_{y}}{12} + \\frac{Re^{2} u^{2} v_{t}}{12} - \\frac{Re p_{ty}}{12} + \\frac{Re p_{xy} u}{12} + \\frac{Re p_{x} v_{x}}{4} - \\frac{Re p_{yy} v}{12} - \\frac{5 Re p_{y} v_{y}}{12} - \\frac{Re u^{2} v_{yy}}{12} - \\frac{2 Re u v_{x} v_{y}}{3} + \\frac{Re u_{t} v_{x}}{6} + \\frac{Re u_{y} v v_{x}}{6} - \\frac{Re v^{2} v_{yy}}{12} - \\frac{Re v v_{ty}}{6} - \\frac{Re v v_{y}^{2}}{2} - \\frac{Re v_{tt}}{12} - \\frac{Re v_{t} v_{y}}{2} + \\frac{p_{yyy}}{3} + \\frac{u_{y} v_{xy}}{3} + \\frac{v v_{yyy}}{3} + \\frac{v_{tyy}}{6} - \\frac{v_{xy} v_{x}}{3} + 2 v_{yy} v_{y} - \\frac{v_{yyyy}}{6 Re}$"
      ],
      "text/plain": [
       "Re**2*p_{y}*u**2/12 + Re**2*u**3*v_{x}/12 + Re**2*u**2*v*v_{y}/12 + Re**2*u**2*v_{t}/12 - Re*p_{ty}/12 + Re*p_{xy}*u/12 + Re*p_{x}*v_{x}/4 - Re*p_{yy}*v/12 - 5*Re*p_{y}*v_{y}/12 - Re*u**2*v_{yy}/12 - 2*Re*u*v_{x}*v_{y}/3 + Re*u_{t}*v_{x}/6 + Re*u_{y}*v*v_{x}/6 - Re*v**2*v_{yy}/12 - Re*v*v_{ty}/6 - Re*v*v_{y}**2/2 - Re*v_{tt}/12 - Re*v_{t}*v_{y}/2 + p_{yyy}/3 + u_{y}*v_{xy}/3 + v*v_{yyy}/3 + v_{tyy}/6 - v_{xy}*v_{x}/3 + 2*v_{yy}*v_{y} - v_{yyyy}/(6*Re)"
      ]
     },
     "metadata": {},
     "output_type": "display_data"
    }
   ],
   "source": [
    "f3 = NF(F3, [u.diff(x), u.diff(y, 2), p.diff(x, 2)], [f1, f2, f4], head=True)\n",
    "f3 = NF(f3, [u.diff(x), u.diff(y, 2), v.diff(x, 2), p.diff(x, 2)], [f1, f2, f3, f4])\n",
    "prn(f3)"
   ]
  },
  {
   "cell_type": "code",
   "execution_count": 23,
   "metadata": {},
   "outputs": [
    {
     "data": {
      "text/latex": [
       "$\\displaystyle 0$"
      ],
      "text/plain": [
       "0"
      ]
     },
     "metadata": {},
     "output_type": "display_data"
    },
    {
     "name": "stdout",
     "output_type": "stream",
     "text": [
      "tau =>\n"
     ]
    },
    {
     "data": {
      "text/latex": [
       "$\\displaystyle \\frac{2 e^{- \\frac{2 t}{Re}} \\sin{\\left(x \\right)} \\cos{\\left(y \\right)}}{Re^{2}}$"
      ],
      "text/plain": [
       "2*exp(-2*t/Re)*sin(x)*cos(y)/Re**2"
      ]
     },
     "metadata": {},
     "output_type": "display_data"
    },
    {
     "name": "stdout",
     "output_type": "stream",
     "text": [
      "h^2 =>\n"
     ]
    },
    {
     "data": {
      "text/latex": [
       "$\\displaystyle - \\frac{e^{- \\frac{2 t}{Re}} \\sin{\\left(x \\right)} \\cos{\\left(y \\right)}}{6 Re}$"
      ],
      "text/plain": [
       "-exp(-2*t/Re)*sin(x)*cos(y)/(6*Re)"
      ]
     },
     "metadata": {},
     "output_type": "display_data"
    }
   ],
   "source": [
    "prn([f.subs(TD).doit().simplify() for f in f3])"
   ]
  },
  {
   "cell_type": "code",
   "execution_count": 24,
   "metadata": {},
   "outputs": [
    {
     "data": {
      "text/latex": [
       "$\\displaystyle 0$"
      ],
      "text/plain": [
       "0"
      ]
     },
     "metadata": {},
     "output_type": "display_data"
    },
    {
     "name": "stdout",
     "output_type": "stream",
     "text": [
      "tau =>\n"
     ]
    },
    {
     "data": {
      "text/latex": [
       "$\\displaystyle 0$"
      ],
      "text/plain": [
       "0"
      ]
     },
     "metadata": {},
     "output_type": "display_data"
    },
    {
     "name": "stdout",
     "output_type": "stream",
     "text": [
      "h^2 =>\n"
     ]
    },
    {
     "data": {
      "text/latex": [
       "$\\displaystyle - \\frac{Re^{2} p_{x} v v_{x}}{3} + \\frac{Re^{2} p_{yy} u^{2}}{6} + \\frac{Re^{2} p_{y} u u_{y}}{3} + \\frac{Re^{2} u^{3} v_{xy}}{6} + \\frac{Re^{2} u^{2} u_{y} v_{x}}{2} + \\frac{Re^{2} u^{2} v v_{yy}}{6} + \\frac{Re^{2} u^{2} v_{ty}}{6} + \\frac{Re^{2} u^{2} v_{y}^{2}}{6} + \\frac{Re^{2} u u_{y} v v_{y}}{3} + \\frac{Re^{2} u u_{y} v_{t}}{3} + \\frac{Re^{2} u v v_{x} v_{y}}{3} - \\frac{Re^{2} u_{t} v v_{x}}{3} - \\frac{Re^{2} u_{y} v^{2} v_{x}}{3} + \\frac{Re p_{tyy}}{6} + \\frac{Re p_{xyy} u}{6} + \\frac{Re p_{xy} u_{y}}{6} - \\frac{Re p_{xy} v_{x}}{2} - \\frac{7 Re p_{x} v_{xy}}{6} + \\frac{Re p_{yyy} v}{6} - \\frac{Re p_{y} v_{yy}}{6} - \\frac{Re u^{2} v_{yyy}}{6} - \\frac{Re u u_{y} v_{yy}}{3} + \\frac{Re u v v_{xyy}}{3} + \\frac{Re u v_{txy}}{3} + \\frac{4 Re u v_{xy} v_{y}}{3} + \\frac{Re u v_{x} v_{yy}}{3} - \\frac{Re u_{ty} v_{x}}{3} - Re u_{t} v_{xy} - \\frac{2 Re u_{y} v v_{xy}}{3} + \\frac{Re u_{y} v_{tx}}{3} + \\frac{Re v^{2} v_{yyy}}{6} + \\frac{Re v v_{tyy}}{3} - \\frac{Re v v_{xy} v_{x}}{3} + \\frac{Re v v_{yy} v_{y}}{3} + \\frac{Re v_{tty}}{6} + \\frac{Re v_{ty} v_{y}}{3} - \\frac{p_{yyyy}}{3} - \\frac{u v_{xyyy}}{3} - u_{y} v_{xyy} - \\frac{v v_{yyyy}}{3} - \\frac{v_{tyyy}}{3} - \\frac{v_{xyy} v_{x}}{3} - v_{xy}^{2} - \\frac{4 v_{yyy} v_{y}}{3} - v_{yy}^{2}$"
      ],
      "text/plain": [
       "-Re**2*p_{x}*v*v_{x}/3 + Re**2*p_{yy}*u**2/6 + Re**2*p_{y}*u*u_{y}/3 + Re**2*u**3*v_{xy}/6 + Re**2*u**2*u_{y}*v_{x}/2 + Re**2*u**2*v*v_{yy}/6 + Re**2*u**2*v_{ty}/6 + Re**2*u**2*v_{y}**2/6 + Re**2*u*u_{y}*v*v_{y}/3 + Re**2*u*u_{y}*v_{t}/3 + Re**2*u*v*v_{x}*v_{y}/3 - Re**2*u_{t}*v*v_{x}/3 - Re**2*u_{y}*v**2*v_{x}/3 + Re*p_{tyy}/6 + Re*p_{xyy}*u/6 + Re*p_{xy}*u_{y}/6 - Re*p_{xy}*v_{x}/2 - 7*Re*p_{x}*v_{xy}/6 + Re*p_{yyy}*v/6 - Re*p_{y}*v_{yy}/6 - Re*u**2*v_{yyy}/6 - Re*u*u_{y}*v_{yy}/3 + Re*u*v*v_{xyy}/3 + Re*u*v_{txy}/3 + 4*Re*u*v_{xy}*v_{y}/3 + Re*u*v_{x}*v_{yy}/3 - Re*u_{ty}*v_{x}/3 - Re*u_{t}*v_{xy} - 2*Re*u_{y}*v*v_{xy}/3 + Re*u_{y}*v_{tx}/3 + Re*v**2*v_{yyy}/6 + Re*v*v_{tyy}/3 - Re*v*v_{xy}*v_{x}/3 + Re*v*v_{yy}*v_{y}/3 + Re*v_{tty}/6 + Re*v_{ty}*v_{y}/3 - p_{yyyy}/3 - u*v_{xyyy}/3 - u_{y}*v_{xyy} - v*v_{yyyy}/3 - v_{tyyy}/3 - v_{xyy}*v_{x}/3 - v_{xy}**2 - 4*v_{yyy}*v_{y}/3 - v_{yy}**2"
      ]
     },
     "metadata": {},
     "output_type": "display_data"
    }
   ],
   "source": [
    "spoly = [a.diff(x) + b.diff(y) for a, b in zip(f2, f3)]\n",
    "spoly = NF(spoly, [u.diff(x), u.diff(y, 2), v.diff(x, 2), p.diff(x, 2)], [f1, f2, f3, f4], head=True)\n",
    "prn(spoly)"
   ]
  },
  {
   "cell_type": "code",
   "execution_count": 25,
   "metadata": {},
   "outputs": [
    {
     "data": {
      "text/latex": [
       "$\\displaystyle 0$"
      ],
      "text/plain": [
       "0"
      ]
     },
     "metadata": {},
     "output_type": "display_data"
    },
    {
     "name": "stdout",
     "output_type": "stream",
     "text": [
      "tau =>\n"
     ]
    },
    {
     "data": {
      "text/latex": [
       "$\\displaystyle 0$"
      ],
      "text/plain": [
       "0"
      ]
     },
     "metadata": {},
     "output_type": "display_data"
    },
    {
     "name": "stdout",
     "output_type": "stream",
     "text": [
      "h^2 =>\n"
     ]
    },
    {
     "data": {
      "text/latex": [
       "$\\displaystyle 0$"
      ],
      "text/plain": [
       "0"
      ]
     },
     "metadata": {},
     "output_type": "display_data"
    }
   ],
   "source": [
    "prn([f.subs(TD).doit().simplify() for f in spoly])"
   ]
  },
  {
   "cell_type": "code",
   "execution_count": 26,
   "metadata": {},
   "outputs": [
    {
     "data": {
      "text/latex": [
       "$\\displaystyle 0$"
      ],
      "text/plain": [
       "0"
      ]
     },
     "metadata": {},
     "output_type": "display_data"
    },
    {
     "name": "stdout",
     "output_type": "stream",
     "text": [
      "tau =>\n"
     ]
    },
    {
     "data": {
      "text/latex": [
       "$\\displaystyle 0$"
      ],
      "text/plain": [
       "0"
      ]
     },
     "metadata": {},
     "output_type": "display_data"
    },
    {
     "name": "stdout",
     "output_type": "stream",
     "text": [
      "h^2 =>\n"
     ]
    },
    {
     "data": {
      "text/latex": [
       "$\\displaystyle \\frac{\\left(Re - \\sqrt{Re^{2} + 16 \\pi^{2}}\\right) \\left(Re^{3} - Re^{2} \\sqrt{Re^{2} + 16 \\pi^{2}} + 16 \\pi^{2} Re - 8 \\pi^{2} \\sqrt{Re^{2} + 16 \\pi^{2}}\\right) e^{\\frac{x \\left(Re - \\sqrt{Re^{2} + 16 \\pi^{2}}\\right)}{2}} \\cos{\\left(2 \\pi y \\right)}}{24}$"
      ],
      "text/plain": [
       "(Re - sqrt(Re**2 + 16*pi**2))*(Re**3 - Re**2*sqrt(Re**2 + 16*pi**2) + 16*pi**2*Re - 8*pi**2*sqrt(Re**2 + 16*pi**2))*exp(x*(Re - sqrt(Re**2 + 16*pi**2))/2)*cos(2*pi*y)/24"
      ]
     },
     "metadata": {},
     "output_type": "display_data"
    }
   ],
   "source": [
    "prn([f.subs(KF).doit().simplify() for f in spoly])"
   ]
  },
  {
   "cell_type": "markdown",
   "metadata": {},
   "source": [
    "# FDA2"
   ]
  },
  {
   "cell_type": "markdown",
   "metadata": {},
   "source": [
    "Hans Johnston and Jian-Guo Liu, Finite Difference Schemes for Incompressible Flow Based on Local Pressure Boundary Conditions. Journal of Computational Physics 180, 120–154 (2002) doi:10.1006/jcph.2002.7079\n",
    "\n",
    "page 126\n",
    "\n",
    "\\begin{equation}\n",
    "\\left\\lbrace \n",
    "\\begin{array}{rl}\n",
    "F^1:& \\operatorname{D_1}(u) + \\operatorname{D_2}(v)=0 ,\\\\[4pt]\n",
    "F^2:& \\operatorname{D_t}(u) + u\\operatorname{D_1}(u)+\n",
    "v\\operatorname{D_2}(u) + \n",
    "\\operatorname{D_1}(p) - \\frac{1}{\\mathrm{Re}} \\tilde{\\Delta} (u)\n",
    "=0 ,\\\\[4pt]\n",
    "F^3:& \\operatorname{D_t}(v) + u\\operatorname{D_1}(v)+\n",
    "v\\operatorname{D_2}(v) +\n",
    "\\operatorname{D_2}(p) - \\frac{1}{\\mathrm{Re}} \\tilde{\\Delta} (v)\n",
    "=0 ,\\\\[4pt]\n",
    "F^4:& \\tilde{\\Delta}(p) \n",
    "- 2\\operatorname{D_1}(u)\\operatorname{D_2}(v)\n",
    "+ 2\\operatorname{D_1}(v)\\operatorname{D_2}(u)\n",
    "=0 .\n",
    "\\end{array}\n",
    "\\right. \n",
    "\\end{equation}"
   ]
  },
  {
   "cell_type": "code",
   "execution_count": 27,
   "metadata": {},
   "outputs": [],
   "source": [
    "F1 = clip(Dx(u) + Dy(v))\n",
    "F2 = clip(Dt(u) + u*Dx(u) + v*Dy(u) + Dx(p) - DD(u)/Re)\n",
    "F3 = clip(Dt(v) + u*Dx(v) + v*Dy(v) + Dy(p) - DD(v)/Re)\n",
    "F4 = clip(DD2(p) - 2*Dx(u)*Dy(v) + 2*Dx(v)*Dy(u))"
   ]
  },
  {
   "cell_type": "code",
   "execution_count": 28,
   "metadata": {},
   "outputs": [
    {
     "data": {
      "text/plain": [
       "[Derivative(u(t, x, y), x) + Derivative(v(t, x, y), y),\n",
       " 0,\n",
       " Derivative(u(t, x, y), (x, 3))/6 + Derivative(v(t, x, y), (y, 3))/6]"
      ]
     },
     "execution_count": 28,
     "metadata": {},
     "output_type": "execute_result"
    }
   ],
   "source": [
    "F1"
   ]
  },
  {
   "cell_type": "code",
   "execution_count": 29,
   "metadata": {},
   "outputs": [
    {
     "data": {
      "text/plain": [
       "[u(t, x, y)*Derivative(u(t, x, y), x) + v(t, x, y)*Derivative(u(t, x, y), y) + Derivative(p(t, x, y), x) + Derivative(u(t, x, y), t) - Derivative(u(t, x, y), (x, 2))/Re - Derivative(u(t, x, y), (y, 2))/Re,\n",
       " Derivative(u(t, x, y), (t, 2))/2,\n",
       " u(t, x, y)*Derivative(u(t, x, y), (x, 3))/6 + v(t, x, y)*Derivative(u(t, x, y), (y, 3))/6 + Derivative(p(t, x, y), (x, 3))/6 - Derivative(u(t, x, y), (x, 4))/(12*Re) - Derivative(u(t, x, y), (y, 4))/(12*Re)]"
      ]
     },
     "execution_count": 29,
     "metadata": {},
     "output_type": "execute_result"
    }
   ],
   "source": [
    "F2"
   ]
  },
  {
   "cell_type": "code",
   "execution_count": 30,
   "metadata": {},
   "outputs": [
    {
     "data": {
      "text/plain": [
       "[u(t, x, y)*Derivative(v(t, x, y), x) + v(t, x, y)*Derivative(v(t, x, y), y) + Derivative(p(t, x, y), y) + Derivative(v(t, x, y), t) - Derivative(v(t, x, y), (x, 2))/Re - Derivative(v(t, x, y), (y, 2))/Re,\n",
       " Derivative(v(t, x, y), (t, 2))/2,\n",
       " u(t, x, y)*Derivative(v(t, x, y), (x, 3))/6 + v(t, x, y)*Derivative(v(t, x, y), (y, 3))/6 + Derivative(p(t, x, y), (y, 3))/6 - Derivative(v(t, x, y), (x, 4))/(12*Re) - Derivative(v(t, x, y), (y, 4))/(12*Re)]"
      ]
     },
     "execution_count": 30,
     "metadata": {},
     "output_type": "execute_result"
    }
   ],
   "source": [
    "F3"
   ]
  },
  {
   "cell_type": "code",
   "execution_count": 31,
   "metadata": {},
   "outputs": [
    {
     "data": {
      "text/plain": [
       "[Derivative(p(t, x, y), (x, 2)) + Derivative(p(t, x, y), (y, 2)) - 2*Derivative(u(t, x, y), x)*Derivative(v(t, x, y), y) + 2*Derivative(u(t, x, y), y)*Derivative(v(t, x, y), x),\n",
       " 0,\n",
       " Derivative(p(t, x, y), (x, 4))/3 + Derivative(p(t, x, y), (y, 4))/3 - Derivative(u(t, x, y), x)*Derivative(v(t, x, y), (y, 3))/3 - Derivative(u(t, x, y), (x, 3))*Derivative(v(t, x, y), y)/3 + Derivative(u(t, x, y), y)*Derivative(v(t, x, y), (x, 3))/3 + Derivative(u(t, x, y), (y, 3))*Derivative(v(t, x, y), x)/3]"
      ]
     },
     "execution_count": 31,
     "metadata": {},
     "output_type": "execute_result"
    }
   ],
   "source": [
    "F4"
   ]
  },
  {
   "cell_type": "code",
   "execution_count": 32,
   "metadata": {},
   "outputs": [
    {
     "data": {
      "text/latex": [
       "$\\displaystyle p_{xx} + p_{yy} + 2 u_{y} v_{x} + 2 v_{y}^{2}$"
      ],
      "text/plain": [
       "p_{xx} + p_{yy} + 2*u_{y}*v_{x} + 2*v_{y}**2"
      ]
     },
     "metadata": {},
     "output_type": "display_data"
    },
    {
     "name": "stdout",
     "output_type": "stream",
     "text": [
      "tau =>\n"
     ]
    },
    {
     "data": {
      "text/latex": [
       "$\\displaystyle 0$"
      ],
      "text/plain": [
       "0"
      ]
     },
     "metadata": {},
     "output_type": "display_data"
    },
    {
     "name": "stdout",
     "output_type": "stream",
     "text": [
      "h^2 =>\n"
     ]
    },
    {
     "data": {
      "text/latex": [
       "$\\displaystyle Re^{2} p_{x} v v_{x} - \\frac{Re^{2} p_{y} u u_{y}}{3} - \\frac{Re^{2} u^{2} u_{y} v_{x}}{3} - \\frac{Re^{2} u u_{y} v v_{y}}{3} - \\frac{Re^{2} u u_{y} v_{t}}{3} - Re^{2} u v v_{x} v_{y} + Re^{2} u_{t} v v_{x} + Re^{2} u_{y} v^{2} v_{x} - \\frac{Re p_{xy} u_{y}}{3} + Re p_{xy} v_{x} + \\frac{4 Re p_{x} v_{xy}}{3} - \\frac{4 Re p_{yy} v_{y}}{3} + \\frac{4 Re p_{y} v_{yy}}{3} + \\frac{Re u u_{y} v_{yy}}{3} - \\frac{8 Re u v_{xy} v_{y}}{3} + \\frac{Re u v_{x} v_{yy}}{3} + Re u_{ty} v_{x} + \\frac{4 Re u_{t} v_{xy}}{3} + Re u_{y} v v_{xy} - \\frac{Re u_{y} v_{tx}}{3} - \\frac{4 Re u_{y} v_{x} v_{y}}{3} + Re v v_{xy} v_{x} - \\frac{4 Re v_{ty} v_{y}}{3} + \\frac{4 Re v_{t} v_{yy}}{3} - \\frac{4 Re v_{y}^{3}}{3} + \\frac{2 p_{yyyy}}{3} + u_{y} v_{xyy} + \\frac{5 v_{xyy} v_{x}}{3} + \\frac{10 v_{yyy} v_{y}}{3}$"
      ],
      "text/plain": [
       "Re**2*p_{x}*v*v_{x} - Re**2*p_{y}*u*u_{y}/3 - Re**2*u**2*u_{y}*v_{x}/3 - Re**2*u*u_{y}*v*v_{y}/3 - Re**2*u*u_{y}*v_{t}/3 - Re**2*u*v*v_{x}*v_{y} + Re**2*u_{t}*v*v_{x} + Re**2*u_{y}*v**2*v_{x} - Re*p_{xy}*u_{y}/3 + Re*p_{xy}*v_{x} + 4*Re*p_{x}*v_{xy}/3 - 4*Re*p_{yy}*v_{y}/3 + 4*Re*p_{y}*v_{yy}/3 + Re*u*u_{y}*v_{yy}/3 - 8*Re*u*v_{xy}*v_{y}/3 + Re*u*v_{x}*v_{yy}/3 + Re*u_{ty}*v_{x} + 4*Re*u_{t}*v_{xy}/3 + Re*u_{y}*v*v_{xy} - Re*u_{y}*v_{tx}/3 - 4*Re*u_{y}*v_{x}*v_{y}/3 + Re*v*v_{xy}*v_{x} - 4*Re*v_{ty}*v_{y}/3 + 4*Re*v_{t}*v_{yy}/3 - 4*Re*v_{y}**3/3 + 2*p_{yyyy}/3 + u_{y}*v_{xyy} + 5*v_{xyy}*v_{x}/3 + 10*v_{yyy}*v_{y}/3"
      ]
     },
     "metadata": {},
     "output_type": "display_data"
    }
   ],
   "source": [
    "f4 = NF(F4, [u.diff(x), u.diff(y, 2), v.diff(x, 2)], [F1, F2, F3], head=True)\n",
    "f4 = NF(f4, [u.diff(x), u.diff(y, 2), v.diff(x, 2), p.diff(x, 2)], [F1, F2, F3, f4])\n",
    "prn(f4)"
   ]
  },
  {
   "cell_type": "code",
   "execution_count": 33,
   "metadata": {},
   "outputs": [
    {
     "data": {
      "text/latex": [
       "$\\displaystyle 0$"
      ],
      "text/plain": [
       "0"
      ]
     },
     "metadata": {},
     "output_type": "display_data"
    },
    {
     "name": "stdout",
     "output_type": "stream",
     "text": [
      "tau =>\n"
     ]
    },
    {
     "data": {
      "text/latex": [
       "$\\displaystyle 0$"
      ],
      "text/plain": [
       "0"
      ]
     },
     "metadata": {},
     "output_type": "display_data"
    },
    {
     "name": "stdout",
     "output_type": "stream",
     "text": [
      "h^2 =>\n"
     ]
    },
    {
     "data": {
      "text/latex": [
       "$\\displaystyle 2 \\left(\\sin^{2}{\\left(x \\right)} + \\sin^{2}{\\left(y \\right)} - 1\\right) e^{- \\frac{4 t}{Re}}$"
      ],
      "text/plain": [
       "2*(sin(x)**2 + sin(y)**2 - 1)*exp(-4*t/Re)"
      ]
     },
     "metadata": {},
     "output_type": "display_data"
    }
   ],
   "source": [
    "prn([f.subs(TD).doit().simplify() for f in f4])"
   ]
  },
  {
   "cell_type": "code",
   "execution_count": 34,
   "metadata": {},
   "outputs": [
    {
     "data": {
      "text/latex": [
       "$\\displaystyle u_{x} + v_{y}$"
      ],
      "text/plain": [
       "u_{x} + v_{y}"
      ]
     },
     "metadata": {},
     "output_type": "display_data"
    },
    {
     "name": "stdout",
     "output_type": "stream",
     "text": [
      "tau =>\n"
     ]
    },
    {
     "data": {
      "text/latex": [
       "$\\displaystyle 0$"
      ],
      "text/plain": [
       "0"
      ]
     },
     "metadata": {},
     "output_type": "display_data"
    },
    {
     "name": "stdout",
     "output_type": "stream",
     "text": [
      "h^2 =>\n"
     ]
    },
    {
     "data": {
      "text/latex": [
       "$\\displaystyle - \\frac{Re p_{yy}}{6} - \\frac{Re u v_{xy}}{6} - \\frac{Re u_{y} v_{x}}{6} - \\frac{Re v v_{yy}}{6} - \\frac{Re v_{ty}}{6} - \\frac{Re v_{y}^{2}}{6} + \\frac{v_{yyy}}{3}$"
      ],
      "text/plain": [
       "-Re*p_{yy}/6 - Re*u*v_{xy}/6 - Re*u_{y}*v_{x}/6 - Re*v*v_{yy}/6 - Re*v_{ty}/6 - Re*v_{y}**2/6 + v_{yyy}/3"
      ]
     },
     "metadata": {},
     "output_type": "display_data"
    }
   ],
   "source": [
    "f1 = NF(F1, [u.diff(y, 2), v.diff(x, 2), p.diff(x, 2)], [F2, F3, f4], head=True)\n",
    "f1 = NF(f1, [u.diff(x), u.diff(y, 2), v.diff(x, 2), p.diff(x, 2)], [f1, F2, F3, f4])\n",
    "prn(f1)"
   ]
  },
  {
   "cell_type": "code",
   "execution_count": 35,
   "metadata": {},
   "outputs": [
    {
     "data": {
      "text/latex": [
       "$\\displaystyle 0$"
      ],
      "text/plain": [
       "0"
      ]
     },
     "metadata": {},
     "output_type": "display_data"
    },
    {
     "name": "stdout",
     "output_type": "stream",
     "text": [
      "tau =>\n"
     ]
    },
    {
     "data": {
      "text/latex": [
       "$\\displaystyle 0$"
      ],
      "text/plain": [
       "0"
      ]
     },
     "metadata": {},
     "output_type": "display_data"
    },
    {
     "name": "stdout",
     "output_type": "stream",
     "text": [
      "h^2 =>\n"
     ]
    },
    {
     "data": {
      "text/latex": [
       "$\\displaystyle 0$"
      ],
      "text/plain": [
       "0"
      ]
     },
     "metadata": {},
     "output_type": "display_data"
    }
   ],
   "source": [
    "prn([f.subs(TD).doit().simplify() for f in f1])"
   ]
  },
  {
   "cell_type": "code",
   "execution_count": 36,
   "metadata": {},
   "outputs": [
    {
     "data": {
      "text/latex": [
       "$\\displaystyle p_{x} - u v_{y} + u_{t} + u_{y} v - \\frac{u_{yy}}{Re} + \\frac{v_{xy}}{Re}$"
      ],
      "text/plain": [
       "p_{x} - u*v_{y} + u_{t} + u_{y}*v - u_{yy}/Re + v_{xy}/Re"
      ]
     },
     "metadata": {},
     "output_type": "display_data"
    },
    {
     "name": "stdout",
     "output_type": "stream",
     "text": [
      "tau =>\n"
     ]
    },
    {
     "data": {
      "text/latex": [
       "$\\displaystyle \\frac{u_{tt}}{2}$"
      ],
      "text/plain": [
       "u_{tt}/2"
      ]
     },
     "metadata": {},
     "output_type": "display_data"
    },
    {
     "name": "stdout",
     "output_type": "stream",
     "text": [
      "h^2 =>\n"
     ]
    },
    {
     "data": {
      "text/latex": [
       "$\\displaystyle \\frac{Re^{2} p_{x} v^{2}}{12} - \\frac{Re^{2} u v^{2} v_{y}}{12} + \\frac{Re^{2} u_{t} v^{2}}{12} + \\frac{Re^{2} u_{y} v^{3}}{12} - \\frac{Re p_{tx}}{12} + \\frac{Re p_{xy} v}{12} - \\frac{Re p_{x} v_{y}}{12} - \\frac{Re p_{yy} u}{12} - \\frac{5 Re p_{y} u_{y}}{12} - \\frac{Re u^{2} v_{xy}}{12} - \\frac{Re u u_{y} v_{x}}{2} - \\frac{Re u v v_{yy}}{6} - \\frac{Re u_{tt}}{12} - \\frac{Re u_{y} v v_{y}}{2} - \\frac{Re u_{y} v_{t}}{2} + \\frac{Re v^{2} v_{xy}}{12} - \\frac{p_{xyy}}{3} + \\frac{u_{y} v_{yy}}{2} - \\frac{v_{txy}}{6} - \\frac{5 v_{xy} v_{y}}{6} + \\frac{v_{x} v_{yy}}{3} + \\frac{v_{xyyy}}{6 Re}$"
      ],
      "text/plain": [
       "Re**2*p_{x}*v**2/12 - Re**2*u*v**2*v_{y}/12 + Re**2*u_{t}*v**2/12 + Re**2*u_{y}*v**3/12 - Re*p_{tx}/12 + Re*p_{xy}*v/12 - Re*p_{x}*v_{y}/12 - Re*p_{yy}*u/12 - 5*Re*p_{y}*u_{y}/12 - Re*u**2*v_{xy}/12 - Re*u*u_{y}*v_{x}/2 - Re*u*v*v_{yy}/6 - Re*u_{tt}/12 - Re*u_{y}*v*v_{y}/2 - Re*u_{y}*v_{t}/2 + Re*v**2*v_{xy}/12 - p_{xyy}/3 + u_{y}*v_{yy}/2 - v_{txy}/6 - 5*v_{xy}*v_{y}/6 + v_{x}*v_{yy}/3 + v_{xyyy}/(6*Re)"
      ]
     },
     "metadata": {},
     "output_type": "display_data"
    }
   ],
   "source": [
    "f2 = NF(F2, [u.diff(x), v.diff(x, 2), p.diff(x, 2)], [f1, F3, f4], head=True)\n",
    "f2 = NF(f2, [u.diff(x), u.diff(y, 2), v.diff(x, 2), p.diff(x, 2)], [f1, f2, F3, f4])\n",
    "prn(f2)"
   ]
  },
  {
   "cell_type": "code",
   "execution_count": 37,
   "metadata": {},
   "outputs": [
    {
     "data": {
      "text/latex": [
       "$\\displaystyle 0$"
      ],
      "text/plain": [
       "0"
      ]
     },
     "metadata": {},
     "output_type": "display_data"
    },
    {
     "name": "stdout",
     "output_type": "stream",
     "text": [
      "tau =>\n"
     ]
    },
    {
     "data": {
      "text/latex": [
       "$\\displaystyle - \\frac{2 e^{- \\frac{2 t}{Re}} \\sin{\\left(y \\right)} \\cos{\\left(x \\right)}}{Re^{2}}$"
      ],
      "text/plain": [
       "-2*exp(-2*t/Re)*sin(y)*cos(x)/Re**2"
      ]
     },
     "metadata": {},
     "output_type": "display_data"
    },
    {
     "name": "stdout",
     "output_type": "stream",
     "text": [
      "h^2 =>\n"
     ]
    },
    {
     "data": {
      "text/latex": [
       "$\\displaystyle \\frac{\\left(- 3 Re \\sin{\\left(x \\right)} + e^{\\frac{2 t}{Re}} \\sin{\\left(y \\right)}\\right) e^{- \\frac{4 t}{Re}} \\cos{\\left(x \\right)}}{6 Re}$"
      ],
      "text/plain": [
       "(-3*Re*sin(x) + exp(2*t/Re)*sin(y))*exp(-4*t/Re)*cos(x)/(6*Re)"
      ]
     },
     "metadata": {},
     "output_type": "display_data"
    }
   ],
   "source": [
    "prn([f.subs(TD).doit().simplify() for f in f2])"
   ]
  },
  {
   "cell_type": "code",
   "execution_count": 38,
   "metadata": {},
   "outputs": [
    {
     "data": {
      "text/latex": [
       "$\\displaystyle p_{y} + u v_{x} + v v_{y} + v_{t} - \\frac{v_{xx}}{Re} - \\frac{v_{yy}}{Re}$"
      ],
      "text/plain": [
       "p_{y} + u*v_{x} + v*v_{y} + v_{t} - v_{xx}/Re - v_{yy}/Re"
      ]
     },
     "metadata": {},
     "output_type": "display_data"
    },
    {
     "name": "stdout",
     "output_type": "stream",
     "text": [
      "tau =>\n"
     ]
    },
    {
     "data": {
      "text/latex": [
       "$\\displaystyle \\frac{v_{tt}}{2}$"
      ],
      "text/plain": [
       "v_{tt}/2"
      ]
     },
     "metadata": {},
     "output_type": "display_data"
    },
    {
     "name": "stdout",
     "output_type": "stream",
     "text": [
      "h^2 =>\n"
     ]
    },
    {
     "data": {
      "text/latex": [
       "$\\displaystyle \\frac{Re^{2} p_{y} u^{2}}{12} + \\frac{Re^{2} u^{3} v_{x}}{12} + \\frac{Re^{2} u^{2} v v_{y}}{12} + \\frac{Re^{2} u^{2} v_{t}}{12} - \\frac{Re p_{ty}}{12} + \\frac{Re p_{xy} u}{12} + \\frac{Re p_{x} v_{x}}{4} - \\frac{Re p_{yy} v}{12} + \\frac{Re p_{y} v_{y}}{12} - \\frac{Re u^{2} v_{yy}}{12} - \\frac{Re u v_{x} v_{y}}{6} + \\frac{Re u_{t} v_{x}}{6} + \\frac{Re u_{y} v v_{x}}{6} - \\frac{Re v^{2} v_{yy}}{12} - \\frac{Re v v_{ty}}{6} - \\frac{Re v_{tt}}{12} + \\frac{p_{yyy}}{3} + \\frac{u_{y} v_{xy}}{3} + \\frac{v v_{yyy}}{3} + \\frac{v_{tyy}}{6} + \\frac{v_{xy} v_{x}}{6} + \\frac{v_{yy} v_{y}}{2} - \\frac{v_{yyyy}}{6 Re}$"
      ],
      "text/plain": [
       "Re**2*p_{y}*u**2/12 + Re**2*u**3*v_{x}/12 + Re**2*u**2*v*v_{y}/12 + Re**2*u**2*v_{t}/12 - Re*p_{ty}/12 + Re*p_{xy}*u/12 + Re*p_{x}*v_{x}/4 - Re*p_{yy}*v/12 + Re*p_{y}*v_{y}/12 - Re*u**2*v_{yy}/12 - Re*u*v_{x}*v_{y}/6 + Re*u_{t}*v_{x}/6 + Re*u_{y}*v*v_{x}/6 - Re*v**2*v_{yy}/12 - Re*v*v_{ty}/6 - Re*v_{tt}/12 + p_{yyy}/3 + u_{y}*v_{xy}/3 + v*v_{yyy}/3 + v_{tyy}/6 + v_{xy}*v_{x}/6 + v_{yy}*v_{y}/2 - v_{yyyy}/(6*Re)"
      ]
     },
     "metadata": {},
     "output_type": "display_data"
    }
   ],
   "source": [
    "f3 = NF(F3, [u.diff(x), u.diff(y, 2), p.diff(x, 2)], [f1, f2, f4], head=True)\n",
    "f3 = NF(f3, [u.diff(x), u.diff(y, 2), v.diff(x, 2), p.diff(x, 2)], [f1, f2, f3, f4])\n",
    "prn(f3)"
   ]
  },
  {
   "cell_type": "code",
   "execution_count": 39,
   "metadata": {},
   "outputs": [
    {
     "data": {
      "text/latex": [
       "$\\displaystyle 0$"
      ],
      "text/plain": [
       "0"
      ]
     },
     "metadata": {},
     "output_type": "display_data"
    },
    {
     "name": "stdout",
     "output_type": "stream",
     "text": [
      "tau =>\n"
     ]
    },
    {
     "data": {
      "text/latex": [
       "$\\displaystyle \\frac{2 e^{- \\frac{2 t}{Re}} \\sin{\\left(x \\right)} \\cos{\\left(y \\right)}}{Re^{2}}$"
      ],
      "text/plain": [
       "2*exp(-2*t/Re)*sin(x)*cos(y)/Re**2"
      ]
     },
     "metadata": {},
     "output_type": "display_data"
    },
    {
     "name": "stdout",
     "output_type": "stream",
     "text": [
      "h^2 =>\n"
     ]
    },
    {
     "data": {
      "text/latex": [
       "$\\displaystyle - \\frac{\\left(3 Re \\sin{\\left(y \\right)} + e^{\\frac{2 t}{Re}} \\sin{\\left(x \\right)}\\right) e^{- \\frac{4 t}{Re}} \\cos{\\left(y \\right)}}{6 Re}$"
      ],
      "text/plain": [
       "-(3*Re*sin(y) + exp(2*t/Re)*sin(x))*exp(-4*t/Re)*cos(y)/(6*Re)"
      ]
     },
     "metadata": {},
     "output_type": "display_data"
    }
   ],
   "source": [
    "prn([f.subs(TD).doit().simplify() for f in f3])"
   ]
  },
  {
   "cell_type": "code",
   "execution_count": 40,
   "metadata": {},
   "outputs": [
    {
     "data": {
      "text/latex": [
       "$\\displaystyle 0$"
      ],
      "text/plain": [
       "0"
      ]
     },
     "metadata": {},
     "output_type": "display_data"
    },
    {
     "name": "stdout",
     "output_type": "stream",
     "text": [
      "tau =>\n"
     ]
    },
    {
     "data": {
      "text/latex": [
       "$\\displaystyle 0$"
      ],
      "text/plain": [
       "0"
      ]
     },
     "metadata": {},
     "output_type": "display_data"
    },
    {
     "name": "stdout",
     "output_type": "stream",
     "text": [
      "h^2 =>\n"
     ]
    },
    {
     "data": {
      "text/latex": [
       "$\\displaystyle \\frac{Re p_{x} v_{xy}}{2} + \\frac{Re p_{yy} v_{y}}{2} - \\frac{Re p_{y} v_{yy}}{2} - \\frac{Re u v_{x} v_{yy}}{2} + \\frac{Re u_{t} v_{xy}}{2} + \\frac{Re u_{y} v v_{xy}}{2} + \\frac{Re u_{y} v_{x} v_{y}}{2} + \\frac{Re v_{ty} v_{y}}{2} - \\frac{Re v_{t} v_{yy}}{2} + \\frac{Re v_{y}^{3}}{2} + \\frac{u_{y} v_{xyy}}{2} - \\frac{v_{xyy} v_{x}}{2} + v_{xy}^{2} + v_{yy}^{2}$"
      ],
      "text/plain": [
       "Re*p_{x}*v_{xy}/2 + Re*p_{yy}*v_{y}/2 - Re*p_{y}*v_{yy}/2 - Re*u*v_{x}*v_{yy}/2 + Re*u_{t}*v_{xy}/2 + Re*u_{y}*v*v_{xy}/2 + Re*u_{y}*v_{x}*v_{y}/2 + Re*v_{ty}*v_{y}/2 - Re*v_{t}*v_{yy}/2 + Re*v_{y}**3/2 + u_{y}*v_{xyy}/2 - v_{xyy}*v_{x}/2 + v_{xy}**2 + v_{yy}**2"
      ]
     },
     "metadata": {},
     "output_type": "display_data"
    }
   ],
   "source": [
    "spoly = [a.diff(x) + b.diff(y) for a, b in zip(f2, f3)]\n",
    "spoly = NF(spoly, [u.diff(x), u.diff(y, 2), v.diff(x, 2), p.diff(x, 2)], [f1, f2, f3, f4], head=True)\n",
    "prn(spoly)"
   ]
  },
  {
   "cell_type": "code",
   "execution_count": 41,
   "metadata": {},
   "outputs": [
    {
     "data": {
      "text/latex": [
       "$\\displaystyle 0$"
      ],
      "text/plain": [
       "0"
      ]
     },
     "metadata": {},
     "output_type": "display_data"
    },
    {
     "name": "stdout",
     "output_type": "stream",
     "text": [
      "tau =>\n"
     ]
    },
    {
     "data": {
      "text/latex": [
       "$\\displaystyle 0$"
      ],
      "text/plain": [
       "0"
      ]
     },
     "metadata": {},
     "output_type": "display_data"
    },
    {
     "name": "stdout",
     "output_type": "stream",
     "text": [
      "h^2 =>\n"
     ]
    },
    {
     "data": {
      "text/latex": [
       "$\\displaystyle \\frac{\\left(\\cos{\\left(2 x \\right)} + \\cos{\\left(2 y \\right)}\\right) e^{- \\frac{4 t}{Re}}}{2}$"
      ],
      "text/plain": [
       "(cos(2*x) + cos(2*y))*exp(-4*t/Re)/2"
      ]
     },
     "metadata": {},
     "output_type": "display_data"
    }
   ],
   "source": [
    "prn([f.subs(TD).doit().simplify() for f in spoly])"
   ]
  },
  {
   "cell_type": "code",
   "execution_count": 42,
   "metadata": {},
   "outputs": [
    {
     "data": {
      "text/latex": [
       "$\\displaystyle 0$"
      ],
      "text/plain": [
       "0"
      ]
     },
     "metadata": {},
     "output_type": "display_data"
    },
    {
     "name": "stdout",
     "output_type": "stream",
     "text": [
      "tau =>\n"
     ]
    },
    {
     "data": {
      "text/latex": [
       "$\\displaystyle 0$"
      ],
      "text/plain": [
       "0"
      ]
     },
     "metadata": {},
     "output_type": "display_data"
    },
    {
     "name": "stdout",
     "output_type": "stream",
     "text": [
      "h^2 =>\n"
     ]
    },
    {
     "data": {
      "text/latex": [
       "$\\displaystyle \\frac{\\left(Re - \\sqrt{Re^{2} + 16 \\pi^{2}}\\right)^{2} \\left(Re^{2} - Re \\sqrt{Re^{2} + 16 \\pi^{2}} + 8 \\pi^{2}\\right) e^{x \\left(Re - \\sqrt{Re^{2} + 16 \\pi^{2}}\\right)}}{8}$"
      ],
      "text/plain": [
       "(Re - sqrt(Re**2 + 16*pi**2))**2*(Re**2 - Re*sqrt(Re**2 + 16*pi**2) + 8*pi**2)*exp(x*(Re - sqrt(Re**2 + 16*pi**2)))/8"
      ]
     },
     "metadata": {},
     "output_type": "display_data"
    }
   ],
   "source": [
    "prn([f.subs(KF).doit().simplify() for f in spoly])"
   ]
  },
  {
   "cell_type": "markdown",
   "metadata": {},
   "source": [
    "# FDA3"
   ]
  },
  {
   "cell_type": "markdown",
   "metadata": {},
   "source": [
    "Amodio Pierluigi, Blinkov Yuri, Gerdt Vladimir, La Scala Roberto Algebraic construction and numerical behavior of a new s-consistent difference scheme for the 2D Navier–Stokes equations. Applied Mathematics and Computation, 2017, vol. 314, pp. 408-421. DOI: 10.1016/j.amc.2017.06.037 \n",
    "\n",
    "Available at: http://www.sciencedirect.com/science/article/pii/S0096300317304502\n",
    "\n",
    "page 417\n",
    "\n",
    "\\begin{equation}\n",
    "\\left\\lbrace \n",
    "\\begin{array}{rl}\n",
    "F^1:& \\operatorname{D_1}(u) + \\operatorname{D_2}(v)=0 ,\\\\[4pt]\n",
    "F^2:& \\operatorname{D_t}(u) + \\operatorname{D_1}(u^2)+\n",
    "\\operatorname{D_2}(vu) + \n",
    "\\operatorname{D_1}(p) - \\frac{1}{\\mathrm{Re}} \\tilde{\\Delta} (u)\n",
    "=0 ,\\\\[4pt]\n",
    "F^3:& \\operatorname{D_t}(v) + \\operatorname{D_1}(uv)+\n",
    "\\operatorname{D_2}(v^2) +\n",
    "\\operatorname{D_2}(p) - \\frac{1}{\\mathrm{Re}} \\tilde{\\Delta} (v)\n",
    "=0 ,\\\\[4pt]\n",
    "F^4:& \\left(\\operatorname{D_1}^2 + \\operatorname{D_2}^2\\right)(p) + \\operatorname{D_1}^2(u^2) + \\operatorname{D_2}^2(v^2) + {} \\\\\n",
    "&{} + 2\\operatorname{D_1}\\operatorname{D_2}(uv)\n",
    "=0 .\n",
    "\\end{array}\n",
    "\\right. \n",
    "\\end{equation}"
   ]
  },
  {
   "cell_type": "code",
   "execution_count": 43,
   "metadata": {},
   "outputs": [],
   "source": [
    "F1 = clip(Dx(u) + Dy(v))\n",
    "F2 = clip(Dt(u) + Dx(u**2) + Dy(v*u) +  Dx(p) - DD(u)/Re)\n",
    "F3 = clip(Dt(v) + Dx(u*v) +  Dy(v**2) + Dy(p) - DD(v)/Re)\n",
    "F4 = clip(DD2(p) + Dxx(u**2) + Dyy(v**2) + 2*Dxy(u*v))"
   ]
  },
  {
   "cell_type": "code",
   "execution_count": 44,
   "metadata": {},
   "outputs": [
    {
     "data": {
      "text/plain": [
       "[Derivative(u(t, x, y), x) + Derivative(v(t, x, y), y),\n",
       " 0,\n",
       " Derivative(u(t, x, y), (x, 3))/6 + Derivative(v(t, x, y), (y, 3))/6]"
      ]
     },
     "execution_count": 44,
     "metadata": {},
     "output_type": "execute_result"
    }
   ],
   "source": [
    "F1"
   ]
  },
  {
   "cell_type": "code",
   "execution_count": 45,
   "metadata": {},
   "outputs": [
    {
     "data": {
      "text/plain": [
       "[2*u(t, x, y)*Derivative(u(t, x, y), x) + u(t, x, y)*Derivative(v(t, x, y), y) + v(t, x, y)*Derivative(u(t, x, y), y) + Derivative(p(t, x, y), x) + Derivative(u(t, x, y), t) - Derivative(u(t, x, y), (x, 2))/Re - Derivative(u(t, x, y), (y, 2))/Re,\n",
       " Derivative(u(t, x, y), (t, 2))/2,\n",
       " u(t, x, y)*Derivative(u(t, x, y), (x, 3))/3 + u(t, x, y)*Derivative(v(t, x, y), (y, 3))/6 + v(t, x, y)*Derivative(u(t, x, y), (y, 3))/6 + Derivative(p(t, x, y), (x, 3))/6 + Derivative(u(t, x, y), x)*Derivative(u(t, x, y), (x, 2)) + Derivative(u(t, x, y), y)*Derivative(v(t, x, y), (y, 2))/2 + Derivative(u(t, x, y), (y, 2))*Derivative(v(t, x, y), y)/2 - Derivative(u(t, x, y), (x, 4))/(12*Re) - Derivative(u(t, x, y), (y, 4))/(12*Re)]"
      ]
     },
     "execution_count": 45,
     "metadata": {},
     "output_type": "execute_result"
    }
   ],
   "source": [
    "F2"
   ]
  },
  {
   "cell_type": "code",
   "execution_count": 46,
   "metadata": {},
   "outputs": [
    {
     "data": {
      "text/plain": [
       "[u(t, x, y)*Derivative(v(t, x, y), x) + v(t, x, y)*Derivative(u(t, x, y), x) + 2*v(t, x, y)*Derivative(v(t, x, y), y) + Derivative(p(t, x, y), y) + Derivative(v(t, x, y), t) - Derivative(v(t, x, y), (x, 2))/Re - Derivative(v(t, x, y), (y, 2))/Re,\n",
       " Derivative(v(t, x, y), (t, 2))/2,\n",
       " u(t, x, y)*Derivative(v(t, x, y), (x, 3))/6 + v(t, x, y)*Derivative(u(t, x, y), (x, 3))/6 + v(t, x, y)*Derivative(v(t, x, y), (y, 3))/3 + Derivative(p(t, x, y), (y, 3))/6 + Derivative(u(t, x, y), x)*Derivative(v(t, x, y), (x, 2))/2 + Derivative(u(t, x, y), (x, 2))*Derivative(v(t, x, y), x)/2 + Derivative(v(t, x, y), y)*Derivative(v(t, x, y), (y, 2)) - Derivative(v(t, x, y), (x, 4))/(12*Re) - Derivative(v(t, x, y), (y, 4))/(12*Re)]"
      ]
     },
     "execution_count": 46,
     "metadata": {},
     "output_type": "execute_result"
    }
   ],
   "source": [
    "F3"
   ]
  },
  {
   "cell_type": "code",
   "execution_count": 47,
   "metadata": {},
   "outputs": [
    {
     "data": {
      "text/plain": [
       "[2*u(t, x, y)*Derivative(u(t, x, y), (x, 2)) + 2*u(t, x, y)*Derivative(v(t, x, y), x, y) + 2*v(t, x, y)*Derivative(v(t, x, y), (y, 2)) + 2*v(t, x, y)*Derivative(u(t, x, y), x, y) + Derivative(p(t, x, y), (x, 2)) + Derivative(p(t, x, y), (y, 2)) + 2*Derivative(u(t, x, y), x)**2 + 2*Derivative(u(t, x, y), x)*Derivative(v(t, x, y), y) + 2*Derivative(u(t, x, y), y)*Derivative(v(t, x, y), x) + 2*Derivative(v(t, x, y), y)**2,\n",
       " 0,\n",
       " 2*u(t, x, y)*Derivative(u(t, x, y), (x, 4))/3 + u(t, x, y)*Derivative(v(t, x, y), x, (y, 3))/3 + u(t, x, y)*Derivative(v(t, x, y), (x, 3), y)/3 + 2*v(t, x, y)*Derivative(v(t, x, y), (y, 4))/3 + v(t, x, y)*Derivative(u(t, x, y), x, (y, 3))/3 + v(t, x, y)*Derivative(u(t, x, y), (x, 3), y)/3 + Derivative(p(t, x, y), (x, 4))/3 + Derivative(p(t, x, y), (y, 4))/3 + 8*Derivative(u(t, x, y), x)*Derivative(u(t, x, y), (x, 3))/3 + Derivative(u(t, x, y), x)*Derivative(v(t, x, y), (y, 3))/3 + Derivative(u(t, x, y), x)*Derivative(v(t, x, y), (x, 2), y) + 2*Derivative(u(t, x, y), (x, 2))**2 + Derivative(u(t, x, y), (x, 2))*Derivative(v(t, x, y), x, y) + Derivative(u(t, x, y), (x, 3))*Derivative(v(t, x, y), y)/3 + Derivative(u(t, x, y), y)*Derivative(v(t, x, y), (x, 3))/3 + Derivative(u(t, x, y), y)*Derivative(v(t, x, y), x, (y, 2)) + Derivative(u(t, x, y), (y, 2))*Derivative(v(t, x, y), x, y) + Derivative(u(t, x, y), (y, 3))*Derivative(v(t, x, y), x)/3 + Derivative(v(t, x, y), x)*Derivative(u(t, x, y), (x, 2), y) + Derivative(v(t, x, y), (x, 2))*Derivative(u(t, x, y), x, y) + 8*Derivative(v(t, x, y), y)*Derivative(v(t, x, y), (y, 3))/3 + Derivative(v(t, x, y), y)*Derivative(u(t, x, y), x, (y, 2)) + 2*Derivative(v(t, x, y), (y, 2))**2 + Derivative(v(t, x, y), (y, 2))*Derivative(u(t, x, y), x, y)]"
      ]
     },
     "execution_count": 47,
     "metadata": {},
     "output_type": "execute_result"
    }
   ],
   "source": [
    "F4"
   ]
  },
  {
   "cell_type": "code",
   "execution_count": 48,
   "metadata": {},
   "outputs": [
    {
     "data": {
      "text/latex": [
       "$\\displaystyle p_{xx} + p_{yy} + 2 u_{y} v_{x} + 2 v_{y}^{2}$"
      ],
      "text/plain": [
       "p_{xx} + p_{yy} + 2*u_{y}*v_{x} + 2*v_{y}**2"
      ]
     },
     "metadata": {},
     "output_type": "display_data"
    },
    {
     "name": "stdout",
     "output_type": "stream",
     "text": [
      "tau =>\n"
     ]
    },
    {
     "data": {
      "text/latex": [
       "$\\displaystyle 0$"
      ],
      "text/plain": [
       "0"
      ]
     },
     "metadata": {},
     "output_type": "display_data"
    },
    {
     "name": "stdout",
     "output_type": "stream",
     "text": [
      "h^2 =>\n"
     ]
    },
    {
     "data": {
      "text/latex": [
       "$\\displaystyle Re^{2} p_{x} v v_{x} - \\frac{Re^{2} p_{y} u u_{y}}{3} - \\frac{Re^{2} u^{2} u_{y} v_{x}}{3} - \\frac{Re^{2} u u_{y} v v_{y}}{3} - \\frac{Re^{2} u u_{y} v_{t}}{3} - Re^{2} u v v_{x} v_{y} + Re^{2} u_{t} v v_{x} + Re^{2} u_{y} v^{2} v_{x} - \\frac{Re p_{xy} u_{y}}{3} + Re p_{xy} v_{x} + \\frac{7 Re p_{x} v_{xy}}{3} - \\frac{Re p_{yy} v_{y}}{3} + \\frac{Re p_{y} v_{yy}}{3} + \\frac{Re u u_{y} v_{yy}}{3} - \\frac{8 Re u v_{xy} v_{y}}{3} - \\frac{2 Re u v_{x} v_{yy}}{3} + Re u_{ty} v_{x} + \\frac{7 Re u_{t} v_{xy}}{3} + 2 Re u_{y} v v_{xy} - \\frac{Re u_{y} v_{tx}}{3} - \\frac{Re u_{y} v_{x} v_{y}}{3} + Re v v_{xy} v_{x} - \\frac{Re v_{ty} v_{y}}{3} + \\frac{Re v_{t} v_{yy}}{3} - \\frac{Re v_{y}^{3}}{3} + \\frac{2 p_{yyyy}}{3} + 2 u_{y} v_{xyy} + \\frac{2 v_{xyy} v_{x}}{3} + 2 v_{xy}^{2} + \\frac{10 v_{yyy} v_{y}}{3} + 2 v_{yy}^{2}$"
      ],
      "text/plain": [
       "Re**2*p_{x}*v*v_{x} - Re**2*p_{y}*u*u_{y}/3 - Re**2*u**2*u_{y}*v_{x}/3 - Re**2*u*u_{y}*v*v_{y}/3 - Re**2*u*u_{y}*v_{t}/3 - Re**2*u*v*v_{x}*v_{y} + Re**2*u_{t}*v*v_{x} + Re**2*u_{y}*v**2*v_{x} - Re*p_{xy}*u_{y}/3 + Re*p_{xy}*v_{x} + 7*Re*p_{x}*v_{xy}/3 - Re*p_{yy}*v_{y}/3 + Re*p_{y}*v_{yy}/3 + Re*u*u_{y}*v_{yy}/3 - 8*Re*u*v_{xy}*v_{y}/3 - 2*Re*u*v_{x}*v_{yy}/3 + Re*u_{ty}*v_{x} + 7*Re*u_{t}*v_{xy}/3 + 2*Re*u_{y}*v*v_{xy} - Re*u_{y}*v_{tx}/3 - Re*u_{y}*v_{x}*v_{y}/3 + Re*v*v_{xy}*v_{x} - Re*v_{ty}*v_{y}/3 + Re*v_{t}*v_{yy}/3 - Re*v_{y}**3/3 + 2*p_{yyyy}/3 + 2*u_{y}*v_{xyy} + 2*v_{xyy}*v_{x}/3 + 2*v_{xy}**2 + 10*v_{yyy}*v_{y}/3 + 2*v_{yy}**2"
      ]
     },
     "metadata": {},
     "output_type": "display_data"
    }
   ],
   "source": [
    "f4 = NF(F4, [u.diff(x), u.diff(y, 2), v.diff(x, 2)], [F1, F2, F3], head=True)\n",
    "f4 = NF(f4, [u.diff(x), u.diff(y, 2), v.diff(x, 2), p.diff(x, 2)], [F1, F2, F3, f4])\n",
    "prn(f4)"
   ]
  },
  {
   "cell_type": "code",
   "execution_count": 49,
   "metadata": {},
   "outputs": [
    {
     "data": {
      "text/latex": [
       "$\\displaystyle 0$"
      ],
      "text/plain": [
       "0"
      ]
     },
     "metadata": {},
     "output_type": "display_data"
    },
    {
     "name": "stdout",
     "output_type": "stream",
     "text": [
      "tau =>\n"
     ]
    },
    {
     "data": {
      "text/latex": [
       "$\\displaystyle 0$"
      ],
      "text/plain": [
       "0"
      ]
     },
     "metadata": {},
     "output_type": "display_data"
    },
    {
     "name": "stdout",
     "output_type": "stream",
     "text": [
      "h^2 =>\n"
     ]
    },
    {
     "data": {
      "text/latex": [
       "$\\displaystyle 0$"
      ],
      "text/plain": [
       "0"
      ]
     },
     "metadata": {},
     "output_type": "display_data"
    }
   ],
   "source": [
    "prn([f.subs(TD).doit().simplify() for f in f4])"
   ]
  },
  {
   "cell_type": "code",
   "execution_count": 50,
   "metadata": {},
   "outputs": [
    {
     "data": {
      "text/latex": [
       "$\\displaystyle u_{x} + v_{y}$"
      ],
      "text/plain": [
       "u_{x} + v_{y}"
      ]
     },
     "metadata": {},
     "output_type": "display_data"
    },
    {
     "name": "stdout",
     "output_type": "stream",
     "text": [
      "tau =>\n"
     ]
    },
    {
     "data": {
      "text/latex": [
       "$\\displaystyle 0$"
      ],
      "text/plain": [
       "0"
      ]
     },
     "metadata": {},
     "output_type": "display_data"
    },
    {
     "name": "stdout",
     "output_type": "stream",
     "text": [
      "h^2 =>\n"
     ]
    },
    {
     "data": {
      "text/latex": [
       "$\\displaystyle - \\frac{Re p_{yy}}{6} - \\frac{Re u v_{xy}}{6} - \\frac{Re u_{y} v_{x}}{6} - \\frac{Re v v_{yy}}{6} - \\frac{Re v_{ty}}{6} - \\frac{Re v_{y}^{2}}{6} + \\frac{v_{yyy}}{3}$"
      ],
      "text/plain": [
       "-Re*p_{yy}/6 - Re*u*v_{xy}/6 - Re*u_{y}*v_{x}/6 - Re*v*v_{yy}/6 - Re*v_{ty}/6 - Re*v_{y}**2/6 + v_{yyy}/3"
      ]
     },
     "metadata": {},
     "output_type": "display_data"
    }
   ],
   "source": [
    "f1 = NF(F1, [u.diff(y, 2), v.diff(x, 2), p.diff(x, 2)], [F2, F3, f4], head=True)\n",
    "f1 = NF(f1, [u.diff(x), u.diff(y, 2), v.diff(x, 2), p.diff(x, 2)], [f1, F2, F3, f4])\n",
    "prn(f1)"
   ]
  },
  {
   "cell_type": "code",
   "execution_count": 51,
   "metadata": {},
   "outputs": [
    {
     "data": {
      "text/latex": [
       "$\\displaystyle 0$"
      ],
      "text/plain": [
       "0"
      ]
     },
     "metadata": {},
     "output_type": "display_data"
    },
    {
     "name": "stdout",
     "output_type": "stream",
     "text": [
      "tau =>\n"
     ]
    },
    {
     "data": {
      "text/latex": [
       "$\\displaystyle 0$"
      ],
      "text/plain": [
       "0"
      ]
     },
     "metadata": {},
     "output_type": "display_data"
    },
    {
     "name": "stdout",
     "output_type": "stream",
     "text": [
      "h^2 =>\n"
     ]
    },
    {
     "data": {
      "text/latex": [
       "$\\displaystyle 0$"
      ],
      "text/plain": [
       "0"
      ]
     },
     "metadata": {},
     "output_type": "display_data"
    }
   ],
   "source": [
    "prn([f.subs(TD).doit().simplify() for f in f1])"
   ]
  },
  {
   "cell_type": "code",
   "execution_count": 52,
   "metadata": {},
   "outputs": [
    {
     "data": {
      "text/latex": [
       "$\\displaystyle p_{x} - u v_{y} + u_{t} + u_{y} v - \\frac{u_{yy}}{Re} + \\frac{v_{xy}}{Re}$"
      ],
      "text/plain": [
       "p_{x} - u*v_{y} + u_{t} + u_{y}*v - u_{yy}/Re + v_{xy}/Re"
      ]
     },
     "metadata": {},
     "output_type": "display_data"
    },
    {
     "name": "stdout",
     "output_type": "stream",
     "text": [
      "tau =>\n"
     ]
    },
    {
     "data": {
      "text/latex": [
       "$\\displaystyle \\frac{u_{tt}}{2}$"
      ],
      "text/plain": [
       "u_{tt}/2"
      ]
     },
     "metadata": {},
     "output_type": "display_data"
    },
    {
     "name": "stdout",
     "output_type": "stream",
     "text": [
      "h^2 =>\n"
     ]
    },
    {
     "data": {
      "text/latex": [
       "$\\displaystyle \\frac{Re^{2} p_{x} v^{2}}{12} - \\frac{Re^{2} u v^{2} v_{y}}{12} + \\frac{Re^{2} u_{t} v^{2}}{12} + \\frac{Re^{2} u_{y} v^{3}}{12} - \\frac{Re p_{tx}}{12} + \\frac{Re p_{xy} v}{12} + \\frac{5 Re p_{x} v_{y}}{12} - \\frac{Re p_{yy} u}{12} - \\frac{5 Re p_{y} u_{y}}{12} - \\frac{Re u^{2} v_{xy}}{12} - \\frac{Re u u_{y} v_{x}}{2} - \\frac{Re u v v_{yy}}{6} - \\frac{Re u v_{y}^{2}}{2} - \\frac{Re u_{tt}}{12} + \\frac{Re u_{t} v_{y}}{2} - \\frac{Re u_{y} v_{t}}{2} + \\frac{Re v^{2} v_{xy}}{12} - \\frac{p_{xyy}}{3} + u_{y} v_{yy} - \\frac{v_{txy}}{6} + \\frac{2 v_{xy} v_{y}}{3} + \\frac{v_{x} v_{yy}}{3} + \\frac{v_{xyyy}}{6 Re}$"
      ],
      "text/plain": [
       "Re**2*p_{x}*v**2/12 - Re**2*u*v**2*v_{y}/12 + Re**2*u_{t}*v**2/12 + Re**2*u_{y}*v**3/12 - Re*p_{tx}/12 + Re*p_{xy}*v/12 + 5*Re*p_{x}*v_{y}/12 - Re*p_{yy}*u/12 - 5*Re*p_{y}*u_{y}/12 - Re*u**2*v_{xy}/12 - Re*u*u_{y}*v_{x}/2 - Re*u*v*v_{yy}/6 - Re*u*v_{y}**2/2 - Re*u_{tt}/12 + Re*u_{t}*v_{y}/2 - Re*u_{y}*v_{t}/2 + Re*v**2*v_{xy}/12 - p_{xyy}/3 + u_{y}*v_{yy} - v_{txy}/6 + 2*v_{xy}*v_{y}/3 + v_{x}*v_{yy}/3 + v_{xyyy}/(6*Re)"
      ]
     },
     "metadata": {},
     "output_type": "display_data"
    }
   ],
   "source": [
    "f2 = NF(F2, [u.diff(x), v.diff(x, 2), p.diff(x, 2)], [f1, F3, f4], head=True)\n",
    "f2 = NF(f2, [u.diff(x), u.diff(y, 2), v.diff(x, 2), p.diff(x, 2)], [f1, f2, F3, f4])\n",
    "prn(f2)"
   ]
  },
  {
   "cell_type": "code",
   "execution_count": 53,
   "metadata": {},
   "outputs": [
    {
     "data": {
      "text/latex": [
       "$\\displaystyle 0$"
      ],
      "text/plain": [
       "0"
      ]
     },
     "metadata": {},
     "output_type": "display_data"
    },
    {
     "name": "stdout",
     "output_type": "stream",
     "text": [
      "tau =>\n"
     ]
    },
    {
     "data": {
      "text/latex": [
       "$\\displaystyle - \\frac{2 e^{- \\frac{2 t}{Re}} \\sin{\\left(y \\right)} \\cos{\\left(x \\right)}}{Re^{2}}$"
      ],
      "text/plain": [
       "-2*exp(-2*t/Re)*sin(y)*cos(x)/Re**2"
      ]
     },
     "metadata": {},
     "output_type": "display_data"
    },
    {
     "name": "stdout",
     "output_type": "stream",
     "text": [
      "h^2 =>\n"
     ]
    },
    {
     "data": {
      "text/latex": [
       "$\\displaystyle \\frac{e^{- \\frac{2 t}{Re}} \\sin{\\left(y \\right)} \\cos{\\left(x \\right)}}{6 Re}$"
      ],
      "text/plain": [
       "exp(-2*t/Re)*sin(y)*cos(x)/(6*Re)"
      ]
     },
     "metadata": {},
     "output_type": "display_data"
    }
   ],
   "source": [
    "prn([f.subs(TD).doit().simplify() for f in f2])"
   ]
  },
  {
   "cell_type": "code",
   "execution_count": 54,
   "metadata": {},
   "outputs": [
    {
     "data": {
      "text/latex": [
       "$\\displaystyle p_{y} + u v_{x} + v v_{y} + v_{t} - \\frac{v_{xx}}{Re} - \\frac{v_{yy}}{Re}$"
      ],
      "text/plain": [
       "p_{y} + u*v_{x} + v*v_{y} + v_{t} - v_{xx}/Re - v_{yy}/Re"
      ]
     },
     "metadata": {},
     "output_type": "display_data"
    },
    {
     "name": "stdout",
     "output_type": "stream",
     "text": [
      "tau =>\n"
     ]
    },
    {
     "data": {
      "text/latex": [
       "$\\displaystyle \\frac{v_{tt}}{2}$"
      ],
      "text/plain": [
       "v_{tt}/2"
      ]
     },
     "metadata": {},
     "output_type": "display_data"
    },
    {
     "name": "stdout",
     "output_type": "stream",
     "text": [
      "h^2 =>\n"
     ]
    },
    {
     "data": {
      "text/latex": [
       "$\\displaystyle \\frac{Re^{2} p_{y} u^{2}}{12} + \\frac{Re^{2} u^{3} v_{x}}{12} + \\frac{Re^{2} u^{2} v v_{y}}{12} + \\frac{Re^{2} u^{2} v_{t}}{12} - \\frac{Re p_{ty}}{12} + \\frac{Re p_{xy} u}{12} + \\frac{Re p_{x} v_{x}}{4} - \\frac{Re p_{yy} v}{12} - \\frac{5 Re p_{y} v_{y}}{12} - \\frac{Re u^{2} v_{yy}}{12} - \\frac{2 Re u v_{x} v_{y}}{3} + \\frac{Re u_{t} v_{x}}{6} + \\frac{Re u_{y} v v_{x}}{6} - \\frac{Re v^{2} v_{yy}}{12} - \\frac{Re v v_{ty}}{6} - \\frac{Re v v_{y}^{2}}{2} - \\frac{Re v_{tt}}{12} - \\frac{Re v_{t} v_{y}}{2} + \\frac{p_{yyy}}{3} + \\frac{u_{y} v_{xy}}{3} + \\frac{v v_{yyy}}{3} + \\frac{v_{tyy}}{6} - \\frac{v_{xy} v_{x}}{3} + 2 v_{yy} v_{y} - \\frac{v_{yyyy}}{6 Re}$"
      ],
      "text/plain": [
       "Re**2*p_{y}*u**2/12 + Re**2*u**3*v_{x}/12 + Re**2*u**2*v*v_{y}/12 + Re**2*u**2*v_{t}/12 - Re*p_{ty}/12 + Re*p_{xy}*u/12 + Re*p_{x}*v_{x}/4 - Re*p_{yy}*v/12 - 5*Re*p_{y}*v_{y}/12 - Re*u**2*v_{yy}/12 - 2*Re*u*v_{x}*v_{y}/3 + Re*u_{t}*v_{x}/6 + Re*u_{y}*v*v_{x}/6 - Re*v**2*v_{yy}/12 - Re*v*v_{ty}/6 - Re*v*v_{y}**2/2 - Re*v_{tt}/12 - Re*v_{t}*v_{y}/2 + p_{yyy}/3 + u_{y}*v_{xy}/3 + v*v_{yyy}/3 + v_{tyy}/6 - v_{xy}*v_{x}/3 + 2*v_{yy}*v_{y} - v_{yyyy}/(6*Re)"
      ]
     },
     "metadata": {},
     "output_type": "display_data"
    }
   ],
   "source": [
    "f3 = NF(F3, [u.diff(x), u.diff(y, 2), p.diff(x, 2)], [f1, f2, f4], head=True)\n",
    "f3 = NF(f3, [u.diff(x), u.diff(y, 2), v.diff(x, 2), p.diff(x, 2)], [f1, f2, f3, f4])\n",
    "prn(f3)"
   ]
  },
  {
   "cell_type": "code",
   "execution_count": 55,
   "metadata": {},
   "outputs": [
    {
     "data": {
      "text/latex": [
       "$\\displaystyle 0$"
      ],
      "text/plain": [
       "0"
      ]
     },
     "metadata": {},
     "output_type": "display_data"
    },
    {
     "name": "stdout",
     "output_type": "stream",
     "text": [
      "tau =>\n"
     ]
    },
    {
     "data": {
      "text/latex": [
       "$\\displaystyle \\frac{2 e^{- \\frac{2 t}{Re}} \\sin{\\left(x \\right)} \\cos{\\left(y \\right)}}{Re^{2}}$"
      ],
      "text/plain": [
       "2*exp(-2*t/Re)*sin(x)*cos(y)/Re**2"
      ]
     },
     "metadata": {},
     "output_type": "display_data"
    },
    {
     "name": "stdout",
     "output_type": "stream",
     "text": [
      "h^2 =>\n"
     ]
    },
    {
     "data": {
      "text/latex": [
       "$\\displaystyle - \\frac{e^{- \\frac{2 t}{Re}} \\sin{\\left(x \\right)} \\cos{\\left(y \\right)}}{6 Re}$"
      ],
      "text/plain": [
       "-exp(-2*t/Re)*sin(x)*cos(y)/(6*Re)"
      ]
     },
     "metadata": {},
     "output_type": "display_data"
    }
   ],
   "source": [
    "prn([f.subs(TD).doit().simplify() for f in f3])"
   ]
  },
  {
   "cell_type": "code",
   "execution_count": 56,
   "metadata": {},
   "outputs": [
    {
     "data": {
      "text/latex": [
       "$\\displaystyle 0$"
      ],
      "text/plain": [
       "0"
      ]
     },
     "metadata": {},
     "output_type": "display_data"
    },
    {
     "name": "stdout",
     "output_type": "stream",
     "text": [
      "tau =>\n"
     ]
    },
    {
     "data": {
      "text/latex": [
       "$\\displaystyle 0$"
      ],
      "text/plain": [
       "0"
      ]
     },
     "metadata": {},
     "output_type": "display_data"
    },
    {
     "name": "stdout",
     "output_type": "stream",
     "text": [
      "h^2 =>\n"
     ]
    },
    {
     "data": {
      "text/latex": [
       "$\\displaystyle 0$"
      ],
      "text/plain": [
       "0"
      ]
     },
     "metadata": {},
     "output_type": "display_data"
    }
   ],
   "source": [
    "spoly = [a.diff(x) + b.diff(y) for a, b in zip(f2, f3)]\n",
    "spoly = NF(spoly, [u.diff(x), u.diff(y, 2), v.diff(x, 2), p.diff(x, 2)], [f1, f2, f3, f4], head=True)\n",
    "prn(spoly)"
   ]
  },
  {
   "cell_type": "code",
   "execution_count": 57,
   "metadata": {},
   "outputs": [
    {
     "data": {
      "text/latex": [
       "$\\displaystyle 0$"
      ],
      "text/plain": [
       "0"
      ]
     },
     "metadata": {},
     "output_type": "display_data"
    },
    {
     "name": "stdout",
     "output_type": "stream",
     "text": [
      "tau =>\n"
     ]
    },
    {
     "data": {
      "text/latex": [
       "$\\displaystyle 0$"
      ],
      "text/plain": [
       "0"
      ]
     },
     "metadata": {},
     "output_type": "display_data"
    },
    {
     "name": "stdout",
     "output_type": "stream",
     "text": [
      "h^2 =>\n"
     ]
    },
    {
     "data": {
      "text/latex": [
       "$\\displaystyle 0$"
      ],
      "text/plain": [
       "0"
      ]
     },
     "metadata": {},
     "output_type": "display_data"
    }
   ],
   "source": [
    "prn([f.subs(TD).doit().simplify() for f in spoly])"
   ]
  },
  {
   "cell_type": "code",
   "execution_count": 58,
   "metadata": {},
   "outputs": [
    {
     "data": {
      "text/latex": [
       "$\\displaystyle 0$"
      ],
      "text/plain": [
       "0"
      ]
     },
     "metadata": {},
     "output_type": "display_data"
    },
    {
     "name": "stdout",
     "output_type": "stream",
     "text": [
      "tau =>\n"
     ]
    },
    {
     "data": {
      "text/latex": [
       "$\\displaystyle 0$"
      ],
      "text/plain": [
       "0"
      ]
     },
     "metadata": {},
     "output_type": "display_data"
    },
    {
     "name": "stdout",
     "output_type": "stream",
     "text": [
      "h^2 =>\n"
     ]
    },
    {
     "data": {
      "text/latex": [
       "$\\displaystyle 0$"
      ],
      "text/plain": [
       "0"
      ]
     },
     "metadata": {},
     "output_type": "display_data"
    }
   ],
   "source": [
    "prn([f.subs(KF).doit().simplify() for f in spoly])"
   ]
  },
  {
   "cell_type": "markdown",
   "metadata": {},
   "source": [
    "# FDA4"
   ]
  },
  {
   "cell_type": "markdown",
   "metadata": {},
   "source": [
    "\\begin{equation}\n",
    "\\left\\lbrace \n",
    "\\begin{array}{rl}\n",
    "F^1:& \\operatorname{D_1}(u) + \\operatorname{D_2}(v)=0 ,\\\\[4pt]\n",
    "F^2:& \\operatorname{D_t}(u) + u\\operatorname{D_1}(u)+\n",
    "v\\operatorname{D_2}(u) + \n",
    "\\operatorname{D_1}(p) - \\frac{1}{\\mathrm{Re}} \\tilde{\\Delta} (u)\n",
    "=0 ,\\\\[4pt]\n",
    "F^3:& \\operatorname{D_t}(v) + u\\operatorname{D_1}(v)+\n",
    "v\\operatorname{D_2}(v) +\n",
    "\\operatorname{D_2}(p) - \\frac{1}{\\mathrm{Re}} \\tilde{\\Delta} (v)\n",
    "=0 ,\\\\[4pt]\n",
    "F^4:& \\left(\\operatorname{D_1}^2 + \\operatorname{D_2}^2\\right)(p) \n",
    "    + \\operatorname{D_1}(u\\operatorname{D_1}(u))\n",
    "    + \\operatorname{D_2}(v\\operatorname{D_2}(v)) + {} \\\\\n",
    "&{} +  \\operatorname{D_1}(v\\operatorname{D_2}(u))\n",
    "    + \\operatorname{D_2}(u\\operatorname{D_1}(v))\n",
    "- \\frac{1}{\\mathrm{Re}}\\tilde{\\Delta}(F^1)\n",
    "=0 .\n",
    "\\end{array}\n",
    "\\right. \n",
    "\\end{equation}"
   ]
  },
  {
   "cell_type": "code",
   "execution_count": 59,
   "metadata": {},
   "outputs": [],
   "source": [
    "F1 = clip(Dx(u) + Dy(v))\n",
    "F2 = clip(Dt(u) + u*Dx(u) + v*Dy(u) + Dx(p) - DD(u)/Re)\n",
    "F3 = clip(Dt(v) + u*Dx(v) + v*Dy(v) + Dy(p) - DD(v)/Re)\n",
    "F4 = clip(DD2(p) + Dx(u*Dx(u)) + Dy(v*Dy(v)) + Dx(v*Dy(u)) + Dy(u*Dx(v)) - (DDx(u) + DDy(v))/Re)"
   ]
  },
  {
   "cell_type": "code",
   "execution_count": 60,
   "metadata": {},
   "outputs": [
    {
     "data": {
      "text/plain": [
       "[Derivative(u(t, x, y), x) + Derivative(v(t, x, y), y),\n",
       " 0,\n",
       " Derivative(u(t, x, y), (x, 3))/6 + Derivative(v(t, x, y), (y, 3))/6]"
      ]
     },
     "execution_count": 60,
     "metadata": {},
     "output_type": "execute_result"
    }
   ],
   "source": [
    "F1"
   ]
  },
  {
   "cell_type": "code",
   "execution_count": 61,
   "metadata": {},
   "outputs": [
    {
     "data": {
      "text/plain": [
       "[u(t, x, y)*Derivative(u(t, x, y), x) + v(t, x, y)*Derivative(u(t, x, y), y) + Derivative(p(t, x, y), x) + Derivative(u(t, x, y), t) - Derivative(u(t, x, y), (x, 2))/Re - Derivative(u(t, x, y), (y, 2))/Re,\n",
       " Derivative(u(t, x, y), (t, 2))/2,\n",
       " u(t, x, y)*Derivative(u(t, x, y), (x, 3))/6 + v(t, x, y)*Derivative(u(t, x, y), (y, 3))/6 + Derivative(p(t, x, y), (x, 3))/6 - Derivative(u(t, x, y), (x, 4))/(12*Re) - Derivative(u(t, x, y), (y, 4))/(12*Re)]"
      ]
     },
     "execution_count": 61,
     "metadata": {},
     "output_type": "execute_result"
    }
   ],
   "source": [
    "F2"
   ]
  },
  {
   "cell_type": "code",
   "execution_count": 62,
   "metadata": {},
   "outputs": [
    {
     "data": {
      "text/plain": [
       "[u(t, x, y)*Derivative(v(t, x, y), x) + v(t, x, y)*Derivative(v(t, x, y), y) + Derivative(p(t, x, y), y) + Derivative(v(t, x, y), t) - Derivative(v(t, x, y), (x, 2))/Re - Derivative(v(t, x, y), (y, 2))/Re,\n",
       " Derivative(v(t, x, y), (t, 2))/2,\n",
       " u(t, x, y)*Derivative(v(t, x, y), (x, 3))/6 + v(t, x, y)*Derivative(v(t, x, y), (y, 3))/6 + Derivative(p(t, x, y), (y, 3))/6 - Derivative(v(t, x, y), (x, 4))/(12*Re) - Derivative(v(t, x, y), (y, 4))/(12*Re)]"
      ]
     },
     "execution_count": 62,
     "metadata": {},
     "output_type": "execute_result"
    }
   ],
   "source": [
    "F3"
   ]
  },
  {
   "cell_type": "code",
   "execution_count": 63,
   "metadata": {},
   "outputs": [
    {
     "data": {
      "text/plain": [
       "[u(t, x, y)*Derivative(u(t, x, y), (x, 2)) + u(t, x, y)*Derivative(v(t, x, y), x, y) + v(t, x, y)*Derivative(v(t, x, y), (y, 2)) + v(t, x, y)*Derivative(u(t, x, y), x, y) + Derivative(p(t, x, y), (x, 2)) + Derivative(p(t, x, y), (y, 2)) + Derivative(u(t, x, y), x)**2 + 2*Derivative(u(t, x, y), y)*Derivative(v(t, x, y), x) + Derivative(v(t, x, y), y)**2 - Derivative(u(t, x, y), (x, 3))/Re - Derivative(v(t, x, y), (y, 3))/Re - Derivative(u(t, x, y), x, (y, 2))/Re - Derivative(v(t, x, y), (x, 2), y)/Re,\n",
       " 0,\n",
       " u(t, x, y)*Derivative(u(t, x, y), (x, 4))/3 + u(t, x, y)*Derivative(v(t, x, y), x, (y, 3))/6 + u(t, x, y)*Derivative(v(t, x, y), (x, 3), y)/6 + v(t, x, y)*Derivative(v(t, x, y), (y, 4))/3 + v(t, x, y)*Derivative(u(t, x, y), x, (y, 3))/6 + v(t, x, y)*Derivative(u(t, x, y), (x, 3), y)/6 + Derivative(p(t, x, y), (x, 4))/3 + Derivative(p(t, x, y), (y, 4))/3 + 5*Derivative(u(t, x, y), x)*Derivative(u(t, x, y), (x, 3))/6 + Derivative(u(t, x, y), (x, 2))**2/2 + Derivative(u(t, x, y), y)*Derivative(v(t, x, y), (x, 3))/3 + Derivative(u(t, x, y), y)*Derivative(v(t, x, y), x, (y, 2))/2 + Derivative(u(t, x, y), (y, 2))*Derivative(v(t, x, y), x, y)/2 + Derivative(u(t, x, y), (y, 3))*Derivative(v(t, x, y), x)/3 + Derivative(v(t, x, y), x)*Derivative(u(t, x, y), (x, 2), y)/2 + Derivative(v(t, x, y), (x, 2))*Derivative(u(t, x, y), x, y)/2 + 5*Derivative(v(t, x, y), y)*Derivative(v(t, x, y), (y, 3))/6 + Derivative(v(t, x, y), (y, 2))**2/2]"
      ]
     },
     "execution_count": 63,
     "metadata": {},
     "output_type": "execute_result"
    }
   ],
   "source": [
    "F4"
   ]
  },
  {
   "cell_type": "code",
   "execution_count": 64,
   "metadata": {},
   "outputs": [
    {
     "data": {
      "text/latex": [
       "$\\displaystyle p_{xx} + p_{yy} + 2 u_{y} v_{x} + 2 v_{y}^{2}$"
      ],
      "text/plain": [
       "p_{xx} + p_{yy} + 2*u_{y}*v_{x} + 2*v_{y}**2"
      ]
     },
     "metadata": {},
     "output_type": "display_data"
    },
    {
     "name": "stdout",
     "output_type": "stream",
     "text": [
      "tau =>\n"
     ]
    },
    {
     "data": {
      "text/latex": [
       "$\\displaystyle 0$"
      ],
      "text/plain": [
       "0"
      ]
     },
     "metadata": {},
     "output_type": "display_data"
    },
    {
     "name": "stdout",
     "output_type": "stream",
     "text": [
      "h^2 =>\n"
     ]
    },
    {
     "data": {
      "text/latex": [
       "$\\displaystyle \\frac{4 Re^{2} p_{x} v v_{x}}{3} - \\frac{Re^{2} p_{yy} u^{2}}{6} - \\frac{2 Re^{2} p_{y} u u_{y}}{3} - \\frac{Re^{2} u^{3} v_{xy}}{6} - \\frac{5 Re^{2} u^{2} u_{y} v_{x}}{6} - \\frac{Re^{2} u^{2} v v_{yy}}{6} - \\frac{Re^{2} u^{2} v_{ty}}{6} - \\frac{Re^{2} u^{2} v_{y}^{2}}{6} - \\frac{2 Re^{2} u u_{y} v v_{y}}{3} - \\frac{2 Re^{2} u u_{y} v_{t}}{3} - \\frac{4 Re^{2} u v v_{x} v_{y}}{3} + \\frac{4 Re^{2} u_{t} v v_{x}}{3} + \\frac{4 Re^{2} u_{y} v^{2} v_{x}}{3} - \\frac{Re p_{tyy}}{6} - \\frac{Re p_{xyy} u}{6} - \\frac{Re p_{xy} u_{y}}{2} + \\frac{3 Re p_{xy} v_{x}}{2} + 3 Re p_{x} v_{xy} - \\frac{Re p_{yyy} v}{6} - \\frac{5 Re p_{yy} v_{y}}{6} + Re p_{y} v_{yy} + \\frac{Re u^{2} v_{yyy}}{6} + \\frac{2 Re u u_{y} v_{yy}}{3} - \\frac{Re u v v_{xyy}}{3} - \\frac{Re u v_{txy}}{3} - 4 Re u v_{xy} v_{y} - \\frac{Re u v_{x} v_{yy}}{2} + \\frac{4 Re u_{ty} v_{x}}{3} + \\frac{17 Re u_{t} v_{xy}}{6} + \\frac{13 Re u_{y} v v_{xy}}{6} - \\frac{2 Re u_{y} v_{tx}}{3} - \\frac{5 Re u_{y} v_{x} v_{y}}{6} - \\frac{Re v^{2} v_{yyy}}{6} - \\frac{Re v v_{tyy}}{3} + \\frac{4 Re v v_{xy} v_{x}}{3} - \\frac{Re v v_{yy} v_{y}}{3} - \\frac{Re v_{tty}}{6} - \\frac{7 Re v_{ty} v_{y}}{6} + \\frac{5 Re v_{t} v_{yy}}{6} - \\frac{5 Re v_{y}^{3}}{6} + p_{yyyy} + \\frac{u v_{xyyy}}{3} + \\frac{5 u_{y} v_{xyy}}{2} + \\frac{v v_{yyyy}}{3} + \\frac{v_{tyyy}}{3} + \\frac{3 v_{xyy} v_{x}}{2} + 2 v_{xy}^{2} + \\frac{14 v_{yyy} v_{y}}{3} + 2 v_{yy}^{2}$"
      ],
      "text/plain": [
       "4*Re**2*p_{x}*v*v_{x}/3 - Re**2*p_{yy}*u**2/6 - 2*Re**2*p_{y}*u*u_{y}/3 - Re**2*u**3*v_{xy}/6 - 5*Re**2*u**2*u_{y}*v_{x}/6 - Re**2*u**2*v*v_{yy}/6 - Re**2*u**2*v_{ty}/6 - Re**2*u**2*v_{y}**2/6 - 2*Re**2*u*u_{y}*v*v_{y}/3 - 2*Re**2*u*u_{y}*v_{t}/3 - 4*Re**2*u*v*v_{x}*v_{y}/3 + 4*Re**2*u_{t}*v*v_{x}/3 + 4*Re**2*u_{y}*v**2*v_{x}/3 - Re*p_{tyy}/6 - Re*p_{xyy}*u/6 - Re*p_{xy}*u_{y}/2 + 3*Re*p_{xy}*v_{x}/2 + 3*Re*p_{x}*v_{xy} - Re*p_{yyy}*v/6 - 5*Re*p_{yy}*v_{y}/6 + Re*p_{y}*v_{yy} + Re*u**2*v_{yyy}/6 + 2*Re*u*u_{y}*v_{yy}/3 - Re*u*v*v_{xyy}/3 - Re*u*v_{txy}/3 - 4*Re*u*v_{xy}*v_{y} - Re*u*v_{x}*v_{yy}/2 + 4*Re*u_{ty}*v_{x}/3 + 17*Re*u_{t}*v_{xy}/6 + 13*Re*u_{y}*v*v_{xy}/6 - 2*Re*u_{y}*v_{tx}/3 - 5*Re*u_{y}*v_{x}*v_{y}/6 - Re*v**2*v_{yyy}/6 - Re*v*v_{tyy}/3 + 4*Re*v*v_{xy}*v_{x}/3 - Re*v*v_{yy}*v_{y}/3 - Re*v_{tty}/6 - 7*Re*v_{ty}*v_{y}/6 + 5*Re*v_{t}*v_{yy}/6 - 5*Re*v_{y}**3/6 + p_{yyyy} + u*v_{xyyy}/3 + 5*u_{y}*v_{xyy}/2 + v*v_{yyyy}/3 + v_{tyyy}/3 + 3*v_{xyy}*v_{x}/2 + 2*v_{xy}**2 + 14*v_{yyy}*v_{y}/3 + 2*v_{yy}**2"
      ]
     },
     "metadata": {},
     "output_type": "display_data"
    }
   ],
   "source": [
    "f4 = NF(F4, [u.diff(x), u.diff(y, 2), v.diff(x, 2)], [F1, F2, F3], head=True)\n",
    "f4 = NF(f4, [u.diff(x), u.diff(y, 2), v.diff(x, 2), p.diff(x, 2)], [F1, F2, F3, f4])\n",
    "prn(f4)"
   ]
  },
  {
   "cell_type": "code",
   "execution_count": 65,
   "metadata": {},
   "outputs": [
    {
     "data": {
      "text/latex": [
       "$\\displaystyle 0$"
      ],
      "text/plain": [
       "0"
      ]
     },
     "metadata": {},
     "output_type": "display_data"
    },
    {
     "name": "stdout",
     "output_type": "stream",
     "text": [
      "tau =>\n"
     ]
    },
    {
     "data": {
      "text/latex": [
       "$\\displaystyle 0$"
      ],
      "text/plain": [
       "0"
      ]
     },
     "metadata": {},
     "output_type": "display_data"
    },
    {
     "name": "stdout",
     "output_type": "stream",
     "text": [
      "h^2 =>\n"
     ]
    },
    {
     "data": {
      "text/latex": [
       "$\\displaystyle \\left(\\sin^{2}{\\left(x \\right)} + \\sin^{2}{\\left(y \\right)} - 1\\right) e^{- \\frac{4 t}{Re}}$"
      ],
      "text/plain": [
       "(sin(x)**2 + sin(y)**2 - 1)*exp(-4*t/Re)"
      ]
     },
     "metadata": {},
     "output_type": "display_data"
    }
   ],
   "source": [
    "prn([f.subs(TD).doit().simplify() for f in f4])"
   ]
  },
  {
   "cell_type": "code",
   "execution_count": 66,
   "metadata": {},
   "outputs": [
    {
     "data": {
      "text/latex": [
       "$\\displaystyle u_{x} + v_{y}$"
      ],
      "text/plain": [
       "u_{x} + v_{y}"
      ]
     },
     "metadata": {},
     "output_type": "display_data"
    },
    {
     "name": "stdout",
     "output_type": "stream",
     "text": [
      "tau =>\n"
     ]
    },
    {
     "data": {
      "text/latex": [
       "$\\displaystyle 0$"
      ],
      "text/plain": [
       "0"
      ]
     },
     "metadata": {},
     "output_type": "display_data"
    },
    {
     "name": "stdout",
     "output_type": "stream",
     "text": [
      "h^2 =>\n"
     ]
    },
    {
     "data": {
      "text/latex": [
       "$\\displaystyle - \\frac{Re p_{yy}}{6} - \\frac{Re u v_{xy}}{6} - \\frac{Re u_{y} v_{x}}{6} - \\frac{Re v v_{yy}}{6} - \\frac{Re v_{ty}}{6} - \\frac{Re v_{y}^{2}}{6} + \\frac{v_{yyy}}{3}$"
      ],
      "text/plain": [
       "-Re*p_{yy}/6 - Re*u*v_{xy}/6 - Re*u_{y}*v_{x}/6 - Re*v*v_{yy}/6 - Re*v_{ty}/6 - Re*v_{y}**2/6 + v_{yyy}/3"
      ]
     },
     "metadata": {},
     "output_type": "display_data"
    }
   ],
   "source": [
    "f1 = NF(F1, [u.diff(y, 2), v.diff(x, 2), p.diff(x, 2)], [F2, F3, f4], head=True)\n",
    "f1 = NF(f1, [u.diff(x), u.diff(y, 2), v.diff(x, 2), p.diff(x, 2)], [f1, F2, F3, f4])\n",
    "prn(f1)"
   ]
  },
  {
   "cell_type": "code",
   "execution_count": 67,
   "metadata": {},
   "outputs": [
    {
     "data": {
      "text/latex": [
       "$\\displaystyle 0$"
      ],
      "text/plain": [
       "0"
      ]
     },
     "metadata": {},
     "output_type": "display_data"
    },
    {
     "name": "stdout",
     "output_type": "stream",
     "text": [
      "tau =>\n"
     ]
    },
    {
     "data": {
      "text/latex": [
       "$\\displaystyle 0$"
      ],
      "text/plain": [
       "0"
      ]
     },
     "metadata": {},
     "output_type": "display_data"
    },
    {
     "name": "stdout",
     "output_type": "stream",
     "text": [
      "h^2 =>\n"
     ]
    },
    {
     "data": {
      "text/latex": [
       "$\\displaystyle 0$"
      ],
      "text/plain": [
       "0"
      ]
     },
     "metadata": {},
     "output_type": "display_data"
    }
   ],
   "source": [
    "prn([f.subs(TD).doit().simplify() for f in f1])"
   ]
  },
  {
   "cell_type": "code",
   "execution_count": 68,
   "metadata": {},
   "outputs": [
    {
     "data": {
      "text/latex": [
       "$\\displaystyle p_{x} - u v_{y} + u_{t} + u_{y} v - \\frac{u_{yy}}{Re} + \\frac{v_{xy}}{Re}$"
      ],
      "text/plain": [
       "p_{x} - u*v_{y} + u_{t} + u_{y}*v - u_{yy}/Re + v_{xy}/Re"
      ]
     },
     "metadata": {},
     "output_type": "display_data"
    },
    {
     "name": "stdout",
     "output_type": "stream",
     "text": [
      "tau =>\n"
     ]
    },
    {
     "data": {
      "text/latex": [
       "$\\displaystyle \\frac{u_{tt}}{2}$"
      ],
      "text/plain": [
       "u_{tt}/2"
      ]
     },
     "metadata": {},
     "output_type": "display_data"
    },
    {
     "name": "stdout",
     "output_type": "stream",
     "text": [
      "h^2 =>\n"
     ]
    },
    {
     "data": {
      "text/latex": [
       "$\\displaystyle \\frac{Re^{2} p_{x} v^{2}}{12} - \\frac{Re^{2} u v^{2} v_{y}}{12} + \\frac{Re^{2} u_{t} v^{2}}{12} + \\frac{Re^{2} u_{y} v^{3}}{12} - \\frac{Re p_{tx}}{12} + \\frac{Re p_{xy} v}{12} - \\frac{Re p_{x} v_{y}}{12} - \\frac{Re p_{yy} u}{12} - \\frac{5 Re p_{y} u_{y}}{12} - \\frac{Re u^{2} v_{xy}}{12} - \\frac{Re u u_{y} v_{x}}{2} - \\frac{Re u v v_{yy}}{6} - \\frac{Re u_{tt}}{12} - \\frac{Re u_{y} v v_{y}}{2} - \\frac{Re u_{y} v_{t}}{2} + \\frac{Re v^{2} v_{xy}}{12} - \\frac{p_{xyy}}{3} + \\frac{u_{y} v_{yy}}{2} - \\frac{v_{txy}}{6} - \\frac{5 v_{xy} v_{y}}{6} + \\frac{v_{x} v_{yy}}{3} + \\frac{v_{xyyy}}{6 Re}$"
      ],
      "text/plain": [
       "Re**2*p_{x}*v**2/12 - Re**2*u*v**2*v_{y}/12 + Re**2*u_{t}*v**2/12 + Re**2*u_{y}*v**3/12 - Re*p_{tx}/12 + Re*p_{xy}*v/12 - Re*p_{x}*v_{y}/12 - Re*p_{yy}*u/12 - 5*Re*p_{y}*u_{y}/12 - Re*u**2*v_{xy}/12 - Re*u*u_{y}*v_{x}/2 - Re*u*v*v_{yy}/6 - Re*u_{tt}/12 - Re*u_{y}*v*v_{y}/2 - Re*u_{y}*v_{t}/2 + Re*v**2*v_{xy}/12 - p_{xyy}/3 + u_{y}*v_{yy}/2 - v_{txy}/6 - 5*v_{xy}*v_{y}/6 + v_{x}*v_{yy}/3 + v_{xyyy}/(6*Re)"
      ]
     },
     "metadata": {},
     "output_type": "display_data"
    }
   ],
   "source": [
    "f2 = NF(F2, [u.diff(x), v.diff(x, 2), p.diff(x, 2)], [f1, F3, f4], head=True)\n",
    "f2 = NF(f2, [u.diff(x), u.diff(y, 2), v.diff(x, 2), p.diff(x, 2)], [f1, f2, F3, f4])\n",
    "prn(f2)"
   ]
  },
  {
   "cell_type": "code",
   "execution_count": 69,
   "metadata": {},
   "outputs": [
    {
     "data": {
      "text/latex": [
       "$\\displaystyle 0$"
      ],
      "text/plain": [
       "0"
      ]
     },
     "metadata": {},
     "output_type": "display_data"
    },
    {
     "name": "stdout",
     "output_type": "stream",
     "text": [
      "tau =>\n"
     ]
    },
    {
     "data": {
      "text/latex": [
       "$\\displaystyle - \\frac{2 e^{- \\frac{2 t}{Re}} \\sin{\\left(y \\right)} \\cos{\\left(x \\right)}}{Re^{2}}$"
      ],
      "text/plain": [
       "-2*exp(-2*t/Re)*sin(y)*cos(x)/Re**2"
      ]
     },
     "metadata": {},
     "output_type": "display_data"
    },
    {
     "name": "stdout",
     "output_type": "stream",
     "text": [
      "h^2 =>\n"
     ]
    },
    {
     "data": {
      "text/latex": [
       "$\\displaystyle \\frac{\\left(- 3 Re \\sin{\\left(x \\right)} + e^{\\frac{2 t}{Re}} \\sin{\\left(y \\right)}\\right) e^{- \\frac{4 t}{Re}} \\cos{\\left(x \\right)}}{6 Re}$"
      ],
      "text/plain": [
       "(-3*Re*sin(x) + exp(2*t/Re)*sin(y))*exp(-4*t/Re)*cos(x)/(6*Re)"
      ]
     },
     "metadata": {},
     "output_type": "display_data"
    }
   ],
   "source": [
    "prn([f.subs(TD).doit().simplify() for f in f2])"
   ]
  },
  {
   "cell_type": "code",
   "execution_count": 70,
   "metadata": {},
   "outputs": [
    {
     "data": {
      "text/latex": [
       "$\\displaystyle p_{y} + u v_{x} + v v_{y} + v_{t} - \\frac{v_{xx}}{Re} - \\frac{v_{yy}}{Re}$"
      ],
      "text/plain": [
       "p_{y} + u*v_{x} + v*v_{y} + v_{t} - v_{xx}/Re - v_{yy}/Re"
      ]
     },
     "metadata": {},
     "output_type": "display_data"
    },
    {
     "name": "stdout",
     "output_type": "stream",
     "text": [
      "tau =>\n"
     ]
    },
    {
     "data": {
      "text/latex": [
       "$\\displaystyle \\frac{v_{tt}}{2}$"
      ],
      "text/plain": [
       "v_{tt}/2"
      ]
     },
     "metadata": {},
     "output_type": "display_data"
    },
    {
     "name": "stdout",
     "output_type": "stream",
     "text": [
      "h^2 =>\n"
     ]
    },
    {
     "data": {
      "text/latex": [
       "$\\displaystyle \\frac{Re^{2} p_{y} u^{2}}{12} + \\frac{Re^{2} u^{3} v_{x}}{12} + \\frac{Re^{2} u^{2} v v_{y}}{12} + \\frac{Re^{2} u^{2} v_{t}}{12} - \\frac{Re p_{ty}}{12} + \\frac{Re p_{xy} u}{12} + \\frac{Re p_{x} v_{x}}{4} - \\frac{Re p_{yy} v}{12} + \\frac{Re p_{y} v_{y}}{12} - \\frac{Re u^{2} v_{yy}}{12} - \\frac{Re u v_{x} v_{y}}{6} + \\frac{Re u_{t} v_{x}}{6} + \\frac{Re u_{y} v v_{x}}{6} - \\frac{Re v^{2} v_{yy}}{12} - \\frac{Re v v_{ty}}{6} - \\frac{Re v_{tt}}{12} + \\frac{p_{yyy}}{3} + \\frac{u_{y} v_{xy}}{3} + \\frac{v v_{yyy}}{3} + \\frac{v_{tyy}}{6} + \\frac{v_{xy} v_{x}}{6} + \\frac{v_{yy} v_{y}}{2} - \\frac{v_{yyyy}}{6 Re}$"
      ],
      "text/plain": [
       "Re**2*p_{y}*u**2/12 + Re**2*u**3*v_{x}/12 + Re**2*u**2*v*v_{y}/12 + Re**2*u**2*v_{t}/12 - Re*p_{ty}/12 + Re*p_{xy}*u/12 + Re*p_{x}*v_{x}/4 - Re*p_{yy}*v/12 + Re*p_{y}*v_{y}/12 - Re*u**2*v_{yy}/12 - Re*u*v_{x}*v_{y}/6 + Re*u_{t}*v_{x}/6 + Re*u_{y}*v*v_{x}/6 - Re*v**2*v_{yy}/12 - Re*v*v_{ty}/6 - Re*v_{tt}/12 + p_{yyy}/3 + u_{y}*v_{xy}/3 + v*v_{yyy}/3 + v_{tyy}/6 + v_{xy}*v_{x}/6 + v_{yy}*v_{y}/2 - v_{yyyy}/(6*Re)"
      ]
     },
     "metadata": {},
     "output_type": "display_data"
    }
   ],
   "source": [
    "f3 = NF(F3, [u.diff(x), u.diff(y, 2), p.diff(x, 2)], [f1, f2, f4], head=True)\n",
    "f3 = NF(f3, [u.diff(x), u.diff(y, 2), v.diff(x, 2), p.diff(x, 2)], [f1, f2, f3, f4])\n",
    "prn(f3)"
   ]
  },
  {
   "cell_type": "code",
   "execution_count": 71,
   "metadata": {},
   "outputs": [
    {
     "data": {
      "text/latex": [
       "$\\displaystyle 0$"
      ],
      "text/plain": [
       "0"
      ]
     },
     "metadata": {},
     "output_type": "display_data"
    },
    {
     "name": "stdout",
     "output_type": "stream",
     "text": [
      "tau =>\n"
     ]
    },
    {
     "data": {
      "text/latex": [
       "$\\displaystyle \\frac{2 e^{- \\frac{2 t}{Re}} \\sin{\\left(x \\right)} \\cos{\\left(y \\right)}}{Re^{2}}$"
      ],
      "text/plain": [
       "2*exp(-2*t/Re)*sin(x)*cos(y)/Re**2"
      ]
     },
     "metadata": {},
     "output_type": "display_data"
    },
    {
     "name": "stdout",
     "output_type": "stream",
     "text": [
      "h^2 =>\n"
     ]
    },
    {
     "data": {
      "text/latex": [
       "$\\displaystyle - \\frac{\\left(3 Re \\sin{\\left(y \\right)} + e^{\\frac{2 t}{Re}} \\sin{\\left(x \\right)}\\right) e^{- \\frac{4 t}{Re}} \\cos{\\left(y \\right)}}{6 Re}$"
      ],
      "text/plain": [
       "-(3*Re*sin(y) + exp(2*t/Re)*sin(x))*exp(-4*t/Re)*cos(y)/(6*Re)"
      ]
     },
     "metadata": {},
     "output_type": "display_data"
    }
   ],
   "source": [
    "prn([f.subs(TD).doit().simplify() for f in f3])"
   ]
  },
  {
   "cell_type": "code",
   "execution_count": 72,
   "metadata": {},
   "outputs": [
    {
     "data": {
      "text/latex": [
       "$\\displaystyle 0$"
      ],
      "text/plain": [
       "0"
      ]
     },
     "metadata": {},
     "output_type": "display_data"
    },
    {
     "name": "stdout",
     "output_type": "stream",
     "text": [
      "tau =>\n"
     ]
    },
    {
     "data": {
      "text/latex": [
       "$\\displaystyle 0$"
      ],
      "text/plain": [
       "0"
      ]
     },
     "metadata": {},
     "output_type": "display_data"
    },
    {
     "name": "stdout",
     "output_type": "stream",
     "text": [
      "h^2 =>\n"
     ]
    },
    {
     "data": {
      "text/latex": [
       "$\\displaystyle - \\frac{Re^{2} p_{x} v v_{x}}{3} + \\frac{Re^{2} p_{yy} u^{2}}{6} + \\frac{Re^{2} p_{y} u u_{y}}{3} + \\frac{Re^{2} u^{3} v_{xy}}{6} + \\frac{Re^{2} u^{2} u_{y} v_{x}}{2} + \\frac{Re^{2} u^{2} v v_{yy}}{6} + \\frac{Re^{2} u^{2} v_{ty}}{6} + \\frac{Re^{2} u^{2} v_{y}^{2}}{6} + \\frac{Re^{2} u u_{y} v v_{y}}{3} + \\frac{Re^{2} u u_{y} v_{t}}{3} + \\frac{Re^{2} u v v_{x} v_{y}}{3} - \\frac{Re^{2} u_{t} v v_{x}}{3} - \\frac{Re^{2} u_{y} v^{2} v_{x}}{3} + \\frac{Re p_{tyy}}{6} + \\frac{Re p_{xyy} u}{6} + \\frac{Re p_{xy} u_{y}}{6} - \\frac{Re p_{xy} v_{x}}{2} - \\frac{7 Re p_{x} v_{xy}}{6} + \\frac{Re p_{yyy} v}{6} - \\frac{Re p_{y} v_{yy}}{6} - \\frac{Re u^{2} v_{yyy}}{6} - \\frac{Re u u_{y} v_{yy}}{3} + \\frac{Re u v v_{xyy}}{3} + \\frac{Re u v_{txy}}{3} + \\frac{4 Re u v_{xy} v_{y}}{3} + \\frac{Re u v_{x} v_{yy}}{3} - \\frac{Re u_{ty} v_{x}}{3} - Re u_{t} v_{xy} - \\frac{2 Re u_{y} v v_{xy}}{3} + \\frac{Re u_{y} v_{tx}}{3} + \\frac{Re v^{2} v_{yyy}}{6} + \\frac{Re v v_{tyy}}{3} - \\frac{Re v v_{xy} v_{x}}{3} + \\frac{Re v v_{yy} v_{y}}{3} + \\frac{Re v_{tty}}{6} + \\frac{Re v_{ty} v_{y}}{3} - \\frac{p_{yyyy}}{3} - \\frac{u v_{xyyy}}{3} - u_{y} v_{xyy} - \\frac{v v_{yyyy}}{3} - \\frac{v_{tyyy}}{3} - \\frac{v_{xyy} v_{x}}{3} - v_{xy}^{2} - \\frac{4 v_{yyy} v_{y}}{3} - v_{yy}^{2}$"
      ],
      "text/plain": [
       "-Re**2*p_{x}*v*v_{x}/3 + Re**2*p_{yy}*u**2/6 + Re**2*p_{y}*u*u_{y}/3 + Re**2*u**3*v_{xy}/6 + Re**2*u**2*u_{y}*v_{x}/2 + Re**2*u**2*v*v_{yy}/6 + Re**2*u**2*v_{ty}/6 + Re**2*u**2*v_{y}**2/6 + Re**2*u*u_{y}*v*v_{y}/3 + Re**2*u*u_{y}*v_{t}/3 + Re**2*u*v*v_{x}*v_{y}/3 - Re**2*u_{t}*v*v_{x}/3 - Re**2*u_{y}*v**2*v_{x}/3 + Re*p_{tyy}/6 + Re*p_{xyy}*u/6 + Re*p_{xy}*u_{y}/6 - Re*p_{xy}*v_{x}/2 - 7*Re*p_{x}*v_{xy}/6 + Re*p_{yyy}*v/6 - Re*p_{y}*v_{yy}/6 - Re*u**2*v_{yyy}/6 - Re*u*u_{y}*v_{yy}/3 + Re*u*v*v_{xyy}/3 + Re*u*v_{txy}/3 + 4*Re*u*v_{xy}*v_{y}/3 + Re*u*v_{x}*v_{yy}/3 - Re*u_{ty}*v_{x}/3 - Re*u_{t}*v_{xy} - 2*Re*u_{y}*v*v_{xy}/3 + Re*u_{y}*v_{tx}/3 + Re*v**2*v_{yyy}/6 + Re*v*v_{tyy}/3 - Re*v*v_{xy}*v_{x}/3 + Re*v*v_{yy}*v_{y}/3 + Re*v_{tty}/6 + Re*v_{ty}*v_{y}/3 - p_{yyyy}/3 - u*v_{xyyy}/3 - u_{y}*v_{xyy} - v*v_{yyyy}/3 - v_{tyyy}/3 - v_{xyy}*v_{x}/3 - v_{xy}**2 - 4*v_{yyy}*v_{y}/3 - v_{yy}**2"
      ]
     },
     "metadata": {},
     "output_type": "display_data"
    }
   ],
   "source": [
    "spoly = [a.diff(x) + b.diff(y) for a, b in zip(f2, f3)]\n",
    "spoly = NF(spoly, [u.diff(x), u.diff(y, 2), v.diff(x, 2), p.diff(x, 2)], [f1, f2, f3, f4], head=True)\n",
    "prn(spoly)"
   ]
  },
  {
   "cell_type": "code",
   "execution_count": 73,
   "metadata": {},
   "outputs": [
    {
     "data": {
      "text/latex": [
       "$\\displaystyle 0$"
      ],
      "text/plain": [
       "0"
      ]
     },
     "metadata": {},
     "output_type": "display_data"
    },
    {
     "name": "stdout",
     "output_type": "stream",
     "text": [
      "tau =>\n"
     ]
    },
    {
     "data": {
      "text/latex": [
       "$\\displaystyle 0$"
      ],
      "text/plain": [
       "0"
      ]
     },
     "metadata": {},
     "output_type": "display_data"
    },
    {
     "name": "stdout",
     "output_type": "stream",
     "text": [
      "h^2 =>\n"
     ]
    },
    {
     "data": {
      "text/latex": [
       "$\\displaystyle 0$"
      ],
      "text/plain": [
       "0"
      ]
     },
     "metadata": {},
     "output_type": "display_data"
    }
   ],
   "source": [
    "prn([f.subs(TD).doit().simplify() for f in spoly])"
   ]
  },
  {
   "cell_type": "code",
   "execution_count": 74,
   "metadata": {},
   "outputs": [
    {
     "data": {
      "text/latex": [
       "$\\displaystyle 0$"
      ],
      "text/plain": [
       "0"
      ]
     },
     "metadata": {},
     "output_type": "display_data"
    },
    {
     "name": "stdout",
     "output_type": "stream",
     "text": [
      "tau =>\n"
     ]
    },
    {
     "data": {
      "text/latex": [
       "$\\displaystyle 0$"
      ],
      "text/plain": [
       "0"
      ]
     },
     "metadata": {},
     "output_type": "display_data"
    },
    {
     "name": "stdout",
     "output_type": "stream",
     "text": [
      "h^2 =>\n"
     ]
    },
    {
     "data": {
      "text/latex": [
       "$\\displaystyle \\frac{\\left(Re - \\sqrt{Re^{2} + 16 \\pi^{2}}\\right) \\left(Re^{3} - Re^{2} \\sqrt{Re^{2} + 16 \\pi^{2}} + 16 \\pi^{2} Re - 8 \\pi^{2} \\sqrt{Re^{2} + 16 \\pi^{2}}\\right) e^{\\frac{x \\left(Re - \\sqrt{Re^{2} + 16 \\pi^{2}}\\right)}{2}} \\cos{\\left(2 \\pi y \\right)}}{24}$"
      ],
      "text/plain": [
       "(Re - sqrt(Re**2 + 16*pi**2))*(Re**3 - Re**2*sqrt(Re**2 + 16*pi**2) + 16*pi**2*Re - 8*pi**2*sqrt(Re**2 + 16*pi**2))*exp(x*(Re - sqrt(Re**2 + 16*pi**2))/2)*cos(2*pi*y)/24"
      ]
     },
     "metadata": {},
     "output_type": "display_data"
    }
   ],
   "source": [
    "prn([f.subs(KF).doit().simplify() for f in spoly])"
   ]
  },
  {
   "cell_type": "markdown",
   "metadata": {},
   "source": [
    "# MAC"
   ]
  },
  {
   "cell_type": "raw",
   "metadata": {},
   "source": [
    "def MAC(A, S, F, BC, tau, h, Re):\n",
    "    assert tau/(Re*h**2) < 1./4.\n",
    "    u, v, p = F\n",
    "    left, top, right, bottom = BC\n",
    "    u1, v1, p1 = empty_like(u), empty_like(v), empty_like(p)\n",
    "\n",
    "    u1[0, :],  v1[0, :],  p1[0, :] = left\n",
    "    u1[:, -1], v1[:, -1], p1[:, -1] = top\n",
    "    u1[-1, :], v1[-1, :], p1[-1, :] = right\n",
    "    u1[:, 0],  v1[:, 0],  p1[:, 0] = bottom\n",
    "    \n",
    "    F = u[1:-1, 1:-1] + tau/h*(\\\n",
    "        (u[2:, 1:-1] - 2.*u[1:-1, 1:-1] + u[:-2, 1:-1])/(Re*h) +\\\n",
    "        (u[1:-1, 2:] - 2.*u[1:-1, 1:-1] + u[1:-1, :-2])/(Re*h) -\\\n",
    "        ((u[2:, 1:-1] + u[1:-1, 1:-1])**2 - (u[1:-1, 1:-1] + u[:-2, 1:-1])**2)/4. -\\\n",
    "        ((u[1:-1, 2:] +   u[1:-1, 1:-1])*(v[1:, 2:-1] + v[:-1, 2:-1]) -\\\n",
    "         (u[1:-1, 1:-1] + u[1:-1, :-2]) *(v[1:, 1:-2] + v[:-1, 1:-2]))/4.)\n",
    "\n",
    "    G = v[1:-1, 1:-1] + tau/h*(\\\n",
    "        (v[2:, 1:-1] - 2.*v[1:-1, 1:-1] + v[:-2, 1:-1])/(Re*h) +\\\n",
    "        (v[1:-1, 2:] - 2.*v[1:-1, 1:-1] + v[1:-1, :-2])/(Re*h) -\\\n",
    "        ((u[2:-1, 1:] + u[2:-1, :-1])*(v[2:, 1:-1] +   v[1:-1, 1:-1]) -\\\n",
    "         (u[1:-2, 1:] + u[1:-2, :-1])*(v[1:-1, 1:-1] + v[:-2, 1:-1]))/4. -\\\n",
    "        ((v[1:-1, 2:] + v[1:-1, 1:-1])**2 - (v[1:-1, 1:-1] + v[1:-1, :-2])**2)/4.)\n",
    "\n",
    "    \n",
    "    p1[1:-1,1:-1] = h/tau*((F[1:, :] - F[:-1, :]) + (G[:, 1:] - G[:, :-1]))\n",
    "    p1 = S(A, p1)\n",
    "    u1[1:-1,1:-1] = F - tau/h*(p1[1:, 1:-1] - p1[:-1, 1:-1])\n",
    "    v1[1:-1,1:-1] = G - tau/h*(p1[1:-1, 1:] - p1[1:-1, :-1])\n",
    "    \n",
    "    assert max(((abs(u1[1:-1, 1:])**2 + abs(v1[1:, 1:-1])**2)*tau*Re/4.).flat) < 1.\n",
    "    return u1, v1, p1"
   ]
  },
  {
   "cell_type": "code",
   "execution_count": 75,
   "metadata": {},
   "outputs": [],
   "source": [
    "p12 = Rational(1, 2)\n",
    "\n",
    "def F(j):\n",
    "    return T(u, 0, j, 0) + tau/h*(\\\n",
    "        (T(u, 0, j+1, 0) - 2*T(u, 0, j, 0) + T(u, 0, j-1, 0))/(Re*h) +\\\n",
    "        (T(u, 0, j, 1) -   2*T(u, 0, j, 0) + T(u, 0, j, -1))/(Re*h) -\\\n",
    "        ((T(u, 0, j+1, 0) + T(u, 0, j, 0))**2 - (T(u, 0, j, 0) + T(u, 0, j-1, 0))**2)/4 -\\\n",
    "        ((T(u, 0, j, 1) + T(u, 0, j, 0)) *(T(v, 0, j+1, p12)  + T(v, 0, j-1, p12)) -\\\n",
    "         (T(u, 0, j, 0) + T(u, 0, j, -1))*(T(v, 0, j+1, -p12) + T(v, 0, j-1, -p12)))/4)\n",
    "\n",
    "def G(k):\n",
    "    return T(v, 0, 0, k) + tau/h*(\\\n",
    "        (T(v, 0, 1, k) -   2*T(v, 0, 0, k) + T(v, 0, -1, k))/(Re*h) +\\\n",
    "        (T(v, 0, 0, k+1) - 2*T(v, 0, 0, k) + T(v, 0, 0, k-1))/(Re*h) -\\\n",
    "        ((T(u, 0, p12, k+1)  + T(u, 0, p12, k-1))* (T(v, 0, 1, k) + T(v, 0, 0, k)) -\\\n",
    "         (T(u, 0, -p12, k+1) + T(u, 0, -p12, k-1))*(T(v, 0, 0, k) + T(v, 0, -1, k)))/4 -\\\n",
    "        ((T(v, 0, 0, k+1) + T(v, 0, 0, k))**2 - (T(v, 0, 0, k) + T(v, 0, 0, k-1))**2)/4)"
   ]
  },
  {
   "cell_type": "markdown",
   "metadata": {},
   "source": [
    "<img src=\"./F17.13.png\"/>\n",
    "<img src=\"./F17.8.png\"/>\n",
    "<img src=\"./F17.10.png\"/>"
   ]
  },
  {
   "cell_type": "code",
   "execution_count": 76,
   "metadata": {},
   "outputs": [
    {
     "data": {
      "text/latex": [
       "$\\displaystyle p_{xx} + p_{yy} + 2 u u_{xx} + 2 u v_{xy} + 2 u_{xy} v + 2 u_{x}^{2} + 2 u_{x} v_{y} + 2 u_{y} v_{x} + 2 v v_{yy} + 2 v_{y}^{2} - \\frac{u_{xxx}}{Re} - \\frac{u_{xyy}}{Re} - \\frac{v_{xxy}}{Re} - \\frac{v_{yyy}}{Re}$"
      ],
      "text/plain": [
       "p_{xx} + p_{yy} + 2*u*u_{xx} + 2*u*v_{xy} + 2*u_{xy}*v + 2*u_{x}**2 + 2*u_{x}*v_{y} + 2*u_{y}*v_{x} + 2*v*v_{yy} + 2*v_{y}**2 - u_{xxx}/Re - u_{xyy}/Re - v_{xxy}/Re - v_{yyy}/Re"
      ]
     },
     "metadata": {},
     "output_type": "display_data"
    },
    {
     "name": "stdout",
     "output_type": "stream",
     "text": [
      "tau =>\n"
     ]
    },
    {
     "data": {
      "text/latex": [
       "$\\displaystyle p_{txx} + p_{tyy}$"
      ],
      "text/plain": [
       "p_{txx} + p_{tyy}"
      ]
     },
     "metadata": {},
     "output_type": "display_data"
    },
    {
     "name": "stdout",
     "output_type": "stream",
     "text": [
      "h^2 =>\n"
     ]
    },
    {
     "data": {
      "text/latex": [
       "$\\displaystyle \\frac{p_{xxxx}}{12} + \\frac{p_{yyyy}}{12} + \\frac{5 u u_{xxxx}}{12} + \\frac{17 u v_{xxxy}}{24} + \\frac{u v_{xyyy}}{12} + \\frac{u_{xxxy} v}{12} + \\frac{7 u_{xxx} u_{x}}{6} + \\frac{u_{xxx} v_{y}}{12} + \\frac{u_{xxy} v_{x}}{4} + \\frac{3 u_{xx}^{2}}{4} + \\frac{u_{xx} v_{xy}}{4} + \\frac{17 u_{xyyy} v}{24} + \\frac{7 u_{xyy} v_{y}}{8} + \\frac{7 u_{xy} v_{xx}}{8} + \\frac{u_{xy} v_{yy}}{4} + \\frac{7 u_{x} v_{xxy}}{8} + \\frac{u_{x} v_{yyy}}{12} + \\frac{17 u_{yyy} v_{x}}{24} + \\frac{7 u_{yy} v_{xy}}{8} + \\frac{17 u_{y} v_{xxx}}{24} + \\frac{u_{y} v_{xyy}}{4} + \\frac{5 v v_{yyyy}}{12} + \\frac{7 v_{yyy} v_{y}}{6} + \\frac{3 v_{yy}^{2}}{4}$"
      ],
      "text/plain": [
       "p_{xxxx}/12 + p_{yyyy}/12 + 5*u*u_{xxxx}/12 + 17*u*v_{xxxy}/24 + u*v_{xyyy}/12 + u_{xxxy}*v/12 + 7*u_{xxx}*u_{x}/6 + u_{xxx}*v_{y}/12 + u_{xxy}*v_{x}/4 + 3*u_{xx}**2/4 + u_{xx}*v_{xy}/4 + 17*u_{xyyy}*v/24 + 7*u_{xyy}*v_{y}/8 + 7*u_{xy}*v_{xx}/8 + u_{xy}*v_{yy}/4 + 7*u_{x}*v_{xxy}/8 + u_{x}*v_{yyy}/12 + 17*u_{yyy}*v_{x}/24 + 7*u_{yy}*v_{xy}/8 + 17*u_{y}*v_{xxx}/24 + u_{y}*v_{xyy}/4 + 5*v*v_{yyyy}/12 + 7*v_{yyy}*v_{y}/6 + 3*v_{yy}**2/4"
      ]
     },
     "metadata": {},
     "output_type": "display_data"
    }
   ],
   "source": [
    "F4 = clip((T(p, 1, 1, 0) - 2*T(p, 1, 0, 0) + T(p, 1, -1, 0))/h**2 +\\\n",
    "          (T(p, 1, 0, 1) - 2*T(p, 1, 0, 0) + T(p, 1, 0, -1))/h**2 -\\\n",
    "         ((F(p12) - F(-p12)) + (G(p12) - G(-p12)))/(tau*h))\n",
    "prn(F4)"
   ]
  },
  {
   "cell_type": "code",
   "execution_count": 77,
   "metadata": {},
   "outputs": [
    {
     "data": {
      "text/latex": [
       "$\\displaystyle p_{x} + 2 u u_{x} + u v_{y} + u_{t} + u_{y} v - \\frac{u_{xx}}{Re} - \\frac{u_{yy}}{Re}$"
      ],
      "text/plain": [
       "p_{x} + 2*u*u_{x} + u*v_{y} + u_{t} + u_{y}*v - u_{xx}/Re - u_{yy}/Re"
      ]
     },
     "metadata": {},
     "output_type": "display_data"
    },
    {
     "name": "stdout",
     "output_type": "stream",
     "text": [
      "tau =>\n"
     ]
    },
    {
     "data": {
      "text/latex": [
       "$\\displaystyle p_{tx} + \\frac{u_{tt}}{2}$"
      ],
      "text/plain": [
       "p_{tx} + u_{tt}/2"
      ]
     },
     "metadata": {},
     "output_type": "display_data"
    },
    {
     "name": "stdout",
     "output_type": "stream",
     "text": [
      "h^2 =>\n"
     ]
    },
    {
     "data": {
      "text/latex": [
       "$\\displaystyle \\frac{p_{xxx}}{6} + \\frac{7 u u_{xxx}}{12} + \\frac{5 u v_{xxy}}{8} + \\frac{u v_{yyy}}{24} + \\frac{u_{txx}}{8} + \\frac{u_{xxy} v}{8} + \\frac{5 u_{xx} u_{x}}{4} + \\frac{u_{xx} v_{y}}{8} + \\frac{u_{xy} v_{x}}{4} + \\frac{u_{x} v_{xy}}{4} + \\frac{u_{yyy} v}{6} + \\frac{u_{yy} v_{y}}{4} + \\frac{5 u_{y} v_{xx}}{8} + \\frac{u_{y} v_{yy}}{8} - \\frac{5 u_{xxxx}}{24 Re} - \\frac{u_{xxyy}}{8 Re} - \\frac{u_{yyyy}}{12 Re}$"
      ],
      "text/plain": [
       "p_{xxx}/6 + 7*u*u_{xxx}/12 + 5*u*v_{xxy}/8 + u*v_{yyy}/24 + u_{txx}/8 + u_{xxy}*v/8 + 5*u_{xx}*u_{x}/4 + u_{xx}*v_{y}/8 + u_{xy}*v_{x}/4 + u_{x}*v_{xy}/4 + u_{yyy}*v/6 + u_{yy}*v_{y}/4 + 5*u_{y}*v_{xx}/8 + u_{y}*v_{yy}/8 - 5*u_{xxxx}/(24*Re) - u_{xxyy}/(8*Re) - u_{yyyy}/(12*Re)"
      ]
     },
     "metadata": {},
     "output_type": "display_data"
    }
   ],
   "source": [
    "F2 = clip((T(u, 1, p12, 0) - F(p12))/tau +\\\n",
    "          (T(p, 1, 1, 0) - T(p, 1, 0, 0))/h)\n",
    "prn(F2)"
   ]
  },
  {
   "cell_type": "code",
   "execution_count": 78,
   "metadata": {},
   "outputs": [
    {
     "data": {
      "text/latex": [
       "$\\displaystyle p_{y} + u v_{x} + u_{x} v + 2 v v_{y} + v_{t} - \\frac{v_{xx}}{Re} - \\frac{v_{yy}}{Re}$"
      ],
      "text/plain": [
       "p_{y} + u*v_{x} + u_{x}*v + 2*v*v_{y} + v_{t} - v_{xx}/Re - v_{yy}/Re"
      ]
     },
     "metadata": {},
     "output_type": "display_data"
    },
    {
     "name": "stdout",
     "output_type": "stream",
     "text": [
      "tau =>\n"
     ]
    },
    {
     "data": {
      "text/latex": [
       "$\\displaystyle p_{ty} + \\frac{v_{tt}}{2}$"
      ],
      "text/plain": [
       "p_{ty} + v_{tt}/2"
      ]
     },
     "metadata": {},
     "output_type": "display_data"
    },
    {
     "name": "stdout",
     "output_type": "stream",
     "text": [
      "h^2 =>\n"
     ]
    },
    {
     "data": {
      "text/latex": [
       "$\\displaystyle \\frac{p_{yyy}}{6} + \\frac{u v_{xxx}}{6} + \\frac{u v_{xyy}}{8} + \\frac{u_{xxx} v}{24} + \\frac{u_{xx} v_{x}}{8} + \\frac{5 u_{xyy} v}{8} + \\frac{u_{xy} v_{y}}{4} + \\frac{u_{x} v_{xx}}{4} + \\frac{u_{x} v_{yy}}{8} + \\frac{5 u_{yy} v_{x}}{8} + \\frac{u_{y} v_{xy}}{4} + \\frac{7 v v_{yyy}}{12} + \\frac{v_{tyy}}{8} + \\frac{5 v_{yy} v_{y}}{4} - \\frac{v_{xxxx}}{12 Re} - \\frac{v_{xxyy}}{8 Re} - \\frac{5 v_{yyyy}}{24 Re}$"
      ],
      "text/plain": [
       "p_{yyy}/6 + u*v_{xxx}/6 + u*v_{xyy}/8 + u_{xxx}*v/24 + u_{xx}*v_{x}/8 + 5*u_{xyy}*v/8 + u_{xy}*v_{y}/4 + u_{x}*v_{xx}/4 + u_{x}*v_{yy}/8 + 5*u_{yy}*v_{x}/8 + u_{y}*v_{xy}/4 + 7*v*v_{yyy}/12 + v_{tyy}/8 + 5*v_{yy}*v_{y}/4 - v_{xxxx}/(12*Re) - v_{xxyy}/(8*Re) - 5*v_{yyyy}/(24*Re)"
      ]
     },
     "metadata": {},
     "output_type": "display_data"
    }
   ],
   "source": [
    "F3 = clip((T(v, 1, 0, p12) - G(p12))/tau +\\\n",
    "          (T(p, 1, 0, 1) - T(p, 1, 0, 0))/h)\n",
    "prn(F3)"
   ]
  },
  {
   "cell_type": "code",
   "execution_count": 79,
   "metadata": {},
   "outputs": [
    {
     "data": {
      "text/latex": [
       "$\\displaystyle u_{x} + v_{y}$"
      ],
      "text/plain": [
       "u_{x} + v_{y}"
      ]
     },
     "metadata": {},
     "output_type": "display_data"
    },
    {
     "name": "stdout",
     "output_type": "stream",
     "text": [
      "tau =>\n"
     ]
    },
    {
     "data": {
      "text/latex": [
       "$\\displaystyle \\frac{u_{tx}}{2} + \\frac{v_{ty}}{2}$"
      ],
      "text/plain": [
       "u_{tx}/2 + v_{ty}/2"
      ]
     },
     "metadata": {},
     "output_type": "display_data"
    },
    {
     "name": "stdout",
     "output_type": "stream",
     "text": [
      "h^2 =>\n"
     ]
    },
    {
     "data": {
      "text/latex": [
       "$\\displaystyle \\frac{u_{xxx}}{24} + \\frac{v_{yyy}}{24}$"
      ],
      "text/plain": [
       "u_{xxx}/24 + v_{yyy}/24"
      ]
     },
     "metadata": {},
     "output_type": "display_data"
    }
   ],
   "source": [
    "F1 = clip(((T(u, 0, p12, 0) - T(u, 1, -p12, 0)) +\\\n",
    "           (T(v, 0, 0, p12) - T(v, 1, 0, -p12)))/h)\n",
    "prn(F1)"
   ]
  },
  {
   "cell_type": "code",
   "execution_count": 80,
   "metadata": {},
   "outputs": [
    {
     "data": {
      "text/latex": [
       "$\\displaystyle p_{xx} + p_{yy} + 2 u_{y} v_{x} + 2 v_{y}^{2}$"
      ],
      "text/plain": [
       "p_{xx} + p_{yy} + 2*u_{y}*v_{x} + 2*v_{y}**2"
      ]
     },
     "metadata": {},
     "output_type": "display_data"
    },
    {
     "name": "stdout",
     "output_type": "stream",
     "text": [
      "tau =>\n"
     ]
    },
    {
     "data": {
      "text/latex": [
       "$\\displaystyle - 2 u_{ty} v_{x} - 2 u_{y} v_{tx} - 4 v_{ty} v_{y}$"
      ],
      "text/plain": [
       "-2*u_{ty}*v_{x} - 2*u_{y}*v_{tx} - 4*v_{ty}*v_{y}"
      ]
     },
     "metadata": {},
     "output_type": "display_data"
    },
    {
     "name": "stdout",
     "output_type": "stream",
     "text": [
      "h^2 =>\n"
     ]
    },
    {
     "data": {
      "text/latex": [
       "$\\displaystyle \\frac{23 Re^{2} p_{x} v v_{x}}{24} + \\frac{Re^{2} p_{yy} u^{2}}{3} + \\frac{5 Re^{2} p_{y} u u_{y}}{6} + \\frac{Re^{2} u^{3} v_{xy}}{3} + \\frac{7 Re^{2} u^{2} u_{y} v_{x}}{6} + \\frac{Re^{2} u^{2} v v_{yy}}{3} + \\frac{Re^{2} u^{2} v_{ty}}{3} + \\frac{Re^{2} u^{2} v_{y}^{2}}{3} + \\frac{5 Re^{2} u u_{y} v v_{y}}{6} + \\frac{5 Re^{2} u u_{y} v_{t}}{6} - \\frac{23 Re^{2} u v v_{x} v_{y}}{24} + \\frac{23 Re^{2} u_{t} v v_{x}}{24} + \\frac{23 Re^{2} u_{y} v^{2} v_{x}}{24} - \\frac{Re p_{tyy}}{24} + \\frac{Re p_{xyy} u}{3} + \\frac{Re p_{xy} u_{y}}{2} + Re p_{xy} v_{x} + \\frac{3 Re p_{x} v_{xy}}{2} - \\frac{Re p_{yyy} v}{24} - \\frac{5 Re p_{yy} v_{y}}{24} - \\frac{Re p_{y} v_{yy}}{2} - \\frac{Re u^{2} v_{yyy}}{3} - \\frac{5 Re u u_{y} v_{yy}}{6} + \\frac{7 Re u v v_{xyy}}{24} + \\frac{7 Re u v_{txy}}{24} - \\frac{11 Re u v_{xy} v_{y}}{8} - \\frac{3 Re u v_{x} v_{yy}}{2} + \\frac{23 Re u_{ty} v_{x}}{24} + \\frac{35 Re u_{t} v_{xy}}{24} + \\frac{23 Re u_{y} v v_{xy}}{12} + \\frac{11 Re u_{y} v_{tx}}{24} - \\frac{5 Re u_{y} v_{x} v_{y}}{24} - \\frac{Re v^{2} v_{yyy}}{24} - \\frac{Re v v_{tyy}}{12} + \\frac{23 Re v v_{xy} v_{x}}{24} - \\frac{5 Re v v_{yy} v_{y}}{6} - \\frac{Re v_{tty}}{24} - \\frac{7 Re v_{ty} v_{y}}{24} - \\frac{13 Re v_{t} v_{yy}}{24} - \\frac{5 Re v_{y}^{3}}{24} + \\frac{p_{yyyy}}{4} - \\frac{7 u v_{xyyy}}{24} + 2 u_{tty} v_{x} + 4 u_{ty} v_{tx} + 2 u_{y} v_{ttx} + \\frac{u_{y} v_{xyy}}{8} - \\frac{7 v v_{yyyy}}{24} + 4 v_{tty} v_{y} + \\frac{v_{tyyy}}{12} + 4 v_{ty}^{2} + \\frac{7 v_{xyy} v_{x}}{8} + \\frac{13 v_{xy}^{2}}{8} + \\frac{7 v_{yyy} v_{y}}{6} + \\frac{13 v_{yy}^{2}}{8}$"
      ],
      "text/plain": [
       "23*Re**2*p_{x}*v*v_{x}/24 + Re**2*p_{yy}*u**2/3 + 5*Re**2*p_{y}*u*u_{y}/6 + Re**2*u**3*v_{xy}/3 + 7*Re**2*u**2*u_{y}*v_{x}/6 + Re**2*u**2*v*v_{yy}/3 + Re**2*u**2*v_{ty}/3 + Re**2*u**2*v_{y}**2/3 + 5*Re**2*u*u_{y}*v*v_{y}/6 + 5*Re**2*u*u_{y}*v_{t}/6 - 23*Re**2*u*v*v_{x}*v_{y}/24 + 23*Re**2*u_{t}*v*v_{x}/24 + 23*Re**2*u_{y}*v**2*v_{x}/24 - Re*p_{tyy}/24 + Re*p_{xyy}*u/3 + Re*p_{xy}*u_{y}/2 + Re*p_{xy}*v_{x} + 3*Re*p_{x}*v_{xy}/2 - Re*p_{yyy}*v/24 - 5*Re*p_{yy}*v_{y}/24 - Re*p_{y}*v_{yy}/2 - Re*u**2*v_{yyy}/3 - 5*Re*u*u_{y}*v_{yy}/6 + 7*Re*u*v*v_{xyy}/24 + 7*Re*u*v_{txy}/24 - 11*Re*u*v_{xy}*v_{y}/8 - 3*Re*u*v_{x}*v_{yy}/2 + 23*Re*u_{ty}*v_{x}/24 + 35*Re*u_{t}*v_{xy}/24 + 23*Re*u_{y}*v*v_{xy}/12 + 11*Re*u_{y}*v_{tx}/24 - 5*Re*u_{y}*v_{x}*v_{y}/24 - Re*v**2*v_{yyy}/24 - Re*v*v_{tyy}/12 + 23*Re*v*v_{xy}*v_{x}/24 - 5*Re*v*v_{yy}*v_{y}/6 - Re*v_{tty}/24 - 7*Re*v_{ty}*v_{y}/24 - 13*Re*v_{t}*v_{yy}/24 - 5*Re*v_{y}**3/24 + p_{yyyy}/4 - 7*u*v_{xyyy}/24 + 2*u_{tty}*v_{x} + 4*u_{ty}*v_{tx} + 2*u_{y}*v_{ttx} + u_{y}*v_{xyy}/8 - 7*v*v_{yyyy}/24 + 4*v_{tty}*v_{y} + v_{tyyy}/12 + 4*v_{ty}**2 + 7*v_{xyy}*v_{x}/8 + 13*v_{xy}**2/8 + 7*v_{yyy}*v_{y}/6 + 13*v_{yy}**2/8"
      ]
     },
     "metadata": {},
     "output_type": "display_data"
    }
   ],
   "source": [
    "f4 = NF(F4, [u.diff(x), u.diff(y, 2), v.diff(x, 2)], [F1, F2, F3], head=True)\n",
    "f4 = NF(f4, [u.diff(x), u.diff(y, 2), v.diff(x, 2), p.diff(x, 2)], [F1, F2, F3, f4])\n",
    "prn(f4)"
   ]
  },
  {
   "cell_type": "code",
   "execution_count": 81,
   "metadata": {},
   "outputs": [
    {
     "data": {
      "text/latex": [
       "$\\displaystyle 0$"
      ],
      "text/plain": [
       "0"
      ]
     },
     "metadata": {},
     "output_type": "display_data"
    },
    {
     "name": "stdout",
     "output_type": "stream",
     "text": [
      "tau =>\n"
     ]
    },
    {
     "data": {
      "text/latex": [
       "$\\displaystyle - \\frac{\\left(4 \\cos{\\left(2 x \\right)} + 4 \\cos{\\left(2 y \\right)}\\right) e^{- \\frac{4 t}{Re}}}{Re}$"
      ],
      "text/plain": [
       "-(4*cos(2*x) + 4*cos(2*y))*exp(-4*t/Re)/Re"
      ]
     },
     "metadata": {},
     "output_type": "display_data"
    },
    {
     "name": "stdout",
     "output_type": "stream",
     "text": [
      "h^2 =>\n"
     ]
    },
    {
     "data": {
      "text/latex": [
       "$\\displaystyle \\frac{\\left(12 Re^{2} \\sin^{2}{\\left(x \\right)} \\sin^{2}{\\left(y \\right)} - 8 Re^{2} \\sin^{2}{\\left(x \\right)} - 8 Re^{2} \\sin^{2}{\\left(y \\right)} + 5 Re^{2} - 64 \\cos{\\left(2 x \\right)} - 64 \\cos{\\left(2 y \\right)}\\right) e^{- \\frac{4 t}{Re}}}{4 Re^{2}}$"
      ],
      "text/plain": [
       "(12*Re**2*sin(x)**2*sin(y)**2 - 8*Re**2*sin(x)**2 - 8*Re**2*sin(y)**2 + 5*Re**2 - 64*cos(2*x) - 64*cos(2*y))*exp(-4*t/Re)/(4*Re**2)"
      ]
     },
     "metadata": {},
     "output_type": "display_data"
    }
   ],
   "source": [
    "prn([f.subs(TD).doit().simplify() for f in f4])"
   ]
  },
  {
   "cell_type": "code",
   "execution_count": 82,
   "metadata": {},
   "outputs": [
    {
     "data": {
      "text/latex": [
       "$\\displaystyle u_{x} + v_{y}$"
      ],
      "text/plain": [
       "u_{x} + v_{y}"
      ]
     },
     "metadata": {},
     "output_type": "display_data"
    },
    {
     "name": "stdout",
     "output_type": "stream",
     "text": [
      "tau =>\n"
     ]
    },
    {
     "data": {
      "text/latex": [
       "$\\displaystyle 0$"
      ],
      "text/plain": [
       "0"
      ]
     },
     "metadata": {},
     "output_type": "display_data"
    },
    {
     "name": "stdout",
     "output_type": "stream",
     "text": [
      "h^2 =>\n"
     ]
    },
    {
     "data": {
      "text/latex": [
       "$\\displaystyle - \\frac{Re p_{yy}}{24} - \\frac{Re u v_{xy}}{24} - \\frac{Re u_{y} v_{x}}{24} - \\frac{Re v v_{yy}}{24} - \\frac{Re v_{ty}}{24} - \\frac{Re v_{y}^{2}}{24} + \\frac{v_{yyy}}{12}$"
      ],
      "text/plain": [
       "-Re*p_{yy}/24 - Re*u*v_{xy}/24 - Re*u_{y}*v_{x}/24 - Re*v*v_{yy}/24 - Re*v_{ty}/24 - Re*v_{y}**2/24 + v_{yyy}/12"
      ]
     },
     "metadata": {},
     "output_type": "display_data"
    }
   ],
   "source": [
    "f1 = NF(F1, [u.diff(y, 2), v.diff(x, 2), p.diff(x, 2)], [F2, F3, f4], head=True)\n",
    "f1 = NF(f1, [u.diff(x), u.diff(y, 2), v.diff(x, 2), p.diff(x, 2)], [f1, F2, F3, f4])\n",
    "prn(f1)"
   ]
  },
  {
   "cell_type": "code",
   "execution_count": 83,
   "metadata": {},
   "outputs": [
    {
     "data": {
      "text/latex": [
       "$\\displaystyle 0$"
      ],
      "text/plain": [
       "0"
      ]
     },
     "metadata": {},
     "output_type": "display_data"
    },
    {
     "name": "stdout",
     "output_type": "stream",
     "text": [
      "tau =>\n"
     ]
    },
    {
     "data": {
      "text/latex": [
       "$\\displaystyle 0$"
      ],
      "text/plain": [
       "0"
      ]
     },
     "metadata": {},
     "output_type": "display_data"
    },
    {
     "name": "stdout",
     "output_type": "stream",
     "text": [
      "h^2 =>\n"
     ]
    },
    {
     "data": {
      "text/latex": [
       "$\\displaystyle 0$"
      ],
      "text/plain": [
       "0"
      ]
     },
     "metadata": {},
     "output_type": "display_data"
    }
   ],
   "source": [
    "prn([f.subs(TD).doit().simplify() for f in f1])"
   ]
  },
  {
   "cell_type": "code",
   "execution_count": 84,
   "metadata": {},
   "outputs": [
    {
     "data": {
      "text/latex": [
       "$\\displaystyle p_{x} - u v_{y} + u_{t} + u_{y} v - \\frac{u_{yy}}{Re} + \\frac{v_{xy}}{Re}$"
      ],
      "text/plain": [
       "p_{x} - u*v_{y} + u_{t} + u_{y}*v - u_{yy}/Re + v_{xy}/Re"
      ]
     },
     "metadata": {},
     "output_type": "display_data"
    },
    {
     "name": "stdout",
     "output_type": "stream",
     "text": [
      "tau =>\n"
     ]
    },
    {
     "data": {
      "text/latex": [
       "$\\displaystyle p_{tx} + \\frac{u_{tt}}{2}$"
      ],
      "text/plain": [
       "p_{tx} + u_{tt}/2"
      ]
     },
     "metadata": {},
     "output_type": "display_data"
    },
    {
     "name": "stdout",
     "output_type": "stream",
     "text": [
      "h^2 =>\n"
     ]
    },
    {
     "data": {
      "text/latex": [
       "$\\displaystyle \\frac{Re^{2} p_{x} v^{2}}{12} - \\frac{Re^{2} u v^{2} v_{y}}{12} + \\frac{Re^{2} u_{t} v^{2}}{12} + \\frac{Re^{2} u_{y} v^{3}}{12} - \\frac{Re p_{tx}}{12} + \\frac{Re p_{xy} v}{12} + \\frac{Re p_{x} v_{y}}{6} + \\frac{7 Re p_{yy} u}{24} + \\frac{11 Re p_{y} u_{y}}{24} + \\frac{7 Re u^{2} v_{xy}}{24} + \\frac{3 Re u u_{y} v_{x}}{4} + \\frac{5 Re u v v_{yy}}{24} + \\frac{3 Re u v_{ty}}{8} + \\frac{Re u v_{y}^{2}}{8} - \\frac{Re u_{tt}}{12} + \\frac{Re u_{t} v_{y}}{4} + \\frac{5 Re u_{y} v v_{y}}{8} + \\frac{3 Re u_{y} v_{t}}{8} + \\frac{Re v^{2} v_{xy}}{12} - \\frac{p_{xyy}}{12} - \\frac{u v_{yyy}}{4} - \\frac{u_{y} v_{yy}}{4} + \\frac{v v_{xyy}}{8} - \\frac{v_{txy}}{24} + \\frac{13 v_{xy} v_{y}}{24} + \\frac{v_{x} v_{yy}}{12} - \\frac{v_{xyyy}}{12 Re}$"
      ],
      "text/plain": [
       "Re**2*p_{x}*v**2/12 - Re**2*u*v**2*v_{y}/12 + Re**2*u_{t}*v**2/12 + Re**2*u_{y}*v**3/12 - Re*p_{tx}/12 + Re*p_{xy}*v/12 + Re*p_{x}*v_{y}/6 + 7*Re*p_{yy}*u/24 + 11*Re*p_{y}*u_{y}/24 + 7*Re*u**2*v_{xy}/24 + 3*Re*u*u_{y}*v_{x}/4 + 5*Re*u*v*v_{yy}/24 + 3*Re*u*v_{ty}/8 + Re*u*v_{y}**2/8 - Re*u_{tt}/12 + Re*u_{t}*v_{y}/4 + 5*Re*u_{y}*v*v_{y}/8 + 3*Re*u_{y}*v_{t}/8 + Re*v**2*v_{xy}/12 - p_{xyy}/12 - u*v_{yyy}/4 - u_{y}*v_{yy}/4 + v*v_{xyy}/8 - v_{txy}/24 + 13*v_{xy}*v_{y}/24 + v_{x}*v_{yy}/12 - v_{xyyy}/(12*Re)"
      ]
     },
     "metadata": {},
     "output_type": "display_data"
    }
   ],
   "source": [
    "f2 = NF(F2, [u.diff(x), v.diff(x, 2), p.diff(x, 2)], [f1, F3, f4], head=True)\n",
    "f2 = NF(f2, [u.diff(x), u.diff(y, 2), v.diff(x, 2), p.diff(x, 2)], [f1, f2, F3, f4])\n",
    "prn(f2)"
   ]
  },
  {
   "cell_type": "code",
   "execution_count": 85,
   "metadata": {},
   "outputs": [
    {
     "data": {
      "text/latex": [
       "$\\displaystyle 0$"
      ],
      "text/plain": [
       "0"
      ]
     },
     "metadata": {},
     "output_type": "display_data"
    },
    {
     "name": "stdout",
     "output_type": "stream",
     "text": [
      "tau =>\n"
     ]
    },
    {
     "data": {
      "text/latex": [
       "$\\displaystyle - \\frac{2 \\left(2 Re \\sin{\\left(x \\right)} + e^{\\frac{2 t}{Re}} \\sin{\\left(y \\right)}\\right) e^{- \\frac{4 t}{Re}} \\cos{\\left(x \\right)}}{Re^{2}}$"
      ],
      "text/plain": [
       "-2*(2*Re*sin(x) + exp(2*t/Re)*sin(y))*exp(-4*t/Re)*cos(x)/Re**2"
      ]
     },
     "metadata": {},
     "output_type": "display_data"
    },
    {
     "name": "stdout",
     "output_type": "stream",
     "text": [
      "h^2 =>\n"
     ]
    },
    {
     "data": {
      "text/latex": [
       "$\\displaystyle \\frac{\\left(3 Re \\left(5 - 6 \\sin^{2}{\\left(y \\right)}\\right) \\sin{\\left(x \\right)} + 4 e^{\\frac{2 t}{Re}} \\sin{\\left(y \\right)}\\right) e^{- \\frac{4 t}{Re}} \\cos{\\left(x \\right)}}{24 Re}$"
      ],
      "text/plain": [
       "(3*Re*(5 - 6*sin(y)**2)*sin(x) + 4*exp(2*t/Re)*sin(y))*exp(-4*t/Re)*cos(x)/(24*Re)"
      ]
     },
     "metadata": {},
     "output_type": "display_data"
    }
   ],
   "source": [
    "prn([f.subs(TD).doit().simplify() for f in f2])"
   ]
  },
  {
   "cell_type": "code",
   "execution_count": 86,
   "metadata": {},
   "outputs": [
    {
     "data": {
      "text/latex": [
       "$\\displaystyle p_{y} + u v_{x} + v v_{y} + v_{t} - \\frac{v_{xx}}{Re} - \\frac{v_{yy}}{Re}$"
      ],
      "text/plain": [
       "p_{y} + u*v_{x} + v*v_{y} + v_{t} - v_{xx}/Re - v_{yy}/Re"
      ]
     },
     "metadata": {},
     "output_type": "display_data"
    },
    {
     "name": "stdout",
     "output_type": "stream",
     "text": [
      "tau =>\n"
     ]
    },
    {
     "data": {
      "text/latex": [
       "$\\displaystyle p_{ty} + \\frac{v_{tt}}{2}$"
      ],
      "text/plain": [
       "p_{ty} + v_{tt}/2"
      ]
     },
     "metadata": {},
     "output_type": "display_data"
    },
    {
     "name": "stdout",
     "output_type": "stream",
     "text": [
      "h^2 =>\n"
     ]
    },
    {
     "data": {
      "text/latex": [
       "$\\displaystyle \\frac{Re^{2} p_{y} u^{2}}{12} + \\frac{Re^{2} u^{3} v_{x}}{12} + \\frac{Re^{2} u^{2} v v_{y}}{12} + \\frac{Re^{2} u^{2} v_{t}}{12} - \\frac{Re p_{ty}}{12} + \\frac{Re p_{xy} u}{12} + \\frac{3 Re p_{x} v_{x}}{4} - \\frac{Re p_{yy} v}{12} - \\frac{Re p_{y} v_{y}}{6} - \\frac{Re u^{2} v_{yy}}{12} - \\frac{11 Re u v_{x} v_{y}}{12} + \\frac{2 Re u_{t} v_{x}}{3} + \\frac{2 Re u_{y} v v_{x}}{3} - \\frac{Re v^{2} v_{yy}}{12} - \\frac{Re v v_{ty}}{6} - \\frac{Re v v_{y}^{2}}{4} - \\frac{Re v_{tt}}{12} - \\frac{Re v_{t} v_{y}}{4} + \\frac{5 p_{yyy}}{24} + \\frac{u_{y} v_{xy}}{3} - \\frac{v v_{yyy}}{24} + \\frac{v_{tyy}}{6} + \\frac{13 v_{xy} v_{x}}{24} + \\frac{5 v_{yy} v_{y}}{4} - \\frac{v_{yyyy}}{6 Re}$"
      ],
      "text/plain": [
       "Re**2*p_{y}*u**2/12 + Re**2*u**3*v_{x}/12 + Re**2*u**2*v*v_{y}/12 + Re**2*u**2*v_{t}/12 - Re*p_{ty}/12 + Re*p_{xy}*u/12 + 3*Re*p_{x}*v_{x}/4 - Re*p_{yy}*v/12 - Re*p_{y}*v_{y}/6 - Re*u**2*v_{yy}/12 - 11*Re*u*v_{x}*v_{y}/12 + 2*Re*u_{t}*v_{x}/3 + 2*Re*u_{y}*v*v_{x}/3 - Re*v**2*v_{yy}/12 - Re*v*v_{ty}/6 - Re*v*v_{y}**2/4 - Re*v_{tt}/12 - Re*v_{t}*v_{y}/4 + 5*p_{yyy}/24 + u_{y}*v_{xy}/3 - v*v_{yyy}/24 + v_{tyy}/6 + 13*v_{xy}*v_{x}/24 + 5*v_{yy}*v_{y}/4 - v_{yyyy}/(6*Re)"
      ]
     },
     "metadata": {},
     "output_type": "display_data"
    }
   ],
   "source": [
    "f3 = NF(F3, [u.diff(x), u.diff(y, 2), p.diff(x, 2)], [f1, f2, f4], head=True)\n",
    "f3 = NF(f3, [u.diff(x), u.diff(y, 2), v.diff(x, 2), p.diff(x, 2)], [f1, f2, f3, f4])\n",
    "prn(f3)"
   ]
  },
  {
   "cell_type": "code",
   "execution_count": 87,
   "metadata": {},
   "outputs": [
    {
     "data": {
      "text/latex": [
       "$\\displaystyle 0$"
      ],
      "text/plain": [
       "0"
      ]
     },
     "metadata": {},
     "output_type": "display_data"
    },
    {
     "name": "stdout",
     "output_type": "stream",
     "text": [
      "tau =>\n"
     ]
    },
    {
     "data": {
      "text/latex": [
       "$\\displaystyle \\frac{2 \\left(- 2 Re \\sin{\\left(y \\right)} + e^{\\frac{2 t}{Re}} \\sin{\\left(x \\right)}\\right) e^{- \\frac{4 t}{Re}} \\cos{\\left(y \\right)}}{Re^{2}}$"
      ],
      "text/plain": [
       "2*(-2*Re*sin(y) + exp(2*t/Re)*sin(x))*exp(-4*t/Re)*cos(y)/Re**2"
      ]
     },
     "metadata": {},
     "output_type": "display_data"
    },
    {
     "name": "stdout",
     "output_type": "stream",
     "text": [
      "h^2 =>\n"
     ]
    },
    {
     "data": {
      "text/latex": [
       "$\\displaystyle \\frac{\\left(3 Re \\left(6 \\cos^{2}{\\left(x \\right)} - 1\\right) \\sin{\\left(y \\right)} - 4 e^{\\frac{2 t}{Re}} \\sin{\\left(x \\right)}\\right) e^{- \\frac{4 t}{Re}} \\cos{\\left(y \\right)}}{24 Re}$"
      ],
      "text/plain": [
       "(3*Re*(6*cos(x)**2 - 1)*sin(y) - 4*exp(2*t/Re)*sin(x))*exp(-4*t/Re)*cos(y)/(24*Re)"
      ]
     },
     "metadata": {},
     "output_type": "display_data"
    }
   ],
   "source": [
    "prn([f.subs(TD).doit().simplify() for f in f3])"
   ]
  },
  {
   "cell_type": "code",
   "execution_count": 88,
   "metadata": {},
   "outputs": [
    {
     "data": {
      "text/latex": [
       "$\\displaystyle 0$"
      ],
      "text/plain": [
       "0"
      ]
     },
     "metadata": {},
     "output_type": "display_data"
    },
    {
     "name": "stdout",
     "output_type": "stream",
     "text": [
      "tau =>\n"
     ]
    },
    {
     "data": {
      "text/latex": [
       "$\\displaystyle 0$"
      ],
      "text/plain": [
       "0"
      ]
     },
     "metadata": {},
     "output_type": "display_data"
    },
    {
     "name": "stdout",
     "output_type": "stream",
     "text": [
      "h^2 =>\n"
     ]
    },
    {
     "data": {
      "text/latex": [
       "$\\displaystyle - \\frac{Re^{2} p_{x} v v_{x}}{12} + \\frac{Re^{2} p_{yy} u^{2}}{24} + \\frac{Re^{2} p_{y} u u_{y}}{12} + \\frac{Re^{2} u^{3} v_{xy}}{24} + \\frac{Re^{2} u^{2} u_{y} v_{x}}{8} + \\frac{Re^{2} u^{2} v v_{yy}}{24} + \\frac{Re^{2} u^{2} v_{ty}}{24} + \\frac{Re^{2} u^{2} v_{y}^{2}}{24} + \\frac{Re^{2} u u_{y} v v_{y}}{12} + \\frac{Re^{2} u u_{y} v_{t}}{12} + \\frac{Re^{2} u v v_{x} v_{y}}{12} - \\frac{Re^{2} u_{t} v v_{x}}{12} - \\frac{Re^{2} u_{y} v^{2} v_{x}}{12} + \\frac{Re p_{tyy}}{24} + \\frac{Re p_{xyy} u}{24} + \\frac{Re p_{xy} u_{y}}{24} - \\frac{Re p_{xy} v_{x}}{8} - \\frac{7 Re p_{x} v_{xy}}{24} + \\frac{Re p_{yyy} v}{24} - \\frac{Re p_{y} v_{yy}}{24} - \\frac{Re u^{2} v_{yyy}}{24} - \\frac{Re u u_{y} v_{yy}}{12} + \\frac{Re u v v_{xyy}}{12} + \\frac{Re u v_{txy}}{12} + \\frac{Re u v_{xy} v_{y}}{3} + \\frac{Re u v_{x} v_{yy}}{12} - \\frac{Re u_{ty} v_{x}}{12} - \\frac{Re u_{t} v_{xy}}{4} - \\frac{Re u_{y} v v_{xy}}{6} + \\frac{Re u_{y} v_{tx}}{12} + \\frac{Re v^{2} v_{yyy}}{24} + \\frac{Re v v_{tyy}}{12} - \\frac{Re v v_{xy} v_{x}}{12} + \\frac{Re v v_{yy} v_{y}}{12} + \\frac{Re v_{tty}}{24} + \\frac{Re v_{ty} v_{y}}{12} - \\frac{p_{yyyy}}{12} - \\frac{u v_{xyyy}}{12} - \\frac{u_{y} v_{xyy}}{4} - \\frac{v v_{yyyy}}{12} - \\frac{v_{tyyy}}{12} - \\frac{v_{xyy} v_{x}}{12} - \\frac{v_{xy}^{2}}{4} - \\frac{v_{yyy} v_{y}}{3} - \\frac{v_{yy}^{2}}{4}$"
      ],
      "text/plain": [
       "-Re**2*p_{x}*v*v_{x}/12 + Re**2*p_{yy}*u**2/24 + Re**2*p_{y}*u*u_{y}/12 + Re**2*u**3*v_{xy}/24 + Re**2*u**2*u_{y}*v_{x}/8 + Re**2*u**2*v*v_{yy}/24 + Re**2*u**2*v_{ty}/24 + Re**2*u**2*v_{y}**2/24 + Re**2*u*u_{y}*v*v_{y}/12 + Re**2*u*u_{y}*v_{t}/12 + Re**2*u*v*v_{x}*v_{y}/12 - Re**2*u_{t}*v*v_{x}/12 - Re**2*u_{y}*v**2*v_{x}/12 + Re*p_{tyy}/24 + Re*p_{xyy}*u/24 + Re*p_{xy}*u_{y}/24 - Re*p_{xy}*v_{x}/8 - 7*Re*p_{x}*v_{xy}/24 + Re*p_{yyy}*v/24 - Re*p_{y}*v_{yy}/24 - Re*u**2*v_{yyy}/24 - Re*u*u_{y}*v_{yy}/12 + Re*u*v*v_{xyy}/12 + Re*u*v_{txy}/12 + Re*u*v_{xy}*v_{y}/3 + Re*u*v_{x}*v_{yy}/12 - Re*u_{ty}*v_{x}/12 - Re*u_{t}*v_{xy}/4 - Re*u_{y}*v*v_{xy}/6 + Re*u_{y}*v_{tx}/12 + Re*v**2*v_{yyy}/24 + Re*v*v_{tyy}/12 - Re*v*v_{xy}*v_{x}/12 + Re*v*v_{yy}*v_{y}/12 + Re*v_{tty}/24 + Re*v_{ty}*v_{y}/12 - p_{yyyy}/12 - u*v_{xyyy}/12 - u_{y}*v_{xyy}/4 - v*v_{yyyy}/12 - v_{tyyy}/12 - v_{xyy}*v_{x}/12 - v_{xy}**2/4 - v_{yyy}*v_{y}/3 - v_{yy}**2/4"
      ]
     },
     "metadata": {},
     "output_type": "display_data"
    }
   ],
   "source": [
    "spoly = [a.diff(x) + b.diff(y) for a, b in zip(f2, f3)]\n",
    "spoly = NF(spoly, [u.diff(x), u.diff(y, 2), v.diff(x, 2), p.diff(x, 2)], [f1, f2, f3, f4], head=True)\n",
    "prn(spoly)"
   ]
  },
  {
   "cell_type": "code",
   "execution_count": 89,
   "metadata": {},
   "outputs": [
    {
     "data": {
      "text/latex": [
       "$\\displaystyle 0$"
      ],
      "text/plain": [
       "0"
      ]
     },
     "metadata": {},
     "output_type": "display_data"
    },
    {
     "name": "stdout",
     "output_type": "stream",
     "text": [
      "tau =>\n"
     ]
    },
    {
     "data": {
      "text/latex": [
       "$\\displaystyle 0$"
      ],
      "text/plain": [
       "0"
      ]
     },
     "metadata": {},
     "output_type": "display_data"
    },
    {
     "name": "stdout",
     "output_type": "stream",
     "text": [
      "h^2 =>\n"
     ]
    },
    {
     "data": {
      "text/latex": [
       "$\\displaystyle 0$"
      ],
      "text/plain": [
       "0"
      ]
     },
     "metadata": {},
     "output_type": "display_data"
    }
   ],
   "source": [
    "prn([f.subs(TD).doit().simplify() for f in spoly])"
   ]
  },
  {
   "cell_type": "code",
   "execution_count": 90,
   "metadata": {},
   "outputs": [
    {
     "data": {
      "text/latex": [
       "$\\displaystyle 0$"
      ],
      "text/plain": [
       "0"
      ]
     },
     "metadata": {},
     "output_type": "display_data"
    },
    {
     "name": "stdout",
     "output_type": "stream",
     "text": [
      "tau =>\n"
     ]
    },
    {
     "data": {
      "text/latex": [
       "$\\displaystyle 0$"
      ],
      "text/plain": [
       "0"
      ]
     },
     "metadata": {},
     "output_type": "display_data"
    },
    {
     "name": "stdout",
     "output_type": "stream",
     "text": [
      "h^2 =>\n"
     ]
    },
    {
     "data": {
      "text/latex": [
       "$\\displaystyle \\frac{\\left(Re - \\sqrt{Re^{2} + 16 \\pi^{2}}\\right) \\left(Re^{3} - Re^{2} \\sqrt{Re^{2} + 16 \\pi^{2}} + 16 \\pi^{2} Re - 8 \\pi^{2} \\sqrt{Re^{2} + 16 \\pi^{2}}\\right) e^{\\frac{x \\left(Re - \\sqrt{Re^{2} + 16 \\pi^{2}}\\right)}{2}} \\cos{\\left(2 \\pi y \\right)}}{96}$"
      ],
      "text/plain": [
       "(Re - sqrt(Re**2 + 16*pi**2))*(Re**3 - Re**2*sqrt(Re**2 + 16*pi**2) + 16*pi**2*Re - 8*pi**2*sqrt(Re**2 + 16*pi**2))*exp(x*(Re - sqrt(Re**2 + 16*pi**2))/2)*cos(2*pi*y)/96"
      ]
     },
     "metadata": {},
     "output_type": "display_data"
    }
   ],
   "source": [
    "prn([f.subs(KF).doit().simplify() for f in spoly])"
   ]
  },
  {
   "cell_type": "markdown",
   "metadata": {},
   "source": [
    "# Неявная"
   ]
  },
  {
   "cell_type": "markdown",
   "metadata": {},
   "source": [
    "$\\operatorname{I_t} = \\dfrac{1 + \\sigma_t}{2}$\n",
    "\\begin{equation}\n",
    "\\left\\lbrace \n",
    "\\begin{array}{rl}\n",
    "F^1:& \\operatorname{D_1}(u) + \\operatorname{D_2}(v)=0 ,\\\\[4pt]\n",
    "F^2:& \\operatorname{D_t}(u) + \\operatorname{I_t}\\left(\\operatorname{D_1}(u^2)+\n",
    "\\operatorname{D_2}(vu) + \n",
    "\\operatorname{D_1}(p) - \\frac{1}{\\mathrm{Re}} \\tilde{\\Delta} (u) \\right)\n",
    "=0 ,\\\\[4pt]\n",
    "F^3:& \\operatorname{D_t}(v) + \\operatorname{I_t}\\left(\\operatorname{D_1}(uv)+\n",
    "\\operatorname{D_2}(v^2) +\n",
    "\\operatorname{D_2}(p) - \\frac{1}{\\mathrm{Re}} \\tilde{\\Delta} (v) \\right)\n",
    "=0 ,\\\\[4pt]\n",
    "F^4:& \\left(\\operatorname{D_1}^2 + \\operatorname{D_2}^2\\right)(p) + \\operatorname{D_1}^2(u^2) + \\operatorname{D_2}^2(v^2) + {} \\\\\n",
    "&{} + 2\\operatorname{D_1}\\operatorname{D_2}(uv)\n",
    "=0 .\n",
    "\\end{array}\n",
    "\\right. \n",
    "\\end{equation}"
   ]
  },
  {
   "cell_type": "code",
   "execution_count": 91,
   "metadata": {},
   "outputs": [],
   "source": [
    "pda_p = -Rational(1, 2), Rational(0, 1), Rational(0, 1)\n",
    "def Dt(a):\n",
    "    return (T(a, 1, 0, 0) - T(a, 0, 0, 0))/(tau)\n",
    "def Dx(a):\n",
    "    return ((T(a, 1, 1, 0) - T(a, 1, -1, 0)) +\\\n",
    "            (T(a, 0, 1, 0) - T(a, 0, -1, 0)))/(4*h)\n",
    "def Dy(a):\n",
    "    return ((T(a, 1, 0, 1) - T(a, 1, 0, -1)) +\\\n",
    "            (T(a, 0, 0, 1) - T(a, 0, 0, -1)))/(4*h)\n",
    "\n",
    "def DD(a):\n",
    "    return ((T(a, 1, 1, 0) +  T(a, 1, 0, 1) +\\\n",
    "                 -4*T(a, 1, 0, 0) +\\\n",
    "             T(a, 1, -1, 0) + T(a, 1, 0, -1)) +\\\n",
    "            (T(a, 0, 1, 0) +  T(a, 0, 0, 1) +\\\n",
    "                 -4*T(a, 0, 0, 0) +\\\n",
    "             T(a, 0, -1, 0) + T(a, 0, 0, -1)))/(2*h**2)\n",
    "\n",
    "def DD2(a):\n",
    "    return ((T(a, 1, 2, 0) +  T(a, 1, 0, 2) +\\\n",
    "                 -4*T(a, 1, 0, 0) +\\\n",
    "             T(a, 1, -2, 0) + T(a, 1, 0, -2)) +\\\n",
    "            (T(a, 0, 2, 0) +  T(a, 0, 0, 2) +\\\n",
    "                 -4*T(a, 0, 0, 0) +\\\n",
    "             T(a, 0, -2, 0) + T(a, 0, 0, -2)))/(8*h**2)\n",
    "\n",
    "def Dxx(a):\n",
    "    return ((T(a, 1, 2, 0) - 2*T(a, 1, 0, 0) + T(a, 1, -2, 0)) +\\\n",
    "            (T(a, 0, 2, 0) - 2*T(a, 0, 0, 0) + T(a, 0, -2, 0)))/(8*h**2)\n",
    "def Dxy(a):\n",
    "    return ((T(a, 1, 1, 1) -  T(a, 1, 1, -1) -\\\n",
    "             T(a, 1, -1, 1) + T(a, 1, -1, -1)) +\\\n",
    "            (T(a, 0, 1, 1) - T(a, 0, 1, -1) -\\\n",
    "            T(a, 0, -1, 1) + T(a, 0, -1, -1)))/(8*h**2)\n",
    "def Dyy(a):\n",
    "    return ((T(a, 1, 0, 2) - 2*T(a, 1, 0, 0) + T(a, 1, 0, -2)) +\n",
    "            (T(a, 0, 0, 2) - 2*T(a, 0, 0, 0) + T(a, 0, 0, -2)))/(8*h**2)\n",
    "\n",
    "def clip2(f):\n",
    "    f = f.expand()\n",
    "    return [f.coeff(tau, 0).coeff(h, 0),\\\n",
    "            f.coeff(h, 0).coeff(tau, 2),\\\n",
    "            f.coeff(tau, 0).coeff(h, 2)]\n",
    "def prn2(a):\n",
    "    display(a[0])\n",
    "    print(\"tau^2 =>\")\n",
    "    display(a[1])\n",
    "    print(\"h^2 =>\")\n",
    "    display(a[2])"
   ]
  },
  {
   "cell_type": "code",
   "execution_count": 92,
   "metadata": {},
   "outputs": [],
   "source": [
    "F1 = clip2(Dx(u) + Dy(v))\n",
    "F2 = clip2(Dt(u) + Dx(u**2) + Dy(v*u) +  Dx(p) - DD(u)/Re)\n",
    "F3 = clip2(Dt(v) + Dx(u*v) +  Dy(v**2) + Dy(p) - DD(v)/Re)\n",
    "F4 = clip2(DD2(p) + Dxx(u**2) + Dyy(v**2) + 2*Dxy(u*v))"
   ]
  },
  {
   "cell_type": "code",
   "execution_count": 93,
   "metadata": {},
   "outputs": [
    {
     "data": {
      "text/latex": [
       "$\\displaystyle \\frac{\\partial}{\\partial x} u{\\left(t,x,y \\right)} + \\frac{\\partial}{\\partial y} v{\\left(t,x,y \\right)}$"
      ],
      "text/plain": [
       "Derivative(u(t, x, y), x) + Derivative(v(t, x, y), y)"
      ]
     },
     "metadata": {},
     "output_type": "display_data"
    },
    {
     "name": "stdout",
     "output_type": "stream",
     "text": [
      "tau^2 =>\n"
     ]
    },
    {
     "data": {
      "text/latex": [
       "$\\displaystyle \\frac{\\frac{\\partial^{3}}{\\partial x\\partial t^{2}} u{\\left(t,x,y \\right)}}{8} + \\frac{\\frac{\\partial^{3}}{\\partial y\\partial t^{2}} v{\\left(t,x,y \\right)}}{8}$"
      ],
      "text/plain": [
       "Derivative(u(t, x, y), (t, 2), x)/8 + Derivative(v(t, x, y), (t, 2), y)/8"
      ]
     },
     "metadata": {},
     "output_type": "display_data"
    },
    {
     "name": "stdout",
     "output_type": "stream",
     "text": [
      "h^2 =>\n"
     ]
    },
    {
     "data": {
      "text/latex": [
       "$\\displaystyle \\frac{\\frac{\\partial^{3}}{\\partial x^{3}} u{\\left(t,x,y \\right)}}{6} + \\frac{\\frac{\\partial^{3}}{\\partial y^{3}} v{\\left(t,x,y \\right)}}{6}$"
      ],
      "text/plain": [
       "Derivative(u(t, x, y), (x, 3))/6 + Derivative(v(t, x, y), (y, 3))/6"
      ]
     },
     "metadata": {},
     "output_type": "display_data"
    }
   ],
   "source": [
    "prn2(F1)"
   ]
  },
  {
   "cell_type": "code",
   "execution_count": 94,
   "metadata": {
    "scrolled": false
   },
   "outputs": [
    {
     "data": {
      "text/latex": [
       "$\\displaystyle 2 u{\\left(t,x,y \\right)} \\frac{\\partial}{\\partial x} u{\\left(t,x,y \\right)} + u{\\left(t,x,y \\right)} \\frac{\\partial}{\\partial y} v{\\left(t,x,y \\right)} + v{\\left(t,x,y \\right)} \\frac{\\partial}{\\partial y} u{\\left(t,x,y \\right)} + \\frac{\\partial}{\\partial x} p{\\left(t,x,y \\right)} + \\frac{\\partial}{\\partial t} u{\\left(t,x,y \\right)} - \\frac{\\frac{\\partial^{2}}{\\partial x^{2}} u{\\left(t,x,y \\right)}}{Re} - \\frac{\\frac{\\partial^{2}}{\\partial y^{2}} u{\\left(t,x,y \\right)}}{Re}$"
      ],
      "text/plain": [
       "2*u(t, x, y)*Derivative(u(t, x, y), x) + u(t, x, y)*Derivative(v(t, x, y), y) + v(t, x, y)*Derivative(u(t, x, y), y) + Derivative(p(t, x, y), x) + Derivative(u(t, x, y), t) - Derivative(u(t, x, y), (x, 2))/Re - Derivative(u(t, x, y), (y, 2))/Re"
      ]
     },
     "metadata": {},
     "output_type": "display_data"
    },
    {
     "name": "stdout",
     "output_type": "stream",
     "text": [
      "tau^2 =>\n"
     ]
    },
    {
     "data": {
      "text/latex": [
       "$\\displaystyle \\frac{u{\\left(t,x,y \\right)} \\frac{\\partial^{3}}{\\partial x\\partial t^{2}} u{\\left(t,x,y \\right)}}{4} + \\frac{u{\\left(t,x,y \\right)} \\frac{\\partial^{3}}{\\partial y\\partial t^{2}} v{\\left(t,x,y \\right)}}{8} + \\frac{v{\\left(t,x,y \\right)} \\frac{\\partial^{3}}{\\partial y\\partial t^{2}} u{\\left(t,x,y \\right)}}{8} + \\frac{\\frac{\\partial}{\\partial t} u{\\left(t,x,y \\right)} \\frac{\\partial^{2}}{\\partial x\\partial t} u{\\left(t,x,y \\right)}}{2} + \\frac{\\frac{\\partial}{\\partial t} u{\\left(t,x,y \\right)} \\frac{\\partial^{2}}{\\partial y\\partial t} v{\\left(t,x,y \\right)}}{4} + \\frac{\\frac{\\partial^{2}}{\\partial t^{2}} u{\\left(t,x,y \\right)} \\frac{\\partial}{\\partial x} u{\\left(t,x,y \\right)}}{4} + \\frac{\\frac{\\partial^{2}}{\\partial t^{2}} u{\\left(t,x,y \\right)} \\frac{\\partial}{\\partial y} v{\\left(t,x,y \\right)}}{8} + \\frac{\\frac{\\partial^{3}}{\\partial t^{3}} u{\\left(t,x,y \\right)}}{24} + \\frac{\\frac{\\partial}{\\partial y} u{\\left(t,x,y \\right)} \\frac{\\partial^{2}}{\\partial t^{2}} v{\\left(t,x,y \\right)}}{8} + \\frac{\\frac{\\partial}{\\partial t} v{\\left(t,x,y \\right)} \\frac{\\partial^{2}}{\\partial y\\partial t} u{\\left(t,x,y \\right)}}{4} + \\frac{\\frac{\\partial^{3}}{\\partial x\\partial t^{2}} p{\\left(t,x,y \\right)}}{8} - \\frac{\\frac{\\partial^{4}}{\\partial x^{2}\\partial t^{2}} u{\\left(t,x,y \\right)}}{8 Re} - \\frac{\\frac{\\partial^{4}}{\\partial y^{2}\\partial t^{2}} u{\\left(t,x,y \\right)}}{8 Re}$"
      ],
      "text/plain": [
       "u(t, x, y)*Derivative(u(t, x, y), (t, 2), x)/4 + u(t, x, y)*Derivative(v(t, x, y), (t, 2), y)/8 + v(t, x, y)*Derivative(u(t, x, y), (t, 2), y)/8 + Derivative(u(t, x, y), t)*Derivative(u(t, x, y), t, x)/2 + Derivative(u(t, x, y), t)*Derivative(v(t, x, y), t, y)/4 + Derivative(u(t, x, y), (t, 2))*Derivative(u(t, x, y), x)/4 + Derivative(u(t, x, y), (t, 2))*Derivative(v(t, x, y), y)/8 + Derivative(u(t, x, y), (t, 3))/24 + Derivative(u(t, x, y), y)*Derivative(v(t, x, y), (t, 2))/8 + Derivative(v(t, x, y), t)*Derivative(u(t, x, y), t, y)/4 + Derivative(p(t, x, y), (t, 2), x)/8 - Derivative(u(t, x, y), (t, 2), (x, 2))/(8*Re) - Derivative(u(t, x, y), (t, 2), (y, 2))/(8*Re)"
      ]
     },
     "metadata": {},
     "output_type": "display_data"
    },
    {
     "name": "stdout",
     "output_type": "stream",
     "text": [
      "h^2 =>\n"
     ]
    },
    {
     "data": {
      "text/latex": [
       "$\\displaystyle \\frac{u{\\left(t,x,y \\right)} \\frac{\\partial^{3}}{\\partial x^{3}} u{\\left(t,x,y \\right)}}{3} + \\frac{u{\\left(t,x,y \\right)} \\frac{\\partial^{3}}{\\partial y^{3}} v{\\left(t,x,y \\right)}}{6} + \\frac{v{\\left(t,x,y \\right)} \\frac{\\partial^{3}}{\\partial y^{3}} u{\\left(t,x,y \\right)}}{6} + \\frac{\\frac{\\partial^{3}}{\\partial x^{3}} p{\\left(t,x,y \\right)}}{6} + \\frac{\\partial}{\\partial x} u{\\left(t,x,y \\right)} \\frac{\\partial^{2}}{\\partial x^{2}} u{\\left(t,x,y \\right)} + \\frac{\\frac{\\partial}{\\partial y} u{\\left(t,x,y \\right)} \\frac{\\partial^{2}}{\\partial y^{2}} v{\\left(t,x,y \\right)}}{2} + \\frac{\\frac{\\partial^{2}}{\\partial y^{2}} u{\\left(t,x,y \\right)} \\frac{\\partial}{\\partial y} v{\\left(t,x,y \\right)}}{2} - \\frac{\\frac{\\partial^{4}}{\\partial x^{4}} u{\\left(t,x,y \\right)}}{12 Re} - \\frac{\\frac{\\partial^{4}}{\\partial y^{4}} u{\\left(t,x,y \\right)}}{12 Re}$"
      ],
      "text/plain": [
       "u(t, x, y)*Derivative(u(t, x, y), (x, 3))/3 + u(t, x, y)*Derivative(v(t, x, y), (y, 3))/6 + v(t, x, y)*Derivative(u(t, x, y), (y, 3))/6 + Derivative(p(t, x, y), (x, 3))/6 + Derivative(u(t, x, y), x)*Derivative(u(t, x, y), (x, 2)) + Derivative(u(t, x, y), y)*Derivative(v(t, x, y), (y, 2))/2 + Derivative(u(t, x, y), (y, 2))*Derivative(v(t, x, y), y)/2 - Derivative(u(t, x, y), (x, 4))/(12*Re) - Derivative(u(t, x, y), (y, 4))/(12*Re)"
      ]
     },
     "metadata": {},
     "output_type": "display_data"
    }
   ],
   "source": [
    "prn2(F2)"
   ]
  },
  {
   "cell_type": "code",
   "execution_count": 95,
   "metadata": {},
   "outputs": [
    {
     "data": {
      "text/latex": [
       "$\\displaystyle u{\\left(t,x,y \\right)} \\frac{\\partial}{\\partial x} v{\\left(t,x,y \\right)} + v{\\left(t,x,y \\right)} \\frac{\\partial}{\\partial x} u{\\left(t,x,y \\right)} + 2 v{\\left(t,x,y \\right)} \\frac{\\partial}{\\partial y} v{\\left(t,x,y \\right)} + \\frac{\\partial}{\\partial y} p{\\left(t,x,y \\right)} + \\frac{\\partial}{\\partial t} v{\\left(t,x,y \\right)} - \\frac{\\frac{\\partial^{2}}{\\partial x^{2}} v{\\left(t,x,y \\right)}}{Re} - \\frac{\\frac{\\partial^{2}}{\\partial y^{2}} v{\\left(t,x,y \\right)}}{Re}$"
      ],
      "text/plain": [
       "u(t, x, y)*Derivative(v(t, x, y), x) + v(t, x, y)*Derivative(u(t, x, y), x) + 2*v(t, x, y)*Derivative(v(t, x, y), y) + Derivative(p(t, x, y), y) + Derivative(v(t, x, y), t) - Derivative(v(t, x, y), (x, 2))/Re - Derivative(v(t, x, y), (y, 2))/Re"
      ]
     },
     "metadata": {},
     "output_type": "display_data"
    },
    {
     "name": "stdout",
     "output_type": "stream",
     "text": [
      "tau^2 =>\n"
     ]
    },
    {
     "data": {
      "text/latex": [
       "$\\displaystyle \\frac{u{\\left(t,x,y \\right)} \\frac{\\partial^{3}}{\\partial x\\partial t^{2}} v{\\left(t,x,y \\right)}}{8} + \\frac{v{\\left(t,x,y \\right)} \\frac{\\partial^{3}}{\\partial x\\partial t^{2}} u{\\left(t,x,y \\right)}}{8} + \\frac{v{\\left(t,x,y \\right)} \\frac{\\partial^{3}}{\\partial y\\partial t^{2}} v{\\left(t,x,y \\right)}}{4} + \\frac{\\frac{\\partial}{\\partial t} u{\\left(t,x,y \\right)} \\frac{\\partial^{2}}{\\partial x\\partial t} v{\\left(t,x,y \\right)}}{4} + \\frac{\\frac{\\partial^{2}}{\\partial t^{2}} u{\\left(t,x,y \\right)} \\frac{\\partial}{\\partial x} v{\\left(t,x,y \\right)}}{8} + \\frac{\\frac{\\partial}{\\partial x} u{\\left(t,x,y \\right)} \\frac{\\partial^{2}}{\\partial t^{2}} v{\\left(t,x,y \\right)}}{8} + \\frac{\\frac{\\partial}{\\partial t} v{\\left(t,x,y \\right)} \\frac{\\partial^{2}}{\\partial x\\partial t} u{\\left(t,x,y \\right)}}{4} + \\frac{\\frac{\\partial}{\\partial t} v{\\left(t,x,y \\right)} \\frac{\\partial^{2}}{\\partial y\\partial t} v{\\left(t,x,y \\right)}}{2} + \\frac{\\frac{\\partial^{2}}{\\partial t^{2}} v{\\left(t,x,y \\right)} \\frac{\\partial}{\\partial y} v{\\left(t,x,y \\right)}}{4} + \\frac{\\frac{\\partial^{3}}{\\partial t^{3}} v{\\left(t,x,y \\right)}}{24} + \\frac{\\frac{\\partial^{3}}{\\partial y\\partial t^{2}} p{\\left(t,x,y \\right)}}{8} - \\frac{\\frac{\\partial^{4}}{\\partial x^{2}\\partial t^{2}} v{\\left(t,x,y \\right)}}{8 Re} - \\frac{\\frac{\\partial^{4}}{\\partial y^{2}\\partial t^{2}} v{\\left(t,x,y \\right)}}{8 Re}$"
      ],
      "text/plain": [
       "u(t, x, y)*Derivative(v(t, x, y), (t, 2), x)/8 + v(t, x, y)*Derivative(u(t, x, y), (t, 2), x)/8 + v(t, x, y)*Derivative(v(t, x, y), (t, 2), y)/4 + Derivative(u(t, x, y), t)*Derivative(v(t, x, y), t, x)/4 + Derivative(u(t, x, y), (t, 2))*Derivative(v(t, x, y), x)/8 + Derivative(u(t, x, y), x)*Derivative(v(t, x, y), (t, 2))/8 + Derivative(v(t, x, y), t)*Derivative(u(t, x, y), t, x)/4 + Derivative(v(t, x, y), t)*Derivative(v(t, x, y), t, y)/2 + Derivative(v(t, x, y), (t, 2))*Derivative(v(t, x, y), y)/4 + Derivative(v(t, x, y), (t, 3))/24 + Derivative(p(t, x, y), (t, 2), y)/8 - Derivative(v(t, x, y), (t, 2), (x, 2))/(8*Re) - Derivative(v(t, x, y), (t, 2), (y, 2))/(8*Re)"
      ]
     },
     "metadata": {},
     "output_type": "display_data"
    },
    {
     "name": "stdout",
     "output_type": "stream",
     "text": [
      "h^2 =>\n"
     ]
    },
    {
     "data": {
      "text/latex": [
       "$\\displaystyle \\frac{u{\\left(t,x,y \\right)} \\frac{\\partial^{3}}{\\partial x^{3}} v{\\left(t,x,y \\right)}}{6} + \\frac{v{\\left(t,x,y \\right)} \\frac{\\partial^{3}}{\\partial x^{3}} u{\\left(t,x,y \\right)}}{6} + \\frac{v{\\left(t,x,y \\right)} \\frac{\\partial^{3}}{\\partial y^{3}} v{\\left(t,x,y \\right)}}{3} + \\frac{\\frac{\\partial^{3}}{\\partial y^{3}} p{\\left(t,x,y \\right)}}{6} + \\frac{\\frac{\\partial}{\\partial x} u{\\left(t,x,y \\right)} \\frac{\\partial^{2}}{\\partial x^{2}} v{\\left(t,x,y \\right)}}{2} + \\frac{\\frac{\\partial^{2}}{\\partial x^{2}} u{\\left(t,x,y \\right)} \\frac{\\partial}{\\partial x} v{\\left(t,x,y \\right)}}{2} + \\frac{\\partial}{\\partial y} v{\\left(t,x,y \\right)} \\frac{\\partial^{2}}{\\partial y^{2}} v{\\left(t,x,y \\right)} - \\frac{\\frac{\\partial^{4}}{\\partial x^{4}} v{\\left(t,x,y \\right)}}{12 Re} - \\frac{\\frac{\\partial^{4}}{\\partial y^{4}} v{\\left(t,x,y \\right)}}{12 Re}$"
      ],
      "text/plain": [
       "u(t, x, y)*Derivative(v(t, x, y), (x, 3))/6 + v(t, x, y)*Derivative(u(t, x, y), (x, 3))/6 + v(t, x, y)*Derivative(v(t, x, y), (y, 3))/3 + Derivative(p(t, x, y), (y, 3))/6 + Derivative(u(t, x, y), x)*Derivative(v(t, x, y), (x, 2))/2 + Derivative(u(t, x, y), (x, 2))*Derivative(v(t, x, y), x)/2 + Derivative(v(t, x, y), y)*Derivative(v(t, x, y), (y, 2)) - Derivative(v(t, x, y), (x, 4))/(12*Re) - Derivative(v(t, x, y), (y, 4))/(12*Re)"
      ]
     },
     "metadata": {},
     "output_type": "display_data"
    }
   ],
   "source": [
    "prn2(F3)"
   ]
  },
  {
   "cell_type": "code",
   "execution_count": 96,
   "metadata": {},
   "outputs": [
    {
     "data": {
      "text/latex": [
       "$\\displaystyle 2 u{\\left(t,x,y \\right)} \\frac{\\partial^{2}}{\\partial x^{2}} u{\\left(t,x,y \\right)} + 2 u{\\left(t,x,y \\right)} \\frac{\\partial^{2}}{\\partial y\\partial x} v{\\left(t,x,y \\right)} + 2 v{\\left(t,x,y \\right)} \\frac{\\partial^{2}}{\\partial y^{2}} v{\\left(t,x,y \\right)} + 2 v{\\left(t,x,y \\right)} \\frac{\\partial^{2}}{\\partial y\\partial x} u{\\left(t,x,y \\right)} + \\frac{\\partial^{2}}{\\partial x^{2}} p{\\left(t,x,y \\right)} + \\frac{\\partial^{2}}{\\partial y^{2}} p{\\left(t,x,y \\right)} + 2 \\left(\\frac{\\partial}{\\partial x} u{\\left(t,x,y \\right)}\\right)^{2} + 2 \\frac{\\partial}{\\partial x} u{\\left(t,x,y \\right)} \\frac{\\partial}{\\partial y} v{\\left(t,x,y \\right)} + 2 \\frac{\\partial}{\\partial y} u{\\left(t,x,y \\right)} \\frac{\\partial}{\\partial x} v{\\left(t,x,y \\right)} + 2 \\left(\\frac{\\partial}{\\partial y} v{\\left(t,x,y \\right)}\\right)^{2}$"
      ],
      "text/plain": [
       "2*u(t, x, y)*Derivative(u(t, x, y), (x, 2)) + 2*u(t, x, y)*Derivative(v(t, x, y), x, y) + 2*v(t, x, y)*Derivative(v(t, x, y), (y, 2)) + 2*v(t, x, y)*Derivative(u(t, x, y), x, y) + Derivative(p(t, x, y), (x, 2)) + Derivative(p(t, x, y), (y, 2)) + 2*Derivative(u(t, x, y), x)**2 + 2*Derivative(u(t, x, y), x)*Derivative(v(t, x, y), y) + 2*Derivative(u(t, x, y), y)*Derivative(v(t, x, y), x) + 2*Derivative(v(t, x, y), y)**2"
      ]
     },
     "metadata": {},
     "output_type": "display_data"
    },
    {
     "name": "stdout",
     "output_type": "stream",
     "text": [
      "tau^2 =>\n"
     ]
    },
    {
     "data": {
      "text/latex": [
       "$\\displaystyle \\frac{u{\\left(t,x,y \\right)} \\frac{\\partial^{4}}{\\partial x^{2}\\partial t^{2}} u{\\left(t,x,y \\right)}}{4} + \\frac{u{\\left(t,x,y \\right)} \\frac{\\partial^{4}}{\\partial y\\partial x\\partial t^{2}} v{\\left(t,x,y \\right)}}{4} + \\frac{v{\\left(t,x,y \\right)} \\frac{\\partial^{4}}{\\partial y^{2}\\partial t^{2}} v{\\left(t,x,y \\right)}}{4} + \\frac{v{\\left(t,x,y \\right)} \\frac{\\partial^{4}}{\\partial y\\partial x\\partial t^{2}} u{\\left(t,x,y \\right)}}{4} + \\frac{\\frac{\\partial}{\\partial t} u{\\left(t,x,y \\right)} \\frac{\\partial^{3}}{\\partial x^{2}\\partial t} u{\\left(t,x,y \\right)}}{2} + \\frac{\\frac{\\partial}{\\partial t} u{\\left(t,x,y \\right)} \\frac{\\partial^{3}}{\\partial y\\partial x\\partial t} v{\\left(t,x,y \\right)}}{2} + \\frac{\\frac{\\partial^{2}}{\\partial t^{2}} u{\\left(t,x,y \\right)} \\frac{\\partial^{2}}{\\partial x^{2}} u{\\left(t,x,y \\right)}}{4} + \\frac{\\frac{\\partial^{2}}{\\partial t^{2}} u{\\left(t,x,y \\right)} \\frac{\\partial^{2}}{\\partial y\\partial x} v{\\left(t,x,y \\right)}}{4} + \\frac{\\frac{\\partial}{\\partial x} u{\\left(t,x,y \\right)} \\frac{\\partial^{3}}{\\partial x\\partial t^{2}} u{\\left(t,x,y \\right)}}{2} + \\frac{\\frac{\\partial}{\\partial x} u{\\left(t,x,y \\right)} \\frac{\\partial^{3}}{\\partial y\\partial t^{2}} v{\\left(t,x,y \\right)}}{4} + \\frac{\\frac{\\partial}{\\partial y} u{\\left(t,x,y \\right)} \\frac{\\partial^{3}}{\\partial x\\partial t^{2}} v{\\left(t,x,y \\right)}}{4} + \\frac{\\frac{\\partial}{\\partial t} v{\\left(t,x,y \\right)} \\frac{\\partial^{3}}{\\partial y^{2}\\partial t} v{\\left(t,x,y \\right)}}{2} + \\frac{\\frac{\\partial}{\\partial t} v{\\left(t,x,y \\right)} \\frac{\\partial^{3}}{\\partial y\\partial x\\partial t} u{\\left(t,x,y \\right)}}{2} + \\frac{\\frac{\\partial^{2}}{\\partial t^{2}} v{\\left(t,x,y \\right)} \\frac{\\partial^{2}}{\\partial y^{2}} v{\\left(t,x,y \\right)}}{4} + \\frac{\\frac{\\partial^{2}}{\\partial t^{2}} v{\\left(t,x,y \\right)} \\frac{\\partial^{2}}{\\partial y\\partial x} u{\\left(t,x,y \\right)}}{4} + \\frac{\\frac{\\partial}{\\partial x} v{\\left(t,x,y \\right)} \\frac{\\partial^{3}}{\\partial y\\partial t^{2}} u{\\left(t,x,y \\right)}}{4} + \\frac{\\frac{\\partial}{\\partial y} v{\\left(t,x,y \\right)} \\frac{\\partial^{3}}{\\partial x\\partial t^{2}} u{\\left(t,x,y \\right)}}{4} + \\frac{\\frac{\\partial}{\\partial y} v{\\left(t,x,y \\right)} \\frac{\\partial^{3}}{\\partial y\\partial t^{2}} v{\\left(t,x,y \\right)}}{2} + \\frac{\\frac{\\partial^{4}}{\\partial x^{2}\\partial t^{2}} p{\\left(t,x,y \\right)}}{8} + \\frac{\\frac{\\partial^{4}}{\\partial y^{2}\\partial t^{2}} p{\\left(t,x,y \\right)}}{8} + \\frac{\\left(\\frac{\\partial^{2}}{\\partial x\\partial t} u{\\left(t,x,y \\right)}\\right)^{2}}{2} + \\frac{\\frac{\\partial^{2}}{\\partial x\\partial t} u{\\left(t,x,y \\right)} \\frac{\\partial^{2}}{\\partial y\\partial t} v{\\left(t,x,y \\right)}}{2} + \\frac{\\frac{\\partial^{2}}{\\partial y\\partial t} u{\\left(t,x,y \\right)} \\frac{\\partial^{2}}{\\partial x\\partial t} v{\\left(t,x,y \\right)}}{2} + \\frac{\\left(\\frac{\\partial^{2}}{\\partial y\\partial t} v{\\left(t,x,y \\right)}\\right)^{2}}{2}$"
      ],
      "text/plain": [
       "u(t, x, y)*Derivative(u(t, x, y), (t, 2), (x, 2))/4 + u(t, x, y)*Derivative(v(t, x, y), (t, 2), x, y)/4 + v(t, x, y)*Derivative(v(t, x, y), (t, 2), (y, 2))/4 + v(t, x, y)*Derivative(u(t, x, y), (t, 2), x, y)/4 + Derivative(u(t, x, y), t)*Derivative(u(t, x, y), t, (x, 2))/2 + Derivative(u(t, x, y), t)*Derivative(v(t, x, y), t, x, y)/2 + Derivative(u(t, x, y), (t, 2))*Derivative(u(t, x, y), (x, 2))/4 + Derivative(u(t, x, y), (t, 2))*Derivative(v(t, x, y), x, y)/4 + Derivative(u(t, x, y), x)*Derivative(u(t, x, y), (t, 2), x)/2 + Derivative(u(t, x, y), x)*Derivative(v(t, x, y), (t, 2), y)/4 + Derivative(u(t, x, y), y)*Derivative(v(t, x, y), (t, 2), x)/4 + Derivative(v(t, x, y), t)*Derivative(v(t, x, y), t, (y, 2))/2 + Derivative(v(t, x, y), t)*Derivative(u(t, x, y), t, x, y)/2 + Derivative(v(t, x, y), (t, 2))*Derivative(v(t, x, y), (y, 2))/4 + Derivative(v(t, x, y), (t, 2))*Derivative(u(t, x, y), x, y)/4 + Derivative(v(t, x, y), x)*Derivative(u(t, x, y), (t, 2), y)/4 + Derivative(v(t, x, y), y)*Derivative(u(t, x, y), (t, 2), x)/4 + Derivative(v(t, x, y), y)*Derivative(v(t, x, y), (t, 2), y)/2 + Derivative(p(t, x, y), (t, 2), (x, 2))/8 + Derivative(p(t, x, y), (t, 2), (y, 2))/8 + Derivative(u(t, x, y), t, x)**2/2 + Derivative(u(t, x, y), t, x)*Derivative(v(t, x, y), t, y)/2 + Derivative(u(t, x, y), t, y)*Derivative(v(t, x, y), t, x)/2 + Derivative(v(t, x, y), t, y)**2/2"
      ]
     },
     "metadata": {},
     "output_type": "display_data"
    },
    {
     "name": "stdout",
     "output_type": "stream",
     "text": [
      "h^2 =>\n"
     ]
    },
    {
     "data": {
      "text/latex": [
       "$\\displaystyle \\frac{2 u{\\left(t,x,y \\right)} \\frac{\\partial^{4}}{\\partial x^{4}} u{\\left(t,x,y \\right)}}{3} + \\frac{u{\\left(t,x,y \\right)} \\frac{\\partial^{4}}{\\partial y^{3}\\partial x} v{\\left(t,x,y \\right)}}{3} + \\frac{u{\\left(t,x,y \\right)} \\frac{\\partial^{4}}{\\partial y\\partial x^{3}} v{\\left(t,x,y \\right)}}{3} + \\frac{2 v{\\left(t,x,y \\right)} \\frac{\\partial^{4}}{\\partial y^{4}} v{\\left(t,x,y \\right)}}{3} + \\frac{v{\\left(t,x,y \\right)} \\frac{\\partial^{4}}{\\partial y^{3}\\partial x} u{\\left(t,x,y \\right)}}{3} + \\frac{v{\\left(t,x,y \\right)} \\frac{\\partial^{4}}{\\partial y\\partial x^{3}} u{\\left(t,x,y \\right)}}{3} + \\frac{\\frac{\\partial^{4}}{\\partial x^{4}} p{\\left(t,x,y \\right)}}{3} + \\frac{\\frac{\\partial^{4}}{\\partial y^{4}} p{\\left(t,x,y \\right)}}{3} + \\frac{8 \\frac{\\partial}{\\partial x} u{\\left(t,x,y \\right)} \\frac{\\partial^{3}}{\\partial x^{3}} u{\\left(t,x,y \\right)}}{3} + \\frac{\\frac{\\partial}{\\partial x} u{\\left(t,x,y \\right)} \\frac{\\partial^{3}}{\\partial y^{3}} v{\\left(t,x,y \\right)}}{3} + \\frac{\\partial}{\\partial x} u{\\left(t,x,y \\right)} \\frac{\\partial^{3}}{\\partial y\\partial x^{2}} v{\\left(t,x,y \\right)} + 2 \\left(\\frac{\\partial^{2}}{\\partial x^{2}} u{\\left(t,x,y \\right)}\\right)^{2} + \\frac{\\partial^{2}}{\\partial x^{2}} u{\\left(t,x,y \\right)} \\frac{\\partial^{2}}{\\partial y\\partial x} v{\\left(t,x,y \\right)} + \\frac{\\frac{\\partial^{3}}{\\partial x^{3}} u{\\left(t,x,y \\right)} \\frac{\\partial}{\\partial y} v{\\left(t,x,y \\right)}}{3} + \\frac{\\frac{\\partial}{\\partial y} u{\\left(t,x,y \\right)} \\frac{\\partial^{3}}{\\partial x^{3}} v{\\left(t,x,y \\right)}}{3} + \\frac{\\partial}{\\partial y} u{\\left(t,x,y \\right)} \\frac{\\partial^{3}}{\\partial y^{2}\\partial x} v{\\left(t,x,y \\right)} + \\frac{\\partial^{2}}{\\partial y^{2}} u{\\left(t,x,y \\right)} \\frac{\\partial^{2}}{\\partial y\\partial x} v{\\left(t,x,y \\right)} + \\frac{\\frac{\\partial^{3}}{\\partial y^{3}} u{\\left(t,x,y \\right)} \\frac{\\partial}{\\partial x} v{\\left(t,x,y \\right)}}{3} + \\frac{\\partial}{\\partial x} v{\\left(t,x,y \\right)} \\frac{\\partial^{3}}{\\partial y\\partial x^{2}} u{\\left(t,x,y \\right)} + \\frac{\\partial^{2}}{\\partial x^{2}} v{\\left(t,x,y \\right)} \\frac{\\partial^{2}}{\\partial y\\partial x} u{\\left(t,x,y \\right)} + \\frac{8 \\frac{\\partial}{\\partial y} v{\\left(t,x,y \\right)} \\frac{\\partial^{3}}{\\partial y^{3}} v{\\left(t,x,y \\right)}}{3} + \\frac{\\partial}{\\partial y} v{\\left(t,x,y \\right)} \\frac{\\partial^{3}}{\\partial y^{2}\\partial x} u{\\left(t,x,y \\right)} + 2 \\left(\\frac{\\partial^{2}}{\\partial y^{2}} v{\\left(t,x,y \\right)}\\right)^{2} + \\frac{\\partial^{2}}{\\partial y^{2}} v{\\left(t,x,y \\right)} \\frac{\\partial^{2}}{\\partial y\\partial x} u{\\left(t,x,y \\right)}$"
      ],
      "text/plain": [
       "2*u(t, x, y)*Derivative(u(t, x, y), (x, 4))/3 + u(t, x, y)*Derivative(v(t, x, y), x, (y, 3))/3 + u(t, x, y)*Derivative(v(t, x, y), (x, 3), y)/3 + 2*v(t, x, y)*Derivative(v(t, x, y), (y, 4))/3 + v(t, x, y)*Derivative(u(t, x, y), x, (y, 3))/3 + v(t, x, y)*Derivative(u(t, x, y), (x, 3), y)/3 + Derivative(p(t, x, y), (x, 4))/3 + Derivative(p(t, x, y), (y, 4))/3 + 8*Derivative(u(t, x, y), x)*Derivative(u(t, x, y), (x, 3))/3 + Derivative(u(t, x, y), x)*Derivative(v(t, x, y), (y, 3))/3 + Derivative(u(t, x, y), x)*Derivative(v(t, x, y), (x, 2), y) + 2*Derivative(u(t, x, y), (x, 2))**2 + Derivative(u(t, x, y), (x, 2))*Derivative(v(t, x, y), x, y) + Derivative(u(t, x, y), (x, 3))*Derivative(v(t, x, y), y)/3 + Derivative(u(t, x, y), y)*Derivative(v(t, x, y), (x, 3))/3 + Derivative(u(t, x, y), y)*Derivative(v(t, x, y), x, (y, 2)) + Derivative(u(t, x, y), (y, 2))*Derivative(v(t, x, y), x, y) + Derivative(u(t, x, y), (y, 3))*Derivative(v(t, x, y), x)/3 + Derivative(v(t, x, y), x)*Derivative(u(t, x, y), (x, 2), y) + Derivative(v(t, x, y), (x, 2))*Derivative(u(t, x, y), x, y) + 8*Derivative(v(t, x, y), y)*Derivative(v(t, x, y), (y, 3))/3 + Derivative(v(t, x, y), y)*Derivative(u(t, x, y), x, (y, 2)) + 2*Derivative(v(t, x, y), (y, 2))**2 + Derivative(v(t, x, y), (y, 2))*Derivative(u(t, x, y), x, y)"
      ]
     },
     "metadata": {},
     "output_type": "display_data"
    }
   ],
   "source": [
    "prn2(F4)"
   ]
  },
  {
   "cell_type": "code",
   "execution_count": 97,
   "metadata": {},
   "outputs": [
    {
     "data": {
      "text/latex": [
       "$\\displaystyle \\frac{\\partial^{2}}{\\partial x^{2}} p{\\left(t,x,y \\right)} + \\frac{\\partial^{2}}{\\partial y^{2}} p{\\left(t,x,y \\right)} + 2 \\frac{\\partial}{\\partial y} u{\\left(t,x,y \\right)} \\frac{\\partial}{\\partial x} v{\\left(t,x,y \\right)} + 2 \\left(\\frac{\\partial}{\\partial y} v{\\left(t,x,y \\right)}\\right)^{2}$"
      ],
      "text/plain": [
       "Derivative(p(t, x, y), (x, 2)) + Derivative(p(t, x, y), (y, 2)) + 2*Derivative(u(t, x, y), y)*Derivative(v(t, x, y), x) + 2*Derivative(v(t, x, y), y)**2"
      ]
     },
     "metadata": {},
     "output_type": "display_data"
    },
    {
     "name": "stdout",
     "output_type": "stream",
     "text": [
      "tau^2 =>\n"
     ]
    },
    {
     "data": {
      "text/latex": [
       "$\\displaystyle 0$"
      ],
      "text/plain": [
       "0"
      ]
     },
     "metadata": {},
     "output_type": "display_data"
    },
    {
     "name": "stdout",
     "output_type": "stream",
     "text": [
      "h^2 =>\n"
     ]
    },
    {
     "data": {
      "text/latex": [
       "$\\displaystyle - \\frac{Re^{2} u^{2}{\\left(t,x,y \\right)} \\frac{\\partial}{\\partial y} u{\\left(t,x,y \\right)} \\frac{\\partial}{\\partial x} v{\\left(t,x,y \\right)}}{3} - \\frac{Re^{2} u{\\left(t,x,y \\right)} v{\\left(t,x,y \\right)} \\frac{\\partial}{\\partial y} u{\\left(t,x,y \\right)} \\frac{\\partial}{\\partial y} v{\\left(t,x,y \\right)}}{3} - Re^{2} u{\\left(t,x,y \\right)} v{\\left(t,x,y \\right)} \\frac{\\partial}{\\partial x} v{\\left(t,x,y \\right)} \\frac{\\partial}{\\partial y} v{\\left(t,x,y \\right)} - \\frac{Re^{2} u{\\left(t,x,y \\right)} \\frac{\\partial}{\\partial y} p{\\left(t,x,y \\right)} \\frac{\\partial}{\\partial y} u{\\left(t,x,y \\right)}}{3} - \\frac{Re^{2} u{\\left(t,x,y \\right)} \\frac{\\partial}{\\partial y} u{\\left(t,x,y \\right)} \\frac{\\partial}{\\partial t} v{\\left(t,x,y \\right)}}{3} + Re^{2} v^{2}{\\left(t,x,y \\right)} \\frac{\\partial}{\\partial y} u{\\left(t,x,y \\right)} \\frac{\\partial}{\\partial x} v{\\left(t,x,y \\right)} + Re^{2} v{\\left(t,x,y \\right)} \\frac{\\partial}{\\partial x} p{\\left(t,x,y \\right)} \\frac{\\partial}{\\partial x} v{\\left(t,x,y \\right)} + Re^{2} v{\\left(t,x,y \\right)} \\frac{\\partial}{\\partial t} u{\\left(t,x,y \\right)} \\frac{\\partial}{\\partial x} v{\\left(t,x,y \\right)} + \\frac{Re u{\\left(t,x,y \\right)} \\frac{\\partial}{\\partial y} u{\\left(t,x,y \\right)} \\frac{\\partial^{2}}{\\partial y^{2}} v{\\left(t,x,y \\right)}}{3} - \\frac{2 Re u{\\left(t,x,y \\right)} \\frac{\\partial}{\\partial x} v{\\left(t,x,y \\right)} \\frac{\\partial^{2}}{\\partial y^{2}} v{\\left(t,x,y \\right)}}{3} - \\frac{8 Re u{\\left(t,x,y \\right)} \\frac{\\partial}{\\partial y} v{\\left(t,x,y \\right)} \\frac{\\partial^{2}}{\\partial y\\partial x} v{\\left(t,x,y \\right)}}{3} + 2 Re v{\\left(t,x,y \\right)} \\frac{\\partial}{\\partial y} u{\\left(t,x,y \\right)} \\frac{\\partial^{2}}{\\partial y\\partial x} v{\\left(t,x,y \\right)} + Re v{\\left(t,x,y \\right)} \\frac{\\partial}{\\partial x} v{\\left(t,x,y \\right)} \\frac{\\partial^{2}}{\\partial y\\partial x} v{\\left(t,x,y \\right)} + \\frac{7 Re \\frac{\\partial}{\\partial x} p{\\left(t,x,y \\right)} \\frac{\\partial^{2}}{\\partial y\\partial x} v{\\left(t,x,y \\right)}}{3} + \\frac{Re \\frac{\\partial}{\\partial y} p{\\left(t,x,y \\right)} \\frac{\\partial^{2}}{\\partial y^{2}} v{\\left(t,x,y \\right)}}{3} - \\frac{Re \\frac{\\partial^{2}}{\\partial y^{2}} p{\\left(t,x,y \\right)} \\frac{\\partial}{\\partial y} v{\\left(t,x,y \\right)}}{3} + \\frac{7 Re \\frac{\\partial}{\\partial t} u{\\left(t,x,y \\right)} \\frac{\\partial^{2}}{\\partial y\\partial x} v{\\left(t,x,y \\right)}}{3} - \\frac{Re \\frac{\\partial}{\\partial y} u{\\left(t,x,y \\right)} \\frac{\\partial}{\\partial x} v{\\left(t,x,y \\right)} \\frac{\\partial}{\\partial y} v{\\left(t,x,y \\right)}}{3} - \\frac{Re \\frac{\\partial}{\\partial y} u{\\left(t,x,y \\right)} \\frac{\\partial^{2}}{\\partial y\\partial x} p{\\left(t,x,y \\right)}}{3} - \\frac{Re \\frac{\\partial}{\\partial y} u{\\left(t,x,y \\right)} \\frac{\\partial^{2}}{\\partial x\\partial t} v{\\left(t,x,y \\right)}}{3} + \\frac{Re \\frac{\\partial}{\\partial t} v{\\left(t,x,y \\right)} \\frac{\\partial^{2}}{\\partial y^{2}} v{\\left(t,x,y \\right)}}{3} + Re \\frac{\\partial}{\\partial x} v{\\left(t,x,y \\right)} \\frac{\\partial^{2}}{\\partial y\\partial x} p{\\left(t,x,y \\right)} + Re \\frac{\\partial}{\\partial x} v{\\left(t,x,y \\right)} \\frac{\\partial^{2}}{\\partial y\\partial t} u{\\left(t,x,y \\right)} - \\frac{Re \\left(\\frac{\\partial}{\\partial y} v{\\left(t,x,y \\right)}\\right)^{3}}{3} - \\frac{Re \\frac{\\partial}{\\partial y} v{\\left(t,x,y \\right)} \\frac{\\partial^{2}}{\\partial y\\partial t} v{\\left(t,x,y \\right)}}{3} + \\frac{2 \\frac{\\partial^{4}}{\\partial y^{4}} p{\\left(t,x,y \\right)}}{3} + 2 \\frac{\\partial}{\\partial y} u{\\left(t,x,y \\right)} \\frac{\\partial^{3}}{\\partial y^{2}\\partial x} v{\\left(t,x,y \\right)} + \\frac{2 \\frac{\\partial}{\\partial x} v{\\left(t,x,y \\right)} \\frac{\\partial^{3}}{\\partial y^{2}\\partial x} v{\\left(t,x,y \\right)}}{3} + \\frac{10 \\frac{\\partial}{\\partial y} v{\\left(t,x,y \\right)} \\frac{\\partial^{3}}{\\partial y^{3}} v{\\left(t,x,y \\right)}}{3} + 2 \\left(\\frac{\\partial^{2}}{\\partial y^{2}} v{\\left(t,x,y \\right)}\\right)^{2} + 2 \\left(\\frac{\\partial^{2}}{\\partial y\\partial x} v{\\left(t,x,y \\right)}\\right)^{2}$"
      ],
      "text/plain": [
       "-Re**2*u(t, x, y)**2*Derivative(u(t, x, y), y)*Derivative(v(t, x, y), x)/3 - Re**2*u(t, x, y)*v(t, x, y)*Derivative(u(t, x, y), y)*Derivative(v(t, x, y), y)/3 - Re**2*u(t, x, y)*v(t, x, y)*Derivative(v(t, x, y), x)*Derivative(v(t, x, y), y) - Re**2*u(t, x, y)*Derivative(p(t, x, y), y)*Derivative(u(t, x, y), y)/3 - Re**2*u(t, x, y)*Derivative(u(t, x, y), y)*Derivative(v(t, x, y), t)/3 + Re**2*v(t, x, y)**2*Derivative(u(t, x, y), y)*Derivative(v(t, x, y), x) + Re**2*v(t, x, y)*Derivative(p(t, x, y), x)*Derivative(v(t, x, y), x) + Re**2*v(t, x, y)*Derivative(u(t, x, y), t)*Derivative(v(t, x, y), x) + Re*u(t, x, y)*Derivative(u(t, x, y), y)*Derivative(v(t, x, y), (y, 2))/3 - 2*Re*u(t, x, y)*Derivative(v(t, x, y), x)*Derivative(v(t, x, y), (y, 2))/3 - 8*Re*u(t, x, y)*Derivative(v(t, x, y), y)*Derivative(v(t, x, y), x, y)/3 + 2*Re*v(t, x, y)*Derivative(u(t, x, y), y)*Derivative(v(t, x, y), x, y) + Re*v(t, x, y)*Derivative(v(t, x, y), x)*Derivative(v(t, x, y), x, y) + 7*Re*Derivative(p(t, x, y), x)*Derivative(v(t, x, y), x, y)/3 + Re*Derivative(p(t, x, y), y)*Derivative(v(t, x, y), (y, 2))/3 - Re*Derivative(p(t, x, y), (y, 2))*Derivative(v(t, x, y), y)/3 + 7*Re*Derivative(u(t, x, y), t)*Derivative(v(t, x, y), x, y)/3 - Re*Derivative(u(t, x, y), y)*Derivative(v(t, x, y), x)*Derivative(v(t, x, y), y)/3 - Re*Derivative(u(t, x, y), y)*Derivative(p(t, x, y), x, y)/3 - Re*Derivative(u(t, x, y), y)*Derivative(v(t, x, y), t, x)/3 + Re*Derivative(v(t, x, y), t)*Derivative(v(t, x, y), (y, 2))/3 + Re*Derivative(v(t, x, y), x)*Derivative(p(t, x, y), x, y) + Re*Derivative(v(t, x, y), x)*Derivative(u(t, x, y), t, y) - Re*Derivative(v(t, x, y), y)**3/3 - Re*Derivative(v(t, x, y), y)*Derivative(v(t, x, y), t, y)/3 + 2*Derivative(p(t, x, y), (y, 4))/3 + 2*Derivative(u(t, x, y), y)*Derivative(v(t, x, y), x, (y, 2)) + 2*Derivative(v(t, x, y), x)*Derivative(v(t, x, y), x, (y, 2))/3 + 10*Derivative(v(t, x, y), y)*Derivative(v(t, x, y), (y, 3))/3 + 2*Derivative(v(t, x, y), (y, 2))**2 + 2*Derivative(v(t, x, y), x, y)**2"
      ]
     },
     "metadata": {},
     "output_type": "display_data"
    }
   ],
   "source": [
    "f4 = NF(F4, [u.diff(x), u.diff(y, 2), v.diff(x, 2)], [F1, F2, F3], head=True)\n",
    "f4 = NF(f4, [u.diff(x), u.diff(y, 2), v.diff(x, 2), p.diff(x, 2)], [F1, F2, F3, f4])\n",
    "prn2(f4)"
   ]
  },
  {
   "cell_type": "code",
   "execution_count": 98,
   "metadata": {},
   "outputs": [
    {
     "data": {
      "text/latex": [
       "$\\displaystyle 0$"
      ],
      "text/plain": [
       "0"
      ]
     },
     "metadata": {},
     "output_type": "display_data"
    },
    {
     "name": "stdout",
     "output_type": "stream",
     "text": [
      "tau^2 =>\n"
     ]
    },
    {
     "data": {
      "text/latex": [
       "$\\displaystyle 0$"
      ],
      "text/plain": [
       "0"
      ]
     },
     "metadata": {},
     "output_type": "display_data"
    },
    {
     "name": "stdout",
     "output_type": "stream",
     "text": [
      "h^2 =>\n"
     ]
    },
    {
     "data": {
      "text/latex": [
       "$\\displaystyle 0$"
      ],
      "text/plain": [
       "0"
      ]
     },
     "metadata": {},
     "output_type": "display_data"
    }
   ],
   "source": [
    "prn2([f.subs(TD).doit().simplify() for f in f4])"
   ]
  },
  {
   "cell_type": "code",
   "execution_count": 99,
   "metadata": {},
   "outputs": [
    {
     "data": {
      "text/latex": [
       "$\\displaystyle \\frac{\\partial}{\\partial x} u{\\left(t,x,y \\right)} + \\frac{\\partial}{\\partial y} v{\\left(t,x,y \\right)}$"
      ],
      "text/plain": [
       "Derivative(u(t, x, y), x) + Derivative(v(t, x, y), y)"
      ]
     },
     "metadata": {},
     "output_type": "display_data"
    },
    {
     "name": "stdout",
     "output_type": "stream",
     "text": [
      "tau^2 =>\n"
     ]
    },
    {
     "data": {
      "text/latex": [
       "$\\displaystyle 0$"
      ],
      "text/plain": [
       "0"
      ]
     },
     "metadata": {},
     "output_type": "display_data"
    },
    {
     "name": "stdout",
     "output_type": "stream",
     "text": [
      "h^2 =>\n"
     ]
    },
    {
     "data": {
      "text/latex": [
       "$\\displaystyle - \\frac{Re u{\\left(t,x,y \\right)} \\frac{\\partial^{2}}{\\partial y\\partial x} v{\\left(t,x,y \\right)}}{6} - \\frac{Re v{\\left(t,x,y \\right)} \\frac{\\partial^{2}}{\\partial y^{2}} v{\\left(t,x,y \\right)}}{6} - \\frac{Re \\frac{\\partial^{2}}{\\partial y^{2}} p{\\left(t,x,y \\right)}}{6} - \\frac{Re \\frac{\\partial}{\\partial y} u{\\left(t,x,y \\right)} \\frac{\\partial}{\\partial x} v{\\left(t,x,y \\right)}}{6} - \\frac{Re \\left(\\frac{\\partial}{\\partial y} v{\\left(t,x,y \\right)}\\right)^{2}}{6} - \\frac{Re \\frac{\\partial^{2}}{\\partial y\\partial t} v{\\left(t,x,y \\right)}}{6} + \\frac{\\frac{\\partial^{3}}{\\partial y^{3}} v{\\left(t,x,y \\right)}}{3}$"
      ],
      "text/plain": [
       "-Re*u(t, x, y)*Derivative(v(t, x, y), x, y)/6 - Re*v(t, x, y)*Derivative(v(t, x, y), (y, 2))/6 - Re*Derivative(p(t, x, y), (y, 2))/6 - Re*Derivative(u(t, x, y), y)*Derivative(v(t, x, y), x)/6 - Re*Derivative(v(t, x, y), y)**2/6 - Re*Derivative(v(t, x, y), t, y)/6 + Derivative(v(t, x, y), (y, 3))/3"
      ]
     },
     "metadata": {},
     "output_type": "display_data"
    }
   ],
   "source": [
    "f1 = NF(F1, [u.diff(y, 2), v.diff(x, 2), p.diff(x, 2)], [F2, F3, f4], head=True)\n",
    "f1 = NF(f1, [u.diff(x), u.diff(y, 2), v.diff(x, 2), p.diff(x, 2)], [f1, F2, F3, f4])\n",
    "prn2(f1)"
   ]
  },
  {
   "cell_type": "code",
   "execution_count": 100,
   "metadata": {},
   "outputs": [
    {
     "data": {
      "text/latex": [
       "$\\displaystyle 0$"
      ],
      "text/plain": [
       "0"
      ]
     },
     "metadata": {},
     "output_type": "display_data"
    },
    {
     "name": "stdout",
     "output_type": "stream",
     "text": [
      "tau^2 =>\n"
     ]
    },
    {
     "data": {
      "text/latex": [
       "$\\displaystyle 0$"
      ],
      "text/plain": [
       "0"
      ]
     },
     "metadata": {},
     "output_type": "display_data"
    },
    {
     "name": "stdout",
     "output_type": "stream",
     "text": [
      "h^2 =>\n"
     ]
    },
    {
     "data": {
      "text/latex": [
       "$\\displaystyle 0$"
      ],
      "text/plain": [
       "0"
      ]
     },
     "metadata": {},
     "output_type": "display_data"
    }
   ],
   "source": [
    "prn2([f.subs(TD).doit().simplify() for f in f1])"
   ]
  },
  {
   "cell_type": "code",
   "execution_count": 101,
   "metadata": {},
   "outputs": [
    {
     "data": {
      "text/latex": [
       "$\\displaystyle - u{\\left(t,x,y \\right)} \\frac{\\partial}{\\partial y} v{\\left(t,x,y \\right)} + v{\\left(t,x,y \\right)} \\frac{\\partial}{\\partial y} u{\\left(t,x,y \\right)} + \\frac{\\partial}{\\partial x} p{\\left(t,x,y \\right)} + \\frac{\\partial}{\\partial t} u{\\left(t,x,y \\right)} - \\frac{\\frac{\\partial^{2}}{\\partial y^{2}} u{\\left(t,x,y \\right)}}{Re} + \\frac{\\frac{\\partial^{2}}{\\partial y\\partial x} v{\\left(t,x,y \\right)}}{Re}$"
      ],
      "text/plain": [
       "-u(t, x, y)*Derivative(v(t, x, y), y) + v(t, x, y)*Derivative(u(t, x, y), y) + Derivative(p(t, x, y), x) + Derivative(u(t, x, y), t) - Derivative(u(t, x, y), (y, 2))/Re + Derivative(v(t, x, y), x, y)/Re"
      ]
     },
     "metadata": {},
     "output_type": "display_data"
    },
    {
     "name": "stdout",
     "output_type": "stream",
     "text": [
      "tau^2 =>\n"
     ]
    },
    {
     "data": {
      "text/latex": [
       "$\\displaystyle - \\frac{\\frac{\\partial^{3}}{\\partial t^{3}} u{\\left(t,x,y \\right)}}{12}$"
      ],
      "text/plain": [
       "-Derivative(u(t, x, y), (t, 3))/12"
      ]
     },
     "metadata": {},
     "output_type": "display_data"
    },
    {
     "name": "stdout",
     "output_type": "stream",
     "text": [
      "h^2 =>\n"
     ]
    },
    {
     "data": {
      "text/latex": [
       "$\\displaystyle - \\frac{Re^{2} u{\\left(t,x,y \\right)} v^{2}{\\left(t,x,y \\right)} \\frac{\\partial}{\\partial y} v{\\left(t,x,y \\right)}}{12} + \\frac{Re^{2} v^{3}{\\left(t,x,y \\right)} \\frac{\\partial}{\\partial y} u{\\left(t,x,y \\right)}}{12} + \\frac{Re^{2} v^{2}{\\left(t,x,y \\right)} \\frac{\\partial}{\\partial x} p{\\left(t,x,y \\right)}}{12} + \\frac{Re^{2} v^{2}{\\left(t,x,y \\right)} \\frac{\\partial}{\\partial t} u{\\left(t,x,y \\right)}}{12} - \\frac{Re u^{2}{\\left(t,x,y \\right)} \\frac{\\partial^{2}}{\\partial y\\partial x} v{\\left(t,x,y \\right)}}{12} - \\frac{Re u{\\left(t,x,y \\right)} v{\\left(t,x,y \\right)} \\frac{\\partial^{2}}{\\partial y^{2}} v{\\left(t,x,y \\right)}}{6} - \\frac{Re u{\\left(t,x,y \\right)} \\frac{\\partial^{2}}{\\partial y^{2}} p{\\left(t,x,y \\right)}}{12} - \\frac{Re u{\\left(t,x,y \\right)} \\frac{\\partial}{\\partial y} u{\\left(t,x,y \\right)} \\frac{\\partial}{\\partial x} v{\\left(t,x,y \\right)}}{2} - \\frac{Re u{\\left(t,x,y \\right)} \\left(\\frac{\\partial}{\\partial y} v{\\left(t,x,y \\right)}\\right)^{2}}{2} + \\frac{Re v^{2}{\\left(t,x,y \\right)} \\frac{\\partial^{2}}{\\partial y\\partial x} v{\\left(t,x,y \\right)}}{12} + \\frac{Re v{\\left(t,x,y \\right)} \\frac{\\partial^{2}}{\\partial y\\partial x} p{\\left(t,x,y \\right)}}{12} + \\frac{5 Re \\frac{\\partial}{\\partial x} p{\\left(t,x,y \\right)} \\frac{\\partial}{\\partial y} v{\\left(t,x,y \\right)}}{12} - \\frac{5 Re \\frac{\\partial}{\\partial y} p{\\left(t,x,y \\right)} \\frac{\\partial}{\\partial y} u{\\left(t,x,y \\right)}}{12} + \\frac{Re \\frac{\\partial}{\\partial t} u{\\left(t,x,y \\right)} \\frac{\\partial}{\\partial y} v{\\left(t,x,y \\right)}}{2} - \\frac{Re \\frac{\\partial^{2}}{\\partial t^{2}} u{\\left(t,x,y \\right)}}{12} - \\frac{Re \\frac{\\partial}{\\partial y} u{\\left(t,x,y \\right)} \\frac{\\partial}{\\partial t} v{\\left(t,x,y \\right)}}{2} - \\frac{Re \\frac{\\partial^{2}}{\\partial x\\partial t} p{\\left(t,x,y \\right)}}{12} + \\frac{\\frac{\\partial^{5}}{\\partial t^{5}} u{\\left(t,x,y \\right)}}{96} + \\frac{\\partial}{\\partial y} u{\\left(t,x,y \\right)} \\frac{\\partial^{2}}{\\partial y^{2}} v{\\left(t,x,y \\right)} + \\frac{\\frac{\\partial}{\\partial x} v{\\left(t,x,y \\right)} \\frac{\\partial^{2}}{\\partial y^{2}} v{\\left(t,x,y \\right)}}{3} + \\frac{2 \\frac{\\partial}{\\partial y} v{\\left(t,x,y \\right)} \\frac{\\partial^{2}}{\\partial y\\partial x} v{\\left(t,x,y \\right)}}{3} - \\frac{\\frac{\\partial^{3}}{\\partial y^{2}\\partial x} p{\\left(t,x,y \\right)}}{3} - \\frac{\\frac{\\partial^{3}}{\\partial y\\partial x\\partial t} v{\\left(t,x,y \\right)}}{6} + \\frac{\\frac{\\partial^{4}}{\\partial y^{3}\\partial x} v{\\left(t,x,y \\right)}}{6 Re}$"
      ],
      "text/plain": [
       "-Re**2*u(t, x, y)*v(t, x, y)**2*Derivative(v(t, x, y), y)/12 + Re**2*v(t, x, y)**3*Derivative(u(t, x, y), y)/12 + Re**2*v(t, x, y)**2*Derivative(p(t, x, y), x)/12 + Re**2*v(t, x, y)**2*Derivative(u(t, x, y), t)/12 - Re*u(t, x, y)**2*Derivative(v(t, x, y), x, y)/12 - Re*u(t, x, y)*v(t, x, y)*Derivative(v(t, x, y), (y, 2))/6 - Re*u(t, x, y)*Derivative(p(t, x, y), (y, 2))/12 - Re*u(t, x, y)*Derivative(u(t, x, y), y)*Derivative(v(t, x, y), x)/2 - Re*u(t, x, y)*Derivative(v(t, x, y), y)**2/2 + Re*v(t, x, y)**2*Derivative(v(t, x, y), x, y)/12 + Re*v(t, x, y)*Derivative(p(t, x, y), x, y)/12 + 5*Re*Derivative(p(t, x, y), x)*Derivative(v(t, x, y), y)/12 - 5*Re*Derivative(p(t, x, y), y)*Derivative(u(t, x, y), y)/12 + Re*Derivative(u(t, x, y), t)*Derivative(v(t, x, y), y)/2 - Re*Derivative(u(t, x, y), (t, 2))/12 - Re*Derivative(u(t, x, y), y)*Derivative(v(t, x, y), t)/2 - Re*Derivative(p(t, x, y), t, x)/12 + Derivative(u(t, x, y), (t, 5))/96 + Derivative(u(t, x, y), y)*Derivative(v(t, x, y), (y, 2)) + Derivative(v(t, x, y), x)*Derivative(v(t, x, y), (y, 2))/3 + 2*Derivative(v(t, x, y), y)*Derivative(v(t, x, y), x, y)/3 - Derivative(p(t, x, y), x, (y, 2))/3 - Derivative(v(t, x, y), t, x, y)/6 + Derivative(v(t, x, y), x, (y, 3))/(6*Re)"
      ]
     },
     "metadata": {},
     "output_type": "display_data"
    }
   ],
   "source": [
    "f2 = NF(F2, [u.diff(x), v.diff(x, 2), p.diff(x, 2)], [f1, F3, f4], head=True)\n",
    "f2 = NF(f2, [u.diff(x), u.diff(y, 2), v.diff(x, 2), p.diff(x, 2)], [f1, f2, F3, f4])\n",
    "prn2(f2)"
   ]
  },
  {
   "cell_type": "code",
   "execution_count": 102,
   "metadata": {},
   "outputs": [
    {
     "data": {
      "text/latex": [
       "$\\displaystyle 0$"
      ],
      "text/plain": [
       "0"
      ]
     },
     "metadata": {},
     "output_type": "display_data"
    },
    {
     "name": "stdout",
     "output_type": "stream",
     "text": [
      "tau^2 =>\n"
     ]
    },
    {
     "data": {
      "text/latex": [
       "$\\displaystyle - \\frac{2 e^{- \\frac{2 t}{Re}} \\sin{\\left(y \\right)} \\cos{\\left(x \\right)}}{3 Re^{3}}$"
      ],
      "text/plain": [
       "-2*exp(-2*t/Re)*sin(y)*cos(x)/(3*Re**3)"
      ]
     },
     "metadata": {},
     "output_type": "display_data"
    },
    {
     "name": "stdout",
     "output_type": "stream",
     "text": [
      "h^2 =>\n"
     ]
    },
    {
     "data": {
      "text/latex": [
       "$\\displaystyle \\frac{\\left(Re^{4} + 2\\right) e^{- \\frac{2 t}{Re}} \\sin{\\left(y \\right)} \\cos{\\left(x \\right)}}{6 Re^{5}}$"
      ],
      "text/plain": [
       "(Re**4 + 2)*exp(-2*t/Re)*sin(y)*cos(x)/(6*Re**5)"
      ]
     },
     "metadata": {},
     "output_type": "display_data"
    }
   ],
   "source": [
    "prn2([f.subs(TD).doit().simplify() for f in f2])"
   ]
  },
  {
   "cell_type": "code",
   "execution_count": 103,
   "metadata": {},
   "outputs": [
    {
     "data": {
      "text/latex": [
       "$\\displaystyle p_{y} + u v_{x} + v v_{y} + v_{t} - \\frac{v_{xx}}{Re} - \\frac{v_{yy}}{Re}$"
      ],
      "text/plain": [
       "p_{y} + u*v_{x} + v*v_{y} + v_{t} - v_{xx}/Re - v_{yy}/Re"
      ]
     },
     "metadata": {},
     "output_type": "display_data"
    },
    {
     "name": "stdout",
     "output_type": "stream",
     "text": [
      "tau =>\n"
     ]
    },
    {
     "data": {
      "text/latex": [
       "$\\displaystyle - \\frac{v_{ttt}}{12}$"
      ],
      "text/plain": [
       "-v_{ttt}/12"
      ]
     },
     "metadata": {},
     "output_type": "display_data"
    },
    {
     "name": "stdout",
     "output_type": "stream",
     "text": [
      "h^2 =>\n"
     ]
    },
    {
     "data": {
      "text/latex": [
       "$\\displaystyle \\frac{Re^{2} p_{y} u^{2}}{12} + \\frac{Re^{2} u^{3} v_{x}}{12} + \\frac{Re^{2} u^{2} v v_{y}}{12} + \\frac{Re^{2} u^{2} v_{t}}{12} - \\frac{Re p_{ty}}{12} + \\frac{Re p_{xy} u}{12} + \\frac{Re p_{x} v_{x}}{4} - \\frac{Re p_{yy} v}{12} - \\frac{5 Re p_{y} v_{y}}{12} - \\frac{Re u^{2} v_{yy}}{12} - \\frac{2 Re u v_{x} v_{y}}{3} + \\frac{Re u_{t} v_{x}}{6} + \\frac{Re u_{y} v v_{x}}{6} - \\frac{Re v^{2} v_{yy}}{12} - \\frac{Re v v_{ty}}{6} - \\frac{Re v v_{y}^{2}}{2} - \\frac{Re v_{tt}}{12} - \\frac{Re v_{t} v_{y}}{2} + \\frac{p_{yyy}}{3} + \\frac{u_{y} v_{xy}}{3} + \\frac{v v_{yyy}}{3} + \\frac{v_{ttttt}}{96} + \\frac{v_{tyy}}{6} - \\frac{v_{xy} v_{x}}{3} + 2 v_{yy} v_{y} - \\frac{v_{yyyy}}{6 Re}$"
      ],
      "text/plain": [
       "Re**2*p_{y}*u**2/12 + Re**2*u**3*v_{x}/12 + Re**2*u**2*v*v_{y}/12 + Re**2*u**2*v_{t}/12 - Re*p_{ty}/12 + Re*p_{xy}*u/12 + Re*p_{x}*v_{x}/4 - Re*p_{yy}*v/12 - 5*Re*p_{y}*v_{y}/12 - Re*u**2*v_{yy}/12 - 2*Re*u*v_{x}*v_{y}/3 + Re*u_{t}*v_{x}/6 + Re*u_{y}*v*v_{x}/6 - Re*v**2*v_{yy}/12 - Re*v*v_{ty}/6 - Re*v*v_{y}**2/2 - Re*v_{tt}/12 - Re*v_{t}*v_{y}/2 + p_{yyy}/3 + u_{y}*v_{xy}/3 + v*v_{yyy}/3 + v_{ttttt}/96 + v_{tyy}/6 - v_{xy}*v_{x}/3 + 2*v_{yy}*v_{y} - v_{yyyy}/(6*Re)"
      ]
     },
     "metadata": {},
     "output_type": "display_data"
    }
   ],
   "source": [
    "f3 = NF(F3, [u.diff(x), u.diff(y, 2), p.diff(x, 2)], [f1, f2, f4], head=True)\n",
    "f3 = NF(f3, [u.diff(x), u.diff(y, 2), v.diff(x, 2), p.diff(x, 2)], [f1, f2, f3, f4])\n",
    "prn(f3)"
   ]
  },
  {
   "cell_type": "code",
   "execution_count": 104,
   "metadata": {},
   "outputs": [
    {
     "data": {
      "text/latex": [
       "$\\displaystyle 0$"
      ],
      "text/plain": [
       "0"
      ]
     },
     "metadata": {},
     "output_type": "display_data"
    },
    {
     "name": "stdout",
     "output_type": "stream",
     "text": [
      "tau^2 =>\n"
     ]
    },
    {
     "data": {
      "text/latex": [
       "$\\displaystyle \\frac{2 e^{- \\frac{2 t}{Re}} \\sin{\\left(x \\right)} \\cos{\\left(y \\right)}}{3 Re^{3}}$"
      ],
      "text/plain": [
       "2*exp(-2*t/Re)*sin(x)*cos(y)/(3*Re**3)"
      ]
     },
     "metadata": {},
     "output_type": "display_data"
    },
    {
     "name": "stdout",
     "output_type": "stream",
     "text": [
      "h^2 =>\n"
     ]
    },
    {
     "data": {
      "text/latex": [
       "$\\displaystyle - \\frac{\\left(Re^{4} + 2\\right) e^{- \\frac{2 t}{Re}} \\sin{\\left(x \\right)} \\cos{\\left(y \\right)}}{6 Re^{5}}$"
      ],
      "text/plain": [
       "-(Re**4 + 2)*exp(-2*t/Re)*sin(x)*cos(y)/(6*Re**5)"
      ]
     },
     "metadata": {},
     "output_type": "display_data"
    }
   ],
   "source": [
    "prn2([f.subs(TD).doit().simplify() for f in f3])"
   ]
  },
  {
   "cell_type": "code",
   "execution_count": 105,
   "metadata": {},
   "outputs": [
    {
     "data": {
      "text/latex": [
       "$\\displaystyle 0$"
      ],
      "text/plain": [
       "0"
      ]
     },
     "metadata": {},
     "output_type": "display_data"
    },
    {
     "name": "stdout",
     "output_type": "stream",
     "text": [
      "tau^2 =>\n"
     ]
    },
    {
     "data": {
      "text/latex": [
       "$\\displaystyle 0$"
      ],
      "text/plain": [
       "0"
      ]
     },
     "metadata": {},
     "output_type": "display_data"
    },
    {
     "name": "stdout",
     "output_type": "stream",
     "text": [
      "h^2 =>\n"
     ]
    },
    {
     "data": {
      "text/latex": [
       "$\\displaystyle 0$"
      ],
      "text/plain": [
       "0"
      ]
     },
     "metadata": {},
     "output_type": "display_data"
    }
   ],
   "source": [
    "spoly = [a.diff(x) + b.diff(y) for a, b in zip(f2, f3)]\n",
    "spoly = NF(spoly, [u.diff(x), u.diff(y, 2), v.diff(x, 2), p.diff(x, 2)], [f1, f2, f3, f4], head=True)\n",
    "prn2(spoly)"
   ]
  },
  {
   "cell_type": "code",
   "execution_count": null,
   "metadata": {},
   "outputs": [],
   "source": []
  }
 ],
 "metadata": {
  "kernelspec": {
   "display_name": "Python 3",
   "language": "python",
   "name": "python3"
  },
  "language_info": {
   "codemirror_mode": {
    "name": "ipython",
    "version": 3
   },
   "file_extension": ".py",
   "mimetype": "text/x-python",
   "name": "python",
   "nbconvert_exporter": "python",
   "pygments_lexer": "ipython3",
   "version": "3.8.10"
  }
 },
 "nbformat": 4,
 "nbformat_minor": 4
}
