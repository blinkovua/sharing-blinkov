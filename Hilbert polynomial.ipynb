{
 "cells": [
  {
   "cell_type": "code",
   "execution_count": 1,
   "metadata": {},
   "outputs": [],
   "source": [
    "from IPython.display import display\n",
    "\n",
    "from sympy import *\n",
    "\n",
    "from gb import *\n",
    "from ginv import *"
   ]
  },
  {
   "cell_type": "code",
   "execution_count": 2,
   "metadata": {},
   "outputs": [
    {
     "data": {
      "text/latex": [
       "$\\displaystyle 10$"
      ],
      "text/plain": [
       "10"
      ]
     },
     "execution_count": 2,
     "metadata": {},
     "output_type": "execute_result"
    }
   ],
   "source": [
    "binomial(5, 3)"
   ]
  },
  {
   "cell_type": "markdown",
   "metadata": {},
   "source": [
    "Число производных (мономов, сеточных функций) от $n$ переменных порядка не больше $q$ равно ${q+n\\choose q}$"
   ]
  },
  {
   "cell_type": "code",
   "execution_count": 3,
   "metadata": {},
   "outputs": [
    {
     "data": {
      "text/latex": [
       "$\\displaystyle 21$"
      ],
      "text/plain": [
       "21"
      ]
     },
     "execution_count": 3,
     "metadata": {},
     "output_type": "execute_result"
    }
   ],
   "source": [
    "def cm(n, q): return binomial(q + n, q)\n",
    "cm(5, 2)"
   ]
  },
  {
   "cell_type": "code",
   "execution_count": 4,
   "metadata": {},
   "outputs": [
    {
     "data": {
      "text/latex": [
       "$\\displaystyle {\\binom{n + q}{q}}$"
      ],
      "text/plain": [
       "binomial(n + q, q)"
      ]
     },
     "execution_count": 4,
     "metadata": {},
     "output_type": "execute_result"
    }
   ],
   "source": [
    "n, q = symbols('n, q', integer=True, positive=True)\n",
    "binomial(q + n, q)"
   ]
  },
  {
   "cell_type": "code",
   "execution_count": 5,
   "metadata": {},
   "outputs": [],
   "source": [
    "X = sympy.symbols('x1, x2, x3, x4, x5', real=True)\n",
    "u = sympy.symbols('u', cls=sympy.Function)(*X)"
   ]
  },
  {
   "cell_type": "code",
   "execution_count": 6,
   "metadata": {},
   "outputs": [
    {
     "data": {
      "text/plain": [
       "{Derivative(u(x1, x2, x3, x4, x5), (x1, 2)),\n",
       " Derivative(u(x1, x2, x3, x4, x5), (x2, 2)),\n",
       " Derivative(u(x1, x2, x3, x4, x5), (x3, 2)),\n",
       " Derivative(u(x1, x2, x3, x4, x5), (x4, 2)),\n",
       " Derivative(u(x1, x2, x3, x4, x5), (x5, 2)),\n",
       " Derivative(u(x1, x2, x3, x4, x5), x1),\n",
       " Derivative(u(x1, x2, x3, x4, x5), x1, x2),\n",
       " Derivative(u(x1, x2, x3, x4, x5), x1, x3),\n",
       " Derivative(u(x1, x2, x3, x4, x5), x1, x4),\n",
       " Derivative(u(x1, x2, x3, x4, x5), x1, x5),\n",
       " Derivative(u(x1, x2, x3, x4, x5), x2),\n",
       " Derivative(u(x1, x2, x3, x4, x5), x2, x3),\n",
       " Derivative(u(x1, x2, x3, x4, x5), x2, x4),\n",
       " Derivative(u(x1, x2, x3, x4, x5), x2, x5),\n",
       " Derivative(u(x1, x2, x3, x4, x5), x3),\n",
       " Derivative(u(x1, x2, x3, x4, x5), x3, x4),\n",
       " Derivative(u(x1, x2, x3, x4, x5), x3, x5),\n",
       " Derivative(u(x1, x2, x3, x4, x5), x4),\n",
       " Derivative(u(x1, x2, x3, x4, x5), x4, x5),\n",
       " Derivative(u(x1, x2, x3, x4, x5), x5),\n",
       " u(x1, x2, x3, x4, x5)}"
      ]
     },
     "execution_count": 6,
     "metadata": {},
     "output_type": "execute_result"
    }
   ],
   "source": [
    "s = set([u])\n",
    "for x in X:\n",
    "    p1 = u.diff(x)\n",
    "    s.add(p1)\n",
    "    for y in X:\n",
    "        p2 = p1.diff(y)\n",
    "        s.add(p2)\n",
    "s"
   ]
  },
  {
   "cell_type": "code",
   "execution_count": 7,
   "metadata": {},
   "outputs": [
    {
     "data": {
      "text/plain": [
       "21"
      ]
     },
     "execution_count": 7,
     "metadata": {},
     "output_type": "execute_result"
    }
   ],
   "source": [
    "len(s)"
   ]
  },
  {
   "cell_type": "markdown",
   "metadata": {},
   "source": [
    "Число производных (мономов, сеточных функций) от $n$ переменных порядка равного $q$ равно ${q+n-1\\choose q}$"
   ]
  },
  {
   "cell_type": "code",
   "execution_count": 8,
   "metadata": {},
   "outputs": [
    {
     "data": {
      "text/latex": [
       "$\\displaystyle 15$"
      ],
      "text/plain": [
       "15"
      ]
     },
     "execution_count": 8,
     "metadata": {},
     "output_type": "execute_result"
    }
   ],
   "source": [
    "cm(5-1, 2)"
   ]
  },
  {
   "cell_type": "code",
   "execution_count": 9,
   "metadata": {},
   "outputs": [
    {
     "data": {
      "text/plain": [
       "{Derivative(u(x1, x2, x3, x4, x5), (x1, 2)),\n",
       " Derivative(u(x1, x2, x3, x4, x5), (x2, 2)),\n",
       " Derivative(u(x1, x2, x3, x4, x5), (x3, 2)),\n",
       " Derivative(u(x1, x2, x3, x4, x5), (x4, 2)),\n",
       " Derivative(u(x1, x2, x3, x4, x5), (x5, 2)),\n",
       " Derivative(u(x1, x2, x3, x4, x5), x1, x2),\n",
       " Derivative(u(x1, x2, x3, x4, x5), x1, x3),\n",
       " Derivative(u(x1, x2, x3, x4, x5), x1, x4),\n",
       " Derivative(u(x1, x2, x3, x4, x5), x1, x5),\n",
       " Derivative(u(x1, x2, x3, x4, x5), x2, x3),\n",
       " Derivative(u(x1, x2, x3, x4, x5), x2, x4),\n",
       " Derivative(u(x1, x2, x3, x4, x5), x2, x5),\n",
       " Derivative(u(x1, x2, x3, x4, x5), x3, x4),\n",
       " Derivative(u(x1, x2, x3, x4, x5), x3, x5),\n",
       " Derivative(u(x1, x2, x3, x4, x5), x4, x5)}"
      ]
     },
     "execution_count": 9,
     "metadata": {},
     "output_type": "execute_result"
    }
   ],
   "source": [
    "s2 = set()\n",
    "for x in X:\n",
    "    p1 = u.diff(x)\n",
    "    for y in X:\n",
    "        p2 = p1.diff(y)\n",
    "        s2.add(p2)\n",
    "s2"
   ]
  },
  {
   "cell_type": "code",
   "execution_count": 10,
   "metadata": {},
   "outputs": [
    {
     "data": {
      "text/plain": [
       "15"
      ]
     },
     "execution_count": 10,
     "metadata": {},
     "output_type": "execute_result"
    }
   ],
   "source": [
    "len(s2)"
   ]
  },
  {
   "cell_type": "code",
   "execution_count": 11,
   "metadata": {},
   "outputs": [
    {
     "data": {
      "text/plain": [
       "[-Derivative(u(x1, x2, x3, x4, x5), x1, x3) + Derivative(u(x1, x2, x3, x4, x5), x4, x5),\n",
       " -Derivative(u(x1, x2, x3, x4, x5), x1, x2) + Derivative(u(x1, x2, x3, x4, x5), x3, x5),\n",
       " Derivative(u(x1, x2, x3, x4, x5), (x3, 2)) - Derivative(u(x1, x2, x3, x4, x5), x2, x4),\n",
       " -Derivative(u(x1, x2, x3, x4, x5), (x1, 2)) + Derivative(u(x1, x2, x3, x4, x5), x2, x5),\n",
       " -Derivative(u(x1, x2, x3, x4, x5), x1, x4) + Derivative(u(x1, x2, x3, x4, x5), x2, x3),\n",
       " Derivative(u(x1, x2, x3, x4, x5), (x2, 2)) - Derivative(u(x1, x2, x3, x4, x5), x1, x3)]"
      ]
     },
     "execution_count": 11,
     "metadata": {},
     "output_type": "execute_result"
    }
   ],
   "source": [
    "Q =[\n",
    "u.diff(X[3], X[4]) - u.diff(X[0], X[2]),\\\n",
    "u.diff(X[2], X[4]) - u.diff(X[0], X[1]),\\\n",
    "u.diff(X[2], X[2]) - u.diff(X[1], X[3]),\\\n",
    "u.diff(X[1], X[4]) - u.diff(X[0], X[0]),\\\n",
    "u.diff(X[1], X[2]) - u.diff(X[0], X[3]),\\\n",
    "u.diff(X[1], X[1]) - u.diff(X[0], X[2]),\\\n",
    "]\n",
    "Q"
   ]
  },
  {
   "cell_type": "code",
   "execution_count": 12,
   "metadata": {},
   "outputs": [
    {
     "data": {
      "text/plain": [
       "{Derivative(u(x1, x2, x3, x4, x5), (x2, 2)): Derivative(u(x1, x2, x3, x4, x5), x4, x5),\n",
       " Derivative(u(x1, x2, x3, x4, x5), x1, x4): Derivative(u(x1, x2, x3, x4, x5), x2, x3),\n",
       " Derivative(u(x1, x2, x3, x4, x5), (x1, 2)): Derivative(u(x1, x2, x3, x4, x5), x2, x5),\n",
       " Derivative(u(x1, x2, x3, x4, x5), (x3, 2)): Derivative(u(x1, x2, x3, x4, x5), x2, x4),\n",
       " Derivative(u(x1, x2, x3, x4, x5), x1, x2): Derivative(u(x1, x2, x3, x4, x5), x3, x5),\n",
       " Derivative(u(x1, x2, x3, x4, x5), x1, x3): Derivative(u(x1, x2, x3, x4, x5), x4, x5)}"
      ]
     },
     "metadata": {},
     "output_type": "display_data"
    },
    {
     "data": {
      "text/latex": [
       "$\\displaystyle 9$"
      ],
      "text/plain": [
       "9"
      ]
     },
     "execution_count": 12,
     "metadata": {},
     "output_type": "execute_result"
    }
   ],
   "source": [
    "G2 = solve(Q, s2)\n",
    "display(G2)\n",
    "cm(5-1, 2) - len(G2)"
   ]
  },
  {
   "cell_type": "code",
   "execution_count": 13,
   "metadata": {},
   "outputs": [
    {
     "data": {
      "text/plain": [
       "35"
      ]
     },
     "execution_count": 13,
     "metadata": {},
     "output_type": "execute_result"
    }
   ],
   "source": [
    "s3 = set()\n",
    "for x in X:\n",
    "    p1 = u.diff(x)\n",
    "    for y in X:\n",
    "        p2 = p1.diff(y)\n",
    "        for z in X:\n",
    "            p3 = p2.diff(z)\n",
    "            s3.add(p3)\n",
    "len(s3)"
   ]
  },
  {
   "cell_type": "code",
   "execution_count": 14,
   "metadata": {},
   "outputs": [
    {
     "data": {
      "text/latex": [
       "$\\displaystyle 13$"
      ],
      "text/plain": [
       "13"
      ]
     },
     "execution_count": 14,
     "metadata": {},
     "output_type": "execute_result"
    }
   ],
   "source": [
    "G3 = solve([q.diff(x) for x in X for q in Q], s3)\n",
    "cm(5-1, 3) - len(G3)"
   ]
  },
  {
   "cell_type": "code",
   "execution_count": 15,
   "metadata": {},
   "outputs": [
    {
     "name": "stdout",
     "output_type": "stream",
     "text": [
      "laplace.janet(-1).size() - 1\n"
     ]
    },
    {
     "data": {
      "text/plain": [
       "['1', '2', '0']"
      ]
     },
     "execution_count": 15,
     "metadata": {},
     "output_type": "execute_result"
    }
   ],
   "source": [
    "size = 2\n",
    "x, y = [poly_int.to_monom(\"TOP\", \"deglex\", monom.variable(i, size, -1)) for i in range(size)]\n",
    "Q =[\n",
    "x**2 - y**2\n",
    "]\n",
    "laplace = janet_poly_int()\n",
    "for q in Q:\n",
    "    laplace.push(q)\n",
    "laplace.build()\n",
    "print(\"laplace.janet(-1).size() -\", laplace.janet(-1).size())\n",
    "laplace.janet(-1).HilbertPoly()"
   ]
  },
  {
   "cell_type": "code",
   "execution_count": 16,
   "metadata": {},
   "outputs": [],
   "source": [
    "size = 5\n",
    "x5, x4, x3, x2, x1 = [poly_int.to_monom(\"TOP\", \"deglex\", monom.variable(i, size, -1)) for i in range(size)]"
   ]
  },
  {
   "cell_type": "code",
   "execution_count": 17,
   "metadata": {},
   "outputs": [
    {
     "name": "stdout",
     "output_type": "stream",
     "text": [
      "size - 6\n"
     ]
    },
    {
     "data": {
      "text/plain": [
       "['1', '3', '2', '0', '0', '0']"
      ]
     },
     "execution_count": 17,
     "metadata": {},
     "output_type": "execute_result"
    }
   ],
   "source": [
    "Q =[\n",
    "x4*x5 - x1*x3,\\\n",
    "x3*x5 - x1*x2,\\\n",
    "x3*x3 - x2*x4,\\\n",
    "x2*x5 - x1*x1,\\\n",
    "x2*x3 - x1*x4,\\\n",
    "x2*x2 - x1*x3,\\\n",
    "]\n",
    "pommaret = janet_poly_int()\n",
    "for q in Q:\n",
    "    pommaret.push(q)\n",
    "pommaret.build()\n",
    "print(\"size -\", pommaret.janet(-1).size())\n",
    "pommaret.janet(-1).HilbertPoly()"
   ]
  },
  {
   "cell_type": "code",
   "execution_count": 18,
   "metadata": {},
   "outputs": [
    {
     "name": "stdout",
     "output_type": "stream",
     "text": [
      "size - 8\n"
     ]
    },
    {
     "data": {
      "text/plain": [
       "['1', '3', '2', '0', '0', '0']"
      ]
     },
     "execution_count": 18,
     "metadata": {},
     "output_type": "execute_result"
    }
   ],
   "source": [
    "Q =[\n",
    "x4*x5 - x1*x2,\\\n",
    "x3*x5 - x1*x1,\\\n",
    "x3*x4 - x2*x2,\\\n",
    "x3*x3 - x1*x2,\\\n",
    "x2*x5 - x1*x3,\\\n",
    "x2*x3 - x1*x4,\\\n",
    "]\n",
    "pommaret = janet_poly_int()\n",
    "for q in Q:\n",
    "    pommaret.push(q)\n",
    "pommaret.build()\n",
    "print(\"size -\", pommaret.janet(-1).size())\n",
    "pommaret.janet(-1).HilbertPoly()"
   ]
  },
  {
   "cell_type": "code",
   "execution_count": 19,
   "metadata": {},
   "outputs": [
    {
     "name": "stdout",
     "output_type": "stream",
     "text": [
      "size - 6\n"
     ]
    },
    {
     "data": {
      "text/plain": [
       "['1', '3', '2', '0', '0', '0']"
      ]
     },
     "execution_count": 19,
     "metadata": {},
     "output_type": "execute_result"
    }
   ],
   "source": [
    "Q =[\n",
    "x5*x5 - x1*x4,\\\n",
    "x4*x5 - x1*x3,\\\n",
    "x4*x4 - x1*x2,\\\n",
    "x3*x5 - x1*x2,\\\n",
    "x3*x4 - x2*x5,\\\n",
    "x3*x3 - x2*x4,\\\n",
    "]\n",
    "pommaret = janet_poly_int()\n",
    "for q in Q:\n",
    "    pommaret.push(q)\n",
    "pommaret.build()\n",
    "print(\"size -\", pommaret.janet(-1).size())\n",
    "pommaret.janet(-1).HilbertPoly()"
   ]
  },
  {
   "cell_type": "code",
   "execution_count": 20,
   "metadata": {},
   "outputs": [],
   "source": [
    "size = 3\n",
    "t, x, y = [poly_int.to_monom(\"TOP\", \"deglex\", monom.variable(i, size, -1)) for i in range(size)]\n",
    "n = 3\n",
    "u, v, p = [poly_int.to_monom(\"TOP\", \"deglex\", monom.variable(-1, size, i)) for i in range(n)]"
   ]
  },
  {
   "cell_type": "code",
   "execution_count": 21,
   "metadata": {},
   "outputs": [
    {
     "data": {
      "text/plain": [
       "[0 1:0 0 0]*0x1 + ..."
      ]
     },
     "execution_count": 21,
     "metadata": {},
     "output_type": "execute_result"
    }
   ],
   "source": [
    "u"
   ]
  },
  {
   "cell_type": "code",
   "execution_count": 22,
   "metadata": {},
   "outputs": [
    {
     "name": "stdout",
     "output_type": "stream",
     "text": [
      "size - 5\n",
      "HilbertPoly - ['1', '5/3', '3/2', '-1/6']\n",
      "size - 1\n",
      "HilbertPoly - ['1', '3/2', '3/2', '0']\n",
      "size - 1\n",
      "HilbertPoly - ['1', '3/2', '3/2', '0']\n"
     ]
    }
   ],
   "source": [
    "Q =[\n",
    "u*x,\\\n",
    "u*y*y,\\\n",
    "v*x*x,\\\n",
    "p*x*x,\\\n",
    "]\n",
    "NS = janet_poly_int()\n",
    "for q in Q:\n",
    "    NS.push(q)\n",
    "NS.build()\n",
    "for i in range(n):\n",
    "    print(\"size -\", NS.janet(i).size())\n",
    "    print(\"HilbertPoly -\", NS.janet(i).HilbertPoly())"
   ]
  },
  {
   "cell_type": "code",
   "execution_count": 23,
   "metadata": {},
   "outputs": [
    {
     "data": {
      "text/latex": [
       "$\\displaystyle \\frac{9 s^{2}}{2} + \\frac{14 s}{3} + 3$"
      ],
      "text/plain": [
       "9*s**2/2 + 14*s/3 + 3"
      ]
     },
     "execution_count": 23,
     "metadata": {},
     "output_type": "execute_result"
    }
   ],
   "source": [
    "s = symbols('s', integer=True, positive=True)\n",
    "HP = sum(eval(\"s**%d*%s\" % (d, NS.janet(i).HilbertPoly()[d])) for i in range(n) for d in range(n))\n",
    "HP"
   ]
  },
  {
   "cell_type": "code",
   "execution_count": 24,
   "metadata": {},
   "outputs": [
    {
     "name": "stdout",
     "output_type": "stream",
     "text": [
      "size - 3\n",
      "HilbertPoly - ['-15', '19/2', '1/2', '0']\n",
      "size - 1\n",
      "HilbertPoly - ['5', '-5/2', '5/2', '0']\n",
      "size - 1\n",
      "HilbertPoly - ['1', '3/2', '3/2', '0']\n"
     ]
    }
   ],
   "source": [
    "Q =[\n",
    "u*x*x,\\\n",
    "u*y**4,\\\n",
    "v*x**4,\\\n",
    "p*x*x,\\\n",
    "]\n",
    "NS = janet_poly_int()\n",
    "for q in Q:\n",
    "    NS.push(q)\n",
    "NS.build()\n",
    "for i in range(n):\n",
    "    print(\"size -\", NS.janet(i).size())\n",
    "    print(\"HilbertPoly -\", NS.janet(i).HilbertPoly())"
   ]
  },
  {
   "cell_type": "code",
   "execution_count": 25,
   "metadata": {},
   "outputs": [
    {
     "data": {
      "text/latex": [
       "$\\displaystyle \\frac{9 s^{2}}{2} + \\frac{17 s}{2} - 9$"
      ],
      "text/plain": [
       "9*s**2/2 + 17*s/2 - 9"
      ]
     },
     "execution_count": 25,
     "metadata": {},
     "output_type": "execute_result"
    }
   ],
   "source": [
    "HP = sum(eval(\"s**%d*%s\" % (d, NS.janet(i).HilbertPoly()[d])) for i in range(n) for d in range(n))\n",
    "HP"
   ]
  },
  {
   "cell_type": "code",
   "execution_count": null,
   "metadata": {},
   "outputs": [],
   "source": []
  }
 ],
 "metadata": {
  "kernelspec": {
   "display_name": "Python 3",
   "language": "python",
   "name": "python3"
  },
  "language_info": {
   "codemirror_mode": {
    "name": "ipython",
    "version": 3
   },
   "file_extension": ".py",
   "mimetype": "text/x-python",
   "name": "python",
   "nbconvert_exporter": "python",
   "pygments_lexer": "ipython3",
   "version": "3.8.10"
  }
 },
 "nbformat": 4,
 "nbformat_minor": 4
}
