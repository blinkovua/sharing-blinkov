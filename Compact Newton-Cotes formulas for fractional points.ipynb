{
 "cells": [
  {
   "cell_type": "code",
   "execution_count": 1,
   "metadata": {},
   "outputs": [],
   "source": [
    "from IPython.display import display\n",
    "\n",
    "from sympy import *"
   ]
  },
  {
   "cell_type": "code",
   "execution_count": 2,
   "metadata": {},
   "outputs": [],
   "source": [
    "# порядок разложения\n",
    "n = 12"
   ]
  },
  {
   "cell_type": "code",
   "execution_count": 3,
   "metadata": {},
   "outputs": [],
   "source": [
    "x, h, C = symbols('x, h, C', real=True)\n",
    "f, F = symbols('f, F', cls=Function)\n",
    "xs = symbols('x_i ' + ' '.join('x_i+%d' % i for i in range(1, n)))\n",
    "fs = symbols(' '.join('f^(%d)' % i for i in range(n)))\n",
    "ls = symbols(' '.join('ls%d' % i for i in range(n+1)), real=True)\n",
    "rs = symbols(' '.join('rs%d' % i for i in range(n+1)), real=True)\n",
    "Sf = sum(fs[i]*x**i/factorial(i) for i in range(n))\n",
    "# C - константа интегрирования\n",
    "SF = sum(fs[i]*x**(i+1)/factorial(i+1) for i in range(n)) + C\n",
    "\n",
    "def error(g):\n",
    "    g = expand(g)\n",
    "    for i in range(n):\n",
    "        if g.coeff(h, i):\n",
    "            return g.coeff(h, i)*h**i"
   ]
  },
  {
   "cell_type": "code",
   "execution_count": 4,
   "metadata": {},
   "outputs": [],
   "source": [
    "def NCFP(bound, lpts, rpts, order):\n",
    "    \"\"\"\n",
    "Компактные формулы Ньютона-Котеса для дробных точек\n",
    "bound - список из двух границ, могут быть дробными \n",
    "lpts  - список целых точек для значения первообразной F\n",
    "rpts  - список целых точек для значения функции f\n",
    "order - порядок разложения\n",
    "ls_i, rs_i - произвольные параметры\n",
    "    \"\"\"\n",
    "    assert bound[0] != bound[1]\n",
    "    assert bound[0] not in lpts\n",
    "    assert bound[1] not in lpts\n",
    "    eq = expand(SF.subs(x, bound[1]*h) - SF.subs(x, bound[0]*h) -\\\n",
    "                  sum(ls[i]*SF.subs(x, i*h) for i in lpts) -\\\n",
    "                h*sum(rs[i]*Sf.subs(x, i*h) for i in rpts))\n",
    "    eq0 = eq.coeff(C, 0)\n",
    "    eq1 = eq.coeff(C, 1)\n",
    "    eqs = [eq0.coeff(h, p) for p in range(order)]\n",
    "    eqs.append(eq1)\n",
    "    s = solve(eqs, [ls[i] for i in lpts] + [rs[i] for i in rpts])\n",
    "    if not s:\n",
    "        return \"there is no solution for NCFP(%s, %s, %s, %s)\" %\\\n",
    "                                        (bound, lpts, rpts, order)\n",
    "    else:\n",
    "        return Eq(Integral(f(x), (x, bound[0], bound[1])), \\\n",
    "                 (sum(ls[i]*F(xs[i]) for i in lpts).subs(s) if lpts else 0) + \\\n",
    "                h*sum(rs[i]*f(xs[i]) for i in rpts).subs(s) +\\\n",
    "                  error(eq.subs(s)))"
   ]
  },
  {
   "cell_type": "code",
   "execution_count": 5,
   "metadata": {},
   "outputs": [
    {
     "data": {
      "text/latex": [
       "$\\displaystyle \\int\\limits_{\\frac{1}{3}}^{\\frac{5}{3}} f{\\left(x \\right)}\\, dx = h^{5} \\left(- \\frac{f^{(4)} rs_{2}}{30} - \\frac{2 f^{(4)}}{729}\\right) + h \\left(rs_{2} f{\\left(x_{i} \\right)} + rs_{2} f{\\left(x_{i+2} \\right)} + \\left(4 rs_{2} + \\frac{20}{27}\\right) f{\\left(x_{i+1} \\right)}\\right) + \\left(\\frac{8}{27} - 3 rs_{2}\\right) F{\\left(x_{i+2} \\right)} + \\left(3 rs_{2} - \\frac{8}{27}\\right) F{\\left(x_{i} \\right)}$"
      ],
      "text/plain": [
       "Eq(Integral(f(x), (x, 1/3, 5/3)), h**5*(-f^(4)*rs2/30 - 2*f^(4)/729) + h*(rs2*f(x_i) + rs2*f(x_i+2) + (4*rs2 + 20/27)*f(x_i+1)) + (8/27 - 3*rs2)*F(x_i+2) + (3*rs2 - 8/27)*F(x_i))"
      ]
     },
     "execution_count": 5,
     "metadata": {},
     "output_type": "execute_result"
    }
   ],
   "source": [
    "# F - тут как первообразная, но всегда в целых точках\n",
    "NCFP([Rational(1, 3), Rational(5, 3)], [0, 1, 2], [0, 1, 2], 5)"
   ]
  },
  {
   "cell_type": "code",
   "execution_count": 6,
   "metadata": {},
   "outputs": [
    {
     "data": {
      "text/latex": [
       "$\\displaystyle \\int\\limits_{\\frac{1}{2}}^{\\frac{3}{2}} f{\\left(x \\right)}\\, dx = \\frac{f^{(6)} h^{7}}{35840} + h \\left(- \\frac{3 f{\\left(x_{i} \\right)}}{64} + \\frac{9 f{\\left(x_{i+1} \\right)}}{16} - \\frac{3 f{\\left(x_{i+2} \\right)}}{64}\\right) - \\frac{17 F{\\left(x_{i} \\right)}}{64} + \\frac{17 F{\\left(x_{i+2} \\right)}}{64}$"
      ],
      "text/plain": [
       "Eq(Integral(f(x), (x, 1/2, 3/2)), f^(6)*h**7/35840 + h*(-3*f(x_i)/64 + 9*f(x_i+1)/16 - 3*f(x_i+2)/64) - 17*F(x_i)/64 + 17*F(x_i+2)/64)"
      ]
     },
     "execution_count": 6,
     "metadata": {},
     "output_type": "execute_result"
    }
   ],
   "source": [
    "# может использоваться при посторении разностных схем\n",
    "# в точках 1/2\n",
    "NCFP([Rational(1, 2), Rational(3, 2)], [0, 1, 2], [0, 1, 2], 7)"
   ]
  },
  {
   "cell_type": "code",
   "execution_count": 7,
   "metadata": {},
   "outputs": [
    {
     "data": {
      "text/latex": [
       "$\\displaystyle \\int\\limits_{\\frac{1}{3}}^{\\frac{5}{3}} f{\\left(x \\right)}\\, dx = - \\frac{22 f^{(4)} h^{5}}{3645} + h \\left(\\frac{8 f{\\left(x_{i} \\right)}}{81} + \\frac{92 f{\\left(x_{i+1} \\right)}}{81} + \\frac{8 f{\\left(x_{i+2} \\right)}}{81}\\right)$"
      ],
      "text/plain": [
       "Eq(Integral(f(x), (x, 1/3, 5/3)), -22*f^(4)*h**5/3645 + h*(8*f(x_i)/81 + 92*f(x_i+1)/81 + 8*f(x_i+2)/81))"
      ]
     },
     "execution_count": 7,
     "metadata": {},
     "output_type": "execute_result"
    }
   ],
   "source": [
    "# может использоваться при посторении разностных схем\n",
    "# при интегрировании по контуру (поверхности) в точках -1/3 от границы\n",
    "NCFP([Rational(1, 3), Rational(5, 3)], [], [0, 1, 2], 5)"
   ]
  },
  {
   "cell_type": "markdown",
   "metadata": {},
   "source": [
    "https://en.wikipedia.org/wiki/Newton%E2%80%93Cotes_formulas\n",
    "## Closed Newton–Cotes Formulae"
   ]
  },
  {
   "cell_type": "markdown",
   "metadata": {},
   "source": [
    "### Trapezoid rule"
   ]
  },
  {
   "cell_type": "code",
   "execution_count": 8,
   "metadata": {},
   "outputs": [
    {
     "data": {
      "text/latex": [
       "$\\displaystyle \\int\\limits_{0}^{1} f{\\left(x \\right)}\\, dx = - \\frac{f^{(2)} h^{3}}{12} + h \\left(\\frac{f{\\left(x_{i} \\right)}}{2} + \\frac{f{\\left(x_{i+1} \\right)}}{2}\\right)$"
      ],
      "text/plain": [
       "Eq(Integral(f(x), (x, 0, 1)), -f^(2)*h**3/12 + h*(f(x_i)/2 + f(x_i+1)/2))"
      ]
     },
     "execution_count": 8,
     "metadata": {},
     "output_type": "execute_result"
    }
   ],
   "source": [
    "NCFP([0, 1], [], [0, 1], 3)"
   ]
  },
  {
   "cell_type": "markdown",
   "metadata": {},
   "source": [
    "### Simpson's rule"
   ]
  },
  {
   "cell_type": "code",
   "execution_count": 9,
   "metadata": {},
   "outputs": [
    {
     "data": {
      "text/latex": [
       "$\\displaystyle \\int\\limits_{0}^{2} f{\\left(x \\right)}\\, dx = - \\frac{f^{(4)} h^{5}}{90} + h \\left(\\frac{f{\\left(x_{i} \\right)}}{3} + \\frac{4 f{\\left(x_{i+1} \\right)}}{3} + \\frac{f{\\left(x_{i+2} \\right)}}{3}\\right)$"
      ],
      "text/plain": [
       "Eq(Integral(f(x), (x, 0, 2)), -f^(4)*h**5/90 + h*(f(x_i)/3 + 4*f(x_i+1)/3 + f(x_i+2)/3))"
      ]
     },
     "execution_count": 9,
     "metadata": {},
     "output_type": "execute_result"
    }
   ],
   "source": [
    "NCFP([0, 2], [], [0, 1, 2], 5)"
   ]
  },
  {
   "cell_type": "markdown",
   "metadata": {},
   "source": [
    "### Simpson's 3/8 rule"
   ]
  },
  {
   "cell_type": "code",
   "execution_count": 10,
   "metadata": {},
   "outputs": [
    {
     "data": {
      "text/latex": [
       "$\\displaystyle \\int\\limits_{0}^{3} f{\\left(x \\right)}\\, dx = - \\frac{3 f^{(4)} h^{5}}{80} + h \\left(\\frac{3 f{\\left(x_{i} \\right)}}{8} + \\frac{9 f{\\left(x_{i+1} \\right)}}{8} + \\frac{9 f{\\left(x_{i+2} \\right)}}{8} + \\frac{3 f{\\left(x_{i+3} \\right)}}{8}\\right)$"
      ],
      "text/plain": [
       "Eq(Integral(f(x), (x, 0, 3)), -3*f^(4)*h**5/80 + h*(3*f(x_i)/8 + 9*f(x_i+1)/8 + 9*f(x_i+2)/8 + 3*f(x_i+3)/8))"
      ]
     },
     "execution_count": 10,
     "metadata": {},
     "output_type": "execute_result"
    }
   ],
   "source": [
    "NCFP([0, 3], [], [0, 1, 2, 3], 5)"
   ]
  },
  {
   "cell_type": "markdown",
   "metadata": {},
   "source": [
    "### Boole's rule"
   ]
  },
  {
   "cell_type": "code",
   "execution_count": 11,
   "metadata": {},
   "outputs": [
    {
     "data": {
      "text/latex": [
       "$\\displaystyle \\int\\limits_{0}^{4} f{\\left(x \\right)}\\, dx = - \\frac{8 f^{(6)} h^{7}}{945} + h \\left(\\frac{14 f{\\left(x_{i} \\right)}}{45} + \\frac{64 f{\\left(x_{i+1} \\right)}}{45} + \\frac{8 f{\\left(x_{i+2} \\right)}}{15} + \\frac{64 f{\\left(x_{i+3} \\right)}}{45} + \\frac{14 f{\\left(x_{i+4} \\right)}}{45}\\right)$"
      ],
      "text/plain": [
       "Eq(Integral(f(x), (x, 0, 4)), -8*f^(6)*h**7/945 + h*(14*f(x_i)/45 + 64*f(x_i+1)/45 + 8*f(x_i+2)/15 + 64*f(x_i+3)/45 + 14*f(x_i+4)/45))"
      ]
     },
     "execution_count": 11,
     "metadata": {},
     "output_type": "execute_result"
    }
   ],
   "source": [
    "NCFP([0, 4], [], [0, 1, 2, 3, 4], 7)"
   ]
  },
  {
   "cell_type": "markdown",
   "metadata": {},
   "source": [
    "## Open Newton–Cotes Formulae"
   ]
  },
  {
   "cell_type": "markdown",
   "metadata": {},
   "source": [
    "### Rectangle rule"
   ]
  },
  {
   "cell_type": "code",
   "execution_count": 12,
   "metadata": {},
   "outputs": [
    {
     "data": {
      "text/latex": [
       "$\\displaystyle \\int\\limits_{0}^{2} f{\\left(x \\right)}\\, dx = \\frac{f^{(2)} h^{3}}{3} + 2 h f{\\left(x_{i+1} \\right)}$"
      ],
      "text/plain": [
       "Eq(Integral(f(x), (x, 0, 2)), f^(2)*h**3/3 + 2*h*f(x_i+1))"
      ]
     },
     "execution_count": 12,
     "metadata": {},
     "output_type": "execute_result"
    }
   ],
   "source": [
    "NCFP([0, 2], [], [1], 3)"
   ]
  },
  {
   "cell_type": "markdown",
   "metadata": {},
   "source": [
    "### Trapezoid method"
   ]
  },
  {
   "cell_type": "code",
   "execution_count": 13,
   "metadata": {},
   "outputs": [
    {
     "data": {
      "text/latex": [
       "$\\displaystyle \\int\\limits_{0}^{3} f{\\left(x \\right)}\\, dx = \\frac{3 f^{(2)} h^{3}}{4} + h \\left(\\frac{3 f{\\left(x_{i+1} \\right)}}{2} + \\frac{3 f{\\left(x_{i+2} \\right)}}{2}\\right)$"
      ],
      "text/plain": [
       "Eq(Integral(f(x), (x, 0, 3)), 3*f^(2)*h**3/4 + h*(3*f(x_i+1)/2 + 3*f(x_i+2)/2))"
      ]
     },
     "execution_count": 13,
     "metadata": {},
     "output_type": "execute_result"
    }
   ],
   "source": [
    "NCFP([0, 3], [], [1, 2], 3)"
   ]
  },
  {
   "cell_type": "markdown",
   "metadata": {},
   "source": [
    "### Milne's rule"
   ]
  },
  {
   "cell_type": "code",
   "execution_count": 14,
   "metadata": {},
   "outputs": [
    {
     "data": {
      "text/latex": [
       "$\\displaystyle \\int\\limits_{0}^{4} f{\\left(x \\right)}\\, dx = \\frac{14 f^{(4)} h^{5}}{45} + h \\left(\\frac{8 f{\\left(x_{i+1} \\right)}}{3} - \\frac{4 f{\\left(x_{i+2} \\right)}}{3} + \\frac{8 f{\\left(x_{i+3} \\right)}}{3}\\right)$"
      ],
      "text/plain": [
       "Eq(Integral(f(x), (x, 0, 4)), 14*f^(4)*h**5/45 + h*(8*f(x_i+1)/3 - 4*f(x_i+2)/3 + 8*f(x_i+3)/3))"
      ]
     },
     "execution_count": 14,
     "metadata": {},
     "output_type": "execute_result"
    }
   ],
   "source": [
    "NCFP([0, 4], [], [1, 2, 3], 5)"
   ]
  },
  {
   "cell_type": "markdown",
   "metadata": {},
   "source": [
    "### No name"
   ]
  },
  {
   "cell_type": "code",
   "execution_count": 15,
   "metadata": {},
   "outputs": [
    {
     "data": {
      "text/latex": [
       "$\\displaystyle \\int\\limits_{0}^{5} f{\\left(x \\right)}\\, dx = \\frac{95 f^{(4)} h^{5}}{144} + h \\left(\\frac{55 f{\\left(x_{i+1} \\right)}}{24} + \\frac{5 f{\\left(x_{i+2} \\right)}}{24} + \\frac{5 f{\\left(x_{i+3} \\right)}}{24} + \\frac{55 f{\\left(x_{i+4} \\right)}}{24}\\right)$"
      ],
      "text/plain": [
       "Eq(Integral(f(x), (x, 0, 5)), 95*f^(4)*h**5/144 + h*(55*f(x_i+1)/24 + 5*f(x_i+2)/24 + 5*f(x_i+3)/24 + 55*f(x_i+4)/24))"
      ]
     },
     "execution_count": 15,
     "metadata": {},
     "output_type": "execute_result"
    }
   ],
   "source": [
    "NCFP([0, 5], [], [1, 2, 3, 4], 5)"
   ]
  },
  {
   "cell_type": "markdown",
   "metadata": {},
   "source": [
    "## Compact Closed Newton–Cotes Formulae"
   ]
  },
  {
   "cell_type": "markdown",
   "metadata": {},
   "source": [
    "### Simpson's 3/8 rule"
   ]
  },
  {
   "cell_type": "code",
   "execution_count": 16,
   "metadata": {},
   "outputs": [
    {
     "data": {
      "text/latex": [
       "$\\displaystyle \\int\\limits_{0}^{3} f{\\left(x \\right)}\\, dx = h^{5} \\left(- \\frac{11 f^{(4)} rs_{3}}{30} + \\frac{f^{(4)}}{10}\\right) + h \\left(rs_{3} f{\\left(x_{i} \\right)} + rs_{3} f{\\left(x_{i+3} \\right)} + \\left(6 - 13 rs_{3}\\right) f{\\left(x_{i+1} \\right)} + \\left(6 - 13 rs_{3}\\right) f{\\left(x_{i+2} \\right)}\\right) + \\left(9 - 24 rs_{3}\\right) F{\\left(x_{i+1} \\right)} + \\left(24 rs_{3} - 9\\right) F{\\left(x_{i+2} \\right)}$"
      ],
      "text/plain": [
       "Eq(Integral(f(x), (x, 0, 3)), h**5*(-11*f^(4)*rs3/30 + f^(4)/10) + h*(rs3*f(x_i) + rs3*f(x_i+3) + (6 - 13*rs3)*f(x_i+1) + (6 - 13*rs3)*f(x_i+2)) + (9 - 24*rs3)*F(x_i+1) + (24*rs3 - 9)*F(x_i+2))"
      ]
     },
     "execution_count": 16,
     "metadata": {},
     "output_type": "execute_result"
    }
   ],
   "source": [
    "NCFP([0, 3], [1, 2], [0, 1, 2, 3], 5)"
   ]
  },
  {
   "cell_type": "code",
   "execution_count": 17,
   "metadata": {},
   "outputs": [
    {
     "data": {
      "text/latex": [
       "$\\displaystyle \\int\\limits_{0}^{3} f{\\left(x \\right)}\\, dx = - \\frac{3 f^{(4)} h^{5}}{80} + h \\left(\\frac{3 f{\\left(x_{i} \\right)}}{8} + \\frac{9 f{\\left(x_{i+1} \\right)}}{8} + \\frac{9 f{\\left(x_{i+2} \\right)}}{8} + \\frac{3 f{\\left(x_{i+3} \\right)}}{8}\\right)$"
      ],
      "text/plain": [
       "Eq(Integral(f(x), (x, 0, 3)), -3*f^(4)*h**5/80 + h*(3*f(x_i)/8 + 9*f(x_i+1)/8 + 9*f(x_i+2)/8 + 3*f(x_i+3)/8))"
      ]
     },
     "execution_count": 17,
     "metadata": {},
     "output_type": "execute_result"
    }
   ],
   "source": [
    "NCFP([0, 3], [1, 2], [0, 1, 2, 3], 5).subs(rs[3], Rational(9, 24))"
   ]
  },
  {
   "cell_type": "code",
   "execution_count": 18,
   "metadata": {},
   "outputs": [
    {
     "data": {
      "text/latex": [
       "$\\displaystyle \\int\\limits_{0}^{3} f{\\left(x \\right)}\\, dx = - \\frac{3 f^{(6)} h^{7}}{1540} + h \\left(\\frac{3 f{\\left(x_{i} \\right)}}{11} + \\frac{27 f{\\left(x_{i+1} \\right)}}{11} + \\frac{27 f{\\left(x_{i+2} \\right)}}{11} + \\frac{3 f{\\left(x_{i+3} \\right)}}{11}\\right) + \\frac{27 F{\\left(x_{i+1} \\right)}}{11} - \\frac{27 F{\\left(x_{i+2} \\right)}}{11}$"
      ],
      "text/plain": [
       "Eq(Integral(f(x), (x, 0, 3)), -3*f^(6)*h**7/1540 + h*(3*f(x_i)/11 + 27*f(x_i+1)/11 + 27*f(x_i+2)/11 + 3*f(x_i+3)/11) + 27*F(x_i+1)/11 - 27*F(x_i+2)/11)"
      ]
     },
     "execution_count": 18,
     "metadata": {},
     "output_type": "execute_result"
    }
   ],
   "source": [
    "NCFP([0, 3], [1, 2], [0, 1, 2, 3], 7)"
   ]
  },
  {
   "cell_type": "markdown",
   "metadata": {},
   "source": [
    "### Boole's rule"
   ]
  },
  {
   "cell_type": "code",
   "execution_count": 19,
   "metadata": {},
   "outputs": [
    {
     "data": {
      "text/latex": [
       "$\\displaystyle \\int\\limits_{0}^{4} f{\\left(x \\right)}\\, dx = h^{7} \\left(- \\frac{5 f^{(6)} rs_{4}}{42} + \\frac{f^{(6)}}{35}\\right) + h \\left(rs_{4} f{\\left(x_{i} \\right)} + rs_{4} f{\\left(x_{i+4} \\right)} + \\left(12 - 34 rs_{4}\\right) f{\\left(x_{i+1} \\right)} + \\left(12 - 34 rs_{4}\\right) f{\\left(x_{i+3} \\right)} + \\left(36 - 114 rs_{4}\\right) f{\\left(x_{i+2} \\right)}\\right) + \\left(28 - 90 rs_{4}\\right) F{\\left(x_{i+1} \\right)} + \\left(90 rs_{4} - 28\\right) F{\\left(x_{i+3} \\right)}$"
      ],
      "text/plain": [
       "Eq(Integral(f(x), (x, 0, 4)), h**7*(-5*f^(6)*rs4/42 + f^(6)/35) + h*(rs4*f(x_i) + rs4*f(x_i+4) + (12 - 34*rs4)*f(x_i+1) + (12 - 34*rs4)*f(x_i+3) + (36 - 114*rs4)*f(x_i+2)) + (28 - 90*rs4)*F(x_i+1) + (90*rs4 - 28)*F(x_i+3))"
      ]
     },
     "execution_count": 19,
     "metadata": {},
     "output_type": "execute_result"
    }
   ],
   "source": [
    "NCFP([0, 4], [1, 2, 3], [0, 1, 2, 3, 4], 7)"
   ]
  },
  {
   "cell_type": "code",
   "execution_count": 20,
   "metadata": {},
   "outputs": [
    {
     "data": {
      "text/latex": [
       "$\\displaystyle \\int\\limits_{0}^{4} f{\\left(x \\right)}\\, dx = - \\frac{8 f^{(6)} h^{7}}{945} + h \\left(\\frac{14 f{\\left(x_{i} \\right)}}{45} + \\frac{64 f{\\left(x_{i+1} \\right)}}{45} + \\frac{8 f{\\left(x_{i+2} \\right)}}{15} + \\frac{64 f{\\left(x_{i+3} \\right)}}{45} + \\frac{14 f{\\left(x_{i+4} \\right)}}{45}\\right)$"
      ],
      "text/plain": [
       "Eq(Integral(f(x), (x, 0, 4)), -8*f^(6)*h**7/945 + h*(14*f(x_i)/45 + 64*f(x_i+1)/45 + 8*f(x_i+2)/15 + 64*f(x_i+3)/45 + 14*f(x_i+4)/45))"
      ]
     },
     "execution_count": 20,
     "metadata": {},
     "output_type": "execute_result"
    }
   ],
   "source": [
    "NCFP([0, 4], [1, 2, 3], [0, 1, 2, 3, 4], 7).subs(rs[4], Rational(28, 90))"
   ]
  },
  {
   "cell_type": "code",
   "execution_count": 21,
   "metadata": {},
   "outputs": [
    {
     "data": {
      "text/latex": [
       "$\\displaystyle \\int\\limits_{0}^{4} f{\\left(x \\right)}\\, dx = - \\frac{f^{(8)} h^{9}}{2625} + h \\left(\\frac{6 f{\\left(x_{i} \\right)}}{25} + \\frac{96 f{\\left(x_{i+1} \\right)}}{25} + \\frac{216 f{\\left(x_{i+2} \\right)}}{25} + \\frac{96 f{\\left(x_{i+3} \\right)}}{25} + \\frac{6 f{\\left(x_{i+4} \\right)}}{25}\\right) + \\frac{32 F{\\left(x_{i+1} \\right)}}{5} - \\frac{32 F{\\left(x_{i+3} \\right)}}{5}$"
      ],
      "text/plain": [
       "Eq(Integral(f(x), (x, 0, 4)), -f^(8)*h**9/2625 + h*(6*f(x_i)/25 + 96*f(x_i+1)/25 + 216*f(x_i+2)/25 + 96*f(x_i+3)/25 + 6*f(x_i+4)/25) + 32*F(x_i+1)/5 - 32*F(x_i+3)/5)"
      ]
     },
     "execution_count": 21,
     "metadata": {},
     "output_type": "execute_result"
    }
   ],
   "source": [
    "NCFP([0, 4], [1, 2, 3], [0, 1, 2, 3, 4], 9)"
   ]
  },
  {
   "cell_type": "markdown",
   "metadata": {},
   "source": [
    "## Compact Open Newton–Cotes Formulae"
   ]
  },
  {
   "cell_type": "markdown",
   "metadata": {},
   "source": [
    "### Trapezoid method"
   ]
  },
  {
   "cell_type": "code",
   "execution_count": 22,
   "metadata": {},
   "outputs": [
    {
     "data": {
      "text/latex": [
       "$\\displaystyle \\int\\limits_{0}^{3} f{\\left(x \\right)}\\, dx = h^{3} \\left(- \\frac{f^{(2)} rs_{2}}{6} + f^{(2)}\\right) + h \\left(rs_{2} f{\\left(x_{i+1} \\right)} + rs_{2} f{\\left(x_{i+2} \\right)}\\right) + \\left(3 - 2 rs_{2}\\right) F{\\left(x_{i+2} \\right)} + \\left(2 rs_{2} - 3\\right) F{\\left(x_{i+1} \\right)}$"
      ],
      "text/plain": [
       "Eq(Integral(f(x), (x, 0, 3)), h**3*(-f^(2)*rs2/6 + f^(2)) + h*(rs2*f(x_i+1) + rs2*f(x_i+2)) + (3 - 2*rs2)*F(x_i+2) + (2*rs2 - 3)*F(x_i+1))"
      ]
     },
     "execution_count": 22,
     "metadata": {},
     "output_type": "execute_result"
    }
   ],
   "source": [
    "NCFP([0, 3], [1, 2], [1, 2], 3)"
   ]
  },
  {
   "cell_type": "code",
   "execution_count": 23,
   "metadata": {},
   "outputs": [
    {
     "data": {
      "text/latex": [
       "$\\displaystyle \\int\\limits_{0}^{3} f{\\left(x \\right)}\\, dx = \\frac{3 f^{(2)} h^{3}}{4} + h \\left(\\frac{3 f{\\left(x_{i+1} \\right)}}{2} + \\frac{3 f{\\left(x_{i+2} \\right)}}{2}\\right)$"
      ],
      "text/plain": [
       "Eq(Integral(f(x), (x, 0, 3)), 3*f^(2)*h**3/4 + h*(3*f(x_i+1)/2 + 3*f(x_i+2)/2))"
      ]
     },
     "execution_count": 23,
     "metadata": {},
     "output_type": "execute_result"
    }
   ],
   "source": [
    "NCFP([0, 3], [1, 2], [1, 2], 3).subs(rs[2], Rational(3, 2))"
   ]
  },
  {
   "cell_type": "code",
   "execution_count": 24,
   "metadata": {},
   "outputs": [
    {
     "data": {
      "text/latex": [
       "$\\displaystyle \\int\\limits_{0}^{3} f{\\left(x \\right)}\\, dx = \\frac{f^{(4)} h^{5}}{10} + h \\left(6 f{\\left(x_{i+1} \\right)} + 6 f{\\left(x_{i+2} \\right)}\\right) + 9 F{\\left(x_{i+1} \\right)} - 9 F{\\left(x_{i+2} \\right)}$"
      ],
      "text/plain": [
       "Eq(Integral(f(x), (x, 0, 3)), f^(4)*h**5/10 + h*(6*f(x_i+1) + 6*f(x_i+2)) + 9*F(x_i+1) - 9*F(x_i+2))"
      ]
     },
     "execution_count": 24,
     "metadata": {},
     "output_type": "execute_result"
    }
   ],
   "source": [
    "NCFP([0, 3], [1, 2], [1, 2], 5)"
   ]
  },
  {
   "cell_type": "markdown",
   "metadata": {},
   "source": [
    "### Milne's rule"
   ]
  },
  {
   "cell_type": "code",
   "execution_count": 25,
   "metadata": {},
   "outputs": [
    {
     "data": {
      "text/latex": [
       "$\\displaystyle \\int\\limits_{0}^{4} f{\\left(x \\right)}\\, dx = h^{5} \\left(- \\frac{f^{(4)} rs_{3}}{30} + \\frac{2 f^{(4)}}{5}\\right) + h \\left(rs_{3} f{\\left(x_{i+1} \\right)} + rs_{3} f{\\left(x_{i+3} \\right)} + \\left(4 rs_{3} - 12\\right) f{\\left(x_{i+2} \\right)}\\right) + \\left(8 - 3 rs_{3}\\right) F{\\left(x_{i+3} \\right)} + \\left(3 rs_{3} - 8\\right) F{\\left(x_{i+1} \\right)}$"
      ],
      "text/plain": [
       "Eq(Integral(f(x), (x, 0, 4)), h**5*(-f^(4)*rs3/30 + 2*f^(4)/5) + h*(rs3*f(x_i+1) + rs3*f(x_i+3) + (4*rs3 - 12)*f(x_i+2)) + (8 - 3*rs3)*F(x_i+3) + (3*rs3 - 8)*F(x_i+1))"
      ]
     },
     "execution_count": 25,
     "metadata": {},
     "output_type": "execute_result"
    }
   ],
   "source": [
    "NCFP([0, 4], [1, 2, 3], [1, 2, 3], 5)"
   ]
  },
  {
   "cell_type": "code",
   "execution_count": 26,
   "metadata": {},
   "outputs": [
    {
     "data": {
      "text/latex": [
       "$\\displaystyle \\int\\limits_{0}^{4} f{\\left(x \\right)}\\, dx = \\frac{14 f^{(4)} h^{5}}{45} + h \\left(\\frac{8 f{\\left(x_{i+1} \\right)}}{3} - \\frac{4 f{\\left(x_{i+2} \\right)}}{3} + \\frac{8 f{\\left(x_{i+3} \\right)}}{3}\\right)$"
      ],
      "text/plain": [
       "Eq(Integral(f(x), (x, 0, 4)), 14*f^(4)*h**5/45 + h*(8*f(x_i+1)/3 - 4*f(x_i+2)/3 + 8*f(x_i+3)/3))"
      ]
     },
     "execution_count": 26,
     "metadata": {},
     "output_type": "execute_result"
    }
   ],
   "source": [
    "NCFP([0, 4], [1, 2, 3], [1, 2, 3], 5).subs(rs[3], Rational(8, 3))"
   ]
  },
  {
   "cell_type": "code",
   "execution_count": 27,
   "metadata": {},
   "outputs": [
    {
     "data": {
      "text/latex": [
       "$\\displaystyle \\int\\limits_{0}^{4} f{\\left(x \\right)}\\, dx = \\frac{f^{(6)} h^{7}}{35} + h \\left(12 f{\\left(x_{i+1} \\right)} + 36 f{\\left(x_{i+2} \\right)} + 12 f{\\left(x_{i+3} \\right)}\\right) + 28 F{\\left(x_{i+1} \\right)} - 28 F{\\left(x_{i+3} \\right)}$"
      ],
      "text/plain": [
       "Eq(Integral(f(x), (x, 0, 4)), f^(6)*h**7/35 + h*(12*f(x_i+1) + 36*f(x_i+2) + 12*f(x_i+3)) + 28*F(x_i+1) - 28*F(x_i+3))"
      ]
     },
     "execution_count": 27,
     "metadata": {},
     "output_type": "execute_result"
    }
   ],
   "source": [
    "NCFP([0, 4], [1, 2, 3], [1, 2, 3], 7)"
   ]
  },
  {
   "cell_type": "markdown",
   "metadata": {},
   "source": [
    "### No name"
   ]
  },
  {
   "cell_type": "code",
   "execution_count": 28,
   "metadata": {},
   "outputs": [
    {
     "data": {
      "text/latex": [
       "$\\displaystyle \\int\\limits_{0}^{5} f{\\left(x \\right)}\\, dx = h^{5} \\left(- \\frac{f^{(4)} rs_{2}}{60} + \\frac{f^{(4)} rs_{3}}{30} - \\frac{3 f^{(4)} rs_{4}}{20} + f^{(4)}\\right) + h \\left(rs_{2} f{\\left(x_{i+2} \\right)} + rs_{3} f{\\left(x_{i+3} \\right)} + rs_{4} f{\\left(x_{i+4} \\right)} + \\left(\\frac{rs_{2}}{3} - \\frac{rs_{3}}{3} + rs_{4}\\right) f{\\left(x_{i+1} \\right)}\\right) + \\left(- \\frac{rs_{2}}{2} - rs_{3} + \\frac{9 rs_{4}}{2} - 10\\right) F{\\left(x_{i+3} \\right)} + \\left(- \\frac{rs_{2}}{2} + 2 rs_{3} - \\frac{9 rs_{4}}{2} + 10\\right) F{\\left(x_{i+2} \\right)} + \\left(\\frac{rs_{2}}{18} - \\frac{2 rs_{3}}{9} - \\frac{13 rs_{4}}{6} + 5\\right) F{\\left(x_{i+4} \\right)} + \\left(\\frac{17 rs_{2}}{18} - \\frac{7 rs_{3}}{9} + \\frac{13 rs_{4}}{6} - 5\\right) F{\\left(x_{i+1} \\right)}$"
      ],
      "text/plain": [
       "Eq(Integral(f(x), (x, 0, 5)), h**5*(-f^(4)*rs2/60 + f^(4)*rs3/30 - 3*f^(4)*rs4/20 + f^(4)) + h*(rs2*f(x_i+2) + rs3*f(x_i+3) + rs4*f(x_i+4) + (rs2/3 - rs3/3 + rs4)*f(x_i+1)) + (-rs2/2 - rs3 + 9*rs4/2 - 10)*F(x_i+3) + (-rs2/2 + 2*rs3 - 9*rs4/2 + 10)*F(x_i+2) + (rs2/18 - 2*rs3/9 - 13*rs4/6 + 5)*F(x_i+4) + (17*rs2/18 - 7*rs3/9 + 13*rs4/6 - 5)*F(x_i+1))"
      ]
     },
     "execution_count": 28,
     "metadata": {},
     "output_type": "execute_result"
    }
   ],
   "source": [
    "NCFP([0, 5], [1, 2, 3, 4], [1, 2, 3, 4], 5)"
   ]
  },
  {
   "cell_type": "code",
   "execution_count": 29,
   "metadata": {},
   "outputs": [
    {
     "data": {
      "text/latex": [
       "$\\displaystyle \\int\\limits_{0}^{5} f{\\left(x \\right)}\\, dx = h^{5} \\left(- \\frac{f^{(4)} rs_{4}}{10} + \\frac{8 f^{(4)}}{9}\\right) + h \\left(rs_{4} f{\\left(x_{i+1} \\right)} + rs_{4} f{\\left(x_{i+4} \\right)} + \\left(3 rs_{4} - \\frac{20}{3}\\right) f{\\left(x_{i+2} \\right)} + \\left(3 rs_{4} - \\frac{20}{3}\\right) f{\\left(x_{i+3} \\right)}\\right) + \\left(\\frac{55}{9} - \\frac{8 rs_{4}}{3}\\right) F{\\left(x_{i+4} \\right)} + \\left(\\frac{8 rs_{4}}{3} - \\frac{55}{9}\\right) F{\\left(x_{i+1} \\right)}$"
      ],
      "text/plain": [
       "Eq(Integral(f(x), (x, 0, 5)), h**5*(-f^(4)*rs4/10 + 8*f^(4)/9) + h*(rs4*f(x_i+1) + rs4*f(x_i+4) + (3*rs4 - 20/3)*f(x_i+2) + (3*rs4 - 20/3)*f(x_i+3)) + (55/9 - 8*rs4/3)*F(x_i+4) + (8*rs4/3 - 55/9)*F(x_i+1))"
      ]
     },
     "execution_count": 29,
     "metadata": {},
     "output_type": "execute_result"
    }
   ],
   "source": [
    "NCFP([0, 5], [1, 4], [1, 2, 3, 4], 5)"
   ]
  },
  {
   "cell_type": "code",
   "execution_count": 30,
   "metadata": {},
   "outputs": [
    {
     "data": {
      "text/latex": [
       "$\\displaystyle \\int\\limits_{0}^{5} f{\\left(x \\right)}\\, dx = \\frac{95 f^{(4)} h^{5}}{144} + h \\left(\\frac{55 f{\\left(x_{i+1} \\right)}}{24} + \\frac{5 f{\\left(x_{i+2} \\right)}}{24} + \\frac{5 f{\\left(x_{i+3} \\right)}}{24} + \\frac{55 f{\\left(x_{i+4} \\right)}}{24}\\right)$"
      ],
      "text/plain": [
       "Eq(Integral(f(x), (x, 0, 5)), 95*f^(4)*h**5/144 + h*(55*f(x_i+1)/24 + 5*f(x_i+2)/24 + 5*f(x_i+3)/24 + 55*f(x_i+4)/24))"
      ]
     },
     "execution_count": 30,
     "metadata": {},
     "output_type": "execute_result"
    }
   ],
   "source": [
    "NCFP([0, 5], [1, 4], [1, 2, 3, 4], 5).subs(rs[4], Rational(3*55, 8*9))"
   ]
  },
  {
   "cell_type": "code",
   "execution_count": 31,
   "metadata": {},
   "outputs": [
    {
     "data": {
      "text/latex": [
       "$\\displaystyle \\int\\limits_{0}^{5} f{\\left(x \\right)}\\, dx = h^{5} \\left(- \\frac{11 f^{(4)} rs_{4}}{30} + \\frac{3 f^{(4)}}{2}\\right) + h \\left(rs_{4} f{\\left(x_{i+1} \\right)} + rs_{4} f{\\left(x_{i+4} \\right)} + \\left(30 - 13 rs_{4}\\right) f{\\left(x_{i+2} \\right)} + \\left(30 - 13 rs_{4}\\right) f{\\left(x_{i+3} \\right)}\\right) + \\left(55 - 24 rs_{4}\\right) F{\\left(x_{i+2} \\right)} + \\left(24 rs_{4} - 55\\right) F{\\left(x_{i+3} \\right)}$"
      ],
      "text/plain": [
       "Eq(Integral(f(x), (x, 0, 5)), h**5*(-11*f^(4)*rs4/30 + 3*f^(4)/2) + h*(rs4*f(x_i+1) + rs4*f(x_i+4) + (30 - 13*rs4)*f(x_i+2) + (30 - 13*rs4)*f(x_i+3)) + (55 - 24*rs4)*F(x_i+2) + (24*rs4 - 55)*F(x_i+3))"
      ]
     },
     "execution_count": 31,
     "metadata": {},
     "output_type": "execute_result"
    }
   ],
   "source": [
    "NCFP([0, 5], [2, 3], [1, 2, 3, 4], 5)"
   ]
  },
  {
   "cell_type": "code",
   "execution_count": 32,
   "metadata": {},
   "outputs": [
    {
     "data": {
      "text/latex": [
       "$\\displaystyle \\int\\limits_{0}^{5} f{\\left(x \\right)}\\, dx = \\frac{95 f^{(4)} h^{5}}{144} + h \\left(\\frac{55 f{\\left(x_{i+1} \\right)}}{24} + \\frac{5 f{\\left(x_{i+2} \\right)}}{24} + \\frac{5 f{\\left(x_{i+3} \\right)}}{24} + \\frac{55 f{\\left(x_{i+4} \\right)}}{24}\\right)$"
      ],
      "text/plain": [
       "Eq(Integral(f(x), (x, 0, 5)), 95*f^(4)*h**5/144 + h*(55*f(x_i+1)/24 + 5*f(x_i+2)/24 + 5*f(x_i+3)/24 + 55*f(x_i+4)/24))"
      ]
     },
     "execution_count": 32,
     "metadata": {},
     "output_type": "execute_result"
    }
   ],
   "source": [
    "NCFP([0, 5], [2, 3], [1, 2, 3, 4], 5).subs(rs[4], Rational(55, 24))"
   ]
  },
  {
   "cell_type": "code",
   "execution_count": 33,
   "metadata": {},
   "outputs": [
    {
     "data": {
      "text/latex": [
       "$\\displaystyle \\int\\limits_{0}^{5} f{\\left(x \\right)}\\, dx = \\frac{f^{(8)} h^{9}}{126} + h \\left(20 f{\\left(x_{i+1} \\right)} + 120 f{\\left(x_{i+2} \\right)} + 120 f{\\left(x_{i+3} \\right)} + 20 f{\\left(x_{i+4} \\right)}\\right) + \\frac{175 F{\\left(x_{i+1} \\right)}}{3} + 100 F{\\left(x_{i+2} \\right)} - 100 F{\\left(x_{i+3} \\right)} - \\frac{175 F{\\left(x_{i+4} \\right)}}{3}$"
      ],
      "text/plain": [
       "Eq(Integral(f(x), (x, 0, 5)), f^(8)*h**9/126 + h*(20*f(x_i+1) + 120*f(x_i+2) + 120*f(x_i+3) + 20*f(x_i+4)) + 175*F(x_i+1)/3 + 100*F(x_i+2) - 100*F(x_i+3) - 175*F(x_i+4)/3)"
      ]
     },
     "execution_count": 33,
     "metadata": {},
     "output_type": "execute_result"
    }
   ],
   "source": [
    "NCFP([0, 5], [1, 2, 3, 4], [1, 2, 3, 4], 9)"
   ]
  },
  {
   "cell_type": "code",
   "execution_count": null,
   "metadata": {},
   "outputs": [],
   "source": []
  }
 ],
 "metadata": {
  "kernelspec": {
   "display_name": "Python 3",
   "language": "python",
   "name": "python3"
  },
  "language_info": {
   "codemirror_mode": {
    "name": "ipython",
    "version": 3
   },
   "file_extension": ".py",
   "mimetype": "text/x-python",
   "name": "python",
   "nbconvert_exporter": "python",
   "pygments_lexer": "ipython3",
   "version": "3.8.10"
  },
  "widgets": {
   "application/vnd.jupyter.widget-state+json": {
    "state": {},
    "version_major": 1,
    "version_minor": 0
   }
  }
 },
 "nbformat": 4,
 "nbformat_minor": 4
}
