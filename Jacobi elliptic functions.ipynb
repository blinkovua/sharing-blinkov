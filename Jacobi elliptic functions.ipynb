{
 "cells": [
  {
   "cell_type": "code",
   "execution_count": 1,
   "metadata": {},
   "outputs": [],
   "source": [
    "from itertools import combinations_with_replacement\n",
    "from functools import reduce\n",
    "from IPython.display import display\n",
    "\n",
    "from sympy import *\n",
    "init_printing()"
   ]
  },
  {
   "cell_type": "code",
   "execution_count": 2,
   "metadata": {},
   "outputs": [],
   "source": [
    "t, k = symbols('t, k', real=True)\n",
    "p, q, r = (u(t) for u in symbols('p, q, r', cls=Function))"
   ]
  },
  {
   "cell_type": "code",
   "execution_count": 3,
   "metadata": {},
   "outputs": [
    {
     "data": {
      "image/png": "[encoded data removed]",
      "text/latex": [
       "$$\\left \\{ \\frac{d}{d t} p{\\left (t \\right )} : - q{\\left (t \\right )} r{\\left (t \\right )}, \\quad \\frac{d}{d t} q{\\left (t \\right )} : p{\\left (t \\right )} r{\\left (t \\right )}, \\quad \\frac{d}{d t} r{\\left (t \\right )} : - k^{2} p{\\left (t \\right )} q{\\left (t \\right )}\\right \\}$$"
      ],
      "text/plain": [
       "⎧d                     d                    d           2          ⎫\n",
       "⎨──(p(t)): -q(t)⋅r(t), ──(q(t)): p(t)⋅r(t), ──(r(t)): -k ⋅p(t)⋅q(t)⎬\n",
       "⎩dt                    dt                   dt                     ⎭"
      ]
     },
     "execution_count": 3,
     "metadata": {},
     "output_type": "execute_result"
    }
   ],
   "source": [
    "eqs = {\\\n",
    "p.diff(t): -q*r,\\\n",
    "q.diff(t): p*r,\\\n",
    "r.diff(t): -k**2*p*q,\\\n",
    "}\n",
    "eqs"
   ]
  },
  {
   "cell_type": "code",
   "execution_count": 4,
   "metadata": {},
   "outputs": [],
   "source": [
    "def undetermined_coeff(f, d):\n",
    "    global inv, Cs\n",
    "    inv, Cs = 0, []\n",
    "    for i in combinations_with_replacement(range(1 + len(f)), d):\n",
    "        if sum(i) > 0:\n",
    "            s = \"c\" + \"\".join(str(p) for p in i if p)\n",
    "            Cs.append(symbols(s, real=True))\n",
    "            globals()[s] = Cs[-1]\n",
    "            inv += Cs[-1]*reduce(lambda x, y: x*y,\\\n",
    "                                 (f[p-1] if p else 1 for p in i))\n",
    "def remove_factor(r):\n",
    "    lst = []\n",
    "    for i in r:\n",
    "        if i.func != Mul:\n",
    "            lst.append(i)\n",
    "        else:\n",
    "            lst.append(i.func(*(1 if a in (k,) or \\\n",
    "                (a.func == Pow and a.args[0] in (k,))\\\n",
    "                else a for a in i.args)))\n",
    "    return lst\n",
    "\n",
    "def to_eqs(inv):\n",
    "    lst = []\n",
    "    def to_eqs1(r, f):\n",
    "        if r:\n",
    "            if not f:\n",
    "                lst.append(r.factor())\n",
    "            else:\n",
    "                deg = r.as_poly(f[0]).degree()\n",
    "                for i in range(deg+1):\n",
    "                    to_eqs1(r.coeff(f[0], i), f[1:])\n",
    "    to_eqs1(inv, pqr)\n",
    "    return remove_factor(lst)\n",
    "\n",
    "def to_sol(sol):\n",
    "    r = []\n",
    "    for i in Cs:\n",
    "        if sol.coeff(i):\n",
    "            r.append(sol.coeff(i).factor())    \n",
    "    return remove_factor(r)"
   ]
  },
  {
   "cell_type": "markdown",
   "metadata": {},
   "source": [
    "# degree == 2"
   ]
  },
  {
   "cell_type": "code",
   "execution_count": 5,
   "metadata": {},
   "outputs": [
    {
     "data": {
      "image/png": "[encoded data removed]",
      "text/latex": [
       "$$c_{1} p{\\left (t \\right )} + c_{11} p^{2}{\\left (t \\right )} + c_{12} p{\\left (t \\right )} q{\\left (t \\right )} + c_{13} p{\\left (t \\right )} r{\\left (t \\right )} + c_{2} q{\\left (t \\right )} + c_{22} q^{2}{\\left (t \\right )} + c_{23} q{\\left (t \\right )} r{\\left (t \\right )} + c_{3} r{\\left (t \\right )} + c_{33} r^{2}{\\left (t \\right )}$$"
      ],
      "text/plain": [
       "               2                                                     2        \n",
       "c₁⋅p(t) + c₁₁⋅p (t) + c₁₂⋅p(t)⋅q(t) + c₁₃⋅p(t)⋅r(t) + c₂⋅q(t) + c₂₂⋅q (t) + c₂\n",
       "\n",
       "                             2   \n",
       "₃⋅q(t)⋅r(t) + c₃⋅r(t) + c₃₃⋅r (t)"
      ]
     },
     "execution_count": 5,
     "metadata": {},
     "output_type": "execute_result"
    }
   ],
   "source": [
    "pqr = [p, q, r]\n",
    "undetermined_coeff(pqr, 2)\n",
    "inv"
   ]
  },
  {
   "cell_type": "code",
   "execution_count": 6,
   "metadata": {},
   "outputs": [
    {
     "data": {
      "image/png": "[encoded data removed]",
      "text/latex": [
       "$$- c_{1} q{\\left (t \\right )} r{\\left (t \\right )} - 2 c_{11} p{\\left (t \\right )} q{\\left (t \\right )} r{\\left (t \\right )} + c_{12} p^{2}{\\left (t \\right )} r{\\left (t \\right )} - c_{12} q^{2}{\\left (t \\right )} r{\\left (t \\right )} - c_{13} k^{2} p^{2}{\\left (t \\right )} q{\\left (t \\right )} - c_{13} q{\\left (t \\right )} r^{2}{\\left (t \\right )} + c_{2} p{\\left (t \\right )} r{\\left (t \\right )} + 2 c_{22} p{\\left (t \\right )} q{\\left (t \\right )} r{\\left (t \\right )} - c_{23} k^{2} p{\\left (t \\right )} q^{2}{\\left (t \\right )} + c_{23} p{\\left (t \\right )} r^{2}{\\left (t \\right )} - c_{3} k^{2} p{\\left (t \\right )} q{\\left (t \\right )} - 2 c_{33} k^{2} p{\\left (t \\right )} q{\\left (t \\right )} r{\\left (t \\right )}$$"
      ],
      "text/plain": [
       "                                            2                2                \n",
       "-c₁⋅q(t)⋅r(t) - 2⋅c₁₁⋅p(t)⋅q(t)⋅r(t) + c₁₂⋅p (t)⋅r(t) - c₁₂⋅q (t)⋅r(t) - c₁₃⋅k\n",
       "\n",
       "2  2                     2                                                 2  \n",
       " ⋅p (t)⋅q(t) - c₁₃⋅q(t)⋅r (t) + c₂⋅p(t)⋅r(t) + 2⋅c₂₂⋅p(t)⋅q(t)⋅r(t) - c₂₃⋅k ⋅p\n",
       "\n",
       "     2                2          2                    2               \n",
       "(t)⋅q (t) + c₂₃⋅p(t)⋅r (t) - c₃⋅k ⋅p(t)⋅q(t) - 2⋅c₃₃⋅k ⋅p(t)⋅q(t)⋅r(t)"
      ]
     },
     "execution_count": 6,
     "metadata": {},
     "output_type": "execute_result"
    }
   ],
   "source": [
    "inv1 = inv.diff(t).subs(eqs)\n",
    "inv1"
   ]
  },
  {
   "cell_type": "code",
   "execution_count": 7,
   "metadata": {},
   "outputs": [
    {
     "data": {
      "image/png": "[encoded data removed]",
      "text/latex": [
       "$$\\left [ - c_{1}, \\quad - c_{13}, \\quad - c_{12}, \\quad c_{2}, \\quad c_{23}, \\quad - c_{3}, \\quad - 2 c_{11} + 2 c_{22} - 2 c_{33} k^{2}, \\quad - c_{23}, \\quad c_{12}, \\quad - c_{13}\\right ]$$"
      ],
      "text/plain": [
       "⎡                                                       2                 ⎤\n",
       "⎣-c₁, -c₁₃, -c₁₂, c₂, c₂₃, -c₃, -2⋅c₁₁ + 2⋅c₂₂ - 2⋅c₃₃⋅k , -c₂₃, c₁₂, -c₁₃⎦"
      ]
     },
     "execution_count": 7,
     "metadata": {},
     "output_type": "execute_result"
    }
   ],
   "source": [
    "inv2 = to_eqs(inv1)\n",
    "inv2"
   ]
  },
  {
   "cell_type": "code",
   "execution_count": 8,
   "metadata": {},
   "outputs": [
    {
     "data": {
      "image/png": "[encoded data removed]",
      "text/latex": [
       "$$\\left \\{ c_{1} : 0, \\quad c_{12} : 0, \\quad c_{13} : 0, \\quad c_{2} : 0, \\quad c_{22} : c_{11} + c_{33} k^{2}, \\quad c_{23} : 0, \\quad c_{3} : 0\\right \\}$$"
      ],
      "text/plain": [
       "⎧                                              2               ⎫\n",
       "⎨c₁: 0, c₁₂: 0, c₁₃: 0, c₂: 0, c₂₂: c₁₁ + c₃₃⋅k , c₂₃: 0, c₃: 0⎬\n",
       "⎩                                                              ⎭"
      ]
     },
     "execution_count": 8,
     "metadata": {},
     "output_type": "execute_result"
    }
   ],
   "source": [
    "sol1 = solve(inv2, Cs)\n",
    "sol1"
   ]
  },
  {
   "cell_type": "code",
   "execution_count": 9,
   "metadata": {},
   "outputs": [
    {
     "data": {
      "image/png": "[encoded data removed]",
      "text/latex": [
       "$$c_{11} p^{2}{\\left (t \\right )} + c_{11} q^{2}{\\left (t \\right )} + c_{33} k^{2} q^{2}{\\left (t \\right )} + c_{33} r^{2}{\\left (t \\right )}$$"
      ],
      "text/plain": [
       "     2           2           2  2           2   \n",
       "c₁₁⋅p (t) + c₁₁⋅q (t) + c₃₃⋅k ⋅q (t) + c₃₃⋅r (t)"
      ]
     },
     "execution_count": 9,
     "metadata": {},
     "output_type": "execute_result"
    }
   ],
   "source": [
    "invsol1 = inv.subs(sol1).expand()\n",
    "invsol1"
   ]
  },
  {
   "cell_type": "code",
   "execution_count": 10,
   "metadata": {
    "scrolled": true
   },
   "outputs": [
    {
     "data": {
      "image/png": "[encoded data removed]",
      "text/latex": [
       "$$\\left [ p^{2}{\\left (t \\right )} + q^{2}{\\left (t \\right )}, \\quad k^{2} q^{2}{\\left (t \\right )} + r^{2}{\\left (t \\right )}\\right ]$$"
      ],
      "text/plain": [
       "⎡ 2       2      2  2       2   ⎤\n",
       "⎣p (t) + q (t), k ⋅q (t) + r (t)⎦"
      ]
     },
     "execution_count": 10,
     "metadata": {},
     "output_type": "execute_result"
    }
   ],
   "source": [
    "invs1 = to_sol(invsol1)\n",
    "invs1"
   ]
  },
  {
   "cell_type": "code",
   "execution_count": 11,
   "metadata": {},
   "outputs": [
    {
     "name": "stdout",
     "output_type": "stream",
     "text": [
      "0 0 "
     ]
    }
   ],
   "source": [
    "for i in invs1:\n",
    "    print(i.diff(t).subs(eqs).expand(), end = \" \")"
   ]
  },
  {
   "cell_type": "markdown",
   "metadata": {},
   "source": [
    "# degree == 4"
   ]
  },
  {
   "cell_type": "code",
   "execution_count": 12,
   "metadata": {},
   "outputs": [
    {
     "data": {
      "image/png": "[encoded data removed]",
      "text/latex": [
       "$$c_{1} p{\\left (t \\right )} + c_{11} p^{2}{\\left (t \\right )} + c_{111} p^{3}{\\left (t \\right )} + c_{1111} p^{4}{\\left (t \\right )} + c_{1112} p^{3}{\\left (t \\right )} q{\\left (t \\right )} + c_{1113} p^{3}{\\left (t \\right )} r{\\left (t \\right )} + c_{112} p^{2}{\\left (t \\right )} q{\\left (t \\right )} + c_{1122} p^{2}{\\left (t \\right )} q^{2}{\\left (t \\right )} + c_{1123} p^{2}{\\left (t \\right )} q{\\left (t \\right )} r{\\left (t \\right )} + c_{113} p^{2}{\\left (t \\right )} r{\\left (t \\right )} + c_{1133} p^{2}{\\left (t \\right )} r^{2}{\\left (t \\right )} + c_{12} p{\\left (t \\right )} q{\\left (t \\right )} + c_{122} p{\\left (t \\right )} q^{2}{\\left (t \\right )} + c_{1222} p{\\left (t \\right )} q^{3}{\\left (t \\right )} + c_{1223} p{\\left (t \\right )} q^{2}{\\left (t \\right )} r{\\left (t \\right )} + c_{123} p{\\left (t \\right )} q{\\left (t \\right )} r{\\left (t \\right )} + c_{1233} p{\\left (t \\right )} q{\\left (t \\right )} r^{2}{\\left (t \\right )} + c_{13} p{\\left (t \\right )} r{\\left (t \\right )} + c_{133} p{\\left (t \\right )} r^{2}{\\left (t \\right )} + c_{1333} p{\\left (t \\right )} r^{3}{\\left (t \\right )} + c_{2} q{\\left (t \\right )} + c_{22} q^{2}{\\left (t \\right )} + c_{222} q^{3}{\\left (t \\right )} + c_{2222} q^{4}{\\left (t \\right )} + c_{2223} q^{3}{\\left (t \\right )} r{\\left (t \\right )} + c_{223} q^{2}{\\left (t \\right )} r{\\left (t \\right )} + c_{2233} q^{2}{\\left (t \\right )} r^{2}{\\left (t \\right )} + c_{23} q{\\left (t \\right )} r{\\left (t \\right )} + c_{233} q{\\left (t \\right )} r^{2}{\\left (t \\right )} + c_{2333} q{\\left (t \\right )} r^{3}{\\left (t \\right )} + c_{3} r{\\left (t \\right )} + c_{33} r^{2}{\\left (t \\right )} + c_{333} r^{3}{\\left (t \\right )} + c_{3333} r^{4}{\\left (t \\right )}$$"
      ],
      "text/plain": [
       "               2            3             4             3                  3  \n",
       "c₁⋅p(t) + c₁₁⋅p (t) + c₁₁₁⋅p (t) + c₁₁₁₁⋅p (t) + c₁₁₁₂⋅p (t)⋅q(t) + c₁₁₁₃⋅p (t\n",
       "\n",
       "               2                  2     2             2                      2\n",
       ")⋅r(t) + c₁₁₂⋅p (t)⋅q(t) + c₁₁₂₂⋅p (t)⋅q (t) + c₁₁₂₃⋅p (t)⋅q(t)⋅r(t) + c₁₁₃⋅p \n",
       "\n",
       "                  2     2                                 2                  3\n",
       "(t)⋅r(t) + c₁₁₃₃⋅p (t)⋅r (t) + c₁₂⋅p(t)⋅q(t) + c₁₂₂⋅p(t)⋅q (t) + c₁₂₂₂⋅p(t)⋅q \n",
       "\n",
       "                  2                                                  2        \n",
       "(t) + c₁₂₂₃⋅p(t)⋅q (t)⋅r(t) + c₁₂₃⋅p(t)⋅q(t)⋅r(t) + c₁₂₃₃⋅p(t)⋅q(t)⋅r (t) + c₁\n",
       "\n",
       "                         2                  3                     2           \n",
       "₃⋅p(t)⋅r(t) + c₁₃₃⋅p(t)⋅r (t) + c₁₃₃₃⋅p(t)⋅r (t) + c₂⋅q(t) + c₂₂⋅q (t) + c₂₂₂⋅\n",
       "\n",
       " 3             4             3                 2                  2     2     \n",
       "q (t) + c₂₂₂₂⋅q (t) + c₂₂₂₃⋅q (t)⋅r(t) + c₂₂₃⋅q (t)⋅r(t) + c₂₂₃₃⋅q (t)⋅r (t) +\n",
       "\n",
       "                            2                  3                     2        \n",
       " c₂₃⋅q(t)⋅r(t) + c₂₃₃⋅q(t)⋅r (t) + c₂₃₃₃⋅q(t)⋅r (t) + c₃⋅r(t) + c₃₃⋅r (t) + c₃\n",
       "\n",
       "    3             4   \n",
       "₃₃⋅r (t) + c₃₃₃₃⋅r (t)"
      ]
     },
     "execution_count": 12,
     "metadata": {},
     "output_type": "execute_result"
    }
   ],
   "source": [
    "undetermined_coeff(pqr, 4)\n",
    "inv"
   ]
  },
  {
   "cell_type": "code",
   "execution_count": 13,
   "metadata": {},
   "outputs": [
    {
     "data": {
      "image/png": "[encoded data removed]",
      "text/latex": [
       "$$- c_{1} q{\\left (t \\right )} r{\\left (t \\right )} - 2 c_{11} p{\\left (t \\right )} q{\\left (t \\right )} r{\\left (t \\right )} - 3 c_{111} p^{2}{\\left (t \\right )} q{\\left (t \\right )} r{\\left (t \\right )} - 4 c_{1111} p^{3}{\\left (t \\right )} q{\\left (t \\right )} r{\\left (t \\right )} + c_{1112} p^{4}{\\left (t \\right )} r{\\left (t \\right )} - 3 c_{1112} p^{2}{\\left (t \\right )} q^{2}{\\left (t \\right )} r{\\left (t \\right )} - c_{1113} k^{2} p^{4}{\\left (t \\right )} q{\\left (t \\right )} - 3 c_{1113} p^{2}{\\left (t \\right )} q{\\left (t \\right )} r^{2}{\\left (t \\right )} + c_{112} p^{3}{\\left (t \\right )} r{\\left (t \\right )} - 2 c_{112} p{\\left (t \\right )} q^{2}{\\left (t \\right )} r{\\left (t \\right )} + 2 c_{1122} p^{3}{\\left (t \\right )} q{\\left (t \\right )} r{\\left (t \\right )} - 2 c_{1122} p{\\left (t \\right )} q^{3}{\\left (t \\right )} r{\\left (t \\right )} - c_{1123} k^{2} p^{3}{\\left (t \\right )} q^{2}{\\left (t \\right )} + c_{1123} p^{3}{\\left (t \\right )} r^{2}{\\left (t \\right )} - 2 c_{1123} p{\\left (t \\right )} q^{2}{\\left (t \\right )} r^{2}{\\left (t \\right )} - c_{113} k^{2} p^{3}{\\left (t \\right )} q{\\left (t \\right )} - 2 c_{113} p{\\left (t \\right )} q{\\left (t \\right )} r^{2}{\\left (t \\right )} - 2 c_{1133} k^{2} p^{3}{\\left (t \\right )} q{\\left (t \\right )} r{\\left (t \\right )} - 2 c_{1133} p{\\left (t \\right )} q{\\left (t \\right )} r^{3}{\\left (t \\right )} + c_{12} p^{2}{\\left (t \\right )} r{\\left (t \\right )} - c_{12} q^{2}{\\left (t \\right )} r{\\left (t \\right )} + 2 c_{122} p^{2}{\\left (t \\right )} q{\\left (t \\right )} r{\\left (t \\right )} - c_{122} q^{3}{\\left (t \\right )} r{\\left (t \\right )} + 3 c_{1222} p^{2}{\\left (t \\right )} q^{2}{\\left (t \\right )} r{\\left (t \\right )} - c_{1222} q^{4}{\\left (t \\right )} r{\\left (t \\right )} - c_{1223} k^{2} p^{2}{\\left (t \\right )} q^{3}{\\left (t \\right )} + 2 c_{1223} p^{2}{\\left (t \\right )} q{\\left (t \\right )} r^{2}{\\left (t \\right )} - c_{1223} q^{3}{\\left (t \\right )} r^{2}{\\left (t \\right )} - c_{123} k^{2} p^{2}{\\left (t \\right )} q^{2}{\\left (t \\right )} + c_{123} p^{2}{\\left (t \\right )} r^{2}{\\left (t \\right )} - c_{123} q^{2}{\\left (t \\right )} r^{2}{\\left (t \\right )} - 2 c_{1233} k^{2} p^{2}{\\left (t \\right )} q^{2}{\\left (t \\right )} r{\\left (t \\right )} + c_{1233} p^{2}{\\left (t \\right )} r^{3}{\\left (t \\right )} - c_{1233} q^{2}{\\left (t \\right )} r^{3}{\\left (t \\right )} - c_{13} k^{2} p^{2}{\\left (t \\right )} q{\\left (t \\right )} - c_{13} q{\\left (t \\right )} r^{2}{\\left (t \\right )} - 2 c_{133} k^{2} p^{2}{\\left (t \\right )} q{\\left (t \\right )} r{\\left (t \\right )} - c_{133} q{\\left (t \\right )} r^{3}{\\left (t \\right )} - 3 c_{1333} k^{2} p^{2}{\\left (t \\right )} q{\\left (t \\right )} r^{2}{\\left (t \\right )} - c_{1333} q{\\left (t \\right )} r^{4}{\\left (t \\right )} + c_{2} p{\\left (t \\right )} r{\\left (t \\right )} + 2 c_{22} p{\\left (t \\right )} q{\\left (t \\right )} r{\\left (t \\right )} + 3 c_{222} p{\\left (t \\right )} q^{2}{\\left (t \\right )} r{\\left (t \\right )} + 4 c_{2222} p{\\left (t \\right )} q^{3}{\\left (t \\right )} r{\\left (t \\right )} - c_{2223} k^{2} p{\\left (t \\right )} q^{4}{\\left (t \\right )} + 3 c_{2223} p{\\left (t \\right )} q^{2}{\\left (t \\right )} r^{2}{\\left (t \\right )} - c_{223} k^{2} p{\\left (t \\right )} q^{3}{\\left (t \\right )} + 2 c_{223} p{\\left (t \\right )} q{\\left (t \\right )} r^{2}{\\left (t \\right )} - 2 c_{2233} k^{2} p{\\left (t \\right )} q^{3}{\\left (t \\right )} r{\\left (t \\right )} + 2 c_{2233} p{\\left (t \\right )} q{\\left (t \\right )} r^{3}{\\left (t \\right )} - c_{23} k^{2} p{\\left (t \\right )} q^{2}{\\left (t \\right )} + c_{23} p{\\left (t \\right )} r^{2}{\\left (t \\right )} - 2 c_{233} k^{2} p{\\left (t \\right )} q^{2}{\\left (t \\right )} r{\\left (t \\right )} + c_{233} p{\\left (t \\right )} r^{3}{\\left (t \\right )} - 3 c_{2333} k^{2} p{\\left (t \\right )} q^{2}{\\left (t \\right )} r^{2}{\\left (t \\right )} + c_{2333} p{\\left (t \\right )} r^{4}{\\left (t \\right )} - c_{3} k^{2} p{\\left (t \\right )} q{\\left (t \\right )} - 2 c_{33} k^{2} p{\\left (t \\right )} q{\\left (t \\right )} r{\\left (t \\right )} - 3 c_{333} k^{2} p{\\left (t \\right )} q{\\left (t \\right )} r^{2}{\\left (t \\right )} - 4 c_{3333} k^{2} p{\\left (t \\right )} q{\\left (t \\right )} r^{3}{\\left (t \\right )}$$"
      ],
      "text/plain": [
       "                                               2                         3    \n",
       "-c₁⋅q(t)⋅r(t) - 2⋅c₁₁⋅p(t)⋅q(t)⋅r(t) - 3⋅c₁₁₁⋅p (t)⋅q(t)⋅r(t) - 4⋅c₁₁₁₁⋅p (t)⋅\n",
       "\n",
       "                   4                    2     2                  2  4         \n",
       "q(t)⋅r(t) + c₁₁₁₂⋅p (t)⋅r(t) - 3⋅c₁₁₁₂⋅p (t)⋅q (t)⋅r(t) - c₁₁₁₃⋅k ⋅p (t)⋅q(t) \n",
       "\n",
       "           2          2            3                        2                 \n",
       "- 3⋅c₁₁₁₃⋅p (t)⋅q(t)⋅r (t) + c₁₁₂⋅p (t)⋅r(t) - 2⋅c₁₁₂⋅p(t)⋅q (t)⋅r(t) + 2⋅c₁₁₂\n",
       "\n",
       "   3                              3                  2  3     2             3 \n",
       "₂⋅p (t)⋅q(t)⋅r(t) - 2⋅c₁₁₂₂⋅p(t)⋅q (t)⋅r(t) - c₁₁₂₃⋅k ⋅p (t)⋅q (t) + c₁₁₂₃⋅p (\n",
       "\n",
       "    2                    2     2            2  3                             2\n",
       "t)⋅r (t) - 2⋅c₁₁₂₃⋅p(t)⋅q (t)⋅r (t) - c₁₁₃⋅k ⋅p (t)⋅q(t) - 2⋅c₁₁₃⋅p(t)⋅q(t)⋅r \n",
       "\n",
       "               2  3                                   3           2           \n",
       "(t) - 2⋅c₁₁₃₃⋅k ⋅p (t)⋅q(t)⋅r(t) - 2⋅c₁₁₃₃⋅p(t)⋅q(t)⋅r (t) + c₁₂⋅p (t)⋅r(t) - \n",
       "\n",
       "     2                   2                      3                    2     2  \n",
       "c₁₂⋅q (t)⋅r(t) + 2⋅c₁₂₂⋅p (t)⋅q(t)⋅r(t) - c₁₂₂⋅q (t)⋅r(t) + 3⋅c₁₂₂₂⋅p (t)⋅q (t\n",
       "\n",
       "                4                  2  2     3               2          2      \n",
       ")⋅r(t) - c₁₂₂₂⋅q (t)⋅r(t) - c₁₂₂₃⋅k ⋅p (t)⋅q (t) + 2⋅c₁₂₂₃⋅p (t)⋅q(t)⋅r (t) - \n",
       "\n",
       "       3     2            2  2     2            2     2            2     2    \n",
       "c₁₂₂₃⋅q (t)⋅r (t) - c₁₂₃⋅k ⋅p (t)⋅q (t) + c₁₂₃⋅p (t)⋅r (t) - c₁₂₃⋅q (t)⋅r (t) \n",
       "\n",
       "           2  2     2                  2     3             2     3           2\n",
       "- 2⋅c₁₂₃₃⋅k ⋅p (t)⋅q (t)⋅r(t) + c₁₂₃₃⋅p (t)⋅r (t) - c₁₂₃₃⋅q (t)⋅r (t) - c₁₃⋅k \n",
       "\n",
       "  2                     2              2  2                           3       \n",
       "⋅p (t)⋅q(t) - c₁₃⋅q(t)⋅r (t) - 2⋅c₁₃₃⋅k ⋅p (t)⋅q(t)⋅r(t) - c₁₃₃⋅q(t)⋅r (t) - 3\n",
       "\n",
       "        2  2          2                  4                                    \n",
       "⋅c₁₃₃₃⋅k ⋅p (t)⋅q(t)⋅r (t) - c₁₃₃₃⋅q(t)⋅r (t) + c₂⋅p(t)⋅r(t) + 2⋅c₂₂⋅p(t)⋅q(t)\n",
       "\n",
       "                     2                         3                  2       4   \n",
       "⋅r(t) + 3⋅c₂₂₂⋅p(t)⋅q (t)⋅r(t) + 4⋅c₂₂₂₂⋅p(t)⋅q (t)⋅r(t) - c₂₂₂₃⋅k ⋅p(t)⋅q (t)\n",
       "\n",
       "                 2     2            2       3                        2        \n",
       " + 3⋅c₂₂₂₃⋅p(t)⋅q (t)⋅r (t) - c₂₂₃⋅k ⋅p(t)⋅q (t) + 2⋅c₂₂₃⋅p(t)⋅q(t)⋅r (t) - 2⋅\n",
       "\n",
       "       2       3                              3           2       2           \n",
       "c₂₂₃₃⋅k ⋅p(t)⋅q (t)⋅r(t) + 2⋅c₂₂₃₃⋅p(t)⋅q(t)⋅r (t) - c₂₃⋅k ⋅p(t)⋅q (t) + c₂₃⋅p\n",
       "\n",
       "     2              2       2                      3               2       2  \n",
       "(t)⋅r (t) - 2⋅c₂₃₃⋅k ⋅p(t)⋅q (t)⋅r(t) + c₂₃₃⋅p(t)⋅r (t) - 3⋅c₂₃₃₃⋅k ⋅p(t)⋅q (t\n",
       "\n",
       "   2                  4          2                    2                       \n",
       ")⋅r (t) + c₂₃₃₃⋅p(t)⋅r (t) - c₃⋅k ⋅p(t)⋅q(t) - 2⋅c₃₃⋅k ⋅p(t)⋅q(t)⋅r(t) - 3⋅c₃₃\n",
       "\n",
       "   2            2               2            3   \n",
       "₃⋅k ⋅p(t)⋅q(t)⋅r (t) - 4⋅c₃₃₃₃⋅k ⋅p(t)⋅q(t)⋅r (t)"
      ]
     },
     "execution_count": 13,
     "metadata": {},
     "output_type": "execute_result"
    }
   ],
   "source": [
    "inv1 = inv.diff(t).subs(eqs)\n",
    "inv1"
   ]
  },
  {
   "cell_type": "code",
   "execution_count": 14,
   "metadata": {},
   "outputs": [
    {
     "data": {
      "image/png": "[encoded data removed]",
      "text/latex": [
       "$$\\left [ - c_{1}, \\quad - c_{13}, \\quad - c_{133}, \\quad - c_{1333}, \\quad - c_{12}, \\quad - c_{123}, \\quad - c_{1233}, \\quad - c_{122}, \\quad - c_{1223}, \\quad - c_{1222}, \\quad c_{2}, \\quad c_{23}, \\quad c_{233}, \\quad c_{2333}, \\quad - c_{3}, \\quad - 2 c_{11} + 2 c_{22} - 2 c_{33} k^{2}, \\quad - 2 c_{113} + 2 c_{223} - 3 c_{333} k^{2}, \\quad - 2 c_{1133} + 2 c_{2233} - 4 c_{3333} k^{2}, \\quad - c_{23}, \\quad - 2 c_{112} + 3 c_{222} - 2 c_{233} k^{2}, \\quad - 2 c_{1123} + 3 c_{2223} - 3 c_{2333} k^{2}, \\quad - c_{223}, \\quad - 2 c_{1122} + 4 c_{2222} - 2 c_{2233} k^{2}, \\quad - c_{2223}, \\quad c_{12}, \\quad c_{123}, \\quad c_{1233}, \\quad - c_{13}, \\quad - 3 c_{111} + 2 c_{122} - 2 c_{133} k^{2}, \\quad - 3 c_{1113} + 2 c_{1223} - 3 c_{1333} k^{2}, \\quad - c_{123}, \\quad - 3 c_{1112} + 3 c_{1222} - 2 c_{1233} k^{2}, \\quad - c_{1223}, \\quad c_{112}, \\quad c_{1123}, \\quad - c_{113}, \\quad - 4 c_{1111} + 2 c_{1122} - 2 c_{1133} k^{2}, \\quad - c_{1123}, \\quad c_{1112}, \\quad - c_{1113}\\right ]$$"
      ],
      "text/plain": [
       "⎡                                                                             \n",
       "⎣-c₁, -c₁₃, -c₁₃₃, -c₁₃₃₃, -c₁₂, -c₁₂₃, -c₁₂₃₃, -c₁₂₂, -c₁₂₂₃, -c₁₂₂₂, c₂, c₂₃\n",
       "\n",
       "                                            2                             2   \n",
       ", c₂₃₃, c₂₃₃₃, -c₃, -2⋅c₁₁ + 2⋅c₂₂ - 2⋅c₃₃⋅k , -2⋅c₁₁₃ + 2⋅c₂₂₃ - 3⋅c₃₃₃⋅k , -\n",
       "\n",
       "                             2                                   2            \n",
       "2⋅c₁₁₃₃ + 2⋅c₂₂₃₃ - 4⋅c₃₃₃₃⋅k , -c₂₃, -2⋅c₁₁₂ + 3⋅c₂₂₂ - 2⋅c₂₃₃⋅k , -2⋅c₁₁₂₃ +\n",
       "\n",
       "                    2                                       2                 \n",
       " 3⋅c₂₂₂₃ - 3⋅c₂₃₃₃⋅k , -c₂₂₃, -2⋅c₁₁₂₂ + 4⋅c₂₂₂₂ - 2⋅c₂₂₃₃⋅k , -c₂₂₂₃, c₁₂, c₁\n",
       "\n",
       "                                            2                                2\n",
       "₂₃, c₁₂₃₃, -c₁₃, -3⋅c₁₁₁ + 2⋅c₁₂₂ - 2⋅c₁₃₃⋅k , -3⋅c₁₁₁₃ + 2⋅c₁₂₂₃ - 3⋅c₁₃₃₃⋅k \n",
       "\n",
       "                                       2                                      \n",
       ", -c₁₂₃, -3⋅c₁₁₁₂ + 3⋅c₁₂₂₂ - 2⋅c₁₂₃₃⋅k , -c₁₂₂₃, c₁₁₂, c₁₁₂₃, -c₁₁₃, -4⋅c₁₁₁₁\n",
       "\n",
       "                      2                       ⎤\n",
       " + 2⋅c₁₁₂₂ - 2⋅c₁₁₃₃⋅k , -c₁₁₂₃, c₁₁₁₂, -c₁₁₁₃⎦"
      ]
     },
     "execution_count": 14,
     "metadata": {},
     "output_type": "execute_result"
    }
   ],
   "source": [
    "inv2 = to_eqs(inv1)\n",
    "inv2"
   ]
  },
  {
   "cell_type": "code",
   "execution_count": 15,
   "metadata": {},
   "outputs": [
    {
     "data": {
      "image/png": "[encoded data removed]",
      "text/latex": [
       "$$\\left \\{ c_{1} : 0, \\quad c_{111} : 0, \\quad c_{1112} : 0, \\quad c_{1113} : 0, \\quad c_{112} : 0, \\quad c_{1122} : 2 c_{1111} + c_{2233} k^{2} - 2 c_{3333} k^{4}, \\quad c_{1123} : 0, \\quad c_{113} : 0, \\quad c_{1133} : c_{2233} - 2 c_{3333} k^{2}, \\quad c_{12} : 0, \\quad c_{122} : 0, \\quad c_{1222} : 0, \\quad c_{1223} : 0, \\quad c_{123} : 0, \\quad c_{1233} : 0, \\quad c_{13} : 0, \\quad c_{133} : 0, \\quad c_{1333} : 0, \\quad c_{2} : 0, \\quad c_{222} : 0, \\quad c_{2222} : c_{1111} + c_{2233} k^{2} - c_{3333} k^{4}, \\quad c_{2223} : 0, \\quad c_{223} : 0, \\quad c_{23} : 0, \\quad c_{233} : 0, \\quad c_{2333} : 0, \\quad c_{3} : 0, \\quad c_{33} : \\frac{- c_{11} + c_{22}}{k^{2}}, \\quad c_{333} : 0\\right \\}$$"
      ],
      "text/plain": [
       "⎧                                                                     2       \n",
       "⎪c₁: 0, c₁₁₁: 0, c₁₁₁₂: 0, c₁₁₁₃: 0, c₁₁₂: 0, c₁₁₂₂: 2⋅c₁₁₁₁ + c₂₂₃₃⋅k  - 2⋅c₃\n",
       "⎨                                                                             \n",
       "⎪                                                                             \n",
       "⎩                                                                             \n",
       "\n",
       "     4                                             2                          \n",
       "₃₃₃⋅k , c₁₁₂₃: 0, c₁₁₃: 0, c₁₁₃₃: c₂₂₃₃ - 2⋅c₃₃₃₃⋅k , c₁₂: 0, c₁₂₂: 0, c₁₂₂₂: \n",
       "                                                                              \n",
       "                                                                              \n",
       "                                                                              \n",
       "\n",
       "                                                                              \n",
       "0, c₁₂₂₃: 0, c₁₂₃: 0, c₁₂₃₃: 0, c₁₃: 0, c₁₃₃: 0, c₁₃₃₃: 0, c₂: 0, c₂₂₂: 0, c₂₂\n",
       "                                                                              \n",
       "                                                                              \n",
       "                                                                              \n",
       "\n",
       "                   2          4                                               \n",
       "₂₂: c₁₁₁₁ + c₂₂₃₃⋅k  - c₃₃₃₃⋅k , c₂₂₂₃: 0, c₂₂₃: 0, c₂₃: 0, c₂₃₃: 0, c₂₃₃₃: 0,\n",
       "                                                                              \n",
       "                                                                              \n",
       "                                                                              \n",
       "\n",
       "             -c₁₁ + c₂₂         ⎫\n",
       " c₃: 0, c₃₃: ──────────, c₃₃₃: 0⎪\n",
       "                  2             ⎬\n",
       "                 k              ⎪\n",
       "                                ⎭"
      ]
     },
     "execution_count": 15,
     "metadata": {},
     "output_type": "execute_result"
    }
   ],
   "source": [
    "sol1 = solve(inv2, Cs)\n",
    "sol1"
   ]
  },
  {
   "cell_type": "code",
   "execution_count": 16,
   "metadata": {},
   "outputs": [
    {
     "data": {
      "image/png": "[encoded data removed]",
      "text/latex": [
       "$$c_{11} p^{2}{\\left (t \\right )} - \\frac{c_{11} r^{2}{\\left (t \\right )}}{k^{2}} + c_{1111} p^{4}{\\left (t \\right )} + 2 c_{1111} p^{2}{\\left (t \\right )} q^{2}{\\left (t \\right )} + c_{1111} q^{4}{\\left (t \\right )} + c_{22} q^{2}{\\left (t \\right )} + \\frac{c_{22} r^{2}{\\left (t \\right )}}{k^{2}} + c_{2233} k^{2} p^{2}{\\left (t \\right )} q^{2}{\\left (t \\right )} + c_{2233} k^{2} q^{4}{\\left (t \\right )} + c_{2233} p^{2}{\\left (t \\right )} r^{2}{\\left (t \\right )} + c_{2233} q^{2}{\\left (t \\right )} r^{2}{\\left (t \\right )} - 2 c_{3333} k^{4} p^{2}{\\left (t \\right )} q^{2}{\\left (t \\right )} - c_{3333} k^{4} q^{4}{\\left (t \\right )} - 2 c_{3333} k^{2} p^{2}{\\left (t \\right )} r^{2}{\\left (t \\right )} + c_{3333} r^{4}{\\left (t \\right )}$$"
      ],
      "text/plain": [
       "                 2                                                            \n",
       "     2      c₁₁⋅r (t)          4               2     2             4          \n",
       "c₁₁⋅p (t) - ───────── + c₁₁₁₁⋅p (t) + 2⋅c₁₁₁₁⋅p (t)⋅q (t) + c₁₁₁₁⋅q (t) + c₂₂⋅\n",
       "                 2                                                            \n",
       "                k                                                             \n",
       "\n",
       "             2                                                                \n",
       " 2      c₂₂⋅r (t)          2  2     2             2  4             2     2    \n",
       "q (t) + ───────── + c₂₂₃₃⋅k ⋅p (t)⋅q (t) + c₂₂₃₃⋅k ⋅q (t) + c₂₂₃₃⋅p (t)⋅r (t) \n",
       "             2                                                                \n",
       "            k                                                                 \n",
       "\n",
       "                                                                              \n",
       "         2     2               4  2     2             4  4               2  2 \n",
       "+ c₂₂₃₃⋅q (t)⋅r (t) - 2⋅c₃₃₃₃⋅k ⋅p (t)⋅q (t) - c₃₃₃₃⋅k ⋅q (t) - 2⋅c₃₃₃₃⋅k ⋅p (\n",
       "                                                                              \n",
       "                                                                              \n",
       "\n",
       "                      \n",
       "    2             4   \n",
       "t)⋅r (t) + c₃₃₃₃⋅r (t)\n",
       "                      \n",
       "                      "
      ]
     },
     "execution_count": 16,
     "metadata": {},
     "output_type": "execute_result"
    }
   ],
   "source": [
    "invsol1 = inv.subs(sol1).expand()\n",
    "invsol1"
   ]
  },
  {
   "cell_type": "code",
   "execution_count": 17,
   "metadata": {
    "scrolled": true
   },
   "outputs": [
    {
     "data": {
      "image/png": "[encoded data removed]",
      "text/latex": [
       "$$\\left [ \\left(k p{\\left (t \\right )} - r{\\left (t \\right )}\\right) \\left(k p{\\left (t \\right )} + r{\\left (t \\right )}\\right), \\quad k^{2} q^{2}{\\left (t \\right )} + r^{2}{\\left (t \\right )}, \\quad \\left(p^{2}{\\left (t \\right )} + q^{2}{\\left (t \\right )}\\right)^{2}, \\quad \\left(k^{2} q^{2}{\\left (t \\right )} + r^{2}{\\left (t \\right )}\\right) \\left(p^{2}{\\left (t \\right )} + q^{2}{\\left (t \\right )}\\right), \\quad - \\left(k^{2} q^{2}{\\left (t \\right )} + r^{2}{\\left (t \\right )}\\right) \\left(2 k^{2} p^{2}{\\left (t \\right )} + k^{2} q^{2}{\\left (t \\right )} - r^{2}{\\left (t \\right )}\\right)\\right ]$$"
      ],
      "text/plain": [
       "⎡                                                                  2          \n",
       "⎢                                  2  2       2     ⎛ 2       2   ⎞   ⎛ 2  2  \n",
       "⎣(k⋅p(t) - r(t))⋅(k⋅p(t) + r(t)), k ⋅q (t) + r (t), ⎝p (t) + q (t)⎠ , ⎝k ⋅q (t\n",
       "\n",
       "                                                                              \n",
       "     2   ⎞ ⎛ 2       2   ⎞   ⎛ 2  2       2   ⎞ ⎛   2  2       2  2       2   \n",
       ") + r (t)⎠⋅⎝p (t) + q (t)⎠, -⎝k ⋅q (t) + r (t)⎠⋅⎝2⋅k ⋅p (t) + k ⋅q (t) - r (t)\n",
       "\n",
       " ⎤\n",
       "⎞⎥\n",
       "⎠⎦"
      ]
     },
     "execution_count": 17,
     "metadata": {},
     "output_type": "execute_result"
    }
   ],
   "source": [
    "invs1 = to_sol(invsol1)\n",
    "invs1"
   ]
  },
  {
   "cell_type": "code",
   "execution_count": 18,
   "metadata": {},
   "outputs": [
    {
     "name": "stdout",
     "output_type": "stream",
     "text": [
      "0 0 0 0 0 "
     ]
    }
   ],
   "source": [
    "for i in invs1:\n",
    "    print(i.diff(t).subs(eqs).expand(), end = \" \")"
   ]
  },
  {
   "cell_type": "code",
   "execution_count": null,
   "metadata": {},
   "outputs": [],
   "source": []
  }
 ],
 "metadata": {
  "kernelspec": {
   "display_name": "Python 3",
   "language": "python",
   "name": "python3"
  },
  "language_info": {
   "codemirror_mode": {
    "name": "ipython",
    "version": 3
   },
   "file_extension": ".py",
   "mimetype": "text/x-python",
   "name": "python",
   "nbconvert_exporter": "python",
   "pygments_lexer": "ipython3",
   "version": "3.7.3"
  }
 },
 "nbformat": 4,
 "nbformat_minor": 2
}
