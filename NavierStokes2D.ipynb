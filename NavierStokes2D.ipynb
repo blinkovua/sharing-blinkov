{
 "cells": [
  {
   "cell_type": "code",
   "execution_count": 13,
   "metadata": {},
   "outputs": [],
   "source": [
    "from IPython.display import display\n",
    "\n",
    "import pylab as plt\n",
    "%matplotlib inline\n",
    "\n",
    "from sympy import *\n",
    "\n",
    "from monom import *"
   ]
  },
  {
   "cell_type": "code",
   "execution_count": 14,
   "metadata": {},
   "outputs": [],
   "source": [
    "t, x, y, tau, h, Re, p0 = symbols(r't, x, y, tau, h, Re, p_0', real=True)\n",
    "u, v, p = (f(t, x, y) for f in symbols('u, v, p', cls=Function))"
   ]
  },
  {
   "cell_type": "code",
   "execution_count": 15,
   "metadata": {},
   "outputs": [],
   "source": [
    "pda_f, pda_v = (u, v, p), (t, x, y)\n",
    "pda_n, pda_clp = 5, 3\n",
    "pda_p = Rational(0, 1), Rational(0, 1), Rational(0, 1)"
   ]
  },
  {
   "cell_type": "code",
   "execution_count": 16,
   "metadata": {},
   "outputs": [],
   "source": [
    "Monom.variables = 1 + len(pda_v)\n",
    "Monom.cmp = Monom.TOPdeglex\n",
    "Monom.zero = Monom(0 for v in range(Monom.variables))\n",
    "pda_fun = dict(zip(pda_f,\\\n",
    "             (Monom(0 if v else i for v in range(Monom.variables))\\\n",
    "              for i in range(1, 1 + len(pda_f)))))\n",
    "pda_var = dict(zip(pda_v,\\\n",
    "             (Monom(0 if v != i else 1 for v in range(Monom.variables))\\\n",
    "              for i in range(1, Monom.variables))))"
   ]
  },
  {
   "cell_type": "code",
   "execution_count": 17,
   "metadata": {},
   "outputs": [],
   "source": [
    "def T(f, i1, j1, k1):\n",
    "    return sum(sum(sum(\\\n",
    "        diff(f, t, i, x, j, y, k)*(tau*(i1+pda_p[0]))**i \\\n",
    "                                   *(h*(j1+pda_p[1]))**j \\\n",
    "                                   *(h*(k1+pda_p[2]))**k/\\\n",
    "                 (factorial(i)*factorial(j)*factorial(k))\\\n",
    "        for i in range(pda_n-j-k))\\\n",
    "        for k in range(pda_n-j))  \\\n",
    "        for j in range(pda_n))"
   ]
  },
  {
   "cell_type": "code",
   "execution_count": 18,
   "metadata": {},
   "outputs": [
    {
     "data": {
      "text/latex": [
       "$\\displaystyle \\frac{h^{2} \\frac{\\partial^{3}}{\\partial y^{3}} u{\\left(t,x,y \\right)}}{6} + \\frac{\\partial}{\\partial y} u{\\left(t,x,y \\right)}$"
      ],
      "text/plain": [
       "h**2*Derivative(u(t, x, y), (y, 3))/6 + Derivative(u(t, x, y), y)"
      ]
     },
     "execution_count": 18,
     "metadata": {},
     "output_type": "execute_result"
    }
   ],
   "source": [
    "expand((T(u, 0, 0, 1)-T(u, 0, 0, -1))/(2*h))"
   ]
  },
  {
   "cell_type": "code",
   "execution_count": 19,
   "metadata": {},
   "outputs": [],
   "source": [
    "def clip(f):\n",
    "    f = f.expand()\n",
    "    return [f.coeff(tau, 0).coeff(h, 0),\\\n",
    "            f.coeff(h, 0).coeff(tau, 1),\\\n",
    "            f.coeff(tau, 0).coeff(h, 2)]\n",
    "\n",
    "def df2m(a):\n",
    "    assert a.func == Derivative\n",
    "    m = pda_fun[a.args[0]]\n",
    "    for xi in a.args[1:]:\n",
    "        if isinstance(xi, Symbol):\n",
    "            m = m*pda_var[xi]\n",
    "        else:\n",
    "            m = m*pda_var[xi[0]]**xi[1]\n",
    "    return m\n",
    "\n",
    "def m2df(m):\n",
    "    r = pda_f[m[0]-1]\n",
    "    for i in range(1, len(m)):\n",
    "        r = r.diff(pda_v[i-1], m[i])\n",
    "    return r\n",
    "\n",
    "def findDiv(a, d):\n",
    "    r = None\n",
    "    def find(a, r):\n",
    "        if a.args:\n",
    "            if a.func == Derivative and a.args[0] in pda_fun:\n",
    "                m = df2m(a)\n",
    "                if m.divisible(d) and (not r or m.cmp(r) > 0):\n",
    "                    r = m\n",
    "            else:\n",
    "                for s in a.args:\n",
    "                    r = find(s, r)\n",
    "        return r\n",
    "    return find(a, r)\n",
    "\n",
    "def reduction(f1, f2, m, c, shift):\n",
    "    assert shift < pda_clp\n",
    "    r = [f1[i] for i in range(shift)]\n",
    "    if not m:\n",
    "        for i in range(shift, pda_clp):\n",
    "            r.append(expand(f1[i] - f2[i-shift]*c))\n",
    "    else:\n",
    "        for i in range(shift, pda_clp):\n",
    "            r.append(expand(f1[i] - f2[i-shift].diff(*m)*c))\n",
    "    return r\n",
    "\n",
    "def NF(f, df, G, head=False, trace=False):\n",
    "    assert len(df) == len(G)\n",
    "#     print(df2m(df[0]))\n",
    "    ms = [df2m(d) for d in df]\n",
    "    for i in range(0 if head else 1, pda_clp):\n",
    "        t = 0\n",
    "        if f[i]:\n",
    "            while True:\n",
    "                r = None\n",
    "                for l in range(len(ms)):\n",
    "                    r = findDiv(f[i], ms[l])\n",
    "                    if r:\n",
    "                        break\n",
    "                if not r: \n",
    "                    break\n",
    "                c, deg, m = 0, 7, m2df(r)\n",
    "                while c == 0:\n",
    "                    c = f[i].coeff(m, deg)\n",
    "                    deg -= 1\n",
    "                    assert deg >= 0\n",
    "#                 print(c, m, deg+1)\n",
    "                if deg:\n",
    "                    c *= m**deg\n",
    "                m = r/ms[l]\n",
    "                d = []\n",
    "                for k in range(len(pda_v)):\n",
    "                    if m[k+1] > 0:\n",
    "                        d.append(pda_v[k])\n",
    "                        if m[k+1] > 1:\n",
    "                            d.append(m[k+1])\n",
    "                if trace:\n",
    "                    print(\">\"*12)\n",
    "                    eq = Symbol(\"eq%d\" % (l+1), real=True)\n",
    "                    if d:\n",
    "                        display(Derivative(*tuple([eq] + d))*c*h**i)\n",
    "                    else:\n",
    "                        display(eq*c*h**i)\n",
    "                f = reduction(f, G[l], tuple(d), c/G[l][0].coeff(df[l]), i)\n",
    "                if trace:\n",
    "                    print(\"res =\")\n",
    "                    display(f)\n",
    "                    print(\"<\"*12)\n",
    "                t += 1\n",
    "#                 if t > 6: break\n",
    "    return f\n",
    "\n",
    "def compact(f):\n",
    "    def cmpct(a):\n",
    "        if not a.args:\n",
    "            return a\n",
    "        else:\n",
    "            if a in pda_fun:\n",
    "                return Symbol(\"%s\" % a.func, real=True)\n",
    "            elif a.func == Derivative and a.args[0] in pda_fun:\n",
    "                m = []\n",
    "                for xi in a.args[1:]:\n",
    "                    if isinstance(xi, Symbol):\n",
    "                        m.append(str(xi))\n",
    "                    else:\n",
    "                        m.append(str(xi[0])*xi[1])\n",
    "                return Symbol(\"%s_{%s}\" % (a.args[0].func, \"\".join(m)), real=True)\n",
    "            else:\n",
    "                return a.func(*tuple(cmpct(s) for s in a.args))\n",
    "    return cmpct(f)\n",
    "\n",
    "def prn(a):\n",
    "    display(compact(a[0]))\n",
    "    print(\"tau =>\")\n",
    "    display(compact(a[1]))\n",
    "    print(\"h^2 =>\")\n",
    "    display(compact(a[2]))\n",
    "    \n",
    "def prnlatex(a):\n",
    "    print(latex(compact(a[0])))\n",
    "    print(r\"+\\tau\\big(\")\n",
    "    print(latex(compact(a[1]))) \n",
    "    print(r\"\\big)\")\n",
    "    print(r\"+h^2\\big(\")\n",
    "    print(latex(compact(a[2]))) \n",
    "    print(r\"\\big)\")    "
   ]
  },
  {
   "cell_type": "code",
   "execution_count": 34,
   "metadata": {},
   "outputs": [],
   "source": [
    "def Dt(a):\n",
    "    return (T(a, 1, 0, 0) - T(a, 0, 0, 0))/(tau)\n",
    "def It(a):\n",
    "    return (T(a, 1, 0, 0) + T(a, 0, 0, 0))/2\n",
    "def Ut(a):\n",
    "    return T(a, 1, 0, 0)\n",
    "def Dx(a):\n",
    "    return (T(a, 0, 1, 0) - T(a, 0, -1, 0))/(2*h)\n",
    "def Dy(a):\n",
    "    return (T(a, 0, 0, 1) - T(a, 0, 0, -1))/(2*h)\n",
    "\n",
    "def DD(a):\n",
    "    return (T(a, 0, 1, 0) + T(a, 0, 0, 1) +\\\n",
    "                -4*T(a, 0, 0, 0) +\\\n",
    "           T(a, 0, -1, 0) + T(a, 0, 0, -1))/h**2\n",
    "\n",
    "def DD2(a):\n",
    "    return (T(a, 0, 2, 0) + T(a, 0, 0, 2) +\\\n",
    "                -4*T(a, 0, 0, 0) +\\\n",
    "           T(a, 0, -2, 0) + T(a, 0, 0, -2))/(4*h**2)\n",
    "\n",
    "def Dxx(a):\n",
    "    return (T(a, 0, 2, 0) - 2*T(a, 0, 0, 0) + T(a, 0, -2, 0))/(4*h**2)\n",
    "def Dxy(a):\n",
    "    return (T(a, 0, 1, 1) - T(a, 0, 1, -1) -\\\n",
    "            T(a, 0, -1, 1) + T(a, 0, -1, -1))/(4*h**2)\n",
    "def Dyy(a):\n",
    "    return (T(a, 0, 0, 2) - 2*T(a, 0, 0, 0) + T(a, 0, 0, -2))/(4*h**2)\n",
    "\n",
    "def DDx(a):\n",
    "    return ((T(a, 0, 2, 0) + T(a, 0, 1, 1) -\\\n",
    "             4*T(a, 0, 1, 0) + T(a, 0, 1, -1)) -\\\n",
    "            (T(a, 0, -1, 1) - 4*T(a, 0, -1, 0) +\\\n",
    "             T(a, 0, -2, 0) + T(a, 0, -1, -1)))/(2*h**3)\n",
    "def DDy(a):\n",
    "    return ((T(a, 0, 1, 1) + T(a, 0, 0, 2) -\\\n",
    "             4*T(a, 0, 0, 1) + T(a, 0, -1, 1)) -\\\n",
    "            (T(a, 0, 1, -1) - 4*T(a, 0, 0, -1) +\\\n",
    "             T(a, 0, -1, -1) + T(a, 0, 0, -2)))/(2*h**3)"
   ]
  },
  {
   "cell_type": "code",
   "execution_count": 21,
   "metadata": {},
   "outputs": [],
   "source": [
    "def build(F1, F2, F3, F4):\n",
    "    prn(F1);print(\"-\"*25)\n",
    "    f1 = NF(F1, [u.diff(x), u.diff(y, 2), v.diff(x, 2), p.diff(x, 2)], [F1, F2, F3, F4], head=False)\n",
    "    prn(f1)\n",
    "    prnlatex(f1)\n",
    "    td = [f.subs(TD).doit().expand().simplify() for f in f1]\n",
    "    prn(td)\n",
    "    prnlatex(td)\n",
    "    kf = [f.subs(KF).doit().expand().simplify() for f in f1]\n",
    "    prn(kf)\n",
    "    prnlatex(kf)\n",
    "\n",
    "    prn(F2);print(\"-\"*25)\n",
    "    f2 = NF(F2, [u.diff(x), u.diff(y, 2), v.diff(x, 2), p.diff(x, 2)], [f1, F2, F3, F4], head=False)\n",
    "    prn(f2)\n",
    "    prnlatex(f2)\n",
    "    td = [f.subs(TD).doit().expand().simplify() for f in f2]\n",
    "    prn(td)\n",
    "    prnlatex(td)\n",
    "    kf = [f.subs(KF).doit().expand().simplify() for f in f2]\n",
    "    prn(kf)\n",
    "    prnlatex(kf)\n",
    "\n",
    "    prn(F3);print(\"-\"*25)\n",
    "    f3 = NF(F3, [u.diff(x), u.diff(y, 2), v.diff(x, 2), p.diff(x, 2)], [f1, f2, F3, F4], head=False)\n",
    "    prn(f3)\n",
    "    prnlatex(f3)\n",
    "    td = [f.subs(TD).doit().expand().simplify() for f in f3]\n",
    "    prn(td)\n",
    "    prnlatex(td)\n",
    "    kf = [f.subs(KF).doit().expand().simplify() for f in f3]\n",
    "    prn(kf)\n",
    "    prnlatex(kf)\n",
    "\n",
    "    prn(F4);print(\"-\"*25)\n",
    "    f4 = NF(F4, [u.diff(x), u.diff(y, 2), v.diff(x, 2), p.diff(x, 2)], [f1, f2, f3, F4], head=False)\n",
    "    prn(f4)\n",
    "    prnlatex(f4)\n",
    "    td = [f.subs(TD).doit().expand().simplify() for f in f4]\n",
    "    prn(td)\n",
    "    prnlatex(td)\n",
    "    kf = [f.subs(KF).doit().expand().simplify() for f in f4]\n",
    "    prn(kf)\n",
    "    prnlatex(kf)\n",
    "\n",
    "    spoly = [a.diff(y, 2) - b.diff(y) for a, b in zip(f2, f3)]\n",
    "    spoly = NF(spoly, [u.diff(x), u.diff(y, 2), v.diff(x, 2), p.diff(x, 2)], [f1, f2, f3, f4], head=True)\n",
    "    prn(spoly)\n",
    "    prnlatex(spoly)"
   ]
  },
  {
   "cell_type": "markdown",
   "metadata": {},
   "source": [
    "**Taylor decaying**\n",
    "\n",
    "This is a classical Navier-Stokes problem, in general used to state the con-\n",
    "vergence order of the considered formulae. Exact solution is\n",
    "\\begin{equation} \\label{eq1}\n",
    "\\left\\lbrace \n",
    "\\begin{array}{l}\n",
    " u = -e^{-2t/\\mathrm{Re}} \\cos(x) \\sin(y) ,\\\\\n",
    " v =  e^{-2t/\\mathrm{Re}} \\sin(x) \\cos(y) ,\\\\\n",
    " p = -e^{-4t/\\mathrm{Re}} (\\cos(2x) + \\cos(2y))/4 ,\n",
    "\\end{array}\n",
    "\\right. \n",
    "\\end{equation} "
   ]
  },
  {
   "cell_type": "code",
   "execution_count": 22,
   "metadata": {},
   "outputs": [],
   "source": [
    "TD = {u: -exp(-2*t/Re)*cos(x)*sin(y),\\\n",
    "      v:  exp(-2*t/Re)*sin(x)*cos(y),\\\n",
    "      p: -exp(-4*t/Re)*(cos(2*x)+cos(2*y))/4}"
   ]
  },
  {
   "cell_type": "markdown",
   "metadata": {},
   "source": [
    "**Kovasznay flow**\n",
    "\n",
    "This is a classical Navier-Stokes problem, in general used to state the con-\n",
    "vergence order of the considered formulae. Exact solution is\n",
    "\\begin{equation} \\label{eq2}\n",
    "\\left\\lbrace \n",
    "\\begin{array}{l}\n",
    " u = 1-e^{\\lambda x} \\cos(2 \\pi y) ,\\\\\n",
    " v = \\lambda/{2\\pi} e^{\\lambda x} \\sin(2 \\pi y) ,\\\\\n",
    " p = p_0-\\frac{1}{2}e^{2\\lambda x} ,\n",
    "\\end{array}\n",
    "\\right. \n",
    "\\end{equation}\n",
    "where $\\lambda = \\mathrm{Re}/2-\\sqrt{\\mathrm{Re}^2/4+4\\pi^2}$."
   ]
  },
  {
   "cell_type": "code",
   "execution_count": 23,
   "metadata": {},
   "outputs": [],
   "source": [
    "Lambda = Re/2 - sqrt(Re**2/4 + 4*pi**2)\n",
    "KF = {u: 1 - exp(Lambda*x)*cos(2*pi*y),\\\n",
    "      v: Lambda/(2*pi)*exp(Lambda*x)*sin(2*pi*y),\\\n",
    "      p: p0 - exp(2*Lambda*x)/2}"
   ]
  },
  {
   "cell_type": "markdown",
   "metadata": {},
   "source": [
    "\\begin{equation}\\label{4}\n",
    "\\left\\lbrace \n",
    "\\begin{array}{rl}\n",
    "F^1:& D_{1x}u^{n}_{j+l+m,\\,k+l} +D_{1y}v^{n}_{j+l+m,\\,k+l}=0 ,\\\\[4pt]\n",
    "F^2:& \\dfrac{u^{n+1}_{j+l,\\,k+l}-u^{n}_{j+l,\\,k+l}}{\\tau} + I_t\\left( u^{n}_{j+l,\\,k+l}D_{2x}u^{n}_{j+l,\\,k+l} + {}\\right. \\\\[4pt]\n",
    "&\\left. \\qquad {}+v^{n}_{j+l,\\,k+l}D_{2y}u^{n}_{j+l,\\,k+l}+D_{3x}p^{n}_{j+l,\\,k+l}-\\dfrac{1}{\\mathrm{Re}}\\bigtriangleup u^{n}_{j+l,\\,k+l}\\right) =0 ,\\\\[4pt]\n",
    "F^3:& \\dfrac{v^{n+1}_{j+l,\\,k+l}-v^{n}_{j+l,\\,k+l}}{\\tau} + I_t\\left( u^{n}_{j+l,\\,k+l}D_{2x}v^{n}_{j+l,\\,k+l} + {}\\right. \\\\[4pt]\n",
    "&\\left. \\qquad {}+v^{n}_{j+l,\\,k+l}D_{2y}v^{n}_{j+l,\\,k+l}+D_{3y}p^{n}_{j+l,\\,k+l}-\\dfrac{1}{\\mathrm{Re}}\\bigtriangleup v^{n}_{j+l,\\,k+l}\\right) =0 ,\\\\[4pt]\n",
    " F^4:& D_{1x}\\left(u^{n}_{j+l,\\,k+l}D_{2x}u^{n}_{j+l,\\,k+l}+v^{n}_{j+l,\\,k+l}D_{2y}u^{n}_{j+l,\\,k+l}\\right) + {} \\qquad \\\\[4pt]\n",
    "    & \\qquad {} +D_{1y}\\left(u^{n}_{j+l,\\,k+l}D_{2x}v^{n}_{j+l,\\,k+l}+v^{n}_{j+l,\\,k+l}D_{2y}v^{n}_{j+l,\\,k+l}\\right) + {} \\\\[4pt]\n",
    "    & \\hfill {}  +\\left( D_{1x}D_{3x}p^{n}_{j+l,\\,k+l} + D_{1y}D_{3y}p^{n}_{j+l,\\,k+l}\\right)  =0 .\n",
    "\\end{array}\n",
    "\\right. \n",
    "\\end{equation}"
   ]
  },
  {
   "cell_type": "code",
   "execution_count": 24,
   "metadata": {},
   "outputs": [
    {
     "data": {
      "text/latex": [
       "$\\displaystyle u_{x} + v_{y}$"
      ],
      "text/plain": [
       "u_{x} + v_{y}"
      ]
     },
     "metadata": {},
     "output_type": "display_data"
    },
    {
     "name": "stdout",
     "output_type": "stream",
     "text": [
      "tau =>\n"
     ]
    },
    {
     "data": {
      "text/latex": [
       "$\\displaystyle 0$"
      ],
      "text/plain": [
       "0"
      ]
     },
     "metadata": {},
     "output_type": "display_data"
    },
    {
     "name": "stdout",
     "output_type": "stream",
     "text": [
      "h^2 =>\n"
     ]
    },
    {
     "data": {
      "text/latex": [
       "$\\displaystyle \\frac{u_{xxx}}{6} + \\frac{v_{yyy}}{6}$"
      ],
      "text/plain": [
       "u_{xxx}/6 + v_{yyy}/6"
      ]
     },
     "metadata": {},
     "output_type": "display_data"
    },
    {
     "name": "stdout",
     "output_type": "stream",
     "text": [
      "-------------------------\n"
     ]
    },
    {
     "data": {
      "text/latex": [
       "$\\displaystyle u_{x} + v_{y}$"
      ],
      "text/plain": [
       "u_{x} + v_{y}"
      ]
     },
     "metadata": {},
     "output_type": "display_data"
    },
    {
     "name": "stdout",
     "output_type": "stream",
     "text": [
      "tau =>\n"
     ]
    },
    {
     "data": {
      "text/latex": [
       "$\\displaystyle 0$"
      ],
      "text/plain": [
       "0"
      ]
     },
     "metadata": {},
     "output_type": "display_data"
    },
    {
     "name": "stdout",
     "output_type": "stream",
     "text": [
      "h^2 =>\n"
     ]
    },
    {
     "data": {
      "text/latex": [
       "$\\displaystyle - \\frac{Re p_{yy}}{6} - \\frac{Re u v_{xy}}{6} - \\frac{Re u_{y} v_{x}}{6} - \\frac{Re v v_{yy}}{6} - \\frac{Re v_{ty}}{6} - \\frac{Re v_{y}^{2}}{6} + \\frac{v_{yyy}}{3}$"
      ],
      "text/plain": [
       "-Re*p_{yy}/6 - Re*u*v_{xy}/6 - Re*u_{y}*v_{x}/6 - Re*v*v_{yy}/6 - Re*v_{ty}/6 - Re*v_{y}**2/6 + v_{yyy}/3"
      ]
     },
     "metadata": {},
     "output_type": "display_data"
    },
    {
     "name": "stdout",
     "output_type": "stream",
     "text": [
      "u_{x} + v_{y}\n",
      "+\\tau\\big(\n",
      "0\n",
      "\\big)\n",
      "+h^2\\big(\n",
      "- \\frac{Re p_{yy}}{6} - \\frac{Re u v_{xy}}{6} - \\frac{Re u_{y} v_{x}}{6} - \\frac{Re v v_{yy}}{6} - \\frac{Re v_{ty}}{6} - \\frac{Re v_{y}^{2}}{6} + \\frac{v_{yyy}}{3}\n",
      "\\big)\n"
     ]
    },
    {
     "data": {
      "text/latex": [
       "$\\displaystyle 0$"
      ],
      "text/plain": [
       "0"
      ]
     },
     "metadata": {},
     "output_type": "display_data"
    },
    {
     "name": "stdout",
     "output_type": "stream",
     "text": [
      "tau =>\n"
     ]
    },
    {
     "data": {
      "text/latex": [
       "$\\displaystyle 0$"
      ],
      "text/plain": [
       "0"
      ]
     },
     "metadata": {},
     "output_type": "display_data"
    },
    {
     "name": "stdout",
     "output_type": "stream",
     "text": [
      "h^2 =>\n"
     ]
    },
    {
     "data": {
      "text/latex": [
       "$\\displaystyle 0$"
      ],
      "text/plain": [
       "0"
      ]
     },
     "metadata": {},
     "output_type": "display_data"
    },
    {
     "name": "stdout",
     "output_type": "stream",
     "text": [
      "0\n",
      "+\\tau\\big(\n",
      "0\n",
      "\\big)\n",
      "+h^2\\big(\n",
      "0\n",
      "\\big)\n"
     ]
    },
    {
     "data": {
      "text/latex": [
       "$\\displaystyle 0$"
      ],
      "text/plain": [
       "0"
      ]
     },
     "metadata": {},
     "output_type": "display_data"
    },
    {
     "name": "stdout",
     "output_type": "stream",
     "text": [
      "tau =>\n"
     ]
    },
    {
     "data": {
      "text/latex": [
       "$\\displaystyle 0$"
      ],
      "text/plain": [
       "0"
      ]
     },
     "metadata": {},
     "output_type": "display_data"
    },
    {
     "name": "stdout",
     "output_type": "stream",
     "text": [
      "h^2 =>\n"
     ]
    },
    {
     "data": {
      "text/latex": [
       "$\\displaystyle \\frac{\\left(- Re^{3} + Re^{2} \\sqrt{Re^{2} + 16 \\pi^{2}} - 16 \\pi^{2} Re + 8 \\pi^{2} \\sqrt{Re^{2} + 16 \\pi^{2}}\\right) e^{\\frac{x \\left(Re - \\sqrt{Re^{2} + 16 \\pi^{2}}\\right)}{2}} \\cos{\\left(2 \\pi y \\right)}}{12}$"
      ],
      "text/plain": [
       "(-Re**3 + Re**2*sqrt(Re**2 + 16*pi**2) - 16*pi**2*Re + 8*pi**2*sqrt(Re**2 + 16*pi**2))*exp(x*(Re - sqrt(Re**2 + 16*pi**2))/2)*cos(2*pi*y)/12"
      ]
     },
     "metadata": {},
     "output_type": "display_data"
    },
    {
     "name": "stdout",
     "output_type": "stream",
     "text": [
      "0\n",
      "+\\tau\\big(\n",
      "0\n",
      "\\big)\n",
      "+h^2\\big(\n",
      "\\frac{\\left(- Re^{3} + Re^{2} \\sqrt{Re^{2} + 16 \\pi^{2}} - 16 \\pi^{2} Re + 8 \\pi^{2} \\sqrt{Re^{2} + 16 \\pi^{2}}\\right) e^{\\frac{x \\left(Re - \\sqrt{Re^{2} + 16 \\pi^{2}}\\right)}{2}} \\cos{\\left(2 \\pi y \\right)}}{12}\n",
      "\\big)\n"
     ]
    },
    {
     "data": {
      "text/latex": [
       "$\\displaystyle p_{x} + u u_{x} + u_{t} + u_{y} v - \\frac{u_{xx}}{Re} - \\frac{u_{yy}}{Re}$"
      ],
      "text/plain": [
       "p_{x} + u*u_{x} + u_{t} + u_{y}*v - u_{xx}/Re - u_{yy}/Re"
      ]
     },
     "metadata": {},
     "output_type": "display_data"
    },
    {
     "name": "stdout",
     "output_type": "stream",
     "text": [
      "tau =>\n"
     ]
    },
    {
     "data": {
      "text/latex": [
       "$\\displaystyle \\frac{u_{tt}}{2}$"
      ],
      "text/plain": [
       "u_{tt}/2"
      ]
     },
     "metadata": {},
     "output_type": "display_data"
    },
    {
     "name": "stdout",
     "output_type": "stream",
     "text": [
      "h^2 =>\n"
     ]
    },
    {
     "data": {
      "text/latex": [
       "$\\displaystyle \\frac{p_{xxx}}{6} + \\frac{u u_{xxx}}{6} + \\frac{u_{yyy} v}{6} - \\frac{u_{xxxx}}{12 Re} - \\frac{u_{yyyy}}{12 Re}$"
      ],
      "text/plain": [
       "p_{xxx}/6 + u*u_{xxx}/6 + u_{yyy}*v/6 - u_{xxxx}/(12*Re) - u_{yyyy}/(12*Re)"
      ]
     },
     "metadata": {},
     "output_type": "display_data"
    },
    {
     "name": "stdout",
     "output_type": "stream",
     "text": [
      "-------------------------\n"
     ]
    },
    {
     "data": {
      "text/latex": [
       "$\\displaystyle p_{x} + u u_{x} + u_{t} + u_{y} v - \\frac{u_{xx}}{Re} - \\frac{u_{yy}}{Re}$"
      ],
      "text/plain": [
       "p_{x} + u*u_{x} + u_{t} + u_{y}*v - u_{xx}/Re - u_{yy}/Re"
      ]
     },
     "metadata": {},
     "output_type": "display_data"
    },
    {
     "name": "stdout",
     "output_type": "stream",
     "text": [
      "tau =>\n"
     ]
    },
    {
     "data": {
      "text/latex": [
       "$\\displaystyle \\frac{u_{tt}}{2}$"
      ],
      "text/plain": [
       "u_{tt}/2"
      ]
     },
     "metadata": {},
     "output_type": "display_data"
    },
    {
     "name": "stdout",
     "output_type": "stream",
     "text": [
      "h^2 =>\n"
     ]
    },
    {
     "data": {
      "text/latex": [
       "$\\displaystyle \\frac{Re^{2} p_{x} v^{2}}{12} - \\frac{Re^{2} u v^{2} v_{y}}{12} + \\frac{Re^{2} u_{t} v^{2}}{12} + \\frac{Re^{2} u_{y} v^{3}}{12} - \\frac{Re p_{tx}}{12} + \\frac{Re p_{xy} v}{12} - \\frac{Re p_{x} v_{y}}{12} - \\frac{Re p_{yy} u}{12} - \\frac{Re p_{y} u_{y}}{4} - \\frac{Re u^{2} v_{xy}}{12} - \\frac{Re u u_{y} v_{x}}{3} - \\frac{Re u v v_{yy}}{6} - \\frac{Re u_{tt}}{12} - \\frac{Re u_{y} v v_{y}}{3} - \\frac{Re u_{y} v_{t}}{3} + \\frac{Re v^{2} v_{xy}}{12} - \\frac{p_{xyy}}{6} + \\frac{u v_{yyy}}{6} + \\frac{u_{y} v_{yy}}{3} + \\frac{v v_{xyy}}{6} - \\frac{2 v_{xy} v_{y}}{3} + \\frac{v_{x} v_{yy}}{3} - \\frac{v_{xyyy}}{6 Re}$"
      ],
      "text/plain": [
       "Re**2*p_{x}*v**2/12 - Re**2*u*v**2*v_{y}/12 + Re**2*u_{t}*v**2/12 + Re**2*u_{y}*v**3/12 - Re*p_{tx}/12 + Re*p_{xy}*v/12 - Re*p_{x}*v_{y}/12 - Re*p_{yy}*u/12 - Re*p_{y}*u_{y}/4 - Re*u**2*v_{xy}/12 - Re*u*u_{y}*v_{x}/3 - Re*u*v*v_{yy}/6 - Re*u_{tt}/12 - Re*u_{y}*v*v_{y}/3 - Re*u_{y}*v_{t}/3 + Re*v**2*v_{xy}/12 - p_{xyy}/6 + u*v_{yyy}/6 + u_{y}*v_{yy}/3 + v*v_{xyy}/6 - 2*v_{xy}*v_{y}/3 + v_{x}*v_{yy}/3 - v_{xyyy}/(6*Re)"
      ]
     },
     "metadata": {},
     "output_type": "display_data"
    },
    {
     "name": "stdout",
     "output_type": "stream",
     "text": [
      "p_{x} + u u_{x} + u_{t} + u_{y} v - \\frac{u_{xx}}{Re} - \\frac{u_{yy}}{Re}\n",
      "+\\tau\\big(\n",
      "\\frac{u_{tt}}{2}\n",
      "\\big)\n",
      "+h^2\\big(\n",
      "\\frac{Re^{2} p_{x} v^{2}}{12} - \\frac{Re^{2} u v^{2} v_{y}}{12} + \\frac{Re^{2} u_{t} v^{2}}{12} + \\frac{Re^{2} u_{y} v^{3}}{12} - \\frac{Re p_{tx}}{12} + \\frac{Re p_{xy} v}{12} - \\frac{Re p_{x} v_{y}}{12} - \\frac{Re p_{yy} u}{12} - \\frac{Re p_{y} u_{y}}{4} - \\frac{Re u^{2} v_{xy}}{12} - \\frac{Re u u_{y} v_{x}}{3} - \\frac{Re u v v_{yy}}{6} - \\frac{Re u_{tt}}{12} - \\frac{Re u_{y} v v_{y}}{3} - \\frac{Re u_{y} v_{t}}{3} + \\frac{Re v^{2} v_{xy}}{12} - \\frac{p_{xyy}}{6} + \\frac{u v_{yyy}}{6} + \\frac{u_{y} v_{yy}}{3} + \\frac{v v_{xyy}}{6} - \\frac{2 v_{xy} v_{y}}{3} + \\frac{v_{x} v_{yy}}{3} - \\frac{v_{xyyy}}{6 Re}\n",
      "\\big)\n"
     ]
    },
    {
     "data": {
      "text/latex": [
       "$\\displaystyle 0$"
      ],
      "text/plain": [
       "0"
      ]
     },
     "metadata": {},
     "output_type": "display_data"
    },
    {
     "name": "stdout",
     "output_type": "stream",
     "text": [
      "tau =>\n"
     ]
    },
    {
     "data": {
      "text/latex": [
       "$\\displaystyle - \\frac{2 e^{- \\frac{2 t}{Re}} \\sin{\\left(y \\right)} \\cos{\\left(x \\right)}}{Re^{2}}$"
      ],
      "text/plain": [
       "-2*exp(-2*t/Re)*sin(y)*cos(x)/Re**2"
      ]
     },
     "metadata": {},
     "output_type": "display_data"
    },
    {
     "name": "stdout",
     "output_type": "stream",
     "text": [
      "h^2 =>\n"
     ]
    },
    {
     "data": {
      "text/latex": [
       "$\\displaystyle \\frac{\\left(- 3 Re \\sin{\\left(x \\right)} + e^{\\frac{2 t}{Re}} \\sin{\\left(y \\right)}\\right) e^{- \\frac{4 t}{Re}} \\cos{\\left(x \\right)}}{6 Re}$"
      ],
      "text/plain": [
       "(-3*Re*sin(x) + exp(2*t/Re)*sin(y))*exp(-4*t/Re)*cos(x)/(6*Re)"
      ]
     },
     "metadata": {},
     "output_type": "display_data"
    },
    {
     "name": "stdout",
     "output_type": "stream",
     "text": [
      "0\n",
      "+\\tau\\big(\n",
      "- \\frac{2 e^{- \\frac{2 t}{Re}} \\sin{\\left(y \\right)} \\cos{\\left(x \\right)}}{Re^{2}}\n",
      "\\big)\n",
      "+h^2\\big(\n",
      "\\frac{\\left(- 3 Re \\sin{\\left(x \\right)} + e^{\\frac{2 t}{Re}} \\sin{\\left(y \\right)}\\right) e^{- \\frac{4 t}{Re}} \\cos{\\left(x \\right)}}{6 Re}\n",
      "\\big)\n"
     ]
    },
    {
     "data": {
      "text/latex": [
       "$\\displaystyle 0$"
      ],
      "text/plain": [
       "0"
      ]
     },
     "metadata": {},
     "output_type": "display_data"
    },
    {
     "name": "stdout",
     "output_type": "stream",
     "text": [
      "tau =>\n"
     ]
    },
    {
     "data": {
      "text/latex": [
       "$\\displaystyle 0$"
      ],
      "text/plain": [
       "0"
      ]
     },
     "metadata": {},
     "output_type": "display_data"
    },
    {
     "name": "stdout",
     "output_type": "stream",
     "text": [
      "h^2 =>\n"
     ]
    },
    {
     "data": {
      "text/latex": [
       "$\\displaystyle \\frac{\\left(Re^{2} \\left(- Re^{2} + Re \\sqrt{Re^{2} + 16 \\pi^{2}} - 8 \\pi^{2}\\right) e^{x \\left(\\frac{Re}{2} + 7 \\sqrt{Re^{2} + 16 \\pi^{2}}\\right)} \\cos{\\left(2 \\pi y \\right)} + 2 Re \\left(- 4 Re^{3} \\sin^{2}{\\left(2 \\pi y \\right)} - 3 Re^{3} \\cos^{2}{\\left(2 \\pi y \\right)} + 4 Re^{2} \\sqrt{Re^{2} + 16 \\pi^{2}} \\sin^{2}{\\left(2 \\pi y \\right)} + 3 Re^{2} \\sqrt{Re^{2} + 16 \\pi^{2}} \\cos^{2}{\\left(2 \\pi y \\right)} - 52 \\pi^{2} Re \\sin^{2}{\\left(2 \\pi y \\right)} - 36 \\pi^{2} Re \\cos^{2}{\\left(2 \\pi y \\right)} + 20 \\pi^{2} \\sqrt{Re^{2} + 16 \\pi^{2}} \\sin^{2}{\\left(2 \\pi y \\right)} + 12 \\pi^{2} \\sqrt{Re^{2} + 16 \\pi^{2}} \\cos^{2}{\\left(2 \\pi y \\right)}\\right) e^{x \\left(Re + \\frac{13 \\sqrt{Re^{2} + 16 \\pi^{2}}}{2}\\right)} + 64 \\pi^{4} e^{\\frac{x \\left(Re + 14 \\sqrt{Re^{2} + 16 \\pi^{2}}\\right)}{2}} \\cos{\\left(2 \\pi y \\right)}\\right) e^{- \\frac{15 x \\sqrt{Re^{2} + 16 \\pi^{2}}}{2}}}{24 Re}$"
      ],
      "text/plain": [
       "(Re**2*(-Re**2 + Re*sqrt(Re**2 + 16*pi**2) - 8*pi**2)*exp(x*(Re/2 + 7*sqrt(Re**2 + 16*pi**2)))*cos(2*pi*y) + 2*Re*(-4*Re**3*sin(2*pi*y)**2 - 3*Re**3*cos(2*pi*y)**2 + 4*Re**2*sqrt(Re**2 + 16*pi**2)*sin(2*pi*y)**2 + 3*Re**2*sqrt(Re**2 + 16*pi**2)*cos(2*pi*y)**2 - 52*pi**2*Re*sin(2*pi*y)**2 - 36*pi**2*Re*cos(2*pi*y)**2 + 20*pi**2*sqrt(Re**2 + 16*pi**2)*sin(2*pi*y)**2 + 12*pi**2*sqrt(Re**2 + 16*pi**2)*cos(2*pi*y)**2)*exp(x*(Re + 13*sqrt(Re**2 + 16*pi**2)/2)) + 64*pi**4*exp(x*(Re + 14*sqrt(Re**2 + 16*pi**2))/2)*cos(2*pi*y))*exp(-15*x*sqrt(Re**2 + 16*pi**2)/2)/(24*Re)"
      ]
     },
     "metadata": {},
     "output_type": "display_data"
    },
    {
     "name": "stdout",
     "output_type": "stream",
     "text": [
      "0\n",
      "+\\tau\\big(\n",
      "0\n",
      "\\big)\n",
      "+h^2\\big(\n",
      "\\frac{\\left(Re^{2} \\left(- Re^{2} + Re \\sqrt{Re^{2} + 16 \\pi^{2}} - 8 \\pi^{2}\\right) e^{x \\left(\\frac{Re}{2} + 7 \\sqrt{Re^{2} + 16 \\pi^{2}}\\right)} \\cos{\\left(2 \\pi y \\right)} + 2 Re \\left(- 4 Re^{3} \\sin^{2}{\\left(2 \\pi y \\right)} - 3 Re^{3} \\cos^{2}{\\left(2 \\pi y \\right)} + 4 Re^{2} \\sqrt{Re^{2} + 16 \\pi^{2}} \\sin^{2}{\\left(2 \\pi y \\right)} + 3 Re^{2} \\sqrt{Re^{2} + 16 \\pi^{2}} \\cos^{2}{\\left(2 \\pi y \\right)} - 52 \\pi^{2} Re \\sin^{2}{\\left(2 \\pi y \\right)} - 36 \\pi^{2} Re \\cos^{2}{\\left(2 \\pi y \\right)} + 20 \\pi^{2} \\sqrt{Re^{2} + 16 \\pi^{2}} \\sin^{2}{\\left(2 \\pi y \\right)} + 12 \\pi^{2} \\sqrt{Re^{2} + 16 \\pi^{2}} \\cos^{2}{\\left(2 \\pi y \\right)}\\right) e^{x \\left(Re + \\frac{13 \\sqrt{Re^{2} + 16 \\pi^{2}}}{2}\\right)} + 64 \\pi^{4} e^{\\frac{x \\left(Re + 14 \\sqrt{Re^{2} + 16 \\pi^{2}}\\right)}{2}} \\cos{\\left(2 \\pi y \\right)}\\right) e^{- \\frac{15 x \\sqrt{Re^{2} + 16 \\pi^{2}}}{2}}}{24 Re}\n",
      "\\big)\n"
     ]
    },
    {
     "data": {
      "text/latex": [
       "$\\displaystyle p_{y} + u v_{x} + v v_{y} + v_{t} - \\frac{v_{xx}}{Re} - \\frac{v_{yy}}{Re}$"
      ],
      "text/plain": [
       "p_{y} + u*v_{x} + v*v_{y} + v_{t} - v_{xx}/Re - v_{yy}/Re"
      ]
     },
     "metadata": {},
     "output_type": "display_data"
    },
    {
     "name": "stdout",
     "output_type": "stream",
     "text": [
      "tau =>\n"
     ]
    },
    {
     "data": {
      "text/latex": [
       "$\\displaystyle \\frac{v_{tt}}{2}$"
      ],
      "text/plain": [
       "v_{tt}/2"
      ]
     },
     "metadata": {},
     "output_type": "display_data"
    },
    {
     "name": "stdout",
     "output_type": "stream",
     "text": [
      "h^2 =>\n"
     ]
    },
    {
     "data": {
      "text/latex": [
       "$\\displaystyle \\frac{p_{yyy}}{6} + \\frac{u v_{xxx}}{6} + \\frac{v v_{yyy}}{6} - \\frac{v_{xxxx}}{12 Re} - \\frac{v_{yyyy}}{12 Re}$"
      ],
      "text/plain": [
       "p_{yyy}/6 + u*v_{xxx}/6 + v*v_{yyy}/6 - v_{xxxx}/(12*Re) - v_{yyyy}/(12*Re)"
      ]
     },
     "metadata": {},
     "output_type": "display_data"
    },
    {
     "name": "stdout",
     "output_type": "stream",
     "text": [
      "-------------------------\n"
     ]
    },
    {
     "data": {
      "text/latex": [
       "$\\displaystyle p_{y} + u v_{x} + v v_{y} + v_{t} - \\frac{v_{xx}}{Re} - \\frac{v_{yy}}{Re}$"
      ],
      "text/plain": [
       "p_{y} + u*v_{x} + v*v_{y} + v_{t} - v_{xx}/Re - v_{yy}/Re"
      ]
     },
     "metadata": {},
     "output_type": "display_data"
    },
    {
     "name": "stdout",
     "output_type": "stream",
     "text": [
      "tau =>\n"
     ]
    },
    {
     "data": {
      "text/latex": [
       "$\\displaystyle \\frac{v_{tt}}{2}$"
      ],
      "text/plain": [
       "v_{tt}/2"
      ]
     },
     "metadata": {},
     "output_type": "display_data"
    },
    {
     "name": "stdout",
     "output_type": "stream",
     "text": [
      "h^2 =>\n"
     ]
    },
    {
     "data": {
      "text/latex": [
       "$\\displaystyle \\frac{Re^{2} p_{y} u^{2}}{12} + \\frac{Re^{2} u^{3} v_{x}}{12} + \\frac{Re^{2} u^{2} v v_{y}}{12} + \\frac{Re^{2} u^{2} v_{t}}{12} - \\frac{Re p_{ty}}{12} + \\frac{Re p_{xy} u}{12} + \\frac{Re p_{x} v_{x}}{4} - \\frac{Re p_{yy} v}{12} + \\frac{Re p_{y} v_{y}}{12} - \\frac{Re u^{2} v_{yy}}{12} - \\frac{Re u v_{x} v_{y}}{6} + \\frac{Re u_{t} v_{x}}{6} + \\frac{Re u_{y} v v_{x}}{6} - \\frac{Re v^{2} v_{yy}}{12} - \\frac{Re v v_{ty}}{6} - \\frac{Re v_{tt}}{12} + \\frac{p_{yyy}}{3} + \\frac{u_{y} v_{xy}}{3} + \\frac{v v_{yyy}}{3} + \\frac{v_{tyy}}{6} + \\frac{v_{xy} v_{x}}{6} + \\frac{v_{yy} v_{y}}{2} - \\frac{v_{yyyy}}{6 Re}$"
      ],
      "text/plain": [
       "Re**2*p_{y}*u**2/12 + Re**2*u**3*v_{x}/12 + Re**2*u**2*v*v_{y}/12 + Re**2*u**2*v_{t}/12 - Re*p_{ty}/12 + Re*p_{xy}*u/12 + Re*p_{x}*v_{x}/4 - Re*p_{yy}*v/12 + Re*p_{y}*v_{y}/12 - Re*u**2*v_{yy}/12 - Re*u*v_{x}*v_{y}/6 + Re*u_{t}*v_{x}/6 + Re*u_{y}*v*v_{x}/6 - Re*v**2*v_{yy}/12 - Re*v*v_{ty}/6 - Re*v_{tt}/12 + p_{yyy}/3 + u_{y}*v_{xy}/3 + v*v_{yyy}/3 + v_{tyy}/6 + v_{xy}*v_{x}/6 + v_{yy}*v_{y}/2 - v_{yyyy}/(6*Re)"
      ]
     },
     "metadata": {},
     "output_type": "display_data"
    },
    {
     "name": "stdout",
     "output_type": "stream",
     "text": [
      "p_{y} + u v_{x} + v v_{y} + v_{t} - \\frac{v_{xx}}{Re} - \\frac{v_{yy}}{Re}\n",
      "+\\tau\\big(\n",
      "\\frac{v_{tt}}{2}\n",
      "\\big)\n",
      "+h^2\\big(\n",
      "\\frac{Re^{2} p_{y} u^{2}}{12} + \\frac{Re^{2} u^{3} v_{x}}{12} + \\frac{Re^{2} u^{2} v v_{y}}{12} + \\frac{Re^{2} u^{2} v_{t}}{12} - \\frac{Re p_{ty}}{12} + \\frac{Re p_{xy} u}{12} + \\frac{Re p_{x} v_{x}}{4} - \\frac{Re p_{yy} v}{12} + \\frac{Re p_{y} v_{y}}{12} - \\frac{Re u^{2} v_{yy}}{12} - \\frac{Re u v_{x} v_{y}}{6} + \\frac{Re u_{t} v_{x}}{6} + \\frac{Re u_{y} v v_{x}}{6} - \\frac{Re v^{2} v_{yy}}{12} - \\frac{Re v v_{ty}}{6} - \\frac{Re v_{tt}}{12} + \\frac{p_{yyy}}{3} + \\frac{u_{y} v_{xy}}{3} + \\frac{v v_{yyy}}{3} + \\frac{v_{tyy}}{6} + \\frac{v_{xy} v_{x}}{6} + \\frac{v_{yy} v_{y}}{2} - \\frac{v_{yyyy}}{6 Re}\n",
      "\\big)\n"
     ]
    },
    {
     "data": {
      "text/latex": [
       "$\\displaystyle 0$"
      ],
      "text/plain": [
       "0"
      ]
     },
     "metadata": {},
     "output_type": "display_data"
    },
    {
     "name": "stdout",
     "output_type": "stream",
     "text": [
      "tau =>\n"
     ]
    },
    {
     "data": {
      "text/latex": [
       "$\\displaystyle \\frac{2 e^{- \\frac{2 t}{Re}} \\sin{\\left(x \\right)} \\cos{\\left(y \\right)}}{Re^{2}}$"
      ],
      "text/plain": [
       "2*exp(-2*t/Re)*sin(x)*cos(y)/Re**2"
      ]
     },
     "metadata": {},
     "output_type": "display_data"
    },
    {
     "name": "stdout",
     "output_type": "stream",
     "text": [
      "h^2 =>\n"
     ]
    },
    {
     "data": {
      "text/latex": [
       "$\\displaystyle - \\frac{\\left(3 Re \\sin{\\left(y \\right)} + e^{\\frac{2 t}{Re}} \\sin{\\left(x \\right)}\\right) e^{- \\frac{4 t}{Re}} \\cos{\\left(y \\right)}}{6 Re}$"
      ],
      "text/plain": [
       "-(3*Re*sin(y) + exp(2*t/Re)*sin(x))*exp(-4*t/Re)*cos(y)/(6*Re)"
      ]
     },
     "metadata": {},
     "output_type": "display_data"
    },
    {
     "name": "stdout",
     "output_type": "stream",
     "text": [
      "0\n",
      "+\\tau\\big(\n",
      "\\frac{2 e^{- \\frac{2 t}{Re}} \\sin{\\left(x \\right)} \\cos{\\left(y \\right)}}{Re^{2}}\n",
      "\\big)\n",
      "+h^2\\big(\n",
      "- \\frac{\\left(3 Re \\sin{\\left(y \\right)} + e^{\\frac{2 t}{Re}} \\sin{\\left(x \\right)}\\right) e^{- \\frac{4 t}{Re}} \\cos{\\left(y \\right)}}{6 Re}\n",
      "\\big)\n"
     ]
    },
    {
     "data": {
      "text/latex": [
       "$\\displaystyle 0$"
      ],
      "text/plain": [
       "0"
      ]
     },
     "metadata": {},
     "output_type": "display_data"
    },
    {
     "name": "stdout",
     "output_type": "stream",
     "text": [
      "tau =>\n"
     ]
    },
    {
     "data": {
      "text/latex": [
       "$\\displaystyle 0$"
      ],
      "text/plain": [
       "0"
      ]
     },
     "metadata": {},
     "output_type": "display_data"
    },
    {
     "name": "stdout",
     "output_type": "stream",
     "text": [
      "h^2 =>\n"
     ]
    },
    {
     "data": {
      "text/latex": [
       "$\\displaystyle \\frac{\\left(2 Re^{4} \\left(- Re + \\sqrt{Re^{2} + 16 \\pi^{2}}\\right) e^{x \\left(Re + \\frac{11 \\sqrt{Re^{2} + 16 \\pi^{2}}}{2}\\right)} \\cos{\\left(2 \\pi y \\right)} + Re^{4} \\left(Re - \\sqrt{Re^{2} + 16 \\pi^{2}}\\right) e^{x \\left(\\frac{Re}{2} + 6 \\sqrt{Re^{2} + 16 \\pi^{2}}\\right)} + 8 \\pi^{2} Re \\left(- 5 Re^{2} + 3 Re \\sqrt{Re^{2} + 16 \\pi^{2}} - 16 \\pi^{2}\\right) e^{x \\left(Re + \\frac{11 \\sqrt{Re^{2} + 16 \\pi^{2}}}{2}\\right)} \\cos{\\left(2 \\pi y \\right)} + 4 \\pi^{2} Re \\left(3 Re^{2} - Re \\sqrt{Re^{2} + 16 \\pi^{2}} - 8 \\pi^{2}\\right) e^{x \\left(\\frac{Re}{2} + 6 \\sqrt{Re^{2} + 16 \\pi^{2}}\\right)} + 32 \\pi^{4} \\sqrt{Re^{2} + 16 \\pi^{2}} e^{\\frac{x \\left(Re + 12 \\sqrt{Re^{2} + 16 \\pi^{2}}\\right)}{2}}\\right) e^{- \\frac{13 x \\sqrt{Re^{2} + 16 \\pi^{2}}}{2}} \\sin{\\left(2 \\pi y \\right)}}{48 \\pi Re}$"
      ],
      "text/plain": [
       "(2*Re**4*(-Re + sqrt(Re**2 + 16*pi**2))*exp(x*(Re + 11*sqrt(Re**2 + 16*pi**2)/2))*cos(2*pi*y) + Re**4*(Re - sqrt(Re**2 + 16*pi**2))*exp(x*(Re/2 + 6*sqrt(Re**2 + 16*pi**2))) + 8*pi**2*Re*(-5*Re**2 + 3*Re*sqrt(Re**2 + 16*pi**2) - 16*pi**2)*exp(x*(Re + 11*sqrt(Re**2 + 16*pi**2)/2))*cos(2*pi*y) + 4*pi**2*Re*(3*Re**2 - Re*sqrt(Re**2 + 16*pi**2) - 8*pi**2)*exp(x*(Re/2 + 6*sqrt(Re**2 + 16*pi**2))) + 32*pi**4*sqrt(Re**2 + 16*pi**2)*exp(x*(Re + 12*sqrt(Re**2 + 16*pi**2))/2))*exp(-13*x*sqrt(Re**2 + 16*pi**2)/2)*sin(2*pi*y)/(48*pi*Re)"
      ]
     },
     "metadata": {},
     "output_type": "display_data"
    },
    {
     "name": "stdout",
     "output_type": "stream",
     "text": [
      "0\n",
      "+\\tau\\big(\n",
      "0\n",
      "\\big)\n",
      "+h^2\\big(\n",
      "\\frac{\\left(2 Re^{4} \\left(- Re + \\sqrt{Re^{2} + 16 \\pi^{2}}\\right) e^{x \\left(Re + \\frac{11 \\sqrt{Re^{2} + 16 \\pi^{2}}}{2}\\right)} \\cos{\\left(2 \\pi y \\right)} + Re^{4} \\left(Re - \\sqrt{Re^{2} + 16 \\pi^{2}}\\right) e^{x \\left(\\frac{Re}{2} + 6 \\sqrt{Re^{2} + 16 \\pi^{2}}\\right)} + 8 \\pi^{2} Re \\left(- 5 Re^{2} + 3 Re \\sqrt{Re^{2} + 16 \\pi^{2}} - 16 \\pi^{2}\\right) e^{x \\left(Re + \\frac{11 \\sqrt{Re^{2} + 16 \\pi^{2}}}{2}\\right)} \\cos{\\left(2 \\pi y \\right)} + 4 \\pi^{2} Re \\left(3 Re^{2} - Re \\sqrt{Re^{2} + 16 \\pi^{2}} - 8 \\pi^{2}\\right) e^{x \\left(\\frac{Re}{2} + 6 \\sqrt{Re^{2} + 16 \\pi^{2}}\\right)} + 32 \\pi^{4} \\sqrt{Re^{2} + 16 \\pi^{2}} e^{\\frac{x \\left(Re + 12 \\sqrt{Re^{2} + 16 \\pi^{2}}\\right)}{2}}\\right) e^{- \\frac{13 x \\sqrt{Re^{2} + 16 \\pi^{2}}}{2}} \\sin{\\left(2 \\pi y \\right)}}{48 \\pi Re}\n",
      "\\big)\n"
     ]
    },
    {
     "data": {
      "text/latex": [
       "$\\displaystyle p_{xx} + p_{yy} + u u_{xx} + u v_{xy} + u_{xy} v + u_{x}^{2} + 2 u_{y} v_{x} + v v_{yy} + v_{y}^{2}$"
      ],
      "text/plain": [
       "p_{xx} + p_{yy} + u*u_{xx} + u*v_{xy} + u_{xy}*v + u_{x}**2 + 2*u_{y}*v_{x} + v*v_{yy} + v_{y}**2"
      ]
     },
     "metadata": {},
     "output_type": "display_data"
    },
    {
     "name": "stdout",
     "output_type": "stream",
     "text": [
      "tau =>\n"
     ]
    },
    {
     "data": {
      "text/latex": [
       "$\\displaystyle 0$"
      ],
      "text/plain": [
       "0"
      ]
     },
     "metadata": {},
     "output_type": "display_data"
    },
    {
     "name": "stdout",
     "output_type": "stream",
     "text": [
      "h^2 =>\n"
     ]
    },
    {
     "data": {
      "text/latex": [
       "$\\displaystyle \\frac{p_{xxxx}}{3} + \\frac{p_{yyyy}}{3} + \\frac{u u_{xxxx}}{3} + \\frac{u v_{xxxy}}{6} + \\frac{u v_{xyyy}}{6} + \\frac{u_{xxxy} v}{6} + \\frac{5 u_{xxx} u_{x}}{6} + \\frac{u_{xxy} v_{x}}{2} + \\frac{u_{xx}^{2}}{2} + \\frac{u_{xyyy} v}{6} + \\frac{u_{xy} v_{xx}}{2} + \\frac{u_{yyy} v_{x}}{3} + \\frac{u_{yy} v_{xy}}{2} + \\frac{u_{y} v_{xxx}}{3} + \\frac{u_{y} v_{xyy}}{2} + \\frac{v v_{yyyy}}{3} + \\frac{5 v_{yyy} v_{y}}{6} + \\frac{v_{yy}^{2}}{2}$"
      ],
      "text/plain": [
       "p_{xxxx}/3 + p_{yyyy}/3 + u*u_{xxxx}/3 + u*v_{xxxy}/6 + u*v_{xyyy}/6 + u_{xxxy}*v/6 + 5*u_{xxx}*u_{x}/6 + u_{xxy}*v_{x}/2 + u_{xx}**2/2 + u_{xyyy}*v/6 + u_{xy}*v_{xx}/2 + u_{yyy}*v_{x}/3 + u_{yy}*v_{xy}/2 + u_{y}*v_{xxx}/3 + u_{y}*v_{xyy}/2 + v*v_{yyyy}/3 + 5*v_{yyy}*v_{y}/6 + v_{yy}**2/2"
      ]
     },
     "metadata": {},
     "output_type": "display_data"
    },
    {
     "name": "stdout",
     "output_type": "stream",
     "text": [
      "-------------------------\n"
     ]
    },
    {
     "data": {
      "text/latex": [
       "$\\displaystyle p_{xx} + p_{yy} + u u_{xx} + u v_{xy} + u_{xy} v + u_{x}^{2} + 2 u_{y} v_{x} + v v_{yy} + v_{y}^{2}$"
      ],
      "text/plain": [
       "p_{xx} + p_{yy} + u*u_{xx} + u*v_{xy} + u_{xy}*v + u_{x}**2 + 2*u_{y}*v_{x} + v*v_{yy} + v_{y}**2"
      ]
     },
     "metadata": {},
     "output_type": "display_data"
    },
    {
     "name": "stdout",
     "output_type": "stream",
     "text": [
      "tau =>\n"
     ]
    },
    {
     "data": {
      "text/latex": [
       "$\\displaystyle 0$"
      ],
      "text/plain": [
       "0"
      ]
     },
     "metadata": {},
     "output_type": "display_data"
    },
    {
     "name": "stdout",
     "output_type": "stream",
     "text": [
      "h^2 =>\n"
     ]
    },
    {
     "data": {
      "text/latex": [
       "$\\displaystyle \\frac{5 Re^{2} p_{x} v v_{x}}{6} - \\frac{Re^{2} p_{yy} u^{2}}{6} - \\frac{Re^{2} p_{y} u u_{y}}{2} - \\frac{Re^{2} u^{3} v_{xy}}{6} - \\frac{2 Re^{2} u^{2} u_{y} v_{x}}{3} - \\frac{Re^{2} u^{2} v v_{yy}}{6} - \\frac{Re^{2} u^{2} v_{ty}}{6} - \\frac{Re^{2} u^{2} v_{y}^{2}}{6} - \\frac{Re^{2} u u_{y} v v_{y}}{2} - \\frac{Re^{2} u u_{y} v_{t}}{2} - \\frac{5 Re^{2} u v v_{x} v_{y}}{6} + \\frac{5 Re^{2} u_{t} v v_{x}}{6} + \\frac{5 Re^{2} u_{y} v^{2} v_{x}}{6} - \\frac{Re p_{xyy} u}{6} - \\frac{Re p_{xy} u_{y}}{3} + Re p_{xy} v_{x} + \\frac{11 Re p_{x} v_{xy}}{6} - \\frac{Re p_{yyy} v}{6} - \\frac{Re p_{yy} v_{y}}{2} + \\frac{5 Re p_{y} v_{yy}}{6} + \\frac{Re u^{2} v_{yyy}}{6} + \\frac{Re u u_{y} v_{yy}}{2} - \\frac{Re u v v_{xyy}}{3} - \\frac{Re u v_{txy}}{6} - \\frac{5 Re u v_{xy} v_{y}}{2} - \\frac{Re u v_{x} v_{yy}}{6} + Re u_{ty} v_{x} + \\frac{11 Re u_{t} v_{xy}}{6} + \\frac{7 Re u_{y} v v_{xy}}{6} - \\frac{Re u_{y} v_{tx}}{3} - \\frac{Re u_{y} v_{x} v_{y}}{2} - \\frac{Re v^{2} v_{yyy}}{6} - \\frac{Re v v_{tyy}}{6} + \\frac{5 Re v v_{xy} v_{x}}{6} - \\frac{Re v v_{yy} v_{y}}{6} - \\frac{Re v_{ty} v_{y}}{2} + \\frac{5 Re v_{t} v_{yy}}{6} - \\frac{Re v_{y}^{3}}{2} + \\frac{2 p_{yyyy}}{3} + \\frac{u v_{xyyy}}{3} + \\frac{3 u_{y} v_{xyy}}{2} + \\frac{v v_{yyyy}}{3} + \\frac{7 v_{xyy} v_{x}}{6} + v_{xy}^{2} + \\frac{8 v_{yyy} v_{y}}{3} + v_{yy}^{2}$"
      ],
      "text/plain": [
       "5*Re**2*p_{x}*v*v_{x}/6 - Re**2*p_{yy}*u**2/6 - Re**2*p_{y}*u*u_{y}/2 - Re**2*u**3*v_{xy}/6 - 2*Re**2*u**2*u_{y}*v_{x}/3 - Re**2*u**2*v*v_{yy}/6 - Re**2*u**2*v_{ty}/6 - Re**2*u**2*v_{y}**2/6 - Re**2*u*u_{y}*v*v_{y}/2 - Re**2*u*u_{y}*v_{t}/2 - 5*Re**2*u*v*v_{x}*v_{y}/6 + 5*Re**2*u_{t}*v*v_{x}/6 + 5*Re**2*u_{y}*v**2*v_{x}/6 - Re*p_{xyy}*u/6 - Re*p_{xy}*u_{y}/3 + Re*p_{xy}*v_{x} + 11*Re*p_{x}*v_{xy}/6 - Re*p_{yyy}*v/6 - Re*p_{yy}*v_{y}/2 + 5*Re*p_{y}*v_{yy}/6 + Re*u**2*v_{yyy}/6 + Re*u*u_{y}*v_{yy}/2 - Re*u*v*v_{xyy}/3 - Re*u*v_{txy}/6 - 5*Re*u*v_{xy}*v_{y}/2 - Re*u*v_{x}*v_{yy}/6 + Re*u_{ty}*v_{x} + 11*Re*u_{t}*v_{xy}/6 + 7*Re*u_{y}*v*v_{xy}/6 - Re*u_{y}*v_{tx}/3 - Re*u_{y}*v_{x}*v_{y}/2 - Re*v**2*v_{yyy}/6 - Re*v*v_{tyy}/6 + 5*Re*v*v_{xy}*v_{x}/6 - Re*v*v_{yy}*v_{y}/6 - Re*v_{ty}*v_{y}/2 + 5*Re*v_{t}*v_{yy}/6 - Re*v_{y}**3/2 + 2*p_{yyyy}/3 + u*v_{xyyy}/3 + 3*u_{y}*v_{xyy}/2 + v*v_{yyyy}/3 + 7*v_{xyy}*v_{x}/6 + v_{xy}**2 + 8*v_{yyy}*v_{y}/3 + v_{yy}**2"
      ]
     },
     "metadata": {},
     "output_type": "display_data"
    },
    {
     "name": "stdout",
     "output_type": "stream",
     "text": [
      "p_{xx} + p_{yy} + u u_{xx} + u v_{xy} + u_{xy} v + u_{x}^{2} + 2 u_{y} v_{x} + v v_{yy} + v_{y}^{2}\n",
      "+\\tau\\big(\n",
      "0\n",
      "\\big)\n",
      "+h^2\\big(\n",
      "\\frac{5 Re^{2} p_{x} v v_{x}}{6} - \\frac{Re^{2} p_{yy} u^{2}}{6} - \\frac{Re^{2} p_{y} u u_{y}}{2} - \\frac{Re^{2} u^{3} v_{xy}}{6} - \\frac{2 Re^{2} u^{2} u_{y} v_{x}}{3} - \\frac{Re^{2} u^{2} v v_{yy}}{6} - \\frac{Re^{2} u^{2} v_{ty}}{6} - \\frac{Re^{2} u^{2} v_{y}^{2}}{6} - \\frac{Re^{2} u u_{y} v v_{y}}{2} - \\frac{Re^{2} u u_{y} v_{t}}{2} - \\frac{5 Re^{2} u v v_{x} v_{y}}{6} + \\frac{5 Re^{2} u_{t} v v_{x}}{6} + \\frac{5 Re^{2} u_{y} v^{2} v_{x}}{6} - \\frac{Re p_{xyy} u}{6} - \\frac{Re p_{xy} u_{y}}{3} + Re p_{xy} v_{x} + \\frac{11 Re p_{x} v_{xy}}{6} - \\frac{Re p_{yyy} v}{6} - \\frac{Re p_{yy} v_{y}}{2} + \\frac{5 Re p_{y} v_{yy}}{6} + \\frac{Re u^{2} v_{yyy}}{6} + \\frac{Re u u_{y} v_{yy}}{2} - \\frac{Re u v v_{xyy}}{3} - \\frac{Re u v_{txy}}{6} - \\frac{5 Re u v_{xy} v_{y}}{2} - \\frac{Re u v_{x} v_{yy}}{6} + Re u_{ty} v_{x} + \\frac{11 Re u_{t} v_{xy}}{6} + \\frac{7 Re u_{y} v v_{xy}}{6} - \\frac{Re u_{y} v_{tx}}{3} - \\frac{Re u_{y} v_{x} v_{y}}{2} - \\frac{Re v^{2} v_{yyy}}{6} - \\frac{Re v v_{tyy}}{6} + \\frac{5 Re v v_{xy} v_{x}}{6} - \\frac{Re v v_{yy} v_{y}}{6} - \\frac{Re v_{ty} v_{y}}{2} + \\frac{5 Re v_{t} v_{yy}}{6} - \\frac{Re v_{y}^{3}}{2} + \\frac{2 p_{yyyy}}{3} + \\frac{u v_{xyyy}}{3} + \\frac{3 u_{y} v_{xyy}}{2} + \\frac{v v_{yyyy}}{3} + \\frac{7 v_{xyy} v_{x}}{6} + v_{xy}^{2} + \\frac{8 v_{yyy} v_{y}}{3} + v_{yy}^{2}\n",
      "\\big)\n"
     ]
    },
    {
     "data": {
      "text/latex": [
       "$\\displaystyle 0$"
      ],
      "text/plain": [
       "0"
      ]
     },
     "metadata": {},
     "output_type": "display_data"
    },
    {
     "name": "stdout",
     "output_type": "stream",
     "text": [
      "tau =>\n"
     ]
    },
    {
     "data": {
      "text/latex": [
       "$\\displaystyle 0$"
      ],
      "text/plain": [
       "0"
      ]
     },
     "metadata": {},
     "output_type": "display_data"
    },
    {
     "name": "stdout",
     "output_type": "stream",
     "text": [
      "h^2 =>\n"
     ]
    },
    {
     "data": {
      "text/latex": [
       "$\\displaystyle \\left(\\sin^{2}{\\left(x \\right)} + \\sin^{2}{\\left(y \\right)} - 1\\right) e^{- \\frac{4 t}{Re}}$"
      ],
      "text/plain": [
       "(sin(x)**2 + sin(y)**2 - 1)*exp(-4*t/Re)"
      ]
     },
     "metadata": {},
     "output_type": "display_data"
    },
    {
     "name": "stdout",
     "output_type": "stream",
     "text": [
      "0\n",
      "+\\tau\\big(\n",
      "0\n",
      "\\big)\n",
      "+h^2\\big(\n",
      "\\left(\\sin^{2}{\\left(x \\right)} + \\sin^{2}{\\left(y \\right)} - 1\\right) e^{- \\frac{4 t}{Re}}\n",
      "\\big)\n"
     ]
    },
    {
     "data": {
      "text/latex": [
       "$\\displaystyle 0$"
      ],
      "text/plain": [
       "0"
      ]
     },
     "metadata": {},
     "output_type": "display_data"
    },
    {
     "name": "stdout",
     "output_type": "stream",
     "text": [
      "tau =>\n"
     ]
    },
    {
     "data": {
      "text/latex": [
       "$\\displaystyle 0$"
      ],
      "text/plain": [
       "0"
      ]
     },
     "metadata": {},
     "output_type": "display_data"
    },
    {
     "name": "stdout",
     "output_type": "stream",
     "text": [
      "h^2 =>\n"
     ]
    },
    {
     "data": {
      "text/latex": [
       "$\\displaystyle \\frac{\\left(\\left(- 7 Re^{4} + 7 Re^{3} \\sqrt{Re^{2} + 16 \\pi^{2}} - 116 \\pi^{2} Re^{2} + 60 \\pi^{2} Re \\sqrt{Re^{2} + 16 \\pi^{2}} - 256 \\pi^{4}\\right) e^{x \\left(Re + 6 \\sqrt{Re^{2} + 16 \\pi^{2}}\\right)} + \\left(- Re^{4} + Re^{3} \\sqrt{Re^{2} + 16 \\pi^{2}} - 20 \\pi^{2} Re^{2} + 12 \\pi^{2} Re \\sqrt{Re^{2} + 16 \\pi^{2}} - 64 \\pi^{4}\\right) e^{\\frac{x \\left(Re + 13 \\sqrt{Re^{2} + 16 \\pi^{2}}\\right)}{2}} \\cos{\\left(2 \\pi y \\right)}\\right) e^{- 7 x \\sqrt{Re^{2} + 16 \\pi^{2}}}}{12}$"
      ],
      "text/plain": [
       "((-7*Re**4 + 7*Re**3*sqrt(Re**2 + 16*pi**2) - 116*pi**2*Re**2 + 60*pi**2*Re*sqrt(Re**2 + 16*pi**2) - 256*pi**4)*exp(x*(Re + 6*sqrt(Re**2 + 16*pi**2))) + (-Re**4 + Re**3*sqrt(Re**2 + 16*pi**2) - 20*pi**2*Re**2 + 12*pi**2*Re*sqrt(Re**2 + 16*pi**2) - 64*pi**4)*exp(x*(Re + 13*sqrt(Re**2 + 16*pi**2))/2)*cos(2*pi*y))*exp(-7*x*sqrt(Re**2 + 16*pi**2))/12"
      ]
     },
     "metadata": {},
     "output_type": "display_data"
    },
    {
     "name": "stdout",
     "output_type": "stream",
     "text": [
      "0\n",
      "+\\tau\\big(\n",
      "0\n",
      "\\big)\n",
      "+h^2\\big(\n",
      "\\frac{\\left(\\left(- 7 Re^{4} + 7 Re^{3} \\sqrt{Re^{2} + 16 \\pi^{2}} - 116 \\pi^{2} Re^{2} + 60 \\pi^{2} Re \\sqrt{Re^{2} + 16 \\pi^{2}} - 256 \\pi^{4}\\right) e^{x \\left(Re + 6 \\sqrt{Re^{2} + 16 \\pi^{2}}\\right)} + \\left(- Re^{4} + Re^{3} \\sqrt{Re^{2} + 16 \\pi^{2}} - 20 \\pi^{2} Re^{2} + 12 \\pi^{2} Re \\sqrt{Re^{2} + 16 \\pi^{2}} - 64 \\pi^{4}\\right) e^{\\frac{x \\left(Re + 13 \\sqrt{Re^{2} + 16 \\pi^{2}}\\right)}{2}} \\cos{\\left(2 \\pi y \\right)}\\right) e^{- 7 x \\sqrt{Re^{2} + 16 \\pi^{2}}}}{12}\n",
      "\\big)\n"
     ]
    },
    {
     "data": {
      "text/latex": [
       "$\\displaystyle 0$"
      ],
      "text/plain": [
       "0"
      ]
     },
     "metadata": {},
     "output_type": "display_data"
    },
    {
     "name": "stdout",
     "output_type": "stream",
     "text": [
      "tau =>\n"
     ]
    },
    {
     "data": {
      "text/latex": [
       "$\\displaystyle 0$"
      ],
      "text/plain": [
       "0"
      ]
     },
     "metadata": {},
     "output_type": "display_data"
    },
    {
     "name": "stdout",
     "output_type": "stream",
     "text": [
      "h^2 =>\n"
     ]
    },
    {
     "data": {
      "text/latex": [
       "$\\displaystyle 0$"
      ],
      "text/plain": [
       "0"
      ]
     },
     "metadata": {},
     "output_type": "display_data"
    },
    {
     "name": "stdout",
     "output_type": "stream",
     "text": [
      "0\n",
      "+\\tau\\big(\n",
      "0\n",
      "\\big)\n",
      "+h^2\\big(\n",
      "0\n",
      "\\big)\n"
     ]
    }
   ],
   "source": [
    "F1 = clip(Dx(u) + Dy(v))\n",
    "F2 = clip(Dt(u) + u*Dx(u) + v*Dy(u) + Dx(p) - DD(u)/Re)\n",
    "F3 = clip(Dt(v) + u*Dx(v) + v*Dy(v) + Dy(p) - DD(v)/Re)\n",
    "F4 = clip(Dx(u*Dx(u) + v*Dy(u) + Dx(p)) + Dy(u*Dx(v) + v*Dy(v) + Dy(p)))\n",
    "\n",
    "build(F1, F2, F3, F4)"
   ]
  },
  {
   "cell_type": "code",
   "execution_count": 25,
   "metadata": {},
   "outputs": [
    {
     "data": {
      "text/latex": [
       "$\\displaystyle u_{x} + v_{y}$"
      ],
      "text/plain": [
       "u_{x} + v_{y}"
      ]
     },
     "metadata": {},
     "output_type": "display_data"
    },
    {
     "name": "stdout",
     "output_type": "stream",
     "text": [
      "tau =>\n"
     ]
    },
    {
     "data": {
      "text/latex": [
       "$\\displaystyle 0$"
      ],
      "text/plain": [
       "0"
      ]
     },
     "metadata": {},
     "output_type": "display_data"
    },
    {
     "name": "stdout",
     "output_type": "stream",
     "text": [
      "h^2 =>\n"
     ]
    },
    {
     "data": {
      "text/latex": [
       "$\\displaystyle \\frac{u_{xxx}}{6} + \\frac{v_{yyy}}{6}$"
      ],
      "text/plain": [
       "u_{xxx}/6 + v_{yyy}/6"
      ]
     },
     "metadata": {},
     "output_type": "display_data"
    },
    {
     "name": "stdout",
     "output_type": "stream",
     "text": [
      "-------------------------\n"
     ]
    },
    {
     "data": {
      "text/latex": [
       "$\\displaystyle u_{x} + v_{y}$"
      ],
      "text/plain": [
       "u_{x} + v_{y}"
      ]
     },
     "metadata": {},
     "output_type": "display_data"
    },
    {
     "name": "stdout",
     "output_type": "stream",
     "text": [
      "tau =>\n"
     ]
    },
    {
     "data": {
      "text/latex": [
       "$\\displaystyle 0$"
      ],
      "text/plain": [
       "0"
      ]
     },
     "metadata": {},
     "output_type": "display_data"
    },
    {
     "name": "stdout",
     "output_type": "stream",
     "text": [
      "h^2 =>\n"
     ]
    },
    {
     "data": {
      "text/latex": [
       "$\\displaystyle - \\frac{Re p_{yy}}{6} - \\frac{Re u v_{xy}}{6} - \\frac{Re u_{y} v_{x}}{6} - \\frac{Re v v_{yy}}{6} - \\frac{Re v_{ty}}{6} - \\frac{Re v_{y}^{2}}{6} + \\frac{v_{yyy}}{3}$"
      ],
      "text/plain": [
       "-Re*p_{yy}/6 - Re*u*v_{xy}/6 - Re*u_{y}*v_{x}/6 - Re*v*v_{yy}/6 - Re*v_{ty}/6 - Re*v_{y}**2/6 + v_{yyy}/3"
      ]
     },
     "metadata": {},
     "output_type": "display_data"
    },
    {
     "name": "stdout",
     "output_type": "stream",
     "text": [
      "u_{x} + v_{y}\n",
      "+\\tau\\big(\n",
      "0\n",
      "\\big)\n",
      "+h^2\\big(\n",
      "- \\frac{Re p_{yy}}{6} - \\frac{Re u v_{xy}}{6} - \\frac{Re u_{y} v_{x}}{6} - \\frac{Re v v_{yy}}{6} - \\frac{Re v_{ty}}{6} - \\frac{Re v_{y}^{2}}{6} + \\frac{v_{yyy}}{3}\n",
      "\\big)\n"
     ]
    },
    {
     "data": {
      "text/latex": [
       "$\\displaystyle 0$"
      ],
      "text/plain": [
       "0"
      ]
     },
     "metadata": {},
     "output_type": "display_data"
    },
    {
     "name": "stdout",
     "output_type": "stream",
     "text": [
      "tau =>\n"
     ]
    },
    {
     "data": {
      "text/latex": [
       "$\\displaystyle 0$"
      ],
      "text/plain": [
       "0"
      ]
     },
     "metadata": {},
     "output_type": "display_data"
    },
    {
     "name": "stdout",
     "output_type": "stream",
     "text": [
      "h^2 =>\n"
     ]
    },
    {
     "data": {
      "text/latex": [
       "$\\displaystyle 0$"
      ],
      "text/plain": [
       "0"
      ]
     },
     "metadata": {},
     "output_type": "display_data"
    },
    {
     "name": "stdout",
     "output_type": "stream",
     "text": [
      "0\n",
      "+\\tau\\big(\n",
      "0\n",
      "\\big)\n",
      "+h^2\\big(\n",
      "0\n",
      "\\big)\n"
     ]
    },
    {
     "data": {
      "text/latex": [
       "$\\displaystyle 0$"
      ],
      "text/plain": [
       "0"
      ]
     },
     "metadata": {},
     "output_type": "display_data"
    },
    {
     "name": "stdout",
     "output_type": "stream",
     "text": [
      "tau =>\n"
     ]
    },
    {
     "data": {
      "text/latex": [
       "$\\displaystyle 0$"
      ],
      "text/plain": [
       "0"
      ]
     },
     "metadata": {},
     "output_type": "display_data"
    },
    {
     "name": "stdout",
     "output_type": "stream",
     "text": [
      "h^2 =>\n"
     ]
    },
    {
     "data": {
      "text/latex": [
       "$\\displaystyle \\frac{\\left(- Re^{3} + Re^{2} \\sqrt{Re^{2} + 16 \\pi^{2}} - 16 \\pi^{2} Re + 8 \\pi^{2} \\sqrt{Re^{2} + 16 \\pi^{2}}\\right) e^{\\frac{x \\left(Re - \\sqrt{Re^{2} + 16 \\pi^{2}}\\right)}{2}} \\cos{\\left(2 \\pi y \\right)}}{12}$"
      ],
      "text/plain": [
       "(-Re**3 + Re**2*sqrt(Re**2 + 16*pi**2) - 16*pi**2*Re + 8*pi**2*sqrt(Re**2 + 16*pi**2))*exp(x*(Re - sqrt(Re**2 + 16*pi**2))/2)*cos(2*pi*y)/12"
      ]
     },
     "metadata": {},
     "output_type": "display_data"
    },
    {
     "name": "stdout",
     "output_type": "stream",
     "text": [
      "0\n",
      "+\\tau\\big(\n",
      "0\n",
      "\\big)\n",
      "+h^2\\big(\n",
      "\\frac{\\left(- Re^{3} + Re^{2} \\sqrt{Re^{2} + 16 \\pi^{2}} - 16 \\pi^{2} Re + 8 \\pi^{2} \\sqrt{Re^{2} + 16 \\pi^{2}}\\right) e^{\\frac{x \\left(Re - \\sqrt{Re^{2} + 16 \\pi^{2}}\\right)}{2}} \\cos{\\left(2 \\pi y \\right)}}{12}\n",
      "\\big)\n"
     ]
    },
    {
     "data": {
      "text/latex": [
       "$\\displaystyle p_{x} + u u_{x} + u_{t} + u_{y} v - \\frac{u_{xx}}{Re} - \\frac{u_{yy}}{Re}$"
      ],
      "text/plain": [
       "p_{x} + u*u_{x} + u_{t} + u_{y}*v - u_{xx}/Re - u_{yy}/Re"
      ]
     },
     "metadata": {},
     "output_type": "display_data"
    },
    {
     "name": "stdout",
     "output_type": "stream",
     "text": [
      "tau =>\n"
     ]
    },
    {
     "data": {
      "text/latex": [
       "$\\displaystyle \\frac{u_{tt}}{2}$"
      ],
      "text/plain": [
       "u_{tt}/2"
      ]
     },
     "metadata": {},
     "output_type": "display_data"
    },
    {
     "name": "stdout",
     "output_type": "stream",
     "text": [
      "h^2 =>\n"
     ]
    },
    {
     "data": {
      "text/latex": [
       "$\\displaystyle \\frac{p_{xxx}}{6} + \\frac{u u_{xxx}}{6} + \\frac{u_{yyy} v}{6} - \\frac{u_{xxxx}}{3 Re} - \\frac{u_{yyyy}}{3 Re}$"
      ],
      "text/plain": [
       "p_{xxx}/6 + u*u_{xxx}/6 + u_{yyy}*v/6 - u_{xxxx}/(3*Re) - u_{yyyy}/(3*Re)"
      ]
     },
     "metadata": {},
     "output_type": "display_data"
    },
    {
     "name": "stdout",
     "output_type": "stream",
     "text": [
      "-------------------------\n"
     ]
    },
    {
     "data": {
      "text/latex": [
       "$\\displaystyle p_{x} + u u_{x} + u_{t} + u_{y} v - \\frac{u_{xx}}{Re} - \\frac{u_{yy}}{Re}$"
      ],
      "text/plain": [
       "p_{x} + u*u_{x} + u_{t} + u_{y}*v - u_{xx}/Re - u_{yy}/Re"
      ]
     },
     "metadata": {},
     "output_type": "display_data"
    },
    {
     "name": "stdout",
     "output_type": "stream",
     "text": [
      "tau =>\n"
     ]
    },
    {
     "data": {
      "text/latex": [
       "$\\displaystyle \\frac{u_{tt}}{2}$"
      ],
      "text/plain": [
       "u_{tt}/2"
      ]
     },
     "metadata": {},
     "output_type": "display_data"
    },
    {
     "name": "stdout",
     "output_type": "stream",
     "text": [
      "h^2 =>\n"
     ]
    },
    {
     "data": {
      "text/latex": [
       "$\\displaystyle - \\frac{Re^{2} p_{x} v^{2}}{6} + \\frac{Re^{2} u v^{2} v_{y}}{6} - \\frac{Re^{2} u_{t} v^{2}}{6} - \\frac{Re^{2} u_{y} v^{3}}{6} - \\frac{Re p_{tx}}{3} - \\frac{Re p_{xy} v}{6} - \\frac{Re p_{x} v_{y}}{3} + \\frac{Re p_{yy} u}{6} + \\frac{Re u^{2} v_{xy}}{6} + \\frac{Re u u_{y} v_{x}}{6} + \\frac{Re u v v_{yy}}{3} + \\frac{Re u v_{ty}}{2} + \\frac{Re u v_{y}^{2}}{2} - \\frac{Re u_{tt}}{3} - \\frac{Re u_{ty} v}{2} - \\frac{Re u_{y} v v_{y}}{3} - \\frac{Re u_{y} v_{t}}{3} - \\frac{Re v^{2} v_{xy}}{6} - \\frac{p_{xyy}}{6} + \\frac{u v_{yyy}}{6} + \\frac{u_{y} v_{yy}}{3} + \\frac{v v_{xyy}}{6} - \\frac{2 v_{xy} v_{y}}{3} + \\frac{v_{x} v_{yy}}{3} - \\frac{2 v_{xyyy}}{3 Re}$"
      ],
      "text/plain": [
       "-Re**2*p_{x}*v**2/6 + Re**2*u*v**2*v_{y}/6 - Re**2*u_{t}*v**2/6 - Re**2*u_{y}*v**3/6 - Re*p_{tx}/3 - Re*p_{xy}*v/6 - Re*p_{x}*v_{y}/3 + Re*p_{yy}*u/6 + Re*u**2*v_{xy}/6 + Re*u*u_{y}*v_{x}/6 + Re*u*v*v_{yy}/3 + Re*u*v_{ty}/2 + Re*u*v_{y}**2/2 - Re*u_{tt}/3 - Re*u_{ty}*v/2 - Re*u_{y}*v*v_{y}/3 - Re*u_{y}*v_{t}/3 - Re*v**2*v_{xy}/6 - p_{xyy}/6 + u*v_{yyy}/6 + u_{y}*v_{yy}/3 + v*v_{xyy}/6 - 2*v_{xy}*v_{y}/3 + v_{x}*v_{yy}/3 - 2*v_{xyyy}/(3*Re)"
      ]
     },
     "metadata": {},
     "output_type": "display_data"
    },
    {
     "name": "stdout",
     "output_type": "stream",
     "text": [
      "p_{x} + u u_{x} + u_{t} + u_{y} v - \\frac{u_{xx}}{Re} - \\frac{u_{yy}}{Re}\n",
      "+\\tau\\big(\n",
      "\\frac{u_{tt}}{2}\n",
      "\\big)\n",
      "+h^2\\big(\n",
      "- \\frac{Re^{2} p_{x} v^{2}}{6} + \\frac{Re^{2} u v^{2} v_{y}}{6} - \\frac{Re^{2} u_{t} v^{2}}{6} - \\frac{Re^{2} u_{y} v^{3}}{6} - \\frac{Re p_{tx}}{3} - \\frac{Re p_{xy} v}{6} - \\frac{Re p_{x} v_{y}}{3} + \\frac{Re p_{yy} u}{6} + \\frac{Re u^{2} v_{xy}}{6} + \\frac{Re u u_{y} v_{x}}{6} + \\frac{Re u v v_{yy}}{3} + \\frac{Re u v_{ty}}{2} + \\frac{Re u v_{y}^{2}}{2} - \\frac{Re u_{tt}}{3} - \\frac{Re u_{ty} v}{2} - \\frac{Re u_{y} v v_{y}}{3} - \\frac{Re u_{y} v_{t}}{3} - \\frac{Re v^{2} v_{xy}}{6} - \\frac{p_{xyy}}{6} + \\frac{u v_{yyy}}{6} + \\frac{u_{y} v_{yy}}{3} + \\frac{v v_{xyy}}{6} - \\frac{2 v_{xy} v_{y}}{3} + \\frac{v_{x} v_{yy}}{3} - \\frac{2 v_{xyyy}}{3 Re}\n",
      "\\big)\n"
     ]
    },
    {
     "data": {
      "text/latex": [
       "$\\displaystyle 0$"
      ],
      "text/plain": [
       "0"
      ]
     },
     "metadata": {},
     "output_type": "display_data"
    },
    {
     "name": "stdout",
     "output_type": "stream",
     "text": [
      "tau =>\n"
     ]
    },
    {
     "data": {
      "text/latex": [
       "$\\displaystyle - \\frac{2 e^{- \\frac{2 t}{Re}} \\sin{\\left(y \\right)} \\cos{\\left(x \\right)}}{Re^{2}}$"
      ],
      "text/plain": [
       "-2*exp(-2*t/Re)*sin(y)*cos(x)/Re**2"
      ]
     },
     "metadata": {},
     "output_type": "display_data"
    },
    {
     "name": "stdout",
     "output_type": "stream",
     "text": [
      "h^2 =>\n"
     ]
    },
    {
     "data": {
      "text/latex": [
       "$\\displaystyle - \\frac{e^{- \\frac{4 t}{Re}} \\sin{\\left(2 x \\right)}}{4} + \\frac{2 e^{- \\frac{2 t}{Re}} \\sin{\\left(y \\right)} \\cos{\\left(x \\right)}}{3 Re}$"
      ],
      "text/plain": [
       "-exp(-4*t/Re)*sin(2*x)/4 + 2*exp(-2*t/Re)*sin(y)*cos(x)/(3*Re)"
      ]
     },
     "metadata": {},
     "output_type": "display_data"
    },
    {
     "name": "stdout",
     "output_type": "stream",
     "text": [
      "0\n",
      "+\\tau\\big(\n",
      "- \\frac{2 e^{- \\frac{2 t}{Re}} \\sin{\\left(y \\right)} \\cos{\\left(x \\right)}}{Re^{2}}\n",
      "\\big)\n",
      "+h^2\\big(\n",
      "- \\frac{e^{- \\frac{4 t}{Re}} \\sin{\\left(2 x \\right)}}{4} + \\frac{2 e^{- \\frac{2 t}{Re}} \\sin{\\left(y \\right)} \\cos{\\left(x \\right)}}{3 Re}\n",
      "\\big)\n"
     ]
    },
    {
     "data": {
      "text/latex": [
       "$\\displaystyle 0$"
      ],
      "text/plain": [
       "0"
      ]
     },
     "metadata": {},
     "output_type": "display_data"
    },
    {
     "name": "stdout",
     "output_type": "stream",
     "text": [
      "tau =>\n"
     ]
    },
    {
     "data": {
      "text/latex": [
       "$\\displaystyle 0$"
      ],
      "text/plain": [
       "0"
      ]
     },
     "metadata": {},
     "output_type": "display_data"
    },
    {
     "name": "stdout",
     "output_type": "stream",
     "text": [
      "h^2 =>\n"
     ]
    },
    {
     "data": {
      "text/latex": [
       "$\\displaystyle \\frac{\\left(Re \\left(Re^{3} - Re^{2} \\sqrt{Re^{2} + 16 \\pi^{2}} + 20 \\pi^{2} Re - 12 \\pi^{2} \\sqrt{Re^{2} + 16 \\pi^{2}}\\right) e^{x \\left(\\frac{Re}{2} + 7 \\sqrt{Re^{2} + 16 \\pi^{2}}\\right)} \\cos{\\left(2 \\pi y \\right)} + Re \\left(- 4 Re^{3} \\sin^{2}{\\left(2 \\pi y \\right)} - 3 Re^{3} \\cos^{2}{\\left(2 \\pi y \\right)} + 4 Re^{2} \\sqrt{Re^{2} + 16 \\pi^{2}} \\sin^{2}{\\left(2 \\pi y \\right)} + 3 Re^{2} \\sqrt{Re^{2} + 16 \\pi^{2}} \\cos^{2}{\\left(2 \\pi y \\right)} - 52 \\pi^{2} Re \\sin^{2}{\\left(2 \\pi y \\right)} - 36 \\pi^{2} Re \\cos^{2}{\\left(2 \\pi y \\right)} + 20 \\pi^{2} \\sqrt{Re^{2} + 16 \\pi^{2}} \\sin^{2}{\\left(2 \\pi y \\right)} + 12 \\pi^{2} \\sqrt{Re^{2} + 16 \\pi^{2}} \\cos^{2}{\\left(2 \\pi y \\right)}\\right) e^{x \\left(Re + \\frac{13 \\sqrt{Re^{2} + 16 \\pi^{2}}}{2}\\right)} + 128 \\pi^{4} e^{\\frac{x \\left(Re + 14 \\sqrt{Re^{2} + 16 \\pi^{2}}\\right)}{2}} \\cos{\\left(2 \\pi y \\right)}\\right) e^{- \\frac{15 x \\sqrt{Re^{2} + 16 \\pi^{2}}}{2}}}{12 Re}$"
      ],
      "text/plain": [
       "(Re*(Re**3 - Re**2*sqrt(Re**2 + 16*pi**2) + 20*pi**2*Re - 12*pi**2*sqrt(Re**2 + 16*pi**2))*exp(x*(Re/2 + 7*sqrt(Re**2 + 16*pi**2)))*cos(2*pi*y) + Re*(-4*Re**3*sin(2*pi*y)**2 - 3*Re**3*cos(2*pi*y)**2 + 4*Re**2*sqrt(Re**2 + 16*pi**2)*sin(2*pi*y)**2 + 3*Re**2*sqrt(Re**2 + 16*pi**2)*cos(2*pi*y)**2 - 52*pi**2*Re*sin(2*pi*y)**2 - 36*pi**2*Re*cos(2*pi*y)**2 + 20*pi**2*sqrt(Re**2 + 16*pi**2)*sin(2*pi*y)**2 + 12*pi**2*sqrt(Re**2 + 16*pi**2)*cos(2*pi*y)**2)*exp(x*(Re + 13*sqrt(Re**2 + 16*pi**2)/2)) + 128*pi**4*exp(x*(Re + 14*sqrt(Re**2 + 16*pi**2))/2)*cos(2*pi*y))*exp(-15*x*sqrt(Re**2 + 16*pi**2)/2)/(12*Re)"
      ]
     },
     "metadata": {},
     "output_type": "display_data"
    },
    {
     "name": "stdout",
     "output_type": "stream",
     "text": [
      "0\n",
      "+\\tau\\big(\n",
      "0\n",
      "\\big)\n",
      "+h^2\\big(\n",
      "\\frac{\\left(Re \\left(Re^{3} - Re^{2} \\sqrt{Re^{2} + 16 \\pi^{2}} + 20 \\pi^{2} Re - 12 \\pi^{2} \\sqrt{Re^{2} + 16 \\pi^{2}}\\right) e^{x \\left(\\frac{Re}{2} + 7 \\sqrt{Re^{2} + 16 \\pi^{2}}\\right)} \\cos{\\left(2 \\pi y \\right)} + Re \\left(- 4 Re^{3} \\sin^{2}{\\left(2 \\pi y \\right)} - 3 Re^{3} \\cos^{2}{\\left(2 \\pi y \\right)} + 4 Re^{2} \\sqrt{Re^{2} + 16 \\pi^{2}} \\sin^{2}{\\left(2 \\pi y \\right)} + 3 Re^{2} \\sqrt{Re^{2} + 16 \\pi^{2}} \\cos^{2}{\\left(2 \\pi y \\right)} - 52 \\pi^{2} Re \\sin^{2}{\\left(2 \\pi y \\right)} - 36 \\pi^{2} Re \\cos^{2}{\\left(2 \\pi y \\right)} + 20 \\pi^{2} \\sqrt{Re^{2} + 16 \\pi^{2}} \\sin^{2}{\\left(2 \\pi y \\right)} + 12 \\pi^{2} \\sqrt{Re^{2} + 16 \\pi^{2}} \\cos^{2}{\\left(2 \\pi y \\right)}\\right) e^{x \\left(Re + \\frac{13 \\sqrt{Re^{2} + 16 \\pi^{2}}}{2}\\right)} + 128 \\pi^{4} e^{\\frac{x \\left(Re + 14 \\sqrt{Re^{2} + 16 \\pi^{2}}\\right)}{2}} \\cos{\\left(2 \\pi y \\right)}\\right) e^{- \\frac{15 x \\sqrt{Re^{2} + 16 \\pi^{2}}}{2}}}{12 Re}\n",
      "\\big)\n"
     ]
    },
    {
     "data": {
      "text/latex": [
       "$\\displaystyle p_{y} + u v_{x} + v v_{y} + v_{t} - \\frac{v_{xx}}{Re} - \\frac{v_{yy}}{Re}$"
      ],
      "text/plain": [
       "p_{y} + u*v_{x} + v*v_{y} + v_{t} - v_{xx}/Re - v_{yy}/Re"
      ]
     },
     "metadata": {},
     "output_type": "display_data"
    },
    {
     "name": "stdout",
     "output_type": "stream",
     "text": [
      "tau =>\n"
     ]
    },
    {
     "data": {
      "text/latex": [
       "$\\displaystyle \\frac{v_{tt}}{2}$"
      ],
      "text/plain": [
       "v_{tt}/2"
      ]
     },
     "metadata": {},
     "output_type": "display_data"
    },
    {
     "name": "stdout",
     "output_type": "stream",
     "text": [
      "h^2 =>\n"
     ]
    },
    {
     "data": {
      "text/latex": [
       "$\\displaystyle \\frac{p_{yyy}}{6} + \\frac{u v_{xxx}}{6} + \\frac{v v_{yyy}}{6} - \\frac{v_{xxxx}}{3 Re} - \\frac{v_{yyyy}}{3 Re}$"
      ],
      "text/plain": [
       "p_{yyy}/6 + u*v_{xxx}/6 + v*v_{yyy}/6 - v_{xxxx}/(3*Re) - v_{yyyy}/(3*Re)"
      ]
     },
     "metadata": {},
     "output_type": "display_data"
    },
    {
     "name": "stdout",
     "output_type": "stream",
     "text": [
      "-------------------------\n"
     ]
    },
    {
     "data": {
      "text/latex": [
       "$\\displaystyle p_{y} + u v_{x} + v v_{y} + v_{t} - \\frac{v_{xx}}{Re} - \\frac{v_{yy}}{Re}$"
      ],
      "text/plain": [
       "p_{y} + u*v_{x} + v*v_{y} + v_{t} - v_{xx}/Re - v_{yy}/Re"
      ]
     },
     "metadata": {},
     "output_type": "display_data"
    },
    {
     "name": "stdout",
     "output_type": "stream",
     "text": [
      "tau =>\n"
     ]
    },
    {
     "data": {
      "text/latex": [
       "$\\displaystyle \\frac{v_{tt}}{2}$"
      ],
      "text/plain": [
       "v_{tt}/2"
      ]
     },
     "metadata": {},
     "output_type": "display_data"
    },
    {
     "name": "stdout",
     "output_type": "stream",
     "text": [
      "h^2 =>\n"
     ]
    },
    {
     "data": {
      "text/latex": [
       "$\\displaystyle - \\frac{Re^{2} p_{y} u^{2}}{6} - \\frac{Re^{2} u^{3} v_{x}}{6} - \\frac{Re^{2} u^{2} v v_{y}}{6} - \\frac{Re^{2} u^{2} v_{t}}{6} - \\frac{Re p_{ty}}{3} - \\frac{Re p_{xy} u}{6} + Re p_{x} v_{x} - \\frac{Re p_{yy} v}{3} + \\frac{Re p_{y} v_{y}}{3} + \\frac{Re u^{2} v_{yy}}{6} - \\frac{Re u v v_{xy}}{2} - \\frac{Re u v_{tx}}{2} - \\frac{2 Re u v_{x} v_{y}}{3} + \\frac{2 Re u_{t} v_{x}}{3} + \\frac{2 Re u_{y} v v_{x}}{3} - \\frac{Re v^{2} v_{yy}}{3} - \\frac{2 Re v v_{ty}}{3} - \\frac{Re v_{tt}}{3} + \\frac{5 p_{yyy}}{6} + \\frac{u v_{xyy}}{2} + \\frac{4 u_{y} v_{xy}}{3} + \\frac{5 v v_{yyy}}{6} + \\frac{2 v_{tyy}}{3} + \\frac{2 v_{xy} v_{x}}{3} + 2 v_{yy} v_{y} - \\frac{2 v_{yyyy}}{3 Re}$"
      ],
      "text/plain": [
       "-Re**2*p_{y}*u**2/6 - Re**2*u**3*v_{x}/6 - Re**2*u**2*v*v_{y}/6 - Re**2*u**2*v_{t}/6 - Re*p_{ty}/3 - Re*p_{xy}*u/6 + Re*p_{x}*v_{x} - Re*p_{yy}*v/3 + Re*p_{y}*v_{y}/3 + Re*u**2*v_{yy}/6 - Re*u*v*v_{xy}/2 - Re*u*v_{tx}/2 - 2*Re*u*v_{x}*v_{y}/3 + 2*Re*u_{t}*v_{x}/3 + 2*Re*u_{y}*v*v_{x}/3 - Re*v**2*v_{yy}/3 - 2*Re*v*v_{ty}/3 - Re*v_{tt}/3 + 5*p_{yyy}/6 + u*v_{xyy}/2 + 4*u_{y}*v_{xy}/3 + 5*v*v_{yyy}/6 + 2*v_{tyy}/3 + 2*v_{xy}*v_{x}/3 + 2*v_{yy}*v_{y} - 2*v_{yyyy}/(3*Re)"
      ]
     },
     "metadata": {},
     "output_type": "display_data"
    },
    {
     "name": "stdout",
     "output_type": "stream",
     "text": [
      "p_{y} + u v_{x} + v v_{y} + v_{t} - \\frac{v_{xx}}{Re} - \\frac{v_{yy}}{Re}\n",
      "+\\tau\\big(\n",
      "\\frac{v_{tt}}{2}\n",
      "\\big)\n",
      "+h^2\\big(\n",
      "- \\frac{Re^{2} p_{y} u^{2}}{6} - \\frac{Re^{2} u^{3} v_{x}}{6} - \\frac{Re^{2} u^{2} v v_{y}}{6} - \\frac{Re^{2} u^{2} v_{t}}{6} - \\frac{Re p_{ty}}{3} - \\frac{Re p_{xy} u}{6} + Re p_{x} v_{x} - \\frac{Re p_{yy} v}{3} + \\frac{Re p_{y} v_{y}}{3} + \\frac{Re u^{2} v_{yy}}{6} - \\frac{Re u v v_{xy}}{2} - \\frac{Re u v_{tx}}{2} - \\frac{2 Re u v_{x} v_{y}}{3} + \\frac{2 Re u_{t} v_{x}}{3} + \\frac{2 Re u_{y} v v_{x}}{3} - \\frac{Re v^{2} v_{yy}}{3} - \\frac{2 Re v v_{ty}}{3} - \\frac{Re v_{tt}}{3} + \\frac{5 p_{yyy}}{6} + \\frac{u v_{xyy}}{2} + \\frac{4 u_{y} v_{xy}}{3} + \\frac{5 v v_{yyy}}{6} + \\frac{2 v_{tyy}}{3} + \\frac{2 v_{xy} v_{x}}{3} + 2 v_{yy} v_{y} - \\frac{2 v_{yyyy}}{3 Re}\n",
      "\\big)\n"
     ]
    },
    {
     "data": {
      "text/latex": [
       "$\\displaystyle 0$"
      ],
      "text/plain": [
       "0"
      ]
     },
     "metadata": {},
     "output_type": "display_data"
    },
    {
     "name": "stdout",
     "output_type": "stream",
     "text": [
      "tau =>\n"
     ]
    },
    {
     "data": {
      "text/latex": [
       "$\\displaystyle \\frac{2 e^{- \\frac{2 t}{Re}} \\sin{\\left(x \\right)} \\cos{\\left(y \\right)}}{Re^{2}}$"
      ],
      "text/plain": [
       "2*exp(-2*t/Re)*sin(x)*cos(y)/Re**2"
      ]
     },
     "metadata": {},
     "output_type": "display_data"
    },
    {
     "name": "stdout",
     "output_type": "stream",
     "text": [
      "h^2 =>\n"
     ]
    },
    {
     "data": {
      "text/latex": [
       "$\\displaystyle - \\frac{e^{- \\frac{4 t}{Re}} \\sin{\\left(2 y \\right)}}{4} - \\frac{2 e^{- \\frac{2 t}{Re}} \\sin{\\left(x \\right)} \\cos{\\left(y \\right)}}{3 Re}$"
      ],
      "text/plain": [
       "-exp(-4*t/Re)*sin(2*y)/4 - 2*exp(-2*t/Re)*sin(x)*cos(y)/(3*Re)"
      ]
     },
     "metadata": {},
     "output_type": "display_data"
    },
    {
     "name": "stdout",
     "output_type": "stream",
     "text": [
      "0\n",
      "+\\tau\\big(\n",
      "\\frac{2 e^{- \\frac{2 t}{Re}} \\sin{\\left(x \\right)} \\cos{\\left(y \\right)}}{Re^{2}}\n",
      "\\big)\n",
      "+h^2\\big(\n",
      "- \\frac{e^{- \\frac{4 t}{Re}} \\sin{\\left(2 y \\right)}}{4} - \\frac{2 e^{- \\frac{2 t}{Re}} \\sin{\\left(x \\right)} \\cos{\\left(y \\right)}}{3 Re}\n",
      "\\big)\n"
     ]
    },
    {
     "data": {
      "text/latex": [
       "$\\displaystyle 0$"
      ],
      "text/plain": [
       "0"
      ]
     },
     "metadata": {},
     "output_type": "display_data"
    },
    {
     "name": "stdout",
     "output_type": "stream",
     "text": [
      "tau =>\n"
     ]
    },
    {
     "data": {
      "text/latex": [
       "$\\displaystyle 0$"
      ],
      "text/plain": [
       "0"
      ]
     },
     "metadata": {},
     "output_type": "display_data"
    },
    {
     "name": "stdout",
     "output_type": "stream",
     "text": [
      "h^2 =>\n"
     ]
    },
    {
     "data": {
      "text/latex": [
       "$\\displaystyle \\frac{\\left(Re^{4} \\left(- Re + \\sqrt{Re^{2} + 16 \\pi^{2}}\\right) e^{x \\left(\\frac{Re}{2} + 6 \\sqrt{Re^{2} + 16 \\pi^{2}}\\right)} + Re^{4} \\left(- Re + \\sqrt{Re^{2} + 16 \\pi^{2}}\\right) e^{x \\left(Re + \\frac{11 \\sqrt{Re^{2} + 16 \\pi^{2}}}{2}\\right)} \\cos{\\left(2 \\pi y \\right)} + 4 \\pi^{2} Re \\left(- 5 Re^{2} + 3 Re \\sqrt{Re^{2} + 16 \\pi^{2}} - 16 \\pi^{2}\\right) e^{x \\left(Re + \\frac{11 \\sqrt{Re^{2} + 16 \\pi^{2}}}{2}\\right)} \\cos{\\left(2 \\pi y \\right)} + 8 \\pi^{2} Re \\left(- 3 Re^{2} + 2 Re \\sqrt{Re^{2} + 16 \\pi^{2}} - 20 \\pi^{2}\\right) e^{x \\left(\\frac{Re}{2} + 6 \\sqrt{Re^{2} + 16 \\pi^{2}}\\right)} + 64 \\pi^{4} \\sqrt{Re^{2} + 16 \\pi^{2}} e^{\\frac{x \\left(Re + 12 \\sqrt{Re^{2} + 16 \\pi^{2}}\\right)}{2}}\\right) e^{- \\frac{13 x \\sqrt{Re^{2} + 16 \\pi^{2}}}{2}} \\sin{\\left(2 \\pi y \\right)}}{24 \\pi Re}$"
      ],
      "text/plain": [
       "(Re**4*(-Re + sqrt(Re**2 + 16*pi**2))*exp(x*(Re/2 + 6*sqrt(Re**2 + 16*pi**2))) + Re**4*(-Re + sqrt(Re**2 + 16*pi**2))*exp(x*(Re + 11*sqrt(Re**2 + 16*pi**2)/2))*cos(2*pi*y) + 4*pi**2*Re*(-5*Re**2 + 3*Re*sqrt(Re**2 + 16*pi**2) - 16*pi**2)*exp(x*(Re + 11*sqrt(Re**2 + 16*pi**2)/2))*cos(2*pi*y) + 8*pi**2*Re*(-3*Re**2 + 2*Re*sqrt(Re**2 + 16*pi**2) - 20*pi**2)*exp(x*(Re/2 + 6*sqrt(Re**2 + 16*pi**2))) + 64*pi**4*sqrt(Re**2 + 16*pi**2)*exp(x*(Re + 12*sqrt(Re**2 + 16*pi**2))/2))*exp(-13*x*sqrt(Re**2 + 16*pi**2)/2)*sin(2*pi*y)/(24*pi*Re)"
      ]
     },
     "metadata": {},
     "output_type": "display_data"
    },
    {
     "name": "stdout",
     "output_type": "stream",
     "text": [
      "0\n",
      "+\\tau\\big(\n",
      "0\n",
      "\\big)\n",
      "+h^2\\big(\n",
      "\\frac{\\left(Re^{4} \\left(- Re + \\sqrt{Re^{2} + 16 \\pi^{2}}\\right) e^{x \\left(\\frac{Re}{2} + 6 \\sqrt{Re^{2} + 16 \\pi^{2}}\\right)} + Re^{4} \\left(- Re + \\sqrt{Re^{2} + 16 \\pi^{2}}\\right) e^{x \\left(Re + \\frac{11 \\sqrt{Re^{2} + 16 \\pi^{2}}}{2}\\right)} \\cos{\\left(2 \\pi y \\right)} + 4 \\pi^{2} Re \\left(- 5 Re^{2} + 3 Re \\sqrt{Re^{2} + 16 \\pi^{2}} - 16 \\pi^{2}\\right) e^{x \\left(Re + \\frac{11 \\sqrt{Re^{2} + 16 \\pi^{2}}}{2}\\right)} \\cos{\\left(2 \\pi y \\right)} + 8 \\pi^{2} Re \\left(- 3 Re^{2} + 2 Re \\sqrt{Re^{2} + 16 \\pi^{2}} - 20 \\pi^{2}\\right) e^{x \\left(\\frac{Re}{2} + 6 \\sqrt{Re^{2} + 16 \\pi^{2}}\\right)} + 64 \\pi^{4} \\sqrt{Re^{2} + 16 \\pi^{2}} e^{\\frac{x \\left(Re + 12 \\sqrt{Re^{2} + 16 \\pi^{2}}\\right)}{2}}\\right) e^{- \\frac{13 x \\sqrt{Re^{2} + 16 \\pi^{2}}}{2}} \\sin{\\left(2 \\pi y \\right)}}{24 \\pi Re}\n",
      "\\big)\n"
     ]
    },
    {
     "data": {
      "text/latex": [
       "$\\displaystyle p_{xx} + p_{yy} + u u_{xx} + u v_{xy} + u_{xy} v + u_{x}^{2} + 2 u_{y} v_{x} + v v_{yy} + v_{y}^{2}$"
      ],
      "text/plain": [
       "p_{xx} + p_{yy} + u*u_{xx} + u*v_{xy} + u_{xy}*v + u_{x}**2 + 2*u_{y}*v_{x} + v*v_{yy} + v_{y}**2"
      ]
     },
     "metadata": {},
     "output_type": "display_data"
    },
    {
     "name": "stdout",
     "output_type": "stream",
     "text": [
      "tau =>\n"
     ]
    },
    {
     "data": {
      "text/latex": [
       "$\\displaystyle 0$"
      ],
      "text/plain": [
       "0"
      ]
     },
     "metadata": {},
     "output_type": "display_data"
    },
    {
     "name": "stdout",
     "output_type": "stream",
     "text": [
      "h^2 =>\n"
     ]
    },
    {
     "data": {
      "text/latex": [
       "$\\displaystyle \\frac{p_{xxxx}}{3} + \\frac{p_{yyyy}}{3} + \\frac{u u_{xxxx}}{3} + \\frac{u v_{xxxy}}{6} + \\frac{u v_{xyyy}}{6} + \\frac{u_{xxxy} v}{6} + \\frac{5 u_{xxx} u_{x}}{6} + \\frac{u_{xxy} v_{x}}{2} + \\frac{u_{xx}^{2}}{2} + \\frac{u_{xyyy} v}{6} + \\frac{u_{xy} v_{xx}}{2} + \\frac{u_{yyy} v_{x}}{3} + \\frac{u_{yy} v_{xy}}{2} + \\frac{u_{y} v_{xxx}}{3} + \\frac{u_{y} v_{xyy}}{2} + \\frac{v v_{yyyy}}{3} + \\frac{5 v_{yyy} v_{y}}{6} + \\frac{v_{yy}^{2}}{2}$"
      ],
      "text/plain": [
       "p_{xxxx}/3 + p_{yyyy}/3 + u*u_{xxxx}/3 + u*v_{xxxy}/6 + u*v_{xyyy}/6 + u_{xxxy}*v/6 + 5*u_{xxx}*u_{x}/6 + u_{xxy}*v_{x}/2 + u_{xx}**2/2 + u_{xyyy}*v/6 + u_{xy}*v_{xx}/2 + u_{yyy}*v_{x}/3 + u_{yy}*v_{xy}/2 + u_{y}*v_{xxx}/3 + u_{y}*v_{xyy}/2 + v*v_{yyyy}/3 + 5*v_{yyy}*v_{y}/6 + v_{yy}**2/2"
      ]
     },
     "metadata": {},
     "output_type": "display_data"
    },
    {
     "name": "stdout",
     "output_type": "stream",
     "text": [
      "-------------------------\n"
     ]
    },
    {
     "data": {
      "text/latex": [
       "$\\displaystyle p_{xx} + p_{yy} + u u_{xx} + u v_{xy} + u_{xy} v + u_{x}^{2} + 2 u_{y} v_{x} + v v_{yy} + v_{y}^{2}$"
      ],
      "text/plain": [
       "p_{xx} + p_{yy} + u*u_{xx} + u*v_{xy} + u_{xy}*v + u_{x}**2 + 2*u_{y}*v_{x} + v*v_{yy} + v_{y}**2"
      ]
     },
     "metadata": {},
     "output_type": "display_data"
    },
    {
     "name": "stdout",
     "output_type": "stream",
     "text": [
      "tau =>\n"
     ]
    },
    {
     "data": {
      "text/latex": [
       "$\\displaystyle 0$"
      ],
      "text/plain": [
       "0"
      ]
     },
     "metadata": {},
     "output_type": "display_data"
    },
    {
     "name": "stdout",
     "output_type": "stream",
     "text": [
      "h^2 =>\n"
     ]
    },
    {
     "data": {
      "text/latex": [
       "$\\displaystyle \\frac{5 Re^{2} p_{x} v v_{x}}{6} - \\frac{Re^{2} p_{yy} u^{2}}{6} - \\frac{Re^{2} p_{y} u u_{y}}{2} - \\frac{Re^{2} u^{3} v_{xy}}{6} - \\frac{2 Re^{2} u^{2} u_{y} v_{x}}{3} - \\frac{Re^{2} u^{2} v v_{yy}}{6} - \\frac{Re^{2} u^{2} v_{ty}}{6} - \\frac{Re^{2} u^{2} v_{y}^{2}}{6} - \\frac{Re^{2} u u_{y} v v_{y}}{2} - \\frac{Re^{2} u u_{y} v_{t}}{2} - \\frac{5 Re^{2} u v v_{x} v_{y}}{6} + \\frac{5 Re^{2} u_{t} v v_{x}}{6} + \\frac{5 Re^{2} u_{y} v^{2} v_{x}}{6} - \\frac{Re p_{xyy} u}{6} - \\frac{Re p_{xy} u_{y}}{3} + Re p_{xy} v_{x} + \\frac{11 Re p_{x} v_{xy}}{6} - \\frac{Re p_{yyy} v}{6} - \\frac{Re p_{yy} v_{y}}{2} + \\frac{5 Re p_{y} v_{yy}}{6} + \\frac{Re u^{2} v_{yyy}}{6} + \\frac{Re u u_{y} v_{yy}}{2} - \\frac{Re u v v_{xyy}}{3} - \\frac{Re u v_{txy}}{6} - \\frac{5 Re u v_{xy} v_{y}}{2} - \\frac{Re u v_{x} v_{yy}}{6} + Re u_{ty} v_{x} + \\frac{11 Re u_{t} v_{xy}}{6} + \\frac{7 Re u_{y} v v_{xy}}{6} - \\frac{Re u_{y} v_{tx}}{3} - \\frac{Re u_{y} v_{x} v_{y}}{2} - \\frac{Re v^{2} v_{yyy}}{6} - \\frac{Re v v_{tyy}}{6} + \\frac{5 Re v v_{xy} v_{x}}{6} - \\frac{Re v v_{yy} v_{y}}{6} - \\frac{Re v_{ty} v_{y}}{2} + \\frac{5 Re v_{t} v_{yy}}{6} - \\frac{Re v_{y}^{3}}{2} + \\frac{2 p_{yyyy}}{3} + \\frac{u v_{xyyy}}{3} + \\frac{3 u_{y} v_{xyy}}{2} + \\frac{v v_{yyyy}}{3} + \\frac{7 v_{xyy} v_{x}}{6} + v_{xy}^{2} + \\frac{8 v_{yyy} v_{y}}{3} + v_{yy}^{2}$"
      ],
      "text/plain": [
       "5*Re**2*p_{x}*v*v_{x}/6 - Re**2*p_{yy}*u**2/6 - Re**2*p_{y}*u*u_{y}/2 - Re**2*u**3*v_{xy}/6 - 2*Re**2*u**2*u_{y}*v_{x}/3 - Re**2*u**2*v*v_{yy}/6 - Re**2*u**2*v_{ty}/6 - Re**2*u**2*v_{y}**2/6 - Re**2*u*u_{y}*v*v_{y}/2 - Re**2*u*u_{y}*v_{t}/2 - 5*Re**2*u*v*v_{x}*v_{y}/6 + 5*Re**2*u_{t}*v*v_{x}/6 + 5*Re**2*u_{y}*v**2*v_{x}/6 - Re*p_{xyy}*u/6 - Re*p_{xy}*u_{y}/3 + Re*p_{xy}*v_{x} + 11*Re*p_{x}*v_{xy}/6 - Re*p_{yyy}*v/6 - Re*p_{yy}*v_{y}/2 + 5*Re*p_{y}*v_{yy}/6 + Re*u**2*v_{yyy}/6 + Re*u*u_{y}*v_{yy}/2 - Re*u*v*v_{xyy}/3 - Re*u*v_{txy}/6 - 5*Re*u*v_{xy}*v_{y}/2 - Re*u*v_{x}*v_{yy}/6 + Re*u_{ty}*v_{x} + 11*Re*u_{t}*v_{xy}/6 + 7*Re*u_{y}*v*v_{xy}/6 - Re*u_{y}*v_{tx}/3 - Re*u_{y}*v_{x}*v_{y}/2 - Re*v**2*v_{yyy}/6 - Re*v*v_{tyy}/6 + 5*Re*v*v_{xy}*v_{x}/6 - Re*v*v_{yy}*v_{y}/6 - Re*v_{ty}*v_{y}/2 + 5*Re*v_{t}*v_{yy}/6 - Re*v_{y}**3/2 + 2*p_{yyyy}/3 + u*v_{xyyy}/3 + 3*u_{y}*v_{xyy}/2 + v*v_{yyyy}/3 + 7*v_{xyy}*v_{x}/6 + v_{xy}**2 + 8*v_{yyy}*v_{y}/3 + v_{yy}**2"
      ]
     },
     "metadata": {},
     "output_type": "display_data"
    },
    {
     "name": "stdout",
     "output_type": "stream",
     "text": [
      "p_{xx} + p_{yy} + u u_{xx} + u v_{xy} + u_{xy} v + u_{x}^{2} + 2 u_{y} v_{x} + v v_{yy} + v_{y}^{2}\n",
      "+\\tau\\big(\n",
      "0\n",
      "\\big)\n",
      "+h^2\\big(\n",
      "\\frac{5 Re^{2} p_{x} v v_{x}}{6} - \\frac{Re^{2} p_{yy} u^{2}}{6} - \\frac{Re^{2} p_{y} u u_{y}}{2} - \\frac{Re^{2} u^{3} v_{xy}}{6} - \\frac{2 Re^{2} u^{2} u_{y} v_{x}}{3} - \\frac{Re^{2} u^{2} v v_{yy}}{6} - \\frac{Re^{2} u^{2} v_{ty}}{6} - \\frac{Re^{2} u^{2} v_{y}^{2}}{6} - \\frac{Re^{2} u u_{y} v v_{y}}{2} - \\frac{Re^{2} u u_{y} v_{t}}{2} - \\frac{5 Re^{2} u v v_{x} v_{y}}{6} + \\frac{5 Re^{2} u_{t} v v_{x}}{6} + \\frac{5 Re^{2} u_{y} v^{2} v_{x}}{6} - \\frac{Re p_{xyy} u}{6} - \\frac{Re p_{xy} u_{y}}{3} + Re p_{xy} v_{x} + \\frac{11 Re p_{x} v_{xy}}{6} - \\frac{Re p_{yyy} v}{6} - \\frac{Re p_{yy} v_{y}}{2} + \\frac{5 Re p_{y} v_{yy}}{6} + \\frac{Re u^{2} v_{yyy}}{6} + \\frac{Re u u_{y} v_{yy}}{2} - \\frac{Re u v v_{xyy}}{3} - \\frac{Re u v_{txy}}{6} - \\frac{5 Re u v_{xy} v_{y}}{2} - \\frac{Re u v_{x} v_{yy}}{6} + Re u_{ty} v_{x} + \\frac{11 Re u_{t} v_{xy}}{6} + \\frac{7 Re u_{y} v v_{xy}}{6} - \\frac{Re u_{y} v_{tx}}{3} - \\frac{Re u_{y} v_{x} v_{y}}{2} - \\frac{Re v^{2} v_{yyy}}{6} - \\frac{Re v v_{tyy}}{6} + \\frac{5 Re v v_{xy} v_{x}}{6} - \\frac{Re v v_{yy} v_{y}}{6} - \\frac{Re v_{ty} v_{y}}{2} + \\frac{5 Re v_{t} v_{yy}}{6} - \\frac{Re v_{y}^{3}}{2} + \\frac{2 p_{yyyy}}{3} + \\frac{u v_{xyyy}}{3} + \\frac{3 u_{y} v_{xyy}}{2} + \\frac{v v_{yyyy}}{3} + \\frac{7 v_{xyy} v_{x}}{6} + v_{xy}^{2} + \\frac{8 v_{yyy} v_{y}}{3} + v_{yy}^{2}\n",
      "\\big)\n"
     ]
    },
    {
     "data": {
      "text/latex": [
       "$\\displaystyle 0$"
      ],
      "text/plain": [
       "0"
      ]
     },
     "metadata": {},
     "output_type": "display_data"
    },
    {
     "name": "stdout",
     "output_type": "stream",
     "text": [
      "tau =>\n"
     ]
    },
    {
     "data": {
      "text/latex": [
       "$\\displaystyle 0$"
      ],
      "text/plain": [
       "0"
      ]
     },
     "metadata": {},
     "output_type": "display_data"
    },
    {
     "name": "stdout",
     "output_type": "stream",
     "text": [
      "h^2 =>\n"
     ]
    },
    {
     "data": {
      "text/latex": [
       "$\\displaystyle \\left(\\sin^{2}{\\left(x \\right)} + \\sin^{2}{\\left(y \\right)} - 1\\right) e^{- \\frac{4 t}{Re}}$"
      ],
      "text/plain": [
       "(sin(x)**2 + sin(y)**2 - 1)*exp(-4*t/Re)"
      ]
     },
     "metadata": {},
     "output_type": "display_data"
    },
    {
     "name": "stdout",
     "output_type": "stream",
     "text": [
      "0\n",
      "+\\tau\\big(\n",
      "0\n",
      "\\big)\n",
      "+h^2\\big(\n",
      "\\left(\\sin^{2}{\\left(x \\right)} + \\sin^{2}{\\left(y \\right)} - 1\\right) e^{- \\frac{4 t}{Re}}\n",
      "\\big)\n"
     ]
    },
    {
     "data": {
      "text/latex": [
       "$\\displaystyle 0$"
      ],
      "text/plain": [
       "0"
      ]
     },
     "metadata": {},
     "output_type": "display_data"
    },
    {
     "name": "stdout",
     "output_type": "stream",
     "text": [
      "tau =>\n"
     ]
    },
    {
     "data": {
      "text/latex": [
       "$\\displaystyle 0$"
      ],
      "text/plain": [
       "0"
      ]
     },
     "metadata": {},
     "output_type": "display_data"
    },
    {
     "name": "stdout",
     "output_type": "stream",
     "text": [
      "h^2 =>\n"
     ]
    },
    {
     "data": {
      "text/latex": [
       "$\\displaystyle \\frac{\\left(\\left(- 7 Re^{4} + 7 Re^{3} \\sqrt{Re^{2} + 16 \\pi^{2}} - 116 \\pi^{2} Re^{2} + 60 \\pi^{2} Re \\sqrt{Re^{2} + 16 \\pi^{2}} - 256 \\pi^{4}\\right) e^{x \\left(Re + 6 \\sqrt{Re^{2} + 16 \\pi^{2}}\\right)} + \\left(- Re^{4} + Re^{3} \\sqrt{Re^{2} + 16 \\pi^{2}} - 20 \\pi^{2} Re^{2} + 12 \\pi^{2} Re \\sqrt{Re^{2} + 16 \\pi^{2}} - 64 \\pi^{4}\\right) e^{\\frac{x \\left(Re + 13 \\sqrt{Re^{2} + 16 \\pi^{2}}\\right)}{2}} \\cos{\\left(2 \\pi y \\right)}\\right) e^{- 7 x \\sqrt{Re^{2} + 16 \\pi^{2}}}}{12}$"
      ],
      "text/plain": [
       "((-7*Re**4 + 7*Re**3*sqrt(Re**2 + 16*pi**2) - 116*pi**2*Re**2 + 60*pi**2*Re*sqrt(Re**2 + 16*pi**2) - 256*pi**4)*exp(x*(Re + 6*sqrt(Re**2 + 16*pi**2))) + (-Re**4 + Re**3*sqrt(Re**2 + 16*pi**2) - 20*pi**2*Re**2 + 12*pi**2*Re*sqrt(Re**2 + 16*pi**2) - 64*pi**4)*exp(x*(Re + 13*sqrt(Re**2 + 16*pi**2))/2)*cos(2*pi*y))*exp(-7*x*sqrt(Re**2 + 16*pi**2))/12"
      ]
     },
     "metadata": {},
     "output_type": "display_data"
    },
    {
     "name": "stdout",
     "output_type": "stream",
     "text": [
      "0\n",
      "+\\tau\\big(\n",
      "0\n",
      "\\big)\n",
      "+h^2\\big(\n",
      "\\frac{\\left(\\left(- 7 Re^{4} + 7 Re^{3} \\sqrt{Re^{2} + 16 \\pi^{2}} - 116 \\pi^{2} Re^{2} + 60 \\pi^{2} Re \\sqrt{Re^{2} + 16 \\pi^{2}} - 256 \\pi^{4}\\right) e^{x \\left(Re + 6 \\sqrt{Re^{2} + 16 \\pi^{2}}\\right)} + \\left(- Re^{4} + Re^{3} \\sqrt{Re^{2} + 16 \\pi^{2}} - 20 \\pi^{2} Re^{2} + 12 \\pi^{2} Re \\sqrt{Re^{2} + 16 \\pi^{2}} - 64 \\pi^{4}\\right) e^{\\frac{x \\left(Re + 13 \\sqrt{Re^{2} + 16 \\pi^{2}}\\right)}{2}} \\cos{\\left(2 \\pi y \\right)}\\right) e^{- 7 x \\sqrt{Re^{2} + 16 \\pi^{2}}}}{12}\n",
      "\\big)\n"
     ]
    },
    {
     "data": {
      "text/latex": [
       "$\\displaystyle 0$"
      ],
      "text/plain": [
       "0"
      ]
     },
     "metadata": {},
     "output_type": "display_data"
    },
    {
     "name": "stdout",
     "output_type": "stream",
     "text": [
      "tau =>\n"
     ]
    },
    {
     "data": {
      "text/latex": [
       "$\\displaystyle 0$"
      ],
      "text/plain": [
       "0"
      ]
     },
     "metadata": {},
     "output_type": "display_data"
    },
    {
     "name": "stdout",
     "output_type": "stream",
     "text": [
      "h^2 =>\n"
     ]
    },
    {
     "data": {
      "text/latex": [
       "$\\displaystyle 0$"
      ],
      "text/plain": [
       "0"
      ]
     },
     "metadata": {},
     "output_type": "display_data"
    },
    {
     "name": "stdout",
     "output_type": "stream",
     "text": [
      "0\n",
      "+\\tau\\big(\n",
      "0\n",
      "\\big)\n",
      "+h^2\\big(\n",
      "0\n",
      "\\big)\n"
     ]
    }
   ],
   "source": [
    "F1 = clip(Dx(u) + Dy(v))\n",
    "F2 = clip(Dt(u) + u*Dx(u) + v*Dy(u) + Dx(p) - DD2(u)/Re)\n",
    "F3 = clip(Dt(v) + u*Dx(v) + v*Dy(v) + Dy(p) - DD2(v)/Re)\n",
    "F4 = clip(Dx(u*Dx(u) + v*Dy(u) + Dx(p)) + Dy(u*Dx(v) + v*Dy(v) + Dy(p)))\n",
    "\n",
    "build(F1, F2, F3, F4)"
   ]
  },
  {
   "cell_type": "code",
   "execution_count": 26,
   "metadata": {},
   "outputs": [
    {
     "data": {
      "text/latex": [
       "$\\displaystyle u_{x} + v_{y}$"
      ],
      "text/plain": [
       "u_{x} + v_{y}"
      ]
     },
     "metadata": {},
     "output_type": "display_data"
    },
    {
     "name": "stdout",
     "output_type": "stream",
     "text": [
      "tau =>\n"
     ]
    },
    {
     "data": {
      "text/latex": [
       "$\\displaystyle 0$"
      ],
      "text/plain": [
       "0"
      ]
     },
     "metadata": {},
     "output_type": "display_data"
    },
    {
     "name": "stdout",
     "output_type": "stream",
     "text": [
      "h^2 =>\n"
     ]
    },
    {
     "data": {
      "text/latex": [
       "$\\displaystyle \\frac{u_{xxx}}{6} + \\frac{v_{yyy}}{6}$"
      ],
      "text/plain": [
       "u_{xxx}/6 + v_{yyy}/6"
      ]
     },
     "metadata": {},
     "output_type": "display_data"
    },
    {
     "name": "stdout",
     "output_type": "stream",
     "text": [
      "-------------------------\n"
     ]
    },
    {
     "data": {
      "text/latex": [
       "$\\displaystyle u_{x} + v_{y}$"
      ],
      "text/plain": [
       "u_{x} + v_{y}"
      ]
     },
     "metadata": {},
     "output_type": "display_data"
    },
    {
     "name": "stdout",
     "output_type": "stream",
     "text": [
      "tau =>\n"
     ]
    },
    {
     "data": {
      "text/latex": [
       "$\\displaystyle 0$"
      ],
      "text/plain": [
       "0"
      ]
     },
     "metadata": {},
     "output_type": "display_data"
    },
    {
     "name": "stdout",
     "output_type": "stream",
     "text": [
      "h^2 =>\n"
     ]
    },
    {
     "data": {
      "text/latex": [
       "$\\displaystyle - \\frac{Re p_{yy}}{6} - \\frac{Re u v_{xy}}{6} - \\frac{Re u_{y} v_{x}}{6} - \\frac{Re v v_{yy}}{6} - \\frac{Re v_{ty}}{6} - \\frac{Re v_{y}^{2}}{6} + \\frac{v_{yyy}}{3}$"
      ],
      "text/plain": [
       "-Re*p_{yy}/6 - Re*u*v_{xy}/6 - Re*u_{y}*v_{x}/6 - Re*v*v_{yy}/6 - Re*v_{ty}/6 - Re*v_{y}**2/6 + v_{yyy}/3"
      ]
     },
     "metadata": {},
     "output_type": "display_data"
    },
    {
     "name": "stdout",
     "output_type": "stream",
     "text": [
      "u_{x} + v_{y}\n",
      "+\\tau\\big(\n",
      "0\n",
      "\\big)\n",
      "+h^2\\big(\n",
      "- \\frac{Re p_{yy}}{6} - \\frac{Re u v_{xy}}{6} - \\frac{Re u_{y} v_{x}}{6} - \\frac{Re v v_{yy}}{6} - \\frac{Re v_{ty}}{6} - \\frac{Re v_{y}^{2}}{6} + \\frac{v_{yyy}}{3}\n",
      "\\big)\n"
     ]
    },
    {
     "data": {
      "text/latex": [
       "$\\displaystyle 0$"
      ],
      "text/plain": [
       "0"
      ]
     },
     "metadata": {},
     "output_type": "display_data"
    },
    {
     "name": "stdout",
     "output_type": "stream",
     "text": [
      "tau =>\n"
     ]
    },
    {
     "data": {
      "text/latex": [
       "$\\displaystyle 0$"
      ],
      "text/plain": [
       "0"
      ]
     },
     "metadata": {},
     "output_type": "display_data"
    },
    {
     "name": "stdout",
     "output_type": "stream",
     "text": [
      "h^2 =>\n"
     ]
    },
    {
     "data": {
      "text/latex": [
       "$\\displaystyle 0$"
      ],
      "text/plain": [
       "0"
      ]
     },
     "metadata": {},
     "output_type": "display_data"
    },
    {
     "name": "stdout",
     "output_type": "stream",
     "text": [
      "0\n",
      "+\\tau\\big(\n",
      "0\n",
      "\\big)\n",
      "+h^2\\big(\n",
      "0\n",
      "\\big)\n"
     ]
    },
    {
     "data": {
      "text/latex": [
       "$\\displaystyle 0$"
      ],
      "text/plain": [
       "0"
      ]
     },
     "metadata": {},
     "output_type": "display_data"
    },
    {
     "name": "stdout",
     "output_type": "stream",
     "text": [
      "tau =>\n"
     ]
    },
    {
     "data": {
      "text/latex": [
       "$\\displaystyle 0$"
      ],
      "text/plain": [
       "0"
      ]
     },
     "metadata": {},
     "output_type": "display_data"
    },
    {
     "name": "stdout",
     "output_type": "stream",
     "text": [
      "h^2 =>\n"
     ]
    },
    {
     "data": {
      "text/latex": [
       "$\\displaystyle \\frac{\\left(- Re^{3} + Re^{2} \\sqrt{Re^{2} + 16 \\pi^{2}} - 16 \\pi^{2} Re + 8 \\pi^{2} \\sqrt{Re^{2} + 16 \\pi^{2}}\\right) e^{\\frac{x \\left(Re - \\sqrt{Re^{2} + 16 \\pi^{2}}\\right)}{2}} \\cos{\\left(2 \\pi y \\right)}}{12}$"
      ],
      "text/plain": [
       "(-Re**3 + Re**2*sqrt(Re**2 + 16*pi**2) - 16*pi**2*Re + 8*pi**2*sqrt(Re**2 + 16*pi**2))*exp(x*(Re - sqrt(Re**2 + 16*pi**2))/2)*cos(2*pi*y)/12"
      ]
     },
     "metadata": {},
     "output_type": "display_data"
    },
    {
     "name": "stdout",
     "output_type": "stream",
     "text": [
      "0\n",
      "+\\tau\\big(\n",
      "0\n",
      "\\big)\n",
      "+h^2\\big(\n",
      "\\frac{\\left(- Re^{3} + Re^{2} \\sqrt{Re^{2} + 16 \\pi^{2}} - 16 \\pi^{2} Re + 8 \\pi^{2} \\sqrt{Re^{2} + 16 \\pi^{2}}\\right) e^{\\frac{x \\left(Re - \\sqrt{Re^{2} + 16 \\pi^{2}}\\right)}{2}} \\cos{\\left(2 \\pi y \\right)}}{12}\n",
      "\\big)\n"
     ]
    },
    {
     "data": {
      "text/latex": [
       "$\\displaystyle p_{x} + u u_{x} + u_{t} + u_{y} v - \\frac{u_{xx}}{Re} - \\frac{u_{yy}}{Re}$"
      ],
      "text/plain": [
       "p_{x} + u*u_{x} + u_{t} + u_{y}*v - u_{xx}/Re - u_{yy}/Re"
      ]
     },
     "metadata": {},
     "output_type": "display_data"
    },
    {
     "name": "stdout",
     "output_type": "stream",
     "text": [
      "tau =>\n"
     ]
    },
    {
     "data": {
      "text/latex": [
       "$\\displaystyle \\frac{p_{tx}}{2} + \\frac{u u_{tx}}{2} + \\frac{u_{tt}}{2} + \\frac{u_{ty} v}{2} + \\frac{u_{t} u_{x}}{2} + \\frac{u_{y} v_{t}}{2} - \\frac{u_{txx}}{2 Re} - \\frac{u_{tyy}}{2 Re}$"
      ],
      "text/plain": [
       "p_{tx}/2 + u*u_{tx}/2 + u_{tt}/2 + u_{ty}*v/2 + u_{t}*u_{x}/2 + u_{y}*v_{t}/2 - u_{txx}/(2*Re) - u_{tyy}/(2*Re)"
      ]
     },
     "metadata": {},
     "output_type": "display_data"
    },
    {
     "name": "stdout",
     "output_type": "stream",
     "text": [
      "h^2 =>\n"
     ]
    },
    {
     "data": {
      "text/latex": [
       "$\\displaystyle \\frac{p_{xxx}}{6} + \\frac{u u_{xxx}}{6} + \\frac{u_{yyy} v}{6} - \\frac{u_{xxxx}}{12 Re} - \\frac{u_{yyyy}}{12 Re}$"
      ],
      "text/plain": [
       "p_{xxx}/6 + u*u_{xxx}/6 + u_{yyy}*v/6 - u_{xxxx}/(12*Re) - u_{yyyy}/(12*Re)"
      ]
     },
     "metadata": {},
     "output_type": "display_data"
    },
    {
     "name": "stdout",
     "output_type": "stream",
     "text": [
      "-------------------------\n"
     ]
    },
    {
     "data": {
      "text/latex": [
       "$\\displaystyle p_{x} + u u_{x} + u_{t} + u_{y} v - \\frac{u_{xx}}{Re} - \\frac{u_{yy}}{Re}$"
      ],
      "text/plain": [
       "p_{x} + u*u_{x} + u_{t} + u_{y}*v - u_{xx}/Re - u_{yy}/Re"
      ]
     },
     "metadata": {},
     "output_type": "display_data"
    },
    {
     "name": "stdout",
     "output_type": "stream",
     "text": [
      "tau =>\n"
     ]
    },
    {
     "data": {
      "text/latex": [
       "$\\displaystyle 0$"
      ],
      "text/plain": [
       "0"
      ]
     },
     "metadata": {},
     "output_type": "display_data"
    },
    {
     "name": "stdout",
     "output_type": "stream",
     "text": [
      "h^2 =>\n"
     ]
    },
    {
     "data": {
      "text/latex": [
       "$\\displaystyle \\frac{Re^{2} p_{x} v^{2}}{12} - \\frac{Re^{2} u v^{2} v_{y}}{12} + \\frac{Re^{2} u_{t} v^{2}}{12} + \\frac{Re^{2} u_{y} v^{3}}{12} - \\frac{Re p_{tx}}{12} + \\frac{Re p_{xy} v}{12} - \\frac{Re p_{x} v_{y}}{12} - \\frac{Re p_{yy} u}{12} - \\frac{Re p_{y} u_{y}}{4} - \\frac{Re u^{2} v_{xy}}{12} - \\frac{Re u u_{y} v_{x}}{3} - \\frac{Re u v v_{yy}}{6} - \\frac{Re u_{tt}}{12} - \\frac{Re u_{y} v v_{y}}{3} - \\frac{Re u_{y} v_{t}}{3} + \\frac{Re v^{2} v_{xy}}{12} - \\frac{p_{xyy}}{6} + \\frac{u v_{yyy}}{6} + \\frac{u_{y} v_{yy}}{3} + \\frac{v v_{xyy}}{6} - \\frac{2 v_{xy} v_{y}}{3} + \\frac{v_{x} v_{yy}}{3} - \\frac{v_{xyyy}}{6 Re}$"
      ],
      "text/plain": [
       "Re**2*p_{x}*v**2/12 - Re**2*u*v**2*v_{y}/12 + Re**2*u_{t}*v**2/12 + Re**2*u_{y}*v**3/12 - Re*p_{tx}/12 + Re*p_{xy}*v/12 - Re*p_{x}*v_{y}/12 - Re*p_{yy}*u/12 - Re*p_{y}*u_{y}/4 - Re*u**2*v_{xy}/12 - Re*u*u_{y}*v_{x}/3 - Re*u*v*v_{yy}/6 - Re*u_{tt}/12 - Re*u_{y}*v*v_{y}/3 - Re*u_{y}*v_{t}/3 + Re*v**2*v_{xy}/12 - p_{xyy}/6 + u*v_{yyy}/6 + u_{y}*v_{yy}/3 + v*v_{xyy}/6 - 2*v_{xy}*v_{y}/3 + v_{x}*v_{yy}/3 - v_{xyyy}/(6*Re)"
      ]
     },
     "metadata": {},
     "output_type": "display_data"
    },
    {
     "name": "stdout",
     "output_type": "stream",
     "text": [
      "p_{x} + u u_{x} + u_{t} + u_{y} v - \\frac{u_{xx}}{Re} - \\frac{u_{yy}}{Re}\n",
      "+\\tau\\big(\n",
      "0\n",
      "\\big)\n",
      "+h^2\\big(\n",
      "\\frac{Re^{2} p_{x} v^{2}}{12} - \\frac{Re^{2} u v^{2} v_{y}}{12} + \\frac{Re^{2} u_{t} v^{2}}{12} + \\frac{Re^{2} u_{y} v^{3}}{12} - \\frac{Re p_{tx}}{12} + \\frac{Re p_{xy} v}{12} - \\frac{Re p_{x} v_{y}}{12} - \\frac{Re p_{yy} u}{12} - \\frac{Re p_{y} u_{y}}{4} - \\frac{Re u^{2} v_{xy}}{12} - \\frac{Re u u_{y} v_{x}}{3} - \\frac{Re u v v_{yy}}{6} - \\frac{Re u_{tt}}{12} - \\frac{Re u_{y} v v_{y}}{3} - \\frac{Re u_{y} v_{t}}{3} + \\frac{Re v^{2} v_{xy}}{12} - \\frac{p_{xyy}}{6} + \\frac{u v_{yyy}}{6} + \\frac{u_{y} v_{yy}}{3} + \\frac{v v_{xyy}}{6} - \\frac{2 v_{xy} v_{y}}{3} + \\frac{v_{x} v_{yy}}{3} - \\frac{v_{xyyy}}{6 Re}\n",
      "\\big)\n"
     ]
    },
    {
     "data": {
      "text/latex": [
       "$\\displaystyle 0$"
      ],
      "text/plain": [
       "0"
      ]
     },
     "metadata": {},
     "output_type": "display_data"
    },
    {
     "name": "stdout",
     "output_type": "stream",
     "text": [
      "tau =>\n"
     ]
    },
    {
     "data": {
      "text/latex": [
       "$\\displaystyle 0$"
      ],
      "text/plain": [
       "0"
      ]
     },
     "metadata": {},
     "output_type": "display_data"
    },
    {
     "name": "stdout",
     "output_type": "stream",
     "text": [
      "h^2 =>\n"
     ]
    },
    {
     "data": {
      "text/latex": [
       "$\\displaystyle \\frac{\\left(- 3 Re \\sin{\\left(x \\right)} + e^{\\frac{2 t}{Re}} \\sin{\\left(y \\right)}\\right) e^{- \\frac{4 t}{Re}} \\cos{\\left(x \\right)}}{6 Re}$"
      ],
      "text/plain": [
       "(-3*Re*sin(x) + exp(2*t/Re)*sin(y))*exp(-4*t/Re)*cos(x)/(6*Re)"
      ]
     },
     "metadata": {},
     "output_type": "display_data"
    },
    {
     "name": "stdout",
     "output_type": "stream",
     "text": [
      "0\n",
      "+\\tau\\big(\n",
      "0\n",
      "\\big)\n",
      "+h^2\\big(\n",
      "\\frac{\\left(- 3 Re \\sin{\\left(x \\right)} + e^{\\frac{2 t}{Re}} \\sin{\\left(y \\right)}\\right) e^{- \\frac{4 t}{Re}} \\cos{\\left(x \\right)}}{6 Re}\n",
      "\\big)\n"
     ]
    },
    {
     "data": {
      "text/latex": [
       "$\\displaystyle 0$"
      ],
      "text/plain": [
       "0"
      ]
     },
     "metadata": {},
     "output_type": "display_data"
    },
    {
     "name": "stdout",
     "output_type": "stream",
     "text": [
      "tau =>\n"
     ]
    },
    {
     "data": {
      "text/latex": [
       "$\\displaystyle 0$"
      ],
      "text/plain": [
       "0"
      ]
     },
     "metadata": {},
     "output_type": "display_data"
    },
    {
     "name": "stdout",
     "output_type": "stream",
     "text": [
      "h^2 =>\n"
     ]
    },
    {
     "data": {
      "text/latex": [
       "$\\displaystyle \\frac{\\left(Re^{2} \\left(- Re^{2} + Re \\sqrt{Re^{2} + 16 \\pi^{2}} - 8 \\pi^{2}\\right) e^{x \\left(\\frac{Re}{2} + 7 \\sqrt{Re^{2} + 16 \\pi^{2}}\\right)} \\cos{\\left(2 \\pi y \\right)} + 2 Re \\left(- 4 Re^{3} \\sin^{2}{\\left(2 \\pi y \\right)} - 3 Re^{3} \\cos^{2}{\\left(2 \\pi y \\right)} + 4 Re^{2} \\sqrt{Re^{2} + 16 \\pi^{2}} \\sin^{2}{\\left(2 \\pi y \\right)} + 3 Re^{2} \\sqrt{Re^{2} + 16 \\pi^{2}} \\cos^{2}{\\left(2 \\pi y \\right)} - 52 \\pi^{2} Re \\sin^{2}{\\left(2 \\pi y \\right)} - 36 \\pi^{2} Re \\cos^{2}{\\left(2 \\pi y \\right)} + 20 \\pi^{2} \\sqrt{Re^{2} + 16 \\pi^{2}} \\sin^{2}{\\left(2 \\pi y \\right)} + 12 \\pi^{2} \\sqrt{Re^{2} + 16 \\pi^{2}} \\cos^{2}{\\left(2 \\pi y \\right)}\\right) e^{x \\left(Re + \\frac{13 \\sqrt{Re^{2} + 16 \\pi^{2}}}{2}\\right)} + 64 \\pi^{4} e^{\\frac{x \\left(Re + 14 \\sqrt{Re^{2} + 16 \\pi^{2}}\\right)}{2}} \\cos{\\left(2 \\pi y \\right)}\\right) e^{- \\frac{15 x \\sqrt{Re^{2} + 16 \\pi^{2}}}{2}}}{24 Re}$"
      ],
      "text/plain": [
       "(Re**2*(-Re**2 + Re*sqrt(Re**2 + 16*pi**2) - 8*pi**2)*exp(x*(Re/2 + 7*sqrt(Re**2 + 16*pi**2)))*cos(2*pi*y) + 2*Re*(-4*Re**3*sin(2*pi*y)**2 - 3*Re**3*cos(2*pi*y)**2 + 4*Re**2*sqrt(Re**2 + 16*pi**2)*sin(2*pi*y)**2 + 3*Re**2*sqrt(Re**2 + 16*pi**2)*cos(2*pi*y)**2 - 52*pi**2*Re*sin(2*pi*y)**2 - 36*pi**2*Re*cos(2*pi*y)**2 + 20*pi**2*sqrt(Re**2 + 16*pi**2)*sin(2*pi*y)**2 + 12*pi**2*sqrt(Re**2 + 16*pi**2)*cos(2*pi*y)**2)*exp(x*(Re + 13*sqrt(Re**2 + 16*pi**2)/2)) + 64*pi**4*exp(x*(Re + 14*sqrt(Re**2 + 16*pi**2))/2)*cos(2*pi*y))*exp(-15*x*sqrt(Re**2 + 16*pi**2)/2)/(24*Re)"
      ]
     },
     "metadata": {},
     "output_type": "display_data"
    },
    {
     "name": "stdout",
     "output_type": "stream",
     "text": [
      "0\n",
      "+\\tau\\big(\n",
      "0\n",
      "\\big)\n",
      "+h^2\\big(\n",
      "\\frac{\\left(Re^{2} \\left(- Re^{2} + Re \\sqrt{Re^{2} + 16 \\pi^{2}} - 8 \\pi^{2}\\right) e^{x \\left(\\frac{Re}{2} + 7 \\sqrt{Re^{2} + 16 \\pi^{2}}\\right)} \\cos{\\left(2 \\pi y \\right)} + 2 Re \\left(- 4 Re^{3} \\sin^{2}{\\left(2 \\pi y \\right)} - 3 Re^{3} \\cos^{2}{\\left(2 \\pi y \\right)} + 4 Re^{2} \\sqrt{Re^{2} + 16 \\pi^{2}} \\sin^{2}{\\left(2 \\pi y \\right)} + 3 Re^{2} \\sqrt{Re^{2} + 16 \\pi^{2}} \\cos^{2}{\\left(2 \\pi y \\right)} - 52 \\pi^{2} Re \\sin^{2}{\\left(2 \\pi y \\right)} - 36 \\pi^{2} Re \\cos^{2}{\\left(2 \\pi y \\right)} + 20 \\pi^{2} \\sqrt{Re^{2} + 16 \\pi^{2}} \\sin^{2}{\\left(2 \\pi y \\right)} + 12 \\pi^{2} \\sqrt{Re^{2} + 16 \\pi^{2}} \\cos^{2}{\\left(2 \\pi y \\right)}\\right) e^{x \\left(Re + \\frac{13 \\sqrt{Re^{2} + 16 \\pi^{2}}}{2}\\right)} + 64 \\pi^{4} e^{\\frac{x \\left(Re + 14 \\sqrt{Re^{2} + 16 \\pi^{2}}\\right)}{2}} \\cos{\\left(2 \\pi y \\right)}\\right) e^{- \\frac{15 x \\sqrt{Re^{2} + 16 \\pi^{2}}}{2}}}{24 Re}\n",
      "\\big)\n"
     ]
    },
    {
     "data": {
      "text/latex": [
       "$\\displaystyle p_{y} + u v_{x} + v v_{y} + v_{t} - \\frac{v_{xx}}{Re} - \\frac{v_{yy}}{Re}$"
      ],
      "text/plain": [
       "p_{y} + u*v_{x} + v*v_{y} + v_{t} - v_{xx}/Re - v_{yy}/Re"
      ]
     },
     "metadata": {},
     "output_type": "display_data"
    },
    {
     "name": "stdout",
     "output_type": "stream",
     "text": [
      "tau =>\n"
     ]
    },
    {
     "data": {
      "text/latex": [
       "$\\displaystyle \\frac{p_{ty}}{2} + \\frac{u v_{tx}}{2} + \\frac{u_{t} v_{x}}{2} + \\frac{v v_{ty}}{2} + \\frac{v_{tt}}{2} + \\frac{v_{t} v_{y}}{2} - \\frac{v_{txx}}{2 Re} - \\frac{v_{tyy}}{2 Re}$"
      ],
      "text/plain": [
       "p_{ty}/2 + u*v_{tx}/2 + u_{t}*v_{x}/2 + v*v_{ty}/2 + v_{tt}/2 + v_{t}*v_{y}/2 - v_{txx}/(2*Re) - v_{tyy}/(2*Re)"
      ]
     },
     "metadata": {},
     "output_type": "display_data"
    },
    {
     "name": "stdout",
     "output_type": "stream",
     "text": [
      "h^2 =>\n"
     ]
    },
    {
     "data": {
      "text/latex": [
       "$\\displaystyle \\frac{p_{yyy}}{6} + \\frac{u v_{xxx}}{6} + \\frac{v v_{yyy}}{6} - \\frac{v_{xxxx}}{12 Re} - \\frac{v_{yyyy}}{12 Re}$"
      ],
      "text/plain": [
       "p_{yyy}/6 + u*v_{xxx}/6 + v*v_{yyy}/6 - v_{xxxx}/(12*Re) - v_{yyyy}/(12*Re)"
      ]
     },
     "metadata": {},
     "output_type": "display_data"
    },
    {
     "name": "stdout",
     "output_type": "stream",
     "text": [
      "-------------------------\n"
     ]
    },
    {
     "data": {
      "text/latex": [
       "$\\displaystyle p_{y} + u v_{x} + v v_{y} + v_{t} - \\frac{v_{xx}}{Re} - \\frac{v_{yy}}{Re}$"
      ],
      "text/plain": [
       "p_{y} + u*v_{x} + v*v_{y} + v_{t} - v_{xx}/Re - v_{yy}/Re"
      ]
     },
     "metadata": {},
     "output_type": "display_data"
    },
    {
     "name": "stdout",
     "output_type": "stream",
     "text": [
      "tau =>\n"
     ]
    },
    {
     "data": {
      "text/latex": [
       "$\\displaystyle 0$"
      ],
      "text/plain": [
       "0"
      ]
     },
     "metadata": {},
     "output_type": "display_data"
    },
    {
     "name": "stdout",
     "output_type": "stream",
     "text": [
      "h^2 =>\n"
     ]
    },
    {
     "data": {
      "text/latex": [
       "$\\displaystyle \\frac{Re^{2} p_{y} u^{2}}{12} + \\frac{Re^{2} u^{3} v_{x}}{12} + \\frac{Re^{2} u^{2} v v_{y}}{12} + \\frac{Re^{2} u^{2} v_{t}}{12} - \\frac{Re p_{ty}}{12} + \\frac{Re p_{xy} u}{12} + \\frac{Re p_{x} v_{x}}{4} - \\frac{Re p_{yy} v}{12} + \\frac{Re p_{y} v_{y}}{12} - \\frac{Re u^{2} v_{yy}}{12} - \\frac{Re u v_{x} v_{y}}{6} + \\frac{Re u_{t} v_{x}}{6} + \\frac{Re u_{y} v v_{x}}{6} - \\frac{Re v^{2} v_{yy}}{12} - \\frac{Re v v_{ty}}{6} - \\frac{Re v_{tt}}{12} + \\frac{p_{yyy}}{3} + \\frac{u_{y} v_{xy}}{3} + \\frac{v v_{yyy}}{3} + \\frac{v_{tyy}}{6} + \\frac{v_{xy} v_{x}}{6} + \\frac{v_{yy} v_{y}}{2} - \\frac{v_{yyyy}}{6 Re}$"
      ],
      "text/plain": [
       "Re**2*p_{y}*u**2/12 + Re**2*u**3*v_{x}/12 + Re**2*u**2*v*v_{y}/12 + Re**2*u**2*v_{t}/12 - Re*p_{ty}/12 + Re*p_{xy}*u/12 + Re*p_{x}*v_{x}/4 - Re*p_{yy}*v/12 + Re*p_{y}*v_{y}/12 - Re*u**2*v_{yy}/12 - Re*u*v_{x}*v_{y}/6 + Re*u_{t}*v_{x}/6 + Re*u_{y}*v*v_{x}/6 - Re*v**2*v_{yy}/12 - Re*v*v_{ty}/6 - Re*v_{tt}/12 + p_{yyy}/3 + u_{y}*v_{xy}/3 + v*v_{yyy}/3 + v_{tyy}/6 + v_{xy}*v_{x}/6 + v_{yy}*v_{y}/2 - v_{yyyy}/(6*Re)"
      ]
     },
     "metadata": {},
     "output_type": "display_data"
    },
    {
     "name": "stdout",
     "output_type": "stream",
     "text": [
      "p_{y} + u v_{x} + v v_{y} + v_{t} - \\frac{v_{xx}}{Re} - \\frac{v_{yy}}{Re}\n",
      "+\\tau\\big(\n",
      "0\n",
      "\\big)\n",
      "+h^2\\big(\n",
      "\\frac{Re^{2} p_{y} u^{2}}{12} + \\frac{Re^{2} u^{3} v_{x}}{12} + \\frac{Re^{2} u^{2} v v_{y}}{12} + \\frac{Re^{2} u^{2} v_{t}}{12} - \\frac{Re p_{ty}}{12} + \\frac{Re p_{xy} u}{12} + \\frac{Re p_{x} v_{x}}{4} - \\frac{Re p_{yy} v}{12} + \\frac{Re p_{y} v_{y}}{12} - \\frac{Re u^{2} v_{yy}}{12} - \\frac{Re u v_{x} v_{y}}{6} + \\frac{Re u_{t} v_{x}}{6} + \\frac{Re u_{y} v v_{x}}{6} - \\frac{Re v^{2} v_{yy}}{12} - \\frac{Re v v_{ty}}{6} - \\frac{Re v_{tt}}{12} + \\frac{p_{yyy}}{3} + \\frac{u_{y} v_{xy}}{3} + \\frac{v v_{yyy}}{3} + \\frac{v_{tyy}}{6} + \\frac{v_{xy} v_{x}}{6} + \\frac{v_{yy} v_{y}}{2} - \\frac{v_{yyyy}}{6 Re}\n",
      "\\big)\n"
     ]
    },
    {
     "data": {
      "text/latex": [
       "$\\displaystyle 0$"
      ],
      "text/plain": [
       "0"
      ]
     },
     "metadata": {},
     "output_type": "display_data"
    },
    {
     "name": "stdout",
     "output_type": "stream",
     "text": [
      "tau =>\n"
     ]
    },
    {
     "data": {
      "text/latex": [
       "$\\displaystyle 0$"
      ],
      "text/plain": [
       "0"
      ]
     },
     "metadata": {},
     "output_type": "display_data"
    },
    {
     "name": "stdout",
     "output_type": "stream",
     "text": [
      "h^2 =>\n"
     ]
    },
    {
     "data": {
      "text/latex": [
       "$\\displaystyle - \\frac{\\left(3 Re \\sin{\\left(y \\right)} + e^{\\frac{2 t}{Re}} \\sin{\\left(x \\right)}\\right) e^{- \\frac{4 t}{Re}} \\cos{\\left(y \\right)}}{6 Re}$"
      ],
      "text/plain": [
       "-(3*Re*sin(y) + exp(2*t/Re)*sin(x))*exp(-4*t/Re)*cos(y)/(6*Re)"
      ]
     },
     "metadata": {},
     "output_type": "display_data"
    },
    {
     "name": "stdout",
     "output_type": "stream",
     "text": [
      "0\n",
      "+\\tau\\big(\n",
      "0\n",
      "\\big)\n",
      "+h^2\\big(\n",
      "- \\frac{\\left(3 Re \\sin{\\left(y \\right)} + e^{\\frac{2 t}{Re}} \\sin{\\left(x \\right)}\\right) e^{- \\frac{4 t}{Re}} \\cos{\\left(y \\right)}}{6 Re}\n",
      "\\big)\n"
     ]
    },
    {
     "data": {
      "text/latex": [
       "$\\displaystyle 0$"
      ],
      "text/plain": [
       "0"
      ]
     },
     "metadata": {},
     "output_type": "display_data"
    },
    {
     "name": "stdout",
     "output_type": "stream",
     "text": [
      "tau =>\n"
     ]
    },
    {
     "data": {
      "text/latex": [
       "$\\displaystyle 0$"
      ],
      "text/plain": [
       "0"
      ]
     },
     "metadata": {},
     "output_type": "display_data"
    },
    {
     "name": "stdout",
     "output_type": "stream",
     "text": [
      "h^2 =>\n"
     ]
    },
    {
     "data": {
      "text/latex": [
       "$\\displaystyle \\frac{\\left(2 Re^{4} \\left(- Re + \\sqrt{Re^{2} + 16 \\pi^{2}}\\right) e^{x \\left(Re + \\frac{11 \\sqrt{Re^{2} + 16 \\pi^{2}}}{2}\\right)} \\cos{\\left(2 \\pi y \\right)} + Re^{4} \\left(Re - \\sqrt{Re^{2} + 16 \\pi^{2}}\\right) e^{x \\left(\\frac{Re}{2} + 6 \\sqrt{Re^{2} + 16 \\pi^{2}}\\right)} + 8 \\pi^{2} Re \\left(- 5 Re^{2} + 3 Re \\sqrt{Re^{2} + 16 \\pi^{2}} - 16 \\pi^{2}\\right) e^{x \\left(Re + \\frac{11 \\sqrt{Re^{2} + 16 \\pi^{2}}}{2}\\right)} \\cos{\\left(2 \\pi y \\right)} + 4 \\pi^{2} Re \\left(3 Re^{2} - Re \\sqrt{Re^{2} + 16 \\pi^{2}} - 8 \\pi^{2}\\right) e^{x \\left(\\frac{Re}{2} + 6 \\sqrt{Re^{2} + 16 \\pi^{2}}\\right)} + 32 \\pi^{4} \\sqrt{Re^{2} + 16 \\pi^{2}} e^{\\frac{x \\left(Re + 12 \\sqrt{Re^{2} + 16 \\pi^{2}}\\right)}{2}}\\right) e^{- \\frac{13 x \\sqrt{Re^{2} + 16 \\pi^{2}}}{2}} \\sin{\\left(2 \\pi y \\right)}}{48 \\pi Re}$"
      ],
      "text/plain": [
       "(2*Re**4*(-Re + sqrt(Re**2 + 16*pi**2))*exp(x*(Re + 11*sqrt(Re**2 + 16*pi**2)/2))*cos(2*pi*y) + Re**4*(Re - sqrt(Re**2 + 16*pi**2))*exp(x*(Re/2 + 6*sqrt(Re**2 + 16*pi**2))) + 8*pi**2*Re*(-5*Re**2 + 3*Re*sqrt(Re**2 + 16*pi**2) - 16*pi**2)*exp(x*(Re + 11*sqrt(Re**2 + 16*pi**2)/2))*cos(2*pi*y) + 4*pi**2*Re*(3*Re**2 - Re*sqrt(Re**2 + 16*pi**2) - 8*pi**2)*exp(x*(Re/2 + 6*sqrt(Re**2 + 16*pi**2))) + 32*pi**4*sqrt(Re**2 + 16*pi**2)*exp(x*(Re + 12*sqrt(Re**2 + 16*pi**2))/2))*exp(-13*x*sqrt(Re**2 + 16*pi**2)/2)*sin(2*pi*y)/(48*pi*Re)"
      ]
     },
     "metadata": {},
     "output_type": "display_data"
    },
    {
     "name": "stdout",
     "output_type": "stream",
     "text": [
      "0\n",
      "+\\tau\\big(\n",
      "0\n",
      "\\big)\n",
      "+h^2\\big(\n",
      "\\frac{\\left(2 Re^{4} \\left(- Re + \\sqrt{Re^{2} + 16 \\pi^{2}}\\right) e^{x \\left(Re + \\frac{11 \\sqrt{Re^{2} + 16 \\pi^{2}}}{2}\\right)} \\cos{\\left(2 \\pi y \\right)} + Re^{4} \\left(Re - \\sqrt{Re^{2} + 16 \\pi^{2}}\\right) e^{x \\left(\\frac{Re}{2} + 6 \\sqrt{Re^{2} + 16 \\pi^{2}}\\right)} + 8 \\pi^{2} Re \\left(- 5 Re^{2} + 3 Re \\sqrt{Re^{2} + 16 \\pi^{2}} - 16 \\pi^{2}\\right) e^{x \\left(Re + \\frac{11 \\sqrt{Re^{2} + 16 \\pi^{2}}}{2}\\right)} \\cos{\\left(2 \\pi y \\right)} + 4 \\pi^{2} Re \\left(3 Re^{2} - Re \\sqrt{Re^{2} + 16 \\pi^{2}} - 8 \\pi^{2}\\right) e^{x \\left(\\frac{Re}{2} + 6 \\sqrt{Re^{2} + 16 \\pi^{2}}\\right)} + 32 \\pi^{4} \\sqrt{Re^{2} + 16 \\pi^{2}} e^{\\frac{x \\left(Re + 12 \\sqrt{Re^{2} + 16 \\pi^{2}}\\right)}{2}}\\right) e^{- \\frac{13 x \\sqrt{Re^{2} + 16 \\pi^{2}}}{2}} \\sin{\\left(2 \\pi y \\right)}}{48 \\pi Re}\n",
      "\\big)\n"
     ]
    },
    {
     "data": {
      "text/latex": [
       "$\\displaystyle p_{xx} + p_{yy} + u u_{xx} + u v_{xy} + u_{xy} v + u_{x}^{2} + 2 u_{y} v_{x} + v v_{yy} + v_{y}^{2}$"
      ],
      "text/plain": [
       "p_{xx} + p_{yy} + u*u_{xx} + u*v_{xy} + u_{xy}*v + u_{x}**2 + 2*u_{y}*v_{x} + v*v_{yy} + v_{y}**2"
      ]
     },
     "metadata": {},
     "output_type": "display_data"
    },
    {
     "name": "stdout",
     "output_type": "stream",
     "text": [
      "tau =>\n"
     ]
    },
    {
     "data": {
      "text/latex": [
       "$\\displaystyle 0$"
      ],
      "text/plain": [
       "0"
      ]
     },
     "metadata": {},
     "output_type": "display_data"
    },
    {
     "name": "stdout",
     "output_type": "stream",
     "text": [
      "h^2 =>\n"
     ]
    },
    {
     "data": {
      "text/latex": [
       "$\\displaystyle \\frac{p_{xxxx}}{3} + \\frac{p_{yyyy}}{3} + \\frac{u u_{xxxx}}{3} + \\frac{u v_{xxxy}}{6} + \\frac{u v_{xyyy}}{6} + \\frac{u_{xxxy} v}{6} + \\frac{5 u_{xxx} u_{x}}{6} + \\frac{u_{xxy} v_{x}}{2} + \\frac{u_{xx}^{2}}{2} + \\frac{u_{xyyy} v}{6} + \\frac{u_{xy} v_{xx}}{2} + \\frac{u_{yyy} v_{x}}{3} + \\frac{u_{yy} v_{xy}}{2} + \\frac{u_{y} v_{xxx}}{3} + \\frac{u_{y} v_{xyy}}{2} + \\frac{v v_{yyyy}}{3} + \\frac{5 v_{yyy} v_{y}}{6} + \\frac{v_{yy}^{2}}{2}$"
      ],
      "text/plain": [
       "p_{xxxx}/3 + p_{yyyy}/3 + u*u_{xxxx}/3 + u*v_{xxxy}/6 + u*v_{xyyy}/6 + u_{xxxy}*v/6 + 5*u_{xxx}*u_{x}/6 + u_{xxy}*v_{x}/2 + u_{xx}**2/2 + u_{xyyy}*v/6 + u_{xy}*v_{xx}/2 + u_{yyy}*v_{x}/3 + u_{yy}*v_{xy}/2 + u_{y}*v_{xxx}/3 + u_{y}*v_{xyy}/2 + v*v_{yyyy}/3 + 5*v_{yyy}*v_{y}/6 + v_{yy}**2/2"
      ]
     },
     "metadata": {},
     "output_type": "display_data"
    },
    {
     "name": "stdout",
     "output_type": "stream",
     "text": [
      "-------------------------\n"
     ]
    },
    {
     "data": {
      "text/latex": [
       "$\\displaystyle p_{xx} + p_{yy} + u u_{xx} + u v_{xy} + u_{xy} v + u_{x}^{2} + 2 u_{y} v_{x} + v v_{yy} + v_{y}^{2}$"
      ],
      "text/plain": [
       "p_{xx} + p_{yy} + u*u_{xx} + u*v_{xy} + u_{xy}*v + u_{x}**2 + 2*u_{y}*v_{x} + v*v_{yy} + v_{y}**2"
      ]
     },
     "metadata": {},
     "output_type": "display_data"
    },
    {
     "name": "stdout",
     "output_type": "stream",
     "text": [
      "tau =>\n"
     ]
    },
    {
     "data": {
      "text/latex": [
       "$\\displaystyle 0$"
      ],
      "text/plain": [
       "0"
      ]
     },
     "metadata": {},
     "output_type": "display_data"
    },
    {
     "name": "stdout",
     "output_type": "stream",
     "text": [
      "h^2 =>\n"
     ]
    },
    {
     "data": {
      "text/latex": [
       "$\\displaystyle \\frac{5 Re^{2} p_{x} v v_{x}}{6} - \\frac{Re^{2} p_{yy} u^{2}}{6} - \\frac{Re^{2} p_{y} u u_{y}}{2} - \\frac{Re^{2} u^{3} v_{xy}}{6} - \\frac{2 Re^{2} u^{2} u_{y} v_{x}}{3} - \\frac{Re^{2} u^{2} v v_{yy}}{6} - \\frac{Re^{2} u^{2} v_{ty}}{6} - \\frac{Re^{2} u^{2} v_{y}^{2}}{6} - \\frac{Re^{2} u u_{y} v v_{y}}{2} - \\frac{Re^{2} u u_{y} v_{t}}{2} - \\frac{5 Re^{2} u v v_{x} v_{y}}{6} + \\frac{5 Re^{2} u_{t} v v_{x}}{6} + \\frac{5 Re^{2} u_{y} v^{2} v_{x}}{6} - \\frac{Re p_{xyy} u}{6} - \\frac{Re p_{xy} u_{y}}{3} + Re p_{xy} v_{x} + \\frac{11 Re p_{x} v_{xy}}{6} - \\frac{Re p_{yyy} v}{6} - \\frac{Re p_{yy} v_{y}}{2} + \\frac{5 Re p_{y} v_{yy}}{6} + \\frac{Re u^{2} v_{yyy}}{6} + \\frac{Re u u_{y} v_{yy}}{2} - \\frac{Re u v v_{xyy}}{3} - \\frac{Re u v_{txy}}{6} - \\frac{5 Re u v_{xy} v_{y}}{2} - \\frac{Re u v_{x} v_{yy}}{6} + Re u_{ty} v_{x} + \\frac{11 Re u_{t} v_{xy}}{6} + \\frac{7 Re u_{y} v v_{xy}}{6} - \\frac{Re u_{y} v_{tx}}{3} - \\frac{Re u_{y} v_{x} v_{y}}{2} - \\frac{Re v^{2} v_{yyy}}{6} - \\frac{Re v v_{tyy}}{6} + \\frac{5 Re v v_{xy} v_{x}}{6} - \\frac{Re v v_{yy} v_{y}}{6} - \\frac{Re v_{ty} v_{y}}{2} + \\frac{5 Re v_{t} v_{yy}}{6} - \\frac{Re v_{y}^{3}}{2} + \\frac{2 p_{yyyy}}{3} + \\frac{u v_{xyyy}}{3} + \\frac{3 u_{y} v_{xyy}}{2} + \\frac{v v_{yyyy}}{3} + \\frac{7 v_{xyy} v_{x}}{6} + v_{xy}^{2} + \\frac{8 v_{yyy} v_{y}}{3} + v_{yy}^{2}$"
      ],
      "text/plain": [
       "5*Re**2*p_{x}*v*v_{x}/6 - Re**2*p_{yy}*u**2/6 - Re**2*p_{y}*u*u_{y}/2 - Re**2*u**3*v_{xy}/6 - 2*Re**2*u**2*u_{y}*v_{x}/3 - Re**2*u**2*v*v_{yy}/6 - Re**2*u**2*v_{ty}/6 - Re**2*u**2*v_{y}**2/6 - Re**2*u*u_{y}*v*v_{y}/2 - Re**2*u*u_{y}*v_{t}/2 - 5*Re**2*u*v*v_{x}*v_{y}/6 + 5*Re**2*u_{t}*v*v_{x}/6 + 5*Re**2*u_{y}*v**2*v_{x}/6 - Re*p_{xyy}*u/6 - Re*p_{xy}*u_{y}/3 + Re*p_{xy}*v_{x} + 11*Re*p_{x}*v_{xy}/6 - Re*p_{yyy}*v/6 - Re*p_{yy}*v_{y}/2 + 5*Re*p_{y}*v_{yy}/6 + Re*u**2*v_{yyy}/6 + Re*u*u_{y}*v_{yy}/2 - Re*u*v*v_{xyy}/3 - Re*u*v_{txy}/6 - 5*Re*u*v_{xy}*v_{y}/2 - Re*u*v_{x}*v_{yy}/6 + Re*u_{ty}*v_{x} + 11*Re*u_{t}*v_{xy}/6 + 7*Re*u_{y}*v*v_{xy}/6 - Re*u_{y}*v_{tx}/3 - Re*u_{y}*v_{x}*v_{y}/2 - Re*v**2*v_{yyy}/6 - Re*v*v_{tyy}/6 + 5*Re*v*v_{xy}*v_{x}/6 - Re*v*v_{yy}*v_{y}/6 - Re*v_{ty}*v_{y}/2 + 5*Re*v_{t}*v_{yy}/6 - Re*v_{y}**3/2 + 2*p_{yyyy}/3 + u*v_{xyyy}/3 + 3*u_{y}*v_{xyy}/2 + v*v_{yyyy}/3 + 7*v_{xyy}*v_{x}/6 + v_{xy}**2 + 8*v_{yyy}*v_{y}/3 + v_{yy}**2"
      ]
     },
     "metadata": {},
     "output_type": "display_data"
    },
    {
     "name": "stdout",
     "output_type": "stream",
     "text": [
      "p_{xx} + p_{yy} + u u_{xx} + u v_{xy} + u_{xy} v + u_{x}^{2} + 2 u_{y} v_{x} + v v_{yy} + v_{y}^{2}\n",
      "+\\tau\\big(\n",
      "0\n",
      "\\big)\n",
      "+h^2\\big(\n",
      "\\frac{5 Re^{2} p_{x} v v_{x}}{6} - \\frac{Re^{2} p_{yy} u^{2}}{6} - \\frac{Re^{2} p_{y} u u_{y}}{2} - \\frac{Re^{2} u^{3} v_{xy}}{6} - \\frac{2 Re^{2} u^{2} u_{y} v_{x}}{3} - \\frac{Re^{2} u^{2} v v_{yy}}{6} - \\frac{Re^{2} u^{2} v_{ty}}{6} - \\frac{Re^{2} u^{2} v_{y}^{2}}{6} - \\frac{Re^{2} u u_{y} v v_{y}}{2} - \\frac{Re^{2} u u_{y} v_{t}}{2} - \\frac{5 Re^{2} u v v_{x} v_{y}}{6} + \\frac{5 Re^{2} u_{t} v v_{x}}{6} + \\frac{5 Re^{2} u_{y} v^{2} v_{x}}{6} - \\frac{Re p_{xyy} u}{6} - \\frac{Re p_{xy} u_{y}}{3} + Re p_{xy} v_{x} + \\frac{11 Re p_{x} v_{xy}}{6} - \\frac{Re p_{yyy} v}{6} - \\frac{Re p_{yy} v_{y}}{2} + \\frac{5 Re p_{y} v_{yy}}{6} + \\frac{Re u^{2} v_{yyy}}{6} + \\frac{Re u u_{y} v_{yy}}{2} - \\frac{Re u v v_{xyy}}{3} - \\frac{Re u v_{txy}}{6} - \\frac{5 Re u v_{xy} v_{y}}{2} - \\frac{Re u v_{x} v_{yy}}{6} + Re u_{ty} v_{x} + \\frac{11 Re u_{t} v_{xy}}{6} + \\frac{7 Re u_{y} v v_{xy}}{6} - \\frac{Re u_{y} v_{tx}}{3} - \\frac{Re u_{y} v_{x} v_{y}}{2} - \\frac{Re v^{2} v_{yyy}}{6} - \\frac{Re v v_{tyy}}{6} + \\frac{5 Re v v_{xy} v_{x}}{6} - \\frac{Re v v_{yy} v_{y}}{6} - \\frac{Re v_{ty} v_{y}}{2} + \\frac{5 Re v_{t} v_{yy}}{6} - \\frac{Re v_{y}^{3}}{2} + \\frac{2 p_{yyyy}}{3} + \\frac{u v_{xyyy}}{3} + \\frac{3 u_{y} v_{xyy}}{2} + \\frac{v v_{yyyy}}{3} + \\frac{7 v_{xyy} v_{x}}{6} + v_{xy}^{2} + \\frac{8 v_{yyy} v_{y}}{3} + v_{yy}^{2}\n",
      "\\big)\n"
     ]
    },
    {
     "data": {
      "text/latex": [
       "$\\displaystyle 0$"
      ],
      "text/plain": [
       "0"
      ]
     },
     "metadata": {},
     "output_type": "display_data"
    },
    {
     "name": "stdout",
     "output_type": "stream",
     "text": [
      "tau =>\n"
     ]
    },
    {
     "data": {
      "text/latex": [
       "$\\displaystyle 0$"
      ],
      "text/plain": [
       "0"
      ]
     },
     "metadata": {},
     "output_type": "display_data"
    },
    {
     "name": "stdout",
     "output_type": "stream",
     "text": [
      "h^2 =>\n"
     ]
    },
    {
     "data": {
      "text/latex": [
       "$\\displaystyle \\left(\\sin^{2}{\\left(x \\right)} + \\sin^{2}{\\left(y \\right)} - 1\\right) e^{- \\frac{4 t}{Re}}$"
      ],
      "text/plain": [
       "(sin(x)**2 + sin(y)**2 - 1)*exp(-4*t/Re)"
      ]
     },
     "metadata": {},
     "output_type": "display_data"
    },
    {
     "name": "stdout",
     "output_type": "stream",
     "text": [
      "0\n",
      "+\\tau\\big(\n",
      "0\n",
      "\\big)\n",
      "+h^2\\big(\n",
      "\\left(\\sin^{2}{\\left(x \\right)} + \\sin^{2}{\\left(y \\right)} - 1\\right) e^{- \\frac{4 t}{Re}}\n",
      "\\big)\n"
     ]
    },
    {
     "data": {
      "text/latex": [
       "$\\displaystyle 0$"
      ],
      "text/plain": [
       "0"
      ]
     },
     "metadata": {},
     "output_type": "display_data"
    },
    {
     "name": "stdout",
     "output_type": "stream",
     "text": [
      "tau =>\n"
     ]
    },
    {
     "data": {
      "text/latex": [
       "$\\displaystyle 0$"
      ],
      "text/plain": [
       "0"
      ]
     },
     "metadata": {},
     "output_type": "display_data"
    },
    {
     "name": "stdout",
     "output_type": "stream",
     "text": [
      "h^2 =>\n"
     ]
    },
    {
     "data": {
      "text/latex": [
       "$\\displaystyle \\frac{\\left(\\left(- 7 Re^{4} + 7 Re^{3} \\sqrt{Re^{2} + 16 \\pi^{2}} - 116 \\pi^{2} Re^{2} + 60 \\pi^{2} Re \\sqrt{Re^{2} + 16 \\pi^{2}} - 256 \\pi^{4}\\right) e^{x \\left(Re + 6 \\sqrt{Re^{2} + 16 \\pi^{2}}\\right)} + \\left(- Re^{4} + Re^{3} \\sqrt{Re^{2} + 16 \\pi^{2}} - 20 \\pi^{2} Re^{2} + 12 \\pi^{2} Re \\sqrt{Re^{2} + 16 \\pi^{2}} - 64 \\pi^{4}\\right) e^{\\frac{x \\left(Re + 13 \\sqrt{Re^{2} + 16 \\pi^{2}}\\right)}{2}} \\cos{\\left(2 \\pi y \\right)}\\right) e^{- 7 x \\sqrt{Re^{2} + 16 \\pi^{2}}}}{12}$"
      ],
      "text/plain": [
       "((-7*Re**4 + 7*Re**3*sqrt(Re**2 + 16*pi**2) - 116*pi**2*Re**2 + 60*pi**2*Re*sqrt(Re**2 + 16*pi**2) - 256*pi**4)*exp(x*(Re + 6*sqrt(Re**2 + 16*pi**2))) + (-Re**4 + Re**3*sqrt(Re**2 + 16*pi**2) - 20*pi**2*Re**2 + 12*pi**2*Re*sqrt(Re**2 + 16*pi**2) - 64*pi**4)*exp(x*(Re + 13*sqrt(Re**2 + 16*pi**2))/2)*cos(2*pi*y))*exp(-7*x*sqrt(Re**2 + 16*pi**2))/12"
      ]
     },
     "metadata": {},
     "output_type": "display_data"
    },
    {
     "name": "stdout",
     "output_type": "stream",
     "text": [
      "0\n",
      "+\\tau\\big(\n",
      "0\n",
      "\\big)\n",
      "+h^2\\big(\n",
      "\\frac{\\left(\\left(- 7 Re^{4} + 7 Re^{3} \\sqrt{Re^{2} + 16 \\pi^{2}} - 116 \\pi^{2} Re^{2} + 60 \\pi^{2} Re \\sqrt{Re^{2} + 16 \\pi^{2}} - 256 \\pi^{4}\\right) e^{x \\left(Re + 6 \\sqrt{Re^{2} + 16 \\pi^{2}}\\right)} + \\left(- Re^{4} + Re^{3} \\sqrt{Re^{2} + 16 \\pi^{2}} - 20 \\pi^{2} Re^{2} + 12 \\pi^{2} Re \\sqrt{Re^{2} + 16 \\pi^{2}} - 64 \\pi^{4}\\right) e^{\\frac{x \\left(Re + 13 \\sqrt{Re^{2} + 16 \\pi^{2}}\\right)}{2}} \\cos{\\left(2 \\pi y \\right)}\\right) e^{- 7 x \\sqrt{Re^{2} + 16 \\pi^{2}}}}{12}\n",
      "\\big)\n"
     ]
    },
    {
     "data": {
      "text/latex": [
       "$\\displaystyle 0$"
      ],
      "text/plain": [
       "0"
      ]
     },
     "metadata": {},
     "output_type": "display_data"
    },
    {
     "name": "stdout",
     "output_type": "stream",
     "text": [
      "tau =>\n"
     ]
    },
    {
     "data": {
      "text/latex": [
       "$\\displaystyle 0$"
      ],
      "text/plain": [
       "0"
      ]
     },
     "metadata": {},
     "output_type": "display_data"
    },
    {
     "name": "stdout",
     "output_type": "stream",
     "text": [
      "h^2 =>\n"
     ]
    },
    {
     "data": {
      "text/latex": [
       "$\\displaystyle 0$"
      ],
      "text/plain": [
       "0"
      ]
     },
     "metadata": {},
     "output_type": "display_data"
    },
    {
     "name": "stdout",
     "output_type": "stream",
     "text": [
      "0\n",
      "+\\tau\\big(\n",
      "0\n",
      "\\big)\n",
      "+h^2\\big(\n",
      "0\n",
      "\\big)\n"
     ]
    }
   ],
   "source": [
    "F1 = clip(Dx(u) + Dy(v))\n",
    "F2 = clip(Dt(u) + It(u*Dx(u) + v*Dy(u) + Dx(p) - DD(u)/Re))\n",
    "F3 = clip(Dt(v) + It(u*Dx(v) + v*Dy(v) + Dy(p) - DD(v)/Re))\n",
    "F4 = clip(Dx(u*Dx(u) + v*Dy(u) + Dx(p)) + Dy(u*Dx(v) + v*Dy(v) + Dy(p)))\n",
    "\n",
    "build(F1, F2, F3, F4)"
   ]
  },
  {
   "cell_type": "code",
   "execution_count": 27,
   "metadata": {},
   "outputs": [
    {
     "data": {
      "text/latex": [
       "$\\displaystyle u_{x} + v_{y}$"
      ],
      "text/plain": [
       "u_{x} + v_{y}"
      ]
     },
     "metadata": {},
     "output_type": "display_data"
    },
    {
     "name": "stdout",
     "output_type": "stream",
     "text": [
      "tau =>\n"
     ]
    },
    {
     "data": {
      "text/latex": [
       "$\\displaystyle 0$"
      ],
      "text/plain": [
       "0"
      ]
     },
     "metadata": {},
     "output_type": "display_data"
    },
    {
     "name": "stdout",
     "output_type": "stream",
     "text": [
      "h^2 =>\n"
     ]
    },
    {
     "data": {
      "text/latex": [
       "$\\displaystyle \\frac{u_{xxx}}{6} + \\frac{v_{yyy}}{6}$"
      ],
      "text/plain": [
       "u_{xxx}/6 + v_{yyy}/6"
      ]
     },
     "metadata": {},
     "output_type": "display_data"
    },
    {
     "name": "stdout",
     "output_type": "stream",
     "text": [
      "-------------------------\n"
     ]
    },
    {
     "data": {
      "text/latex": [
       "$\\displaystyle u_{x} + v_{y}$"
      ],
      "text/plain": [
       "u_{x} + v_{y}"
      ]
     },
     "metadata": {},
     "output_type": "display_data"
    },
    {
     "name": "stdout",
     "output_type": "stream",
     "text": [
      "tau =>\n"
     ]
    },
    {
     "data": {
      "text/latex": [
       "$\\displaystyle 0$"
      ],
      "text/plain": [
       "0"
      ]
     },
     "metadata": {},
     "output_type": "display_data"
    },
    {
     "name": "stdout",
     "output_type": "stream",
     "text": [
      "h^2 =>\n"
     ]
    },
    {
     "data": {
      "text/latex": [
       "$\\displaystyle - \\frac{Re p_{yy}}{6} - \\frac{Re u v_{xy}}{6} - \\frac{Re u_{y} v_{x}}{6} - \\frac{Re v v_{yy}}{6} - \\frac{Re v_{ty}}{6} - \\frac{Re v_{y}^{2}}{6} + \\frac{v_{yyy}}{3}$"
      ],
      "text/plain": [
       "-Re*p_{yy}/6 - Re*u*v_{xy}/6 - Re*u_{y}*v_{x}/6 - Re*v*v_{yy}/6 - Re*v_{ty}/6 - Re*v_{y}**2/6 + v_{yyy}/3"
      ]
     },
     "metadata": {},
     "output_type": "display_data"
    },
    {
     "name": "stdout",
     "output_type": "stream",
     "text": [
      "u_{x} + v_{y}\n",
      "+\\tau\\big(\n",
      "0\n",
      "\\big)\n",
      "+h^2\\big(\n",
      "- \\frac{Re p_{yy}}{6} - \\frac{Re u v_{xy}}{6} - \\frac{Re u_{y} v_{x}}{6} - \\frac{Re v v_{yy}}{6} - \\frac{Re v_{ty}}{6} - \\frac{Re v_{y}^{2}}{6} + \\frac{v_{yyy}}{3}\n",
      "\\big)\n"
     ]
    },
    {
     "data": {
      "text/latex": [
       "$\\displaystyle 0$"
      ],
      "text/plain": [
       "0"
      ]
     },
     "metadata": {},
     "output_type": "display_data"
    },
    {
     "name": "stdout",
     "output_type": "stream",
     "text": [
      "tau =>\n"
     ]
    },
    {
     "data": {
      "text/latex": [
       "$\\displaystyle 0$"
      ],
      "text/plain": [
       "0"
      ]
     },
     "metadata": {},
     "output_type": "display_data"
    },
    {
     "name": "stdout",
     "output_type": "stream",
     "text": [
      "h^2 =>\n"
     ]
    },
    {
     "data": {
      "text/latex": [
       "$\\displaystyle 0$"
      ],
      "text/plain": [
       "0"
      ]
     },
     "metadata": {},
     "output_type": "display_data"
    },
    {
     "name": "stdout",
     "output_type": "stream",
     "text": [
      "0\n",
      "+\\tau\\big(\n",
      "0\n",
      "\\big)\n",
      "+h^2\\big(\n",
      "0\n",
      "\\big)\n"
     ]
    },
    {
     "data": {
      "text/latex": [
       "$\\displaystyle 0$"
      ],
      "text/plain": [
       "0"
      ]
     },
     "metadata": {},
     "output_type": "display_data"
    },
    {
     "name": "stdout",
     "output_type": "stream",
     "text": [
      "tau =>\n"
     ]
    },
    {
     "data": {
      "text/latex": [
       "$\\displaystyle 0$"
      ],
      "text/plain": [
       "0"
      ]
     },
     "metadata": {},
     "output_type": "display_data"
    },
    {
     "name": "stdout",
     "output_type": "stream",
     "text": [
      "h^2 =>\n"
     ]
    },
    {
     "data": {
      "text/latex": [
       "$\\displaystyle \\frac{\\left(- Re^{3} + Re^{2} \\sqrt{Re^{2} + 16 \\pi^{2}} - 16 \\pi^{2} Re + 8 \\pi^{2} \\sqrt{Re^{2} + 16 \\pi^{2}}\\right) e^{\\frac{x \\left(Re - \\sqrt{Re^{2} + 16 \\pi^{2}}\\right)}{2}} \\cos{\\left(2 \\pi y \\right)}}{12}$"
      ],
      "text/plain": [
       "(-Re**3 + Re**2*sqrt(Re**2 + 16*pi**2) - 16*pi**2*Re + 8*pi**2*sqrt(Re**2 + 16*pi**2))*exp(x*(Re - sqrt(Re**2 + 16*pi**2))/2)*cos(2*pi*y)/12"
      ]
     },
     "metadata": {},
     "output_type": "display_data"
    },
    {
     "name": "stdout",
     "output_type": "stream",
     "text": [
      "0\n",
      "+\\tau\\big(\n",
      "0\n",
      "\\big)\n",
      "+h^2\\big(\n",
      "\\frac{\\left(- Re^{3} + Re^{2} \\sqrt{Re^{2} + 16 \\pi^{2}} - 16 \\pi^{2} Re + 8 \\pi^{2} \\sqrt{Re^{2} + 16 \\pi^{2}}\\right) e^{\\frac{x \\left(Re - \\sqrt{Re^{2} + 16 \\pi^{2}}\\right)}{2}} \\cos{\\left(2 \\pi y \\right)}}{12}\n",
      "\\big)\n"
     ]
    },
    {
     "data": {
      "text/latex": [
       "$\\displaystyle p_{x} + u u_{x} + u_{t} + u_{y} v - \\frac{u_{xx}}{Re} - \\frac{u_{yy}}{Re}$"
      ],
      "text/plain": [
       "p_{x} + u*u_{x} + u_{t} + u_{y}*v - u_{xx}/Re - u_{yy}/Re"
      ]
     },
     "metadata": {},
     "output_type": "display_data"
    },
    {
     "name": "stdout",
     "output_type": "stream",
     "text": [
      "tau =>\n"
     ]
    },
    {
     "data": {
      "text/latex": [
       "$\\displaystyle \\frac{p_{tx}}{2} + \\frac{u u_{tx}}{2} + \\frac{u_{tt}}{2} + \\frac{u_{ty} v}{2} + \\frac{u_{t} u_{x}}{2} + \\frac{u_{y} v_{t}}{2} - \\frac{u_{txx}}{2 Re} - \\frac{u_{tyy}}{2 Re}$"
      ],
      "text/plain": [
       "p_{tx}/2 + u*u_{tx}/2 + u_{tt}/2 + u_{ty}*v/2 + u_{t}*u_{x}/2 + u_{y}*v_{t}/2 - u_{txx}/(2*Re) - u_{tyy}/(2*Re)"
      ]
     },
     "metadata": {},
     "output_type": "display_data"
    },
    {
     "name": "stdout",
     "output_type": "stream",
     "text": [
      "h^2 =>\n"
     ]
    },
    {
     "data": {
      "text/latex": [
       "$\\displaystyle \\frac{p_{xxx}}{6} + \\frac{u u_{xxx}}{6} + \\frac{u_{yyy} v}{6} - \\frac{u_{xxxx}}{3 Re} - \\frac{u_{yyyy}}{3 Re}$"
      ],
      "text/plain": [
       "p_{xxx}/6 + u*u_{xxx}/6 + u_{yyy}*v/6 - u_{xxxx}/(3*Re) - u_{yyyy}/(3*Re)"
      ]
     },
     "metadata": {},
     "output_type": "display_data"
    },
    {
     "name": "stdout",
     "output_type": "stream",
     "text": [
      "-------------------------\n"
     ]
    },
    {
     "data": {
      "text/latex": [
       "$\\displaystyle p_{x} + u u_{x} + u_{t} + u_{y} v - \\frac{u_{xx}}{Re} - \\frac{u_{yy}}{Re}$"
      ],
      "text/plain": [
       "p_{x} + u*u_{x} + u_{t} + u_{y}*v - u_{xx}/Re - u_{yy}/Re"
      ]
     },
     "metadata": {},
     "output_type": "display_data"
    },
    {
     "name": "stdout",
     "output_type": "stream",
     "text": [
      "tau =>\n"
     ]
    },
    {
     "data": {
      "text/latex": [
       "$\\displaystyle 0$"
      ],
      "text/plain": [
       "0"
      ]
     },
     "metadata": {},
     "output_type": "display_data"
    },
    {
     "name": "stdout",
     "output_type": "stream",
     "text": [
      "h^2 =>\n"
     ]
    },
    {
     "data": {
      "text/latex": [
       "$\\displaystyle - \\frac{Re^{2} p_{x} v^{2}}{6} + \\frac{Re^{2} u v^{2} v_{y}}{6} - \\frac{Re^{2} u_{t} v^{2}}{6} - \\frac{Re^{2} u_{y} v^{3}}{6} - \\frac{Re p_{tx}}{3} - \\frac{Re p_{xy} v}{6} - \\frac{Re p_{x} v_{y}}{3} + \\frac{Re p_{yy} u}{6} + \\frac{Re u^{2} v_{xy}}{6} + \\frac{Re u u_{y} v_{x}}{6} + \\frac{Re u v v_{yy}}{3} + \\frac{Re u v_{ty}}{2} + \\frac{Re u v_{y}^{2}}{2} - \\frac{Re u_{tt}}{3} - \\frac{Re u_{ty} v}{2} - \\frac{Re u_{y} v v_{y}}{3} - \\frac{Re u_{y} v_{t}}{3} - \\frac{Re v^{2} v_{xy}}{6} - \\frac{p_{xyy}}{6} + \\frac{u v_{yyy}}{6} + \\frac{u_{y} v_{yy}}{3} + \\frac{v v_{xyy}}{6} - \\frac{2 v_{xy} v_{y}}{3} + \\frac{v_{x} v_{yy}}{3} - \\frac{2 v_{xyyy}}{3 Re}$"
      ],
      "text/plain": [
       "-Re**2*p_{x}*v**2/6 + Re**2*u*v**2*v_{y}/6 - Re**2*u_{t}*v**2/6 - Re**2*u_{y}*v**3/6 - Re*p_{tx}/3 - Re*p_{xy}*v/6 - Re*p_{x}*v_{y}/3 + Re*p_{yy}*u/6 + Re*u**2*v_{xy}/6 + Re*u*u_{y}*v_{x}/6 + Re*u*v*v_{yy}/3 + Re*u*v_{ty}/2 + Re*u*v_{y}**2/2 - Re*u_{tt}/3 - Re*u_{ty}*v/2 - Re*u_{y}*v*v_{y}/3 - Re*u_{y}*v_{t}/3 - Re*v**2*v_{xy}/6 - p_{xyy}/6 + u*v_{yyy}/6 + u_{y}*v_{yy}/3 + v*v_{xyy}/6 - 2*v_{xy}*v_{y}/3 + v_{x}*v_{yy}/3 - 2*v_{xyyy}/(3*Re)"
      ]
     },
     "metadata": {},
     "output_type": "display_data"
    },
    {
     "name": "stdout",
     "output_type": "stream",
     "text": [
      "p_{x} + u u_{x} + u_{t} + u_{y} v - \\frac{u_{xx}}{Re} - \\frac{u_{yy}}{Re}\n",
      "+\\tau\\big(\n",
      "0\n",
      "\\big)\n",
      "+h^2\\big(\n",
      "- \\frac{Re^{2} p_{x} v^{2}}{6} + \\frac{Re^{2} u v^{2} v_{y}}{6} - \\frac{Re^{2} u_{t} v^{2}}{6} - \\frac{Re^{2} u_{y} v^{3}}{6} - \\frac{Re p_{tx}}{3} - \\frac{Re p_{xy} v}{6} - \\frac{Re p_{x} v_{y}}{3} + \\frac{Re p_{yy} u}{6} + \\frac{Re u^{2} v_{xy}}{6} + \\frac{Re u u_{y} v_{x}}{6} + \\frac{Re u v v_{yy}}{3} + \\frac{Re u v_{ty}}{2} + \\frac{Re u v_{y}^{2}}{2} - \\frac{Re u_{tt}}{3} - \\frac{Re u_{ty} v}{2} - \\frac{Re u_{y} v v_{y}}{3} - \\frac{Re u_{y} v_{t}}{3} - \\frac{Re v^{2} v_{xy}}{6} - \\frac{p_{xyy}}{6} + \\frac{u v_{yyy}}{6} + \\frac{u_{y} v_{yy}}{3} + \\frac{v v_{xyy}}{6} - \\frac{2 v_{xy} v_{y}}{3} + \\frac{v_{x} v_{yy}}{3} - \\frac{2 v_{xyyy}}{3 Re}\n",
      "\\big)\n"
     ]
    },
    {
     "data": {
      "text/latex": [
       "$\\displaystyle 0$"
      ],
      "text/plain": [
       "0"
      ]
     },
     "metadata": {},
     "output_type": "display_data"
    },
    {
     "name": "stdout",
     "output_type": "stream",
     "text": [
      "tau =>\n"
     ]
    },
    {
     "data": {
      "text/latex": [
       "$\\displaystyle 0$"
      ],
      "text/plain": [
       "0"
      ]
     },
     "metadata": {},
     "output_type": "display_data"
    },
    {
     "name": "stdout",
     "output_type": "stream",
     "text": [
      "h^2 =>\n"
     ]
    },
    {
     "data": {
      "text/latex": [
       "$\\displaystyle - \\frac{e^{- \\frac{4 t}{Re}} \\sin{\\left(2 x \\right)}}{4} + \\frac{2 e^{- \\frac{2 t}{Re}} \\sin{\\left(y \\right)} \\cos{\\left(x \\right)}}{3 Re}$"
      ],
      "text/plain": [
       "-exp(-4*t/Re)*sin(2*x)/4 + 2*exp(-2*t/Re)*sin(y)*cos(x)/(3*Re)"
      ]
     },
     "metadata": {},
     "output_type": "display_data"
    },
    {
     "name": "stdout",
     "output_type": "stream",
     "text": [
      "0\n",
      "+\\tau\\big(\n",
      "0\n",
      "\\big)\n",
      "+h^2\\big(\n",
      "- \\frac{e^{- \\frac{4 t}{Re}} \\sin{\\left(2 x \\right)}}{4} + \\frac{2 e^{- \\frac{2 t}{Re}} \\sin{\\left(y \\right)} \\cos{\\left(x \\right)}}{3 Re}\n",
      "\\big)\n"
     ]
    },
    {
     "data": {
      "text/latex": [
       "$\\displaystyle 0$"
      ],
      "text/plain": [
       "0"
      ]
     },
     "metadata": {},
     "output_type": "display_data"
    },
    {
     "name": "stdout",
     "output_type": "stream",
     "text": [
      "tau =>\n"
     ]
    },
    {
     "data": {
      "text/latex": [
       "$\\displaystyle 0$"
      ],
      "text/plain": [
       "0"
      ]
     },
     "metadata": {},
     "output_type": "display_data"
    },
    {
     "name": "stdout",
     "output_type": "stream",
     "text": [
      "h^2 =>\n"
     ]
    },
    {
     "data": {
      "text/latex": [
       "$\\displaystyle \\frac{\\left(Re \\left(Re^{3} - Re^{2} \\sqrt{Re^{2} + 16 \\pi^{2}} + 20 \\pi^{2} Re - 12 \\pi^{2} \\sqrt{Re^{2} + 16 \\pi^{2}}\\right) e^{x \\left(\\frac{Re}{2} + 7 \\sqrt{Re^{2} + 16 \\pi^{2}}\\right)} \\cos{\\left(2 \\pi y \\right)} + Re \\left(- 4 Re^{3} \\sin^{2}{\\left(2 \\pi y \\right)} - 3 Re^{3} \\cos^{2}{\\left(2 \\pi y \\right)} + 4 Re^{2} \\sqrt{Re^{2} + 16 \\pi^{2}} \\sin^{2}{\\left(2 \\pi y \\right)} + 3 Re^{2} \\sqrt{Re^{2} + 16 \\pi^{2}} \\cos^{2}{\\left(2 \\pi y \\right)} - 52 \\pi^{2} Re \\sin^{2}{\\left(2 \\pi y \\right)} - 36 \\pi^{2} Re \\cos^{2}{\\left(2 \\pi y \\right)} + 20 \\pi^{2} \\sqrt{Re^{2} + 16 \\pi^{2}} \\sin^{2}{\\left(2 \\pi y \\right)} + 12 \\pi^{2} \\sqrt{Re^{2} + 16 \\pi^{2}} \\cos^{2}{\\left(2 \\pi y \\right)}\\right) e^{x \\left(Re + \\frac{13 \\sqrt{Re^{2} + 16 \\pi^{2}}}{2}\\right)} + 128 \\pi^{4} e^{\\frac{x \\left(Re + 14 \\sqrt{Re^{2} + 16 \\pi^{2}}\\right)}{2}} \\cos{\\left(2 \\pi y \\right)}\\right) e^{- \\frac{15 x \\sqrt{Re^{2} + 16 \\pi^{2}}}{2}}}{12 Re}$"
      ],
      "text/plain": [
       "(Re*(Re**3 - Re**2*sqrt(Re**2 + 16*pi**2) + 20*pi**2*Re - 12*pi**2*sqrt(Re**2 + 16*pi**2))*exp(x*(Re/2 + 7*sqrt(Re**2 + 16*pi**2)))*cos(2*pi*y) + Re*(-4*Re**3*sin(2*pi*y)**2 - 3*Re**3*cos(2*pi*y)**2 + 4*Re**2*sqrt(Re**2 + 16*pi**2)*sin(2*pi*y)**2 + 3*Re**2*sqrt(Re**2 + 16*pi**2)*cos(2*pi*y)**2 - 52*pi**2*Re*sin(2*pi*y)**2 - 36*pi**2*Re*cos(2*pi*y)**2 + 20*pi**2*sqrt(Re**2 + 16*pi**2)*sin(2*pi*y)**2 + 12*pi**2*sqrt(Re**2 + 16*pi**2)*cos(2*pi*y)**2)*exp(x*(Re + 13*sqrt(Re**2 + 16*pi**2)/2)) + 128*pi**4*exp(x*(Re + 14*sqrt(Re**2 + 16*pi**2))/2)*cos(2*pi*y))*exp(-15*x*sqrt(Re**2 + 16*pi**2)/2)/(12*Re)"
      ]
     },
     "metadata": {},
     "output_type": "display_data"
    },
    {
     "name": "stdout",
     "output_type": "stream",
     "text": [
      "0\n",
      "+\\tau\\big(\n",
      "0\n",
      "\\big)\n",
      "+h^2\\big(\n",
      "\\frac{\\left(Re \\left(Re^{3} - Re^{2} \\sqrt{Re^{2} + 16 \\pi^{2}} + 20 \\pi^{2} Re - 12 \\pi^{2} \\sqrt{Re^{2} + 16 \\pi^{2}}\\right) e^{x \\left(\\frac{Re}{2} + 7 \\sqrt{Re^{2} + 16 \\pi^{2}}\\right)} \\cos{\\left(2 \\pi y \\right)} + Re \\left(- 4 Re^{3} \\sin^{2}{\\left(2 \\pi y \\right)} - 3 Re^{3} \\cos^{2}{\\left(2 \\pi y \\right)} + 4 Re^{2} \\sqrt{Re^{2} + 16 \\pi^{2}} \\sin^{2}{\\left(2 \\pi y \\right)} + 3 Re^{2} \\sqrt{Re^{2} + 16 \\pi^{2}} \\cos^{2}{\\left(2 \\pi y \\right)} - 52 \\pi^{2} Re \\sin^{2}{\\left(2 \\pi y \\right)} - 36 \\pi^{2} Re \\cos^{2}{\\left(2 \\pi y \\right)} + 20 \\pi^{2} \\sqrt{Re^{2} + 16 \\pi^{2}} \\sin^{2}{\\left(2 \\pi y \\right)} + 12 \\pi^{2} \\sqrt{Re^{2} + 16 \\pi^{2}} \\cos^{2}{\\left(2 \\pi y \\right)}\\right) e^{x \\left(Re + \\frac{13 \\sqrt{Re^{2} + 16 \\pi^{2}}}{2}\\right)} + 128 \\pi^{4} e^{\\frac{x \\left(Re + 14 \\sqrt{Re^{2} + 16 \\pi^{2}}\\right)}{2}} \\cos{\\left(2 \\pi y \\right)}\\right) e^{- \\frac{15 x \\sqrt{Re^{2} + 16 \\pi^{2}}}{2}}}{12 Re}\n",
      "\\big)\n"
     ]
    },
    {
     "data": {
      "text/latex": [
       "$\\displaystyle p_{y} + u v_{x} + v v_{y} + v_{t} - \\frac{v_{xx}}{Re} - \\frac{v_{yy}}{Re}$"
      ],
      "text/plain": [
       "p_{y} + u*v_{x} + v*v_{y} + v_{t} - v_{xx}/Re - v_{yy}/Re"
      ]
     },
     "metadata": {},
     "output_type": "display_data"
    },
    {
     "name": "stdout",
     "output_type": "stream",
     "text": [
      "tau =>\n"
     ]
    },
    {
     "data": {
      "text/latex": [
       "$\\displaystyle \\frac{p_{ty}}{2} + \\frac{u v_{tx}}{2} + \\frac{u_{t} v_{x}}{2} + \\frac{v v_{ty}}{2} + \\frac{v_{tt}}{2} + \\frac{v_{t} v_{y}}{2} - \\frac{v_{txx}}{2 Re} - \\frac{v_{tyy}}{2 Re}$"
      ],
      "text/plain": [
       "p_{ty}/2 + u*v_{tx}/2 + u_{t}*v_{x}/2 + v*v_{ty}/2 + v_{tt}/2 + v_{t}*v_{y}/2 - v_{txx}/(2*Re) - v_{tyy}/(2*Re)"
      ]
     },
     "metadata": {},
     "output_type": "display_data"
    },
    {
     "name": "stdout",
     "output_type": "stream",
     "text": [
      "h^2 =>\n"
     ]
    },
    {
     "data": {
      "text/latex": [
       "$\\displaystyle \\frac{p_{yyy}}{6} + \\frac{u v_{xxx}}{6} + \\frac{v v_{yyy}}{6} - \\frac{v_{xxxx}}{3 Re} - \\frac{v_{yyyy}}{3 Re}$"
      ],
      "text/plain": [
       "p_{yyy}/6 + u*v_{xxx}/6 + v*v_{yyy}/6 - v_{xxxx}/(3*Re) - v_{yyyy}/(3*Re)"
      ]
     },
     "metadata": {},
     "output_type": "display_data"
    },
    {
     "name": "stdout",
     "output_type": "stream",
     "text": [
      "-------------------------\n"
     ]
    },
    {
     "data": {
      "text/latex": [
       "$\\displaystyle p_{y} + u v_{x} + v v_{y} + v_{t} - \\frac{v_{xx}}{Re} - \\frac{v_{yy}}{Re}$"
      ],
      "text/plain": [
       "p_{y} + u*v_{x} + v*v_{y} + v_{t} - v_{xx}/Re - v_{yy}/Re"
      ]
     },
     "metadata": {},
     "output_type": "display_data"
    },
    {
     "name": "stdout",
     "output_type": "stream",
     "text": [
      "tau =>\n"
     ]
    },
    {
     "data": {
      "text/latex": [
       "$\\displaystyle 0$"
      ],
      "text/plain": [
       "0"
      ]
     },
     "metadata": {},
     "output_type": "display_data"
    },
    {
     "name": "stdout",
     "output_type": "stream",
     "text": [
      "h^2 =>\n"
     ]
    },
    {
     "data": {
      "text/latex": [
       "$\\displaystyle - \\frac{Re^{2} p_{y} u^{2}}{6} - \\frac{Re^{2} u^{3} v_{x}}{6} - \\frac{Re^{2} u^{2} v v_{y}}{6} - \\frac{Re^{2} u^{2} v_{t}}{6} - \\frac{Re p_{ty}}{3} - \\frac{Re p_{xy} u}{6} + Re p_{x} v_{x} - \\frac{Re p_{yy} v}{3} + \\frac{Re p_{y} v_{y}}{3} + \\frac{Re u^{2} v_{yy}}{6} - \\frac{Re u v v_{xy}}{2} - \\frac{Re u v_{tx}}{2} - \\frac{2 Re u v_{x} v_{y}}{3} + \\frac{2 Re u_{t} v_{x}}{3} + \\frac{2 Re u_{y} v v_{x}}{3} - \\frac{Re v^{2} v_{yy}}{3} - \\frac{2 Re v v_{ty}}{3} - \\frac{Re v_{tt}}{3} + \\frac{5 p_{yyy}}{6} + \\frac{u v_{xyy}}{2} + \\frac{4 u_{y} v_{xy}}{3} + \\frac{5 v v_{yyy}}{6} + \\frac{2 v_{tyy}}{3} + \\frac{2 v_{xy} v_{x}}{3} + 2 v_{yy} v_{y} - \\frac{2 v_{yyyy}}{3 Re}$"
      ],
      "text/plain": [
       "-Re**2*p_{y}*u**2/6 - Re**2*u**3*v_{x}/6 - Re**2*u**2*v*v_{y}/6 - Re**2*u**2*v_{t}/6 - Re*p_{ty}/3 - Re*p_{xy}*u/6 + Re*p_{x}*v_{x} - Re*p_{yy}*v/3 + Re*p_{y}*v_{y}/3 + Re*u**2*v_{yy}/6 - Re*u*v*v_{xy}/2 - Re*u*v_{tx}/2 - 2*Re*u*v_{x}*v_{y}/3 + 2*Re*u_{t}*v_{x}/3 + 2*Re*u_{y}*v*v_{x}/3 - Re*v**2*v_{yy}/3 - 2*Re*v*v_{ty}/3 - Re*v_{tt}/3 + 5*p_{yyy}/6 + u*v_{xyy}/2 + 4*u_{y}*v_{xy}/3 + 5*v*v_{yyy}/6 + 2*v_{tyy}/3 + 2*v_{xy}*v_{x}/3 + 2*v_{yy}*v_{y} - 2*v_{yyyy}/(3*Re)"
      ]
     },
     "metadata": {},
     "output_type": "display_data"
    },
    {
     "name": "stdout",
     "output_type": "stream",
     "text": [
      "p_{y} + u v_{x} + v v_{y} + v_{t} - \\frac{v_{xx}}{Re} - \\frac{v_{yy}}{Re}\n",
      "+\\tau\\big(\n",
      "0\n",
      "\\big)\n",
      "+h^2\\big(\n",
      "- \\frac{Re^{2} p_{y} u^{2}}{6} - \\frac{Re^{2} u^{3} v_{x}}{6} - \\frac{Re^{2} u^{2} v v_{y}}{6} - \\frac{Re^{2} u^{2} v_{t}}{6} - \\frac{Re p_{ty}}{3} - \\frac{Re p_{xy} u}{6} + Re p_{x} v_{x} - \\frac{Re p_{yy} v}{3} + \\frac{Re p_{y} v_{y}}{3} + \\frac{Re u^{2} v_{yy}}{6} - \\frac{Re u v v_{xy}}{2} - \\frac{Re u v_{tx}}{2} - \\frac{2 Re u v_{x} v_{y}}{3} + \\frac{2 Re u_{t} v_{x}}{3} + \\frac{2 Re u_{y} v v_{x}}{3} - \\frac{Re v^{2} v_{yy}}{3} - \\frac{2 Re v v_{ty}}{3} - \\frac{Re v_{tt}}{3} + \\frac{5 p_{yyy}}{6} + \\frac{u v_{xyy}}{2} + \\frac{4 u_{y} v_{xy}}{3} + \\frac{5 v v_{yyy}}{6} + \\frac{2 v_{tyy}}{3} + \\frac{2 v_{xy} v_{x}}{3} + 2 v_{yy} v_{y} - \\frac{2 v_{yyyy}}{3 Re}\n",
      "\\big)\n"
     ]
    },
    {
     "data": {
      "text/latex": [
       "$\\displaystyle 0$"
      ],
      "text/plain": [
       "0"
      ]
     },
     "metadata": {},
     "output_type": "display_data"
    },
    {
     "name": "stdout",
     "output_type": "stream",
     "text": [
      "tau =>\n"
     ]
    },
    {
     "data": {
      "text/latex": [
       "$\\displaystyle 0$"
      ],
      "text/plain": [
       "0"
      ]
     },
     "metadata": {},
     "output_type": "display_data"
    },
    {
     "name": "stdout",
     "output_type": "stream",
     "text": [
      "h^2 =>\n"
     ]
    },
    {
     "data": {
      "text/latex": [
       "$\\displaystyle - \\frac{e^{- \\frac{4 t}{Re}} \\sin{\\left(2 y \\right)}}{4} - \\frac{2 e^{- \\frac{2 t}{Re}} \\sin{\\left(x \\right)} \\cos{\\left(y \\right)}}{3 Re}$"
      ],
      "text/plain": [
       "-exp(-4*t/Re)*sin(2*y)/4 - 2*exp(-2*t/Re)*sin(x)*cos(y)/(3*Re)"
      ]
     },
     "metadata": {},
     "output_type": "display_data"
    },
    {
     "name": "stdout",
     "output_type": "stream",
     "text": [
      "0\n",
      "+\\tau\\big(\n",
      "0\n",
      "\\big)\n",
      "+h^2\\big(\n",
      "- \\frac{e^{- \\frac{4 t}{Re}} \\sin{\\left(2 y \\right)}}{4} - \\frac{2 e^{- \\frac{2 t}{Re}} \\sin{\\left(x \\right)} \\cos{\\left(y \\right)}}{3 Re}\n",
      "\\big)\n"
     ]
    },
    {
     "data": {
      "text/latex": [
       "$\\displaystyle 0$"
      ],
      "text/plain": [
       "0"
      ]
     },
     "metadata": {},
     "output_type": "display_data"
    },
    {
     "name": "stdout",
     "output_type": "stream",
     "text": [
      "tau =>\n"
     ]
    },
    {
     "data": {
      "text/latex": [
       "$\\displaystyle 0$"
      ],
      "text/plain": [
       "0"
      ]
     },
     "metadata": {},
     "output_type": "display_data"
    },
    {
     "name": "stdout",
     "output_type": "stream",
     "text": [
      "h^2 =>\n"
     ]
    },
    {
     "data": {
      "text/latex": [
       "$\\displaystyle \\frac{\\left(Re^{4} \\left(- Re + \\sqrt{Re^{2} + 16 \\pi^{2}}\\right) e^{x \\left(\\frac{Re}{2} + 6 \\sqrt{Re^{2} + 16 \\pi^{2}}\\right)} + Re^{4} \\left(- Re + \\sqrt{Re^{2} + 16 \\pi^{2}}\\right) e^{x \\left(Re + \\frac{11 \\sqrt{Re^{2} + 16 \\pi^{2}}}{2}\\right)} \\cos{\\left(2 \\pi y \\right)} + 4 \\pi^{2} Re \\left(- 5 Re^{2} + 3 Re \\sqrt{Re^{2} + 16 \\pi^{2}} - 16 \\pi^{2}\\right) e^{x \\left(Re + \\frac{11 \\sqrt{Re^{2} + 16 \\pi^{2}}}{2}\\right)} \\cos{\\left(2 \\pi y \\right)} + 8 \\pi^{2} Re \\left(- 3 Re^{2} + 2 Re \\sqrt{Re^{2} + 16 \\pi^{2}} - 20 \\pi^{2}\\right) e^{x \\left(\\frac{Re}{2} + 6 \\sqrt{Re^{2} + 16 \\pi^{2}}\\right)} + 64 \\pi^{4} \\sqrt{Re^{2} + 16 \\pi^{2}} e^{\\frac{x \\left(Re + 12 \\sqrt{Re^{2} + 16 \\pi^{2}}\\right)}{2}}\\right) e^{- \\frac{13 x \\sqrt{Re^{2} + 16 \\pi^{2}}}{2}} \\sin{\\left(2 \\pi y \\right)}}{24 \\pi Re}$"
      ],
      "text/plain": [
       "(Re**4*(-Re + sqrt(Re**2 + 16*pi**2))*exp(x*(Re/2 + 6*sqrt(Re**2 + 16*pi**2))) + Re**4*(-Re + sqrt(Re**2 + 16*pi**2))*exp(x*(Re + 11*sqrt(Re**2 + 16*pi**2)/2))*cos(2*pi*y) + 4*pi**2*Re*(-5*Re**2 + 3*Re*sqrt(Re**2 + 16*pi**2) - 16*pi**2)*exp(x*(Re + 11*sqrt(Re**2 + 16*pi**2)/2))*cos(2*pi*y) + 8*pi**2*Re*(-3*Re**2 + 2*Re*sqrt(Re**2 + 16*pi**2) - 20*pi**2)*exp(x*(Re/2 + 6*sqrt(Re**2 + 16*pi**2))) + 64*pi**4*sqrt(Re**2 + 16*pi**2)*exp(x*(Re + 12*sqrt(Re**2 + 16*pi**2))/2))*exp(-13*x*sqrt(Re**2 + 16*pi**2)/2)*sin(2*pi*y)/(24*pi*Re)"
      ]
     },
     "metadata": {},
     "output_type": "display_data"
    },
    {
     "name": "stdout",
     "output_type": "stream",
     "text": [
      "0\n",
      "+\\tau\\big(\n",
      "0\n",
      "\\big)\n",
      "+h^2\\big(\n",
      "\\frac{\\left(Re^{4} \\left(- Re + \\sqrt{Re^{2} + 16 \\pi^{2}}\\right) e^{x \\left(\\frac{Re}{2} + 6 \\sqrt{Re^{2} + 16 \\pi^{2}}\\right)} + Re^{4} \\left(- Re + \\sqrt{Re^{2} + 16 \\pi^{2}}\\right) e^{x \\left(Re + \\frac{11 \\sqrt{Re^{2} + 16 \\pi^{2}}}{2}\\right)} \\cos{\\left(2 \\pi y \\right)} + 4 \\pi^{2} Re \\left(- 5 Re^{2} + 3 Re \\sqrt{Re^{2} + 16 \\pi^{2}} - 16 \\pi^{2}\\right) e^{x \\left(Re + \\frac{11 \\sqrt{Re^{2} + 16 \\pi^{2}}}{2}\\right)} \\cos{\\left(2 \\pi y \\right)} + 8 \\pi^{2} Re \\left(- 3 Re^{2} + 2 Re \\sqrt{Re^{2} + 16 \\pi^{2}} - 20 \\pi^{2}\\right) e^{x \\left(\\frac{Re}{2} + 6 \\sqrt{Re^{2} + 16 \\pi^{2}}\\right)} + 64 \\pi^{4} \\sqrt{Re^{2} + 16 \\pi^{2}} e^{\\frac{x \\left(Re + 12 \\sqrt{Re^{2} + 16 \\pi^{2}}\\right)}{2}}\\right) e^{- \\frac{13 x \\sqrt{Re^{2} + 16 \\pi^{2}}}{2}} \\sin{\\left(2 \\pi y \\right)}}{24 \\pi Re}\n",
      "\\big)\n"
     ]
    },
    {
     "data": {
      "text/latex": [
       "$\\displaystyle p_{xx} + p_{yy} + u u_{xx} + u v_{xy} + u_{xy} v + u_{x}^{2} + 2 u_{y} v_{x} + v v_{yy} + v_{y}^{2}$"
      ],
      "text/plain": [
       "p_{xx} + p_{yy} + u*u_{xx} + u*v_{xy} + u_{xy}*v + u_{x}**2 + 2*u_{y}*v_{x} + v*v_{yy} + v_{y}**2"
      ]
     },
     "metadata": {},
     "output_type": "display_data"
    },
    {
     "name": "stdout",
     "output_type": "stream",
     "text": [
      "tau =>\n"
     ]
    },
    {
     "data": {
      "text/latex": [
       "$\\displaystyle 0$"
      ],
      "text/plain": [
       "0"
      ]
     },
     "metadata": {},
     "output_type": "display_data"
    },
    {
     "name": "stdout",
     "output_type": "stream",
     "text": [
      "h^2 =>\n"
     ]
    },
    {
     "data": {
      "text/latex": [
       "$\\displaystyle \\frac{p_{xxxx}}{3} + \\frac{p_{yyyy}}{3} + \\frac{u u_{xxxx}}{3} + \\frac{u v_{xxxy}}{6} + \\frac{u v_{xyyy}}{6} + \\frac{u_{xxxy} v}{6} + \\frac{5 u_{xxx} u_{x}}{6} + \\frac{u_{xxy} v_{x}}{2} + \\frac{u_{xx}^{2}}{2} + \\frac{u_{xyyy} v}{6} + \\frac{u_{xy} v_{xx}}{2} + \\frac{u_{yyy} v_{x}}{3} + \\frac{u_{yy} v_{xy}}{2} + \\frac{u_{y} v_{xxx}}{3} + \\frac{u_{y} v_{xyy}}{2} + \\frac{v v_{yyyy}}{3} + \\frac{5 v_{yyy} v_{y}}{6} + \\frac{v_{yy}^{2}}{2}$"
      ],
      "text/plain": [
       "p_{xxxx}/3 + p_{yyyy}/3 + u*u_{xxxx}/3 + u*v_{xxxy}/6 + u*v_{xyyy}/6 + u_{xxxy}*v/6 + 5*u_{xxx}*u_{x}/6 + u_{xxy}*v_{x}/2 + u_{xx}**2/2 + u_{xyyy}*v/6 + u_{xy}*v_{xx}/2 + u_{yyy}*v_{x}/3 + u_{yy}*v_{xy}/2 + u_{y}*v_{xxx}/3 + u_{y}*v_{xyy}/2 + v*v_{yyyy}/3 + 5*v_{yyy}*v_{y}/6 + v_{yy}**2/2"
      ]
     },
     "metadata": {},
     "output_type": "display_data"
    },
    {
     "name": "stdout",
     "output_type": "stream",
     "text": [
      "-------------------------\n"
     ]
    },
    {
     "data": {
      "text/latex": [
       "$\\displaystyle p_{xx} + p_{yy} + u u_{xx} + u v_{xy} + u_{xy} v + u_{x}^{2} + 2 u_{y} v_{x} + v v_{yy} + v_{y}^{2}$"
      ],
      "text/plain": [
       "p_{xx} + p_{yy} + u*u_{xx} + u*v_{xy} + u_{xy}*v + u_{x}**2 + 2*u_{y}*v_{x} + v*v_{yy} + v_{y}**2"
      ]
     },
     "metadata": {},
     "output_type": "display_data"
    },
    {
     "name": "stdout",
     "output_type": "stream",
     "text": [
      "tau =>\n"
     ]
    },
    {
     "data": {
      "text/latex": [
       "$\\displaystyle 0$"
      ],
      "text/plain": [
       "0"
      ]
     },
     "metadata": {},
     "output_type": "display_data"
    },
    {
     "name": "stdout",
     "output_type": "stream",
     "text": [
      "h^2 =>\n"
     ]
    },
    {
     "data": {
      "text/latex": [
       "$\\displaystyle \\frac{5 Re^{2} p_{x} v v_{x}}{6} - \\frac{Re^{2} p_{yy} u^{2}}{6} - \\frac{Re^{2} p_{y} u u_{y}}{2} - \\frac{Re^{2} u^{3} v_{xy}}{6} - \\frac{2 Re^{2} u^{2} u_{y} v_{x}}{3} - \\frac{Re^{2} u^{2} v v_{yy}}{6} - \\frac{Re^{2} u^{2} v_{ty}}{6} - \\frac{Re^{2} u^{2} v_{y}^{2}}{6} - \\frac{Re^{2} u u_{y} v v_{y}}{2} - \\frac{Re^{2} u u_{y} v_{t}}{2} - \\frac{5 Re^{2} u v v_{x} v_{y}}{6} + \\frac{5 Re^{2} u_{t} v v_{x}}{6} + \\frac{5 Re^{2} u_{y} v^{2} v_{x}}{6} - \\frac{Re p_{xyy} u}{6} - \\frac{Re p_{xy} u_{y}}{3} + Re p_{xy} v_{x} + \\frac{11 Re p_{x} v_{xy}}{6} - \\frac{Re p_{yyy} v}{6} - \\frac{Re p_{yy} v_{y}}{2} + \\frac{5 Re p_{y} v_{yy}}{6} + \\frac{Re u^{2} v_{yyy}}{6} + \\frac{Re u u_{y} v_{yy}}{2} - \\frac{Re u v v_{xyy}}{3} - \\frac{Re u v_{txy}}{6} - \\frac{5 Re u v_{xy} v_{y}}{2} - \\frac{Re u v_{x} v_{yy}}{6} + Re u_{ty} v_{x} + \\frac{11 Re u_{t} v_{xy}}{6} + \\frac{7 Re u_{y} v v_{xy}}{6} - \\frac{Re u_{y} v_{tx}}{3} - \\frac{Re u_{y} v_{x} v_{y}}{2} - \\frac{Re v^{2} v_{yyy}}{6} - \\frac{Re v v_{tyy}}{6} + \\frac{5 Re v v_{xy} v_{x}}{6} - \\frac{Re v v_{yy} v_{y}}{6} - \\frac{Re v_{ty} v_{y}}{2} + \\frac{5 Re v_{t} v_{yy}}{6} - \\frac{Re v_{y}^{3}}{2} + \\frac{2 p_{yyyy}}{3} + \\frac{u v_{xyyy}}{3} + \\frac{3 u_{y} v_{xyy}}{2} + \\frac{v v_{yyyy}}{3} + \\frac{7 v_{xyy} v_{x}}{6} + v_{xy}^{2} + \\frac{8 v_{yyy} v_{y}}{3} + v_{yy}^{2}$"
      ],
      "text/plain": [
       "5*Re**2*p_{x}*v*v_{x}/6 - Re**2*p_{yy}*u**2/6 - Re**2*p_{y}*u*u_{y}/2 - Re**2*u**3*v_{xy}/6 - 2*Re**2*u**2*u_{y}*v_{x}/3 - Re**2*u**2*v*v_{yy}/6 - Re**2*u**2*v_{ty}/6 - Re**2*u**2*v_{y}**2/6 - Re**2*u*u_{y}*v*v_{y}/2 - Re**2*u*u_{y}*v_{t}/2 - 5*Re**2*u*v*v_{x}*v_{y}/6 + 5*Re**2*u_{t}*v*v_{x}/6 + 5*Re**2*u_{y}*v**2*v_{x}/6 - Re*p_{xyy}*u/6 - Re*p_{xy}*u_{y}/3 + Re*p_{xy}*v_{x} + 11*Re*p_{x}*v_{xy}/6 - Re*p_{yyy}*v/6 - Re*p_{yy}*v_{y}/2 + 5*Re*p_{y}*v_{yy}/6 + Re*u**2*v_{yyy}/6 + Re*u*u_{y}*v_{yy}/2 - Re*u*v*v_{xyy}/3 - Re*u*v_{txy}/6 - 5*Re*u*v_{xy}*v_{y}/2 - Re*u*v_{x}*v_{yy}/6 + Re*u_{ty}*v_{x} + 11*Re*u_{t}*v_{xy}/6 + 7*Re*u_{y}*v*v_{xy}/6 - Re*u_{y}*v_{tx}/3 - Re*u_{y}*v_{x}*v_{y}/2 - Re*v**2*v_{yyy}/6 - Re*v*v_{tyy}/6 + 5*Re*v*v_{xy}*v_{x}/6 - Re*v*v_{yy}*v_{y}/6 - Re*v_{ty}*v_{y}/2 + 5*Re*v_{t}*v_{yy}/6 - Re*v_{y}**3/2 + 2*p_{yyyy}/3 + u*v_{xyyy}/3 + 3*u_{y}*v_{xyy}/2 + v*v_{yyyy}/3 + 7*v_{xyy}*v_{x}/6 + v_{xy}**2 + 8*v_{yyy}*v_{y}/3 + v_{yy}**2"
      ]
     },
     "metadata": {},
     "output_type": "display_data"
    },
    {
     "name": "stdout",
     "output_type": "stream",
     "text": [
      "p_{xx} + p_{yy} + u u_{xx} + u v_{xy} + u_{xy} v + u_{x}^{2} + 2 u_{y} v_{x} + v v_{yy} + v_{y}^{2}\n",
      "+\\tau\\big(\n",
      "0\n",
      "\\big)\n",
      "+h^2\\big(\n",
      "\\frac{5 Re^{2} p_{x} v v_{x}}{6} - \\frac{Re^{2} p_{yy} u^{2}}{6} - \\frac{Re^{2} p_{y} u u_{y}}{2} - \\frac{Re^{2} u^{3} v_{xy}}{6} - \\frac{2 Re^{2} u^{2} u_{y} v_{x}}{3} - \\frac{Re^{2} u^{2} v v_{yy}}{6} - \\frac{Re^{2} u^{2} v_{ty}}{6} - \\frac{Re^{2} u^{2} v_{y}^{2}}{6} - \\frac{Re^{2} u u_{y} v v_{y}}{2} - \\frac{Re^{2} u u_{y} v_{t}}{2} - \\frac{5 Re^{2} u v v_{x} v_{y}}{6} + \\frac{5 Re^{2} u_{t} v v_{x}}{6} + \\frac{5 Re^{2} u_{y} v^{2} v_{x}}{6} - \\frac{Re p_{xyy} u}{6} - \\frac{Re p_{xy} u_{y}}{3} + Re p_{xy} v_{x} + \\frac{11 Re p_{x} v_{xy}}{6} - \\frac{Re p_{yyy} v}{6} - \\frac{Re p_{yy} v_{y}}{2} + \\frac{5 Re p_{y} v_{yy}}{6} + \\frac{Re u^{2} v_{yyy}}{6} + \\frac{Re u u_{y} v_{yy}}{2} - \\frac{Re u v v_{xyy}}{3} - \\frac{Re u v_{txy}}{6} - \\frac{5 Re u v_{xy} v_{y}}{2} - \\frac{Re u v_{x} v_{yy}}{6} + Re u_{ty} v_{x} + \\frac{11 Re u_{t} v_{xy}}{6} + \\frac{7 Re u_{y} v v_{xy}}{6} - \\frac{Re u_{y} v_{tx}}{3} - \\frac{Re u_{y} v_{x} v_{y}}{2} - \\frac{Re v^{2} v_{yyy}}{6} - \\frac{Re v v_{tyy}}{6} + \\frac{5 Re v v_{xy} v_{x}}{6} - \\frac{Re v v_{yy} v_{y}}{6} - \\frac{Re v_{ty} v_{y}}{2} + \\frac{5 Re v_{t} v_{yy}}{6} - \\frac{Re v_{y}^{3}}{2} + \\frac{2 p_{yyyy}}{3} + \\frac{u v_{xyyy}}{3} + \\frac{3 u_{y} v_{xyy}}{2} + \\frac{v v_{yyyy}}{3} + \\frac{7 v_{xyy} v_{x}}{6} + v_{xy}^{2} + \\frac{8 v_{yyy} v_{y}}{3} + v_{yy}^{2}\n",
      "\\big)\n"
     ]
    },
    {
     "data": {
      "text/latex": [
       "$\\displaystyle 0$"
      ],
      "text/plain": [
       "0"
      ]
     },
     "metadata": {},
     "output_type": "display_data"
    },
    {
     "name": "stdout",
     "output_type": "stream",
     "text": [
      "tau =>\n"
     ]
    },
    {
     "data": {
      "text/latex": [
       "$\\displaystyle 0$"
      ],
      "text/plain": [
       "0"
      ]
     },
     "metadata": {},
     "output_type": "display_data"
    },
    {
     "name": "stdout",
     "output_type": "stream",
     "text": [
      "h^2 =>\n"
     ]
    },
    {
     "data": {
      "text/latex": [
       "$\\displaystyle \\left(\\sin^{2}{\\left(x \\right)} + \\sin^{2}{\\left(y \\right)} - 1\\right) e^{- \\frac{4 t}{Re}}$"
      ],
      "text/plain": [
       "(sin(x)**2 + sin(y)**2 - 1)*exp(-4*t/Re)"
      ]
     },
     "metadata": {},
     "output_type": "display_data"
    },
    {
     "name": "stdout",
     "output_type": "stream",
     "text": [
      "0\n",
      "+\\tau\\big(\n",
      "0\n",
      "\\big)\n",
      "+h^2\\big(\n",
      "\\left(\\sin^{2}{\\left(x \\right)} + \\sin^{2}{\\left(y \\right)} - 1\\right) e^{- \\frac{4 t}{Re}}\n",
      "\\big)\n"
     ]
    },
    {
     "data": {
      "text/latex": [
       "$\\displaystyle 0$"
      ],
      "text/plain": [
       "0"
      ]
     },
     "metadata": {},
     "output_type": "display_data"
    },
    {
     "name": "stdout",
     "output_type": "stream",
     "text": [
      "tau =>\n"
     ]
    },
    {
     "data": {
      "text/latex": [
       "$\\displaystyle 0$"
      ],
      "text/plain": [
       "0"
      ]
     },
     "metadata": {},
     "output_type": "display_data"
    },
    {
     "name": "stdout",
     "output_type": "stream",
     "text": [
      "h^2 =>\n"
     ]
    },
    {
     "data": {
      "text/latex": [
       "$\\displaystyle \\frac{\\left(\\left(- 7 Re^{4} + 7 Re^{3} \\sqrt{Re^{2} + 16 \\pi^{2}} - 116 \\pi^{2} Re^{2} + 60 \\pi^{2} Re \\sqrt{Re^{2} + 16 \\pi^{2}} - 256 \\pi^{4}\\right) e^{x \\left(Re + 6 \\sqrt{Re^{2} + 16 \\pi^{2}}\\right)} + \\left(- Re^{4} + Re^{3} \\sqrt{Re^{2} + 16 \\pi^{2}} - 20 \\pi^{2} Re^{2} + 12 \\pi^{2} Re \\sqrt{Re^{2} + 16 \\pi^{2}} - 64 \\pi^{4}\\right) e^{\\frac{x \\left(Re + 13 \\sqrt{Re^{2} + 16 \\pi^{2}}\\right)}{2}} \\cos{\\left(2 \\pi y \\right)}\\right) e^{- 7 x \\sqrt{Re^{2} + 16 \\pi^{2}}}}{12}$"
      ],
      "text/plain": [
       "((-7*Re**4 + 7*Re**3*sqrt(Re**2 + 16*pi**2) - 116*pi**2*Re**2 + 60*pi**2*Re*sqrt(Re**2 + 16*pi**2) - 256*pi**4)*exp(x*(Re + 6*sqrt(Re**2 + 16*pi**2))) + (-Re**4 + Re**3*sqrt(Re**2 + 16*pi**2) - 20*pi**2*Re**2 + 12*pi**2*Re*sqrt(Re**2 + 16*pi**2) - 64*pi**4)*exp(x*(Re + 13*sqrt(Re**2 + 16*pi**2))/2)*cos(2*pi*y))*exp(-7*x*sqrt(Re**2 + 16*pi**2))/12"
      ]
     },
     "metadata": {},
     "output_type": "display_data"
    },
    {
     "name": "stdout",
     "output_type": "stream",
     "text": [
      "0\n",
      "+\\tau\\big(\n",
      "0\n",
      "\\big)\n",
      "+h^2\\big(\n",
      "\\frac{\\left(\\left(- 7 Re^{4} + 7 Re^{3} \\sqrt{Re^{2} + 16 \\pi^{2}} - 116 \\pi^{2} Re^{2} + 60 \\pi^{2} Re \\sqrt{Re^{2} + 16 \\pi^{2}} - 256 \\pi^{4}\\right) e^{x \\left(Re + 6 \\sqrt{Re^{2} + 16 \\pi^{2}}\\right)} + \\left(- Re^{4} + Re^{3} \\sqrt{Re^{2} + 16 \\pi^{2}} - 20 \\pi^{2} Re^{2} + 12 \\pi^{2} Re \\sqrt{Re^{2} + 16 \\pi^{2}} - 64 \\pi^{4}\\right) e^{\\frac{x \\left(Re + 13 \\sqrt{Re^{2} + 16 \\pi^{2}}\\right)}{2}} \\cos{\\left(2 \\pi y \\right)}\\right) e^{- 7 x \\sqrt{Re^{2} + 16 \\pi^{2}}}}{12}\n",
      "\\big)\n"
     ]
    },
    {
     "data": {
      "text/latex": [
       "$\\displaystyle 0$"
      ],
      "text/plain": [
       "0"
      ]
     },
     "metadata": {},
     "output_type": "display_data"
    },
    {
     "name": "stdout",
     "output_type": "stream",
     "text": [
      "tau =>\n"
     ]
    },
    {
     "data": {
      "text/latex": [
       "$\\displaystyle 0$"
      ],
      "text/plain": [
       "0"
      ]
     },
     "metadata": {},
     "output_type": "display_data"
    },
    {
     "name": "stdout",
     "output_type": "stream",
     "text": [
      "h^2 =>\n"
     ]
    },
    {
     "data": {
      "text/latex": [
       "$\\displaystyle 0$"
      ],
      "text/plain": [
       "0"
      ]
     },
     "metadata": {},
     "output_type": "display_data"
    },
    {
     "name": "stdout",
     "output_type": "stream",
     "text": [
      "0\n",
      "+\\tau\\big(\n",
      "0\n",
      "\\big)\n",
      "+h^2\\big(\n",
      "0\n",
      "\\big)\n"
     ]
    }
   ],
   "source": [
    "F1 = clip(Dx(u) + Dy(v))\n",
    "F2 = clip(Dt(u) + It(u*Dx(u) + v*Dy(u) + Dx(p) - DD2(u)/Re))\n",
    "F3 = clip(Dt(v) + It(u*Dx(v) + v*Dy(v) + Dy(p) - DD2(v)/Re))\n",
    "F4 = clip(Dx(u*Dx(u) + v*Dy(u) + Dx(p)) + Dy(u*Dx(v) + v*Dy(v) + Dy(p)))\n",
    "\n",
    "build(F1, F2, F3, F4)"
   ]
  },
  {
   "cell_type": "code",
   "execution_count": 28,
   "metadata": {},
   "outputs": [
    {
     "data": {
      "text/latex": [
       "$\\displaystyle u_{x} + v_{y}$"
      ],
      "text/plain": [
       "u_{x} + v_{y}"
      ]
     },
     "metadata": {},
     "output_type": "display_data"
    },
    {
     "name": "stdout",
     "output_type": "stream",
     "text": [
      "tau =>\n"
     ]
    },
    {
     "data": {
      "text/latex": [
       "$\\displaystyle 0$"
      ],
      "text/plain": [
       "0"
      ]
     },
     "metadata": {},
     "output_type": "display_data"
    },
    {
     "name": "stdout",
     "output_type": "stream",
     "text": [
      "h^2 =>\n"
     ]
    },
    {
     "data": {
      "text/latex": [
       "$\\displaystyle \\frac{u_{xxx}}{6} + \\frac{v_{yyy}}{6}$"
      ],
      "text/plain": [
       "u_{xxx}/6 + v_{yyy}/6"
      ]
     },
     "metadata": {},
     "output_type": "display_data"
    },
    {
     "name": "stdout",
     "output_type": "stream",
     "text": [
      "-------------------------\n"
     ]
    },
    {
     "data": {
      "text/latex": [
       "$\\displaystyle u_{x} + v_{y}$"
      ],
      "text/plain": [
       "u_{x} + v_{y}"
      ]
     },
     "metadata": {},
     "output_type": "display_data"
    },
    {
     "name": "stdout",
     "output_type": "stream",
     "text": [
      "tau =>\n"
     ]
    },
    {
     "data": {
      "text/latex": [
       "$\\displaystyle 0$"
      ],
      "text/plain": [
       "0"
      ]
     },
     "metadata": {},
     "output_type": "display_data"
    },
    {
     "name": "stdout",
     "output_type": "stream",
     "text": [
      "h^2 =>\n"
     ]
    },
    {
     "data": {
      "text/latex": [
       "$\\displaystyle - \\frac{Re p_{yy}}{6} - \\frac{Re u v_{xy}}{6} - \\frac{Re u_{y} v_{x}}{6} - \\frac{Re v v_{yy}}{6} - \\frac{Re v_{ty}}{6} - \\frac{Re v_{y}^{2}}{6} + \\frac{v_{yyy}}{3}$"
      ],
      "text/plain": [
       "-Re*p_{yy}/6 - Re*u*v_{xy}/6 - Re*u_{y}*v_{x}/6 - Re*v*v_{yy}/6 - Re*v_{ty}/6 - Re*v_{y}**2/6 + v_{yyy}/3"
      ]
     },
     "metadata": {},
     "output_type": "display_data"
    },
    {
     "name": "stdout",
     "output_type": "stream",
     "text": [
      "u_{x} + v_{y}\n",
      "+\\tau\\big(\n",
      "0\n",
      "\\big)\n",
      "+h^2\\big(\n",
      "- \\frac{Re p_{yy}}{6} - \\frac{Re u v_{xy}}{6} - \\frac{Re u_{y} v_{x}}{6} - \\frac{Re v v_{yy}}{6} - \\frac{Re v_{ty}}{6} - \\frac{Re v_{y}^{2}}{6} + \\frac{v_{yyy}}{3}\n",
      "\\big)\n"
     ]
    },
    {
     "data": {
      "text/latex": [
       "$\\displaystyle 0$"
      ],
      "text/plain": [
       "0"
      ]
     },
     "metadata": {},
     "output_type": "display_data"
    },
    {
     "name": "stdout",
     "output_type": "stream",
     "text": [
      "tau =>\n"
     ]
    },
    {
     "data": {
      "text/latex": [
       "$\\displaystyle 0$"
      ],
      "text/plain": [
       "0"
      ]
     },
     "metadata": {},
     "output_type": "display_data"
    },
    {
     "name": "stdout",
     "output_type": "stream",
     "text": [
      "h^2 =>\n"
     ]
    },
    {
     "data": {
      "text/latex": [
       "$\\displaystyle 0$"
      ],
      "text/plain": [
       "0"
      ]
     },
     "metadata": {},
     "output_type": "display_data"
    },
    {
     "name": "stdout",
     "output_type": "stream",
     "text": [
      "0\n",
      "+\\tau\\big(\n",
      "0\n",
      "\\big)\n",
      "+h^2\\big(\n",
      "0\n",
      "\\big)\n"
     ]
    },
    {
     "data": {
      "text/latex": [
       "$\\displaystyle 0$"
      ],
      "text/plain": [
       "0"
      ]
     },
     "metadata": {},
     "output_type": "display_data"
    },
    {
     "name": "stdout",
     "output_type": "stream",
     "text": [
      "tau =>\n"
     ]
    },
    {
     "data": {
      "text/latex": [
       "$\\displaystyle 0$"
      ],
      "text/plain": [
       "0"
      ]
     },
     "metadata": {},
     "output_type": "display_data"
    },
    {
     "name": "stdout",
     "output_type": "stream",
     "text": [
      "h^2 =>\n"
     ]
    },
    {
     "data": {
      "text/latex": [
       "$\\displaystyle \\frac{\\left(- Re^{3} + Re^{2} \\sqrt{Re^{2} + 16 \\pi^{2}} - 16 \\pi^{2} Re + 8 \\pi^{2} \\sqrt{Re^{2} + 16 \\pi^{2}}\\right) e^{\\frac{x \\left(Re - \\sqrt{Re^{2} + 16 \\pi^{2}}\\right)}{2}} \\cos{\\left(2 \\pi y \\right)}}{12}$"
      ],
      "text/plain": [
       "(-Re**3 + Re**2*sqrt(Re**2 + 16*pi**2) - 16*pi**2*Re + 8*pi**2*sqrt(Re**2 + 16*pi**2))*exp(x*(Re - sqrt(Re**2 + 16*pi**2))/2)*cos(2*pi*y)/12"
      ]
     },
     "metadata": {},
     "output_type": "display_data"
    },
    {
     "name": "stdout",
     "output_type": "stream",
     "text": [
      "0\n",
      "+\\tau\\big(\n",
      "0\n",
      "\\big)\n",
      "+h^2\\big(\n",
      "\\frac{\\left(- Re^{3} + Re^{2} \\sqrt{Re^{2} + 16 \\pi^{2}} - 16 \\pi^{2} Re + 8 \\pi^{2} \\sqrt{Re^{2} + 16 \\pi^{2}}\\right) e^{\\frac{x \\left(Re - \\sqrt{Re^{2} + 16 \\pi^{2}}\\right)}{2}} \\cos{\\left(2 \\pi y \\right)}}{12}\n",
      "\\big)\n"
     ]
    },
    {
     "data": {
      "text/latex": [
       "$\\displaystyle p_{x} + 2 u u_{x} + u v_{y} + u_{t} + u_{y} v - \\frac{u_{xx}}{Re} - \\frac{u_{yy}}{Re}$"
      ],
      "text/plain": [
       "p_{x} + 2*u*u_{x} + u*v_{y} + u_{t} + u_{y}*v - u_{xx}/Re - u_{yy}/Re"
      ]
     },
     "metadata": {},
     "output_type": "display_data"
    },
    {
     "name": "stdout",
     "output_type": "stream",
     "text": [
      "tau =>\n"
     ]
    },
    {
     "data": {
      "text/latex": [
       "$\\displaystyle \\frac{u_{tt}}{2}$"
      ],
      "text/plain": [
       "u_{tt}/2"
      ]
     },
     "metadata": {},
     "output_type": "display_data"
    },
    {
     "name": "stdout",
     "output_type": "stream",
     "text": [
      "h^2 =>\n"
     ]
    },
    {
     "data": {
      "text/latex": [
       "$\\displaystyle \\frac{p_{xxx}}{6} + \\frac{u u_{xxx}}{3} + \\frac{u v_{yyy}}{6} + u_{xx} u_{x} + \\frac{u_{yyy} v}{6} + \\frac{u_{yy} v_{y}}{2} + \\frac{u_{y} v_{yy}}{2} - \\frac{u_{xxxx}}{12 Re} - \\frac{u_{yyyy}}{12 Re}$"
      ],
      "text/plain": [
       "p_{xxx}/6 + u*u_{xxx}/3 + u*v_{yyy}/6 + u_{xx}*u_{x} + u_{yyy}*v/6 + u_{yy}*v_{y}/2 + u_{y}*v_{yy}/2 - u_{xxxx}/(12*Re) - u_{yyyy}/(12*Re)"
      ]
     },
     "metadata": {},
     "output_type": "display_data"
    },
    {
     "name": "stdout",
     "output_type": "stream",
     "text": [
      "-------------------------\n"
     ]
    },
    {
     "data": {
      "text/latex": [
       "$\\displaystyle p_{x} + 2 u u_{x} + u v_{y} + u_{t} + u_{y} v - \\frac{u_{xx}}{Re} - \\frac{u_{yy}}{Re}$"
      ],
      "text/plain": [
       "p_{x} + 2*u*u_{x} + u*v_{y} + u_{t} + u_{y}*v - u_{xx}/Re - u_{yy}/Re"
      ]
     },
     "metadata": {},
     "output_type": "display_data"
    },
    {
     "name": "stdout",
     "output_type": "stream",
     "text": [
      "tau =>\n"
     ]
    },
    {
     "data": {
      "text/latex": [
       "$\\displaystyle \\frac{u_{tt}}{2}$"
      ],
      "text/plain": [
       "u_{tt}/2"
      ]
     },
     "metadata": {},
     "output_type": "display_data"
    },
    {
     "name": "stdout",
     "output_type": "stream",
     "text": [
      "h^2 =>\n"
     ]
    },
    {
     "data": {
      "text/latex": [
       "$\\displaystyle \\frac{Re^{2} p_{x} v^{2}}{12} - \\frac{Re^{2} u v^{2} v_{y}}{12} + \\frac{Re^{2} u_{t} v^{2}}{12} + \\frac{Re^{2} u_{y} v^{3}}{12} - \\frac{Re p_{tx}}{12} + \\frac{Re p_{xy} v}{12} + \\frac{5 Re p_{x} v_{y}}{12} - \\frac{Re p_{yy} u}{4} - \\frac{Re p_{y} u_{y}}{4} - \\frac{Re u^{2} v_{xy}}{4} - \\frac{Re u u_{y} v_{x}}{2} - \\frac{Re u v v_{yy}}{3} - \\frac{Re u v_{ty}}{6} - \\frac{2 Re u v_{y}^{2}}{3} - \\frac{Re u_{tt}}{12} + \\frac{Re u_{t} v_{y}}{2} + \\frac{Re u_{y} v v_{y}}{6} - \\frac{Re u_{y} v_{t}}{3} + \\frac{Re v^{2} v_{xy}}{12} - \\frac{p_{xyy}}{6} + \\frac{u v_{yyy}}{2} + \\frac{5 u_{y} v_{yy}}{6} + \\frac{v v_{xyy}}{6} + \\frac{5 v_{xy} v_{y}}{6} + \\frac{v_{x} v_{yy}}{3} - \\frac{v_{xyyy}}{6 Re}$"
      ],
      "text/plain": [
       "Re**2*p_{x}*v**2/12 - Re**2*u*v**2*v_{y}/12 + Re**2*u_{t}*v**2/12 + Re**2*u_{y}*v**3/12 - Re*p_{tx}/12 + Re*p_{xy}*v/12 + 5*Re*p_{x}*v_{y}/12 - Re*p_{yy}*u/4 - Re*p_{y}*u_{y}/4 - Re*u**2*v_{xy}/4 - Re*u*u_{y}*v_{x}/2 - Re*u*v*v_{yy}/3 - Re*u*v_{ty}/6 - 2*Re*u*v_{y}**2/3 - Re*u_{tt}/12 + Re*u_{t}*v_{y}/2 + Re*u_{y}*v*v_{y}/6 - Re*u_{y}*v_{t}/3 + Re*v**2*v_{xy}/12 - p_{xyy}/6 + u*v_{yyy}/2 + 5*u_{y}*v_{yy}/6 + v*v_{xyy}/6 + 5*v_{xy}*v_{y}/6 + v_{x}*v_{yy}/3 - v_{xyyy}/(6*Re)"
      ]
     },
     "metadata": {},
     "output_type": "display_data"
    },
    {
     "name": "stdout",
     "output_type": "stream",
     "text": [
      "p_{x} + 2 u u_{x} + u v_{y} + u_{t} + u_{y} v - \\frac{u_{xx}}{Re} - \\frac{u_{yy}}{Re}\n",
      "+\\tau\\big(\n",
      "\\frac{u_{tt}}{2}\n",
      "\\big)\n",
      "+h^2\\big(\n",
      "\\frac{Re^{2} p_{x} v^{2}}{12} - \\frac{Re^{2} u v^{2} v_{y}}{12} + \\frac{Re^{2} u_{t} v^{2}}{12} + \\frac{Re^{2} u_{y} v^{3}}{12} - \\frac{Re p_{tx}}{12} + \\frac{Re p_{xy} v}{12} + \\frac{5 Re p_{x} v_{y}}{12} - \\frac{Re p_{yy} u}{4} - \\frac{Re p_{y} u_{y}}{4} - \\frac{Re u^{2} v_{xy}}{4} - \\frac{Re u u_{y} v_{x}}{2} - \\frac{Re u v v_{yy}}{3} - \\frac{Re u v_{ty}}{6} - \\frac{2 Re u v_{y}^{2}}{3} - \\frac{Re u_{tt}}{12} + \\frac{Re u_{t} v_{y}}{2} + \\frac{Re u_{y} v v_{y}}{6} - \\frac{Re u_{y} v_{t}}{3} + \\frac{Re v^{2} v_{xy}}{12} - \\frac{p_{xyy}}{6} + \\frac{u v_{yyy}}{2} + \\frac{5 u_{y} v_{yy}}{6} + \\frac{v v_{xyy}}{6} + \\frac{5 v_{xy} v_{y}}{6} + \\frac{v_{x} v_{yy}}{3} - \\frac{v_{xyyy}}{6 Re}\n",
      "\\big)\n"
     ]
    },
    {
     "data": {
      "text/latex": [
       "$\\displaystyle 0$"
      ],
      "text/plain": [
       "0"
      ]
     },
     "metadata": {},
     "output_type": "display_data"
    },
    {
     "name": "stdout",
     "output_type": "stream",
     "text": [
      "tau =>\n"
     ]
    },
    {
     "data": {
      "text/latex": [
       "$\\displaystyle - \\frac{2 e^{- \\frac{2 t}{Re}} \\sin{\\left(y \\right)} \\cos{\\left(x \\right)}}{Re^{2}}$"
      ],
      "text/plain": [
       "-2*exp(-2*t/Re)*sin(y)*cos(x)/Re**2"
      ]
     },
     "metadata": {},
     "output_type": "display_data"
    },
    {
     "name": "stdout",
     "output_type": "stream",
     "text": [
      "h^2 =>\n"
     ]
    },
    {
     "data": {
      "text/latex": [
       "$\\displaystyle \\frac{e^{- \\frac{2 t}{Re}} \\sin{\\left(y \\right)} \\cos{\\left(x \\right)}}{6 Re}$"
      ],
      "text/plain": [
       "exp(-2*t/Re)*sin(y)*cos(x)/(6*Re)"
      ]
     },
     "metadata": {},
     "output_type": "display_data"
    },
    {
     "name": "stdout",
     "output_type": "stream",
     "text": [
      "0\n",
      "+\\tau\\big(\n",
      "- \\frac{2 e^{- \\frac{2 t}{Re}} \\sin{\\left(y \\right)} \\cos{\\left(x \\right)}}{Re^{2}}\n",
      "\\big)\n",
      "+h^2\\big(\n",
      "\\frac{e^{- \\frac{2 t}{Re}} \\sin{\\left(y \\right)} \\cos{\\left(x \\right)}}{6 Re}\n",
      "\\big)\n"
     ]
    },
    {
     "data": {
      "text/latex": [
       "$\\displaystyle 0$"
      ],
      "text/plain": [
       "0"
      ]
     },
     "metadata": {},
     "output_type": "display_data"
    },
    {
     "name": "stdout",
     "output_type": "stream",
     "text": [
      "tau =>\n"
     ]
    },
    {
     "data": {
      "text/latex": [
       "$\\displaystyle 0$"
      ],
      "text/plain": [
       "0"
      ]
     },
     "metadata": {},
     "output_type": "display_data"
    },
    {
     "name": "stdout",
     "output_type": "stream",
     "text": [
      "h^2 =>\n"
     ]
    },
    {
     "data": {
      "text/latex": [
       "$\\displaystyle \\frac{\\left(Re \\left(- 3 Re^{3} + 3 Re^{2} \\sqrt{Re^{2} + 16 \\pi^{2}} - 40 \\pi^{2} Re + 16 \\pi^{2} \\sqrt{Re^{2} + 16 \\pi^{2}}\\right) e^{x \\left(\\frac{Re}{2} + 7 \\sqrt{Re^{2} + 16 \\pi^{2}}\\right)} \\cos{\\left(2 \\pi y \\right)} + 8 Re \\left(Re^{3} - Re^{2} \\sqrt{Re^{2} + 16 \\pi^{2}} + 16 \\pi^{2} Re - 8 \\pi^{2} \\sqrt{Re^{2} + 16 \\pi^{2}}\\right) e^{x \\left(Re + \\frac{13 \\sqrt{Re^{2} + 16 \\pi^{2}}}{2}\\right)} \\cos{\\left(4 \\pi y \\right)} + 64 \\pi^{4} e^{\\frac{x \\left(Re + 14 \\sqrt{Re^{2} + 16 \\pi^{2}}\\right)}{2}} \\cos{\\left(2 \\pi y \\right)}\\right) e^{- \\frac{15 x \\sqrt{Re^{2} + 16 \\pi^{2}}}{2}}}{24 Re}$"
      ],
      "text/plain": [
       "(Re*(-3*Re**3 + 3*Re**2*sqrt(Re**2 + 16*pi**2) - 40*pi**2*Re + 16*pi**2*sqrt(Re**2 + 16*pi**2))*exp(x*(Re/2 + 7*sqrt(Re**2 + 16*pi**2)))*cos(2*pi*y) + 8*Re*(Re**3 - Re**2*sqrt(Re**2 + 16*pi**2) + 16*pi**2*Re - 8*pi**2*sqrt(Re**2 + 16*pi**2))*exp(x*(Re + 13*sqrt(Re**2 + 16*pi**2)/2))*cos(4*pi*y) + 64*pi**4*exp(x*(Re + 14*sqrt(Re**2 + 16*pi**2))/2)*cos(2*pi*y))*exp(-15*x*sqrt(Re**2 + 16*pi**2)/2)/(24*Re)"
      ]
     },
     "metadata": {},
     "output_type": "display_data"
    },
    {
     "name": "stdout",
     "output_type": "stream",
     "text": [
      "0\n",
      "+\\tau\\big(\n",
      "0\n",
      "\\big)\n",
      "+h^2\\big(\n",
      "\\frac{\\left(Re \\left(- 3 Re^{3} + 3 Re^{2} \\sqrt{Re^{2} + 16 \\pi^{2}} - 40 \\pi^{2} Re + 16 \\pi^{2} \\sqrt{Re^{2} + 16 \\pi^{2}}\\right) e^{x \\left(\\frac{Re}{2} + 7 \\sqrt{Re^{2} + 16 \\pi^{2}}\\right)} \\cos{\\left(2 \\pi y \\right)} + 8 Re \\left(Re^{3} - Re^{2} \\sqrt{Re^{2} + 16 \\pi^{2}} + 16 \\pi^{2} Re - 8 \\pi^{2} \\sqrt{Re^{2} + 16 \\pi^{2}}\\right) e^{x \\left(Re + \\frac{13 \\sqrt{Re^{2} + 16 \\pi^{2}}}{2}\\right)} \\cos{\\left(4 \\pi y \\right)} + 64 \\pi^{4} e^{\\frac{x \\left(Re + 14 \\sqrt{Re^{2} + 16 \\pi^{2}}\\right)}{2}} \\cos{\\left(2 \\pi y \\right)}\\right) e^{- \\frac{15 x \\sqrt{Re^{2} + 16 \\pi^{2}}}{2}}}{24 Re}\n",
      "\\big)\n"
     ]
    },
    {
     "data": {
      "text/latex": [
       "$\\displaystyle p_{y} + u v_{x} + u_{x} v + 2 v v_{y} + v_{t} - \\frac{v_{xx}}{Re} - \\frac{v_{yy}}{Re}$"
      ],
      "text/plain": [
       "p_{y} + u*v_{x} + u_{x}*v + 2*v*v_{y} + v_{t} - v_{xx}/Re - v_{yy}/Re"
      ]
     },
     "metadata": {},
     "output_type": "display_data"
    },
    {
     "name": "stdout",
     "output_type": "stream",
     "text": [
      "tau =>\n"
     ]
    },
    {
     "data": {
      "text/latex": [
       "$\\displaystyle \\frac{v_{tt}}{2}$"
      ],
      "text/plain": [
       "v_{tt}/2"
      ]
     },
     "metadata": {},
     "output_type": "display_data"
    },
    {
     "name": "stdout",
     "output_type": "stream",
     "text": [
      "h^2 =>\n"
     ]
    },
    {
     "data": {
      "text/latex": [
       "$\\displaystyle \\frac{p_{yyy}}{6} + \\frac{u v_{xxx}}{6} + \\frac{u_{xxx} v}{6} + \\frac{u_{xx} v_{x}}{2} + \\frac{u_{x} v_{xx}}{2} + \\frac{v v_{yyy}}{3} + v_{yy} v_{y} - \\frac{v_{xxxx}}{12 Re} - \\frac{v_{yyyy}}{12 Re}$"
      ],
      "text/plain": [
       "p_{yyy}/6 + u*v_{xxx}/6 + u_{xxx}*v/6 + u_{xx}*v_{x}/2 + u_{x}*v_{xx}/2 + v*v_{yyy}/3 + v_{yy}*v_{y} - v_{xxxx}/(12*Re) - v_{yyyy}/(12*Re)"
      ]
     },
     "metadata": {},
     "output_type": "display_data"
    },
    {
     "name": "stdout",
     "output_type": "stream",
     "text": [
      "-------------------------\n"
     ]
    },
    {
     "data": {
      "text/latex": [
       "$\\displaystyle p_{y} + u v_{x} + u_{x} v + 2 v v_{y} + v_{t} - \\frac{v_{xx}}{Re} - \\frac{v_{yy}}{Re}$"
      ],
      "text/plain": [
       "p_{y} + u*v_{x} + u_{x}*v + 2*v*v_{y} + v_{t} - v_{xx}/Re - v_{yy}/Re"
      ]
     },
     "metadata": {},
     "output_type": "display_data"
    },
    {
     "name": "stdout",
     "output_type": "stream",
     "text": [
      "tau =>\n"
     ]
    },
    {
     "data": {
      "text/latex": [
       "$\\displaystyle \\frac{v_{tt}}{2}$"
      ],
      "text/plain": [
       "v_{tt}/2"
      ]
     },
     "metadata": {},
     "output_type": "display_data"
    },
    {
     "name": "stdout",
     "output_type": "stream",
     "text": [
      "h^2 =>\n"
     ]
    },
    {
     "data": {
      "text/latex": [
       "$\\displaystyle \\frac{Re^{2} p_{y} u^{2}}{12} + \\frac{Re^{2} u^{3} v_{x}}{12} + \\frac{Re^{2} u^{2} v v_{y}}{12} + \\frac{Re^{2} u^{2} v_{t}}{12} - \\frac{Re p_{ty}}{12} + \\frac{Re p_{xy} u}{12} + \\frac{Re p_{x} v_{x}}{4} - \\frac{Re p_{yy} v}{4} - \\frac{5 Re p_{y} v_{y}}{12} - \\frac{Re u^{2} v_{yy}}{12} - \\frac{Re u v v_{xy}}{6} - \\frac{2 Re u v_{x} v_{y}}{3} + \\frac{Re u_{t} v_{x}}{6} - \\frac{Re v^{2} v_{yy}}{4} - \\frac{Re v v_{ty}}{3} - \\frac{2 Re v v_{y}^{2}}{3} - \\frac{Re v_{tt}}{12} - \\frac{Re v_{t} v_{y}}{2} + \\frac{p_{yyy}}{3} + \\frac{u_{y} v_{xy}}{3} + \\frac{2 v v_{yyy}}{3} + \\frac{v_{tyy}}{6} - \\frac{v_{xy} v_{x}}{3} + 2 v_{yy} v_{y} - \\frac{v_{yyyy}}{6 Re}$"
      ],
      "text/plain": [
       "Re**2*p_{y}*u**2/12 + Re**2*u**3*v_{x}/12 + Re**2*u**2*v*v_{y}/12 + Re**2*u**2*v_{t}/12 - Re*p_{ty}/12 + Re*p_{xy}*u/12 + Re*p_{x}*v_{x}/4 - Re*p_{yy}*v/4 - 5*Re*p_{y}*v_{y}/12 - Re*u**2*v_{yy}/12 - Re*u*v*v_{xy}/6 - 2*Re*u*v_{x}*v_{y}/3 + Re*u_{t}*v_{x}/6 - Re*v**2*v_{yy}/4 - Re*v*v_{ty}/3 - 2*Re*v*v_{y}**2/3 - Re*v_{tt}/12 - Re*v_{t}*v_{y}/2 + p_{yyy}/3 + u_{y}*v_{xy}/3 + 2*v*v_{yyy}/3 + v_{tyy}/6 - v_{xy}*v_{x}/3 + 2*v_{yy}*v_{y} - v_{yyyy}/(6*Re)"
      ]
     },
     "metadata": {},
     "output_type": "display_data"
    },
    {
     "name": "stdout",
     "output_type": "stream",
     "text": [
      "p_{y} + u v_{x} + u_{x} v + 2 v v_{y} + v_{t} - \\frac{v_{xx}}{Re} - \\frac{v_{yy}}{Re}\n",
      "+\\tau\\big(\n",
      "\\frac{v_{tt}}{2}\n",
      "\\big)\n",
      "+h^2\\big(\n",
      "\\frac{Re^{2} p_{y} u^{2}}{12} + \\frac{Re^{2} u^{3} v_{x}}{12} + \\frac{Re^{2} u^{2} v v_{y}}{12} + \\frac{Re^{2} u^{2} v_{t}}{12} - \\frac{Re p_{ty}}{12} + \\frac{Re p_{xy} u}{12} + \\frac{Re p_{x} v_{x}}{4} - \\frac{Re p_{yy} v}{4} - \\frac{5 Re p_{y} v_{y}}{12} - \\frac{Re u^{2} v_{yy}}{12} - \\frac{Re u v v_{xy}}{6} - \\frac{2 Re u v_{x} v_{y}}{3} + \\frac{Re u_{t} v_{x}}{6} - \\frac{Re v^{2} v_{yy}}{4} - \\frac{Re v v_{ty}}{3} - \\frac{2 Re v v_{y}^{2}}{3} - \\frac{Re v_{tt}}{12} - \\frac{Re v_{t} v_{y}}{2} + \\frac{p_{yyy}}{3} + \\frac{u_{y} v_{xy}}{3} + \\frac{2 v v_{yyy}}{3} + \\frac{v_{tyy}}{6} - \\frac{v_{xy} v_{x}}{3} + 2 v_{yy} v_{y} - \\frac{v_{yyyy}}{6 Re}\n",
      "\\big)\n"
     ]
    },
    {
     "data": {
      "text/latex": [
       "$\\displaystyle 0$"
      ],
      "text/plain": [
       "0"
      ]
     },
     "metadata": {},
     "output_type": "display_data"
    },
    {
     "name": "stdout",
     "output_type": "stream",
     "text": [
      "tau =>\n"
     ]
    },
    {
     "data": {
      "text/latex": [
       "$\\displaystyle \\frac{2 e^{- \\frac{2 t}{Re}} \\sin{\\left(x \\right)} \\cos{\\left(y \\right)}}{Re^{2}}$"
      ],
      "text/plain": [
       "2*exp(-2*t/Re)*sin(x)*cos(y)/Re**2"
      ]
     },
     "metadata": {},
     "output_type": "display_data"
    },
    {
     "name": "stdout",
     "output_type": "stream",
     "text": [
      "h^2 =>\n"
     ]
    },
    {
     "data": {
      "text/latex": [
       "$\\displaystyle - \\frac{e^{- \\frac{2 t}{Re}} \\sin{\\left(x \\right)} \\cos{\\left(y \\right)}}{6 Re}$"
      ],
      "text/plain": [
       "-exp(-2*t/Re)*sin(x)*cos(y)/(6*Re)"
      ]
     },
     "metadata": {},
     "output_type": "display_data"
    },
    {
     "name": "stdout",
     "output_type": "stream",
     "text": [
      "0\n",
      "+\\tau\\big(\n",
      "\\frac{2 e^{- \\frac{2 t}{Re}} \\sin{\\left(x \\right)} \\cos{\\left(y \\right)}}{Re^{2}}\n",
      "\\big)\n",
      "+h^2\\big(\n",
      "- \\frac{e^{- \\frac{2 t}{Re}} \\sin{\\left(x \\right)} \\cos{\\left(y \\right)}}{6 Re}\n",
      "\\big)\n"
     ]
    },
    {
     "data": {
      "text/latex": [
       "$\\displaystyle 0$"
      ],
      "text/plain": [
       "0"
      ]
     },
     "metadata": {},
     "output_type": "display_data"
    },
    {
     "name": "stdout",
     "output_type": "stream",
     "text": [
      "tau =>\n"
     ]
    },
    {
     "data": {
      "text/latex": [
       "$\\displaystyle 0$"
      ],
      "text/plain": [
       "0"
      ]
     },
     "metadata": {},
     "output_type": "display_data"
    },
    {
     "name": "stdout",
     "output_type": "stream",
     "text": [
      "h^2 =>\n"
     ]
    },
    {
     "data": {
      "text/latex": [
       "$\\displaystyle \\frac{\\left(16 Re^{4} \\left(- Re + \\sqrt{Re^{2} + 16 \\pi^{2}}\\right) e^{x \\left(Re + \\frac{11 \\sqrt{Re^{2} + 16 \\pi^{2}}}{2}\\right)} \\cos{\\left(2 \\pi y \\right)} + Re^{4} \\left(Re - \\sqrt{Re^{2} + 16 \\pi^{2}}\\right) e^{x \\left(\\frac{Re}{2} + 6 \\sqrt{Re^{2} + 16 \\pi^{2}}\\right)} + 64 \\pi^{2} Re \\left(- 5 Re^{2} + 3 Re \\sqrt{Re^{2} + 16 \\pi^{2}} - 16 \\pi^{2}\\right) e^{x \\left(Re + \\frac{11 \\sqrt{Re^{2} + 16 \\pi^{2}}}{2}\\right)} \\cos{\\left(2 \\pi y \\right)} + 4 \\pi^{2} Re \\left(3 Re^{2} - Re \\sqrt{Re^{2} + 16 \\pi^{2}} - 8 \\pi^{2}\\right) e^{x \\left(\\frac{Re}{2} + 6 \\sqrt{Re^{2} + 16 \\pi^{2}}\\right)} + 32 \\pi^{4} \\sqrt{Re^{2} + 16 \\pi^{2}} e^{\\frac{x \\left(Re + 12 \\sqrt{Re^{2} + 16 \\pi^{2}}\\right)}{2}}\\right) e^{- \\frac{13 x \\sqrt{Re^{2} + 16 \\pi^{2}}}{2}} \\sin{\\left(2 \\pi y \\right)}}{48 \\pi Re}$"
      ],
      "text/plain": [
       "(16*Re**4*(-Re + sqrt(Re**2 + 16*pi**2))*exp(x*(Re + 11*sqrt(Re**2 + 16*pi**2)/2))*cos(2*pi*y) + Re**4*(Re - sqrt(Re**2 + 16*pi**2))*exp(x*(Re/2 + 6*sqrt(Re**2 + 16*pi**2))) + 64*pi**2*Re*(-5*Re**2 + 3*Re*sqrt(Re**2 + 16*pi**2) - 16*pi**2)*exp(x*(Re + 11*sqrt(Re**2 + 16*pi**2)/2))*cos(2*pi*y) + 4*pi**2*Re*(3*Re**2 - Re*sqrt(Re**2 + 16*pi**2) - 8*pi**2)*exp(x*(Re/2 + 6*sqrt(Re**2 + 16*pi**2))) + 32*pi**4*sqrt(Re**2 + 16*pi**2)*exp(x*(Re + 12*sqrt(Re**2 + 16*pi**2))/2))*exp(-13*x*sqrt(Re**2 + 16*pi**2)/2)*sin(2*pi*y)/(48*pi*Re)"
      ]
     },
     "metadata": {},
     "output_type": "display_data"
    },
    {
     "name": "stdout",
     "output_type": "stream",
     "text": [
      "0\n",
      "+\\tau\\big(\n",
      "0\n",
      "\\big)\n",
      "+h^2\\big(\n",
      "\\frac{\\left(16 Re^{4} \\left(- Re + \\sqrt{Re^{2} + 16 \\pi^{2}}\\right) e^{x \\left(Re + \\frac{11 \\sqrt{Re^{2} + 16 \\pi^{2}}}{2}\\right)} \\cos{\\left(2 \\pi y \\right)} + Re^{4} \\left(Re - \\sqrt{Re^{2} + 16 \\pi^{2}}\\right) e^{x \\left(\\frac{Re}{2} + 6 \\sqrt{Re^{2} + 16 \\pi^{2}}\\right)} + 64 \\pi^{2} Re \\left(- 5 Re^{2} + 3 Re \\sqrt{Re^{2} + 16 \\pi^{2}} - 16 \\pi^{2}\\right) e^{x \\left(Re + \\frac{11 \\sqrt{Re^{2} + 16 \\pi^{2}}}{2}\\right)} \\cos{\\left(2 \\pi y \\right)} + 4 \\pi^{2} Re \\left(3 Re^{2} - Re \\sqrt{Re^{2} + 16 \\pi^{2}} - 8 \\pi^{2}\\right) e^{x \\left(\\frac{Re}{2} + 6 \\sqrt{Re^{2} + 16 \\pi^{2}}\\right)} + 32 \\pi^{4} \\sqrt{Re^{2} + 16 \\pi^{2}} e^{\\frac{x \\left(Re + 12 \\sqrt{Re^{2} + 16 \\pi^{2}}\\right)}{2}}\\right) e^{- \\frac{13 x \\sqrt{Re^{2} + 16 \\pi^{2}}}{2}} \\sin{\\left(2 \\pi y \\right)}}{48 \\pi Re}\n",
      "\\big)\n"
     ]
    },
    {
     "data": {
      "text/latex": [
       "$\\displaystyle p_{xx} + p_{yy} + 2 u u_{xx} + 2 u v_{xy} + 2 u_{xy} v + 2 u_{x}^{2} + 2 u_{x} v_{y} + 2 u_{y} v_{x} + 2 v v_{yy} + 2 v_{y}^{2}$"
      ],
      "text/plain": [
       "p_{xx} + p_{yy} + 2*u*u_{xx} + 2*u*v_{xy} + 2*u_{xy}*v + 2*u_{x}**2 + 2*u_{x}*v_{y} + 2*u_{y}*v_{x} + 2*v*v_{yy} + 2*v_{y}**2"
      ]
     },
     "metadata": {},
     "output_type": "display_data"
    },
    {
     "name": "stdout",
     "output_type": "stream",
     "text": [
      "tau =>\n"
     ]
    },
    {
     "data": {
      "text/latex": [
       "$\\displaystyle 0$"
      ],
      "text/plain": [
       "0"
      ]
     },
     "metadata": {},
     "output_type": "display_data"
    },
    {
     "name": "stdout",
     "output_type": "stream",
     "text": [
      "h^2 =>\n"
     ]
    },
    {
     "data": {
      "text/latex": [
       "$\\displaystyle \\frac{p_{xxxx}}{3} + \\frac{p_{yyyy}}{3} + \\frac{2 u u_{xxxx}}{3} + \\frac{u v_{xxxy}}{3} + \\frac{u v_{xyyy}}{3} + \\frac{u_{xxxy} v}{3} + \\frac{8 u_{xxx} u_{x}}{3} + \\frac{u_{xxx} v_{y}}{3} + u_{xxy} v_{x} + 2 u_{xx}^{2} + u_{xx} v_{xy} + \\frac{u_{xyyy} v}{3} + u_{xyy} v_{y} + u_{xy} v_{xx} + u_{xy} v_{yy} + u_{x} v_{xxy} + \\frac{u_{x} v_{yyy}}{3} + \\frac{u_{yyy} v_{x}}{3} + u_{yy} v_{xy} + \\frac{u_{y} v_{xxx}}{3} + u_{y} v_{xyy} + \\frac{2 v v_{yyyy}}{3} + \\frac{8 v_{yyy} v_{y}}{3} + 2 v_{yy}^{2}$"
      ],
      "text/plain": [
       "p_{xxxx}/3 + p_{yyyy}/3 + 2*u*u_{xxxx}/3 + u*v_{xxxy}/3 + u*v_{xyyy}/3 + u_{xxxy}*v/3 + 8*u_{xxx}*u_{x}/3 + u_{xxx}*v_{y}/3 + u_{xxy}*v_{x} + 2*u_{xx}**2 + u_{xx}*v_{xy} + u_{xyyy}*v/3 + u_{xyy}*v_{y} + u_{xy}*v_{xx} + u_{xy}*v_{yy} + u_{x}*v_{xxy} + u_{x}*v_{yyy}/3 + u_{yyy}*v_{x}/3 + u_{yy}*v_{xy} + u_{y}*v_{xxx}/3 + u_{y}*v_{xyy} + 2*v*v_{yyyy}/3 + 8*v_{yyy}*v_{y}/3 + 2*v_{yy}**2"
      ]
     },
     "metadata": {},
     "output_type": "display_data"
    },
    {
     "name": "stdout",
     "output_type": "stream",
     "text": [
      "-------------------------\n"
     ]
    },
    {
     "data": {
      "text/latex": [
       "$\\displaystyle p_{xx} + p_{yy} + 2 u u_{xx} + 2 u v_{xy} + 2 u_{xy} v + 2 u_{x}^{2} + 2 u_{x} v_{y} + 2 u_{y} v_{x} + 2 v v_{yy} + 2 v_{y}^{2}$"
      ],
      "text/plain": [
       "p_{xx} + p_{yy} + 2*u*u_{xx} + 2*u*v_{xy} + 2*u_{xy}*v + 2*u_{x}**2 + 2*u_{x}*v_{y} + 2*u_{y}*v_{x} + 2*v*v_{yy} + 2*v_{y}**2"
      ]
     },
     "metadata": {},
     "output_type": "display_data"
    },
    {
     "name": "stdout",
     "output_type": "stream",
     "text": [
      "tau =>\n"
     ]
    },
    {
     "data": {
      "text/latex": [
       "$\\displaystyle 0$"
      ],
      "text/plain": [
       "0"
      ]
     },
     "metadata": {},
     "output_type": "display_data"
    },
    {
     "name": "stdout",
     "output_type": "stream",
     "text": [
      "h^2 =>\n"
     ]
    },
    {
     "data": {
      "text/latex": [
       "$\\displaystyle \\frac{2 Re^{2} p_{x} v v_{x}}{3} - \\frac{Re^{2} p_{yy} u^{2}}{3} - \\frac{2 Re^{2} p_{y} u u_{y}}{3} - \\frac{Re^{2} u^{3} v_{xy}}{3} - Re^{2} u^{2} u_{y} v_{x} - \\frac{Re^{2} u^{2} v v_{yy}}{3} - \\frac{Re^{2} u^{2} v_{ty}}{3} - \\frac{Re^{2} u^{2} v_{y}^{2}}{3} - \\frac{2 Re^{2} u u_{y} v v_{y}}{3} - \\frac{2 Re^{2} u u_{y} v_{t}}{3} - \\frac{2 Re^{2} u v v_{x} v_{y}}{3} + \\frac{2 Re^{2} u_{t} v v_{x}}{3} + \\frac{2 Re^{2} u_{y} v^{2} v_{x}}{3} - \\frac{Re p_{xyy} u}{3} - \\frac{Re p_{xy} u_{y}}{3} + Re p_{xy} v_{x} + \\frac{7 Re p_{x} v_{xy}}{3} - \\frac{Re p_{yyy} v}{3} + \\frac{Re p_{y} v_{yy}}{3} + \\frac{Re u^{2} v_{yyy}}{3} + \\frac{2 Re u u_{y} v_{yy}}{3} - \\frac{2 Re u v v_{xyy}}{3} - \\frac{Re u v_{txy}}{3} - \\frac{8 Re u v_{xy} v_{y}}{3} - \\frac{2 Re u v_{x} v_{yy}}{3} + Re u_{ty} v_{x} + \\frac{7 Re u_{t} v_{xy}}{3} + \\frac{4 Re u_{y} v v_{xy}}{3} - \\frac{Re u_{y} v_{tx}}{3} - \\frac{Re v^{2} v_{yyy}}{3} - \\frac{Re v v_{tyy}}{3} + \\frac{2 Re v v_{xy} v_{x}}{3} - \\frac{2 Re v v_{yy} v_{y}}{3} + \\frac{Re v_{t} v_{yy}}{3} + \\frac{2 p_{yyyy}}{3} + \\frac{2 u v_{xyyy}}{3} + 2 u_{y} v_{xyy} + \\frac{2 v v_{yyyy}}{3} + \\frac{2 v_{xyy} v_{x}}{3} + 2 v_{xy}^{2} + \\frac{8 v_{yyy} v_{y}}{3} + 2 v_{yy}^{2}$"
      ],
      "text/plain": [
       "2*Re**2*p_{x}*v*v_{x}/3 - Re**2*p_{yy}*u**2/3 - 2*Re**2*p_{y}*u*u_{y}/3 - Re**2*u**3*v_{xy}/3 - Re**2*u**2*u_{y}*v_{x} - Re**2*u**2*v*v_{yy}/3 - Re**2*u**2*v_{ty}/3 - Re**2*u**2*v_{y}**2/3 - 2*Re**2*u*u_{y}*v*v_{y}/3 - 2*Re**2*u*u_{y}*v_{t}/3 - 2*Re**2*u*v*v_{x}*v_{y}/3 + 2*Re**2*u_{t}*v*v_{x}/3 + 2*Re**2*u_{y}*v**2*v_{x}/3 - Re*p_{xyy}*u/3 - Re*p_{xy}*u_{y}/3 + Re*p_{xy}*v_{x} + 7*Re*p_{x}*v_{xy}/3 - Re*p_{yyy}*v/3 + Re*p_{y}*v_{yy}/3 + Re*u**2*v_{yyy}/3 + 2*Re*u*u_{y}*v_{yy}/3 - 2*Re*u*v*v_{xyy}/3 - Re*u*v_{txy}/3 - 8*Re*u*v_{xy}*v_{y}/3 - 2*Re*u*v_{x}*v_{yy}/3 + Re*u_{ty}*v_{x} + 7*Re*u_{t}*v_{xy}/3 + 4*Re*u_{y}*v*v_{xy}/3 - Re*u_{y}*v_{tx}/3 - Re*v**2*v_{yyy}/3 - Re*v*v_{tyy}/3 + 2*Re*v*v_{xy}*v_{x}/3 - 2*Re*v*v_{yy}*v_{y}/3 + Re*v_{t}*v_{yy}/3 + 2*p_{yyyy}/3 + 2*u*v_{xyyy}/3 + 2*u_{y}*v_{xyy} + 2*v*v_{yyyy}/3 + 2*v_{xyy}*v_{x}/3 + 2*v_{xy}**2 + 8*v_{yyy}*v_{y}/3 + 2*v_{yy}**2"
      ]
     },
     "metadata": {},
     "output_type": "display_data"
    },
    {
     "name": "stdout",
     "output_type": "stream",
     "text": [
      "p_{xx} + p_{yy} + 2 u u_{xx} + 2 u v_{xy} + 2 u_{xy} v + 2 u_{x}^{2} + 2 u_{x} v_{y} + 2 u_{y} v_{x} + 2 v v_{yy} + 2 v_{y}^{2}\n",
      "+\\tau\\big(\n",
      "0\n",
      "\\big)\n",
      "+h^2\\big(\n",
      "\\frac{2 Re^{2} p_{x} v v_{x}}{3} - \\frac{Re^{2} p_{yy} u^{2}}{3} - \\frac{2 Re^{2} p_{y} u u_{y}}{3} - \\frac{Re^{2} u^{3} v_{xy}}{3} - Re^{2} u^{2} u_{y} v_{x} - \\frac{Re^{2} u^{2} v v_{yy}}{3} - \\frac{Re^{2} u^{2} v_{ty}}{3} - \\frac{Re^{2} u^{2} v_{y}^{2}}{3} - \\frac{2 Re^{2} u u_{y} v v_{y}}{3} - \\frac{2 Re^{2} u u_{y} v_{t}}{3} - \\frac{2 Re^{2} u v v_{x} v_{y}}{3} + \\frac{2 Re^{2} u_{t} v v_{x}}{3} + \\frac{2 Re^{2} u_{y} v^{2} v_{x}}{3} - \\frac{Re p_{xyy} u}{3} - \\frac{Re p_{xy} u_{y}}{3} + Re p_{xy} v_{x} + \\frac{7 Re p_{x} v_{xy}}{3} - \\frac{Re p_{yyy} v}{3} + \\frac{Re p_{y} v_{yy}}{3} + \\frac{Re u^{2} v_{yyy}}{3} + \\frac{2 Re u u_{y} v_{yy}}{3} - \\frac{2 Re u v v_{xyy}}{3} - \\frac{Re u v_{txy}}{3} - \\frac{8 Re u v_{xy} v_{y}}{3} - \\frac{2 Re u v_{x} v_{yy}}{3} + Re u_{ty} v_{x} + \\frac{7 Re u_{t} v_{xy}}{3} + \\frac{4 Re u_{y} v v_{xy}}{3} - \\frac{Re u_{y} v_{tx}}{3} - \\frac{Re v^{2} v_{yyy}}{3} - \\frac{Re v v_{tyy}}{3} + \\frac{2 Re v v_{xy} v_{x}}{3} - \\frac{2 Re v v_{yy} v_{y}}{3} + \\frac{Re v_{t} v_{yy}}{3} + \\frac{2 p_{yyyy}}{3} + \\frac{2 u v_{xyyy}}{3} + 2 u_{y} v_{xyy} + \\frac{2 v v_{yyyy}}{3} + \\frac{2 v_{xyy} v_{x}}{3} + 2 v_{xy}^{2} + \\frac{8 v_{yyy} v_{y}}{3} + 2 v_{yy}^{2}\n",
      "\\big)\n"
     ]
    },
    {
     "data": {
      "text/latex": [
       "$\\displaystyle 0$"
      ],
      "text/plain": [
       "0"
      ]
     },
     "metadata": {},
     "output_type": "display_data"
    },
    {
     "name": "stdout",
     "output_type": "stream",
     "text": [
      "tau =>\n"
     ]
    },
    {
     "data": {
      "text/latex": [
       "$\\displaystyle 0$"
      ],
      "text/plain": [
       "0"
      ]
     },
     "metadata": {},
     "output_type": "display_data"
    },
    {
     "name": "stdout",
     "output_type": "stream",
     "text": [
      "h^2 =>\n"
     ]
    },
    {
     "data": {
      "text/latex": [
       "$\\displaystyle 0$"
      ],
      "text/plain": [
       "0"
      ]
     },
     "metadata": {},
     "output_type": "display_data"
    },
    {
     "name": "stdout",
     "output_type": "stream",
     "text": [
      "0\n",
      "+\\tau\\big(\n",
      "0\n",
      "\\big)\n",
      "+h^2\\big(\n",
      "0\n",
      "\\big)\n"
     ]
    },
    {
     "data": {
      "text/latex": [
       "$\\displaystyle 0$"
      ],
      "text/plain": [
       "0"
      ]
     },
     "metadata": {},
     "output_type": "display_data"
    },
    {
     "name": "stdout",
     "output_type": "stream",
     "text": [
      "tau =>\n"
     ]
    },
    {
     "data": {
      "text/latex": [
       "$\\displaystyle 0$"
      ],
      "text/plain": [
       "0"
      ]
     },
     "metadata": {},
     "output_type": "display_data"
    },
    {
     "name": "stdout",
     "output_type": "stream",
     "text": [
      "h^2 =>\n"
     ]
    },
    {
     "data": {
      "text/latex": [
       "$\\displaystyle \\frac{\\left(- Re^{4} + Re^{3} \\sqrt{Re^{2} + 16 \\pi^{2}} - 20 \\pi^{2} Re^{2} + 12 \\pi^{2} Re \\sqrt{Re^{2} + 16 \\pi^{2}} - 64 \\pi^{4}\\right) e^{\\frac{x \\left(Re - \\sqrt{Re^{2} + 16 \\pi^{2}}\\right)}{2}} \\cos{\\left(2 \\pi y \\right)}}{6}$"
      ],
      "text/plain": [
       "(-Re**4 + Re**3*sqrt(Re**2 + 16*pi**2) - 20*pi**2*Re**2 + 12*pi**2*Re*sqrt(Re**2 + 16*pi**2) - 64*pi**4)*exp(x*(Re - sqrt(Re**2 + 16*pi**2))/2)*cos(2*pi*y)/6"
      ]
     },
     "metadata": {},
     "output_type": "display_data"
    },
    {
     "name": "stdout",
     "output_type": "stream",
     "text": [
      "0\n",
      "+\\tau\\big(\n",
      "0\n",
      "\\big)\n",
      "+h^2\\big(\n",
      "\\frac{\\left(- Re^{4} + Re^{3} \\sqrt{Re^{2} + 16 \\pi^{2}} - 20 \\pi^{2} Re^{2} + 12 \\pi^{2} Re \\sqrt{Re^{2} + 16 \\pi^{2}} - 64 \\pi^{4}\\right) e^{\\frac{x \\left(Re - \\sqrt{Re^{2} + 16 \\pi^{2}}\\right)}{2}} \\cos{\\left(2 \\pi y \\right)}}{6}\n",
      "\\big)\n"
     ]
    },
    {
     "data": {
      "text/latex": [
       "$\\displaystyle 0$"
      ],
      "text/plain": [
       "0"
      ]
     },
     "metadata": {},
     "output_type": "display_data"
    },
    {
     "name": "stdout",
     "output_type": "stream",
     "text": [
      "tau =>\n"
     ]
    },
    {
     "data": {
      "text/latex": [
       "$\\displaystyle 0$"
      ],
      "text/plain": [
       "0"
      ]
     },
     "metadata": {},
     "output_type": "display_data"
    },
    {
     "name": "stdout",
     "output_type": "stream",
     "text": [
      "h^2 =>\n"
     ]
    },
    {
     "data": {
      "text/latex": [
       "$\\displaystyle 0$"
      ],
      "text/plain": [
       "0"
      ]
     },
     "metadata": {},
     "output_type": "display_data"
    },
    {
     "name": "stdout",
     "output_type": "stream",
     "text": [
      "0\n",
      "+\\tau\\big(\n",
      "0\n",
      "\\big)\n",
      "+h^2\\big(\n",
      "0\n",
      "\\big)\n"
     ]
    }
   ],
   "source": [
    "F1 = clip(Dx(u) + Dy(v))\n",
    "F2 = clip(Dt(u) + Dx(u**2) + Dy(v*u) + Dx(p) - DD(u)/Re)\n",
    "F3 = clip(Dt(v) + Dx(u*v) + Dy(v**2) + Dy(p) - DD(v)/Re)\n",
    "F4 = clip(Dx(Dx(u**2) + Dy(v*u) + Dx(p)) + Dy(Dx(u*v) + Dy(v**2) + Dy(p)))\n",
    "\n",
    "build(F1, F2, F3, F4)"
   ]
  },
  {
   "cell_type": "code",
   "execution_count": 29,
   "metadata": {},
   "outputs": [
    {
     "data": {
      "text/latex": [
       "$\\displaystyle u_{x} + v_{y}$"
      ],
      "text/plain": [
       "u_{x} + v_{y}"
      ]
     },
     "metadata": {},
     "output_type": "display_data"
    },
    {
     "name": "stdout",
     "output_type": "stream",
     "text": [
      "tau =>\n"
     ]
    },
    {
     "data": {
      "text/latex": [
       "$\\displaystyle 0$"
      ],
      "text/plain": [
       "0"
      ]
     },
     "metadata": {},
     "output_type": "display_data"
    },
    {
     "name": "stdout",
     "output_type": "stream",
     "text": [
      "h^2 =>\n"
     ]
    },
    {
     "data": {
      "text/latex": [
       "$\\displaystyle \\frac{u_{xxx}}{6} + \\frac{v_{yyy}}{6}$"
      ],
      "text/plain": [
       "u_{xxx}/6 + v_{yyy}/6"
      ]
     },
     "metadata": {},
     "output_type": "display_data"
    },
    {
     "name": "stdout",
     "output_type": "stream",
     "text": [
      "-------------------------\n"
     ]
    },
    {
     "data": {
      "text/latex": [
       "$\\displaystyle u_{x} + v_{y}$"
      ],
      "text/plain": [
       "u_{x} + v_{y}"
      ]
     },
     "metadata": {},
     "output_type": "display_data"
    },
    {
     "name": "stdout",
     "output_type": "stream",
     "text": [
      "tau =>\n"
     ]
    },
    {
     "data": {
      "text/latex": [
       "$\\displaystyle 0$"
      ],
      "text/plain": [
       "0"
      ]
     },
     "metadata": {},
     "output_type": "display_data"
    },
    {
     "name": "stdout",
     "output_type": "stream",
     "text": [
      "h^2 =>\n"
     ]
    },
    {
     "data": {
      "text/latex": [
       "$\\displaystyle - \\frac{Re p_{yy}}{6} - \\frac{Re u v_{xy}}{6} - \\frac{Re u_{y} v_{x}}{6} - \\frac{Re v v_{yy}}{6} - \\frac{Re v_{ty}}{6} - \\frac{Re v_{y}^{2}}{6} + \\frac{v_{yyy}}{3}$"
      ],
      "text/plain": [
       "-Re*p_{yy}/6 - Re*u*v_{xy}/6 - Re*u_{y}*v_{x}/6 - Re*v*v_{yy}/6 - Re*v_{ty}/6 - Re*v_{y}**2/6 + v_{yyy}/3"
      ]
     },
     "metadata": {},
     "output_type": "display_data"
    },
    {
     "name": "stdout",
     "output_type": "stream",
     "text": [
      "u_{x} + v_{y}\n",
      "+\\tau\\big(\n",
      "0\n",
      "\\big)\n",
      "+h^2\\big(\n",
      "- \\frac{Re p_{yy}}{6} - \\frac{Re u v_{xy}}{6} - \\frac{Re u_{y} v_{x}}{6} - \\frac{Re v v_{yy}}{6} - \\frac{Re v_{ty}}{6} - \\frac{Re v_{y}^{2}}{6} + \\frac{v_{yyy}}{3}\n",
      "\\big)\n"
     ]
    },
    {
     "data": {
      "text/latex": [
       "$\\displaystyle 0$"
      ],
      "text/plain": [
       "0"
      ]
     },
     "metadata": {},
     "output_type": "display_data"
    },
    {
     "name": "stdout",
     "output_type": "stream",
     "text": [
      "tau =>\n"
     ]
    },
    {
     "data": {
      "text/latex": [
       "$\\displaystyle 0$"
      ],
      "text/plain": [
       "0"
      ]
     },
     "metadata": {},
     "output_type": "display_data"
    },
    {
     "name": "stdout",
     "output_type": "stream",
     "text": [
      "h^2 =>\n"
     ]
    },
    {
     "data": {
      "text/latex": [
       "$\\displaystyle 0$"
      ],
      "text/plain": [
       "0"
      ]
     },
     "metadata": {},
     "output_type": "display_data"
    },
    {
     "name": "stdout",
     "output_type": "stream",
     "text": [
      "0\n",
      "+\\tau\\big(\n",
      "0\n",
      "\\big)\n",
      "+h^2\\big(\n",
      "0\n",
      "\\big)\n"
     ]
    },
    {
     "data": {
      "text/latex": [
       "$\\displaystyle 0$"
      ],
      "text/plain": [
       "0"
      ]
     },
     "metadata": {},
     "output_type": "display_data"
    },
    {
     "name": "stdout",
     "output_type": "stream",
     "text": [
      "tau =>\n"
     ]
    },
    {
     "data": {
      "text/latex": [
       "$\\displaystyle 0$"
      ],
      "text/plain": [
       "0"
      ]
     },
     "metadata": {},
     "output_type": "display_data"
    },
    {
     "name": "stdout",
     "output_type": "stream",
     "text": [
      "h^2 =>\n"
     ]
    },
    {
     "data": {
      "text/latex": [
       "$\\displaystyle \\frac{\\left(- Re^{3} + Re^{2} \\sqrt{Re^{2} + 16 \\pi^{2}} - 16 \\pi^{2} Re + 8 \\pi^{2} \\sqrt{Re^{2} + 16 \\pi^{2}}\\right) e^{\\frac{x \\left(Re - \\sqrt{Re^{2} + 16 \\pi^{2}}\\right)}{2}} \\cos{\\left(2 \\pi y \\right)}}{12}$"
      ],
      "text/plain": [
       "(-Re**3 + Re**2*sqrt(Re**2 + 16*pi**2) - 16*pi**2*Re + 8*pi**2*sqrt(Re**2 + 16*pi**2))*exp(x*(Re - sqrt(Re**2 + 16*pi**2))/2)*cos(2*pi*y)/12"
      ]
     },
     "metadata": {},
     "output_type": "display_data"
    },
    {
     "name": "stdout",
     "output_type": "stream",
     "text": [
      "0\n",
      "+\\tau\\big(\n",
      "0\n",
      "\\big)\n",
      "+h^2\\big(\n",
      "\\frac{\\left(- Re^{3} + Re^{2} \\sqrt{Re^{2} + 16 \\pi^{2}} - 16 \\pi^{2} Re + 8 \\pi^{2} \\sqrt{Re^{2} + 16 \\pi^{2}}\\right) e^{\\frac{x \\left(Re - \\sqrt{Re^{2} + 16 \\pi^{2}}\\right)}{2}} \\cos{\\left(2 \\pi y \\right)}}{12}\n",
      "\\big)\n"
     ]
    },
    {
     "data": {
      "text/latex": [
       "$\\displaystyle p_{x} + 2 u u_{x} + u v_{y} + u_{t} + u_{y} v - \\frac{u_{xx}}{Re} - \\frac{u_{yy}}{Re}$"
      ],
      "text/plain": [
       "p_{x} + 2*u*u_{x} + u*v_{y} + u_{t} + u_{y}*v - u_{xx}/Re - u_{yy}/Re"
      ]
     },
     "metadata": {},
     "output_type": "display_data"
    },
    {
     "name": "stdout",
     "output_type": "stream",
     "text": [
      "tau =>\n"
     ]
    },
    {
     "data": {
      "text/latex": [
       "$\\displaystyle \\frac{u_{tt}}{2}$"
      ],
      "text/plain": [
       "u_{tt}/2"
      ]
     },
     "metadata": {},
     "output_type": "display_data"
    },
    {
     "name": "stdout",
     "output_type": "stream",
     "text": [
      "h^2 =>\n"
     ]
    },
    {
     "data": {
      "text/latex": [
       "$\\displaystyle \\frac{p_{xxx}}{6} + \\frac{u u_{xxx}}{3} + \\frac{u v_{yyy}}{6} + u_{xx} u_{x} + \\frac{u_{yyy} v}{6} + \\frac{u_{yy} v_{y}}{2} + \\frac{u_{y} v_{yy}}{2} - \\frac{u_{xxxx}}{3 Re} - \\frac{u_{yyyy}}{3 Re}$"
      ],
      "text/plain": [
       "p_{xxx}/6 + u*u_{xxx}/3 + u*v_{yyy}/6 + u_{xx}*u_{x} + u_{yyy}*v/6 + u_{yy}*v_{y}/2 + u_{y}*v_{yy}/2 - u_{xxxx}/(3*Re) - u_{yyyy}/(3*Re)"
      ]
     },
     "metadata": {},
     "output_type": "display_data"
    },
    {
     "name": "stdout",
     "output_type": "stream",
     "text": [
      "-------------------------\n"
     ]
    },
    {
     "data": {
      "text/latex": [
       "$\\displaystyle p_{x} + 2 u u_{x} + u v_{y} + u_{t} + u_{y} v - \\frac{u_{xx}}{Re} - \\frac{u_{yy}}{Re}$"
      ],
      "text/plain": [
       "p_{x} + 2*u*u_{x} + u*v_{y} + u_{t} + u_{y}*v - u_{xx}/Re - u_{yy}/Re"
      ]
     },
     "metadata": {},
     "output_type": "display_data"
    },
    {
     "name": "stdout",
     "output_type": "stream",
     "text": [
      "tau =>\n"
     ]
    },
    {
     "data": {
      "text/latex": [
       "$\\displaystyle \\frac{u_{tt}}{2}$"
      ],
      "text/plain": [
       "u_{tt}/2"
      ]
     },
     "metadata": {},
     "output_type": "display_data"
    },
    {
     "name": "stdout",
     "output_type": "stream",
     "text": [
      "h^2 =>\n"
     ]
    },
    {
     "data": {
      "text/latex": [
       "$\\displaystyle - \\frac{Re^{2} p_{x} v^{2}}{6} + \\frac{Re^{2} u v^{2} v_{y}}{6} - \\frac{Re^{2} u_{t} v^{2}}{6} - \\frac{Re^{2} u_{y} v^{3}}{6} - \\frac{Re p_{tx}}{3} - \\frac{Re p_{xy} v}{6} + \\frac{Re p_{x} v_{y}}{6} + \\frac{Re u v v_{yy}}{6} + \\frac{Re u v_{ty}}{3} - \\frac{Re u v_{y}^{2}}{6} - \\frac{Re u_{tt}}{3} - \\frac{Re u_{ty} v}{2} + \\frac{Re u_{t} v_{y}}{2} + \\frac{Re u_{y} v v_{y}}{6} - \\frac{Re u_{y} v_{t}}{3} - \\frac{Re v^{2} v_{xy}}{6} - \\frac{p_{xyy}}{6} + \\frac{u v_{yyy}}{2} + \\frac{5 u_{y} v_{yy}}{6} + \\frac{v v_{xyy}}{6} + \\frac{5 v_{xy} v_{y}}{6} + \\frac{v_{x} v_{yy}}{3} - \\frac{2 v_{xyyy}}{3 Re}$"
      ],
      "text/plain": [
       "-Re**2*p_{x}*v**2/6 + Re**2*u*v**2*v_{y}/6 - Re**2*u_{t}*v**2/6 - Re**2*u_{y}*v**3/6 - Re*p_{tx}/3 - Re*p_{xy}*v/6 + Re*p_{x}*v_{y}/6 + Re*u*v*v_{yy}/6 + Re*u*v_{ty}/3 - Re*u*v_{y}**2/6 - Re*u_{tt}/3 - Re*u_{ty}*v/2 + Re*u_{t}*v_{y}/2 + Re*u_{y}*v*v_{y}/6 - Re*u_{y}*v_{t}/3 - Re*v**2*v_{xy}/6 - p_{xyy}/6 + u*v_{yyy}/2 + 5*u_{y}*v_{yy}/6 + v*v_{xyy}/6 + 5*v_{xy}*v_{y}/6 + v_{x}*v_{yy}/3 - 2*v_{xyyy}/(3*Re)"
      ]
     },
     "metadata": {},
     "output_type": "display_data"
    },
    {
     "name": "stdout",
     "output_type": "stream",
     "text": [
      "p_{x} + 2 u u_{x} + u v_{y} + u_{t} + u_{y} v - \\frac{u_{xx}}{Re} - \\frac{u_{yy}}{Re}\n",
      "+\\tau\\big(\n",
      "\\frac{u_{tt}}{2}\n",
      "\\big)\n",
      "+h^2\\big(\n",
      "- \\frac{Re^{2} p_{x} v^{2}}{6} + \\frac{Re^{2} u v^{2} v_{y}}{6} - \\frac{Re^{2} u_{t} v^{2}}{6} - \\frac{Re^{2} u_{y} v^{3}}{6} - \\frac{Re p_{tx}}{3} - \\frac{Re p_{xy} v}{6} + \\frac{Re p_{x} v_{y}}{6} + \\frac{Re u v v_{yy}}{6} + \\frac{Re u v_{ty}}{3} - \\frac{Re u v_{y}^{2}}{6} - \\frac{Re u_{tt}}{3} - \\frac{Re u_{ty} v}{2} + \\frac{Re u_{t} v_{y}}{2} + \\frac{Re u_{y} v v_{y}}{6} - \\frac{Re u_{y} v_{t}}{3} - \\frac{Re v^{2} v_{xy}}{6} - \\frac{p_{xyy}}{6} + \\frac{u v_{yyy}}{2} + \\frac{5 u_{y} v_{yy}}{6} + \\frac{v v_{xyy}}{6} + \\frac{5 v_{xy} v_{y}}{6} + \\frac{v_{x} v_{yy}}{3} - \\frac{2 v_{xyyy}}{3 Re}\n",
      "\\big)\n"
     ]
    },
    {
     "data": {
      "text/latex": [
       "$\\displaystyle 0$"
      ],
      "text/plain": [
       "0"
      ]
     },
     "metadata": {},
     "output_type": "display_data"
    },
    {
     "name": "stdout",
     "output_type": "stream",
     "text": [
      "tau =>\n"
     ]
    },
    {
     "data": {
      "text/latex": [
       "$\\displaystyle - \\frac{2 e^{- \\frac{2 t}{Re}} \\sin{\\left(y \\right)} \\cos{\\left(x \\right)}}{Re^{2}}$"
      ],
      "text/plain": [
       "-2*exp(-2*t/Re)*sin(y)*cos(x)/Re**2"
      ]
     },
     "metadata": {},
     "output_type": "display_data"
    },
    {
     "name": "stdout",
     "output_type": "stream",
     "text": [
      "h^2 =>\n"
     ]
    },
    {
     "data": {
      "text/latex": [
       "$\\displaystyle \\frac{2 e^{- \\frac{2 t}{Re}} \\sin{\\left(y \\right)} \\cos{\\left(x \\right)}}{3 Re}$"
      ],
      "text/plain": [
       "2*exp(-2*t/Re)*sin(y)*cos(x)/(3*Re)"
      ]
     },
     "metadata": {},
     "output_type": "display_data"
    },
    {
     "name": "stdout",
     "output_type": "stream",
     "text": [
      "0\n",
      "+\\tau\\big(\n",
      "- \\frac{2 e^{- \\frac{2 t}{Re}} \\sin{\\left(y \\right)} \\cos{\\left(x \\right)}}{Re^{2}}\n",
      "\\big)\n",
      "+h^2\\big(\n",
      "\\frac{2 e^{- \\frac{2 t}{Re}} \\sin{\\left(y \\right)} \\cos{\\left(x \\right)}}{3 Re}\n",
      "\\big)\n"
     ]
    },
    {
     "data": {
      "text/latex": [
       "$\\displaystyle 0$"
      ],
      "text/plain": [
       "0"
      ]
     },
     "metadata": {},
     "output_type": "display_data"
    },
    {
     "name": "stdout",
     "output_type": "stream",
     "text": [
      "tau =>\n"
     ]
    },
    {
     "data": {
      "text/latex": [
       "$\\displaystyle 0$"
      ],
      "text/plain": [
       "0"
      ]
     },
     "metadata": {},
     "output_type": "display_data"
    },
    {
     "name": "stdout",
     "output_type": "stream",
     "text": [
      "h^2 =>\n"
     ]
    },
    {
     "data": {
      "text/latex": [
       "$\\displaystyle \\frac{\\left(\\pi^{2} Re \\left(Re - \\sqrt{Re^{2} + 16 \\pi^{2}}\\right) e^{x \\left(\\frac{Re}{2} + 7 \\sqrt{Re^{2} + 16 \\pi^{2}}\\right)} \\cos{\\left(2 \\pi y \\right)} + Re \\left(Re^{3} - Re^{2} \\sqrt{Re^{2} + 16 \\pi^{2}} + 16 \\pi^{2} Re - 8 \\pi^{2} \\sqrt{Re^{2} + 16 \\pi^{2}}\\right) e^{x \\left(Re + \\frac{13 \\sqrt{Re^{2} + 16 \\pi^{2}}}{2}\\right)} \\cos{\\left(4 \\pi y \\right)} + 32 \\pi^{4} e^{\\frac{x \\left(Re + 14 \\sqrt{Re^{2} + 16 \\pi^{2}}\\right)}{2}} \\cos{\\left(2 \\pi y \\right)}\\right) e^{- \\frac{15 x \\sqrt{Re^{2} + 16 \\pi^{2}}}{2}}}{3 Re}$"
      ],
      "text/plain": [
       "(pi**2*Re*(Re - sqrt(Re**2 + 16*pi**2))*exp(x*(Re/2 + 7*sqrt(Re**2 + 16*pi**2)))*cos(2*pi*y) + Re*(Re**3 - Re**2*sqrt(Re**2 + 16*pi**2) + 16*pi**2*Re - 8*pi**2*sqrt(Re**2 + 16*pi**2))*exp(x*(Re + 13*sqrt(Re**2 + 16*pi**2)/2))*cos(4*pi*y) + 32*pi**4*exp(x*(Re + 14*sqrt(Re**2 + 16*pi**2))/2)*cos(2*pi*y))*exp(-15*x*sqrt(Re**2 + 16*pi**2)/2)/(3*Re)"
      ]
     },
     "metadata": {},
     "output_type": "display_data"
    },
    {
     "name": "stdout",
     "output_type": "stream",
     "text": [
      "0\n",
      "+\\tau\\big(\n",
      "0\n",
      "\\big)\n",
      "+h^2\\big(\n",
      "\\frac{\\left(\\pi^{2} Re \\left(Re - \\sqrt{Re^{2} + 16 \\pi^{2}}\\right) e^{x \\left(\\frac{Re}{2} + 7 \\sqrt{Re^{2} + 16 \\pi^{2}}\\right)} \\cos{\\left(2 \\pi y \\right)} + Re \\left(Re^{3} - Re^{2} \\sqrt{Re^{2} + 16 \\pi^{2}} + 16 \\pi^{2} Re - 8 \\pi^{2} \\sqrt{Re^{2} + 16 \\pi^{2}}\\right) e^{x \\left(Re + \\frac{13 \\sqrt{Re^{2} + 16 \\pi^{2}}}{2}\\right)} \\cos{\\left(4 \\pi y \\right)} + 32 \\pi^{4} e^{\\frac{x \\left(Re + 14 \\sqrt{Re^{2} + 16 \\pi^{2}}\\right)}{2}} \\cos{\\left(2 \\pi y \\right)}\\right) e^{- \\frac{15 x \\sqrt{Re^{2} + 16 \\pi^{2}}}{2}}}{3 Re}\n",
      "\\big)\n"
     ]
    },
    {
     "data": {
      "text/latex": [
       "$\\displaystyle p_{y} + u v_{x} + u_{x} v + 2 v v_{y} + v_{t} - \\frac{v_{xx}}{Re} - \\frac{v_{yy}}{Re}$"
      ],
      "text/plain": [
       "p_{y} + u*v_{x} + u_{x}*v + 2*v*v_{y} + v_{t} - v_{xx}/Re - v_{yy}/Re"
      ]
     },
     "metadata": {},
     "output_type": "display_data"
    },
    {
     "name": "stdout",
     "output_type": "stream",
     "text": [
      "tau =>\n"
     ]
    },
    {
     "data": {
      "text/latex": [
       "$\\displaystyle \\frac{v_{tt}}{2}$"
      ],
      "text/plain": [
       "v_{tt}/2"
      ]
     },
     "metadata": {},
     "output_type": "display_data"
    },
    {
     "name": "stdout",
     "output_type": "stream",
     "text": [
      "h^2 =>\n"
     ]
    },
    {
     "data": {
      "text/latex": [
       "$\\displaystyle \\frac{p_{yyy}}{6} + \\frac{u v_{xxx}}{6} + \\frac{u_{xxx} v}{6} + \\frac{u_{xx} v_{x}}{2} + \\frac{u_{x} v_{xx}}{2} + \\frac{v v_{yyy}}{3} + v_{yy} v_{y} - \\frac{v_{xxxx}}{3 Re} - \\frac{v_{yyyy}}{3 Re}$"
      ],
      "text/plain": [
       "p_{yyy}/6 + u*v_{xxx}/6 + u_{xxx}*v/6 + u_{xx}*v_{x}/2 + u_{x}*v_{xx}/2 + v*v_{yyy}/3 + v_{yy}*v_{y} - v_{xxxx}/(3*Re) - v_{yyyy}/(3*Re)"
      ]
     },
     "metadata": {},
     "output_type": "display_data"
    },
    {
     "name": "stdout",
     "output_type": "stream",
     "text": [
      "-------------------------\n"
     ]
    },
    {
     "data": {
      "text/latex": [
       "$\\displaystyle p_{y} + u v_{x} + u_{x} v + 2 v v_{y} + v_{t} - \\frac{v_{xx}}{Re} - \\frac{v_{yy}}{Re}$"
      ],
      "text/plain": [
       "p_{y} + u*v_{x} + u_{x}*v + 2*v*v_{y} + v_{t} - v_{xx}/Re - v_{yy}/Re"
      ]
     },
     "metadata": {},
     "output_type": "display_data"
    },
    {
     "name": "stdout",
     "output_type": "stream",
     "text": [
      "tau =>\n"
     ]
    },
    {
     "data": {
      "text/latex": [
       "$\\displaystyle \\frac{v_{tt}}{2}$"
      ],
      "text/plain": [
       "v_{tt}/2"
      ]
     },
     "metadata": {},
     "output_type": "display_data"
    },
    {
     "name": "stdout",
     "output_type": "stream",
     "text": [
      "h^2 =>\n"
     ]
    },
    {
     "data": {
      "text/latex": [
       "$\\displaystyle - \\frac{Re^{2} p_{y} u^{2}}{6} - \\frac{Re^{2} u^{3} v_{x}}{6} - \\frac{Re^{2} u^{2} v v_{y}}{6} - \\frac{Re^{2} u^{2} v_{t}}{6} - \\frac{Re p_{ty}}{3} - \\frac{Re p_{xy} u}{6} + Re p_{x} v_{x} - \\frac{Re p_{yy} v}{2} - \\frac{Re p_{y} v_{y}}{6} + \\frac{Re u^{2} v_{yy}}{6} - \\frac{2 Re u v v_{xy}}{3} - \\frac{Re u v_{tx}}{2} - \\frac{7 Re u v_{x} v_{y}}{6} + \\frac{2 Re u_{t} v_{x}}{3} + \\frac{Re u_{y} v v_{x}}{2} - \\frac{Re v^{2} v_{yy}}{2} - \\frac{5 Re v v_{ty}}{6} - \\frac{2 Re v v_{y}^{2}}{3} - \\frac{Re v_{tt}}{3} - \\frac{Re v_{t} v_{y}}{2} + \\frac{5 p_{yyy}}{6} + \\frac{u v_{xyy}}{2} + \\frac{4 u_{y} v_{xy}}{3} + \\frac{7 v v_{yyy}}{6} + \\frac{2 v_{tyy}}{3} + \\frac{v_{xy} v_{x}}{6} + \\frac{7 v_{yy} v_{y}}{2} - \\frac{2 v_{yyyy}}{3 Re}$"
      ],
      "text/plain": [
       "-Re**2*p_{y}*u**2/6 - Re**2*u**3*v_{x}/6 - Re**2*u**2*v*v_{y}/6 - Re**2*u**2*v_{t}/6 - Re*p_{ty}/3 - Re*p_{xy}*u/6 + Re*p_{x}*v_{x} - Re*p_{yy}*v/2 - Re*p_{y}*v_{y}/6 + Re*u**2*v_{yy}/6 - 2*Re*u*v*v_{xy}/3 - Re*u*v_{tx}/2 - 7*Re*u*v_{x}*v_{y}/6 + 2*Re*u_{t}*v_{x}/3 + Re*u_{y}*v*v_{x}/2 - Re*v**2*v_{yy}/2 - 5*Re*v*v_{ty}/6 - 2*Re*v*v_{y}**2/3 - Re*v_{tt}/3 - Re*v_{t}*v_{y}/2 + 5*p_{yyy}/6 + u*v_{xyy}/2 + 4*u_{y}*v_{xy}/3 + 7*v*v_{yyy}/6 + 2*v_{tyy}/3 + v_{xy}*v_{x}/6 + 7*v_{yy}*v_{y}/2 - 2*v_{yyyy}/(3*Re)"
      ]
     },
     "metadata": {},
     "output_type": "display_data"
    },
    {
     "name": "stdout",
     "output_type": "stream",
     "text": [
      "p_{y} + u v_{x} + u_{x} v + 2 v v_{y} + v_{t} - \\frac{v_{xx}}{Re} - \\frac{v_{yy}}{Re}\n",
      "+\\tau\\big(\n",
      "\\frac{v_{tt}}{2}\n",
      "\\big)\n",
      "+h^2\\big(\n",
      "- \\frac{Re^{2} p_{y} u^{2}}{6} - \\frac{Re^{2} u^{3} v_{x}}{6} - \\frac{Re^{2} u^{2} v v_{y}}{6} - \\frac{Re^{2} u^{2} v_{t}}{6} - \\frac{Re p_{ty}}{3} - \\frac{Re p_{xy} u}{6} + Re p_{x} v_{x} - \\frac{Re p_{yy} v}{2} - \\frac{Re p_{y} v_{y}}{6} + \\frac{Re u^{2} v_{yy}}{6} - \\frac{2 Re u v v_{xy}}{3} - \\frac{Re u v_{tx}}{2} - \\frac{7 Re u v_{x} v_{y}}{6} + \\frac{2 Re u_{t} v_{x}}{3} + \\frac{Re u_{y} v v_{x}}{2} - \\frac{Re v^{2} v_{yy}}{2} - \\frac{5 Re v v_{ty}}{6} - \\frac{2 Re v v_{y}^{2}}{3} - \\frac{Re v_{tt}}{3} - \\frac{Re v_{t} v_{y}}{2} + \\frac{5 p_{yyy}}{6} + \\frac{u v_{xyy}}{2} + \\frac{4 u_{y} v_{xy}}{3} + \\frac{7 v v_{yyy}}{6} + \\frac{2 v_{tyy}}{3} + \\frac{v_{xy} v_{x}}{6} + \\frac{7 v_{yy} v_{y}}{2} - \\frac{2 v_{yyyy}}{3 Re}\n",
      "\\big)\n"
     ]
    },
    {
     "data": {
      "text/latex": [
       "$\\displaystyle 0$"
      ],
      "text/plain": [
       "0"
      ]
     },
     "metadata": {},
     "output_type": "display_data"
    },
    {
     "name": "stdout",
     "output_type": "stream",
     "text": [
      "tau =>\n"
     ]
    },
    {
     "data": {
      "text/latex": [
       "$\\displaystyle \\frac{2 e^{- \\frac{2 t}{Re}} \\sin{\\left(x \\right)} \\cos{\\left(y \\right)}}{Re^{2}}$"
      ],
      "text/plain": [
       "2*exp(-2*t/Re)*sin(x)*cos(y)/Re**2"
      ]
     },
     "metadata": {},
     "output_type": "display_data"
    },
    {
     "name": "stdout",
     "output_type": "stream",
     "text": [
      "h^2 =>\n"
     ]
    },
    {
     "data": {
      "text/latex": [
       "$\\displaystyle - \\frac{2 e^{- \\frac{2 t}{Re}} \\sin{\\left(x \\right)} \\cos{\\left(y \\right)}}{3 Re}$"
      ],
      "text/plain": [
       "-2*exp(-2*t/Re)*sin(x)*cos(y)/(3*Re)"
      ]
     },
     "metadata": {},
     "output_type": "display_data"
    },
    {
     "name": "stdout",
     "output_type": "stream",
     "text": [
      "0\n",
      "+\\tau\\big(\n",
      "\\frac{2 e^{- \\frac{2 t}{Re}} \\sin{\\left(x \\right)} \\cos{\\left(y \\right)}}{Re^{2}}\n",
      "\\big)\n",
      "+h^2\\big(\n",
      "- \\frac{2 e^{- \\frac{2 t}{Re}} \\sin{\\left(x \\right)} \\cos{\\left(y \\right)}}{3 Re}\n",
      "\\big)\n"
     ]
    },
    {
     "data": {
      "text/latex": [
       "$\\displaystyle 0$"
      ],
      "text/plain": [
       "0"
      ]
     },
     "metadata": {},
     "output_type": "display_data"
    },
    {
     "name": "stdout",
     "output_type": "stream",
     "text": [
      "tau =>\n"
     ]
    },
    {
     "data": {
      "text/latex": [
       "$\\displaystyle 0$"
      ],
      "text/plain": [
       "0"
      ]
     },
     "metadata": {},
     "output_type": "display_data"
    },
    {
     "name": "stdout",
     "output_type": "stream",
     "text": [
      "h^2 =>\n"
     ]
    },
    {
     "data": {
      "text/latex": [
       "$\\displaystyle \\frac{\\left(Re^{4} \\left(- Re + \\sqrt{Re^{2} + 16 \\pi^{2}}\\right) e^{x \\left(\\frac{Re}{2} + 6 \\sqrt{Re^{2} + 16 \\pi^{2}}\\right)} + 8 Re^{4} \\left(- Re + \\sqrt{Re^{2} + 16 \\pi^{2}}\\right) e^{x \\left(Re + \\frac{11 \\sqrt{Re^{2} + 16 \\pi^{2}}}{2}\\right)} \\cos{\\left(2 \\pi y \\right)} + 32 \\pi^{2} Re \\left(- 5 Re^{2} + 3 Re \\sqrt{Re^{2} + 16 \\pi^{2}} - 16 \\pi^{2}\\right) e^{x \\left(Re + \\frac{11 \\sqrt{Re^{2} + 16 \\pi^{2}}}{2}\\right)} \\cos{\\left(2 \\pi y \\right)} + 8 \\pi^{2} Re \\left(- 3 Re^{2} + 2 Re \\sqrt{Re^{2} + 16 \\pi^{2}} - 20 \\pi^{2}\\right) e^{x \\left(\\frac{Re}{2} + 6 \\sqrt{Re^{2} + 16 \\pi^{2}}\\right)} + 64 \\pi^{4} \\sqrt{Re^{2} + 16 \\pi^{2}} e^{\\frac{x \\left(Re + 12 \\sqrt{Re^{2} + 16 \\pi^{2}}\\right)}{2}}\\right) e^{- \\frac{13 x \\sqrt{Re^{2} + 16 \\pi^{2}}}{2}} \\sin{\\left(2 \\pi y \\right)}}{24 \\pi Re}$"
      ],
      "text/plain": [
       "(Re**4*(-Re + sqrt(Re**2 + 16*pi**2))*exp(x*(Re/2 + 6*sqrt(Re**2 + 16*pi**2))) + 8*Re**4*(-Re + sqrt(Re**2 + 16*pi**2))*exp(x*(Re + 11*sqrt(Re**2 + 16*pi**2)/2))*cos(2*pi*y) + 32*pi**2*Re*(-5*Re**2 + 3*Re*sqrt(Re**2 + 16*pi**2) - 16*pi**2)*exp(x*(Re + 11*sqrt(Re**2 + 16*pi**2)/2))*cos(2*pi*y) + 8*pi**2*Re*(-3*Re**2 + 2*Re*sqrt(Re**2 + 16*pi**2) - 20*pi**2)*exp(x*(Re/2 + 6*sqrt(Re**2 + 16*pi**2))) + 64*pi**4*sqrt(Re**2 + 16*pi**2)*exp(x*(Re + 12*sqrt(Re**2 + 16*pi**2))/2))*exp(-13*x*sqrt(Re**2 + 16*pi**2)/2)*sin(2*pi*y)/(24*pi*Re)"
      ]
     },
     "metadata": {},
     "output_type": "display_data"
    },
    {
     "name": "stdout",
     "output_type": "stream",
     "text": [
      "0\n",
      "+\\tau\\big(\n",
      "0\n",
      "\\big)\n",
      "+h^2\\big(\n",
      "\\frac{\\left(Re^{4} \\left(- Re + \\sqrt{Re^{2} + 16 \\pi^{2}}\\right) e^{x \\left(\\frac{Re}{2} + 6 \\sqrt{Re^{2} + 16 \\pi^{2}}\\right)} + 8 Re^{4} \\left(- Re + \\sqrt{Re^{2} + 16 \\pi^{2}}\\right) e^{x \\left(Re + \\frac{11 \\sqrt{Re^{2} + 16 \\pi^{2}}}{2}\\right)} \\cos{\\left(2 \\pi y \\right)} + 32 \\pi^{2} Re \\left(- 5 Re^{2} + 3 Re \\sqrt{Re^{2} + 16 \\pi^{2}} - 16 \\pi^{2}\\right) e^{x \\left(Re + \\frac{11 \\sqrt{Re^{2} + 16 \\pi^{2}}}{2}\\right)} \\cos{\\left(2 \\pi y \\right)} + 8 \\pi^{2} Re \\left(- 3 Re^{2} + 2 Re \\sqrt{Re^{2} + 16 \\pi^{2}} - 20 \\pi^{2}\\right) e^{x \\left(\\frac{Re}{2} + 6 \\sqrt{Re^{2} + 16 \\pi^{2}}\\right)} + 64 \\pi^{4} \\sqrt{Re^{2} + 16 \\pi^{2}} e^{\\frac{x \\left(Re + 12 \\sqrt{Re^{2} + 16 \\pi^{2}}\\right)}{2}}\\right) e^{- \\frac{13 x \\sqrt{Re^{2} + 16 \\pi^{2}}}{2}} \\sin{\\left(2 \\pi y \\right)}}{24 \\pi Re}\n",
      "\\big)\n"
     ]
    },
    {
     "data": {
      "text/latex": [
       "$\\displaystyle p_{xx} + p_{yy} + 2 u u_{xx} + 2 u v_{xy} + 2 u_{xy} v + 2 u_{x}^{2} + 2 u_{x} v_{y} + 2 u_{y} v_{x} + 2 v v_{yy} + 2 v_{y}^{2}$"
      ],
      "text/plain": [
       "p_{xx} + p_{yy} + 2*u*u_{xx} + 2*u*v_{xy} + 2*u_{xy}*v + 2*u_{x}**2 + 2*u_{x}*v_{y} + 2*u_{y}*v_{x} + 2*v*v_{yy} + 2*v_{y}**2"
      ]
     },
     "metadata": {},
     "output_type": "display_data"
    },
    {
     "name": "stdout",
     "output_type": "stream",
     "text": [
      "tau =>\n"
     ]
    },
    {
     "data": {
      "text/latex": [
       "$\\displaystyle 0$"
      ],
      "text/plain": [
       "0"
      ]
     },
     "metadata": {},
     "output_type": "display_data"
    },
    {
     "name": "stdout",
     "output_type": "stream",
     "text": [
      "h^2 =>\n"
     ]
    },
    {
     "data": {
      "text/latex": [
       "$\\displaystyle \\frac{p_{xxxx}}{3} + \\frac{p_{yyyy}}{3} + \\frac{2 u u_{xxxx}}{3} + \\frac{u v_{xxxy}}{3} + \\frac{u v_{xyyy}}{3} + \\frac{u_{xxxy} v}{3} + \\frac{8 u_{xxx} u_{x}}{3} + \\frac{u_{xxx} v_{y}}{3} + u_{xxy} v_{x} + 2 u_{xx}^{2} + u_{xx} v_{xy} + \\frac{u_{xyyy} v}{3} + u_{xyy} v_{y} + u_{xy} v_{xx} + u_{xy} v_{yy} + u_{x} v_{xxy} + \\frac{u_{x} v_{yyy}}{3} + \\frac{u_{yyy} v_{x}}{3} + u_{yy} v_{xy} + \\frac{u_{y} v_{xxx}}{3} + u_{y} v_{xyy} + \\frac{2 v v_{yyyy}}{3} + \\frac{8 v_{yyy} v_{y}}{3} + 2 v_{yy}^{2}$"
      ],
      "text/plain": [
       "p_{xxxx}/3 + p_{yyyy}/3 + 2*u*u_{xxxx}/3 + u*v_{xxxy}/3 + u*v_{xyyy}/3 + u_{xxxy}*v/3 + 8*u_{xxx}*u_{x}/3 + u_{xxx}*v_{y}/3 + u_{xxy}*v_{x} + 2*u_{xx}**2 + u_{xx}*v_{xy} + u_{xyyy}*v/3 + u_{xyy}*v_{y} + u_{xy}*v_{xx} + u_{xy}*v_{yy} + u_{x}*v_{xxy} + u_{x}*v_{yyy}/3 + u_{yyy}*v_{x}/3 + u_{yy}*v_{xy} + u_{y}*v_{xxx}/3 + u_{y}*v_{xyy} + 2*v*v_{yyyy}/3 + 8*v_{yyy}*v_{y}/3 + 2*v_{yy}**2"
      ]
     },
     "metadata": {},
     "output_type": "display_data"
    },
    {
     "name": "stdout",
     "output_type": "stream",
     "text": [
      "-------------------------\n"
     ]
    },
    {
     "data": {
      "text/latex": [
       "$\\displaystyle p_{xx} + p_{yy} + 2 u u_{xx} + 2 u v_{xy} + 2 u_{xy} v + 2 u_{x}^{2} + 2 u_{x} v_{y} + 2 u_{y} v_{x} + 2 v v_{yy} + 2 v_{y}^{2}$"
      ],
      "text/plain": [
       "p_{xx} + p_{yy} + 2*u*u_{xx} + 2*u*v_{xy} + 2*u_{xy}*v + 2*u_{x}**2 + 2*u_{x}*v_{y} + 2*u_{y}*v_{x} + 2*v*v_{yy} + 2*v_{y}**2"
      ]
     },
     "metadata": {},
     "output_type": "display_data"
    },
    {
     "name": "stdout",
     "output_type": "stream",
     "text": [
      "tau =>\n"
     ]
    },
    {
     "data": {
      "text/latex": [
       "$\\displaystyle 0$"
      ],
      "text/plain": [
       "0"
      ]
     },
     "metadata": {},
     "output_type": "display_data"
    },
    {
     "name": "stdout",
     "output_type": "stream",
     "text": [
      "h^2 =>\n"
     ]
    },
    {
     "data": {
      "text/latex": [
       "$\\displaystyle \\frac{2 Re^{2} p_{x} v v_{x}}{3} - \\frac{Re^{2} p_{yy} u^{2}}{3} - \\frac{2 Re^{2} p_{y} u u_{y}}{3} - \\frac{Re^{2} u^{3} v_{xy}}{3} - Re^{2} u^{2} u_{y} v_{x} - \\frac{Re^{2} u^{2} v v_{yy}}{3} - \\frac{Re^{2} u^{2} v_{ty}}{3} - \\frac{Re^{2} u^{2} v_{y}^{2}}{3} - \\frac{2 Re^{2} u u_{y} v v_{y}}{3} - \\frac{2 Re^{2} u u_{y} v_{t}}{3} - \\frac{2 Re^{2} u v v_{x} v_{y}}{3} + \\frac{2 Re^{2} u_{t} v v_{x}}{3} + \\frac{2 Re^{2} u_{y} v^{2} v_{x}}{3} - \\frac{Re p_{xyy} u}{3} - \\frac{Re p_{xy} u_{y}}{3} + Re p_{xy} v_{x} + \\frac{7 Re p_{x} v_{xy}}{3} - \\frac{Re p_{yyy} v}{3} + \\frac{Re p_{y} v_{yy}}{3} + \\frac{Re u^{2} v_{yyy}}{3} + \\frac{2 Re u u_{y} v_{yy}}{3} - \\frac{2 Re u v v_{xyy}}{3} - \\frac{Re u v_{txy}}{3} - \\frac{8 Re u v_{xy} v_{y}}{3} - \\frac{2 Re u v_{x} v_{yy}}{3} + Re u_{ty} v_{x} + \\frac{7 Re u_{t} v_{xy}}{3} + \\frac{4 Re u_{y} v v_{xy}}{3} - \\frac{Re u_{y} v_{tx}}{3} - \\frac{Re v^{2} v_{yyy}}{3} - \\frac{Re v v_{tyy}}{3} + \\frac{2 Re v v_{xy} v_{x}}{3} - \\frac{2 Re v v_{yy} v_{y}}{3} + \\frac{Re v_{t} v_{yy}}{3} + \\frac{2 p_{yyyy}}{3} + \\frac{2 u v_{xyyy}}{3} + 2 u_{y} v_{xyy} + \\frac{2 v v_{yyyy}}{3} + \\frac{2 v_{xyy} v_{x}}{3} + 2 v_{xy}^{2} + \\frac{8 v_{yyy} v_{y}}{3} + 2 v_{yy}^{2}$"
      ],
      "text/plain": [
       "2*Re**2*p_{x}*v*v_{x}/3 - Re**2*p_{yy}*u**2/3 - 2*Re**2*p_{y}*u*u_{y}/3 - Re**2*u**3*v_{xy}/3 - Re**2*u**2*u_{y}*v_{x} - Re**2*u**2*v*v_{yy}/3 - Re**2*u**2*v_{ty}/3 - Re**2*u**2*v_{y}**2/3 - 2*Re**2*u*u_{y}*v*v_{y}/3 - 2*Re**2*u*u_{y}*v_{t}/3 - 2*Re**2*u*v*v_{x}*v_{y}/3 + 2*Re**2*u_{t}*v*v_{x}/3 + 2*Re**2*u_{y}*v**2*v_{x}/3 - Re*p_{xyy}*u/3 - Re*p_{xy}*u_{y}/3 + Re*p_{xy}*v_{x} + 7*Re*p_{x}*v_{xy}/3 - Re*p_{yyy}*v/3 + Re*p_{y}*v_{yy}/3 + Re*u**2*v_{yyy}/3 + 2*Re*u*u_{y}*v_{yy}/3 - 2*Re*u*v*v_{xyy}/3 - Re*u*v_{txy}/3 - 8*Re*u*v_{xy}*v_{y}/3 - 2*Re*u*v_{x}*v_{yy}/3 + Re*u_{ty}*v_{x} + 7*Re*u_{t}*v_{xy}/3 + 4*Re*u_{y}*v*v_{xy}/3 - Re*u_{y}*v_{tx}/3 - Re*v**2*v_{yyy}/3 - Re*v*v_{tyy}/3 + 2*Re*v*v_{xy}*v_{x}/3 - 2*Re*v*v_{yy}*v_{y}/3 + Re*v_{t}*v_{yy}/3 + 2*p_{yyyy}/3 + 2*u*v_{xyyy}/3 + 2*u_{y}*v_{xyy} + 2*v*v_{yyyy}/3 + 2*v_{xyy}*v_{x}/3 + 2*v_{xy}**2 + 8*v_{yyy}*v_{y}/3 + 2*v_{yy}**2"
      ]
     },
     "metadata": {},
     "output_type": "display_data"
    },
    {
     "name": "stdout",
     "output_type": "stream",
     "text": [
      "p_{xx} + p_{yy} + 2 u u_{xx} + 2 u v_{xy} + 2 u_{xy} v + 2 u_{x}^{2} + 2 u_{x} v_{y} + 2 u_{y} v_{x} + 2 v v_{yy} + 2 v_{y}^{2}\n",
      "+\\tau\\big(\n",
      "0\n",
      "\\big)\n",
      "+h^2\\big(\n",
      "\\frac{2 Re^{2} p_{x} v v_{x}}{3} - \\frac{Re^{2} p_{yy} u^{2}}{3} - \\frac{2 Re^{2} p_{y} u u_{y}}{3} - \\frac{Re^{2} u^{3} v_{xy}}{3} - Re^{2} u^{2} u_{y} v_{x} - \\frac{Re^{2} u^{2} v v_{yy}}{3} - \\frac{Re^{2} u^{2} v_{ty}}{3} - \\frac{Re^{2} u^{2} v_{y}^{2}}{3} - \\frac{2 Re^{2} u u_{y} v v_{y}}{3} - \\frac{2 Re^{2} u u_{y} v_{t}}{3} - \\frac{2 Re^{2} u v v_{x} v_{y}}{3} + \\frac{2 Re^{2} u_{t} v v_{x}}{3} + \\frac{2 Re^{2} u_{y} v^{2} v_{x}}{3} - \\frac{Re p_{xyy} u}{3} - \\frac{Re p_{xy} u_{y}}{3} + Re p_{xy} v_{x} + \\frac{7 Re p_{x} v_{xy}}{3} - \\frac{Re p_{yyy} v}{3} + \\frac{Re p_{y} v_{yy}}{3} + \\frac{Re u^{2} v_{yyy}}{3} + \\frac{2 Re u u_{y} v_{yy}}{3} - \\frac{2 Re u v v_{xyy}}{3} - \\frac{Re u v_{txy}}{3} - \\frac{8 Re u v_{xy} v_{y}}{3} - \\frac{2 Re u v_{x} v_{yy}}{3} + Re u_{ty} v_{x} + \\frac{7 Re u_{t} v_{xy}}{3} + \\frac{4 Re u_{y} v v_{xy}}{3} - \\frac{Re u_{y} v_{tx}}{3} - \\frac{Re v^{2} v_{yyy}}{3} - \\frac{Re v v_{tyy}}{3} + \\frac{2 Re v v_{xy} v_{x}}{3} - \\frac{2 Re v v_{yy} v_{y}}{3} + \\frac{Re v_{t} v_{yy}}{3} + \\frac{2 p_{yyyy}}{3} + \\frac{2 u v_{xyyy}}{3} + 2 u_{y} v_{xyy} + \\frac{2 v v_{yyyy}}{3} + \\frac{2 v_{xyy} v_{x}}{3} + 2 v_{xy}^{2} + \\frac{8 v_{yyy} v_{y}}{3} + 2 v_{yy}^{2}\n",
      "\\big)\n"
     ]
    },
    {
     "data": {
      "text/latex": [
       "$\\displaystyle 0$"
      ],
      "text/plain": [
       "0"
      ]
     },
     "metadata": {},
     "output_type": "display_data"
    },
    {
     "name": "stdout",
     "output_type": "stream",
     "text": [
      "tau =>\n"
     ]
    },
    {
     "data": {
      "text/latex": [
       "$\\displaystyle 0$"
      ],
      "text/plain": [
       "0"
      ]
     },
     "metadata": {},
     "output_type": "display_data"
    },
    {
     "name": "stdout",
     "output_type": "stream",
     "text": [
      "h^2 =>\n"
     ]
    },
    {
     "data": {
      "text/latex": [
       "$\\displaystyle 0$"
      ],
      "text/plain": [
       "0"
      ]
     },
     "metadata": {},
     "output_type": "display_data"
    },
    {
     "name": "stdout",
     "output_type": "stream",
     "text": [
      "0\n",
      "+\\tau\\big(\n",
      "0\n",
      "\\big)\n",
      "+h^2\\big(\n",
      "0\n",
      "\\big)\n"
     ]
    },
    {
     "data": {
      "text/latex": [
       "$\\displaystyle 0$"
      ],
      "text/plain": [
       "0"
      ]
     },
     "metadata": {},
     "output_type": "display_data"
    },
    {
     "name": "stdout",
     "output_type": "stream",
     "text": [
      "tau =>\n"
     ]
    },
    {
     "data": {
      "text/latex": [
       "$\\displaystyle 0$"
      ],
      "text/plain": [
       "0"
      ]
     },
     "metadata": {},
     "output_type": "display_data"
    },
    {
     "name": "stdout",
     "output_type": "stream",
     "text": [
      "h^2 =>\n"
     ]
    },
    {
     "data": {
      "text/latex": [
       "$\\displaystyle \\frac{\\left(- Re^{4} + Re^{3} \\sqrt{Re^{2} + 16 \\pi^{2}} - 20 \\pi^{2} Re^{2} + 12 \\pi^{2} Re \\sqrt{Re^{2} + 16 \\pi^{2}} - 64 \\pi^{4}\\right) e^{\\frac{x \\left(Re - \\sqrt{Re^{2} + 16 \\pi^{2}}\\right)}{2}} \\cos{\\left(2 \\pi y \\right)}}{6}$"
      ],
      "text/plain": [
       "(-Re**4 + Re**3*sqrt(Re**2 + 16*pi**2) - 20*pi**2*Re**2 + 12*pi**2*Re*sqrt(Re**2 + 16*pi**2) - 64*pi**4)*exp(x*(Re - sqrt(Re**2 + 16*pi**2))/2)*cos(2*pi*y)/6"
      ]
     },
     "metadata": {},
     "output_type": "display_data"
    },
    {
     "name": "stdout",
     "output_type": "stream",
     "text": [
      "0\n",
      "+\\tau\\big(\n",
      "0\n",
      "\\big)\n",
      "+h^2\\big(\n",
      "\\frac{\\left(- Re^{4} + Re^{3} \\sqrt{Re^{2} + 16 \\pi^{2}} - 20 \\pi^{2} Re^{2} + 12 \\pi^{2} Re \\sqrt{Re^{2} + 16 \\pi^{2}} - 64 \\pi^{4}\\right) e^{\\frac{x \\left(Re - \\sqrt{Re^{2} + 16 \\pi^{2}}\\right)}{2}} \\cos{\\left(2 \\pi y \\right)}}{6}\n",
      "\\big)\n"
     ]
    },
    {
     "data": {
      "text/latex": [
       "$\\displaystyle 0$"
      ],
      "text/plain": [
       "0"
      ]
     },
     "metadata": {},
     "output_type": "display_data"
    },
    {
     "name": "stdout",
     "output_type": "stream",
     "text": [
      "tau =>\n"
     ]
    },
    {
     "data": {
      "text/latex": [
       "$\\displaystyle 0$"
      ],
      "text/plain": [
       "0"
      ]
     },
     "metadata": {},
     "output_type": "display_data"
    },
    {
     "name": "stdout",
     "output_type": "stream",
     "text": [
      "h^2 =>\n"
     ]
    },
    {
     "data": {
      "text/latex": [
       "$\\displaystyle 0$"
      ],
      "text/plain": [
       "0"
      ]
     },
     "metadata": {},
     "output_type": "display_data"
    },
    {
     "name": "stdout",
     "output_type": "stream",
     "text": [
      "0\n",
      "+\\tau\\big(\n",
      "0\n",
      "\\big)\n",
      "+h^2\\big(\n",
      "0\n",
      "\\big)\n"
     ]
    }
   ],
   "source": [
    "F1 = clip(Dx(u) + Dy(v))\n",
    "F2 = clip(Dt(u) + Dx(u**2) + Dy(v*u) + Dx(p) - DD2(u)/Re)\n",
    "F3 = clip(Dt(v) + Dx(u*v) + Dy(v**2) + Dy(p) - DD2(v)/Re)\n",
    "F4 = clip(Dx(Dx(u**2) + Dy(v*u) + Dx(p)) + Dy(Dx(u*v) + Dy(v**2) + Dy(p)))\n",
    "\n",
    "build(F1, F2, F3, F4)"
   ]
  },
  {
   "cell_type": "code",
   "execution_count": 30,
   "metadata": {},
   "outputs": [
    {
     "data": {
      "text/latex": [
       "$\\displaystyle u_{x} + v_{y}$"
      ],
      "text/plain": [
       "u_{x} + v_{y}"
      ]
     },
     "metadata": {},
     "output_type": "display_data"
    },
    {
     "name": "stdout",
     "output_type": "stream",
     "text": [
      "tau =>\n"
     ]
    },
    {
     "data": {
      "text/latex": [
       "$\\displaystyle 0$"
      ],
      "text/plain": [
       "0"
      ]
     },
     "metadata": {},
     "output_type": "display_data"
    },
    {
     "name": "stdout",
     "output_type": "stream",
     "text": [
      "h^2 =>\n"
     ]
    },
    {
     "data": {
      "text/latex": [
       "$\\displaystyle \\frac{u_{xxx}}{6} + \\frac{v_{yyy}}{6}$"
      ],
      "text/plain": [
       "u_{xxx}/6 + v_{yyy}/6"
      ]
     },
     "metadata": {},
     "output_type": "display_data"
    },
    {
     "name": "stdout",
     "output_type": "stream",
     "text": [
      "-------------------------\n"
     ]
    },
    {
     "data": {
      "text/latex": [
       "$\\displaystyle u_{x} + v_{y}$"
      ],
      "text/plain": [
       "u_{x} + v_{y}"
      ]
     },
     "metadata": {},
     "output_type": "display_data"
    },
    {
     "name": "stdout",
     "output_type": "stream",
     "text": [
      "tau =>\n"
     ]
    },
    {
     "data": {
      "text/latex": [
       "$\\displaystyle 0$"
      ],
      "text/plain": [
       "0"
      ]
     },
     "metadata": {},
     "output_type": "display_data"
    },
    {
     "name": "stdout",
     "output_type": "stream",
     "text": [
      "h^2 =>\n"
     ]
    },
    {
     "data": {
      "text/latex": [
       "$\\displaystyle - \\frac{Re p_{yy}}{6} - \\frac{Re u v_{xy}}{6} - \\frac{Re u_{y} v_{x}}{6} - \\frac{Re v v_{yy}}{6} - \\frac{Re v_{ty}}{6} - \\frac{Re v_{y}^{2}}{6} + \\frac{v_{yyy}}{3}$"
      ],
      "text/plain": [
       "-Re*p_{yy}/6 - Re*u*v_{xy}/6 - Re*u_{y}*v_{x}/6 - Re*v*v_{yy}/6 - Re*v_{ty}/6 - Re*v_{y}**2/6 + v_{yyy}/3"
      ]
     },
     "metadata": {},
     "output_type": "display_data"
    },
    {
     "name": "stdout",
     "output_type": "stream",
     "text": [
      "u_{x} + v_{y}\n",
      "+\\tau\\big(\n",
      "0\n",
      "\\big)\n",
      "+h^2\\big(\n",
      "- \\frac{Re p_{yy}}{6} - \\frac{Re u v_{xy}}{6} - \\frac{Re u_{y} v_{x}}{6} - \\frac{Re v v_{yy}}{6} - \\frac{Re v_{ty}}{6} - \\frac{Re v_{y}^{2}}{6} + \\frac{v_{yyy}}{3}\n",
      "\\big)\n"
     ]
    },
    {
     "data": {
      "text/latex": [
       "$\\displaystyle 0$"
      ],
      "text/plain": [
       "0"
      ]
     },
     "metadata": {},
     "output_type": "display_data"
    },
    {
     "name": "stdout",
     "output_type": "stream",
     "text": [
      "tau =>\n"
     ]
    },
    {
     "data": {
      "text/latex": [
       "$\\displaystyle 0$"
      ],
      "text/plain": [
       "0"
      ]
     },
     "metadata": {},
     "output_type": "display_data"
    },
    {
     "name": "stdout",
     "output_type": "stream",
     "text": [
      "h^2 =>\n"
     ]
    },
    {
     "data": {
      "text/latex": [
       "$\\displaystyle 0$"
      ],
      "text/plain": [
       "0"
      ]
     },
     "metadata": {},
     "output_type": "display_data"
    },
    {
     "name": "stdout",
     "output_type": "stream",
     "text": [
      "0\n",
      "+\\tau\\big(\n",
      "0\n",
      "\\big)\n",
      "+h^2\\big(\n",
      "0\n",
      "\\big)\n"
     ]
    },
    {
     "data": {
      "text/latex": [
       "$\\displaystyle 0$"
      ],
      "text/plain": [
       "0"
      ]
     },
     "metadata": {},
     "output_type": "display_data"
    },
    {
     "name": "stdout",
     "output_type": "stream",
     "text": [
      "tau =>\n"
     ]
    },
    {
     "data": {
      "text/latex": [
       "$\\displaystyle 0$"
      ],
      "text/plain": [
       "0"
      ]
     },
     "metadata": {},
     "output_type": "display_data"
    },
    {
     "name": "stdout",
     "output_type": "stream",
     "text": [
      "h^2 =>\n"
     ]
    },
    {
     "data": {
      "text/latex": [
       "$\\displaystyle \\frac{\\left(- Re^{3} + Re^{2} \\sqrt{Re^{2} + 16 \\pi^{2}} - 16 \\pi^{2} Re + 8 \\pi^{2} \\sqrt{Re^{2} + 16 \\pi^{2}}\\right) e^{\\frac{x \\left(Re - \\sqrt{Re^{2} + 16 \\pi^{2}}\\right)}{2}} \\cos{\\left(2 \\pi y \\right)}}{12}$"
      ],
      "text/plain": [
       "(-Re**3 + Re**2*sqrt(Re**2 + 16*pi**2) - 16*pi**2*Re + 8*pi**2*sqrt(Re**2 + 16*pi**2))*exp(x*(Re - sqrt(Re**2 + 16*pi**2))/2)*cos(2*pi*y)/12"
      ]
     },
     "metadata": {},
     "output_type": "display_data"
    },
    {
     "name": "stdout",
     "output_type": "stream",
     "text": [
      "0\n",
      "+\\tau\\big(\n",
      "0\n",
      "\\big)\n",
      "+h^2\\big(\n",
      "\\frac{\\left(- Re^{3} + Re^{2} \\sqrt{Re^{2} + 16 \\pi^{2}} - 16 \\pi^{2} Re + 8 \\pi^{2} \\sqrt{Re^{2} + 16 \\pi^{2}}\\right) e^{\\frac{x \\left(Re - \\sqrt{Re^{2} + 16 \\pi^{2}}\\right)}{2}} \\cos{\\left(2 \\pi y \\right)}}{12}\n",
      "\\big)\n"
     ]
    },
    {
     "data": {
      "text/latex": [
       "$\\displaystyle p_{x} + u u_{x} + u_{t} + u_{y} v - \\frac{u_{xx}}{Re} - \\frac{u_{yy}}{Re}$"
      ],
      "text/plain": [
       "p_{x} + u*u_{x} + u_{t} + u_{y}*v - u_{xx}/Re - u_{yy}/Re"
      ]
     },
     "metadata": {},
     "output_type": "display_data"
    },
    {
     "name": "stdout",
     "output_type": "stream",
     "text": [
      "tau =>\n"
     ]
    },
    {
     "data": {
      "text/latex": [
       "$\\displaystyle \\frac{p_{tx}}{2} + \\frac{u u_{tx}}{2} + \\frac{u_{tt}}{2} + \\frac{u_{ty} v}{2} + \\frac{u_{t} u_{x}}{2} + \\frac{u_{y} v_{t}}{2} - \\frac{u_{txx}}{2 Re} - \\frac{u_{tyy}}{2 Re}$"
      ],
      "text/plain": [
       "p_{tx}/2 + u*u_{tx}/2 + u_{tt}/2 + u_{ty}*v/2 + u_{t}*u_{x}/2 + u_{y}*v_{t}/2 - u_{txx}/(2*Re) - u_{tyy}/(2*Re)"
      ]
     },
     "metadata": {},
     "output_type": "display_data"
    },
    {
     "name": "stdout",
     "output_type": "stream",
     "text": [
      "h^2 =>\n"
     ]
    },
    {
     "data": {
      "text/latex": [
       "$\\displaystyle \\frac{p_{xxx}}{6} + \\frac{u u_{xxx}}{6} + \\frac{u_{yyy} v}{6} - \\frac{u_{xxxx}}{12 Re} - \\frac{u_{yyyy}}{12 Re}$"
      ],
      "text/plain": [
       "p_{xxx}/6 + u*u_{xxx}/6 + u_{yyy}*v/6 - u_{xxxx}/(12*Re) - u_{yyyy}/(12*Re)"
      ]
     },
     "metadata": {},
     "output_type": "display_data"
    },
    {
     "name": "stdout",
     "output_type": "stream",
     "text": [
      "-------------------------\n"
     ]
    },
    {
     "data": {
      "text/latex": [
       "$\\displaystyle p_{x} + u u_{x} + u_{t} + u_{y} v - \\frac{u_{xx}}{Re} - \\frac{u_{yy}}{Re}$"
      ],
      "text/plain": [
       "p_{x} + u*u_{x} + u_{t} + u_{y}*v - u_{xx}/Re - u_{yy}/Re"
      ]
     },
     "metadata": {},
     "output_type": "display_data"
    },
    {
     "name": "stdout",
     "output_type": "stream",
     "text": [
      "tau =>\n"
     ]
    },
    {
     "data": {
      "text/latex": [
       "$\\displaystyle 0$"
      ],
      "text/plain": [
       "0"
      ]
     },
     "metadata": {},
     "output_type": "display_data"
    },
    {
     "name": "stdout",
     "output_type": "stream",
     "text": [
      "h^2 =>\n"
     ]
    },
    {
     "data": {
      "text/latex": [
       "$\\displaystyle \\frac{Re^{2} p_{x} v^{2}}{12} - \\frac{Re^{2} u v^{2} v_{y}}{12} + \\frac{Re^{2} u_{t} v^{2}}{12} + \\frac{Re^{2} u_{y} v^{3}}{12} - \\frac{Re p_{tx}}{12} + \\frac{Re p_{xy} v}{12} - \\frac{Re p_{x} v_{y}}{12} - \\frac{Re p_{yy} u}{12} - \\frac{Re p_{y} u_{y}}{4} - \\frac{Re u^{2} v_{xy}}{12} - \\frac{Re u u_{y} v_{x}}{3} - \\frac{Re u v v_{yy}}{6} - \\frac{Re u_{tt}}{12} - \\frac{Re u_{y} v v_{y}}{3} - \\frac{Re u_{y} v_{t}}{3} + \\frac{Re v^{2} v_{xy}}{12} - \\frac{p_{xyy}}{6} + \\frac{u v_{yyy}}{6} + \\frac{u_{y} v_{yy}}{3} + \\frac{v v_{xyy}}{6} - \\frac{2 v_{xy} v_{y}}{3} + \\frac{v_{x} v_{yy}}{3} - \\frac{v_{xyyy}}{6 Re}$"
      ],
      "text/plain": [
       "Re**2*p_{x}*v**2/12 - Re**2*u*v**2*v_{y}/12 + Re**2*u_{t}*v**2/12 + Re**2*u_{y}*v**3/12 - Re*p_{tx}/12 + Re*p_{xy}*v/12 - Re*p_{x}*v_{y}/12 - Re*p_{yy}*u/12 - Re*p_{y}*u_{y}/4 - Re*u**2*v_{xy}/12 - Re*u*u_{y}*v_{x}/3 - Re*u*v*v_{yy}/6 - Re*u_{tt}/12 - Re*u_{y}*v*v_{y}/3 - Re*u_{y}*v_{t}/3 + Re*v**2*v_{xy}/12 - p_{xyy}/6 + u*v_{yyy}/6 + u_{y}*v_{yy}/3 + v*v_{xyy}/6 - 2*v_{xy}*v_{y}/3 + v_{x}*v_{yy}/3 - v_{xyyy}/(6*Re)"
      ]
     },
     "metadata": {},
     "output_type": "display_data"
    },
    {
     "name": "stdout",
     "output_type": "stream",
     "text": [
      "p_{x} + u u_{x} + u_{t} + u_{y} v - \\frac{u_{xx}}{Re} - \\frac{u_{yy}}{Re}\n",
      "+\\tau\\big(\n",
      "0\n",
      "\\big)\n",
      "+h^2\\big(\n",
      "\\frac{Re^{2} p_{x} v^{2}}{12} - \\frac{Re^{2} u v^{2} v_{y}}{12} + \\frac{Re^{2} u_{t} v^{2}}{12} + \\frac{Re^{2} u_{y} v^{3}}{12} - \\frac{Re p_{tx}}{12} + \\frac{Re p_{xy} v}{12} - \\frac{Re p_{x} v_{y}}{12} - \\frac{Re p_{yy} u}{12} - \\frac{Re p_{y} u_{y}}{4} - \\frac{Re u^{2} v_{xy}}{12} - \\frac{Re u u_{y} v_{x}}{3} - \\frac{Re u v v_{yy}}{6} - \\frac{Re u_{tt}}{12} - \\frac{Re u_{y} v v_{y}}{3} - \\frac{Re u_{y} v_{t}}{3} + \\frac{Re v^{2} v_{xy}}{12} - \\frac{p_{xyy}}{6} + \\frac{u v_{yyy}}{6} + \\frac{u_{y} v_{yy}}{3} + \\frac{v v_{xyy}}{6} - \\frac{2 v_{xy} v_{y}}{3} + \\frac{v_{x} v_{yy}}{3} - \\frac{v_{xyyy}}{6 Re}\n",
      "\\big)\n"
     ]
    },
    {
     "data": {
      "text/latex": [
       "$\\displaystyle 0$"
      ],
      "text/plain": [
       "0"
      ]
     },
     "metadata": {},
     "output_type": "display_data"
    },
    {
     "name": "stdout",
     "output_type": "stream",
     "text": [
      "tau =>\n"
     ]
    },
    {
     "data": {
      "text/latex": [
       "$\\displaystyle 0$"
      ],
      "text/plain": [
       "0"
      ]
     },
     "metadata": {},
     "output_type": "display_data"
    },
    {
     "name": "stdout",
     "output_type": "stream",
     "text": [
      "h^2 =>\n"
     ]
    },
    {
     "data": {
      "text/latex": [
       "$\\displaystyle \\frac{\\left(- 3 Re \\sin{\\left(x \\right)} + e^{\\frac{2 t}{Re}} \\sin{\\left(y \\right)}\\right) e^{- \\frac{4 t}{Re}} \\cos{\\left(x \\right)}}{6 Re}$"
      ],
      "text/plain": [
       "(-3*Re*sin(x) + exp(2*t/Re)*sin(y))*exp(-4*t/Re)*cos(x)/(6*Re)"
      ]
     },
     "metadata": {},
     "output_type": "display_data"
    },
    {
     "name": "stdout",
     "output_type": "stream",
     "text": [
      "0\n",
      "+\\tau\\big(\n",
      "0\n",
      "\\big)\n",
      "+h^2\\big(\n",
      "\\frac{\\left(- 3 Re \\sin{\\left(x \\right)} + e^{\\frac{2 t}{Re}} \\sin{\\left(y \\right)}\\right) e^{- \\frac{4 t}{Re}} \\cos{\\left(x \\right)}}{6 Re}\n",
      "\\big)\n"
     ]
    },
    {
     "data": {
      "text/latex": [
       "$\\displaystyle 0$"
      ],
      "text/plain": [
       "0"
      ]
     },
     "metadata": {},
     "output_type": "display_data"
    },
    {
     "name": "stdout",
     "output_type": "stream",
     "text": [
      "tau =>\n"
     ]
    },
    {
     "data": {
      "text/latex": [
       "$\\displaystyle 0$"
      ],
      "text/plain": [
       "0"
      ]
     },
     "metadata": {},
     "output_type": "display_data"
    },
    {
     "name": "stdout",
     "output_type": "stream",
     "text": [
      "h^2 =>\n"
     ]
    },
    {
     "data": {
      "text/latex": [
       "$\\displaystyle \\frac{\\left(Re^{2} \\left(- Re^{2} + Re \\sqrt{Re^{2} + 16 \\pi^{2}} - 8 \\pi^{2}\\right) e^{x \\left(\\frac{Re}{2} + 7 \\sqrt{Re^{2} + 16 \\pi^{2}}\\right)} \\cos{\\left(2 \\pi y \\right)} + 2 Re \\left(- 4 Re^{3} \\sin^{2}{\\left(2 \\pi y \\right)} - 3 Re^{3} \\cos^{2}{\\left(2 \\pi y \\right)} + 4 Re^{2} \\sqrt{Re^{2} + 16 \\pi^{2}} \\sin^{2}{\\left(2 \\pi y \\right)} + 3 Re^{2} \\sqrt{Re^{2} + 16 \\pi^{2}} \\cos^{2}{\\left(2 \\pi y \\right)} - 52 \\pi^{2} Re \\sin^{2}{\\left(2 \\pi y \\right)} - 36 \\pi^{2} Re \\cos^{2}{\\left(2 \\pi y \\right)} + 20 \\pi^{2} \\sqrt{Re^{2} + 16 \\pi^{2}} \\sin^{2}{\\left(2 \\pi y \\right)} + 12 \\pi^{2} \\sqrt{Re^{2} + 16 \\pi^{2}} \\cos^{2}{\\left(2 \\pi y \\right)}\\right) e^{x \\left(Re + \\frac{13 \\sqrt{Re^{2} + 16 \\pi^{2}}}{2}\\right)} + 64 \\pi^{4} e^{\\frac{x \\left(Re + 14 \\sqrt{Re^{2} + 16 \\pi^{2}}\\right)}{2}} \\cos{\\left(2 \\pi y \\right)}\\right) e^{- \\frac{15 x \\sqrt{Re^{2} + 16 \\pi^{2}}}{2}}}{24 Re}$"
      ],
      "text/plain": [
       "(Re**2*(-Re**2 + Re*sqrt(Re**2 + 16*pi**2) - 8*pi**2)*exp(x*(Re/2 + 7*sqrt(Re**2 + 16*pi**2)))*cos(2*pi*y) + 2*Re*(-4*Re**3*sin(2*pi*y)**2 - 3*Re**3*cos(2*pi*y)**2 + 4*Re**2*sqrt(Re**2 + 16*pi**2)*sin(2*pi*y)**2 + 3*Re**2*sqrt(Re**2 + 16*pi**2)*cos(2*pi*y)**2 - 52*pi**2*Re*sin(2*pi*y)**2 - 36*pi**2*Re*cos(2*pi*y)**2 + 20*pi**2*sqrt(Re**2 + 16*pi**2)*sin(2*pi*y)**2 + 12*pi**2*sqrt(Re**2 + 16*pi**2)*cos(2*pi*y)**2)*exp(x*(Re + 13*sqrt(Re**2 + 16*pi**2)/2)) + 64*pi**4*exp(x*(Re + 14*sqrt(Re**2 + 16*pi**2))/2)*cos(2*pi*y))*exp(-15*x*sqrt(Re**2 + 16*pi**2)/2)/(24*Re)"
      ]
     },
     "metadata": {},
     "output_type": "display_data"
    },
    {
     "name": "stdout",
     "output_type": "stream",
     "text": [
      "0\n",
      "+\\tau\\big(\n",
      "0\n",
      "\\big)\n",
      "+h^2\\big(\n",
      "\\frac{\\left(Re^{2} \\left(- Re^{2} + Re \\sqrt{Re^{2} + 16 \\pi^{2}} - 8 \\pi^{2}\\right) e^{x \\left(\\frac{Re}{2} + 7 \\sqrt{Re^{2} + 16 \\pi^{2}}\\right)} \\cos{\\left(2 \\pi y \\right)} + 2 Re \\left(- 4 Re^{3} \\sin^{2}{\\left(2 \\pi y \\right)} - 3 Re^{3} \\cos^{2}{\\left(2 \\pi y \\right)} + 4 Re^{2} \\sqrt{Re^{2} + 16 \\pi^{2}} \\sin^{2}{\\left(2 \\pi y \\right)} + 3 Re^{2} \\sqrt{Re^{2} + 16 \\pi^{2}} \\cos^{2}{\\left(2 \\pi y \\right)} - 52 \\pi^{2} Re \\sin^{2}{\\left(2 \\pi y \\right)} - 36 \\pi^{2} Re \\cos^{2}{\\left(2 \\pi y \\right)} + 20 \\pi^{2} \\sqrt{Re^{2} + 16 \\pi^{2}} \\sin^{2}{\\left(2 \\pi y \\right)} + 12 \\pi^{2} \\sqrt{Re^{2} + 16 \\pi^{2}} \\cos^{2}{\\left(2 \\pi y \\right)}\\right) e^{x \\left(Re + \\frac{13 \\sqrt{Re^{2} + 16 \\pi^{2}}}{2}\\right)} + 64 \\pi^{4} e^{\\frac{x \\left(Re + 14 \\sqrt{Re^{2} + 16 \\pi^{2}}\\right)}{2}} \\cos{\\left(2 \\pi y \\right)}\\right) e^{- \\frac{15 x \\sqrt{Re^{2} + 16 \\pi^{2}}}{2}}}{24 Re}\n",
      "\\big)\n"
     ]
    },
    {
     "data": {
      "text/latex": [
       "$\\displaystyle p_{y} + u v_{x} + v v_{y} + v_{t} - \\frac{v_{xx}}{Re} - \\frac{v_{yy}}{Re}$"
      ],
      "text/plain": [
       "p_{y} + u*v_{x} + v*v_{y} + v_{t} - v_{xx}/Re - v_{yy}/Re"
      ]
     },
     "metadata": {},
     "output_type": "display_data"
    },
    {
     "name": "stdout",
     "output_type": "stream",
     "text": [
      "tau =>\n"
     ]
    },
    {
     "data": {
      "text/latex": [
       "$\\displaystyle \\frac{p_{ty}}{2} + \\frac{u v_{tx}}{2} + \\frac{u_{t} v_{x}}{2} + \\frac{v v_{ty}}{2} + \\frac{v_{tt}}{2} + \\frac{v_{t} v_{y}}{2} - \\frac{v_{txx}}{2 Re} - \\frac{v_{tyy}}{2 Re}$"
      ],
      "text/plain": [
       "p_{ty}/2 + u*v_{tx}/2 + u_{t}*v_{x}/2 + v*v_{ty}/2 + v_{tt}/2 + v_{t}*v_{y}/2 - v_{txx}/(2*Re) - v_{tyy}/(2*Re)"
      ]
     },
     "metadata": {},
     "output_type": "display_data"
    },
    {
     "name": "stdout",
     "output_type": "stream",
     "text": [
      "h^2 =>\n"
     ]
    },
    {
     "data": {
      "text/latex": [
       "$\\displaystyle \\frac{p_{yyy}}{6} + \\frac{u v_{xxx}}{6} + \\frac{v v_{yyy}}{6} - \\frac{v_{xxxx}}{12 Re} - \\frac{v_{yyyy}}{12 Re}$"
      ],
      "text/plain": [
       "p_{yyy}/6 + u*v_{xxx}/6 + v*v_{yyy}/6 - v_{xxxx}/(12*Re) - v_{yyyy}/(12*Re)"
      ]
     },
     "metadata": {},
     "output_type": "display_data"
    },
    {
     "name": "stdout",
     "output_type": "stream",
     "text": [
      "-------------------------\n"
     ]
    },
    {
     "data": {
      "text/latex": [
       "$\\displaystyle p_{y} + u v_{x} + v v_{y} + v_{t} - \\frac{v_{xx}}{Re} - \\frac{v_{yy}}{Re}$"
      ],
      "text/plain": [
       "p_{y} + u*v_{x} + v*v_{y} + v_{t} - v_{xx}/Re - v_{yy}/Re"
      ]
     },
     "metadata": {},
     "output_type": "display_data"
    },
    {
     "name": "stdout",
     "output_type": "stream",
     "text": [
      "tau =>\n"
     ]
    },
    {
     "data": {
      "text/latex": [
       "$\\displaystyle 0$"
      ],
      "text/plain": [
       "0"
      ]
     },
     "metadata": {},
     "output_type": "display_data"
    },
    {
     "name": "stdout",
     "output_type": "stream",
     "text": [
      "h^2 =>\n"
     ]
    },
    {
     "data": {
      "text/latex": [
       "$\\displaystyle \\frac{Re^{2} p_{y} u^{2}}{12} + \\frac{Re^{2} u^{3} v_{x}}{12} + \\frac{Re^{2} u^{2} v v_{y}}{12} + \\frac{Re^{2} u^{2} v_{t}}{12} - \\frac{Re p_{ty}}{12} + \\frac{Re p_{xy} u}{12} + \\frac{Re p_{x} v_{x}}{4} - \\frac{Re p_{yy} v}{12} + \\frac{Re p_{y} v_{y}}{12} - \\frac{Re u^{2} v_{yy}}{12} - \\frac{Re u v_{x} v_{y}}{6} + \\frac{Re u_{t} v_{x}}{6} + \\frac{Re u_{y} v v_{x}}{6} - \\frac{Re v^{2} v_{yy}}{12} - \\frac{Re v v_{ty}}{6} - \\frac{Re v_{tt}}{12} + \\frac{p_{yyy}}{3} + \\frac{u_{y} v_{xy}}{3} + \\frac{v v_{yyy}}{3} + \\frac{v_{tyy}}{6} + \\frac{v_{xy} v_{x}}{6} + \\frac{v_{yy} v_{y}}{2} - \\frac{v_{yyyy}}{6 Re}$"
      ],
      "text/plain": [
       "Re**2*p_{y}*u**2/12 + Re**2*u**3*v_{x}/12 + Re**2*u**2*v*v_{y}/12 + Re**2*u**2*v_{t}/12 - Re*p_{ty}/12 + Re*p_{xy}*u/12 + Re*p_{x}*v_{x}/4 - Re*p_{yy}*v/12 + Re*p_{y}*v_{y}/12 - Re*u**2*v_{yy}/12 - Re*u*v_{x}*v_{y}/6 + Re*u_{t}*v_{x}/6 + Re*u_{y}*v*v_{x}/6 - Re*v**2*v_{yy}/12 - Re*v*v_{ty}/6 - Re*v_{tt}/12 + p_{yyy}/3 + u_{y}*v_{xy}/3 + v*v_{yyy}/3 + v_{tyy}/6 + v_{xy}*v_{x}/6 + v_{yy}*v_{y}/2 - v_{yyyy}/(6*Re)"
      ]
     },
     "metadata": {},
     "output_type": "display_data"
    },
    {
     "name": "stdout",
     "output_type": "stream",
     "text": [
      "p_{y} + u v_{x} + v v_{y} + v_{t} - \\frac{v_{xx}}{Re} - \\frac{v_{yy}}{Re}\n",
      "+\\tau\\big(\n",
      "0\n",
      "\\big)\n",
      "+h^2\\big(\n",
      "\\frac{Re^{2} p_{y} u^{2}}{12} + \\frac{Re^{2} u^{3} v_{x}}{12} + \\frac{Re^{2} u^{2} v v_{y}}{12} + \\frac{Re^{2} u^{2} v_{t}}{12} - \\frac{Re p_{ty}}{12} + \\frac{Re p_{xy} u}{12} + \\frac{Re p_{x} v_{x}}{4} - \\frac{Re p_{yy} v}{12} + \\frac{Re p_{y} v_{y}}{12} - \\frac{Re u^{2} v_{yy}}{12} - \\frac{Re u v_{x} v_{y}}{6} + \\frac{Re u_{t} v_{x}}{6} + \\frac{Re u_{y} v v_{x}}{6} - \\frac{Re v^{2} v_{yy}}{12} - \\frac{Re v v_{ty}}{6} - \\frac{Re v_{tt}}{12} + \\frac{p_{yyy}}{3} + \\frac{u_{y} v_{xy}}{3} + \\frac{v v_{yyy}}{3} + \\frac{v_{tyy}}{6} + \\frac{v_{xy} v_{x}}{6} + \\frac{v_{yy} v_{y}}{2} - \\frac{v_{yyyy}}{6 Re}\n",
      "\\big)\n"
     ]
    },
    {
     "data": {
      "text/latex": [
       "$\\displaystyle 0$"
      ],
      "text/plain": [
       "0"
      ]
     },
     "metadata": {},
     "output_type": "display_data"
    },
    {
     "name": "stdout",
     "output_type": "stream",
     "text": [
      "tau =>\n"
     ]
    },
    {
     "data": {
      "text/latex": [
       "$\\displaystyle 0$"
      ],
      "text/plain": [
       "0"
      ]
     },
     "metadata": {},
     "output_type": "display_data"
    },
    {
     "name": "stdout",
     "output_type": "stream",
     "text": [
      "h^2 =>\n"
     ]
    },
    {
     "data": {
      "text/latex": [
       "$\\displaystyle - \\frac{\\left(3 Re \\sin{\\left(y \\right)} + e^{\\frac{2 t}{Re}} \\sin{\\left(x \\right)}\\right) e^{- \\frac{4 t}{Re}} \\cos{\\left(y \\right)}}{6 Re}$"
      ],
      "text/plain": [
       "-(3*Re*sin(y) + exp(2*t/Re)*sin(x))*exp(-4*t/Re)*cos(y)/(6*Re)"
      ]
     },
     "metadata": {},
     "output_type": "display_data"
    },
    {
     "name": "stdout",
     "output_type": "stream",
     "text": [
      "0\n",
      "+\\tau\\big(\n",
      "0\n",
      "\\big)\n",
      "+h^2\\big(\n",
      "- \\frac{\\left(3 Re \\sin{\\left(y \\right)} + e^{\\frac{2 t}{Re}} \\sin{\\left(x \\right)}\\right) e^{- \\frac{4 t}{Re}} \\cos{\\left(y \\right)}}{6 Re}\n",
      "\\big)\n"
     ]
    },
    {
     "data": {
      "text/latex": [
       "$\\displaystyle 0$"
      ],
      "text/plain": [
       "0"
      ]
     },
     "metadata": {},
     "output_type": "display_data"
    },
    {
     "name": "stdout",
     "output_type": "stream",
     "text": [
      "tau =>\n"
     ]
    },
    {
     "data": {
      "text/latex": [
       "$\\displaystyle 0$"
      ],
      "text/plain": [
       "0"
      ]
     },
     "metadata": {},
     "output_type": "display_data"
    },
    {
     "name": "stdout",
     "output_type": "stream",
     "text": [
      "h^2 =>\n"
     ]
    },
    {
     "data": {
      "text/latex": [
       "$\\displaystyle \\frac{\\left(2 Re^{4} \\left(- Re + \\sqrt{Re^{2} + 16 \\pi^{2}}\\right) e^{x \\left(Re + \\frac{11 \\sqrt{Re^{2} + 16 \\pi^{2}}}{2}\\right)} \\cos{\\left(2 \\pi y \\right)} + Re^{4} \\left(Re - \\sqrt{Re^{2} + 16 \\pi^{2}}\\right) e^{x \\left(\\frac{Re}{2} + 6 \\sqrt{Re^{2} + 16 \\pi^{2}}\\right)} + 8 \\pi^{2} Re \\left(- 5 Re^{2} + 3 Re \\sqrt{Re^{2} + 16 \\pi^{2}} - 16 \\pi^{2}\\right) e^{x \\left(Re + \\frac{11 \\sqrt{Re^{2} + 16 \\pi^{2}}}{2}\\right)} \\cos{\\left(2 \\pi y \\right)} + 4 \\pi^{2} Re \\left(3 Re^{2} - Re \\sqrt{Re^{2} + 16 \\pi^{2}} - 8 \\pi^{2}\\right) e^{x \\left(\\frac{Re}{2} + 6 \\sqrt{Re^{2} + 16 \\pi^{2}}\\right)} + 32 \\pi^{4} \\sqrt{Re^{2} + 16 \\pi^{2}} e^{\\frac{x \\left(Re + 12 \\sqrt{Re^{2} + 16 \\pi^{2}}\\right)}{2}}\\right) e^{- \\frac{13 x \\sqrt{Re^{2} + 16 \\pi^{2}}}{2}} \\sin{\\left(2 \\pi y \\right)}}{48 \\pi Re}$"
      ],
      "text/plain": [
       "(2*Re**4*(-Re + sqrt(Re**2 + 16*pi**2))*exp(x*(Re + 11*sqrt(Re**2 + 16*pi**2)/2))*cos(2*pi*y) + Re**4*(Re - sqrt(Re**2 + 16*pi**2))*exp(x*(Re/2 + 6*sqrt(Re**2 + 16*pi**2))) + 8*pi**2*Re*(-5*Re**2 + 3*Re*sqrt(Re**2 + 16*pi**2) - 16*pi**2)*exp(x*(Re + 11*sqrt(Re**2 + 16*pi**2)/2))*cos(2*pi*y) + 4*pi**2*Re*(3*Re**2 - Re*sqrt(Re**2 + 16*pi**2) - 8*pi**2)*exp(x*(Re/2 + 6*sqrt(Re**2 + 16*pi**2))) + 32*pi**4*sqrt(Re**2 + 16*pi**2)*exp(x*(Re + 12*sqrt(Re**2 + 16*pi**2))/2))*exp(-13*x*sqrt(Re**2 + 16*pi**2)/2)*sin(2*pi*y)/(48*pi*Re)"
      ]
     },
     "metadata": {},
     "output_type": "display_data"
    },
    {
     "name": "stdout",
     "output_type": "stream",
     "text": [
      "0\n",
      "+\\tau\\big(\n",
      "0\n",
      "\\big)\n",
      "+h^2\\big(\n",
      "\\frac{\\left(2 Re^{4} \\left(- Re + \\sqrt{Re^{2} + 16 \\pi^{2}}\\right) e^{x \\left(Re + \\frac{11 \\sqrt{Re^{2} + 16 \\pi^{2}}}{2}\\right)} \\cos{\\left(2 \\pi y \\right)} + Re^{4} \\left(Re - \\sqrt{Re^{2} + 16 \\pi^{2}}\\right) e^{x \\left(\\frac{Re}{2} + 6 \\sqrt{Re^{2} + 16 \\pi^{2}}\\right)} + 8 \\pi^{2} Re \\left(- 5 Re^{2} + 3 Re \\sqrt{Re^{2} + 16 \\pi^{2}} - 16 \\pi^{2}\\right) e^{x \\left(Re + \\frac{11 \\sqrt{Re^{2} + 16 \\pi^{2}}}{2}\\right)} \\cos{\\left(2 \\pi y \\right)} + 4 \\pi^{2} Re \\left(3 Re^{2} - Re \\sqrt{Re^{2} + 16 \\pi^{2}} - 8 \\pi^{2}\\right) e^{x \\left(\\frac{Re}{2} + 6 \\sqrt{Re^{2} + 16 \\pi^{2}}\\right)} + 32 \\pi^{4} \\sqrt{Re^{2} + 16 \\pi^{2}} e^{\\frac{x \\left(Re + 12 \\sqrt{Re^{2} + 16 \\pi^{2}}\\right)}{2}}\\right) e^{- \\frac{13 x \\sqrt{Re^{2} + 16 \\pi^{2}}}{2}} \\sin{\\left(2 \\pi y \\right)}}{48 \\pi Re}\n",
      "\\big)\n"
     ]
    },
    {
     "data": {
      "text/latex": [
       "$\\displaystyle p_{xx} + p_{yy} + 2 u u_{xx} + 2 u v_{xy} + 2 u_{xy} v + 2 u_{x}^{2} + 2 u_{x} v_{y} + 2 u_{y} v_{x} + 2 v v_{yy} + 2 v_{y}^{2}$"
      ],
      "text/plain": [
       "p_{xx} + p_{yy} + 2*u*u_{xx} + 2*u*v_{xy} + 2*u_{xy}*v + 2*u_{x}**2 + 2*u_{x}*v_{y} + 2*u_{y}*v_{x} + 2*v*v_{yy} + 2*v_{y}**2"
      ]
     },
     "metadata": {},
     "output_type": "display_data"
    },
    {
     "name": "stdout",
     "output_type": "stream",
     "text": [
      "tau =>\n"
     ]
    },
    {
     "data": {
      "text/latex": [
       "$\\displaystyle 0$"
      ],
      "text/plain": [
       "0"
      ]
     },
     "metadata": {},
     "output_type": "display_data"
    },
    {
     "name": "stdout",
     "output_type": "stream",
     "text": [
      "h^2 =>\n"
     ]
    },
    {
     "data": {
      "text/latex": [
       "$\\displaystyle \\frac{p_{xxxx}}{3} + \\frac{p_{yyyy}}{3} + \\frac{2 u u_{xxxx}}{3} + \\frac{u v_{xxxy}}{3} + \\frac{u v_{xyyy}}{3} + \\frac{u_{xxxy} v}{3} + \\frac{8 u_{xxx} u_{x}}{3} + \\frac{u_{xxx} v_{y}}{3} + u_{xxy} v_{x} + 2 u_{xx}^{2} + u_{xx} v_{xy} + \\frac{u_{xyyy} v}{3} + u_{xyy} v_{y} + u_{xy} v_{xx} + u_{xy} v_{yy} + u_{x} v_{xxy} + \\frac{u_{x} v_{yyy}}{3} + \\frac{u_{yyy} v_{x}}{3} + u_{yy} v_{xy} + \\frac{u_{y} v_{xxx}}{3} + u_{y} v_{xyy} + \\frac{2 v v_{yyyy}}{3} + \\frac{8 v_{yyy} v_{y}}{3} + 2 v_{yy}^{2}$"
      ],
      "text/plain": [
       "p_{xxxx}/3 + p_{yyyy}/3 + 2*u*u_{xxxx}/3 + u*v_{xxxy}/3 + u*v_{xyyy}/3 + u_{xxxy}*v/3 + 8*u_{xxx}*u_{x}/3 + u_{xxx}*v_{y}/3 + u_{xxy}*v_{x} + 2*u_{xx}**2 + u_{xx}*v_{xy} + u_{xyyy}*v/3 + u_{xyy}*v_{y} + u_{xy}*v_{xx} + u_{xy}*v_{yy} + u_{x}*v_{xxy} + u_{x}*v_{yyy}/3 + u_{yyy}*v_{x}/3 + u_{yy}*v_{xy} + u_{y}*v_{xxx}/3 + u_{y}*v_{xyy} + 2*v*v_{yyyy}/3 + 8*v_{yyy}*v_{y}/3 + 2*v_{yy}**2"
      ]
     },
     "metadata": {},
     "output_type": "display_data"
    },
    {
     "name": "stdout",
     "output_type": "stream",
     "text": [
      "-------------------------\n"
     ]
    },
    {
     "data": {
      "text/latex": [
       "$\\displaystyle p_{xx} + p_{yy} + 2 u u_{xx} + 2 u v_{xy} + 2 u_{xy} v + 2 u_{x}^{2} + 2 u_{x} v_{y} + 2 u_{y} v_{x} + 2 v v_{yy} + 2 v_{y}^{2}$"
      ],
      "text/plain": [
       "p_{xx} + p_{yy} + 2*u*u_{xx} + 2*u*v_{xy} + 2*u_{xy}*v + 2*u_{x}**2 + 2*u_{x}*v_{y} + 2*u_{y}*v_{x} + 2*v*v_{yy} + 2*v_{y}**2"
      ]
     },
     "metadata": {},
     "output_type": "display_data"
    },
    {
     "name": "stdout",
     "output_type": "stream",
     "text": [
      "tau =>\n"
     ]
    },
    {
     "data": {
      "text/latex": [
       "$\\displaystyle 0$"
      ],
      "text/plain": [
       "0"
      ]
     },
     "metadata": {},
     "output_type": "display_data"
    },
    {
     "name": "stdout",
     "output_type": "stream",
     "text": [
      "h^2 =>\n"
     ]
    },
    {
     "data": {
      "text/latex": [
       "$\\displaystyle \\frac{2 Re^{2} p_{x} v v_{x}}{3} - \\frac{Re^{2} p_{yy} u^{2}}{3} - \\frac{2 Re^{2} p_{y} u u_{y}}{3} - \\frac{Re^{2} u^{3} v_{xy}}{3} - Re^{2} u^{2} u_{y} v_{x} - \\frac{Re^{2} u^{2} v v_{yy}}{3} - \\frac{Re^{2} u^{2} v_{ty}}{3} - \\frac{Re^{2} u^{2} v_{y}^{2}}{3} - \\frac{2 Re^{2} u u_{y} v v_{y}}{3} - \\frac{2 Re^{2} u u_{y} v_{t}}{3} - \\frac{2 Re^{2} u v v_{x} v_{y}}{3} + \\frac{2 Re^{2} u_{t} v v_{x}}{3} + \\frac{2 Re^{2} u_{y} v^{2} v_{x}}{3} - \\frac{Re p_{xyy} u}{3} - \\frac{Re p_{xy} u_{y}}{3} + Re p_{xy} v_{x} + \\frac{7 Re p_{x} v_{xy}}{3} - \\frac{Re p_{yyy} v}{3} + \\frac{Re p_{y} v_{yy}}{3} + \\frac{Re u^{2} v_{yyy}}{3} + \\frac{2 Re u u_{y} v_{yy}}{3} - \\frac{2 Re u v v_{xyy}}{3} - \\frac{Re u v_{txy}}{3} - \\frac{8 Re u v_{xy} v_{y}}{3} - \\frac{2 Re u v_{x} v_{yy}}{3} + Re u_{ty} v_{x} + \\frac{7 Re u_{t} v_{xy}}{3} + \\frac{4 Re u_{y} v v_{xy}}{3} - \\frac{Re u_{y} v_{tx}}{3} - \\frac{Re v^{2} v_{yyy}}{3} - \\frac{Re v v_{tyy}}{3} + \\frac{2 Re v v_{xy} v_{x}}{3} - \\frac{2 Re v v_{yy} v_{y}}{3} + \\frac{Re v_{t} v_{yy}}{3} + \\frac{2 p_{yyyy}}{3} + \\frac{2 u v_{xyyy}}{3} + 2 u_{y} v_{xyy} + \\frac{2 v v_{yyyy}}{3} + \\frac{2 v_{xyy} v_{x}}{3} + 2 v_{xy}^{2} + \\frac{8 v_{yyy} v_{y}}{3} + 2 v_{yy}^{2}$"
      ],
      "text/plain": [
       "2*Re**2*p_{x}*v*v_{x}/3 - Re**2*p_{yy}*u**2/3 - 2*Re**2*p_{y}*u*u_{y}/3 - Re**2*u**3*v_{xy}/3 - Re**2*u**2*u_{y}*v_{x} - Re**2*u**2*v*v_{yy}/3 - Re**2*u**2*v_{ty}/3 - Re**2*u**2*v_{y}**2/3 - 2*Re**2*u*u_{y}*v*v_{y}/3 - 2*Re**2*u*u_{y}*v_{t}/3 - 2*Re**2*u*v*v_{x}*v_{y}/3 + 2*Re**2*u_{t}*v*v_{x}/3 + 2*Re**2*u_{y}*v**2*v_{x}/3 - Re*p_{xyy}*u/3 - Re*p_{xy}*u_{y}/3 + Re*p_{xy}*v_{x} + 7*Re*p_{x}*v_{xy}/3 - Re*p_{yyy}*v/3 + Re*p_{y}*v_{yy}/3 + Re*u**2*v_{yyy}/3 + 2*Re*u*u_{y}*v_{yy}/3 - 2*Re*u*v*v_{xyy}/3 - Re*u*v_{txy}/3 - 8*Re*u*v_{xy}*v_{y}/3 - 2*Re*u*v_{x}*v_{yy}/3 + Re*u_{ty}*v_{x} + 7*Re*u_{t}*v_{xy}/3 + 4*Re*u_{y}*v*v_{xy}/3 - Re*u_{y}*v_{tx}/3 - Re*v**2*v_{yyy}/3 - Re*v*v_{tyy}/3 + 2*Re*v*v_{xy}*v_{x}/3 - 2*Re*v*v_{yy}*v_{y}/3 + Re*v_{t}*v_{yy}/3 + 2*p_{yyyy}/3 + 2*u*v_{xyyy}/3 + 2*u_{y}*v_{xyy} + 2*v*v_{yyyy}/3 + 2*v_{xyy}*v_{x}/3 + 2*v_{xy}**2 + 8*v_{yyy}*v_{y}/3 + 2*v_{yy}**2"
      ]
     },
     "metadata": {},
     "output_type": "display_data"
    },
    {
     "name": "stdout",
     "output_type": "stream",
     "text": [
      "p_{xx} + p_{yy} + 2 u u_{xx} + 2 u v_{xy} + 2 u_{xy} v + 2 u_{x}^{2} + 2 u_{x} v_{y} + 2 u_{y} v_{x} + 2 v v_{yy} + 2 v_{y}^{2}\n",
      "+\\tau\\big(\n",
      "0\n",
      "\\big)\n",
      "+h^2\\big(\n",
      "\\frac{2 Re^{2} p_{x} v v_{x}}{3} - \\frac{Re^{2} p_{yy} u^{2}}{3} - \\frac{2 Re^{2} p_{y} u u_{y}}{3} - \\frac{Re^{2} u^{3} v_{xy}}{3} - Re^{2} u^{2} u_{y} v_{x} - \\frac{Re^{2} u^{2} v v_{yy}}{3} - \\frac{Re^{2} u^{2} v_{ty}}{3} - \\frac{Re^{2} u^{2} v_{y}^{2}}{3} - \\frac{2 Re^{2} u u_{y} v v_{y}}{3} - \\frac{2 Re^{2} u u_{y} v_{t}}{3} - \\frac{2 Re^{2} u v v_{x} v_{y}}{3} + \\frac{2 Re^{2} u_{t} v v_{x}}{3} + \\frac{2 Re^{2} u_{y} v^{2} v_{x}}{3} - \\frac{Re p_{xyy} u}{3} - \\frac{Re p_{xy} u_{y}}{3} + Re p_{xy} v_{x} + \\frac{7 Re p_{x} v_{xy}}{3} - \\frac{Re p_{yyy} v}{3} + \\frac{Re p_{y} v_{yy}}{3} + \\frac{Re u^{2} v_{yyy}}{3} + \\frac{2 Re u u_{y} v_{yy}}{3} - \\frac{2 Re u v v_{xyy}}{3} - \\frac{Re u v_{txy}}{3} - \\frac{8 Re u v_{xy} v_{y}}{3} - \\frac{2 Re u v_{x} v_{yy}}{3} + Re u_{ty} v_{x} + \\frac{7 Re u_{t} v_{xy}}{3} + \\frac{4 Re u_{y} v v_{xy}}{3} - \\frac{Re u_{y} v_{tx}}{3} - \\frac{Re v^{2} v_{yyy}}{3} - \\frac{Re v v_{tyy}}{3} + \\frac{2 Re v v_{xy} v_{x}}{3} - \\frac{2 Re v v_{yy} v_{y}}{3} + \\frac{Re v_{t} v_{yy}}{3} + \\frac{2 p_{yyyy}}{3} + \\frac{2 u v_{xyyy}}{3} + 2 u_{y} v_{xyy} + \\frac{2 v v_{yyyy}}{3} + \\frac{2 v_{xyy} v_{x}}{3} + 2 v_{xy}^{2} + \\frac{8 v_{yyy} v_{y}}{3} + 2 v_{yy}^{2}\n",
      "\\big)\n"
     ]
    },
    {
     "data": {
      "text/latex": [
       "$\\displaystyle 0$"
      ],
      "text/plain": [
       "0"
      ]
     },
     "metadata": {},
     "output_type": "display_data"
    },
    {
     "name": "stdout",
     "output_type": "stream",
     "text": [
      "tau =>\n"
     ]
    },
    {
     "data": {
      "text/latex": [
       "$\\displaystyle 0$"
      ],
      "text/plain": [
       "0"
      ]
     },
     "metadata": {},
     "output_type": "display_data"
    },
    {
     "name": "stdout",
     "output_type": "stream",
     "text": [
      "h^2 =>\n"
     ]
    },
    {
     "data": {
      "text/latex": [
       "$\\displaystyle 0$"
      ],
      "text/plain": [
       "0"
      ]
     },
     "metadata": {},
     "output_type": "display_data"
    },
    {
     "name": "stdout",
     "output_type": "stream",
     "text": [
      "0\n",
      "+\\tau\\big(\n",
      "0\n",
      "\\big)\n",
      "+h^2\\big(\n",
      "0\n",
      "\\big)\n"
     ]
    },
    {
     "data": {
      "text/latex": [
       "$\\displaystyle 0$"
      ],
      "text/plain": [
       "0"
      ]
     },
     "metadata": {},
     "output_type": "display_data"
    },
    {
     "name": "stdout",
     "output_type": "stream",
     "text": [
      "tau =>\n"
     ]
    },
    {
     "data": {
      "text/latex": [
       "$\\displaystyle 0$"
      ],
      "text/plain": [
       "0"
      ]
     },
     "metadata": {},
     "output_type": "display_data"
    },
    {
     "name": "stdout",
     "output_type": "stream",
     "text": [
      "h^2 =>\n"
     ]
    },
    {
     "data": {
      "text/latex": [
       "$\\displaystyle \\frac{\\left(- Re^{4} + Re^{3} \\sqrt{Re^{2} + 16 \\pi^{2}} - 20 \\pi^{2} Re^{2} + 12 \\pi^{2} Re \\sqrt{Re^{2} + 16 \\pi^{2}} - 64 \\pi^{4}\\right) e^{\\frac{x \\left(Re - \\sqrt{Re^{2} + 16 \\pi^{2}}\\right)}{2}} \\cos{\\left(2 \\pi y \\right)}}{6}$"
      ],
      "text/plain": [
       "(-Re**4 + Re**3*sqrt(Re**2 + 16*pi**2) - 20*pi**2*Re**2 + 12*pi**2*Re*sqrt(Re**2 + 16*pi**2) - 64*pi**4)*exp(x*(Re - sqrt(Re**2 + 16*pi**2))/2)*cos(2*pi*y)/6"
      ]
     },
     "metadata": {},
     "output_type": "display_data"
    },
    {
     "name": "stdout",
     "output_type": "stream",
     "text": [
      "0\n",
      "+\\tau\\big(\n",
      "0\n",
      "\\big)\n",
      "+h^2\\big(\n",
      "\\frac{\\left(- Re^{4} + Re^{3} \\sqrt{Re^{2} + 16 \\pi^{2}} - 20 \\pi^{2} Re^{2} + 12 \\pi^{2} Re \\sqrt{Re^{2} + 16 \\pi^{2}} - 64 \\pi^{4}\\right) e^{\\frac{x \\left(Re - \\sqrt{Re^{2} + 16 \\pi^{2}}\\right)}{2}} \\cos{\\left(2 \\pi y \\right)}}{6}\n",
      "\\big)\n"
     ]
    },
    {
     "data": {
      "text/latex": [
       "$\\displaystyle 0$"
      ],
      "text/plain": [
       "0"
      ]
     },
     "metadata": {},
     "output_type": "display_data"
    },
    {
     "name": "stdout",
     "output_type": "stream",
     "text": [
      "tau =>\n"
     ]
    },
    {
     "data": {
      "text/latex": [
       "$\\displaystyle 0$"
      ],
      "text/plain": [
       "0"
      ]
     },
     "metadata": {},
     "output_type": "display_data"
    },
    {
     "name": "stdout",
     "output_type": "stream",
     "text": [
      "h^2 =>\n"
     ]
    },
    {
     "data": {
      "text/latex": [
       "$\\displaystyle 0$"
      ],
      "text/plain": [
       "0"
      ]
     },
     "metadata": {},
     "output_type": "display_data"
    },
    {
     "name": "stdout",
     "output_type": "stream",
     "text": [
      "0\n",
      "+\\tau\\big(\n",
      "0\n",
      "\\big)\n",
      "+h^2\\big(\n",
      "0\n",
      "\\big)\n"
     ]
    }
   ],
   "source": [
    "F1 = clip(Dx(u) + Dy(v))\n",
    "F2 = clip(Dt(u) + It(u*Dx(u) + v*Dy(u) + Dx(p) - DD(u)/Re))\n",
    "F3 = clip(Dt(v) + It(u*Dx(v) + v*Dy(v) + Dy(p) - DD(v)/Re))\n",
    "F4 = clip(Dx(Dx(u**2) + Dy(v*u) + Dx(p)) + Dy(Dx(u*v) + Dy(v**2) + Dy(p)))\n",
    "\n",
    "build(F1, F2, F3, F4)"
   ]
  },
  {
   "cell_type": "code",
   "execution_count": 31,
   "metadata": {},
   "outputs": [
    {
     "data": {
      "text/latex": [
       "$\\displaystyle u_{x} + v_{y}$"
      ],
      "text/plain": [
       "u_{x} + v_{y}"
      ]
     },
     "metadata": {},
     "output_type": "display_data"
    },
    {
     "name": "stdout",
     "output_type": "stream",
     "text": [
      "tau =>\n"
     ]
    },
    {
     "data": {
      "text/latex": [
       "$\\displaystyle 0$"
      ],
      "text/plain": [
       "0"
      ]
     },
     "metadata": {},
     "output_type": "display_data"
    },
    {
     "name": "stdout",
     "output_type": "stream",
     "text": [
      "h^2 =>\n"
     ]
    },
    {
     "data": {
      "text/latex": [
       "$\\displaystyle \\frac{u_{xxx}}{6} + \\frac{v_{yyy}}{6}$"
      ],
      "text/plain": [
       "u_{xxx}/6 + v_{yyy}/6"
      ]
     },
     "metadata": {},
     "output_type": "display_data"
    },
    {
     "name": "stdout",
     "output_type": "stream",
     "text": [
      "-------------------------\n"
     ]
    },
    {
     "data": {
      "text/latex": [
       "$\\displaystyle u_{x} + v_{y}$"
      ],
      "text/plain": [
       "u_{x} + v_{y}"
      ]
     },
     "metadata": {},
     "output_type": "display_data"
    },
    {
     "name": "stdout",
     "output_type": "stream",
     "text": [
      "tau =>\n"
     ]
    },
    {
     "data": {
      "text/latex": [
       "$\\displaystyle 0$"
      ],
      "text/plain": [
       "0"
      ]
     },
     "metadata": {},
     "output_type": "display_data"
    },
    {
     "name": "stdout",
     "output_type": "stream",
     "text": [
      "h^2 =>\n"
     ]
    },
    {
     "data": {
      "text/latex": [
       "$\\displaystyle - \\frac{Re p_{yy}}{6} - \\frac{Re u v_{xy}}{6} - \\frac{Re u_{y} v_{x}}{6} - \\frac{Re v v_{yy}}{6} - \\frac{Re v_{ty}}{6} - \\frac{Re v_{y}^{2}}{6} + \\frac{v_{yyy}}{3}$"
      ],
      "text/plain": [
       "-Re*p_{yy}/6 - Re*u*v_{xy}/6 - Re*u_{y}*v_{x}/6 - Re*v*v_{yy}/6 - Re*v_{ty}/6 - Re*v_{y}**2/6 + v_{yyy}/3"
      ]
     },
     "metadata": {},
     "output_type": "display_data"
    },
    {
     "name": "stdout",
     "output_type": "stream",
     "text": [
      "u_{x} + v_{y}\n",
      "+\\tau\\big(\n",
      "0\n",
      "\\big)\n",
      "+h^2\\big(\n",
      "- \\frac{Re p_{yy}}{6} - \\frac{Re u v_{xy}}{6} - \\frac{Re u_{y} v_{x}}{6} - \\frac{Re v v_{yy}}{6} - \\frac{Re v_{ty}}{6} - \\frac{Re v_{y}^{2}}{6} + \\frac{v_{yyy}}{3}\n",
      "\\big)\n"
     ]
    },
    {
     "data": {
      "text/latex": [
       "$\\displaystyle 0$"
      ],
      "text/plain": [
       "0"
      ]
     },
     "metadata": {},
     "output_type": "display_data"
    },
    {
     "name": "stdout",
     "output_type": "stream",
     "text": [
      "tau =>\n"
     ]
    },
    {
     "data": {
      "text/latex": [
       "$\\displaystyle 0$"
      ],
      "text/plain": [
       "0"
      ]
     },
     "metadata": {},
     "output_type": "display_data"
    },
    {
     "name": "stdout",
     "output_type": "stream",
     "text": [
      "h^2 =>\n"
     ]
    },
    {
     "data": {
      "text/latex": [
       "$\\displaystyle 0$"
      ],
      "text/plain": [
       "0"
      ]
     },
     "metadata": {},
     "output_type": "display_data"
    },
    {
     "name": "stdout",
     "output_type": "stream",
     "text": [
      "0\n",
      "+\\tau\\big(\n",
      "0\n",
      "\\big)\n",
      "+h^2\\big(\n",
      "0\n",
      "\\big)\n"
     ]
    },
    {
     "data": {
      "text/latex": [
       "$\\displaystyle 0$"
      ],
      "text/plain": [
       "0"
      ]
     },
     "metadata": {},
     "output_type": "display_data"
    },
    {
     "name": "stdout",
     "output_type": "stream",
     "text": [
      "tau =>\n"
     ]
    },
    {
     "data": {
      "text/latex": [
       "$\\displaystyle 0$"
      ],
      "text/plain": [
       "0"
      ]
     },
     "metadata": {},
     "output_type": "display_data"
    },
    {
     "name": "stdout",
     "output_type": "stream",
     "text": [
      "h^2 =>\n"
     ]
    },
    {
     "data": {
      "text/latex": [
       "$\\displaystyle \\frac{\\left(- Re^{3} + Re^{2} \\sqrt{Re^{2} + 16 \\pi^{2}} - 16 \\pi^{2} Re + 8 \\pi^{2} \\sqrt{Re^{2} + 16 \\pi^{2}}\\right) e^{\\frac{x \\left(Re - \\sqrt{Re^{2} + 16 \\pi^{2}}\\right)}{2}} \\cos{\\left(2 \\pi y \\right)}}{12}$"
      ],
      "text/plain": [
       "(-Re**3 + Re**2*sqrt(Re**2 + 16*pi**2) - 16*pi**2*Re + 8*pi**2*sqrt(Re**2 + 16*pi**2))*exp(x*(Re - sqrt(Re**2 + 16*pi**2))/2)*cos(2*pi*y)/12"
      ]
     },
     "metadata": {},
     "output_type": "display_data"
    },
    {
     "name": "stdout",
     "output_type": "stream",
     "text": [
      "0\n",
      "+\\tau\\big(\n",
      "0\n",
      "\\big)\n",
      "+h^2\\big(\n",
      "\\frac{\\left(- Re^{3} + Re^{2} \\sqrt{Re^{2} + 16 \\pi^{2}} - 16 \\pi^{2} Re + 8 \\pi^{2} \\sqrt{Re^{2} + 16 \\pi^{2}}\\right) e^{\\frac{x \\left(Re - \\sqrt{Re^{2} + 16 \\pi^{2}}\\right)}{2}} \\cos{\\left(2 \\pi y \\right)}}{12}\n",
      "\\big)\n"
     ]
    },
    {
     "data": {
      "text/latex": [
       "$\\displaystyle p_{x} + u u_{x} + u_{t} + u_{y} v - \\frac{u_{xx}}{Re} - \\frac{u_{yy}}{Re}$"
      ],
      "text/plain": [
       "p_{x} + u*u_{x} + u_{t} + u_{y}*v - u_{xx}/Re - u_{yy}/Re"
      ]
     },
     "metadata": {},
     "output_type": "display_data"
    },
    {
     "name": "stdout",
     "output_type": "stream",
     "text": [
      "tau =>\n"
     ]
    },
    {
     "data": {
      "text/latex": [
       "$\\displaystyle \\frac{p_{tx}}{2} + \\frac{u u_{tx}}{2} + \\frac{u_{tt}}{2} + \\frac{u_{ty} v}{2} + \\frac{u_{t} u_{x}}{2} + \\frac{u_{y} v_{t}}{2} - \\frac{u_{txx}}{2 Re} - \\frac{u_{tyy}}{2 Re}$"
      ],
      "text/plain": [
       "p_{tx}/2 + u*u_{tx}/2 + u_{tt}/2 + u_{ty}*v/2 + u_{t}*u_{x}/2 + u_{y}*v_{t}/2 - u_{txx}/(2*Re) - u_{tyy}/(2*Re)"
      ]
     },
     "metadata": {},
     "output_type": "display_data"
    },
    {
     "name": "stdout",
     "output_type": "stream",
     "text": [
      "h^2 =>\n"
     ]
    },
    {
     "data": {
      "text/latex": [
       "$\\displaystyle \\frac{p_{xxx}}{6} + \\frac{u u_{xxx}}{6} + \\frac{u_{yyy} v}{6} - \\frac{u_{xxxx}}{3 Re} - \\frac{u_{yyyy}}{3 Re}$"
      ],
      "text/plain": [
       "p_{xxx}/6 + u*u_{xxx}/6 + u_{yyy}*v/6 - u_{xxxx}/(3*Re) - u_{yyyy}/(3*Re)"
      ]
     },
     "metadata": {},
     "output_type": "display_data"
    },
    {
     "name": "stdout",
     "output_type": "stream",
     "text": [
      "-------------------------\n"
     ]
    },
    {
     "data": {
      "text/latex": [
       "$\\displaystyle p_{x} + u u_{x} + u_{t} + u_{y} v - \\frac{u_{xx}}{Re} - \\frac{u_{yy}}{Re}$"
      ],
      "text/plain": [
       "p_{x} + u*u_{x} + u_{t} + u_{y}*v - u_{xx}/Re - u_{yy}/Re"
      ]
     },
     "metadata": {},
     "output_type": "display_data"
    },
    {
     "name": "stdout",
     "output_type": "stream",
     "text": [
      "tau =>\n"
     ]
    },
    {
     "data": {
      "text/latex": [
       "$\\displaystyle 0$"
      ],
      "text/plain": [
       "0"
      ]
     },
     "metadata": {},
     "output_type": "display_data"
    },
    {
     "name": "stdout",
     "output_type": "stream",
     "text": [
      "h^2 =>\n"
     ]
    },
    {
     "data": {
      "text/latex": [
       "$\\displaystyle - \\frac{Re^{2} p_{x} v^{2}}{6} + \\frac{Re^{2} u v^{2} v_{y}}{6} - \\frac{Re^{2} u_{t} v^{2}}{6} - \\frac{Re^{2} u_{y} v^{3}}{6} - \\frac{Re p_{tx}}{3} - \\frac{Re p_{xy} v}{6} - \\frac{Re p_{x} v_{y}}{3} + \\frac{Re p_{yy} u}{6} + \\frac{Re u^{2} v_{xy}}{6} + \\frac{Re u u_{y} v_{x}}{6} + \\frac{Re u v v_{yy}}{3} + \\frac{Re u v_{ty}}{2} + \\frac{Re u v_{y}^{2}}{2} - \\frac{Re u_{tt}}{3} - \\frac{Re u_{ty} v}{2} - \\frac{Re u_{y} v v_{y}}{3} - \\frac{Re u_{y} v_{t}}{3} - \\frac{Re v^{2} v_{xy}}{6} - \\frac{p_{xyy}}{6} + \\frac{u v_{yyy}}{6} + \\frac{u_{y} v_{yy}}{3} + \\frac{v v_{xyy}}{6} - \\frac{2 v_{xy} v_{y}}{3} + \\frac{v_{x} v_{yy}}{3} - \\frac{2 v_{xyyy}}{3 Re}$"
      ],
      "text/plain": [
       "-Re**2*p_{x}*v**2/6 + Re**2*u*v**2*v_{y}/6 - Re**2*u_{t}*v**2/6 - Re**2*u_{y}*v**3/6 - Re*p_{tx}/3 - Re*p_{xy}*v/6 - Re*p_{x}*v_{y}/3 + Re*p_{yy}*u/6 + Re*u**2*v_{xy}/6 + Re*u*u_{y}*v_{x}/6 + Re*u*v*v_{yy}/3 + Re*u*v_{ty}/2 + Re*u*v_{y}**2/2 - Re*u_{tt}/3 - Re*u_{ty}*v/2 - Re*u_{y}*v*v_{y}/3 - Re*u_{y}*v_{t}/3 - Re*v**2*v_{xy}/6 - p_{xyy}/6 + u*v_{yyy}/6 + u_{y}*v_{yy}/3 + v*v_{xyy}/6 - 2*v_{xy}*v_{y}/3 + v_{x}*v_{yy}/3 - 2*v_{xyyy}/(3*Re)"
      ]
     },
     "metadata": {},
     "output_type": "display_data"
    },
    {
     "name": "stdout",
     "output_type": "stream",
     "text": [
      "p_{x} + u u_{x} + u_{t} + u_{y} v - \\frac{u_{xx}}{Re} - \\frac{u_{yy}}{Re}\n",
      "+\\tau\\big(\n",
      "0\n",
      "\\big)\n",
      "+h^2\\big(\n",
      "- \\frac{Re^{2} p_{x} v^{2}}{6} + \\frac{Re^{2} u v^{2} v_{y}}{6} - \\frac{Re^{2} u_{t} v^{2}}{6} - \\frac{Re^{2} u_{y} v^{3}}{6} - \\frac{Re p_{tx}}{3} - \\frac{Re p_{xy} v}{6} - \\frac{Re p_{x} v_{y}}{3} + \\frac{Re p_{yy} u}{6} + \\frac{Re u^{2} v_{xy}}{6} + \\frac{Re u u_{y} v_{x}}{6} + \\frac{Re u v v_{yy}}{3} + \\frac{Re u v_{ty}}{2} + \\frac{Re u v_{y}^{2}}{2} - \\frac{Re u_{tt}}{3} - \\frac{Re u_{ty} v}{2} - \\frac{Re u_{y} v v_{y}}{3} - \\frac{Re u_{y} v_{t}}{3} - \\frac{Re v^{2} v_{xy}}{6} - \\frac{p_{xyy}}{6} + \\frac{u v_{yyy}}{6} + \\frac{u_{y} v_{yy}}{3} + \\frac{v v_{xyy}}{6} - \\frac{2 v_{xy} v_{y}}{3} + \\frac{v_{x} v_{yy}}{3} - \\frac{2 v_{xyyy}}{3 Re}\n",
      "\\big)\n"
     ]
    },
    {
     "data": {
      "text/latex": [
       "$\\displaystyle 0$"
      ],
      "text/plain": [
       "0"
      ]
     },
     "metadata": {},
     "output_type": "display_data"
    },
    {
     "name": "stdout",
     "output_type": "stream",
     "text": [
      "tau =>\n"
     ]
    },
    {
     "data": {
      "text/latex": [
       "$\\displaystyle 0$"
      ],
      "text/plain": [
       "0"
      ]
     },
     "metadata": {},
     "output_type": "display_data"
    },
    {
     "name": "stdout",
     "output_type": "stream",
     "text": [
      "h^2 =>\n"
     ]
    },
    {
     "data": {
      "text/latex": [
       "$\\displaystyle - \\frac{e^{- \\frac{4 t}{Re}} \\sin{\\left(2 x \\right)}}{4} + \\frac{2 e^{- \\frac{2 t}{Re}} \\sin{\\left(y \\right)} \\cos{\\left(x \\right)}}{3 Re}$"
      ],
      "text/plain": [
       "-exp(-4*t/Re)*sin(2*x)/4 + 2*exp(-2*t/Re)*sin(y)*cos(x)/(3*Re)"
      ]
     },
     "metadata": {},
     "output_type": "display_data"
    },
    {
     "name": "stdout",
     "output_type": "stream",
     "text": [
      "0\n",
      "+\\tau\\big(\n",
      "0\n",
      "\\big)\n",
      "+h^2\\big(\n",
      "- \\frac{e^{- \\frac{4 t}{Re}} \\sin{\\left(2 x \\right)}}{4} + \\frac{2 e^{- \\frac{2 t}{Re}} \\sin{\\left(y \\right)} \\cos{\\left(x \\right)}}{3 Re}\n",
      "\\big)\n"
     ]
    },
    {
     "data": {
      "text/latex": [
       "$\\displaystyle 0$"
      ],
      "text/plain": [
       "0"
      ]
     },
     "metadata": {},
     "output_type": "display_data"
    },
    {
     "name": "stdout",
     "output_type": "stream",
     "text": [
      "tau =>\n"
     ]
    },
    {
     "data": {
      "text/latex": [
       "$\\displaystyle 0$"
      ],
      "text/plain": [
       "0"
      ]
     },
     "metadata": {},
     "output_type": "display_data"
    },
    {
     "name": "stdout",
     "output_type": "stream",
     "text": [
      "h^2 =>\n"
     ]
    },
    {
     "data": {
      "text/latex": [
       "$\\displaystyle \\frac{\\left(Re \\left(Re^{3} - Re^{2} \\sqrt{Re^{2} + 16 \\pi^{2}} + 20 \\pi^{2} Re - 12 \\pi^{2} \\sqrt{Re^{2} + 16 \\pi^{2}}\\right) e^{x \\left(\\frac{Re}{2} + 7 \\sqrt{Re^{2} + 16 \\pi^{2}}\\right)} \\cos{\\left(2 \\pi y \\right)} + Re \\left(- 4 Re^{3} \\sin^{2}{\\left(2 \\pi y \\right)} - 3 Re^{3} \\cos^{2}{\\left(2 \\pi y \\right)} + 4 Re^{2} \\sqrt{Re^{2} + 16 \\pi^{2}} \\sin^{2}{\\left(2 \\pi y \\right)} + 3 Re^{2} \\sqrt{Re^{2} + 16 \\pi^{2}} \\cos^{2}{\\left(2 \\pi y \\right)} - 52 \\pi^{2} Re \\sin^{2}{\\left(2 \\pi y \\right)} - 36 \\pi^{2} Re \\cos^{2}{\\left(2 \\pi y \\right)} + 20 \\pi^{2} \\sqrt{Re^{2} + 16 \\pi^{2}} \\sin^{2}{\\left(2 \\pi y \\right)} + 12 \\pi^{2} \\sqrt{Re^{2} + 16 \\pi^{2}} \\cos^{2}{\\left(2 \\pi y \\right)}\\right) e^{x \\left(Re + \\frac{13 \\sqrt{Re^{2} + 16 \\pi^{2}}}{2}\\right)} + 128 \\pi^{4} e^{\\frac{x \\left(Re + 14 \\sqrt{Re^{2} + 16 \\pi^{2}}\\right)}{2}} \\cos{\\left(2 \\pi y \\right)}\\right) e^{- \\frac{15 x \\sqrt{Re^{2} + 16 \\pi^{2}}}{2}}}{12 Re}$"
      ],
      "text/plain": [
       "(Re*(Re**3 - Re**2*sqrt(Re**2 + 16*pi**2) + 20*pi**2*Re - 12*pi**2*sqrt(Re**2 + 16*pi**2))*exp(x*(Re/2 + 7*sqrt(Re**2 + 16*pi**2)))*cos(2*pi*y) + Re*(-4*Re**3*sin(2*pi*y)**2 - 3*Re**3*cos(2*pi*y)**2 + 4*Re**2*sqrt(Re**2 + 16*pi**2)*sin(2*pi*y)**2 + 3*Re**2*sqrt(Re**2 + 16*pi**2)*cos(2*pi*y)**2 - 52*pi**2*Re*sin(2*pi*y)**2 - 36*pi**2*Re*cos(2*pi*y)**2 + 20*pi**2*sqrt(Re**2 + 16*pi**2)*sin(2*pi*y)**2 + 12*pi**2*sqrt(Re**2 + 16*pi**2)*cos(2*pi*y)**2)*exp(x*(Re + 13*sqrt(Re**2 + 16*pi**2)/2)) + 128*pi**4*exp(x*(Re + 14*sqrt(Re**2 + 16*pi**2))/2)*cos(2*pi*y))*exp(-15*x*sqrt(Re**2 + 16*pi**2)/2)/(12*Re)"
      ]
     },
     "metadata": {},
     "output_type": "display_data"
    },
    {
     "name": "stdout",
     "output_type": "stream",
     "text": [
      "0\n",
      "+\\tau\\big(\n",
      "0\n",
      "\\big)\n",
      "+h^2\\big(\n",
      "\\frac{\\left(Re \\left(Re^{3} - Re^{2} \\sqrt{Re^{2} + 16 \\pi^{2}} + 20 \\pi^{2} Re - 12 \\pi^{2} \\sqrt{Re^{2} + 16 \\pi^{2}}\\right) e^{x \\left(\\frac{Re}{2} + 7 \\sqrt{Re^{2} + 16 \\pi^{2}}\\right)} \\cos{\\left(2 \\pi y \\right)} + Re \\left(- 4 Re^{3} \\sin^{2}{\\left(2 \\pi y \\right)} - 3 Re^{3} \\cos^{2}{\\left(2 \\pi y \\right)} + 4 Re^{2} \\sqrt{Re^{2} + 16 \\pi^{2}} \\sin^{2}{\\left(2 \\pi y \\right)} + 3 Re^{2} \\sqrt{Re^{2} + 16 \\pi^{2}} \\cos^{2}{\\left(2 \\pi y \\right)} - 52 \\pi^{2} Re \\sin^{2}{\\left(2 \\pi y \\right)} - 36 \\pi^{2} Re \\cos^{2}{\\left(2 \\pi y \\right)} + 20 \\pi^{2} \\sqrt{Re^{2} + 16 \\pi^{2}} \\sin^{2}{\\left(2 \\pi y \\right)} + 12 \\pi^{2} \\sqrt{Re^{2} + 16 \\pi^{2}} \\cos^{2}{\\left(2 \\pi y \\right)}\\right) e^{x \\left(Re + \\frac{13 \\sqrt{Re^{2} + 16 \\pi^{2}}}{2}\\right)} + 128 \\pi^{4} e^{\\frac{x \\left(Re + 14 \\sqrt{Re^{2} + 16 \\pi^{2}}\\right)}{2}} \\cos{\\left(2 \\pi y \\right)}\\right) e^{- \\frac{15 x \\sqrt{Re^{2} + 16 \\pi^{2}}}{2}}}{12 Re}\n",
      "\\big)\n"
     ]
    },
    {
     "data": {
      "text/latex": [
       "$\\displaystyle p_{y} + u v_{x} + v v_{y} + v_{t} - \\frac{v_{xx}}{Re} - \\frac{v_{yy}}{Re}$"
      ],
      "text/plain": [
       "p_{y} + u*v_{x} + v*v_{y} + v_{t} - v_{xx}/Re - v_{yy}/Re"
      ]
     },
     "metadata": {},
     "output_type": "display_data"
    },
    {
     "name": "stdout",
     "output_type": "stream",
     "text": [
      "tau =>\n"
     ]
    },
    {
     "data": {
      "text/latex": [
       "$\\displaystyle \\frac{p_{ty}}{2} + \\frac{u v_{tx}}{2} + \\frac{u_{t} v_{x}}{2} + \\frac{v v_{ty}}{2} + \\frac{v_{tt}}{2} + \\frac{v_{t} v_{y}}{2} - \\frac{v_{txx}}{2 Re} - \\frac{v_{tyy}}{2 Re}$"
      ],
      "text/plain": [
       "p_{ty}/2 + u*v_{tx}/2 + u_{t}*v_{x}/2 + v*v_{ty}/2 + v_{tt}/2 + v_{t}*v_{y}/2 - v_{txx}/(2*Re) - v_{tyy}/(2*Re)"
      ]
     },
     "metadata": {},
     "output_type": "display_data"
    },
    {
     "name": "stdout",
     "output_type": "stream",
     "text": [
      "h^2 =>\n"
     ]
    },
    {
     "data": {
      "text/latex": [
       "$\\displaystyle \\frac{p_{yyy}}{6} + \\frac{u v_{xxx}}{6} + \\frac{v v_{yyy}}{6} - \\frac{v_{xxxx}}{3 Re} - \\frac{v_{yyyy}}{3 Re}$"
      ],
      "text/plain": [
       "p_{yyy}/6 + u*v_{xxx}/6 + v*v_{yyy}/6 - v_{xxxx}/(3*Re) - v_{yyyy}/(3*Re)"
      ]
     },
     "metadata": {},
     "output_type": "display_data"
    },
    {
     "name": "stdout",
     "output_type": "stream",
     "text": [
      "-------------------------\n"
     ]
    },
    {
     "data": {
      "text/latex": [
       "$\\displaystyle p_{y} + u v_{x} + v v_{y} + v_{t} - \\frac{v_{xx}}{Re} - \\frac{v_{yy}}{Re}$"
      ],
      "text/plain": [
       "p_{y} + u*v_{x} + v*v_{y} + v_{t} - v_{xx}/Re - v_{yy}/Re"
      ]
     },
     "metadata": {},
     "output_type": "display_data"
    },
    {
     "name": "stdout",
     "output_type": "stream",
     "text": [
      "tau =>\n"
     ]
    },
    {
     "data": {
      "text/latex": [
       "$\\displaystyle 0$"
      ],
      "text/plain": [
       "0"
      ]
     },
     "metadata": {},
     "output_type": "display_data"
    },
    {
     "name": "stdout",
     "output_type": "stream",
     "text": [
      "h^2 =>\n"
     ]
    },
    {
     "data": {
      "text/latex": [
       "$\\displaystyle - \\frac{Re^{2} p_{y} u^{2}}{6} - \\frac{Re^{2} u^{3} v_{x}}{6} - \\frac{Re^{2} u^{2} v v_{y}}{6} - \\frac{Re^{2} u^{2} v_{t}}{6} - \\frac{Re p_{ty}}{3} - \\frac{Re p_{xy} u}{6} + Re p_{x} v_{x} - \\frac{Re p_{yy} v}{3} + \\frac{Re p_{y} v_{y}}{3} + \\frac{Re u^{2} v_{yy}}{6} - \\frac{Re u v v_{xy}}{2} - \\frac{Re u v_{tx}}{2} - \\frac{2 Re u v_{x} v_{y}}{3} + \\frac{2 Re u_{t} v_{x}}{3} + \\frac{2 Re u_{y} v v_{x}}{3} - \\frac{Re v^{2} v_{yy}}{3} - \\frac{2 Re v v_{ty}}{3} - \\frac{Re v_{tt}}{3} + \\frac{5 p_{yyy}}{6} + \\frac{u v_{xyy}}{2} + \\frac{4 u_{y} v_{xy}}{3} + \\frac{5 v v_{yyy}}{6} + \\frac{2 v_{tyy}}{3} + \\frac{2 v_{xy} v_{x}}{3} + 2 v_{yy} v_{y} - \\frac{2 v_{yyyy}}{3 Re}$"
      ],
      "text/plain": [
       "-Re**2*p_{y}*u**2/6 - Re**2*u**3*v_{x}/6 - Re**2*u**2*v*v_{y}/6 - Re**2*u**2*v_{t}/6 - Re*p_{ty}/3 - Re*p_{xy}*u/6 + Re*p_{x}*v_{x} - Re*p_{yy}*v/3 + Re*p_{y}*v_{y}/3 + Re*u**2*v_{yy}/6 - Re*u*v*v_{xy}/2 - Re*u*v_{tx}/2 - 2*Re*u*v_{x}*v_{y}/3 + 2*Re*u_{t}*v_{x}/3 + 2*Re*u_{y}*v*v_{x}/3 - Re*v**2*v_{yy}/3 - 2*Re*v*v_{ty}/3 - Re*v_{tt}/3 + 5*p_{yyy}/6 + u*v_{xyy}/2 + 4*u_{y}*v_{xy}/3 + 5*v*v_{yyy}/6 + 2*v_{tyy}/3 + 2*v_{xy}*v_{x}/3 + 2*v_{yy}*v_{y} - 2*v_{yyyy}/(3*Re)"
      ]
     },
     "metadata": {},
     "output_type": "display_data"
    },
    {
     "name": "stdout",
     "output_type": "stream",
     "text": [
      "p_{y} + u v_{x} + v v_{y} + v_{t} - \\frac{v_{xx}}{Re} - \\frac{v_{yy}}{Re}\n",
      "+\\tau\\big(\n",
      "0\n",
      "\\big)\n",
      "+h^2\\big(\n",
      "- \\frac{Re^{2} p_{y} u^{2}}{6} - \\frac{Re^{2} u^{3} v_{x}}{6} - \\frac{Re^{2} u^{2} v v_{y}}{6} - \\frac{Re^{2} u^{2} v_{t}}{6} - \\frac{Re p_{ty}}{3} - \\frac{Re p_{xy} u}{6} + Re p_{x} v_{x} - \\frac{Re p_{yy} v}{3} + \\frac{Re p_{y} v_{y}}{3} + \\frac{Re u^{2} v_{yy}}{6} - \\frac{Re u v v_{xy}}{2} - \\frac{Re u v_{tx}}{2} - \\frac{2 Re u v_{x} v_{y}}{3} + \\frac{2 Re u_{t} v_{x}}{3} + \\frac{2 Re u_{y} v v_{x}}{3} - \\frac{Re v^{2} v_{yy}}{3} - \\frac{2 Re v v_{ty}}{3} - \\frac{Re v_{tt}}{3} + \\frac{5 p_{yyy}}{6} + \\frac{u v_{xyy}}{2} + \\frac{4 u_{y} v_{xy}}{3} + \\frac{5 v v_{yyy}}{6} + \\frac{2 v_{tyy}}{3} + \\frac{2 v_{xy} v_{x}}{3} + 2 v_{yy} v_{y} - \\frac{2 v_{yyyy}}{3 Re}\n",
      "\\big)\n"
     ]
    },
    {
     "data": {
      "text/latex": [
       "$\\displaystyle 0$"
      ],
      "text/plain": [
       "0"
      ]
     },
     "metadata": {},
     "output_type": "display_data"
    },
    {
     "name": "stdout",
     "output_type": "stream",
     "text": [
      "tau =>\n"
     ]
    },
    {
     "data": {
      "text/latex": [
       "$\\displaystyle 0$"
      ],
      "text/plain": [
       "0"
      ]
     },
     "metadata": {},
     "output_type": "display_data"
    },
    {
     "name": "stdout",
     "output_type": "stream",
     "text": [
      "h^2 =>\n"
     ]
    },
    {
     "data": {
      "text/latex": [
       "$\\displaystyle - \\frac{e^{- \\frac{4 t}{Re}} \\sin{\\left(2 y \\right)}}{4} - \\frac{2 e^{- \\frac{2 t}{Re}} \\sin{\\left(x \\right)} \\cos{\\left(y \\right)}}{3 Re}$"
      ],
      "text/plain": [
       "-exp(-4*t/Re)*sin(2*y)/4 - 2*exp(-2*t/Re)*sin(x)*cos(y)/(3*Re)"
      ]
     },
     "metadata": {},
     "output_type": "display_data"
    },
    {
     "name": "stdout",
     "output_type": "stream",
     "text": [
      "0\n",
      "+\\tau\\big(\n",
      "0\n",
      "\\big)\n",
      "+h^2\\big(\n",
      "- \\frac{e^{- \\frac{4 t}{Re}} \\sin{\\left(2 y \\right)}}{4} - \\frac{2 e^{- \\frac{2 t}{Re}} \\sin{\\left(x \\right)} \\cos{\\left(y \\right)}}{3 Re}\n",
      "\\big)\n"
     ]
    },
    {
     "data": {
      "text/latex": [
       "$\\displaystyle 0$"
      ],
      "text/plain": [
       "0"
      ]
     },
     "metadata": {},
     "output_type": "display_data"
    },
    {
     "name": "stdout",
     "output_type": "stream",
     "text": [
      "tau =>\n"
     ]
    },
    {
     "data": {
      "text/latex": [
       "$\\displaystyle 0$"
      ],
      "text/plain": [
       "0"
      ]
     },
     "metadata": {},
     "output_type": "display_data"
    },
    {
     "name": "stdout",
     "output_type": "stream",
     "text": [
      "h^2 =>\n"
     ]
    },
    {
     "data": {
      "text/latex": [
       "$\\displaystyle \\frac{\\left(Re^{4} \\left(- Re + \\sqrt{Re^{2} + 16 \\pi^{2}}\\right) e^{x \\left(\\frac{Re}{2} + 6 \\sqrt{Re^{2} + 16 \\pi^{2}}\\right)} + Re^{4} \\left(- Re + \\sqrt{Re^{2} + 16 \\pi^{2}}\\right) e^{x \\left(Re + \\frac{11 \\sqrt{Re^{2} + 16 \\pi^{2}}}{2}\\right)} \\cos{\\left(2 \\pi y \\right)} + 4 \\pi^{2} Re \\left(- 5 Re^{2} + 3 Re \\sqrt{Re^{2} + 16 \\pi^{2}} - 16 \\pi^{2}\\right) e^{x \\left(Re + \\frac{11 \\sqrt{Re^{2} + 16 \\pi^{2}}}{2}\\right)} \\cos{\\left(2 \\pi y \\right)} + 8 \\pi^{2} Re \\left(- 3 Re^{2} + 2 Re \\sqrt{Re^{2} + 16 \\pi^{2}} - 20 \\pi^{2}\\right) e^{x \\left(\\frac{Re}{2} + 6 \\sqrt{Re^{2} + 16 \\pi^{2}}\\right)} + 64 \\pi^{4} \\sqrt{Re^{2} + 16 \\pi^{2}} e^{\\frac{x \\left(Re + 12 \\sqrt{Re^{2} + 16 \\pi^{2}}\\right)}{2}}\\right) e^{- \\frac{13 x \\sqrt{Re^{2} + 16 \\pi^{2}}}{2}} \\sin{\\left(2 \\pi y \\right)}}{24 \\pi Re}$"
      ],
      "text/plain": [
       "(Re**4*(-Re + sqrt(Re**2 + 16*pi**2))*exp(x*(Re/2 + 6*sqrt(Re**2 + 16*pi**2))) + Re**4*(-Re + sqrt(Re**2 + 16*pi**2))*exp(x*(Re + 11*sqrt(Re**2 + 16*pi**2)/2))*cos(2*pi*y) + 4*pi**2*Re*(-5*Re**2 + 3*Re*sqrt(Re**2 + 16*pi**2) - 16*pi**2)*exp(x*(Re + 11*sqrt(Re**2 + 16*pi**2)/2))*cos(2*pi*y) + 8*pi**2*Re*(-3*Re**2 + 2*Re*sqrt(Re**2 + 16*pi**2) - 20*pi**2)*exp(x*(Re/2 + 6*sqrt(Re**2 + 16*pi**2))) + 64*pi**4*sqrt(Re**2 + 16*pi**2)*exp(x*(Re + 12*sqrt(Re**2 + 16*pi**2))/2))*exp(-13*x*sqrt(Re**2 + 16*pi**2)/2)*sin(2*pi*y)/(24*pi*Re)"
      ]
     },
     "metadata": {},
     "output_type": "display_data"
    },
    {
     "name": "stdout",
     "output_type": "stream",
     "text": [
      "0\n",
      "+\\tau\\big(\n",
      "0\n",
      "\\big)\n",
      "+h^2\\big(\n",
      "\\frac{\\left(Re^{4} \\left(- Re + \\sqrt{Re^{2} + 16 \\pi^{2}}\\right) e^{x \\left(\\frac{Re}{2} + 6 \\sqrt{Re^{2} + 16 \\pi^{2}}\\right)} + Re^{4} \\left(- Re + \\sqrt{Re^{2} + 16 \\pi^{2}}\\right) e^{x \\left(Re + \\frac{11 \\sqrt{Re^{2} + 16 \\pi^{2}}}{2}\\right)} \\cos{\\left(2 \\pi y \\right)} + 4 \\pi^{2} Re \\left(- 5 Re^{2} + 3 Re \\sqrt{Re^{2} + 16 \\pi^{2}} - 16 \\pi^{2}\\right) e^{x \\left(Re + \\frac{11 \\sqrt{Re^{2} + 16 \\pi^{2}}}{2}\\right)} \\cos{\\left(2 \\pi y \\right)} + 8 \\pi^{2} Re \\left(- 3 Re^{2} + 2 Re \\sqrt{Re^{2} + 16 \\pi^{2}} - 20 \\pi^{2}\\right) e^{x \\left(\\frac{Re}{2} + 6 \\sqrt{Re^{2} + 16 \\pi^{2}}\\right)} + 64 \\pi^{4} \\sqrt{Re^{2} + 16 \\pi^{2}} e^{\\frac{x \\left(Re + 12 \\sqrt{Re^{2} + 16 \\pi^{2}}\\right)}{2}}\\right) e^{- \\frac{13 x \\sqrt{Re^{2} + 16 \\pi^{2}}}{2}} \\sin{\\left(2 \\pi y \\right)}}{24 \\pi Re}\n",
      "\\big)\n"
     ]
    },
    {
     "data": {
      "text/latex": [
       "$\\displaystyle p_{xx} + p_{yy} + 2 u u_{xx} + 2 u v_{xy} + 2 u_{xy} v + 2 u_{x}^{2} + 2 u_{x} v_{y} + 2 u_{y} v_{x} + 2 v v_{yy} + 2 v_{y}^{2}$"
      ],
      "text/plain": [
       "p_{xx} + p_{yy} + 2*u*u_{xx} + 2*u*v_{xy} + 2*u_{xy}*v + 2*u_{x}**2 + 2*u_{x}*v_{y} + 2*u_{y}*v_{x} + 2*v*v_{yy} + 2*v_{y}**2"
      ]
     },
     "metadata": {},
     "output_type": "display_data"
    },
    {
     "name": "stdout",
     "output_type": "stream",
     "text": [
      "tau =>\n"
     ]
    },
    {
     "data": {
      "text/latex": [
       "$\\displaystyle 0$"
      ],
      "text/plain": [
       "0"
      ]
     },
     "metadata": {},
     "output_type": "display_data"
    },
    {
     "name": "stdout",
     "output_type": "stream",
     "text": [
      "h^2 =>\n"
     ]
    },
    {
     "data": {
      "text/latex": [
       "$\\displaystyle \\frac{p_{xxxx}}{3} + \\frac{p_{yyyy}}{3} + \\frac{2 u u_{xxxx}}{3} + \\frac{u v_{xxxy}}{3} + \\frac{u v_{xyyy}}{3} + \\frac{u_{xxxy} v}{3} + \\frac{8 u_{xxx} u_{x}}{3} + \\frac{u_{xxx} v_{y}}{3} + u_{xxy} v_{x} + 2 u_{xx}^{2} + u_{xx} v_{xy} + \\frac{u_{xyyy} v}{3} + u_{xyy} v_{y} + u_{xy} v_{xx} + u_{xy} v_{yy} + u_{x} v_{xxy} + \\frac{u_{x} v_{yyy}}{3} + \\frac{u_{yyy} v_{x}}{3} + u_{yy} v_{xy} + \\frac{u_{y} v_{xxx}}{3} + u_{y} v_{xyy} + \\frac{2 v v_{yyyy}}{3} + \\frac{8 v_{yyy} v_{y}}{3} + 2 v_{yy}^{2}$"
      ],
      "text/plain": [
       "p_{xxxx}/3 + p_{yyyy}/3 + 2*u*u_{xxxx}/3 + u*v_{xxxy}/3 + u*v_{xyyy}/3 + u_{xxxy}*v/3 + 8*u_{xxx}*u_{x}/3 + u_{xxx}*v_{y}/3 + u_{xxy}*v_{x} + 2*u_{xx}**2 + u_{xx}*v_{xy} + u_{xyyy}*v/3 + u_{xyy}*v_{y} + u_{xy}*v_{xx} + u_{xy}*v_{yy} + u_{x}*v_{xxy} + u_{x}*v_{yyy}/3 + u_{yyy}*v_{x}/3 + u_{yy}*v_{xy} + u_{y}*v_{xxx}/3 + u_{y}*v_{xyy} + 2*v*v_{yyyy}/3 + 8*v_{yyy}*v_{y}/3 + 2*v_{yy}**2"
      ]
     },
     "metadata": {},
     "output_type": "display_data"
    },
    {
     "name": "stdout",
     "output_type": "stream",
     "text": [
      "-------------------------\n"
     ]
    },
    {
     "data": {
      "text/latex": [
       "$\\displaystyle p_{xx} + p_{yy} + 2 u u_{xx} + 2 u v_{xy} + 2 u_{xy} v + 2 u_{x}^{2} + 2 u_{x} v_{y} + 2 u_{y} v_{x} + 2 v v_{yy} + 2 v_{y}^{2}$"
      ],
      "text/plain": [
       "p_{xx} + p_{yy} + 2*u*u_{xx} + 2*u*v_{xy} + 2*u_{xy}*v + 2*u_{x}**2 + 2*u_{x}*v_{y} + 2*u_{y}*v_{x} + 2*v*v_{yy} + 2*v_{y}**2"
      ]
     },
     "metadata": {},
     "output_type": "display_data"
    },
    {
     "name": "stdout",
     "output_type": "stream",
     "text": [
      "tau =>\n"
     ]
    },
    {
     "data": {
      "text/latex": [
       "$\\displaystyle 0$"
      ],
      "text/plain": [
       "0"
      ]
     },
     "metadata": {},
     "output_type": "display_data"
    },
    {
     "name": "stdout",
     "output_type": "stream",
     "text": [
      "h^2 =>\n"
     ]
    },
    {
     "data": {
      "text/latex": [
       "$\\displaystyle \\frac{2 Re^{2} p_{x} v v_{x}}{3} - \\frac{Re^{2} p_{yy} u^{2}}{3} - \\frac{2 Re^{2} p_{y} u u_{y}}{3} - \\frac{Re^{2} u^{3} v_{xy}}{3} - Re^{2} u^{2} u_{y} v_{x} - \\frac{Re^{2} u^{2} v v_{yy}}{3} - \\frac{Re^{2} u^{2} v_{ty}}{3} - \\frac{Re^{2} u^{2} v_{y}^{2}}{3} - \\frac{2 Re^{2} u u_{y} v v_{y}}{3} - \\frac{2 Re^{2} u u_{y} v_{t}}{3} - \\frac{2 Re^{2} u v v_{x} v_{y}}{3} + \\frac{2 Re^{2} u_{t} v v_{x}}{3} + \\frac{2 Re^{2} u_{y} v^{2} v_{x}}{3} - \\frac{Re p_{xyy} u}{3} - \\frac{Re p_{xy} u_{y}}{3} + Re p_{xy} v_{x} + \\frac{7 Re p_{x} v_{xy}}{3} - \\frac{Re p_{yyy} v}{3} + \\frac{Re p_{y} v_{yy}}{3} + \\frac{Re u^{2} v_{yyy}}{3} + \\frac{2 Re u u_{y} v_{yy}}{3} - \\frac{2 Re u v v_{xyy}}{3} - \\frac{Re u v_{txy}}{3} - \\frac{8 Re u v_{xy} v_{y}}{3} - \\frac{2 Re u v_{x} v_{yy}}{3} + Re u_{ty} v_{x} + \\frac{7 Re u_{t} v_{xy}}{3} + \\frac{4 Re u_{y} v v_{xy}}{3} - \\frac{Re u_{y} v_{tx}}{3} - \\frac{Re v^{2} v_{yyy}}{3} - \\frac{Re v v_{tyy}}{3} + \\frac{2 Re v v_{xy} v_{x}}{3} - \\frac{2 Re v v_{yy} v_{y}}{3} + \\frac{Re v_{t} v_{yy}}{3} + \\frac{2 p_{yyyy}}{3} + \\frac{2 u v_{xyyy}}{3} + 2 u_{y} v_{xyy} + \\frac{2 v v_{yyyy}}{3} + \\frac{2 v_{xyy} v_{x}}{3} + 2 v_{xy}^{2} + \\frac{8 v_{yyy} v_{y}}{3} + 2 v_{yy}^{2}$"
      ],
      "text/plain": [
       "2*Re**2*p_{x}*v*v_{x}/3 - Re**2*p_{yy}*u**2/3 - 2*Re**2*p_{y}*u*u_{y}/3 - Re**2*u**3*v_{xy}/3 - Re**2*u**2*u_{y}*v_{x} - Re**2*u**2*v*v_{yy}/3 - Re**2*u**2*v_{ty}/3 - Re**2*u**2*v_{y}**2/3 - 2*Re**2*u*u_{y}*v*v_{y}/3 - 2*Re**2*u*u_{y}*v_{t}/3 - 2*Re**2*u*v*v_{x}*v_{y}/3 + 2*Re**2*u_{t}*v*v_{x}/3 + 2*Re**2*u_{y}*v**2*v_{x}/3 - Re*p_{xyy}*u/3 - Re*p_{xy}*u_{y}/3 + Re*p_{xy}*v_{x} + 7*Re*p_{x}*v_{xy}/3 - Re*p_{yyy}*v/3 + Re*p_{y}*v_{yy}/3 + Re*u**2*v_{yyy}/3 + 2*Re*u*u_{y}*v_{yy}/3 - 2*Re*u*v*v_{xyy}/3 - Re*u*v_{txy}/3 - 8*Re*u*v_{xy}*v_{y}/3 - 2*Re*u*v_{x}*v_{yy}/3 + Re*u_{ty}*v_{x} + 7*Re*u_{t}*v_{xy}/3 + 4*Re*u_{y}*v*v_{xy}/3 - Re*u_{y}*v_{tx}/3 - Re*v**2*v_{yyy}/3 - Re*v*v_{tyy}/3 + 2*Re*v*v_{xy}*v_{x}/3 - 2*Re*v*v_{yy}*v_{y}/3 + Re*v_{t}*v_{yy}/3 + 2*p_{yyyy}/3 + 2*u*v_{xyyy}/3 + 2*u_{y}*v_{xyy} + 2*v*v_{yyyy}/3 + 2*v_{xyy}*v_{x}/3 + 2*v_{xy}**2 + 8*v_{yyy}*v_{y}/3 + 2*v_{yy}**2"
      ]
     },
     "metadata": {},
     "output_type": "display_data"
    },
    {
     "name": "stdout",
     "output_type": "stream",
     "text": [
      "p_{xx} + p_{yy} + 2 u u_{xx} + 2 u v_{xy} + 2 u_{xy} v + 2 u_{x}^{2} + 2 u_{x} v_{y} + 2 u_{y} v_{x} + 2 v v_{yy} + 2 v_{y}^{2}\n",
      "+\\tau\\big(\n",
      "0\n",
      "\\big)\n",
      "+h^2\\big(\n",
      "\\frac{2 Re^{2} p_{x} v v_{x}}{3} - \\frac{Re^{2} p_{yy} u^{2}}{3} - \\frac{2 Re^{2} p_{y} u u_{y}}{3} - \\frac{Re^{2} u^{3} v_{xy}}{3} - Re^{2} u^{2} u_{y} v_{x} - \\frac{Re^{2} u^{2} v v_{yy}}{3} - \\frac{Re^{2} u^{2} v_{ty}}{3} - \\frac{Re^{2} u^{2} v_{y}^{2}}{3} - \\frac{2 Re^{2} u u_{y} v v_{y}}{3} - \\frac{2 Re^{2} u u_{y} v_{t}}{3} - \\frac{2 Re^{2} u v v_{x} v_{y}}{3} + \\frac{2 Re^{2} u_{t} v v_{x}}{3} + \\frac{2 Re^{2} u_{y} v^{2} v_{x}}{3} - \\frac{Re p_{xyy} u}{3} - \\frac{Re p_{xy} u_{y}}{3} + Re p_{xy} v_{x} + \\frac{7 Re p_{x} v_{xy}}{3} - \\frac{Re p_{yyy} v}{3} + \\frac{Re p_{y} v_{yy}}{3} + \\frac{Re u^{2} v_{yyy}}{3} + \\frac{2 Re u u_{y} v_{yy}}{3} - \\frac{2 Re u v v_{xyy}}{3} - \\frac{Re u v_{txy}}{3} - \\frac{8 Re u v_{xy} v_{y}}{3} - \\frac{2 Re u v_{x} v_{yy}}{3} + Re u_{ty} v_{x} + \\frac{7 Re u_{t} v_{xy}}{3} + \\frac{4 Re u_{y} v v_{xy}}{3} - \\frac{Re u_{y} v_{tx}}{3} - \\frac{Re v^{2} v_{yyy}}{3} - \\frac{Re v v_{tyy}}{3} + \\frac{2 Re v v_{xy} v_{x}}{3} - \\frac{2 Re v v_{yy} v_{y}}{3} + \\frac{Re v_{t} v_{yy}}{3} + \\frac{2 p_{yyyy}}{3} + \\frac{2 u v_{xyyy}}{3} + 2 u_{y} v_{xyy} + \\frac{2 v v_{yyyy}}{3} + \\frac{2 v_{xyy} v_{x}}{3} + 2 v_{xy}^{2} + \\frac{8 v_{yyy} v_{y}}{3} + 2 v_{yy}^{2}\n",
      "\\big)\n"
     ]
    },
    {
     "data": {
      "text/latex": [
       "$\\displaystyle 0$"
      ],
      "text/plain": [
       "0"
      ]
     },
     "metadata": {},
     "output_type": "display_data"
    },
    {
     "name": "stdout",
     "output_type": "stream",
     "text": [
      "tau =>\n"
     ]
    },
    {
     "data": {
      "text/latex": [
       "$\\displaystyle 0$"
      ],
      "text/plain": [
       "0"
      ]
     },
     "metadata": {},
     "output_type": "display_data"
    },
    {
     "name": "stdout",
     "output_type": "stream",
     "text": [
      "h^2 =>\n"
     ]
    },
    {
     "data": {
      "text/latex": [
       "$\\displaystyle 0$"
      ],
      "text/plain": [
       "0"
      ]
     },
     "metadata": {},
     "output_type": "display_data"
    },
    {
     "name": "stdout",
     "output_type": "stream",
     "text": [
      "0\n",
      "+\\tau\\big(\n",
      "0\n",
      "\\big)\n",
      "+h^2\\big(\n",
      "0\n",
      "\\big)\n"
     ]
    },
    {
     "data": {
      "text/latex": [
       "$\\displaystyle 0$"
      ],
      "text/plain": [
       "0"
      ]
     },
     "metadata": {},
     "output_type": "display_data"
    },
    {
     "name": "stdout",
     "output_type": "stream",
     "text": [
      "tau =>\n"
     ]
    },
    {
     "data": {
      "text/latex": [
       "$\\displaystyle 0$"
      ],
      "text/plain": [
       "0"
      ]
     },
     "metadata": {},
     "output_type": "display_data"
    },
    {
     "name": "stdout",
     "output_type": "stream",
     "text": [
      "h^2 =>\n"
     ]
    },
    {
     "data": {
      "text/latex": [
       "$\\displaystyle \\frac{\\left(- Re^{4} + Re^{3} \\sqrt{Re^{2} + 16 \\pi^{2}} - 20 \\pi^{2} Re^{2} + 12 \\pi^{2} Re \\sqrt{Re^{2} + 16 \\pi^{2}} - 64 \\pi^{4}\\right) e^{\\frac{x \\left(Re - \\sqrt{Re^{2} + 16 \\pi^{2}}\\right)}{2}} \\cos{\\left(2 \\pi y \\right)}}{6}$"
      ],
      "text/plain": [
       "(-Re**4 + Re**3*sqrt(Re**2 + 16*pi**2) - 20*pi**2*Re**2 + 12*pi**2*Re*sqrt(Re**2 + 16*pi**2) - 64*pi**4)*exp(x*(Re - sqrt(Re**2 + 16*pi**2))/2)*cos(2*pi*y)/6"
      ]
     },
     "metadata": {},
     "output_type": "display_data"
    },
    {
     "name": "stdout",
     "output_type": "stream",
     "text": [
      "0\n",
      "+\\tau\\big(\n",
      "0\n",
      "\\big)\n",
      "+h^2\\big(\n",
      "\\frac{\\left(- Re^{4} + Re^{3} \\sqrt{Re^{2} + 16 \\pi^{2}} - 20 \\pi^{2} Re^{2} + 12 \\pi^{2} Re \\sqrt{Re^{2} + 16 \\pi^{2}} - 64 \\pi^{4}\\right) e^{\\frac{x \\left(Re - \\sqrt{Re^{2} + 16 \\pi^{2}}\\right)}{2}} \\cos{\\left(2 \\pi y \\right)}}{6}\n",
      "\\big)\n"
     ]
    },
    {
     "data": {
      "text/latex": [
       "$\\displaystyle 0$"
      ],
      "text/plain": [
       "0"
      ]
     },
     "metadata": {},
     "output_type": "display_data"
    },
    {
     "name": "stdout",
     "output_type": "stream",
     "text": [
      "tau =>\n"
     ]
    },
    {
     "data": {
      "text/latex": [
       "$\\displaystyle 0$"
      ],
      "text/plain": [
       "0"
      ]
     },
     "metadata": {},
     "output_type": "display_data"
    },
    {
     "name": "stdout",
     "output_type": "stream",
     "text": [
      "h^2 =>\n"
     ]
    },
    {
     "data": {
      "text/latex": [
       "$\\displaystyle 0$"
      ],
      "text/plain": [
       "0"
      ]
     },
     "metadata": {},
     "output_type": "display_data"
    },
    {
     "name": "stdout",
     "output_type": "stream",
     "text": [
      "0\n",
      "+\\tau\\big(\n",
      "0\n",
      "\\big)\n",
      "+h^2\\big(\n",
      "0\n",
      "\\big)\n"
     ]
    }
   ],
   "source": [
    "F1 = clip(Dx(u) + Dy(v))\n",
    "F2 = clip(Dt(u) + It(u*Dx(u) + v*Dy(u) + Dx(p) - DD2(u)/Re))\n",
    "F3 = clip(Dt(v) + It(u*Dx(v) + v*Dy(v) + Dy(p) - DD2(v)/Re))\n",
    "F4 = clip(Dx(Dx(u**2) + Dy(v*u) + Dx(p)) + Dy(Dx(u*v) + Dy(v**2) + Dy(p)))\n",
    "\n",
    "build(F1, F2, F3, F4)"
   ]
  },
  {
   "cell_type": "code",
   "execution_count": 32,
   "metadata": {},
   "outputs": [
    {
     "data": {
      "text/latex": [
       "$\\displaystyle u_{x} + v_{y}$"
      ],
      "text/plain": [
       "u_{x} + v_{y}"
      ]
     },
     "metadata": {},
     "output_type": "display_data"
    },
    {
     "name": "stdout",
     "output_type": "stream",
     "text": [
      "tau =>\n"
     ]
    },
    {
     "data": {
      "text/latex": [
       "$\\displaystyle 0$"
      ],
      "text/plain": [
       "0"
      ]
     },
     "metadata": {},
     "output_type": "display_data"
    },
    {
     "name": "stdout",
     "output_type": "stream",
     "text": [
      "h^2 =>\n"
     ]
    },
    {
     "data": {
      "text/latex": [
       "$\\displaystyle \\frac{u_{xxx}}{6} + \\frac{v_{yyy}}{6}$"
      ],
      "text/plain": [
       "u_{xxx}/6 + v_{yyy}/6"
      ]
     },
     "metadata": {},
     "output_type": "display_data"
    },
    {
     "name": "stdout",
     "output_type": "stream",
     "text": [
      "-------------------------\n"
     ]
    },
    {
     "data": {
      "text/latex": [
       "$\\displaystyle u_{x} + v_{y}$"
      ],
      "text/plain": [
       "u_{x} + v_{y}"
      ]
     },
     "metadata": {},
     "output_type": "display_data"
    },
    {
     "name": "stdout",
     "output_type": "stream",
     "text": [
      "tau =>\n"
     ]
    },
    {
     "data": {
      "text/latex": [
       "$\\displaystyle 0$"
      ],
      "text/plain": [
       "0"
      ]
     },
     "metadata": {},
     "output_type": "display_data"
    },
    {
     "name": "stdout",
     "output_type": "stream",
     "text": [
      "h^2 =>\n"
     ]
    },
    {
     "data": {
      "text/latex": [
       "$\\displaystyle - \\frac{Re p_{yy}}{6} - \\frac{Re u v_{xy}}{6} - \\frac{Re u_{y} v_{x}}{6} - \\frac{Re v v_{yy}}{6} - \\frac{Re v_{ty}}{6} - \\frac{Re v_{y}^{2}}{6} + \\frac{v_{yyy}}{3}$"
      ],
      "text/plain": [
       "-Re*p_{yy}/6 - Re*u*v_{xy}/6 - Re*u_{y}*v_{x}/6 - Re*v*v_{yy}/6 - Re*v_{ty}/6 - Re*v_{y}**2/6 + v_{yyy}/3"
      ]
     },
     "metadata": {},
     "output_type": "display_data"
    },
    {
     "name": "stdout",
     "output_type": "stream",
     "text": [
      "u_{x} + v_{y}\n",
      "+\\tau\\big(\n",
      "0\n",
      "\\big)\n",
      "+h^2\\big(\n",
      "- \\frac{Re p_{yy}}{6} - \\frac{Re u v_{xy}}{6} - \\frac{Re u_{y} v_{x}}{6} - \\frac{Re v v_{yy}}{6} - \\frac{Re v_{ty}}{6} - \\frac{Re v_{y}^{2}}{6} + \\frac{v_{yyy}}{3}\n",
      "\\big)\n"
     ]
    },
    {
     "data": {
      "text/latex": [
       "$\\displaystyle 0$"
      ],
      "text/plain": [
       "0"
      ]
     },
     "metadata": {},
     "output_type": "display_data"
    },
    {
     "name": "stdout",
     "output_type": "stream",
     "text": [
      "tau =>\n"
     ]
    },
    {
     "data": {
      "text/latex": [
       "$\\displaystyle 0$"
      ],
      "text/plain": [
       "0"
      ]
     },
     "metadata": {},
     "output_type": "display_data"
    },
    {
     "name": "stdout",
     "output_type": "stream",
     "text": [
      "h^2 =>\n"
     ]
    },
    {
     "data": {
      "text/latex": [
       "$\\displaystyle 0$"
      ],
      "text/plain": [
       "0"
      ]
     },
     "metadata": {},
     "output_type": "display_data"
    },
    {
     "name": "stdout",
     "output_type": "stream",
     "text": [
      "0\n",
      "+\\tau\\big(\n",
      "0\n",
      "\\big)\n",
      "+h^2\\big(\n",
      "0\n",
      "\\big)\n"
     ]
    },
    {
     "data": {
      "text/latex": [
       "$\\displaystyle 0$"
      ],
      "text/plain": [
       "0"
      ]
     },
     "metadata": {},
     "output_type": "display_data"
    },
    {
     "name": "stdout",
     "output_type": "stream",
     "text": [
      "tau =>\n"
     ]
    },
    {
     "data": {
      "text/latex": [
       "$\\displaystyle 0$"
      ],
      "text/plain": [
       "0"
      ]
     },
     "metadata": {},
     "output_type": "display_data"
    },
    {
     "name": "stdout",
     "output_type": "stream",
     "text": [
      "h^2 =>\n"
     ]
    },
    {
     "data": {
      "text/latex": [
       "$\\displaystyle \\frac{\\left(- Re^{3} + Re^{2} \\sqrt{Re^{2} + 16 \\pi^{2}} - 16 \\pi^{2} Re + 8 \\pi^{2} \\sqrt{Re^{2} + 16 \\pi^{2}}\\right) e^{\\frac{x \\left(Re - \\sqrt{Re^{2} + 16 \\pi^{2}}\\right)}{2}} \\cos{\\left(2 \\pi y \\right)}}{12}$"
      ],
      "text/plain": [
       "(-Re**3 + Re**2*sqrt(Re**2 + 16*pi**2) - 16*pi**2*Re + 8*pi**2*sqrt(Re**2 + 16*pi**2))*exp(x*(Re - sqrt(Re**2 + 16*pi**2))/2)*cos(2*pi*y)/12"
      ]
     },
     "metadata": {},
     "output_type": "display_data"
    },
    {
     "name": "stdout",
     "output_type": "stream",
     "text": [
      "0\n",
      "+\\tau\\big(\n",
      "0\n",
      "\\big)\n",
      "+h^2\\big(\n",
      "\\frac{\\left(- Re^{3} + Re^{2} \\sqrt{Re^{2} + 16 \\pi^{2}} - 16 \\pi^{2} Re + 8 \\pi^{2} \\sqrt{Re^{2} + 16 \\pi^{2}}\\right) e^{\\frac{x \\left(Re - \\sqrt{Re^{2} + 16 \\pi^{2}}\\right)}{2}} \\cos{\\left(2 \\pi y \\right)}}{12}\n",
      "\\big)\n"
     ]
    },
    {
     "data": {
      "text/latex": [
       "$\\displaystyle p_{x} + 2 u u_{x} + u v_{y} + u_{t} + u_{y} v - \\frac{u_{xx}}{Re} - \\frac{u_{yy}}{Re}$"
      ],
      "text/plain": [
       "p_{x} + 2*u*u_{x} + u*v_{y} + u_{t} + u_{y}*v - u_{xx}/Re - u_{yy}/Re"
      ]
     },
     "metadata": {},
     "output_type": "display_data"
    },
    {
     "name": "stdout",
     "output_type": "stream",
     "text": [
      "tau =>\n"
     ]
    },
    {
     "data": {
      "text/latex": [
       "$\\displaystyle \\frac{p_{tx}}{2} + u u_{tx} + \\frac{u v_{ty}}{2} + \\frac{u_{tt}}{2} + \\frac{u_{ty} v}{2} + u_{t} u_{x} + \\frac{u_{t} v_{y}}{2} + \\frac{u_{y} v_{t}}{2} - \\frac{u_{txx}}{2 Re} - \\frac{u_{tyy}}{2 Re}$"
      ],
      "text/plain": [
       "p_{tx}/2 + u*u_{tx} + u*v_{ty}/2 + u_{tt}/2 + u_{ty}*v/2 + u_{t}*u_{x} + u_{t}*v_{y}/2 + u_{y}*v_{t}/2 - u_{txx}/(2*Re) - u_{tyy}/(2*Re)"
      ]
     },
     "metadata": {},
     "output_type": "display_data"
    },
    {
     "name": "stdout",
     "output_type": "stream",
     "text": [
      "h^2 =>\n"
     ]
    },
    {
     "data": {
      "text/latex": [
       "$\\displaystyle \\frac{p_{xxx}}{6} + \\frac{u u_{xxx}}{3} + \\frac{u v_{yyy}}{6} + u_{xx} u_{x} + \\frac{u_{yyy} v}{6} + \\frac{u_{yy} v_{y}}{2} + \\frac{u_{y} v_{yy}}{2} - \\frac{u_{xxxx}}{12 Re} - \\frac{u_{yyyy}}{12 Re}$"
      ],
      "text/plain": [
       "p_{xxx}/6 + u*u_{xxx}/3 + u*v_{yyy}/6 + u_{xx}*u_{x} + u_{yyy}*v/6 + u_{yy}*v_{y}/2 + u_{y}*v_{yy}/2 - u_{xxxx}/(12*Re) - u_{yyyy}/(12*Re)"
      ]
     },
     "metadata": {},
     "output_type": "display_data"
    },
    {
     "name": "stdout",
     "output_type": "stream",
     "text": [
      "-------------------------\n"
     ]
    },
    {
     "data": {
      "text/latex": [
       "$\\displaystyle p_{x} + 2 u u_{x} + u v_{y} + u_{t} + u_{y} v - \\frac{u_{xx}}{Re} - \\frac{u_{yy}}{Re}$"
      ],
      "text/plain": [
       "p_{x} + 2*u*u_{x} + u*v_{y} + u_{t} + u_{y}*v - u_{xx}/Re - u_{yy}/Re"
      ]
     },
     "metadata": {},
     "output_type": "display_data"
    },
    {
     "name": "stdout",
     "output_type": "stream",
     "text": [
      "tau =>\n"
     ]
    },
    {
     "data": {
      "text/latex": [
       "$\\displaystyle 0$"
      ],
      "text/plain": [
       "0"
      ]
     },
     "metadata": {},
     "output_type": "display_data"
    },
    {
     "name": "stdout",
     "output_type": "stream",
     "text": [
      "h^2 =>\n"
     ]
    },
    {
     "data": {
      "text/latex": [
       "$\\displaystyle \\frac{Re^{2} p_{x} v^{2}}{12} - \\frac{Re^{2} u v^{2} v_{y}}{12} + \\frac{Re^{2} u_{t} v^{2}}{12} + \\frac{Re^{2} u_{y} v^{3}}{12} - \\frac{Re p_{tx}}{12} + \\frac{Re p_{xy} v}{12} + \\frac{5 Re p_{x} v_{y}}{12} - \\frac{Re p_{yy} u}{4} - \\frac{Re p_{y} u_{y}}{4} - \\frac{Re u^{2} v_{xy}}{4} - \\frac{Re u u_{y} v_{x}}{2} - \\frac{Re u v v_{yy}}{3} - \\frac{Re u v_{ty}}{6} - \\frac{2 Re u v_{y}^{2}}{3} - \\frac{Re u_{tt}}{12} + \\frac{Re u_{t} v_{y}}{2} + \\frac{Re u_{y} v v_{y}}{6} - \\frac{Re u_{y} v_{t}}{3} + \\frac{Re v^{2} v_{xy}}{12} - \\frac{p_{xyy}}{6} + \\frac{u v_{yyy}}{2} + \\frac{5 u_{y} v_{yy}}{6} + \\frac{v v_{xyy}}{6} + \\frac{5 v_{xy} v_{y}}{6} + \\frac{v_{x} v_{yy}}{3} - \\frac{v_{xyyy}}{6 Re}$"
      ],
      "text/plain": [
       "Re**2*p_{x}*v**2/12 - Re**2*u*v**2*v_{y}/12 + Re**2*u_{t}*v**2/12 + Re**2*u_{y}*v**3/12 - Re*p_{tx}/12 + Re*p_{xy}*v/12 + 5*Re*p_{x}*v_{y}/12 - Re*p_{yy}*u/4 - Re*p_{y}*u_{y}/4 - Re*u**2*v_{xy}/4 - Re*u*u_{y}*v_{x}/2 - Re*u*v*v_{yy}/3 - Re*u*v_{ty}/6 - 2*Re*u*v_{y}**2/3 - Re*u_{tt}/12 + Re*u_{t}*v_{y}/2 + Re*u_{y}*v*v_{y}/6 - Re*u_{y}*v_{t}/3 + Re*v**2*v_{xy}/12 - p_{xyy}/6 + u*v_{yyy}/2 + 5*u_{y}*v_{yy}/6 + v*v_{xyy}/6 + 5*v_{xy}*v_{y}/6 + v_{x}*v_{yy}/3 - v_{xyyy}/(6*Re)"
      ]
     },
     "metadata": {},
     "output_type": "display_data"
    },
    {
     "name": "stdout",
     "output_type": "stream",
     "text": [
      "p_{x} + 2 u u_{x} + u v_{y} + u_{t} + u_{y} v - \\frac{u_{xx}}{Re} - \\frac{u_{yy}}{Re}\n",
      "+\\tau\\big(\n",
      "0\n",
      "\\big)\n",
      "+h^2\\big(\n",
      "\\frac{Re^{2} p_{x} v^{2}}{12} - \\frac{Re^{2} u v^{2} v_{y}}{12} + \\frac{Re^{2} u_{t} v^{2}}{12} + \\frac{Re^{2} u_{y} v^{3}}{12} - \\frac{Re p_{tx}}{12} + \\frac{Re p_{xy} v}{12} + \\frac{5 Re p_{x} v_{y}}{12} - \\frac{Re p_{yy} u}{4} - \\frac{Re p_{y} u_{y}}{4} - \\frac{Re u^{2} v_{xy}}{4} - \\frac{Re u u_{y} v_{x}}{2} - \\frac{Re u v v_{yy}}{3} - \\frac{Re u v_{ty}}{6} - \\frac{2 Re u v_{y}^{2}}{3} - \\frac{Re u_{tt}}{12} + \\frac{Re u_{t} v_{y}}{2} + \\frac{Re u_{y} v v_{y}}{6} - \\frac{Re u_{y} v_{t}}{3} + \\frac{Re v^{2} v_{xy}}{12} - \\frac{p_{xyy}}{6} + \\frac{u v_{yyy}}{2} + \\frac{5 u_{y} v_{yy}}{6} + \\frac{v v_{xyy}}{6} + \\frac{5 v_{xy} v_{y}}{6} + \\frac{v_{x} v_{yy}}{3} - \\frac{v_{xyyy}}{6 Re}\n",
      "\\big)\n"
     ]
    },
    {
     "data": {
      "text/latex": [
       "$\\displaystyle 0$"
      ],
      "text/plain": [
       "0"
      ]
     },
     "metadata": {},
     "output_type": "display_data"
    },
    {
     "name": "stdout",
     "output_type": "stream",
     "text": [
      "tau =>\n"
     ]
    },
    {
     "data": {
      "text/latex": [
       "$\\displaystyle 0$"
      ],
      "text/plain": [
       "0"
      ]
     },
     "metadata": {},
     "output_type": "display_data"
    },
    {
     "name": "stdout",
     "output_type": "stream",
     "text": [
      "h^2 =>\n"
     ]
    },
    {
     "data": {
      "text/latex": [
       "$\\displaystyle \\frac{e^{- \\frac{2 t}{Re}} \\sin{\\left(y \\right)} \\cos{\\left(x \\right)}}{6 Re}$"
      ],
      "text/plain": [
       "exp(-2*t/Re)*sin(y)*cos(x)/(6*Re)"
      ]
     },
     "metadata": {},
     "output_type": "display_data"
    },
    {
     "name": "stdout",
     "output_type": "stream",
     "text": [
      "0\n",
      "+\\tau\\big(\n",
      "0\n",
      "\\big)\n",
      "+h^2\\big(\n",
      "\\frac{e^{- \\frac{2 t}{Re}} \\sin{\\left(y \\right)} \\cos{\\left(x \\right)}}{6 Re}\n",
      "\\big)\n"
     ]
    },
    {
     "data": {
      "text/latex": [
       "$\\displaystyle 0$"
      ],
      "text/plain": [
       "0"
      ]
     },
     "metadata": {},
     "output_type": "display_data"
    },
    {
     "name": "stdout",
     "output_type": "stream",
     "text": [
      "tau =>\n"
     ]
    },
    {
     "data": {
      "text/latex": [
       "$\\displaystyle 0$"
      ],
      "text/plain": [
       "0"
      ]
     },
     "metadata": {},
     "output_type": "display_data"
    },
    {
     "name": "stdout",
     "output_type": "stream",
     "text": [
      "h^2 =>\n"
     ]
    },
    {
     "data": {
      "text/latex": [
       "$\\displaystyle \\frac{\\left(Re \\left(- 3 Re^{3} + 3 Re^{2} \\sqrt{Re^{2} + 16 \\pi^{2}} - 40 \\pi^{2} Re + 16 \\pi^{2} \\sqrt{Re^{2} + 16 \\pi^{2}}\\right) e^{x \\left(\\frac{Re}{2} + 7 \\sqrt{Re^{2} + 16 \\pi^{2}}\\right)} \\cos{\\left(2 \\pi y \\right)} + 8 Re \\left(Re^{3} - Re^{2} \\sqrt{Re^{2} + 16 \\pi^{2}} + 16 \\pi^{2} Re - 8 \\pi^{2} \\sqrt{Re^{2} + 16 \\pi^{2}}\\right) e^{x \\left(Re + \\frac{13 \\sqrt{Re^{2} + 16 \\pi^{2}}}{2}\\right)} \\cos{\\left(4 \\pi y \\right)} + 64 \\pi^{4} e^{\\frac{x \\left(Re + 14 \\sqrt{Re^{2} + 16 \\pi^{2}}\\right)}{2}} \\cos{\\left(2 \\pi y \\right)}\\right) e^{- \\frac{15 x \\sqrt{Re^{2} + 16 \\pi^{2}}}{2}}}{24 Re}$"
      ],
      "text/plain": [
       "(Re*(-3*Re**3 + 3*Re**2*sqrt(Re**2 + 16*pi**2) - 40*pi**2*Re + 16*pi**2*sqrt(Re**2 + 16*pi**2))*exp(x*(Re/2 + 7*sqrt(Re**2 + 16*pi**2)))*cos(2*pi*y) + 8*Re*(Re**3 - Re**2*sqrt(Re**2 + 16*pi**2) + 16*pi**2*Re - 8*pi**2*sqrt(Re**2 + 16*pi**2))*exp(x*(Re + 13*sqrt(Re**2 + 16*pi**2)/2))*cos(4*pi*y) + 64*pi**4*exp(x*(Re + 14*sqrt(Re**2 + 16*pi**2))/2)*cos(2*pi*y))*exp(-15*x*sqrt(Re**2 + 16*pi**2)/2)/(24*Re)"
      ]
     },
     "metadata": {},
     "output_type": "display_data"
    },
    {
     "name": "stdout",
     "output_type": "stream",
     "text": [
      "0\n",
      "+\\tau\\big(\n",
      "0\n",
      "\\big)\n",
      "+h^2\\big(\n",
      "\\frac{\\left(Re \\left(- 3 Re^{3} + 3 Re^{2} \\sqrt{Re^{2} + 16 \\pi^{2}} - 40 \\pi^{2} Re + 16 \\pi^{2} \\sqrt{Re^{2} + 16 \\pi^{2}}\\right) e^{x \\left(\\frac{Re}{2} + 7 \\sqrt{Re^{2} + 16 \\pi^{2}}\\right)} \\cos{\\left(2 \\pi y \\right)} + 8 Re \\left(Re^{3} - Re^{2} \\sqrt{Re^{2} + 16 \\pi^{2}} + 16 \\pi^{2} Re - 8 \\pi^{2} \\sqrt{Re^{2} + 16 \\pi^{2}}\\right) e^{x \\left(Re + \\frac{13 \\sqrt{Re^{2} + 16 \\pi^{2}}}{2}\\right)} \\cos{\\left(4 \\pi y \\right)} + 64 \\pi^{4} e^{\\frac{x \\left(Re + 14 \\sqrt{Re^{2} + 16 \\pi^{2}}\\right)}{2}} \\cos{\\left(2 \\pi y \\right)}\\right) e^{- \\frac{15 x \\sqrt{Re^{2} + 16 \\pi^{2}}}{2}}}{24 Re}\n",
      "\\big)\n"
     ]
    },
    {
     "data": {
      "text/latex": [
       "$\\displaystyle p_{y} + u v_{x} + u_{x} v + 2 v v_{y} + v_{t} - \\frac{v_{xx}}{Re} - \\frac{v_{yy}}{Re}$"
      ],
      "text/plain": [
       "p_{y} + u*v_{x} + u_{x}*v + 2*v*v_{y} + v_{t} - v_{xx}/Re - v_{yy}/Re"
      ]
     },
     "metadata": {},
     "output_type": "display_data"
    },
    {
     "name": "stdout",
     "output_type": "stream",
     "text": [
      "tau =>\n"
     ]
    },
    {
     "data": {
      "text/latex": [
       "$\\displaystyle \\frac{p_{ty}}{2} + \\frac{u v_{tx}}{2} + \\frac{u_{tx} v}{2} + \\frac{u_{t} v_{x}}{2} + \\frac{u_{x} v_{t}}{2} + v v_{ty} + \\frac{v_{tt}}{2} + v_{t} v_{y} - \\frac{v_{txx}}{2 Re} - \\frac{v_{tyy}}{2 Re}$"
      ],
      "text/plain": [
       "p_{ty}/2 + u*v_{tx}/2 + u_{tx}*v/2 + u_{t}*v_{x}/2 + u_{x}*v_{t}/2 + v*v_{ty} + v_{tt}/2 + v_{t}*v_{y} - v_{txx}/(2*Re) - v_{tyy}/(2*Re)"
      ]
     },
     "metadata": {},
     "output_type": "display_data"
    },
    {
     "name": "stdout",
     "output_type": "stream",
     "text": [
      "h^2 =>\n"
     ]
    },
    {
     "data": {
      "text/latex": [
       "$\\displaystyle \\frac{p_{yyy}}{6} + \\frac{u v_{xxx}}{6} + \\frac{u_{xxx} v}{6} + \\frac{u_{xx} v_{x}}{2} + \\frac{u_{x} v_{xx}}{2} + \\frac{v v_{yyy}}{3} + v_{yy} v_{y} - \\frac{v_{xxxx}}{12 Re} - \\frac{v_{yyyy}}{12 Re}$"
      ],
      "text/plain": [
       "p_{yyy}/6 + u*v_{xxx}/6 + u_{xxx}*v/6 + u_{xx}*v_{x}/2 + u_{x}*v_{xx}/2 + v*v_{yyy}/3 + v_{yy}*v_{y} - v_{xxxx}/(12*Re) - v_{yyyy}/(12*Re)"
      ]
     },
     "metadata": {},
     "output_type": "display_data"
    },
    {
     "name": "stdout",
     "output_type": "stream",
     "text": [
      "-------------------------\n"
     ]
    },
    {
     "data": {
      "text/latex": [
       "$\\displaystyle p_{y} + u v_{x} + u_{x} v + 2 v v_{y} + v_{t} - \\frac{v_{xx}}{Re} - \\frac{v_{yy}}{Re}$"
      ],
      "text/plain": [
       "p_{y} + u*v_{x} + u_{x}*v + 2*v*v_{y} + v_{t} - v_{xx}/Re - v_{yy}/Re"
      ]
     },
     "metadata": {},
     "output_type": "display_data"
    },
    {
     "name": "stdout",
     "output_type": "stream",
     "text": [
      "tau =>\n"
     ]
    },
    {
     "data": {
      "text/latex": [
       "$\\displaystyle 0$"
      ],
      "text/plain": [
       "0"
      ]
     },
     "metadata": {},
     "output_type": "display_data"
    },
    {
     "name": "stdout",
     "output_type": "stream",
     "text": [
      "h^2 =>\n"
     ]
    },
    {
     "data": {
      "text/latex": [
       "$\\displaystyle \\frac{Re^{2} p_{y} u^{2}}{12} + \\frac{Re^{2} u^{3} v_{x}}{12} + \\frac{Re^{2} u^{2} v v_{y}}{12} + \\frac{Re^{2} u^{2} v_{t}}{12} - \\frac{Re p_{ty}}{12} + \\frac{Re p_{xy} u}{12} + \\frac{Re p_{x} v_{x}}{4} - \\frac{Re p_{yy} v}{4} - \\frac{5 Re p_{y} v_{y}}{12} - \\frac{Re u^{2} v_{yy}}{12} - \\frac{Re u v v_{xy}}{6} - \\frac{2 Re u v_{x} v_{y}}{3} + \\frac{Re u_{t} v_{x}}{6} - \\frac{Re v^{2} v_{yy}}{4} - \\frac{Re v v_{ty}}{3} - \\frac{2 Re v v_{y}^{2}}{3} - \\frac{Re v_{tt}}{12} - \\frac{Re v_{t} v_{y}}{2} + \\frac{p_{yyy}}{3} + \\frac{u_{y} v_{xy}}{3} + \\frac{2 v v_{yyy}}{3} + \\frac{v_{tyy}}{6} - \\frac{v_{xy} v_{x}}{3} + 2 v_{yy} v_{y} - \\frac{v_{yyyy}}{6 Re}$"
      ],
      "text/plain": [
       "Re**2*p_{y}*u**2/12 + Re**2*u**3*v_{x}/12 + Re**2*u**2*v*v_{y}/12 + Re**2*u**2*v_{t}/12 - Re*p_{ty}/12 + Re*p_{xy}*u/12 + Re*p_{x}*v_{x}/4 - Re*p_{yy}*v/4 - 5*Re*p_{y}*v_{y}/12 - Re*u**2*v_{yy}/12 - Re*u*v*v_{xy}/6 - 2*Re*u*v_{x}*v_{y}/3 + Re*u_{t}*v_{x}/6 - Re*v**2*v_{yy}/4 - Re*v*v_{ty}/3 - 2*Re*v*v_{y}**2/3 - Re*v_{tt}/12 - Re*v_{t}*v_{y}/2 + p_{yyy}/3 + u_{y}*v_{xy}/3 + 2*v*v_{yyy}/3 + v_{tyy}/6 - v_{xy}*v_{x}/3 + 2*v_{yy}*v_{y} - v_{yyyy}/(6*Re)"
      ]
     },
     "metadata": {},
     "output_type": "display_data"
    },
    {
     "name": "stdout",
     "output_type": "stream",
     "text": [
      "p_{y} + u v_{x} + u_{x} v + 2 v v_{y} + v_{t} - \\frac{v_{xx}}{Re} - \\frac{v_{yy}}{Re}\n",
      "+\\tau\\big(\n",
      "0\n",
      "\\big)\n",
      "+h^2\\big(\n",
      "\\frac{Re^{2} p_{y} u^{2}}{12} + \\frac{Re^{2} u^{3} v_{x}}{12} + \\frac{Re^{2} u^{2} v v_{y}}{12} + \\frac{Re^{2} u^{2} v_{t}}{12} - \\frac{Re p_{ty}}{12} + \\frac{Re p_{xy} u}{12} + \\frac{Re p_{x} v_{x}}{4} - \\frac{Re p_{yy} v}{4} - \\frac{5 Re p_{y} v_{y}}{12} - \\frac{Re u^{2} v_{yy}}{12} - \\frac{Re u v v_{xy}}{6} - \\frac{2 Re u v_{x} v_{y}}{3} + \\frac{Re u_{t} v_{x}}{6} - \\frac{Re v^{2} v_{yy}}{4} - \\frac{Re v v_{ty}}{3} - \\frac{2 Re v v_{y}^{2}}{3} - \\frac{Re v_{tt}}{12} - \\frac{Re v_{t} v_{y}}{2} + \\frac{p_{yyy}}{3} + \\frac{u_{y} v_{xy}}{3} + \\frac{2 v v_{yyy}}{3} + \\frac{v_{tyy}}{6} - \\frac{v_{xy} v_{x}}{3} + 2 v_{yy} v_{y} - \\frac{v_{yyyy}}{6 Re}\n",
      "\\big)\n"
     ]
    },
    {
     "data": {
      "text/latex": [
       "$\\displaystyle 0$"
      ],
      "text/plain": [
       "0"
      ]
     },
     "metadata": {},
     "output_type": "display_data"
    },
    {
     "name": "stdout",
     "output_type": "stream",
     "text": [
      "tau =>\n"
     ]
    },
    {
     "data": {
      "text/latex": [
       "$\\displaystyle 0$"
      ],
      "text/plain": [
       "0"
      ]
     },
     "metadata": {},
     "output_type": "display_data"
    },
    {
     "name": "stdout",
     "output_type": "stream",
     "text": [
      "h^2 =>\n"
     ]
    },
    {
     "data": {
      "text/latex": [
       "$\\displaystyle - \\frac{e^{- \\frac{2 t}{Re}} \\sin{\\left(x \\right)} \\cos{\\left(y \\right)}}{6 Re}$"
      ],
      "text/plain": [
       "-exp(-2*t/Re)*sin(x)*cos(y)/(6*Re)"
      ]
     },
     "metadata": {},
     "output_type": "display_data"
    },
    {
     "name": "stdout",
     "output_type": "stream",
     "text": [
      "0\n",
      "+\\tau\\big(\n",
      "0\n",
      "\\big)\n",
      "+h^2\\big(\n",
      "- \\frac{e^{- \\frac{2 t}{Re}} \\sin{\\left(x \\right)} \\cos{\\left(y \\right)}}{6 Re}\n",
      "\\big)\n"
     ]
    },
    {
     "data": {
      "text/latex": [
       "$\\displaystyle 0$"
      ],
      "text/plain": [
       "0"
      ]
     },
     "metadata": {},
     "output_type": "display_data"
    },
    {
     "name": "stdout",
     "output_type": "stream",
     "text": [
      "tau =>\n"
     ]
    },
    {
     "data": {
      "text/latex": [
       "$\\displaystyle 0$"
      ],
      "text/plain": [
       "0"
      ]
     },
     "metadata": {},
     "output_type": "display_data"
    },
    {
     "name": "stdout",
     "output_type": "stream",
     "text": [
      "h^2 =>\n"
     ]
    },
    {
     "data": {
      "text/latex": [
       "$\\displaystyle \\frac{\\left(16 Re^{4} \\left(- Re + \\sqrt{Re^{2} + 16 \\pi^{2}}\\right) e^{x \\left(Re + \\frac{11 \\sqrt{Re^{2} + 16 \\pi^{2}}}{2}\\right)} \\cos{\\left(2 \\pi y \\right)} + Re^{4} \\left(Re - \\sqrt{Re^{2} + 16 \\pi^{2}}\\right) e^{x \\left(\\frac{Re}{2} + 6 \\sqrt{Re^{2} + 16 \\pi^{2}}\\right)} + 64 \\pi^{2} Re \\left(- 5 Re^{2} + 3 Re \\sqrt{Re^{2} + 16 \\pi^{2}} - 16 \\pi^{2}\\right) e^{x \\left(Re + \\frac{11 \\sqrt{Re^{2} + 16 \\pi^{2}}}{2}\\right)} \\cos{\\left(2 \\pi y \\right)} + 4 \\pi^{2} Re \\left(3 Re^{2} - Re \\sqrt{Re^{2} + 16 \\pi^{2}} - 8 \\pi^{2}\\right) e^{x \\left(\\frac{Re}{2} + 6 \\sqrt{Re^{2} + 16 \\pi^{2}}\\right)} + 32 \\pi^{4} \\sqrt{Re^{2} + 16 \\pi^{2}} e^{\\frac{x \\left(Re + 12 \\sqrt{Re^{2} + 16 \\pi^{2}}\\right)}{2}}\\right) e^{- \\frac{13 x \\sqrt{Re^{2} + 16 \\pi^{2}}}{2}} \\sin{\\left(2 \\pi y \\right)}}{48 \\pi Re}$"
      ],
      "text/plain": [
       "(16*Re**4*(-Re + sqrt(Re**2 + 16*pi**2))*exp(x*(Re + 11*sqrt(Re**2 + 16*pi**2)/2))*cos(2*pi*y) + Re**4*(Re - sqrt(Re**2 + 16*pi**2))*exp(x*(Re/2 + 6*sqrt(Re**2 + 16*pi**2))) + 64*pi**2*Re*(-5*Re**2 + 3*Re*sqrt(Re**2 + 16*pi**2) - 16*pi**2)*exp(x*(Re + 11*sqrt(Re**2 + 16*pi**2)/2))*cos(2*pi*y) + 4*pi**2*Re*(3*Re**2 - Re*sqrt(Re**2 + 16*pi**2) - 8*pi**2)*exp(x*(Re/2 + 6*sqrt(Re**2 + 16*pi**2))) + 32*pi**4*sqrt(Re**2 + 16*pi**2)*exp(x*(Re + 12*sqrt(Re**2 + 16*pi**2))/2))*exp(-13*x*sqrt(Re**2 + 16*pi**2)/2)*sin(2*pi*y)/(48*pi*Re)"
      ]
     },
     "metadata": {},
     "output_type": "display_data"
    },
    {
     "name": "stdout",
     "output_type": "stream",
     "text": [
      "0\n",
      "+\\tau\\big(\n",
      "0\n",
      "\\big)\n",
      "+h^2\\big(\n",
      "\\frac{\\left(16 Re^{4} \\left(- Re + \\sqrt{Re^{2} + 16 \\pi^{2}}\\right) e^{x \\left(Re + \\frac{11 \\sqrt{Re^{2} + 16 \\pi^{2}}}{2}\\right)} \\cos{\\left(2 \\pi y \\right)} + Re^{4} \\left(Re - \\sqrt{Re^{2} + 16 \\pi^{2}}\\right) e^{x \\left(\\frac{Re}{2} + 6 \\sqrt{Re^{2} + 16 \\pi^{2}}\\right)} + 64 \\pi^{2} Re \\left(- 5 Re^{2} + 3 Re \\sqrt{Re^{2} + 16 \\pi^{2}} - 16 \\pi^{2}\\right) e^{x \\left(Re + \\frac{11 \\sqrt{Re^{2} + 16 \\pi^{2}}}{2}\\right)} \\cos{\\left(2 \\pi y \\right)} + 4 \\pi^{2} Re \\left(3 Re^{2} - Re \\sqrt{Re^{2} + 16 \\pi^{2}} - 8 \\pi^{2}\\right) e^{x \\left(\\frac{Re}{2} + 6 \\sqrt{Re^{2} + 16 \\pi^{2}}\\right)} + 32 \\pi^{4} \\sqrt{Re^{2} + 16 \\pi^{2}} e^{\\frac{x \\left(Re + 12 \\sqrt{Re^{2} + 16 \\pi^{2}}\\right)}{2}}\\right) e^{- \\frac{13 x \\sqrt{Re^{2} + 16 \\pi^{2}}}{2}} \\sin{\\left(2 \\pi y \\right)}}{48 \\pi Re}\n",
      "\\big)\n"
     ]
    },
    {
     "data": {
      "text/latex": [
       "$\\displaystyle p_{xx} + p_{yy} + 2 u u_{xx} + 2 u v_{xy} + 2 u_{xy} v + 2 u_{x}^{2} + 2 u_{x} v_{y} + 2 u_{y} v_{x} + 2 v v_{yy} + 2 v_{y}^{2}$"
      ],
      "text/plain": [
       "p_{xx} + p_{yy} + 2*u*u_{xx} + 2*u*v_{xy} + 2*u_{xy}*v + 2*u_{x}**2 + 2*u_{x}*v_{y} + 2*u_{y}*v_{x} + 2*v*v_{yy} + 2*v_{y}**2"
      ]
     },
     "metadata": {},
     "output_type": "display_data"
    },
    {
     "name": "stdout",
     "output_type": "stream",
     "text": [
      "tau =>\n"
     ]
    },
    {
     "data": {
      "text/latex": [
       "$\\displaystyle 0$"
      ],
      "text/plain": [
       "0"
      ]
     },
     "metadata": {},
     "output_type": "display_data"
    },
    {
     "name": "stdout",
     "output_type": "stream",
     "text": [
      "h^2 =>\n"
     ]
    },
    {
     "data": {
      "text/latex": [
       "$\\displaystyle \\frac{p_{xxxx}}{3} + \\frac{p_{yyyy}}{3} + \\frac{2 u u_{xxxx}}{3} + \\frac{u v_{xxxy}}{3} + \\frac{u v_{xyyy}}{3} + \\frac{u_{xxxy} v}{3} + \\frac{8 u_{xxx} u_{x}}{3} + \\frac{u_{xxx} v_{y}}{3} + u_{xxy} v_{x} + 2 u_{xx}^{2} + u_{xx} v_{xy} + \\frac{u_{xyyy} v}{3} + u_{xyy} v_{y} + u_{xy} v_{xx} + u_{xy} v_{yy} + u_{x} v_{xxy} + \\frac{u_{x} v_{yyy}}{3} + \\frac{u_{yyy} v_{x}}{3} + u_{yy} v_{xy} + \\frac{u_{y} v_{xxx}}{3} + u_{y} v_{xyy} + \\frac{2 v v_{yyyy}}{3} + \\frac{8 v_{yyy} v_{y}}{3} + 2 v_{yy}^{2}$"
      ],
      "text/plain": [
       "p_{xxxx}/3 + p_{yyyy}/3 + 2*u*u_{xxxx}/3 + u*v_{xxxy}/3 + u*v_{xyyy}/3 + u_{xxxy}*v/3 + 8*u_{xxx}*u_{x}/3 + u_{xxx}*v_{y}/3 + u_{xxy}*v_{x} + 2*u_{xx}**2 + u_{xx}*v_{xy} + u_{xyyy}*v/3 + u_{xyy}*v_{y} + u_{xy}*v_{xx} + u_{xy}*v_{yy} + u_{x}*v_{xxy} + u_{x}*v_{yyy}/3 + u_{yyy}*v_{x}/3 + u_{yy}*v_{xy} + u_{y}*v_{xxx}/3 + u_{y}*v_{xyy} + 2*v*v_{yyyy}/3 + 8*v_{yyy}*v_{y}/3 + 2*v_{yy}**2"
      ]
     },
     "metadata": {},
     "output_type": "display_data"
    },
    {
     "name": "stdout",
     "output_type": "stream",
     "text": [
      "-------------------------\n"
     ]
    },
    {
     "data": {
      "text/latex": [
       "$\\displaystyle p_{xx} + p_{yy} + 2 u u_{xx} + 2 u v_{xy} + 2 u_{xy} v + 2 u_{x}^{2} + 2 u_{x} v_{y} + 2 u_{y} v_{x} + 2 v v_{yy} + 2 v_{y}^{2}$"
      ],
      "text/plain": [
       "p_{xx} + p_{yy} + 2*u*u_{xx} + 2*u*v_{xy} + 2*u_{xy}*v + 2*u_{x}**2 + 2*u_{x}*v_{y} + 2*u_{y}*v_{x} + 2*v*v_{yy} + 2*v_{y}**2"
      ]
     },
     "metadata": {},
     "output_type": "display_data"
    },
    {
     "name": "stdout",
     "output_type": "stream",
     "text": [
      "tau =>\n"
     ]
    },
    {
     "data": {
      "text/latex": [
       "$\\displaystyle 0$"
      ],
      "text/plain": [
       "0"
      ]
     },
     "metadata": {},
     "output_type": "display_data"
    },
    {
     "name": "stdout",
     "output_type": "stream",
     "text": [
      "h^2 =>\n"
     ]
    },
    {
     "data": {
      "text/latex": [
       "$\\displaystyle \\frac{2 Re^{2} p_{x} v v_{x}}{3} - \\frac{Re^{2} p_{yy} u^{2}}{3} - \\frac{2 Re^{2} p_{y} u u_{y}}{3} - \\frac{Re^{2} u^{3} v_{xy}}{3} - Re^{2} u^{2} u_{y} v_{x} - \\frac{Re^{2} u^{2} v v_{yy}}{3} - \\frac{Re^{2} u^{2} v_{ty}}{3} - \\frac{Re^{2} u^{2} v_{y}^{2}}{3} - \\frac{2 Re^{2} u u_{y} v v_{y}}{3} - \\frac{2 Re^{2} u u_{y} v_{t}}{3} - \\frac{2 Re^{2} u v v_{x} v_{y}}{3} + \\frac{2 Re^{2} u_{t} v v_{x}}{3} + \\frac{2 Re^{2} u_{y} v^{2} v_{x}}{3} - \\frac{Re p_{xyy} u}{3} - \\frac{Re p_{xy} u_{y}}{3} + Re p_{xy} v_{x} + \\frac{7 Re p_{x} v_{xy}}{3} - \\frac{Re p_{yyy} v}{3} + \\frac{Re p_{y} v_{yy}}{3} + \\frac{Re u^{2} v_{yyy}}{3} + \\frac{2 Re u u_{y} v_{yy}}{3} - \\frac{2 Re u v v_{xyy}}{3} - \\frac{Re u v_{txy}}{3} - \\frac{8 Re u v_{xy} v_{y}}{3} - \\frac{2 Re u v_{x} v_{yy}}{3} + Re u_{ty} v_{x} + \\frac{7 Re u_{t} v_{xy}}{3} + \\frac{4 Re u_{y} v v_{xy}}{3} - \\frac{Re u_{y} v_{tx}}{3} - \\frac{Re v^{2} v_{yyy}}{3} - \\frac{Re v v_{tyy}}{3} + \\frac{2 Re v v_{xy} v_{x}}{3} - \\frac{2 Re v v_{yy} v_{y}}{3} + \\frac{Re v_{t} v_{yy}}{3} + \\frac{2 p_{yyyy}}{3} + \\frac{2 u v_{xyyy}}{3} + 2 u_{y} v_{xyy} + \\frac{2 v v_{yyyy}}{3} + \\frac{2 v_{xyy} v_{x}}{3} + 2 v_{xy}^{2} + \\frac{8 v_{yyy} v_{y}}{3} + 2 v_{yy}^{2}$"
      ],
      "text/plain": [
       "2*Re**2*p_{x}*v*v_{x}/3 - Re**2*p_{yy}*u**2/3 - 2*Re**2*p_{y}*u*u_{y}/3 - Re**2*u**3*v_{xy}/3 - Re**2*u**2*u_{y}*v_{x} - Re**2*u**2*v*v_{yy}/3 - Re**2*u**2*v_{ty}/3 - Re**2*u**2*v_{y}**2/3 - 2*Re**2*u*u_{y}*v*v_{y}/3 - 2*Re**2*u*u_{y}*v_{t}/3 - 2*Re**2*u*v*v_{x}*v_{y}/3 + 2*Re**2*u_{t}*v*v_{x}/3 + 2*Re**2*u_{y}*v**2*v_{x}/3 - Re*p_{xyy}*u/3 - Re*p_{xy}*u_{y}/3 + Re*p_{xy}*v_{x} + 7*Re*p_{x}*v_{xy}/3 - Re*p_{yyy}*v/3 + Re*p_{y}*v_{yy}/3 + Re*u**2*v_{yyy}/3 + 2*Re*u*u_{y}*v_{yy}/3 - 2*Re*u*v*v_{xyy}/3 - Re*u*v_{txy}/3 - 8*Re*u*v_{xy}*v_{y}/3 - 2*Re*u*v_{x}*v_{yy}/3 + Re*u_{ty}*v_{x} + 7*Re*u_{t}*v_{xy}/3 + 4*Re*u_{y}*v*v_{xy}/3 - Re*u_{y}*v_{tx}/3 - Re*v**2*v_{yyy}/3 - Re*v*v_{tyy}/3 + 2*Re*v*v_{xy}*v_{x}/3 - 2*Re*v*v_{yy}*v_{y}/3 + Re*v_{t}*v_{yy}/3 + 2*p_{yyyy}/3 + 2*u*v_{xyyy}/3 + 2*u_{y}*v_{xyy} + 2*v*v_{yyyy}/3 + 2*v_{xyy}*v_{x}/3 + 2*v_{xy}**2 + 8*v_{yyy}*v_{y}/3 + 2*v_{yy}**2"
      ]
     },
     "metadata": {},
     "output_type": "display_data"
    },
    {
     "name": "stdout",
     "output_type": "stream",
     "text": [
      "p_{xx} + p_{yy} + 2 u u_{xx} + 2 u v_{xy} + 2 u_{xy} v + 2 u_{x}^{2} + 2 u_{x} v_{y} + 2 u_{y} v_{x} + 2 v v_{yy} + 2 v_{y}^{2}\n",
      "+\\tau\\big(\n",
      "0\n",
      "\\big)\n",
      "+h^2\\big(\n",
      "\\frac{2 Re^{2} p_{x} v v_{x}}{3} - \\frac{Re^{2} p_{yy} u^{2}}{3} - \\frac{2 Re^{2} p_{y} u u_{y}}{3} - \\frac{Re^{2} u^{3} v_{xy}}{3} - Re^{2} u^{2} u_{y} v_{x} - \\frac{Re^{2} u^{2} v v_{yy}}{3} - \\frac{Re^{2} u^{2} v_{ty}}{3} - \\frac{Re^{2} u^{2} v_{y}^{2}}{3} - \\frac{2 Re^{2} u u_{y} v v_{y}}{3} - \\frac{2 Re^{2} u u_{y} v_{t}}{3} - \\frac{2 Re^{2} u v v_{x} v_{y}}{3} + \\frac{2 Re^{2} u_{t} v v_{x}}{3} + \\frac{2 Re^{2} u_{y} v^{2} v_{x}}{3} - \\frac{Re p_{xyy} u}{3} - \\frac{Re p_{xy} u_{y}}{3} + Re p_{xy} v_{x} + \\frac{7 Re p_{x} v_{xy}}{3} - \\frac{Re p_{yyy} v}{3} + \\frac{Re p_{y} v_{yy}}{3} + \\frac{Re u^{2} v_{yyy}}{3} + \\frac{2 Re u u_{y} v_{yy}}{3} - \\frac{2 Re u v v_{xyy}}{3} - \\frac{Re u v_{txy}}{3} - \\frac{8 Re u v_{xy} v_{y}}{3} - \\frac{2 Re u v_{x} v_{yy}}{3} + Re u_{ty} v_{x} + \\frac{7 Re u_{t} v_{xy}}{3} + \\frac{4 Re u_{y} v v_{xy}}{3} - \\frac{Re u_{y} v_{tx}}{3} - \\frac{Re v^{2} v_{yyy}}{3} - \\frac{Re v v_{tyy}}{3} + \\frac{2 Re v v_{xy} v_{x}}{3} - \\frac{2 Re v v_{yy} v_{y}}{3} + \\frac{Re v_{t} v_{yy}}{3} + \\frac{2 p_{yyyy}}{3} + \\frac{2 u v_{xyyy}}{3} + 2 u_{y} v_{xyy} + \\frac{2 v v_{yyyy}}{3} + \\frac{2 v_{xyy} v_{x}}{3} + 2 v_{xy}^{2} + \\frac{8 v_{yyy} v_{y}}{3} + 2 v_{yy}^{2}\n",
      "\\big)\n"
     ]
    },
    {
     "data": {
      "text/latex": [
       "$\\displaystyle 0$"
      ],
      "text/plain": [
       "0"
      ]
     },
     "metadata": {},
     "output_type": "display_data"
    },
    {
     "name": "stdout",
     "output_type": "stream",
     "text": [
      "tau =>\n"
     ]
    },
    {
     "data": {
      "text/latex": [
       "$\\displaystyle 0$"
      ],
      "text/plain": [
       "0"
      ]
     },
     "metadata": {},
     "output_type": "display_data"
    },
    {
     "name": "stdout",
     "output_type": "stream",
     "text": [
      "h^2 =>\n"
     ]
    },
    {
     "data": {
      "text/latex": [
       "$\\displaystyle 0$"
      ],
      "text/plain": [
       "0"
      ]
     },
     "metadata": {},
     "output_type": "display_data"
    },
    {
     "name": "stdout",
     "output_type": "stream",
     "text": [
      "0\n",
      "+\\tau\\big(\n",
      "0\n",
      "\\big)\n",
      "+h^2\\big(\n",
      "0\n",
      "\\big)\n"
     ]
    },
    {
     "data": {
      "text/latex": [
       "$\\displaystyle 0$"
      ],
      "text/plain": [
       "0"
      ]
     },
     "metadata": {},
     "output_type": "display_data"
    },
    {
     "name": "stdout",
     "output_type": "stream",
     "text": [
      "tau =>\n"
     ]
    },
    {
     "data": {
      "text/latex": [
       "$\\displaystyle 0$"
      ],
      "text/plain": [
       "0"
      ]
     },
     "metadata": {},
     "output_type": "display_data"
    },
    {
     "name": "stdout",
     "output_type": "stream",
     "text": [
      "h^2 =>\n"
     ]
    },
    {
     "data": {
      "text/latex": [
       "$\\displaystyle \\frac{\\left(- Re^{4} + Re^{3} \\sqrt{Re^{2} + 16 \\pi^{2}} - 20 \\pi^{2} Re^{2} + 12 \\pi^{2} Re \\sqrt{Re^{2} + 16 \\pi^{2}} - 64 \\pi^{4}\\right) e^{\\frac{x \\left(Re - \\sqrt{Re^{2} + 16 \\pi^{2}}\\right)}{2}} \\cos{\\left(2 \\pi y \\right)}}{6}$"
      ],
      "text/plain": [
       "(-Re**4 + Re**3*sqrt(Re**2 + 16*pi**2) - 20*pi**2*Re**2 + 12*pi**2*Re*sqrt(Re**2 + 16*pi**2) - 64*pi**4)*exp(x*(Re - sqrt(Re**2 + 16*pi**2))/2)*cos(2*pi*y)/6"
      ]
     },
     "metadata": {},
     "output_type": "display_data"
    },
    {
     "name": "stdout",
     "output_type": "stream",
     "text": [
      "0\n",
      "+\\tau\\big(\n",
      "0\n",
      "\\big)\n",
      "+h^2\\big(\n",
      "\\frac{\\left(- Re^{4} + Re^{3} \\sqrt{Re^{2} + 16 \\pi^{2}} - 20 \\pi^{2} Re^{2} + 12 \\pi^{2} Re \\sqrt{Re^{2} + 16 \\pi^{2}} - 64 \\pi^{4}\\right) e^{\\frac{x \\left(Re - \\sqrt{Re^{2} + 16 \\pi^{2}}\\right)}{2}} \\cos{\\left(2 \\pi y \\right)}}{6}\n",
      "\\big)\n"
     ]
    },
    {
     "data": {
      "text/latex": [
       "$\\displaystyle 0$"
      ],
      "text/plain": [
       "0"
      ]
     },
     "metadata": {},
     "output_type": "display_data"
    },
    {
     "name": "stdout",
     "output_type": "stream",
     "text": [
      "tau =>\n"
     ]
    },
    {
     "data": {
      "text/latex": [
       "$\\displaystyle 0$"
      ],
      "text/plain": [
       "0"
      ]
     },
     "metadata": {},
     "output_type": "display_data"
    },
    {
     "name": "stdout",
     "output_type": "stream",
     "text": [
      "h^2 =>\n"
     ]
    },
    {
     "data": {
      "text/latex": [
       "$\\displaystyle 0$"
      ],
      "text/plain": [
       "0"
      ]
     },
     "metadata": {},
     "output_type": "display_data"
    },
    {
     "name": "stdout",
     "output_type": "stream",
     "text": [
      "0\n",
      "+\\tau\\big(\n",
      "0\n",
      "\\big)\n",
      "+h^2\\big(\n",
      "0\n",
      "\\big)\n"
     ]
    }
   ],
   "source": [
    "F1 = clip(Dx(u) + Dy(v))\n",
    "F2 = clip(Dt(u) + It(Dx(u**2) + Dy(v*u) + Dx(p) - DD(u)/Re))\n",
    "F3 = clip(Dt(v) + It(Dx(u*v) + Dy(v**2) + Dy(p) - DD(v)/Re))\n",
    "F4 = clip(Dx(Dx(u**2) + Dy(v*u) + Dx(p)) + Dy(Dx(u*v) + Dy(v**2) + Dy(p)))\n",
    "\n",
    "build(F1, F2, F3, F4)"
   ]
  },
  {
   "cell_type": "code",
   "execution_count": 33,
   "metadata": {},
   "outputs": [
    {
     "data": {
      "text/latex": [
       "$\\displaystyle u_{x} + v_{y}$"
      ],
      "text/plain": [
       "u_{x} + v_{y}"
      ]
     },
     "metadata": {},
     "output_type": "display_data"
    },
    {
     "name": "stdout",
     "output_type": "stream",
     "text": [
      "tau =>\n"
     ]
    },
    {
     "data": {
      "text/latex": [
       "$\\displaystyle 0$"
      ],
      "text/plain": [
       "0"
      ]
     },
     "metadata": {},
     "output_type": "display_data"
    },
    {
     "name": "stdout",
     "output_type": "stream",
     "text": [
      "h^2 =>\n"
     ]
    },
    {
     "data": {
      "text/latex": [
       "$\\displaystyle \\frac{u_{xxx}}{6} + \\frac{v_{yyy}}{6}$"
      ],
      "text/plain": [
       "u_{xxx}/6 + v_{yyy}/6"
      ]
     },
     "metadata": {},
     "output_type": "display_data"
    },
    {
     "name": "stdout",
     "output_type": "stream",
     "text": [
      "-------------------------\n"
     ]
    },
    {
     "data": {
      "text/latex": [
       "$\\displaystyle u_{x} + v_{y}$"
      ],
      "text/plain": [
       "u_{x} + v_{y}"
      ]
     },
     "metadata": {},
     "output_type": "display_data"
    },
    {
     "name": "stdout",
     "output_type": "stream",
     "text": [
      "tau =>\n"
     ]
    },
    {
     "data": {
      "text/latex": [
       "$\\displaystyle 0$"
      ],
      "text/plain": [
       "0"
      ]
     },
     "metadata": {},
     "output_type": "display_data"
    },
    {
     "name": "stdout",
     "output_type": "stream",
     "text": [
      "h^2 =>\n"
     ]
    },
    {
     "data": {
      "text/latex": [
       "$\\displaystyle - \\frac{Re p_{yy}}{6} - \\frac{Re u v_{xy}}{6} - \\frac{Re u_{y} v_{x}}{6} - \\frac{Re v v_{yy}}{6} - \\frac{Re v_{ty}}{6} - \\frac{Re v_{y}^{2}}{6} + \\frac{v_{yyy}}{3}$"
      ],
      "text/plain": [
       "-Re*p_{yy}/6 - Re*u*v_{xy}/6 - Re*u_{y}*v_{x}/6 - Re*v*v_{yy}/6 - Re*v_{ty}/6 - Re*v_{y}**2/6 + v_{yyy}/3"
      ]
     },
     "metadata": {},
     "output_type": "display_data"
    },
    {
     "name": "stdout",
     "output_type": "stream",
     "text": [
      "u_{x} + v_{y}\n",
      "+\\tau\\big(\n",
      "0\n",
      "\\big)\n",
      "+h^2\\big(\n",
      "- \\frac{Re p_{yy}}{6} - \\frac{Re u v_{xy}}{6} - \\frac{Re u_{y} v_{x}}{6} - \\frac{Re v v_{yy}}{6} - \\frac{Re v_{ty}}{6} - \\frac{Re v_{y}^{2}}{6} + \\frac{v_{yyy}}{3}\n",
      "\\big)\n"
     ]
    },
    {
     "data": {
      "text/latex": [
       "$\\displaystyle 0$"
      ],
      "text/plain": [
       "0"
      ]
     },
     "metadata": {},
     "output_type": "display_data"
    },
    {
     "name": "stdout",
     "output_type": "stream",
     "text": [
      "tau =>\n"
     ]
    },
    {
     "data": {
      "text/latex": [
       "$\\displaystyle 0$"
      ],
      "text/plain": [
       "0"
      ]
     },
     "metadata": {},
     "output_type": "display_data"
    },
    {
     "name": "stdout",
     "output_type": "stream",
     "text": [
      "h^2 =>\n"
     ]
    },
    {
     "data": {
      "text/latex": [
       "$\\displaystyle 0$"
      ],
      "text/plain": [
       "0"
      ]
     },
     "metadata": {},
     "output_type": "display_data"
    },
    {
     "name": "stdout",
     "output_type": "stream",
     "text": [
      "0\n",
      "+\\tau\\big(\n",
      "0\n",
      "\\big)\n",
      "+h^2\\big(\n",
      "0\n",
      "\\big)\n"
     ]
    },
    {
     "data": {
      "text/latex": [
       "$\\displaystyle 0$"
      ],
      "text/plain": [
       "0"
      ]
     },
     "metadata": {},
     "output_type": "display_data"
    },
    {
     "name": "stdout",
     "output_type": "stream",
     "text": [
      "tau =>\n"
     ]
    },
    {
     "data": {
      "text/latex": [
       "$\\displaystyle 0$"
      ],
      "text/plain": [
       "0"
      ]
     },
     "metadata": {},
     "output_type": "display_data"
    },
    {
     "name": "stdout",
     "output_type": "stream",
     "text": [
      "h^2 =>\n"
     ]
    },
    {
     "data": {
      "text/latex": [
       "$\\displaystyle \\frac{\\left(- Re^{3} + Re^{2} \\sqrt{Re^{2} + 16 \\pi^{2}} - 16 \\pi^{2} Re + 8 \\pi^{2} \\sqrt{Re^{2} + 16 \\pi^{2}}\\right) e^{\\frac{x \\left(Re - \\sqrt{Re^{2} + 16 \\pi^{2}}\\right)}{2}} \\cos{\\left(2 \\pi y \\right)}}{12}$"
      ],
      "text/plain": [
       "(-Re**3 + Re**2*sqrt(Re**2 + 16*pi**2) - 16*pi**2*Re + 8*pi**2*sqrt(Re**2 + 16*pi**2))*exp(x*(Re - sqrt(Re**2 + 16*pi**2))/2)*cos(2*pi*y)/12"
      ]
     },
     "metadata": {},
     "output_type": "display_data"
    },
    {
     "name": "stdout",
     "output_type": "stream",
     "text": [
      "0\n",
      "+\\tau\\big(\n",
      "0\n",
      "\\big)\n",
      "+h^2\\big(\n",
      "\\frac{\\left(- Re^{3} + Re^{2} \\sqrt{Re^{2} + 16 \\pi^{2}} - 16 \\pi^{2} Re + 8 \\pi^{2} \\sqrt{Re^{2} + 16 \\pi^{2}}\\right) e^{\\frac{x \\left(Re - \\sqrt{Re^{2} + 16 \\pi^{2}}\\right)}{2}} \\cos{\\left(2 \\pi y \\right)}}{12}\n",
      "\\big)\n"
     ]
    },
    {
     "data": {
      "text/latex": [
       "$\\displaystyle p_{x} + 2 u u_{x} + u v_{y} + u_{t} + u_{y} v - \\frac{u_{xx}}{Re} - \\frac{u_{yy}}{Re}$"
      ],
      "text/plain": [
       "p_{x} + 2*u*u_{x} + u*v_{y} + u_{t} + u_{y}*v - u_{xx}/Re - u_{yy}/Re"
      ]
     },
     "metadata": {},
     "output_type": "display_data"
    },
    {
     "name": "stdout",
     "output_type": "stream",
     "text": [
      "tau =>\n"
     ]
    },
    {
     "data": {
      "text/latex": [
       "$\\displaystyle \\frac{p_{tx}}{2} + u u_{tx} + \\frac{u v_{ty}}{2} + \\frac{u_{tt}}{2} + \\frac{u_{ty} v}{2} + u_{t} u_{x} + \\frac{u_{t} v_{y}}{2} + \\frac{u_{y} v_{t}}{2} - \\frac{u_{txx}}{2 Re} - \\frac{u_{tyy}}{2 Re}$"
      ],
      "text/plain": [
       "p_{tx}/2 + u*u_{tx} + u*v_{ty}/2 + u_{tt}/2 + u_{ty}*v/2 + u_{t}*u_{x} + u_{t}*v_{y}/2 + u_{y}*v_{t}/2 - u_{txx}/(2*Re) - u_{tyy}/(2*Re)"
      ]
     },
     "metadata": {},
     "output_type": "display_data"
    },
    {
     "name": "stdout",
     "output_type": "stream",
     "text": [
      "h^2 =>\n"
     ]
    },
    {
     "data": {
      "text/latex": [
       "$\\displaystyle \\frac{p_{xxx}}{6} + \\frac{u u_{xxx}}{3} + \\frac{u v_{yyy}}{6} + u_{xx} u_{x} + \\frac{u_{yyy} v}{6} + \\frac{u_{yy} v_{y}}{2} + \\frac{u_{y} v_{yy}}{2} - \\frac{u_{xxxx}}{3 Re} - \\frac{u_{yyyy}}{3 Re}$"
      ],
      "text/plain": [
       "p_{xxx}/6 + u*u_{xxx}/3 + u*v_{yyy}/6 + u_{xx}*u_{x} + u_{yyy}*v/6 + u_{yy}*v_{y}/2 + u_{y}*v_{yy}/2 - u_{xxxx}/(3*Re) - u_{yyyy}/(3*Re)"
      ]
     },
     "metadata": {},
     "output_type": "display_data"
    },
    {
     "name": "stdout",
     "output_type": "stream",
     "text": [
      "-------------------------\n"
     ]
    },
    {
     "data": {
      "text/latex": [
       "$\\displaystyle p_{x} + 2 u u_{x} + u v_{y} + u_{t} + u_{y} v - \\frac{u_{xx}}{Re} - \\frac{u_{yy}}{Re}$"
      ],
      "text/plain": [
       "p_{x} + 2*u*u_{x} + u*v_{y} + u_{t} + u_{y}*v - u_{xx}/Re - u_{yy}/Re"
      ]
     },
     "metadata": {},
     "output_type": "display_data"
    },
    {
     "name": "stdout",
     "output_type": "stream",
     "text": [
      "tau =>\n"
     ]
    },
    {
     "data": {
      "text/latex": [
       "$\\displaystyle 0$"
      ],
      "text/plain": [
       "0"
      ]
     },
     "metadata": {},
     "output_type": "display_data"
    },
    {
     "name": "stdout",
     "output_type": "stream",
     "text": [
      "h^2 =>\n"
     ]
    },
    {
     "data": {
      "text/latex": [
       "$\\displaystyle - \\frac{Re^{2} p_{x} v^{2}}{6} + \\frac{Re^{2} u v^{2} v_{y}}{6} - \\frac{Re^{2} u_{t} v^{2}}{6} - \\frac{Re^{2} u_{y} v^{3}}{6} - \\frac{Re p_{tx}}{3} - \\frac{Re p_{xy} v}{6} + \\frac{Re p_{x} v_{y}}{6} + \\frac{Re u v v_{yy}}{6} + \\frac{Re u v_{ty}}{3} - \\frac{Re u v_{y}^{2}}{6} - \\frac{Re u_{tt}}{3} - \\frac{Re u_{ty} v}{2} + \\frac{Re u_{t} v_{y}}{2} + \\frac{Re u_{y} v v_{y}}{6} - \\frac{Re u_{y} v_{t}}{3} - \\frac{Re v^{2} v_{xy}}{6} - \\frac{p_{xyy}}{6} + \\frac{u v_{yyy}}{2} + \\frac{5 u_{y} v_{yy}}{6} + \\frac{v v_{xyy}}{6} + \\frac{5 v_{xy} v_{y}}{6} + \\frac{v_{x} v_{yy}}{3} - \\frac{2 v_{xyyy}}{3 Re}$"
      ],
      "text/plain": [
       "-Re**2*p_{x}*v**2/6 + Re**2*u*v**2*v_{y}/6 - Re**2*u_{t}*v**2/6 - Re**2*u_{y}*v**3/6 - Re*p_{tx}/3 - Re*p_{xy}*v/6 + Re*p_{x}*v_{y}/6 + Re*u*v*v_{yy}/6 + Re*u*v_{ty}/3 - Re*u*v_{y}**2/6 - Re*u_{tt}/3 - Re*u_{ty}*v/2 + Re*u_{t}*v_{y}/2 + Re*u_{y}*v*v_{y}/6 - Re*u_{y}*v_{t}/3 - Re*v**2*v_{xy}/6 - p_{xyy}/6 + u*v_{yyy}/2 + 5*u_{y}*v_{yy}/6 + v*v_{xyy}/6 + 5*v_{xy}*v_{y}/6 + v_{x}*v_{yy}/3 - 2*v_{xyyy}/(3*Re)"
      ]
     },
     "metadata": {},
     "output_type": "display_data"
    },
    {
     "name": "stdout",
     "output_type": "stream",
     "text": [
      "p_{x} + 2 u u_{x} + u v_{y} + u_{t} + u_{y} v - \\frac{u_{xx}}{Re} - \\frac{u_{yy}}{Re}\n",
      "+\\tau\\big(\n",
      "0\n",
      "\\big)\n",
      "+h^2\\big(\n",
      "- \\frac{Re^{2} p_{x} v^{2}}{6} + \\frac{Re^{2} u v^{2} v_{y}}{6} - \\frac{Re^{2} u_{t} v^{2}}{6} - \\frac{Re^{2} u_{y} v^{3}}{6} - \\frac{Re p_{tx}}{3} - \\frac{Re p_{xy} v}{6} + \\frac{Re p_{x} v_{y}}{6} + \\frac{Re u v v_{yy}}{6} + \\frac{Re u v_{ty}}{3} - \\frac{Re u v_{y}^{2}}{6} - \\frac{Re u_{tt}}{3} - \\frac{Re u_{ty} v}{2} + \\frac{Re u_{t} v_{y}}{2} + \\frac{Re u_{y} v v_{y}}{6} - \\frac{Re u_{y} v_{t}}{3} - \\frac{Re v^{2} v_{xy}}{6} - \\frac{p_{xyy}}{6} + \\frac{u v_{yyy}}{2} + \\frac{5 u_{y} v_{yy}}{6} + \\frac{v v_{xyy}}{6} + \\frac{5 v_{xy} v_{y}}{6} + \\frac{v_{x} v_{yy}}{3} - \\frac{2 v_{xyyy}}{3 Re}\n",
      "\\big)\n"
     ]
    },
    {
     "data": {
      "text/latex": [
       "$\\displaystyle 0$"
      ],
      "text/plain": [
       "0"
      ]
     },
     "metadata": {},
     "output_type": "display_data"
    },
    {
     "name": "stdout",
     "output_type": "stream",
     "text": [
      "tau =>\n"
     ]
    },
    {
     "data": {
      "text/latex": [
       "$\\displaystyle 0$"
      ],
      "text/plain": [
       "0"
      ]
     },
     "metadata": {},
     "output_type": "display_data"
    },
    {
     "name": "stdout",
     "output_type": "stream",
     "text": [
      "h^2 =>\n"
     ]
    },
    {
     "data": {
      "text/latex": [
       "$\\displaystyle \\frac{2 e^{- \\frac{2 t}{Re}} \\sin{\\left(y \\right)} \\cos{\\left(x \\right)}}{3 Re}$"
      ],
      "text/plain": [
       "2*exp(-2*t/Re)*sin(y)*cos(x)/(3*Re)"
      ]
     },
     "metadata": {},
     "output_type": "display_data"
    },
    {
     "name": "stdout",
     "output_type": "stream",
     "text": [
      "0\n",
      "+\\tau\\big(\n",
      "0\n",
      "\\big)\n",
      "+h^2\\big(\n",
      "\\frac{2 e^{- \\frac{2 t}{Re}} \\sin{\\left(y \\right)} \\cos{\\left(x \\right)}}{3 Re}\n",
      "\\big)\n"
     ]
    },
    {
     "data": {
      "text/latex": [
       "$\\displaystyle 0$"
      ],
      "text/plain": [
       "0"
      ]
     },
     "metadata": {},
     "output_type": "display_data"
    },
    {
     "name": "stdout",
     "output_type": "stream",
     "text": [
      "tau =>\n"
     ]
    },
    {
     "data": {
      "text/latex": [
       "$\\displaystyle 0$"
      ],
      "text/plain": [
       "0"
      ]
     },
     "metadata": {},
     "output_type": "display_data"
    },
    {
     "name": "stdout",
     "output_type": "stream",
     "text": [
      "h^2 =>\n"
     ]
    },
    {
     "data": {
      "text/latex": [
       "$\\displaystyle \\frac{\\left(\\pi^{2} Re \\left(Re - \\sqrt{Re^{2} + 16 \\pi^{2}}\\right) e^{x \\left(\\frac{Re}{2} + 7 \\sqrt{Re^{2} + 16 \\pi^{2}}\\right)} \\cos{\\left(2 \\pi y \\right)} + Re \\left(Re^{3} - Re^{2} \\sqrt{Re^{2} + 16 \\pi^{2}} + 16 \\pi^{2} Re - 8 \\pi^{2} \\sqrt{Re^{2} + 16 \\pi^{2}}\\right) e^{x \\left(Re + \\frac{13 \\sqrt{Re^{2} + 16 \\pi^{2}}}{2}\\right)} \\cos{\\left(4 \\pi y \\right)} + 32 \\pi^{4} e^{\\frac{x \\left(Re + 14 \\sqrt{Re^{2} + 16 \\pi^{2}}\\right)}{2}} \\cos{\\left(2 \\pi y \\right)}\\right) e^{- \\frac{15 x \\sqrt{Re^{2} + 16 \\pi^{2}}}{2}}}{3 Re}$"
      ],
      "text/plain": [
       "(pi**2*Re*(Re - sqrt(Re**2 + 16*pi**2))*exp(x*(Re/2 + 7*sqrt(Re**2 + 16*pi**2)))*cos(2*pi*y) + Re*(Re**3 - Re**2*sqrt(Re**2 + 16*pi**2) + 16*pi**2*Re - 8*pi**2*sqrt(Re**2 + 16*pi**2))*exp(x*(Re + 13*sqrt(Re**2 + 16*pi**2)/2))*cos(4*pi*y) + 32*pi**4*exp(x*(Re + 14*sqrt(Re**2 + 16*pi**2))/2)*cos(2*pi*y))*exp(-15*x*sqrt(Re**2 + 16*pi**2)/2)/(3*Re)"
      ]
     },
     "metadata": {},
     "output_type": "display_data"
    },
    {
     "name": "stdout",
     "output_type": "stream",
     "text": [
      "0\n",
      "+\\tau\\big(\n",
      "0\n",
      "\\big)\n",
      "+h^2\\big(\n",
      "\\frac{\\left(\\pi^{2} Re \\left(Re - \\sqrt{Re^{2} + 16 \\pi^{2}}\\right) e^{x \\left(\\frac{Re}{2} + 7 \\sqrt{Re^{2} + 16 \\pi^{2}}\\right)} \\cos{\\left(2 \\pi y \\right)} + Re \\left(Re^{3} - Re^{2} \\sqrt{Re^{2} + 16 \\pi^{2}} + 16 \\pi^{2} Re - 8 \\pi^{2} \\sqrt{Re^{2} + 16 \\pi^{2}}\\right) e^{x \\left(Re + \\frac{13 \\sqrt{Re^{2} + 16 \\pi^{2}}}{2}\\right)} \\cos{\\left(4 \\pi y \\right)} + 32 \\pi^{4} e^{\\frac{x \\left(Re + 14 \\sqrt{Re^{2} + 16 \\pi^{2}}\\right)}{2}} \\cos{\\left(2 \\pi y \\right)}\\right) e^{- \\frac{15 x \\sqrt{Re^{2} + 16 \\pi^{2}}}{2}}}{3 Re}\n",
      "\\big)\n"
     ]
    },
    {
     "data": {
      "text/latex": [
       "$\\displaystyle p_{y} + u v_{x} + u_{x} v + 2 v v_{y} + v_{t} - \\frac{v_{xx}}{Re} - \\frac{v_{yy}}{Re}$"
      ],
      "text/plain": [
       "p_{y} + u*v_{x} + u_{x}*v + 2*v*v_{y} + v_{t} - v_{xx}/Re - v_{yy}/Re"
      ]
     },
     "metadata": {},
     "output_type": "display_data"
    },
    {
     "name": "stdout",
     "output_type": "stream",
     "text": [
      "tau =>\n"
     ]
    },
    {
     "data": {
      "text/latex": [
       "$\\displaystyle \\frac{p_{ty}}{2} + \\frac{u v_{tx}}{2} + \\frac{u_{tx} v}{2} + \\frac{u_{t} v_{x}}{2} + \\frac{u_{x} v_{t}}{2} + v v_{ty} + \\frac{v_{tt}}{2} + v_{t} v_{y} - \\frac{v_{txx}}{2 Re} - \\frac{v_{tyy}}{2 Re}$"
      ],
      "text/plain": [
       "p_{ty}/2 + u*v_{tx}/2 + u_{tx}*v/2 + u_{t}*v_{x}/2 + u_{x}*v_{t}/2 + v*v_{ty} + v_{tt}/2 + v_{t}*v_{y} - v_{txx}/(2*Re) - v_{tyy}/(2*Re)"
      ]
     },
     "metadata": {},
     "output_type": "display_data"
    },
    {
     "name": "stdout",
     "output_type": "stream",
     "text": [
      "h^2 =>\n"
     ]
    },
    {
     "data": {
      "text/latex": [
       "$\\displaystyle \\frac{p_{yyy}}{6} + \\frac{u v_{xxx}}{6} + \\frac{u_{xxx} v}{6} + \\frac{u_{xx} v_{x}}{2} + \\frac{u_{x} v_{xx}}{2} + \\frac{v v_{yyy}}{3} + v_{yy} v_{y} - \\frac{v_{xxxx}}{3 Re} - \\frac{v_{yyyy}}{3 Re}$"
      ],
      "text/plain": [
       "p_{yyy}/6 + u*v_{xxx}/6 + u_{xxx}*v/6 + u_{xx}*v_{x}/2 + u_{x}*v_{xx}/2 + v*v_{yyy}/3 + v_{yy}*v_{y} - v_{xxxx}/(3*Re) - v_{yyyy}/(3*Re)"
      ]
     },
     "metadata": {},
     "output_type": "display_data"
    },
    {
     "name": "stdout",
     "output_type": "stream",
     "text": [
      "-------------------------\n"
     ]
    },
    {
     "data": {
      "text/latex": [
       "$\\displaystyle p_{y} + u v_{x} + u_{x} v + 2 v v_{y} + v_{t} - \\frac{v_{xx}}{Re} - \\frac{v_{yy}}{Re}$"
      ],
      "text/plain": [
       "p_{y} + u*v_{x} + u_{x}*v + 2*v*v_{y} + v_{t} - v_{xx}/Re - v_{yy}/Re"
      ]
     },
     "metadata": {},
     "output_type": "display_data"
    },
    {
     "name": "stdout",
     "output_type": "stream",
     "text": [
      "tau =>\n"
     ]
    },
    {
     "data": {
      "text/latex": [
       "$\\displaystyle 0$"
      ],
      "text/plain": [
       "0"
      ]
     },
     "metadata": {},
     "output_type": "display_data"
    },
    {
     "name": "stdout",
     "output_type": "stream",
     "text": [
      "h^2 =>\n"
     ]
    },
    {
     "data": {
      "text/latex": [
       "$\\displaystyle - \\frac{Re^{2} p_{y} u^{2}}{6} - \\frac{Re^{2} u^{3} v_{x}}{6} - \\frac{Re^{2} u^{2} v v_{y}}{6} - \\frac{Re^{2} u^{2} v_{t}}{6} - \\frac{Re p_{ty}}{3} - \\frac{Re p_{xy} u}{6} + Re p_{x} v_{x} - \\frac{Re p_{yy} v}{2} - \\frac{Re p_{y} v_{y}}{6} + \\frac{Re u^{2} v_{yy}}{6} - \\frac{2 Re u v v_{xy}}{3} - \\frac{Re u v_{tx}}{2} - \\frac{7 Re u v_{x} v_{y}}{6} + \\frac{2 Re u_{t} v_{x}}{3} + \\frac{Re u_{y} v v_{x}}{2} - \\frac{Re v^{2} v_{yy}}{2} - \\frac{5 Re v v_{ty}}{6} - \\frac{2 Re v v_{y}^{2}}{3} - \\frac{Re v_{tt}}{3} - \\frac{Re v_{t} v_{y}}{2} + \\frac{5 p_{yyy}}{6} + \\frac{u v_{xyy}}{2} + \\frac{4 u_{y} v_{xy}}{3} + \\frac{7 v v_{yyy}}{6} + \\frac{2 v_{tyy}}{3} + \\frac{v_{xy} v_{x}}{6} + \\frac{7 v_{yy} v_{y}}{2} - \\frac{2 v_{yyyy}}{3 Re}$"
      ],
      "text/plain": [
       "-Re**2*p_{y}*u**2/6 - Re**2*u**3*v_{x}/6 - Re**2*u**2*v*v_{y}/6 - Re**2*u**2*v_{t}/6 - Re*p_{ty}/3 - Re*p_{xy}*u/6 + Re*p_{x}*v_{x} - Re*p_{yy}*v/2 - Re*p_{y}*v_{y}/6 + Re*u**2*v_{yy}/6 - 2*Re*u*v*v_{xy}/3 - Re*u*v_{tx}/2 - 7*Re*u*v_{x}*v_{y}/6 + 2*Re*u_{t}*v_{x}/3 + Re*u_{y}*v*v_{x}/2 - Re*v**2*v_{yy}/2 - 5*Re*v*v_{ty}/6 - 2*Re*v*v_{y}**2/3 - Re*v_{tt}/3 - Re*v_{t}*v_{y}/2 + 5*p_{yyy}/6 + u*v_{xyy}/2 + 4*u_{y}*v_{xy}/3 + 7*v*v_{yyy}/6 + 2*v_{tyy}/3 + v_{xy}*v_{x}/6 + 7*v_{yy}*v_{y}/2 - 2*v_{yyyy}/(3*Re)"
      ]
     },
     "metadata": {},
     "output_type": "display_data"
    },
    {
     "name": "stdout",
     "output_type": "stream",
     "text": [
      "p_{y} + u v_{x} + u_{x} v + 2 v v_{y} + v_{t} - \\frac{v_{xx}}{Re} - \\frac{v_{yy}}{Re}\n",
      "+\\tau\\big(\n",
      "0\n",
      "\\big)\n",
      "+h^2\\big(\n",
      "- \\frac{Re^{2} p_{y} u^{2}}{6} - \\frac{Re^{2} u^{3} v_{x}}{6} - \\frac{Re^{2} u^{2} v v_{y}}{6} - \\frac{Re^{2} u^{2} v_{t}}{6} - \\frac{Re p_{ty}}{3} - \\frac{Re p_{xy} u}{6} + Re p_{x} v_{x} - \\frac{Re p_{yy} v}{2} - \\frac{Re p_{y} v_{y}}{6} + \\frac{Re u^{2} v_{yy}}{6} - \\frac{2 Re u v v_{xy}}{3} - \\frac{Re u v_{tx}}{2} - \\frac{7 Re u v_{x} v_{y}}{6} + \\frac{2 Re u_{t} v_{x}}{3} + \\frac{Re u_{y} v v_{x}}{2} - \\frac{Re v^{2} v_{yy}}{2} - \\frac{5 Re v v_{ty}}{6} - \\frac{2 Re v v_{y}^{2}}{3} - \\frac{Re v_{tt}}{3} - \\frac{Re v_{t} v_{y}}{2} + \\frac{5 p_{yyy}}{6} + \\frac{u v_{xyy}}{2} + \\frac{4 u_{y} v_{xy}}{3} + \\frac{7 v v_{yyy}}{6} + \\frac{2 v_{tyy}}{3} + \\frac{v_{xy} v_{x}}{6} + \\frac{7 v_{yy} v_{y}}{2} - \\frac{2 v_{yyyy}}{3 Re}\n",
      "\\big)\n"
     ]
    },
    {
     "data": {
      "text/latex": [
       "$\\displaystyle 0$"
      ],
      "text/plain": [
       "0"
      ]
     },
     "metadata": {},
     "output_type": "display_data"
    },
    {
     "name": "stdout",
     "output_type": "stream",
     "text": [
      "tau =>\n"
     ]
    },
    {
     "data": {
      "text/latex": [
       "$\\displaystyle 0$"
      ],
      "text/plain": [
       "0"
      ]
     },
     "metadata": {},
     "output_type": "display_data"
    },
    {
     "name": "stdout",
     "output_type": "stream",
     "text": [
      "h^2 =>\n"
     ]
    },
    {
     "data": {
      "text/latex": [
       "$\\displaystyle - \\frac{2 e^{- \\frac{2 t}{Re}} \\sin{\\left(x \\right)} \\cos{\\left(y \\right)}}{3 Re}$"
      ],
      "text/plain": [
       "-2*exp(-2*t/Re)*sin(x)*cos(y)/(3*Re)"
      ]
     },
     "metadata": {},
     "output_type": "display_data"
    },
    {
     "name": "stdout",
     "output_type": "stream",
     "text": [
      "0\n",
      "+\\tau\\big(\n",
      "0\n",
      "\\big)\n",
      "+h^2\\big(\n",
      "- \\frac{2 e^{- \\frac{2 t}{Re}} \\sin{\\left(x \\right)} \\cos{\\left(y \\right)}}{3 Re}\n",
      "\\big)\n"
     ]
    },
    {
     "data": {
      "text/latex": [
       "$\\displaystyle 0$"
      ],
      "text/plain": [
       "0"
      ]
     },
     "metadata": {},
     "output_type": "display_data"
    },
    {
     "name": "stdout",
     "output_type": "stream",
     "text": [
      "tau =>\n"
     ]
    },
    {
     "data": {
      "text/latex": [
       "$\\displaystyle 0$"
      ],
      "text/plain": [
       "0"
      ]
     },
     "metadata": {},
     "output_type": "display_data"
    },
    {
     "name": "stdout",
     "output_type": "stream",
     "text": [
      "h^2 =>\n"
     ]
    },
    {
     "data": {
      "text/latex": [
       "$\\displaystyle \\frac{\\left(Re^{4} \\left(- Re + \\sqrt{Re^{2} + 16 \\pi^{2}}\\right) e^{x \\left(\\frac{Re}{2} + 6 \\sqrt{Re^{2} + 16 \\pi^{2}}\\right)} + 8 Re^{4} \\left(- Re + \\sqrt{Re^{2} + 16 \\pi^{2}}\\right) e^{x \\left(Re + \\frac{11 \\sqrt{Re^{2} + 16 \\pi^{2}}}{2}\\right)} \\cos{\\left(2 \\pi y \\right)} + 32 \\pi^{2} Re \\left(- 5 Re^{2} + 3 Re \\sqrt{Re^{2} + 16 \\pi^{2}} - 16 \\pi^{2}\\right) e^{x \\left(Re + \\frac{11 \\sqrt{Re^{2} + 16 \\pi^{2}}}{2}\\right)} \\cos{\\left(2 \\pi y \\right)} + 8 \\pi^{2} Re \\left(- 3 Re^{2} + 2 Re \\sqrt{Re^{2} + 16 \\pi^{2}} - 20 \\pi^{2}\\right) e^{x \\left(\\frac{Re}{2} + 6 \\sqrt{Re^{2} + 16 \\pi^{2}}\\right)} + 64 \\pi^{4} \\sqrt{Re^{2} + 16 \\pi^{2}} e^{\\frac{x \\left(Re + 12 \\sqrt{Re^{2} + 16 \\pi^{2}}\\right)}{2}}\\right) e^{- \\frac{13 x \\sqrt{Re^{2} + 16 \\pi^{2}}}{2}} \\sin{\\left(2 \\pi y \\right)}}{24 \\pi Re}$"
      ],
      "text/plain": [
       "(Re**4*(-Re + sqrt(Re**2 + 16*pi**2))*exp(x*(Re/2 + 6*sqrt(Re**2 + 16*pi**2))) + 8*Re**4*(-Re + sqrt(Re**2 + 16*pi**2))*exp(x*(Re + 11*sqrt(Re**2 + 16*pi**2)/2))*cos(2*pi*y) + 32*pi**2*Re*(-5*Re**2 + 3*Re*sqrt(Re**2 + 16*pi**2) - 16*pi**2)*exp(x*(Re + 11*sqrt(Re**2 + 16*pi**2)/2))*cos(2*pi*y) + 8*pi**2*Re*(-3*Re**2 + 2*Re*sqrt(Re**2 + 16*pi**2) - 20*pi**2)*exp(x*(Re/2 + 6*sqrt(Re**2 + 16*pi**2))) + 64*pi**4*sqrt(Re**2 + 16*pi**2)*exp(x*(Re + 12*sqrt(Re**2 + 16*pi**2))/2))*exp(-13*x*sqrt(Re**2 + 16*pi**2)/2)*sin(2*pi*y)/(24*pi*Re)"
      ]
     },
     "metadata": {},
     "output_type": "display_data"
    },
    {
     "name": "stdout",
     "output_type": "stream",
     "text": [
      "0\n",
      "+\\tau\\big(\n",
      "0\n",
      "\\big)\n",
      "+h^2\\big(\n",
      "\\frac{\\left(Re^{4} \\left(- Re + \\sqrt{Re^{2} + 16 \\pi^{2}}\\right) e^{x \\left(\\frac{Re}{2} + 6 \\sqrt{Re^{2} + 16 \\pi^{2}}\\right)} + 8 Re^{4} \\left(- Re + \\sqrt{Re^{2} + 16 \\pi^{2}}\\right) e^{x \\left(Re + \\frac{11 \\sqrt{Re^{2} + 16 \\pi^{2}}}{2}\\right)} \\cos{\\left(2 \\pi y \\right)} + 32 \\pi^{2} Re \\left(- 5 Re^{2} + 3 Re \\sqrt{Re^{2} + 16 \\pi^{2}} - 16 \\pi^{2}\\right) e^{x \\left(Re + \\frac{11 \\sqrt{Re^{2} + 16 \\pi^{2}}}{2}\\right)} \\cos{\\left(2 \\pi y \\right)} + 8 \\pi^{2} Re \\left(- 3 Re^{2} + 2 Re \\sqrt{Re^{2} + 16 \\pi^{2}} - 20 \\pi^{2}\\right) e^{x \\left(\\frac{Re}{2} + 6 \\sqrt{Re^{2} + 16 \\pi^{2}}\\right)} + 64 \\pi^{4} \\sqrt{Re^{2} + 16 \\pi^{2}} e^{\\frac{x \\left(Re + 12 \\sqrt{Re^{2} + 16 \\pi^{2}}\\right)}{2}}\\right) e^{- \\frac{13 x \\sqrt{Re^{2} + 16 \\pi^{2}}}{2}} \\sin{\\left(2 \\pi y \\right)}}{24 \\pi Re}\n",
      "\\big)\n"
     ]
    },
    {
     "data": {
      "text/latex": [
       "$\\displaystyle p_{xx} + p_{yy} + 2 u u_{xx} + 2 u v_{xy} + 2 u_{xy} v + 2 u_{x}^{2} + 2 u_{x} v_{y} + 2 u_{y} v_{x} + 2 v v_{yy} + 2 v_{y}^{2}$"
      ],
      "text/plain": [
       "p_{xx} + p_{yy} + 2*u*u_{xx} + 2*u*v_{xy} + 2*u_{xy}*v + 2*u_{x}**2 + 2*u_{x}*v_{y} + 2*u_{y}*v_{x} + 2*v*v_{yy} + 2*v_{y}**2"
      ]
     },
     "metadata": {},
     "output_type": "display_data"
    },
    {
     "name": "stdout",
     "output_type": "stream",
     "text": [
      "tau =>\n"
     ]
    },
    {
     "data": {
      "text/latex": [
       "$\\displaystyle 0$"
      ],
      "text/plain": [
       "0"
      ]
     },
     "metadata": {},
     "output_type": "display_data"
    },
    {
     "name": "stdout",
     "output_type": "stream",
     "text": [
      "h^2 =>\n"
     ]
    },
    {
     "data": {
      "text/latex": [
       "$\\displaystyle \\frac{p_{xxxx}}{3} + \\frac{p_{yyyy}}{3} + \\frac{2 u u_{xxxx}}{3} + \\frac{u v_{xxxy}}{3} + \\frac{u v_{xyyy}}{3} + \\frac{u_{xxxy} v}{3} + \\frac{8 u_{xxx} u_{x}}{3} + \\frac{u_{xxx} v_{y}}{3} + u_{xxy} v_{x} + 2 u_{xx}^{2} + u_{xx} v_{xy} + \\frac{u_{xyyy} v}{3} + u_{xyy} v_{y} + u_{xy} v_{xx} + u_{xy} v_{yy} + u_{x} v_{xxy} + \\frac{u_{x} v_{yyy}}{3} + \\frac{u_{yyy} v_{x}}{3} + u_{yy} v_{xy} + \\frac{u_{y} v_{xxx}}{3} + u_{y} v_{xyy} + \\frac{2 v v_{yyyy}}{3} + \\frac{8 v_{yyy} v_{y}}{3} + 2 v_{yy}^{2}$"
      ],
      "text/plain": [
       "p_{xxxx}/3 + p_{yyyy}/3 + 2*u*u_{xxxx}/3 + u*v_{xxxy}/3 + u*v_{xyyy}/3 + u_{xxxy}*v/3 + 8*u_{xxx}*u_{x}/3 + u_{xxx}*v_{y}/3 + u_{xxy}*v_{x} + 2*u_{xx}**2 + u_{xx}*v_{xy} + u_{xyyy}*v/3 + u_{xyy}*v_{y} + u_{xy}*v_{xx} + u_{xy}*v_{yy} + u_{x}*v_{xxy} + u_{x}*v_{yyy}/3 + u_{yyy}*v_{x}/3 + u_{yy}*v_{xy} + u_{y}*v_{xxx}/3 + u_{y}*v_{xyy} + 2*v*v_{yyyy}/3 + 8*v_{yyy}*v_{y}/3 + 2*v_{yy}**2"
      ]
     },
     "metadata": {},
     "output_type": "display_data"
    },
    {
     "name": "stdout",
     "output_type": "stream",
     "text": [
      "-------------------------\n"
     ]
    },
    {
     "data": {
      "text/latex": [
       "$\\displaystyle p_{xx} + p_{yy} + 2 u u_{xx} + 2 u v_{xy} + 2 u_{xy} v + 2 u_{x}^{2} + 2 u_{x} v_{y} + 2 u_{y} v_{x} + 2 v v_{yy} + 2 v_{y}^{2}$"
      ],
      "text/plain": [
       "p_{xx} + p_{yy} + 2*u*u_{xx} + 2*u*v_{xy} + 2*u_{xy}*v + 2*u_{x}**2 + 2*u_{x}*v_{y} + 2*u_{y}*v_{x} + 2*v*v_{yy} + 2*v_{y}**2"
      ]
     },
     "metadata": {},
     "output_type": "display_data"
    },
    {
     "name": "stdout",
     "output_type": "stream",
     "text": [
      "tau =>\n"
     ]
    },
    {
     "data": {
      "text/latex": [
       "$\\displaystyle 0$"
      ],
      "text/plain": [
       "0"
      ]
     },
     "metadata": {},
     "output_type": "display_data"
    },
    {
     "name": "stdout",
     "output_type": "stream",
     "text": [
      "h^2 =>\n"
     ]
    },
    {
     "data": {
      "text/latex": [
       "$\\displaystyle \\frac{2 Re^{2} p_{x} v v_{x}}{3} - \\frac{Re^{2} p_{yy} u^{2}}{3} - \\frac{2 Re^{2} p_{y} u u_{y}}{3} - \\frac{Re^{2} u^{3} v_{xy}}{3} - Re^{2} u^{2} u_{y} v_{x} - \\frac{Re^{2} u^{2} v v_{yy}}{3} - \\frac{Re^{2} u^{2} v_{ty}}{3} - \\frac{Re^{2} u^{2} v_{y}^{2}}{3} - \\frac{2 Re^{2} u u_{y} v v_{y}}{3} - \\frac{2 Re^{2} u u_{y} v_{t}}{3} - \\frac{2 Re^{2} u v v_{x} v_{y}}{3} + \\frac{2 Re^{2} u_{t} v v_{x}}{3} + \\frac{2 Re^{2} u_{y} v^{2} v_{x}}{3} - \\frac{Re p_{xyy} u}{3} - \\frac{Re p_{xy} u_{y}}{3} + Re p_{xy} v_{x} + \\frac{7 Re p_{x} v_{xy}}{3} - \\frac{Re p_{yyy} v}{3} + \\frac{Re p_{y} v_{yy}}{3} + \\frac{Re u^{2} v_{yyy}}{3} + \\frac{2 Re u u_{y} v_{yy}}{3} - \\frac{2 Re u v v_{xyy}}{3} - \\frac{Re u v_{txy}}{3} - \\frac{8 Re u v_{xy} v_{y}}{3} - \\frac{2 Re u v_{x} v_{yy}}{3} + Re u_{ty} v_{x} + \\frac{7 Re u_{t} v_{xy}}{3} + \\frac{4 Re u_{y} v v_{xy}}{3} - \\frac{Re u_{y} v_{tx}}{3} - \\frac{Re v^{2} v_{yyy}}{3} - \\frac{Re v v_{tyy}}{3} + \\frac{2 Re v v_{xy} v_{x}}{3} - \\frac{2 Re v v_{yy} v_{y}}{3} + \\frac{Re v_{t} v_{yy}}{3} + \\frac{2 p_{yyyy}}{3} + \\frac{2 u v_{xyyy}}{3} + 2 u_{y} v_{xyy} + \\frac{2 v v_{yyyy}}{3} + \\frac{2 v_{xyy} v_{x}}{3} + 2 v_{xy}^{2} + \\frac{8 v_{yyy} v_{y}}{3} + 2 v_{yy}^{2}$"
      ],
      "text/plain": [
       "2*Re**2*p_{x}*v*v_{x}/3 - Re**2*p_{yy}*u**2/3 - 2*Re**2*p_{y}*u*u_{y}/3 - Re**2*u**3*v_{xy}/3 - Re**2*u**2*u_{y}*v_{x} - Re**2*u**2*v*v_{yy}/3 - Re**2*u**2*v_{ty}/3 - Re**2*u**2*v_{y}**2/3 - 2*Re**2*u*u_{y}*v*v_{y}/3 - 2*Re**2*u*u_{y}*v_{t}/3 - 2*Re**2*u*v*v_{x}*v_{y}/3 + 2*Re**2*u_{t}*v*v_{x}/3 + 2*Re**2*u_{y}*v**2*v_{x}/3 - Re*p_{xyy}*u/3 - Re*p_{xy}*u_{y}/3 + Re*p_{xy}*v_{x} + 7*Re*p_{x}*v_{xy}/3 - Re*p_{yyy}*v/3 + Re*p_{y}*v_{yy}/3 + Re*u**2*v_{yyy}/3 + 2*Re*u*u_{y}*v_{yy}/3 - 2*Re*u*v*v_{xyy}/3 - Re*u*v_{txy}/3 - 8*Re*u*v_{xy}*v_{y}/3 - 2*Re*u*v_{x}*v_{yy}/3 + Re*u_{ty}*v_{x} + 7*Re*u_{t}*v_{xy}/3 + 4*Re*u_{y}*v*v_{xy}/3 - Re*u_{y}*v_{tx}/3 - Re*v**2*v_{yyy}/3 - Re*v*v_{tyy}/3 + 2*Re*v*v_{xy}*v_{x}/3 - 2*Re*v*v_{yy}*v_{y}/3 + Re*v_{t}*v_{yy}/3 + 2*p_{yyyy}/3 + 2*u*v_{xyyy}/3 + 2*u_{y}*v_{xyy} + 2*v*v_{yyyy}/3 + 2*v_{xyy}*v_{x}/3 + 2*v_{xy}**2 + 8*v_{yyy}*v_{y}/3 + 2*v_{yy}**2"
      ]
     },
     "metadata": {},
     "output_type": "display_data"
    },
    {
     "name": "stdout",
     "output_type": "stream",
     "text": [
      "p_{xx} + p_{yy} + 2 u u_{xx} + 2 u v_{xy} + 2 u_{xy} v + 2 u_{x}^{2} + 2 u_{x} v_{y} + 2 u_{y} v_{x} + 2 v v_{yy} + 2 v_{y}^{2}\n",
      "+\\tau\\big(\n",
      "0\n",
      "\\big)\n",
      "+h^2\\big(\n",
      "\\frac{2 Re^{2} p_{x} v v_{x}}{3} - \\frac{Re^{2} p_{yy} u^{2}}{3} - \\frac{2 Re^{2} p_{y} u u_{y}}{3} - \\frac{Re^{2} u^{3} v_{xy}}{3} - Re^{2} u^{2} u_{y} v_{x} - \\frac{Re^{2} u^{2} v v_{yy}}{3} - \\frac{Re^{2} u^{2} v_{ty}}{3} - \\frac{Re^{2} u^{2} v_{y}^{2}}{3} - \\frac{2 Re^{2} u u_{y} v v_{y}}{3} - \\frac{2 Re^{2} u u_{y} v_{t}}{3} - \\frac{2 Re^{2} u v v_{x} v_{y}}{3} + \\frac{2 Re^{2} u_{t} v v_{x}}{3} + \\frac{2 Re^{2} u_{y} v^{2} v_{x}}{3} - \\frac{Re p_{xyy} u}{3} - \\frac{Re p_{xy} u_{y}}{3} + Re p_{xy} v_{x} + \\frac{7 Re p_{x} v_{xy}}{3} - \\frac{Re p_{yyy} v}{3} + \\frac{Re p_{y} v_{yy}}{3} + \\frac{Re u^{2} v_{yyy}}{3} + \\frac{2 Re u u_{y} v_{yy}}{3} - \\frac{2 Re u v v_{xyy}}{3} - \\frac{Re u v_{txy}}{3} - \\frac{8 Re u v_{xy} v_{y}}{3} - \\frac{2 Re u v_{x} v_{yy}}{3} + Re u_{ty} v_{x} + \\frac{7 Re u_{t} v_{xy}}{3} + \\frac{4 Re u_{y} v v_{xy}}{3} - \\frac{Re u_{y} v_{tx}}{3} - \\frac{Re v^{2} v_{yyy}}{3} - \\frac{Re v v_{tyy}}{3} + \\frac{2 Re v v_{xy} v_{x}}{3} - \\frac{2 Re v v_{yy} v_{y}}{3} + \\frac{Re v_{t} v_{yy}}{3} + \\frac{2 p_{yyyy}}{3} + \\frac{2 u v_{xyyy}}{3} + 2 u_{y} v_{xyy} + \\frac{2 v v_{yyyy}}{3} + \\frac{2 v_{xyy} v_{x}}{3} + 2 v_{xy}^{2} + \\frac{8 v_{yyy} v_{y}}{3} + 2 v_{yy}^{2}\n",
      "\\big)\n"
     ]
    },
    {
     "data": {
      "text/latex": [
       "$\\displaystyle 0$"
      ],
      "text/plain": [
       "0"
      ]
     },
     "metadata": {},
     "output_type": "display_data"
    },
    {
     "name": "stdout",
     "output_type": "stream",
     "text": [
      "tau =>\n"
     ]
    },
    {
     "data": {
      "text/latex": [
       "$\\displaystyle 0$"
      ],
      "text/plain": [
       "0"
      ]
     },
     "metadata": {},
     "output_type": "display_data"
    },
    {
     "name": "stdout",
     "output_type": "stream",
     "text": [
      "h^2 =>\n"
     ]
    },
    {
     "data": {
      "text/latex": [
       "$\\displaystyle 0$"
      ],
      "text/plain": [
       "0"
      ]
     },
     "metadata": {},
     "output_type": "display_data"
    },
    {
     "name": "stdout",
     "output_type": "stream",
     "text": [
      "0\n",
      "+\\tau\\big(\n",
      "0\n",
      "\\big)\n",
      "+h^2\\big(\n",
      "0\n",
      "\\big)\n"
     ]
    },
    {
     "data": {
      "text/latex": [
       "$\\displaystyle 0$"
      ],
      "text/plain": [
       "0"
      ]
     },
     "metadata": {},
     "output_type": "display_data"
    },
    {
     "name": "stdout",
     "output_type": "stream",
     "text": [
      "tau =>\n"
     ]
    },
    {
     "data": {
      "text/latex": [
       "$\\displaystyle 0$"
      ],
      "text/plain": [
       "0"
      ]
     },
     "metadata": {},
     "output_type": "display_data"
    },
    {
     "name": "stdout",
     "output_type": "stream",
     "text": [
      "h^2 =>\n"
     ]
    },
    {
     "data": {
      "text/latex": [
       "$\\displaystyle \\frac{\\left(- Re^{4} + Re^{3} \\sqrt{Re^{2} + 16 \\pi^{2}} - 20 \\pi^{2} Re^{2} + 12 \\pi^{2} Re \\sqrt{Re^{2} + 16 \\pi^{2}} - 64 \\pi^{4}\\right) e^{\\frac{x \\left(Re - \\sqrt{Re^{2} + 16 \\pi^{2}}\\right)}{2}} \\cos{\\left(2 \\pi y \\right)}}{6}$"
      ],
      "text/plain": [
       "(-Re**4 + Re**3*sqrt(Re**2 + 16*pi**2) - 20*pi**2*Re**2 + 12*pi**2*Re*sqrt(Re**2 + 16*pi**2) - 64*pi**4)*exp(x*(Re - sqrt(Re**2 + 16*pi**2))/2)*cos(2*pi*y)/6"
      ]
     },
     "metadata": {},
     "output_type": "display_data"
    },
    {
     "name": "stdout",
     "output_type": "stream",
     "text": [
      "0\n",
      "+\\tau\\big(\n",
      "0\n",
      "\\big)\n",
      "+h^2\\big(\n",
      "\\frac{\\left(- Re^{4} + Re^{3} \\sqrt{Re^{2} + 16 \\pi^{2}} - 20 \\pi^{2} Re^{2} + 12 \\pi^{2} Re \\sqrt{Re^{2} + 16 \\pi^{2}} - 64 \\pi^{4}\\right) e^{\\frac{x \\left(Re - \\sqrt{Re^{2} + 16 \\pi^{2}}\\right)}{2}} \\cos{\\left(2 \\pi y \\right)}}{6}\n",
      "\\big)\n"
     ]
    },
    {
     "data": {
      "text/latex": [
       "$\\displaystyle 0$"
      ],
      "text/plain": [
       "0"
      ]
     },
     "metadata": {},
     "output_type": "display_data"
    },
    {
     "name": "stdout",
     "output_type": "stream",
     "text": [
      "tau =>\n"
     ]
    },
    {
     "data": {
      "text/latex": [
       "$\\displaystyle 0$"
      ],
      "text/plain": [
       "0"
      ]
     },
     "metadata": {},
     "output_type": "display_data"
    },
    {
     "name": "stdout",
     "output_type": "stream",
     "text": [
      "h^2 =>\n"
     ]
    },
    {
     "data": {
      "text/latex": [
       "$\\displaystyle 0$"
      ],
      "text/plain": [
       "0"
      ]
     },
     "metadata": {},
     "output_type": "display_data"
    },
    {
     "name": "stdout",
     "output_type": "stream",
     "text": [
      "0\n",
      "+\\tau\\big(\n",
      "0\n",
      "\\big)\n",
      "+h^2\\big(\n",
      "0\n",
      "\\big)\n"
     ]
    }
   ],
   "source": [
    "F1 = clip(Dx(u) + Dy(v))\n",
    "F2 = clip(Dt(u) + It(Dx(u**2) + Dy(v*u) + Dx(p) - DD2(u)/Re))\n",
    "F3 = clip(Dt(v) + It(Dx(u*v) + Dy(v**2) + Dy(p) - DD2(v)/Re))\n",
    "F4 = clip(Dx(Dx(u**2) + Dy(v*u) + Dx(p)) + Dy(Dx(u*v) + Dy(v**2) + Dy(p)))\n",
    "\n",
    "build(F1, F2, F3, F4)"
   ]
  },
  {
   "cell_type": "code",
   "execution_count": 35,
   "metadata": {},
   "outputs": [
    {
     "data": {
      "text/latex": [
       "$\\displaystyle u_{x} + v_{y}$"
      ],
      "text/plain": [
       "u_{x} + v_{y}"
      ]
     },
     "metadata": {},
     "output_type": "display_data"
    },
    {
     "name": "stdout",
     "output_type": "stream",
     "text": [
      "tau =>\n"
     ]
    },
    {
     "data": {
      "text/latex": [
       "$\\displaystyle 0$"
      ],
      "text/plain": [
       "0"
      ]
     },
     "metadata": {},
     "output_type": "display_data"
    },
    {
     "name": "stdout",
     "output_type": "stream",
     "text": [
      "h^2 =>\n"
     ]
    },
    {
     "data": {
      "text/latex": [
       "$\\displaystyle \\frac{u_{xxx}}{6} + \\frac{v_{yyy}}{6}$"
      ],
      "text/plain": [
       "u_{xxx}/6 + v_{yyy}/6"
      ]
     },
     "metadata": {},
     "output_type": "display_data"
    },
    {
     "name": "stdout",
     "output_type": "stream",
     "text": [
      "-------------------------\n"
     ]
    },
    {
     "data": {
      "text/latex": [
       "$\\displaystyle u_{x} + v_{y}$"
      ],
      "text/plain": [
       "u_{x} + v_{y}"
      ]
     },
     "metadata": {},
     "output_type": "display_data"
    },
    {
     "name": "stdout",
     "output_type": "stream",
     "text": [
      "tau =>\n"
     ]
    },
    {
     "data": {
      "text/latex": [
       "$\\displaystyle 0$"
      ],
      "text/plain": [
       "0"
      ]
     },
     "metadata": {},
     "output_type": "display_data"
    },
    {
     "name": "stdout",
     "output_type": "stream",
     "text": [
      "h^2 =>\n"
     ]
    },
    {
     "data": {
      "text/latex": [
       "$\\displaystyle - \\frac{Re p_{yy}}{6} - \\frac{Re u v_{xy}}{6} - \\frac{Re u_{y} v_{x}}{6} - \\frac{Re v v_{yy}}{6} - \\frac{Re v_{ty}}{6} - \\frac{Re v_{y}^{2}}{6} + \\frac{v_{yyy}}{3}$"
      ],
      "text/plain": [
       "-Re*p_{yy}/6 - Re*u*v_{xy}/6 - Re*u_{y}*v_{x}/6 - Re*v*v_{yy}/6 - Re*v_{ty}/6 - Re*v_{y}**2/6 + v_{yyy}/3"
      ]
     },
     "metadata": {},
     "output_type": "display_data"
    },
    {
     "name": "stdout",
     "output_type": "stream",
     "text": [
      "u_{x} + v_{y}\n",
      "+\\tau\\big(\n",
      "0\n",
      "\\big)\n",
      "+h^2\\big(\n",
      "- \\frac{Re p_{yy}}{6} - \\frac{Re u v_{xy}}{6} - \\frac{Re u_{y} v_{x}}{6} - \\frac{Re v v_{yy}}{6} - \\frac{Re v_{ty}}{6} - \\frac{Re v_{y}^{2}}{6} + \\frac{v_{yyy}}{3}\n",
      "\\big)\n"
     ]
    },
    {
     "data": {
      "text/latex": [
       "$\\displaystyle 0$"
      ],
      "text/plain": [
       "0"
      ]
     },
     "metadata": {},
     "output_type": "display_data"
    },
    {
     "name": "stdout",
     "output_type": "stream",
     "text": [
      "tau =>\n"
     ]
    },
    {
     "data": {
      "text/latex": [
       "$\\displaystyle 0$"
      ],
      "text/plain": [
       "0"
      ]
     },
     "metadata": {},
     "output_type": "display_data"
    },
    {
     "name": "stdout",
     "output_type": "stream",
     "text": [
      "h^2 =>\n"
     ]
    },
    {
     "data": {
      "text/latex": [
       "$\\displaystyle 0$"
      ],
      "text/plain": [
       "0"
      ]
     },
     "metadata": {},
     "output_type": "display_data"
    },
    {
     "name": "stdout",
     "output_type": "stream",
     "text": [
      "0\n",
      "+\\tau\\big(\n",
      "0\n",
      "\\big)\n",
      "+h^2\\big(\n",
      "0\n",
      "\\big)\n"
     ]
    },
    {
     "data": {
      "text/latex": [
       "$\\displaystyle 0$"
      ],
      "text/plain": [
       "0"
      ]
     },
     "metadata": {},
     "output_type": "display_data"
    },
    {
     "name": "stdout",
     "output_type": "stream",
     "text": [
      "tau =>\n"
     ]
    },
    {
     "data": {
      "text/latex": [
       "$\\displaystyle 0$"
      ],
      "text/plain": [
       "0"
      ]
     },
     "metadata": {},
     "output_type": "display_data"
    },
    {
     "name": "stdout",
     "output_type": "stream",
     "text": [
      "h^2 =>\n"
     ]
    },
    {
     "data": {
      "text/latex": [
       "$\\displaystyle \\frac{\\left(- Re^{3} + Re^{2} \\sqrt{Re^{2} + 16 \\pi^{2}} - 16 \\pi^{2} Re + 8 \\pi^{2} \\sqrt{Re^{2} + 16 \\pi^{2}}\\right) e^{\\frac{x \\left(Re - \\sqrt{Re^{2} + 16 \\pi^{2}}\\right)}{2}} \\cos{\\left(2 \\pi y \\right)}}{12}$"
      ],
      "text/plain": [
       "(-Re**3 + Re**2*sqrt(Re**2 + 16*pi**2) - 16*pi**2*Re + 8*pi**2*sqrt(Re**2 + 16*pi**2))*exp(x*(Re - sqrt(Re**2 + 16*pi**2))/2)*cos(2*pi*y)/12"
      ]
     },
     "metadata": {},
     "output_type": "display_data"
    },
    {
     "name": "stdout",
     "output_type": "stream",
     "text": [
      "0\n",
      "+\\tau\\big(\n",
      "0\n",
      "\\big)\n",
      "+h^2\\big(\n",
      "\\frac{\\left(- Re^{3} + Re^{2} \\sqrt{Re^{2} + 16 \\pi^{2}} - 16 \\pi^{2} Re + 8 \\pi^{2} \\sqrt{Re^{2} + 16 \\pi^{2}}\\right) e^{\\frac{x \\left(Re - \\sqrt{Re^{2} + 16 \\pi^{2}}\\right)}{2}} \\cos{\\left(2 \\pi y \\right)}}{12}\n",
      "\\big)\n"
     ]
    },
    {
     "data": {
      "text/latex": [
       "$\\displaystyle p_{x} + u u_{x} + u_{t} + u_{y} v - \\frac{u_{xx}}{Re} - \\frac{u_{yy}}{Re}$"
      ],
      "text/plain": [
       "p_{x} + u*u_{x} + u_{t} + u_{y}*v - u_{xx}/Re - u_{yy}/Re"
      ]
     },
     "metadata": {},
     "output_type": "display_data"
    },
    {
     "name": "stdout",
     "output_type": "stream",
     "text": [
      "tau =>\n"
     ]
    },
    {
     "data": {
      "text/latex": [
       "$\\displaystyle p_{tx} + u u_{tx} + \\frac{u_{tt}}{2} + u_{ty} v + u_{t} u_{x} + u_{y} v_{t} - \\frac{u_{txx}}{Re} - \\frac{u_{tyy}}{Re}$"
      ],
      "text/plain": [
       "p_{tx} + u*u_{tx} + u_{tt}/2 + u_{ty}*v + u_{t}*u_{x} + u_{y}*v_{t} - u_{txx}/Re - u_{tyy}/Re"
      ]
     },
     "metadata": {},
     "output_type": "display_data"
    },
    {
     "name": "stdout",
     "output_type": "stream",
     "text": [
      "h^2 =>\n"
     ]
    },
    {
     "data": {
      "text/latex": [
       "$\\displaystyle \\frac{p_{xxx}}{6} + \\frac{u u_{xxx}}{6} + \\frac{u_{yyy} v}{6} - \\frac{u_{xxxx}}{12 Re} - \\frac{u_{yyyy}}{12 Re}$"
      ],
      "text/plain": [
       "p_{xxx}/6 + u*u_{xxx}/6 + u_{yyy}*v/6 - u_{xxxx}/(12*Re) - u_{yyyy}/(12*Re)"
      ]
     },
     "metadata": {},
     "output_type": "display_data"
    },
    {
     "name": "stdout",
     "output_type": "stream",
     "text": [
      "-------------------------\n"
     ]
    },
    {
     "data": {
      "text/latex": [
       "$\\displaystyle p_{x} + u u_{x} + u_{t} + u_{y} v - \\frac{u_{xx}}{Re} - \\frac{u_{yy}}{Re}$"
      ],
      "text/plain": [
       "p_{x} + u*u_{x} + u_{t} + u_{y}*v - u_{xx}/Re - u_{yy}/Re"
      ]
     },
     "metadata": {},
     "output_type": "display_data"
    },
    {
     "name": "stdout",
     "output_type": "stream",
     "text": [
      "tau =>\n"
     ]
    },
    {
     "data": {
      "text/latex": [
       "$\\displaystyle - \\frac{u_{tt}}{2}$"
      ],
      "text/plain": [
       "-u_{tt}/2"
      ]
     },
     "metadata": {},
     "output_type": "display_data"
    },
    {
     "name": "stdout",
     "output_type": "stream",
     "text": [
      "h^2 =>\n"
     ]
    },
    {
     "data": {
      "text/latex": [
       "$\\displaystyle \\frac{Re^{2} p_{x} v^{2}}{12} - \\frac{Re^{2} u v^{2} v_{y}}{12} + \\frac{Re^{2} u_{t} v^{2}}{12} + \\frac{Re^{2} u_{y} v^{3}}{12} - \\frac{Re p_{tx}}{12} + \\frac{Re p_{xy} v}{12} - \\frac{Re p_{x} v_{y}}{12} - \\frac{Re p_{yy} u}{12} - \\frac{Re p_{y} u_{y}}{4} - \\frac{Re u^{2} v_{xy}}{12} - \\frac{Re u u_{y} v_{x}}{3} - \\frac{Re u v v_{yy}}{6} - \\frac{Re u_{tt}}{12} - \\frac{Re u_{y} v v_{y}}{3} - \\frac{Re u_{y} v_{t}}{3} + \\frac{Re v^{2} v_{xy}}{12} - \\frac{p_{xyy}}{6} + \\frac{u v_{yyy}}{6} + \\frac{u_{ttt}}{2} + \\frac{u_{y} v_{yy}}{3} + \\frac{v v_{xyy}}{6} - \\frac{2 v_{xy} v_{y}}{3} + \\frac{v_{x} v_{yy}}{3} - \\frac{v_{xyyy}}{6 Re}$"
      ],
      "text/plain": [
       "Re**2*p_{x}*v**2/12 - Re**2*u*v**2*v_{y}/12 + Re**2*u_{t}*v**2/12 + Re**2*u_{y}*v**3/12 - Re*p_{tx}/12 + Re*p_{xy}*v/12 - Re*p_{x}*v_{y}/12 - Re*p_{yy}*u/12 - Re*p_{y}*u_{y}/4 - Re*u**2*v_{xy}/12 - Re*u*u_{y}*v_{x}/3 - Re*u*v*v_{yy}/6 - Re*u_{tt}/12 - Re*u_{y}*v*v_{y}/3 - Re*u_{y}*v_{t}/3 + Re*v**2*v_{xy}/12 - p_{xyy}/6 + u*v_{yyy}/6 + u_{ttt}/2 + u_{y}*v_{yy}/3 + v*v_{xyy}/6 - 2*v_{xy}*v_{y}/3 + v_{x}*v_{yy}/3 - v_{xyyy}/(6*Re)"
      ]
     },
     "metadata": {},
     "output_type": "display_data"
    },
    {
     "name": "stdout",
     "output_type": "stream",
     "text": [
      "p_{x} + u u_{x} + u_{t} + u_{y} v - \\frac{u_{xx}}{Re} - \\frac{u_{yy}}{Re}\n",
      "+\\tau\\big(\n",
      "- \\frac{u_{tt}}{2}\n",
      "\\big)\n",
      "+h^2\\big(\n",
      "\\frac{Re^{2} p_{x} v^{2}}{12} - \\frac{Re^{2} u v^{2} v_{y}}{12} + \\frac{Re^{2} u_{t} v^{2}}{12} + \\frac{Re^{2} u_{y} v^{3}}{12} - \\frac{Re p_{tx}}{12} + \\frac{Re p_{xy} v}{12} - \\frac{Re p_{x} v_{y}}{12} - \\frac{Re p_{yy} u}{12} - \\frac{Re p_{y} u_{y}}{4} - \\frac{Re u^{2} v_{xy}}{12} - \\frac{Re u u_{y} v_{x}}{3} - \\frac{Re u v v_{yy}}{6} - \\frac{Re u_{tt}}{12} - \\frac{Re u_{y} v v_{y}}{3} - \\frac{Re u_{y} v_{t}}{3} + \\frac{Re v^{2} v_{xy}}{12} - \\frac{p_{xyy}}{6} + \\frac{u v_{yyy}}{6} + \\frac{u_{ttt}}{2} + \\frac{u_{y} v_{yy}}{3} + \\frac{v v_{xyy}}{6} - \\frac{2 v_{xy} v_{y}}{3} + \\frac{v_{x} v_{yy}}{3} - \\frac{v_{xyyy}}{6 Re}\n",
      "\\big)\n"
     ]
    },
    {
     "data": {
      "text/latex": [
       "$\\displaystyle 0$"
      ],
      "text/plain": [
       "0"
      ]
     },
     "metadata": {},
     "output_type": "display_data"
    },
    {
     "name": "stdout",
     "output_type": "stream",
     "text": [
      "tau =>\n"
     ]
    },
    {
     "data": {
      "text/latex": [
       "$\\displaystyle \\frac{2 e^{- \\frac{2 t}{Re}} \\sin{\\left(y \\right)} \\cos{\\left(x \\right)}}{Re^{2}}$"
      ],
      "text/plain": [
       "2*exp(-2*t/Re)*sin(y)*cos(x)/Re**2"
      ]
     },
     "metadata": {},
     "output_type": "display_data"
    },
    {
     "name": "stdout",
     "output_type": "stream",
     "text": [
      "h^2 =>\n"
     ]
    },
    {
     "data": {
      "text/latex": [
       "$\\displaystyle \\frac{\\left(- 3 Re^{3} \\sin{\\left(x \\right)} + Re^{2} e^{\\frac{2 t}{Re}} \\sin{\\left(y \\right)} + 24 e^{\\frac{2 t}{Re}} \\sin{\\left(y \\right)}\\right) e^{- \\frac{4 t}{Re}} \\cos{\\left(x \\right)}}{6 Re^{3}}$"
      ],
      "text/plain": [
       "(-3*Re**3*sin(x) + Re**2*exp(2*t/Re)*sin(y) + 24*exp(2*t/Re)*sin(y))*exp(-4*t/Re)*cos(x)/(6*Re**3)"
      ]
     },
     "metadata": {},
     "output_type": "display_data"
    },
    {
     "name": "stdout",
     "output_type": "stream",
     "text": [
      "0\n",
      "+\\tau\\big(\n",
      "\\frac{2 e^{- \\frac{2 t}{Re}} \\sin{\\left(y \\right)} \\cos{\\left(x \\right)}}{Re^{2}}\n",
      "\\big)\n",
      "+h^2\\big(\n",
      "\\frac{\\left(- 3 Re^{3} \\sin{\\left(x \\right)} + Re^{2} e^{\\frac{2 t}{Re}} \\sin{\\left(y \\right)} + 24 e^{\\frac{2 t}{Re}} \\sin{\\left(y \\right)}\\right) e^{- \\frac{4 t}{Re}} \\cos{\\left(x \\right)}}{6 Re^{3}}\n",
      "\\big)\n"
     ]
    },
    {
     "data": {
      "text/latex": [
       "$\\displaystyle 0$"
      ],
      "text/plain": [
       "0"
      ]
     },
     "metadata": {},
     "output_type": "display_data"
    },
    {
     "name": "stdout",
     "output_type": "stream",
     "text": [
      "tau =>\n"
     ]
    },
    {
     "data": {
      "text/latex": [
       "$\\displaystyle 0$"
      ],
      "text/plain": [
       "0"
      ]
     },
     "metadata": {},
     "output_type": "display_data"
    },
    {
     "name": "stdout",
     "output_type": "stream",
     "text": [
      "h^2 =>\n"
     ]
    },
    {
     "data": {
      "text/latex": [
       "$\\displaystyle \\frac{\\left(Re^{2} \\left(- Re^{2} + Re \\sqrt{Re^{2} + 16 \\pi^{2}} - 8 \\pi^{2}\\right) e^{x \\left(\\frac{Re}{2} + 7 \\sqrt{Re^{2} + 16 \\pi^{2}}\\right)} \\cos{\\left(2 \\pi y \\right)} + 2 Re \\left(- 4 Re^{3} \\sin^{2}{\\left(2 \\pi y \\right)} - 3 Re^{3} \\cos^{2}{\\left(2 \\pi y \\right)} + 4 Re^{2} \\sqrt{Re^{2} + 16 \\pi^{2}} \\sin^{2}{\\left(2 \\pi y \\right)} + 3 Re^{2} \\sqrt{Re^{2} + 16 \\pi^{2}} \\cos^{2}{\\left(2 \\pi y \\right)} - 52 \\pi^{2} Re \\sin^{2}{\\left(2 \\pi y \\right)} - 36 \\pi^{2} Re \\cos^{2}{\\left(2 \\pi y \\right)} + 20 \\pi^{2} \\sqrt{Re^{2} + 16 \\pi^{2}} \\sin^{2}{\\left(2 \\pi y \\right)} + 12 \\pi^{2} \\sqrt{Re^{2} + 16 \\pi^{2}} \\cos^{2}{\\left(2 \\pi y \\right)}\\right) e^{x \\left(Re + \\frac{13 \\sqrt{Re^{2} + 16 \\pi^{2}}}{2}\\right)} + 64 \\pi^{4} e^{\\frac{x \\left(Re + 14 \\sqrt{Re^{2} + 16 \\pi^{2}}\\right)}{2}} \\cos{\\left(2 \\pi y \\right)}\\right) e^{- \\frac{15 x \\sqrt{Re^{2} + 16 \\pi^{2}}}{2}}}{24 Re}$"
      ],
      "text/plain": [
       "(Re**2*(-Re**2 + Re*sqrt(Re**2 + 16*pi**2) - 8*pi**2)*exp(x*(Re/2 + 7*sqrt(Re**2 + 16*pi**2)))*cos(2*pi*y) + 2*Re*(-4*Re**3*sin(2*pi*y)**2 - 3*Re**3*cos(2*pi*y)**2 + 4*Re**2*sqrt(Re**2 + 16*pi**2)*sin(2*pi*y)**2 + 3*Re**2*sqrt(Re**2 + 16*pi**2)*cos(2*pi*y)**2 - 52*pi**2*Re*sin(2*pi*y)**2 - 36*pi**2*Re*cos(2*pi*y)**2 + 20*pi**2*sqrt(Re**2 + 16*pi**2)*sin(2*pi*y)**2 + 12*pi**2*sqrt(Re**2 + 16*pi**2)*cos(2*pi*y)**2)*exp(x*(Re + 13*sqrt(Re**2 + 16*pi**2)/2)) + 64*pi**4*exp(x*(Re + 14*sqrt(Re**2 + 16*pi**2))/2)*cos(2*pi*y))*exp(-15*x*sqrt(Re**2 + 16*pi**2)/2)/(24*Re)"
      ]
     },
     "metadata": {},
     "output_type": "display_data"
    },
    {
     "name": "stdout",
     "output_type": "stream",
     "text": [
      "0\n",
      "+\\tau\\big(\n",
      "0\n",
      "\\big)\n",
      "+h^2\\big(\n",
      "\\frac{\\left(Re^{2} \\left(- Re^{2} + Re \\sqrt{Re^{2} + 16 \\pi^{2}} - 8 \\pi^{2}\\right) e^{x \\left(\\frac{Re}{2} + 7 \\sqrt{Re^{2} + 16 \\pi^{2}}\\right)} \\cos{\\left(2 \\pi y \\right)} + 2 Re \\left(- 4 Re^{3} \\sin^{2}{\\left(2 \\pi y \\right)} - 3 Re^{3} \\cos^{2}{\\left(2 \\pi y \\right)} + 4 Re^{2} \\sqrt{Re^{2} + 16 \\pi^{2}} \\sin^{2}{\\left(2 \\pi y \\right)} + 3 Re^{2} \\sqrt{Re^{2} + 16 \\pi^{2}} \\cos^{2}{\\left(2 \\pi y \\right)} - 52 \\pi^{2} Re \\sin^{2}{\\left(2 \\pi y \\right)} - 36 \\pi^{2} Re \\cos^{2}{\\left(2 \\pi y \\right)} + 20 \\pi^{2} \\sqrt{Re^{2} + 16 \\pi^{2}} \\sin^{2}{\\left(2 \\pi y \\right)} + 12 \\pi^{2} \\sqrt{Re^{2} + 16 \\pi^{2}} \\cos^{2}{\\left(2 \\pi y \\right)}\\right) e^{x \\left(Re + \\frac{13 \\sqrt{Re^{2} + 16 \\pi^{2}}}{2}\\right)} + 64 \\pi^{4} e^{\\frac{x \\left(Re + 14 \\sqrt{Re^{2} + 16 \\pi^{2}}\\right)}{2}} \\cos{\\left(2 \\pi y \\right)}\\right) e^{- \\frac{15 x \\sqrt{Re^{2} + 16 \\pi^{2}}}{2}}}{24 Re}\n",
      "\\big)\n"
     ]
    },
    {
     "data": {
      "text/latex": [
       "$\\displaystyle p_{y} + u v_{x} + v v_{y} + v_{t} - \\frac{v_{xx}}{Re} - \\frac{v_{yy}}{Re}$"
      ],
      "text/plain": [
       "p_{y} + u*v_{x} + v*v_{y} + v_{t} - v_{xx}/Re - v_{yy}/Re"
      ]
     },
     "metadata": {},
     "output_type": "display_data"
    },
    {
     "name": "stdout",
     "output_type": "stream",
     "text": [
      "tau =>\n"
     ]
    },
    {
     "data": {
      "text/latex": [
       "$\\displaystyle p_{ty} + u v_{tx} + u_{t} v_{x} + v v_{ty} + \\frac{v_{tt}}{2} + v_{t} v_{y} - \\frac{v_{txx}}{Re} - \\frac{v_{tyy}}{Re}$"
      ],
      "text/plain": [
       "p_{ty} + u*v_{tx} + u_{t}*v_{x} + v*v_{ty} + v_{tt}/2 + v_{t}*v_{y} - v_{txx}/Re - v_{tyy}/Re"
      ]
     },
     "metadata": {},
     "output_type": "display_data"
    },
    {
     "name": "stdout",
     "output_type": "stream",
     "text": [
      "h^2 =>\n"
     ]
    },
    {
     "data": {
      "text/latex": [
       "$\\displaystyle \\frac{p_{yyy}}{6} + \\frac{u v_{xxx}}{6} + \\frac{v v_{yyy}}{6} - \\frac{v_{xxxx}}{12 Re} - \\frac{v_{yyyy}}{12 Re}$"
      ],
      "text/plain": [
       "p_{yyy}/6 + u*v_{xxx}/6 + v*v_{yyy}/6 - v_{xxxx}/(12*Re) - v_{yyyy}/(12*Re)"
      ]
     },
     "metadata": {},
     "output_type": "display_data"
    },
    {
     "name": "stdout",
     "output_type": "stream",
     "text": [
      "-------------------------\n"
     ]
    },
    {
     "data": {
      "text/latex": [
       "$\\displaystyle p_{y} + u v_{x} + v v_{y} + v_{t} - \\frac{v_{xx}}{Re} - \\frac{v_{yy}}{Re}$"
      ],
      "text/plain": [
       "p_{y} + u*v_{x} + v*v_{y} + v_{t} - v_{xx}/Re - v_{yy}/Re"
      ]
     },
     "metadata": {},
     "output_type": "display_data"
    },
    {
     "name": "stdout",
     "output_type": "stream",
     "text": [
      "tau =>\n"
     ]
    },
    {
     "data": {
      "text/latex": [
       "$\\displaystyle - \\frac{v_{tt}}{2}$"
      ],
      "text/plain": [
       "-v_{tt}/2"
      ]
     },
     "metadata": {},
     "output_type": "display_data"
    },
    {
     "name": "stdout",
     "output_type": "stream",
     "text": [
      "h^2 =>\n"
     ]
    },
    {
     "data": {
      "text/latex": [
       "$\\displaystyle \\frac{Re^{2} p_{y} u^{2}}{12} + \\frac{Re^{2} u^{3} v_{x}}{12} + \\frac{Re^{2} u^{2} v v_{y}}{12} + \\frac{Re^{2} u^{2} v_{t}}{12} - \\frac{Re p_{ty}}{12} + \\frac{Re p_{xy} u}{12} + \\frac{Re p_{x} v_{x}}{4} - \\frac{Re p_{yy} v}{12} + \\frac{Re p_{y} v_{y}}{12} - \\frac{Re u^{2} v_{yy}}{12} - \\frac{Re u v_{x} v_{y}}{6} + \\frac{Re u_{t} v_{x}}{6} + \\frac{Re u_{y} v v_{x}}{6} - \\frac{Re v^{2} v_{yy}}{12} - \\frac{Re v v_{ty}}{6} - \\frac{Re v_{tt}}{12} + \\frac{p_{yyy}}{3} + \\frac{u_{y} v_{xy}}{3} + \\frac{v v_{yyy}}{3} + \\frac{v_{ttt}}{2} + \\frac{v_{tyy}}{6} + \\frac{v_{xy} v_{x}}{6} + \\frac{v_{yy} v_{y}}{2} - \\frac{v_{yyyy}}{6 Re}$"
      ],
      "text/plain": [
       "Re**2*p_{y}*u**2/12 + Re**2*u**3*v_{x}/12 + Re**2*u**2*v*v_{y}/12 + Re**2*u**2*v_{t}/12 - Re*p_{ty}/12 + Re*p_{xy}*u/12 + Re*p_{x}*v_{x}/4 - Re*p_{yy}*v/12 + Re*p_{y}*v_{y}/12 - Re*u**2*v_{yy}/12 - Re*u*v_{x}*v_{y}/6 + Re*u_{t}*v_{x}/6 + Re*u_{y}*v*v_{x}/6 - Re*v**2*v_{yy}/12 - Re*v*v_{ty}/6 - Re*v_{tt}/12 + p_{yyy}/3 + u_{y}*v_{xy}/3 + v*v_{yyy}/3 + v_{ttt}/2 + v_{tyy}/6 + v_{xy}*v_{x}/6 + v_{yy}*v_{y}/2 - v_{yyyy}/(6*Re)"
      ]
     },
     "metadata": {},
     "output_type": "display_data"
    },
    {
     "name": "stdout",
     "output_type": "stream",
     "text": [
      "p_{y} + u v_{x} + v v_{y} + v_{t} - \\frac{v_{xx}}{Re} - \\frac{v_{yy}}{Re}\n",
      "+\\tau\\big(\n",
      "- \\frac{v_{tt}}{2}\n",
      "\\big)\n",
      "+h^2\\big(\n",
      "\\frac{Re^{2} p_{y} u^{2}}{12} + \\frac{Re^{2} u^{3} v_{x}}{12} + \\frac{Re^{2} u^{2} v v_{y}}{12} + \\frac{Re^{2} u^{2} v_{t}}{12} - \\frac{Re p_{ty}}{12} + \\frac{Re p_{xy} u}{12} + \\frac{Re p_{x} v_{x}}{4} - \\frac{Re p_{yy} v}{12} + \\frac{Re p_{y} v_{y}}{12} - \\frac{Re u^{2} v_{yy}}{12} - \\frac{Re u v_{x} v_{y}}{6} + \\frac{Re u_{t} v_{x}}{6} + \\frac{Re u_{y} v v_{x}}{6} - \\frac{Re v^{2} v_{yy}}{12} - \\frac{Re v v_{ty}}{6} - \\frac{Re v_{tt}}{12} + \\frac{p_{yyy}}{3} + \\frac{u_{y} v_{xy}}{3} + \\frac{v v_{yyy}}{3} + \\frac{v_{ttt}}{2} + \\frac{v_{tyy}}{6} + \\frac{v_{xy} v_{x}}{6} + \\frac{v_{yy} v_{y}}{2} - \\frac{v_{yyyy}}{6 Re}\n",
      "\\big)\n"
     ]
    },
    {
     "data": {
      "text/latex": [
       "$\\displaystyle 0$"
      ],
      "text/plain": [
       "0"
      ]
     },
     "metadata": {},
     "output_type": "display_data"
    },
    {
     "name": "stdout",
     "output_type": "stream",
     "text": [
      "tau =>\n"
     ]
    },
    {
     "data": {
      "text/latex": [
       "$\\displaystyle - \\frac{2 e^{- \\frac{2 t}{Re}} \\sin{\\left(x \\right)} \\cos{\\left(y \\right)}}{Re^{2}}$"
      ],
      "text/plain": [
       "-2*exp(-2*t/Re)*sin(x)*cos(y)/Re**2"
      ]
     },
     "metadata": {},
     "output_type": "display_data"
    },
    {
     "name": "stdout",
     "output_type": "stream",
     "text": [
      "h^2 =>\n"
     ]
    },
    {
     "data": {
      "text/latex": [
       "$\\displaystyle - \\frac{\\left(3 Re^{3} \\sin{\\left(y \\right)} + Re^{2} e^{\\frac{2 t}{Re}} \\sin{\\left(x \\right)} + 24 e^{\\frac{2 t}{Re}} \\sin{\\left(x \\right)}\\right) e^{- \\frac{4 t}{Re}} \\cos{\\left(y \\right)}}{6 Re^{3}}$"
      ],
      "text/plain": [
       "-(3*Re**3*sin(y) + Re**2*exp(2*t/Re)*sin(x) + 24*exp(2*t/Re)*sin(x))*exp(-4*t/Re)*cos(y)/(6*Re**3)"
      ]
     },
     "metadata": {},
     "output_type": "display_data"
    },
    {
     "name": "stdout",
     "output_type": "stream",
     "text": [
      "0\n",
      "+\\tau\\big(\n",
      "- \\frac{2 e^{- \\frac{2 t}{Re}} \\sin{\\left(x \\right)} \\cos{\\left(y \\right)}}{Re^{2}}\n",
      "\\big)\n",
      "+h^2\\big(\n",
      "- \\frac{\\left(3 Re^{3} \\sin{\\left(y \\right)} + Re^{2} e^{\\frac{2 t}{Re}} \\sin{\\left(x \\right)} + 24 e^{\\frac{2 t}{Re}} \\sin{\\left(x \\right)}\\right) e^{- \\frac{4 t}{Re}} \\cos{\\left(y \\right)}}{6 Re^{3}}\n",
      "\\big)\n"
     ]
    },
    {
     "data": {
      "text/latex": [
       "$\\displaystyle 0$"
      ],
      "text/plain": [
       "0"
      ]
     },
     "metadata": {},
     "output_type": "display_data"
    },
    {
     "name": "stdout",
     "output_type": "stream",
     "text": [
      "tau =>\n"
     ]
    },
    {
     "data": {
      "text/latex": [
       "$\\displaystyle 0$"
      ],
      "text/plain": [
       "0"
      ]
     },
     "metadata": {},
     "output_type": "display_data"
    },
    {
     "name": "stdout",
     "output_type": "stream",
     "text": [
      "h^2 =>\n"
     ]
    },
    {
     "data": {
      "text/latex": [
       "$\\displaystyle \\frac{\\left(2 Re^{4} \\left(- Re + \\sqrt{Re^{2} + 16 \\pi^{2}}\\right) e^{x \\left(Re + \\frac{11 \\sqrt{Re^{2} + 16 \\pi^{2}}}{2}\\right)} \\cos{\\left(2 \\pi y \\right)} + Re^{4} \\left(Re - \\sqrt{Re^{2} + 16 \\pi^{2}}\\right) e^{x \\left(\\frac{Re}{2} + 6 \\sqrt{Re^{2} + 16 \\pi^{2}}\\right)} + 8 \\pi^{2} Re \\left(- 5 Re^{2} + 3 Re \\sqrt{Re^{2} + 16 \\pi^{2}} - 16 \\pi^{2}\\right) e^{x \\left(Re + \\frac{11 \\sqrt{Re^{2} + 16 \\pi^{2}}}{2}\\right)} \\cos{\\left(2 \\pi y \\right)} + 4 \\pi^{2} Re \\left(3 Re^{2} - Re \\sqrt{Re^{2} + 16 \\pi^{2}} - 8 \\pi^{2}\\right) e^{x \\left(\\frac{Re}{2} + 6 \\sqrt{Re^{2} + 16 \\pi^{2}}\\right)} + 32 \\pi^{4} \\sqrt{Re^{2} + 16 \\pi^{2}} e^{\\frac{x \\left(Re + 12 \\sqrt{Re^{2} + 16 \\pi^{2}}\\right)}{2}}\\right) e^{- \\frac{13 x \\sqrt{Re^{2} + 16 \\pi^{2}}}{2}} \\sin{\\left(2 \\pi y \\right)}}{48 \\pi Re}$"
      ],
      "text/plain": [
       "(2*Re**4*(-Re + sqrt(Re**2 + 16*pi**2))*exp(x*(Re + 11*sqrt(Re**2 + 16*pi**2)/2))*cos(2*pi*y) + Re**4*(Re - sqrt(Re**2 + 16*pi**2))*exp(x*(Re/2 + 6*sqrt(Re**2 + 16*pi**2))) + 8*pi**2*Re*(-5*Re**2 + 3*Re*sqrt(Re**2 + 16*pi**2) - 16*pi**2)*exp(x*(Re + 11*sqrt(Re**2 + 16*pi**2)/2))*cos(2*pi*y) + 4*pi**2*Re*(3*Re**2 - Re*sqrt(Re**2 + 16*pi**2) - 8*pi**2)*exp(x*(Re/2 + 6*sqrt(Re**2 + 16*pi**2))) + 32*pi**4*sqrt(Re**2 + 16*pi**2)*exp(x*(Re + 12*sqrt(Re**2 + 16*pi**2))/2))*exp(-13*x*sqrt(Re**2 + 16*pi**2)/2)*sin(2*pi*y)/(48*pi*Re)"
      ]
     },
     "metadata": {},
     "output_type": "display_data"
    },
    {
     "name": "stdout",
     "output_type": "stream",
     "text": [
      "0\n",
      "+\\tau\\big(\n",
      "0\n",
      "\\big)\n",
      "+h^2\\big(\n",
      "\\frac{\\left(2 Re^{4} \\left(- Re + \\sqrt{Re^{2} + 16 \\pi^{2}}\\right) e^{x \\left(Re + \\frac{11 \\sqrt{Re^{2} + 16 \\pi^{2}}}{2}\\right)} \\cos{\\left(2 \\pi y \\right)} + Re^{4} \\left(Re - \\sqrt{Re^{2} + 16 \\pi^{2}}\\right) e^{x \\left(\\frac{Re}{2} + 6 \\sqrt{Re^{2} + 16 \\pi^{2}}\\right)} + 8 \\pi^{2} Re \\left(- 5 Re^{2} + 3 Re \\sqrt{Re^{2} + 16 \\pi^{2}} - 16 \\pi^{2}\\right) e^{x \\left(Re + \\frac{11 \\sqrt{Re^{2} + 16 \\pi^{2}}}{2}\\right)} \\cos{\\left(2 \\pi y \\right)} + 4 \\pi^{2} Re \\left(3 Re^{2} - Re \\sqrt{Re^{2} + 16 \\pi^{2}} - 8 \\pi^{2}\\right) e^{x \\left(\\frac{Re}{2} + 6 \\sqrt{Re^{2} + 16 \\pi^{2}}\\right)} + 32 \\pi^{4} \\sqrt{Re^{2} + 16 \\pi^{2}} e^{\\frac{x \\left(Re + 12 \\sqrt{Re^{2} + 16 \\pi^{2}}\\right)}{2}}\\right) e^{- \\frac{13 x \\sqrt{Re^{2} + 16 \\pi^{2}}}{2}} \\sin{\\left(2 \\pi y \\right)}}{48 \\pi Re}\n",
      "\\big)\n"
     ]
    },
    {
     "data": {
      "text/latex": [
       "$\\displaystyle p_{xx} + p_{yy} + 2 u u_{xx} + 2 u v_{xy} + 2 u_{xy} v + 2 u_{x}^{2} + 2 u_{x} v_{y} + 2 u_{y} v_{x} + 2 v v_{yy} + 2 v_{y}^{2}$"
      ],
      "text/plain": [
       "p_{xx} + p_{yy} + 2*u*u_{xx} + 2*u*v_{xy} + 2*u_{xy}*v + 2*u_{x}**2 + 2*u_{x}*v_{y} + 2*u_{y}*v_{x} + 2*v*v_{yy} + 2*v_{y}**2"
      ]
     },
     "metadata": {},
     "output_type": "display_data"
    },
    {
     "name": "stdout",
     "output_type": "stream",
     "text": [
      "tau =>\n"
     ]
    },
    {
     "data": {
      "text/latex": [
       "$\\displaystyle 0$"
      ],
      "text/plain": [
       "0"
      ]
     },
     "metadata": {},
     "output_type": "display_data"
    },
    {
     "name": "stdout",
     "output_type": "stream",
     "text": [
      "h^2 =>\n"
     ]
    },
    {
     "data": {
      "text/latex": [
       "$\\displaystyle \\frac{p_{xxxx}}{3} + \\frac{p_{yyyy}}{3} + \\frac{2 u u_{xxxx}}{3} + \\frac{u v_{xxxy}}{3} + \\frac{u v_{xyyy}}{3} + \\frac{u_{xxxy} v}{3} + \\frac{8 u_{xxx} u_{x}}{3} + \\frac{u_{xxx} v_{y}}{3} + u_{xxy} v_{x} + 2 u_{xx}^{2} + u_{xx} v_{xy} + \\frac{u_{xyyy} v}{3} + u_{xyy} v_{y} + u_{xy} v_{xx} + u_{xy} v_{yy} + u_{x} v_{xxy} + \\frac{u_{x} v_{yyy}}{3} + \\frac{u_{yyy} v_{x}}{3} + u_{yy} v_{xy} + \\frac{u_{y} v_{xxx}}{3} + u_{y} v_{xyy} + \\frac{2 v v_{yyyy}}{3} + \\frac{8 v_{yyy} v_{y}}{3} + 2 v_{yy}^{2}$"
      ],
      "text/plain": [
       "p_{xxxx}/3 + p_{yyyy}/3 + 2*u*u_{xxxx}/3 + u*v_{xxxy}/3 + u*v_{xyyy}/3 + u_{xxxy}*v/3 + 8*u_{xxx}*u_{x}/3 + u_{xxx}*v_{y}/3 + u_{xxy}*v_{x} + 2*u_{xx}**2 + u_{xx}*v_{xy} + u_{xyyy}*v/3 + u_{xyy}*v_{y} + u_{xy}*v_{xx} + u_{xy}*v_{yy} + u_{x}*v_{xxy} + u_{x}*v_{yyy}/3 + u_{yyy}*v_{x}/3 + u_{yy}*v_{xy} + u_{y}*v_{xxx}/3 + u_{y}*v_{xyy} + 2*v*v_{yyyy}/3 + 8*v_{yyy}*v_{y}/3 + 2*v_{yy}**2"
      ]
     },
     "metadata": {},
     "output_type": "display_data"
    },
    {
     "name": "stdout",
     "output_type": "stream",
     "text": [
      "-------------------------\n"
     ]
    },
    {
     "data": {
      "text/latex": [
       "$\\displaystyle p_{xx} + p_{yy} + 2 u u_{xx} + 2 u v_{xy} + 2 u_{xy} v + 2 u_{x}^{2} + 2 u_{x} v_{y} + 2 u_{y} v_{x} + 2 v v_{yy} + 2 v_{y}^{2}$"
      ],
      "text/plain": [
       "p_{xx} + p_{yy} + 2*u*u_{xx} + 2*u*v_{xy} + 2*u_{xy}*v + 2*u_{x}**2 + 2*u_{x}*v_{y} + 2*u_{y}*v_{x} + 2*v*v_{yy} + 2*v_{y}**2"
      ]
     },
     "metadata": {},
     "output_type": "display_data"
    },
    {
     "name": "stdout",
     "output_type": "stream",
     "text": [
      "tau =>\n"
     ]
    },
    {
     "data": {
      "text/latex": [
       "$\\displaystyle 0$"
      ],
      "text/plain": [
       "0"
      ]
     },
     "metadata": {},
     "output_type": "display_data"
    },
    {
     "name": "stdout",
     "output_type": "stream",
     "text": [
      "h^2 =>\n"
     ]
    },
    {
     "data": {
      "text/latex": [
       "$\\displaystyle \\frac{2 Re^{2} p_{x} v v_{x}}{3} - \\frac{Re^{2} p_{yy} u^{2}}{3} - \\frac{2 Re^{2} p_{y} u u_{y}}{3} - \\frac{Re^{2} u^{3} v_{xy}}{3} - Re^{2} u^{2} u_{y} v_{x} - \\frac{Re^{2} u^{2} v v_{yy}}{3} - \\frac{Re^{2} u^{2} v_{ty}}{3} - \\frac{Re^{2} u^{2} v_{y}^{2}}{3} - \\frac{2 Re^{2} u u_{y} v v_{y}}{3} - \\frac{2 Re^{2} u u_{y} v_{t}}{3} - \\frac{2 Re^{2} u v v_{x} v_{y}}{3} + \\frac{2 Re^{2} u_{t} v v_{x}}{3} + \\frac{2 Re^{2} u_{y} v^{2} v_{x}}{3} - \\frac{Re p_{xyy} u}{3} - \\frac{Re p_{xy} u_{y}}{3} + Re p_{xy} v_{x} + \\frac{7 Re p_{x} v_{xy}}{3} - \\frac{Re p_{yyy} v}{3} + \\frac{Re p_{y} v_{yy}}{3} + \\frac{Re u^{2} v_{yyy}}{3} + \\frac{2 Re u u_{y} v_{yy}}{3} - \\frac{2 Re u v v_{xyy}}{3} - \\frac{Re u v_{txy}}{3} - \\frac{8 Re u v_{xy} v_{y}}{3} - \\frac{2 Re u v_{x} v_{yy}}{3} + Re u_{ty} v_{x} + \\frac{7 Re u_{t} v_{xy}}{3} + \\frac{4 Re u_{y} v v_{xy}}{3} - \\frac{Re u_{y} v_{tx}}{3} - \\frac{Re v^{2} v_{yyy}}{3} - \\frac{Re v v_{tyy}}{3} + \\frac{2 Re v v_{xy} v_{x}}{3} - \\frac{2 Re v v_{yy} v_{y}}{3} + \\frac{Re v_{t} v_{yy}}{3} + \\frac{2 p_{yyyy}}{3} + \\frac{2 u v_{xyyy}}{3} + 2 u_{y} v_{xyy} + \\frac{2 v v_{yyyy}}{3} + \\frac{2 v_{xyy} v_{x}}{3} + 2 v_{xy}^{2} + \\frac{8 v_{yyy} v_{y}}{3} + 2 v_{yy}^{2}$"
      ],
      "text/plain": [
       "2*Re**2*p_{x}*v*v_{x}/3 - Re**2*p_{yy}*u**2/3 - 2*Re**2*p_{y}*u*u_{y}/3 - Re**2*u**3*v_{xy}/3 - Re**2*u**2*u_{y}*v_{x} - Re**2*u**2*v*v_{yy}/3 - Re**2*u**2*v_{ty}/3 - Re**2*u**2*v_{y}**2/3 - 2*Re**2*u*u_{y}*v*v_{y}/3 - 2*Re**2*u*u_{y}*v_{t}/3 - 2*Re**2*u*v*v_{x}*v_{y}/3 + 2*Re**2*u_{t}*v*v_{x}/3 + 2*Re**2*u_{y}*v**2*v_{x}/3 - Re*p_{xyy}*u/3 - Re*p_{xy}*u_{y}/3 + Re*p_{xy}*v_{x} + 7*Re*p_{x}*v_{xy}/3 - Re*p_{yyy}*v/3 + Re*p_{y}*v_{yy}/3 + Re*u**2*v_{yyy}/3 + 2*Re*u*u_{y}*v_{yy}/3 - 2*Re*u*v*v_{xyy}/3 - Re*u*v_{txy}/3 - 8*Re*u*v_{xy}*v_{y}/3 - 2*Re*u*v_{x}*v_{yy}/3 + Re*u_{ty}*v_{x} + 7*Re*u_{t}*v_{xy}/3 + 4*Re*u_{y}*v*v_{xy}/3 - Re*u_{y}*v_{tx}/3 - Re*v**2*v_{yyy}/3 - Re*v*v_{tyy}/3 + 2*Re*v*v_{xy}*v_{x}/3 - 2*Re*v*v_{yy}*v_{y}/3 + Re*v_{t}*v_{yy}/3 + 2*p_{yyyy}/3 + 2*u*v_{xyyy}/3 + 2*u_{y}*v_{xyy} + 2*v*v_{yyyy}/3 + 2*v_{xyy}*v_{x}/3 + 2*v_{xy}**2 + 8*v_{yyy}*v_{y}/3 + 2*v_{yy}**2"
      ]
     },
     "metadata": {},
     "output_type": "display_data"
    },
    {
     "name": "stdout",
     "output_type": "stream",
     "text": [
      "p_{xx} + p_{yy} + 2 u u_{xx} + 2 u v_{xy} + 2 u_{xy} v + 2 u_{x}^{2} + 2 u_{x} v_{y} + 2 u_{y} v_{x} + 2 v v_{yy} + 2 v_{y}^{2}\n",
      "+\\tau\\big(\n",
      "0\n",
      "\\big)\n",
      "+h^2\\big(\n",
      "\\frac{2 Re^{2} p_{x} v v_{x}}{3} - \\frac{Re^{2} p_{yy} u^{2}}{3} - \\frac{2 Re^{2} p_{y} u u_{y}}{3} - \\frac{Re^{2} u^{3} v_{xy}}{3} - Re^{2} u^{2} u_{y} v_{x} - \\frac{Re^{2} u^{2} v v_{yy}}{3} - \\frac{Re^{2} u^{2} v_{ty}}{3} - \\frac{Re^{2} u^{2} v_{y}^{2}}{3} - \\frac{2 Re^{2} u u_{y} v v_{y}}{3} - \\frac{2 Re^{2} u u_{y} v_{t}}{3} - \\frac{2 Re^{2} u v v_{x} v_{y}}{3} + \\frac{2 Re^{2} u_{t} v v_{x}}{3} + \\frac{2 Re^{2} u_{y} v^{2} v_{x}}{3} - \\frac{Re p_{xyy} u}{3} - \\frac{Re p_{xy} u_{y}}{3} + Re p_{xy} v_{x} + \\frac{7 Re p_{x} v_{xy}}{3} - \\frac{Re p_{yyy} v}{3} + \\frac{Re p_{y} v_{yy}}{3} + \\frac{Re u^{2} v_{yyy}}{3} + \\frac{2 Re u u_{y} v_{yy}}{3} - \\frac{2 Re u v v_{xyy}}{3} - \\frac{Re u v_{txy}}{3} - \\frac{8 Re u v_{xy} v_{y}}{3} - \\frac{2 Re u v_{x} v_{yy}}{3} + Re u_{ty} v_{x} + \\frac{7 Re u_{t} v_{xy}}{3} + \\frac{4 Re u_{y} v v_{xy}}{3} - \\frac{Re u_{y} v_{tx}}{3} - \\frac{Re v^{2} v_{yyy}}{3} - \\frac{Re v v_{tyy}}{3} + \\frac{2 Re v v_{xy} v_{x}}{3} - \\frac{2 Re v v_{yy} v_{y}}{3} + \\frac{Re v_{t} v_{yy}}{3} + \\frac{2 p_{yyyy}}{3} + \\frac{2 u v_{xyyy}}{3} + 2 u_{y} v_{xyy} + \\frac{2 v v_{yyyy}}{3} + \\frac{2 v_{xyy} v_{x}}{3} + 2 v_{xy}^{2} + \\frac{8 v_{yyy} v_{y}}{3} + 2 v_{yy}^{2}\n",
      "\\big)\n"
     ]
    },
    {
     "data": {
      "text/latex": [
       "$\\displaystyle 0$"
      ],
      "text/plain": [
       "0"
      ]
     },
     "metadata": {},
     "output_type": "display_data"
    },
    {
     "name": "stdout",
     "output_type": "stream",
     "text": [
      "tau =>\n"
     ]
    },
    {
     "data": {
      "text/latex": [
       "$\\displaystyle 0$"
      ],
      "text/plain": [
       "0"
      ]
     },
     "metadata": {},
     "output_type": "display_data"
    },
    {
     "name": "stdout",
     "output_type": "stream",
     "text": [
      "h^2 =>\n"
     ]
    },
    {
     "data": {
      "text/latex": [
       "$\\displaystyle 0$"
      ],
      "text/plain": [
       "0"
      ]
     },
     "metadata": {},
     "output_type": "display_data"
    },
    {
     "name": "stdout",
     "output_type": "stream",
     "text": [
      "0\n",
      "+\\tau\\big(\n",
      "0\n",
      "\\big)\n",
      "+h^2\\big(\n",
      "0\n",
      "\\big)\n"
     ]
    },
    {
     "data": {
      "text/latex": [
       "$\\displaystyle 0$"
      ],
      "text/plain": [
       "0"
      ]
     },
     "metadata": {},
     "output_type": "display_data"
    },
    {
     "name": "stdout",
     "output_type": "stream",
     "text": [
      "tau =>\n"
     ]
    },
    {
     "data": {
      "text/latex": [
       "$\\displaystyle 0$"
      ],
      "text/plain": [
       "0"
      ]
     },
     "metadata": {},
     "output_type": "display_data"
    },
    {
     "name": "stdout",
     "output_type": "stream",
     "text": [
      "h^2 =>\n"
     ]
    },
    {
     "data": {
      "text/latex": [
       "$\\displaystyle \\frac{\\left(- Re^{4} + Re^{3} \\sqrt{Re^{2} + 16 \\pi^{2}} - 20 \\pi^{2} Re^{2} + 12 \\pi^{2} Re \\sqrt{Re^{2} + 16 \\pi^{2}} - 64 \\pi^{4}\\right) e^{\\frac{x \\left(Re - \\sqrt{Re^{2} + 16 \\pi^{2}}\\right)}{2}} \\cos{\\left(2 \\pi y \\right)}}{6}$"
      ],
      "text/plain": [
       "(-Re**4 + Re**3*sqrt(Re**2 + 16*pi**2) - 20*pi**2*Re**2 + 12*pi**2*Re*sqrt(Re**2 + 16*pi**2) - 64*pi**4)*exp(x*(Re - sqrt(Re**2 + 16*pi**2))/2)*cos(2*pi*y)/6"
      ]
     },
     "metadata": {},
     "output_type": "display_data"
    },
    {
     "name": "stdout",
     "output_type": "stream",
     "text": [
      "0\n",
      "+\\tau\\big(\n",
      "0\n",
      "\\big)\n",
      "+h^2\\big(\n",
      "\\frac{\\left(- Re^{4} + Re^{3} \\sqrt{Re^{2} + 16 \\pi^{2}} - 20 \\pi^{2} Re^{2} + 12 \\pi^{2} Re \\sqrt{Re^{2} + 16 \\pi^{2}} - 64 \\pi^{4}\\right) e^{\\frac{x \\left(Re - \\sqrt{Re^{2} + 16 \\pi^{2}}\\right)}{2}} \\cos{\\left(2 \\pi y \\right)}}{6}\n",
      "\\big)\n"
     ]
    },
    {
     "data": {
      "text/latex": [
       "$\\displaystyle 0$"
      ],
      "text/plain": [
       "0"
      ]
     },
     "metadata": {},
     "output_type": "display_data"
    },
    {
     "name": "stdout",
     "output_type": "stream",
     "text": [
      "tau =>\n"
     ]
    },
    {
     "data": {
      "text/latex": [
       "$\\displaystyle 0$"
      ],
      "text/plain": [
       "0"
      ]
     },
     "metadata": {},
     "output_type": "display_data"
    },
    {
     "name": "stdout",
     "output_type": "stream",
     "text": [
      "h^2 =>\n"
     ]
    },
    {
     "data": {
      "text/latex": [
       "$\\displaystyle 0$"
      ],
      "text/plain": [
       "0"
      ]
     },
     "metadata": {},
     "output_type": "display_data"
    },
    {
     "name": "stdout",
     "output_type": "stream",
     "text": [
      "0\n",
      "+\\tau\\big(\n",
      "0\n",
      "\\big)\n",
      "+h^2\\big(\n",
      "0\n",
      "\\big)\n"
     ]
    }
   ],
   "source": [
    "F1 = clip(Dx(u) + Dy(v))\n",
    "F2 = clip(Dt(u) + Ut(u*Dx(u) + v*Dy(u) + Dx(p) - DD(u)/Re))\n",
    "F3 = clip(Dt(v) + Ut(u*Dx(v) + v*Dy(v) + Dy(p) - DD(v)/Re))\n",
    "F4 = clip(Dx(Dx(u**2) + Dy(v*u) + Dx(p)) + Dy(Dx(u*v) + Dy(v**2) + Dy(p)))\n",
    "\n",
    "build(F1, F2, F3, F4)"
   ]
  },
  {
   "cell_type": "code",
   "execution_count": 36,
   "metadata": {},
   "outputs": [
    {
     "data": {
      "text/latex": [
       "$\\displaystyle u_{x} + v_{y}$"
      ],
      "text/plain": [
       "u_{x} + v_{y}"
      ]
     },
     "metadata": {},
     "output_type": "display_data"
    },
    {
     "name": "stdout",
     "output_type": "stream",
     "text": [
      "tau =>\n"
     ]
    },
    {
     "data": {
      "text/latex": [
       "$\\displaystyle 0$"
      ],
      "text/plain": [
       "0"
      ]
     },
     "metadata": {},
     "output_type": "display_data"
    },
    {
     "name": "stdout",
     "output_type": "stream",
     "text": [
      "h^2 =>\n"
     ]
    },
    {
     "data": {
      "text/latex": [
       "$\\displaystyle \\frac{u_{xxx}}{6} + \\frac{v_{yyy}}{6}$"
      ],
      "text/plain": [
       "u_{xxx}/6 + v_{yyy}/6"
      ]
     },
     "metadata": {},
     "output_type": "display_data"
    },
    {
     "name": "stdout",
     "output_type": "stream",
     "text": [
      "-------------------------\n"
     ]
    },
    {
     "data": {
      "text/latex": [
       "$\\displaystyle u_{x} + v_{y}$"
      ],
      "text/plain": [
       "u_{x} + v_{y}"
      ]
     },
     "metadata": {},
     "output_type": "display_data"
    },
    {
     "name": "stdout",
     "output_type": "stream",
     "text": [
      "tau =>\n"
     ]
    },
    {
     "data": {
      "text/latex": [
       "$\\displaystyle 0$"
      ],
      "text/plain": [
       "0"
      ]
     },
     "metadata": {},
     "output_type": "display_data"
    },
    {
     "name": "stdout",
     "output_type": "stream",
     "text": [
      "h^2 =>\n"
     ]
    },
    {
     "data": {
      "text/latex": [
       "$\\displaystyle - \\frac{Re p_{yy}}{6} - \\frac{Re u v_{xy}}{6} - \\frac{Re u_{y} v_{x}}{6} - \\frac{Re v v_{yy}}{6} - \\frac{Re v_{ty}}{6} - \\frac{Re v_{y}^{2}}{6} + \\frac{v_{yyy}}{3}$"
      ],
      "text/plain": [
       "-Re*p_{yy}/6 - Re*u*v_{xy}/6 - Re*u_{y}*v_{x}/6 - Re*v*v_{yy}/6 - Re*v_{ty}/6 - Re*v_{y}**2/6 + v_{yyy}/3"
      ]
     },
     "metadata": {},
     "output_type": "display_data"
    },
    {
     "name": "stdout",
     "output_type": "stream",
     "text": [
      "u_{x} + v_{y}\n",
      "+\\tau\\big(\n",
      "0\n",
      "\\big)\n",
      "+h^2\\big(\n",
      "- \\frac{Re p_{yy}}{6} - \\frac{Re u v_{xy}}{6} - \\frac{Re u_{y} v_{x}}{6} - \\frac{Re v v_{yy}}{6} - \\frac{Re v_{ty}}{6} - \\frac{Re v_{y}^{2}}{6} + \\frac{v_{yyy}}{3}\n",
      "\\big)\n"
     ]
    },
    {
     "data": {
      "text/latex": [
       "$\\displaystyle 0$"
      ],
      "text/plain": [
       "0"
      ]
     },
     "metadata": {},
     "output_type": "display_data"
    },
    {
     "name": "stdout",
     "output_type": "stream",
     "text": [
      "tau =>\n"
     ]
    },
    {
     "data": {
      "text/latex": [
       "$\\displaystyle 0$"
      ],
      "text/plain": [
       "0"
      ]
     },
     "metadata": {},
     "output_type": "display_data"
    },
    {
     "name": "stdout",
     "output_type": "stream",
     "text": [
      "h^2 =>\n"
     ]
    },
    {
     "data": {
      "text/latex": [
       "$\\displaystyle 0$"
      ],
      "text/plain": [
       "0"
      ]
     },
     "metadata": {},
     "output_type": "display_data"
    },
    {
     "name": "stdout",
     "output_type": "stream",
     "text": [
      "0\n",
      "+\\tau\\big(\n",
      "0\n",
      "\\big)\n",
      "+h^2\\big(\n",
      "0\n",
      "\\big)\n"
     ]
    },
    {
     "data": {
      "text/latex": [
       "$\\displaystyle 0$"
      ],
      "text/plain": [
       "0"
      ]
     },
     "metadata": {},
     "output_type": "display_data"
    },
    {
     "name": "stdout",
     "output_type": "stream",
     "text": [
      "tau =>\n"
     ]
    },
    {
     "data": {
      "text/latex": [
       "$\\displaystyle 0$"
      ],
      "text/plain": [
       "0"
      ]
     },
     "metadata": {},
     "output_type": "display_data"
    },
    {
     "name": "stdout",
     "output_type": "stream",
     "text": [
      "h^2 =>\n"
     ]
    },
    {
     "data": {
      "text/latex": [
       "$\\displaystyle \\frac{\\left(- Re^{3} + Re^{2} \\sqrt{Re^{2} + 16 \\pi^{2}} - 16 \\pi^{2} Re + 8 \\pi^{2} \\sqrt{Re^{2} + 16 \\pi^{2}}\\right) e^{\\frac{x \\left(Re - \\sqrt{Re^{2} + 16 \\pi^{2}}\\right)}{2}} \\cos{\\left(2 \\pi y \\right)}}{12}$"
      ],
      "text/plain": [
       "(-Re**3 + Re**2*sqrt(Re**2 + 16*pi**2) - 16*pi**2*Re + 8*pi**2*sqrt(Re**2 + 16*pi**2))*exp(x*(Re - sqrt(Re**2 + 16*pi**2))/2)*cos(2*pi*y)/12"
      ]
     },
     "metadata": {},
     "output_type": "display_data"
    },
    {
     "name": "stdout",
     "output_type": "stream",
     "text": [
      "0\n",
      "+\\tau\\big(\n",
      "0\n",
      "\\big)\n",
      "+h^2\\big(\n",
      "\\frac{\\left(- Re^{3} + Re^{2} \\sqrt{Re^{2} + 16 \\pi^{2}} - 16 \\pi^{2} Re + 8 \\pi^{2} \\sqrt{Re^{2} + 16 \\pi^{2}}\\right) e^{\\frac{x \\left(Re - \\sqrt{Re^{2} + 16 \\pi^{2}}\\right)}{2}} \\cos{\\left(2 \\pi y \\right)}}{12}\n",
      "\\big)\n"
     ]
    },
    {
     "data": {
      "text/latex": [
       "$\\displaystyle p_{x} + u u_{x} + u_{t} + u_{y} v - \\frac{u_{xx}}{Re} - \\frac{u_{yy}}{Re}$"
      ],
      "text/plain": [
       "p_{x} + u*u_{x} + u_{t} + u_{y}*v - u_{xx}/Re - u_{yy}/Re"
      ]
     },
     "metadata": {},
     "output_type": "display_data"
    },
    {
     "name": "stdout",
     "output_type": "stream",
     "text": [
      "tau =>\n"
     ]
    },
    {
     "data": {
      "text/latex": [
       "$\\displaystyle p_{tx} + u u_{tx} + \\frac{u_{tt}}{2} + u_{ty} v + u_{t} u_{x} + u_{y} v_{t} - \\frac{u_{txx}}{Re} - \\frac{u_{tyy}}{Re}$"
      ],
      "text/plain": [
       "p_{tx} + u*u_{tx} + u_{tt}/2 + u_{ty}*v + u_{t}*u_{x} + u_{y}*v_{t} - u_{txx}/Re - u_{tyy}/Re"
      ]
     },
     "metadata": {},
     "output_type": "display_data"
    },
    {
     "name": "stdout",
     "output_type": "stream",
     "text": [
      "h^2 =>\n"
     ]
    },
    {
     "data": {
      "text/latex": [
       "$\\displaystyle \\frac{p_{xxx}}{6} + \\frac{u u_{xxx}}{6} + \\frac{u_{yyy} v}{6} - \\frac{u_{xxxx}}{3 Re} - \\frac{u_{yyyy}}{3 Re}$"
      ],
      "text/plain": [
       "p_{xxx}/6 + u*u_{xxx}/6 + u_{yyy}*v/6 - u_{xxxx}/(3*Re) - u_{yyyy}/(3*Re)"
      ]
     },
     "metadata": {},
     "output_type": "display_data"
    },
    {
     "name": "stdout",
     "output_type": "stream",
     "text": [
      "-------------------------\n"
     ]
    },
    {
     "data": {
      "text/latex": [
       "$\\displaystyle p_{x} + u u_{x} + u_{t} + u_{y} v - \\frac{u_{xx}}{Re} - \\frac{u_{yy}}{Re}$"
      ],
      "text/plain": [
       "p_{x} + u*u_{x} + u_{t} + u_{y}*v - u_{xx}/Re - u_{yy}/Re"
      ]
     },
     "metadata": {},
     "output_type": "display_data"
    },
    {
     "name": "stdout",
     "output_type": "stream",
     "text": [
      "tau =>\n"
     ]
    },
    {
     "data": {
      "text/latex": [
       "$\\displaystyle - \\frac{u_{tt}}{2}$"
      ],
      "text/plain": [
       "-u_{tt}/2"
      ]
     },
     "metadata": {},
     "output_type": "display_data"
    },
    {
     "name": "stdout",
     "output_type": "stream",
     "text": [
      "h^2 =>\n"
     ]
    },
    {
     "data": {
      "text/latex": [
       "$\\displaystyle - \\frac{Re^{2} p_{x} v^{2}}{6} + \\frac{Re^{2} u v^{2} v_{y}}{6} - \\frac{Re^{2} u_{t} v^{2}}{6} - \\frac{Re^{2} u_{y} v^{3}}{6} - \\frac{Re p_{tx}}{3} - \\frac{Re p_{xy} v}{6} - \\frac{Re p_{x} v_{y}}{3} + \\frac{Re p_{yy} u}{6} + \\frac{Re u^{2} v_{xy}}{6} + \\frac{Re u u_{y} v_{x}}{6} + \\frac{Re u v v_{yy}}{3} + \\frac{Re u v_{ty}}{2} + \\frac{Re u v_{y}^{2}}{2} - \\frac{Re u_{tt}}{3} - \\frac{Re u_{ty} v}{2} - \\frac{Re u_{y} v v_{y}}{3} - \\frac{Re u_{y} v_{t}}{3} - \\frac{Re v^{2} v_{xy}}{6} - \\frac{p_{xyy}}{6} + \\frac{u v_{yyy}}{6} + \\frac{u_{ttt}}{2} + \\frac{u_{y} v_{yy}}{3} + \\frac{v v_{xyy}}{6} - \\frac{2 v_{xy} v_{y}}{3} + \\frac{v_{x} v_{yy}}{3} - \\frac{2 v_{xyyy}}{3 Re}$"
      ],
      "text/plain": [
       "-Re**2*p_{x}*v**2/6 + Re**2*u*v**2*v_{y}/6 - Re**2*u_{t}*v**2/6 - Re**2*u_{y}*v**3/6 - Re*p_{tx}/3 - Re*p_{xy}*v/6 - Re*p_{x}*v_{y}/3 + Re*p_{yy}*u/6 + Re*u**2*v_{xy}/6 + Re*u*u_{y}*v_{x}/6 + Re*u*v*v_{yy}/3 + Re*u*v_{ty}/2 + Re*u*v_{y}**2/2 - Re*u_{tt}/3 - Re*u_{ty}*v/2 - Re*u_{y}*v*v_{y}/3 - Re*u_{y}*v_{t}/3 - Re*v**2*v_{xy}/6 - p_{xyy}/6 + u*v_{yyy}/6 + u_{ttt}/2 + u_{y}*v_{yy}/3 + v*v_{xyy}/6 - 2*v_{xy}*v_{y}/3 + v_{x}*v_{yy}/3 - 2*v_{xyyy}/(3*Re)"
      ]
     },
     "metadata": {},
     "output_type": "display_data"
    },
    {
     "name": "stdout",
     "output_type": "stream",
     "text": [
      "p_{x} + u u_{x} + u_{t} + u_{y} v - \\frac{u_{xx}}{Re} - \\frac{u_{yy}}{Re}\n",
      "+\\tau\\big(\n",
      "- \\frac{u_{tt}}{2}\n",
      "\\big)\n",
      "+h^2\\big(\n",
      "- \\frac{Re^{2} p_{x} v^{2}}{6} + \\frac{Re^{2} u v^{2} v_{y}}{6} - \\frac{Re^{2} u_{t} v^{2}}{6} - \\frac{Re^{2} u_{y} v^{3}}{6} - \\frac{Re p_{tx}}{3} - \\frac{Re p_{xy} v}{6} - \\frac{Re p_{x} v_{y}}{3} + \\frac{Re p_{yy} u}{6} + \\frac{Re u^{2} v_{xy}}{6} + \\frac{Re u u_{y} v_{x}}{6} + \\frac{Re u v v_{yy}}{3} + \\frac{Re u v_{ty}}{2} + \\frac{Re u v_{y}^{2}}{2} - \\frac{Re u_{tt}}{3} - \\frac{Re u_{ty} v}{2} - \\frac{Re u_{y} v v_{y}}{3} - \\frac{Re u_{y} v_{t}}{3} - \\frac{Re v^{2} v_{xy}}{6} - \\frac{p_{xyy}}{6} + \\frac{u v_{yyy}}{6} + \\frac{u_{ttt}}{2} + \\frac{u_{y} v_{yy}}{3} + \\frac{v v_{xyy}}{6} - \\frac{2 v_{xy} v_{y}}{3} + \\frac{v_{x} v_{yy}}{3} - \\frac{2 v_{xyyy}}{3 Re}\n",
      "\\big)\n"
     ]
    },
    {
     "data": {
      "text/latex": [
       "$\\displaystyle 0$"
      ],
      "text/plain": [
       "0"
      ]
     },
     "metadata": {},
     "output_type": "display_data"
    },
    {
     "name": "stdout",
     "output_type": "stream",
     "text": [
      "tau =>\n"
     ]
    },
    {
     "data": {
      "text/latex": [
       "$\\displaystyle \\frac{2 e^{- \\frac{2 t}{Re}} \\sin{\\left(y \\right)} \\cos{\\left(x \\right)}}{Re^{2}}$"
      ],
      "text/plain": [
       "2*exp(-2*t/Re)*sin(y)*cos(x)/Re**2"
      ]
     },
     "metadata": {},
     "output_type": "display_data"
    },
    {
     "name": "stdout",
     "output_type": "stream",
     "text": [
      "h^2 =>\n"
     ]
    },
    {
     "data": {
      "text/latex": [
       "$\\displaystyle \\frac{\\left(- 3 Re^{3} \\sin{\\left(x \\right)} + 4 Re^{2} e^{\\frac{2 t}{Re}} \\sin{\\left(y \\right)} + 24 e^{\\frac{2 t}{Re}} \\sin{\\left(y \\right)}\\right) e^{- \\frac{4 t}{Re}} \\cos{\\left(x \\right)}}{6 Re^{3}}$"
      ],
      "text/plain": [
       "(-3*Re**3*sin(x) + 4*Re**2*exp(2*t/Re)*sin(y) + 24*exp(2*t/Re)*sin(y))*exp(-4*t/Re)*cos(x)/(6*Re**3)"
      ]
     },
     "metadata": {},
     "output_type": "display_data"
    },
    {
     "name": "stdout",
     "output_type": "stream",
     "text": [
      "0\n",
      "+\\tau\\big(\n",
      "\\frac{2 e^{- \\frac{2 t}{Re}} \\sin{\\left(y \\right)} \\cos{\\left(x \\right)}}{Re^{2}}\n",
      "\\big)\n",
      "+h^2\\big(\n",
      "\\frac{\\left(- 3 Re^{3} \\sin{\\left(x \\right)} + 4 Re^{2} e^{\\frac{2 t}{Re}} \\sin{\\left(y \\right)} + 24 e^{\\frac{2 t}{Re}} \\sin{\\left(y \\right)}\\right) e^{- \\frac{4 t}{Re}} \\cos{\\left(x \\right)}}{6 Re^{3}}\n",
      "\\big)\n"
     ]
    },
    {
     "data": {
      "text/latex": [
       "$\\displaystyle 0$"
      ],
      "text/plain": [
       "0"
      ]
     },
     "metadata": {},
     "output_type": "display_data"
    },
    {
     "name": "stdout",
     "output_type": "stream",
     "text": [
      "tau =>\n"
     ]
    },
    {
     "data": {
      "text/latex": [
       "$\\displaystyle 0$"
      ],
      "text/plain": [
       "0"
      ]
     },
     "metadata": {},
     "output_type": "display_data"
    },
    {
     "name": "stdout",
     "output_type": "stream",
     "text": [
      "h^2 =>\n"
     ]
    },
    {
     "data": {
      "text/latex": [
       "$\\displaystyle \\frac{\\left(Re \\left(Re^{3} - Re^{2} \\sqrt{Re^{2} + 16 \\pi^{2}} + 20 \\pi^{2} Re - 12 \\pi^{2} \\sqrt{Re^{2} + 16 \\pi^{2}}\\right) e^{x \\left(\\frac{Re}{2} + 7 \\sqrt{Re^{2} + 16 \\pi^{2}}\\right)} \\cos{\\left(2 \\pi y \\right)} + Re \\left(- 4 Re^{3} \\sin^{2}{\\left(2 \\pi y \\right)} - 3 Re^{3} \\cos^{2}{\\left(2 \\pi y \\right)} + 4 Re^{2} \\sqrt{Re^{2} + 16 \\pi^{2}} \\sin^{2}{\\left(2 \\pi y \\right)} + 3 Re^{2} \\sqrt{Re^{2} + 16 \\pi^{2}} \\cos^{2}{\\left(2 \\pi y \\right)} - 52 \\pi^{2} Re \\sin^{2}{\\left(2 \\pi y \\right)} - 36 \\pi^{2} Re \\cos^{2}{\\left(2 \\pi y \\right)} + 20 \\pi^{2} \\sqrt{Re^{2} + 16 \\pi^{2}} \\sin^{2}{\\left(2 \\pi y \\right)} + 12 \\pi^{2} \\sqrt{Re^{2} + 16 \\pi^{2}} \\cos^{2}{\\left(2 \\pi y \\right)}\\right) e^{x \\left(Re + \\frac{13 \\sqrt{Re^{2} + 16 \\pi^{2}}}{2}\\right)} + 128 \\pi^{4} e^{\\frac{x \\left(Re + 14 \\sqrt{Re^{2} + 16 \\pi^{2}}\\right)}{2}} \\cos{\\left(2 \\pi y \\right)}\\right) e^{- \\frac{15 x \\sqrt{Re^{2} + 16 \\pi^{2}}}{2}}}{12 Re}$"
      ],
      "text/plain": [
       "(Re*(Re**3 - Re**2*sqrt(Re**2 + 16*pi**2) + 20*pi**2*Re - 12*pi**2*sqrt(Re**2 + 16*pi**2))*exp(x*(Re/2 + 7*sqrt(Re**2 + 16*pi**2)))*cos(2*pi*y) + Re*(-4*Re**3*sin(2*pi*y)**2 - 3*Re**3*cos(2*pi*y)**2 + 4*Re**2*sqrt(Re**2 + 16*pi**2)*sin(2*pi*y)**2 + 3*Re**2*sqrt(Re**2 + 16*pi**2)*cos(2*pi*y)**2 - 52*pi**2*Re*sin(2*pi*y)**2 - 36*pi**2*Re*cos(2*pi*y)**2 + 20*pi**2*sqrt(Re**2 + 16*pi**2)*sin(2*pi*y)**2 + 12*pi**2*sqrt(Re**2 + 16*pi**2)*cos(2*pi*y)**2)*exp(x*(Re + 13*sqrt(Re**2 + 16*pi**2)/2)) + 128*pi**4*exp(x*(Re + 14*sqrt(Re**2 + 16*pi**2))/2)*cos(2*pi*y))*exp(-15*x*sqrt(Re**2 + 16*pi**2)/2)/(12*Re)"
      ]
     },
     "metadata": {},
     "output_type": "display_data"
    },
    {
     "name": "stdout",
     "output_type": "stream",
     "text": [
      "0\n",
      "+\\tau\\big(\n",
      "0\n",
      "\\big)\n",
      "+h^2\\big(\n",
      "\\frac{\\left(Re \\left(Re^{3} - Re^{2} \\sqrt{Re^{2} + 16 \\pi^{2}} + 20 \\pi^{2} Re - 12 \\pi^{2} \\sqrt{Re^{2} + 16 \\pi^{2}}\\right) e^{x \\left(\\frac{Re}{2} + 7 \\sqrt{Re^{2} + 16 \\pi^{2}}\\right)} \\cos{\\left(2 \\pi y \\right)} + Re \\left(- 4 Re^{3} \\sin^{2}{\\left(2 \\pi y \\right)} - 3 Re^{3} \\cos^{2}{\\left(2 \\pi y \\right)} + 4 Re^{2} \\sqrt{Re^{2} + 16 \\pi^{2}} \\sin^{2}{\\left(2 \\pi y \\right)} + 3 Re^{2} \\sqrt{Re^{2} + 16 \\pi^{2}} \\cos^{2}{\\left(2 \\pi y \\right)} - 52 \\pi^{2} Re \\sin^{2}{\\left(2 \\pi y \\right)} - 36 \\pi^{2} Re \\cos^{2}{\\left(2 \\pi y \\right)} + 20 \\pi^{2} \\sqrt{Re^{2} + 16 \\pi^{2}} \\sin^{2}{\\left(2 \\pi y \\right)} + 12 \\pi^{2} \\sqrt{Re^{2} + 16 \\pi^{2}} \\cos^{2}{\\left(2 \\pi y \\right)}\\right) e^{x \\left(Re + \\frac{13 \\sqrt{Re^{2} + 16 \\pi^{2}}}{2}\\right)} + 128 \\pi^{4} e^{\\frac{x \\left(Re + 14 \\sqrt{Re^{2} + 16 \\pi^{2}}\\right)}{2}} \\cos{\\left(2 \\pi y \\right)}\\right) e^{- \\frac{15 x \\sqrt{Re^{2} + 16 \\pi^{2}}}{2}}}{12 Re}\n",
      "\\big)\n"
     ]
    },
    {
     "data": {
      "text/latex": [
       "$\\displaystyle p_{y} + u v_{x} + v v_{y} + v_{t} - \\frac{v_{xx}}{Re} - \\frac{v_{yy}}{Re}$"
      ],
      "text/plain": [
       "p_{y} + u*v_{x} + v*v_{y} + v_{t} - v_{xx}/Re - v_{yy}/Re"
      ]
     },
     "metadata": {},
     "output_type": "display_data"
    },
    {
     "name": "stdout",
     "output_type": "stream",
     "text": [
      "tau =>\n"
     ]
    },
    {
     "data": {
      "text/latex": [
       "$\\displaystyle p_{ty} + u v_{tx} + u_{t} v_{x} + v v_{ty} + \\frac{v_{tt}}{2} + v_{t} v_{y} - \\frac{v_{txx}}{Re} - \\frac{v_{tyy}}{Re}$"
      ],
      "text/plain": [
       "p_{ty} + u*v_{tx} + u_{t}*v_{x} + v*v_{ty} + v_{tt}/2 + v_{t}*v_{y} - v_{txx}/Re - v_{tyy}/Re"
      ]
     },
     "metadata": {},
     "output_type": "display_data"
    },
    {
     "name": "stdout",
     "output_type": "stream",
     "text": [
      "h^2 =>\n"
     ]
    },
    {
     "data": {
      "text/latex": [
       "$\\displaystyle \\frac{p_{yyy}}{6} + \\frac{u v_{xxx}}{6} + \\frac{v v_{yyy}}{6} - \\frac{v_{xxxx}}{3 Re} - \\frac{v_{yyyy}}{3 Re}$"
      ],
      "text/plain": [
       "p_{yyy}/6 + u*v_{xxx}/6 + v*v_{yyy}/6 - v_{xxxx}/(3*Re) - v_{yyyy}/(3*Re)"
      ]
     },
     "metadata": {},
     "output_type": "display_data"
    },
    {
     "name": "stdout",
     "output_type": "stream",
     "text": [
      "-------------------------\n"
     ]
    },
    {
     "data": {
      "text/latex": [
       "$\\displaystyle p_{y} + u v_{x} + v v_{y} + v_{t} - \\frac{v_{xx}}{Re} - \\frac{v_{yy}}{Re}$"
      ],
      "text/plain": [
       "p_{y} + u*v_{x} + v*v_{y} + v_{t} - v_{xx}/Re - v_{yy}/Re"
      ]
     },
     "metadata": {},
     "output_type": "display_data"
    },
    {
     "name": "stdout",
     "output_type": "stream",
     "text": [
      "tau =>\n"
     ]
    },
    {
     "data": {
      "text/latex": [
       "$\\displaystyle - \\frac{v_{tt}}{2}$"
      ],
      "text/plain": [
       "-v_{tt}/2"
      ]
     },
     "metadata": {},
     "output_type": "display_data"
    },
    {
     "name": "stdout",
     "output_type": "stream",
     "text": [
      "h^2 =>\n"
     ]
    },
    {
     "data": {
      "text/latex": [
       "$\\displaystyle - \\frac{Re^{2} p_{y} u^{2}}{6} - \\frac{Re^{2} u^{3} v_{x}}{6} - \\frac{Re^{2} u^{2} v v_{y}}{6} - \\frac{Re^{2} u^{2} v_{t}}{6} - \\frac{Re p_{ty}}{3} - \\frac{Re p_{xy} u}{6} + Re p_{x} v_{x} - \\frac{Re p_{yy} v}{3} + \\frac{Re p_{y} v_{y}}{3} + \\frac{Re u^{2} v_{yy}}{6} - \\frac{Re u v v_{xy}}{2} - \\frac{Re u v_{tx}}{2} - \\frac{2 Re u v_{x} v_{y}}{3} + \\frac{2 Re u_{t} v_{x}}{3} + \\frac{2 Re u_{y} v v_{x}}{3} - \\frac{Re v^{2} v_{yy}}{3} - \\frac{2 Re v v_{ty}}{3} - \\frac{Re v_{tt}}{3} + \\frac{5 p_{yyy}}{6} + \\frac{u v_{xyy}}{2} + \\frac{4 u_{y} v_{xy}}{3} + \\frac{5 v v_{yyy}}{6} + \\frac{v_{ttt}}{2} + \\frac{2 v_{tyy}}{3} + \\frac{2 v_{xy} v_{x}}{3} + 2 v_{yy} v_{y} - \\frac{2 v_{yyyy}}{3 Re}$"
      ],
      "text/plain": [
       "-Re**2*p_{y}*u**2/6 - Re**2*u**3*v_{x}/6 - Re**2*u**2*v*v_{y}/6 - Re**2*u**2*v_{t}/6 - Re*p_{ty}/3 - Re*p_{xy}*u/6 + Re*p_{x}*v_{x} - Re*p_{yy}*v/3 + Re*p_{y}*v_{y}/3 + Re*u**2*v_{yy}/6 - Re*u*v*v_{xy}/2 - Re*u*v_{tx}/2 - 2*Re*u*v_{x}*v_{y}/3 + 2*Re*u_{t}*v_{x}/3 + 2*Re*u_{y}*v*v_{x}/3 - Re*v**2*v_{yy}/3 - 2*Re*v*v_{ty}/3 - Re*v_{tt}/3 + 5*p_{yyy}/6 + u*v_{xyy}/2 + 4*u_{y}*v_{xy}/3 + 5*v*v_{yyy}/6 + v_{ttt}/2 + 2*v_{tyy}/3 + 2*v_{xy}*v_{x}/3 + 2*v_{yy}*v_{y} - 2*v_{yyyy}/(3*Re)"
      ]
     },
     "metadata": {},
     "output_type": "display_data"
    },
    {
     "name": "stdout",
     "output_type": "stream",
     "text": [
      "p_{y} + u v_{x} + v v_{y} + v_{t} - \\frac{v_{xx}}{Re} - \\frac{v_{yy}}{Re}\n",
      "+\\tau\\big(\n",
      "- \\frac{v_{tt}}{2}\n",
      "\\big)\n",
      "+h^2\\big(\n",
      "- \\frac{Re^{2} p_{y} u^{2}}{6} - \\frac{Re^{2} u^{3} v_{x}}{6} - \\frac{Re^{2} u^{2} v v_{y}}{6} - \\frac{Re^{2} u^{2} v_{t}}{6} - \\frac{Re p_{ty}}{3} - \\frac{Re p_{xy} u}{6} + Re p_{x} v_{x} - \\frac{Re p_{yy} v}{3} + \\frac{Re p_{y} v_{y}}{3} + \\frac{Re u^{2} v_{yy}}{6} - \\frac{Re u v v_{xy}}{2} - \\frac{Re u v_{tx}}{2} - \\frac{2 Re u v_{x} v_{y}}{3} + \\frac{2 Re u_{t} v_{x}}{3} + \\frac{2 Re u_{y} v v_{x}}{3} - \\frac{Re v^{2} v_{yy}}{3} - \\frac{2 Re v v_{ty}}{3} - \\frac{Re v_{tt}}{3} + \\frac{5 p_{yyy}}{6} + \\frac{u v_{xyy}}{2} + \\frac{4 u_{y} v_{xy}}{3} + \\frac{5 v v_{yyy}}{6} + \\frac{v_{ttt}}{2} + \\frac{2 v_{tyy}}{3} + \\frac{2 v_{xy} v_{x}}{3} + 2 v_{yy} v_{y} - \\frac{2 v_{yyyy}}{3 Re}\n",
      "\\big)\n"
     ]
    },
    {
     "data": {
      "text/latex": [
       "$\\displaystyle 0$"
      ],
      "text/plain": [
       "0"
      ]
     },
     "metadata": {},
     "output_type": "display_data"
    },
    {
     "name": "stdout",
     "output_type": "stream",
     "text": [
      "tau =>\n"
     ]
    },
    {
     "data": {
      "text/latex": [
       "$\\displaystyle - \\frac{2 e^{- \\frac{2 t}{Re}} \\sin{\\left(x \\right)} \\cos{\\left(y \\right)}}{Re^{2}}$"
      ],
      "text/plain": [
       "-2*exp(-2*t/Re)*sin(x)*cos(y)/Re**2"
      ]
     },
     "metadata": {},
     "output_type": "display_data"
    },
    {
     "name": "stdout",
     "output_type": "stream",
     "text": [
      "h^2 =>\n"
     ]
    },
    {
     "data": {
      "text/latex": [
       "$\\displaystyle - \\frac{\\left(3 Re^{3} \\sin{\\left(y \\right)} + 4 Re^{2} e^{\\frac{2 t}{Re}} \\sin{\\left(x \\right)} + 24 e^{\\frac{2 t}{Re}} \\sin{\\left(x \\right)}\\right) e^{- \\frac{4 t}{Re}} \\cos{\\left(y \\right)}}{6 Re^{3}}$"
      ],
      "text/plain": [
       "-(3*Re**3*sin(y) + 4*Re**2*exp(2*t/Re)*sin(x) + 24*exp(2*t/Re)*sin(x))*exp(-4*t/Re)*cos(y)/(6*Re**3)"
      ]
     },
     "metadata": {},
     "output_type": "display_data"
    },
    {
     "name": "stdout",
     "output_type": "stream",
     "text": [
      "0\n",
      "+\\tau\\big(\n",
      "- \\frac{2 e^{- \\frac{2 t}{Re}} \\sin{\\left(x \\right)} \\cos{\\left(y \\right)}}{Re^{2}}\n",
      "\\big)\n",
      "+h^2\\big(\n",
      "- \\frac{\\left(3 Re^{3} \\sin{\\left(y \\right)} + 4 Re^{2} e^{\\frac{2 t}{Re}} \\sin{\\left(x \\right)} + 24 e^{\\frac{2 t}{Re}} \\sin{\\left(x \\right)}\\right) e^{- \\frac{4 t}{Re}} \\cos{\\left(y \\right)}}{6 Re^{3}}\n",
      "\\big)\n"
     ]
    },
    {
     "data": {
      "text/latex": [
       "$\\displaystyle 0$"
      ],
      "text/plain": [
       "0"
      ]
     },
     "metadata": {},
     "output_type": "display_data"
    },
    {
     "name": "stdout",
     "output_type": "stream",
     "text": [
      "tau =>\n"
     ]
    },
    {
     "data": {
      "text/latex": [
       "$\\displaystyle 0$"
      ],
      "text/plain": [
       "0"
      ]
     },
     "metadata": {},
     "output_type": "display_data"
    },
    {
     "name": "stdout",
     "output_type": "stream",
     "text": [
      "h^2 =>\n"
     ]
    },
    {
     "data": {
      "text/latex": [
       "$\\displaystyle \\frac{\\left(Re^{4} \\left(- Re + \\sqrt{Re^{2} + 16 \\pi^{2}}\\right) e^{x \\left(\\frac{Re}{2} + 6 \\sqrt{Re^{2} + 16 \\pi^{2}}\\right)} + Re^{4} \\left(- Re + \\sqrt{Re^{2} + 16 \\pi^{2}}\\right) e^{x \\left(Re + \\frac{11 \\sqrt{Re^{2} + 16 \\pi^{2}}}{2}\\right)} \\cos{\\left(2 \\pi y \\right)} + 4 \\pi^{2} Re \\left(- 5 Re^{2} + 3 Re \\sqrt{Re^{2} + 16 \\pi^{2}} - 16 \\pi^{2}\\right) e^{x \\left(Re + \\frac{11 \\sqrt{Re^{2} + 16 \\pi^{2}}}{2}\\right)} \\cos{\\left(2 \\pi y \\right)} + 8 \\pi^{2} Re \\left(- 3 Re^{2} + 2 Re \\sqrt{Re^{2} + 16 \\pi^{2}} - 20 \\pi^{2}\\right) e^{x \\left(\\frac{Re}{2} + 6 \\sqrt{Re^{2} + 16 \\pi^{2}}\\right)} + 64 \\pi^{4} \\sqrt{Re^{2} + 16 \\pi^{2}} e^{\\frac{x \\left(Re + 12 \\sqrt{Re^{2} + 16 \\pi^{2}}\\right)}{2}}\\right) e^{- \\frac{13 x \\sqrt{Re^{2} + 16 \\pi^{2}}}{2}} \\sin{\\left(2 \\pi y \\right)}}{24 \\pi Re}$"
      ],
      "text/plain": [
       "(Re**4*(-Re + sqrt(Re**2 + 16*pi**2))*exp(x*(Re/2 + 6*sqrt(Re**2 + 16*pi**2))) + Re**4*(-Re + sqrt(Re**2 + 16*pi**2))*exp(x*(Re + 11*sqrt(Re**2 + 16*pi**2)/2))*cos(2*pi*y) + 4*pi**2*Re*(-5*Re**2 + 3*Re*sqrt(Re**2 + 16*pi**2) - 16*pi**2)*exp(x*(Re + 11*sqrt(Re**2 + 16*pi**2)/2))*cos(2*pi*y) + 8*pi**2*Re*(-3*Re**2 + 2*Re*sqrt(Re**2 + 16*pi**2) - 20*pi**2)*exp(x*(Re/2 + 6*sqrt(Re**2 + 16*pi**2))) + 64*pi**4*sqrt(Re**2 + 16*pi**2)*exp(x*(Re + 12*sqrt(Re**2 + 16*pi**2))/2))*exp(-13*x*sqrt(Re**2 + 16*pi**2)/2)*sin(2*pi*y)/(24*pi*Re)"
      ]
     },
     "metadata": {},
     "output_type": "display_data"
    },
    {
     "name": "stdout",
     "output_type": "stream",
     "text": [
      "0\n",
      "+\\tau\\big(\n",
      "0\n",
      "\\big)\n",
      "+h^2\\big(\n",
      "\\frac{\\left(Re^{4} \\left(- Re + \\sqrt{Re^{2} + 16 \\pi^{2}}\\right) e^{x \\left(\\frac{Re}{2} + 6 \\sqrt{Re^{2} + 16 \\pi^{2}}\\right)} + Re^{4} \\left(- Re + \\sqrt{Re^{2} + 16 \\pi^{2}}\\right) e^{x \\left(Re + \\frac{11 \\sqrt{Re^{2} + 16 \\pi^{2}}}{2}\\right)} \\cos{\\left(2 \\pi y \\right)} + 4 \\pi^{2} Re \\left(- 5 Re^{2} + 3 Re \\sqrt{Re^{2} + 16 \\pi^{2}} - 16 \\pi^{2}\\right) e^{x \\left(Re + \\frac{11 \\sqrt{Re^{2} + 16 \\pi^{2}}}{2}\\right)} \\cos{\\left(2 \\pi y \\right)} + 8 \\pi^{2} Re \\left(- 3 Re^{2} + 2 Re \\sqrt{Re^{2} + 16 \\pi^{2}} - 20 \\pi^{2}\\right) e^{x \\left(\\frac{Re}{2} + 6 \\sqrt{Re^{2} + 16 \\pi^{2}}\\right)} + 64 \\pi^{4} \\sqrt{Re^{2} + 16 \\pi^{2}} e^{\\frac{x \\left(Re + 12 \\sqrt{Re^{2} + 16 \\pi^{2}}\\right)}{2}}\\right) e^{- \\frac{13 x \\sqrt{Re^{2} + 16 \\pi^{2}}}{2}} \\sin{\\left(2 \\pi y \\right)}}{24 \\pi Re}\n",
      "\\big)\n"
     ]
    },
    {
     "data": {
      "text/latex": [
       "$\\displaystyle p_{xx} + p_{yy} + 2 u u_{xx} + 2 u v_{xy} + 2 u_{xy} v + 2 u_{x}^{2} + 2 u_{x} v_{y} + 2 u_{y} v_{x} + 2 v v_{yy} + 2 v_{y}^{2}$"
      ],
      "text/plain": [
       "p_{xx} + p_{yy} + 2*u*u_{xx} + 2*u*v_{xy} + 2*u_{xy}*v + 2*u_{x}**2 + 2*u_{x}*v_{y} + 2*u_{y}*v_{x} + 2*v*v_{yy} + 2*v_{y}**2"
      ]
     },
     "metadata": {},
     "output_type": "display_data"
    },
    {
     "name": "stdout",
     "output_type": "stream",
     "text": [
      "tau =>\n"
     ]
    },
    {
     "data": {
      "text/latex": [
       "$\\displaystyle 0$"
      ],
      "text/plain": [
       "0"
      ]
     },
     "metadata": {},
     "output_type": "display_data"
    },
    {
     "name": "stdout",
     "output_type": "stream",
     "text": [
      "h^2 =>\n"
     ]
    },
    {
     "data": {
      "text/latex": [
       "$\\displaystyle \\frac{p_{xxxx}}{3} + \\frac{p_{yyyy}}{3} + \\frac{2 u u_{xxxx}}{3} + \\frac{u v_{xxxy}}{3} + \\frac{u v_{xyyy}}{3} + \\frac{u_{xxxy} v}{3} + \\frac{8 u_{xxx} u_{x}}{3} + \\frac{u_{xxx} v_{y}}{3} + u_{xxy} v_{x} + 2 u_{xx}^{2} + u_{xx} v_{xy} + \\frac{u_{xyyy} v}{3} + u_{xyy} v_{y} + u_{xy} v_{xx} + u_{xy} v_{yy} + u_{x} v_{xxy} + \\frac{u_{x} v_{yyy}}{3} + \\frac{u_{yyy} v_{x}}{3} + u_{yy} v_{xy} + \\frac{u_{y} v_{xxx}}{3} + u_{y} v_{xyy} + \\frac{2 v v_{yyyy}}{3} + \\frac{8 v_{yyy} v_{y}}{3} + 2 v_{yy}^{2}$"
      ],
      "text/plain": [
       "p_{xxxx}/3 + p_{yyyy}/3 + 2*u*u_{xxxx}/3 + u*v_{xxxy}/3 + u*v_{xyyy}/3 + u_{xxxy}*v/3 + 8*u_{xxx}*u_{x}/3 + u_{xxx}*v_{y}/3 + u_{xxy}*v_{x} + 2*u_{xx}**2 + u_{xx}*v_{xy} + u_{xyyy}*v/3 + u_{xyy}*v_{y} + u_{xy}*v_{xx} + u_{xy}*v_{yy} + u_{x}*v_{xxy} + u_{x}*v_{yyy}/3 + u_{yyy}*v_{x}/3 + u_{yy}*v_{xy} + u_{y}*v_{xxx}/3 + u_{y}*v_{xyy} + 2*v*v_{yyyy}/3 + 8*v_{yyy}*v_{y}/3 + 2*v_{yy}**2"
      ]
     },
     "metadata": {},
     "output_type": "display_data"
    },
    {
     "name": "stdout",
     "output_type": "stream",
     "text": [
      "-------------------------\n"
     ]
    },
    {
     "data": {
      "text/latex": [
       "$\\displaystyle p_{xx} + p_{yy} + 2 u u_{xx} + 2 u v_{xy} + 2 u_{xy} v + 2 u_{x}^{2} + 2 u_{x} v_{y} + 2 u_{y} v_{x} + 2 v v_{yy} + 2 v_{y}^{2}$"
      ],
      "text/plain": [
       "p_{xx} + p_{yy} + 2*u*u_{xx} + 2*u*v_{xy} + 2*u_{xy}*v + 2*u_{x}**2 + 2*u_{x}*v_{y} + 2*u_{y}*v_{x} + 2*v*v_{yy} + 2*v_{y}**2"
      ]
     },
     "metadata": {},
     "output_type": "display_data"
    },
    {
     "name": "stdout",
     "output_type": "stream",
     "text": [
      "tau =>\n"
     ]
    },
    {
     "data": {
      "text/latex": [
       "$\\displaystyle 0$"
      ],
      "text/plain": [
       "0"
      ]
     },
     "metadata": {},
     "output_type": "display_data"
    },
    {
     "name": "stdout",
     "output_type": "stream",
     "text": [
      "h^2 =>\n"
     ]
    },
    {
     "data": {
      "text/latex": [
       "$\\displaystyle \\frac{2 Re^{2} p_{x} v v_{x}}{3} - \\frac{Re^{2} p_{yy} u^{2}}{3} - \\frac{2 Re^{2} p_{y} u u_{y}}{3} - \\frac{Re^{2} u^{3} v_{xy}}{3} - Re^{2} u^{2} u_{y} v_{x} - \\frac{Re^{2} u^{2} v v_{yy}}{3} - \\frac{Re^{2} u^{2} v_{ty}}{3} - \\frac{Re^{2} u^{2} v_{y}^{2}}{3} - \\frac{2 Re^{2} u u_{y} v v_{y}}{3} - \\frac{2 Re^{2} u u_{y} v_{t}}{3} - \\frac{2 Re^{2} u v v_{x} v_{y}}{3} + \\frac{2 Re^{2} u_{t} v v_{x}}{3} + \\frac{2 Re^{2} u_{y} v^{2} v_{x}}{3} - \\frac{Re p_{xyy} u}{3} - \\frac{Re p_{xy} u_{y}}{3} + Re p_{xy} v_{x} + \\frac{7 Re p_{x} v_{xy}}{3} - \\frac{Re p_{yyy} v}{3} + \\frac{Re p_{y} v_{yy}}{3} + \\frac{Re u^{2} v_{yyy}}{3} + \\frac{2 Re u u_{y} v_{yy}}{3} - \\frac{2 Re u v v_{xyy}}{3} - \\frac{Re u v_{txy}}{3} - \\frac{8 Re u v_{xy} v_{y}}{3} - \\frac{2 Re u v_{x} v_{yy}}{3} + Re u_{ty} v_{x} + \\frac{7 Re u_{t} v_{xy}}{3} + \\frac{4 Re u_{y} v v_{xy}}{3} - \\frac{Re u_{y} v_{tx}}{3} - \\frac{Re v^{2} v_{yyy}}{3} - \\frac{Re v v_{tyy}}{3} + \\frac{2 Re v v_{xy} v_{x}}{3} - \\frac{2 Re v v_{yy} v_{y}}{3} + \\frac{Re v_{t} v_{yy}}{3} + \\frac{2 p_{yyyy}}{3} + \\frac{2 u v_{xyyy}}{3} + 2 u_{y} v_{xyy} + \\frac{2 v v_{yyyy}}{3} + \\frac{2 v_{xyy} v_{x}}{3} + 2 v_{xy}^{2} + \\frac{8 v_{yyy} v_{y}}{3} + 2 v_{yy}^{2}$"
      ],
      "text/plain": [
       "2*Re**2*p_{x}*v*v_{x}/3 - Re**2*p_{yy}*u**2/3 - 2*Re**2*p_{y}*u*u_{y}/3 - Re**2*u**3*v_{xy}/3 - Re**2*u**2*u_{y}*v_{x} - Re**2*u**2*v*v_{yy}/3 - Re**2*u**2*v_{ty}/3 - Re**2*u**2*v_{y}**2/3 - 2*Re**2*u*u_{y}*v*v_{y}/3 - 2*Re**2*u*u_{y}*v_{t}/3 - 2*Re**2*u*v*v_{x}*v_{y}/3 + 2*Re**2*u_{t}*v*v_{x}/3 + 2*Re**2*u_{y}*v**2*v_{x}/3 - Re*p_{xyy}*u/3 - Re*p_{xy}*u_{y}/3 + Re*p_{xy}*v_{x} + 7*Re*p_{x}*v_{xy}/3 - Re*p_{yyy}*v/3 + Re*p_{y}*v_{yy}/3 + Re*u**2*v_{yyy}/3 + 2*Re*u*u_{y}*v_{yy}/3 - 2*Re*u*v*v_{xyy}/3 - Re*u*v_{txy}/3 - 8*Re*u*v_{xy}*v_{y}/3 - 2*Re*u*v_{x}*v_{yy}/3 + Re*u_{ty}*v_{x} + 7*Re*u_{t}*v_{xy}/3 + 4*Re*u_{y}*v*v_{xy}/3 - Re*u_{y}*v_{tx}/3 - Re*v**2*v_{yyy}/3 - Re*v*v_{tyy}/3 + 2*Re*v*v_{xy}*v_{x}/3 - 2*Re*v*v_{yy}*v_{y}/3 + Re*v_{t}*v_{yy}/3 + 2*p_{yyyy}/3 + 2*u*v_{xyyy}/3 + 2*u_{y}*v_{xyy} + 2*v*v_{yyyy}/3 + 2*v_{xyy}*v_{x}/3 + 2*v_{xy}**2 + 8*v_{yyy}*v_{y}/3 + 2*v_{yy}**2"
      ]
     },
     "metadata": {},
     "output_type": "display_data"
    },
    {
     "name": "stdout",
     "output_type": "stream",
     "text": [
      "p_{xx} + p_{yy} + 2 u u_{xx} + 2 u v_{xy} + 2 u_{xy} v + 2 u_{x}^{2} + 2 u_{x} v_{y} + 2 u_{y} v_{x} + 2 v v_{yy} + 2 v_{y}^{2}\n",
      "+\\tau\\big(\n",
      "0\n",
      "\\big)\n",
      "+h^2\\big(\n",
      "\\frac{2 Re^{2} p_{x} v v_{x}}{3} - \\frac{Re^{2} p_{yy} u^{2}}{3} - \\frac{2 Re^{2} p_{y} u u_{y}}{3} - \\frac{Re^{2} u^{3} v_{xy}}{3} - Re^{2} u^{2} u_{y} v_{x} - \\frac{Re^{2} u^{2} v v_{yy}}{3} - \\frac{Re^{2} u^{2} v_{ty}}{3} - \\frac{Re^{2} u^{2} v_{y}^{2}}{3} - \\frac{2 Re^{2} u u_{y} v v_{y}}{3} - \\frac{2 Re^{2} u u_{y} v_{t}}{3} - \\frac{2 Re^{2} u v v_{x} v_{y}}{3} + \\frac{2 Re^{2} u_{t} v v_{x}}{3} + \\frac{2 Re^{2} u_{y} v^{2} v_{x}}{3} - \\frac{Re p_{xyy} u}{3} - \\frac{Re p_{xy} u_{y}}{3} + Re p_{xy} v_{x} + \\frac{7 Re p_{x} v_{xy}}{3} - \\frac{Re p_{yyy} v}{3} + \\frac{Re p_{y} v_{yy}}{3} + \\frac{Re u^{2} v_{yyy}}{3} + \\frac{2 Re u u_{y} v_{yy}}{3} - \\frac{2 Re u v v_{xyy}}{3} - \\frac{Re u v_{txy}}{3} - \\frac{8 Re u v_{xy} v_{y}}{3} - \\frac{2 Re u v_{x} v_{yy}}{3} + Re u_{ty} v_{x} + \\frac{7 Re u_{t} v_{xy}}{3} + \\frac{4 Re u_{y} v v_{xy}}{3} - \\frac{Re u_{y} v_{tx}}{3} - \\frac{Re v^{2} v_{yyy}}{3} - \\frac{Re v v_{tyy}}{3} + \\frac{2 Re v v_{xy} v_{x}}{3} - \\frac{2 Re v v_{yy} v_{y}}{3} + \\frac{Re v_{t} v_{yy}}{3} + \\frac{2 p_{yyyy}}{3} + \\frac{2 u v_{xyyy}}{3} + 2 u_{y} v_{xyy} + \\frac{2 v v_{yyyy}}{3} + \\frac{2 v_{xyy} v_{x}}{3} + 2 v_{xy}^{2} + \\frac{8 v_{yyy} v_{y}}{3} + 2 v_{yy}^{2}\n",
      "\\big)\n"
     ]
    },
    {
     "data": {
      "text/latex": [
       "$\\displaystyle 0$"
      ],
      "text/plain": [
       "0"
      ]
     },
     "metadata": {},
     "output_type": "display_data"
    },
    {
     "name": "stdout",
     "output_type": "stream",
     "text": [
      "tau =>\n"
     ]
    },
    {
     "data": {
      "text/latex": [
       "$\\displaystyle 0$"
      ],
      "text/plain": [
       "0"
      ]
     },
     "metadata": {},
     "output_type": "display_data"
    },
    {
     "name": "stdout",
     "output_type": "stream",
     "text": [
      "h^2 =>\n"
     ]
    },
    {
     "data": {
      "text/latex": [
       "$\\displaystyle 0$"
      ],
      "text/plain": [
       "0"
      ]
     },
     "metadata": {},
     "output_type": "display_data"
    },
    {
     "name": "stdout",
     "output_type": "stream",
     "text": [
      "0\n",
      "+\\tau\\big(\n",
      "0\n",
      "\\big)\n",
      "+h^2\\big(\n",
      "0\n",
      "\\big)\n"
     ]
    },
    {
     "data": {
      "text/latex": [
       "$\\displaystyle 0$"
      ],
      "text/plain": [
       "0"
      ]
     },
     "metadata": {},
     "output_type": "display_data"
    },
    {
     "name": "stdout",
     "output_type": "stream",
     "text": [
      "tau =>\n"
     ]
    },
    {
     "data": {
      "text/latex": [
       "$\\displaystyle 0$"
      ],
      "text/plain": [
       "0"
      ]
     },
     "metadata": {},
     "output_type": "display_data"
    },
    {
     "name": "stdout",
     "output_type": "stream",
     "text": [
      "h^2 =>\n"
     ]
    },
    {
     "data": {
      "text/latex": [
       "$\\displaystyle \\frac{\\left(- Re^{4} + Re^{3} \\sqrt{Re^{2} + 16 \\pi^{2}} - 20 \\pi^{2} Re^{2} + 12 \\pi^{2} Re \\sqrt{Re^{2} + 16 \\pi^{2}} - 64 \\pi^{4}\\right) e^{\\frac{x \\left(Re - \\sqrt{Re^{2} + 16 \\pi^{2}}\\right)}{2}} \\cos{\\left(2 \\pi y \\right)}}{6}$"
      ],
      "text/plain": [
       "(-Re**4 + Re**3*sqrt(Re**2 + 16*pi**2) - 20*pi**2*Re**2 + 12*pi**2*Re*sqrt(Re**2 + 16*pi**2) - 64*pi**4)*exp(x*(Re - sqrt(Re**2 + 16*pi**2))/2)*cos(2*pi*y)/6"
      ]
     },
     "metadata": {},
     "output_type": "display_data"
    },
    {
     "name": "stdout",
     "output_type": "stream",
     "text": [
      "0\n",
      "+\\tau\\big(\n",
      "0\n",
      "\\big)\n",
      "+h^2\\big(\n",
      "\\frac{\\left(- Re^{4} + Re^{3} \\sqrt{Re^{2} + 16 \\pi^{2}} - 20 \\pi^{2} Re^{2} + 12 \\pi^{2} Re \\sqrt{Re^{2} + 16 \\pi^{2}} - 64 \\pi^{4}\\right) e^{\\frac{x \\left(Re - \\sqrt{Re^{2} + 16 \\pi^{2}}\\right)}{2}} \\cos{\\left(2 \\pi y \\right)}}{6}\n",
      "\\big)\n"
     ]
    },
    {
     "data": {
      "text/latex": [
       "$\\displaystyle 0$"
      ],
      "text/plain": [
       "0"
      ]
     },
     "metadata": {},
     "output_type": "display_data"
    },
    {
     "name": "stdout",
     "output_type": "stream",
     "text": [
      "tau =>\n"
     ]
    },
    {
     "data": {
      "text/latex": [
       "$\\displaystyle 0$"
      ],
      "text/plain": [
       "0"
      ]
     },
     "metadata": {},
     "output_type": "display_data"
    },
    {
     "name": "stdout",
     "output_type": "stream",
     "text": [
      "h^2 =>\n"
     ]
    },
    {
     "data": {
      "text/latex": [
       "$\\displaystyle 0$"
      ],
      "text/plain": [
       "0"
      ]
     },
     "metadata": {},
     "output_type": "display_data"
    },
    {
     "name": "stdout",
     "output_type": "stream",
     "text": [
      "0\n",
      "+\\tau\\big(\n",
      "0\n",
      "\\big)\n",
      "+h^2\\big(\n",
      "0\n",
      "\\big)\n"
     ]
    }
   ],
   "source": [
    "F1 = clip(Dx(u) + Dy(v))\n",
    "F2 = clip(Dt(u) + Ut(u*Dx(u) + v*Dy(u) + Dx(p) - DD2(u)/Re))\n",
    "F3 = clip(Dt(v) + Ut(u*Dx(v) + v*Dy(v) + Dy(p) - DD2(v)/Re))\n",
    "F4 = clip(Dx(Dx(u**2) + Dy(v*u) + Dx(p)) + Dy(Dx(u*v) + Dy(v**2) + Dy(p)))\n",
    "\n",
    "build(F1, F2, F3, F4)"
   ]
  },
  {
   "cell_type": "code",
   "execution_count": 37,
   "metadata": {},
   "outputs": [
    {
     "data": {
      "text/latex": [
       "$\\displaystyle u_{x} + v_{y}$"
      ],
      "text/plain": [
       "u_{x} + v_{y}"
      ]
     },
     "metadata": {},
     "output_type": "display_data"
    },
    {
     "name": "stdout",
     "output_type": "stream",
     "text": [
      "tau =>\n"
     ]
    },
    {
     "data": {
      "text/latex": [
       "$\\displaystyle 0$"
      ],
      "text/plain": [
       "0"
      ]
     },
     "metadata": {},
     "output_type": "display_data"
    },
    {
     "name": "stdout",
     "output_type": "stream",
     "text": [
      "h^2 =>\n"
     ]
    },
    {
     "data": {
      "text/latex": [
       "$\\displaystyle \\frac{u_{xxx}}{6} + \\frac{v_{yyy}}{6}$"
      ],
      "text/plain": [
       "u_{xxx}/6 + v_{yyy}/6"
      ]
     },
     "metadata": {},
     "output_type": "display_data"
    },
    {
     "name": "stdout",
     "output_type": "stream",
     "text": [
      "-------------------------\n"
     ]
    },
    {
     "data": {
      "text/latex": [
       "$\\displaystyle u_{x} + v_{y}$"
      ],
      "text/plain": [
       "u_{x} + v_{y}"
      ]
     },
     "metadata": {},
     "output_type": "display_data"
    },
    {
     "name": "stdout",
     "output_type": "stream",
     "text": [
      "tau =>\n"
     ]
    },
    {
     "data": {
      "text/latex": [
       "$\\displaystyle 0$"
      ],
      "text/plain": [
       "0"
      ]
     },
     "metadata": {},
     "output_type": "display_data"
    },
    {
     "name": "stdout",
     "output_type": "stream",
     "text": [
      "h^2 =>\n"
     ]
    },
    {
     "data": {
      "text/latex": [
       "$\\displaystyle - \\frac{Re p_{yy}}{6} - \\frac{Re u v_{xy}}{6} - \\frac{Re u_{y} v_{x}}{6} - \\frac{Re v v_{yy}}{6} - \\frac{Re v_{ty}}{6} - \\frac{Re v_{y}^{2}}{6} + \\frac{v_{yyy}}{3}$"
      ],
      "text/plain": [
       "-Re*p_{yy}/6 - Re*u*v_{xy}/6 - Re*u_{y}*v_{x}/6 - Re*v*v_{yy}/6 - Re*v_{ty}/6 - Re*v_{y}**2/6 + v_{yyy}/3"
      ]
     },
     "metadata": {},
     "output_type": "display_data"
    },
    {
     "name": "stdout",
     "output_type": "stream",
     "text": [
      "u_{x} + v_{y}\n",
      "+\\tau\\big(\n",
      "0\n",
      "\\big)\n",
      "+h^2\\big(\n",
      "- \\frac{Re p_{yy}}{6} - \\frac{Re u v_{xy}}{6} - \\frac{Re u_{y} v_{x}}{6} - \\frac{Re v v_{yy}}{6} - \\frac{Re v_{ty}}{6} - \\frac{Re v_{y}^{2}}{6} + \\frac{v_{yyy}}{3}\n",
      "\\big)\n"
     ]
    },
    {
     "data": {
      "text/latex": [
       "$\\displaystyle 0$"
      ],
      "text/plain": [
       "0"
      ]
     },
     "metadata": {},
     "output_type": "display_data"
    },
    {
     "name": "stdout",
     "output_type": "stream",
     "text": [
      "tau =>\n"
     ]
    },
    {
     "data": {
      "text/latex": [
       "$\\displaystyle 0$"
      ],
      "text/plain": [
       "0"
      ]
     },
     "metadata": {},
     "output_type": "display_data"
    },
    {
     "name": "stdout",
     "output_type": "stream",
     "text": [
      "h^2 =>\n"
     ]
    },
    {
     "data": {
      "text/latex": [
       "$\\displaystyle 0$"
      ],
      "text/plain": [
       "0"
      ]
     },
     "metadata": {},
     "output_type": "display_data"
    },
    {
     "name": "stdout",
     "output_type": "stream",
     "text": [
      "0\n",
      "+\\tau\\big(\n",
      "0\n",
      "\\big)\n",
      "+h^2\\big(\n",
      "0\n",
      "\\big)\n"
     ]
    },
    {
     "data": {
      "text/latex": [
       "$\\displaystyle 0$"
      ],
      "text/plain": [
       "0"
      ]
     },
     "metadata": {},
     "output_type": "display_data"
    },
    {
     "name": "stdout",
     "output_type": "stream",
     "text": [
      "tau =>\n"
     ]
    },
    {
     "data": {
      "text/latex": [
       "$\\displaystyle 0$"
      ],
      "text/plain": [
       "0"
      ]
     },
     "metadata": {},
     "output_type": "display_data"
    },
    {
     "name": "stdout",
     "output_type": "stream",
     "text": [
      "h^2 =>\n"
     ]
    },
    {
     "data": {
      "text/latex": [
       "$\\displaystyle \\frac{\\left(- Re^{3} + Re^{2} \\sqrt{Re^{2} + 16 \\pi^{2}} - 16 \\pi^{2} Re + 8 \\pi^{2} \\sqrt{Re^{2} + 16 \\pi^{2}}\\right) e^{\\frac{x \\left(Re - \\sqrt{Re^{2} + 16 \\pi^{2}}\\right)}{2}} \\cos{\\left(2 \\pi y \\right)}}{12}$"
      ],
      "text/plain": [
       "(-Re**3 + Re**2*sqrt(Re**2 + 16*pi**2) - 16*pi**2*Re + 8*pi**2*sqrt(Re**2 + 16*pi**2))*exp(x*(Re - sqrt(Re**2 + 16*pi**2))/2)*cos(2*pi*y)/12"
      ]
     },
     "metadata": {},
     "output_type": "display_data"
    },
    {
     "name": "stdout",
     "output_type": "stream",
     "text": [
      "0\n",
      "+\\tau\\big(\n",
      "0\n",
      "\\big)\n",
      "+h^2\\big(\n",
      "\\frac{\\left(- Re^{3} + Re^{2} \\sqrt{Re^{2} + 16 \\pi^{2}} - 16 \\pi^{2} Re + 8 \\pi^{2} \\sqrt{Re^{2} + 16 \\pi^{2}}\\right) e^{\\frac{x \\left(Re - \\sqrt{Re^{2} + 16 \\pi^{2}}\\right)}{2}} \\cos{\\left(2 \\pi y \\right)}}{12}\n",
      "\\big)\n"
     ]
    },
    {
     "data": {
      "text/latex": [
       "$\\displaystyle p_{x} + 2 u u_{x} + u v_{y} + u_{t} + u_{y} v - \\frac{u_{xx}}{Re} - \\frac{u_{yy}}{Re}$"
      ],
      "text/plain": [
       "p_{x} + 2*u*u_{x} + u*v_{y} + u_{t} + u_{y}*v - u_{xx}/Re - u_{yy}/Re"
      ]
     },
     "metadata": {},
     "output_type": "display_data"
    },
    {
     "name": "stdout",
     "output_type": "stream",
     "text": [
      "tau =>\n"
     ]
    },
    {
     "data": {
      "text/latex": [
       "$\\displaystyle p_{tx} + 2 u u_{tx} + u v_{ty} + \\frac{u_{tt}}{2} + u_{ty} v + 2 u_{t} u_{x} + u_{t} v_{y} + u_{y} v_{t} - \\frac{u_{txx}}{Re} - \\frac{u_{tyy}}{Re}$"
      ],
      "text/plain": [
       "p_{tx} + 2*u*u_{tx} + u*v_{ty} + u_{tt}/2 + u_{ty}*v + 2*u_{t}*u_{x} + u_{t}*v_{y} + u_{y}*v_{t} - u_{txx}/Re - u_{tyy}/Re"
      ]
     },
     "metadata": {},
     "output_type": "display_data"
    },
    {
     "name": "stdout",
     "output_type": "stream",
     "text": [
      "h^2 =>\n"
     ]
    },
    {
     "data": {
      "text/latex": [
       "$\\displaystyle \\frac{p_{xxx}}{6} + \\frac{u u_{xxx}}{3} + \\frac{u v_{yyy}}{6} + u_{xx} u_{x} + \\frac{u_{yyy} v}{6} + \\frac{u_{yy} v_{y}}{2} + \\frac{u_{y} v_{yy}}{2} - \\frac{u_{xxxx}}{12 Re} - \\frac{u_{yyyy}}{12 Re}$"
      ],
      "text/plain": [
       "p_{xxx}/6 + u*u_{xxx}/3 + u*v_{yyy}/6 + u_{xx}*u_{x} + u_{yyy}*v/6 + u_{yy}*v_{y}/2 + u_{y}*v_{yy}/2 - u_{xxxx}/(12*Re) - u_{yyyy}/(12*Re)"
      ]
     },
     "metadata": {},
     "output_type": "display_data"
    },
    {
     "name": "stdout",
     "output_type": "stream",
     "text": [
      "-------------------------\n"
     ]
    },
    {
     "data": {
      "text/latex": [
       "$\\displaystyle p_{x} + 2 u u_{x} + u v_{y} + u_{t} + u_{y} v - \\frac{u_{xx}}{Re} - \\frac{u_{yy}}{Re}$"
      ],
      "text/plain": [
       "p_{x} + 2*u*u_{x} + u*v_{y} + u_{t} + u_{y}*v - u_{xx}/Re - u_{yy}/Re"
      ]
     },
     "metadata": {},
     "output_type": "display_data"
    },
    {
     "name": "stdout",
     "output_type": "stream",
     "text": [
      "tau =>\n"
     ]
    },
    {
     "data": {
      "text/latex": [
       "$\\displaystyle - \\frac{u_{tt}}{2}$"
      ],
      "text/plain": [
       "-u_{tt}/2"
      ]
     },
     "metadata": {},
     "output_type": "display_data"
    },
    {
     "name": "stdout",
     "output_type": "stream",
     "text": [
      "h^2 =>\n"
     ]
    },
    {
     "data": {
      "text/latex": [
       "$\\displaystyle \\frac{Re^{2} p_{x} v^{2}}{12} - \\frac{Re^{2} u v^{2} v_{y}}{12} + \\frac{Re^{2} u_{t} v^{2}}{12} + \\frac{Re^{2} u_{y} v^{3}}{12} - \\frac{Re p_{tx}}{12} + \\frac{Re p_{xy} v}{12} + \\frac{5 Re p_{x} v_{y}}{12} - \\frac{Re p_{yy} u}{4} - \\frac{Re p_{y} u_{y}}{4} - \\frac{Re u^{2} v_{xy}}{4} - \\frac{Re u u_{y} v_{x}}{2} - \\frac{Re u v v_{yy}}{3} - \\frac{Re u v_{ty}}{6} - \\frac{2 Re u v_{y}^{2}}{3} - \\frac{Re u_{tt}}{12} + \\frac{Re u_{t} v_{y}}{2} + \\frac{Re u_{y} v v_{y}}{6} - \\frac{Re u_{y} v_{t}}{3} + \\frac{Re v^{2} v_{xy}}{12} - \\frac{p_{xyy}}{6} + \\frac{u v_{yyy}}{2} + \\frac{u_{ttt}}{2} + \\frac{5 u_{y} v_{yy}}{6} + \\frac{v v_{xyy}}{6} + \\frac{5 v_{xy} v_{y}}{6} + \\frac{v_{x} v_{yy}}{3} - \\frac{v_{xyyy}}{6 Re}$"
      ],
      "text/plain": [
       "Re**2*p_{x}*v**2/12 - Re**2*u*v**2*v_{y}/12 + Re**2*u_{t}*v**2/12 + Re**2*u_{y}*v**3/12 - Re*p_{tx}/12 + Re*p_{xy}*v/12 + 5*Re*p_{x}*v_{y}/12 - Re*p_{yy}*u/4 - Re*p_{y}*u_{y}/4 - Re*u**2*v_{xy}/4 - Re*u*u_{y}*v_{x}/2 - Re*u*v*v_{yy}/3 - Re*u*v_{ty}/6 - 2*Re*u*v_{y}**2/3 - Re*u_{tt}/12 + Re*u_{t}*v_{y}/2 + Re*u_{y}*v*v_{y}/6 - Re*u_{y}*v_{t}/3 + Re*v**2*v_{xy}/12 - p_{xyy}/6 + u*v_{yyy}/2 + u_{ttt}/2 + 5*u_{y}*v_{yy}/6 + v*v_{xyy}/6 + 5*v_{xy}*v_{y}/6 + v_{x}*v_{yy}/3 - v_{xyyy}/(6*Re)"
      ]
     },
     "metadata": {},
     "output_type": "display_data"
    },
    {
     "name": "stdout",
     "output_type": "stream",
     "text": [
      "p_{x} + 2 u u_{x} + u v_{y} + u_{t} + u_{y} v - \\frac{u_{xx}}{Re} - \\frac{u_{yy}}{Re}\n",
      "+\\tau\\big(\n",
      "- \\frac{u_{tt}}{2}\n",
      "\\big)\n",
      "+h^2\\big(\n",
      "\\frac{Re^{2} p_{x} v^{2}}{12} - \\frac{Re^{2} u v^{2} v_{y}}{12} + \\frac{Re^{2} u_{t} v^{2}}{12} + \\frac{Re^{2} u_{y} v^{3}}{12} - \\frac{Re p_{tx}}{12} + \\frac{Re p_{xy} v}{12} + \\frac{5 Re p_{x} v_{y}}{12} - \\frac{Re p_{yy} u}{4} - \\frac{Re p_{y} u_{y}}{4} - \\frac{Re u^{2} v_{xy}}{4} - \\frac{Re u u_{y} v_{x}}{2} - \\frac{Re u v v_{yy}}{3} - \\frac{Re u v_{ty}}{6} - \\frac{2 Re u v_{y}^{2}}{3} - \\frac{Re u_{tt}}{12} + \\frac{Re u_{t} v_{y}}{2} + \\frac{Re u_{y} v v_{y}}{6} - \\frac{Re u_{y} v_{t}}{3} + \\frac{Re v^{2} v_{xy}}{12} - \\frac{p_{xyy}}{6} + \\frac{u v_{yyy}}{2} + \\frac{u_{ttt}}{2} + \\frac{5 u_{y} v_{yy}}{6} + \\frac{v v_{xyy}}{6} + \\frac{5 v_{xy} v_{y}}{6} + \\frac{v_{x} v_{yy}}{3} - \\frac{v_{xyyy}}{6 Re}\n",
      "\\big)\n"
     ]
    },
    {
     "data": {
      "text/latex": [
       "$\\displaystyle 0$"
      ],
      "text/plain": [
       "0"
      ]
     },
     "metadata": {},
     "output_type": "display_data"
    },
    {
     "name": "stdout",
     "output_type": "stream",
     "text": [
      "tau =>\n"
     ]
    },
    {
     "data": {
      "text/latex": [
       "$\\displaystyle \\frac{2 e^{- \\frac{2 t}{Re}} \\sin{\\left(y \\right)} \\cos{\\left(x \\right)}}{Re^{2}}$"
      ],
      "text/plain": [
       "2*exp(-2*t/Re)*sin(y)*cos(x)/Re**2"
      ]
     },
     "metadata": {},
     "output_type": "display_data"
    },
    {
     "name": "stdout",
     "output_type": "stream",
     "text": [
      "h^2 =>\n"
     ]
    },
    {
     "data": {
      "text/latex": [
       "$\\displaystyle \\frac{\\left(Re^{2} + 24\\right) e^{- \\frac{2 t}{Re}} \\sin{\\left(y \\right)} \\cos{\\left(x \\right)}}{6 Re^{3}}$"
      ],
      "text/plain": [
       "(Re**2 + 24)*exp(-2*t/Re)*sin(y)*cos(x)/(6*Re**3)"
      ]
     },
     "metadata": {},
     "output_type": "display_data"
    },
    {
     "name": "stdout",
     "output_type": "stream",
     "text": [
      "0\n",
      "+\\tau\\big(\n",
      "\\frac{2 e^{- \\frac{2 t}{Re}} \\sin{\\left(y \\right)} \\cos{\\left(x \\right)}}{Re^{2}}\n",
      "\\big)\n",
      "+h^2\\big(\n",
      "\\frac{\\left(Re^{2} + 24\\right) e^{- \\frac{2 t}{Re}} \\sin{\\left(y \\right)} \\cos{\\left(x \\right)}}{6 Re^{3}}\n",
      "\\big)\n"
     ]
    },
    {
     "data": {
      "text/latex": [
       "$\\displaystyle 0$"
      ],
      "text/plain": [
       "0"
      ]
     },
     "metadata": {},
     "output_type": "display_data"
    },
    {
     "name": "stdout",
     "output_type": "stream",
     "text": [
      "tau =>\n"
     ]
    },
    {
     "data": {
      "text/latex": [
       "$\\displaystyle 0$"
      ],
      "text/plain": [
       "0"
      ]
     },
     "metadata": {},
     "output_type": "display_data"
    },
    {
     "name": "stdout",
     "output_type": "stream",
     "text": [
      "h^2 =>\n"
     ]
    },
    {
     "data": {
      "text/latex": [
       "$\\displaystyle \\frac{\\left(Re \\left(- 3 Re^{3} + 3 Re^{2} \\sqrt{Re^{2} + 16 \\pi^{2}} - 40 \\pi^{2} Re + 16 \\pi^{2} \\sqrt{Re^{2} + 16 \\pi^{2}}\\right) e^{x \\left(\\frac{Re}{2} + 7 \\sqrt{Re^{2} + 16 \\pi^{2}}\\right)} \\cos{\\left(2 \\pi y \\right)} + 8 Re \\left(Re^{3} - Re^{2} \\sqrt{Re^{2} + 16 \\pi^{2}} + 16 \\pi^{2} Re - 8 \\pi^{2} \\sqrt{Re^{2} + 16 \\pi^{2}}\\right) e^{x \\left(Re + \\frac{13 \\sqrt{Re^{2} + 16 \\pi^{2}}}{2}\\right)} \\cos{\\left(4 \\pi y \\right)} + 64 \\pi^{4} e^{\\frac{x \\left(Re + 14 \\sqrt{Re^{2} + 16 \\pi^{2}}\\right)}{2}} \\cos{\\left(2 \\pi y \\right)}\\right) e^{- \\frac{15 x \\sqrt{Re^{2} + 16 \\pi^{2}}}{2}}}{24 Re}$"
      ],
      "text/plain": [
       "(Re*(-3*Re**3 + 3*Re**2*sqrt(Re**2 + 16*pi**2) - 40*pi**2*Re + 16*pi**2*sqrt(Re**2 + 16*pi**2))*exp(x*(Re/2 + 7*sqrt(Re**2 + 16*pi**2)))*cos(2*pi*y) + 8*Re*(Re**3 - Re**2*sqrt(Re**2 + 16*pi**2) + 16*pi**2*Re - 8*pi**2*sqrt(Re**2 + 16*pi**2))*exp(x*(Re + 13*sqrt(Re**2 + 16*pi**2)/2))*cos(4*pi*y) + 64*pi**4*exp(x*(Re + 14*sqrt(Re**2 + 16*pi**2))/2)*cos(2*pi*y))*exp(-15*x*sqrt(Re**2 + 16*pi**2)/2)/(24*Re)"
      ]
     },
     "metadata": {},
     "output_type": "display_data"
    },
    {
     "name": "stdout",
     "output_type": "stream",
     "text": [
      "0\n",
      "+\\tau\\big(\n",
      "0\n",
      "\\big)\n",
      "+h^2\\big(\n",
      "\\frac{\\left(Re \\left(- 3 Re^{3} + 3 Re^{2} \\sqrt{Re^{2} + 16 \\pi^{2}} - 40 \\pi^{2} Re + 16 \\pi^{2} \\sqrt{Re^{2} + 16 \\pi^{2}}\\right) e^{x \\left(\\frac{Re}{2} + 7 \\sqrt{Re^{2} + 16 \\pi^{2}}\\right)} \\cos{\\left(2 \\pi y \\right)} + 8 Re \\left(Re^{3} - Re^{2} \\sqrt{Re^{2} + 16 \\pi^{2}} + 16 \\pi^{2} Re - 8 \\pi^{2} \\sqrt{Re^{2} + 16 \\pi^{2}}\\right) e^{x \\left(Re + \\frac{13 \\sqrt{Re^{2} + 16 \\pi^{2}}}{2}\\right)} \\cos{\\left(4 \\pi y \\right)} + 64 \\pi^{4} e^{\\frac{x \\left(Re + 14 \\sqrt{Re^{2} + 16 \\pi^{2}}\\right)}{2}} \\cos{\\left(2 \\pi y \\right)}\\right) e^{- \\frac{15 x \\sqrt{Re^{2} + 16 \\pi^{2}}}{2}}}{24 Re}\n",
      "\\big)\n"
     ]
    },
    {
     "data": {
      "text/latex": [
       "$\\displaystyle p_{y} + u v_{x} + u_{x} v + 2 v v_{y} + v_{t} - \\frac{v_{xx}}{Re} - \\frac{v_{yy}}{Re}$"
      ],
      "text/plain": [
       "p_{y} + u*v_{x} + u_{x}*v + 2*v*v_{y} + v_{t} - v_{xx}/Re - v_{yy}/Re"
      ]
     },
     "metadata": {},
     "output_type": "display_data"
    },
    {
     "name": "stdout",
     "output_type": "stream",
     "text": [
      "tau =>\n"
     ]
    },
    {
     "data": {
      "text/latex": [
       "$\\displaystyle p_{ty} + u v_{tx} + u_{tx} v + u_{t} v_{x} + u_{x} v_{t} + 2 v v_{ty} + \\frac{v_{tt}}{2} + 2 v_{t} v_{y} - \\frac{v_{txx}}{Re} - \\frac{v_{tyy}}{Re}$"
      ],
      "text/plain": [
       "p_{ty} + u*v_{tx} + u_{tx}*v + u_{t}*v_{x} + u_{x}*v_{t} + 2*v*v_{ty} + v_{tt}/2 + 2*v_{t}*v_{y} - v_{txx}/Re - v_{tyy}/Re"
      ]
     },
     "metadata": {},
     "output_type": "display_data"
    },
    {
     "name": "stdout",
     "output_type": "stream",
     "text": [
      "h^2 =>\n"
     ]
    },
    {
     "data": {
      "text/latex": [
       "$\\displaystyle \\frac{p_{yyy}}{6} + \\frac{u v_{xxx}}{6} + \\frac{u_{xxx} v}{6} + \\frac{u_{xx} v_{x}}{2} + \\frac{u_{x} v_{xx}}{2} + \\frac{v v_{yyy}}{3} + v_{yy} v_{y} - \\frac{v_{xxxx}}{12 Re} - \\frac{v_{yyyy}}{12 Re}$"
      ],
      "text/plain": [
       "p_{yyy}/6 + u*v_{xxx}/6 + u_{xxx}*v/6 + u_{xx}*v_{x}/2 + u_{x}*v_{xx}/2 + v*v_{yyy}/3 + v_{yy}*v_{y} - v_{xxxx}/(12*Re) - v_{yyyy}/(12*Re)"
      ]
     },
     "metadata": {},
     "output_type": "display_data"
    },
    {
     "name": "stdout",
     "output_type": "stream",
     "text": [
      "-------------------------\n"
     ]
    },
    {
     "data": {
      "text/latex": [
       "$\\displaystyle p_{y} + u v_{x} + u_{x} v + 2 v v_{y} + v_{t} - \\frac{v_{xx}}{Re} - \\frac{v_{yy}}{Re}$"
      ],
      "text/plain": [
       "p_{y} + u*v_{x} + u_{x}*v + 2*v*v_{y} + v_{t} - v_{xx}/Re - v_{yy}/Re"
      ]
     },
     "metadata": {},
     "output_type": "display_data"
    },
    {
     "name": "stdout",
     "output_type": "stream",
     "text": [
      "tau =>\n"
     ]
    },
    {
     "data": {
      "text/latex": [
       "$\\displaystyle - \\frac{v_{tt}}{2}$"
      ],
      "text/plain": [
       "-v_{tt}/2"
      ]
     },
     "metadata": {},
     "output_type": "display_data"
    },
    {
     "name": "stdout",
     "output_type": "stream",
     "text": [
      "h^2 =>\n"
     ]
    },
    {
     "data": {
      "text/latex": [
       "$\\displaystyle \\frac{Re^{2} p_{y} u^{2}}{12} + \\frac{Re^{2} u^{3} v_{x}}{12} + \\frac{Re^{2} u^{2} v v_{y}}{12} + \\frac{Re^{2} u^{2} v_{t}}{12} - \\frac{Re p_{ty}}{12} + \\frac{Re p_{xy} u}{12} + \\frac{Re p_{x} v_{x}}{4} - \\frac{Re p_{yy} v}{4} - \\frac{5 Re p_{y} v_{y}}{12} - \\frac{Re u^{2} v_{yy}}{12} - \\frac{Re u v v_{xy}}{6} - \\frac{2 Re u v_{x} v_{y}}{3} + \\frac{Re u_{t} v_{x}}{6} - \\frac{Re v^{2} v_{yy}}{4} - \\frac{Re v v_{ty}}{3} - \\frac{2 Re v v_{y}^{2}}{3} - \\frac{Re v_{tt}}{12} - \\frac{Re v_{t} v_{y}}{2} + \\frac{p_{yyy}}{3} + \\frac{u_{y} v_{xy}}{3} + \\frac{2 v v_{yyy}}{3} + \\frac{v_{ttt}}{2} + \\frac{v_{tyy}}{6} - \\frac{v_{xy} v_{x}}{3} + 2 v_{yy} v_{y} - \\frac{v_{yyyy}}{6 Re}$"
      ],
      "text/plain": [
       "Re**2*p_{y}*u**2/12 + Re**2*u**3*v_{x}/12 + Re**2*u**2*v*v_{y}/12 + Re**2*u**2*v_{t}/12 - Re*p_{ty}/12 + Re*p_{xy}*u/12 + Re*p_{x}*v_{x}/4 - Re*p_{yy}*v/4 - 5*Re*p_{y}*v_{y}/12 - Re*u**2*v_{yy}/12 - Re*u*v*v_{xy}/6 - 2*Re*u*v_{x}*v_{y}/3 + Re*u_{t}*v_{x}/6 - Re*v**2*v_{yy}/4 - Re*v*v_{ty}/3 - 2*Re*v*v_{y}**2/3 - Re*v_{tt}/12 - Re*v_{t}*v_{y}/2 + p_{yyy}/3 + u_{y}*v_{xy}/3 + 2*v*v_{yyy}/3 + v_{ttt}/2 + v_{tyy}/6 - v_{xy}*v_{x}/3 + 2*v_{yy}*v_{y} - v_{yyyy}/(6*Re)"
      ]
     },
     "metadata": {},
     "output_type": "display_data"
    },
    {
     "name": "stdout",
     "output_type": "stream",
     "text": [
      "p_{y} + u v_{x} + u_{x} v + 2 v v_{y} + v_{t} - \\frac{v_{xx}}{Re} - \\frac{v_{yy}}{Re}\n",
      "+\\tau\\big(\n",
      "- \\frac{v_{tt}}{2}\n",
      "\\big)\n",
      "+h^2\\big(\n",
      "\\frac{Re^{2} p_{y} u^{2}}{12} + \\frac{Re^{2} u^{3} v_{x}}{12} + \\frac{Re^{2} u^{2} v v_{y}}{12} + \\frac{Re^{2} u^{2} v_{t}}{12} - \\frac{Re p_{ty}}{12} + \\frac{Re p_{xy} u}{12} + \\frac{Re p_{x} v_{x}}{4} - \\frac{Re p_{yy} v}{4} - \\frac{5 Re p_{y} v_{y}}{12} - \\frac{Re u^{2} v_{yy}}{12} - \\frac{Re u v v_{xy}}{6} - \\frac{2 Re u v_{x} v_{y}}{3} + \\frac{Re u_{t} v_{x}}{6} - \\frac{Re v^{2} v_{yy}}{4} - \\frac{Re v v_{ty}}{3} - \\frac{2 Re v v_{y}^{2}}{3} - \\frac{Re v_{tt}}{12} - \\frac{Re v_{t} v_{y}}{2} + \\frac{p_{yyy}}{3} + \\frac{u_{y} v_{xy}}{3} + \\frac{2 v v_{yyy}}{3} + \\frac{v_{ttt}}{2} + \\frac{v_{tyy}}{6} - \\frac{v_{xy} v_{x}}{3} + 2 v_{yy} v_{y} - \\frac{v_{yyyy}}{6 Re}\n",
      "\\big)\n"
     ]
    },
    {
     "data": {
      "text/latex": [
       "$\\displaystyle 0$"
      ],
      "text/plain": [
       "0"
      ]
     },
     "metadata": {},
     "output_type": "display_data"
    },
    {
     "name": "stdout",
     "output_type": "stream",
     "text": [
      "tau =>\n"
     ]
    },
    {
     "data": {
      "text/latex": [
       "$\\displaystyle - \\frac{2 e^{- \\frac{2 t}{Re}} \\sin{\\left(x \\right)} \\cos{\\left(y \\right)}}{Re^{2}}$"
      ],
      "text/plain": [
       "-2*exp(-2*t/Re)*sin(x)*cos(y)/Re**2"
      ]
     },
     "metadata": {},
     "output_type": "display_data"
    },
    {
     "name": "stdout",
     "output_type": "stream",
     "text": [
      "h^2 =>\n"
     ]
    },
    {
     "data": {
      "text/latex": [
       "$\\displaystyle - \\frac{\\left(Re^{2} + 24\\right) e^{- \\frac{2 t}{Re}} \\sin{\\left(x \\right)} \\cos{\\left(y \\right)}}{6 Re^{3}}$"
      ],
      "text/plain": [
       "-(Re**2 + 24)*exp(-2*t/Re)*sin(x)*cos(y)/(6*Re**3)"
      ]
     },
     "metadata": {},
     "output_type": "display_data"
    },
    {
     "name": "stdout",
     "output_type": "stream",
     "text": [
      "0\n",
      "+\\tau\\big(\n",
      "- \\frac{2 e^{- \\frac{2 t}{Re}} \\sin{\\left(x \\right)} \\cos{\\left(y \\right)}}{Re^{2}}\n",
      "\\big)\n",
      "+h^2\\big(\n",
      "- \\frac{\\left(Re^{2} + 24\\right) e^{- \\frac{2 t}{Re}} \\sin{\\left(x \\right)} \\cos{\\left(y \\right)}}{6 Re^{3}}\n",
      "\\big)\n"
     ]
    },
    {
     "data": {
      "text/latex": [
       "$\\displaystyle 0$"
      ],
      "text/plain": [
       "0"
      ]
     },
     "metadata": {},
     "output_type": "display_data"
    },
    {
     "name": "stdout",
     "output_type": "stream",
     "text": [
      "tau =>\n"
     ]
    },
    {
     "data": {
      "text/latex": [
       "$\\displaystyle 0$"
      ],
      "text/plain": [
       "0"
      ]
     },
     "metadata": {},
     "output_type": "display_data"
    },
    {
     "name": "stdout",
     "output_type": "stream",
     "text": [
      "h^2 =>\n"
     ]
    },
    {
     "data": {
      "text/latex": [
       "$\\displaystyle \\frac{\\left(16 Re^{4} \\left(- Re + \\sqrt{Re^{2} + 16 \\pi^{2}}\\right) e^{x \\left(Re + \\frac{11 \\sqrt{Re^{2} + 16 \\pi^{2}}}{2}\\right)} \\cos{\\left(2 \\pi y \\right)} + Re^{4} \\left(Re - \\sqrt{Re^{2} + 16 \\pi^{2}}\\right) e^{x \\left(\\frac{Re}{2} + 6 \\sqrt{Re^{2} + 16 \\pi^{2}}\\right)} + 64 \\pi^{2} Re \\left(- 5 Re^{2} + 3 Re \\sqrt{Re^{2} + 16 \\pi^{2}} - 16 \\pi^{2}\\right) e^{x \\left(Re + \\frac{11 \\sqrt{Re^{2} + 16 \\pi^{2}}}{2}\\right)} \\cos{\\left(2 \\pi y \\right)} + 4 \\pi^{2} Re \\left(3 Re^{2} - Re \\sqrt{Re^{2} + 16 \\pi^{2}} - 8 \\pi^{2}\\right) e^{x \\left(\\frac{Re}{2} + 6 \\sqrt{Re^{2} + 16 \\pi^{2}}\\right)} + 32 \\pi^{4} \\sqrt{Re^{2} + 16 \\pi^{2}} e^{\\frac{x \\left(Re + 12 \\sqrt{Re^{2} + 16 \\pi^{2}}\\right)}{2}}\\right) e^{- \\frac{13 x \\sqrt{Re^{2} + 16 \\pi^{2}}}{2}} \\sin{\\left(2 \\pi y \\right)}}{48 \\pi Re}$"
      ],
      "text/plain": [
       "(16*Re**4*(-Re + sqrt(Re**2 + 16*pi**2))*exp(x*(Re + 11*sqrt(Re**2 + 16*pi**2)/2))*cos(2*pi*y) + Re**4*(Re - sqrt(Re**2 + 16*pi**2))*exp(x*(Re/2 + 6*sqrt(Re**2 + 16*pi**2))) + 64*pi**2*Re*(-5*Re**2 + 3*Re*sqrt(Re**2 + 16*pi**2) - 16*pi**2)*exp(x*(Re + 11*sqrt(Re**2 + 16*pi**2)/2))*cos(2*pi*y) + 4*pi**2*Re*(3*Re**2 - Re*sqrt(Re**2 + 16*pi**2) - 8*pi**2)*exp(x*(Re/2 + 6*sqrt(Re**2 + 16*pi**2))) + 32*pi**4*sqrt(Re**2 + 16*pi**2)*exp(x*(Re + 12*sqrt(Re**2 + 16*pi**2))/2))*exp(-13*x*sqrt(Re**2 + 16*pi**2)/2)*sin(2*pi*y)/(48*pi*Re)"
      ]
     },
     "metadata": {},
     "output_type": "display_data"
    },
    {
     "name": "stdout",
     "output_type": "stream",
     "text": [
      "0\n",
      "+\\tau\\big(\n",
      "0\n",
      "\\big)\n",
      "+h^2\\big(\n",
      "\\frac{\\left(16 Re^{4} \\left(- Re + \\sqrt{Re^{2} + 16 \\pi^{2}}\\right) e^{x \\left(Re + \\frac{11 \\sqrt{Re^{2} + 16 \\pi^{2}}}{2}\\right)} \\cos{\\left(2 \\pi y \\right)} + Re^{4} \\left(Re - \\sqrt{Re^{2} + 16 \\pi^{2}}\\right) e^{x \\left(\\frac{Re}{2} + 6 \\sqrt{Re^{2} + 16 \\pi^{2}}\\right)} + 64 \\pi^{2} Re \\left(- 5 Re^{2} + 3 Re \\sqrt{Re^{2} + 16 \\pi^{2}} - 16 \\pi^{2}\\right) e^{x \\left(Re + \\frac{11 \\sqrt{Re^{2} + 16 \\pi^{2}}}{2}\\right)} \\cos{\\left(2 \\pi y \\right)} + 4 \\pi^{2} Re \\left(3 Re^{2} - Re \\sqrt{Re^{2} + 16 \\pi^{2}} - 8 \\pi^{2}\\right) e^{x \\left(\\frac{Re}{2} + 6 \\sqrt{Re^{2} + 16 \\pi^{2}}\\right)} + 32 \\pi^{4} \\sqrt{Re^{2} + 16 \\pi^{2}} e^{\\frac{x \\left(Re + 12 \\sqrt{Re^{2} + 16 \\pi^{2}}\\right)}{2}}\\right) e^{- \\frac{13 x \\sqrt{Re^{2} + 16 \\pi^{2}}}{2}} \\sin{\\left(2 \\pi y \\right)}}{48 \\pi Re}\n",
      "\\big)\n"
     ]
    },
    {
     "data": {
      "text/latex": [
       "$\\displaystyle p_{xx} + p_{yy} + 2 u u_{xx} + 2 u v_{xy} + 2 u_{xy} v + 2 u_{x}^{2} + 2 u_{x} v_{y} + 2 u_{y} v_{x} + 2 v v_{yy} + 2 v_{y}^{2}$"
      ],
      "text/plain": [
       "p_{xx} + p_{yy} + 2*u*u_{xx} + 2*u*v_{xy} + 2*u_{xy}*v + 2*u_{x}**2 + 2*u_{x}*v_{y} + 2*u_{y}*v_{x} + 2*v*v_{yy} + 2*v_{y}**2"
      ]
     },
     "metadata": {},
     "output_type": "display_data"
    },
    {
     "name": "stdout",
     "output_type": "stream",
     "text": [
      "tau =>\n"
     ]
    },
    {
     "data": {
      "text/latex": [
       "$\\displaystyle 0$"
      ],
      "text/plain": [
       "0"
      ]
     },
     "metadata": {},
     "output_type": "display_data"
    },
    {
     "name": "stdout",
     "output_type": "stream",
     "text": [
      "h^2 =>\n"
     ]
    },
    {
     "data": {
      "text/latex": [
       "$\\displaystyle \\frac{p_{xxxx}}{3} + \\frac{p_{yyyy}}{3} + \\frac{2 u u_{xxxx}}{3} + \\frac{u v_{xxxy}}{3} + \\frac{u v_{xyyy}}{3} + \\frac{u_{xxxy} v}{3} + \\frac{8 u_{xxx} u_{x}}{3} + \\frac{u_{xxx} v_{y}}{3} + u_{xxy} v_{x} + 2 u_{xx}^{2} + u_{xx} v_{xy} + \\frac{u_{xyyy} v}{3} + u_{xyy} v_{y} + u_{xy} v_{xx} + u_{xy} v_{yy} + u_{x} v_{xxy} + \\frac{u_{x} v_{yyy}}{3} + \\frac{u_{yyy} v_{x}}{3} + u_{yy} v_{xy} + \\frac{u_{y} v_{xxx}}{3} + u_{y} v_{xyy} + \\frac{2 v v_{yyyy}}{3} + \\frac{8 v_{yyy} v_{y}}{3} + 2 v_{yy}^{2}$"
      ],
      "text/plain": [
       "p_{xxxx}/3 + p_{yyyy}/3 + 2*u*u_{xxxx}/3 + u*v_{xxxy}/3 + u*v_{xyyy}/3 + u_{xxxy}*v/3 + 8*u_{xxx}*u_{x}/3 + u_{xxx}*v_{y}/3 + u_{xxy}*v_{x} + 2*u_{xx}**2 + u_{xx}*v_{xy} + u_{xyyy}*v/3 + u_{xyy}*v_{y} + u_{xy}*v_{xx} + u_{xy}*v_{yy} + u_{x}*v_{xxy} + u_{x}*v_{yyy}/3 + u_{yyy}*v_{x}/3 + u_{yy}*v_{xy} + u_{y}*v_{xxx}/3 + u_{y}*v_{xyy} + 2*v*v_{yyyy}/3 + 8*v_{yyy}*v_{y}/3 + 2*v_{yy}**2"
      ]
     },
     "metadata": {},
     "output_type": "display_data"
    },
    {
     "name": "stdout",
     "output_type": "stream",
     "text": [
      "-------------------------\n"
     ]
    },
    {
     "data": {
      "text/latex": [
       "$\\displaystyle p_{xx} + p_{yy} + 2 u u_{xx} + 2 u v_{xy} + 2 u_{xy} v + 2 u_{x}^{2} + 2 u_{x} v_{y} + 2 u_{y} v_{x} + 2 v v_{yy} + 2 v_{y}^{2}$"
      ],
      "text/plain": [
       "p_{xx} + p_{yy} + 2*u*u_{xx} + 2*u*v_{xy} + 2*u_{xy}*v + 2*u_{x}**2 + 2*u_{x}*v_{y} + 2*u_{y}*v_{x} + 2*v*v_{yy} + 2*v_{y}**2"
      ]
     },
     "metadata": {},
     "output_type": "display_data"
    },
    {
     "name": "stdout",
     "output_type": "stream",
     "text": [
      "tau =>\n"
     ]
    },
    {
     "data": {
      "text/latex": [
       "$\\displaystyle 0$"
      ],
      "text/plain": [
       "0"
      ]
     },
     "metadata": {},
     "output_type": "display_data"
    },
    {
     "name": "stdout",
     "output_type": "stream",
     "text": [
      "h^2 =>\n"
     ]
    },
    {
     "data": {
      "text/latex": [
       "$\\displaystyle \\frac{2 Re^{2} p_{x} v v_{x}}{3} - \\frac{Re^{2} p_{yy} u^{2}}{3} - \\frac{2 Re^{2} p_{y} u u_{y}}{3} - \\frac{Re^{2} u^{3} v_{xy}}{3} - Re^{2} u^{2} u_{y} v_{x} - \\frac{Re^{2} u^{2} v v_{yy}}{3} - \\frac{Re^{2} u^{2} v_{ty}}{3} - \\frac{Re^{2} u^{2} v_{y}^{2}}{3} - \\frac{2 Re^{2} u u_{y} v v_{y}}{3} - \\frac{2 Re^{2} u u_{y} v_{t}}{3} - \\frac{2 Re^{2} u v v_{x} v_{y}}{3} + \\frac{2 Re^{2} u_{t} v v_{x}}{3} + \\frac{2 Re^{2} u_{y} v^{2} v_{x}}{3} - \\frac{Re p_{xyy} u}{3} - \\frac{Re p_{xy} u_{y}}{3} + Re p_{xy} v_{x} + \\frac{7 Re p_{x} v_{xy}}{3} - \\frac{Re p_{yyy} v}{3} + \\frac{Re p_{y} v_{yy}}{3} + \\frac{Re u^{2} v_{yyy}}{3} + \\frac{2 Re u u_{y} v_{yy}}{3} - \\frac{2 Re u v v_{xyy}}{3} - \\frac{Re u v_{txy}}{3} - \\frac{8 Re u v_{xy} v_{y}}{3} - \\frac{2 Re u v_{x} v_{yy}}{3} + Re u_{ty} v_{x} + \\frac{7 Re u_{t} v_{xy}}{3} + \\frac{4 Re u_{y} v v_{xy}}{3} - \\frac{Re u_{y} v_{tx}}{3} - \\frac{Re v^{2} v_{yyy}}{3} - \\frac{Re v v_{tyy}}{3} + \\frac{2 Re v v_{xy} v_{x}}{3} - \\frac{2 Re v v_{yy} v_{y}}{3} + \\frac{Re v_{t} v_{yy}}{3} + \\frac{2 p_{yyyy}}{3} + \\frac{2 u v_{xyyy}}{3} + 2 u_{y} v_{xyy} + \\frac{2 v v_{yyyy}}{3} + \\frac{2 v_{xyy} v_{x}}{3} + 2 v_{xy}^{2} + \\frac{8 v_{yyy} v_{y}}{3} + 2 v_{yy}^{2}$"
      ],
      "text/plain": [
       "2*Re**2*p_{x}*v*v_{x}/3 - Re**2*p_{yy}*u**2/3 - 2*Re**2*p_{y}*u*u_{y}/3 - Re**2*u**3*v_{xy}/3 - Re**2*u**2*u_{y}*v_{x} - Re**2*u**2*v*v_{yy}/3 - Re**2*u**2*v_{ty}/3 - Re**2*u**2*v_{y}**2/3 - 2*Re**2*u*u_{y}*v*v_{y}/3 - 2*Re**2*u*u_{y}*v_{t}/3 - 2*Re**2*u*v*v_{x}*v_{y}/3 + 2*Re**2*u_{t}*v*v_{x}/3 + 2*Re**2*u_{y}*v**2*v_{x}/3 - Re*p_{xyy}*u/3 - Re*p_{xy}*u_{y}/3 + Re*p_{xy}*v_{x} + 7*Re*p_{x}*v_{xy}/3 - Re*p_{yyy}*v/3 + Re*p_{y}*v_{yy}/3 + Re*u**2*v_{yyy}/3 + 2*Re*u*u_{y}*v_{yy}/3 - 2*Re*u*v*v_{xyy}/3 - Re*u*v_{txy}/3 - 8*Re*u*v_{xy}*v_{y}/3 - 2*Re*u*v_{x}*v_{yy}/3 + Re*u_{ty}*v_{x} + 7*Re*u_{t}*v_{xy}/3 + 4*Re*u_{y}*v*v_{xy}/3 - Re*u_{y}*v_{tx}/3 - Re*v**2*v_{yyy}/3 - Re*v*v_{tyy}/3 + 2*Re*v*v_{xy}*v_{x}/3 - 2*Re*v*v_{yy}*v_{y}/3 + Re*v_{t}*v_{yy}/3 + 2*p_{yyyy}/3 + 2*u*v_{xyyy}/3 + 2*u_{y}*v_{xyy} + 2*v*v_{yyyy}/3 + 2*v_{xyy}*v_{x}/3 + 2*v_{xy}**2 + 8*v_{yyy}*v_{y}/3 + 2*v_{yy}**2"
      ]
     },
     "metadata": {},
     "output_type": "display_data"
    },
    {
     "name": "stdout",
     "output_type": "stream",
     "text": [
      "p_{xx} + p_{yy} + 2 u u_{xx} + 2 u v_{xy} + 2 u_{xy} v + 2 u_{x}^{2} + 2 u_{x} v_{y} + 2 u_{y} v_{x} + 2 v v_{yy} + 2 v_{y}^{2}\n",
      "+\\tau\\big(\n",
      "0\n",
      "\\big)\n",
      "+h^2\\big(\n",
      "\\frac{2 Re^{2} p_{x} v v_{x}}{3} - \\frac{Re^{2} p_{yy} u^{2}}{3} - \\frac{2 Re^{2} p_{y} u u_{y}}{3} - \\frac{Re^{2} u^{3} v_{xy}}{3} - Re^{2} u^{2} u_{y} v_{x} - \\frac{Re^{2} u^{2} v v_{yy}}{3} - \\frac{Re^{2} u^{2} v_{ty}}{3} - \\frac{Re^{2} u^{2} v_{y}^{2}}{3} - \\frac{2 Re^{2} u u_{y} v v_{y}}{3} - \\frac{2 Re^{2} u u_{y} v_{t}}{3} - \\frac{2 Re^{2} u v v_{x} v_{y}}{3} + \\frac{2 Re^{2} u_{t} v v_{x}}{3} + \\frac{2 Re^{2} u_{y} v^{2} v_{x}}{3} - \\frac{Re p_{xyy} u}{3} - \\frac{Re p_{xy} u_{y}}{3} + Re p_{xy} v_{x} + \\frac{7 Re p_{x} v_{xy}}{3} - \\frac{Re p_{yyy} v}{3} + \\frac{Re p_{y} v_{yy}}{3} + \\frac{Re u^{2} v_{yyy}}{3} + \\frac{2 Re u u_{y} v_{yy}}{3} - \\frac{2 Re u v v_{xyy}}{3} - \\frac{Re u v_{txy}}{3} - \\frac{8 Re u v_{xy} v_{y}}{3} - \\frac{2 Re u v_{x} v_{yy}}{3} + Re u_{ty} v_{x} + \\frac{7 Re u_{t} v_{xy}}{3} + \\frac{4 Re u_{y} v v_{xy}}{3} - \\frac{Re u_{y} v_{tx}}{3} - \\frac{Re v^{2} v_{yyy}}{3} - \\frac{Re v v_{tyy}}{3} + \\frac{2 Re v v_{xy} v_{x}}{3} - \\frac{2 Re v v_{yy} v_{y}}{3} + \\frac{Re v_{t} v_{yy}}{3} + \\frac{2 p_{yyyy}}{3} + \\frac{2 u v_{xyyy}}{3} + 2 u_{y} v_{xyy} + \\frac{2 v v_{yyyy}}{3} + \\frac{2 v_{xyy} v_{x}}{3} + 2 v_{xy}^{2} + \\frac{8 v_{yyy} v_{y}}{3} + 2 v_{yy}^{2}\n",
      "\\big)\n"
     ]
    },
    {
     "data": {
      "text/latex": [
       "$\\displaystyle 0$"
      ],
      "text/plain": [
       "0"
      ]
     },
     "metadata": {},
     "output_type": "display_data"
    },
    {
     "name": "stdout",
     "output_type": "stream",
     "text": [
      "tau =>\n"
     ]
    },
    {
     "data": {
      "text/latex": [
       "$\\displaystyle 0$"
      ],
      "text/plain": [
       "0"
      ]
     },
     "metadata": {},
     "output_type": "display_data"
    },
    {
     "name": "stdout",
     "output_type": "stream",
     "text": [
      "h^2 =>\n"
     ]
    },
    {
     "data": {
      "text/latex": [
       "$\\displaystyle 0$"
      ],
      "text/plain": [
       "0"
      ]
     },
     "metadata": {},
     "output_type": "display_data"
    },
    {
     "name": "stdout",
     "output_type": "stream",
     "text": [
      "0\n",
      "+\\tau\\big(\n",
      "0\n",
      "\\big)\n",
      "+h^2\\big(\n",
      "0\n",
      "\\big)\n"
     ]
    },
    {
     "data": {
      "text/latex": [
       "$\\displaystyle 0$"
      ],
      "text/plain": [
       "0"
      ]
     },
     "metadata": {},
     "output_type": "display_data"
    },
    {
     "name": "stdout",
     "output_type": "stream",
     "text": [
      "tau =>\n"
     ]
    },
    {
     "data": {
      "text/latex": [
       "$\\displaystyle 0$"
      ],
      "text/plain": [
       "0"
      ]
     },
     "metadata": {},
     "output_type": "display_data"
    },
    {
     "name": "stdout",
     "output_type": "stream",
     "text": [
      "h^2 =>\n"
     ]
    },
    {
     "data": {
      "text/latex": [
       "$\\displaystyle \\frac{\\left(- Re^{4} + Re^{3} \\sqrt{Re^{2} + 16 \\pi^{2}} - 20 \\pi^{2} Re^{2} + 12 \\pi^{2} Re \\sqrt{Re^{2} + 16 \\pi^{2}} - 64 \\pi^{4}\\right) e^{\\frac{x \\left(Re - \\sqrt{Re^{2} + 16 \\pi^{2}}\\right)}{2}} \\cos{\\left(2 \\pi y \\right)}}{6}$"
      ],
      "text/plain": [
       "(-Re**4 + Re**3*sqrt(Re**2 + 16*pi**2) - 20*pi**2*Re**2 + 12*pi**2*Re*sqrt(Re**2 + 16*pi**2) - 64*pi**4)*exp(x*(Re - sqrt(Re**2 + 16*pi**2))/2)*cos(2*pi*y)/6"
      ]
     },
     "metadata": {},
     "output_type": "display_data"
    },
    {
     "name": "stdout",
     "output_type": "stream",
     "text": [
      "0\n",
      "+\\tau\\big(\n",
      "0\n",
      "\\big)\n",
      "+h^2\\big(\n",
      "\\frac{\\left(- Re^{4} + Re^{3} \\sqrt{Re^{2} + 16 \\pi^{2}} - 20 \\pi^{2} Re^{2} + 12 \\pi^{2} Re \\sqrt{Re^{2} + 16 \\pi^{2}} - 64 \\pi^{4}\\right) e^{\\frac{x \\left(Re - \\sqrt{Re^{2} + 16 \\pi^{2}}\\right)}{2}} \\cos{\\left(2 \\pi y \\right)}}{6}\n",
      "\\big)\n"
     ]
    },
    {
     "data": {
      "text/latex": [
       "$\\displaystyle 0$"
      ],
      "text/plain": [
       "0"
      ]
     },
     "metadata": {},
     "output_type": "display_data"
    },
    {
     "name": "stdout",
     "output_type": "stream",
     "text": [
      "tau =>\n"
     ]
    },
    {
     "data": {
      "text/latex": [
       "$\\displaystyle 0$"
      ],
      "text/plain": [
       "0"
      ]
     },
     "metadata": {},
     "output_type": "display_data"
    },
    {
     "name": "stdout",
     "output_type": "stream",
     "text": [
      "h^2 =>\n"
     ]
    },
    {
     "data": {
      "text/latex": [
       "$\\displaystyle 0$"
      ],
      "text/plain": [
       "0"
      ]
     },
     "metadata": {},
     "output_type": "display_data"
    },
    {
     "name": "stdout",
     "output_type": "stream",
     "text": [
      "0\n",
      "+\\tau\\big(\n",
      "0\n",
      "\\big)\n",
      "+h^2\\big(\n",
      "0\n",
      "\\big)\n"
     ]
    }
   ],
   "source": [
    "F1 = clip(Dx(u) + Dy(v))\n",
    "F2 = clip(Dt(u) + Ut(Dx(u**2) + Dy(v*u) + Dx(p) - DD(u)/Re))\n",
    "F3 = clip(Dt(v) + Ut(Dx(u*v) + Dy(v**2) + Dy(p) - DD(v)/Re))\n",
    "F4 = clip(Dx(Dx(u**2) + Dy(v*u) + Dx(p)) + Dy(Dx(u*v) + Dy(v**2) + Dy(p)))\n",
    "\n",
    "build(F1, F2, F3, F4)"
   ]
  },
  {
   "cell_type": "code",
   "execution_count": 38,
   "metadata": {},
   "outputs": [
    {
     "data": {
      "text/latex": [
       "$\\displaystyle u_{x} + v_{y}$"
      ],
      "text/plain": [
       "u_{x} + v_{y}"
      ]
     },
     "metadata": {},
     "output_type": "display_data"
    },
    {
     "name": "stdout",
     "output_type": "stream",
     "text": [
      "tau =>\n"
     ]
    },
    {
     "data": {
      "text/latex": [
       "$\\displaystyle 0$"
      ],
      "text/plain": [
       "0"
      ]
     },
     "metadata": {},
     "output_type": "display_data"
    },
    {
     "name": "stdout",
     "output_type": "stream",
     "text": [
      "h^2 =>\n"
     ]
    },
    {
     "data": {
      "text/latex": [
       "$\\displaystyle \\frac{u_{xxx}}{6} + \\frac{v_{yyy}}{6}$"
      ],
      "text/plain": [
       "u_{xxx}/6 + v_{yyy}/6"
      ]
     },
     "metadata": {},
     "output_type": "display_data"
    },
    {
     "name": "stdout",
     "output_type": "stream",
     "text": [
      "-------------------------\n"
     ]
    },
    {
     "data": {
      "text/latex": [
       "$\\displaystyle u_{x} + v_{y}$"
      ],
      "text/plain": [
       "u_{x} + v_{y}"
      ]
     },
     "metadata": {},
     "output_type": "display_data"
    },
    {
     "name": "stdout",
     "output_type": "stream",
     "text": [
      "tau =>\n"
     ]
    },
    {
     "data": {
      "text/latex": [
       "$\\displaystyle 0$"
      ],
      "text/plain": [
       "0"
      ]
     },
     "metadata": {},
     "output_type": "display_data"
    },
    {
     "name": "stdout",
     "output_type": "stream",
     "text": [
      "h^2 =>\n"
     ]
    },
    {
     "data": {
      "text/latex": [
       "$\\displaystyle - \\frac{Re p_{yy}}{6} - \\frac{Re u v_{xy}}{6} - \\frac{Re u_{y} v_{x}}{6} - \\frac{Re v v_{yy}}{6} - \\frac{Re v_{ty}}{6} - \\frac{Re v_{y}^{2}}{6} + \\frac{v_{yyy}}{3}$"
      ],
      "text/plain": [
       "-Re*p_{yy}/6 - Re*u*v_{xy}/6 - Re*u_{y}*v_{x}/6 - Re*v*v_{yy}/6 - Re*v_{ty}/6 - Re*v_{y}**2/6 + v_{yyy}/3"
      ]
     },
     "metadata": {},
     "output_type": "display_data"
    },
    {
     "name": "stdout",
     "output_type": "stream",
     "text": [
      "u_{x} + v_{y}\n",
      "+\\tau\\big(\n",
      "0\n",
      "\\big)\n",
      "+h^2\\big(\n",
      "- \\frac{Re p_{yy}}{6} - \\frac{Re u v_{xy}}{6} - \\frac{Re u_{y} v_{x}}{6} - \\frac{Re v v_{yy}}{6} - \\frac{Re v_{ty}}{6} - \\frac{Re v_{y}^{2}}{6} + \\frac{v_{yyy}}{3}\n",
      "\\big)\n"
     ]
    },
    {
     "data": {
      "text/latex": [
       "$\\displaystyle 0$"
      ],
      "text/plain": [
       "0"
      ]
     },
     "metadata": {},
     "output_type": "display_data"
    },
    {
     "name": "stdout",
     "output_type": "stream",
     "text": [
      "tau =>\n"
     ]
    },
    {
     "data": {
      "text/latex": [
       "$\\displaystyle 0$"
      ],
      "text/plain": [
       "0"
      ]
     },
     "metadata": {},
     "output_type": "display_data"
    },
    {
     "name": "stdout",
     "output_type": "stream",
     "text": [
      "h^2 =>\n"
     ]
    },
    {
     "data": {
      "text/latex": [
       "$\\displaystyle 0$"
      ],
      "text/plain": [
       "0"
      ]
     },
     "metadata": {},
     "output_type": "display_data"
    },
    {
     "name": "stdout",
     "output_type": "stream",
     "text": [
      "0\n",
      "+\\tau\\big(\n",
      "0\n",
      "\\big)\n",
      "+h^2\\big(\n",
      "0\n",
      "\\big)\n"
     ]
    },
    {
     "data": {
      "text/latex": [
       "$\\displaystyle 0$"
      ],
      "text/plain": [
       "0"
      ]
     },
     "metadata": {},
     "output_type": "display_data"
    },
    {
     "name": "stdout",
     "output_type": "stream",
     "text": [
      "tau =>\n"
     ]
    },
    {
     "data": {
      "text/latex": [
       "$\\displaystyle 0$"
      ],
      "text/plain": [
       "0"
      ]
     },
     "metadata": {},
     "output_type": "display_data"
    },
    {
     "name": "stdout",
     "output_type": "stream",
     "text": [
      "h^2 =>\n"
     ]
    },
    {
     "data": {
      "text/latex": [
       "$\\displaystyle \\frac{\\left(- Re^{3} + Re^{2} \\sqrt{Re^{2} + 16 \\pi^{2}} - 16 \\pi^{2} Re + 8 \\pi^{2} \\sqrt{Re^{2} + 16 \\pi^{2}}\\right) e^{\\frac{x \\left(Re - \\sqrt{Re^{2} + 16 \\pi^{2}}\\right)}{2}} \\cos{\\left(2 \\pi y \\right)}}{12}$"
      ],
      "text/plain": [
       "(-Re**3 + Re**2*sqrt(Re**2 + 16*pi**2) - 16*pi**2*Re + 8*pi**2*sqrt(Re**2 + 16*pi**2))*exp(x*(Re - sqrt(Re**2 + 16*pi**2))/2)*cos(2*pi*y)/12"
      ]
     },
     "metadata": {},
     "output_type": "display_data"
    },
    {
     "name": "stdout",
     "output_type": "stream",
     "text": [
      "0\n",
      "+\\tau\\big(\n",
      "0\n",
      "\\big)\n",
      "+h^2\\big(\n",
      "\\frac{\\left(- Re^{3} + Re^{2} \\sqrt{Re^{2} + 16 \\pi^{2}} - 16 \\pi^{2} Re + 8 \\pi^{2} \\sqrt{Re^{2} + 16 \\pi^{2}}\\right) e^{\\frac{x \\left(Re - \\sqrt{Re^{2} + 16 \\pi^{2}}\\right)}{2}} \\cos{\\left(2 \\pi y \\right)}}{12}\n",
      "\\big)\n"
     ]
    },
    {
     "data": {
      "text/latex": [
       "$\\displaystyle p_{x} + 2 u u_{x} + u v_{y} + u_{t} + u_{y} v - \\frac{u_{xx}}{Re} - \\frac{u_{yy}}{Re}$"
      ],
      "text/plain": [
       "p_{x} + 2*u*u_{x} + u*v_{y} + u_{t} + u_{y}*v - u_{xx}/Re - u_{yy}/Re"
      ]
     },
     "metadata": {},
     "output_type": "display_data"
    },
    {
     "name": "stdout",
     "output_type": "stream",
     "text": [
      "tau =>\n"
     ]
    },
    {
     "data": {
      "text/latex": [
       "$\\displaystyle p_{tx} + 2 u u_{tx} + u v_{ty} + \\frac{u_{tt}}{2} + u_{ty} v + 2 u_{t} u_{x} + u_{t} v_{y} + u_{y} v_{t} - \\frac{u_{txx}}{Re} - \\frac{u_{tyy}}{Re}$"
      ],
      "text/plain": [
       "p_{tx} + 2*u*u_{tx} + u*v_{ty} + u_{tt}/2 + u_{ty}*v + 2*u_{t}*u_{x} + u_{t}*v_{y} + u_{y}*v_{t} - u_{txx}/Re - u_{tyy}/Re"
      ]
     },
     "metadata": {},
     "output_type": "display_data"
    },
    {
     "name": "stdout",
     "output_type": "stream",
     "text": [
      "h^2 =>\n"
     ]
    },
    {
     "data": {
      "text/latex": [
       "$\\displaystyle \\frac{p_{xxx}}{6} + \\frac{u u_{xxx}}{3} + \\frac{u v_{yyy}}{6} + u_{xx} u_{x} + \\frac{u_{yyy} v}{6} + \\frac{u_{yy} v_{y}}{2} + \\frac{u_{y} v_{yy}}{2} - \\frac{u_{xxxx}}{3 Re} - \\frac{u_{yyyy}}{3 Re}$"
      ],
      "text/plain": [
       "p_{xxx}/6 + u*u_{xxx}/3 + u*v_{yyy}/6 + u_{xx}*u_{x} + u_{yyy}*v/6 + u_{yy}*v_{y}/2 + u_{y}*v_{yy}/2 - u_{xxxx}/(3*Re) - u_{yyyy}/(3*Re)"
      ]
     },
     "metadata": {},
     "output_type": "display_data"
    },
    {
     "name": "stdout",
     "output_type": "stream",
     "text": [
      "-------------------------\n"
     ]
    },
    {
     "data": {
      "text/latex": [
       "$\\displaystyle p_{x} + 2 u u_{x} + u v_{y} + u_{t} + u_{y} v - \\frac{u_{xx}}{Re} - \\frac{u_{yy}}{Re}$"
      ],
      "text/plain": [
       "p_{x} + 2*u*u_{x} + u*v_{y} + u_{t} + u_{y}*v - u_{xx}/Re - u_{yy}/Re"
      ]
     },
     "metadata": {},
     "output_type": "display_data"
    },
    {
     "name": "stdout",
     "output_type": "stream",
     "text": [
      "tau =>\n"
     ]
    },
    {
     "data": {
      "text/latex": [
       "$\\displaystyle - \\frac{u_{tt}}{2}$"
      ],
      "text/plain": [
       "-u_{tt}/2"
      ]
     },
     "metadata": {},
     "output_type": "display_data"
    },
    {
     "name": "stdout",
     "output_type": "stream",
     "text": [
      "h^2 =>\n"
     ]
    },
    {
     "data": {
      "text/latex": [
       "$\\displaystyle - \\frac{Re^{2} p_{x} v^{2}}{6} + \\frac{Re^{2} u v^{2} v_{y}}{6} - \\frac{Re^{2} u_{t} v^{2}}{6} - \\frac{Re^{2} u_{y} v^{3}}{6} - \\frac{Re p_{tx}}{3} - \\frac{Re p_{xy} v}{6} + \\frac{Re p_{x} v_{y}}{6} + \\frac{Re u v v_{yy}}{6} + \\frac{Re u v_{ty}}{3} - \\frac{Re u v_{y}^{2}}{6} - \\frac{Re u_{tt}}{3} - \\frac{Re u_{ty} v}{2} + \\frac{Re u_{t} v_{y}}{2} + \\frac{Re u_{y} v v_{y}}{6} - \\frac{Re u_{y} v_{t}}{3} - \\frac{Re v^{2} v_{xy}}{6} - \\frac{p_{xyy}}{6} + \\frac{u v_{yyy}}{2} + \\frac{u_{ttt}}{2} + \\frac{5 u_{y} v_{yy}}{6} + \\frac{v v_{xyy}}{6} + \\frac{5 v_{xy} v_{y}}{6} + \\frac{v_{x} v_{yy}}{3} - \\frac{2 v_{xyyy}}{3 Re}$"
      ],
      "text/plain": [
       "-Re**2*p_{x}*v**2/6 + Re**2*u*v**2*v_{y}/6 - Re**2*u_{t}*v**2/6 - Re**2*u_{y}*v**3/6 - Re*p_{tx}/3 - Re*p_{xy}*v/6 + Re*p_{x}*v_{y}/6 + Re*u*v*v_{yy}/6 + Re*u*v_{ty}/3 - Re*u*v_{y}**2/6 - Re*u_{tt}/3 - Re*u_{ty}*v/2 + Re*u_{t}*v_{y}/2 + Re*u_{y}*v*v_{y}/6 - Re*u_{y}*v_{t}/3 - Re*v**2*v_{xy}/6 - p_{xyy}/6 + u*v_{yyy}/2 + u_{ttt}/2 + 5*u_{y}*v_{yy}/6 + v*v_{xyy}/6 + 5*v_{xy}*v_{y}/6 + v_{x}*v_{yy}/3 - 2*v_{xyyy}/(3*Re)"
      ]
     },
     "metadata": {},
     "output_type": "display_data"
    },
    {
     "name": "stdout",
     "output_type": "stream",
     "text": [
      "p_{x} + 2 u u_{x} + u v_{y} + u_{t} + u_{y} v - \\frac{u_{xx}}{Re} - \\frac{u_{yy}}{Re}\n",
      "+\\tau\\big(\n",
      "- \\frac{u_{tt}}{2}\n",
      "\\big)\n",
      "+h^2\\big(\n",
      "- \\frac{Re^{2} p_{x} v^{2}}{6} + \\frac{Re^{2} u v^{2} v_{y}}{6} - \\frac{Re^{2} u_{t} v^{2}}{6} - \\frac{Re^{2} u_{y} v^{3}}{6} - \\frac{Re p_{tx}}{3} - \\frac{Re p_{xy} v}{6} + \\frac{Re p_{x} v_{y}}{6} + \\frac{Re u v v_{yy}}{6} + \\frac{Re u v_{ty}}{3} - \\frac{Re u v_{y}^{2}}{6} - \\frac{Re u_{tt}}{3} - \\frac{Re u_{ty} v}{2} + \\frac{Re u_{t} v_{y}}{2} + \\frac{Re u_{y} v v_{y}}{6} - \\frac{Re u_{y} v_{t}}{3} - \\frac{Re v^{2} v_{xy}}{6} - \\frac{p_{xyy}}{6} + \\frac{u v_{yyy}}{2} + \\frac{u_{ttt}}{2} + \\frac{5 u_{y} v_{yy}}{6} + \\frac{v v_{xyy}}{6} + \\frac{5 v_{xy} v_{y}}{6} + \\frac{v_{x} v_{yy}}{3} - \\frac{2 v_{xyyy}}{3 Re}\n",
      "\\big)\n"
     ]
    },
    {
     "data": {
      "text/latex": [
       "$\\displaystyle 0$"
      ],
      "text/plain": [
       "0"
      ]
     },
     "metadata": {},
     "output_type": "display_data"
    },
    {
     "name": "stdout",
     "output_type": "stream",
     "text": [
      "tau =>\n"
     ]
    },
    {
     "data": {
      "text/latex": [
       "$\\displaystyle \\frac{2 e^{- \\frac{2 t}{Re}} \\sin{\\left(y \\right)} \\cos{\\left(x \\right)}}{Re^{2}}$"
      ],
      "text/plain": [
       "2*exp(-2*t/Re)*sin(y)*cos(x)/Re**2"
      ]
     },
     "metadata": {},
     "output_type": "display_data"
    },
    {
     "name": "stdout",
     "output_type": "stream",
     "text": [
      "h^2 =>\n"
     ]
    },
    {
     "data": {
      "text/latex": [
       "$\\displaystyle \\frac{2 \\left(Re^{2} + 6\\right) e^{- \\frac{2 t}{Re}} \\sin{\\left(y \\right)} \\cos{\\left(x \\right)}}{3 Re^{3}}$"
      ],
      "text/plain": [
       "2*(Re**2 + 6)*exp(-2*t/Re)*sin(y)*cos(x)/(3*Re**3)"
      ]
     },
     "metadata": {},
     "output_type": "display_data"
    },
    {
     "name": "stdout",
     "output_type": "stream",
     "text": [
      "0\n",
      "+\\tau\\big(\n",
      "\\frac{2 e^{- \\frac{2 t}{Re}} \\sin{\\left(y \\right)} \\cos{\\left(x \\right)}}{Re^{2}}\n",
      "\\big)\n",
      "+h^2\\big(\n",
      "\\frac{2 \\left(Re^{2} + 6\\right) e^{- \\frac{2 t}{Re}} \\sin{\\left(y \\right)} \\cos{\\left(x \\right)}}{3 Re^{3}}\n",
      "\\big)\n"
     ]
    },
    {
     "data": {
      "text/latex": [
       "$\\displaystyle 0$"
      ],
      "text/plain": [
       "0"
      ]
     },
     "metadata": {},
     "output_type": "display_data"
    },
    {
     "name": "stdout",
     "output_type": "stream",
     "text": [
      "tau =>\n"
     ]
    },
    {
     "data": {
      "text/latex": [
       "$\\displaystyle 0$"
      ],
      "text/plain": [
       "0"
      ]
     },
     "metadata": {},
     "output_type": "display_data"
    },
    {
     "name": "stdout",
     "output_type": "stream",
     "text": [
      "h^2 =>\n"
     ]
    },
    {
     "data": {
      "text/latex": [
       "$\\displaystyle \\frac{\\left(\\pi^{2} Re \\left(Re - \\sqrt{Re^{2} + 16 \\pi^{2}}\\right) e^{x \\left(\\frac{Re}{2} + 7 \\sqrt{Re^{2} + 16 \\pi^{2}}\\right)} \\cos{\\left(2 \\pi y \\right)} + Re \\left(Re^{3} - Re^{2} \\sqrt{Re^{2} + 16 \\pi^{2}} + 16 \\pi^{2} Re - 8 \\pi^{2} \\sqrt{Re^{2} + 16 \\pi^{2}}\\right) e^{x \\left(Re + \\frac{13 \\sqrt{Re^{2} + 16 \\pi^{2}}}{2}\\right)} \\cos{\\left(4 \\pi y \\right)} + 32 \\pi^{4} e^{\\frac{x \\left(Re + 14 \\sqrt{Re^{2} + 16 \\pi^{2}}\\right)}{2}} \\cos{\\left(2 \\pi y \\right)}\\right) e^{- \\frac{15 x \\sqrt{Re^{2} + 16 \\pi^{2}}}{2}}}{3 Re}$"
      ],
      "text/plain": [
       "(pi**2*Re*(Re - sqrt(Re**2 + 16*pi**2))*exp(x*(Re/2 + 7*sqrt(Re**2 + 16*pi**2)))*cos(2*pi*y) + Re*(Re**3 - Re**2*sqrt(Re**2 + 16*pi**2) + 16*pi**2*Re - 8*pi**2*sqrt(Re**2 + 16*pi**2))*exp(x*(Re + 13*sqrt(Re**2 + 16*pi**2)/2))*cos(4*pi*y) + 32*pi**4*exp(x*(Re + 14*sqrt(Re**2 + 16*pi**2))/2)*cos(2*pi*y))*exp(-15*x*sqrt(Re**2 + 16*pi**2)/2)/(3*Re)"
      ]
     },
     "metadata": {},
     "output_type": "display_data"
    },
    {
     "name": "stdout",
     "output_type": "stream",
     "text": [
      "0\n",
      "+\\tau\\big(\n",
      "0\n",
      "\\big)\n",
      "+h^2\\big(\n",
      "\\frac{\\left(\\pi^{2} Re \\left(Re - \\sqrt{Re^{2} + 16 \\pi^{2}}\\right) e^{x \\left(\\frac{Re}{2} + 7 \\sqrt{Re^{2} + 16 \\pi^{2}}\\right)} \\cos{\\left(2 \\pi y \\right)} + Re \\left(Re^{3} - Re^{2} \\sqrt{Re^{2} + 16 \\pi^{2}} + 16 \\pi^{2} Re - 8 \\pi^{2} \\sqrt{Re^{2} + 16 \\pi^{2}}\\right) e^{x \\left(Re + \\frac{13 \\sqrt{Re^{2} + 16 \\pi^{2}}}{2}\\right)} \\cos{\\left(4 \\pi y \\right)} + 32 \\pi^{4} e^{\\frac{x \\left(Re + 14 \\sqrt{Re^{2} + 16 \\pi^{2}}\\right)}{2}} \\cos{\\left(2 \\pi y \\right)}\\right) e^{- \\frac{15 x \\sqrt{Re^{2} + 16 \\pi^{2}}}{2}}}{3 Re}\n",
      "\\big)\n"
     ]
    },
    {
     "data": {
      "text/latex": [
       "$\\displaystyle p_{y} + u v_{x} + u_{x} v + 2 v v_{y} + v_{t} - \\frac{v_{xx}}{Re} - \\frac{v_{yy}}{Re}$"
      ],
      "text/plain": [
       "p_{y} + u*v_{x} + u_{x}*v + 2*v*v_{y} + v_{t} - v_{xx}/Re - v_{yy}/Re"
      ]
     },
     "metadata": {},
     "output_type": "display_data"
    },
    {
     "name": "stdout",
     "output_type": "stream",
     "text": [
      "tau =>\n"
     ]
    },
    {
     "data": {
      "text/latex": [
       "$\\displaystyle p_{ty} + u v_{tx} + u_{tx} v + u_{t} v_{x} + u_{x} v_{t} + 2 v v_{ty} + \\frac{v_{tt}}{2} + 2 v_{t} v_{y} - \\frac{v_{txx}}{Re} - \\frac{v_{tyy}}{Re}$"
      ],
      "text/plain": [
       "p_{ty} + u*v_{tx} + u_{tx}*v + u_{t}*v_{x} + u_{x}*v_{t} + 2*v*v_{ty} + v_{tt}/2 + 2*v_{t}*v_{y} - v_{txx}/Re - v_{tyy}/Re"
      ]
     },
     "metadata": {},
     "output_type": "display_data"
    },
    {
     "name": "stdout",
     "output_type": "stream",
     "text": [
      "h^2 =>\n"
     ]
    },
    {
     "data": {
      "text/latex": [
       "$\\displaystyle \\frac{p_{yyy}}{6} + \\frac{u v_{xxx}}{6} + \\frac{u_{xxx} v}{6} + \\frac{u_{xx} v_{x}}{2} + \\frac{u_{x} v_{xx}}{2} + \\frac{v v_{yyy}}{3} + v_{yy} v_{y} - \\frac{v_{xxxx}}{3 Re} - \\frac{v_{yyyy}}{3 Re}$"
      ],
      "text/plain": [
       "p_{yyy}/6 + u*v_{xxx}/6 + u_{xxx}*v/6 + u_{xx}*v_{x}/2 + u_{x}*v_{xx}/2 + v*v_{yyy}/3 + v_{yy}*v_{y} - v_{xxxx}/(3*Re) - v_{yyyy}/(3*Re)"
      ]
     },
     "metadata": {},
     "output_type": "display_data"
    },
    {
     "name": "stdout",
     "output_type": "stream",
     "text": [
      "-------------------------\n"
     ]
    },
    {
     "data": {
      "text/latex": [
       "$\\displaystyle p_{y} + u v_{x} + u_{x} v + 2 v v_{y} + v_{t} - \\frac{v_{xx}}{Re} - \\frac{v_{yy}}{Re}$"
      ],
      "text/plain": [
       "p_{y} + u*v_{x} + u_{x}*v + 2*v*v_{y} + v_{t} - v_{xx}/Re - v_{yy}/Re"
      ]
     },
     "metadata": {},
     "output_type": "display_data"
    },
    {
     "name": "stdout",
     "output_type": "stream",
     "text": [
      "tau =>\n"
     ]
    },
    {
     "data": {
      "text/latex": [
       "$\\displaystyle - \\frac{v_{tt}}{2}$"
      ],
      "text/plain": [
       "-v_{tt}/2"
      ]
     },
     "metadata": {},
     "output_type": "display_data"
    },
    {
     "name": "stdout",
     "output_type": "stream",
     "text": [
      "h^2 =>\n"
     ]
    },
    {
     "data": {
      "text/latex": [
       "$\\displaystyle - \\frac{Re^{2} p_{y} u^{2}}{6} - \\frac{Re^{2} u^{3} v_{x}}{6} - \\frac{Re^{2} u^{2} v v_{y}}{6} - \\frac{Re^{2} u^{2} v_{t}}{6} - \\frac{Re p_{ty}}{3} - \\frac{Re p_{xy} u}{6} + Re p_{x} v_{x} - \\frac{Re p_{yy} v}{2} - \\frac{Re p_{y} v_{y}}{6} + \\frac{Re u^{2} v_{yy}}{6} - \\frac{2 Re u v v_{xy}}{3} - \\frac{Re u v_{tx}}{2} - \\frac{7 Re u v_{x} v_{y}}{6} + \\frac{2 Re u_{t} v_{x}}{3} + \\frac{Re u_{y} v v_{x}}{2} - \\frac{Re v^{2} v_{yy}}{2} - \\frac{5 Re v v_{ty}}{6} - \\frac{2 Re v v_{y}^{2}}{3} - \\frac{Re v_{tt}}{3} - \\frac{Re v_{t} v_{y}}{2} + \\frac{5 p_{yyy}}{6} + \\frac{u v_{xyy}}{2} + \\frac{4 u_{y} v_{xy}}{3} + \\frac{7 v v_{yyy}}{6} + \\frac{v_{ttt}}{2} + \\frac{2 v_{tyy}}{3} + \\frac{v_{xy} v_{x}}{6} + \\frac{7 v_{yy} v_{y}}{2} - \\frac{2 v_{yyyy}}{3 Re}$"
      ],
      "text/plain": [
       "-Re**2*p_{y}*u**2/6 - Re**2*u**3*v_{x}/6 - Re**2*u**2*v*v_{y}/6 - Re**2*u**2*v_{t}/6 - Re*p_{ty}/3 - Re*p_{xy}*u/6 + Re*p_{x}*v_{x} - Re*p_{yy}*v/2 - Re*p_{y}*v_{y}/6 + Re*u**2*v_{yy}/6 - 2*Re*u*v*v_{xy}/3 - Re*u*v_{tx}/2 - 7*Re*u*v_{x}*v_{y}/6 + 2*Re*u_{t}*v_{x}/3 + Re*u_{y}*v*v_{x}/2 - Re*v**2*v_{yy}/2 - 5*Re*v*v_{ty}/6 - 2*Re*v*v_{y}**2/3 - Re*v_{tt}/3 - Re*v_{t}*v_{y}/2 + 5*p_{yyy}/6 + u*v_{xyy}/2 + 4*u_{y}*v_{xy}/3 + 7*v*v_{yyy}/6 + v_{ttt}/2 + 2*v_{tyy}/3 + v_{xy}*v_{x}/6 + 7*v_{yy}*v_{y}/2 - 2*v_{yyyy}/(3*Re)"
      ]
     },
     "metadata": {},
     "output_type": "display_data"
    },
    {
     "name": "stdout",
     "output_type": "stream",
     "text": [
      "p_{y} + u v_{x} + u_{x} v + 2 v v_{y} + v_{t} - \\frac{v_{xx}}{Re} - \\frac{v_{yy}}{Re}\n",
      "+\\tau\\big(\n",
      "- \\frac{v_{tt}}{2}\n",
      "\\big)\n",
      "+h^2\\big(\n",
      "- \\frac{Re^{2} p_{y} u^{2}}{6} - \\frac{Re^{2} u^{3} v_{x}}{6} - \\frac{Re^{2} u^{2} v v_{y}}{6} - \\frac{Re^{2} u^{2} v_{t}}{6} - \\frac{Re p_{ty}}{3} - \\frac{Re p_{xy} u}{6} + Re p_{x} v_{x} - \\frac{Re p_{yy} v}{2} - \\frac{Re p_{y} v_{y}}{6} + \\frac{Re u^{2} v_{yy}}{6} - \\frac{2 Re u v v_{xy}}{3} - \\frac{Re u v_{tx}}{2} - \\frac{7 Re u v_{x} v_{y}}{6} + \\frac{2 Re u_{t} v_{x}}{3} + \\frac{Re u_{y} v v_{x}}{2} - \\frac{Re v^{2} v_{yy}}{2} - \\frac{5 Re v v_{ty}}{6} - \\frac{2 Re v v_{y}^{2}}{3} - \\frac{Re v_{tt}}{3} - \\frac{Re v_{t} v_{y}}{2} + \\frac{5 p_{yyy}}{6} + \\frac{u v_{xyy}}{2} + \\frac{4 u_{y} v_{xy}}{3} + \\frac{7 v v_{yyy}}{6} + \\frac{v_{ttt}}{2} + \\frac{2 v_{tyy}}{3} + \\frac{v_{xy} v_{x}}{6} + \\frac{7 v_{yy} v_{y}}{2} - \\frac{2 v_{yyyy}}{3 Re}\n",
      "\\big)\n"
     ]
    },
    {
     "data": {
      "text/latex": [
       "$\\displaystyle 0$"
      ],
      "text/plain": [
       "0"
      ]
     },
     "metadata": {},
     "output_type": "display_data"
    },
    {
     "name": "stdout",
     "output_type": "stream",
     "text": [
      "tau =>\n"
     ]
    },
    {
     "data": {
      "text/latex": [
       "$\\displaystyle - \\frac{2 e^{- \\frac{2 t}{Re}} \\sin{\\left(x \\right)} \\cos{\\left(y \\right)}}{Re^{2}}$"
      ],
      "text/plain": [
       "-2*exp(-2*t/Re)*sin(x)*cos(y)/Re**2"
      ]
     },
     "metadata": {},
     "output_type": "display_data"
    },
    {
     "name": "stdout",
     "output_type": "stream",
     "text": [
      "h^2 =>\n"
     ]
    },
    {
     "data": {
      "text/latex": [
       "$\\displaystyle - \\frac{2 \\left(Re^{2} + 6\\right) e^{- \\frac{2 t}{Re}} \\sin{\\left(x \\right)} \\cos{\\left(y \\right)}}{3 Re^{3}}$"
      ],
      "text/plain": [
       "-2*(Re**2 + 6)*exp(-2*t/Re)*sin(x)*cos(y)/(3*Re**3)"
      ]
     },
     "metadata": {},
     "output_type": "display_data"
    },
    {
     "name": "stdout",
     "output_type": "stream",
     "text": [
      "0\n",
      "+\\tau\\big(\n",
      "- \\frac{2 e^{- \\frac{2 t}{Re}} \\sin{\\left(x \\right)} \\cos{\\left(y \\right)}}{Re^{2}}\n",
      "\\big)\n",
      "+h^2\\big(\n",
      "- \\frac{2 \\left(Re^{2} + 6\\right) e^{- \\frac{2 t}{Re}} \\sin{\\left(x \\right)} \\cos{\\left(y \\right)}}{3 Re^{3}}\n",
      "\\big)\n"
     ]
    },
    {
     "data": {
      "text/latex": [
       "$\\displaystyle 0$"
      ],
      "text/plain": [
       "0"
      ]
     },
     "metadata": {},
     "output_type": "display_data"
    },
    {
     "name": "stdout",
     "output_type": "stream",
     "text": [
      "tau =>\n"
     ]
    },
    {
     "data": {
      "text/latex": [
       "$\\displaystyle 0$"
      ],
      "text/plain": [
       "0"
      ]
     },
     "metadata": {},
     "output_type": "display_data"
    },
    {
     "name": "stdout",
     "output_type": "stream",
     "text": [
      "h^2 =>\n"
     ]
    },
    {
     "data": {
      "text/latex": [
       "$\\displaystyle \\frac{\\left(Re^{4} \\left(- Re + \\sqrt{Re^{2} + 16 \\pi^{2}}\\right) e^{x \\left(\\frac{Re}{2} + 6 \\sqrt{Re^{2} + 16 \\pi^{2}}\\right)} + 8 Re^{4} \\left(- Re + \\sqrt{Re^{2} + 16 \\pi^{2}}\\right) e^{x \\left(Re + \\frac{11 \\sqrt{Re^{2} + 16 \\pi^{2}}}{2}\\right)} \\cos{\\left(2 \\pi y \\right)} + 32 \\pi^{2} Re \\left(- 5 Re^{2} + 3 Re \\sqrt{Re^{2} + 16 \\pi^{2}} - 16 \\pi^{2}\\right) e^{x \\left(Re + \\frac{11 \\sqrt{Re^{2} + 16 \\pi^{2}}}{2}\\right)} \\cos{\\left(2 \\pi y \\right)} + 8 \\pi^{2} Re \\left(- 3 Re^{2} + 2 Re \\sqrt{Re^{2} + 16 \\pi^{2}} - 20 \\pi^{2}\\right) e^{x \\left(\\frac{Re}{2} + 6 \\sqrt{Re^{2} + 16 \\pi^{2}}\\right)} + 64 \\pi^{4} \\sqrt{Re^{2} + 16 \\pi^{2}} e^{\\frac{x \\left(Re + 12 \\sqrt{Re^{2} + 16 \\pi^{2}}\\right)}{2}}\\right) e^{- \\frac{13 x \\sqrt{Re^{2} + 16 \\pi^{2}}}{2}} \\sin{\\left(2 \\pi y \\right)}}{24 \\pi Re}$"
      ],
      "text/plain": [
       "(Re**4*(-Re + sqrt(Re**2 + 16*pi**2))*exp(x*(Re/2 + 6*sqrt(Re**2 + 16*pi**2))) + 8*Re**4*(-Re + sqrt(Re**2 + 16*pi**2))*exp(x*(Re + 11*sqrt(Re**2 + 16*pi**2)/2))*cos(2*pi*y) + 32*pi**2*Re*(-5*Re**2 + 3*Re*sqrt(Re**2 + 16*pi**2) - 16*pi**2)*exp(x*(Re + 11*sqrt(Re**2 + 16*pi**2)/2))*cos(2*pi*y) + 8*pi**2*Re*(-3*Re**2 + 2*Re*sqrt(Re**2 + 16*pi**2) - 20*pi**2)*exp(x*(Re/2 + 6*sqrt(Re**2 + 16*pi**2))) + 64*pi**4*sqrt(Re**2 + 16*pi**2)*exp(x*(Re + 12*sqrt(Re**2 + 16*pi**2))/2))*exp(-13*x*sqrt(Re**2 + 16*pi**2)/2)*sin(2*pi*y)/(24*pi*Re)"
      ]
     },
     "metadata": {},
     "output_type": "display_data"
    },
    {
     "name": "stdout",
     "output_type": "stream",
     "text": [
      "0\n",
      "+\\tau\\big(\n",
      "0\n",
      "\\big)\n",
      "+h^2\\big(\n",
      "\\frac{\\left(Re^{4} \\left(- Re + \\sqrt{Re^{2} + 16 \\pi^{2}}\\right) e^{x \\left(\\frac{Re}{2} + 6 \\sqrt{Re^{2} + 16 \\pi^{2}}\\right)} + 8 Re^{4} \\left(- Re + \\sqrt{Re^{2} + 16 \\pi^{2}}\\right) e^{x \\left(Re + \\frac{11 \\sqrt{Re^{2} + 16 \\pi^{2}}}{2}\\right)} \\cos{\\left(2 \\pi y \\right)} + 32 \\pi^{2} Re \\left(- 5 Re^{2} + 3 Re \\sqrt{Re^{2} + 16 \\pi^{2}} - 16 \\pi^{2}\\right) e^{x \\left(Re + \\frac{11 \\sqrt{Re^{2} + 16 \\pi^{2}}}{2}\\right)} \\cos{\\left(2 \\pi y \\right)} + 8 \\pi^{2} Re \\left(- 3 Re^{2} + 2 Re \\sqrt{Re^{2} + 16 \\pi^{2}} - 20 \\pi^{2}\\right) e^{x \\left(\\frac{Re}{2} + 6 \\sqrt{Re^{2} + 16 \\pi^{2}}\\right)} + 64 \\pi^{4} \\sqrt{Re^{2} + 16 \\pi^{2}} e^{\\frac{x \\left(Re + 12 \\sqrt{Re^{2} + 16 \\pi^{2}}\\right)}{2}}\\right) e^{- \\frac{13 x \\sqrt{Re^{2} + 16 \\pi^{2}}}{2}} \\sin{\\left(2 \\pi y \\right)}}{24 \\pi Re}\n",
      "\\big)\n"
     ]
    },
    {
     "data": {
      "text/latex": [
       "$\\displaystyle p_{xx} + p_{yy} + 2 u u_{xx} + 2 u v_{xy} + 2 u_{xy} v + 2 u_{x}^{2} + 2 u_{x} v_{y} + 2 u_{y} v_{x} + 2 v v_{yy} + 2 v_{y}^{2}$"
      ],
      "text/plain": [
       "p_{xx} + p_{yy} + 2*u*u_{xx} + 2*u*v_{xy} + 2*u_{xy}*v + 2*u_{x}**2 + 2*u_{x}*v_{y} + 2*u_{y}*v_{x} + 2*v*v_{yy} + 2*v_{y}**2"
      ]
     },
     "metadata": {},
     "output_type": "display_data"
    },
    {
     "name": "stdout",
     "output_type": "stream",
     "text": [
      "tau =>\n"
     ]
    },
    {
     "data": {
      "text/latex": [
       "$\\displaystyle 0$"
      ],
      "text/plain": [
       "0"
      ]
     },
     "metadata": {},
     "output_type": "display_data"
    },
    {
     "name": "stdout",
     "output_type": "stream",
     "text": [
      "h^2 =>\n"
     ]
    },
    {
     "data": {
      "text/latex": [
       "$\\displaystyle \\frac{p_{xxxx}}{3} + \\frac{p_{yyyy}}{3} + \\frac{2 u u_{xxxx}}{3} + \\frac{u v_{xxxy}}{3} + \\frac{u v_{xyyy}}{3} + \\frac{u_{xxxy} v}{3} + \\frac{8 u_{xxx} u_{x}}{3} + \\frac{u_{xxx} v_{y}}{3} + u_{xxy} v_{x} + 2 u_{xx}^{2} + u_{xx} v_{xy} + \\frac{u_{xyyy} v}{3} + u_{xyy} v_{y} + u_{xy} v_{xx} + u_{xy} v_{yy} + u_{x} v_{xxy} + \\frac{u_{x} v_{yyy}}{3} + \\frac{u_{yyy} v_{x}}{3} + u_{yy} v_{xy} + \\frac{u_{y} v_{xxx}}{3} + u_{y} v_{xyy} + \\frac{2 v v_{yyyy}}{3} + \\frac{8 v_{yyy} v_{y}}{3} + 2 v_{yy}^{2}$"
      ],
      "text/plain": [
       "p_{xxxx}/3 + p_{yyyy}/3 + 2*u*u_{xxxx}/3 + u*v_{xxxy}/3 + u*v_{xyyy}/3 + u_{xxxy}*v/3 + 8*u_{xxx}*u_{x}/3 + u_{xxx}*v_{y}/3 + u_{xxy}*v_{x} + 2*u_{xx}**2 + u_{xx}*v_{xy} + u_{xyyy}*v/3 + u_{xyy}*v_{y} + u_{xy}*v_{xx} + u_{xy}*v_{yy} + u_{x}*v_{xxy} + u_{x}*v_{yyy}/3 + u_{yyy}*v_{x}/3 + u_{yy}*v_{xy} + u_{y}*v_{xxx}/3 + u_{y}*v_{xyy} + 2*v*v_{yyyy}/3 + 8*v_{yyy}*v_{y}/3 + 2*v_{yy}**2"
      ]
     },
     "metadata": {},
     "output_type": "display_data"
    },
    {
     "name": "stdout",
     "output_type": "stream",
     "text": [
      "-------------------------\n"
     ]
    },
    {
     "data": {
      "text/latex": [
       "$\\displaystyle p_{xx} + p_{yy} + 2 u u_{xx} + 2 u v_{xy} + 2 u_{xy} v + 2 u_{x}^{2} + 2 u_{x} v_{y} + 2 u_{y} v_{x} + 2 v v_{yy} + 2 v_{y}^{2}$"
      ],
      "text/plain": [
       "p_{xx} + p_{yy} + 2*u*u_{xx} + 2*u*v_{xy} + 2*u_{xy}*v + 2*u_{x}**2 + 2*u_{x}*v_{y} + 2*u_{y}*v_{x} + 2*v*v_{yy} + 2*v_{y}**2"
      ]
     },
     "metadata": {},
     "output_type": "display_data"
    },
    {
     "name": "stdout",
     "output_type": "stream",
     "text": [
      "tau =>\n"
     ]
    },
    {
     "data": {
      "text/latex": [
       "$\\displaystyle 0$"
      ],
      "text/plain": [
       "0"
      ]
     },
     "metadata": {},
     "output_type": "display_data"
    },
    {
     "name": "stdout",
     "output_type": "stream",
     "text": [
      "h^2 =>\n"
     ]
    },
    {
     "data": {
      "text/latex": [
       "$\\displaystyle \\frac{2 Re^{2} p_{x} v v_{x}}{3} - \\frac{Re^{2} p_{yy} u^{2}}{3} - \\frac{2 Re^{2} p_{y} u u_{y}}{3} - \\frac{Re^{2} u^{3} v_{xy}}{3} - Re^{2} u^{2} u_{y} v_{x} - \\frac{Re^{2} u^{2} v v_{yy}}{3} - \\frac{Re^{2} u^{2} v_{ty}}{3} - \\frac{Re^{2} u^{2} v_{y}^{2}}{3} - \\frac{2 Re^{2} u u_{y} v v_{y}}{3} - \\frac{2 Re^{2} u u_{y} v_{t}}{3} - \\frac{2 Re^{2} u v v_{x} v_{y}}{3} + \\frac{2 Re^{2} u_{t} v v_{x}}{3} + \\frac{2 Re^{2} u_{y} v^{2} v_{x}}{3} - \\frac{Re p_{xyy} u}{3} - \\frac{Re p_{xy} u_{y}}{3} + Re p_{xy} v_{x} + \\frac{7 Re p_{x} v_{xy}}{3} - \\frac{Re p_{yyy} v}{3} + \\frac{Re p_{y} v_{yy}}{3} + \\frac{Re u^{2} v_{yyy}}{3} + \\frac{2 Re u u_{y} v_{yy}}{3} - \\frac{2 Re u v v_{xyy}}{3} - \\frac{Re u v_{txy}}{3} - \\frac{8 Re u v_{xy} v_{y}}{3} - \\frac{2 Re u v_{x} v_{yy}}{3} + Re u_{ty} v_{x} + \\frac{7 Re u_{t} v_{xy}}{3} + \\frac{4 Re u_{y} v v_{xy}}{3} - \\frac{Re u_{y} v_{tx}}{3} - \\frac{Re v^{2} v_{yyy}}{3} - \\frac{Re v v_{tyy}}{3} + \\frac{2 Re v v_{xy} v_{x}}{3} - \\frac{2 Re v v_{yy} v_{y}}{3} + \\frac{Re v_{t} v_{yy}}{3} + \\frac{2 p_{yyyy}}{3} + \\frac{2 u v_{xyyy}}{3} + 2 u_{y} v_{xyy} + \\frac{2 v v_{yyyy}}{3} + \\frac{2 v_{xyy} v_{x}}{3} + 2 v_{xy}^{2} + \\frac{8 v_{yyy} v_{y}}{3} + 2 v_{yy}^{2}$"
      ],
      "text/plain": [
       "2*Re**2*p_{x}*v*v_{x}/3 - Re**2*p_{yy}*u**2/3 - 2*Re**2*p_{y}*u*u_{y}/3 - Re**2*u**3*v_{xy}/3 - Re**2*u**2*u_{y}*v_{x} - Re**2*u**2*v*v_{yy}/3 - Re**2*u**2*v_{ty}/3 - Re**2*u**2*v_{y}**2/3 - 2*Re**2*u*u_{y}*v*v_{y}/3 - 2*Re**2*u*u_{y}*v_{t}/3 - 2*Re**2*u*v*v_{x}*v_{y}/3 + 2*Re**2*u_{t}*v*v_{x}/3 + 2*Re**2*u_{y}*v**2*v_{x}/3 - Re*p_{xyy}*u/3 - Re*p_{xy}*u_{y}/3 + Re*p_{xy}*v_{x} + 7*Re*p_{x}*v_{xy}/3 - Re*p_{yyy}*v/3 + Re*p_{y}*v_{yy}/3 + Re*u**2*v_{yyy}/3 + 2*Re*u*u_{y}*v_{yy}/3 - 2*Re*u*v*v_{xyy}/3 - Re*u*v_{txy}/3 - 8*Re*u*v_{xy}*v_{y}/3 - 2*Re*u*v_{x}*v_{yy}/3 + Re*u_{ty}*v_{x} + 7*Re*u_{t}*v_{xy}/3 + 4*Re*u_{y}*v*v_{xy}/3 - Re*u_{y}*v_{tx}/3 - Re*v**2*v_{yyy}/3 - Re*v*v_{tyy}/3 + 2*Re*v*v_{xy}*v_{x}/3 - 2*Re*v*v_{yy}*v_{y}/3 + Re*v_{t}*v_{yy}/3 + 2*p_{yyyy}/3 + 2*u*v_{xyyy}/3 + 2*u_{y}*v_{xyy} + 2*v*v_{yyyy}/3 + 2*v_{xyy}*v_{x}/3 + 2*v_{xy}**2 + 8*v_{yyy}*v_{y}/3 + 2*v_{yy}**2"
      ]
     },
     "metadata": {},
     "output_type": "display_data"
    },
    {
     "name": "stdout",
     "output_type": "stream",
     "text": [
      "p_{xx} + p_{yy} + 2 u u_{xx} + 2 u v_{xy} + 2 u_{xy} v + 2 u_{x}^{2} + 2 u_{x} v_{y} + 2 u_{y} v_{x} + 2 v v_{yy} + 2 v_{y}^{2}\n",
      "+\\tau\\big(\n",
      "0\n",
      "\\big)\n",
      "+h^2\\big(\n",
      "\\frac{2 Re^{2} p_{x} v v_{x}}{3} - \\frac{Re^{2} p_{yy} u^{2}}{3} - \\frac{2 Re^{2} p_{y} u u_{y}}{3} - \\frac{Re^{2} u^{3} v_{xy}}{3} - Re^{2} u^{2} u_{y} v_{x} - \\frac{Re^{2} u^{2} v v_{yy}}{3} - \\frac{Re^{2} u^{2} v_{ty}}{3} - \\frac{Re^{2} u^{2} v_{y}^{2}}{3} - \\frac{2 Re^{2} u u_{y} v v_{y}}{3} - \\frac{2 Re^{2} u u_{y} v_{t}}{3} - \\frac{2 Re^{2} u v v_{x} v_{y}}{3} + \\frac{2 Re^{2} u_{t} v v_{x}}{3} + \\frac{2 Re^{2} u_{y} v^{2} v_{x}}{3} - \\frac{Re p_{xyy} u}{3} - \\frac{Re p_{xy} u_{y}}{3} + Re p_{xy} v_{x} + \\frac{7 Re p_{x} v_{xy}}{3} - \\frac{Re p_{yyy} v}{3} + \\frac{Re p_{y} v_{yy}}{3} + \\frac{Re u^{2} v_{yyy}}{3} + \\frac{2 Re u u_{y} v_{yy}}{3} - \\frac{2 Re u v v_{xyy}}{3} - \\frac{Re u v_{txy}}{3} - \\frac{8 Re u v_{xy} v_{y}}{3} - \\frac{2 Re u v_{x} v_{yy}}{3} + Re u_{ty} v_{x} + \\frac{7 Re u_{t} v_{xy}}{3} + \\frac{4 Re u_{y} v v_{xy}}{3} - \\frac{Re u_{y} v_{tx}}{3} - \\frac{Re v^{2} v_{yyy}}{3} - \\frac{Re v v_{tyy}}{3} + \\frac{2 Re v v_{xy} v_{x}}{3} - \\frac{2 Re v v_{yy} v_{y}}{3} + \\frac{Re v_{t} v_{yy}}{3} + \\frac{2 p_{yyyy}}{3} + \\frac{2 u v_{xyyy}}{3} + 2 u_{y} v_{xyy} + \\frac{2 v v_{yyyy}}{3} + \\frac{2 v_{xyy} v_{x}}{3} + 2 v_{xy}^{2} + \\frac{8 v_{yyy} v_{y}}{3} + 2 v_{yy}^{2}\n",
      "\\big)\n"
     ]
    },
    {
     "data": {
      "text/latex": [
       "$\\displaystyle 0$"
      ],
      "text/plain": [
       "0"
      ]
     },
     "metadata": {},
     "output_type": "display_data"
    },
    {
     "name": "stdout",
     "output_type": "stream",
     "text": [
      "tau =>\n"
     ]
    },
    {
     "data": {
      "text/latex": [
       "$\\displaystyle 0$"
      ],
      "text/plain": [
       "0"
      ]
     },
     "metadata": {},
     "output_type": "display_data"
    },
    {
     "name": "stdout",
     "output_type": "stream",
     "text": [
      "h^2 =>\n"
     ]
    },
    {
     "data": {
      "text/latex": [
       "$\\displaystyle 0$"
      ],
      "text/plain": [
       "0"
      ]
     },
     "metadata": {},
     "output_type": "display_data"
    },
    {
     "name": "stdout",
     "output_type": "stream",
     "text": [
      "0\n",
      "+\\tau\\big(\n",
      "0\n",
      "\\big)\n",
      "+h^2\\big(\n",
      "0\n",
      "\\big)\n"
     ]
    },
    {
     "data": {
      "text/latex": [
       "$\\displaystyle 0$"
      ],
      "text/plain": [
       "0"
      ]
     },
     "metadata": {},
     "output_type": "display_data"
    },
    {
     "name": "stdout",
     "output_type": "stream",
     "text": [
      "tau =>\n"
     ]
    },
    {
     "data": {
      "text/latex": [
       "$\\displaystyle 0$"
      ],
      "text/plain": [
       "0"
      ]
     },
     "metadata": {},
     "output_type": "display_data"
    },
    {
     "name": "stdout",
     "output_type": "stream",
     "text": [
      "h^2 =>\n"
     ]
    },
    {
     "data": {
      "text/latex": [
       "$\\displaystyle \\frac{\\left(- Re^{4} + Re^{3} \\sqrt{Re^{2} + 16 \\pi^{2}} - 20 \\pi^{2} Re^{2} + 12 \\pi^{2} Re \\sqrt{Re^{2} + 16 \\pi^{2}} - 64 \\pi^{4}\\right) e^{\\frac{x \\left(Re - \\sqrt{Re^{2} + 16 \\pi^{2}}\\right)}{2}} \\cos{\\left(2 \\pi y \\right)}}{6}$"
      ],
      "text/plain": [
       "(-Re**4 + Re**3*sqrt(Re**2 + 16*pi**2) - 20*pi**2*Re**2 + 12*pi**2*Re*sqrt(Re**2 + 16*pi**2) - 64*pi**4)*exp(x*(Re - sqrt(Re**2 + 16*pi**2))/2)*cos(2*pi*y)/6"
      ]
     },
     "metadata": {},
     "output_type": "display_data"
    },
    {
     "name": "stdout",
     "output_type": "stream",
     "text": [
      "0\n",
      "+\\tau\\big(\n",
      "0\n",
      "\\big)\n",
      "+h^2\\big(\n",
      "\\frac{\\left(- Re^{4} + Re^{3} \\sqrt{Re^{2} + 16 \\pi^{2}} - 20 \\pi^{2} Re^{2} + 12 \\pi^{2} Re \\sqrt{Re^{2} + 16 \\pi^{2}} - 64 \\pi^{4}\\right) e^{\\frac{x \\left(Re - \\sqrt{Re^{2} + 16 \\pi^{2}}\\right)}{2}} \\cos{\\left(2 \\pi y \\right)}}{6}\n",
      "\\big)\n"
     ]
    },
    {
     "data": {
      "text/latex": [
       "$\\displaystyle 0$"
      ],
      "text/plain": [
       "0"
      ]
     },
     "metadata": {},
     "output_type": "display_data"
    },
    {
     "name": "stdout",
     "output_type": "stream",
     "text": [
      "tau =>\n"
     ]
    },
    {
     "data": {
      "text/latex": [
       "$\\displaystyle 0$"
      ],
      "text/plain": [
       "0"
      ]
     },
     "metadata": {},
     "output_type": "display_data"
    },
    {
     "name": "stdout",
     "output_type": "stream",
     "text": [
      "h^2 =>\n"
     ]
    },
    {
     "data": {
      "text/latex": [
       "$\\displaystyle 0$"
      ],
      "text/plain": [
       "0"
      ]
     },
     "metadata": {},
     "output_type": "display_data"
    },
    {
     "name": "stdout",
     "output_type": "stream",
     "text": [
      "0\n",
      "+\\tau\\big(\n",
      "0\n",
      "\\big)\n",
      "+h^2\\big(\n",
      "0\n",
      "\\big)\n"
     ]
    }
   ],
   "source": [
    "F1 = clip(Dx(u) + Dy(v))\n",
    "F2 = clip(Dt(u) + Ut(Dx(u**2) + Dy(v*u) + Dx(p) - DD2(u)/Re))\n",
    "F3 = clip(Dt(v) + Ut(Dx(u*v) + Dy(v**2) + Dy(p) - DD2(v)/Re))\n",
    "F4 = clip(Dx(Dx(u**2) + Dy(v*u) + Dx(p)) + Dy(Dx(u*v) + Dy(v**2) + Dy(p)))\n",
    "\n",
    "build(F1, F2, F3, F4)"
   ]
  },
  {
   "cell_type": "markdown",
   "metadata": {},
   "source": [
    "## Метод MAC ##\n",
    "<img src=\"./F17.13.png\"/>\n",
    "<img src=\"./F17.8.png\"/>\n",
    "<img src=\"./F17.10.png\"/>"
   ]
  },
  {
   "cell_type": "code",
   "execution_count": 41,
   "metadata": {
    "scrolled": true
   },
   "outputs": [
    {
     "data": {
      "text/latex": [
       "$\\displaystyle u_{x} + v_{y}$"
      ],
      "text/plain": [
       "u_{x} + v_{y}"
      ]
     },
     "metadata": {},
     "output_type": "display_data"
    },
    {
     "name": "stdout",
     "output_type": "stream",
     "text": [
      "tau =>\n"
     ]
    },
    {
     "data": {
      "text/latex": [
       "$\\displaystyle \\frac{u_{tx}}{2} + \\frac{v_{ty}}{2}$"
      ],
      "text/plain": [
       "u_{tx}/2 + v_{ty}/2"
      ]
     },
     "metadata": {},
     "output_type": "display_data"
    },
    {
     "name": "stdout",
     "output_type": "stream",
     "text": [
      "h^2 =>\n"
     ]
    },
    {
     "data": {
      "text/latex": [
       "$\\displaystyle \\frac{u_{xxx}}{24} + \\frac{v_{yyy}}{24}$"
      ],
      "text/plain": [
       "u_{xxx}/24 + v_{yyy}/24"
      ]
     },
     "metadata": {},
     "output_type": "display_data"
    },
    {
     "name": "stdout",
     "output_type": "stream",
     "text": [
      "-------------------------\n"
     ]
    },
    {
     "data": {
      "text/latex": [
       "$\\displaystyle u_{x} + v_{y}$"
      ],
      "text/plain": [
       "u_{x} + v_{y}"
      ]
     },
     "metadata": {},
     "output_type": "display_data"
    },
    {
     "name": "stdout",
     "output_type": "stream",
     "text": [
      "tau =>\n"
     ]
    },
    {
     "data": {
      "text/latex": [
       "$\\displaystyle 0$"
      ],
      "text/plain": [
       "0"
      ]
     },
     "metadata": {},
     "output_type": "display_data"
    },
    {
     "name": "stdout",
     "output_type": "stream",
     "text": [
      "h^2 =>\n"
     ]
    },
    {
     "data": {
      "text/latex": [
       "$\\displaystyle - \\frac{Re p_{yy}}{24} - \\frac{Re u v_{xy}}{24} - \\frac{Re u_{y} v_{x}}{24} - \\frac{Re v v_{yy}}{24} - \\frac{Re v_{ty}}{24} - \\frac{Re v_{y}^{2}}{24} + \\frac{v_{yyy}}{12}$"
      ],
      "text/plain": [
       "-Re*p_{yy}/24 - Re*u*v_{xy}/24 - Re*u_{y}*v_{x}/24 - Re*v*v_{yy}/24 - Re*v_{ty}/24 - Re*v_{y}**2/24 + v_{yyy}/12"
      ]
     },
     "metadata": {},
     "output_type": "display_data"
    },
    {
     "name": "stdout",
     "output_type": "stream",
     "text": [
      "u_{x} + v_{y}\n",
      "+\\tau\\big(\n",
      "0\n",
      "\\big)\n",
      "+h^2\\big(\n",
      "- \\frac{Re p_{yy}}{24} - \\frac{Re u v_{xy}}{24} - \\frac{Re u_{y} v_{x}}{24} - \\frac{Re v v_{yy}}{24} - \\frac{Re v_{ty}}{24} - \\frac{Re v_{y}^{2}}{24} + \\frac{v_{yyy}}{12}\n",
      "\\big)\n"
     ]
    },
    {
     "data": {
      "text/latex": [
       "$\\displaystyle 0$"
      ],
      "text/plain": [
       "0"
      ]
     },
     "metadata": {},
     "output_type": "display_data"
    },
    {
     "name": "stdout",
     "output_type": "stream",
     "text": [
      "tau =>\n"
     ]
    },
    {
     "data": {
      "text/latex": [
       "$\\displaystyle 0$"
      ],
      "text/plain": [
       "0"
      ]
     },
     "metadata": {},
     "output_type": "display_data"
    },
    {
     "name": "stdout",
     "output_type": "stream",
     "text": [
      "h^2 =>\n"
     ]
    },
    {
     "data": {
      "text/latex": [
       "$\\displaystyle 0$"
      ],
      "text/plain": [
       "0"
      ]
     },
     "metadata": {},
     "output_type": "display_data"
    },
    {
     "name": "stdout",
     "output_type": "stream",
     "text": [
      "0\n",
      "+\\tau\\big(\n",
      "0\n",
      "\\big)\n",
      "+h^2\\big(\n",
      "0\n",
      "\\big)\n"
     ]
    },
    {
     "data": {
      "text/latex": [
       "$\\displaystyle 0$"
      ],
      "text/plain": [
       "0"
      ]
     },
     "metadata": {},
     "output_type": "display_data"
    },
    {
     "name": "stdout",
     "output_type": "stream",
     "text": [
      "tau =>\n"
     ]
    },
    {
     "data": {
      "text/latex": [
       "$\\displaystyle 0$"
      ],
      "text/plain": [
       "0"
      ]
     },
     "metadata": {},
     "output_type": "display_data"
    },
    {
     "name": "stdout",
     "output_type": "stream",
     "text": [
      "h^2 =>\n"
     ]
    },
    {
     "data": {
      "text/latex": [
       "$\\displaystyle \\frac{\\left(- Re^{3} + Re^{2} \\sqrt{Re^{2} + 16 \\pi^{2}} - 16 \\pi^{2} Re + 8 \\pi^{2} \\sqrt{Re^{2} + 16 \\pi^{2}}\\right) e^{\\frac{x \\left(Re - \\sqrt{Re^{2} + 16 \\pi^{2}}\\right)}{2}} \\cos{\\left(2 \\pi y \\right)}}{48}$"
      ],
      "text/plain": [
       "(-Re**3 + Re**2*sqrt(Re**2 + 16*pi**2) - 16*pi**2*Re + 8*pi**2*sqrt(Re**2 + 16*pi**2))*exp(x*(Re - sqrt(Re**2 + 16*pi**2))/2)*cos(2*pi*y)/48"
      ]
     },
     "metadata": {},
     "output_type": "display_data"
    },
    {
     "name": "stdout",
     "output_type": "stream",
     "text": [
      "0\n",
      "+\\tau\\big(\n",
      "0\n",
      "\\big)\n",
      "+h^2\\big(\n",
      "\\frac{\\left(- Re^{3} + Re^{2} \\sqrt{Re^{2} + 16 \\pi^{2}} - 16 \\pi^{2} Re + 8 \\pi^{2} \\sqrt{Re^{2} + 16 \\pi^{2}}\\right) e^{\\frac{x \\left(Re - \\sqrt{Re^{2} + 16 \\pi^{2}}\\right)}{2}} \\cos{\\left(2 \\pi y \\right)}}{48}\n",
      "\\big)\n"
     ]
    },
    {
     "data": {
      "text/latex": [
       "$\\displaystyle p_{x} + 2 u u_{x} + u v_{y} + u_{t} + u_{y} v - \\frac{u_{xx}}{Re} - \\frac{u_{yy}}{Re}$"
      ],
      "text/plain": [
       "p_{x} + 2*u*u_{x} + u*v_{y} + u_{t} + u_{y}*v - u_{xx}/Re - u_{yy}/Re"
      ]
     },
     "metadata": {},
     "output_type": "display_data"
    },
    {
     "name": "stdout",
     "output_type": "stream",
     "text": [
      "tau =>\n"
     ]
    },
    {
     "data": {
      "text/latex": [
       "$\\displaystyle p_{tx} + \\frac{u_{tt}}{2}$"
      ],
      "text/plain": [
       "p_{tx} + u_{tt}/2"
      ]
     },
     "metadata": {},
     "output_type": "display_data"
    },
    {
     "name": "stdout",
     "output_type": "stream",
     "text": [
      "h^2 =>\n"
     ]
    },
    {
     "data": {
      "text/latex": [
       "$\\displaystyle \\frac{p_{xxx}}{6} + \\frac{7 u u_{xxx}}{12} + \\frac{5 u v_{xxy}}{8} + \\frac{u v_{yyy}}{24} + \\frac{u_{txx}}{8} + \\frac{u_{xxy} v}{8} + \\frac{5 u_{xx} u_{x}}{4} + \\frac{u_{xx} v_{y}}{8} + \\frac{u_{xy} v_{x}}{4} + \\frac{u_{x} v_{xy}}{4} + \\frac{u_{yyy} v}{6} + \\frac{u_{yy} v_{y}}{4} + \\frac{5 u_{y} v_{xx}}{8} + \\frac{u_{y} v_{yy}}{8} - \\frac{5 u_{xxxx}}{24 Re} - \\frac{u_{xxyy}}{8 Re} - \\frac{u_{yyyy}}{12 Re}$"
      ],
      "text/plain": [
       "p_{xxx}/6 + 7*u*u_{xxx}/12 + 5*u*v_{xxy}/8 + u*v_{yyy}/24 + u_{txx}/8 + u_{xxy}*v/8 + 5*u_{xx}*u_{x}/4 + u_{xx}*v_{y}/8 + u_{xy}*v_{x}/4 + u_{x}*v_{xy}/4 + u_{yyy}*v/6 + u_{yy}*v_{y}/4 + 5*u_{y}*v_{xx}/8 + u_{y}*v_{yy}/8 - 5*u_{xxxx}/(24*Re) - u_{xxyy}/(8*Re) - u_{yyyy}/(12*Re)"
      ]
     },
     "metadata": {},
     "output_type": "display_data"
    },
    {
     "name": "stdout",
     "output_type": "stream",
     "text": [
      "-------------------------\n"
     ]
    },
    {
     "data": {
      "text/latex": [
       "$\\displaystyle p_{x} + 2 u u_{x} + u v_{y} + u_{t} + u_{y} v - \\frac{u_{xx}}{Re} - \\frac{u_{yy}}{Re}$"
      ],
      "text/plain": [
       "p_{x} + 2*u*u_{x} + u*v_{y} + u_{t} + u_{y}*v - u_{xx}/Re - u_{yy}/Re"
      ]
     },
     "metadata": {},
     "output_type": "display_data"
    },
    {
     "name": "stdout",
     "output_type": "stream",
     "text": [
      "tau =>\n"
     ]
    },
    {
     "data": {
      "text/latex": [
       "$\\displaystyle p_{tx} + \\frac{u_{tt}}{2}$"
      ],
      "text/plain": [
       "p_{tx} + u_{tt}/2"
      ]
     },
     "metadata": {},
     "output_type": "display_data"
    },
    {
     "name": "stdout",
     "output_type": "stream",
     "text": [
      "h^2 =>\n"
     ]
    },
    {
     "data": {
      "text/latex": [
       "$\\displaystyle \\frac{Re^{2} p_{x} v^{2}}{12} - \\frac{Re^{2} u v^{2} v_{y}}{12} + \\frac{Re^{2} u_{t} v^{2}}{12} + \\frac{Re^{2} u_{y} v^{3}}{12} - \\frac{Re p_{tx}}{12} + \\frac{Re p_{xy} v}{12} + \\frac{Re p_{x} v_{y}}{6} + \\frac{Re p_{yy} u}{4} + \\frac{Re p_{y} u_{y}}{2} + \\frac{Re u^{2} v_{xy}}{4} + \\frac{3 Re u u_{y} v_{x}}{4} + \\frac{Re u v v_{yy}}{6} + \\frac{Re u v_{ty}}{3} + \\frac{Re u v_{y}^{2}}{12} - \\frac{Re u_{tt}}{12} + \\frac{Re u_{t} v_{y}}{4} + \\frac{2 Re u_{y} v v_{y}}{3} + \\frac{5 Re u_{y} v_{t}}{12} + \\frac{Re v^{2} v_{xy}}{12} - \\frac{p_{xyy}}{24} - \\frac{u v_{yyy}}{8} - \\frac{7 u_{y} v_{yy}}{24} + \\frac{v v_{xyy}}{6} + \\frac{7 v_{xy} v_{y}}{12} + \\frac{v_{x} v_{yy}}{12} - \\frac{v_{xyyy}}{6 Re}$"
      ],
      "text/plain": [
       "Re**2*p_{x}*v**2/12 - Re**2*u*v**2*v_{y}/12 + Re**2*u_{t}*v**2/12 + Re**2*u_{y}*v**3/12 - Re*p_{tx}/12 + Re*p_{xy}*v/12 + Re*p_{x}*v_{y}/6 + Re*p_{yy}*u/4 + Re*p_{y}*u_{y}/2 + Re*u**2*v_{xy}/4 + 3*Re*u*u_{y}*v_{x}/4 + Re*u*v*v_{yy}/6 + Re*u*v_{ty}/3 + Re*u*v_{y}**2/12 - Re*u_{tt}/12 + Re*u_{t}*v_{y}/4 + 2*Re*u_{y}*v*v_{y}/3 + 5*Re*u_{y}*v_{t}/12 + Re*v**2*v_{xy}/12 - p_{xyy}/24 - u*v_{yyy}/8 - 7*u_{y}*v_{yy}/24 + v*v_{xyy}/6 + 7*v_{xy}*v_{y}/12 + v_{x}*v_{yy}/12 - v_{xyyy}/(6*Re)"
      ]
     },
     "metadata": {},
     "output_type": "display_data"
    },
    {
     "name": "stdout",
     "output_type": "stream",
     "text": [
      "p_{x} + 2 u u_{x} + u v_{y} + u_{t} + u_{y} v - \\frac{u_{xx}}{Re} - \\frac{u_{yy}}{Re}\n",
      "+\\tau\\big(\n",
      "p_{tx} + \\frac{u_{tt}}{2}\n",
      "\\big)\n",
      "+h^2\\big(\n",
      "\\frac{Re^{2} p_{x} v^{2}}{12} - \\frac{Re^{2} u v^{2} v_{y}}{12} + \\frac{Re^{2} u_{t} v^{2}}{12} + \\frac{Re^{2} u_{y} v^{3}}{12} - \\frac{Re p_{tx}}{12} + \\frac{Re p_{xy} v}{12} + \\frac{Re p_{x} v_{y}}{6} + \\frac{Re p_{yy} u}{4} + \\frac{Re p_{y} u_{y}}{2} + \\frac{Re u^{2} v_{xy}}{4} + \\frac{3 Re u u_{y} v_{x}}{4} + \\frac{Re u v v_{yy}}{6} + \\frac{Re u v_{ty}}{3} + \\frac{Re u v_{y}^{2}}{12} - \\frac{Re u_{tt}}{12} + \\frac{Re u_{t} v_{y}}{4} + \\frac{2 Re u_{y} v v_{y}}{3} + \\frac{5 Re u_{y} v_{t}}{12} + \\frac{Re v^{2} v_{xy}}{12} - \\frac{p_{xyy}}{24} - \\frac{u v_{yyy}}{8} - \\frac{7 u_{y} v_{yy}}{24} + \\frac{v v_{xyy}}{6} + \\frac{7 v_{xy} v_{y}}{12} + \\frac{v_{x} v_{yy}}{12} - \\frac{v_{xyyy}}{6 Re}\n",
      "\\big)\n"
     ]
    },
    {
     "data": {
      "text/latex": [
       "$\\displaystyle 0$"
      ],
      "text/plain": [
       "0"
      ]
     },
     "metadata": {},
     "output_type": "display_data"
    },
    {
     "name": "stdout",
     "output_type": "stream",
     "text": [
      "tau =>\n"
     ]
    },
    {
     "data": {
      "text/latex": [
       "$\\displaystyle - \\frac{2 \\left(2 Re \\sin{\\left(x \\right)} + e^{\\frac{2 t}{Re}} \\sin{\\left(y \\right)}\\right) e^{- \\frac{4 t}{Re}} \\cos{\\left(x \\right)}}{Re^{2}}$"
      ],
      "text/plain": [
       "-2*(2*Re*sin(x) + exp(2*t/Re)*sin(y))*exp(-4*t/Re)*cos(x)/Re**2"
      ]
     },
     "metadata": {},
     "output_type": "display_data"
    },
    {
     "name": "stdout",
     "output_type": "stream",
     "text": [
      "h^2 =>\n"
     ]
    },
    {
     "data": {
      "text/latex": [
       "$\\displaystyle \\frac{\\left(3 Re \\left(5 - 6 \\sin^{2}{\\left(y \\right)}\\right) \\sin{\\left(x \\right)} + 4 e^{\\frac{2 t}{Re}} \\sin{\\left(y \\right)}\\right) e^{- \\frac{4 t}{Re}} \\cos{\\left(x \\right)}}{24 Re}$"
      ],
      "text/plain": [
       "(3*Re*(5 - 6*sin(y)**2)*sin(x) + 4*exp(2*t/Re)*sin(y))*exp(-4*t/Re)*cos(x)/(24*Re)"
      ]
     },
     "metadata": {},
     "output_type": "display_data"
    },
    {
     "name": "stdout",
     "output_type": "stream",
     "text": [
      "0\n",
      "+\\tau\\big(\n",
      "- \\frac{2 \\left(2 Re \\sin{\\left(x \\right)} + e^{\\frac{2 t}{Re}} \\sin{\\left(y \\right)}\\right) e^{- \\frac{4 t}{Re}} \\cos{\\left(x \\right)}}{Re^{2}}\n",
      "\\big)\n",
      "+h^2\\big(\n",
      "\\frac{\\left(3 Re \\left(5 - 6 \\sin^{2}{\\left(y \\right)}\\right) \\sin{\\left(x \\right)} + 4 e^{\\frac{2 t}{Re}} \\sin{\\left(y \\right)}\\right) e^{- \\frac{4 t}{Re}} \\cos{\\left(x \\right)}}{24 Re}\n",
      "\\big)\n"
     ]
    },
    {
     "data": {
      "text/latex": [
       "$\\displaystyle 0$"
      ],
      "text/plain": [
       "0"
      ]
     },
     "metadata": {},
     "output_type": "display_data"
    },
    {
     "name": "stdout",
     "output_type": "stream",
     "text": [
      "tau =>\n"
     ]
    },
    {
     "data": {
      "text/latex": [
       "$\\displaystyle 0$"
      ],
      "text/plain": [
       "0"
      ]
     },
     "metadata": {},
     "output_type": "display_data"
    },
    {
     "name": "stdout",
     "output_type": "stream",
     "text": [
      "h^2 =>\n"
     ]
    },
    {
     "data": {
      "text/latex": [
       "$\\displaystyle \\frac{\\left(Re \\left(3 Re^{3} - 3 Re^{2} \\sqrt{Re^{2} + 16 \\pi^{2}} + 38 \\pi^{2} Re - 14 \\pi^{2} \\sqrt{Re^{2} + 16 \\pi^{2}}\\right) e^{x \\left(\\frac{Re}{2} + 7 \\sqrt{Re^{2} + 16 \\pi^{2}}\\right)} \\cos{\\left(2 \\pi y \\right)} + 2 Re \\left(2 Re^{3} \\sin^{2}{\\left(2 \\pi y \\right)} + Re^{3} \\cos^{2}{\\left(2 \\pi y \\right)} - 2 Re^{2} \\sqrt{Re^{2} + 16 \\pi^{2}} \\sin^{2}{\\left(2 \\pi y \\right)} - Re^{2} \\sqrt{Re^{2} + 16 \\pi^{2}} \\cos^{2}{\\left(2 \\pi y \\right)} + 17 \\pi^{2} Re \\sin^{2}{\\left(2 \\pi y \\right)} + 19 \\pi^{2} Re \\cos^{2}{\\left(2 \\pi y \\right)} - \\pi^{2} \\sqrt{Re^{2} + 16 \\pi^{2}} \\sin^{2}{\\left(2 \\pi y \\right)} - 11 \\pi^{2} \\sqrt{Re^{2} + 16 \\pi^{2}} \\cos^{2}{\\left(2 \\pi y \\right)}\\right) e^{x \\left(Re + \\frac{13 \\sqrt{Re^{2} + 16 \\pi^{2}}}{2}\\right)} + 64 \\pi^{4} e^{\\frac{x \\left(Re + 14 \\sqrt{Re^{2} + 16 \\pi^{2}}\\right)}{2}} \\cos{\\left(2 \\pi y \\right)}\\right) e^{- \\frac{15 x \\sqrt{Re^{2} + 16 \\pi^{2}}}{2}}}{24 Re}$"
      ],
      "text/plain": [
       "(Re*(3*Re**3 - 3*Re**2*sqrt(Re**2 + 16*pi**2) + 38*pi**2*Re - 14*pi**2*sqrt(Re**2 + 16*pi**2))*exp(x*(Re/2 + 7*sqrt(Re**2 + 16*pi**2)))*cos(2*pi*y) + 2*Re*(2*Re**3*sin(2*pi*y)**2 + Re**3*cos(2*pi*y)**2 - 2*Re**2*sqrt(Re**2 + 16*pi**2)*sin(2*pi*y)**2 - Re**2*sqrt(Re**2 + 16*pi**2)*cos(2*pi*y)**2 + 17*pi**2*Re*sin(2*pi*y)**2 + 19*pi**2*Re*cos(2*pi*y)**2 - pi**2*sqrt(Re**2 + 16*pi**2)*sin(2*pi*y)**2 - 11*pi**2*sqrt(Re**2 + 16*pi**2)*cos(2*pi*y)**2)*exp(x*(Re + 13*sqrt(Re**2 + 16*pi**2)/2)) + 64*pi**4*exp(x*(Re + 14*sqrt(Re**2 + 16*pi**2))/2)*cos(2*pi*y))*exp(-15*x*sqrt(Re**2 + 16*pi**2)/2)/(24*Re)"
      ]
     },
     "metadata": {},
     "output_type": "display_data"
    },
    {
     "name": "stdout",
     "output_type": "stream",
     "text": [
      "0\n",
      "+\\tau\\big(\n",
      "0\n",
      "\\big)\n",
      "+h^2\\big(\n",
      "\\frac{\\left(Re \\left(3 Re^{3} - 3 Re^{2} \\sqrt{Re^{2} + 16 \\pi^{2}} + 38 \\pi^{2} Re - 14 \\pi^{2} \\sqrt{Re^{2} + 16 \\pi^{2}}\\right) e^{x \\left(\\frac{Re}{2} + 7 \\sqrt{Re^{2} + 16 \\pi^{2}}\\right)} \\cos{\\left(2 \\pi y \\right)} + 2 Re \\left(2 Re^{3} \\sin^{2}{\\left(2 \\pi y \\right)} + Re^{3} \\cos^{2}{\\left(2 \\pi y \\right)} - 2 Re^{2} \\sqrt{Re^{2} + 16 \\pi^{2}} \\sin^{2}{\\left(2 \\pi y \\right)} - Re^{2} \\sqrt{Re^{2} + 16 \\pi^{2}} \\cos^{2}{\\left(2 \\pi y \\right)} + 17 \\pi^{2} Re \\sin^{2}{\\left(2 \\pi y \\right)} + 19 \\pi^{2} Re \\cos^{2}{\\left(2 \\pi y \\right)} - \\pi^{2} \\sqrt{Re^{2} + 16 \\pi^{2}} \\sin^{2}{\\left(2 \\pi y \\right)} - 11 \\pi^{2} \\sqrt{Re^{2} + 16 \\pi^{2}} \\cos^{2}{\\left(2 \\pi y \\right)}\\right) e^{x \\left(Re + \\frac{13 \\sqrt{Re^{2} + 16 \\pi^{2}}}{2}\\right)} + 64 \\pi^{4} e^{\\frac{x \\left(Re + 14 \\sqrt{Re^{2} + 16 \\pi^{2}}\\right)}{2}} \\cos{\\left(2 \\pi y \\right)}\\right) e^{- \\frac{15 x \\sqrt{Re^{2} + 16 \\pi^{2}}}{2}}}{24 Re}\n",
      "\\big)\n"
     ]
    },
    {
     "data": {
      "text/latex": [
       "$\\displaystyle p_{y} + u v_{x} + u_{x} v + 2 v v_{y} + v_{t} - \\frac{v_{xx}}{Re} - \\frac{v_{yy}}{Re}$"
      ],
      "text/plain": [
       "p_{y} + u*v_{x} + u_{x}*v + 2*v*v_{y} + v_{t} - v_{xx}/Re - v_{yy}/Re"
      ]
     },
     "metadata": {},
     "output_type": "display_data"
    },
    {
     "name": "stdout",
     "output_type": "stream",
     "text": [
      "tau =>\n"
     ]
    },
    {
     "data": {
      "text/latex": [
       "$\\displaystyle p_{ty} + \\frac{v_{tt}}{2}$"
      ],
      "text/plain": [
       "p_{ty} + v_{tt}/2"
      ]
     },
     "metadata": {},
     "output_type": "display_data"
    },
    {
     "name": "stdout",
     "output_type": "stream",
     "text": [
      "h^2 =>\n"
     ]
    },
    {
     "data": {
      "text/latex": [
       "$\\displaystyle \\frac{p_{yyy}}{6} + \\frac{u v_{xxx}}{6} + \\frac{u v_{xyy}}{8} + \\frac{u_{xxx} v}{24} + \\frac{u_{xx} v_{x}}{8} + \\frac{5 u_{xyy} v}{8} + \\frac{u_{xy} v_{y}}{4} + \\frac{u_{x} v_{xx}}{4} + \\frac{u_{x} v_{yy}}{8} + \\frac{5 u_{yy} v_{x}}{8} + \\frac{u_{y} v_{xy}}{4} + \\frac{7 v v_{yyy}}{12} + \\frac{v_{tyy}}{8} + \\frac{5 v_{yy} v_{y}}{4} - \\frac{v_{xxxx}}{12 Re} - \\frac{v_{xxyy}}{8 Re} - \\frac{5 v_{yyyy}}{24 Re}$"
      ],
      "text/plain": [
       "p_{yyy}/6 + u*v_{xxx}/6 + u*v_{xyy}/8 + u_{xxx}*v/24 + u_{xx}*v_{x}/8 + 5*u_{xyy}*v/8 + u_{xy}*v_{y}/4 + u_{x}*v_{xx}/4 + u_{x}*v_{yy}/8 + 5*u_{yy}*v_{x}/8 + u_{y}*v_{xy}/4 + 7*v*v_{yyy}/12 + v_{tyy}/8 + 5*v_{yy}*v_{y}/4 - v_{xxxx}/(12*Re) - v_{xxyy}/(8*Re) - 5*v_{yyyy}/(24*Re)"
      ]
     },
     "metadata": {},
     "output_type": "display_data"
    },
    {
     "name": "stdout",
     "output_type": "stream",
     "text": [
      "-------------------------\n"
     ]
    },
    {
     "data": {
      "text/latex": [
       "$\\displaystyle p_{y} + u v_{x} + u_{x} v + 2 v v_{y} + v_{t} - \\frac{v_{xx}}{Re} - \\frac{v_{yy}}{Re}$"
      ],
      "text/plain": [
       "p_{y} + u*v_{x} + u_{x}*v + 2*v*v_{y} + v_{t} - v_{xx}/Re - v_{yy}/Re"
      ]
     },
     "metadata": {},
     "output_type": "display_data"
    },
    {
     "name": "stdout",
     "output_type": "stream",
     "text": [
      "tau =>\n"
     ]
    },
    {
     "data": {
      "text/latex": [
       "$\\displaystyle p_{ty} + \\frac{v_{tt}}{2}$"
      ],
      "text/plain": [
       "p_{ty} + v_{tt}/2"
      ]
     },
     "metadata": {},
     "output_type": "display_data"
    },
    {
     "name": "stdout",
     "output_type": "stream",
     "text": [
      "h^2 =>\n"
     ]
    },
    {
     "data": {
      "text/latex": [
       "$\\displaystyle \\frac{Re^{2} p_{y} u^{2}}{12} + \\frac{Re^{2} u^{3} v_{x}}{12} + \\frac{Re^{2} u^{2} v v_{y}}{12} + \\frac{Re^{2} u^{2} v_{t}}{12} - \\frac{Re p_{ty}}{12} + \\frac{Re p_{xy} u}{12} + \\frac{3 Re p_{x} v_{x}}{4} - \\frac{Re p_{yy} v}{8} - \\frac{Re p_{y} v_{y}}{6} - \\frac{Re u^{2} v_{yy}}{12} - \\frac{Re u v v_{xy}}{24} - \\frac{11 Re u v_{x} v_{y}}{12} + \\frac{2 Re u_{t} v_{x}}{3} + \\frac{5 Re u_{y} v v_{x}}{8} - \\frac{Re v^{2} v_{yy}}{8} - \\frac{5 Re v v_{ty}}{24} - \\frac{7 Re v v_{y}^{2}}{24} - \\frac{Re v_{tt}}{12} - \\frac{Re v_{t} v_{y}}{4} + \\frac{5 p_{yyy}}{24} + \\frac{u_{y} v_{xy}}{3} + \\frac{v v_{yyy}}{24} + \\frac{v_{tyy}}{6} + \\frac{13 v_{xy} v_{x}}{24} + \\frac{5 v_{yy} v_{y}}{4} - \\frac{v_{yyyy}}{6 Re}$"
      ],
      "text/plain": [
       "Re**2*p_{y}*u**2/12 + Re**2*u**3*v_{x}/12 + Re**2*u**2*v*v_{y}/12 + Re**2*u**2*v_{t}/12 - Re*p_{ty}/12 + Re*p_{xy}*u/12 + 3*Re*p_{x}*v_{x}/4 - Re*p_{yy}*v/8 - Re*p_{y}*v_{y}/6 - Re*u**2*v_{yy}/12 - Re*u*v*v_{xy}/24 - 11*Re*u*v_{x}*v_{y}/12 + 2*Re*u_{t}*v_{x}/3 + 5*Re*u_{y}*v*v_{x}/8 - Re*v**2*v_{yy}/8 - 5*Re*v*v_{ty}/24 - 7*Re*v*v_{y}**2/24 - Re*v_{tt}/12 - Re*v_{t}*v_{y}/4 + 5*p_{yyy}/24 + u_{y}*v_{xy}/3 + v*v_{yyy}/24 + v_{tyy}/6 + 13*v_{xy}*v_{x}/24 + 5*v_{yy}*v_{y}/4 - v_{yyyy}/(6*Re)"
      ]
     },
     "metadata": {},
     "output_type": "display_data"
    },
    {
     "name": "stdout",
     "output_type": "stream",
     "text": [
      "p_{y} + u v_{x} + u_{x} v + 2 v v_{y} + v_{t} - \\frac{v_{xx}}{Re} - \\frac{v_{yy}}{Re}\n",
      "+\\tau\\big(\n",
      "p_{ty} + \\frac{v_{tt}}{2}\n",
      "\\big)\n",
      "+h^2\\big(\n",
      "\\frac{Re^{2} p_{y} u^{2}}{12} + \\frac{Re^{2} u^{3} v_{x}}{12} + \\frac{Re^{2} u^{2} v v_{y}}{12} + \\frac{Re^{2} u^{2} v_{t}}{12} - \\frac{Re p_{ty}}{12} + \\frac{Re p_{xy} u}{12} + \\frac{3 Re p_{x} v_{x}}{4} - \\frac{Re p_{yy} v}{8} - \\frac{Re p_{y} v_{y}}{6} - \\frac{Re u^{2} v_{yy}}{12} - \\frac{Re u v v_{xy}}{24} - \\frac{11 Re u v_{x} v_{y}}{12} + \\frac{2 Re u_{t} v_{x}}{3} + \\frac{5 Re u_{y} v v_{x}}{8} - \\frac{Re v^{2} v_{yy}}{8} - \\frac{5 Re v v_{ty}}{24} - \\frac{7 Re v v_{y}^{2}}{24} - \\frac{Re v_{tt}}{12} - \\frac{Re v_{t} v_{y}}{4} + \\frac{5 p_{yyy}}{24} + \\frac{u_{y} v_{xy}}{3} + \\frac{v v_{yyy}}{24} + \\frac{v_{tyy}}{6} + \\frac{13 v_{xy} v_{x}}{24} + \\frac{5 v_{yy} v_{y}}{4} - \\frac{v_{yyyy}}{6 Re}\n",
      "\\big)\n"
     ]
    },
    {
     "data": {
      "text/latex": [
       "$\\displaystyle 0$"
      ],
      "text/plain": [
       "0"
      ]
     },
     "metadata": {},
     "output_type": "display_data"
    },
    {
     "name": "stdout",
     "output_type": "stream",
     "text": [
      "tau =>\n"
     ]
    },
    {
     "data": {
      "text/latex": [
       "$\\displaystyle \\frac{2 \\left(- 2 Re \\sin{\\left(y \\right)} + e^{\\frac{2 t}{Re}} \\sin{\\left(x \\right)}\\right) e^{- \\frac{4 t}{Re}} \\cos{\\left(y \\right)}}{Re^{2}}$"
      ],
      "text/plain": [
       "2*(-2*Re*sin(y) + exp(2*t/Re)*sin(x))*exp(-4*t/Re)*cos(y)/Re**2"
      ]
     },
     "metadata": {},
     "output_type": "display_data"
    },
    {
     "name": "stdout",
     "output_type": "stream",
     "text": [
      "h^2 =>\n"
     ]
    },
    {
     "data": {
      "text/latex": [
       "$\\displaystyle \\frac{\\left(3 Re \\left(6 \\cos^{2}{\\left(x \\right)} - 1\\right) \\sin{\\left(y \\right)} - 4 e^{\\frac{2 t}{Re}} \\sin{\\left(x \\right)}\\right) e^{- \\frac{4 t}{Re}} \\cos{\\left(y \\right)}}{24 Re}$"
      ],
      "text/plain": [
       "(3*Re*(6*cos(x)**2 - 1)*sin(y) - 4*exp(2*t/Re)*sin(x))*exp(-4*t/Re)*cos(y)/(24*Re)"
      ]
     },
     "metadata": {},
     "output_type": "display_data"
    },
    {
     "name": "stdout",
     "output_type": "stream",
     "text": [
      "0\n",
      "+\\tau\\big(\n",
      "\\frac{2 \\left(- 2 Re \\sin{\\left(y \\right)} + e^{\\frac{2 t}{Re}} \\sin{\\left(x \\right)}\\right) e^{- \\frac{4 t}{Re}} \\cos{\\left(y \\right)}}{Re^{2}}\n",
      "\\big)\n",
      "+h^2\\big(\n",
      "\\frac{\\left(3 Re \\left(6 \\cos^{2}{\\left(x \\right)} - 1\\right) \\sin{\\left(y \\right)} - 4 e^{\\frac{2 t}{Re}} \\sin{\\left(x \\right)}\\right) e^{- \\frac{4 t}{Re}} \\cos{\\left(y \\right)}}{24 Re}\n",
      "\\big)\n"
     ]
    },
    {
     "data": {
      "text/latex": [
       "$\\displaystyle 0$"
      ],
      "text/plain": [
       "0"
      ]
     },
     "metadata": {},
     "output_type": "display_data"
    },
    {
     "name": "stdout",
     "output_type": "stream",
     "text": [
      "tau =>\n"
     ]
    },
    {
     "data": {
      "text/latex": [
       "$\\displaystyle 0$"
      ],
      "text/plain": [
       "0"
      ]
     },
     "metadata": {},
     "output_type": "display_data"
    },
    {
     "name": "stdout",
     "output_type": "stream",
     "text": [
      "h^2 =>\n"
     ]
    },
    {
     "data": {
      "text/latex": [
       "$\\displaystyle \\frac{\\left(7 Re^{4} \\left(- Re + \\sqrt{Re^{2} + 16 \\pi^{2}}\\right) e^{x \\left(Re + \\frac{11 \\sqrt{Re^{2} + 16 \\pi^{2}}}{2}\\right)} \\cos{\\left(2 \\pi y \\right)} + Re^{4} \\left(Re - \\sqrt{Re^{2} + 16 \\pi^{2}}\\right) e^{x \\left(\\frac{Re}{2} + 6 \\sqrt{Re^{2} + 16 \\pi^{2}}\\right)} + 8 \\pi^{2} Re \\left(- 13 Re^{2} + 6 Re \\sqrt{Re^{2} + 16 \\pi^{2}} - 20 \\pi^{2}\\right) e^{x \\left(Re + \\frac{11 \\sqrt{Re^{2} + 16 \\pi^{2}}}{2}\\right)} \\cos{\\left(2 \\pi y \\right)} + 4 \\pi^{2} Re \\left(3 Re^{2} - Re \\sqrt{Re^{2} + 16 \\pi^{2}} - 8 \\pi^{2}\\right) e^{x \\left(\\frac{Re}{2} + 6 \\sqrt{Re^{2} + 16 \\pi^{2}}\\right)} + 32 \\pi^{4} \\sqrt{Re^{2} + 16 \\pi^{2}} e^{\\frac{x \\left(Re + 12 \\sqrt{Re^{2} + 16 \\pi^{2}}\\right)}{2}}\\right) e^{- \\frac{13 x \\sqrt{Re^{2} + 16 \\pi^{2}}}{2}} \\sin{\\left(2 \\pi y \\right)}}{48 \\pi Re}$"
      ],
      "text/plain": [
       "(7*Re**4*(-Re + sqrt(Re**2 + 16*pi**2))*exp(x*(Re + 11*sqrt(Re**2 + 16*pi**2)/2))*cos(2*pi*y) + Re**4*(Re - sqrt(Re**2 + 16*pi**2))*exp(x*(Re/2 + 6*sqrt(Re**2 + 16*pi**2))) + 8*pi**2*Re*(-13*Re**2 + 6*Re*sqrt(Re**2 + 16*pi**2) - 20*pi**2)*exp(x*(Re + 11*sqrt(Re**2 + 16*pi**2)/2))*cos(2*pi*y) + 4*pi**2*Re*(3*Re**2 - Re*sqrt(Re**2 + 16*pi**2) - 8*pi**2)*exp(x*(Re/2 + 6*sqrt(Re**2 + 16*pi**2))) + 32*pi**4*sqrt(Re**2 + 16*pi**2)*exp(x*(Re + 12*sqrt(Re**2 + 16*pi**2))/2))*exp(-13*x*sqrt(Re**2 + 16*pi**2)/2)*sin(2*pi*y)/(48*pi*Re)"
      ]
     },
     "metadata": {},
     "output_type": "display_data"
    },
    {
     "name": "stdout",
     "output_type": "stream",
     "text": [
      "0\n",
      "+\\tau\\big(\n",
      "0\n",
      "\\big)\n",
      "+h^2\\big(\n",
      "\\frac{\\left(7 Re^{4} \\left(- Re + \\sqrt{Re^{2} + 16 \\pi^{2}}\\right) e^{x \\left(Re + \\frac{11 \\sqrt{Re^{2} + 16 \\pi^{2}}}{2}\\right)} \\cos{\\left(2 \\pi y \\right)} + Re^{4} \\left(Re - \\sqrt{Re^{2} + 16 \\pi^{2}}\\right) e^{x \\left(\\frac{Re}{2} + 6 \\sqrt{Re^{2} + 16 \\pi^{2}}\\right)} + 8 \\pi^{2} Re \\left(- 13 Re^{2} + 6 Re \\sqrt{Re^{2} + 16 \\pi^{2}} - 20 \\pi^{2}\\right) e^{x \\left(Re + \\frac{11 \\sqrt{Re^{2} + 16 \\pi^{2}}}{2}\\right)} \\cos{\\left(2 \\pi y \\right)} + 4 \\pi^{2} Re \\left(3 Re^{2} - Re \\sqrt{Re^{2} + 16 \\pi^{2}} - 8 \\pi^{2}\\right) e^{x \\left(\\frac{Re}{2} + 6 \\sqrt{Re^{2} + 16 \\pi^{2}}\\right)} + 32 \\pi^{4} \\sqrt{Re^{2} + 16 \\pi^{2}} e^{\\frac{x \\left(Re + 12 \\sqrt{Re^{2} + 16 \\pi^{2}}\\right)}{2}}\\right) e^{- \\frac{13 x \\sqrt{Re^{2} + 16 \\pi^{2}}}{2}} \\sin{\\left(2 \\pi y \\right)}}{48 \\pi Re}\n",
      "\\big)\n"
     ]
    },
    {
     "data": {
      "text/latex": [
       "$\\displaystyle p_{xx} + p_{yy} + 2 u u_{xx} + 2 u v_{xy} + 2 u_{xy} v + 2 u_{x}^{2} + 2 u_{x} v_{y} + 2 u_{y} v_{x} + 2 v v_{yy} + 2 v_{y}^{2} - \\frac{u_{xxx}}{Re} - \\frac{u_{xyy}}{Re} - \\frac{v_{xxy}}{Re} - \\frac{v_{yyy}}{Re}$"
      ],
      "text/plain": [
       "p_{xx} + p_{yy} + 2*u*u_{xx} + 2*u*v_{xy} + 2*u_{xy}*v + 2*u_{x}**2 + 2*u_{x}*v_{y} + 2*u_{y}*v_{x} + 2*v*v_{yy} + 2*v_{y}**2 - u_{xxx}/Re - u_{xyy}/Re - v_{xxy}/Re - v_{yyy}/Re"
      ]
     },
     "metadata": {},
     "output_type": "display_data"
    },
    {
     "name": "stdout",
     "output_type": "stream",
     "text": [
      "tau =>\n"
     ]
    },
    {
     "data": {
      "text/latex": [
       "$\\displaystyle p_{txx} + p_{tyy}$"
      ],
      "text/plain": [
       "p_{txx} + p_{tyy}"
      ]
     },
     "metadata": {},
     "output_type": "display_data"
    },
    {
     "name": "stdout",
     "output_type": "stream",
     "text": [
      "h^2 =>\n"
     ]
    },
    {
     "data": {
      "text/latex": [
       "$\\displaystyle \\frac{p_{xxxx}}{12} + \\frac{p_{yyyy}}{12} + \\frac{5 u u_{xxxx}}{12} + \\frac{17 u v_{xxxy}}{24} + \\frac{u v_{xyyy}}{12} + \\frac{u_{xxxy} v}{12} + \\frac{7 u_{xxx} u_{x}}{6} + \\frac{u_{xxx} v_{y}}{12} + \\frac{u_{xxy} v_{x}}{4} + \\frac{3 u_{xx}^{2}}{4} + \\frac{u_{xx} v_{xy}}{4} + \\frac{17 u_{xyyy} v}{24} + \\frac{7 u_{xyy} v_{y}}{8} + \\frac{7 u_{xy} v_{xx}}{8} + \\frac{u_{xy} v_{yy}}{4} + \\frac{7 u_{x} v_{xxy}}{8} + \\frac{u_{x} v_{yyy}}{12} + \\frac{17 u_{yyy} v_{x}}{24} + \\frac{7 u_{yy} v_{xy}}{8} + \\frac{17 u_{y} v_{xxx}}{24} + \\frac{u_{y} v_{xyy}}{4} + \\frac{5 v v_{yyyy}}{12} + \\frac{7 v_{yyy} v_{y}}{6} + \\frac{3 v_{yy}^{2}}{4}$"
      ],
      "text/plain": [
       "p_{xxxx}/12 + p_{yyyy}/12 + 5*u*u_{xxxx}/12 + 17*u*v_{xxxy}/24 + u*v_{xyyy}/12 + u_{xxxy}*v/12 + 7*u_{xxx}*u_{x}/6 + u_{xxx}*v_{y}/12 + u_{xxy}*v_{x}/4 + 3*u_{xx}**2/4 + u_{xx}*v_{xy}/4 + 17*u_{xyyy}*v/24 + 7*u_{xyy}*v_{y}/8 + 7*u_{xy}*v_{xx}/8 + u_{xy}*v_{yy}/4 + 7*u_{x}*v_{xxy}/8 + u_{x}*v_{yyy}/12 + 17*u_{yyy}*v_{x}/24 + 7*u_{yy}*v_{xy}/8 + 17*u_{y}*v_{xxx}/24 + u_{y}*v_{xyy}/4 + 5*v*v_{yyyy}/12 + 7*v_{yyy}*v_{y}/6 + 3*v_{yy}**2/4"
      ]
     },
     "metadata": {},
     "output_type": "display_data"
    },
    {
     "name": "stdout",
     "output_type": "stream",
     "text": [
      "-------------------------\n"
     ]
    },
    {
     "data": {
      "text/latex": [
       "$\\displaystyle p_{xx} + p_{yy} + 2 u u_{xx} + 2 u v_{xy} + 2 u_{xy} v + 2 u_{x}^{2} + 2 u_{x} v_{y} + 2 u_{y} v_{x} + 2 v v_{yy} + 2 v_{y}^{2} - \\frac{u_{xxx}}{Re} - \\frac{u_{xyy}}{Re} - \\frac{v_{xxy}}{Re} - \\frac{v_{yyy}}{Re}$"
      ],
      "text/plain": [
       "p_{xx} + p_{yy} + 2*u*u_{xx} + 2*u*v_{xy} + 2*u_{xy}*v + 2*u_{x}**2 + 2*u_{x}*v_{y} + 2*u_{y}*v_{x} + 2*v*v_{yy} + 2*v_{y}**2 - u_{xxx}/Re - u_{xyy}/Re - v_{xxy}/Re - v_{yyy}/Re"
      ]
     },
     "metadata": {},
     "output_type": "display_data"
    },
    {
     "name": "stdout",
     "output_type": "stream",
     "text": [
      "tau =>\n"
     ]
    },
    {
     "data": {
      "text/latex": [
       "$\\displaystyle - 2 u_{ty} v_{x} - 2 u_{y} v_{tx} - 4 v_{ty} v_{y}$"
      ],
      "text/plain": [
       "-2*u_{ty}*v_{x} - 2*u_{y}*v_{tx} - 4*v_{ty}*v_{y}"
      ]
     },
     "metadata": {},
     "output_type": "display_data"
    },
    {
     "name": "stdout",
     "output_type": "stream",
     "text": [
      "h^2 =>\n"
     ]
    },
    {
     "data": {
      "text/latex": [
       "$\\displaystyle \\frac{19 Re^{2} p_{x} v v_{x}}{24} + \\frac{7 Re^{2} p_{yy} u^{2}}{24} + \\frac{5 Re^{2} p_{y} u u_{y}}{6} + \\frac{7 Re^{2} u^{3} v_{xy}}{24} + \\frac{9 Re^{2} u^{2} u_{y} v_{x}}{8} + \\frac{7 Re^{2} u^{2} v v_{yy}}{24} + \\frac{7 Re^{2} u^{2} v_{ty}}{24} + \\frac{7 Re^{2} u^{2} v_{y}^{2}}{24} + \\frac{5 Re^{2} u u_{y} v v_{y}}{6} + \\frac{5 Re^{2} u u_{y} v_{t}}{6} - \\frac{19 Re^{2} u v v_{x} v_{y}}{24} + \\frac{19 Re^{2} u_{t} v v_{x}}{24} + \\frac{19 Re^{2} u_{y} v^{2} v_{x}}{24} + \\frac{7 Re p_{xyy} u}{24} + \\frac{13 Re p_{xy} u_{y}}{24} + \\frac{7 Re p_{xy} v_{x}}{8} + \\frac{29 Re p_{x} v_{xy}}{24} - \\frac{Re p_{yyy} v}{12} - \\frac{Re p_{yy} v_{y}}{8} - \\frac{13 Re p_{y} v_{yy}}{24} - \\frac{7 Re u^{2} v_{yyy}}{24} - \\frac{5 Re u u_{y} v_{yy}}{6} + \\frac{5 Re u v v_{xyy}}{24} + \\frac{7 Re u v_{txy}}{24} - \\frac{25 Re u v_{xy} v_{y}}{24} - \\frac{17 Re u v_{x} v_{yy}}{12} + \\frac{7 Re u_{ty} v_{x}}{8} + \\frac{29 Re u_{t} v_{xy}}{24} + \\frac{19 Re u_{y} v v_{xy}}{12} + \\frac{13 Re u_{y} v_{tx}}{24} - \\frac{Re u_{y} v_{x} v_{y}}{8} - \\frac{Re v^{2} v_{yyy}}{12} - \\frac{Re v v_{tyy}}{12} + \\frac{19 Re v v_{xy} v_{x}}{24} - \\frac{11 Re v v_{yy} v_{y}}{12} - \\frac{Re v_{ty} v_{y}}{8} - \\frac{13 Re v_{t} v_{yy}}{24} - \\frac{Re v_{y}^{3}}{8} + \\frac{p_{yyyy}}{6} - \\frac{5 u v_{xyyy}}{24} + 2 u_{tty} v_{x} + 4 u_{ty} v_{tx} + 2 u_{y} v_{ttx} - \\frac{u_{y} v_{xyy}}{8} - \\frac{5 v v_{yyyy}}{24} + 4 v_{tty} v_{y} + 4 v_{ty}^{2} + \\frac{19 v_{xyy} v_{x}}{24} + \\frac{11 v_{xy}^{2}}{8} + \\frac{2 v_{yyy} v_{y}}{3} + \\frac{11 v_{yy}^{2}}{8}$"
      ],
      "text/plain": [
       "19*Re**2*p_{x}*v*v_{x}/24 + 7*Re**2*p_{yy}*u**2/24 + 5*Re**2*p_{y}*u*u_{y}/6 + 7*Re**2*u**3*v_{xy}/24 + 9*Re**2*u**2*u_{y}*v_{x}/8 + 7*Re**2*u**2*v*v_{yy}/24 + 7*Re**2*u**2*v_{ty}/24 + 7*Re**2*u**2*v_{y}**2/24 + 5*Re**2*u*u_{y}*v*v_{y}/6 + 5*Re**2*u*u_{y}*v_{t}/6 - 19*Re**2*u*v*v_{x}*v_{y}/24 + 19*Re**2*u_{t}*v*v_{x}/24 + 19*Re**2*u_{y}*v**2*v_{x}/24 + 7*Re*p_{xyy}*u/24 + 13*Re*p_{xy}*u_{y}/24 + 7*Re*p_{xy}*v_{x}/8 + 29*Re*p_{x}*v_{xy}/24 - Re*p_{yyy}*v/12 - Re*p_{yy}*v_{y}/8 - 13*Re*p_{y}*v_{yy}/24 - 7*Re*u**2*v_{yyy}/24 - 5*Re*u*u_{y}*v_{yy}/6 + 5*Re*u*v*v_{xyy}/24 + 7*Re*u*v_{txy}/24 - 25*Re*u*v_{xy}*v_{y}/24 - 17*Re*u*v_{x}*v_{yy}/12 + 7*Re*u_{ty}*v_{x}/8 + 29*Re*u_{t}*v_{xy}/24 + 19*Re*u_{y}*v*v_{xy}/12 + 13*Re*u_{y}*v_{tx}/24 - Re*u_{y}*v_{x}*v_{y}/8 - Re*v**2*v_{yyy}/12 - Re*v*v_{tyy}/12 + 19*Re*v*v_{xy}*v_{x}/24 - 11*Re*v*v_{yy}*v_{y}/12 - Re*v_{ty}*v_{y}/8 - 13*Re*v_{t}*v_{yy}/24 - Re*v_{y}**3/8 + p_{yyyy}/6 - 5*u*v_{xyyy}/24 + 2*u_{tty}*v_{x} + 4*u_{ty}*v_{tx} + 2*u_{y}*v_{ttx} - u_{y}*v_{xyy}/8 - 5*v*v_{yyyy}/24 + 4*v_{tty}*v_{y} + 4*v_{ty}**2 + 19*v_{xyy}*v_{x}/24 + 11*v_{xy}**2/8 + 2*v_{yyy}*v_{y}/3 + 11*v_{yy}**2/8"
      ]
     },
     "metadata": {},
     "output_type": "display_data"
    },
    {
     "name": "stdout",
     "output_type": "stream",
     "text": [
      "p_{xx} + p_{yy} + 2 u u_{xx} + 2 u v_{xy} + 2 u_{xy} v + 2 u_{x}^{2} + 2 u_{x} v_{y} + 2 u_{y} v_{x} + 2 v v_{yy} + 2 v_{y}^{2} - \\frac{u_{xxx}}{Re} - \\frac{u_{xyy}}{Re} - \\frac{v_{xxy}}{Re} - \\frac{v_{yyy}}{Re}\n",
      "+\\tau\\big(\n",
      "- 2 u_{ty} v_{x} - 2 u_{y} v_{tx} - 4 v_{ty} v_{y}\n",
      "\\big)\n",
      "+h^2\\big(\n",
      "\\frac{19 Re^{2} p_{x} v v_{x}}{24} + \\frac{7 Re^{2} p_{yy} u^{2}}{24} + \\frac{5 Re^{2} p_{y} u u_{y}}{6} + \\frac{7 Re^{2} u^{3} v_{xy}}{24} + \\frac{9 Re^{2} u^{2} u_{y} v_{x}}{8} + \\frac{7 Re^{2} u^{2} v v_{yy}}{24} + \\frac{7 Re^{2} u^{2} v_{ty}}{24} + \\frac{7 Re^{2} u^{2} v_{y}^{2}}{24} + \\frac{5 Re^{2} u u_{y} v v_{y}}{6} + \\frac{5 Re^{2} u u_{y} v_{t}}{6} - \\frac{19 Re^{2} u v v_{x} v_{y}}{24} + \\frac{19 Re^{2} u_{t} v v_{x}}{24} + \\frac{19 Re^{2} u_{y} v^{2} v_{x}}{24} + \\frac{7 Re p_{xyy} u}{24} + \\frac{13 Re p_{xy} u_{y}}{24} + \\frac{7 Re p_{xy} v_{x}}{8} + \\frac{29 Re p_{x} v_{xy}}{24} - \\frac{Re p_{yyy} v}{12} - \\frac{Re p_{yy} v_{y}}{8} - \\frac{13 Re p_{y} v_{yy}}{24} - \\frac{7 Re u^{2} v_{yyy}}{24} - \\frac{5 Re u u_{y} v_{yy}}{6} + \\frac{5 Re u v v_{xyy}}{24} + \\frac{7 Re u v_{txy}}{24} - \\frac{25 Re u v_{xy} v_{y}}{24} - \\frac{17 Re u v_{x} v_{yy}}{12} + \\frac{7 Re u_{ty} v_{x}}{8} + \\frac{29 Re u_{t} v_{xy}}{24} + \\frac{19 Re u_{y} v v_{xy}}{12} + \\frac{13 Re u_{y} v_{tx}}{24} - \\frac{Re u_{y} v_{x} v_{y}}{8} - \\frac{Re v^{2} v_{yyy}}{12} - \\frac{Re v v_{tyy}}{12} + \\frac{19 Re v v_{xy} v_{x}}{24} - \\frac{11 Re v v_{yy} v_{y}}{12} - \\frac{Re v_{ty} v_{y}}{8} - \\frac{13 Re v_{t} v_{yy}}{24} - \\frac{Re v_{y}^{3}}{8} + \\frac{p_{yyyy}}{6} - \\frac{5 u v_{xyyy}}{24} + 2 u_{tty} v_{x} + 4 u_{ty} v_{tx} + 2 u_{y} v_{ttx} - \\frac{u_{y} v_{xyy}}{8} - \\frac{5 v v_{yyyy}}{24} + 4 v_{tty} v_{y} + 4 v_{ty}^{2} + \\frac{19 v_{xyy} v_{x}}{24} + \\frac{11 v_{xy}^{2}}{8} + \\frac{2 v_{yyy} v_{y}}{3} + \\frac{11 v_{yy}^{2}}{8}\n",
      "\\big)\n"
     ]
    },
    {
     "data": {
      "text/latex": [
       "$\\displaystyle 0$"
      ],
      "text/plain": [
       "0"
      ]
     },
     "metadata": {},
     "output_type": "display_data"
    },
    {
     "name": "stdout",
     "output_type": "stream",
     "text": [
      "tau =>\n"
     ]
    },
    {
     "data": {
      "text/latex": [
       "$\\displaystyle - \\frac{\\left(4 \\cos{\\left(2 x \\right)} + 4 \\cos{\\left(2 y \\right)}\\right) e^{- \\frac{4 t}{Re}}}{Re}$"
      ],
      "text/plain": [
       "-(4*cos(2*x) + 4*cos(2*y))*exp(-4*t/Re)/Re"
      ]
     },
     "metadata": {},
     "output_type": "display_data"
    },
    {
     "name": "stdout",
     "output_type": "stream",
     "text": [
      "h^2 =>\n"
     ]
    },
    {
     "data": {
      "text/latex": [
       "$\\displaystyle \\frac{\\left(12 Re^{2} \\sin^{2}{\\left(x \\right)} \\sin^{2}{\\left(y \\right)} - 8 Re^{2} \\sin^{2}{\\left(x \\right)} - 8 Re^{2} \\sin^{2}{\\left(y \\right)} + 5 Re^{2} - 64 \\cos{\\left(2 x \\right)} - 64 \\cos{\\left(2 y \\right)}\\right) e^{- \\frac{4 t}{Re}}}{4 Re^{2}}$"
      ],
      "text/plain": [
       "(12*Re**2*sin(x)**2*sin(y)**2 - 8*Re**2*sin(x)**2 - 8*Re**2*sin(y)**2 + 5*Re**2 - 64*cos(2*x) - 64*cos(2*y))*exp(-4*t/Re)/(4*Re**2)"
      ]
     },
     "metadata": {},
     "output_type": "display_data"
    },
    {
     "name": "stdout",
     "output_type": "stream",
     "text": [
      "0\n",
      "+\\tau\\big(\n",
      "- \\frac{\\left(4 \\cos{\\left(2 x \\right)} + 4 \\cos{\\left(2 y \\right)}\\right) e^{- \\frac{4 t}{Re}}}{Re}\n",
      "\\big)\n",
      "+h^2\\big(\n",
      "\\frac{\\left(12 Re^{2} \\sin^{2}{\\left(x \\right)} \\sin^{2}{\\left(y \\right)} - 8 Re^{2} \\sin^{2}{\\left(x \\right)} - 8 Re^{2} \\sin^{2}{\\left(y \\right)} + 5 Re^{2} - 64 \\cos{\\left(2 x \\right)} - 64 \\cos{\\left(2 y \\right)}\\right) e^{- \\frac{4 t}{Re}}}{4 Re^{2}}\n",
      "\\big)\n"
     ]
    },
    {
     "data": {
      "text/latex": [
       "$\\displaystyle 0$"
      ],
      "text/plain": [
       "0"
      ]
     },
     "metadata": {},
     "output_type": "display_data"
    },
    {
     "name": "stdout",
     "output_type": "stream",
     "text": [
      "tau =>\n"
     ]
    },
    {
     "data": {
      "text/latex": [
       "$\\displaystyle 0$"
      ],
      "text/plain": [
       "0"
      ]
     },
     "metadata": {},
     "output_type": "display_data"
    },
    {
     "name": "stdout",
     "output_type": "stream",
     "text": [
      "h^2 =>\n"
     ]
    },
    {
     "data": {
      "text/latex": [
       "$\\displaystyle \\frac{\\left(\\left(7 Re^{4} - 7 Re^{3} \\sqrt{Re^{2} + 16 \\pi^{2}} + 104 \\pi^{2} Re^{2} - 48 \\pi^{2} Re \\sqrt{Re^{2} + 16 \\pi^{2}} + 160 \\pi^{4}\\right) e^{\\frac{x \\left(Re + 13 \\sqrt{Re^{2} + 16 \\pi^{2}}\\right)}{2}} \\cos{\\left(2 \\pi y \\right)} + 6 \\left(- 24 Re^{4} \\sin^{4}{\\left(\\pi y \\right)} + 24 Re^{4} \\sin^{2}{\\left(\\pi y \\right)} - Re^{4} + 24 Re^{3} \\sqrt{Re^{2} + 16 \\pi^{2}} \\sin^{4}{\\left(\\pi y \\right)} - 24 Re^{3} \\sqrt{Re^{2} + 16 \\pi^{2}} \\sin^{2}{\\left(\\pi y \\right)} + Re^{3} \\sqrt{Re^{2} + 16 \\pi^{2}} - 288 \\pi^{2} Re^{2} \\sin^{4}{\\left(\\pi y \\right)} + 288 \\pi^{2} Re^{2} \\sin^{2}{\\left(\\pi y \\right)} - 4 \\pi^{2} Re^{2} + 96 \\pi^{2} Re \\sqrt{Re^{2} + 16 \\pi^{2}} \\sin^{4}{\\left(\\pi y \\right)} - 96 \\pi^{2} Re \\sqrt{Re^{2} + 16 \\pi^{2}} \\sin^{2}{\\left(\\pi y \\right)} - 4 \\pi^{2} Re \\sqrt{Re^{2} + 16 \\pi^{2}} + 64 \\pi^{4}\\right) e^{x \\left(Re + 6 \\sqrt{Re^{2} + 16 \\pi^{2}}\\right)}\\right) e^{- 7 x \\sqrt{Re^{2} + 16 \\pi^{2}}}}{48}$"
      ],
      "text/plain": [
       "((7*Re**4 - 7*Re**3*sqrt(Re**2 + 16*pi**2) + 104*pi**2*Re**2 - 48*pi**2*Re*sqrt(Re**2 + 16*pi**2) + 160*pi**4)*exp(x*(Re + 13*sqrt(Re**2 + 16*pi**2))/2)*cos(2*pi*y) + 6*(-24*Re**4*sin(pi*y)**4 + 24*Re**4*sin(pi*y)**2 - Re**4 + 24*Re**3*sqrt(Re**2 + 16*pi**2)*sin(pi*y)**4 - 24*Re**3*sqrt(Re**2 + 16*pi**2)*sin(pi*y)**2 + Re**3*sqrt(Re**2 + 16*pi**2) - 288*pi**2*Re**2*sin(pi*y)**4 + 288*pi**2*Re**2*sin(pi*y)**2 - 4*pi**2*Re**2 + 96*pi**2*Re*sqrt(Re**2 + 16*pi**2)*sin(pi*y)**4 - 96*pi**2*Re*sqrt(Re**2 + 16*pi**2)*sin(pi*y)**2 - 4*pi**2*Re*sqrt(Re**2 + 16*pi**2) + 64*pi**4)*exp(x*(Re + 6*sqrt(Re**2 + 16*pi**2))))*exp(-7*x*sqrt(Re**2 + 16*pi**2))/48"
      ]
     },
     "metadata": {},
     "output_type": "display_data"
    },
    {
     "name": "stdout",
     "output_type": "stream",
     "text": [
      "0\n",
      "+\\tau\\big(\n",
      "0\n",
      "\\big)\n",
      "+h^2\\big(\n",
      "\\frac{\\left(\\left(7 Re^{4} - 7 Re^{3} \\sqrt{Re^{2} + 16 \\pi^{2}} + 104 \\pi^{2} Re^{2} - 48 \\pi^{2} Re \\sqrt{Re^{2} + 16 \\pi^{2}} + 160 \\pi^{4}\\right) e^{\\frac{x \\left(Re + 13 \\sqrt{Re^{2} + 16 \\pi^{2}}\\right)}{2}} \\cos{\\left(2 \\pi y \\right)} + 6 \\left(- 24 Re^{4} \\sin^{4}{\\left(\\pi y \\right)} + 24 Re^{4} \\sin^{2}{\\left(\\pi y \\right)} - Re^{4} + 24 Re^{3} \\sqrt{Re^{2} + 16 \\pi^{2}} \\sin^{4}{\\left(\\pi y \\right)} - 24 Re^{3} \\sqrt{Re^{2} + 16 \\pi^{2}} \\sin^{2}{\\left(\\pi y \\right)} + Re^{3} \\sqrt{Re^{2} + 16 \\pi^{2}} - 288 \\pi^{2} Re^{2} \\sin^{4}{\\left(\\pi y \\right)} + 288 \\pi^{2} Re^{2} \\sin^{2}{\\left(\\pi y \\right)} - 4 \\pi^{2} Re^{2} + 96 \\pi^{2} Re \\sqrt{Re^{2} + 16 \\pi^{2}} \\sin^{4}{\\left(\\pi y \\right)} - 96 \\pi^{2} Re \\sqrt{Re^{2} + 16 \\pi^{2}} \\sin^{2}{\\left(\\pi y \\right)} - 4 \\pi^{2} Re \\sqrt{Re^{2} + 16 \\pi^{2}} + 64 \\pi^{4}\\right) e^{x \\left(Re + 6 \\sqrt{Re^{2} + 16 \\pi^{2}}\\right)}\\right) e^{- 7 x \\sqrt{Re^{2} + 16 \\pi^{2}}}}{48}\n",
      "\\big)\n"
     ]
    },
    {
     "data": {
      "text/latex": [
       "$\\displaystyle 0$"
      ],
      "text/plain": [
       "0"
      ]
     },
     "metadata": {},
     "output_type": "display_data"
    },
    {
     "name": "stdout",
     "output_type": "stream",
     "text": [
      "tau =>\n"
     ]
    },
    {
     "data": {
      "text/latex": [
       "$\\displaystyle 0$"
      ],
      "text/plain": [
       "0"
      ]
     },
     "metadata": {},
     "output_type": "display_data"
    },
    {
     "name": "stdout",
     "output_type": "stream",
     "text": [
      "h^2 =>\n"
     ]
    },
    {
     "data": {
      "text/latex": [
       "$\\displaystyle 0$"
      ],
      "text/plain": [
       "0"
      ]
     },
     "metadata": {},
     "output_type": "display_data"
    },
    {
     "name": "stdout",
     "output_type": "stream",
     "text": [
      "0\n",
      "+\\tau\\big(\n",
      "0\n",
      "\\big)\n",
      "+h^2\\big(\n",
      "0\n",
      "\\big)\n"
     ]
    }
   ],
   "source": [
    "p12 = Rational(1, 2)\n",
    "def F(j):\n",
    "    return T(u, 0, j, 0) + tau/h*(\\\n",
    "        (T(u, 0, j+1, 0) - 2*T(u, 0, j, 0) + T(u, 0, j-1, 0))/(Re*h) +\\\n",
    "        (T(u, 0, j, 1) -   2*T(u, 0, j, 0) + T(u, 0, j, -1))/(Re*h) -\\\n",
    "        ((T(u, 0, j+1, 0) + T(u, 0, j, 0))**2 - (T(u, 0, j, 0) + T(u, 0, j-1, 0))**2)/4 -\\\n",
    "        ((T(u, 0, j, 1) + T(u, 0, j, 0)) *(T(v, 0, j+1, p12)  + T(v, 0, j-1, p12)) -\\\n",
    "         (T(u, 0, j, 0) + T(u, 0, j, -1))*(T(v, 0, j+1, -p12) + T(v, 0, j-1, -p12)))/4)\n",
    "\n",
    "def G(k):\n",
    "    return T(v, 0, 0, k) + tau/h*(\\\n",
    "        (T(v, 0, 1, k) -   2*T(v, 0, 0, k) + T(v, 0, -1, k))/(Re*h) +\\\n",
    "        (T(v, 0, 0, k+1) - 2*T(v, 0, 0, k) + T(v, 0, 0, k-1))/(Re*h) -\\\n",
    "        ((T(u, 0, p12, k+1)  + T(u, 0, p12, k-1))* (T(v, 0, 1, k) + T(v, 0, 0, k)) -\\\n",
    "         (T(u, 0, -p12, k+1) + T(u, 0, -p12, k-1))*(T(v, 0, 0, k) + T(v, 0, -1, k)))/4 -\\\n",
    "        ((T(v, 0, 0, k+1) + T(v, 0, 0, k))**2 - (T(v, 0, 0, k) + T(v, 0, 0, k-1))**2)/4)\n",
    "\n",
    "F1 = clip(((T(u, 0, p12, 0) - T(u, 1, -p12, 0)) +\\\n",
    "           (T(v, 0, 0, p12) - T(v, 1, 0, -p12)))/h)\n",
    "F2 = clip((T(u, 1, p12, 0) - F(p12))/tau +\\\n",
    "          (T(p, 1, 1, 0) - T(p, 1, 0, 0))/h)\n",
    "F3 = clip((T(v, 1, 0, p12) - G(p12))/tau +\\\n",
    "          (T(p, 1, 0, 1) - T(p, 1, 0, 0))/h)\n",
    "F4 = clip((T(p, 1, 1, 0) - 2*T(p, 1, 0, 0) + T(p, 1, -1, 0))/h**2 +\\\n",
    "          (T(p, 1, 0, 1) - 2*T(p, 1, 0, 0) + T(p, 1, 0, -1))/h**2 -\\\n",
    "         ((F(p12) - F(-p12)) + (G(p12) - G(-p12)))/(tau*h))\n",
    "build(F1, F2, F3, F4)"
   ]
  },
  {
   "cell_type": "code",
   "execution_count": null,
   "metadata": {},
   "outputs": [],
   "source": []
  }
 ],
 "metadata": {
  "kernelspec": {
   "display_name": "Python 3",
   "language": "python",
   "name": "python3"
  },
  "language_info": {
   "codemirror_mode": {
    "name": "ipython",
    "version": 3
   },
   "file_extension": ".py",
   "mimetype": "text/x-python",
   "name": "python",
   "nbconvert_exporter": "python",
   "pygments_lexer": "ipython3",
   "version": "3.8.10"
  }
 },
 "nbformat": 4,
 "nbformat_minor": 5
}
