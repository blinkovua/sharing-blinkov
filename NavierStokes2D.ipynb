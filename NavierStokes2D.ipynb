{
 "cells": [
  {
   "cell_type": "code",
   "execution_count": 1,
   "metadata": {},
   "outputs": [],
   "source": [
    "from IPython.display import display\n",
    "import itertools\n",
    "\n",
    "import pylab as plt\n",
    "%matplotlib inline\n",
    "\n",
    "from sympy import *\n",
    "\n",
    "from monom import *"
   ]
  },
  {
   "cell_type": "code",
   "execution_count": 2,
   "metadata": {},
   "outputs": [],
   "source": [
    "t, x, y, tau, h, Re, p0, Lambda = symbols(r't, x, y, tau, h, Re, p_0, lambda', real=True)\n",
    "u, v, p = (f(t, x, y) for f in symbols('u, v, p', cls=Function))"
   ]
  },
  {
   "cell_type": "code",
   "execution_count": 3,
   "metadata": {},
   "outputs": [],
   "source": [
    "pda_f, pda_v = (u, v, p), (t, x, y)\n",
    "pda_n, pda_clp = 5, 3\n",
    "pda_p = Rational(0, 1), Rational(0, 1), Rational(0, 1)"
   ]
  },
  {
   "cell_type": "code",
   "execution_count": 4,
   "metadata": {},
   "outputs": [],
   "source": [
    "Monom.variables = 1 + len(pda_v)\n",
    "Monom.cmp = Monom.TOPdeglex\n",
    "Monom.zero = Monom(0 for v in range(Monom.variables))\n",
    "pda_fun = dict(zip(pda_f,\\\n",
    "             (Monom(0 if v else i for v in range(Monom.variables))\\\n",
    "              for i in range(1, 1 + len(pda_f)))))\n",
    "pda_var = dict(zip(pda_v,\\\n",
    "             (Monom(0 if v != i else 1 for v in range(Monom.variables))\\\n",
    "              for i in range(1, Monom.variables))))"
   ]
  },
  {
   "cell_type": "code",
   "execution_count": 5,
   "metadata": {},
   "outputs": [],
   "source": [
    "def T(f, i1, j1, k1):\n",
    "    return sum(sum(sum(\\\n",
    "        diff(f, t, i, x, j, y, k)*(tau*(i1+pda_p[0]))**i \\\n",
    "                                   *(h*(j1+pda_p[1]))**j \\\n",
    "                                   *(h*(k1+pda_p[2]))**k/\\\n",
    "                 (factorial(i)*factorial(j)*factorial(k))\\\n",
    "        for i in range(pda_n-j-k))\\\n",
    "        for k in range(pda_n-j))  \\\n",
    "        for j in range(pda_n))"
   ]
  },
  {
   "cell_type": "code",
   "execution_count": 6,
   "metadata": {},
   "outputs": [
    {
     "data": {
      "text/latex": [
       "$\\displaystyle \\frac{h^{2} \\frac{\\partial^{3}}{\\partial y^{3}} u{\\left(t,x,y \\right)}}{6} + \\frac{\\partial}{\\partial y} u{\\left(t,x,y \\right)}$"
      ],
      "text/plain": [
       "h**2*Derivative(u(t, x, y), (y, 3))/6 + Derivative(u(t, x, y), y)"
      ]
     },
     "execution_count": 6,
     "metadata": {},
     "output_type": "execute_result"
    }
   ],
   "source": [
    "expand((T(u, 0, 0, 1)-T(u, 0, 0, -1))/(2*h))"
   ]
  },
  {
   "cell_type": "code",
   "execution_count": 7,
   "metadata": {},
   "outputs": [],
   "source": [
    "def clip(f):\n",
    "    f = f.expand()\n",
    "    return [f.coeff(tau, 0).coeff(h, 0),\\\n",
    "            f.coeff(h, 0).coeff(tau, 1),\\\n",
    "            f.coeff(tau, 0).coeff(h, 2)]\n",
    "\n",
    "def df2m(a):\n",
    "    assert a.func == Derivative\n",
    "    m = pda_fun[a.args[0]]\n",
    "    for xi in a.args[1:]:\n",
    "        if isinstance(xi, Symbol):\n",
    "            m = m*pda_var[xi]\n",
    "        else:\n",
    "            m = m*pda_var[xi[0]]**xi[1]\n",
    "    return m\n",
    "\n",
    "def m2df(m):\n",
    "    r = pda_f[m[0]-1]\n",
    "    for i in range(1, len(m)):\n",
    "        r = r.diff(pda_v[i-1], m[i])\n",
    "    return r\n",
    "\n",
    "def findDiv(a, d):\n",
    "    r = None\n",
    "    def find(a, r):\n",
    "        if a.args:\n",
    "            if a.func == Derivative and a.args[0] in pda_fun:\n",
    "                m = df2m(a)\n",
    "                if m.divisible(d) and (not r or m.cmp(r) > 0):\n",
    "                    r = m\n",
    "            else:\n",
    "                for s in a.args:\n",
    "                    r = find(s, r)\n",
    "        return r\n",
    "    return find(a, r)\n",
    "\n",
    "def reduction(f1, f2, m, c, shift):\n",
    "    assert shift < pda_clp\n",
    "    r = [f1[i] for i in range(shift)]\n",
    "    if not m:\n",
    "        for i in range(shift, pda_clp):\n",
    "            r.append(expand(f1[i] - f2[i-shift]*c))\n",
    "    else:\n",
    "        for i in range(shift, pda_clp):\n",
    "            r.append(expand(f1[i] - f2[i-shift].diff(*m)*c))\n",
    "    return r\n",
    "\n",
    "def NF(f, df, G, head=False, trace=False):\n",
    "    assert len(df) == len(G)\n",
    "#     print(df2m(df[0]))\n",
    "    ms = [df2m(d) for d in df]\n",
    "    for i in range(0 if head else 1, pda_clp):\n",
    "        t = 0\n",
    "        if f[i]:\n",
    "            while True:\n",
    "                r = None\n",
    "                for l in range(len(ms)):\n",
    "                    r = findDiv(f[i], ms[l])\n",
    "                    if r:\n",
    "                        break\n",
    "                if not r: \n",
    "                    break\n",
    "                c, deg, m = 0, 7, m2df(r)\n",
    "                while c == 0:\n",
    "                    c = f[i].coeff(m, deg)\n",
    "                    deg -= 1\n",
    "                    assert deg >= 0\n",
    "#                 print(c, m, deg+1)\n",
    "                if deg:\n",
    "                    c *= m**deg\n",
    "                m = r/ms[l]\n",
    "                d = []\n",
    "                for k in range(len(pda_v)):\n",
    "                    if m[k+1] > 0:\n",
    "                        d.append(pda_v[k])\n",
    "                        if m[k+1] > 1:\n",
    "                            d.append(m[k+1])\n",
    "                if trace:\n",
    "                    print(\">\"*12)\n",
    "                    eq = Symbol(\"eq%d\" % (l+1), real=True)\n",
    "                    if d:\n",
    "                        display(Derivative(*tuple([eq] + d))*c*h**i)\n",
    "                    else:\n",
    "                        display(eq*c*h**i)\n",
    "                f = reduction(f, G[l], tuple(d), c/G[l][0].coeff(df[l]), i)\n",
    "                if trace:\n",
    "                    print(\"res =\")\n",
    "                    display(f)\n",
    "                    print(\"<\"*12)\n",
    "                t += 1\n",
    "#                 if t > 6: break\n",
    "    return f\n",
    "\n",
    "def compact(f):\n",
    "    def cmpct(a):\n",
    "        if not a.args:\n",
    "            return a\n",
    "        else:\n",
    "            if a in pda_fun:\n",
    "                return Symbol(\"%s\" % a.func, real=True)\n",
    "            elif a.func == Derivative and a.args[0] in pda_fun:\n",
    "                m = []\n",
    "                for xi in a.args[1:]:\n",
    "                    if isinstance(xi, Symbol):\n",
    "                        m.append(str(xi))\n",
    "                    else:\n",
    "                        m.append(str(xi[0])*xi[1])\n",
    "                return Symbol(\"%s_{%s}\" % (a.args[0].func, \"\".join(m)), real=True)\n",
    "            else:\n",
    "                return a.func(*tuple(cmpct(s) for s in a.args))\n",
    "    return cmpct(f)\n",
    "\n",
    "def prn(a):\n",
    "    display(compact(a[0]).collect(Re, factor))\n",
    "    print(\"tau =>\")\n",
    "    display(compact(a[1]).collect(Re, factor))\n",
    "    print(\"h^2 =>\")\n",
    "    display(compact(a[2]).collect(Re, factor))\n",
    "    \n",
    "def prnlatex(a):\n",
    "    print(latex(compact(a[0]).collect(Re, factor)))\n",
    "    print(r\"+\\tau\\big(\")\n",
    "    print(latex(compact(a[1]).collect(Re, factor))) \n",
    "    print(r\"\\big)\")\n",
    "    print(r\"+h^2\\big(\")\n",
    "    print(latex(compact(a[2]).collect(Re, factor))) \n",
    "    print(r\"\\big)\") "
   ]
  },
  {
   "cell_type": "code",
   "execution_count": 8,
   "metadata": {},
   "outputs": [],
   "source": [
    "def Dt(a):\n",
    "    return (T(a, 1, 0, 0) - T(a, 0, 0, 0))/(tau)\n",
    "def It(a):\n",
    "    return (T(a, 1, 0, 0) + T(a, 0, 0, 0))/2\n",
    "def Ut(a):\n",
    "    return T(a, 1, 0, 0)\n",
    "def Dx(a):\n",
    "    return (T(a, 0, 1, 0) - T(a, 0, -1, 0))/(2*h)\n",
    "def Dy(a):\n",
    "    return (T(a, 0, 0, 1) - T(a, 0, 0, -1))/(2*h)\n",
    "\n",
    "def DD(a):\n",
    "    return (T(a, 0, 1, 0) + T(a, 0, 0, 1) +\\\n",
    "                -4*T(a, 0, 0, 0) +\\\n",
    "           T(a, 0, -1, 0) + T(a, 0, 0, -1))/h**2\n",
    "\n",
    "def DD2(a):\n",
    "    return (T(a, 0, 2, 0) + T(a, 0, 0, 2) +\\\n",
    "                -4*T(a, 0, 0, 0) +\\\n",
    "           T(a, 0, -2, 0) + T(a, 0, 0, -2))/(4*h**2)\n",
    "\n",
    "def Dxx(a):\n",
    "    return (T(a, 0, 2, 0) - 2*T(a, 0, 0, 0) + T(a, 0, -2, 0))/(4*h**2)\n",
    "def Dxy(a):\n",
    "    return (T(a, 0, 1, 1) - T(a, 0, 1, -1) -\\\n",
    "            T(a, 0, -1, 1) + T(a, 0, -1, -1))/(4*h**2)\n",
    "def Dyy(a):\n",
    "    return (T(a, 0, 0, 2) - 2*T(a, 0, 0, 0) + T(a, 0, 0, -2))/(4*h**2)\n",
    "\n",
    "def DDx(a):\n",
    "    return ((T(a, 0, 2, 0) + T(a, 0, 1, 1) -\\\n",
    "             4*T(a, 0, 1, 0) + T(a, 0, 1, -1)) -\\\n",
    "            (T(a, 0, -1, 1) - 4*T(a, 0, -1, 0) +\\\n",
    "             T(a, 0, -2, 0) + T(a, 0, -1, -1)))/(2*h**3)\n",
    "def DDy(a):\n",
    "    return ((T(a, 0, 1, 1) + T(a, 0, 0, 2) -\\\n",
    "             4*T(a, 0, 0, 1) + T(a, 0, -1, 1)) -\\\n",
    "            (T(a, 0, 1, -1) - 4*T(a, 0, 0, -1) +\\\n",
    "             T(a, 0, -1, -1) + T(a, 0, 0, -2)))/(2*h**3)"
   ]
  },
  {
   "cell_type": "code",
   "execution_count": 9,
   "metadata": {},
   "outputs": [],
   "source": [
    "def build(F1, F2, F3, F4):\n",
    "    prn(F1);prnlatex(F1);print(\"f1-\"*25)\n",
    "    f1 = NF(F1, [u.diff(x), u.diff(y, 2), v.diff(x, 2), p.diff(x, 2)], [F1, F2, F3, F4], head=False)\n",
    "    prn(f1)\n",
    "    prnlatex(f1)\n",
    "    td = [f.subs(TD).doit().expand().simplify() for f in f1]\n",
    "    prn(td)\n",
    "    prnlatex(td)\n",
    "#     print(\"tau:\")\n",
    "#     for i in set(td[1].subs(d) for d in TDdcts):\n",
    "#         print(latex(i), end='-> ')\n",
    "#         display(i)\n",
    "#     print(\"h^2:\")\n",
    "#     for i in set(td[2].subs(d) for d in TDdcts):\n",
    "#         print(latex(i), end='-> ')\n",
    "#         display(i)\n",
    "    kf = [f.subs(KF).doit().expand().simplify() for f in f1]\n",
    "    prn(kf)\n",
    "    prnlatex(kf)\n",
    "\n",
    "    print(\"-\"*25)\n",
    "    prn(F2);prnlatex(F2);print(\"f2-\"*25)\n",
    "    f2 = NF(F2, [u.diff(x), u.diff(y, 2), v.diff(x, 2), p.diff(x, 2)], [f1, F2, F3, F4], head=False)\n",
    "    prn(f2)\n",
    "    prnlatex(f2)\n",
    "    td = [f.subs(TD).doit().expand().simplify() for f in f2]\n",
    "    prn(td)\n",
    "    prnlatex(td)\n",
    "    kf = [f.subs(KF).doit().expand().simplify() for f in f2]\n",
    "    prn(kf)\n",
    "    prnlatex(kf)\n",
    "\n",
    "    print(\"-\"*25)\n",
    "    prn(F3);prnlatex(F3);print(\"f3-\"*25)\n",
    "    f3 = NF(F3, [u.diff(x), u.diff(y, 2), v.diff(x, 2), p.diff(x, 2)], [f1, f2, F3, F4], head=False)\n",
    "    prn(f3)\n",
    "    prnlatex(f3)\n",
    "    td = [f.subs(TD).doit().expand().simplify() for f in f3]\n",
    "    prn(td)\n",
    "    prnlatex(td)\n",
    "    kf = [f.subs(KF).doit().expand().simplify() for f in f3]\n",
    "    prn(kf)\n",
    "    prnlatex(kf)\n",
    "\n",
    "    print(\"-\"*25)\n",
    "    prn(F4);prnlatex(F4);print(\"f4-\"*25)\n",
    "    f4 = NF(F4, [u.diff(x), u.diff(y, 2), v.diff(x, 2), p.diff(x, 2)], [f1, f2, f3, F4], head=False)\n",
    "    prn(f4)\n",
    "    prnlatex(f4)\n",
    "    td = [f.subs(TD).doit().expand().simplify() for f in f4]\n",
    "    prn(td)\n",
    "    prnlatex(td)\n",
    "    kf = [f.subs(KF).doit().expand().simplify() for f in f4]\n",
    "    prn(kf)\n",
    "    prnlatex(kf)\n",
    "\n",
    "    spoly = [a.diff(y, 2) - b.diff(y) for a, b in zip(f2, f3)]\n",
    "    spoly = NF(spoly, [u.diff(x), u.diff(y, 2), v.diff(x, 2), p.diff(x, 2)], [f1, f2, f3, f4], head=True)\n",
    "    prn(spoly)\n",
    "    prnlatex(spoly)"
   ]
  },
  {
   "cell_type": "markdown",
   "metadata": {},
   "source": [
    "**Taylor decaying**\n",
    "\n",
    "This is a classical Navier-Stokes problem, in general used to state the con-\n",
    "vergence order of the considered formulae. Exact solution is\n",
    "\\begin{equation} \\label{eq1}\n",
    "\\left\\lbrace \n",
    "\\begin{array}{l}\n",
    " u = -e^{-2t/\\mathrm{Re}} \\cos(x) \\sin(y) ,\\\\\n",
    " v =  e^{-2t/\\mathrm{Re}} \\sin(x) \\cos(y) ,\\\\\n",
    " p = -e^{-4t/\\mathrm{Re}} (\\cos(2x) + \\cos(2y))/4 ,\n",
    "\\end{array}\n",
    "\\right. \n",
    "\\end{equation} "
   ]
  },
  {
   "cell_type": "code",
   "execution_count": 10,
   "metadata": {},
   "outputs": [],
   "source": [
    "TD = {u: -exp(-2*t/Re)*cos(x)*sin(y),\\\n",
    "      v:  exp(-2*t/Re)*sin(x)*cos(y),\\\n",
    "      p: -exp(-4*t/Re)*(cos(2*x)+cos(2*y))/4}\n",
    "TDlst = sin(y), sin(x), cos(x), cos(y)\n",
    "TDdcts = []\n",
    "for i in itertools.product([1, -1, 0], repeat=4):\n",
    "    TDdcts.append(dict(zip(TDlst, i)))"
   ]
  },
  {
   "cell_type": "markdown",
   "metadata": {},
   "source": [
    "**Kovasznay flow**\n",
    "\n",
    "This is a classical Navier-Stokes problem, in general used to state the con-\n",
    "vergence order of the considered formulae. Exact solution is\n",
    "\\begin{equation} \\label{eq2}\n",
    "\\left\\lbrace \n",
    "\\begin{array}{l}\n",
    " u = 1-e^{\\lambda x} \\cos(2 \\pi y) ,\\\\\n",
    " v = \\lambda/{2\\pi} e^{\\lambda x} \\sin(2 \\pi y) ,\\\\\n",
    " p = p_0-\\frac{1}{2}e^{2\\lambda x} ,\n",
    "\\end{array}\n",
    "\\right. \n",
    "\\end{equation}\n",
    "where $\\lambda = \\mathrm{Re}/2-\\sqrt{\\mathrm{Re}^2/4+4\\pi^2}$."
   ]
  },
  {
   "cell_type": "code",
   "execution_count": 11,
   "metadata": {},
   "outputs": [],
   "source": [
    "# Lambda = Re/2 - sqrt(Re**2/4 + 4*pi**2)\n",
    "KF = {u: 1 - exp(Lambda*x)*cos(2*pi*y),\\\n",
    "      v: Lambda/(2*pi)*exp(Lambda*x)*sin(2*pi*y),\\\n",
    "      p: p0 - exp(2*Lambda*x)/2}"
   ]
  },
  {
   "cell_type": "markdown",
   "metadata": {},
   "source": [
    "\\begin{equation}\\label{4}\n",
    "\\left\\lbrace \n",
    "\\begin{array}{rl}\n",
    "F^1:& D_{1x}u^{n}_{j+l+m,\\,k+l} +D_{1y}v^{n}_{j+l+m,\\,k+l}=0 ,\\\\[4pt]\n",
    "F^2:& \\dfrac{u^{n+1}_{j+l,\\,k+l}-u^{n}_{j+l,\\,k+l}}{\\tau} + I_t\\left( u^{n}_{j+l,\\,k+l}D_{2x}u^{n}_{j+l,\\,k+l} + {}\\right. \\\\[4pt]\n",
    "&\\left. \\qquad {}+v^{n}_{j+l,\\,k+l}D_{2y}u^{n}_{j+l,\\,k+l}+D_{3x}p^{n}_{j+l,\\,k+l}-\\dfrac{1}{\\mathrm{Re}}\\bigtriangleup u^{n}_{j+l,\\,k+l}\\right) =0 ,\\\\[4pt]\n",
    "F^3:& \\dfrac{v^{n+1}_{j+l,\\,k+l}-v^{n}_{j+l,\\,k+l}}{\\tau} + I_t\\left( u^{n}_{j+l,\\,k+l}D_{2x}v^{n}_{j+l,\\,k+l} + {}\\right. \\\\[4pt]\n",
    "&\\left. \\qquad {}+v^{n}_{j+l,\\,k+l}D_{2y}v^{n}_{j+l,\\,k+l}+D_{3y}p^{n}_{j+l,\\,k+l}-\\dfrac{1}{\\mathrm{Re}}\\bigtriangleup v^{n}_{j+l,\\,k+l}\\right) =0 ,\\\\[4pt]\n",
    " F^4:& D_{1x}\\left(u^{n}_{j+l,\\,k+l}D_{2x}u^{n}_{j+l,\\,k+l}+v^{n}_{j+l,\\,k+l}D_{2y}u^{n}_{j+l,\\,k+l}\\right) + {} \\qquad \\\\[4pt]\n",
    "    & \\qquad {} +D_{1y}\\left(u^{n}_{j+l,\\,k+l}D_{2x}v^{n}_{j+l,\\,k+l}+v^{n}_{j+l,\\,k+l}D_{2y}v^{n}_{j+l,\\,k+l}\\right) + {} \\\\[4pt]\n",
    "    & \\hfill {}  +\\left( D_{1x}D_{3x}p^{n}_{j+l,\\,k+l} + D_{1y}D_{3y}p^{n}_{j+l,\\,k+l}\\right)  =0 .\n",
    "\\end{array}\n",
    "\\right. \n",
    "\\end{equation}"
   ]
  },
  {
   "cell_type": "code",
   "execution_count": 12,
   "metadata": {
    "scrolled": true
   },
   "outputs": [
    {
     "data": {
      "text/latex": [
       "$\\displaystyle u_{x} + v_{y}$"
      ],
      "text/plain": [
       "u_{x} + v_{y}"
      ]
     },
     "metadata": {},
     "output_type": "display_data"
    },
    {
     "name": "stdout",
     "output_type": "stream",
     "text": [
      "tau =>\n"
     ]
    },
    {
     "data": {
      "text/latex": [
       "$\\displaystyle 0$"
      ],
      "text/plain": [
       "0"
      ]
     },
     "metadata": {},
     "output_type": "display_data"
    },
    {
     "name": "stdout",
     "output_type": "stream",
     "text": [
      "h^2 =>\n"
     ]
    },
    {
     "data": {
      "text/latex": [
       "$\\displaystyle \\frac{u_{xxx} + v_{yyy}}{6}$"
      ],
      "text/plain": [
       "(u_{xxx} + v_{yyy})/6"
      ]
     },
     "metadata": {},
     "output_type": "display_data"
    },
    {
     "name": "stdout",
     "output_type": "stream",
     "text": [
      "u_{x} + v_{y}\n",
      "+\\tau\\big(\n",
      "0\n",
      "\\big)\n",
      "+h^2\\big(\n",
      "\\frac{u_{xxx} + v_{yyy}}{6}\n",
      "\\big)\n",
      "f1-f1-f1-f1-f1-f1-f1-f1-f1-f1-f1-f1-f1-f1-f1-f1-f1-f1-f1-f1-f1-f1-f1-f1-f1-\n"
     ]
    },
    {
     "data": {
      "text/latex": [
       "$\\displaystyle u_{x} + v_{y}$"
      ],
      "text/plain": [
       "u_{x} + v_{y}"
      ]
     },
     "metadata": {},
     "output_type": "display_data"
    },
    {
     "name": "stdout",
     "output_type": "stream",
     "text": [
      "tau =>\n"
     ]
    },
    {
     "data": {
      "text/latex": [
       "$\\displaystyle 0$"
      ],
      "text/plain": [
       "0"
      ]
     },
     "metadata": {},
     "output_type": "display_data"
    },
    {
     "name": "stdout",
     "output_type": "stream",
     "text": [
      "h^2 =>\n"
     ]
    },
    {
     "data": {
      "text/latex": [
       "$\\displaystyle - \\frac{Re \\left(p_{yy} + u v_{xy} + u_{y} v_{x} + v v_{yy} + v_{ty} + v_{y}^{2}\\right)}{6} + \\frac{v_{yyy}}{3}$"
      ],
      "text/plain": [
       "-Re*(p_{yy} + u*v_{xy} + u_{y}*v_{x} + v*v_{yy} + v_{ty} + v_{y}**2)/6 + v_{yyy}/3"
      ]
     },
     "metadata": {},
     "output_type": "display_data"
    },
    {
     "name": "stdout",
     "output_type": "stream",
     "text": [
      "u_{x} + v_{y}\n",
      "+\\tau\\big(\n",
      "0\n",
      "\\big)\n",
      "+h^2\\big(\n",
      "- \\frac{Re \\left(p_{yy} + u v_{xy} + u_{y} v_{x} + v v_{yy} + v_{ty} + v_{y}^{2}\\right)}{6} + \\frac{v_{yyy}}{3}\n",
      "\\big)\n"
     ]
    },
    {
     "data": {
      "text/latex": [
       "$\\displaystyle 0$"
      ],
      "text/plain": [
       "0"
      ]
     },
     "metadata": {},
     "output_type": "display_data"
    },
    {
     "name": "stdout",
     "output_type": "stream",
     "text": [
      "tau =>\n"
     ]
    },
    {
     "data": {
      "text/latex": [
       "$\\displaystyle 0$"
      ],
      "text/plain": [
       "0"
      ]
     },
     "metadata": {},
     "output_type": "display_data"
    },
    {
     "name": "stdout",
     "output_type": "stream",
     "text": [
      "h^2 =>\n"
     ]
    },
    {
     "data": {
      "text/latex": [
       "$\\displaystyle 0$"
      ],
      "text/plain": [
       "0"
      ]
     },
     "metadata": {},
     "output_type": "display_data"
    },
    {
     "name": "stdout",
     "output_type": "stream",
     "text": [
      "0\n",
      "+\\tau\\big(\n",
      "0\n",
      "\\big)\n",
      "+h^2\\big(\n",
      "0\n",
      "\\big)\n"
     ]
    },
    {
     "data": {
      "text/latex": [
       "$\\displaystyle 0$"
      ],
      "text/plain": [
       "0"
      ]
     },
     "metadata": {},
     "output_type": "display_data"
    },
    {
     "name": "stdout",
     "output_type": "stream",
     "text": [
      "tau =>\n"
     ]
    },
    {
     "data": {
      "text/latex": [
       "$\\displaystyle 0$"
      ],
      "text/plain": [
       "0"
      ]
     },
     "metadata": {},
     "output_type": "display_data"
    },
    {
     "name": "stdout",
     "output_type": "stream",
     "text": [
      "h^2 =>\n"
     ]
    },
    {
     "data": {
      "text/latex": [
       "$\\displaystyle - \\frac{\\lambda \\left(Re \\lambda + 8 \\pi^{2}\\right) e^{\\lambda x} \\cos{\\left(2 \\pi y \\right)}}{6}$"
      ],
      "text/plain": [
       "-lambda*(Re*lambda + 8*pi**2)*exp(lambda*x)*cos(2*pi*y)/6"
      ]
     },
     "metadata": {},
     "output_type": "display_data"
    },
    {
     "name": "stdout",
     "output_type": "stream",
     "text": [
      "0\n",
      "+\\tau\\big(\n",
      "0\n",
      "\\big)\n",
      "+h^2\\big(\n",
      "- \\frac{\\lambda \\left(Re \\lambda + 8 \\pi^{2}\\right) e^{\\lambda x} \\cos{\\left(2 \\pi y \\right)}}{6}\n",
      "\\big)\n",
      "-------------------------\n"
     ]
    },
    {
     "data": {
      "text/latex": [
       "$\\displaystyle p_{x} + u u_{x} + u_{t} + u_{y} v + \\frac{- u_{xx} - u_{yy}}{Re}$"
      ],
      "text/plain": [
       "p_{x} + u*u_{x} + u_{t} + u_{y}*v + (-u_{xx} - u_{yy})/Re"
      ]
     },
     "metadata": {},
     "output_type": "display_data"
    },
    {
     "name": "stdout",
     "output_type": "stream",
     "text": [
      "tau =>\n"
     ]
    },
    {
     "data": {
      "text/latex": [
       "$\\displaystyle \\frac{u_{tt}}{2}$"
      ],
      "text/plain": [
       "u_{tt}/2"
      ]
     },
     "metadata": {},
     "output_type": "display_data"
    },
    {
     "name": "stdout",
     "output_type": "stream",
     "text": [
      "h^2 =>\n"
     ]
    },
    {
     "data": {
      "text/latex": [
       "$\\displaystyle \\frac{p_{xxx} + u u_{xxx} + u_{yyy} v}{6} - \\frac{u_{xxxx} + u_{yyyy}}{12 Re}$"
      ],
      "text/plain": [
       "(p_{xxx} + u*u_{xxx} + u_{yyy}*v)/6 - (u_{xxxx} + u_{yyyy})/(12*Re)"
      ]
     },
     "metadata": {},
     "output_type": "display_data"
    },
    {
     "name": "stdout",
     "output_type": "stream",
     "text": [
      "p_{x} + u u_{x} + u_{t} + u_{y} v + \\frac{- u_{xx} - u_{yy}}{Re}\n",
      "+\\tau\\big(\n",
      "\\frac{u_{tt}}{2}\n",
      "\\big)\n",
      "+h^2\\big(\n",
      "\\frac{p_{xxx} + u u_{xxx} + u_{yyy} v}{6} - \\frac{u_{xxxx} + u_{yyyy}}{12 Re}\n",
      "\\big)\n",
      "f2-f2-f2-f2-f2-f2-f2-f2-f2-f2-f2-f2-f2-f2-f2-f2-f2-f2-f2-f2-f2-f2-f2-f2-f2-\n"
     ]
    },
    {
     "data": {
      "text/latex": [
       "$\\displaystyle p_{x} + u u_{x} + u_{t} + u_{y} v + \\frac{- u_{xx} - u_{yy}}{Re}$"
      ],
      "text/plain": [
       "p_{x} + u*u_{x} + u_{t} + u_{y}*v + (-u_{xx} - u_{yy})/Re"
      ]
     },
     "metadata": {},
     "output_type": "display_data"
    },
    {
     "name": "stdout",
     "output_type": "stream",
     "text": [
      "tau =>\n"
     ]
    },
    {
     "data": {
      "text/latex": [
       "$\\displaystyle \\frac{u_{tt}}{2}$"
      ],
      "text/plain": [
       "u_{tt}/2"
      ]
     },
     "metadata": {},
     "output_type": "display_data"
    },
    {
     "name": "stdout",
     "output_type": "stream",
     "text": [
      "h^2 =>\n"
     ]
    },
    {
     "data": {
      "text/latex": [
       "$\\displaystyle - \\frac{Re^{2} v^{2} \\left(- p_{x} + u v_{y} - u_{t} - u_{y} v\\right)}{12} - \\frac{Re \\left(p_{tx} - p_{xy} v + p_{x} v_{y} + p_{yy} u + 3 p_{y} u_{y} + u^{2} v_{xy} + 4 u u_{y} v_{x} + 2 u v v_{yy} + u_{tt} + 4 u_{y} v v_{y} + 4 u_{y} v_{t} - v^{2} v_{xy}\\right)}{12} + \\frac{- p_{xyy} + u v_{yyy} + 2 u_{y} v_{yy} + v v_{xyy} - 4 v_{xy} v_{y} + 2 v_{x} v_{yy}}{6} - \\frac{v_{xyyy}}{6 Re}$"
      ],
      "text/plain": [
       "-Re**2*v**2*(-p_{x} + u*v_{y} - u_{t} - u_{y}*v)/12 - Re*(p_{tx} - p_{xy}*v + p_{x}*v_{y} + p_{yy}*u + 3*p_{y}*u_{y} + u**2*v_{xy} + 4*u*u_{y}*v_{x} + 2*u*v*v_{yy} + u_{tt} + 4*u_{y}*v*v_{y} + 4*u_{y}*v_{t} - v**2*v_{xy})/12 + (-p_{xyy} + u*v_{yyy} + 2*u_{y}*v_{yy} + v*v_{xyy} - 4*v_{xy}*v_{y} + 2*v_{x}*v_{yy})/6 - v_{xyyy}/(6*Re)"
      ]
     },
     "metadata": {},
     "output_type": "display_data"
    },
    {
     "name": "stdout",
     "output_type": "stream",
     "text": [
      "p_{x} + u u_{x} + u_{t} + u_{y} v + \\frac{- u_{xx} - u_{yy}}{Re}\n",
      "+\\tau\\big(\n",
      "\\frac{u_{tt}}{2}\n",
      "\\big)\n",
      "+h^2\\big(\n",
      "- \\frac{Re^{2} v^{2} \\left(- p_{x} + u v_{y} - u_{t} - u_{y} v\\right)}{12} - \\frac{Re \\left(p_{tx} - p_{xy} v + p_{x} v_{y} + p_{yy} u + 3 p_{y} u_{y} + u^{2} v_{xy} + 4 u u_{y} v_{x} + 2 u v v_{yy} + u_{tt} + 4 u_{y} v v_{y} + 4 u_{y} v_{t} - v^{2} v_{xy}\\right)}{12} + \\frac{- p_{xyy} + u v_{yyy} + 2 u_{y} v_{yy} + v v_{xyy} - 4 v_{xy} v_{y} + 2 v_{x} v_{yy}}{6} - \\frac{v_{xyyy}}{6 Re}\n",
      "\\big)\n"
     ]
    },
    {
     "data": {
      "text/latex": [
       "$\\displaystyle 0$"
      ],
      "text/plain": [
       "0"
      ]
     },
     "metadata": {},
     "output_type": "display_data"
    },
    {
     "name": "stdout",
     "output_type": "stream",
     "text": [
      "tau =>\n"
     ]
    },
    {
     "data": {
      "text/latex": [
       "$\\displaystyle - \\frac{2 e^{- \\frac{2 t}{Re}} \\sin{\\left(y \\right)} \\cos{\\left(x \\right)}}{Re^{2}}$"
      ],
      "text/plain": [
       "-2*exp(-2*t/Re)*sin(y)*cos(x)/Re**2"
      ]
     },
     "metadata": {},
     "output_type": "display_data"
    },
    {
     "name": "stdout",
     "output_type": "stream",
     "text": [
      "h^2 =>\n"
     ]
    },
    {
     "data": {
      "text/latex": [
       "$\\displaystyle \\frac{\\left(- 3 Re \\sin{\\left(x \\right)} + e^{\\frac{2 t}{Re}} \\sin{\\left(y \\right)}\\right) e^{- \\frac{4 t}{Re}} \\cos{\\left(x \\right)}}{6 Re}$"
      ],
      "text/plain": [
       "(-3*Re*sin(x) + exp(2*t/Re)*sin(y))*exp(-4*t/Re)*cos(x)/(6*Re)"
      ]
     },
     "metadata": {},
     "output_type": "display_data"
    },
    {
     "name": "stdout",
     "output_type": "stream",
     "text": [
      "0\n",
      "+\\tau\\big(\n",
      "- \\frac{2 e^{- \\frac{2 t}{Re}} \\sin{\\left(y \\right)} \\cos{\\left(x \\right)}}{Re^{2}}\n",
      "\\big)\n",
      "+h^2\\big(\n",
      "\\frac{\\left(- 3 Re \\sin{\\left(x \\right)} + e^{\\frac{2 t}{Re}} \\sin{\\left(y \\right)}\\right) e^{- \\frac{4 t}{Re}} \\cos{\\left(x \\right)}}{6 Re}\n",
      "\\big)\n"
     ]
    },
    {
     "data": {
      "text/latex": [
       "$\\displaystyle \\frac{\\left(- Re \\lambda + \\left(\\lambda - 2 \\pi\\right) \\left(\\lambda + 2 \\pi\\right)\\right) e^{\\lambda x} \\cos{\\left(2 \\pi y \\right)}}{Re}$"
      ],
      "text/plain": [
       "(-Re*lambda + (lambda - 2*pi)*(lambda + 2*pi))*exp(lambda*x)*cos(2*pi*y)/Re"
      ]
     },
     "metadata": {},
     "output_type": "display_data"
    },
    {
     "name": "stdout",
     "output_type": "stream",
     "text": [
      "tau =>\n"
     ]
    },
    {
     "data": {
      "text/latex": [
       "$\\displaystyle 0$"
      ],
      "text/plain": [
       "0"
      ]
     },
     "metadata": {},
     "output_type": "display_data"
    },
    {
     "name": "stdout",
     "output_type": "stream",
     "text": [
      "h^2 =>\n"
     ]
    },
    {
     "data": {
      "text/latex": [
       "$\\displaystyle \\frac{\\lambda \\left(- Re^{2} \\lambda^{2} \\left(Re - \\lambda\\right) e^{2 \\lambda x} \\sin^{2}{\\left(2 \\pi y \\right)} \\cos{\\left(2 \\pi y \\right)} - 4 \\pi^{2} Re \\left(8 Re \\lambda e^{2 \\lambda x} \\sin^{6}{\\left(\\pi y \\right)} - 12 Re \\lambda e^{2 \\lambda x} \\sin^{4}{\\left(\\pi y \\right)} + 4 Re \\lambda e^{2 \\lambda x} \\sin^{2}{\\left(\\pi y \\right)} - 16 Re \\lambda e^{\\lambda x} \\sin^{4}{\\left(\\pi y \\right)} + 16 Re \\lambda e^{\\lambda x} \\sin^{2}{\\left(\\pi y \\right)} - 2 Re \\lambda e^{\\lambda x} - 2 Re \\lambda \\sin^{2}{\\left(\\pi y \\right)} + Re \\lambda + 8 \\lambda^{2} e^{\\lambda x} \\sin^{4}{\\left(\\pi y \\right)} - 8 \\lambda^{2} e^{\\lambda x} \\sin^{2}{\\left(\\pi y \\right)} + 8 \\lambda^{2} e^{\\lambda x} - 96 \\pi^{2} e^{\\lambda x} \\sin^{4}{\\left(\\pi y \\right)} + 96 \\pi^{2} e^{\\lambda x} \\sin^{2}{\\left(\\pi y \\right)} - 8 \\pi^{2} e^{\\lambda x} - 16 \\pi^{2} \\sin^{2}{\\left(\\pi y \\right)} + 8 \\pi^{2}\\right) + 32 \\pi^{4} \\lambda \\cos{\\left(2 \\pi y \\right)}\\right) e^{\\lambda x}}{48 \\pi^{2} Re}$"
      ],
      "text/plain": [
       "lambda*(-Re**2*lambda**2*(Re - lambda)*exp(2*lambda*x)*sin(2*pi*y)**2*cos(2*pi*y) - 4*pi**2*Re*(8*Re*lambda*exp(2*lambda*x)*sin(pi*y)**6 - 12*Re*lambda*exp(2*lambda*x)*sin(pi*y)**4 + 4*Re*lambda*exp(2*lambda*x)*sin(pi*y)**2 - 16*Re*lambda*exp(lambda*x)*sin(pi*y)**4 + 16*Re*lambda*exp(lambda*x)*sin(pi*y)**2 - 2*Re*lambda*exp(lambda*x) - 2*Re*lambda*sin(pi*y)**2 + Re*lambda + 8*lambda**2*exp(lambda*x)*sin(pi*y)**4 - 8*lambda**2*exp(lambda*x)*sin(pi*y)**2 + 8*lambda**2*exp(lambda*x) - 96*pi**2*exp(lambda*x)*sin(pi*y)**4 + 96*pi**2*exp(lambda*x)*sin(pi*y)**2 - 8*pi**2*exp(lambda*x) - 16*pi**2*sin(pi*y)**2 + 8*pi**2) + 32*pi**4*lambda*cos(2*pi*y))*exp(lambda*x)/(48*pi**2*Re)"
      ]
     },
     "metadata": {},
     "output_type": "display_data"
    },
    {
     "name": "stdout",
     "output_type": "stream",
     "text": [
      "\\frac{\\left(- Re \\lambda + \\left(\\lambda - 2 \\pi\\right) \\left(\\lambda + 2 \\pi\\right)\\right) e^{\\lambda x} \\cos{\\left(2 \\pi y \\right)}}{Re}\n",
      "+\\tau\\big(\n",
      "0\n",
      "\\big)\n",
      "+h^2\\big(\n",
      "\\frac{\\lambda \\left(- Re^{2} \\lambda^{2} \\left(Re - \\lambda\\right) e^{2 \\lambda x} \\sin^{2}{\\left(2 \\pi y \\right)} \\cos{\\left(2 \\pi y \\right)} - 4 \\pi^{2} Re \\left(8 Re \\lambda e^{2 \\lambda x} \\sin^{6}{\\left(\\pi y \\right)} - 12 Re \\lambda e^{2 \\lambda x} \\sin^{4}{\\left(\\pi y \\right)} + 4 Re \\lambda e^{2 \\lambda x} \\sin^{2}{\\left(\\pi y \\right)} - 16 Re \\lambda e^{\\lambda x} \\sin^{4}{\\left(\\pi y \\right)} + 16 Re \\lambda e^{\\lambda x} \\sin^{2}{\\left(\\pi y \\right)} - 2 Re \\lambda e^{\\lambda x} - 2 Re \\lambda \\sin^{2}{\\left(\\pi y \\right)} + Re \\lambda + 8 \\lambda^{2} e^{\\lambda x} \\sin^{4}{\\left(\\pi y \\right)} - 8 \\lambda^{2} e^{\\lambda x} \\sin^{2}{\\left(\\pi y \\right)} + 8 \\lambda^{2} e^{\\lambda x} - 96 \\pi^{2} e^{\\lambda x} \\sin^{4}{\\left(\\pi y \\right)} + 96 \\pi^{2} e^{\\lambda x} \\sin^{2}{\\left(\\pi y \\right)} - 8 \\pi^{2} e^{\\lambda x} - 16 \\pi^{2} \\sin^{2}{\\left(\\pi y \\right)} + 8 \\pi^{2}\\right) + 32 \\pi^{4} \\lambda \\cos{\\left(2 \\pi y \\right)}\\right) e^{\\lambda x}}{48 \\pi^{2} Re}\n",
      "\\big)\n",
      "-------------------------\n"
     ]
    },
    {
     "data": {
      "text/latex": [
       "$\\displaystyle p_{y} + u v_{x} + v v_{y} + v_{t} + \\frac{- v_{xx} - v_{yy}}{Re}$"
      ],
      "text/plain": [
       "p_{y} + u*v_{x} + v*v_{y} + v_{t} + (-v_{xx} - v_{yy})/Re"
      ]
     },
     "metadata": {},
     "output_type": "display_data"
    },
    {
     "name": "stdout",
     "output_type": "stream",
     "text": [
      "tau =>\n"
     ]
    },
    {
     "data": {
      "text/latex": [
       "$\\displaystyle \\frac{v_{tt}}{2}$"
      ],
      "text/plain": [
       "v_{tt}/2"
      ]
     },
     "metadata": {},
     "output_type": "display_data"
    },
    {
     "name": "stdout",
     "output_type": "stream",
     "text": [
      "h^2 =>\n"
     ]
    },
    {
     "data": {
      "text/latex": [
       "$\\displaystyle \\frac{p_{yyy} + u v_{xxx} + v v_{yyy}}{6} - \\frac{v_{xxxx} + v_{yyyy}}{12 Re}$"
      ],
      "text/plain": [
       "(p_{yyy} + u*v_{xxx} + v*v_{yyy})/6 - (v_{xxxx} + v_{yyyy})/(12*Re)"
      ]
     },
     "metadata": {},
     "output_type": "display_data"
    },
    {
     "name": "stdout",
     "output_type": "stream",
     "text": [
      "p_{y} + u v_{x} + v v_{y} + v_{t} + \\frac{- v_{xx} - v_{yy}}{Re}\n",
      "+\\tau\\big(\n",
      "\\frac{v_{tt}}{2}\n",
      "\\big)\n",
      "+h^2\\big(\n",
      "\\frac{p_{yyy} + u v_{xxx} + v v_{yyy}}{6} - \\frac{v_{xxxx} + v_{yyyy}}{12 Re}\n",
      "\\big)\n",
      "f3-f3-f3-f3-f3-f3-f3-f3-f3-f3-f3-f3-f3-f3-f3-f3-f3-f3-f3-f3-f3-f3-f3-f3-f3-\n"
     ]
    },
    {
     "data": {
      "text/latex": [
       "$\\displaystyle p_{y} + u v_{x} + v v_{y} + v_{t} + \\frac{- v_{xx} - v_{yy}}{Re}$"
      ],
      "text/plain": [
       "p_{y} + u*v_{x} + v*v_{y} + v_{t} + (-v_{xx} - v_{yy})/Re"
      ]
     },
     "metadata": {},
     "output_type": "display_data"
    },
    {
     "name": "stdout",
     "output_type": "stream",
     "text": [
      "tau =>\n"
     ]
    },
    {
     "data": {
      "text/latex": [
       "$\\displaystyle \\frac{v_{tt}}{2}$"
      ],
      "text/plain": [
       "v_{tt}/2"
      ]
     },
     "metadata": {},
     "output_type": "display_data"
    },
    {
     "name": "stdout",
     "output_type": "stream",
     "text": [
      "h^2 =>\n"
     ]
    },
    {
     "data": {
      "text/latex": [
       "$\\displaystyle \\frac{Re^{2} u^{2} \\left(p_{y} + u v_{x} + v v_{y} + v_{t}\\right)}{12} - \\frac{Re \\left(p_{ty} - p_{xy} u - 3 p_{x} v_{x} + p_{yy} v - p_{y} v_{y} + u^{2} v_{yy} + 2 u v_{x} v_{y} - 2 u_{t} v_{x} - 2 u_{y} v v_{x} + v^{2} v_{yy} + 2 v v_{ty} + v_{tt}\\right)}{12} + \\frac{2 p_{yyy} + 2 u_{y} v_{xy} + 2 v v_{yyy} + v_{tyy} + v_{xy} v_{x} + 3 v_{yy} v_{y}}{6} - \\frac{v_{yyyy}}{6 Re}$"
      ],
      "text/plain": [
       "Re**2*u**2*(p_{y} + u*v_{x} + v*v_{y} + v_{t})/12 - Re*(p_{ty} - p_{xy}*u - 3*p_{x}*v_{x} + p_{yy}*v - p_{y}*v_{y} + u**2*v_{yy} + 2*u*v_{x}*v_{y} - 2*u_{t}*v_{x} - 2*u_{y}*v*v_{x} + v**2*v_{yy} + 2*v*v_{ty} + v_{tt})/12 + (2*p_{yyy} + 2*u_{y}*v_{xy} + 2*v*v_{yyy} + v_{tyy} + v_{xy}*v_{x} + 3*v_{yy}*v_{y})/6 - v_{yyyy}/(6*Re)"
      ]
     },
     "metadata": {},
     "output_type": "display_data"
    },
    {
     "name": "stdout",
     "output_type": "stream",
     "text": [
      "p_{y} + u v_{x} + v v_{y} + v_{t} + \\frac{- v_{xx} - v_{yy}}{Re}\n",
      "+\\tau\\big(\n",
      "\\frac{v_{tt}}{2}\n",
      "\\big)\n",
      "+h^2\\big(\n",
      "\\frac{Re^{2} u^{2} \\left(p_{y} + u v_{x} + v v_{y} + v_{t}\\right)}{12} - \\frac{Re \\left(p_{ty} - p_{xy} u - 3 p_{x} v_{x} + p_{yy} v - p_{y} v_{y} + u^{2} v_{yy} + 2 u v_{x} v_{y} - 2 u_{t} v_{x} - 2 u_{y} v v_{x} + v^{2} v_{yy} + 2 v v_{ty} + v_{tt}\\right)}{12} + \\frac{2 p_{yyy} + 2 u_{y} v_{xy} + 2 v v_{yyy} + v_{tyy} + v_{xy} v_{x} + 3 v_{yy} v_{y}}{6} - \\frac{v_{yyyy}}{6 Re}\n",
      "\\big)\n"
     ]
    },
    {
     "data": {
      "text/latex": [
       "$\\displaystyle 0$"
      ],
      "text/plain": [
       "0"
      ]
     },
     "metadata": {},
     "output_type": "display_data"
    },
    {
     "name": "stdout",
     "output_type": "stream",
     "text": [
      "tau =>\n"
     ]
    },
    {
     "data": {
      "text/latex": [
       "$\\displaystyle \\frac{2 e^{- \\frac{2 t}{Re}} \\sin{\\left(x \\right)} \\cos{\\left(y \\right)}}{Re^{2}}$"
      ],
      "text/plain": [
       "2*exp(-2*t/Re)*sin(x)*cos(y)/Re**2"
      ]
     },
     "metadata": {},
     "output_type": "display_data"
    },
    {
     "name": "stdout",
     "output_type": "stream",
     "text": [
      "h^2 =>\n"
     ]
    },
    {
     "data": {
      "text/latex": [
       "$\\displaystyle - \\frac{\\left(3 Re \\sin{\\left(y \\right)} + e^{\\frac{2 t}{Re}} \\sin{\\left(x \\right)}\\right) e^{- \\frac{4 t}{Re}} \\cos{\\left(y \\right)}}{6 Re}$"
      ],
      "text/plain": [
       "-(3*Re*sin(y) + exp(2*t/Re)*sin(x))*exp(-4*t/Re)*cos(y)/(6*Re)"
      ]
     },
     "metadata": {},
     "output_type": "display_data"
    },
    {
     "name": "stdout",
     "output_type": "stream",
     "text": [
      "0\n",
      "+\\tau\\big(\n",
      "\\frac{2 e^{- \\frac{2 t}{Re}} \\sin{\\left(x \\right)} \\cos{\\left(y \\right)}}{Re^{2}}\n",
      "\\big)\n",
      "+h^2\\big(\n",
      "- \\frac{\\left(3 Re \\sin{\\left(y \\right)} + e^{\\frac{2 t}{Re}} \\sin{\\left(x \\right)}\\right) e^{- \\frac{4 t}{Re}} \\cos{\\left(y \\right)}}{6 Re}\n",
      "\\big)\n"
     ]
    },
    {
     "data": {
      "text/latex": [
       "$\\displaystyle \\frac{\\lambda \\left(Re \\lambda - \\left(\\lambda - 2 \\pi\\right) \\left(\\lambda + 2 \\pi\\right)\\right) e^{\\lambda x} \\sin{\\left(2 \\pi y \\right)}}{2 \\pi Re}$"
      ],
      "text/plain": [
       "lambda*(Re*lambda - (lambda - 2*pi)*(lambda + 2*pi))*exp(lambda*x)*sin(2*pi*y)/(2*pi*Re)"
      ]
     },
     "metadata": {},
     "output_type": "display_data"
    },
    {
     "name": "stdout",
     "output_type": "stream",
     "text": [
      "tau =>\n"
     ]
    },
    {
     "data": {
      "text/latex": [
       "$\\displaystyle 0$"
      ],
      "text/plain": [
       "0"
      ]
     },
     "metadata": {},
     "output_type": "display_data"
    },
    {
     "name": "stdout",
     "output_type": "stream",
     "text": [
      "h^2 =>\n"
     ]
    },
    {
     "data": {
      "text/latex": [
       "$\\displaystyle \\frac{\\lambda \\left(Re \\left(Re^{2} \\lambda e^{2 \\lambda x} \\cos^{2}{\\left(2 \\pi y \\right)} - 2 Re^{2} \\lambda e^{\\lambda x} \\cos{\\left(2 \\pi y \\right)} + Re^{2} \\lambda + 3 Re \\lambda^{2} e^{2 \\lambda x} \\sin^{2}{\\left(2 \\pi y \\right)} + 2 Re \\lambda^{2} e^{2 \\lambda x} \\cos^{2}{\\left(2 \\pi y \\right)} - 3 Re \\lambda^{2} e^{2 \\lambda x} - 2 Re \\lambda^{2} e^{\\lambda x} \\cos{\\left(2 \\pi y \\right)} + 4 \\pi^{2} Re e^{2 \\lambda x} \\cos^{2}{\\left(2 \\pi y \\right)} - 8 \\pi^{2} Re e^{\\lambda x} \\cos{\\left(2 \\pi y \\right)} + 4 \\pi^{2} Re + 2 \\lambda^{3} e^{\\lambda x} \\cos{\\left(2 \\pi y \\right)} - 24 \\pi^{2} \\lambda e^{\\lambda x} \\cos{\\left(2 \\pi y \\right)}\\right) - 32 \\pi^{4}\\right) e^{\\lambda x} \\sin{\\left(2 \\pi y \\right)}}{24 \\pi Re}$"
      ],
      "text/plain": [
       "lambda*(Re*(Re**2*lambda*exp(2*lambda*x)*cos(2*pi*y)**2 - 2*Re**2*lambda*exp(lambda*x)*cos(2*pi*y) + Re**2*lambda + 3*Re*lambda**2*exp(2*lambda*x)*sin(2*pi*y)**2 + 2*Re*lambda**2*exp(2*lambda*x)*cos(2*pi*y)**2 - 3*Re*lambda**2*exp(2*lambda*x) - 2*Re*lambda**2*exp(lambda*x)*cos(2*pi*y) + 4*pi**2*Re*exp(2*lambda*x)*cos(2*pi*y)**2 - 8*pi**2*Re*exp(lambda*x)*cos(2*pi*y) + 4*pi**2*Re + 2*lambda**3*exp(lambda*x)*cos(2*pi*y) - 24*pi**2*lambda*exp(lambda*x)*cos(2*pi*y)) - 32*pi**4)*exp(lambda*x)*sin(2*pi*y)/(24*pi*Re)"
      ]
     },
     "metadata": {},
     "output_type": "display_data"
    },
    {
     "name": "stdout",
     "output_type": "stream",
     "text": [
      "\\frac{\\lambda \\left(Re \\lambda - \\left(\\lambda - 2 \\pi\\right) \\left(\\lambda + 2 \\pi\\right)\\right) e^{\\lambda x} \\sin{\\left(2 \\pi y \\right)}}{2 \\pi Re}\n",
      "+\\tau\\big(\n",
      "0\n",
      "\\big)\n",
      "+h^2\\big(\n",
      "\\frac{\\lambda \\left(Re \\left(Re^{2} \\lambda e^{2 \\lambda x} \\cos^{2}{\\left(2 \\pi y \\right)} - 2 Re^{2} \\lambda e^{\\lambda x} \\cos{\\left(2 \\pi y \\right)} + Re^{2} \\lambda + 3 Re \\lambda^{2} e^{2 \\lambda x} \\sin^{2}{\\left(2 \\pi y \\right)} + 2 Re \\lambda^{2} e^{2 \\lambda x} \\cos^{2}{\\left(2 \\pi y \\right)} - 3 Re \\lambda^{2} e^{2 \\lambda x} - 2 Re \\lambda^{2} e^{\\lambda x} \\cos{\\left(2 \\pi y \\right)} + 4 \\pi^{2} Re e^{2 \\lambda x} \\cos^{2}{\\left(2 \\pi y \\right)} - 8 \\pi^{2} Re e^{\\lambda x} \\cos{\\left(2 \\pi y \\right)} + 4 \\pi^{2} Re + 2 \\lambda^{3} e^{\\lambda x} \\cos{\\left(2 \\pi y \\right)} - 24 \\pi^{2} \\lambda e^{\\lambda x} \\cos{\\left(2 \\pi y \\right)}\\right) - 32 \\pi^{4}\\right) e^{\\lambda x} \\sin{\\left(2 \\pi y \\right)}}{24 \\pi Re}\n",
      "\\big)\n",
      "-------------------------\n"
     ]
    },
    {
     "data": {
      "text/latex": [
       "$\\displaystyle p_{xx} + p_{yy} + u u_{xx} + u v_{xy} + u_{xy} v + u_{x}^{2} + 2 u_{y} v_{x} + v v_{yy} + v_{y}^{2}$"
      ],
      "text/plain": [
       "p_{xx} + p_{yy} + u*u_{xx} + u*v_{xy} + u_{xy}*v + u_{x}**2 + 2*u_{y}*v_{x} + v*v_{yy} + v_{y}**2"
      ]
     },
     "metadata": {},
     "output_type": "display_data"
    },
    {
     "name": "stdout",
     "output_type": "stream",
     "text": [
      "tau =>\n"
     ]
    },
    {
     "data": {
      "text/latex": [
       "$\\displaystyle 0$"
      ],
      "text/plain": [
       "0"
      ]
     },
     "metadata": {},
     "output_type": "display_data"
    },
    {
     "name": "stdout",
     "output_type": "stream",
     "text": [
      "h^2 =>\n"
     ]
    },
    {
     "data": {
      "text/latex": [
       "$\\displaystyle \\frac{2 p_{xxxx} + 2 p_{yyyy} + 2 u u_{xxxx} + u v_{xxxy} + u v_{xyyy} + u_{xxxy} v + 5 u_{xxx} u_{x} + 3 u_{xxy} v_{x} + 3 u_{xx}^{2} + u_{xyyy} v + 3 u_{xy} v_{xx} + 2 u_{yyy} v_{x} + 3 u_{yy} v_{xy} + 2 u_{y} v_{xxx} + 3 u_{y} v_{xyy} + 2 v v_{yyyy} + 5 v_{yyy} v_{y} + 3 v_{yy}^{2}}{6}$"
      ],
      "text/plain": [
       "(2*p_{xxxx} + 2*p_{yyyy} + 2*u*u_{xxxx} + u*v_{xxxy} + u*v_{xyyy} + u_{xxxy}*v + 5*u_{xxx}*u_{x} + 3*u_{xxy}*v_{x} + 3*u_{xx}**2 + u_{xyyy}*v + 3*u_{xy}*v_{xx} + 2*u_{yyy}*v_{x} + 3*u_{yy}*v_{xy} + 2*u_{y}*v_{xxx} + 3*u_{y}*v_{xyy} + 2*v*v_{yyyy} + 5*v_{yyy}*v_{y} + 3*v_{yy}**2)/6"
      ]
     },
     "metadata": {},
     "output_type": "display_data"
    },
    {
     "name": "stdout",
     "output_type": "stream",
     "text": [
      "p_{xx} + p_{yy} + u u_{xx} + u v_{xy} + u_{xy} v + u_{x}^{2} + 2 u_{y} v_{x} + v v_{yy} + v_{y}^{2}\n",
      "+\\tau\\big(\n",
      "0\n",
      "\\big)\n",
      "+h^2\\big(\n",
      "\\frac{2 p_{xxxx} + 2 p_{yyyy} + 2 u u_{xxxx} + u v_{xxxy} + u v_{xyyy} + u_{xxxy} v + 5 u_{xxx} u_{x} + 3 u_{xxy} v_{x} + 3 u_{xx}^{2} + u_{xyyy} v + 3 u_{xy} v_{xx} + 2 u_{yyy} v_{x} + 3 u_{yy} v_{xy} + 2 u_{y} v_{xxx} + 3 u_{y} v_{xyy} + 2 v v_{yyyy} + 5 v_{yyy} v_{y} + 3 v_{yy}^{2}}{6}\n",
      "\\big)\n",
      "f4-f4-f4-f4-f4-f4-f4-f4-f4-f4-f4-f4-f4-f4-f4-f4-f4-f4-f4-f4-f4-f4-f4-f4-f4-\n"
     ]
    },
    {
     "data": {
      "text/latex": [
       "$\\displaystyle p_{xx} + p_{yy} + u u_{xx} + u v_{xy} + u_{xy} v + u_{x}^{2} + 2 u_{y} v_{x} + v v_{yy} + v_{y}^{2}$"
      ],
      "text/plain": [
       "p_{xx} + p_{yy} + u*u_{xx} + u*v_{xy} + u_{xy}*v + u_{x}**2 + 2*u_{y}*v_{x} + v*v_{yy} + v_{y}**2"
      ]
     },
     "metadata": {},
     "output_type": "display_data"
    },
    {
     "name": "stdout",
     "output_type": "stream",
     "text": [
      "tau =>\n"
     ]
    },
    {
     "data": {
      "text/latex": [
       "$\\displaystyle 0$"
      ],
      "text/plain": [
       "0"
      ]
     },
     "metadata": {},
     "output_type": "display_data"
    },
    {
     "name": "stdout",
     "output_type": "stream",
     "text": [
      "h^2 =>\n"
     ]
    },
    {
     "data": {
      "text/latex": [
       "$\\displaystyle - \\frac{Re^{2} \\left(- 5 p_{x} v v_{x} + p_{yy} u^{2} + 3 p_{y} u u_{y} + u^{3} v_{xy} + 4 u^{2} u_{y} v_{x} + u^{2} v v_{yy} + u^{2} v_{ty} + u^{2} v_{y}^{2} + 3 u u_{y} v v_{y} + 3 u u_{y} v_{t} + 5 u v v_{x} v_{y} - 5 u_{t} v v_{x} - 5 u_{y} v^{2} v_{x}\\right)}{6} + \\frac{Re \\left(- p_{xyy} u - 2 p_{xy} u_{y} + 6 p_{xy} v_{x} + 11 p_{x} v_{xy} - p_{yyy} v - 3 p_{yy} v_{y} + 5 p_{y} v_{yy} + u^{2} v_{yyy} + 3 u u_{y} v_{yy} - 2 u v v_{xyy} - u v_{txy} - 15 u v_{xy} v_{y} - u v_{x} v_{yy} + 6 u_{ty} v_{x} + 11 u_{t} v_{xy} + 7 u_{y} v v_{xy} - 2 u_{y} v_{tx} - 3 u_{y} v_{x} v_{y} - v^{2} v_{yyy} - v v_{tyy} + 5 v v_{xy} v_{x} - v v_{yy} v_{y} - 3 v_{ty} v_{y} + 5 v_{t} v_{yy} - 3 v_{y}^{3}\\right)}{6} + \\frac{4 p_{yyyy} + 2 u v_{xyyy} + 9 u_{y} v_{xyy} + 2 v v_{yyyy} + 7 v_{xyy} v_{x} + 6 v_{xy}^{2} + 16 v_{yyy} v_{y} + 6 v_{yy}^{2}}{6}$"
      ],
      "text/plain": [
       "-Re**2*(-5*p_{x}*v*v_{x} + p_{yy}*u**2 + 3*p_{y}*u*u_{y} + u**3*v_{xy} + 4*u**2*u_{y}*v_{x} + u**2*v*v_{yy} + u**2*v_{ty} + u**2*v_{y}**2 + 3*u*u_{y}*v*v_{y} + 3*u*u_{y}*v_{t} + 5*u*v*v_{x}*v_{y} - 5*u_{t}*v*v_{x} - 5*u_{y}*v**2*v_{x})/6 + Re*(-p_{xyy}*u - 2*p_{xy}*u_{y} + 6*p_{xy}*v_{x} + 11*p_{x}*v_{xy} - p_{yyy}*v - 3*p_{yy}*v_{y} + 5*p_{y}*v_{yy} + u**2*v_{yyy} + 3*u*u_{y}*v_{yy} - 2*u*v*v_{xyy} - u*v_{txy} - 15*u*v_{xy}*v_{y} - u*v_{x}*v_{yy} + 6*u_{ty}*v_{x} + 11*u_{t}*v_{xy} + 7*u_{y}*v*v_{xy} - 2*u_{y}*v_{tx} - 3*u_{y}*v_{x}*v_{y} - v**2*v_{yyy} - v*v_{tyy} + 5*v*v_{xy}*v_{x} - v*v_{yy}*v_{y} - 3*v_{ty}*v_{y} + 5*v_{t}*v_{yy} - 3*v_{y}**3)/6 + (4*p_{yyyy} + 2*u*v_{xyyy} + 9*u_{y}*v_{xyy} + 2*v*v_{yyyy} + 7*v_{xyy}*v_{x} + 6*v_{xy}**2 + 16*v_{yyy}*v_{y} + 6*v_{yy}**2)/6"
      ]
     },
     "metadata": {},
     "output_type": "display_data"
    },
    {
     "name": "stdout",
     "output_type": "stream",
     "text": [
      "p_{xx} + p_{yy} + u u_{xx} + u v_{xy} + u_{xy} v + u_{x}^{2} + 2 u_{y} v_{x} + v v_{yy} + v_{y}^{2}\n",
      "+\\tau\\big(\n",
      "0\n",
      "\\big)\n",
      "+h^2\\big(\n",
      "- \\frac{Re^{2} \\left(- 5 p_{x} v v_{x} + p_{yy} u^{2} + 3 p_{y} u u_{y} + u^{3} v_{xy} + 4 u^{2} u_{y} v_{x} + u^{2} v v_{yy} + u^{2} v_{ty} + u^{2} v_{y}^{2} + 3 u u_{y} v v_{y} + 3 u u_{y} v_{t} + 5 u v v_{x} v_{y} - 5 u_{t} v v_{x} - 5 u_{y} v^{2} v_{x}\\right)}{6} + \\frac{Re \\left(- p_{xyy} u - 2 p_{xy} u_{y} + 6 p_{xy} v_{x} + 11 p_{x} v_{xy} - p_{yyy} v - 3 p_{yy} v_{y} + 5 p_{y} v_{yy} + u^{2} v_{yyy} + 3 u u_{y} v_{yy} - 2 u v v_{xyy} - u v_{txy} - 15 u v_{xy} v_{y} - u v_{x} v_{yy} + 6 u_{ty} v_{x} + 11 u_{t} v_{xy} + 7 u_{y} v v_{xy} - 2 u_{y} v_{tx} - 3 u_{y} v_{x} v_{y} - v^{2} v_{yyy} - v v_{tyy} + 5 v v_{xy} v_{x} - v v_{yy} v_{y} - 3 v_{ty} v_{y} + 5 v_{t} v_{yy} - 3 v_{y}^{3}\\right)}{6} + \\frac{4 p_{yyyy} + 2 u v_{xyyy} + 9 u_{y} v_{xyy} + 2 v v_{yyyy} + 7 v_{xyy} v_{x} + 6 v_{xy}^{2} + 16 v_{yyy} v_{y} + 6 v_{yy}^{2}}{6}\n",
      "\\big)\n"
     ]
    },
    {
     "data": {
      "text/latex": [
       "$\\displaystyle 0$"
      ],
      "text/plain": [
       "0"
      ]
     },
     "metadata": {},
     "output_type": "display_data"
    },
    {
     "name": "stdout",
     "output_type": "stream",
     "text": [
      "tau =>\n"
     ]
    },
    {
     "data": {
      "text/latex": [
       "$\\displaystyle 0$"
      ],
      "text/plain": [
       "0"
      ]
     },
     "metadata": {},
     "output_type": "display_data"
    },
    {
     "name": "stdout",
     "output_type": "stream",
     "text": [
      "h^2 =>\n"
     ]
    },
    {
     "data": {
      "text/latex": [
       "$\\displaystyle \\left(\\sin^{2}{\\left(x \\right)} + \\sin^{2}{\\left(y \\right)} - 1\\right) e^{- \\frac{4 t}{Re}}$"
      ],
      "text/plain": [
       "(sin(x)**2 + sin(y)**2 - 1)*exp(-4*t/Re)"
      ]
     },
     "metadata": {},
     "output_type": "display_data"
    },
    {
     "name": "stdout",
     "output_type": "stream",
     "text": [
      "0\n",
      "+\\tau\\big(\n",
      "0\n",
      "\\big)\n",
      "+h^2\\big(\n",
      "\\left(\\sin^{2}{\\left(x \\right)} + \\sin^{2}{\\left(y \\right)} - 1\\right) e^{- \\frac{4 t}{Re}}\n",
      "\\big)\n"
     ]
    },
    {
     "data": {
      "text/latex": [
       "$\\displaystyle 0$"
      ],
      "text/plain": [
       "0"
      ]
     },
     "metadata": {},
     "output_type": "display_data"
    },
    {
     "name": "stdout",
     "output_type": "stream",
     "text": [
      "tau =>\n"
     ]
    },
    {
     "data": {
      "text/latex": [
       "$\\displaystyle 0$"
      ],
      "text/plain": [
       "0"
      ]
     },
     "metadata": {},
     "output_type": "display_data"
    },
    {
     "name": "stdout",
     "output_type": "stream",
     "text": [
      "h^2 =>\n"
     ]
    },
    {
     "data": {
      "text/latex": [
       "$\\displaystyle \\frac{\\lambda \\left(- Re^{2} \\lambda \\left(10 \\lambda^{2} e^{2 \\lambda x} \\sin^{6}{\\left(\\pi y \\right)} - 15 \\lambda^{2} e^{2 \\lambda x} \\sin^{4}{\\left(\\pi y \\right)} + 5 \\lambda^{2} e^{2 \\lambda x} \\sin^{2}{\\left(\\pi y \\right)} - 32 \\pi^{2} e^{2 \\lambda x} \\sin^{6}{\\left(\\pi y \\right)} + 48 \\pi^{2} e^{2 \\lambda x} \\sin^{4}{\\left(\\pi y \\right)} - 18 \\pi^{2} e^{2 \\lambda x} \\sin^{2}{\\left(\\pi y \\right)} + \\pi^{2} e^{2 \\lambda x} - 20 \\pi^{2} e^{\\lambda x} \\sin^{4}{\\left(\\pi y \\right)} + 20 \\pi^{2} e^{\\lambda x} \\sin^{2}{\\left(\\pi y \\right)} - 2 \\pi^{2} e^{\\lambda x} - 2 \\pi^{2} \\sin^{2}{\\left(\\pi y \\right)} + \\pi^{2}\\right) + Re \\left(10 \\lambda^{4} e^{2 \\lambda x} \\sin^{6}{\\left(\\pi y \\right)} - 15 \\lambda^{4} e^{2 \\lambda x} \\sin^{4}{\\left(\\pi y \\right)} + 5 \\lambda^{4} e^{2 \\lambda x} \\sin^{2}{\\left(\\pi y \\right)} - 72 \\pi^{2} \\lambda^{2} e^{2 \\lambda x} \\sin^{6}{\\left(\\pi y \\right)} + 108 \\pi^{2} \\lambda^{2} e^{2 \\lambda x} \\sin^{4}{\\left(\\pi y \\right)} - 38 \\pi^{2} \\lambda^{2} e^{2 \\lambda x} \\sin^{2}{\\left(\\pi y \\right)} + \\pi^{2} \\lambda^{2} e^{2 \\lambda x} - 72 \\pi^{2} \\lambda^{2} e^{\\lambda x} \\sin^{4}{\\left(\\pi y \\right)} + 72 \\pi^{2} \\lambda^{2} e^{\\lambda x} \\sin^{2}{\\left(\\pi y \\right)} - 15 \\pi^{2} \\lambda^{2} e^{\\lambda x} + 128 \\pi^{4} e^{2 \\lambda x} \\sin^{6}{\\left(\\pi y \\right)} - 192 \\pi^{4} e^{2 \\lambda x} \\sin^{4}{\\left(\\pi y \\right)} + 72 \\pi^{4} e^{2 \\lambda x} \\sin^{2}{\\left(\\pi y \\right)} - 4 \\pi^{4} e^{2 \\lambda x} + 80 \\pi^{4} e^{\\lambda x} \\sin^{4}{\\left(\\pi y \\right)} - 80 \\pi^{4} e^{\\lambda x} \\sin^{2}{\\left(\\pi y \\right)} + 8 \\pi^{4} e^{\\lambda x} + 8 \\pi^{4} \\sin^{2}{\\left(\\pi y \\right)} - 4 \\pi^{4}\\right) + 2 \\pi^{2} \\lambda \\left(26 \\lambda^{2} e^{\\lambda x} \\sin^{4}{\\left(\\pi y \\right)} - 26 \\lambda^{2} e^{\\lambda x} \\sin^{2}{\\left(\\pi y \\right)} + 3 \\lambda^{2} e^{\\lambda x} - 104 \\pi^{2} e^{\\lambda x} \\sin^{4}{\\left(\\pi y \\right)} + 104 \\pi^{2} e^{\\lambda x} \\sin^{2}{\\left(\\pi y \\right)} - 28 \\pi^{2} e^{\\lambda x} + 8 \\pi^{2} \\sin^{2}{\\left(\\pi y \\right)} - 4 \\pi^{2}\\right)\\right) e^{\\lambda x}}{6 \\pi^{2}}$"
      ],
      "text/plain": [
       "lambda*(-Re**2*lambda*(10*lambda**2*exp(2*lambda*x)*sin(pi*y)**6 - 15*lambda**2*exp(2*lambda*x)*sin(pi*y)**4 + 5*lambda**2*exp(2*lambda*x)*sin(pi*y)**2 - 32*pi**2*exp(2*lambda*x)*sin(pi*y)**6 + 48*pi**2*exp(2*lambda*x)*sin(pi*y)**4 - 18*pi**2*exp(2*lambda*x)*sin(pi*y)**2 + pi**2*exp(2*lambda*x) - 20*pi**2*exp(lambda*x)*sin(pi*y)**4 + 20*pi**2*exp(lambda*x)*sin(pi*y)**2 - 2*pi**2*exp(lambda*x) - 2*pi**2*sin(pi*y)**2 + pi**2) + Re*(10*lambda**4*exp(2*lambda*x)*sin(pi*y)**6 - 15*lambda**4*exp(2*lambda*x)*sin(pi*y)**4 + 5*lambda**4*exp(2*lambda*x)*sin(pi*y)**2 - 72*pi**2*lambda**2*exp(2*lambda*x)*sin(pi*y)**6 + 108*pi**2*lambda**2*exp(2*lambda*x)*sin(pi*y)**4 - 38*pi**2*lambda**2*exp(2*lambda*x)*sin(pi*y)**2 + pi**2*lambda**2*exp(2*lambda*x) - 72*pi**2*lambda**2*exp(lambda*x)*sin(pi*y)**4 + 72*pi**2*lambda**2*exp(lambda*x)*sin(pi*y)**2 - 15*pi**2*lambda**2*exp(lambda*x) + 128*pi**4*exp(2*lambda*x)*sin(pi*y)**6 - 192*pi**4*exp(2*lambda*x)*sin(pi*y)**4 + 72*pi**4*exp(2*lambda*x)*sin(pi*y)**2 - 4*pi**4*exp(2*lambda*x) + 80*pi**4*exp(lambda*x)*sin(pi*y)**4 - 80*pi**4*exp(lambda*x)*sin(pi*y)**2 + 8*pi**4*exp(lambda*x) + 8*pi**4*sin(pi*y)**2 - 4*pi**4) + 2*pi**2*lambda*(26*lambda**2*exp(lambda*x)*sin(pi*y)**4 - 26*lambda**2*exp(lambda*x)*sin(pi*y)**2 + 3*lambda**2*exp(lambda*x) - 104*pi**2*exp(lambda*x)*sin(pi*y)**4 + 104*pi**2*exp(lambda*x)*sin(pi*y)**2 - 28*pi**2*exp(lambda*x) + 8*pi**2*sin(pi*y)**2 - 4*pi**2))*exp(lambda*x)/(6*pi**2)"
      ]
     },
     "metadata": {},
     "output_type": "display_data"
    },
    {
     "name": "stdout",
     "output_type": "stream",
     "text": [
      "0\n",
      "+\\tau\\big(\n",
      "0\n",
      "\\big)\n",
      "+h^2\\big(\n",
      "\\frac{\\lambda \\left(- Re^{2} \\lambda \\left(10 \\lambda^{2} e^{2 \\lambda x} \\sin^{6}{\\left(\\pi y \\right)} - 15 \\lambda^{2} e^{2 \\lambda x} \\sin^{4}{\\left(\\pi y \\right)} + 5 \\lambda^{2} e^{2 \\lambda x} \\sin^{2}{\\left(\\pi y \\right)} - 32 \\pi^{2} e^{2 \\lambda x} \\sin^{6}{\\left(\\pi y \\right)} + 48 \\pi^{2} e^{2 \\lambda x} \\sin^{4}{\\left(\\pi y \\right)} - 18 \\pi^{2} e^{2 \\lambda x} \\sin^{2}{\\left(\\pi y \\right)} + \\pi^{2} e^{2 \\lambda x} - 20 \\pi^{2} e^{\\lambda x} \\sin^{4}{\\left(\\pi y \\right)} + 20 \\pi^{2} e^{\\lambda x} \\sin^{2}{\\left(\\pi y \\right)} - 2 \\pi^{2} e^{\\lambda x} - 2 \\pi^{2} \\sin^{2}{\\left(\\pi y \\right)} + \\pi^{2}\\right) + Re \\left(10 \\lambda^{4} e^{2 \\lambda x} \\sin^{6}{\\left(\\pi y \\right)} - 15 \\lambda^{4} e^{2 \\lambda x} \\sin^{4}{\\left(\\pi y \\right)} + 5 \\lambda^{4} e^{2 \\lambda x} \\sin^{2}{\\left(\\pi y \\right)} - 72 \\pi^{2} \\lambda^{2} e^{2 \\lambda x} \\sin^{6}{\\left(\\pi y \\right)} + 108 \\pi^{2} \\lambda^{2} e^{2 \\lambda x} \\sin^{4}{\\left(\\pi y \\right)} - 38 \\pi^{2} \\lambda^{2} e^{2 \\lambda x} \\sin^{2}{\\left(\\pi y \\right)} + \\pi^{2} \\lambda^{2} e^{2 \\lambda x} - 72 \\pi^{2} \\lambda^{2} e^{\\lambda x} \\sin^{4}{\\left(\\pi y \\right)} + 72 \\pi^{2} \\lambda^{2} e^{\\lambda x} \\sin^{2}{\\left(\\pi y \\right)} - 15 \\pi^{2} \\lambda^{2} e^{\\lambda x} + 128 \\pi^{4} e^{2 \\lambda x} \\sin^{6}{\\left(\\pi y \\right)} - 192 \\pi^{4} e^{2 \\lambda x} \\sin^{4}{\\left(\\pi y \\right)} + 72 \\pi^{4} e^{2 \\lambda x} \\sin^{2}{\\left(\\pi y \\right)} - 4 \\pi^{4} e^{2 \\lambda x} + 80 \\pi^{4} e^{\\lambda x} \\sin^{4}{\\left(\\pi y \\right)} - 80 \\pi^{4} e^{\\lambda x} \\sin^{2}{\\left(\\pi y \\right)} + 8 \\pi^{4} e^{\\lambda x} + 8 \\pi^{4} \\sin^{2}{\\left(\\pi y \\right)} - 4 \\pi^{4}\\right) + 2 \\pi^{2} \\lambda \\left(26 \\lambda^{2} e^{\\lambda x} \\sin^{4}{\\left(\\pi y \\right)} - 26 \\lambda^{2} e^{\\lambda x} \\sin^{2}{\\left(\\pi y \\right)} + 3 \\lambda^{2} e^{\\lambda x} - 104 \\pi^{2} e^{\\lambda x} \\sin^{4}{\\left(\\pi y \\right)} + 104 \\pi^{2} e^{\\lambda x} \\sin^{2}{\\left(\\pi y \\right)} - 28 \\pi^{2} e^{\\lambda x} + 8 \\pi^{2} \\sin^{2}{\\left(\\pi y \\right)} - 4 \\pi^{2}\\right)\\right) e^{\\lambda x}}{6 \\pi^{2}}\n",
      "\\big)\n"
     ]
    },
    {
     "data": {
      "text/latex": [
       "$\\displaystyle 0$"
      ],
      "text/plain": [
       "0"
      ]
     },
     "metadata": {},
     "output_type": "display_data"
    },
    {
     "name": "stdout",
     "output_type": "stream",
     "text": [
      "tau =>\n"
     ]
    },
    {
     "data": {
      "text/latex": [
       "$\\displaystyle 0$"
      ],
      "text/plain": [
       "0"
      ]
     },
     "metadata": {},
     "output_type": "display_data"
    },
    {
     "name": "stdout",
     "output_type": "stream",
     "text": [
      "h^2 =>\n"
     ]
    },
    {
     "data": {
      "text/latex": [
       "$\\displaystyle 0$"
      ],
      "text/plain": [
       "0"
      ]
     },
     "metadata": {},
     "output_type": "display_data"
    },
    {
     "name": "stdout",
     "output_type": "stream",
     "text": [
      "0\n",
      "+\\tau\\big(\n",
      "0\n",
      "\\big)\n",
      "+h^2\\big(\n",
      "0\n",
      "\\big)\n"
     ]
    }
   ],
   "source": [
    "F1 = clip(Dx(u) + Dy(v))\n",
    "F2 = clip(Dt(u) + u*Dx(u) + v*Dy(u) + Dx(p) - DD(u)/Re)\n",
    "F3 = clip(Dt(v) + u*Dx(v) + v*Dy(v) + Dy(p) - DD(v)/Re)\n",
    "F4 = clip(Dx(u*Dx(u) + v*Dy(u) + Dx(p)) + Dy(u*Dx(v) + v*Dy(v) + Dy(p)))\n",
    "\n",
    "build(F1, F2, F3, F4)"
   ]
  },
  {
   "cell_type": "code",
   "execution_count": 13,
   "metadata": {
    "scrolled": true
   },
   "outputs": [
    {
     "data": {
      "text/latex": [
       "$\\displaystyle u_{x} + v_{y}$"
      ],
      "text/plain": [
       "u_{x} + v_{y}"
      ]
     },
     "metadata": {},
     "output_type": "display_data"
    },
    {
     "name": "stdout",
     "output_type": "stream",
     "text": [
      "tau =>\n"
     ]
    },
    {
     "data": {
      "text/latex": [
       "$\\displaystyle 0$"
      ],
      "text/plain": [
       "0"
      ]
     },
     "metadata": {},
     "output_type": "display_data"
    },
    {
     "name": "stdout",
     "output_type": "stream",
     "text": [
      "h^2 =>\n"
     ]
    },
    {
     "data": {
      "text/latex": [
       "$\\displaystyle \\frac{u_{xxx} + v_{yyy}}{6}$"
      ],
      "text/plain": [
       "(u_{xxx} + v_{yyy})/6"
      ]
     },
     "metadata": {},
     "output_type": "display_data"
    },
    {
     "name": "stdout",
     "output_type": "stream",
     "text": [
      "u_{x} + v_{y}\n",
      "+\\tau\\big(\n",
      "0\n",
      "\\big)\n",
      "+h^2\\big(\n",
      "\\frac{u_{xxx} + v_{yyy}}{6}\n",
      "\\big)\n",
      "f1-f1-f1-f1-f1-f1-f1-f1-f1-f1-f1-f1-f1-f1-f1-f1-f1-f1-f1-f1-f1-f1-f1-f1-f1-\n"
     ]
    },
    {
     "data": {
      "text/latex": [
       "$\\displaystyle u_{x} + v_{y}$"
      ],
      "text/plain": [
       "u_{x} + v_{y}"
      ]
     },
     "metadata": {},
     "output_type": "display_data"
    },
    {
     "name": "stdout",
     "output_type": "stream",
     "text": [
      "tau =>\n"
     ]
    },
    {
     "data": {
      "text/latex": [
       "$\\displaystyle 0$"
      ],
      "text/plain": [
       "0"
      ]
     },
     "metadata": {},
     "output_type": "display_data"
    },
    {
     "name": "stdout",
     "output_type": "stream",
     "text": [
      "h^2 =>\n"
     ]
    },
    {
     "data": {
      "text/latex": [
       "$\\displaystyle - \\frac{Re \\left(p_{yy} + u v_{xy} + u_{y} v_{x} + v v_{yy} + v_{ty} + v_{y}^{2}\\right)}{6} + \\frac{v_{yyy}}{3}$"
      ],
      "text/plain": [
       "-Re*(p_{yy} + u*v_{xy} + u_{y}*v_{x} + v*v_{yy} + v_{ty} + v_{y}**2)/6 + v_{yyy}/3"
      ]
     },
     "metadata": {},
     "output_type": "display_data"
    },
    {
     "name": "stdout",
     "output_type": "stream",
     "text": [
      "u_{x} + v_{y}\n",
      "+\\tau\\big(\n",
      "0\n",
      "\\big)\n",
      "+h^2\\big(\n",
      "- \\frac{Re \\left(p_{yy} + u v_{xy} + u_{y} v_{x} + v v_{yy} + v_{ty} + v_{y}^{2}\\right)}{6} + \\frac{v_{yyy}}{3}\n",
      "\\big)\n"
     ]
    },
    {
     "data": {
      "text/latex": [
       "$\\displaystyle 0$"
      ],
      "text/plain": [
       "0"
      ]
     },
     "metadata": {},
     "output_type": "display_data"
    },
    {
     "name": "stdout",
     "output_type": "stream",
     "text": [
      "tau =>\n"
     ]
    },
    {
     "data": {
      "text/latex": [
       "$\\displaystyle 0$"
      ],
      "text/plain": [
       "0"
      ]
     },
     "metadata": {},
     "output_type": "display_data"
    },
    {
     "name": "stdout",
     "output_type": "stream",
     "text": [
      "h^2 =>\n"
     ]
    },
    {
     "data": {
      "text/latex": [
       "$\\displaystyle 0$"
      ],
      "text/plain": [
       "0"
      ]
     },
     "metadata": {},
     "output_type": "display_data"
    },
    {
     "name": "stdout",
     "output_type": "stream",
     "text": [
      "0\n",
      "+\\tau\\big(\n",
      "0\n",
      "\\big)\n",
      "+h^2\\big(\n",
      "0\n",
      "\\big)\n"
     ]
    },
    {
     "data": {
      "text/latex": [
       "$\\displaystyle 0$"
      ],
      "text/plain": [
       "0"
      ]
     },
     "metadata": {},
     "output_type": "display_data"
    },
    {
     "name": "stdout",
     "output_type": "stream",
     "text": [
      "tau =>\n"
     ]
    },
    {
     "data": {
      "text/latex": [
       "$\\displaystyle 0$"
      ],
      "text/plain": [
       "0"
      ]
     },
     "metadata": {},
     "output_type": "display_data"
    },
    {
     "name": "stdout",
     "output_type": "stream",
     "text": [
      "h^2 =>\n"
     ]
    },
    {
     "data": {
      "text/latex": [
       "$\\displaystyle - \\frac{\\lambda \\left(Re \\lambda + 8 \\pi^{2}\\right) e^{\\lambda x} \\cos{\\left(2 \\pi y \\right)}}{6}$"
      ],
      "text/plain": [
       "-lambda*(Re*lambda + 8*pi**2)*exp(lambda*x)*cos(2*pi*y)/6"
      ]
     },
     "metadata": {},
     "output_type": "display_data"
    },
    {
     "name": "stdout",
     "output_type": "stream",
     "text": [
      "0\n",
      "+\\tau\\big(\n",
      "0\n",
      "\\big)\n",
      "+h^2\\big(\n",
      "- \\frac{\\lambda \\left(Re \\lambda + 8 \\pi^{2}\\right) e^{\\lambda x} \\cos{\\left(2 \\pi y \\right)}}{6}\n",
      "\\big)\n",
      "-------------------------\n"
     ]
    },
    {
     "data": {
      "text/latex": [
       "$\\displaystyle p_{x} + u u_{x} + u_{t} + u_{y} v + \\frac{- u_{xx} - u_{yy}}{Re}$"
      ],
      "text/plain": [
       "p_{x} + u*u_{x} + u_{t} + u_{y}*v + (-u_{xx} - u_{yy})/Re"
      ]
     },
     "metadata": {},
     "output_type": "display_data"
    },
    {
     "name": "stdout",
     "output_type": "stream",
     "text": [
      "tau =>\n"
     ]
    },
    {
     "data": {
      "text/latex": [
       "$\\displaystyle \\frac{u_{tt}}{2}$"
      ],
      "text/plain": [
       "u_{tt}/2"
      ]
     },
     "metadata": {},
     "output_type": "display_data"
    },
    {
     "name": "stdout",
     "output_type": "stream",
     "text": [
      "h^2 =>\n"
     ]
    },
    {
     "data": {
      "text/latex": [
       "$\\displaystyle \\frac{p_{xxx} + u u_{xxx} + u_{yyy} v}{6} - \\frac{u_{xxxx} + u_{yyyy}}{3 Re}$"
      ],
      "text/plain": [
       "(p_{xxx} + u*u_{xxx} + u_{yyy}*v)/6 - (u_{xxxx} + u_{yyyy})/(3*Re)"
      ]
     },
     "metadata": {},
     "output_type": "display_data"
    },
    {
     "name": "stdout",
     "output_type": "stream",
     "text": [
      "p_{x} + u u_{x} + u_{t} + u_{y} v + \\frac{- u_{xx} - u_{yy}}{Re}\n",
      "+\\tau\\big(\n",
      "\\frac{u_{tt}}{2}\n",
      "\\big)\n",
      "+h^2\\big(\n",
      "\\frac{p_{xxx} + u u_{xxx} + u_{yyy} v}{6} - \\frac{u_{xxxx} + u_{yyyy}}{3 Re}\n",
      "\\big)\n",
      "f2-f2-f2-f2-f2-f2-f2-f2-f2-f2-f2-f2-f2-f2-f2-f2-f2-f2-f2-f2-f2-f2-f2-f2-f2-\n"
     ]
    },
    {
     "data": {
      "text/latex": [
       "$\\displaystyle p_{x} + u u_{x} + u_{t} + u_{y} v + \\frac{- u_{xx} - u_{yy}}{Re}$"
      ],
      "text/plain": [
       "p_{x} + u*u_{x} + u_{t} + u_{y}*v + (-u_{xx} - u_{yy})/Re"
      ]
     },
     "metadata": {},
     "output_type": "display_data"
    },
    {
     "name": "stdout",
     "output_type": "stream",
     "text": [
      "tau =>\n"
     ]
    },
    {
     "data": {
      "text/latex": [
       "$\\displaystyle \\frac{u_{tt}}{2}$"
      ],
      "text/plain": [
       "u_{tt}/2"
      ]
     },
     "metadata": {},
     "output_type": "display_data"
    },
    {
     "name": "stdout",
     "output_type": "stream",
     "text": [
      "h^2 =>\n"
     ]
    },
    {
     "data": {
      "text/latex": [
       "$\\displaystyle \\frac{Re^{2} v^{2} \\left(- p_{x} + u v_{y} - u_{t} - u_{y} v\\right)}{6} + \\frac{Re \\left(- 2 p_{tx} - p_{xy} v - 2 p_{x} v_{y} + p_{yy} u + u^{2} v_{xy} + u u_{y} v_{x} + 2 u v v_{yy} + 3 u v_{ty} + 3 u v_{y}^{2} - 2 u_{tt} - 3 u_{ty} v - 2 u_{y} v v_{y} - 2 u_{y} v_{t} - v^{2} v_{xy}\\right)}{6} + \\frac{- p_{xyy} + u v_{yyy} + 2 u_{y} v_{yy} + v v_{xyy} - 4 v_{xy} v_{y} + 2 v_{x} v_{yy}}{6} - \\frac{2 v_{xyyy}}{3 Re}$"
      ],
      "text/plain": [
       "Re**2*v**2*(-p_{x} + u*v_{y} - u_{t} - u_{y}*v)/6 + Re*(-2*p_{tx} - p_{xy}*v - 2*p_{x}*v_{y} + p_{yy}*u + u**2*v_{xy} + u*u_{y}*v_{x} + 2*u*v*v_{yy} + 3*u*v_{ty} + 3*u*v_{y}**2 - 2*u_{tt} - 3*u_{ty}*v - 2*u_{y}*v*v_{y} - 2*u_{y}*v_{t} - v**2*v_{xy})/6 + (-p_{xyy} + u*v_{yyy} + 2*u_{y}*v_{yy} + v*v_{xyy} - 4*v_{xy}*v_{y} + 2*v_{x}*v_{yy})/6 - 2*v_{xyyy}/(3*Re)"
      ]
     },
     "metadata": {},
     "output_type": "display_data"
    },
    {
     "name": "stdout",
     "output_type": "stream",
     "text": [
      "p_{x} + u u_{x} + u_{t} + u_{y} v + \\frac{- u_{xx} - u_{yy}}{Re}\n",
      "+\\tau\\big(\n",
      "\\frac{u_{tt}}{2}\n",
      "\\big)\n",
      "+h^2\\big(\n",
      "\\frac{Re^{2} v^{2} \\left(- p_{x} + u v_{y} - u_{t} - u_{y} v\\right)}{6} + \\frac{Re \\left(- 2 p_{tx} - p_{xy} v - 2 p_{x} v_{y} + p_{yy} u + u^{2} v_{xy} + u u_{y} v_{x} + 2 u v v_{yy} + 3 u v_{ty} + 3 u v_{y}^{2} - 2 u_{tt} - 3 u_{ty} v - 2 u_{y} v v_{y} - 2 u_{y} v_{t} - v^{2} v_{xy}\\right)}{6} + \\frac{- p_{xyy} + u v_{yyy} + 2 u_{y} v_{yy} + v v_{xyy} - 4 v_{xy} v_{y} + 2 v_{x} v_{yy}}{6} - \\frac{2 v_{xyyy}}{3 Re}\n",
      "\\big)\n"
     ]
    },
    {
     "data": {
      "text/latex": [
       "$\\displaystyle 0$"
      ],
      "text/plain": [
       "0"
      ]
     },
     "metadata": {},
     "output_type": "display_data"
    },
    {
     "name": "stdout",
     "output_type": "stream",
     "text": [
      "tau =>\n"
     ]
    },
    {
     "data": {
      "text/latex": [
       "$\\displaystyle - \\frac{2 e^{- \\frac{2 t}{Re}} \\sin{\\left(y \\right)} \\cos{\\left(x \\right)}}{Re^{2}}$"
      ],
      "text/plain": [
       "-2*exp(-2*t/Re)*sin(y)*cos(x)/Re**2"
      ]
     },
     "metadata": {},
     "output_type": "display_data"
    },
    {
     "name": "stdout",
     "output_type": "stream",
     "text": [
      "h^2 =>\n"
     ]
    },
    {
     "data": {
      "text/latex": [
       "$\\displaystyle - \\frac{e^{- \\frac{4 t}{Re}} \\sin{\\left(2 x \\right)}}{4} + \\frac{2 e^{- \\frac{2 t}{Re}} \\sin{\\left(y \\right)} \\cos{\\left(x \\right)}}{3 Re}$"
      ],
      "text/plain": [
       "-exp(-4*t/Re)*sin(2*x)/4 + 2*exp(-2*t/Re)*sin(y)*cos(x)/(3*Re)"
      ]
     },
     "metadata": {},
     "output_type": "display_data"
    },
    {
     "name": "stdout",
     "output_type": "stream",
     "text": [
      "0\n",
      "+\\tau\\big(\n",
      "- \\frac{2 e^{- \\frac{2 t}{Re}} \\sin{\\left(y \\right)} \\cos{\\left(x \\right)}}{Re^{2}}\n",
      "\\big)\n",
      "+h^2\\big(\n",
      "- \\frac{e^{- \\frac{4 t}{Re}} \\sin{\\left(2 x \\right)}}{4} + \\frac{2 e^{- \\frac{2 t}{Re}} \\sin{\\left(y \\right)} \\cos{\\left(x \\right)}}{3 Re}\n",
      "\\big)\n"
     ]
    },
    {
     "data": {
      "text/latex": [
       "$\\displaystyle \\frac{\\left(- Re \\lambda + \\left(\\lambda - 2 \\pi\\right) \\left(\\lambda + 2 \\pi\\right)\\right) e^{\\lambda x} \\cos{\\left(2 \\pi y \\right)}}{Re}$"
      ],
      "text/plain": [
       "(-Re*lambda + (lambda - 2*pi)*(lambda + 2*pi))*exp(lambda*x)*cos(2*pi*y)/Re"
      ]
     },
     "metadata": {},
     "output_type": "display_data"
    },
    {
     "name": "stdout",
     "output_type": "stream",
     "text": [
      "tau =>\n"
     ]
    },
    {
     "data": {
      "text/latex": [
       "$\\displaystyle 0$"
      ],
      "text/plain": [
       "0"
      ]
     },
     "metadata": {},
     "output_type": "display_data"
    },
    {
     "name": "stdout",
     "output_type": "stream",
     "text": [
      "h^2 =>\n"
     ]
    },
    {
     "data": {
      "text/latex": [
       "$\\displaystyle \\frac{\\lambda \\left(Re^{2} \\lambda^{2} \\left(Re - \\lambda\\right) e^{2 \\lambda x} \\sin^{2}{\\left(2 \\pi y \\right)} \\cos{\\left(2 \\pi y \\right)} + 4 \\pi^{2} Re \\left(8 Re \\lambda e^{2 \\lambda x} \\sin^{6}{\\left(\\pi y \\right)} - 12 Re \\lambda e^{2 \\lambda x} \\sin^{4}{\\left(\\pi y \\right)} + 4 Re \\lambda e^{2 \\lambda x} \\sin^{2}{\\left(\\pi y \\right)} + 8 Re \\lambda e^{\\lambda x} \\sin^{4}{\\left(\\pi y \\right)} - 8 Re \\lambda e^{\\lambda x} \\sin^{2}{\\left(\\pi y \\right)} + Re \\lambda e^{\\lambda x} - 2 Re \\lambda \\sin^{2}{\\left(\\pi y \\right)} + Re \\lambda - 4 \\lambda^{2} e^{\\lambda x} \\sin^{4}{\\left(\\pi y \\right)} + 4 \\lambda^{2} e^{\\lambda x} \\sin^{2}{\\left(\\pi y \\right)} - 4 \\lambda^{2} e^{\\lambda x} + 48 \\pi^{2} e^{\\lambda x} \\sin^{4}{\\left(\\pi y \\right)} - 48 \\pi^{2} e^{\\lambda x} \\sin^{2}{\\left(\\pi y \\right)} + 4 \\pi^{2} e^{\\lambda x} + 8 \\pi^{2} \\sin^{2}{\\left(\\pi y \\right)} - 4 \\pi^{2}\\right) + 64 \\pi^{4} \\lambda \\cos{\\left(2 \\pi y \\right)}\\right) e^{\\lambda x}}{24 \\pi^{2} Re}$"
      ],
      "text/plain": [
       "lambda*(Re**2*lambda**2*(Re - lambda)*exp(2*lambda*x)*sin(2*pi*y)**2*cos(2*pi*y) + 4*pi**2*Re*(8*Re*lambda*exp(2*lambda*x)*sin(pi*y)**6 - 12*Re*lambda*exp(2*lambda*x)*sin(pi*y)**4 + 4*Re*lambda*exp(2*lambda*x)*sin(pi*y)**2 + 8*Re*lambda*exp(lambda*x)*sin(pi*y)**4 - 8*Re*lambda*exp(lambda*x)*sin(pi*y)**2 + Re*lambda*exp(lambda*x) - 2*Re*lambda*sin(pi*y)**2 + Re*lambda - 4*lambda**2*exp(lambda*x)*sin(pi*y)**4 + 4*lambda**2*exp(lambda*x)*sin(pi*y)**2 - 4*lambda**2*exp(lambda*x) + 48*pi**2*exp(lambda*x)*sin(pi*y)**4 - 48*pi**2*exp(lambda*x)*sin(pi*y)**2 + 4*pi**2*exp(lambda*x) + 8*pi**2*sin(pi*y)**2 - 4*pi**2) + 64*pi**4*lambda*cos(2*pi*y))*exp(lambda*x)/(24*pi**2*Re)"
      ]
     },
     "metadata": {},
     "output_type": "display_data"
    },
    {
     "name": "stdout",
     "output_type": "stream",
     "text": [
      "\\frac{\\left(- Re \\lambda + \\left(\\lambda - 2 \\pi\\right) \\left(\\lambda + 2 \\pi\\right)\\right) e^{\\lambda x} \\cos{\\left(2 \\pi y \\right)}}{Re}\n",
      "+\\tau\\big(\n",
      "0\n",
      "\\big)\n",
      "+h^2\\big(\n",
      "\\frac{\\lambda \\left(Re^{2} \\lambda^{2} \\left(Re - \\lambda\\right) e^{2 \\lambda x} \\sin^{2}{\\left(2 \\pi y \\right)} \\cos{\\left(2 \\pi y \\right)} + 4 \\pi^{2} Re \\left(8 Re \\lambda e^{2 \\lambda x} \\sin^{6}{\\left(\\pi y \\right)} - 12 Re \\lambda e^{2 \\lambda x} \\sin^{4}{\\left(\\pi y \\right)} + 4 Re \\lambda e^{2 \\lambda x} \\sin^{2}{\\left(\\pi y \\right)} + 8 Re \\lambda e^{\\lambda x} \\sin^{4}{\\left(\\pi y \\right)} - 8 Re \\lambda e^{\\lambda x} \\sin^{2}{\\left(\\pi y \\right)} + Re \\lambda e^{\\lambda x} - 2 Re \\lambda \\sin^{2}{\\left(\\pi y \\right)} + Re \\lambda - 4 \\lambda^{2} e^{\\lambda x} \\sin^{4}{\\left(\\pi y \\right)} + 4 \\lambda^{2} e^{\\lambda x} \\sin^{2}{\\left(\\pi y \\right)} - 4 \\lambda^{2} e^{\\lambda x} + 48 \\pi^{2} e^{\\lambda x} \\sin^{4}{\\left(\\pi y \\right)} - 48 \\pi^{2} e^{\\lambda x} \\sin^{2}{\\left(\\pi y \\right)} + 4 \\pi^{2} e^{\\lambda x} + 8 \\pi^{2} \\sin^{2}{\\left(\\pi y \\right)} - 4 \\pi^{2}\\right) + 64 \\pi^{4} \\lambda \\cos{\\left(2 \\pi y \\right)}\\right) e^{\\lambda x}}{24 \\pi^{2} Re}\n",
      "\\big)\n",
      "-------------------------\n"
     ]
    },
    {
     "data": {
      "text/latex": [
       "$\\displaystyle p_{y} + u v_{x} + v v_{y} + v_{t} + \\frac{- v_{xx} - v_{yy}}{Re}$"
      ],
      "text/plain": [
       "p_{y} + u*v_{x} + v*v_{y} + v_{t} + (-v_{xx} - v_{yy})/Re"
      ]
     },
     "metadata": {},
     "output_type": "display_data"
    },
    {
     "name": "stdout",
     "output_type": "stream",
     "text": [
      "tau =>\n"
     ]
    },
    {
     "data": {
      "text/latex": [
       "$\\displaystyle \\frac{v_{tt}}{2}$"
      ],
      "text/plain": [
       "v_{tt}/2"
      ]
     },
     "metadata": {},
     "output_type": "display_data"
    },
    {
     "name": "stdout",
     "output_type": "stream",
     "text": [
      "h^2 =>\n"
     ]
    },
    {
     "data": {
      "text/latex": [
       "$\\displaystyle \\frac{p_{yyy} + u v_{xxx} + v v_{yyy}}{6} - \\frac{v_{xxxx} + v_{yyyy}}{3 Re}$"
      ],
      "text/plain": [
       "(p_{yyy} + u*v_{xxx} + v*v_{yyy})/6 - (v_{xxxx} + v_{yyyy})/(3*Re)"
      ]
     },
     "metadata": {},
     "output_type": "display_data"
    },
    {
     "name": "stdout",
     "output_type": "stream",
     "text": [
      "p_{y} + u v_{x} + v v_{y} + v_{t} + \\frac{- v_{xx} - v_{yy}}{Re}\n",
      "+\\tau\\big(\n",
      "\\frac{v_{tt}}{2}\n",
      "\\big)\n",
      "+h^2\\big(\n",
      "\\frac{p_{yyy} + u v_{xxx} + v v_{yyy}}{6} - \\frac{v_{xxxx} + v_{yyyy}}{3 Re}\n",
      "\\big)\n",
      "f3-f3-f3-f3-f3-f3-f3-f3-f3-f3-f3-f3-f3-f3-f3-f3-f3-f3-f3-f3-f3-f3-f3-f3-f3-\n"
     ]
    },
    {
     "data": {
      "text/latex": [
       "$\\displaystyle p_{y} + u v_{x} + v v_{y} + v_{t} + \\frac{- v_{xx} - v_{yy}}{Re}$"
      ],
      "text/plain": [
       "p_{y} + u*v_{x} + v*v_{y} + v_{t} + (-v_{xx} - v_{yy})/Re"
      ]
     },
     "metadata": {},
     "output_type": "display_data"
    },
    {
     "name": "stdout",
     "output_type": "stream",
     "text": [
      "tau =>\n"
     ]
    },
    {
     "data": {
      "text/latex": [
       "$\\displaystyle \\frac{v_{tt}}{2}$"
      ],
      "text/plain": [
       "v_{tt}/2"
      ]
     },
     "metadata": {},
     "output_type": "display_data"
    },
    {
     "name": "stdout",
     "output_type": "stream",
     "text": [
      "h^2 =>\n"
     ]
    },
    {
     "data": {
      "text/latex": [
       "$\\displaystyle - \\frac{Re^{2} u^{2} \\left(p_{y} + u v_{x} + v v_{y} + v_{t}\\right)}{6} + \\frac{Re \\left(- 2 p_{ty} - p_{xy} u + 6 p_{x} v_{x} - 2 p_{yy} v + 2 p_{y} v_{y} + u^{2} v_{yy} - 3 u v v_{xy} - 3 u v_{tx} - 4 u v_{x} v_{y} + 4 u_{t} v_{x} + 4 u_{y} v v_{x} - 2 v^{2} v_{yy} - 4 v v_{ty} - 2 v_{tt}\\right)}{6} + \\frac{5 p_{yyy} + 3 u v_{xyy} + 8 u_{y} v_{xy} + 5 v v_{yyy} + 4 v_{tyy} + 4 v_{xy} v_{x} + 12 v_{yy} v_{y}}{6} - \\frac{2 v_{yyyy}}{3 Re}$"
      ],
      "text/plain": [
       "-Re**2*u**2*(p_{y} + u*v_{x} + v*v_{y} + v_{t})/6 + Re*(-2*p_{ty} - p_{xy}*u + 6*p_{x}*v_{x} - 2*p_{yy}*v + 2*p_{y}*v_{y} + u**2*v_{yy} - 3*u*v*v_{xy} - 3*u*v_{tx} - 4*u*v_{x}*v_{y} + 4*u_{t}*v_{x} + 4*u_{y}*v*v_{x} - 2*v**2*v_{yy} - 4*v*v_{ty} - 2*v_{tt})/6 + (5*p_{yyy} + 3*u*v_{xyy} + 8*u_{y}*v_{xy} + 5*v*v_{yyy} + 4*v_{tyy} + 4*v_{xy}*v_{x} + 12*v_{yy}*v_{y})/6 - 2*v_{yyyy}/(3*Re)"
      ]
     },
     "metadata": {},
     "output_type": "display_data"
    },
    {
     "name": "stdout",
     "output_type": "stream",
     "text": [
      "p_{y} + u v_{x} + v v_{y} + v_{t} + \\frac{- v_{xx} - v_{yy}}{Re}\n",
      "+\\tau\\big(\n",
      "\\frac{v_{tt}}{2}\n",
      "\\big)\n",
      "+h^2\\big(\n",
      "- \\frac{Re^{2} u^{2} \\left(p_{y} + u v_{x} + v v_{y} + v_{t}\\right)}{6} + \\frac{Re \\left(- 2 p_{ty} - p_{xy} u + 6 p_{x} v_{x} - 2 p_{yy} v + 2 p_{y} v_{y} + u^{2} v_{yy} - 3 u v v_{xy} - 3 u v_{tx} - 4 u v_{x} v_{y} + 4 u_{t} v_{x} + 4 u_{y} v v_{x} - 2 v^{2} v_{yy} - 4 v v_{ty} - 2 v_{tt}\\right)}{6} + \\frac{5 p_{yyy} + 3 u v_{xyy} + 8 u_{y} v_{xy} + 5 v v_{yyy} + 4 v_{tyy} + 4 v_{xy} v_{x} + 12 v_{yy} v_{y}}{6} - \\frac{2 v_{yyyy}}{3 Re}\n",
      "\\big)\n"
     ]
    },
    {
     "data": {
      "text/latex": [
       "$\\displaystyle 0$"
      ],
      "text/plain": [
       "0"
      ]
     },
     "metadata": {},
     "output_type": "display_data"
    },
    {
     "name": "stdout",
     "output_type": "stream",
     "text": [
      "tau =>\n"
     ]
    },
    {
     "data": {
      "text/latex": [
       "$\\displaystyle \\frac{2 e^{- \\frac{2 t}{Re}} \\sin{\\left(x \\right)} \\cos{\\left(y \\right)}}{Re^{2}}$"
      ],
      "text/plain": [
       "2*exp(-2*t/Re)*sin(x)*cos(y)/Re**2"
      ]
     },
     "metadata": {},
     "output_type": "display_data"
    },
    {
     "name": "stdout",
     "output_type": "stream",
     "text": [
      "h^2 =>\n"
     ]
    },
    {
     "data": {
      "text/latex": [
       "$\\displaystyle - \\frac{e^{- \\frac{4 t}{Re}} \\sin{\\left(2 y \\right)}}{4} - \\frac{2 e^{- \\frac{2 t}{Re}} \\sin{\\left(x \\right)} \\cos{\\left(y \\right)}}{3 Re}$"
      ],
      "text/plain": [
       "-exp(-4*t/Re)*sin(2*y)/4 - 2*exp(-2*t/Re)*sin(x)*cos(y)/(3*Re)"
      ]
     },
     "metadata": {},
     "output_type": "display_data"
    },
    {
     "name": "stdout",
     "output_type": "stream",
     "text": [
      "0\n",
      "+\\tau\\big(\n",
      "\\frac{2 e^{- \\frac{2 t}{Re}} \\sin{\\left(x \\right)} \\cos{\\left(y \\right)}}{Re^{2}}\n",
      "\\big)\n",
      "+h^2\\big(\n",
      "- \\frac{e^{- \\frac{4 t}{Re}} \\sin{\\left(2 y \\right)}}{4} - \\frac{2 e^{- \\frac{2 t}{Re}} \\sin{\\left(x \\right)} \\cos{\\left(y \\right)}}{3 Re}\n",
      "\\big)\n"
     ]
    },
    {
     "data": {
      "text/latex": [
       "$\\displaystyle \\frac{\\lambda \\left(Re \\lambda - \\left(\\lambda - 2 \\pi\\right) \\left(\\lambda + 2 \\pi\\right)\\right) e^{\\lambda x} \\sin{\\left(2 \\pi y \\right)}}{2 \\pi Re}$"
      ],
      "text/plain": [
       "lambda*(Re*lambda - (lambda - 2*pi)*(lambda + 2*pi))*exp(lambda*x)*sin(2*pi*y)/(2*pi*Re)"
      ]
     },
     "metadata": {},
     "output_type": "display_data"
    },
    {
     "name": "stdout",
     "output_type": "stream",
     "text": [
      "tau =>\n"
     ]
    },
    {
     "data": {
      "text/latex": [
       "$\\displaystyle 0$"
      ],
      "text/plain": [
       "0"
      ]
     },
     "metadata": {},
     "output_type": "display_data"
    },
    {
     "name": "stdout",
     "output_type": "stream",
     "text": [
      "h^2 =>\n"
     ]
    },
    {
     "data": {
      "text/latex": [
       "$\\displaystyle \\frac{\\lambda \\left(Re \\left(- Re^{2} \\lambda e^{2 \\lambda x} \\cos^{2}{\\left(2 \\pi y \\right)} + 2 Re^{2} \\lambda e^{\\lambda x} \\cos{\\left(2 \\pi y \\right)} - Re^{2} \\lambda + 6 Re \\lambda^{2} e^{2 \\lambda x} \\sin^{2}{\\left(2 \\pi y \\right)} + 7 Re \\lambda^{2} e^{2 \\lambda x} \\cos^{2}{\\left(2 \\pi y \\right)} - 6 Re \\lambda^{2} e^{2 \\lambda x} - 7 Re \\lambda^{2} e^{\\lambda x} \\cos{\\left(2 \\pi y \\right)} - 4 \\pi^{2} Re e^{2 \\lambda x} \\cos^{2}{\\left(2 \\pi y \\right)} + 8 \\pi^{2} Re e^{\\lambda x} \\cos{\\left(2 \\pi y \\right)} - 4 \\pi^{2} Re + 4 \\lambda^{3} e^{\\lambda x} \\cos{\\left(2 \\pi y \\right)} - 24 \\pi^{2} \\lambda e^{\\lambda x} \\cos{\\left(2 \\pi y \\right)} - 12 \\pi^{2} \\lambda\\right) - 64 \\pi^{4}\\right) e^{\\lambda x} \\sin{\\left(2 \\pi y \\right)}}{12 \\pi Re}$"
      ],
      "text/plain": [
       "lambda*(Re*(-Re**2*lambda*exp(2*lambda*x)*cos(2*pi*y)**2 + 2*Re**2*lambda*exp(lambda*x)*cos(2*pi*y) - Re**2*lambda + 6*Re*lambda**2*exp(2*lambda*x)*sin(2*pi*y)**2 + 7*Re*lambda**2*exp(2*lambda*x)*cos(2*pi*y)**2 - 6*Re*lambda**2*exp(2*lambda*x) - 7*Re*lambda**2*exp(lambda*x)*cos(2*pi*y) - 4*pi**2*Re*exp(2*lambda*x)*cos(2*pi*y)**2 + 8*pi**2*Re*exp(lambda*x)*cos(2*pi*y) - 4*pi**2*Re + 4*lambda**3*exp(lambda*x)*cos(2*pi*y) - 24*pi**2*lambda*exp(lambda*x)*cos(2*pi*y) - 12*pi**2*lambda) - 64*pi**4)*exp(lambda*x)*sin(2*pi*y)/(12*pi*Re)"
      ]
     },
     "metadata": {},
     "output_type": "display_data"
    },
    {
     "name": "stdout",
     "output_type": "stream",
     "text": [
      "\\frac{\\lambda \\left(Re \\lambda - \\left(\\lambda - 2 \\pi\\right) \\left(\\lambda + 2 \\pi\\right)\\right) e^{\\lambda x} \\sin{\\left(2 \\pi y \\right)}}{2 \\pi Re}\n",
      "+\\tau\\big(\n",
      "0\n",
      "\\big)\n",
      "+h^2\\big(\n",
      "\\frac{\\lambda \\left(Re \\left(- Re^{2} \\lambda e^{2 \\lambda x} \\cos^{2}{\\left(2 \\pi y \\right)} + 2 Re^{2} \\lambda e^{\\lambda x} \\cos{\\left(2 \\pi y \\right)} - Re^{2} \\lambda + 6 Re \\lambda^{2} e^{2 \\lambda x} \\sin^{2}{\\left(2 \\pi y \\right)} + 7 Re \\lambda^{2} e^{2 \\lambda x} \\cos^{2}{\\left(2 \\pi y \\right)} - 6 Re \\lambda^{2} e^{2 \\lambda x} - 7 Re \\lambda^{2} e^{\\lambda x} \\cos{\\left(2 \\pi y \\right)} - 4 \\pi^{2} Re e^{2 \\lambda x} \\cos^{2}{\\left(2 \\pi y \\right)} + 8 \\pi^{2} Re e^{\\lambda x} \\cos{\\left(2 \\pi y \\right)} - 4 \\pi^{2} Re + 4 \\lambda^{3} e^{\\lambda x} \\cos{\\left(2 \\pi y \\right)} - 24 \\pi^{2} \\lambda e^{\\lambda x} \\cos{\\left(2 \\pi y \\right)} - 12 \\pi^{2} \\lambda\\right) - 64 \\pi^{4}\\right) e^{\\lambda x} \\sin{\\left(2 \\pi y \\right)}}{12 \\pi Re}\n",
      "\\big)\n",
      "-------------------------\n"
     ]
    },
    {
     "data": {
      "text/latex": [
       "$\\displaystyle p_{xx} + p_{yy} + u u_{xx} + u v_{xy} + u_{xy} v + u_{x}^{2} + 2 u_{y} v_{x} + v v_{yy} + v_{y}^{2}$"
      ],
      "text/plain": [
       "p_{xx} + p_{yy} + u*u_{xx} + u*v_{xy} + u_{xy}*v + u_{x}**2 + 2*u_{y}*v_{x} + v*v_{yy} + v_{y}**2"
      ]
     },
     "metadata": {},
     "output_type": "display_data"
    },
    {
     "name": "stdout",
     "output_type": "stream",
     "text": [
      "tau =>\n"
     ]
    },
    {
     "data": {
      "text/latex": [
       "$\\displaystyle 0$"
      ],
      "text/plain": [
       "0"
      ]
     },
     "metadata": {},
     "output_type": "display_data"
    },
    {
     "name": "stdout",
     "output_type": "stream",
     "text": [
      "h^2 =>\n"
     ]
    },
    {
     "data": {
      "text/latex": [
       "$\\displaystyle \\frac{2 p_{xxxx} + 2 p_{yyyy} + 2 u u_{xxxx} + u v_{xxxy} + u v_{xyyy} + u_{xxxy} v + 5 u_{xxx} u_{x} + 3 u_{xxy} v_{x} + 3 u_{xx}^{2} + u_{xyyy} v + 3 u_{xy} v_{xx} + 2 u_{yyy} v_{x} + 3 u_{yy} v_{xy} + 2 u_{y} v_{xxx} + 3 u_{y} v_{xyy} + 2 v v_{yyyy} + 5 v_{yyy} v_{y} + 3 v_{yy}^{2}}{6}$"
      ],
      "text/plain": [
       "(2*p_{xxxx} + 2*p_{yyyy} + 2*u*u_{xxxx} + u*v_{xxxy} + u*v_{xyyy} + u_{xxxy}*v + 5*u_{xxx}*u_{x} + 3*u_{xxy}*v_{x} + 3*u_{xx}**2 + u_{xyyy}*v + 3*u_{xy}*v_{xx} + 2*u_{yyy}*v_{x} + 3*u_{yy}*v_{xy} + 2*u_{y}*v_{xxx} + 3*u_{y}*v_{xyy} + 2*v*v_{yyyy} + 5*v_{yyy}*v_{y} + 3*v_{yy}**2)/6"
      ]
     },
     "metadata": {},
     "output_type": "display_data"
    },
    {
     "name": "stdout",
     "output_type": "stream",
     "text": [
      "p_{xx} + p_{yy} + u u_{xx} + u v_{xy} + u_{xy} v + u_{x}^{2} + 2 u_{y} v_{x} + v v_{yy} + v_{y}^{2}\n",
      "+\\tau\\big(\n",
      "0\n",
      "\\big)\n",
      "+h^2\\big(\n",
      "\\frac{2 p_{xxxx} + 2 p_{yyyy} + 2 u u_{xxxx} + u v_{xxxy} + u v_{xyyy} + u_{xxxy} v + 5 u_{xxx} u_{x} + 3 u_{xxy} v_{x} + 3 u_{xx}^{2} + u_{xyyy} v + 3 u_{xy} v_{xx} + 2 u_{yyy} v_{x} + 3 u_{yy} v_{xy} + 2 u_{y} v_{xxx} + 3 u_{y} v_{xyy} + 2 v v_{yyyy} + 5 v_{yyy} v_{y} + 3 v_{yy}^{2}}{6}\n",
      "\\big)\n",
      "f4-f4-f4-f4-f4-f4-f4-f4-f4-f4-f4-f4-f4-f4-f4-f4-f4-f4-f4-f4-f4-f4-f4-f4-f4-\n"
     ]
    },
    {
     "data": {
      "text/latex": [
       "$\\displaystyle p_{xx} + p_{yy} + u u_{xx} + u v_{xy} + u_{xy} v + u_{x}^{2} + 2 u_{y} v_{x} + v v_{yy} + v_{y}^{2}$"
      ],
      "text/plain": [
       "p_{xx} + p_{yy} + u*u_{xx} + u*v_{xy} + u_{xy}*v + u_{x}**2 + 2*u_{y}*v_{x} + v*v_{yy} + v_{y}**2"
      ]
     },
     "metadata": {},
     "output_type": "display_data"
    },
    {
     "name": "stdout",
     "output_type": "stream",
     "text": [
      "tau =>\n"
     ]
    },
    {
     "data": {
      "text/latex": [
       "$\\displaystyle 0$"
      ],
      "text/plain": [
       "0"
      ]
     },
     "metadata": {},
     "output_type": "display_data"
    },
    {
     "name": "stdout",
     "output_type": "stream",
     "text": [
      "h^2 =>\n"
     ]
    },
    {
     "data": {
      "text/latex": [
       "$\\displaystyle - \\frac{Re^{2} \\left(- 5 p_{x} v v_{x} + p_{yy} u^{2} + 3 p_{y} u u_{y} + u^{3} v_{xy} + 4 u^{2} u_{y} v_{x} + u^{2} v v_{yy} + u^{2} v_{ty} + u^{2} v_{y}^{2} + 3 u u_{y} v v_{y} + 3 u u_{y} v_{t} + 5 u v v_{x} v_{y} - 5 u_{t} v v_{x} - 5 u_{y} v^{2} v_{x}\\right)}{6} + \\frac{Re \\left(- p_{xyy} u - 2 p_{xy} u_{y} + 6 p_{xy} v_{x} + 11 p_{x} v_{xy} - p_{yyy} v - 3 p_{yy} v_{y} + 5 p_{y} v_{yy} + u^{2} v_{yyy} + 3 u u_{y} v_{yy} - 2 u v v_{xyy} - u v_{txy} - 15 u v_{xy} v_{y} - u v_{x} v_{yy} + 6 u_{ty} v_{x} + 11 u_{t} v_{xy} + 7 u_{y} v v_{xy} - 2 u_{y} v_{tx} - 3 u_{y} v_{x} v_{y} - v^{2} v_{yyy} - v v_{tyy} + 5 v v_{xy} v_{x} - v v_{yy} v_{y} - 3 v_{ty} v_{y} + 5 v_{t} v_{yy} - 3 v_{y}^{3}\\right)}{6} + \\frac{4 p_{yyyy} + 2 u v_{xyyy} + 9 u_{y} v_{xyy} + 2 v v_{yyyy} + 7 v_{xyy} v_{x} + 6 v_{xy}^{2} + 16 v_{yyy} v_{y} + 6 v_{yy}^{2}}{6}$"
      ],
      "text/plain": [
       "-Re**2*(-5*p_{x}*v*v_{x} + p_{yy}*u**2 + 3*p_{y}*u*u_{y} + u**3*v_{xy} + 4*u**2*u_{y}*v_{x} + u**2*v*v_{yy} + u**2*v_{ty} + u**2*v_{y}**2 + 3*u*u_{y}*v*v_{y} + 3*u*u_{y}*v_{t} + 5*u*v*v_{x}*v_{y} - 5*u_{t}*v*v_{x} - 5*u_{y}*v**2*v_{x})/6 + Re*(-p_{xyy}*u - 2*p_{xy}*u_{y} + 6*p_{xy}*v_{x} + 11*p_{x}*v_{xy} - p_{yyy}*v - 3*p_{yy}*v_{y} + 5*p_{y}*v_{yy} + u**2*v_{yyy} + 3*u*u_{y}*v_{yy} - 2*u*v*v_{xyy} - u*v_{txy} - 15*u*v_{xy}*v_{y} - u*v_{x}*v_{yy} + 6*u_{ty}*v_{x} + 11*u_{t}*v_{xy} + 7*u_{y}*v*v_{xy} - 2*u_{y}*v_{tx} - 3*u_{y}*v_{x}*v_{y} - v**2*v_{yyy} - v*v_{tyy} + 5*v*v_{xy}*v_{x} - v*v_{yy}*v_{y} - 3*v_{ty}*v_{y} + 5*v_{t}*v_{yy} - 3*v_{y}**3)/6 + (4*p_{yyyy} + 2*u*v_{xyyy} + 9*u_{y}*v_{xyy} + 2*v*v_{yyyy} + 7*v_{xyy}*v_{x} + 6*v_{xy}**2 + 16*v_{yyy}*v_{y} + 6*v_{yy}**2)/6"
      ]
     },
     "metadata": {},
     "output_type": "display_data"
    },
    {
     "name": "stdout",
     "output_type": "stream",
     "text": [
      "p_{xx} + p_{yy} + u u_{xx} + u v_{xy} + u_{xy} v + u_{x}^{2} + 2 u_{y} v_{x} + v v_{yy} + v_{y}^{2}\n",
      "+\\tau\\big(\n",
      "0\n",
      "\\big)\n",
      "+h^2\\big(\n",
      "- \\frac{Re^{2} \\left(- 5 p_{x} v v_{x} + p_{yy} u^{2} + 3 p_{y} u u_{y} + u^{3} v_{xy} + 4 u^{2} u_{y} v_{x} + u^{2} v v_{yy} + u^{2} v_{ty} + u^{2} v_{y}^{2} + 3 u u_{y} v v_{y} + 3 u u_{y} v_{t} + 5 u v v_{x} v_{y} - 5 u_{t} v v_{x} - 5 u_{y} v^{2} v_{x}\\right)}{6} + \\frac{Re \\left(- p_{xyy} u - 2 p_{xy} u_{y} + 6 p_{xy} v_{x} + 11 p_{x} v_{xy} - p_{yyy} v - 3 p_{yy} v_{y} + 5 p_{y} v_{yy} + u^{2} v_{yyy} + 3 u u_{y} v_{yy} - 2 u v v_{xyy} - u v_{txy} - 15 u v_{xy} v_{y} - u v_{x} v_{yy} + 6 u_{ty} v_{x} + 11 u_{t} v_{xy} + 7 u_{y} v v_{xy} - 2 u_{y} v_{tx} - 3 u_{y} v_{x} v_{y} - v^{2} v_{yyy} - v v_{tyy} + 5 v v_{xy} v_{x} - v v_{yy} v_{y} - 3 v_{ty} v_{y} + 5 v_{t} v_{yy} - 3 v_{y}^{3}\\right)}{6} + \\frac{4 p_{yyyy} + 2 u v_{xyyy} + 9 u_{y} v_{xyy} + 2 v v_{yyyy} + 7 v_{xyy} v_{x} + 6 v_{xy}^{2} + 16 v_{yyy} v_{y} + 6 v_{yy}^{2}}{6}\n",
      "\\big)\n"
     ]
    },
    {
     "data": {
      "text/latex": [
       "$\\displaystyle 0$"
      ],
      "text/plain": [
       "0"
      ]
     },
     "metadata": {},
     "output_type": "display_data"
    },
    {
     "name": "stdout",
     "output_type": "stream",
     "text": [
      "tau =>\n"
     ]
    },
    {
     "data": {
      "text/latex": [
       "$\\displaystyle 0$"
      ],
      "text/plain": [
       "0"
      ]
     },
     "metadata": {},
     "output_type": "display_data"
    },
    {
     "name": "stdout",
     "output_type": "stream",
     "text": [
      "h^2 =>\n"
     ]
    },
    {
     "data": {
      "text/latex": [
       "$\\displaystyle \\left(\\sin^{2}{\\left(x \\right)} + \\sin^{2}{\\left(y \\right)} - 1\\right) e^{- \\frac{4 t}{Re}}$"
      ],
      "text/plain": [
       "(sin(x)**2 + sin(y)**2 - 1)*exp(-4*t/Re)"
      ]
     },
     "metadata": {},
     "output_type": "display_data"
    },
    {
     "name": "stdout",
     "output_type": "stream",
     "text": [
      "0\n",
      "+\\tau\\big(\n",
      "0\n",
      "\\big)\n",
      "+h^2\\big(\n",
      "\\left(\\sin^{2}{\\left(x \\right)} + \\sin^{2}{\\left(y \\right)} - 1\\right) e^{- \\frac{4 t}{Re}}\n",
      "\\big)\n"
     ]
    },
    {
     "data": {
      "text/latex": [
       "$\\displaystyle 0$"
      ],
      "text/plain": [
       "0"
      ]
     },
     "metadata": {},
     "output_type": "display_data"
    },
    {
     "name": "stdout",
     "output_type": "stream",
     "text": [
      "tau =>\n"
     ]
    },
    {
     "data": {
      "text/latex": [
       "$\\displaystyle 0$"
      ],
      "text/plain": [
       "0"
      ]
     },
     "metadata": {},
     "output_type": "display_data"
    },
    {
     "name": "stdout",
     "output_type": "stream",
     "text": [
      "h^2 =>\n"
     ]
    },
    {
     "data": {
      "text/latex": [
       "$\\displaystyle \\frac{\\lambda \\left(- Re^{2} \\lambda \\left(10 \\lambda^{2} e^{2 \\lambda x} \\sin^{6}{\\left(\\pi y \\right)} - 15 \\lambda^{2} e^{2 \\lambda x} \\sin^{4}{\\left(\\pi y \\right)} + 5 \\lambda^{2} e^{2 \\lambda x} \\sin^{2}{\\left(\\pi y \\right)} - 32 \\pi^{2} e^{2 \\lambda x} \\sin^{6}{\\left(\\pi y \\right)} + 48 \\pi^{2} e^{2 \\lambda x} \\sin^{4}{\\left(\\pi y \\right)} - 18 \\pi^{2} e^{2 \\lambda x} \\sin^{2}{\\left(\\pi y \\right)} + \\pi^{2} e^{2 \\lambda x} - 20 \\pi^{2} e^{\\lambda x} \\sin^{4}{\\left(\\pi y \\right)} + 20 \\pi^{2} e^{\\lambda x} \\sin^{2}{\\left(\\pi y \\right)} - 2 \\pi^{2} e^{\\lambda x} - 2 \\pi^{2} \\sin^{2}{\\left(\\pi y \\right)} + \\pi^{2}\\right) + Re \\left(10 \\lambda^{4} e^{2 \\lambda x} \\sin^{6}{\\left(\\pi y \\right)} - 15 \\lambda^{4} e^{2 \\lambda x} \\sin^{4}{\\left(\\pi y \\right)} + 5 \\lambda^{4} e^{2 \\lambda x} \\sin^{2}{\\left(\\pi y \\right)} - 72 \\pi^{2} \\lambda^{2} e^{2 \\lambda x} \\sin^{6}{\\left(\\pi y \\right)} + 108 \\pi^{2} \\lambda^{2} e^{2 \\lambda x} \\sin^{4}{\\left(\\pi y \\right)} - 38 \\pi^{2} \\lambda^{2} e^{2 \\lambda x} \\sin^{2}{\\left(\\pi y \\right)} + \\pi^{2} \\lambda^{2} e^{2 \\lambda x} - 72 \\pi^{2} \\lambda^{2} e^{\\lambda x} \\sin^{4}{\\left(\\pi y \\right)} + 72 \\pi^{2} \\lambda^{2} e^{\\lambda x} \\sin^{2}{\\left(\\pi y \\right)} - 15 \\pi^{2} \\lambda^{2} e^{\\lambda x} + 128 \\pi^{4} e^{2 \\lambda x} \\sin^{6}{\\left(\\pi y \\right)} - 192 \\pi^{4} e^{2 \\lambda x} \\sin^{4}{\\left(\\pi y \\right)} + 72 \\pi^{4} e^{2 \\lambda x} \\sin^{2}{\\left(\\pi y \\right)} - 4 \\pi^{4} e^{2 \\lambda x} + 80 \\pi^{4} e^{\\lambda x} \\sin^{4}{\\left(\\pi y \\right)} - 80 \\pi^{4} e^{\\lambda x} \\sin^{2}{\\left(\\pi y \\right)} + 8 \\pi^{4} e^{\\lambda x} + 8 \\pi^{4} \\sin^{2}{\\left(\\pi y \\right)} - 4 \\pi^{4}\\right) + 2 \\pi^{2} \\lambda \\left(26 \\lambda^{2} e^{\\lambda x} \\sin^{4}{\\left(\\pi y \\right)} - 26 \\lambda^{2} e^{\\lambda x} \\sin^{2}{\\left(\\pi y \\right)} + 3 \\lambda^{2} e^{\\lambda x} - 104 \\pi^{2} e^{\\lambda x} \\sin^{4}{\\left(\\pi y \\right)} + 104 \\pi^{2} e^{\\lambda x} \\sin^{2}{\\left(\\pi y \\right)} - 28 \\pi^{2} e^{\\lambda x} + 8 \\pi^{2} \\sin^{2}{\\left(\\pi y \\right)} - 4 \\pi^{2}\\right)\\right) e^{\\lambda x}}{6 \\pi^{2}}$"
      ],
      "text/plain": [
       "lambda*(-Re**2*lambda*(10*lambda**2*exp(2*lambda*x)*sin(pi*y)**6 - 15*lambda**2*exp(2*lambda*x)*sin(pi*y)**4 + 5*lambda**2*exp(2*lambda*x)*sin(pi*y)**2 - 32*pi**2*exp(2*lambda*x)*sin(pi*y)**6 + 48*pi**2*exp(2*lambda*x)*sin(pi*y)**4 - 18*pi**2*exp(2*lambda*x)*sin(pi*y)**2 + pi**2*exp(2*lambda*x) - 20*pi**2*exp(lambda*x)*sin(pi*y)**4 + 20*pi**2*exp(lambda*x)*sin(pi*y)**2 - 2*pi**2*exp(lambda*x) - 2*pi**2*sin(pi*y)**2 + pi**2) + Re*(10*lambda**4*exp(2*lambda*x)*sin(pi*y)**6 - 15*lambda**4*exp(2*lambda*x)*sin(pi*y)**4 + 5*lambda**4*exp(2*lambda*x)*sin(pi*y)**2 - 72*pi**2*lambda**2*exp(2*lambda*x)*sin(pi*y)**6 + 108*pi**2*lambda**2*exp(2*lambda*x)*sin(pi*y)**4 - 38*pi**2*lambda**2*exp(2*lambda*x)*sin(pi*y)**2 + pi**2*lambda**2*exp(2*lambda*x) - 72*pi**2*lambda**2*exp(lambda*x)*sin(pi*y)**4 + 72*pi**2*lambda**2*exp(lambda*x)*sin(pi*y)**2 - 15*pi**2*lambda**2*exp(lambda*x) + 128*pi**4*exp(2*lambda*x)*sin(pi*y)**6 - 192*pi**4*exp(2*lambda*x)*sin(pi*y)**4 + 72*pi**4*exp(2*lambda*x)*sin(pi*y)**2 - 4*pi**4*exp(2*lambda*x) + 80*pi**4*exp(lambda*x)*sin(pi*y)**4 - 80*pi**4*exp(lambda*x)*sin(pi*y)**2 + 8*pi**4*exp(lambda*x) + 8*pi**4*sin(pi*y)**2 - 4*pi**4) + 2*pi**2*lambda*(26*lambda**2*exp(lambda*x)*sin(pi*y)**4 - 26*lambda**2*exp(lambda*x)*sin(pi*y)**2 + 3*lambda**2*exp(lambda*x) - 104*pi**2*exp(lambda*x)*sin(pi*y)**4 + 104*pi**2*exp(lambda*x)*sin(pi*y)**2 - 28*pi**2*exp(lambda*x) + 8*pi**2*sin(pi*y)**2 - 4*pi**2))*exp(lambda*x)/(6*pi**2)"
      ]
     },
     "metadata": {},
     "output_type": "display_data"
    },
    {
     "name": "stdout",
     "output_type": "stream",
     "text": [
      "0\n",
      "+\\tau\\big(\n",
      "0\n",
      "\\big)\n",
      "+h^2\\big(\n",
      "\\frac{\\lambda \\left(- Re^{2} \\lambda \\left(10 \\lambda^{2} e^{2 \\lambda x} \\sin^{6}{\\left(\\pi y \\right)} - 15 \\lambda^{2} e^{2 \\lambda x} \\sin^{4}{\\left(\\pi y \\right)} + 5 \\lambda^{2} e^{2 \\lambda x} \\sin^{2}{\\left(\\pi y \\right)} - 32 \\pi^{2} e^{2 \\lambda x} \\sin^{6}{\\left(\\pi y \\right)} + 48 \\pi^{2} e^{2 \\lambda x} \\sin^{4}{\\left(\\pi y \\right)} - 18 \\pi^{2} e^{2 \\lambda x} \\sin^{2}{\\left(\\pi y \\right)} + \\pi^{2} e^{2 \\lambda x} - 20 \\pi^{2} e^{\\lambda x} \\sin^{4}{\\left(\\pi y \\right)} + 20 \\pi^{2} e^{\\lambda x} \\sin^{2}{\\left(\\pi y \\right)} - 2 \\pi^{2} e^{\\lambda x} - 2 \\pi^{2} \\sin^{2}{\\left(\\pi y \\right)} + \\pi^{2}\\right) + Re \\left(10 \\lambda^{4} e^{2 \\lambda x} \\sin^{6}{\\left(\\pi y \\right)} - 15 \\lambda^{4} e^{2 \\lambda x} \\sin^{4}{\\left(\\pi y \\right)} + 5 \\lambda^{4} e^{2 \\lambda x} \\sin^{2}{\\left(\\pi y \\right)} - 72 \\pi^{2} \\lambda^{2} e^{2 \\lambda x} \\sin^{6}{\\left(\\pi y \\right)} + 108 \\pi^{2} \\lambda^{2} e^{2 \\lambda x} \\sin^{4}{\\left(\\pi y \\right)} - 38 \\pi^{2} \\lambda^{2} e^{2 \\lambda x} \\sin^{2}{\\left(\\pi y \\right)} + \\pi^{2} \\lambda^{2} e^{2 \\lambda x} - 72 \\pi^{2} \\lambda^{2} e^{\\lambda x} \\sin^{4}{\\left(\\pi y \\right)} + 72 \\pi^{2} \\lambda^{2} e^{\\lambda x} \\sin^{2}{\\left(\\pi y \\right)} - 15 \\pi^{2} \\lambda^{2} e^{\\lambda x} + 128 \\pi^{4} e^{2 \\lambda x} \\sin^{6}{\\left(\\pi y \\right)} - 192 \\pi^{4} e^{2 \\lambda x} \\sin^{4}{\\left(\\pi y \\right)} + 72 \\pi^{4} e^{2 \\lambda x} \\sin^{2}{\\left(\\pi y \\right)} - 4 \\pi^{4} e^{2 \\lambda x} + 80 \\pi^{4} e^{\\lambda x} \\sin^{4}{\\left(\\pi y \\right)} - 80 \\pi^{4} e^{\\lambda x} \\sin^{2}{\\left(\\pi y \\right)} + 8 \\pi^{4} e^{\\lambda x} + 8 \\pi^{4} \\sin^{2}{\\left(\\pi y \\right)} - 4 \\pi^{4}\\right) + 2 \\pi^{2} \\lambda \\left(26 \\lambda^{2} e^{\\lambda x} \\sin^{4}{\\left(\\pi y \\right)} - 26 \\lambda^{2} e^{\\lambda x} \\sin^{2}{\\left(\\pi y \\right)} + 3 \\lambda^{2} e^{\\lambda x} - 104 \\pi^{2} e^{\\lambda x} \\sin^{4}{\\left(\\pi y \\right)} + 104 \\pi^{2} e^{\\lambda x} \\sin^{2}{\\left(\\pi y \\right)} - 28 \\pi^{2} e^{\\lambda x} + 8 \\pi^{2} \\sin^{2}{\\left(\\pi y \\right)} - 4 \\pi^{2}\\right)\\right) e^{\\lambda x}}{6 \\pi^{2}}\n",
      "\\big)\n"
     ]
    },
    {
     "data": {
      "text/latex": [
       "$\\displaystyle 0$"
      ],
      "text/plain": [
       "0"
      ]
     },
     "metadata": {},
     "output_type": "display_data"
    },
    {
     "name": "stdout",
     "output_type": "stream",
     "text": [
      "tau =>\n"
     ]
    },
    {
     "data": {
      "text/latex": [
       "$\\displaystyle 0$"
      ],
      "text/plain": [
       "0"
      ]
     },
     "metadata": {},
     "output_type": "display_data"
    },
    {
     "name": "stdout",
     "output_type": "stream",
     "text": [
      "h^2 =>\n"
     ]
    },
    {
     "data": {
      "text/latex": [
       "$\\displaystyle 0$"
      ],
      "text/plain": [
       "0"
      ]
     },
     "metadata": {},
     "output_type": "display_data"
    },
    {
     "name": "stdout",
     "output_type": "stream",
     "text": [
      "0\n",
      "+\\tau\\big(\n",
      "0\n",
      "\\big)\n",
      "+h^2\\big(\n",
      "0\n",
      "\\big)\n"
     ]
    }
   ],
   "source": [
    "F1 = clip(Dx(u) + Dy(v))\n",
    "F2 = clip(Dt(u) + u*Dx(u) + v*Dy(u) + Dx(p) - DD2(u)/Re)\n",
    "F3 = clip(Dt(v) + u*Dx(v) + v*Dy(v) + Dy(p) - DD2(v)/Re)\n",
    "F4 = clip(Dx(u*Dx(u) + v*Dy(u) + Dx(p)) + Dy(u*Dx(v) + v*Dy(v) + Dy(p)))\n",
    "\n",
    "build(F1, F2, F3, F4)"
   ]
  },
  {
   "cell_type": "code",
   "execution_count": 14,
   "metadata": {},
   "outputs": [
    {
     "data": {
      "text/latex": [
       "$\\displaystyle u_{x} + v_{y}$"
      ],
      "text/plain": [
       "u_{x} + v_{y}"
      ]
     },
     "metadata": {},
     "output_type": "display_data"
    },
    {
     "name": "stdout",
     "output_type": "stream",
     "text": [
      "tau =>\n"
     ]
    },
    {
     "data": {
      "text/latex": [
       "$\\displaystyle 0$"
      ],
      "text/plain": [
       "0"
      ]
     },
     "metadata": {},
     "output_type": "display_data"
    },
    {
     "name": "stdout",
     "output_type": "stream",
     "text": [
      "h^2 =>\n"
     ]
    },
    {
     "data": {
      "text/latex": [
       "$\\displaystyle \\frac{u_{xxx} + v_{yyy}}{6}$"
      ],
      "text/plain": [
       "(u_{xxx} + v_{yyy})/6"
      ]
     },
     "metadata": {},
     "output_type": "display_data"
    },
    {
     "name": "stdout",
     "output_type": "stream",
     "text": [
      "u_{x} + v_{y}\n",
      "+\\tau\\big(\n",
      "0\n",
      "\\big)\n",
      "+h^2\\big(\n",
      "\\frac{u_{xxx} + v_{yyy}}{6}\n",
      "\\big)\n",
      "f1-f1-f1-f1-f1-f1-f1-f1-f1-f1-f1-f1-f1-f1-f1-f1-f1-f1-f1-f1-f1-f1-f1-f1-f1-\n"
     ]
    },
    {
     "data": {
      "text/latex": [
       "$\\displaystyle u_{x} + v_{y}$"
      ],
      "text/plain": [
       "u_{x} + v_{y}"
      ]
     },
     "metadata": {},
     "output_type": "display_data"
    },
    {
     "name": "stdout",
     "output_type": "stream",
     "text": [
      "tau =>\n"
     ]
    },
    {
     "data": {
      "text/latex": [
       "$\\displaystyle 0$"
      ],
      "text/plain": [
       "0"
      ]
     },
     "metadata": {},
     "output_type": "display_data"
    },
    {
     "name": "stdout",
     "output_type": "stream",
     "text": [
      "h^2 =>\n"
     ]
    },
    {
     "data": {
      "text/latex": [
       "$\\displaystyle - \\frac{Re \\left(p_{yy} + u v_{xy} + u_{y} v_{x} + v v_{yy} + v_{ty} + v_{y}^{2}\\right)}{6} + \\frac{v_{yyy}}{3}$"
      ],
      "text/plain": [
       "-Re*(p_{yy} + u*v_{xy} + u_{y}*v_{x} + v*v_{yy} + v_{ty} + v_{y}**2)/6 + v_{yyy}/3"
      ]
     },
     "metadata": {},
     "output_type": "display_data"
    },
    {
     "name": "stdout",
     "output_type": "stream",
     "text": [
      "u_{x} + v_{y}\n",
      "+\\tau\\big(\n",
      "0\n",
      "\\big)\n",
      "+h^2\\big(\n",
      "- \\frac{Re \\left(p_{yy} + u v_{xy} + u_{y} v_{x} + v v_{yy} + v_{ty} + v_{y}^{2}\\right)}{6} + \\frac{v_{yyy}}{3}\n",
      "\\big)\n"
     ]
    },
    {
     "data": {
      "text/latex": [
       "$\\displaystyle 0$"
      ],
      "text/plain": [
       "0"
      ]
     },
     "metadata": {},
     "output_type": "display_data"
    },
    {
     "name": "stdout",
     "output_type": "stream",
     "text": [
      "tau =>\n"
     ]
    },
    {
     "data": {
      "text/latex": [
       "$\\displaystyle 0$"
      ],
      "text/plain": [
       "0"
      ]
     },
     "metadata": {},
     "output_type": "display_data"
    },
    {
     "name": "stdout",
     "output_type": "stream",
     "text": [
      "h^2 =>\n"
     ]
    },
    {
     "data": {
      "text/latex": [
       "$\\displaystyle 0$"
      ],
      "text/plain": [
       "0"
      ]
     },
     "metadata": {},
     "output_type": "display_data"
    },
    {
     "name": "stdout",
     "output_type": "stream",
     "text": [
      "0\n",
      "+\\tau\\big(\n",
      "0\n",
      "\\big)\n",
      "+h^2\\big(\n",
      "0\n",
      "\\big)\n"
     ]
    },
    {
     "data": {
      "text/latex": [
       "$\\displaystyle 0$"
      ],
      "text/plain": [
       "0"
      ]
     },
     "metadata": {},
     "output_type": "display_data"
    },
    {
     "name": "stdout",
     "output_type": "stream",
     "text": [
      "tau =>\n"
     ]
    },
    {
     "data": {
      "text/latex": [
       "$\\displaystyle 0$"
      ],
      "text/plain": [
       "0"
      ]
     },
     "metadata": {},
     "output_type": "display_data"
    },
    {
     "name": "stdout",
     "output_type": "stream",
     "text": [
      "h^2 =>\n"
     ]
    },
    {
     "data": {
      "text/latex": [
       "$\\displaystyle - \\frac{\\lambda \\left(Re \\lambda + 8 \\pi^{2}\\right) e^{\\lambda x} \\cos{\\left(2 \\pi y \\right)}}{6}$"
      ],
      "text/plain": [
       "-lambda*(Re*lambda + 8*pi**2)*exp(lambda*x)*cos(2*pi*y)/6"
      ]
     },
     "metadata": {},
     "output_type": "display_data"
    },
    {
     "name": "stdout",
     "output_type": "stream",
     "text": [
      "0\n",
      "+\\tau\\big(\n",
      "0\n",
      "\\big)\n",
      "+h^2\\big(\n",
      "- \\frac{\\lambda \\left(Re \\lambda + 8 \\pi^{2}\\right) e^{\\lambda x} \\cos{\\left(2 \\pi y \\right)}}{6}\n",
      "\\big)\n",
      "-------------------------\n"
     ]
    },
    {
     "data": {
      "text/latex": [
       "$\\displaystyle p_{x} + u u_{x} + u_{t} + u_{y} v + \\frac{- u_{xx} - u_{yy}}{Re}$"
      ],
      "text/plain": [
       "p_{x} + u*u_{x} + u_{t} + u_{y}*v + (-u_{xx} - u_{yy})/Re"
      ]
     },
     "metadata": {},
     "output_type": "display_data"
    },
    {
     "name": "stdout",
     "output_type": "stream",
     "text": [
      "tau =>\n"
     ]
    },
    {
     "data": {
      "text/latex": [
       "$\\displaystyle \\frac{p_{tx} + u u_{tx} + u_{tt} + u_{ty} v + u_{t} u_{x} + u_{y} v_{t}}{2} - \\frac{u_{txx} + u_{tyy}}{2 Re}$"
      ],
      "text/plain": [
       "(p_{tx} + u*u_{tx} + u_{tt} + u_{ty}*v + u_{t}*u_{x} + u_{y}*v_{t})/2 - (u_{txx} + u_{tyy})/(2*Re)"
      ]
     },
     "metadata": {},
     "output_type": "display_data"
    },
    {
     "name": "stdout",
     "output_type": "stream",
     "text": [
      "h^2 =>\n"
     ]
    },
    {
     "data": {
      "text/latex": [
       "$\\displaystyle \\frac{p_{xxx} + u u_{xxx} + u_{yyy} v}{6} - \\frac{u_{xxxx} + u_{yyyy}}{12 Re}$"
      ],
      "text/plain": [
       "(p_{xxx} + u*u_{xxx} + u_{yyy}*v)/6 - (u_{xxxx} + u_{yyyy})/(12*Re)"
      ]
     },
     "metadata": {},
     "output_type": "display_data"
    },
    {
     "name": "stdout",
     "output_type": "stream",
     "text": [
      "p_{x} + u u_{x} + u_{t} + u_{y} v + \\frac{- u_{xx} - u_{yy}}{Re}\n",
      "+\\tau\\big(\n",
      "\\frac{p_{tx} + u u_{tx} + u_{tt} + u_{ty} v + u_{t} u_{x} + u_{y} v_{t}}{2} - \\frac{u_{txx} + u_{tyy}}{2 Re}\n",
      "\\big)\n",
      "+h^2\\big(\n",
      "\\frac{p_{xxx} + u u_{xxx} + u_{yyy} v}{6} - \\frac{u_{xxxx} + u_{yyyy}}{12 Re}\n",
      "\\big)\n",
      "f2-f2-f2-f2-f2-f2-f2-f2-f2-f2-f2-f2-f2-f2-f2-f2-f2-f2-f2-f2-f2-f2-f2-f2-f2-\n"
     ]
    },
    {
     "data": {
      "text/latex": [
       "$\\displaystyle p_{x} + u u_{x} + u_{t} + u_{y} v + \\frac{- u_{xx} - u_{yy}}{Re}$"
      ],
      "text/plain": [
       "p_{x} + u*u_{x} + u_{t} + u_{y}*v + (-u_{xx} - u_{yy})/Re"
      ]
     },
     "metadata": {},
     "output_type": "display_data"
    },
    {
     "name": "stdout",
     "output_type": "stream",
     "text": [
      "tau =>\n"
     ]
    },
    {
     "data": {
      "text/latex": [
       "$\\displaystyle 0$"
      ],
      "text/plain": [
       "0"
      ]
     },
     "metadata": {},
     "output_type": "display_data"
    },
    {
     "name": "stdout",
     "output_type": "stream",
     "text": [
      "h^2 =>\n"
     ]
    },
    {
     "data": {
      "text/latex": [
       "$\\displaystyle - \\frac{Re^{2} v^{2} \\left(- p_{x} + u v_{y} - u_{t} - u_{y} v\\right)}{12} - \\frac{Re \\left(p_{tx} - p_{xy} v + p_{x} v_{y} + p_{yy} u + 3 p_{y} u_{y} + u^{2} v_{xy} + 4 u u_{y} v_{x} + 2 u v v_{yy} + u_{tt} + 4 u_{y} v v_{y} + 4 u_{y} v_{t} - v^{2} v_{xy}\\right)}{12} + \\frac{- p_{xyy} + u v_{yyy} + 2 u_{y} v_{yy} + v v_{xyy} - 4 v_{xy} v_{y} + 2 v_{x} v_{yy}}{6} - \\frac{v_{xyyy}}{6 Re}$"
      ],
      "text/plain": [
       "-Re**2*v**2*(-p_{x} + u*v_{y} - u_{t} - u_{y}*v)/12 - Re*(p_{tx} - p_{xy}*v + p_{x}*v_{y} + p_{yy}*u + 3*p_{y}*u_{y} + u**2*v_{xy} + 4*u*u_{y}*v_{x} + 2*u*v*v_{yy} + u_{tt} + 4*u_{y}*v*v_{y} + 4*u_{y}*v_{t} - v**2*v_{xy})/12 + (-p_{xyy} + u*v_{yyy} + 2*u_{y}*v_{yy} + v*v_{xyy} - 4*v_{xy}*v_{y} + 2*v_{x}*v_{yy})/6 - v_{xyyy}/(6*Re)"
      ]
     },
     "metadata": {},
     "output_type": "display_data"
    },
    {
     "name": "stdout",
     "output_type": "stream",
     "text": [
      "p_{x} + u u_{x} + u_{t} + u_{y} v + \\frac{- u_{xx} - u_{yy}}{Re}\n",
      "+\\tau\\big(\n",
      "0\n",
      "\\big)\n",
      "+h^2\\big(\n",
      "- \\frac{Re^{2} v^{2} \\left(- p_{x} + u v_{y} - u_{t} - u_{y} v\\right)}{12} - \\frac{Re \\left(p_{tx} - p_{xy} v + p_{x} v_{y} + p_{yy} u + 3 p_{y} u_{y} + u^{2} v_{xy} + 4 u u_{y} v_{x} + 2 u v v_{yy} + u_{tt} + 4 u_{y} v v_{y} + 4 u_{y} v_{t} - v^{2} v_{xy}\\right)}{12} + \\frac{- p_{xyy} + u v_{yyy} + 2 u_{y} v_{yy} + v v_{xyy} - 4 v_{xy} v_{y} + 2 v_{x} v_{yy}}{6} - \\frac{v_{xyyy}}{6 Re}\n",
      "\\big)\n"
     ]
    },
    {
     "data": {
      "text/latex": [
       "$\\displaystyle 0$"
      ],
      "text/plain": [
       "0"
      ]
     },
     "metadata": {},
     "output_type": "display_data"
    },
    {
     "name": "stdout",
     "output_type": "stream",
     "text": [
      "tau =>\n"
     ]
    },
    {
     "data": {
      "text/latex": [
       "$\\displaystyle 0$"
      ],
      "text/plain": [
       "0"
      ]
     },
     "metadata": {},
     "output_type": "display_data"
    },
    {
     "name": "stdout",
     "output_type": "stream",
     "text": [
      "h^2 =>\n"
     ]
    },
    {
     "data": {
      "text/latex": [
       "$\\displaystyle \\frac{\\left(- 3 Re \\sin{\\left(x \\right)} + e^{\\frac{2 t}{Re}} \\sin{\\left(y \\right)}\\right) e^{- \\frac{4 t}{Re}} \\cos{\\left(x \\right)}}{6 Re}$"
      ],
      "text/plain": [
       "(-3*Re*sin(x) + exp(2*t/Re)*sin(y))*exp(-4*t/Re)*cos(x)/(6*Re)"
      ]
     },
     "metadata": {},
     "output_type": "display_data"
    },
    {
     "name": "stdout",
     "output_type": "stream",
     "text": [
      "0\n",
      "+\\tau\\big(\n",
      "0\n",
      "\\big)\n",
      "+h^2\\big(\n",
      "\\frac{\\left(- 3 Re \\sin{\\left(x \\right)} + e^{\\frac{2 t}{Re}} \\sin{\\left(y \\right)}\\right) e^{- \\frac{4 t}{Re}} \\cos{\\left(x \\right)}}{6 Re}\n",
      "\\big)\n"
     ]
    },
    {
     "data": {
      "text/latex": [
       "$\\displaystyle \\frac{\\left(- Re \\lambda + \\left(\\lambda - 2 \\pi\\right) \\left(\\lambda + 2 \\pi\\right)\\right) e^{\\lambda x} \\cos{\\left(2 \\pi y \\right)}}{Re}$"
      ],
      "text/plain": [
       "(-Re*lambda + (lambda - 2*pi)*(lambda + 2*pi))*exp(lambda*x)*cos(2*pi*y)/Re"
      ]
     },
     "metadata": {},
     "output_type": "display_data"
    },
    {
     "name": "stdout",
     "output_type": "stream",
     "text": [
      "tau =>\n"
     ]
    },
    {
     "data": {
      "text/latex": [
       "$\\displaystyle 0$"
      ],
      "text/plain": [
       "0"
      ]
     },
     "metadata": {},
     "output_type": "display_data"
    },
    {
     "name": "stdout",
     "output_type": "stream",
     "text": [
      "h^2 =>\n"
     ]
    },
    {
     "data": {
      "text/latex": [
       "$\\displaystyle \\frac{\\lambda \\left(- Re^{2} \\lambda^{2} \\left(Re - \\lambda\\right) e^{2 \\lambda x} \\sin^{2}{\\left(2 \\pi y \\right)} \\cos{\\left(2 \\pi y \\right)} - 4 \\pi^{2} Re \\left(8 Re \\lambda e^{2 \\lambda x} \\sin^{6}{\\left(\\pi y \\right)} - 12 Re \\lambda e^{2 \\lambda x} \\sin^{4}{\\left(\\pi y \\right)} + 4 Re \\lambda e^{2 \\lambda x} \\sin^{2}{\\left(\\pi y \\right)} - 16 Re \\lambda e^{\\lambda x} \\sin^{4}{\\left(\\pi y \\right)} + 16 Re \\lambda e^{\\lambda x} \\sin^{2}{\\left(\\pi y \\right)} - 2 Re \\lambda e^{\\lambda x} - 2 Re \\lambda \\sin^{2}{\\left(\\pi y \\right)} + Re \\lambda + 8 \\lambda^{2} e^{\\lambda x} \\sin^{4}{\\left(\\pi y \\right)} - 8 \\lambda^{2} e^{\\lambda x} \\sin^{2}{\\left(\\pi y \\right)} + 8 \\lambda^{2} e^{\\lambda x} - 96 \\pi^{2} e^{\\lambda x} \\sin^{4}{\\left(\\pi y \\right)} + 96 \\pi^{2} e^{\\lambda x} \\sin^{2}{\\left(\\pi y \\right)} - 8 \\pi^{2} e^{\\lambda x} - 16 \\pi^{2} \\sin^{2}{\\left(\\pi y \\right)} + 8 \\pi^{2}\\right) + 32 \\pi^{4} \\lambda \\cos{\\left(2 \\pi y \\right)}\\right) e^{\\lambda x}}{48 \\pi^{2} Re}$"
      ],
      "text/plain": [
       "lambda*(-Re**2*lambda**2*(Re - lambda)*exp(2*lambda*x)*sin(2*pi*y)**2*cos(2*pi*y) - 4*pi**2*Re*(8*Re*lambda*exp(2*lambda*x)*sin(pi*y)**6 - 12*Re*lambda*exp(2*lambda*x)*sin(pi*y)**4 + 4*Re*lambda*exp(2*lambda*x)*sin(pi*y)**2 - 16*Re*lambda*exp(lambda*x)*sin(pi*y)**4 + 16*Re*lambda*exp(lambda*x)*sin(pi*y)**2 - 2*Re*lambda*exp(lambda*x) - 2*Re*lambda*sin(pi*y)**2 + Re*lambda + 8*lambda**2*exp(lambda*x)*sin(pi*y)**4 - 8*lambda**2*exp(lambda*x)*sin(pi*y)**2 + 8*lambda**2*exp(lambda*x) - 96*pi**2*exp(lambda*x)*sin(pi*y)**4 + 96*pi**2*exp(lambda*x)*sin(pi*y)**2 - 8*pi**2*exp(lambda*x) - 16*pi**2*sin(pi*y)**2 + 8*pi**2) + 32*pi**4*lambda*cos(2*pi*y))*exp(lambda*x)/(48*pi**2*Re)"
      ]
     },
     "metadata": {},
     "output_type": "display_data"
    },
    {
     "name": "stdout",
     "output_type": "stream",
     "text": [
      "\\frac{\\left(- Re \\lambda + \\left(\\lambda - 2 \\pi\\right) \\left(\\lambda + 2 \\pi\\right)\\right) e^{\\lambda x} \\cos{\\left(2 \\pi y \\right)}}{Re}\n",
      "+\\tau\\big(\n",
      "0\n",
      "\\big)\n",
      "+h^2\\big(\n",
      "\\frac{\\lambda \\left(- Re^{2} \\lambda^{2} \\left(Re - \\lambda\\right) e^{2 \\lambda x} \\sin^{2}{\\left(2 \\pi y \\right)} \\cos{\\left(2 \\pi y \\right)} - 4 \\pi^{2} Re \\left(8 Re \\lambda e^{2 \\lambda x} \\sin^{6}{\\left(\\pi y \\right)} - 12 Re \\lambda e^{2 \\lambda x} \\sin^{4}{\\left(\\pi y \\right)} + 4 Re \\lambda e^{2 \\lambda x} \\sin^{2}{\\left(\\pi y \\right)} - 16 Re \\lambda e^{\\lambda x} \\sin^{4}{\\left(\\pi y \\right)} + 16 Re \\lambda e^{\\lambda x} \\sin^{2}{\\left(\\pi y \\right)} - 2 Re \\lambda e^{\\lambda x} - 2 Re \\lambda \\sin^{2}{\\left(\\pi y \\right)} + Re \\lambda + 8 \\lambda^{2} e^{\\lambda x} \\sin^{4}{\\left(\\pi y \\right)} - 8 \\lambda^{2} e^{\\lambda x} \\sin^{2}{\\left(\\pi y \\right)} + 8 \\lambda^{2} e^{\\lambda x} - 96 \\pi^{2} e^{\\lambda x} \\sin^{4}{\\left(\\pi y \\right)} + 96 \\pi^{2} e^{\\lambda x} \\sin^{2}{\\left(\\pi y \\right)} - 8 \\pi^{2} e^{\\lambda x} - 16 \\pi^{2} \\sin^{2}{\\left(\\pi y \\right)} + 8 \\pi^{2}\\right) + 32 \\pi^{4} \\lambda \\cos{\\left(2 \\pi y \\right)}\\right) e^{\\lambda x}}{48 \\pi^{2} Re}\n",
      "\\big)\n",
      "-------------------------\n"
     ]
    },
    {
     "data": {
      "text/latex": [
       "$\\displaystyle p_{y} + u v_{x} + v v_{y} + v_{t} + \\frac{- v_{xx} - v_{yy}}{Re}$"
      ],
      "text/plain": [
       "p_{y} + u*v_{x} + v*v_{y} + v_{t} + (-v_{xx} - v_{yy})/Re"
      ]
     },
     "metadata": {},
     "output_type": "display_data"
    },
    {
     "name": "stdout",
     "output_type": "stream",
     "text": [
      "tau =>\n"
     ]
    },
    {
     "data": {
      "text/latex": [
       "$\\displaystyle \\frac{p_{ty} + u v_{tx} + u_{t} v_{x} + v v_{ty} + v_{tt} + v_{t} v_{y}}{2} - \\frac{v_{txx} + v_{tyy}}{2 Re}$"
      ],
      "text/plain": [
       "(p_{ty} + u*v_{tx} + u_{t}*v_{x} + v*v_{ty} + v_{tt} + v_{t}*v_{y})/2 - (v_{txx} + v_{tyy})/(2*Re)"
      ]
     },
     "metadata": {},
     "output_type": "display_data"
    },
    {
     "name": "stdout",
     "output_type": "stream",
     "text": [
      "h^2 =>\n"
     ]
    },
    {
     "data": {
      "text/latex": [
       "$\\displaystyle \\frac{p_{yyy} + u v_{xxx} + v v_{yyy}}{6} - \\frac{v_{xxxx} + v_{yyyy}}{12 Re}$"
      ],
      "text/plain": [
       "(p_{yyy} + u*v_{xxx} + v*v_{yyy})/6 - (v_{xxxx} + v_{yyyy})/(12*Re)"
      ]
     },
     "metadata": {},
     "output_type": "display_data"
    },
    {
     "name": "stdout",
     "output_type": "stream",
     "text": [
      "p_{y} + u v_{x} + v v_{y} + v_{t} + \\frac{- v_{xx} - v_{yy}}{Re}\n",
      "+\\tau\\big(\n",
      "\\frac{p_{ty} + u v_{tx} + u_{t} v_{x} + v v_{ty} + v_{tt} + v_{t} v_{y}}{2} - \\frac{v_{txx} + v_{tyy}}{2 Re}\n",
      "\\big)\n",
      "+h^2\\big(\n",
      "\\frac{p_{yyy} + u v_{xxx} + v v_{yyy}}{6} - \\frac{v_{xxxx} + v_{yyyy}}{12 Re}\n",
      "\\big)\n",
      "f3-f3-f3-f3-f3-f3-f3-f3-f3-f3-f3-f3-f3-f3-f3-f3-f3-f3-f3-f3-f3-f3-f3-f3-f3-\n"
     ]
    },
    {
     "data": {
      "text/latex": [
       "$\\displaystyle p_{y} + u v_{x} + v v_{y} + v_{t} + \\frac{- v_{xx} - v_{yy}}{Re}$"
      ],
      "text/plain": [
       "p_{y} + u*v_{x} + v*v_{y} + v_{t} + (-v_{xx} - v_{yy})/Re"
      ]
     },
     "metadata": {},
     "output_type": "display_data"
    },
    {
     "name": "stdout",
     "output_type": "stream",
     "text": [
      "tau =>\n"
     ]
    },
    {
     "data": {
      "text/latex": [
       "$\\displaystyle 0$"
      ],
      "text/plain": [
       "0"
      ]
     },
     "metadata": {},
     "output_type": "display_data"
    },
    {
     "name": "stdout",
     "output_type": "stream",
     "text": [
      "h^2 =>\n"
     ]
    },
    {
     "data": {
      "text/latex": [
       "$\\displaystyle \\frac{Re^{2} u^{2} \\left(p_{y} + u v_{x} + v v_{y} + v_{t}\\right)}{12} - \\frac{Re \\left(p_{ty} - p_{xy} u - 3 p_{x} v_{x} + p_{yy} v - p_{y} v_{y} + u^{2} v_{yy} + 2 u v_{x} v_{y} - 2 u_{t} v_{x} - 2 u_{y} v v_{x} + v^{2} v_{yy} + 2 v v_{ty} + v_{tt}\\right)}{12} + \\frac{2 p_{yyy} + 2 u_{y} v_{xy} + 2 v v_{yyy} + v_{tyy} + v_{xy} v_{x} + 3 v_{yy} v_{y}}{6} - \\frac{v_{yyyy}}{6 Re}$"
      ],
      "text/plain": [
       "Re**2*u**2*(p_{y} + u*v_{x} + v*v_{y} + v_{t})/12 - Re*(p_{ty} - p_{xy}*u - 3*p_{x}*v_{x} + p_{yy}*v - p_{y}*v_{y} + u**2*v_{yy} + 2*u*v_{x}*v_{y} - 2*u_{t}*v_{x} - 2*u_{y}*v*v_{x} + v**2*v_{yy} + 2*v*v_{ty} + v_{tt})/12 + (2*p_{yyy} + 2*u_{y}*v_{xy} + 2*v*v_{yyy} + v_{tyy} + v_{xy}*v_{x} + 3*v_{yy}*v_{y})/6 - v_{yyyy}/(6*Re)"
      ]
     },
     "metadata": {},
     "output_type": "display_data"
    },
    {
     "name": "stdout",
     "output_type": "stream",
     "text": [
      "p_{y} + u v_{x} + v v_{y} + v_{t} + \\frac{- v_{xx} - v_{yy}}{Re}\n",
      "+\\tau\\big(\n",
      "0\n",
      "\\big)\n",
      "+h^2\\big(\n",
      "\\frac{Re^{2} u^{2} \\left(p_{y} + u v_{x} + v v_{y} + v_{t}\\right)}{12} - \\frac{Re \\left(p_{ty} - p_{xy} u - 3 p_{x} v_{x} + p_{yy} v - p_{y} v_{y} + u^{2} v_{yy} + 2 u v_{x} v_{y} - 2 u_{t} v_{x} - 2 u_{y} v v_{x} + v^{2} v_{yy} + 2 v v_{ty} + v_{tt}\\right)}{12} + \\frac{2 p_{yyy} + 2 u_{y} v_{xy} + 2 v v_{yyy} + v_{tyy} + v_{xy} v_{x} + 3 v_{yy} v_{y}}{6} - \\frac{v_{yyyy}}{6 Re}\n",
      "\\big)\n"
     ]
    },
    {
     "data": {
      "text/latex": [
       "$\\displaystyle 0$"
      ],
      "text/plain": [
       "0"
      ]
     },
     "metadata": {},
     "output_type": "display_data"
    },
    {
     "name": "stdout",
     "output_type": "stream",
     "text": [
      "tau =>\n"
     ]
    },
    {
     "data": {
      "text/latex": [
       "$\\displaystyle 0$"
      ],
      "text/plain": [
       "0"
      ]
     },
     "metadata": {},
     "output_type": "display_data"
    },
    {
     "name": "stdout",
     "output_type": "stream",
     "text": [
      "h^2 =>\n"
     ]
    },
    {
     "data": {
      "text/latex": [
       "$\\displaystyle - \\frac{\\left(3 Re \\sin{\\left(y \\right)} + e^{\\frac{2 t}{Re}} \\sin{\\left(x \\right)}\\right) e^{- \\frac{4 t}{Re}} \\cos{\\left(y \\right)}}{6 Re}$"
      ],
      "text/plain": [
       "-(3*Re*sin(y) + exp(2*t/Re)*sin(x))*exp(-4*t/Re)*cos(y)/(6*Re)"
      ]
     },
     "metadata": {},
     "output_type": "display_data"
    },
    {
     "name": "stdout",
     "output_type": "stream",
     "text": [
      "0\n",
      "+\\tau\\big(\n",
      "0\n",
      "\\big)\n",
      "+h^2\\big(\n",
      "- \\frac{\\left(3 Re \\sin{\\left(y \\right)} + e^{\\frac{2 t}{Re}} \\sin{\\left(x \\right)}\\right) e^{- \\frac{4 t}{Re}} \\cos{\\left(y \\right)}}{6 Re}\n",
      "\\big)\n"
     ]
    },
    {
     "data": {
      "text/latex": [
       "$\\displaystyle \\frac{\\lambda \\left(Re \\lambda - \\left(\\lambda - 2 \\pi\\right) \\left(\\lambda + 2 \\pi\\right)\\right) e^{\\lambda x} \\sin{\\left(2 \\pi y \\right)}}{2 \\pi Re}$"
      ],
      "text/plain": [
       "lambda*(Re*lambda - (lambda - 2*pi)*(lambda + 2*pi))*exp(lambda*x)*sin(2*pi*y)/(2*pi*Re)"
      ]
     },
     "metadata": {},
     "output_type": "display_data"
    },
    {
     "name": "stdout",
     "output_type": "stream",
     "text": [
      "tau =>\n"
     ]
    },
    {
     "data": {
      "text/latex": [
       "$\\displaystyle 0$"
      ],
      "text/plain": [
       "0"
      ]
     },
     "metadata": {},
     "output_type": "display_data"
    },
    {
     "name": "stdout",
     "output_type": "stream",
     "text": [
      "h^2 =>\n"
     ]
    },
    {
     "data": {
      "text/latex": [
       "$\\displaystyle \\frac{\\lambda \\left(Re \\left(Re^{2} \\lambda e^{2 \\lambda x} \\cos^{2}{\\left(2 \\pi y \\right)} - 2 Re^{2} \\lambda e^{\\lambda x} \\cos{\\left(2 \\pi y \\right)} + Re^{2} \\lambda + 3 Re \\lambda^{2} e^{2 \\lambda x} \\sin^{2}{\\left(2 \\pi y \\right)} + 2 Re \\lambda^{2} e^{2 \\lambda x} \\cos^{2}{\\left(2 \\pi y \\right)} - 3 Re \\lambda^{2} e^{2 \\lambda x} - 2 Re \\lambda^{2} e^{\\lambda x} \\cos{\\left(2 \\pi y \\right)} + 4 \\pi^{2} Re e^{2 \\lambda x} \\cos^{2}{\\left(2 \\pi y \\right)} - 8 \\pi^{2} Re e^{\\lambda x} \\cos{\\left(2 \\pi y \\right)} + 4 \\pi^{2} Re + 2 \\lambda^{3} e^{\\lambda x} \\cos{\\left(2 \\pi y \\right)} - 24 \\pi^{2} \\lambda e^{\\lambda x} \\cos{\\left(2 \\pi y \\right)}\\right) - 32 \\pi^{4}\\right) e^{\\lambda x} \\sin{\\left(2 \\pi y \\right)}}{24 \\pi Re}$"
      ],
      "text/plain": [
       "lambda*(Re*(Re**2*lambda*exp(2*lambda*x)*cos(2*pi*y)**2 - 2*Re**2*lambda*exp(lambda*x)*cos(2*pi*y) + Re**2*lambda + 3*Re*lambda**2*exp(2*lambda*x)*sin(2*pi*y)**2 + 2*Re*lambda**2*exp(2*lambda*x)*cos(2*pi*y)**2 - 3*Re*lambda**2*exp(2*lambda*x) - 2*Re*lambda**2*exp(lambda*x)*cos(2*pi*y) + 4*pi**2*Re*exp(2*lambda*x)*cos(2*pi*y)**2 - 8*pi**2*Re*exp(lambda*x)*cos(2*pi*y) + 4*pi**2*Re + 2*lambda**3*exp(lambda*x)*cos(2*pi*y) - 24*pi**2*lambda*exp(lambda*x)*cos(2*pi*y)) - 32*pi**4)*exp(lambda*x)*sin(2*pi*y)/(24*pi*Re)"
      ]
     },
     "metadata": {},
     "output_type": "display_data"
    },
    {
     "name": "stdout",
     "output_type": "stream",
     "text": [
      "\\frac{\\lambda \\left(Re \\lambda - \\left(\\lambda - 2 \\pi\\right) \\left(\\lambda + 2 \\pi\\right)\\right) e^{\\lambda x} \\sin{\\left(2 \\pi y \\right)}}{2 \\pi Re}\n",
      "+\\tau\\big(\n",
      "0\n",
      "\\big)\n",
      "+h^2\\big(\n",
      "\\frac{\\lambda \\left(Re \\left(Re^{2} \\lambda e^{2 \\lambda x} \\cos^{2}{\\left(2 \\pi y \\right)} - 2 Re^{2} \\lambda e^{\\lambda x} \\cos{\\left(2 \\pi y \\right)} + Re^{2} \\lambda + 3 Re \\lambda^{2} e^{2 \\lambda x} \\sin^{2}{\\left(2 \\pi y \\right)} + 2 Re \\lambda^{2} e^{2 \\lambda x} \\cos^{2}{\\left(2 \\pi y \\right)} - 3 Re \\lambda^{2} e^{2 \\lambda x} - 2 Re \\lambda^{2} e^{\\lambda x} \\cos{\\left(2 \\pi y \\right)} + 4 \\pi^{2} Re e^{2 \\lambda x} \\cos^{2}{\\left(2 \\pi y \\right)} - 8 \\pi^{2} Re e^{\\lambda x} \\cos{\\left(2 \\pi y \\right)} + 4 \\pi^{2} Re + 2 \\lambda^{3} e^{\\lambda x} \\cos{\\left(2 \\pi y \\right)} - 24 \\pi^{2} \\lambda e^{\\lambda x} \\cos{\\left(2 \\pi y \\right)}\\right) - 32 \\pi^{4}\\right) e^{\\lambda x} \\sin{\\left(2 \\pi y \\right)}}{24 \\pi Re}\n",
      "\\big)\n",
      "-------------------------\n"
     ]
    },
    {
     "data": {
      "text/latex": [
       "$\\displaystyle p_{xx} + p_{yy} + u u_{xx} + u v_{xy} + u_{xy} v + u_{x}^{2} + 2 u_{y} v_{x} + v v_{yy} + v_{y}^{2}$"
      ],
      "text/plain": [
       "p_{xx} + p_{yy} + u*u_{xx} + u*v_{xy} + u_{xy}*v + u_{x}**2 + 2*u_{y}*v_{x} + v*v_{yy} + v_{y}**2"
      ]
     },
     "metadata": {},
     "output_type": "display_data"
    },
    {
     "name": "stdout",
     "output_type": "stream",
     "text": [
      "tau =>\n"
     ]
    },
    {
     "data": {
      "text/latex": [
       "$\\displaystyle 0$"
      ],
      "text/plain": [
       "0"
      ]
     },
     "metadata": {},
     "output_type": "display_data"
    },
    {
     "name": "stdout",
     "output_type": "stream",
     "text": [
      "h^2 =>\n"
     ]
    },
    {
     "data": {
      "text/latex": [
       "$\\displaystyle \\frac{2 p_{xxxx} + 2 p_{yyyy} + 2 u u_{xxxx} + u v_{xxxy} + u v_{xyyy} + u_{xxxy} v + 5 u_{xxx} u_{x} + 3 u_{xxy} v_{x} + 3 u_{xx}^{2} + u_{xyyy} v + 3 u_{xy} v_{xx} + 2 u_{yyy} v_{x} + 3 u_{yy} v_{xy} + 2 u_{y} v_{xxx} + 3 u_{y} v_{xyy} + 2 v v_{yyyy} + 5 v_{yyy} v_{y} + 3 v_{yy}^{2}}{6}$"
      ],
      "text/plain": [
       "(2*p_{xxxx} + 2*p_{yyyy} + 2*u*u_{xxxx} + u*v_{xxxy} + u*v_{xyyy} + u_{xxxy}*v + 5*u_{xxx}*u_{x} + 3*u_{xxy}*v_{x} + 3*u_{xx}**2 + u_{xyyy}*v + 3*u_{xy}*v_{xx} + 2*u_{yyy}*v_{x} + 3*u_{yy}*v_{xy} + 2*u_{y}*v_{xxx} + 3*u_{y}*v_{xyy} + 2*v*v_{yyyy} + 5*v_{yyy}*v_{y} + 3*v_{yy}**2)/6"
      ]
     },
     "metadata": {},
     "output_type": "display_data"
    },
    {
     "name": "stdout",
     "output_type": "stream",
     "text": [
      "p_{xx} + p_{yy} + u u_{xx} + u v_{xy} + u_{xy} v + u_{x}^{2} + 2 u_{y} v_{x} + v v_{yy} + v_{y}^{2}\n",
      "+\\tau\\big(\n",
      "0\n",
      "\\big)\n",
      "+h^2\\big(\n",
      "\\frac{2 p_{xxxx} + 2 p_{yyyy} + 2 u u_{xxxx} + u v_{xxxy} + u v_{xyyy} + u_{xxxy} v + 5 u_{xxx} u_{x} + 3 u_{xxy} v_{x} + 3 u_{xx}^{2} + u_{xyyy} v + 3 u_{xy} v_{xx} + 2 u_{yyy} v_{x} + 3 u_{yy} v_{xy} + 2 u_{y} v_{xxx} + 3 u_{y} v_{xyy} + 2 v v_{yyyy} + 5 v_{yyy} v_{y} + 3 v_{yy}^{2}}{6}\n",
      "\\big)\n",
      "f4-f4-f4-f4-f4-f4-f4-f4-f4-f4-f4-f4-f4-f4-f4-f4-f4-f4-f4-f4-f4-f4-f4-f4-f4-\n"
     ]
    },
    {
     "data": {
      "text/latex": [
       "$\\displaystyle p_{xx} + p_{yy} + u u_{xx} + u v_{xy} + u_{xy} v + u_{x}^{2} + 2 u_{y} v_{x} + v v_{yy} + v_{y}^{2}$"
      ],
      "text/plain": [
       "p_{xx} + p_{yy} + u*u_{xx} + u*v_{xy} + u_{xy}*v + u_{x}**2 + 2*u_{y}*v_{x} + v*v_{yy} + v_{y}**2"
      ]
     },
     "metadata": {},
     "output_type": "display_data"
    },
    {
     "name": "stdout",
     "output_type": "stream",
     "text": [
      "tau =>\n"
     ]
    },
    {
     "data": {
      "text/latex": [
       "$\\displaystyle 0$"
      ],
      "text/plain": [
       "0"
      ]
     },
     "metadata": {},
     "output_type": "display_data"
    },
    {
     "name": "stdout",
     "output_type": "stream",
     "text": [
      "h^2 =>\n"
     ]
    },
    {
     "data": {
      "text/latex": [
       "$\\displaystyle - \\frac{Re^{2} \\left(- 5 p_{x} v v_{x} + p_{yy} u^{2} + 3 p_{y} u u_{y} + u^{3} v_{xy} + 4 u^{2} u_{y} v_{x} + u^{2} v v_{yy} + u^{2} v_{ty} + u^{2} v_{y}^{2} + 3 u u_{y} v v_{y} + 3 u u_{y} v_{t} + 5 u v v_{x} v_{y} - 5 u_{t} v v_{x} - 5 u_{y} v^{2} v_{x}\\right)}{6} + \\frac{Re \\left(- p_{xyy} u - 2 p_{xy} u_{y} + 6 p_{xy} v_{x} + 11 p_{x} v_{xy} - p_{yyy} v - 3 p_{yy} v_{y} + 5 p_{y} v_{yy} + u^{2} v_{yyy} + 3 u u_{y} v_{yy} - 2 u v v_{xyy} - u v_{txy} - 15 u v_{xy} v_{y} - u v_{x} v_{yy} + 6 u_{ty} v_{x} + 11 u_{t} v_{xy} + 7 u_{y} v v_{xy} - 2 u_{y} v_{tx} - 3 u_{y} v_{x} v_{y} - v^{2} v_{yyy} - v v_{tyy} + 5 v v_{xy} v_{x} - v v_{yy} v_{y} - 3 v_{ty} v_{y} + 5 v_{t} v_{yy} - 3 v_{y}^{3}\\right)}{6} + \\frac{4 p_{yyyy} + 2 u v_{xyyy} + 9 u_{y} v_{xyy} + 2 v v_{yyyy} + 7 v_{xyy} v_{x} + 6 v_{xy}^{2} + 16 v_{yyy} v_{y} + 6 v_{yy}^{2}}{6}$"
      ],
      "text/plain": [
       "-Re**2*(-5*p_{x}*v*v_{x} + p_{yy}*u**2 + 3*p_{y}*u*u_{y} + u**3*v_{xy} + 4*u**2*u_{y}*v_{x} + u**2*v*v_{yy} + u**2*v_{ty} + u**2*v_{y}**2 + 3*u*u_{y}*v*v_{y} + 3*u*u_{y}*v_{t} + 5*u*v*v_{x}*v_{y} - 5*u_{t}*v*v_{x} - 5*u_{y}*v**2*v_{x})/6 + Re*(-p_{xyy}*u - 2*p_{xy}*u_{y} + 6*p_{xy}*v_{x} + 11*p_{x}*v_{xy} - p_{yyy}*v - 3*p_{yy}*v_{y} + 5*p_{y}*v_{yy} + u**2*v_{yyy} + 3*u*u_{y}*v_{yy} - 2*u*v*v_{xyy} - u*v_{txy} - 15*u*v_{xy}*v_{y} - u*v_{x}*v_{yy} + 6*u_{ty}*v_{x} + 11*u_{t}*v_{xy} + 7*u_{y}*v*v_{xy} - 2*u_{y}*v_{tx} - 3*u_{y}*v_{x}*v_{y} - v**2*v_{yyy} - v*v_{tyy} + 5*v*v_{xy}*v_{x} - v*v_{yy}*v_{y} - 3*v_{ty}*v_{y} + 5*v_{t}*v_{yy} - 3*v_{y}**3)/6 + (4*p_{yyyy} + 2*u*v_{xyyy} + 9*u_{y}*v_{xyy} + 2*v*v_{yyyy} + 7*v_{xyy}*v_{x} + 6*v_{xy}**2 + 16*v_{yyy}*v_{y} + 6*v_{yy}**2)/6"
      ]
     },
     "metadata": {},
     "output_type": "display_data"
    },
    {
     "name": "stdout",
     "output_type": "stream",
     "text": [
      "p_{xx} + p_{yy} + u u_{xx} + u v_{xy} + u_{xy} v + u_{x}^{2} + 2 u_{y} v_{x} + v v_{yy} + v_{y}^{2}\n",
      "+\\tau\\big(\n",
      "0\n",
      "\\big)\n",
      "+h^2\\big(\n",
      "- \\frac{Re^{2} \\left(- 5 p_{x} v v_{x} + p_{yy} u^{2} + 3 p_{y} u u_{y} + u^{3} v_{xy} + 4 u^{2} u_{y} v_{x} + u^{2} v v_{yy} + u^{2} v_{ty} + u^{2} v_{y}^{2} + 3 u u_{y} v v_{y} + 3 u u_{y} v_{t} + 5 u v v_{x} v_{y} - 5 u_{t} v v_{x} - 5 u_{y} v^{2} v_{x}\\right)}{6} + \\frac{Re \\left(- p_{xyy} u - 2 p_{xy} u_{y} + 6 p_{xy} v_{x} + 11 p_{x} v_{xy} - p_{yyy} v - 3 p_{yy} v_{y} + 5 p_{y} v_{yy} + u^{2} v_{yyy} + 3 u u_{y} v_{yy} - 2 u v v_{xyy} - u v_{txy} - 15 u v_{xy} v_{y} - u v_{x} v_{yy} + 6 u_{ty} v_{x} + 11 u_{t} v_{xy} + 7 u_{y} v v_{xy} - 2 u_{y} v_{tx} - 3 u_{y} v_{x} v_{y} - v^{2} v_{yyy} - v v_{tyy} + 5 v v_{xy} v_{x} - v v_{yy} v_{y} - 3 v_{ty} v_{y} + 5 v_{t} v_{yy} - 3 v_{y}^{3}\\right)}{6} + \\frac{4 p_{yyyy} + 2 u v_{xyyy} + 9 u_{y} v_{xyy} + 2 v v_{yyyy} + 7 v_{xyy} v_{x} + 6 v_{xy}^{2} + 16 v_{yyy} v_{y} + 6 v_{yy}^{2}}{6}\n",
      "\\big)\n"
     ]
    },
    {
     "data": {
      "text/latex": [
       "$\\displaystyle 0$"
      ],
      "text/plain": [
       "0"
      ]
     },
     "metadata": {},
     "output_type": "display_data"
    },
    {
     "name": "stdout",
     "output_type": "stream",
     "text": [
      "tau =>\n"
     ]
    },
    {
     "data": {
      "text/latex": [
       "$\\displaystyle 0$"
      ],
      "text/plain": [
       "0"
      ]
     },
     "metadata": {},
     "output_type": "display_data"
    },
    {
     "name": "stdout",
     "output_type": "stream",
     "text": [
      "h^2 =>\n"
     ]
    },
    {
     "data": {
      "text/latex": [
       "$\\displaystyle \\left(\\sin^{2}{\\left(x \\right)} + \\sin^{2}{\\left(y \\right)} - 1\\right) e^{- \\frac{4 t}{Re}}$"
      ],
      "text/plain": [
       "(sin(x)**2 + sin(y)**2 - 1)*exp(-4*t/Re)"
      ]
     },
     "metadata": {},
     "output_type": "display_data"
    },
    {
     "name": "stdout",
     "output_type": "stream",
     "text": [
      "0\n",
      "+\\tau\\big(\n",
      "0\n",
      "\\big)\n",
      "+h^2\\big(\n",
      "\\left(\\sin^{2}{\\left(x \\right)} + \\sin^{2}{\\left(y \\right)} - 1\\right) e^{- \\frac{4 t}{Re}}\n",
      "\\big)\n"
     ]
    },
    {
     "data": {
      "text/latex": [
       "$\\displaystyle 0$"
      ],
      "text/plain": [
       "0"
      ]
     },
     "metadata": {},
     "output_type": "display_data"
    },
    {
     "name": "stdout",
     "output_type": "stream",
     "text": [
      "tau =>\n"
     ]
    },
    {
     "data": {
      "text/latex": [
       "$\\displaystyle 0$"
      ],
      "text/plain": [
       "0"
      ]
     },
     "metadata": {},
     "output_type": "display_data"
    },
    {
     "name": "stdout",
     "output_type": "stream",
     "text": [
      "h^2 =>\n"
     ]
    },
    {
     "data": {
      "text/latex": [
       "$\\displaystyle \\frac{\\lambda \\left(- Re^{2} \\lambda \\left(10 \\lambda^{2} e^{2 \\lambda x} \\sin^{6}{\\left(\\pi y \\right)} - 15 \\lambda^{2} e^{2 \\lambda x} \\sin^{4}{\\left(\\pi y \\right)} + 5 \\lambda^{2} e^{2 \\lambda x} \\sin^{2}{\\left(\\pi y \\right)} - 32 \\pi^{2} e^{2 \\lambda x} \\sin^{6}{\\left(\\pi y \\right)} + 48 \\pi^{2} e^{2 \\lambda x} \\sin^{4}{\\left(\\pi y \\right)} - 18 \\pi^{2} e^{2 \\lambda x} \\sin^{2}{\\left(\\pi y \\right)} + \\pi^{2} e^{2 \\lambda x} - 20 \\pi^{2} e^{\\lambda x} \\sin^{4}{\\left(\\pi y \\right)} + 20 \\pi^{2} e^{\\lambda x} \\sin^{2}{\\left(\\pi y \\right)} - 2 \\pi^{2} e^{\\lambda x} - 2 \\pi^{2} \\sin^{2}{\\left(\\pi y \\right)} + \\pi^{2}\\right) + Re \\left(10 \\lambda^{4} e^{2 \\lambda x} \\sin^{6}{\\left(\\pi y \\right)} - 15 \\lambda^{4} e^{2 \\lambda x} \\sin^{4}{\\left(\\pi y \\right)} + 5 \\lambda^{4} e^{2 \\lambda x} \\sin^{2}{\\left(\\pi y \\right)} - 72 \\pi^{2} \\lambda^{2} e^{2 \\lambda x} \\sin^{6}{\\left(\\pi y \\right)} + 108 \\pi^{2} \\lambda^{2} e^{2 \\lambda x} \\sin^{4}{\\left(\\pi y \\right)} - 38 \\pi^{2} \\lambda^{2} e^{2 \\lambda x} \\sin^{2}{\\left(\\pi y \\right)} + \\pi^{2} \\lambda^{2} e^{2 \\lambda x} - 72 \\pi^{2} \\lambda^{2} e^{\\lambda x} \\sin^{4}{\\left(\\pi y \\right)} + 72 \\pi^{2} \\lambda^{2} e^{\\lambda x} \\sin^{2}{\\left(\\pi y \\right)} - 15 \\pi^{2} \\lambda^{2} e^{\\lambda x} + 128 \\pi^{4} e^{2 \\lambda x} \\sin^{6}{\\left(\\pi y \\right)} - 192 \\pi^{4} e^{2 \\lambda x} \\sin^{4}{\\left(\\pi y \\right)} + 72 \\pi^{4} e^{2 \\lambda x} \\sin^{2}{\\left(\\pi y \\right)} - 4 \\pi^{4} e^{2 \\lambda x} + 80 \\pi^{4} e^{\\lambda x} \\sin^{4}{\\left(\\pi y \\right)} - 80 \\pi^{4} e^{\\lambda x} \\sin^{2}{\\left(\\pi y \\right)} + 8 \\pi^{4} e^{\\lambda x} + 8 \\pi^{4} \\sin^{2}{\\left(\\pi y \\right)} - 4 \\pi^{4}\\right) + 2 \\pi^{2} \\lambda \\left(26 \\lambda^{2} e^{\\lambda x} \\sin^{4}{\\left(\\pi y \\right)} - 26 \\lambda^{2} e^{\\lambda x} \\sin^{2}{\\left(\\pi y \\right)} + 3 \\lambda^{2} e^{\\lambda x} - 104 \\pi^{2} e^{\\lambda x} \\sin^{4}{\\left(\\pi y \\right)} + 104 \\pi^{2} e^{\\lambda x} \\sin^{2}{\\left(\\pi y \\right)} - 28 \\pi^{2} e^{\\lambda x} + 8 \\pi^{2} \\sin^{2}{\\left(\\pi y \\right)} - 4 \\pi^{2}\\right)\\right) e^{\\lambda x}}{6 \\pi^{2}}$"
      ],
      "text/plain": [
       "lambda*(-Re**2*lambda*(10*lambda**2*exp(2*lambda*x)*sin(pi*y)**6 - 15*lambda**2*exp(2*lambda*x)*sin(pi*y)**4 + 5*lambda**2*exp(2*lambda*x)*sin(pi*y)**2 - 32*pi**2*exp(2*lambda*x)*sin(pi*y)**6 + 48*pi**2*exp(2*lambda*x)*sin(pi*y)**4 - 18*pi**2*exp(2*lambda*x)*sin(pi*y)**2 + pi**2*exp(2*lambda*x) - 20*pi**2*exp(lambda*x)*sin(pi*y)**4 + 20*pi**2*exp(lambda*x)*sin(pi*y)**2 - 2*pi**2*exp(lambda*x) - 2*pi**2*sin(pi*y)**2 + pi**2) + Re*(10*lambda**4*exp(2*lambda*x)*sin(pi*y)**6 - 15*lambda**4*exp(2*lambda*x)*sin(pi*y)**4 + 5*lambda**4*exp(2*lambda*x)*sin(pi*y)**2 - 72*pi**2*lambda**2*exp(2*lambda*x)*sin(pi*y)**6 + 108*pi**2*lambda**2*exp(2*lambda*x)*sin(pi*y)**4 - 38*pi**2*lambda**2*exp(2*lambda*x)*sin(pi*y)**2 + pi**2*lambda**2*exp(2*lambda*x) - 72*pi**2*lambda**2*exp(lambda*x)*sin(pi*y)**4 + 72*pi**2*lambda**2*exp(lambda*x)*sin(pi*y)**2 - 15*pi**2*lambda**2*exp(lambda*x) + 128*pi**4*exp(2*lambda*x)*sin(pi*y)**6 - 192*pi**4*exp(2*lambda*x)*sin(pi*y)**4 + 72*pi**4*exp(2*lambda*x)*sin(pi*y)**2 - 4*pi**4*exp(2*lambda*x) + 80*pi**4*exp(lambda*x)*sin(pi*y)**4 - 80*pi**4*exp(lambda*x)*sin(pi*y)**2 + 8*pi**4*exp(lambda*x) + 8*pi**4*sin(pi*y)**2 - 4*pi**4) + 2*pi**2*lambda*(26*lambda**2*exp(lambda*x)*sin(pi*y)**4 - 26*lambda**2*exp(lambda*x)*sin(pi*y)**2 + 3*lambda**2*exp(lambda*x) - 104*pi**2*exp(lambda*x)*sin(pi*y)**4 + 104*pi**2*exp(lambda*x)*sin(pi*y)**2 - 28*pi**2*exp(lambda*x) + 8*pi**2*sin(pi*y)**2 - 4*pi**2))*exp(lambda*x)/(6*pi**2)"
      ]
     },
     "metadata": {},
     "output_type": "display_data"
    },
    {
     "name": "stdout",
     "output_type": "stream",
     "text": [
      "0\n",
      "+\\tau\\big(\n",
      "0\n",
      "\\big)\n",
      "+h^2\\big(\n",
      "\\frac{\\lambda \\left(- Re^{2} \\lambda \\left(10 \\lambda^{2} e^{2 \\lambda x} \\sin^{6}{\\left(\\pi y \\right)} - 15 \\lambda^{2} e^{2 \\lambda x} \\sin^{4}{\\left(\\pi y \\right)} + 5 \\lambda^{2} e^{2 \\lambda x} \\sin^{2}{\\left(\\pi y \\right)} - 32 \\pi^{2} e^{2 \\lambda x} \\sin^{6}{\\left(\\pi y \\right)} + 48 \\pi^{2} e^{2 \\lambda x} \\sin^{4}{\\left(\\pi y \\right)} - 18 \\pi^{2} e^{2 \\lambda x} \\sin^{2}{\\left(\\pi y \\right)} + \\pi^{2} e^{2 \\lambda x} - 20 \\pi^{2} e^{\\lambda x} \\sin^{4}{\\left(\\pi y \\right)} + 20 \\pi^{2} e^{\\lambda x} \\sin^{2}{\\left(\\pi y \\right)} - 2 \\pi^{2} e^{\\lambda x} - 2 \\pi^{2} \\sin^{2}{\\left(\\pi y \\right)} + \\pi^{2}\\right) + Re \\left(10 \\lambda^{4} e^{2 \\lambda x} \\sin^{6}{\\left(\\pi y \\right)} - 15 \\lambda^{4} e^{2 \\lambda x} \\sin^{4}{\\left(\\pi y \\right)} + 5 \\lambda^{4} e^{2 \\lambda x} \\sin^{2}{\\left(\\pi y \\right)} - 72 \\pi^{2} \\lambda^{2} e^{2 \\lambda x} \\sin^{6}{\\left(\\pi y \\right)} + 108 \\pi^{2} \\lambda^{2} e^{2 \\lambda x} \\sin^{4}{\\left(\\pi y \\right)} - 38 \\pi^{2} \\lambda^{2} e^{2 \\lambda x} \\sin^{2}{\\left(\\pi y \\right)} + \\pi^{2} \\lambda^{2} e^{2 \\lambda x} - 72 \\pi^{2} \\lambda^{2} e^{\\lambda x} \\sin^{4}{\\left(\\pi y \\right)} + 72 \\pi^{2} \\lambda^{2} e^{\\lambda x} \\sin^{2}{\\left(\\pi y \\right)} - 15 \\pi^{2} \\lambda^{2} e^{\\lambda x} + 128 \\pi^{4} e^{2 \\lambda x} \\sin^{6}{\\left(\\pi y \\right)} - 192 \\pi^{4} e^{2 \\lambda x} \\sin^{4}{\\left(\\pi y \\right)} + 72 \\pi^{4} e^{2 \\lambda x} \\sin^{2}{\\left(\\pi y \\right)} - 4 \\pi^{4} e^{2 \\lambda x} + 80 \\pi^{4} e^{\\lambda x} \\sin^{4}{\\left(\\pi y \\right)} - 80 \\pi^{4} e^{\\lambda x} \\sin^{2}{\\left(\\pi y \\right)} + 8 \\pi^{4} e^{\\lambda x} + 8 \\pi^{4} \\sin^{2}{\\left(\\pi y \\right)} - 4 \\pi^{4}\\right) + 2 \\pi^{2} \\lambda \\left(26 \\lambda^{2} e^{\\lambda x} \\sin^{4}{\\left(\\pi y \\right)} - 26 \\lambda^{2} e^{\\lambda x} \\sin^{2}{\\left(\\pi y \\right)} + 3 \\lambda^{2} e^{\\lambda x} - 104 \\pi^{2} e^{\\lambda x} \\sin^{4}{\\left(\\pi y \\right)} + 104 \\pi^{2} e^{\\lambda x} \\sin^{2}{\\left(\\pi y \\right)} - 28 \\pi^{2} e^{\\lambda x} + 8 \\pi^{2} \\sin^{2}{\\left(\\pi y \\right)} - 4 \\pi^{2}\\right)\\right) e^{\\lambda x}}{6 \\pi^{2}}\n",
      "\\big)\n"
     ]
    },
    {
     "data": {
      "text/latex": [
       "$\\displaystyle 0$"
      ],
      "text/plain": [
       "0"
      ]
     },
     "metadata": {},
     "output_type": "display_data"
    },
    {
     "name": "stdout",
     "output_type": "stream",
     "text": [
      "tau =>\n"
     ]
    },
    {
     "data": {
      "text/latex": [
       "$\\displaystyle 0$"
      ],
      "text/plain": [
       "0"
      ]
     },
     "metadata": {},
     "output_type": "display_data"
    },
    {
     "name": "stdout",
     "output_type": "stream",
     "text": [
      "h^2 =>\n"
     ]
    },
    {
     "data": {
      "text/latex": [
       "$\\displaystyle 0$"
      ],
      "text/plain": [
       "0"
      ]
     },
     "metadata": {},
     "output_type": "display_data"
    },
    {
     "name": "stdout",
     "output_type": "stream",
     "text": [
      "0\n",
      "+\\tau\\big(\n",
      "0\n",
      "\\big)\n",
      "+h^2\\big(\n",
      "0\n",
      "\\big)\n"
     ]
    }
   ],
   "source": [
    "F1 = clip(Dx(u) + Dy(v))\n",
    "F2 = clip(Dt(u) + It(u*Dx(u) + v*Dy(u) + Dx(p) - DD(u)/Re))\n",
    "F3 = clip(Dt(v) + It(u*Dx(v) + v*Dy(v) + Dy(p) - DD(v)/Re))\n",
    "F4 = clip(Dx(u*Dx(u) + v*Dy(u) + Dx(p)) + Dy(u*Dx(v) + v*Dy(v) + Dy(p)))\n",
    "\n",
    "build(F1, F2, F3, F4)"
   ]
  },
  {
   "cell_type": "code",
   "execution_count": 15,
   "metadata": {},
   "outputs": [
    {
     "data": {
      "text/latex": [
       "$\\displaystyle u_{x} + v_{y}$"
      ],
      "text/plain": [
       "u_{x} + v_{y}"
      ]
     },
     "metadata": {},
     "output_type": "display_data"
    },
    {
     "name": "stdout",
     "output_type": "stream",
     "text": [
      "tau =>\n"
     ]
    },
    {
     "data": {
      "text/latex": [
       "$\\displaystyle 0$"
      ],
      "text/plain": [
       "0"
      ]
     },
     "metadata": {},
     "output_type": "display_data"
    },
    {
     "name": "stdout",
     "output_type": "stream",
     "text": [
      "h^2 =>\n"
     ]
    },
    {
     "data": {
      "text/latex": [
       "$\\displaystyle \\frac{u_{xxx} + v_{yyy}}{6}$"
      ],
      "text/plain": [
       "(u_{xxx} + v_{yyy})/6"
      ]
     },
     "metadata": {},
     "output_type": "display_data"
    },
    {
     "name": "stdout",
     "output_type": "stream",
     "text": [
      "u_{x} + v_{y}\n",
      "+\\tau\\big(\n",
      "0\n",
      "\\big)\n",
      "+h^2\\big(\n",
      "\\frac{u_{xxx} + v_{yyy}}{6}\n",
      "\\big)\n",
      "f1-f1-f1-f1-f1-f1-f1-f1-f1-f1-f1-f1-f1-f1-f1-f1-f1-f1-f1-f1-f1-f1-f1-f1-f1-\n"
     ]
    },
    {
     "data": {
      "text/latex": [
       "$\\displaystyle u_{x} + v_{y}$"
      ],
      "text/plain": [
       "u_{x} + v_{y}"
      ]
     },
     "metadata": {},
     "output_type": "display_data"
    },
    {
     "name": "stdout",
     "output_type": "stream",
     "text": [
      "tau =>\n"
     ]
    },
    {
     "data": {
      "text/latex": [
       "$\\displaystyle 0$"
      ],
      "text/plain": [
       "0"
      ]
     },
     "metadata": {},
     "output_type": "display_data"
    },
    {
     "name": "stdout",
     "output_type": "stream",
     "text": [
      "h^2 =>\n"
     ]
    },
    {
     "data": {
      "text/latex": [
       "$\\displaystyle - \\frac{Re \\left(p_{yy} + u v_{xy} + u_{y} v_{x} + v v_{yy} + v_{ty} + v_{y}^{2}\\right)}{6} + \\frac{v_{yyy}}{3}$"
      ],
      "text/plain": [
       "-Re*(p_{yy} + u*v_{xy} + u_{y}*v_{x} + v*v_{yy} + v_{ty} + v_{y}**2)/6 + v_{yyy}/3"
      ]
     },
     "metadata": {},
     "output_type": "display_data"
    },
    {
     "name": "stdout",
     "output_type": "stream",
     "text": [
      "u_{x} + v_{y}\n",
      "+\\tau\\big(\n",
      "0\n",
      "\\big)\n",
      "+h^2\\big(\n",
      "- \\frac{Re \\left(p_{yy} + u v_{xy} + u_{y} v_{x} + v v_{yy} + v_{ty} + v_{y}^{2}\\right)}{6} + \\frac{v_{yyy}}{3}\n",
      "\\big)\n"
     ]
    },
    {
     "data": {
      "text/latex": [
       "$\\displaystyle 0$"
      ],
      "text/plain": [
       "0"
      ]
     },
     "metadata": {},
     "output_type": "display_data"
    },
    {
     "name": "stdout",
     "output_type": "stream",
     "text": [
      "tau =>\n"
     ]
    },
    {
     "data": {
      "text/latex": [
       "$\\displaystyle 0$"
      ],
      "text/plain": [
       "0"
      ]
     },
     "metadata": {},
     "output_type": "display_data"
    },
    {
     "name": "stdout",
     "output_type": "stream",
     "text": [
      "h^2 =>\n"
     ]
    },
    {
     "data": {
      "text/latex": [
       "$\\displaystyle 0$"
      ],
      "text/plain": [
       "0"
      ]
     },
     "metadata": {},
     "output_type": "display_data"
    },
    {
     "name": "stdout",
     "output_type": "stream",
     "text": [
      "0\n",
      "+\\tau\\big(\n",
      "0\n",
      "\\big)\n",
      "+h^2\\big(\n",
      "0\n",
      "\\big)\n"
     ]
    },
    {
     "data": {
      "text/latex": [
       "$\\displaystyle 0$"
      ],
      "text/plain": [
       "0"
      ]
     },
     "metadata": {},
     "output_type": "display_data"
    },
    {
     "name": "stdout",
     "output_type": "stream",
     "text": [
      "tau =>\n"
     ]
    },
    {
     "data": {
      "text/latex": [
       "$\\displaystyle 0$"
      ],
      "text/plain": [
       "0"
      ]
     },
     "metadata": {},
     "output_type": "display_data"
    },
    {
     "name": "stdout",
     "output_type": "stream",
     "text": [
      "h^2 =>\n"
     ]
    },
    {
     "data": {
      "text/latex": [
       "$\\displaystyle - \\frac{\\lambda \\left(Re \\lambda + 8 \\pi^{2}\\right) e^{\\lambda x} \\cos{\\left(2 \\pi y \\right)}}{6}$"
      ],
      "text/plain": [
       "-lambda*(Re*lambda + 8*pi**2)*exp(lambda*x)*cos(2*pi*y)/6"
      ]
     },
     "metadata": {},
     "output_type": "display_data"
    },
    {
     "name": "stdout",
     "output_type": "stream",
     "text": [
      "0\n",
      "+\\tau\\big(\n",
      "0\n",
      "\\big)\n",
      "+h^2\\big(\n",
      "- \\frac{\\lambda \\left(Re \\lambda + 8 \\pi^{2}\\right) e^{\\lambda x} \\cos{\\left(2 \\pi y \\right)}}{6}\n",
      "\\big)\n",
      "-------------------------\n"
     ]
    },
    {
     "data": {
      "text/latex": [
       "$\\displaystyle p_{x} + u u_{x} + u_{t} + u_{y} v + \\frac{- u_{xx} - u_{yy}}{Re}$"
      ],
      "text/plain": [
       "p_{x} + u*u_{x} + u_{t} + u_{y}*v + (-u_{xx} - u_{yy})/Re"
      ]
     },
     "metadata": {},
     "output_type": "display_data"
    },
    {
     "name": "stdout",
     "output_type": "stream",
     "text": [
      "tau =>\n"
     ]
    },
    {
     "data": {
      "text/latex": [
       "$\\displaystyle \\frac{p_{tx} + u u_{tx} + u_{tt} + u_{ty} v + u_{t} u_{x} + u_{y} v_{t}}{2} - \\frac{u_{txx} + u_{tyy}}{2 Re}$"
      ],
      "text/plain": [
       "(p_{tx} + u*u_{tx} + u_{tt} + u_{ty}*v + u_{t}*u_{x} + u_{y}*v_{t})/2 - (u_{txx} + u_{tyy})/(2*Re)"
      ]
     },
     "metadata": {},
     "output_type": "display_data"
    },
    {
     "name": "stdout",
     "output_type": "stream",
     "text": [
      "h^2 =>\n"
     ]
    },
    {
     "data": {
      "text/latex": [
       "$\\displaystyle \\frac{p_{xxx} + u u_{xxx} + u_{yyy} v}{6} - \\frac{u_{xxxx} + u_{yyyy}}{3 Re}$"
      ],
      "text/plain": [
       "(p_{xxx} + u*u_{xxx} + u_{yyy}*v)/6 - (u_{xxxx} + u_{yyyy})/(3*Re)"
      ]
     },
     "metadata": {},
     "output_type": "display_data"
    },
    {
     "name": "stdout",
     "output_type": "stream",
     "text": [
      "p_{x} + u u_{x} + u_{t} + u_{y} v + \\frac{- u_{xx} - u_{yy}}{Re}\n",
      "+\\tau\\big(\n",
      "\\frac{p_{tx} + u u_{tx} + u_{tt} + u_{ty} v + u_{t} u_{x} + u_{y} v_{t}}{2} - \\frac{u_{txx} + u_{tyy}}{2 Re}\n",
      "\\big)\n",
      "+h^2\\big(\n",
      "\\frac{p_{xxx} + u u_{xxx} + u_{yyy} v}{6} - \\frac{u_{xxxx} + u_{yyyy}}{3 Re}\n",
      "\\big)\n",
      "f2-f2-f2-f2-f2-f2-f2-f2-f2-f2-f2-f2-f2-f2-f2-f2-f2-f2-f2-f2-f2-f2-f2-f2-f2-\n"
     ]
    },
    {
     "data": {
      "text/latex": [
       "$\\displaystyle p_{x} + u u_{x} + u_{t} + u_{y} v + \\frac{- u_{xx} - u_{yy}}{Re}$"
      ],
      "text/plain": [
       "p_{x} + u*u_{x} + u_{t} + u_{y}*v + (-u_{xx} - u_{yy})/Re"
      ]
     },
     "metadata": {},
     "output_type": "display_data"
    },
    {
     "name": "stdout",
     "output_type": "stream",
     "text": [
      "tau =>\n"
     ]
    },
    {
     "data": {
      "text/latex": [
       "$\\displaystyle 0$"
      ],
      "text/plain": [
       "0"
      ]
     },
     "metadata": {},
     "output_type": "display_data"
    },
    {
     "name": "stdout",
     "output_type": "stream",
     "text": [
      "h^2 =>\n"
     ]
    },
    {
     "data": {
      "text/latex": [
       "$\\displaystyle \\frac{Re^{2} v^{2} \\left(- p_{x} + u v_{y} - u_{t} - u_{y} v\\right)}{6} + \\frac{Re \\left(- 2 p_{tx} - p_{xy} v - 2 p_{x} v_{y} + p_{yy} u + u^{2} v_{xy} + u u_{y} v_{x} + 2 u v v_{yy} + 3 u v_{ty} + 3 u v_{y}^{2} - 2 u_{tt} - 3 u_{ty} v - 2 u_{y} v v_{y} - 2 u_{y} v_{t} - v^{2} v_{xy}\\right)}{6} + \\frac{- p_{xyy} + u v_{yyy} + 2 u_{y} v_{yy} + v v_{xyy} - 4 v_{xy} v_{y} + 2 v_{x} v_{yy}}{6} - \\frac{2 v_{xyyy}}{3 Re}$"
      ],
      "text/plain": [
       "Re**2*v**2*(-p_{x} + u*v_{y} - u_{t} - u_{y}*v)/6 + Re*(-2*p_{tx} - p_{xy}*v - 2*p_{x}*v_{y} + p_{yy}*u + u**2*v_{xy} + u*u_{y}*v_{x} + 2*u*v*v_{yy} + 3*u*v_{ty} + 3*u*v_{y}**2 - 2*u_{tt} - 3*u_{ty}*v - 2*u_{y}*v*v_{y} - 2*u_{y}*v_{t} - v**2*v_{xy})/6 + (-p_{xyy} + u*v_{yyy} + 2*u_{y}*v_{yy} + v*v_{xyy} - 4*v_{xy}*v_{y} + 2*v_{x}*v_{yy})/6 - 2*v_{xyyy}/(3*Re)"
      ]
     },
     "metadata": {},
     "output_type": "display_data"
    },
    {
     "name": "stdout",
     "output_type": "stream",
     "text": [
      "p_{x} + u u_{x} + u_{t} + u_{y} v + \\frac{- u_{xx} - u_{yy}}{Re}\n",
      "+\\tau\\big(\n",
      "0\n",
      "\\big)\n",
      "+h^2\\big(\n",
      "\\frac{Re^{2} v^{2} \\left(- p_{x} + u v_{y} - u_{t} - u_{y} v\\right)}{6} + \\frac{Re \\left(- 2 p_{tx} - p_{xy} v - 2 p_{x} v_{y} + p_{yy} u + u^{2} v_{xy} + u u_{y} v_{x} + 2 u v v_{yy} + 3 u v_{ty} + 3 u v_{y}^{2} - 2 u_{tt} - 3 u_{ty} v - 2 u_{y} v v_{y} - 2 u_{y} v_{t} - v^{2} v_{xy}\\right)}{6} + \\frac{- p_{xyy} + u v_{yyy} + 2 u_{y} v_{yy} + v v_{xyy} - 4 v_{xy} v_{y} + 2 v_{x} v_{yy}}{6} - \\frac{2 v_{xyyy}}{3 Re}\n",
      "\\big)\n"
     ]
    },
    {
     "data": {
      "text/latex": [
       "$\\displaystyle 0$"
      ],
      "text/plain": [
       "0"
      ]
     },
     "metadata": {},
     "output_type": "display_data"
    },
    {
     "name": "stdout",
     "output_type": "stream",
     "text": [
      "tau =>\n"
     ]
    },
    {
     "data": {
      "text/latex": [
       "$\\displaystyle 0$"
      ],
      "text/plain": [
       "0"
      ]
     },
     "metadata": {},
     "output_type": "display_data"
    },
    {
     "name": "stdout",
     "output_type": "stream",
     "text": [
      "h^2 =>\n"
     ]
    },
    {
     "data": {
      "text/latex": [
       "$\\displaystyle - \\frac{e^{- \\frac{4 t}{Re}} \\sin{\\left(2 x \\right)}}{4} + \\frac{2 e^{- \\frac{2 t}{Re}} \\sin{\\left(y \\right)} \\cos{\\left(x \\right)}}{3 Re}$"
      ],
      "text/plain": [
       "-exp(-4*t/Re)*sin(2*x)/4 + 2*exp(-2*t/Re)*sin(y)*cos(x)/(3*Re)"
      ]
     },
     "metadata": {},
     "output_type": "display_data"
    },
    {
     "name": "stdout",
     "output_type": "stream",
     "text": [
      "0\n",
      "+\\tau\\big(\n",
      "0\n",
      "\\big)\n",
      "+h^2\\big(\n",
      "- \\frac{e^{- \\frac{4 t}{Re}} \\sin{\\left(2 x \\right)}}{4} + \\frac{2 e^{- \\frac{2 t}{Re}} \\sin{\\left(y \\right)} \\cos{\\left(x \\right)}}{3 Re}\n",
      "\\big)\n"
     ]
    },
    {
     "data": {
      "text/latex": [
       "$\\displaystyle \\frac{\\left(- Re \\lambda + \\left(\\lambda - 2 \\pi\\right) \\left(\\lambda + 2 \\pi\\right)\\right) e^{\\lambda x} \\cos{\\left(2 \\pi y \\right)}}{Re}$"
      ],
      "text/plain": [
       "(-Re*lambda + (lambda - 2*pi)*(lambda + 2*pi))*exp(lambda*x)*cos(2*pi*y)/Re"
      ]
     },
     "metadata": {},
     "output_type": "display_data"
    },
    {
     "name": "stdout",
     "output_type": "stream",
     "text": [
      "tau =>\n"
     ]
    },
    {
     "data": {
      "text/latex": [
       "$\\displaystyle 0$"
      ],
      "text/plain": [
       "0"
      ]
     },
     "metadata": {},
     "output_type": "display_data"
    },
    {
     "name": "stdout",
     "output_type": "stream",
     "text": [
      "h^2 =>\n"
     ]
    },
    {
     "data": {
      "text/latex": [
       "$\\displaystyle \\frac{\\lambda \\left(Re^{2} \\lambda^{2} \\left(Re - \\lambda\\right) e^{2 \\lambda x} \\sin^{2}{\\left(2 \\pi y \\right)} \\cos{\\left(2 \\pi y \\right)} + 4 \\pi^{2} Re \\left(8 Re \\lambda e^{2 \\lambda x} \\sin^{6}{\\left(\\pi y \\right)} - 12 Re \\lambda e^{2 \\lambda x} \\sin^{4}{\\left(\\pi y \\right)} + 4 Re \\lambda e^{2 \\lambda x} \\sin^{2}{\\left(\\pi y \\right)} + 8 Re \\lambda e^{\\lambda x} \\sin^{4}{\\left(\\pi y \\right)} - 8 Re \\lambda e^{\\lambda x} \\sin^{2}{\\left(\\pi y \\right)} + Re \\lambda e^{\\lambda x} - 2 Re \\lambda \\sin^{2}{\\left(\\pi y \\right)} + Re \\lambda - 4 \\lambda^{2} e^{\\lambda x} \\sin^{4}{\\left(\\pi y \\right)} + 4 \\lambda^{2} e^{\\lambda x} \\sin^{2}{\\left(\\pi y \\right)} - 4 \\lambda^{2} e^{\\lambda x} + 48 \\pi^{2} e^{\\lambda x} \\sin^{4}{\\left(\\pi y \\right)} - 48 \\pi^{2} e^{\\lambda x} \\sin^{2}{\\left(\\pi y \\right)} + 4 \\pi^{2} e^{\\lambda x} + 8 \\pi^{2} \\sin^{2}{\\left(\\pi y \\right)} - 4 \\pi^{2}\\right) + 64 \\pi^{4} \\lambda \\cos{\\left(2 \\pi y \\right)}\\right) e^{\\lambda x}}{24 \\pi^{2} Re}$"
      ],
      "text/plain": [
       "lambda*(Re**2*lambda**2*(Re - lambda)*exp(2*lambda*x)*sin(2*pi*y)**2*cos(2*pi*y) + 4*pi**2*Re*(8*Re*lambda*exp(2*lambda*x)*sin(pi*y)**6 - 12*Re*lambda*exp(2*lambda*x)*sin(pi*y)**4 + 4*Re*lambda*exp(2*lambda*x)*sin(pi*y)**2 + 8*Re*lambda*exp(lambda*x)*sin(pi*y)**4 - 8*Re*lambda*exp(lambda*x)*sin(pi*y)**2 + Re*lambda*exp(lambda*x) - 2*Re*lambda*sin(pi*y)**2 + Re*lambda - 4*lambda**2*exp(lambda*x)*sin(pi*y)**4 + 4*lambda**2*exp(lambda*x)*sin(pi*y)**2 - 4*lambda**2*exp(lambda*x) + 48*pi**2*exp(lambda*x)*sin(pi*y)**4 - 48*pi**2*exp(lambda*x)*sin(pi*y)**2 + 4*pi**2*exp(lambda*x) + 8*pi**2*sin(pi*y)**2 - 4*pi**2) + 64*pi**4*lambda*cos(2*pi*y))*exp(lambda*x)/(24*pi**2*Re)"
      ]
     },
     "metadata": {},
     "output_type": "display_data"
    },
    {
     "name": "stdout",
     "output_type": "stream",
     "text": [
      "\\frac{\\left(- Re \\lambda + \\left(\\lambda - 2 \\pi\\right) \\left(\\lambda + 2 \\pi\\right)\\right) e^{\\lambda x} \\cos{\\left(2 \\pi y \\right)}}{Re}\n",
      "+\\tau\\big(\n",
      "0\n",
      "\\big)\n",
      "+h^2\\big(\n",
      "\\frac{\\lambda \\left(Re^{2} \\lambda^{2} \\left(Re - \\lambda\\right) e^{2 \\lambda x} \\sin^{2}{\\left(2 \\pi y \\right)} \\cos{\\left(2 \\pi y \\right)} + 4 \\pi^{2} Re \\left(8 Re \\lambda e^{2 \\lambda x} \\sin^{6}{\\left(\\pi y \\right)} - 12 Re \\lambda e^{2 \\lambda x} \\sin^{4}{\\left(\\pi y \\right)} + 4 Re \\lambda e^{2 \\lambda x} \\sin^{2}{\\left(\\pi y \\right)} + 8 Re \\lambda e^{\\lambda x} \\sin^{4}{\\left(\\pi y \\right)} - 8 Re \\lambda e^{\\lambda x} \\sin^{2}{\\left(\\pi y \\right)} + Re \\lambda e^{\\lambda x} - 2 Re \\lambda \\sin^{2}{\\left(\\pi y \\right)} + Re \\lambda - 4 \\lambda^{2} e^{\\lambda x} \\sin^{4}{\\left(\\pi y \\right)} + 4 \\lambda^{2} e^{\\lambda x} \\sin^{2}{\\left(\\pi y \\right)} - 4 \\lambda^{2} e^{\\lambda x} + 48 \\pi^{2} e^{\\lambda x} \\sin^{4}{\\left(\\pi y \\right)} - 48 \\pi^{2} e^{\\lambda x} \\sin^{2}{\\left(\\pi y \\right)} + 4 \\pi^{2} e^{\\lambda x} + 8 \\pi^{2} \\sin^{2}{\\left(\\pi y \\right)} - 4 \\pi^{2}\\right) + 64 \\pi^{4} \\lambda \\cos{\\left(2 \\pi y \\right)}\\right) e^{\\lambda x}}{24 \\pi^{2} Re}\n",
      "\\big)\n",
      "-------------------------\n"
     ]
    },
    {
     "data": {
      "text/latex": [
       "$\\displaystyle p_{y} + u v_{x} + v v_{y} + v_{t} + \\frac{- v_{xx} - v_{yy}}{Re}$"
      ],
      "text/plain": [
       "p_{y} + u*v_{x} + v*v_{y} + v_{t} + (-v_{xx} - v_{yy})/Re"
      ]
     },
     "metadata": {},
     "output_type": "display_data"
    },
    {
     "name": "stdout",
     "output_type": "stream",
     "text": [
      "tau =>\n"
     ]
    },
    {
     "data": {
      "text/latex": [
       "$\\displaystyle \\frac{p_{ty} + u v_{tx} + u_{t} v_{x} + v v_{ty} + v_{tt} + v_{t} v_{y}}{2} - \\frac{v_{txx} + v_{tyy}}{2 Re}$"
      ],
      "text/plain": [
       "(p_{ty} + u*v_{tx} + u_{t}*v_{x} + v*v_{ty} + v_{tt} + v_{t}*v_{y})/2 - (v_{txx} + v_{tyy})/(2*Re)"
      ]
     },
     "metadata": {},
     "output_type": "display_data"
    },
    {
     "name": "stdout",
     "output_type": "stream",
     "text": [
      "h^2 =>\n"
     ]
    },
    {
     "data": {
      "text/latex": [
       "$\\displaystyle \\frac{p_{yyy} + u v_{xxx} + v v_{yyy}}{6} - \\frac{v_{xxxx} + v_{yyyy}}{3 Re}$"
      ],
      "text/plain": [
       "(p_{yyy} + u*v_{xxx} + v*v_{yyy})/6 - (v_{xxxx} + v_{yyyy})/(3*Re)"
      ]
     },
     "metadata": {},
     "output_type": "display_data"
    },
    {
     "name": "stdout",
     "output_type": "stream",
     "text": [
      "p_{y} + u v_{x} + v v_{y} + v_{t} + \\frac{- v_{xx} - v_{yy}}{Re}\n",
      "+\\tau\\big(\n",
      "\\frac{p_{ty} + u v_{tx} + u_{t} v_{x} + v v_{ty} + v_{tt} + v_{t} v_{y}}{2} - \\frac{v_{txx} + v_{tyy}}{2 Re}\n",
      "\\big)\n",
      "+h^2\\big(\n",
      "\\frac{p_{yyy} + u v_{xxx} + v v_{yyy}}{6} - \\frac{v_{xxxx} + v_{yyyy}}{3 Re}\n",
      "\\big)\n",
      "f3-f3-f3-f3-f3-f3-f3-f3-f3-f3-f3-f3-f3-f3-f3-f3-f3-f3-f3-f3-f3-f3-f3-f3-f3-\n"
     ]
    },
    {
     "data": {
      "text/latex": [
       "$\\displaystyle p_{y} + u v_{x} + v v_{y} + v_{t} + \\frac{- v_{xx} - v_{yy}}{Re}$"
      ],
      "text/plain": [
       "p_{y} + u*v_{x} + v*v_{y} + v_{t} + (-v_{xx} - v_{yy})/Re"
      ]
     },
     "metadata": {},
     "output_type": "display_data"
    },
    {
     "name": "stdout",
     "output_type": "stream",
     "text": [
      "tau =>\n"
     ]
    },
    {
     "data": {
      "text/latex": [
       "$\\displaystyle 0$"
      ],
      "text/plain": [
       "0"
      ]
     },
     "metadata": {},
     "output_type": "display_data"
    },
    {
     "name": "stdout",
     "output_type": "stream",
     "text": [
      "h^2 =>\n"
     ]
    },
    {
     "data": {
      "text/latex": [
       "$\\displaystyle - \\frac{Re^{2} u^{2} \\left(p_{y} + u v_{x} + v v_{y} + v_{t}\\right)}{6} + \\frac{Re \\left(- 2 p_{ty} - p_{xy} u + 6 p_{x} v_{x} - 2 p_{yy} v + 2 p_{y} v_{y} + u^{2} v_{yy} - 3 u v v_{xy} - 3 u v_{tx} - 4 u v_{x} v_{y} + 4 u_{t} v_{x} + 4 u_{y} v v_{x} - 2 v^{2} v_{yy} - 4 v v_{ty} - 2 v_{tt}\\right)}{6} + \\frac{5 p_{yyy} + 3 u v_{xyy} + 8 u_{y} v_{xy} + 5 v v_{yyy} + 4 v_{tyy} + 4 v_{xy} v_{x} + 12 v_{yy} v_{y}}{6} - \\frac{2 v_{yyyy}}{3 Re}$"
      ],
      "text/plain": [
       "-Re**2*u**2*(p_{y} + u*v_{x} + v*v_{y} + v_{t})/6 + Re*(-2*p_{ty} - p_{xy}*u + 6*p_{x}*v_{x} - 2*p_{yy}*v + 2*p_{y}*v_{y} + u**2*v_{yy} - 3*u*v*v_{xy} - 3*u*v_{tx} - 4*u*v_{x}*v_{y} + 4*u_{t}*v_{x} + 4*u_{y}*v*v_{x} - 2*v**2*v_{yy} - 4*v*v_{ty} - 2*v_{tt})/6 + (5*p_{yyy} + 3*u*v_{xyy} + 8*u_{y}*v_{xy} + 5*v*v_{yyy} + 4*v_{tyy} + 4*v_{xy}*v_{x} + 12*v_{yy}*v_{y})/6 - 2*v_{yyyy}/(3*Re)"
      ]
     },
     "metadata": {},
     "output_type": "display_data"
    },
    {
     "name": "stdout",
     "output_type": "stream",
     "text": [
      "p_{y} + u v_{x} + v v_{y} + v_{t} + \\frac{- v_{xx} - v_{yy}}{Re}\n",
      "+\\tau\\big(\n",
      "0\n",
      "\\big)\n",
      "+h^2\\big(\n",
      "- \\frac{Re^{2} u^{2} \\left(p_{y} + u v_{x} + v v_{y} + v_{t}\\right)}{6} + \\frac{Re \\left(- 2 p_{ty} - p_{xy} u + 6 p_{x} v_{x} - 2 p_{yy} v + 2 p_{y} v_{y} + u^{2} v_{yy} - 3 u v v_{xy} - 3 u v_{tx} - 4 u v_{x} v_{y} + 4 u_{t} v_{x} + 4 u_{y} v v_{x} - 2 v^{2} v_{yy} - 4 v v_{ty} - 2 v_{tt}\\right)}{6} + \\frac{5 p_{yyy} + 3 u v_{xyy} + 8 u_{y} v_{xy} + 5 v v_{yyy} + 4 v_{tyy} + 4 v_{xy} v_{x} + 12 v_{yy} v_{y}}{6} - \\frac{2 v_{yyyy}}{3 Re}\n",
      "\\big)\n"
     ]
    },
    {
     "data": {
      "text/latex": [
       "$\\displaystyle 0$"
      ],
      "text/plain": [
       "0"
      ]
     },
     "metadata": {},
     "output_type": "display_data"
    },
    {
     "name": "stdout",
     "output_type": "stream",
     "text": [
      "tau =>\n"
     ]
    },
    {
     "data": {
      "text/latex": [
       "$\\displaystyle 0$"
      ],
      "text/plain": [
       "0"
      ]
     },
     "metadata": {},
     "output_type": "display_data"
    },
    {
     "name": "stdout",
     "output_type": "stream",
     "text": [
      "h^2 =>\n"
     ]
    },
    {
     "data": {
      "text/latex": [
       "$\\displaystyle - \\frac{e^{- \\frac{4 t}{Re}} \\sin{\\left(2 y \\right)}}{4} - \\frac{2 e^{- \\frac{2 t}{Re}} \\sin{\\left(x \\right)} \\cos{\\left(y \\right)}}{3 Re}$"
      ],
      "text/plain": [
       "-exp(-4*t/Re)*sin(2*y)/4 - 2*exp(-2*t/Re)*sin(x)*cos(y)/(3*Re)"
      ]
     },
     "metadata": {},
     "output_type": "display_data"
    },
    {
     "name": "stdout",
     "output_type": "stream",
     "text": [
      "0\n",
      "+\\tau\\big(\n",
      "0\n",
      "\\big)\n",
      "+h^2\\big(\n",
      "- \\frac{e^{- \\frac{4 t}{Re}} \\sin{\\left(2 y \\right)}}{4} - \\frac{2 e^{- \\frac{2 t}{Re}} \\sin{\\left(x \\right)} \\cos{\\left(y \\right)}}{3 Re}\n",
      "\\big)\n"
     ]
    },
    {
     "data": {
      "text/latex": [
       "$\\displaystyle \\frac{\\lambda \\left(Re \\lambda - \\left(\\lambda - 2 \\pi\\right) \\left(\\lambda + 2 \\pi\\right)\\right) e^{\\lambda x} \\sin{\\left(2 \\pi y \\right)}}{2 \\pi Re}$"
      ],
      "text/plain": [
       "lambda*(Re*lambda - (lambda - 2*pi)*(lambda + 2*pi))*exp(lambda*x)*sin(2*pi*y)/(2*pi*Re)"
      ]
     },
     "metadata": {},
     "output_type": "display_data"
    },
    {
     "name": "stdout",
     "output_type": "stream",
     "text": [
      "tau =>\n"
     ]
    },
    {
     "data": {
      "text/latex": [
       "$\\displaystyle 0$"
      ],
      "text/plain": [
       "0"
      ]
     },
     "metadata": {},
     "output_type": "display_data"
    },
    {
     "name": "stdout",
     "output_type": "stream",
     "text": [
      "h^2 =>\n"
     ]
    },
    {
     "data": {
      "text/latex": [
       "$\\displaystyle \\frac{\\lambda \\left(Re \\left(- Re^{2} \\lambda e^{2 \\lambda x} \\cos^{2}{\\left(2 \\pi y \\right)} + 2 Re^{2} \\lambda e^{\\lambda x} \\cos{\\left(2 \\pi y \\right)} - Re^{2} \\lambda + 6 Re \\lambda^{2} e^{2 \\lambda x} \\sin^{2}{\\left(2 \\pi y \\right)} + 7 Re \\lambda^{2} e^{2 \\lambda x} \\cos^{2}{\\left(2 \\pi y \\right)} - 6 Re \\lambda^{2} e^{2 \\lambda x} - 7 Re \\lambda^{2} e^{\\lambda x} \\cos{\\left(2 \\pi y \\right)} - 4 \\pi^{2} Re e^{2 \\lambda x} \\cos^{2}{\\left(2 \\pi y \\right)} + 8 \\pi^{2} Re e^{\\lambda x} \\cos{\\left(2 \\pi y \\right)} - 4 \\pi^{2} Re + 4 \\lambda^{3} e^{\\lambda x} \\cos{\\left(2 \\pi y \\right)} - 24 \\pi^{2} \\lambda e^{\\lambda x} \\cos{\\left(2 \\pi y \\right)} - 12 \\pi^{2} \\lambda\\right) - 64 \\pi^{4}\\right) e^{\\lambda x} \\sin{\\left(2 \\pi y \\right)}}{12 \\pi Re}$"
      ],
      "text/plain": [
       "lambda*(Re*(-Re**2*lambda*exp(2*lambda*x)*cos(2*pi*y)**2 + 2*Re**2*lambda*exp(lambda*x)*cos(2*pi*y) - Re**2*lambda + 6*Re*lambda**2*exp(2*lambda*x)*sin(2*pi*y)**2 + 7*Re*lambda**2*exp(2*lambda*x)*cos(2*pi*y)**2 - 6*Re*lambda**2*exp(2*lambda*x) - 7*Re*lambda**2*exp(lambda*x)*cos(2*pi*y) - 4*pi**2*Re*exp(2*lambda*x)*cos(2*pi*y)**2 + 8*pi**2*Re*exp(lambda*x)*cos(2*pi*y) - 4*pi**2*Re + 4*lambda**3*exp(lambda*x)*cos(2*pi*y) - 24*pi**2*lambda*exp(lambda*x)*cos(2*pi*y) - 12*pi**2*lambda) - 64*pi**4)*exp(lambda*x)*sin(2*pi*y)/(12*pi*Re)"
      ]
     },
     "metadata": {},
     "output_type": "display_data"
    },
    {
     "name": "stdout",
     "output_type": "stream",
     "text": [
      "\\frac{\\lambda \\left(Re \\lambda - \\left(\\lambda - 2 \\pi\\right) \\left(\\lambda + 2 \\pi\\right)\\right) e^{\\lambda x} \\sin{\\left(2 \\pi y \\right)}}{2 \\pi Re}\n",
      "+\\tau\\big(\n",
      "0\n",
      "\\big)\n",
      "+h^2\\big(\n",
      "\\frac{\\lambda \\left(Re \\left(- Re^{2} \\lambda e^{2 \\lambda x} \\cos^{2}{\\left(2 \\pi y \\right)} + 2 Re^{2} \\lambda e^{\\lambda x} \\cos{\\left(2 \\pi y \\right)} - Re^{2} \\lambda + 6 Re \\lambda^{2} e^{2 \\lambda x} \\sin^{2}{\\left(2 \\pi y \\right)} + 7 Re \\lambda^{2} e^{2 \\lambda x} \\cos^{2}{\\left(2 \\pi y \\right)} - 6 Re \\lambda^{2} e^{2 \\lambda x} - 7 Re \\lambda^{2} e^{\\lambda x} \\cos{\\left(2 \\pi y \\right)} - 4 \\pi^{2} Re e^{2 \\lambda x} \\cos^{2}{\\left(2 \\pi y \\right)} + 8 \\pi^{2} Re e^{\\lambda x} \\cos{\\left(2 \\pi y \\right)} - 4 \\pi^{2} Re + 4 \\lambda^{3} e^{\\lambda x} \\cos{\\left(2 \\pi y \\right)} - 24 \\pi^{2} \\lambda e^{\\lambda x} \\cos{\\left(2 \\pi y \\right)} - 12 \\pi^{2} \\lambda\\right) - 64 \\pi^{4}\\right) e^{\\lambda x} \\sin{\\left(2 \\pi y \\right)}}{12 \\pi Re}\n",
      "\\big)\n",
      "-------------------------\n"
     ]
    },
    {
     "data": {
      "text/latex": [
       "$\\displaystyle p_{xx} + p_{yy} + u u_{xx} + u v_{xy} + u_{xy} v + u_{x}^{2} + 2 u_{y} v_{x} + v v_{yy} + v_{y}^{2}$"
      ],
      "text/plain": [
       "p_{xx} + p_{yy} + u*u_{xx} + u*v_{xy} + u_{xy}*v + u_{x}**2 + 2*u_{y}*v_{x} + v*v_{yy} + v_{y}**2"
      ]
     },
     "metadata": {},
     "output_type": "display_data"
    },
    {
     "name": "stdout",
     "output_type": "stream",
     "text": [
      "tau =>\n"
     ]
    },
    {
     "data": {
      "text/latex": [
       "$\\displaystyle 0$"
      ],
      "text/plain": [
       "0"
      ]
     },
     "metadata": {},
     "output_type": "display_data"
    },
    {
     "name": "stdout",
     "output_type": "stream",
     "text": [
      "h^2 =>\n"
     ]
    },
    {
     "data": {
      "text/latex": [
       "$\\displaystyle \\frac{2 p_{xxxx} + 2 p_{yyyy} + 2 u u_{xxxx} + u v_{xxxy} + u v_{xyyy} + u_{xxxy} v + 5 u_{xxx} u_{x} + 3 u_{xxy} v_{x} + 3 u_{xx}^{2} + u_{xyyy} v + 3 u_{xy} v_{xx} + 2 u_{yyy} v_{x} + 3 u_{yy} v_{xy} + 2 u_{y} v_{xxx} + 3 u_{y} v_{xyy} + 2 v v_{yyyy} + 5 v_{yyy} v_{y} + 3 v_{yy}^{2}}{6}$"
      ],
      "text/plain": [
       "(2*p_{xxxx} + 2*p_{yyyy} + 2*u*u_{xxxx} + u*v_{xxxy} + u*v_{xyyy} + u_{xxxy}*v + 5*u_{xxx}*u_{x} + 3*u_{xxy}*v_{x} + 3*u_{xx}**2 + u_{xyyy}*v + 3*u_{xy}*v_{xx} + 2*u_{yyy}*v_{x} + 3*u_{yy}*v_{xy} + 2*u_{y}*v_{xxx} + 3*u_{y}*v_{xyy} + 2*v*v_{yyyy} + 5*v_{yyy}*v_{y} + 3*v_{yy}**2)/6"
      ]
     },
     "metadata": {},
     "output_type": "display_data"
    },
    {
     "name": "stdout",
     "output_type": "stream",
     "text": [
      "p_{xx} + p_{yy} + u u_{xx} + u v_{xy} + u_{xy} v + u_{x}^{2} + 2 u_{y} v_{x} + v v_{yy} + v_{y}^{2}\n",
      "+\\tau\\big(\n",
      "0\n",
      "\\big)\n",
      "+h^2\\big(\n",
      "\\frac{2 p_{xxxx} + 2 p_{yyyy} + 2 u u_{xxxx} + u v_{xxxy} + u v_{xyyy} + u_{xxxy} v + 5 u_{xxx} u_{x} + 3 u_{xxy} v_{x} + 3 u_{xx}^{2} + u_{xyyy} v + 3 u_{xy} v_{xx} + 2 u_{yyy} v_{x} + 3 u_{yy} v_{xy} + 2 u_{y} v_{xxx} + 3 u_{y} v_{xyy} + 2 v v_{yyyy} + 5 v_{yyy} v_{y} + 3 v_{yy}^{2}}{6}\n",
      "\\big)\n",
      "f4-f4-f4-f4-f4-f4-f4-f4-f4-f4-f4-f4-f4-f4-f4-f4-f4-f4-f4-f4-f4-f4-f4-f4-f4-\n"
     ]
    },
    {
     "data": {
      "text/latex": [
       "$\\displaystyle p_{xx} + p_{yy} + u u_{xx} + u v_{xy} + u_{xy} v + u_{x}^{2} + 2 u_{y} v_{x} + v v_{yy} + v_{y}^{2}$"
      ],
      "text/plain": [
       "p_{xx} + p_{yy} + u*u_{xx} + u*v_{xy} + u_{xy}*v + u_{x}**2 + 2*u_{y}*v_{x} + v*v_{yy} + v_{y}**2"
      ]
     },
     "metadata": {},
     "output_type": "display_data"
    },
    {
     "name": "stdout",
     "output_type": "stream",
     "text": [
      "tau =>\n"
     ]
    },
    {
     "data": {
      "text/latex": [
       "$\\displaystyle 0$"
      ],
      "text/plain": [
       "0"
      ]
     },
     "metadata": {},
     "output_type": "display_data"
    },
    {
     "name": "stdout",
     "output_type": "stream",
     "text": [
      "h^2 =>\n"
     ]
    },
    {
     "data": {
      "text/latex": [
       "$\\displaystyle - \\frac{Re^{2} \\left(- 5 p_{x} v v_{x} + p_{yy} u^{2} + 3 p_{y} u u_{y} + u^{3} v_{xy} + 4 u^{2} u_{y} v_{x} + u^{2} v v_{yy} + u^{2} v_{ty} + u^{2} v_{y}^{2} + 3 u u_{y} v v_{y} + 3 u u_{y} v_{t} + 5 u v v_{x} v_{y} - 5 u_{t} v v_{x} - 5 u_{y} v^{2} v_{x}\\right)}{6} + \\frac{Re \\left(- p_{xyy} u - 2 p_{xy} u_{y} + 6 p_{xy} v_{x} + 11 p_{x} v_{xy} - p_{yyy} v - 3 p_{yy} v_{y} + 5 p_{y} v_{yy} + u^{2} v_{yyy} + 3 u u_{y} v_{yy} - 2 u v v_{xyy} - u v_{txy} - 15 u v_{xy} v_{y} - u v_{x} v_{yy} + 6 u_{ty} v_{x} + 11 u_{t} v_{xy} + 7 u_{y} v v_{xy} - 2 u_{y} v_{tx} - 3 u_{y} v_{x} v_{y} - v^{2} v_{yyy} - v v_{tyy} + 5 v v_{xy} v_{x} - v v_{yy} v_{y} - 3 v_{ty} v_{y} + 5 v_{t} v_{yy} - 3 v_{y}^{3}\\right)}{6} + \\frac{4 p_{yyyy} + 2 u v_{xyyy} + 9 u_{y} v_{xyy} + 2 v v_{yyyy} + 7 v_{xyy} v_{x} + 6 v_{xy}^{2} + 16 v_{yyy} v_{y} + 6 v_{yy}^{2}}{6}$"
      ],
      "text/plain": [
       "-Re**2*(-5*p_{x}*v*v_{x} + p_{yy}*u**2 + 3*p_{y}*u*u_{y} + u**3*v_{xy} + 4*u**2*u_{y}*v_{x} + u**2*v*v_{yy} + u**2*v_{ty} + u**2*v_{y}**2 + 3*u*u_{y}*v*v_{y} + 3*u*u_{y}*v_{t} + 5*u*v*v_{x}*v_{y} - 5*u_{t}*v*v_{x} - 5*u_{y}*v**2*v_{x})/6 + Re*(-p_{xyy}*u - 2*p_{xy}*u_{y} + 6*p_{xy}*v_{x} + 11*p_{x}*v_{xy} - p_{yyy}*v - 3*p_{yy}*v_{y} + 5*p_{y}*v_{yy} + u**2*v_{yyy} + 3*u*u_{y}*v_{yy} - 2*u*v*v_{xyy} - u*v_{txy} - 15*u*v_{xy}*v_{y} - u*v_{x}*v_{yy} + 6*u_{ty}*v_{x} + 11*u_{t}*v_{xy} + 7*u_{y}*v*v_{xy} - 2*u_{y}*v_{tx} - 3*u_{y}*v_{x}*v_{y} - v**2*v_{yyy} - v*v_{tyy} + 5*v*v_{xy}*v_{x} - v*v_{yy}*v_{y} - 3*v_{ty}*v_{y} + 5*v_{t}*v_{yy} - 3*v_{y}**3)/6 + (4*p_{yyyy} + 2*u*v_{xyyy} + 9*u_{y}*v_{xyy} + 2*v*v_{yyyy} + 7*v_{xyy}*v_{x} + 6*v_{xy}**2 + 16*v_{yyy}*v_{y} + 6*v_{yy}**2)/6"
      ]
     },
     "metadata": {},
     "output_type": "display_data"
    },
    {
     "name": "stdout",
     "output_type": "stream",
     "text": [
      "p_{xx} + p_{yy} + u u_{xx} + u v_{xy} + u_{xy} v + u_{x}^{2} + 2 u_{y} v_{x} + v v_{yy} + v_{y}^{2}\n",
      "+\\tau\\big(\n",
      "0\n",
      "\\big)\n",
      "+h^2\\big(\n",
      "- \\frac{Re^{2} \\left(- 5 p_{x} v v_{x} + p_{yy} u^{2} + 3 p_{y} u u_{y} + u^{3} v_{xy} + 4 u^{2} u_{y} v_{x} + u^{2} v v_{yy} + u^{2} v_{ty} + u^{2} v_{y}^{2} + 3 u u_{y} v v_{y} + 3 u u_{y} v_{t} + 5 u v v_{x} v_{y} - 5 u_{t} v v_{x} - 5 u_{y} v^{2} v_{x}\\right)}{6} + \\frac{Re \\left(- p_{xyy} u - 2 p_{xy} u_{y} + 6 p_{xy} v_{x} + 11 p_{x} v_{xy} - p_{yyy} v - 3 p_{yy} v_{y} + 5 p_{y} v_{yy} + u^{2} v_{yyy} + 3 u u_{y} v_{yy} - 2 u v v_{xyy} - u v_{txy} - 15 u v_{xy} v_{y} - u v_{x} v_{yy} + 6 u_{ty} v_{x} + 11 u_{t} v_{xy} + 7 u_{y} v v_{xy} - 2 u_{y} v_{tx} - 3 u_{y} v_{x} v_{y} - v^{2} v_{yyy} - v v_{tyy} + 5 v v_{xy} v_{x} - v v_{yy} v_{y} - 3 v_{ty} v_{y} + 5 v_{t} v_{yy} - 3 v_{y}^{3}\\right)}{6} + \\frac{4 p_{yyyy} + 2 u v_{xyyy} + 9 u_{y} v_{xyy} + 2 v v_{yyyy} + 7 v_{xyy} v_{x} + 6 v_{xy}^{2} + 16 v_{yyy} v_{y} + 6 v_{yy}^{2}}{6}\n",
      "\\big)\n"
     ]
    },
    {
     "data": {
      "text/latex": [
       "$\\displaystyle 0$"
      ],
      "text/plain": [
       "0"
      ]
     },
     "metadata": {},
     "output_type": "display_data"
    },
    {
     "name": "stdout",
     "output_type": "stream",
     "text": [
      "tau =>\n"
     ]
    },
    {
     "data": {
      "text/latex": [
       "$\\displaystyle 0$"
      ],
      "text/plain": [
       "0"
      ]
     },
     "metadata": {},
     "output_type": "display_data"
    },
    {
     "name": "stdout",
     "output_type": "stream",
     "text": [
      "h^2 =>\n"
     ]
    },
    {
     "data": {
      "text/latex": [
       "$\\displaystyle \\left(\\sin^{2}{\\left(x \\right)} + \\sin^{2}{\\left(y \\right)} - 1\\right) e^{- \\frac{4 t}{Re}}$"
      ],
      "text/plain": [
       "(sin(x)**2 + sin(y)**2 - 1)*exp(-4*t/Re)"
      ]
     },
     "metadata": {},
     "output_type": "display_data"
    },
    {
     "name": "stdout",
     "output_type": "stream",
     "text": [
      "0\n",
      "+\\tau\\big(\n",
      "0\n",
      "\\big)\n",
      "+h^2\\big(\n",
      "\\left(\\sin^{2}{\\left(x \\right)} + \\sin^{2}{\\left(y \\right)} - 1\\right) e^{- \\frac{4 t}{Re}}\n",
      "\\big)\n"
     ]
    },
    {
     "data": {
      "text/latex": [
       "$\\displaystyle 0$"
      ],
      "text/plain": [
       "0"
      ]
     },
     "metadata": {},
     "output_type": "display_data"
    },
    {
     "name": "stdout",
     "output_type": "stream",
     "text": [
      "tau =>\n"
     ]
    },
    {
     "data": {
      "text/latex": [
       "$\\displaystyle 0$"
      ],
      "text/plain": [
       "0"
      ]
     },
     "metadata": {},
     "output_type": "display_data"
    },
    {
     "name": "stdout",
     "output_type": "stream",
     "text": [
      "h^2 =>\n"
     ]
    },
    {
     "data": {
      "text/latex": [
       "$\\displaystyle \\frac{\\lambda \\left(- Re^{2} \\lambda \\left(10 \\lambda^{2} e^{2 \\lambda x} \\sin^{6}{\\left(\\pi y \\right)} - 15 \\lambda^{2} e^{2 \\lambda x} \\sin^{4}{\\left(\\pi y \\right)} + 5 \\lambda^{2} e^{2 \\lambda x} \\sin^{2}{\\left(\\pi y \\right)} - 32 \\pi^{2} e^{2 \\lambda x} \\sin^{6}{\\left(\\pi y \\right)} + 48 \\pi^{2} e^{2 \\lambda x} \\sin^{4}{\\left(\\pi y \\right)} - 18 \\pi^{2} e^{2 \\lambda x} \\sin^{2}{\\left(\\pi y \\right)} + \\pi^{2} e^{2 \\lambda x} - 20 \\pi^{2} e^{\\lambda x} \\sin^{4}{\\left(\\pi y \\right)} + 20 \\pi^{2} e^{\\lambda x} \\sin^{2}{\\left(\\pi y \\right)} - 2 \\pi^{2} e^{\\lambda x} - 2 \\pi^{2} \\sin^{2}{\\left(\\pi y \\right)} + \\pi^{2}\\right) + Re \\left(10 \\lambda^{4} e^{2 \\lambda x} \\sin^{6}{\\left(\\pi y \\right)} - 15 \\lambda^{4} e^{2 \\lambda x} \\sin^{4}{\\left(\\pi y \\right)} + 5 \\lambda^{4} e^{2 \\lambda x} \\sin^{2}{\\left(\\pi y \\right)} - 72 \\pi^{2} \\lambda^{2} e^{2 \\lambda x} \\sin^{6}{\\left(\\pi y \\right)} + 108 \\pi^{2} \\lambda^{2} e^{2 \\lambda x} \\sin^{4}{\\left(\\pi y \\right)} - 38 \\pi^{2} \\lambda^{2} e^{2 \\lambda x} \\sin^{2}{\\left(\\pi y \\right)} + \\pi^{2} \\lambda^{2} e^{2 \\lambda x} - 72 \\pi^{2} \\lambda^{2} e^{\\lambda x} \\sin^{4}{\\left(\\pi y \\right)} + 72 \\pi^{2} \\lambda^{2} e^{\\lambda x} \\sin^{2}{\\left(\\pi y \\right)} - 15 \\pi^{2} \\lambda^{2} e^{\\lambda x} + 128 \\pi^{4} e^{2 \\lambda x} \\sin^{6}{\\left(\\pi y \\right)} - 192 \\pi^{4} e^{2 \\lambda x} \\sin^{4}{\\left(\\pi y \\right)} + 72 \\pi^{4} e^{2 \\lambda x} \\sin^{2}{\\left(\\pi y \\right)} - 4 \\pi^{4} e^{2 \\lambda x} + 80 \\pi^{4} e^{\\lambda x} \\sin^{4}{\\left(\\pi y \\right)} - 80 \\pi^{4} e^{\\lambda x} \\sin^{2}{\\left(\\pi y \\right)} + 8 \\pi^{4} e^{\\lambda x} + 8 \\pi^{4} \\sin^{2}{\\left(\\pi y \\right)} - 4 \\pi^{4}\\right) + 2 \\pi^{2} \\lambda \\left(26 \\lambda^{2} e^{\\lambda x} \\sin^{4}{\\left(\\pi y \\right)} - 26 \\lambda^{2} e^{\\lambda x} \\sin^{2}{\\left(\\pi y \\right)} + 3 \\lambda^{2} e^{\\lambda x} - 104 \\pi^{2} e^{\\lambda x} \\sin^{4}{\\left(\\pi y \\right)} + 104 \\pi^{2} e^{\\lambda x} \\sin^{2}{\\left(\\pi y \\right)} - 28 \\pi^{2} e^{\\lambda x} + 8 \\pi^{2} \\sin^{2}{\\left(\\pi y \\right)} - 4 \\pi^{2}\\right)\\right) e^{\\lambda x}}{6 \\pi^{2}}$"
      ],
      "text/plain": [
       "lambda*(-Re**2*lambda*(10*lambda**2*exp(2*lambda*x)*sin(pi*y)**6 - 15*lambda**2*exp(2*lambda*x)*sin(pi*y)**4 + 5*lambda**2*exp(2*lambda*x)*sin(pi*y)**2 - 32*pi**2*exp(2*lambda*x)*sin(pi*y)**6 + 48*pi**2*exp(2*lambda*x)*sin(pi*y)**4 - 18*pi**2*exp(2*lambda*x)*sin(pi*y)**2 + pi**2*exp(2*lambda*x) - 20*pi**2*exp(lambda*x)*sin(pi*y)**4 + 20*pi**2*exp(lambda*x)*sin(pi*y)**2 - 2*pi**2*exp(lambda*x) - 2*pi**2*sin(pi*y)**2 + pi**2) + Re*(10*lambda**4*exp(2*lambda*x)*sin(pi*y)**6 - 15*lambda**4*exp(2*lambda*x)*sin(pi*y)**4 + 5*lambda**4*exp(2*lambda*x)*sin(pi*y)**2 - 72*pi**2*lambda**2*exp(2*lambda*x)*sin(pi*y)**6 + 108*pi**2*lambda**2*exp(2*lambda*x)*sin(pi*y)**4 - 38*pi**2*lambda**2*exp(2*lambda*x)*sin(pi*y)**2 + pi**2*lambda**2*exp(2*lambda*x) - 72*pi**2*lambda**2*exp(lambda*x)*sin(pi*y)**4 + 72*pi**2*lambda**2*exp(lambda*x)*sin(pi*y)**2 - 15*pi**2*lambda**2*exp(lambda*x) + 128*pi**4*exp(2*lambda*x)*sin(pi*y)**6 - 192*pi**4*exp(2*lambda*x)*sin(pi*y)**4 + 72*pi**4*exp(2*lambda*x)*sin(pi*y)**2 - 4*pi**4*exp(2*lambda*x) + 80*pi**4*exp(lambda*x)*sin(pi*y)**4 - 80*pi**4*exp(lambda*x)*sin(pi*y)**2 + 8*pi**4*exp(lambda*x) + 8*pi**4*sin(pi*y)**2 - 4*pi**4) + 2*pi**2*lambda*(26*lambda**2*exp(lambda*x)*sin(pi*y)**4 - 26*lambda**2*exp(lambda*x)*sin(pi*y)**2 + 3*lambda**2*exp(lambda*x) - 104*pi**2*exp(lambda*x)*sin(pi*y)**4 + 104*pi**2*exp(lambda*x)*sin(pi*y)**2 - 28*pi**2*exp(lambda*x) + 8*pi**2*sin(pi*y)**2 - 4*pi**2))*exp(lambda*x)/(6*pi**2)"
      ]
     },
     "metadata": {},
     "output_type": "display_data"
    },
    {
     "name": "stdout",
     "output_type": "stream",
     "text": [
      "0\n",
      "+\\tau\\big(\n",
      "0\n",
      "\\big)\n",
      "+h^2\\big(\n",
      "\\frac{\\lambda \\left(- Re^{2} \\lambda \\left(10 \\lambda^{2} e^{2 \\lambda x} \\sin^{6}{\\left(\\pi y \\right)} - 15 \\lambda^{2} e^{2 \\lambda x} \\sin^{4}{\\left(\\pi y \\right)} + 5 \\lambda^{2} e^{2 \\lambda x} \\sin^{2}{\\left(\\pi y \\right)} - 32 \\pi^{2} e^{2 \\lambda x} \\sin^{6}{\\left(\\pi y \\right)} + 48 \\pi^{2} e^{2 \\lambda x} \\sin^{4}{\\left(\\pi y \\right)} - 18 \\pi^{2} e^{2 \\lambda x} \\sin^{2}{\\left(\\pi y \\right)} + \\pi^{2} e^{2 \\lambda x} - 20 \\pi^{2} e^{\\lambda x} \\sin^{4}{\\left(\\pi y \\right)} + 20 \\pi^{2} e^{\\lambda x} \\sin^{2}{\\left(\\pi y \\right)} - 2 \\pi^{2} e^{\\lambda x} - 2 \\pi^{2} \\sin^{2}{\\left(\\pi y \\right)} + \\pi^{2}\\right) + Re \\left(10 \\lambda^{4} e^{2 \\lambda x} \\sin^{6}{\\left(\\pi y \\right)} - 15 \\lambda^{4} e^{2 \\lambda x} \\sin^{4}{\\left(\\pi y \\right)} + 5 \\lambda^{4} e^{2 \\lambda x} \\sin^{2}{\\left(\\pi y \\right)} - 72 \\pi^{2} \\lambda^{2} e^{2 \\lambda x} \\sin^{6}{\\left(\\pi y \\right)} + 108 \\pi^{2} \\lambda^{2} e^{2 \\lambda x} \\sin^{4}{\\left(\\pi y \\right)} - 38 \\pi^{2} \\lambda^{2} e^{2 \\lambda x} \\sin^{2}{\\left(\\pi y \\right)} + \\pi^{2} \\lambda^{2} e^{2 \\lambda x} - 72 \\pi^{2} \\lambda^{2} e^{\\lambda x} \\sin^{4}{\\left(\\pi y \\right)} + 72 \\pi^{2} \\lambda^{2} e^{\\lambda x} \\sin^{2}{\\left(\\pi y \\right)} - 15 \\pi^{2} \\lambda^{2} e^{\\lambda x} + 128 \\pi^{4} e^{2 \\lambda x} \\sin^{6}{\\left(\\pi y \\right)} - 192 \\pi^{4} e^{2 \\lambda x} \\sin^{4}{\\left(\\pi y \\right)} + 72 \\pi^{4} e^{2 \\lambda x} \\sin^{2}{\\left(\\pi y \\right)} - 4 \\pi^{4} e^{2 \\lambda x} + 80 \\pi^{4} e^{\\lambda x} \\sin^{4}{\\left(\\pi y \\right)} - 80 \\pi^{4} e^{\\lambda x} \\sin^{2}{\\left(\\pi y \\right)} + 8 \\pi^{4} e^{\\lambda x} + 8 \\pi^{4} \\sin^{2}{\\left(\\pi y \\right)} - 4 \\pi^{4}\\right) + 2 \\pi^{2} \\lambda \\left(26 \\lambda^{2} e^{\\lambda x} \\sin^{4}{\\left(\\pi y \\right)} - 26 \\lambda^{2} e^{\\lambda x} \\sin^{2}{\\left(\\pi y \\right)} + 3 \\lambda^{2} e^{\\lambda x} - 104 \\pi^{2} e^{\\lambda x} \\sin^{4}{\\left(\\pi y \\right)} + 104 \\pi^{2} e^{\\lambda x} \\sin^{2}{\\left(\\pi y \\right)} - 28 \\pi^{2} e^{\\lambda x} + 8 \\pi^{2} \\sin^{2}{\\left(\\pi y \\right)} - 4 \\pi^{2}\\right)\\right) e^{\\lambda x}}{6 \\pi^{2}}\n",
      "\\big)\n"
     ]
    },
    {
     "data": {
      "text/latex": [
       "$\\displaystyle 0$"
      ],
      "text/plain": [
       "0"
      ]
     },
     "metadata": {},
     "output_type": "display_data"
    },
    {
     "name": "stdout",
     "output_type": "stream",
     "text": [
      "tau =>\n"
     ]
    },
    {
     "data": {
      "text/latex": [
       "$\\displaystyle 0$"
      ],
      "text/plain": [
       "0"
      ]
     },
     "metadata": {},
     "output_type": "display_data"
    },
    {
     "name": "stdout",
     "output_type": "stream",
     "text": [
      "h^2 =>\n"
     ]
    },
    {
     "data": {
      "text/latex": [
       "$\\displaystyle 0$"
      ],
      "text/plain": [
       "0"
      ]
     },
     "metadata": {},
     "output_type": "display_data"
    },
    {
     "name": "stdout",
     "output_type": "stream",
     "text": [
      "0\n",
      "+\\tau\\big(\n",
      "0\n",
      "\\big)\n",
      "+h^2\\big(\n",
      "0\n",
      "\\big)\n"
     ]
    }
   ],
   "source": [
    "F1 = clip(Dx(u) + Dy(v))\n",
    "F2 = clip(Dt(u) + It(u*Dx(u) + v*Dy(u) + Dx(p) - DD2(u)/Re))\n",
    "F3 = clip(Dt(v) + It(u*Dx(v) + v*Dy(v) + Dy(p) - DD2(v)/Re))\n",
    "F4 = clip(Dx(u*Dx(u) + v*Dy(u) + Dx(p)) + Dy(u*Dx(v) + v*Dy(v) + Dy(p)))\n",
    "\n",
    "build(F1, F2, F3, F4)"
   ]
  },
  {
   "cell_type": "code",
   "execution_count": 16,
   "metadata": {},
   "outputs": [
    {
     "data": {
      "text/latex": [
       "$\\displaystyle u_{x} + v_{y}$"
      ],
      "text/plain": [
       "u_{x} + v_{y}"
      ]
     },
     "metadata": {},
     "output_type": "display_data"
    },
    {
     "name": "stdout",
     "output_type": "stream",
     "text": [
      "tau =>\n"
     ]
    },
    {
     "data": {
      "text/latex": [
       "$\\displaystyle 0$"
      ],
      "text/plain": [
       "0"
      ]
     },
     "metadata": {},
     "output_type": "display_data"
    },
    {
     "name": "stdout",
     "output_type": "stream",
     "text": [
      "h^2 =>\n"
     ]
    },
    {
     "data": {
      "text/latex": [
       "$\\displaystyle \\frac{u_{xxx} + v_{yyy}}{6}$"
      ],
      "text/plain": [
       "(u_{xxx} + v_{yyy})/6"
      ]
     },
     "metadata": {},
     "output_type": "display_data"
    },
    {
     "name": "stdout",
     "output_type": "stream",
     "text": [
      "u_{x} + v_{y}\n",
      "+\\tau\\big(\n",
      "0\n",
      "\\big)\n",
      "+h^2\\big(\n",
      "\\frac{u_{xxx} + v_{yyy}}{6}\n",
      "\\big)\n",
      "f1-f1-f1-f1-f1-f1-f1-f1-f1-f1-f1-f1-f1-f1-f1-f1-f1-f1-f1-f1-f1-f1-f1-f1-f1-\n"
     ]
    },
    {
     "data": {
      "text/latex": [
       "$\\displaystyle u_{x} + v_{y}$"
      ],
      "text/plain": [
       "u_{x} + v_{y}"
      ]
     },
     "metadata": {},
     "output_type": "display_data"
    },
    {
     "name": "stdout",
     "output_type": "stream",
     "text": [
      "tau =>\n"
     ]
    },
    {
     "data": {
      "text/latex": [
       "$\\displaystyle 0$"
      ],
      "text/plain": [
       "0"
      ]
     },
     "metadata": {},
     "output_type": "display_data"
    },
    {
     "name": "stdout",
     "output_type": "stream",
     "text": [
      "h^2 =>\n"
     ]
    },
    {
     "data": {
      "text/latex": [
       "$\\displaystyle - \\frac{Re \\left(p_{yy} + u v_{xy} + u_{y} v_{x} + v v_{yy} + v_{ty} + v_{y}^{2}\\right)}{6} + \\frac{v_{yyy}}{3}$"
      ],
      "text/plain": [
       "-Re*(p_{yy} + u*v_{xy} + u_{y}*v_{x} + v*v_{yy} + v_{ty} + v_{y}**2)/6 + v_{yyy}/3"
      ]
     },
     "metadata": {},
     "output_type": "display_data"
    },
    {
     "name": "stdout",
     "output_type": "stream",
     "text": [
      "u_{x} + v_{y}\n",
      "+\\tau\\big(\n",
      "0\n",
      "\\big)\n",
      "+h^2\\big(\n",
      "- \\frac{Re \\left(p_{yy} + u v_{xy} + u_{y} v_{x} + v v_{yy} + v_{ty} + v_{y}^{2}\\right)}{6} + \\frac{v_{yyy}}{3}\n",
      "\\big)\n"
     ]
    },
    {
     "data": {
      "text/latex": [
       "$\\displaystyle 0$"
      ],
      "text/plain": [
       "0"
      ]
     },
     "metadata": {},
     "output_type": "display_data"
    },
    {
     "name": "stdout",
     "output_type": "stream",
     "text": [
      "tau =>\n"
     ]
    },
    {
     "data": {
      "text/latex": [
       "$\\displaystyle 0$"
      ],
      "text/plain": [
       "0"
      ]
     },
     "metadata": {},
     "output_type": "display_data"
    },
    {
     "name": "stdout",
     "output_type": "stream",
     "text": [
      "h^2 =>\n"
     ]
    },
    {
     "data": {
      "text/latex": [
       "$\\displaystyle 0$"
      ],
      "text/plain": [
       "0"
      ]
     },
     "metadata": {},
     "output_type": "display_data"
    },
    {
     "name": "stdout",
     "output_type": "stream",
     "text": [
      "0\n",
      "+\\tau\\big(\n",
      "0\n",
      "\\big)\n",
      "+h^2\\big(\n",
      "0\n",
      "\\big)\n"
     ]
    },
    {
     "data": {
      "text/latex": [
       "$\\displaystyle 0$"
      ],
      "text/plain": [
       "0"
      ]
     },
     "metadata": {},
     "output_type": "display_data"
    },
    {
     "name": "stdout",
     "output_type": "stream",
     "text": [
      "tau =>\n"
     ]
    },
    {
     "data": {
      "text/latex": [
       "$\\displaystyle 0$"
      ],
      "text/plain": [
       "0"
      ]
     },
     "metadata": {},
     "output_type": "display_data"
    },
    {
     "name": "stdout",
     "output_type": "stream",
     "text": [
      "h^2 =>\n"
     ]
    },
    {
     "data": {
      "text/latex": [
       "$\\displaystyle - \\frac{\\lambda \\left(Re \\lambda + 8 \\pi^{2}\\right) e^{\\lambda x} \\cos{\\left(2 \\pi y \\right)}}{6}$"
      ],
      "text/plain": [
       "-lambda*(Re*lambda + 8*pi**2)*exp(lambda*x)*cos(2*pi*y)/6"
      ]
     },
     "metadata": {},
     "output_type": "display_data"
    },
    {
     "name": "stdout",
     "output_type": "stream",
     "text": [
      "0\n",
      "+\\tau\\big(\n",
      "0\n",
      "\\big)\n",
      "+h^2\\big(\n",
      "- \\frac{\\lambda \\left(Re \\lambda + 8 \\pi^{2}\\right) e^{\\lambda x} \\cos{\\left(2 \\pi y \\right)}}{6}\n",
      "\\big)\n",
      "-------------------------\n"
     ]
    },
    {
     "data": {
      "text/latex": [
       "$\\displaystyle p_{x} + u u_{x} + u_{t} + u_{y} v + \\frac{- u_{xx} - u_{yy}}{Re}$"
      ],
      "text/plain": [
       "p_{x} + u*u_{x} + u_{t} + u_{y}*v + (-u_{xx} - u_{yy})/Re"
      ]
     },
     "metadata": {},
     "output_type": "display_data"
    },
    {
     "name": "stdout",
     "output_type": "stream",
     "text": [
      "tau =>\n"
     ]
    },
    {
     "data": {
      "text/latex": [
       "$\\displaystyle \\frac{2 p_{tx} + 2 u u_{tx} + u_{tt} + 2 u_{ty} v + 2 u_{t} u_{x} + 2 u_{y} v_{t}}{2} + \\frac{- u_{txx} - u_{tyy}}{Re}$"
      ],
      "text/plain": [
       "(2*p_{tx} + 2*u*u_{tx} + u_{tt} + 2*u_{ty}*v + 2*u_{t}*u_{x} + 2*u_{y}*v_{t})/2 + (-u_{txx} - u_{tyy})/Re"
      ]
     },
     "metadata": {},
     "output_type": "display_data"
    },
    {
     "name": "stdout",
     "output_type": "stream",
     "text": [
      "h^2 =>\n"
     ]
    },
    {
     "data": {
      "text/latex": [
       "$\\displaystyle \\frac{p_{xxx} + u u_{xxx} + u_{yyy} v}{6} - \\frac{u_{xxxx} + u_{yyyy}}{12 Re}$"
      ],
      "text/plain": [
       "(p_{xxx} + u*u_{xxx} + u_{yyy}*v)/6 - (u_{xxxx} + u_{yyyy})/(12*Re)"
      ]
     },
     "metadata": {},
     "output_type": "display_data"
    },
    {
     "name": "stdout",
     "output_type": "stream",
     "text": [
      "p_{x} + u u_{x} + u_{t} + u_{y} v + \\frac{- u_{xx} - u_{yy}}{Re}\n",
      "+\\tau\\big(\n",
      "\\frac{2 p_{tx} + 2 u u_{tx} + u_{tt} + 2 u_{ty} v + 2 u_{t} u_{x} + 2 u_{y} v_{t}}{2} + \\frac{- u_{txx} - u_{tyy}}{Re}\n",
      "\\big)\n",
      "+h^2\\big(\n",
      "\\frac{p_{xxx} + u u_{xxx} + u_{yyy} v}{6} - \\frac{u_{xxxx} + u_{yyyy}}{12 Re}\n",
      "\\big)\n",
      "f2-f2-f2-f2-f2-f2-f2-f2-f2-f2-f2-f2-f2-f2-f2-f2-f2-f2-f2-f2-f2-f2-f2-f2-f2-\n"
     ]
    },
    {
     "data": {
      "text/latex": [
       "$\\displaystyle p_{x} + u u_{x} + u_{t} + u_{y} v + \\frac{- u_{xx} - u_{yy}}{Re}$"
      ],
      "text/plain": [
       "p_{x} + u*u_{x} + u_{t} + u_{y}*v + (-u_{xx} - u_{yy})/Re"
      ]
     },
     "metadata": {},
     "output_type": "display_data"
    },
    {
     "name": "stdout",
     "output_type": "stream",
     "text": [
      "tau =>\n"
     ]
    },
    {
     "data": {
      "text/latex": [
       "$\\displaystyle - \\frac{u_{tt}}{2}$"
      ],
      "text/plain": [
       "-u_{tt}/2"
      ]
     },
     "metadata": {},
     "output_type": "display_data"
    },
    {
     "name": "stdout",
     "output_type": "stream",
     "text": [
      "h^2 =>\n"
     ]
    },
    {
     "data": {
      "text/latex": [
       "$\\displaystyle - \\frac{Re^{2} v^{2} \\left(- p_{x} + u v_{y} - u_{t} - u_{y} v\\right)}{12} - \\frac{Re \\left(p_{tx} - p_{xy} v + p_{x} v_{y} + p_{yy} u + 3 p_{y} u_{y} + u^{2} v_{xy} + 4 u u_{y} v_{x} + 2 u v v_{yy} + u_{tt} + 4 u_{y} v v_{y} + 4 u_{y} v_{t} - v^{2} v_{xy}\\right)}{12} + \\frac{- p_{xyy} + u v_{yyy} + 3 u_{ttt} + 2 u_{y} v_{yy} + v v_{xyy} - 4 v_{xy} v_{y} + 2 v_{x} v_{yy}}{6} - \\frac{v_{xyyy}}{6 Re}$"
      ],
      "text/plain": [
       "-Re**2*v**2*(-p_{x} + u*v_{y} - u_{t} - u_{y}*v)/12 - Re*(p_{tx} - p_{xy}*v + p_{x}*v_{y} + p_{yy}*u + 3*p_{y}*u_{y} + u**2*v_{xy} + 4*u*u_{y}*v_{x} + 2*u*v*v_{yy} + u_{tt} + 4*u_{y}*v*v_{y} + 4*u_{y}*v_{t} - v**2*v_{xy})/12 + (-p_{xyy} + u*v_{yyy} + 3*u_{ttt} + 2*u_{y}*v_{yy} + v*v_{xyy} - 4*v_{xy}*v_{y} + 2*v_{x}*v_{yy})/6 - v_{xyyy}/(6*Re)"
      ]
     },
     "metadata": {},
     "output_type": "display_data"
    },
    {
     "name": "stdout",
     "output_type": "stream",
     "text": [
      "p_{x} + u u_{x} + u_{t} + u_{y} v + \\frac{- u_{xx} - u_{yy}}{Re}\n",
      "+\\tau\\big(\n",
      "- \\frac{u_{tt}}{2}\n",
      "\\big)\n",
      "+h^2\\big(\n",
      "- \\frac{Re^{2} v^{2} \\left(- p_{x} + u v_{y} - u_{t} - u_{y} v\\right)}{12} - \\frac{Re \\left(p_{tx} - p_{xy} v + p_{x} v_{y} + p_{yy} u + 3 p_{y} u_{y} + u^{2} v_{xy} + 4 u u_{y} v_{x} + 2 u v v_{yy} + u_{tt} + 4 u_{y} v v_{y} + 4 u_{y} v_{t} - v^{2} v_{xy}\\right)}{12} + \\frac{- p_{xyy} + u v_{yyy} + 3 u_{ttt} + 2 u_{y} v_{yy} + v v_{xyy} - 4 v_{xy} v_{y} + 2 v_{x} v_{yy}}{6} - \\frac{v_{xyyy}}{6 Re}\n",
      "\\big)\n"
     ]
    },
    {
     "data": {
      "text/latex": [
       "$\\displaystyle 0$"
      ],
      "text/plain": [
       "0"
      ]
     },
     "metadata": {},
     "output_type": "display_data"
    },
    {
     "name": "stdout",
     "output_type": "stream",
     "text": [
      "tau =>\n"
     ]
    },
    {
     "data": {
      "text/latex": [
       "$\\displaystyle \\frac{2 e^{- \\frac{2 t}{Re}} \\sin{\\left(y \\right)} \\cos{\\left(x \\right)}}{Re^{2}}$"
      ],
      "text/plain": [
       "2*exp(-2*t/Re)*sin(y)*cos(x)/Re**2"
      ]
     },
     "metadata": {},
     "output_type": "display_data"
    },
    {
     "name": "stdout",
     "output_type": "stream",
     "text": [
      "h^2 =>\n"
     ]
    },
    {
     "data": {
      "text/latex": [
       "$\\displaystyle \\frac{\\left(- 3 Re^{3} \\sin{\\left(x \\right)} + Re^{2} e^{\\frac{2 t}{Re}} \\sin{\\left(y \\right)} + 24 e^{\\frac{2 t}{Re}} \\sin{\\left(y \\right)}\\right) e^{- \\frac{4 t}{Re}} \\cos{\\left(x \\right)}}{6 Re^{3}}$"
      ],
      "text/plain": [
       "(-3*Re**3*sin(x) + Re**2*exp(2*t/Re)*sin(y) + 24*exp(2*t/Re)*sin(y))*exp(-4*t/Re)*cos(x)/(6*Re**3)"
      ]
     },
     "metadata": {},
     "output_type": "display_data"
    },
    {
     "name": "stdout",
     "output_type": "stream",
     "text": [
      "0\n",
      "+\\tau\\big(\n",
      "\\frac{2 e^{- \\frac{2 t}{Re}} \\sin{\\left(y \\right)} \\cos{\\left(x \\right)}}{Re^{2}}\n",
      "\\big)\n",
      "+h^2\\big(\n",
      "\\frac{\\left(- 3 Re^{3} \\sin{\\left(x \\right)} + Re^{2} e^{\\frac{2 t}{Re}} \\sin{\\left(y \\right)} + 24 e^{\\frac{2 t}{Re}} \\sin{\\left(y \\right)}\\right) e^{- \\frac{4 t}{Re}} \\cos{\\left(x \\right)}}{6 Re^{3}}\n",
      "\\big)\n"
     ]
    },
    {
     "data": {
      "text/latex": [
       "$\\displaystyle \\frac{\\left(- Re \\lambda + \\left(\\lambda - 2 \\pi\\right) \\left(\\lambda + 2 \\pi\\right)\\right) e^{\\lambda x} \\cos{\\left(2 \\pi y \\right)}}{Re}$"
      ],
      "text/plain": [
       "(-Re*lambda + (lambda - 2*pi)*(lambda + 2*pi))*exp(lambda*x)*cos(2*pi*y)/Re"
      ]
     },
     "metadata": {},
     "output_type": "display_data"
    },
    {
     "name": "stdout",
     "output_type": "stream",
     "text": [
      "tau =>\n"
     ]
    },
    {
     "data": {
      "text/latex": [
       "$\\displaystyle 0$"
      ],
      "text/plain": [
       "0"
      ]
     },
     "metadata": {},
     "output_type": "display_data"
    },
    {
     "name": "stdout",
     "output_type": "stream",
     "text": [
      "h^2 =>\n"
     ]
    },
    {
     "data": {
      "text/latex": [
       "$\\displaystyle \\frac{\\lambda \\left(- Re^{2} \\lambda^{2} \\left(Re - \\lambda\\right) e^{2 \\lambda x} \\sin^{2}{\\left(2 \\pi y \\right)} \\cos{\\left(2 \\pi y \\right)} - 4 \\pi^{2} Re \\left(8 Re \\lambda e^{2 \\lambda x} \\sin^{6}{\\left(\\pi y \\right)} - 12 Re \\lambda e^{2 \\lambda x} \\sin^{4}{\\left(\\pi y \\right)} + 4 Re \\lambda e^{2 \\lambda x} \\sin^{2}{\\left(\\pi y \\right)} - 16 Re \\lambda e^{\\lambda x} \\sin^{4}{\\left(\\pi y \\right)} + 16 Re \\lambda e^{\\lambda x} \\sin^{2}{\\left(\\pi y \\right)} - 2 Re \\lambda e^{\\lambda x} - 2 Re \\lambda \\sin^{2}{\\left(\\pi y \\right)} + Re \\lambda + 8 \\lambda^{2} e^{\\lambda x} \\sin^{4}{\\left(\\pi y \\right)} - 8 \\lambda^{2} e^{\\lambda x} \\sin^{2}{\\left(\\pi y \\right)} + 8 \\lambda^{2} e^{\\lambda x} - 96 \\pi^{2} e^{\\lambda x} \\sin^{4}{\\left(\\pi y \\right)} + 96 \\pi^{2} e^{\\lambda x} \\sin^{2}{\\left(\\pi y \\right)} - 8 \\pi^{2} e^{\\lambda x} - 16 \\pi^{2} \\sin^{2}{\\left(\\pi y \\right)} + 8 \\pi^{2}\\right) + 32 \\pi^{4} \\lambda \\cos{\\left(2 \\pi y \\right)}\\right) e^{\\lambda x}}{48 \\pi^{2} Re}$"
      ],
      "text/plain": [
       "lambda*(-Re**2*lambda**2*(Re - lambda)*exp(2*lambda*x)*sin(2*pi*y)**2*cos(2*pi*y) - 4*pi**2*Re*(8*Re*lambda*exp(2*lambda*x)*sin(pi*y)**6 - 12*Re*lambda*exp(2*lambda*x)*sin(pi*y)**4 + 4*Re*lambda*exp(2*lambda*x)*sin(pi*y)**2 - 16*Re*lambda*exp(lambda*x)*sin(pi*y)**4 + 16*Re*lambda*exp(lambda*x)*sin(pi*y)**2 - 2*Re*lambda*exp(lambda*x) - 2*Re*lambda*sin(pi*y)**2 + Re*lambda + 8*lambda**2*exp(lambda*x)*sin(pi*y)**4 - 8*lambda**2*exp(lambda*x)*sin(pi*y)**2 + 8*lambda**2*exp(lambda*x) - 96*pi**2*exp(lambda*x)*sin(pi*y)**4 + 96*pi**2*exp(lambda*x)*sin(pi*y)**2 - 8*pi**2*exp(lambda*x) - 16*pi**2*sin(pi*y)**2 + 8*pi**2) + 32*pi**4*lambda*cos(2*pi*y))*exp(lambda*x)/(48*pi**2*Re)"
      ]
     },
     "metadata": {},
     "output_type": "display_data"
    },
    {
     "name": "stdout",
     "output_type": "stream",
     "text": [
      "\\frac{\\left(- Re \\lambda + \\left(\\lambda - 2 \\pi\\right) \\left(\\lambda + 2 \\pi\\right)\\right) e^{\\lambda x} \\cos{\\left(2 \\pi y \\right)}}{Re}\n",
      "+\\tau\\big(\n",
      "0\n",
      "\\big)\n",
      "+h^2\\big(\n",
      "\\frac{\\lambda \\left(- Re^{2} \\lambda^{2} \\left(Re - \\lambda\\right) e^{2 \\lambda x} \\sin^{2}{\\left(2 \\pi y \\right)} \\cos{\\left(2 \\pi y \\right)} - 4 \\pi^{2} Re \\left(8 Re \\lambda e^{2 \\lambda x} \\sin^{6}{\\left(\\pi y \\right)} - 12 Re \\lambda e^{2 \\lambda x} \\sin^{4}{\\left(\\pi y \\right)} + 4 Re \\lambda e^{2 \\lambda x} \\sin^{2}{\\left(\\pi y \\right)} - 16 Re \\lambda e^{\\lambda x} \\sin^{4}{\\left(\\pi y \\right)} + 16 Re \\lambda e^{\\lambda x} \\sin^{2}{\\left(\\pi y \\right)} - 2 Re \\lambda e^{\\lambda x} - 2 Re \\lambda \\sin^{2}{\\left(\\pi y \\right)} + Re \\lambda + 8 \\lambda^{2} e^{\\lambda x} \\sin^{4}{\\left(\\pi y \\right)} - 8 \\lambda^{2} e^{\\lambda x} \\sin^{2}{\\left(\\pi y \\right)} + 8 \\lambda^{2} e^{\\lambda x} - 96 \\pi^{2} e^{\\lambda x} \\sin^{4}{\\left(\\pi y \\right)} + 96 \\pi^{2} e^{\\lambda x} \\sin^{2}{\\left(\\pi y \\right)} - 8 \\pi^{2} e^{\\lambda x} - 16 \\pi^{2} \\sin^{2}{\\left(\\pi y \\right)} + 8 \\pi^{2}\\right) + 32 \\pi^{4} \\lambda \\cos{\\left(2 \\pi y \\right)}\\right) e^{\\lambda x}}{48 \\pi^{2} Re}\n",
      "\\big)\n",
      "-------------------------\n"
     ]
    },
    {
     "data": {
      "text/latex": [
       "$\\displaystyle p_{y} + u v_{x} + v v_{y} + v_{t} + \\frac{- v_{xx} - v_{yy}}{Re}$"
      ],
      "text/plain": [
       "p_{y} + u*v_{x} + v*v_{y} + v_{t} + (-v_{xx} - v_{yy})/Re"
      ]
     },
     "metadata": {},
     "output_type": "display_data"
    },
    {
     "name": "stdout",
     "output_type": "stream",
     "text": [
      "tau =>\n"
     ]
    },
    {
     "data": {
      "text/latex": [
       "$\\displaystyle \\frac{2 p_{ty} + 2 u v_{tx} + 2 u_{t} v_{x} + 2 v v_{ty} + v_{tt} + 2 v_{t} v_{y}}{2} + \\frac{- v_{txx} - v_{tyy}}{Re}$"
      ],
      "text/plain": [
       "(2*p_{ty} + 2*u*v_{tx} + 2*u_{t}*v_{x} + 2*v*v_{ty} + v_{tt} + 2*v_{t}*v_{y})/2 + (-v_{txx} - v_{tyy})/Re"
      ]
     },
     "metadata": {},
     "output_type": "display_data"
    },
    {
     "name": "stdout",
     "output_type": "stream",
     "text": [
      "h^2 =>\n"
     ]
    },
    {
     "data": {
      "text/latex": [
       "$\\displaystyle \\frac{p_{yyy} + u v_{xxx} + v v_{yyy}}{6} - \\frac{v_{xxxx} + v_{yyyy}}{12 Re}$"
      ],
      "text/plain": [
       "(p_{yyy} + u*v_{xxx} + v*v_{yyy})/6 - (v_{xxxx} + v_{yyyy})/(12*Re)"
      ]
     },
     "metadata": {},
     "output_type": "display_data"
    },
    {
     "name": "stdout",
     "output_type": "stream",
     "text": [
      "p_{y} + u v_{x} + v v_{y} + v_{t} + \\frac{- v_{xx} - v_{yy}}{Re}\n",
      "+\\tau\\big(\n",
      "\\frac{2 p_{ty} + 2 u v_{tx} + 2 u_{t} v_{x} + 2 v v_{ty} + v_{tt} + 2 v_{t} v_{y}}{2} + \\frac{- v_{txx} - v_{tyy}}{Re}\n",
      "\\big)\n",
      "+h^2\\big(\n",
      "\\frac{p_{yyy} + u v_{xxx} + v v_{yyy}}{6} - \\frac{v_{xxxx} + v_{yyyy}}{12 Re}\n",
      "\\big)\n",
      "f3-f3-f3-f3-f3-f3-f3-f3-f3-f3-f3-f3-f3-f3-f3-f3-f3-f3-f3-f3-f3-f3-f3-f3-f3-\n"
     ]
    },
    {
     "data": {
      "text/latex": [
       "$\\displaystyle p_{y} + u v_{x} + v v_{y} + v_{t} + \\frac{- v_{xx} - v_{yy}}{Re}$"
      ],
      "text/plain": [
       "p_{y} + u*v_{x} + v*v_{y} + v_{t} + (-v_{xx} - v_{yy})/Re"
      ]
     },
     "metadata": {},
     "output_type": "display_data"
    },
    {
     "name": "stdout",
     "output_type": "stream",
     "text": [
      "tau =>\n"
     ]
    },
    {
     "data": {
      "text/latex": [
       "$\\displaystyle - \\frac{v_{tt}}{2}$"
      ],
      "text/plain": [
       "-v_{tt}/2"
      ]
     },
     "metadata": {},
     "output_type": "display_data"
    },
    {
     "name": "stdout",
     "output_type": "stream",
     "text": [
      "h^2 =>\n"
     ]
    },
    {
     "data": {
      "text/latex": [
       "$\\displaystyle \\frac{Re^{2} u^{2} \\left(p_{y} + u v_{x} + v v_{y} + v_{t}\\right)}{12} - \\frac{Re \\left(p_{ty} - p_{xy} u - 3 p_{x} v_{x} + p_{yy} v - p_{y} v_{y} + u^{2} v_{yy} + 2 u v_{x} v_{y} - 2 u_{t} v_{x} - 2 u_{y} v v_{x} + v^{2} v_{yy} + 2 v v_{ty} + v_{tt}\\right)}{12} + \\frac{2 p_{yyy} + 2 u_{y} v_{xy} + 2 v v_{yyy} + 3 v_{ttt} + v_{tyy} + v_{xy} v_{x} + 3 v_{yy} v_{y}}{6} - \\frac{v_{yyyy}}{6 Re}$"
      ],
      "text/plain": [
       "Re**2*u**2*(p_{y} + u*v_{x} + v*v_{y} + v_{t})/12 - Re*(p_{ty} - p_{xy}*u - 3*p_{x}*v_{x} + p_{yy}*v - p_{y}*v_{y} + u**2*v_{yy} + 2*u*v_{x}*v_{y} - 2*u_{t}*v_{x} - 2*u_{y}*v*v_{x} + v**2*v_{yy} + 2*v*v_{ty} + v_{tt})/12 + (2*p_{yyy} + 2*u_{y}*v_{xy} + 2*v*v_{yyy} + 3*v_{ttt} + v_{tyy} + v_{xy}*v_{x} + 3*v_{yy}*v_{y})/6 - v_{yyyy}/(6*Re)"
      ]
     },
     "metadata": {},
     "output_type": "display_data"
    },
    {
     "name": "stdout",
     "output_type": "stream",
     "text": [
      "p_{y} + u v_{x} + v v_{y} + v_{t} + \\frac{- v_{xx} - v_{yy}}{Re}\n",
      "+\\tau\\big(\n",
      "- \\frac{v_{tt}}{2}\n",
      "\\big)\n",
      "+h^2\\big(\n",
      "\\frac{Re^{2} u^{2} \\left(p_{y} + u v_{x} + v v_{y} + v_{t}\\right)}{12} - \\frac{Re \\left(p_{ty} - p_{xy} u - 3 p_{x} v_{x} + p_{yy} v - p_{y} v_{y} + u^{2} v_{yy} + 2 u v_{x} v_{y} - 2 u_{t} v_{x} - 2 u_{y} v v_{x} + v^{2} v_{yy} + 2 v v_{ty} + v_{tt}\\right)}{12} + \\frac{2 p_{yyy} + 2 u_{y} v_{xy} + 2 v v_{yyy} + 3 v_{ttt} + v_{tyy} + v_{xy} v_{x} + 3 v_{yy} v_{y}}{6} - \\frac{v_{yyyy}}{6 Re}\n",
      "\\big)\n"
     ]
    },
    {
     "data": {
      "text/latex": [
       "$\\displaystyle 0$"
      ],
      "text/plain": [
       "0"
      ]
     },
     "metadata": {},
     "output_type": "display_data"
    },
    {
     "name": "stdout",
     "output_type": "stream",
     "text": [
      "tau =>\n"
     ]
    },
    {
     "data": {
      "text/latex": [
       "$\\displaystyle - \\frac{2 e^{- \\frac{2 t}{Re}} \\sin{\\left(x \\right)} \\cos{\\left(y \\right)}}{Re^{2}}$"
      ],
      "text/plain": [
       "-2*exp(-2*t/Re)*sin(x)*cos(y)/Re**2"
      ]
     },
     "metadata": {},
     "output_type": "display_data"
    },
    {
     "name": "stdout",
     "output_type": "stream",
     "text": [
      "h^2 =>\n"
     ]
    },
    {
     "data": {
      "text/latex": [
       "$\\displaystyle - \\frac{\\left(3 Re^{3} \\sin{\\left(y \\right)} + Re^{2} e^{\\frac{2 t}{Re}} \\sin{\\left(x \\right)} + 24 e^{\\frac{2 t}{Re}} \\sin{\\left(x \\right)}\\right) e^{- \\frac{4 t}{Re}} \\cos{\\left(y \\right)}}{6 Re^{3}}$"
      ],
      "text/plain": [
       "-(3*Re**3*sin(y) + Re**2*exp(2*t/Re)*sin(x) + 24*exp(2*t/Re)*sin(x))*exp(-4*t/Re)*cos(y)/(6*Re**3)"
      ]
     },
     "metadata": {},
     "output_type": "display_data"
    },
    {
     "name": "stdout",
     "output_type": "stream",
     "text": [
      "0\n",
      "+\\tau\\big(\n",
      "- \\frac{2 e^{- \\frac{2 t}{Re}} \\sin{\\left(x \\right)} \\cos{\\left(y \\right)}}{Re^{2}}\n",
      "\\big)\n",
      "+h^2\\big(\n",
      "- \\frac{\\left(3 Re^{3} \\sin{\\left(y \\right)} + Re^{2} e^{\\frac{2 t}{Re}} \\sin{\\left(x \\right)} + 24 e^{\\frac{2 t}{Re}} \\sin{\\left(x \\right)}\\right) e^{- \\frac{4 t}{Re}} \\cos{\\left(y \\right)}}{6 Re^{3}}\n",
      "\\big)\n"
     ]
    },
    {
     "data": {
      "text/latex": [
       "$\\displaystyle \\frac{\\lambda \\left(Re \\lambda - \\left(\\lambda - 2 \\pi\\right) \\left(\\lambda + 2 \\pi\\right)\\right) e^{\\lambda x} \\sin{\\left(2 \\pi y \\right)}}{2 \\pi Re}$"
      ],
      "text/plain": [
       "lambda*(Re*lambda - (lambda - 2*pi)*(lambda + 2*pi))*exp(lambda*x)*sin(2*pi*y)/(2*pi*Re)"
      ]
     },
     "metadata": {},
     "output_type": "display_data"
    },
    {
     "name": "stdout",
     "output_type": "stream",
     "text": [
      "tau =>\n"
     ]
    },
    {
     "data": {
      "text/latex": [
       "$\\displaystyle 0$"
      ],
      "text/plain": [
       "0"
      ]
     },
     "metadata": {},
     "output_type": "display_data"
    },
    {
     "name": "stdout",
     "output_type": "stream",
     "text": [
      "h^2 =>\n"
     ]
    },
    {
     "data": {
      "text/latex": [
       "$\\displaystyle \\frac{\\lambda \\left(Re \\left(Re^{2} \\lambda e^{2 \\lambda x} \\cos^{2}{\\left(2 \\pi y \\right)} - 2 Re^{2} \\lambda e^{\\lambda x} \\cos{\\left(2 \\pi y \\right)} + Re^{2} \\lambda + 3 Re \\lambda^{2} e^{2 \\lambda x} \\sin^{2}{\\left(2 \\pi y \\right)} + 2 Re \\lambda^{2} e^{2 \\lambda x} \\cos^{2}{\\left(2 \\pi y \\right)} - 3 Re \\lambda^{2} e^{2 \\lambda x} - 2 Re \\lambda^{2} e^{\\lambda x} \\cos{\\left(2 \\pi y \\right)} + 4 \\pi^{2} Re e^{2 \\lambda x} \\cos^{2}{\\left(2 \\pi y \\right)} - 8 \\pi^{2} Re e^{\\lambda x} \\cos{\\left(2 \\pi y \\right)} + 4 \\pi^{2} Re + 2 \\lambda^{3} e^{\\lambda x} \\cos{\\left(2 \\pi y \\right)} - 24 \\pi^{2} \\lambda e^{\\lambda x} \\cos{\\left(2 \\pi y \\right)}\\right) - 32 \\pi^{4}\\right) e^{\\lambda x} \\sin{\\left(2 \\pi y \\right)}}{24 \\pi Re}$"
      ],
      "text/plain": [
       "lambda*(Re*(Re**2*lambda*exp(2*lambda*x)*cos(2*pi*y)**2 - 2*Re**2*lambda*exp(lambda*x)*cos(2*pi*y) + Re**2*lambda + 3*Re*lambda**2*exp(2*lambda*x)*sin(2*pi*y)**2 + 2*Re*lambda**2*exp(2*lambda*x)*cos(2*pi*y)**2 - 3*Re*lambda**2*exp(2*lambda*x) - 2*Re*lambda**2*exp(lambda*x)*cos(2*pi*y) + 4*pi**2*Re*exp(2*lambda*x)*cos(2*pi*y)**2 - 8*pi**2*Re*exp(lambda*x)*cos(2*pi*y) + 4*pi**2*Re + 2*lambda**3*exp(lambda*x)*cos(2*pi*y) - 24*pi**2*lambda*exp(lambda*x)*cos(2*pi*y)) - 32*pi**4)*exp(lambda*x)*sin(2*pi*y)/(24*pi*Re)"
      ]
     },
     "metadata": {},
     "output_type": "display_data"
    },
    {
     "name": "stdout",
     "output_type": "stream",
     "text": [
      "\\frac{\\lambda \\left(Re \\lambda - \\left(\\lambda - 2 \\pi\\right) \\left(\\lambda + 2 \\pi\\right)\\right) e^{\\lambda x} \\sin{\\left(2 \\pi y \\right)}}{2 \\pi Re}\n",
      "+\\tau\\big(\n",
      "0\n",
      "\\big)\n",
      "+h^2\\big(\n",
      "\\frac{\\lambda \\left(Re \\left(Re^{2} \\lambda e^{2 \\lambda x} \\cos^{2}{\\left(2 \\pi y \\right)} - 2 Re^{2} \\lambda e^{\\lambda x} \\cos{\\left(2 \\pi y \\right)} + Re^{2} \\lambda + 3 Re \\lambda^{2} e^{2 \\lambda x} \\sin^{2}{\\left(2 \\pi y \\right)} + 2 Re \\lambda^{2} e^{2 \\lambda x} \\cos^{2}{\\left(2 \\pi y \\right)} - 3 Re \\lambda^{2} e^{2 \\lambda x} - 2 Re \\lambda^{2} e^{\\lambda x} \\cos{\\left(2 \\pi y \\right)} + 4 \\pi^{2} Re e^{2 \\lambda x} \\cos^{2}{\\left(2 \\pi y \\right)} - 8 \\pi^{2} Re e^{\\lambda x} \\cos{\\left(2 \\pi y \\right)} + 4 \\pi^{2} Re + 2 \\lambda^{3} e^{\\lambda x} \\cos{\\left(2 \\pi y \\right)} - 24 \\pi^{2} \\lambda e^{\\lambda x} \\cos{\\left(2 \\pi y \\right)}\\right) - 32 \\pi^{4}\\right) e^{\\lambda x} \\sin{\\left(2 \\pi y \\right)}}{24 \\pi Re}\n",
      "\\big)\n",
      "-------------------------\n"
     ]
    },
    {
     "data": {
      "text/latex": [
       "$\\displaystyle p_{xx} + p_{yy} + 2 u u_{xx} + 2 u v_{xy} + 2 u_{xy} v + 2 u_{x}^{2} + 2 u_{x} v_{y} + 2 u_{y} v_{x} + 2 v v_{yy} + 2 v_{y}^{2}$"
      ],
      "text/plain": [
       "p_{xx} + p_{yy} + 2*u*u_{xx} + 2*u*v_{xy} + 2*u_{xy}*v + 2*u_{x}**2 + 2*u_{x}*v_{y} + 2*u_{y}*v_{x} + 2*v*v_{yy} + 2*v_{y}**2"
      ]
     },
     "metadata": {},
     "output_type": "display_data"
    },
    {
     "name": "stdout",
     "output_type": "stream",
     "text": [
      "tau =>\n"
     ]
    },
    {
     "data": {
      "text/latex": [
       "$\\displaystyle 0$"
      ],
      "text/plain": [
       "0"
      ]
     },
     "metadata": {},
     "output_type": "display_data"
    },
    {
     "name": "stdout",
     "output_type": "stream",
     "text": [
      "h^2 =>\n"
     ]
    },
    {
     "data": {
      "text/latex": [
       "$\\displaystyle \\frac{p_{xxxx} + p_{yyyy} + 2 u u_{xxxx} + u v_{xxxy} + u v_{xyyy} + u_{xxxy} v + 8 u_{xxx} u_{x} + u_{xxx} v_{y} + 3 u_{xxy} v_{x} + 6 u_{xx}^{2} + 3 u_{xx} v_{xy} + u_{xyyy} v + 3 u_{xyy} v_{y} + 3 u_{xy} v_{xx} + 3 u_{xy} v_{yy} + 3 u_{x} v_{xxy} + u_{x} v_{yyy} + u_{yyy} v_{x} + 3 u_{yy} v_{xy} + u_{y} v_{xxx} + 3 u_{y} v_{xyy} + 2 v v_{yyyy} + 8 v_{yyy} v_{y} + 6 v_{yy}^{2}}{3}$"
      ],
      "text/plain": [
       "(p_{xxxx} + p_{yyyy} + 2*u*u_{xxxx} + u*v_{xxxy} + u*v_{xyyy} + u_{xxxy}*v + 8*u_{xxx}*u_{x} + u_{xxx}*v_{y} + 3*u_{xxy}*v_{x} + 6*u_{xx}**2 + 3*u_{xx}*v_{xy} + u_{xyyy}*v + 3*u_{xyy}*v_{y} + 3*u_{xy}*v_{xx} + 3*u_{xy}*v_{yy} + 3*u_{x}*v_{xxy} + u_{x}*v_{yyy} + u_{yyy}*v_{x} + 3*u_{yy}*v_{xy} + u_{y}*v_{xxx} + 3*u_{y}*v_{xyy} + 2*v*v_{yyyy} + 8*v_{yyy}*v_{y} + 6*v_{yy}**2)/3"
      ]
     },
     "metadata": {},
     "output_type": "display_data"
    },
    {
     "name": "stdout",
     "output_type": "stream",
     "text": [
      "p_{xx} + p_{yy} + 2 u u_{xx} + 2 u v_{xy} + 2 u_{xy} v + 2 u_{x}^{2} + 2 u_{x} v_{y} + 2 u_{y} v_{x} + 2 v v_{yy} + 2 v_{y}^{2}\n",
      "+\\tau\\big(\n",
      "0\n",
      "\\big)\n",
      "+h^2\\big(\n",
      "\\frac{p_{xxxx} + p_{yyyy} + 2 u u_{xxxx} + u v_{xxxy} + u v_{xyyy} + u_{xxxy} v + 8 u_{xxx} u_{x} + u_{xxx} v_{y} + 3 u_{xxy} v_{x} + 6 u_{xx}^{2} + 3 u_{xx} v_{xy} + u_{xyyy} v + 3 u_{xyy} v_{y} + 3 u_{xy} v_{xx} + 3 u_{xy} v_{yy} + 3 u_{x} v_{xxy} + u_{x} v_{yyy} + u_{yyy} v_{x} + 3 u_{yy} v_{xy} + u_{y} v_{xxx} + 3 u_{y} v_{xyy} + 2 v v_{yyyy} + 8 v_{yyy} v_{y} + 6 v_{yy}^{2}}{3}\n",
      "\\big)\n",
      "f4-f4-f4-f4-f4-f4-f4-f4-f4-f4-f4-f4-f4-f4-f4-f4-f4-f4-f4-f4-f4-f4-f4-f4-f4-\n"
     ]
    },
    {
     "data": {
      "text/latex": [
       "$\\displaystyle p_{xx} + p_{yy} + 2 u u_{xx} + 2 u v_{xy} + 2 u_{xy} v + 2 u_{x}^{2} + 2 u_{x} v_{y} + 2 u_{y} v_{x} + 2 v v_{yy} + 2 v_{y}^{2}$"
      ],
      "text/plain": [
       "p_{xx} + p_{yy} + 2*u*u_{xx} + 2*u*v_{xy} + 2*u_{xy}*v + 2*u_{x}**2 + 2*u_{x}*v_{y} + 2*u_{y}*v_{x} + 2*v*v_{yy} + 2*v_{y}**2"
      ]
     },
     "metadata": {},
     "output_type": "display_data"
    },
    {
     "name": "stdout",
     "output_type": "stream",
     "text": [
      "tau =>\n"
     ]
    },
    {
     "data": {
      "text/latex": [
       "$\\displaystyle 0$"
      ],
      "text/plain": [
       "0"
      ]
     },
     "metadata": {},
     "output_type": "display_data"
    },
    {
     "name": "stdout",
     "output_type": "stream",
     "text": [
      "h^2 =>\n"
     ]
    },
    {
     "data": {
      "text/latex": [
       "$\\displaystyle - \\frac{Re^{2} \\left(- 2 p_{x} v v_{x} + p_{yy} u^{2} + 2 p_{y} u u_{y} + u^{3} v_{xy} + 3 u^{2} u_{y} v_{x} + u^{2} v v_{yy} + u^{2} v_{ty} + u^{2} v_{y}^{2} + 2 u u_{y} v v_{y} + 2 u u_{y} v_{t} + 2 u v v_{x} v_{y} - 2 u_{t} v v_{x} - 2 u_{y} v^{2} v_{x}\\right)}{3} + \\frac{Re \\left(- p_{xyy} u - p_{xy} u_{y} + 3 p_{xy} v_{x} + 7 p_{x} v_{xy} - p_{yyy} v + p_{y} v_{yy} + u^{2} v_{yyy} + 2 u u_{y} v_{yy} - 2 u v v_{xyy} - u v_{txy} - 8 u v_{xy} v_{y} - 2 u v_{x} v_{yy} + 3 u_{ty} v_{x} + 7 u_{t} v_{xy} + 4 u_{y} v v_{xy} - u_{y} v_{tx} - v^{2} v_{yyy} - v v_{tyy} + 2 v v_{xy} v_{x} - 2 v v_{yy} v_{y} + v_{t} v_{yy}\\right)}{3} + \\frac{2 \\left(p_{yyyy} + u v_{xyyy} + 3 u_{y} v_{xyy} + v v_{yyyy} + v_{xyy} v_{x} + 3 v_{xy}^{2} + 4 v_{yyy} v_{y} + 3 v_{yy}^{2}\\right)}{3}$"
      ],
      "text/plain": [
       "-Re**2*(-2*p_{x}*v*v_{x} + p_{yy}*u**2 + 2*p_{y}*u*u_{y} + u**3*v_{xy} + 3*u**2*u_{y}*v_{x} + u**2*v*v_{yy} + u**2*v_{ty} + u**2*v_{y}**2 + 2*u*u_{y}*v*v_{y} + 2*u*u_{y}*v_{t} + 2*u*v*v_{x}*v_{y} - 2*u_{t}*v*v_{x} - 2*u_{y}*v**2*v_{x})/3 + Re*(-p_{xyy}*u - p_{xy}*u_{y} + 3*p_{xy}*v_{x} + 7*p_{x}*v_{xy} - p_{yyy}*v + p_{y}*v_{yy} + u**2*v_{yyy} + 2*u*u_{y}*v_{yy} - 2*u*v*v_{xyy} - u*v_{txy} - 8*u*v_{xy}*v_{y} - 2*u*v_{x}*v_{yy} + 3*u_{ty}*v_{x} + 7*u_{t}*v_{xy} + 4*u_{y}*v*v_{xy} - u_{y}*v_{tx} - v**2*v_{yyy} - v*v_{tyy} + 2*v*v_{xy}*v_{x} - 2*v*v_{yy}*v_{y} + v_{t}*v_{yy})/3 + 2*(p_{yyyy} + u*v_{xyyy} + 3*u_{y}*v_{xyy} + v*v_{yyyy} + v_{xyy}*v_{x} + 3*v_{xy}**2 + 4*v_{yyy}*v_{y} + 3*v_{yy}**2)/3"
      ]
     },
     "metadata": {},
     "output_type": "display_data"
    },
    {
     "name": "stdout",
     "output_type": "stream",
     "text": [
      "p_{xx} + p_{yy} + 2 u u_{xx} + 2 u v_{xy} + 2 u_{xy} v + 2 u_{x}^{2} + 2 u_{x} v_{y} + 2 u_{y} v_{x} + 2 v v_{yy} + 2 v_{y}^{2}\n",
      "+\\tau\\big(\n",
      "0\n",
      "\\big)\n",
      "+h^2\\big(\n",
      "- \\frac{Re^{2} \\left(- 2 p_{x} v v_{x} + p_{yy} u^{2} + 2 p_{y} u u_{y} + u^{3} v_{xy} + 3 u^{2} u_{y} v_{x} + u^{2} v v_{yy} + u^{2} v_{ty} + u^{2} v_{y}^{2} + 2 u u_{y} v v_{y} + 2 u u_{y} v_{t} + 2 u v v_{x} v_{y} - 2 u_{t} v v_{x} - 2 u_{y} v^{2} v_{x}\\right)}{3} + \\frac{Re \\left(- p_{xyy} u - p_{xy} u_{y} + 3 p_{xy} v_{x} + 7 p_{x} v_{xy} - p_{yyy} v + p_{y} v_{yy} + u^{2} v_{yyy} + 2 u u_{y} v_{yy} - 2 u v v_{xyy} - u v_{txy} - 8 u v_{xy} v_{y} - 2 u v_{x} v_{yy} + 3 u_{ty} v_{x} + 7 u_{t} v_{xy} + 4 u_{y} v v_{xy} - u_{y} v_{tx} - v^{2} v_{yyy} - v v_{tyy} + 2 v v_{xy} v_{x} - 2 v v_{yy} v_{y} + v_{t} v_{yy}\\right)}{3} + \\frac{2 \\left(p_{yyyy} + u v_{xyyy} + 3 u_{y} v_{xyy} + v v_{yyyy} + v_{xyy} v_{x} + 3 v_{xy}^{2} + 4 v_{yyy} v_{y} + 3 v_{yy}^{2}\\right)}{3}\n",
      "\\big)\n"
     ]
    },
    {
     "data": {
      "text/latex": [
       "$\\displaystyle 0$"
      ],
      "text/plain": [
       "0"
      ]
     },
     "metadata": {},
     "output_type": "display_data"
    },
    {
     "name": "stdout",
     "output_type": "stream",
     "text": [
      "tau =>\n"
     ]
    },
    {
     "data": {
      "text/latex": [
       "$\\displaystyle 0$"
      ],
      "text/plain": [
       "0"
      ]
     },
     "metadata": {},
     "output_type": "display_data"
    },
    {
     "name": "stdout",
     "output_type": "stream",
     "text": [
      "h^2 =>\n"
     ]
    },
    {
     "data": {
      "text/latex": [
       "$\\displaystyle 0$"
      ],
      "text/plain": [
       "0"
      ]
     },
     "metadata": {},
     "output_type": "display_data"
    },
    {
     "name": "stdout",
     "output_type": "stream",
     "text": [
      "0\n",
      "+\\tau\\big(\n",
      "0\n",
      "\\big)\n",
      "+h^2\\big(\n",
      "0\n",
      "\\big)\n"
     ]
    },
    {
     "data": {
      "text/latex": [
       "$\\displaystyle 0$"
      ],
      "text/plain": [
       "0"
      ]
     },
     "metadata": {},
     "output_type": "display_data"
    },
    {
     "name": "stdout",
     "output_type": "stream",
     "text": [
      "tau =>\n"
     ]
    },
    {
     "data": {
      "text/latex": [
       "$\\displaystyle 0$"
      ],
      "text/plain": [
       "0"
      ]
     },
     "metadata": {},
     "output_type": "display_data"
    },
    {
     "name": "stdout",
     "output_type": "stream",
     "text": [
      "h^2 =>\n"
     ]
    },
    {
     "data": {
      "text/latex": [
       "$\\displaystyle \\frac{\\lambda \\left(- Re^{2} \\lambda \\left(4 \\lambda^{2} e^{2 \\lambda x} \\sin^{6}{\\left(\\pi y \\right)} - 6 \\lambda^{2} e^{2 \\lambda x} \\sin^{4}{\\left(\\pi y \\right)} + 2 \\lambda^{2} e^{2 \\lambda x} \\sin^{2}{\\left(\\pi y \\right)} - 24 \\pi^{2} e^{2 \\lambda x} \\sin^{6}{\\left(\\pi y \\right)} + 36 \\pi^{2} e^{2 \\lambda x} \\sin^{4}{\\left(\\pi y \\right)} - 14 \\pi^{2} e^{2 \\lambda x} \\sin^{2}{\\left(\\pi y \\right)} + \\pi^{2} e^{2 \\lambda x} - 16 \\pi^{2} e^{\\lambda x} \\sin^{4}{\\left(\\pi y \\right)} + 16 \\pi^{2} e^{\\lambda x} \\sin^{2}{\\left(\\pi y \\right)} - 2 \\pi^{2} e^{\\lambda x} - 2 \\pi^{2} \\sin^{2}{\\left(\\pi y \\right)} + \\pi^{2}\\right) + Re \\left(4 \\lambda^{4} e^{2 \\lambda x} \\sin^{6}{\\left(\\pi y \\right)} - 6 \\lambda^{4} e^{2 \\lambda x} \\sin^{4}{\\left(\\pi y \\right)} + 2 \\lambda^{4} e^{2 \\lambda x} \\sin^{2}{\\left(\\pi y \\right)} - 40 \\pi^{2} \\lambda^{2} e^{2 \\lambda x} \\sin^{6}{\\left(\\pi y \\right)} + 60 \\pi^{2} \\lambda^{2} e^{2 \\lambda x} \\sin^{4}{\\left(\\pi y \\right)} - 22 \\pi^{2} \\lambda^{2} e^{2 \\lambda x} \\sin^{2}{\\left(\\pi y \\right)} + \\pi^{2} \\lambda^{2} e^{2 \\lambda x} - 48 \\pi^{2} \\lambda^{2} e^{\\lambda x} \\sin^{4}{\\left(\\pi y \\right)} + 48 \\pi^{2} \\lambda^{2} e^{\\lambda x} \\sin^{2}{\\left(\\pi y \\right)} - 8 \\pi^{2} \\lambda^{2} e^{\\lambda x} + 96 \\pi^{4} e^{2 \\lambda x} \\sin^{6}{\\left(\\pi y \\right)} - 144 \\pi^{4} e^{2 \\lambda x} \\sin^{4}{\\left(\\pi y \\right)} + 56 \\pi^{4} e^{2 \\lambda x} \\sin^{2}{\\left(\\pi y \\right)} - 4 \\pi^{4} e^{2 \\lambda x} + 64 \\pi^{4} e^{\\lambda x} \\sin^{4}{\\left(\\pi y \\right)} - 64 \\pi^{4} e^{\\lambda x} \\sin^{2}{\\left(\\pi y \\right)} + 8 \\pi^{4} e^{\\lambda x} + 8 \\pi^{4} \\sin^{2}{\\left(\\pi y \\right)} - 4 \\pi^{4}\\right) + 2 \\pi^{2} \\lambda \\left(16 \\lambda^{2} e^{\\lambda x} \\sin^{4}{\\left(\\pi y \\right)} - 16 \\lambda^{2} e^{\\lambda x} \\sin^{2}{\\left(\\pi y \\right)} + 3 \\lambda^{2} e^{\\lambda x} - 64 \\pi^{2} e^{\\lambda x} \\sin^{4}{\\left(\\pi y \\right)} + 64 \\pi^{2} e^{\\lambda x} \\sin^{2}{\\left(\\pi y \\right)} - 12 \\pi^{2} e^{\\lambda x} + 8 \\pi^{2} \\sin^{2}{\\left(\\pi y \\right)} - 4 \\pi^{2}\\right)\\right) e^{\\lambda x}}{3 \\pi^{2}}$"
      ],
      "text/plain": [
       "lambda*(-Re**2*lambda*(4*lambda**2*exp(2*lambda*x)*sin(pi*y)**6 - 6*lambda**2*exp(2*lambda*x)*sin(pi*y)**4 + 2*lambda**2*exp(2*lambda*x)*sin(pi*y)**2 - 24*pi**2*exp(2*lambda*x)*sin(pi*y)**6 + 36*pi**2*exp(2*lambda*x)*sin(pi*y)**4 - 14*pi**2*exp(2*lambda*x)*sin(pi*y)**2 + pi**2*exp(2*lambda*x) - 16*pi**2*exp(lambda*x)*sin(pi*y)**4 + 16*pi**2*exp(lambda*x)*sin(pi*y)**2 - 2*pi**2*exp(lambda*x) - 2*pi**2*sin(pi*y)**2 + pi**2) + Re*(4*lambda**4*exp(2*lambda*x)*sin(pi*y)**6 - 6*lambda**4*exp(2*lambda*x)*sin(pi*y)**4 + 2*lambda**4*exp(2*lambda*x)*sin(pi*y)**2 - 40*pi**2*lambda**2*exp(2*lambda*x)*sin(pi*y)**6 + 60*pi**2*lambda**2*exp(2*lambda*x)*sin(pi*y)**4 - 22*pi**2*lambda**2*exp(2*lambda*x)*sin(pi*y)**2 + pi**2*lambda**2*exp(2*lambda*x) - 48*pi**2*lambda**2*exp(lambda*x)*sin(pi*y)**4 + 48*pi**2*lambda**2*exp(lambda*x)*sin(pi*y)**2 - 8*pi**2*lambda**2*exp(lambda*x) + 96*pi**4*exp(2*lambda*x)*sin(pi*y)**6 - 144*pi**4*exp(2*lambda*x)*sin(pi*y)**4 + 56*pi**4*exp(2*lambda*x)*sin(pi*y)**2 - 4*pi**4*exp(2*lambda*x) + 64*pi**4*exp(lambda*x)*sin(pi*y)**4 - 64*pi**4*exp(lambda*x)*sin(pi*y)**2 + 8*pi**4*exp(lambda*x) + 8*pi**4*sin(pi*y)**2 - 4*pi**4) + 2*pi**2*lambda*(16*lambda**2*exp(lambda*x)*sin(pi*y)**4 - 16*lambda**2*exp(lambda*x)*sin(pi*y)**2 + 3*lambda**2*exp(lambda*x) - 64*pi**2*exp(lambda*x)*sin(pi*y)**4 + 64*pi**2*exp(lambda*x)*sin(pi*y)**2 - 12*pi**2*exp(lambda*x) + 8*pi**2*sin(pi*y)**2 - 4*pi**2))*exp(lambda*x)/(3*pi**2)"
      ]
     },
     "metadata": {},
     "output_type": "display_data"
    },
    {
     "name": "stdout",
     "output_type": "stream",
     "text": [
      "0\n",
      "+\\tau\\big(\n",
      "0\n",
      "\\big)\n",
      "+h^2\\big(\n",
      "\\frac{\\lambda \\left(- Re^{2} \\lambda \\left(4 \\lambda^{2} e^{2 \\lambda x} \\sin^{6}{\\left(\\pi y \\right)} - 6 \\lambda^{2} e^{2 \\lambda x} \\sin^{4}{\\left(\\pi y \\right)} + 2 \\lambda^{2} e^{2 \\lambda x} \\sin^{2}{\\left(\\pi y \\right)} - 24 \\pi^{2} e^{2 \\lambda x} \\sin^{6}{\\left(\\pi y \\right)} + 36 \\pi^{2} e^{2 \\lambda x} \\sin^{4}{\\left(\\pi y \\right)} - 14 \\pi^{2} e^{2 \\lambda x} \\sin^{2}{\\left(\\pi y \\right)} + \\pi^{2} e^{2 \\lambda x} - 16 \\pi^{2} e^{\\lambda x} \\sin^{4}{\\left(\\pi y \\right)} + 16 \\pi^{2} e^{\\lambda x} \\sin^{2}{\\left(\\pi y \\right)} - 2 \\pi^{2} e^{\\lambda x} - 2 \\pi^{2} \\sin^{2}{\\left(\\pi y \\right)} + \\pi^{2}\\right) + Re \\left(4 \\lambda^{4} e^{2 \\lambda x} \\sin^{6}{\\left(\\pi y \\right)} - 6 \\lambda^{4} e^{2 \\lambda x} \\sin^{4}{\\left(\\pi y \\right)} + 2 \\lambda^{4} e^{2 \\lambda x} \\sin^{2}{\\left(\\pi y \\right)} - 40 \\pi^{2} \\lambda^{2} e^{2 \\lambda x} \\sin^{6}{\\left(\\pi y \\right)} + 60 \\pi^{2} \\lambda^{2} e^{2 \\lambda x} \\sin^{4}{\\left(\\pi y \\right)} - 22 \\pi^{2} \\lambda^{2} e^{2 \\lambda x} \\sin^{2}{\\left(\\pi y \\right)} + \\pi^{2} \\lambda^{2} e^{2 \\lambda x} - 48 \\pi^{2} \\lambda^{2} e^{\\lambda x} \\sin^{4}{\\left(\\pi y \\right)} + 48 \\pi^{2} \\lambda^{2} e^{\\lambda x} \\sin^{2}{\\left(\\pi y \\right)} - 8 \\pi^{2} \\lambda^{2} e^{\\lambda x} + 96 \\pi^{4} e^{2 \\lambda x} \\sin^{6}{\\left(\\pi y \\right)} - 144 \\pi^{4} e^{2 \\lambda x} \\sin^{4}{\\left(\\pi y \\right)} + 56 \\pi^{4} e^{2 \\lambda x} \\sin^{2}{\\left(\\pi y \\right)} - 4 \\pi^{4} e^{2 \\lambda x} + 64 \\pi^{4} e^{\\lambda x} \\sin^{4}{\\left(\\pi y \\right)} - 64 \\pi^{4} e^{\\lambda x} \\sin^{2}{\\left(\\pi y \\right)} + 8 \\pi^{4} e^{\\lambda x} + 8 \\pi^{4} \\sin^{2}{\\left(\\pi y \\right)} - 4 \\pi^{4}\\right) + 2 \\pi^{2} \\lambda \\left(16 \\lambda^{2} e^{\\lambda x} \\sin^{4}{\\left(\\pi y \\right)} - 16 \\lambda^{2} e^{\\lambda x} \\sin^{2}{\\left(\\pi y \\right)} + 3 \\lambda^{2} e^{\\lambda x} - 64 \\pi^{2} e^{\\lambda x} \\sin^{4}{\\left(\\pi y \\right)} + 64 \\pi^{2} e^{\\lambda x} \\sin^{2}{\\left(\\pi y \\right)} - 12 \\pi^{2} e^{\\lambda x} + 8 \\pi^{2} \\sin^{2}{\\left(\\pi y \\right)} - 4 \\pi^{2}\\right)\\right) e^{\\lambda x}}{3 \\pi^{2}}\n",
      "\\big)\n"
     ]
    },
    {
     "data": {
      "text/latex": [
       "$\\displaystyle 0$"
      ],
      "text/plain": [
       "0"
      ]
     },
     "metadata": {},
     "output_type": "display_data"
    },
    {
     "name": "stdout",
     "output_type": "stream",
     "text": [
      "tau =>\n"
     ]
    },
    {
     "data": {
      "text/latex": [
       "$\\displaystyle 0$"
      ],
      "text/plain": [
       "0"
      ]
     },
     "metadata": {},
     "output_type": "display_data"
    },
    {
     "name": "stdout",
     "output_type": "stream",
     "text": [
      "h^2 =>\n"
     ]
    },
    {
     "data": {
      "text/latex": [
       "$\\displaystyle 0$"
      ],
      "text/plain": [
       "0"
      ]
     },
     "metadata": {},
     "output_type": "display_data"
    },
    {
     "name": "stdout",
     "output_type": "stream",
     "text": [
      "0\n",
      "+\\tau\\big(\n",
      "0\n",
      "\\big)\n",
      "+h^2\\big(\n",
      "0\n",
      "\\big)\n"
     ]
    }
   ],
   "source": [
    "F1 = clip(Dx(u) + Dy(v))\n",
    "F2 = clip(Dt(u) + Ut(u*Dx(u) + v*Dy(u) + Dx(p) - DD(u)/Re))\n",
    "F3 = clip(Dt(v) + Ut(u*Dx(v) + v*Dy(v) + Dy(p) - DD(v)/Re))\n",
    "F4 = clip(Dx(Dx(u**2) + Dy(v*u) + Dx(p)) + Dy(Dx(u*v) + Dy(v**2) + Dy(p)))\n",
    "\n",
    "build(F1, F2, F3, F4)"
   ]
  },
  {
   "cell_type": "code",
   "execution_count": 17,
   "metadata": {},
   "outputs": [
    {
     "data": {
      "text/latex": [
       "$\\displaystyle u_{x} + v_{y}$"
      ],
      "text/plain": [
       "u_{x} + v_{y}"
      ]
     },
     "metadata": {},
     "output_type": "display_data"
    },
    {
     "name": "stdout",
     "output_type": "stream",
     "text": [
      "tau =>\n"
     ]
    },
    {
     "data": {
      "text/latex": [
       "$\\displaystyle 0$"
      ],
      "text/plain": [
       "0"
      ]
     },
     "metadata": {},
     "output_type": "display_data"
    },
    {
     "name": "stdout",
     "output_type": "stream",
     "text": [
      "h^2 =>\n"
     ]
    },
    {
     "data": {
      "text/latex": [
       "$\\displaystyle \\frac{u_{xxx} + v_{yyy}}{6}$"
      ],
      "text/plain": [
       "(u_{xxx} + v_{yyy})/6"
      ]
     },
     "metadata": {},
     "output_type": "display_data"
    },
    {
     "name": "stdout",
     "output_type": "stream",
     "text": [
      "u_{x} + v_{y}\n",
      "+\\tau\\big(\n",
      "0\n",
      "\\big)\n",
      "+h^2\\big(\n",
      "\\frac{u_{xxx} + v_{yyy}}{6}\n",
      "\\big)\n",
      "f1-f1-f1-f1-f1-f1-f1-f1-f1-f1-f1-f1-f1-f1-f1-f1-f1-f1-f1-f1-f1-f1-f1-f1-f1-\n"
     ]
    },
    {
     "data": {
      "text/latex": [
       "$\\displaystyle u_{x} + v_{y}$"
      ],
      "text/plain": [
       "u_{x} + v_{y}"
      ]
     },
     "metadata": {},
     "output_type": "display_data"
    },
    {
     "name": "stdout",
     "output_type": "stream",
     "text": [
      "tau =>\n"
     ]
    },
    {
     "data": {
      "text/latex": [
       "$\\displaystyle 0$"
      ],
      "text/plain": [
       "0"
      ]
     },
     "metadata": {},
     "output_type": "display_data"
    },
    {
     "name": "stdout",
     "output_type": "stream",
     "text": [
      "h^2 =>\n"
     ]
    },
    {
     "data": {
      "text/latex": [
       "$\\displaystyle - \\frac{Re \\left(p_{yy} + u v_{xy} + u_{y} v_{x} + v v_{yy} + v_{ty} + v_{y}^{2}\\right)}{6} + \\frac{v_{yyy}}{3}$"
      ],
      "text/plain": [
       "-Re*(p_{yy} + u*v_{xy} + u_{y}*v_{x} + v*v_{yy} + v_{ty} + v_{y}**2)/6 + v_{yyy}/3"
      ]
     },
     "metadata": {},
     "output_type": "display_data"
    },
    {
     "name": "stdout",
     "output_type": "stream",
     "text": [
      "u_{x} + v_{y}\n",
      "+\\tau\\big(\n",
      "0\n",
      "\\big)\n",
      "+h^2\\big(\n",
      "- \\frac{Re \\left(p_{yy} + u v_{xy} + u_{y} v_{x} + v v_{yy} + v_{ty} + v_{y}^{2}\\right)}{6} + \\frac{v_{yyy}}{3}\n",
      "\\big)\n"
     ]
    },
    {
     "data": {
      "text/latex": [
       "$\\displaystyle 0$"
      ],
      "text/plain": [
       "0"
      ]
     },
     "metadata": {},
     "output_type": "display_data"
    },
    {
     "name": "stdout",
     "output_type": "stream",
     "text": [
      "tau =>\n"
     ]
    },
    {
     "data": {
      "text/latex": [
       "$\\displaystyle 0$"
      ],
      "text/plain": [
       "0"
      ]
     },
     "metadata": {},
     "output_type": "display_data"
    },
    {
     "name": "stdout",
     "output_type": "stream",
     "text": [
      "h^2 =>\n"
     ]
    },
    {
     "data": {
      "text/latex": [
       "$\\displaystyle 0$"
      ],
      "text/plain": [
       "0"
      ]
     },
     "metadata": {},
     "output_type": "display_data"
    },
    {
     "name": "stdout",
     "output_type": "stream",
     "text": [
      "0\n",
      "+\\tau\\big(\n",
      "0\n",
      "\\big)\n",
      "+h^2\\big(\n",
      "0\n",
      "\\big)\n"
     ]
    },
    {
     "data": {
      "text/latex": [
       "$\\displaystyle 0$"
      ],
      "text/plain": [
       "0"
      ]
     },
     "metadata": {},
     "output_type": "display_data"
    },
    {
     "name": "stdout",
     "output_type": "stream",
     "text": [
      "tau =>\n"
     ]
    },
    {
     "data": {
      "text/latex": [
       "$\\displaystyle 0$"
      ],
      "text/plain": [
       "0"
      ]
     },
     "metadata": {},
     "output_type": "display_data"
    },
    {
     "name": "stdout",
     "output_type": "stream",
     "text": [
      "h^2 =>\n"
     ]
    },
    {
     "data": {
      "text/latex": [
       "$\\displaystyle - \\frac{\\lambda \\left(Re \\lambda + 8 \\pi^{2}\\right) e^{\\lambda x} \\cos{\\left(2 \\pi y \\right)}}{6}$"
      ],
      "text/plain": [
       "-lambda*(Re*lambda + 8*pi**2)*exp(lambda*x)*cos(2*pi*y)/6"
      ]
     },
     "metadata": {},
     "output_type": "display_data"
    },
    {
     "name": "stdout",
     "output_type": "stream",
     "text": [
      "0\n",
      "+\\tau\\big(\n",
      "0\n",
      "\\big)\n",
      "+h^2\\big(\n",
      "- \\frac{\\lambda \\left(Re \\lambda + 8 \\pi^{2}\\right) e^{\\lambda x} \\cos{\\left(2 \\pi y \\right)}}{6}\n",
      "\\big)\n",
      "-------------------------\n"
     ]
    },
    {
     "data": {
      "text/latex": [
       "$\\displaystyle p_{x} + u u_{x} + u_{t} + u_{y} v + \\frac{- u_{xx} - u_{yy}}{Re}$"
      ],
      "text/plain": [
       "p_{x} + u*u_{x} + u_{t} + u_{y}*v + (-u_{xx} - u_{yy})/Re"
      ]
     },
     "metadata": {},
     "output_type": "display_data"
    },
    {
     "name": "stdout",
     "output_type": "stream",
     "text": [
      "tau =>\n"
     ]
    },
    {
     "data": {
      "text/latex": [
       "$\\displaystyle \\frac{2 p_{tx} + 2 u u_{tx} + u_{tt} + 2 u_{ty} v + 2 u_{t} u_{x} + 2 u_{y} v_{t}}{2} + \\frac{- u_{txx} - u_{tyy}}{Re}$"
      ],
      "text/plain": [
       "(2*p_{tx} + 2*u*u_{tx} + u_{tt} + 2*u_{ty}*v + 2*u_{t}*u_{x} + 2*u_{y}*v_{t})/2 + (-u_{txx} - u_{tyy})/Re"
      ]
     },
     "metadata": {},
     "output_type": "display_data"
    },
    {
     "name": "stdout",
     "output_type": "stream",
     "text": [
      "h^2 =>\n"
     ]
    },
    {
     "data": {
      "text/latex": [
       "$\\displaystyle \\frac{p_{xxx} + u u_{xxx} + u_{yyy} v}{6} - \\frac{u_{xxxx} + u_{yyyy}}{3 Re}$"
      ],
      "text/plain": [
       "(p_{xxx} + u*u_{xxx} + u_{yyy}*v)/6 - (u_{xxxx} + u_{yyyy})/(3*Re)"
      ]
     },
     "metadata": {},
     "output_type": "display_data"
    },
    {
     "name": "stdout",
     "output_type": "stream",
     "text": [
      "p_{x} + u u_{x} + u_{t} + u_{y} v + \\frac{- u_{xx} - u_{yy}}{Re}\n",
      "+\\tau\\big(\n",
      "\\frac{2 p_{tx} + 2 u u_{tx} + u_{tt} + 2 u_{ty} v + 2 u_{t} u_{x} + 2 u_{y} v_{t}}{2} + \\frac{- u_{txx} - u_{tyy}}{Re}\n",
      "\\big)\n",
      "+h^2\\big(\n",
      "\\frac{p_{xxx} + u u_{xxx} + u_{yyy} v}{6} - \\frac{u_{xxxx} + u_{yyyy}}{3 Re}\n",
      "\\big)\n",
      "f2-f2-f2-f2-f2-f2-f2-f2-f2-f2-f2-f2-f2-f2-f2-f2-f2-f2-f2-f2-f2-f2-f2-f2-f2-\n"
     ]
    },
    {
     "data": {
      "text/latex": [
       "$\\displaystyle p_{x} + u u_{x} + u_{t} + u_{y} v + \\frac{- u_{xx} - u_{yy}}{Re}$"
      ],
      "text/plain": [
       "p_{x} + u*u_{x} + u_{t} + u_{y}*v + (-u_{xx} - u_{yy})/Re"
      ]
     },
     "metadata": {},
     "output_type": "display_data"
    },
    {
     "name": "stdout",
     "output_type": "stream",
     "text": [
      "tau =>\n"
     ]
    },
    {
     "data": {
      "text/latex": [
       "$\\displaystyle - \\frac{u_{tt}}{2}$"
      ],
      "text/plain": [
       "-u_{tt}/2"
      ]
     },
     "metadata": {},
     "output_type": "display_data"
    },
    {
     "name": "stdout",
     "output_type": "stream",
     "text": [
      "h^2 =>\n"
     ]
    },
    {
     "data": {
      "text/latex": [
       "$\\displaystyle \\frac{Re^{2} v^{2} \\left(- p_{x} + u v_{y} - u_{t} - u_{y} v\\right)}{6} + \\frac{Re \\left(- 2 p_{tx} - p_{xy} v - 2 p_{x} v_{y} + p_{yy} u + u^{2} v_{xy} + u u_{y} v_{x} + 2 u v v_{yy} + 3 u v_{ty} + 3 u v_{y}^{2} - 2 u_{tt} - 3 u_{ty} v - 2 u_{y} v v_{y} - 2 u_{y} v_{t} - v^{2} v_{xy}\\right)}{6} + \\frac{- p_{xyy} + u v_{yyy} + 3 u_{ttt} + 2 u_{y} v_{yy} + v v_{xyy} - 4 v_{xy} v_{y} + 2 v_{x} v_{yy}}{6} - \\frac{2 v_{xyyy}}{3 Re}$"
      ],
      "text/plain": [
       "Re**2*v**2*(-p_{x} + u*v_{y} - u_{t} - u_{y}*v)/6 + Re*(-2*p_{tx} - p_{xy}*v - 2*p_{x}*v_{y} + p_{yy}*u + u**2*v_{xy} + u*u_{y}*v_{x} + 2*u*v*v_{yy} + 3*u*v_{ty} + 3*u*v_{y}**2 - 2*u_{tt} - 3*u_{ty}*v - 2*u_{y}*v*v_{y} - 2*u_{y}*v_{t} - v**2*v_{xy})/6 + (-p_{xyy} + u*v_{yyy} + 3*u_{ttt} + 2*u_{y}*v_{yy} + v*v_{xyy} - 4*v_{xy}*v_{y} + 2*v_{x}*v_{yy})/6 - 2*v_{xyyy}/(3*Re)"
      ]
     },
     "metadata": {},
     "output_type": "display_data"
    },
    {
     "name": "stdout",
     "output_type": "stream",
     "text": [
      "p_{x} + u u_{x} + u_{t} + u_{y} v + \\frac{- u_{xx} - u_{yy}}{Re}\n",
      "+\\tau\\big(\n",
      "- \\frac{u_{tt}}{2}\n",
      "\\big)\n",
      "+h^2\\big(\n",
      "\\frac{Re^{2} v^{2} \\left(- p_{x} + u v_{y} - u_{t} - u_{y} v\\right)}{6} + \\frac{Re \\left(- 2 p_{tx} - p_{xy} v - 2 p_{x} v_{y} + p_{yy} u + u^{2} v_{xy} + u u_{y} v_{x} + 2 u v v_{yy} + 3 u v_{ty} + 3 u v_{y}^{2} - 2 u_{tt} - 3 u_{ty} v - 2 u_{y} v v_{y} - 2 u_{y} v_{t} - v^{2} v_{xy}\\right)}{6} + \\frac{- p_{xyy} + u v_{yyy} + 3 u_{ttt} + 2 u_{y} v_{yy} + v v_{xyy} - 4 v_{xy} v_{y} + 2 v_{x} v_{yy}}{6} - \\frac{2 v_{xyyy}}{3 Re}\n",
      "\\big)\n"
     ]
    },
    {
     "data": {
      "text/latex": [
       "$\\displaystyle 0$"
      ],
      "text/plain": [
       "0"
      ]
     },
     "metadata": {},
     "output_type": "display_data"
    },
    {
     "name": "stdout",
     "output_type": "stream",
     "text": [
      "tau =>\n"
     ]
    },
    {
     "data": {
      "text/latex": [
       "$\\displaystyle \\frac{2 e^{- \\frac{2 t}{Re}} \\sin{\\left(y \\right)} \\cos{\\left(x \\right)}}{Re^{2}}$"
      ],
      "text/plain": [
       "2*exp(-2*t/Re)*sin(y)*cos(x)/Re**2"
      ]
     },
     "metadata": {},
     "output_type": "display_data"
    },
    {
     "name": "stdout",
     "output_type": "stream",
     "text": [
      "h^2 =>\n"
     ]
    },
    {
     "data": {
      "text/latex": [
       "$\\displaystyle \\frac{\\left(- 3 Re^{3} \\sin{\\left(x \\right)} + 4 Re^{2} e^{\\frac{2 t}{Re}} \\sin{\\left(y \\right)} + 24 e^{\\frac{2 t}{Re}} \\sin{\\left(y \\right)}\\right) e^{- \\frac{4 t}{Re}} \\cos{\\left(x \\right)}}{6 Re^{3}}$"
      ],
      "text/plain": [
       "(-3*Re**3*sin(x) + 4*Re**2*exp(2*t/Re)*sin(y) + 24*exp(2*t/Re)*sin(y))*exp(-4*t/Re)*cos(x)/(6*Re**3)"
      ]
     },
     "metadata": {},
     "output_type": "display_data"
    },
    {
     "name": "stdout",
     "output_type": "stream",
     "text": [
      "0\n",
      "+\\tau\\big(\n",
      "\\frac{2 e^{- \\frac{2 t}{Re}} \\sin{\\left(y \\right)} \\cos{\\left(x \\right)}}{Re^{2}}\n",
      "\\big)\n",
      "+h^2\\big(\n",
      "\\frac{\\left(- 3 Re^{3} \\sin{\\left(x \\right)} + 4 Re^{2} e^{\\frac{2 t}{Re}} \\sin{\\left(y \\right)} + 24 e^{\\frac{2 t}{Re}} \\sin{\\left(y \\right)}\\right) e^{- \\frac{4 t}{Re}} \\cos{\\left(x \\right)}}{6 Re^{3}}\n",
      "\\big)\n"
     ]
    },
    {
     "data": {
      "text/latex": [
       "$\\displaystyle \\frac{\\left(- Re \\lambda + \\left(\\lambda - 2 \\pi\\right) \\left(\\lambda + 2 \\pi\\right)\\right) e^{\\lambda x} \\cos{\\left(2 \\pi y \\right)}}{Re}$"
      ],
      "text/plain": [
       "(-Re*lambda + (lambda - 2*pi)*(lambda + 2*pi))*exp(lambda*x)*cos(2*pi*y)/Re"
      ]
     },
     "metadata": {},
     "output_type": "display_data"
    },
    {
     "name": "stdout",
     "output_type": "stream",
     "text": [
      "tau =>\n"
     ]
    },
    {
     "data": {
      "text/latex": [
       "$\\displaystyle 0$"
      ],
      "text/plain": [
       "0"
      ]
     },
     "metadata": {},
     "output_type": "display_data"
    },
    {
     "name": "stdout",
     "output_type": "stream",
     "text": [
      "h^2 =>\n"
     ]
    },
    {
     "data": {
      "text/latex": [
       "$\\displaystyle \\frac{\\lambda \\left(Re^{2} \\lambda^{2} \\left(Re - \\lambda\\right) e^{2 \\lambda x} \\sin^{2}{\\left(2 \\pi y \\right)} \\cos{\\left(2 \\pi y \\right)} + 4 \\pi^{2} Re \\left(8 Re \\lambda e^{2 \\lambda x} \\sin^{6}{\\left(\\pi y \\right)} - 12 Re \\lambda e^{2 \\lambda x} \\sin^{4}{\\left(\\pi y \\right)} + 4 Re \\lambda e^{2 \\lambda x} \\sin^{2}{\\left(\\pi y \\right)} + 8 Re \\lambda e^{\\lambda x} \\sin^{4}{\\left(\\pi y \\right)} - 8 Re \\lambda e^{\\lambda x} \\sin^{2}{\\left(\\pi y \\right)} + Re \\lambda e^{\\lambda x} - 2 Re \\lambda \\sin^{2}{\\left(\\pi y \\right)} + Re \\lambda - 4 \\lambda^{2} e^{\\lambda x} \\sin^{4}{\\left(\\pi y \\right)} + 4 \\lambda^{2} e^{\\lambda x} \\sin^{2}{\\left(\\pi y \\right)} - 4 \\lambda^{2} e^{\\lambda x} + 48 \\pi^{2} e^{\\lambda x} \\sin^{4}{\\left(\\pi y \\right)} - 48 \\pi^{2} e^{\\lambda x} \\sin^{2}{\\left(\\pi y \\right)} + 4 \\pi^{2} e^{\\lambda x} + 8 \\pi^{2} \\sin^{2}{\\left(\\pi y \\right)} - 4 \\pi^{2}\\right) + 64 \\pi^{4} \\lambda \\cos{\\left(2 \\pi y \\right)}\\right) e^{\\lambda x}}{24 \\pi^{2} Re}$"
      ],
      "text/plain": [
       "lambda*(Re**2*lambda**2*(Re - lambda)*exp(2*lambda*x)*sin(2*pi*y)**2*cos(2*pi*y) + 4*pi**2*Re*(8*Re*lambda*exp(2*lambda*x)*sin(pi*y)**6 - 12*Re*lambda*exp(2*lambda*x)*sin(pi*y)**4 + 4*Re*lambda*exp(2*lambda*x)*sin(pi*y)**2 + 8*Re*lambda*exp(lambda*x)*sin(pi*y)**4 - 8*Re*lambda*exp(lambda*x)*sin(pi*y)**2 + Re*lambda*exp(lambda*x) - 2*Re*lambda*sin(pi*y)**2 + Re*lambda - 4*lambda**2*exp(lambda*x)*sin(pi*y)**4 + 4*lambda**2*exp(lambda*x)*sin(pi*y)**2 - 4*lambda**2*exp(lambda*x) + 48*pi**2*exp(lambda*x)*sin(pi*y)**4 - 48*pi**2*exp(lambda*x)*sin(pi*y)**2 + 4*pi**2*exp(lambda*x) + 8*pi**2*sin(pi*y)**2 - 4*pi**2) + 64*pi**4*lambda*cos(2*pi*y))*exp(lambda*x)/(24*pi**2*Re)"
      ]
     },
     "metadata": {},
     "output_type": "display_data"
    },
    {
     "name": "stdout",
     "output_type": "stream",
     "text": [
      "\\frac{\\left(- Re \\lambda + \\left(\\lambda - 2 \\pi\\right) \\left(\\lambda + 2 \\pi\\right)\\right) e^{\\lambda x} \\cos{\\left(2 \\pi y \\right)}}{Re}\n",
      "+\\tau\\big(\n",
      "0\n",
      "\\big)\n",
      "+h^2\\big(\n",
      "\\frac{\\lambda \\left(Re^{2} \\lambda^{2} \\left(Re - \\lambda\\right) e^{2 \\lambda x} \\sin^{2}{\\left(2 \\pi y \\right)} \\cos{\\left(2 \\pi y \\right)} + 4 \\pi^{2} Re \\left(8 Re \\lambda e^{2 \\lambda x} \\sin^{6}{\\left(\\pi y \\right)} - 12 Re \\lambda e^{2 \\lambda x} \\sin^{4}{\\left(\\pi y \\right)} + 4 Re \\lambda e^{2 \\lambda x} \\sin^{2}{\\left(\\pi y \\right)} + 8 Re \\lambda e^{\\lambda x} \\sin^{4}{\\left(\\pi y \\right)} - 8 Re \\lambda e^{\\lambda x} \\sin^{2}{\\left(\\pi y \\right)} + Re \\lambda e^{\\lambda x} - 2 Re \\lambda \\sin^{2}{\\left(\\pi y \\right)} + Re \\lambda - 4 \\lambda^{2} e^{\\lambda x} \\sin^{4}{\\left(\\pi y \\right)} + 4 \\lambda^{2} e^{\\lambda x} \\sin^{2}{\\left(\\pi y \\right)} - 4 \\lambda^{2} e^{\\lambda x} + 48 \\pi^{2} e^{\\lambda x} \\sin^{4}{\\left(\\pi y \\right)} - 48 \\pi^{2} e^{\\lambda x} \\sin^{2}{\\left(\\pi y \\right)} + 4 \\pi^{2} e^{\\lambda x} + 8 \\pi^{2} \\sin^{2}{\\left(\\pi y \\right)} - 4 \\pi^{2}\\right) + 64 \\pi^{4} \\lambda \\cos{\\left(2 \\pi y \\right)}\\right) e^{\\lambda x}}{24 \\pi^{2} Re}\n",
      "\\big)\n",
      "-------------------------\n"
     ]
    },
    {
     "data": {
      "text/latex": [
       "$\\displaystyle p_{y} + u v_{x} + v v_{y} + v_{t} + \\frac{- v_{xx} - v_{yy}}{Re}$"
      ],
      "text/plain": [
       "p_{y} + u*v_{x} + v*v_{y} + v_{t} + (-v_{xx} - v_{yy})/Re"
      ]
     },
     "metadata": {},
     "output_type": "display_data"
    },
    {
     "name": "stdout",
     "output_type": "stream",
     "text": [
      "tau =>\n"
     ]
    },
    {
     "data": {
      "text/latex": [
       "$\\displaystyle \\frac{2 p_{ty} + 2 u v_{tx} + 2 u_{t} v_{x} + 2 v v_{ty} + v_{tt} + 2 v_{t} v_{y}}{2} + \\frac{- v_{txx} - v_{tyy}}{Re}$"
      ],
      "text/plain": [
       "(2*p_{ty} + 2*u*v_{tx} + 2*u_{t}*v_{x} + 2*v*v_{ty} + v_{tt} + 2*v_{t}*v_{y})/2 + (-v_{txx} - v_{tyy})/Re"
      ]
     },
     "metadata": {},
     "output_type": "display_data"
    },
    {
     "name": "stdout",
     "output_type": "stream",
     "text": [
      "h^2 =>\n"
     ]
    },
    {
     "data": {
      "text/latex": [
       "$\\displaystyle \\frac{p_{yyy} + u v_{xxx} + v v_{yyy}}{6} - \\frac{v_{xxxx} + v_{yyyy}}{3 Re}$"
      ],
      "text/plain": [
       "(p_{yyy} + u*v_{xxx} + v*v_{yyy})/6 - (v_{xxxx} + v_{yyyy})/(3*Re)"
      ]
     },
     "metadata": {},
     "output_type": "display_data"
    },
    {
     "name": "stdout",
     "output_type": "stream",
     "text": [
      "p_{y} + u v_{x} + v v_{y} + v_{t} + \\frac{- v_{xx} - v_{yy}}{Re}\n",
      "+\\tau\\big(\n",
      "\\frac{2 p_{ty} + 2 u v_{tx} + 2 u_{t} v_{x} + 2 v v_{ty} + v_{tt} + 2 v_{t} v_{y}}{2} + \\frac{- v_{txx} - v_{tyy}}{Re}\n",
      "\\big)\n",
      "+h^2\\big(\n",
      "\\frac{p_{yyy} + u v_{xxx} + v v_{yyy}}{6} - \\frac{v_{xxxx} + v_{yyyy}}{3 Re}\n",
      "\\big)\n",
      "f3-f3-f3-f3-f3-f3-f3-f3-f3-f3-f3-f3-f3-f3-f3-f3-f3-f3-f3-f3-f3-f3-f3-f3-f3-\n"
     ]
    },
    {
     "data": {
      "text/latex": [
       "$\\displaystyle p_{y} + u v_{x} + v v_{y} + v_{t} + \\frac{- v_{xx} - v_{yy}}{Re}$"
      ],
      "text/plain": [
       "p_{y} + u*v_{x} + v*v_{y} + v_{t} + (-v_{xx} - v_{yy})/Re"
      ]
     },
     "metadata": {},
     "output_type": "display_data"
    },
    {
     "name": "stdout",
     "output_type": "stream",
     "text": [
      "tau =>\n"
     ]
    },
    {
     "data": {
      "text/latex": [
       "$\\displaystyle - \\frac{v_{tt}}{2}$"
      ],
      "text/plain": [
       "-v_{tt}/2"
      ]
     },
     "metadata": {},
     "output_type": "display_data"
    },
    {
     "name": "stdout",
     "output_type": "stream",
     "text": [
      "h^2 =>\n"
     ]
    },
    {
     "data": {
      "text/latex": [
       "$\\displaystyle - \\frac{Re^{2} u^{2} \\left(p_{y} + u v_{x} + v v_{y} + v_{t}\\right)}{6} + \\frac{Re \\left(- 2 p_{ty} - p_{xy} u + 6 p_{x} v_{x} - 2 p_{yy} v + 2 p_{y} v_{y} + u^{2} v_{yy} - 3 u v v_{xy} - 3 u v_{tx} - 4 u v_{x} v_{y} + 4 u_{t} v_{x} + 4 u_{y} v v_{x} - 2 v^{2} v_{yy} - 4 v v_{ty} - 2 v_{tt}\\right)}{6} + \\frac{5 p_{yyy} + 3 u v_{xyy} + 8 u_{y} v_{xy} + 5 v v_{yyy} + 3 v_{ttt} + 4 v_{tyy} + 4 v_{xy} v_{x} + 12 v_{yy} v_{y}}{6} - \\frac{2 v_{yyyy}}{3 Re}$"
      ],
      "text/plain": [
       "-Re**2*u**2*(p_{y} + u*v_{x} + v*v_{y} + v_{t})/6 + Re*(-2*p_{ty} - p_{xy}*u + 6*p_{x}*v_{x} - 2*p_{yy}*v + 2*p_{y}*v_{y} + u**2*v_{yy} - 3*u*v*v_{xy} - 3*u*v_{tx} - 4*u*v_{x}*v_{y} + 4*u_{t}*v_{x} + 4*u_{y}*v*v_{x} - 2*v**2*v_{yy} - 4*v*v_{ty} - 2*v_{tt})/6 + (5*p_{yyy} + 3*u*v_{xyy} + 8*u_{y}*v_{xy} + 5*v*v_{yyy} + 3*v_{ttt} + 4*v_{tyy} + 4*v_{xy}*v_{x} + 12*v_{yy}*v_{y})/6 - 2*v_{yyyy}/(3*Re)"
      ]
     },
     "metadata": {},
     "output_type": "display_data"
    },
    {
     "name": "stdout",
     "output_type": "stream",
     "text": [
      "p_{y} + u v_{x} + v v_{y} + v_{t} + \\frac{- v_{xx} - v_{yy}}{Re}\n",
      "+\\tau\\big(\n",
      "- \\frac{v_{tt}}{2}\n",
      "\\big)\n",
      "+h^2\\big(\n",
      "- \\frac{Re^{2} u^{2} \\left(p_{y} + u v_{x} + v v_{y} + v_{t}\\right)}{6} + \\frac{Re \\left(- 2 p_{ty} - p_{xy} u + 6 p_{x} v_{x} - 2 p_{yy} v + 2 p_{y} v_{y} + u^{2} v_{yy} - 3 u v v_{xy} - 3 u v_{tx} - 4 u v_{x} v_{y} + 4 u_{t} v_{x} + 4 u_{y} v v_{x} - 2 v^{2} v_{yy} - 4 v v_{ty} - 2 v_{tt}\\right)}{6} + \\frac{5 p_{yyy} + 3 u v_{xyy} + 8 u_{y} v_{xy} + 5 v v_{yyy} + 3 v_{ttt} + 4 v_{tyy} + 4 v_{xy} v_{x} + 12 v_{yy} v_{y}}{6} - \\frac{2 v_{yyyy}}{3 Re}\n",
      "\\big)\n"
     ]
    },
    {
     "data": {
      "text/latex": [
       "$\\displaystyle 0$"
      ],
      "text/plain": [
       "0"
      ]
     },
     "metadata": {},
     "output_type": "display_data"
    },
    {
     "name": "stdout",
     "output_type": "stream",
     "text": [
      "tau =>\n"
     ]
    },
    {
     "data": {
      "text/latex": [
       "$\\displaystyle - \\frac{2 e^{- \\frac{2 t}{Re}} \\sin{\\left(x \\right)} \\cos{\\left(y \\right)}}{Re^{2}}$"
      ],
      "text/plain": [
       "-2*exp(-2*t/Re)*sin(x)*cos(y)/Re**2"
      ]
     },
     "metadata": {},
     "output_type": "display_data"
    },
    {
     "name": "stdout",
     "output_type": "stream",
     "text": [
      "h^2 =>\n"
     ]
    },
    {
     "data": {
      "text/latex": [
       "$\\displaystyle - \\frac{\\left(3 Re^{3} \\sin{\\left(y \\right)} + 4 Re^{2} e^{\\frac{2 t}{Re}} \\sin{\\left(x \\right)} + 24 e^{\\frac{2 t}{Re}} \\sin{\\left(x \\right)}\\right) e^{- \\frac{4 t}{Re}} \\cos{\\left(y \\right)}}{6 Re^{3}}$"
      ],
      "text/plain": [
       "-(3*Re**3*sin(y) + 4*Re**2*exp(2*t/Re)*sin(x) + 24*exp(2*t/Re)*sin(x))*exp(-4*t/Re)*cos(y)/(6*Re**3)"
      ]
     },
     "metadata": {},
     "output_type": "display_data"
    },
    {
     "name": "stdout",
     "output_type": "stream",
     "text": [
      "0\n",
      "+\\tau\\big(\n",
      "- \\frac{2 e^{- \\frac{2 t}{Re}} \\sin{\\left(x \\right)} \\cos{\\left(y \\right)}}{Re^{2}}\n",
      "\\big)\n",
      "+h^2\\big(\n",
      "- \\frac{\\left(3 Re^{3} \\sin{\\left(y \\right)} + 4 Re^{2} e^{\\frac{2 t}{Re}} \\sin{\\left(x \\right)} + 24 e^{\\frac{2 t}{Re}} \\sin{\\left(x \\right)}\\right) e^{- \\frac{4 t}{Re}} \\cos{\\left(y \\right)}}{6 Re^{3}}\n",
      "\\big)\n"
     ]
    },
    {
     "data": {
      "text/latex": [
       "$\\displaystyle \\frac{\\lambda \\left(Re \\lambda - \\left(\\lambda - 2 \\pi\\right) \\left(\\lambda + 2 \\pi\\right)\\right) e^{\\lambda x} \\sin{\\left(2 \\pi y \\right)}}{2 \\pi Re}$"
      ],
      "text/plain": [
       "lambda*(Re*lambda - (lambda - 2*pi)*(lambda + 2*pi))*exp(lambda*x)*sin(2*pi*y)/(2*pi*Re)"
      ]
     },
     "metadata": {},
     "output_type": "display_data"
    },
    {
     "name": "stdout",
     "output_type": "stream",
     "text": [
      "tau =>\n"
     ]
    },
    {
     "data": {
      "text/latex": [
       "$\\displaystyle 0$"
      ],
      "text/plain": [
       "0"
      ]
     },
     "metadata": {},
     "output_type": "display_data"
    },
    {
     "name": "stdout",
     "output_type": "stream",
     "text": [
      "h^2 =>\n"
     ]
    },
    {
     "data": {
      "text/latex": [
       "$\\displaystyle \\frac{\\lambda \\left(Re \\left(- Re^{2} \\lambda e^{2 \\lambda x} \\cos^{2}{\\left(2 \\pi y \\right)} + 2 Re^{2} \\lambda e^{\\lambda x} \\cos{\\left(2 \\pi y \\right)} - Re^{2} \\lambda + 6 Re \\lambda^{2} e^{2 \\lambda x} \\sin^{2}{\\left(2 \\pi y \\right)} + 7 Re \\lambda^{2} e^{2 \\lambda x} \\cos^{2}{\\left(2 \\pi y \\right)} - 6 Re \\lambda^{2} e^{2 \\lambda x} - 7 Re \\lambda^{2} e^{\\lambda x} \\cos{\\left(2 \\pi y \\right)} - 4 \\pi^{2} Re e^{2 \\lambda x} \\cos^{2}{\\left(2 \\pi y \\right)} + 8 \\pi^{2} Re e^{\\lambda x} \\cos{\\left(2 \\pi y \\right)} - 4 \\pi^{2} Re + 4 \\lambda^{3} e^{\\lambda x} \\cos{\\left(2 \\pi y \\right)} - 24 \\pi^{2} \\lambda e^{\\lambda x} \\cos{\\left(2 \\pi y \\right)} - 12 \\pi^{2} \\lambda\\right) - 64 \\pi^{4}\\right) e^{\\lambda x} \\sin{\\left(2 \\pi y \\right)}}{12 \\pi Re}$"
      ],
      "text/plain": [
       "lambda*(Re*(-Re**2*lambda*exp(2*lambda*x)*cos(2*pi*y)**2 + 2*Re**2*lambda*exp(lambda*x)*cos(2*pi*y) - Re**2*lambda + 6*Re*lambda**2*exp(2*lambda*x)*sin(2*pi*y)**2 + 7*Re*lambda**2*exp(2*lambda*x)*cos(2*pi*y)**2 - 6*Re*lambda**2*exp(2*lambda*x) - 7*Re*lambda**2*exp(lambda*x)*cos(2*pi*y) - 4*pi**2*Re*exp(2*lambda*x)*cos(2*pi*y)**2 + 8*pi**2*Re*exp(lambda*x)*cos(2*pi*y) - 4*pi**2*Re + 4*lambda**3*exp(lambda*x)*cos(2*pi*y) - 24*pi**2*lambda*exp(lambda*x)*cos(2*pi*y) - 12*pi**2*lambda) - 64*pi**4)*exp(lambda*x)*sin(2*pi*y)/(12*pi*Re)"
      ]
     },
     "metadata": {},
     "output_type": "display_data"
    },
    {
     "name": "stdout",
     "output_type": "stream",
     "text": [
      "\\frac{\\lambda \\left(Re \\lambda - \\left(\\lambda - 2 \\pi\\right) \\left(\\lambda + 2 \\pi\\right)\\right) e^{\\lambda x} \\sin{\\left(2 \\pi y \\right)}}{2 \\pi Re}\n",
      "+\\tau\\big(\n",
      "0\n",
      "\\big)\n",
      "+h^2\\big(\n",
      "\\frac{\\lambda \\left(Re \\left(- Re^{2} \\lambda e^{2 \\lambda x} \\cos^{2}{\\left(2 \\pi y \\right)} + 2 Re^{2} \\lambda e^{\\lambda x} \\cos{\\left(2 \\pi y \\right)} - Re^{2} \\lambda + 6 Re \\lambda^{2} e^{2 \\lambda x} \\sin^{2}{\\left(2 \\pi y \\right)} + 7 Re \\lambda^{2} e^{2 \\lambda x} \\cos^{2}{\\left(2 \\pi y \\right)} - 6 Re \\lambda^{2} e^{2 \\lambda x} - 7 Re \\lambda^{2} e^{\\lambda x} \\cos{\\left(2 \\pi y \\right)} - 4 \\pi^{2} Re e^{2 \\lambda x} \\cos^{2}{\\left(2 \\pi y \\right)} + 8 \\pi^{2} Re e^{\\lambda x} \\cos{\\left(2 \\pi y \\right)} - 4 \\pi^{2} Re + 4 \\lambda^{3} e^{\\lambda x} \\cos{\\left(2 \\pi y \\right)} - 24 \\pi^{2} \\lambda e^{\\lambda x} \\cos{\\left(2 \\pi y \\right)} - 12 \\pi^{2} \\lambda\\right) - 64 \\pi^{4}\\right) e^{\\lambda x} \\sin{\\left(2 \\pi y \\right)}}{12 \\pi Re}\n",
      "\\big)\n",
      "-------------------------\n"
     ]
    },
    {
     "data": {
      "text/latex": [
       "$\\displaystyle p_{xx} + p_{yy} + 2 u u_{xx} + 2 u v_{xy} + 2 u_{xy} v + 2 u_{x}^{2} + 2 u_{x} v_{y} + 2 u_{y} v_{x} + 2 v v_{yy} + 2 v_{y}^{2}$"
      ],
      "text/plain": [
       "p_{xx} + p_{yy} + 2*u*u_{xx} + 2*u*v_{xy} + 2*u_{xy}*v + 2*u_{x}**2 + 2*u_{x}*v_{y} + 2*u_{y}*v_{x} + 2*v*v_{yy} + 2*v_{y}**2"
      ]
     },
     "metadata": {},
     "output_type": "display_data"
    },
    {
     "name": "stdout",
     "output_type": "stream",
     "text": [
      "tau =>\n"
     ]
    },
    {
     "data": {
      "text/latex": [
       "$\\displaystyle 0$"
      ],
      "text/plain": [
       "0"
      ]
     },
     "metadata": {},
     "output_type": "display_data"
    },
    {
     "name": "stdout",
     "output_type": "stream",
     "text": [
      "h^2 =>\n"
     ]
    },
    {
     "data": {
      "text/latex": [
       "$\\displaystyle \\frac{p_{xxxx} + p_{yyyy} + 2 u u_{xxxx} + u v_{xxxy} + u v_{xyyy} + u_{xxxy} v + 8 u_{xxx} u_{x} + u_{xxx} v_{y} + 3 u_{xxy} v_{x} + 6 u_{xx}^{2} + 3 u_{xx} v_{xy} + u_{xyyy} v + 3 u_{xyy} v_{y} + 3 u_{xy} v_{xx} + 3 u_{xy} v_{yy} + 3 u_{x} v_{xxy} + u_{x} v_{yyy} + u_{yyy} v_{x} + 3 u_{yy} v_{xy} + u_{y} v_{xxx} + 3 u_{y} v_{xyy} + 2 v v_{yyyy} + 8 v_{yyy} v_{y} + 6 v_{yy}^{2}}{3}$"
      ],
      "text/plain": [
       "(p_{xxxx} + p_{yyyy} + 2*u*u_{xxxx} + u*v_{xxxy} + u*v_{xyyy} + u_{xxxy}*v + 8*u_{xxx}*u_{x} + u_{xxx}*v_{y} + 3*u_{xxy}*v_{x} + 6*u_{xx}**2 + 3*u_{xx}*v_{xy} + u_{xyyy}*v + 3*u_{xyy}*v_{y} + 3*u_{xy}*v_{xx} + 3*u_{xy}*v_{yy} + 3*u_{x}*v_{xxy} + u_{x}*v_{yyy} + u_{yyy}*v_{x} + 3*u_{yy}*v_{xy} + u_{y}*v_{xxx} + 3*u_{y}*v_{xyy} + 2*v*v_{yyyy} + 8*v_{yyy}*v_{y} + 6*v_{yy}**2)/3"
      ]
     },
     "metadata": {},
     "output_type": "display_data"
    },
    {
     "name": "stdout",
     "output_type": "stream",
     "text": [
      "p_{xx} + p_{yy} + 2 u u_{xx} + 2 u v_{xy} + 2 u_{xy} v + 2 u_{x}^{2} + 2 u_{x} v_{y} + 2 u_{y} v_{x} + 2 v v_{yy} + 2 v_{y}^{2}\n",
      "+\\tau\\big(\n",
      "0\n",
      "\\big)\n",
      "+h^2\\big(\n",
      "\\frac{p_{xxxx} + p_{yyyy} + 2 u u_{xxxx} + u v_{xxxy} + u v_{xyyy} + u_{xxxy} v + 8 u_{xxx} u_{x} + u_{xxx} v_{y} + 3 u_{xxy} v_{x} + 6 u_{xx}^{2} + 3 u_{xx} v_{xy} + u_{xyyy} v + 3 u_{xyy} v_{y} + 3 u_{xy} v_{xx} + 3 u_{xy} v_{yy} + 3 u_{x} v_{xxy} + u_{x} v_{yyy} + u_{yyy} v_{x} + 3 u_{yy} v_{xy} + u_{y} v_{xxx} + 3 u_{y} v_{xyy} + 2 v v_{yyyy} + 8 v_{yyy} v_{y} + 6 v_{yy}^{2}}{3}\n",
      "\\big)\n",
      "f4-f4-f4-f4-f4-f4-f4-f4-f4-f4-f4-f4-f4-f4-f4-f4-f4-f4-f4-f4-f4-f4-f4-f4-f4-\n"
     ]
    },
    {
     "data": {
      "text/latex": [
       "$\\displaystyle p_{xx} + p_{yy} + 2 u u_{xx} + 2 u v_{xy} + 2 u_{xy} v + 2 u_{x}^{2} + 2 u_{x} v_{y} + 2 u_{y} v_{x} + 2 v v_{yy} + 2 v_{y}^{2}$"
      ],
      "text/plain": [
       "p_{xx} + p_{yy} + 2*u*u_{xx} + 2*u*v_{xy} + 2*u_{xy}*v + 2*u_{x}**2 + 2*u_{x}*v_{y} + 2*u_{y}*v_{x} + 2*v*v_{yy} + 2*v_{y}**2"
      ]
     },
     "metadata": {},
     "output_type": "display_data"
    },
    {
     "name": "stdout",
     "output_type": "stream",
     "text": [
      "tau =>\n"
     ]
    },
    {
     "data": {
      "text/latex": [
       "$\\displaystyle 0$"
      ],
      "text/plain": [
       "0"
      ]
     },
     "metadata": {},
     "output_type": "display_data"
    },
    {
     "name": "stdout",
     "output_type": "stream",
     "text": [
      "h^2 =>\n"
     ]
    },
    {
     "data": {
      "text/latex": [
       "$\\displaystyle - \\frac{Re^{2} \\left(- 2 p_{x} v v_{x} + p_{yy} u^{2} + 2 p_{y} u u_{y} + u^{3} v_{xy} + 3 u^{2} u_{y} v_{x} + u^{2} v v_{yy} + u^{2} v_{ty} + u^{2} v_{y}^{2} + 2 u u_{y} v v_{y} + 2 u u_{y} v_{t} + 2 u v v_{x} v_{y} - 2 u_{t} v v_{x} - 2 u_{y} v^{2} v_{x}\\right)}{3} + \\frac{Re \\left(- p_{xyy} u - p_{xy} u_{y} + 3 p_{xy} v_{x} + 7 p_{x} v_{xy} - p_{yyy} v + p_{y} v_{yy} + u^{2} v_{yyy} + 2 u u_{y} v_{yy} - 2 u v v_{xyy} - u v_{txy} - 8 u v_{xy} v_{y} - 2 u v_{x} v_{yy} + 3 u_{ty} v_{x} + 7 u_{t} v_{xy} + 4 u_{y} v v_{xy} - u_{y} v_{tx} - v^{2} v_{yyy} - v v_{tyy} + 2 v v_{xy} v_{x} - 2 v v_{yy} v_{y} + v_{t} v_{yy}\\right)}{3} + \\frac{2 \\left(p_{yyyy} + u v_{xyyy} + 3 u_{y} v_{xyy} + v v_{yyyy} + v_{xyy} v_{x} + 3 v_{xy}^{2} + 4 v_{yyy} v_{y} + 3 v_{yy}^{2}\\right)}{3}$"
      ],
      "text/plain": [
       "-Re**2*(-2*p_{x}*v*v_{x} + p_{yy}*u**2 + 2*p_{y}*u*u_{y} + u**3*v_{xy} + 3*u**2*u_{y}*v_{x} + u**2*v*v_{yy} + u**2*v_{ty} + u**2*v_{y}**2 + 2*u*u_{y}*v*v_{y} + 2*u*u_{y}*v_{t} + 2*u*v*v_{x}*v_{y} - 2*u_{t}*v*v_{x} - 2*u_{y}*v**2*v_{x})/3 + Re*(-p_{xyy}*u - p_{xy}*u_{y} + 3*p_{xy}*v_{x} + 7*p_{x}*v_{xy} - p_{yyy}*v + p_{y}*v_{yy} + u**2*v_{yyy} + 2*u*u_{y}*v_{yy} - 2*u*v*v_{xyy} - u*v_{txy} - 8*u*v_{xy}*v_{y} - 2*u*v_{x}*v_{yy} + 3*u_{ty}*v_{x} + 7*u_{t}*v_{xy} + 4*u_{y}*v*v_{xy} - u_{y}*v_{tx} - v**2*v_{yyy} - v*v_{tyy} + 2*v*v_{xy}*v_{x} - 2*v*v_{yy}*v_{y} + v_{t}*v_{yy})/3 + 2*(p_{yyyy} + u*v_{xyyy} + 3*u_{y}*v_{xyy} + v*v_{yyyy} + v_{xyy}*v_{x} + 3*v_{xy}**2 + 4*v_{yyy}*v_{y} + 3*v_{yy}**2)/3"
      ]
     },
     "metadata": {},
     "output_type": "display_data"
    },
    {
     "name": "stdout",
     "output_type": "stream",
     "text": [
      "p_{xx} + p_{yy} + 2 u u_{xx} + 2 u v_{xy} + 2 u_{xy} v + 2 u_{x}^{2} + 2 u_{x} v_{y} + 2 u_{y} v_{x} + 2 v v_{yy} + 2 v_{y}^{2}\n",
      "+\\tau\\big(\n",
      "0\n",
      "\\big)\n",
      "+h^2\\big(\n",
      "- \\frac{Re^{2} \\left(- 2 p_{x} v v_{x} + p_{yy} u^{2} + 2 p_{y} u u_{y} + u^{3} v_{xy} + 3 u^{2} u_{y} v_{x} + u^{2} v v_{yy} + u^{2} v_{ty} + u^{2} v_{y}^{2} + 2 u u_{y} v v_{y} + 2 u u_{y} v_{t} + 2 u v v_{x} v_{y} - 2 u_{t} v v_{x} - 2 u_{y} v^{2} v_{x}\\right)}{3} + \\frac{Re \\left(- p_{xyy} u - p_{xy} u_{y} + 3 p_{xy} v_{x} + 7 p_{x} v_{xy} - p_{yyy} v + p_{y} v_{yy} + u^{2} v_{yyy} + 2 u u_{y} v_{yy} - 2 u v v_{xyy} - u v_{txy} - 8 u v_{xy} v_{y} - 2 u v_{x} v_{yy} + 3 u_{ty} v_{x} + 7 u_{t} v_{xy} + 4 u_{y} v v_{xy} - u_{y} v_{tx} - v^{2} v_{yyy} - v v_{tyy} + 2 v v_{xy} v_{x} - 2 v v_{yy} v_{y} + v_{t} v_{yy}\\right)}{3} + \\frac{2 \\left(p_{yyyy} + u v_{xyyy} + 3 u_{y} v_{xyy} + v v_{yyyy} + v_{xyy} v_{x} + 3 v_{xy}^{2} + 4 v_{yyy} v_{y} + 3 v_{yy}^{2}\\right)}{3}\n",
      "\\big)\n"
     ]
    },
    {
     "data": {
      "text/latex": [
       "$\\displaystyle 0$"
      ],
      "text/plain": [
       "0"
      ]
     },
     "metadata": {},
     "output_type": "display_data"
    },
    {
     "name": "stdout",
     "output_type": "stream",
     "text": [
      "tau =>\n"
     ]
    },
    {
     "data": {
      "text/latex": [
       "$\\displaystyle 0$"
      ],
      "text/plain": [
       "0"
      ]
     },
     "metadata": {},
     "output_type": "display_data"
    },
    {
     "name": "stdout",
     "output_type": "stream",
     "text": [
      "h^2 =>\n"
     ]
    },
    {
     "data": {
      "text/latex": [
       "$\\displaystyle 0$"
      ],
      "text/plain": [
       "0"
      ]
     },
     "metadata": {},
     "output_type": "display_data"
    },
    {
     "name": "stdout",
     "output_type": "stream",
     "text": [
      "0\n",
      "+\\tau\\big(\n",
      "0\n",
      "\\big)\n",
      "+h^2\\big(\n",
      "0\n",
      "\\big)\n"
     ]
    },
    {
     "data": {
      "text/latex": [
       "$\\displaystyle 0$"
      ],
      "text/plain": [
       "0"
      ]
     },
     "metadata": {},
     "output_type": "display_data"
    },
    {
     "name": "stdout",
     "output_type": "stream",
     "text": [
      "tau =>\n"
     ]
    },
    {
     "data": {
      "text/latex": [
       "$\\displaystyle 0$"
      ],
      "text/plain": [
       "0"
      ]
     },
     "metadata": {},
     "output_type": "display_data"
    },
    {
     "name": "stdout",
     "output_type": "stream",
     "text": [
      "h^2 =>\n"
     ]
    },
    {
     "data": {
      "text/latex": [
       "$\\displaystyle \\frac{\\lambda \\left(- Re^{2} \\lambda \\left(4 \\lambda^{2} e^{2 \\lambda x} \\sin^{6}{\\left(\\pi y \\right)} - 6 \\lambda^{2} e^{2 \\lambda x} \\sin^{4}{\\left(\\pi y \\right)} + 2 \\lambda^{2} e^{2 \\lambda x} \\sin^{2}{\\left(\\pi y \\right)} - 24 \\pi^{2} e^{2 \\lambda x} \\sin^{6}{\\left(\\pi y \\right)} + 36 \\pi^{2} e^{2 \\lambda x} \\sin^{4}{\\left(\\pi y \\right)} - 14 \\pi^{2} e^{2 \\lambda x} \\sin^{2}{\\left(\\pi y \\right)} + \\pi^{2} e^{2 \\lambda x} - 16 \\pi^{2} e^{\\lambda x} \\sin^{4}{\\left(\\pi y \\right)} + 16 \\pi^{2} e^{\\lambda x} \\sin^{2}{\\left(\\pi y \\right)} - 2 \\pi^{2} e^{\\lambda x} - 2 \\pi^{2} \\sin^{2}{\\left(\\pi y \\right)} + \\pi^{2}\\right) + Re \\left(4 \\lambda^{4} e^{2 \\lambda x} \\sin^{6}{\\left(\\pi y \\right)} - 6 \\lambda^{4} e^{2 \\lambda x} \\sin^{4}{\\left(\\pi y \\right)} + 2 \\lambda^{4} e^{2 \\lambda x} \\sin^{2}{\\left(\\pi y \\right)} - 40 \\pi^{2} \\lambda^{2} e^{2 \\lambda x} \\sin^{6}{\\left(\\pi y \\right)} + 60 \\pi^{2} \\lambda^{2} e^{2 \\lambda x} \\sin^{4}{\\left(\\pi y \\right)} - 22 \\pi^{2} \\lambda^{2} e^{2 \\lambda x} \\sin^{2}{\\left(\\pi y \\right)} + \\pi^{2} \\lambda^{2} e^{2 \\lambda x} - 48 \\pi^{2} \\lambda^{2} e^{\\lambda x} \\sin^{4}{\\left(\\pi y \\right)} + 48 \\pi^{2} \\lambda^{2} e^{\\lambda x} \\sin^{2}{\\left(\\pi y \\right)} - 8 \\pi^{2} \\lambda^{2} e^{\\lambda x} + 96 \\pi^{4} e^{2 \\lambda x} \\sin^{6}{\\left(\\pi y \\right)} - 144 \\pi^{4} e^{2 \\lambda x} \\sin^{4}{\\left(\\pi y \\right)} + 56 \\pi^{4} e^{2 \\lambda x} \\sin^{2}{\\left(\\pi y \\right)} - 4 \\pi^{4} e^{2 \\lambda x} + 64 \\pi^{4} e^{\\lambda x} \\sin^{4}{\\left(\\pi y \\right)} - 64 \\pi^{4} e^{\\lambda x} \\sin^{2}{\\left(\\pi y \\right)} + 8 \\pi^{4} e^{\\lambda x} + 8 \\pi^{4} \\sin^{2}{\\left(\\pi y \\right)} - 4 \\pi^{4}\\right) + 2 \\pi^{2} \\lambda \\left(16 \\lambda^{2} e^{\\lambda x} \\sin^{4}{\\left(\\pi y \\right)} - 16 \\lambda^{2} e^{\\lambda x} \\sin^{2}{\\left(\\pi y \\right)} + 3 \\lambda^{2} e^{\\lambda x} - 64 \\pi^{2} e^{\\lambda x} \\sin^{4}{\\left(\\pi y \\right)} + 64 \\pi^{2} e^{\\lambda x} \\sin^{2}{\\left(\\pi y \\right)} - 12 \\pi^{2} e^{\\lambda x} + 8 \\pi^{2} \\sin^{2}{\\left(\\pi y \\right)} - 4 \\pi^{2}\\right)\\right) e^{\\lambda x}}{3 \\pi^{2}}$"
      ],
      "text/plain": [
       "lambda*(-Re**2*lambda*(4*lambda**2*exp(2*lambda*x)*sin(pi*y)**6 - 6*lambda**2*exp(2*lambda*x)*sin(pi*y)**4 + 2*lambda**2*exp(2*lambda*x)*sin(pi*y)**2 - 24*pi**2*exp(2*lambda*x)*sin(pi*y)**6 + 36*pi**2*exp(2*lambda*x)*sin(pi*y)**4 - 14*pi**2*exp(2*lambda*x)*sin(pi*y)**2 + pi**2*exp(2*lambda*x) - 16*pi**2*exp(lambda*x)*sin(pi*y)**4 + 16*pi**2*exp(lambda*x)*sin(pi*y)**2 - 2*pi**2*exp(lambda*x) - 2*pi**2*sin(pi*y)**2 + pi**2) + Re*(4*lambda**4*exp(2*lambda*x)*sin(pi*y)**6 - 6*lambda**4*exp(2*lambda*x)*sin(pi*y)**4 + 2*lambda**4*exp(2*lambda*x)*sin(pi*y)**2 - 40*pi**2*lambda**2*exp(2*lambda*x)*sin(pi*y)**6 + 60*pi**2*lambda**2*exp(2*lambda*x)*sin(pi*y)**4 - 22*pi**2*lambda**2*exp(2*lambda*x)*sin(pi*y)**2 + pi**2*lambda**2*exp(2*lambda*x) - 48*pi**2*lambda**2*exp(lambda*x)*sin(pi*y)**4 + 48*pi**2*lambda**2*exp(lambda*x)*sin(pi*y)**2 - 8*pi**2*lambda**2*exp(lambda*x) + 96*pi**4*exp(2*lambda*x)*sin(pi*y)**6 - 144*pi**4*exp(2*lambda*x)*sin(pi*y)**4 + 56*pi**4*exp(2*lambda*x)*sin(pi*y)**2 - 4*pi**4*exp(2*lambda*x) + 64*pi**4*exp(lambda*x)*sin(pi*y)**4 - 64*pi**4*exp(lambda*x)*sin(pi*y)**2 + 8*pi**4*exp(lambda*x) + 8*pi**4*sin(pi*y)**2 - 4*pi**4) + 2*pi**2*lambda*(16*lambda**2*exp(lambda*x)*sin(pi*y)**4 - 16*lambda**2*exp(lambda*x)*sin(pi*y)**2 + 3*lambda**2*exp(lambda*x) - 64*pi**2*exp(lambda*x)*sin(pi*y)**4 + 64*pi**2*exp(lambda*x)*sin(pi*y)**2 - 12*pi**2*exp(lambda*x) + 8*pi**2*sin(pi*y)**2 - 4*pi**2))*exp(lambda*x)/(3*pi**2)"
      ]
     },
     "metadata": {},
     "output_type": "display_data"
    },
    {
     "name": "stdout",
     "output_type": "stream",
     "text": [
      "0\n",
      "+\\tau\\big(\n",
      "0\n",
      "\\big)\n",
      "+h^2\\big(\n",
      "\\frac{\\lambda \\left(- Re^{2} \\lambda \\left(4 \\lambda^{2} e^{2 \\lambda x} \\sin^{6}{\\left(\\pi y \\right)} - 6 \\lambda^{2} e^{2 \\lambda x} \\sin^{4}{\\left(\\pi y \\right)} + 2 \\lambda^{2} e^{2 \\lambda x} \\sin^{2}{\\left(\\pi y \\right)} - 24 \\pi^{2} e^{2 \\lambda x} \\sin^{6}{\\left(\\pi y \\right)} + 36 \\pi^{2} e^{2 \\lambda x} \\sin^{4}{\\left(\\pi y \\right)} - 14 \\pi^{2} e^{2 \\lambda x} \\sin^{2}{\\left(\\pi y \\right)} + \\pi^{2} e^{2 \\lambda x} - 16 \\pi^{2} e^{\\lambda x} \\sin^{4}{\\left(\\pi y \\right)} + 16 \\pi^{2} e^{\\lambda x} \\sin^{2}{\\left(\\pi y \\right)} - 2 \\pi^{2} e^{\\lambda x} - 2 \\pi^{2} \\sin^{2}{\\left(\\pi y \\right)} + \\pi^{2}\\right) + Re \\left(4 \\lambda^{4} e^{2 \\lambda x} \\sin^{6}{\\left(\\pi y \\right)} - 6 \\lambda^{4} e^{2 \\lambda x} \\sin^{4}{\\left(\\pi y \\right)} + 2 \\lambda^{4} e^{2 \\lambda x} \\sin^{2}{\\left(\\pi y \\right)} - 40 \\pi^{2} \\lambda^{2} e^{2 \\lambda x} \\sin^{6}{\\left(\\pi y \\right)} + 60 \\pi^{2} \\lambda^{2} e^{2 \\lambda x} \\sin^{4}{\\left(\\pi y \\right)} - 22 \\pi^{2} \\lambda^{2} e^{2 \\lambda x} \\sin^{2}{\\left(\\pi y \\right)} + \\pi^{2} \\lambda^{2} e^{2 \\lambda x} - 48 \\pi^{2} \\lambda^{2} e^{\\lambda x} \\sin^{4}{\\left(\\pi y \\right)} + 48 \\pi^{2} \\lambda^{2} e^{\\lambda x} \\sin^{2}{\\left(\\pi y \\right)} - 8 \\pi^{2} \\lambda^{2} e^{\\lambda x} + 96 \\pi^{4} e^{2 \\lambda x} \\sin^{6}{\\left(\\pi y \\right)} - 144 \\pi^{4} e^{2 \\lambda x} \\sin^{4}{\\left(\\pi y \\right)} + 56 \\pi^{4} e^{2 \\lambda x} \\sin^{2}{\\left(\\pi y \\right)} - 4 \\pi^{4} e^{2 \\lambda x} + 64 \\pi^{4} e^{\\lambda x} \\sin^{4}{\\left(\\pi y \\right)} - 64 \\pi^{4} e^{\\lambda x} \\sin^{2}{\\left(\\pi y \\right)} + 8 \\pi^{4} e^{\\lambda x} + 8 \\pi^{4} \\sin^{2}{\\left(\\pi y \\right)} - 4 \\pi^{4}\\right) + 2 \\pi^{2} \\lambda \\left(16 \\lambda^{2} e^{\\lambda x} \\sin^{4}{\\left(\\pi y \\right)} - 16 \\lambda^{2} e^{\\lambda x} \\sin^{2}{\\left(\\pi y \\right)} + 3 \\lambda^{2} e^{\\lambda x} - 64 \\pi^{2} e^{\\lambda x} \\sin^{4}{\\left(\\pi y \\right)} + 64 \\pi^{2} e^{\\lambda x} \\sin^{2}{\\left(\\pi y \\right)} - 12 \\pi^{2} e^{\\lambda x} + 8 \\pi^{2} \\sin^{2}{\\left(\\pi y \\right)} - 4 \\pi^{2}\\right)\\right) e^{\\lambda x}}{3 \\pi^{2}}\n",
      "\\big)\n"
     ]
    },
    {
     "data": {
      "text/latex": [
       "$\\displaystyle 0$"
      ],
      "text/plain": [
       "0"
      ]
     },
     "metadata": {},
     "output_type": "display_data"
    },
    {
     "name": "stdout",
     "output_type": "stream",
     "text": [
      "tau =>\n"
     ]
    },
    {
     "data": {
      "text/latex": [
       "$\\displaystyle 0$"
      ],
      "text/plain": [
       "0"
      ]
     },
     "metadata": {},
     "output_type": "display_data"
    },
    {
     "name": "stdout",
     "output_type": "stream",
     "text": [
      "h^2 =>\n"
     ]
    },
    {
     "data": {
      "text/latex": [
       "$\\displaystyle 0$"
      ],
      "text/plain": [
       "0"
      ]
     },
     "metadata": {},
     "output_type": "display_data"
    },
    {
     "name": "stdout",
     "output_type": "stream",
     "text": [
      "0\n",
      "+\\tau\\big(\n",
      "0\n",
      "\\big)\n",
      "+h^2\\big(\n",
      "0\n",
      "\\big)\n"
     ]
    }
   ],
   "source": [
    "F1 = clip(Dx(u) + Dy(v))\n",
    "F2 = clip(Dt(u) + Ut(u*Dx(u) + v*Dy(u) + Dx(p) - DD2(u)/Re))\n",
    "F3 = clip(Dt(v) + Ut(u*Dx(v) + v*Dy(v) + Dy(p) - DD2(v)/Re))\n",
    "F4 = clip(Dx(Dx(u**2) + Dy(v*u) + Dx(p)) + Dy(Dx(u*v) + Dy(v**2) + Dy(p)))\n",
    "\n",
    "build(F1, F2, F3, F4)"
   ]
  },
  {
   "cell_type": "code",
   "execution_count": 18,
   "metadata": {},
   "outputs": [
    {
     "data": {
      "text/latex": [
       "$\\displaystyle u_{x} + v_{y}$"
      ],
      "text/plain": [
       "u_{x} + v_{y}"
      ]
     },
     "metadata": {},
     "output_type": "display_data"
    },
    {
     "name": "stdout",
     "output_type": "stream",
     "text": [
      "tau =>\n"
     ]
    },
    {
     "data": {
      "text/latex": [
       "$\\displaystyle 0$"
      ],
      "text/plain": [
       "0"
      ]
     },
     "metadata": {},
     "output_type": "display_data"
    },
    {
     "name": "stdout",
     "output_type": "stream",
     "text": [
      "h^2 =>\n"
     ]
    },
    {
     "data": {
      "text/latex": [
       "$\\displaystyle \\frac{u_{xxx} + v_{yyy}}{6}$"
      ],
      "text/plain": [
       "(u_{xxx} + v_{yyy})/6"
      ]
     },
     "metadata": {},
     "output_type": "display_data"
    },
    {
     "name": "stdout",
     "output_type": "stream",
     "text": [
      "u_{x} + v_{y}\n",
      "+\\tau\\big(\n",
      "0\n",
      "\\big)\n",
      "+h^2\\big(\n",
      "\\frac{u_{xxx} + v_{yyy}}{6}\n",
      "\\big)\n",
      "f1-f1-f1-f1-f1-f1-f1-f1-f1-f1-f1-f1-f1-f1-f1-f1-f1-f1-f1-f1-f1-f1-f1-f1-f1-\n"
     ]
    },
    {
     "data": {
      "text/latex": [
       "$\\displaystyle u_{x} + v_{y}$"
      ],
      "text/plain": [
       "u_{x} + v_{y}"
      ]
     },
     "metadata": {},
     "output_type": "display_data"
    },
    {
     "name": "stdout",
     "output_type": "stream",
     "text": [
      "tau =>\n"
     ]
    },
    {
     "data": {
      "text/latex": [
       "$\\displaystyle 0$"
      ],
      "text/plain": [
       "0"
      ]
     },
     "metadata": {},
     "output_type": "display_data"
    },
    {
     "name": "stdout",
     "output_type": "stream",
     "text": [
      "h^2 =>\n"
     ]
    },
    {
     "data": {
      "text/latex": [
       "$\\displaystyle - \\frac{Re \\left(p_{yy} + u v_{xy} + u_{y} v_{x} + v v_{yy} + v_{ty} + v_{y}^{2}\\right)}{6} + \\frac{v_{yyy}}{3}$"
      ],
      "text/plain": [
       "-Re*(p_{yy} + u*v_{xy} + u_{y}*v_{x} + v*v_{yy} + v_{ty} + v_{y}**2)/6 + v_{yyy}/3"
      ]
     },
     "metadata": {},
     "output_type": "display_data"
    },
    {
     "name": "stdout",
     "output_type": "stream",
     "text": [
      "u_{x} + v_{y}\n",
      "+\\tau\\big(\n",
      "0\n",
      "\\big)\n",
      "+h^2\\big(\n",
      "- \\frac{Re \\left(p_{yy} + u v_{xy} + u_{y} v_{x} + v v_{yy} + v_{ty} + v_{y}^{2}\\right)}{6} + \\frac{v_{yyy}}{3}\n",
      "\\big)\n"
     ]
    },
    {
     "data": {
      "text/latex": [
       "$\\displaystyle 0$"
      ],
      "text/plain": [
       "0"
      ]
     },
     "metadata": {},
     "output_type": "display_data"
    },
    {
     "name": "stdout",
     "output_type": "stream",
     "text": [
      "tau =>\n"
     ]
    },
    {
     "data": {
      "text/latex": [
       "$\\displaystyle 0$"
      ],
      "text/plain": [
       "0"
      ]
     },
     "metadata": {},
     "output_type": "display_data"
    },
    {
     "name": "stdout",
     "output_type": "stream",
     "text": [
      "h^2 =>\n"
     ]
    },
    {
     "data": {
      "text/latex": [
       "$\\displaystyle 0$"
      ],
      "text/plain": [
       "0"
      ]
     },
     "metadata": {},
     "output_type": "display_data"
    },
    {
     "name": "stdout",
     "output_type": "stream",
     "text": [
      "0\n",
      "+\\tau\\big(\n",
      "0\n",
      "\\big)\n",
      "+h^2\\big(\n",
      "0\n",
      "\\big)\n"
     ]
    },
    {
     "data": {
      "text/latex": [
       "$\\displaystyle 0$"
      ],
      "text/plain": [
       "0"
      ]
     },
     "metadata": {},
     "output_type": "display_data"
    },
    {
     "name": "stdout",
     "output_type": "stream",
     "text": [
      "tau =>\n"
     ]
    },
    {
     "data": {
      "text/latex": [
       "$\\displaystyle 0$"
      ],
      "text/plain": [
       "0"
      ]
     },
     "metadata": {},
     "output_type": "display_data"
    },
    {
     "name": "stdout",
     "output_type": "stream",
     "text": [
      "h^2 =>\n"
     ]
    },
    {
     "data": {
      "text/latex": [
       "$\\displaystyle - \\frac{\\lambda \\left(Re \\lambda + 8 \\pi^{2}\\right) e^{\\lambda x} \\cos{\\left(2 \\pi y \\right)}}{6}$"
      ],
      "text/plain": [
       "-lambda*(Re*lambda + 8*pi**2)*exp(lambda*x)*cos(2*pi*y)/6"
      ]
     },
     "metadata": {},
     "output_type": "display_data"
    },
    {
     "name": "stdout",
     "output_type": "stream",
     "text": [
      "0\n",
      "+\\tau\\big(\n",
      "0\n",
      "\\big)\n",
      "+h^2\\big(\n",
      "- \\frac{\\lambda \\left(Re \\lambda + 8 \\pi^{2}\\right) e^{\\lambda x} \\cos{\\left(2 \\pi y \\right)}}{6}\n",
      "\\big)\n",
      "-------------------------\n"
     ]
    },
    {
     "data": {
      "text/latex": [
       "$\\displaystyle p_{x} + 2 u u_{x} + u v_{y} + u_{t} + u_{y} v + \\frac{- u_{xx} - u_{yy}}{Re}$"
      ],
      "text/plain": [
       "p_{x} + 2*u*u_{x} + u*v_{y} + u_{t} + u_{y}*v + (-u_{xx} - u_{yy})/Re"
      ]
     },
     "metadata": {},
     "output_type": "display_data"
    },
    {
     "name": "stdout",
     "output_type": "stream",
     "text": [
      "tau =>\n"
     ]
    },
    {
     "data": {
      "text/latex": [
       "$\\displaystyle \\frac{u_{tt}}{2}$"
      ],
      "text/plain": [
       "u_{tt}/2"
      ]
     },
     "metadata": {},
     "output_type": "display_data"
    },
    {
     "name": "stdout",
     "output_type": "stream",
     "text": [
      "h^2 =>\n"
     ]
    },
    {
     "data": {
      "text/latex": [
       "$\\displaystyle \\frac{p_{xxx} + 2 u u_{xxx} + u v_{yyy} + 6 u_{xx} u_{x} + u_{yyy} v + 3 u_{yy} v_{y} + 3 u_{y} v_{yy}}{6} - \\frac{u_{xxxx} + u_{yyyy}}{12 Re}$"
      ],
      "text/plain": [
       "(p_{xxx} + 2*u*u_{xxx} + u*v_{yyy} + 6*u_{xx}*u_{x} + u_{yyy}*v + 3*u_{yy}*v_{y} + 3*u_{y}*v_{yy})/6 - (u_{xxxx} + u_{yyyy})/(12*Re)"
      ]
     },
     "metadata": {},
     "output_type": "display_data"
    },
    {
     "name": "stdout",
     "output_type": "stream",
     "text": [
      "p_{x} + 2 u u_{x} + u v_{y} + u_{t} + u_{y} v + \\frac{- u_{xx} - u_{yy}}{Re}\n",
      "+\\tau\\big(\n",
      "\\frac{u_{tt}}{2}\n",
      "\\big)\n",
      "+h^2\\big(\n",
      "\\frac{p_{xxx} + 2 u u_{xxx} + u v_{yyy} + 6 u_{xx} u_{x} + u_{yyy} v + 3 u_{yy} v_{y} + 3 u_{y} v_{yy}}{6} - \\frac{u_{xxxx} + u_{yyyy}}{12 Re}\n",
      "\\big)\n",
      "f2-f2-f2-f2-f2-f2-f2-f2-f2-f2-f2-f2-f2-f2-f2-f2-f2-f2-f2-f2-f2-f2-f2-f2-f2-\n"
     ]
    },
    {
     "data": {
      "text/latex": [
       "$\\displaystyle p_{x} + 2 u u_{x} + u v_{y} + u_{t} + u_{y} v + \\frac{- u_{xx} - u_{yy}}{Re}$"
      ],
      "text/plain": [
       "p_{x} + 2*u*u_{x} + u*v_{y} + u_{t} + u_{y}*v + (-u_{xx} - u_{yy})/Re"
      ]
     },
     "metadata": {},
     "output_type": "display_data"
    },
    {
     "name": "stdout",
     "output_type": "stream",
     "text": [
      "tau =>\n"
     ]
    },
    {
     "data": {
      "text/latex": [
       "$\\displaystyle \\frac{u_{tt}}{2}$"
      ],
      "text/plain": [
       "u_{tt}/2"
      ]
     },
     "metadata": {},
     "output_type": "display_data"
    },
    {
     "name": "stdout",
     "output_type": "stream",
     "text": [
      "h^2 =>\n"
     ]
    },
    {
     "data": {
      "text/latex": [
       "$\\displaystyle - \\frac{Re^{2} v^{2} \\left(- p_{x} + u v_{y} - u_{t} - u_{y} v\\right)}{12} - \\frac{Re \\left(p_{tx} - p_{xy} v - 5 p_{x} v_{y} + 3 p_{yy} u + 3 p_{y} u_{y} + 3 u^{2} v_{xy} + 6 u u_{y} v_{x} + 4 u v v_{yy} + 2 u v_{ty} + 8 u v_{y}^{2} + u_{tt} - 6 u_{t} v_{y} - 2 u_{y} v v_{y} + 4 u_{y} v_{t} - v^{2} v_{xy}\\right)}{12} + \\frac{- p_{xyy} + 3 u v_{yyy} + 5 u_{y} v_{yy} + v v_{xyy} + 5 v_{xy} v_{y} + 2 v_{x} v_{yy}}{6} - \\frac{v_{xyyy}}{6 Re}$"
      ],
      "text/plain": [
       "-Re**2*v**2*(-p_{x} + u*v_{y} - u_{t} - u_{y}*v)/12 - Re*(p_{tx} - p_{xy}*v - 5*p_{x}*v_{y} + 3*p_{yy}*u + 3*p_{y}*u_{y} + 3*u**2*v_{xy} + 6*u*u_{y}*v_{x} + 4*u*v*v_{yy} + 2*u*v_{ty} + 8*u*v_{y}**2 + u_{tt} - 6*u_{t}*v_{y} - 2*u_{y}*v*v_{y} + 4*u_{y}*v_{t} - v**2*v_{xy})/12 + (-p_{xyy} + 3*u*v_{yyy} + 5*u_{y}*v_{yy} + v*v_{xyy} + 5*v_{xy}*v_{y} + 2*v_{x}*v_{yy})/6 - v_{xyyy}/(6*Re)"
      ]
     },
     "metadata": {},
     "output_type": "display_data"
    },
    {
     "name": "stdout",
     "output_type": "stream",
     "text": [
      "p_{x} + 2 u u_{x} + u v_{y} + u_{t} + u_{y} v + \\frac{- u_{xx} - u_{yy}}{Re}\n",
      "+\\tau\\big(\n",
      "\\frac{u_{tt}}{2}\n",
      "\\big)\n",
      "+h^2\\big(\n",
      "- \\frac{Re^{2} v^{2} \\left(- p_{x} + u v_{y} - u_{t} - u_{y} v\\right)}{12} - \\frac{Re \\left(p_{tx} - p_{xy} v - 5 p_{x} v_{y} + 3 p_{yy} u + 3 p_{y} u_{y} + 3 u^{2} v_{xy} + 6 u u_{y} v_{x} + 4 u v v_{yy} + 2 u v_{ty} + 8 u v_{y}^{2} + u_{tt} - 6 u_{t} v_{y} - 2 u_{y} v v_{y} + 4 u_{y} v_{t} - v^{2} v_{xy}\\right)}{12} + \\frac{- p_{xyy} + 3 u v_{yyy} + 5 u_{y} v_{yy} + v v_{xyy} + 5 v_{xy} v_{y} + 2 v_{x} v_{yy}}{6} - \\frac{v_{xyyy}}{6 Re}\n",
      "\\big)\n"
     ]
    },
    {
     "data": {
      "text/latex": [
       "$\\displaystyle 0$"
      ],
      "text/plain": [
       "0"
      ]
     },
     "metadata": {},
     "output_type": "display_data"
    },
    {
     "name": "stdout",
     "output_type": "stream",
     "text": [
      "tau =>\n"
     ]
    },
    {
     "data": {
      "text/latex": [
       "$\\displaystyle - \\frac{2 e^{- \\frac{2 t}{Re}} \\sin{\\left(y \\right)} \\cos{\\left(x \\right)}}{Re^{2}}$"
      ],
      "text/plain": [
       "-2*exp(-2*t/Re)*sin(y)*cos(x)/Re**2"
      ]
     },
     "metadata": {},
     "output_type": "display_data"
    },
    {
     "name": "stdout",
     "output_type": "stream",
     "text": [
      "h^2 =>\n"
     ]
    },
    {
     "data": {
      "text/latex": [
       "$\\displaystyle \\frac{e^{- \\frac{2 t}{Re}} \\sin{\\left(y \\right)} \\cos{\\left(x \\right)}}{6 Re}$"
      ],
      "text/plain": [
       "exp(-2*t/Re)*sin(y)*cos(x)/(6*Re)"
      ]
     },
     "metadata": {},
     "output_type": "display_data"
    },
    {
     "name": "stdout",
     "output_type": "stream",
     "text": [
      "0\n",
      "+\\tau\\big(\n",
      "- \\frac{2 e^{- \\frac{2 t}{Re}} \\sin{\\left(y \\right)} \\cos{\\left(x \\right)}}{Re^{2}}\n",
      "\\big)\n",
      "+h^2\\big(\n",
      "\\frac{e^{- \\frac{2 t}{Re}} \\sin{\\left(y \\right)} \\cos{\\left(x \\right)}}{6 Re}\n",
      "\\big)\n"
     ]
    },
    {
     "data": {
      "text/latex": [
       "$\\displaystyle \\frac{\\left(- Re \\lambda + \\left(\\lambda - 2 \\pi\\right) \\left(\\lambda + 2 \\pi\\right)\\right) e^{\\lambda x} \\cos{\\left(2 \\pi y \\right)}}{Re}$"
      ],
      "text/plain": [
       "(-Re*lambda + (lambda - 2*pi)*(lambda + 2*pi))*exp(lambda*x)*cos(2*pi*y)/Re"
      ]
     },
     "metadata": {},
     "output_type": "display_data"
    },
    {
     "name": "stdout",
     "output_type": "stream",
     "text": [
      "tau =>\n"
     ]
    },
    {
     "data": {
      "text/latex": [
       "$\\displaystyle 0$"
      ],
      "text/plain": [
       "0"
      ]
     },
     "metadata": {},
     "output_type": "display_data"
    },
    {
     "name": "stdout",
     "output_type": "stream",
     "text": [
      "h^2 =>\n"
     ]
    },
    {
     "data": {
      "text/latex": [
       "$\\displaystyle \\frac{\\lambda \\left(- Re^{2} \\lambda^{2} \\left(Re - \\lambda\\right) e^{2 \\lambda x} \\sin^{2}{\\left(2 \\pi y \\right)} \\cos{\\left(2 \\pi y \\right)} - 4 \\pi^{2} Re \\left(8 Re \\lambda e^{2 \\lambda x} \\sin^{6}{\\left(\\pi y \\right)} - 12 Re \\lambda e^{2 \\lambda x} \\sin^{4}{\\left(\\pi y \\right)} + 4 Re \\lambda e^{2 \\lambda x} \\sin^{2}{\\left(\\pi y \\right)} + 2 Re \\lambda e^{\\lambda x} - 6 Re \\lambda \\sin^{2}{\\left(\\pi y \\right)} + 3 Re \\lambda - 64 \\lambda^{2} e^{\\lambda x} \\sin^{4}{\\left(\\pi y \\right)} + 64 \\lambda^{2} e^{\\lambda x} \\sin^{2}{\\left(\\pi y \\right)} - 10 \\lambda^{2} e^{\\lambda x} - 256 \\pi^{2} e^{\\lambda x} \\sin^{4}{\\left(\\pi y \\right)} + 256 \\pi^{2} e^{\\lambda x} \\sin^{2}{\\left(\\pi y \\right)} - 24 \\pi^{2} e^{\\lambda x} - 48 \\pi^{2} \\sin^{2}{\\left(\\pi y \\right)} + 24 \\pi^{2}\\right) + 32 \\pi^{4} \\lambda \\cos{\\left(2 \\pi y \\right)}\\right) e^{\\lambda x}}{48 \\pi^{2} Re}$"
      ],
      "text/plain": [
       "lambda*(-Re**2*lambda**2*(Re - lambda)*exp(2*lambda*x)*sin(2*pi*y)**2*cos(2*pi*y) - 4*pi**2*Re*(8*Re*lambda*exp(2*lambda*x)*sin(pi*y)**6 - 12*Re*lambda*exp(2*lambda*x)*sin(pi*y)**4 + 4*Re*lambda*exp(2*lambda*x)*sin(pi*y)**2 + 2*Re*lambda*exp(lambda*x) - 6*Re*lambda*sin(pi*y)**2 + 3*Re*lambda - 64*lambda**2*exp(lambda*x)*sin(pi*y)**4 + 64*lambda**2*exp(lambda*x)*sin(pi*y)**2 - 10*lambda**2*exp(lambda*x) - 256*pi**2*exp(lambda*x)*sin(pi*y)**4 + 256*pi**2*exp(lambda*x)*sin(pi*y)**2 - 24*pi**2*exp(lambda*x) - 48*pi**2*sin(pi*y)**2 + 24*pi**2) + 32*pi**4*lambda*cos(2*pi*y))*exp(lambda*x)/(48*pi**2*Re)"
      ]
     },
     "metadata": {},
     "output_type": "display_data"
    },
    {
     "name": "stdout",
     "output_type": "stream",
     "text": [
      "\\frac{\\left(- Re \\lambda + \\left(\\lambda - 2 \\pi\\right) \\left(\\lambda + 2 \\pi\\right)\\right) e^{\\lambda x} \\cos{\\left(2 \\pi y \\right)}}{Re}\n",
      "+\\tau\\big(\n",
      "0\n",
      "\\big)\n",
      "+h^2\\big(\n",
      "\\frac{\\lambda \\left(- Re^{2} \\lambda^{2} \\left(Re - \\lambda\\right) e^{2 \\lambda x} \\sin^{2}{\\left(2 \\pi y \\right)} \\cos{\\left(2 \\pi y \\right)} - 4 \\pi^{2} Re \\left(8 Re \\lambda e^{2 \\lambda x} \\sin^{6}{\\left(\\pi y \\right)} - 12 Re \\lambda e^{2 \\lambda x} \\sin^{4}{\\left(\\pi y \\right)} + 4 Re \\lambda e^{2 \\lambda x} \\sin^{2}{\\left(\\pi y \\right)} + 2 Re \\lambda e^{\\lambda x} - 6 Re \\lambda \\sin^{2}{\\left(\\pi y \\right)} + 3 Re \\lambda - 64 \\lambda^{2} e^{\\lambda x} \\sin^{4}{\\left(\\pi y \\right)} + 64 \\lambda^{2} e^{\\lambda x} \\sin^{2}{\\left(\\pi y \\right)} - 10 \\lambda^{2} e^{\\lambda x} - 256 \\pi^{2} e^{\\lambda x} \\sin^{4}{\\left(\\pi y \\right)} + 256 \\pi^{2} e^{\\lambda x} \\sin^{2}{\\left(\\pi y \\right)} - 24 \\pi^{2} e^{\\lambda x} - 48 \\pi^{2} \\sin^{2}{\\left(\\pi y \\right)} + 24 \\pi^{2}\\right) + 32 \\pi^{4} \\lambda \\cos{\\left(2 \\pi y \\right)}\\right) e^{\\lambda x}}{48 \\pi^{2} Re}\n",
      "\\big)\n",
      "-------------------------\n"
     ]
    },
    {
     "data": {
      "text/latex": [
       "$\\displaystyle p_{y} + u v_{x} + u_{x} v + 2 v v_{y} + v_{t} + \\frac{- v_{xx} - v_{yy}}{Re}$"
      ],
      "text/plain": [
       "p_{y} + u*v_{x} + u_{x}*v + 2*v*v_{y} + v_{t} + (-v_{xx} - v_{yy})/Re"
      ]
     },
     "metadata": {},
     "output_type": "display_data"
    },
    {
     "name": "stdout",
     "output_type": "stream",
     "text": [
      "tau =>\n"
     ]
    },
    {
     "data": {
      "text/latex": [
       "$\\displaystyle \\frac{v_{tt}}{2}$"
      ],
      "text/plain": [
       "v_{tt}/2"
      ]
     },
     "metadata": {},
     "output_type": "display_data"
    },
    {
     "name": "stdout",
     "output_type": "stream",
     "text": [
      "h^2 =>\n"
     ]
    },
    {
     "data": {
      "text/latex": [
       "$\\displaystyle \\frac{p_{yyy} + u v_{xxx} + u_{xxx} v + 3 u_{xx} v_{x} + 3 u_{x} v_{xx} + 2 v v_{yyy} + 6 v_{yy} v_{y}}{6} - \\frac{v_{xxxx} + v_{yyyy}}{12 Re}$"
      ],
      "text/plain": [
       "(p_{yyy} + u*v_{xxx} + u_{xxx}*v + 3*u_{xx}*v_{x} + 3*u_{x}*v_{xx} + 2*v*v_{yyy} + 6*v_{yy}*v_{y})/6 - (v_{xxxx} + v_{yyyy})/(12*Re)"
      ]
     },
     "metadata": {},
     "output_type": "display_data"
    },
    {
     "name": "stdout",
     "output_type": "stream",
     "text": [
      "p_{y} + u v_{x} + u_{x} v + 2 v v_{y} + v_{t} + \\frac{- v_{xx} - v_{yy}}{Re}\n",
      "+\\tau\\big(\n",
      "\\frac{v_{tt}}{2}\n",
      "\\big)\n",
      "+h^2\\big(\n",
      "\\frac{p_{yyy} + u v_{xxx} + u_{xxx} v + 3 u_{xx} v_{x} + 3 u_{x} v_{xx} + 2 v v_{yyy} + 6 v_{yy} v_{y}}{6} - \\frac{v_{xxxx} + v_{yyyy}}{12 Re}\n",
      "\\big)\n",
      "f3-f3-f3-f3-f3-f3-f3-f3-f3-f3-f3-f3-f3-f3-f3-f3-f3-f3-f3-f3-f3-f3-f3-f3-f3-\n"
     ]
    },
    {
     "data": {
      "text/latex": [
       "$\\displaystyle p_{y} + u v_{x} + u_{x} v + 2 v v_{y} + v_{t} + \\frac{- v_{xx} - v_{yy}}{Re}$"
      ],
      "text/plain": [
       "p_{y} + u*v_{x} + u_{x}*v + 2*v*v_{y} + v_{t} + (-v_{xx} - v_{yy})/Re"
      ]
     },
     "metadata": {},
     "output_type": "display_data"
    },
    {
     "name": "stdout",
     "output_type": "stream",
     "text": [
      "tau =>\n"
     ]
    },
    {
     "data": {
      "text/latex": [
       "$\\displaystyle \\frac{v_{tt}}{2}$"
      ],
      "text/plain": [
       "v_{tt}/2"
      ]
     },
     "metadata": {},
     "output_type": "display_data"
    },
    {
     "name": "stdout",
     "output_type": "stream",
     "text": [
      "h^2 =>\n"
     ]
    },
    {
     "data": {
      "text/latex": [
       "$\\displaystyle \\frac{Re^{2} u^{2} \\left(p_{y} + u v_{x} + v v_{y} + v_{t}\\right)}{12} - \\frac{Re \\left(p_{ty} - p_{xy} u - 3 p_{x} v_{x} + 3 p_{yy} v + 5 p_{y} v_{y} + u^{2} v_{yy} + 2 u v v_{xy} + 8 u v_{x} v_{y} - 2 u_{t} v_{x} + 3 v^{2} v_{yy} + 4 v v_{ty} + 8 v v_{y}^{2} + v_{tt} + 6 v_{t} v_{y}\\right)}{12} + \\frac{2 p_{yyy} + 2 u_{y} v_{xy} + 4 v v_{yyy} + v_{tyy} - 2 v_{xy} v_{x} + 12 v_{yy} v_{y}}{6} - \\frac{v_{yyyy}}{6 Re}$"
      ],
      "text/plain": [
       "Re**2*u**2*(p_{y} + u*v_{x} + v*v_{y} + v_{t})/12 - Re*(p_{ty} - p_{xy}*u - 3*p_{x}*v_{x} + 3*p_{yy}*v + 5*p_{y}*v_{y} + u**2*v_{yy} + 2*u*v*v_{xy} + 8*u*v_{x}*v_{y} - 2*u_{t}*v_{x} + 3*v**2*v_{yy} + 4*v*v_{ty} + 8*v*v_{y}**2 + v_{tt} + 6*v_{t}*v_{y})/12 + (2*p_{yyy} + 2*u_{y}*v_{xy} + 4*v*v_{yyy} + v_{tyy} - 2*v_{xy}*v_{x} + 12*v_{yy}*v_{y})/6 - v_{yyyy}/(6*Re)"
      ]
     },
     "metadata": {},
     "output_type": "display_data"
    },
    {
     "name": "stdout",
     "output_type": "stream",
     "text": [
      "p_{y} + u v_{x} + u_{x} v + 2 v v_{y} + v_{t} + \\frac{- v_{xx} - v_{yy}}{Re}\n",
      "+\\tau\\big(\n",
      "\\frac{v_{tt}}{2}\n",
      "\\big)\n",
      "+h^2\\big(\n",
      "\\frac{Re^{2} u^{2} \\left(p_{y} + u v_{x} + v v_{y} + v_{t}\\right)}{12} - \\frac{Re \\left(p_{ty} - p_{xy} u - 3 p_{x} v_{x} + 3 p_{yy} v + 5 p_{y} v_{y} + u^{2} v_{yy} + 2 u v v_{xy} + 8 u v_{x} v_{y} - 2 u_{t} v_{x} + 3 v^{2} v_{yy} + 4 v v_{ty} + 8 v v_{y}^{2} + v_{tt} + 6 v_{t} v_{y}\\right)}{12} + \\frac{2 p_{yyy} + 2 u_{y} v_{xy} + 4 v v_{yyy} + v_{tyy} - 2 v_{xy} v_{x} + 12 v_{yy} v_{y}}{6} - \\frac{v_{yyyy}}{6 Re}\n",
      "\\big)\n"
     ]
    },
    {
     "data": {
      "text/latex": [
       "$\\displaystyle 0$"
      ],
      "text/plain": [
       "0"
      ]
     },
     "metadata": {},
     "output_type": "display_data"
    },
    {
     "name": "stdout",
     "output_type": "stream",
     "text": [
      "tau =>\n"
     ]
    },
    {
     "data": {
      "text/latex": [
       "$\\displaystyle \\frac{2 e^{- \\frac{2 t}{Re}} \\sin{\\left(x \\right)} \\cos{\\left(y \\right)}}{Re^{2}}$"
      ],
      "text/plain": [
       "2*exp(-2*t/Re)*sin(x)*cos(y)/Re**2"
      ]
     },
     "metadata": {},
     "output_type": "display_data"
    },
    {
     "name": "stdout",
     "output_type": "stream",
     "text": [
      "h^2 =>\n"
     ]
    },
    {
     "data": {
      "text/latex": [
       "$\\displaystyle - \\frac{e^{- \\frac{2 t}{Re}} \\sin{\\left(x \\right)} \\cos{\\left(y \\right)}}{6 Re}$"
      ],
      "text/plain": [
       "-exp(-2*t/Re)*sin(x)*cos(y)/(6*Re)"
      ]
     },
     "metadata": {},
     "output_type": "display_data"
    },
    {
     "name": "stdout",
     "output_type": "stream",
     "text": [
      "0\n",
      "+\\tau\\big(\n",
      "\\frac{2 e^{- \\frac{2 t}{Re}} \\sin{\\left(x \\right)} \\cos{\\left(y \\right)}}{Re^{2}}\n",
      "\\big)\n",
      "+h^2\\big(\n",
      "- \\frac{e^{- \\frac{2 t}{Re}} \\sin{\\left(x \\right)} \\cos{\\left(y \\right)}}{6 Re}\n",
      "\\big)\n"
     ]
    },
    {
     "data": {
      "text/latex": [
       "$\\displaystyle \\frac{\\lambda \\left(Re \\lambda - \\left(\\lambda - 2 \\pi\\right) \\left(\\lambda + 2 \\pi\\right)\\right) e^{\\lambda x} \\sin{\\left(2 \\pi y \\right)}}{2 \\pi Re}$"
      ],
      "text/plain": [
       "lambda*(Re*lambda - (lambda - 2*pi)*(lambda + 2*pi))*exp(lambda*x)*sin(2*pi*y)/(2*pi*Re)"
      ]
     },
     "metadata": {},
     "output_type": "display_data"
    },
    {
     "name": "stdout",
     "output_type": "stream",
     "text": [
      "tau =>\n"
     ]
    },
    {
     "data": {
      "text/latex": [
       "$\\displaystyle 0$"
      ],
      "text/plain": [
       "0"
      ]
     },
     "metadata": {},
     "output_type": "display_data"
    },
    {
     "name": "stdout",
     "output_type": "stream",
     "text": [
      "h^2 =>\n"
     ]
    },
    {
     "data": {
      "text/latex": [
       "$\\displaystyle \\frac{\\lambda \\left(Re \\left(Re^{2} \\lambda e^{2 \\lambda x} \\cos^{2}{\\left(2 \\pi y \\right)} - 2 Re^{2} \\lambda e^{\\lambda x} \\cos{\\left(2 \\pi y \\right)} + Re^{2} \\lambda + 3 Re \\lambda^{2} e^{2 \\lambda x} \\sin^{2}{\\left(2 \\pi y \\right)} + 2 Re \\lambda^{2} e^{2 \\lambda x} \\cos^{2}{\\left(2 \\pi y \\right)} - 3 Re \\lambda^{2} e^{2 \\lambda x} - 10 Re \\lambda^{2} e^{\\lambda x} \\cos{\\left(2 \\pi y \\right)} + 4 \\pi^{2} Re e^{2 \\lambda x} \\cos^{2}{\\left(2 \\pi y \\right)} - 8 \\pi^{2} Re e^{\\lambda x} \\cos{\\left(2 \\pi y \\right)} + 4 \\pi^{2} Re - 4 \\lambda^{3} e^{\\lambda x} \\cos{\\left(2 \\pi y \\right)} - 112 \\pi^{2} \\lambda e^{\\lambda x} \\cos{\\left(2 \\pi y \\right)}\\right) - 32 \\pi^{4}\\right) e^{\\lambda x} \\sin{\\left(2 \\pi y \\right)}}{24 \\pi Re}$"
      ],
      "text/plain": [
       "lambda*(Re*(Re**2*lambda*exp(2*lambda*x)*cos(2*pi*y)**2 - 2*Re**2*lambda*exp(lambda*x)*cos(2*pi*y) + Re**2*lambda + 3*Re*lambda**2*exp(2*lambda*x)*sin(2*pi*y)**2 + 2*Re*lambda**2*exp(2*lambda*x)*cos(2*pi*y)**2 - 3*Re*lambda**2*exp(2*lambda*x) - 10*Re*lambda**2*exp(lambda*x)*cos(2*pi*y) + 4*pi**2*Re*exp(2*lambda*x)*cos(2*pi*y)**2 - 8*pi**2*Re*exp(lambda*x)*cos(2*pi*y) + 4*pi**2*Re - 4*lambda**3*exp(lambda*x)*cos(2*pi*y) - 112*pi**2*lambda*exp(lambda*x)*cos(2*pi*y)) - 32*pi**4)*exp(lambda*x)*sin(2*pi*y)/(24*pi*Re)"
      ]
     },
     "metadata": {},
     "output_type": "display_data"
    },
    {
     "name": "stdout",
     "output_type": "stream",
     "text": [
      "\\frac{\\lambda \\left(Re \\lambda - \\left(\\lambda - 2 \\pi\\right) \\left(\\lambda + 2 \\pi\\right)\\right) e^{\\lambda x} \\sin{\\left(2 \\pi y \\right)}}{2 \\pi Re}\n",
      "+\\tau\\big(\n",
      "0\n",
      "\\big)\n",
      "+h^2\\big(\n",
      "\\frac{\\lambda \\left(Re \\left(Re^{2} \\lambda e^{2 \\lambda x} \\cos^{2}{\\left(2 \\pi y \\right)} - 2 Re^{2} \\lambda e^{\\lambda x} \\cos{\\left(2 \\pi y \\right)} + Re^{2} \\lambda + 3 Re \\lambda^{2} e^{2 \\lambda x} \\sin^{2}{\\left(2 \\pi y \\right)} + 2 Re \\lambda^{2} e^{2 \\lambda x} \\cos^{2}{\\left(2 \\pi y \\right)} - 3 Re \\lambda^{2} e^{2 \\lambda x} - 10 Re \\lambda^{2} e^{\\lambda x} \\cos{\\left(2 \\pi y \\right)} + 4 \\pi^{2} Re e^{2 \\lambda x} \\cos^{2}{\\left(2 \\pi y \\right)} - 8 \\pi^{2} Re e^{\\lambda x} \\cos{\\left(2 \\pi y \\right)} + 4 \\pi^{2} Re - 4 \\lambda^{3} e^{\\lambda x} \\cos{\\left(2 \\pi y \\right)} - 112 \\pi^{2} \\lambda e^{\\lambda x} \\cos{\\left(2 \\pi y \\right)}\\right) - 32 \\pi^{4}\\right) e^{\\lambda x} \\sin{\\left(2 \\pi y \\right)}}{24 \\pi Re}\n",
      "\\big)\n",
      "-------------------------\n"
     ]
    },
    {
     "data": {
      "text/latex": [
       "$\\displaystyle p_{xx} + p_{yy} + 2 u u_{xx} + 2 u v_{xy} + 2 u_{xy} v + 2 u_{x}^{2} + 2 u_{x} v_{y} + 2 u_{y} v_{x} + 2 v v_{yy} + 2 v_{y}^{2}$"
      ],
      "text/plain": [
       "p_{xx} + p_{yy} + 2*u*u_{xx} + 2*u*v_{xy} + 2*u_{xy}*v + 2*u_{x}**2 + 2*u_{x}*v_{y} + 2*u_{y}*v_{x} + 2*v*v_{yy} + 2*v_{y}**2"
      ]
     },
     "metadata": {},
     "output_type": "display_data"
    },
    {
     "name": "stdout",
     "output_type": "stream",
     "text": [
      "tau =>\n"
     ]
    },
    {
     "data": {
      "text/latex": [
       "$\\displaystyle 0$"
      ],
      "text/plain": [
       "0"
      ]
     },
     "metadata": {},
     "output_type": "display_data"
    },
    {
     "name": "stdout",
     "output_type": "stream",
     "text": [
      "h^2 =>\n"
     ]
    },
    {
     "data": {
      "text/latex": [
       "$\\displaystyle \\frac{p_{xxxx} + p_{yyyy} + 2 u u_{xxxx} + u v_{xxxy} + u v_{xyyy} + u_{xxxy} v + 8 u_{xxx} u_{x} + u_{xxx} v_{y} + 3 u_{xxy} v_{x} + 6 u_{xx}^{2} + 3 u_{xx} v_{xy} + u_{xyyy} v + 3 u_{xyy} v_{y} + 3 u_{xy} v_{xx} + 3 u_{xy} v_{yy} + 3 u_{x} v_{xxy} + u_{x} v_{yyy} + u_{yyy} v_{x} + 3 u_{yy} v_{xy} + u_{y} v_{xxx} + 3 u_{y} v_{xyy} + 2 v v_{yyyy} + 8 v_{yyy} v_{y} + 6 v_{yy}^{2}}{3}$"
      ],
      "text/plain": [
       "(p_{xxxx} + p_{yyyy} + 2*u*u_{xxxx} + u*v_{xxxy} + u*v_{xyyy} + u_{xxxy}*v + 8*u_{xxx}*u_{x} + u_{xxx}*v_{y} + 3*u_{xxy}*v_{x} + 6*u_{xx}**2 + 3*u_{xx}*v_{xy} + u_{xyyy}*v + 3*u_{xyy}*v_{y} + 3*u_{xy}*v_{xx} + 3*u_{xy}*v_{yy} + 3*u_{x}*v_{xxy} + u_{x}*v_{yyy} + u_{yyy}*v_{x} + 3*u_{yy}*v_{xy} + u_{y}*v_{xxx} + 3*u_{y}*v_{xyy} + 2*v*v_{yyyy} + 8*v_{yyy}*v_{y} + 6*v_{yy}**2)/3"
      ]
     },
     "metadata": {},
     "output_type": "display_data"
    },
    {
     "name": "stdout",
     "output_type": "stream",
     "text": [
      "p_{xx} + p_{yy} + 2 u u_{xx} + 2 u v_{xy} + 2 u_{xy} v + 2 u_{x}^{2} + 2 u_{x} v_{y} + 2 u_{y} v_{x} + 2 v v_{yy} + 2 v_{y}^{2}\n",
      "+\\tau\\big(\n",
      "0\n",
      "\\big)\n",
      "+h^2\\big(\n",
      "\\frac{p_{xxxx} + p_{yyyy} + 2 u u_{xxxx} + u v_{xxxy} + u v_{xyyy} + u_{xxxy} v + 8 u_{xxx} u_{x} + u_{xxx} v_{y} + 3 u_{xxy} v_{x} + 6 u_{xx}^{2} + 3 u_{xx} v_{xy} + u_{xyyy} v + 3 u_{xyy} v_{y} + 3 u_{xy} v_{xx} + 3 u_{xy} v_{yy} + 3 u_{x} v_{xxy} + u_{x} v_{yyy} + u_{yyy} v_{x} + 3 u_{yy} v_{xy} + u_{y} v_{xxx} + 3 u_{y} v_{xyy} + 2 v v_{yyyy} + 8 v_{yyy} v_{y} + 6 v_{yy}^{2}}{3}\n",
      "\\big)\n",
      "f4-f4-f4-f4-f4-f4-f4-f4-f4-f4-f4-f4-f4-f4-f4-f4-f4-f4-f4-f4-f4-f4-f4-f4-f4-\n"
     ]
    },
    {
     "data": {
      "text/latex": [
       "$\\displaystyle p_{xx} + p_{yy} + 2 u u_{xx} + 2 u v_{xy} + 2 u_{xy} v + 2 u_{x}^{2} + 2 u_{x} v_{y} + 2 u_{y} v_{x} + 2 v v_{yy} + 2 v_{y}^{2}$"
      ],
      "text/plain": [
       "p_{xx} + p_{yy} + 2*u*u_{xx} + 2*u*v_{xy} + 2*u_{xy}*v + 2*u_{x}**2 + 2*u_{x}*v_{y} + 2*u_{y}*v_{x} + 2*v*v_{yy} + 2*v_{y}**2"
      ]
     },
     "metadata": {},
     "output_type": "display_data"
    },
    {
     "name": "stdout",
     "output_type": "stream",
     "text": [
      "tau =>\n"
     ]
    },
    {
     "data": {
      "text/latex": [
       "$\\displaystyle 0$"
      ],
      "text/plain": [
       "0"
      ]
     },
     "metadata": {},
     "output_type": "display_data"
    },
    {
     "name": "stdout",
     "output_type": "stream",
     "text": [
      "h^2 =>\n"
     ]
    },
    {
     "data": {
      "text/latex": [
       "$\\displaystyle - \\frac{Re^{2} \\left(- 2 p_{x} v v_{x} + p_{yy} u^{2} + 2 p_{y} u u_{y} + u^{3} v_{xy} + 3 u^{2} u_{y} v_{x} + u^{2} v v_{yy} + u^{2} v_{ty} + u^{2} v_{y}^{2} + 2 u u_{y} v v_{y} + 2 u u_{y} v_{t} + 2 u v v_{x} v_{y} - 2 u_{t} v v_{x} - 2 u_{y} v^{2} v_{x}\\right)}{3} + \\frac{Re \\left(- p_{xyy} u - p_{xy} u_{y} + 3 p_{xy} v_{x} + 7 p_{x} v_{xy} - p_{yyy} v + p_{y} v_{yy} + u^{2} v_{yyy} + 2 u u_{y} v_{yy} - 2 u v v_{xyy} - u v_{txy} - 8 u v_{xy} v_{y} - 2 u v_{x} v_{yy} + 3 u_{ty} v_{x} + 7 u_{t} v_{xy} + 4 u_{y} v v_{xy} - u_{y} v_{tx} - v^{2} v_{yyy} - v v_{tyy} + 2 v v_{xy} v_{x} - 2 v v_{yy} v_{y} + v_{t} v_{yy}\\right)}{3} + \\frac{2 \\left(p_{yyyy} + u v_{xyyy} + 3 u_{y} v_{xyy} + v v_{yyyy} + v_{xyy} v_{x} + 3 v_{xy}^{2} + 4 v_{yyy} v_{y} + 3 v_{yy}^{2}\\right)}{3}$"
      ],
      "text/plain": [
       "-Re**2*(-2*p_{x}*v*v_{x} + p_{yy}*u**2 + 2*p_{y}*u*u_{y} + u**3*v_{xy} + 3*u**2*u_{y}*v_{x} + u**2*v*v_{yy} + u**2*v_{ty} + u**2*v_{y}**2 + 2*u*u_{y}*v*v_{y} + 2*u*u_{y}*v_{t} + 2*u*v*v_{x}*v_{y} - 2*u_{t}*v*v_{x} - 2*u_{y}*v**2*v_{x})/3 + Re*(-p_{xyy}*u - p_{xy}*u_{y} + 3*p_{xy}*v_{x} + 7*p_{x}*v_{xy} - p_{yyy}*v + p_{y}*v_{yy} + u**2*v_{yyy} + 2*u*u_{y}*v_{yy} - 2*u*v*v_{xyy} - u*v_{txy} - 8*u*v_{xy}*v_{y} - 2*u*v_{x}*v_{yy} + 3*u_{ty}*v_{x} + 7*u_{t}*v_{xy} + 4*u_{y}*v*v_{xy} - u_{y}*v_{tx} - v**2*v_{yyy} - v*v_{tyy} + 2*v*v_{xy}*v_{x} - 2*v*v_{yy}*v_{y} + v_{t}*v_{yy})/3 + 2*(p_{yyyy} + u*v_{xyyy} + 3*u_{y}*v_{xyy} + v*v_{yyyy} + v_{xyy}*v_{x} + 3*v_{xy}**2 + 4*v_{yyy}*v_{y} + 3*v_{yy}**2)/3"
      ]
     },
     "metadata": {},
     "output_type": "display_data"
    },
    {
     "name": "stdout",
     "output_type": "stream",
     "text": [
      "p_{xx} + p_{yy} + 2 u u_{xx} + 2 u v_{xy} + 2 u_{xy} v + 2 u_{x}^{2} + 2 u_{x} v_{y} + 2 u_{y} v_{x} + 2 v v_{yy} + 2 v_{y}^{2}\n",
      "+\\tau\\big(\n",
      "0\n",
      "\\big)\n",
      "+h^2\\big(\n",
      "- \\frac{Re^{2} \\left(- 2 p_{x} v v_{x} + p_{yy} u^{2} + 2 p_{y} u u_{y} + u^{3} v_{xy} + 3 u^{2} u_{y} v_{x} + u^{2} v v_{yy} + u^{2} v_{ty} + u^{2} v_{y}^{2} + 2 u u_{y} v v_{y} + 2 u u_{y} v_{t} + 2 u v v_{x} v_{y} - 2 u_{t} v v_{x} - 2 u_{y} v^{2} v_{x}\\right)}{3} + \\frac{Re \\left(- p_{xyy} u - p_{xy} u_{y} + 3 p_{xy} v_{x} + 7 p_{x} v_{xy} - p_{yyy} v + p_{y} v_{yy} + u^{2} v_{yyy} + 2 u u_{y} v_{yy} - 2 u v v_{xyy} - u v_{txy} - 8 u v_{xy} v_{y} - 2 u v_{x} v_{yy} + 3 u_{ty} v_{x} + 7 u_{t} v_{xy} + 4 u_{y} v v_{xy} - u_{y} v_{tx} - v^{2} v_{yyy} - v v_{tyy} + 2 v v_{xy} v_{x} - 2 v v_{yy} v_{y} + v_{t} v_{yy}\\right)}{3} + \\frac{2 \\left(p_{yyyy} + u v_{xyyy} + 3 u_{y} v_{xyy} + v v_{yyyy} + v_{xyy} v_{x} + 3 v_{xy}^{2} + 4 v_{yyy} v_{y} + 3 v_{yy}^{2}\\right)}{3}\n",
      "\\big)\n"
     ]
    },
    {
     "data": {
      "text/latex": [
       "$\\displaystyle 0$"
      ],
      "text/plain": [
       "0"
      ]
     },
     "metadata": {},
     "output_type": "display_data"
    },
    {
     "name": "stdout",
     "output_type": "stream",
     "text": [
      "tau =>\n"
     ]
    },
    {
     "data": {
      "text/latex": [
       "$\\displaystyle 0$"
      ],
      "text/plain": [
       "0"
      ]
     },
     "metadata": {},
     "output_type": "display_data"
    },
    {
     "name": "stdout",
     "output_type": "stream",
     "text": [
      "h^2 =>\n"
     ]
    },
    {
     "data": {
      "text/latex": [
       "$\\displaystyle 0$"
      ],
      "text/plain": [
       "0"
      ]
     },
     "metadata": {},
     "output_type": "display_data"
    },
    {
     "name": "stdout",
     "output_type": "stream",
     "text": [
      "0\n",
      "+\\tau\\big(\n",
      "0\n",
      "\\big)\n",
      "+h^2\\big(\n",
      "0\n",
      "\\big)\n"
     ]
    },
    {
     "data": {
      "text/latex": [
       "$\\displaystyle 0$"
      ],
      "text/plain": [
       "0"
      ]
     },
     "metadata": {},
     "output_type": "display_data"
    },
    {
     "name": "stdout",
     "output_type": "stream",
     "text": [
      "tau =>\n"
     ]
    },
    {
     "data": {
      "text/latex": [
       "$\\displaystyle 0$"
      ],
      "text/plain": [
       "0"
      ]
     },
     "metadata": {},
     "output_type": "display_data"
    },
    {
     "name": "stdout",
     "output_type": "stream",
     "text": [
      "h^2 =>\n"
     ]
    },
    {
     "data": {
      "text/latex": [
       "$\\displaystyle \\frac{\\lambda \\left(- Re^{2} \\lambda \\left(4 \\lambda^{2} e^{2 \\lambda x} \\sin^{6}{\\left(\\pi y \\right)} - 6 \\lambda^{2} e^{2 \\lambda x} \\sin^{4}{\\left(\\pi y \\right)} + 2 \\lambda^{2} e^{2 \\lambda x} \\sin^{2}{\\left(\\pi y \\right)} - 24 \\pi^{2} e^{2 \\lambda x} \\sin^{6}{\\left(\\pi y \\right)} + 36 \\pi^{2} e^{2 \\lambda x} \\sin^{4}{\\left(\\pi y \\right)} - 14 \\pi^{2} e^{2 \\lambda x} \\sin^{2}{\\left(\\pi y \\right)} + \\pi^{2} e^{2 \\lambda x} - 16 \\pi^{2} e^{\\lambda x} \\sin^{4}{\\left(\\pi y \\right)} + 16 \\pi^{2} e^{\\lambda x} \\sin^{2}{\\left(\\pi y \\right)} - 2 \\pi^{2} e^{\\lambda x} - 2 \\pi^{2} \\sin^{2}{\\left(\\pi y \\right)} + \\pi^{2}\\right) + Re \\left(4 \\lambda^{4} e^{2 \\lambda x} \\sin^{6}{\\left(\\pi y \\right)} - 6 \\lambda^{4} e^{2 \\lambda x} \\sin^{4}{\\left(\\pi y \\right)} + 2 \\lambda^{4} e^{2 \\lambda x} \\sin^{2}{\\left(\\pi y \\right)} - 40 \\pi^{2} \\lambda^{2} e^{2 \\lambda x} \\sin^{6}{\\left(\\pi y \\right)} + 60 \\pi^{2} \\lambda^{2} e^{2 \\lambda x} \\sin^{4}{\\left(\\pi y \\right)} - 22 \\pi^{2} \\lambda^{2} e^{2 \\lambda x} \\sin^{2}{\\left(\\pi y \\right)} + \\pi^{2} \\lambda^{2} e^{2 \\lambda x} - 48 \\pi^{2} \\lambda^{2} e^{\\lambda x} \\sin^{4}{\\left(\\pi y \\right)} + 48 \\pi^{2} \\lambda^{2} e^{\\lambda x} \\sin^{2}{\\left(\\pi y \\right)} - 8 \\pi^{2} \\lambda^{2} e^{\\lambda x} + 96 \\pi^{4} e^{2 \\lambda x} \\sin^{6}{\\left(\\pi y \\right)} - 144 \\pi^{4} e^{2 \\lambda x} \\sin^{4}{\\left(\\pi y \\right)} + 56 \\pi^{4} e^{2 \\lambda x} \\sin^{2}{\\left(\\pi y \\right)} - 4 \\pi^{4} e^{2 \\lambda x} + 64 \\pi^{4} e^{\\lambda x} \\sin^{4}{\\left(\\pi y \\right)} - 64 \\pi^{4} e^{\\lambda x} \\sin^{2}{\\left(\\pi y \\right)} + 8 \\pi^{4} e^{\\lambda x} + 8 \\pi^{4} \\sin^{2}{\\left(\\pi y \\right)} - 4 \\pi^{4}\\right) + 2 \\pi^{2} \\lambda \\left(16 \\lambda^{2} e^{\\lambda x} \\sin^{4}{\\left(\\pi y \\right)} - 16 \\lambda^{2} e^{\\lambda x} \\sin^{2}{\\left(\\pi y \\right)} + 3 \\lambda^{2} e^{\\lambda x} - 64 \\pi^{2} e^{\\lambda x} \\sin^{4}{\\left(\\pi y \\right)} + 64 \\pi^{2} e^{\\lambda x} \\sin^{2}{\\left(\\pi y \\right)} - 12 \\pi^{2} e^{\\lambda x} + 8 \\pi^{2} \\sin^{2}{\\left(\\pi y \\right)} - 4 \\pi^{2}\\right)\\right) e^{\\lambda x}}{3 \\pi^{2}}$"
      ],
      "text/plain": [
       "lambda*(-Re**2*lambda*(4*lambda**2*exp(2*lambda*x)*sin(pi*y)**6 - 6*lambda**2*exp(2*lambda*x)*sin(pi*y)**4 + 2*lambda**2*exp(2*lambda*x)*sin(pi*y)**2 - 24*pi**2*exp(2*lambda*x)*sin(pi*y)**6 + 36*pi**2*exp(2*lambda*x)*sin(pi*y)**4 - 14*pi**2*exp(2*lambda*x)*sin(pi*y)**2 + pi**2*exp(2*lambda*x) - 16*pi**2*exp(lambda*x)*sin(pi*y)**4 + 16*pi**2*exp(lambda*x)*sin(pi*y)**2 - 2*pi**2*exp(lambda*x) - 2*pi**2*sin(pi*y)**2 + pi**2) + Re*(4*lambda**4*exp(2*lambda*x)*sin(pi*y)**6 - 6*lambda**4*exp(2*lambda*x)*sin(pi*y)**4 + 2*lambda**4*exp(2*lambda*x)*sin(pi*y)**2 - 40*pi**2*lambda**2*exp(2*lambda*x)*sin(pi*y)**6 + 60*pi**2*lambda**2*exp(2*lambda*x)*sin(pi*y)**4 - 22*pi**2*lambda**2*exp(2*lambda*x)*sin(pi*y)**2 + pi**2*lambda**2*exp(2*lambda*x) - 48*pi**2*lambda**2*exp(lambda*x)*sin(pi*y)**4 + 48*pi**2*lambda**2*exp(lambda*x)*sin(pi*y)**2 - 8*pi**2*lambda**2*exp(lambda*x) + 96*pi**4*exp(2*lambda*x)*sin(pi*y)**6 - 144*pi**4*exp(2*lambda*x)*sin(pi*y)**4 + 56*pi**4*exp(2*lambda*x)*sin(pi*y)**2 - 4*pi**4*exp(2*lambda*x) + 64*pi**4*exp(lambda*x)*sin(pi*y)**4 - 64*pi**4*exp(lambda*x)*sin(pi*y)**2 + 8*pi**4*exp(lambda*x) + 8*pi**4*sin(pi*y)**2 - 4*pi**4) + 2*pi**2*lambda*(16*lambda**2*exp(lambda*x)*sin(pi*y)**4 - 16*lambda**2*exp(lambda*x)*sin(pi*y)**2 + 3*lambda**2*exp(lambda*x) - 64*pi**2*exp(lambda*x)*sin(pi*y)**4 + 64*pi**2*exp(lambda*x)*sin(pi*y)**2 - 12*pi**2*exp(lambda*x) + 8*pi**2*sin(pi*y)**2 - 4*pi**2))*exp(lambda*x)/(3*pi**2)"
      ]
     },
     "metadata": {},
     "output_type": "display_data"
    },
    {
     "name": "stdout",
     "output_type": "stream",
     "text": [
      "0\n",
      "+\\tau\\big(\n",
      "0\n",
      "\\big)\n",
      "+h^2\\big(\n",
      "\\frac{\\lambda \\left(- Re^{2} \\lambda \\left(4 \\lambda^{2} e^{2 \\lambda x} \\sin^{6}{\\left(\\pi y \\right)} - 6 \\lambda^{2} e^{2 \\lambda x} \\sin^{4}{\\left(\\pi y \\right)} + 2 \\lambda^{2} e^{2 \\lambda x} \\sin^{2}{\\left(\\pi y \\right)} - 24 \\pi^{2} e^{2 \\lambda x} \\sin^{6}{\\left(\\pi y \\right)} + 36 \\pi^{2} e^{2 \\lambda x} \\sin^{4}{\\left(\\pi y \\right)} - 14 \\pi^{2} e^{2 \\lambda x} \\sin^{2}{\\left(\\pi y \\right)} + \\pi^{2} e^{2 \\lambda x} - 16 \\pi^{2} e^{\\lambda x} \\sin^{4}{\\left(\\pi y \\right)} + 16 \\pi^{2} e^{\\lambda x} \\sin^{2}{\\left(\\pi y \\right)} - 2 \\pi^{2} e^{\\lambda x} - 2 \\pi^{2} \\sin^{2}{\\left(\\pi y \\right)} + \\pi^{2}\\right) + Re \\left(4 \\lambda^{4} e^{2 \\lambda x} \\sin^{6}{\\left(\\pi y \\right)} - 6 \\lambda^{4} e^{2 \\lambda x} \\sin^{4}{\\left(\\pi y \\right)} + 2 \\lambda^{4} e^{2 \\lambda x} \\sin^{2}{\\left(\\pi y \\right)} - 40 \\pi^{2} \\lambda^{2} e^{2 \\lambda x} \\sin^{6}{\\left(\\pi y \\right)} + 60 \\pi^{2} \\lambda^{2} e^{2 \\lambda x} \\sin^{4}{\\left(\\pi y \\right)} - 22 \\pi^{2} \\lambda^{2} e^{2 \\lambda x} \\sin^{2}{\\left(\\pi y \\right)} + \\pi^{2} \\lambda^{2} e^{2 \\lambda x} - 48 \\pi^{2} \\lambda^{2} e^{\\lambda x} \\sin^{4}{\\left(\\pi y \\right)} + 48 \\pi^{2} \\lambda^{2} e^{\\lambda x} \\sin^{2}{\\left(\\pi y \\right)} - 8 \\pi^{2} \\lambda^{2} e^{\\lambda x} + 96 \\pi^{4} e^{2 \\lambda x} \\sin^{6}{\\left(\\pi y \\right)} - 144 \\pi^{4} e^{2 \\lambda x} \\sin^{4}{\\left(\\pi y \\right)} + 56 \\pi^{4} e^{2 \\lambda x} \\sin^{2}{\\left(\\pi y \\right)} - 4 \\pi^{4} e^{2 \\lambda x} + 64 \\pi^{4} e^{\\lambda x} \\sin^{4}{\\left(\\pi y \\right)} - 64 \\pi^{4} e^{\\lambda x} \\sin^{2}{\\left(\\pi y \\right)} + 8 \\pi^{4} e^{\\lambda x} + 8 \\pi^{4} \\sin^{2}{\\left(\\pi y \\right)} - 4 \\pi^{4}\\right) + 2 \\pi^{2} \\lambda \\left(16 \\lambda^{2} e^{\\lambda x} \\sin^{4}{\\left(\\pi y \\right)} - 16 \\lambda^{2} e^{\\lambda x} \\sin^{2}{\\left(\\pi y \\right)} + 3 \\lambda^{2} e^{\\lambda x} - 64 \\pi^{2} e^{\\lambda x} \\sin^{4}{\\left(\\pi y \\right)} + 64 \\pi^{2} e^{\\lambda x} \\sin^{2}{\\left(\\pi y \\right)} - 12 \\pi^{2} e^{\\lambda x} + 8 \\pi^{2} \\sin^{2}{\\left(\\pi y \\right)} - 4 \\pi^{2}\\right)\\right) e^{\\lambda x}}{3 \\pi^{2}}\n",
      "\\big)\n"
     ]
    },
    {
     "data": {
      "text/latex": [
       "$\\displaystyle 0$"
      ],
      "text/plain": [
       "0"
      ]
     },
     "metadata": {},
     "output_type": "display_data"
    },
    {
     "name": "stdout",
     "output_type": "stream",
     "text": [
      "tau =>\n"
     ]
    },
    {
     "data": {
      "text/latex": [
       "$\\displaystyle 0$"
      ],
      "text/plain": [
       "0"
      ]
     },
     "metadata": {},
     "output_type": "display_data"
    },
    {
     "name": "stdout",
     "output_type": "stream",
     "text": [
      "h^2 =>\n"
     ]
    },
    {
     "data": {
      "text/latex": [
       "$\\displaystyle 0$"
      ],
      "text/plain": [
       "0"
      ]
     },
     "metadata": {},
     "output_type": "display_data"
    },
    {
     "name": "stdout",
     "output_type": "stream",
     "text": [
      "0\n",
      "+\\tau\\big(\n",
      "0\n",
      "\\big)\n",
      "+h^2\\big(\n",
      "0\n",
      "\\big)\n"
     ]
    }
   ],
   "source": [
    "F1 = clip(Dx(u) + Dy(v))\n",
    "F2 = clip(Dt(u) + Dx(u**2) + Dy(v*u) + Dx(p) - DD(u)/Re)\n",
    "F3 = clip(Dt(v) + Dx(u*v) + Dy(v**2) + Dy(p) - DD(v)/Re)\n",
    "F4 = clip(Dx(Dx(u**2) + Dy(v*u) + Dx(p)) + Dy(Dx(u*v) + Dy(v**2) + Dy(p)))\n",
    "\n",
    "build(F1, F2, F3, F4)"
   ]
  },
  {
   "cell_type": "code",
   "execution_count": 19,
   "metadata": {},
   "outputs": [
    {
     "data": {
      "text/latex": [
       "$\\displaystyle u_{x} + v_{y}$"
      ],
      "text/plain": [
       "u_{x} + v_{y}"
      ]
     },
     "metadata": {},
     "output_type": "display_data"
    },
    {
     "name": "stdout",
     "output_type": "stream",
     "text": [
      "tau =>\n"
     ]
    },
    {
     "data": {
      "text/latex": [
       "$\\displaystyle 0$"
      ],
      "text/plain": [
       "0"
      ]
     },
     "metadata": {},
     "output_type": "display_data"
    },
    {
     "name": "stdout",
     "output_type": "stream",
     "text": [
      "h^2 =>\n"
     ]
    },
    {
     "data": {
      "text/latex": [
       "$\\displaystyle \\frac{u_{xxx} + v_{yyy}}{6}$"
      ],
      "text/plain": [
       "(u_{xxx} + v_{yyy})/6"
      ]
     },
     "metadata": {},
     "output_type": "display_data"
    },
    {
     "name": "stdout",
     "output_type": "stream",
     "text": [
      "u_{x} + v_{y}\n",
      "+\\tau\\big(\n",
      "0\n",
      "\\big)\n",
      "+h^2\\big(\n",
      "\\frac{u_{xxx} + v_{yyy}}{6}\n",
      "\\big)\n",
      "f1-f1-f1-f1-f1-f1-f1-f1-f1-f1-f1-f1-f1-f1-f1-f1-f1-f1-f1-f1-f1-f1-f1-f1-f1-\n"
     ]
    },
    {
     "data": {
      "text/latex": [
       "$\\displaystyle u_{x} + v_{y}$"
      ],
      "text/plain": [
       "u_{x} + v_{y}"
      ]
     },
     "metadata": {},
     "output_type": "display_data"
    },
    {
     "name": "stdout",
     "output_type": "stream",
     "text": [
      "tau =>\n"
     ]
    },
    {
     "data": {
      "text/latex": [
       "$\\displaystyle 0$"
      ],
      "text/plain": [
       "0"
      ]
     },
     "metadata": {},
     "output_type": "display_data"
    },
    {
     "name": "stdout",
     "output_type": "stream",
     "text": [
      "h^2 =>\n"
     ]
    },
    {
     "data": {
      "text/latex": [
       "$\\displaystyle - \\frac{Re \\left(p_{yy} + u v_{xy} + u_{y} v_{x} + v v_{yy} + v_{ty} + v_{y}^{2}\\right)}{6} + \\frac{v_{yyy}}{3}$"
      ],
      "text/plain": [
       "-Re*(p_{yy} + u*v_{xy} + u_{y}*v_{x} + v*v_{yy} + v_{ty} + v_{y}**2)/6 + v_{yyy}/3"
      ]
     },
     "metadata": {},
     "output_type": "display_data"
    },
    {
     "name": "stdout",
     "output_type": "stream",
     "text": [
      "u_{x} + v_{y}\n",
      "+\\tau\\big(\n",
      "0\n",
      "\\big)\n",
      "+h^2\\big(\n",
      "- \\frac{Re \\left(p_{yy} + u v_{xy} + u_{y} v_{x} + v v_{yy} + v_{ty} + v_{y}^{2}\\right)}{6} + \\frac{v_{yyy}}{3}\n",
      "\\big)\n"
     ]
    },
    {
     "data": {
      "text/latex": [
       "$\\displaystyle 0$"
      ],
      "text/plain": [
       "0"
      ]
     },
     "metadata": {},
     "output_type": "display_data"
    },
    {
     "name": "stdout",
     "output_type": "stream",
     "text": [
      "tau =>\n"
     ]
    },
    {
     "data": {
      "text/latex": [
       "$\\displaystyle 0$"
      ],
      "text/plain": [
       "0"
      ]
     },
     "metadata": {},
     "output_type": "display_data"
    },
    {
     "name": "stdout",
     "output_type": "stream",
     "text": [
      "h^2 =>\n"
     ]
    },
    {
     "data": {
      "text/latex": [
       "$\\displaystyle 0$"
      ],
      "text/plain": [
       "0"
      ]
     },
     "metadata": {},
     "output_type": "display_data"
    },
    {
     "name": "stdout",
     "output_type": "stream",
     "text": [
      "0\n",
      "+\\tau\\big(\n",
      "0\n",
      "\\big)\n",
      "+h^2\\big(\n",
      "0\n",
      "\\big)\n"
     ]
    },
    {
     "data": {
      "text/latex": [
       "$\\displaystyle 0$"
      ],
      "text/plain": [
       "0"
      ]
     },
     "metadata": {},
     "output_type": "display_data"
    },
    {
     "name": "stdout",
     "output_type": "stream",
     "text": [
      "tau =>\n"
     ]
    },
    {
     "data": {
      "text/latex": [
       "$\\displaystyle 0$"
      ],
      "text/plain": [
       "0"
      ]
     },
     "metadata": {},
     "output_type": "display_data"
    },
    {
     "name": "stdout",
     "output_type": "stream",
     "text": [
      "h^2 =>\n"
     ]
    },
    {
     "data": {
      "text/latex": [
       "$\\displaystyle - \\frac{\\lambda \\left(Re \\lambda + 8 \\pi^{2}\\right) e^{\\lambda x} \\cos{\\left(2 \\pi y \\right)}}{6}$"
      ],
      "text/plain": [
       "-lambda*(Re*lambda + 8*pi**2)*exp(lambda*x)*cos(2*pi*y)/6"
      ]
     },
     "metadata": {},
     "output_type": "display_data"
    },
    {
     "name": "stdout",
     "output_type": "stream",
     "text": [
      "0\n",
      "+\\tau\\big(\n",
      "0\n",
      "\\big)\n",
      "+h^2\\big(\n",
      "- \\frac{\\lambda \\left(Re \\lambda + 8 \\pi^{2}\\right) e^{\\lambda x} \\cos{\\left(2 \\pi y \\right)}}{6}\n",
      "\\big)\n",
      "-------------------------\n"
     ]
    },
    {
     "data": {
      "text/latex": [
       "$\\displaystyle p_{x} + 2 u u_{x} + u v_{y} + u_{t} + u_{y} v + \\frac{- u_{xx} - u_{yy}}{Re}$"
      ],
      "text/plain": [
       "p_{x} + 2*u*u_{x} + u*v_{y} + u_{t} + u_{y}*v + (-u_{xx} - u_{yy})/Re"
      ]
     },
     "metadata": {},
     "output_type": "display_data"
    },
    {
     "name": "stdout",
     "output_type": "stream",
     "text": [
      "tau =>\n"
     ]
    },
    {
     "data": {
      "text/latex": [
       "$\\displaystyle \\frac{u_{tt}}{2}$"
      ],
      "text/plain": [
       "u_{tt}/2"
      ]
     },
     "metadata": {},
     "output_type": "display_data"
    },
    {
     "name": "stdout",
     "output_type": "stream",
     "text": [
      "h^2 =>\n"
     ]
    },
    {
     "data": {
      "text/latex": [
       "$\\displaystyle \\frac{p_{xxx} + 2 u u_{xxx} + u v_{yyy} + 6 u_{xx} u_{x} + u_{yyy} v + 3 u_{yy} v_{y} + 3 u_{y} v_{yy}}{6} - \\frac{u_{xxxx} + u_{yyyy}}{3 Re}$"
      ],
      "text/plain": [
       "(p_{xxx} + 2*u*u_{xxx} + u*v_{yyy} + 6*u_{xx}*u_{x} + u_{yyy}*v + 3*u_{yy}*v_{y} + 3*u_{y}*v_{yy})/6 - (u_{xxxx} + u_{yyyy})/(3*Re)"
      ]
     },
     "metadata": {},
     "output_type": "display_data"
    },
    {
     "name": "stdout",
     "output_type": "stream",
     "text": [
      "p_{x} + 2 u u_{x} + u v_{y} + u_{t} + u_{y} v + \\frac{- u_{xx} - u_{yy}}{Re}\n",
      "+\\tau\\big(\n",
      "\\frac{u_{tt}}{2}\n",
      "\\big)\n",
      "+h^2\\big(\n",
      "\\frac{p_{xxx} + 2 u u_{xxx} + u v_{yyy} + 6 u_{xx} u_{x} + u_{yyy} v + 3 u_{yy} v_{y} + 3 u_{y} v_{yy}}{6} - \\frac{u_{xxxx} + u_{yyyy}}{3 Re}\n",
      "\\big)\n",
      "f2-f2-f2-f2-f2-f2-f2-f2-f2-f2-f2-f2-f2-f2-f2-f2-f2-f2-f2-f2-f2-f2-f2-f2-f2-\n"
     ]
    },
    {
     "data": {
      "text/latex": [
       "$\\displaystyle p_{x} + 2 u u_{x} + u v_{y} + u_{t} + u_{y} v + \\frac{- u_{xx} - u_{yy}}{Re}$"
      ],
      "text/plain": [
       "p_{x} + 2*u*u_{x} + u*v_{y} + u_{t} + u_{y}*v + (-u_{xx} - u_{yy})/Re"
      ]
     },
     "metadata": {},
     "output_type": "display_data"
    },
    {
     "name": "stdout",
     "output_type": "stream",
     "text": [
      "tau =>\n"
     ]
    },
    {
     "data": {
      "text/latex": [
       "$\\displaystyle \\frac{u_{tt}}{2}$"
      ],
      "text/plain": [
       "u_{tt}/2"
      ]
     },
     "metadata": {},
     "output_type": "display_data"
    },
    {
     "name": "stdout",
     "output_type": "stream",
     "text": [
      "h^2 =>\n"
     ]
    },
    {
     "data": {
      "text/latex": [
       "$\\displaystyle \\frac{Re^{2} v^{2} \\left(- p_{x} + u v_{y} - u_{t} - u_{y} v\\right)}{6} + \\frac{Re \\left(- 2 p_{tx} - p_{xy} v + p_{x} v_{y} + u v v_{yy} + 2 u v_{ty} - u v_{y}^{2} - 2 u_{tt} - 3 u_{ty} v + 3 u_{t} v_{y} + u_{y} v v_{y} - 2 u_{y} v_{t} - v^{2} v_{xy}\\right)}{6} + \\frac{- p_{xyy} + 3 u v_{yyy} + 5 u_{y} v_{yy} + v v_{xyy} + 5 v_{xy} v_{y} + 2 v_{x} v_{yy}}{6} - \\frac{2 v_{xyyy}}{3 Re}$"
      ],
      "text/plain": [
       "Re**2*v**2*(-p_{x} + u*v_{y} - u_{t} - u_{y}*v)/6 + Re*(-2*p_{tx} - p_{xy}*v + p_{x}*v_{y} + u*v*v_{yy} + 2*u*v_{ty} - u*v_{y}**2 - 2*u_{tt} - 3*u_{ty}*v + 3*u_{t}*v_{y} + u_{y}*v*v_{y} - 2*u_{y}*v_{t} - v**2*v_{xy})/6 + (-p_{xyy} + 3*u*v_{yyy} + 5*u_{y}*v_{yy} + v*v_{xyy} + 5*v_{xy}*v_{y} + 2*v_{x}*v_{yy})/6 - 2*v_{xyyy}/(3*Re)"
      ]
     },
     "metadata": {},
     "output_type": "display_data"
    },
    {
     "name": "stdout",
     "output_type": "stream",
     "text": [
      "p_{x} + 2 u u_{x} + u v_{y} + u_{t} + u_{y} v + \\frac{- u_{xx} - u_{yy}}{Re}\n",
      "+\\tau\\big(\n",
      "\\frac{u_{tt}}{2}\n",
      "\\big)\n",
      "+h^2\\big(\n",
      "\\frac{Re^{2} v^{2} \\left(- p_{x} + u v_{y} - u_{t} - u_{y} v\\right)}{6} + \\frac{Re \\left(- 2 p_{tx} - p_{xy} v + p_{x} v_{y} + u v v_{yy} + 2 u v_{ty} - u v_{y}^{2} - 2 u_{tt} - 3 u_{ty} v + 3 u_{t} v_{y} + u_{y} v v_{y} - 2 u_{y} v_{t} - v^{2} v_{xy}\\right)}{6} + \\frac{- p_{xyy} + 3 u v_{yyy} + 5 u_{y} v_{yy} + v v_{xyy} + 5 v_{xy} v_{y} + 2 v_{x} v_{yy}}{6} - \\frac{2 v_{xyyy}}{3 Re}\n",
      "\\big)\n"
     ]
    },
    {
     "data": {
      "text/latex": [
       "$\\displaystyle 0$"
      ],
      "text/plain": [
       "0"
      ]
     },
     "metadata": {},
     "output_type": "display_data"
    },
    {
     "name": "stdout",
     "output_type": "stream",
     "text": [
      "tau =>\n"
     ]
    },
    {
     "data": {
      "text/latex": [
       "$\\displaystyle - \\frac{2 e^{- \\frac{2 t}{Re}} \\sin{\\left(y \\right)} \\cos{\\left(x \\right)}}{Re^{2}}$"
      ],
      "text/plain": [
       "-2*exp(-2*t/Re)*sin(y)*cos(x)/Re**2"
      ]
     },
     "metadata": {},
     "output_type": "display_data"
    },
    {
     "name": "stdout",
     "output_type": "stream",
     "text": [
      "h^2 =>\n"
     ]
    },
    {
     "data": {
      "text/latex": [
       "$\\displaystyle \\frac{2 e^{- \\frac{2 t}{Re}} \\sin{\\left(y \\right)} \\cos{\\left(x \\right)}}{3 Re}$"
      ],
      "text/plain": [
       "2*exp(-2*t/Re)*sin(y)*cos(x)/(3*Re)"
      ]
     },
     "metadata": {},
     "output_type": "display_data"
    },
    {
     "name": "stdout",
     "output_type": "stream",
     "text": [
      "0\n",
      "+\\tau\\big(\n",
      "- \\frac{2 e^{- \\frac{2 t}{Re}} \\sin{\\left(y \\right)} \\cos{\\left(x \\right)}}{Re^{2}}\n",
      "\\big)\n",
      "+h^2\\big(\n",
      "\\frac{2 e^{- \\frac{2 t}{Re}} \\sin{\\left(y \\right)} \\cos{\\left(x \\right)}}{3 Re}\n",
      "\\big)\n"
     ]
    },
    {
     "data": {
      "text/latex": [
       "$\\displaystyle \\frac{\\left(- Re \\lambda + \\left(\\lambda - 2 \\pi\\right) \\left(\\lambda + 2 \\pi\\right)\\right) e^{\\lambda x} \\cos{\\left(2 \\pi y \\right)}}{Re}$"
      ],
      "text/plain": [
       "(-Re*lambda + (lambda - 2*pi)*(lambda + 2*pi))*exp(lambda*x)*cos(2*pi*y)/Re"
      ]
     },
     "metadata": {},
     "output_type": "display_data"
    },
    {
     "name": "stdout",
     "output_type": "stream",
     "text": [
      "tau =>\n"
     ]
    },
    {
     "data": {
      "text/latex": [
       "$\\displaystyle 0$"
      ],
      "text/plain": [
       "0"
      ]
     },
     "metadata": {},
     "output_type": "display_data"
    },
    {
     "name": "stdout",
     "output_type": "stream",
     "text": [
      "h^2 =>\n"
     ]
    },
    {
     "data": {
      "text/latex": [
       "$\\displaystyle \\frac{\\lambda \\left(Re^{2} \\lambda^{2} \\left(Re - \\lambda\\right) e^{2 \\lambda x} \\sin^{2}{\\left(2 \\pi y \\right)} \\cos{\\left(2 \\pi y \\right)} + 4 \\pi^{2} Re \\left(8 Re \\lambda e^{2 \\lambda x} \\sin^{6}{\\left(\\pi y \\right)} - 12 Re \\lambda e^{2 \\lambda x} \\sin^{4}{\\left(\\pi y \\right)} + 4 Re \\lambda e^{2 \\lambda x} \\sin^{2}{\\left(\\pi y \\right)} - Re \\lambda e^{\\lambda x} + 32 \\lambda^{2} e^{\\lambda x} \\sin^{4}{\\left(\\pi y \\right)} - 32 \\lambda^{2} e^{\\lambda x} \\sin^{2}{\\left(\\pi y \\right)} + 5 \\lambda^{2} e^{\\lambda x} + 128 \\pi^{2} e^{\\lambda x} \\sin^{4}{\\left(\\pi y \\right)} - 128 \\pi^{2} e^{\\lambda x} \\sin^{2}{\\left(\\pi y \\right)} + 12 \\pi^{2} e^{\\lambda x} + 24 \\pi^{2} \\sin^{2}{\\left(\\pi y \\right)} - 12 \\pi^{2}\\right) + 64 \\pi^{4} \\lambda \\cos{\\left(2 \\pi y \\right)}\\right) e^{\\lambda x}}{24 \\pi^{2} Re}$"
      ],
      "text/plain": [
       "lambda*(Re**2*lambda**2*(Re - lambda)*exp(2*lambda*x)*sin(2*pi*y)**2*cos(2*pi*y) + 4*pi**2*Re*(8*Re*lambda*exp(2*lambda*x)*sin(pi*y)**6 - 12*Re*lambda*exp(2*lambda*x)*sin(pi*y)**4 + 4*Re*lambda*exp(2*lambda*x)*sin(pi*y)**2 - Re*lambda*exp(lambda*x) + 32*lambda**2*exp(lambda*x)*sin(pi*y)**4 - 32*lambda**2*exp(lambda*x)*sin(pi*y)**2 + 5*lambda**2*exp(lambda*x) + 128*pi**2*exp(lambda*x)*sin(pi*y)**4 - 128*pi**2*exp(lambda*x)*sin(pi*y)**2 + 12*pi**2*exp(lambda*x) + 24*pi**2*sin(pi*y)**2 - 12*pi**2) + 64*pi**4*lambda*cos(2*pi*y))*exp(lambda*x)/(24*pi**2*Re)"
      ]
     },
     "metadata": {},
     "output_type": "display_data"
    },
    {
     "name": "stdout",
     "output_type": "stream",
     "text": [
      "\\frac{\\left(- Re \\lambda + \\left(\\lambda - 2 \\pi\\right) \\left(\\lambda + 2 \\pi\\right)\\right) e^{\\lambda x} \\cos{\\left(2 \\pi y \\right)}}{Re}\n",
      "+\\tau\\big(\n",
      "0\n",
      "\\big)\n",
      "+h^2\\big(\n",
      "\\frac{\\lambda \\left(Re^{2} \\lambda^{2} \\left(Re - \\lambda\\right) e^{2 \\lambda x} \\sin^{2}{\\left(2 \\pi y \\right)} \\cos{\\left(2 \\pi y \\right)} + 4 \\pi^{2} Re \\left(8 Re \\lambda e^{2 \\lambda x} \\sin^{6}{\\left(\\pi y \\right)} - 12 Re \\lambda e^{2 \\lambda x} \\sin^{4}{\\left(\\pi y \\right)} + 4 Re \\lambda e^{2 \\lambda x} \\sin^{2}{\\left(\\pi y \\right)} - Re \\lambda e^{\\lambda x} + 32 \\lambda^{2} e^{\\lambda x} \\sin^{4}{\\left(\\pi y \\right)} - 32 \\lambda^{2} e^{\\lambda x} \\sin^{2}{\\left(\\pi y \\right)} + 5 \\lambda^{2} e^{\\lambda x} + 128 \\pi^{2} e^{\\lambda x} \\sin^{4}{\\left(\\pi y \\right)} - 128 \\pi^{2} e^{\\lambda x} \\sin^{2}{\\left(\\pi y \\right)} + 12 \\pi^{2} e^{\\lambda x} + 24 \\pi^{2} \\sin^{2}{\\left(\\pi y \\right)} - 12 \\pi^{2}\\right) + 64 \\pi^{4} \\lambda \\cos{\\left(2 \\pi y \\right)}\\right) e^{\\lambda x}}{24 \\pi^{2} Re}\n",
      "\\big)\n",
      "-------------------------\n"
     ]
    },
    {
     "data": {
      "text/latex": [
       "$\\displaystyle p_{y} + u v_{x} + u_{x} v + 2 v v_{y} + v_{t} + \\frac{- v_{xx} - v_{yy}}{Re}$"
      ],
      "text/plain": [
       "p_{y} + u*v_{x} + u_{x}*v + 2*v*v_{y} + v_{t} + (-v_{xx} - v_{yy})/Re"
      ]
     },
     "metadata": {},
     "output_type": "display_data"
    },
    {
     "name": "stdout",
     "output_type": "stream",
     "text": [
      "tau =>\n"
     ]
    },
    {
     "data": {
      "text/latex": [
       "$\\displaystyle \\frac{v_{tt}}{2}$"
      ],
      "text/plain": [
       "v_{tt}/2"
      ]
     },
     "metadata": {},
     "output_type": "display_data"
    },
    {
     "name": "stdout",
     "output_type": "stream",
     "text": [
      "h^2 =>\n"
     ]
    },
    {
     "data": {
      "text/latex": [
       "$\\displaystyle \\frac{p_{yyy} + u v_{xxx} + u_{xxx} v + 3 u_{xx} v_{x} + 3 u_{x} v_{xx} + 2 v v_{yyy} + 6 v_{yy} v_{y}}{6} - \\frac{v_{xxxx} + v_{yyyy}}{3 Re}$"
      ],
      "text/plain": [
       "(p_{yyy} + u*v_{xxx} + u_{xxx}*v + 3*u_{xx}*v_{x} + 3*u_{x}*v_{xx} + 2*v*v_{yyy} + 6*v_{yy}*v_{y})/6 - (v_{xxxx} + v_{yyyy})/(3*Re)"
      ]
     },
     "metadata": {},
     "output_type": "display_data"
    },
    {
     "name": "stdout",
     "output_type": "stream",
     "text": [
      "p_{y} + u v_{x} + u_{x} v + 2 v v_{y} + v_{t} + \\frac{- v_{xx} - v_{yy}}{Re}\n",
      "+\\tau\\big(\n",
      "\\frac{v_{tt}}{2}\n",
      "\\big)\n",
      "+h^2\\big(\n",
      "\\frac{p_{yyy} + u v_{xxx} + u_{xxx} v + 3 u_{xx} v_{x} + 3 u_{x} v_{xx} + 2 v v_{yyy} + 6 v_{yy} v_{y}}{6} - \\frac{v_{xxxx} + v_{yyyy}}{3 Re}\n",
      "\\big)\n",
      "f3-f3-f3-f3-f3-f3-f3-f3-f3-f3-f3-f3-f3-f3-f3-f3-f3-f3-f3-f3-f3-f3-f3-f3-f3-\n"
     ]
    },
    {
     "data": {
      "text/latex": [
       "$\\displaystyle p_{y} + u v_{x} + u_{x} v + 2 v v_{y} + v_{t} + \\frac{- v_{xx} - v_{yy}}{Re}$"
      ],
      "text/plain": [
       "p_{y} + u*v_{x} + u_{x}*v + 2*v*v_{y} + v_{t} + (-v_{xx} - v_{yy})/Re"
      ]
     },
     "metadata": {},
     "output_type": "display_data"
    },
    {
     "name": "stdout",
     "output_type": "stream",
     "text": [
      "tau =>\n"
     ]
    },
    {
     "data": {
      "text/latex": [
       "$\\displaystyle \\frac{v_{tt}}{2}$"
      ],
      "text/plain": [
       "v_{tt}/2"
      ]
     },
     "metadata": {},
     "output_type": "display_data"
    },
    {
     "name": "stdout",
     "output_type": "stream",
     "text": [
      "h^2 =>\n"
     ]
    },
    {
     "data": {
      "text/latex": [
       "$\\displaystyle - \\frac{Re^{2} u^{2} \\left(p_{y} + u v_{x} + v v_{y} + v_{t}\\right)}{6} + \\frac{Re \\left(- 2 p_{ty} - p_{xy} u + 6 p_{x} v_{x} - 3 p_{yy} v - p_{y} v_{y} + u^{2} v_{yy} - 4 u v v_{xy} - 3 u v_{tx} - 7 u v_{x} v_{y} + 4 u_{t} v_{x} + 3 u_{y} v v_{x} - 3 v^{2} v_{yy} - 5 v v_{ty} - 4 v v_{y}^{2} - 2 v_{tt} - 3 v_{t} v_{y}\\right)}{6} + \\frac{5 p_{yyy} + 3 u v_{xyy} + 8 u_{y} v_{xy} + 7 v v_{yyy} + 4 v_{tyy} + v_{xy} v_{x} + 21 v_{yy} v_{y}}{6} - \\frac{2 v_{yyyy}}{3 Re}$"
      ],
      "text/plain": [
       "-Re**2*u**2*(p_{y} + u*v_{x} + v*v_{y} + v_{t})/6 + Re*(-2*p_{ty} - p_{xy}*u + 6*p_{x}*v_{x} - 3*p_{yy}*v - p_{y}*v_{y} + u**2*v_{yy} - 4*u*v*v_{xy} - 3*u*v_{tx} - 7*u*v_{x}*v_{y} + 4*u_{t}*v_{x} + 3*u_{y}*v*v_{x} - 3*v**2*v_{yy} - 5*v*v_{ty} - 4*v*v_{y}**2 - 2*v_{tt} - 3*v_{t}*v_{y})/6 + (5*p_{yyy} + 3*u*v_{xyy} + 8*u_{y}*v_{xy} + 7*v*v_{yyy} + 4*v_{tyy} + v_{xy}*v_{x} + 21*v_{yy}*v_{y})/6 - 2*v_{yyyy}/(3*Re)"
      ]
     },
     "metadata": {},
     "output_type": "display_data"
    },
    {
     "name": "stdout",
     "output_type": "stream",
     "text": [
      "p_{y} + u v_{x} + u_{x} v + 2 v v_{y} + v_{t} + \\frac{- v_{xx} - v_{yy}}{Re}\n",
      "+\\tau\\big(\n",
      "\\frac{v_{tt}}{2}\n",
      "\\big)\n",
      "+h^2\\big(\n",
      "- \\frac{Re^{2} u^{2} \\left(p_{y} + u v_{x} + v v_{y} + v_{t}\\right)}{6} + \\frac{Re \\left(- 2 p_{ty} - p_{xy} u + 6 p_{x} v_{x} - 3 p_{yy} v - p_{y} v_{y} + u^{2} v_{yy} - 4 u v v_{xy} - 3 u v_{tx} - 7 u v_{x} v_{y} + 4 u_{t} v_{x} + 3 u_{y} v v_{x} - 3 v^{2} v_{yy} - 5 v v_{ty} - 4 v v_{y}^{2} - 2 v_{tt} - 3 v_{t} v_{y}\\right)}{6} + \\frac{5 p_{yyy} + 3 u v_{xyy} + 8 u_{y} v_{xy} + 7 v v_{yyy} + 4 v_{tyy} + v_{xy} v_{x} + 21 v_{yy} v_{y}}{6} - \\frac{2 v_{yyyy}}{3 Re}\n",
      "\\big)\n"
     ]
    },
    {
     "data": {
      "text/latex": [
       "$\\displaystyle 0$"
      ],
      "text/plain": [
       "0"
      ]
     },
     "metadata": {},
     "output_type": "display_data"
    },
    {
     "name": "stdout",
     "output_type": "stream",
     "text": [
      "tau =>\n"
     ]
    },
    {
     "data": {
      "text/latex": [
       "$\\displaystyle \\frac{2 e^{- \\frac{2 t}{Re}} \\sin{\\left(x \\right)} \\cos{\\left(y \\right)}}{Re^{2}}$"
      ],
      "text/plain": [
       "2*exp(-2*t/Re)*sin(x)*cos(y)/Re**2"
      ]
     },
     "metadata": {},
     "output_type": "display_data"
    },
    {
     "name": "stdout",
     "output_type": "stream",
     "text": [
      "h^2 =>\n"
     ]
    },
    {
     "data": {
      "text/latex": [
       "$\\displaystyle - \\frac{2 e^{- \\frac{2 t}{Re}} \\sin{\\left(x \\right)} \\cos{\\left(y \\right)}}{3 Re}$"
      ],
      "text/plain": [
       "-2*exp(-2*t/Re)*sin(x)*cos(y)/(3*Re)"
      ]
     },
     "metadata": {},
     "output_type": "display_data"
    },
    {
     "name": "stdout",
     "output_type": "stream",
     "text": [
      "0\n",
      "+\\tau\\big(\n",
      "\\frac{2 e^{- \\frac{2 t}{Re}} \\sin{\\left(x \\right)} \\cos{\\left(y \\right)}}{Re^{2}}\n",
      "\\big)\n",
      "+h^2\\big(\n",
      "- \\frac{2 e^{- \\frac{2 t}{Re}} \\sin{\\left(x \\right)} \\cos{\\left(y \\right)}}{3 Re}\n",
      "\\big)\n"
     ]
    },
    {
     "data": {
      "text/latex": [
       "$\\displaystyle \\frac{\\lambda \\left(Re \\lambda - \\left(\\lambda - 2 \\pi\\right) \\left(\\lambda + 2 \\pi\\right)\\right) e^{\\lambda x} \\sin{\\left(2 \\pi y \\right)}}{2 \\pi Re}$"
      ],
      "text/plain": [
       "lambda*(Re*lambda - (lambda - 2*pi)*(lambda + 2*pi))*exp(lambda*x)*sin(2*pi*y)/(2*pi*Re)"
      ]
     },
     "metadata": {},
     "output_type": "display_data"
    },
    {
     "name": "stdout",
     "output_type": "stream",
     "text": [
      "tau =>\n"
     ]
    },
    {
     "data": {
      "text/latex": [
       "$\\displaystyle 0$"
      ],
      "text/plain": [
       "0"
      ]
     },
     "metadata": {},
     "output_type": "display_data"
    },
    {
     "name": "stdout",
     "output_type": "stream",
     "text": [
      "h^2 =>\n"
     ]
    },
    {
     "data": {
      "text/latex": [
       "$\\displaystyle \\frac{\\lambda \\left(Re \\left(- Re^{2} \\lambda e^{2 \\lambda x} \\cos^{2}{\\left(2 \\pi y \\right)} + 2 Re^{2} \\lambda e^{\\lambda x} \\cos{\\left(2 \\pi y \\right)} - Re^{2} \\lambda + 6 Re \\lambda^{2} e^{2 \\lambda x} \\sin^{2}{\\left(2 \\pi y \\right)} + 7 Re \\lambda^{2} e^{2 \\lambda x} \\cos^{2}{\\left(2 \\pi y \\right)} - 6 Re \\lambda^{2} e^{2 \\lambda x} - 11 Re \\lambda^{2} e^{\\lambda x} \\cos{\\left(2 \\pi y \\right)} - 4 \\pi^{2} Re e^{2 \\lambda x} \\cos^{2}{\\left(2 \\pi y \\right)} + 8 \\pi^{2} Re e^{\\lambda x} \\cos{\\left(2 \\pi y \\right)} - 4 \\pi^{2} Re + \\lambda^{3} e^{\\lambda x} \\cos{\\left(2 \\pi y \\right)} - 68 \\pi^{2} \\lambda e^{\\lambda x} \\cos{\\left(2 \\pi y \\right)} - 12 \\pi^{2} \\lambda\\right) - 64 \\pi^{4}\\right) e^{\\lambda x} \\sin{\\left(2 \\pi y \\right)}}{12 \\pi Re}$"
      ],
      "text/plain": [
       "lambda*(Re*(-Re**2*lambda*exp(2*lambda*x)*cos(2*pi*y)**2 + 2*Re**2*lambda*exp(lambda*x)*cos(2*pi*y) - Re**2*lambda + 6*Re*lambda**2*exp(2*lambda*x)*sin(2*pi*y)**2 + 7*Re*lambda**2*exp(2*lambda*x)*cos(2*pi*y)**2 - 6*Re*lambda**2*exp(2*lambda*x) - 11*Re*lambda**2*exp(lambda*x)*cos(2*pi*y) - 4*pi**2*Re*exp(2*lambda*x)*cos(2*pi*y)**2 + 8*pi**2*Re*exp(lambda*x)*cos(2*pi*y) - 4*pi**2*Re + lambda**3*exp(lambda*x)*cos(2*pi*y) - 68*pi**2*lambda*exp(lambda*x)*cos(2*pi*y) - 12*pi**2*lambda) - 64*pi**4)*exp(lambda*x)*sin(2*pi*y)/(12*pi*Re)"
      ]
     },
     "metadata": {},
     "output_type": "display_data"
    },
    {
     "name": "stdout",
     "output_type": "stream",
     "text": [
      "\\frac{\\lambda \\left(Re \\lambda - \\left(\\lambda - 2 \\pi\\right) \\left(\\lambda + 2 \\pi\\right)\\right) e^{\\lambda x} \\sin{\\left(2 \\pi y \\right)}}{2 \\pi Re}\n",
      "+\\tau\\big(\n",
      "0\n",
      "\\big)\n",
      "+h^2\\big(\n",
      "\\frac{\\lambda \\left(Re \\left(- Re^{2} \\lambda e^{2 \\lambda x} \\cos^{2}{\\left(2 \\pi y \\right)} + 2 Re^{2} \\lambda e^{\\lambda x} \\cos{\\left(2 \\pi y \\right)} - Re^{2} \\lambda + 6 Re \\lambda^{2} e^{2 \\lambda x} \\sin^{2}{\\left(2 \\pi y \\right)} + 7 Re \\lambda^{2} e^{2 \\lambda x} \\cos^{2}{\\left(2 \\pi y \\right)} - 6 Re \\lambda^{2} e^{2 \\lambda x} - 11 Re \\lambda^{2} e^{\\lambda x} \\cos{\\left(2 \\pi y \\right)} - 4 \\pi^{2} Re e^{2 \\lambda x} \\cos^{2}{\\left(2 \\pi y \\right)} + 8 \\pi^{2} Re e^{\\lambda x} \\cos{\\left(2 \\pi y \\right)} - 4 \\pi^{2} Re + \\lambda^{3} e^{\\lambda x} \\cos{\\left(2 \\pi y \\right)} - 68 \\pi^{2} \\lambda e^{\\lambda x} \\cos{\\left(2 \\pi y \\right)} - 12 \\pi^{2} \\lambda\\right) - 64 \\pi^{4}\\right) e^{\\lambda x} \\sin{\\left(2 \\pi y \\right)}}{12 \\pi Re}\n",
      "\\big)\n",
      "-------------------------\n"
     ]
    },
    {
     "data": {
      "text/latex": [
       "$\\displaystyle p_{xx} + p_{yy} + 2 u u_{xx} + 2 u v_{xy} + 2 u_{xy} v + 2 u_{x}^{2} + 2 u_{x} v_{y} + 2 u_{y} v_{x} + 2 v v_{yy} + 2 v_{y}^{2}$"
      ],
      "text/plain": [
       "p_{xx} + p_{yy} + 2*u*u_{xx} + 2*u*v_{xy} + 2*u_{xy}*v + 2*u_{x}**2 + 2*u_{x}*v_{y} + 2*u_{y}*v_{x} + 2*v*v_{yy} + 2*v_{y}**2"
      ]
     },
     "metadata": {},
     "output_type": "display_data"
    },
    {
     "name": "stdout",
     "output_type": "stream",
     "text": [
      "tau =>\n"
     ]
    },
    {
     "data": {
      "text/latex": [
       "$\\displaystyle 0$"
      ],
      "text/plain": [
       "0"
      ]
     },
     "metadata": {},
     "output_type": "display_data"
    },
    {
     "name": "stdout",
     "output_type": "stream",
     "text": [
      "h^2 =>\n"
     ]
    },
    {
     "data": {
      "text/latex": [
       "$\\displaystyle \\frac{p_{xxxx} + p_{yyyy} + 2 u u_{xxxx} + u v_{xxxy} + u v_{xyyy} + u_{xxxy} v + 8 u_{xxx} u_{x} + u_{xxx} v_{y} + 3 u_{xxy} v_{x} + 6 u_{xx}^{2} + 3 u_{xx} v_{xy} + u_{xyyy} v + 3 u_{xyy} v_{y} + 3 u_{xy} v_{xx} + 3 u_{xy} v_{yy} + 3 u_{x} v_{xxy} + u_{x} v_{yyy} + u_{yyy} v_{x} + 3 u_{yy} v_{xy} + u_{y} v_{xxx} + 3 u_{y} v_{xyy} + 2 v v_{yyyy} + 8 v_{yyy} v_{y} + 6 v_{yy}^{2}}{3}$"
      ],
      "text/plain": [
       "(p_{xxxx} + p_{yyyy} + 2*u*u_{xxxx} + u*v_{xxxy} + u*v_{xyyy} + u_{xxxy}*v + 8*u_{xxx}*u_{x} + u_{xxx}*v_{y} + 3*u_{xxy}*v_{x} + 6*u_{xx}**2 + 3*u_{xx}*v_{xy} + u_{xyyy}*v + 3*u_{xyy}*v_{y} + 3*u_{xy}*v_{xx} + 3*u_{xy}*v_{yy} + 3*u_{x}*v_{xxy} + u_{x}*v_{yyy} + u_{yyy}*v_{x} + 3*u_{yy}*v_{xy} + u_{y}*v_{xxx} + 3*u_{y}*v_{xyy} + 2*v*v_{yyyy} + 8*v_{yyy}*v_{y} + 6*v_{yy}**2)/3"
      ]
     },
     "metadata": {},
     "output_type": "display_data"
    },
    {
     "name": "stdout",
     "output_type": "stream",
     "text": [
      "p_{xx} + p_{yy} + 2 u u_{xx} + 2 u v_{xy} + 2 u_{xy} v + 2 u_{x}^{2} + 2 u_{x} v_{y} + 2 u_{y} v_{x} + 2 v v_{yy} + 2 v_{y}^{2}\n",
      "+\\tau\\big(\n",
      "0\n",
      "\\big)\n",
      "+h^2\\big(\n",
      "\\frac{p_{xxxx} + p_{yyyy} + 2 u u_{xxxx} + u v_{xxxy} + u v_{xyyy} + u_{xxxy} v + 8 u_{xxx} u_{x} + u_{xxx} v_{y} + 3 u_{xxy} v_{x} + 6 u_{xx}^{2} + 3 u_{xx} v_{xy} + u_{xyyy} v + 3 u_{xyy} v_{y} + 3 u_{xy} v_{xx} + 3 u_{xy} v_{yy} + 3 u_{x} v_{xxy} + u_{x} v_{yyy} + u_{yyy} v_{x} + 3 u_{yy} v_{xy} + u_{y} v_{xxx} + 3 u_{y} v_{xyy} + 2 v v_{yyyy} + 8 v_{yyy} v_{y} + 6 v_{yy}^{2}}{3}\n",
      "\\big)\n",
      "f4-f4-f4-f4-f4-f4-f4-f4-f4-f4-f4-f4-f4-f4-f4-f4-f4-f4-f4-f4-f4-f4-f4-f4-f4-\n"
     ]
    },
    {
     "data": {
      "text/latex": [
       "$\\displaystyle p_{xx} + p_{yy} + 2 u u_{xx} + 2 u v_{xy} + 2 u_{xy} v + 2 u_{x}^{2} + 2 u_{x} v_{y} + 2 u_{y} v_{x} + 2 v v_{yy} + 2 v_{y}^{2}$"
      ],
      "text/plain": [
       "p_{xx} + p_{yy} + 2*u*u_{xx} + 2*u*v_{xy} + 2*u_{xy}*v + 2*u_{x}**2 + 2*u_{x}*v_{y} + 2*u_{y}*v_{x} + 2*v*v_{yy} + 2*v_{y}**2"
      ]
     },
     "metadata": {},
     "output_type": "display_data"
    },
    {
     "name": "stdout",
     "output_type": "stream",
     "text": [
      "tau =>\n"
     ]
    },
    {
     "data": {
      "text/latex": [
       "$\\displaystyle 0$"
      ],
      "text/plain": [
       "0"
      ]
     },
     "metadata": {},
     "output_type": "display_data"
    },
    {
     "name": "stdout",
     "output_type": "stream",
     "text": [
      "h^2 =>\n"
     ]
    },
    {
     "data": {
      "text/latex": [
       "$\\displaystyle - \\frac{Re^{2} \\left(- 2 p_{x} v v_{x} + p_{yy} u^{2} + 2 p_{y} u u_{y} + u^{3} v_{xy} + 3 u^{2} u_{y} v_{x} + u^{2} v v_{yy} + u^{2} v_{ty} + u^{2} v_{y}^{2} + 2 u u_{y} v v_{y} + 2 u u_{y} v_{t} + 2 u v v_{x} v_{y} - 2 u_{t} v v_{x} - 2 u_{y} v^{2} v_{x}\\right)}{3} + \\frac{Re \\left(- p_{xyy} u - p_{xy} u_{y} + 3 p_{xy} v_{x} + 7 p_{x} v_{xy} - p_{yyy} v + p_{y} v_{yy} + u^{2} v_{yyy} + 2 u u_{y} v_{yy} - 2 u v v_{xyy} - u v_{txy} - 8 u v_{xy} v_{y} - 2 u v_{x} v_{yy} + 3 u_{ty} v_{x} + 7 u_{t} v_{xy} + 4 u_{y} v v_{xy} - u_{y} v_{tx} - v^{2} v_{yyy} - v v_{tyy} + 2 v v_{xy} v_{x} - 2 v v_{yy} v_{y} + v_{t} v_{yy}\\right)}{3} + \\frac{2 \\left(p_{yyyy} + u v_{xyyy} + 3 u_{y} v_{xyy} + v v_{yyyy} + v_{xyy} v_{x} + 3 v_{xy}^{2} + 4 v_{yyy} v_{y} + 3 v_{yy}^{2}\\right)}{3}$"
      ],
      "text/plain": [
       "-Re**2*(-2*p_{x}*v*v_{x} + p_{yy}*u**2 + 2*p_{y}*u*u_{y} + u**3*v_{xy} + 3*u**2*u_{y}*v_{x} + u**2*v*v_{yy} + u**2*v_{ty} + u**2*v_{y}**2 + 2*u*u_{y}*v*v_{y} + 2*u*u_{y}*v_{t} + 2*u*v*v_{x}*v_{y} - 2*u_{t}*v*v_{x} - 2*u_{y}*v**2*v_{x})/3 + Re*(-p_{xyy}*u - p_{xy}*u_{y} + 3*p_{xy}*v_{x} + 7*p_{x}*v_{xy} - p_{yyy}*v + p_{y}*v_{yy} + u**2*v_{yyy} + 2*u*u_{y}*v_{yy} - 2*u*v*v_{xyy} - u*v_{txy} - 8*u*v_{xy}*v_{y} - 2*u*v_{x}*v_{yy} + 3*u_{ty}*v_{x} + 7*u_{t}*v_{xy} + 4*u_{y}*v*v_{xy} - u_{y}*v_{tx} - v**2*v_{yyy} - v*v_{tyy} + 2*v*v_{xy}*v_{x} - 2*v*v_{yy}*v_{y} + v_{t}*v_{yy})/3 + 2*(p_{yyyy} + u*v_{xyyy} + 3*u_{y}*v_{xyy} + v*v_{yyyy} + v_{xyy}*v_{x} + 3*v_{xy}**2 + 4*v_{yyy}*v_{y} + 3*v_{yy}**2)/3"
      ]
     },
     "metadata": {},
     "output_type": "display_data"
    },
    {
     "name": "stdout",
     "output_type": "stream",
     "text": [
      "p_{xx} + p_{yy} + 2 u u_{xx} + 2 u v_{xy} + 2 u_{xy} v + 2 u_{x}^{2} + 2 u_{x} v_{y} + 2 u_{y} v_{x} + 2 v v_{yy} + 2 v_{y}^{2}\n",
      "+\\tau\\big(\n",
      "0\n",
      "\\big)\n",
      "+h^2\\big(\n",
      "- \\frac{Re^{2} \\left(- 2 p_{x} v v_{x} + p_{yy} u^{2} + 2 p_{y} u u_{y} + u^{3} v_{xy} + 3 u^{2} u_{y} v_{x} + u^{2} v v_{yy} + u^{2} v_{ty} + u^{2} v_{y}^{2} + 2 u u_{y} v v_{y} + 2 u u_{y} v_{t} + 2 u v v_{x} v_{y} - 2 u_{t} v v_{x} - 2 u_{y} v^{2} v_{x}\\right)}{3} + \\frac{Re \\left(- p_{xyy} u - p_{xy} u_{y} + 3 p_{xy} v_{x} + 7 p_{x} v_{xy} - p_{yyy} v + p_{y} v_{yy} + u^{2} v_{yyy} + 2 u u_{y} v_{yy} - 2 u v v_{xyy} - u v_{txy} - 8 u v_{xy} v_{y} - 2 u v_{x} v_{yy} + 3 u_{ty} v_{x} + 7 u_{t} v_{xy} + 4 u_{y} v v_{xy} - u_{y} v_{tx} - v^{2} v_{yyy} - v v_{tyy} + 2 v v_{xy} v_{x} - 2 v v_{yy} v_{y} + v_{t} v_{yy}\\right)}{3} + \\frac{2 \\left(p_{yyyy} + u v_{xyyy} + 3 u_{y} v_{xyy} + v v_{yyyy} + v_{xyy} v_{x} + 3 v_{xy}^{2} + 4 v_{yyy} v_{y} + 3 v_{yy}^{2}\\right)}{3}\n",
      "\\big)\n"
     ]
    },
    {
     "data": {
      "text/latex": [
       "$\\displaystyle 0$"
      ],
      "text/plain": [
       "0"
      ]
     },
     "metadata": {},
     "output_type": "display_data"
    },
    {
     "name": "stdout",
     "output_type": "stream",
     "text": [
      "tau =>\n"
     ]
    },
    {
     "data": {
      "text/latex": [
       "$\\displaystyle 0$"
      ],
      "text/plain": [
       "0"
      ]
     },
     "metadata": {},
     "output_type": "display_data"
    },
    {
     "name": "stdout",
     "output_type": "stream",
     "text": [
      "h^2 =>\n"
     ]
    },
    {
     "data": {
      "text/latex": [
       "$\\displaystyle 0$"
      ],
      "text/plain": [
       "0"
      ]
     },
     "metadata": {},
     "output_type": "display_data"
    },
    {
     "name": "stdout",
     "output_type": "stream",
     "text": [
      "0\n",
      "+\\tau\\big(\n",
      "0\n",
      "\\big)\n",
      "+h^2\\big(\n",
      "0\n",
      "\\big)\n"
     ]
    },
    {
     "data": {
      "text/latex": [
       "$\\displaystyle 0$"
      ],
      "text/plain": [
       "0"
      ]
     },
     "metadata": {},
     "output_type": "display_data"
    },
    {
     "name": "stdout",
     "output_type": "stream",
     "text": [
      "tau =>\n"
     ]
    },
    {
     "data": {
      "text/latex": [
       "$\\displaystyle 0$"
      ],
      "text/plain": [
       "0"
      ]
     },
     "metadata": {},
     "output_type": "display_data"
    },
    {
     "name": "stdout",
     "output_type": "stream",
     "text": [
      "h^2 =>\n"
     ]
    },
    {
     "data": {
      "text/latex": [
       "$\\displaystyle \\frac{\\lambda \\left(- Re^{2} \\lambda \\left(4 \\lambda^{2} e^{2 \\lambda x} \\sin^{6}{\\left(\\pi y \\right)} - 6 \\lambda^{2} e^{2 \\lambda x} \\sin^{4}{\\left(\\pi y \\right)} + 2 \\lambda^{2} e^{2 \\lambda x} \\sin^{2}{\\left(\\pi y \\right)} - 24 \\pi^{2} e^{2 \\lambda x} \\sin^{6}{\\left(\\pi y \\right)} + 36 \\pi^{2} e^{2 \\lambda x} \\sin^{4}{\\left(\\pi y \\right)} - 14 \\pi^{2} e^{2 \\lambda x} \\sin^{2}{\\left(\\pi y \\right)} + \\pi^{2} e^{2 \\lambda x} - 16 \\pi^{2} e^{\\lambda x} \\sin^{4}{\\left(\\pi y \\right)} + 16 \\pi^{2} e^{\\lambda x} \\sin^{2}{\\left(\\pi y \\right)} - 2 \\pi^{2} e^{\\lambda x} - 2 \\pi^{2} \\sin^{2}{\\left(\\pi y \\right)} + \\pi^{2}\\right) + Re \\left(4 \\lambda^{4} e^{2 \\lambda x} \\sin^{6}{\\left(\\pi y \\right)} - 6 \\lambda^{4} e^{2 \\lambda x} \\sin^{4}{\\left(\\pi y \\right)} + 2 \\lambda^{4} e^{2 \\lambda x} \\sin^{2}{\\left(\\pi y \\right)} - 40 \\pi^{2} \\lambda^{2} e^{2 \\lambda x} \\sin^{6}{\\left(\\pi y \\right)} + 60 \\pi^{2} \\lambda^{2} e^{2 \\lambda x} \\sin^{4}{\\left(\\pi y \\right)} - 22 \\pi^{2} \\lambda^{2} e^{2 \\lambda x} \\sin^{2}{\\left(\\pi y \\right)} + \\pi^{2} \\lambda^{2} e^{2 \\lambda x} - 48 \\pi^{2} \\lambda^{2} e^{\\lambda x} \\sin^{4}{\\left(\\pi y \\right)} + 48 \\pi^{2} \\lambda^{2} e^{\\lambda x} \\sin^{2}{\\left(\\pi y \\right)} - 8 \\pi^{2} \\lambda^{2} e^{\\lambda x} + 96 \\pi^{4} e^{2 \\lambda x} \\sin^{6}{\\left(\\pi y \\right)} - 144 \\pi^{4} e^{2 \\lambda x} \\sin^{4}{\\left(\\pi y \\right)} + 56 \\pi^{4} e^{2 \\lambda x} \\sin^{2}{\\left(\\pi y \\right)} - 4 \\pi^{4} e^{2 \\lambda x} + 64 \\pi^{4} e^{\\lambda x} \\sin^{4}{\\left(\\pi y \\right)} - 64 \\pi^{4} e^{\\lambda x} \\sin^{2}{\\left(\\pi y \\right)} + 8 \\pi^{4} e^{\\lambda x} + 8 \\pi^{4} \\sin^{2}{\\left(\\pi y \\right)} - 4 \\pi^{4}\\right) + 2 \\pi^{2} \\lambda \\left(16 \\lambda^{2} e^{\\lambda x} \\sin^{4}{\\left(\\pi y \\right)} - 16 \\lambda^{2} e^{\\lambda x} \\sin^{2}{\\left(\\pi y \\right)} + 3 \\lambda^{2} e^{\\lambda x} - 64 \\pi^{2} e^{\\lambda x} \\sin^{4}{\\left(\\pi y \\right)} + 64 \\pi^{2} e^{\\lambda x} \\sin^{2}{\\left(\\pi y \\right)} - 12 \\pi^{2} e^{\\lambda x} + 8 \\pi^{2} \\sin^{2}{\\left(\\pi y \\right)} - 4 \\pi^{2}\\right)\\right) e^{\\lambda x}}{3 \\pi^{2}}$"
      ],
      "text/plain": [
       "lambda*(-Re**2*lambda*(4*lambda**2*exp(2*lambda*x)*sin(pi*y)**6 - 6*lambda**2*exp(2*lambda*x)*sin(pi*y)**4 + 2*lambda**2*exp(2*lambda*x)*sin(pi*y)**2 - 24*pi**2*exp(2*lambda*x)*sin(pi*y)**6 + 36*pi**2*exp(2*lambda*x)*sin(pi*y)**4 - 14*pi**2*exp(2*lambda*x)*sin(pi*y)**2 + pi**2*exp(2*lambda*x) - 16*pi**2*exp(lambda*x)*sin(pi*y)**4 + 16*pi**2*exp(lambda*x)*sin(pi*y)**2 - 2*pi**2*exp(lambda*x) - 2*pi**2*sin(pi*y)**2 + pi**2) + Re*(4*lambda**4*exp(2*lambda*x)*sin(pi*y)**6 - 6*lambda**4*exp(2*lambda*x)*sin(pi*y)**4 + 2*lambda**4*exp(2*lambda*x)*sin(pi*y)**2 - 40*pi**2*lambda**2*exp(2*lambda*x)*sin(pi*y)**6 + 60*pi**2*lambda**2*exp(2*lambda*x)*sin(pi*y)**4 - 22*pi**2*lambda**2*exp(2*lambda*x)*sin(pi*y)**2 + pi**2*lambda**2*exp(2*lambda*x) - 48*pi**2*lambda**2*exp(lambda*x)*sin(pi*y)**4 + 48*pi**2*lambda**2*exp(lambda*x)*sin(pi*y)**2 - 8*pi**2*lambda**2*exp(lambda*x) + 96*pi**4*exp(2*lambda*x)*sin(pi*y)**6 - 144*pi**4*exp(2*lambda*x)*sin(pi*y)**4 + 56*pi**4*exp(2*lambda*x)*sin(pi*y)**2 - 4*pi**4*exp(2*lambda*x) + 64*pi**4*exp(lambda*x)*sin(pi*y)**4 - 64*pi**4*exp(lambda*x)*sin(pi*y)**2 + 8*pi**4*exp(lambda*x) + 8*pi**4*sin(pi*y)**2 - 4*pi**4) + 2*pi**2*lambda*(16*lambda**2*exp(lambda*x)*sin(pi*y)**4 - 16*lambda**2*exp(lambda*x)*sin(pi*y)**2 + 3*lambda**2*exp(lambda*x) - 64*pi**2*exp(lambda*x)*sin(pi*y)**4 + 64*pi**2*exp(lambda*x)*sin(pi*y)**2 - 12*pi**2*exp(lambda*x) + 8*pi**2*sin(pi*y)**2 - 4*pi**2))*exp(lambda*x)/(3*pi**2)"
      ]
     },
     "metadata": {},
     "output_type": "display_data"
    },
    {
     "name": "stdout",
     "output_type": "stream",
     "text": [
      "0\n",
      "+\\tau\\big(\n",
      "0\n",
      "\\big)\n",
      "+h^2\\big(\n",
      "\\frac{\\lambda \\left(- Re^{2} \\lambda \\left(4 \\lambda^{2} e^{2 \\lambda x} \\sin^{6}{\\left(\\pi y \\right)} - 6 \\lambda^{2} e^{2 \\lambda x} \\sin^{4}{\\left(\\pi y \\right)} + 2 \\lambda^{2} e^{2 \\lambda x} \\sin^{2}{\\left(\\pi y \\right)} - 24 \\pi^{2} e^{2 \\lambda x} \\sin^{6}{\\left(\\pi y \\right)} + 36 \\pi^{2} e^{2 \\lambda x} \\sin^{4}{\\left(\\pi y \\right)} - 14 \\pi^{2} e^{2 \\lambda x} \\sin^{2}{\\left(\\pi y \\right)} + \\pi^{2} e^{2 \\lambda x} - 16 \\pi^{2} e^{\\lambda x} \\sin^{4}{\\left(\\pi y \\right)} + 16 \\pi^{2} e^{\\lambda x} \\sin^{2}{\\left(\\pi y \\right)} - 2 \\pi^{2} e^{\\lambda x} - 2 \\pi^{2} \\sin^{2}{\\left(\\pi y \\right)} + \\pi^{2}\\right) + Re \\left(4 \\lambda^{4} e^{2 \\lambda x} \\sin^{6}{\\left(\\pi y \\right)} - 6 \\lambda^{4} e^{2 \\lambda x} \\sin^{4}{\\left(\\pi y \\right)} + 2 \\lambda^{4} e^{2 \\lambda x} \\sin^{2}{\\left(\\pi y \\right)} - 40 \\pi^{2} \\lambda^{2} e^{2 \\lambda x} \\sin^{6}{\\left(\\pi y \\right)} + 60 \\pi^{2} \\lambda^{2} e^{2 \\lambda x} \\sin^{4}{\\left(\\pi y \\right)} - 22 \\pi^{2} \\lambda^{2} e^{2 \\lambda x} \\sin^{2}{\\left(\\pi y \\right)} + \\pi^{2} \\lambda^{2} e^{2 \\lambda x} - 48 \\pi^{2} \\lambda^{2} e^{\\lambda x} \\sin^{4}{\\left(\\pi y \\right)} + 48 \\pi^{2} \\lambda^{2} e^{\\lambda x} \\sin^{2}{\\left(\\pi y \\right)} - 8 \\pi^{2} \\lambda^{2} e^{\\lambda x} + 96 \\pi^{4} e^{2 \\lambda x} \\sin^{6}{\\left(\\pi y \\right)} - 144 \\pi^{4} e^{2 \\lambda x} \\sin^{4}{\\left(\\pi y \\right)} + 56 \\pi^{4} e^{2 \\lambda x} \\sin^{2}{\\left(\\pi y \\right)} - 4 \\pi^{4} e^{2 \\lambda x} + 64 \\pi^{4} e^{\\lambda x} \\sin^{4}{\\left(\\pi y \\right)} - 64 \\pi^{4} e^{\\lambda x} \\sin^{2}{\\left(\\pi y \\right)} + 8 \\pi^{4} e^{\\lambda x} + 8 \\pi^{4} \\sin^{2}{\\left(\\pi y \\right)} - 4 \\pi^{4}\\right) + 2 \\pi^{2} \\lambda \\left(16 \\lambda^{2} e^{\\lambda x} \\sin^{4}{\\left(\\pi y \\right)} - 16 \\lambda^{2} e^{\\lambda x} \\sin^{2}{\\left(\\pi y \\right)} + 3 \\lambda^{2} e^{\\lambda x} - 64 \\pi^{2} e^{\\lambda x} \\sin^{4}{\\left(\\pi y \\right)} + 64 \\pi^{2} e^{\\lambda x} \\sin^{2}{\\left(\\pi y \\right)} - 12 \\pi^{2} e^{\\lambda x} + 8 \\pi^{2} \\sin^{2}{\\left(\\pi y \\right)} - 4 \\pi^{2}\\right)\\right) e^{\\lambda x}}{3 \\pi^{2}}\n",
      "\\big)\n"
     ]
    },
    {
     "data": {
      "text/latex": [
       "$\\displaystyle 0$"
      ],
      "text/plain": [
       "0"
      ]
     },
     "metadata": {},
     "output_type": "display_data"
    },
    {
     "name": "stdout",
     "output_type": "stream",
     "text": [
      "tau =>\n"
     ]
    },
    {
     "data": {
      "text/latex": [
       "$\\displaystyle 0$"
      ],
      "text/plain": [
       "0"
      ]
     },
     "metadata": {},
     "output_type": "display_data"
    },
    {
     "name": "stdout",
     "output_type": "stream",
     "text": [
      "h^2 =>\n"
     ]
    },
    {
     "data": {
      "text/latex": [
       "$\\displaystyle 0$"
      ],
      "text/plain": [
       "0"
      ]
     },
     "metadata": {},
     "output_type": "display_data"
    },
    {
     "name": "stdout",
     "output_type": "stream",
     "text": [
      "0\n",
      "+\\tau\\big(\n",
      "0\n",
      "\\big)\n",
      "+h^2\\big(\n",
      "0\n",
      "\\big)\n"
     ]
    }
   ],
   "source": [
    "F1 = clip(Dx(u) + Dy(v))\n",
    "F2 = clip(Dt(u) + Dx(u**2) + Dy(v*u) + Dx(p) - DD2(u)/Re)\n",
    "F3 = clip(Dt(v) + Dx(u*v) + Dy(v**2) + Dy(p) - DD2(v)/Re)\n",
    "F4 = clip(Dx(Dx(u**2) + Dy(v*u) + Dx(p)) + Dy(Dx(u*v) + Dy(v**2) + Dy(p)))\n",
    "\n",
    "build(F1, F2, F3, F4)"
   ]
  },
  {
   "cell_type": "code",
   "execution_count": 20,
   "metadata": {},
   "outputs": [
    {
     "data": {
      "text/latex": [
       "$\\displaystyle u_{x} + v_{y}$"
      ],
      "text/plain": [
       "u_{x} + v_{y}"
      ]
     },
     "metadata": {},
     "output_type": "display_data"
    },
    {
     "name": "stdout",
     "output_type": "stream",
     "text": [
      "tau =>\n"
     ]
    },
    {
     "data": {
      "text/latex": [
       "$\\displaystyle 0$"
      ],
      "text/plain": [
       "0"
      ]
     },
     "metadata": {},
     "output_type": "display_data"
    },
    {
     "name": "stdout",
     "output_type": "stream",
     "text": [
      "h^2 =>\n"
     ]
    },
    {
     "data": {
      "text/latex": [
       "$\\displaystyle \\frac{u_{xxx} + v_{yyy}}{6}$"
      ],
      "text/plain": [
       "(u_{xxx} + v_{yyy})/6"
      ]
     },
     "metadata": {},
     "output_type": "display_data"
    },
    {
     "name": "stdout",
     "output_type": "stream",
     "text": [
      "u_{x} + v_{y}\n",
      "+\\tau\\big(\n",
      "0\n",
      "\\big)\n",
      "+h^2\\big(\n",
      "\\frac{u_{xxx} + v_{yyy}}{6}\n",
      "\\big)\n",
      "f1-f1-f1-f1-f1-f1-f1-f1-f1-f1-f1-f1-f1-f1-f1-f1-f1-f1-f1-f1-f1-f1-f1-f1-f1-\n"
     ]
    },
    {
     "data": {
      "text/latex": [
       "$\\displaystyle u_{x} + v_{y}$"
      ],
      "text/plain": [
       "u_{x} + v_{y}"
      ]
     },
     "metadata": {},
     "output_type": "display_data"
    },
    {
     "name": "stdout",
     "output_type": "stream",
     "text": [
      "tau =>\n"
     ]
    },
    {
     "data": {
      "text/latex": [
       "$\\displaystyle 0$"
      ],
      "text/plain": [
       "0"
      ]
     },
     "metadata": {},
     "output_type": "display_data"
    },
    {
     "name": "stdout",
     "output_type": "stream",
     "text": [
      "h^2 =>\n"
     ]
    },
    {
     "data": {
      "text/latex": [
       "$\\displaystyle - \\frac{Re \\left(p_{yy} + u v_{xy} + u_{y} v_{x} + v v_{yy} + v_{ty} + v_{y}^{2}\\right)}{6} + \\frac{v_{yyy}}{3}$"
      ],
      "text/plain": [
       "-Re*(p_{yy} + u*v_{xy} + u_{y}*v_{x} + v*v_{yy} + v_{ty} + v_{y}**2)/6 + v_{yyy}/3"
      ]
     },
     "metadata": {},
     "output_type": "display_data"
    },
    {
     "name": "stdout",
     "output_type": "stream",
     "text": [
      "u_{x} + v_{y}\n",
      "+\\tau\\big(\n",
      "0\n",
      "\\big)\n",
      "+h^2\\big(\n",
      "- \\frac{Re \\left(p_{yy} + u v_{xy} + u_{y} v_{x} + v v_{yy} + v_{ty} + v_{y}^{2}\\right)}{6} + \\frac{v_{yyy}}{3}\n",
      "\\big)\n"
     ]
    },
    {
     "data": {
      "text/latex": [
       "$\\displaystyle 0$"
      ],
      "text/plain": [
       "0"
      ]
     },
     "metadata": {},
     "output_type": "display_data"
    },
    {
     "name": "stdout",
     "output_type": "stream",
     "text": [
      "tau =>\n"
     ]
    },
    {
     "data": {
      "text/latex": [
       "$\\displaystyle 0$"
      ],
      "text/plain": [
       "0"
      ]
     },
     "metadata": {},
     "output_type": "display_data"
    },
    {
     "name": "stdout",
     "output_type": "stream",
     "text": [
      "h^2 =>\n"
     ]
    },
    {
     "data": {
      "text/latex": [
       "$\\displaystyle 0$"
      ],
      "text/plain": [
       "0"
      ]
     },
     "metadata": {},
     "output_type": "display_data"
    },
    {
     "name": "stdout",
     "output_type": "stream",
     "text": [
      "0\n",
      "+\\tau\\big(\n",
      "0\n",
      "\\big)\n",
      "+h^2\\big(\n",
      "0\n",
      "\\big)\n"
     ]
    },
    {
     "data": {
      "text/latex": [
       "$\\displaystyle 0$"
      ],
      "text/plain": [
       "0"
      ]
     },
     "metadata": {},
     "output_type": "display_data"
    },
    {
     "name": "stdout",
     "output_type": "stream",
     "text": [
      "tau =>\n"
     ]
    },
    {
     "data": {
      "text/latex": [
       "$\\displaystyle 0$"
      ],
      "text/plain": [
       "0"
      ]
     },
     "metadata": {},
     "output_type": "display_data"
    },
    {
     "name": "stdout",
     "output_type": "stream",
     "text": [
      "h^2 =>\n"
     ]
    },
    {
     "data": {
      "text/latex": [
       "$\\displaystyle - \\frac{\\lambda \\left(Re \\lambda + 8 \\pi^{2}\\right) e^{\\lambda x} \\cos{\\left(2 \\pi y \\right)}}{6}$"
      ],
      "text/plain": [
       "-lambda*(Re*lambda + 8*pi**2)*exp(lambda*x)*cos(2*pi*y)/6"
      ]
     },
     "metadata": {},
     "output_type": "display_data"
    },
    {
     "name": "stdout",
     "output_type": "stream",
     "text": [
      "0\n",
      "+\\tau\\big(\n",
      "0\n",
      "\\big)\n",
      "+h^2\\big(\n",
      "- \\frac{\\lambda \\left(Re \\lambda + 8 \\pi^{2}\\right) e^{\\lambda x} \\cos{\\left(2 \\pi y \\right)}}{6}\n",
      "\\big)\n",
      "-------------------------\n"
     ]
    },
    {
     "data": {
      "text/latex": [
       "$\\displaystyle p_{x} + 2 u u_{x} + u v_{y} + u_{t} + u_{y} v + \\frac{- u_{xx} - u_{yy}}{Re}$"
      ],
      "text/plain": [
       "p_{x} + 2*u*u_{x} + u*v_{y} + u_{t} + u_{y}*v + (-u_{xx} - u_{yy})/Re"
      ]
     },
     "metadata": {},
     "output_type": "display_data"
    },
    {
     "name": "stdout",
     "output_type": "stream",
     "text": [
      "tau =>\n"
     ]
    },
    {
     "data": {
      "text/latex": [
       "$\\displaystyle \\frac{p_{tx} + 2 u u_{tx} + u v_{ty} + u_{tt} + u_{ty} v + 2 u_{t} u_{x} + u_{t} v_{y} + u_{y} v_{t}}{2} - \\frac{u_{txx} + u_{tyy}}{2 Re}$"
      ],
      "text/plain": [
       "(p_{tx} + 2*u*u_{tx} + u*v_{ty} + u_{tt} + u_{ty}*v + 2*u_{t}*u_{x} + u_{t}*v_{y} + u_{y}*v_{t})/2 - (u_{txx} + u_{tyy})/(2*Re)"
      ]
     },
     "metadata": {},
     "output_type": "display_data"
    },
    {
     "name": "stdout",
     "output_type": "stream",
     "text": [
      "h^2 =>\n"
     ]
    },
    {
     "data": {
      "text/latex": [
       "$\\displaystyle \\frac{p_{xxx} + 2 u u_{xxx} + u v_{yyy} + 6 u_{xx} u_{x} + u_{yyy} v + 3 u_{yy} v_{y} + 3 u_{y} v_{yy}}{6} - \\frac{u_{xxxx} + u_{yyyy}}{12 Re}$"
      ],
      "text/plain": [
       "(p_{xxx} + 2*u*u_{xxx} + u*v_{yyy} + 6*u_{xx}*u_{x} + u_{yyy}*v + 3*u_{yy}*v_{y} + 3*u_{y}*v_{yy})/6 - (u_{xxxx} + u_{yyyy})/(12*Re)"
      ]
     },
     "metadata": {},
     "output_type": "display_data"
    },
    {
     "name": "stdout",
     "output_type": "stream",
     "text": [
      "p_{x} + 2 u u_{x} + u v_{y} + u_{t} + u_{y} v + \\frac{- u_{xx} - u_{yy}}{Re}\n",
      "+\\tau\\big(\n",
      "\\frac{p_{tx} + 2 u u_{tx} + u v_{ty} + u_{tt} + u_{ty} v + 2 u_{t} u_{x} + u_{t} v_{y} + u_{y} v_{t}}{2} - \\frac{u_{txx} + u_{tyy}}{2 Re}\n",
      "\\big)\n",
      "+h^2\\big(\n",
      "\\frac{p_{xxx} + 2 u u_{xxx} + u v_{yyy} + 6 u_{xx} u_{x} + u_{yyy} v + 3 u_{yy} v_{y} + 3 u_{y} v_{yy}}{6} - \\frac{u_{xxxx} + u_{yyyy}}{12 Re}\n",
      "\\big)\n",
      "f2-f2-f2-f2-f2-f2-f2-f2-f2-f2-f2-f2-f2-f2-f2-f2-f2-f2-f2-f2-f2-f2-f2-f2-f2-\n"
     ]
    },
    {
     "data": {
      "text/latex": [
       "$\\displaystyle p_{x} + 2 u u_{x} + u v_{y} + u_{t} + u_{y} v + \\frac{- u_{xx} - u_{yy}}{Re}$"
      ],
      "text/plain": [
       "p_{x} + 2*u*u_{x} + u*v_{y} + u_{t} + u_{y}*v + (-u_{xx} - u_{yy})/Re"
      ]
     },
     "metadata": {},
     "output_type": "display_data"
    },
    {
     "name": "stdout",
     "output_type": "stream",
     "text": [
      "tau =>\n"
     ]
    },
    {
     "data": {
      "text/latex": [
       "$\\displaystyle 0$"
      ],
      "text/plain": [
       "0"
      ]
     },
     "metadata": {},
     "output_type": "display_data"
    },
    {
     "name": "stdout",
     "output_type": "stream",
     "text": [
      "h^2 =>\n"
     ]
    },
    {
     "data": {
      "text/latex": [
       "$\\displaystyle - \\frac{Re^{2} v^{2} \\left(- p_{x} + u v_{y} - u_{t} - u_{y} v\\right)}{12} - \\frac{Re \\left(p_{tx} - p_{xy} v - 5 p_{x} v_{y} + 3 p_{yy} u + 3 p_{y} u_{y} + 3 u^{2} v_{xy} + 6 u u_{y} v_{x} + 4 u v v_{yy} + 2 u v_{ty} + 8 u v_{y}^{2} + u_{tt} - 6 u_{t} v_{y} - 2 u_{y} v v_{y} + 4 u_{y} v_{t} - v^{2} v_{xy}\\right)}{12} + \\frac{- p_{xyy} + 3 u v_{yyy} + 5 u_{y} v_{yy} + v v_{xyy} + 5 v_{xy} v_{y} + 2 v_{x} v_{yy}}{6} - \\frac{v_{xyyy}}{6 Re}$"
      ],
      "text/plain": [
       "-Re**2*v**2*(-p_{x} + u*v_{y} - u_{t} - u_{y}*v)/12 - Re*(p_{tx} - p_{xy}*v - 5*p_{x}*v_{y} + 3*p_{yy}*u + 3*p_{y}*u_{y} + 3*u**2*v_{xy} + 6*u*u_{y}*v_{x} + 4*u*v*v_{yy} + 2*u*v_{ty} + 8*u*v_{y}**2 + u_{tt} - 6*u_{t}*v_{y} - 2*u_{y}*v*v_{y} + 4*u_{y}*v_{t} - v**2*v_{xy})/12 + (-p_{xyy} + 3*u*v_{yyy} + 5*u_{y}*v_{yy} + v*v_{xyy} + 5*v_{xy}*v_{y} + 2*v_{x}*v_{yy})/6 - v_{xyyy}/(6*Re)"
      ]
     },
     "metadata": {},
     "output_type": "display_data"
    },
    {
     "name": "stdout",
     "output_type": "stream",
     "text": [
      "p_{x} + 2 u u_{x} + u v_{y} + u_{t} + u_{y} v + \\frac{- u_{xx} - u_{yy}}{Re}\n",
      "+\\tau\\big(\n",
      "0\n",
      "\\big)\n",
      "+h^2\\big(\n",
      "- \\frac{Re^{2} v^{2} \\left(- p_{x} + u v_{y} - u_{t} - u_{y} v\\right)}{12} - \\frac{Re \\left(p_{tx} - p_{xy} v - 5 p_{x} v_{y} + 3 p_{yy} u + 3 p_{y} u_{y} + 3 u^{2} v_{xy} + 6 u u_{y} v_{x} + 4 u v v_{yy} + 2 u v_{ty} + 8 u v_{y}^{2} + u_{tt} - 6 u_{t} v_{y} - 2 u_{y} v v_{y} + 4 u_{y} v_{t} - v^{2} v_{xy}\\right)}{12} + \\frac{- p_{xyy} + 3 u v_{yyy} + 5 u_{y} v_{yy} + v v_{xyy} + 5 v_{xy} v_{y} + 2 v_{x} v_{yy}}{6} - \\frac{v_{xyyy}}{6 Re}\n",
      "\\big)\n"
     ]
    },
    {
     "data": {
      "text/latex": [
       "$\\displaystyle 0$"
      ],
      "text/plain": [
       "0"
      ]
     },
     "metadata": {},
     "output_type": "display_data"
    },
    {
     "name": "stdout",
     "output_type": "stream",
     "text": [
      "tau =>\n"
     ]
    },
    {
     "data": {
      "text/latex": [
       "$\\displaystyle 0$"
      ],
      "text/plain": [
       "0"
      ]
     },
     "metadata": {},
     "output_type": "display_data"
    },
    {
     "name": "stdout",
     "output_type": "stream",
     "text": [
      "h^2 =>\n"
     ]
    },
    {
     "data": {
      "text/latex": [
       "$\\displaystyle \\frac{e^{- \\frac{2 t}{Re}} \\sin{\\left(y \\right)} \\cos{\\left(x \\right)}}{6 Re}$"
      ],
      "text/plain": [
       "exp(-2*t/Re)*sin(y)*cos(x)/(6*Re)"
      ]
     },
     "metadata": {},
     "output_type": "display_data"
    },
    {
     "name": "stdout",
     "output_type": "stream",
     "text": [
      "0\n",
      "+\\tau\\big(\n",
      "0\n",
      "\\big)\n",
      "+h^2\\big(\n",
      "\\frac{e^{- \\frac{2 t}{Re}} \\sin{\\left(y \\right)} \\cos{\\left(x \\right)}}{6 Re}\n",
      "\\big)\n"
     ]
    },
    {
     "data": {
      "text/latex": [
       "$\\displaystyle \\frac{\\left(- Re \\lambda + \\left(\\lambda - 2 \\pi\\right) \\left(\\lambda + 2 \\pi\\right)\\right) e^{\\lambda x} \\cos{\\left(2 \\pi y \\right)}}{Re}$"
      ],
      "text/plain": [
       "(-Re*lambda + (lambda - 2*pi)*(lambda + 2*pi))*exp(lambda*x)*cos(2*pi*y)/Re"
      ]
     },
     "metadata": {},
     "output_type": "display_data"
    },
    {
     "name": "stdout",
     "output_type": "stream",
     "text": [
      "tau =>\n"
     ]
    },
    {
     "data": {
      "text/latex": [
       "$\\displaystyle 0$"
      ],
      "text/plain": [
       "0"
      ]
     },
     "metadata": {},
     "output_type": "display_data"
    },
    {
     "name": "stdout",
     "output_type": "stream",
     "text": [
      "h^2 =>\n"
     ]
    },
    {
     "data": {
      "text/latex": [
       "$\\displaystyle \\frac{\\lambda \\left(- Re^{2} \\lambda^{2} \\left(Re - \\lambda\\right) e^{2 \\lambda x} \\sin^{2}{\\left(2 \\pi y \\right)} \\cos{\\left(2 \\pi y \\right)} - 4 \\pi^{2} Re \\left(8 Re \\lambda e^{2 \\lambda x} \\sin^{6}{\\left(\\pi y \\right)} - 12 Re \\lambda e^{2 \\lambda x} \\sin^{4}{\\left(\\pi y \\right)} + 4 Re \\lambda e^{2 \\lambda x} \\sin^{2}{\\left(\\pi y \\right)} + 2 Re \\lambda e^{\\lambda x} - 6 Re \\lambda \\sin^{2}{\\left(\\pi y \\right)} + 3 Re \\lambda - 64 \\lambda^{2} e^{\\lambda x} \\sin^{4}{\\left(\\pi y \\right)} + 64 \\lambda^{2} e^{\\lambda x} \\sin^{2}{\\left(\\pi y \\right)} - 10 \\lambda^{2} e^{\\lambda x} - 256 \\pi^{2} e^{\\lambda x} \\sin^{4}{\\left(\\pi y \\right)} + 256 \\pi^{2} e^{\\lambda x} \\sin^{2}{\\left(\\pi y \\right)} - 24 \\pi^{2} e^{\\lambda x} - 48 \\pi^{2} \\sin^{2}{\\left(\\pi y \\right)} + 24 \\pi^{2}\\right) + 32 \\pi^{4} \\lambda \\cos{\\left(2 \\pi y \\right)}\\right) e^{\\lambda x}}{48 \\pi^{2} Re}$"
      ],
      "text/plain": [
       "lambda*(-Re**2*lambda**2*(Re - lambda)*exp(2*lambda*x)*sin(2*pi*y)**2*cos(2*pi*y) - 4*pi**2*Re*(8*Re*lambda*exp(2*lambda*x)*sin(pi*y)**6 - 12*Re*lambda*exp(2*lambda*x)*sin(pi*y)**4 + 4*Re*lambda*exp(2*lambda*x)*sin(pi*y)**2 + 2*Re*lambda*exp(lambda*x) - 6*Re*lambda*sin(pi*y)**2 + 3*Re*lambda - 64*lambda**2*exp(lambda*x)*sin(pi*y)**4 + 64*lambda**2*exp(lambda*x)*sin(pi*y)**2 - 10*lambda**2*exp(lambda*x) - 256*pi**2*exp(lambda*x)*sin(pi*y)**4 + 256*pi**2*exp(lambda*x)*sin(pi*y)**2 - 24*pi**2*exp(lambda*x) - 48*pi**2*sin(pi*y)**2 + 24*pi**2) + 32*pi**4*lambda*cos(2*pi*y))*exp(lambda*x)/(48*pi**2*Re)"
      ]
     },
     "metadata": {},
     "output_type": "display_data"
    },
    {
     "name": "stdout",
     "output_type": "stream",
     "text": [
      "\\frac{\\left(- Re \\lambda + \\left(\\lambda - 2 \\pi\\right) \\left(\\lambda + 2 \\pi\\right)\\right) e^{\\lambda x} \\cos{\\left(2 \\pi y \\right)}}{Re}\n",
      "+\\tau\\big(\n",
      "0\n",
      "\\big)\n",
      "+h^2\\big(\n",
      "\\frac{\\lambda \\left(- Re^{2} \\lambda^{2} \\left(Re - \\lambda\\right) e^{2 \\lambda x} \\sin^{2}{\\left(2 \\pi y \\right)} \\cos{\\left(2 \\pi y \\right)} - 4 \\pi^{2} Re \\left(8 Re \\lambda e^{2 \\lambda x} \\sin^{6}{\\left(\\pi y \\right)} - 12 Re \\lambda e^{2 \\lambda x} \\sin^{4}{\\left(\\pi y \\right)} + 4 Re \\lambda e^{2 \\lambda x} \\sin^{2}{\\left(\\pi y \\right)} + 2 Re \\lambda e^{\\lambda x} - 6 Re \\lambda \\sin^{2}{\\left(\\pi y \\right)} + 3 Re \\lambda - 64 \\lambda^{2} e^{\\lambda x} \\sin^{4}{\\left(\\pi y \\right)} + 64 \\lambda^{2} e^{\\lambda x} \\sin^{2}{\\left(\\pi y \\right)} - 10 \\lambda^{2} e^{\\lambda x} - 256 \\pi^{2} e^{\\lambda x} \\sin^{4}{\\left(\\pi y \\right)} + 256 \\pi^{2} e^{\\lambda x} \\sin^{2}{\\left(\\pi y \\right)} - 24 \\pi^{2} e^{\\lambda x} - 48 \\pi^{2} \\sin^{2}{\\left(\\pi y \\right)} + 24 \\pi^{2}\\right) + 32 \\pi^{4} \\lambda \\cos{\\left(2 \\pi y \\right)}\\right) e^{\\lambda x}}{48 \\pi^{2} Re}\n",
      "\\big)\n",
      "-------------------------\n"
     ]
    },
    {
     "data": {
      "text/latex": [
       "$\\displaystyle p_{y} + u v_{x} + u_{x} v + 2 v v_{y} + v_{t} + \\frac{- v_{xx} - v_{yy}}{Re}$"
      ],
      "text/plain": [
       "p_{y} + u*v_{x} + u_{x}*v + 2*v*v_{y} + v_{t} + (-v_{xx} - v_{yy})/Re"
      ]
     },
     "metadata": {},
     "output_type": "display_data"
    },
    {
     "name": "stdout",
     "output_type": "stream",
     "text": [
      "tau =>\n"
     ]
    },
    {
     "data": {
      "text/latex": [
       "$\\displaystyle \\frac{p_{ty} + u v_{tx} + u_{tx} v + u_{t} v_{x} + u_{x} v_{t} + 2 v v_{ty} + v_{tt} + 2 v_{t} v_{y}}{2} - \\frac{v_{txx} + v_{tyy}}{2 Re}$"
      ],
      "text/plain": [
       "(p_{ty} + u*v_{tx} + u_{tx}*v + u_{t}*v_{x} + u_{x}*v_{t} + 2*v*v_{ty} + v_{tt} + 2*v_{t}*v_{y})/2 - (v_{txx} + v_{tyy})/(2*Re)"
      ]
     },
     "metadata": {},
     "output_type": "display_data"
    },
    {
     "name": "stdout",
     "output_type": "stream",
     "text": [
      "h^2 =>\n"
     ]
    },
    {
     "data": {
      "text/latex": [
       "$\\displaystyle \\frac{p_{yyy} + u v_{xxx} + u_{xxx} v + 3 u_{xx} v_{x} + 3 u_{x} v_{xx} + 2 v v_{yyy} + 6 v_{yy} v_{y}}{6} - \\frac{v_{xxxx} + v_{yyyy}}{12 Re}$"
      ],
      "text/plain": [
       "(p_{yyy} + u*v_{xxx} + u_{xxx}*v + 3*u_{xx}*v_{x} + 3*u_{x}*v_{xx} + 2*v*v_{yyy} + 6*v_{yy}*v_{y})/6 - (v_{xxxx} + v_{yyyy})/(12*Re)"
      ]
     },
     "metadata": {},
     "output_type": "display_data"
    },
    {
     "name": "stdout",
     "output_type": "stream",
     "text": [
      "p_{y} + u v_{x} + u_{x} v + 2 v v_{y} + v_{t} + \\frac{- v_{xx} - v_{yy}}{Re}\n",
      "+\\tau\\big(\n",
      "\\frac{p_{ty} + u v_{tx} + u_{tx} v + u_{t} v_{x} + u_{x} v_{t} + 2 v v_{ty} + v_{tt} + 2 v_{t} v_{y}}{2} - \\frac{v_{txx} + v_{tyy}}{2 Re}\n",
      "\\big)\n",
      "+h^2\\big(\n",
      "\\frac{p_{yyy} + u v_{xxx} + u_{xxx} v + 3 u_{xx} v_{x} + 3 u_{x} v_{xx} + 2 v v_{yyy} + 6 v_{yy} v_{y}}{6} - \\frac{v_{xxxx} + v_{yyyy}}{12 Re}\n",
      "\\big)\n",
      "f3-f3-f3-f3-f3-f3-f3-f3-f3-f3-f3-f3-f3-f3-f3-f3-f3-f3-f3-f3-f3-f3-f3-f3-f3-\n"
     ]
    },
    {
     "data": {
      "text/latex": [
       "$\\displaystyle p_{y} + u v_{x} + u_{x} v + 2 v v_{y} + v_{t} + \\frac{- v_{xx} - v_{yy}}{Re}$"
      ],
      "text/plain": [
       "p_{y} + u*v_{x} + u_{x}*v + 2*v*v_{y} + v_{t} + (-v_{xx} - v_{yy})/Re"
      ]
     },
     "metadata": {},
     "output_type": "display_data"
    },
    {
     "name": "stdout",
     "output_type": "stream",
     "text": [
      "tau =>\n"
     ]
    },
    {
     "data": {
      "text/latex": [
       "$\\displaystyle 0$"
      ],
      "text/plain": [
       "0"
      ]
     },
     "metadata": {},
     "output_type": "display_data"
    },
    {
     "name": "stdout",
     "output_type": "stream",
     "text": [
      "h^2 =>\n"
     ]
    },
    {
     "data": {
      "text/latex": [
       "$\\displaystyle \\frac{Re^{2} u^{2} \\left(p_{y} + u v_{x} + v v_{y} + v_{t}\\right)}{12} - \\frac{Re \\left(p_{ty} - p_{xy} u - 3 p_{x} v_{x} + 3 p_{yy} v + 5 p_{y} v_{y} + u^{2} v_{yy} + 2 u v v_{xy} + 8 u v_{x} v_{y} - 2 u_{t} v_{x} + 3 v^{2} v_{yy} + 4 v v_{ty} + 8 v v_{y}^{2} + v_{tt} + 6 v_{t} v_{y}\\right)}{12} + \\frac{2 p_{yyy} + 2 u_{y} v_{xy} + 4 v v_{yyy} + v_{tyy} - 2 v_{xy} v_{x} + 12 v_{yy} v_{y}}{6} - \\frac{v_{yyyy}}{6 Re}$"
      ],
      "text/plain": [
       "Re**2*u**2*(p_{y} + u*v_{x} + v*v_{y} + v_{t})/12 - Re*(p_{ty} - p_{xy}*u - 3*p_{x}*v_{x} + 3*p_{yy}*v + 5*p_{y}*v_{y} + u**2*v_{yy} + 2*u*v*v_{xy} + 8*u*v_{x}*v_{y} - 2*u_{t}*v_{x} + 3*v**2*v_{yy} + 4*v*v_{ty} + 8*v*v_{y}**2 + v_{tt} + 6*v_{t}*v_{y})/12 + (2*p_{yyy} + 2*u_{y}*v_{xy} + 4*v*v_{yyy} + v_{tyy} - 2*v_{xy}*v_{x} + 12*v_{yy}*v_{y})/6 - v_{yyyy}/(6*Re)"
      ]
     },
     "metadata": {},
     "output_type": "display_data"
    },
    {
     "name": "stdout",
     "output_type": "stream",
     "text": [
      "p_{y} + u v_{x} + u_{x} v + 2 v v_{y} + v_{t} + \\frac{- v_{xx} - v_{yy}}{Re}\n",
      "+\\tau\\big(\n",
      "0\n",
      "\\big)\n",
      "+h^2\\big(\n",
      "\\frac{Re^{2} u^{2} \\left(p_{y} + u v_{x} + v v_{y} + v_{t}\\right)}{12} - \\frac{Re \\left(p_{ty} - p_{xy} u - 3 p_{x} v_{x} + 3 p_{yy} v + 5 p_{y} v_{y} + u^{2} v_{yy} + 2 u v v_{xy} + 8 u v_{x} v_{y} - 2 u_{t} v_{x} + 3 v^{2} v_{yy} + 4 v v_{ty} + 8 v v_{y}^{2} + v_{tt} + 6 v_{t} v_{y}\\right)}{12} + \\frac{2 p_{yyy} + 2 u_{y} v_{xy} + 4 v v_{yyy} + v_{tyy} - 2 v_{xy} v_{x} + 12 v_{yy} v_{y}}{6} - \\frac{v_{yyyy}}{6 Re}\n",
      "\\big)\n"
     ]
    },
    {
     "data": {
      "text/latex": [
       "$\\displaystyle 0$"
      ],
      "text/plain": [
       "0"
      ]
     },
     "metadata": {},
     "output_type": "display_data"
    },
    {
     "name": "stdout",
     "output_type": "stream",
     "text": [
      "tau =>\n"
     ]
    },
    {
     "data": {
      "text/latex": [
       "$\\displaystyle 0$"
      ],
      "text/plain": [
       "0"
      ]
     },
     "metadata": {},
     "output_type": "display_data"
    },
    {
     "name": "stdout",
     "output_type": "stream",
     "text": [
      "h^2 =>\n"
     ]
    },
    {
     "data": {
      "text/latex": [
       "$\\displaystyle - \\frac{e^{- \\frac{2 t}{Re}} \\sin{\\left(x \\right)} \\cos{\\left(y \\right)}}{6 Re}$"
      ],
      "text/plain": [
       "-exp(-2*t/Re)*sin(x)*cos(y)/(6*Re)"
      ]
     },
     "metadata": {},
     "output_type": "display_data"
    },
    {
     "name": "stdout",
     "output_type": "stream",
     "text": [
      "0\n",
      "+\\tau\\big(\n",
      "0\n",
      "\\big)\n",
      "+h^2\\big(\n",
      "- \\frac{e^{- \\frac{2 t}{Re}} \\sin{\\left(x \\right)} \\cos{\\left(y \\right)}}{6 Re}\n",
      "\\big)\n"
     ]
    },
    {
     "data": {
      "text/latex": [
       "$\\displaystyle \\frac{\\lambda \\left(Re \\lambda - \\left(\\lambda - 2 \\pi\\right) \\left(\\lambda + 2 \\pi\\right)\\right) e^{\\lambda x} \\sin{\\left(2 \\pi y \\right)}}{2 \\pi Re}$"
      ],
      "text/plain": [
       "lambda*(Re*lambda - (lambda - 2*pi)*(lambda + 2*pi))*exp(lambda*x)*sin(2*pi*y)/(2*pi*Re)"
      ]
     },
     "metadata": {},
     "output_type": "display_data"
    },
    {
     "name": "stdout",
     "output_type": "stream",
     "text": [
      "tau =>\n"
     ]
    },
    {
     "data": {
      "text/latex": [
       "$\\displaystyle 0$"
      ],
      "text/plain": [
       "0"
      ]
     },
     "metadata": {},
     "output_type": "display_data"
    },
    {
     "name": "stdout",
     "output_type": "stream",
     "text": [
      "h^2 =>\n"
     ]
    },
    {
     "data": {
      "text/latex": [
       "$\\displaystyle \\frac{\\lambda \\left(Re \\left(Re^{2} \\lambda e^{2 \\lambda x} \\cos^{2}{\\left(2 \\pi y \\right)} - 2 Re^{2} \\lambda e^{\\lambda x} \\cos{\\left(2 \\pi y \\right)} + Re^{2} \\lambda + 3 Re \\lambda^{2} e^{2 \\lambda x} \\sin^{2}{\\left(2 \\pi y \\right)} + 2 Re \\lambda^{2} e^{2 \\lambda x} \\cos^{2}{\\left(2 \\pi y \\right)} - 3 Re \\lambda^{2} e^{2 \\lambda x} - 10 Re \\lambda^{2} e^{\\lambda x} \\cos{\\left(2 \\pi y \\right)} + 4 \\pi^{2} Re e^{2 \\lambda x} \\cos^{2}{\\left(2 \\pi y \\right)} - 8 \\pi^{2} Re e^{\\lambda x} \\cos{\\left(2 \\pi y \\right)} + 4 \\pi^{2} Re - 4 \\lambda^{3} e^{\\lambda x} \\cos{\\left(2 \\pi y \\right)} - 112 \\pi^{2} \\lambda e^{\\lambda x} \\cos{\\left(2 \\pi y \\right)}\\right) - 32 \\pi^{4}\\right) e^{\\lambda x} \\sin{\\left(2 \\pi y \\right)}}{24 \\pi Re}$"
      ],
      "text/plain": [
       "lambda*(Re*(Re**2*lambda*exp(2*lambda*x)*cos(2*pi*y)**2 - 2*Re**2*lambda*exp(lambda*x)*cos(2*pi*y) + Re**2*lambda + 3*Re*lambda**2*exp(2*lambda*x)*sin(2*pi*y)**2 + 2*Re*lambda**2*exp(2*lambda*x)*cos(2*pi*y)**2 - 3*Re*lambda**2*exp(2*lambda*x) - 10*Re*lambda**2*exp(lambda*x)*cos(2*pi*y) + 4*pi**2*Re*exp(2*lambda*x)*cos(2*pi*y)**2 - 8*pi**2*Re*exp(lambda*x)*cos(2*pi*y) + 4*pi**2*Re - 4*lambda**3*exp(lambda*x)*cos(2*pi*y) - 112*pi**2*lambda*exp(lambda*x)*cos(2*pi*y)) - 32*pi**4)*exp(lambda*x)*sin(2*pi*y)/(24*pi*Re)"
      ]
     },
     "metadata": {},
     "output_type": "display_data"
    },
    {
     "name": "stdout",
     "output_type": "stream",
     "text": [
      "\\frac{\\lambda \\left(Re \\lambda - \\left(\\lambda - 2 \\pi\\right) \\left(\\lambda + 2 \\pi\\right)\\right) e^{\\lambda x} \\sin{\\left(2 \\pi y \\right)}}{2 \\pi Re}\n",
      "+\\tau\\big(\n",
      "0\n",
      "\\big)\n",
      "+h^2\\big(\n",
      "\\frac{\\lambda \\left(Re \\left(Re^{2} \\lambda e^{2 \\lambda x} \\cos^{2}{\\left(2 \\pi y \\right)} - 2 Re^{2} \\lambda e^{\\lambda x} \\cos{\\left(2 \\pi y \\right)} + Re^{2} \\lambda + 3 Re \\lambda^{2} e^{2 \\lambda x} \\sin^{2}{\\left(2 \\pi y \\right)} + 2 Re \\lambda^{2} e^{2 \\lambda x} \\cos^{2}{\\left(2 \\pi y \\right)} - 3 Re \\lambda^{2} e^{2 \\lambda x} - 10 Re \\lambda^{2} e^{\\lambda x} \\cos{\\left(2 \\pi y \\right)} + 4 \\pi^{2} Re e^{2 \\lambda x} \\cos^{2}{\\left(2 \\pi y \\right)} - 8 \\pi^{2} Re e^{\\lambda x} \\cos{\\left(2 \\pi y \\right)} + 4 \\pi^{2} Re - 4 \\lambda^{3} e^{\\lambda x} \\cos{\\left(2 \\pi y \\right)} - 112 \\pi^{2} \\lambda e^{\\lambda x} \\cos{\\left(2 \\pi y \\right)}\\right) - 32 \\pi^{4}\\right) e^{\\lambda x} \\sin{\\left(2 \\pi y \\right)}}{24 \\pi Re}\n",
      "\\big)\n",
      "-------------------------\n"
     ]
    },
    {
     "data": {
      "text/latex": [
       "$\\displaystyle p_{xx} + p_{yy} + 2 u u_{xx} + 2 u v_{xy} + 2 u_{xy} v + 2 u_{x}^{2} + 2 u_{x} v_{y} + 2 u_{y} v_{x} + 2 v v_{yy} + 2 v_{y}^{2}$"
      ],
      "text/plain": [
       "p_{xx} + p_{yy} + 2*u*u_{xx} + 2*u*v_{xy} + 2*u_{xy}*v + 2*u_{x}**2 + 2*u_{x}*v_{y} + 2*u_{y}*v_{x} + 2*v*v_{yy} + 2*v_{y}**2"
      ]
     },
     "metadata": {},
     "output_type": "display_data"
    },
    {
     "name": "stdout",
     "output_type": "stream",
     "text": [
      "tau =>\n"
     ]
    },
    {
     "data": {
      "text/latex": [
       "$\\displaystyle 0$"
      ],
      "text/plain": [
       "0"
      ]
     },
     "metadata": {},
     "output_type": "display_data"
    },
    {
     "name": "stdout",
     "output_type": "stream",
     "text": [
      "h^2 =>\n"
     ]
    },
    {
     "data": {
      "text/latex": [
       "$\\displaystyle \\frac{p_{xxxx} + p_{yyyy} + 2 u u_{xxxx} + u v_{xxxy} + u v_{xyyy} + u_{xxxy} v + 8 u_{xxx} u_{x} + u_{xxx} v_{y} + 3 u_{xxy} v_{x} + 6 u_{xx}^{2} + 3 u_{xx} v_{xy} + u_{xyyy} v + 3 u_{xyy} v_{y} + 3 u_{xy} v_{xx} + 3 u_{xy} v_{yy} + 3 u_{x} v_{xxy} + u_{x} v_{yyy} + u_{yyy} v_{x} + 3 u_{yy} v_{xy} + u_{y} v_{xxx} + 3 u_{y} v_{xyy} + 2 v v_{yyyy} + 8 v_{yyy} v_{y} + 6 v_{yy}^{2}}{3}$"
      ],
      "text/plain": [
       "(p_{xxxx} + p_{yyyy} + 2*u*u_{xxxx} + u*v_{xxxy} + u*v_{xyyy} + u_{xxxy}*v + 8*u_{xxx}*u_{x} + u_{xxx}*v_{y} + 3*u_{xxy}*v_{x} + 6*u_{xx}**2 + 3*u_{xx}*v_{xy} + u_{xyyy}*v + 3*u_{xyy}*v_{y} + 3*u_{xy}*v_{xx} + 3*u_{xy}*v_{yy} + 3*u_{x}*v_{xxy} + u_{x}*v_{yyy} + u_{yyy}*v_{x} + 3*u_{yy}*v_{xy} + u_{y}*v_{xxx} + 3*u_{y}*v_{xyy} + 2*v*v_{yyyy} + 8*v_{yyy}*v_{y} + 6*v_{yy}**2)/3"
      ]
     },
     "metadata": {},
     "output_type": "display_data"
    },
    {
     "name": "stdout",
     "output_type": "stream",
     "text": [
      "p_{xx} + p_{yy} + 2 u u_{xx} + 2 u v_{xy} + 2 u_{xy} v + 2 u_{x}^{2} + 2 u_{x} v_{y} + 2 u_{y} v_{x} + 2 v v_{yy} + 2 v_{y}^{2}\n",
      "+\\tau\\big(\n",
      "0\n",
      "\\big)\n",
      "+h^2\\big(\n",
      "\\frac{p_{xxxx} + p_{yyyy} + 2 u u_{xxxx} + u v_{xxxy} + u v_{xyyy} + u_{xxxy} v + 8 u_{xxx} u_{x} + u_{xxx} v_{y} + 3 u_{xxy} v_{x} + 6 u_{xx}^{2} + 3 u_{xx} v_{xy} + u_{xyyy} v + 3 u_{xyy} v_{y} + 3 u_{xy} v_{xx} + 3 u_{xy} v_{yy} + 3 u_{x} v_{xxy} + u_{x} v_{yyy} + u_{yyy} v_{x} + 3 u_{yy} v_{xy} + u_{y} v_{xxx} + 3 u_{y} v_{xyy} + 2 v v_{yyyy} + 8 v_{yyy} v_{y} + 6 v_{yy}^{2}}{3}\n",
      "\\big)\n",
      "f4-f4-f4-f4-f4-f4-f4-f4-f4-f4-f4-f4-f4-f4-f4-f4-f4-f4-f4-f4-f4-f4-f4-f4-f4-\n"
     ]
    },
    {
     "data": {
      "text/latex": [
       "$\\displaystyle p_{xx} + p_{yy} + 2 u u_{xx} + 2 u v_{xy} + 2 u_{xy} v + 2 u_{x}^{2} + 2 u_{x} v_{y} + 2 u_{y} v_{x} + 2 v v_{yy} + 2 v_{y}^{2}$"
      ],
      "text/plain": [
       "p_{xx} + p_{yy} + 2*u*u_{xx} + 2*u*v_{xy} + 2*u_{xy}*v + 2*u_{x}**2 + 2*u_{x}*v_{y} + 2*u_{y}*v_{x} + 2*v*v_{yy} + 2*v_{y}**2"
      ]
     },
     "metadata": {},
     "output_type": "display_data"
    },
    {
     "name": "stdout",
     "output_type": "stream",
     "text": [
      "tau =>\n"
     ]
    },
    {
     "data": {
      "text/latex": [
       "$\\displaystyle 0$"
      ],
      "text/plain": [
       "0"
      ]
     },
     "metadata": {},
     "output_type": "display_data"
    },
    {
     "name": "stdout",
     "output_type": "stream",
     "text": [
      "h^2 =>\n"
     ]
    },
    {
     "data": {
      "text/latex": [
       "$\\displaystyle - \\frac{Re^{2} \\left(- 2 p_{x} v v_{x} + p_{yy} u^{2} + 2 p_{y} u u_{y} + u^{3} v_{xy} + 3 u^{2} u_{y} v_{x} + u^{2} v v_{yy} + u^{2} v_{ty} + u^{2} v_{y}^{2} + 2 u u_{y} v v_{y} + 2 u u_{y} v_{t} + 2 u v v_{x} v_{y} - 2 u_{t} v v_{x} - 2 u_{y} v^{2} v_{x}\\right)}{3} + \\frac{Re \\left(- p_{xyy} u - p_{xy} u_{y} + 3 p_{xy} v_{x} + 7 p_{x} v_{xy} - p_{yyy} v + p_{y} v_{yy} + u^{2} v_{yyy} + 2 u u_{y} v_{yy} - 2 u v v_{xyy} - u v_{txy} - 8 u v_{xy} v_{y} - 2 u v_{x} v_{yy} + 3 u_{ty} v_{x} + 7 u_{t} v_{xy} + 4 u_{y} v v_{xy} - u_{y} v_{tx} - v^{2} v_{yyy} - v v_{tyy} + 2 v v_{xy} v_{x} - 2 v v_{yy} v_{y} + v_{t} v_{yy}\\right)}{3} + \\frac{2 \\left(p_{yyyy} + u v_{xyyy} + 3 u_{y} v_{xyy} + v v_{yyyy} + v_{xyy} v_{x} + 3 v_{xy}^{2} + 4 v_{yyy} v_{y} + 3 v_{yy}^{2}\\right)}{3}$"
      ],
      "text/plain": [
       "-Re**2*(-2*p_{x}*v*v_{x} + p_{yy}*u**2 + 2*p_{y}*u*u_{y} + u**3*v_{xy} + 3*u**2*u_{y}*v_{x} + u**2*v*v_{yy} + u**2*v_{ty} + u**2*v_{y}**2 + 2*u*u_{y}*v*v_{y} + 2*u*u_{y}*v_{t} + 2*u*v*v_{x}*v_{y} - 2*u_{t}*v*v_{x} - 2*u_{y}*v**2*v_{x})/3 + Re*(-p_{xyy}*u - p_{xy}*u_{y} + 3*p_{xy}*v_{x} + 7*p_{x}*v_{xy} - p_{yyy}*v + p_{y}*v_{yy} + u**2*v_{yyy} + 2*u*u_{y}*v_{yy} - 2*u*v*v_{xyy} - u*v_{txy} - 8*u*v_{xy}*v_{y} - 2*u*v_{x}*v_{yy} + 3*u_{ty}*v_{x} + 7*u_{t}*v_{xy} + 4*u_{y}*v*v_{xy} - u_{y}*v_{tx} - v**2*v_{yyy} - v*v_{tyy} + 2*v*v_{xy}*v_{x} - 2*v*v_{yy}*v_{y} + v_{t}*v_{yy})/3 + 2*(p_{yyyy} + u*v_{xyyy} + 3*u_{y}*v_{xyy} + v*v_{yyyy} + v_{xyy}*v_{x} + 3*v_{xy}**2 + 4*v_{yyy}*v_{y} + 3*v_{yy}**2)/3"
      ]
     },
     "metadata": {},
     "output_type": "display_data"
    },
    {
     "name": "stdout",
     "output_type": "stream",
     "text": [
      "p_{xx} + p_{yy} + 2 u u_{xx} + 2 u v_{xy} + 2 u_{xy} v + 2 u_{x}^{2} + 2 u_{x} v_{y} + 2 u_{y} v_{x} + 2 v v_{yy} + 2 v_{y}^{2}\n",
      "+\\tau\\big(\n",
      "0\n",
      "\\big)\n",
      "+h^2\\big(\n",
      "- \\frac{Re^{2} \\left(- 2 p_{x} v v_{x} + p_{yy} u^{2} + 2 p_{y} u u_{y} + u^{3} v_{xy} + 3 u^{2} u_{y} v_{x} + u^{2} v v_{yy} + u^{2} v_{ty} + u^{2} v_{y}^{2} + 2 u u_{y} v v_{y} + 2 u u_{y} v_{t} + 2 u v v_{x} v_{y} - 2 u_{t} v v_{x} - 2 u_{y} v^{2} v_{x}\\right)}{3} + \\frac{Re \\left(- p_{xyy} u - p_{xy} u_{y} + 3 p_{xy} v_{x} + 7 p_{x} v_{xy} - p_{yyy} v + p_{y} v_{yy} + u^{2} v_{yyy} + 2 u u_{y} v_{yy} - 2 u v v_{xyy} - u v_{txy} - 8 u v_{xy} v_{y} - 2 u v_{x} v_{yy} + 3 u_{ty} v_{x} + 7 u_{t} v_{xy} + 4 u_{y} v v_{xy} - u_{y} v_{tx} - v^{2} v_{yyy} - v v_{tyy} + 2 v v_{xy} v_{x} - 2 v v_{yy} v_{y} + v_{t} v_{yy}\\right)}{3} + \\frac{2 \\left(p_{yyyy} + u v_{xyyy} + 3 u_{y} v_{xyy} + v v_{yyyy} + v_{xyy} v_{x} + 3 v_{xy}^{2} + 4 v_{yyy} v_{y} + 3 v_{yy}^{2}\\right)}{3}\n",
      "\\big)\n"
     ]
    },
    {
     "data": {
      "text/latex": [
       "$\\displaystyle 0$"
      ],
      "text/plain": [
       "0"
      ]
     },
     "metadata": {},
     "output_type": "display_data"
    },
    {
     "name": "stdout",
     "output_type": "stream",
     "text": [
      "tau =>\n"
     ]
    },
    {
     "data": {
      "text/latex": [
       "$\\displaystyle 0$"
      ],
      "text/plain": [
       "0"
      ]
     },
     "metadata": {},
     "output_type": "display_data"
    },
    {
     "name": "stdout",
     "output_type": "stream",
     "text": [
      "h^2 =>\n"
     ]
    },
    {
     "data": {
      "text/latex": [
       "$\\displaystyle 0$"
      ],
      "text/plain": [
       "0"
      ]
     },
     "metadata": {},
     "output_type": "display_data"
    },
    {
     "name": "stdout",
     "output_type": "stream",
     "text": [
      "0\n",
      "+\\tau\\big(\n",
      "0\n",
      "\\big)\n",
      "+h^2\\big(\n",
      "0\n",
      "\\big)\n"
     ]
    },
    {
     "data": {
      "text/latex": [
       "$\\displaystyle 0$"
      ],
      "text/plain": [
       "0"
      ]
     },
     "metadata": {},
     "output_type": "display_data"
    },
    {
     "name": "stdout",
     "output_type": "stream",
     "text": [
      "tau =>\n"
     ]
    },
    {
     "data": {
      "text/latex": [
       "$\\displaystyle 0$"
      ],
      "text/plain": [
       "0"
      ]
     },
     "metadata": {},
     "output_type": "display_data"
    },
    {
     "name": "stdout",
     "output_type": "stream",
     "text": [
      "h^2 =>\n"
     ]
    },
    {
     "data": {
      "text/latex": [
       "$\\displaystyle \\frac{\\lambda \\left(- Re^{2} \\lambda \\left(4 \\lambda^{2} e^{2 \\lambda x} \\sin^{6}{\\left(\\pi y \\right)} - 6 \\lambda^{2} e^{2 \\lambda x} \\sin^{4}{\\left(\\pi y \\right)} + 2 \\lambda^{2} e^{2 \\lambda x} \\sin^{2}{\\left(\\pi y \\right)} - 24 \\pi^{2} e^{2 \\lambda x} \\sin^{6}{\\left(\\pi y \\right)} + 36 \\pi^{2} e^{2 \\lambda x} \\sin^{4}{\\left(\\pi y \\right)} - 14 \\pi^{2} e^{2 \\lambda x} \\sin^{2}{\\left(\\pi y \\right)} + \\pi^{2} e^{2 \\lambda x} - 16 \\pi^{2} e^{\\lambda x} \\sin^{4}{\\left(\\pi y \\right)} + 16 \\pi^{2} e^{\\lambda x} \\sin^{2}{\\left(\\pi y \\right)} - 2 \\pi^{2} e^{\\lambda x} - 2 \\pi^{2} \\sin^{2}{\\left(\\pi y \\right)} + \\pi^{2}\\right) + Re \\left(4 \\lambda^{4} e^{2 \\lambda x} \\sin^{6}{\\left(\\pi y \\right)} - 6 \\lambda^{4} e^{2 \\lambda x} \\sin^{4}{\\left(\\pi y \\right)} + 2 \\lambda^{4} e^{2 \\lambda x} \\sin^{2}{\\left(\\pi y \\right)} - 40 \\pi^{2} \\lambda^{2} e^{2 \\lambda x} \\sin^{6}{\\left(\\pi y \\right)} + 60 \\pi^{2} \\lambda^{2} e^{2 \\lambda x} \\sin^{4}{\\left(\\pi y \\right)} - 22 \\pi^{2} \\lambda^{2} e^{2 \\lambda x} \\sin^{2}{\\left(\\pi y \\right)} + \\pi^{2} \\lambda^{2} e^{2 \\lambda x} - 48 \\pi^{2} \\lambda^{2} e^{\\lambda x} \\sin^{4}{\\left(\\pi y \\right)} + 48 \\pi^{2} \\lambda^{2} e^{\\lambda x} \\sin^{2}{\\left(\\pi y \\right)} - 8 \\pi^{2} \\lambda^{2} e^{\\lambda x} + 96 \\pi^{4} e^{2 \\lambda x} \\sin^{6}{\\left(\\pi y \\right)} - 144 \\pi^{4} e^{2 \\lambda x} \\sin^{4}{\\left(\\pi y \\right)} + 56 \\pi^{4} e^{2 \\lambda x} \\sin^{2}{\\left(\\pi y \\right)} - 4 \\pi^{4} e^{2 \\lambda x} + 64 \\pi^{4} e^{\\lambda x} \\sin^{4}{\\left(\\pi y \\right)} - 64 \\pi^{4} e^{\\lambda x} \\sin^{2}{\\left(\\pi y \\right)} + 8 \\pi^{4} e^{\\lambda x} + 8 \\pi^{4} \\sin^{2}{\\left(\\pi y \\right)} - 4 \\pi^{4}\\right) + 2 \\pi^{2} \\lambda \\left(16 \\lambda^{2} e^{\\lambda x} \\sin^{4}{\\left(\\pi y \\right)} - 16 \\lambda^{2} e^{\\lambda x} \\sin^{2}{\\left(\\pi y \\right)} + 3 \\lambda^{2} e^{\\lambda x} - 64 \\pi^{2} e^{\\lambda x} \\sin^{4}{\\left(\\pi y \\right)} + 64 \\pi^{2} e^{\\lambda x} \\sin^{2}{\\left(\\pi y \\right)} - 12 \\pi^{2} e^{\\lambda x} + 8 \\pi^{2} \\sin^{2}{\\left(\\pi y \\right)} - 4 \\pi^{2}\\right)\\right) e^{\\lambda x}}{3 \\pi^{2}}$"
      ],
      "text/plain": [
       "lambda*(-Re**2*lambda*(4*lambda**2*exp(2*lambda*x)*sin(pi*y)**6 - 6*lambda**2*exp(2*lambda*x)*sin(pi*y)**4 + 2*lambda**2*exp(2*lambda*x)*sin(pi*y)**2 - 24*pi**2*exp(2*lambda*x)*sin(pi*y)**6 + 36*pi**2*exp(2*lambda*x)*sin(pi*y)**4 - 14*pi**2*exp(2*lambda*x)*sin(pi*y)**2 + pi**2*exp(2*lambda*x) - 16*pi**2*exp(lambda*x)*sin(pi*y)**4 + 16*pi**2*exp(lambda*x)*sin(pi*y)**2 - 2*pi**2*exp(lambda*x) - 2*pi**2*sin(pi*y)**2 + pi**2) + Re*(4*lambda**4*exp(2*lambda*x)*sin(pi*y)**6 - 6*lambda**4*exp(2*lambda*x)*sin(pi*y)**4 + 2*lambda**4*exp(2*lambda*x)*sin(pi*y)**2 - 40*pi**2*lambda**2*exp(2*lambda*x)*sin(pi*y)**6 + 60*pi**2*lambda**2*exp(2*lambda*x)*sin(pi*y)**4 - 22*pi**2*lambda**2*exp(2*lambda*x)*sin(pi*y)**2 + pi**2*lambda**2*exp(2*lambda*x) - 48*pi**2*lambda**2*exp(lambda*x)*sin(pi*y)**4 + 48*pi**2*lambda**2*exp(lambda*x)*sin(pi*y)**2 - 8*pi**2*lambda**2*exp(lambda*x) + 96*pi**4*exp(2*lambda*x)*sin(pi*y)**6 - 144*pi**4*exp(2*lambda*x)*sin(pi*y)**4 + 56*pi**4*exp(2*lambda*x)*sin(pi*y)**2 - 4*pi**4*exp(2*lambda*x) + 64*pi**4*exp(lambda*x)*sin(pi*y)**4 - 64*pi**4*exp(lambda*x)*sin(pi*y)**2 + 8*pi**4*exp(lambda*x) + 8*pi**4*sin(pi*y)**2 - 4*pi**4) + 2*pi**2*lambda*(16*lambda**2*exp(lambda*x)*sin(pi*y)**4 - 16*lambda**2*exp(lambda*x)*sin(pi*y)**2 + 3*lambda**2*exp(lambda*x) - 64*pi**2*exp(lambda*x)*sin(pi*y)**4 + 64*pi**2*exp(lambda*x)*sin(pi*y)**2 - 12*pi**2*exp(lambda*x) + 8*pi**2*sin(pi*y)**2 - 4*pi**2))*exp(lambda*x)/(3*pi**2)"
      ]
     },
     "metadata": {},
     "output_type": "display_data"
    },
    {
     "name": "stdout",
     "output_type": "stream",
     "text": [
      "0\n",
      "+\\tau\\big(\n",
      "0\n",
      "\\big)\n",
      "+h^2\\big(\n",
      "\\frac{\\lambda \\left(- Re^{2} \\lambda \\left(4 \\lambda^{2} e^{2 \\lambda x} \\sin^{6}{\\left(\\pi y \\right)} - 6 \\lambda^{2} e^{2 \\lambda x} \\sin^{4}{\\left(\\pi y \\right)} + 2 \\lambda^{2} e^{2 \\lambda x} \\sin^{2}{\\left(\\pi y \\right)} - 24 \\pi^{2} e^{2 \\lambda x} \\sin^{6}{\\left(\\pi y \\right)} + 36 \\pi^{2} e^{2 \\lambda x} \\sin^{4}{\\left(\\pi y \\right)} - 14 \\pi^{2} e^{2 \\lambda x} \\sin^{2}{\\left(\\pi y \\right)} + \\pi^{2} e^{2 \\lambda x} - 16 \\pi^{2} e^{\\lambda x} \\sin^{4}{\\left(\\pi y \\right)} + 16 \\pi^{2} e^{\\lambda x} \\sin^{2}{\\left(\\pi y \\right)} - 2 \\pi^{2} e^{\\lambda x} - 2 \\pi^{2} \\sin^{2}{\\left(\\pi y \\right)} + \\pi^{2}\\right) + Re \\left(4 \\lambda^{4} e^{2 \\lambda x} \\sin^{6}{\\left(\\pi y \\right)} - 6 \\lambda^{4} e^{2 \\lambda x} \\sin^{4}{\\left(\\pi y \\right)} + 2 \\lambda^{4} e^{2 \\lambda x} \\sin^{2}{\\left(\\pi y \\right)} - 40 \\pi^{2} \\lambda^{2} e^{2 \\lambda x} \\sin^{6}{\\left(\\pi y \\right)} + 60 \\pi^{2} \\lambda^{2} e^{2 \\lambda x} \\sin^{4}{\\left(\\pi y \\right)} - 22 \\pi^{2} \\lambda^{2} e^{2 \\lambda x} \\sin^{2}{\\left(\\pi y \\right)} + \\pi^{2} \\lambda^{2} e^{2 \\lambda x} - 48 \\pi^{2} \\lambda^{2} e^{\\lambda x} \\sin^{4}{\\left(\\pi y \\right)} + 48 \\pi^{2} \\lambda^{2} e^{\\lambda x} \\sin^{2}{\\left(\\pi y \\right)} - 8 \\pi^{2} \\lambda^{2} e^{\\lambda x} + 96 \\pi^{4} e^{2 \\lambda x} \\sin^{6}{\\left(\\pi y \\right)} - 144 \\pi^{4} e^{2 \\lambda x} \\sin^{4}{\\left(\\pi y \\right)} + 56 \\pi^{4} e^{2 \\lambda x} \\sin^{2}{\\left(\\pi y \\right)} - 4 \\pi^{4} e^{2 \\lambda x} + 64 \\pi^{4} e^{\\lambda x} \\sin^{4}{\\left(\\pi y \\right)} - 64 \\pi^{4} e^{\\lambda x} \\sin^{2}{\\left(\\pi y \\right)} + 8 \\pi^{4} e^{\\lambda x} + 8 \\pi^{4} \\sin^{2}{\\left(\\pi y \\right)} - 4 \\pi^{4}\\right) + 2 \\pi^{2} \\lambda \\left(16 \\lambda^{2} e^{\\lambda x} \\sin^{4}{\\left(\\pi y \\right)} - 16 \\lambda^{2} e^{\\lambda x} \\sin^{2}{\\left(\\pi y \\right)} + 3 \\lambda^{2} e^{\\lambda x} - 64 \\pi^{2} e^{\\lambda x} \\sin^{4}{\\left(\\pi y \\right)} + 64 \\pi^{2} e^{\\lambda x} \\sin^{2}{\\left(\\pi y \\right)} - 12 \\pi^{2} e^{\\lambda x} + 8 \\pi^{2} \\sin^{2}{\\left(\\pi y \\right)} - 4 \\pi^{2}\\right)\\right) e^{\\lambda x}}{3 \\pi^{2}}\n",
      "\\big)\n"
     ]
    },
    {
     "data": {
      "text/latex": [
       "$\\displaystyle 0$"
      ],
      "text/plain": [
       "0"
      ]
     },
     "metadata": {},
     "output_type": "display_data"
    },
    {
     "name": "stdout",
     "output_type": "stream",
     "text": [
      "tau =>\n"
     ]
    },
    {
     "data": {
      "text/latex": [
       "$\\displaystyle 0$"
      ],
      "text/plain": [
       "0"
      ]
     },
     "metadata": {},
     "output_type": "display_data"
    },
    {
     "name": "stdout",
     "output_type": "stream",
     "text": [
      "h^2 =>\n"
     ]
    },
    {
     "data": {
      "text/latex": [
       "$\\displaystyle 0$"
      ],
      "text/plain": [
       "0"
      ]
     },
     "metadata": {},
     "output_type": "display_data"
    },
    {
     "name": "stdout",
     "output_type": "stream",
     "text": [
      "0\n",
      "+\\tau\\big(\n",
      "0\n",
      "\\big)\n",
      "+h^2\\big(\n",
      "0\n",
      "\\big)\n"
     ]
    }
   ],
   "source": [
    "F1 = clip(Dx(u) + Dy(v))\n",
    "F2 = clip(Dt(u) + It(Dx(u**2) + Dy(v*u) + Dx(p) - DD(u)/Re))\n",
    "F3 = clip(Dt(v) + It(Dx(u*v) + Dy(v**2) + Dy(p) - DD(v)/Re))\n",
    "F4 = clip(Dx(Dx(u**2) + Dy(v*u) + Dx(p)) + Dy(Dx(u*v) + Dy(v**2) + Dy(p)))\n",
    "\n",
    "build(F1, F2, F3, F4)"
   ]
  },
  {
   "cell_type": "code",
   "execution_count": 21,
   "metadata": {},
   "outputs": [
    {
     "data": {
      "text/latex": [
       "$\\displaystyle u_{x} + v_{y}$"
      ],
      "text/plain": [
       "u_{x} + v_{y}"
      ]
     },
     "metadata": {},
     "output_type": "display_data"
    },
    {
     "name": "stdout",
     "output_type": "stream",
     "text": [
      "tau =>\n"
     ]
    },
    {
     "data": {
      "text/latex": [
       "$\\displaystyle 0$"
      ],
      "text/plain": [
       "0"
      ]
     },
     "metadata": {},
     "output_type": "display_data"
    },
    {
     "name": "stdout",
     "output_type": "stream",
     "text": [
      "h^2 =>\n"
     ]
    },
    {
     "data": {
      "text/latex": [
       "$\\displaystyle \\frac{u_{xxx} + v_{yyy}}{6}$"
      ],
      "text/plain": [
       "(u_{xxx} + v_{yyy})/6"
      ]
     },
     "metadata": {},
     "output_type": "display_data"
    },
    {
     "name": "stdout",
     "output_type": "stream",
     "text": [
      "u_{x} + v_{y}\n",
      "+\\tau\\big(\n",
      "0\n",
      "\\big)\n",
      "+h^2\\big(\n",
      "\\frac{u_{xxx} + v_{yyy}}{6}\n",
      "\\big)\n",
      "f1-f1-f1-f1-f1-f1-f1-f1-f1-f1-f1-f1-f1-f1-f1-f1-f1-f1-f1-f1-f1-f1-f1-f1-f1-\n"
     ]
    },
    {
     "data": {
      "text/latex": [
       "$\\displaystyle u_{x} + v_{y}$"
      ],
      "text/plain": [
       "u_{x} + v_{y}"
      ]
     },
     "metadata": {},
     "output_type": "display_data"
    },
    {
     "name": "stdout",
     "output_type": "stream",
     "text": [
      "tau =>\n"
     ]
    },
    {
     "data": {
      "text/latex": [
       "$\\displaystyle 0$"
      ],
      "text/plain": [
       "0"
      ]
     },
     "metadata": {},
     "output_type": "display_data"
    },
    {
     "name": "stdout",
     "output_type": "stream",
     "text": [
      "h^2 =>\n"
     ]
    },
    {
     "data": {
      "text/latex": [
       "$\\displaystyle - \\frac{Re \\left(p_{yy} + u v_{xy} + u_{y} v_{x} + v v_{yy} + v_{ty} + v_{y}^{2}\\right)}{6} + \\frac{v_{yyy}}{3}$"
      ],
      "text/plain": [
       "-Re*(p_{yy} + u*v_{xy} + u_{y}*v_{x} + v*v_{yy} + v_{ty} + v_{y}**2)/6 + v_{yyy}/3"
      ]
     },
     "metadata": {},
     "output_type": "display_data"
    },
    {
     "name": "stdout",
     "output_type": "stream",
     "text": [
      "u_{x} + v_{y}\n",
      "+\\tau\\big(\n",
      "0\n",
      "\\big)\n",
      "+h^2\\big(\n",
      "- \\frac{Re \\left(p_{yy} + u v_{xy} + u_{y} v_{x} + v v_{yy} + v_{ty} + v_{y}^{2}\\right)}{6} + \\frac{v_{yyy}}{3}\n",
      "\\big)\n"
     ]
    },
    {
     "data": {
      "text/latex": [
       "$\\displaystyle 0$"
      ],
      "text/plain": [
       "0"
      ]
     },
     "metadata": {},
     "output_type": "display_data"
    },
    {
     "name": "stdout",
     "output_type": "stream",
     "text": [
      "tau =>\n"
     ]
    },
    {
     "data": {
      "text/latex": [
       "$\\displaystyle 0$"
      ],
      "text/plain": [
       "0"
      ]
     },
     "metadata": {},
     "output_type": "display_data"
    },
    {
     "name": "stdout",
     "output_type": "stream",
     "text": [
      "h^2 =>\n"
     ]
    },
    {
     "data": {
      "text/latex": [
       "$\\displaystyle 0$"
      ],
      "text/plain": [
       "0"
      ]
     },
     "metadata": {},
     "output_type": "display_data"
    },
    {
     "name": "stdout",
     "output_type": "stream",
     "text": [
      "0\n",
      "+\\tau\\big(\n",
      "0\n",
      "\\big)\n",
      "+h^2\\big(\n",
      "0\n",
      "\\big)\n"
     ]
    },
    {
     "data": {
      "text/latex": [
       "$\\displaystyle 0$"
      ],
      "text/plain": [
       "0"
      ]
     },
     "metadata": {},
     "output_type": "display_data"
    },
    {
     "name": "stdout",
     "output_type": "stream",
     "text": [
      "tau =>\n"
     ]
    },
    {
     "data": {
      "text/latex": [
       "$\\displaystyle 0$"
      ],
      "text/plain": [
       "0"
      ]
     },
     "metadata": {},
     "output_type": "display_data"
    },
    {
     "name": "stdout",
     "output_type": "stream",
     "text": [
      "h^2 =>\n"
     ]
    },
    {
     "data": {
      "text/latex": [
       "$\\displaystyle - \\frac{\\lambda \\left(Re \\lambda + 8 \\pi^{2}\\right) e^{\\lambda x} \\cos{\\left(2 \\pi y \\right)}}{6}$"
      ],
      "text/plain": [
       "-lambda*(Re*lambda + 8*pi**2)*exp(lambda*x)*cos(2*pi*y)/6"
      ]
     },
     "metadata": {},
     "output_type": "display_data"
    },
    {
     "name": "stdout",
     "output_type": "stream",
     "text": [
      "0\n",
      "+\\tau\\big(\n",
      "0\n",
      "\\big)\n",
      "+h^2\\big(\n",
      "- \\frac{\\lambda \\left(Re \\lambda + 8 \\pi^{2}\\right) e^{\\lambda x} \\cos{\\left(2 \\pi y \\right)}}{6}\n",
      "\\big)\n",
      "-------------------------\n"
     ]
    },
    {
     "data": {
      "text/latex": [
       "$\\displaystyle p_{x} + 2 u u_{x} + u v_{y} + u_{t} + u_{y} v + \\frac{- u_{xx} - u_{yy}}{Re}$"
      ],
      "text/plain": [
       "p_{x} + 2*u*u_{x} + u*v_{y} + u_{t} + u_{y}*v + (-u_{xx} - u_{yy})/Re"
      ]
     },
     "metadata": {},
     "output_type": "display_data"
    },
    {
     "name": "stdout",
     "output_type": "stream",
     "text": [
      "tau =>\n"
     ]
    },
    {
     "data": {
      "text/latex": [
       "$\\displaystyle \\frac{p_{tx} + 2 u u_{tx} + u v_{ty} + u_{tt} + u_{ty} v + 2 u_{t} u_{x} + u_{t} v_{y} + u_{y} v_{t}}{2} - \\frac{u_{txx} + u_{tyy}}{2 Re}$"
      ],
      "text/plain": [
       "(p_{tx} + 2*u*u_{tx} + u*v_{ty} + u_{tt} + u_{ty}*v + 2*u_{t}*u_{x} + u_{t}*v_{y} + u_{y}*v_{t})/2 - (u_{txx} + u_{tyy})/(2*Re)"
      ]
     },
     "metadata": {},
     "output_type": "display_data"
    },
    {
     "name": "stdout",
     "output_type": "stream",
     "text": [
      "h^2 =>\n"
     ]
    },
    {
     "data": {
      "text/latex": [
       "$\\displaystyle \\frac{p_{xxx} + 2 u u_{xxx} + u v_{yyy} + 6 u_{xx} u_{x} + u_{yyy} v + 3 u_{yy} v_{y} + 3 u_{y} v_{yy}}{6} - \\frac{u_{xxxx} + u_{yyyy}}{3 Re}$"
      ],
      "text/plain": [
       "(p_{xxx} + 2*u*u_{xxx} + u*v_{yyy} + 6*u_{xx}*u_{x} + u_{yyy}*v + 3*u_{yy}*v_{y} + 3*u_{y}*v_{yy})/6 - (u_{xxxx} + u_{yyyy})/(3*Re)"
      ]
     },
     "metadata": {},
     "output_type": "display_data"
    },
    {
     "name": "stdout",
     "output_type": "stream",
     "text": [
      "p_{x} + 2 u u_{x} + u v_{y} + u_{t} + u_{y} v + \\frac{- u_{xx} - u_{yy}}{Re}\n",
      "+\\tau\\big(\n",
      "\\frac{p_{tx} + 2 u u_{tx} + u v_{ty} + u_{tt} + u_{ty} v + 2 u_{t} u_{x} + u_{t} v_{y} + u_{y} v_{t}}{2} - \\frac{u_{txx} + u_{tyy}}{2 Re}\n",
      "\\big)\n",
      "+h^2\\big(\n",
      "\\frac{p_{xxx} + 2 u u_{xxx} + u v_{yyy} + 6 u_{xx} u_{x} + u_{yyy} v + 3 u_{yy} v_{y} + 3 u_{y} v_{yy}}{6} - \\frac{u_{xxxx} + u_{yyyy}}{3 Re}\n",
      "\\big)\n",
      "f2-f2-f2-f2-f2-f2-f2-f2-f2-f2-f2-f2-f2-f2-f2-f2-f2-f2-f2-f2-f2-f2-f2-f2-f2-\n"
     ]
    },
    {
     "data": {
      "text/latex": [
       "$\\displaystyle p_{x} + 2 u u_{x} + u v_{y} + u_{t} + u_{y} v + \\frac{- u_{xx} - u_{yy}}{Re}$"
      ],
      "text/plain": [
       "p_{x} + 2*u*u_{x} + u*v_{y} + u_{t} + u_{y}*v + (-u_{xx} - u_{yy})/Re"
      ]
     },
     "metadata": {},
     "output_type": "display_data"
    },
    {
     "name": "stdout",
     "output_type": "stream",
     "text": [
      "tau =>\n"
     ]
    },
    {
     "data": {
      "text/latex": [
       "$\\displaystyle 0$"
      ],
      "text/plain": [
       "0"
      ]
     },
     "metadata": {},
     "output_type": "display_data"
    },
    {
     "name": "stdout",
     "output_type": "stream",
     "text": [
      "h^2 =>\n"
     ]
    },
    {
     "data": {
      "text/latex": [
       "$\\displaystyle \\frac{Re^{2} v^{2} \\left(- p_{x} + u v_{y} - u_{t} - u_{y} v\\right)}{6} + \\frac{Re \\left(- 2 p_{tx} - p_{xy} v + p_{x} v_{y} + u v v_{yy} + 2 u v_{ty} - u v_{y}^{2} - 2 u_{tt} - 3 u_{ty} v + 3 u_{t} v_{y} + u_{y} v v_{y} - 2 u_{y} v_{t} - v^{2} v_{xy}\\right)}{6} + \\frac{- p_{xyy} + 3 u v_{yyy} + 5 u_{y} v_{yy} + v v_{xyy} + 5 v_{xy} v_{y} + 2 v_{x} v_{yy}}{6} - \\frac{2 v_{xyyy}}{3 Re}$"
      ],
      "text/plain": [
       "Re**2*v**2*(-p_{x} + u*v_{y} - u_{t} - u_{y}*v)/6 + Re*(-2*p_{tx} - p_{xy}*v + p_{x}*v_{y} + u*v*v_{yy} + 2*u*v_{ty} - u*v_{y}**2 - 2*u_{tt} - 3*u_{ty}*v + 3*u_{t}*v_{y} + u_{y}*v*v_{y} - 2*u_{y}*v_{t} - v**2*v_{xy})/6 + (-p_{xyy} + 3*u*v_{yyy} + 5*u_{y}*v_{yy} + v*v_{xyy} + 5*v_{xy}*v_{y} + 2*v_{x}*v_{yy})/6 - 2*v_{xyyy}/(3*Re)"
      ]
     },
     "metadata": {},
     "output_type": "display_data"
    },
    {
     "name": "stdout",
     "output_type": "stream",
     "text": [
      "p_{x} + 2 u u_{x} + u v_{y} + u_{t} + u_{y} v + \\frac{- u_{xx} - u_{yy}}{Re}\n",
      "+\\tau\\big(\n",
      "0\n",
      "\\big)\n",
      "+h^2\\big(\n",
      "\\frac{Re^{2} v^{2} \\left(- p_{x} + u v_{y} - u_{t} - u_{y} v\\right)}{6} + \\frac{Re \\left(- 2 p_{tx} - p_{xy} v + p_{x} v_{y} + u v v_{yy} + 2 u v_{ty} - u v_{y}^{2} - 2 u_{tt} - 3 u_{ty} v + 3 u_{t} v_{y} + u_{y} v v_{y} - 2 u_{y} v_{t} - v^{2} v_{xy}\\right)}{6} + \\frac{- p_{xyy} + 3 u v_{yyy} + 5 u_{y} v_{yy} + v v_{xyy} + 5 v_{xy} v_{y} + 2 v_{x} v_{yy}}{6} - \\frac{2 v_{xyyy}}{3 Re}\n",
      "\\big)\n"
     ]
    },
    {
     "data": {
      "text/latex": [
       "$\\displaystyle 0$"
      ],
      "text/plain": [
       "0"
      ]
     },
     "metadata": {},
     "output_type": "display_data"
    },
    {
     "name": "stdout",
     "output_type": "stream",
     "text": [
      "tau =>\n"
     ]
    },
    {
     "data": {
      "text/latex": [
       "$\\displaystyle 0$"
      ],
      "text/plain": [
       "0"
      ]
     },
     "metadata": {},
     "output_type": "display_data"
    },
    {
     "name": "stdout",
     "output_type": "stream",
     "text": [
      "h^2 =>\n"
     ]
    },
    {
     "data": {
      "text/latex": [
       "$\\displaystyle \\frac{2 e^{- \\frac{2 t}{Re}} \\sin{\\left(y \\right)} \\cos{\\left(x \\right)}}{3 Re}$"
      ],
      "text/plain": [
       "2*exp(-2*t/Re)*sin(y)*cos(x)/(3*Re)"
      ]
     },
     "metadata": {},
     "output_type": "display_data"
    },
    {
     "name": "stdout",
     "output_type": "stream",
     "text": [
      "0\n",
      "+\\tau\\big(\n",
      "0\n",
      "\\big)\n",
      "+h^2\\big(\n",
      "\\frac{2 e^{- \\frac{2 t}{Re}} \\sin{\\left(y \\right)} \\cos{\\left(x \\right)}}{3 Re}\n",
      "\\big)\n"
     ]
    },
    {
     "data": {
      "text/latex": [
       "$\\displaystyle \\frac{\\left(- Re \\lambda + \\left(\\lambda - 2 \\pi\\right) \\left(\\lambda + 2 \\pi\\right)\\right) e^{\\lambda x} \\cos{\\left(2 \\pi y \\right)}}{Re}$"
      ],
      "text/plain": [
       "(-Re*lambda + (lambda - 2*pi)*(lambda + 2*pi))*exp(lambda*x)*cos(2*pi*y)/Re"
      ]
     },
     "metadata": {},
     "output_type": "display_data"
    },
    {
     "name": "stdout",
     "output_type": "stream",
     "text": [
      "tau =>\n"
     ]
    },
    {
     "data": {
      "text/latex": [
       "$\\displaystyle 0$"
      ],
      "text/plain": [
       "0"
      ]
     },
     "metadata": {},
     "output_type": "display_data"
    },
    {
     "name": "stdout",
     "output_type": "stream",
     "text": [
      "h^2 =>\n"
     ]
    },
    {
     "data": {
      "text/latex": [
       "$\\displaystyle \\frac{\\lambda \\left(Re^{2} \\lambda^{2} \\left(Re - \\lambda\\right) e^{2 \\lambda x} \\sin^{2}{\\left(2 \\pi y \\right)} \\cos{\\left(2 \\pi y \\right)} + 4 \\pi^{2} Re \\left(8 Re \\lambda e^{2 \\lambda x} \\sin^{6}{\\left(\\pi y \\right)} - 12 Re \\lambda e^{2 \\lambda x} \\sin^{4}{\\left(\\pi y \\right)} + 4 Re \\lambda e^{2 \\lambda x} \\sin^{2}{\\left(\\pi y \\right)} - Re \\lambda e^{\\lambda x} + 32 \\lambda^{2} e^{\\lambda x} \\sin^{4}{\\left(\\pi y \\right)} - 32 \\lambda^{2} e^{\\lambda x} \\sin^{2}{\\left(\\pi y \\right)} + 5 \\lambda^{2} e^{\\lambda x} + 128 \\pi^{2} e^{\\lambda x} \\sin^{4}{\\left(\\pi y \\right)} - 128 \\pi^{2} e^{\\lambda x} \\sin^{2}{\\left(\\pi y \\right)} + 12 \\pi^{2} e^{\\lambda x} + 24 \\pi^{2} \\sin^{2}{\\left(\\pi y \\right)} - 12 \\pi^{2}\\right) + 64 \\pi^{4} \\lambda \\cos{\\left(2 \\pi y \\right)}\\right) e^{\\lambda x}}{24 \\pi^{2} Re}$"
      ],
      "text/plain": [
       "lambda*(Re**2*lambda**2*(Re - lambda)*exp(2*lambda*x)*sin(2*pi*y)**2*cos(2*pi*y) + 4*pi**2*Re*(8*Re*lambda*exp(2*lambda*x)*sin(pi*y)**6 - 12*Re*lambda*exp(2*lambda*x)*sin(pi*y)**4 + 4*Re*lambda*exp(2*lambda*x)*sin(pi*y)**2 - Re*lambda*exp(lambda*x) + 32*lambda**2*exp(lambda*x)*sin(pi*y)**4 - 32*lambda**2*exp(lambda*x)*sin(pi*y)**2 + 5*lambda**2*exp(lambda*x) + 128*pi**2*exp(lambda*x)*sin(pi*y)**4 - 128*pi**2*exp(lambda*x)*sin(pi*y)**2 + 12*pi**2*exp(lambda*x) + 24*pi**2*sin(pi*y)**2 - 12*pi**2) + 64*pi**4*lambda*cos(2*pi*y))*exp(lambda*x)/(24*pi**2*Re)"
      ]
     },
     "metadata": {},
     "output_type": "display_data"
    },
    {
     "name": "stdout",
     "output_type": "stream",
     "text": [
      "\\frac{\\left(- Re \\lambda + \\left(\\lambda - 2 \\pi\\right) \\left(\\lambda + 2 \\pi\\right)\\right) e^{\\lambda x} \\cos{\\left(2 \\pi y \\right)}}{Re}\n",
      "+\\tau\\big(\n",
      "0\n",
      "\\big)\n",
      "+h^2\\big(\n",
      "\\frac{\\lambda \\left(Re^{2} \\lambda^{2} \\left(Re - \\lambda\\right) e^{2 \\lambda x} \\sin^{2}{\\left(2 \\pi y \\right)} \\cos{\\left(2 \\pi y \\right)} + 4 \\pi^{2} Re \\left(8 Re \\lambda e^{2 \\lambda x} \\sin^{6}{\\left(\\pi y \\right)} - 12 Re \\lambda e^{2 \\lambda x} \\sin^{4}{\\left(\\pi y \\right)} + 4 Re \\lambda e^{2 \\lambda x} \\sin^{2}{\\left(\\pi y \\right)} - Re \\lambda e^{\\lambda x} + 32 \\lambda^{2} e^{\\lambda x} \\sin^{4}{\\left(\\pi y \\right)} - 32 \\lambda^{2} e^{\\lambda x} \\sin^{2}{\\left(\\pi y \\right)} + 5 \\lambda^{2} e^{\\lambda x} + 128 \\pi^{2} e^{\\lambda x} \\sin^{4}{\\left(\\pi y \\right)} - 128 \\pi^{2} e^{\\lambda x} \\sin^{2}{\\left(\\pi y \\right)} + 12 \\pi^{2} e^{\\lambda x} + 24 \\pi^{2} \\sin^{2}{\\left(\\pi y \\right)} - 12 \\pi^{2}\\right) + 64 \\pi^{4} \\lambda \\cos{\\left(2 \\pi y \\right)}\\right) e^{\\lambda x}}{24 \\pi^{2} Re}\n",
      "\\big)\n",
      "-------------------------\n"
     ]
    },
    {
     "data": {
      "text/latex": [
       "$\\displaystyle p_{y} + u v_{x} + u_{x} v + 2 v v_{y} + v_{t} + \\frac{- v_{xx} - v_{yy}}{Re}$"
      ],
      "text/plain": [
       "p_{y} + u*v_{x} + u_{x}*v + 2*v*v_{y} + v_{t} + (-v_{xx} - v_{yy})/Re"
      ]
     },
     "metadata": {},
     "output_type": "display_data"
    },
    {
     "name": "stdout",
     "output_type": "stream",
     "text": [
      "tau =>\n"
     ]
    },
    {
     "data": {
      "text/latex": [
       "$\\displaystyle \\frac{p_{ty} + u v_{tx} + u_{tx} v + u_{t} v_{x} + u_{x} v_{t} + 2 v v_{ty} + v_{tt} + 2 v_{t} v_{y}}{2} - \\frac{v_{txx} + v_{tyy}}{2 Re}$"
      ],
      "text/plain": [
       "(p_{ty} + u*v_{tx} + u_{tx}*v + u_{t}*v_{x} + u_{x}*v_{t} + 2*v*v_{ty} + v_{tt} + 2*v_{t}*v_{y})/2 - (v_{txx} + v_{tyy})/(2*Re)"
      ]
     },
     "metadata": {},
     "output_type": "display_data"
    },
    {
     "name": "stdout",
     "output_type": "stream",
     "text": [
      "h^2 =>\n"
     ]
    },
    {
     "data": {
      "text/latex": [
       "$\\displaystyle \\frac{p_{yyy} + u v_{xxx} + u_{xxx} v + 3 u_{xx} v_{x} + 3 u_{x} v_{xx} + 2 v v_{yyy} + 6 v_{yy} v_{y}}{6} - \\frac{v_{xxxx} + v_{yyyy}}{3 Re}$"
      ],
      "text/plain": [
       "(p_{yyy} + u*v_{xxx} + u_{xxx}*v + 3*u_{xx}*v_{x} + 3*u_{x}*v_{xx} + 2*v*v_{yyy} + 6*v_{yy}*v_{y})/6 - (v_{xxxx} + v_{yyyy})/(3*Re)"
      ]
     },
     "metadata": {},
     "output_type": "display_data"
    },
    {
     "name": "stdout",
     "output_type": "stream",
     "text": [
      "p_{y} + u v_{x} + u_{x} v + 2 v v_{y} + v_{t} + \\frac{- v_{xx} - v_{yy}}{Re}\n",
      "+\\tau\\big(\n",
      "\\frac{p_{ty} + u v_{tx} + u_{tx} v + u_{t} v_{x} + u_{x} v_{t} + 2 v v_{ty} + v_{tt} + 2 v_{t} v_{y}}{2} - \\frac{v_{txx} + v_{tyy}}{2 Re}\n",
      "\\big)\n",
      "+h^2\\big(\n",
      "\\frac{p_{yyy} + u v_{xxx} + u_{xxx} v + 3 u_{xx} v_{x} + 3 u_{x} v_{xx} + 2 v v_{yyy} + 6 v_{yy} v_{y}}{6} - \\frac{v_{xxxx} + v_{yyyy}}{3 Re}\n",
      "\\big)\n",
      "f3-f3-f3-f3-f3-f3-f3-f3-f3-f3-f3-f3-f3-f3-f3-f3-f3-f3-f3-f3-f3-f3-f3-f3-f3-\n"
     ]
    },
    {
     "data": {
      "text/latex": [
       "$\\displaystyle p_{y} + u v_{x} + u_{x} v + 2 v v_{y} + v_{t} + \\frac{- v_{xx} - v_{yy}}{Re}$"
      ],
      "text/plain": [
       "p_{y} + u*v_{x} + u_{x}*v + 2*v*v_{y} + v_{t} + (-v_{xx} - v_{yy})/Re"
      ]
     },
     "metadata": {},
     "output_type": "display_data"
    },
    {
     "name": "stdout",
     "output_type": "stream",
     "text": [
      "tau =>\n"
     ]
    },
    {
     "data": {
      "text/latex": [
       "$\\displaystyle 0$"
      ],
      "text/plain": [
       "0"
      ]
     },
     "metadata": {},
     "output_type": "display_data"
    },
    {
     "name": "stdout",
     "output_type": "stream",
     "text": [
      "h^2 =>\n"
     ]
    },
    {
     "data": {
      "text/latex": [
       "$\\displaystyle - \\frac{Re^{2} u^{2} \\left(p_{y} + u v_{x} + v v_{y} + v_{t}\\right)}{6} + \\frac{Re \\left(- 2 p_{ty} - p_{xy} u + 6 p_{x} v_{x} - 3 p_{yy} v - p_{y} v_{y} + u^{2} v_{yy} - 4 u v v_{xy} - 3 u v_{tx} - 7 u v_{x} v_{y} + 4 u_{t} v_{x} + 3 u_{y} v v_{x} - 3 v^{2} v_{yy} - 5 v v_{ty} - 4 v v_{y}^{2} - 2 v_{tt} - 3 v_{t} v_{y}\\right)}{6} + \\frac{5 p_{yyy} + 3 u v_{xyy} + 8 u_{y} v_{xy} + 7 v v_{yyy} + 4 v_{tyy} + v_{xy} v_{x} + 21 v_{yy} v_{y}}{6} - \\frac{2 v_{yyyy}}{3 Re}$"
      ],
      "text/plain": [
       "-Re**2*u**2*(p_{y} + u*v_{x} + v*v_{y} + v_{t})/6 + Re*(-2*p_{ty} - p_{xy}*u + 6*p_{x}*v_{x} - 3*p_{yy}*v - p_{y}*v_{y} + u**2*v_{yy} - 4*u*v*v_{xy} - 3*u*v_{tx} - 7*u*v_{x}*v_{y} + 4*u_{t}*v_{x} + 3*u_{y}*v*v_{x} - 3*v**2*v_{yy} - 5*v*v_{ty} - 4*v*v_{y}**2 - 2*v_{tt} - 3*v_{t}*v_{y})/6 + (5*p_{yyy} + 3*u*v_{xyy} + 8*u_{y}*v_{xy} + 7*v*v_{yyy} + 4*v_{tyy} + v_{xy}*v_{x} + 21*v_{yy}*v_{y})/6 - 2*v_{yyyy}/(3*Re)"
      ]
     },
     "metadata": {},
     "output_type": "display_data"
    },
    {
     "name": "stdout",
     "output_type": "stream",
     "text": [
      "p_{y} + u v_{x} + u_{x} v + 2 v v_{y} + v_{t} + \\frac{- v_{xx} - v_{yy}}{Re}\n",
      "+\\tau\\big(\n",
      "0\n",
      "\\big)\n",
      "+h^2\\big(\n",
      "- \\frac{Re^{2} u^{2} \\left(p_{y} + u v_{x} + v v_{y} + v_{t}\\right)}{6} + \\frac{Re \\left(- 2 p_{ty} - p_{xy} u + 6 p_{x} v_{x} - 3 p_{yy} v - p_{y} v_{y} + u^{2} v_{yy} - 4 u v v_{xy} - 3 u v_{tx} - 7 u v_{x} v_{y} + 4 u_{t} v_{x} + 3 u_{y} v v_{x} - 3 v^{2} v_{yy} - 5 v v_{ty} - 4 v v_{y}^{2} - 2 v_{tt} - 3 v_{t} v_{y}\\right)}{6} + \\frac{5 p_{yyy} + 3 u v_{xyy} + 8 u_{y} v_{xy} + 7 v v_{yyy} + 4 v_{tyy} + v_{xy} v_{x} + 21 v_{yy} v_{y}}{6} - \\frac{2 v_{yyyy}}{3 Re}\n",
      "\\big)\n"
     ]
    },
    {
     "data": {
      "text/latex": [
       "$\\displaystyle 0$"
      ],
      "text/plain": [
       "0"
      ]
     },
     "metadata": {},
     "output_type": "display_data"
    },
    {
     "name": "stdout",
     "output_type": "stream",
     "text": [
      "tau =>\n"
     ]
    },
    {
     "data": {
      "text/latex": [
       "$\\displaystyle 0$"
      ],
      "text/plain": [
       "0"
      ]
     },
     "metadata": {},
     "output_type": "display_data"
    },
    {
     "name": "stdout",
     "output_type": "stream",
     "text": [
      "h^2 =>\n"
     ]
    },
    {
     "data": {
      "text/latex": [
       "$\\displaystyle - \\frac{2 e^{- \\frac{2 t}{Re}} \\sin{\\left(x \\right)} \\cos{\\left(y \\right)}}{3 Re}$"
      ],
      "text/plain": [
       "-2*exp(-2*t/Re)*sin(x)*cos(y)/(3*Re)"
      ]
     },
     "metadata": {},
     "output_type": "display_data"
    },
    {
     "name": "stdout",
     "output_type": "stream",
     "text": [
      "0\n",
      "+\\tau\\big(\n",
      "0\n",
      "\\big)\n",
      "+h^2\\big(\n",
      "- \\frac{2 e^{- \\frac{2 t}{Re}} \\sin{\\left(x \\right)} \\cos{\\left(y \\right)}}{3 Re}\n",
      "\\big)\n"
     ]
    },
    {
     "data": {
      "text/latex": [
       "$\\displaystyle \\frac{\\lambda \\left(Re \\lambda - \\left(\\lambda - 2 \\pi\\right) \\left(\\lambda + 2 \\pi\\right)\\right) e^{\\lambda x} \\sin{\\left(2 \\pi y \\right)}}{2 \\pi Re}$"
      ],
      "text/plain": [
       "lambda*(Re*lambda - (lambda - 2*pi)*(lambda + 2*pi))*exp(lambda*x)*sin(2*pi*y)/(2*pi*Re)"
      ]
     },
     "metadata": {},
     "output_type": "display_data"
    },
    {
     "name": "stdout",
     "output_type": "stream",
     "text": [
      "tau =>\n"
     ]
    },
    {
     "data": {
      "text/latex": [
       "$\\displaystyle 0$"
      ],
      "text/plain": [
       "0"
      ]
     },
     "metadata": {},
     "output_type": "display_data"
    },
    {
     "name": "stdout",
     "output_type": "stream",
     "text": [
      "h^2 =>\n"
     ]
    },
    {
     "data": {
      "text/latex": [
       "$\\displaystyle \\frac{\\lambda \\left(Re \\left(- Re^{2} \\lambda e^{2 \\lambda x} \\cos^{2}{\\left(2 \\pi y \\right)} + 2 Re^{2} \\lambda e^{\\lambda x} \\cos{\\left(2 \\pi y \\right)} - Re^{2} \\lambda + 6 Re \\lambda^{2} e^{2 \\lambda x} \\sin^{2}{\\left(2 \\pi y \\right)} + 7 Re \\lambda^{2} e^{2 \\lambda x} \\cos^{2}{\\left(2 \\pi y \\right)} - 6 Re \\lambda^{2} e^{2 \\lambda x} - 11 Re \\lambda^{2} e^{\\lambda x} \\cos{\\left(2 \\pi y \\right)} - 4 \\pi^{2} Re e^{2 \\lambda x} \\cos^{2}{\\left(2 \\pi y \\right)} + 8 \\pi^{2} Re e^{\\lambda x} \\cos{\\left(2 \\pi y \\right)} - 4 \\pi^{2} Re + \\lambda^{3} e^{\\lambda x} \\cos{\\left(2 \\pi y \\right)} - 68 \\pi^{2} \\lambda e^{\\lambda x} \\cos{\\left(2 \\pi y \\right)} - 12 \\pi^{2} \\lambda\\right) - 64 \\pi^{4}\\right) e^{\\lambda x} \\sin{\\left(2 \\pi y \\right)}}{12 \\pi Re}$"
      ],
      "text/plain": [
       "lambda*(Re*(-Re**2*lambda*exp(2*lambda*x)*cos(2*pi*y)**2 + 2*Re**2*lambda*exp(lambda*x)*cos(2*pi*y) - Re**2*lambda + 6*Re*lambda**2*exp(2*lambda*x)*sin(2*pi*y)**2 + 7*Re*lambda**2*exp(2*lambda*x)*cos(2*pi*y)**2 - 6*Re*lambda**2*exp(2*lambda*x) - 11*Re*lambda**2*exp(lambda*x)*cos(2*pi*y) - 4*pi**2*Re*exp(2*lambda*x)*cos(2*pi*y)**2 + 8*pi**2*Re*exp(lambda*x)*cos(2*pi*y) - 4*pi**2*Re + lambda**3*exp(lambda*x)*cos(2*pi*y) - 68*pi**2*lambda*exp(lambda*x)*cos(2*pi*y) - 12*pi**2*lambda) - 64*pi**4)*exp(lambda*x)*sin(2*pi*y)/(12*pi*Re)"
      ]
     },
     "metadata": {},
     "output_type": "display_data"
    },
    {
     "name": "stdout",
     "output_type": "stream",
     "text": [
      "\\frac{\\lambda \\left(Re \\lambda - \\left(\\lambda - 2 \\pi\\right) \\left(\\lambda + 2 \\pi\\right)\\right) e^{\\lambda x} \\sin{\\left(2 \\pi y \\right)}}{2 \\pi Re}\n",
      "+\\tau\\big(\n",
      "0\n",
      "\\big)\n",
      "+h^2\\big(\n",
      "\\frac{\\lambda \\left(Re \\left(- Re^{2} \\lambda e^{2 \\lambda x} \\cos^{2}{\\left(2 \\pi y \\right)} + 2 Re^{2} \\lambda e^{\\lambda x} \\cos{\\left(2 \\pi y \\right)} - Re^{2} \\lambda + 6 Re \\lambda^{2} e^{2 \\lambda x} \\sin^{2}{\\left(2 \\pi y \\right)} + 7 Re \\lambda^{2} e^{2 \\lambda x} \\cos^{2}{\\left(2 \\pi y \\right)} - 6 Re \\lambda^{2} e^{2 \\lambda x} - 11 Re \\lambda^{2} e^{\\lambda x} \\cos{\\left(2 \\pi y \\right)} - 4 \\pi^{2} Re e^{2 \\lambda x} \\cos^{2}{\\left(2 \\pi y \\right)} + 8 \\pi^{2} Re e^{\\lambda x} \\cos{\\left(2 \\pi y \\right)} - 4 \\pi^{2} Re + \\lambda^{3} e^{\\lambda x} \\cos{\\left(2 \\pi y \\right)} - 68 \\pi^{2} \\lambda e^{\\lambda x} \\cos{\\left(2 \\pi y \\right)} - 12 \\pi^{2} \\lambda\\right) - 64 \\pi^{4}\\right) e^{\\lambda x} \\sin{\\left(2 \\pi y \\right)}}{12 \\pi Re}\n",
      "\\big)\n",
      "-------------------------\n"
     ]
    },
    {
     "data": {
      "text/latex": [
       "$\\displaystyle p_{xx} + p_{yy} + 2 u u_{xx} + 2 u v_{xy} + 2 u_{xy} v + 2 u_{x}^{2} + 2 u_{x} v_{y} + 2 u_{y} v_{x} + 2 v v_{yy} + 2 v_{y}^{2}$"
      ],
      "text/plain": [
       "p_{xx} + p_{yy} + 2*u*u_{xx} + 2*u*v_{xy} + 2*u_{xy}*v + 2*u_{x}**2 + 2*u_{x}*v_{y} + 2*u_{y}*v_{x} + 2*v*v_{yy} + 2*v_{y}**2"
      ]
     },
     "metadata": {},
     "output_type": "display_data"
    },
    {
     "name": "stdout",
     "output_type": "stream",
     "text": [
      "tau =>\n"
     ]
    },
    {
     "data": {
      "text/latex": [
       "$\\displaystyle 0$"
      ],
      "text/plain": [
       "0"
      ]
     },
     "metadata": {},
     "output_type": "display_data"
    },
    {
     "name": "stdout",
     "output_type": "stream",
     "text": [
      "h^2 =>\n"
     ]
    },
    {
     "data": {
      "text/latex": [
       "$\\displaystyle \\frac{p_{xxxx} + p_{yyyy} + 2 u u_{xxxx} + u v_{xxxy} + u v_{xyyy} + u_{xxxy} v + 8 u_{xxx} u_{x} + u_{xxx} v_{y} + 3 u_{xxy} v_{x} + 6 u_{xx}^{2} + 3 u_{xx} v_{xy} + u_{xyyy} v + 3 u_{xyy} v_{y} + 3 u_{xy} v_{xx} + 3 u_{xy} v_{yy} + 3 u_{x} v_{xxy} + u_{x} v_{yyy} + u_{yyy} v_{x} + 3 u_{yy} v_{xy} + u_{y} v_{xxx} + 3 u_{y} v_{xyy} + 2 v v_{yyyy} + 8 v_{yyy} v_{y} + 6 v_{yy}^{2}}{3}$"
      ],
      "text/plain": [
       "(p_{xxxx} + p_{yyyy} + 2*u*u_{xxxx} + u*v_{xxxy} + u*v_{xyyy} + u_{xxxy}*v + 8*u_{xxx}*u_{x} + u_{xxx}*v_{y} + 3*u_{xxy}*v_{x} + 6*u_{xx}**2 + 3*u_{xx}*v_{xy} + u_{xyyy}*v + 3*u_{xyy}*v_{y} + 3*u_{xy}*v_{xx} + 3*u_{xy}*v_{yy} + 3*u_{x}*v_{xxy} + u_{x}*v_{yyy} + u_{yyy}*v_{x} + 3*u_{yy}*v_{xy} + u_{y}*v_{xxx} + 3*u_{y}*v_{xyy} + 2*v*v_{yyyy} + 8*v_{yyy}*v_{y} + 6*v_{yy}**2)/3"
      ]
     },
     "metadata": {},
     "output_type": "display_data"
    },
    {
     "name": "stdout",
     "output_type": "stream",
     "text": [
      "p_{xx} + p_{yy} + 2 u u_{xx} + 2 u v_{xy} + 2 u_{xy} v + 2 u_{x}^{2} + 2 u_{x} v_{y} + 2 u_{y} v_{x} + 2 v v_{yy} + 2 v_{y}^{2}\n",
      "+\\tau\\big(\n",
      "0\n",
      "\\big)\n",
      "+h^2\\big(\n",
      "\\frac{p_{xxxx} + p_{yyyy} + 2 u u_{xxxx} + u v_{xxxy} + u v_{xyyy} + u_{xxxy} v + 8 u_{xxx} u_{x} + u_{xxx} v_{y} + 3 u_{xxy} v_{x} + 6 u_{xx}^{2} + 3 u_{xx} v_{xy} + u_{xyyy} v + 3 u_{xyy} v_{y} + 3 u_{xy} v_{xx} + 3 u_{xy} v_{yy} + 3 u_{x} v_{xxy} + u_{x} v_{yyy} + u_{yyy} v_{x} + 3 u_{yy} v_{xy} + u_{y} v_{xxx} + 3 u_{y} v_{xyy} + 2 v v_{yyyy} + 8 v_{yyy} v_{y} + 6 v_{yy}^{2}}{3}\n",
      "\\big)\n",
      "f4-f4-f4-f4-f4-f4-f4-f4-f4-f4-f4-f4-f4-f4-f4-f4-f4-f4-f4-f4-f4-f4-f4-f4-f4-\n"
     ]
    },
    {
     "data": {
      "text/latex": [
       "$\\displaystyle p_{xx} + p_{yy} + 2 u u_{xx} + 2 u v_{xy} + 2 u_{xy} v + 2 u_{x}^{2} + 2 u_{x} v_{y} + 2 u_{y} v_{x} + 2 v v_{yy} + 2 v_{y}^{2}$"
      ],
      "text/plain": [
       "p_{xx} + p_{yy} + 2*u*u_{xx} + 2*u*v_{xy} + 2*u_{xy}*v + 2*u_{x}**2 + 2*u_{x}*v_{y} + 2*u_{y}*v_{x} + 2*v*v_{yy} + 2*v_{y}**2"
      ]
     },
     "metadata": {},
     "output_type": "display_data"
    },
    {
     "name": "stdout",
     "output_type": "stream",
     "text": [
      "tau =>\n"
     ]
    },
    {
     "data": {
      "text/latex": [
       "$\\displaystyle 0$"
      ],
      "text/plain": [
       "0"
      ]
     },
     "metadata": {},
     "output_type": "display_data"
    },
    {
     "name": "stdout",
     "output_type": "stream",
     "text": [
      "h^2 =>\n"
     ]
    },
    {
     "data": {
      "text/latex": [
       "$\\displaystyle - \\frac{Re^{2} \\left(- 2 p_{x} v v_{x} + p_{yy} u^{2} + 2 p_{y} u u_{y} + u^{3} v_{xy} + 3 u^{2} u_{y} v_{x} + u^{2} v v_{yy} + u^{2} v_{ty} + u^{2} v_{y}^{2} + 2 u u_{y} v v_{y} + 2 u u_{y} v_{t} + 2 u v v_{x} v_{y} - 2 u_{t} v v_{x} - 2 u_{y} v^{2} v_{x}\\right)}{3} + \\frac{Re \\left(- p_{xyy} u - p_{xy} u_{y} + 3 p_{xy} v_{x} + 7 p_{x} v_{xy} - p_{yyy} v + p_{y} v_{yy} + u^{2} v_{yyy} + 2 u u_{y} v_{yy} - 2 u v v_{xyy} - u v_{txy} - 8 u v_{xy} v_{y} - 2 u v_{x} v_{yy} + 3 u_{ty} v_{x} + 7 u_{t} v_{xy} + 4 u_{y} v v_{xy} - u_{y} v_{tx} - v^{2} v_{yyy} - v v_{tyy} + 2 v v_{xy} v_{x} - 2 v v_{yy} v_{y} + v_{t} v_{yy}\\right)}{3} + \\frac{2 \\left(p_{yyyy} + u v_{xyyy} + 3 u_{y} v_{xyy} + v v_{yyyy} + v_{xyy} v_{x} + 3 v_{xy}^{2} + 4 v_{yyy} v_{y} + 3 v_{yy}^{2}\\right)}{3}$"
      ],
      "text/plain": [
       "-Re**2*(-2*p_{x}*v*v_{x} + p_{yy}*u**2 + 2*p_{y}*u*u_{y} + u**3*v_{xy} + 3*u**2*u_{y}*v_{x} + u**2*v*v_{yy} + u**2*v_{ty} + u**2*v_{y}**2 + 2*u*u_{y}*v*v_{y} + 2*u*u_{y}*v_{t} + 2*u*v*v_{x}*v_{y} - 2*u_{t}*v*v_{x} - 2*u_{y}*v**2*v_{x})/3 + Re*(-p_{xyy}*u - p_{xy}*u_{y} + 3*p_{xy}*v_{x} + 7*p_{x}*v_{xy} - p_{yyy}*v + p_{y}*v_{yy} + u**2*v_{yyy} + 2*u*u_{y}*v_{yy} - 2*u*v*v_{xyy} - u*v_{txy} - 8*u*v_{xy}*v_{y} - 2*u*v_{x}*v_{yy} + 3*u_{ty}*v_{x} + 7*u_{t}*v_{xy} + 4*u_{y}*v*v_{xy} - u_{y}*v_{tx} - v**2*v_{yyy} - v*v_{tyy} + 2*v*v_{xy}*v_{x} - 2*v*v_{yy}*v_{y} + v_{t}*v_{yy})/3 + 2*(p_{yyyy} + u*v_{xyyy} + 3*u_{y}*v_{xyy} + v*v_{yyyy} + v_{xyy}*v_{x} + 3*v_{xy}**2 + 4*v_{yyy}*v_{y} + 3*v_{yy}**2)/3"
      ]
     },
     "metadata": {},
     "output_type": "display_data"
    },
    {
     "name": "stdout",
     "output_type": "stream",
     "text": [
      "p_{xx} + p_{yy} + 2 u u_{xx} + 2 u v_{xy} + 2 u_{xy} v + 2 u_{x}^{2} + 2 u_{x} v_{y} + 2 u_{y} v_{x} + 2 v v_{yy} + 2 v_{y}^{2}\n",
      "+\\tau\\big(\n",
      "0\n",
      "\\big)\n",
      "+h^2\\big(\n",
      "- \\frac{Re^{2} \\left(- 2 p_{x} v v_{x} + p_{yy} u^{2} + 2 p_{y} u u_{y} + u^{3} v_{xy} + 3 u^{2} u_{y} v_{x} + u^{2} v v_{yy} + u^{2} v_{ty} + u^{2} v_{y}^{2} + 2 u u_{y} v v_{y} + 2 u u_{y} v_{t} + 2 u v v_{x} v_{y} - 2 u_{t} v v_{x} - 2 u_{y} v^{2} v_{x}\\right)}{3} + \\frac{Re \\left(- p_{xyy} u - p_{xy} u_{y} + 3 p_{xy} v_{x} + 7 p_{x} v_{xy} - p_{yyy} v + p_{y} v_{yy} + u^{2} v_{yyy} + 2 u u_{y} v_{yy} - 2 u v v_{xyy} - u v_{txy} - 8 u v_{xy} v_{y} - 2 u v_{x} v_{yy} + 3 u_{ty} v_{x} + 7 u_{t} v_{xy} + 4 u_{y} v v_{xy} - u_{y} v_{tx} - v^{2} v_{yyy} - v v_{tyy} + 2 v v_{xy} v_{x} - 2 v v_{yy} v_{y} + v_{t} v_{yy}\\right)}{3} + \\frac{2 \\left(p_{yyyy} + u v_{xyyy} + 3 u_{y} v_{xyy} + v v_{yyyy} + v_{xyy} v_{x} + 3 v_{xy}^{2} + 4 v_{yyy} v_{y} + 3 v_{yy}^{2}\\right)}{3}\n",
      "\\big)\n"
     ]
    },
    {
     "data": {
      "text/latex": [
       "$\\displaystyle 0$"
      ],
      "text/plain": [
       "0"
      ]
     },
     "metadata": {},
     "output_type": "display_data"
    },
    {
     "name": "stdout",
     "output_type": "stream",
     "text": [
      "tau =>\n"
     ]
    },
    {
     "data": {
      "text/latex": [
       "$\\displaystyle 0$"
      ],
      "text/plain": [
       "0"
      ]
     },
     "metadata": {},
     "output_type": "display_data"
    },
    {
     "name": "stdout",
     "output_type": "stream",
     "text": [
      "h^2 =>\n"
     ]
    },
    {
     "data": {
      "text/latex": [
       "$\\displaystyle 0$"
      ],
      "text/plain": [
       "0"
      ]
     },
     "metadata": {},
     "output_type": "display_data"
    },
    {
     "name": "stdout",
     "output_type": "stream",
     "text": [
      "0\n",
      "+\\tau\\big(\n",
      "0\n",
      "\\big)\n",
      "+h^2\\big(\n",
      "0\n",
      "\\big)\n"
     ]
    },
    {
     "data": {
      "text/latex": [
       "$\\displaystyle 0$"
      ],
      "text/plain": [
       "0"
      ]
     },
     "metadata": {},
     "output_type": "display_data"
    },
    {
     "name": "stdout",
     "output_type": "stream",
     "text": [
      "tau =>\n"
     ]
    },
    {
     "data": {
      "text/latex": [
       "$\\displaystyle 0$"
      ],
      "text/plain": [
       "0"
      ]
     },
     "metadata": {},
     "output_type": "display_data"
    },
    {
     "name": "stdout",
     "output_type": "stream",
     "text": [
      "h^2 =>\n"
     ]
    },
    {
     "data": {
      "text/latex": [
       "$\\displaystyle \\frac{\\lambda \\left(- Re^{2} \\lambda \\left(4 \\lambda^{2} e^{2 \\lambda x} \\sin^{6}{\\left(\\pi y \\right)} - 6 \\lambda^{2} e^{2 \\lambda x} \\sin^{4}{\\left(\\pi y \\right)} + 2 \\lambda^{2} e^{2 \\lambda x} \\sin^{2}{\\left(\\pi y \\right)} - 24 \\pi^{2} e^{2 \\lambda x} \\sin^{6}{\\left(\\pi y \\right)} + 36 \\pi^{2} e^{2 \\lambda x} \\sin^{4}{\\left(\\pi y \\right)} - 14 \\pi^{2} e^{2 \\lambda x} \\sin^{2}{\\left(\\pi y \\right)} + \\pi^{2} e^{2 \\lambda x} - 16 \\pi^{2} e^{\\lambda x} \\sin^{4}{\\left(\\pi y \\right)} + 16 \\pi^{2} e^{\\lambda x} \\sin^{2}{\\left(\\pi y \\right)} - 2 \\pi^{2} e^{\\lambda x} - 2 \\pi^{2} \\sin^{2}{\\left(\\pi y \\right)} + \\pi^{2}\\right) + Re \\left(4 \\lambda^{4} e^{2 \\lambda x} \\sin^{6}{\\left(\\pi y \\right)} - 6 \\lambda^{4} e^{2 \\lambda x} \\sin^{4}{\\left(\\pi y \\right)} + 2 \\lambda^{4} e^{2 \\lambda x} \\sin^{2}{\\left(\\pi y \\right)} - 40 \\pi^{2} \\lambda^{2} e^{2 \\lambda x} \\sin^{6}{\\left(\\pi y \\right)} + 60 \\pi^{2} \\lambda^{2} e^{2 \\lambda x} \\sin^{4}{\\left(\\pi y \\right)} - 22 \\pi^{2} \\lambda^{2} e^{2 \\lambda x} \\sin^{2}{\\left(\\pi y \\right)} + \\pi^{2} \\lambda^{2} e^{2 \\lambda x} - 48 \\pi^{2} \\lambda^{2} e^{\\lambda x} \\sin^{4}{\\left(\\pi y \\right)} + 48 \\pi^{2} \\lambda^{2} e^{\\lambda x} \\sin^{2}{\\left(\\pi y \\right)} - 8 \\pi^{2} \\lambda^{2} e^{\\lambda x} + 96 \\pi^{4} e^{2 \\lambda x} \\sin^{6}{\\left(\\pi y \\right)} - 144 \\pi^{4} e^{2 \\lambda x} \\sin^{4}{\\left(\\pi y \\right)} + 56 \\pi^{4} e^{2 \\lambda x} \\sin^{2}{\\left(\\pi y \\right)} - 4 \\pi^{4} e^{2 \\lambda x} + 64 \\pi^{4} e^{\\lambda x} \\sin^{4}{\\left(\\pi y \\right)} - 64 \\pi^{4} e^{\\lambda x} \\sin^{2}{\\left(\\pi y \\right)} + 8 \\pi^{4} e^{\\lambda x} + 8 \\pi^{4} \\sin^{2}{\\left(\\pi y \\right)} - 4 \\pi^{4}\\right) + 2 \\pi^{2} \\lambda \\left(16 \\lambda^{2} e^{\\lambda x} \\sin^{4}{\\left(\\pi y \\right)} - 16 \\lambda^{2} e^{\\lambda x} \\sin^{2}{\\left(\\pi y \\right)} + 3 \\lambda^{2} e^{\\lambda x} - 64 \\pi^{2} e^{\\lambda x} \\sin^{4}{\\left(\\pi y \\right)} + 64 \\pi^{2} e^{\\lambda x} \\sin^{2}{\\left(\\pi y \\right)} - 12 \\pi^{2} e^{\\lambda x} + 8 \\pi^{2} \\sin^{2}{\\left(\\pi y \\right)} - 4 \\pi^{2}\\right)\\right) e^{\\lambda x}}{3 \\pi^{2}}$"
      ],
      "text/plain": [
       "lambda*(-Re**2*lambda*(4*lambda**2*exp(2*lambda*x)*sin(pi*y)**6 - 6*lambda**2*exp(2*lambda*x)*sin(pi*y)**4 + 2*lambda**2*exp(2*lambda*x)*sin(pi*y)**2 - 24*pi**2*exp(2*lambda*x)*sin(pi*y)**6 + 36*pi**2*exp(2*lambda*x)*sin(pi*y)**4 - 14*pi**2*exp(2*lambda*x)*sin(pi*y)**2 + pi**2*exp(2*lambda*x) - 16*pi**2*exp(lambda*x)*sin(pi*y)**4 + 16*pi**2*exp(lambda*x)*sin(pi*y)**2 - 2*pi**2*exp(lambda*x) - 2*pi**2*sin(pi*y)**2 + pi**2) + Re*(4*lambda**4*exp(2*lambda*x)*sin(pi*y)**6 - 6*lambda**4*exp(2*lambda*x)*sin(pi*y)**4 + 2*lambda**4*exp(2*lambda*x)*sin(pi*y)**2 - 40*pi**2*lambda**2*exp(2*lambda*x)*sin(pi*y)**6 + 60*pi**2*lambda**2*exp(2*lambda*x)*sin(pi*y)**4 - 22*pi**2*lambda**2*exp(2*lambda*x)*sin(pi*y)**2 + pi**2*lambda**2*exp(2*lambda*x) - 48*pi**2*lambda**2*exp(lambda*x)*sin(pi*y)**4 + 48*pi**2*lambda**2*exp(lambda*x)*sin(pi*y)**2 - 8*pi**2*lambda**2*exp(lambda*x) + 96*pi**4*exp(2*lambda*x)*sin(pi*y)**6 - 144*pi**4*exp(2*lambda*x)*sin(pi*y)**4 + 56*pi**4*exp(2*lambda*x)*sin(pi*y)**2 - 4*pi**4*exp(2*lambda*x) + 64*pi**4*exp(lambda*x)*sin(pi*y)**4 - 64*pi**4*exp(lambda*x)*sin(pi*y)**2 + 8*pi**4*exp(lambda*x) + 8*pi**4*sin(pi*y)**2 - 4*pi**4) + 2*pi**2*lambda*(16*lambda**2*exp(lambda*x)*sin(pi*y)**4 - 16*lambda**2*exp(lambda*x)*sin(pi*y)**2 + 3*lambda**2*exp(lambda*x) - 64*pi**2*exp(lambda*x)*sin(pi*y)**4 + 64*pi**2*exp(lambda*x)*sin(pi*y)**2 - 12*pi**2*exp(lambda*x) + 8*pi**2*sin(pi*y)**2 - 4*pi**2))*exp(lambda*x)/(3*pi**2)"
      ]
     },
     "metadata": {},
     "output_type": "display_data"
    },
    {
     "name": "stdout",
     "output_type": "stream",
     "text": [
      "0\n",
      "+\\tau\\big(\n",
      "0\n",
      "\\big)\n",
      "+h^2\\big(\n",
      "\\frac{\\lambda \\left(- Re^{2} \\lambda \\left(4 \\lambda^{2} e^{2 \\lambda x} \\sin^{6}{\\left(\\pi y \\right)} - 6 \\lambda^{2} e^{2 \\lambda x} \\sin^{4}{\\left(\\pi y \\right)} + 2 \\lambda^{2} e^{2 \\lambda x} \\sin^{2}{\\left(\\pi y \\right)} - 24 \\pi^{2} e^{2 \\lambda x} \\sin^{6}{\\left(\\pi y \\right)} + 36 \\pi^{2} e^{2 \\lambda x} \\sin^{4}{\\left(\\pi y \\right)} - 14 \\pi^{2} e^{2 \\lambda x} \\sin^{2}{\\left(\\pi y \\right)} + \\pi^{2} e^{2 \\lambda x} - 16 \\pi^{2} e^{\\lambda x} \\sin^{4}{\\left(\\pi y \\right)} + 16 \\pi^{2} e^{\\lambda x} \\sin^{2}{\\left(\\pi y \\right)} - 2 \\pi^{2} e^{\\lambda x} - 2 \\pi^{2} \\sin^{2}{\\left(\\pi y \\right)} + \\pi^{2}\\right) + Re \\left(4 \\lambda^{4} e^{2 \\lambda x} \\sin^{6}{\\left(\\pi y \\right)} - 6 \\lambda^{4} e^{2 \\lambda x} \\sin^{4}{\\left(\\pi y \\right)} + 2 \\lambda^{4} e^{2 \\lambda x} \\sin^{2}{\\left(\\pi y \\right)} - 40 \\pi^{2} \\lambda^{2} e^{2 \\lambda x} \\sin^{6}{\\left(\\pi y \\right)} + 60 \\pi^{2} \\lambda^{2} e^{2 \\lambda x} \\sin^{4}{\\left(\\pi y \\right)} - 22 \\pi^{2} \\lambda^{2} e^{2 \\lambda x} \\sin^{2}{\\left(\\pi y \\right)} + \\pi^{2} \\lambda^{2} e^{2 \\lambda x} - 48 \\pi^{2} \\lambda^{2} e^{\\lambda x} \\sin^{4}{\\left(\\pi y \\right)} + 48 \\pi^{2} \\lambda^{2} e^{\\lambda x} \\sin^{2}{\\left(\\pi y \\right)} - 8 \\pi^{2} \\lambda^{2} e^{\\lambda x} + 96 \\pi^{4} e^{2 \\lambda x} \\sin^{6}{\\left(\\pi y \\right)} - 144 \\pi^{4} e^{2 \\lambda x} \\sin^{4}{\\left(\\pi y \\right)} + 56 \\pi^{4} e^{2 \\lambda x} \\sin^{2}{\\left(\\pi y \\right)} - 4 \\pi^{4} e^{2 \\lambda x} + 64 \\pi^{4} e^{\\lambda x} \\sin^{4}{\\left(\\pi y \\right)} - 64 \\pi^{4} e^{\\lambda x} \\sin^{2}{\\left(\\pi y \\right)} + 8 \\pi^{4} e^{\\lambda x} + 8 \\pi^{4} \\sin^{2}{\\left(\\pi y \\right)} - 4 \\pi^{4}\\right) + 2 \\pi^{2} \\lambda \\left(16 \\lambda^{2} e^{\\lambda x} \\sin^{4}{\\left(\\pi y \\right)} - 16 \\lambda^{2} e^{\\lambda x} \\sin^{2}{\\left(\\pi y \\right)} + 3 \\lambda^{2} e^{\\lambda x} - 64 \\pi^{2} e^{\\lambda x} \\sin^{4}{\\left(\\pi y \\right)} + 64 \\pi^{2} e^{\\lambda x} \\sin^{2}{\\left(\\pi y \\right)} - 12 \\pi^{2} e^{\\lambda x} + 8 \\pi^{2} \\sin^{2}{\\left(\\pi y \\right)} - 4 \\pi^{2}\\right)\\right) e^{\\lambda x}}{3 \\pi^{2}}\n",
      "\\big)\n"
     ]
    },
    {
     "data": {
      "text/latex": [
       "$\\displaystyle 0$"
      ],
      "text/plain": [
       "0"
      ]
     },
     "metadata": {},
     "output_type": "display_data"
    },
    {
     "name": "stdout",
     "output_type": "stream",
     "text": [
      "tau =>\n"
     ]
    },
    {
     "data": {
      "text/latex": [
       "$\\displaystyle 0$"
      ],
      "text/plain": [
       "0"
      ]
     },
     "metadata": {},
     "output_type": "display_data"
    },
    {
     "name": "stdout",
     "output_type": "stream",
     "text": [
      "h^2 =>\n"
     ]
    },
    {
     "data": {
      "text/latex": [
       "$\\displaystyle 0$"
      ],
      "text/plain": [
       "0"
      ]
     },
     "metadata": {},
     "output_type": "display_data"
    },
    {
     "name": "stdout",
     "output_type": "stream",
     "text": [
      "0\n",
      "+\\tau\\big(\n",
      "0\n",
      "\\big)\n",
      "+h^2\\big(\n",
      "0\n",
      "\\big)\n"
     ]
    }
   ],
   "source": [
    "F1 = clip(Dx(u) + Dy(v))\n",
    "F2 = clip(Dt(u) + It(Dx(u**2) + Dy(v*u) + Dx(p) - DD2(u)/Re))\n",
    "F3 = clip(Dt(v) + It(Dx(u*v) + Dy(v**2) + Dy(p) - DD2(v)/Re))\n",
    "F4 = clip(Dx(Dx(u**2) + Dy(v*u) + Dx(p)) + Dy(Dx(u*v) + Dy(v**2) + Dy(p)))\n",
    "\n",
    "build(F1, F2, F3, F4)"
   ]
  },
  {
   "cell_type": "code",
   "execution_count": 22,
   "metadata": {
    "scrolled": true
   },
   "outputs": [
    {
     "data": {
      "text/latex": [
       "$\\displaystyle u_{x} + v_{y}$"
      ],
      "text/plain": [
       "u_{x} + v_{y}"
      ]
     },
     "metadata": {},
     "output_type": "display_data"
    },
    {
     "name": "stdout",
     "output_type": "stream",
     "text": [
      "tau =>\n"
     ]
    },
    {
     "data": {
      "text/latex": [
       "$\\displaystyle 0$"
      ],
      "text/plain": [
       "0"
      ]
     },
     "metadata": {},
     "output_type": "display_data"
    },
    {
     "name": "stdout",
     "output_type": "stream",
     "text": [
      "h^2 =>\n"
     ]
    },
    {
     "data": {
      "text/latex": [
       "$\\displaystyle \\frac{u_{xxx} + v_{yyy}}{6}$"
      ],
      "text/plain": [
       "(u_{xxx} + v_{yyy})/6"
      ]
     },
     "metadata": {},
     "output_type": "display_data"
    },
    {
     "name": "stdout",
     "output_type": "stream",
     "text": [
      "u_{x} + v_{y}\n",
      "+\\tau\\big(\n",
      "0\n",
      "\\big)\n",
      "+h^2\\big(\n",
      "\\frac{u_{xxx} + v_{yyy}}{6}\n",
      "\\big)\n",
      "f1-f1-f1-f1-f1-f1-f1-f1-f1-f1-f1-f1-f1-f1-f1-f1-f1-f1-f1-f1-f1-f1-f1-f1-f1-\n"
     ]
    },
    {
     "data": {
      "text/latex": [
       "$\\displaystyle u_{x} + v_{y}$"
      ],
      "text/plain": [
       "u_{x} + v_{y}"
      ]
     },
     "metadata": {},
     "output_type": "display_data"
    },
    {
     "name": "stdout",
     "output_type": "stream",
     "text": [
      "tau =>\n"
     ]
    },
    {
     "data": {
      "text/latex": [
       "$\\displaystyle 0$"
      ],
      "text/plain": [
       "0"
      ]
     },
     "metadata": {},
     "output_type": "display_data"
    },
    {
     "name": "stdout",
     "output_type": "stream",
     "text": [
      "h^2 =>\n"
     ]
    },
    {
     "data": {
      "text/latex": [
       "$\\displaystyle - \\frac{Re \\left(p_{yy} + u v_{xy} + u_{y} v_{x} + v v_{yy} + v_{ty} + v_{y}^{2}\\right)}{6} + \\frac{v_{yyy}}{3}$"
      ],
      "text/plain": [
       "-Re*(p_{yy} + u*v_{xy} + u_{y}*v_{x} + v*v_{yy} + v_{ty} + v_{y}**2)/6 + v_{yyy}/3"
      ]
     },
     "metadata": {},
     "output_type": "display_data"
    },
    {
     "name": "stdout",
     "output_type": "stream",
     "text": [
      "u_{x} + v_{y}\n",
      "+\\tau\\big(\n",
      "0\n",
      "\\big)\n",
      "+h^2\\big(\n",
      "- \\frac{Re \\left(p_{yy} + u v_{xy} + u_{y} v_{x} + v v_{yy} + v_{ty} + v_{y}^{2}\\right)}{6} + \\frac{v_{yyy}}{3}\n",
      "\\big)\n"
     ]
    },
    {
     "data": {
      "text/latex": [
       "$\\displaystyle 0$"
      ],
      "text/plain": [
       "0"
      ]
     },
     "metadata": {},
     "output_type": "display_data"
    },
    {
     "name": "stdout",
     "output_type": "stream",
     "text": [
      "tau =>\n"
     ]
    },
    {
     "data": {
      "text/latex": [
       "$\\displaystyle 0$"
      ],
      "text/plain": [
       "0"
      ]
     },
     "metadata": {},
     "output_type": "display_data"
    },
    {
     "name": "stdout",
     "output_type": "stream",
     "text": [
      "h^2 =>\n"
     ]
    },
    {
     "data": {
      "text/latex": [
       "$\\displaystyle 0$"
      ],
      "text/plain": [
       "0"
      ]
     },
     "metadata": {},
     "output_type": "display_data"
    },
    {
     "name": "stdout",
     "output_type": "stream",
     "text": [
      "0\n",
      "+\\tau\\big(\n",
      "0\n",
      "\\big)\n",
      "+h^2\\big(\n",
      "0\n",
      "\\big)\n"
     ]
    },
    {
     "data": {
      "text/latex": [
       "$\\displaystyle 0$"
      ],
      "text/plain": [
       "0"
      ]
     },
     "metadata": {},
     "output_type": "display_data"
    },
    {
     "name": "stdout",
     "output_type": "stream",
     "text": [
      "tau =>\n"
     ]
    },
    {
     "data": {
      "text/latex": [
       "$\\displaystyle 0$"
      ],
      "text/plain": [
       "0"
      ]
     },
     "metadata": {},
     "output_type": "display_data"
    },
    {
     "name": "stdout",
     "output_type": "stream",
     "text": [
      "h^2 =>\n"
     ]
    },
    {
     "data": {
      "text/latex": [
       "$\\displaystyle - \\frac{\\lambda \\left(Re \\lambda + 8 \\pi^{2}\\right) e^{\\lambda x} \\cos{\\left(2 \\pi y \\right)}}{6}$"
      ],
      "text/plain": [
       "-lambda*(Re*lambda + 8*pi**2)*exp(lambda*x)*cos(2*pi*y)/6"
      ]
     },
     "metadata": {},
     "output_type": "display_data"
    },
    {
     "name": "stdout",
     "output_type": "stream",
     "text": [
      "0\n",
      "+\\tau\\big(\n",
      "0\n",
      "\\big)\n",
      "+h^2\\big(\n",
      "- \\frac{\\lambda \\left(Re \\lambda + 8 \\pi^{2}\\right) e^{\\lambda x} \\cos{\\left(2 \\pi y \\right)}}{6}\n",
      "\\big)\n",
      "-------------------------\n"
     ]
    },
    {
     "data": {
      "text/latex": [
       "$\\displaystyle p_{x} + 2 u u_{x} + u v_{y} + u_{t} + u_{y} v + \\frac{- u_{xx} - u_{yy}}{Re}$"
      ],
      "text/plain": [
       "p_{x} + 2*u*u_{x} + u*v_{y} + u_{t} + u_{y}*v + (-u_{xx} - u_{yy})/Re"
      ]
     },
     "metadata": {},
     "output_type": "display_data"
    },
    {
     "name": "stdout",
     "output_type": "stream",
     "text": [
      "tau =>\n"
     ]
    },
    {
     "data": {
      "text/latex": [
       "$\\displaystyle \\frac{2 p_{tx} + 4 u u_{tx} + 2 u v_{ty} + u_{tt} + 2 u_{ty} v + 4 u_{t} u_{x} + 2 u_{t} v_{y} + 2 u_{y} v_{t}}{2} + \\frac{- u_{txx} - u_{tyy}}{Re}$"
      ],
      "text/plain": [
       "(2*p_{tx} + 4*u*u_{tx} + 2*u*v_{ty} + u_{tt} + 2*u_{ty}*v + 4*u_{t}*u_{x} + 2*u_{t}*v_{y} + 2*u_{y}*v_{t})/2 + (-u_{txx} - u_{tyy})/Re"
      ]
     },
     "metadata": {},
     "output_type": "display_data"
    },
    {
     "name": "stdout",
     "output_type": "stream",
     "text": [
      "h^2 =>\n"
     ]
    },
    {
     "data": {
      "text/latex": [
       "$\\displaystyle \\frac{p_{xxx} + 2 u u_{xxx} + u v_{yyy} + 6 u_{xx} u_{x} + u_{yyy} v + 3 u_{yy} v_{y} + 3 u_{y} v_{yy}}{6} - \\frac{u_{xxxx} + u_{yyyy}}{12 Re}$"
      ],
      "text/plain": [
       "(p_{xxx} + 2*u*u_{xxx} + u*v_{yyy} + 6*u_{xx}*u_{x} + u_{yyy}*v + 3*u_{yy}*v_{y} + 3*u_{y}*v_{yy})/6 - (u_{xxxx} + u_{yyyy})/(12*Re)"
      ]
     },
     "metadata": {},
     "output_type": "display_data"
    },
    {
     "name": "stdout",
     "output_type": "stream",
     "text": [
      "p_{x} + 2 u u_{x} + u v_{y} + u_{t} + u_{y} v + \\frac{- u_{xx} - u_{yy}}{Re}\n",
      "+\\tau\\big(\n",
      "\\frac{2 p_{tx} + 4 u u_{tx} + 2 u v_{ty} + u_{tt} + 2 u_{ty} v + 4 u_{t} u_{x} + 2 u_{t} v_{y} + 2 u_{y} v_{t}}{2} + \\frac{- u_{txx} - u_{tyy}}{Re}\n",
      "\\big)\n",
      "+h^2\\big(\n",
      "\\frac{p_{xxx} + 2 u u_{xxx} + u v_{yyy} + 6 u_{xx} u_{x} + u_{yyy} v + 3 u_{yy} v_{y} + 3 u_{y} v_{yy}}{6} - \\frac{u_{xxxx} + u_{yyyy}}{12 Re}\n",
      "\\big)\n",
      "f2-f2-f2-f2-f2-f2-f2-f2-f2-f2-f2-f2-f2-f2-f2-f2-f2-f2-f2-f2-f2-f2-f2-f2-f2-\n"
     ]
    },
    {
     "data": {
      "text/latex": [
       "$\\displaystyle p_{x} + 2 u u_{x} + u v_{y} + u_{t} + u_{y} v + \\frac{- u_{xx} - u_{yy}}{Re}$"
      ],
      "text/plain": [
       "p_{x} + 2*u*u_{x} + u*v_{y} + u_{t} + u_{y}*v + (-u_{xx} - u_{yy})/Re"
      ]
     },
     "metadata": {},
     "output_type": "display_data"
    },
    {
     "name": "stdout",
     "output_type": "stream",
     "text": [
      "tau =>\n"
     ]
    },
    {
     "data": {
      "text/latex": [
       "$\\displaystyle - \\frac{u_{tt}}{2}$"
      ],
      "text/plain": [
       "-u_{tt}/2"
      ]
     },
     "metadata": {},
     "output_type": "display_data"
    },
    {
     "name": "stdout",
     "output_type": "stream",
     "text": [
      "h^2 =>\n"
     ]
    },
    {
     "data": {
      "text/latex": [
       "$\\displaystyle - \\frac{Re^{2} v^{2} \\left(- p_{x} + u v_{y} - u_{t} - u_{y} v\\right)}{12} - \\frac{Re \\left(p_{tx} - p_{xy} v - 5 p_{x} v_{y} + 3 p_{yy} u + 3 p_{y} u_{y} + 3 u^{2} v_{xy} + 6 u u_{y} v_{x} + 4 u v v_{yy} + 2 u v_{ty} + 8 u v_{y}^{2} + u_{tt} - 6 u_{t} v_{y} - 2 u_{y} v v_{y} + 4 u_{y} v_{t} - v^{2} v_{xy}\\right)}{12} + \\frac{- p_{xyy} + 3 u v_{yyy} + 3 u_{ttt} + 5 u_{y} v_{yy} + v v_{xyy} + 5 v_{xy} v_{y} + 2 v_{x} v_{yy}}{6} - \\frac{v_{xyyy}}{6 Re}$"
      ],
      "text/plain": [
       "-Re**2*v**2*(-p_{x} + u*v_{y} - u_{t} - u_{y}*v)/12 - Re*(p_{tx} - p_{xy}*v - 5*p_{x}*v_{y} + 3*p_{yy}*u + 3*p_{y}*u_{y} + 3*u**2*v_{xy} + 6*u*u_{y}*v_{x} + 4*u*v*v_{yy} + 2*u*v_{ty} + 8*u*v_{y}**2 + u_{tt} - 6*u_{t}*v_{y} - 2*u_{y}*v*v_{y} + 4*u_{y}*v_{t} - v**2*v_{xy})/12 + (-p_{xyy} + 3*u*v_{yyy} + 3*u_{ttt} + 5*u_{y}*v_{yy} + v*v_{xyy} + 5*v_{xy}*v_{y} + 2*v_{x}*v_{yy})/6 - v_{xyyy}/(6*Re)"
      ]
     },
     "metadata": {},
     "output_type": "display_data"
    },
    {
     "name": "stdout",
     "output_type": "stream",
     "text": [
      "p_{x} + 2 u u_{x} + u v_{y} + u_{t} + u_{y} v + \\frac{- u_{xx} - u_{yy}}{Re}\n",
      "+\\tau\\big(\n",
      "- \\frac{u_{tt}}{2}\n",
      "\\big)\n",
      "+h^2\\big(\n",
      "- \\frac{Re^{2} v^{2} \\left(- p_{x} + u v_{y} - u_{t} - u_{y} v\\right)}{12} - \\frac{Re \\left(p_{tx} - p_{xy} v - 5 p_{x} v_{y} + 3 p_{yy} u + 3 p_{y} u_{y} + 3 u^{2} v_{xy} + 6 u u_{y} v_{x} + 4 u v v_{yy} + 2 u v_{ty} + 8 u v_{y}^{2} + u_{tt} - 6 u_{t} v_{y} - 2 u_{y} v v_{y} + 4 u_{y} v_{t} - v^{2} v_{xy}\\right)}{12} + \\frac{- p_{xyy} + 3 u v_{yyy} + 3 u_{ttt} + 5 u_{y} v_{yy} + v v_{xyy} + 5 v_{xy} v_{y} + 2 v_{x} v_{yy}}{6} - \\frac{v_{xyyy}}{6 Re}\n",
      "\\big)\n"
     ]
    },
    {
     "data": {
      "text/latex": [
       "$\\displaystyle 0$"
      ],
      "text/plain": [
       "0"
      ]
     },
     "metadata": {},
     "output_type": "display_data"
    },
    {
     "name": "stdout",
     "output_type": "stream",
     "text": [
      "tau =>\n"
     ]
    },
    {
     "data": {
      "text/latex": [
       "$\\displaystyle \\frac{2 e^{- \\frac{2 t}{Re}} \\sin{\\left(y \\right)} \\cos{\\left(x \\right)}}{Re^{2}}$"
      ],
      "text/plain": [
       "2*exp(-2*t/Re)*sin(y)*cos(x)/Re**2"
      ]
     },
     "metadata": {},
     "output_type": "display_data"
    },
    {
     "name": "stdout",
     "output_type": "stream",
     "text": [
      "h^2 =>\n"
     ]
    },
    {
     "data": {
      "text/latex": [
       "$\\displaystyle \\frac{\\left(Re^{2} + 24\\right) e^{- \\frac{2 t}{Re}} \\sin{\\left(y \\right)} \\cos{\\left(x \\right)}}{6 Re^{3}}$"
      ],
      "text/plain": [
       "(Re**2 + 24)*exp(-2*t/Re)*sin(y)*cos(x)/(6*Re**3)"
      ]
     },
     "metadata": {},
     "output_type": "display_data"
    },
    {
     "name": "stdout",
     "output_type": "stream",
     "text": [
      "0\n",
      "+\\tau\\big(\n",
      "\\frac{2 e^{- \\frac{2 t}{Re}} \\sin{\\left(y \\right)} \\cos{\\left(x \\right)}}{Re^{2}}\n",
      "\\big)\n",
      "+h^2\\big(\n",
      "\\frac{\\left(Re^{2} + 24\\right) e^{- \\frac{2 t}{Re}} \\sin{\\left(y \\right)} \\cos{\\left(x \\right)}}{6 Re^{3}}\n",
      "\\big)\n"
     ]
    },
    {
     "data": {
      "text/latex": [
       "$\\displaystyle \\frac{\\left(- Re \\lambda + \\left(\\lambda - 2 \\pi\\right) \\left(\\lambda + 2 \\pi\\right)\\right) e^{\\lambda x} \\cos{\\left(2 \\pi y \\right)}}{Re}$"
      ],
      "text/plain": [
       "(-Re*lambda + (lambda - 2*pi)*(lambda + 2*pi))*exp(lambda*x)*cos(2*pi*y)/Re"
      ]
     },
     "metadata": {},
     "output_type": "display_data"
    },
    {
     "name": "stdout",
     "output_type": "stream",
     "text": [
      "tau =>\n"
     ]
    },
    {
     "data": {
      "text/latex": [
       "$\\displaystyle 0$"
      ],
      "text/plain": [
       "0"
      ]
     },
     "metadata": {},
     "output_type": "display_data"
    },
    {
     "name": "stdout",
     "output_type": "stream",
     "text": [
      "h^2 =>\n"
     ]
    },
    {
     "data": {
      "text/latex": [
       "$\\displaystyle \\frac{\\lambda \\left(- Re^{2} \\lambda^{2} \\left(Re - \\lambda\\right) e^{2 \\lambda x} \\sin^{2}{\\left(2 \\pi y \\right)} \\cos{\\left(2 \\pi y \\right)} - 4 \\pi^{2} Re \\left(8 Re \\lambda e^{2 \\lambda x} \\sin^{6}{\\left(\\pi y \\right)} - 12 Re \\lambda e^{2 \\lambda x} \\sin^{4}{\\left(\\pi y \\right)} + 4 Re \\lambda e^{2 \\lambda x} \\sin^{2}{\\left(\\pi y \\right)} + 2 Re \\lambda e^{\\lambda x} - 6 Re \\lambda \\sin^{2}{\\left(\\pi y \\right)} + 3 Re \\lambda - 64 \\lambda^{2} e^{\\lambda x} \\sin^{4}{\\left(\\pi y \\right)} + 64 \\lambda^{2} e^{\\lambda x} \\sin^{2}{\\left(\\pi y \\right)} - 10 \\lambda^{2} e^{\\lambda x} - 256 \\pi^{2} e^{\\lambda x} \\sin^{4}{\\left(\\pi y \\right)} + 256 \\pi^{2} e^{\\lambda x} \\sin^{2}{\\left(\\pi y \\right)} - 24 \\pi^{2} e^{\\lambda x} - 48 \\pi^{2} \\sin^{2}{\\left(\\pi y \\right)} + 24 \\pi^{2}\\right) + 32 \\pi^{4} \\lambda \\cos{\\left(2 \\pi y \\right)}\\right) e^{\\lambda x}}{48 \\pi^{2} Re}$"
      ],
      "text/plain": [
       "lambda*(-Re**2*lambda**2*(Re - lambda)*exp(2*lambda*x)*sin(2*pi*y)**2*cos(2*pi*y) - 4*pi**2*Re*(8*Re*lambda*exp(2*lambda*x)*sin(pi*y)**6 - 12*Re*lambda*exp(2*lambda*x)*sin(pi*y)**4 + 4*Re*lambda*exp(2*lambda*x)*sin(pi*y)**2 + 2*Re*lambda*exp(lambda*x) - 6*Re*lambda*sin(pi*y)**2 + 3*Re*lambda - 64*lambda**2*exp(lambda*x)*sin(pi*y)**4 + 64*lambda**2*exp(lambda*x)*sin(pi*y)**2 - 10*lambda**2*exp(lambda*x) - 256*pi**2*exp(lambda*x)*sin(pi*y)**4 + 256*pi**2*exp(lambda*x)*sin(pi*y)**2 - 24*pi**2*exp(lambda*x) - 48*pi**2*sin(pi*y)**2 + 24*pi**2) + 32*pi**4*lambda*cos(2*pi*y))*exp(lambda*x)/(48*pi**2*Re)"
      ]
     },
     "metadata": {},
     "output_type": "display_data"
    },
    {
     "name": "stdout",
     "output_type": "stream",
     "text": [
      "\\frac{\\left(- Re \\lambda + \\left(\\lambda - 2 \\pi\\right) \\left(\\lambda + 2 \\pi\\right)\\right) e^{\\lambda x} \\cos{\\left(2 \\pi y \\right)}}{Re}\n",
      "+\\tau\\big(\n",
      "0\n",
      "\\big)\n",
      "+h^2\\big(\n",
      "\\frac{\\lambda \\left(- Re^{2} \\lambda^{2} \\left(Re - \\lambda\\right) e^{2 \\lambda x} \\sin^{2}{\\left(2 \\pi y \\right)} \\cos{\\left(2 \\pi y \\right)} - 4 \\pi^{2} Re \\left(8 Re \\lambda e^{2 \\lambda x} \\sin^{6}{\\left(\\pi y \\right)} - 12 Re \\lambda e^{2 \\lambda x} \\sin^{4}{\\left(\\pi y \\right)} + 4 Re \\lambda e^{2 \\lambda x} \\sin^{2}{\\left(\\pi y \\right)} + 2 Re \\lambda e^{\\lambda x} - 6 Re \\lambda \\sin^{2}{\\left(\\pi y \\right)} + 3 Re \\lambda - 64 \\lambda^{2} e^{\\lambda x} \\sin^{4}{\\left(\\pi y \\right)} + 64 \\lambda^{2} e^{\\lambda x} \\sin^{2}{\\left(\\pi y \\right)} - 10 \\lambda^{2} e^{\\lambda x} - 256 \\pi^{2} e^{\\lambda x} \\sin^{4}{\\left(\\pi y \\right)} + 256 \\pi^{2} e^{\\lambda x} \\sin^{2}{\\left(\\pi y \\right)} - 24 \\pi^{2} e^{\\lambda x} - 48 \\pi^{2} \\sin^{2}{\\left(\\pi y \\right)} + 24 \\pi^{2}\\right) + 32 \\pi^{4} \\lambda \\cos{\\left(2 \\pi y \\right)}\\right) e^{\\lambda x}}{48 \\pi^{2} Re}\n",
      "\\big)\n",
      "-------------------------\n"
     ]
    },
    {
     "data": {
      "text/latex": [
       "$\\displaystyle p_{y} + u v_{x} + u_{x} v + 2 v v_{y} + v_{t} + \\frac{- v_{xx} - v_{yy}}{Re}$"
      ],
      "text/plain": [
       "p_{y} + u*v_{x} + u_{x}*v + 2*v*v_{y} + v_{t} + (-v_{xx} - v_{yy})/Re"
      ]
     },
     "metadata": {},
     "output_type": "display_data"
    },
    {
     "name": "stdout",
     "output_type": "stream",
     "text": [
      "tau =>\n"
     ]
    },
    {
     "data": {
      "text/latex": [
       "$\\displaystyle \\frac{2 p_{ty} + 2 u v_{tx} + 2 u_{tx} v + 2 u_{t} v_{x} + 2 u_{x} v_{t} + 4 v v_{ty} + v_{tt} + 4 v_{t} v_{y}}{2} + \\frac{- v_{txx} - v_{tyy}}{Re}$"
      ],
      "text/plain": [
       "(2*p_{ty} + 2*u*v_{tx} + 2*u_{tx}*v + 2*u_{t}*v_{x} + 2*u_{x}*v_{t} + 4*v*v_{ty} + v_{tt} + 4*v_{t}*v_{y})/2 + (-v_{txx} - v_{tyy})/Re"
      ]
     },
     "metadata": {},
     "output_type": "display_data"
    },
    {
     "name": "stdout",
     "output_type": "stream",
     "text": [
      "h^2 =>\n"
     ]
    },
    {
     "data": {
      "text/latex": [
       "$\\displaystyle \\frac{p_{yyy} + u v_{xxx} + u_{xxx} v + 3 u_{xx} v_{x} + 3 u_{x} v_{xx} + 2 v v_{yyy} + 6 v_{yy} v_{y}}{6} - \\frac{v_{xxxx} + v_{yyyy}}{12 Re}$"
      ],
      "text/plain": [
       "(p_{yyy} + u*v_{xxx} + u_{xxx}*v + 3*u_{xx}*v_{x} + 3*u_{x}*v_{xx} + 2*v*v_{yyy} + 6*v_{yy}*v_{y})/6 - (v_{xxxx} + v_{yyyy})/(12*Re)"
      ]
     },
     "metadata": {},
     "output_type": "display_data"
    },
    {
     "name": "stdout",
     "output_type": "stream",
     "text": [
      "p_{y} + u v_{x} + u_{x} v + 2 v v_{y} + v_{t} + \\frac{- v_{xx} - v_{yy}}{Re}\n",
      "+\\tau\\big(\n",
      "\\frac{2 p_{ty} + 2 u v_{tx} + 2 u_{tx} v + 2 u_{t} v_{x} + 2 u_{x} v_{t} + 4 v v_{ty} + v_{tt} + 4 v_{t} v_{y}}{2} + \\frac{- v_{txx} - v_{tyy}}{Re}\n",
      "\\big)\n",
      "+h^2\\big(\n",
      "\\frac{p_{yyy} + u v_{xxx} + u_{xxx} v + 3 u_{xx} v_{x} + 3 u_{x} v_{xx} + 2 v v_{yyy} + 6 v_{yy} v_{y}}{6} - \\frac{v_{xxxx} + v_{yyyy}}{12 Re}\n",
      "\\big)\n",
      "f3-f3-f3-f3-f3-f3-f3-f3-f3-f3-f3-f3-f3-f3-f3-f3-f3-f3-f3-f3-f3-f3-f3-f3-f3-\n"
     ]
    },
    {
     "data": {
      "text/latex": [
       "$\\displaystyle p_{y} + u v_{x} + u_{x} v + 2 v v_{y} + v_{t} + \\frac{- v_{xx} - v_{yy}}{Re}$"
      ],
      "text/plain": [
       "p_{y} + u*v_{x} + u_{x}*v + 2*v*v_{y} + v_{t} + (-v_{xx} - v_{yy})/Re"
      ]
     },
     "metadata": {},
     "output_type": "display_data"
    },
    {
     "name": "stdout",
     "output_type": "stream",
     "text": [
      "tau =>\n"
     ]
    },
    {
     "data": {
      "text/latex": [
       "$\\displaystyle - \\frac{v_{tt}}{2}$"
      ],
      "text/plain": [
       "-v_{tt}/2"
      ]
     },
     "metadata": {},
     "output_type": "display_data"
    },
    {
     "name": "stdout",
     "output_type": "stream",
     "text": [
      "h^2 =>\n"
     ]
    },
    {
     "data": {
      "text/latex": [
       "$\\displaystyle \\frac{Re^{2} u^{2} \\left(p_{y} + u v_{x} + v v_{y} + v_{t}\\right)}{12} - \\frac{Re \\left(p_{ty} - p_{xy} u - 3 p_{x} v_{x} + 3 p_{yy} v + 5 p_{y} v_{y} + u^{2} v_{yy} + 2 u v v_{xy} + 8 u v_{x} v_{y} - 2 u_{t} v_{x} + 3 v^{2} v_{yy} + 4 v v_{ty} + 8 v v_{y}^{2} + v_{tt} + 6 v_{t} v_{y}\\right)}{12} + \\frac{2 p_{yyy} + 2 u_{y} v_{xy} + 4 v v_{yyy} + 3 v_{ttt} + v_{tyy} - 2 v_{xy} v_{x} + 12 v_{yy} v_{y}}{6} - \\frac{v_{yyyy}}{6 Re}$"
      ],
      "text/plain": [
       "Re**2*u**2*(p_{y} + u*v_{x} + v*v_{y} + v_{t})/12 - Re*(p_{ty} - p_{xy}*u - 3*p_{x}*v_{x} + 3*p_{yy}*v + 5*p_{y}*v_{y} + u**2*v_{yy} + 2*u*v*v_{xy} + 8*u*v_{x}*v_{y} - 2*u_{t}*v_{x} + 3*v**2*v_{yy} + 4*v*v_{ty} + 8*v*v_{y}**2 + v_{tt} + 6*v_{t}*v_{y})/12 + (2*p_{yyy} + 2*u_{y}*v_{xy} + 4*v*v_{yyy} + 3*v_{ttt} + v_{tyy} - 2*v_{xy}*v_{x} + 12*v_{yy}*v_{y})/6 - v_{yyyy}/(6*Re)"
      ]
     },
     "metadata": {},
     "output_type": "display_data"
    },
    {
     "name": "stdout",
     "output_type": "stream",
     "text": [
      "p_{y} + u v_{x} + u_{x} v + 2 v v_{y} + v_{t} + \\frac{- v_{xx} - v_{yy}}{Re}\n",
      "+\\tau\\big(\n",
      "- \\frac{v_{tt}}{2}\n",
      "\\big)\n",
      "+h^2\\big(\n",
      "\\frac{Re^{2} u^{2} \\left(p_{y} + u v_{x} + v v_{y} + v_{t}\\right)}{12} - \\frac{Re \\left(p_{ty} - p_{xy} u - 3 p_{x} v_{x} + 3 p_{yy} v + 5 p_{y} v_{y} + u^{2} v_{yy} + 2 u v v_{xy} + 8 u v_{x} v_{y} - 2 u_{t} v_{x} + 3 v^{2} v_{yy} + 4 v v_{ty} + 8 v v_{y}^{2} + v_{tt} + 6 v_{t} v_{y}\\right)}{12} + \\frac{2 p_{yyy} + 2 u_{y} v_{xy} + 4 v v_{yyy} + 3 v_{ttt} + v_{tyy} - 2 v_{xy} v_{x} + 12 v_{yy} v_{y}}{6} - \\frac{v_{yyyy}}{6 Re}\n",
      "\\big)\n"
     ]
    },
    {
     "data": {
      "text/latex": [
       "$\\displaystyle 0$"
      ],
      "text/plain": [
       "0"
      ]
     },
     "metadata": {},
     "output_type": "display_data"
    },
    {
     "name": "stdout",
     "output_type": "stream",
     "text": [
      "tau =>\n"
     ]
    },
    {
     "data": {
      "text/latex": [
       "$\\displaystyle - \\frac{2 e^{- \\frac{2 t}{Re}} \\sin{\\left(x \\right)} \\cos{\\left(y \\right)}}{Re^{2}}$"
      ],
      "text/plain": [
       "-2*exp(-2*t/Re)*sin(x)*cos(y)/Re**2"
      ]
     },
     "metadata": {},
     "output_type": "display_data"
    },
    {
     "name": "stdout",
     "output_type": "stream",
     "text": [
      "h^2 =>\n"
     ]
    },
    {
     "data": {
      "text/latex": [
       "$\\displaystyle - \\frac{\\left(Re^{2} + 24\\right) e^{- \\frac{2 t}{Re}} \\sin{\\left(x \\right)} \\cos{\\left(y \\right)}}{6 Re^{3}}$"
      ],
      "text/plain": [
       "-(Re**2 + 24)*exp(-2*t/Re)*sin(x)*cos(y)/(6*Re**3)"
      ]
     },
     "metadata": {},
     "output_type": "display_data"
    },
    {
     "name": "stdout",
     "output_type": "stream",
     "text": [
      "0\n",
      "+\\tau\\big(\n",
      "- \\frac{2 e^{- \\frac{2 t}{Re}} \\sin{\\left(x \\right)} \\cos{\\left(y \\right)}}{Re^{2}}\n",
      "\\big)\n",
      "+h^2\\big(\n",
      "- \\frac{\\left(Re^{2} + 24\\right) e^{- \\frac{2 t}{Re}} \\sin{\\left(x \\right)} \\cos{\\left(y \\right)}}{6 Re^{3}}\n",
      "\\big)\n"
     ]
    },
    {
     "data": {
      "text/latex": [
       "$\\displaystyle \\frac{\\lambda \\left(Re \\lambda - \\left(\\lambda - 2 \\pi\\right) \\left(\\lambda + 2 \\pi\\right)\\right) e^{\\lambda x} \\sin{\\left(2 \\pi y \\right)}}{2 \\pi Re}$"
      ],
      "text/plain": [
       "lambda*(Re*lambda - (lambda - 2*pi)*(lambda + 2*pi))*exp(lambda*x)*sin(2*pi*y)/(2*pi*Re)"
      ]
     },
     "metadata": {},
     "output_type": "display_data"
    },
    {
     "name": "stdout",
     "output_type": "stream",
     "text": [
      "tau =>\n"
     ]
    },
    {
     "data": {
      "text/latex": [
       "$\\displaystyle 0$"
      ],
      "text/plain": [
       "0"
      ]
     },
     "metadata": {},
     "output_type": "display_data"
    },
    {
     "name": "stdout",
     "output_type": "stream",
     "text": [
      "h^2 =>\n"
     ]
    },
    {
     "data": {
      "text/latex": [
       "$\\displaystyle \\frac{\\lambda \\left(Re \\left(Re^{2} \\lambda e^{2 \\lambda x} \\cos^{2}{\\left(2 \\pi y \\right)} - 2 Re^{2} \\lambda e^{\\lambda x} \\cos{\\left(2 \\pi y \\right)} + Re^{2} \\lambda + 3 Re \\lambda^{2} e^{2 \\lambda x} \\sin^{2}{\\left(2 \\pi y \\right)} + 2 Re \\lambda^{2} e^{2 \\lambda x} \\cos^{2}{\\left(2 \\pi y \\right)} - 3 Re \\lambda^{2} e^{2 \\lambda x} - 10 Re \\lambda^{2} e^{\\lambda x} \\cos{\\left(2 \\pi y \\right)} + 4 \\pi^{2} Re e^{2 \\lambda x} \\cos^{2}{\\left(2 \\pi y \\right)} - 8 \\pi^{2} Re e^{\\lambda x} \\cos{\\left(2 \\pi y \\right)} + 4 \\pi^{2} Re - 4 \\lambda^{3} e^{\\lambda x} \\cos{\\left(2 \\pi y \\right)} - 112 \\pi^{2} \\lambda e^{\\lambda x} \\cos{\\left(2 \\pi y \\right)}\\right) - 32 \\pi^{4}\\right) e^{\\lambda x} \\sin{\\left(2 \\pi y \\right)}}{24 \\pi Re}$"
      ],
      "text/plain": [
       "lambda*(Re*(Re**2*lambda*exp(2*lambda*x)*cos(2*pi*y)**2 - 2*Re**2*lambda*exp(lambda*x)*cos(2*pi*y) + Re**2*lambda + 3*Re*lambda**2*exp(2*lambda*x)*sin(2*pi*y)**2 + 2*Re*lambda**2*exp(2*lambda*x)*cos(2*pi*y)**2 - 3*Re*lambda**2*exp(2*lambda*x) - 10*Re*lambda**2*exp(lambda*x)*cos(2*pi*y) + 4*pi**2*Re*exp(2*lambda*x)*cos(2*pi*y)**2 - 8*pi**2*Re*exp(lambda*x)*cos(2*pi*y) + 4*pi**2*Re - 4*lambda**3*exp(lambda*x)*cos(2*pi*y) - 112*pi**2*lambda*exp(lambda*x)*cos(2*pi*y)) - 32*pi**4)*exp(lambda*x)*sin(2*pi*y)/(24*pi*Re)"
      ]
     },
     "metadata": {},
     "output_type": "display_data"
    },
    {
     "name": "stdout",
     "output_type": "stream",
     "text": [
      "\\frac{\\lambda \\left(Re \\lambda - \\left(\\lambda - 2 \\pi\\right) \\left(\\lambda + 2 \\pi\\right)\\right) e^{\\lambda x} \\sin{\\left(2 \\pi y \\right)}}{2 \\pi Re}\n",
      "+\\tau\\big(\n",
      "0\n",
      "\\big)\n",
      "+h^2\\big(\n",
      "\\frac{\\lambda \\left(Re \\left(Re^{2} \\lambda e^{2 \\lambda x} \\cos^{2}{\\left(2 \\pi y \\right)} - 2 Re^{2} \\lambda e^{\\lambda x} \\cos{\\left(2 \\pi y \\right)} + Re^{2} \\lambda + 3 Re \\lambda^{2} e^{2 \\lambda x} \\sin^{2}{\\left(2 \\pi y \\right)} + 2 Re \\lambda^{2} e^{2 \\lambda x} \\cos^{2}{\\left(2 \\pi y \\right)} - 3 Re \\lambda^{2} e^{2 \\lambda x} - 10 Re \\lambda^{2} e^{\\lambda x} \\cos{\\left(2 \\pi y \\right)} + 4 \\pi^{2} Re e^{2 \\lambda x} \\cos^{2}{\\left(2 \\pi y \\right)} - 8 \\pi^{2} Re e^{\\lambda x} \\cos{\\left(2 \\pi y \\right)} + 4 \\pi^{2} Re - 4 \\lambda^{3} e^{\\lambda x} \\cos{\\left(2 \\pi y \\right)} - 112 \\pi^{2} \\lambda e^{\\lambda x} \\cos{\\left(2 \\pi y \\right)}\\right) - 32 \\pi^{4}\\right) e^{\\lambda x} \\sin{\\left(2 \\pi y \\right)}}{24 \\pi Re}\n",
      "\\big)\n",
      "-------------------------\n"
     ]
    },
    {
     "data": {
      "text/latex": [
       "$\\displaystyle p_{xx} + p_{yy} + 2 u u_{xx} + 2 u v_{xy} + 2 u_{xy} v + 2 u_{x}^{2} + 2 u_{x} v_{y} + 2 u_{y} v_{x} + 2 v v_{yy} + 2 v_{y}^{2}$"
      ],
      "text/plain": [
       "p_{xx} + p_{yy} + 2*u*u_{xx} + 2*u*v_{xy} + 2*u_{xy}*v + 2*u_{x}**2 + 2*u_{x}*v_{y} + 2*u_{y}*v_{x} + 2*v*v_{yy} + 2*v_{y}**2"
      ]
     },
     "metadata": {},
     "output_type": "display_data"
    },
    {
     "name": "stdout",
     "output_type": "stream",
     "text": [
      "tau =>\n"
     ]
    },
    {
     "data": {
      "text/latex": [
       "$\\displaystyle 0$"
      ],
      "text/plain": [
       "0"
      ]
     },
     "metadata": {},
     "output_type": "display_data"
    },
    {
     "name": "stdout",
     "output_type": "stream",
     "text": [
      "h^2 =>\n"
     ]
    },
    {
     "data": {
      "text/latex": [
       "$\\displaystyle \\frac{p_{xxxx} + p_{yyyy} + 2 u u_{xxxx} + u v_{xxxy} + u v_{xyyy} + u_{xxxy} v + 8 u_{xxx} u_{x} + u_{xxx} v_{y} + 3 u_{xxy} v_{x} + 6 u_{xx}^{2} + 3 u_{xx} v_{xy} + u_{xyyy} v + 3 u_{xyy} v_{y} + 3 u_{xy} v_{xx} + 3 u_{xy} v_{yy} + 3 u_{x} v_{xxy} + u_{x} v_{yyy} + u_{yyy} v_{x} + 3 u_{yy} v_{xy} + u_{y} v_{xxx} + 3 u_{y} v_{xyy} + 2 v v_{yyyy} + 8 v_{yyy} v_{y} + 6 v_{yy}^{2}}{3}$"
      ],
      "text/plain": [
       "(p_{xxxx} + p_{yyyy} + 2*u*u_{xxxx} + u*v_{xxxy} + u*v_{xyyy} + u_{xxxy}*v + 8*u_{xxx}*u_{x} + u_{xxx}*v_{y} + 3*u_{xxy}*v_{x} + 6*u_{xx}**2 + 3*u_{xx}*v_{xy} + u_{xyyy}*v + 3*u_{xyy}*v_{y} + 3*u_{xy}*v_{xx} + 3*u_{xy}*v_{yy} + 3*u_{x}*v_{xxy} + u_{x}*v_{yyy} + u_{yyy}*v_{x} + 3*u_{yy}*v_{xy} + u_{y}*v_{xxx} + 3*u_{y}*v_{xyy} + 2*v*v_{yyyy} + 8*v_{yyy}*v_{y} + 6*v_{yy}**2)/3"
      ]
     },
     "metadata": {},
     "output_type": "display_data"
    },
    {
     "name": "stdout",
     "output_type": "stream",
     "text": [
      "p_{xx} + p_{yy} + 2 u u_{xx} + 2 u v_{xy} + 2 u_{xy} v + 2 u_{x}^{2} + 2 u_{x} v_{y} + 2 u_{y} v_{x} + 2 v v_{yy} + 2 v_{y}^{2}\n",
      "+\\tau\\big(\n",
      "0\n",
      "\\big)\n",
      "+h^2\\big(\n",
      "\\frac{p_{xxxx} + p_{yyyy} + 2 u u_{xxxx} + u v_{xxxy} + u v_{xyyy} + u_{xxxy} v + 8 u_{xxx} u_{x} + u_{xxx} v_{y} + 3 u_{xxy} v_{x} + 6 u_{xx}^{2} + 3 u_{xx} v_{xy} + u_{xyyy} v + 3 u_{xyy} v_{y} + 3 u_{xy} v_{xx} + 3 u_{xy} v_{yy} + 3 u_{x} v_{xxy} + u_{x} v_{yyy} + u_{yyy} v_{x} + 3 u_{yy} v_{xy} + u_{y} v_{xxx} + 3 u_{y} v_{xyy} + 2 v v_{yyyy} + 8 v_{yyy} v_{y} + 6 v_{yy}^{2}}{3}\n",
      "\\big)\n",
      "f4-f4-f4-f4-f4-f4-f4-f4-f4-f4-f4-f4-f4-f4-f4-f4-f4-f4-f4-f4-f4-f4-f4-f4-f4-\n"
     ]
    },
    {
     "data": {
      "text/latex": [
       "$\\displaystyle p_{xx} + p_{yy} + 2 u u_{xx} + 2 u v_{xy} + 2 u_{xy} v + 2 u_{x}^{2} + 2 u_{x} v_{y} + 2 u_{y} v_{x} + 2 v v_{yy} + 2 v_{y}^{2}$"
      ],
      "text/plain": [
       "p_{xx} + p_{yy} + 2*u*u_{xx} + 2*u*v_{xy} + 2*u_{xy}*v + 2*u_{x}**2 + 2*u_{x}*v_{y} + 2*u_{y}*v_{x} + 2*v*v_{yy} + 2*v_{y}**2"
      ]
     },
     "metadata": {},
     "output_type": "display_data"
    },
    {
     "name": "stdout",
     "output_type": "stream",
     "text": [
      "tau =>\n"
     ]
    },
    {
     "data": {
      "text/latex": [
       "$\\displaystyle 0$"
      ],
      "text/plain": [
       "0"
      ]
     },
     "metadata": {},
     "output_type": "display_data"
    },
    {
     "name": "stdout",
     "output_type": "stream",
     "text": [
      "h^2 =>\n"
     ]
    },
    {
     "data": {
      "text/latex": [
       "$\\displaystyle - \\frac{Re^{2} \\left(- 2 p_{x} v v_{x} + p_{yy} u^{2} + 2 p_{y} u u_{y} + u^{3} v_{xy} + 3 u^{2} u_{y} v_{x} + u^{2} v v_{yy} + u^{2} v_{ty} + u^{2} v_{y}^{2} + 2 u u_{y} v v_{y} + 2 u u_{y} v_{t} + 2 u v v_{x} v_{y} - 2 u_{t} v v_{x} - 2 u_{y} v^{2} v_{x}\\right)}{3} + \\frac{Re \\left(- p_{xyy} u - p_{xy} u_{y} + 3 p_{xy} v_{x} + 7 p_{x} v_{xy} - p_{yyy} v + p_{y} v_{yy} + u^{2} v_{yyy} + 2 u u_{y} v_{yy} - 2 u v v_{xyy} - u v_{txy} - 8 u v_{xy} v_{y} - 2 u v_{x} v_{yy} + 3 u_{ty} v_{x} + 7 u_{t} v_{xy} + 4 u_{y} v v_{xy} - u_{y} v_{tx} - v^{2} v_{yyy} - v v_{tyy} + 2 v v_{xy} v_{x} - 2 v v_{yy} v_{y} + v_{t} v_{yy}\\right)}{3} + \\frac{2 \\left(p_{yyyy} + u v_{xyyy} + 3 u_{y} v_{xyy} + v v_{yyyy} + v_{xyy} v_{x} + 3 v_{xy}^{2} + 4 v_{yyy} v_{y} + 3 v_{yy}^{2}\\right)}{3}$"
      ],
      "text/plain": [
       "-Re**2*(-2*p_{x}*v*v_{x} + p_{yy}*u**2 + 2*p_{y}*u*u_{y} + u**3*v_{xy} + 3*u**2*u_{y}*v_{x} + u**2*v*v_{yy} + u**2*v_{ty} + u**2*v_{y}**2 + 2*u*u_{y}*v*v_{y} + 2*u*u_{y}*v_{t} + 2*u*v*v_{x}*v_{y} - 2*u_{t}*v*v_{x} - 2*u_{y}*v**2*v_{x})/3 + Re*(-p_{xyy}*u - p_{xy}*u_{y} + 3*p_{xy}*v_{x} + 7*p_{x}*v_{xy} - p_{yyy}*v + p_{y}*v_{yy} + u**2*v_{yyy} + 2*u*u_{y}*v_{yy} - 2*u*v*v_{xyy} - u*v_{txy} - 8*u*v_{xy}*v_{y} - 2*u*v_{x}*v_{yy} + 3*u_{ty}*v_{x} + 7*u_{t}*v_{xy} + 4*u_{y}*v*v_{xy} - u_{y}*v_{tx} - v**2*v_{yyy} - v*v_{tyy} + 2*v*v_{xy}*v_{x} - 2*v*v_{yy}*v_{y} + v_{t}*v_{yy})/3 + 2*(p_{yyyy} + u*v_{xyyy} + 3*u_{y}*v_{xyy} + v*v_{yyyy} + v_{xyy}*v_{x} + 3*v_{xy}**2 + 4*v_{yyy}*v_{y} + 3*v_{yy}**2)/3"
      ]
     },
     "metadata": {},
     "output_type": "display_data"
    },
    {
     "name": "stdout",
     "output_type": "stream",
     "text": [
      "p_{xx} + p_{yy} + 2 u u_{xx} + 2 u v_{xy} + 2 u_{xy} v + 2 u_{x}^{2} + 2 u_{x} v_{y} + 2 u_{y} v_{x} + 2 v v_{yy} + 2 v_{y}^{2}\n",
      "+\\tau\\big(\n",
      "0\n",
      "\\big)\n",
      "+h^2\\big(\n",
      "- \\frac{Re^{2} \\left(- 2 p_{x} v v_{x} + p_{yy} u^{2} + 2 p_{y} u u_{y} + u^{3} v_{xy} + 3 u^{2} u_{y} v_{x} + u^{2} v v_{yy} + u^{2} v_{ty} + u^{2} v_{y}^{2} + 2 u u_{y} v v_{y} + 2 u u_{y} v_{t} + 2 u v v_{x} v_{y} - 2 u_{t} v v_{x} - 2 u_{y} v^{2} v_{x}\\right)}{3} + \\frac{Re \\left(- p_{xyy} u - p_{xy} u_{y} + 3 p_{xy} v_{x} + 7 p_{x} v_{xy} - p_{yyy} v + p_{y} v_{yy} + u^{2} v_{yyy} + 2 u u_{y} v_{yy} - 2 u v v_{xyy} - u v_{txy} - 8 u v_{xy} v_{y} - 2 u v_{x} v_{yy} + 3 u_{ty} v_{x} + 7 u_{t} v_{xy} + 4 u_{y} v v_{xy} - u_{y} v_{tx} - v^{2} v_{yyy} - v v_{tyy} + 2 v v_{xy} v_{x} - 2 v v_{yy} v_{y} + v_{t} v_{yy}\\right)}{3} + \\frac{2 \\left(p_{yyyy} + u v_{xyyy} + 3 u_{y} v_{xyy} + v v_{yyyy} + v_{xyy} v_{x} + 3 v_{xy}^{2} + 4 v_{yyy} v_{y} + 3 v_{yy}^{2}\\right)}{3}\n",
      "\\big)\n"
     ]
    },
    {
     "data": {
      "text/latex": [
       "$\\displaystyle 0$"
      ],
      "text/plain": [
       "0"
      ]
     },
     "metadata": {},
     "output_type": "display_data"
    },
    {
     "name": "stdout",
     "output_type": "stream",
     "text": [
      "tau =>\n"
     ]
    },
    {
     "data": {
      "text/latex": [
       "$\\displaystyle 0$"
      ],
      "text/plain": [
       "0"
      ]
     },
     "metadata": {},
     "output_type": "display_data"
    },
    {
     "name": "stdout",
     "output_type": "stream",
     "text": [
      "h^2 =>\n"
     ]
    },
    {
     "data": {
      "text/latex": [
       "$\\displaystyle 0$"
      ],
      "text/plain": [
       "0"
      ]
     },
     "metadata": {},
     "output_type": "display_data"
    },
    {
     "name": "stdout",
     "output_type": "stream",
     "text": [
      "0\n",
      "+\\tau\\big(\n",
      "0\n",
      "\\big)\n",
      "+h^2\\big(\n",
      "0\n",
      "\\big)\n"
     ]
    },
    {
     "data": {
      "text/latex": [
       "$\\displaystyle 0$"
      ],
      "text/plain": [
       "0"
      ]
     },
     "metadata": {},
     "output_type": "display_data"
    },
    {
     "name": "stdout",
     "output_type": "stream",
     "text": [
      "tau =>\n"
     ]
    },
    {
     "data": {
      "text/latex": [
       "$\\displaystyle 0$"
      ],
      "text/plain": [
       "0"
      ]
     },
     "metadata": {},
     "output_type": "display_data"
    },
    {
     "name": "stdout",
     "output_type": "stream",
     "text": [
      "h^2 =>\n"
     ]
    },
    {
     "data": {
      "text/latex": [
       "$\\displaystyle \\frac{\\lambda \\left(- Re^{2} \\lambda \\left(4 \\lambda^{2} e^{2 \\lambda x} \\sin^{6}{\\left(\\pi y \\right)} - 6 \\lambda^{2} e^{2 \\lambda x} \\sin^{4}{\\left(\\pi y \\right)} + 2 \\lambda^{2} e^{2 \\lambda x} \\sin^{2}{\\left(\\pi y \\right)} - 24 \\pi^{2} e^{2 \\lambda x} \\sin^{6}{\\left(\\pi y \\right)} + 36 \\pi^{2} e^{2 \\lambda x} \\sin^{4}{\\left(\\pi y \\right)} - 14 \\pi^{2} e^{2 \\lambda x} \\sin^{2}{\\left(\\pi y \\right)} + \\pi^{2} e^{2 \\lambda x} - 16 \\pi^{2} e^{\\lambda x} \\sin^{4}{\\left(\\pi y \\right)} + 16 \\pi^{2} e^{\\lambda x} \\sin^{2}{\\left(\\pi y \\right)} - 2 \\pi^{2} e^{\\lambda x} - 2 \\pi^{2} \\sin^{2}{\\left(\\pi y \\right)} + \\pi^{2}\\right) + Re \\left(4 \\lambda^{4} e^{2 \\lambda x} \\sin^{6}{\\left(\\pi y \\right)} - 6 \\lambda^{4} e^{2 \\lambda x} \\sin^{4}{\\left(\\pi y \\right)} + 2 \\lambda^{4} e^{2 \\lambda x} \\sin^{2}{\\left(\\pi y \\right)} - 40 \\pi^{2} \\lambda^{2} e^{2 \\lambda x} \\sin^{6}{\\left(\\pi y \\right)} + 60 \\pi^{2} \\lambda^{2} e^{2 \\lambda x} \\sin^{4}{\\left(\\pi y \\right)} - 22 \\pi^{2} \\lambda^{2} e^{2 \\lambda x} \\sin^{2}{\\left(\\pi y \\right)} + \\pi^{2} \\lambda^{2} e^{2 \\lambda x} - 48 \\pi^{2} \\lambda^{2} e^{\\lambda x} \\sin^{4}{\\left(\\pi y \\right)} + 48 \\pi^{2} \\lambda^{2} e^{\\lambda x} \\sin^{2}{\\left(\\pi y \\right)} - 8 \\pi^{2} \\lambda^{2} e^{\\lambda x} + 96 \\pi^{4} e^{2 \\lambda x} \\sin^{6}{\\left(\\pi y \\right)} - 144 \\pi^{4} e^{2 \\lambda x} \\sin^{4}{\\left(\\pi y \\right)} + 56 \\pi^{4} e^{2 \\lambda x} \\sin^{2}{\\left(\\pi y \\right)} - 4 \\pi^{4} e^{2 \\lambda x} + 64 \\pi^{4} e^{\\lambda x} \\sin^{4}{\\left(\\pi y \\right)} - 64 \\pi^{4} e^{\\lambda x} \\sin^{2}{\\left(\\pi y \\right)} + 8 \\pi^{4} e^{\\lambda x} + 8 \\pi^{4} \\sin^{2}{\\left(\\pi y \\right)} - 4 \\pi^{4}\\right) + 2 \\pi^{2} \\lambda \\left(16 \\lambda^{2} e^{\\lambda x} \\sin^{4}{\\left(\\pi y \\right)} - 16 \\lambda^{2} e^{\\lambda x} \\sin^{2}{\\left(\\pi y \\right)} + 3 \\lambda^{2} e^{\\lambda x} - 64 \\pi^{2} e^{\\lambda x} \\sin^{4}{\\left(\\pi y \\right)} + 64 \\pi^{2} e^{\\lambda x} \\sin^{2}{\\left(\\pi y \\right)} - 12 \\pi^{2} e^{\\lambda x} + 8 \\pi^{2} \\sin^{2}{\\left(\\pi y \\right)} - 4 \\pi^{2}\\right)\\right) e^{\\lambda x}}{3 \\pi^{2}}$"
      ],
      "text/plain": [
       "lambda*(-Re**2*lambda*(4*lambda**2*exp(2*lambda*x)*sin(pi*y)**6 - 6*lambda**2*exp(2*lambda*x)*sin(pi*y)**4 + 2*lambda**2*exp(2*lambda*x)*sin(pi*y)**2 - 24*pi**2*exp(2*lambda*x)*sin(pi*y)**6 + 36*pi**2*exp(2*lambda*x)*sin(pi*y)**4 - 14*pi**2*exp(2*lambda*x)*sin(pi*y)**2 + pi**2*exp(2*lambda*x) - 16*pi**2*exp(lambda*x)*sin(pi*y)**4 + 16*pi**2*exp(lambda*x)*sin(pi*y)**2 - 2*pi**2*exp(lambda*x) - 2*pi**2*sin(pi*y)**2 + pi**2) + Re*(4*lambda**4*exp(2*lambda*x)*sin(pi*y)**6 - 6*lambda**4*exp(2*lambda*x)*sin(pi*y)**4 + 2*lambda**4*exp(2*lambda*x)*sin(pi*y)**2 - 40*pi**2*lambda**2*exp(2*lambda*x)*sin(pi*y)**6 + 60*pi**2*lambda**2*exp(2*lambda*x)*sin(pi*y)**4 - 22*pi**2*lambda**2*exp(2*lambda*x)*sin(pi*y)**2 + pi**2*lambda**2*exp(2*lambda*x) - 48*pi**2*lambda**2*exp(lambda*x)*sin(pi*y)**4 + 48*pi**2*lambda**2*exp(lambda*x)*sin(pi*y)**2 - 8*pi**2*lambda**2*exp(lambda*x) + 96*pi**4*exp(2*lambda*x)*sin(pi*y)**6 - 144*pi**4*exp(2*lambda*x)*sin(pi*y)**4 + 56*pi**4*exp(2*lambda*x)*sin(pi*y)**2 - 4*pi**4*exp(2*lambda*x) + 64*pi**4*exp(lambda*x)*sin(pi*y)**4 - 64*pi**4*exp(lambda*x)*sin(pi*y)**2 + 8*pi**4*exp(lambda*x) + 8*pi**4*sin(pi*y)**2 - 4*pi**4) + 2*pi**2*lambda*(16*lambda**2*exp(lambda*x)*sin(pi*y)**4 - 16*lambda**2*exp(lambda*x)*sin(pi*y)**2 + 3*lambda**2*exp(lambda*x) - 64*pi**2*exp(lambda*x)*sin(pi*y)**4 + 64*pi**2*exp(lambda*x)*sin(pi*y)**2 - 12*pi**2*exp(lambda*x) + 8*pi**2*sin(pi*y)**2 - 4*pi**2))*exp(lambda*x)/(3*pi**2)"
      ]
     },
     "metadata": {},
     "output_type": "display_data"
    },
    {
     "name": "stdout",
     "output_type": "stream",
     "text": [
      "0\n",
      "+\\tau\\big(\n",
      "0\n",
      "\\big)\n",
      "+h^2\\big(\n",
      "\\frac{\\lambda \\left(- Re^{2} \\lambda \\left(4 \\lambda^{2} e^{2 \\lambda x} \\sin^{6}{\\left(\\pi y \\right)} - 6 \\lambda^{2} e^{2 \\lambda x} \\sin^{4}{\\left(\\pi y \\right)} + 2 \\lambda^{2} e^{2 \\lambda x} \\sin^{2}{\\left(\\pi y \\right)} - 24 \\pi^{2} e^{2 \\lambda x} \\sin^{6}{\\left(\\pi y \\right)} + 36 \\pi^{2} e^{2 \\lambda x} \\sin^{4}{\\left(\\pi y \\right)} - 14 \\pi^{2} e^{2 \\lambda x} \\sin^{2}{\\left(\\pi y \\right)} + \\pi^{2} e^{2 \\lambda x} - 16 \\pi^{2} e^{\\lambda x} \\sin^{4}{\\left(\\pi y \\right)} + 16 \\pi^{2} e^{\\lambda x} \\sin^{2}{\\left(\\pi y \\right)} - 2 \\pi^{2} e^{\\lambda x} - 2 \\pi^{2} \\sin^{2}{\\left(\\pi y \\right)} + \\pi^{2}\\right) + Re \\left(4 \\lambda^{4} e^{2 \\lambda x} \\sin^{6}{\\left(\\pi y \\right)} - 6 \\lambda^{4} e^{2 \\lambda x} \\sin^{4}{\\left(\\pi y \\right)} + 2 \\lambda^{4} e^{2 \\lambda x} \\sin^{2}{\\left(\\pi y \\right)} - 40 \\pi^{2} \\lambda^{2} e^{2 \\lambda x} \\sin^{6}{\\left(\\pi y \\right)} + 60 \\pi^{2} \\lambda^{2} e^{2 \\lambda x} \\sin^{4}{\\left(\\pi y \\right)} - 22 \\pi^{2} \\lambda^{2} e^{2 \\lambda x} \\sin^{2}{\\left(\\pi y \\right)} + \\pi^{2} \\lambda^{2} e^{2 \\lambda x} - 48 \\pi^{2} \\lambda^{2} e^{\\lambda x} \\sin^{4}{\\left(\\pi y \\right)} + 48 \\pi^{2} \\lambda^{2} e^{\\lambda x} \\sin^{2}{\\left(\\pi y \\right)} - 8 \\pi^{2} \\lambda^{2} e^{\\lambda x} + 96 \\pi^{4} e^{2 \\lambda x} \\sin^{6}{\\left(\\pi y \\right)} - 144 \\pi^{4} e^{2 \\lambda x} \\sin^{4}{\\left(\\pi y \\right)} + 56 \\pi^{4} e^{2 \\lambda x} \\sin^{2}{\\left(\\pi y \\right)} - 4 \\pi^{4} e^{2 \\lambda x} + 64 \\pi^{4} e^{\\lambda x} \\sin^{4}{\\left(\\pi y \\right)} - 64 \\pi^{4} e^{\\lambda x} \\sin^{2}{\\left(\\pi y \\right)} + 8 \\pi^{4} e^{\\lambda x} + 8 \\pi^{4} \\sin^{2}{\\left(\\pi y \\right)} - 4 \\pi^{4}\\right) + 2 \\pi^{2} \\lambda \\left(16 \\lambda^{2} e^{\\lambda x} \\sin^{4}{\\left(\\pi y \\right)} - 16 \\lambda^{2} e^{\\lambda x} \\sin^{2}{\\left(\\pi y \\right)} + 3 \\lambda^{2} e^{\\lambda x} - 64 \\pi^{2} e^{\\lambda x} \\sin^{4}{\\left(\\pi y \\right)} + 64 \\pi^{2} e^{\\lambda x} \\sin^{2}{\\left(\\pi y \\right)} - 12 \\pi^{2} e^{\\lambda x} + 8 \\pi^{2} \\sin^{2}{\\left(\\pi y \\right)} - 4 \\pi^{2}\\right)\\right) e^{\\lambda x}}{3 \\pi^{2}}\n",
      "\\big)\n"
     ]
    },
    {
     "data": {
      "text/latex": [
       "$\\displaystyle 0$"
      ],
      "text/plain": [
       "0"
      ]
     },
     "metadata": {},
     "output_type": "display_data"
    },
    {
     "name": "stdout",
     "output_type": "stream",
     "text": [
      "tau =>\n"
     ]
    },
    {
     "data": {
      "text/latex": [
       "$\\displaystyle 0$"
      ],
      "text/plain": [
       "0"
      ]
     },
     "metadata": {},
     "output_type": "display_data"
    },
    {
     "name": "stdout",
     "output_type": "stream",
     "text": [
      "h^2 =>\n"
     ]
    },
    {
     "data": {
      "text/latex": [
       "$\\displaystyle 0$"
      ],
      "text/plain": [
       "0"
      ]
     },
     "metadata": {},
     "output_type": "display_data"
    },
    {
     "name": "stdout",
     "output_type": "stream",
     "text": [
      "0\n",
      "+\\tau\\big(\n",
      "0\n",
      "\\big)\n",
      "+h^2\\big(\n",
      "0\n",
      "\\big)\n"
     ]
    }
   ],
   "source": [
    "F1 = clip(Dx(u) + Dy(v))\n",
    "F2 = clip(Dt(u) + Ut(Dx(u**2) + Dy(v*u) + Dx(p) - DD(u)/Re))\n",
    "F3 = clip(Dt(v) + Ut(Dx(u*v) + Dy(v**2) + Dy(p) - DD(v)/Re))\n",
    "F4 = clip(Dx(Dx(u**2) + Dy(v*u) + Dx(p)) + Dy(Dx(u*v) + Dy(v**2) + Dy(p)))\n",
    "\n",
    "build(F1, F2, F3, F4)"
   ]
  },
  {
   "cell_type": "code",
   "execution_count": 23,
   "metadata": {
    "scrolled": true
   },
   "outputs": [
    {
     "data": {
      "text/latex": [
       "$\\displaystyle u_{x} + v_{y}$"
      ],
      "text/plain": [
       "u_{x} + v_{y}"
      ]
     },
     "metadata": {},
     "output_type": "display_data"
    },
    {
     "name": "stdout",
     "output_type": "stream",
     "text": [
      "tau =>\n"
     ]
    },
    {
     "data": {
      "text/latex": [
       "$\\displaystyle 0$"
      ],
      "text/plain": [
       "0"
      ]
     },
     "metadata": {},
     "output_type": "display_data"
    },
    {
     "name": "stdout",
     "output_type": "stream",
     "text": [
      "h^2 =>\n"
     ]
    },
    {
     "data": {
      "text/latex": [
       "$\\displaystyle \\frac{u_{xxx} + v_{yyy}}{6}$"
      ],
      "text/plain": [
       "(u_{xxx} + v_{yyy})/6"
      ]
     },
     "metadata": {},
     "output_type": "display_data"
    },
    {
     "name": "stdout",
     "output_type": "stream",
     "text": [
      "u_{x} + v_{y}\n",
      "+\\tau\\big(\n",
      "0\n",
      "\\big)\n",
      "+h^2\\big(\n",
      "\\frac{u_{xxx} + v_{yyy}}{6}\n",
      "\\big)\n",
      "f1-f1-f1-f1-f1-f1-f1-f1-f1-f1-f1-f1-f1-f1-f1-f1-f1-f1-f1-f1-f1-f1-f1-f1-f1-\n"
     ]
    },
    {
     "data": {
      "text/latex": [
       "$\\displaystyle u_{x} + v_{y}$"
      ],
      "text/plain": [
       "u_{x} + v_{y}"
      ]
     },
     "metadata": {},
     "output_type": "display_data"
    },
    {
     "name": "stdout",
     "output_type": "stream",
     "text": [
      "tau =>\n"
     ]
    },
    {
     "data": {
      "text/latex": [
       "$\\displaystyle 0$"
      ],
      "text/plain": [
       "0"
      ]
     },
     "metadata": {},
     "output_type": "display_data"
    },
    {
     "name": "stdout",
     "output_type": "stream",
     "text": [
      "h^2 =>\n"
     ]
    },
    {
     "data": {
      "text/latex": [
       "$\\displaystyle - \\frac{Re \\left(p_{yy} + u v_{xy} + u_{y} v_{x} + v v_{yy} + v_{ty} + v_{y}^{2}\\right)}{6} + \\frac{v_{yyy}}{3}$"
      ],
      "text/plain": [
       "-Re*(p_{yy} + u*v_{xy} + u_{y}*v_{x} + v*v_{yy} + v_{ty} + v_{y}**2)/6 + v_{yyy}/3"
      ]
     },
     "metadata": {},
     "output_type": "display_data"
    },
    {
     "name": "stdout",
     "output_type": "stream",
     "text": [
      "u_{x} + v_{y}\n",
      "+\\tau\\big(\n",
      "0\n",
      "\\big)\n",
      "+h^2\\big(\n",
      "- \\frac{Re \\left(p_{yy} + u v_{xy} + u_{y} v_{x} + v v_{yy} + v_{ty} + v_{y}^{2}\\right)}{6} + \\frac{v_{yyy}}{3}\n",
      "\\big)\n"
     ]
    },
    {
     "data": {
      "text/latex": [
       "$\\displaystyle 0$"
      ],
      "text/plain": [
       "0"
      ]
     },
     "metadata": {},
     "output_type": "display_data"
    },
    {
     "name": "stdout",
     "output_type": "stream",
     "text": [
      "tau =>\n"
     ]
    },
    {
     "data": {
      "text/latex": [
       "$\\displaystyle 0$"
      ],
      "text/plain": [
       "0"
      ]
     },
     "metadata": {},
     "output_type": "display_data"
    },
    {
     "name": "stdout",
     "output_type": "stream",
     "text": [
      "h^2 =>\n"
     ]
    },
    {
     "data": {
      "text/latex": [
       "$\\displaystyle 0$"
      ],
      "text/plain": [
       "0"
      ]
     },
     "metadata": {},
     "output_type": "display_data"
    },
    {
     "name": "stdout",
     "output_type": "stream",
     "text": [
      "0\n",
      "+\\tau\\big(\n",
      "0\n",
      "\\big)\n",
      "+h^2\\big(\n",
      "0\n",
      "\\big)\n"
     ]
    },
    {
     "data": {
      "text/latex": [
       "$\\displaystyle 0$"
      ],
      "text/plain": [
       "0"
      ]
     },
     "metadata": {},
     "output_type": "display_data"
    },
    {
     "name": "stdout",
     "output_type": "stream",
     "text": [
      "tau =>\n"
     ]
    },
    {
     "data": {
      "text/latex": [
       "$\\displaystyle 0$"
      ],
      "text/plain": [
       "0"
      ]
     },
     "metadata": {},
     "output_type": "display_data"
    },
    {
     "name": "stdout",
     "output_type": "stream",
     "text": [
      "h^2 =>\n"
     ]
    },
    {
     "data": {
      "text/latex": [
       "$\\displaystyle - \\frac{\\lambda \\left(Re \\lambda + 8 \\pi^{2}\\right) e^{\\lambda x} \\cos{\\left(2 \\pi y \\right)}}{6}$"
      ],
      "text/plain": [
       "-lambda*(Re*lambda + 8*pi**2)*exp(lambda*x)*cos(2*pi*y)/6"
      ]
     },
     "metadata": {},
     "output_type": "display_data"
    },
    {
     "name": "stdout",
     "output_type": "stream",
     "text": [
      "0\n",
      "+\\tau\\big(\n",
      "0\n",
      "\\big)\n",
      "+h^2\\big(\n",
      "- \\frac{\\lambda \\left(Re \\lambda + 8 \\pi^{2}\\right) e^{\\lambda x} \\cos{\\left(2 \\pi y \\right)}}{6}\n",
      "\\big)\n",
      "-------------------------\n"
     ]
    },
    {
     "data": {
      "text/latex": [
       "$\\displaystyle p_{x} + 2 u u_{x} + u v_{y} + u_{t} + u_{y} v + \\frac{- u_{xx} - u_{yy}}{Re}$"
      ],
      "text/plain": [
       "p_{x} + 2*u*u_{x} + u*v_{y} + u_{t} + u_{y}*v + (-u_{xx} - u_{yy})/Re"
      ]
     },
     "metadata": {},
     "output_type": "display_data"
    },
    {
     "name": "stdout",
     "output_type": "stream",
     "text": [
      "tau =>\n"
     ]
    },
    {
     "data": {
      "text/latex": [
       "$\\displaystyle \\frac{2 p_{tx} + 4 u u_{tx} + 2 u v_{ty} + u_{tt} + 2 u_{ty} v + 4 u_{t} u_{x} + 2 u_{t} v_{y} + 2 u_{y} v_{t}}{2} + \\frac{- u_{txx} - u_{tyy}}{Re}$"
      ],
      "text/plain": [
       "(2*p_{tx} + 4*u*u_{tx} + 2*u*v_{ty} + u_{tt} + 2*u_{ty}*v + 4*u_{t}*u_{x} + 2*u_{t}*v_{y} + 2*u_{y}*v_{t})/2 + (-u_{txx} - u_{tyy})/Re"
      ]
     },
     "metadata": {},
     "output_type": "display_data"
    },
    {
     "name": "stdout",
     "output_type": "stream",
     "text": [
      "h^2 =>\n"
     ]
    },
    {
     "data": {
      "text/latex": [
       "$\\displaystyle \\frac{p_{xxx} + 2 u u_{xxx} + u v_{yyy} + 6 u_{xx} u_{x} + u_{yyy} v + 3 u_{yy} v_{y} + 3 u_{y} v_{yy}}{6} - \\frac{u_{xxxx} + u_{yyyy}}{3 Re}$"
      ],
      "text/plain": [
       "(p_{xxx} + 2*u*u_{xxx} + u*v_{yyy} + 6*u_{xx}*u_{x} + u_{yyy}*v + 3*u_{yy}*v_{y} + 3*u_{y}*v_{yy})/6 - (u_{xxxx} + u_{yyyy})/(3*Re)"
      ]
     },
     "metadata": {},
     "output_type": "display_data"
    },
    {
     "name": "stdout",
     "output_type": "stream",
     "text": [
      "p_{x} + 2 u u_{x} + u v_{y} + u_{t} + u_{y} v + \\frac{- u_{xx} - u_{yy}}{Re}\n",
      "+\\tau\\big(\n",
      "\\frac{2 p_{tx} + 4 u u_{tx} + 2 u v_{ty} + u_{tt} + 2 u_{ty} v + 4 u_{t} u_{x} + 2 u_{t} v_{y} + 2 u_{y} v_{t}}{2} + \\frac{- u_{txx} - u_{tyy}}{Re}\n",
      "\\big)\n",
      "+h^2\\big(\n",
      "\\frac{p_{xxx} + 2 u u_{xxx} + u v_{yyy} + 6 u_{xx} u_{x} + u_{yyy} v + 3 u_{yy} v_{y} + 3 u_{y} v_{yy}}{6} - \\frac{u_{xxxx} + u_{yyyy}}{3 Re}\n",
      "\\big)\n",
      "f2-f2-f2-f2-f2-f2-f2-f2-f2-f2-f2-f2-f2-f2-f2-f2-f2-f2-f2-f2-f2-f2-f2-f2-f2-\n"
     ]
    },
    {
     "data": {
      "text/latex": [
       "$\\displaystyle p_{x} + 2 u u_{x} + u v_{y} + u_{t} + u_{y} v + \\frac{- u_{xx} - u_{yy}}{Re}$"
      ],
      "text/plain": [
       "p_{x} + 2*u*u_{x} + u*v_{y} + u_{t} + u_{y}*v + (-u_{xx} - u_{yy})/Re"
      ]
     },
     "metadata": {},
     "output_type": "display_data"
    },
    {
     "name": "stdout",
     "output_type": "stream",
     "text": [
      "tau =>\n"
     ]
    },
    {
     "data": {
      "text/latex": [
       "$\\displaystyle - \\frac{u_{tt}}{2}$"
      ],
      "text/plain": [
       "-u_{tt}/2"
      ]
     },
     "metadata": {},
     "output_type": "display_data"
    },
    {
     "name": "stdout",
     "output_type": "stream",
     "text": [
      "h^2 =>\n"
     ]
    },
    {
     "data": {
      "text/latex": [
       "$\\displaystyle \\frac{Re^{2} v^{2} \\left(- p_{x} + u v_{y} - u_{t} - u_{y} v\\right)}{6} + \\frac{Re \\left(- 2 p_{tx} - p_{xy} v + p_{x} v_{y} + u v v_{yy} + 2 u v_{ty} - u v_{y}^{2} - 2 u_{tt} - 3 u_{ty} v + 3 u_{t} v_{y} + u_{y} v v_{y} - 2 u_{y} v_{t} - v^{2} v_{xy}\\right)}{6} + \\frac{- p_{xyy} + 3 u v_{yyy} + 3 u_{ttt} + 5 u_{y} v_{yy} + v v_{xyy} + 5 v_{xy} v_{y} + 2 v_{x} v_{yy}}{6} - \\frac{2 v_{xyyy}}{3 Re}$"
      ],
      "text/plain": [
       "Re**2*v**2*(-p_{x} + u*v_{y} - u_{t} - u_{y}*v)/6 + Re*(-2*p_{tx} - p_{xy}*v + p_{x}*v_{y} + u*v*v_{yy} + 2*u*v_{ty} - u*v_{y}**2 - 2*u_{tt} - 3*u_{ty}*v + 3*u_{t}*v_{y} + u_{y}*v*v_{y} - 2*u_{y}*v_{t} - v**2*v_{xy})/6 + (-p_{xyy} + 3*u*v_{yyy} + 3*u_{ttt} + 5*u_{y}*v_{yy} + v*v_{xyy} + 5*v_{xy}*v_{y} + 2*v_{x}*v_{yy})/6 - 2*v_{xyyy}/(3*Re)"
      ]
     },
     "metadata": {},
     "output_type": "display_data"
    },
    {
     "name": "stdout",
     "output_type": "stream",
     "text": [
      "p_{x} + 2 u u_{x} + u v_{y} + u_{t} + u_{y} v + \\frac{- u_{xx} - u_{yy}}{Re}\n",
      "+\\tau\\big(\n",
      "- \\frac{u_{tt}}{2}\n",
      "\\big)\n",
      "+h^2\\big(\n",
      "\\frac{Re^{2} v^{2} \\left(- p_{x} + u v_{y} - u_{t} - u_{y} v\\right)}{6} + \\frac{Re \\left(- 2 p_{tx} - p_{xy} v + p_{x} v_{y} + u v v_{yy} + 2 u v_{ty} - u v_{y}^{2} - 2 u_{tt} - 3 u_{ty} v + 3 u_{t} v_{y} + u_{y} v v_{y} - 2 u_{y} v_{t} - v^{2} v_{xy}\\right)}{6} + \\frac{- p_{xyy} + 3 u v_{yyy} + 3 u_{ttt} + 5 u_{y} v_{yy} + v v_{xyy} + 5 v_{xy} v_{y} + 2 v_{x} v_{yy}}{6} - \\frac{2 v_{xyyy}}{3 Re}\n",
      "\\big)\n"
     ]
    },
    {
     "data": {
      "text/latex": [
       "$\\displaystyle 0$"
      ],
      "text/plain": [
       "0"
      ]
     },
     "metadata": {},
     "output_type": "display_data"
    },
    {
     "name": "stdout",
     "output_type": "stream",
     "text": [
      "tau =>\n"
     ]
    },
    {
     "data": {
      "text/latex": [
       "$\\displaystyle \\frac{2 e^{- \\frac{2 t}{Re}} \\sin{\\left(y \\right)} \\cos{\\left(x \\right)}}{Re^{2}}$"
      ],
      "text/plain": [
       "2*exp(-2*t/Re)*sin(y)*cos(x)/Re**2"
      ]
     },
     "metadata": {},
     "output_type": "display_data"
    },
    {
     "name": "stdout",
     "output_type": "stream",
     "text": [
      "h^2 =>\n"
     ]
    },
    {
     "data": {
      "text/latex": [
       "$\\displaystyle \\frac{2 \\left(Re^{2} + 6\\right) e^{- \\frac{2 t}{Re}} \\sin{\\left(y \\right)} \\cos{\\left(x \\right)}}{3 Re^{3}}$"
      ],
      "text/plain": [
       "2*(Re**2 + 6)*exp(-2*t/Re)*sin(y)*cos(x)/(3*Re**3)"
      ]
     },
     "metadata": {},
     "output_type": "display_data"
    },
    {
     "name": "stdout",
     "output_type": "stream",
     "text": [
      "0\n",
      "+\\tau\\big(\n",
      "\\frac{2 e^{- \\frac{2 t}{Re}} \\sin{\\left(y \\right)} \\cos{\\left(x \\right)}}{Re^{2}}\n",
      "\\big)\n",
      "+h^2\\big(\n",
      "\\frac{2 \\left(Re^{2} + 6\\right) e^{- \\frac{2 t}{Re}} \\sin{\\left(y \\right)} \\cos{\\left(x \\right)}}{3 Re^{3}}\n",
      "\\big)\n"
     ]
    },
    {
     "data": {
      "text/latex": [
       "$\\displaystyle \\frac{\\left(- Re \\lambda + \\left(\\lambda - 2 \\pi\\right) \\left(\\lambda + 2 \\pi\\right)\\right) e^{\\lambda x} \\cos{\\left(2 \\pi y \\right)}}{Re}$"
      ],
      "text/plain": [
       "(-Re*lambda + (lambda - 2*pi)*(lambda + 2*pi))*exp(lambda*x)*cos(2*pi*y)/Re"
      ]
     },
     "metadata": {},
     "output_type": "display_data"
    },
    {
     "name": "stdout",
     "output_type": "stream",
     "text": [
      "tau =>\n"
     ]
    },
    {
     "data": {
      "text/latex": [
       "$\\displaystyle 0$"
      ],
      "text/plain": [
       "0"
      ]
     },
     "metadata": {},
     "output_type": "display_data"
    },
    {
     "name": "stdout",
     "output_type": "stream",
     "text": [
      "h^2 =>\n"
     ]
    },
    {
     "data": {
      "text/latex": [
       "$\\displaystyle \\frac{\\lambda \\left(Re^{2} \\lambda^{2} \\left(Re - \\lambda\\right) e^{2 \\lambda x} \\sin^{2}{\\left(2 \\pi y \\right)} \\cos{\\left(2 \\pi y \\right)} + 4 \\pi^{2} Re \\left(8 Re \\lambda e^{2 \\lambda x} \\sin^{6}{\\left(\\pi y \\right)} - 12 Re \\lambda e^{2 \\lambda x} \\sin^{4}{\\left(\\pi y \\right)} + 4 Re \\lambda e^{2 \\lambda x} \\sin^{2}{\\left(\\pi y \\right)} - Re \\lambda e^{\\lambda x} + 32 \\lambda^{2} e^{\\lambda x} \\sin^{4}{\\left(\\pi y \\right)} - 32 \\lambda^{2} e^{\\lambda x} \\sin^{2}{\\left(\\pi y \\right)} + 5 \\lambda^{2} e^{\\lambda x} + 128 \\pi^{2} e^{\\lambda x} \\sin^{4}{\\left(\\pi y \\right)} - 128 \\pi^{2} e^{\\lambda x} \\sin^{2}{\\left(\\pi y \\right)} + 12 \\pi^{2} e^{\\lambda x} + 24 \\pi^{2} \\sin^{2}{\\left(\\pi y \\right)} - 12 \\pi^{2}\\right) + 64 \\pi^{4} \\lambda \\cos{\\left(2 \\pi y \\right)}\\right) e^{\\lambda x}}{24 \\pi^{2} Re}$"
      ],
      "text/plain": [
       "lambda*(Re**2*lambda**2*(Re - lambda)*exp(2*lambda*x)*sin(2*pi*y)**2*cos(2*pi*y) + 4*pi**2*Re*(8*Re*lambda*exp(2*lambda*x)*sin(pi*y)**6 - 12*Re*lambda*exp(2*lambda*x)*sin(pi*y)**4 + 4*Re*lambda*exp(2*lambda*x)*sin(pi*y)**2 - Re*lambda*exp(lambda*x) + 32*lambda**2*exp(lambda*x)*sin(pi*y)**4 - 32*lambda**2*exp(lambda*x)*sin(pi*y)**2 + 5*lambda**2*exp(lambda*x) + 128*pi**2*exp(lambda*x)*sin(pi*y)**4 - 128*pi**2*exp(lambda*x)*sin(pi*y)**2 + 12*pi**2*exp(lambda*x) + 24*pi**2*sin(pi*y)**2 - 12*pi**2) + 64*pi**4*lambda*cos(2*pi*y))*exp(lambda*x)/(24*pi**2*Re)"
      ]
     },
     "metadata": {},
     "output_type": "display_data"
    },
    {
     "name": "stdout",
     "output_type": "stream",
     "text": [
      "\\frac{\\left(- Re \\lambda + \\left(\\lambda - 2 \\pi\\right) \\left(\\lambda + 2 \\pi\\right)\\right) e^{\\lambda x} \\cos{\\left(2 \\pi y \\right)}}{Re}\n",
      "+\\tau\\big(\n",
      "0\n",
      "\\big)\n",
      "+h^2\\big(\n",
      "\\frac{\\lambda \\left(Re^{2} \\lambda^{2} \\left(Re - \\lambda\\right) e^{2 \\lambda x} \\sin^{2}{\\left(2 \\pi y \\right)} \\cos{\\left(2 \\pi y \\right)} + 4 \\pi^{2} Re \\left(8 Re \\lambda e^{2 \\lambda x} \\sin^{6}{\\left(\\pi y \\right)} - 12 Re \\lambda e^{2 \\lambda x} \\sin^{4}{\\left(\\pi y \\right)} + 4 Re \\lambda e^{2 \\lambda x} \\sin^{2}{\\left(\\pi y \\right)} - Re \\lambda e^{\\lambda x} + 32 \\lambda^{2} e^{\\lambda x} \\sin^{4}{\\left(\\pi y \\right)} - 32 \\lambda^{2} e^{\\lambda x} \\sin^{2}{\\left(\\pi y \\right)} + 5 \\lambda^{2} e^{\\lambda x} + 128 \\pi^{2} e^{\\lambda x} \\sin^{4}{\\left(\\pi y \\right)} - 128 \\pi^{2} e^{\\lambda x} \\sin^{2}{\\left(\\pi y \\right)} + 12 \\pi^{2} e^{\\lambda x} + 24 \\pi^{2} \\sin^{2}{\\left(\\pi y \\right)} - 12 \\pi^{2}\\right) + 64 \\pi^{4} \\lambda \\cos{\\left(2 \\pi y \\right)}\\right) e^{\\lambda x}}{24 \\pi^{2} Re}\n",
      "\\big)\n",
      "-------------------------\n"
     ]
    },
    {
     "data": {
      "text/latex": [
       "$\\displaystyle p_{y} + u v_{x} + u_{x} v + 2 v v_{y} + v_{t} + \\frac{- v_{xx} - v_{yy}}{Re}$"
      ],
      "text/plain": [
       "p_{y} + u*v_{x} + u_{x}*v + 2*v*v_{y} + v_{t} + (-v_{xx} - v_{yy})/Re"
      ]
     },
     "metadata": {},
     "output_type": "display_data"
    },
    {
     "name": "stdout",
     "output_type": "stream",
     "text": [
      "tau =>\n"
     ]
    },
    {
     "data": {
      "text/latex": [
       "$\\displaystyle \\frac{2 p_{ty} + 2 u v_{tx} + 2 u_{tx} v + 2 u_{t} v_{x} + 2 u_{x} v_{t} + 4 v v_{ty} + v_{tt} + 4 v_{t} v_{y}}{2} + \\frac{- v_{txx} - v_{tyy}}{Re}$"
      ],
      "text/plain": [
       "(2*p_{ty} + 2*u*v_{tx} + 2*u_{tx}*v + 2*u_{t}*v_{x} + 2*u_{x}*v_{t} + 4*v*v_{ty} + v_{tt} + 4*v_{t}*v_{y})/2 + (-v_{txx} - v_{tyy})/Re"
      ]
     },
     "metadata": {},
     "output_type": "display_data"
    },
    {
     "name": "stdout",
     "output_type": "stream",
     "text": [
      "h^2 =>\n"
     ]
    },
    {
     "data": {
      "text/latex": [
       "$\\displaystyle \\frac{p_{yyy} + u v_{xxx} + u_{xxx} v + 3 u_{xx} v_{x} + 3 u_{x} v_{xx} + 2 v v_{yyy} + 6 v_{yy} v_{y}}{6} - \\frac{v_{xxxx} + v_{yyyy}}{3 Re}$"
      ],
      "text/plain": [
       "(p_{yyy} + u*v_{xxx} + u_{xxx}*v + 3*u_{xx}*v_{x} + 3*u_{x}*v_{xx} + 2*v*v_{yyy} + 6*v_{yy}*v_{y})/6 - (v_{xxxx} + v_{yyyy})/(3*Re)"
      ]
     },
     "metadata": {},
     "output_type": "display_data"
    },
    {
     "name": "stdout",
     "output_type": "stream",
     "text": [
      "p_{y} + u v_{x} + u_{x} v + 2 v v_{y} + v_{t} + \\frac{- v_{xx} - v_{yy}}{Re}\n",
      "+\\tau\\big(\n",
      "\\frac{2 p_{ty} + 2 u v_{tx} + 2 u_{tx} v + 2 u_{t} v_{x} + 2 u_{x} v_{t} + 4 v v_{ty} + v_{tt} + 4 v_{t} v_{y}}{2} + \\frac{- v_{txx} - v_{tyy}}{Re}\n",
      "\\big)\n",
      "+h^2\\big(\n",
      "\\frac{p_{yyy} + u v_{xxx} + u_{xxx} v + 3 u_{xx} v_{x} + 3 u_{x} v_{xx} + 2 v v_{yyy} + 6 v_{yy} v_{y}}{6} - \\frac{v_{xxxx} + v_{yyyy}}{3 Re}\n",
      "\\big)\n",
      "f3-f3-f3-f3-f3-f3-f3-f3-f3-f3-f3-f3-f3-f3-f3-f3-f3-f3-f3-f3-f3-f3-f3-f3-f3-\n"
     ]
    },
    {
     "data": {
      "text/latex": [
       "$\\displaystyle p_{y} + u v_{x} + u_{x} v + 2 v v_{y} + v_{t} + \\frac{- v_{xx} - v_{yy}}{Re}$"
      ],
      "text/plain": [
       "p_{y} + u*v_{x} + u_{x}*v + 2*v*v_{y} + v_{t} + (-v_{xx} - v_{yy})/Re"
      ]
     },
     "metadata": {},
     "output_type": "display_data"
    },
    {
     "name": "stdout",
     "output_type": "stream",
     "text": [
      "tau =>\n"
     ]
    },
    {
     "data": {
      "text/latex": [
       "$\\displaystyle - \\frac{v_{tt}}{2}$"
      ],
      "text/plain": [
       "-v_{tt}/2"
      ]
     },
     "metadata": {},
     "output_type": "display_data"
    },
    {
     "name": "stdout",
     "output_type": "stream",
     "text": [
      "h^2 =>\n"
     ]
    },
    {
     "data": {
      "text/latex": [
       "$\\displaystyle - \\frac{Re^{2} u^{2} \\left(p_{y} + u v_{x} + v v_{y} + v_{t}\\right)}{6} + \\frac{Re \\left(- 2 p_{ty} - p_{xy} u + 6 p_{x} v_{x} - 3 p_{yy} v - p_{y} v_{y} + u^{2} v_{yy} - 4 u v v_{xy} - 3 u v_{tx} - 7 u v_{x} v_{y} + 4 u_{t} v_{x} + 3 u_{y} v v_{x} - 3 v^{2} v_{yy} - 5 v v_{ty} - 4 v v_{y}^{2} - 2 v_{tt} - 3 v_{t} v_{y}\\right)}{6} + \\frac{5 p_{yyy} + 3 u v_{xyy} + 8 u_{y} v_{xy} + 7 v v_{yyy} + 3 v_{ttt} + 4 v_{tyy} + v_{xy} v_{x} + 21 v_{yy} v_{y}}{6} - \\frac{2 v_{yyyy}}{3 Re}$"
      ],
      "text/plain": [
       "-Re**2*u**2*(p_{y} + u*v_{x} + v*v_{y} + v_{t})/6 + Re*(-2*p_{ty} - p_{xy}*u + 6*p_{x}*v_{x} - 3*p_{yy}*v - p_{y}*v_{y} + u**2*v_{yy} - 4*u*v*v_{xy} - 3*u*v_{tx} - 7*u*v_{x}*v_{y} + 4*u_{t}*v_{x} + 3*u_{y}*v*v_{x} - 3*v**2*v_{yy} - 5*v*v_{ty} - 4*v*v_{y}**2 - 2*v_{tt} - 3*v_{t}*v_{y})/6 + (5*p_{yyy} + 3*u*v_{xyy} + 8*u_{y}*v_{xy} + 7*v*v_{yyy} + 3*v_{ttt} + 4*v_{tyy} + v_{xy}*v_{x} + 21*v_{yy}*v_{y})/6 - 2*v_{yyyy}/(3*Re)"
      ]
     },
     "metadata": {},
     "output_type": "display_data"
    },
    {
     "name": "stdout",
     "output_type": "stream",
     "text": [
      "p_{y} + u v_{x} + u_{x} v + 2 v v_{y} + v_{t} + \\frac{- v_{xx} - v_{yy}}{Re}\n",
      "+\\tau\\big(\n",
      "- \\frac{v_{tt}}{2}\n",
      "\\big)\n",
      "+h^2\\big(\n",
      "- \\frac{Re^{2} u^{2} \\left(p_{y} + u v_{x} + v v_{y} + v_{t}\\right)}{6} + \\frac{Re \\left(- 2 p_{ty} - p_{xy} u + 6 p_{x} v_{x} - 3 p_{yy} v - p_{y} v_{y} + u^{2} v_{yy} - 4 u v v_{xy} - 3 u v_{tx} - 7 u v_{x} v_{y} + 4 u_{t} v_{x} + 3 u_{y} v v_{x} - 3 v^{2} v_{yy} - 5 v v_{ty} - 4 v v_{y}^{2} - 2 v_{tt} - 3 v_{t} v_{y}\\right)}{6} + \\frac{5 p_{yyy} + 3 u v_{xyy} + 8 u_{y} v_{xy} + 7 v v_{yyy} + 3 v_{ttt} + 4 v_{tyy} + v_{xy} v_{x} + 21 v_{yy} v_{y}}{6} - \\frac{2 v_{yyyy}}{3 Re}\n",
      "\\big)\n"
     ]
    },
    {
     "data": {
      "text/latex": [
       "$\\displaystyle 0$"
      ],
      "text/plain": [
       "0"
      ]
     },
     "metadata": {},
     "output_type": "display_data"
    },
    {
     "name": "stdout",
     "output_type": "stream",
     "text": [
      "tau =>\n"
     ]
    },
    {
     "data": {
      "text/latex": [
       "$\\displaystyle - \\frac{2 e^{- \\frac{2 t}{Re}} \\sin{\\left(x \\right)} \\cos{\\left(y \\right)}}{Re^{2}}$"
      ],
      "text/plain": [
       "-2*exp(-2*t/Re)*sin(x)*cos(y)/Re**2"
      ]
     },
     "metadata": {},
     "output_type": "display_data"
    },
    {
     "name": "stdout",
     "output_type": "stream",
     "text": [
      "h^2 =>\n"
     ]
    },
    {
     "data": {
      "text/latex": [
       "$\\displaystyle - \\frac{2 \\left(Re^{2} + 6\\right) e^{- \\frac{2 t}{Re}} \\sin{\\left(x \\right)} \\cos{\\left(y \\right)}}{3 Re^{3}}$"
      ],
      "text/plain": [
       "-2*(Re**2 + 6)*exp(-2*t/Re)*sin(x)*cos(y)/(3*Re**3)"
      ]
     },
     "metadata": {},
     "output_type": "display_data"
    },
    {
     "name": "stdout",
     "output_type": "stream",
     "text": [
      "0\n",
      "+\\tau\\big(\n",
      "- \\frac{2 e^{- \\frac{2 t}{Re}} \\sin{\\left(x \\right)} \\cos{\\left(y \\right)}}{Re^{2}}\n",
      "\\big)\n",
      "+h^2\\big(\n",
      "- \\frac{2 \\left(Re^{2} + 6\\right) e^{- \\frac{2 t}{Re}} \\sin{\\left(x \\right)} \\cos{\\left(y \\right)}}{3 Re^{3}}\n",
      "\\big)\n"
     ]
    },
    {
     "data": {
      "text/latex": [
       "$\\displaystyle \\frac{\\lambda \\left(Re \\lambda - \\left(\\lambda - 2 \\pi\\right) \\left(\\lambda + 2 \\pi\\right)\\right) e^{\\lambda x} \\sin{\\left(2 \\pi y \\right)}}{2 \\pi Re}$"
      ],
      "text/plain": [
       "lambda*(Re*lambda - (lambda - 2*pi)*(lambda + 2*pi))*exp(lambda*x)*sin(2*pi*y)/(2*pi*Re)"
      ]
     },
     "metadata": {},
     "output_type": "display_data"
    },
    {
     "name": "stdout",
     "output_type": "stream",
     "text": [
      "tau =>\n"
     ]
    },
    {
     "data": {
      "text/latex": [
       "$\\displaystyle 0$"
      ],
      "text/plain": [
       "0"
      ]
     },
     "metadata": {},
     "output_type": "display_data"
    },
    {
     "name": "stdout",
     "output_type": "stream",
     "text": [
      "h^2 =>\n"
     ]
    },
    {
     "data": {
      "text/latex": [
       "$\\displaystyle \\frac{\\lambda \\left(Re \\left(- Re^{2} \\lambda e^{2 \\lambda x} \\cos^{2}{\\left(2 \\pi y \\right)} + 2 Re^{2} \\lambda e^{\\lambda x} \\cos{\\left(2 \\pi y \\right)} - Re^{2} \\lambda + 6 Re \\lambda^{2} e^{2 \\lambda x} \\sin^{2}{\\left(2 \\pi y \\right)} + 7 Re \\lambda^{2} e^{2 \\lambda x} \\cos^{2}{\\left(2 \\pi y \\right)} - 6 Re \\lambda^{2} e^{2 \\lambda x} - 11 Re \\lambda^{2} e^{\\lambda x} \\cos{\\left(2 \\pi y \\right)} - 4 \\pi^{2} Re e^{2 \\lambda x} \\cos^{2}{\\left(2 \\pi y \\right)} + 8 \\pi^{2} Re e^{\\lambda x} \\cos{\\left(2 \\pi y \\right)} - 4 \\pi^{2} Re + \\lambda^{3} e^{\\lambda x} \\cos{\\left(2 \\pi y \\right)} - 68 \\pi^{2} \\lambda e^{\\lambda x} \\cos{\\left(2 \\pi y \\right)} - 12 \\pi^{2} \\lambda\\right) - 64 \\pi^{4}\\right) e^{\\lambda x} \\sin{\\left(2 \\pi y \\right)}}{12 \\pi Re}$"
      ],
      "text/plain": [
       "lambda*(Re*(-Re**2*lambda*exp(2*lambda*x)*cos(2*pi*y)**2 + 2*Re**2*lambda*exp(lambda*x)*cos(2*pi*y) - Re**2*lambda + 6*Re*lambda**2*exp(2*lambda*x)*sin(2*pi*y)**2 + 7*Re*lambda**2*exp(2*lambda*x)*cos(2*pi*y)**2 - 6*Re*lambda**2*exp(2*lambda*x) - 11*Re*lambda**2*exp(lambda*x)*cos(2*pi*y) - 4*pi**2*Re*exp(2*lambda*x)*cos(2*pi*y)**2 + 8*pi**2*Re*exp(lambda*x)*cos(2*pi*y) - 4*pi**2*Re + lambda**3*exp(lambda*x)*cos(2*pi*y) - 68*pi**2*lambda*exp(lambda*x)*cos(2*pi*y) - 12*pi**2*lambda) - 64*pi**4)*exp(lambda*x)*sin(2*pi*y)/(12*pi*Re)"
      ]
     },
     "metadata": {},
     "output_type": "display_data"
    },
    {
     "name": "stdout",
     "output_type": "stream",
     "text": [
      "\\frac{\\lambda \\left(Re \\lambda - \\left(\\lambda - 2 \\pi\\right) \\left(\\lambda + 2 \\pi\\right)\\right) e^{\\lambda x} \\sin{\\left(2 \\pi y \\right)}}{2 \\pi Re}\n",
      "+\\tau\\big(\n",
      "0\n",
      "\\big)\n",
      "+h^2\\big(\n",
      "\\frac{\\lambda \\left(Re \\left(- Re^{2} \\lambda e^{2 \\lambda x} \\cos^{2}{\\left(2 \\pi y \\right)} + 2 Re^{2} \\lambda e^{\\lambda x} \\cos{\\left(2 \\pi y \\right)} - Re^{2} \\lambda + 6 Re \\lambda^{2} e^{2 \\lambda x} \\sin^{2}{\\left(2 \\pi y \\right)} + 7 Re \\lambda^{2} e^{2 \\lambda x} \\cos^{2}{\\left(2 \\pi y \\right)} - 6 Re \\lambda^{2} e^{2 \\lambda x} - 11 Re \\lambda^{2} e^{\\lambda x} \\cos{\\left(2 \\pi y \\right)} - 4 \\pi^{2} Re e^{2 \\lambda x} \\cos^{2}{\\left(2 \\pi y \\right)} + 8 \\pi^{2} Re e^{\\lambda x} \\cos{\\left(2 \\pi y \\right)} - 4 \\pi^{2} Re + \\lambda^{3} e^{\\lambda x} \\cos{\\left(2 \\pi y \\right)} - 68 \\pi^{2} \\lambda e^{\\lambda x} \\cos{\\left(2 \\pi y \\right)} - 12 \\pi^{2} \\lambda\\right) - 64 \\pi^{4}\\right) e^{\\lambda x} \\sin{\\left(2 \\pi y \\right)}}{12 \\pi Re}\n",
      "\\big)\n",
      "-------------------------\n"
     ]
    },
    {
     "data": {
      "text/latex": [
       "$\\displaystyle p_{xx} + p_{yy} + 2 u u_{xx} + 2 u v_{xy} + 2 u_{xy} v + 2 u_{x}^{2} + 2 u_{x} v_{y} + 2 u_{y} v_{x} + 2 v v_{yy} + 2 v_{y}^{2}$"
      ],
      "text/plain": [
       "p_{xx} + p_{yy} + 2*u*u_{xx} + 2*u*v_{xy} + 2*u_{xy}*v + 2*u_{x}**2 + 2*u_{x}*v_{y} + 2*u_{y}*v_{x} + 2*v*v_{yy} + 2*v_{y}**2"
      ]
     },
     "metadata": {},
     "output_type": "display_data"
    },
    {
     "name": "stdout",
     "output_type": "stream",
     "text": [
      "tau =>\n"
     ]
    },
    {
     "data": {
      "text/latex": [
       "$\\displaystyle 0$"
      ],
      "text/plain": [
       "0"
      ]
     },
     "metadata": {},
     "output_type": "display_data"
    },
    {
     "name": "stdout",
     "output_type": "stream",
     "text": [
      "h^2 =>\n"
     ]
    },
    {
     "data": {
      "text/latex": [
       "$\\displaystyle \\frac{p_{xxxx} + p_{yyyy} + 2 u u_{xxxx} + u v_{xxxy} + u v_{xyyy} + u_{xxxy} v + 8 u_{xxx} u_{x} + u_{xxx} v_{y} + 3 u_{xxy} v_{x} + 6 u_{xx}^{2} + 3 u_{xx} v_{xy} + u_{xyyy} v + 3 u_{xyy} v_{y} + 3 u_{xy} v_{xx} + 3 u_{xy} v_{yy} + 3 u_{x} v_{xxy} + u_{x} v_{yyy} + u_{yyy} v_{x} + 3 u_{yy} v_{xy} + u_{y} v_{xxx} + 3 u_{y} v_{xyy} + 2 v v_{yyyy} + 8 v_{yyy} v_{y} + 6 v_{yy}^{2}}{3}$"
      ],
      "text/plain": [
       "(p_{xxxx} + p_{yyyy} + 2*u*u_{xxxx} + u*v_{xxxy} + u*v_{xyyy} + u_{xxxy}*v + 8*u_{xxx}*u_{x} + u_{xxx}*v_{y} + 3*u_{xxy}*v_{x} + 6*u_{xx}**2 + 3*u_{xx}*v_{xy} + u_{xyyy}*v + 3*u_{xyy}*v_{y} + 3*u_{xy}*v_{xx} + 3*u_{xy}*v_{yy} + 3*u_{x}*v_{xxy} + u_{x}*v_{yyy} + u_{yyy}*v_{x} + 3*u_{yy}*v_{xy} + u_{y}*v_{xxx} + 3*u_{y}*v_{xyy} + 2*v*v_{yyyy} + 8*v_{yyy}*v_{y} + 6*v_{yy}**2)/3"
      ]
     },
     "metadata": {},
     "output_type": "display_data"
    },
    {
     "name": "stdout",
     "output_type": "stream",
     "text": [
      "p_{xx} + p_{yy} + 2 u u_{xx} + 2 u v_{xy} + 2 u_{xy} v + 2 u_{x}^{2} + 2 u_{x} v_{y} + 2 u_{y} v_{x} + 2 v v_{yy} + 2 v_{y}^{2}\n",
      "+\\tau\\big(\n",
      "0\n",
      "\\big)\n",
      "+h^2\\big(\n",
      "\\frac{p_{xxxx} + p_{yyyy} + 2 u u_{xxxx} + u v_{xxxy} + u v_{xyyy} + u_{xxxy} v + 8 u_{xxx} u_{x} + u_{xxx} v_{y} + 3 u_{xxy} v_{x} + 6 u_{xx}^{2} + 3 u_{xx} v_{xy} + u_{xyyy} v + 3 u_{xyy} v_{y} + 3 u_{xy} v_{xx} + 3 u_{xy} v_{yy} + 3 u_{x} v_{xxy} + u_{x} v_{yyy} + u_{yyy} v_{x} + 3 u_{yy} v_{xy} + u_{y} v_{xxx} + 3 u_{y} v_{xyy} + 2 v v_{yyyy} + 8 v_{yyy} v_{y} + 6 v_{yy}^{2}}{3}\n",
      "\\big)\n",
      "f4-f4-f4-f4-f4-f4-f4-f4-f4-f4-f4-f4-f4-f4-f4-f4-f4-f4-f4-f4-f4-f4-f4-f4-f4-\n"
     ]
    },
    {
     "data": {
      "text/latex": [
       "$\\displaystyle p_{xx} + p_{yy} + 2 u u_{xx} + 2 u v_{xy} + 2 u_{xy} v + 2 u_{x}^{2} + 2 u_{x} v_{y} + 2 u_{y} v_{x} + 2 v v_{yy} + 2 v_{y}^{2}$"
      ],
      "text/plain": [
       "p_{xx} + p_{yy} + 2*u*u_{xx} + 2*u*v_{xy} + 2*u_{xy}*v + 2*u_{x}**2 + 2*u_{x}*v_{y} + 2*u_{y}*v_{x} + 2*v*v_{yy} + 2*v_{y}**2"
      ]
     },
     "metadata": {},
     "output_type": "display_data"
    },
    {
     "name": "stdout",
     "output_type": "stream",
     "text": [
      "tau =>\n"
     ]
    },
    {
     "data": {
      "text/latex": [
       "$\\displaystyle 0$"
      ],
      "text/plain": [
       "0"
      ]
     },
     "metadata": {},
     "output_type": "display_data"
    },
    {
     "name": "stdout",
     "output_type": "stream",
     "text": [
      "h^2 =>\n"
     ]
    },
    {
     "data": {
      "text/latex": [
       "$\\displaystyle - \\frac{Re^{2} \\left(- 2 p_{x} v v_{x} + p_{yy} u^{2} + 2 p_{y} u u_{y} + u^{3} v_{xy} + 3 u^{2} u_{y} v_{x} + u^{2} v v_{yy} + u^{2} v_{ty} + u^{2} v_{y}^{2} + 2 u u_{y} v v_{y} + 2 u u_{y} v_{t} + 2 u v v_{x} v_{y} - 2 u_{t} v v_{x} - 2 u_{y} v^{2} v_{x}\\right)}{3} + \\frac{Re \\left(- p_{xyy} u - p_{xy} u_{y} + 3 p_{xy} v_{x} + 7 p_{x} v_{xy} - p_{yyy} v + p_{y} v_{yy} + u^{2} v_{yyy} + 2 u u_{y} v_{yy} - 2 u v v_{xyy} - u v_{txy} - 8 u v_{xy} v_{y} - 2 u v_{x} v_{yy} + 3 u_{ty} v_{x} + 7 u_{t} v_{xy} + 4 u_{y} v v_{xy} - u_{y} v_{tx} - v^{2} v_{yyy} - v v_{tyy} + 2 v v_{xy} v_{x} - 2 v v_{yy} v_{y} + v_{t} v_{yy}\\right)}{3} + \\frac{2 \\left(p_{yyyy} + u v_{xyyy} + 3 u_{y} v_{xyy} + v v_{yyyy} + v_{xyy} v_{x} + 3 v_{xy}^{2} + 4 v_{yyy} v_{y} + 3 v_{yy}^{2}\\right)}{3}$"
      ],
      "text/plain": [
       "-Re**2*(-2*p_{x}*v*v_{x} + p_{yy}*u**2 + 2*p_{y}*u*u_{y} + u**3*v_{xy} + 3*u**2*u_{y}*v_{x} + u**2*v*v_{yy} + u**2*v_{ty} + u**2*v_{y}**2 + 2*u*u_{y}*v*v_{y} + 2*u*u_{y}*v_{t} + 2*u*v*v_{x}*v_{y} - 2*u_{t}*v*v_{x} - 2*u_{y}*v**2*v_{x})/3 + Re*(-p_{xyy}*u - p_{xy}*u_{y} + 3*p_{xy}*v_{x} + 7*p_{x}*v_{xy} - p_{yyy}*v + p_{y}*v_{yy} + u**2*v_{yyy} + 2*u*u_{y}*v_{yy} - 2*u*v*v_{xyy} - u*v_{txy} - 8*u*v_{xy}*v_{y} - 2*u*v_{x}*v_{yy} + 3*u_{ty}*v_{x} + 7*u_{t}*v_{xy} + 4*u_{y}*v*v_{xy} - u_{y}*v_{tx} - v**2*v_{yyy} - v*v_{tyy} + 2*v*v_{xy}*v_{x} - 2*v*v_{yy}*v_{y} + v_{t}*v_{yy})/3 + 2*(p_{yyyy} + u*v_{xyyy} + 3*u_{y}*v_{xyy} + v*v_{yyyy} + v_{xyy}*v_{x} + 3*v_{xy}**2 + 4*v_{yyy}*v_{y} + 3*v_{yy}**2)/3"
      ]
     },
     "metadata": {},
     "output_type": "display_data"
    },
    {
     "name": "stdout",
     "output_type": "stream",
     "text": [
      "p_{xx} + p_{yy} + 2 u u_{xx} + 2 u v_{xy} + 2 u_{xy} v + 2 u_{x}^{2} + 2 u_{x} v_{y} + 2 u_{y} v_{x} + 2 v v_{yy} + 2 v_{y}^{2}\n",
      "+\\tau\\big(\n",
      "0\n",
      "\\big)\n",
      "+h^2\\big(\n",
      "- \\frac{Re^{2} \\left(- 2 p_{x} v v_{x} + p_{yy} u^{2} + 2 p_{y} u u_{y} + u^{3} v_{xy} + 3 u^{2} u_{y} v_{x} + u^{2} v v_{yy} + u^{2} v_{ty} + u^{2} v_{y}^{2} + 2 u u_{y} v v_{y} + 2 u u_{y} v_{t} + 2 u v v_{x} v_{y} - 2 u_{t} v v_{x} - 2 u_{y} v^{2} v_{x}\\right)}{3} + \\frac{Re \\left(- p_{xyy} u - p_{xy} u_{y} + 3 p_{xy} v_{x} + 7 p_{x} v_{xy} - p_{yyy} v + p_{y} v_{yy} + u^{2} v_{yyy} + 2 u u_{y} v_{yy} - 2 u v v_{xyy} - u v_{txy} - 8 u v_{xy} v_{y} - 2 u v_{x} v_{yy} + 3 u_{ty} v_{x} + 7 u_{t} v_{xy} + 4 u_{y} v v_{xy} - u_{y} v_{tx} - v^{2} v_{yyy} - v v_{tyy} + 2 v v_{xy} v_{x} - 2 v v_{yy} v_{y} + v_{t} v_{yy}\\right)}{3} + \\frac{2 \\left(p_{yyyy} + u v_{xyyy} + 3 u_{y} v_{xyy} + v v_{yyyy} + v_{xyy} v_{x} + 3 v_{xy}^{2} + 4 v_{yyy} v_{y} + 3 v_{yy}^{2}\\right)}{3}\n",
      "\\big)\n"
     ]
    },
    {
     "data": {
      "text/latex": [
       "$\\displaystyle 0$"
      ],
      "text/plain": [
       "0"
      ]
     },
     "metadata": {},
     "output_type": "display_data"
    },
    {
     "name": "stdout",
     "output_type": "stream",
     "text": [
      "tau =>\n"
     ]
    },
    {
     "data": {
      "text/latex": [
       "$\\displaystyle 0$"
      ],
      "text/plain": [
       "0"
      ]
     },
     "metadata": {},
     "output_type": "display_data"
    },
    {
     "name": "stdout",
     "output_type": "stream",
     "text": [
      "h^2 =>\n"
     ]
    },
    {
     "data": {
      "text/latex": [
       "$\\displaystyle 0$"
      ],
      "text/plain": [
       "0"
      ]
     },
     "metadata": {},
     "output_type": "display_data"
    },
    {
     "name": "stdout",
     "output_type": "stream",
     "text": [
      "0\n",
      "+\\tau\\big(\n",
      "0\n",
      "\\big)\n",
      "+h^2\\big(\n",
      "0\n",
      "\\big)\n"
     ]
    },
    {
     "data": {
      "text/latex": [
       "$\\displaystyle 0$"
      ],
      "text/plain": [
       "0"
      ]
     },
     "metadata": {},
     "output_type": "display_data"
    },
    {
     "name": "stdout",
     "output_type": "stream",
     "text": [
      "tau =>\n"
     ]
    },
    {
     "data": {
      "text/latex": [
       "$\\displaystyle 0$"
      ],
      "text/plain": [
       "0"
      ]
     },
     "metadata": {},
     "output_type": "display_data"
    },
    {
     "name": "stdout",
     "output_type": "stream",
     "text": [
      "h^2 =>\n"
     ]
    },
    {
     "data": {
      "text/latex": [
       "$\\displaystyle \\frac{\\lambda \\left(- Re^{2} \\lambda \\left(4 \\lambda^{2} e^{2 \\lambda x} \\sin^{6}{\\left(\\pi y \\right)} - 6 \\lambda^{2} e^{2 \\lambda x} \\sin^{4}{\\left(\\pi y \\right)} + 2 \\lambda^{2} e^{2 \\lambda x} \\sin^{2}{\\left(\\pi y \\right)} - 24 \\pi^{2} e^{2 \\lambda x} \\sin^{6}{\\left(\\pi y \\right)} + 36 \\pi^{2} e^{2 \\lambda x} \\sin^{4}{\\left(\\pi y \\right)} - 14 \\pi^{2} e^{2 \\lambda x} \\sin^{2}{\\left(\\pi y \\right)} + \\pi^{2} e^{2 \\lambda x} - 16 \\pi^{2} e^{\\lambda x} \\sin^{4}{\\left(\\pi y \\right)} + 16 \\pi^{2} e^{\\lambda x} \\sin^{2}{\\left(\\pi y \\right)} - 2 \\pi^{2} e^{\\lambda x} - 2 \\pi^{2} \\sin^{2}{\\left(\\pi y \\right)} + \\pi^{2}\\right) + Re \\left(4 \\lambda^{4} e^{2 \\lambda x} \\sin^{6}{\\left(\\pi y \\right)} - 6 \\lambda^{4} e^{2 \\lambda x} \\sin^{4}{\\left(\\pi y \\right)} + 2 \\lambda^{4} e^{2 \\lambda x} \\sin^{2}{\\left(\\pi y \\right)} - 40 \\pi^{2} \\lambda^{2} e^{2 \\lambda x} \\sin^{6}{\\left(\\pi y \\right)} + 60 \\pi^{2} \\lambda^{2} e^{2 \\lambda x} \\sin^{4}{\\left(\\pi y \\right)} - 22 \\pi^{2} \\lambda^{2} e^{2 \\lambda x} \\sin^{2}{\\left(\\pi y \\right)} + \\pi^{2} \\lambda^{2} e^{2 \\lambda x} - 48 \\pi^{2} \\lambda^{2} e^{\\lambda x} \\sin^{4}{\\left(\\pi y \\right)} + 48 \\pi^{2} \\lambda^{2} e^{\\lambda x} \\sin^{2}{\\left(\\pi y \\right)} - 8 \\pi^{2} \\lambda^{2} e^{\\lambda x} + 96 \\pi^{4} e^{2 \\lambda x} \\sin^{6}{\\left(\\pi y \\right)} - 144 \\pi^{4} e^{2 \\lambda x} \\sin^{4}{\\left(\\pi y \\right)} + 56 \\pi^{4} e^{2 \\lambda x} \\sin^{2}{\\left(\\pi y \\right)} - 4 \\pi^{4} e^{2 \\lambda x} + 64 \\pi^{4} e^{\\lambda x} \\sin^{4}{\\left(\\pi y \\right)} - 64 \\pi^{4} e^{\\lambda x} \\sin^{2}{\\left(\\pi y \\right)} + 8 \\pi^{4} e^{\\lambda x} + 8 \\pi^{4} \\sin^{2}{\\left(\\pi y \\right)} - 4 \\pi^{4}\\right) + 2 \\pi^{2} \\lambda \\left(16 \\lambda^{2} e^{\\lambda x} \\sin^{4}{\\left(\\pi y \\right)} - 16 \\lambda^{2} e^{\\lambda x} \\sin^{2}{\\left(\\pi y \\right)} + 3 \\lambda^{2} e^{\\lambda x} - 64 \\pi^{2} e^{\\lambda x} \\sin^{4}{\\left(\\pi y \\right)} + 64 \\pi^{2} e^{\\lambda x} \\sin^{2}{\\left(\\pi y \\right)} - 12 \\pi^{2} e^{\\lambda x} + 8 \\pi^{2} \\sin^{2}{\\left(\\pi y \\right)} - 4 \\pi^{2}\\right)\\right) e^{\\lambda x}}{3 \\pi^{2}}$"
      ],
      "text/plain": [
       "lambda*(-Re**2*lambda*(4*lambda**2*exp(2*lambda*x)*sin(pi*y)**6 - 6*lambda**2*exp(2*lambda*x)*sin(pi*y)**4 + 2*lambda**2*exp(2*lambda*x)*sin(pi*y)**2 - 24*pi**2*exp(2*lambda*x)*sin(pi*y)**6 + 36*pi**2*exp(2*lambda*x)*sin(pi*y)**4 - 14*pi**2*exp(2*lambda*x)*sin(pi*y)**2 + pi**2*exp(2*lambda*x) - 16*pi**2*exp(lambda*x)*sin(pi*y)**4 + 16*pi**2*exp(lambda*x)*sin(pi*y)**2 - 2*pi**2*exp(lambda*x) - 2*pi**2*sin(pi*y)**2 + pi**2) + Re*(4*lambda**4*exp(2*lambda*x)*sin(pi*y)**6 - 6*lambda**4*exp(2*lambda*x)*sin(pi*y)**4 + 2*lambda**4*exp(2*lambda*x)*sin(pi*y)**2 - 40*pi**2*lambda**2*exp(2*lambda*x)*sin(pi*y)**6 + 60*pi**2*lambda**2*exp(2*lambda*x)*sin(pi*y)**4 - 22*pi**2*lambda**2*exp(2*lambda*x)*sin(pi*y)**2 + pi**2*lambda**2*exp(2*lambda*x) - 48*pi**2*lambda**2*exp(lambda*x)*sin(pi*y)**4 + 48*pi**2*lambda**2*exp(lambda*x)*sin(pi*y)**2 - 8*pi**2*lambda**2*exp(lambda*x) + 96*pi**4*exp(2*lambda*x)*sin(pi*y)**6 - 144*pi**4*exp(2*lambda*x)*sin(pi*y)**4 + 56*pi**4*exp(2*lambda*x)*sin(pi*y)**2 - 4*pi**4*exp(2*lambda*x) + 64*pi**4*exp(lambda*x)*sin(pi*y)**4 - 64*pi**4*exp(lambda*x)*sin(pi*y)**2 + 8*pi**4*exp(lambda*x) + 8*pi**4*sin(pi*y)**2 - 4*pi**4) + 2*pi**2*lambda*(16*lambda**2*exp(lambda*x)*sin(pi*y)**4 - 16*lambda**2*exp(lambda*x)*sin(pi*y)**2 + 3*lambda**2*exp(lambda*x) - 64*pi**2*exp(lambda*x)*sin(pi*y)**4 + 64*pi**2*exp(lambda*x)*sin(pi*y)**2 - 12*pi**2*exp(lambda*x) + 8*pi**2*sin(pi*y)**2 - 4*pi**2))*exp(lambda*x)/(3*pi**2)"
      ]
     },
     "metadata": {},
     "output_type": "display_data"
    },
    {
     "name": "stdout",
     "output_type": "stream",
     "text": [
      "0\n",
      "+\\tau\\big(\n",
      "0\n",
      "\\big)\n",
      "+h^2\\big(\n",
      "\\frac{\\lambda \\left(- Re^{2} \\lambda \\left(4 \\lambda^{2} e^{2 \\lambda x} \\sin^{6}{\\left(\\pi y \\right)} - 6 \\lambda^{2} e^{2 \\lambda x} \\sin^{4}{\\left(\\pi y \\right)} + 2 \\lambda^{2} e^{2 \\lambda x} \\sin^{2}{\\left(\\pi y \\right)} - 24 \\pi^{2} e^{2 \\lambda x} \\sin^{6}{\\left(\\pi y \\right)} + 36 \\pi^{2} e^{2 \\lambda x} \\sin^{4}{\\left(\\pi y \\right)} - 14 \\pi^{2} e^{2 \\lambda x} \\sin^{2}{\\left(\\pi y \\right)} + \\pi^{2} e^{2 \\lambda x} - 16 \\pi^{2} e^{\\lambda x} \\sin^{4}{\\left(\\pi y \\right)} + 16 \\pi^{2} e^{\\lambda x} \\sin^{2}{\\left(\\pi y \\right)} - 2 \\pi^{2} e^{\\lambda x} - 2 \\pi^{2} \\sin^{2}{\\left(\\pi y \\right)} + \\pi^{2}\\right) + Re \\left(4 \\lambda^{4} e^{2 \\lambda x} \\sin^{6}{\\left(\\pi y \\right)} - 6 \\lambda^{4} e^{2 \\lambda x} \\sin^{4}{\\left(\\pi y \\right)} + 2 \\lambda^{4} e^{2 \\lambda x} \\sin^{2}{\\left(\\pi y \\right)} - 40 \\pi^{2} \\lambda^{2} e^{2 \\lambda x} \\sin^{6}{\\left(\\pi y \\right)} + 60 \\pi^{2} \\lambda^{2} e^{2 \\lambda x} \\sin^{4}{\\left(\\pi y \\right)} - 22 \\pi^{2} \\lambda^{2} e^{2 \\lambda x} \\sin^{2}{\\left(\\pi y \\right)} + \\pi^{2} \\lambda^{2} e^{2 \\lambda x} - 48 \\pi^{2} \\lambda^{2} e^{\\lambda x} \\sin^{4}{\\left(\\pi y \\right)} + 48 \\pi^{2} \\lambda^{2} e^{\\lambda x} \\sin^{2}{\\left(\\pi y \\right)} - 8 \\pi^{2} \\lambda^{2} e^{\\lambda x} + 96 \\pi^{4} e^{2 \\lambda x} \\sin^{6}{\\left(\\pi y \\right)} - 144 \\pi^{4} e^{2 \\lambda x} \\sin^{4}{\\left(\\pi y \\right)} + 56 \\pi^{4} e^{2 \\lambda x} \\sin^{2}{\\left(\\pi y \\right)} - 4 \\pi^{4} e^{2 \\lambda x} + 64 \\pi^{4} e^{\\lambda x} \\sin^{4}{\\left(\\pi y \\right)} - 64 \\pi^{4} e^{\\lambda x} \\sin^{2}{\\left(\\pi y \\right)} + 8 \\pi^{4} e^{\\lambda x} + 8 \\pi^{4} \\sin^{2}{\\left(\\pi y \\right)} - 4 \\pi^{4}\\right) + 2 \\pi^{2} \\lambda \\left(16 \\lambda^{2} e^{\\lambda x} \\sin^{4}{\\left(\\pi y \\right)} - 16 \\lambda^{2} e^{\\lambda x} \\sin^{2}{\\left(\\pi y \\right)} + 3 \\lambda^{2} e^{\\lambda x} - 64 \\pi^{2} e^{\\lambda x} \\sin^{4}{\\left(\\pi y \\right)} + 64 \\pi^{2} e^{\\lambda x} \\sin^{2}{\\left(\\pi y \\right)} - 12 \\pi^{2} e^{\\lambda x} + 8 \\pi^{2} \\sin^{2}{\\left(\\pi y \\right)} - 4 \\pi^{2}\\right)\\right) e^{\\lambda x}}{3 \\pi^{2}}\n",
      "\\big)\n"
     ]
    },
    {
     "data": {
      "text/latex": [
       "$\\displaystyle 0$"
      ],
      "text/plain": [
       "0"
      ]
     },
     "metadata": {},
     "output_type": "display_data"
    },
    {
     "name": "stdout",
     "output_type": "stream",
     "text": [
      "tau =>\n"
     ]
    },
    {
     "data": {
      "text/latex": [
       "$\\displaystyle 0$"
      ],
      "text/plain": [
       "0"
      ]
     },
     "metadata": {},
     "output_type": "display_data"
    },
    {
     "name": "stdout",
     "output_type": "stream",
     "text": [
      "h^2 =>\n"
     ]
    },
    {
     "data": {
      "text/latex": [
       "$\\displaystyle 0$"
      ],
      "text/plain": [
       "0"
      ]
     },
     "metadata": {},
     "output_type": "display_data"
    },
    {
     "name": "stdout",
     "output_type": "stream",
     "text": [
      "0\n",
      "+\\tau\\big(\n",
      "0\n",
      "\\big)\n",
      "+h^2\\big(\n",
      "0\n",
      "\\big)\n"
     ]
    }
   ],
   "source": [
    "F1 = clip(Dx(u) + Dy(v))\n",
    "F2 = clip(Dt(u) + Ut(Dx(u**2) + Dy(v*u) + Dx(p) - DD2(u)/Re))\n",
    "F3 = clip(Dt(v) + Ut(Dx(u*v) + Dy(v**2) + Dy(p) - DD2(v)/Re))\n",
    "F4 = clip(Dx(Dx(u**2) + Dy(v*u) + Dx(p)) + Dy(Dx(u*v) + Dy(v**2) + Dy(p)))\n",
    "\n",
    "build(F1, F2, F3, F4)"
   ]
  },
  {
   "cell_type": "markdown",
   "metadata": {},
   "source": [
    "## Метод MAC ##\n",
    "<img src=\"./F17.13.png\"/>\n",
    "<img src=\"./F17.8.png\"/>\n",
    "<img src=\"./F17.10.png\"/>"
   ]
  },
  {
   "cell_type": "code",
   "execution_count": 24,
   "metadata": {
    "scrolled": true
   },
   "outputs": [
    {
     "data": {
      "text/latex": [
       "$\\displaystyle u_{x} + v_{y}$"
      ],
      "text/plain": [
       "u_{x} + v_{y}"
      ]
     },
     "metadata": {},
     "output_type": "display_data"
    },
    {
     "name": "stdout",
     "output_type": "stream",
     "text": [
      "tau =>\n"
     ]
    },
    {
     "data": {
      "text/latex": [
       "$\\displaystyle \\frac{u_{tx} + v_{ty}}{2}$"
      ],
      "text/plain": [
       "(u_{tx} + v_{ty})/2"
      ]
     },
     "metadata": {},
     "output_type": "display_data"
    },
    {
     "name": "stdout",
     "output_type": "stream",
     "text": [
      "h^2 =>\n"
     ]
    },
    {
     "data": {
      "text/latex": [
       "$\\displaystyle \\frac{u_{xxx} + v_{yyy}}{24}$"
      ],
      "text/plain": [
       "(u_{xxx} + v_{yyy})/24"
      ]
     },
     "metadata": {},
     "output_type": "display_data"
    },
    {
     "name": "stdout",
     "output_type": "stream",
     "text": [
      "u_{x} + v_{y}\n",
      "+\\tau\\big(\n",
      "\\frac{u_{tx} + v_{ty}}{2}\n",
      "\\big)\n",
      "+h^2\\big(\n",
      "\\frac{u_{xxx} + v_{yyy}}{24}\n",
      "\\big)\n",
      "f1-f1-f1-f1-f1-f1-f1-f1-f1-f1-f1-f1-f1-f1-f1-f1-f1-f1-f1-f1-f1-f1-f1-f1-f1-\n"
     ]
    },
    {
     "data": {
      "text/latex": [
       "$\\displaystyle u_{x} + v_{y}$"
      ],
      "text/plain": [
       "u_{x} + v_{y}"
      ]
     },
     "metadata": {},
     "output_type": "display_data"
    },
    {
     "name": "stdout",
     "output_type": "stream",
     "text": [
      "tau =>\n"
     ]
    },
    {
     "data": {
      "text/latex": [
       "$\\displaystyle 0$"
      ],
      "text/plain": [
       "0"
      ]
     },
     "metadata": {},
     "output_type": "display_data"
    },
    {
     "name": "stdout",
     "output_type": "stream",
     "text": [
      "h^2 =>\n"
     ]
    },
    {
     "data": {
      "text/latex": [
       "$\\displaystyle - \\frac{Re \\left(p_{yy} + u v_{xy} + u_{y} v_{x} + v v_{yy} + v_{ty} + v_{y}^{2}\\right)}{24} + \\frac{v_{yyy}}{12}$"
      ],
      "text/plain": [
       "-Re*(p_{yy} + u*v_{xy} + u_{y}*v_{x} + v*v_{yy} + v_{ty} + v_{y}**2)/24 + v_{yyy}/12"
      ]
     },
     "metadata": {},
     "output_type": "display_data"
    },
    {
     "name": "stdout",
     "output_type": "stream",
     "text": [
      "u_{x} + v_{y}\n",
      "+\\tau\\big(\n",
      "0\n",
      "\\big)\n",
      "+h^2\\big(\n",
      "- \\frac{Re \\left(p_{yy} + u v_{xy} + u_{y} v_{x} + v v_{yy} + v_{ty} + v_{y}^{2}\\right)}{24} + \\frac{v_{yyy}}{12}\n",
      "\\big)\n"
     ]
    },
    {
     "data": {
      "text/latex": [
       "$\\displaystyle 0$"
      ],
      "text/plain": [
       "0"
      ]
     },
     "metadata": {},
     "output_type": "display_data"
    },
    {
     "name": "stdout",
     "output_type": "stream",
     "text": [
      "tau =>\n"
     ]
    },
    {
     "data": {
      "text/latex": [
       "$\\displaystyle 0$"
      ],
      "text/plain": [
       "0"
      ]
     },
     "metadata": {},
     "output_type": "display_data"
    },
    {
     "name": "stdout",
     "output_type": "stream",
     "text": [
      "h^2 =>\n"
     ]
    },
    {
     "data": {
      "text/latex": [
       "$\\displaystyle 0$"
      ],
      "text/plain": [
       "0"
      ]
     },
     "metadata": {},
     "output_type": "display_data"
    },
    {
     "name": "stdout",
     "output_type": "stream",
     "text": [
      "0\n",
      "+\\tau\\big(\n",
      "0\n",
      "\\big)\n",
      "+h^2\\big(\n",
      "0\n",
      "\\big)\n"
     ]
    },
    {
     "data": {
      "text/latex": [
       "$\\displaystyle 0$"
      ],
      "text/plain": [
       "0"
      ]
     },
     "metadata": {},
     "output_type": "display_data"
    },
    {
     "name": "stdout",
     "output_type": "stream",
     "text": [
      "tau =>\n"
     ]
    },
    {
     "data": {
      "text/latex": [
       "$\\displaystyle 0$"
      ],
      "text/plain": [
       "0"
      ]
     },
     "metadata": {},
     "output_type": "display_data"
    },
    {
     "name": "stdout",
     "output_type": "stream",
     "text": [
      "h^2 =>\n"
     ]
    },
    {
     "data": {
      "text/latex": [
       "$\\displaystyle - \\frac{\\lambda \\left(Re \\lambda + 8 \\pi^{2}\\right) e^{\\lambda x} \\cos{\\left(2 \\pi y \\right)}}{24}$"
      ],
      "text/plain": [
       "-lambda*(Re*lambda + 8*pi**2)*exp(lambda*x)*cos(2*pi*y)/24"
      ]
     },
     "metadata": {},
     "output_type": "display_data"
    },
    {
     "name": "stdout",
     "output_type": "stream",
     "text": [
      "0\n",
      "+\\tau\\big(\n",
      "0\n",
      "\\big)\n",
      "+h^2\\big(\n",
      "- \\frac{\\lambda \\left(Re \\lambda + 8 \\pi^{2}\\right) e^{\\lambda x} \\cos{\\left(2 \\pi y \\right)}}{24}\n",
      "\\big)\n",
      "-------------------------\n"
     ]
    },
    {
     "data": {
      "text/latex": [
       "$\\displaystyle p_{x} + 2 u u_{x} + u v_{y} + u_{t} + u_{y} v + \\frac{- u_{xx} - u_{yy}}{Re}$"
      ],
      "text/plain": [
       "p_{x} + 2*u*u_{x} + u*v_{y} + u_{t} + u_{y}*v + (-u_{xx} - u_{yy})/Re"
      ]
     },
     "metadata": {},
     "output_type": "display_data"
    },
    {
     "name": "stdout",
     "output_type": "stream",
     "text": [
      "tau =>\n"
     ]
    },
    {
     "data": {
      "text/latex": [
       "$\\displaystyle \\frac{2 p_{tx} + u_{tt}}{2}$"
      ],
      "text/plain": [
       "(2*p_{tx} + u_{tt})/2"
      ]
     },
     "metadata": {},
     "output_type": "display_data"
    },
    {
     "name": "stdout",
     "output_type": "stream",
     "text": [
      "h^2 =>\n"
     ]
    },
    {
     "data": {
      "text/latex": [
       "$\\displaystyle \\frac{4 p_{xxx} + 14 u u_{xxx} + 15 u v_{xxy} + u v_{yyy} + 3 u_{txx} + 3 u_{xxy} v + 30 u_{xx} u_{x} + 3 u_{xx} v_{y} + 6 u_{xy} v_{x} + 6 u_{x} v_{xy} + 4 u_{yyy} v + 6 u_{yy} v_{y} + 15 u_{y} v_{xx} + 3 u_{y} v_{yy}}{24} - \\frac{5 u_{xxxx} + 3 u_{xxyy} + 2 u_{yyyy}}{24 Re}$"
      ],
      "text/plain": [
       "(4*p_{xxx} + 14*u*u_{xxx} + 15*u*v_{xxy} + u*v_{yyy} + 3*u_{txx} + 3*u_{xxy}*v + 30*u_{xx}*u_{x} + 3*u_{xx}*v_{y} + 6*u_{xy}*v_{x} + 6*u_{x}*v_{xy} + 4*u_{yyy}*v + 6*u_{yy}*v_{y} + 15*u_{y}*v_{xx} + 3*u_{y}*v_{yy})/24 - (5*u_{xxxx} + 3*u_{xxyy} + 2*u_{yyyy})/(24*Re)"
      ]
     },
     "metadata": {},
     "output_type": "display_data"
    },
    {
     "name": "stdout",
     "output_type": "stream",
     "text": [
      "p_{x} + 2 u u_{x} + u v_{y} + u_{t} + u_{y} v + \\frac{- u_{xx} - u_{yy}}{Re}\n",
      "+\\tau\\big(\n",
      "\\frac{2 p_{tx} + u_{tt}}{2}\n",
      "\\big)\n",
      "+h^2\\big(\n",
      "\\frac{4 p_{xxx} + 14 u u_{xxx} + 15 u v_{xxy} + u v_{yyy} + 3 u_{txx} + 3 u_{xxy} v + 30 u_{xx} u_{x} + 3 u_{xx} v_{y} + 6 u_{xy} v_{x} + 6 u_{x} v_{xy} + 4 u_{yyy} v + 6 u_{yy} v_{y} + 15 u_{y} v_{xx} + 3 u_{y} v_{yy}}{24} - \\frac{5 u_{xxxx} + 3 u_{xxyy} + 2 u_{yyyy}}{24 Re}\n",
      "\\big)\n",
      "f2-f2-f2-f2-f2-f2-f2-f2-f2-f2-f2-f2-f2-f2-f2-f2-f2-f2-f2-f2-f2-f2-f2-f2-f2-\n"
     ]
    },
    {
     "data": {
      "text/latex": [
       "$\\displaystyle p_{x} + 2 u u_{x} + u v_{y} + u_{t} + u_{y} v + \\frac{- u_{xx} - u_{yy}}{Re}$"
      ],
      "text/plain": [
       "p_{x} + 2*u*u_{x} + u*v_{y} + u_{t} + u_{y}*v + (-u_{xx} - u_{yy})/Re"
      ]
     },
     "metadata": {},
     "output_type": "display_data"
    },
    {
     "name": "stdout",
     "output_type": "stream",
     "text": [
      "tau =>\n"
     ]
    },
    {
     "data": {
      "text/latex": [
       "$\\displaystyle \\frac{2 p_{tx} + u_{tt}}{2}$"
      ],
      "text/plain": [
       "(2*p_{tx} + u_{tt})/2"
      ]
     },
     "metadata": {},
     "output_type": "display_data"
    },
    {
     "name": "stdout",
     "output_type": "stream",
     "text": [
      "h^2 =>\n"
     ]
    },
    {
     "data": {
      "text/latex": [
       "$\\displaystyle - \\frac{Re^{2} v^{2} \\left(- p_{x} + u v_{y} - u_{t} - u_{y} v\\right)}{12} + \\frac{Re \\left(- p_{tx} + p_{xy} v + 2 p_{x} v_{y} + 3 p_{yy} u + 6 p_{y} u_{y} + 3 u^{2} v_{xy} + 9 u u_{y} v_{x} + 2 u v v_{yy} + 4 u v_{ty} + u v_{y}^{2} - u_{tt} + 3 u_{t} v_{y} + 8 u_{y} v v_{y} + 5 u_{y} v_{t} + v^{2} v_{xy}\\right)}{12} - \\frac{p_{xyy} + 3 u v_{yyy} + 7 u_{y} v_{yy} - 4 v v_{xyy} - 14 v_{xy} v_{y} - 2 v_{x} v_{yy}}{24} - \\frac{v_{xyyy}}{6 Re}$"
      ],
      "text/plain": [
       "-Re**2*v**2*(-p_{x} + u*v_{y} - u_{t} - u_{y}*v)/12 + Re*(-p_{tx} + p_{xy}*v + 2*p_{x}*v_{y} + 3*p_{yy}*u + 6*p_{y}*u_{y} + 3*u**2*v_{xy} + 9*u*u_{y}*v_{x} + 2*u*v*v_{yy} + 4*u*v_{ty} + u*v_{y}**2 - u_{tt} + 3*u_{t}*v_{y} + 8*u_{y}*v*v_{y} + 5*u_{y}*v_{t} + v**2*v_{xy})/12 - (p_{xyy} + 3*u*v_{yyy} + 7*u_{y}*v_{yy} - 4*v*v_{xyy} - 14*v_{xy}*v_{y} - 2*v_{x}*v_{yy})/24 - v_{xyyy}/(6*Re)"
      ]
     },
     "metadata": {},
     "output_type": "display_data"
    },
    {
     "name": "stdout",
     "output_type": "stream",
     "text": [
      "p_{x} + 2 u u_{x} + u v_{y} + u_{t} + u_{y} v + \\frac{- u_{xx} - u_{yy}}{Re}\n",
      "+\\tau\\big(\n",
      "\\frac{2 p_{tx} + u_{tt}}{2}\n",
      "\\big)\n",
      "+h^2\\big(\n",
      "- \\frac{Re^{2} v^{2} \\left(- p_{x} + u v_{y} - u_{t} - u_{y} v\\right)}{12} + \\frac{Re \\left(- p_{tx} + p_{xy} v + 2 p_{x} v_{y} + 3 p_{yy} u + 6 p_{y} u_{y} + 3 u^{2} v_{xy} + 9 u u_{y} v_{x} + 2 u v v_{yy} + 4 u v_{ty} + u v_{y}^{2} - u_{tt} + 3 u_{t} v_{y} + 8 u_{y} v v_{y} + 5 u_{y} v_{t} + v^{2} v_{xy}\\right)}{12} - \\frac{p_{xyy} + 3 u v_{yyy} + 7 u_{y} v_{yy} - 4 v v_{xyy} - 14 v_{xy} v_{y} - 2 v_{x} v_{yy}}{24} - \\frac{v_{xyyy}}{6 Re}\n",
      "\\big)\n"
     ]
    },
    {
     "data": {
      "text/latex": [
       "$\\displaystyle 0$"
      ],
      "text/plain": [
       "0"
      ]
     },
     "metadata": {},
     "output_type": "display_data"
    },
    {
     "name": "stdout",
     "output_type": "stream",
     "text": [
      "tau =>\n"
     ]
    },
    {
     "data": {
      "text/latex": [
       "$\\displaystyle - \\frac{2 \\left(2 Re \\sin{\\left(x \\right)} + e^{\\frac{2 t}{Re}} \\sin{\\left(y \\right)}\\right) e^{- \\frac{4 t}{Re}} \\cos{\\left(x \\right)}}{Re^{2}}$"
      ],
      "text/plain": [
       "-2*(2*Re*sin(x) + exp(2*t/Re)*sin(y))*exp(-4*t/Re)*cos(x)/Re**2"
      ]
     },
     "metadata": {},
     "output_type": "display_data"
    },
    {
     "name": "stdout",
     "output_type": "stream",
     "text": [
      "h^2 =>\n"
     ]
    },
    {
     "data": {
      "text/latex": [
       "$\\displaystyle \\frac{\\left(- 3 Re \\left(6 \\sin^{2}{\\left(y \\right)} - 5\\right) \\sin{\\left(x \\right)} + 4 e^{\\frac{2 t}{Re}} \\sin{\\left(y \\right)}\\right) e^{- \\frac{4 t}{Re}} \\cos{\\left(x \\right)}}{24 Re}$"
      ],
      "text/plain": [
       "(-3*Re*(6*sin(y)**2 - 5)*sin(x) + 4*exp(2*t/Re)*sin(y))*exp(-4*t/Re)*cos(x)/(24*Re)"
      ]
     },
     "metadata": {},
     "output_type": "display_data"
    },
    {
     "name": "stdout",
     "output_type": "stream",
     "text": [
      "0\n",
      "+\\tau\\big(\n",
      "- \\frac{2 \\left(2 Re \\sin{\\left(x \\right)} + e^{\\frac{2 t}{Re}} \\sin{\\left(y \\right)}\\right) e^{- \\frac{4 t}{Re}} \\cos{\\left(x \\right)}}{Re^{2}}\n",
      "\\big)\n",
      "+h^2\\big(\n",
      "\\frac{\\left(- 3 Re \\left(6 \\sin^{2}{\\left(y \\right)} - 5\\right) \\sin{\\left(x \\right)} + 4 e^{\\frac{2 t}{Re}} \\sin{\\left(y \\right)}\\right) e^{- \\frac{4 t}{Re}} \\cos{\\left(x \\right)}}{24 Re}\n",
      "\\big)\n"
     ]
    },
    {
     "data": {
      "text/latex": [
       "$\\displaystyle \\frac{\\left(- Re \\lambda + \\left(\\lambda - 2 \\pi\\right) \\left(\\lambda + 2 \\pi\\right)\\right) e^{\\lambda x} \\cos{\\left(2 \\pi y \\right)}}{Re}$"
      ],
      "text/plain": [
       "(-Re*lambda + (lambda - 2*pi)*(lambda + 2*pi))*exp(lambda*x)*cos(2*pi*y)/Re"
      ]
     },
     "metadata": {},
     "output_type": "display_data"
    },
    {
     "name": "stdout",
     "output_type": "stream",
     "text": [
      "tau =>\n"
     ]
    },
    {
     "data": {
      "text/latex": [
       "$\\displaystyle 0$"
      ],
      "text/plain": [
       "0"
      ]
     },
     "metadata": {},
     "output_type": "display_data"
    },
    {
     "name": "stdout",
     "output_type": "stream",
     "text": [
      "h^2 =>\n"
     ]
    },
    {
     "data": {
      "text/latex": [
       "$\\displaystyle \\frac{\\lambda \\left(- Re^{2} \\lambda^{2} \\left(Re - \\lambda\\right) e^{2 \\lambda x} \\sin^{2}{\\left(2 \\pi y \\right)} \\cos{\\left(2 \\pi y \\right)} - 4 \\pi^{2} Re \\left(8 Re \\lambda e^{2 \\lambda x} \\sin^{6}{\\left(\\pi y \\right)} - 12 Re \\lambda e^{2 \\lambda x} \\sin^{4}{\\left(\\pi y \\right)} + 4 Re \\lambda e^{2 \\lambda x} \\sin^{2}{\\left(\\pi y \\right)} + 48 Re \\lambda e^{\\lambda x} \\sin^{4}{\\left(\\pi y \\right)} - 48 Re \\lambda e^{\\lambda x} \\sin^{2}{\\left(\\pi y \\right)} + 5 Re \\lambda e^{\\lambda x} + 6 Re \\lambda \\sin^{2}{\\left(\\pi y \\right)} - 3 Re \\lambda - 40 \\lambda^{2} e^{\\lambda x} \\sin^{4}{\\left(\\pi y \\right)} + 40 \\lambda^{2} e^{\\lambda x} \\sin^{2}{\\left(\\pi y \\right)} - 7 \\lambda^{2} e^{\\lambda x} + 80 \\pi^{2} e^{\\lambda x} \\sin^{4}{\\left(\\pi y \\right)} - 80 \\pi^{2} e^{\\lambda x} \\sin^{2}{\\left(\\pi y \\right)} + 6 \\pi^{2} e^{\\lambda x} + 12 \\pi^{2} \\sin^{2}{\\left(\\pi y \\right)} - 6 \\pi^{2}\\right) + 32 \\pi^{4} \\lambda \\cos{\\left(2 \\pi y \\right)}\\right) e^{\\lambda x}}{48 \\pi^{2} Re}$"
      ],
      "text/plain": [
       "lambda*(-Re**2*lambda**2*(Re - lambda)*exp(2*lambda*x)*sin(2*pi*y)**2*cos(2*pi*y) - 4*pi**2*Re*(8*Re*lambda*exp(2*lambda*x)*sin(pi*y)**6 - 12*Re*lambda*exp(2*lambda*x)*sin(pi*y)**4 + 4*Re*lambda*exp(2*lambda*x)*sin(pi*y)**2 + 48*Re*lambda*exp(lambda*x)*sin(pi*y)**4 - 48*Re*lambda*exp(lambda*x)*sin(pi*y)**2 + 5*Re*lambda*exp(lambda*x) + 6*Re*lambda*sin(pi*y)**2 - 3*Re*lambda - 40*lambda**2*exp(lambda*x)*sin(pi*y)**4 + 40*lambda**2*exp(lambda*x)*sin(pi*y)**2 - 7*lambda**2*exp(lambda*x) + 80*pi**2*exp(lambda*x)*sin(pi*y)**4 - 80*pi**2*exp(lambda*x)*sin(pi*y)**2 + 6*pi**2*exp(lambda*x) + 12*pi**2*sin(pi*y)**2 - 6*pi**2) + 32*pi**4*lambda*cos(2*pi*y))*exp(lambda*x)/(48*pi**2*Re)"
      ]
     },
     "metadata": {},
     "output_type": "display_data"
    },
    {
     "name": "stdout",
     "output_type": "stream",
     "text": [
      "\\frac{\\left(- Re \\lambda + \\left(\\lambda - 2 \\pi\\right) \\left(\\lambda + 2 \\pi\\right)\\right) e^{\\lambda x} \\cos{\\left(2 \\pi y \\right)}}{Re}\n",
      "+\\tau\\big(\n",
      "0\n",
      "\\big)\n",
      "+h^2\\big(\n",
      "\\frac{\\lambda \\left(- Re^{2} \\lambda^{2} \\left(Re - \\lambda\\right) e^{2 \\lambda x} \\sin^{2}{\\left(2 \\pi y \\right)} \\cos{\\left(2 \\pi y \\right)} - 4 \\pi^{2} Re \\left(8 Re \\lambda e^{2 \\lambda x} \\sin^{6}{\\left(\\pi y \\right)} - 12 Re \\lambda e^{2 \\lambda x} \\sin^{4}{\\left(\\pi y \\right)} + 4 Re \\lambda e^{2 \\lambda x} \\sin^{2}{\\left(\\pi y \\right)} + 48 Re \\lambda e^{\\lambda x} \\sin^{4}{\\left(\\pi y \\right)} - 48 Re \\lambda e^{\\lambda x} \\sin^{2}{\\left(\\pi y \\right)} + 5 Re \\lambda e^{\\lambda x} + 6 Re \\lambda \\sin^{2}{\\left(\\pi y \\right)} - 3 Re \\lambda - 40 \\lambda^{2} e^{\\lambda x} \\sin^{4}{\\left(\\pi y \\right)} + 40 \\lambda^{2} e^{\\lambda x} \\sin^{2}{\\left(\\pi y \\right)} - 7 \\lambda^{2} e^{\\lambda x} + 80 \\pi^{2} e^{\\lambda x} \\sin^{4}{\\left(\\pi y \\right)} - 80 \\pi^{2} e^{\\lambda x} \\sin^{2}{\\left(\\pi y \\right)} + 6 \\pi^{2} e^{\\lambda x} + 12 \\pi^{2} \\sin^{2}{\\left(\\pi y \\right)} - 6 \\pi^{2}\\right) + 32 \\pi^{4} \\lambda \\cos{\\left(2 \\pi y \\right)}\\right) e^{\\lambda x}}{48 \\pi^{2} Re}\n",
      "\\big)\n",
      "-------------------------\n"
     ]
    },
    {
     "data": {
      "text/latex": [
       "$\\displaystyle p_{y} + u v_{x} + u_{x} v + 2 v v_{y} + v_{t} + \\frac{- v_{xx} - v_{yy}}{Re}$"
      ],
      "text/plain": [
       "p_{y} + u*v_{x} + u_{x}*v + 2*v*v_{y} + v_{t} + (-v_{xx} - v_{yy})/Re"
      ]
     },
     "metadata": {},
     "output_type": "display_data"
    },
    {
     "name": "stdout",
     "output_type": "stream",
     "text": [
      "tau =>\n"
     ]
    },
    {
     "data": {
      "text/latex": [
       "$\\displaystyle \\frac{2 p_{ty} + v_{tt}}{2}$"
      ],
      "text/plain": [
       "(2*p_{ty} + v_{tt})/2"
      ]
     },
     "metadata": {},
     "output_type": "display_data"
    },
    {
     "name": "stdout",
     "output_type": "stream",
     "text": [
      "h^2 =>\n"
     ]
    },
    {
     "data": {
      "text/latex": [
       "$\\displaystyle \\frac{4 p_{yyy} + 4 u v_{xxx} + 3 u v_{xyy} + u_{xxx} v + 3 u_{xx} v_{x} + 15 u_{xyy} v + 6 u_{xy} v_{y} + 6 u_{x} v_{xx} + 3 u_{x} v_{yy} + 15 u_{yy} v_{x} + 6 u_{y} v_{xy} + 14 v v_{yyy} + 3 v_{tyy} + 30 v_{yy} v_{y}}{24} - \\frac{2 v_{xxxx} + 3 v_{xxyy} + 5 v_{yyyy}}{24 Re}$"
      ],
      "text/plain": [
       "(4*p_{yyy} + 4*u*v_{xxx} + 3*u*v_{xyy} + u_{xxx}*v + 3*u_{xx}*v_{x} + 15*u_{xyy}*v + 6*u_{xy}*v_{y} + 6*u_{x}*v_{xx} + 3*u_{x}*v_{yy} + 15*u_{yy}*v_{x} + 6*u_{y}*v_{xy} + 14*v*v_{yyy} + 3*v_{tyy} + 30*v_{yy}*v_{y})/24 - (2*v_{xxxx} + 3*v_{xxyy} + 5*v_{yyyy})/(24*Re)"
      ]
     },
     "metadata": {},
     "output_type": "display_data"
    },
    {
     "name": "stdout",
     "output_type": "stream",
     "text": [
      "p_{y} + u v_{x} + u_{x} v + 2 v v_{y} + v_{t} + \\frac{- v_{xx} - v_{yy}}{Re}\n",
      "+\\tau\\big(\n",
      "\\frac{2 p_{ty} + v_{tt}}{2}\n",
      "\\big)\n",
      "+h^2\\big(\n",
      "\\frac{4 p_{yyy} + 4 u v_{xxx} + 3 u v_{xyy} + u_{xxx} v + 3 u_{xx} v_{x} + 15 u_{xyy} v + 6 u_{xy} v_{y} + 6 u_{x} v_{xx} + 3 u_{x} v_{yy} + 15 u_{yy} v_{x} + 6 u_{y} v_{xy} + 14 v v_{yyy} + 3 v_{tyy} + 30 v_{yy} v_{y}}{24} - \\frac{2 v_{xxxx} + 3 v_{xxyy} + 5 v_{yyyy}}{24 Re}\n",
      "\\big)\n",
      "f3-f3-f3-f3-f3-f3-f3-f3-f3-f3-f3-f3-f3-f3-f3-f3-f3-f3-f3-f3-f3-f3-f3-f3-f3-\n"
     ]
    },
    {
     "data": {
      "text/latex": [
       "$\\displaystyle p_{y} + u v_{x} + u_{x} v + 2 v v_{y} + v_{t} + \\frac{- v_{xx} - v_{yy}}{Re}$"
      ],
      "text/plain": [
       "p_{y} + u*v_{x} + u_{x}*v + 2*v*v_{y} + v_{t} + (-v_{xx} - v_{yy})/Re"
      ]
     },
     "metadata": {},
     "output_type": "display_data"
    },
    {
     "name": "stdout",
     "output_type": "stream",
     "text": [
      "tau =>\n"
     ]
    },
    {
     "data": {
      "text/latex": [
       "$\\displaystyle \\frac{2 p_{ty} + v_{tt}}{2}$"
      ],
      "text/plain": [
       "(2*p_{ty} + v_{tt})/2"
      ]
     },
     "metadata": {},
     "output_type": "display_data"
    },
    {
     "name": "stdout",
     "output_type": "stream",
     "text": [
      "h^2 =>\n"
     ]
    },
    {
     "data": {
      "text/latex": [
       "$\\displaystyle \\frac{Re^{2} u^{2} \\left(p_{y} + u v_{x} + v v_{y} + v_{t}\\right)}{12} - \\frac{Re \\left(2 p_{ty} - 2 p_{xy} u - 18 p_{x} v_{x} + 3 p_{yy} v + 4 p_{y} v_{y} + 2 u^{2} v_{yy} + u v v_{xy} + 22 u v_{x} v_{y} - 16 u_{t} v_{x} - 15 u_{y} v v_{x} + 3 v^{2} v_{yy} + 5 v v_{ty} + 7 v v_{y}^{2} + 2 v_{tt} + 6 v_{t} v_{y}\\right)}{24} + \\frac{5 p_{yyy} + 8 u_{y} v_{xy} + v v_{yyy} + 4 v_{tyy} + 13 v_{xy} v_{x} + 30 v_{yy} v_{y}}{24} - \\frac{v_{yyyy}}{6 Re}$"
      ],
      "text/plain": [
       "Re**2*u**2*(p_{y} + u*v_{x} + v*v_{y} + v_{t})/12 - Re*(2*p_{ty} - 2*p_{xy}*u - 18*p_{x}*v_{x} + 3*p_{yy}*v + 4*p_{y}*v_{y} + 2*u**2*v_{yy} + u*v*v_{xy} + 22*u*v_{x}*v_{y} - 16*u_{t}*v_{x} - 15*u_{y}*v*v_{x} + 3*v**2*v_{yy} + 5*v*v_{ty} + 7*v*v_{y}**2 + 2*v_{tt} + 6*v_{t}*v_{y})/24 + (5*p_{yyy} + 8*u_{y}*v_{xy} + v*v_{yyy} + 4*v_{tyy} + 13*v_{xy}*v_{x} + 30*v_{yy}*v_{y})/24 - v_{yyyy}/(6*Re)"
      ]
     },
     "metadata": {},
     "output_type": "display_data"
    },
    {
     "name": "stdout",
     "output_type": "stream",
     "text": [
      "p_{y} + u v_{x} + u_{x} v + 2 v v_{y} + v_{t} + \\frac{- v_{xx} - v_{yy}}{Re}\n",
      "+\\tau\\big(\n",
      "\\frac{2 p_{ty} + v_{tt}}{2}\n",
      "\\big)\n",
      "+h^2\\big(\n",
      "\\frac{Re^{2} u^{2} \\left(p_{y} + u v_{x} + v v_{y} + v_{t}\\right)}{12} - \\frac{Re \\left(2 p_{ty} - 2 p_{xy} u - 18 p_{x} v_{x} + 3 p_{yy} v + 4 p_{y} v_{y} + 2 u^{2} v_{yy} + u v v_{xy} + 22 u v_{x} v_{y} - 16 u_{t} v_{x} - 15 u_{y} v v_{x} + 3 v^{2} v_{yy} + 5 v v_{ty} + 7 v v_{y}^{2} + 2 v_{tt} + 6 v_{t} v_{y}\\right)}{24} + \\frac{5 p_{yyy} + 8 u_{y} v_{xy} + v v_{yyy} + 4 v_{tyy} + 13 v_{xy} v_{x} + 30 v_{yy} v_{y}}{24} - \\frac{v_{yyyy}}{6 Re}\n",
      "\\big)\n"
     ]
    },
    {
     "data": {
      "text/latex": [
       "$\\displaystyle 0$"
      ],
      "text/plain": [
       "0"
      ]
     },
     "metadata": {},
     "output_type": "display_data"
    },
    {
     "name": "stdout",
     "output_type": "stream",
     "text": [
      "tau =>\n"
     ]
    },
    {
     "data": {
      "text/latex": [
       "$\\displaystyle \\frac{2 \\left(- 2 Re \\sin{\\left(y \\right)} + e^{\\frac{2 t}{Re}} \\sin{\\left(x \\right)}\\right) e^{- \\frac{4 t}{Re}} \\cos{\\left(y \\right)}}{Re^{2}}$"
      ],
      "text/plain": [
       "2*(-2*Re*sin(y) + exp(2*t/Re)*sin(x))*exp(-4*t/Re)*cos(y)/Re**2"
      ]
     },
     "metadata": {},
     "output_type": "display_data"
    },
    {
     "name": "stdout",
     "output_type": "stream",
     "text": [
      "h^2 =>\n"
     ]
    },
    {
     "data": {
      "text/latex": [
       "$\\displaystyle \\frac{\\left(3 Re \\left(6 \\cos^{2}{\\left(x \\right)} - 1\\right) \\sin{\\left(y \\right)} - 4 e^{\\frac{2 t}{Re}} \\sin{\\left(x \\right)}\\right) e^{- \\frac{4 t}{Re}} \\cos{\\left(y \\right)}}{24 Re}$"
      ],
      "text/plain": [
       "(3*Re*(6*cos(x)**2 - 1)*sin(y) - 4*exp(2*t/Re)*sin(x))*exp(-4*t/Re)*cos(y)/(24*Re)"
      ]
     },
     "metadata": {},
     "output_type": "display_data"
    },
    {
     "name": "stdout",
     "output_type": "stream",
     "text": [
      "0\n",
      "+\\tau\\big(\n",
      "\\frac{2 \\left(- 2 Re \\sin{\\left(y \\right)} + e^{\\frac{2 t}{Re}} \\sin{\\left(x \\right)}\\right) e^{- \\frac{4 t}{Re}} \\cos{\\left(y \\right)}}{Re^{2}}\n",
      "\\big)\n",
      "+h^2\\big(\n",
      "\\frac{\\left(3 Re \\left(6 \\cos^{2}{\\left(x \\right)} - 1\\right) \\sin{\\left(y \\right)} - 4 e^{\\frac{2 t}{Re}} \\sin{\\left(x \\right)}\\right) e^{- \\frac{4 t}{Re}} \\cos{\\left(y \\right)}}{24 Re}\n",
      "\\big)\n"
     ]
    },
    {
     "data": {
      "text/latex": [
       "$\\displaystyle \\frac{\\lambda \\left(Re \\lambda - \\left(\\lambda - 2 \\pi\\right) \\left(\\lambda + 2 \\pi\\right)\\right) e^{\\lambda x} \\sin{\\left(2 \\pi y \\right)}}{2 \\pi Re}$"
      ],
      "text/plain": [
       "lambda*(Re*lambda - (lambda - 2*pi)*(lambda + 2*pi))*exp(lambda*x)*sin(2*pi*y)/(2*pi*Re)"
      ]
     },
     "metadata": {},
     "output_type": "display_data"
    },
    {
     "name": "stdout",
     "output_type": "stream",
     "text": [
      "tau =>\n"
     ]
    },
    {
     "data": {
      "text/latex": [
       "$\\displaystyle 0$"
      ],
      "text/plain": [
       "0"
      ]
     },
     "metadata": {},
     "output_type": "display_data"
    },
    {
     "name": "stdout",
     "output_type": "stream",
     "text": [
      "h^2 =>\n"
     ]
    },
    {
     "data": {
      "text/latex": [
       "$\\displaystyle \\frac{\\lambda \\left(Re \\left(2 Re^{2} \\lambda e^{2 \\lambda x} \\cos^{2}{\\left(2 \\pi y \\right)} - 4 Re^{2} \\lambda e^{\\lambda x} \\cos{\\left(2 \\pi y \\right)} + 2 Re^{2} \\lambda + 18 Re \\lambda^{2} e^{2 \\lambda x} \\sin^{2}{\\left(2 \\pi y \\right)} + 16 Re \\lambda^{2} e^{2 \\lambda x} \\cos^{2}{\\left(2 \\pi y \\right)} - 18 Re \\lambda^{2} e^{2 \\lambda x} - 23 Re \\lambda^{2} e^{\\lambda x} \\cos{\\left(2 \\pi y \\right)} + 8 \\pi^{2} Re e^{2 \\lambda x} \\cos^{2}{\\left(2 \\pi y \\right)} - 16 \\pi^{2} Re e^{\\lambda x} \\cos{\\left(2 \\pi y \\right)} + 8 \\pi^{2} Re + 13 \\lambda^{3} e^{\\lambda x} \\cos{\\left(2 \\pi y \\right)} - 92 \\pi^{2} \\lambda e^{\\lambda x} \\cos{\\left(2 \\pi y \\right)}\\right) - 64 \\pi^{4}\\right) e^{\\lambda x} \\sin{\\left(2 \\pi y \\right)}}{48 \\pi Re}$"
      ],
      "text/plain": [
       "lambda*(Re*(2*Re**2*lambda*exp(2*lambda*x)*cos(2*pi*y)**2 - 4*Re**2*lambda*exp(lambda*x)*cos(2*pi*y) + 2*Re**2*lambda + 18*Re*lambda**2*exp(2*lambda*x)*sin(2*pi*y)**2 + 16*Re*lambda**2*exp(2*lambda*x)*cos(2*pi*y)**2 - 18*Re*lambda**2*exp(2*lambda*x) - 23*Re*lambda**2*exp(lambda*x)*cos(2*pi*y) + 8*pi**2*Re*exp(2*lambda*x)*cos(2*pi*y)**2 - 16*pi**2*Re*exp(lambda*x)*cos(2*pi*y) + 8*pi**2*Re + 13*lambda**3*exp(lambda*x)*cos(2*pi*y) - 92*pi**2*lambda*exp(lambda*x)*cos(2*pi*y)) - 64*pi**4)*exp(lambda*x)*sin(2*pi*y)/(48*pi*Re)"
      ]
     },
     "metadata": {},
     "output_type": "display_data"
    },
    {
     "name": "stdout",
     "output_type": "stream",
     "text": [
      "\\frac{\\lambda \\left(Re \\lambda - \\left(\\lambda - 2 \\pi\\right) \\left(\\lambda + 2 \\pi\\right)\\right) e^{\\lambda x} \\sin{\\left(2 \\pi y \\right)}}{2 \\pi Re}\n",
      "+\\tau\\big(\n",
      "0\n",
      "\\big)\n",
      "+h^2\\big(\n",
      "\\frac{\\lambda \\left(Re \\left(2 Re^{2} \\lambda e^{2 \\lambda x} \\cos^{2}{\\left(2 \\pi y \\right)} - 4 Re^{2} \\lambda e^{\\lambda x} \\cos{\\left(2 \\pi y \\right)} + 2 Re^{2} \\lambda + 18 Re \\lambda^{2} e^{2 \\lambda x} \\sin^{2}{\\left(2 \\pi y \\right)} + 16 Re \\lambda^{2} e^{2 \\lambda x} \\cos^{2}{\\left(2 \\pi y \\right)} - 18 Re \\lambda^{2} e^{2 \\lambda x} - 23 Re \\lambda^{2} e^{\\lambda x} \\cos{\\left(2 \\pi y \\right)} + 8 \\pi^{2} Re e^{2 \\lambda x} \\cos^{2}{\\left(2 \\pi y \\right)} - 16 \\pi^{2} Re e^{\\lambda x} \\cos{\\left(2 \\pi y \\right)} + 8 \\pi^{2} Re + 13 \\lambda^{3} e^{\\lambda x} \\cos{\\left(2 \\pi y \\right)} - 92 \\pi^{2} \\lambda e^{\\lambda x} \\cos{\\left(2 \\pi y \\right)}\\right) - 64 \\pi^{4}\\right) e^{\\lambda x} \\sin{\\left(2 \\pi y \\right)}}{48 \\pi Re}\n",
      "\\big)\n",
      "-------------------------\n"
     ]
    },
    {
     "data": {
      "text/latex": [
       "$\\displaystyle p_{xx} + p_{yy} + 2 u u_{xx} + 2 u v_{xy} + 2 u_{xy} v + 2 u_{x}^{2} + 2 u_{x} v_{y} + 2 u_{y} v_{x} + 2 v v_{yy} + 2 v_{y}^{2} + \\frac{- u_{xxx} - u_{xyy} - v_{xxy} - v_{yyy}}{Re}$"
      ],
      "text/plain": [
       "p_{xx} + p_{yy} + 2*u*u_{xx} + 2*u*v_{xy} + 2*u_{xy}*v + 2*u_{x}**2 + 2*u_{x}*v_{y} + 2*u_{y}*v_{x} + 2*v*v_{yy} + 2*v_{y}**2 + (-u_{xxx} - u_{xyy} - v_{xxy} - v_{yyy})/Re"
      ]
     },
     "metadata": {},
     "output_type": "display_data"
    },
    {
     "name": "stdout",
     "output_type": "stream",
     "text": [
      "tau =>\n"
     ]
    },
    {
     "data": {
      "text/latex": [
       "$\\displaystyle p_{txx} + p_{tyy}$"
      ],
      "text/plain": [
       "p_{txx} + p_{tyy}"
      ]
     },
     "metadata": {},
     "output_type": "display_data"
    },
    {
     "name": "stdout",
     "output_type": "stream",
     "text": [
      "h^2 =>\n"
     ]
    },
    {
     "data": {
      "text/latex": [
       "$\\displaystyle \\frac{2 p_{xxxx} + 2 p_{yyyy} + 10 u u_{xxxx} + 17 u v_{xxxy} + 2 u v_{xyyy} + 2 u_{xxxy} v + 28 u_{xxx} u_{x} + 2 u_{xxx} v_{y} + 6 u_{xxy} v_{x} + 18 u_{xx}^{2} + 6 u_{xx} v_{xy} + 17 u_{xyyy} v + 21 u_{xyy} v_{y} + 21 u_{xy} v_{xx} + 6 u_{xy} v_{yy} + 21 u_{x} v_{xxy} + 2 u_{x} v_{yyy} + 17 u_{yyy} v_{x} + 21 u_{yy} v_{xy} + 17 u_{y} v_{xxx} + 6 u_{y} v_{xyy} + 10 v v_{yyyy} + 28 v_{yyy} v_{y} + 18 v_{yy}^{2}}{24}$"
      ],
      "text/plain": [
       "(2*p_{xxxx} + 2*p_{yyyy} + 10*u*u_{xxxx} + 17*u*v_{xxxy} + 2*u*v_{xyyy} + 2*u_{xxxy}*v + 28*u_{xxx}*u_{x} + 2*u_{xxx}*v_{y} + 6*u_{xxy}*v_{x} + 18*u_{xx}**2 + 6*u_{xx}*v_{xy} + 17*u_{xyyy}*v + 21*u_{xyy}*v_{y} + 21*u_{xy}*v_{xx} + 6*u_{xy}*v_{yy} + 21*u_{x}*v_{xxy} + 2*u_{x}*v_{yyy} + 17*u_{yyy}*v_{x} + 21*u_{yy}*v_{xy} + 17*u_{y}*v_{xxx} + 6*u_{y}*v_{xyy} + 10*v*v_{yyyy} + 28*v_{yyy}*v_{y} + 18*v_{yy}**2)/24"
      ]
     },
     "metadata": {},
     "output_type": "display_data"
    },
    {
     "name": "stdout",
     "output_type": "stream",
     "text": [
      "p_{xx} + p_{yy} + 2 u u_{xx} + 2 u v_{xy} + 2 u_{xy} v + 2 u_{x}^{2} + 2 u_{x} v_{y} + 2 u_{y} v_{x} + 2 v v_{yy} + 2 v_{y}^{2} + \\frac{- u_{xxx} - u_{xyy} - v_{xxy} - v_{yyy}}{Re}\n",
      "+\\tau\\big(\n",
      "p_{txx} + p_{tyy}\n",
      "\\big)\n",
      "+h^2\\big(\n",
      "\\frac{2 p_{xxxx} + 2 p_{yyyy} + 10 u u_{xxxx} + 17 u v_{xxxy} + 2 u v_{xyyy} + 2 u_{xxxy} v + 28 u_{xxx} u_{x} + 2 u_{xxx} v_{y} + 6 u_{xxy} v_{x} + 18 u_{xx}^{2} + 6 u_{xx} v_{xy} + 17 u_{xyyy} v + 21 u_{xyy} v_{y} + 21 u_{xy} v_{xx} + 6 u_{xy} v_{yy} + 21 u_{x} v_{xxy} + 2 u_{x} v_{yyy} + 17 u_{yyy} v_{x} + 21 u_{yy} v_{xy} + 17 u_{y} v_{xxx} + 6 u_{y} v_{xyy} + 10 v v_{yyyy} + 28 v_{yyy} v_{y} + 18 v_{yy}^{2}}{24}\n",
      "\\big)\n",
      "f4-f4-f4-f4-f4-f4-f4-f4-f4-f4-f4-f4-f4-f4-f4-f4-f4-f4-f4-f4-f4-f4-f4-f4-f4-\n"
     ]
    },
    {
     "data": {
      "text/latex": [
       "$\\displaystyle p_{xx} + p_{yy} + 2 u u_{xx} + 2 u v_{xy} + 2 u_{xy} v + 2 u_{x}^{2} + 2 u_{x} v_{y} + 2 u_{y} v_{x} + 2 v v_{yy} + 2 v_{y}^{2} + \\frac{- u_{xxx} - u_{xyy} - v_{xxy} - v_{yyy}}{Re}$"
      ],
      "text/plain": [
       "p_{xx} + p_{yy} + 2*u*u_{xx} + 2*u*v_{xy} + 2*u_{xy}*v + 2*u_{x}**2 + 2*u_{x}*v_{y} + 2*u_{y}*v_{x} + 2*v*v_{yy} + 2*v_{y}**2 + (-u_{xxx} - u_{xyy} - v_{xxy} - v_{yyy})/Re"
      ]
     },
     "metadata": {},
     "output_type": "display_data"
    },
    {
     "name": "stdout",
     "output_type": "stream",
     "text": [
      "tau =>\n"
     ]
    },
    {
     "data": {
      "text/latex": [
       "$\\displaystyle - 2 \\left(u_{ty} v_{x} + u_{y} v_{tx} + 2 v_{ty} v_{y}\\right)$"
      ],
      "text/plain": [
       "-2*(u_{ty}*v_{x} + u_{y}*v_{tx} + 2*v_{ty}*v_{y})"
      ]
     },
     "metadata": {},
     "output_type": "display_data"
    },
    {
     "name": "stdout",
     "output_type": "stream",
     "text": [
      "h^2 =>\n"
     ]
    },
    {
     "data": {
      "text/latex": [
       "$\\displaystyle \\frac{Re^{2} \\left(19 p_{x} v v_{x} + 7 p_{yy} u^{2} + 20 p_{y} u u_{y} + 7 u^{3} v_{xy} + 27 u^{2} u_{y} v_{x} + 7 u^{2} v v_{yy} + 7 u^{2} v_{ty} + 7 u^{2} v_{y}^{2} + 20 u u_{y} v v_{y} + 20 u u_{y} v_{t} - 19 u v v_{x} v_{y} + 19 u_{t} v v_{x} + 19 u_{y} v^{2} v_{x}\\right)}{24} - \\frac{Re \\left(- 7 p_{xyy} u - 13 p_{xy} u_{y} - 21 p_{xy} v_{x} - 29 p_{x} v_{xy} + 2 p_{yyy} v + 3 p_{yy} v_{y} + 13 p_{y} v_{yy} + 7 u^{2} v_{yyy} + 20 u u_{y} v_{yy} - 5 u v v_{xyy} - 7 u v_{txy} + 25 u v_{xy} v_{y} + 34 u v_{x} v_{yy} - 21 u_{ty} v_{x} - 29 u_{t} v_{xy} - 38 u_{y} v v_{xy} - 13 u_{y} v_{tx} + 3 u_{y} v_{x} v_{y} + 2 v^{2} v_{yyy} + 2 v v_{tyy} - 19 v v_{xy} v_{x} + 22 v v_{yy} v_{y} + 3 v_{ty} v_{y} + 13 v_{t} v_{yy} + 3 v_{y}^{3}\\right)}{24} - \\frac{- 4 p_{yyyy} + 5 u v_{xyyy} - 48 u_{tty} v_{x} - 96 u_{ty} v_{tx} - 48 u_{y} v_{ttx} + 3 u_{y} v_{xyy} + 5 v v_{yyyy} - 96 v_{tty} v_{y} - 96 v_{ty}^{2} - 19 v_{xyy} v_{x} - 33 v_{xy}^{2} - 16 v_{yyy} v_{y} - 33 v_{yy}^{2}}{24}$"
      ],
      "text/plain": [
       "Re**2*(19*p_{x}*v*v_{x} + 7*p_{yy}*u**2 + 20*p_{y}*u*u_{y} + 7*u**3*v_{xy} + 27*u**2*u_{y}*v_{x} + 7*u**2*v*v_{yy} + 7*u**2*v_{ty} + 7*u**2*v_{y}**2 + 20*u*u_{y}*v*v_{y} + 20*u*u_{y}*v_{t} - 19*u*v*v_{x}*v_{y} + 19*u_{t}*v*v_{x} + 19*u_{y}*v**2*v_{x})/24 - Re*(-7*p_{xyy}*u - 13*p_{xy}*u_{y} - 21*p_{xy}*v_{x} - 29*p_{x}*v_{xy} + 2*p_{yyy}*v + 3*p_{yy}*v_{y} + 13*p_{y}*v_{yy} + 7*u**2*v_{yyy} + 20*u*u_{y}*v_{yy} - 5*u*v*v_{xyy} - 7*u*v_{txy} + 25*u*v_{xy}*v_{y} + 34*u*v_{x}*v_{yy} - 21*u_{ty}*v_{x} - 29*u_{t}*v_{xy} - 38*u_{y}*v*v_{xy} - 13*u_{y}*v_{tx} + 3*u_{y}*v_{x}*v_{y} + 2*v**2*v_{yyy} + 2*v*v_{tyy} - 19*v*v_{xy}*v_{x} + 22*v*v_{yy}*v_{y} + 3*v_{ty}*v_{y} + 13*v_{t}*v_{yy} + 3*v_{y}**3)/24 - (-4*p_{yyyy} + 5*u*v_{xyyy} - 48*u_{tty}*v_{x} - 96*u_{ty}*v_{tx} - 48*u_{y}*v_{ttx} + 3*u_{y}*v_{xyy} + 5*v*v_{yyyy} - 96*v_{tty}*v_{y} - 96*v_{ty}**2 - 19*v_{xyy}*v_{x} - 33*v_{xy}**2 - 16*v_{yyy}*v_{y} - 33*v_{yy}**2)/24"
      ]
     },
     "metadata": {},
     "output_type": "display_data"
    },
    {
     "name": "stdout",
     "output_type": "stream",
     "text": [
      "p_{xx} + p_{yy} + 2 u u_{xx} + 2 u v_{xy} + 2 u_{xy} v + 2 u_{x}^{2} + 2 u_{x} v_{y} + 2 u_{y} v_{x} + 2 v v_{yy} + 2 v_{y}^{2} + \\frac{- u_{xxx} - u_{xyy} - v_{xxy} - v_{yyy}}{Re}\n",
      "+\\tau\\big(\n",
      "- 2 \\left(u_{ty} v_{x} + u_{y} v_{tx} + 2 v_{ty} v_{y}\\right)\n",
      "\\big)\n",
      "+h^2\\big(\n",
      "\\frac{Re^{2} \\left(19 p_{x} v v_{x} + 7 p_{yy} u^{2} + 20 p_{y} u u_{y} + 7 u^{3} v_{xy} + 27 u^{2} u_{y} v_{x} + 7 u^{2} v v_{yy} + 7 u^{2} v_{ty} + 7 u^{2} v_{y}^{2} + 20 u u_{y} v v_{y} + 20 u u_{y} v_{t} - 19 u v v_{x} v_{y} + 19 u_{t} v v_{x} + 19 u_{y} v^{2} v_{x}\\right)}{24} - \\frac{Re \\left(- 7 p_{xyy} u - 13 p_{xy} u_{y} - 21 p_{xy} v_{x} - 29 p_{x} v_{xy} + 2 p_{yyy} v + 3 p_{yy} v_{y} + 13 p_{y} v_{yy} + 7 u^{2} v_{yyy} + 20 u u_{y} v_{yy} - 5 u v v_{xyy} - 7 u v_{txy} + 25 u v_{xy} v_{y} + 34 u v_{x} v_{yy} - 21 u_{ty} v_{x} - 29 u_{t} v_{xy} - 38 u_{y} v v_{xy} - 13 u_{y} v_{tx} + 3 u_{y} v_{x} v_{y} + 2 v^{2} v_{yyy} + 2 v v_{tyy} - 19 v v_{xy} v_{x} + 22 v v_{yy} v_{y} + 3 v_{ty} v_{y} + 13 v_{t} v_{yy} + 3 v_{y}^{3}\\right)}{24} - \\frac{- 4 p_{yyyy} + 5 u v_{xyyy} - 48 u_{tty} v_{x} - 96 u_{ty} v_{tx} - 48 u_{y} v_{ttx} + 3 u_{y} v_{xyy} + 5 v v_{yyyy} - 96 v_{tty} v_{y} - 96 v_{ty}^{2} - 19 v_{xyy} v_{x} - 33 v_{xy}^{2} - 16 v_{yyy} v_{y} - 33 v_{yy}^{2}}{24}\n",
      "\\big)\n"
     ]
    },
    {
     "data": {
      "text/latex": [
       "$\\displaystyle 0$"
      ],
      "text/plain": [
       "0"
      ]
     },
     "metadata": {},
     "output_type": "display_data"
    },
    {
     "name": "stdout",
     "output_type": "stream",
     "text": [
      "tau =>\n"
     ]
    },
    {
     "data": {
      "text/latex": [
       "$\\displaystyle - \\frac{4 \\left(\\cos{\\left(2 x \\right)} + \\cos{\\left(2 y \\right)}\\right) e^{- \\frac{4 t}{Re}}}{Re}$"
      ],
      "text/plain": [
       "-4*(cos(2*x) + cos(2*y))*exp(-4*t/Re)/Re"
      ]
     },
     "metadata": {},
     "output_type": "display_data"
    },
    {
     "name": "stdout",
     "output_type": "stream",
     "text": [
      "h^2 =>\n"
     ]
    },
    {
     "data": {
      "text/latex": [
       "$\\displaystyle \\frac{\\left(Re^{2} \\left(12 \\sin^{2}{\\left(x \\right)} \\sin^{2}{\\left(y \\right)} - 8 \\sin^{2}{\\left(x \\right)} - 8 \\sin^{2}{\\left(y \\right)} + 5\\right) - 64 \\left(\\cos{\\left(2 x \\right)} + \\cos{\\left(2 y \\right)}\\right)\\right) e^{- \\frac{4 t}{Re}}}{4 Re^{2}}$"
      ],
      "text/plain": [
       "(Re**2*(12*sin(x)**2*sin(y)**2 - 8*sin(x)**2 - 8*sin(y)**2 + 5) - 64*(cos(2*x) + cos(2*y)))*exp(-4*t/Re)/(4*Re**2)"
      ]
     },
     "metadata": {},
     "output_type": "display_data"
    },
    {
     "name": "stdout",
     "output_type": "stream",
     "text": [
      "0\n",
      "+\\tau\\big(\n",
      "- \\frac{4 \\left(\\cos{\\left(2 x \\right)} + \\cos{\\left(2 y \\right)}\\right) e^{- \\frac{4 t}{Re}}}{Re}\n",
      "\\big)\n",
      "+h^2\\big(\n",
      "\\frac{\\left(Re^{2} \\left(12 \\sin^{2}{\\left(x \\right)} \\sin^{2}{\\left(y \\right)} - 8 \\sin^{2}{\\left(x \\right)} - 8 \\sin^{2}{\\left(y \\right)} + 5\\right) - 64 \\left(\\cos{\\left(2 x \\right)} + \\cos{\\left(2 y \\right)}\\right)\\right) e^{- \\frac{4 t}{Re}}}{4 Re^{2}}\n",
      "\\big)\n"
     ]
    },
    {
     "data": {
      "text/latex": [
       "$\\displaystyle 0$"
      ],
      "text/plain": [
       "0"
      ]
     },
     "metadata": {},
     "output_type": "display_data"
    },
    {
     "name": "stdout",
     "output_type": "stream",
     "text": [
      "tau =>\n"
     ]
    },
    {
     "data": {
      "text/latex": [
       "$\\displaystyle 0$"
      ],
      "text/plain": [
       "0"
      ]
     },
     "metadata": {},
     "output_type": "display_data"
    },
    {
     "name": "stdout",
     "output_type": "stream",
     "text": [
      "h^2 =>\n"
     ]
    },
    {
     "data": {
      "text/latex": [
       "$\\displaystyle \\frac{\\lambda \\left(- 4 Re^{2} \\lambda \\left(38 \\lambda^{2} e^{2 \\lambda x} \\sin^{6}{\\left(\\pi y \\right)} - 57 \\lambda^{2} e^{2 \\lambda x} \\sin^{4}{\\left(\\pi y \\right)} + 19 \\lambda^{2} e^{2 \\lambda x} \\sin^{2}{\\left(\\pi y \\right)} + 216 \\pi^{2} e^{2 \\lambda x} \\sin^{6}{\\left(\\pi y \\right)} - 324 \\pi^{2} e^{2 \\lambda x} \\sin^{4}{\\left(\\pi y \\right)} + 122 \\pi^{2} e^{2 \\lambda x} \\sin^{2}{\\left(\\pi y \\right)} - 7 \\pi^{2} e^{2 \\lambda x} + 136 \\pi^{2} e^{\\lambda x} \\sin^{4}{\\left(\\pi y \\right)} - 136 \\pi^{2} e^{\\lambda x} \\sin^{2}{\\left(\\pi y \\right)} + 14 \\pi^{2} e^{\\lambda x} + 14 \\pi^{2} \\sin^{2}{\\left(\\pi y \\right)} - 7 \\pi^{2}\\right) + 4 Re \\left(38 \\lambda^{4} e^{2 \\lambda x} \\sin^{6}{\\left(\\pi y \\right)} - 57 \\lambda^{4} e^{2 \\lambda x} \\sin^{4}{\\left(\\pi y \\right)} + 19 \\lambda^{4} e^{2 \\lambda x} \\sin^{2}{\\left(\\pi y \\right)} + 64 \\pi^{2} \\lambda^{2} e^{2 \\lambda x} \\sin^{6}{\\left(\\pi y \\right)} - 96 \\pi^{2} \\lambda^{2} e^{2 \\lambda x} \\sin^{4}{\\left(\\pi y \\right)} + 46 \\pi^{2} \\lambda^{2} e^{2 \\lambda x} \\sin^{2}{\\left(\\pi y \\right)} - 7 \\pi^{2} \\lambda^{2} e^{2 \\lambda x} - 216 \\pi^{2} \\lambda^{2} e^{\\lambda x} \\sin^{4}{\\left(\\pi y \\right)} + 216 \\pi^{2} \\lambda^{2} e^{\\lambda x} \\sin^{2}{\\left(\\pi y \\right)} - 25 \\pi^{2} \\lambda^{2} e^{\\lambda x} - 864 \\pi^{4} e^{2 \\lambda x} \\sin^{6}{\\left(\\pi y \\right)} + 1296 \\pi^{4} e^{2 \\lambda x} \\sin^{4}{\\left(\\pi y \\right)} - 488 \\pi^{4} e^{2 \\lambda x} \\sin^{2}{\\left(\\pi y \\right)} + 28 \\pi^{4} e^{2 \\lambda x} - 544 \\pi^{4} e^{\\lambda x} \\sin^{4}{\\left(\\pi y \\right)} + 544 \\pi^{4} e^{\\lambda x} \\sin^{2}{\\left(\\pi y \\right)} - 56 \\pi^{4} e^{\\lambda x} - 56 \\pi^{4} \\sin^{2}{\\left(\\pi y \\right)} + 28 \\pi^{4}\\right) + 4 \\pi^{2} \\lambda \\left(208 \\lambda^{2} e^{\\lambda x} \\sin^{4}{\\left(\\pi y \\right)} - 208 \\lambda^{2} e^{\\lambda x} \\sin^{2}{\\left(\\pi y \\right)} + 33 \\lambda^{2} e^{\\lambda x} - 832 \\pi^{2} e^{\\lambda x} \\sin^{4}{\\left(\\pi y \\right)} + 832 \\pi^{2} e^{\\lambda x} \\sin^{2}{\\left(\\pi y \\right)} - 84 \\pi^{2} e^{\\lambda x} - 40 \\pi^{2} \\sin^{2}{\\left(\\pi y \\right)} + 20 \\pi^{2}\\right)\\right) e^{\\lambda x}}{96 \\pi^{2}}$"
      ],
      "text/plain": [
       "lambda*(-4*Re**2*lambda*(38*lambda**2*exp(2*lambda*x)*sin(pi*y)**6 - 57*lambda**2*exp(2*lambda*x)*sin(pi*y)**4 + 19*lambda**2*exp(2*lambda*x)*sin(pi*y)**2 + 216*pi**2*exp(2*lambda*x)*sin(pi*y)**6 - 324*pi**2*exp(2*lambda*x)*sin(pi*y)**4 + 122*pi**2*exp(2*lambda*x)*sin(pi*y)**2 - 7*pi**2*exp(2*lambda*x) + 136*pi**2*exp(lambda*x)*sin(pi*y)**4 - 136*pi**2*exp(lambda*x)*sin(pi*y)**2 + 14*pi**2*exp(lambda*x) + 14*pi**2*sin(pi*y)**2 - 7*pi**2) + 4*Re*(38*lambda**4*exp(2*lambda*x)*sin(pi*y)**6 - 57*lambda**4*exp(2*lambda*x)*sin(pi*y)**4 + 19*lambda**4*exp(2*lambda*x)*sin(pi*y)**2 + 64*pi**2*lambda**2*exp(2*lambda*x)*sin(pi*y)**6 - 96*pi**2*lambda**2*exp(2*lambda*x)*sin(pi*y)**4 + 46*pi**2*lambda**2*exp(2*lambda*x)*sin(pi*y)**2 - 7*pi**2*lambda**2*exp(2*lambda*x) - 216*pi**2*lambda**2*exp(lambda*x)*sin(pi*y)**4 + 216*pi**2*lambda**2*exp(lambda*x)*sin(pi*y)**2 - 25*pi**2*lambda**2*exp(lambda*x) - 864*pi**4*exp(2*lambda*x)*sin(pi*y)**6 + 1296*pi**4*exp(2*lambda*x)*sin(pi*y)**4 - 488*pi**4*exp(2*lambda*x)*sin(pi*y)**2 + 28*pi**4*exp(2*lambda*x) - 544*pi**4*exp(lambda*x)*sin(pi*y)**4 + 544*pi**4*exp(lambda*x)*sin(pi*y)**2 - 56*pi**4*exp(lambda*x) - 56*pi**4*sin(pi*y)**2 + 28*pi**4) + 4*pi**2*lambda*(208*lambda**2*exp(lambda*x)*sin(pi*y)**4 - 208*lambda**2*exp(lambda*x)*sin(pi*y)**2 + 33*lambda**2*exp(lambda*x) - 832*pi**2*exp(lambda*x)*sin(pi*y)**4 + 832*pi**2*exp(lambda*x)*sin(pi*y)**2 - 84*pi**2*exp(lambda*x) - 40*pi**2*sin(pi*y)**2 + 20*pi**2))*exp(lambda*x)/(96*pi**2)"
      ]
     },
     "metadata": {},
     "output_type": "display_data"
    },
    {
     "name": "stdout",
     "output_type": "stream",
     "text": [
      "0\n",
      "+\\tau\\big(\n",
      "0\n",
      "\\big)\n",
      "+h^2\\big(\n",
      "\\frac{\\lambda \\left(- 4 Re^{2} \\lambda \\left(38 \\lambda^{2} e^{2 \\lambda x} \\sin^{6}{\\left(\\pi y \\right)} - 57 \\lambda^{2} e^{2 \\lambda x} \\sin^{4}{\\left(\\pi y \\right)} + 19 \\lambda^{2} e^{2 \\lambda x} \\sin^{2}{\\left(\\pi y \\right)} + 216 \\pi^{2} e^{2 \\lambda x} \\sin^{6}{\\left(\\pi y \\right)} - 324 \\pi^{2} e^{2 \\lambda x} \\sin^{4}{\\left(\\pi y \\right)} + 122 \\pi^{2} e^{2 \\lambda x} \\sin^{2}{\\left(\\pi y \\right)} - 7 \\pi^{2} e^{2 \\lambda x} + 136 \\pi^{2} e^{\\lambda x} \\sin^{4}{\\left(\\pi y \\right)} - 136 \\pi^{2} e^{\\lambda x} \\sin^{2}{\\left(\\pi y \\right)} + 14 \\pi^{2} e^{\\lambda x} + 14 \\pi^{2} \\sin^{2}{\\left(\\pi y \\right)} - 7 \\pi^{2}\\right) + 4 Re \\left(38 \\lambda^{4} e^{2 \\lambda x} \\sin^{6}{\\left(\\pi y \\right)} - 57 \\lambda^{4} e^{2 \\lambda x} \\sin^{4}{\\left(\\pi y \\right)} + 19 \\lambda^{4} e^{2 \\lambda x} \\sin^{2}{\\left(\\pi y \\right)} + 64 \\pi^{2} \\lambda^{2} e^{2 \\lambda x} \\sin^{6}{\\left(\\pi y \\right)} - 96 \\pi^{2} \\lambda^{2} e^{2 \\lambda x} \\sin^{4}{\\left(\\pi y \\right)} + 46 \\pi^{2} \\lambda^{2} e^{2 \\lambda x} \\sin^{2}{\\left(\\pi y \\right)} - 7 \\pi^{2} \\lambda^{2} e^{2 \\lambda x} - 216 \\pi^{2} \\lambda^{2} e^{\\lambda x} \\sin^{4}{\\left(\\pi y \\right)} + 216 \\pi^{2} \\lambda^{2} e^{\\lambda x} \\sin^{2}{\\left(\\pi y \\right)} - 25 \\pi^{2} \\lambda^{2} e^{\\lambda x} - 864 \\pi^{4} e^{2 \\lambda x} \\sin^{6}{\\left(\\pi y \\right)} + 1296 \\pi^{4} e^{2 \\lambda x} \\sin^{4}{\\left(\\pi y \\right)} - 488 \\pi^{4} e^{2 \\lambda x} \\sin^{2}{\\left(\\pi y \\right)} + 28 \\pi^{4} e^{2 \\lambda x} - 544 \\pi^{4} e^{\\lambda x} \\sin^{4}{\\left(\\pi y \\right)} + 544 \\pi^{4} e^{\\lambda x} \\sin^{2}{\\left(\\pi y \\right)} - 56 \\pi^{4} e^{\\lambda x} - 56 \\pi^{4} \\sin^{2}{\\left(\\pi y \\right)} + 28 \\pi^{4}\\right) + 4 \\pi^{2} \\lambda \\left(208 \\lambda^{2} e^{\\lambda x} \\sin^{4}{\\left(\\pi y \\right)} - 208 \\lambda^{2} e^{\\lambda x} \\sin^{2}{\\left(\\pi y \\right)} + 33 \\lambda^{2} e^{\\lambda x} - 832 \\pi^{2} e^{\\lambda x} \\sin^{4}{\\left(\\pi y \\right)} + 832 \\pi^{2} e^{\\lambda x} \\sin^{2}{\\left(\\pi y \\right)} - 84 \\pi^{2} e^{\\lambda x} - 40 \\pi^{2} \\sin^{2}{\\left(\\pi y \\right)} + 20 \\pi^{2}\\right)\\right) e^{\\lambda x}}{96 \\pi^{2}}\n",
      "\\big)\n"
     ]
    },
    {
     "data": {
      "text/latex": [
       "$\\displaystyle 0$"
      ],
      "text/plain": [
       "0"
      ]
     },
     "metadata": {},
     "output_type": "display_data"
    },
    {
     "name": "stdout",
     "output_type": "stream",
     "text": [
      "tau =>\n"
     ]
    },
    {
     "data": {
      "text/latex": [
       "$\\displaystyle 0$"
      ],
      "text/plain": [
       "0"
      ]
     },
     "metadata": {},
     "output_type": "display_data"
    },
    {
     "name": "stdout",
     "output_type": "stream",
     "text": [
      "h^2 =>\n"
     ]
    },
    {
     "data": {
      "text/latex": [
       "$\\displaystyle 0$"
      ],
      "text/plain": [
       "0"
      ]
     },
     "metadata": {},
     "output_type": "display_data"
    },
    {
     "name": "stdout",
     "output_type": "stream",
     "text": [
      "0\n",
      "+\\tau\\big(\n",
      "0\n",
      "\\big)\n",
      "+h^2\\big(\n",
      "0\n",
      "\\big)\n"
     ]
    }
   ],
   "source": [
    "p12 = Rational(1, 2)\n",
    "def F(j):\n",
    "    return T(u, 0, j, 0) + tau/h*(\\\n",
    "        (T(u, 0, j+1, 0) - 2*T(u, 0, j, 0) + T(u, 0, j-1, 0))/(Re*h) +\\\n",
    "        (T(u, 0, j, 1) -   2*T(u, 0, j, 0) + T(u, 0, j, -1))/(Re*h) -\\\n",
    "        ((T(u, 0, j+1, 0) + T(u, 0, j, 0))**2 - (T(u, 0, j, 0) + T(u, 0, j-1, 0))**2)/4 -\\\n",
    "        ((T(u, 0, j, 1) + T(u, 0, j, 0)) *(T(v, 0, j+1, p12)  + T(v, 0, j-1, p12)) -\\\n",
    "         (T(u, 0, j, 0) + T(u, 0, j, -1))*(T(v, 0, j+1, -p12) + T(v, 0, j-1, -p12)))/4)\n",
    "\n",
    "def G(k):\n",
    "    return T(v, 0, 0, k) + tau/h*(\\\n",
    "        (T(v, 0, 1, k) -   2*T(v, 0, 0, k) + T(v, 0, -1, k))/(Re*h) +\\\n",
    "        (T(v, 0, 0, k+1) - 2*T(v, 0, 0, k) + T(v, 0, 0, k-1))/(Re*h) -\\\n",
    "        ((T(u, 0, p12, k+1)  + T(u, 0, p12, k-1))* (T(v, 0, 1, k) + T(v, 0, 0, k)) -\\\n",
    "         (T(u, 0, -p12, k+1) + T(u, 0, -p12, k-1))*(T(v, 0, 0, k) + T(v, 0, -1, k)))/4 -\\\n",
    "        ((T(v, 0, 0, k+1) + T(v, 0, 0, k))**2 - (T(v, 0, 0, k) + T(v, 0, 0, k-1))**2)/4)\n",
    "\n",
    "F1 = clip(((T(u, 0, p12, 0) - T(u, 1, -p12, 0)) +\\\n",
    "           (T(v, 0, 0, p12) - T(v, 1, 0, -p12)))/h)\n",
    "F2 = clip((T(u, 1, p12, 0) - F(p12))/tau +\\\n",
    "          (T(p, 1, 1, 0) - T(p, 1, 0, 0))/h)\n",
    "F3 = clip((T(v, 1, 0, p12) - G(p12))/tau +\\\n",
    "          (T(p, 1, 0, 1) - T(p, 1, 0, 0))/h)\n",
    "F4 = clip((T(p, 1, 1, 0) - 2*T(p, 1, 0, 0) + T(p, 1, -1, 0))/h**2 +\\\n",
    "          (T(p, 1, 0, 1) - 2*T(p, 1, 0, 0) + T(p, 1, 0, -1))/h**2 -\\\n",
    "         ((F(p12) - F(-p12)) + (G(p12) - G(-p12)))/(tau*h))\n",
    "build(F1, F2, F3, F4)"
   ]
  },
  {
   "cell_type": "code",
   "execution_count": null,
   "metadata": {},
   "outputs": [],
   "source": []
  }
 ],
 "metadata": {
  "kernelspec": {
   "display_name": "Python 3",
   "language": "python",
   "name": "python3"
  },
  "language_info": {
   "codemirror_mode": {
    "name": "ipython",
    "version": 3
   },
   "file_extension": ".py",
   "mimetype": "text/x-python",
   "name": "python",
   "nbconvert_exporter": "python",
   "pygments_lexer": "ipython3",
   "version": "3.8.10"
  }
 },
 "nbformat": 4,
 "nbformat_minor": 5
}
