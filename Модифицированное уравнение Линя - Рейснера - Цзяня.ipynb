{
 "cells": [
  {
   "cell_type": "code",
   "execution_count": 1,
   "metadata": {},
   "outputs": [],
   "source": [
    "from IPython.display import display, Image\n",
    "from pprint import pprint\n",
    "from itertools import chain\n",
    "from sympy.solvers.pde import pdsolve\n",
    "from sympy import Function, Symbol, symbols\n",
    "\n",
    "from ginv import *\n",
    "sympy.init_printing()"
   ]
  },
  {
   "cell_type": "markdown",
   "metadata": {},
   "source": [
    "Условие интегрируемости (совместности) данной системы можно записать через $S$-полином (лексикографическое упорядочение $t \\succ x \\succ y$)\n",
    "\\begin{equation}\n",
    "\\big(\\mathbf{u_{tx}} + \\alpha u_{xx} + \\beta u_{xx} u_{x}^2 + \\gamma u_{yy}\n",
    " + \\delta u\n",
    ")_\\varepsilon \n",
    "- \\mathbf{u_{\\varepsilon tx}} + \\frac{d^2}{dtdx}F = 0\n",
    "\\end{equation}\n",
    "\n",
    "В последнем уравнении в силу правила дифференцирования Лейбница производная по $\\varepsilon $\n",
    "входит в условие интрегриемости линейно. \n",
    "\\begin{equation}\n",
    "\\alpha u_{\\varepsilon xx} + 2\\beta u_{xx} u_{\\varepsilon x}u_{x}  + \\beta u_{\\varepsilon xx} u_{x}^2 + \\gamma u_{\\varepsilon yy}\n",
    " + \\delta u_{\\varepsilon} + \\frac{d^2}{dtdx}F = 0\n",
    "\\end{equation}\n",
    "При этом мы можем заменить $u_{\\varepsilon }$ на $F$ используя полные производные от $F$.\n",
    "\\begin{equation}\n",
    "\\alpha \\frac{d^2}{dx^2}F + 2\\beta u_{xx}u_{x}\\frac{d}{dx}F\n",
    " + \\beta u_{x}^2\\frac{d^2}{dx^2}F  + \\gamma\\frac{d^2}{dy^2}F + \\delta F\n",
    "+ \\frac{d^2}{dtdx}F = 0\n",
    "\\end{equation}\n",
    "\n",
    "Учитывая в силу самого уравнения\n",
    "\\begin{equation}\n",
    "\\begin{aligned}\n",
    "u_{tx} &= - \\alpha u_{xx} - \\beta u_{xx} u_{x} - \\gamma u_{yy} \\\\\n",
    "u_{ttx} &= - \\alpha u_{txx} -  \\beta u_{txx} u_{x} -  \\beta u_{xx} (- \\alpha u_{xx} - \\beta u_{xx} u_{x} - \\gamma u_{yy}) - \\gamma u_{tyy}  \\\\\n",
    "u_{txx} &= - \\alpha u_{xxx} -  \\beta u_{xxx} u_{x} -  \\beta u_{xxx} u_{xx} - \\gamma u_{xyy}  \\\\\n",
    "u_{txy} &= - \\alpha u_{xxy}  -  \\beta u_{xxy} u_{x} -  \\beta u_{xxx} u_{xy} - \\gamma u_{yyy}  \\\\\n",
    "& \\cdots \\\\\n",
    "\\end{aligned}\n",
    "\\end{equation}\n",
    "и то что само $F$ не зависит от производных выше первого порядка $u_{t}, u_{x}, u_{y}$ можно получить \n",
    "систему линейных уравнений на $F$."
   ]
  },
  {
   "cell_type": "code",
   "execution_count": 2,
   "metadata": {},
   "outputs": [],
   "source": [
    "a, b, g, dl = symbols('alpha, beta, gamma, delta')\n",
    "eps, t, x, y = symbols('ε, t, x, y')\n",
    "U = Function('U')(eps, t, x, y)\n",
    "\n",
    "a, b, g, dl = a, 1, 1, dl\n",
    "\n",
    "u, ut, ux, uy = symbols('u, u_t, u_x, u_y', real=True)\n",
    "F = Function('F')(t, x, y, u, ut, ux, uy)"
   ]
  },
  {
   "cell_type": "code",
   "execution_count": 3,
   "metadata": {},
   "outputs": [
    {
     "data": {
      "image/png": "[encoded data removed]",
      "text/latex": [
       "$$\\alpha \\frac{\\partial^{2}}{\\partial x^{2}} U{\\left (ε,t,x,y \\right )} + \\delta U{\\left (ε,t,x,y \\right )} + \\left(\\frac{\\partial}{\\partial x} U{\\left (ε,t,x,y \\right )}\\right)^{2} \\frac{\\partial^{2}}{\\partial x^{2}} U{\\left (ε,t,x,y \\right )} + \\frac{\\partial^{2}}{\\partial y^{2}} U{\\left (ε,t,x,y \\right )} + \\frac{\\partial^{2}}{\\partial x\\partial t} U{\\left (ε,t,x,y \\right )}$$"
      ],
      "text/plain": [
       "    2                                                       2   2             \n",
       "   ∂                                     ⎛∂                ⎞   ∂              \n",
       "α⋅───(U(ε, t, x, y)) + δ⋅U(ε, t, x, y) + ⎜──(U(ε, t, x, y))⎟ ⋅───(U(ε, t, x, y\n",
       "    2                                    ⎝∂x               ⎠    2             \n",
       "  ∂x                                                          ∂x              \n",
       "\n",
       "       2                     2                \n",
       "      ∂                     ∂                 \n",
       ")) + ───(U(ε, t, x, y)) + ─────(U(ε, t, x, y))\n",
       "       2                  ∂x ∂t               \n",
       "     ∂y                                       "
      ]
     },
     "execution_count": 3,
     "metadata": {},
     "output_type": "execute_result"
    }
   ],
   "source": [
    "eq1 = U.diff(t, x) + a*U.diff(x, 2) + b*U.diff(x)**2*U.diff(x, 2) + g*U.diff(y, 2) + dl*U\n",
    "eq1"
   ]
  },
  {
   "cell_type": "code",
   "execution_count": 4,
   "metadata": {},
   "outputs": [],
   "source": [
    "dct = {U: \"u\", F: \"F\"}\n",
    "def compact(f):\n",
    "    def cmpct(a):\n",
    "        if not a.args:\n",
    "            return a\n",
    "        else:\n",
    "            if a in dct:\n",
    "                return sympy.Symbol(dct[a], real=True)\n",
    "            elif a.func == sympy.Derivative:\n",
    "                m = []\n",
    "                for xi in a.args[1:]:\n",
    "                    if isinstance(xi, sympy.Symbol):\n",
    "                        m.append(str(xi))\n",
    "                    else:\n",
    "                        m.append(str(xi[0])*xi[1])\n",
    "                return sympy.Symbol(f\"{dct[a.args[0]]}_{{{''.join(m)}}}\", real=True)\n",
    "            else:\n",
    "                return a.func(*tuple(cmpct(s) for s in a.args))\n",
    "    return cmpct(f)"
   ]
  },
  {
   "cell_type": "code",
   "execution_count": 5,
   "metadata": {},
   "outputs": [
    {
     "data": {
      "image/png": "[encoded data removed]",
      "text/latex": [
       "$$\\alpha u_{xx} + \\delta u + u_{tx} + u_{xx} u_{x}^{2} + u_{yy}$$"
      ],
      "text/plain": [
       "                                      2         \n",
       "α⋅u_{xx} + δ⋅u + u_{tx} + u_{xx}⋅u_{x}  + u_{yy}"
      ]
     },
     "execution_count": 5,
     "metadata": {},
     "output_type": "execute_result"
    }
   ],
   "source": [
    "compact(eq1)"
   ]
  },
  {
   "cell_type": "code",
   "execution_count": 6,
   "metadata": {},
   "outputs": [
    {
     "data": {
      "image/png": "[encoded data removed]",
      "text/latex": [
       "$$\\alpha u_{xxε} + \\delta u_{ε} + u_{txε} + 2 u_{xx} u_{x} u_{xε} + u_{xxε} u_{x}^{2} + u_{yyε}$$"
      ],
      "text/plain": [
       "                                                                     2        \n",
       "α⋅u_{xxε} + δ⋅u_{ε} + u_{txε} + 2⋅u_{xx}⋅u_{x}⋅u_{xε} + u_{xxε}⋅u_{x}  + u_{yy\n",
       "\n",
       "  \n",
       "ε}"
      ]
     },
     "execution_count": 6,
     "metadata": {},
     "output_type": "execute_result"
    }
   ],
   "source": [
    "compact(eq1.diff(eps))"
   ]
  },
  {
   "cell_type": "code",
   "execution_count": 7,
   "metadata": {},
   "outputs": [],
   "source": [
    "def Dt(a):\n",
    "    return a.diff(t) + a.diff(u)*ut + a.diff(ut)*U.diff(t, t)\\\n",
    "         + a.diff(ux)*U.diff(x, t) + a.diff(uy)*U.diff(y, t)\n",
    "def Dx(a):\n",
    "    return a.diff(x) + a.diff(u)*ux + a.diff(ut)*U.diff(t, x)\\\n",
    "         + a.diff(ux)*U.diff(x, x) + a.diff(uy)*U.diff(y, x)\n",
    "def Dy(a):\n",
    "    return a.diff(y) + a.diff(u)*uy + a.diff(ut)*U.diff(t, y)\\\n",
    "         + a.diff(ux)*U.diff(x, y) + a.diff(uy)*U.diff(y, y)"
   ]
  },
  {
   "cell_type": "code",
   "execution_count": 8,
   "metadata": {
    "scrolled": true
   },
   "outputs": [],
   "source": [
    "toD = {\n",
    "    t: Dt,\\\n",
    "    x: Dx,\\\n",
    "    y: Dy,\\\n",
    "}\n",
    "def totalD(a):\n",
    "    if not a.args:\n",
    "        return a\n",
    "    else:\n",
    "        if a.func != sympy.Derivative:\n",
    "            return a.func(*(totalD(s) for s in a.args))\n",
    "        elif (eps, 1) not in a.args:\n",
    "            return a\n",
    "        else:\n",
    "            assert a.args[0] == U\n",
    "            r = F\n",
    "            for v, l in a.args[1:]:\n",
    "                if v != eps:\n",
    "                    for i in range(l):\n",
    "                        r = toD[v](r)\n",
    "            return r\n",
    "eq2 = totalD(eq1.diff(eps)).expand()     "
   ]
  },
  {
   "cell_type": "code",
   "execution_count": 9,
   "metadata": {
    "scrolled": true
   },
   "outputs": [
    {
     "data": {
      "image/png": "[encoded data removed]",
      "text/latex": [
       "$$F \\delta + F_{tu_t} u_{tx} + F_{tu_x} u_{xx} + F_{tu_y} u_{xy} + F_{tu} u_{x} + F_{tx} + F_{u_tu_t} \\alpha u_{tx}^{2} + F_{u_tu_t} u_{tt} u_{tx} + F_{u_tu_t} u_{tx}^{2} u_{x}^{2} + F_{u_tu_t} u_{ty}^{2} + 2 F_{u_tu_x} \\alpha u_{tx} u_{xx} + F_{u_tu_x} u_{tt} u_{xx} + F_{u_tu_x} u_{tx}^{2} + 2 F_{u_tu_x} u_{tx} u_{xx} u_{x}^{2} + 2 F_{u_tu_x} u_{ty} u_{xy} + 2 F_{u_tu_y} \\alpha u_{tx} u_{xy} + F_{u_tu_y} u_{tt} u_{xy} + F_{u_tu_y} u_{tx} u_{ty} + 2 F_{u_tu_y} u_{tx} u_{xy} u_{x}^{2} + 2 F_{u_tu_y} u_{ty} u_{yy} + 2 F_{u_tx} \\alpha u_{tx} + F_{u_tx} u_{tt} + 2 F_{u_tx} u_{tx} u_{x}^{2} + 2 F_{u_ty} u_{ty} + F_{u_t} \\alpha u_{txx} + F_{u_t} u_{ttx} + F_{u_t} u_{txx} u_{x}^{2} + 2 F_{u_t} u_{tx} u_{xx} u_{x} + F_{u_t} u_{tyy} + F_{u_xu_x} \\alpha u_{xx}^{2} + F_{u_xu_x} u_{tx} u_{xx} + F_{u_xu_x} u_{xx}^{2} u_{x}^{2} + F_{u_xu_x} u_{xy}^{2} + 2 F_{u_xu_y} \\alpha u_{xx} u_{xy} + F_{u_xu_y} u_{tx} u_{xy} + F_{u_xu_y} u_{ty} u_{xx} + 2 F_{u_xu_y} u_{xx} u_{xy} u_{x}^{2} + 2 F_{u_xu_y} u_{xy} u_{yy} + 2 F_{u_xx} \\alpha u_{xx} + F_{u_xx} u_{tx} + 2 F_{u_xx} u_{xx} u_{x}^{2} + 2 F_{u_xy} u_{xy} + F_{u_x} \\alpha u_{xxx} + F_{u_x} u_{txx} + F_{u_x} u_{xxx} u_{x}^{2} + 2 F_{u_x} u_{xx}^{2} u_{x} + F_{u_x} u_{xyy} + F_{u_yu_y} \\alpha u_{xy}^{2} + F_{u_yu_y} u_{ty} u_{xy} + F_{u_yu_y} u_{xy}^{2} u_{x}^{2} + F_{u_yu_y} u_{yy}^{2} + 2 F_{u_yx} \\alpha u_{xy} + F_{u_yx} u_{ty} + 2 F_{u_yx} u_{xy} u_{x}^{2} + 2 F_{u_yy} u_{yy} + F_{u_y} \\alpha u_{xxy} + F_{u_y} u_{txy} + F_{u_y} u_{xxy} u_{x}^{2} + 2 F_{u_y} u_{xx} u_{xy} u_{x} + F_{u_y} u_{yyy} + 2 F_{uu_t} \\alpha u_{x} u_{tx} + F_{uu_t} u_{t} u_{tx} + F_{uu_t} u_{x} u_{tt} + 2 F_{uu_t} u_{x} u_{tx} u_{x}^{2} + 2 F_{uu_t} u_{y} u_{ty} + 2 F_{uu_x} \\alpha u_{x} u_{xx} + F_{uu_x} u_{t} u_{xx} + F_{uu_x} u_{x} u_{tx} + 2 F_{uu_x} u_{x} u_{xx} u_{x}^{2} + 2 F_{uu_x} u_{y} u_{xy} + 2 F_{uu_y} \\alpha u_{x} u_{xy} + F_{uu_y} u_{t} u_{xy} + F_{uu_y} u_{x} u_{ty} + 2 F_{uu_y} u_{x} u_{xy} u_{x}^{2} + 2 F_{uu_y} u_{y} u_{yy} + F_{uu} \\alpha u_{x}^{2} + F_{uu} u_{t} u_{x} + F_{uu} u_{x}^{2} u_{x}^{2} + F_{uu} u_{y}^{2} + 2 F_{ux} \\alpha u_{x} + F_{ux} u_{t} + 2 F_{ux} u_{x} u_{x}^{2} + 2 F_{uy} u_{y} + F_{u} \\alpha u_{xx} + 2 F_{u} u_{x} u_{xx} u_{x} + F_{u} u_{tx} + F_{u} u_{xx} u_{x}^{2} + F_{u} u_{yy} + F_{xx} \\alpha + F_{xx} u_{x}^{2} + 2 F_{x} u_{xx} u_{x} + F_{yy}$$"
      ],
      "text/plain": [
       "                                                                              \n",
       "F⋅δ + F_{tu_t}⋅u_{tx} + F_{tu_x}⋅u_{xx} + F_{tu_y}⋅u_{xy} + F_{tu}⋅uₓ + F_{tx}\n",
       "\n",
       "                      2                                               2      2\n",
       " + F_{u_tu_t}⋅α⋅u_{tx}  + F_{u_tu_t}⋅u_{tt}⋅u_{tx} + F_{u_tu_t}⋅u_{tx} ⋅u_{x} \n",
       "\n",
       "                    2                                                         \n",
       " + F_{u_tu_t}⋅u_{ty}  + 2⋅F_{u_tu_x}⋅α⋅u_{tx}⋅u_{xx} + F_{u_tu_x}⋅u_{tt}⋅u_{xx\n",
       "\n",
       "                     2                                   2                    \n",
       "} + F_{u_tu_x}⋅u_{tx}  + 2⋅F_{u_tu_x}⋅u_{tx}⋅u_{xx}⋅u_{x}  + 2⋅F_{u_tu_x}⋅u_{t\n",
       "\n",
       "                                                                              \n",
       "y}⋅u_{xy} + 2⋅F_{u_tu_y}⋅α⋅u_{tx}⋅u_{xy} + F_{u_tu_y}⋅u_{tt}⋅u_{xy} + F_{u_tu_\n",
       "\n",
       "                                                   2                          \n",
       "y}⋅u_{tx}⋅u_{ty} + 2⋅F_{u_tu_y}⋅u_{tx}⋅u_{xy}⋅u_{x}  + 2⋅F_{u_tu_y}⋅u_{ty}⋅u_{\n",
       "\n",
       "                                                                     2        \n",
       "yy} + 2⋅F_{u_tx}⋅α⋅u_{tx} + F_{u_tx}⋅u_{tt} + 2⋅F_{u_tx}⋅u_{tx}⋅u_{x}  + 2⋅F_{\n",
       "\n",
       "                                                                          2   \n",
       "u_ty}⋅u_{ty} + F_{u_t}⋅α⋅u_{txx} + F_{u_t}⋅u_{ttx} + F_{u_t}⋅u_{txx}⋅u_{x}  + \n",
       "\n",
       "                                                                     2        \n",
       "2⋅F_{u_t}⋅u_{tx}⋅u_{xx}⋅u_{x} + F_{u_t}⋅u_{tyy} + F_{u_xu_x}⋅α⋅u_{xx}  + F_{u_\n",
       "\n",
       "                                       2      2                    2          \n",
       "xu_x}⋅u_{tx}⋅u_{xx} + F_{u_xu_x}⋅u_{xx} ⋅u_{x}  + F_{u_xu_x}⋅u_{xy}  + 2⋅F_{u_\n",
       "\n",
       "                                                                              \n",
       "xu_y}⋅α⋅u_{xx}⋅u_{xy} + F_{u_xu_y}⋅u_{tx}⋅u_{xy} + F_{u_xu_y}⋅u_{ty}⋅u_{xx} + \n",
       "\n",
       "                                2                                             \n",
       "2⋅F_{u_xu_y}⋅u_{xx}⋅u_{xy}⋅u_{x}  + 2⋅F_{u_xu_y}⋅u_{xy}⋅u_{yy} + 2⋅F_{u_xx}⋅α⋅\n",
       "\n",
       "                                                  2                           \n",
       "u_{xx} + F_{u_xx}⋅u_{tx} + 2⋅F_{u_xx}⋅u_{xx}⋅u_{x}  + 2⋅F_{u_xy}⋅u_{xy} + F_{u\n",
       "\n",
       "                                                       2                   2  \n",
       "_x}⋅α⋅u_{xxx} + F_{u_x}⋅u_{txx} + F_{u_x}⋅u_{xxx}⋅u_{x}  + 2⋅F_{u_x}⋅u_{xx} ⋅u\n",
       "\n",
       "                                            2                                 \n",
       "_{x} + F_{u_x}⋅u_{xyy} + F_{u_yu_y}⋅α⋅u_{xy}  + F_{u_yu_y}⋅u_{ty}⋅u_{xy} + F_{\n",
       "\n",
       "              2      2                    2                                   \n",
       "u_yu_y}⋅u_{xy} ⋅u_{x}  + F_{u_yu_y}⋅u_{yy}  + 2⋅F_{u_yx}⋅α⋅u_{xy} + F_{u_yx}⋅u\n",
       "\n",
       "                               2                                              \n",
       "_{ty} + 2⋅F_{u_yx}⋅u_{xy}⋅u_{x}  + 2⋅F_{u_yy}⋅u_{yy} + F_{u_y}⋅α⋅u_{xxy} + F_{\n",
       "\n",
       "                                    2                                         \n",
       "u_y}⋅u_{txy} + F_{u_y}⋅u_{xxy}⋅u_{x}  + 2⋅F_{u_y}⋅u_{xx}⋅u_{xy}⋅u_{x} + F_{u_y\n",
       "\n",
       "                                                                              \n",
       "}⋅u_{yyy} + 2⋅F_{uu_t}⋅α⋅uₓ⋅u_{tx} + F_{uu_t}⋅uₜ⋅u_{tx} + F_{uu_t}⋅uₓ⋅u_{tt} +\n",
       "\n",
       "                           2                                                  \n",
       " 2⋅F_{uu_t}⋅uₓ⋅u_{tx}⋅u_{x}  + 2⋅F_{uu_t}⋅u_y⋅u_{ty} + 2⋅F_{uu_x}⋅α⋅uₓ⋅u_{xx} \n",
       "\n",
       "                                                                      2       \n",
       "+ F_{uu_x}⋅uₜ⋅u_{xx} + F_{uu_x}⋅uₓ⋅u_{tx} + 2⋅F_{uu_x}⋅uₓ⋅u_{xx}⋅u_{x}  + 2⋅F_\n",
       "\n",
       "                                                                              \n",
       "{uu_x}⋅u_y⋅u_{xy} + 2⋅F_{uu_y}⋅α⋅uₓ⋅u_{xy} + F_{uu_y}⋅uₜ⋅u_{xy} + F_{uu_y}⋅uₓ⋅\n",
       "\n",
       "                                   2                                      2   \n",
       "u_{ty} + 2⋅F_{uu_y}⋅uₓ⋅u_{xy}⋅u_{x}  + 2⋅F_{uu_y}⋅u_y⋅u_{yy} + F_{uu}⋅α⋅uₓ  + \n",
       "\n",
       "                        2      2             2                                \n",
       "F_{uu}⋅uₜ⋅uₓ + F_{uu}⋅uₓ ⋅u_{x}  + F_{uu}⋅u_y  + 2⋅F_{ux}⋅α⋅uₓ + F_{ux}⋅uₜ + 2\n",
       "\n",
       "                2                                                             \n",
       "⋅F_{ux}⋅uₓ⋅u_{x}  + 2⋅F_{uy}⋅u_y + F_{u}⋅α⋅u_{xx} + 2⋅F_{u}⋅uₓ⋅u_{xx}⋅u_{x} + \n",
       "\n",
       "                                 2                                         2  \n",
       "F_{u}⋅u_{tx} + F_{u}⋅u_{xx}⋅u_{x}  + F_{u}⋅u_{yy} + F_{xx}⋅α + F_{xx}⋅u_{x}  +\n",
       "\n",
       "                              \n",
       " 2⋅F_{x}⋅u_{xx}⋅u_{x} + F_{yy}"
      ]
     },
     "execution_count": 9,
     "metadata": {},
     "output_type": "execute_result"
    }
   ],
   "source": [
    "compact(eq2)"
   ]
  },
  {
   "cell_type": "code",
   "execution_count": 10,
   "metadata": {},
   "outputs": [
    {
     "name": "stdout",
     "output_type": "stream",
     "text": [
      "F \\delta + F_{tu_t} u_{tx} + F_{tu_x} u_{xx} + F_{tu_y} u_{xy} + F_{tu} u_{x} + F_{tx} + F_{u_tu_t} \\alpha u_{tx}^{2} + F_{u_tu_t} u_{tt} u_{tx} + F_{u_tu_t} u_{tx}^{2} u_{x}^{2} + F_{u_tu_t} u_{ty}^{2} + 2 F_{u_tu_x} \\alpha u_{tx} u_{xx} + F_{u_tu_x} u_{tt} u_{xx} + F_{u_tu_x} u_{tx}^{2} + 2 F_{u_tu_x} u_{tx} u_{xx} u_{x}^{2} + 2 F_{u_tu_x} u_{ty} u_{xy} + 2 F_{u_tu_y} \\alpha u_{tx} u_{xy} + F_{u_tu_y} u_{tt} u_{xy} + F_{u_tu_y} u_{tx} u_{ty} + 2 F_{u_tu_y} u_{tx} u_{xy} u_{x}^{2} + 2 F_{u_tu_y} u_{ty} u_{yy} + 2 F_{u_tx} \\alpha u_{tx} + F_{u_tx} u_{tt} + 2 F_{u_tx} u_{tx} u_{x}^{2} + 2 F_{u_ty} u_{ty} + F_{u_t} \\alpha u_{txx} + F_{u_t} u_{ttx} + F_{u_t} u_{txx} u_{x}^{2} + 2 F_{u_t} u_{tx} u_{xx} u_{x} + F_{u_t} u_{tyy} + F_{u_xu_x} \\alpha u_{xx}^{2} + F_{u_xu_x} u_{tx} u_{xx} + F_{u_xu_x} u_{xx}^{2} u_{x}^{2} + F_{u_xu_x} u_{xy}^{2} + 2 F_{u_xu_y} \\alpha u_{xx} u_{xy} + F_{u_xu_y} u_{tx} u_{xy} + F_{u_xu_y} u_{ty} u_{xx} + 2 F_{u_xu_y} u_{xx} u_{xy} u_{x}^{2} + 2 F_{u_xu_y} u_{xy} u_{yy} + 2 F_{u_xx} \\alpha u_{xx} + F_{u_xx} u_{tx} + 2 F_{u_xx} u_{xx} u_{x}^{2} + 2 F_{u_xy} u_{xy} + F_{u_x} \\alpha u_{xxx} + F_{u_x} u_{txx} + F_{u_x} u_{xxx} u_{x}^{2} + 2 F_{u_x} u_{xx}^{2} u_{x} + F_{u_x} u_{xyy} + F_{u_yu_y} \\alpha u_{xy}^{2} + F_{u_yu_y} u_{ty} u_{xy} + F_{u_yu_y} u_{xy}^{2} u_{x}^{2} + F_{u_yu_y} u_{yy}^{2} + 2 F_{u_yx} \\alpha u_{xy} + F_{u_yx} u_{ty} + 2 F_{u_yx} u_{xy} u_{x}^{2} + 2 F_{u_yy} u_{yy} + F_{u_y} \\alpha u_{xxy} + F_{u_y} u_{txy} + F_{u_y} u_{xxy} u_{x}^{2} + 2 F_{u_y} u_{xx} u_{xy} u_{x} + F_{u_y} u_{yyy} + 2 F_{uu_t} \\alpha u_{x} u_{tx} + F_{uu_t} u_{t} u_{tx} + F_{uu_t} u_{x} u_{tt} + 2 F_{uu_t} u_{x} u_{tx} u_{x}^{2} + 2 F_{uu_t} u_{y} u_{ty} + 2 F_{uu_x} \\alpha u_{x} u_{xx} + F_{uu_x} u_{t} u_{xx} + F_{uu_x} u_{x} u_{tx} + 2 F_{uu_x} u_{x} u_{xx} u_{x}^{2} + 2 F_{uu_x} u_{y} u_{xy} + 2 F_{uu_y} \\alpha u_{x} u_{xy} + F_{uu_y} u_{t} u_{xy} + F_{uu_y} u_{x} u_{ty} + 2 F_{uu_y} u_{x} u_{xy} u_{x}^{2} + 2 F_{uu_y} u_{y} u_{yy} + F_{uu} \\alpha u_{x}^{2} + F_{uu} u_{t} u_{x} + F_{uu} u_{x}^{2} u_{x}^{2} + F_{uu} u_{y}^{2} + 2 F_{ux} \\alpha u_{x} + F_{ux} u_{t} + 2 F_{ux} u_{x} u_{x}^{2} + 2 F_{uy} u_{y} + F_{u} \\alpha u_{xx} + 2 F_{u} u_{x} u_{xx} u_{x} + F_{u} u_{tx} + F_{u} u_{xx} u_{x}^{2} + F_{u} u_{yy} + F_{xx} \\alpha + F_{xx} u_{x}^{2} + 2 F_{x} u_{xx} u_{x} + F_{yy}\n"
     ]
    }
   ],
   "source": [
    "print(sympy.latex(compact(eq2)))"
   ]
  },
  {
   "cell_type": "code",
   "execution_count": 11,
   "metadata": {
    "scrolled": true
   },
   "outputs": [],
   "source": [
    "s = sympy.solve(eq1, U.diff(t, x))[0]\n",
    "def sub_eq(a):\n",
    "    def find(args):\n",
    "        r = 0\n",
    "        for v, l in a.args[1:]:\n",
    "            if v in (t, x):\n",
    "                r += 1\n",
    "        return r >= 2\n",
    "    if not a.args:\n",
    "        return a\n",
    "    else:\n",
    "        if a.func != sympy.Derivative:\n",
    "            return a.func(*(sub_eq(s) for s in a.args))\n",
    "        elif a.args[0] != U or not find(a.args):\n",
    "            return a\n",
    "        else:\n",
    "            r = s\n",
    "            for v, l in a.args[1:]:\n",
    "                if v in (t, x):\n",
    "                    l -= 1\n",
    "                r = r.diff(v, l)\n",
    "            return r\n",
    "eq3 = sub_eq(eq2).expand()\n",
    "eq3 = sub_eq(eq3).expand()\n",
    "eq3 = sub_eq(eq3).expand()"
   ]
  },
  {
   "cell_type": "code",
   "execution_count": 12,
   "metadata": {
    "scrolled": true
   },
   "outputs": [
    {
     "data": {
      "image/png": "[encoded data removed]",
      "text/latex": [
       "$$F \\delta - F_{tu_t} \\alpha u_{xx} - F_{tu_t} \\delta u - F_{tu_t} u_{xx} u_{x}^{2} - F_{tu_t} u_{yy} + F_{tu_x} u_{xx} + F_{tu_y} u_{xy} + F_{tu} u_{x} + F_{tx} + F_{u_tu_t} \\alpha^{3} u_{xx}^{2} + 2 F_{u_tu_t} \\alpha^{2} \\delta u u_{xx} + 3 F_{u_tu_t} \\alpha^{2} u_{xx}^{2} u_{x}^{2} + 2 F_{u_tu_t} \\alpha^{2} u_{xx} u_{yy} + F_{u_tu_t} \\alpha \\delta^{2} u^{2} + 4 F_{u_tu_t} \\alpha \\delta u u_{xx} u_{x}^{2} + 2 F_{u_tu_t} \\alpha \\delta u u_{yy} - F_{u_tu_t} \\alpha u_{tt} u_{xx} + 3 F_{u_tu_t} \\alpha u_{xx}^{2} u_{x}^{4} + 4 F_{u_tu_t} \\alpha u_{xx} u_{x}^{2} u_{yy} + F_{u_tu_t} \\alpha u_{yy}^{2} + F_{u_tu_t} \\delta^{2} u^{2} u_{x}^{2} - F_{u_tu_t} \\delta u u_{tt} + 2 F_{u_tu_t} \\delta u u_{xx} u_{x}^{4} + 2 F_{u_tu_t} \\delta u u_{x}^{2} u_{yy} - F_{u_tu_t} u_{tt} u_{xx} u_{x}^{2} - F_{u_tu_t} u_{tt} u_{yy} + F_{u_tu_t} u_{ty}^{2} + F_{u_tu_t} u_{xx}^{2} u_{x}^{6} + 2 F_{u_tu_t} u_{xx} u_{x}^{4} u_{yy} + F_{u_tu_t} u_{x}^{2} u_{yy}^{2} - F_{u_tu_x} \\alpha^{2} u_{xx}^{2} - 2 F_{u_tu_x} \\alpha u_{xx}^{2} u_{x}^{2} + F_{u_tu_x} \\delta^{2} u^{2} + 2 F_{u_tu_x} \\delta u u_{yy} + F_{u_tu_x} u_{tt} u_{xx} + 2 F_{u_tu_x} u_{ty} u_{xy} - F_{u_tu_x} u_{xx}^{2} u_{x}^{4} + F_{u_tu_x} u_{yy}^{2} - 2 F_{u_tu_y} \\alpha^{2} u_{xx} u_{xy} - 2 F_{u_tu_y} \\alpha \\delta u u_{xy} - F_{u_tu_y} \\alpha u_{ty} u_{xx} - 4 F_{u_tu_y} \\alpha u_{xx} u_{xy} u_{x}^{2} - 2 F_{u_tu_y} \\alpha u_{xy} u_{yy} - F_{u_tu_y} \\delta u u_{ty} - 2 F_{u_tu_y} \\delta u u_{xy} u_{x}^{2} + F_{u_tu_y} u_{tt} u_{xy} - F_{u_tu_y} u_{ty} u_{xx} u_{x}^{2} + F_{u_tu_y} u_{ty} u_{yy} - 2 F_{u_tu_y} u_{xx} u_{xy} u_{x}^{4} - 2 F_{u_tu_y} u_{xy} u_{x}^{2} u_{yy} - 2 F_{u_tx} \\alpha^{2} u_{xx} - 2 F_{u_tx} \\alpha \\delta u - 4 F_{u_tx} \\alpha u_{xx} u_{x}^{2} - 2 F_{u_tx} \\alpha u_{yy} - 2 F_{u_tx} \\delta u u_{x}^{2} + F_{u_tx} u_{tt} - 2 F_{u_tx} u_{xx} u_{x}^{4} - 2 F_{u_tx} u_{x}^{2} u_{yy} + 2 F_{u_ty} u_{ty} - F_{u_t} \\delta u_{t} - F_{u_xu_x} \\delta u u_{xx} - F_{u_xu_x} u_{xx} u_{yy} + F_{u_xu_x} u_{xy}^{2} + F_{u_xu_y} \\alpha u_{xx} u_{xy} - F_{u_xu_y} \\delta u u_{xy} + F_{u_xu_y} u_{ty} u_{xx} + F_{u_xu_y} u_{xx} u_{xy} u_{x}^{2} + F_{u_xu_y} u_{xy} u_{yy} + F_{u_xx} \\alpha u_{xx} - F_{u_xx} \\delta u + F_{u_xx} u_{xx} u_{x}^{2} - F_{u_xx} u_{yy} + 2 F_{u_xy} u_{xy} - F_{u_x} \\delta u_{x} + F_{u_yu_y} \\alpha u_{xy}^{2} + F_{u_yu_y} u_{ty} u_{xy} + F_{u_yu_y} u_{xy}^{2} u_{x}^{2} + F_{u_yu_y} u_{yy}^{2} + 2 F_{u_yx} \\alpha u_{xy} + F_{u_yx} u_{ty} + 2 F_{u_yx} u_{xy} u_{x}^{2} + 2 F_{u_yy} u_{yy} - F_{u_y} \\delta u_{y} - 2 F_{uu_t} \\alpha^{2} u_{x} u_{xx} - 2 F_{uu_t} \\alpha \\delta u u_{x} - F_{uu_t} \\alpha u_{t} u_{xx} - 4 F_{uu_t} \\alpha u_{x} u_{xx} u_{x}^{2} - 2 F_{uu_t} \\alpha u_{x} u_{yy} - F_{uu_t} \\delta u u_{t} - 2 F_{uu_t} \\delta u u_{x} u_{x}^{2} - F_{uu_t} u_{t} u_{xx} u_{x}^{2} - F_{uu_t} u_{t} u_{yy} + F_{uu_t} u_{x} u_{tt} - 2 F_{uu_t} u_{x} u_{xx} u_{x}^{4} - 2 F_{uu_t} u_{x} u_{x}^{2} u_{yy} + 2 F_{uu_t} u_{y} u_{ty} + F_{uu_x} \\alpha u_{x} u_{xx} - F_{uu_x} \\delta u u_{x} + F_{uu_x} u_{t} u_{xx} + F_{uu_x} u_{x} u_{xx} u_{x}^{2} - F_{uu_x} u_{x} u_{yy} + 2 F_{uu_x} u_{y} u_{xy} + 2 F_{uu_y} \\alpha u_{x} u_{xy} + F_{uu_y} u_{t} u_{xy} + F_{uu_y} u_{x} u_{ty} + 2 F_{uu_y} u_{x} u_{xy} u_{x}^{2} + 2 F_{uu_y} u_{y} u_{yy} + F_{uu} \\alpha u_{x}^{2} + F_{uu} u_{t} u_{x} + F_{uu} u_{x}^{2} u_{x}^{2} + F_{uu} u_{y}^{2} + 2 F_{ux} \\alpha u_{x} + F_{ux} u_{t} + 2 F_{ux} u_{x} u_{x}^{2} + 2 F_{uy} u_{y} - F_{u} \\delta u + 2 F_{u} u_{x} u_{xx} u_{x} + F_{xx} \\alpha + F_{xx} u_{x}^{2} + 2 F_{x} u_{xx} u_{x} + F_{yy}$$"
      ],
      "text/plain": [
       "                                                              2               \n",
       "F⋅δ - F_{tu_t}⋅α⋅u_{xx} - F_{tu_t}⋅δ⋅u - F_{tu_t}⋅u_{xx}⋅u_{x}  - F_{tu_t}⋅u_{\n",
       "\n",
       "                                                                           3  \n",
       "yy} + F_{tu_x}⋅u_{xx} + F_{tu_y}⋅u_{xy} + F_{tu}⋅uₓ + F_{tx} + F_{u_tu_t}⋅α ⋅u\n",
       "\n",
       "     2                 2                            2       2      2          \n",
       "_{xx}  + 2⋅F_{u_tu_t}⋅α ⋅δ⋅u⋅u_{xx} + 3⋅F_{u_tu_t}⋅α ⋅u_{xx} ⋅u_{x}  + 2⋅F_{u_\n",
       "\n",
       "       2                               2  2                                  2\n",
       "tu_t}⋅α ⋅u_{xx}⋅u_{yy} + F_{u_tu_t}⋅α⋅δ ⋅u  + 4⋅F_{u_tu_t}⋅α⋅δ⋅u⋅u_{xx}⋅u_{x} \n",
       "\n",
       "                                                                              \n",
       " + 2⋅F_{u_tu_t}⋅α⋅δ⋅u⋅u_{yy} - F_{u_tu_t}⋅α⋅u_{tt}⋅u_{xx} + 3⋅F_{u_tu_t}⋅α⋅u_{\n",
       "\n",
       "   2      4                              2                             2      \n",
       "xx} ⋅u_{x}  + 4⋅F_{u_tu_t}⋅α⋅u_{xx}⋅u_{x} ⋅u_{yy} + F_{u_tu_t}⋅α⋅u_{yy}  + F_{\n",
       "\n",
       "         2  2      2                                                        4 \n",
       "u_tu_t}⋅δ ⋅u ⋅u_{x}  - F_{u_tu_t}⋅δ⋅u⋅u_{tt} + 2⋅F_{u_tu_t}⋅δ⋅u⋅u_{xx}⋅u_{x}  \n",
       "\n",
       "                        2                                        2            \n",
       "+ 2⋅F_{u_tu_t}⋅δ⋅u⋅u_{x} ⋅u_{yy} - F_{u_tu_t}⋅u_{tt}⋅u_{xx}⋅u_{x}  - F_{u_tu_t\n",
       "\n",
       "                                   2                    2      6              \n",
       "}⋅u_{tt}⋅u_{yy} + F_{u_tu_t}⋅u_{ty}  + F_{u_tu_t}⋅u_{xx} ⋅u_{x}  + 2⋅F_{u_tu_t\n",
       "\n",
       "              4                          2       2               2       2    \n",
       "}⋅u_{xx}⋅u_{x} ⋅u_{yy} + F_{u_tu_t}⋅u_{x} ⋅u_{yy}  - F_{u_tu_x}⋅α ⋅u_{xx}  - 2\n",
       "\n",
       "                    2      2               2  2                               \n",
       "⋅F_{u_tu_x}⋅α⋅u_{xx} ⋅u_{x}  + F_{u_tu_x}⋅δ ⋅u  + 2⋅F_{u_tu_x}⋅δ⋅u⋅u_{yy} + F_\n",
       "\n",
       "                                                                       2      \n",
       "{u_tu_x}⋅u_{tt}⋅u_{xx} + 2⋅F_{u_tu_x}⋅u_{ty}⋅u_{xy} - F_{u_tu_x}⋅u_{xx} ⋅u_{x}\n",
       "\n",
       "4                    2                 2                                      \n",
       "  + F_{u_tu_x}⋅u_{yy}  - 2⋅F_{u_tu_y}⋅α ⋅u_{xx}⋅u_{xy} - 2⋅F_{u_tu_y}⋅α⋅δ⋅u⋅u_\n",
       "\n",
       "                                                                      2       \n",
       "{xy} - F_{u_tu_y}⋅α⋅u_{ty}⋅u_{xx} - 4⋅F_{u_tu_y}⋅α⋅u_{xx}⋅u_{xy}⋅u_{x}  - 2⋅F_\n",
       "\n",
       "                                                                              \n",
       "{u_tu_y}⋅α⋅u_{xy}⋅u_{yy} - F_{u_tu_y}⋅δ⋅u⋅u_{ty} - 2⋅F_{u_tu_y}⋅δ⋅u⋅u_{xy}⋅u_{\n",
       "\n",
       "  2                                                            2              \n",
       "x}  + F_{u_tu_y}⋅u_{tt}⋅u_{xy} - F_{u_tu_y}⋅u_{ty}⋅u_{xx}⋅u_{x}  + F_{u_tu_y}⋅\n",
       "\n",
       "                                                4                            2\n",
       "u_{ty}⋅u_{yy} - 2⋅F_{u_tu_y}⋅u_{xx}⋅u_{xy}⋅u_{x}  - 2⋅F_{u_tu_y}⋅u_{xy}⋅u_{x} \n",
       "\n",
       "                      2                                                      2\n",
       "⋅u_{yy} - 2⋅F_{u_tx}⋅α ⋅u_{xx} - 2⋅F_{u_tx}⋅α⋅δ⋅u - 4⋅F_{u_tx}⋅α⋅u_{xx}⋅u_{x} \n",
       "\n",
       "                                             2                                \n",
       " - 2⋅F_{u_tx}⋅α⋅u_{yy} - 2⋅F_{u_tx}⋅δ⋅u⋅u_{x}  + F_{u_tx}⋅u_{tt} - 2⋅F_{u_tx}⋅\n",
       "\n",
       "            4                   2                                             \n",
       "u_{xx}⋅u_{x}  - 2⋅F_{u_tx}⋅u_{x} ⋅u_{yy} + 2⋅F_{u_ty}⋅u_{ty} - F_{u_t}⋅δ⋅u_{t}\n",
       "\n",
       "                                                                       2      \n",
       " - F_{u_xu_x}⋅δ⋅u⋅u_{xx} - F_{u_xu_x}⋅u_{xx}⋅u_{yy} + F_{u_xu_x}⋅u_{xy}  + F_{\n",
       "\n",
       "                                                                              \n",
       "u_xu_y}⋅α⋅u_{xx}⋅u_{xy} - F_{u_xu_y}⋅δ⋅u⋅u_{xy} + F_{u_xu_y}⋅u_{ty}⋅u_{xx} + F\n",
       "\n",
       "                             2                                                \n",
       "_{u_xu_y}⋅u_{xx}⋅u_{xy}⋅u_{x}  + F_{u_xu_y}⋅u_{xy}⋅u_{yy} + F_{u_xx}⋅α⋅u_{xx} \n",
       "\n",
       "                                      2                                       \n",
       "- F_{u_xx}⋅δ⋅u + F_{u_xx}⋅u_{xx}⋅u_{x}  - F_{u_xx}⋅u_{yy} + 2⋅F_{u_xy}⋅u_{xy} \n",
       "\n",
       "                                       2                                      \n",
       "- F_{u_x}⋅δ⋅u_{x} + F_{u_yu_y}⋅α⋅u_{xy}  + F_{u_yu_y}⋅u_{ty}⋅u_{xy} + F_{u_yu_\n",
       "\n",
       "         2      2                    2                                        \n",
       "y}⋅u_{xy} ⋅u_{x}  + F_{u_yu_y}⋅u_{yy}  + 2⋅F_{u_yx}⋅α⋅u_{xy} + F_{u_yx}⋅u_{ty}\n",
       "\n",
       "                          2                                                   \n",
       " + 2⋅F_{u_yx}⋅u_{xy}⋅u_{x}  + 2⋅F_{u_yy}⋅u_{yy} - F_{u_y}⋅δ⋅u_{y} - 2⋅F_{uu_t}\n",
       "\n",
       "  2                                                                           \n",
       "⋅α ⋅uₓ⋅u_{xx} - 2⋅F_{uu_t}⋅α⋅δ⋅u⋅uₓ - F_{uu_t}⋅α⋅uₜ⋅u_{xx} - 4⋅F_{uu_t}⋅α⋅uₓ⋅u\n",
       "\n",
       "           2                                                                  \n",
       "_{xx}⋅u_{x}  - 2⋅F_{uu_t}⋅α⋅uₓ⋅u_{yy} - F_{uu_t}⋅δ⋅u⋅uₜ - 2⋅F_{uu_t}⋅δ⋅u⋅uₓ⋅u_\n",
       "\n",
       "   2                           2                                              \n",
       "{x}  - F_{uu_t}⋅uₜ⋅u_{xx}⋅u_{x}  - F_{uu_t}⋅uₜ⋅u_{yy} + F_{uu_t}⋅uₓ⋅u_{tt} - 2\n",
       "\n",
       "                         4                      2                             \n",
       "⋅F_{uu_t}⋅uₓ⋅u_{xx}⋅u_{x}  - 2⋅F_{uu_t}⋅uₓ⋅u_{x} ⋅u_{yy} + 2⋅F_{uu_t}⋅u_y⋅u_{t\n",
       "\n",
       "                                                                              \n",
       "y} + F_{uu_x}⋅α⋅uₓ⋅u_{xx} - F_{uu_x}⋅δ⋅u⋅uₓ + F_{uu_x}⋅uₜ⋅u_{xx} + F_{uu_x}⋅uₓ\n",
       "\n",
       "             2                                                                \n",
       "⋅u_{xx}⋅u_{x}  - F_{uu_x}⋅uₓ⋅u_{yy} + 2⋅F_{uu_x}⋅u_y⋅u_{xy} + 2⋅F_{uu_y}⋅α⋅uₓ⋅\n",
       "\n",
       "                                                                             2\n",
       "u_{xy} + F_{uu_y}⋅uₜ⋅u_{xy} + F_{uu_y}⋅uₓ⋅u_{ty} + 2⋅F_{uu_y}⋅uₓ⋅u_{xy}⋅u_{x} \n",
       "\n",
       "                                      2                           2      2    \n",
       " + 2⋅F_{uu_y}⋅u_y⋅u_{yy} + F_{uu}⋅α⋅uₓ  + F_{uu}⋅uₜ⋅uₓ + F_{uu}⋅uₓ ⋅u_{x}  + F\n",
       "\n",
       "         2                                                2                   \n",
       "_{uu}⋅u_y  + 2⋅F_{ux}⋅α⋅uₓ + F_{ux}⋅uₜ + 2⋅F_{ux}⋅uₓ⋅u_{x}  + 2⋅F_{uy}⋅u_y - F\n",
       "\n",
       "                                                            2                 \n",
       "_{u}⋅δ⋅u + 2⋅F_{u}⋅uₓ⋅u_{xx}⋅u_{x} + F_{xx}⋅α + F_{xx}⋅u_{x}  + 2⋅F_{x}⋅u_{xx}\n",
       "\n",
       "               \n",
       "⋅u_{x} + F_{yy}"
      ]
     },
     "execution_count": 12,
     "metadata": {},
     "output_type": "execute_result"
    }
   ],
   "source": [
    "compact(eq3)"
   ]
  },
  {
   "cell_type": "code",
   "execution_count": 13,
   "metadata": {},
   "outputs": [
    {
     "data": {
      "image/png": "[encoded data removed]",
      "text/latex": [
       "$$\\left\\{\\frac{\\partial^{2}}{\\partial t^{2}} U{\\left (ε,t,x,y \\right )}, \\frac{\\partial^{2}}{\\partial x^{2}} U{\\left (ε,t,x,y \\right )}, \\frac{\\partial^{2}}{\\partial y^{2}} U{\\left (ε,t,x,y \\right )}, \\frac{\\partial^{2}}{\\partial y\\partial t} U{\\left (ε,t,x,y \\right )}, \\frac{\\partial^{2}}{\\partial y\\partial x} U{\\left (ε,t,x,y \\right )}\\right\\}$$"
      ],
      "text/plain": [
       "⎧  2                   2                   2                    2             \n",
       "⎪ ∂                   ∂                   ∂                    ∂              \n",
       "⎨───(U(ε, t, x, y)), ───(U(ε, t, x, y)), ───(U(ε, t, x, y)), ─────(U(ε, t, x, \n",
       "⎪  2                   2                   2                 ∂y ∂t            \n",
       "⎩∂t                  ∂x                  ∂y                                   \n",
       "\n",
       "        2                ⎫\n",
       "       ∂                 ⎪\n",
       "y)), ─────(U(ε, t, x, y))⎬\n",
       "     ∂y ∂x               ⎪\n",
       "                         ⎭"
      ]
     },
     "execution_count": 13,
     "metadata": {},
     "output_type": "execute_result"
    }
   ],
   "source": [
    "toU = {\n",
    "    U.diff(t): ut,\\\n",
    "    U.diff(x): ux,\\\n",
    "    U.diff(y): uy,\\\n",
    "}\n",
    "DF = set()\n",
    "def lstD(a):\n",
    "    if not a.args:\n",
    "        return a\n",
    "    else:\n",
    "        if a.func != sympy.Derivative:\n",
    "            return a.func(*(lstD(s) for s in a.args))\n",
    "        elif a.args[0] != U:\n",
    "            return a\n",
    "        elif a in toU:\n",
    "            return toU[a]\n",
    "        else:\n",
    "            DF.add(a)\n",
    "            return a\n",
    "eq4 = lstD(eq3).expand()\n",
    "DF"
   ]
  },
  {
   "cell_type": "code",
   "execution_count": 14,
   "metadata": {},
   "outputs": [
    {
     "data": {
      "image/png": "[encoded data removed]",
      "text/latex": [
       "$$\\left [ u_{ty}, \\quad u_{yy}, \\quad u_{tt}, \\quad u_{xx}, \\quad u_{xy}\\right ]$$"
      ],
      "text/plain": [
       "[u_{ty}, u_{yy}, u_{tt}, u_{xx}, u_{xy}]"
      ]
     },
     "execution_count": 14,
     "metadata": {},
     "output_type": "execute_result"
    }
   ],
   "source": [
    "[compact(df) for df in DF]"
   ]
  },
  {
   "cell_type": "code",
   "execution_count": 15,
   "metadata": {},
   "outputs": [
    {
     "name": "stdout",
     "output_type": "stream",
     "text": [
      "F \\delta - F_{tu_t} \\delta u + F_{tu} u_{x} + F_{tx} + F_{u_tu_t} \\alpha \\delta^{2} u^{2} + F_{u_tu_t} \\delta^{2} u^{2} u_{x}^{2} + F_{u_tu_x} \\delta^{2} u^{2} - 2 F_{u_tx} \\alpha \\delta u - 2 F_{u_tx} \\delta u u_{x}^{2} - F_{u_t} \\delta u_{t} - F_{u_xx} \\delta u - F_{u_x} \\delta u_{x} - F_{u_y} \\delta u_{y} - 2 F_{uu_t} \\alpha \\delta u u_{x} - F_{uu_t} \\delta u u_{t} - 2 F_{uu_t} \\delta u u_{x}^{3} - F_{uu_x} \\delta u u_{x} + F_{uu} \\alpha u_{x}^{2} + F_{uu} u_{t} u_{x} + F_{uu} u_{x}^{4} + F_{uu} u_{y}^{2} + 2 F_{ux} \\alpha u_{x} + F_{ux} u_{t} + 2 F_{ux} u_{x}^{3} + 2 F_{uy} u_{y} - F_{u} \\delta u + F_{xx} \\alpha + F_{xx} u_{x}^{2} + F_{yy} = 0, \\\\\n",
      "F_{tu_y} - 2 F_{u_tu_y} \\alpha \\delta u - 2 F_{u_tu_y} \\delta u u_{x}^{2} - F_{u_xu_y} \\delta u + 2 F_{u_xy} + 2 F_{u_yx} \\alpha + 2 F_{u_yx} u_{x}^{2} + 2 F_{uu_x} u_{y} + 2 F_{uu_y} \\alpha u_{x} + F_{uu_y} u_{t} + 2 F_{uu_y} u_{x}^{3} = 0, \\\\\n",
      "F_{u_xu_x} + F_{u_yu_y} \\alpha + F_{u_yu_y} u_{x}^{2} = 0, \\\\\n",
      "- F_{tu_t} \\alpha - F_{tu_t} u_{x}^{2} + F_{tu_x} + 2 F_{u_tu_t} \\alpha^{2} \\delta u + 4 F_{u_tu_t} \\alpha \\delta u u_{x}^{2} + 2 F_{u_tu_t} \\delta u u_{x}^{4} - 2 F_{u_tx} \\alpha^{2} - 4 F_{u_tx} \\alpha u_{x}^{2} - 2 F_{u_tx} u_{x}^{4} - F_{u_xu_x} \\delta u + F_{u_xx} \\alpha + F_{u_xx} u_{x}^{2} - 2 F_{uu_t} \\alpha^{2} u_{x} - F_{uu_t} \\alpha u_{t} - 4 F_{uu_t} \\alpha u_{x}^{3} - F_{uu_t} u_{t} u_{x}^{2} - 2 F_{uu_t} u_{x}^{5} + F_{uu_x} \\alpha u_{x} + F_{uu_x} u_{t} + F_{uu_x} u_{x}^{3} + 2 F_{u} u_{x}^{2} + 2 F_{x} u_{x} = 0, \\\\\n",
      "- 2 F_{u_tu_y} \\alpha^{2} - 4 F_{u_tu_y} \\alpha u_{x}^{2} - 2 F_{u_tu_y} u_{x}^{4} + F_{u_xu_y} \\alpha + F_{u_xu_y} u_{x}^{2} = 0, \\\\\n",
      "F_{u_tu_t} \\alpha^{3} + 3 F_{u_tu_t} \\alpha^{2} u_{x}^{2} + 3 F_{u_tu_t} \\alpha u_{x}^{4} + F_{u_tu_t} u_{x}^{6} - F_{u_tu_x} \\alpha^{2} - 2 F_{u_tu_x} \\alpha u_{x}^{2} - F_{u_tu_x} u_{x}^{4} = 0, \\\\\n",
      "- F_{u_tu_t} \\delta u + F_{u_tx} + F_{uu_t} u_{x} = 0, \\\\\n",
      "F_{u_tu_y} = 0, \\\\\n",
      "- F_{u_tu_t} \\alpha - F_{u_tu_t} u_{x}^{2} + F_{u_tu_x} = 0, \\\\\n",
      "- F_{tu_t} + 2 F_{u_tu_t} \\alpha \\delta u + 2 F_{u_tu_t} \\delta u u_{x}^{2} + 2 F_{u_tu_x} \\delta u - 2 F_{u_tx} \\alpha - 2 F_{u_tx} u_{x}^{2} - F_{u_xx} + 2 F_{u_yy} - 2 F_{uu_t} \\alpha u_{x} - F_{uu_t} u_{t} - 2 F_{uu_t} u_{x}^{3} - F_{uu_x} u_{x} + 2 F_{uu_y} u_{y} = 0, \\\\\n",
      "- 2 F_{u_tu_y} \\alpha - 2 F_{u_tu_y} u_{x}^{2} + F_{u_xu_y} = 0, \\\\\n",
      "2 F_{u_tu_t} \\alpha^{2} + 4 F_{u_tu_t} \\alpha u_{x}^{2} + 2 F_{u_tu_t} u_{x}^{4} - F_{u_xu_x} = 0, \\\\\n",
      "- F_{u_tu_t} = 0, \\\\\n",
      "F_{u_tu_t} \\alpha + F_{u_tu_t} u_{x}^{2} + F_{u_tu_x} + F_{u_yu_y} = 0, \\\\\n",
      "- F_{u_tu_y} \\delta u + 2 F_{u_ty} + F_{u_yx} + 2 F_{uu_t} u_{y} + F_{uu_y} u_{x} = 0, \\\\\n",
      "2 F_{u_tu_x} + F_{u_yu_y} = 0, \\\\\n",
      "- F_{u_tu_y} \\alpha - F_{u_tu_y} u_{x}^{2} + F_{u_xu_y} = 0, \\\\\n",
      "F_{u_tu_y} = 0, \\\\\n",
      "F_{u_tu_t} = 0, \\\\\n"
     ]
    },
    {
     "data": {
      "image/png": "[encoded data removed]",
      "text/latex": [
       "$$\\left [ F \\delta - F_{tu_t} \\delta u + F_{tu} u_{x} + F_{tx} + F_{u_tu_t} \\alpha \\delta^{2} u^{2} + F_{u_tu_t} \\delta^{2} u^{2} u_{x}^{2} + F_{u_tu_x} \\delta^{2} u^{2} - 2 F_{u_tx} \\alpha \\delta u - 2 F_{u_tx} \\delta u u_{x}^{2} - F_{u_t} \\delta u_{t} - F_{u_xx} \\delta u - F_{u_x} \\delta u_{x} - F_{u_y} \\delta u_{y} - 2 F_{uu_t} \\alpha \\delta u u_{x} - F_{uu_t} \\delta u u_{t} - 2 F_{uu_t} \\delta u u_{x}^{3} - F_{uu_x} \\delta u u_{x} + F_{uu} \\alpha u_{x}^{2} + F_{uu} u_{t} u_{x} + F_{uu} u_{x}^{4} + F_{uu} u_{y}^{2} + 2 F_{ux} \\alpha u_{x} + F_{ux} u_{t} + 2 F_{ux} u_{x}^{3} + 2 F_{uy} u_{y} - F_{u} \\delta u + F_{xx} \\alpha + F_{xx} u_{x}^{2} + F_{yy}, \\quad F_{tu_y} - 2 F_{u_tu_y} \\alpha \\delta u - 2 F_{u_tu_y} \\delta u u_{x}^{2} - F_{u_xu_y} \\delta u + 2 F_{u_xy} + 2 F_{u_yx} \\alpha + 2 F_{u_yx} u_{x}^{2} + 2 F_{uu_x} u_{y} + 2 F_{uu_y} \\alpha u_{x} + F_{uu_y} u_{t} + 2 F_{uu_y} u_{x}^{3}, \\quad F_{u_xu_x} + F_{u_yu_y} \\alpha + F_{u_yu_y} u_{x}^{2}, \\quad - F_{tu_t} \\alpha - F_{tu_t} u_{x}^{2} + F_{tu_x} + 2 F_{u_tu_t} \\alpha^{2} \\delta u + 4 F_{u_tu_t} \\alpha \\delta u u_{x}^{2} + 2 F_{u_tu_t} \\delta u u_{x}^{4} - 2 F_{u_tx} \\alpha^{2} - 4 F_{u_tx} \\alpha u_{x}^{2} - 2 F_{u_tx} u_{x}^{4} - F_{u_xu_x} \\delta u + F_{u_xx} \\alpha + F_{u_xx} u_{x}^{2} - 2 F_{uu_t} \\alpha^{2} u_{x} - F_{uu_t} \\alpha u_{t} - 4 F_{uu_t} \\alpha u_{x}^{3} - F_{uu_t} u_{t} u_{x}^{2} - 2 F_{uu_t} u_{x}^{5} + F_{uu_x} \\alpha u_{x} + F_{uu_x} u_{t} + F_{uu_x} u_{x}^{3} + 2 F_{u} u_{x}^{2} + 2 F_{x} u_{x}, \\quad - 2 F_{u_tu_y} \\alpha^{2} - 4 F_{u_tu_y} \\alpha u_{x}^{2} - 2 F_{u_tu_y} u_{x}^{4} + F_{u_xu_y} \\alpha + F_{u_xu_y} u_{x}^{2}, \\quad F_{u_tu_t} \\alpha^{3} + 3 F_{u_tu_t} \\alpha^{2} u_{x}^{2} + 3 F_{u_tu_t} \\alpha u_{x}^{4} + F_{u_tu_t} u_{x}^{6} - F_{u_tu_x} \\alpha^{2} - 2 F_{u_tu_x} \\alpha u_{x}^{2} - F_{u_tu_x} u_{x}^{4}, \\quad - F_{u_tu_t} \\delta u + F_{u_tx} + F_{uu_t} u_{x}, \\quad F_{u_tu_y}, \\quad - F_{u_tu_t} \\alpha - F_{u_tu_t} u_{x}^{2} + F_{u_tu_x}, \\quad - F_{tu_t} + 2 F_{u_tu_t} \\alpha \\delta u + 2 F_{u_tu_t} \\delta u u_{x}^{2} + 2 F_{u_tu_x} \\delta u - 2 F_{u_tx} \\alpha - 2 F_{u_tx} u_{x}^{2} - F_{u_xx} + 2 F_{u_yy} - 2 F_{uu_t} \\alpha u_{x} - F_{uu_t} u_{t} - 2 F_{uu_t} u_{x}^{3} - F_{uu_x} u_{x} + 2 F_{uu_y} u_{y}, \\quad - 2 F_{u_tu_y} \\alpha - 2 F_{u_tu_y} u_{x}^{2} + F_{u_xu_y}, \\quad 2 F_{u_tu_t} \\alpha^{2} + 4 F_{u_tu_t} \\alpha u_{x}^{2} + 2 F_{u_tu_t} u_{x}^{4} - F_{u_xu_x}, \\quad - F_{u_tu_t}, \\quad F_{u_tu_t} \\alpha + F_{u_tu_t} u_{x}^{2} + F_{u_tu_x} + F_{u_yu_y}, \\quad - F_{u_tu_y} \\delta u + 2 F_{u_ty} + F_{u_yx} + 2 F_{uu_t} u_{y} + F_{uu_y} u_{x}, \\quad 2 F_{u_tu_x} + F_{u_yu_y}, \\quad - F_{u_tu_y} \\alpha - F_{u_tu_y} u_{x}^{2} + F_{u_xu_y}, \\quad F_{u_tu_y}, \\quad F_{u_tu_t}\\right ]$$"
      ],
      "text/plain": [
       "⎡                                                        2  2               2 \n",
       "⎣F⋅δ - F_{tu_t}⋅δ⋅u + F_{tu}⋅uₓ + F_{tx} + F_{u_tu_t}⋅α⋅δ ⋅u  + F_{u_tu_t}⋅δ ⋅\n",
       "\n",
       " 2   2               2  2                                       2             \n",
       "u ⋅uₓ  + F_{u_tu_x}⋅δ ⋅u  - 2⋅F_{u_tx}⋅α⋅δ⋅u - 2⋅F_{u_tx}⋅δ⋅u⋅uₓ  - F_{u_t}⋅δ⋅\n",
       "\n",
       "                                                                              \n",
       "uₜ - F_{u_xx}⋅δ⋅u - F_{u_x}⋅δ⋅uₓ - F_{u_y}⋅δ⋅u_y - 2⋅F_{uu_t}⋅α⋅δ⋅u⋅uₓ - F_{uu\n",
       "\n",
       "                              3                                2              \n",
       "_t}⋅δ⋅u⋅uₜ - 2⋅F_{uu_t}⋅δ⋅u⋅uₓ  - F_{uu_x}⋅δ⋅u⋅uₓ + F_{uu}⋅α⋅uₓ  + F_{uu}⋅uₜ⋅u\n",
       "\n",
       "             4             2                                          3       \n",
       "ₓ + F_{uu}⋅uₓ  + F_{uu}⋅u_y  + 2⋅F_{ux}⋅α⋅uₓ + F_{ux}⋅uₜ + 2⋅F_{ux}⋅uₓ  + 2⋅F_\n",
       "\n",
       "                                           2                                  \n",
       "{uy}⋅u_y - F_{u}⋅δ⋅u + F_{xx}⋅α + F_{xx}⋅uₓ  + F_{yy}, F_{tu_y} - 2⋅F_{u_tu_y}\n",
       "\n",
       "                            2                                                 \n",
       "⋅α⋅δ⋅u - 2⋅F_{u_tu_y}⋅δ⋅u⋅uₓ  - F_{u_xu_y}⋅δ⋅u + 2⋅F_{u_xy} + 2⋅F_{u_yx}⋅α + 2\n",
       "\n",
       "            2                                                                 \n",
       "⋅F_{u_yx}⋅uₓ  + 2⋅F_{uu_x}⋅u_y + 2⋅F_{uu_y}⋅α⋅uₓ + F_{uu_y}⋅uₜ + 2⋅F_{uu_y}⋅uₓ\n",
       "\n",
       "3                                           2                           2     \n",
       " , F_{u_xu_x} + F_{u_yu_y}⋅α + F_{u_yu_y}⋅uₓ , -F_{tu_t}⋅α - F_{tu_t}⋅uₓ  + F_\n",
       "\n",
       "                       2                            2                      4  \n",
       "{tu_x} + 2⋅F_{u_tu_t}⋅α ⋅δ⋅u + 4⋅F_{u_tu_t}⋅α⋅δ⋅u⋅uₓ  + 2⋅F_{u_tu_t}⋅δ⋅u⋅uₓ  -\n",
       "\n",
       "             2                  2                4                            \n",
       " 2⋅F_{u_tx}⋅α  - 4⋅F_{u_tx}⋅α⋅uₓ  - 2⋅F_{u_tx}⋅uₓ  - F_{u_xu_x}⋅δ⋅u + F_{u_xx}\n",
       "\n",
       "                2               2                                     3       \n",
       "⋅α + F_{u_xx}⋅uₓ  - 2⋅F_{uu_t}⋅α ⋅uₓ - F_{uu_t}⋅α⋅uₜ - 4⋅F_{uu_t}⋅α⋅uₓ  - F_{u\n",
       "\n",
       "          2                5                                            3     \n",
       "u_t}⋅uₜ⋅uₓ  - 2⋅F_{uu_t}⋅uₓ  + F_{uu_x}⋅α⋅uₓ + F_{uu_x}⋅uₜ + F_{uu_x}⋅uₓ  + 2⋅\n",
       "\n",
       "        2                               2                    2                \n",
       "F_{u}⋅uₓ  + 2⋅F_{x}⋅uₓ, - 2⋅F_{u_tu_y}⋅α  - 4⋅F_{u_tu_y}⋅α⋅uₓ  - 2⋅F_{u_tu_y}⋅\n",
       "\n",
       "  4                               2              3                 2   2      \n",
       "uₓ  + F_{u_xu_y}⋅α + F_{u_xu_y}⋅uₓ , F_{u_tu_t}⋅α  + 3⋅F_{u_tu_t}⋅α ⋅uₓ  + 3⋅F\n",
       "\n",
       "              4                6               2                    2         \n",
       "_{u_tu_t}⋅α⋅uₓ  + F_{u_tu_t}⋅uₓ  - F_{u_tu_x}⋅α  - 2⋅F_{u_tu_x}⋅α⋅uₓ  - F_{u_t\n",
       "\n",
       "       4                                                                      \n",
       "u_x}⋅uₓ , -F_{u_tu_t}⋅δ⋅u + F_{u_tx} + F_{uu_t}⋅uₓ, F_{u_tu_y}, -F_{u_tu_t}⋅α \n",
       "\n",
       "               2                                                              \n",
       "- F_{u_tu_t}⋅uₓ  + F_{u_tu_x}, -F_{tu_t} + 2⋅F_{u_tu_t}⋅α⋅δ⋅u + 2⋅F_{u_tu_t}⋅δ\n",
       "\n",
       "     2                                                  2                     \n",
       "⋅u⋅uₓ  + 2⋅F_{u_tu_x}⋅δ⋅u - 2⋅F_{u_tx}⋅α - 2⋅F_{u_tx}⋅uₓ  - F_{u_xx} + 2⋅F_{u_\n",
       "\n",
       "                                                   3                          \n",
       "yy} - 2⋅F_{uu_t}⋅α⋅uₓ - F_{uu_t}⋅uₜ - 2⋅F_{uu_t}⋅uₓ  - F_{uu_x}⋅uₓ + 2⋅F_{uu_y\n",
       "\n",
       "                                        2                             2       \n",
       "}⋅u_y, -2⋅F_{u_tu_y}⋅α - 2⋅F_{u_tu_y}⋅uₓ  + F_{u_xu_y}, 2⋅F_{u_tu_t}⋅α  + 4⋅F_\n",
       "\n",
       "             2                  4                                             \n",
       "{u_tu_t}⋅α⋅uₓ  + 2⋅F_{u_tu_t}⋅uₓ  - F_{u_xu_x}, -F_{u_tu_t}, F_{u_tu_t}⋅α + F_\n",
       "\n",
       "           2                                                                  \n",
       "{u_tu_t}⋅uₓ  + F_{u_tu_x} + F_{u_yu_y}, -F_{u_tu_y}⋅δ⋅u + 2⋅F_{u_ty} + F_{u_yx\n",
       "\n",
       "                                                                              \n",
       "} + 2⋅F_{uu_t}⋅u_y + F_{uu_y}⋅uₓ, 2⋅F_{u_tu_x} + F_{u_yu_y}, -F_{u_tu_y}⋅α - F\n",
       "\n",
       "            2                                     ⎤\n",
       "_{u_tu_y}⋅uₓ  + F_{u_xu_y}, F_{u_tu_y}, F_{u_tu_t}⎦"
      ]
     },
     "execution_count": 15,
     "metadata": {},
     "output_type": "execute_result"
    }
   ],
   "source": [
    "def to_eqs(a, var):\n",
    "    for x in var:\n",
    "        r = []\n",
    "        for b in a:\n",
    "            if b:\n",
    "                r.append([b.coeff(x, i) for i in range(b.as_poly(x).degree()+1) if b.coeff(x, i)])\n",
    "        a = chain(*r)\n",
    "    return list(a)\n",
    "\n",
    "eqs = to_eqs([eq4], DF)\n",
    "for eq in eqs:\n",
    "    print(sympy.latex(compact(eq)) + r\" = 0, \\\\\")\n",
    "[compact(eq) for eq in eqs]"
   ]
  },
  {
   "cell_type": "code",
   "execution_count": 16,
   "metadata": {},
   "outputs": [
    {
     "name": "stdout",
     "output_type": "stream",
     "text": [
      "0 0 0 0 0 0 0 0 0 0 0 0 0 0 0 0 0 0 0 \n",
      "0 0 0 0 0 0 0 0 0 0 0 0 0 0 0 0 0 0 0 \n",
      "0 0 0 0 0 0 0 0 0 0 0 0 0 0 0 0 0 0 0 \n",
      "0 0 0 0 0 0 0 0 0 0 0 0 0 0 0 0 0 0 0 \n",
      "0 0 0 0 0 0 0 0 0 0 0 0 0 0 0 0 0 0 0 \n"
     ]
    }
   ],
   "source": [
    "if a or dl:\n",
    "    for k in [ut, ux, uy, t*uy - ux*y/2, a*t*ux + t*ut/2 + u - ux*x/2]:\n",
    "        for eq in eqs:\n",
    "            print(eq.subs({F: k, U: u}).doit().expand(), end=\" \")\n",
    "        print()\n",
    "else:\n",
    "    for k in [ut, ux, -2*t*uy + ux*y, uy, 3*t*ut/2 + ux*x/2 + uy*y, t*ut/2 + u - ux*x/2]:\n",
    "        for eq in eqs:\n",
    "            print(eq.subs({F: k, U: u}).doit().expand(), end=\" \")\n",
    "        print()"
   ]
  },
  {
   "cell_type": "code",
   "execution_count": 17,
   "metadata": {},
   "outputs": [],
   "source": [
    "Monom.cmp = Monom.TOPdeglex"
   ]
  },
  {
   "cell_type": "code",
   "execution_count": 18,
   "metadata": {},
   "outputs": [],
   "source": [
    "var = ['t', 'x', 'y', 'u', 'u_t', 'u_x', 'u_y']\n",
    "fun = ['F']\n",
    "Monom.init(var, fun)\n",
    "df = PolyDiff.df\n",
    "diff2poly = PolyDiff.diff2poly\n",
    "var, fun = PolyDiff.init()\n",
    "t, x, y, u, ut, ux, uy = var\n",
    "F = fun[0]"
   ]
  },
  {
   "cell_type": "code",
   "execution_count": 19,
   "metadata": {},
   "outputs": [
    {
     "data": {
      "image/png": "[encoded data removed]",
      "text/latex": [
       "$$F \\delta - F_{tu_t} \\delta u + F_{tu} u_{x} + F_{tx} + F_{u_tu_t} \\alpha \\delta^{2} u^{2} + F_{u_tu_t} \\delta^{2} u^{2} u_{x}^{2} + F_{u_tu_x} \\delta^{2} u^{2} - 2 F_{u_tx} \\alpha \\delta u - 2 F_{u_tx} \\delta u u_{x}^{2} - F_{u_t} \\delta u_{t} - F_{u_xx} \\delta u - F_{u_x} \\delta u_{x} - F_{u_y} \\delta u_{y} - 2 F_{uu_t} \\alpha \\delta u u_{x} - F_{uu_t} \\delta u u_{t} - 2 F_{uu_t} \\delta u u_{x}^{3} - F_{uu_x} \\delta u u_{x} + F_{uu} \\alpha u_{x}^{2} + F_{uu} u_{t} u_{x} + F_{uu} u_{x}^{4} + F_{uu} u_{y}^{2} + 2 F_{ux} \\alpha u_{x} + F_{ux} u_{t} + 2 F_{ux} u_{x}^{3} + 2 F_{uy} u_{y} - F_{u} \\delta u + F_{xx} \\alpha + F_{xx} u_{x}^{2} + F_{yy}$$"
      ],
      "text/plain": [
       "                                                        2  2               2  \n",
       "F⋅δ - F_{tu_t}⋅δ⋅u + F_{tu}⋅uₓ + F_{tx} + F_{u_tu_t}⋅α⋅δ ⋅u  + F_{u_tu_t}⋅δ ⋅u\n",
       "\n",
       "2   2               2  2                                       2              \n",
       " ⋅uₓ  + F_{u_tu_x}⋅δ ⋅u  - 2⋅F_{u_tx}⋅α⋅δ⋅u - 2⋅F_{u_tx}⋅δ⋅u⋅uₓ  - F_{u_t}⋅δ⋅u\n",
       "\n",
       "                                                                              \n",
       "ₜ - F_{u_xx}⋅δ⋅u - F_{u_x}⋅δ⋅uₓ - F_{u_y}⋅δ⋅u_y - 2⋅F_{uu_t}⋅α⋅δ⋅u⋅uₓ - F_{uu_\n",
       "\n",
       "                             3                                2               \n",
       "t}⋅δ⋅u⋅uₜ - 2⋅F_{uu_t}⋅δ⋅u⋅uₓ  - F_{uu_x}⋅δ⋅u⋅uₓ + F_{uu}⋅α⋅uₓ  + F_{uu}⋅uₜ⋅uₓ\n",
       "\n",
       "            4             2                                          3        \n",
       " + F_{uu}⋅uₓ  + F_{uu}⋅u_y  + 2⋅F_{ux}⋅α⋅uₓ + F_{ux}⋅uₜ + 2⋅F_{ux}⋅uₓ  + 2⋅F_{\n",
       "\n",
       "                                          2         \n",
       "uy}⋅u_y - F_{u}⋅δ⋅u + F_{xx}⋅α + F_{xx}⋅uₓ  + F_{yy}"
      ]
     },
     "execution_count": 19,
     "metadata": {},
     "output_type": "execute_result"
    }
   ],
   "source": [
    "compact(eqs[0].subs({U: u}))"
   ]
  },
  {
   "cell_type": "code",
   "execution_count": 20,
   "metadata": {},
   "outputs": [
    {
     "data": {
      "text/plain": [
       "[[[0;1 1 0 0 0 0 0], 1],\n",
       " [[0;0 2 0 0 0 0 0], alpha + u_x**2],\n",
       " [[0;0 0 2 0 0 0 0], 1],\n",
       " [[0;1 0 0 1 0 0 0], u_x],\n",
       " [[0;0 1 0 1 0 0 0], 2*alpha*u_x + u_t + 2*u_x**3],\n",
       " [[0;0 0 1 1 0 0 0], 2*u_y],\n",
       " [[0;0 0 0 2 0 0 0], alpha*u_x**2 + u_t*u_x + u_x**4 + u_y**2],\n",
       " [[0;1 0 0 0 1 0 0], -delta*u],\n",
       " [[0;0 1 0 0 1 0 0], -2*alpha*delta*u - 2*delta*u*u_x**2],\n",
       " [[0;0 0 0 1 1 0 0], -2*alpha*delta*u*u_x - delta*u*u_t - 2*delta*u*u_x**3],\n",
       " [[0;0 0 0 0 2 0 0], alpha*delta**2*u**2 + delta**2*u**2*u_x**2],\n",
       " [[0;0 1 0 0 0 1 0], -delta*u],\n",
       " [[0;0 0 0 1 0 1 0], -delta*u*u_x],\n",
       " [[0;0 0 0 0 1 1 0], delta**2*u**2],\n",
       " [[0;0 0 0 1 0 0 0], -delta*u],\n",
       " [[0;0 0 0 0 1 0 0], -delta*u_t],\n",
       " [[0;0 0 0 0 0 1 0], -delta*u_x],\n",
       " [[0;0 0 0 0 0 0 1], -delta*u_y],\n",
       " [[0;0 0 0 0 0 0 0], delta]]"
      ]
     },
     "execution_count": 20,
     "metadata": {},
     "output_type": "execute_result"
    }
   ],
   "source": [
    "diff2poly(eqs[0].subs({U: u}))"
   ]
  },
  {
   "cell_type": "code",
   "execution_count": 21,
   "metadata": {},
   "outputs": [
    {
     "name": "stdout",
     "output_type": "stream",
     "text": [
      "df(F, t, x) + df(F, x, 2)*(alpha + u_x**2) + df(F, y, 2) + df(F, t, u)*u_x + df(F, x, u)*(2*alpha*u_x + u_t + 2*u_x**3) + df(F, y, u)*2*u_y + df(F, u, 2)*(alpha*u_x**2 + u_t*u_x + u_x**4 + u_y**2) + df(F, t, u_t)*(-delta*u) + df(F, x, u_t)*(-2*alpha*delta*u - 2*delta*u*u_x**2) + df(F, u, u_t)*(-2*alpha*delta*u*u_x - delta*u*u_t - 2*delta*u*u_x**3) + df(F, u_t, 2)*(alpha*delta**2*u**2 + delta**2*u**2*u_x**2) + df(F, x, u_x)*(-delta*u) + df(F, u, u_x)*(-delta*u*u_x) + df(F, u_t, u_x)*delta**2*u**2 + df(F, u)*(-delta*u) + df(F, u_t)*(-delta*u_t) + df(F, u_x)*(-delta*u_x) + df(F, u_y)*(-delta*u_y) + df(F)*delta\n"
     ]
    }
   ],
   "source": [
    "print(diff2poly(eqs[0].subs({U: u})))"
   ]
  },
  {
   "cell_type": "code",
   "execution_count": 22,
   "metadata": {
    "scrolled": false
   },
   "outputs": [
    {
     "name": "stdout",
     "output_type": "stream",
     "text": [
      "prolong 0, Q 2\n",
      "df(F, u_t, u_y)\n",
      "prolong 0, Q 2\n",
      "df(F, u_x, u_y), df(F, u_x, 2), df(F, u_t, u_x), df(F, y, u_x), df(F, u_t, 2), df(F, u_y, 2), df(F, y, u_t), df(F, x, u_t), df(F, t, u_t), df(F, t, u_x), df(F, t, x)\n",
      "prolong 2, Q 0\n",
      "df(F, y, u_y, 2)\n",
      "prolong 3, Q 3\n",
      "df(F, x, u_y, 2)\n",
      "prolong 3, Q 3\n",
      "df(F, t, u_y, 2)\n",
      "prolong 3, Q 3\n",
      "df(F, u, u_x)\n",
      "prolong 2, Q 3\n",
      "df(F, u, u_y, 2)\n",
      "prolong 3, Q 3\n",
      "df(F, x, u_x, u_y)\n",
      "prolong 3, Q 3\n",
      "df(F, x, u_y)\n",
      "prolong 2, Q 3\n",
      "df(F, u, u_y)\n",
      "prolong 2, Q 3\n",
      "df(F, u, u_t)\n",
      "prolong 2, Q 3\n",
      "df(F, y, u, u_y)\n",
      "prolong 2, Q 3\n",
      "df(F, t, u, u_y)\n",
      "prolong 2, Q 3\n",
      "df(F, x, u_x), df(F, x, u), df(F, y, u)\n",
      "prolong 2, Q 3\n",
      "df(F, u, 2)\n",
      "prolong 2, Q 3\n",
      "df(F, y, 2, u_y)\n",
      "prolong 2, Q 3\n",
      "df(F, t, y, u_y)\n",
      "prolong 2, Q 3\n",
      "df(F, t, 2, u_y)\n",
      "prolong 2, Q 3\n",
      "df(F, y, u_y)\n",
      "prolong 2, Q 3\n",
      "df(F, x, y)\n",
      "prolong 2, Q 3\n",
      "df(F, x, 2)\n",
      "prolong 2, Q 3\n",
      "df(F, y, 2)\n",
      "prolong 2, Q 3\n",
      "df(F, t, u, u_x)\n",
      "prolong 3, Q 3\n",
      "df(F, t, u)\n",
      "prolong 2, Q 3\n",
      "df(F, t, y, u_x)\n",
      "prolong 3, Q 3\n",
      "df(F, t, 2, u_x)\n",
      "prolong 3, Q 3\n",
      "df(F, t, y, u_t)\n",
      "prolong 3, Q 3\n",
      "df(F, t, 2, u_t)\n",
      "prolong 3, Q 3\n",
      "df(F, x)\n",
      "prolong 1, Q 2\n",
      "df(F, t, y, u)\n",
      "prolong 3, Q 3\n",
      "df(F, t, 2, u)\n",
      "prolong 3, Q 3\n",
      "df(F, t, y, 2)\n",
      "prolong 3, Q 3\n",
      "df(F, t, 2, x)\n",
      "prolong 3, Q 0\n",
      "df(F, t, 2, y, 2)\n",
      "prolong 3, Q 0\n",
      "df(F, t, 2, y, u_y)\n",
      "prolong 4, Q 4\n",
      "df(F, t, 2, y, u_x)\n",
      "prolong 4, Q 4\n",
      "df(F, t, 2, y, u_t)\n",
      "prolong 4, Q 4\n",
      "df(F, t, 2, y, u)\n",
      "prolong 4, Q 0\n",
      "prolong 0, Q 0\n",
      "    crit1: 0\n",
      "    crit2: 0\n",
      "     time: 1.41 sec\n",
      "    count: 36\n",
      "reduction: 626\n",
      "       HP: 2s + 6\n"
     ]
    }
   ],
   "source": [
    "LRT = Janet()\n",
    "res = ginvBlockLow([diff2poly(eq.subs({U: u})) for eq in eqs], \\\n",
    "LRT, level=1)\n",
    "print(f\"    crit1: {res[1]}\")\n",
    "print(f\"    crit2: {res[2]}\")\n",
    "print(f\"     time: {res[0]:.2f} sec\")\n",
    "print(f\"    count: {LRT.count()}\")\n",
    "print(f\"reduction: {LRT.reduction()}\")\n",
    "print(f\"       HP: {LRT.HP()}\")\n",
    "LRT.saveImage('LRT.pdf', level=1)"
   ]
  },
  {
   "cell_type": "code",
   "execution_count": 23,
   "metadata": {},
   "outputs": [
    {
     "name": "stdout",
     "output_type": "stream",
     "text": [
      "df(F, u_y, 2)\n",
      "df(F, u_x, u_y)\n",
      "df(F, u_x, 2)\n",
      "df(F, u_t, u_y)\n",
      "df(F, u_t, u_x)\n",
      "df(F, u_t, 2)\n",
      "df(F, u, u_y)\n",
      "df(F, u, u_x)\n",
      "df(F, u, u_t)\n",
      "df(F, u, 2)\n",
      "df(F, y, u_y)\n",
      "df(F, y, u_x)*(-2) + df(F, t, u_y)*(-1)\n",
      "df(F, y, u_t)\n",
      "df(F, y, u)\n",
      "df(F, y, 2) + df(F, u)*(-delta*u) + df(F, u_t)*(-delta*u_t) + df(F, u_x)*(-delta*u_x) + df(F, u_y)*(-delta*u_y) + df(F)*delta\n",
      "df(F, x)*2 + df(F, u)*u_x\n",
      "df(F, t, u_x) + df(F, u)*(-alpha)\n",
      "df(F, t, u_t)*2 + df(F, u)*(-1)\n",
      "df(F, t, u)\n",
      "df(F, t, y, u_y)\n",
      "df(F, t, x)\n",
      "df(F, t, 2, u_y)\n"
     ]
    }
   ],
   "source": [
    "for w in LRT.GB():\n",
    "    print(w.poly)"
   ]
  },
  {
   "cell_type": "code",
   "execution_count": 24,
   "metadata": {},
   "outputs": [
    {
     "name": "stdout",
     "output_type": "stream",
     "text": [
      "{1}{F}_{{u_y} {u_y}} = 0, \\\\\n",
      "{1}{F}_{{u_x} {u_y}} = 0, \\\\\n",
      "{1}{F}_{{u_x} {u_x}} = 0, \\\\\n",
      "{1}{F}_{{u_t} {u_y}} = 0, \\\\\n",
      "{1}{F}_{{u_t} {u_x}} = 0, \\\\\n",
      "{1}{F}_{{u_t} {u_t}} = 0, \\\\\n",
      "{1}{F}_{{u} {u_y}} = 0, \\\\\n",
      "{1}{F}_{{u} {u_x}} = 0, \\\\\n",
      "{1}{F}_{{u} {u_t}} = 0, \\\\\n",
      "{1}{F}_{{u} {u}} = 0, \\\\\n",
      "{1}{F}_{{y} {u_y}} = 0, \\\\\n",
      "{-2}{F}_{{y} {u_x}} + {-1}{F}_{{t} {u_y}} = 0, \\\\\n",
      "{1}{F}_{{y} {u_t}} = 0, \\\\\n",
      "{1}{F}_{{y} {u}} = 0, \\\\\n",
      "{1}{F}_{{y} {y}} + {- \\delta u}{F}_{{u}} + {- \\delta u_{t}}{F}_{{u_t}} + {- \\delta u_{x}}{F}_{{u_x}} + {- \\delta u_{y}}{F}_{{u_y}} + {\\delta}{F} = 0, \\\\\n",
      "{2}{F}_{{x}} + {u_{x}}{F}_{{u}} = 0, \\\\\n",
      "{1}{F}_{{t} {u_x}} + {- \\alpha}{F}_{{u}} = 0, \\\\\n",
      "{2}{F}_{{t} {u_t}} + {-1}{F}_{{u}} = 0, \\\\\n",
      "{1}{F}_{{t} {u}} = 0, \\\\\n",
      "{1}{F}_{{t} {y} {u_y}} = 0, \\\\\n",
      "{1}{F}_{{t} {x}} = 0, \\\\\n",
      "{1}{F}_{{t} {t} {u_y}} = 0, \\\\\n"
     ]
    }
   ],
   "source": [
    "for w in LRT.GB():\n",
    "    print(\" + \".join([f\"{{{sympy.latex(c)}}}{m.df_latex()}\" for m, c in w.poly]) + r\" = 0, \\\\\")"
   ]
  },
  {
   "cell_type": "code",
   "execution_count": 25,
   "metadata": {},
   "outputs": [
    {
     "data": {
      "image/png": "[encoded data removed]",
      "text/latex": [
       "$$u D{\\left (t,x,y \\right )} + u_{t} A{\\left (t,x,y \\right )} + u_{x} B{\\left (t,x,y \\right )} + u_{y} C{\\left (t,x,y \\right )} + E{\\left (t,x,y \\right )}$$"
      ],
      "text/plain": [
       "u⋅D(t, x, y) + uₜ⋅A(t, x, y) + uₓ⋅B(t, x, y) + u_y⋅C(t, x, y) + E(t, x, y)"
      ]
     },
     "execution_count": 25,
     "metadata": {},
     "output_type": "execute_result"
    }
   ],
   "source": [
    "T = sum(sympy.Function(i)(t, x, y)*j for i, j in zip(\\\n",
    "    ('A', 'B', 'C', 'D', 'E'),\n",
    "    (ut, ux, uy, u, 1)))\n",
    "T"
   ]
  },
  {
   "cell_type": "code",
   "execution_count": 26,
   "metadata": {},
   "outputs": [
    {
     "data": {
      "image/png": "[encoded data removed]",
      "text/latex": [
       "$$\\left [ t, \\quad x, \\quad y, \\quad u, \\quad u_{t}, \\quad u_{x}, \\quad u_{y}\\right ]$$"
      ],
      "text/plain": [
       "[t, x, y, u, uₜ, uₓ, u_y]"
      ]
     },
     "execution_count": 26,
     "metadata": {},
     "output_type": "execute_result"
    }
   ],
   "source": [
    "var"
   ]
  },
  {
   "cell_type": "raw",
   "metadata": {},
   "source": [
    "def gen_series(self, deg=5):\n",
    "    res = []\n",
    "    for f in fun:\n",
    "        r = [0 for v in var]\n",
    "        for k, v in enumerate(var):\n",
    "            for i in range(deg):\n",
    "                if not df(f, v, i).NF(self):\n",
    "                    r[k] = i\n",
    "                    break\n",
    "        l0 = []\n",
    "        print(r)\n",
    "        for k, v in enumerate(var):\n",
    "            l1 = [v**i for i in range(r[k])]\n",
    "            if not l0:\n",
    "                l0 = l1\n",
    "            else:\n",
    "                l2 = []\n",
    "                for v0 in l0:\n",
    "                    for v1 in l1:\n",
    "                        l2.append(v0*v1)\n",
    "                l0 = l2\n",
    "        dv = [v for k, v in enumerate(var) if r[k] == 0]\n",
    "        for k, v in enumerate(l0):\n",
    "            l0[k] = Function(f\"{f}{k}\")(*dv)*v if dv else Symbol(f\"{f}{k}\")*v\n",
    "        res.append(sum(l0))\n",
    "    return res\n",
    "TT = gen_series(LRT)[0]\n",
    "TT"
   ]
  },
  {
   "cell_type": "raw",
   "metadata": {},
   "source": [
    "eqs1 = []\n",
    "for w in LRT.GB():\n",
    "    eqs1.append(sum(TT.diff(*((v, d) for v, d in zip(var, m)))*c for m, c in w.poly).expand())\n",
    "eqs1"
   ]
  },
  {
   "cell_type": "code",
   "execution_count": 27,
   "metadata": {},
   "outputs": [
    {
     "data": {
      "image/png": "[encoded data removed]",
      "text/latex": [
       "$$\\left [ 0, \\quad 0, \\quad 0, \\quad 0, \\quad 0, \\quad 0, \\quad 0, \\quad 0, \\quad 0, \\quad 0, \\quad \\frac{\\partial}{\\partial y} C{\\left (t,x,y \\right )}, \\quad - 2 \\frac{\\partial}{\\partial y} B{\\left (t,x,y \\right )} - \\frac{\\partial}{\\partial t} C{\\left (t,x,y \\right )}, \\quad \\frac{\\partial}{\\partial y} A{\\left (t,x,y \\right )}, \\quad \\frac{\\partial}{\\partial y} D{\\left (t,x,y \\right )}, \\quad \\delta E{\\left (t,x,y \\right )} + u \\frac{\\partial^{2}}{\\partial y^{2}} D{\\left (t,x,y \\right )} + u_{t} \\frac{\\partial^{2}}{\\partial y^{2}} A{\\left (t,x,y \\right )} + u_{x} \\frac{\\partial^{2}}{\\partial y^{2}} B{\\left (t,x,y \\right )} + u_{y} \\frac{\\partial^{2}}{\\partial y^{2}} C{\\left (t,x,y \\right )} + \\frac{\\partial^{2}}{\\partial y^{2}} E{\\left (t,x,y \\right )}, \\quad 2 u \\frac{\\partial}{\\partial x} D{\\left (t,x,y \\right )} + 2 u_{t} \\frac{\\partial}{\\partial x} A{\\left (t,x,y \\right )} + u_{x} D{\\left (t,x,y \\right )} + 2 u_{x} \\frac{\\partial}{\\partial x} B{\\left (t,x,y \\right )} + 2 u_{y} \\frac{\\partial}{\\partial x} C{\\left (t,x,y \\right )} + 2 \\frac{\\partial}{\\partial x} E{\\left (t,x,y \\right )}, \\quad - \\alpha D{\\left (t,x,y \\right )} + \\frac{\\partial}{\\partial t} B{\\left (t,x,y \\right )}, \\quad - D{\\left (t,x,y \\right )} + 2 \\frac{\\partial}{\\partial t} A{\\left (t,x,y \\right )}, \\quad \\frac{\\partial}{\\partial t} D{\\left (t,x,y \\right )}, \\quad \\frac{\\partial^{2}}{\\partial y\\partial t} C{\\left (t,x,y \\right )}, \\quad u \\frac{\\partial^{2}}{\\partial x\\partial t} D{\\left (t,x,y \\right )} + u_{t} \\frac{\\partial^{2}}{\\partial x\\partial t} A{\\left (t,x,y \\right )} + u_{x} \\frac{\\partial^{2}}{\\partial x\\partial t} B{\\left (t,x,y \\right )} + u_{y} \\frac{\\partial^{2}}{\\partial x\\partial t} C{\\left (t,x,y \\right )} + \\frac{\\partial^{2}}{\\partial x\\partial t} E{\\left (t,x,y \\right )}, \\quad \\frac{\\partial^{2}}{\\partial t^{2}} C{\\left (t,x,y \\right )}\\right ]$$"
      ],
      "text/plain": [
       "⎡                                                                             \n",
       "⎢                              ∂                   ∂                ∂         \n",
       "⎢0, 0, 0, 0, 0, 0, 0, 0, 0, 0, ──(C(t, x, y)), - 2⋅──(B(t, x, y)) - ──(C(t, x,\n",
       "⎢                              ∂y                  ∂y               ∂t        \n",
       "⎣                                                                             \n",
       "\n",
       "                                                         2                    \n",
       "      ∂               ∂                                 ∂                    ∂\n",
       " y)), ──(A(t, x, y)), ──(D(t, x, y)), δ⋅E(t, x, y) + u⋅───(D(t, x, y)) + uₜ⋅──\n",
       "      ∂y              ∂y                                 2                    \n",
       "                                                       ∂y                   ∂y\n",
       "\n",
       "2                    2                     2                 2                \n",
       "                    ∂                     ∂                 ∂                 \n",
       "─(A(t, x, y)) + uₓ⋅───(B(t, x, y)) + u_y⋅───(C(t, x, y)) + ───(E(t, x, y)), 2⋅\n",
       "2                    2                     2                 2                \n",
       "                   ∂y                    ∂y                ∂y                 \n",
       "\n",
       "                                                                              \n",
       "  ∂                     ∂                                     ∂               \n",
       "u⋅──(D(t, x, y)) + 2⋅uₜ⋅──(A(t, x, y)) + uₓ⋅D(t, x, y) + 2⋅uₓ⋅──(B(t, x, y)) +\n",
       "  ∂x                    ∂x                                    ∂x              \n",
       "                                                                              \n",
       "\n",
       "                                                                              \n",
       "       ∂                  ∂                               ∂                   \n",
       " 2⋅u_y⋅──(C(t, x, y)) + 2⋅──(E(t, x, y)), -α⋅D(t, x, y) + ──(B(t, x, y)), -D(t\n",
       "       ∂x                 ∂x                              ∂t                  \n",
       "                                                                              \n",
       "\n",
       "                                               2                    2         \n",
       "            ∂               ∂                 ∂                    ∂          \n",
       ", x, y) + 2⋅──(A(t, x, y)), ──(D(t, x, y)), ─────(C(t, x, y)), u⋅─────(D(t, x,\n",
       "            ∂t              ∂t              ∂y ∂t                ∂x ∂t        \n",
       "                                                                              \n",
       "\n",
       "             2                      2                       2                 \n",
       "            ∂                      ∂                       ∂                  \n",
       " y)) + uₜ⋅─────(A(t, x, y)) + uₓ⋅─────(B(t, x, y)) + u_y⋅─────(C(t, x, y)) + ─\n",
       "          ∂x ∂t                  ∂x ∂t                   ∂x ∂t               ∂\n",
       "                                                                              \n",
       "\n",
       "  2                 2            ⎤\n",
       " ∂                 ∂             ⎥\n",
       "────(E(t, x, y)), ───(C(t, x, y))⎥\n",
       "x ∂t                2            ⎥\n",
       "                  ∂t             ⎦"
      ]
     },
     "execution_count": 27,
     "metadata": {},
     "output_type": "execute_result"
    }
   ],
   "source": [
    "eqs1 = []\n",
    "for w in LRT.GB():\n",
    "    eqs1.append(sum(T.diff(*((v, d) for v, d in zip(var, m)))*c for m, c in w.poly).expand())\n",
    "eqs1"
   ]
  },
  {
   "cell_type": "code",
   "execution_count": 28,
   "metadata": {},
   "outputs": [
    {
     "data": {
      "image/png": "[encoded data removed]",
      "text/latex": [
       "$$\\left [ \\frac{\\partial}{\\partial y} C{\\left (t,x,y \\right )}, \\quad - 2 \\frac{\\partial}{\\partial y} B{\\left (t,x,y \\right )} - \\frac{\\partial}{\\partial t} C{\\left (t,x,y \\right )}, \\quad \\frac{\\partial}{\\partial y} A{\\left (t,x,y \\right )}, \\quad \\frac{\\partial}{\\partial y} D{\\left (t,x,y \\right )}, \\quad \\delta E{\\left (t,x,y \\right )} + \\frac{\\partial^{2}}{\\partial y^{2}} E{\\left (t,x,y \\right )}, \\quad \\frac{\\partial^{2}}{\\partial y^{2}} D{\\left (t,x,y \\right )}, \\quad \\frac{\\partial^{2}}{\\partial y^{2}} C{\\left (t,x,y \\right )}, \\quad \\frac{\\partial^{2}}{\\partial y^{2}} B{\\left (t,x,y \\right )}, \\quad \\frac{\\partial^{2}}{\\partial y^{2}} A{\\left (t,x,y \\right )}, \\quad 2 \\frac{\\partial}{\\partial x} E{\\left (t,x,y \\right )}, \\quad 2 \\frac{\\partial}{\\partial x} D{\\left (t,x,y \\right )}, \\quad 2 \\frac{\\partial}{\\partial x} C{\\left (t,x,y \\right )}, \\quad D{\\left (t,x,y \\right )} + 2 \\frac{\\partial}{\\partial x} B{\\left (t,x,y \\right )}, \\quad 2 \\frac{\\partial}{\\partial x} A{\\left (t,x,y \\right )}, \\quad - \\alpha D{\\left (t,x,y \\right )} + \\frac{\\partial}{\\partial t} B{\\left (t,x,y \\right )}, \\quad - D{\\left (t,x,y \\right )} + 2 \\frac{\\partial}{\\partial t} A{\\left (t,x,y \\right )}, \\quad \\frac{\\partial}{\\partial t} D{\\left (t,x,y \\right )}, \\quad \\frac{\\partial^{2}}{\\partial y\\partial t} C{\\left (t,x,y \\right )}, \\quad \\frac{\\partial^{2}}{\\partial x\\partial t} E{\\left (t,x,y \\right )}, \\quad \\frac{\\partial^{2}}{\\partial x\\partial t} D{\\left (t,x,y \\right )}, \\quad \\frac{\\partial^{2}}{\\partial x\\partial t} C{\\left (t,x,y \\right )}, \\quad \\frac{\\partial^{2}}{\\partial x\\partial t} B{\\left (t,x,y \\right )}, \\quad \\frac{\\partial^{2}}{\\partial x\\partial t} A{\\left (t,x,y \\right )}, \\quad \\frac{\\partial^{2}}{\\partial t^{2}} C{\\left (t,x,y \\right )}\\right ]$$"
      ],
      "text/plain": [
       "⎡                                                                             \n",
       "⎢∂                   ∂                ∂               ∂               ∂       \n",
       "⎢──(C(t, x, y)), - 2⋅──(B(t, x, y)) - ──(C(t, x, y)), ──(A(t, x, y)), ──(D(t, \n",
       "⎢∂y                  ∂y               ∂t              ∂y              ∂y      \n",
       "⎣                                                                             \n",
       "\n",
       "                         2                2                2                2 \n",
       "                        ∂                ∂                ∂                ∂  \n",
       "x, y)), δ⋅E(t, x, y) + ───(E(t, x, y)), ───(D(t, x, y)), ───(C(t, x, y)), ───(\n",
       "                         2                2                2                2 \n",
       "                       ∂y               ∂y               ∂y               ∂y  \n",
       "\n",
       "               2                                                              \n",
       "              ∂                 ∂                 ∂                 ∂         \n",
       "B(t, x, y)), ───(A(t, x, y)), 2⋅──(E(t, x, y)), 2⋅──(D(t, x, y)), 2⋅──(C(t, x,\n",
       "               2                ∂x                ∂x                ∂x        \n",
       "             ∂y                                                               \n",
       "\n",
       "                                                                              \n",
       "                     ∂                 ∂                               ∂      \n",
       " y)), D(t, x, y) + 2⋅──(B(t, x, y)), 2⋅──(A(t, x, y)), -α⋅D(t, x, y) + ──(B(t,\n",
       "                     ∂x                ∂x                              ∂t     \n",
       "                                                                              \n",
       "\n",
       "                                                            2                 \n",
       "                         ∂               ∂                 ∂                  \n",
       " x, y)), -D(t, x, y) + 2⋅──(A(t, x, y)), ──(D(t, x, y)), ─────(C(t, x, y)), ──\n",
       "                         ∂t              ∂t              ∂y ∂t              ∂x\n",
       "                                                                              \n",
       "\n",
       " 2                  2                  2                  2                  2\n",
       "∂                  ∂                  ∂                  ∂                  ∂ \n",
       "───(E(t, x, y)), ─────(D(t, x, y)), ─────(C(t, x, y)), ─────(B(t, x, y)), ────\n",
       " ∂t              ∂x ∂t              ∂x ∂t              ∂x ∂t              ∂x ∂\n",
       "                                                                              \n",
       "\n",
       "                 2            ⎤\n",
       "                ∂             ⎥\n",
       "─(A(t, x, y)), ───(C(t, x, y))⎥\n",
       "t                2            ⎥\n",
       "               ∂t             ⎦"
      ]
     },
     "execution_count": 28,
     "metadata": {},
     "output_type": "execute_result"
    }
   ],
   "source": [
    "eqs2 = to_eqs(eqs1, [ut, ux, uy, u])\n",
    "eqs2"
   ]
  },
  {
   "cell_type": "code",
   "execution_count": 29,
   "metadata": {},
   "outputs": [
    {
     "name": "stdout",
     "output_type": "stream",
     "text": [
      "C_{y} = 0, \\\\\n",
      "- 2 B_{y} - C_{t} = 0, \\\\\n",
      "A_{y} = 0, \\\\\n",
      "D_{y} = 0, \\\\\n",
      "E \\delta + E_{yy} = 0, \\\\\n",
      "D_{yy} = 0, \\\\\n",
      "C_{yy} = 0, \\\\\n",
      "B_{yy} = 0, \\\\\n",
      "A_{yy} = 0, \\\\\n",
      "2 E_{x} = 0, \\\\\n",
      "2 D_{x} = 0, \\\\\n",
      "2 C_{x} = 0, \\\\\n",
      "2 B_{x} + D = 0, \\\\\n",
      "2 A_{x} = 0, \\\\\n",
      "B_{t} - D \\alpha = 0, \\\\\n",
      "2 A_{t} - D = 0, \\\\\n",
      "D_{t} = 0, \\\\\n",
      "C_{ty} = 0, \\\\\n",
      "E_{tx} = 0, \\\\\n",
      "D_{tx} = 0, \\\\\n",
      "C_{tx} = 0, \\\\\n",
      "B_{tx} = 0, \\\\\n",
      "A_{tx} = 0, \\\\\n",
      "C_{tt} = 0, \\\\\n"
     ]
    }
   ],
   "source": [
    "dct = dict((Function(i)(t, x, y), i) for i in ('A', 'B', 'C', 'D', 'E'))\n",
    "for eq in eqs2:\n",
    "    print(sympy.latex(compact(eq)) + r\" = 0, \\\\\")"
   ]
  },
  {
   "cell_type": "code",
   "execution_count": 30,
   "metadata": {},
   "outputs": [
    {
     "name": "stdout",
     "output_type": "stream",
     "text": [
      "prolong 0, Q 1\n",
      "df(A, y)\n",
      "prolong 0, Q 1\n",
      "df(C, y)\n",
      "prolong 0, Q 1\n",
      "df(D, y)\n",
      "prolong 0, Q 1\n",
      "df(A, x)\n",
      "prolong 0, Q 1\n",
      "df(B, x)\n",
      "prolong 0, Q 1\n",
      "df(C, x)\n",
      "prolong 0, Q 1\n",
      "df(D, x)\n",
      "prolong 0, Q 1\n",
      "df(E, x)\n",
      "prolong 0, Q 1\n",
      "df(A, t)\n",
      "prolong 0, Q 1\n",
      "df(B, t)\n",
      "prolong 0, Q 1\n",
      "df(C, t)\n",
      "prolong 0, Q 1\n",
      "df(D, t)\n",
      "prolong 0, Q 2\n",
      "df(B, y, 2)\n",
      "prolong 0, Q 2\n",
      "df(E, y, 2)\n",
      "prolong 1, Q 2\n",
      "prolong 2, Q 0\n",
      "prolong 0, Q 0\n",
      "    crit1: 0\n",
      "    crit2: 0\n",
      "     time: 0.04 sec\n",
      "    count: 14\n",
      "reduction: 63\n",
      "       HP: 2s + 6\n"
     ]
    }
   ],
   "source": [
    "var = ['t', 'x', 'y']\n",
    "fun = ['A', 'B', 'C', 'D', 'E']\n",
    "Monom.init(var, fun)\n",
    "df = PolyDiff.df\n",
    "diff2poly = PolyDiff.diff2poly\n",
    "var, fun = PolyDiff.init()\n",
    "t, x, y = var\n",
    "A, B, C, D, E = fun\n",
    "\n",
    "LRT1 = Forest(Janet)\n",
    "res = ginvBlockLow([diff2poly(eq) for eq in eqs2 if eq], \\\n",
    "LRT1, level=1)\n",
    "print(f\"    crit1: {res[1]}\")\n",
    "print(f\"    crit2: {res[2]}\")\n",
    "print(f\"     time: {res[0]:.2f} sec\")\n",
    "print(f\"    count: {LRT1.count()}\")\n",
    "print(f\"reduction: {LRT1.reduction()}\")\n",
    "print(f\"       HP: {LRT1.HP()}\")"
   ]
  },
  {
   "cell_type": "code",
   "execution_count": 31,
   "metadata": {},
   "outputs": [
    {
     "name": "stdout",
     "output_type": "stream",
     "text": [
      "df(A, y)\n",
      "df(A, x)\n",
      "df(A, t)*2 + df(D)*(-1)\n",
      "df(B, y, 2)\n",
      "df(B, x)*2 + df(D)\n",
      "df(B, t) + df(D)*(-alpha)\n",
      "df(C, y)\n",
      "df(C, x)\n",
      "df(C, t)*(-1) + df(B, y)*(-2)\n",
      "df(D, y)\n",
      "df(D, x)\n",
      "df(D, t)\n",
      "df(E, y, 2) + df(E)*delta\n",
      "df(E, x)\n"
     ]
    }
   ],
   "source": [
    "for w in LRT1.GB():\n",
    "    print(w.poly)"
   ]
  },
  {
   "cell_type": "code",
   "execution_count": 32,
   "metadata": {},
   "outputs": [
    {
     "name": "stdout",
     "output_type": "stream",
     "text": [
      "{1}{A}_{{y}} = 0, \\\\\n",
      "{1}{A}_{{x}} = 0, \\\\\n",
      "{2}{A}_{{t}} + {-1}{D} = 0, \\\\\n",
      "{1}{B}_{{y} {y}} = 0, \\\\\n",
      "{2}{B}_{{x}} + {1}{D} = 0, \\\\\n",
      "{1}{B}_{{t}} + {- \\alpha}{D} = 0, \\\\\n",
      "{1}{C}_{{y}} = 0, \\\\\n",
      "{1}{C}_{{x}} = 0, \\\\\n",
      "{-1}{C}_{{t}} + {-2}{B}_{{y}} = 0, \\\\\n",
      "{1}{D}_{{y}} = 0, \\\\\n",
      "{1}{D}_{{x}} = 0, \\\\\n",
      "{1}{D}_{{t}} = 0, \\\\\n",
      "{1}{E}_{{y} {y}} + {\\delta}{E} = 0, \\\\\n",
      "{1}{E}_{{x}} = 0, \\\\\n"
     ]
    }
   ],
   "source": [
    "for w in LRT1.GB():\n",
    "    print(\" + \".join([f\"{{{sympy.latex(c)}}}{m.df_latex()}\" for m, c in w.poly]) + r\" = 0, \\\\\")"
   ]
  },
  {
   "cell_type": "code",
   "execution_count": 33,
   "metadata": {},
   "outputs": [
    {
     "name": "stdout",
     "output_type": "stream",
     "text": [
      "df(A, t, 2)\n",
      "df(A, x)\n",
      "df(A, y)\n",
      "df(B, t, 2)\n",
      "df(B, x, 2)\n",
      "df(B, y, 2)\n",
      "df(C, t, 2)\n",
      "df(C, x)\n",
      "df(C, y)\n",
      "df(D, t)\n",
      "df(D, x)\n",
      "df(D, y)\n",
      "df(E, x)\n"
     ]
    }
   ],
   "source": [
    "for f in fun:\n",
    "    for v in var:\n",
    "        for i in range(3):\n",
    "            if not df(f, v, i).NF(LRT1):\n",
    "                print(df(f, v, i))\n",
    "                break"
   ]
  },
  {
   "cell_type": "code",
   "execution_count": 34,
   "metadata": {},
   "outputs": [
    {
     "data": {
      "image/png": "[encoded data removed]",
      "text/latex": [
       "$$\\left [ A_{0} + A_{1} t, \\quad B_{0} + B_{1} t + B_{2} x + B_{3} y + B_{4} t x + B_{5} t y + B_{6} x y, \\quad C_{0} + C_{1} t + C_{2} y + C_{3} t y, \\quad D_{0}, \\quad \\operatorname{E_{0}}{\\left (t,y \\right )}\\right ]$$"
      ],
      "text/plain": [
       "[A₀ + A₁⋅t, B₀ + B₁⋅t + B₂⋅x + B₃⋅y + B₄⋅t⋅x + B₅⋅t⋅y + B₆⋅x⋅y, C₀ + C₁⋅t + C₂\n",
       "⋅y + C₃⋅t⋅y, D₀, E₀(t, y)]"
      ]
     },
     "execution_count": 34,
     "metadata": {},
     "output_type": "execute_result"
    }
   ],
   "source": [
    "T1 = [\\\n",
    "sympy.Symbol('A0') + sympy.Symbol('A1')*t, \n",
    "sympy.Symbol('B0') + sympy.Symbol('B1')*t + sympy.Symbol('B2')*x + sympy.Symbol('B3')*y\\\n",
    "      + sympy.Symbol('B4')*t*x + sympy.Symbol('B5')*t*y + sympy.Symbol('B6')*x*y,\n",
    "sympy.Symbol('C0') + sympy.Symbol('C1')*t + sympy.Symbol('C2')*y + sympy.Symbol('C3')*t*y,\n",
    "sympy.Symbol('D0'),\n",
    "sympy.Function('E0')(t, y) if dl else sympy.Function('E0')(t) + sympy.Function('E0')(t)*y]\n",
    "T1"
   ]
  },
  {
   "cell_type": "code",
   "execution_count": 35,
   "metadata": {},
   "outputs": [
    {
     "data": {
      "image/png": "[encoded data removed]",
      "text/latex": [
       "$$\\left [ 0, \\quad 0, \\quad 2 A_{1} - D_{0}, \\quad 0, \\quad 2 B_{2} + 2 B_{4} t + 2 B_{6} y + D_{0}, \\quad B_{1} + B_{4} x + B_{5} y - D_{0} \\alpha, \\quad C_{2} + C_{3} t, \\quad 0, \\quad - 2 B_{3} - 2 B_{5} t - 2 B_{6} x - C_{1} - C_{3} y, \\quad 0, \\quad 0, \\quad 0, \\quad \\delta \\operatorname{E_{0}}{\\left (t,y \\right )} + \\frac{\\partial^{2}}{\\partial y^{2}} \\operatorname{E_{0}}{\\left (t,y \\right )}, \\quad 0\\right ]$$"
      ],
      "text/plain": [
       "⎡                                                                             \n",
       "⎢                                                                             \n",
       "⎢0, 0, 2⋅A₁ - D₀, 0, 2⋅B₂ + 2⋅B₄⋅t + 2⋅B₆⋅y + D₀, B₁ + B₄⋅x + B₅⋅y - D₀⋅α, C₂ \n",
       "⎢                                                                             \n",
       "⎣                                                                             \n",
       "\n",
       "                                                                        2     \n",
       "                                                                       ∂      \n",
       "+ C₃⋅t, 0, -2⋅B₃ - 2⋅B₅⋅t - 2⋅B₆⋅x - C₁ - C₃⋅y, 0, 0, 0, δ⋅E₀(t, y) + ───(E₀(t\n",
       "                                                                        2     \n",
       "                                                                      ∂y      \n",
       "\n",
       "        ⎤\n",
       "        ⎥\n",
       ", y)), 0⎥\n",
       "        ⎥\n",
       "        ⎦"
      ]
     },
     "execution_count": 35,
     "metadata": {},
     "output_type": "execute_result"
    }
   ],
   "source": [
    "eqs3 = []\n",
    "for w in LRT1.GB():\n",
    "    eqs3.append(sum(T1[m.position()].diff(*((v, d) for v, d in zip(var, m)))*c for m, c in w.poly).expand())\n",
    "eqs3"
   ]
  },
  {
   "cell_type": "code",
   "execution_count": 36,
   "metadata": {},
   "outputs": [
    {
     "data": {
      "image/png": "[encoded data removed]",
      "text/latex": [
       "$$\\left [ 2 A_{1} - D_{0}, \\quad 2 B_{2} + D_{0}, \\quad 2 B_{6}, \\quad 2 B_{4}, \\quad B_{1} - D_{0} \\alpha, \\quad B_{5}, \\quad B_{4}, \\quad C_{2}, \\quad C_{3}, \\quad - 2 B_{3} - C_{1}, \\quad - C_{3}, \\quad - 2 B_{6}, \\quad - 2 B_{5}\\right ]$$"
      ],
      "text/plain": [
       "[2⋅A₁ - D₀, 2⋅B₂ + D₀, 2⋅B₆, 2⋅B₄, B₁ - D₀⋅α, B₅, B₄, C₂, C₃, -2⋅B₃ - C₁, -C₃,\n",
       " -2⋅B₆, -2⋅B₅]"
      ]
     },
     "execution_count": 36,
     "metadata": {},
     "output_type": "execute_result"
    }
   ],
   "source": [
    "eqs4 = to_eqs(eqs3[:-2], [t, x, y])\n",
    "eqs4"
   ]
  },
  {
   "cell_type": "code",
   "execution_count": 37,
   "metadata": {},
   "outputs": [
    {
     "data": {
      "image/png": "[encoded data removed]",
      "text/latex": [
       "$$\\left \\{ A_{1} : \\frac{D_{0}}{2}, \\quad B_{1} : D_{0} \\alpha, \\quad B_{2} : - \\frac{D_{0}}{2}, \\quad B_{3} : - \\frac{C_{1}}{2}, \\quad B_{4} : 0, \\quad B_{5} : 0, \\quad B_{6} : 0, \\quad C_{2} : 0, \\quad C_{3} : 0\\right \\}$$"
      ],
      "text/plain": [
       "⎧    D₀                -D₀       -C₁                                    ⎫\n",
       "⎨A₁: ──, B₁: D₀⋅α, B₂: ────, B₃: ────, B₄: 0, B₅: 0, B₆: 0, C₂: 0, C₃: 0⎬\n",
       "⎩    2                  2         2                                     ⎭"
      ]
     },
     "execution_count": 37,
     "metadata": {},
     "output_type": "execute_result"
    }
   ],
   "source": [
    "if a:\n",
    "    s4 = sympy.solve(eqs4)[0]\n",
    "else:\n",
    "    s4 = sympy.solve(eqs4)\n",
    "s4"
   ]
  },
  {
   "cell_type": "code",
   "execution_count": 38,
   "metadata": {},
   "outputs": [
    {
     "data": {
      "image/png": "[encoded data removed]",
      "text/latex": [
       "$$\\left [ A_{0} + \\frac{D_{0} t}{2}, \\quad B_{0} - \\frac{C_{1} y}{2} + D_{0} \\alpha t - \\frac{D_{0} x}{2}, \\quad C_{0} + C_{1} t, \\quad D_{0}, \\quad \\operatorname{E_{0}}{\\left (t,y \\right )}\\right ]$$"
      ],
      "text/plain": [
       "⎡     D₀⋅t       C₁⋅y            D₀⋅x                         ⎤\n",
       "⎢A₀ + ────, B₀ - ──── + D₀⋅α⋅t - ────, C₀ + C₁⋅t, D₀, E₀(t, y)⎥\n",
       "⎣      2          2               2                           ⎦"
      ]
     },
     "execution_count": 38,
     "metadata": {},
     "output_type": "execute_result"
    }
   ],
   "source": [
    "T2 = [eq.subs(s4).expand() for eq in T1]\n",
    "T2"
   ]
  },
  {
   "cell_type": "code",
   "execution_count": 39,
   "metadata": {},
   "outputs": [
    {
     "data": {
      "image/png": "[encoded data removed]",
      "text/latex": [
       "$$A_{0} u_{t} + B_{0} u_{x} + C_{0} u_{y} + C_{1} t u_{y} - \\frac{C_{1} u_{x} y}{2} + D_{0} \\alpha t u_{x} + \\frac{D_{0} t u_{t}}{2} + D_{0} u - \\frac{D_{0} u_{x} x}{2} + \\operatorname{E_{0}}{\\left (t,y \\right )}$$"
      ],
      "text/plain": [
       "                                    C₁⋅uₓ⋅y               D₀⋅t⋅uₜ          D₀⋅\n",
       "A₀⋅uₜ + B₀⋅uₓ + C₀⋅u_y + C₁⋅t⋅u_y - ─────── + D₀⋅α⋅t⋅uₓ + ─────── + D₀⋅u - ───\n",
       "                                       2                     2                \n",
       "\n",
       "uₓ⋅x           \n",
       "──── + E₀(t, y)\n",
       "2              "
      ]
     },
     "execution_count": 39,
     "metadata": {},
     "output_type": "execute_result"
    }
   ],
   "source": [
    "T3 = ut*T2[0] + ux*T2[1] + uy*T2[2] + u*T2[3] + T2[4]\n",
    "T3 = T3.expand()\n",
    "T3 "
   ]
  },
  {
   "cell_type": "code",
   "execution_count": 40,
   "metadata": {},
   "outputs": [
    {
     "name": "stdout",
     "output_type": "stream",
     "text": [
      "A_{0} u_{t} + B_{0} u_{x} + C_{0} u_{y} + C_{1} t u_{y} - \\frac{C_{1} u_{x} y}{2} + D_{0} \\alpha t u_{x} + \\frac{D_{0} t u_{t}}{2} + D_{0} u - \\frac{D_{0} u_{x} x}{2} + \\operatorname{E_{0}}{\\left (t,y \\right )}\n"
     ]
    }
   ],
   "source": [
    "print(sympy.latex(T3))"
   ]
  },
  {
   "cell_type": "code",
   "execution_count": 41,
   "metadata": {},
   "outputs": [
    {
     "name": "stdout",
     "output_type": "stream",
     "text": [
      "[u_t, u_x, u_y, t*u_y - u_x*y/2, alpha*t*u_x + t*u_t/2 + u - u_x*x/2]\n"
     ]
    },
    {
     "data": {
      "image/png": "[encoded data removed]",
      "text/latex": [
       "$$\\left [ u_{t}, \\quad u_{x}, \\quad u_{y}, \\quad t u_{y} - \\frac{u_{x} y}{2}, \\quad \\alpha t u_{x} + \\frac{t u_{t}}{2} + u - \\frac{u_{x} x}{2}\\right ]$$"
      ],
      "text/plain": [
       "⎡                     uₓ⋅y           t⋅uₜ       uₓ⋅x⎤\n",
       "⎢uₜ, uₓ, u_y, t⋅u_y - ────, α⋅t⋅uₓ + ──── + u - ────⎥\n",
       "⎣                      2              2          2  ⎦"
      ]
     },
     "execution_count": 41,
     "metadata": {},
     "output_type": "execute_result"
    }
   ],
   "source": [
    "if a or dl:\n",
    "    T4 = [T3.coeff(v) for v in (Symbol(i) for i in 'A0, B0, C0, C1, D0'.split(\", \"))]\n",
    "else:\n",
    "    T4 = [T3.coeff(v) for v in (Symbol(i) for i in 'A0, B0, B3, C0, C2, D0'.split(\", \"))]\n",
    "print(T4)\n",
    "T4"
   ]
  },
  {
   "cell_type": "code",
   "execution_count": 42,
   "metadata": {},
   "outputs": [
    {
     "name": "stdout",
     "output_type": "stream",
     "text": [
      "\\left [ u_{t}, \\quad u_{x}, \\quad u_{y}, \\quad t u_{y} - \\frac{u_{x} y}{2}, \\quad \\alpha t u_{x} + \\frac{t u_{t}}{2} + u - \\frac{u_{x} x}{2}\\right ]\n"
     ]
    }
   ],
   "source": [
    "print(sympy.latex(T4))"
   ]
  },
  {
   "cell_type": "code",
   "execution_count": 43,
   "metadata": {},
   "outputs": [
    {
     "data": {
      "image/png": "[encoded data removed]",
      "text/latex": [
       "$$\\frac{t \\frac{\\partial}{\\partial t} u{\\left (t,x \\right )}}{2} - \\frac{x \\frac{\\partial}{\\partial x} u{\\left (t,x \\right )}}{2} + u{\\left (t,x \\right )}$$"
      ],
      "text/plain": [
       "  ∂               ∂                    \n",
       "t⋅──(u(t, x))   x⋅──(u(t, x))          \n",
       "  ∂t              ∂x                   \n",
       "───────────── - ───────────── + u(t, x)\n",
       "      2               2                "
      ]
     },
     "execution_count": 43,
     "metadata": {},
     "output_type": "execute_result"
    }
   ],
   "source": [
    "u = Function('u')(t, x)\n",
    "eq = t*u.diff(t)/2 + u - u.diff(x)*x/2\n",
    "eq"
   ]
  },
  {
   "cell_type": "code",
   "execution_count": 44,
   "metadata": {},
   "outputs": [
    {
     "data": {
      "image/png": "[encoded data removed]",
      "text/latex": [
       "$$u{\\left (t,x \\right )} = \\frac{F{\\left (t x \\right )}}{t^{2}}$$"
      ],
      "text/plain": [
       "          F(t⋅x)\n",
       "u(t, x) = ──────\n",
       "             2  \n",
       "            t   "
      ]
     },
     "execution_count": 44,
     "metadata": {},
     "output_type": "execute_result"
    }
   ],
   "source": [
    "pdsolve(eq)"
   ]
  },
  {
   "cell_type": "code",
   "execution_count": 45,
   "metadata": {},
   "outputs": [
    {
     "data": {
      "image/png": "[encoded data removed]",
      "text/latex": [
       "$$\\frac{u{\\left (t x,y \\right )}}{t^{2}}$$"
      ],
      "text/plain": [
       "u(t⋅x, y)\n",
       "─────────\n",
       "     2   \n",
       "    t    "
      ]
     },
     "execution_count": 45,
     "metadata": {},
     "output_type": "execute_result"
    }
   ],
   "source": [
    "xi1 = Symbol('xi1')\n",
    "u = Function('u')(t*x, y)/t**2\n",
    "u"
   ]
  },
  {
   "cell_type": "code",
   "execution_count": 46,
   "metadata": {},
   "outputs": [
    {
     "data": {
      "text/latex": [
       "$$\\frac{\\delta u{\\left (t x,y \\right )} + t x \\left. \\frac{\\partial^{2}}{\\partial \\xi_{1}^{2}} u{\\left (\\xi_{1},y \\right )} \\right|_{\\substack{ \\xi_{1}=t x }} + \\frac{\\partial^{2}}{\\partial y^{2}} u{\\left (t x,y \\right )} + \\left. \\frac{\\partial}{\\partial \\xi_{1}} u{\\left (\\xi_{1},y \\right )} \\right|_{\\substack{ \\xi_{1}=t x }}^{2} \\left. \\frac{\\partial^{2}}{\\partial \\xi_{1}^{2}} u{\\left (\\xi_{1},y \\right )} \\right|_{\\substack{ \\xi_{1}=t x }} - \\left. \\frac{\\partial}{\\partial \\xi_{1}} u{\\left (\\xi_{1},y \\right )} \\right|_{\\substack{ \\xi_{1}=t x }}}{t^{2}}$$"
      ],
      "text/plain": [
       "                  ⎛  2           ⎞│           2                               \n",
       "                  ⎜ ∂            ⎟│          ∂               ⎛ ∂           ⎞│ \n",
       "δ⋅u(t⋅x, y) + t⋅x⋅⎜────(u(ξ₁, y))⎟│       + ───(u(t⋅x, y)) + ⎜───(u(ξ₁, y))⎟│ \n",
       "                  ⎜   2          ⎟│           2              ⎝∂ξ₁          ⎠│ξ\n",
       "                  ⎝∂ξ₁           ⎠│ξ₁=t⋅x   ∂y                                \n",
       "──────────────────────────────────────────────────────────────────────────────\n",
       "                                                                   2          \n",
       "                                                                  t           \n",
       "\n",
       "     2 ⎛  2           ⎞│                               \n",
       "       ⎜ ∂            ⎟│         ⎛ ∂           ⎞│      \n",
       "      ⋅⎜────(u(ξ₁, y))⎟│       - ⎜───(u(ξ₁, y))⎟│      \n",
       "₁=t⋅x  ⎜   2          ⎟│         ⎝∂ξ₁          ⎠│ξ₁=t⋅x\n",
       "       ⎝∂ξ₁           ⎠│ξ₁=t⋅x                         \n",
       "───────────────────────────────────────────────────────\n",
       "                                                       \n",
       "                                                       "
      ]
     },
     "execution_count": 46,
     "metadata": {},
     "output_type": "execute_result"
    }
   ],
   "source": [
    "r = sympy.simplify(u.diff(t, x) + u.diff(x, 2)*u.diff(x)**2 + u.diff(y, 2) + dl*u)\n",
    "r"
   ]
  },
  {
   "cell_type": "code",
   "execution_count": 47,
   "metadata": {},
   "outputs": [
    {
     "data": {
      "image/png": "[encoded data removed]",
      "text/latex": [
       "$$\\delta u{\\left (\\xi_{1},y \\right )} + \\xi_{1} \\frac{\\partial^{2}}{\\partial \\xi_{1}^{2}} u{\\left (\\xi_{1},y \\right )} + \\left(\\frac{\\partial}{\\partial \\xi_{1}} u{\\left (\\xi_{1},y \\right )}\\right)^{2} \\frac{\\partial^{2}}{\\partial \\xi_{1}^{2}} u{\\left (\\xi_{1},y \\right )} - \\frac{\\partial}{\\partial \\xi_{1}} u{\\left (\\xi_{1},y \\right )} + \\frac{\\partial^{2}}{\\partial y^{2}} u{\\left (\\xi_{1},y \\right )}$$"
      ],
      "text/plain": [
       "                  2                             2   2                         \n",
       "                 ∂               ⎛ ∂           ⎞   ∂                ∂         \n",
       "δ⋅u(ξ₁, y) + ξ₁⋅────(u(ξ₁, y)) + ⎜───(u(ξ₁, y))⎟ ⋅────(u(ξ₁, y)) - ───(u(ξ₁, y\n",
       "                   2             ⎝∂ξ₁          ⎠     2             ∂ξ₁        \n",
       "                ∂ξ₁                               ∂ξ₁                         \n",
       "\n",
       "       2          \n",
       "      ∂           \n",
       ")) + ───(u(ξ₁, y))\n",
       "       2          \n",
       "     ∂y           "
      ]
     },
     "execution_count": 47,
     "metadata": {},
     "output_type": "execute_result"
    }
   ],
   "source": [
    "r.args[1].subs({t: xi1/x}).doit()"
   ]
  },
  {
   "cell_type": "code",
   "execution_count": 48,
   "metadata": {},
   "outputs": [
    {
     "data": {
      "image/png": "[encoded data removed]",
      "text/latex": [
       "$$\\alpha t \\frac{\\partial}{\\partial x} u{\\left (t,x \\right )} + \\frac{t \\frac{\\partial}{\\partial t} u{\\left (t,x \\right )}}{2} - \\frac{x \\frac{\\partial}{\\partial x} u{\\left (t,x \\right )}}{2} + u{\\left (t,x \\right )}$$"
      ],
      "text/plain": [
       "                    ∂               ∂                    \n",
       "                  t⋅──(u(t, x))   x⋅──(u(t, x))          \n",
       "    ∂               ∂t              ∂x                   \n",
       "α⋅t⋅──(u(t, x)) + ───────────── - ───────────── + u(t, x)\n",
       "    ∂x                  2               2                "
      ]
     },
     "execution_count": 48,
     "metadata": {},
     "output_type": "execute_result"
    }
   ],
   "source": [
    "a = Symbol('alpha')\n",
    "u = Function('u')(t, x)\n",
    "eq = a*t*u.diff(x) + t*u.diff(t)/2 + u - u.diff(x)*x/2\n",
    "eq"
   ]
  },
  {
   "cell_type": "code",
   "execution_count": 49,
   "metadata": {},
   "outputs": [
    {
     "data": {
      "image/png": "[encoded data removed]",
      "text/latex": [
       "$$u{\\left (t,x \\right )} = \\frac{F{\\left (t \\left(- \\alpha t + x\\right) \\right )}}{t^{2}}$$"
      ],
      "text/plain": [
       "          F(t⋅(-α⋅t + x))\n",
       "u(t, x) = ───────────────\n",
       "                  2      \n",
       "                 t       "
      ]
     },
     "execution_count": 49,
     "metadata": {},
     "output_type": "execute_result"
    }
   ],
   "source": [
    "pdsolve(eq)"
   ]
  },
  {
   "cell_type": "code",
   "execution_count": 50,
   "metadata": {},
   "outputs": [
    {
     "data": {
      "image/png": "[encoded data removed]",
      "text/latex": [
       "$$\\frac{u{\\left (t \\left(- \\alpha t + x\\right),y \\right )}}{t^{2}}$$"
      ],
      "text/plain": [
       "u(t⋅(-α⋅t + x), y)\n",
       "──────────────────\n",
       "         2        \n",
       "        t         "
      ]
     },
     "execution_count": 50,
     "metadata": {},
     "output_type": "execute_result"
    }
   ],
   "source": [
    "u = Function('u')(t*(-a*t + x), y)/t**2\n",
    "u"
   ]
  },
  {
   "cell_type": "code",
   "execution_count": 51,
   "metadata": {},
   "outputs": [
    {
     "data": {
      "text/latex": [
       "$$\\frac{- \\alpha t^{2} \\left. \\frac{\\partial^{2}}{\\partial \\xi_{1}^{2}} u{\\left (\\xi_{1},y \\right )} \\right|_{\\substack{ \\xi_{1}=t \\left(- \\alpha t + x\\right) }} + \\delta u{\\left (t \\left(- \\alpha t + x\\right),y \\right )} + t x \\left. \\frac{\\partial^{2}}{\\partial \\xi_{1}^{2}} u{\\left (\\xi_{1},y \\right )} \\right|_{\\substack{ \\xi_{1}=t \\left(- \\alpha t + x\\right) }} + \\frac{\\partial^{2}}{\\partial y^{2}} u{\\left (t \\left(- \\alpha t + x\\right),y \\right )} + \\left. \\frac{\\partial}{\\partial \\xi_{1}} u{\\left (\\xi_{1},y \\right )} \\right|_{\\substack{ \\xi_{1}=t \\left(- \\alpha t + x\\right) }}^{2} \\left. \\frac{\\partial^{2}}{\\partial \\xi_{1}^{2}} u{\\left (\\xi_{1},y \\right )} \\right|_{\\substack{ \\xi_{1}=t \\left(- \\alpha t + x\\right) }} - \\left. \\frac{\\partial}{\\partial \\xi_{1}} u{\\left (\\xi_{1},y \\right )} \\right|_{\\substack{ \\xi_{1}=t \\left(- \\alpha t + x\\right) }}}{t^{2}}$$"
      ],
      "text/plain": [
       "       ⎛  2           ⎞│                                             ⎛  2     \n",
       "     2 ⎜ ∂            ⎟│                                             ⎜ ∂      \n",
       "- α⋅t ⋅⎜────(u(ξ₁, y))⎟│                + δ⋅u(t⋅(-α⋅t + x), y) + t⋅x⋅⎜────(u(ξ\n",
       "       ⎜   2          ⎟│                                             ⎜   2    \n",
       "       ⎝∂ξ₁           ⎠│ξ₁=t⋅(-α⋅t + x)                              ⎝∂ξ₁     \n",
       "──────────────────────────────────────────────────────────────────────────────\n",
       "                                                                              \n",
       "                                                                              \n",
       "\n",
       "      ⎞│                    2                                                 \n",
       "      ⎟│                   ∂                        ⎛ ∂           ⎞│          \n",
       "₁, y))⎟│                + ───(u(t⋅(-α⋅t + x), y)) + ⎜───(u(ξ₁, y))⎟│          \n",
       "      ⎟│                    2                       ⎝∂ξ₁          ⎠│ξ₁=t⋅(-α⋅t\n",
       "      ⎠│ξ₁=t⋅(-α⋅t + x)   ∂y                                                  \n",
       "──────────────────────────────────────────────────────────────────────────────\n",
       "                                     2                                        \n",
       "                                    t                                         \n",
       "\n",
       "     2 ⎛  2           ⎞│                                                 \n",
       "       ⎜ ∂            ⎟│                  ⎛ ∂           ⎞│               \n",
       "      ⋅⎜────(u(ξ₁, y))⎟│                - ⎜───(u(ξ₁, y))⎟│               \n",
       " + x)  ⎜   2          ⎟│                  ⎝∂ξ₁          ⎠│ξ₁=t⋅(-α⋅t + x)\n",
       "       ⎝∂ξ₁           ⎠│ξ₁=t⋅(-α⋅t + x)                                  \n",
       "─────────────────────────────────────────────────────────────────────────\n",
       "                                                                         \n",
       "                                                                         "
      ]
     },
     "execution_count": 51,
     "metadata": {},
     "output_type": "execute_result"
    }
   ],
   "source": [
    "r = sympy.simplify(u.diff(t, x) + a*u.diff(x, 2) + u.diff(x, 2)*u.diff(x)**2 + u.diff(y, 2) + dl*u)\n",
    "r"
   ]
  },
  {
   "cell_type": "code",
   "execution_count": 52,
   "metadata": {},
   "outputs": [
    {
     "data": {
      "text/latex": [
       "$$\\delta u{\\left (t \\left(- \\alpha t + x\\right),y \\right )} + \\xi_{1} \\left. \\frac{\\partial^{2}}{\\partial \\xi_{1}^{2}} u{\\left (\\xi_{1},y \\right )} \\right|_{\\substack{ \\xi_{1}=t \\left(- \\alpha t + x\\right) }} + \\frac{\\partial^{2}}{\\partial y^{2}} u{\\left (- t \\left(\\alpha t - x\\right),y \\right )} + \\left. \\frac{\\partial}{\\partial \\xi_{1}} u{\\left (\\xi_{1},y \\right )} \\right|_{\\substack{ \\xi_{1}=t \\left(- \\alpha t + x\\right) }}^{2} \\left. \\frac{\\partial^{2}}{\\partial \\xi_{1}^{2}} u{\\left (\\xi_{1},y \\right )} \\right|_{\\substack{ \\xi_{1}=t \\left(- \\alpha t + x\\right) }} - \\left. \\frac{\\partial}{\\partial \\xi_{1}} u{\\left (\\xi_{1},y \\right )} \\right|_{\\substack{ \\xi_{1}=t \\left(- \\alpha t + x\\right) }}$$"
      ],
      "text/plain": [
       "                          ⎛  2           ⎞│                    2              \n",
       "                          ⎜ ∂            ⎟│                   ∂               \n",
       "δ⋅u(t⋅(-α⋅t + x), y) + ξ₁⋅⎜────(u(ξ₁, y))⎟│                + ───(u(-t⋅(α⋅t - x\n",
       "                          ⎜   2          ⎟│                    2              \n",
       "                          ⎝∂ξ₁           ⎠│ξ₁=t⋅(-α⋅t + x)   ∂y               \n",
       "\n",
       "                                        2 ⎛  2           ⎞│                   \n",
       "         ⎛ ∂           ⎞│                 ⎜ ∂            ⎟│                  ⎛\n",
       "), y)) + ⎜───(u(ξ₁, y))⎟│                ⋅⎜────(u(ξ₁, y))⎟│                - ⎜\n",
       "         ⎝∂ξ₁          ⎠│ξ₁=t⋅(-α⋅t + x)  ⎜   2          ⎟│                  ⎝\n",
       "                                          ⎝∂ξ₁           ⎠│ξ₁=t⋅(-α⋅t + x)    \n",
       "\n",
       "                              \n",
       " ∂           ⎞│               \n",
       "───(u(ξ₁, y))⎟│               \n",
       "∂ξ₁          ⎠│ξ₁=t⋅(-α⋅t + x)\n",
       "                              "
      ]
     },
     "execution_count": 52,
     "metadata": {},
     "output_type": "execute_result"
    }
   ],
   "source": [
    "r.args[1].doit().subs({t*x: xi1 + a*t**2}).simplify().doit()"
   ]
  },
  {
   "cell_type": "code",
   "execution_count": 53,
   "metadata": {},
   "outputs": [
    {
     "data": {
      "image/png": "[encoded data removed]",
      "text/latex": [
       "$$t \\frac{\\partial}{\\partial y} u{\\left (x,y \\right )} - y \\frac{\\partial}{\\partial x} u{\\left (x,y \\right )}$$"
      ],
      "text/plain": [
       "  ∂               ∂          \n",
       "t⋅──(u(x, y)) - y⋅──(u(x, y))\n",
       "  ∂y              ∂x         "
      ]
     },
     "execution_count": 53,
     "metadata": {},
     "output_type": "execute_result"
    }
   ],
   "source": [
    "u = Function('u')(x, y)\n",
    "eq = t*u.diff(y) - y*u.diff(x)\n",
    "eq"
   ]
  },
  {
   "cell_type": "code",
   "execution_count": 54,
   "metadata": {},
   "outputs": [
    {
     "data": {
      "image/png": "[encoded data removed]",
      "text/latex": [
       "$$u{\\left (x,y \\right )} = F{\\left (2 t x + y^{2} \\right )}$$"
      ],
      "text/plain": [
       "           ⎛         2⎞\n",
       "u(x, y) = F⎝2⋅t⋅x + y ⎠"
      ]
     },
     "execution_count": 54,
     "metadata": {},
     "output_type": "execute_result"
    }
   ],
   "source": [
    "pdsolve(eq)"
   ]
  },
  {
   "cell_type": "code",
   "execution_count": 55,
   "metadata": {},
   "outputs": [
    {
     "data": {
      "image/png": "[encoded data removed]",
      "text/latex": [
       "$$u{\\left (t,2 t x + y^{2} \\right )}$$"
      ],
      "text/plain": [
       " ⎛            2⎞\n",
       "u⎝t, 2⋅t⋅x + y ⎠"
      ]
     },
     "execution_count": 55,
     "metadata": {},
     "output_type": "execute_result"
    }
   ],
   "source": [
    "u = Function('u')(t, 2*t*x + y**2)\n",
    "u"
   ]
  },
  {
   "cell_type": "code",
   "execution_count": 56,
   "metadata": {},
   "outputs": [
    {
     "data": {
      "text/latex": [
       "$$\\delta u{\\left (t,2 t x + y^{2} \\right )} + 16 t^{4} \\left. \\frac{\\partial}{\\partial \\xi_{2}} u{\\left (t,\\xi_{2} \\right )} \\right|_{\\substack{ \\xi_{2}=2 t x + y^{2} }}^{2} \\left. \\frac{\\partial^{2}}{\\partial \\xi_{2}^{2}} u{\\left (t,\\xi_{2} \\right )} \\right|_{\\substack{ \\xi_{2}=2 t x + y^{2} }} + 4 t x \\left. \\frac{\\partial^{2}}{\\partial \\xi_{2}^{2}} u{\\left (t,\\xi_{2} \\right )} \\right|_{\\substack{ \\xi_{2}=2 t x + y^{2} }} + 2 t \\left. \\frac{\\partial^{2}}{\\partial \\xi_{2}\\partial t} u{\\left (t,\\xi_{2} \\right )} \\right|_{\\substack{ \\xi_{2}=2 t x + y^{2} }} + 4 y^{2} \\left. \\frac{\\partial^{2}}{\\partial \\xi_{2}^{2}} u{\\left (t,\\xi_{2} \\right )} \\right|_{\\substack{ \\xi_{2}=2 t x + y^{2} }} + 4 \\left. \\frac{\\partial}{\\partial \\xi_{2}} u{\\left (t,\\xi_{2} \\right )} \\right|_{\\substack{ \\xi_{2}=2 t x + y^{2} }}$$"
      ],
      "text/plain": [
       "                                                        2 ⎛  2           ⎞│   \n",
       "   ⎛            2⎞       4 ⎛ ∂           ⎞│               ⎜ ∂            ⎟│   \n",
       "δ⋅u⎝t, 2⋅t⋅x + y ⎠ + 16⋅t ⋅⎜───(u(t, ξ₂))⎟│            2 ⋅⎜────(u(t, ξ₂))⎟│   \n",
       "                           ⎝∂ξ₂          ⎠│ξ₂=2⋅t⋅x + y   ⎜   2          ⎟│   \n",
       "                                                          ⎝∂ξ₂           ⎠│ξ₂=\n",
       "\n",
       "                   ⎛  2           ⎞│                    ⎛   2            ⎞│   \n",
       "                   ⎜ ∂            ⎟│                    ⎜  ∂             ⎟│   \n",
       "           + 4⋅t⋅x⋅⎜────(u(t, ξ₂))⎟│              + 2⋅t⋅⎜──────(u(t, ξ₂))⎟│   \n",
       "         2         ⎜   2          ⎟│            2       ⎝∂ξ₂ ∂t          ⎠│ξ₂=\n",
       "2⋅t⋅x + y          ⎝∂ξ₂           ⎠│ξ₂=2⋅t⋅x + y                              \n",
       "\n",
       "                  ⎛  2           ⎞│                                           \n",
       "                2 ⎜ ∂            ⎟│                  ⎛ ∂           ⎞│         \n",
       "         2 + 4⋅y ⋅⎜────(u(t, ξ₂))⎟│              + 4⋅⎜───(u(t, ξ₂))⎟│         \n",
       "2⋅t⋅x + y         ⎜   2          ⎟│            2     ⎝∂ξ₂          ⎠│ξ₂=2⋅t⋅x \n",
       "                  ⎝∂ξ₂           ⎠│ξ₂=2⋅t⋅x + y                               \n",
       "\n",
       "    \n",
       "    \n",
       "   2\n",
       "+ y \n",
       "    "
      ]
     },
     "execution_count": 56,
     "metadata": {},
     "output_type": "execute_result"
    }
   ],
   "source": [
    "r = sympy.simplify(u.diff(t, x) + u.diff(x, 2)*u.diff(x)**2 + u.diff(y, 2) + dl*u)\n",
    "r"
   ]
  },
  {
   "cell_type": "code",
   "execution_count": null,
   "metadata": {},
   "outputs": [],
   "source": []
  }
 ],
 "metadata": {
  "kernelspec": {
   "display_name": "Python 3",
   "language": "python",
   "name": "python3"
  },
  "language_info": {
   "codemirror_mode": {
    "name": "ipython",
    "version": 3
   },
   "file_extension": ".py",
   "mimetype": "text/x-python",
   "name": "python",
   "nbconvert_exporter": "python",
   "pygments_lexer": "ipython3",
   "version": "3.7.3"
  }
 },
 "nbformat": 4,
 "nbformat_minor": 2
}
