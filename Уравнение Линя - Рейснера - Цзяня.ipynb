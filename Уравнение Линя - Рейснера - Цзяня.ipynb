{
 "cells": [
  {
   "cell_type": "code",
   "execution_count": 1,
   "metadata": {},
   "outputs": [],
   "source": [
    "from IPython.display import display, Image\n",
    "from pprint import pprint\n",
    "from itertools import chain\n",
    "\n",
    "from ginv import *\n",
    "sympy.init_printing()"
   ]
  },
  {
   "cell_type": "markdown",
   "metadata": {},
   "source": [
    "Условие на классические симметрии\n",
    "\\begin{equation}\n",
    "\\begin{aligned}\n",
    "\\mathbf{u_{tx}}& + \\alpha u_{xx} + \\beta u_{xx} u_{x} + \\gamma u_{yy} = 0 \\\\\n",
    "\\mathbf{u_{\\varepsilon }}& - F(t, x, y, u, u_{t}, u_{x}, u_{y}) = 0 \\\\\n",
    "\\end{aligned}\n",
    "\\end{equation}\n",
    "Для второго уравнения системы введем полные производные от $F$.\n",
    "\\begin{equation}\n",
    "\\begin{aligned}\n",
    "\\frac{dF}{dt} &= F_t  + F_u u_{t} + F_{u_{t}} u_{tt} + F_{u_{x}} u_{tx} + F_{u_{y}} u_{ty}\\\\\n",
    "\\frac{dF}{dx} &= F_x  + F_u u_{x} + F_{u_{t}} u_{tx} + F_{u_{x}} u_{xx} + F_{u_{y}} u_{xy}\\\\\n",
    "\\frac{dF}{dy} &= F_y  + F_u u_{y} + F_{u_{t}} u_{ty} + F_{u_{x}} u_{xy} + F_{u_{y}} u_{yy}\\\\\n",
    "\\end{aligned}\n",
    "\\end{equation}\n",
    "\n",
    "Условие интегрируемости (совместности) данной системы можно записать через $S$-полином (лексикографическое упорядочение $t \\succ x \\succ y$)\n",
    "\\begin{equation}\n",
    "\\big(\\mathbf{u_{tx}} + \\alpha u_{xx} + \\beta u_{xx} u_{x} + \\gamma u_{yy})_\\varepsilon \n",
    "- {\\mathbf{u_{\\varepsilon }}}_{tx} + \\frac{d^2}{dtdx}F = 0\n",
    "\\end{equation}\n",
    "\n",
    "В последнем уравнении в силу правила дифференцирования Лейбница производная по $\\varepsilon $\n",
    "входит в условие интрегриемости линейно. \n",
    "\\begin{equation}\n",
    "\\alpha u_{\\varepsilon xx} + \\beta u_{xx} u_{\\varepsilon x}  + \\beta u_{\\varepsilon xx} u_{x} + \\gamma u_{\\varepsilon yy} + \\frac{d^2}{dtdx}F = 0\n",
    "\\end{equation}\n",
    "При этом мы можем заменить $u_{\\varepsilon }$ на $F$ используя полные производные от $F$.\n",
    "\\begin{equation}\n",
    "\\frac{d^2}{dx^2}F + \\beta u_{xx}\\frac{d}{dx}F\n",
    " + \\beta \\frac{d^2}{dx^2}F u_{x} + \\gamma\\frac{d^2}{dy^2}F \n",
    "+ \\frac{d^2}{dtdx}F = 0\n",
    "\\end{equation}\n",
    "\n",
    "Учитывая в силу самого уравнения Линя-Рейснера-Цзяня\n",
    "\\begin{equation}\n",
    "\\begin{aligned}\n",
    "u_{tx} &= - \\alpha u_{xx} - \\beta u_{xx} u_{x} - \\gamma u_{yy} \\\\\n",
    "u_{ttx} &= - \\alpha u_{txx} -  \\beta u_{txx} u_{x} -  \\beta u_{xx} (- \\alpha u_{xx} - \\beta u_{xx} u_{x} - \\gamma u_{yy}) - \\gamma u_{tyy}  \\\\\n",
    "u_{txx} &= - \\alpha u_{xxx} -  \\beta u_{xxx} u_{x} -  \\beta u_{xxx} u_{xx} - \\gamma u_{xyy}  \\\\\n",
    "u_{txy} &= - \\alpha u_{xxy}  -  \\beta u_{xxy} u_{x} -  \\beta u_{xxx} u_{xy} - \\gamma u_{yyy}  \\\\\n",
    "& \\cdots \\\\\n",
    "\\end{aligned}\n",
    "\\end{equation}\n",
    "и то что само $F$ не зависит от производных выше первого порядка $u_{t}, u_{x}, u_{y}$ можно получить \n",
    "систему линейных уравнений на $F$."
   ]
  },
  {
   "cell_type": "code",
   "execution_count": 2,
   "metadata": {},
   "outputs": [],
   "source": [
    "a, b, g = sympy.symbols('alpha, beta, gamma', real=True)\n",
    "eps, t, x, y = sympy.symbols('ε, t, x, y', real=True)\n",
    "U = sympy.Function('U')(eps, t, x, y)\n",
    "\n",
    "u, ut, ux, uy = sympy.symbols('u, u_t, u_x, u_y', real=True)\n",
    "F = sympy.Function('F')(t, x, y, u, ut, ux, uy)"
   ]
  },
  {
   "cell_type": "code",
   "execution_count": 3,
   "metadata": {},
   "outputs": [
    {
     "data": {
      "image/png": "[encoded data removed]",
      "text/latex": [
       "$$\\alpha \\frac{\\partial^{2}}{\\partial x^{2}} U{\\left (ε,t,x,y \\right )} + \\beta \\frac{\\partial}{\\partial x} U{\\left (ε,t,x,y \\right )} \\frac{\\partial^{2}}{\\partial x^{2}} U{\\left (ε,t,x,y \\right )} + \\gamma \\frac{\\partial^{2}}{\\partial y^{2}} U{\\left (ε,t,x,y \\right )} + \\frac{\\partial^{2}}{\\partial x\\partial t} U{\\left (ε,t,x,y \\right )}$$"
      ],
      "text/plain": [
       "    2                                        2                      2         \n",
       "   ∂                     ∂                  ∂                      ∂          \n",
       "α⋅───(U(ε, t, x, y)) + β⋅──(U(ε, t, x, y))⋅───(U(ε, t, x, y)) + γ⋅───(U(ε, t, \n",
       "    2                    ∂x                  2                      2         \n",
       "  ∂x                                       ∂x                     ∂y          \n",
       "\n",
       "            2                \n",
       "           ∂                 \n",
       "x, y)) + ─────(U(ε, t, x, y))\n",
       "         ∂x ∂t               \n",
       "                             "
      ]
     },
     "execution_count": 3,
     "metadata": {},
     "output_type": "execute_result"
    }
   ],
   "source": [
    "eq1 = U.diff(t, x) + a*U.diff(x, 2) + b*U.diff(x)*U.diff(x, 2) + g*U.diff(y, 2)\n",
    "eq1"
   ]
  },
  {
   "cell_type": "code",
   "execution_count": 4,
   "metadata": {},
   "outputs": [],
   "source": [
    "dct = {U: \"u\", F: \"F\"}\n",
    "def compact(f):\n",
    "    def cmpct(a):\n",
    "        if not a.args:\n",
    "            return a\n",
    "        else:\n",
    "            if a in dct:\n",
    "                return sympy.Symbol(dct[a], real=True)\n",
    "            elif a.func == sympy.Derivative:\n",
    "                m = []\n",
    "                for xi in a.args[1:]:\n",
    "                    if isinstance(xi, sympy.Symbol):\n",
    "                        m.append(str(xi))\n",
    "                    else:\n",
    "                        m.append(str(xi[0])*xi[1])\n",
    "                return sympy.Symbol(f\"{dct[a.args[0]]}_{{{''.join(m)}}}\", real=True)\n",
    "            else:\n",
    "                return a.func(*tuple(cmpct(s) for s in a.args))\n",
    "    return cmpct(f)"
   ]
  },
  {
   "cell_type": "code",
   "execution_count": 5,
   "metadata": {},
   "outputs": [
    {
     "data": {
      "image/png": "[encoded data removed]",
      "text/latex": [
       "$$\\alpha u_{xx} + \\beta u_{xx} u_{x} + \\gamma u_{yy} + u_{tx}$$"
      ],
      "text/plain": [
       "α⋅u_{xx} + β⋅u_{xx}⋅u_{x} + γ⋅u_{yy} + u_{tx}"
      ]
     },
     "execution_count": 5,
     "metadata": {},
     "output_type": "execute_result"
    }
   ],
   "source": [
    "compact(eq1)"
   ]
  },
  {
   "cell_type": "code",
   "execution_count": 6,
   "metadata": {},
   "outputs": [
    {
     "data": {
      "image/png": "[encoded data removed]",
      "text/latex": [
       "$$\\alpha u_{xxε} + \\beta u_{xx} u_{xε} + \\beta u_{xxε} u_{x} + \\gamma u_{yyε} + u_{txε}$$"
      ],
      "text/plain": [
       "α⋅u_{xxε} + β⋅u_{xx}⋅u_{xε} + β⋅u_{xxε}⋅u_{x} + γ⋅u_{yyε} + u_{txε}"
      ]
     },
     "execution_count": 6,
     "metadata": {},
     "output_type": "execute_result"
    }
   ],
   "source": [
    "compact(eq1.diff(eps))"
   ]
  },
  {
   "cell_type": "code",
   "execution_count": 7,
   "metadata": {},
   "outputs": [],
   "source": [
    "def Dt(a):\n",
    "    return a.diff(t) + a.diff(u)*ut + a.diff(ut)*U.diff(t, t)\\\n",
    "         + a.diff(ux)*U.diff(x, t) + a.diff(uy)*U.diff(y, t)\n",
    "def Dx(a):\n",
    "    return a.diff(x) + a.diff(u)*ux + a.diff(ut)*U.diff(t, x)\\\n",
    "         + a.diff(ux)*U.diff(x, x) + a.diff(uy)*U.diff(y, x)\n",
    "def Dy(a):\n",
    "    return a.diff(y) + a.diff(u)*uy + a.diff(ut)*U.diff(t, y)\\\n",
    "         + a.diff(ux)*U.diff(x, y) + a.diff(uy)*U.diff(y, y)"
   ]
  },
  {
   "cell_type": "code",
   "execution_count": 8,
   "metadata": {
    "scrolled": true
   },
   "outputs": [],
   "source": [
    "toD = {\n",
    "    t: Dt,\\\n",
    "    x: Dx,\\\n",
    "    y: Dy,\\\n",
    "}\n",
    "def totalD(a):\n",
    "    if not a.args:\n",
    "        return a\n",
    "    else:\n",
    "        if a.func != sympy.Derivative:\n",
    "            return a.func(*(totalD(s) for s in a.args))\n",
    "        elif (eps, 1) not in a.args:\n",
    "            return a\n",
    "        else:\n",
    "            assert a.args[0] == U\n",
    "            r = F\n",
    "            for v, l in a.args[1:]:\n",
    "                if v != eps:\n",
    "                    for i in range(l):\n",
    "                        r = toD[v](r)\n",
    "            return r\n",
    "eq2 = totalD(eq1.diff(eps)).expand()     "
   ]
  },
  {
   "cell_type": "code",
   "execution_count": 9,
   "metadata": {
    "scrolled": true
   },
   "outputs": [
    {
     "data": {
      "image/png": "[encoded data removed]",
      "text/latex": [
       "$$F_{tu_t} u_{tx} + F_{tu_x} u_{xx} + F_{tu_y} u_{xy} + F_{tu} u_{x} + F_{tx} + F_{u_tu_t} \\alpha u_{tx}^{2} + F_{u_tu_t} \\beta u_{tx}^{2} u_{x} + F_{u_tu_t} \\gamma u_{ty}^{2} + F_{u_tu_t} u_{tt} u_{tx} + 2 F_{u_tu_x} \\alpha u_{tx} u_{xx} + 2 F_{u_tu_x} \\beta u_{tx} u_{xx} u_{x} + 2 F_{u_tu_x} \\gamma u_{ty} u_{xy} + F_{u_tu_x} u_{tt} u_{xx} + F_{u_tu_x} u_{tx}^{2} + 2 F_{u_tu_y} \\alpha u_{tx} u_{xy} + 2 F_{u_tu_y} \\beta u_{tx} u_{xy} u_{x} + 2 F_{u_tu_y} \\gamma u_{ty} u_{yy} + F_{u_tu_y} u_{tt} u_{xy} + F_{u_tu_y} u_{tx} u_{ty} + 2 F_{u_tx} \\alpha u_{tx} + 2 F_{u_tx} \\beta u_{tx} u_{x} + F_{u_tx} u_{tt} + 2 F_{u_ty} \\gamma u_{ty} + F_{u_t} \\alpha u_{txx} + F_{u_t} \\beta u_{txx} u_{x} + F_{u_t} \\beta u_{tx} u_{xx} + F_{u_t} \\gamma u_{tyy} + F_{u_t} u_{ttx} + F_{u_xu_x} \\alpha u_{xx}^{2} + F_{u_xu_x} \\beta u_{xx}^{2} u_{x} + F_{u_xu_x} \\gamma u_{xy}^{2} + F_{u_xu_x} u_{tx} u_{xx} + 2 F_{u_xu_y} \\alpha u_{xx} u_{xy} + 2 F_{u_xu_y} \\beta u_{xx} u_{xy} u_{x} + 2 F_{u_xu_y} \\gamma u_{xy} u_{yy} + F_{u_xu_y} u_{tx} u_{xy} + F_{u_xu_y} u_{ty} u_{xx} + 2 F_{u_xx} \\alpha u_{xx} + 2 F_{u_xx} \\beta u_{xx} u_{x} + F_{u_xx} u_{tx} + 2 F_{u_xy} \\gamma u_{xy} + F_{u_x} \\alpha u_{xxx} + F_{u_x} \\beta u_{xxx} u_{x} + F_{u_x} \\beta u_{xx}^{2} + F_{u_x} \\gamma u_{xyy} + F_{u_x} u_{txx} + F_{u_yu_y} \\alpha u_{xy}^{2} + F_{u_yu_y} \\beta u_{xy}^{2} u_{x} + F_{u_yu_y} \\gamma u_{yy}^{2} + F_{u_yu_y} u_{ty} u_{xy} + 2 F_{u_yx} \\alpha u_{xy} + 2 F_{u_yx} \\beta u_{xy} u_{x} + F_{u_yx} u_{ty} + 2 F_{u_yy} \\gamma u_{yy} + F_{u_y} \\alpha u_{xxy} + F_{u_y} \\beta u_{xxy} u_{x} + F_{u_y} \\beta u_{xx} u_{xy} + F_{u_y} \\gamma u_{yyy} + F_{u_y} u_{txy} + 2 F_{uu_t} \\alpha u_{x} u_{tx} + 2 F_{uu_t} \\beta u_{x} u_{tx} u_{x} + 2 F_{uu_t} \\gamma u_{y} u_{ty} + F_{uu_t} u_{t} u_{tx} + F_{uu_t} u_{x} u_{tt} + 2 F_{uu_x} \\alpha u_{x} u_{xx} + 2 F_{uu_x} \\beta u_{x} u_{xx} u_{x} + 2 F_{uu_x} \\gamma u_{y} u_{xy} + F_{uu_x} u_{t} u_{xx} + F_{uu_x} u_{x} u_{tx} + 2 F_{uu_y} \\alpha u_{x} u_{xy} + 2 F_{uu_y} \\beta u_{x} u_{xy} u_{x} + 2 F_{uu_y} \\gamma u_{y} u_{yy} + F_{uu_y} u_{t} u_{xy} + F_{uu_y} u_{x} u_{ty} + F_{uu} \\alpha u_{x}^{2} + F_{uu} \\beta u_{x}^{2} u_{x} + F_{uu} \\gamma u_{y}^{2} + F_{uu} u_{t} u_{x} + 2 F_{ux} \\alpha u_{x} + 2 F_{ux} \\beta u_{x} u_{x} + F_{ux} u_{t} + 2 F_{uy} \\gamma u_{y} + F_{u} \\alpha u_{xx} + F_{u} \\beta u_{x} u_{xx} + F_{u} \\beta u_{xx} u_{x} + F_{u} \\gamma u_{yy} + F_{u} u_{tx} + F_{xx} \\alpha + F_{xx} \\beta u_{x} + F_{x} \\beta u_{xx} + F_{yy} \\gamma$$"
      ],
      "text/plain": [
       "                                                                              \n",
       "F_{tu_t}⋅u_{tx} + F_{tu_x}⋅u_{xx} + F_{tu_y}⋅u_{xy} + F_{tu}⋅uₓ + F_{tx} + F_{\n",
       "\n",
       "                2                      2                            2         \n",
       "u_tu_t}⋅α⋅u_{tx}  + F_{u_tu_t}⋅β⋅u_{tx} ⋅u_{x} + F_{u_tu_t}⋅γ⋅u_{ty}  + F_{u_t\n",
       "\n",
       "                                                                              \n",
       "u_t}⋅u_{tt}⋅u_{tx} + 2⋅F_{u_tu_x}⋅α⋅u_{tx}⋅u_{xx} + 2⋅F_{u_tu_x}⋅β⋅u_{tx}⋅u_{x\n",
       "\n",
       "                                                                              \n",
       "x}⋅u_{x} + 2⋅F_{u_tu_x}⋅γ⋅u_{ty}⋅u_{xy} + F_{u_tu_x}⋅u_{tt}⋅u_{xx} + F_{u_tu_x\n",
       "\n",
       "        2                                                                     \n",
       "}⋅u_{tx}  + 2⋅F_{u_tu_y}⋅α⋅u_{tx}⋅u_{xy} + 2⋅F_{u_tu_y}⋅β⋅u_{tx}⋅u_{xy}⋅u_{x} \n",
       "\n",
       "                                                                              \n",
       "+ 2⋅F_{u_tu_y}⋅γ⋅u_{ty}⋅u_{yy} + F_{u_tu_y}⋅u_{tt}⋅u_{xy} + F_{u_tu_y}⋅u_{tx}⋅\n",
       "\n",
       "                                                                              \n",
       "u_{ty} + 2⋅F_{u_tx}⋅α⋅u_{tx} + 2⋅F_{u_tx}⋅β⋅u_{tx}⋅u_{x} + F_{u_tx}⋅u_{tt} + 2\n",
       "\n",
       "                                                                              \n",
       "⋅F_{u_ty}⋅γ⋅u_{ty} + F_{u_t}⋅α⋅u_{txx} + F_{u_t}⋅β⋅u_{txx}⋅u_{x} + F_{u_t}⋅β⋅u\n",
       "\n",
       "                                                                        2     \n",
       "_{tx}⋅u_{xx} + F_{u_t}⋅γ⋅u_{tyy} + F_{u_t}⋅u_{ttx} + F_{u_xu_x}⋅α⋅u_{xx}  + F_\n",
       "\n",
       "                 2                            2                               \n",
       "{u_xu_x}⋅β⋅u_{xx} ⋅u_{x} + F_{u_xu_x}⋅γ⋅u_{xy}  + F_{u_xu_x}⋅u_{tx}⋅u_{xx} + 2\n",
       "\n",
       "                                                                              \n",
       "⋅F_{u_xu_y}⋅α⋅u_{xx}⋅u_{xy} + 2⋅F_{u_xu_y}⋅β⋅u_{xx}⋅u_{xy}⋅u_{x} + 2⋅F_{u_xu_y\n",
       "\n",
       "                                                                              \n",
       "}⋅γ⋅u_{xy}⋅u_{yy} + F_{u_xu_y}⋅u_{tx}⋅u_{xy} + F_{u_xu_y}⋅u_{ty}⋅u_{xx} + 2⋅F_\n",
       "\n",
       "                                                                              \n",
       "{u_xx}⋅α⋅u_{xx} + 2⋅F_{u_xx}⋅β⋅u_{xx}⋅u_{x} + F_{u_xx}⋅u_{tx} + 2⋅F_{u_xy}⋅γ⋅u\n",
       "\n",
       "                                                                      2       \n",
       "_{xy} + F_{u_x}⋅α⋅u_{xxx} + F_{u_x}⋅β⋅u_{xxx}⋅u_{x} + F_{u_x}⋅β⋅u_{xx}  + F_{u\n",
       "\n",
       "                                                     2                      2 \n",
       "_x}⋅γ⋅u_{xyy} + F_{u_x}⋅u_{txx} + F_{u_yu_y}⋅α⋅u_{xy}  + F_{u_yu_y}⋅β⋅u_{xy} ⋅\n",
       "\n",
       "                           2                                                  \n",
       "u_{x} + F_{u_yu_y}⋅γ⋅u_{yy}  + F_{u_yu_y}⋅u_{ty}⋅u_{xy} + 2⋅F_{u_yx}⋅α⋅u_{xy} \n",
       "\n",
       "                                                                              \n",
       "+ 2⋅F_{u_yx}⋅β⋅u_{xy}⋅u_{x} + F_{u_yx}⋅u_{ty} + 2⋅F_{u_yy}⋅γ⋅u_{yy} + F_{u_y}⋅\n",
       "\n",
       "                                                                              \n",
       "α⋅u_{xxy} + F_{u_y}⋅β⋅u_{xxy}⋅u_{x} + F_{u_y}⋅β⋅u_{xx}⋅u_{xy} + F_{u_y}⋅γ⋅u_{y\n",
       "\n",
       "                                                                              \n",
       "yy} + F_{u_y}⋅u_{txy} + 2⋅F_{uu_t}⋅α⋅uₓ⋅u_{tx} + 2⋅F_{uu_t}⋅β⋅uₓ⋅u_{tx}⋅u_{x} \n",
       "\n",
       "                                                                              \n",
       "+ 2⋅F_{uu_t}⋅γ⋅u_y⋅u_{ty} + F_{uu_t}⋅uₜ⋅u_{tx} + F_{uu_t}⋅uₓ⋅u_{tt} + 2⋅F_{uu_\n",
       "\n",
       "                                                                              \n",
       "x}⋅α⋅uₓ⋅u_{xx} + 2⋅F_{uu_x}⋅β⋅uₓ⋅u_{xx}⋅u_{x} + 2⋅F_{uu_x}⋅γ⋅u_y⋅u_{xy} + F_{u\n",
       "\n",
       "                                                                              \n",
       "u_x}⋅uₜ⋅u_{xx} + F_{uu_x}⋅uₓ⋅u_{tx} + 2⋅F_{uu_y}⋅α⋅uₓ⋅u_{xy} + 2⋅F_{uu_y}⋅β⋅uₓ\n",
       "\n",
       "                                                                              \n",
       "⋅u_{xy}⋅u_{x} + 2⋅F_{uu_y}⋅γ⋅u_y⋅u_{yy} + F_{uu_y}⋅uₜ⋅u_{xy} + F_{uu_y}⋅uₓ⋅u_{\n",
       "\n",
       "                 2              2                     2                       \n",
       "ty} + F_{uu}⋅α⋅uₓ  + F_{uu}⋅β⋅uₓ ⋅u_{x} + F_{uu}⋅γ⋅u_y  + F_{uu}⋅uₜ⋅uₓ + 2⋅F_{\n",
       "\n",
       "                                                                              \n",
       "ux}⋅α⋅uₓ + 2⋅F_{ux}⋅β⋅uₓ⋅u_{x} + F_{ux}⋅uₜ + 2⋅F_{uy}⋅γ⋅u_y + F_{u}⋅α⋅u_{xx} +\n",
       "\n",
       "                                                                              \n",
       " F_{u}⋅β⋅uₓ⋅u_{xx} + F_{u}⋅β⋅u_{xx}⋅u_{x} + F_{u}⋅γ⋅u_{yy} + F_{u}⋅u_{tx} + F_\n",
       "\n",
       "                                                   \n",
       "{xx}⋅α + F_{xx}⋅β⋅u_{x} + F_{x}⋅β⋅u_{xx} + F_{yy}⋅γ"
      ]
     },
     "execution_count": 9,
     "metadata": {},
     "output_type": "execute_result"
    }
   ],
   "source": [
    "compact(eq2)"
   ]
  },
  {
   "cell_type": "code",
   "execution_count": 10,
   "metadata": {
    "scrolled": true
   },
   "outputs": [],
   "source": [
    "s = sympy.solve(eq1, U.diff(t, x))[0]\n",
    "def sub_eq(a):\n",
    "    def find(args):\n",
    "        r = 0\n",
    "        for v, l in a.args[1:]:\n",
    "            if v in (t, x):\n",
    "                r += 1\n",
    "        return r == 2\n",
    "    if not a.args:\n",
    "        return a\n",
    "    else:\n",
    "        if a.func != sympy.Derivative:\n",
    "            return a.func(*(sub_eq(s) for s in a.args))\n",
    "        elif a.args[0] != U or not find(a.args):\n",
    "            return a\n",
    "        else:\n",
    "            r = s\n",
    "            for v, l in a.args[1:]:\n",
    "                if v in (t, x):\n",
    "                    l -= 1\n",
    "                r = r.diff(v, l)\n",
    "            return r\n",
    "eq3 = sub_eq(eq2).expand()\n",
    "eq3 = sub_eq(eq3).expand()"
   ]
  },
  {
   "cell_type": "code",
   "execution_count": 11,
   "metadata": {
    "scrolled": true
   },
   "outputs": [
    {
     "data": {
      "image/png": "[encoded data removed]",
      "text/latex": [
       "$$- F_{tu_t} \\alpha u_{xx} - F_{tu_t} \\beta u_{xx} u_{x} - F_{tu_t} \\gamma u_{yy} + F_{tu_x} u_{xx} + F_{tu_y} u_{xy} + F_{tu} u_{x} + F_{tx} + F_{u_tu_t} \\alpha^{3} u_{xx}^{2} + 3 F_{u_tu_t} \\alpha^{2} \\beta u_{xx}^{2} u_{x} + 2 F_{u_tu_t} \\alpha^{2} \\gamma u_{xx} u_{yy} + 3 F_{u_tu_t} \\alpha \\beta^{2} u_{xx}^{2} u_{x}^{2} + 4 F_{u_tu_t} \\alpha \\beta \\gamma u_{xx} u_{x} u_{yy} + F_{u_tu_t} \\alpha \\gamma^{2} u_{yy}^{2} - F_{u_tu_t} \\alpha u_{tt} u_{xx} + F_{u_tu_t} \\beta^{3} u_{xx}^{2} u_{x}^{3} + 2 F_{u_tu_t} \\beta^{2} \\gamma u_{xx} u_{x}^{2} u_{yy} + F_{u_tu_t} \\beta \\gamma^{2} u_{x} u_{yy}^{2} - F_{u_tu_t} \\beta u_{tt} u_{xx} u_{x} - F_{u_tu_t} \\gamma u_{tt} u_{yy} + F_{u_tu_t} \\gamma u_{ty}^{2} - F_{u_tu_x} \\alpha^{2} u_{xx}^{2} - 2 F_{u_tu_x} \\alpha \\beta u_{xx}^{2} u_{x} - F_{u_tu_x} \\beta^{2} u_{xx}^{2} u_{x}^{2} + F_{u_tu_x} \\gamma^{2} u_{yy}^{2} + 2 F_{u_tu_x} \\gamma u_{ty} u_{xy} + F_{u_tu_x} u_{tt} u_{xx} - 2 F_{u_tu_y} \\alpha^{2} u_{xx} u_{xy} - 4 F_{u_tu_y} \\alpha \\beta u_{xx} u_{xy} u_{x} - 2 F_{u_tu_y} \\alpha \\gamma u_{xy} u_{yy} - F_{u_tu_y} \\alpha u_{ty} u_{xx} - 2 F_{u_tu_y} \\beta^{2} u_{xx} u_{xy} u_{x}^{2} - 2 F_{u_tu_y} \\beta \\gamma u_{xy} u_{x} u_{yy} - F_{u_tu_y} \\beta u_{ty} u_{xx} u_{x} + F_{u_tu_y} \\gamma u_{ty} u_{yy} + F_{u_tu_y} u_{tt} u_{xy} - 2 F_{u_tx} \\alpha^{2} u_{xx} - 4 F_{u_tx} \\alpha \\beta u_{xx} u_{x} - 2 F_{u_tx} \\alpha \\gamma u_{yy} - 2 F_{u_tx} \\beta^{2} u_{xx} u_{x}^{2} - 2 F_{u_tx} \\beta \\gamma u_{x} u_{yy} + F_{u_tx} u_{tt} + 2 F_{u_ty} \\gamma u_{ty} - F_{u_xu_x} \\gamma u_{xx} u_{yy} + F_{u_xu_x} \\gamma u_{xy}^{2} + F_{u_xu_y} \\alpha u_{xx} u_{xy} + F_{u_xu_y} \\beta u_{xx} u_{xy} u_{x} + F_{u_xu_y} \\gamma u_{xy} u_{yy} + F_{u_xu_y} u_{ty} u_{xx} + F_{u_xx} \\alpha u_{xx} + F_{u_xx} \\beta u_{xx} u_{x} - F_{u_xx} \\gamma u_{yy} + 2 F_{u_xy} \\gamma u_{xy} + F_{u_yu_y} \\alpha u_{xy}^{2} + F_{u_yu_y} \\beta u_{xy}^{2} u_{x} + F_{u_yu_y} \\gamma u_{yy}^{2} + F_{u_yu_y} u_{ty} u_{xy} + 2 F_{u_yx} \\alpha u_{xy} + 2 F_{u_yx} \\beta u_{xy} u_{x} + F_{u_yx} u_{ty} + 2 F_{u_yy} \\gamma u_{yy} - 2 F_{uu_t} \\alpha^{2} u_{x} u_{xx} - 4 F_{uu_t} \\alpha \\beta u_{x} u_{xx} u_{x} - 2 F_{uu_t} \\alpha \\gamma u_{x} u_{yy} - F_{uu_t} \\alpha u_{t} u_{xx} - 2 F_{uu_t} \\beta^{2} u_{x} u_{xx} u_{x}^{2} - 2 F_{uu_t} \\beta \\gamma u_{x} u_{x} u_{yy} - F_{uu_t} \\beta u_{t} u_{xx} u_{x} - F_{uu_t} \\gamma u_{t} u_{yy} + 2 F_{uu_t} \\gamma u_{y} u_{ty} + F_{uu_t} u_{x} u_{tt} + F_{uu_x} \\alpha u_{x} u_{xx} + F_{uu_x} \\beta u_{x} u_{xx} u_{x} - F_{uu_x} \\gamma u_{x} u_{yy} + 2 F_{uu_x} \\gamma u_{y} u_{xy} + F_{uu_x} u_{t} u_{xx} + 2 F_{uu_y} \\alpha u_{x} u_{xy} + 2 F_{uu_y} \\beta u_{x} u_{xy} u_{x} + 2 F_{uu_y} \\gamma u_{y} u_{yy} + F_{uu_y} u_{t} u_{xy} + F_{uu_y} u_{x} u_{ty} + F_{uu} \\alpha u_{x}^{2} + F_{uu} \\beta u_{x}^{2} u_{x} + F_{uu} \\gamma u_{y}^{2} + F_{uu} u_{t} u_{x} + 2 F_{ux} \\alpha u_{x} + 2 F_{ux} \\beta u_{x} u_{x} + F_{ux} u_{t} + 2 F_{uy} \\gamma u_{y} + F_{u} \\beta u_{x} u_{xx} + F_{xx} \\alpha + F_{xx} \\beta u_{x} + F_{x} \\beta u_{xx} + F_{yy} \\gamma$$"
      ],
      "text/plain": [
       "                                                                              \n",
       "-F_{tu_t}⋅α⋅u_{xx} - F_{tu_t}⋅β⋅u_{xx}⋅u_{x} - F_{tu_t}⋅γ⋅u_{yy} + F_{tu_x}⋅u_\n",
       "\n",
       "                                                          3       2           \n",
       "{xx} + F_{tu_y}⋅u_{xy} + F_{tu}⋅uₓ + F_{tx} + F_{u_tu_t}⋅α ⋅u_{xx}  + 3⋅F_{u_t\n",
       "\n",
       "      2         2                       2                                   2 \n",
       "u_t}⋅α ⋅β⋅u_{xx} ⋅u_{x} + 2⋅F_{u_tu_t}⋅α ⋅γ⋅u_{xx}⋅u_{yy} + 3⋅F_{u_tu_t}⋅α⋅β ⋅\n",
       "\n",
       "      2      2                                                          2     \n",
       "u_{xx} ⋅u_{x}  + 4⋅F_{u_tu_t}⋅α⋅β⋅γ⋅u_{xx}⋅u_{x}⋅u_{yy} + F_{u_tu_t}⋅α⋅γ ⋅u_{y\n",
       "\n",
       "  2                                            3       2      3               \n",
       "y}  - F_{u_tu_t}⋅α⋅u_{tt}⋅u_{xx} + F_{u_tu_t}⋅β ⋅u_{xx} ⋅u_{x}  + 2⋅F_{u_tu_t}\n",
       "\n",
       "  2               2                        2             2                    \n",
       "⋅β ⋅γ⋅u_{xx}⋅u_{x} ⋅u_{yy} + F_{u_tu_t}⋅β⋅γ ⋅u_{x}⋅u_{yy}  - F_{u_tu_t}⋅β⋅u_{t\n",
       "\n",
       "                                                                  2           \n",
       "t}⋅u_{xx}⋅u_{x} - F_{u_tu_t}⋅γ⋅u_{tt}⋅u_{yy} + F_{u_tu_t}⋅γ⋅u_{ty}  - F_{u_tu_\n",
       "\n",
       "    2       2                          2                     2       2      2 \n",
       "x}⋅α ⋅u_{xx}  - 2⋅F_{u_tu_x}⋅α⋅β⋅u_{xx} ⋅u_{x} - F_{u_tu_x}⋅β ⋅u_{xx} ⋅u_{x}  \n",
       "\n",
       "              2       2                                                       \n",
       "+ F_{u_tu_x}⋅γ ⋅u_{yy}  + 2⋅F_{u_tu_x}⋅γ⋅u_{ty}⋅u_{xy} + F_{u_tu_x}⋅u_{tt}⋅u_{\n",
       "\n",
       "                    2                                                         \n",
       "xx} - 2⋅F_{u_tu_y}⋅α ⋅u_{xx}⋅u_{xy} - 4⋅F_{u_tu_y}⋅α⋅β⋅u_{xx}⋅u_{xy}⋅u_{x} - 2\n",
       "\n",
       "                                                                           2  \n",
       "⋅F_{u_tu_y}⋅α⋅γ⋅u_{xy}⋅u_{yy} - F_{u_tu_y}⋅α⋅u_{ty}⋅u_{xx} - 2⋅F_{u_tu_y}⋅β ⋅u\n",
       "\n",
       "                  2                                                           \n",
       "_{xx}⋅u_{xy}⋅u_{x}  - 2⋅F_{u_tu_y}⋅β⋅γ⋅u_{xy}⋅u_{x}⋅u_{yy} - F_{u_tu_y}⋅β⋅u_{t\n",
       "\n",
       "                                                                              \n",
       "y}⋅u_{xx}⋅u_{x} + F_{u_tu_y}⋅γ⋅u_{ty}⋅u_{yy} + F_{u_tu_y}⋅u_{tt}⋅u_{xy} - 2⋅F_\n",
       "\n",
       "        2                                                                     \n",
       "{u_tx}⋅α ⋅u_{xx} - 4⋅F_{u_tx}⋅α⋅β⋅u_{xx}⋅u_{x} - 2⋅F_{u_tx}⋅α⋅γ⋅u_{yy} - 2⋅F_{\n",
       "\n",
       "       2             2                                                        \n",
       "u_tx}⋅β ⋅u_{xx}⋅u_{x}  - 2⋅F_{u_tx}⋅β⋅γ⋅u_{x}⋅u_{yy} + F_{u_tx}⋅u_{tt} + 2⋅F_{\n",
       "\n",
       "                                                                 2            \n",
       "u_ty}⋅γ⋅u_{ty} - F_{u_xu_x}⋅γ⋅u_{xx}⋅u_{yy} + F_{u_xu_x}⋅γ⋅u_{xy}  + F_{u_xu_y\n",
       "\n",
       "                                                                              \n",
       "}⋅α⋅u_{xx}⋅u_{xy} + F_{u_xu_y}⋅β⋅u_{xx}⋅u_{xy}⋅u_{x} + F_{u_xu_y}⋅γ⋅u_{xy}⋅u_{\n",
       "\n",
       "                                                                              \n",
       "yy} + F_{u_xu_y}⋅u_{ty}⋅u_{xx} + F_{u_xx}⋅α⋅u_{xx} + F_{u_xx}⋅β⋅u_{xx}⋅u_{x} -\n",
       "\n",
       "                                                              2               \n",
       " F_{u_xx}⋅γ⋅u_{yy} + 2⋅F_{u_xy}⋅γ⋅u_{xy} + F_{u_yu_y}⋅α⋅u_{xy}  + F_{u_yu_y}⋅β\n",
       "\n",
       "       2                            2                                         \n",
       "⋅u_{xy} ⋅u_{x} + F_{u_yu_y}⋅γ⋅u_{yy}  + F_{u_yu_y}⋅u_{ty}⋅u_{xy} + 2⋅F_{u_yx}⋅\n",
       "\n",
       "                                                                              \n",
       "α⋅u_{xy} + 2⋅F_{u_yx}⋅β⋅u_{xy}⋅u_{x} + F_{u_yx}⋅u_{ty} + 2⋅F_{u_yy}⋅γ⋅u_{yy} -\n",
       "\n",
       "             2                                                                \n",
       " 2⋅F_{uu_t}⋅α ⋅uₓ⋅u_{xx} - 4⋅F_{uu_t}⋅α⋅β⋅uₓ⋅u_{xx}⋅u_{x} - 2⋅F_{uu_t}⋅α⋅γ⋅uₓ⋅\n",
       "\n",
       "                                            2                2                \n",
       "u_{yy} - F_{uu_t}⋅α⋅uₜ⋅u_{xx} - 2⋅F_{uu_t}⋅β ⋅uₓ⋅u_{xx}⋅u_{x}  - 2⋅F_{uu_t}⋅β⋅\n",
       "\n",
       "                                                                              \n",
       "γ⋅uₓ⋅u_{x}⋅u_{yy} - F_{uu_t}⋅β⋅uₜ⋅u_{xx}⋅u_{x} - F_{uu_t}⋅γ⋅uₜ⋅u_{yy} + 2⋅F_{u\n",
       "\n",
       "                                                                              \n",
       "u_t}⋅γ⋅u_y⋅u_{ty} + F_{uu_t}⋅uₓ⋅u_{tt} + F_{uu_x}⋅α⋅uₓ⋅u_{xx} + F_{uu_x}⋅β⋅uₓ⋅\n",
       "\n",
       "                                                                              \n",
       "u_{xx}⋅u_{x} - F_{uu_x}⋅γ⋅uₓ⋅u_{yy} + 2⋅F_{uu_x}⋅γ⋅u_y⋅u_{xy} + F_{uu_x}⋅uₜ⋅u_\n",
       "\n",
       "                                                                              \n",
       "{xx} + 2⋅F_{uu_y}⋅α⋅uₓ⋅u_{xy} + 2⋅F_{uu_y}⋅β⋅uₓ⋅u_{xy}⋅u_{x} + 2⋅F_{uu_y}⋅γ⋅u_\n",
       "\n",
       "                                                                2             \n",
       "y⋅u_{yy} + F_{uu_y}⋅uₜ⋅u_{xy} + F_{uu_y}⋅uₓ⋅u_{ty} + F_{uu}⋅α⋅uₓ  + F_{uu}⋅β⋅u\n",
       "\n",
       " 2                     2                                                      \n",
       "ₓ ⋅u_{x} + F_{uu}⋅γ⋅u_y  + F_{uu}⋅uₜ⋅uₓ + 2⋅F_{ux}⋅α⋅uₓ + 2⋅F_{ux}⋅β⋅uₓ⋅u_{x} \n",
       "\n",
       "                                                                              \n",
       "+ F_{ux}⋅uₜ + 2⋅F_{uy}⋅γ⋅u_y + F_{u}⋅β⋅uₓ⋅u_{xx} + F_{xx}⋅α + F_{xx}⋅β⋅u_{x} +\n",
       "\n",
       "                          \n",
       " F_{x}⋅β⋅u_{xx} + F_{yy}⋅γ"
      ]
     },
     "execution_count": 11,
     "metadata": {},
     "output_type": "execute_result"
    }
   ],
   "source": [
    "compact(eq3)"
   ]
  },
  {
   "cell_type": "code",
   "execution_count": 12,
   "metadata": {},
   "outputs": [
    {
     "data": {
      "image/png": "[encoded data removed]",
      "text/latex": [
       "$$\\left\\{\\frac{\\partial^{2}}{\\partial t^{2}} U{\\left (ε,t,x,y \\right )}, \\frac{\\partial^{2}}{\\partial x^{2}} U{\\left (ε,t,x,y \\right )}, \\frac{\\partial^{2}}{\\partial y^{2}} U{\\left (ε,t,x,y \\right )}, \\frac{\\partial^{2}}{\\partial y\\partial t} U{\\left (ε,t,x,y \\right )}, \\frac{\\partial^{2}}{\\partial y\\partial x} U{\\left (ε,t,x,y \\right )}\\right\\}$$"
      ],
      "text/plain": [
       "⎧  2                   2                   2                    2             \n",
       "⎪ ∂                   ∂                   ∂                    ∂              \n",
       "⎨───(U(ε, t, x, y)), ───(U(ε, t, x, y)), ───(U(ε, t, x, y)), ─────(U(ε, t, x, \n",
       "⎪  2                   2                   2                 ∂y ∂t            \n",
       "⎩∂t                  ∂x                  ∂y                                   \n",
       "\n",
       "        2                ⎫\n",
       "       ∂                 ⎪\n",
       "y)), ─────(U(ε, t, x, y))⎬\n",
       "     ∂y ∂x               ⎪\n",
       "                         ⎭"
      ]
     },
     "execution_count": 12,
     "metadata": {},
     "output_type": "execute_result"
    }
   ],
   "source": [
    "toU = {\n",
    "    U.diff(t): ut,\\\n",
    "    U.diff(x): ux,\\\n",
    "    U.diff(y): uy,\\\n",
    "}\n",
    "DF = set()\n",
    "def lstD(a):\n",
    "    if not a.args:\n",
    "        return a\n",
    "    else:\n",
    "        if a.func != sympy.Derivative:\n",
    "            return a.func(*(lstD(s) for s in a.args))\n",
    "        elif a.args[0] != U:\n",
    "            return a\n",
    "        elif a in toU:\n",
    "            return toU[a]\n",
    "        else:\n",
    "            DF.add(a)\n",
    "            return a\n",
    "eq4 = lstD(eq3).expand()\n",
    "DF"
   ]
  },
  {
   "cell_type": "code",
   "execution_count": 13,
   "metadata": {},
   "outputs": [
    {
     "name": "stdout",
     "output_type": "stream",
     "text": [
      "2 Derivative(U(ε, t, x, y), (y, 2))\n",
      "2 Derivative(U(ε, t, x, y), x, y)\n",
      "2 Derivative(U(ε, t, x, y), (x, 2))\n",
      "2 Derivative(U(ε, t, x, y), t, y)\n",
      "1 Derivative(U(ε, t, x, y), (t, 2))\n"
     ]
    }
   ],
   "source": [
    "for df in DF:\n",
    "    deg = eq4.as_poly(df).degree()\n",
    "    print(deg, df)"
   ]
  },
  {
   "cell_type": "code",
   "execution_count": 24,
   "metadata": {
    "scrolled": false
   },
   "outputs": [
    {
     "name": "stdout",
     "output_type": "stream",
     "text": [
      "F_{tu} u_{x} + F_{tx} + F_{uu} \\alpha u_{x}^{2} + F_{uu} \\beta u_{x}^{3} + F_{uu} \\gamma u_{y}^{2} + F_{uu} u_{t} u_{x} + 2 F_{ux} \\alpha u_{x} + 2 F_{ux} \\beta u_{x}^{2} + F_{ux} u_{t} + 2 F_{uy} \\gamma u_{y} + F_{xx} \\alpha + F_{xx} \\beta u_{x} + F_{yy} \\gamma = 0, \\\\\n",
      "F_{u_tx} + F_{uu_t} u_{x} = 0, \\\\\n",
      "2 F_{u_ty} \\gamma + F_{u_yx} + 2 F_{uu_t} \\gamma u_{y} + F_{uu_y} u_{x} = 0, \\\\\n",
      "F_{u_tu_t} \\gamma = 0, \\\\\n",
      "- F_{tu_t} \\alpha - F_{tu_t} \\beta u_{x} + F_{tu_x} - 2 F_{u_tx} \\alpha^{2} - 4 F_{u_tx} \\alpha \\beta u_{x} - 2 F_{u_tx} \\beta^{2} u_{x}^{2} + F_{u_xx} \\alpha + F_{u_xx} \\beta u_{x} - 2 F_{uu_t} \\alpha^{2} u_{x} - 4 F_{uu_t} \\alpha \\beta u_{x}^{2} - F_{uu_t} \\alpha u_{t} - 2 F_{uu_t} \\beta^{2} u_{x}^{3} - F_{uu_t} \\beta u_{t} u_{x} + F_{uu_x} \\alpha u_{x} + F_{uu_x} \\beta u_{x}^{2} + F_{uu_x} u_{t} + F_{u} \\beta u_{x} + F_{x} \\beta = 0, \\\\\n",
      "- F_{u_tu_t} \\alpha - F_{u_tu_t} \\beta u_{x} + F_{u_tu_x} = 0, \\\\\n",
      "- F_{u_tu_y} \\alpha - F_{u_tu_y} \\beta u_{x} + F_{u_xu_y} = 0, \\\\\n",
      "F_{u_tu_t} \\alpha^{3} + 3 F_{u_tu_t} \\alpha^{2} \\beta u_{x} + 3 F_{u_tu_t} \\alpha \\beta^{2} u_{x}^{2} + F_{u_tu_t} \\beta^{3} u_{x}^{3} - F_{u_tu_x} \\alpha^{2} - 2 F_{u_tu_x} \\alpha \\beta u_{x} - F_{u_tu_x} \\beta^{2} u_{x}^{2} = 0, \\\\\n",
      "F_{tu_y} + 2 F_{u_xy} \\gamma + 2 F_{u_yx} \\alpha + 2 F_{u_yx} \\beta u_{x} + 2 F_{uu_x} \\gamma u_{y} + 2 F_{uu_y} \\alpha u_{x} + 2 F_{uu_y} \\beta u_{x}^{2} + F_{uu_y} u_{t} = 0, \\\\\n",
      "F_{u_tu_y} = 0, \\\\\n",
      "2 F_{u_tu_x} \\gamma + F_{u_yu_y} = 0, \\\\\n",
      "- 2 F_{u_tu_y} \\alpha^{2} - 4 F_{u_tu_y} \\alpha \\beta u_{x} - 2 F_{u_tu_y} \\beta^{2} u_{x}^{2} + F_{u_xu_y} \\alpha + F_{u_xu_y} \\beta u_{x} = 0, \\\\\n",
      "F_{u_xu_x} \\gamma + F_{u_yu_y} \\alpha + F_{u_yu_y} \\beta u_{x} = 0, \\\\\n",
      "- F_{tu_t} \\gamma - 2 F_{u_tx} \\alpha \\gamma - 2 F_{u_tx} \\beta \\gamma u_{x} - F_{u_xx} \\gamma + 2 F_{u_yy} \\gamma - 2 F_{uu_t} \\alpha \\gamma u_{x} - 2 F_{uu_t} \\beta \\gamma u_{x}^{2} - F_{uu_t} \\gamma u_{t} - F_{uu_x} \\gamma u_{x} + 2 F_{uu_y} \\gamma u_{y} = 0, \\\\\n",
      "- F_{u_tu_t} \\gamma = 0, \\\\\n",
      "F_{u_tu_y} \\gamma = 0, \\\\\n",
      "2 F_{u_tu_t} \\alpha^{2} \\gamma + 4 F_{u_tu_t} \\alpha \\beta \\gamma u_{x} + 2 F_{u_tu_t} \\beta^{2} \\gamma u_{x}^{2} - F_{u_xu_x} \\gamma = 0, \\\\\n",
      "- 2 F_{u_tu_y} \\alpha \\gamma - 2 F_{u_tu_y} \\beta \\gamma u_{x} + F_{u_xu_y} \\gamma = 0, \\\\\n",
      "F_{u_tu_t} \\alpha \\gamma^{2} + F_{u_tu_t} \\beta \\gamma^{2} u_{x} + F_{u_tu_x} \\gamma^{2} + F_{u_yu_y} \\gamma = 0, \\\\\n"
     ]
    },
    {
     "data": {
      "image/png": "[encoded data removed]",
      "text/latex": [
       "$$\\left [ F_{tu} u_{x} + F_{tx} + F_{uu} \\alpha u_{x}^{2} + F_{uu} \\beta u_{x}^{3} + F_{uu} \\gamma u_{y}^{2} + F_{uu} u_{t} u_{x} + 2 F_{ux} \\alpha u_{x} + 2 F_{ux} \\beta u_{x}^{2} + F_{ux} u_{t} + 2 F_{uy} \\gamma u_{y} + F_{xx} \\alpha + F_{xx} \\beta u_{x} + F_{yy} \\gamma, \\quad F_{u_tx} + F_{uu_t} u_{x}, \\quad 2 F_{u_ty} \\gamma + F_{u_yx} + 2 F_{uu_t} \\gamma u_{y} + F_{uu_y} u_{x}, \\quad F_{u_tu_t} \\gamma, \\quad - F_{tu_t} \\alpha - F_{tu_t} \\beta u_{x} + F_{tu_x} - 2 F_{u_tx} \\alpha^{2} - 4 F_{u_tx} \\alpha \\beta u_{x} - 2 F_{u_tx} \\beta^{2} u_{x}^{2} + F_{u_xx} \\alpha + F_{u_xx} \\beta u_{x} - 2 F_{uu_t} \\alpha^{2} u_{x} - 4 F_{uu_t} \\alpha \\beta u_{x}^{2} - F_{uu_t} \\alpha u_{t} - 2 F_{uu_t} \\beta^{2} u_{x}^{3} - F_{uu_t} \\beta u_{t} u_{x} + F_{uu_x} \\alpha u_{x} + F_{uu_x} \\beta u_{x}^{2} + F_{uu_x} u_{t} + F_{u} \\beta u_{x} + F_{x} \\beta, \\quad - F_{u_tu_t} \\alpha - F_{u_tu_t} \\beta u_{x} + F_{u_tu_x}, \\quad - F_{u_tu_y} \\alpha - F_{u_tu_y} \\beta u_{x} + F_{u_xu_y}, \\quad F_{u_tu_t} \\alpha^{3} + 3 F_{u_tu_t} \\alpha^{2} \\beta u_{x} + 3 F_{u_tu_t} \\alpha \\beta^{2} u_{x}^{2} + F_{u_tu_t} \\beta^{3} u_{x}^{3} - F_{u_tu_x} \\alpha^{2} - 2 F_{u_tu_x} \\alpha \\beta u_{x} - F_{u_tu_x} \\beta^{2} u_{x}^{2}, \\quad F_{tu_y} + 2 F_{u_xy} \\gamma + 2 F_{u_yx} \\alpha + 2 F_{u_yx} \\beta u_{x} + 2 F_{uu_x} \\gamma u_{y} + 2 F_{uu_y} \\alpha u_{x} + 2 F_{uu_y} \\beta u_{x}^{2} + F_{uu_y} u_{t}, \\quad F_{u_tu_y}, \\quad 2 F_{u_tu_x} \\gamma + F_{u_yu_y}, \\quad - 2 F_{u_tu_y} \\alpha^{2} - 4 F_{u_tu_y} \\alpha \\beta u_{x} - 2 F_{u_tu_y} \\beta^{2} u_{x}^{2} + F_{u_xu_y} \\alpha + F_{u_xu_y} \\beta u_{x}, \\quad F_{u_xu_x} \\gamma + F_{u_yu_y} \\alpha + F_{u_yu_y} \\beta u_{x}, \\quad - F_{tu_t} \\gamma - 2 F_{u_tx} \\alpha \\gamma - 2 F_{u_tx} \\beta \\gamma u_{x} - F_{u_xx} \\gamma + 2 F_{u_yy} \\gamma - 2 F_{uu_t} \\alpha \\gamma u_{x} - 2 F_{uu_t} \\beta \\gamma u_{x}^{2} - F_{uu_t} \\gamma u_{t} - F_{uu_x} \\gamma u_{x} + 2 F_{uu_y} \\gamma u_{y}, \\quad - F_{u_tu_t} \\gamma, \\quad F_{u_tu_y} \\gamma, \\quad 2 F_{u_tu_t} \\alpha^{2} \\gamma + 4 F_{u_tu_t} \\alpha \\beta \\gamma u_{x} + 2 F_{u_tu_t} \\beta^{2} \\gamma u_{x}^{2} - F_{u_xu_x} \\gamma, \\quad - 2 F_{u_tu_y} \\alpha \\gamma - 2 F_{u_tu_y} \\beta \\gamma u_{x} + F_{u_xu_y} \\gamma, \\quad F_{u_tu_t} \\alpha \\gamma^{2} + F_{u_tu_t} \\beta \\gamma^{2} u_{x} + F_{u_tu_x} \\gamma^{2} + F_{u_yu_y} \\gamma\\right ]$$"
      ],
      "text/plain": [
       "⎡                                2              3               2             \n",
       "⎣F_{tu}⋅uₓ + F_{tx} + F_{uu}⋅α⋅uₓ  + F_{uu}⋅β⋅uₓ  + F_{uu}⋅γ⋅u_y  + F_{uu}⋅uₜ⋅\n",
       "\n",
       "                                  2                                           \n",
       "uₓ + 2⋅F_{ux}⋅α⋅uₓ + 2⋅F_{ux}⋅β⋅uₓ  + F_{ux}⋅uₜ + 2⋅F_{uy}⋅γ⋅u_y + F_{xx}⋅α + \n",
       "\n",
       "                                                                              \n",
       "F_{xx}⋅β⋅uₓ + F_{yy}⋅γ, F_{u_tx} + F_{uu_t}⋅uₓ, 2⋅F_{u_ty}⋅γ + F_{u_yx} + 2⋅F_\n",
       "\n",
       "                                                                              \n",
       "{uu_t}⋅γ⋅u_y + F_{uu_y}⋅uₓ, F_{u_tu_t}⋅γ, -F_{tu_t}⋅α - F_{tu_t}⋅β⋅uₓ + F_{tu_\n",
       "\n",
       "                 2                                   2   2                    \n",
       "x} - 2⋅F_{u_tx}⋅α  - 4⋅F_{u_tx}⋅α⋅β⋅uₓ - 2⋅F_{u_tx}⋅β ⋅uₓ  + F_{u_xx}⋅α + F_{u\n",
       "\n",
       "                        2                       2                             \n",
       "_xx}⋅β⋅uₓ - 2⋅F_{uu_t}⋅α ⋅uₓ - 4⋅F_{uu_t}⋅α⋅β⋅uₓ  - F_{uu_t}⋅α⋅uₜ - 2⋅F_{uu_t}\n",
       "\n",
       "  2   3                                                   2                   \n",
       "⋅β ⋅uₓ  - F_{uu_t}⋅β⋅uₜ⋅uₓ + F_{uu_x}⋅α⋅uₓ + F_{uu_x}⋅β⋅uₓ  + F_{uu_x}⋅uₜ + F_\n",
       "\n",
       "                                                                              \n",
       "{u}⋅β⋅uₓ + F_{x}⋅β, -F_{u_tu_t}⋅α - F_{u_tu_t}⋅β⋅uₓ + F_{u_tu_x}, -F_{u_tu_y}⋅\n",
       "\n",
       "                                              3                 2             \n",
       "α - F_{u_tu_y}⋅β⋅uₓ + F_{u_xu_y}, F_{u_tu_t}⋅α  + 3⋅F_{u_tu_t}⋅α ⋅β⋅uₓ + 3⋅F_{\n",
       "\n",
       "           2   2               3   3               2                          \n",
       "u_tu_t}⋅α⋅β ⋅uₓ  + F_{u_tu_t}⋅β ⋅uₓ  - F_{u_tu_x}⋅α  - 2⋅F_{u_tu_x}⋅α⋅β⋅uₓ - F\n",
       "\n",
       "           2   2                                                              \n",
       "_{u_tu_x}⋅β ⋅uₓ , F_{tu_y} + 2⋅F_{u_xy}⋅γ + 2⋅F_{u_yx}⋅α + 2⋅F_{u_yx}⋅β⋅uₓ + 2\n",
       "\n",
       "                                                   2                          \n",
       "⋅F_{uu_x}⋅γ⋅u_y + 2⋅F_{uu_y}⋅α⋅uₓ + 2⋅F_{uu_y}⋅β⋅uₓ  + F_{uu_y}⋅uₜ, F_{u_tu_y}\n",
       "\n",
       "                                               2                              \n",
       ", 2⋅F_{u_tu_x}⋅γ + F_{u_yu_y}, - 2⋅F_{u_tu_y}⋅α  - 4⋅F_{u_tu_y}⋅α⋅β⋅uₓ - 2⋅F_{\n",
       "\n",
       "         2   2                                                                \n",
       "u_tu_y}⋅β ⋅uₓ  + F_{u_xu_y}⋅α + F_{u_xu_y}⋅β⋅uₓ, F_{u_xu_x}⋅γ + F_{u_yu_y}⋅α +\n",
       "\n",
       "                                                                              \n",
       " F_{u_yu_y}⋅β⋅uₓ, -F_{tu_t}⋅γ - 2⋅F_{u_tx}⋅α⋅γ - 2⋅F_{u_tx}⋅β⋅γ⋅uₓ - F_{u_xx}⋅\n",
       "\n",
       "                                                        2                     \n",
       "γ + 2⋅F_{u_yy}⋅γ - 2⋅F_{uu_t}⋅α⋅γ⋅uₓ - 2⋅F_{uu_t}⋅β⋅γ⋅uₓ  - F_{uu_t}⋅γ⋅uₜ - F_\n",
       "\n",
       "                                                                           2  \n",
       "{uu_x}⋅γ⋅uₓ + 2⋅F_{uu_y}⋅γ⋅u_y, -F_{u_tu_t}⋅γ, F_{u_tu_y}⋅γ, 2⋅F_{u_tu_t}⋅α ⋅γ\n",
       "\n",
       "                                         2     2                              \n",
       " + 4⋅F_{u_tu_t}⋅α⋅β⋅γ⋅uₓ + 2⋅F_{u_tu_t}⋅β ⋅γ⋅uₓ  - F_{u_xu_x}⋅γ, -2⋅F_{u_tu_y}\n",
       "\n",
       "                                                         2                 2  \n",
       "⋅α⋅γ - 2⋅F_{u_tu_y}⋅β⋅γ⋅uₓ + F_{u_xu_y}⋅γ, F_{u_tu_t}⋅α⋅γ  + F_{u_tu_t}⋅β⋅γ ⋅u\n",
       "\n",
       "                2               ⎤\n",
       "ₓ + F_{u_tu_x}⋅γ  + F_{u_yu_y}⋅γ⎦"
      ]
     },
     "execution_count": 24,
     "metadata": {},
     "output_type": "execute_result"
    }
   ],
   "source": [
    "eqs = [eq4]\n",
    "for df in DF:\n",
    "    r = []\n",
    "    for eq in eqs:\n",
    "        for d in range(3):\n",
    "            if eq.coeff(df, d):\n",
    "                r.append(eq.coeff(df, d))\n",
    "    eqs = r\n",
    "for eq in eqs:\n",
    "    print(sympy.latex(compact(eq)) + r\" = 0, \\\\\")\n",
    "[compact(eq) for eq in eqs]"
   ]
  },
  {
   "cell_type": "code",
   "execution_count": 15,
   "metadata": {},
   "outputs": [],
   "source": [
    "Monom.cmp = Monom.TOPdeglex"
   ]
  },
  {
   "cell_type": "code",
   "execution_count": 16,
   "metadata": {},
   "outputs": [],
   "source": [
    "var = ['t', 'x', 'y', 'u', 'u_t', 'u_x', 'u_y']\n",
    "fun = ['F']\n",
    "Monom.init(var, fun)\n",
    "df = PolyDiff.df\n",
    "diff2poly = PolyDiff.diff2poly\n",
    "var, fun = PolyDiff.init()\n",
    "t, x, y, u, ut, ux, uy = var\n",
    "F = fun[0]"
   ]
  },
  {
   "cell_type": "code",
   "execution_count": 17,
   "metadata": {},
   "outputs": [
    {
     "data": {
      "image/png": "[encoded data removed]",
      "text/latex": [
       "$$\\alpha u_{x}^{2} \\frac{\\partial^{2}}{\\partial u^{2}} F{\\left (t,x,y,u,u_{t},u_{x},u_{y} \\right )} + 2 \\alpha u_{x} \\frac{\\partial^{2}}{\\partial x\\partial u} F{\\left (t,x,y,u,u_{t},u_{x},u_{y} \\right )} + \\alpha \\frac{\\partial^{2}}{\\partial x^{2}} F{\\left (t,x,y,u,u_{t},u_{x},u_{y} \\right )} + \\beta u_{x}^{3} \\frac{\\partial^{2}}{\\partial u^{2}} F{\\left (t,x,y,u,u_{t},u_{x},u_{y} \\right )} + 2 \\beta u_{x}^{2} \\frac{\\partial^{2}}{\\partial x\\partial u} F{\\left (t,x,y,u,u_{t},u_{x},u_{y} \\right )} + \\beta u_{x} \\frac{\\partial^{2}}{\\partial x^{2}} F{\\left (t,x,y,u,u_{t},u_{x},u_{y} \\right )} + \\gamma u_{y}^{2} \\frac{\\partial^{2}}{\\partial u^{2}} F{\\left (t,x,y,u,u_{t},u_{x},u_{y} \\right )} + 2 \\gamma u_{y} \\frac{\\partial^{2}}{\\partial y\\partial u} F{\\left (t,x,y,u,u_{t},u_{x},u_{y} \\right )} + \\gamma \\frac{\\partial^{2}}{\\partial y^{2}} F{\\left (t,x,y,u,u_{t},u_{x},u_{y} \\right )} + u_{t} u_{x} \\frac{\\partial^{2}}{\\partial u^{2}} F{\\left (t,x,y,u,u_{t},u_{x},u_{y} \\right )} + u_{t} \\frac{\\partial^{2}}{\\partial x\\partial u} F{\\left (t,x,y,u,u_{t},u_{x},u_{y} \\right )} + u_{x} \\frac{\\partial^{2}}{\\partial u\\partial t} F{\\left (t,x,y,u,u_{t},u_{x},u_{y} \\right )} + \\frac{\\partial^{2}}{\\partial x\\partial t} F{\\left (t,x,y,u,u_{t},u_{x},u_{y} \\right )}$$"
      ],
      "text/plain": [
       "        2                                         2                           \n",
       "    2  ∂                                         ∂                            \n",
       "α⋅uₓ ⋅───(F(t, x, y, u, uₜ, uₓ, u_y)) + 2⋅α⋅uₓ⋅─────(F(t, x, y, u, uₜ, uₓ, u_y\n",
       "        2                                      ∂x ∂u                          \n",
       "      ∂u                                                                      \n",
       "\n",
       "         2                                       2                            \n",
       "        ∂                                    3  ∂                             \n",
       ")) + α⋅───(F(t, x, y, u, uₜ, uₓ, u_y)) + β⋅uₓ ⋅───(F(t, x, y, u, uₜ, uₓ, u_y))\n",
       "         2                                       2                            \n",
       "       ∂x                                      ∂u                             \n",
       "\n",
       "              2                                       2                       \n",
       "         2   ∂                                       ∂                        \n",
       " + 2⋅β⋅uₓ ⋅─────(F(t, x, y, u, uₜ, uₓ, u_y)) + β⋅uₓ⋅───(F(t, x, y, u, uₜ, uₓ, \n",
       "           ∂x ∂u                                      2                       \n",
       "                                                    ∂x                        \n",
       "\n",
       "                 2                                          2                 \n",
       "             2  ∂                                          ∂                  \n",
       "u_y)) + γ⋅u_y ⋅───(F(t, x, y, u, uₜ, uₓ, u_y)) + 2⋅γ⋅u_y⋅─────(F(t, x, y, u, u\n",
       "                 2                                       ∂y ∂u                \n",
       "               ∂u                                                             \n",
       "\n",
       "                   2                                       2                  \n",
       "                  ∂                                       ∂                   \n",
       "ₜ, uₓ, u_y)) + γ⋅───(F(t, x, y, u, uₜ, uₓ, u_y)) + uₜ⋅uₓ⋅───(F(t, x, y, u, uₜ,\n",
       "                   2                                       2                  \n",
       "                 ∂y                                      ∂u                   \n",
       "\n",
       "                   2                                      2                   \n",
       "                  ∂                                      ∂                    \n",
       " uₓ, u_y)) + uₜ⋅─────(F(t, x, y, u, uₜ, uₓ, u_y)) + uₓ⋅─────(F(t, x, y, u, uₜ,\n",
       "                ∂x ∂u                                  ∂u ∂t                  \n",
       "                                                                              \n",
       "\n",
       "                2                             \n",
       "               ∂                              \n",
       " uₓ, u_y)) + ─────(F(t, x, y, u, uₜ, uₓ, u_y))\n",
       "             ∂x ∂t                            \n",
       "                                              "
      ]
     },
     "execution_count": 17,
     "metadata": {},
     "output_type": "execute_result"
    }
   ],
   "source": [
    "eqs[0]"
   ]
  },
  {
   "cell_type": "code",
   "execution_count": 18,
   "metadata": {},
   "outputs": [
    {
     "data": {
      "text/plain": [
       "[[[0;1 1 0 0 0 0 0], 1],\n",
       " [[0;0 2 0 0 0 0 0], alpha + beta*u_x],\n",
       " [[0;0 0 2 0 0 0 0], gamma],\n",
       " [[0;1 0 0 1 0 0 0], u_x],\n",
       " [[0;0 1 0 1 0 0 0], 2*alpha*u_x + 2*beta*u_x**2 + u_t],\n",
       " [[0;0 0 1 1 0 0 0], 2*gamma*u_y],\n",
       " [[0;0 0 0 2 0 0 0], alpha*u_x**2 + beta*u_x**3 + gamma*u_y**2 + u_t*u_x]]"
      ]
     },
     "execution_count": 18,
     "metadata": {},
     "output_type": "execute_result"
    }
   ],
   "source": [
    "diff2poly(eqs[0])"
   ]
  },
  {
   "cell_type": "code",
   "execution_count": 19,
   "metadata": {},
   "outputs": [
    {
     "name": "stdout",
     "output_type": "stream",
     "text": [
      "df(F, t, x) + df(F, x, 2)*(alpha + beta*u_x) + df(F, y, 2)*gamma + df(F, t, u)*u_x + df(F, x, u)*(2*alpha*u_x + 2*beta*u_x**2 + u_t) + df(F, y, u)*2*gamma*u_y + df(F, u, 2)*(alpha*u_x**2 + beta*u_x**3 + gamma*u_y**2 + u_t*u_x)\n"
     ]
    }
   ],
   "source": [
    "print(diff2poly(eqs[0]))"
   ]
  },
  {
   "cell_type": "code",
   "execution_count": 20,
   "metadata": {
    "scrolled": false
   },
   "outputs": [
    {
     "name": "stdout",
     "output_type": "stream",
     "text": [
      "prolong 0, Q 2\n",
      "df(F, u_t, u_y)\n",
      "prolong 0, Q 2\n",
      "df(F, u_x, u_y), df(F, u_x, 2), df(F, u_t, u_x), df(F, y, u_x), df(F, u_t, 2), df(F, u_y, 2), df(F, y, u_t), df(F, x, u_t), df(F, t, u_t), df(F, t, u_x), df(F, t, x)\n",
      "prolong 2, Q 0\n",
      "df(F, y, u_y, 2)\n",
      "prolong 3, Q 3\n",
      "df(F, x, u_y, 2)\n",
      "prolong 3, Q 3\n",
      "df(F, t, u_y, 2)\n",
      "prolong 3, Q 3\n",
      "df(F, u, u_x)\n",
      "prolong 2, Q 3\n",
      "df(F, u, u_y, 2)\n",
      "prolong 3, Q 3\n",
      "df(F, x, u_x, u_y)\n",
      "prolong 3, Q 3\n",
      "df(F, x, u_y)\n",
      "prolong 2, Q 3\n",
      "df(F, u, u_y)\n",
      "prolong 2, Q 3\n",
      "df(F, u, u_t)\n",
      "prolong 2, Q 3\n",
      "df(F, y, u, u_y)\n",
      "prolong 2, Q 3\n",
      "df(F, t, u, u_y)\n",
      "prolong 2, Q 3\n",
      "df(F, x, u_x), df(F, x, u), df(F, y, u)\n",
      "prolong 2, Q 3\n",
      "df(F, u, 2)\n",
      "prolong 2, Q 3\n",
      "df(F, y, 2, u_y)\n",
      "prolong 2, Q 3\n",
      "df(F, t, y, u_y)\n",
      "prolong 2, Q 3\n",
      "df(F, t, 2, u_y)\n",
      "prolong 2, Q 3\n",
      "df(F, t, u, u_x)\n",
      "prolong 3, Q 3\n",
      "df(F, y, 2, u_x)\n",
      "prolong 3, Q 3\n",
      "df(F, t, y, u_x)\n",
      "prolong 3, Q 3\n",
      "df(F, x, 2)\n",
      "prolong 2, Q 3\n",
      "df(F, t, 2, u_x)\n",
      "prolong 3, Q 3\n",
      "df(F, t, u, u_t)\n",
      "prolong 3, Q 3\n",
      "df(F, y, 2, u_t)\n",
      "prolong 3, Q 3\n",
      "df(F, t, y, u_t)\n",
      "prolong 3, Q 3\n",
      "df(F, t, 2, u_t)\n",
      "prolong 3, Q 3\n",
      "df(F, t, u, 2)\n",
      "prolong 3, Q 3\n",
      "df(F, y, 2, u)\n",
      "prolong 3, Q 3\n",
      "df(F, t, y, u)\n",
      "prolong 3, Q 3\n",
      "df(F, x, y, 2), df(F, t, 2, x)\n",
      "prolong 2, Q 0\n",
      "df(F, x, y, u_y)\n",
      "prolong 3, Q 3\n",
      "df(F, x, y, u_x)\n",
      "prolong 3, Q 3\n",
      "df(F, x, y, u_t)\n",
      "prolong 3, Q 3\n",
      "df(F, x, y, u)\n",
      "prolong 3, Q 0\n",
      "df(F, t, 2, u, 2)\n",
      "prolong 3, Q 4\n",
      "df(F, t, 2, u, u_y)\n",
      "prolong 4, Q 4\n",
      "df(F, t, 2, u, u_x)\n",
      "prolong 4, Q 4\n",
      "df(F, t, 2, u, u_t)\n",
      "prolong 4, Q 4\n",
      "df(F, t, 2, y, u)\n",
      "prolong 3, Q 4\n",
      "df(F, t, 2, y, u_y)\n",
      "prolong 4, Q 4\n",
      "df(F, t, 2, y, u_x)\n",
      "prolong 4, Q 4\n",
      "df(F, t, 2, y, u_t)\n",
      "prolong 4, Q 4\n",
      "df(F, y, 4)\n",
      "prolong 3, Q 0\n",
      "df(F, y, 3, u_y)\n",
      "prolong 4, Q 4\n",
      "df(F, y, 3, u_x)\n",
      "prolong 4, Q 4\n",
      "df(F, y, 3, u_t)\n",
      "prolong 4, Q 4\n",
      "df(F, y, 3, u)\n",
      "prolong 4, Q 0\n",
      "df(F, t, y, 4)\n",
      "prolong 3, Q 0\n",
      "df(F, t, y, 2, u_y)\n",
      "prolong 4, Q 4\n",
      "df(F, t, y, 2, u_x)\n",
      "prolong 4, Q 4\n",
      "df(F, t, y, 2, u_t)\n",
      "prolong 4, Q 4\n",
      "df(F, t, y, 2, u)\n",
      "prolong 4, Q 0\n",
      "df(F, t, y, 3, u_y)\n",
      "prolong 5, Q 5\n",
      "df(F, t, y, 3, u_x)\n",
      "prolong 5, Q 5\n",
      "df(F, t, y, 3, u_t)\n",
      "prolong 5, Q 5\n",
      "df(F, t, y, 3, u)\n",
      "prolong 5, Q 5\n",
      "prolong 5, Q 0\n",
      "df(F, t, 2, y, 4)\n",
      "prolong 4, Q 0\n",
      "df(F, t, 2, y, 2, u_y)\n",
      "prolong 5, Q 5\n",
      "df(F, t, 2, y, 2, u_x)\n",
      "prolong 5, Q 5\n",
      "df(F, t, 2, y, 2, u_t)\n",
      "prolong 5, Q 5\n",
      "df(F, t, 2, y, 2, u)\n",
      "prolong 5, Q 0\n",
      "df(F, t, 2, y, 3, u_y)\n",
      "prolong 6, Q 6\n",
      "df(F, t, 2, y, 3, u_x)\n",
      "prolong 6, Q 6\n",
      "df(F, t, 2, y, 3, u_t)\n",
      "prolong 6, Q 6\n",
      "df(F, t, 2, y, 3, u)\n",
      "prolong 6, Q 6\n",
      "prolong 6, Q 0\n",
      "prolong 0, Q 0\n",
      "    crit1: 0\n",
      "    crit2: 0\n",
      "     time: 1.53 sec\n",
      "    count: 75\n",
      "reduction: 910\n",
      "       HP: 5s + 5\n"
     ]
    }
   ],
   "source": [
    "LRT = Janet()\n",
    "res = ginvBlockLow([diff2poly(eq) for eq in eqs], \\\n",
    "LRT, level=1)\n",
    "print(f\"    crit1: {res[1]}\")\n",
    "print(f\"    crit2: {res[2]}\")\n",
    "print(f\"     time: {res[0]:.2f} sec\")\n",
    "print(f\"    count: {LRT.count()}\")\n",
    "print(f\"reduction: {LRT.reduction()}\")\n",
    "print(f\"       HP: {LRT.HP()}\")\n",
    "LRT.saveImage('LRT.pdf', level=1)"
   ]
  },
  {
   "cell_type": "code",
   "execution_count": 21,
   "metadata": {},
   "outputs": [
    {
     "name": "stdout",
     "output_type": "stream",
     "text": [
      "df(F, u_y, 2)\n",
      "df(F, u_x, u_y)\n",
      "df(F, u_x, 2)\n",
      "df(F, u_t, u_y)\n",
      "df(F, u_t, u_x)\n",
      "df(F, u_t, 2)\n",
      "df(F, u, u_y)\n",
      "df(F, u, u_x)\n",
      "df(F, u, u_t)\n",
      "df(F, u, 2)\n",
      "df(F, y, u_y, 2)\n",
      "df(F, y, u_x)*(-2*gamma) + df(F, t, u_y)*(-1)\n",
      "df(F, y, u_t)\n",
      "df(F, y, u)\n",
      "df(F, y, 2, u_y)\n",
      "df(F, y, 2, u_x)*(-gamma) + df(F, t, u)*(-1)\n",
      "df(F, y, 2, u_t)\n",
      "df(F, y, 2, u)\n",
      "df(F, y, 3, u_y)\n",
      "df(F, y, 3, u_x)\n",
      "df(F, y, 3, u_t)\n",
      "df(F, y, 3, u)\n",
      "df(F, y, 4)*(-beta*gamma**2) + df(F, t, 3, u)*(-1)\n",
      "df(F, x, u_y)\n",
      "df(F, x, u_x)*(-3) + df(F, y, u_y)*2 + df(F, u)*(-1)\n",
      "df(F, x, u_t)\n",
      "df(F, x, u)\n",
      "df(F, x, y, u_y)\n",
      "df(F, x, y, u_x)\n",
      "df(F, x, y, u_t)\n",
      "df(F, x, y, u)\n",
      "df(F, x, y, 2)*beta*gamma + df(F, t, 2, u)*(-1)\n",
      "df(F, x, 2)*(-beta) + df(F, t, u)*(-1)\n",
      "df(F, t, u_y, 2)\n",
      "df(F, t, u_x)*(-3) + df(F, y, u_y)*(2*alpha + 2*beta*u_x) + df(F, x)*(-3*beta) + df(F, u)*(2*alpha - beta*u_x)\n",
      "df(F, t, u_t)*3 + df(F, y, u_y)*(-4) + df(F, u)*(-1)\n",
      "df(F, t, u, u_y)\n",
      "df(F, t, u, u_x)\n",
      "df(F, t, u, u_t)\n",
      "df(F, t, u, 2)\n",
      "df(F, t, y, u_y) + df(F, t, u)*(-2)\n",
      "df(F, t, y, u_x)*(-1) + df(F, x, y)*(-beta)\n",
      "df(F, t, y, u_t)\n",
      "df(F, t, y, u)\n",
      "df(F, t, y, 2, u_y)\n",
      "df(F, t, y, 2, u_x)*(-gamma) + df(F, t, 2, u)*(-1)\n",
      "df(F, t, y, 2, u_t)\n",
      "df(F, t, y, 2, u)\n",
      "df(F, t, y, 3, u_y)\n",
      "df(F, t, y, 3, u_x)\n",
      "df(F, t, y, 3, u_t)\n",
      "df(F, t, y, 3, u)\n",
      "df(F, t, y, 4)*(-beta*gamma**2) + df(F, t, 4, u)*(-1)\n",
      "df(F, t, x)*beta + df(F, y, 2)*beta*gamma + df(F, t, u)*(-alpha)\n",
      "df(F, t, 2, u_y)*(-1) + df(F, x, y)*2*beta*gamma\n",
      "df(F, t, 2, u_x)*(-1) + df(F, y, 2)*beta*gamma + df(F, t, u)*(alpha + beta*u_x)\n",
      "df(F, t, 2, u_t) + df(F, t, u)*(-3)\n",
      "df(F, t, 2, u, u_y)\n",
      "df(F, t, 2, u, u_x)\n",
      "df(F, t, 2, u, u_t)\n",
      "df(F, t, 2, u, 2)\n",
      "df(F, t, 2, y, u_y)*(-1) + df(F, t, 2, u)*2\n",
      "df(F, t, 2, y, u_x)*(-1) + df(F, y, 3)*beta*gamma\n",
      "df(F, t, 2, y, u_t)\n",
      "df(F, t, 2, y, u)\n",
      "df(F, t, 2, y, 2, u_y)\n",
      "df(F, t, 2, y, 2, u_x)*gamma + df(F, t, 3, u)\n",
      "df(F, t, 2, y, 2, u_t)\n",
      "df(F, t, 2, y, 2, u)\n",
      "df(F, t, 2, y, 3, u_y)\n",
      "df(F, t, 2, y, 3, u_x)\n",
      "df(F, t, 2, y, 3, u_t)\n",
      "df(F, t, 2, y, 3, u)\n",
      "df(F, t, 2, y, 4)*(-beta*gamma**2) + df(F, t, 5, u)*(-1)\n",
      "df(F, t, 2, x)*(-beta) + df(F, t, y, 2)*(-beta*gamma) + df(F, t, 2, u)*alpha\n"
     ]
    }
   ],
   "source": [
    "for w in LRT:\n",
    "    print(w.poly)"
   ]
  },
  {
   "cell_type": "code",
   "execution_count": 22,
   "metadata": {},
   "outputs": [
    {
     "name": "stdout",
     "output_type": "stream",
     "text": [
      "df(F, u_y, 2)\n",
      "df(F, u_x, u_y)\n",
      "df(F, u_x, 2)\n",
      "df(F, u_t, u_y)\n",
      "df(F, u_t, u_x)\n",
      "df(F, u_t, 2)\n",
      "df(F, u, u_y)\n",
      "df(F, u, u_x)\n",
      "df(F, u, u_t)\n",
      "df(F, u, 2)\n",
      "df(F, y, u_x)*(-2*gamma) + df(F, t, u_y)*(-1)\n",
      "df(F, y, u_t)\n",
      "df(F, y, u)\n",
      "df(F, y, 2, u_y)\n",
      "df(F, y, 4)*(-beta*gamma**2) + df(F, t, 3, u)*(-1)\n",
      "df(F, x, u_y)\n",
      "df(F, x, u_x)*(-3) + df(F, y, u_y)*2 + df(F, u)*(-1)\n",
      "df(F, x, u_t)\n",
      "df(F, x, u)\n",
      "df(F, x, y, 2)*beta*gamma + df(F, t, 2, u)*(-1)\n",
      "df(F, x, 2)*(-beta) + df(F, t, u)*(-1)\n",
      "df(F, t, u_x)*(-3) + df(F, y, u_y)*(2*alpha + 2*beta*u_x) + df(F, x)*(-3*beta) + df(F, u)*(2*alpha - beta*u_x)\n",
      "df(F, t, u_t)*3 + df(F, y, u_y)*(-4) + df(F, u)*(-1)\n",
      "df(F, t, u, u_t)\n",
      "df(F, t, y, u_y) + df(F, t, u)*(-2)\n",
      "df(F, t, x)*beta + df(F, y, 2)*beta*gamma + df(F, t, u)*(-alpha)\n",
      "df(F, t, 2, u_y)*(-1) + df(F, x, y)*2*beta*gamma\n"
     ]
    }
   ],
   "source": [
    "for w in LRT.GB():\n",
    "    print(w.poly)"
   ]
  },
  {
   "cell_type": "code",
   "execution_count": 23,
   "metadata": {},
   "outputs": [
    {
     "name": "stdout",
     "output_type": "stream",
     "text": [
      "F_{u_yu_y} = 0, \\\\\n",
      "F_{u_xu_y} = 0, \\\\\n",
      "F_{u_xu_x} = 0, \\\\\n",
      "F_{u_tu_y} = 0, \\\\\n",
      "F_{u_tu_x} = 0, \\\\\n",
      "F_{u_tu_t} = 0, \\\\\n",
      "F_{uu_y} = 0, \\\\\n",
      "F_{uu_x} = 0, \\\\\n",
      "F_{uu_t} = 0, \\\\\n",
      "F_{uu} = 0, \\\\\n",
      "- F_{tu_y} - 2 F_{u_xy} \\gamma = 0, \\\\\n",
      "F_{u_ty} = 0, \\\\\n",
      "F_{uy} = 0, \\\\\n",
      "F_{u_yyy} = 0, \\\\\n",
      "- F_{tttu} - F_{yyyy} \\beta \\gamma^{2} = 0, \\\\\n",
      "F_{u_yx} = 0, \\\\\n",
      "- 3 F_{u_xx} + 2 F_{u_yy} - F_{u} = 0, \\\\\n",
      "F_{u_tx} = 0, \\\\\n",
      "F_{ux} = 0, \\\\\n",
      "- F_{ttu} + F_{xyy} \\beta \\gamma = 0, \\\\\n",
      "- F_{tu} - F_{xx} \\beta = 0, \\\\\n",
      "- 3 F_{tu_x} + 2 F_{u_yy} \\alpha + 2 F_{u_yy} \\beta u_{x} + 2 F_{u} \\alpha - F_{u} \\beta u_{x} - 3 F_{x} \\beta = 0, \\\\\n",
      "3 F_{tu_t} - 4 F_{u_yy} - F_{u} = 0, \\\\\n",
      "F_{tuu_t} = 0, \\\\\n",
      "F_{tu_yy} - 2 F_{tu} = 0, \\\\\n",
      "- F_{tu} \\alpha + F_{tx} \\beta + F_{yy} \\beta \\gamma = 0, \\\\\n",
      "- F_{ttu_y} + 2 F_{xy} \\beta \\gamma = 0, \\\\\n"
     ]
    }
   ],
   "source": [
    "for w in LRT.GB():\n",
    "    print(sympy.latex(compact(sum(sympy.Function('F')(t, x, y, u, ut, ux, uy)\\\n",
    "    .diff(*((v, d) for v, d in zip(var, m)))*c for m, c in w.poly).expand())) + r\" = 0, \\\\\")"
   ]
  },
  {
   "cell_type": "code",
   "execution_count": 26,
   "metadata": {},
   "outputs": [
    {
     "name": "stdout",
     "output_type": "stream",
     "text": [
      "{F}_{{u_y} {u_y}}{1} = 0, \\\\\n",
      "{F}_{{u_x} {u_y}}{1} = 0, \\\\\n",
      "{F}_{{u_x} {u_x}}{1} = 0, \\\\\n",
      "{F}_{{u_t} {u_y}}{1} = 0, \\\\\n",
      "{F}_{{u_t} {u_x}}{1} = 0, \\\\\n",
      "{F}_{{u_t} {u_t}}{1} = 0, \\\\\n",
      "{F}_{{u} {u_y}}{1} = 0, \\\\\n",
      "{F}_{{u} {u_x}}{1} = 0, \\\\\n",
      "{F}_{{u} {u_t}}{1} = 0, \\\\\n",
      "{F}_{{u} {u}}{1} = 0, \\\\\n",
      "{F}_{{y} {u_x}}{- 2 \\gamma} + {F}_{{t} {u_y}}{-1} = 0, \\\\\n",
      "{F}_{{y} {u_t}}{1} = 0, \\\\\n",
      "{F}_{{y} {u}}{1} = 0, \\\\\n",
      "{F}_{{y} {y} {u_y}}{1} = 0, \\\\\n",
      "{F}_{{y} {y} {y} {y}}{- \\beta \\gamma^{2}} + {F}_{{t} {t} {t} {u}}{-1} = 0, \\\\\n",
      "{F}_{{x} {u_y}}{1} = 0, \\\\\n",
      "{F}_{{x} {u_x}}{-3} + {F}_{{y} {u_y}}{2} + {F}_{{u}}{-1} = 0, \\\\\n",
      "{F}_{{x} {u_t}}{1} = 0, \\\\\n",
      "{F}_{{x} {u}}{1} = 0, \\\\\n",
      "{F}_{{x} {y} {y}}{\\beta \\gamma} + {F}_{{t} {t} {u}}{-1} = 0, \\\\\n",
      "{F}_{{x} {x}}{- \\beta} + {F}_{{t} {u}}{-1} = 0, \\\\\n",
      "{F}_{{t} {u_x}}{-3} + {F}_{{y} {u_y}}{2 \\alpha + 2 \\beta u_{x}} + {F}_{{x}}{- 3 \\beta} + {F}_{{u}}{2 \\alpha - \\beta u_{x}} = 0, \\\\\n",
      "{F}_{{t} {u_t}}{3} + {F}_{{y} {u_y}}{-4} + {F}_{{u}}{-1} = 0, \\\\\n",
      "{F}_{{t} {u} {u_t}}{1} = 0, \\\\\n",
      "{F}_{{t} {y} {u_y}}{1} + {F}_{{t} {u}}{-2} = 0, \\\\\n",
      "{F}_{{t} {x}}{\\beta} + {F}_{{y} {y}}{\\beta \\gamma} + {F}_{{t} {u}}{- \\alpha} = 0, \\\\\n",
      "{F}_{{t} {t} {u_y}}{-1} + {F}_{{x} {y}}{2 \\beta \\gamma} = 0, \\\\\n"
     ]
    }
   ],
   "source": [
    "for w in LRT.GB():\n",
    "    print(\" + \".join([f\"{m.df_latex()}{{{sympy.latex(c)}}}\" for m, c in w.poly]) + r\" = 0, \\\\\")"
   ]
  },
  {
   "cell_type": "code",
   "execution_count": 27,
   "metadata": {},
   "outputs": [
    {
     "data": {
      "image/png": "[encoded data removed]",
      "text/latex": [
       "$$u D{\\left (t,x,y \\right )} + u_{t} A{\\left (t,x,y \\right )} + u_{x} B{\\left (t,x,y \\right )} + u_{y} C{\\left (t,x,y \\right )} + E{\\left (t,x,y \\right )}$$"
      ],
      "text/plain": [
       "u⋅D(t, x, y) + uₜ⋅A(t, x, y) + uₓ⋅B(t, x, y) + u_y⋅C(t, x, y) + E(t, x, y)"
      ]
     },
     "execution_count": 27,
     "metadata": {},
     "output_type": "execute_result"
    }
   ],
   "source": [
    "T = sum(sympy.Function(i)(t, x, y)*j for i, j in zip(\\\n",
    "    ('A', 'B', 'C', 'D', 'E'),\n",
    "    (ut, ux, uy, u, 1)))\n",
    "T"
   ]
  },
  {
   "cell_type": "code",
   "execution_count": 28,
   "metadata": {},
   "outputs": [
    {
     "data": {
      "image/png": "[encoded data removed]",
      "text/latex": [
       "$$\\left [ 0, \\quad 0, \\quad 0, \\quad 0, \\quad 0, \\quad 0, \\quad 0, \\quad 0, \\quad 0, \\quad 0, \\quad - 2 \\gamma \\frac{\\partial}{\\partial y} B{\\left (t,x,y \\right )} - \\frac{\\partial}{\\partial t} C{\\left (t,x,y \\right )}, \\quad \\frac{\\partial}{\\partial y} A{\\left (t,x,y \\right )}, \\quad \\frac{\\partial}{\\partial y} D{\\left (t,x,y \\right )}, \\quad \\frac{\\partial^{2}}{\\partial y^{2}} C{\\left (t,x,y \\right )}, \\quad - \\beta \\gamma^{2} u \\frac{\\partial^{4}}{\\partial y^{4}} D{\\left (t,x,y \\right )} - \\beta \\gamma^{2} u_{t} \\frac{\\partial^{4}}{\\partial y^{4}} A{\\left (t,x,y \\right )} - \\beta \\gamma^{2} u_{x} \\frac{\\partial^{4}}{\\partial y^{4}} B{\\left (t,x,y \\right )} - \\beta \\gamma^{2} u_{y} \\frac{\\partial^{4}}{\\partial y^{4}} C{\\left (t,x,y \\right )} - \\beta \\gamma^{2} \\frac{\\partial^{4}}{\\partial y^{4}} E{\\left (t,x,y \\right )} - \\frac{\\partial^{3}}{\\partial t^{3}} D{\\left (t,x,y \\right )}, \\quad \\frac{\\partial}{\\partial x} C{\\left (t,x,y \\right )}, \\quad - D{\\left (t,x,y \\right )} - 3 \\frac{\\partial}{\\partial x} B{\\left (t,x,y \\right )} + 2 \\frac{\\partial}{\\partial y} C{\\left (t,x,y \\right )}, \\quad \\frac{\\partial}{\\partial x} A{\\left (t,x,y \\right )}, \\quad \\frac{\\partial}{\\partial x} D{\\left (t,x,y \\right )}, \\quad \\beta \\gamma u \\frac{\\partial^{3}}{\\partial y^{2}\\partial x} D{\\left (t,x,y \\right )} + \\beta \\gamma u_{t} \\frac{\\partial^{3}}{\\partial y^{2}\\partial x} A{\\left (t,x,y \\right )} + \\beta \\gamma u_{x} \\frac{\\partial^{3}}{\\partial y^{2}\\partial x} B{\\left (t,x,y \\right )} + \\beta \\gamma u_{y} \\frac{\\partial^{3}}{\\partial y^{2}\\partial x} C{\\left (t,x,y \\right )} + \\beta \\gamma \\frac{\\partial^{3}}{\\partial y^{2}\\partial x} E{\\left (t,x,y \\right )} - \\frac{\\partial^{2}}{\\partial t^{2}} D{\\left (t,x,y \\right )}, \\quad - \\beta u \\frac{\\partial^{2}}{\\partial x^{2}} D{\\left (t,x,y \\right )} - \\beta u_{t} \\frac{\\partial^{2}}{\\partial x^{2}} A{\\left (t,x,y \\right )} - \\beta u_{x} \\frac{\\partial^{2}}{\\partial x^{2}} B{\\left (t,x,y \\right )} - \\beta u_{y} \\frac{\\partial^{2}}{\\partial x^{2}} C{\\left (t,x,y \\right )} - \\beta \\frac{\\partial^{2}}{\\partial x^{2}} E{\\left (t,x,y \\right )} - \\frac{\\partial}{\\partial t} D{\\left (t,x,y \\right )}, \\quad 2 \\alpha D{\\left (t,x,y \\right )} + 2 \\alpha \\frac{\\partial}{\\partial y} C{\\left (t,x,y \\right )} - 3 \\beta u \\frac{\\partial}{\\partial x} D{\\left (t,x,y \\right )} - 3 \\beta u_{t} \\frac{\\partial}{\\partial x} A{\\left (t,x,y \\right )} - \\beta u_{x} D{\\left (t,x,y \\right )} - 3 \\beta u_{x} \\frac{\\partial}{\\partial x} B{\\left (t,x,y \\right )} + 2 \\beta u_{x} \\frac{\\partial}{\\partial y} C{\\left (t,x,y \\right )} - 3 \\beta u_{y} \\frac{\\partial}{\\partial x} C{\\left (t,x,y \\right )} - 3 \\beta \\frac{\\partial}{\\partial x} E{\\left (t,x,y \\right )} - 3 \\frac{\\partial}{\\partial t} B{\\left (t,x,y \\right )}, \\quad - D{\\left (t,x,y \\right )} + 3 \\frac{\\partial}{\\partial t} A{\\left (t,x,y \\right )} - 4 \\frac{\\partial}{\\partial y} C{\\left (t,x,y \\right )}, \\quad 0, \\quad - 2 \\frac{\\partial}{\\partial t} D{\\left (t,x,y \\right )} + \\frac{\\partial^{2}}{\\partial y\\partial t} C{\\left (t,x,y \\right )}, \\quad - \\alpha \\frac{\\partial}{\\partial t} D{\\left (t,x,y \\right )} + \\beta \\gamma u \\frac{\\partial^{2}}{\\partial y^{2}} D{\\left (t,x,y \\right )} + \\beta \\gamma u_{t} \\frac{\\partial^{2}}{\\partial y^{2}} A{\\left (t,x,y \\right )} + \\beta \\gamma u_{x} \\frac{\\partial^{2}}{\\partial y^{2}} B{\\left (t,x,y \\right )} + \\beta \\gamma u_{y} \\frac{\\partial^{2}}{\\partial y^{2}} C{\\left (t,x,y \\right )} + \\beta \\gamma \\frac{\\partial^{2}}{\\partial y^{2}} E{\\left (t,x,y \\right )} + \\beta u \\frac{\\partial^{2}}{\\partial x\\partial t} D{\\left (t,x,y \\right )} + \\beta u_{t} \\frac{\\partial^{2}}{\\partial x\\partial t} A{\\left (t,x,y \\right )} + \\beta u_{x} \\frac{\\partial^{2}}{\\partial x\\partial t} B{\\left (t,x,y \\right )} + \\beta u_{y} \\frac{\\partial^{2}}{\\partial x\\partial t} C{\\left (t,x,y \\right )} + \\beta \\frac{\\partial^{2}}{\\partial x\\partial t} E{\\left (t,x,y \\right )}, \\quad 2 \\beta \\gamma u \\frac{\\partial^{2}}{\\partial y\\partial x} D{\\left (t,x,y \\right )} + 2 \\beta \\gamma u_{t} \\frac{\\partial^{2}}{\\partial y\\partial x} A{\\left (t,x,y \\right )} + 2 \\beta \\gamma u_{x} \\frac{\\partial^{2}}{\\partial y\\partial x} B{\\left (t,x,y \\right )} + 2 \\beta \\gamma u_{y} \\frac{\\partial^{2}}{\\partial y\\partial x} C{\\left (t,x,y \\right )} + 2 \\beta \\gamma \\frac{\\partial^{2}}{\\partial y\\partial x} E{\\left (t,x,y \\right )} - \\frac{\\partial^{2}}{\\partial t^{2}} C{\\left (t,x,y \\right )}\\right ]$$"
      ],
      "text/plain": [
       "⎡                                                                             \n",
       "⎢                                    ∂                ∂               ∂       \n",
       "⎢0, 0, 0, 0, 0, 0, 0, 0, 0, 0, - 2⋅γ⋅──(B(t, x, y)) - ──(C(t, x, y)), ──(A(t, \n",
       "⎢                                    ∂y               ∂t              ∂y      \n",
       "⎣                                                                             \n",
       "\n",
       "                          2                         4                         \n",
       "        ∂                ∂                    2    ∂                   2     ∂\n",
       "x, y)), ──(D(t, x, y)), ───(C(t, x, y)), - β⋅γ ⋅u⋅───(D(t, x, y)) - β⋅γ ⋅uₜ⋅──\n",
       "        ∂y                2                         4                         \n",
       "                        ∂y                        ∂y                        ∂y\n",
       "\n",
       "4                         4                          4                      4 \n",
       "                   2     ∂                   2      ∂                   2  ∂  \n",
       "─(A(t, x, y)) - β⋅γ ⋅uₓ⋅───(B(t, x, y)) - β⋅γ ⋅u_y⋅───(C(t, x, y)) - β⋅γ ⋅───(\n",
       "4                         4                          4                      4 \n",
       "                        ∂y                         ∂y                     ∂y  \n",
       "\n",
       "                3                                                             \n",
       "               ∂               ∂                               ∂              \n",
       "E(t, x, y)) - ───(D(t, x, y)), ──(C(t, x, y)), -D(t, x, y) - 3⋅──(B(t, x, y)) \n",
       "                3              ∂x                              ∂x             \n",
       "              ∂t                                                              \n",
       "\n",
       "                                                             3                \n",
       "    ∂               ∂               ∂                       ∂                 \n",
       "+ 2⋅──(C(t, x, y)), ──(A(t, x, y)), ──(D(t, x, y)), β⋅γ⋅u⋅──────(D(t, x, y)) +\n",
       "    ∂y              ∂x              ∂x                      2                 \n",
       "                                                          ∂y  ∂x              \n",
       "\n",
       "           3                           3                            3         \n",
       "          ∂                           ∂                            ∂          \n",
       " β⋅γ⋅uₜ⋅──────(A(t, x, y)) + β⋅γ⋅uₓ⋅──────(B(t, x, y)) + β⋅γ⋅u_y⋅──────(C(t, x\n",
       "          2                           2                            2          \n",
       "        ∂y  ∂x                      ∂y  ∂x                       ∂y  ∂x       \n",
       "\n",
       "               3                   2                      2                   \n",
       "              ∂                   ∂                      ∂                    \n",
       ", y)) + β⋅γ⋅──────(E(t, x, y)) - ───(D(t, x, y)), - β⋅u⋅───(D(t, x, y)) - β⋅uₜ\n",
       "              2                    2                      2                   \n",
       "            ∂y  ∂x               ∂t                     ∂x                    \n",
       "\n",
       "   2                      2                       2                   2       \n",
       "  ∂                      ∂                       ∂                   ∂        \n",
       "⋅───(A(t, x, y)) - β⋅uₓ⋅───(B(t, x, y)) - β⋅u_y⋅───(C(t, x, y)) - β⋅───(E(t, x\n",
       "   2                      2                       2                   2       \n",
       " ∂x                     ∂x                      ∂x                  ∂x        \n",
       "\n",
       "                                                                              \n",
       "        ∂                                    ∂                      ∂         \n",
       ", y)) - ──(D(t, x, y)), 2⋅α⋅D(t, x, y) + 2⋅α⋅──(C(t, x, y)) - 3⋅β⋅u⋅──(D(t, x,\n",
       "        ∂t                                   ∂y                     ∂x        \n",
       "                                                                              \n",
       "\n",
       "                                                                              \n",
       "              ∂                                         ∂                     \n",
       " y)) - 3⋅β⋅uₜ⋅──(A(t, x, y)) - β⋅uₓ⋅D(t, x, y) - 3⋅β⋅uₓ⋅──(B(t, x, y)) + 2⋅β⋅u\n",
       "              ∂x                                        ∂x                    \n",
       "                                                                              \n",
       "\n",
       "                                                                              \n",
       "  ∂                        ∂                    ∂                  ∂          \n",
       "ₓ⋅──(C(t, x, y)) - 3⋅β⋅u_y⋅──(C(t, x, y)) - 3⋅β⋅──(E(t, x, y)) - 3⋅──(B(t, x, \n",
       "  ∂y                       ∂x                   ∂x                 ∂t         \n",
       "                                                                              \n",
       "\n",
       "                                                                              \n",
       "                     ∂                  ∂                      ∂              \n",
       "y)), -D(t, x, y) + 3⋅──(A(t, x, y)) - 4⋅──(C(t, x, y)), 0, - 2⋅──(D(t, x, y)) \n",
       "                     ∂t                 ∂y                     ∂t             \n",
       "                                                                              \n",
       "\n",
       "     2                                            2                        2  \n",
       "    ∂                    ∂                       ∂                        ∂   \n",
       "+ ─────(C(t, x, y)), - α⋅──(D(t, x, y)) + β⋅γ⋅u⋅───(D(t, x, y)) + β⋅γ⋅uₜ⋅───(A\n",
       "  ∂y ∂t                  ∂t                       2                        2  \n",
       "                                                ∂y                       ∂y   \n",
       "\n",
       "                      2                         2                     2       \n",
       "                     ∂                         ∂                     ∂        \n",
       "(t, x, y)) + β⋅γ⋅uₓ⋅───(B(t, x, y)) + β⋅γ⋅u_y⋅───(C(t, x, y)) + β⋅γ⋅───(E(t, x\n",
       "                      2                         2                     2       \n",
       "                    ∂y                        ∂y                    ∂y        \n",
       "\n",
       "               2                        2                        2            \n",
       "              ∂                        ∂                        ∂             \n",
       ", y)) + β⋅u⋅─────(D(t, x, y)) + β⋅uₜ⋅─────(A(t, x, y)) + β⋅uₓ⋅─────(B(t, x, y)\n",
       "            ∂x ∂t                    ∂x ∂t                    ∂x ∂t           \n",
       "                                                                              \n",
       "\n",
       "             2                     2                          2               \n",
       "            ∂                     ∂                          ∂                \n",
       ") + β⋅u_y⋅─────(C(t, x, y)) + β⋅─────(E(t, x, y)), 2⋅β⋅γ⋅u⋅─────(D(t, x, y)) +\n",
       "          ∂x ∂t                 ∂x ∂t                      ∂y ∂x              \n",
       "                                                                              \n",
       "\n",
       "             2                            2                             2     \n",
       "            ∂                            ∂                             ∂      \n",
       " 2⋅β⋅γ⋅uₜ⋅─────(A(t, x, y)) + 2⋅β⋅γ⋅uₓ⋅─────(B(t, x, y)) + 2⋅β⋅γ⋅u_y⋅─────(C(t\n",
       "          ∂y ∂x                        ∂y ∂x                         ∂y ∂x    \n",
       "                                                                              \n",
       "\n",
       "                    2                  2            ⎤\n",
       "                   ∂                  ∂             ⎥\n",
       ", x, y)) + 2⋅β⋅γ⋅─────(E(t, x, y)) - ───(C(t, x, y))⎥\n",
       "                 ∂y ∂x                 2            ⎥\n",
       "                                     ∂t             ⎦"
      ]
     },
     "execution_count": 28,
     "metadata": {},
     "output_type": "execute_result"
    }
   ],
   "source": [
    "eqs1 = []\n",
    "for w in LRT.GB():\n",
    "    eqs1.append(sum(T.diff(*((v, d) for v, d in zip(var, m)))*c for m, c in w.poly).expand())\n",
    "eqs1"
   ]
  },
  {
   "cell_type": "code",
   "execution_count": 29,
   "metadata": {},
   "outputs": [
    {
     "data": {
      "image/png": "[encoded data removed]",
      "text/latex": [
       "$$\\left [ - 2 \\gamma \\frac{\\partial}{\\partial y} B{\\left (t,x,y \\right )} - \\frac{\\partial}{\\partial t} C{\\left (t,x,y \\right )}, \\quad \\frac{\\partial}{\\partial y} A{\\left (t,x,y \\right )}, \\quad \\frac{\\partial}{\\partial y} D{\\left (t,x,y \\right )}, \\quad \\frac{\\partial^{2}}{\\partial y^{2}} C{\\left (t,x,y \\right )}, \\quad - \\beta \\gamma^{2} \\frac{\\partial^{4}}{\\partial y^{4}} E{\\left (t,x,y \\right )} - \\frac{\\partial^{3}}{\\partial t^{3}} D{\\left (t,x,y \\right )}, \\quad - \\beta \\gamma^{2} \\frac{\\partial^{4}}{\\partial y^{4}} D{\\left (t,x,y \\right )}, \\quad - \\beta \\gamma^{2} \\frac{\\partial^{4}}{\\partial y^{4}} C{\\left (t,x,y \\right )}, \\quad - \\beta \\gamma^{2} \\frac{\\partial^{4}}{\\partial y^{4}} B{\\left (t,x,y \\right )}, \\quad - \\beta \\gamma^{2} \\frac{\\partial^{4}}{\\partial y^{4}} A{\\left (t,x,y \\right )}, \\quad \\frac{\\partial}{\\partial x} C{\\left (t,x,y \\right )}, \\quad - D{\\left (t,x,y \\right )} - 3 \\frac{\\partial}{\\partial x} B{\\left (t,x,y \\right )} + 2 \\frac{\\partial}{\\partial y} C{\\left (t,x,y \\right )}, \\quad \\frac{\\partial}{\\partial x} A{\\left (t,x,y \\right )}, \\quad \\frac{\\partial}{\\partial x} D{\\left (t,x,y \\right )}, \\quad \\beta \\gamma \\frac{\\partial^{3}}{\\partial y^{2}\\partial x} E{\\left (t,x,y \\right )} - \\frac{\\partial^{2}}{\\partial t^{2}} D{\\left (t,x,y \\right )}, \\quad \\beta \\gamma \\frac{\\partial^{3}}{\\partial y^{2}\\partial x} D{\\left (t,x,y \\right )}, \\quad \\beta \\gamma \\frac{\\partial^{3}}{\\partial y^{2}\\partial x} C{\\left (t,x,y \\right )}, \\quad \\beta \\gamma \\frac{\\partial^{3}}{\\partial y^{2}\\partial x} B{\\left (t,x,y \\right )}, \\quad \\beta \\gamma \\frac{\\partial^{3}}{\\partial y^{2}\\partial x} A{\\left (t,x,y \\right )}, \\quad - \\beta \\frac{\\partial^{2}}{\\partial x^{2}} E{\\left (t,x,y \\right )} - \\frac{\\partial}{\\partial t} D{\\left (t,x,y \\right )}, \\quad - \\beta \\frac{\\partial^{2}}{\\partial x^{2}} D{\\left (t,x,y \\right )}, \\quad - \\beta \\frac{\\partial^{2}}{\\partial x^{2}} C{\\left (t,x,y \\right )}, \\quad - \\beta \\frac{\\partial^{2}}{\\partial x^{2}} B{\\left (t,x,y \\right )}, \\quad - \\beta \\frac{\\partial^{2}}{\\partial x^{2}} A{\\left (t,x,y \\right )}, \\quad 2 \\alpha D{\\left (t,x,y \\right )} + 2 \\alpha \\frac{\\partial}{\\partial y} C{\\left (t,x,y \\right )} - 3 \\beta \\frac{\\partial}{\\partial x} E{\\left (t,x,y \\right )} - 3 \\frac{\\partial}{\\partial t} B{\\left (t,x,y \\right )}, \\quad - 3 \\beta \\frac{\\partial}{\\partial x} D{\\left (t,x,y \\right )}, \\quad - 3 \\beta \\frac{\\partial}{\\partial x} C{\\left (t,x,y \\right )}, \\quad - \\beta D{\\left (t,x,y \\right )} - 3 \\beta \\frac{\\partial}{\\partial x} B{\\left (t,x,y \\right )} + 2 \\beta \\frac{\\partial}{\\partial y} C{\\left (t,x,y \\right )}, \\quad - 3 \\beta \\frac{\\partial}{\\partial x} A{\\left (t,x,y \\right )}, \\quad - D{\\left (t,x,y \\right )} + 3 \\frac{\\partial}{\\partial t} A{\\left (t,x,y \\right )} - 4 \\frac{\\partial}{\\partial y} C{\\left (t,x,y \\right )}, \\quad - 2 \\frac{\\partial}{\\partial t} D{\\left (t,x,y \\right )} + \\frac{\\partial^{2}}{\\partial y\\partial t} C{\\left (t,x,y \\right )}, \\quad - \\alpha \\frac{\\partial}{\\partial t} D{\\left (t,x,y \\right )} + \\beta \\gamma \\frac{\\partial^{2}}{\\partial y^{2}} E{\\left (t,x,y \\right )} + \\beta \\frac{\\partial^{2}}{\\partial x\\partial t} E{\\left (t,x,y \\right )}, \\quad \\beta \\gamma \\frac{\\partial^{2}}{\\partial y^{2}} D{\\left (t,x,y \\right )} + \\beta \\frac{\\partial^{2}}{\\partial x\\partial t} D{\\left (t,x,y \\right )}, \\quad \\beta \\gamma \\frac{\\partial^{2}}{\\partial y^{2}} C{\\left (t,x,y \\right )} + \\beta \\frac{\\partial^{2}}{\\partial x\\partial t} C{\\left (t,x,y \\right )}, \\quad \\beta \\gamma \\frac{\\partial^{2}}{\\partial y^{2}} B{\\left (t,x,y \\right )} + \\beta \\frac{\\partial^{2}}{\\partial x\\partial t} B{\\left (t,x,y \\right )}, \\quad \\beta \\gamma \\frac{\\partial^{2}}{\\partial y^{2}} A{\\left (t,x,y \\right )} + \\beta \\frac{\\partial^{2}}{\\partial x\\partial t} A{\\left (t,x,y \\right )}, \\quad 2 \\beta \\gamma \\frac{\\partial^{2}}{\\partial y\\partial x} E{\\left (t,x,y \\right )} - \\frac{\\partial^{2}}{\\partial t^{2}} C{\\left (t,x,y \\right )}, \\quad 2 \\beta \\gamma \\frac{\\partial^{2}}{\\partial y\\partial x} D{\\left (t,x,y \\right )}, \\quad 2 \\beta \\gamma \\frac{\\partial^{2}}{\\partial y\\partial x} C{\\left (t,x,y \\right )}, \\quad 2 \\beta \\gamma \\frac{\\partial^{2}}{\\partial y\\partial x} B{\\left (t,x,y \\right )}, \\quad 2 \\beta \\gamma \\frac{\\partial^{2}}{\\partial y\\partial x} A{\\left (t,x,y \\right )}\\right ]$$"
      ],
      "text/plain": [
       "⎡                                                                         2   \n",
       "⎢      ∂                ∂               ∂               ∂                ∂    \n",
       "⎢- 2⋅γ⋅──(B(t, x, y)) - ──(C(t, x, y)), ──(A(t, x, y)), ──(D(t, x, y)), ───(C(\n",
       "⎢      ∂y               ∂t              ∂y              ∂y                2   \n",
       "⎣                                                                       ∂y    \n",
       "\n",
       "                    4                 3                      4                \n",
       "                2  ∂                 ∂                   2  ∂                 \n",
       "t, x, y)), - β⋅γ ⋅───(E(t, x, y)) - ───(D(t, x, y)), -β⋅γ ⋅───(D(t, x, y)), -β\n",
       "                    4                 3                      4                \n",
       "                  ∂y                ∂t                     ∂y                 \n",
       "\n",
       "      4                      4                      4                         \n",
       "  2  ∂                   2  ∂                   2  ∂               ∂          \n",
       "⋅γ ⋅───(C(t, x, y)), -β⋅γ ⋅───(B(t, x, y)), -β⋅γ ⋅───(A(t, x, y)), ──(C(t, x, \n",
       "      4                      4                      4              ∂x         \n",
       "    ∂y                     ∂y                     ∂y                          \n",
       "\n",
       "                                                                              \n",
       "                     ∂                  ∂               ∂               ∂     \n",
       "y)), -D(t, x, y) - 3⋅──(B(t, x, y)) + 2⋅──(C(t, x, y)), ──(A(t, x, y)), ──(D(t\n",
       "                     ∂x                 ∂y              ∂x              ∂x    \n",
       "                                                                              \n",
       "\n",
       "                 3                   2                     3                  \n",
       "                ∂                   ∂                     ∂                   \n",
       ", x, y)), β⋅γ⋅──────(E(t, x, y)) - ───(D(t, x, y)), β⋅γ⋅──────(D(t, x, y)), β⋅\n",
       "                2                    2                    2                   \n",
       "              ∂y  ∂x               ∂t                   ∂y  ∂x                \n",
       "\n",
       "     3                       3                       3                      2 \n",
       "    ∂                       ∂                       ∂                      ∂  \n",
       "γ⋅──────(C(t, x, y)), β⋅γ⋅──────(B(t, x, y)), β⋅γ⋅──────(A(t, x, y)), - β⋅───(\n",
       "    2                       2                       2                       2 \n",
       "  ∂y  ∂x                  ∂y  ∂x                  ∂y  ∂x                  ∂x  \n",
       "\n",
       "                                   2                   2                   2  \n",
       "              ∂                   ∂                   ∂                   ∂   \n",
       "E(t, x, y)) - ──(D(t, x, y)), -β⋅───(D(t, x, y)), -β⋅───(C(t, x, y)), -β⋅───(B\n",
       "              ∂t                   2                   2                   2  \n",
       "                                 ∂x                  ∂x                  ∂x   \n",
       "\n",
       "                 2                                                            \n",
       "                ∂                                    ∂                    ∂   \n",
       "(t, x, y)), -β⋅───(A(t, x, y)), 2⋅α⋅D(t, x, y) + 2⋅α⋅──(C(t, x, y)) - 3⋅β⋅──(E\n",
       "                 2                                   ∂y                   ∂x  \n",
       "               ∂x                                                             \n",
       "\n",
       "                                                                              \n",
       "               ∂                    ∂                    ∂                    \n",
       "(t, x, y)) - 3⋅──(B(t, x, y)), -3⋅β⋅──(D(t, x, y)), -3⋅β⋅──(C(t, x, y)), -β⋅D(\n",
       "               ∂t                   ∂x                   ∂x                   \n",
       "                                                                              \n",
       "\n",
       "                                                                              \n",
       "               ∂                    ∂                    ∂                    \n",
       "t, x, y) - 3⋅β⋅──(B(t, x, y)) + 2⋅β⋅──(C(t, x, y)), -3⋅β⋅──(A(t, x, y)), -D(t,\n",
       "               ∂x                   ∂y                   ∂x                   \n",
       "                                                                              \n",
       "\n",
       "                                                                      2       \n",
       "           ∂                  ∂                   ∂                  ∂        \n",
       " x, y) + 3⋅──(A(t, x, y)) - 4⋅──(C(t, x, y)), - 2⋅──(D(t, x, y)) + ─────(C(t, \n",
       "           ∂t                 ∂y                  ∂t               ∂y ∂t      \n",
       "                                                                              \n",
       "\n",
       "                                   2                    2                     \n",
       "            ∂                     ∂                    ∂                     ∂\n",
       "x, y)), - α⋅──(D(t, x, y)) + β⋅γ⋅───(E(t, x, y)) + β⋅─────(E(t, x, y)), β⋅γ⋅──\n",
       "            ∂t                     2                 ∂x ∂t                    \n",
       "                                 ∂y                                         ∂y\n",
       "\n",
       "2                    2                     2                    2             \n",
       "                    ∂                     ∂                    ∂              \n",
       "─(D(t, x, y)) + β⋅─────(D(t, x, y)), β⋅γ⋅───(C(t, x, y)) + β⋅─────(C(t, x, y))\n",
       "2                 ∂x ∂t                    2                 ∂x ∂t            \n",
       "                                         ∂y                                   \n",
       "\n",
       "        2                    2                     2                    2     \n",
       "       ∂                    ∂                     ∂                    ∂      \n",
       ", β⋅γ⋅───(B(t, x, y)) + β⋅─────(B(t, x, y)), β⋅γ⋅───(A(t, x, y)) + β⋅─────(A(t\n",
       "        2                 ∂x ∂t                    2                 ∂x ∂t    \n",
       "      ∂y                                         ∂y                           \n",
       "\n",
       "                   2                  2                       2               \n",
       "                  ∂                  ∂                       ∂                \n",
       ", x, y)), 2⋅β⋅γ⋅─────(E(t, x, y)) - ───(C(t, x, y)), 2⋅β⋅γ⋅─────(D(t, x, y)), \n",
       "                ∂y ∂x                 2                    ∂y ∂x              \n",
       "                                    ∂t                                        \n",
       "\n",
       "         2                        2                        2             ⎤\n",
       "        ∂                        ∂                        ∂              ⎥\n",
       "2⋅β⋅γ⋅─────(C(t, x, y)), 2⋅β⋅γ⋅─────(B(t, x, y)), 2⋅β⋅γ⋅─────(A(t, x, y))⎥\n",
       "      ∂y ∂x                    ∂y ∂x                    ∂y ∂x            ⎥\n",
       "                                                                         ⎦"
      ]
     },
     "execution_count": 29,
     "metadata": {},
     "output_type": "execute_result"
    }
   ],
   "source": [
    "def to_eqs(a, var):\n",
    "    for x in var:\n",
    "        r = []\n",
    "        for b in a:\n",
    "            if b:\n",
    "                r.append([b.coeff(x, i) for i in range(b.as_poly(x).degree()+1) if b.coeff(x, i)])\n",
    "        a = chain(*r)\n",
    "    return list(a)\n",
    "eqs2 = to_eqs(eqs1, [ut, ux, uy, u])\n",
    "eqs2"
   ]
  },
  {
   "cell_type": "code",
   "execution_count": 36,
   "metadata": {},
   "outputs": [
    {
     "name": "stdout",
     "output_type": "stream",
     "text": [
      "- 2 B_{y} \\gamma - C_{t} = 0, \\\\\n",
      "A_{y} = 0, \\\\\n",
      "D_{y} = 0, \\\\\n",
      "C_{yy} = 0, \\\\\n",
      "- D_{ttt} - E_{yyyy} \\beta \\gamma^{2} = 0, \\\\\n",
      "- D_{yyyy} \\beta \\gamma^{2} = 0, \\\\\n",
      "- C_{yyyy} \\beta \\gamma^{2} = 0, \\\\\n",
      "- B_{yyyy} \\beta \\gamma^{2} = 0, \\\\\n",
      "- A_{yyyy} \\beta \\gamma^{2} = 0, \\\\\n",
      "C_{x} = 0, \\\\\n",
      "- 3 B_{x} + 2 C_{y} - D = 0, \\\\\n",
      "A_{x} = 0, \\\\\n",
      "D_{x} = 0, \\\\\n",
      "- D_{tt} + E_{xyy} \\beta \\gamma = 0, \\\\\n",
      "D_{xyy} \\beta \\gamma = 0, \\\\\n",
      "C_{xyy} \\beta \\gamma = 0, \\\\\n",
      "B_{xyy} \\beta \\gamma = 0, \\\\\n",
      "A_{xyy} \\beta \\gamma = 0, \\\\\n",
      "- D_{t} - E_{xx} \\beta = 0, \\\\\n",
      "- D_{xx} \\beta = 0, \\\\\n",
      "- C_{xx} \\beta = 0, \\\\\n",
      "- B_{xx} \\beta = 0, \\\\\n",
      "- A_{xx} \\beta = 0, \\\\\n",
      "- 3 B_{t} + 2 C_{y} \\alpha + 2 D \\alpha - 3 E_{x} \\beta = 0, \\\\\n",
      "- 3 D_{x} \\beta = 0, \\\\\n",
      "- 3 C_{x} \\beta = 0, \\\\\n",
      "- 3 B_{x} \\beta + 2 C_{y} \\beta - D \\beta = 0, \\\\\n",
      "- 3 A_{x} \\beta = 0, \\\\\n",
      "3 A_{t} - 4 C_{y} - D = 0, \\\\\n",
      "C_{ty} - 2 D_{t} = 0, \\\\\n",
      "- D_{t} \\alpha + E_{tx} \\beta + E_{yy} \\beta \\gamma = 0, \\\\\n",
      "D_{tx} \\beta + D_{yy} \\beta \\gamma = 0, \\\\\n",
      "C_{tx} \\beta + C_{yy} \\beta \\gamma = 0, \\\\\n",
      "B_{tx} \\beta + B_{yy} \\beta \\gamma = 0, \\\\\n",
      "A_{tx} \\beta + A_{yy} \\beta \\gamma = 0, \\\\\n",
      "- C_{tt} + 2 E_{xy} \\beta \\gamma = 0, \\\\\n",
      "2 D_{xy} \\beta \\gamma = 0, \\\\\n",
      "2 C_{xy} \\beta \\gamma = 0, \\\\\n",
      "2 B_{xy} \\beta \\gamma = 0, \\\\\n",
      "2 A_{xy} \\beta \\gamma = 0, \\\\\n"
     ]
    }
   ],
   "source": [
    "AAA = [sympy.Function(i)(t, x, y) for i in ('A', 'B', 'C', 'D', 'E')]\n",
    "dct = {AAA[0]: \"A\", AAA[1]: \"B\", AAA[2]: \"C\", AAA[3]: \"D\",  AAA[4]: \"E\"}\n",
    "for eq in eqs2:\n",
    "    print(sympy.latex(compact(eq)) + r\" = 0, \\\\\")"
   ]
  },
  {
   "cell_type": "code",
   "execution_count": 37,
   "metadata": {},
   "outputs": [
    {
     "name": "stdout",
     "output_type": "stream",
     "text": [
      "prolong 0, Q 1\n",
      "df(A, y)\n",
      "prolong 0, Q 1\n",
      "df(D, y)\n",
      "prolong 0, Q 1\n",
      "df(A, x)\n",
      "prolong 0, Q 1\n",
      "df(B, x)\n",
      "prolong 0, Q 1\n",
      "df(C, x)\n",
      "prolong 0, Q 1\n",
      "df(D, x)\n",
      "prolong 0, Q 1\n",
      "df(A, t)\n",
      "prolong 0, Q 1\n",
      "df(B, t)\n",
      "prolong 0, Q 1\n",
      "df(C, t)\n",
      "prolong 0, Q 2\n",
      "df(C, y, 2)\n",
      "prolong 0, Q 2\n",
      "df(B, y, 2), df(E, x, 2), df(E, t, x)\n",
      "prolong 1, Q 3\n",
      "df(E, x, y, 2)\n",
      "prolong 2, Q 4\n",
      "df(E, y, 4)\n",
      "prolong 3, Q 0\n",
      "prolong 4, Q 0\n",
      "df(E, t, y, 4)\n",
      "prolong 5, Q 0\n",
      "prolong 0, Q 0\n",
      "    crit1: 0\n",
      "    crit2: 0\n",
      "     time: 0.23 sec\n",
      "    count: 16\n",
      "reduction: 105\n",
      "       HP: 5s + 6\n"
     ]
    }
   ],
   "source": [
    "var = ['t', 'x', 'y']\n",
    "fun = ['A', 'B', 'C', 'D', 'E']\n",
    "Monom.init(var, fun)\n",
    "df = PolyDiff.df\n",
    "diff2poly = PolyDiff.diff2poly\n",
    "var, fun = PolyDiff.init()\n",
    "t, x, y = var\n",
    "A, B, C, D, E = fun\n",
    "\n",
    "LRT1 = Forest(Janet)\n",
    "res = ginvBlockLow([diff2poly(eq) for eq in eqs1 if eq], \\\n",
    "LRT1, level=1)\n",
    "print(f\"    crit1: {res[1]}\")\n",
    "print(f\"    crit2: {res[2]}\")\n",
    "print(f\"     time: {res[0]:.2f} sec\")\n",
    "print(f\"    count: {LRT1.count()}\")\n",
    "print(f\"reduction: {LRT1.reduction()}\")\n",
    "print(f\"       HP: {LRT1.HP()}\")"
   ]
  },
  {
   "cell_type": "code",
   "execution_count": 38,
   "metadata": {},
   "outputs": [
    {
     "name": "stdout",
     "output_type": "stream",
     "text": [
      "df(A, y)\n",
      "df(A, x)\n",
      "df(A, t)*3 + df(C, y)*(-4) + df(D)*(-1)\n",
      "df(B, y, 2)*gamma + df(D, t)\n",
      "df(B, x)*(-3) + df(C, y)*2 + df(D)*(-1)\n",
      "df(B, t)*3 + df(E, x)*3*beta + df(C, y)*(-2*alpha) + df(D)*(-2*alpha)\n",
      "df(C, y, 2)\n",
      "df(C, x)\n",
      "df(C, t)*(-1) + df(B, y)*(-2*gamma)\n",
      "df(D, y)\n",
      "df(D, x)\n",
      "df(E, y, 4)*(-beta*gamma**2) + df(D, t, 3)*(-1)\n",
      "df(E, x, y, 2)*(-beta*gamma) + df(D, t, 2)\n",
      "df(E, x, 2)*beta + df(D, t)\n",
      "df(E, t, x)*beta + df(E, y, 2)*beta*gamma + df(D, t)*(-alpha)\n"
     ]
    }
   ],
   "source": [
    "for w in LRT1.GB():\n",
    "    print(w.poly)"
   ]
  },
  {
   "cell_type": "code",
   "execution_count": 40,
   "metadata": {},
   "outputs": [
    {
     "name": "stdout",
     "output_type": "stream",
     "text": [
      "{1}{A}_{{y}} = 0, \\\\\n",
      "{1}{A}_{{x}} = 0, \\\\\n",
      "{3}{A}_{{t}} + {-4}{C}_{{y}} + {-1}{D} = 0, \\\\\n",
      "{\\gamma}{B}_{{y} {y}} + {1}{D}_{{t}} = 0, \\\\\n",
      "{-3}{B}_{{x}} + {2}{C}_{{y}} + {-1}{D} = 0, \\\\\n",
      "{3}{B}_{{t}} + {3 \\beta}{E}_{{x}} + {- 2 \\alpha}{C}_{{y}} + {- 2 \\alpha}{D} = 0, \\\\\n",
      "{1}{C}_{{y} {y}} = 0, \\\\\n",
      "{1}{C}_{{x}} = 0, \\\\\n",
      "{-1}{C}_{{t}} + {- 2 \\gamma}{B}_{{y}} = 0, \\\\\n",
      "{1}{D}_{{y}} = 0, \\\\\n",
      "{1}{D}_{{x}} = 0, \\\\\n",
      "{- \\beta \\gamma^{2}}{E}_{{y} {y} {y} {y}} + {-1}{D}_{{t} {t} {t}} = 0, \\\\\n",
      "{- \\beta \\gamma}{E}_{{x} {y} {y}} + {1}{D}_{{t} {t}} = 0, \\\\\n",
      "{\\beta}{E}_{{x} {x}} + {1}{D}_{{t}} = 0, \\\\\n",
      "{\\beta}{E}_{{t} {x}} + {\\beta \\gamma}{E}_{{y} {y}} + {- \\alpha}{D}_{{t}} = 0, \\\\\n"
     ]
    }
   ],
   "source": [
    "for w in LRT1.GB():\n",
    "    print(\" + \".join([f\"{{{sympy.latex(c)}}}{m.df_latex()}\" for m, c in w.poly]) + r\" = 0, \\\\\")"
   ]
  },
  {
   "cell_type": "code",
   "execution_count": 41,
   "metadata": {},
   "outputs": [
    {
     "data": {
      "image/png": "[encoded data removed]",
      "text/latex": [
       "$$\\left [ \\operatorname{A_{0}}{\\left (t \\right )}, \\quad x \\operatorname{B_{1}}{\\left (t \\right )} + y^{2} \\operatorname{B_{3}}{\\left (t \\right )} + y \\operatorname{B_{2}}{\\left (t \\right )} + \\operatorname{B_{0}}{\\left (t \\right )}, \\quad y \\operatorname{C_{1}}{\\left (t \\right )} + \\operatorname{C_{0}}{\\left (t \\right )}, \\quad \\operatorname{D_{0}}{\\left (t \\right )}, \\quad x^{2} \\operatorname{E_{5}}{\\left (t \\right )} + x y^{2} \\operatorname{E_{7}}{\\left (t \\right )} + x y \\operatorname{E_{4}}{\\left (t \\right )} + x \\operatorname{E_{1}}{\\left (t \\right )} + y^{4} \\operatorname{E_{8}}{\\left (t \\right )} + y^{3} \\operatorname{E_{6}}{\\left (t \\right )} + y^{2} \\operatorname{E_{3}}{\\left (t \\right )} + y \\operatorname{E_{2}}{\\left (t \\right )} + \\operatorname{E_{0}}{\\left (t \\right )}\\right ]$$"
      ],
      "text/plain": [
       "⎡                  2                                                   2      \n",
       "⎣A₀(t), x⋅B₁(t) + y ⋅B₃(t) + y⋅B₂(t) + B₀(t), y⋅C₁(t) + C₀(t), D₀(t), x ⋅E₅(t)\n",
       "\n",
       "      2                                4          3          2                \n",
       " + x⋅y ⋅E₇(t) + x⋅y⋅E₄(t) + x⋅E₁(t) + y ⋅E₈(t) + y ⋅E₆(t) + y ⋅E₃(t) + y⋅E₂(t)\n",
       "\n",
       "        ⎤\n",
       " + E₀(t)⎦"
      ]
     },
     "execution_count": 41,
     "metadata": {},
     "output_type": "execute_result"
    }
   ],
   "source": [
    "A0, C0, C1, B0, B1, B2, B3, D0, E0, E1, E2, E3, E4, E5, E6, E7, E8 = (a(t) for a in \\\n",
    "sympy.symbols('A0, C0, C1, B0, B1, B2, B3, D0, E0, E1, E2, E3, E4, E5, E6, E7, E8', cls=sympy.Function))\n",
    "T1 = [\\\n",
    "A0, \n",
    "B0 + B1*x + B2*y + B3*y**2,\n",
    "C0 + C1*y,\n",
    "D0,\n",
    "E0 + E1*x + E2*y + E3*y**2 + E4*x*y + E5*x**2 + E6*y**3 + E7*x*y**2 + E8*y**4]\n",
    "T1"
   ]
  },
  {
   "cell_type": "code",
   "execution_count": 42,
   "metadata": {},
   "outputs": [
    {
     "data": {
      "image/png": "[encoded data removed]",
      "text/latex": [
       "$$\\left [ 0, \\quad 0, \\quad - 4 \\operatorname{C_{1}}{\\left (t \\right )} - \\operatorname{D_{0}}{\\left (t \\right )} + 3 \\frac{d}{d t} \\operatorname{A_{0}}{\\left (t \\right )}, \\quad 2 \\gamma \\operatorname{B_{3}}{\\left (t \\right )} + \\frac{d}{d t} \\operatorname{D_{0}}{\\left (t \\right )}, \\quad - 3 \\operatorname{B_{1}}{\\left (t \\right )} + 2 \\operatorname{C_{1}}{\\left (t \\right )} - \\operatorname{D_{0}}{\\left (t \\right )}, \\quad - 2 \\alpha \\operatorname{C_{1}}{\\left (t \\right )} - 2 \\alpha \\operatorname{D_{0}}{\\left (t \\right )} + 6 \\beta x \\operatorname{E_{5}}{\\left (t \\right )} + 3 \\beta y^{2} \\operatorname{E_{7}}{\\left (t \\right )} + 3 \\beta y \\operatorname{E_{4}}{\\left (t \\right )} + 3 \\beta \\operatorname{E_{1}}{\\left (t \\right )} + 3 x \\frac{d}{d t} \\operatorname{B_{1}}{\\left (t \\right )} + 3 y^{2} \\frac{d}{d t} \\operatorname{B_{3}}{\\left (t \\right )} + 3 y \\frac{d}{d t} \\operatorname{B_{2}}{\\left (t \\right )} + 3 \\frac{d}{d t} \\operatorname{B_{0}}{\\left (t \\right )}, \\quad 0, \\quad 0, \\quad - 4 \\gamma y \\operatorname{B_{3}}{\\left (t \\right )} - 2 \\gamma \\operatorname{B_{2}}{\\left (t \\right )} - y \\frac{d}{d t} \\operatorname{C_{1}}{\\left (t \\right )} - \\frac{d}{d t} \\operatorname{C_{0}}{\\left (t \\right )}, \\quad 0, \\quad 0, \\quad - 24 \\beta \\gamma^{2} \\operatorname{E_{8}}{\\left (t \\right )} - \\frac{d^{3}}{d t^{3}} \\operatorname{D_{0}}{\\left (t \\right )}, \\quad - 2 \\beta \\gamma \\operatorname{E_{7}}{\\left (t \\right )} + \\frac{d^{2}}{d t^{2}} \\operatorname{D_{0}}{\\left (t \\right )}, \\quad 2 \\beta \\operatorname{E_{5}}{\\left (t \\right )} + \\frac{d}{d t} \\operatorname{D_{0}}{\\left (t \\right )}, \\quad - \\alpha \\frac{d}{d t} \\operatorname{D_{0}}{\\left (t \\right )} + 2 \\beta \\gamma x \\operatorname{E_{7}}{\\left (t \\right )} + 12 \\beta \\gamma y^{2} \\operatorname{E_{8}}{\\left (t \\right )} + 6 \\beta \\gamma y \\operatorname{E_{6}}{\\left (t \\right )} + 2 \\beta \\gamma \\operatorname{E_{3}}{\\left (t \\right )} + 2 \\beta x \\frac{d}{d t} \\operatorname{E_{5}}{\\left (t \\right )} + \\beta y^{2} \\frac{d}{d t} \\operatorname{E_{7}}{\\left (t \\right )} + \\beta y \\frac{d}{d t} \\operatorname{E_{4}}{\\left (t \\right )} + \\beta \\frac{d}{d t} \\operatorname{E_{1}}{\\left (t \\right )}\\right ]$$"
      ],
      "text/plain": [
       "⎡                                                                             \n",
       "⎢                           d                      d                          \n",
       "⎢0, 0, -4⋅C₁(t) - D₀(t) + 3⋅──(A₀(t)), 2⋅γ⋅B₃(t) + ──(D₀(t)), -3⋅B₁(t) + 2⋅C₁(\n",
       "⎢                           dt                     dt                         \n",
       "⎣                                                                             \n",
       "\n",
       "                                                                              \n",
       "                                                        2                     \n",
       "t) - D₀(t), -2⋅α⋅C₁(t) - 2⋅α⋅D₀(t) + 6⋅β⋅x⋅E₅(t) + 3⋅β⋅y ⋅E₇(t) + 3⋅β⋅y⋅E₄(t) \n",
       "                                                                              \n",
       "                                                                              \n",
       "\n",
       "                                                                              \n",
       "                  d              2 d               d             d            \n",
       "+ 3⋅β⋅E₁(t) + 3⋅x⋅──(B₁(t)) + 3⋅y ⋅──(B₃(t)) + 3⋅y⋅──(B₂(t)) + 3⋅──(B₀(t)), 0,\n",
       "                  dt               dt              dt            dt           \n",
       "                                                                              \n",
       "\n",
       "                                                                              \n",
       "                                 d           d                        2       \n",
       " 0, -4⋅γ⋅y⋅B₃(t) - 2⋅γ⋅B₂(t) - y⋅──(C₁(t)) - ──(C₀(t)), 0, 0, - 24⋅β⋅γ ⋅E₈(t) \n",
       "                                 dt          dt                               \n",
       "                                                                              \n",
       "\n",
       "    3                          2                                              \n",
       "   d                          d                      d              d         \n",
       "- ───(D₀(t)), -2⋅β⋅γ⋅E₇(t) + ───(D₀(t)), 2⋅β⋅E₅(t) + ──(D₀(t)), - α⋅──(D₀(t)) \n",
       "    3                          2                     dt             dt        \n",
       "  dt                         dt                                               \n",
       "\n",
       "                                                                              \n",
       "                          2                                             d     \n",
       "+ 2⋅β⋅γ⋅x⋅E₇(t) + 12⋅β⋅γ⋅y ⋅E₈(t) + 6⋅β⋅γ⋅y⋅E₆(t) + 2⋅β⋅γ⋅E₃(t) + 2⋅β⋅x⋅──(E₅(\n",
       "                                                                        dt    \n",
       "                                                                              \n",
       "\n",
       "                                                  ⎤\n",
       "         2 d               d             d        ⎥\n",
       "t)) + β⋅y ⋅──(E₇(t)) + β⋅y⋅──(E₄(t)) + β⋅──(E₁(t))⎥\n",
       "           dt              dt            dt       ⎥\n",
       "                                                  ⎦"
      ]
     },
     "execution_count": 42,
     "metadata": {},
     "output_type": "execute_result"
    }
   ],
   "source": [
    "eqs2 = []\n",
    "for w in LRT1.GB():\n",
    "    eqs2.append(sum(T1[m.position()].diff(*((v, d) for v, d in zip(var, m)))*c for m, c in w.poly).expand())\n",
    "eqs2"
   ]
  },
  {
   "cell_type": "code",
   "execution_count": 43,
   "metadata": {},
   "outputs": [
    {
     "data": {
      "image/png": "[encoded data removed]",
      "text/latex": [
       "$$\\left [ - 4 \\operatorname{C_{1}}{\\left (t \\right )} - \\operatorname{D_{0}}{\\left (t \\right )} + 3 \\frac{d}{d t} \\operatorname{A_{0}}{\\left (t \\right )}, \\quad 2 \\gamma \\operatorname{B_{3}}{\\left (t \\right )} + \\frac{d}{d t} \\operatorname{D_{0}}{\\left (t \\right )}, \\quad - 3 \\operatorname{B_{1}}{\\left (t \\right )} + 2 \\operatorname{C_{1}}{\\left (t \\right )} - \\operatorname{D_{0}}{\\left (t \\right )}, \\quad - 2 \\alpha \\operatorname{C_{1}}{\\left (t \\right )} - 2 \\alpha \\operatorname{D_{0}}{\\left (t \\right )} + 3 \\beta \\operatorname{E_{1}}{\\left (t \\right )} + 3 \\frac{d}{d t} \\operatorname{B_{0}}{\\left (t \\right )}, \\quad 3 \\beta \\operatorname{E_{4}}{\\left (t \\right )} + 3 \\frac{d}{d t} \\operatorname{B_{2}}{\\left (t \\right )}, \\quad 3 \\beta \\operatorname{E_{7}}{\\left (t \\right )} + 3 \\frac{d}{d t} \\operatorname{B_{3}}{\\left (t \\right )}, \\quad 6 \\beta \\operatorname{E_{5}}{\\left (t \\right )} + 3 \\frac{d}{d t} \\operatorname{B_{1}}{\\left (t \\right )}, \\quad - 2 \\gamma \\operatorname{B_{2}}{\\left (t \\right )} - \\frac{d}{d t} \\operatorname{C_{0}}{\\left (t \\right )}, \\quad - 4 \\gamma \\operatorname{B_{3}}{\\left (t \\right )} - \\frac{d}{d t} \\operatorname{C_{1}}{\\left (t \\right )}, \\quad - 24 \\beta \\gamma^{2} \\operatorname{E_{8}}{\\left (t \\right )} - \\frac{d^{3}}{d t^{3}} \\operatorname{D_{0}}{\\left (t \\right )}, \\quad - 2 \\beta \\gamma \\operatorname{E_{7}}{\\left (t \\right )} + \\frac{d^{2}}{d t^{2}} \\operatorname{D_{0}}{\\left (t \\right )}, \\quad 2 \\beta \\operatorname{E_{5}}{\\left (t \\right )} + \\frac{d}{d t} \\operatorname{D_{0}}{\\left (t \\right )}, \\quad - \\alpha \\frac{d}{d t} \\operatorname{D_{0}}{\\left (t \\right )} + 2 \\beta \\gamma \\operatorname{E_{3}}{\\left (t \\right )} + \\beta \\frac{d}{d t} \\operatorname{E_{1}}{\\left (t \\right )}, \\quad 6 \\beta \\gamma \\operatorname{E_{6}}{\\left (t \\right )} + \\beta \\frac{d}{d t} \\operatorname{E_{4}}{\\left (t \\right )}, \\quad 12 \\beta \\gamma \\operatorname{E_{8}}{\\left (t \\right )} + \\beta \\frac{d}{d t} \\operatorname{E_{7}}{\\left (t \\right )}, \\quad 2 \\beta \\gamma \\operatorname{E_{7}}{\\left (t \\right )} + 2 \\beta \\frac{d}{d t} \\operatorname{E_{5}}{\\left (t \\right )}\\right ]$$"
      ],
      "text/plain": [
       "⎡                                                                             \n",
       "⎢                     d                      d                                \n",
       "⎢-4⋅C₁(t) - D₀(t) + 3⋅──(A₀(t)), 2⋅γ⋅B₃(t) + ──(D₀(t)), -3⋅B₁(t) + 2⋅C₁(t) - D\n",
       "⎢                     dt                     dt                               \n",
       "⎣                                                                             \n",
       "\n",
       "                                                                              \n",
       "                                             d                        d       \n",
       "₀(t), -2⋅α⋅C₁(t) - 2⋅α⋅D₀(t) + 3⋅β⋅E₁(t) + 3⋅──(B₀(t)), 3⋅β⋅E₄(t) + 3⋅──(B₂(t)\n",
       "                                             dt                       dt      \n",
       "                                                                              \n",
       "\n",
       "                                                                              \n",
       "                 d                        d                       d           \n",
       "), 3⋅β⋅E₇(t) + 3⋅──(B₃(t)), 6⋅β⋅E₅(t) + 3⋅──(B₁(t)), -2⋅γ⋅B₂(t) - ──(C₀(t)), -\n",
       "                 dt                       dt                      dt          \n",
       "                                                                              \n",
       "\n",
       "                                           3                          2       \n",
       "            d                  2          d                          d        \n",
       "4⋅γ⋅B₃(t) - ──(C₁(t)), - 24⋅β⋅γ ⋅E₈(t) - ───(D₀(t)), -2⋅β⋅γ⋅E₇(t) + ───(D₀(t))\n",
       "            dt                             3                          2       \n",
       "                                         dt                         dt        \n",
       "\n",
       "                                                                              \n",
       "              d              d                           d                    \n",
       ", 2⋅β⋅E₅(t) + ──(D₀(t)), - α⋅──(D₀(t)) + 2⋅β⋅γ⋅E₃(t) + β⋅──(E₁(t)), 6⋅β⋅γ⋅E₆(t\n",
       "              dt             dt                          dt                   \n",
       "                                                                              \n",
       "\n",
       "                                                                        ⎤\n",
       "      d                           d                            d        ⎥\n",
       ") + β⋅──(E₄(t)), 12⋅β⋅γ⋅E₈(t) + β⋅──(E₇(t)), 2⋅β⋅γ⋅E₇(t) + 2⋅β⋅──(E₅(t))⎥\n",
       "      dt                          dt                           dt       ⎥\n",
       "                                                                        ⎦"
      ]
     },
     "execution_count": 43,
     "metadata": {},
     "output_type": "execute_result"
    }
   ],
   "source": [
    "eqs3 = to_eqs(eqs2, [x, y])\n",
    "eqs3"
   ]
  },
  {
   "cell_type": "code",
   "execution_count": 63,
   "metadata": {},
   "outputs": [
    {
     "name": "stdout",
     "output_type": "stream",
     "text": [
      "3 {A_0}_{t} - 4 {C_1} - {D_0} = 0, \\\\\n",
      "2 \\gamma {B_3} + {D_0}_{t} = 0, \\\\\n",
      "- 3 {B_1} + 2 {C_1} - {D_0} = 0, \\\\\n",
      "- 2 \\alpha {C_1} - 2 \\alpha {D_0} + 3 \\beta {E_1} + 3 {B_0}_{t} = 0, \\\\\n",
      "3 \\beta {E_4} + 3 {B_2}_{t} = 0, \\\\\n",
      "3 \\beta {E_7} + 3 {B_3}_{t} = 0, \\\\\n",
      "6 \\beta {E_5} + 3 {B_1}_{t} = 0, \\\\\n",
      "- 2 \\gamma {B_2} - {C_0}_{t} = 0, \\\\\n",
      "- 4 \\gamma {B_3} - {C_1}_{t} = 0, \\\\\n",
      "- 24 \\beta \\gamma^{2} {E_8} - {D_0}_{ttt} = 0, \\\\\n",
      "- 2 \\beta \\gamma {E_7} + {D_0}_{tt} = 0, \\\\\n",
      "2 \\beta {E_5} + {D_0}_{t} = 0, \\\\\n",
      "- \\alpha {D_0}_{t} + 2 \\beta \\gamma {E_3} + \\beta {E_1}_{t} = 0, \\\\\n",
      "6 \\beta \\gamma {E_6} + \\beta {E_4}_{t} = 0, \\\\\n",
      "12 \\beta \\gamma {E_8} + \\beta {E_7}_{t} = 0, \\\\\n",
      "2 \\beta \\gamma {E_7} + 2 \\beta {E_5}_{t} = 0, \\\\\n"
     ]
    }
   ],
   "source": [
    "dct = dict((eval(i.replace(\"_\", \"\")), f\"{{{i}}}\") for i in 'A_0, C_0, C_1, B_0, B_1, B_2, B_3, D_0, E_0, E_1, E_2, E_3, E_4, E_5, E_6, E_7, E_8'.split(\", \"))\n",
    "for eq in eqs3:\n",
    "    print(sympy.latex(compact(eq)) + r\" = 0, \\\\\")"
   ]
  },
  {
   "cell_type": "code",
   "execution_count": 46,
   "metadata": {},
   "outputs": [
    {
     "data": {
      "image/png": "[encoded data removed]",
      "text/latex": [
       "$$\\left \\{ \\operatorname{B_{2}}{\\left (t \\right )} : - \\frac{\\frac{d}{d t} \\operatorname{C_{0}}{\\left (t \\right )}}{2 \\gamma}, \\quad \\operatorname{B_{3}}{\\left (t \\right )} : - \\frac{\\frac{d}{d t} \\operatorname{C_{1}}{\\left (t \\right )}}{4 \\gamma}, \\quad \\operatorname{C_{1}}{\\left (t \\right )} : \\frac{3 \\operatorname{B_{1}}{\\left (t \\right )}}{2} + \\frac{\\operatorname{D_{0}}{\\left (t \\right )}}{2}, \\quad \\operatorname{E_{1}}{\\left (t \\right )} : \\frac{\\alpha \\operatorname{B_{1}}{\\left (t \\right )} + \\alpha \\operatorname{D_{0}}{\\left (t \\right )} - \\frac{d}{d t} \\operatorname{B_{0}}{\\left (t \\right )}}{\\beta}, \\quad \\operatorname{E_{4}}{\\left (t \\right )} : - \\frac{\\frac{d}{d t} \\operatorname{B_{2}}{\\left (t \\right )}}{\\beta}, \\quad \\operatorname{E_{5}}{\\left (t \\right )} : - \\frac{\\frac{d}{d t} \\operatorname{B_{1}}{\\left (t \\right )}}{2 \\beta}, \\quad \\operatorname{E_{7}}{\\left (t \\right )} : - \\frac{\\frac{d}{d t} \\operatorname{B_{3}}{\\left (t \\right )}}{\\beta}, \\quad \\operatorname{E_{8}}{\\left (t \\right )} : - \\frac{\\frac{d^{3}}{d t^{3}} \\operatorname{D_{0}}{\\left (t \\right )}}{24 \\beta \\gamma^{2}}\\right \\}$$"
      ],
      "text/plain": [
       "⎧                                                                             \n",
       "⎪                                                                             \n",
       "⎪        d                   d                                                \n",
       "⎪       -──(C₀(t))          -──(C₁(t))                                  α⋅B₁(t\n",
       "⎨        dt                  dt                 3⋅B₁(t)   D₀(t)               \n",
       "⎪B₂(t): ───────────, B₃(t): ───────────, C₁(t): ─────── + ─────, E₁(t): ──────\n",
       "⎪           2⋅γ                 4⋅γ                2        2                 \n",
       "⎪                                                                             \n",
       "⎩                                                                             \n",
       "\n",
       "                                                                              \n",
       "                                                                              \n",
       "              d                  d                   d                   d    \n",
       ") + α⋅D₀(t) - ──(B₀(t))         -──(B₂(t))          -──(B₁(t))          -──(B₃\n",
       "              dt                 dt                  dt                  dt   \n",
       "───────────────────────, E₄(t): ───────────, E₅(t): ───────────, E₇(t): ──────\n",
       "        β                            β                  2⋅β                  β\n",
       "                                                                              \n",
       "                                                                              \n",
       "\n",
       "                 3        ⎫\n",
       "                d         ⎪\n",
       "              -───(D₀(t)) ⎪\n",
       "(t))             3        ⎪\n",
       "               dt         ⎬\n",
       "─────, E₈(t): ────────────⎪\n",
       "                      2   ⎪\n",
       "                24⋅β⋅γ    ⎪\n",
       "                          ⎭"
      ]
     },
     "execution_count": 46,
     "metadata": {},
     "output_type": "execute_result"
    }
   ],
   "source": [
    "s = sympy.solve([eqs3[2], eqs3[3], eqs3[4], eqs3[5], eqs3[6],\\\n",
    "    eqs3[7], eqs3[8], eqs3[9]], [C1, E1, E4, E7, E5, B2, B3, E8, E3])\n",
    "s"
   ]
  },
  {
   "cell_type": "code",
   "execution_count": 48,
   "metadata": {},
   "outputs": [
    {
     "data": {
      "image/png": "[encoded data removed]",
      "text/latex": [
       "$$\\left [ - 6 \\operatorname{B_{1}}{\\left (t \\right )} - 3 \\operatorname{D_{0}}{\\left (t \\right )} + 3 \\frac{d}{d t} \\operatorname{A_{0}}{\\left (t \\right )}, \\quad - \\frac{3 \\frac{d}{d t} \\operatorname{B_{1}}{\\left (t \\right )}}{4} + \\frac{3 \\frac{d}{d t} \\operatorname{D_{0}}{\\left (t \\right )}}{4}, \\quad 0, \\quad 0, \\quad - \\frac{3 \\frac{d^{2}}{d t^{2}} \\operatorname{B_{1}}{\\left (t \\right )}}{4} + \\frac{3 \\frac{d^{2}}{d t^{2}} \\operatorname{D_{0}}{\\left (t \\right )}}{4}, \\quad - \\frac{d}{d t} \\operatorname{B_{1}}{\\left (t \\right )} + \\frac{d}{d t} \\operatorname{D_{0}}{\\left (t \\right )}, \\quad \\alpha \\frac{d}{d t} \\operatorname{B_{1}}{\\left (t \\right )} + 2 \\beta \\gamma \\operatorname{E_{3}}{\\left (t \\right )} - \\frac{d^{2}}{d t^{2}} \\operatorname{B_{0}}{\\left (t \\right )}, \\quad 6 \\beta \\gamma \\operatorname{E_{6}}{\\left (t \\right )} + \\frac{\\frac{d^{3}}{d t^{3}} \\operatorname{C_{0}}{\\left (t \\right )}}{2 \\gamma}, \\quad \\frac{3 \\frac{d^{3}}{d t^{3}} \\operatorname{B_{1}}{\\left (t \\right )}}{8 \\gamma} - \\frac{3 \\frac{d^{3}}{d t^{3}} \\operatorname{D_{0}}{\\left (t \\right )}}{8 \\gamma}, \\quad - \\frac{\\frac{d^{2}}{d t^{2}} \\operatorname{B_{1}}{\\left (t \\right )}}{4} + \\frac{\\frac{d^{2}}{d t^{2}} \\operatorname{D_{0}}{\\left (t \\right )}}{4}\\right ]$$"
      ],
      "text/plain": [
       "⎡                                                                           2 \n",
       "⎢                                                                          d  \n",
       "⎢                                      d             d                  3⋅───(\n",
       "⎢                                    3⋅──(B₁(t))   3⋅──(D₀(t))              2 \n",
       "⎢                       d              dt            dt                   dt  \n",
       "⎢-6⋅B₁(t) - 3⋅D₀(t) + 3⋅──(A₀(t)), - ─────────── + ───────────, 0, 0, - ──────\n",
       "⎢                       dt                4             4                    4\n",
       "⎣                                                                             \n",
       "\n",
       "             2                                                                \n",
       "            d                                                                 \n",
       "B₁(t))   3⋅───(D₀(t))                                                         \n",
       "             2                                                                \n",
       "           dt            d           d            d                          d\n",
       "────── + ────────────, - ──(B₁(t)) + ──(D₀(t)), α⋅──(B₁(t)) + 2⋅β⋅γ⋅E₃(t) - ──\n",
       "              4          dt          dt           dt                          \n",
       "                                                                            dt\n",
       "\n",
       "                          3             3              3             2        \n",
       "                         d             d              d             d         \n",
       "                        ───(C₀(t))  3⋅───(B₁(t))   3⋅───(D₀(t))    ───(B₁(t)) \n",
       "2                         3             3              3             2        \n",
       "                        dt            dt             dt            dt         \n",
       "─(B₀(t)), 6⋅β⋅γ⋅E₆(t) + ──────────, ──────────── - ────────────, - ────────── \n",
       "2                          2⋅γ          8⋅γ            8⋅γ             4      \n",
       "                                                                              \n",
       "\n",
       "    2       ⎤\n",
       "   d        ⎥\n",
       "  ───(D₀(t))⎥\n",
       "    2       ⎥\n",
       "  dt        ⎥\n",
       "+ ──────────⎥\n",
       "      4     ⎥\n",
       "            ⎦"
      ]
     },
     "execution_count": 48,
     "metadata": {},
     "output_type": "execute_result"
    }
   ],
   "source": [
    "eqs4 = [eq.subs(s).doit().subs(s).doit().expand() for eq in eqs3 if eq.subs(s).doit().expand()]\n",
    "eqs4"
   ]
  },
  {
   "cell_type": "code",
   "execution_count": 49,
   "metadata": {},
   "outputs": [
    {
     "data": {
      "image/png": "[encoded data removed]",
      "text/latex": [
       "$$\\left \\{ \\operatorname{D_{0}}{\\left (t \\right )} : - 2 \\operatorname{B_{1}}{\\left (t \\right )} + \\frac{d}{d t} \\operatorname{A_{0}}{\\left (t \\right )}, \\quad \\operatorname{E_{3}}{\\left (t \\right )} : \\frac{- \\alpha \\frac{d}{d t} \\operatorname{B_{1}}{\\left (t \\right )} + \\frac{d^{2}}{d t^{2}} \\operatorname{B_{0}}{\\left (t \\right )}}{2 \\beta \\gamma}, \\quad \\operatorname{E_{6}}{\\left (t \\right )} : - \\frac{\\frac{d^{3}}{d t^{3}} \\operatorname{C_{0}}{\\left (t \\right )}}{12 \\beta \\gamma^{2}}\\right \\}$$"
      ],
      "text/plain": [
       "⎧                                                      2                   3  \n",
       "⎪                                        d            d                   d   \n",
       "⎪                                    - α⋅──(B₁(t)) + ───(B₀(t))         -───(C\n",
       "⎪                                        dt            2                   3  \n",
       "⎨                  d                                 dt                  dt   \n",
       "⎪D₀(t): -2⋅B₁(t) + ──(A₀(t)), E₃(t): ──────────────────────────, E₆(t): ──────\n",
       "⎪                  dt                          2⋅β⋅γ                          \n",
       "⎪                                                                         12⋅β\n",
       "⎩                                                                             \n",
       "\n",
       "      ⎫\n",
       "      ⎪\n",
       "₀(t)) ⎪\n",
       "      ⎪\n",
       "      ⎬\n",
       "──────⎪\n",
       "  2   ⎪\n",
       "⋅γ    ⎪\n",
       "      ⎭"
      ]
     },
     "execution_count": 49,
     "metadata": {},
     "output_type": "execute_result"
    }
   ],
   "source": [
    "s1 = sympy.solve([eqs4[0], eqs4[-4], eqs4[-3]], [D0, E3, E6])\n",
    "s1"
   ]
  },
  {
   "cell_type": "code",
   "execution_count": 50,
   "metadata": {},
   "outputs": [
    {
     "data": {
      "image/png": "[encoded data removed]",
      "text/latex": [
       "$$\\left [ \\frac{3 \\frac{d^{2}}{d t^{2}} \\operatorname{A_{0}}{\\left (t \\right )}}{4} - \\frac{9 \\frac{d}{d t} \\operatorname{B_{1}}{\\left (t \\right )}}{4}, \\quad \\frac{3 \\frac{d^{3}}{d t^{3}} \\operatorname{A_{0}}{\\left (t \\right )}}{4} - \\frac{9 \\frac{d^{2}}{d t^{2}} \\operatorname{B_{1}}{\\left (t \\right )}}{4}, \\quad \\frac{d^{2}}{d t^{2}} \\operatorname{A_{0}}{\\left (t \\right )} - 3 \\frac{d}{d t} \\operatorname{B_{1}}{\\left (t \\right )}, \\quad - \\frac{3 \\frac{d^{4}}{d t^{4}} \\operatorname{A_{0}}{\\left (t \\right )}}{8 \\gamma} + \\frac{9 \\frac{d^{3}}{d t^{3}} \\operatorname{B_{1}}{\\left (t \\right )}}{8 \\gamma}, \\quad \\frac{\\frac{d^{3}}{d t^{3}} \\operatorname{A_{0}}{\\left (t \\right )}}{4} - \\frac{3 \\frac{d^{2}}{d t^{2}} \\operatorname{B_{1}}{\\left (t \\right )}}{4}\\right ]$$"
      ],
      "text/plain": [
       "⎡    2                           3              2                             \n",
       "⎢   d                           d              d                              \n",
       "⎢3⋅───(A₀(t))     d          3⋅───(A₀(t))   9⋅───(B₁(t))                      \n",
       "⎢    2          9⋅──(B₁(t))      3              2           2                 \n",
       "⎢  dt             dt           dt             dt           d             d    \n",
       "⎢──────────── - ───────────, ──────────── - ────────────, ───(A₀(t)) - 3⋅──(B₁\n",
       "⎢     4              4            4              4          2            dt   \n",
       "⎣                                                         dt                  \n",
       "\n",
       "            4              3           3              2       ⎤\n",
       "           d              d           d              d        ⎥\n",
       "        3⋅───(A₀(t))   9⋅───(B₁(t))  ───(A₀(t))   3⋅───(B₁(t))⎥\n",
       "            4              3           3              2       ⎥\n",
       "          dt             dt          dt             dt        ⎥\n",
       "(t)), - ──────────── + ────────────, ────────── - ────────────⎥\n",
       "            8⋅γ            8⋅γ           4             4      ⎥\n",
       "                                                              ⎦"
      ]
     },
     "execution_count": 50,
     "metadata": {},
     "output_type": "execute_result"
    }
   ],
   "source": [
    "eqs5 = [eq.subs(s1).doit().subs(s1).doit().expand() for eq in eqs4 if eq.subs(s1).doit().expand()]\n",
    "eqs5"
   ]
  },
  {
   "cell_type": "code",
   "execution_count": 51,
   "metadata": {},
   "outputs": [
    {
     "data": {
      "image/png": "[encoded data removed]",
      "text/latex": [
       "$$\\left [ \\right ]$$"
      ],
      "text/plain": [
       "[]"
      ]
     },
     "execution_count": 51,
     "metadata": {},
     "output_type": "execute_result"
    }
   ],
   "source": [
    "c = sympy.Symbol(\"c\")\n",
    "s2 = {B1: A0.diff(t)/3 + c}\n",
    "eqs6 = [eq.subs(s2).doit().subs(s2).doit().expand() for eq in eqs5 if eq.subs(s2).doit().expand()]\n",
    "eqs6"
   ]
  },
  {
   "cell_type": "code",
   "execution_count": 52,
   "metadata": {},
   "outputs": [
    {
     "data": {
      "image/png": "[encoded data removed]",
      "text/latex": [
       "$$\\left \\{ \\operatorname{D_{0}}{\\left (t \\right )} : - 2 c + \\frac{\\frac{d}{d t} \\operatorname{A_{0}}{\\left (t \\right )}}{3}, \\quad \\operatorname{E_{3}}{\\left (t \\right )} : - \\frac{\\alpha \\frac{d^{2}}{d t^{2}} \\operatorname{A_{0}}{\\left (t \\right )}}{6 \\beta \\gamma} + \\frac{\\frac{d^{2}}{d t^{2}} \\operatorname{B_{0}}{\\left (t \\right )}}{2 \\beta \\gamma}, \\quad \\operatorname{E_{6}}{\\left (t \\right )} : - \\frac{\\frac{d^{3}}{d t^{3}} \\operatorname{C_{0}}{\\left (t \\right )}}{12 \\beta \\gamma^{2}}\\right \\}$$"
      ],
      "text/plain": [
       "⎧                                      2            2                   3     \n",
       "⎪                                     d            d                   d      \n",
       "⎪              d                   α⋅───(A₀(t))   ───(B₀(t))         -───(C₀(t\n",
       "⎪              ──(A₀(t))               2            2                   3     \n",
       "⎨              dt                    dt           dt                  dt      \n",
       "⎪D₀(t): -2⋅c + ─────────, E₃(t): - ──────────── + ──────────, E₆(t): ─────────\n",
       "⎪                  3                  6⋅β⋅γ         2⋅β⋅γ                    2\n",
       "⎪                                                                      12⋅β⋅γ \n",
       "⎩                                                                             \n",
       "\n",
       "   ⎫\n",
       "   ⎪\n",
       ")) ⎪\n",
       "   ⎪\n",
       "   ⎬\n",
       "───⎪\n",
       "   ⎪\n",
       "   ⎪\n",
       "   ⎭"
      ]
     },
     "execution_count": 52,
     "metadata": {},
     "output_type": "execute_result"
    }
   ],
   "source": [
    "for k, v in s1.items():\n",
    "    s1[k] = v.subs(s2).doit().subs(s2).doit().expand()\n",
    "s1"
   ]
  },
  {
   "cell_type": "code",
   "execution_count": 53,
   "metadata": {},
   "outputs": [
    {
     "data": {
      "image/png": "[encoded data removed]",
      "text/latex": [
       "$$\\left \\{ \\operatorname{B_{2}}{\\left (t \\right )} : - \\frac{\\frac{d}{d t} \\operatorname{C_{0}}{\\left (t \\right )}}{2 \\gamma}, \\quad \\operatorname{B_{3}}{\\left (t \\right )} : - \\frac{\\frac{d}{d t} \\operatorname{C_{1}}{\\left (t \\right )}}{4 \\gamma}, \\quad \\operatorname{C_{1}}{\\left (t \\right )} : \\frac{c}{2} + \\frac{2 \\frac{d}{d t} \\operatorname{A_{0}}{\\left (t \\right )}}{3}, \\quad \\operatorname{E_{1}}{\\left (t \\right )} : - \\frac{\\alpha c}{\\beta} + \\frac{2 \\alpha \\frac{d}{d t} \\operatorname{A_{0}}{\\left (t \\right )}}{3 \\beta} - \\frac{\\frac{d}{d t} \\operatorname{B_{0}}{\\left (t \\right )}}{\\beta}, \\quad \\operatorname{E_{4}}{\\left (t \\right )} : - \\frac{\\frac{d}{d t} \\operatorname{B_{2}}{\\left (t \\right )}}{\\beta}, \\quad \\operatorname{E_{5}}{\\left (t \\right )} : - \\frac{\\frac{d^{2}}{d t^{2}} \\operatorname{A_{0}}{\\left (t \\right )}}{6 \\beta}, \\quad \\operatorname{E_{7}}{\\left (t \\right )} : - \\frac{\\frac{d}{d t} \\operatorname{B_{3}}{\\left (t \\right )}}{\\beta}, \\quad \\operatorname{E_{8}}{\\left (t \\right )} : - \\frac{\\frac{d^{4}}{d t^{4}} \\operatorname{A_{0}}{\\left (t \\right )}}{72 \\beta \\gamma^{2}}\\right \\}$$"
      ],
      "text/plain": [
       "⎧                                                                             \n",
       "⎪                                                                             \n",
       "⎪        d                   d                        d                       \n",
       "⎪       -──(C₀(t))          -──(C₁(t))              2⋅──(A₀(t))               \n",
       "⎨        dt                  dt                 c     dt                  α⋅c \n",
       "⎪B₂(t): ───────────, B₃(t): ───────────, C₁(t): ─ + ───────────, E₁(t): - ─── \n",
       "⎪           2⋅γ                 4⋅γ             2        3                 β  \n",
       "⎪                                                                             \n",
       "⎩                                                                             \n",
       "\n",
       "                                                           2                  \n",
       "                                                          d                   \n",
       "      d           d                  d                  -───(A₀(t))           \n",
       "  2⋅α⋅──(A₀(t))   ──(B₀(t))         -──(B₂(t))             2                 -\n",
       "      dt          dt                 dt                  dt                   \n",
       "+ ───────────── - ─────────, E₄(t): ───────────, E₅(t): ────────────, E₇(t): ─\n",
       "       3⋅β            β                  β                  6⋅β               \n",
       "                                                                              \n",
       "                                                                              \n",
       "\n",
       "                      4        ⎫\n",
       "                     d         ⎪\n",
       "d                  -───(A₀(t)) ⎪\n",
       "──(B₃(t))             4        ⎪\n",
       "dt                  dt         ⎬\n",
       "──────────, E₈(t): ────────────⎪\n",
       "    β                      2   ⎪\n",
       "                     72⋅β⋅γ    ⎪\n",
       "                               ⎭"
      ]
     },
     "execution_count": 53,
     "metadata": {},
     "output_type": "execute_result"
    }
   ],
   "source": [
    "for k, v in s.items():\n",
    "    s[k] = v.subs(s2).doit().subs(s2).doit().subs(s1).doit().subs(s1).doit().expand()\n",
    "s"
   ]
  },
  {
   "cell_type": "code",
   "execution_count": 66,
   "metadata": {},
   "outputs": [
    {
     "name": "stdout",
     "output_type": "stream",
     "text": [
      "\\displaystyle {B_1} = c + \\frac{{A_0}_{t}}{3}, \\\\\n",
      "\\displaystyle {D_0} = - 2 c + \\frac{{A_0}_{t}}{3}, \\\\\n",
      "\\displaystyle {E_3} = - \\frac{\\alpha {A_0}_{tt}}{6 \\beta \\gamma} + \\frac{{B_0}_{tt}}{2 \\beta \\gamma}, \\\\\n",
      "\\displaystyle {E_6} = - \\frac{{C_0}_{ttt}}{12 \\beta \\gamma^{2}}, \\\\\n",
      "\\displaystyle {E_8} = - \\frac{{A_0}_{tttt}}{72 \\beta \\gamma^{2}}, \\\\\n",
      "\\displaystyle {B_3} = - \\frac{{C_1}_{t}}{4 \\gamma}, \\\\\n",
      "\\displaystyle {B_2} = - \\frac{{C_0}_{t}}{2 \\gamma}, \\\\\n",
      "\\displaystyle {E_5} = - \\frac{{A_0}_{tt}}{6 \\beta}, \\\\\n",
      "\\displaystyle {E_7} = - \\frac{{B_3}_{t}}{\\beta}, \\\\\n",
      "\\displaystyle {E_4} = - \\frac{{B_2}_{t}}{\\beta}, \\\\\n",
      "\\displaystyle {E_1} = - \\frac{\\alpha c}{\\beta} + \\frac{2 \\alpha {A_0}_{t}}{3 \\beta} - \\frac{{B_0}_{t}}{\\beta}, \\\\\n",
      "\\displaystyle {C_1} = \\frac{c}{2} + \\frac{2 {A_0}_{t}}{3}, \\\\\n"
     ]
    }
   ],
   "source": [
    "for a, b in s2.items():\n",
    "    print(fr\"\\displaystyle {sympy.latex(compact(a))} = {sympy.latex(compact(b))}, \\\\\")\n",
    "for a, b in s1.items():\n",
    "    print(fr\"\\displaystyle {sympy.latex(compact(a))} = {sympy.latex(compact(b))}, \\\\\")\n",
    "for a, b in s.items():\n",
    "    print(fr\"\\displaystyle {sympy.latex(compact(a))} = {sympy.latex(compact(b))}, \\\\\")"
   ]
  },
  {
   "cell_type": "code",
   "execution_count": 67,
   "metadata": {},
   "outputs": [
    {
     "data": {
      "image/png": "[encoded data removed]",
      "text/latex": [
       "$$u \\operatorname{D_{0}}{\\left (t \\right )} + u_{t} \\operatorname{A_{0}}{\\left (t \\right )} + u_{x} \\left(x \\operatorname{B_{1}}{\\left (t \\right )} + y^{2} \\operatorname{B_{3}}{\\left (t \\right )} + y \\operatorname{B_{2}}{\\left (t \\right )} + \\operatorname{B_{0}}{\\left (t \\right )}\\right) + u_{y} \\left(y \\operatorname{C_{1}}{\\left (t \\right )} + \\operatorname{C_{0}}{\\left (t \\right )}\\right) + x^{2} \\operatorname{E_{5}}{\\left (t \\right )} + x y^{2} \\operatorname{E_{7}}{\\left (t \\right )} + x y \\operatorname{E_{4}}{\\left (t \\right )} + x \\operatorname{E_{1}}{\\left (t \\right )} + y^{4} \\operatorname{E_{8}}{\\left (t \\right )} + y^{3} \\operatorname{E_{6}}{\\left (t \\right )} + y^{2} \\operatorname{E_{3}}{\\left (t \\right )} + y \\operatorname{E_{2}}{\\left (t \\right )} + \\operatorname{E_{0}}{\\left (t \\right )}$$"
      ],
      "text/plain": [
       "                        ⎛           2                        ⎞                \n",
       "u⋅D₀(t) + uₜ⋅A₀(t) + uₓ⋅⎝x⋅B₁(t) + y ⋅B₃(t) + y⋅B₂(t) + B₀(t)⎠ + u_y⋅(y⋅C₁(t) \n",
       "\n",
       "            2            2                                4          3        \n",
       "+ C₀(t)) + x ⋅E₅(t) + x⋅y ⋅E₇(t) + x⋅y⋅E₄(t) + x⋅E₁(t) + y ⋅E₈(t) + y ⋅E₆(t) +\n",
       "\n",
       "  2                        \n",
       " y ⋅E₃(t) + y⋅E₂(t) + E₀(t)"
      ]
     },
     "execution_count": 67,
     "metadata": {},
     "output_type": "execute_result"
    }
   ],
   "source": [
    "T2 = ut*T1[0] + ux*T1[1] + uy*T1[2] + u*T1[3] + T1[4]\n",
    "T2"
   ]
  },
  {
   "cell_type": "code",
   "execution_count": 75,
   "metadata": {},
   "outputs": [
    {
     "data": {
      "image/png": "[encoded data removed]",
      "text/latex": [
       "$$- \\frac{\\alpha c x}{\\beta} + \\frac{2 \\alpha x \\frac{d}{d t} \\operatorname{A_{0}}{\\left (t \\right )}}{3 \\beta} - \\frac{\\alpha y^{2} \\frac{d^{2}}{d t^{2}} \\operatorname{A_{0}}{\\left (t \\right )}}{6 \\beta \\gamma} - 2 c u + c u_{x} x + \\frac{c u_{y} y}{2} + \\frac{u \\frac{d}{d t} \\operatorname{A_{0}}{\\left (t \\right )}}{3} + u_{t} \\operatorname{A_{0}}{\\left (t \\right )} + \\frac{u_{x} x \\frac{d}{d t} \\operatorname{A_{0}}{\\left (t \\right )}}{3} + u_{x} \\operatorname{B_{0}}{\\left (t \\right )} + \\frac{2 u_{y} y \\frac{d}{d t} \\operatorname{A_{0}}{\\left (t \\right )}}{3} + u_{y} \\operatorname{C_{0}}{\\left (t \\right )} + y \\operatorname{E_{2}}{\\left (t \\right )} + \\operatorname{E_{0}}{\\left (t \\right )} - \\frac{u_{x} y^{2} \\frac{d^{2}}{d t^{2}} \\operatorname{A_{0}}{\\left (t \\right )}}{6 \\gamma} - \\frac{u_{x} y \\frac{d}{d t} \\operatorname{C_{0}}{\\left (t \\right )}}{2 \\gamma} - \\frac{x^{2} \\frac{d^{2}}{d t^{2}} \\operatorname{A_{0}}{\\left (t \\right )}}{6 \\beta} - \\frac{x y^{2} \\frac{d}{d t} \\operatorname{B_{3}}{\\left (t \\right )}}{\\beta} - \\frac{x y \\frac{d}{d t} \\operatorname{B_{2}}{\\left (t \\right )}}{\\beta} - \\frac{x \\frac{d}{d t} \\operatorname{B_{0}}{\\left (t \\right )}}{\\beta} + \\frac{y^{2} \\frac{d^{2}}{d t^{2}} \\operatorname{B_{0}}{\\left (t \\right )}}{2 \\beta \\gamma} - \\frac{y^{4} \\frac{d^{4}}{d t^{4}} \\operatorname{A_{0}}{\\left (t \\right )}}{72 \\beta \\gamma^{2}} - \\frac{y^{3} \\frac{d^{3}}{d t^{3}} \\operatorname{C_{0}}{\\left (t \\right )}}{12 \\beta \\gamma^{2}}$$"
      ],
      "text/plain": [
       "                                   2                                          \n",
       "                               2  d                                           \n",
       "                d           α⋅y ⋅───(A₀(t))                                d  \n",
       "          2⋅α⋅x⋅──(A₀(t))          2                                     u⋅──(\n",
       "  α⋅c⋅x         dt               dt                            c⋅u_y⋅y     dt \n",
       "- ───── + ─────────────── - ─────────────── - 2⋅c⋅u + c⋅uₓ⋅x + ─────── + ─────\n",
       "    β           3⋅β              6⋅β⋅γ                            2           \n",
       "                                                                              \n",
       "\n",
       "                                                                              \n",
       "                                                                              \n",
       "                         d                              d                     \n",
       "A₀(t))              uₓ⋅x⋅──(A₀(t))              2⋅u_y⋅y⋅──(A₀(t))             \n",
       "                         dt                             dt                    \n",
       "────── + uₜ⋅A₀(t) + ────────────── + uₓ⋅B₀(t) + ───────────────── + u_y⋅C₀(t) \n",
       "3                         3                             3                     \n",
       "                                                                              \n",
       "\n",
       "                            2                                2                \n",
       "                        2  d                             2  d                 \n",
       "                    uₓ⋅y ⋅───(A₀(t))        d           x ⋅───(A₀(t))      2 d\n",
       "                            2          uₓ⋅y⋅──(C₀(t))        2          x⋅y ⋅─\n",
       "                          dt                dt             dt                d\n",
       "+ y⋅E₂(t) + E₀(t) - ──────────────── - ────────────── - ───────────── - ──────\n",
       "                          6⋅γ               2⋅γ              6⋅β              \n",
       "                                                                              \n",
       "\n",
       "                                              2               4               \n",
       "                                          2  d            4  d            3  d\n",
       "               d             d           y ⋅───(B₀(t))   y ⋅───(A₀(t))   y ⋅──\n",
       "─(B₃(t))   x⋅y⋅──(B₂(t))   x⋅──(B₀(t))        2               4               \n",
       "t              dt            dt             dt              dt              dt\n",
       "──────── - ───────────── - ─────────── + ───────────── - ───────────── - ─────\n",
       "β                β              β            2⋅β⋅γ                2           \n",
       "                                                            72⋅β⋅γ          12\n",
       "\n",
       "3       \n",
       "        \n",
       "─(C₀(t))\n",
       "3       \n",
       "        \n",
       "────────\n",
       "    2   \n",
       "⋅β⋅γ    "
      ]
     },
     "execution_count": 75,
     "metadata": {},
     "output_type": "execute_result"
    }
   ],
   "source": [
    "T3 = T2.subs(s).subs(s1).subs(s2).doit().expand()\n",
    "T3"
   ]
  },
  {
   "cell_type": "code",
   "execution_count": 76,
   "metadata": {},
   "outputs": [
    {
     "data": {
      "image/png": "[encoded data removed]",
      "text/latex": [
       "$$\\left\\{\\operatorname{A_{0}}{\\left (t \\right )}, \\operatorname{B_{0}}{\\left (t \\right )}, \\operatorname{B_{2}}{\\left (t \\right )}, \\operatorname{B_{3}}{\\left (t \\right )}, \\operatorname{C_{0}}{\\left (t \\right )}, \\operatorname{E_{0}}{\\left (t \\right )}, \\operatorname{E_{2}}{\\left (t \\right )}\\right\\}$$"
      ],
      "text/plain": [
       "{A₀(t), B₀(t), B₂(t), B₃(t), C₀(t), E₀(t), E₂(t)}"
      ]
     },
     "execution_count": 76,
     "metadata": {},
     "output_type": "execute_result"
    }
   ],
   "source": [
    "at = T3.atoms(sympy.Function)\n",
    "at"
   ]
  },
  {
   "cell_type": "code",
   "execution_count": 78,
   "metadata": {},
   "outputs": [
    {
     "name": "stdout",
     "output_type": "stream",
     "text": [
      "\\displaystyle u_{y} {C_0} - \\frac{u_{x} y {C_0}_{t}}{2 \\gamma} - \\frac{y^{3} {C_0}_{ttt}}{12 \\beta \\gamma^{2}}, \\\\\n",
      "\\displaystyle \\frac{2 \\alpha x {A_0}_{t}}{3 \\beta} - \\frac{\\alpha y^{2} {A_0}_{tt}}{6 \\beta \\gamma} + \\frac{u {A_0}_{t}}{3} + u_{t} {A_0} + \\frac{u_{x} x {A_0}_{t}}{3} + \\frac{2 u_{y} y {A_0}_{t}}{3} - \\frac{u_{x} y^{2} {A_0}_{tt}}{6 \\gamma} - \\frac{x^{2} {A_0}_{tt}}{6 \\beta} - \\frac{y^{4} {A_0}_{tttt}}{72 \\beta \\gamma^{2}}, \\\\\n",
      "\\displaystyle u_{x} {B_0} - \\frac{x {B_0}_{t}}{\\beta} + \\frac{y^{2} {B_0}_{tt}}{2 \\beta \\gamma}, \\\\\n",
      "\\displaystyle - \\frac{x y {B_2}_{t}}{\\beta}, \\\\\n",
      "\\displaystyle {E_0}, \\\\\n",
      "\\displaystyle y {E_2}, \\\\\n",
      "\\displaystyle - \\frac{x y^{2} {B_3}_{t}}{\\beta}, \\\\\n"
     ]
    },
    {
     "data": {
      "image/png": "[encoded data removed]",
      "text/latex": [
       "$$u_{y} \\operatorname{C_{0}}{\\left (t \\right )} - \\frac{u_{x} y \\frac{d}{d t} \\operatorname{C_{0}}{\\left (t \\right )}}{2 \\gamma} - \\frac{y^{3} \\frac{d^{3}}{d t^{3}} \\operatorname{C_{0}}{\\left (t \\right )}}{12 \\beta \\gamma^{2}}$$"
      ],
      "text/plain": [
       "                                  3       \n",
       "                              3  d        \n",
       "                 d           y ⋅───(C₀(t))\n",
       "            uₓ⋅y⋅──(C₀(t))        3       \n",
       "                 dt             dt        \n",
       "u_y⋅C₀(t) - ────────────── - ─────────────\n",
       "                 2⋅γ                  2   \n",
       "                                12⋅β⋅γ    "
      ]
     },
     "metadata": {},
     "output_type": "display_data"
    },
    {
     "data": {
      "image/png": "[encoded data removed]",
      "text/latex": [
       "$$\\frac{2 \\alpha x \\frac{d}{d t} \\operatorname{A_{0}}{\\left (t \\right )}}{3 \\beta} - \\frac{\\alpha y^{2} \\frac{d^{2}}{d t^{2}} \\operatorname{A_{0}}{\\left (t \\right )}}{6 \\beta \\gamma} + \\frac{u \\frac{d}{d t} \\operatorname{A_{0}}{\\left (t \\right )}}{3} + u_{t} \\operatorname{A_{0}}{\\left (t \\right )} + \\frac{u_{x} x \\frac{d}{d t} \\operatorname{A_{0}}{\\left (t \\right )}}{3} + \\frac{2 u_{y} y \\frac{d}{d t} \\operatorname{A_{0}}{\\left (t \\right )}}{3} - \\frac{u_{x} y^{2} \\frac{d^{2}}{d t^{2}} \\operatorname{A_{0}}{\\left (t \\right )}}{6 \\gamma} - \\frac{x^{2} \\frac{d^{2}}{d t^{2}} \\operatorname{A_{0}}{\\left (t \\right )}}{6 \\beta} - \\frac{y^{4} \\frac{d^{4}}{d t^{4}} \\operatorname{A_{0}}{\\left (t \\right )}}{72 \\beta \\gamma^{2}}$$"
      ],
      "text/plain": [
       "                         2                                                    \n",
       "                     2  d                                                     \n",
       "      d           α⋅y ⋅───(A₀(t))     d                           d           \n",
       "2⋅α⋅x⋅──(A₀(t))          2          u⋅──(A₀(t))              uₓ⋅x⋅──(A₀(t))   \n",
       "      dt               dt             dt                          dt          \n",
       "─────────────── - ─────────────── + ─────────── + uₜ⋅A₀(t) + ────────────── + \n",
       "      3⋅β              6⋅β⋅γ             3                         3          \n",
       "                                                                              \n",
       "\n",
       "                            2               2               4       \n",
       "                        2  d            2  d            4  d        \n",
       "        d           uₓ⋅y ⋅───(A₀(t))   x ⋅───(A₀(t))   y ⋅───(A₀(t))\n",
       "2⋅u_y⋅y⋅──(A₀(t))           2               2               4       \n",
       "        dt                dt              dt              dt        \n",
       "───────────────── - ──────────────── - ───────────── - ─────────────\n",
       "        3                 6⋅γ               6⋅β                 2   \n",
       "                                                          72⋅β⋅γ    "
      ]
     },
     "metadata": {},
     "output_type": "display_data"
    },
    {
     "data": {
      "image/png": "[encoded data removed]",
      "text/latex": [
       "$$u_{x} \\operatorname{B_{0}}{\\left (t \\right )} - \\frac{x \\frac{d}{d t} \\operatorname{B_{0}}{\\left (t \\right )}}{\\beta} + \\frac{y^{2} \\frac{d^{2}}{d t^{2}} \\operatorname{B_{0}}{\\left (t \\right )}}{2 \\beta \\gamma}$$"
      ],
      "text/plain": [
       "                              2       \n",
       "                          2  d        \n",
       "             d           y ⋅───(B₀(t))\n",
       "           x⋅──(B₀(t))        2       \n",
       "             dt             dt        \n",
       "uₓ⋅B₀(t) - ─────────── + ─────────────\n",
       "                β            2⋅β⋅γ    "
      ]
     },
     "metadata": {},
     "output_type": "display_data"
    },
    {
     "data": {
      "image/png": "[encoded data removed]",
      "text/latex": [
       "$$- \\frac{x y \\frac{d}{d t} \\operatorname{B_{2}}{\\left (t \\right )}}{\\beta}$$"
      ],
      "text/plain": [
       "     d         \n",
       "-x⋅y⋅──(B₂(t)) \n",
       "     dt        \n",
       "───────────────\n",
       "       β       "
      ]
     },
     "metadata": {},
     "output_type": "display_data"
    },
    {
     "data": {
      "image/png": "[encoded data removed]",
      "text/latex": [
       "$$\\operatorname{E_{0}}{\\left (t \\right )}$$"
      ],
      "text/plain": [
       "E₀(t)"
      ]
     },
     "metadata": {},
     "output_type": "display_data"
    },
    {
     "data": {
      "image/png": "[encoded data removed]",
      "text/latex": [
       "$$y \\operatorname{E_{2}}{\\left (t \\right )}$$"
      ],
      "text/plain": [
       "y⋅E₂(t)"
      ]
     },
     "metadata": {},
     "output_type": "display_data"
    },
    {
     "data": {
      "image/png": "[encoded data removed]",
      "text/latex": [
       "$$- \\frac{x y^{2} \\frac{d}{d t} \\operatorname{B_{3}}{\\left (t \\right )}}{\\beta}$$"
      ],
      "text/plain": [
       "    2 d         \n",
       "-x⋅y ⋅──(B₃(t)) \n",
       "      dt        \n",
       "────────────────\n",
       "       β        "
      ]
     },
     "metadata": {},
     "output_type": "display_data"
    }
   ],
   "source": [
    "for a in at:\n",
    "    print(r\"\\displaystyle \" + sympy.latex(compact(sum(i for i in T3.args if a in i.atoms(sympy.Function)))) + r\", \\\\\")\n",
    "    \n",
    "for a in at:\n",
    "    display(sum(i for i in T3.args if a in i.atoms(sympy.Function)))"
   ]
  },
  {
   "cell_type": "code",
   "execution_count": 74,
   "metadata": {},
   "outputs": [
    {
     "name": "stdout",
     "output_type": "stream",
     "text": [
      "- \\frac{\\alpha x}{\\beta} - 2 u + \\frac{u_{y} y}{2}\n"
     ]
    },
    {
     "data": {
      "image/png": "[encoded data removed]",
      "text/latex": [
       "$$- \\frac{\\alpha x}{\\beta} - 2 u + \\frac{u_{y} y}{2}$$"
      ],
      "text/plain": [
       "  α⋅x         u_y⋅y\n",
       "- ─── - 2⋅u + ─────\n",
       "   β            2  "
      ]
     },
     "execution_count": 74,
     "metadata": {},
     "output_type": "execute_result"
    }
   ],
   "source": [
    "print(sympy.latex(T3.coeff(c)))\n",
    "T3.coeff(c)"
   ]
  },
  {
   "cell_type": "code",
   "execution_count": null,
   "metadata": {},
   "outputs": [],
   "source": [
    "Image('Мамонтов1.png')"
   ]
  },
  {
   "cell_type": "code",
   "execution_count": null,
   "metadata": {},
   "outputs": [],
   "source": [
    "Image('Мамонтов2.png')"
   ]
  },
  {
   "cell_type": "code",
   "execution_count": null,
   "metadata": {},
   "outputs": [],
   "source": []
  }
 ],
 "metadata": {
  "kernelspec": {
   "display_name": "Python 3",
   "language": "python",
   "name": "python3"
  },
  "language_info": {
   "codemirror_mode": {
    "name": "ipython",
    "version": 3
   },
   "file_extension": ".py",
   "mimetype": "text/x-python",
   "name": "python",
   "nbconvert_exporter": "python",
   "pygments_lexer": "ipython3",
   "version": "3.7.3"
  }
 },
 "nbformat": 4,
 "nbformat_minor": 2
}
