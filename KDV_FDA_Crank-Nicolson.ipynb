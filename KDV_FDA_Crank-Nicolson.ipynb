{
 "cells": [
  {
   "cell_type": "code",
   "execution_count": 1,
   "metadata": {},
   "outputs": [],
   "source": [
    "from IPython.display import display\n",
    "\n",
    "from sympy import *\n",
    "init_printing()\n",
    "\n",
    "from monom import *"
   ]
  },
  {
   "cell_type": "code",
   "execution_count": 2,
   "metadata": {},
   "outputs": [],
   "source": [
    "t, x, tau, h = symbols(r't, x, tau, h', real=True)\n",
    "u = symbols('u', cls=Function)(t, x)"
   ]
  },
  {
   "cell_type": "code",
   "execution_count": 3,
   "metadata": {},
   "outputs": [
    {
     "data": {
      "image/png": "[encoded data removed]",
      "text/latex": [
       "$$6 u{\\left (t,x \\right )} \\frac{\\partial}{\\partial x} u{\\left (t,x \\right )} + \\frac{\\partial}{\\partial t} u{\\left (t,x \\right )} + \\frac{\\partial^{3}}{\\partial x^{3}} u{\\left (t,x \\right )}$$"
      ],
      "text/plain": [
       "                                        3         \n",
       "          ∂             ∂              ∂          \n",
       "6⋅u(t, x)⋅──(u(t, x)) + ──(u(t, x)) + ───(u(t, x))\n",
       "          ∂x            ∂t              3         \n",
       "                                      ∂x          "
      ]
     },
     "execution_count": 3,
     "metadata": {},
     "output_type": "execute_result"
    }
   ],
   "source": [
    "eq = u.diff(t) + 3*diff(u**2, x) + u.diff(x, 3)\n",
    "eq"
   ]
  },
  {
   "cell_type": "code",
   "execution_count": 4,
   "metadata": {},
   "outputs": [
    {
     "data": {
      "image/png": "[encoded data removed]",
      "text/latex": [
       "$$\\frac{2 k^{2}}{\\cosh^{2}{\\left (k \\left(4 k^{2} t - x\\right) \\right )}}$$"
      ],
      "text/plain": [
       "            2        \n",
       "         2⋅k         \n",
       "─────────────────────\n",
       "    2⎛  ⎛   2      ⎞⎞\n",
       "cosh ⎝k⋅⎝4⋅k ⋅t - x⎠⎠"
      ]
     },
     "metadata": {},
     "output_type": "display_data"
    },
    {
     "data": {
      "image/png": "[encoded data removed]",
      "text/latex": [
       "$$0$$"
      ],
      "text/plain": [
       "0"
      ]
     },
     "metadata": {},
     "output_type": "display_data"
    },
    {
     "name": "stdout",
     "output_type": "stream",
     "text": [
      "\\frac{2 k^{2}}{\\cosh^{2}{\\left (k \\left(4 k^{2} t - x\\right) \\right )}}\n"
     ]
    }
   ],
   "source": [
    "k = symbols('k', real=True)\n",
    "exact1 = 2*k**2/cosh(-k*(4*k**2*t - x))**2\n",
    "display(exact1)\n",
    "display(eq.subs({u: exact1}).doit().trigsimp())\n",
    "print(latex(exact1))"
   ]
  },
  {
   "cell_type": "code",
   "execution_count": 5,
   "metadata": {},
   "outputs": [
    {
     "data": {
      "image/png": "[encoded data removed]",
      "text/latex": [
       "$$2 k^{2} \\left(- \\tanh^{2}{\\left (k \\left(4 k^{2} t - x\\right) \\right )} + 1\\right)$$"
      ],
      "text/plain": [
       "   2 ⎛      2⎛  ⎛   2      ⎞⎞    ⎞\n",
       "2⋅k ⋅⎝- tanh ⎝k⋅⎝4⋅k ⋅t - x⎠⎠ + 1⎠"
      ]
     },
     "metadata": {},
     "output_type": "display_data"
    },
    {
     "data": {
      "image/png": "[encoded data removed]",
      "text/latex": [
       "$$0$$"
      ],
      "text/plain": [
       "0"
      ]
     },
     "metadata": {},
     "output_type": "display_data"
    },
    {
     "data": {
      "image/png": "[encoded data removed]",
      "text/latex": [
       "$$0$$"
      ],
      "text/plain": [
       "0"
      ]
     },
     "execution_count": 5,
     "metadata": {},
     "output_type": "execute_result"
    }
   ],
   "source": [
    "exact1a = 2*k**2*(1 - tanh(-k*(4*k**2*t - x))**2)\n",
    "display(exact1a)\n",
    "display(trigsimp(exact1a - exact1))\n",
    "eq.subs({u: exact1a}).doit().trigsimp()"
   ]
  },
  {
   "cell_type": "code",
   "execution_count": 6,
   "metadata": {},
   "outputs": [
    {
     "data": {
      "image/png": "[encoded data removed]",
      "text/latex": [
       "$$\\frac{\\left(8 k_{1}^{2} - 8 k_{2}^{2}\\right) \\left(k_{1}^{2} \\cosh^{2}{\\left (\\xi_{2} \\right )} + k_{2}^{2} \\sinh^{2}{\\left (\\xi_{1} \\right )}\\right)}{\\left(\\left(k_{1} - k_{2}\\right) \\cosh{\\left (\\xi_{1} + \\xi_{2} \\right )} + \\left(k_{1} + k_{2}\\right) \\cosh{\\left (\\xi_{1} - \\xi_{2} \\right )}\\right)^{2}}$$"
      ],
      "text/plain": [
       "  ⎛    2       2⎞ ⎛  2     2         2     2    ⎞   \n",
       "  ⎝8⋅k₁  - 8⋅k₂ ⎠⋅⎝k₁ ⋅cosh (ξ₂) + k₂ ⋅sinh (ξ₁)⎠   \n",
       "────────────────────────────────────────────────────\n",
       "                                                   2\n",
       "((k₁ - k₂)⋅cosh(ξ₁ + ξ₂) + (k₁ + k₂)⋅cosh(ξ₁ - ξ₂)) "
      ]
     },
     "metadata": {},
     "output_type": "display_data"
    },
    {
     "name": "stdout",
     "output_type": "stream",
     "text": [
      "\\frac{\\left(8 k_{1}^{2} - 8 k_{2}^{2}\\right) \\left(k_{1}^{2} \\cosh^{2}{\\left (\\xi_{2} \\right )} + k_{2}^{2} \\sinh^{2}{\\left (\\xi_{1} \\right )}\\right)}{\\left(\\left(k_{1} - k_{2}\\right) \\cosh{\\left (\\xi_{1} + \\xi_{2} \\right )} + \\left(k_{1} + k_{2}\\right) \\cosh{\\left (\\xi_{1} - \\xi_{2} \\right )}\\right)^{2}}\n"
     ]
    }
   ],
   "source": [
    "k1, k2 = symbols('k1, k2', real=True)\n",
    "xi1, xi2 = symbols('xi1, xi2', real=True)\n",
    "exact2 = 8*(k1**2 - k2**2)*(k1**2*cosh(xi2)**2 + k2**2*sinh(xi1)**2)/\\\n",
    "        ((k1 - k2)*cosh(xi1 + xi2) + (k1 + k2)*cosh(xi1 - xi2))**2\n",
    "display(exact2)\n",
    "print(latex(exact2))"
   ]
  },
  {
   "cell_type": "code",
   "execution_count": 7,
   "metadata": {
    "scrolled": true
   },
   "outputs": [],
   "source": [
    "exact2a = expand_trig(exact2).subs({xi1: k1*(x - 4*k1**2*t), xi2: k2*(x - 4*k2**2*t)})"
   ]
  },
  {
   "cell_type": "code",
   "execution_count": 8,
   "metadata": {},
   "outputs": [],
   "source": [
    "exact2b = exact2a.rewrite(tanh)"
   ]
  },
  {
   "cell_type": "code",
   "execution_count": 9,
   "metadata": {},
   "outputs": [
    {
     "data": {
      "image/png": "[encoded data removed]",
      "text/latex": [
       "$$0$$"
      ],
      "text/plain": [
       "0"
      ]
     },
     "execution_count": 9,
     "metadata": {},
     "output_type": "execute_result"
    }
   ],
   "source": [
    "eq.subs({u: exact2b}).doit().trigsimp()"
   ]
  },
  {
   "cell_type": "code",
   "execution_count": 10,
   "metadata": {},
   "outputs": [],
   "source": [
    "pda_f, pda_v = (u,), (t, x)\n",
    "pda_n, pda_clp = (5, 5), (3, 3)\n",
    "pda_p = Rational(1, 2), Rational(0, 1)"
   ]
  },
  {
   "cell_type": "code",
   "execution_count": 11,
   "metadata": {},
   "outputs": [],
   "source": [
    "Monom.variables = 1 + len(pda_v)\n",
    "Monom.zero = Monom(0 for v in range(Monom.variables))\n",
    "pda_fun = dict(zip(pda_f,\\\n",
    "             (Monom(0 if v else i for v in range(Monom.variables))\\\n",
    "              for i in range(1, Monom.variables))))\n",
    "pda_var = dict(zip(pda_v,\\\n",
    "             (Monom(0 if v != i else 1 for v in range(Monom.variables))\\\n",
    "              for i in range(1, Monom.variables))))"
   ]
  },
  {
   "cell_type": "code",
   "execution_count": 12,
   "metadata": {},
   "outputs": [],
   "source": [
    "def T(f, i1, j1):\n",
    "    return sum(sum(\\\n",
    "        diff(f, t, i, x, j)*(tau*(i1 - pda_p[0]))**i \\\n",
    "                             *(h*(j1 - pda_p[1]))**j/\\\n",
    "                 (factorial(i)*factorial(j))\\\n",
    "        for i in range(pda_n[0]))\\\n",
    "        for j in range(pda_n[1]))"
   ]
  },
  {
   "cell_type": "code",
   "execution_count": 13,
   "metadata": {},
   "outputs": [
    {
     "data": {
      "image/png": "[encoded data removed]",
      "text/latex": [
       "$$\\frac{\\tau^{2} \\frac{\\partial^{3}}{\\partial t^{3}} u{\\left (t,x \\right )}}{24} + \\frac{\\partial}{\\partial t} u{\\left (t,x \\right )}$$"
      ],
      "text/plain": [
       "     3                       \n",
       " 2  ∂                        \n",
       "τ ⋅───(u(t, x))              \n",
       "     3                       \n",
       "   ∂t             ∂          \n",
       "─────────────── + ──(u(t, x))\n",
       "       24         ∂t         "
      ]
     },
     "execution_count": 13,
     "metadata": {},
     "output_type": "execute_result"
    }
   ],
   "source": [
    "expand((T(u, 1, 0) - T(u, 0, 0))/(tau))"
   ]
  },
  {
   "cell_type": "code",
   "execution_count": 14,
   "metadata": {},
   "outputs": [],
   "source": [
    "def clip(f):\n",
    "    f = f.expand()\n",
    "    r = []\n",
    "    for i in range(pda_clp[0]):\n",
    "        for j in range(pda_clp[1]):\n",
    "            c = f.coeff(tau, i).coeff(h, j)\n",
    "            if c and (\\\n",
    "            (pda_clp[0]-1 != i or j == 0) and \\\n",
    "            (pda_clp[1]-1 != j or i == 0)):\n",
    "#             if c:\n",
    "                r.append(((i, j), c))\n",
    "    return r\n",
    "\n",
    "def df2m(a):\n",
    "    assert a.func == Derivative\n",
    "    m = pda_fun[a.args[0]]\n",
    "    for xi in a.args[1:]:\n",
    "        if isinstance(xi, Symbol):\n",
    "            m = m*pda_var[xi]\n",
    "        else:\n",
    "            m = m*pda_var[xi[0]]**xi[1]\n",
    "    return m\n",
    "\n",
    "def m2df(m):\n",
    "    r = pda_f[m[0]-1]\n",
    "    for i in range(1, len(m)):\n",
    "        r = r.diff(pda_v[i-1], m[i])\n",
    "    return r\n",
    "\n",
    "def findDiv(a, d):\n",
    "    r = None\n",
    "    def find(a, r):\n",
    "        if a.args:\n",
    "            if a.func == Derivative and a.args[0] in pda_fun:\n",
    "                m = df2m(a)\n",
    "                if m.divisible(d) and (not r or m.cmp(r) > 0):\n",
    "                    r = m\n",
    "            else:\n",
    "                for s in a.args:\n",
    "                    r = find(s, r)\n",
    "        return r\n",
    "    return find(a, r)\n",
    "\n",
    "def mult(a, s):\n",
    "    r = []\n",
    "    for mc in a:\n",
    "        m = mc[0][0] + s[0], mc[0][1] + s[1]\n",
    "        if m[0] < pda_clp[0] and m[1] < pda_clp[1] and\\\n",
    "           (pda_clp[0]-1 != m[0] or m[1] == 0) and \\\n",
    "           (pda_clp[1]-1 != m[1] or m[0] == 0):\n",
    "            r.append((m, mc[1]))\n",
    "    return r\n",
    "\n",
    "def add(a, b):\n",
    "    r, ia, ib = [], 0, 0\n",
    "    iaend, ibend = len(a), len(b)\n",
    "    while ia < iaend and ib < ibend:\n",
    "        ma, mb = a[ia][0], b[ib][0]\n",
    "        if ma[0] > mb[0]:\n",
    "            c = 1\n",
    "        elif ma[0] < mb[0]:\n",
    "            c = -1\n",
    "        elif ma[1] > mb[1]:\n",
    "            c = 1\n",
    "        elif ma[1] < mb[1]:\n",
    "            c = -1\n",
    "        else:\n",
    "            c = 0\n",
    "        \n",
    "        if c == -1:\n",
    "            r.append(a[ia])\n",
    "            ia += 1\n",
    "        elif c == 1:\n",
    "            r.append(b[ib])\n",
    "            ib += 1\n",
    "        else:\n",
    "            d = expand(a[ia][1] + b[ib][1])\n",
    "            if d:\n",
    "                r.append((ma, d))\n",
    "            ia += 1\n",
    "            ib += 1\n",
    "    while ia < iaend:\n",
    "        r.append(a[ia])\n",
    "        ia += 1\n",
    "    while ib < ibend:\n",
    "        r.append(b[ib])\n",
    "        ib += 1\n",
    "    return r\n",
    "\n",
    "def reduction(f1, f2, m, c, shift):\n",
    "#     print(m, c, shift)\n",
    "    f = mult(f2, shift)\n",
    "    if not m:\n",
    "        f = [(s, c*p) for s, p in f]\n",
    "    else:\n",
    "        f = [(s, c*p.diff(*m)) for s, p in f]\n",
    "    return add(f1, f)\n",
    "\n",
    "def NF(f, df, G, head=False):\n",
    "    assert len(df) == len(G)\n",
    "    ms = [df2m(d) for d in df]\n",
    "    i = 0 if head else 1\n",
    "    while i < len(f):\n",
    "        shift, p = f[i]\n",
    "        while True:\n",
    "            r = None\n",
    "            for l in range(len(ms)):\n",
    "                r = findDiv(p, ms[l])\n",
    "                if r:\n",
    "                    break\n",
    "            if not r: \n",
    "                break\n",
    "            m = m2df(r)\n",
    "#             print(\"find -\", m)\n",
    "            deg = p.as_poly(m).degree()\n",
    "            c = p.coeff(m, deg)\n",
    "            if deg > 1:\n",
    "                c = p.coeff(m, deg)*m**(deg - 1)\n",
    "            m = r/ms[l]\n",
    "            d = []\n",
    "            for k in range(len(pda_v)):\n",
    "                if m[k+1] > 0:\n",
    "                    d.append(pda_v[k])\n",
    "                    if m[k+1] > 1:\n",
    "                        d.append(m[k+1])\n",
    "#             print(\">\"*6, tuple(d), -c/G[l][0][1].coeff(df[l]), shift)\n",
    "#             prn(f)\n",
    "            f = reduction(f, G[l], tuple(d), -c/G[l][0][1].coeff(df[l]), shift)\n",
    "            if i == len(f):\n",
    "                break\n",
    "            shift, p = f[i]\n",
    "#             print(\"<\"*6)\n",
    "#             prn(f)\n",
    "        i += 1\n",
    "    return f\n",
    "\n",
    "def compact(f):\n",
    "    def cmpct(a):\n",
    "        if not a.args:\n",
    "            return a\n",
    "        else:\n",
    "            if a in pda_f:\n",
    "                return Symbol(\"%s\" % a.func, real=True)\n",
    "            elif a.func == Derivative:\n",
    "                m = []\n",
    "                for xi in a.args[1:]:\n",
    "                    if isinstance(xi, Symbol):\n",
    "                        m.append(str(xi))\n",
    "                    else:\n",
    "                        m.append(str(xi[0])*xi[1])\n",
    "                return Symbol(\"%s_{%s}\" % (a.args[0].func, \"\".join(m)), real=True)\n",
    "            else:\n",
    "                return a.func(*tuple(cmpct(s) for s in a.args))\n",
    "    return cmpct(f)\n",
    "\n",
    "def prn(a, p=None):\n",
    "    for m, c in a:\n",
    "        s = \"\"\n",
    "        if m[0]:\n",
    "            if m[0] == 1:\n",
    "                s += \"tau\"\n",
    "            else:\n",
    "                s += \"tau^%d\" % m[0]\n",
    "        if m[1]:\n",
    "            if m[0]:\n",
    "                s += \" \"\n",
    "            if m[1] == 1:\n",
    "                s += \"h\"\n",
    "            else:\n",
    "                s += \"h^%d\" % m[1]\n",
    "        if s:\n",
    "            print(\"%s =>\" % s)\n",
    "        if p:\n",
    "            display(compact(c).collect(p, factor))\n",
    "        else:\n",
    "            display(compact(c))\n",
    "\n",
    "def prnlatex(a, p=None):\n",
    "    first = True\n",
    "    for m, c in a:\n",
    "        s = \"\"\n",
    "        if m[0]:\n",
    "            if m[0] == 1:\n",
    "                s += r\"\\tau\"\n",
    "            else:\n",
    "                s += r\"\\tau^%d\" % m[0]\n",
    "        if m[1]:\n",
    "            if m[0]:\n",
    "                s += \" \"\n",
    "            if m[1] == 1:\n",
    "                s += \"h\"\n",
    "            else:\n",
    "                s += r\"h^%d\" % m[1]\n",
    "        if s:\n",
    "            if first:\n",
    "                first = False\n",
    "                print(r\"%s\\left(\" % s)\n",
    "            else:\n",
    "                print(r\" + %s\\left(\" % s)\n",
    "        if p:\n",
    "            print(latex(compact(c).collect(p, factor)))\n",
    "        else:\n",
    "            print(latex(compact(c)))\n",
    "        if first:\n",
    "            first = False\n",
    "        else:\n",
    "            print(r\"\\right)\") "
   ]
  },
  {
   "cell_type": "markdown",
   "metadata": {},
   "source": [
    "В результате получим следующую разностную схему для уравнения~(1.18), \n",
    "аналогичную схеме Кранка--Николсона для уравнения теплопроводности\n",
    "\\begin{multline*}\n",
    "\\frac{{u}_{j}^{n+1} -{u}_{j}^{n} }{\\tau }\n",
    " +3\\frac{\\left({u^2}_{j+1}^{n+1} - {u^2}_{j-1}^{n+1}\\right) +\n",
    "              \\left({u^2}_{j+1}^{n} - {u^2}_{j-1}^{n}\\right)}{4h} + \\\\\n",
    " +\\frac{\\left({u}_{j+2}^{n+1} -2{u}_{j+1}^{n+1} +2{u}_{j-1}^{n+1} -{u}_{j-2}^{n+1}\\right) +\n",
    "             \\left({u}_{j+2}^{n} -2{u}_{j}^{n+1} +2{u}_{j-1}^{n} -{u}_{j-2}^{n}\\right)}{4h^{3}}=0.\n",
    "\\end{multline*}"
   ]
  },
  {
   "cell_type": "code",
   "execution_count": 15,
   "metadata": {},
   "outputs": [],
   "source": [
    "def Dt(a):\n",
    "    return (T(a, 1, 0) - T(a, 0, 0))/(tau)\n",
    "def Dx(a):\n",
    "    return ((T(a, 1, 1) - T(a, 1, -1))/(2*h) +\\\n",
    "            (T(a, 0, 1) - T(a, 0, -1))/(2*h))/2\n",
    "def Dxxx(a):\n",
    "    return ((T(a, 1, 2) - 2*T(a, 1, 1) + 2*T(a, 1, -1) - T(a, 1, -2))/(2*h**3) +\\\n",
    "            (T(a, 0, 2) - 2*T(a, 0, 1) + 2*T(a, 0, -1) - T(a, 0, -2))/(2*h**3))/2"
   ]
  },
  {
   "cell_type": "code",
   "execution_count": 16,
   "metadata": {},
   "outputs": [],
   "source": [
    "Monom.cmp = Monom.TOPdeglex\n",
    "pda_n, pda_clp = (6, 6), (3, 3)\n",
    "pda_p = Rational(1, 2), Rational(0, 1)"
   ]
  },
  {
   "cell_type": "code",
   "execution_count": 17,
   "metadata": {},
   "outputs": [
    {
     "data": {
      "image/png": "[encoded data removed]",
      "text/latex": [
       "$$6 u u_{x} + u_{t} + u_{xxx}$$"
      ],
      "text/plain": [
       "6⋅u⋅u_{x} + u_{t} + u_{xxx}"
      ]
     },
     "metadata": {},
     "output_type": "display_data"
    },
    {
     "name": "stdout",
     "output_type": "stream",
     "text": [
      "h^2 =>\n"
     ]
    },
    {
     "data": {
      "image/png": "[encoded data removed]",
      "text/latex": [
       "$$u u_{xxx} + \\frac{u_{xxxxx}}{4} + 3 u_{xx} u_{x}$$"
      ],
      "text/plain": [
       "            u_{xxxxx}                 \n",
       "u⋅u_{xxx} + ───────── + 3⋅u_{xx}⋅u_{x}\n",
       "                4                     "
      ]
     },
     "metadata": {},
     "output_type": "display_data"
    },
    {
     "name": "stdout",
     "output_type": "stream",
     "text": [
      "tau^2 =>\n"
     ]
    },
    {
     "data": {
      "image/png": "[encoded data removed]",
      "text/latex": [
       "$$\\frac{3 u u_{ttx}}{4} + \\frac{u_{ttt}}{24} + \\frac{u_{ttxxx}}{8} + \\frac{3 u_{tt} u_{x}}{4} + \\frac{3 u_{tx} u_{t}}{2}$$"
      ],
      "text/plain": [
       "3⋅u⋅u_{ttx}   u_{ttt}   u_{ttxxx}   3⋅u_{tt}⋅u_{x}   3⋅u_{tx}⋅u_{t}\n",
       "─────────── + ─────── + ───────── + ────────────── + ──────────────\n",
       "     4           24         8             4                2       "
      ]
     },
     "metadata": {},
     "output_type": "display_data"
    },
    {
     "name": "stdout",
     "output_type": "stream",
     "text": [
      "6 u u_{x} + u_{t} + u_{xxx}\n",
      " + h^2\\left(\n",
      "u u_{xxx} + \\frac{u_{xxxxx}}{4} + 3 u_{xx} u_{x}\n",
      "\\right)\n",
      " + \\tau^2\\left(\n",
      "\\frac{3 u u_{ttx}}{4} + \\frac{u_{ttt}}{24} + \\frac{u_{ttxxx}}{8} + \\frac{3 u_{tt} u_{x}}{4} + \\frac{3 u_{tx} u_{t}}{2}\n",
      "\\right)\n"
     ]
    }
   ],
   "source": [
    "F = clip(Dt(u) + 3*Dx(u**2) + Dxxx(u))\n",
    "prn(F)\n",
    "prnlatex(F)"
   ]
  },
  {
   "cell_type": "code",
   "execution_count": 18,
   "metadata": {},
   "outputs": [
    {
     "data": {
      "image/png": "[encoded data removed]",
      "text/latex": [
       "$$6 u u_{x} + u_{t} + u_{xxx}$$"
      ],
      "text/plain": [
       "6⋅u⋅u_{x} + u_{t} + u_{xxx}"
      ]
     },
     "metadata": {},
     "output_type": "display_data"
    },
    {
     "name": "stdout",
     "output_type": "stream",
     "text": [
      "h^2 =>\n"
     ]
    },
    {
     "data": {
      "image/png": "[encoded data removed]",
      "text/latex": [
       "$$3 u^{2} u_{x} + \\frac{u u_{t}}{2} - \\frac{u_{txx}}{4} - \\frac{3 u_{xx} u_{x}}{2}$$"
      ],
      "text/plain": [
       "   2         u⋅u_{t}   u_{txx}   3⋅u_{xx}⋅u_{x}\n",
       "3⋅u ⋅u_{x} + ─────── - ─────── - ──────────────\n",
       "                2         4            2       "
      ]
     },
     "metadata": {},
     "output_type": "display_data"
    },
    {
     "name": "stdout",
     "output_type": "stream",
     "text": [
      "tau^2 =>\n"
     ]
    },
    {
     "data": {
      "image/png": "[encoded data removed]",
      "text/latex": [
       "$$- \\frac{u_{ttt}}{12}$$"
      ],
      "text/plain": [
       "-u_{ttt} \n",
       "─────────\n",
       "    12   "
      ]
     },
     "metadata": {},
     "output_type": "display_data"
    },
    {
     "name": "stdout",
     "output_type": "stream",
     "text": [
      "6 u u_{x} + u_{t} + u_{xxx}\n",
      " + h^2\\left(\n",
      "3 u^{2} u_{x} + \\frac{u u_{t}}{2} - \\frac{u_{txx}}{4} - \\frac{3 u_{xx} u_{x}}{2}\n",
      "\\right)\n",
      " + \\tau^2\\left(\n",
      "- \\frac{u_{ttt}}{12}\n",
      "\\right)\n",
      "None\n"
     ]
    }
   ],
   "source": [
    "Ffda = NF(F, [u.diff(x, 3)], [F], head=False)\n",
    "prn(Ffda)\n",
    "print(prnlatex(Ffda))"
   ]
  },
  {
   "cell_type": "code",
   "execution_count": 19,
   "metadata": {},
   "outputs": [],
   "source": [
    "pda_p = Rational(0, 2), Rational(1, 1)"
   ]
  },
  {
   "cell_type": "code",
   "execution_count": 20,
   "metadata": {},
   "outputs": [
    {
     "data": {
      "image/png": "[encoded data removed]",
      "text/latex": [
       "$$6 u u_{x} + u_{t} + u_{xxx}$$"
      ],
      "text/plain": [
       "6⋅u⋅u_{x} + u_{t} + u_{xxx}"
      ]
     },
     "metadata": {},
     "output_type": "display_data"
    },
    {
     "name": "stdout",
     "output_type": "stream",
     "text": [
      "h =>\n"
     ]
    },
    {
     "data": {
      "image/png": "[encoded data removed]",
      "text/latex": [
       "$$- 6 u u_{xx} - u_{tx} - u_{xxxx} - 6 u_{x}^{2}$$"
      ],
      "text/plain": [
       "                                         2\n",
       "-6⋅u⋅u_{xx} - u_{tx} - u_{xxxx} - 6⋅u_{x} "
      ]
     },
     "metadata": {},
     "output_type": "display_data"
    },
    {
     "name": "stdout",
     "output_type": "stream",
     "text": [
      "h^2 =>\n"
     ]
    },
    {
     "data": {
      "image/png": "[encoded data removed]",
      "text/latex": [
       "$$4 u u_{xxx} + \\frac{u_{txx}}{2} + \\frac{3 u_{xxxxx}}{4} + 12 u_{xx} u_{x}$$"
      ],
      "text/plain": [
       "              u_{txx}   3⋅u_{xxxxx}                  \n",
       "4⋅u⋅u_{xxx} + ─────── + ─────────── + 12⋅u_{xx}⋅u_{x}\n",
       "                 2           4                       "
      ]
     },
     "metadata": {},
     "output_type": "display_data"
    },
    {
     "name": "stdout",
     "output_type": "stream",
     "text": [
      "tau =>\n"
     ]
    },
    {
     "data": {
      "image/png": "[encoded data removed]",
      "text/latex": [
       "$$3 u u_{tx} + \\frac{u_{tt}}{2} + \\frac{u_{txxx}}{2} + 3 u_{t} u_{x}$$"
      ],
      "text/plain": [
       "             u_{tt}   u_{txxx}                \n",
       "3⋅u⋅u_{tx} + ────── + ──────── + 3⋅u_{t}⋅u_{x}\n",
       "               2         2                    "
      ]
     },
     "metadata": {},
     "output_type": "display_data"
    },
    {
     "name": "stdout",
     "output_type": "stream",
     "text": [
      "tau h =>\n"
     ]
    },
    {
     "data": {
      "image/png": "[encoded data removed]",
      "text/latex": [
       "$$- 3 u u_{txx} - \\frac{u_{ttx}}{2} - \\frac{u_{txxxx}}{2} - 6 u_{tx} u_{x} - 3 u_{t} u_{xx}$$"
      ],
      "text/plain": [
       "               u_{ttx}   u_{txxxx}                                  \n",
       "-3⋅u⋅u_{txx} - ─────── - ───────── - 6⋅u_{tx}⋅u_{x} - 3⋅u_{t}⋅u_{xx}\n",
       "                  2          2                                      "
      ]
     },
     "metadata": {},
     "output_type": "display_data"
    },
    {
     "name": "stdout",
     "output_type": "stream",
     "text": [
      "tau^2 =>\n"
     ]
    },
    {
     "data": {
      "image/png": "[encoded data removed]",
      "text/latex": [
       "$$\\frac{3 u u_{ttx}}{2} + \\frac{u_{ttt}}{6} + \\frac{u_{ttxxx}}{4} + \\frac{3 u_{tt} u_{x}}{2} + 3 u_{tx} u_{t}$$"
      ],
      "text/plain": [
       "3⋅u⋅u_{ttx}   u_{ttt}   u_{ttxxx}   3⋅u_{tt}⋅u_{x}                 \n",
       "─────────── + ─────── + ───────── + ────────────── + 3⋅u_{tx}⋅u_{t}\n",
       "     2           6          4             2                        "
      ]
     },
     "metadata": {},
     "output_type": "display_data"
    },
    {
     "name": "stdout",
     "output_type": "stream",
     "text": [
      "6 u u_{x} + u_{t} + u_{xxx}\n",
      " + h\\left(\n",
      "- 6 u u_{xx} - u_{tx} - u_{xxxx} - 6 u_{x}^{2}\n",
      "\\right)\n",
      " + h^2\\left(\n",
      "4 u u_{xxx} + \\frac{u_{txx}}{2} + \\frac{3 u_{xxxxx}}{4} + 12 u_{xx} u_{x}\n",
      "\\right)\n",
      " + \\tau\\left(\n",
      "3 u u_{tx} + \\frac{u_{tt}}{2} + \\frac{u_{txxx}}{2} + 3 u_{t} u_{x}\n",
      "\\right)\n",
      " + \\tau h\\left(\n",
      "- 3 u u_{txx} - \\frac{u_{ttx}}{2} - \\frac{u_{txxxx}}{2} - 6 u_{tx} u_{x} - 3 u_{t} u_{xx}\n",
      "\\right)\n",
      " + \\tau^2\\left(\n",
      "\\frac{3 u u_{ttx}}{2} + \\frac{u_{ttt}}{6} + \\frac{u_{ttxxx}}{4} + \\frac{3 u_{tt} u_{x}}{2} + 3 u_{tx} u_{t}\n",
      "\\right)\n"
     ]
    }
   ],
   "source": [
    "F = clip(Dt(u) + 3*Dx(u**2) + Dxxx(u))\n",
    "prn(F)\n",
    "prnlatex(F)"
   ]
  },
  {
   "cell_type": "code",
   "execution_count": 21,
   "metadata": {},
   "outputs": [
    {
     "data": {
      "image/png": "[encoded data removed]",
      "text/latex": [
       "$$6 u u_{x} + u_{t} + u_{xxx}$$"
      ],
      "text/plain": [
       "6⋅u⋅u_{x} + u_{t} + u_{xxx}"
      ]
     },
     "metadata": {},
     "output_type": "display_data"
    },
    {
     "name": "stdout",
     "output_type": "stream",
     "text": [
      "h^2 =>\n"
     ]
    },
    {
     "data": {
      "image/png": "[encoded data removed]",
      "text/latex": [
       "$$3 u^{2} u_{x} + \\frac{u u_{t}}{2} - \\frac{u_{txx}}{4} - \\frac{3 u_{xx} u_{x}}{2}$$"
      ],
      "text/plain": [
       "   2         u⋅u_{t}   u_{txx}   3⋅u_{xx}⋅u_{x}\n",
       "3⋅u ⋅u_{x} + ─────── - ─────── - ──────────────\n",
       "                2         4            2       "
      ]
     },
     "metadata": {},
     "output_type": "display_data"
    },
    {
     "name": "stdout",
     "output_type": "stream",
     "text": [
      "tau^2 =>\n"
     ]
    },
    {
     "data": {
      "image/png": "[encoded data removed]",
      "text/latex": [
       "$$- \\frac{u_{ttt}}{12}$$"
      ],
      "text/plain": [
       "-u_{ttt} \n",
       "─────────\n",
       "    12   "
      ]
     },
     "metadata": {},
     "output_type": "display_data"
    },
    {
     "name": "stdout",
     "output_type": "stream",
     "text": [
      "6 u u_{x} + u_{t} + u_{xxx}\n",
      " + h^2\\left(\n",
      "3 u^{2} u_{x} + \\frac{u u_{t}}{2} - \\frac{u_{txx}}{4} - \\frac{3 u_{xx} u_{x}}{2}\n",
      "\\right)\n",
      " + \\tau^2\\left(\n",
      "- \\frac{u_{ttt}}{12}\n",
      "\\right)\n",
      "None\n"
     ]
    }
   ],
   "source": [
    "Ffda = NF(F, [u.diff(x, 3)], [F], head=False)\n",
    "prn(Ffda)\n",
    "print(prnlatex(Ffda))"
   ]
  },
  {
   "cell_type": "code",
   "execution_count": 22,
   "metadata": {},
   "outputs": [
    {
     "name": "stdout",
     "output_type": "stream",
     "text": [
      "3*u**2*u_{x} + u*u_{t}/2 - u_{txx}/4 - 3*u_{xx}*u_{x}/2\n"
     ]
    }
   ],
   "source": [
    "print(compact(Ffda[1][1]))"
   ]
  },
  {
   "cell_type": "code",
   "execution_count": 23,
   "metadata": {},
   "outputs": [
    {
     "name": "stdout",
     "output_type": "stream",
     "text": [
      "-u_{ttt}/12\n"
     ]
    }
   ],
   "source": [
    "print(compact(Ffda[2][1]))"
   ]
  },
  {
   "cell_type": "code",
   "execution_count": 24,
   "metadata": {},
   "outputs": [
    {
     "data": {
      "image/png": "[encoded data removed]",
      "text/latex": [
       "$$- \\frac{8 k^{7} \\left(- 6 \\sinh^{2}{\\left (4 k^{3} t - k x \\right )} \\cosh^{2}{\\left (4 k^{3} t - k x \\right )} + 9 \\sinh^{2}{\\left (4 k^{3} t - k x \\right )} + 4 \\cosh^{4}{\\left (4 k^{3} t - k x \\right )} - \\cosh^{2}{\\left (4 k^{3} t - k x \\right )} - 6\\right) \\sinh{\\left (4 k^{3} t - k x \\right )}}{\\cosh^{7}{\\left (4 k^{3} t - k x \\right )}}$$"
      ],
      "text/plain": [
       "    7 ⎛        2⎛   3        ⎞     2⎛   3        ⎞         2⎛   3        ⎞    \n",
       "-8⋅k ⋅⎝- 6⋅sinh ⎝4⋅k ⋅t - k⋅x⎠⋅cosh ⎝4⋅k ⋅t - k⋅x⎠ + 9⋅sinh ⎝4⋅k ⋅t - k⋅x⎠ + 4\n",
       "──────────────────────────────────────────────────────────────────────────────\n",
       "                                                                   7⎛   3     \n",
       "                                                               cosh ⎝4⋅k ⋅t - \n",
       "\n",
       "     4⎛   3        ⎞       2⎛   3        ⎞    ⎞     ⎛   3        ⎞ \n",
       "⋅cosh ⎝4⋅k ⋅t - k⋅x⎠ - cosh ⎝4⋅k ⋅t - k⋅x⎠ - 6⎠⋅sinh⎝4⋅k ⋅t - k⋅x⎠ \n",
       "───────────────────────────────────────────────────────────────────\n",
       "   ⎞                                                               \n",
       "k⋅x⎠                                                               "
      ]
     },
     "execution_count": 24,
     "metadata": {},
     "output_type": "execute_result"
    }
   ],
   "source": [
    "Ffda[1][1].subs({u: exact1}).doit().trigsimp().combsimp()"
   ]
  },
  {
   "cell_type": "code",
   "execution_count": 25,
   "metadata": {},
   "outputs": [
    {
     "data": {
      "image/png": "[encoded data removed]",
      "text/latex": [
       "$$- \\frac{256 k^{11} \\left(- 3 \\sinh^{2}{\\left (4 k^{3} t - k x \\right )} + 2 \\cosh^{2}{\\left (4 k^{3} t - k x \\right )}\\right) \\sinh{\\left (4 k^{3} t - k x \\right )}}{3 \\cosh^{5}{\\left (4 k^{3} t - k x \\right )}}$$"
      ],
      "text/plain": [
       "      11 ⎛        2⎛   3        ⎞         2⎛   3        ⎞⎞     ⎛   3        ⎞ \n",
       "-256⋅k  ⋅⎝- 3⋅sinh ⎝4⋅k ⋅t - k⋅x⎠ + 2⋅cosh ⎝4⋅k ⋅t - k⋅x⎠⎠⋅sinh⎝4⋅k ⋅t - k⋅x⎠ \n",
       "──────────────────────────────────────────────────────────────────────────────\n",
       "                                  5⎛   3        ⎞                             \n",
       "                            3⋅cosh ⎝4⋅k ⋅t - k⋅x⎠                             "
      ]
     },
     "execution_count": 25,
     "metadata": {},
     "output_type": "execute_result"
    }
   ],
   "source": [
    "Ffda[2][1].subs({u: exact1}).doit().trigsimp().combsimp()"
   ]
  },
  {
   "cell_type": "code",
   "execution_count": 26,
   "metadata": {},
   "outputs": [
    {
     "name": "stdout",
     "output_type": "stream",
     "text": [
      "- \\frac{8 k^{7} \\left(- 6 \\sinh^{2}{\\left (4 k^{3} t - k x \\right )} \\cosh^{2}{\\left (4 k^{3} t - k x \\right )} + 9 \\sinh^{2}{\\left (4 k^{3} t - k x \\right )} + 4 \\cosh^{4}{\\left (4 k^{3} t - k x \\right )} - \\cosh^{2}{\\left (4 k^{3} t - k x \\right )} - 6\\right) \\sinh{\\left (4 k^{3} t - k x \\right )}}{\\cosh^{7}{\\left (4 k^{3} t - k x \\right )}}\n"
     ]
    }
   ],
   "source": [
    "print(latex(Ffda[1][1].subs({u: exact1}).doit().combsimp()))"
   ]
  },
  {
   "cell_type": "code",
   "execution_count": 27,
   "metadata": {},
   "outputs": [
    {
     "name": "stdout",
     "output_type": "stream",
     "text": [
      "- \\frac{256 k^{11} \\left(- 3 \\sinh^{2}{\\left (4 k^{3} t - k x \\right )} + 2 \\cosh^{2}{\\left (4 k^{3} t - k x \\right )}\\right) \\sinh{\\left (4 k^{3} t - k x \\right )}}{3 \\cosh^{5}{\\left (4 k^{3} t - k x \\right )}}\n"
     ]
    }
   ],
   "source": [
    "print(latex(Ffda[2][1].subs({u: exact1}).doit().combsimp()))"
   ]
  },
  {
   "cell_type": "code",
   "execution_count": 28,
   "metadata": {},
   "outputs": [],
   "source": [
    "Monom.cmp = Monom.TOPlex\n",
    "pda_p = Rational(1, 2), Rational(0, 1)"
   ]
  },
  {
   "cell_type": "code",
   "execution_count": 29,
   "metadata": {},
   "outputs": [
    {
     "data": {
      "image/png": "[encoded data removed]",
      "text/latex": [
       "$$6 u u_{x} + u_{t} + u_{xxx}$$"
      ],
      "text/plain": [
       "6⋅u⋅u_{x} + u_{t} + u_{xxx}"
      ]
     },
     "metadata": {},
     "output_type": "display_data"
    },
    {
     "name": "stdout",
     "output_type": "stream",
     "text": [
      "h^2 =>\n"
     ]
    },
    {
     "data": {
      "image/png": "[encoded data removed]",
      "text/latex": [
       "$$u u_{xxx} + \\frac{u_{xxxxx}}{4} + 3 u_{xx} u_{x}$$"
      ],
      "text/plain": [
       "            u_{xxxxx}                 \n",
       "u⋅u_{xxx} + ───────── + 3⋅u_{xx}⋅u_{x}\n",
       "                4                     "
      ]
     },
     "metadata": {},
     "output_type": "display_data"
    },
    {
     "name": "stdout",
     "output_type": "stream",
     "text": [
      "tau^2 =>\n"
     ]
    },
    {
     "data": {
      "image/png": "[encoded data removed]",
      "text/latex": [
       "$$\\frac{3 u u_{ttx}}{4} + \\frac{u_{ttt}}{24} + \\frac{u_{ttxxx}}{8} + \\frac{3 u_{tt} u_{x}}{4} + \\frac{3 u_{tx} u_{t}}{2}$$"
      ],
      "text/plain": [
       "3⋅u⋅u_{ttx}   u_{ttt}   u_{ttxxx}   3⋅u_{tt}⋅u_{x}   3⋅u_{tx}⋅u_{t}\n",
       "─────────── + ─────── + ───────── + ────────────── + ──────────────\n",
       "     4           24         8             4                2       "
      ]
     },
     "metadata": {},
     "output_type": "display_data"
    },
    {
     "name": "stdout",
     "output_type": "stream",
     "text": [
      "6 u u_{x} + u_{t} + u_{xxx}\n",
      " + h^2\\left(\n",
      "u u_{xxx} + \\frac{u_{xxxxx}}{4} + 3 u_{xx} u_{x}\n",
      "\\right)\n",
      " + \\tau^2\\left(\n",
      "\\frac{3 u u_{ttx}}{4} + \\frac{u_{ttt}}{24} + \\frac{u_{ttxxx}}{8} + \\frac{3 u_{tt} u_{x}}{4} + \\frac{3 u_{tx} u_{t}}{2}\n",
      "\\right)\n"
     ]
    }
   ],
   "source": [
    "F = clip(Dt(u) + 3*Dx(u**2) + Dxxx(u))\n",
    "prn(F)\n",
    "prnlatex(F)"
   ]
  },
  {
   "cell_type": "code",
   "execution_count": 30,
   "metadata": {},
   "outputs": [
    {
     "data": {
      "image/png": "[encoded data removed]",
      "text/latex": [
       "$$6 u u_{x} + u_{t} + u_{xxx}$$"
      ],
      "text/plain": [
       "6⋅u⋅u_{x} + u_{t} + u_{xxx}"
      ]
     },
     "metadata": {},
     "output_type": "display_data"
    },
    {
     "name": "stdout",
     "output_type": "stream",
     "text": [
      "h^2 =>\n"
     ]
    },
    {
     "data": {
      "image/png": "[encoded data removed]",
      "text/latex": [
       "$$u u_{xxx} + \\frac{u_{xxxxx}}{4} + 3 u_{xx} u_{x}$$"
      ],
      "text/plain": [
       "            u_{xxxxx}                 \n",
       "u⋅u_{xxx} + ───────── + 3⋅u_{xx}⋅u_{x}\n",
       "                4                     "
      ]
     },
     "metadata": {},
     "output_type": "display_data"
    },
    {
     "name": "stdout",
     "output_type": "stream",
     "text": [
      "tau^2 =>\n"
     ]
    },
    {
     "data": {
      "image/png": "[encoded data removed]",
      "text/latex": [
       "$$18 u^{3} u_{xxx} + 9 u^{2} u_{xxxxx} + 162 u^{2} u_{xx} u_{x} + \\frac{3 u u_{xxxxxxx}}{2} + 63 u u_{xxxx} u_{x} + 99 u u_{xxx} u_{xx} + 108 u u_{x}^{3} + \\frac{u_{xxxxxxxxx}}{12} + 6 u_{xxxxxx} u_{x} + \\frac{27 u_{xxxxx} u_{xx}}{2} + 21 u_{xxxx} u_{xxx} + 81 u_{xxx} u_{x}^{2} + 99 u_{xx}^{2} u_{x}$$"
      ],
      "text/plain": [
       "    3              2                  2                3⋅u⋅u_{xxxxxxx}        \n",
       "18⋅u ⋅u_{xxx} + 9⋅u ⋅u_{xxxxx} + 162⋅u ⋅u_{xx}⋅u_{x} + ─────────────── + 63⋅u⋅\n",
       "                                                              2               \n",
       "\n",
       "                                                  3   u_{xxxxxxxxx}           \n",
       "u_{xxxx}⋅u_{x} + 99⋅u⋅u_{xxx}⋅u_{xx} + 108⋅u⋅u_{x}  + ───────────── + 6⋅u_{xxx\n",
       "                                                            12                \n",
       "\n",
       "             27⋅u_{xxxxx}⋅u_{xx}                                         2    \n",
       "xxx}⋅u_{x} + ─────────────────── + 21⋅u_{xxxx}⋅u_{xxx} + 81⋅u_{xxx}⋅u_{x}  + 9\n",
       "                      2                                                       \n",
       "\n",
       "        2      \n",
       "9⋅u_{xx} ⋅u_{x}\n",
       "               "
      ]
     },
     "metadata": {},
     "output_type": "display_data"
    },
    {
     "name": "stdout",
     "output_type": "stream",
     "text": [
      "6 u u_{x} + u_{t} + u_{xxx}\n",
      " + h^2\\left(\n",
      "u u_{xxx} + \\frac{u_{xxxxx}}{4} + 3 u_{xx} u_{x}\n",
      "\\right)\n",
      " + \\tau^2\\left(\n",
      "18 u^{3} u_{xxx} + 9 u^{2} u_{xxxxx} + 162 u^{2} u_{xx} u_{x} + \\frac{3 u u_{xxxxxxx}}{2} + 63 u u_{xxxx} u_{x} + 99 u u_{xxx} u_{xx} + 108 u u_{x}^{3} + \\frac{u_{xxxxxxxxx}}{12} + 6 u_{xxxxxx} u_{x} + \\frac{27 u_{xxxxx} u_{xx}}{2} + 21 u_{xxxx} u_{xxx} + 81 u_{xxx} u_{x}^{2} + 99 u_{xx}^{2} u_{x}\n",
      "\\right)\n",
      "None\n"
     ]
    }
   ],
   "source": [
    "Ffda = NF(F, [u.diff(t)], [F], head=False)\n",
    "prn(Ffda)\n",
    "print(prnlatex(Ffda))"
   ]
  },
  {
   "cell_type": "code",
   "execution_count": 31,
   "metadata": {},
   "outputs": [],
   "source": [
    "pda_p = Rational(2, 2), Rational(-1, 1)"
   ]
  },
  {
   "cell_type": "code",
   "execution_count": 32,
   "metadata": {},
   "outputs": [
    {
     "data": {
      "image/png": "[encoded data removed]",
      "text/latex": [
       "$$6 u u_{x} + u_{t} + u_{xxx}$$"
      ],
      "text/plain": [
       "6⋅u⋅u_{x} + u_{t} + u_{xxx}"
      ]
     },
     "metadata": {},
     "output_type": "display_data"
    },
    {
     "name": "stdout",
     "output_type": "stream",
     "text": [
      "h =>\n"
     ]
    },
    {
     "data": {
      "image/png": "[encoded data removed]",
      "text/latex": [
       "$$6 u u_{xx} + u_{tx} + u_{xxxx} + 6 u_{x}^{2}$$"
      ],
      "text/plain": [
       "                                        2\n",
       "6⋅u⋅u_{xx} + u_{tx} + u_{xxxx} + 6⋅u_{x} "
      ]
     },
     "metadata": {},
     "output_type": "display_data"
    },
    {
     "name": "stdout",
     "output_type": "stream",
     "text": [
      "h^2 =>\n"
     ]
    },
    {
     "data": {
      "image/png": "[encoded data removed]",
      "text/latex": [
       "$$4 u u_{xxx} + \\frac{u_{txx}}{2} + \\frac{3 u_{xxxxx}}{4} + 12 u_{xx} u_{x}$$"
      ],
      "text/plain": [
       "              u_{txx}   3⋅u_{xxxxx}                  \n",
       "4⋅u⋅u_{xxx} + ─────── + ─────────── + 12⋅u_{xx}⋅u_{x}\n",
       "                 2           4                       "
      ]
     },
     "metadata": {},
     "output_type": "display_data"
    },
    {
     "name": "stdout",
     "output_type": "stream",
     "text": [
      "tau =>\n"
     ]
    },
    {
     "data": {
      "image/png": "[encoded data removed]",
      "text/latex": [
       "$$- 3 u u_{tx} - \\frac{u_{tt}}{2} - \\frac{u_{txxx}}{2} - 3 u_{t} u_{x}$$"
      ],
      "text/plain": [
       "              u_{tt}   u_{txxx}                \n",
       "-3⋅u⋅u_{tx} - ────── - ──────── - 3⋅u_{t}⋅u_{x}\n",
       "                2         2                    "
      ]
     },
     "metadata": {},
     "output_type": "display_data"
    },
    {
     "name": "stdout",
     "output_type": "stream",
     "text": [
      "tau h =>\n"
     ]
    },
    {
     "data": {
      "image/png": "[encoded data removed]",
      "text/latex": [
       "$$- 3 u u_{txx} - \\frac{u_{ttx}}{2} - \\frac{u_{txxxx}}{2} - 6 u_{tx} u_{x} - 3 u_{t} u_{xx}$$"
      ],
      "text/plain": [
       "               u_{ttx}   u_{txxxx}                                  \n",
       "-3⋅u⋅u_{txx} - ─────── - ───────── - 6⋅u_{tx}⋅u_{x} - 3⋅u_{t}⋅u_{xx}\n",
       "                  2          2                                      "
      ]
     },
     "metadata": {},
     "output_type": "display_data"
    },
    {
     "name": "stdout",
     "output_type": "stream",
     "text": [
      "tau^2 =>\n"
     ]
    },
    {
     "data": {
      "image/png": "[encoded data removed]",
      "text/latex": [
       "$$\\frac{3 u u_{ttx}}{2} + \\frac{u_{ttt}}{6} + \\frac{u_{ttxxx}}{4} + \\frac{3 u_{tt} u_{x}}{2} + 3 u_{tx} u_{t}$$"
      ],
      "text/plain": [
       "3⋅u⋅u_{ttx}   u_{ttt}   u_{ttxxx}   3⋅u_{tt}⋅u_{x}                 \n",
       "─────────── + ─────── + ───────── + ────────────── + 3⋅u_{tx}⋅u_{t}\n",
       "     2           6          4             2                        "
      ]
     },
     "metadata": {},
     "output_type": "display_data"
    },
    {
     "name": "stdout",
     "output_type": "stream",
     "text": [
      "6 u u_{x} + u_{t} + u_{xxx}\n",
      " + h\\left(\n",
      "6 u u_{xx} + u_{tx} + u_{xxxx} + 6 u_{x}^{2}\n",
      "\\right)\n",
      " + h^2\\left(\n",
      "4 u u_{xxx} + \\frac{u_{txx}}{2} + \\frac{3 u_{xxxxx}}{4} + 12 u_{xx} u_{x}\n",
      "\\right)\n",
      " + \\tau\\left(\n",
      "- 3 u u_{tx} - \\frac{u_{tt}}{2} - \\frac{u_{txxx}}{2} - 3 u_{t} u_{x}\n",
      "\\right)\n",
      " + \\tau h\\left(\n",
      "- 3 u u_{txx} - \\frac{u_{ttx}}{2} - \\frac{u_{txxxx}}{2} - 6 u_{tx} u_{x} - 3 u_{t} u_{xx}\n",
      "\\right)\n",
      " + \\tau^2\\left(\n",
      "\\frac{3 u u_{ttx}}{2} + \\frac{u_{ttt}}{6} + \\frac{u_{ttxxx}}{4} + \\frac{3 u_{tt} u_{x}}{2} + 3 u_{tx} u_{t}\n",
      "\\right)\n"
     ]
    }
   ],
   "source": [
    "F = clip(Dt(u) + 3*Dx(u**2) + Dxxx(u))\n",
    "prn(F)\n",
    "prnlatex(F)"
   ]
  },
  {
   "cell_type": "code",
   "execution_count": 33,
   "metadata": {},
   "outputs": [
    {
     "data": {
      "image/png": "[encoded data removed]",
      "text/latex": [
       "$$6 u u_{x} + u_{t} + u_{xxx}$$"
      ],
      "text/plain": [
       "6⋅u⋅u_{x} + u_{t} + u_{xxx}"
      ]
     },
     "metadata": {},
     "output_type": "display_data"
    },
    {
     "name": "stdout",
     "output_type": "stream",
     "text": [
      "h^2 =>\n"
     ]
    },
    {
     "data": {
      "image/png": "[encoded data removed]",
      "text/latex": [
       "$$u u_{xxx} + \\frac{u_{xxxxx}}{4} + 3 u_{xx} u_{x}$$"
      ],
      "text/plain": [
       "            u_{xxxxx}                 \n",
       "u⋅u_{xxx} + ───────── + 3⋅u_{xx}⋅u_{x}\n",
       "                4                     "
      ]
     },
     "metadata": {},
     "output_type": "display_data"
    },
    {
     "name": "stdout",
     "output_type": "stream",
     "text": [
      "tau^2 =>\n"
     ]
    },
    {
     "data": {
      "image/png": "[encoded data removed]",
      "text/latex": [
       "$$18 u^{3} u_{xxx} + 9 u^{2} u_{xxxxx} + 162 u^{2} u_{xx} u_{x} + \\frac{3 u u_{xxxxxxx}}{2} + 63 u u_{xxxx} u_{x} + 99 u u_{xxx} u_{xx} + 108 u u_{x}^{3} + \\frac{u_{xxxxxxxxx}}{12} + 6 u_{xxxxxx} u_{x} + \\frac{27 u_{xxxxx} u_{xx}}{2} + 21 u_{xxxx} u_{xxx} + 81 u_{xxx} u_{x}^{2} + 99 u_{xx}^{2} u_{x}$$"
      ],
      "text/plain": [
       "    3              2                  2                3⋅u⋅u_{xxxxxxx}        \n",
       "18⋅u ⋅u_{xxx} + 9⋅u ⋅u_{xxxxx} + 162⋅u ⋅u_{xx}⋅u_{x} + ─────────────── + 63⋅u⋅\n",
       "                                                              2               \n",
       "\n",
       "                                                  3   u_{xxxxxxxxx}           \n",
       "u_{xxxx}⋅u_{x} + 99⋅u⋅u_{xxx}⋅u_{xx} + 108⋅u⋅u_{x}  + ───────────── + 6⋅u_{xxx\n",
       "                                                            12                \n",
       "\n",
       "             27⋅u_{xxxxx}⋅u_{xx}                                         2    \n",
       "xxx}⋅u_{x} + ─────────────────── + 21⋅u_{xxxx}⋅u_{xxx} + 81⋅u_{xxx}⋅u_{x}  + 9\n",
       "                      2                                                       \n",
       "\n",
       "        2      \n",
       "9⋅u_{xx} ⋅u_{x}\n",
       "               "
      ]
     },
     "metadata": {},
     "output_type": "display_data"
    },
    {
     "name": "stdout",
     "output_type": "stream",
     "text": [
      "6 u u_{x} + u_{t} + u_{xxx}\n",
      " + h^2\\left(\n",
      "u u_{xxx} + \\frac{u_{xxxxx}}{4} + 3 u_{xx} u_{x}\n",
      "\\right)\n",
      " + \\tau^2\\left(\n",
      "18 u^{3} u_{xxx} + 9 u^{2} u_{xxxxx} + 162 u^{2} u_{xx} u_{x} + \\frac{3 u u_{xxxxxxx}}{2} + 63 u u_{xxxx} u_{x} + 99 u u_{xxx} u_{xx} + 108 u u_{x}^{3} + \\frac{u_{xxxxxxxxx}}{12} + 6 u_{xxxxxx} u_{x} + \\frac{27 u_{xxxxx} u_{xx}}{2} + 21 u_{xxxx} u_{xxx} + 81 u_{xxx} u_{x}^{2} + 99 u_{xx}^{2} u_{x}\n",
      "\\right)\n",
      "None\n"
     ]
    }
   ],
   "source": [
    "Ffda = NF(F, [u.diff(t)], [F], head=False)\n",
    "prn(Ffda)\n",
    "print(prnlatex(Ffda))"
   ]
  },
  {
   "cell_type": "code",
   "execution_count": 34,
   "metadata": {},
   "outputs": [
    {
     "data": {
      "image/png": "[encoded data removed]",
      "text/latex": [
       "$$\\frac{8 k^{7} \\left(45 \\sinh^{4}{\\left (4 k^{3} t - k x \\right )} - 60 \\sinh^{2}{\\left (4 k^{3} t - k x \\right )} \\cosh^{2}{\\left (4 k^{3} t - k x \\right )} + 30 \\sinh^{2}{\\left (4 k^{3} t - k x \\right )} + 17 \\cosh^{4}{\\left (4 k^{3} t - k x \\right )} - 14 \\cosh^{2}{\\left (4 k^{3} t - k x \\right )}\\right) \\sinh{\\left (4 k^{3} t - k x \\right )}}{\\cosh^{7}{\\left (4 k^{3} t - k x \\right )}}$$"
      ],
      "text/plain": [
       "   7 ⎛       4⎛   3        ⎞          2⎛   3        ⎞     2⎛   3        ⎞     \n",
       "8⋅k ⋅⎝45⋅sinh ⎝4⋅k ⋅t - k⋅x⎠ - 60⋅sinh ⎝4⋅k ⋅t - k⋅x⎠⋅cosh ⎝4⋅k ⋅t - k⋅x⎠ + 30\n",
       "──────────────────────────────────────────────────────────────────────────────\n",
       "                                                                              \n",
       "                                                                          cosh\n",
       "\n",
       "     2⎛   3        ⎞          4⎛   3        ⎞          2⎛   3        ⎞⎞     ⎛ \n",
       "⋅sinh ⎝4⋅k ⋅t - k⋅x⎠ + 17⋅cosh ⎝4⋅k ⋅t - k⋅x⎠ - 14⋅cosh ⎝4⋅k ⋅t - k⋅x⎠⎠⋅sinh⎝4\n",
       "──────────────────────────────────────────────────────────────────────────────\n",
       "7⎛   3        ⎞                                                               \n",
       " ⎝4⋅k ⋅t - k⋅x⎠                                                               \n",
       "\n",
       "  3        ⎞\n",
       "⋅k ⋅t - k⋅x⎠\n",
       "────────────\n",
       "            \n",
       "            "
      ]
     },
     "execution_count": 34,
     "metadata": {},
     "output_type": "execute_result"
    }
   ],
   "source": [
    "Ffda[1][1].subs({u: exact1}).doit().trigsimp().combsimp()"
   ]
  },
  {
   "cell_type": "code",
   "execution_count": 35,
   "metadata": {},
   "outputs": [
    {
     "data": {
      "image/png": "[encoded data removed]",
      "text/latex": [
       "$$\\frac{64 k^{11} \\left(28350 \\sinh^{8}{\\left (4 k^{3} t - k x \\right )} - 75600 \\sinh^{6}{\\left (4 k^{3} t - k x \\right )} \\cosh^{2}{\\left (4 k^{3} t - k x \\right )} + 44955 \\sinh^{6}{\\left (4 k^{3} t - k x \\right )} + 69930 \\sinh^{4}{\\left (4 k^{3} t - k x \\right )} \\cosh^{4}{\\left (4 k^{3} t - k x \\right )} - 78705 \\sinh^{4}{\\left (4 k^{3} t - k x \\right )} \\cosh^{2}{\\left (4 k^{3} t - k x \\right )} + 19035 \\sinh^{4}{\\left (4 k^{3} t - k x \\right )} - 25440 \\sinh^{2}{\\left (4 k^{3} t - k x \\right )} \\cosh^{6}{\\left (4 k^{3} t - k x \\right )} + 39987 \\sinh^{2}{\\left (4 k^{3} t - k x \\right )} \\cosh^{4}{\\left (4 k^{3} t - k x \\right )} - 17982 \\sinh^{2}{\\left (4 k^{3} t - k x \\right )} \\cosh^{2}{\\left (4 k^{3} t - k x \\right )} + 2430 \\sinh^{2}{\\left (4 k^{3} t - k x \\right )} + 2764 \\cosh^{8}{\\left (4 k^{3} t - k x \\right )} - 5229 \\cosh^{6}{\\left (4 k^{3} t - k x \\right )} + 3159 \\cosh^{4}{\\left (4 k^{3} t - k x \\right )} - 702 \\cosh^{2}{\\left (4 k^{3} t - k x \\right )}\\right) \\sinh{\\left (4 k^{3} t - k x \\right )}}{3 \\cosh^{11}{\\left (4 k^{3} t - k x \\right )}}$$"
      ],
      "text/plain": [
       "    11 ⎛          8⎛   3        ⎞             6⎛   3        ⎞     2⎛   3      \n",
       "64⋅k  ⋅⎝28350⋅sinh ⎝4⋅k ⋅t - k⋅x⎠ - 75600⋅sinh ⎝4⋅k ⋅t - k⋅x⎠⋅cosh ⎝4⋅k ⋅t - k\n",
       "──────────────────────────────────────────────────────────────────────────────\n",
       "                                                                              \n",
       "                                                                              \n",
       "\n",
       "  ⎞             6⎛   3        ⎞             4⎛   3        ⎞     4⎛   3        \n",
       "⋅x⎠ + 44955⋅sinh ⎝4⋅k ⋅t - k⋅x⎠ + 69930⋅sinh ⎝4⋅k ⋅t - k⋅x⎠⋅cosh ⎝4⋅k ⋅t - k⋅x\n",
       "──────────────────────────────────────────────────────────────────────────────\n",
       "                                                                              \n",
       "                                                                              \n",
       "\n",
       "⎞             4⎛   3        ⎞     2⎛   3        ⎞             4⎛   3        ⎞ \n",
       "⎠ - 78705⋅sinh ⎝4⋅k ⋅t - k⋅x⎠⋅cosh ⎝4⋅k ⋅t - k⋅x⎠ + 19035⋅sinh ⎝4⋅k ⋅t - k⋅x⎠ \n",
       "──────────────────────────────────────────────────────────────────────────────\n",
       "                                                                              \n",
       "                                                                              \n",
       "\n",
       "            2⎛   3        ⎞     6⎛   3        ⎞             2⎛   3        ⎞   \n",
       "- 25440⋅sinh ⎝4⋅k ⋅t - k⋅x⎠⋅cosh ⎝4⋅k ⋅t - k⋅x⎠ + 39987⋅sinh ⎝4⋅k ⋅t - k⋅x⎠⋅co\n",
       "──────────────────────────────────────────────────────────────────────────────\n",
       "                           11⎛   3        ⎞                                   \n",
       "                     3⋅cosh  ⎝4⋅k ⋅t - k⋅x⎠                                   \n",
       "\n",
       "  4⎛   3        ⎞             2⎛   3        ⎞     2⎛   3        ⎞            2\n",
       "sh ⎝4⋅k ⋅t - k⋅x⎠ - 17982⋅sinh ⎝4⋅k ⋅t - k⋅x⎠⋅cosh ⎝4⋅k ⋅t - k⋅x⎠ + 2430⋅sinh \n",
       "──────────────────────────────────────────────────────────────────────────────\n",
       "                                                                              \n",
       "                                                                              \n",
       "\n",
       "⎛   3        ⎞            8⎛   3        ⎞            6⎛   3        ⎞          \n",
       "⎝4⋅k ⋅t - k⋅x⎠ + 2764⋅cosh ⎝4⋅k ⋅t - k⋅x⎠ - 5229⋅cosh ⎝4⋅k ⋅t - k⋅x⎠ + 3159⋅co\n",
       "──────────────────────────────────────────────────────────────────────────────\n",
       "                                                                              \n",
       "                                                                              \n",
       "\n",
       "  4⎛   3        ⎞           2⎛   3        ⎞⎞     ⎛   3        ⎞\n",
       "sh ⎝4⋅k ⋅t - k⋅x⎠ - 702⋅cosh ⎝4⋅k ⋅t - k⋅x⎠⎠⋅sinh⎝4⋅k ⋅t - k⋅x⎠\n",
       "───────────────────────────────────────────────────────────────\n",
       "                                                               \n",
       "                                                               "
      ]
     },
     "execution_count": 35,
     "metadata": {},
     "output_type": "execute_result"
    }
   ],
   "source": [
    "Ffda[2][1].subs({u: exact1}).doit().trigsimp().combsimp()"
   ]
  },
  {
   "cell_type": "markdown",
   "metadata": {},
   "source": [
    "Наша $O(\\tau^2, h^4)$:\n",
    "\\begin{multline*}\n",
    "\\frac{{u}_{j}^{n+1} -{u}_{j}^{n} }{\\tau }\n",
    " - \\frac{3}{24h}\\left(\\left({u^2}_{j+2}^{n+1} - 8{u^2}_{j+1}^{n+1} + 8{u^2}_{j-1}^{n+1} - {u^2}_{j-2}^{n+1}\\right) \n",
    "              + \\left({u^2}_{j+2}^{n} - 8{u^2}_{j+1}^{n} + 8{u^2}_{j-1}^{n} - {u^2}_{j-2}^{n}\\right)\\right) + \\\\\n",
    " - \\frac{1}{16h^{3}}\\left(\\left({u}_{j+3}^{n+1} - 8{u}_{j+2}^{n+1} + 13{u}_{j+1}^{n+1} \n",
    "                                  - 13{u}_{j-1}^{n+1} + 8{u}_{j-2}^{n+1} - {u}_{j-3}^{n+1}\\right) + \\right. \\\\ \\left.\n",
    "             \\left({u}_{j+3}^{n} - 8{u}_{j+2}^{n} + 13{u}_{j+1}^{n} \n",
    "                                  - 13{u}_{j-1}^{n} + 8{u}_{j-2}^{n} - {u}_{j-3}^{n}\\right)\\right)=0\n",
    "\\end{multline*}"
   ]
  },
  {
   "cell_type": "code",
   "execution_count": 36,
   "metadata": {},
   "outputs": [],
   "source": [
    "def Dt(a):\n",
    "    return (T(a, 1, 0) - T(a, 0, 0))/(tau)\n",
    "def Dx(a):\n",
    "    return -((T(a, 1, 2) - 8*T(a, 1, 1) + 8*T(a, 1, -1) - T(a, 1, -2))/(12*h) +\\\n",
    "             (T(a, 0, 2) - 8*T(a, 0, 1) + 8*T(a, 0, -1) - T(a, 0, -2))/(12*h))/2\n",
    "def Dxxx(a):\n",
    "    return -((T(a, 1, 3) - 8*T(a, 1, 2) + 13*T(a, 1, 1) -\\\n",
    "             13*T(a, 1, -1) + 8*T(a, 1, -2) - T(a, 1, -3))/(8*h**3) +\\\n",
    "            (T(a, 0, 3) - 8*T(a, 0, 2) + 13*T(a, 0, 1) -\\\n",
    "             13*T(a, 0, -1) + 8*T(a, 0, -2) - T(a, 0, -3))/(8*h**3))/2"
   ]
  },
  {
   "cell_type": "code",
   "execution_count": 37,
   "metadata": {},
   "outputs": [],
   "source": [
    "Monom.cmp = Monom.TOPdeglex\n",
    "pda_n, pda_clp = (6, 8), (3, 5)\n",
    "pda_p = Rational(1, 2), Rational(0, 1)"
   ]
  },
  {
   "cell_type": "code",
   "execution_count": 38,
   "metadata": {},
   "outputs": [
    {
     "data": {
      "image/png": "[encoded data removed]",
      "text/latex": [
       "$$6 u u_{x} + u_{t} + u_{xxx}$$"
      ],
      "text/plain": [
       "6⋅u⋅u_{x} + u_{t} + u_{xxx}"
      ]
     },
     "metadata": {},
     "output_type": "display_data"
    },
    {
     "name": "stdout",
     "output_type": "stream",
     "text": [
      "h^4 =>\n"
     ]
    },
    {
     "data": {
      "image/png": "[encoded data removed]",
      "text/latex": [
       "$$- \\frac{u u_{xxxxx}}{5} - \\frac{7 u_{xxxxxxx}}{120} - u_{xxxx} u_{x} - 2 u_{xxx} u_{xx}$$"
      ],
      "text/plain": [
       "  u⋅u_{xxxxx}   7⋅u_{xxxxxxx}                                    \n",
       "- ─────────── - ───────────── - u_{xxxx}⋅u_{x} - 2⋅u_{xxx}⋅u_{xx}\n",
       "       5             120                                         "
      ]
     },
     "metadata": {},
     "output_type": "display_data"
    },
    {
     "name": "stdout",
     "output_type": "stream",
     "text": [
      "tau^2 =>\n"
     ]
    },
    {
     "data": {
      "image/png": "[encoded data removed]",
      "text/latex": [
       "$$\\frac{3 u u_{ttx}}{4} + \\frac{u_{ttt}}{24} + \\frac{u_{ttxxx}}{8} + \\frac{3 u_{tt} u_{x}}{4} + \\frac{3 u_{tx} u_{t}}{2}$$"
      ],
      "text/plain": [
       "3⋅u⋅u_{ttx}   u_{ttt}   u_{ttxxx}   3⋅u_{tt}⋅u_{x}   3⋅u_{tx}⋅u_{t}\n",
       "─────────── + ─────── + ───────── + ────────────── + ──────────────\n",
       "     4           24         8             4                2       "
      ]
     },
     "metadata": {},
     "output_type": "display_data"
    },
    {
     "name": "stdout",
     "output_type": "stream",
     "text": [
      "6 u u_{x} + u_{t} + u_{xxx}\n",
      " + h^4\\left(\n",
      "- \\frac{u u_{xxxxx}}{5} - \\frac{7 u_{xxxxxxx}}{120} - u_{xxxx} u_{x} - 2 u_{xxx} u_{xx}\n",
      "\\right)\n",
      " + \\tau^2\\left(\n",
      "\\frac{3 u u_{ttx}}{4} + \\frac{u_{ttt}}{24} + \\frac{u_{ttxxx}}{8} + \\frac{3 u_{tt} u_{x}}{4} + \\frac{3 u_{tx} u_{t}}{2}\n",
      "\\right)\n"
     ]
    }
   ],
   "source": [
    "F = clip(Dt(u) + 3*Dx(u**2) + Dxxx(u))\n",
    "prn(F)\n",
    "prnlatex(F)"
   ]
  },
  {
   "cell_type": "code",
   "execution_count": 39,
   "metadata": {},
   "outputs": [
    {
     "data": {
      "image/png": "[encoded data removed]",
      "text/latex": [
       "$$6 u u_{x} + u_{t} + u_{xxx}$$"
      ],
      "text/plain": [
       "6⋅u⋅u_{x} + u_{t} + u_{xxx}"
      ]
     },
     "metadata": {},
     "output_type": "display_data"
    },
    {
     "name": "stdout",
     "output_type": "stream",
     "text": [
      "h^4 =>\n"
     ]
    },
    {
     "data": {
      "image/png": "[encoded data removed]",
      "text/latex": [
       "$$\\frac{27 u^{3} u_{x}}{5} + \\frac{9 u^{2} u_{t}}{10} - \\frac{u u_{txx}}{2} - \\frac{81 u u_{xx} u_{x}}{5} - \\frac{7 u_{ttx}}{120} - \\frac{29 u_{tx} u_{x}}{20} - \\frac{37 u_{t} u_{xx}}{20} - \\frac{9 u_{x}^{3}}{2}$$"
      ],
      "text/plain": [
       "    3            2                                                            \n",
       "27⋅u ⋅u_{x}   9⋅u ⋅u_{t}   u⋅u_{txx}   81⋅u⋅u_{xx}⋅u_{x}   7⋅u_{ttx}   29⋅u_{t\n",
       "─────────── + ────────── - ───────── - ───────────────── - ───────── - ───────\n",
       "     5            10           2               5              120             \n",
       "\n",
       "                                    3\n",
       "x}⋅u_{x}   37⋅u_{t}⋅u_{xx}   9⋅u_{x} \n",
       "──────── - ─────────────── - ────────\n",
       "20                20            2    "
      ]
     },
     "metadata": {},
     "output_type": "display_data"
    },
    {
     "name": "stdout",
     "output_type": "stream",
     "text": [
      "tau^2 =>\n"
     ]
    },
    {
     "data": {
      "image/png": "[encoded data removed]",
      "text/latex": [
       "$$- \\frac{u_{ttt}}{12}$$"
      ],
      "text/plain": [
       "-u_{ttt} \n",
       "─────────\n",
       "    12   "
      ]
     },
     "metadata": {},
     "output_type": "display_data"
    },
    {
     "name": "stdout",
     "output_type": "stream",
     "text": [
      "6 u u_{x} + u_{t} + u_{xxx}\n",
      " + h^4\\left(\n",
      "\\frac{27 u^{3} u_{x}}{5} + \\frac{9 u^{2} u_{t}}{10} - \\frac{u u_{txx}}{2} - \\frac{81 u u_{xx} u_{x}}{5} - \\frac{7 u_{ttx}}{120} - \\frac{29 u_{tx} u_{x}}{20} - \\frac{37 u_{t} u_{xx}}{20} - \\frac{9 u_{x}^{3}}{2}\n",
      "\\right)\n",
      " + \\tau^2\\left(\n",
      "- \\frac{u_{ttt}}{12}\n",
      "\\right)\n",
      "None\n"
     ]
    }
   ],
   "source": [
    "Ffda = NF(F, [u.diff(x, 3)], [F], head=False)\n",
    "prn(Ffda)\n",
    "print(prnlatex(Ffda))"
   ]
  },
  {
   "cell_type": "code",
   "execution_count": 40,
   "metadata": {},
   "outputs": [],
   "source": [
    "pda_p = Rational(-1, 2), Rational(2, 1)"
   ]
  },
  {
   "cell_type": "code",
   "execution_count": 41,
   "metadata": {},
   "outputs": [
    {
     "data": {
      "image/png": "[encoded data removed]",
      "text/latex": [
       "$$6 u u_{x} + u_{t} + u_{xxx}$$"
      ],
      "text/plain": [
       "6⋅u⋅u_{x} + u_{t} + u_{xxx}"
      ]
     },
     "metadata": {},
     "output_type": "display_data"
    },
    {
     "name": "stdout",
     "output_type": "stream",
     "text": [
      "h =>\n"
     ]
    },
    {
     "data": {
      "image/png": "[encoded data removed]",
      "text/latex": [
       "$$- 12 u u_{xx} - 2 u_{tx} - 2 u_{xxxx} - 12 u_{x}^{2}$$"
      ],
      "text/plain": [
       "                                               2\n",
       "-12⋅u⋅u_{xx} - 2⋅u_{tx} - 2⋅u_{xxxx} - 12⋅u_{x} "
      ]
     },
     "metadata": {},
     "output_type": "display_data"
    },
    {
     "name": "stdout",
     "output_type": "stream",
     "text": [
      "h^2 =>\n"
     ]
    },
    {
     "data": {
      "image/png": "[encoded data removed]",
      "text/latex": [
       "$$12 u u_{xxx} + 2 u_{txx} + 2 u_{xxxxx} + 36 u_{xx} u_{x}$$"
      ],
      "text/plain": [
       "12⋅u⋅u_{xxx} + 2⋅u_{txx} + 2⋅u_{xxxxx} + 36⋅u_{xx}⋅u_{x}"
      ]
     },
     "metadata": {},
     "output_type": "display_data"
    },
    {
     "name": "stdout",
     "output_type": "stream",
     "text": [
      "h^3 =>\n"
     ]
    },
    {
     "data": {
      "image/png": "[encoded data removed]",
      "text/latex": [
       "$$- 8 u u_{xxxx} - \\frac{4 u_{txxx}}{3} - \\frac{4 u_{xxxxxx}}{3} - 32 u_{xxx} u_{x} - 24 u_{xx}^{2}$$"
      ],
      "text/plain": [
       "                4⋅u_{txxx}   4⋅u_{xxxxxx}                               2\n",
       "-8⋅u⋅u_{xxxx} - ────────── - ──────────── - 32⋅u_{xxx}⋅u_{x} - 24⋅u_{xx} \n",
       "                    3             3                                      "
      ]
     },
     "metadata": {},
     "output_type": "display_data"
    },
    {
     "name": "stdout",
     "output_type": "stream",
     "text": [
      "h^4 =>\n"
     ]
    },
    {
     "data": {
      "image/png": "[encoded data removed]",
      "text/latex": [
       "$$\\frac{19 u u_{xxxxx}}{5} + \\frac{2 u_{txxxx}}{3} + \\frac{73 u_{xxxxxxx}}{120} + 19 u_{xxxx} u_{x} + 38 u_{xxx} u_{xx}$$"
      ],
      "text/plain": [
       "19⋅u⋅u_{xxxxx}   2⋅u_{txxxx}   73⋅u_{xxxxxxx}                                 \n",
       "────────────── + ─────────── + ────────────── + 19⋅u_{xxxx}⋅u_{x} + 38⋅u_{xxx}\n",
       "      5               3             120                                       \n",
       "\n",
       "       \n",
       "⋅u_{xx}\n",
       "       "
      ]
     },
     "metadata": {},
     "output_type": "display_data"
    },
    {
     "name": "stdout",
     "output_type": "stream",
     "text": [
      "tau =>\n"
     ]
    },
    {
     "data": {
      "image/png": "[encoded data removed]",
      "text/latex": [
       "$$6 u u_{tx} + u_{tt} + u_{txxx} + 6 u_{t} u_{x}$$"
      ],
      "text/plain": [
       "6⋅u⋅u_{tx} + u_{tt} + u_{txxx} + 6⋅u_{t}⋅u_{x}"
      ]
     },
     "metadata": {},
     "output_type": "display_data"
    },
    {
     "name": "stdout",
     "output_type": "stream",
     "text": [
      "tau h =>\n"
     ]
    },
    {
     "data": {
      "image/png": "[encoded data removed]",
      "text/latex": [
       "$$- 12 u u_{txx} - 2 u_{ttx} - 2 u_{txxxx} - 24 u_{tx} u_{x} - 12 u_{t} u_{xx}$$"
      ],
      "text/plain": [
       "-12⋅u⋅u_{txx} - 2⋅u_{ttx} - 2⋅u_{txxxx} - 24⋅u_{tx}⋅u_{x} - 12⋅u_{t}⋅u_{xx}"
      ]
     },
     "metadata": {},
     "output_type": "display_data"
    },
    {
     "name": "stdout",
     "output_type": "stream",
     "text": [
      "tau h^2 =>\n"
     ]
    },
    {
     "data": {
      "image/png": "[encoded data removed]",
      "text/latex": [
       "$$12 u u_{txxx} + 2 u_{ttxx} + 2 u_{txxxxx} + 36 u_{txx} u_{x} + 36 u_{tx} u_{xx} + 12 u_{t} u_{xxx}$$"
      ],
      "text/plain": [
       "12⋅u⋅u_{txxx} + 2⋅u_{ttxx} + 2⋅u_{txxxxx} + 36⋅u_{txx}⋅u_{x} + 36⋅u_{tx}⋅u_{xx\n",
       "} + 12⋅u_{t}⋅u_{xxx}"
      ]
     },
     "metadata": {},
     "output_type": "display_data"
    },
    {
     "name": "stdout",
     "output_type": "stream",
     "text": [
      "tau h^3 =>\n"
     ]
    },
    {
     "data": {
      "image/png": "[encoded data removed]",
      "text/latex": [
       "$$- 8 u u_{txxxx} - \\frac{4 u_{ttxxx}}{3} - \\frac{4 u_{txxxxxx}}{3} - 32 u_{txxx} u_{x} - 48 u_{txx} u_{xx} - 32 u_{tx} u_{xxx} - 8 u_{t} u_{xxxx}$$"
      ],
      "text/plain": [
       "                 4⋅u_{ttxxx}   4⋅u_{txxxxxx}                                  \n",
       "-8⋅u⋅u_{txxxx} - ─────────── - ───────────── - 32⋅u_{txxx}⋅u_{x} - 48⋅u_{txx}⋅\n",
       "                      3              3                                        \n",
       "\n",
       "                                             \n",
       "u_{xx} - 32⋅u_{tx}⋅u_{xxx} - 8⋅u_{t}⋅u_{xxxx}\n",
       "                                             "
      ]
     },
     "metadata": {},
     "output_type": "display_data"
    },
    {
     "name": "stdout",
     "output_type": "stream",
     "text": [
      "tau^2 =>\n"
     ]
    },
    {
     "data": {
      "image/png": "[encoded data removed]",
      "text/latex": [
       "$$\\frac{15 u u_{ttx}}{4} + \\frac{13 u_{ttt}}{24} + \\frac{5 u_{ttxxx}}{8} + \\frac{15 u_{tt} u_{x}}{4} + \\frac{15 u_{tx} u_{t}}{2}$$"
      ],
      "text/plain": [
       "15⋅u⋅u_{ttx}   13⋅u_{ttt}   5⋅u_{ttxxx}   15⋅u_{tt}⋅u_{x}   15⋅u_{tx}⋅u_{t}\n",
       "──────────── + ────────── + ─────────── + ─────────────── + ───────────────\n",
       "     4             24            8               4                 2       "
      ]
     },
     "metadata": {},
     "output_type": "display_data"
    },
    {
     "name": "stdout",
     "output_type": "stream",
     "text": [
      "6 u u_{x} + u_{t} + u_{xxx}\n",
      " + h\\left(\n",
      "- 12 u u_{xx} - 2 u_{tx} - 2 u_{xxxx} - 12 u_{x}^{2}\n",
      "\\right)\n",
      " + h^2\\left(\n",
      "12 u u_{xxx} + 2 u_{txx} + 2 u_{xxxxx} + 36 u_{xx} u_{x}\n",
      "\\right)\n",
      " + h^3\\left(\n",
      "- 8 u u_{xxxx} - \\frac{4 u_{txxx}}{3} - \\frac{4 u_{xxxxxx}}{3} - 32 u_{xxx} u_{x} - 24 u_{xx}^{2}\n",
      "\\right)\n",
      " + h^4\\left(\n",
      "\\frac{19 u u_{xxxxx}}{5} + \\frac{2 u_{txxxx}}{3} + \\frac{73 u_{xxxxxxx}}{120} + 19 u_{xxxx} u_{x} + 38 u_{xxx} u_{xx}\n",
      "\\right)\n",
      " + \\tau\\left(\n",
      "6 u u_{tx} + u_{tt} + u_{txxx} + 6 u_{t} u_{x}\n",
      "\\right)\n",
      " + \\tau h\\left(\n",
      "- 12 u u_{txx} - 2 u_{ttx} - 2 u_{txxxx} - 24 u_{tx} u_{x} - 12 u_{t} u_{xx}\n",
      "\\right)\n",
      " + \\tau h^2\\left(\n",
      "12 u u_{txxx} + 2 u_{ttxx} + 2 u_{txxxxx} + 36 u_{txx} u_{x} + 36 u_{tx} u_{xx} + 12 u_{t} u_{xxx}\n",
      "\\right)\n",
      " + \\tau h^3\\left(\n",
      "- 8 u u_{txxxx} - \\frac{4 u_{ttxxx}}{3} - \\frac{4 u_{txxxxxx}}{3} - 32 u_{txxx} u_{x} - 48 u_{txx} u_{xx} - 32 u_{tx} u_{xxx} - 8 u_{t} u_{xxxx}\n",
      "\\right)\n",
      " + \\tau^2\\left(\n",
      "\\frac{15 u u_{ttx}}{4} + \\frac{13 u_{ttt}}{24} + \\frac{5 u_{ttxxx}}{8} + \\frac{15 u_{tt} u_{x}}{4} + \\frac{15 u_{tx} u_{t}}{2}\n",
      "\\right)\n"
     ]
    }
   ],
   "source": [
    "F = clip(Dt(u) + 3*Dx(u**2) + Dxxx(u))\n",
    "prn(F)\n",
    "prnlatex(F)"
   ]
  },
  {
   "cell_type": "code",
   "execution_count": 42,
   "metadata": {},
   "outputs": [
    {
     "data": {
      "image/png": "[encoded data removed]",
      "text/latex": [
       "$$6 u u_{x} + u_{t} + u_{xxx}$$"
      ],
      "text/plain": [
       "6⋅u⋅u_{x} + u_{t} + u_{xxx}"
      ]
     },
     "metadata": {},
     "output_type": "display_data"
    },
    {
     "name": "stdout",
     "output_type": "stream",
     "text": [
      "h^4 =>\n"
     ]
    },
    {
     "data": {
      "image/png": "[encoded data removed]",
      "text/latex": [
       "$$\\frac{27 u^{3} u_{x}}{5} + \\frac{9 u^{2} u_{t}}{10} - \\frac{u u_{txx}}{2} - \\frac{81 u u_{xx} u_{x}}{5} - \\frac{7 u_{ttx}}{120} - \\frac{29 u_{tx} u_{x}}{20} - \\frac{37 u_{t} u_{xx}}{20} - \\frac{9 u_{x}^{3}}{2}$$"
      ],
      "text/plain": [
       "    3            2                                                            \n",
       "27⋅u ⋅u_{x}   9⋅u ⋅u_{t}   u⋅u_{txx}   81⋅u⋅u_{xx}⋅u_{x}   7⋅u_{ttx}   29⋅u_{t\n",
       "─────────── + ────────── - ───────── - ───────────────── - ───────── - ───────\n",
       "     5            10           2               5              120             \n",
       "\n",
       "                                    3\n",
       "x}⋅u_{x}   37⋅u_{t}⋅u_{xx}   9⋅u_{x} \n",
       "──────── - ─────────────── - ────────\n",
       "20                20            2    "
      ]
     },
     "metadata": {},
     "output_type": "display_data"
    },
    {
     "name": "stdout",
     "output_type": "stream",
     "text": [
      "tau^2 =>\n"
     ]
    },
    {
     "data": {
      "image/png": "[encoded data removed]",
      "text/latex": [
       "$$- \\frac{u_{ttt}}{12}$$"
      ],
      "text/plain": [
       "-u_{ttt} \n",
       "─────────\n",
       "    12   "
      ]
     },
     "metadata": {},
     "output_type": "display_data"
    },
    {
     "name": "stdout",
     "output_type": "stream",
     "text": [
      "6 u u_{x} + u_{t} + u_{xxx}\n",
      " + h^4\\left(\n",
      "\\frac{27 u^{3} u_{x}}{5} + \\frac{9 u^{2} u_{t}}{10} - \\frac{u u_{txx}}{2} - \\frac{81 u u_{xx} u_{x}}{5} - \\frac{7 u_{ttx}}{120} - \\frac{29 u_{tx} u_{x}}{20} - \\frac{37 u_{t} u_{xx}}{20} - \\frac{9 u_{x}^{3}}{2}\n",
      "\\right)\n",
      " + \\tau^2\\left(\n",
      "- \\frac{u_{ttt}}{12}\n",
      "\\right)\n",
      "None\n"
     ]
    }
   ],
   "source": [
    "Ffda = NF(F, [u.diff(x, 3)], [F], head=False)\n",
    "prn(Ffda)\n",
    "print(prnlatex(Ffda))"
   ]
  },
  {
   "cell_type": "code",
   "execution_count": 43,
   "metadata": {},
   "outputs": [
    {
     "name": "stdout",
     "output_type": "stream",
     "text": [
      "27*u**3*u_{x}/5 + 9*u**2*u_{t}/10 - u*u_{txx}/2 - 81*u*u_{xx}*u_{x}/5 - 7*u_{ttx}/120 - 29*u_{tx}*u_{x}/20 - 37*u_{t}*u_{xx}/20 - 9*u_{x}**3/2\n"
     ]
    }
   ],
   "source": [
    "print(compact(Ffda[1][1]))"
   ]
  },
  {
   "cell_type": "code",
   "execution_count": 44,
   "metadata": {},
   "outputs": [
    {
     "name": "stdout",
     "output_type": "stream",
     "text": [
      "-u_{ttt}/12\n"
     ]
    }
   ],
   "source": [
    "print(compact(Ffda[2][1]))"
   ]
  },
  {
   "cell_type": "code",
   "execution_count": 45,
   "metadata": {},
   "outputs": [
    {
     "data": {
      "image/png": "[encoded data removed]",
      "text/latex": [
       "$$\\frac{32 k^{9} \\left(- 21 \\sinh^{2}{\\left (4 k^{3} t - k x \\right )} \\cosh^{4}{\\left (4 k^{3} t - k x \\right )} + 387 \\sinh^{2}{\\left (4 k^{3} t - k x \\right )} \\cosh^{2}{\\left (4 k^{3} t - k x \\right )} - 864 \\sinh^{2}{\\left (4 k^{3} t - k x \\right )} + 14 \\cosh^{6}{\\left (4 k^{3} t - k x \\right )} - 159 \\cosh^{4}{\\left (4 k^{3} t - k x \\right )} + 216 \\cosh^{2}{\\left (4 k^{3} t - k x \\right )} + 81\\right) \\sinh{\\left (4 k^{3} t - k x \\right )}}{15 \\cosh^{9}{\\left (4 k^{3} t - k x \\right )}}$$"
      ],
      "text/plain": [
       "    9 ⎛         2⎛   3        ⎞     4⎛   3        ⎞           2⎛   3        ⎞ \n",
       "32⋅k ⋅⎝- 21⋅sinh ⎝4⋅k ⋅t - k⋅x⎠⋅cosh ⎝4⋅k ⋅t - k⋅x⎠ + 387⋅sinh ⎝4⋅k ⋅t - k⋅x⎠⋅\n",
       "──────────────────────────────────────────────────────────────────────────────\n",
       "                                                                              \n",
       "                                                                              \n",
       "\n",
       "    2⎛   3        ⎞           2⎛   3        ⎞          6⎛   3        ⎞        \n",
       "cosh ⎝4⋅k ⋅t - k⋅x⎠ - 864⋅sinh ⎝4⋅k ⋅t - k⋅x⎠ + 14⋅cosh ⎝4⋅k ⋅t - k⋅x⎠ - 159⋅c\n",
       "──────────────────────────────────────────────────────────────────────────────\n",
       "                               9⎛   3        ⎞                                \n",
       "                        15⋅cosh ⎝4⋅k ⋅t - k⋅x⎠                                \n",
       "\n",
       "   4⎛   3        ⎞           2⎛   3        ⎞     ⎞     ⎛   3        ⎞\n",
       "osh ⎝4⋅k ⋅t - k⋅x⎠ + 216⋅cosh ⎝4⋅k ⋅t - k⋅x⎠ + 81⎠⋅sinh⎝4⋅k ⋅t - k⋅x⎠\n",
       "─────────────────────────────────────────────────────────────────────\n",
       "                                                                     \n",
       "                                                                     "
      ]
     },
     "execution_count": 45,
     "metadata": {},
     "output_type": "execute_result"
    }
   ],
   "source": [
    "Ffda[1][1].subs({u: exact1}).doit().trigsimp().combsimp()"
   ]
  },
  {
   "cell_type": "code",
   "execution_count": 46,
   "metadata": {},
   "outputs": [
    {
     "data": {
      "image/png": "[encoded data removed]",
      "text/latex": [
       "$$- \\frac{256 k^{11} \\left(- 3 \\sinh^{2}{\\left (4 k^{3} t - k x \\right )} + 2 \\cosh^{2}{\\left (4 k^{3} t - k x \\right )}\\right) \\sinh{\\left (4 k^{3} t - k x \\right )}}{3 \\cosh^{5}{\\left (4 k^{3} t - k x \\right )}}$$"
      ],
      "text/plain": [
       "      11 ⎛        2⎛   3        ⎞         2⎛   3        ⎞⎞     ⎛   3        ⎞ \n",
       "-256⋅k  ⋅⎝- 3⋅sinh ⎝4⋅k ⋅t - k⋅x⎠ + 2⋅cosh ⎝4⋅k ⋅t - k⋅x⎠⎠⋅sinh⎝4⋅k ⋅t - k⋅x⎠ \n",
       "──────────────────────────────────────────────────────────────────────────────\n",
       "                                  5⎛   3        ⎞                             \n",
       "                            3⋅cosh ⎝4⋅k ⋅t - k⋅x⎠                             "
      ]
     },
     "execution_count": 46,
     "metadata": {},
     "output_type": "execute_result"
    }
   ],
   "source": [
    "Ffda[2][1].subs({u: exact1}).doit().trigsimp().combsimp()"
   ]
  },
  {
   "cell_type": "code",
   "execution_count": 47,
   "metadata": {},
   "outputs": [
    {
     "name": "stdout",
     "output_type": "stream",
     "text": [
      "\\frac{32 k^{9} \\left(- 21 \\sinh^{2}{\\left (4 k^{3} t - k x \\right )} \\cosh^{4}{\\left (4 k^{3} t - k x \\right )} + 387 \\sinh^{2}{\\left (4 k^{3} t - k x \\right )} \\cosh^{2}{\\left (4 k^{3} t - k x \\right )} - 864 \\sinh^{2}{\\left (4 k^{3} t - k x \\right )} + 14 \\cosh^{6}{\\left (4 k^{3} t - k x \\right )} - 159 \\cosh^{4}{\\left (4 k^{3} t - k x \\right )} + 216 \\cosh^{2}{\\left (4 k^{3} t - k x \\right )} + 81\\right) \\sinh{\\left (4 k^{3} t - k x \\right )}}{15 \\cosh^{9}{\\left (4 k^{3} t - k x \\right )}}\n"
     ]
    }
   ],
   "source": [
    "print(latex(Ffda[1][1].subs({u: exact1}).doit().combsimp()))"
   ]
  },
  {
   "cell_type": "code",
   "execution_count": 48,
   "metadata": {},
   "outputs": [
    {
     "name": "stdout",
     "output_type": "stream",
     "text": [
      "- \\frac{256 k^{11} \\left(- 3 \\sinh^{2}{\\left (4 k^{3} t - k x \\right )} + 2 \\cosh^{2}{\\left (4 k^{3} t - k x \\right )}\\right) \\sinh{\\left (4 k^{3} t - k x \\right )}}{3 \\cosh^{5}{\\left (4 k^{3} t - k x \\right )}}\n"
     ]
    }
   ],
   "source": [
    "print(latex(Ffda[2][1].subs({u: exact1}).doit().combsimp()))"
   ]
  },
  {
   "cell_type": "code",
   "execution_count": 49,
   "metadata": {},
   "outputs": [],
   "source": [
    "Monom.cmp = Monom.TOPlex\n",
    "pda_p = Rational(1, 2), Rational(0, 1)"
   ]
  },
  {
   "cell_type": "code",
   "execution_count": 50,
   "metadata": {},
   "outputs": [
    {
     "data": {
      "image/png": "[encoded data removed]",
      "text/latex": [
       "$$6 u u_{x} + u_{t} + u_{xxx}$$"
      ],
      "text/plain": [
       "6⋅u⋅u_{x} + u_{t} + u_{xxx}"
      ]
     },
     "metadata": {},
     "output_type": "display_data"
    },
    {
     "name": "stdout",
     "output_type": "stream",
     "text": [
      "h^4 =>\n"
     ]
    },
    {
     "data": {
      "image/png": "[encoded data removed]",
      "text/latex": [
       "$$- \\frac{u u_{xxxxx}}{5} - \\frac{7 u_{xxxxxxx}}{120} - u_{xxxx} u_{x} - 2 u_{xxx} u_{xx}$$"
      ],
      "text/plain": [
       "  u⋅u_{xxxxx}   7⋅u_{xxxxxxx}                                    \n",
       "- ─────────── - ───────────── - u_{xxxx}⋅u_{x} - 2⋅u_{xxx}⋅u_{xx}\n",
       "       5             120                                         "
      ]
     },
     "metadata": {},
     "output_type": "display_data"
    },
    {
     "name": "stdout",
     "output_type": "stream",
     "text": [
      "tau^2 =>\n"
     ]
    },
    {
     "data": {
      "image/png": "[encoded data removed]",
      "text/latex": [
       "$$\\frac{3 u u_{ttx}}{4} + \\frac{u_{ttt}}{24} + \\frac{u_{ttxxx}}{8} + \\frac{3 u_{tt} u_{x}}{4} + \\frac{3 u_{tx} u_{t}}{2}$$"
      ],
      "text/plain": [
       "3⋅u⋅u_{ttx}   u_{ttt}   u_{ttxxx}   3⋅u_{tt}⋅u_{x}   3⋅u_{tx}⋅u_{t}\n",
       "─────────── + ─────── + ───────── + ────────────── + ──────────────\n",
       "     4           24         8             4                2       "
      ]
     },
     "metadata": {},
     "output_type": "display_data"
    },
    {
     "name": "stdout",
     "output_type": "stream",
     "text": [
      "6 u u_{x} + u_{t} + u_{xxx}\n",
      " + h^4\\left(\n",
      "- \\frac{u u_{xxxxx}}{5} - \\frac{7 u_{xxxxxxx}}{120} - u_{xxxx} u_{x} - 2 u_{xxx} u_{xx}\n",
      "\\right)\n",
      " + \\tau^2\\left(\n",
      "\\frac{3 u u_{ttx}}{4} + \\frac{u_{ttt}}{24} + \\frac{u_{ttxxx}}{8} + \\frac{3 u_{tt} u_{x}}{4} + \\frac{3 u_{tx} u_{t}}{2}\n",
      "\\right)\n"
     ]
    }
   ],
   "source": [
    "F = clip(Dt(u) + 3*Dx(u**2) + Dxxx(u))\n",
    "prn(F)\n",
    "prnlatex(F)"
   ]
  },
  {
   "cell_type": "code",
   "execution_count": 51,
   "metadata": {},
   "outputs": [
    {
     "data": {
      "image/png": "[encoded data removed]",
      "text/latex": [
       "$$6 u u_{x} + u_{t} + u_{xxx}$$"
      ],
      "text/plain": [
       "6⋅u⋅u_{x} + u_{t} + u_{xxx}"
      ]
     },
     "metadata": {},
     "output_type": "display_data"
    },
    {
     "name": "stdout",
     "output_type": "stream",
     "text": [
      "h^4 =>\n"
     ]
    },
    {
     "data": {
      "image/png": "[encoded data removed]",
      "text/latex": [
       "$$- \\frac{u u_{xxxxx}}{5} - \\frac{7 u_{xxxxxxx}}{120} - u_{xxxx} u_{x} - 2 u_{xxx} u_{xx}$$"
      ],
      "text/plain": [
       "  u⋅u_{xxxxx}   7⋅u_{xxxxxxx}                                    \n",
       "- ─────────── - ───────────── - u_{xxxx}⋅u_{x} - 2⋅u_{xxx}⋅u_{xx}\n",
       "       5             120                                         "
      ]
     },
     "metadata": {},
     "output_type": "display_data"
    },
    {
     "name": "stdout",
     "output_type": "stream",
     "text": [
      "tau^2 =>\n"
     ]
    },
    {
     "data": {
      "image/png": "[encoded data removed]",
      "text/latex": [
       "$$18 u^{3} u_{xxx} + 9 u^{2} u_{xxxxx} + 162 u^{2} u_{xx} u_{x} + \\frac{3 u u_{xxxxxxx}}{2} + 63 u u_{xxxx} u_{x} + 99 u u_{xxx} u_{xx} + 108 u u_{x}^{3} + \\frac{u_{xxxxxxxxx}}{12} + 6 u_{xxxxxx} u_{x} + \\frac{27 u_{xxxxx} u_{xx}}{2} + 21 u_{xxxx} u_{xxx} + 81 u_{xxx} u_{x}^{2} + 99 u_{xx}^{2} u_{x}$$"
      ],
      "text/plain": [
       "    3              2                  2                3⋅u⋅u_{xxxxxxx}        \n",
       "18⋅u ⋅u_{xxx} + 9⋅u ⋅u_{xxxxx} + 162⋅u ⋅u_{xx}⋅u_{x} + ─────────────── + 63⋅u⋅\n",
       "                                                              2               \n",
       "\n",
       "                                                  3   u_{xxxxxxxxx}           \n",
       "u_{xxxx}⋅u_{x} + 99⋅u⋅u_{xxx}⋅u_{xx} + 108⋅u⋅u_{x}  + ───────────── + 6⋅u_{xxx\n",
       "                                                            12                \n",
       "\n",
       "             27⋅u_{xxxxx}⋅u_{xx}                                         2    \n",
       "xxx}⋅u_{x} + ─────────────────── + 21⋅u_{xxxx}⋅u_{xxx} + 81⋅u_{xxx}⋅u_{x}  + 9\n",
       "                      2                                                       \n",
       "\n",
       "        2      \n",
       "9⋅u_{xx} ⋅u_{x}\n",
       "               "
      ]
     },
     "metadata": {},
     "output_type": "display_data"
    },
    {
     "name": "stdout",
     "output_type": "stream",
     "text": [
      "6 u u_{x} + u_{t} + u_{xxx}\n",
      " + h^4\\left(\n",
      "- \\frac{u u_{xxxxx}}{5} - \\frac{7 u_{xxxxxxx}}{120} - u_{xxxx} u_{x} - 2 u_{xxx} u_{xx}\n",
      "\\right)\n",
      " + \\tau^2\\left(\n",
      "18 u^{3} u_{xxx} + 9 u^{2} u_{xxxxx} + 162 u^{2} u_{xx} u_{x} + \\frac{3 u u_{xxxxxxx}}{2} + 63 u u_{xxxx} u_{x} + 99 u u_{xxx} u_{xx} + 108 u u_{x}^{3} + \\frac{u_{xxxxxxxxx}}{12} + 6 u_{xxxxxx} u_{x} + \\frac{27 u_{xxxxx} u_{xx}}{2} + 21 u_{xxxx} u_{xxx} + 81 u_{xxx} u_{x}^{2} + 99 u_{xx}^{2} u_{x}\n",
      "\\right)\n",
      "None\n"
     ]
    }
   ],
   "source": [
    "Ffda = NF(F, [u.diff(t)], [F], head=False)\n",
    "prn(Ffda)\n",
    "print(prnlatex(Ffda))"
   ]
  },
  {
   "cell_type": "code",
   "execution_count": 52,
   "metadata": {},
   "outputs": [],
   "source": [
    "pda_n, pda_clp = (6, 8), (3, 5)\n",
    "pda_p = Rational(3, 2), Rational(2, 1)"
   ]
  },
  {
   "cell_type": "code",
   "execution_count": 53,
   "metadata": {},
   "outputs": [
    {
     "data": {
      "image/png": "[encoded data removed]",
      "text/latex": [
       "$$6 u u_{x} + u_{t} + u_{xxx}$$"
      ],
      "text/plain": [
       "6⋅u⋅u_{x} + u_{t} + u_{xxx}"
      ]
     },
     "metadata": {},
     "output_type": "display_data"
    },
    {
     "name": "stdout",
     "output_type": "stream",
     "text": [
      "h =>\n"
     ]
    },
    {
     "data": {
      "image/png": "[encoded data removed]",
      "text/latex": [
       "$$- 12 u u_{xx} - 2 u_{tx} - 2 u_{xxxx} - 12 u_{x}^{2}$$"
      ],
      "text/plain": [
       "                                               2\n",
       "-12⋅u⋅u_{xx} - 2⋅u_{tx} - 2⋅u_{xxxx} - 12⋅u_{x} "
      ]
     },
     "metadata": {},
     "output_type": "display_data"
    },
    {
     "name": "stdout",
     "output_type": "stream",
     "text": [
      "h^2 =>\n"
     ]
    },
    {
     "data": {
      "image/png": "[encoded data removed]",
      "text/latex": [
       "$$12 u u_{xxx} + 2 u_{txx} + 2 u_{xxxxx} + 36 u_{xx} u_{x}$$"
      ],
      "text/plain": [
       "12⋅u⋅u_{xxx} + 2⋅u_{txx} + 2⋅u_{xxxxx} + 36⋅u_{xx}⋅u_{x}"
      ]
     },
     "metadata": {},
     "output_type": "display_data"
    },
    {
     "name": "stdout",
     "output_type": "stream",
     "text": [
      "h^3 =>\n"
     ]
    },
    {
     "data": {
      "image/png": "[encoded data removed]",
      "text/latex": [
       "$$- 8 u u_{xxxx} - \\frac{4 u_{txxx}}{3} - \\frac{4 u_{xxxxxx}}{3} - 32 u_{xxx} u_{x} - 24 u_{xx}^{2}$$"
      ],
      "text/plain": [
       "                4⋅u_{txxx}   4⋅u_{xxxxxx}                               2\n",
       "-8⋅u⋅u_{xxxx} - ────────── - ──────────── - 32⋅u_{xxx}⋅u_{x} - 24⋅u_{xx} \n",
       "                    3             3                                      "
      ]
     },
     "metadata": {},
     "output_type": "display_data"
    },
    {
     "name": "stdout",
     "output_type": "stream",
     "text": [
      "h^4 =>\n"
     ]
    },
    {
     "data": {
      "image/png": "[encoded data removed]",
      "text/latex": [
       "$$\\frac{19 u u_{xxxxx}}{5} + \\frac{2 u_{txxxx}}{3} + \\frac{73 u_{xxxxxxx}}{120} + 19 u_{xxxx} u_{x} + 38 u_{xxx} u_{xx}$$"
      ],
      "text/plain": [
       "19⋅u⋅u_{xxxxx}   2⋅u_{txxxx}   73⋅u_{xxxxxxx}                                 \n",
       "────────────── + ─────────── + ────────────── + 19⋅u_{xxxx}⋅u_{x} + 38⋅u_{xxx}\n",
       "      5               3             120                                       \n",
       "\n",
       "       \n",
       "⋅u_{xx}\n",
       "       "
      ]
     },
     "metadata": {},
     "output_type": "display_data"
    },
    {
     "name": "stdout",
     "output_type": "stream",
     "text": [
      "tau =>\n"
     ]
    },
    {
     "data": {
      "image/png": "[encoded data removed]",
      "text/latex": [
       "$$- 6 u u_{tx} - u_{tt} - u_{txxx} - 6 u_{t} u_{x}$$"
      ],
      "text/plain": [
       "-6⋅u⋅u_{tx} - u_{tt} - u_{txxx} - 6⋅u_{t}⋅u_{x}"
      ]
     },
     "metadata": {},
     "output_type": "display_data"
    },
    {
     "name": "stdout",
     "output_type": "stream",
     "text": [
      "tau h =>\n"
     ]
    },
    {
     "data": {
      "image/png": "[encoded data removed]",
      "text/latex": [
       "$$12 u u_{txx} + 2 u_{ttx} + 2 u_{txxxx} + 24 u_{tx} u_{x} + 12 u_{t} u_{xx}$$"
      ],
      "text/plain": [
       "12⋅u⋅u_{txx} + 2⋅u_{ttx} + 2⋅u_{txxxx} + 24⋅u_{tx}⋅u_{x} + 12⋅u_{t}⋅u_{xx}"
      ]
     },
     "metadata": {},
     "output_type": "display_data"
    },
    {
     "name": "stdout",
     "output_type": "stream",
     "text": [
      "tau h^2 =>\n"
     ]
    },
    {
     "data": {
      "image/png": "[encoded data removed]",
      "text/latex": [
       "$$- 12 u u_{txxx} - 2 u_{ttxx} - 2 u_{txxxxx} - 36 u_{txx} u_{x} - 36 u_{tx} u_{xx} - 12 u_{t} u_{xxx}$$"
      ],
      "text/plain": [
       "-12⋅u⋅u_{txxx} - 2⋅u_{ttxx} - 2⋅u_{txxxxx} - 36⋅u_{txx}⋅u_{x} - 36⋅u_{tx}⋅u_{x\n",
       "x} - 12⋅u_{t}⋅u_{xxx}"
      ]
     },
     "metadata": {},
     "output_type": "display_data"
    },
    {
     "name": "stdout",
     "output_type": "stream",
     "text": [
      "tau h^3 =>\n"
     ]
    },
    {
     "data": {
      "image/png": "[encoded data removed]",
      "text/latex": [
       "$$8 u u_{txxxx} + \\frac{4 u_{ttxxx}}{3} + \\frac{4 u_{txxxxxx}}{3} + 32 u_{txxx} u_{x} + 48 u_{txx} u_{xx} + 32 u_{tx} u_{xxx} + 8 u_{t} u_{xxxx}$$"
      ],
      "text/plain": [
       "                4⋅u_{ttxxx}   4⋅u_{txxxxxx}                                   \n",
       "8⋅u⋅u_{txxxx} + ─────────── + ───────────── + 32⋅u_{txxx}⋅u_{x} + 48⋅u_{txx}⋅u\n",
       "                     3              3                                         \n",
       "\n",
       "                                            \n",
       "_{xx} + 32⋅u_{tx}⋅u_{xxx} + 8⋅u_{t}⋅u_{xxxx}\n",
       "                                            "
      ]
     },
     "metadata": {},
     "output_type": "display_data"
    },
    {
     "name": "stdout",
     "output_type": "stream",
     "text": [
      "tau^2 =>\n"
     ]
    },
    {
     "data": {
      "image/png": "[encoded data removed]",
      "text/latex": [
       "$$\\frac{15 u u_{ttx}}{4} + \\frac{13 u_{ttt}}{24} + \\frac{5 u_{ttxxx}}{8} + \\frac{15 u_{tt} u_{x}}{4} + \\frac{15 u_{tx} u_{t}}{2}$$"
      ],
      "text/plain": [
       "15⋅u⋅u_{ttx}   13⋅u_{ttt}   5⋅u_{ttxxx}   15⋅u_{tt}⋅u_{x}   15⋅u_{tx}⋅u_{t}\n",
       "──────────── + ────────── + ─────────── + ─────────────── + ───────────────\n",
       "     4             24            8               4                 2       "
      ]
     },
     "metadata": {},
     "output_type": "display_data"
    },
    {
     "name": "stdout",
     "output_type": "stream",
     "text": [
      "6 u u_{x} + u_{t} + u_{xxx}\n",
      " + h\\left(\n",
      "- 12 u u_{xx} - 2 u_{tx} - 2 u_{xxxx} - 12 u_{x}^{2}\n",
      "\\right)\n",
      " + h^2\\left(\n",
      "12 u u_{xxx} + 2 u_{txx} + 2 u_{xxxxx} + 36 u_{xx} u_{x}\n",
      "\\right)\n",
      " + h^3\\left(\n",
      "- 8 u u_{xxxx} - \\frac{4 u_{txxx}}{3} - \\frac{4 u_{xxxxxx}}{3} - 32 u_{xxx} u_{x} - 24 u_{xx}^{2}\n",
      "\\right)\n",
      " + h^4\\left(\n",
      "\\frac{19 u u_{xxxxx}}{5} + \\frac{2 u_{txxxx}}{3} + \\frac{73 u_{xxxxxxx}}{120} + 19 u_{xxxx} u_{x} + 38 u_{xxx} u_{xx}\n",
      "\\right)\n",
      " + \\tau\\left(\n",
      "- 6 u u_{tx} - u_{tt} - u_{txxx} - 6 u_{t} u_{x}\n",
      "\\right)\n",
      " + \\tau h\\left(\n",
      "12 u u_{txx} + 2 u_{ttx} + 2 u_{txxxx} + 24 u_{tx} u_{x} + 12 u_{t} u_{xx}\n",
      "\\right)\n",
      " + \\tau h^2\\left(\n",
      "- 12 u u_{txxx} - 2 u_{ttxx} - 2 u_{txxxxx} - 36 u_{txx} u_{x} - 36 u_{tx} u_{xx} - 12 u_{t} u_{xxx}\n",
      "\\right)\n",
      " + \\tau h^3\\left(\n",
      "8 u u_{txxxx} + \\frac{4 u_{ttxxx}}{3} + \\frac{4 u_{txxxxxx}}{3} + 32 u_{txxx} u_{x} + 48 u_{txx} u_{xx} + 32 u_{tx} u_{xxx} + 8 u_{t} u_{xxxx}\n",
      "\\right)\n",
      " + \\tau^2\\left(\n",
      "\\frac{15 u u_{ttx}}{4} + \\frac{13 u_{ttt}}{24} + \\frac{5 u_{ttxxx}}{8} + \\frac{15 u_{tt} u_{x}}{4} + \\frac{15 u_{tx} u_{t}}{2}\n",
      "\\right)\n"
     ]
    }
   ],
   "source": [
    "F = clip(Dt(u) + 3*Dx(u**2) + Dxxx(u))\n",
    "prn(F)\n",
    "prnlatex(F)"
   ]
  },
  {
   "cell_type": "code",
   "execution_count": 54,
   "metadata": {},
   "outputs": [
    {
     "data": {
      "image/png": "[encoded data removed]",
      "text/latex": [
       "$$6 u u_{x} + u_{t} + u_{xxx}$$"
      ],
      "text/plain": [
       "6⋅u⋅u_{x} + u_{t} + u_{xxx}"
      ]
     },
     "metadata": {},
     "output_type": "display_data"
    },
    {
     "name": "stdout",
     "output_type": "stream",
     "text": [
      "h^4 =>\n"
     ]
    },
    {
     "data": {
      "image/png": "[encoded data removed]",
      "text/latex": [
       "$$- \\frac{u u_{xxxxx}}{5} - \\frac{7 u_{xxxxxxx}}{120} - u_{xxxx} u_{x} - 2 u_{xxx} u_{xx}$$"
      ],
      "text/plain": [
       "  u⋅u_{xxxxx}   7⋅u_{xxxxxxx}                                    \n",
       "- ─────────── - ───────────── - u_{xxxx}⋅u_{x} - 2⋅u_{xxx}⋅u_{xx}\n",
       "       5             120                                         "
      ]
     },
     "metadata": {},
     "output_type": "display_data"
    },
    {
     "name": "stdout",
     "output_type": "stream",
     "text": [
      "tau^2 =>\n"
     ]
    },
    {
     "data": {
      "image/png": "[encoded data removed]",
      "text/latex": [
       "$$18 u^{3} u_{xxx} + 9 u^{2} u_{xxxxx} + 162 u^{2} u_{xx} u_{x} + \\frac{3 u u_{xxxxxxx}}{2} + 63 u u_{xxxx} u_{x} + 99 u u_{xxx} u_{xx} + 108 u u_{x}^{3} + \\frac{u_{xxxxxxxxx}}{12} + 6 u_{xxxxxx} u_{x} + \\frac{27 u_{xxxxx} u_{xx}}{2} + 21 u_{xxxx} u_{xxx} + 81 u_{xxx} u_{x}^{2} + 99 u_{xx}^{2} u_{x}$$"
      ],
      "text/plain": [
       "    3              2                  2                3⋅u⋅u_{xxxxxxx}        \n",
       "18⋅u ⋅u_{xxx} + 9⋅u ⋅u_{xxxxx} + 162⋅u ⋅u_{xx}⋅u_{x} + ─────────────── + 63⋅u⋅\n",
       "                                                              2               \n",
       "\n",
       "                                                  3   u_{xxxxxxxxx}           \n",
       "u_{xxxx}⋅u_{x} + 99⋅u⋅u_{xxx}⋅u_{xx} + 108⋅u⋅u_{x}  + ───────────── + 6⋅u_{xxx\n",
       "                                                            12                \n",
       "\n",
       "             27⋅u_{xxxxx}⋅u_{xx}                                         2    \n",
       "xxx}⋅u_{x} + ─────────────────── + 21⋅u_{xxxx}⋅u_{xxx} + 81⋅u_{xxx}⋅u_{x}  + 9\n",
       "                      2                                                       \n",
       "\n",
       "        2      \n",
       "9⋅u_{xx} ⋅u_{x}\n",
       "               "
      ]
     },
     "metadata": {},
     "output_type": "display_data"
    },
    {
     "name": "stdout",
     "output_type": "stream",
     "text": [
      "6 u u_{x} + u_{t} + u_{xxx}\n",
      " + h^4\\left(\n",
      "- \\frac{u u_{xxxxx}}{5} - \\frac{7 u_{xxxxxxx}}{120} - u_{xxxx} u_{x} - 2 u_{xxx} u_{xx}\n",
      "\\right)\n",
      " + \\tau^2\\left(\n",
      "18 u^{3} u_{xxx} + 9 u^{2} u_{xxxxx} + 162 u^{2} u_{xx} u_{x} + \\frac{3 u u_{xxxxxxx}}{2} + 63 u u_{xxxx} u_{x} + 99 u u_{xxx} u_{xx} + 108 u u_{x}^{3} + \\frac{u_{xxxxxxxxx}}{12} + 6 u_{xxxxxx} u_{x} + \\frac{27 u_{xxxxx} u_{xx}}{2} + 21 u_{xxxx} u_{xxx} + 81 u_{xxx} u_{x}^{2} + 99 u_{xx}^{2} u_{x}\n",
      "\\right)\n",
      "None\n"
     ]
    }
   ],
   "source": [
    "Ffda = NF(F, [u.diff(t)], [F], head=False)\n",
    "prn(Ffda)\n",
    "print(prnlatex(Ffda))"
   ]
  },
  {
   "cell_type": "code",
   "execution_count": 55,
   "metadata": {},
   "outputs": [
    {
     "data": {
      "image/png": "[encoded data removed]",
      "text/latex": [
       "$$\\frac{32 k^{9} \\left(- 2205 \\sinh^{6}{\\left (4 k^{3} t - k x \\right )} + 4410 \\sinh^{4}{\\left (4 k^{3} t - k x \\right )} \\cosh^{2}{\\left (4 k^{3} t - k x \\right )} - 1260 \\sinh^{4}{\\left (4 k^{3} t - k x \\right )} - 2646 \\sinh^{2}{\\left (4 k^{3} t - k x \\right )} \\cosh^{4}{\\left (4 k^{3} t - k x \\right )} + 1350 \\sinh^{2}{\\left (4 k^{3} t - k x \\right )} \\cosh^{2}{\\left (4 k^{3} t - k x \\right )} + 434 \\cosh^{6}{\\left (4 k^{3} t - k x \\right )} - 282 \\cosh^{4}{\\left (4 k^{3} t - k x \\right )}\\right) \\sinh{\\left (4 k^{3} t - k x \\right )}}{15 \\cosh^{9}{\\left (4 k^{3} t - k x \\right )}}$$"
      ],
      "text/plain": [
       "    9 ⎛           6⎛   3        ⎞            4⎛   3        ⎞     2⎛   3       \n",
       "32⋅k ⋅⎝- 2205⋅sinh ⎝4⋅k ⋅t - k⋅x⎠ + 4410⋅sinh ⎝4⋅k ⋅t - k⋅x⎠⋅cosh ⎝4⋅k ⋅t - k⋅\n",
       "──────────────────────────────────────────────────────────────────────────────\n",
       "                                                                              \n",
       "                                                                              \n",
       "\n",
       " ⎞            4⎛   3        ⎞            2⎛   3        ⎞     4⎛   3        ⎞  \n",
       "x⎠ - 1260⋅sinh ⎝4⋅k ⋅t - k⋅x⎠ - 2646⋅sinh ⎝4⋅k ⋅t - k⋅x⎠⋅cosh ⎝4⋅k ⋅t - k⋅x⎠ +\n",
       "──────────────────────────────────────────────────────────────────────────────\n",
       "                                                       9⎛   3        ⎞        \n",
       "                                                15⋅cosh ⎝4⋅k ⋅t - k⋅x⎠        \n",
       "\n",
       "          2⎛   3        ⎞     2⎛   3        ⎞           6⎛   3        ⎞       \n",
       " 1350⋅sinh ⎝4⋅k ⋅t - k⋅x⎠⋅cosh ⎝4⋅k ⋅t - k⋅x⎠ + 434⋅cosh ⎝4⋅k ⋅t - k⋅x⎠ - 282⋅\n",
       "──────────────────────────────────────────────────────────────────────────────\n",
       "                                                                              \n",
       "                                                                              \n",
       "\n",
       "    4⎛   3        ⎞⎞     ⎛   3        ⎞\n",
       "cosh ⎝4⋅k ⋅t - k⋅x⎠⎠⋅sinh⎝4⋅k ⋅t - k⋅x⎠\n",
       "───────────────────────────────────────\n",
       "                                       \n",
       "                                       "
      ]
     },
     "execution_count": 55,
     "metadata": {},
     "output_type": "execute_result"
    }
   ],
   "source": [
    "Ffda[1][1].subs({u: exact1}).doit().trigsimp().combsimp()"
   ]
  },
  {
   "cell_type": "code",
   "execution_count": 56,
   "metadata": {},
   "outputs": [
    {
     "data": {
      "image/png": "[encoded data removed]",
      "text/latex": [
       "$$\\frac{64 k^{11} \\left(28350 \\sinh^{8}{\\left (4 k^{3} t - k x \\right )} - 75600 \\sinh^{6}{\\left (4 k^{3} t - k x \\right )} \\cosh^{2}{\\left (4 k^{3} t - k x \\right )} + 44955 \\sinh^{6}{\\left (4 k^{3} t - k x \\right )} + 69930 \\sinh^{4}{\\left (4 k^{3} t - k x \\right )} \\cosh^{4}{\\left (4 k^{3} t - k x \\right )} - 78705 \\sinh^{4}{\\left (4 k^{3} t - k x \\right )} \\cosh^{2}{\\left (4 k^{3} t - k x \\right )} + 19035 \\sinh^{4}{\\left (4 k^{3} t - k x \\right )} - 25440 \\sinh^{2}{\\left (4 k^{3} t - k x \\right )} \\cosh^{6}{\\left (4 k^{3} t - k x \\right )} + 39987 \\sinh^{2}{\\left (4 k^{3} t - k x \\right )} \\cosh^{4}{\\left (4 k^{3} t - k x \\right )} - 17982 \\sinh^{2}{\\left (4 k^{3} t - k x \\right )} \\cosh^{2}{\\left (4 k^{3} t - k x \\right )} + 2430 \\sinh^{2}{\\left (4 k^{3} t - k x \\right )} + 2764 \\cosh^{8}{\\left (4 k^{3} t - k x \\right )} - 5229 \\cosh^{6}{\\left (4 k^{3} t - k x \\right )} + 3159 \\cosh^{4}{\\left (4 k^{3} t - k x \\right )} - 702 \\cosh^{2}{\\left (4 k^{3} t - k x \\right )}\\right) \\sinh{\\left (4 k^{3} t - k x \\right )}}{3 \\cosh^{11}{\\left (4 k^{3} t - k x \\right )}}$$"
      ],
      "text/plain": [
       "    11 ⎛          8⎛   3        ⎞             6⎛   3        ⎞     2⎛   3      \n",
       "64⋅k  ⋅⎝28350⋅sinh ⎝4⋅k ⋅t - k⋅x⎠ - 75600⋅sinh ⎝4⋅k ⋅t - k⋅x⎠⋅cosh ⎝4⋅k ⋅t - k\n",
       "──────────────────────────────────────────────────────────────────────────────\n",
       "                                                                              \n",
       "                                                                              \n",
       "\n",
       "  ⎞             6⎛   3        ⎞             4⎛   3        ⎞     4⎛   3        \n",
       "⋅x⎠ + 44955⋅sinh ⎝4⋅k ⋅t - k⋅x⎠ + 69930⋅sinh ⎝4⋅k ⋅t - k⋅x⎠⋅cosh ⎝4⋅k ⋅t - k⋅x\n",
       "──────────────────────────────────────────────────────────────────────────────\n",
       "                                                                              \n",
       "                                                                              \n",
       "\n",
       "⎞             4⎛   3        ⎞     2⎛   3        ⎞             4⎛   3        ⎞ \n",
       "⎠ - 78705⋅sinh ⎝4⋅k ⋅t - k⋅x⎠⋅cosh ⎝4⋅k ⋅t - k⋅x⎠ + 19035⋅sinh ⎝4⋅k ⋅t - k⋅x⎠ \n",
       "──────────────────────────────────────────────────────────────────────────────\n",
       "                                                                              \n",
       "                                                                              \n",
       "\n",
       "            2⎛   3        ⎞     6⎛   3        ⎞             2⎛   3        ⎞   \n",
       "- 25440⋅sinh ⎝4⋅k ⋅t - k⋅x⎠⋅cosh ⎝4⋅k ⋅t - k⋅x⎠ + 39987⋅sinh ⎝4⋅k ⋅t - k⋅x⎠⋅co\n",
       "──────────────────────────────────────────────────────────────────────────────\n",
       "                           11⎛   3        ⎞                                   \n",
       "                     3⋅cosh  ⎝4⋅k ⋅t - k⋅x⎠                                   \n",
       "\n",
       "  4⎛   3        ⎞             2⎛   3        ⎞     2⎛   3        ⎞            2\n",
       "sh ⎝4⋅k ⋅t - k⋅x⎠ - 17982⋅sinh ⎝4⋅k ⋅t - k⋅x⎠⋅cosh ⎝4⋅k ⋅t - k⋅x⎠ + 2430⋅sinh \n",
       "──────────────────────────────────────────────────────────────────────────────\n",
       "                                                                              \n",
       "                                                                              \n",
       "\n",
       "⎛   3        ⎞            8⎛   3        ⎞            6⎛   3        ⎞          \n",
       "⎝4⋅k ⋅t - k⋅x⎠ + 2764⋅cosh ⎝4⋅k ⋅t - k⋅x⎠ - 5229⋅cosh ⎝4⋅k ⋅t - k⋅x⎠ + 3159⋅co\n",
       "──────────────────────────────────────────────────────────────────────────────\n",
       "                                                                              \n",
       "                                                                              \n",
       "\n",
       "  4⎛   3        ⎞           2⎛   3        ⎞⎞     ⎛   3        ⎞\n",
       "sh ⎝4⋅k ⋅t - k⋅x⎠ - 702⋅cosh ⎝4⋅k ⋅t - k⋅x⎠⎠⋅sinh⎝4⋅k ⋅t - k⋅x⎠\n",
       "───────────────────────────────────────────────────────────────\n",
       "                                                               \n",
       "                                                               "
      ]
     },
     "execution_count": 56,
     "metadata": {},
     "output_type": "execute_result"
    }
   ],
   "source": [
    "Ffda[2][1].subs({u: exact1}).doit().trigsimp().combsimp()"
   ]
  },
  {
   "cell_type": "code",
   "execution_count": null,
   "metadata": {},
   "outputs": [],
   "source": []
  }
 ],
 "metadata": {
  "kernelspec": {
   "display_name": "Python 3",
   "language": "python",
   "name": "python3"
  },
  "language_info": {
   "codemirror_mode": {
    "name": "ipython",
    "version": 3
   },
   "file_extension": ".py",
   "mimetype": "text/x-python",
   "name": "python",
   "nbconvert_exporter": "python",
   "pygments_lexer": "ipython3",
   "version": "3.7.3"
  }
 },
 "nbformat": 4,
 "nbformat_minor": 2
}
