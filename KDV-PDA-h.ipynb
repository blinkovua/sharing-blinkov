{
 "cells": [
  {
   "cell_type": "code",
   "execution_count": 1,
   "metadata": {},
   "outputs": [],
   "source": [
    "from IPython.display import display\n",
    "\n",
    "from sympy import *\n",
    "init_printing()\n",
    "\n",
    "from monom import *"
   ]
  },
  {
   "cell_type": "code",
   "execution_count": 2,
   "metadata": {},
   "outputs": [],
   "source": [
    "t, x, tau, h, k = symbols(r't, x, tau, h, k', real=True)\n",
    "u = symbols('u', cls=Function)(t, x)"
   ]
  },
  {
   "cell_type": "code",
   "execution_count": 74,
   "metadata": {},
   "outputs": [],
   "source": [
    "pda_f, pda_v = (u,), (t, x)\n",
    "pda_n, pda_clp = 7, 5\n",
    "pda_p = Rational(0, 1), Rational(0, 1)"
   ]
  },
  {
   "cell_type": "code",
   "execution_count": 4,
   "metadata": {},
   "outputs": [],
   "source": [
    "Monom.variables = 1 + len(pda_v)\n",
    "Monom.cmp = Monom.TOPdeglex\n",
    "Monom.zero = Monom(0 for v in range(Monom.variables))\n",
    "pda_fun = dict(zip(pda_f,\\\n",
    "             (Monom(0 if v else i for v in range(Monom.variables))\\\n",
    "              for i in range(1, Monom.variables))))\n",
    "pda_var = dict(zip(pda_v,\\\n",
    "             (Monom(0 if v != i else 1 for v in range(Monom.variables))\\\n",
    "              for i in range(1, Monom.variables))))"
   ]
  },
  {
   "cell_type": "code",
   "execution_count": 5,
   "metadata": {},
   "outputs": [],
   "source": [
    "def T(f, j1, k1):\n",
    "    return sum(sum(\\\n",
    "        diff(f, t, j, x, k)*(tau*(j1+pda_p[0]))**j\\\n",
    "                             *(h*(k1+pda_p[1]))**k/\\\n",
    "               (factorial(j)*factorial(k))\\\n",
    "               for k in range(pda_n-j)) for j in range(pda_n))"
   ]
  },
  {
   "cell_type": "code",
   "execution_count": 67,
   "metadata": {},
   "outputs": [],
   "source": [
    "def clip(f):\n",
    "    f = f.expand()\n",
    "    return [f.coeff(h, i) for i in range(pda_clp)]\n",
    "\n",
    "def df2m(a):\n",
    "    assert a.func == Derivative\n",
    "    m = pda_fun[a.args[0]]\n",
    "    for xi in a.args[1:]:\n",
    "        if isinstance(xi, Symbol):\n",
    "            m = m*pda_var[xi]\n",
    "        else:\n",
    "            m = m*pda_var[xi[0]]**xi[1]\n",
    "    return m\n",
    "\n",
    "def m2df(m):\n",
    "    r = pda_f[m[0]-1]\n",
    "    for i in range(1, len(m)):\n",
    "        r = r.diff(pda_v[i-1], m[i])\n",
    "    return r\n",
    "\n",
    "def findDiv(a, d):\n",
    "    r = None\n",
    "    def find(a, r):\n",
    "        if a.args:\n",
    "            if a.func == Derivative and a.args[0] in pda_fun:\n",
    "                m = df2m(a)\n",
    "                if m.divisible(d) and (not r or m.cmp(r) > 0):\n",
    "                    r = m\n",
    "            else:\n",
    "                for s in a.args:\n",
    "                    r = find(s, r)\n",
    "        return r\n",
    "    return find(a, r)\n",
    "\n",
    "def reduction(f1, f2, m, c, shift):\n",
    "    assert shift < pda_clp\n",
    "    r = [f1[i] for i in range(shift)]\n",
    "    if not m:\n",
    "        for i in range(shift, pda_clp):\n",
    "            r.append(expand(f1[i] - f2[i-shift]*c))\n",
    "    else:\n",
    "        for i in range(shift, pda_clp):\n",
    "            r.append(expand(f1[i] - f2[i-shift].diff(*m)*c))\n",
    "    return r\n",
    "\n",
    "def NF(f, df, G):\n",
    "    assert len(df) == len(G)\n",
    "#     print(df2m(df[0]))\n",
    "    ms = [df2m(d) for d in df]\n",
    "    for i in range(1, pda_clp):\n",
    "        t = 0\n",
    "        if f[i]:\n",
    "            while True:\n",
    "                r = None\n",
    "                for l in range(len(ms)):\n",
    "                    r = findDiv(f[i], ms[l])\n",
    "                    if r:\n",
    "                        break\n",
    "                if not r: \n",
    "                    break\n",
    "                c, deg, m = 0, 7, m2df(r)\n",
    "                while c == 0:\n",
    "                    c = f[i].coeff(m, deg)\n",
    "                    deg -= 1\n",
    "                    assert deg >= 0\n",
    "#                 print(c, m, deg+1)\n",
    "                if deg:\n",
    "                    c *= m**deg\n",
    "                m = r/ms[l]\n",
    "                d = []\n",
    "                for k in range(len(pda_v)):\n",
    "                    if m[k+1] > 0:\n",
    "                        d.append(pda_v[k])\n",
    "                        if m[k+1] > 1:\n",
    "                            d.append(m[k+1])\n",
    "                f = reduction(f, G[l], tuple(d), c, i)\n",
    "                t += 1\n",
    "#                 if t > 6: break\n",
    "    return f\n",
    "\n",
    "def compact(f):\n",
    "    def cmpct(a):\n",
    "        if not a.args:\n",
    "            return a\n",
    "        else:\n",
    "            if a in pda_fun:\n",
    "                return Symbol(\"%s\" % a.func, real=True)\n",
    "            elif a.func == Derivative and a.args[0] in pda_fun:\n",
    "                m = []\n",
    "                for xi in a.args[1:]:\n",
    "                    if isinstance(xi, Symbol):\n",
    "                        m.append(str(xi))\n",
    "                    else:\n",
    "                        m.append(str(xi[0])*xi[1])\n",
    "                return Symbol(\"%s_{%s}\" % (a.args[0].func, \"\".join(m)), real=True)\n",
    "            else:\n",
    "                return a.func(*tuple(cmpct(s) for s in a.args))\n",
    "    return [cmpct(a) for a in f]"
   ]
  },
  {
   "cell_type": "markdown",
   "metadata": {},
   "source": [
    "The KdV equation is often written in a slightly different form, e.g.,\n",
    "\\begin{equation}\n",
    "\\partial_t u + \\alpha u \\partial_x u  + \\beta \\partial_x^3 u = 0 \\tag{1.18}\n",
    "\\end{equation}"
   ]
  },
  {
   "cell_type": "code",
   "execution_count": 49,
   "metadata": {},
   "outputs": [],
   "source": [
    "# a, b = symbols(r'alpha beta', real=True)\n",
    "a, b = 6, 1"
   ]
  },
  {
   "cell_type": "markdown",
   "metadata": {},
   "source": [
    "we explicit scheme with $O(\\tau^2, h^2)$ approximation:\n",
    "\\begin{align}\n",
    " u^{n+1}_{i} =& u^{n-1}_{i} -\\dfrac{\\alpha \\tau}{h}u^{n}_{i}\\left(u^{n}_{i+1} - u^{n}_{i-1}\\right)\\\\\n",
    " & - \\dfrac{\\beta \\tau}{h^3}\\left(u^{n}_{i+2} - 2u^{n}_{i+1} + 2u^{n}_{i-1} - u^{n}_{i-2}\\right) \\tag{1.80}\n",
    "\\end{align}\n",
    "\n",
    "for sufficiently small steps\n",
    "\\begin{equation}\n",
    "\\tau  \\leq \\dfrac{2h^3}{3\\sqrt{3}\\beta} \\cong 0.384\\dfrac{h^3}{\\beta} \\tag{1.81}\n",
    "\\end{equation}"
   ]
  },
  {
   "cell_type": "code",
   "execution_count": 50,
   "metadata": {},
   "outputs": [
    {
     "data": {
      "image/png": "[encoded data removed]",
      "text/latex": [
       "$$\\left ( \\frac{1}{2}, \\quad 0\\right )$$"
      ],
      "text/plain": [
       "(1/2, 0)"
      ]
     },
     "execution_count": 50,
     "metadata": {},
     "output_type": "execute_result"
    }
   ],
   "source": [
    "pda_p = Rational(1, 2), Rational(0, 1)\n",
    "pda_p"
   ]
  },
  {
   "cell_type": "code",
   "execution_count": 80,
   "metadata": {},
   "outputs": [
    {
     "data": {
      "image/png": "[encoded data removed]",
      "text/latex": [
       "$$\\left [ \\frac{h^{4} u u_{xxxxx}}{20} + h^{2} u u_{xxx} + \\frac{h^{2} u_{xxxxx}}{4} + \\frac{\\tau^{4} u_{ttttt}}{120} + \\frac{\\tau^{2} u_{ttt}}{6} + 6 u u_{x} + u_{t} + u_{xxx}\\right ]$$"
      ],
      "text/plain": [
       "⎡ 4                               2              4              2             \n",
       "⎢h ⋅u⋅u_{xxxxx}    2             h ⋅u_{xxxxx}   τ ⋅u_{ttttt}   τ ⋅u_{ttt}     \n",
       "⎢────────────── + h ⋅u⋅u_{xxx} + ──────────── + ──────────── + ────────── + 6⋅\n",
       "⎣      20                             4             120            6          \n",
       "\n",
       "                         ⎤\n",
       "                         ⎥\n",
       "u⋅u_{x} + u_{t} + u_{xxx}⎥\n",
       "                         ⎦"
      ]
     },
     "execution_count": 80,
     "metadata": {},
     "output_type": "execute_result"
    }
   ],
   "source": [
    "series = expand((T(u, 1, 0) - T(u, -1, 0))/(2*tau) +\\\n",
    "a/(2*h)*(T(u, 0, 0)*(T(u, 0, 1) - T(u, 0, -1))) +\\\n",
    "b/(2*h**3)*(T(u, 0, 2) - 2*T(u, 0, 1) + 2*T(u, 0, -1) - T(u, 0, -2)))\n",
    "compact([series])"
   ]
  },
  {
   "cell_type": "code",
   "execution_count": 76,
   "metadata": {},
   "outputs": [
    {
     "data": {
      "image/png": "[encoded data removed]",
      "text/latex": [
       "$$\\left [ 6 u u_{x} + u_{t} + u_{xxx}, \\quad 0, \\quad \\frac{k^{2} u_{ttt}}{6} + u u_{xxx} + \\frac{u_{xxxxx}}{4}, \\quad 0, \\quad \\frac{k^{4} u_{ttttt}}{120} + \\frac{u u_{xxxxx}}{20}\\right ]$$"
      ],
      "text/plain": [
       "⎡                                 2                                      4    \n",
       "⎢                                k ⋅u_{ttt}               u_{xxxxx}     k ⋅u_{\n",
       "⎢6⋅u⋅u_{x} + u_{t} + u_{xxx}, 0, ────────── + u⋅u_{xxx} + ─────────, 0, ──────\n",
       "⎣                                    6                        4             12\n",
       "\n",
       "                    ⎤\n",
       "ttttt}   u⋅u_{xxxxx}⎥\n",
       "────── + ───────────⎥\n",
       "0             20    ⎦"
      ]
     },
     "execution_count": 76,
     "metadata": {},
     "output_type": "execute_result"
    }
   ],
   "source": [
    "eq = clip(series.subs({tau: k*h}))\n",
    "compact(eq)"
   ]
  },
  {
   "cell_type": "code",
   "execution_count": 77,
   "metadata": {},
   "outputs": [
    {
     "data": {
      "image/png": "[encoded data removed]",
      "text/latex": [
       "$$\\left [ 6 u u_{x} + u_{t} + u_{xxx}, \\quad 0, \\quad - 36 k^{2} u^{3} u_{xxx} - 18 k^{2} u^{2} u_{xxxxx} - 324 k^{2} u^{2} u_{xx} u_{x} - 3 k^{2} u u_{xxxxxxx} - 126 k^{2} u u_{xxxx} u_{x} - 198 k^{2} u u_{xxx} u_{xx} - 216 k^{2} u u_{x}^{3} - \\frac{k^{2} u_{xxxxxxxxx}}{6} - 12 k^{2} u_{xxxxxx} u_{x} - 27 k^{2} u_{xxxxx} u_{xx} - 42 k^{2} u_{xxxx} u_{xxx} - 162 k^{2} u_{xxx} u_{x}^{2} - 198 k^{2} u_{xx}^{2} u_{x} + u u_{xxx} + \\frac{u_{xxxxx}}{4}, \\quad 0, \\quad \\frac{2916 k^{4} u^{5} u_{xxxxx}}{5} + 486 k^{4} u^{4} u_{xxxxxxx} + 12636 k^{4} u^{4} u_{xxxx} u_{x} + 23328 k^{4} u^{4} u_{xxx} u_{xx} + 162 k^{4} u^{3} u_{xxxxxxxxx} + 9720 k^{4} u^{3} u_{xxxxxx} u_{x} + 23652 k^{4} u^{3} u_{xxxxx} u_{xx} + 35964 k^{4} u^{3} u_{xxxx} u_{xxx} + 86184 k^{4} u^{3} u_{xxx} u_{x}^{2} + 121824 k^{4} u^{3} u_{xx}^{2} u_{x} + 27 k^{4} u^{2} u_{xxxxxxxxxxx} + 2754 k^{4} u^{2} u_{xxxxxxxx} u_{x} + 8370 k^{4} u^{2} u_{xxxxxxx} u_{xx} + 16956 k^{4} u^{2} u_{xxxxxx} u_{xxx} + 23922 k^{4} u^{2} u_{xxxxx} u_{xxxx} + 60912 k^{4} u^{2} u_{xxxxx} u_{x}^{2} + 249804 k^{4} u^{2} u_{xxxx} u_{xx} u_{x} + 157140 k^{4} u^{2} u_{xxx}^{2} u_{x} + 211572 k^{4} u^{2} u_{xxx} u_{xx}^{2} + 219672 k^{4} u^{2} u_{xx} u_{x}^{3} + \\frac{9 k^{4} u u_{xxxxxxxxxxxxx}}{4} + 342 k^{4} u u_{xxxxxxxxxx} u_{x} + 1251 k^{4} u u_{xxxxxxxxx} u_{xx} + \\frac{6309 k^{4} u u_{xxxxxxxx} u_{xxx}}{2} + \\frac{11403 k^{4} u u_{xxxxxxx} u_{xxxx}}{2} + 13563 k^{4} u u_{xxxxxxx} u_{x}^{2} + 7605 k^{4} u u_{xxxxxx} u_{xxxxx} + 73107 k^{4} u u_{xxxxxx} u_{xx} u_{x} + 130122 k^{4} u u_{xxxxx} u_{xxx} u_{x} + 86589 k^{4} u u_{xxxxx} u_{xx}^{2} + 78633 k^{4} u u_{xxxx}^{2} u_{x} + 264303 k^{4} u u_{xxxx} u_{xxx} u_{xx} + 138348 k^{4} u u_{xxxx} u_{x}^{3} + 55629 k^{4} u u_{xxx}^{3} + 695628 k^{4} u u_{xxx} u_{xx} u_{x}^{2} + 308448 k^{4} u u_{xx}^{3} u_{x} + 38880 k^{4} u u_{x}^{5} + \\frac{3 k^{4} u_{xxxxxxxxxxxxxxx}}{40} + \\frac{63 k^{4} u_{xxxxxxxxxxxx} u_{x}}{4} + \\frac{135 k^{4} u_{xxxxxxxxxxx} u_{xx}}{2} + \\frac{813 k^{4} u_{xxxxxxxxxx} u_{xxx}}{4} + \\frac{8949 k^{4} u_{xxxxxxxxx} u_{xxxx}}{20} + \\frac{1935 k^{4} u_{xxxxxxxxx} u_{x}^{2}}{2} + \\frac{2985 k^{4} u_{xxxxxxxx} u_{xxxxx}}{4} + \\frac{12933 k^{4} u_{xxxxxxxx} u_{xx} u_{x}}{2} + \\frac{3843 k^{4} u_{xxxxxxx} u_{xxxxxx}}{4} + \\frac{147381 k^{4} u_{xxxxxxx} u_{xxx} u_{x}}{10} + \\frac{97767 k^{4} u_{xxxxxxx} u_{xx}^{2}}{10} + \\frac{236589 k^{4} u_{xxxxxx} u_{xxxx} u_{x}}{10} + 39615 k^{4} u_{xxxxxx} u_{xxx} u_{xx} + 19125 k^{4} u_{xxxxxx} u_{x}^{3} + \\frac{137943 k^{4} u_{xxxxx}^{2} u_{x}}{10} + \\frac{111213 k^{4} u_{xxxxx} u_{xxxx} u_{xx}}{2} + \\frac{350943 k^{4} u_{xxxxx} u_{xxx}^{2}}{10} + \\frac{678537 k^{4} u_{xxxxx} u_{xx} u_{x}^{2}}{5} + \\frac{211236 k^{4} u_{xxxx}^{2} u_{xxx}}{5} + \\frac{1040841 k^{4} u_{xxxx} u_{xxx} u_{x}^{2}}{5} + \\frac{1384182 k^{4} u_{xxxx} u_{xx}^{2} u_{x}}{5} + 351603 k^{4} u_{xxx}^{2} u_{xx} u_{x} + 156762 k^{4} u_{xxx} u_{xx}^{3} + 92340 k^{4} u_{xxx} u_{x}^{4} + 242676 k^{4} u_{xx}^{2} u_{x}^{3} - 18 k^{2} u^{3} u_{xxxxx} - \\frac{21 k^{2} u^{2} u_{xxxxxxx}}{2} - 162 k^{2} u^{2} u_{xxxx} u_{x} - 216 k^{2} u^{2} u_{xxx} u_{xx} - 2 k^{2} u u_{xxxxxxxxx} - \\frac{159 k^{2} u u_{xxxxxx} u_{x}}{2} - 171 k^{2} u u_{xxxxx} u_{xx} - \\frac{525 k^{2} u u_{xxxx} u_{xxx}}{2} - 288 k^{2} u u_{xxx} u_{x}^{2} - 252 k^{2} u u_{xx}^{2} u_{x} - \\frac{k^{2} u_{xxxxxxxxxxx}}{8} - 9 k^{2} u_{xxxxxxxx} u_{x} - \\frac{105 k^{2} u_{xxxxxxx} u_{xx}}{4} - \\frac{213 k^{2} u_{xxxxxx} u_{xxx}}{4} - \\frac{147 k^{2} u_{xxxxx} u_{xxxx}}{2} - \\frac{225 k^{2} u_{xxxxx} u_{x}^{2}}{2} - \\frac{867 k^{2} u_{xxxx} u_{xx} u_{x}}{2} - 288 k^{2} u_{xxx}^{2} u_{x} - 366 k^{2} u_{xxx} u_{xx}^{2} + \\frac{u u_{xxxxx}}{20}\\right ]$$"
      ],
      "text/plain": [
       "⎡                                                                             \n",
       "⎢                                      2  3               2  2                \n",
       "⎢6⋅u⋅u_{x} + u_{t} + u_{xxx}, 0, - 36⋅k ⋅u ⋅u_{xxx} - 18⋅k ⋅u ⋅u_{xxxxx} - 324\n",
       "⎣                                                                             \n",
       "\n",
       "                                                                              \n",
       "  2  2                   2                      2                         2   \n",
       "⋅k ⋅u ⋅u_{xx}⋅u_{x} - 3⋅k ⋅u⋅u_{xxxxxxx} - 126⋅k ⋅u⋅u_{xxxx}⋅u_{x} - 198⋅k ⋅u⋅\n",
       "                                                                              \n",
       "\n",
       "                                    2                                         \n",
       "                      2        3   k ⋅u_{xxxxxxxxx}       2                   \n",
       "u_{xxx}⋅u_{xx} - 216⋅k ⋅u⋅u_{x}  - ──────────────── - 12⋅k ⋅u_{xxxxxx}⋅u_{x} -\n",
       "                                          6                                   \n",
       "\n",
       "                                                                              \n",
       "     2                        2                         2              2      \n",
       " 27⋅k ⋅u_{xxxxx}⋅u_{xx} - 42⋅k ⋅u_{xxxx}⋅u_{xxx} - 162⋅k ⋅u_{xxx}⋅u_{x}  - 198\n",
       "                                                                              \n",
       "\n",
       "                                                    4  5                      \n",
       "  2       2                     u_{xxxxx}     2916⋅k ⋅u ⋅u_{xxxxx}        4  4\n",
       "⋅k ⋅u_{xx} ⋅u_{x} + u⋅u_{xxx} + ─────────, 0, ──────────────────── + 486⋅k ⋅u \n",
       "                                    4                  5                      \n",
       "\n",
       "                                                                              \n",
       "                      4  4                         4  4                       \n",
       "⋅u_{xxxxxxx} + 12636⋅k ⋅u ⋅u_{xxxx}⋅u_{x} + 23328⋅k ⋅u ⋅u_{xxx}⋅u_{xx} + 162⋅k\n",
       "                                                                              \n",
       "\n",
       "                                                                              \n",
       "4  3                       4  3                           4  3                \n",
       " ⋅u ⋅u_{xxxxxxxxx} + 9720⋅k ⋅u ⋅u_{xxxxxx}⋅u_{x} + 23652⋅k ⋅u ⋅u_{xxxxx}⋅u_{xx\n",
       "                                                                              \n",
       "\n",
       "                                                                              \n",
       "           4  3                           4  3              2           4  3  \n",
       "} + 35964⋅k ⋅u ⋅u_{xxxx}⋅u_{xxx} + 86184⋅k ⋅u ⋅u_{xxx}⋅u_{x}  + 121824⋅k ⋅u ⋅u\n",
       "                                                                              \n",
       "\n",
       "                                                                              \n",
       "     2             4  2                         4  2                          \n",
       "_{xx} ⋅u_{x} + 27⋅k ⋅u ⋅u_{xxxxxxxxxxx} + 2754⋅k ⋅u ⋅u_{xxxxxxxx}⋅u_{x} + 8370\n",
       "                                                                              \n",
       "\n",
       "                                                                              \n",
       "  4  2                             4  2                             4  2      \n",
       "⋅k ⋅u ⋅u_{xxxxxxx}⋅u_{xx} + 16956⋅k ⋅u ⋅u_{xxxxxx}⋅u_{xxx} + 23922⋅k ⋅u ⋅u_{xx\n",
       "                                                                              \n",
       "\n",
       "                                                                              \n",
       "                       4  2                2           4  2                   \n",
       "xxx}⋅u_{xxxx} + 60912⋅k ⋅u ⋅u_{xxxxx}⋅u_{x}  + 249804⋅k ⋅u ⋅u_{xxxx}⋅u_{xx}⋅u_\n",
       "                                                                              \n",
       "\n",
       "                                                                              \n",
       "              4  2        2                 4  2               2           4  \n",
       "{x} + 157140⋅k ⋅u ⋅u_{xxx} ⋅u_{x} + 211572⋅k ⋅u ⋅u_{xxx}⋅u_{xx}  + 219672⋅k ⋅u\n",
       "                                                                              \n",
       "\n",
       "                     4                                                        \n",
       "2             3   9⋅k ⋅u⋅u_{xxxxxxxxxxxxx}        4                           \n",
       " ⋅u_{xx}⋅u_{x}  + ──────────────────────── + 342⋅k ⋅u⋅u_{xxxxxxxxxx}⋅u_{x} + 1\n",
       "                             4                                                \n",
       "\n",
       "                                      4                                 4     \n",
       "     4                          6309⋅k ⋅u⋅u_{xxxxxxxx}⋅u_{xxx}   11403⋅k ⋅u⋅u_\n",
       "251⋅k ⋅u⋅u_{xxxxxxxxx}⋅u_{xx} + ────────────────────────────── + ─────────────\n",
       "                                              2                               \n",
       "\n",
       "                                                                              \n",
       "{xxxxxxx}⋅u_{xxxx}          4                    2         4                  \n",
       "────────────────── + 13563⋅k ⋅u⋅u_{xxxxxxx}⋅u_{x}  + 7605⋅k ⋅u⋅u_{xxxxxx}⋅u_{x\n",
       "  2                                                                           \n",
       "\n",
       "                                                                              \n",
       "               4                                     4                        \n",
       "xxxx} + 73107⋅k ⋅u⋅u_{xxxxxx}⋅u_{xx}⋅u_{x} + 130122⋅k ⋅u⋅u_{xxxxx}⋅u_{xxx}⋅u_{\n",
       "                                                                              \n",
       "\n",
       "                                                                              \n",
       "            4                   2          4           2                 4    \n",
       "x} + 86589⋅k ⋅u⋅u_{xxxxx}⋅u_{xx}  + 78633⋅k ⋅u⋅u_{xxxx} ⋅u_{x} + 264303⋅k ⋅u⋅u\n",
       "                                                                              \n",
       "\n",
       "                                                                              \n",
       "                                 4                 3          4          3    \n",
       "_{xxxx}⋅u_{xxx}⋅u_{xx} + 138348⋅k ⋅u⋅u_{xxxx}⋅u_{x}  + 55629⋅k ⋅u⋅u_{xxx}  + 6\n",
       "                                                                              \n",
       "\n",
       "                                                                              \n",
       "       4                       2           4         3                4       \n",
       "95628⋅k ⋅u⋅u_{xxx}⋅u_{xx}⋅u_{x}  + 308448⋅k ⋅u⋅u_{xx} ⋅u_{x} + 38880⋅k ⋅u⋅u_{x\n",
       "                                                                              \n",
       "\n",
       "        4                           4                               4         \n",
       " 5   3⋅k ⋅u_{xxxxxxxxxxxxxxx}   63⋅k ⋅u_{xxxxxxxxxxxx}⋅u_{x}   135⋅k ⋅u_{xxxxx\n",
       "}  + ──────────────────────── + ──────────────────────────── + ───────────────\n",
       "                40                           4                               2\n",
       "\n",
       "                      4                                4                      \n",
       "xxxxxx}⋅u_{xx}   813⋅k ⋅u_{xxxxxxxxxx}⋅u_{xxx}   8949⋅k ⋅u_{xxxxxxxxx}⋅u_{xxxx\n",
       "────────────── + ───────────────────────────── + ─────────────────────────────\n",
       "                               4                               20             \n",
       "\n",
       "          4                    2         4                                 4  \n",
       "}   1935⋅k ⋅u_{xxxxxxxxx}⋅u_{x}    2985⋅k ⋅u_{xxxxxxxx}⋅u_{xxxxx}   12933⋅k ⋅u\n",
       "─ + ──────────────────────────── + ────────────────────────────── + ──────────\n",
       "                 2                               4                            \n",
       "\n",
       "                                 4                                  4         \n",
       "_{xxxxxxxx}⋅u_{xx}⋅u_{x}   3843⋅k ⋅u_{xxxxxxx}⋅u_{xxxxxx}   147381⋅k ⋅u_{xxxxx\n",
       "──────────────────────── + ────────────────────────────── + ──────────────────\n",
       "      2                                  4                                   1\n",
       "\n",
       "                           4                   2           4                  \n",
       "xx}⋅u_{xxx}⋅u_{x}   97767⋅k ⋅u_{xxxxxxx}⋅u_{xx}    236589⋅k ⋅u_{xxxxxx}⋅u_{xxx\n",
       "───────────────── + ──────────────────────────── + ───────────────────────────\n",
       "0                                10                                 10        \n",
       "\n",
       "                                                                              \n",
       "x}⋅u_{x}          4                                    4                 3   1\n",
       "──────── + 39615⋅k ⋅u_{xxxxxx}⋅u_{xxx}⋅u_{xx} + 19125⋅k ⋅u_{xxxxxx}⋅u_{x}  + ─\n",
       "                                                                              \n",
       "\n",
       "       4          2                 4                                     4   \n",
       "37943⋅k ⋅u_{xxxxx} ⋅u_{x}   111213⋅k ⋅u_{xxxxx}⋅u_{xxxx}⋅u_{xx}   350943⋅k ⋅u_\n",
       "───────────────────────── + ─────────────────────────────────── + ────────────\n",
       "           10                                2                                \n",
       "\n",
       "               2           4                       2           4         2    \n",
       "{xxxxx}⋅u_{xxx}    678537⋅k ⋅u_{xxxxx}⋅u_{xx}⋅u_{x}    211236⋅k ⋅u_{xxxx} ⋅u_{\n",
       "──────────────── + ───────────────────────────────── + ───────────────────────\n",
       " 10                                5                                5         \n",
       "\n",
       "                4                       2            4                2       \n",
       "xxx}   1040841⋅k ⋅u_{xxxx}⋅u_{xxx}⋅u_{x}    1384182⋅k ⋅u_{xxxx}⋅u_{xx} ⋅u_{x} \n",
       "──── + ────────────────────────────────── + ───────────────────────────────── \n",
       "                       5                                    5                 \n",
       "\n",
       "                                                                              \n",
       "          4        2                        4               3          4      \n",
       "+ 351603⋅k ⋅u_{xxx} ⋅u_{xx}⋅u_{x} + 156762⋅k ⋅u_{xxx}⋅u_{xx}  + 92340⋅k ⋅u_{xx\n",
       "                                                                              \n",
       "\n",
       "                                                                2  2          \n",
       "        4           4       2      3       2  3             21⋅k ⋅u ⋅u_{xxxxxx\n",
       "x}⋅u_{x}  + 242676⋅k ⋅u_{xx} ⋅u_{x}  - 18⋅k ⋅u ⋅u_{xxxxx} - ──────────────────\n",
       "                                                                     2        \n",
       "\n",
       "                                                                              \n",
       "x}        2  2                       2  2                     2               \n",
       "── - 162⋅k ⋅u ⋅u_{xxxx}⋅u_{x} - 216⋅k ⋅u ⋅u_{xxx}⋅u_{xx} - 2⋅k ⋅u⋅u_{xxxxxxxxx\n",
       "                                                                              \n",
       "\n",
       "         2                                                       2            \n",
       "    159⋅k ⋅u⋅u_{xxxxxx}⋅u_{x}        2                      525⋅k ⋅u⋅u_{xxxx}⋅\n",
       "} - ───────────────────────── - 171⋅k ⋅u⋅u_{xxxxx}⋅u_{xx} - ──────────────────\n",
       "                2                                                       2     \n",
       "\n",
       "                                                              2               \n",
       "u_{xxx}        2                2        2         2         k ⋅u_{xxxxxxxxxxx\n",
       "─────── - 288⋅k ⋅u⋅u_{xxx}⋅u_{x}  - 252⋅k ⋅u⋅u_{xx} ⋅u_{x} - ─────────────────\n",
       "                                                                     8        \n",
       "\n",
       "                                   2                           2              \n",
       "}      2                      105⋅k ⋅u_{xxxxxxx}⋅u_{xx}   213⋅k ⋅u_{xxxxxx}⋅u_\n",
       "─ - 9⋅k ⋅u_{xxxxxxxx}⋅u_{x} - ───────────────────────── - ────────────────────\n",
       "                                          4                           4       \n",
       "\n",
       "             2                           2                2        2          \n",
       "{xxx}   147⋅k ⋅u_{xxxxx}⋅u_{xxxx}   225⋅k ⋅u_{xxxxx}⋅u_{x}    867⋅k ⋅u_{xxxx}⋅\n",
       "───── - ───────────────────────── - ─────────────────────── - ────────────────\n",
       "                    2                          2                           2  \n",
       "\n",
       "                                                                           ⎤\n",
       "u_{xx}⋅u_{x}        2        2              2               2   u⋅u_{xxxxx}⎥\n",
       "──────────── - 288⋅k ⋅u_{xxx} ⋅u_{x} - 366⋅k ⋅u_{xxx}⋅u_{xx}  + ───────────⎥\n",
       "                                                                     20    ⎦"
      ]
     },
     "execution_count": 77,
     "metadata": {},
     "output_type": "execute_result"
    }
   ],
   "source": [
    "compact(NF(eq, [u.diff(t, 1)], [eq]))"
   ]
  },
  {
   "cell_type": "code",
   "execution_count": 78,
   "metadata": {},
   "outputs": [
    {
     "data": {
      "image/png": "[encoded data removed]",
      "text/latex": [
       "$$\\left [ 6 u u_{x} + u_{t} + u_{xxx}, \\quad 0, \\quad \\frac{k^{2} u_{ttt}}{6} + 3 u^{2} u_{x} + \\frac{u u_{t}}{2} - \\frac{u_{txx}}{4} - \\frac{9 u_{xx} u_{x}}{2}, \\quad 0, \\quad \\frac{k^{4} u_{ttttt}}{120} + \\frac{k^{2} u u_{ttt}}{12} - \\frac{k^{2} u_{tttxx}}{24} + \\frac{39 u^{3} u_{x}}{5} + \\frac{13 u^{2} u_{t}}{10} - \\frac{27 u u_{txx}}{40} - \\frac{693 u u_{xx} u_{x}}{20} - \\frac{u_{ttx}}{16} - \\frac{17 u_{tx} u_{x}}{8} - \\frac{31 u_{t} u_{xx}}{8} - \\frac{33 u_{x}^{3}}{4}\\right ]$$"
      ],
      "text/plain": [
       "⎡                                 2                                           \n",
       "⎢                                k ⋅u_{ttt}      2         u⋅u_{t}   u_{txx}  \n",
       "⎢6⋅u⋅u_{x} + u_{t} + u_{xxx}, 0, ────────── + 3⋅u ⋅u_{x} + ─────── - ─────── -\n",
       "⎣                                    6                        2         4     \n",
       "\n",
       "                     4              2              2                 3        \n",
       " 9⋅u_{xx}⋅u_{x}     k ⋅u_{ttttt}   k ⋅u⋅u_{ttt}   k ⋅u_{tttxx}   39⋅u ⋅u_{x}  \n",
       " ──────────────, 0, ──────────── + ──────────── - ──────────── + ─────────── +\n",
       "       2                120             12             24             5       \n",
       "\n",
       "     2                                                                        \n",
       " 13⋅u ⋅u_{t}   27⋅u⋅u_{txx}   693⋅u⋅u_{xx}⋅u_{x}   u_{ttx}   17⋅u_{tx}⋅u_{x}  \n",
       " ─────────── - ──────────── - ────────────────── - ─────── - ─────────────── -\n",
       "      10            40                20              16            8         \n",
       "\n",
       "                           3⎤\n",
       " 31⋅u_{t}⋅u_{xx}   33⋅u_{x} ⎥\n",
       " ─────────────── - ─────────⎥\n",
       "        8              4    ⎦"
      ]
     },
     "execution_count": 78,
     "metadata": {},
     "output_type": "execute_result"
    }
   ],
   "source": [
    "compact(NF(eq, [u.diff(x, 3)], [eq]))"
   ]
  },
  {
   "cell_type": "code",
   "execution_count": 25,
   "metadata": {},
   "outputs": [
    {
     "data": {
      "text/plain": [
       "u"
      ]
     },
     "execution_count": 25,
     "metadata": {},
     "output_type": "execute_result"
    }
   ],
   "source": [
    "u.func"
   ]
  },
  {
   "cell_type": "code",
   "execution_count": 42,
   "metadata": {},
   "outputs": [
    {
     "data": {
      "text/plain": [
       "u"
      ]
     },
     "execution_count": 42,
     "metadata": {},
     "output_type": "execute_result"
    }
   ],
   "source": [
    "pda_f[0].func"
   ]
  },
  {
   "cell_type": "code",
   "execution_count": null,
   "metadata": {},
   "outputs": [],
   "source": []
  }
 ],
 "metadata": {
  "kernelspec": {
   "display_name": "Python 3",
   "language": "python",
   "name": "python3"
  },
  "language_info": {
   "codemirror_mode": {
    "name": "ipython",
    "version": 3
   },
   "file_extension": ".py",
   "mimetype": "text/x-python",
   "name": "python",
   "nbconvert_exporter": "python",
   "pygments_lexer": "ipython3",
   "version": "3.7.5"
  }
 },
 "nbformat": 4,
 "nbformat_minor": 2
}
